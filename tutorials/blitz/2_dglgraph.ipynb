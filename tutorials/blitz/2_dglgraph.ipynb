{
 "cells": [
  {
   "cell_type": "markdown",
   "metadata": {},
   "source": [
    "\n",
    "# How Does DGL Represent A Graph?\n",
    "\n",
    "By the end of this tutorial you will be able to:\n",
    "\n",
    "-  Construct a graph in DGL from scratch.\n",
    "-  Assign node and edge features to a graph.\n",
    "-  Query properties of a DGL graph such as node degrees and\n",
    "   connectivity.\n",
    "-  Transform a DGL graph into another graph.\n",
    "-  Load and save DGL graphs.\n",
    "\n",
    "(Time estimate: 16 minutes)\n"
   ]
  },
  {
   "cell_type": "markdown",
   "metadata": {},
   "source": [
    "## DGL Graph Construction\n",
    "\n",
    "DGL represents a directed graph as a ``DGLGraph`` object. You can\n",
    "construct a graph by specifying the number of nodes in the graph as well\n",
    "as the list of source and destination nodes.  Nodes in the graph have\n",
    "consecutive IDs starting from 0.\n",
    "\n",
    "For instance, the following code constructs a directed star graph with 5\n",
    "leaves. The center node's ID is 0. The edges go from the\n",
    "center node to the leaves.\n",
    "\n",
    "\n"
   ]
  },
  {
   "cell_type": "code",
   "execution_count": 1,
   "metadata": {
    "collapsed": false,
    "execution": {
     "iopub.execute_input": "2024-08-12T07:45:32.693342Z",
     "iopub.status.busy": "2024-08-12T07:45:32.693105Z",
     "iopub.status.idle": "2024-08-12T07:45:34.948543Z",
     "shell.execute_reply": "2024-08-12T07:45:34.947866Z"
    }
   },
   "outputs": [],
   "source": [
    "import os\n",
    "\n",
    "os.environ[\"DGLBACKEND\"] = \"pytorch\"\n",
    "import dgl\n",
    "import numpy as np\n",
    "import torch\n",
    "\n",
    "g = dgl.graph(([0, 0, 0, 0, 0], [1, 2, 3, 4, 5]), num_nodes=6)\n",
    "# Equivalently, PyTorch LongTensors also work.\n",
    "g = dgl.graph(\n",
    "    (torch.LongTensor([0, 0, 0, 0, 0]), torch.LongTensor([1, 2, 3, 4, 5])),\n",
    "    num_nodes=6,\n",
    ")\n",
    "\n",
    "# You can omit the number of nodes argument if you can tell the number of nodes from the edge list alone.\n",
    "g = dgl.graph(([0, 0, 0, 0, 0], [1, 2, 3, 4, 5]))"
   ]
  },
  {
   "cell_type": "markdown",
   "metadata": {},
   "source": [
    "Edges in the graph have consecutive IDs starting from 0, and are\n",
    "in the same order as the list of source and destination nodes during\n",
    "creation.\n",
    "\n",
    "\n"
   ]
  },
  {
   "cell_type": "code",
   "execution_count": 2,
   "metadata": {
    "collapsed": false,
    "execution": {
     "iopub.execute_input": "2024-08-12T07:45:34.951945Z",
     "iopub.status.busy": "2024-08-12T07:45:34.951262Z",
     "iopub.status.idle": "2024-08-12T07:45:34.955801Z",
     "shell.execute_reply": "2024-08-12T07:45:34.955290Z"
    }
   },
   "outputs": [
    {
     "name": "stdout",
     "output_type": "stream",
     "text": [
      "(tensor([0, 0, 0, 0, 0]), tensor([1, 2, 3, 4, 5]))\n"
     ]
    }
   ],
   "source": [
    "# Print the source and destination nodes of every edge.\n",
    "print(g.edges())"
   ]
  },
  {
   "cell_type": "markdown",
   "metadata": {},
   "source": [
    "<div class=\"alert alert-info\"><h4>Note</h4><p>``DGLGraph``'s are always directed to best fit the computation\n",
    "    pattern of graph neural networks, where the messages sent\n",
    "    from one node to the other are often different between both\n",
    "    directions. If you want to handle undirected graphs, you may consider\n",
    "    treating it as a bidirectional graph. See [](2_dglgraph#graph-transformations) for an example of making\n",
    "    a bidirectional graph.</p></div>\n",
    "\n",
    "\n"
   ]
  },
  {
   "cell_type": "markdown",
   "metadata": {},
   "source": [
    "## Assigning Node and Edge Features to Graph\n",
    "\n",
    "Many graph data contain attributes on nodes and edges.\n",
    "Although the types of node and edge attributes can be arbitrary in real\n",
    "world, ``DGLGraph`` only accepts attributes stored in tensors (with\n",
    "numerical contents). Consequently, an attribute of all the nodes or\n",
    "edges must have the same shape. In the context of deep learning, those\n",
    "attributes are often called *features*.\n",
    "\n",
    "You can assign and retrieve node and edge features via ``ndata`` and\n",
    "``edata`` interface.\n",
    "\n",
    "\n"
   ]
  },
  {
   "cell_type": "code",
   "execution_count": 3,
   "metadata": {
    "collapsed": false,
    "execution": {
     "iopub.execute_input": "2024-08-12T07:45:34.957999Z",
     "iopub.status.busy": "2024-08-12T07:45:34.957748Z",
     "iopub.status.idle": "2024-08-12T07:45:34.963059Z",
     "shell.execute_reply": "2024-08-12T07:45:34.962538Z"
    }
   },
   "outputs": [
    {
     "name": "stdout",
     "output_type": "stream",
     "text": [
      "tensor([[ 0.2838,  0.7313, -0.3907, -0.8948],\n",
      "        [ 0.8773,  0.6123, -0.6040, -0.6645],\n",
      "        [ 0.0763, -0.5807,  0.3039, -0.0434],\n",
      "        [-0.2832,  0.7514,  1.3341,  0.6205],\n",
      "        [ 0.6647, -0.3760,  0.8073,  0.5963]])\n"
     ]
    }
   ],
   "source": [
    "# Assign a 3-dimensional node feature vector for each node.\n",
    "g.ndata[\"x\"] = torch.randn(6, 3)\n",
    "# Assign a 4-dimensional edge feature vector for each edge.\n",
    "g.edata[\"a\"] = torch.randn(5, 4)\n",
    "# Assign a 5x4 node feature matrix for each node.  Node and edge features in DGL can be multi-dimensional.\n",
    "g.ndata[\"y\"] = torch.randn(6, 5, 4)\n",
    "\n",
    "print(g.edata[\"a\"])"
   ]
  },
  {
   "cell_type": "markdown",
   "metadata": {},
   "source": [
    "<div class=\"alert alert-info\"><h4>Note</h4><p>The vast development of deep learning has provided us many\n",
    "  ways to encode various types of attributes into numerical features.\n",
    "  Here are some general suggestions:\n",
    "\n",
    "   -  For categorical attributes (e.g. gender, occupation), consider\n",
    "      converting them to integers or one-hot encoding.\n",
    "   -  For variable length string contents (e.g. news article, quote),\n",
    "      consider applying a language model.\n",
    "   -  For images, consider applying a vision model such as CNNs.\n",
    "\n",
    "   You can find plenty of materials on how to encode such attributes\n",
    "   into a tensor in the [PyTorch Deep Learning\n",
    "   Tutorials](https://pytorch.org/tutorials/).</p></div>\n",
    "\n",
    "\n"
   ]
  },
  {
   "cell_type": "markdown",
   "metadata": {},
   "source": [
    "## Querying Graph Structures\n",
    "\n",
    "``DGLGraph`` object provides various methods to query a graph structure.\n",
    "\n",
    "\n"
   ]
  },
  {
   "cell_type": "code",
   "execution_count": 4,
   "metadata": {
    "collapsed": false,
    "execution": {
     "iopub.execute_input": "2024-08-12T07:45:34.965215Z",
     "iopub.status.busy": "2024-08-12T07:45:34.964973Z",
     "iopub.status.idle": "2024-08-12T07:45:34.969420Z",
     "shell.execute_reply": "2024-08-12T07:45:34.968927Z"
    }
   },
   "outputs": [
    {
     "name": "stdout",
     "output_type": "stream",
     "text": [
      "6\n",
      "5\n",
      "5\n",
      "0\n"
     ]
    }
   ],
   "source": [
    "print(g.num_nodes())\n",
    "print(g.num_edges())\n",
    "# Out degrees of the center node\n",
    "print(g.out_degrees(0))\n",
    "# In degrees of the center node - note that the graph is directed so the in degree should be 0.\n",
    "print(g.in_degrees(0))"
   ]
  },
  {
   "cell_type": "markdown",
   "metadata": {},
   "source": [
    "## Graph Transformations\n",
    "\n",
    "\n"
   ]
  },
  {
   "cell_type": "markdown",
   "metadata": {},
   "source": [
    "DGL provides many APIs to transform a graph to another such as\n",
    "extracting a subgraph:\n",
    "\n",
    "\n"
   ]
  },
  {
   "cell_type": "code",
   "execution_count": 5,
   "metadata": {
    "collapsed": false,
    "execution": {
     "iopub.execute_input": "2024-08-12T07:45:34.971554Z",
     "iopub.status.busy": "2024-08-12T07:45:34.971311Z",
     "iopub.status.idle": "2024-08-12T07:45:34.976793Z",
     "shell.execute_reply": "2024-08-12T07:45:34.976298Z"
    }
   },
   "outputs": [],
   "source": [
    "# Induce a subgraph from node 0, node 1 and node 3 from the original graph.\n",
    "sg1 = g.subgraph([0, 1, 3])\n",
    "# Induce a subgraph from edge 0, edge 1 and edge 3 from the original graph.\n",
    "sg2 = g.edge_subgraph([0, 1, 3])"
   ]
  },
  {
   "cell_type": "markdown",
   "metadata": {},
   "source": [
    "You can obtain the node/edge mapping from the subgraph to the original\n",
    "graph by looking into the node feature ``dgl.NID`` or edge feature\n",
    "``dgl.EID`` in the new graph.\n",
    "\n",
    "\n"
   ]
  },
  {
   "cell_type": "code",
   "execution_count": 6,
   "metadata": {
    "collapsed": false,
    "execution": {
     "iopub.execute_input": "2024-08-12T07:45:34.978866Z",
     "iopub.status.busy": "2024-08-12T07:45:34.978602Z",
     "iopub.status.idle": "2024-08-12T07:45:34.982754Z",
     "shell.execute_reply": "2024-08-12T07:45:34.982263Z"
    }
   },
   "outputs": [
    {
     "name": "stdout",
     "output_type": "stream",
     "text": [
      "tensor([0, 1, 3])\n",
      "tensor([0, 2])\n",
      "tensor([0, 1, 2, 4])\n",
      "tensor([0, 1, 3])\n"
     ]
    }
   ],
   "source": [
    "# The original IDs of each node in sg1\n",
    "print(sg1.ndata[dgl.NID])\n",
    "# The original IDs of each edge in sg1\n",
    "print(sg1.edata[dgl.EID])\n",
    "# The original IDs of each node in sg2\n",
    "print(sg2.ndata[dgl.NID])\n",
    "# The original IDs of each edge in sg2\n",
    "print(sg2.edata[dgl.EID])"
   ]
  },
  {
   "cell_type": "markdown",
   "metadata": {},
   "source": [
    "``subgraph`` and ``edge_subgraph`` also copies the original features\n",
    "to the subgraph:\n",
    "\n",
    "\n"
   ]
  },
  {
   "cell_type": "code",
   "execution_count": 7,
   "metadata": {
    "collapsed": false,
    "execution": {
     "iopub.execute_input": "2024-08-12T07:45:34.984848Z",
     "iopub.status.busy": "2024-08-12T07:45:34.984606Z",
     "iopub.status.idle": "2024-08-12T07:45:34.989637Z",
     "shell.execute_reply": "2024-08-12T07:45:34.989147Z"
    }
   },
   "outputs": [
    {
     "name": "stdout",
     "output_type": "stream",
     "text": [
      "tensor([[-0.0940,  0.2487, -0.5297],\n",
      "        [ 0.8216,  0.5285,  0.1067],\n",
      "        [ 0.4254,  0.1196, -0.3035]])\n",
      "tensor([[ 0.2838,  0.7313, -0.3907, -0.8948],\n",
      "        [ 0.0763, -0.5807,  0.3039, -0.0434]])\n",
      "tensor([[-0.0940,  0.2487, -0.5297],\n",
      "        [ 0.8216,  0.5285,  0.1067],\n",
      "        [ 1.3890, -0.9784,  0.7681],\n",
      "        [-0.8496,  2.0467,  1.6226]])\n",
      "tensor([[ 0.2838,  0.7313, -0.3907, -0.8948],\n",
      "        [ 0.8773,  0.6123, -0.6040, -0.6645],\n",
      "        [-0.2832,  0.7514,  1.3341,  0.6205]])\n"
     ]
    }
   ],
   "source": [
    "# The original node feature of each node in sg1\n",
    "print(sg1.ndata[\"x\"])\n",
    "# The original edge feature of each node in sg1\n",
    "print(sg1.edata[\"a\"])\n",
    "# The original node feature of each node in sg2\n",
    "print(sg2.ndata[\"x\"])\n",
    "# The original edge feature of each node in sg2\n",
    "print(sg2.edata[\"a\"])"
   ]
  },
  {
   "cell_type": "markdown",
   "metadata": {},
   "source": [
    "Another common transformation is to add a reverse edge for each edge in\n",
    "the original graph with ``dgl.add_reverse_edges``.\n",
    "\n",
    "<div class=\"alert alert-info\"><h4>Note</h4><p>If you have an undirected graph, it is better to convert it\n",
    "   into a bidirectional graph first via adding reverse edges.</p></div>\n",
    "\n",
    "\n"
   ]
  },
  {
   "cell_type": "code",
   "execution_count": 8,
   "metadata": {
    "collapsed": false,
    "execution": {
     "iopub.execute_input": "2024-08-12T07:45:34.991729Z",
     "iopub.status.busy": "2024-08-12T07:45:34.991487Z",
     "iopub.status.idle": "2024-08-12T07:45:34.996190Z",
     "shell.execute_reply": "2024-08-12T07:45:34.995696Z"
    }
   },
   "outputs": [
    {
     "name": "stdout",
     "output_type": "stream",
     "text": [
      "(tensor([0, 0, 0, 0, 0, 1, 2, 3, 4, 5]), tensor([1, 2, 3, 4, 5, 0, 0, 0, 0, 0]))\n"
     ]
    }
   ],
   "source": [
    "newg = dgl.add_reverse_edges(g)\n",
    "print(newg.edges())"
   ]
  },
  {
   "cell_type": "markdown",
   "metadata": {},
   "source": [
    "## Loading and Saving Graphs\n",
    "\n",
    "You can save a graph or a list of graphs via ``dgl.save_graphs`` and\n",
    "load them back with ``dgl.load_graphs``.\n",
    "\n",
    "\n"
   ]
  },
  {
   "cell_type": "code",
   "execution_count": 9,
   "metadata": {
    "collapsed": false,
    "execution": {
     "iopub.execute_input": "2024-08-12T07:45:34.998269Z",
     "iopub.status.busy": "2024-08-12T07:45:34.998028Z",
     "iopub.status.idle": "2024-08-12T07:45:35.007913Z",
     "shell.execute_reply": "2024-08-12T07:45:35.007422Z"
    }
   },
   "outputs": [
    {
     "name": "stdout",
     "output_type": "stream",
     "text": [
      "Graph(num_nodes=6, num_edges=5,\n",
      "      ndata_schemes={'y': Scheme(shape=(5, 4), dtype=torch.float32), 'x': Scheme(shape=(3,), dtype=torch.float32)}\n",
      "      edata_schemes={'a': Scheme(shape=(4,), dtype=torch.float32)})\n",
      "Graph(num_nodes=6, num_edges=5,\n",
      "      ndata_schemes={'y': Scheme(shape=(5, 4), dtype=torch.float32), 'x': Scheme(shape=(3,), dtype=torch.float32)}\n",
      "      edata_schemes={'a': Scheme(shape=(4,), dtype=torch.float32)})\n",
      "Graph(num_nodes=3, num_edges=2,\n",
      "      ndata_schemes={'_ID': Scheme(shape=(), dtype=torch.int64), 'y': Scheme(shape=(5, 4), dtype=torch.float32), 'x': Scheme(shape=(3,), dtype=torch.float32)}\n",
      "      edata_schemes={'_ID': Scheme(shape=(), dtype=torch.int64), 'a': Scheme(shape=(4,), dtype=torch.float32)})\n",
      "Graph(num_nodes=4, num_edges=3,\n",
      "      ndata_schemes={'_ID': Scheme(shape=(), dtype=torch.int64), 'y': Scheme(shape=(5, 4), dtype=torch.float32), 'x': Scheme(shape=(3,), dtype=torch.float32)}\n",
      "      edata_schemes={'_ID': Scheme(shape=(), dtype=torch.int64), 'a': Scheme(shape=(4,), dtype=torch.float32)})\n"
     ]
    }
   ],
   "source": [
    "# Save graphs\n",
    "dgl.save_graphs(\"graph.dgl\", g)\n",
    "dgl.save_graphs(\"graphs.dgl\", [g, sg1, sg2])\n",
    "\n",
    "# Load graphs\n",
    "(g,), _ = dgl.load_graphs(\"graph.dgl\")\n",
    "print(g)\n",
    "(g, sg1, sg2), _ = dgl.load_graphs(\"graphs.dgl\")\n",
    "print(g)\n",
    "print(sg1)\n",
    "print(sg2)"
   ]
  },
  {
   "cell_type": "markdown",
   "metadata": {},
   "source": [
    "## What’s next?\n",
    "\n",
    "-  See\n",
    "   [here](../../api/python/dgl.DGLGraph.html#apigraph-querying-graph-structure)\n",
    "   for a list of graph structure query APIs.\n",
    "-  See\n",
    "   [here](../../api/python/dgl.html#api-subgraph-extraction)\n",
    "   for a list of subgraph extraction routines.\n",
    "-  See\n",
    "   [here](../../api/python/dgl.html#api-transform)\n",
    "   for a list of graph transformation routines.\n",
    "-  API reference of `dgl.save_graphs`\n",
    "   and\n",
    "   `dgl.load_graphs`\n",
    "\n",
    "\n"
   ]
  },
  {
   "cell_type": "code",
   "execution_count": 10,
   "metadata": {
    "collapsed": false,
    "execution": {
     "iopub.execute_input": "2024-08-12T07:45:35.009957Z",
     "iopub.status.busy": "2024-08-12T07:45:35.009716Z",
     "iopub.status.idle": "2024-08-12T07:45:35.012121Z",
     "shell.execute_reply": "2024-08-12T07:45:35.011639Z"
    }
   },
   "outputs": [],
   "source": [
    "# Thumbnail credits: Wikipedia\n",
    "# sphinx_gallery_thumbnail_path = '_static/blitz_2_dglgraph.png'"
   ]
  }
 ],
 "metadata": {
  "kernelspec": {
   "display_name": "Python 3",
   "language": "python",
   "name": "python3"
  },
  "language_info": {
   "codemirror_mode": {
    "name": "ipython",
    "version": 3
   },
   "file_extension": ".py",
   "mimetype": "text/x-python",
   "name": "python",
   "nbconvert_exporter": "python",
   "pygments_lexer": "ipython3",
   "version": "3.10.14"
  }
 },
 "nbformat": 4,
 "nbformat_minor": 0
}

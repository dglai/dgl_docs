{
 "cells": [
  {
   "cell_type": "markdown",
   "metadata": {},
   "source": [
    "\n",
    "\n",
    "# Graph Convolutional Network\n",
    "\n",
    "**Author:** [Qi Huang](https://github.com/HQ01), [Minjie Wang](https://jermainewang.github.io/),\n",
    "Yu Gai, Quan Gan, Zheng Zhang\n",
    "\n",
    "<div class=\"alert alert-danger\"><h4>Warning</h4><p>The tutorial aims at gaining insights into the paper, with code as a mean\n",
    "    of explanation. The implementation thus is NOT optimized for running\n",
    "    efficiency. For recommended implementation, please refer to the [official\n",
    "    examples](https://github.com/dmlc/dgl/tree/master/examples).</p></div>\n",
    "\n",
    "This is a gentle introduction of using DGL to implement Graph Convolutional\n",
    "Networks (Kipf & Welling et al., [Semi-Supervised Classification with Graph\n",
    "Convolutional Networks](https://arxiv.org/pdf/1609.02907.pdf)). We explain\n",
    "what is under the hood of the :class:`~dgl.nn.GraphConv` module.\n",
    "The reader is expected to learn how to define a new GNN layer using DGL's\n",
    "message passing APIs.\n"
   ]
  },
  {
   "cell_type": "markdown",
   "metadata": {},
   "source": [
    "## Model Overview\n",
    "GCN from the perspective of message passing\n",
    "```````````````````````````````````````````````\n",
    "We describe a layer of graph convolutional neural network from a message\n",
    "passing perspective; the math can be found [here](math_).\n",
    "It boils down to the following step, for each node $u$:\n",
    "\n",
    "1) Aggregate neighbors' representations $h_{v}$ to produce an\n",
    "intermediate representation $\\hat{h}_u$.  2) Transform the aggregated\n",
    "representation $\\hat{h}_{u}$ with a linear projection followed by a\n",
    "non-linearity: $h_{u} = f(W_{u} \\hat{h}_u)$.\n",
    "\n",
    "We will implement step 1 with DGL message passing, and step 2 by\n",
    "PyTorch ``nn.Module``.\n",
    "\n",
    "### GCN implementation with DGL\n",
    "We first define the message and reduce function as usual.  Since the\n",
    "aggregation on a node $u$ only involves summing over the neighbors'\n",
    "representations $h_v$, we can simply use builtin functions:\n",
    "\n"
   ]
  },
  {
   "cell_type": "code",
   "execution_count": 1,
   "metadata": {
    "collapsed": false,
    "execution": {
     "iopub.execute_input": "2024-08-07T07:30:21.688594Z",
     "iopub.status.busy": "2024-08-07T07:30:21.688344Z",
     "iopub.status.idle": "2024-08-07T07:30:23.903180Z",
     "shell.execute_reply": "2024-08-07T07:30:23.902448Z"
    }
   },
   "outputs": [],
   "source": [
    "import os\n",
    "\n",
    "os.environ[\"DGLBACKEND\"] = \"pytorch\"\n",
    "import dgl\n",
    "import dgl.function as fn\n",
    "import torch as th\n",
    "import torch.nn as nn\n",
    "import torch.nn.functional as F\n",
    "from dgl import DGLGraph\n",
    "\n",
    "gcn_msg = fn.copy_u(u=\"h\", out=\"m\")\n",
    "gcn_reduce = fn.sum(msg=\"m\", out=\"h\")"
   ]
  },
  {
   "cell_type": "markdown",
   "metadata": {},
   "source": [
    "We then proceed to define the GCNLayer module. A GCNLayer essentially performs\n",
    "message passing on all the nodes then applies a fully-connected layer.\n",
    "\n",
    "<div class=\"alert alert-info\"><h4>Note</h4><p>This is showing how to implement a GCN from scratch.  DGL provides a more\n",
    "   efficient :class:`builtin GCN layer module <dgl.nn.pytorch.conv.GraphConv>`.</p></div>\n",
    "\n",
    "\n"
   ]
  },
  {
   "cell_type": "code",
   "execution_count": 2,
   "metadata": {
    "collapsed": false,
    "execution": {
     "iopub.execute_input": "2024-08-07T07:30:23.906360Z",
     "iopub.status.busy": "2024-08-07T07:30:23.905864Z",
     "iopub.status.idle": "2024-08-07T07:30:23.910235Z",
     "shell.execute_reply": "2024-08-07T07:30:23.909655Z"
    }
   },
   "outputs": [],
   "source": [
    "class GCNLayer(nn.Module):\n",
    "    def __init__(self, in_feats, out_feats):\n",
    "        super(GCNLayer, self).__init__()\n",
    "        self.linear = nn.Linear(in_feats, out_feats)\n",
    "\n",
    "    def forward(self, g, feature):\n",
    "        # Creating a local scope so that all the stored ndata and edata\n",
    "        # (such as the `'h'` ndata below) are automatically popped out\n",
    "        # when the scope exits.\n",
    "        with g.local_scope():\n",
    "            g.ndata[\"h\"] = feature\n",
    "            g.update_all(gcn_msg, gcn_reduce)\n",
    "            h = g.ndata[\"h\"]\n",
    "            return self.linear(h)"
   ]
  },
  {
   "cell_type": "markdown",
   "metadata": {},
   "source": [
    "The forward function is essentially the same as any other commonly seen NNs\n",
    "model in PyTorch.  We can initialize GCN like any ``nn.Module``. For example,\n",
    "let's define a simple neural network consisting of two GCN layers. Suppose we\n",
    "are training the classifier for the cora dataset (the input feature size is\n",
    "1433 and the number of classes is 7). The last GCN layer computes node embeddings,\n",
    "so the last layer in general does not apply activation.\n",
    "\n"
   ]
  },
  {
   "cell_type": "code",
   "execution_count": 3,
   "metadata": {
    "collapsed": false,
    "execution": {
     "iopub.execute_input": "2024-08-07T07:30:23.912691Z",
     "iopub.status.busy": "2024-08-07T07:30:23.912325Z",
     "iopub.status.idle": "2024-08-07T07:30:23.937601Z",
     "shell.execute_reply": "2024-08-07T07:30:23.937110Z"
    }
   },
   "outputs": [
    {
     "name": "stdout",
     "output_type": "stream",
     "text": [
      "Net(\n",
      "  (layer1): GCNLayer(\n",
      "    (linear): Linear(in_features=1433, out_features=16, bias=True)\n",
      "  )\n",
      "  (layer2): GCNLayer(\n",
      "    (linear): Linear(in_features=16, out_features=7, bias=True)\n",
      "  )\n",
      ")\n"
     ]
    }
   ],
   "source": [
    "class Net(nn.Module):\n",
    "    def __init__(self):\n",
    "        super(Net, self).__init__()\n",
    "        self.layer1 = GCNLayer(1433, 16)\n",
    "        self.layer2 = GCNLayer(16, 7)\n",
    "\n",
    "    def forward(self, g, features):\n",
    "        x = F.relu(self.layer1(g, features))\n",
    "        x = self.layer2(g, x)\n",
    "        return x\n",
    "\n",
    "\n",
    "net = Net()\n",
    "print(net)"
   ]
  },
  {
   "cell_type": "markdown",
   "metadata": {},
   "source": [
    "We load the cora dataset using DGL's built-in data module.\n",
    "\n"
   ]
  },
  {
   "cell_type": "code",
   "execution_count": 4,
   "metadata": {
    "collapsed": false,
    "execution": {
     "iopub.execute_input": "2024-08-07T07:30:23.939940Z",
     "iopub.status.busy": "2024-08-07T07:30:23.939568Z",
     "iopub.status.idle": "2024-08-07T07:30:23.942851Z",
     "shell.execute_reply": "2024-08-07T07:30:23.942327Z"
    }
   },
   "outputs": [],
   "source": [
    "from dgl.data import CoraGraphDataset\n",
    "\n",
    "\n",
    "def load_cora_data():\n",
    "    dataset = CoraGraphDataset()\n",
    "    g = dataset[0]\n",
    "    features = g.ndata[\"feat\"]\n",
    "    labels = g.ndata[\"label\"]\n",
    "    train_mask = g.ndata[\"train_mask\"]\n",
    "    test_mask = g.ndata[\"test_mask\"]\n",
    "    return g, features, labels, train_mask, test_mask"
   ]
  },
  {
   "cell_type": "markdown",
   "metadata": {},
   "source": [
    "When a model is trained, we can use the following method to evaluate\n",
    "the performance of the model on the test dataset:\n",
    "\n"
   ]
  },
  {
   "cell_type": "code",
   "execution_count": 5,
   "metadata": {
    "collapsed": false,
    "execution": {
     "iopub.execute_input": "2024-08-07T07:30:23.945020Z",
     "iopub.status.busy": "2024-08-07T07:30:23.944720Z",
     "iopub.status.idle": "2024-08-07T07:30:23.948169Z",
     "shell.execute_reply": "2024-08-07T07:30:23.947691Z"
    }
   },
   "outputs": [],
   "source": [
    "def evaluate(model, g, features, labels, mask):\n",
    "    model.eval()\n",
    "    with th.no_grad():\n",
    "        logits = model(g, features)\n",
    "        logits = logits[mask]\n",
    "        labels = labels[mask]\n",
    "        _, indices = th.max(logits, dim=1)\n",
    "        correct = th.sum(indices == labels)\n",
    "        return correct.item() * 1.0 / len(labels)"
   ]
  },
  {
   "cell_type": "markdown",
   "metadata": {},
   "source": [
    "We then train the network as follows:\n",
    "\n"
   ]
  },
  {
   "cell_type": "code",
   "execution_count": 6,
   "metadata": {
    "collapsed": false,
    "execution": {
     "iopub.execute_input": "2024-08-07T07:30:23.950406Z",
     "iopub.status.busy": "2024-08-07T07:30:23.950036Z",
     "iopub.status.idle": "2024-08-07T07:30:24.961624Z",
     "shell.execute_reply": "2024-08-07T07:30:24.960990Z"
    }
   },
   "outputs": [
    {
     "name": "stdout",
     "output_type": "stream",
     "text": [
      "  NumNodes: 2708\n",
      "  NumEdges: 10556\n",
      "  NumFeats: 1433\n",
      "  NumClasses: 7\n",
      "  NumTrainingSamples: 140\n",
      "  NumValidationSamples: 500\n",
      "  NumTestSamples: 1000\n",
      "Done loading data from cached files.\n"
     ]
    },
    {
     "name": "stderr",
     "output_type": "stream",
     "text": [
      "/opt/conda/envs/gpu/lib/python3.10/site-packages/numpy/core/fromnumeric.py:3504: RuntimeWarning: Mean of empty slice.\n",
      "  return _methods._mean(a, axis=axis, dtype=dtype,\n",
      "/opt/conda/envs/gpu/lib/python3.10/site-packages/numpy/core/_methods.py:129: RuntimeWarning: invalid value encountered in scalar divide\n",
      "  ret = ret.dtype.type(ret / rcount)\n"
     ]
    },
    {
     "name": "stdout",
     "output_type": "stream",
     "text": [
      "Epoch 00000 | Loss 1.9477 | Test Acc 0.0970 | Time(s) nan\n",
      "Epoch 00001 | Loss 1.8186 | Test Acc 0.2180 | Time(s) nan\n",
      "Epoch 00002 | Loss 1.6760 | Test Acc 0.2900 | Time(s) nan\n",
      "Epoch 00003 | Loss 1.5981 | Test Acc 0.3010 | Time(s) 0.0044\n",
      "Epoch 00004 | Loss 1.5276 | Test Acc 0.3600 | Time(s) 0.0044\n",
      "Epoch 00005 | Loss 1.4581 | Test Acc 0.3920 | Time(s) 0.0044\n",
      "Epoch 00006 | Loss 1.3879 | Test Acc 0.4290 | Time(s) 0.0044\n",
      "Epoch 00007 | Loss 1.3163 | Test Acc 0.4680 | Time(s) 0.0043\n",
      "Epoch 00008 | Loss 1.2434 | Test Acc 0.5230 | Time(s) 0.0044\n",
      "Epoch 00009 | Loss 1.1690 | Test Acc 0.5630 | Time(s) 0.0044\n",
      "Epoch 00010 | Loss 1.0920 | Test Acc 0.5960 | Time(s) 0.0044\n",
      "Epoch 00011 | Loss 1.0147 | Test Acc 0.6220 | Time(s) 0.0044\n",
      "Epoch 00012 | Loss 0.9387 | Test Acc 0.6590 | Time(s) 0.0043\n",
      "Epoch 00013 | Loss 0.8660 | Test Acc 0.6850 | Time(s) 0.0043\n",
      "Epoch 00014 | Loss 0.7959 | Test Acc 0.7070 | Time(s) 0.0043\n",
      "Epoch 00015 | Loss 0.7287 | Test Acc 0.7190 | Time(s) 0.0043\n",
      "Epoch 00016 | Loss 0.6659 | Test Acc 0.7280 | Time(s) 0.0042\n",
      "Epoch 00017 | Loss 0.6083 | Test Acc 0.7330 | Time(s) 0.0042\n",
      "Epoch 00018 | Loss 0.5555 | Test Acc 0.7440 | Time(s) 0.0042\n",
      "Epoch 00019 | Loss 0.5079 | Test Acc 0.7450 | Time(s) 0.0042\n",
      "Epoch 00020 | Loss 0.4651 | Test Acc 0.7540 | Time(s) 0.0041\n",
      "Epoch 00021 | Loss 0.4265 | Test Acc 0.7550 | Time(s) 0.0041\n",
      "Epoch 00022 | Loss 0.3912 | Test Acc 0.7530 | Time(s) 0.0041\n",
      "Epoch 00023 | Loss 0.3585 | Test Acc 0.7550 | Time(s) 0.0041\n",
      "Epoch 00024 | Loss 0.3284 | Test Acc 0.7540 | Time(s) 0.0040\n",
      "Epoch 00025 | Loss 0.3005 | Test Acc 0.7540 | Time(s) 0.0040\n",
      "Epoch 00026 | Loss 0.2744 | Test Acc 0.7570 | Time(s) 0.0040\n",
      "Epoch 00027 | Loss 0.2504 | Test Acc 0.7590 | Time(s) 0.0040\n",
      "Epoch 00028 | Loss 0.2286 | Test Acc 0.7570 | Time(s) 0.0040\n",
      "Epoch 00029 | Loss 0.2089 | Test Acc 0.7570 | Time(s) 0.0040\n",
      "Epoch 00030 | Loss 0.1910 | Test Acc 0.7570 | Time(s) 0.0040\n",
      "Epoch 00031 | Loss 0.1747 | Test Acc 0.7530 | Time(s) 0.0040\n"
     ]
    },
    {
     "name": "stdout",
     "output_type": "stream",
     "text": [
      "Epoch 00032 | Loss 0.1600 | Test Acc 0.7550 | Time(s) 0.0039\n",
      "Epoch 00033 | Loss 0.1467 | Test Acc 0.7540 | Time(s) 0.0039\n",
      "Epoch 00034 | Loss 0.1347 | Test Acc 0.7540 | Time(s) 0.0039\n",
      "Epoch 00035 | Loss 0.1240 | Test Acc 0.7540 | Time(s) 0.0040\n",
      "Epoch 00036 | Loss 0.1141 | Test Acc 0.7550 | Time(s) 0.0040\n",
      "Epoch 00037 | Loss 0.1052 | Test Acc 0.7520 | Time(s) 0.0041\n",
      "Epoch 00038 | Loss 0.0970 | Test Acc 0.7540 | Time(s) 0.0041\n",
      "Epoch 00039 | Loss 0.0896 | Test Acc 0.7580 | Time(s) 0.0040\n",
      "Epoch 00040 | Loss 0.0828 | Test Acc 0.7570 | Time(s) 0.0040\n",
      "Epoch 00041 | Loss 0.0765 | Test Acc 0.7540 | Time(s) 0.0041\n",
      "Epoch 00042 | Loss 0.0708 | Test Acc 0.7540 | Time(s) 0.0041\n",
      "Epoch 00043 | Loss 0.0656 | Test Acc 0.7530 | Time(s) 0.0041\n",
      "Epoch 00044 | Loss 0.0608 | Test Acc 0.7500 | Time(s) 0.0041\n",
      "Epoch 00045 | Loss 0.0564 | Test Acc 0.7490 | Time(s) 0.0041\n",
      "Epoch 00046 | Loss 0.0524 | Test Acc 0.7480 | Time(s) 0.0041\n",
      "Epoch 00047 | Loss 0.0487 | Test Acc 0.7490 | Time(s) 0.0041\n",
      "Epoch 00048 | Loss 0.0453 | Test Acc 0.7500 | Time(s) 0.0041\n",
      "Epoch 00049 | Loss 0.0423 | Test Acc 0.7500 | Time(s) 0.0042\n"
     ]
    }
   ],
   "source": [
    "import time\n",
    "\n",
    "import numpy as np\n",
    "\n",
    "g, features, labels, train_mask, test_mask = load_cora_data()\n",
    "# Add edges between each node and itself to preserve old node representations\n",
    "g.add_edges(g.nodes(), g.nodes())\n",
    "optimizer = th.optim.Adam(net.parameters(), lr=1e-2)\n",
    "dur = []\n",
    "for epoch in range(50):\n",
    "    if epoch >= 3:\n",
    "        t0 = time.time()\n",
    "    net.train()\n",
    "    logits = net(g, features)\n",
    "    logp = F.log_softmax(logits, 1)\n",
    "    loss = F.nll_loss(logp[train_mask], labels[train_mask])\n",
    "\n",
    "    optimizer.zero_grad()\n",
    "    loss.backward()\n",
    "    optimizer.step()\n",
    "\n",
    "    if epoch >= 3:\n",
    "        dur.append(time.time() - t0)\n",
    "    acc = evaluate(net, g, features, labels, test_mask)\n",
    "    print(\n",
    "        \"Epoch {:05d} | Loss {:.4f} | Test Acc {:.4f} | Time(s) {:.4f}\".format(\n",
    "            epoch, loss.item(), acc, np.mean(dur)\n",
    "        )\n",
    "    )"
   ]
  },
  {
   "cell_type": "markdown",
   "metadata": {},
   "source": [
    "\n",
    "## GCN in one formula\n",
    "Mathematically, the GCN model follows this formula:\n",
    "\n",
    "$H^{(l+1)} = \\sigma(\\tilde{D}^{-\\frac{1}{2}}\\tilde{A}\\tilde{D}^{-\\frac{1}{2}}H^{(l)}W^{(l)})$\n",
    "\n",
    "Here, $H^{(l)}$ denotes the $l^{th}$ layer in the network,\n",
    "$\\sigma$ is the non-linearity, and $W$ is the weight matrix for\n",
    "this layer. $\\tilde{D}$ and $\\tilde{A}$ are separately the degree\n",
    "and adjacency matrices for the graph. With the superscript ~, we are referring\n",
    "to the variant where we add additional edges between each node and itself to\n",
    "preserve its old representation in graph convolutions. The shape of the input\n",
    "$H^{(0)}$ is $N \\times D$, where $N$ is the number of nodes\n",
    "and $D$ is the number of input features. We can chain up multiple\n",
    "layers as such to produce a node-level representation output with shape\n",
    "$N \\times F$, where $F$ is the dimension of the output node\n",
    "feature vector.\n",
    "\n",
    "The equation can be efficiently implemented using sparse matrix\n",
    "multiplication kernels (such as Kipf's\n",
    "[pygcn](https://github.com/tkipf/pygcn) code). The above DGL implementation\n",
    "in fact has already used this trick due to the use of builtin functions.\n",
    "\n",
    "Note that the tutorial code implements a simplified version of GCN where we\n",
    "replace $\\tilde{D}^{-\\frac{1}{2}}\\tilde{A}\\tilde{D}^{-\\frac{1}{2}}$ with\n",
    "$\\tilde{A}$. For a full implementation, see our example\n",
    "[here](https://github.com/dmlc/dgl/tree/master/examples/pytorch/gcn).\n",
    "\n"
   ]
  }
 ],
 "metadata": {
  "kernelspec": {
   "display_name": "Python 3",
   "language": "python",
   "name": "python3"
  },
  "language_info": {
   "codemirror_mode": {
    "name": "ipython",
    "version": 3
   },
   "file_extension": ".py",
   "mimetype": "text/x-python",
   "name": "python",
   "nbconvert_exporter": "python",
   "pygments_lexer": "ipython3",
   "version": "3.10.14"
  }
 },
 "nbformat": 4,
 "nbformat_minor": 0
}

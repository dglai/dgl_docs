{
 "cells": [
  {
   "cell_type": "markdown",
   "metadata": {
    "id": "FnFhPMaAfLtJ"
   },
   "source": [
    "# OnDiskDataset for Homogeneous Graph\n",
    "\n",
    "[![Open In Colab](https://colab.research.google.com/assets/colab-badge.svg)](https://colab.research.google.com/github/dmlc/dgl/blob/master/notebooks/stochastic_training/ondisk_dataset_homograph.ipynb) [![GitHub](https://img.shields.io/badge/-View%20on%20GitHub-181717?logo=github&logoColor=ffffff)](https://github.com/dmlc/dgl/blob/master/notebooks/stochastic_training/ondisk_dataset_homograph.ipynb)\n",
    "\n",
    "This tutorial shows how to create `OnDiskDataset` for homogeneous graph that could be used in **GraphBolt** framework.\n",
    "\n",
    "By the end of this tutorial, you will be able to\n",
    "\n",
    "- organize graph structure data.\n",
    "- organize feature data.\n",
    "- organize training/validation/test set for specific tasks.\n",
    "\n",
    "To create an ``OnDiskDataset`` object, you need to organize all the data including graph structure, feature data and tasks into a directory. The directory should contain a ``metadata.yaml`` file that describes the metadata of the dataset.\n",
    "\n",
    "Now let's generate various data step by step and organize them together to instantiate `OnDiskDataset` finally."
   ]
  },
  {
   "cell_type": "markdown",
   "metadata": {
    "id": "Wlb19DtWgtzq"
   },
   "source": [
    "## Install DGL package"
   ]
  },
  {
   "cell_type": "code",
   "execution_count": 1,
   "metadata": {
    "execution": {
     "iopub.execute_input": "2024-08-15T06:50:04.945876Z",
     "iopub.status.busy": "2024-08-15T06:50:04.945487Z",
     "iopub.status.idle": "2024-08-15T06:50:08.739772Z",
     "shell.execute_reply": "2024-08-15T06:50:08.739117Z"
    },
    "id": "UojlT9ZGgyr9"
   },
   "outputs": [
    {
     "name": "stdout",
     "output_type": "stream",
     "text": [
      "Looking in links: https://data.dgl.ai/wheels-test/repo.html\r\n",
      "Requirement already satisfied: dgl in /opt/conda/envs/dgl-dev-cpu/lib/python3.10/site-packages (2.2a240410)\r\n",
      "Requirement already satisfied: numpy>=1.14.0 in /opt/conda/envs/dgl-dev-cpu/lib/python3.10/site-packages (from dgl) (1.26.4)\r\n",
      "Requirement already satisfied: scipy>=1.1.0 in /opt/conda/envs/dgl-dev-cpu/lib/python3.10/site-packages (from dgl) (1.14.0)\r\n",
      "Requirement already satisfied: networkx>=2.1 in /opt/conda/envs/dgl-dev-cpu/lib/python3.10/site-packages (from dgl) (3.3)\r\n",
      "Requirement already satisfied: requests>=2.19.0 in /opt/conda/envs/dgl-dev-cpu/lib/python3.10/site-packages (from dgl) (2.32.3)\r\n",
      "Requirement already satisfied: tqdm in /opt/conda/envs/dgl-dev-cpu/lib/python3.10/site-packages (from dgl) (4.66.5)\r\n",
      "Requirement already satisfied: psutil>=5.8.0 in /opt/conda/envs/dgl-dev-cpu/lib/python3.10/site-packages (from dgl) (6.0.0)\r\n",
      "Requirement already satisfied: torchdata>=0.5.0 in /opt/conda/envs/dgl-dev-cpu/lib/python3.10/site-packages (from dgl) (0.8.0)\r\n",
      "Requirement already satisfied: pandas in /opt/conda/envs/dgl-dev-cpu/lib/python3.10/site-packages (from dgl) (2.2.2)\r\n",
      "Requirement already satisfied: charset-normalizer<4,>=2 in /opt/conda/envs/dgl-dev-cpu/lib/python3.10/site-packages (from requests>=2.19.0->dgl) (3.3.2)\r\n",
      "Requirement already satisfied: idna<4,>=2.5 in /opt/conda/envs/dgl-dev-cpu/lib/python3.10/site-packages (from requests>=2.19.0->dgl) (3.7)\r\n",
      "Requirement already satisfied: urllib3<3,>=1.21.1 in /opt/conda/envs/dgl-dev-cpu/lib/python3.10/site-packages (from requests>=2.19.0->dgl) (2.2.2)\r\n",
      "Requirement already satisfied: certifi>=2017.4.17 in /opt/conda/envs/dgl-dev-cpu/lib/python3.10/site-packages (from requests>=2.19.0->dgl) (2024.7.4)\r\n",
      "Requirement already satisfied: torch>=2 in /opt/conda/envs/dgl-dev-cpu/lib/python3.10/site-packages (from torchdata>=0.5.0->dgl) (2.1.0+cpu)\r\n"
     ]
    },
    {
     "name": "stdout",
     "output_type": "stream",
     "text": [
      "Requirement already satisfied: python-dateutil>=2.8.2 in /opt/conda/envs/dgl-dev-cpu/lib/python3.10/site-packages (from pandas->dgl) (2.9.0.post0)\r\n",
      "Requirement already satisfied: pytz>=2020.1 in /opt/conda/envs/dgl-dev-cpu/lib/python3.10/site-packages (from pandas->dgl) (2024.1)\r\n",
      "Requirement already satisfied: tzdata>=2022.7 in /opt/conda/envs/dgl-dev-cpu/lib/python3.10/site-packages (from pandas->dgl) (2024.1)\r\n",
      "Requirement already satisfied: six>=1.5 in /opt/conda/envs/dgl-dev-cpu/lib/python3.10/site-packages (from python-dateutil>=2.8.2->pandas->dgl) (1.16.0)\r\n",
      "Requirement already satisfied: filelock in /opt/conda/envs/dgl-dev-cpu/lib/python3.10/site-packages (from torch>=2->torchdata>=0.5.0->dgl) (3.15.4)\r\n",
      "Requirement already satisfied: typing-extensions in /opt/conda/envs/dgl-dev-cpu/lib/python3.10/site-packages (from torch>=2->torchdata>=0.5.0->dgl) (4.12.2)\r\n",
      "Requirement already satisfied: sympy in /opt/conda/envs/dgl-dev-cpu/lib/python3.10/site-packages (from torch>=2->torchdata>=0.5.0->dgl) (1.13.2)\r\n",
      "Requirement already satisfied: jinja2 in /opt/conda/envs/dgl-dev-cpu/lib/python3.10/site-packages (from torch>=2->torchdata>=0.5.0->dgl) (3.1.4)\r\n",
      "Requirement already satisfied: fsspec in /opt/conda/envs/dgl-dev-cpu/lib/python3.10/site-packages (from torch>=2->torchdata>=0.5.0->dgl) (2024.6.1)\r\n"
     ]
    },
    {
     "name": "stdout",
     "output_type": "stream",
     "text": [
      "Requirement already satisfied: MarkupSafe>=2.0 in /opt/conda/envs/dgl-dev-cpu/lib/python3.10/site-packages (from jinja2->torch>=2->torchdata>=0.5.0->dgl) (2.1.5)\r\n",
      "Requirement already satisfied: mpmath<1.4,>=1.1.0 in /opt/conda/envs/dgl-dev-cpu/lib/python3.10/site-packages (from sympy->torch>=2->torchdata>=0.5.0->dgl) (1.3.0)\r\n"
     ]
    },
    {
     "name": "stdout",
     "output_type": "stream",
     "text": [
      "DGL installed!\n"
     ]
    }
   ],
   "source": [
    "# Install required packages.\n",
    "import os\n",
    "import torch\n",
    "import numpy as np\n",
    "os.environ['TORCH'] = torch.__version__\n",
    "os.environ['DGLBACKEND'] = \"pytorch\"\n",
    "\n",
    "# Install the CPU version.\n",
    "device = torch.device(\"cpu\")\n",
    "!pip install --pre dgl -f https://data.dgl.ai/wheels-test/repo.html\n",
    "\n",
    "try:\n",
    "    import dgl\n",
    "    import dgl.graphbolt as gb\n",
    "    installed = True\n",
    "except ImportError as error:\n",
    "    installed = False\n",
    "    print(error)\n",
    "print(\"DGL installed!\" if installed else \"DGL not found!\")"
   ]
  },
  {
   "cell_type": "markdown",
   "metadata": {
    "id": "2R7WnSbjsfbr"
   },
   "source": [
    "## Data preparation\n",
    "In order to demonstrate how to organize various data, let's create a base directory first."
   ]
  },
  {
   "cell_type": "code",
   "execution_count": 2,
   "metadata": {
    "execution": {
     "iopub.execute_input": "2024-08-15T06:50:08.743807Z",
     "iopub.status.busy": "2024-08-15T06:50:08.742312Z",
     "iopub.status.idle": "2024-08-15T06:50:08.747597Z",
     "shell.execute_reply": "2024-08-15T06:50:08.746898Z"
    },
    "id": "SZipbzyltLfO"
   },
   "outputs": [
    {
     "name": "stdout",
     "output_type": "stream",
     "text": [
      "Created base directory: ./ondisk_dataset_homograph\n"
     ]
    }
   ],
   "source": [
    "base_dir = './ondisk_dataset_homograph'\n",
    "os.makedirs(base_dir, exist_ok=True)\n",
    "print(f\"Created base directory: {base_dir}\")"
   ]
  },
  {
   "cell_type": "markdown",
   "metadata": {
    "id": "qhNtIn_xhlnl"
   },
   "source": [
    "### Generate graph structure data\n",
    "For homogeneous graph, we just need to save edges(namely seeds) into  **Numpy** or **CSV** file.\n",
    "\n",
    "Note:\n",
    "- when saving to **Numpy**, the array requires to be in shape of `(2, N)`. This format is recommended as constructing graph from it is much faster than **CSV** file.\n",
    "- when saving to **CSV** file, do not save index and header.\n"
   ]
  },
  {
   "cell_type": "code",
   "execution_count": 3,
   "metadata": {
    "execution": {
     "iopub.execute_input": "2024-08-15T06:50:08.750139Z",
     "iopub.status.busy": "2024-08-15T06:50:08.749645Z",
     "iopub.status.idle": "2024-08-15T06:50:08.763470Z",
     "shell.execute_reply": "2024-08-15T06:50:08.762791Z"
    },
    "id": "HcBt4G5BmSjr"
   },
   "outputs": [
    {
     "name": "stdout",
     "output_type": "stream",
     "text": [
      "Part of edges: [[603  30]\n",
      " [551 628]\n",
      " [969 471]\n",
      " [975 560]\n",
      " [751 461]]\n",
      "Edges are saved into ./ondisk_dataset_homograph/edges.csv\n"
     ]
    }
   ],
   "source": [
    "import numpy as np\n",
    "import pandas as pd\n",
    "num_nodes = 1000\n",
    "num_edges = 10 * num_nodes\n",
    "edges_path = os.path.join(base_dir, \"edges.csv\")\n",
    "edges = np.random.randint(0, num_nodes, size=(num_edges, 2))\n",
    "\n",
    "print(f\"Part of edges: {edges[:5, :]}\")\n",
    "\n",
    "df = pd.DataFrame(edges)\n",
    "df.to_csv(edges_path, index=False, header=False)\n",
    "\n",
    "print(f\"Edges are saved into {edges_path}\")"
   ]
  },
  {
   "cell_type": "markdown",
   "metadata": {
    "id": "kh-4cPtzpcaH"
   },
   "source": [
    "### Generate feature data for graph\n",
    "For feature data, numpy arrays and torch tensors are supported for now."
   ]
  },
  {
   "cell_type": "code",
   "execution_count": 4,
   "metadata": {
    "execution": {
     "iopub.execute_input": "2024-08-15T06:50:08.768894Z",
     "iopub.status.busy": "2024-08-15T06:50:08.768429Z",
     "iopub.status.idle": "2024-08-15T06:50:08.801647Z",
     "shell.execute_reply": "2024-08-15T06:50:08.801131Z"
    },
    "id": "_PVu1u5brBhF"
   },
   "outputs": [
    {
     "name": "stdout",
     "output_type": "stream",
     "text": [
      "Part of node feature [feat_0]: [[0.2160992  0.26349054 0.35763865 0.97580679 0.19193734]\n",
      " [0.60892794 0.11033876 0.66038061 0.96163599 0.19718296]\n",
      " [0.55799393 0.8829819  0.07376804 0.7147517  0.42831282]]\n",
      "Node feature [feat_0] is saved to ./ondisk_dataset_homograph/node-feat-0.npy\n",
      "\n",
      "Part of node feature [feat_1]: tensor([[0.7792, 0.8134, 0.2978, 0.3164, 0.6986],\n",
      "        [0.9624, 0.1456, 0.9949, 0.0768, 0.1886],\n",
      "        [0.8997, 0.7026, 0.8764, 0.4207, 0.1264]])\n",
      "Node feature [feat_1] is saved to ./ondisk_dataset_homograph/node-feat-1.pt\n",
      "\n",
      "Part of edge feature [feat_0]: [[0.13405644 0.04546596 0.69735026 0.37965031 0.01678409]\n",
      " [0.18524676 0.78204226 0.72175145 0.89086311 0.17062426]\n",
      " [0.59578328 0.92454161 0.61882876 0.99173869 0.77412018]]\n",
      "Edge feature [feat_0] is saved to ./ondisk_dataset_homograph/edge-feat-0.npy\n",
      "\n",
      "Part of edge feature [feat_1]: tensor([[0.9775, 0.0943, 0.8800, 0.9817, 0.1582],\n",
      "        [0.6223, 0.0284, 0.7590, 0.2925, 0.0897],\n",
      "        [0.4058, 0.5594, 0.5312, 0.4414, 0.7394]])\n",
      "Edge feature [feat_1] is saved to ./ondisk_dataset_homograph/edge-feat-1.pt\n",
      "\n"
     ]
    }
   ],
   "source": [
    "# Generate node feature in numpy array.\n",
    "node_feat_0_path = os.path.join(base_dir, \"node-feat-0.npy\")\n",
    "node_feat_0 = np.random.rand(num_nodes, 5)\n",
    "print(f\"Part of node feature [feat_0]: {node_feat_0[:3, :]}\")\n",
    "np.save(node_feat_0_path, node_feat_0)\n",
    "print(f\"Node feature [feat_0] is saved to {node_feat_0_path}\\n\")\n",
    "\n",
    "# Generate another node feature in torch tensor\n",
    "node_feat_1_path = os.path.join(base_dir, \"node-feat-1.pt\")\n",
    "node_feat_1 = torch.rand(num_nodes, 5)\n",
    "print(f\"Part of node feature [feat_1]: {node_feat_1[:3, :]}\")\n",
    "torch.save(node_feat_1, node_feat_1_path)\n",
    "print(f\"Node feature [feat_1] is saved to {node_feat_1_path}\\n\")\n",
    "\n",
    "# Generate edge feature in numpy array.\n",
    "edge_feat_0_path = os.path.join(base_dir, \"edge-feat-0.npy\")\n",
    "edge_feat_0 = np.random.rand(num_edges, 5)\n",
    "print(f\"Part of edge feature [feat_0]: {edge_feat_0[:3, :]}\")\n",
    "np.save(edge_feat_0_path, edge_feat_0)\n",
    "print(f\"Edge feature [feat_0] is saved to {edge_feat_0_path}\\n\")\n",
    "\n",
    "# Generate another edge feature in torch tensor\n",
    "edge_feat_1_path = os.path.join(base_dir, \"edge-feat-1.pt\")\n",
    "edge_feat_1 = torch.rand(num_edges, 5)\n",
    "print(f\"Part of edge feature [feat_1]: {edge_feat_1[:3, :]}\")\n",
    "torch.save(edge_feat_1, edge_feat_1_path)\n",
    "print(f\"Edge feature [feat_1] is saved to {edge_feat_1_path}\\n\")\n"
   ]
  },
  {
   "cell_type": "markdown",
   "metadata": {
    "id": "ZyqgOtsIwzh_"
   },
   "source": [
    "### Generate tasks\n",
    "`OnDiskDataset` supports multiple tasks. For each task, we need to prepare training/validation/test sets respectively. Such sets usually vary among different tasks. In this tutorial, let's create a **Node Classification** task and **Link Prediction** task."
   ]
  },
  {
   "cell_type": "markdown",
   "metadata": {
    "id": "hVxHaDIfzCkr"
   },
   "source": [
    "#### Node Classification Task\n",
    "For node classification task, we need **node IDs** and corresponding **labels** for each training/validation/test set. Like feature data, numpy arrays and torch tensors are supported for these sets."
   ]
  },
  {
   "cell_type": "code",
   "execution_count": 5,
   "metadata": {
    "execution": {
     "iopub.execute_input": "2024-08-15T06:50:08.804043Z",
     "iopub.status.busy": "2024-08-15T06:50:08.803721Z",
     "iopub.status.idle": "2024-08-15T06:50:08.813317Z",
     "shell.execute_reply": "2024-08-15T06:50:08.812806Z"
    },
    "id": "S5-fyBbHzTCO"
   },
   "outputs": [
    {
     "name": "stdout",
     "output_type": "stream",
     "text": [
      "Part of train ids for node classification: [536 396 440]\n",
      "NC train ids are saved to ./ondisk_dataset_homograph/nc-train-ids.npy\n",
      "\n",
      "Part of train labels for node classification: tensor([7, 1, 1])\n",
      "NC train labels are saved to ./ondisk_dataset_homograph/nc-train-labels.pt\n",
      "\n",
      "Part of val ids for node classification: [369 211 501]\n",
      "NC val ids are saved to ./ondisk_dataset_homograph/nc-val-ids.npy\n",
      "\n",
      "Part of val labels for node classification: tensor([7, 2, 9])\n",
      "NC val labels are saved to ./ondisk_dataset_homograph/nc-val-labels.pt\n",
      "\n",
      "Part of test ids for node classification: [498 346 802]\n",
      "NC test ids are saved to ./ondisk_dataset_homograph/nc-test-ids.npy\n",
      "\n",
      "Part of test labels for node classification: tensor([0, 7, 3])\n",
      "NC test labels are saved to ./ondisk_dataset_homograph/nc-test-labels.pt\n",
      "\n"
     ]
    }
   ],
   "source": [
    "num_trains = int(num_nodes * 0.6)\n",
    "num_vals = int(num_nodes * 0.2)\n",
    "num_tests = num_nodes - num_trains - num_vals\n",
    "\n",
    "ids = np.arange(num_nodes)\n",
    "np.random.shuffle(ids)\n",
    "\n",
    "nc_train_ids_path = os.path.join(base_dir, \"nc-train-ids.npy\")\n",
    "nc_train_ids = ids[:num_trains]\n",
    "print(f\"Part of train ids for node classification: {nc_train_ids[:3]}\")\n",
    "np.save(nc_train_ids_path, nc_train_ids)\n",
    "print(f\"NC train ids are saved to {nc_train_ids_path}\\n\")\n",
    "\n",
    "nc_train_labels_path = os.path.join(base_dir, \"nc-train-labels.pt\")\n",
    "nc_train_labels = torch.randint(0, 10, (num_trains,))\n",
    "print(f\"Part of train labels for node classification: {nc_train_labels[:3]}\")\n",
    "torch.save(nc_train_labels, nc_train_labels_path)\n",
    "print(f\"NC train labels are saved to {nc_train_labels_path}\\n\")\n",
    "\n",
    "nc_val_ids_path = os.path.join(base_dir, \"nc-val-ids.npy\")\n",
    "nc_val_ids = ids[num_trains:num_trains+num_vals]\n",
    "print(f\"Part of val ids for node classification: {nc_val_ids[:3]}\")\n",
    "np.save(nc_val_ids_path, nc_val_ids)\n",
    "print(f\"NC val ids are saved to {nc_val_ids_path}\\n\")\n",
    "\n",
    "nc_val_labels_path = os.path.join(base_dir, \"nc-val-labels.pt\")\n",
    "nc_val_labels = torch.randint(0, 10, (num_vals,))\n",
    "print(f\"Part of val labels for node classification: {nc_val_labels[:3]}\")\n",
    "torch.save(nc_val_labels, nc_val_labels_path)\n",
    "print(f\"NC val labels are saved to {nc_val_labels_path}\\n\")\n",
    "\n",
    "nc_test_ids_path = os.path.join(base_dir, \"nc-test-ids.npy\")\n",
    "nc_test_ids = ids[-num_tests:]\n",
    "print(f\"Part of test ids for node classification: {nc_test_ids[:3]}\")\n",
    "np.save(nc_test_ids_path, nc_test_ids)\n",
    "print(f\"NC test ids are saved to {nc_test_ids_path}\\n\")\n",
    "\n",
    "nc_test_labels_path = os.path.join(base_dir, \"nc-test-labels.pt\")\n",
    "nc_test_labels = torch.randint(0, 10, (num_tests,))\n",
    "print(f\"Part of test labels for node classification: {nc_test_labels[:3]}\")\n",
    "torch.save(nc_test_labels, nc_test_labels_path)\n",
    "print(f\"NC test labels are saved to {nc_test_labels_path}\\n\")"
   ]
  },
  {
   "cell_type": "markdown",
   "metadata": {
    "id": "LhAcDCHQ_KJ0"
   },
   "source": [
    "#### Link Prediction Task\n",
    "For link prediction task, we need **seeds** or **corresponding labels and indexes** which representing the pos/neg property and group of the seeds for each training/validation/test set. Like feature data, numpy arrays and torch tensors are supported for these sets."
   ]
  },
  {
   "cell_type": "code",
   "execution_count": 6,
   "metadata": {
    "execution": {
     "iopub.execute_input": "2024-08-15T06:50:08.815659Z",
     "iopub.status.busy": "2024-08-15T06:50:08.815319Z",
     "iopub.status.idle": "2024-08-15T06:50:08.831265Z",
     "shell.execute_reply": "2024-08-15T06:50:08.830738Z"
    },
    "id": "u0jCnXIcAQy4"
   },
   "outputs": [
    {
     "name": "stdout",
     "output_type": "stream",
     "text": [
      "Part of train seeds for link prediction: [[603  30]\n",
      " [551 628]\n",
      " [969 471]]\n",
      "LP train seeds are saved to ./ondisk_dataset_homograph/lp-train-seeds.npy\n",
      "\n",
      "Part of val seeds for link prediction: [[633 601]\n",
      " [418 474]\n",
      " [518 512]]\n",
      "LP val seeds are saved to ./ondisk_dataset_homograph/lp-val-seeds.npy\n",
      "\n",
      "Part of val labels for link prediction: [1. 1. 1.]\n",
      "LP val labels are saved to ./ondisk_dataset_homograph/lp-val-labels.npy\n",
      "\n",
      "Part of val indexes for link prediction: [0 1 2]\n",
      "LP val indexes are saved to ./ondisk_dataset_homograph/lp-val-indexes.npy\n",
      "\n",
      "Part of test seeds for link prediction: [[994 563]\n",
      " [675 297]\n",
      " [674 678]]\n",
      "LP test seeds are saved to ./ondisk_dataset_homograph/lp-test-seeds.npy\n",
      "\n",
      "Part of val labels for link prediction: [1. 1. 1.]\n",
      "LP test labels are saved to ./ondisk_dataset_homograph/lp-test-labels.npy\n",
      "\n",
      "Part of test indexes for link prediction: [0 1 2]\n",
      "LP test indexes are saved to ./ondisk_dataset_homograph/lp-test-indexes.npy\n",
      "\n"
     ]
    }
   ],
   "source": [
    "num_trains = int(num_edges * 0.6)\n",
    "num_vals = int(num_edges * 0.2)\n",
    "num_tests = num_edges - num_trains - num_vals\n",
    "\n",
    "lp_train_seeds_path = os.path.join(base_dir, \"lp-train-seeds.npy\")\n",
    "lp_train_seeds = edges[:num_trains, :]\n",
    "print(f\"Part of train seeds for link prediction: {lp_train_seeds[:3]}\")\n",
    "np.save(lp_train_seeds_path, lp_train_seeds)\n",
    "print(f\"LP train seeds are saved to {lp_train_seeds_path}\\n\")\n",
    "\n",
    "lp_val_seeds_path = os.path.join(base_dir, \"lp-val-seeds.npy\")\n",
    "lp_val_seeds = edges[num_trains:num_trains+num_vals, :]\n",
    "lp_val_neg_dsts = np.random.randint(0, num_nodes, (num_vals, 10)).reshape(-1)\n",
    "lp_val_neg_srcs = np.repeat(lp_val_seeds[:,0], 10)\n",
    "lp_val_neg_seeds = np.concatenate((lp_val_neg_srcs, lp_val_neg_dsts)).reshape(2,-1).T\n",
    "lp_val_seeds = np.concatenate((lp_val_seeds, lp_val_neg_seeds))\n",
    "print(f\"Part of val seeds for link prediction: {lp_val_seeds[:3]}\")\n",
    "np.save(lp_val_seeds_path, lp_val_seeds)\n",
    "print(f\"LP val seeds are saved to {lp_val_seeds_path}\\n\")\n",
    "\n",
    "lp_val_labels_path = os.path.join(base_dir, \"lp-val-labels.npy\")\n",
    "lp_val_labels = np.empty(num_vals * (10 + 1))\n",
    "lp_val_labels[:num_vals] = 1\n",
    "lp_val_labels[num_vals:] = 0\n",
    "print(f\"Part of val labels for link prediction: {lp_val_labels[:3]}\")\n",
    "np.save(lp_val_labels_path, lp_val_labels)\n",
    "print(f\"LP val labels are saved to {lp_val_labels_path}\\n\")\n",
    "\n",
    "lp_val_indexes_path = os.path.join(base_dir, \"lp-val-indexes.npy\")\n",
    "lp_val_indexes = np.arange(0, num_vals)\n",
    "lp_val_neg_indexes = np.repeat(lp_val_indexes, 10)\n",
    "lp_val_indexes = np.concatenate([lp_val_indexes, lp_val_neg_indexes])\n",
    "print(f\"Part of val indexes for link prediction: {lp_val_indexes[:3]}\")\n",
    "np.save(lp_val_indexes_path, lp_val_indexes)\n",
    "print(f\"LP val indexes are saved to {lp_val_indexes_path}\\n\")\n",
    "\n",
    "lp_test_seeds_path = os.path.join(base_dir, \"lp-test-seeds.npy\")\n",
    "lp_test_seeds = edges[-num_tests:, :]\n",
    "lp_test_neg_dsts = np.random.randint(0, num_nodes, (num_tests, 10)).reshape(-1)\n",
    "lp_test_neg_srcs = np.repeat(lp_test_seeds[:,0], 10)\n",
    "lp_test_neg_seeds = np.concatenate((lp_test_neg_srcs, lp_test_neg_dsts)).reshape(2,-1).T\n",
    "lp_test_seeds = np.concatenate((lp_test_seeds, lp_test_neg_seeds))\n",
    "print(f\"Part of test seeds for link prediction: {lp_test_seeds[:3]}\")\n",
    "np.save(lp_test_seeds_path, lp_test_seeds)\n",
    "print(f\"LP test seeds are saved to {lp_test_seeds_path}\\n\")\n",
    "\n",
    "lp_test_labels_path = os.path.join(base_dir, \"lp-test-labels.npy\")\n",
    "lp_test_labels = np.empty(num_tests * (10 + 1))\n",
    "lp_test_labels[:num_tests] = 1\n",
    "lp_test_labels[num_tests:] = 0\n",
    "print(f\"Part of val labels for link prediction: {lp_test_labels[:3]}\")\n",
    "np.save(lp_test_labels_path, lp_test_labels)\n",
    "print(f\"LP test labels are saved to {lp_test_labels_path}\\n\")\n",
    "\n",
    "lp_test_indexes_path = os.path.join(base_dir, \"lp-test-indexes.npy\")\n",
    "lp_test_indexes = np.arange(0, num_tests)\n",
    "lp_test_neg_indexes = np.repeat(lp_test_indexes, 10)\n",
    "lp_test_indexes = np.concatenate([lp_test_indexes, lp_test_neg_indexes])\n",
    "print(f\"Part of test indexes for link prediction: {lp_test_indexes[:3]}\")\n",
    "np.save(lp_test_indexes_path, lp_test_indexes)\n",
    "print(f\"LP test indexes are saved to {lp_test_indexes_path}\\n\")"
   ]
  },
  {
   "cell_type": "markdown",
   "metadata": {
    "id": "wbk6-wxRK-6S"
   },
   "source": [
    "## Organize Data into YAML File\n",
    "Now we need to create a `metadata.yaml` file which contains the paths, dadta types of graph structure, feature data, training/validation/test sets.\n",
    "\n",
    "Notes:\n",
    "- all path should be relative to `metadata.yaml`.\n",
    "- Below fields are optional and not specified in below example.\n",
    "  - `in_memory`: indicates whether to load dada into memory or `mmap`. Default is `True`.\n",
    "\n",
    "Please refer to [YAML specification](https://github.com/dmlc/dgl/blob/master/docs/source/stochastic_training/ondisk-dataset-specification.rst) for more details."
   ]
  },
  {
   "cell_type": "code",
   "execution_count": 7,
   "metadata": {
    "execution": {
     "iopub.execute_input": "2024-08-15T06:50:08.833526Z",
     "iopub.status.busy": "2024-08-15T06:50:08.833325Z",
     "iopub.status.idle": "2024-08-15T06:50:08.838449Z",
     "shell.execute_reply": "2024-08-15T06:50:08.837947Z"
    },
    "id": "ddGTWW61Lpwp"
   },
   "outputs": [],
   "source": [
    "yaml_content = f\"\"\"\n",
    "    dataset_name: homogeneous_graph_nc_lp\n",
    "    graph:\n",
    "      nodes:\n",
    "        - num: {num_nodes}\n",
    "      edges:\n",
    "        - format: csv\n",
    "          path: {os.path.basename(edges_path)}\n",
    "    feature_data:\n",
    "      - domain: node\n",
    "        name: feat_0\n",
    "        format: numpy\n",
    "        path: {os.path.basename(node_feat_0_path)}\n",
    "      - domain: node\n",
    "        name: feat_1\n",
    "        format: torch\n",
    "        path: {os.path.basename(node_feat_1_path)}\n",
    "      - domain: edge\n",
    "        name: feat_0\n",
    "        format: numpy\n",
    "        path: {os.path.basename(edge_feat_0_path)}\n",
    "      - domain: edge\n",
    "        name: feat_1\n",
    "        format: torch\n",
    "        path: {os.path.basename(edge_feat_1_path)}\n",
    "    tasks:\n",
    "      - name: node_classification\n",
    "        num_classes: 10\n",
    "        train_set:\n",
    "          - data:\n",
    "              - name: seeds\n",
    "                format: numpy\n",
    "                path: {os.path.basename(nc_train_ids_path)}\n",
    "              - name: labels\n",
    "                format: torch\n",
    "                path: {os.path.basename(nc_train_labels_path)}\n",
    "        validation_set:\n",
    "          - data:\n",
    "              - name: seeds\n",
    "                format: numpy\n",
    "                path: {os.path.basename(nc_val_ids_path)}\n",
    "              - name: labels\n",
    "                format: torch\n",
    "                path: {os.path.basename(nc_val_labels_path)}\n",
    "        test_set:\n",
    "          - data:\n",
    "              - name: seeds\n",
    "                format: numpy\n",
    "                path: {os.path.basename(nc_test_ids_path)}\n",
    "              - name: labels\n",
    "                format: torch\n",
    "                path: {os.path.basename(nc_test_labels_path)}\n",
    "      - name: link_prediction\n",
    "        num_classes: 10\n",
    "        train_set:\n",
    "          - data:\n",
    "              - name: seeds\n",
    "                format: numpy\n",
    "                path: {os.path.basename(lp_train_seeds_path)}\n",
    "        validation_set:\n",
    "          - data:\n",
    "              - name: seeds\n",
    "                format: numpy\n",
    "                path: {os.path.basename(lp_val_seeds_path)}\n",
    "              - name: labels\n",
    "                format: numpy\n",
    "                path: {os.path.basename(lp_val_labels_path)}\n",
    "              - name: indexes\n",
    "                format: numpy\n",
    "                path: {os.path.basename(lp_val_indexes_path)}\n",
    "        test_set:\n",
    "          - data:\n",
    "              - name: seeds\n",
    "                format: numpy\n",
    "                path: {os.path.basename(lp_test_seeds_path)}\n",
    "              - name: labels\n",
    "                format: numpy\n",
    "                path: {os.path.basename(lp_test_labels_path)}\n",
    "              - name: indexes\n",
    "                format: numpy\n",
    "                path: {os.path.basename(lp_test_indexes_path)}\n",
    "\"\"\"\n",
    "metadata_path = os.path.join(base_dir, \"metadata.yaml\")\n",
    "with open(metadata_path, \"w\") as f:\n",
    "  f.write(yaml_content)"
   ]
  },
  {
   "cell_type": "markdown",
   "metadata": {
    "id": "kEfybHGhOW7O"
   },
   "source": [
    "## Instantiate `OnDiskDataset`\n",
    "Now we're ready to load dataset via `dgl.graphbolt.OnDiskDataset`. When instantiating, we just pass in the base directory where `metadata.yaml` file lies.\n",
    "\n",
    "During first instantiation, GraphBolt preprocesses the raw data such as constructing `FusedCSCSamplingGraph` from edges. All data including graph, feature data, training/validation/test sets are put into `preprocessed` directory after preprocessing. Any following dataset loading will skip the preprocess stage.\n",
    "\n",
    "After preprocessing, `load()` is required to be called explicitly in order to load graph, feature data and tasks."
   ]
  },
  {
   "cell_type": "code",
   "execution_count": 8,
   "metadata": {
    "execution": {
     "iopub.execute_input": "2024-08-15T06:50:08.840682Z",
     "iopub.status.busy": "2024-08-15T06:50:08.840374Z",
     "iopub.status.idle": "2024-08-15T06:50:08.905016Z",
     "shell.execute_reply": "2024-08-15T06:50:08.904476Z"
    },
    "id": "W58CZoSzOiyo"
   },
   "outputs": [
    {
     "name": "stdout",
     "output_type": "stream",
     "text": [
      "Start to preprocess the on-disk dataset.\n",
      "Finish preprocessing the on-disk dataset.\n",
      "Loaded graph: FusedCSCSamplingGraph(csc_indptr=tensor([    0,     8,    16,  ...,  9984,  9994, 10000], dtype=torch.int32),\n",
      "                      indices=tensor([906, 870, 925,  ..., 642, 146, 311], dtype=torch.int32),\n",
      "                      total_num_nodes=1000, num_edges=10000,)\n",
      "\n",
      "Loaded feature store: TorchBasedFeatureStore(\n",
      "    {(<OnDiskFeatureDataDomain.NODE: 'node'>, None, 'feat_0'): TorchBasedFeature(\n",
      "        feature=tensor([[0.2161, 0.2635, 0.3576, 0.9758, 0.1919],\n",
      "                        [0.6089, 0.1103, 0.6604, 0.9616, 0.1972],\n",
      "                        [0.5580, 0.8830, 0.0738, 0.7148, 0.4283],\n",
      "                        ...,\n",
      "                        [0.8272, 0.0073, 0.1924, 0.1911, 0.6326],\n",
      "                        [0.6869, 0.1567, 0.9494, 0.3685, 0.0918],\n",
      "                        [0.7285, 0.9868, 0.4545, 0.4925, 0.0934]], dtype=torch.float64),\n",
      "        metadata={},\n",
      "    ), (<OnDiskFeatureDataDomain.NODE: 'node'>, None, 'feat_1'): TorchBasedFeature(\n",
      "        feature=tensor([[0.7792, 0.8134, 0.2978, 0.3164, 0.6986],\n",
      "                        [0.9624, 0.1456, 0.9949, 0.0768, 0.1886],\n",
      "                        [0.8997, 0.7026, 0.8764, 0.4207, 0.1264],\n",
      "                        ...,\n",
      "                        [0.8844, 0.4672, 0.6981, 0.5273, 0.0962],\n",
      "                        [0.1409, 0.0346, 0.6646, 0.0764, 0.6472],\n",
      "                        [0.7992, 0.9732, 0.4599, 0.8520, 0.4632]]),\n",
      "        metadata={},\n",
      "    ), (<OnDiskFeatureDataDomain.EDGE: 'edge'>, None, 'feat_0'): TorchBasedFeature(\n",
      "        feature=tensor([[1.3406e-01, 4.5466e-02, 6.9735e-01, 3.7965e-01, 1.6784e-02],\n",
      "                        [1.8525e-01, 7.8204e-01, 7.2175e-01, 8.9086e-01, 1.7062e-01],\n",
      "                        [5.9578e-01, 9.2454e-01, 6.1883e-01, 9.9174e-01, 7.7412e-01],\n",
      "                        ...,\n",
      "                        [8.8000e-02, 4.4423e-01, 9.5403e-01, 6.8512e-01, 2.1140e-01],\n",
      "                        [2.7996e-01, 4.3966e-01, 9.9327e-01, 2.3818e-01, 2.0547e-02],\n",
      "                        [2.8299e-01, 5.9885e-04, 3.8143e-01, 2.6196e-01, 5.9354e-01]],\n",
      "                       dtype=torch.float64),\n",
      "        metadata={},\n",
      "    ), (<OnDiskFeatureDataDomain.EDGE: 'edge'>, None, 'feat_1'): TorchBasedFeature(\n",
      "        feature=tensor([[0.9775, 0.0943, 0.8800, 0.9817, 0.1582],\n",
      "                        [0.6223, 0.0284, 0.7590, 0.2925, 0.0897],\n",
      "                        [0.4058, 0.5594, 0.5312, 0.4414, 0.7394],\n",
      "                        ...,\n",
      "                        [0.8170, 0.2880, 0.7802, 0.2578, 0.4324],\n",
      "                        [0.4449, 0.7251, 0.9290, 0.0176, 0.7710],\n",
      "                        [0.5649, 0.4445, 0.0736, 0.8073, 0.4886]]),\n",
      "        metadata={},\n",
      "    )}\n",
      ")\n",
      "\n",
      "Loaded node classification task: OnDiskTask(validation_set=ItemSet(\n",
      "               items=(tensor([369, 211, 501, 899,  56, 878, 236, 936,  18, 213, 750, 465, 420, 247,\n",
      "                   606,  92, 511, 840, 906, 547, 927, 901, 517, 637, 196, 608, 572, 436,\n",
      "                    88, 755, 694, 610, 226, 935, 180, 740, 242, 488, 685, 223, 843, 812,\n",
      "                   620, 753, 658, 580, 455, 197, 822, 467, 815, 577, 541, 550, 772, 202,\n",
      "                   248, 432, 561, 999, 833, 300, 708, 387, 308, 233, 767, 898, 350,  53,\n",
      "                   762, 566, 190, 258, 390, 251, 494, 368, 101, 358, 743, 337, 169, 222,\n",
      "                   801,  58, 751, 267, 855, 937, 976, 868, 909, 239, 752, 152, 256, 249,\n",
      "                   481, 573, 157, 792, 450, 384, 115, 262, 889, 682,  27, 421, 795, 246,\n",
      "                   676, 594, 361,   0, 616, 185, 370, 879, 601, 712, 446, 842, 113, 723,\n",
      "                   991, 872, 459, 161, 292, 306, 904, 413, 737, 461, 496, 111, 638, 614,\n",
      "                   689, 663, 857,  52, 120, 619, 221, 692, 876, 417, 732, 911, 121, 415,\n",
      "                   404, 529, 571, 431, 893, 240, 297, 557, 439, 924, 603, 595, 720, 832,\n",
      "                   491, 110, 780, 916, 255, 919, 587, 507, 862, 943, 435, 882, 422,  26,\n",
      "                   568,  86, 411, 799, 821, 539, 184, 283, 757, 352, 231, 106, 205, 276,\n",
      "                   194, 921, 575, 468], dtype=torch.int32), tensor([7, 2, 9, 3, 7, 0, 1, 9, 9, 0, 0, 4, 1, 4, 6, 5, 1, 8, 0, 2, 3, 0, 4, 6,\n",
      "                   0, 8, 2, 8, 4, 9, 4, 1, 5, 4, 0, 2, 0, 6, 6, 0, 0, 2, 3, 9, 6, 7, 0, 3,\n",
      "                   4, 8, 1, 5, 8, 5, 0, 6, 0, 8, 0, 1, 7, 7, 7, 7, 6, 2, 3, 1, 8, 4, 7, 7,\n",
      "                   2, 0, 5, 3, 3, 7, 0, 9, 0, 2, 5, 4, 6, 5, 9, 6, 9, 4, 3, 2, 1, 3, 6, 6,\n",
      "                   9, 8, 5, 2, 3, 5, 7, 6, 0, 4, 6, 3, 7, 8, 0, 2, 4, 2, 5, 8, 7, 1, 1, 4,\n",
      "                   6, 0, 9, 8, 9, 0, 5, 4, 6, 9, 1, 8, 6, 4, 3, 0, 8, 5, 6, 6, 5, 6, 5, 8,\n",
      "                   4, 8, 6, 8, 9, 4, 9, 8, 2, 2, 0, 5, 7, 6, 1, 0, 9, 3, 1, 3, 9, 6, 1, 9,\n",
      "                   6, 4, 8, 6, 1, 4, 7, 8, 6, 4, 3, 6, 8, 2, 2, 1, 9, 2, 2, 9, 9, 7, 3, 5,\n",
      "                   0, 0, 4, 3, 8, 2, 4, 5])),\n",
      "               names=('seeds', 'labels'),\n",
      "           ),\n",
      "           train_set=ItemSet(\n",
      "               items=(tensor([536, 396, 440, 552, 189, 681, 744, 887, 134, 651, 579, 260, 852, 766,\n",
      "                   123, 964, 870, 602, 259, 648,   1, 542, 317, 493, 341, 193, 715, 612,\n",
      "                    64, 736, 569, 809, 984, 515, 994, 785, 934, 948,  76, 457, 628, 351,\n",
      "                   505, 742, 144, 129, 198, 535, 254, 912, 997, 891, 625, 716, 124, 611,\n",
      "                   164, 678,  39,  23,   4, 216, 277, 503, 749,  94, 929, 939, 406, 735,\n",
      "                   476, 706, 684,  30, 359, 401, 670, 156, 513, 963, 923, 993, 864, 191,\n",
      "                     2, 947, 705, 748, 429, 874,  82, 949, 905, 548,  63, 172, 760, 605,\n",
      "                   722, 230, 988, 666, 167, 158, 673, 969, 687, 320, 562, 224, 371, 867,\n",
      "                   521, 318, 777, 873, 298, 445, 214, 173, 593, 910, 128, 148, 825, 875,\n",
      "                   325, 122, 599, 925, 376, 460, 348, 174, 828, 345, 301, 897, 181, 403,\n",
      "                    74, 281,  24, 768, 514, 385, 178, 977,  12, 856,  90, 530, 533, 650,\n",
      "                   846, 810, 470, 986, 796, 704, 990, 334, 877, 426, 554, 849, 622, 806,\n",
      "                   323, 365, 714, 992, 347, 635, 462,  37, 871, 309, 278, 701, 724, 412,\n",
      "                   709, 700,  93, 600, 674, 639, 316, 649, 497, 861,  81, 955,  11, 241,\n",
      "                   733, 788, 389, 392, 888,  73, 235, 808,  84, 192,   7,  19,  16, 798,\n",
      "                   375, 269, 672, 475, 950, 265, 357, 160, 942, 920,  85, 335, 771, 719,\n",
      "                   294, 805, 131, 274, 282, 414,  40, 364, 758, 532, 433, 774, 207, 176,\n",
      "                   631, 820, 377, 791, 266, 880, 847, 922, 908, 914, 379, 854, 237, 553,\n",
      "                   645, 140, 441, 464, 826,  66, 349, 273, 797, 866,  47,  87, 556, 155,\n",
      "                   188, 784, 289, 582, 232, 558, 287, 578, 623,   5, 841, 339, 425, 793,\n",
      "                   903, 836,  97, 137, 853, 451, 848,  50, 665, 959, 699, 229, 179, 730,\n",
      "                   894, 938, 138, 952, 629, 182, 764, 640, 668, 555,  21,  48,  67, 200,\n",
      "                   590, 962, 589, 583, 381,  71,  65, 690, 458,  91, 954, 268,  38,  55,\n",
      "                   734, 975, 844,  57, 215, 738, 860, 814,  62, 250, 633,  77, 570, 438,\n",
      "                   721,   9, 186, 171, 114, 477, 142, 228, 304, 469,  78, 219, 598, 838,\n",
      "                    49, 366, 344,  28, 127, 644, 691, 725, 885, 150, 654, 596, 794, 100,\n",
      "                   966, 149, 586, 551, 811, 718, 671, 564, 597, 212,  59, 713, 804,  22,\n",
      "                   290, 244,  32, 170, 471, 380, 448, 613, 932, 296, 974, 324, 437,  70,\n",
      "                   957,  54, 915, 208, 765, 627, 166, 399, 933, 837, 210, 998, 540, 958,\n",
      "                   884, 970, 710, 576, 117, 543, 328, 677, 489, 490, 168, 218, 270, 900,\n",
      "                   982, 747, 326, 679,  29, 863,  35, 641, 618, 789, 105, 834,  75, 741,\n",
      "                   342, 510, 311, 727,  89, 159, 116, 322, 787, 479, 305, 647, 130, 967,\n",
      "                   285, 520, 187, 823, 257, 560, 147, 103, 807, 288, 881, 466, 776, 696,\n",
      "                   204, 386, 201, 225, 770, 280, 145, 367, 472, 332, 839, 245, 523, 656,\n",
      "                   987, 234,  31, 261, 953, 463,  69, 483, 478, 151, 790,  46, 126, 819,\n",
      "                   419, 979, 961, 680, 585, 407, 331, 388, 443, 428, 303, 383, 615, 728,\n",
      "                   382, 973, 643, 400, 112, 989, 378, 546, 312, 519, 661, 829, 473, 972,\n",
      "                   363, 418, 427, 495, 284, 313, 183, 659, 343, 592, 931,  15, 896, 965,\n",
      "                   442, 374,  10, 525, 279, 781, 177, 509, 996, 295, 484, 291, 892, 314,\n",
      "                   153, 434, 739, 356, 136, 209, 960, 333, 330, 607, 327, 985, 454, 307,\n",
      "                   299, 944, 646, 926, 695, 506, 845, 264, 456, 544, 669, 940,  83, 482,\n",
      "                    68, 773, 405, 321, 319, 163, 118, 499, 983, 782, 531,  33, 286, 621,\n",
      "                   824, 453, 783, 634, 336, 502, 109, 667, 362, 416, 492, 373],\n",
      "                  dtype=torch.int32), tensor([7, 1, 1, 9, 3, 4, 8, 1, 0, 7, 0, 7, 1, 7, 6, 8, 0, 9, 0, 5, 6, 0, 5, 1,\n",
      "                   9, 5, 6, 3, 8, 2, 2, 3, 4, 0, 4, 9, 8, 0, 1, 7, 3, 3, 0, 9, 9, 4, 1, 0,\n",
      "                   5, 3, 1, 0, 4, 6, 4, 3, 6, 3, 6, 5, 1, 3, 4, 5, 7, 6, 4, 2, 7, 0, 3, 9,\n",
      "                   1, 4, 7, 7, 0, 8, 9, 8, 8, 9, 9, 3, 0, 7, 4, 5, 0, 6, 1, 1, 6, 8, 6, 1,\n",
      "                   5, 7, 8, 6, 1, 5, 2, 9, 7, 4, 4, 1, 1, 8, 1, 7, 6, 0, 3, 2, 1, 4, 4, 5,\n",
      "                   9, 6, 7, 9, 4, 0, 9, 5, 5, 4, 1, 3, 4, 1, 3, 4, 5, 4, 2, 6, 8, 4, 2, 7,\n",
      "                   8, 3, 1, 1, 6, 6, 6, 7, 8, 3, 3, 7, 6, 9, 5, 4, 6, 3, 1, 1, 6, 7, 9, 5,\n",
      "                   2, 5, 7, 5, 5, 8, 6, 9, 4, 4, 2, 2, 0, 6, 1, 8, 1, 6, 1, 8, 3, 2, 5, 1,\n",
      "                   0, 7, 7, 9, 2, 6, 4, 7, 9, 9, 1, 1, 2, 4, 2, 4, 5, 3, 9, 1, 1, 0, 0, 3,\n",
      "                   1, 4, 6, 9, 9, 1, 3, 1, 0, 5, 6, 7, 4, 0, 9, 7, 5, 6, 3, 1, 9, 4, 1, 1,\n",
      "                   3, 4, 0, 1, 0, 0, 7, 0, 7, 2, 5, 0, 7, 3, 1, 5, 8, 5, 9, 9, 8, 7, 9, 6,\n",
      "                   5, 4, 9, 6, 3, 5, 3, 4, 8, 2, 4, 5, 6, 9, 5, 0, 8, 1, 1, 2, 1, 1, 8, 4,\n",
      "                   9, 4, 4, 0, 9, 1, 3, 0, 8, 7, 9, 9, 4, 2, 3, 0, 7, 1, 0, 0, 2, 9, 7, 8,\n",
      "                   5, 7, 8, 0, 5, 0, 4, 5, 0, 3, 8, 7, 1, 5, 4, 6, 4, 2, 1, 7, 0, 8, 1, 3,\n",
      "                   8, 9, 9, 2, 1, 2, 5, 0, 8, 7, 7, 1, 6, 7, 1, 7, 0, 8, 0, 4, 8, 6, 6, 1,\n",
      "                   6, 8, 5, 4, 3, 1, 8, 1, 0, 7, 2, 8, 2, 3, 0, 5, 2, 1, 9, 0, 0, 5, 0, 8,\n",
      "                   1, 3, 3, 3, 5, 3, 0, 3, 4, 9, 7, 4, 8, 7, 3, 7, 7, 2, 2, 4, 1, 6, 0, 8,\n",
      "                   3, 1, 7, 3, 5, 5, 4, 1, 3, 9, 5, 8, 7, 7, 5, 8, 2, 6, 0, 8, 3, 0, 2, 2,\n",
      "                   7, 0, 8, 3, 3, 6, 3, 3, 6, 8, 3, 6, 9, 2, 6, 6, 4, 2, 2, 8, 1, 4, 0, 2,\n",
      "                   9, 0, 9, 8, 6, 2, 6, 1, 1, 7, 1, 6, 9, 1, 7, 1, 1, 2, 9, 8, 2, 9, 8, 2,\n",
      "                   8, 6, 9, 0, 3, 1, 9, 0, 6, 4, 4, 3, 8, 4, 2, 9, 0, 2, 1, 0, 9, 3, 2, 9,\n",
      "                   9, 0, 5, 8, 2, 9, 5, 7, 3, 4, 2, 1, 0, 0, 9, 4, 2, 3, 9, 9, 1, 2, 2, 0,\n",
      "                   0, 1, 8, 2, 0, 6, 8, 7, 9, 9, 4, 8, 8, 9, 3, 0, 8, 6, 4, 8, 3, 3, 7, 7,\n",
      "                   5, 8, 7, 5, 5, 6, 0, 1, 4, 3, 9, 2, 1, 7, 8, 1, 2, 9, 0, 1, 1, 0, 4, 5,\n",
      "                   2, 2, 0, 9, 4, 2, 5, 8, 9, 1, 3, 6, 6, 6, 5, 2, 6, 0, 7, 7, 5, 3, 8, 7])),\n",
      "               names=('seeds', 'labels'),\n",
      "           ),\n",
      "           test_set=ItemSet(\n",
      "               items=(tensor([498, 346, 802, 526, 697, 108, 537, 946, 252,  17, 945,  20, 895, 759,\n",
      "                   763, 817, 132, 859, 310, 474, 409, 104, 538, 664, 372, 693,  14, 657,\n",
      "                   395,   8,  25, 559, 830, 338, 581,  72, 527, 238, 253, 360, 731,  51,\n",
      "                   786, 632, 886,  34, 816,  98, 397, 516, 199, 272, 917, 263, 769, 827,\n",
      "                   487, 831, 754, 711, 907, 890, 813, 143,  36, 818, 642, 584, 563, 761,\n",
      "                   141, 869, 504, 545, 217, 688, 447, 398, 293, 574, 956, 591, 865, 424,\n",
      "                   698, 518, 624, 729, 402, 220, 951, 430, 971, 275, 508, 588,  80, 227,\n",
      "                   302, 981, 354, 165, 995,  60, 522, 609,  41, 102, 162, 444, 636, 154,\n",
      "                   980, 139, 329, 528, 119, 485, 340, 779, 135, 175, 315, 835, 271, 968,\n",
      "                   707, 449, 683, 978, 604, 756, 653,  95, 941, 410, 617, 394, 745, 717,\n",
      "                    79,   3, 567,  43,   6, 195, 391, 858, 703, 928, 630, 133, 660,  44,\n",
      "                   524, 775, 393, 655, 243,  42, 355, 800,  45, 512, 726, 851, 902,  61,\n",
      "                   408, 803, 534, 626, 206,  96, 913, 500, 549,  13, 423, 746, 203,  99,\n",
      "                   353, 565, 125, 778, 452, 652, 107, 146, 930, 918, 850, 883, 686, 486,\n",
      "                   662, 702, 480, 675], dtype=torch.int32), tensor([0, 7, 3, 6, 6, 5, 6, 9, 8, 3, 4, 4, 8, 8, 8, 5, 6, 7, 0, 0, 3, 9, 9, 1,\n",
      "                   8, 9, 1, 6, 0, 7, 1, 6, 3, 6, 3, 2, 7, 0, 3, 7, 3, 2, 4, 2, 2, 4, 2, 4,\n",
      "                   9, 3, 4, 3, 5, 4, 4, 4, 3, 0, 4, 8, 2, 8, 2, 7, 8, 8, 8, 3, 2, 3, 4, 2,\n",
      "                   5, 7, 0, 1, 0, 5, 0, 5, 2, 9, 1, 6, 1, 6, 6, 6, 7, 5, 3, 6, 1, 1, 9, 9,\n",
      "                   6, 1, 0, 2, 6, 3, 5, 9, 4, 3, 4, 7, 8, 5, 5, 2, 0, 8, 5, 2, 0, 7, 2, 7,\n",
      "                   0, 0, 4, 0, 1, 0, 9, 3, 5, 8, 3, 3, 7, 7, 3, 8, 5, 4, 8, 8, 8, 8, 9, 2,\n",
      "                   1, 5, 2, 4, 5, 9, 6, 2, 8, 6, 3, 5, 7, 5, 8, 7, 4, 1, 1, 1, 9, 6, 5, 2,\n",
      "                   5, 0, 9, 2, 1, 7, 6, 0, 9, 0, 5, 7, 1, 1, 4, 4, 9, 0, 2, 9, 5, 0, 2, 3,\n",
      "                   8, 2, 3, 2, 6, 7, 9, 0])),\n",
      "               names=('seeds', 'labels'),\n",
      "           ),\n",
      "           metadata={'name': 'node_classification', 'num_classes': 10},)\n",
      "\n",
      "Loaded link prediction task: OnDiskTask(validation_set=ItemSet(\n",
      "               items=(tensor([[633, 601],\n",
      "                   [418, 474],\n",
      "                   [518, 512],\n",
      "                   ...,\n",
      "                   [289, 425],\n",
      "                   [289, 221],\n",
      "                   [289, 685]], dtype=torch.int32), tensor([1., 1., 1.,  ..., 0., 0., 0.], dtype=torch.float64), tensor([   0,    1,    2,  ..., 1999, 1999, 1999])),\n",
      "               names=('seeds', 'labels', 'indexes'),\n",
      "           ),\n",
      "           train_set=ItemSet(\n",
      "               items=(tensor([[603,  30],\n",
      "                   [551, 628],\n",
      "                   [969, 471],\n",
      "                   ...,\n",
      "                   [659, 827],\n",
      "                   [392, 356],\n",
      "                   [945, 719]], dtype=torch.int32),),\n",
      "               names=('seeds',),\n",
      "           ),\n",
      "           test_set=ItemSet(\n",
      "               items=(tensor([[994, 563],\n",
      "                   [675, 297],\n",
      "                   [674, 678],\n",
      "                   ...,\n",
      "                   [388, 160],\n",
      "                   [388,  91],\n",
      "                   [388, 963]], dtype=torch.int32), tensor([1., 1., 1.,  ..., 0., 0., 0.], dtype=torch.float64), tensor([   0,    1,    2,  ..., 1999, 1999, 1999])),\n",
      "               names=('seeds', 'labels', 'indexes'),\n",
      "           ),\n",
      "           metadata={'name': 'link_prediction', 'num_classes': 10},)\n",
      "\n"
     ]
    },
    {
     "name": "stderr",
     "output_type": "stream",
     "text": [
      "/home/ubuntu/dgl_test/python/dgl/graphbolt/impl/ondisk_dataset.py:463: GBWarning: Edge feature is stored, but edge IDs are not saved.\n",
      "  gb_warning(\"Edge feature is stored, but edge IDs are not saved.\")\n"
     ]
    }
   ],
   "source": [
    "dataset = gb.OnDiskDataset(base_dir).load()\n",
    "graph = dataset.graph\n",
    "print(f\"Loaded graph: {graph}\\n\")\n",
    "\n",
    "feature = dataset.feature\n",
    "print(f\"Loaded feature store: {feature}\\n\")\n",
    "\n",
    "tasks = dataset.tasks\n",
    "nc_task = tasks[0]\n",
    "print(f\"Loaded node classification task: {nc_task}\\n\")\n",
    "lp_task = tasks[1]\n",
    "print(f\"Loaded link prediction task: {lp_task}\\n\")"
   ]
  }
 ],
 "metadata": {
  "colab": {
   "private_outputs": true,
   "provenance": []
  },
  "kernelspec": {
   "display_name": "Python 3",
   "name": "python3"
  },
  "language_info": {
   "codemirror_mode": {
    "name": "ipython",
    "version": 3
   },
   "file_extension": ".py",
   "mimetype": "text/x-python",
   "name": "python",
   "nbconvert_exporter": "python",
   "pygments_lexer": "ipython3",
   "version": "3.10.14"
  }
 },
 "nbformat": 4,
 "nbformat_minor": 0
}

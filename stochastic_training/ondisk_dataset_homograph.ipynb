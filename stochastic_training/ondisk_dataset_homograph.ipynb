{
 "cells": [
  {
   "cell_type": "markdown",
   "metadata": {
    "id": "FnFhPMaAfLtJ"
   },
   "source": [
    "# OnDiskDataset for Homogeneous Graph\n",
    "\n",
    "[![Open In Colab](https://colab.research.google.com/assets/colab-badge.svg)](https://colab.research.google.com/github/dmlc/dgl/blob/master/notebooks/stochastic_training/ondisk_dataset_homograph.ipynb) [![GitHub](https://img.shields.io/badge/-View%20on%20GitHub-181717?logo=github&logoColor=ffffff)](https://github.com/dmlc/dgl/blob/master/notebooks/stochastic_training/ondisk_dataset_homograph.ipynb)\n",
    "\n",
    "This tutorial shows how to create `OnDiskDataset` for homogeneous graph that could be used in **GraphBolt** framework.\n",
    "\n",
    "By the end of this tutorial, you will be able to\n",
    "\n",
    "- organize graph structure data.\n",
    "- organize feature data.\n",
    "- organize training/validation/test set for specific tasks.\n",
    "\n",
    "To create an ``OnDiskDataset`` object, you need to organize all the data including graph structure, feature data and tasks into a directory. The directory should contain a ``metadata.yaml`` file that describes the metadata of the dataset.\n",
    "\n",
    "Now let's generate various data step by step and organize them together to instantiate `OnDiskDataset` finally."
   ]
  },
  {
   "cell_type": "markdown",
   "metadata": {
    "id": "Wlb19DtWgtzq"
   },
   "source": [
    "## Install DGL package"
   ]
  },
  {
   "cell_type": "code",
   "execution_count": 1,
   "metadata": {
    "execution": {
     "iopub.execute_input": "2024-07-03T03:37:44.086644Z",
     "iopub.status.busy": "2024-07-03T03:37:44.086238Z",
     "iopub.status.idle": "2024-07-03T03:37:48.787378Z",
     "shell.execute_reply": "2024-07-03T03:37:48.786600Z"
    },
    "id": "UojlT9ZGgyr9"
   },
   "outputs": [
    {
     "name": "stdout",
     "output_type": "stream",
     "text": [
      "Looking in links: https://data.dgl.ai/wheels-test/repo.html\r\n",
      "Requirement already satisfied: dgl in /opt/conda/envs/cpu/lib/python3.10/site-packages (2.2a240410)\r\n",
      "Requirement already satisfied: numpy>=1.14.0 in /opt/conda/envs/cpu/lib/python3.10/site-packages (from dgl) (1.26.4)\r\n",
      "Requirement already satisfied: scipy>=1.1.0 in /opt/conda/envs/cpu/lib/python3.10/site-packages (from dgl) (1.14.0)\r\n",
      "Requirement already satisfied: networkx>=2.1 in /opt/conda/envs/cpu/lib/python3.10/site-packages (from dgl) (3.3)\r\n",
      "Requirement already satisfied: requests>=2.19.0 in /opt/conda/envs/cpu/lib/python3.10/site-packages (from dgl) (2.32.3)\r\n",
      "Requirement already satisfied: tqdm in /opt/conda/envs/cpu/lib/python3.10/site-packages (from dgl) (4.66.4)\r\n",
      "Requirement already satisfied: psutil>=5.8.0 in /opt/conda/envs/cpu/lib/python3.10/site-packages (from dgl) (6.0.0)\r\n",
      "Requirement already satisfied: torchdata>=0.5.0 in /opt/conda/envs/cpu/lib/python3.10/site-packages (from dgl) (0.7.1)\r\n",
      "Requirement already satisfied: pandas in /opt/conda/envs/cpu/lib/python3.10/site-packages (from dgl) (2.2.2)\r\n"
     ]
    },
    {
     "name": "stdout",
     "output_type": "stream",
     "text": [
      "Requirement already satisfied: charset-normalizer<4,>=2 in /opt/conda/envs/cpu/lib/python3.10/site-packages (from requests>=2.19.0->dgl) (3.3.2)\r\n",
      "Requirement already satisfied: idna<4,>=2.5 in /opt/conda/envs/cpu/lib/python3.10/site-packages (from requests>=2.19.0->dgl) (3.7)\r\n",
      "Requirement already satisfied: urllib3<3,>=1.21.1 in /opt/conda/envs/cpu/lib/python3.10/site-packages (from requests>=2.19.0->dgl) (2.2.2)\r\n",
      "Requirement already satisfied: certifi>=2017.4.17 in /opt/conda/envs/cpu/lib/python3.10/site-packages (from requests>=2.19.0->dgl) (2024.6.2)\r\n",
      "Requirement already satisfied: torch>=2 in /opt/conda/envs/cpu/lib/python3.10/site-packages (from torchdata>=0.5.0->dgl) (2.1.0+cpu)\r\n"
     ]
    },
    {
     "name": "stdout",
     "output_type": "stream",
     "text": [
      "Requirement already satisfied: python-dateutil>=2.8.2 in /opt/conda/envs/cpu/lib/python3.10/site-packages (from pandas->dgl) (2.9.0.post0)\r\n",
      "Requirement already satisfied: pytz>=2020.1 in /opt/conda/envs/cpu/lib/python3.10/site-packages (from pandas->dgl) (2024.1)\r\n",
      "Requirement already satisfied: tzdata>=2022.7 in /opt/conda/envs/cpu/lib/python3.10/site-packages (from pandas->dgl) (2024.1)\r\n",
      "Requirement already satisfied: six>=1.5 in /opt/conda/envs/cpu/lib/python3.10/site-packages (from python-dateutil>=2.8.2->pandas->dgl) (1.16.0)\r\n",
      "Requirement already satisfied: filelock in /opt/conda/envs/cpu/lib/python3.10/site-packages (from torch>=2->torchdata>=0.5.0->dgl) (3.15.4)\r\n",
      "Requirement already satisfied: typing-extensions in /opt/conda/envs/cpu/lib/python3.10/site-packages (from torch>=2->torchdata>=0.5.0->dgl) (4.12.2)\r\n",
      "Requirement already satisfied: sympy in /opt/conda/envs/cpu/lib/python3.10/site-packages (from torch>=2->torchdata>=0.5.0->dgl) (1.12.1)\r\n",
      "Requirement already satisfied: jinja2 in /opt/conda/envs/cpu/lib/python3.10/site-packages (from torch>=2->torchdata>=0.5.0->dgl) (3.1.4)\r\n",
      "Requirement already satisfied: fsspec in /opt/conda/envs/cpu/lib/python3.10/site-packages (from torch>=2->torchdata>=0.5.0->dgl) (2024.6.0)\r\n"
     ]
    },
    {
     "name": "stdout",
     "output_type": "stream",
     "text": [
      "Requirement already satisfied: MarkupSafe>=2.0 in /opt/conda/envs/cpu/lib/python3.10/site-packages (from jinja2->torch>=2->torchdata>=0.5.0->dgl) (2.1.5)\r\n"
     ]
    },
    {
     "name": "stdout",
     "output_type": "stream",
     "text": [
      "Requirement already satisfied: mpmath<1.4.0,>=1.1.0 in /opt/conda/envs/cpu/lib/python3.10/site-packages (from sympy->torch>=2->torchdata>=0.5.0->dgl) (1.3.0)\r\n"
     ]
    },
    {
     "name": "stdout",
     "output_type": "stream",
     "text": [
      "DGL installed!\n"
     ]
    }
   ],
   "source": [
    "# Install required packages.\n",
    "import os\n",
    "import torch\n",
    "import numpy as np\n",
    "os.environ['TORCH'] = torch.__version__\n",
    "os.environ['DGLBACKEND'] = \"pytorch\"\n",
    "\n",
    "# Install the CPU version.\n",
    "device = torch.device(\"cpu\")\n",
    "!pip install --pre dgl -f https://data.dgl.ai/wheels-test/repo.html\n",
    "\n",
    "try:\n",
    "    import dgl\n",
    "    import dgl.graphbolt as gb\n",
    "    installed = True\n",
    "except ImportError as error:\n",
    "    installed = False\n",
    "    print(error)\n",
    "print(\"DGL installed!\" if installed else \"DGL not found!\")"
   ]
  },
  {
   "cell_type": "markdown",
   "metadata": {
    "id": "2R7WnSbjsfbr"
   },
   "source": [
    "## Data preparation\n",
    "In order to demonstrate how to organize various data, let's create a base directory first."
   ]
  },
  {
   "cell_type": "code",
   "execution_count": 2,
   "metadata": {
    "execution": {
     "iopub.execute_input": "2024-07-03T03:37:48.790803Z",
     "iopub.status.busy": "2024-07-03T03:37:48.790400Z",
     "iopub.status.idle": "2024-07-03T03:37:48.794599Z",
     "shell.execute_reply": "2024-07-03T03:37:48.794023Z"
    },
    "id": "SZipbzyltLfO"
   },
   "outputs": [
    {
     "name": "stdout",
     "output_type": "stream",
     "text": [
      "Created base directory: ./ondisk_dataset_homograph\n"
     ]
    }
   ],
   "source": [
    "base_dir = './ondisk_dataset_homograph'\n",
    "os.makedirs(base_dir, exist_ok=True)\n",
    "print(f\"Created base directory: {base_dir}\")"
   ]
  },
  {
   "cell_type": "markdown",
   "metadata": {
    "id": "qhNtIn_xhlnl"
   },
   "source": [
    "### Generate graph structure data\n",
    "For homogeneous graph, we just need to save edges(namely seeds) into  **Numpy** or **CSV** file.\n",
    "\n",
    "Note:\n",
    "- when saving to **Numpy**, the array requires to be in shape of `(2, N)`. This format is recommended as constructing graph from it is much faster than **CSV** file.\n",
    "- when saving to **CSV** file, do not save index and header.\n"
   ]
  },
  {
   "cell_type": "code",
   "execution_count": 3,
   "metadata": {
    "execution": {
     "iopub.execute_input": "2024-07-03T03:37:48.797622Z",
     "iopub.status.busy": "2024-07-03T03:37:48.797353Z",
     "iopub.status.idle": "2024-07-03T03:37:48.810851Z",
     "shell.execute_reply": "2024-07-03T03:37:48.810120Z"
    },
    "id": "HcBt4G5BmSjr"
   },
   "outputs": [
    {
     "name": "stdout",
     "output_type": "stream",
     "text": [
      "Part of edges: [[310 243]\n",
      " [688 304]\n",
      " [ 80  52]\n",
      " [820 144]\n",
      " [399 713]]\n",
      "Edges are saved into ./ondisk_dataset_homograph/edges.csv\n"
     ]
    }
   ],
   "source": [
    "import numpy as np\n",
    "import pandas as pd\n",
    "num_nodes = 1000\n",
    "num_edges = 10 * num_nodes\n",
    "edges_path = os.path.join(base_dir, \"edges.csv\")\n",
    "edges = np.random.randint(0, num_nodes, size=(num_edges, 2))\n",
    "\n",
    "print(f\"Part of edges: {edges[:5, :]}\")\n",
    "\n",
    "df = pd.DataFrame(edges)\n",
    "df.to_csv(edges_path, index=False, header=False)\n",
    "\n",
    "print(f\"Edges are saved into {edges_path}\")"
   ]
  },
  {
   "cell_type": "markdown",
   "metadata": {
    "id": "kh-4cPtzpcaH"
   },
   "source": [
    "### Generate feature data for graph\n",
    "For feature data, numpy arrays and torch tensors are supported for now."
   ]
  },
  {
   "cell_type": "code",
   "execution_count": 4,
   "metadata": {
    "execution": {
     "iopub.execute_input": "2024-07-03T03:37:48.813348Z",
     "iopub.status.busy": "2024-07-03T03:37:48.813036Z",
     "iopub.status.idle": "2024-07-03T03:37:48.845476Z",
     "shell.execute_reply": "2024-07-03T03:37:48.844964Z"
    },
    "id": "_PVu1u5brBhF"
   },
   "outputs": [
    {
     "name": "stdout",
     "output_type": "stream",
     "text": [
      "Part of node feature [feat_0]: [[0.25335982 0.74043738 0.5237942  0.1486067  0.16162807]\n",
      " [0.41588384 0.00973601 0.81521424 0.16664934 0.63799324]\n",
      " [0.46875218 0.3773011  0.09213921 0.08338691 0.8691158 ]]\n",
      "Node feature [feat_0] is saved to ./ondisk_dataset_homograph/node-feat-0.npy\n",
      "\n",
      "Part of node feature [feat_1]: tensor([[0.6900, 0.2574, 0.3916, 0.7693, 0.8497],\n",
      "        [0.7852, 0.0987, 0.1521, 0.1029, 0.4083],\n",
      "        [0.6315, 0.3494, 0.9056, 0.5758, 0.5820]])\n",
      "Node feature [feat_1] is saved to ./ondisk_dataset_homograph/node-feat-1.pt\n",
      "\n",
      "Part of edge feature [feat_0]: [[0.42838341 0.89582792 0.81541206 0.63834669 0.55242691]\n",
      " [0.52603673 0.11927383 0.33742752 0.47003653 0.73678361]\n",
      " [0.07849042 0.35641986 0.00935229 0.87067686 0.15264954]]\n",
      "Edge feature [feat_0] is saved to ./ondisk_dataset_homograph/edge-feat-0.npy\n",
      "\n",
      "Part of edge feature [feat_1]: tensor([[0.4828, 0.9617, 0.1367, 0.0491, 0.1609],\n",
      "        [0.5126, 0.9390, 0.9239, 0.6263, 0.8489],\n",
      "        [0.9788, 0.3827, 0.6389, 0.0600, 0.5274]])\n",
      "Edge feature [feat_1] is saved to ./ondisk_dataset_homograph/edge-feat-1.pt\n",
      "\n"
     ]
    }
   ],
   "source": [
    "# Generate node feature in numpy array.\n",
    "node_feat_0_path = os.path.join(base_dir, \"node-feat-0.npy\")\n",
    "node_feat_0 = np.random.rand(num_nodes, 5)\n",
    "print(f\"Part of node feature [feat_0]: {node_feat_0[:3, :]}\")\n",
    "np.save(node_feat_0_path, node_feat_0)\n",
    "print(f\"Node feature [feat_0] is saved to {node_feat_0_path}\\n\")\n",
    "\n",
    "# Generate another node feature in torch tensor\n",
    "node_feat_1_path = os.path.join(base_dir, \"node-feat-1.pt\")\n",
    "node_feat_1 = torch.rand(num_nodes, 5)\n",
    "print(f\"Part of node feature [feat_1]: {node_feat_1[:3, :]}\")\n",
    "torch.save(node_feat_1, node_feat_1_path)\n",
    "print(f\"Node feature [feat_1] is saved to {node_feat_1_path}\\n\")\n",
    "\n",
    "# Generate edge feature in numpy array.\n",
    "edge_feat_0_path = os.path.join(base_dir, \"edge-feat-0.npy\")\n",
    "edge_feat_0 = np.random.rand(num_edges, 5)\n",
    "print(f\"Part of edge feature [feat_0]: {edge_feat_0[:3, :]}\")\n",
    "np.save(edge_feat_0_path, edge_feat_0)\n",
    "print(f\"Edge feature [feat_0] is saved to {edge_feat_0_path}\\n\")\n",
    "\n",
    "# Generate another edge feature in torch tensor\n",
    "edge_feat_1_path = os.path.join(base_dir, \"edge-feat-1.pt\")\n",
    "edge_feat_1 = torch.rand(num_edges, 5)\n",
    "print(f\"Part of edge feature [feat_1]: {edge_feat_1[:3, :]}\")\n",
    "torch.save(edge_feat_1, edge_feat_1_path)\n",
    "print(f\"Edge feature [feat_1] is saved to {edge_feat_1_path}\\n\")\n"
   ]
  },
  {
   "cell_type": "markdown",
   "metadata": {
    "id": "ZyqgOtsIwzh_"
   },
   "source": [
    "### Generate tasks\n",
    "`OnDiskDataset` supports multiple tasks. For each task, we need to prepare training/validation/test sets respectively. Such sets usually vary among different tasks. In this tutorial, let's create a **Node Classification** task and **Link Prediction** task."
   ]
  },
  {
   "cell_type": "markdown",
   "metadata": {
    "id": "hVxHaDIfzCkr"
   },
   "source": [
    "#### Node Classification Task\n",
    "For node classification task, we need **node IDs** and corresponding **labels** for each training/validation/test set. Like feature data, numpy arrays and torch tensors are supported for these sets."
   ]
  },
  {
   "cell_type": "code",
   "execution_count": 5,
   "metadata": {
    "execution": {
     "iopub.execute_input": "2024-07-03T03:37:48.847943Z",
     "iopub.status.busy": "2024-07-03T03:37:48.847556Z",
     "iopub.status.idle": "2024-07-03T03:37:48.857171Z",
     "shell.execute_reply": "2024-07-03T03:37:48.856658Z"
    },
    "id": "S5-fyBbHzTCO"
   },
   "outputs": [
    {
     "name": "stdout",
     "output_type": "stream",
     "text": [
      "Part of train ids for node classification: [265 253 595]\n",
      "NC train ids are saved to ./ondisk_dataset_homograph/nc-train-ids.npy\n",
      "\n",
      "Part of train labels for node classification: tensor([8, 3, 2])\n",
      "NC train labels are saved to ./ondisk_dataset_homograph/nc-train-labels.pt\n",
      "\n",
      "Part of val ids for node classification: [210 409 658]\n",
      "NC val ids are saved to ./ondisk_dataset_homograph/nc-val-ids.npy\n",
      "\n",
      "Part of val labels for node classification: tensor([5, 1, 7])\n",
      "NC val labels are saved to ./ondisk_dataset_homograph/nc-val-labels.pt\n",
      "\n",
      "Part of test ids for node classification: [949 914  95]\n",
      "NC test ids are saved to ./ondisk_dataset_homograph/nc-test-ids.npy\n",
      "\n",
      "Part of test labels for node classification: tensor([2, 9, 9])\n",
      "NC test labels are saved to ./ondisk_dataset_homograph/nc-test-labels.pt\n",
      "\n"
     ]
    }
   ],
   "source": [
    "num_trains = int(num_nodes * 0.6)\n",
    "num_vals = int(num_nodes * 0.2)\n",
    "num_tests = num_nodes - num_trains - num_vals\n",
    "\n",
    "ids = np.arange(num_nodes)\n",
    "np.random.shuffle(ids)\n",
    "\n",
    "nc_train_ids_path = os.path.join(base_dir, \"nc-train-ids.npy\")\n",
    "nc_train_ids = ids[:num_trains]\n",
    "print(f\"Part of train ids for node classification: {nc_train_ids[:3]}\")\n",
    "np.save(nc_train_ids_path, nc_train_ids)\n",
    "print(f\"NC train ids are saved to {nc_train_ids_path}\\n\")\n",
    "\n",
    "nc_train_labels_path = os.path.join(base_dir, \"nc-train-labels.pt\")\n",
    "nc_train_labels = torch.randint(0, 10, (num_trains,))\n",
    "print(f\"Part of train labels for node classification: {nc_train_labels[:3]}\")\n",
    "torch.save(nc_train_labels, nc_train_labels_path)\n",
    "print(f\"NC train labels are saved to {nc_train_labels_path}\\n\")\n",
    "\n",
    "nc_val_ids_path = os.path.join(base_dir, \"nc-val-ids.npy\")\n",
    "nc_val_ids = ids[num_trains:num_trains+num_vals]\n",
    "print(f\"Part of val ids for node classification: {nc_val_ids[:3]}\")\n",
    "np.save(nc_val_ids_path, nc_val_ids)\n",
    "print(f\"NC val ids are saved to {nc_val_ids_path}\\n\")\n",
    "\n",
    "nc_val_labels_path = os.path.join(base_dir, \"nc-val-labels.pt\")\n",
    "nc_val_labels = torch.randint(0, 10, (num_vals,))\n",
    "print(f\"Part of val labels for node classification: {nc_val_labels[:3]}\")\n",
    "torch.save(nc_val_labels, nc_val_labels_path)\n",
    "print(f\"NC val labels are saved to {nc_val_labels_path}\\n\")\n",
    "\n",
    "nc_test_ids_path = os.path.join(base_dir, \"nc-test-ids.npy\")\n",
    "nc_test_ids = ids[-num_tests:]\n",
    "print(f\"Part of test ids for node classification: {nc_test_ids[:3]}\")\n",
    "np.save(nc_test_ids_path, nc_test_ids)\n",
    "print(f\"NC test ids are saved to {nc_test_ids_path}\\n\")\n",
    "\n",
    "nc_test_labels_path = os.path.join(base_dir, \"nc-test-labels.pt\")\n",
    "nc_test_labels = torch.randint(0, 10, (num_tests,))\n",
    "print(f\"Part of test labels for node classification: {nc_test_labels[:3]}\")\n",
    "torch.save(nc_test_labels, nc_test_labels_path)\n",
    "print(f\"NC test labels are saved to {nc_test_labels_path}\\n\")"
   ]
  },
  {
   "cell_type": "markdown",
   "metadata": {
    "id": "LhAcDCHQ_KJ0"
   },
   "source": [
    "#### Link Prediction Task\n",
    "For link prediction task, we need **seeds** or **corresponding labels and indexes** which representing the pos/neg property and group of the seeds for each training/validation/test set. Like feature data, numpy arrays and torch tensors are supported for these sets."
   ]
  },
  {
   "cell_type": "code",
   "execution_count": 6,
   "metadata": {
    "execution": {
     "iopub.execute_input": "2024-07-03T03:37:48.859511Z",
     "iopub.status.busy": "2024-07-03T03:37:48.859201Z",
     "iopub.status.idle": "2024-07-03T03:37:48.875828Z",
     "shell.execute_reply": "2024-07-03T03:37:48.875316Z"
    },
    "id": "u0jCnXIcAQy4"
   },
   "outputs": [
    {
     "name": "stdout",
     "output_type": "stream",
     "text": [
      "Part of train seeds for link prediction: [[310 243]\n",
      " [688 304]\n",
      " [ 80  52]]\n",
      "LP train seeds are saved to ./ondisk_dataset_homograph/lp-train-seeds.npy\n",
      "\n",
      "Part of val seeds for link prediction: [[507 347]\n",
      " [407 193]\n",
      " [174  19]]\n",
      "LP val seeds are saved to ./ondisk_dataset_homograph/lp-val-seeds.npy\n",
      "\n",
      "Part of val labels for link prediction: [1. 1. 1.]\n",
      "LP val labels are saved to ./ondisk_dataset_homograph/lp-val-labels.npy\n",
      "\n",
      "Part of val indexes for link prediction: [0 1 2]\n",
      "LP val indexes are saved to ./ondisk_dataset_homograph/lp-val-indexes.npy\n",
      "\n",
      "Part of test seeds for link prediction: [[377 733]\n",
      " [145 804]\n",
      " [265 877]]\n",
      "LP test seeds are saved to ./ondisk_dataset_homograph/lp-test-seeds.npy\n",
      "\n",
      "Part of val labels for link prediction: [1. 1. 1.]\n",
      "LP test labels are saved to ./ondisk_dataset_homograph/lp-test-labels.npy\n",
      "\n",
      "Part of test indexes for link prediction: [0 1 2]\n",
      "LP test indexes are saved to ./ondisk_dataset_homograph/lp-test-indexes.npy\n",
      "\n"
     ]
    }
   ],
   "source": [
    "num_trains = int(num_edges * 0.6)\n",
    "num_vals = int(num_edges * 0.2)\n",
    "num_tests = num_edges - num_trains - num_vals\n",
    "\n",
    "lp_train_seeds_path = os.path.join(base_dir, \"lp-train-seeds.npy\")\n",
    "lp_train_seeds = edges[:num_trains, :]\n",
    "print(f\"Part of train seeds for link prediction: {lp_train_seeds[:3]}\")\n",
    "np.save(lp_train_seeds_path, lp_train_seeds)\n",
    "print(f\"LP train seeds are saved to {lp_train_seeds_path}\\n\")\n",
    "\n",
    "lp_val_seeds_path = os.path.join(base_dir, \"lp-val-seeds.npy\")\n",
    "lp_val_seeds = edges[num_trains:num_trains+num_vals, :]\n",
    "lp_val_neg_dsts = np.random.randint(0, num_nodes, (num_vals, 10)).reshape(-1)\n",
    "lp_val_neg_srcs = np.repeat(lp_val_seeds[:,0], 10)\n",
    "lp_val_neg_seeds = np.concatenate((lp_val_neg_srcs, lp_val_neg_dsts)).reshape(2,-1).T\n",
    "lp_val_seeds = np.concatenate((lp_val_seeds, lp_val_neg_seeds))\n",
    "print(f\"Part of val seeds for link prediction: {lp_val_seeds[:3]}\")\n",
    "np.save(lp_val_seeds_path, lp_val_seeds)\n",
    "print(f\"LP val seeds are saved to {lp_val_seeds_path}\\n\")\n",
    "\n",
    "lp_val_labels_path = os.path.join(base_dir, \"lp-val-labels.npy\")\n",
    "lp_val_labels = np.empty(num_vals * (10 + 1))\n",
    "lp_val_labels[:num_vals] = 1\n",
    "lp_val_labels[num_vals:] = 0\n",
    "print(f\"Part of val labels for link prediction: {lp_val_labels[:3]}\")\n",
    "np.save(lp_val_labels_path, lp_val_labels)\n",
    "print(f\"LP val labels are saved to {lp_val_labels_path}\\n\")\n",
    "\n",
    "lp_val_indexes_path = os.path.join(base_dir, \"lp-val-indexes.npy\")\n",
    "lp_val_indexes = np.arange(0, num_vals)\n",
    "lp_val_neg_indexes = np.repeat(lp_val_indexes, 10)\n",
    "lp_val_indexes = np.concatenate([lp_val_indexes, lp_val_neg_indexes])\n",
    "print(f\"Part of val indexes for link prediction: {lp_val_indexes[:3]}\")\n",
    "np.save(lp_val_indexes_path, lp_val_indexes)\n",
    "print(f\"LP val indexes are saved to {lp_val_indexes_path}\\n\")\n",
    "\n",
    "lp_test_seeds_path = os.path.join(base_dir, \"lp-test-seeds.npy\")\n",
    "lp_test_seeds = edges[-num_tests:, :]\n",
    "lp_test_neg_dsts = np.random.randint(0, num_nodes, (num_tests, 10)).reshape(-1)\n",
    "lp_test_neg_srcs = np.repeat(lp_test_seeds[:,0], 10)\n",
    "lp_test_neg_seeds = np.concatenate((lp_test_neg_srcs, lp_test_neg_dsts)).reshape(2,-1).T\n",
    "lp_test_seeds = np.concatenate((lp_test_seeds, lp_test_neg_seeds))\n",
    "print(f\"Part of test seeds for link prediction: {lp_test_seeds[:3]}\")\n",
    "np.save(lp_test_seeds_path, lp_test_seeds)\n",
    "print(f\"LP test seeds are saved to {lp_test_seeds_path}\\n\")\n",
    "\n",
    "lp_test_labels_path = os.path.join(base_dir, \"lp-test-labels.npy\")\n",
    "lp_test_labels = np.empty(num_tests * (10 + 1))\n",
    "lp_test_labels[:num_tests] = 1\n",
    "lp_test_labels[num_tests:] = 0\n",
    "print(f\"Part of val labels for link prediction: {lp_test_labels[:3]}\")\n",
    "np.save(lp_test_labels_path, lp_test_labels)\n",
    "print(f\"LP test labels are saved to {lp_test_labels_path}\\n\")\n",
    "\n",
    "lp_test_indexes_path = os.path.join(base_dir, \"lp-test-indexes.npy\")\n",
    "lp_test_indexes = np.arange(0, num_tests)\n",
    "lp_test_neg_indexes = np.repeat(lp_test_indexes, 10)\n",
    "lp_test_indexes = np.concatenate([lp_test_indexes, lp_test_neg_indexes])\n",
    "print(f\"Part of test indexes for link prediction: {lp_test_indexes[:3]}\")\n",
    "np.save(lp_test_indexes_path, lp_test_indexes)\n",
    "print(f\"LP test indexes are saved to {lp_test_indexes_path}\\n\")"
   ]
  },
  {
   "cell_type": "markdown",
   "metadata": {
    "id": "wbk6-wxRK-6S"
   },
   "source": [
    "## Organize Data into YAML File\n",
    "Now we need to create a `metadata.yaml` file which contains the paths, dadta types of graph structure, feature data, training/validation/test sets.\n",
    "\n",
    "Notes:\n",
    "- all path should be relative to `metadata.yaml`.\n",
    "- Below fields are optional and not specified in below example.\n",
    "  - `in_memory`: indicates whether to load dada into memory or `mmap`. Default is `True`.\n",
    "\n",
    "Please refer to [YAML specification](https://github.com/dmlc/dgl/blob/master/docs/source/stochastic_training/ondisk-dataset-specification.rst) for more details."
   ]
  },
  {
   "cell_type": "code",
   "execution_count": 7,
   "metadata": {
    "execution": {
     "iopub.execute_input": "2024-07-03T03:37:48.878120Z",
     "iopub.status.busy": "2024-07-03T03:37:48.877815Z",
     "iopub.status.idle": "2024-07-03T03:37:48.883056Z",
     "shell.execute_reply": "2024-07-03T03:37:48.882535Z"
    },
    "id": "ddGTWW61Lpwp"
   },
   "outputs": [],
   "source": [
    "yaml_content = f\"\"\"\n",
    "    dataset_name: homogeneous_graph_nc_lp\n",
    "    graph:\n",
    "      nodes:\n",
    "        - num: {num_nodes}\n",
    "      edges:\n",
    "        - format: csv\n",
    "          path: {os.path.basename(edges_path)}\n",
    "    feature_data:\n",
    "      - domain: node\n",
    "        name: feat_0\n",
    "        format: numpy\n",
    "        path: {os.path.basename(node_feat_0_path)}\n",
    "      - domain: node\n",
    "        name: feat_1\n",
    "        format: torch\n",
    "        path: {os.path.basename(node_feat_1_path)}\n",
    "      - domain: edge\n",
    "        name: feat_0\n",
    "        format: numpy\n",
    "        path: {os.path.basename(edge_feat_0_path)}\n",
    "      - domain: edge\n",
    "        name: feat_1\n",
    "        format: torch\n",
    "        path: {os.path.basename(edge_feat_1_path)}\n",
    "    tasks:\n",
    "      - name: node_classification\n",
    "        num_classes: 10\n",
    "        train_set:\n",
    "          - data:\n",
    "              - name: seeds\n",
    "                format: numpy\n",
    "                path: {os.path.basename(nc_train_ids_path)}\n",
    "              - name: labels\n",
    "                format: torch\n",
    "                path: {os.path.basename(nc_train_labels_path)}\n",
    "        validation_set:\n",
    "          - data:\n",
    "              - name: seeds\n",
    "                format: numpy\n",
    "                path: {os.path.basename(nc_val_ids_path)}\n",
    "              - name: labels\n",
    "                format: torch\n",
    "                path: {os.path.basename(nc_val_labels_path)}\n",
    "        test_set:\n",
    "          - data:\n",
    "              - name: seeds\n",
    "                format: numpy\n",
    "                path: {os.path.basename(nc_test_ids_path)}\n",
    "              - name: labels\n",
    "                format: torch\n",
    "                path: {os.path.basename(nc_test_labels_path)}\n",
    "      - name: link_prediction\n",
    "        num_classes: 10\n",
    "        train_set:\n",
    "          - data:\n",
    "              - name: seeds\n",
    "                format: numpy\n",
    "                path: {os.path.basename(lp_train_seeds_path)}\n",
    "        validation_set:\n",
    "          - data:\n",
    "              - name: seeds\n",
    "                format: numpy\n",
    "                path: {os.path.basename(lp_val_seeds_path)}\n",
    "              - name: labels\n",
    "                format: numpy\n",
    "                path: {os.path.basename(lp_val_labels_path)}\n",
    "              - name: indexes\n",
    "                format: numpy\n",
    "                path: {os.path.basename(lp_val_indexes_path)}\n",
    "        test_set:\n",
    "          - data:\n",
    "              - name: seeds\n",
    "                format: numpy\n",
    "                path: {os.path.basename(lp_test_seeds_path)}\n",
    "              - name: labels\n",
    "                format: numpy\n",
    "                path: {os.path.basename(lp_test_labels_path)}\n",
    "              - name: indexes\n",
    "                format: numpy\n",
    "                path: {os.path.basename(lp_test_indexes_path)}\n",
    "\"\"\"\n",
    "metadata_path = os.path.join(base_dir, \"metadata.yaml\")\n",
    "with open(metadata_path, \"w\") as f:\n",
    "  f.write(yaml_content)"
   ]
  },
  {
   "cell_type": "markdown",
   "metadata": {
    "id": "kEfybHGhOW7O"
   },
   "source": [
    "## Instantiate `OnDiskDataset`\n",
    "Now we're ready to load dataset via `dgl.graphbolt.OnDiskDataset`. When instantiating, we just pass in the base directory where `metadata.yaml` file lies.\n",
    "\n",
    "During first instantiation, GraphBolt preprocesses the raw data such as constructing `FusedCSCSamplingGraph` from edges. All data including graph, feature data, training/validation/test sets are put into `preprocessed` directory after preprocessing. Any following dataset loading will skip the preprocess stage.\n",
    "\n",
    "After preprocessing, `load()` is required to be called explicitly in order to load graph, feature data and tasks."
   ]
  },
  {
   "cell_type": "code",
   "execution_count": 8,
   "metadata": {
    "execution": {
     "iopub.execute_input": "2024-07-03T03:37:48.885332Z",
     "iopub.status.busy": "2024-07-03T03:37:48.884941Z",
     "iopub.status.idle": "2024-07-03T03:37:48.951548Z",
     "shell.execute_reply": "2024-07-03T03:37:48.951013Z"
    },
    "id": "W58CZoSzOiyo"
   },
   "outputs": [
    {
     "name": "stdout",
     "output_type": "stream",
     "text": [
      "Start to preprocess the on-disk dataset.\n",
      "Finish preprocessing the on-disk dataset.\n",
      "Loaded graph: FusedCSCSamplingGraph(csc_indptr=tensor([    0,    10,    16,  ...,  9983,  9990, 10000], dtype=torch.int32),\n",
      "                      indices=tensor([321, 387, 677,  ..., 433, 378, 381], dtype=torch.int32),\n",
      "                      total_num_nodes=1000, num_edges=10000,)\n",
      "\n",
      "Loaded feature store: TorchBasedFeatureStore(\n",
      "    {(<OnDiskFeatureDataDomain.NODE: 'node'>, None, 'feat_0'): TorchBasedFeature(\n",
      "        feature=tensor([[2.5336e-01, 7.4044e-01, 5.2379e-01, 1.4861e-01, 1.6163e-01],\n",
      "                        [4.1588e-01, 9.7360e-03, 8.1521e-01, 1.6665e-01, 6.3799e-01],\n",
      "                        [4.6875e-01, 3.7730e-01, 9.2139e-02, 8.3387e-02, 8.6912e-01],\n",
      "                        ...,\n",
      "                        [7.6222e-02, 7.4669e-01, 9.5951e-01, 3.1482e-01, 9.0611e-01],\n",
      "                        [3.9771e-01, 7.8972e-01, 5.4920e-01, 4.0037e-01, 1.3518e-01],\n",
      "                        [4.2179e-01, 7.7592e-01, 3.6813e-01, 7.6662e-01, 5.5237e-04]],\n",
      "                       dtype=torch.float64),\n",
      "        metadata={},\n",
      "    ), (<OnDiskFeatureDataDomain.NODE: 'node'>, None, 'feat_1'): TorchBasedFeature(\n",
      "        feature=tensor([[0.6900, 0.2574, 0.3916, 0.7693, 0.8497],\n",
      "                        [0.7852, 0.0987, 0.1521, 0.1029, 0.4083],\n",
      "                        [0.6315, 0.3494, 0.9056, 0.5758, 0.5820],\n",
      "                        ...,\n",
      "                        [0.1546, 0.9997, 0.0345, 0.3138, 0.9321],\n",
      "                        [0.9684, 0.7313, 0.0439, 0.7082, 0.4355],\n",
      "                        [0.0968, 0.2080, 0.5729, 0.5125, 0.4694]]),\n",
      "        metadata={},\n",
      "    ), (<OnDiskFeatureDataDomain.EDGE: 'edge'>, None, 'feat_0'): TorchBasedFeature(\n",
      "        feature=tensor([[0.4284, 0.8958, 0.8154, 0.6383, 0.5524],\n",
      "                        [0.5260, 0.1193, 0.3374, 0.4700, 0.7368],\n",
      "                        [0.0785, 0.3564, 0.0094, 0.8707, 0.1526],\n",
      "                        ...,\n",
      "                        [0.3884, 0.8155, 0.1361, 0.2181, 0.4914],\n",
      "                        [0.2796, 0.1402, 0.7824, 0.6097, 0.5840],\n",
      "                        [0.9242, 0.0930, 0.2018, 0.8674, 0.9745]], dtype=torch.float64),\n",
      "        metadata={},\n",
      "    ), (<OnDiskFeatureDataDomain.EDGE: 'edge'>, None, 'feat_1'): TorchBasedFeature(\n",
      "        feature=tensor([[0.4828, 0.9617, 0.1367, 0.0491, 0.1609],\n",
      "                        [0.5126, 0.9390, 0.9239, 0.6263, 0.8489],\n",
      "                        [0.9788, 0.3827, 0.6389, 0.0600, 0.5274],\n",
      "                        ...,\n",
      "                        [0.3205, 0.3473, 0.3563, 0.3093, 0.4707],\n",
      "                        [0.6967, 0.3676, 0.8972, 0.5374, 0.3164],\n",
      "                        [0.0395, 0.3546, 0.3644, 0.7063, 0.9971]]),\n",
      "        metadata={},\n",
      "    )}\n",
      ")\n",
      "\n",
      "Loaded node classification task: OnDiskTask(validation_set=ItemSet(\n",
      "               items=(tensor([210, 409, 658, 872, 768, 425, 232, 292, 222, 987, 656, 492, 300, 162,\n",
      "                   814, 875, 699, 728, 603, 164, 385, 927, 828, 732, 167, 197, 505,  63,\n",
      "                    73,  72, 169, 470,  46, 436, 387, 623, 231, 713, 544,  44, 719, 976,\n",
      "                   855, 961, 202, 802, 192, 424, 113, 744, 672, 753, 563, 471, 958, 100,\n",
      "                   849, 606, 573, 237, 919, 839, 930,  89,  55, 302, 102, 209, 283, 690,\n",
      "                    14, 250,  67, 233, 372, 696, 420, 509, 141, 112, 633, 755, 451, 271,\n",
      "                   360, 922, 405, 206, 791, 799, 153, 326,  42, 571, 631, 140, 393, 168,\n",
      "                    25, 396, 999, 518, 229, 404, 136, 940, 805, 964, 959, 852, 457, 515,\n",
      "                   711, 669, 747, 722,  96, 759, 416,  79, 217, 290, 356, 668, 464, 321,\n",
      "                   137, 410, 186, 221, 467,  65, 677, 808, 649, 826,  91, 189, 546, 382,\n",
      "                   776, 975, 565, 881, 666, 980, 602, 146, 481, 394,  47, 840, 228, 223,\n",
      "                    53, 543, 170, 741,  88, 377,   9, 752, 448,  74, 903, 334, 717, 458,\n",
      "                    84, 564, 911, 444, 718, 660, 583, 503, 574, 350, 315, 427, 821, 787,\n",
      "                   748, 336, 982,  37, 127, 483, 106, 909,  94, 251, 854, 663, 530, 556,\n",
      "                   133, 417, 284, 671], dtype=torch.int32), tensor([5, 1, 7, 4, 7, 9, 7, 3, 2, 8, 6, 2, 0, 3, 6, 7, 8, 6, 5, 9, 4, 8, 0, 1,\n",
      "                   7, 8, 1, 7, 0, 6, 3, 6, 0, 9, 7, 8, 8, 7, 7, 9, 0, 2, 2, 5, 2, 3, 2, 1,\n",
      "                   9, 7, 0, 9, 1, 8, 2, 5, 3, 3, 9, 2, 6, 6, 8, 6, 2, 3, 3, 0, 1, 4, 1, 7,\n",
      "                   7, 4, 6, 3, 7, 1, 8, 0, 3, 7, 8, 9, 0, 4, 3, 9, 2, 4, 8, 5, 1, 4, 0, 6,\n",
      "                   9, 6, 0, 8, 4, 5, 7, 1, 7, 1, 6, 0, 0, 6, 9, 9, 8, 2, 5, 7, 5, 0, 0, 7,\n",
      "                   7, 7, 6, 9, 2, 1, 2, 9, 8, 7, 7, 4, 1, 1, 4, 3, 8, 0, 6, 7, 1, 4, 1, 4,\n",
      "                   6, 0, 9, 2, 3, 4, 8, 5, 0, 4, 8, 2, 0, 7, 9, 8, 2, 0, 9, 9, 4, 1, 9, 1,\n",
      "                   1, 4, 5, 4, 5, 5, 5, 0, 5, 1, 2, 2, 2, 7, 1, 4, 7, 2, 6, 4, 0, 3, 5, 1,\n",
      "                   4, 5, 0, 7, 9, 1, 0, 7])),\n",
      "               names=('seeds', 'labels'),\n",
      "           ),\n",
      "           train_set=ItemSet(\n",
      "               items=(tensor([265, 253, 595, 908, 402, 684, 499, 116, 395, 740,  17, 650, 418, 923,\n",
      "                   245, 924, 737, 289, 767, 504, 373, 297, 878, 867, 456,  26,  34, 415,\n",
      "                   331, 773,  82, 528, 364, 310, 816, 154, 440, 183, 670, 897, 733, 421,\n",
      "                   892, 171, 408, 700, 242, 419,  15, 193, 323, 531, 474, 428, 792, 368,\n",
      "                    77, 320, 165, 126, 389, 340, 638, 635, 890, 654, 794, 462, 942, 490,\n",
      "                   838, 581, 883,  75, 225, 928, 757, 686, 610, 119, 998, 853, 103, 151,\n",
      "                   176, 359, 640, 971, 386, 988, 687, 561, 178, 282, 758, 590, 645, 293,\n",
      "                   836, 570, 143,  60, 211, 762, 278, 187, 482, 286, 896, 547, 337, 871,\n",
      "                   538, 325, 120, 469, 314,  86, 991,  66, 235, 268, 347, 593, 527, 627,\n",
      "                   179, 476, 695, 616, 536, 859, 819, 727, 437, 682, 723, 901, 158,  62,\n",
      "                   880, 639, 341, 114,   7, 652, 163, 985, 212, 929, 207, 879, 653, 370,\n",
      "                   484,  98,  49, 932, 784, 295, 344, 993, 246, 147, 642, 351, 925, 788,\n",
      "                   831, 907, 944, 743, 963, 725, 950, 636, 479, 607,  45, 806, 308, 870,\n",
      "                   702, 734, 491, 655, 931, 234, 910, 701, 318, 585, 122, 111, 288, 977,\n",
      "                   135, 269,  93, 346,  24, 174, 461, 609, 694,  32, 384, 534, 276, 917,\n",
      "                   798, 342, 615, 204, 841, 630,  39, 142, 764, 716,  92, 553, 617, 926,\n",
      "                   524, 729,   4, 205, 188, 558, 721, 502, 587,  56,  57, 588, 159, 651,\n",
      "                   446, 257, 401, 256, 542, 939, 850, 487, 967, 353, 219, 508, 775, 625,\n",
      "                   681, 519, 712, 445, 843, 760, 259, 916, 818, 123,  54, 678, 475,   8,\n",
      "                   449, 628, 858, 576, 121, 697, 369,   3, 506, 946, 145, 327, 173, 191,\n",
      "                   488, 685, 240, 208, 688, 904,  18, 374, 378, 770, 887, 891,  51, 599,\n",
      "                   898, 354, 254, 952, 955, 746,  71, 842, 333, 149, 731, 893, 266, 184,\n",
      "                   443, 545, 662, 465,  22, 619, 957, 500,  99, 567, 943, 526, 634, 435,\n",
      "                    97, 258,  78, 549, 131, 710,  16, 128, 996, 868, 885, 846, 363, 664,\n",
      "                    10, 938, 452, 790, 726, 172, 796,  19, 453, 263, 966,  21,  64,  76,\n",
      "                   439, 244, 704,  87, 742, 763, 915,  40, 604, 407, 213, 486, 472, 262,\n",
      "                    28,  29, 577, 473, 620, 156, 659, 319,  35, 317, 965, 513, 303, 962,\n",
      "                   894,   0, 312, 580, 921, 614, 182, 683, 355, 422, 578, 954, 795, 978,\n",
      "                   552, 661, 322, 181, 566, 709, 161, 272, 105, 629, 856, 155, 139, 375,\n",
      "                    20, 562, 736,  33, 751, 912, 414, 873, 520, 598, 511, 554, 392,  41,\n",
      "                   459, 130, 275, 330,   2, 335, 277, 813, 454,  58, 423, 388, 433, 621,\n",
      "                   972, 525, 679, 152, 780, 498, 864, 529, 667, 568, 304, 281, 825, 797,\n",
      "                   643, 874, 801, 227, 986, 495, 612, 541, 285, 117, 309, 521, 398, 238,\n",
      "                   703, 101, 611, 754, 847, 953, 575, 551, 411, 974, 362, 447, 480,  59,\n",
      "                   644, 862, 888, 493, 933, 494, 548, 584,  70, 399,   1, 693, 837, 379,\n",
      "                   771, 676, 714, 339, 715, 485, 815, 807, 895, 624, 835, 589, 301,   6,\n",
      "                   397, 248, 739, 124, 605,  36, 400, 450, 622, 294, 665, 125,  90, 307,\n",
      "                   935, 769, 460, 822, 781, 261, 195, 804, 434, 981, 995, 532, 708, 906,\n",
      "                   560, 992, 507, 477,  43, 412, 540, 673, 948, 936, 960, 951, 426, 376,\n",
      "                   380, 720, 811, 766, 863, 594, 830, 220, 352, 247, 900, 361, 134, 432,\n",
      "                   243, 273, 348, 866, 413, 869, 381, 591, 198, 177, 979, 367, 230, 406,\n",
      "                   332, 218, 848, 239, 442, 550, 371, 761, 675, 539, 689, 324, 886,  13,\n",
      "                   626,  48, 468, 745, 214, 941, 150, 680, 160, 431, 956, 260],\n",
      "                  dtype=torch.int32), tensor([8, 3, 2, 2, 4, 8, 4, 0, 0, 5, 0, 7, 4, 5, 6, 4, 7, 6, 2, 2, 2, 6, 7, 5,\n",
      "                   7, 2, 2, 8, 4, 8, 9, 5, 8, 2, 7, 7, 6, 3, 2, 7, 4, 0, 9, 2, 8, 8, 0, 1,\n",
      "                   5, 1, 2, 1, 6, 4, 0, 0, 5, 1, 5, 9, 1, 7, 1, 0, 9, 1, 6, 8, 3, 1, 4, 6,\n",
      "                   4, 4, 3, 2, 4, 0, 9, 6, 9, 6, 1, 7, 5, 1, 6, 1, 5, 7, 7, 4, 3, 9, 9, 1,\n",
      "                   9, 2, 0, 0, 1, 5, 6, 1, 8, 2, 6, 2, 0, 3, 4, 2, 6, 1, 1, 3, 1, 7, 6, 3,\n",
      "                   0, 2, 8, 3, 7, 4, 2, 8, 4, 8, 6, 8, 9, 1, 2, 4, 1, 8, 3, 3, 1, 7, 3, 1,\n",
      "                   4, 3, 0, 6, 8, 4, 7, 9, 2, 7, 5, 4, 0, 4, 9, 2, 4, 2, 7, 5, 1, 9, 8, 5,\n",
      "                   7, 0, 8, 1, 8, 1, 5, 3, 2, 9, 0, 5, 2, 0, 6, 4, 7, 1, 0, 1, 8, 9, 7, 4,\n",
      "                   8, 8, 6, 6, 2, 0, 2, 8, 0, 5, 5, 9, 3, 1, 3, 3, 2, 3, 8, 5, 0, 8, 2, 2,\n",
      "                   9, 1, 7, 2, 6, 0, 5, 0, 3, 3, 1, 5, 7, 2, 1, 1, 1, 3, 7, 4, 0, 7, 2, 1,\n",
      "                   5, 5, 2, 2, 1, 9, 4, 1, 7, 2, 4, 5, 2, 5, 8, 7, 1, 8, 9, 9, 7, 7, 9, 0,\n",
      "                   2, 0, 8, 6, 9, 1, 5, 7, 1, 3, 4, 9, 1, 0, 1, 6, 8, 7, 0, 7, 0, 8, 2, 0,\n",
      "                   8, 1, 8, 2, 3, 8, 3, 3, 7, 1, 7, 0, 9, 3, 4, 8, 9, 7, 7, 2, 0, 1, 1, 1,\n",
      "                   0, 3, 4, 4, 3, 0, 2, 0, 0, 7, 1, 0, 4, 8, 8, 7, 1, 1, 7, 7, 7, 9, 3, 5,\n",
      "                   7, 8, 2, 3, 7, 3, 8, 9, 7, 9, 4, 4, 9, 7, 6, 5, 2, 0, 8, 0, 6, 7, 1, 6,\n",
      "                   0, 1, 3, 5, 4, 2, 1, 0, 0, 6, 9, 0, 2, 8, 4, 7, 3, 9, 1, 3, 8, 6, 0, 4,\n",
      "                   4, 1, 4, 0, 2, 0, 7, 3, 5, 1, 5, 3, 1, 7, 8, 6, 6, 1, 8, 4, 0, 1, 9, 5,\n",
      "                   1, 6, 4, 2, 0, 8, 1, 0, 7, 6, 6, 7, 6, 1, 7, 9, 1, 3, 0, 9, 9, 6, 6, 5,\n",
      "                   6, 8, 2, 2, 1, 8, 2, 5, 1, 0, 2, 4, 9, 7, 6, 6, 9, 2, 7, 1, 5, 6, 9, 7,\n",
      "                   6, 4, 3, 4, 7, 1, 3, 5, 6, 2, 0, 1, 4, 2, 3, 9, 2, 0, 8, 8, 2, 2, 8, 0,\n",
      "                   7, 8, 5, 7, 3, 9, 2, 0, 6, 5, 9, 1, 3, 8, 0, 2, 9, 7, 9, 6, 3, 9, 9, 0,\n",
      "                   0, 6, 2, 7, 5, 2, 3, 9, 7, 0, 2, 6, 3, 9, 8, 2, 2, 7, 3, 7, 6, 5, 1, 5,\n",
      "                   4, 2, 0, 7, 3, 7, 0, 7, 4, 5, 2, 8, 1, 5, 2, 4, 2, 9, 9, 9, 8, 2, 8, 3,\n",
      "                   4, 9, 3, 5, 2, 2, 0, 4, 5, 0, 3, 6, 4, 9, 6, 4, 5, 5, 6, 8, 7, 3, 7, 6,\n",
      "                   5, 9, 0, 1, 6, 8, 6, 2, 8, 1, 5, 8, 0, 1, 9, 1, 8, 4, 8, 2, 9, 4, 2, 7])),\n",
      "               names=('seeds', 'labels'),\n",
      "           ),\n",
      "           test_set=ItemSet(\n",
      "               items=(tensor([949, 914,  95, 270, 241,  85, 203,  12, 648, 756, 783, 692, 510, 789,\n",
      "                   132, 778, 129, 306, 579, 845, 236, 201, 735, 774, 226, 118, 827, 877,\n",
      "                   279, 834, 730, 824, 812, 104, 800, 851, 882, 343, 497, 569, 782, 196,\n",
      "                   185, 861, 533, 516,  80, 809,  61, 586, 430, 328, 706, 190, 937, 537,\n",
      "                     5, 252, 749, 148, 523, 973,  81, 657, 601, 820, 884, 144, 109, 313,\n",
      "                   311, 698, 390, 613, 514, 249, 691, 984, 298, 592, 823, 403, 803,  50,\n",
      "                   902, 329, 349, 608,  52, 918, 637, 305, 572, 383, 994, 905, 920,  11,\n",
      "                    68, 597, 107, 646, 138, 724, 934, 860, 280, 438,  31,  30, 647, 632,\n",
      "                    23, 779, 738, 366, 641,  69, 255, 267, 750, 983, 338, 857, 522, 274,\n",
      "                   844, 772, 357, 299, 287, 555, 478, 180, 969, 224, 200, 358, 108, 947,\n",
      "                   489, 110, 600, 557, 216, 264, 441, 582, 705, 596, 496, 559, 291, 889,\n",
      "                   968, 345, 707, 429, 765, 455, 115, 166, 535, 199, 817, 215, 945, 777,\n",
      "                   899, 365, 990, 157, 793, 674, 865, 810, 618, 833, 785, 194,  38, 391,\n",
      "                    27, 829, 501, 512, 175, 463, 876, 466,  83, 517, 296, 997, 786, 989,\n",
      "                   316, 970, 913, 832], dtype=torch.int32), tensor([2, 9, 9, 9, 9, 6, 9, 6, 1, 7, 6, 0, 2, 3, 1, 0, 0, 0, 0, 0, 5, 0, 0, 7,\n",
      "                   1, 4, 1, 8, 0, 8, 6, 9, 4, 1, 8, 0, 4, 6, 8, 1, 1, 1, 3, 4, 8, 3, 4, 8,\n",
      "                   7, 8, 2, 4, 8, 9, 4, 7, 9, 4, 0, 7, 8, 1, 7, 0, 3, 8, 2, 0, 6, 3, 4, 4,\n",
      "                   3, 9, 8, 4, 8, 9, 2, 1, 1, 4, 3, 7, 4, 3, 2, 7, 5, 7, 9, 6, 4, 9, 0, 3,\n",
      "                   7, 7, 0, 9, 6, 3, 5, 1, 3, 4, 8, 7, 1, 5, 3, 7, 1, 3, 5, 1, 5, 1, 1, 1,\n",
      "                   2, 4, 8, 7, 8, 2, 5, 7, 3, 9, 1, 6, 6, 2, 6, 7, 8, 0, 8, 7, 5, 8, 2, 3,\n",
      "                   8, 3, 2, 2, 8, 8, 6, 7, 7, 3, 2, 2, 6, 4, 7, 3, 6, 8, 6, 1, 0, 7, 0, 2,\n",
      "                   6, 5, 1, 6, 8, 5, 6, 0, 8, 3, 2, 9, 8, 6, 4, 9, 1, 9, 4, 9, 8, 2, 5, 7,\n",
      "                   3, 8, 6, 3, 1, 5, 3, 6])),\n",
      "               names=('seeds', 'labels'),\n",
      "           ),\n",
      "           metadata={'name': 'node_classification', 'num_classes': 10},)\n",
      "\n",
      "Loaded link prediction task: OnDiskTask(validation_set=ItemSet(\n",
      "               items=(tensor([[507, 347],\n",
      "                   [407, 193],\n",
      "                   [174,  19],\n",
      "                   ...,\n",
      "                   [920, 915],\n",
      "                   [920, 126],\n",
      "                   [920, 715]], dtype=torch.int32), tensor([1., 1., 1.,  ..., 0., 0., 0.], dtype=torch.float64), tensor([   0,    1,    2,  ..., 1999, 1999, 1999])),\n",
      "               names=('seeds', 'labels', 'indexes'),\n",
      "           ),\n",
      "           train_set=ItemSet(\n",
      "               items=(tensor([[310, 243],\n",
      "                   [688, 304],\n",
      "                   [ 80,  52],\n",
      "                   ...,\n",
      "                   [604,  80],\n",
      "                   [795, 486],\n",
      "                   [595, 512]], dtype=torch.int32),),\n",
      "               names=('seeds',),\n",
      "           ),\n",
      "           test_set=ItemSet(\n",
      "               items=(tensor([[377, 733],\n",
      "                   [145, 804],\n",
      "                   [265, 877],\n",
      "                   ...,\n",
      "                   [144, 474],\n",
      "                   [144, 954],\n",
      "                   [144,  84]], dtype=torch.int32), tensor([1., 1., 1.,  ..., 0., 0., 0.], dtype=torch.float64), tensor([   0,    1,    2,  ..., 1999, 1999, 1999])),\n",
      "               names=('seeds', 'labels', 'indexes'),\n",
      "           ),\n",
      "           metadata={'name': 'link_prediction', 'num_classes': 10},)\n",
      "\n"
     ]
    },
    {
     "name": "stderr",
     "output_type": "stream",
     "text": [
      "/home/ubuntu/temp/dgl/python/dgl/graphbolt/impl/ondisk_dataset.py:460: DGLWarning: Edge feature is stored, but edge IDs are not saved.\n",
      "  dgl_warning(\"Edge feature is stored, but edge IDs are not saved.\")\n"
     ]
    }
   ],
   "source": [
    "dataset = gb.OnDiskDataset(base_dir).load()\n",
    "graph = dataset.graph\n",
    "print(f\"Loaded graph: {graph}\\n\")\n",
    "\n",
    "feature = dataset.feature\n",
    "print(f\"Loaded feature store: {feature}\\n\")\n",
    "\n",
    "tasks = dataset.tasks\n",
    "nc_task = tasks[0]\n",
    "print(f\"Loaded node classification task: {nc_task}\\n\")\n",
    "lp_task = tasks[1]\n",
    "print(f\"Loaded link prediction task: {lp_task}\\n\")"
   ]
  }
 ],
 "metadata": {
  "colab": {
   "private_outputs": true,
   "provenance": []
  },
  "kernelspec": {
   "display_name": "Python 3",
   "name": "python3"
  },
  "language_info": {
   "codemirror_mode": {
    "name": "ipython",
    "version": 3
   },
   "file_extension": ".py",
   "mimetype": "text/x-python",
   "name": "python",
   "nbconvert_exporter": "python",
   "pygments_lexer": "ipython3",
   "version": "3.10.14"
  }
 },
 "nbformat": 4,
 "nbformat_minor": 0
}

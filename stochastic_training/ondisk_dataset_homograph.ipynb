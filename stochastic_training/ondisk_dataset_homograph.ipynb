{
 "cells": [
  {
   "cell_type": "markdown",
   "metadata": {
    "id": "FnFhPMaAfLtJ"
   },
   "source": [
    "# OnDiskDataset for Homogeneous Graph\n",
    "\n",
    "[![Open In Colab](https://colab.research.google.com/assets/colab-badge.svg)](https://colab.research.google.com/github/dmlc/dgl/blob/master/notebooks/stochastic_training/ondisk_dataset_homograph.ipynb) [![GitHub](https://img.shields.io/badge/-View%20on%20GitHub-181717?logo=github&logoColor=ffffff)](https://github.com/dmlc/dgl/blob/master/notebooks/stochastic_training/ondisk_dataset_homograph.ipynb)\n",
    "\n",
    "This tutorial shows how to create `OnDiskDataset` for homogeneous graph that could be used in **GraphBolt** framework.\n",
    "\n",
    "By the end of this tutorial, you will be able to\n",
    "\n",
    "- organize graph structure data.\n",
    "- organize feature data.\n",
    "- organize training/validation/test set for specific tasks.\n",
    "\n",
    "To create an ``OnDiskDataset`` object, you need to organize all the data including graph structure, feature data and tasks into a directory. The directory should contain a ``metadata.yaml`` file that describes the metadata of the dataset.\n",
    "\n",
    "Now let's generate various data step by step and organize them together to instantiate `OnDiskDataset` finally."
   ]
  },
  {
   "cell_type": "markdown",
   "metadata": {
    "id": "Wlb19DtWgtzq"
   },
   "source": [
    "## Install DGL package"
   ]
  },
  {
   "cell_type": "code",
   "execution_count": 1,
   "metadata": {
    "execution": {
     "iopub.execute_input": "2024-10-27T13:16:40.651976Z",
     "iopub.status.busy": "2024-10-27T13:16:40.651664Z",
     "iopub.status.idle": "2024-10-27T13:16:43.683302Z",
     "shell.execute_reply": "2024-10-27T13:16:43.682257Z"
    },
    "id": "UojlT9ZGgyr9"
   },
   "outputs": [
    {
     "name": "stdout",
     "output_type": "stream",
     "text": [
      "Looking in links: https://data.dgl.ai/wheels-test/repo.html\r\n",
      "Requirement already satisfied: dgl in /opt/conda/envs/dgl-dev-cpu/lib/python3.10/site-packages (2.2a240410)\r\n",
      "Requirement already satisfied: numpy>=1.14.0 in /opt/conda/envs/dgl-dev-cpu/lib/python3.10/site-packages (from dgl) (1.26.4)\r\n",
      "Requirement already satisfied: scipy>=1.1.0 in /opt/conda/envs/dgl-dev-cpu/lib/python3.10/site-packages (from dgl) (1.14.1)\r\n",
      "Requirement already satisfied: networkx>=2.1 in /opt/conda/envs/dgl-dev-cpu/lib/python3.10/site-packages (from dgl) (3.4.2)\r\n",
      "Requirement already satisfied: requests>=2.19.0 in /opt/conda/envs/dgl-dev-cpu/lib/python3.10/site-packages (from dgl) (2.32.3)\r\n",
      "Requirement already satisfied: tqdm in /opt/conda/envs/dgl-dev-cpu/lib/python3.10/site-packages (from dgl) (4.66.5)\r\n",
      "Requirement already satisfied: psutil>=5.8.0 in /opt/conda/envs/dgl-dev-cpu/lib/python3.10/site-packages (from dgl) (6.1.0)\r\n",
      "Requirement already satisfied: torchdata>=0.5.0 in /opt/conda/envs/dgl-dev-cpu/lib/python3.10/site-packages (from dgl) (0.9.0)\r\n",
      "Requirement already satisfied: pandas in /opt/conda/envs/dgl-dev-cpu/lib/python3.10/site-packages (from dgl) (2.2.3)\r\n"
     ]
    },
    {
     "name": "stdout",
     "output_type": "stream",
     "text": [
      "Requirement already satisfied: charset-normalizer<4,>=2 in /opt/conda/envs/dgl-dev-cpu/lib/python3.10/site-packages (from requests>=2.19.0->dgl) (3.4.0)\r\n",
      "Requirement already satisfied: idna<4,>=2.5 in /opt/conda/envs/dgl-dev-cpu/lib/python3.10/site-packages (from requests>=2.19.0->dgl) (3.10)\r\n",
      "Requirement already satisfied: urllib3<3,>=1.21.1 in /opt/conda/envs/dgl-dev-cpu/lib/python3.10/site-packages (from requests>=2.19.0->dgl) (2.2.3)\r\n",
      "Requirement already satisfied: certifi>=2017.4.17 in /opt/conda/envs/dgl-dev-cpu/lib/python3.10/site-packages (from requests>=2.19.0->dgl) (2024.8.30)\r\n",
      "Requirement already satisfied: torch>=2 in /opt/conda/envs/dgl-dev-cpu/lib/python3.10/site-packages (from torchdata>=0.5.0->dgl) (2.1.0+cpu)\r\n"
     ]
    },
    {
     "name": "stdout",
     "output_type": "stream",
     "text": [
      "Requirement already satisfied: python-dateutil>=2.8.2 in /opt/conda/envs/dgl-dev-cpu/lib/python3.10/site-packages (from pandas->dgl) (2.9.0.post0)\r\n",
      "Requirement already satisfied: pytz>=2020.1 in /opt/conda/envs/dgl-dev-cpu/lib/python3.10/site-packages (from pandas->dgl) (2024.2)\r\n",
      "Requirement already satisfied: tzdata>=2022.7 in /opt/conda/envs/dgl-dev-cpu/lib/python3.10/site-packages (from pandas->dgl) (2024.2)\r\n",
      "Requirement already satisfied: six>=1.5 in /opt/conda/envs/dgl-dev-cpu/lib/python3.10/site-packages (from python-dateutil>=2.8.2->pandas->dgl) (1.16.0)\r\n",
      "Requirement already satisfied: filelock in /opt/conda/envs/dgl-dev-cpu/lib/python3.10/site-packages (from torch>=2->torchdata>=0.5.0->dgl) (3.16.1)\r\n",
      "Requirement already satisfied: typing-extensions in /opt/conda/envs/dgl-dev-cpu/lib/python3.10/site-packages (from torch>=2->torchdata>=0.5.0->dgl) (4.12.2)\r\n",
      "Requirement already satisfied: sympy in /opt/conda/envs/dgl-dev-cpu/lib/python3.10/site-packages (from torch>=2->torchdata>=0.5.0->dgl) (1.13.3)\r\n",
      "Requirement already satisfied: jinja2 in /opt/conda/envs/dgl-dev-cpu/lib/python3.10/site-packages (from torch>=2->torchdata>=0.5.0->dgl) (3.1.4)\r\n",
      "Requirement already satisfied: fsspec in /opt/conda/envs/dgl-dev-cpu/lib/python3.10/site-packages (from torch>=2->torchdata>=0.5.0->dgl) (2024.10.0)\r\n"
     ]
    },
    {
     "name": "stdout",
     "output_type": "stream",
     "text": [
      "Requirement already satisfied: MarkupSafe>=2.0 in /opt/conda/envs/dgl-dev-cpu/lib/python3.10/site-packages (from jinja2->torch>=2->torchdata>=0.5.0->dgl) (3.0.2)\r\n",
      "Requirement already satisfied: mpmath<1.4,>=1.1.0 in /opt/conda/envs/dgl-dev-cpu/lib/python3.10/site-packages (from sympy->torch>=2->torchdata>=0.5.0->dgl) (1.3.0)\r\n"
     ]
    },
    {
     "name": "stdout",
     "output_type": "stream",
     "text": [
      "\u001b[33mWARNING: Running pip as the 'root' user can result in broken permissions and conflicting behaviour with the system package manager, possibly rendering your system unusable.It is recommended to use a virtual environment instead: https://pip.pypa.io/warnings/venv. Use the --root-user-action option if you know what you are doing and want to suppress this warning.\u001b[0m\u001b[33m\r\n",
      "\u001b[0m"
     ]
    },
    {
     "name": "stdout",
     "output_type": "stream",
     "text": [
      "DGL installed!\n"
     ]
    }
   ],
   "source": [
    "# Install required packages.\n",
    "import os\n",
    "import torch\n",
    "import numpy as np\n",
    "os.environ['TORCH'] = torch.__version__\n",
    "os.environ['DGLBACKEND'] = \"pytorch\"\n",
    "\n",
    "# Install the CPU version.\n",
    "device = torch.device(\"cpu\")\n",
    "!pip install --pre dgl -f https://data.dgl.ai/wheels-test/repo.html\n",
    "\n",
    "try:\n",
    "    import dgl\n",
    "    import dgl.graphbolt as gb\n",
    "    installed = True\n",
    "except ImportError as error:\n",
    "    installed = False\n",
    "    print(error)\n",
    "print(\"DGL installed!\" if installed else \"DGL not found!\")"
   ]
  },
  {
   "cell_type": "markdown",
   "metadata": {
    "id": "2R7WnSbjsfbr"
   },
   "source": [
    "## Data preparation\n",
    "In order to demonstrate how to organize various data, let's create a base directory first."
   ]
  },
  {
   "cell_type": "code",
   "execution_count": 2,
   "metadata": {
    "execution": {
     "iopub.execute_input": "2024-10-27T13:16:43.686663Z",
     "iopub.status.busy": "2024-10-27T13:16:43.685814Z",
     "iopub.status.idle": "2024-10-27T13:16:43.691830Z",
     "shell.execute_reply": "2024-10-27T13:16:43.690926Z"
    },
    "id": "SZipbzyltLfO"
   },
   "outputs": [
    {
     "name": "stdout",
     "output_type": "stream",
     "text": [
      "Created base directory: ./ondisk_dataset_homograph\n"
     ]
    }
   ],
   "source": [
    "base_dir = './ondisk_dataset_homograph'\n",
    "os.makedirs(base_dir, exist_ok=True)\n",
    "print(f\"Created base directory: {base_dir}\")"
   ]
  },
  {
   "cell_type": "markdown",
   "metadata": {
    "id": "qhNtIn_xhlnl"
   },
   "source": [
    "### Generate graph structure data\n",
    "For homogeneous graph, we just need to save edges(namely seeds) into  **Numpy** or **CSV** file.\n",
    "\n",
    "Note:\n",
    "- when saving to **Numpy**, the array requires to be in shape of `(2, N)`. This format is recommended as constructing graph from it is much faster than **CSV** file.\n",
    "- when saving to **CSV** file, do not save index and header.\n"
   ]
  },
  {
   "cell_type": "code",
   "execution_count": 3,
   "metadata": {
    "execution": {
     "iopub.execute_input": "2024-10-27T13:16:43.694590Z",
     "iopub.status.busy": "2024-10-27T13:16:43.694387Z",
     "iopub.status.idle": "2024-10-27T13:16:43.708826Z",
     "shell.execute_reply": "2024-10-27T13:16:43.707914Z"
    },
    "id": "HcBt4G5BmSjr"
   },
   "outputs": [
    {
     "name": "stdout",
     "output_type": "stream",
     "text": [
      "Part of edges: [[637 483]\n",
      " [733  11]\n",
      " [956 623]\n",
      " [  6 421]\n",
      " [158 194]]\n",
      "Edges are saved into ./ondisk_dataset_homograph/edges.csv\n"
     ]
    }
   ],
   "source": [
    "import numpy as np\n",
    "import pandas as pd\n",
    "num_nodes = 1000\n",
    "num_edges = 10 * num_nodes\n",
    "edges_path = os.path.join(base_dir, \"edges.csv\")\n",
    "edges = np.random.randint(0, num_nodes, size=(num_edges, 2))\n",
    "\n",
    "print(f\"Part of edges: {edges[:5, :]}\")\n",
    "\n",
    "df = pd.DataFrame(edges)\n",
    "df.to_csv(edges_path, index=False, header=False)\n",
    "\n",
    "print(f\"Edges are saved into {edges_path}\")"
   ]
  },
  {
   "cell_type": "markdown",
   "metadata": {
    "id": "kh-4cPtzpcaH"
   },
   "source": [
    "### Generate feature data for graph\n",
    "For feature data, numpy arrays and torch tensors are supported for now."
   ]
  },
  {
   "cell_type": "code",
   "execution_count": 4,
   "metadata": {
    "execution": {
     "iopub.execute_input": "2024-10-27T13:16:43.711329Z",
     "iopub.status.busy": "2024-10-27T13:16:43.711019Z",
     "iopub.status.idle": "2024-10-27T13:16:43.731054Z",
     "shell.execute_reply": "2024-10-27T13:16:43.730002Z"
    },
    "id": "_PVu1u5brBhF"
   },
   "outputs": [
    {
     "name": "stdout",
     "output_type": "stream",
     "text": [
      "Part of node feature [feat_0]: [[0.58739358 0.29071904 0.45000454 0.62706829 0.98028505]\n",
      " [0.39569759 0.72473789 0.99355405 0.79167041 0.34748835]\n",
      " [0.62815682 0.13887117 0.10446503 0.49915425 0.43453507]]\n",
      "Node feature [feat_0] is saved to ./ondisk_dataset_homograph/node-feat-0.npy\n",
      "\n",
      "Part of node feature [feat_1]: tensor([[0.9137, 0.3830, 0.9644, 0.1053, 0.9974],\n",
      "        [0.9977, 0.9579, 0.2079, 0.0667, 0.6129],\n",
      "        [0.9414, 0.2186, 0.5746, 0.6396, 0.1340]])\n",
      "Node feature [feat_1] is saved to ./ondisk_dataset_homograph/node-feat-1.pt\n",
      "\n",
      "Part of edge feature [feat_0]: [[0.87419695 0.92188658 0.83755095 0.66240564 0.42660814]\n",
      " [0.64934911 0.02444883 0.24853921 0.66438477 0.99282861]\n",
      " [0.10968336 0.13020448 0.65330408 0.30777553 0.78912472]]\n",
      "Edge feature [feat_0] is saved to ./ondisk_dataset_homograph/edge-feat-0.npy\n",
      "\n",
      "Part of edge feature [feat_1]: tensor([[0.8785, 0.7621, 0.7378, 0.3148, 0.3235],\n",
      "        [0.1341, 0.0324, 0.6846, 0.2928, 0.5417],\n",
      "        [0.2578, 0.8165, 0.9666, 0.8188, 0.4185]])\n",
      "Edge feature [feat_1] is saved to ./ondisk_dataset_homograph/edge-feat-1.pt\n",
      "\n"
     ]
    }
   ],
   "source": [
    "# Generate node feature in numpy array.\n",
    "node_feat_0_path = os.path.join(base_dir, \"node-feat-0.npy\")\n",
    "node_feat_0 = np.random.rand(num_nodes, 5)\n",
    "print(f\"Part of node feature [feat_0]: {node_feat_0[:3, :]}\")\n",
    "np.save(node_feat_0_path, node_feat_0)\n",
    "print(f\"Node feature [feat_0] is saved to {node_feat_0_path}\\n\")\n",
    "\n",
    "# Generate another node feature in torch tensor\n",
    "node_feat_1_path = os.path.join(base_dir, \"node-feat-1.pt\")\n",
    "node_feat_1 = torch.rand(num_nodes, 5)\n",
    "print(f\"Part of node feature [feat_1]: {node_feat_1[:3, :]}\")\n",
    "torch.save(node_feat_1, node_feat_1_path)\n",
    "print(f\"Node feature [feat_1] is saved to {node_feat_1_path}\\n\")\n",
    "\n",
    "# Generate edge feature in numpy array.\n",
    "edge_feat_0_path = os.path.join(base_dir, \"edge-feat-0.npy\")\n",
    "edge_feat_0 = np.random.rand(num_edges, 5)\n",
    "print(f\"Part of edge feature [feat_0]: {edge_feat_0[:3, :]}\")\n",
    "np.save(edge_feat_0_path, edge_feat_0)\n",
    "print(f\"Edge feature [feat_0] is saved to {edge_feat_0_path}\\n\")\n",
    "\n",
    "# Generate another edge feature in torch tensor\n",
    "edge_feat_1_path = os.path.join(base_dir, \"edge-feat-1.pt\")\n",
    "edge_feat_1 = torch.rand(num_edges, 5)\n",
    "print(f\"Part of edge feature [feat_1]: {edge_feat_1[:3, :]}\")\n",
    "torch.save(edge_feat_1, edge_feat_1_path)\n",
    "print(f\"Edge feature [feat_1] is saved to {edge_feat_1_path}\\n\")\n"
   ]
  },
  {
   "cell_type": "markdown",
   "metadata": {
    "id": "ZyqgOtsIwzh_"
   },
   "source": [
    "### Generate tasks\n",
    "`OnDiskDataset` supports multiple tasks. For each task, we need to prepare training/validation/test sets respectively. Such sets usually vary among different tasks. In this tutorial, let's create a **Node Classification** task and **Link Prediction** task."
   ]
  },
  {
   "cell_type": "markdown",
   "metadata": {
    "id": "hVxHaDIfzCkr"
   },
   "source": [
    "#### Node Classification Task\n",
    "For node classification task, we need **node IDs** and corresponding **labels** for each training/validation/test set. Like feature data, numpy arrays and torch tensors are supported for these sets."
   ]
  },
  {
   "cell_type": "code",
   "execution_count": 5,
   "metadata": {
    "execution": {
     "iopub.execute_input": "2024-10-27T13:16:43.733478Z",
     "iopub.status.busy": "2024-10-27T13:16:43.733111Z",
     "iopub.status.idle": "2024-10-27T13:16:43.745500Z",
     "shell.execute_reply": "2024-10-27T13:16:43.744513Z"
    },
    "id": "S5-fyBbHzTCO"
   },
   "outputs": [
    {
     "name": "stdout",
     "output_type": "stream",
     "text": [
      "Part of train ids for node classification: [256 833 118]\n",
      "NC train ids are saved to ./ondisk_dataset_homograph/nc-train-ids.npy\n",
      "\n",
      "Part of train labels for node classification: tensor([5, 4, 5])\n",
      "NC train labels are saved to ./ondisk_dataset_homograph/nc-train-labels.pt\n",
      "\n",
      "Part of val ids for node classification: [452 876 987]\n",
      "NC val ids are saved to ./ondisk_dataset_homograph/nc-val-ids.npy\n",
      "\n",
      "Part of val labels for node classification: tensor([3, 4, 3])\n",
      "NC val labels are saved to ./ondisk_dataset_homograph/nc-val-labels.pt\n",
      "\n",
      "Part of test ids for node classification: [107 557 614]\n",
      "NC test ids are saved to ./ondisk_dataset_homograph/nc-test-ids.npy\n",
      "\n",
      "Part of test labels for node classification: tensor([0, 8, 6])\n",
      "NC test labels are saved to ./ondisk_dataset_homograph/nc-test-labels.pt\n",
      "\n"
     ]
    }
   ],
   "source": [
    "num_trains = int(num_nodes * 0.6)\n",
    "num_vals = int(num_nodes * 0.2)\n",
    "num_tests = num_nodes - num_trains - num_vals\n",
    "\n",
    "ids = np.arange(num_nodes)\n",
    "np.random.shuffle(ids)\n",
    "\n",
    "nc_train_ids_path = os.path.join(base_dir, \"nc-train-ids.npy\")\n",
    "nc_train_ids = ids[:num_trains]\n",
    "print(f\"Part of train ids for node classification: {nc_train_ids[:3]}\")\n",
    "np.save(nc_train_ids_path, nc_train_ids)\n",
    "print(f\"NC train ids are saved to {nc_train_ids_path}\\n\")\n",
    "\n",
    "nc_train_labels_path = os.path.join(base_dir, \"nc-train-labels.pt\")\n",
    "nc_train_labels = torch.randint(0, 10, (num_trains,))\n",
    "print(f\"Part of train labels for node classification: {nc_train_labels[:3]}\")\n",
    "torch.save(nc_train_labels, nc_train_labels_path)\n",
    "print(f\"NC train labels are saved to {nc_train_labels_path}\\n\")\n",
    "\n",
    "nc_val_ids_path = os.path.join(base_dir, \"nc-val-ids.npy\")\n",
    "nc_val_ids = ids[num_trains:num_trains+num_vals]\n",
    "print(f\"Part of val ids for node classification: {nc_val_ids[:3]}\")\n",
    "np.save(nc_val_ids_path, nc_val_ids)\n",
    "print(f\"NC val ids are saved to {nc_val_ids_path}\\n\")\n",
    "\n",
    "nc_val_labels_path = os.path.join(base_dir, \"nc-val-labels.pt\")\n",
    "nc_val_labels = torch.randint(0, 10, (num_vals,))\n",
    "print(f\"Part of val labels for node classification: {nc_val_labels[:3]}\")\n",
    "torch.save(nc_val_labels, nc_val_labels_path)\n",
    "print(f\"NC val labels are saved to {nc_val_labels_path}\\n\")\n",
    "\n",
    "nc_test_ids_path = os.path.join(base_dir, \"nc-test-ids.npy\")\n",
    "nc_test_ids = ids[-num_tests:]\n",
    "print(f\"Part of test ids for node classification: {nc_test_ids[:3]}\")\n",
    "np.save(nc_test_ids_path, nc_test_ids)\n",
    "print(f\"NC test ids are saved to {nc_test_ids_path}\\n\")\n",
    "\n",
    "nc_test_labels_path = os.path.join(base_dir, \"nc-test-labels.pt\")\n",
    "nc_test_labels = torch.randint(0, 10, (num_tests,))\n",
    "print(f\"Part of test labels for node classification: {nc_test_labels[:3]}\")\n",
    "torch.save(nc_test_labels, nc_test_labels_path)\n",
    "print(f\"NC test labels are saved to {nc_test_labels_path}\\n\")"
   ]
  },
  {
   "cell_type": "markdown",
   "metadata": {
    "id": "LhAcDCHQ_KJ0"
   },
   "source": [
    "#### Link Prediction Task\n",
    "For link prediction task, we need **seeds** or **corresponding labels and indexes** which representing the pos/neg property and group of the seeds for each training/validation/test set. Like feature data, numpy arrays and torch tensors are supported for these sets."
   ]
  },
  {
   "cell_type": "code",
   "execution_count": 6,
   "metadata": {
    "execution": {
     "iopub.execute_input": "2024-10-27T13:16:43.747791Z",
     "iopub.status.busy": "2024-10-27T13:16:43.747393Z",
     "iopub.status.idle": "2024-10-27T13:16:43.766244Z",
     "shell.execute_reply": "2024-10-27T13:16:43.765302Z"
    },
    "id": "u0jCnXIcAQy4"
   },
   "outputs": [
    {
     "name": "stdout",
     "output_type": "stream",
     "text": [
      "Part of train seeds for link prediction: [[637 483]\n",
      " [733  11]\n",
      " [956 623]]\n",
      "LP train seeds are saved to ./ondisk_dataset_homograph/lp-train-seeds.npy\n",
      "\n",
      "Part of val seeds for link prediction: [[715 252]\n",
      " [923  96]\n",
      " [638 577]]\n",
      "LP val seeds are saved to ./ondisk_dataset_homograph/lp-val-seeds.npy\n",
      "\n",
      "Part of val labels for link prediction: [1. 1. 1.]\n",
      "LP val labels are saved to ./ondisk_dataset_homograph/lp-val-labels.npy\n",
      "\n",
      "Part of val indexes for link prediction: [0 1 2]\n",
      "LP val indexes are saved to ./ondisk_dataset_homograph/lp-val-indexes.npy\n",
      "\n",
      "Part of test seeds for link prediction: [[768 223]\n",
      " [645   6]\n",
      " [683 284]]\n",
      "LP test seeds are saved to ./ondisk_dataset_homograph/lp-test-seeds.npy\n",
      "\n",
      "Part of val labels for link prediction: [1. 1. 1.]\n",
      "LP test labels are saved to ./ondisk_dataset_homograph/lp-test-labels.npy\n",
      "\n",
      "Part of test indexes for link prediction: [0 1 2]\n",
      "LP test indexes are saved to ./ondisk_dataset_homograph/lp-test-indexes.npy\n",
      "\n"
     ]
    }
   ],
   "source": [
    "num_trains = int(num_edges * 0.6)\n",
    "num_vals = int(num_edges * 0.2)\n",
    "num_tests = num_edges - num_trains - num_vals\n",
    "\n",
    "lp_train_seeds_path = os.path.join(base_dir, \"lp-train-seeds.npy\")\n",
    "lp_train_seeds = edges[:num_trains, :]\n",
    "print(f\"Part of train seeds for link prediction: {lp_train_seeds[:3]}\")\n",
    "np.save(lp_train_seeds_path, lp_train_seeds)\n",
    "print(f\"LP train seeds are saved to {lp_train_seeds_path}\\n\")\n",
    "\n",
    "lp_val_seeds_path = os.path.join(base_dir, \"lp-val-seeds.npy\")\n",
    "lp_val_seeds = edges[num_trains:num_trains+num_vals, :]\n",
    "lp_val_neg_dsts = np.random.randint(0, num_nodes, (num_vals, 10)).reshape(-1)\n",
    "lp_val_neg_srcs = np.repeat(lp_val_seeds[:,0], 10)\n",
    "lp_val_neg_seeds = np.concatenate((lp_val_neg_srcs, lp_val_neg_dsts)).reshape(2,-1).T\n",
    "lp_val_seeds = np.concatenate((lp_val_seeds, lp_val_neg_seeds))\n",
    "print(f\"Part of val seeds for link prediction: {lp_val_seeds[:3]}\")\n",
    "np.save(lp_val_seeds_path, lp_val_seeds)\n",
    "print(f\"LP val seeds are saved to {lp_val_seeds_path}\\n\")\n",
    "\n",
    "lp_val_labels_path = os.path.join(base_dir, \"lp-val-labels.npy\")\n",
    "lp_val_labels = np.empty(num_vals * (10 + 1))\n",
    "lp_val_labels[:num_vals] = 1\n",
    "lp_val_labels[num_vals:] = 0\n",
    "print(f\"Part of val labels for link prediction: {lp_val_labels[:3]}\")\n",
    "np.save(lp_val_labels_path, lp_val_labels)\n",
    "print(f\"LP val labels are saved to {lp_val_labels_path}\\n\")\n",
    "\n",
    "lp_val_indexes_path = os.path.join(base_dir, \"lp-val-indexes.npy\")\n",
    "lp_val_indexes = np.arange(0, num_vals)\n",
    "lp_val_neg_indexes = np.repeat(lp_val_indexes, 10)\n",
    "lp_val_indexes = np.concatenate([lp_val_indexes, lp_val_neg_indexes])\n",
    "print(f\"Part of val indexes for link prediction: {lp_val_indexes[:3]}\")\n",
    "np.save(lp_val_indexes_path, lp_val_indexes)\n",
    "print(f\"LP val indexes are saved to {lp_val_indexes_path}\\n\")\n",
    "\n",
    "lp_test_seeds_path = os.path.join(base_dir, \"lp-test-seeds.npy\")\n",
    "lp_test_seeds = edges[-num_tests:, :]\n",
    "lp_test_neg_dsts = np.random.randint(0, num_nodes, (num_tests, 10)).reshape(-1)\n",
    "lp_test_neg_srcs = np.repeat(lp_test_seeds[:,0], 10)\n",
    "lp_test_neg_seeds = np.concatenate((lp_test_neg_srcs, lp_test_neg_dsts)).reshape(2,-1).T\n",
    "lp_test_seeds = np.concatenate((lp_test_seeds, lp_test_neg_seeds))\n",
    "print(f\"Part of test seeds for link prediction: {lp_test_seeds[:3]}\")\n",
    "np.save(lp_test_seeds_path, lp_test_seeds)\n",
    "print(f\"LP test seeds are saved to {lp_test_seeds_path}\\n\")\n",
    "\n",
    "lp_test_labels_path = os.path.join(base_dir, \"lp-test-labels.npy\")\n",
    "lp_test_labels = np.empty(num_tests * (10 + 1))\n",
    "lp_test_labels[:num_tests] = 1\n",
    "lp_test_labels[num_tests:] = 0\n",
    "print(f\"Part of val labels for link prediction: {lp_test_labels[:3]}\")\n",
    "np.save(lp_test_labels_path, lp_test_labels)\n",
    "print(f\"LP test labels are saved to {lp_test_labels_path}\\n\")\n",
    "\n",
    "lp_test_indexes_path = os.path.join(base_dir, \"lp-test-indexes.npy\")\n",
    "lp_test_indexes = np.arange(0, num_tests)\n",
    "lp_test_neg_indexes = np.repeat(lp_test_indexes, 10)\n",
    "lp_test_indexes = np.concatenate([lp_test_indexes, lp_test_neg_indexes])\n",
    "print(f\"Part of test indexes for link prediction: {lp_test_indexes[:3]}\")\n",
    "np.save(lp_test_indexes_path, lp_test_indexes)\n",
    "print(f\"LP test indexes are saved to {lp_test_indexes_path}\\n\")"
   ]
  },
  {
   "cell_type": "markdown",
   "metadata": {
    "id": "wbk6-wxRK-6S"
   },
   "source": [
    "## Organize Data into YAML File\n",
    "Now we need to create a `metadata.yaml` file which contains the paths, dadta types of graph structure, feature data, training/validation/test sets.\n",
    "\n",
    "Notes:\n",
    "- all path should be relative to `metadata.yaml`.\n",
    "- Below fields are optional and not specified in below example.\n",
    "  - `in_memory`: indicates whether to load dada into memory or `mmap`. Default is `True`.\n",
    "\n",
    "Please refer to [YAML specification](https://github.com/dmlc/dgl/blob/master/docs/source/stochastic_training/ondisk-dataset-specification.rst) for more details."
   ]
  },
  {
   "cell_type": "code",
   "execution_count": 7,
   "metadata": {
    "execution": {
     "iopub.execute_input": "2024-10-27T13:16:43.768874Z",
     "iopub.status.busy": "2024-10-27T13:16:43.768511Z",
     "iopub.status.idle": "2024-10-27T13:16:43.775380Z",
     "shell.execute_reply": "2024-10-27T13:16:43.774431Z"
    },
    "id": "ddGTWW61Lpwp"
   },
   "outputs": [],
   "source": [
    "yaml_content = f\"\"\"\n",
    "    dataset_name: homogeneous_graph_nc_lp\n",
    "    graph:\n",
    "      nodes:\n",
    "        - num: {num_nodes}\n",
    "      edges:\n",
    "        - format: csv\n",
    "          path: {os.path.basename(edges_path)}\n",
    "    feature_data:\n",
    "      - domain: node\n",
    "        name: feat_0\n",
    "        format: numpy\n",
    "        path: {os.path.basename(node_feat_0_path)}\n",
    "      - domain: node\n",
    "        name: feat_1\n",
    "        format: torch\n",
    "        path: {os.path.basename(node_feat_1_path)}\n",
    "      - domain: edge\n",
    "        name: feat_0\n",
    "        format: numpy\n",
    "        path: {os.path.basename(edge_feat_0_path)}\n",
    "      - domain: edge\n",
    "        name: feat_1\n",
    "        format: torch\n",
    "        path: {os.path.basename(edge_feat_1_path)}\n",
    "    tasks:\n",
    "      - name: node_classification\n",
    "        num_classes: 10\n",
    "        train_set:\n",
    "          - data:\n",
    "              - name: seeds\n",
    "                format: numpy\n",
    "                path: {os.path.basename(nc_train_ids_path)}\n",
    "              - name: labels\n",
    "                format: torch\n",
    "                path: {os.path.basename(nc_train_labels_path)}\n",
    "        validation_set:\n",
    "          - data:\n",
    "              - name: seeds\n",
    "                format: numpy\n",
    "                path: {os.path.basename(nc_val_ids_path)}\n",
    "              - name: labels\n",
    "                format: torch\n",
    "                path: {os.path.basename(nc_val_labels_path)}\n",
    "        test_set:\n",
    "          - data:\n",
    "              - name: seeds\n",
    "                format: numpy\n",
    "                path: {os.path.basename(nc_test_ids_path)}\n",
    "              - name: labels\n",
    "                format: torch\n",
    "                path: {os.path.basename(nc_test_labels_path)}\n",
    "      - name: link_prediction\n",
    "        num_classes: 10\n",
    "        train_set:\n",
    "          - data:\n",
    "              - name: seeds\n",
    "                format: numpy\n",
    "                path: {os.path.basename(lp_train_seeds_path)}\n",
    "        validation_set:\n",
    "          - data:\n",
    "              - name: seeds\n",
    "                format: numpy\n",
    "                path: {os.path.basename(lp_val_seeds_path)}\n",
    "              - name: labels\n",
    "                format: numpy\n",
    "                path: {os.path.basename(lp_val_labels_path)}\n",
    "              - name: indexes\n",
    "                format: numpy\n",
    "                path: {os.path.basename(lp_val_indexes_path)}\n",
    "        test_set:\n",
    "          - data:\n",
    "              - name: seeds\n",
    "                format: numpy\n",
    "                path: {os.path.basename(lp_test_seeds_path)}\n",
    "              - name: labels\n",
    "                format: numpy\n",
    "                path: {os.path.basename(lp_test_labels_path)}\n",
    "              - name: indexes\n",
    "                format: numpy\n",
    "                path: {os.path.basename(lp_test_indexes_path)}\n",
    "\"\"\"\n",
    "metadata_path = os.path.join(base_dir, \"metadata.yaml\")\n",
    "with open(metadata_path, \"w\") as f:\n",
    "  f.write(yaml_content)"
   ]
  },
  {
   "cell_type": "markdown",
   "metadata": {
    "id": "kEfybHGhOW7O"
   },
   "source": [
    "## Instantiate `OnDiskDataset`\n",
    "Now we're ready to load dataset via `dgl.graphbolt.OnDiskDataset`. When instantiating, we just pass in the base directory where `metadata.yaml` file lies.\n",
    "\n",
    "During first instantiation, GraphBolt preprocesses the raw data such as constructing `FusedCSCSamplingGraph` from edges. All data including graph, feature data, training/validation/test sets are put into `preprocessed` directory after preprocessing. Any following dataset loading will skip the preprocess stage.\n",
    "\n",
    "After preprocessing, `load()` is required to be called explicitly in order to load graph, feature data and tasks."
   ]
  },
  {
   "cell_type": "code",
   "execution_count": 8,
   "metadata": {
    "execution": {
     "iopub.execute_input": "2024-10-27T13:16:43.778026Z",
     "iopub.status.busy": "2024-10-27T13:16:43.777533Z",
     "iopub.status.idle": "2024-10-27T13:16:43.848404Z",
     "shell.execute_reply": "2024-10-27T13:16:43.847656Z"
    },
    "id": "W58CZoSzOiyo"
   },
   "outputs": [
    {
     "name": "stdout",
     "output_type": "stream",
     "text": [
      "Start to preprocess the on-disk dataset.\n",
      "Finish preprocessing the on-disk dataset.\n",
      "Loaded graph: FusedCSCSamplingGraph(csc_indptr=tensor([    0,    11,    22,  ...,  9983,  9991, 10000], dtype=torch.int32),\n",
      "                      indices=tensor([436, 214, 267,  ..., 123, 790, 747], dtype=torch.int32),\n",
      "                      total_num_nodes=1000, num_edges=10000,)\n",
      "\n",
      "Loaded feature store: TorchBasedFeatureStore(\n",
      "    {(<OnDiskFeatureDataDomain.NODE: 'node'>, None, 'feat_0'): TorchBasedFeature(\n",
      "        feature=tensor([[0.5874, 0.2907, 0.4500, 0.6271, 0.9803],\n",
      "                        [0.3957, 0.7247, 0.9936, 0.7917, 0.3475],\n",
      "                        [0.6282, 0.1389, 0.1045, 0.4992, 0.4345],\n",
      "                        ...,\n",
      "                        [0.0287, 0.5891, 0.1608, 0.8391, 0.7475],\n",
      "                        [0.4625, 0.0644, 0.4784, 0.8507, 0.5213],\n",
      "                        [0.9265, 0.6610, 0.0307, 0.2036, 0.9176]], dtype=torch.float64),\n",
      "        metadata={},\n",
      "    ), (<OnDiskFeatureDataDomain.NODE: 'node'>, None, 'feat_1'): TorchBasedFeature(\n",
      "        feature=tensor([[0.9137, 0.3830, 0.9644, 0.1053, 0.9974],\n",
      "                        [0.9977, 0.9579, 0.2079, 0.0667, 0.6129],\n",
      "                        [0.9414, 0.2186, 0.5746, 0.6396, 0.1340],\n",
      "                        ...,\n",
      "                        [0.9058, 0.5133, 0.7693, 0.0523, 0.9086],\n",
      "                        [0.9317, 0.0282, 0.4886, 0.2749, 0.5690],\n",
      "                        [0.1763, 0.7730, 0.5924, 0.1356, 0.1254]]),\n",
      "        metadata={},\n",
      "    ), (<OnDiskFeatureDataDomain.EDGE: 'edge'>, None, 'feat_0'): TorchBasedFeature(\n",
      "        feature=tensor([[0.8742, 0.9219, 0.8376, 0.6624, 0.4266],\n",
      "                        [0.6493, 0.0244, 0.2485, 0.6644, 0.9928],\n",
      "                        [0.1097, 0.1302, 0.6533, 0.3078, 0.7891],\n",
      "                        ...,\n",
      "                        [0.1814, 0.9295, 0.1318, 0.3678, 0.8967],\n",
      "                        [0.8641, 0.4660, 0.1153, 0.9743, 0.5321],\n",
      "                        [0.9038, 0.5753, 0.5679, 0.8780, 0.5281]], dtype=torch.float64),\n",
      "        metadata={},\n",
      "    ), (<OnDiskFeatureDataDomain.EDGE: 'edge'>, None, 'feat_1'): TorchBasedFeature(\n",
      "        feature=tensor([[0.8785, 0.7621, 0.7378, 0.3148, 0.3235],\n",
      "                        [0.1341, 0.0324, 0.6846, 0.2928, 0.5417],\n",
      "                        [0.2578, 0.8165, 0.9666, 0.8188, 0.4185],\n",
      "                        ...,\n",
      "                        [0.9757, 0.7882, 0.0046, 0.1424, 0.7498],\n",
      "                        [0.6906, 0.0895, 0.1422, 0.8333, 0.6895],\n",
      "                        [0.8929, 0.6017, 0.1344, 0.1938, 0.6980]]),\n",
      "        metadata={},\n",
      "    )}\n",
      ")\n",
      "\n",
      "Loaded node classification task: OnDiskTask(validation_set=ItemSet(\n",
      "               items=(tensor([452, 876, 987, 155,   6, 807, 963, 250,  53, 146, 302, 375, 274, 410,\n",
      "                   175, 454, 187, 735, 646,  44, 690,  62, 888, 325, 861, 725, 379, 610,\n",
      "                   484, 582, 768, 790, 533, 578, 604, 577, 912, 821, 816, 696, 978, 632,\n",
      "                   981, 907, 961, 448, 306, 394, 244,  64, 491, 835, 919, 953, 310, 729,\n",
      "                   550, 689, 583, 425, 358, 645, 376,  31, 592, 855, 356, 752, 619, 865,\n",
      "                   781, 823,  97, 832, 715, 660, 967, 966, 851, 785, 512, 911, 169, 333,\n",
      "                   943, 853, 940, 593, 191, 964, 114, 308, 178, 731,  88, 624, 675, 880,\n",
      "                   728, 183, 112,   2, 202, 620, 791, 789, 704, 217, 857, 747, 827, 243,\n",
      "                   641, 419, 406, 531, 373, 587, 663, 170, 774, 788, 754, 318, 586, 723,\n",
      "                    67, 998, 124, 471, 238, 753,  16, 673, 603, 171, 744, 275, 365, 682,\n",
      "                   706, 222, 601, 606, 496, 497, 529, 957, 787,  22, 399, 749,  68, 189,\n",
      "                   412,  77, 423, 218,  80, 502, 883, 659, 763, 644, 856, 958, 185, 654,\n",
      "                   208, 401, 909, 355, 770, 800, 195, 157, 228, 575, 110, 327, 132, 335,\n",
      "                   493, 849, 205, 724, 779, 328, 224, 117, 643, 623, 347,  12, 989, 148,\n",
      "                   786, 209, 108, 404], dtype=torch.int32), tensor([3, 4, 3, 0, 2, 0, 8, 1, 0, 0, 7, 0, 3, 7, 9, 9, 6, 3, 4, 2, 2, 3, 6, 0,\n",
      "                   4, 5, 9, 9, 5, 0, 8, 4, 9, 1, 8, 7, 3, 7, 9, 4, 5, 1, 7, 7, 2, 9, 4, 7,\n",
      "                   4, 5, 2, 8, 2, 6, 5, 2, 3, 0, 9, 3, 5, 7, 6, 0, 7, 2, 1, 2, 1, 1, 1, 5,\n",
      "                   9, 8, 9, 9, 3, 3, 0, 7, 6, 3, 6, 1, 9, 2, 1, 4, 4, 0, 6, 4, 0, 5, 3, 6,\n",
      "                   0, 0, 7, 4, 0, 2, 1, 3, 6, 8, 8, 0, 0, 5, 7, 4, 9, 6, 7, 6, 8, 5, 7, 0,\n",
      "                   4, 7, 9, 4, 7, 5, 1, 1, 5, 2, 5, 2, 8, 9, 4, 9, 7, 9, 4, 8, 4, 6, 3, 3,\n",
      "                   2, 4, 0, 9, 7, 3, 3, 7, 4, 8, 0, 1, 4, 3, 3, 4, 4, 9, 3, 7, 1, 3, 9, 5,\n",
      "                   0, 5, 0, 4, 9, 6, 0, 0, 9, 7, 8, 0, 3, 3, 9, 9, 0, 3, 3, 4, 7, 1, 9, 1,\n",
      "                   4, 6, 3, 6, 3, 9, 0, 5])),\n",
      "               names=('seeds', 'labels'),\n",
      "           ),\n",
      "           train_set=ItemSet(\n",
      "               items=(tensor([256, 833, 118, 930, 179, 258, 970, 455, 102, 485, 719, 658, 357, 332,\n",
      "                   384, 263, 536, 122, 470, 489, 353,  87, 368, 850, 777, 291, 370, 547,\n",
      "                   955, 648, 180,  37, 535,  85, 916, 977, 836, 463, 947, 783,  25, 516,\n",
      "                   561, 160, 607, 590, 679, 946, 633, 702, 186, 634, 990, 878, 177, 129,\n",
      "                   759, 517, 210, 843, 589, 159, 910, 875, 311, 265, 936, 414, 313, 944,\n",
      "                   188, 126, 563, 895, 480, 740, 240, 323,  84, 538, 367, 351, 676, 573,\n",
      "                   366,  48, 945, 392,  98, 192,  60, 139, 350, 246, 549, 799, 396, 802,\n",
      "                   757, 255, 956, 991, 806, 281,  46, 887,  66, 213, 211, 650, 528, 894,\n",
      "                   153, 488,  61,  52, 649, 201, 812, 879, 794, 915, 433,  10, 519, 348,\n",
      "                   272,  76,   0, 286, 537, 809, 804, 960,  59, 745, 965, 992, 692, 386,\n",
      "                   750, 168, 897, 638,  71, 436, 427, 994, 863, 681,  75, 235, 846,   4,\n",
      "                   817, 871, 685, 539, 329,  26, 811, 760, 344, 430, 769, 369, 193, 440,\n",
      "                   248, 576, 892, 216, 905, 552, 503, 420, 824, 782, 980,   3, 688, 694,\n",
      "                   254, 526, 562, 172, 319, 268, 324, 136, 765, 986, 818, 446, 143, 331,\n",
      "                     9, 338, 844, 651,  93,  89, 657, 453, 508, 898, 677, 870, 460, 264,\n",
      "                   984, 273, 198, 234, 622, 473, 103, 891, 372, 411,  82, 976,  15,  56,\n",
      "                    49, 831, 212, 629, 226, 868,  13, 203, 293, 390, 570, 495, 780, 378,\n",
      "                   494, 422, 456, 772, 841, 339, 906, 299, 834,  63, 647, 231, 903, 813,\n",
      "                   662, 637, 477, 432, 975, 315, 207, 997, 500, 481, 326, 732, 334, 666,\n",
      "                   486, 200,   8, 837, 444, 642, 839, 182, 687, 568,  19, 926, 181, 767,\n",
      "                   403, 670, 914, 393, 571, 109, 343, 215, 974, 602, 352, 581, 478, 969,\n",
      "                   551, 859, 330, 194, 130,  70,  72, 900, 985, 154, 543, 287, 341, 635,\n",
      "                   711, 722, 718, 730, 938, 391, 298, 428, 852, 514, 233, 820, 775, 199,\n",
      "                   492, 674, 465, 954, 917, 941,  43, 513, 385,  27,  83, 712, 121,  33,\n",
      "                   555, 289, 111, 371, 625, 884, 751, 935, 559, 560, 858, 522, 764, 279,\n",
      "                   510, 511, 762, 951, 716, 542, 695, 671, 585, 683, 487, 276, 317, 342,\n",
      "                   161, 877, 708,  18, 847, 766, 741, 106, 928, 755, 398, 611, 253, 979,\n",
      "                   380, 815, 374, 628, 873, 842,  73, 381, 597, 261, 805, 345, 826, 566,\n",
      "                   469, 605, 616, 705, 174, 893, 931, 639, 701, 405, 927, 773, 743,  41,\n",
      "                   413, 314, 421, 321, 409, 312,  57, 541, 792, 707, 163, 307, 913, 451,\n",
      "                    11, 241, 426, 305, 758, 361, 214, 259, 262,  78, 127, 598, 415, 814,\n",
      "                   467, 408,  20, 720,  28, 801, 952, 617, 733, 395,  24, 973, 608, 595,\n",
      "                   748, 104, 874, 349, 225, 223, 778, 141, 918, 922,  30, 867, 727, 703,\n",
      "                   738, 699, 937, 166, 756, 667, 714, 982, 838, 793, 468, 680, 220, 434,\n",
      "                   266, 710, 574,  14, 402,  91, 363, 290, 297, 377, 190, 206,  17,  32,\n",
      "                   447, 599, 567, 678, 383, 691,  34, 475, 949, 532, 848, 971, 983, 734,\n",
      "                   737, 133, 204, 364, 613, 924,  51, 886, 267, 474, 462, 242, 600,  86,\n",
      "                   569, 120, 717, 584, 509, 828, 296,  74, 123, 739, 908, 808, 726, 151,\n",
      "                   784, 866, 283, 101,  40, 295, 457, 810, 521, 464, 591, 196, 158, 144,\n",
      "                   260, 237, 167, 501, 803, 825,  29, 572, 920, 257, 901, 100, 709, 684,\n",
      "                   449, 499, 282, 594, 523, 294, 668, 197,  42, 360, 362, 546, 230, 176,\n",
      "                   548, 309,  99, 270, 830, 713, 579, 736, 184, 530, 245, 988, 939, 993,\n",
      "                   388, 479, 669, 418, 505, 525,  39, 518, 553,  45, 278, 933],\n",
      "                  dtype=torch.int32), tensor([5, 4, 5, 7, 3, 1, 6, 2, 5, 8, 4, 9, 7, 1, 0, 9, 4, 7, 1, 2, 1, 0, 1, 1,\n",
      "                   5, 6, 6, 9, 2, 3, 5, 3, 2, 2, 9, 1, 8, 7, 8, 6, 9, 8, 8, 4, 8, 3, 4, 3,\n",
      "                   9, 8, 1, 1, 9, 5, 0, 6, 8, 5, 8, 0, 0, 5, 1, 8, 8, 9, 7, 4, 2, 6, 7, 9,\n",
      "                   6, 5, 8, 3, 8, 4, 2, 7, 2, 0, 8, 7, 1, 9, 1, 7, 7, 8, 2, 4, 9, 5, 6, 8,\n",
      "                   1, 7, 9, 6, 9, 4, 2, 3, 1, 4, 2, 7, 2, 4, 5, 4, 0, 3, 1, 2, 2, 9, 8, 3,\n",
      "                   8, 7, 8, 8, 0, 9, 3, 8, 2, 7, 7, 8, 9, 8, 7, 5, 0, 6, 4, 1, 7, 1, 5, 4,\n",
      "                   4, 7, 5, 2, 3, 7, 9, 3, 2, 4, 4, 8, 1, 0, 6, 7, 9, 7, 3, 7, 4, 3, 4, 8,\n",
      "                   8, 8, 3, 6, 0, 0, 9, 6, 1, 7, 4, 8, 7, 2, 3, 0, 2, 0, 5, 0, 2, 3, 4, 7,\n",
      "                   3, 7, 0, 7, 3, 8, 1, 1, 5, 3, 6, 2, 5, 6, 0, 6, 0, 2, 4, 6, 0, 7, 2, 4,\n",
      "                   8, 9, 4, 8, 8, 9, 6, 2, 4, 7, 7, 0, 6, 8, 3, 9, 8, 3, 9, 2, 0, 8, 1, 2,\n",
      "                   9, 5, 8, 4, 4, 7, 6, 1, 8, 2, 8, 5, 9, 4, 9, 5, 2, 6, 8, 1, 9, 0, 3, 7,\n",
      "                   2, 0, 5, 0, 8, 1, 2, 6, 7, 7, 7, 8, 7, 3, 3, 6, 8, 9, 2, 2, 4, 8, 3, 8,\n",
      "                   5, 9, 3, 6, 9, 6, 4, 9, 6, 7, 6, 2, 6, 8, 6, 7, 5, 0, 0, 4, 9, 3, 4, 5,\n",
      "                   1, 7, 8, 2, 9, 1, 5, 4, 6, 7, 5, 2, 3, 8, 0, 5, 2, 1, 3, 0, 6, 4, 2, 5,\n",
      "                   1, 1, 4, 3, 8, 4, 4, 3, 6, 4, 3, 7, 6, 3, 3, 0, 9, 1, 0, 7, 3, 3, 1, 6,\n",
      "                   9, 0, 8, 3, 6, 3, 0, 4, 5, 5, 8, 5, 9, 6, 8, 8, 0, 5, 4, 4, 7, 9, 2, 8,\n",
      "                   1, 6, 0, 9, 0, 8, 7, 2, 5, 6, 4, 4, 2, 7, 9, 4, 4, 9, 6, 3, 3, 2, 5, 8,\n",
      "                   2, 7, 1, 9, 4, 2, 0, 1, 7, 7, 6, 1, 9, 0, 2, 0, 3, 0, 0, 2, 3, 8, 0, 0,\n",
      "                   6, 7, 1, 1, 3, 5, 4, 0, 1, 1, 6, 8, 7, 6, 1, 7, 1, 7, 9, 7, 1, 6, 4, 7,\n",
      "                   2, 7, 0, 4, 9, 8, 5, 8, 2, 8, 3, 2, 9, 0, 8, 9, 3, 4, 7, 9, 8, 6, 7, 0,\n",
      "                   2, 6, 1, 7, 4, 3, 2, 4, 2, 6, 3, 8, 4, 1, 4, 6, 8, 0, 9, 0, 3, 7, 0, 6,\n",
      "                   8, 2, 0, 5, 5, 5, 1, 6, 3, 5, 0, 3, 1, 2, 2, 7, 7, 1, 7, 5, 6, 5, 2, 0,\n",
      "                   4, 2, 8, 1, 2, 1, 0, 5, 1, 2, 8, 8, 7, 0, 1, 7, 5, 2, 6, 7, 8, 1, 6, 5,\n",
      "                   4, 9, 0, 1, 1, 9, 5, 8, 5, 0, 1, 1, 0, 8, 6, 2, 4, 7, 1, 5, 0, 3, 5, 9,\n",
      "                   9, 9, 1, 4, 0, 0, 9, 5, 5, 0, 7, 9, 2, 2, 5, 1, 2, 4, 4, 8, 9, 1, 7, 7])),\n",
      "               names=('seeds', 'labels'),\n",
      "           ),\n",
      "           test_set=ItemSet(\n",
      "               items=(tensor([107, 557, 614, 829, 288, 337, 798, 890, 881, 247, 482, 128, 618,  35,\n",
      "                   862, 627,  47, 588,  38, 872, 173, 438, 119,  90, 252, 822, 131, 556,\n",
      "                    92,  65, 504, 138, 316, 249, 236, 545, 631, 304, 280, 458, 147,  50,\n",
      "                   899, 506,  54, 615, 655, 558, 515, 520, 116, 840, 656, 134, 156, 630,\n",
      "                   797, 776, 652, 424,  94, 621, 934, 165, 105,  69, 661, 269, 742, 417,\n",
      "                   904, 137, 389, 564, 609, 721, 441, 885, 854, 359, 439, 921, 152, 819,\n",
      "                   942, 431,  79, 640, 162, 145, 869, 459, 540, 483, 686, 700, 796,   7,\n",
      "                   285, 227, 346, 498, 219, 746, 271, 693, 443,  58, 889, 950, 301, 397,\n",
      "                   435, 664, 761, 300, 923, 554, 845,   1, 115, 416, 303, 932, 340,  55,\n",
      "                   442, 232, 507, 140, 697, 959, 999, 490, 387, 771, 672, 113,  81, 929,\n",
      "                   292, 251, 968, 925, 149, 698, 135, 882, 972, 450, 795, 476,  23, 382,\n",
      "                   239, 995,  96, 524, 636, 429,  95, 544, 472, 437, 580, 596, 902, 284,\n",
      "                   962, 125,   5, 626, 320, 322, 653, 142, 150, 445, 221, 565, 612,  36,\n",
      "                    21, 164, 527, 860, 534, 229, 996, 466, 896, 400, 864, 948, 407, 665,\n",
      "                   354, 336, 461, 277], dtype=torch.int32), tensor([0, 8, 6, 7, 9, 4, 0, 1, 2, 4, 4, 6, 1, 7, 5, 4, 8, 6, 6, 0, 8, 5, 0, 2,\n",
      "                   3, 6, 4, 6, 4, 3, 8, 9, 7, 0, 2, 6, 3, 8, 8, 7, 1, 2, 6, 7, 1, 3, 5, 0,\n",
      "                   1, 6, 6, 2, 7, 3, 5, 2, 3, 5, 2, 4, 6, 6, 0, 9, 7, 3, 2, 1, 7, 6, 7, 5,\n",
      "                   8, 9, 7, 1, 8, 5, 8, 1, 5, 8, 0, 5, 8, 4, 0, 4, 5, 6, 1, 0, 6, 3, 8, 9,\n",
      "                   7, 8, 7, 7, 0, 3, 6, 5, 7, 8, 3, 5, 0, 9, 2, 2, 5, 7, 9, 9, 7, 4, 3, 6,\n",
      "                   4, 3, 3, 5, 8, 2, 5, 0, 6, 1, 0, 0, 2, 5, 9, 3, 5, 8, 3, 9, 8, 3, 8, 9,\n",
      "                   7, 9, 8, 6, 4, 4, 3, 4, 7, 0, 4, 4, 4, 0, 0, 3, 7, 0, 6, 6, 8, 2, 8, 8,\n",
      "                   7, 5, 6, 0, 1, 1, 9, 1, 0, 4, 8, 8, 3, 1, 9, 7, 4, 9, 6, 2, 0, 5, 4, 6,\n",
      "                   4, 5, 0, 1, 7, 0, 7, 1])),\n",
      "               names=('seeds', 'labels'),\n",
      "           ),\n",
      "           metadata={'name': 'node_classification', 'num_classes': 10},)\n",
      "\n",
      "Loaded link prediction task: OnDiskTask(validation_set=ItemSet(\n",
      "               items=(tensor([[715, 252],\n",
      "                   [923,  96],\n",
      "                   [638, 577],\n",
      "                   ...,\n",
      "                   [429, 264],\n",
      "                   [429, 234],\n",
      "                   [429, 708]], dtype=torch.int32), tensor([1., 1., 1.,  ..., 0., 0., 0.], dtype=torch.float64), tensor([   0,    1,    2,  ..., 1999, 1999, 1999])),\n",
      "               names=('seeds', 'labels', 'indexes'),\n",
      "           ),\n",
      "           train_set=ItemSet(\n",
      "               items=(tensor([[637, 483],\n",
      "                   [733,  11],\n",
      "                   [956, 623],\n",
      "                   ...,\n",
      "                   [474, 870],\n",
      "                   [951, 661],\n",
      "                   [897, 182]], dtype=torch.int32),),\n",
      "               names=('seeds',),\n",
      "           ),\n",
      "           test_set=ItemSet(\n",
      "               items=(tensor([[768, 223],\n",
      "                   [645,   6],\n",
      "                   [683, 284],\n",
      "                   ...,\n",
      "                   [512, 683],\n",
      "                   [512, 316],\n",
      "                   [512, 170]], dtype=torch.int32), tensor([1., 1., 1.,  ..., 0., 0., 0.], dtype=torch.float64), tensor([   0,    1,    2,  ..., 1999, 1999, 1999])),\n",
      "               names=('seeds', 'labels', 'indexes'),\n",
      "           ),\n",
      "           metadata={'name': 'link_prediction', 'num_classes': 10},)\n",
      "\n"
     ]
    },
    {
     "name": "stderr",
     "output_type": "stream",
     "text": [
      "/dgl/python/dgl/graphbolt/impl/ondisk_dataset.py:463: GBWarning: Edge feature is stored, but edge IDs are not saved.\n",
      "  gb_warning(\"Edge feature is stored, but edge IDs are not saved.\")\n"
     ]
    }
   ],
   "source": [
    "dataset = gb.OnDiskDataset(base_dir).load()\n",
    "graph = dataset.graph\n",
    "print(f\"Loaded graph: {graph}\\n\")\n",
    "\n",
    "feature = dataset.feature\n",
    "print(f\"Loaded feature store: {feature}\\n\")\n",
    "\n",
    "tasks = dataset.tasks\n",
    "nc_task = tasks[0]\n",
    "print(f\"Loaded node classification task: {nc_task}\\n\")\n",
    "lp_task = tasks[1]\n",
    "print(f\"Loaded link prediction task: {lp_task}\\n\")"
   ]
  }
 ],
 "metadata": {
  "colab": {
   "private_outputs": true,
   "provenance": []
  },
  "kernelspec": {
   "display_name": "Python 3",
   "name": "python3"
  },
  "language_info": {
   "codemirror_mode": {
    "name": "ipython",
    "version": 3
   },
   "file_extension": ".py",
   "mimetype": "text/x-python",
   "name": "python",
   "nbconvert_exporter": "python",
   "pygments_lexer": "ipython3",
   "version": "3.10.15"
  }
 },
 "nbformat": 4,
 "nbformat_minor": 0
}

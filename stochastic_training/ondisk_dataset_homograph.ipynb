{
 "cells": [
  {
   "cell_type": "markdown",
   "metadata": {
    "id": "FnFhPMaAfLtJ"
   },
   "source": [
    "# OnDiskDataset for Homogeneous Graph\n",
    "\n",
    "[![Open In Colab](https://colab.research.google.com/assets/colab-badge.svg)](https://colab.research.google.com/github/dmlc/dgl/blob/master/notebooks/stochastic_training/ondisk_dataset_homograph.ipynb) [![GitHub](https://img.shields.io/badge/-View%20on%20GitHub-181717?logo=github&logoColor=ffffff)](https://github.com/dmlc/dgl/blob/master/notebooks/stochastic_training/ondisk_dataset_homograph.ipynb)\n",
    "\n",
    "This tutorial shows how to create `OnDiskDataset` for homogeneous graph that could be used in **GraphBolt** framework.\n",
    "\n",
    "By the end of this tutorial, you will be able to\n",
    "\n",
    "- organize graph structure data.\n",
    "- organize feature data.\n",
    "- organize training/validation/test set for specific tasks.\n",
    "\n",
    "To create an ``OnDiskDataset`` object, you need to organize all the data including graph structure, feature data and tasks into a directory. The directory should contain a ``metadata.yaml`` file that describes the metadata of the dataset.\n",
    "\n",
    "Now let's generate various data step by step and organize them together to instantiate `OnDiskDataset` finally."
   ]
  },
  {
   "cell_type": "markdown",
   "metadata": {
    "id": "Wlb19DtWgtzq"
   },
   "source": [
    "## Install DGL package"
   ]
  },
  {
   "cell_type": "code",
   "execution_count": 1,
   "metadata": {
    "execution": {
     "iopub.execute_input": "2024-10-25T13:17:19.615411Z",
     "iopub.status.busy": "2024-10-25T13:17:19.614872Z",
     "iopub.status.idle": "2024-10-25T13:17:22.686002Z",
     "shell.execute_reply": "2024-10-25T13:17:22.684854Z"
    },
    "id": "UojlT9ZGgyr9"
   },
   "outputs": [
    {
     "name": "stdout",
     "output_type": "stream",
     "text": [
      "Looking in links: https://data.dgl.ai/wheels-test/repo.html\r\n",
      "Requirement already satisfied: dgl in /opt/conda/envs/dgl-dev-cpu/lib/python3.10/site-packages (2.2a240410)\r\n",
      "Requirement already satisfied: numpy>=1.14.0 in /opt/conda/envs/dgl-dev-cpu/lib/python3.10/site-packages (from dgl) (1.26.4)\r\n",
      "Requirement already satisfied: scipy>=1.1.0 in /opt/conda/envs/dgl-dev-cpu/lib/python3.10/site-packages (from dgl) (1.14.1)\r\n",
      "Requirement already satisfied: networkx>=2.1 in /opt/conda/envs/dgl-dev-cpu/lib/python3.10/site-packages (from dgl) (3.4.2)\r\n",
      "Requirement already satisfied: requests>=2.19.0 in /opt/conda/envs/dgl-dev-cpu/lib/python3.10/site-packages (from dgl) (2.32.3)\r\n",
      "Requirement already satisfied: tqdm in /opt/conda/envs/dgl-dev-cpu/lib/python3.10/site-packages (from dgl) (4.66.5)\r\n",
      "Requirement already satisfied: psutil>=5.8.0 in /opt/conda/envs/dgl-dev-cpu/lib/python3.10/site-packages (from dgl) (6.1.0)\r\n",
      "Requirement already satisfied: torchdata>=0.5.0 in /opt/conda/envs/dgl-dev-cpu/lib/python3.10/site-packages (from dgl) (0.9.0)\r\n",
      "Requirement already satisfied: pandas in /opt/conda/envs/dgl-dev-cpu/lib/python3.10/site-packages (from dgl) (2.2.3)\r\n"
     ]
    },
    {
     "name": "stdout",
     "output_type": "stream",
     "text": [
      "Requirement already satisfied: charset-normalizer<4,>=2 in /opt/conda/envs/dgl-dev-cpu/lib/python3.10/site-packages (from requests>=2.19.0->dgl) (3.4.0)\r\n",
      "Requirement already satisfied: idna<4,>=2.5 in /opt/conda/envs/dgl-dev-cpu/lib/python3.10/site-packages (from requests>=2.19.0->dgl) (3.10)\r\n",
      "Requirement already satisfied: urllib3<3,>=1.21.1 in /opt/conda/envs/dgl-dev-cpu/lib/python3.10/site-packages (from requests>=2.19.0->dgl) (2.2.3)\r\n",
      "Requirement already satisfied: certifi>=2017.4.17 in /opt/conda/envs/dgl-dev-cpu/lib/python3.10/site-packages (from requests>=2.19.0->dgl) (2024.8.30)\r\n",
      "Requirement already satisfied: torch>=2 in /opt/conda/envs/dgl-dev-cpu/lib/python3.10/site-packages (from torchdata>=0.5.0->dgl) (2.1.0+cpu)\r\n"
     ]
    },
    {
     "name": "stdout",
     "output_type": "stream",
     "text": [
      "Requirement already satisfied: python-dateutil>=2.8.2 in /opt/conda/envs/dgl-dev-cpu/lib/python3.10/site-packages (from pandas->dgl) (2.9.0.post0)\r\n",
      "Requirement already satisfied: pytz>=2020.1 in /opt/conda/envs/dgl-dev-cpu/lib/python3.10/site-packages (from pandas->dgl) (2024.2)\r\n",
      "Requirement already satisfied: tzdata>=2022.7 in /opt/conda/envs/dgl-dev-cpu/lib/python3.10/site-packages (from pandas->dgl) (2024.2)\r\n",
      "Requirement already satisfied: six>=1.5 in /opt/conda/envs/dgl-dev-cpu/lib/python3.10/site-packages (from python-dateutil>=2.8.2->pandas->dgl) (1.16.0)\r\n",
      "Requirement already satisfied: filelock in /opt/conda/envs/dgl-dev-cpu/lib/python3.10/site-packages (from torch>=2->torchdata>=0.5.0->dgl) (3.16.1)\r\n",
      "Requirement already satisfied: typing-extensions in /opt/conda/envs/dgl-dev-cpu/lib/python3.10/site-packages (from torch>=2->torchdata>=0.5.0->dgl) (4.12.2)\r\n",
      "Requirement already satisfied: sympy in /opt/conda/envs/dgl-dev-cpu/lib/python3.10/site-packages (from torch>=2->torchdata>=0.5.0->dgl) (1.13.3)\r\n",
      "Requirement already satisfied: jinja2 in /opt/conda/envs/dgl-dev-cpu/lib/python3.10/site-packages (from torch>=2->torchdata>=0.5.0->dgl) (3.1.4)\r\n",
      "Requirement already satisfied: fsspec in /opt/conda/envs/dgl-dev-cpu/lib/python3.10/site-packages (from torch>=2->torchdata>=0.5.0->dgl) (2024.10.0)\r\n"
     ]
    },
    {
     "name": "stdout",
     "output_type": "stream",
     "text": [
      "Requirement already satisfied: MarkupSafe>=2.0 in /opt/conda/envs/dgl-dev-cpu/lib/python3.10/site-packages (from jinja2->torch>=2->torchdata>=0.5.0->dgl) (3.0.2)\r\n",
      "Requirement already satisfied: mpmath<1.4,>=1.1.0 in /opt/conda/envs/dgl-dev-cpu/lib/python3.10/site-packages (from sympy->torch>=2->torchdata>=0.5.0->dgl) (1.3.0)\r\n"
     ]
    },
    {
     "name": "stdout",
     "output_type": "stream",
     "text": [
      "\u001b[33mWARNING: Running pip as the 'root' user can result in broken permissions and conflicting behaviour with the system package manager, possibly rendering your system unusable.It is recommended to use a virtual environment instead: https://pip.pypa.io/warnings/venv. Use the --root-user-action option if you know what you are doing and want to suppress this warning.\u001b[0m\u001b[33m\r\n",
      "\u001b[0m"
     ]
    },
    {
     "name": "stdout",
     "output_type": "stream",
     "text": [
      "DGL installed!\n"
     ]
    }
   ],
   "source": [
    "# Install required packages.\n",
    "import os\n",
    "import torch\n",
    "import numpy as np\n",
    "os.environ['TORCH'] = torch.__version__\n",
    "os.environ['DGLBACKEND'] = \"pytorch\"\n",
    "\n",
    "# Install the CPU version.\n",
    "device = torch.device(\"cpu\")\n",
    "!pip install --pre dgl -f https://data.dgl.ai/wheels-test/repo.html\n",
    "\n",
    "try:\n",
    "    import dgl\n",
    "    import dgl.graphbolt as gb\n",
    "    installed = True\n",
    "except ImportError as error:\n",
    "    installed = False\n",
    "    print(error)\n",
    "print(\"DGL installed!\" if installed else \"DGL not found!\")"
   ]
  },
  {
   "cell_type": "markdown",
   "metadata": {
    "id": "2R7WnSbjsfbr"
   },
   "source": [
    "## Data preparation\n",
    "In order to demonstrate how to organize various data, let's create a base directory first."
   ]
  },
  {
   "cell_type": "code",
   "execution_count": 2,
   "metadata": {
    "execution": {
     "iopub.execute_input": "2024-10-25T13:17:22.688907Z",
     "iopub.status.busy": "2024-10-25T13:17:22.688386Z",
     "iopub.status.idle": "2024-10-25T13:17:22.694332Z",
     "shell.execute_reply": "2024-10-25T13:17:22.693171Z"
    },
    "id": "SZipbzyltLfO"
   },
   "outputs": [
    {
     "name": "stdout",
     "output_type": "stream",
     "text": [
      "Created base directory: ./ondisk_dataset_homograph\n"
     ]
    }
   ],
   "source": [
    "base_dir = './ondisk_dataset_homograph'\n",
    "os.makedirs(base_dir, exist_ok=True)\n",
    "print(f\"Created base directory: {base_dir}\")"
   ]
  },
  {
   "cell_type": "markdown",
   "metadata": {
    "id": "qhNtIn_xhlnl"
   },
   "source": [
    "### Generate graph structure data\n",
    "For homogeneous graph, we just need to save edges(namely seeds) into  **Numpy** or **CSV** file.\n",
    "\n",
    "Note:\n",
    "- when saving to **Numpy**, the array requires to be in shape of `(2, N)`. This format is recommended as constructing graph from it is much faster than **CSV** file.\n",
    "- when saving to **CSV** file, do not save index and header.\n"
   ]
  },
  {
   "cell_type": "code",
   "execution_count": 3,
   "metadata": {
    "execution": {
     "iopub.execute_input": "2024-10-25T13:17:22.696637Z",
     "iopub.status.busy": "2024-10-25T13:17:22.696403Z",
     "iopub.status.idle": "2024-10-25T13:17:22.711671Z",
     "shell.execute_reply": "2024-10-25T13:17:22.710616Z"
    },
    "id": "HcBt4G5BmSjr"
   },
   "outputs": [
    {
     "name": "stdout",
     "output_type": "stream",
     "text": [
      "Part of edges: [[591 275]\n",
      " [416  88]\n",
      " [957 234]\n",
      " [134 498]\n",
      " [299 421]]\n",
      "Edges are saved into ./ondisk_dataset_homograph/edges.csv\n"
     ]
    }
   ],
   "source": [
    "import numpy as np\n",
    "import pandas as pd\n",
    "num_nodes = 1000\n",
    "num_edges = 10 * num_nodes\n",
    "edges_path = os.path.join(base_dir, \"edges.csv\")\n",
    "edges = np.random.randint(0, num_nodes, size=(num_edges, 2))\n",
    "\n",
    "print(f\"Part of edges: {edges[:5, :]}\")\n",
    "\n",
    "df = pd.DataFrame(edges)\n",
    "df.to_csv(edges_path, index=False, header=False)\n",
    "\n",
    "print(f\"Edges are saved into {edges_path}\")"
   ]
  },
  {
   "cell_type": "markdown",
   "metadata": {
    "id": "kh-4cPtzpcaH"
   },
   "source": [
    "### Generate feature data for graph\n",
    "For feature data, numpy arrays and torch tensors are supported for now."
   ]
  },
  {
   "cell_type": "code",
   "execution_count": 4,
   "metadata": {
    "execution": {
     "iopub.execute_input": "2024-10-25T13:17:22.714520Z",
     "iopub.status.busy": "2024-10-25T13:17:22.713880Z",
     "iopub.status.idle": "2024-10-25T13:17:22.733550Z",
     "shell.execute_reply": "2024-10-25T13:17:22.732550Z"
    },
    "id": "_PVu1u5brBhF"
   },
   "outputs": [
    {
     "name": "stdout",
     "output_type": "stream",
     "text": [
      "Part of node feature [feat_0]: [[0.88672292 0.71203791 0.29933048 0.58407439 0.39786183]\n",
      " [0.77820006 0.85464345 0.4062474  0.31914237 0.26462634]\n",
      " [0.20080653 0.24716142 0.89037377 0.78359021 0.56357642]]\n",
      "Node feature [feat_0] is saved to ./ondisk_dataset_homograph/node-feat-0.npy\n",
      "\n",
      "Part of node feature [feat_1]: tensor([[0.8557, 0.7624, 0.0637, 0.2502, 0.2229],\n",
      "        [0.0938, 0.7966, 0.4719, 0.0518, 0.5105],\n",
      "        [0.4586, 0.5936, 0.2373, 0.2735, 0.1650]])\n",
      "Node feature [feat_1] is saved to ./ondisk_dataset_homograph/node-feat-1.pt\n",
      "\n",
      "Part of edge feature [feat_0]: [[0.10036376 0.43901244 0.83970453 0.28256509 0.123646  ]\n",
      " [0.17314263 0.80358311 0.06605483 0.11851432 0.75934747]\n",
      " [0.22047489 0.185483   0.57629406 0.60902065 0.98714051]]\n",
      "Edge feature [feat_0] is saved to ./ondisk_dataset_homograph/edge-feat-0.npy\n",
      "\n",
      "Part of edge feature [feat_1]: tensor([[0.6463, 0.7982, 0.0597, 0.5721, 0.7171],\n",
      "        [0.9780, 0.0647, 0.5518, 0.2297, 0.4796],\n",
      "        [0.6914, 0.8602, 0.7750, 0.8265, 0.4832]])\n",
      "Edge feature [feat_1] is saved to ./ondisk_dataset_homograph/edge-feat-1.pt\n",
      "\n"
     ]
    }
   ],
   "source": [
    "# Generate node feature in numpy array.\n",
    "node_feat_0_path = os.path.join(base_dir, \"node-feat-0.npy\")\n",
    "node_feat_0 = np.random.rand(num_nodes, 5)\n",
    "print(f\"Part of node feature [feat_0]: {node_feat_0[:3, :]}\")\n",
    "np.save(node_feat_0_path, node_feat_0)\n",
    "print(f\"Node feature [feat_0] is saved to {node_feat_0_path}\\n\")\n",
    "\n",
    "# Generate another node feature in torch tensor\n",
    "node_feat_1_path = os.path.join(base_dir, \"node-feat-1.pt\")\n",
    "node_feat_1 = torch.rand(num_nodes, 5)\n",
    "print(f\"Part of node feature [feat_1]: {node_feat_1[:3, :]}\")\n",
    "torch.save(node_feat_1, node_feat_1_path)\n",
    "print(f\"Node feature [feat_1] is saved to {node_feat_1_path}\\n\")\n",
    "\n",
    "# Generate edge feature in numpy array.\n",
    "edge_feat_0_path = os.path.join(base_dir, \"edge-feat-0.npy\")\n",
    "edge_feat_0 = np.random.rand(num_edges, 5)\n",
    "print(f\"Part of edge feature [feat_0]: {edge_feat_0[:3, :]}\")\n",
    "np.save(edge_feat_0_path, edge_feat_0)\n",
    "print(f\"Edge feature [feat_0] is saved to {edge_feat_0_path}\\n\")\n",
    "\n",
    "# Generate another edge feature in torch tensor\n",
    "edge_feat_1_path = os.path.join(base_dir, \"edge-feat-1.pt\")\n",
    "edge_feat_1 = torch.rand(num_edges, 5)\n",
    "print(f\"Part of edge feature [feat_1]: {edge_feat_1[:3, :]}\")\n",
    "torch.save(edge_feat_1, edge_feat_1_path)\n",
    "print(f\"Edge feature [feat_1] is saved to {edge_feat_1_path}\\n\")\n"
   ]
  },
  {
   "cell_type": "markdown",
   "metadata": {
    "id": "ZyqgOtsIwzh_"
   },
   "source": [
    "### Generate tasks\n",
    "`OnDiskDataset` supports multiple tasks. For each task, we need to prepare training/validation/test sets respectively. Such sets usually vary among different tasks. In this tutorial, let's create a **Node Classification** task and **Link Prediction** task."
   ]
  },
  {
   "cell_type": "markdown",
   "metadata": {
    "id": "hVxHaDIfzCkr"
   },
   "source": [
    "#### Node Classification Task\n",
    "For node classification task, we need **node IDs** and corresponding **labels** for each training/validation/test set. Like feature data, numpy arrays and torch tensors are supported for these sets."
   ]
  },
  {
   "cell_type": "code",
   "execution_count": 5,
   "metadata": {
    "execution": {
     "iopub.execute_input": "2024-10-25T13:17:22.736424Z",
     "iopub.status.busy": "2024-10-25T13:17:22.735839Z",
     "iopub.status.idle": "2024-10-25T13:17:22.748362Z",
     "shell.execute_reply": "2024-10-25T13:17:22.747358Z"
    },
    "id": "S5-fyBbHzTCO"
   },
   "outputs": [
    {
     "name": "stdout",
     "output_type": "stream",
     "text": [
      "Part of train ids for node classification: [313  57   4]\n",
      "NC train ids are saved to ./ondisk_dataset_homograph/nc-train-ids.npy\n",
      "\n",
      "Part of train labels for node classification: tensor([2, 3, 8])\n",
      "NC train labels are saved to ./ondisk_dataset_homograph/nc-train-labels.pt\n",
      "\n",
      "Part of val ids for node classification: [923 809 714]\n",
      "NC val ids are saved to ./ondisk_dataset_homograph/nc-val-ids.npy\n",
      "\n",
      "Part of val labels for node classification: tensor([4, 9, 2])\n",
      "NC val labels are saved to ./ondisk_dataset_homograph/nc-val-labels.pt\n",
      "\n",
      "Part of test ids for node classification: [449 918  77]\n",
      "NC test ids are saved to ./ondisk_dataset_homograph/nc-test-ids.npy\n",
      "\n",
      "Part of test labels for node classification: tensor([6, 5, 1])\n",
      "NC test labels are saved to ./ondisk_dataset_homograph/nc-test-labels.pt\n",
      "\n"
     ]
    }
   ],
   "source": [
    "num_trains = int(num_nodes * 0.6)\n",
    "num_vals = int(num_nodes * 0.2)\n",
    "num_tests = num_nodes - num_trains - num_vals\n",
    "\n",
    "ids = np.arange(num_nodes)\n",
    "np.random.shuffle(ids)\n",
    "\n",
    "nc_train_ids_path = os.path.join(base_dir, \"nc-train-ids.npy\")\n",
    "nc_train_ids = ids[:num_trains]\n",
    "print(f\"Part of train ids for node classification: {nc_train_ids[:3]}\")\n",
    "np.save(nc_train_ids_path, nc_train_ids)\n",
    "print(f\"NC train ids are saved to {nc_train_ids_path}\\n\")\n",
    "\n",
    "nc_train_labels_path = os.path.join(base_dir, \"nc-train-labels.pt\")\n",
    "nc_train_labels = torch.randint(0, 10, (num_trains,))\n",
    "print(f\"Part of train labels for node classification: {nc_train_labels[:3]}\")\n",
    "torch.save(nc_train_labels, nc_train_labels_path)\n",
    "print(f\"NC train labels are saved to {nc_train_labels_path}\\n\")\n",
    "\n",
    "nc_val_ids_path = os.path.join(base_dir, \"nc-val-ids.npy\")\n",
    "nc_val_ids = ids[num_trains:num_trains+num_vals]\n",
    "print(f\"Part of val ids for node classification: {nc_val_ids[:3]}\")\n",
    "np.save(nc_val_ids_path, nc_val_ids)\n",
    "print(f\"NC val ids are saved to {nc_val_ids_path}\\n\")\n",
    "\n",
    "nc_val_labels_path = os.path.join(base_dir, \"nc-val-labels.pt\")\n",
    "nc_val_labels = torch.randint(0, 10, (num_vals,))\n",
    "print(f\"Part of val labels for node classification: {nc_val_labels[:3]}\")\n",
    "torch.save(nc_val_labels, nc_val_labels_path)\n",
    "print(f\"NC val labels are saved to {nc_val_labels_path}\\n\")\n",
    "\n",
    "nc_test_ids_path = os.path.join(base_dir, \"nc-test-ids.npy\")\n",
    "nc_test_ids = ids[-num_tests:]\n",
    "print(f\"Part of test ids for node classification: {nc_test_ids[:3]}\")\n",
    "np.save(nc_test_ids_path, nc_test_ids)\n",
    "print(f\"NC test ids are saved to {nc_test_ids_path}\\n\")\n",
    "\n",
    "nc_test_labels_path = os.path.join(base_dir, \"nc-test-labels.pt\")\n",
    "nc_test_labels = torch.randint(0, 10, (num_tests,))\n",
    "print(f\"Part of test labels for node classification: {nc_test_labels[:3]}\")\n",
    "torch.save(nc_test_labels, nc_test_labels_path)\n",
    "print(f\"NC test labels are saved to {nc_test_labels_path}\\n\")"
   ]
  },
  {
   "cell_type": "markdown",
   "metadata": {
    "id": "LhAcDCHQ_KJ0"
   },
   "source": [
    "#### Link Prediction Task\n",
    "For link prediction task, we need **seeds** or **corresponding labels and indexes** which representing the pos/neg property and group of the seeds for each training/validation/test set. Like feature data, numpy arrays and torch tensors are supported for these sets."
   ]
  },
  {
   "cell_type": "code",
   "execution_count": 6,
   "metadata": {
    "execution": {
     "iopub.execute_input": "2024-10-25T13:17:22.750965Z",
     "iopub.status.busy": "2024-10-25T13:17:22.750764Z",
     "iopub.status.idle": "2024-10-25T13:17:22.769822Z",
     "shell.execute_reply": "2024-10-25T13:17:22.768963Z"
    },
    "id": "u0jCnXIcAQy4"
   },
   "outputs": [
    {
     "name": "stdout",
     "output_type": "stream",
     "text": [
      "Part of train seeds for link prediction: [[591 275]\n",
      " [416  88]\n",
      " [957 234]]\n",
      "LP train seeds are saved to ./ondisk_dataset_homograph/lp-train-seeds.npy\n",
      "\n",
      "Part of val seeds for link prediction: [[301 175]\n",
      " [557 153]\n",
      " [191 471]]\n",
      "LP val seeds are saved to ./ondisk_dataset_homograph/lp-val-seeds.npy\n",
      "\n",
      "Part of val labels for link prediction: [1. 1. 1.]\n",
      "LP val labels are saved to ./ondisk_dataset_homograph/lp-val-labels.npy\n",
      "\n",
      "Part of val indexes for link prediction: [0 1 2]\n",
      "LP val indexes are saved to ./ondisk_dataset_homograph/lp-val-indexes.npy\n",
      "\n",
      "Part of test seeds for link prediction: [[516 299]\n",
      " [723  60]\n",
      " [710 313]]\n",
      "LP test seeds are saved to ./ondisk_dataset_homograph/lp-test-seeds.npy\n",
      "\n",
      "Part of val labels for link prediction: [1. 1. 1.]\n",
      "LP test labels are saved to ./ondisk_dataset_homograph/lp-test-labels.npy\n",
      "\n",
      "Part of test indexes for link prediction: [0 1 2]\n",
      "LP test indexes are saved to ./ondisk_dataset_homograph/lp-test-indexes.npy\n",
      "\n"
     ]
    }
   ],
   "source": [
    "num_trains = int(num_edges * 0.6)\n",
    "num_vals = int(num_edges * 0.2)\n",
    "num_tests = num_edges - num_trains - num_vals\n",
    "\n",
    "lp_train_seeds_path = os.path.join(base_dir, \"lp-train-seeds.npy\")\n",
    "lp_train_seeds = edges[:num_trains, :]\n",
    "print(f\"Part of train seeds for link prediction: {lp_train_seeds[:3]}\")\n",
    "np.save(lp_train_seeds_path, lp_train_seeds)\n",
    "print(f\"LP train seeds are saved to {lp_train_seeds_path}\\n\")\n",
    "\n",
    "lp_val_seeds_path = os.path.join(base_dir, \"lp-val-seeds.npy\")\n",
    "lp_val_seeds = edges[num_trains:num_trains+num_vals, :]\n",
    "lp_val_neg_dsts = np.random.randint(0, num_nodes, (num_vals, 10)).reshape(-1)\n",
    "lp_val_neg_srcs = np.repeat(lp_val_seeds[:,0], 10)\n",
    "lp_val_neg_seeds = np.concatenate((lp_val_neg_srcs, lp_val_neg_dsts)).reshape(2,-1).T\n",
    "lp_val_seeds = np.concatenate((lp_val_seeds, lp_val_neg_seeds))\n",
    "print(f\"Part of val seeds for link prediction: {lp_val_seeds[:3]}\")\n",
    "np.save(lp_val_seeds_path, lp_val_seeds)\n",
    "print(f\"LP val seeds are saved to {lp_val_seeds_path}\\n\")\n",
    "\n",
    "lp_val_labels_path = os.path.join(base_dir, \"lp-val-labels.npy\")\n",
    "lp_val_labels = np.empty(num_vals * (10 + 1))\n",
    "lp_val_labels[:num_vals] = 1\n",
    "lp_val_labels[num_vals:] = 0\n",
    "print(f\"Part of val labels for link prediction: {lp_val_labels[:3]}\")\n",
    "np.save(lp_val_labels_path, lp_val_labels)\n",
    "print(f\"LP val labels are saved to {lp_val_labels_path}\\n\")\n",
    "\n",
    "lp_val_indexes_path = os.path.join(base_dir, \"lp-val-indexes.npy\")\n",
    "lp_val_indexes = np.arange(0, num_vals)\n",
    "lp_val_neg_indexes = np.repeat(lp_val_indexes, 10)\n",
    "lp_val_indexes = np.concatenate([lp_val_indexes, lp_val_neg_indexes])\n",
    "print(f\"Part of val indexes for link prediction: {lp_val_indexes[:3]}\")\n",
    "np.save(lp_val_indexes_path, lp_val_indexes)\n",
    "print(f\"LP val indexes are saved to {lp_val_indexes_path}\\n\")\n",
    "\n",
    "lp_test_seeds_path = os.path.join(base_dir, \"lp-test-seeds.npy\")\n",
    "lp_test_seeds = edges[-num_tests:, :]\n",
    "lp_test_neg_dsts = np.random.randint(0, num_nodes, (num_tests, 10)).reshape(-1)\n",
    "lp_test_neg_srcs = np.repeat(lp_test_seeds[:,0], 10)\n",
    "lp_test_neg_seeds = np.concatenate((lp_test_neg_srcs, lp_test_neg_dsts)).reshape(2,-1).T\n",
    "lp_test_seeds = np.concatenate((lp_test_seeds, lp_test_neg_seeds))\n",
    "print(f\"Part of test seeds for link prediction: {lp_test_seeds[:3]}\")\n",
    "np.save(lp_test_seeds_path, lp_test_seeds)\n",
    "print(f\"LP test seeds are saved to {lp_test_seeds_path}\\n\")\n",
    "\n",
    "lp_test_labels_path = os.path.join(base_dir, \"lp-test-labels.npy\")\n",
    "lp_test_labels = np.empty(num_tests * (10 + 1))\n",
    "lp_test_labels[:num_tests] = 1\n",
    "lp_test_labels[num_tests:] = 0\n",
    "print(f\"Part of val labels for link prediction: {lp_test_labels[:3]}\")\n",
    "np.save(lp_test_labels_path, lp_test_labels)\n",
    "print(f\"LP test labels are saved to {lp_test_labels_path}\\n\")\n",
    "\n",
    "lp_test_indexes_path = os.path.join(base_dir, \"lp-test-indexes.npy\")\n",
    "lp_test_indexes = np.arange(0, num_tests)\n",
    "lp_test_neg_indexes = np.repeat(lp_test_indexes, 10)\n",
    "lp_test_indexes = np.concatenate([lp_test_indexes, lp_test_neg_indexes])\n",
    "print(f\"Part of test indexes for link prediction: {lp_test_indexes[:3]}\")\n",
    "np.save(lp_test_indexes_path, lp_test_indexes)\n",
    "print(f\"LP test indexes are saved to {lp_test_indexes_path}\\n\")"
   ]
  },
  {
   "cell_type": "markdown",
   "metadata": {
    "id": "wbk6-wxRK-6S"
   },
   "source": [
    "## Organize Data into YAML File\n",
    "Now we need to create a `metadata.yaml` file which contains the paths, dadta types of graph structure, feature data, training/validation/test sets.\n",
    "\n",
    "Notes:\n",
    "- all path should be relative to `metadata.yaml`.\n",
    "- Below fields are optional and not specified in below example.\n",
    "  - `in_memory`: indicates whether to load dada into memory or `mmap`. Default is `True`.\n",
    "\n",
    "Please refer to [YAML specification](https://github.com/dmlc/dgl/blob/master/docs/source/stochastic_training/ondisk-dataset-specification.rst) for more details."
   ]
  },
  {
   "cell_type": "code",
   "execution_count": 7,
   "metadata": {
    "execution": {
     "iopub.execute_input": "2024-10-25T13:17:22.772748Z",
     "iopub.status.busy": "2024-10-25T13:17:22.771924Z",
     "iopub.status.idle": "2024-10-25T13:17:22.779067Z",
     "shell.execute_reply": "2024-10-25T13:17:22.778079Z"
    },
    "id": "ddGTWW61Lpwp"
   },
   "outputs": [],
   "source": [
    "yaml_content = f\"\"\"\n",
    "    dataset_name: homogeneous_graph_nc_lp\n",
    "    graph:\n",
    "      nodes:\n",
    "        - num: {num_nodes}\n",
    "      edges:\n",
    "        - format: csv\n",
    "          path: {os.path.basename(edges_path)}\n",
    "    feature_data:\n",
    "      - domain: node\n",
    "        name: feat_0\n",
    "        format: numpy\n",
    "        path: {os.path.basename(node_feat_0_path)}\n",
    "      - domain: node\n",
    "        name: feat_1\n",
    "        format: torch\n",
    "        path: {os.path.basename(node_feat_1_path)}\n",
    "      - domain: edge\n",
    "        name: feat_0\n",
    "        format: numpy\n",
    "        path: {os.path.basename(edge_feat_0_path)}\n",
    "      - domain: edge\n",
    "        name: feat_1\n",
    "        format: torch\n",
    "        path: {os.path.basename(edge_feat_1_path)}\n",
    "    tasks:\n",
    "      - name: node_classification\n",
    "        num_classes: 10\n",
    "        train_set:\n",
    "          - data:\n",
    "              - name: seeds\n",
    "                format: numpy\n",
    "                path: {os.path.basename(nc_train_ids_path)}\n",
    "              - name: labels\n",
    "                format: torch\n",
    "                path: {os.path.basename(nc_train_labels_path)}\n",
    "        validation_set:\n",
    "          - data:\n",
    "              - name: seeds\n",
    "                format: numpy\n",
    "                path: {os.path.basename(nc_val_ids_path)}\n",
    "              - name: labels\n",
    "                format: torch\n",
    "                path: {os.path.basename(nc_val_labels_path)}\n",
    "        test_set:\n",
    "          - data:\n",
    "              - name: seeds\n",
    "                format: numpy\n",
    "                path: {os.path.basename(nc_test_ids_path)}\n",
    "              - name: labels\n",
    "                format: torch\n",
    "                path: {os.path.basename(nc_test_labels_path)}\n",
    "      - name: link_prediction\n",
    "        num_classes: 10\n",
    "        train_set:\n",
    "          - data:\n",
    "              - name: seeds\n",
    "                format: numpy\n",
    "                path: {os.path.basename(lp_train_seeds_path)}\n",
    "        validation_set:\n",
    "          - data:\n",
    "              - name: seeds\n",
    "                format: numpy\n",
    "                path: {os.path.basename(lp_val_seeds_path)}\n",
    "              - name: labels\n",
    "                format: numpy\n",
    "                path: {os.path.basename(lp_val_labels_path)}\n",
    "              - name: indexes\n",
    "                format: numpy\n",
    "                path: {os.path.basename(lp_val_indexes_path)}\n",
    "        test_set:\n",
    "          - data:\n",
    "              - name: seeds\n",
    "                format: numpy\n",
    "                path: {os.path.basename(lp_test_seeds_path)}\n",
    "              - name: labels\n",
    "                format: numpy\n",
    "                path: {os.path.basename(lp_test_labels_path)}\n",
    "              - name: indexes\n",
    "                format: numpy\n",
    "                path: {os.path.basename(lp_test_indexes_path)}\n",
    "\"\"\"\n",
    "metadata_path = os.path.join(base_dir, \"metadata.yaml\")\n",
    "with open(metadata_path, \"w\") as f:\n",
    "  f.write(yaml_content)"
   ]
  },
  {
   "cell_type": "markdown",
   "metadata": {
    "id": "kEfybHGhOW7O"
   },
   "source": [
    "## Instantiate `OnDiskDataset`\n",
    "Now we're ready to load dataset via `dgl.graphbolt.OnDiskDataset`. When instantiating, we just pass in the base directory where `metadata.yaml` file lies.\n",
    "\n",
    "During first instantiation, GraphBolt preprocesses the raw data such as constructing `FusedCSCSamplingGraph` from edges. All data including graph, feature data, training/validation/test sets are put into `preprocessed` directory after preprocessing. Any following dataset loading will skip the preprocess stage.\n",
    "\n",
    "After preprocessing, `load()` is required to be called explicitly in order to load graph, feature data and tasks."
   ]
  },
  {
   "cell_type": "code",
   "execution_count": 8,
   "metadata": {
    "execution": {
     "iopub.execute_input": "2024-10-25T13:17:22.781579Z",
     "iopub.status.busy": "2024-10-25T13:17:22.781053Z",
     "iopub.status.idle": "2024-10-25T13:17:22.857043Z",
     "shell.execute_reply": "2024-10-25T13:17:22.856310Z"
    },
    "id": "W58CZoSzOiyo"
   },
   "outputs": [
    {
     "name": "stdout",
     "output_type": "stream",
     "text": [
      "Start to preprocess the on-disk dataset.\n",
      "Finish preprocessing the on-disk dataset.\n",
      "Loaded graph: FusedCSCSamplingGraph(csc_indptr=tensor([    0,    12,    27,  ...,  9974,  9985, 10000], dtype=torch.int32),\n",
      "                      indices=tensor([903, 662,   0,  ..., 977, 266, 592], dtype=torch.int32),\n",
      "                      total_num_nodes=1000, num_edges=10000,)\n",
      "\n",
      "Loaded feature store: TorchBasedFeatureStore(\n",
      "    {(<OnDiskFeatureDataDomain.NODE: 'node'>, None, 'feat_0'): TorchBasedFeature(\n",
      "        feature=tensor([[0.8867, 0.7120, 0.2993, 0.5841, 0.3979],\n",
      "                        [0.7782, 0.8546, 0.4062, 0.3191, 0.2646],\n",
      "                        [0.2008, 0.2472, 0.8904, 0.7836, 0.5636],\n",
      "                        ...,\n",
      "                        [0.8155, 0.3537, 0.9320, 0.8268, 0.6842],\n",
      "                        [0.2881, 0.5229, 0.4515, 0.9882, 0.8838],\n",
      "                        [0.4555, 0.1023, 0.3176, 0.7304, 0.5261]], dtype=torch.float64),\n",
      "        metadata={},\n",
      "    ), (<OnDiskFeatureDataDomain.NODE: 'node'>, None, 'feat_1'): TorchBasedFeature(\n",
      "        feature=tensor([[0.8557, 0.7624, 0.0637, 0.2502, 0.2229],\n",
      "                        [0.0938, 0.7966, 0.4719, 0.0518, 0.5105],\n",
      "                        [0.4586, 0.5936, 0.2373, 0.2735, 0.1650],\n",
      "                        ...,\n",
      "                        [0.9444, 0.5988, 0.7647, 0.4540, 0.6422],\n",
      "                        [0.6758, 0.8644, 0.3844, 0.7983, 0.4409],\n",
      "                        [0.8960, 0.4851, 0.1139, 0.6746, 0.1019]]),\n",
      "        metadata={},\n",
      "    ), (<OnDiskFeatureDataDomain.EDGE: 'edge'>, None, 'feat_0'): TorchBasedFeature(\n",
      "        feature=tensor([[0.1004, 0.4390, 0.8397, 0.2826, 0.1236],\n",
      "                        [0.1731, 0.8036, 0.0661, 0.1185, 0.7593],\n",
      "                        [0.2205, 0.1855, 0.5763, 0.6090, 0.9871],\n",
      "                        ...,\n",
      "                        [0.1991, 0.5659, 0.6587, 0.3681, 0.0946],\n",
      "                        [0.2434, 0.3389, 0.2218, 0.9887, 0.5336],\n",
      "                        [0.5979, 0.9462, 0.7908, 0.5387, 0.2908]], dtype=torch.float64),\n",
      "        metadata={},\n",
      "    ), (<OnDiskFeatureDataDomain.EDGE: 'edge'>, None, 'feat_1'): TorchBasedFeature(\n",
      "        feature=tensor([[0.6463, 0.7982, 0.0597, 0.5721, 0.7171],\n",
      "                        [0.9780, 0.0647, 0.5518, 0.2297, 0.4796],\n",
      "                        [0.6914, 0.8602, 0.7750, 0.8265, 0.4832],\n",
      "                        ...,\n",
      "                        [0.3092, 0.0783, 0.6864, 0.8189, 0.0556],\n",
      "                        [0.1108, 0.8659, 0.2615, 0.0796, 0.2160],\n",
      "                        [0.0452, 0.5084, 0.4958, 0.6719, 0.0493]]),\n",
      "        metadata={},\n",
      "    )}\n",
      ")\n",
      "\n",
      "Loaded node classification task: OnDiskTask(validation_set=ItemSet(\n",
      "               items=(tensor([923, 809, 714, 591, 273, 158,  55, 342, 477, 297, 316, 649, 390, 560,\n",
      "                   425, 947, 255, 330, 848, 656, 664, 836,  70, 358, 896, 460, 700, 186,\n",
      "                   888, 553, 484, 155, 423, 814,  86, 417, 895, 262, 627, 668, 332, 270,\n",
      "                   822, 321, 624, 118, 727, 740, 191, 632, 392, 684, 481, 905, 776, 739,\n",
      "                   825, 559, 526, 955,  21, 383, 942, 620, 745, 515, 443, 569, 566, 476,\n",
      "                   930, 637, 208, 922, 234, 728, 124, 422, 851, 345,  67, 362,  58,  10,\n",
      "                   168, 794,  64, 341, 128, 880, 233, 195, 746, 534, 221, 840, 434, 577,\n",
      "                   231, 187, 762,  50, 432, 734, 257, 679, 608, 248, 860, 405, 325, 838,\n",
      "                   705, 997, 808, 135, 798, 271, 582, 478, 590, 129, 387, 846, 873, 593,\n",
      "                    81, 803, 701, 570, 744, 482, 906, 399, 450, 411,  54,  44, 286, 900,\n",
      "                   754, 170, 961, 953, 410, 934, 131, 972, 778, 919, 898, 114, 903,  28,\n",
      "                   725,  38, 585, 113, 545, 985, 548, 166,  80, 791, 333, 335,  91, 211,\n",
      "                   579, 314, 976, 150, 689, 409, 326, 367, 926, 535, 821, 246,  89, 122,\n",
      "                   237, 421,  97, 201, 793, 295, 959, 556, 935, 254, 669, 310, 979, 375,\n",
      "                   427, 256, 658, 764], dtype=torch.int32), tensor([4, 9, 2, 5, 6, 5, 1, 4, 8, 2, 3, 1, 3, 4, 8, 1, 5, 7, 5, 3, 7, 8, 2, 4,\n",
      "                   0, 4, 3, 0, 0, 1, 7, 5, 1, 0, 7, 1, 2, 8, 7, 9, 4, 3, 0, 8, 8, 4, 4, 8,\n",
      "                   9, 5, 9, 9, 8, 0, 3, 2, 5, 2, 9, 0, 4, 8, 9, 4, 5, 3, 5, 0, 4, 4, 5, 5,\n",
      "                   9, 3, 5, 0, 1, 5, 2, 0, 3, 6, 3, 5, 6, 0, 2, 1, 5, 3, 0, 8, 5, 1, 5, 6,\n",
      "                   6, 3, 4, 1, 3, 8, 9, 5, 5, 3, 2, 4, 6, 7, 0, 1, 0, 0, 1, 8, 7, 5, 6, 6,\n",
      "                   2, 9, 0, 4, 4, 8, 2, 7, 1, 6, 3, 4, 2, 7, 1, 6, 6, 2, 8, 6, 6, 9, 6, 7,\n",
      "                   2, 3, 0, 0, 8, 8, 0, 4, 4, 9, 0, 2, 2, 2, 5, 5, 6, 1, 5, 5, 4, 8, 9, 9,\n",
      "                   6, 4, 3, 7, 2, 1, 8, 0, 3, 3, 5, 6, 4, 2, 2, 1, 8, 6, 4, 5, 4, 6, 5, 3,\n",
      "                   9, 9, 0, 5, 9, 5, 7, 9])),\n",
      "               names=('seeds', 'labels'),\n",
      "           ),\n",
      "           train_set=ItemSet(\n",
      "               items=(tensor([313,  57,   4, 889, 948,  35, 356,  26, 441, 690, 502, 160, 671, 247,\n",
      "                   965,  15, 143, 784, 363, 720, 921, 142, 843, 594, 643, 374, 841, 373,\n",
      "                   220, 474, 470, 204, 616, 883, 497, 473, 698, 768,  18, 659, 884, 485,\n",
      "                   770, 952, 164, 842, 818, 977, 687,   1, 893, 134, 189, 146, 815, 855,\n",
      "                   775, 826, 264, 504, 932, 596, 592, 253, 334, 913, 281, 240, 891, 657,\n",
      "                   904,  12, 437, 293, 514, 163, 498, 492, 908, 226, 872, 172, 487, 928,\n",
      "                   213, 999, 426, 704, 925, 565, 494, 445, 347, 783, 230, 403, 551, 742,\n",
      "                   966, 759, 804, 447, 962, 924, 207, 854, 800, 845, 713, 994, 413, 642,\n",
      "                   527, 327, 431,  73, 927, 660, 730, 995, 438, 513, 196, 216, 796, 159,\n",
      "                   463, 491, 110,  19, 419, 777, 365, 856, 512, 675, 278, 810,  87, 978,\n",
      "                    22, 748, 541,  84, 394, 284, 175, 418,  94, 607, 285, 587, 524,  49,\n",
      "                   140, 243, 967,  25, 875,  71, 837, 317,  92, 605, 169, 737, 472, 523,\n",
      "                   500, 969, 518, 613, 452, 998, 780, 182, 881, 549, 756, 663,  79, 184,\n",
      "                   176, 550, 275, 304, 958, 465, 751, 552, 480, 401, 618, 488, 629, 981,\n",
      "                   696,  40, 641, 695, 827, 112, 747, 609,  46, 200, 599, 765, 377, 104,\n",
      "                   949, 868, 974, 899, 385, 440, 650, 537, 750, 455, 153, 956, 368,  90,\n",
      "                   699, 499, 215, 322, 457, 601, 571, 850, 177, 292, 340, 852, 337, 612,\n",
      "                   272, 536, 266, 157, 384, 376, 568, 525, 238, 790, 602, 667,  68, 631,\n",
      "                   458, 741, 830, 468, 521, 929, 708, 892, 193, 916, 992, 984, 828,  29,\n",
      "                   174, 715, 469, 125, 733, 483, 970, 531, 871,   7,   5,  69, 395, 102,\n",
      "                   136, 520, 133, 562, 864, 306, 546, 274, 645, 622, 763, 610, 882, 681,\n",
      "                   721, 192, 522, 414, 424, 920, 990, 870, 799,  43, 811, 670, 795,  56,\n",
      "                   774, 261, 634, 661, 677, 454, 461, 436, 771, 902, 496, 991, 554, 574,\n",
      "                   638, 833, 171, 894, 717, 464, 151, 544,  83, 639, 412, 302, 433, 576,\n",
      "                   567, 682, 787, 138, 761, 126, 621, 989, 611, 311, 917, 291,  74, 588,\n",
      "                   501, 428, 951, 635, 543, 366, 772, 773, 530, 402, 640, 378, 806, 847,\n",
      "                   388, 844, 287, 205, 309, 678, 108, 147, 489, 217, 968, 912, 823, 439,\n",
      "                   802, 580, 181, 564, 866, 331, 832,  14, 933, 749, 950, 338, 180,  88,\n",
      "                   312, 361, 298, 190, 467, 829, 779, 711, 100, 279, 960, 647, 954, 630,\n",
      "                   336, 206, 137, 251, 486, 329, 167, 381,  51, 964, 540, 263, 398, 416,\n",
      "                   260, 644, 323, 352,  16, 561, 655, 355, 662, 753, 988, 617, 516, 712,\n",
      "                   987, 210, 244, 351, 107,  45, 781, 863, 162, 456, 507, 839,  78, 971,\n",
      "                   993, 265, 606, 451, 393, 109, 300, 343, 685, 724, 242,  27, 239, 404,\n",
      "                   736, 931, 510, 532, 558, 807,  66, 600, 282, 517, 719, 878, 218, 214,\n",
      "                   907, 572, 943, 459,  37, 862, 290, 909, 397, 371, 372, 119, 429, 120,\n",
      "                   983, 349, 938, 706, 229, 503, 584, 586, 442, 315, 241, 812, 766, 299,\n",
      "                   782, 415, 703, 354, 886, 910, 359, 963, 444, 824, 615, 267, 235, 280,\n",
      "                     3, 250, 697, 598, 227, 148, 305,  36, 583, 453, 691, 319, 869, 357,\n",
      "                     6, 879, 859, 101, 813, 857, 324,  52, 161, 475, 408, 318, 820,  75,\n",
      "                   937, 420, 674, 694, 603, 276, 792, 236, 132, 769, 197,   0,   2,  76,\n",
      "                   471,  95, 738, 115,  42, 914, 563, 760, 941,  62, 651, 980, 573, 654,\n",
      "                   805, 735, 861, 547, 294, 199, 511, 680, 936, 209, 173, 597,  53, 259,\n",
      "                   575, 258,  72, 915, 348, 446, 652, 130, 435, 897,  41,  60],\n",
      "                  dtype=torch.int32), tensor([2, 3, 8, 8, 7, 4, 0, 0, 3, 1, 0, 1, 6, 3, 4, 0, 7, 4, 8, 0, 5, 0, 5, 5,\n",
      "                   9, 2, 3, 0, 3, 9, 3, 8, 1, 2, 2, 4, 2, 9, 8, 5, 3, 4, 9, 7, 4, 5, 4, 5,\n",
      "                   9, 2, 7, 0, 4, 7, 6, 5, 6, 3, 2, 5, 9, 8, 5, 4, 6, 6, 7, 5, 9, 3, 3, 8,\n",
      "                   2, 3, 7, 9, 5, 3, 1, 5, 8, 9, 6, 8, 5, 1, 5, 8, 2, 9, 5, 7, 2, 4, 7, 9,\n",
      "                   7, 3, 2, 2, 7, 2, 5, 7, 1, 8, 7, 4, 9, 2, 6, 7, 2, 2, 6, 5, 1, 7, 1, 5,\n",
      "                   2, 7, 1, 5, 6, 2, 9, 3, 3, 2, 8, 7, 2, 8, 0, 0, 4, 3, 0, 2, 8, 8, 6, 2,\n",
      "                   2, 8, 8, 5, 0, 0, 8, 4, 2, 3, 9, 7, 6, 2, 1, 3, 5, 4, 2, 7, 6, 9, 0, 4,\n",
      "                   2, 3, 8, 4, 3, 4, 0, 6, 0, 6, 3, 9, 4, 5, 2, 0, 3, 4, 8, 8, 9, 9, 6, 1,\n",
      "                   5, 2, 7, 9, 3, 5, 7, 2, 0, 9, 1, 3, 6, 8, 1, 6, 0, 4, 9, 5, 4, 5, 3, 2,\n",
      "                   5, 9, 0, 4, 8, 4, 3, 3, 0, 9, 7, 3, 8, 6, 5, 4, 5, 6, 1, 8, 0, 2, 7, 6,\n",
      "                   1, 5, 8, 2, 5, 3, 8, 0, 9, 2, 2, 8, 9, 1, 1, 8, 0, 1, 7, 1, 6, 0, 5, 3,\n",
      "                   4, 9, 3, 6, 9, 5, 0, 2, 5, 9, 0, 1, 4, 3, 2, 3, 5, 6, 2, 4, 1, 6, 0, 3,\n",
      "                   1, 6, 9, 8, 3, 0, 2, 8, 9, 7, 4, 2, 5, 1, 1, 1, 4, 6, 0, 3, 2, 9, 7, 5,\n",
      "                   1, 1, 7, 6, 5, 9, 8, 7, 2, 3, 4, 5, 4, 5, 1, 1, 6, 1, 1, 2, 9, 2, 0, 2,\n",
      "                   2, 7, 5, 0, 7, 1, 7, 0, 9, 2, 7, 4, 0, 9, 2, 5, 9, 7, 4, 0, 0, 1, 9, 0,\n",
      "                   9, 9, 4, 0, 9, 3, 4, 3, 9, 3, 7, 3, 0, 4, 3, 2, 3, 3, 6, 3, 5, 2, 1, 6,\n",
      "                   6, 4, 0, 3, 1, 8, 4, 4, 1, 3, 4, 3, 2, 4, 2, 5, 6, 8, 6, 2, 6, 8, 5, 5,\n",
      "                   7, 3, 8, 1, 8, 6, 9, 6, 6, 7, 2, 9, 1, 9, 7, 1, 5, 6, 1, 4, 0, 3, 4, 8,\n",
      "                   1, 8, 6, 6, 5, 6, 3, 4, 9, 6, 3, 7, 1, 2, 8, 8, 0, 1, 0, 8, 0, 6, 0, 0,\n",
      "                   0, 7, 8, 9, 2, 1, 3, 3, 0, 2, 8, 4, 6, 8, 1, 1, 5, 9, 0, 2, 9, 8, 2, 8,\n",
      "                   4, 4, 6, 8, 2, 5, 9, 6, 7, 6, 6, 5, 9, 3, 3, 7, 5, 7, 4, 5, 0, 2, 0, 4,\n",
      "                   5, 7, 3, 3, 8, 5, 3, 4, 7, 6, 2, 1, 9, 9, 9, 5, 5, 0, 1, 8, 2, 3, 3, 3,\n",
      "                   8, 4, 8, 2, 5, 8, 7, 9, 6, 2, 5, 1, 9, 6, 8, 9, 8, 0, 0, 1, 4, 0, 2, 5,\n",
      "                   2, 5, 7, 5, 2, 9, 1, 3, 2, 9, 5, 7, 6, 9, 7, 9, 8, 0, 0, 8, 6, 1, 9, 1,\n",
      "                   0, 3, 8, 8, 0, 6, 5, 9, 5, 1, 3, 2, 7, 6, 9, 4, 4, 1, 4, 4, 1, 5, 8, 8])),\n",
      "               names=('seeds', 'labels'),\n",
      "           ),\n",
      "           test_set=ItemSet(\n",
      "               items=(tensor([449, 918,  77,  17, 945, 692, 867, 277,  99, 538, 407, 946, 581, 876,\n",
      "                   400, 179, 382, 194, 149, 901, 141, 466, 786, 350, 269, 301, 495, 853,\n",
      "                   448, 533, 344, 865, 509, 479, 688, 619, 957, 729,  59, 117, 683, 308,\n",
      "                   718, 339, 185, 396, 626,  48, 986, 752,  65,  32, 307, 121, 178, 816,\n",
      "                   165, 702, 183, 604, 673, 633, 328, 595, 360, 228, 625, 973, 757, 887,\n",
      "                    93, 555, 369, 693, 154, 505, 493, 379, 506, 139, 731, 801, 539, 123,\n",
      "                   628, 152,  39,  30, 219, 858, 665, 835, 785, 834, 686,  23,  33, 797,\n",
      "                   430, 490, 911, 127, 249,  61, 202, 940,  85, 709, 726, 890, 636, 542,\n",
      "                   885, 203,  24,  47, 755, 508, 767, 528, 370, 723, 589, 877, 707, 939,\n",
      "                    20, 996, 111, 849, 389, 380, 406, 722, 982, 103, 817, 672, 386, 245,\n",
      "                   391, 874, 732, 975, 557, 303,  11, 145, 144, 223, 462, 232, 716, 289,\n",
      "                   648, 353,   8, 225, 116, 623, 646, 944, 666, 106,  34, 346, 105, 676,\n",
      "                   364, 710, 831,  13, 789, 519, 283, 156,  63, 819,  98,  31, 288, 758,\n",
      "                   268, 198, 296, 653, 529, 188,  82, 614, 743, 224, 212, 578,   9, 788,\n",
      "                   252, 222,  96, 320], dtype=torch.int32), tensor([6, 5, 1, 3, 2, 3, 4, 5, 4, 1, 5, 2, 7, 3, 8, 6, 5, 5, 7, 3, 9, 2, 6, 6,\n",
      "                   8, 1, 7, 0, 3, 5, 6, 5, 4, 9, 9, 4, 7, 4, 0, 0, 0, 7, 7, 4, 7, 5, 2, 6,\n",
      "                   8, 8, 4, 9, 7, 9, 7, 1, 5, 3, 3, 4, 9, 1, 1, 6, 8, 4, 2, 9, 4, 6, 8, 9,\n",
      "                   9, 0, 1, 0, 3, 0, 0, 3, 8, 8, 6, 0, 5, 2, 4, 2, 7, 5, 6, 1, 0, 3, 5, 9,\n",
      "                   0, 7, 3, 7, 8, 7, 3, 7, 0, 6, 9, 6, 7, 1, 1, 7, 6, 4, 7, 0, 5, 2, 8, 8,\n",
      "                   8, 8, 4, 9, 2, 4, 9, 6, 2, 8, 7, 0, 0, 5, 1, 9, 0, 1, 5, 4, 9, 4, 1, 8,\n",
      "                   9, 9, 2, 4, 9, 2, 3, 3, 9, 9, 5, 0, 3, 8, 8, 9, 3, 1, 3, 0, 3, 4, 7, 8,\n",
      "                   4, 7, 7, 2, 9, 0, 9, 2, 9, 5, 2, 1, 0, 2, 5, 3, 9, 5, 1, 0, 5, 1, 4, 7,\n",
      "                   3, 9, 3, 5, 4, 6, 7, 8])),\n",
      "               names=('seeds', 'labels'),\n",
      "           ),\n",
      "           metadata={'name': 'node_classification', 'num_classes': 10},)\n",
      "\n",
      "Loaded link prediction task: OnDiskTask(validation_set=ItemSet(\n",
      "               items=(tensor([[301, 175],\n",
      "                   [557, 153],\n",
      "                   [191, 471],\n",
      "                   ...,\n",
      "                   [549, 836],\n",
      "                   [549, 987],\n",
      "                   [549, 541]], dtype=torch.int32), tensor([1., 1., 1.,  ..., 0., 0., 0.], dtype=torch.float64), tensor([   0,    1,    2,  ..., 1999, 1999, 1999])),\n",
      "               names=('seeds', 'labels', 'indexes'),\n",
      "           ),\n",
      "           train_set=ItemSet(\n",
      "               items=(tensor([[591, 275],\n",
      "                   [416,  88],\n",
      "                   [957, 234],\n",
      "                   ...,\n",
      "                   [875, 646],\n",
      "                   [602, 647],\n",
      "                   [414, 639]], dtype=torch.int32),),\n",
      "               names=('seeds',),\n",
      "           ),\n",
      "           test_set=ItemSet(\n",
      "               items=(tensor([[516, 299],\n",
      "                   [723,  60],\n",
      "                   [710, 313],\n",
      "                   ...,\n",
      "                   [116, 873],\n",
      "                   [116, 561],\n",
      "                   [116, 665]], dtype=torch.int32), tensor([1., 1., 1.,  ..., 0., 0., 0.], dtype=torch.float64), tensor([   0,    1,    2,  ..., 1999, 1999, 1999])),\n",
      "               names=('seeds', 'labels', 'indexes'),\n",
      "           ),\n",
      "           metadata={'name': 'link_prediction', 'num_classes': 10},)\n",
      "\n"
     ]
    },
    {
     "name": "stderr",
     "output_type": "stream",
     "text": [
      "/dgl/python/dgl/graphbolt/impl/ondisk_dataset.py:463: GBWarning: Edge feature is stored, but edge IDs are not saved.\n",
      "  gb_warning(\"Edge feature is stored, but edge IDs are not saved.\")\n"
     ]
    }
   ],
   "source": [
    "dataset = gb.OnDiskDataset(base_dir).load()\n",
    "graph = dataset.graph\n",
    "print(f\"Loaded graph: {graph}\\n\")\n",
    "\n",
    "feature = dataset.feature\n",
    "print(f\"Loaded feature store: {feature}\\n\")\n",
    "\n",
    "tasks = dataset.tasks\n",
    "nc_task = tasks[0]\n",
    "print(f\"Loaded node classification task: {nc_task}\\n\")\n",
    "lp_task = tasks[1]\n",
    "print(f\"Loaded link prediction task: {lp_task}\\n\")"
   ]
  }
 ],
 "metadata": {
  "colab": {
   "private_outputs": true,
   "provenance": []
  },
  "kernelspec": {
   "display_name": "Python 3",
   "name": "python3"
  },
  "language_info": {
   "codemirror_mode": {
    "name": "ipython",
    "version": 3
   },
   "file_extension": ".py",
   "mimetype": "text/x-python",
   "name": "python",
   "nbconvert_exporter": "python",
   "pygments_lexer": "ipython3",
   "version": "3.10.15"
  }
 },
 "nbformat": 4,
 "nbformat_minor": 0
}

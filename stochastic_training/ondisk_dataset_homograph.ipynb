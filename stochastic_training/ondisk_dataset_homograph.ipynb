{
 "cells": [
  {
   "cell_type": "markdown",
   "metadata": {
    "id": "FnFhPMaAfLtJ"
   },
   "source": [
    "# OnDiskDataset for Homogeneous Graph\n",
    "\n",
    "[![Open In Colab](https://colab.research.google.com/assets/colab-badge.svg)](https://colab.research.google.com/github/dmlc/dgl/blob/master/notebooks/stochastic_training/ondisk_dataset_homograph.ipynb) [![GitHub](https://img.shields.io/badge/-View%20on%20GitHub-181717?logo=github&logoColor=ffffff)](https://github.com/dmlc/dgl/blob/master/notebooks/stochastic_training/ondisk_dataset_homograph.ipynb)\n",
    "\n",
    "This tutorial shows how to create `OnDiskDataset` for homogeneous graph that could be used in **GraphBolt** framework.\n",
    "\n",
    "By the end of this tutorial, you will be able to\n",
    "\n",
    "- organize graph structure data.\n",
    "- organize feature data.\n",
    "- organize training/validation/test set for specific tasks.\n",
    "\n",
    "To create an ``OnDiskDataset`` object, you need to organize all the data including graph structure, feature data and tasks into a directory. The directory should contain a ``metadata.yaml`` file that describes the metadata of the dataset.\n",
    "\n",
    "Now let's generate various data step by step and organize them together to instantiate `OnDiskDataset` finally."
   ]
  },
  {
   "cell_type": "markdown",
   "metadata": {
    "id": "Wlb19DtWgtzq"
   },
   "source": [
    "## Install DGL package"
   ]
  },
  {
   "cell_type": "code",
   "execution_count": 1,
   "metadata": {
    "execution": {
     "iopub.execute_input": "2024-10-07T13:16:56.185458Z",
     "iopub.status.busy": "2024-10-07T13:16:56.184834Z",
     "iopub.status.idle": "2024-10-07T13:16:59.198418Z",
     "shell.execute_reply": "2024-10-07T13:16:59.197411Z"
    },
    "id": "UojlT9ZGgyr9"
   },
   "outputs": [
    {
     "name": "stdout",
     "output_type": "stream",
     "text": [
      "Looking in links: https://data.dgl.ai/wheels-test/repo.html\r\n",
      "Requirement already satisfied: dgl in /opt/conda/envs/dgl-dev-cpu/lib/python3.10/site-packages (2.2a240410)\r\n",
      "Requirement already satisfied: numpy>=1.14.0 in /opt/conda/envs/dgl-dev-cpu/lib/python3.10/site-packages (from dgl) (1.26.4)\r\n",
      "Requirement already satisfied: scipy>=1.1.0 in /opt/conda/envs/dgl-dev-cpu/lib/python3.10/site-packages (from dgl) (1.14.1)\r\n",
      "Requirement already satisfied: networkx>=2.1 in /opt/conda/envs/dgl-dev-cpu/lib/python3.10/site-packages (from dgl) (3.3)\r\n",
      "Requirement already satisfied: requests>=2.19.0 in /opt/conda/envs/dgl-dev-cpu/lib/python3.10/site-packages (from dgl) (2.32.3)\r\n",
      "Requirement already satisfied: tqdm in /opt/conda/envs/dgl-dev-cpu/lib/python3.10/site-packages (from dgl) (4.66.5)\r\n",
      "Requirement already satisfied: psutil>=5.8.0 in /opt/conda/envs/dgl-dev-cpu/lib/python3.10/site-packages (from dgl) (6.0.0)\r\n",
      "Requirement already satisfied: torchdata>=0.5.0 in /opt/conda/envs/dgl-dev-cpu/lib/python3.10/site-packages (from dgl) (0.8.0)\r\n",
      "Requirement already satisfied: pandas in /opt/conda/envs/dgl-dev-cpu/lib/python3.10/site-packages (from dgl) (2.2.3)\r\n"
     ]
    },
    {
     "name": "stdout",
     "output_type": "stream",
     "text": [
      "Requirement already satisfied: charset-normalizer<4,>=2 in /opt/conda/envs/dgl-dev-cpu/lib/python3.10/site-packages (from requests>=2.19.0->dgl) (3.3.2)\r\n",
      "Requirement already satisfied: idna<4,>=2.5 in /opt/conda/envs/dgl-dev-cpu/lib/python3.10/site-packages (from requests>=2.19.0->dgl) (3.10)\r\n",
      "Requirement already satisfied: urllib3<3,>=1.21.1 in /opt/conda/envs/dgl-dev-cpu/lib/python3.10/site-packages (from requests>=2.19.0->dgl) (2.2.3)\r\n",
      "Requirement already satisfied: certifi>=2017.4.17 in /opt/conda/envs/dgl-dev-cpu/lib/python3.10/site-packages (from requests>=2.19.0->dgl) (2024.8.30)\r\n",
      "Requirement already satisfied: torch>=2 in /opt/conda/envs/dgl-dev-cpu/lib/python3.10/site-packages (from torchdata>=0.5.0->dgl) (2.1.0+cpu)\r\n"
     ]
    },
    {
     "name": "stdout",
     "output_type": "stream",
     "text": [
      "Requirement already satisfied: python-dateutil>=2.8.2 in /opt/conda/envs/dgl-dev-cpu/lib/python3.10/site-packages (from pandas->dgl) (2.9.0.post0)\r\n",
      "Requirement already satisfied: pytz>=2020.1 in /opt/conda/envs/dgl-dev-cpu/lib/python3.10/site-packages (from pandas->dgl) (2024.2)\r\n",
      "Requirement already satisfied: tzdata>=2022.7 in /opt/conda/envs/dgl-dev-cpu/lib/python3.10/site-packages (from pandas->dgl) (2024.2)\r\n",
      "Requirement already satisfied: six>=1.5 in /opt/conda/envs/dgl-dev-cpu/lib/python3.10/site-packages (from python-dateutil>=2.8.2->pandas->dgl) (1.16.0)\r\n",
      "Requirement already satisfied: filelock in /opt/conda/envs/dgl-dev-cpu/lib/python3.10/site-packages (from torch>=2->torchdata>=0.5.0->dgl) (3.16.1)\r\n",
      "Requirement already satisfied: typing-extensions in /opt/conda/envs/dgl-dev-cpu/lib/python3.10/site-packages (from torch>=2->torchdata>=0.5.0->dgl) (4.12.2)\r\n",
      "Requirement already satisfied: sympy in /opt/conda/envs/dgl-dev-cpu/lib/python3.10/site-packages (from torch>=2->torchdata>=0.5.0->dgl) (1.13.3)\r\n",
      "Requirement already satisfied: jinja2 in /opt/conda/envs/dgl-dev-cpu/lib/python3.10/site-packages (from torch>=2->torchdata>=0.5.0->dgl) (3.1.4)\r\n",
      "Requirement already satisfied: fsspec in /opt/conda/envs/dgl-dev-cpu/lib/python3.10/site-packages (from torch>=2->torchdata>=0.5.0->dgl) (2024.9.0)\r\n"
     ]
    },
    {
     "name": "stdout",
     "output_type": "stream",
     "text": [
      "Requirement already satisfied: MarkupSafe>=2.0 in /opt/conda/envs/dgl-dev-cpu/lib/python3.10/site-packages (from jinja2->torch>=2->torchdata>=0.5.0->dgl) (2.1.5)\r\n",
      "Requirement already satisfied: mpmath<1.4,>=1.1.0 in /opt/conda/envs/dgl-dev-cpu/lib/python3.10/site-packages (from sympy->torch>=2->torchdata>=0.5.0->dgl) (1.3.0)\r\n"
     ]
    },
    {
     "name": "stdout",
     "output_type": "stream",
     "text": [
      "\u001b[33mWARNING: Running pip as the 'root' user can result in broken permissions and conflicting behaviour with the system package manager, possibly rendering your system unusable.It is recommended to use a virtual environment instead: https://pip.pypa.io/warnings/venv. Use the --root-user-action option if you know what you are doing and want to suppress this warning.\u001b[0m\u001b[33m\r\n",
      "\u001b[0m"
     ]
    },
    {
     "name": "stdout",
     "output_type": "stream",
     "text": [
      "DGL installed!\n"
     ]
    }
   ],
   "source": [
    "# Install required packages.\n",
    "import os\n",
    "import torch\n",
    "import numpy as np\n",
    "os.environ['TORCH'] = torch.__version__\n",
    "os.environ['DGLBACKEND'] = \"pytorch\"\n",
    "\n",
    "# Install the CPU version.\n",
    "device = torch.device(\"cpu\")\n",
    "!pip install --pre dgl -f https://data.dgl.ai/wheels-test/repo.html\n",
    "\n",
    "try:\n",
    "    import dgl\n",
    "    import dgl.graphbolt as gb\n",
    "    installed = True\n",
    "except ImportError as error:\n",
    "    installed = False\n",
    "    print(error)\n",
    "print(\"DGL installed!\" if installed else \"DGL not found!\")"
   ]
  },
  {
   "cell_type": "markdown",
   "metadata": {
    "id": "2R7WnSbjsfbr"
   },
   "source": [
    "## Data preparation\n",
    "In order to demonstrate how to organize various data, let's create a base directory first."
   ]
  },
  {
   "cell_type": "code",
   "execution_count": 2,
   "metadata": {
    "execution": {
     "iopub.execute_input": "2024-10-07T13:16:59.201397Z",
     "iopub.status.busy": "2024-10-07T13:16:59.200645Z",
     "iopub.status.idle": "2024-10-07T13:16:59.205962Z",
     "shell.execute_reply": "2024-10-07T13:16:59.205039Z"
    },
    "id": "SZipbzyltLfO"
   },
   "outputs": [
    {
     "name": "stdout",
     "output_type": "stream",
     "text": [
      "Created base directory: ./ondisk_dataset_homograph\n"
     ]
    }
   ],
   "source": [
    "base_dir = './ondisk_dataset_homograph'\n",
    "os.makedirs(base_dir, exist_ok=True)\n",
    "print(f\"Created base directory: {base_dir}\")"
   ]
  },
  {
   "cell_type": "markdown",
   "metadata": {
    "id": "qhNtIn_xhlnl"
   },
   "source": [
    "### Generate graph structure data\n",
    "For homogeneous graph, we just need to save edges(namely seeds) into  **Numpy** or **CSV** file.\n",
    "\n",
    "Note:\n",
    "- when saving to **Numpy**, the array requires to be in shape of `(2, N)`. This format is recommended as constructing graph from it is much faster than **CSV** file.\n",
    "- when saving to **CSV** file, do not save index and header.\n"
   ]
  },
  {
   "cell_type": "code",
   "execution_count": 3,
   "metadata": {
    "execution": {
     "iopub.execute_input": "2024-10-07T13:16:59.208210Z",
     "iopub.status.busy": "2024-10-07T13:16:59.207926Z",
     "iopub.status.idle": "2024-10-07T13:16:59.221917Z",
     "shell.execute_reply": "2024-10-07T13:16:59.221080Z"
    },
    "id": "HcBt4G5BmSjr"
   },
   "outputs": [
    {
     "name": "stdout",
     "output_type": "stream",
     "text": [
      "Part of edges: [[560 480]\n",
      " [609 116]\n",
      " [161  85]\n",
      " [824 599]\n",
      " [ 28 877]]\n",
      "Edges are saved into ./ondisk_dataset_homograph/edges.csv\n"
     ]
    }
   ],
   "source": [
    "import numpy as np\n",
    "import pandas as pd\n",
    "num_nodes = 1000\n",
    "num_edges = 10 * num_nodes\n",
    "edges_path = os.path.join(base_dir, \"edges.csv\")\n",
    "edges = np.random.randint(0, num_nodes, size=(num_edges, 2))\n",
    "\n",
    "print(f\"Part of edges: {edges[:5, :]}\")\n",
    "\n",
    "df = pd.DataFrame(edges)\n",
    "df.to_csv(edges_path, index=False, header=False)\n",
    "\n",
    "print(f\"Edges are saved into {edges_path}\")"
   ]
  },
  {
   "cell_type": "markdown",
   "metadata": {
    "id": "kh-4cPtzpcaH"
   },
   "source": [
    "### Generate feature data for graph\n",
    "For feature data, numpy arrays and torch tensors are supported for now."
   ]
  },
  {
   "cell_type": "code",
   "execution_count": 4,
   "metadata": {
    "execution": {
     "iopub.execute_input": "2024-10-07T13:16:59.224476Z",
     "iopub.status.busy": "2024-10-07T13:16:59.224178Z",
     "iopub.status.idle": "2024-10-07T13:16:59.242311Z",
     "shell.execute_reply": "2024-10-07T13:16:59.241391Z"
    },
    "id": "_PVu1u5brBhF"
   },
   "outputs": [
    {
     "name": "stdout",
     "output_type": "stream",
     "text": [
      "Part of node feature [feat_0]: [[0.57420171 0.55666092 0.85898506 0.34847101 0.92309941]\n",
      " [0.26401621 0.53249147 0.04606576 0.86897254 0.61050265]\n",
      " [0.03935213 0.28169892 0.88987923 0.54518436 0.39234828]]\n",
      "Node feature [feat_0] is saved to ./ondisk_dataset_homograph/node-feat-0.npy\n",
      "\n",
      "Part of node feature [feat_1]: tensor([[0.3638, 0.3065, 0.5130, 0.5896, 0.5705],\n",
      "        [0.1562, 0.7970, 0.2486, 0.6100, 0.8619],\n",
      "        [0.8953, 0.7054, 0.3432, 0.0880, 0.3698]])\n",
      "Node feature [feat_1] is saved to ./ondisk_dataset_homograph/node-feat-1.pt\n",
      "\n",
      "Part of edge feature [feat_0]: [[0.19220988 0.66378725 0.44495191 0.60089311 0.11704496]\n",
      " [0.45331593 0.59107991 0.90676798 0.25983234 0.03485322]\n",
      " [0.17022673 0.8567292  0.14305569 0.31797374 0.80840165]]\n",
      "Edge feature [feat_0] is saved to ./ondisk_dataset_homograph/edge-feat-0.npy\n",
      "\n",
      "Part of edge feature [feat_1]: tensor([[0.1932, 0.0988, 0.5476, 0.0566, 0.7650],\n",
      "        [0.5389, 0.2313, 0.7613, 0.7594, 0.6491],\n",
      "        [0.6619, 0.4057, 0.0596, 0.7086, 0.4814]])\n",
      "Edge feature [feat_1] is saved to ./ondisk_dataset_homograph/edge-feat-1.pt\n",
      "\n"
     ]
    }
   ],
   "source": [
    "# Generate node feature in numpy array.\n",
    "node_feat_0_path = os.path.join(base_dir, \"node-feat-0.npy\")\n",
    "node_feat_0 = np.random.rand(num_nodes, 5)\n",
    "print(f\"Part of node feature [feat_0]: {node_feat_0[:3, :]}\")\n",
    "np.save(node_feat_0_path, node_feat_0)\n",
    "print(f\"Node feature [feat_0] is saved to {node_feat_0_path}\\n\")\n",
    "\n",
    "# Generate another node feature in torch tensor\n",
    "node_feat_1_path = os.path.join(base_dir, \"node-feat-1.pt\")\n",
    "node_feat_1 = torch.rand(num_nodes, 5)\n",
    "print(f\"Part of node feature [feat_1]: {node_feat_1[:3, :]}\")\n",
    "torch.save(node_feat_1, node_feat_1_path)\n",
    "print(f\"Node feature [feat_1] is saved to {node_feat_1_path}\\n\")\n",
    "\n",
    "# Generate edge feature in numpy array.\n",
    "edge_feat_0_path = os.path.join(base_dir, \"edge-feat-0.npy\")\n",
    "edge_feat_0 = np.random.rand(num_edges, 5)\n",
    "print(f\"Part of edge feature [feat_0]: {edge_feat_0[:3, :]}\")\n",
    "np.save(edge_feat_0_path, edge_feat_0)\n",
    "print(f\"Edge feature [feat_0] is saved to {edge_feat_0_path}\\n\")\n",
    "\n",
    "# Generate another edge feature in torch tensor\n",
    "edge_feat_1_path = os.path.join(base_dir, \"edge-feat-1.pt\")\n",
    "edge_feat_1 = torch.rand(num_edges, 5)\n",
    "print(f\"Part of edge feature [feat_1]: {edge_feat_1[:3, :]}\")\n",
    "torch.save(edge_feat_1, edge_feat_1_path)\n",
    "print(f\"Edge feature [feat_1] is saved to {edge_feat_1_path}\\n\")\n"
   ]
  },
  {
   "cell_type": "markdown",
   "metadata": {
    "id": "ZyqgOtsIwzh_"
   },
   "source": [
    "### Generate tasks\n",
    "`OnDiskDataset` supports multiple tasks. For each task, we need to prepare training/validation/test sets respectively. Such sets usually vary among different tasks. In this tutorial, let's create a **Node Classification** task and **Link Prediction** task."
   ]
  },
  {
   "cell_type": "markdown",
   "metadata": {
    "id": "hVxHaDIfzCkr"
   },
   "source": [
    "#### Node Classification Task\n",
    "For node classification task, we need **node IDs** and corresponding **labels** for each training/validation/test set. Like feature data, numpy arrays and torch tensors are supported for these sets."
   ]
  },
  {
   "cell_type": "code",
   "execution_count": 5,
   "metadata": {
    "execution": {
     "iopub.execute_input": "2024-10-07T13:16:59.244719Z",
     "iopub.status.busy": "2024-10-07T13:16:59.244308Z",
     "iopub.status.idle": "2024-10-07T13:16:59.256141Z",
     "shell.execute_reply": "2024-10-07T13:16:59.255316Z"
    },
    "id": "S5-fyBbHzTCO"
   },
   "outputs": [
    {
     "name": "stdout",
     "output_type": "stream",
     "text": [
      "Part of train ids for node classification: [840 747 409]\n",
      "NC train ids are saved to ./ondisk_dataset_homograph/nc-train-ids.npy\n",
      "\n",
      "Part of train labels for node classification: tensor([4, 0, 9])\n",
      "NC train labels are saved to ./ondisk_dataset_homograph/nc-train-labels.pt\n",
      "\n",
      "Part of val ids for node classification: [815 577 239]\n",
      "NC val ids are saved to ./ondisk_dataset_homograph/nc-val-ids.npy\n",
      "\n",
      "Part of val labels for node classification: tensor([7, 1, 9])\n",
      "NC val labels are saved to ./ondisk_dataset_homograph/nc-val-labels.pt\n",
      "\n",
      "Part of test ids for node classification: [988  55 961]\n",
      "NC test ids are saved to ./ondisk_dataset_homograph/nc-test-ids.npy\n",
      "\n",
      "Part of test labels for node classification: tensor([7, 7, 5])\n",
      "NC test labels are saved to ./ondisk_dataset_homograph/nc-test-labels.pt\n",
      "\n"
     ]
    }
   ],
   "source": [
    "num_trains = int(num_nodes * 0.6)\n",
    "num_vals = int(num_nodes * 0.2)\n",
    "num_tests = num_nodes - num_trains - num_vals\n",
    "\n",
    "ids = np.arange(num_nodes)\n",
    "np.random.shuffle(ids)\n",
    "\n",
    "nc_train_ids_path = os.path.join(base_dir, \"nc-train-ids.npy\")\n",
    "nc_train_ids = ids[:num_trains]\n",
    "print(f\"Part of train ids for node classification: {nc_train_ids[:3]}\")\n",
    "np.save(nc_train_ids_path, nc_train_ids)\n",
    "print(f\"NC train ids are saved to {nc_train_ids_path}\\n\")\n",
    "\n",
    "nc_train_labels_path = os.path.join(base_dir, \"nc-train-labels.pt\")\n",
    "nc_train_labels = torch.randint(0, 10, (num_trains,))\n",
    "print(f\"Part of train labels for node classification: {nc_train_labels[:3]}\")\n",
    "torch.save(nc_train_labels, nc_train_labels_path)\n",
    "print(f\"NC train labels are saved to {nc_train_labels_path}\\n\")\n",
    "\n",
    "nc_val_ids_path = os.path.join(base_dir, \"nc-val-ids.npy\")\n",
    "nc_val_ids = ids[num_trains:num_trains+num_vals]\n",
    "print(f\"Part of val ids for node classification: {nc_val_ids[:3]}\")\n",
    "np.save(nc_val_ids_path, nc_val_ids)\n",
    "print(f\"NC val ids are saved to {nc_val_ids_path}\\n\")\n",
    "\n",
    "nc_val_labels_path = os.path.join(base_dir, \"nc-val-labels.pt\")\n",
    "nc_val_labels = torch.randint(0, 10, (num_vals,))\n",
    "print(f\"Part of val labels for node classification: {nc_val_labels[:3]}\")\n",
    "torch.save(nc_val_labels, nc_val_labels_path)\n",
    "print(f\"NC val labels are saved to {nc_val_labels_path}\\n\")\n",
    "\n",
    "nc_test_ids_path = os.path.join(base_dir, \"nc-test-ids.npy\")\n",
    "nc_test_ids = ids[-num_tests:]\n",
    "print(f\"Part of test ids for node classification: {nc_test_ids[:3]}\")\n",
    "np.save(nc_test_ids_path, nc_test_ids)\n",
    "print(f\"NC test ids are saved to {nc_test_ids_path}\\n\")\n",
    "\n",
    "nc_test_labels_path = os.path.join(base_dir, \"nc-test-labels.pt\")\n",
    "nc_test_labels = torch.randint(0, 10, (num_tests,))\n",
    "print(f\"Part of test labels for node classification: {nc_test_labels[:3]}\")\n",
    "torch.save(nc_test_labels, nc_test_labels_path)\n",
    "print(f\"NC test labels are saved to {nc_test_labels_path}\\n\")"
   ]
  },
  {
   "cell_type": "markdown",
   "metadata": {
    "id": "LhAcDCHQ_KJ0"
   },
   "source": [
    "#### Link Prediction Task\n",
    "For link prediction task, we need **seeds** or **corresponding labels and indexes** which representing the pos/neg property and group of the seeds for each training/validation/test set. Like feature data, numpy arrays and torch tensors are supported for these sets."
   ]
  },
  {
   "cell_type": "code",
   "execution_count": 6,
   "metadata": {
    "execution": {
     "iopub.execute_input": "2024-10-07T13:16:59.258759Z",
     "iopub.status.busy": "2024-10-07T13:16:59.258354Z",
     "iopub.status.idle": "2024-10-07T13:16:59.276418Z",
     "shell.execute_reply": "2024-10-07T13:16:59.275607Z"
    },
    "id": "u0jCnXIcAQy4"
   },
   "outputs": [
    {
     "name": "stdout",
     "output_type": "stream",
     "text": [
      "Part of train seeds for link prediction: [[560 480]\n",
      " [609 116]\n",
      " [161  85]]\n",
      "LP train seeds are saved to ./ondisk_dataset_homograph/lp-train-seeds.npy\n",
      "\n",
      "Part of val seeds for link prediction: [[199 513]\n",
      " [389 138]\n",
      " [422 730]]\n",
      "LP val seeds are saved to ./ondisk_dataset_homograph/lp-val-seeds.npy\n",
      "\n",
      "Part of val labels for link prediction: [1. 1. 1.]\n",
      "LP val labels are saved to ./ondisk_dataset_homograph/lp-val-labels.npy\n",
      "\n",
      "Part of val indexes for link prediction: [0 1 2]\n",
      "LP val indexes are saved to ./ondisk_dataset_homograph/lp-val-indexes.npy\n",
      "\n",
      "Part of test seeds for link prediction: [[ 33 764]\n",
      " [512 316]\n",
      " [970  56]]\n",
      "LP test seeds are saved to ./ondisk_dataset_homograph/lp-test-seeds.npy\n",
      "\n",
      "Part of val labels for link prediction: [1. 1. 1.]\n",
      "LP test labels are saved to ./ondisk_dataset_homograph/lp-test-labels.npy\n",
      "\n",
      "Part of test indexes for link prediction: [0 1 2]\n",
      "LP test indexes are saved to ./ondisk_dataset_homograph/lp-test-indexes.npy\n",
      "\n"
     ]
    }
   ],
   "source": [
    "num_trains = int(num_edges * 0.6)\n",
    "num_vals = int(num_edges * 0.2)\n",
    "num_tests = num_edges - num_trains - num_vals\n",
    "\n",
    "lp_train_seeds_path = os.path.join(base_dir, \"lp-train-seeds.npy\")\n",
    "lp_train_seeds = edges[:num_trains, :]\n",
    "print(f\"Part of train seeds for link prediction: {lp_train_seeds[:3]}\")\n",
    "np.save(lp_train_seeds_path, lp_train_seeds)\n",
    "print(f\"LP train seeds are saved to {lp_train_seeds_path}\\n\")\n",
    "\n",
    "lp_val_seeds_path = os.path.join(base_dir, \"lp-val-seeds.npy\")\n",
    "lp_val_seeds = edges[num_trains:num_trains+num_vals, :]\n",
    "lp_val_neg_dsts = np.random.randint(0, num_nodes, (num_vals, 10)).reshape(-1)\n",
    "lp_val_neg_srcs = np.repeat(lp_val_seeds[:,0], 10)\n",
    "lp_val_neg_seeds = np.concatenate((lp_val_neg_srcs, lp_val_neg_dsts)).reshape(2,-1).T\n",
    "lp_val_seeds = np.concatenate((lp_val_seeds, lp_val_neg_seeds))\n",
    "print(f\"Part of val seeds for link prediction: {lp_val_seeds[:3]}\")\n",
    "np.save(lp_val_seeds_path, lp_val_seeds)\n",
    "print(f\"LP val seeds are saved to {lp_val_seeds_path}\\n\")\n",
    "\n",
    "lp_val_labels_path = os.path.join(base_dir, \"lp-val-labels.npy\")\n",
    "lp_val_labels = np.empty(num_vals * (10 + 1))\n",
    "lp_val_labels[:num_vals] = 1\n",
    "lp_val_labels[num_vals:] = 0\n",
    "print(f\"Part of val labels for link prediction: {lp_val_labels[:3]}\")\n",
    "np.save(lp_val_labels_path, lp_val_labels)\n",
    "print(f\"LP val labels are saved to {lp_val_labels_path}\\n\")\n",
    "\n",
    "lp_val_indexes_path = os.path.join(base_dir, \"lp-val-indexes.npy\")\n",
    "lp_val_indexes = np.arange(0, num_vals)\n",
    "lp_val_neg_indexes = np.repeat(lp_val_indexes, 10)\n",
    "lp_val_indexes = np.concatenate([lp_val_indexes, lp_val_neg_indexes])\n",
    "print(f\"Part of val indexes for link prediction: {lp_val_indexes[:3]}\")\n",
    "np.save(lp_val_indexes_path, lp_val_indexes)\n",
    "print(f\"LP val indexes are saved to {lp_val_indexes_path}\\n\")\n",
    "\n",
    "lp_test_seeds_path = os.path.join(base_dir, \"lp-test-seeds.npy\")\n",
    "lp_test_seeds = edges[-num_tests:, :]\n",
    "lp_test_neg_dsts = np.random.randint(0, num_nodes, (num_tests, 10)).reshape(-1)\n",
    "lp_test_neg_srcs = np.repeat(lp_test_seeds[:,0], 10)\n",
    "lp_test_neg_seeds = np.concatenate((lp_test_neg_srcs, lp_test_neg_dsts)).reshape(2,-1).T\n",
    "lp_test_seeds = np.concatenate((lp_test_seeds, lp_test_neg_seeds))\n",
    "print(f\"Part of test seeds for link prediction: {lp_test_seeds[:3]}\")\n",
    "np.save(lp_test_seeds_path, lp_test_seeds)\n",
    "print(f\"LP test seeds are saved to {lp_test_seeds_path}\\n\")\n",
    "\n",
    "lp_test_labels_path = os.path.join(base_dir, \"lp-test-labels.npy\")\n",
    "lp_test_labels = np.empty(num_tests * (10 + 1))\n",
    "lp_test_labels[:num_tests] = 1\n",
    "lp_test_labels[num_tests:] = 0\n",
    "print(f\"Part of val labels for link prediction: {lp_test_labels[:3]}\")\n",
    "np.save(lp_test_labels_path, lp_test_labels)\n",
    "print(f\"LP test labels are saved to {lp_test_labels_path}\\n\")\n",
    "\n",
    "lp_test_indexes_path = os.path.join(base_dir, \"lp-test-indexes.npy\")\n",
    "lp_test_indexes = np.arange(0, num_tests)\n",
    "lp_test_neg_indexes = np.repeat(lp_test_indexes, 10)\n",
    "lp_test_indexes = np.concatenate([lp_test_indexes, lp_test_neg_indexes])\n",
    "print(f\"Part of test indexes for link prediction: {lp_test_indexes[:3]}\")\n",
    "np.save(lp_test_indexes_path, lp_test_indexes)\n",
    "print(f\"LP test indexes are saved to {lp_test_indexes_path}\\n\")"
   ]
  },
  {
   "cell_type": "markdown",
   "metadata": {
    "id": "wbk6-wxRK-6S"
   },
   "source": [
    "## Organize Data into YAML File\n",
    "Now we need to create a `metadata.yaml` file which contains the paths, dadta types of graph structure, feature data, training/validation/test sets.\n",
    "\n",
    "Notes:\n",
    "- all path should be relative to `metadata.yaml`.\n",
    "- Below fields are optional and not specified in below example.\n",
    "  - `in_memory`: indicates whether to load dada into memory or `mmap`. Default is `True`.\n",
    "\n",
    "Please refer to [YAML specification](https://github.com/dmlc/dgl/blob/master/docs/source/stochastic_training/ondisk-dataset-specification.rst) for more details."
   ]
  },
  {
   "cell_type": "code",
   "execution_count": 7,
   "metadata": {
    "execution": {
     "iopub.execute_input": "2024-10-07T13:16:59.279098Z",
     "iopub.status.busy": "2024-10-07T13:16:59.278702Z",
     "iopub.status.idle": "2024-10-07T13:16:59.285013Z",
     "shell.execute_reply": "2024-10-07T13:16:59.284182Z"
    },
    "id": "ddGTWW61Lpwp"
   },
   "outputs": [],
   "source": [
    "yaml_content = f\"\"\"\n",
    "    dataset_name: homogeneous_graph_nc_lp\n",
    "    graph:\n",
    "      nodes:\n",
    "        - num: {num_nodes}\n",
    "      edges:\n",
    "        - format: csv\n",
    "          path: {os.path.basename(edges_path)}\n",
    "    feature_data:\n",
    "      - domain: node\n",
    "        name: feat_0\n",
    "        format: numpy\n",
    "        path: {os.path.basename(node_feat_0_path)}\n",
    "      - domain: node\n",
    "        name: feat_1\n",
    "        format: torch\n",
    "        path: {os.path.basename(node_feat_1_path)}\n",
    "      - domain: edge\n",
    "        name: feat_0\n",
    "        format: numpy\n",
    "        path: {os.path.basename(edge_feat_0_path)}\n",
    "      - domain: edge\n",
    "        name: feat_1\n",
    "        format: torch\n",
    "        path: {os.path.basename(edge_feat_1_path)}\n",
    "    tasks:\n",
    "      - name: node_classification\n",
    "        num_classes: 10\n",
    "        train_set:\n",
    "          - data:\n",
    "              - name: seeds\n",
    "                format: numpy\n",
    "                path: {os.path.basename(nc_train_ids_path)}\n",
    "              - name: labels\n",
    "                format: torch\n",
    "                path: {os.path.basename(nc_train_labels_path)}\n",
    "        validation_set:\n",
    "          - data:\n",
    "              - name: seeds\n",
    "                format: numpy\n",
    "                path: {os.path.basename(nc_val_ids_path)}\n",
    "              - name: labels\n",
    "                format: torch\n",
    "                path: {os.path.basename(nc_val_labels_path)}\n",
    "        test_set:\n",
    "          - data:\n",
    "              - name: seeds\n",
    "                format: numpy\n",
    "                path: {os.path.basename(nc_test_ids_path)}\n",
    "              - name: labels\n",
    "                format: torch\n",
    "                path: {os.path.basename(nc_test_labels_path)}\n",
    "      - name: link_prediction\n",
    "        num_classes: 10\n",
    "        train_set:\n",
    "          - data:\n",
    "              - name: seeds\n",
    "                format: numpy\n",
    "                path: {os.path.basename(lp_train_seeds_path)}\n",
    "        validation_set:\n",
    "          - data:\n",
    "              - name: seeds\n",
    "                format: numpy\n",
    "                path: {os.path.basename(lp_val_seeds_path)}\n",
    "              - name: labels\n",
    "                format: numpy\n",
    "                path: {os.path.basename(lp_val_labels_path)}\n",
    "              - name: indexes\n",
    "                format: numpy\n",
    "                path: {os.path.basename(lp_val_indexes_path)}\n",
    "        test_set:\n",
    "          - data:\n",
    "              - name: seeds\n",
    "                format: numpy\n",
    "                path: {os.path.basename(lp_test_seeds_path)}\n",
    "              - name: labels\n",
    "                format: numpy\n",
    "                path: {os.path.basename(lp_test_labels_path)}\n",
    "              - name: indexes\n",
    "                format: numpy\n",
    "                path: {os.path.basename(lp_test_indexes_path)}\n",
    "\"\"\"\n",
    "metadata_path = os.path.join(base_dir, \"metadata.yaml\")\n",
    "with open(metadata_path, \"w\") as f:\n",
    "  f.write(yaml_content)"
   ]
  },
  {
   "cell_type": "markdown",
   "metadata": {
    "id": "kEfybHGhOW7O"
   },
   "source": [
    "## Instantiate `OnDiskDataset`\n",
    "Now we're ready to load dataset via `dgl.graphbolt.OnDiskDataset`. When instantiating, we just pass in the base directory where `metadata.yaml` file lies.\n",
    "\n",
    "During first instantiation, GraphBolt preprocesses the raw data such as constructing `FusedCSCSamplingGraph` from edges. All data including graph, feature data, training/validation/test sets are put into `preprocessed` directory after preprocessing. Any following dataset loading will skip the preprocess stage.\n",
    "\n",
    "After preprocessing, `load()` is required to be called explicitly in order to load graph, feature data and tasks."
   ]
  },
  {
   "cell_type": "code",
   "execution_count": 8,
   "metadata": {
    "execution": {
     "iopub.execute_input": "2024-10-07T13:16:59.287694Z",
     "iopub.status.busy": "2024-10-07T13:16:59.287084Z",
     "iopub.status.idle": "2024-10-07T13:16:59.359824Z",
     "shell.execute_reply": "2024-10-07T13:16:59.359114Z"
    },
    "id": "W58CZoSzOiyo"
   },
   "outputs": [
    {
     "name": "stdout",
     "output_type": "stream",
     "text": [
      "Start to preprocess the on-disk dataset.\n",
      "Finish preprocessing the on-disk dataset.\n",
      "Loaded graph: FusedCSCSamplingGraph(csc_indptr=tensor([    0,     7,    21,  ...,  9984,  9995, 10000], dtype=torch.int32),\n",
      "                      indices=tensor([603, 681, 385,  ..., 279, 419, 520], dtype=torch.int32),\n",
      "                      total_num_nodes=1000, num_edges=10000,)\n",
      "\n",
      "Loaded feature store: TorchBasedFeatureStore(\n",
      "    {(<OnDiskFeatureDataDomain.NODE: 'node'>, None, 'feat_0'): TorchBasedFeature(\n",
      "        feature=tensor([[0.5742, 0.5567, 0.8590, 0.3485, 0.9231],\n",
      "                        [0.2640, 0.5325, 0.0461, 0.8690, 0.6105],\n",
      "                        [0.0394, 0.2817, 0.8899, 0.5452, 0.3923],\n",
      "                        ...,\n",
      "                        [0.8770, 0.0930, 0.1466, 0.0899, 0.7392],\n",
      "                        [0.1839, 0.8567, 0.0694, 0.9195, 0.0720],\n",
      "                        [0.6579, 0.8574, 0.0639, 0.8664, 0.3880]], dtype=torch.float64),\n",
      "        metadata={},\n",
      "    ), (<OnDiskFeatureDataDomain.NODE: 'node'>, None, 'feat_1'): TorchBasedFeature(\n",
      "        feature=tensor([[0.3638, 0.3065, 0.5130, 0.5896, 0.5705],\n",
      "                        [0.1562, 0.7970, 0.2486, 0.6100, 0.8619],\n",
      "                        [0.8953, 0.7054, 0.3432, 0.0880, 0.3698],\n",
      "                        ...,\n",
      "                        [0.4874, 0.0560, 0.3554, 0.4779, 0.8261],\n",
      "                        [0.2495, 0.5844, 0.3820, 0.7484, 0.0046],\n",
      "                        [0.5902, 0.5942, 0.0015, 0.3517, 0.0531]]),\n",
      "        metadata={},\n",
      "    ), (<OnDiskFeatureDataDomain.EDGE: 'edge'>, None, 'feat_0'): TorchBasedFeature(\n",
      "        feature=tensor([[0.1922, 0.6638, 0.4450, 0.6009, 0.1170],\n",
      "                        [0.4533, 0.5911, 0.9068, 0.2598, 0.0349],\n",
      "                        [0.1702, 0.8567, 0.1431, 0.3180, 0.8084],\n",
      "                        ...,\n",
      "                        [0.0532, 0.2647, 0.5328, 0.1267, 0.7227],\n",
      "                        [0.9158, 0.3337, 0.3212, 0.0551, 0.3175],\n",
      "                        [0.7010, 0.8704, 0.7503, 0.9454, 0.4882]], dtype=torch.float64),\n",
      "        metadata={},\n",
      "    ), (<OnDiskFeatureDataDomain.EDGE: 'edge'>, None, 'feat_1'): TorchBasedFeature(\n",
      "        feature=tensor([[0.1932, 0.0988, 0.5476, 0.0566, 0.7650],\n",
      "                        [0.5389, 0.2313, 0.7613, 0.7594, 0.6491],\n",
      "                        [0.6619, 0.4057, 0.0596, 0.7086, 0.4814],\n",
      "                        ...,\n",
      "                        [0.4757, 0.6457, 0.1849, 0.1108, 0.6671],\n",
      "                        [0.1359, 0.1928, 0.0795, 0.0550, 0.8219],\n",
      "                        [0.8535, 0.9222, 0.2913, 0.5313, 0.8546]]),\n",
      "        metadata={},\n",
      "    )}\n",
      ")\n",
      "\n",
      "Loaded node classification task: OnDiskTask(validation_set=ItemSet(\n",
      "               items=(tensor([815, 577, 239, 498, 950, 754, 121, 719,  59, 460, 997, 539, 297, 588,\n",
      "                   341, 463, 743, 484, 376, 935, 784, 692, 668, 168, 494, 817, 526, 151,\n",
      "                   293, 295, 143, 299, 176, 579, 915,  67, 797, 393, 207,  46, 256, 308,\n",
      "                   590, 967, 528,  50, 605, 695,  38, 877, 542, 709, 120,  75, 903,  16,\n",
      "                   147, 357, 232, 265, 499, 516, 823,  45, 942, 751, 111, 417, 884, 348,\n",
      "                   675, 944,  94, 656, 730,  21, 772, 403, 345, 681, 954, 828, 696, 264,\n",
      "                   307, 557, 543, 861,  92, 135, 169, 132, 283, 698, 419, 186,  68, 855,\n",
      "                   170, 650, 250, 209, 436, 179, 975, 685, 371, 745, 133, 900, 905, 104,\n",
      "                   669, 753,  61, 809, 434, 411,  44, 934, 223, 966, 836, 202, 562,  28,\n",
      "                   189, 512, 676,  40, 475, 479, 109, 826, 282, 369, 399, 573, 204, 779,\n",
      "                     8, 601, 246,  32, 803, 260, 453, 612, 904, 302, 428, 127, 458, 488,\n",
      "                   197, 117, 269, 825, 431, 162, 977, 838, 930, 141, 550, 153, 718, 126,\n",
      "                   520, 320, 632, 770,  88, 327,  69, 313, 596, 818, 927, 697, 888,  52,\n",
      "                   679, 565, 148, 444, 206, 374, 400, 319, 386, 366, 958, 171,  47, 844,\n",
      "                    76, 289, 329, 920], dtype=torch.int32), tensor([7, 1, 9, 8, 2, 7, 5, 8, 4, 0, 1, 7, 4, 3, 9, 7, 6, 9, 2, 9, 7, 9, 3, 9,\n",
      "                   2, 0, 3, 1, 1, 4, 7, 9, 2, 8, 3, 8, 7, 3, 0, 1, 9, 5, 2, 0, 4, 0, 6, 3,\n",
      "                   6, 2, 6, 3, 4, 7, 7, 4, 7, 2, 6, 8, 9, 6, 8, 5, 4, 5, 4, 9, 7, 0, 8, 6,\n",
      "                   7, 8, 6, 3, 9, 6, 0, 6, 5, 6, 7, 8, 7, 6, 6, 0, 9, 5, 0, 9, 0, 7, 9, 2,\n",
      "                   4, 5, 3, 3, 9, 5, 6, 1, 5, 3, 4, 5, 4, 5, 1, 8, 1, 4, 8, 0, 2, 3, 9, 5,\n",
      "                   7, 9, 6, 8, 3, 5, 4, 5, 5, 2, 8, 5, 1, 6, 8, 5, 9, 3, 5, 2, 6, 0, 5, 7,\n",
      "                   7, 0, 3, 3, 8, 4, 5, 0, 9, 5, 2, 3, 3, 6, 0, 1, 5, 5, 6, 3, 5, 4, 2, 4,\n",
      "                   0, 5, 9, 6, 6, 0, 6, 2, 5, 1, 2, 2, 9, 2, 7, 4, 9, 9, 1, 4, 7, 7, 1, 1,\n",
      "                   5, 1, 2, 6, 5, 4, 0, 0])),\n",
      "               names=('seeds', 'labels'),\n",
      "           ),\n",
      "           train_set=ItemSet(\n",
      "               items=(tensor([840, 747, 409, 405, 728, 607, 421, 762, 145, 833, 268, 378, 254, 610,\n",
      "                   701, 406, 586, 726, 317,  60, 691, 716, 172, 181, 205, 468, 119, 240,\n",
      "                   889, 210, 465, 746, 164, 758, 736, 195, 503, 749, 316, 729, 138, 686,\n",
      "                   370, 290,  58,  95, 589, 198,  36, 867, 667, 811, 192, 167, 527, 756,\n",
      "                   335,  42, 108, 280, 717, 835, 424, 560, 398, 199, 266, 858, 594, 959,\n",
      "                   336, 215, 496, 604, 780, 978, 794, 989, 994, 613,  72, 373, 628, 493,\n",
      "                   738, 416, 334, 899, 909, 262, 385, 106, 655, 782, 515, 974, 377, 491,\n",
      "                   353, 875, 842, 727,  33, 886,  78, 244, 677, 891, 510, 711, 699, 474,\n",
      "                   773, 306, 360, 490, 693, 130, 852,  30, 229, 575, 161,   7, 829, 107,\n",
      "                   569, 439, 558, 534, 492,  71, 984, 222, 572, 413, 325, 362, 832,  81,\n",
      "                   478, 247,  63, 965, 993, 916,  86, 808, 792, 208, 813, 113,   2,  14,\n",
      "                   489, 987, 423, 255, 182, 410, 724, 723, 235, 216, 549, 522,   5, 467,\n",
      "                   296, 462, 337, 396, 806, 485,  74, 291,   4, 574, 897, 732, 581, 887,\n",
      "                   323,  62, 956, 931, 288, 824, 414, 352, 849, 733, 694,  15, 253, 725,\n",
      "                   505, 636, 657, 273, 384,  65, 623, 225, 556, 155, 340, 241, 521, 303,\n",
      "                   544, 115, 514, 793,  41, 173, 665, 618, 799, 472, 953, 941, 908, 597,\n",
      "                   666, 529, 789, 750, 456, 827, 626,  93, 365, 639, 298, 660, 154,  56,\n",
      "                   810,  34, 713, 483, 508, 518,   6, 781, 914, 595, 160, 646, 389, 801,\n",
      "                   270, 129, 734,  57, 300, 805, 322, 149,  89, 857, 201, 969, 545, 541,\n",
      "                   795, 682, 123,  35, 193, 939, 391, 552, 821, 664, 620,  90, 459, 863,\n",
      "                   226, 739,  19, 952, 285, 309, 847, 392, 771, 658, 898,  87, 425, 616,\n",
      "                   548, 375, 252, 131, 218, 991, 555, 873, 998, 191, 871, 932, 700, 890,\n",
      "                    97, 156, 324, 851, 432,   1, 112, 382,  12, 175, 118, 943, 401, 347,\n",
      "                   957,   0, 983, 166, 622, 802, 533,  84,  66, 477, 368, 922, 865, 924,\n",
      "                   917, 102, 331, 551, 501, 359, 524, 737, 184, 948, 576, 611, 122, 312,\n",
      "                     3, 513, 402, 649,  99, 351, 936, 559,  83, 763,  43, 791, 947, 495,\n",
      "                   271, 804, 561, 267, 982, 245, 242, 263, 796, 720, 530, 124, 294, 630,\n",
      "                   355, 663, 878, 196, 582, 933, 752, 894, 744, 911, 318, 363, 845, 906,\n",
      "                   248, 442, 662, 688, 580, 641, 338, 881, 361, 213, 819, 862, 228, 449,\n",
      "                   798, 995, 800, 921,  79, 643, 629, 227, 537, 506, 910, 257, 330,  20,\n",
      "                   435, 200, 617, 142, 343, 834, 955, 418, 963, 839, 651, 722, 653, 497,\n",
      "                   621,   9,  25, 710, 759, 876, 673, 902, 637, 407, 708, 137, 277, 843,\n",
      "                   292,  17,  96, 535, 219, 996, 221, 301, 236, 397, 638, 217, 187, 310,\n",
      "                   570, 150, 110, 587, 919, 473, 420, 554, 546, 231, 568, 278, 415, 158,\n",
      "                   837, 625, 383, 517, 661, 647, 134, 502, 593, 964, 608, 500, 606, 281,\n",
      "                   775, 938, 114, 274, 305, 584, 870, 907, 642,  82, 687, 712, 395, 764,\n",
      "                   790, 344, 447, 702, 846, 990, 333, 152,  49, 128, 159, 757, 812, 913,\n",
      "                   100, 614, 185, 519, 136, 364, 190, 188, 509, 438, 704, 139,  51, 721,\n",
      "                   321, 874, 918, 346, 703, 461, 714,  80,  24, 243, 742, 157, 116,  18,\n",
      "                   507, 786, 342, 627, 896, 174, 937, 619, 654, 820, 272, 578, 778, 864,\n",
      "                   469, 761, 356,  48, 689, 457, 553, 707,  53,  37, 892, 683, 603, 326,\n",
      "                   328, 981, 768, 224, 531, 986, 949, 854, 427, 841, 251, 332, 315, 103,\n",
      "                   379, 883, 536, 443, 101, 390, 901, 640, 674, 563, 885, 408],\n",
      "                  dtype=torch.int32), tensor([4, 0, 9, 1, 4, 8, 4, 5, 6, 2, 5, 5, 7, 1, 1, 2, 9, 4, 5, 3, 1, 0, 6, 0,\n",
      "                   9, 7, 3, 4, 4, 4, 7, 5, 0, 0, 6, 5, 6, 5, 0, 9, 2, 1, 3, 3, 4, 5, 7, 9,\n",
      "                   8, 3, 5, 7, 2, 7, 2, 7, 7, 1, 1, 5, 5, 0, 6, 9, 0, 0, 4, 2, 9, 0, 7, 5,\n",
      "                   3, 0, 6, 2, 5, 9, 2, 4, 9, 7, 5, 9, 6, 8, 8, 5, 6, 8, 7, 8, 4, 2, 4, 2,\n",
      "                   2, 6, 9, 7, 7, 9, 8, 9, 5, 5, 9, 8, 5, 4, 9, 0, 3, 4, 1, 6, 5, 6, 9, 2,\n",
      "                   4, 4, 9, 1, 3, 1, 2, 4, 7, 0, 3, 3, 1, 0, 5, 7, 3, 1, 5, 7, 0, 0, 8, 9,\n",
      "                   9, 8, 1, 7, 3, 1, 4, 4, 1, 1, 2, 5, 1, 1, 7, 7, 2, 9, 4, 9, 7, 9, 3, 8,\n",
      "                   0, 8, 1, 6, 3, 0, 2, 3, 4, 4, 4, 9, 7, 7, 2, 3, 1, 6, 2, 8, 6, 3, 3, 1,\n",
      "                   3, 1, 4, 3, 7, 5, 1, 2, 1, 2, 5, 5, 9, 0, 3, 1, 2, 2, 1, 9, 6, 0, 1, 5,\n",
      "                   5, 9, 0, 3, 1, 5, 9, 8, 1, 9, 5, 9, 7, 2, 7, 4, 7, 4, 2, 2, 5, 4, 5, 5,\n",
      "                   2, 5, 8, 1, 4, 3, 3, 5, 7, 1, 5, 2, 8, 0, 3, 4, 6, 3, 0, 2, 0, 6, 2, 2,\n",
      "                   5, 0, 9, 1, 8, 4, 7, 4, 1, 7, 8, 7, 9, 0, 6, 8, 0, 5, 5, 1, 2, 5, 3, 6,\n",
      "                   5, 6, 8, 9, 2, 1, 6, 6, 7, 0, 5, 5, 9, 0, 3, 0, 3, 4, 7, 7, 7, 2, 3, 8,\n",
      "                   6, 3, 9, 6, 1, 7, 4, 2, 6, 6, 4, 1, 6, 4, 2, 8, 4, 9, 8, 1, 5, 1, 9, 8,\n",
      "                   9, 9, 3, 2, 9, 4, 6, 5, 9, 5, 7, 0, 1, 8, 1, 4, 9, 5, 7, 4, 2, 5, 6, 1,\n",
      "                   0, 9, 6, 2, 9, 2, 0, 0, 6, 9, 8, 3, 4, 3, 5, 1, 4, 3, 3, 4, 5, 0, 4, 7,\n",
      "                   5, 8, 7, 3, 2, 6, 8, 0, 9, 8, 4, 0, 9, 5, 2, 5, 2, 2, 2, 8, 1, 5, 0, 7,\n",
      "                   3, 6, 5, 7, 4, 2, 3, 0, 7, 8, 2, 2, 9, 9, 2, 7, 9, 7, 4, 6, 9, 9, 3, 9,\n",
      "                   6, 3, 3, 9, 5, 5, 7, 6, 7, 4, 0, 0, 7, 1, 8, 9, 3, 1, 6, 8, 7, 3, 2, 1,\n",
      "                   8, 4, 6, 0, 2, 6, 0, 3, 8, 9, 4, 3, 4, 7, 1, 6, 2, 0, 3, 7, 9, 4, 4, 0,\n",
      "                   8, 0, 2, 5, 4, 3, 8, 3, 7, 8, 7, 5, 1, 3, 5, 9, 2, 7, 8, 5, 3, 5, 9, 4,\n",
      "                   3, 7, 7, 3, 5, 4, 3, 1, 6, 2, 2, 9, 8, 3, 3, 0, 3, 6, 3, 3, 6, 2, 6, 4,\n",
      "                   1, 2, 8, 8, 6, 9, 5, 4, 2, 7, 3, 1, 6, 1, 0, 8, 2, 5, 5, 3, 7, 0, 9, 2,\n",
      "                   8, 6, 1, 6, 9, 5, 7, 8, 3, 3, 7, 9, 4, 3, 4, 1, 6, 7, 0, 6, 8, 2, 9, 5,\n",
      "                   4, 6, 8, 7, 9, 6, 0, 8, 4, 7, 1, 1, 0, 3, 2, 1, 9, 0, 4, 9, 5, 0, 1, 9])),\n",
      "               names=('seeds', 'labels'),\n",
      "           ),\n",
      "           test_set=ItemSet(\n",
      "               items=(tensor([988,  55, 961, 125, 452, 194, 349, 859, 962, 741,  26, 426, 372, 879,\n",
      "                   945, 183, 412, 471, 140, 968, 814, 523, 404, 571, 455, 275, 258, 441,\n",
      "                   504, 276, 609, 165, 234, 381,  77, 380, 929, 880, 564, 868, 450, 633,\n",
      "                   928, 631, 163, 946, 777, 284, 286, 755, 850, 634, 788, 602, 480, 440,\n",
      "                   925, 177, 146,  11, 659, 358, 585, 304, 765, 645, 532, 482, 678, 437,\n",
      "                   972, 853, 525, 547, 433, 895,  39, 454, 476, 671, 822, 940, 872,  10,\n",
      "                   486, 787, 220,  98, 624, 992, 538, 706, 785, 387, 466,  27, 816, 774,\n",
      "                    22, 644, 511, 211,  23, 212, 339, 831, 882, 735, 448, 680, 287, 599,\n",
      "                   429, 311, 238, 980, 951, 451, 970, 648, 731, 807, 487, 893, 860, 422,\n",
      "                   261, 430,  73,  64, 715, 279, 926, 866, 583, 566, 540, 869, 684, 760,\n",
      "                   314, 705, 178, 394, 856, 233, 367, 567,  91, 144, 259, 769, 230,  54,\n",
      "                   971, 470, 999, 740, 388, 766, 976, 985, 635, 591, 354, 105,  70,  13,\n",
      "                   214, 464, 830,  29, 672,  85, 979, 237, 776, 848, 600, 350, 615, 249,\n",
      "                   960, 445, 912, 592, 767, 203, 446, 670, 180,  31, 481, 690, 748, 923,\n",
      "                   973, 652, 783, 598], dtype=torch.int32), tensor([7, 7, 5, 4, 5, 5, 5, 7, 8, 0, 6, 9, 8, 2, 9, 9, 9, 7, 5, 5, 5, 1, 8, 7,\n",
      "                   9, 1, 5, 4, 9, 2, 0, 8, 2, 4, 6, 6, 1, 9, 4, 0, 4, 6, 6, 8, 5, 7, 5, 4,\n",
      "                   8, 7, 1, 2, 3, 1, 2, 1, 8, 4, 1, 4, 3, 5, 9, 2, 6, 2, 9, 0, 6, 2, 1, 0,\n",
      "                   4, 9, 1, 4, 5, 3, 9, 4, 0, 7, 8, 2, 6, 3, 5, 4, 0, 4, 4, 0, 4, 2, 8, 7,\n",
      "                   4, 6, 6, 4, 1, 7, 0, 0, 1, 7, 4, 1, 7, 1, 9, 6, 0, 0, 1, 4, 8, 7, 1, 8,\n",
      "                   3, 6, 4, 6, 6, 4, 4, 7, 1, 5, 2, 7, 1, 8, 8, 9, 8, 1, 4, 1, 3, 0, 6, 9,\n",
      "                   0, 9, 9, 4, 1, 5, 9, 2, 0, 5, 9, 3, 6, 1, 5, 0, 2, 4, 4, 3, 0, 2, 3, 2,\n",
      "                   9, 0, 4, 0, 3, 2, 3, 4, 6, 7, 2, 7, 5, 1, 6, 6, 8, 2, 0, 7, 3, 7, 7, 7,\n",
      "                   4, 3, 3, 5, 1, 8, 6, 8])),\n",
      "               names=('seeds', 'labels'),\n",
      "           ),\n",
      "           metadata={'name': 'node_classification', 'num_classes': 10},)\n",
      "\n",
      "Loaded link prediction task: OnDiskTask(validation_set=ItemSet(\n",
      "               items=(tensor([[199, 513],\n",
      "                   [389, 138],\n",
      "                   [422, 730],\n",
      "                   ...,\n",
      "                   [835, 571],\n",
      "                   [835, 886],\n",
      "                   [835, 855]], dtype=torch.int32), tensor([1., 1., 1.,  ..., 0., 0., 0.], dtype=torch.float64), tensor([   0,    1,    2,  ..., 1999, 1999, 1999])),\n",
      "               names=('seeds', 'labels', 'indexes'),\n",
      "           ),\n",
      "           train_set=ItemSet(\n",
      "               items=(tensor([[560, 480],\n",
      "                   [609, 116],\n",
      "                   [161,  85],\n",
      "                   ...,\n",
      "                   [456, 728],\n",
      "                   [762, 260],\n",
      "                   [429, 780]], dtype=torch.int32),),\n",
      "               names=('seeds',),\n",
      "           ),\n",
      "           test_set=ItemSet(\n",
      "               items=(tensor([[ 33, 764],\n",
      "                   [512, 316],\n",
      "                   [970,  56],\n",
      "                   ...,\n",
      "                   [  5, 437],\n",
      "                   [  5, 622],\n",
      "                   [  5, 321]], dtype=torch.int32), tensor([1., 1., 1.,  ..., 0., 0., 0.], dtype=torch.float64), tensor([   0,    1,    2,  ..., 1999, 1999, 1999])),\n",
      "               names=('seeds', 'labels', 'indexes'),\n",
      "           ),\n",
      "           metadata={'name': 'link_prediction', 'num_classes': 10},)\n",
      "\n"
     ]
    },
    {
     "name": "stderr",
     "output_type": "stream",
     "text": [
      "/dgl/python/dgl/graphbolt/impl/ondisk_dataset.py:463: GBWarning: Edge feature is stored, but edge IDs are not saved.\n",
      "  gb_warning(\"Edge feature is stored, but edge IDs are not saved.\")\n"
     ]
    }
   ],
   "source": [
    "dataset = gb.OnDiskDataset(base_dir).load()\n",
    "graph = dataset.graph\n",
    "print(f\"Loaded graph: {graph}\\n\")\n",
    "\n",
    "feature = dataset.feature\n",
    "print(f\"Loaded feature store: {feature}\\n\")\n",
    "\n",
    "tasks = dataset.tasks\n",
    "nc_task = tasks[0]\n",
    "print(f\"Loaded node classification task: {nc_task}\\n\")\n",
    "lp_task = tasks[1]\n",
    "print(f\"Loaded link prediction task: {lp_task}\\n\")"
   ]
  }
 ],
 "metadata": {
  "colab": {
   "private_outputs": true,
   "provenance": []
  },
  "kernelspec": {
   "display_name": "Python 3",
   "name": "python3"
  },
  "language_info": {
   "codemirror_mode": {
    "name": "ipython",
    "version": 3
   },
   "file_extension": ".py",
   "mimetype": "text/x-python",
   "name": "python",
   "nbconvert_exporter": "python",
   "pygments_lexer": "ipython3",
   "version": "3.10.15"
  }
 },
 "nbformat": 4,
 "nbformat_minor": 0
}

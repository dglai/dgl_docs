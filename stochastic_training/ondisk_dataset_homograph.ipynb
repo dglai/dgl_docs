{
 "cells": [
  {
   "cell_type": "markdown",
   "metadata": {
    "id": "FnFhPMaAfLtJ"
   },
   "source": [
    "# OnDiskDataset for Homogeneous Graph\n",
    "\n",
    "[![Open In Colab](https://colab.research.google.com/assets/colab-badge.svg)](https://colab.research.google.com/github/dmlc/dgl/blob/master/notebooks/stochastic_training/ondisk_dataset_homograph.ipynb) [![GitHub](https://img.shields.io/badge/-View%20on%20GitHub-181717?logo=github&logoColor=ffffff)](https://github.com/dmlc/dgl/blob/master/notebooks/stochastic_training/ondisk_dataset_homograph.ipynb)\n",
    "\n",
    "This tutorial shows how to create `OnDiskDataset` for homogeneous graph that could be used in **GraphBolt** framework.\n",
    "\n",
    "By the end of this tutorial, you will be able to\n",
    "\n",
    "- organize graph structure data.\n",
    "- organize feature data.\n",
    "- organize training/validation/test set for specific tasks.\n",
    "\n",
    "To create an ``OnDiskDataset`` object, you need to organize all the data including graph structure, feature data and tasks into a directory. The directory should contain a ``metadata.yaml`` file that describes the metadata of the dataset.\n",
    "\n",
    "Now let's generate various data step by step and organize them together to instantiate `OnDiskDataset` finally."
   ]
  },
  {
   "cell_type": "markdown",
   "metadata": {
    "id": "Wlb19DtWgtzq"
   },
   "source": [
    "## Install DGL package"
   ]
  },
  {
   "cell_type": "code",
   "execution_count": 1,
   "metadata": {
    "execution": {
     "iopub.execute_input": "2024-10-23T13:17:31.340465Z",
     "iopub.status.busy": "2024-10-23T13:17:31.340048Z",
     "iopub.status.idle": "2024-10-23T13:17:34.376476Z",
     "shell.execute_reply": "2024-10-23T13:17:34.375302Z"
    },
    "id": "UojlT9ZGgyr9"
   },
   "outputs": [
    {
     "name": "stdout",
     "output_type": "stream",
     "text": [
      "Looking in links: https://data.dgl.ai/wheels-test/repo.html\r\n",
      "Requirement already satisfied: dgl in /opt/conda/envs/dgl-dev-cpu/lib/python3.10/site-packages (2.2a240410)\r\n",
      "Requirement already satisfied: numpy>=1.14.0 in /opt/conda/envs/dgl-dev-cpu/lib/python3.10/site-packages (from dgl) (1.26.4)\r\n",
      "Requirement already satisfied: scipy>=1.1.0 in /opt/conda/envs/dgl-dev-cpu/lib/python3.10/site-packages (from dgl) (1.14.1)\r\n",
      "Requirement already satisfied: networkx>=2.1 in /opt/conda/envs/dgl-dev-cpu/lib/python3.10/site-packages (from dgl) (3.4.2)\r\n",
      "Requirement already satisfied: requests>=2.19.0 in /opt/conda/envs/dgl-dev-cpu/lib/python3.10/site-packages (from dgl) (2.32.3)\r\n",
      "Requirement already satisfied: tqdm in /opt/conda/envs/dgl-dev-cpu/lib/python3.10/site-packages (from dgl) (4.66.5)\r\n",
      "Requirement already satisfied: psutil>=5.8.0 in /opt/conda/envs/dgl-dev-cpu/lib/python3.10/site-packages (from dgl) (6.1.0)\r\n",
      "Requirement already satisfied: torchdata>=0.5.0 in /opt/conda/envs/dgl-dev-cpu/lib/python3.10/site-packages (from dgl) (0.9.0)\r\n",
      "Requirement already satisfied: pandas in /opt/conda/envs/dgl-dev-cpu/lib/python3.10/site-packages (from dgl) (2.2.3)\r\n"
     ]
    },
    {
     "name": "stdout",
     "output_type": "stream",
     "text": [
      "Requirement already satisfied: charset-normalizer<4,>=2 in /opt/conda/envs/dgl-dev-cpu/lib/python3.10/site-packages (from requests>=2.19.0->dgl) (3.4.0)\r\n",
      "Requirement already satisfied: idna<4,>=2.5 in /opt/conda/envs/dgl-dev-cpu/lib/python3.10/site-packages (from requests>=2.19.0->dgl) (3.10)\r\n",
      "Requirement already satisfied: urllib3<3,>=1.21.1 in /opt/conda/envs/dgl-dev-cpu/lib/python3.10/site-packages (from requests>=2.19.0->dgl) (2.2.3)\r\n",
      "Requirement already satisfied: certifi>=2017.4.17 in /opt/conda/envs/dgl-dev-cpu/lib/python3.10/site-packages (from requests>=2.19.0->dgl) (2024.8.30)\r\n",
      "Requirement already satisfied: torch>=2 in /opt/conda/envs/dgl-dev-cpu/lib/python3.10/site-packages (from torchdata>=0.5.0->dgl) (2.1.0+cpu)\r\n"
     ]
    },
    {
     "name": "stdout",
     "output_type": "stream",
     "text": [
      "Requirement already satisfied: python-dateutil>=2.8.2 in /opt/conda/envs/dgl-dev-cpu/lib/python3.10/site-packages (from pandas->dgl) (2.9.0.post0)\r\n",
      "Requirement already satisfied: pytz>=2020.1 in /opt/conda/envs/dgl-dev-cpu/lib/python3.10/site-packages (from pandas->dgl) (2024.2)\r\n",
      "Requirement already satisfied: tzdata>=2022.7 in /opt/conda/envs/dgl-dev-cpu/lib/python3.10/site-packages (from pandas->dgl) (2024.2)\r\n",
      "Requirement already satisfied: six>=1.5 in /opt/conda/envs/dgl-dev-cpu/lib/python3.10/site-packages (from python-dateutil>=2.8.2->pandas->dgl) (1.16.0)\r\n",
      "Requirement already satisfied: filelock in /opt/conda/envs/dgl-dev-cpu/lib/python3.10/site-packages (from torch>=2->torchdata>=0.5.0->dgl) (3.16.1)\r\n",
      "Requirement already satisfied: typing-extensions in /opt/conda/envs/dgl-dev-cpu/lib/python3.10/site-packages (from torch>=2->torchdata>=0.5.0->dgl) (4.12.2)\r\n",
      "Requirement already satisfied: sympy in /opt/conda/envs/dgl-dev-cpu/lib/python3.10/site-packages (from torch>=2->torchdata>=0.5.0->dgl) (1.13.3)\r\n",
      "Requirement already satisfied: jinja2 in /opt/conda/envs/dgl-dev-cpu/lib/python3.10/site-packages (from torch>=2->torchdata>=0.5.0->dgl) (3.1.4)\r\n",
      "Requirement already satisfied: fsspec in /opt/conda/envs/dgl-dev-cpu/lib/python3.10/site-packages (from torch>=2->torchdata>=0.5.0->dgl) (2024.10.0)\r\n"
     ]
    },
    {
     "name": "stdout",
     "output_type": "stream",
     "text": [
      "Requirement already satisfied: MarkupSafe>=2.0 in /opt/conda/envs/dgl-dev-cpu/lib/python3.10/site-packages (from jinja2->torch>=2->torchdata>=0.5.0->dgl) (3.0.2)\r\n",
      "Requirement already satisfied: mpmath<1.4,>=1.1.0 in /opt/conda/envs/dgl-dev-cpu/lib/python3.10/site-packages (from sympy->torch>=2->torchdata>=0.5.0->dgl) (1.3.0)\r\n"
     ]
    },
    {
     "name": "stdout",
     "output_type": "stream",
     "text": [
      "\u001b[33mWARNING: Running pip as the 'root' user can result in broken permissions and conflicting behaviour with the system package manager, possibly rendering your system unusable.It is recommended to use a virtual environment instead: https://pip.pypa.io/warnings/venv. Use the --root-user-action option if you know what you are doing and want to suppress this warning.\u001b[0m\u001b[33m\r\n",
      "\u001b[0m"
     ]
    },
    {
     "name": "stdout",
     "output_type": "stream",
     "text": [
      "DGL installed!\n"
     ]
    }
   ],
   "source": [
    "# Install required packages.\n",
    "import os\n",
    "import torch\n",
    "import numpy as np\n",
    "os.environ['TORCH'] = torch.__version__\n",
    "os.environ['DGLBACKEND'] = \"pytorch\"\n",
    "\n",
    "# Install the CPU version.\n",
    "device = torch.device(\"cpu\")\n",
    "!pip install --pre dgl -f https://data.dgl.ai/wheels-test/repo.html\n",
    "\n",
    "try:\n",
    "    import dgl\n",
    "    import dgl.graphbolt as gb\n",
    "    installed = True\n",
    "except ImportError as error:\n",
    "    installed = False\n",
    "    print(error)\n",
    "print(\"DGL installed!\" if installed else \"DGL not found!\")"
   ]
  },
  {
   "cell_type": "markdown",
   "metadata": {
    "id": "2R7WnSbjsfbr"
   },
   "source": [
    "## Data preparation\n",
    "In order to demonstrate how to organize various data, let's create a base directory first."
   ]
  },
  {
   "cell_type": "code",
   "execution_count": 2,
   "metadata": {
    "execution": {
     "iopub.execute_input": "2024-10-23T13:17:34.379377Z",
     "iopub.status.busy": "2024-10-23T13:17:34.378506Z",
     "iopub.status.idle": "2024-10-23T13:17:34.384680Z",
     "shell.execute_reply": "2024-10-23T13:17:34.383574Z"
    },
    "id": "SZipbzyltLfO"
   },
   "outputs": [
    {
     "name": "stdout",
     "output_type": "stream",
     "text": [
      "Created base directory: ./ondisk_dataset_homograph\n"
     ]
    }
   ],
   "source": [
    "base_dir = './ondisk_dataset_homograph'\n",
    "os.makedirs(base_dir, exist_ok=True)\n",
    "print(f\"Created base directory: {base_dir}\")"
   ]
  },
  {
   "cell_type": "markdown",
   "metadata": {
    "id": "qhNtIn_xhlnl"
   },
   "source": [
    "### Generate graph structure data\n",
    "For homogeneous graph, we just need to save edges(namely seeds) into  **Numpy** or **CSV** file.\n",
    "\n",
    "Note:\n",
    "- when saving to **Numpy**, the array requires to be in shape of `(2, N)`. This format is recommended as constructing graph from it is much faster than **CSV** file.\n",
    "- when saving to **CSV** file, do not save index and header.\n"
   ]
  },
  {
   "cell_type": "code",
   "execution_count": 3,
   "metadata": {
    "execution": {
     "iopub.execute_input": "2024-10-23T13:17:34.387740Z",
     "iopub.status.busy": "2024-10-23T13:17:34.386980Z",
     "iopub.status.idle": "2024-10-23T13:17:34.402139Z",
     "shell.execute_reply": "2024-10-23T13:17:34.401217Z"
    },
    "id": "HcBt4G5BmSjr"
   },
   "outputs": [
    {
     "name": "stdout",
     "output_type": "stream",
     "text": [
      "Part of edges: [[350 944]\n",
      " [197 293]\n",
      " [ 47  93]\n",
      " [585 788]\n",
      " [207 967]]\n",
      "Edges are saved into ./ondisk_dataset_homograph/edges.csv\n"
     ]
    }
   ],
   "source": [
    "import numpy as np\n",
    "import pandas as pd\n",
    "num_nodes = 1000\n",
    "num_edges = 10 * num_nodes\n",
    "edges_path = os.path.join(base_dir, \"edges.csv\")\n",
    "edges = np.random.randint(0, num_nodes, size=(num_edges, 2))\n",
    "\n",
    "print(f\"Part of edges: {edges[:5, :]}\")\n",
    "\n",
    "df = pd.DataFrame(edges)\n",
    "df.to_csv(edges_path, index=False, header=False)\n",
    "\n",
    "print(f\"Edges are saved into {edges_path}\")"
   ]
  },
  {
   "cell_type": "markdown",
   "metadata": {
    "id": "kh-4cPtzpcaH"
   },
   "source": [
    "### Generate feature data for graph\n",
    "For feature data, numpy arrays and torch tensors are supported for now."
   ]
  },
  {
   "cell_type": "code",
   "execution_count": 4,
   "metadata": {
    "execution": {
     "iopub.execute_input": "2024-10-23T13:17:34.408544Z",
     "iopub.status.busy": "2024-10-23T13:17:34.408012Z",
     "iopub.status.idle": "2024-10-23T13:17:34.423650Z",
     "shell.execute_reply": "2024-10-23T13:17:34.422535Z"
    },
    "id": "_PVu1u5brBhF"
   },
   "outputs": [
    {
     "name": "stdout",
     "output_type": "stream",
     "text": [
      "Part of node feature [feat_0]: [[0.5472023  0.64038806 0.03029592 0.1402501  0.89910375]\n",
      " [0.94356735 0.25119385 0.28550289 0.69162186 0.65933077]\n",
      " [0.42124246 0.06213086 0.40935917 0.94716852 0.33881942]]\n",
      "Node feature [feat_0] is saved to ./ondisk_dataset_homograph/node-feat-0.npy\n",
      "\n",
      "Part of node feature [feat_1]: tensor([[0.7740, 0.0600, 0.9522, 0.4105, 0.4561],\n",
      "        [0.2536, 0.0016, 0.4922, 0.9074, 0.5878],\n",
      "        [0.7609, 0.0763, 0.1363, 0.7793, 0.4414]])\n",
      "Node feature [feat_1] is saved to ./ondisk_dataset_homograph/node-feat-1.pt\n",
      "\n",
      "Part of edge feature [feat_0]: [[0.30544521 0.18582108 0.51473289 0.70589699 0.5409077 ]\n",
      " [0.49720794 0.92495604 0.78451824 0.47329811 0.65286387]\n",
      " [0.89370938 0.57447717 0.60318181 0.41853191 0.21959492]]\n",
      "Edge feature [feat_0] is saved to ./ondisk_dataset_homograph/edge-feat-0.npy\n",
      "\n",
      "Part of edge feature [feat_1]: tensor([[0.4959, 0.8898, 0.9981, 0.2877, 0.0053],\n",
      "        [0.4201, 0.7302, 0.5806, 0.1087, 0.5243],\n",
      "        [0.6615, 0.0492, 0.1891, 0.7511, 0.8935]])\n",
      "Edge feature [feat_1] is saved to ./ondisk_dataset_homograph/edge-feat-1.pt\n",
      "\n"
     ]
    }
   ],
   "source": [
    "# Generate node feature in numpy array.\n",
    "node_feat_0_path = os.path.join(base_dir, \"node-feat-0.npy\")\n",
    "node_feat_0 = np.random.rand(num_nodes, 5)\n",
    "print(f\"Part of node feature [feat_0]: {node_feat_0[:3, :]}\")\n",
    "np.save(node_feat_0_path, node_feat_0)\n",
    "print(f\"Node feature [feat_0] is saved to {node_feat_0_path}\\n\")\n",
    "\n",
    "# Generate another node feature in torch tensor\n",
    "node_feat_1_path = os.path.join(base_dir, \"node-feat-1.pt\")\n",
    "node_feat_1 = torch.rand(num_nodes, 5)\n",
    "print(f\"Part of node feature [feat_1]: {node_feat_1[:3, :]}\")\n",
    "torch.save(node_feat_1, node_feat_1_path)\n",
    "print(f\"Node feature [feat_1] is saved to {node_feat_1_path}\\n\")\n",
    "\n",
    "# Generate edge feature in numpy array.\n",
    "edge_feat_0_path = os.path.join(base_dir, \"edge-feat-0.npy\")\n",
    "edge_feat_0 = np.random.rand(num_edges, 5)\n",
    "print(f\"Part of edge feature [feat_0]: {edge_feat_0[:3, :]}\")\n",
    "np.save(edge_feat_0_path, edge_feat_0)\n",
    "print(f\"Edge feature [feat_0] is saved to {edge_feat_0_path}\\n\")\n",
    "\n",
    "# Generate another edge feature in torch tensor\n",
    "edge_feat_1_path = os.path.join(base_dir, \"edge-feat-1.pt\")\n",
    "edge_feat_1 = torch.rand(num_edges, 5)\n",
    "print(f\"Part of edge feature [feat_1]: {edge_feat_1[:3, :]}\")\n",
    "torch.save(edge_feat_1, edge_feat_1_path)\n",
    "print(f\"Edge feature [feat_1] is saved to {edge_feat_1_path}\\n\")\n"
   ]
  },
  {
   "cell_type": "markdown",
   "metadata": {
    "id": "ZyqgOtsIwzh_"
   },
   "source": [
    "### Generate tasks\n",
    "`OnDiskDataset` supports multiple tasks. For each task, we need to prepare training/validation/test sets respectively. Such sets usually vary among different tasks. In this tutorial, let's create a **Node Classification** task and **Link Prediction** task."
   ]
  },
  {
   "cell_type": "markdown",
   "metadata": {
    "id": "hVxHaDIfzCkr"
   },
   "source": [
    "#### Node Classification Task\n",
    "For node classification task, we need **node IDs** and corresponding **labels** for each training/validation/test set. Like feature data, numpy arrays and torch tensors are supported for these sets."
   ]
  },
  {
   "cell_type": "code",
   "execution_count": 5,
   "metadata": {
    "execution": {
     "iopub.execute_input": "2024-10-23T13:17:34.426752Z",
     "iopub.status.busy": "2024-10-23T13:17:34.425867Z",
     "iopub.status.idle": "2024-10-23T13:17:34.438578Z",
     "shell.execute_reply": "2024-10-23T13:17:34.437650Z"
    },
    "id": "S5-fyBbHzTCO"
   },
   "outputs": [
    {
     "name": "stdout",
     "output_type": "stream",
     "text": [
      "Part of train ids for node classification: [174 170 742]\n",
      "NC train ids are saved to ./ondisk_dataset_homograph/nc-train-ids.npy\n",
      "\n",
      "Part of train labels for node classification: tensor([1, 2, 6])\n",
      "NC train labels are saved to ./ondisk_dataset_homograph/nc-train-labels.pt\n",
      "\n",
      "Part of val ids for node classification: [267 201 839]\n",
      "NC val ids are saved to ./ondisk_dataset_homograph/nc-val-ids.npy\n",
      "\n",
      "Part of val labels for node classification: tensor([2, 7, 7])\n",
      "NC val labels are saved to ./ondisk_dataset_homograph/nc-val-labels.pt\n",
      "\n",
      "Part of test ids for node classification: [613 835 557]\n",
      "NC test ids are saved to ./ondisk_dataset_homograph/nc-test-ids.npy\n",
      "\n",
      "Part of test labels for node classification: tensor([7, 4, 4])\n",
      "NC test labels are saved to ./ondisk_dataset_homograph/nc-test-labels.pt\n",
      "\n"
     ]
    }
   ],
   "source": [
    "num_trains = int(num_nodes * 0.6)\n",
    "num_vals = int(num_nodes * 0.2)\n",
    "num_tests = num_nodes - num_trains - num_vals\n",
    "\n",
    "ids = np.arange(num_nodes)\n",
    "np.random.shuffle(ids)\n",
    "\n",
    "nc_train_ids_path = os.path.join(base_dir, \"nc-train-ids.npy\")\n",
    "nc_train_ids = ids[:num_trains]\n",
    "print(f\"Part of train ids for node classification: {nc_train_ids[:3]}\")\n",
    "np.save(nc_train_ids_path, nc_train_ids)\n",
    "print(f\"NC train ids are saved to {nc_train_ids_path}\\n\")\n",
    "\n",
    "nc_train_labels_path = os.path.join(base_dir, \"nc-train-labels.pt\")\n",
    "nc_train_labels = torch.randint(0, 10, (num_trains,))\n",
    "print(f\"Part of train labels for node classification: {nc_train_labels[:3]}\")\n",
    "torch.save(nc_train_labels, nc_train_labels_path)\n",
    "print(f\"NC train labels are saved to {nc_train_labels_path}\\n\")\n",
    "\n",
    "nc_val_ids_path = os.path.join(base_dir, \"nc-val-ids.npy\")\n",
    "nc_val_ids = ids[num_trains:num_trains+num_vals]\n",
    "print(f\"Part of val ids for node classification: {nc_val_ids[:3]}\")\n",
    "np.save(nc_val_ids_path, nc_val_ids)\n",
    "print(f\"NC val ids are saved to {nc_val_ids_path}\\n\")\n",
    "\n",
    "nc_val_labels_path = os.path.join(base_dir, \"nc-val-labels.pt\")\n",
    "nc_val_labels = torch.randint(0, 10, (num_vals,))\n",
    "print(f\"Part of val labels for node classification: {nc_val_labels[:3]}\")\n",
    "torch.save(nc_val_labels, nc_val_labels_path)\n",
    "print(f\"NC val labels are saved to {nc_val_labels_path}\\n\")\n",
    "\n",
    "nc_test_ids_path = os.path.join(base_dir, \"nc-test-ids.npy\")\n",
    "nc_test_ids = ids[-num_tests:]\n",
    "print(f\"Part of test ids for node classification: {nc_test_ids[:3]}\")\n",
    "np.save(nc_test_ids_path, nc_test_ids)\n",
    "print(f\"NC test ids are saved to {nc_test_ids_path}\\n\")\n",
    "\n",
    "nc_test_labels_path = os.path.join(base_dir, \"nc-test-labels.pt\")\n",
    "nc_test_labels = torch.randint(0, 10, (num_tests,))\n",
    "print(f\"Part of test labels for node classification: {nc_test_labels[:3]}\")\n",
    "torch.save(nc_test_labels, nc_test_labels_path)\n",
    "print(f\"NC test labels are saved to {nc_test_labels_path}\\n\")"
   ]
  },
  {
   "cell_type": "markdown",
   "metadata": {
    "id": "LhAcDCHQ_KJ0"
   },
   "source": [
    "#### Link Prediction Task\n",
    "For link prediction task, we need **seeds** or **corresponding labels and indexes** which representing the pos/neg property and group of the seeds for each training/validation/test set. Like feature data, numpy arrays and torch tensors are supported for these sets."
   ]
  },
  {
   "cell_type": "code",
   "execution_count": 6,
   "metadata": {
    "execution": {
     "iopub.execute_input": "2024-10-23T13:17:34.440910Z",
     "iopub.status.busy": "2024-10-23T13:17:34.440712Z",
     "iopub.status.idle": "2024-10-23T13:17:34.459463Z",
     "shell.execute_reply": "2024-10-23T13:17:34.458507Z"
    },
    "id": "u0jCnXIcAQy4"
   },
   "outputs": [
    {
     "name": "stdout",
     "output_type": "stream",
     "text": [
      "Part of train seeds for link prediction: [[350 944]\n",
      " [197 293]\n",
      " [ 47  93]]\n",
      "LP train seeds are saved to ./ondisk_dataset_homograph/lp-train-seeds.npy\n",
      "\n",
      "Part of val seeds for link prediction: [[369 918]\n",
      " [519 941]\n",
      " [815 676]]\n",
      "LP val seeds are saved to ./ondisk_dataset_homograph/lp-val-seeds.npy\n",
      "\n",
      "Part of val labels for link prediction: [1. 1. 1.]\n",
      "LP val labels are saved to ./ondisk_dataset_homograph/lp-val-labels.npy\n",
      "\n",
      "Part of val indexes for link prediction: [0 1 2]\n",
      "LP val indexes are saved to ./ondisk_dataset_homograph/lp-val-indexes.npy\n",
      "\n",
      "Part of test seeds for link prediction: [[500 357]\n",
      " [488 436]\n",
      " [783 981]]\n",
      "LP test seeds are saved to ./ondisk_dataset_homograph/lp-test-seeds.npy\n",
      "\n",
      "Part of val labels for link prediction: [1. 1. 1.]\n",
      "LP test labels are saved to ./ondisk_dataset_homograph/lp-test-labels.npy\n",
      "\n",
      "Part of test indexes for link prediction: [0 1 2]\n",
      "LP test indexes are saved to ./ondisk_dataset_homograph/lp-test-indexes.npy\n",
      "\n"
     ]
    }
   ],
   "source": [
    "num_trains = int(num_edges * 0.6)\n",
    "num_vals = int(num_edges * 0.2)\n",
    "num_tests = num_edges - num_trains - num_vals\n",
    "\n",
    "lp_train_seeds_path = os.path.join(base_dir, \"lp-train-seeds.npy\")\n",
    "lp_train_seeds = edges[:num_trains, :]\n",
    "print(f\"Part of train seeds for link prediction: {lp_train_seeds[:3]}\")\n",
    "np.save(lp_train_seeds_path, lp_train_seeds)\n",
    "print(f\"LP train seeds are saved to {lp_train_seeds_path}\\n\")\n",
    "\n",
    "lp_val_seeds_path = os.path.join(base_dir, \"lp-val-seeds.npy\")\n",
    "lp_val_seeds = edges[num_trains:num_trains+num_vals, :]\n",
    "lp_val_neg_dsts = np.random.randint(0, num_nodes, (num_vals, 10)).reshape(-1)\n",
    "lp_val_neg_srcs = np.repeat(lp_val_seeds[:,0], 10)\n",
    "lp_val_neg_seeds = np.concatenate((lp_val_neg_srcs, lp_val_neg_dsts)).reshape(2,-1).T\n",
    "lp_val_seeds = np.concatenate((lp_val_seeds, lp_val_neg_seeds))\n",
    "print(f\"Part of val seeds for link prediction: {lp_val_seeds[:3]}\")\n",
    "np.save(lp_val_seeds_path, lp_val_seeds)\n",
    "print(f\"LP val seeds are saved to {lp_val_seeds_path}\\n\")\n",
    "\n",
    "lp_val_labels_path = os.path.join(base_dir, \"lp-val-labels.npy\")\n",
    "lp_val_labels = np.empty(num_vals * (10 + 1))\n",
    "lp_val_labels[:num_vals] = 1\n",
    "lp_val_labels[num_vals:] = 0\n",
    "print(f\"Part of val labels for link prediction: {lp_val_labels[:3]}\")\n",
    "np.save(lp_val_labels_path, lp_val_labels)\n",
    "print(f\"LP val labels are saved to {lp_val_labels_path}\\n\")\n",
    "\n",
    "lp_val_indexes_path = os.path.join(base_dir, \"lp-val-indexes.npy\")\n",
    "lp_val_indexes = np.arange(0, num_vals)\n",
    "lp_val_neg_indexes = np.repeat(lp_val_indexes, 10)\n",
    "lp_val_indexes = np.concatenate([lp_val_indexes, lp_val_neg_indexes])\n",
    "print(f\"Part of val indexes for link prediction: {lp_val_indexes[:3]}\")\n",
    "np.save(lp_val_indexes_path, lp_val_indexes)\n",
    "print(f\"LP val indexes are saved to {lp_val_indexes_path}\\n\")\n",
    "\n",
    "lp_test_seeds_path = os.path.join(base_dir, \"lp-test-seeds.npy\")\n",
    "lp_test_seeds = edges[-num_tests:, :]\n",
    "lp_test_neg_dsts = np.random.randint(0, num_nodes, (num_tests, 10)).reshape(-1)\n",
    "lp_test_neg_srcs = np.repeat(lp_test_seeds[:,0], 10)\n",
    "lp_test_neg_seeds = np.concatenate((lp_test_neg_srcs, lp_test_neg_dsts)).reshape(2,-1).T\n",
    "lp_test_seeds = np.concatenate((lp_test_seeds, lp_test_neg_seeds))\n",
    "print(f\"Part of test seeds for link prediction: {lp_test_seeds[:3]}\")\n",
    "np.save(lp_test_seeds_path, lp_test_seeds)\n",
    "print(f\"LP test seeds are saved to {lp_test_seeds_path}\\n\")\n",
    "\n",
    "lp_test_labels_path = os.path.join(base_dir, \"lp-test-labels.npy\")\n",
    "lp_test_labels = np.empty(num_tests * (10 + 1))\n",
    "lp_test_labels[:num_tests] = 1\n",
    "lp_test_labels[num_tests:] = 0\n",
    "print(f\"Part of val labels for link prediction: {lp_test_labels[:3]}\")\n",
    "np.save(lp_test_labels_path, lp_test_labels)\n",
    "print(f\"LP test labels are saved to {lp_test_labels_path}\\n\")\n",
    "\n",
    "lp_test_indexes_path = os.path.join(base_dir, \"lp-test-indexes.npy\")\n",
    "lp_test_indexes = np.arange(0, num_tests)\n",
    "lp_test_neg_indexes = np.repeat(lp_test_indexes, 10)\n",
    "lp_test_indexes = np.concatenate([lp_test_indexes, lp_test_neg_indexes])\n",
    "print(f\"Part of test indexes for link prediction: {lp_test_indexes[:3]}\")\n",
    "np.save(lp_test_indexes_path, lp_test_indexes)\n",
    "print(f\"LP test indexes are saved to {lp_test_indexes_path}\\n\")"
   ]
  },
  {
   "cell_type": "markdown",
   "metadata": {
    "id": "wbk6-wxRK-6S"
   },
   "source": [
    "## Organize Data into YAML File\n",
    "Now we need to create a `metadata.yaml` file which contains the paths, dadta types of graph structure, feature data, training/validation/test sets.\n",
    "\n",
    "Notes:\n",
    "- all path should be relative to `metadata.yaml`.\n",
    "- Below fields are optional and not specified in below example.\n",
    "  - `in_memory`: indicates whether to load dada into memory or `mmap`. Default is `True`.\n",
    "\n",
    "Please refer to [YAML specification](https://github.com/dmlc/dgl/blob/master/docs/source/stochastic_training/ondisk-dataset-specification.rst) for more details."
   ]
  },
  {
   "cell_type": "code",
   "execution_count": 7,
   "metadata": {
    "execution": {
     "iopub.execute_input": "2024-10-23T13:17:34.461612Z",
     "iopub.status.busy": "2024-10-23T13:17:34.461417Z",
     "iopub.status.idle": "2024-10-23T13:17:34.468227Z",
     "shell.execute_reply": "2024-10-23T13:17:34.467342Z"
    },
    "id": "ddGTWW61Lpwp"
   },
   "outputs": [],
   "source": [
    "yaml_content = f\"\"\"\n",
    "    dataset_name: homogeneous_graph_nc_lp\n",
    "    graph:\n",
    "      nodes:\n",
    "        - num: {num_nodes}\n",
    "      edges:\n",
    "        - format: csv\n",
    "          path: {os.path.basename(edges_path)}\n",
    "    feature_data:\n",
    "      - domain: node\n",
    "        name: feat_0\n",
    "        format: numpy\n",
    "        path: {os.path.basename(node_feat_0_path)}\n",
    "      - domain: node\n",
    "        name: feat_1\n",
    "        format: torch\n",
    "        path: {os.path.basename(node_feat_1_path)}\n",
    "      - domain: edge\n",
    "        name: feat_0\n",
    "        format: numpy\n",
    "        path: {os.path.basename(edge_feat_0_path)}\n",
    "      - domain: edge\n",
    "        name: feat_1\n",
    "        format: torch\n",
    "        path: {os.path.basename(edge_feat_1_path)}\n",
    "    tasks:\n",
    "      - name: node_classification\n",
    "        num_classes: 10\n",
    "        train_set:\n",
    "          - data:\n",
    "              - name: seeds\n",
    "                format: numpy\n",
    "                path: {os.path.basename(nc_train_ids_path)}\n",
    "              - name: labels\n",
    "                format: torch\n",
    "                path: {os.path.basename(nc_train_labels_path)}\n",
    "        validation_set:\n",
    "          - data:\n",
    "              - name: seeds\n",
    "                format: numpy\n",
    "                path: {os.path.basename(nc_val_ids_path)}\n",
    "              - name: labels\n",
    "                format: torch\n",
    "                path: {os.path.basename(nc_val_labels_path)}\n",
    "        test_set:\n",
    "          - data:\n",
    "              - name: seeds\n",
    "                format: numpy\n",
    "                path: {os.path.basename(nc_test_ids_path)}\n",
    "              - name: labels\n",
    "                format: torch\n",
    "                path: {os.path.basename(nc_test_labels_path)}\n",
    "      - name: link_prediction\n",
    "        num_classes: 10\n",
    "        train_set:\n",
    "          - data:\n",
    "              - name: seeds\n",
    "                format: numpy\n",
    "                path: {os.path.basename(lp_train_seeds_path)}\n",
    "        validation_set:\n",
    "          - data:\n",
    "              - name: seeds\n",
    "                format: numpy\n",
    "                path: {os.path.basename(lp_val_seeds_path)}\n",
    "              - name: labels\n",
    "                format: numpy\n",
    "                path: {os.path.basename(lp_val_labels_path)}\n",
    "              - name: indexes\n",
    "                format: numpy\n",
    "                path: {os.path.basename(lp_val_indexes_path)}\n",
    "        test_set:\n",
    "          - data:\n",
    "              - name: seeds\n",
    "                format: numpy\n",
    "                path: {os.path.basename(lp_test_seeds_path)}\n",
    "              - name: labels\n",
    "                format: numpy\n",
    "                path: {os.path.basename(lp_test_labels_path)}\n",
    "              - name: indexes\n",
    "                format: numpy\n",
    "                path: {os.path.basename(lp_test_indexes_path)}\n",
    "\"\"\"\n",
    "metadata_path = os.path.join(base_dir, \"metadata.yaml\")\n",
    "with open(metadata_path, \"w\") as f:\n",
    "  f.write(yaml_content)"
   ]
  },
  {
   "cell_type": "markdown",
   "metadata": {
    "id": "kEfybHGhOW7O"
   },
   "source": [
    "## Instantiate `OnDiskDataset`\n",
    "Now we're ready to load dataset via `dgl.graphbolt.OnDiskDataset`. When instantiating, we just pass in the base directory where `metadata.yaml` file lies.\n",
    "\n",
    "During first instantiation, GraphBolt preprocesses the raw data such as constructing `FusedCSCSamplingGraph` from edges. All data including graph, feature data, training/validation/test sets are put into `preprocessed` directory after preprocessing. Any following dataset loading will skip the preprocess stage.\n",
    "\n",
    "After preprocessing, `load()` is required to be called explicitly in order to load graph, feature data and tasks."
   ]
  },
  {
   "cell_type": "code",
   "execution_count": 8,
   "metadata": {
    "execution": {
     "iopub.execute_input": "2024-10-23T13:17:34.470513Z",
     "iopub.status.busy": "2024-10-23T13:17:34.470171Z",
     "iopub.status.idle": "2024-10-23T13:17:34.541356Z",
     "shell.execute_reply": "2024-10-23T13:17:34.540634Z"
    },
    "id": "W58CZoSzOiyo"
   },
   "outputs": [
    {
     "name": "stdout",
     "output_type": "stream",
     "text": [
      "Start to preprocess the on-disk dataset.\n",
      "Finish preprocessing the on-disk dataset.\n",
      "Loaded graph: FusedCSCSamplingGraph(csc_indptr=tensor([    0,     9,    15,  ...,  9988,  9992, 10000], dtype=torch.int32),\n",
      "                      indices=tensor([664, 910, 619,  ..., 119, 593, 902], dtype=torch.int32),\n",
      "                      total_num_nodes=1000, num_edges=10000,)\n",
      "\n",
      "Loaded feature store: TorchBasedFeatureStore(\n",
      "    {(<OnDiskFeatureDataDomain.NODE: 'node'>, None, 'feat_0'): TorchBasedFeature(\n",
      "        feature=tensor([[0.5472, 0.6404, 0.0303, 0.1403, 0.8991],\n",
      "                        [0.9436, 0.2512, 0.2855, 0.6916, 0.6593],\n",
      "                        [0.4212, 0.0621, 0.4094, 0.9472, 0.3388],\n",
      "                        ...,\n",
      "                        [0.9772, 0.1086, 0.2197, 0.3401, 0.2598],\n",
      "                        [0.6233, 0.5779, 0.7064, 0.1636, 0.2577],\n",
      "                        [0.8287, 0.7890, 0.1984, 0.5312, 0.7264]], dtype=torch.float64),\n",
      "        metadata={},\n",
      "    ), (<OnDiskFeatureDataDomain.NODE: 'node'>, None, 'feat_1'): TorchBasedFeature(\n",
      "        feature=tensor([[0.7740, 0.0600, 0.9522, 0.4105, 0.4561],\n",
      "                        [0.2536, 0.0016, 0.4922, 0.9074, 0.5878],\n",
      "                        [0.7609, 0.0763, 0.1363, 0.7793, 0.4414],\n",
      "                        ...,\n",
      "                        [0.1116, 0.9153, 0.2537, 0.9415, 0.0962],\n",
      "                        [0.7692, 0.3569, 0.7594, 0.1430, 0.5322],\n",
      "                        [0.4235, 0.6064, 0.2733, 0.2749, 0.5707]]),\n",
      "        metadata={},\n",
      "    ), (<OnDiskFeatureDataDomain.EDGE: 'edge'>, None, 'feat_0'): TorchBasedFeature(\n",
      "        feature=tensor([[0.3054, 0.1858, 0.5147, 0.7059, 0.5409],\n",
      "                        [0.4972, 0.9250, 0.7845, 0.4733, 0.6529],\n",
      "                        [0.8937, 0.5745, 0.6032, 0.4185, 0.2196],\n",
      "                        ...,\n",
      "                        [0.0352, 0.4219, 0.3838, 0.5949, 0.6766],\n",
      "                        [0.2980, 0.5234, 0.4389, 0.5121, 0.0596],\n",
      "                        [0.1813, 0.7822, 0.4361, 0.1619, 0.8308]], dtype=torch.float64),\n",
      "        metadata={},\n",
      "    ), (<OnDiskFeatureDataDomain.EDGE: 'edge'>, None, 'feat_1'): TorchBasedFeature(\n",
      "        feature=tensor([[0.4959, 0.8898, 0.9981, 0.2877, 0.0053],\n",
      "                        [0.4201, 0.7302, 0.5806, 0.1087, 0.5243],\n",
      "                        [0.6615, 0.0492, 0.1891, 0.7511, 0.8935],\n",
      "                        ...,\n",
      "                        [0.1312, 0.0253, 0.8878, 0.9092, 0.9797],\n",
      "                        [0.5928, 0.2212, 0.9591, 0.8808, 0.4495],\n",
      "                        [0.5166, 0.3990, 0.6119, 0.0740, 0.3883]]),\n",
      "        metadata={},\n",
      "    )}\n",
      ")\n",
      "\n",
      "Loaded node classification task: OnDiskTask(validation_set=ItemSet(\n",
      "               items=(tensor([267, 201, 839, 568, 510, 815, 842, 606, 693, 542,  90, 946, 766, 854,\n",
      "                   700, 178, 531, 549, 755, 617, 852, 446, 154, 562, 876, 430, 642,  32,\n",
      "                   917, 736,  44, 194, 117, 251, 307, 342, 635, 652, 939, 353, 723, 515,\n",
      "                   710, 277,  83,  92, 914, 491, 287, 901, 830, 909, 506,  31, 983, 406,\n",
      "                   351, 907, 528, 373, 296, 204, 731, 772, 969, 871, 792, 953, 603, 759,\n",
      "                   172, 781,  80,  11, 794, 922, 841,  98, 455, 467, 143, 360, 405, 242,\n",
      "                   514, 508, 167, 472, 180,  87, 227, 347, 688, 150,  52, 826, 517,  75,\n",
      "                   365, 346, 928, 891, 926, 238, 359, 477, 429, 293, 653, 299, 784, 100,\n",
      "                   376, 103, 124, 140, 413,  33, 271, 364, 131,  72, 493, 525, 458, 411,\n",
      "                   849, 690, 235, 263, 711, 337,  66, 309, 469, 229,  34, 279, 195, 757,\n",
      "                    57, 987, 892,  78, 320, 991, 563,  21, 422, 904, 266, 920, 151,  58,\n",
      "                   378, 863, 407, 689, 740, 575, 504, 120, 706, 956, 538, 602,  29, 361,\n",
      "                   596, 285, 868, 685,  23, 778, 951, 330, 222, 855, 118, 463, 877, 454,\n",
      "                   864, 725, 945, 489, 501, 416, 783, 182, 764, 306, 190, 747, 643, 674,\n",
      "                   316,  74, 609,  28], dtype=torch.int32), tensor([2, 7, 7, 3, 5, 7, 7, 3, 5, 8, 2, 8, 0, 6, 9, 8, 6, 9, 9, 0, 9, 3, 0, 5,\n",
      "                   7, 9, 3, 7, 0, 7, 7, 0, 8, 4, 8, 4, 1, 0, 3, 2, 4, 8, 0, 8, 7, 6, 0, 8,\n",
      "                   3, 4, 5, 4, 4, 3, 8, 3, 1, 9, 2, 1, 3, 9, 1, 0, 0, 4, 9, 4, 7, 5, 5, 5,\n",
      "                   6, 4, 1, 3, 4, 6, 8, 2, 8, 4, 8, 1, 6, 9, 2, 7, 4, 1, 4, 6, 2, 2, 7, 7,\n",
      "                   9, 0, 0, 1, 4, 4, 9, 8, 8, 5, 0, 1, 3, 1, 3, 7, 1, 3, 3, 6, 2, 8, 1, 6,\n",
      "                   8, 4, 3, 2, 3, 1, 2, 9, 8, 1, 7, 3, 9, 9, 7, 6, 5, 4, 8, 9, 2, 1, 8, 9,\n",
      "                   5, 0, 2, 6, 7, 6, 4, 3, 2, 8, 3, 0, 5, 9, 1, 0, 3, 2, 7, 9, 1, 7, 4, 8,\n",
      "                   3, 8, 9, 9, 4, 6, 2, 6, 9, 8, 0, 8, 4, 0, 2, 8, 8, 1, 9, 0, 0, 6, 0, 3,\n",
      "                   1, 8, 1, 6, 1, 4, 4, 6])),\n",
      "               names=('seeds', 'labels'),\n",
      "           ),\n",
      "           train_set=ItemSet(\n",
      "               items=(tensor([174, 170, 742, 584, 189, 923, 686, 913, 934, 811, 571, 570, 976, 861,\n",
      "                    86, 758, 601, 226, 961, 576,   9, 188, 254, 650, 179, 377, 161, 754,\n",
      "                   727, 313, 746, 375, 741,  97, 439, 615, 982, 380, 713, 216, 878,  43,\n",
      "                    18, 857, 433, 357,  81, 268, 574, 899, 123, 401, 448,   5, 938, 119,\n",
      "                   743, 824, 232, 880,  38, 622, 284, 156,  63, 722, 158, 225, 221, 866,\n",
      "                   473, 974, 220, 885, 465,  30, 532, 705, 269, 702, 790, 881, 831, 211,\n",
      "                   654, 421, 833, 771,   7, 668,  50,  76, 370, 714, 379, 915, 497,   4,\n",
      "                   431, 883, 478,  60, 998, 651, 474, 572, 432,  82, 350, 548, 527, 712,\n",
      "                    10, 438, 412, 595, 290, 374, 704, 529, 460,  61,  24, 400, 112, 708,\n",
      "                   295, 836, 785, 552, 753, 644, 807,  89, 452, 224, 282, 470, 844, 936,\n",
      "                   801,  27, 994, 554, 382, 262, 402, 520, 949, 995, 594, 629,  71, 354,\n",
      "                   782, 415, 979, 464, 875, 898, 997, 821, 663, 512, 171, 278, 450, 581,\n",
      "                   561, 730, 336, 937, 813,  20, 699, 687, 371,  68,  69, 770, 827, 645,\n",
      "                   623, 721, 847, 355, 944, 853, 234, 218, 184, 843, 249, 428, 526, 583,\n",
      "                   825, 530, 887, 888, 819, 519,  93, 327, 116, 566, 895, 971, 340, 466,\n",
      "                   524, 661, 715, 175, 356, 173, 604,  62, 367, 838, 241, 636, 874, 724,\n",
      "                   363, 791, 244, 102, 717, 333, 626, 585, 679, 822, 795, 471, 358, 176,\n",
      "                   498, 698, 556, 237, 808, 633, 666, 105,  91, 729, 159, 427,  13, 906,\n",
      "                   243, 420, 496, 957, 756, 334, 737, 326, 640, 147, 113, 627, 597, 628,\n",
      "                   518, 511, 163, 806, 289, 272, 502, 564, 398,  55, 589, 582, 486, 659,\n",
      "                    49, 315, 970, 281, 972, 828, 487, 985,  42, 274, 988, 814,  85, 366,\n",
      "                   641, 394, 751, 217, 625, 239, 399, 748, 919, 319, 385, 245, 890, 682,\n",
      "                   738, 996, 631, 884, 425, 490, 126, 676, 214, 728, 206, 968, 678, 960,\n",
      "                   444, 732, 787, 215, 967, 559, 851, 534,  48, 381, 138, 908, 709, 456,\n",
      "                   441, 451,  22,  36, 200, 927,  64, 800, 632, 573,  54, 196, 607, 104,\n",
      "                   910, 793, 240, 329, 108, 207,  96, 145, 749, 812, 657, 655, 447, 954,\n",
      "                   619, 947,  40,  47, 856, 941, 912, 391,  73, 768, 873, 846, 246, 845,\n",
      "                   776, 314,  37, 384, 550, 911, 545, 500,  15, 691, 286, 639,  65, 148,\n",
      "                   977, 291, 298, 476, 694, 423, 144, 146, 459, 905, 187,  53,   8, 297,\n",
      "                   539, 230, 805, 135, 929, 372, 973, 948, 260,  16, 389,  94, 461, 442,\n",
      "                   750, 134, 440, 408, 129, 192,  79, 921, 587, 505, 485, 253, 630, 799,\n",
      "                   943, 494, 567, 616, 349, 588, 300, 311, 396, 786, 593, 303, 959, 671,\n",
      "                    35, 761, 540, 537, 558,   0, 870, 338, 302, 999, 368, 543, 599, 482,\n",
      "                   177, 339, 228, 139, 762, 165, 453, 223, 952, 677, 858, 832, 692, 739,\n",
      "                   164, 903, 522, 250, 850, 181, 726, 322, 212, 950, 634,  99, 955, 213,\n",
      "                   125, 414, 547, 848,  51, 774, 862, 424, 546, 618, 265, 426, 198, 499,\n",
      "                   720,  95, 130,  14, 417, 672,  26, 646, 183, 481, 718, 592, 256, 492,\n",
      "                   205, 840, 231, 513, 321, 796, 667, 419, 257, 449, 252, 962, 304, 142,\n",
      "                   719, 541, 614, 132, 779, 521, 735, 834, 157, 168, 219,  59, 611, 797,\n",
      "                   734, 106, 310, 114,  84, 924, 468, 393, 591, 392, 931, 817, 869, 578,\n",
      "                   434, 804,  39, 445, 312, 590, 637, 258,   1, 577, 935, 837, 660, 352,\n",
      "                   620, 716, 760, 457, 480, 765, 665, 197, 902, 331, 324, 669, 390, 942,\n",
      "                    17,   2, 386, 128,  56, 418, 344, 323, 930, 410,  25, 820],\n",
      "                  dtype=torch.int32), tensor([1, 2, 6, 5, 0, 1, 8, 0, 9, 2, 6, 3, 7, 0, 6, 1, 3, 2, 1, 9, 4, 4, 3, 6,\n",
      "                   2, 3, 1, 5, 2, 6, 4, 1, 2, 9, 0, 0, 3, 0, 9, 0, 0, 6, 2, 7, 1, 4, 2, 7,\n",
      "                   6, 4, 3, 5, 3, 7, 7, 0, 0, 7, 4, 7, 7, 5, 9, 9, 6, 0, 3, 3, 2, 2, 1, 2,\n",
      "                   0, 7, 8, 7, 3, 9, 4, 2, 7, 7, 6, 8, 7, 5, 6, 9, 5, 7, 5, 5, 1, 0, 4, 5,\n",
      "                   4, 4, 3, 8, 8, 3, 5, 5, 6, 9, 1, 3, 2, 2, 1, 7, 9, 8, 7, 6, 1, 1, 1, 3,\n",
      "                   5, 7, 2, 8, 3, 7, 5, 0, 7, 8, 8, 0, 5, 2, 3, 3, 9, 5, 7, 7, 2, 6, 7, 9,\n",
      "                   4, 3, 6, 5, 6, 8, 1, 1, 4, 2, 8, 8, 0, 6, 0, 0, 9, 4, 3, 8, 3, 7, 1, 2,\n",
      "                   7, 1, 2, 6, 0, 1, 3, 0, 6, 2, 8, 0, 5, 6, 7, 5, 3, 4, 4, 0, 0, 6, 4, 1,\n",
      "                   3, 4, 9, 5, 0, 6, 6, 7, 7, 0, 1, 4, 0, 6, 4, 1, 4, 2, 4, 1, 0, 3, 5, 9,\n",
      "                   4, 3, 9, 0, 7, 5, 3, 7, 9, 8, 6, 1, 1, 9, 2, 9, 1, 8, 8, 2, 3, 2, 5, 0,\n",
      "                   7, 6, 9, 1, 3, 8, 9, 6, 8, 7, 1, 3, 5, 7, 1, 1, 0, 5, 8, 8, 5, 7, 2, 2,\n",
      "                   7, 2, 8, 9, 8, 4, 6, 1, 7, 5, 5, 3, 2, 2, 2, 9, 4, 1, 7, 9, 0, 2, 1, 5,\n",
      "                   5, 4, 9, 0, 7, 1, 8, 5, 3, 0, 8, 2, 7, 5, 8, 8, 9, 5, 9, 4, 0, 5, 4, 6,\n",
      "                   6, 3, 7, 5, 9, 0, 4, 1, 4, 1, 1, 6, 8, 8, 5, 1, 6, 1, 5, 7, 6, 4, 6, 8,\n",
      "                   0, 1, 4, 8, 7, 3, 9, 3, 5, 4, 2, 3, 6, 9, 3, 2, 1, 2, 4, 1, 8, 3, 8, 8,\n",
      "                   9, 3, 4, 7, 4, 3, 9, 9, 1, 0, 7, 3, 9, 7, 0, 9, 6, 2, 4, 6, 5, 0, 6, 7,\n",
      "                   2, 5, 8, 8, 8, 2, 6, 9, 2, 1, 7, 6, 3, 6, 4, 0, 0, 7, 0, 3, 0, 2, 4, 6,\n",
      "                   7, 3, 6, 3, 7, 2, 1, 1, 7, 3, 8, 6, 5, 6, 5, 2, 7, 5, 7, 7, 5, 1, 3, 7,\n",
      "                   6, 0, 0, 6, 7, 0, 8, 2, 6, 7, 9, 4, 4, 2, 0, 2, 7, 4, 5, 0, 4, 9, 8, 1,\n",
      "                   8, 9, 2, 9, 2, 0, 7, 3, 4, 9, 4, 2, 3, 3, 2, 0, 1, 1, 5, 8, 3, 4, 4, 6,\n",
      "                   4, 3, 7, 0, 0, 4, 0, 4, 9, 8, 8, 8, 1, 8, 1, 5, 7, 4, 3, 3, 9, 6, 5, 5,\n",
      "                   8, 1, 1, 6, 7, 7, 4, 3, 6, 0, 0, 6, 1, 5, 0, 3, 3, 3, 3, 7, 4, 8, 4, 4,\n",
      "                   3, 0, 3, 9, 8, 0, 1, 2, 8, 1, 8, 3, 5, 1, 7, 8, 8, 1, 3, 8, 1, 5, 2, 5,\n",
      "                   4, 9, 3, 0, 1, 8, 3, 8, 8, 9, 9, 3, 7, 8, 5, 6, 3, 9, 8, 9, 7, 0, 7, 5,\n",
      "                   2, 6, 4, 6, 3, 8, 5, 1, 3, 2, 1, 8, 6, 3, 0, 7, 0, 9, 9, 7, 6, 0, 9, 0])),\n",
      "               names=('seeds', 'labels'),\n",
      "           ),\n",
      "           test_set=ItemSet(\n",
      "               items=(tensor([613, 835, 557, 141, 867, 149, 553, 600, 925, 802, 810, 882, 859, 816,\n",
      "                   403, 233, 484, 395, 343, 503, 612, 437, 202, 397, 488, 236, 992, 209,\n",
      "                   986,  45, 610, 981, 275, 166, 780, 536,   6, 896, 341, 695, 958, 409,\n",
      "                   673, 893, 288, 803, 964, 586, 664, 210, 966, 889, 255, 579, 345, 932,\n",
      "                   993, 107, 276, 101, 111, 624, 535, 121, 155, 462, 169, 308, 886, 775,\n",
      "                   683, 647, 335, 662, 127, 656, 598, 916, 696, 965,  70,  41, 872, 894,\n",
      "                   280, 580, 317, 305, 436, 701, 860, 829, 136, 744, 479,  77, 555, 773,\n",
      "                   897, 185, 186, 404, 963, 733, 649, 809, 387, 133, 823, 328, 137, 569,\n",
      "                   990, 638, 918, 933, 865, 818, 160, 495, 621, 332, 109, 507, 681, 551,\n",
      "                    19, 264, 294, 122, 325, 362, 763, 670, 940, 777, 483,  46, 798,  88,\n",
      "                   110, 879, 247, 658, 153, 388, 248, 318, 273, 608, 443, 745, 605, 788,\n",
      "                   509, 203, 703, 435, 292, 199,   3, 560, 978, 193, 348, 680, 475, 900,\n",
      "                   789, 261, 984, 516, 769, 648, 152, 283, 162, 270, 975, 752,  12, 191,\n",
      "                   565, 767, 369, 259, 383,  67, 544, 707, 980, 989, 675, 301, 533, 697,\n",
      "                   523, 208, 115, 684], dtype=torch.int32), tensor([7, 4, 4, 5, 7, 4, 3, 6, 5, 2, 8, 2, 0, 2, 8, 3, 7, 6, 0, 7, 6, 3, 3, 3,\n",
      "                   8, 6, 9, 8, 8, 2, 4, 6, 2, 0, 5, 4, 5, 5, 0, 7, 2, 7, 8, 7, 0, 2, 5, 7,\n",
      "                   8, 0, 5, 3, 0, 5, 7, 1, 2, 6, 9, 9, 2, 2, 8, 0, 0, 1, 3, 7, 1, 3, 1, 9,\n",
      "                   4, 0, 2, 8, 0, 8, 5, 4, 9, 8, 0, 4, 0, 6, 7, 4, 0, 7, 0, 4, 2, 0, 3, 7,\n",
      "                   0, 3, 4, 0, 2, 7, 8, 8, 5, 6, 6, 0, 9, 1, 7, 6, 0, 2, 9, 4, 2, 9, 1, 4,\n",
      "                   9, 3, 9, 0, 2, 0, 1, 6, 8, 3, 4, 8, 0, 5, 4, 2, 5, 8, 9, 4, 7, 1, 6, 3,\n",
      "                   7, 6, 2, 7, 6, 9, 5, 2, 0, 2, 1, 8, 2, 1, 8, 2, 1, 4, 3, 5, 1, 3, 6, 2,\n",
      "                   4, 1, 1, 9, 7, 6, 5, 4, 6, 6, 8, 2, 4, 9, 4, 3, 2, 6, 0, 7, 3, 9, 5, 1,\n",
      "                   0, 6, 8, 8, 1, 9, 1, 1])),\n",
      "               names=('seeds', 'labels'),\n",
      "           ),\n",
      "           metadata={'name': 'node_classification', 'num_classes': 10},)\n",
      "\n",
      "Loaded link prediction task: OnDiskTask(validation_set=ItemSet(\n",
      "               items=(tensor([[369, 918],\n",
      "                   [519, 941],\n",
      "                   [815, 676],\n",
      "                   ...,\n",
      "                   [712,  67],\n",
      "                   [712, 701],\n",
      "                   [712, 483]], dtype=torch.int32), tensor([1., 1., 1.,  ..., 0., 0., 0.], dtype=torch.float64), tensor([   0,    1,    2,  ..., 1999, 1999, 1999])),\n",
      "               names=('seeds', 'labels', 'indexes'),\n",
      "           ),\n",
      "           train_set=ItemSet(\n",
      "               items=(tensor([[350, 944],\n",
      "                   [197, 293],\n",
      "                   [ 47,  93],\n",
      "                   ...,\n",
      "                   [599, 809],\n",
      "                   [482, 472],\n",
      "                   [350, 639]], dtype=torch.int32),),\n",
      "               names=('seeds',),\n",
      "           ),\n",
      "           test_set=ItemSet(\n",
      "               items=(tensor([[500, 357],\n",
      "                   [488, 436],\n",
      "                   [783, 981],\n",
      "                   ...,\n",
      "                   [885, 290],\n",
      "                   [885, 474],\n",
      "                   [885, 997]], dtype=torch.int32), tensor([1., 1., 1.,  ..., 0., 0., 0.], dtype=torch.float64), tensor([   0,    1,    2,  ..., 1999, 1999, 1999])),\n",
      "               names=('seeds', 'labels', 'indexes'),\n",
      "           ),\n",
      "           metadata={'name': 'link_prediction', 'num_classes': 10},)\n",
      "\n"
     ]
    },
    {
     "name": "stderr",
     "output_type": "stream",
     "text": [
      "/dgl/python/dgl/graphbolt/impl/ondisk_dataset.py:463: GBWarning: Edge feature is stored, but edge IDs are not saved.\n",
      "  gb_warning(\"Edge feature is stored, but edge IDs are not saved.\")\n"
     ]
    }
   ],
   "source": [
    "dataset = gb.OnDiskDataset(base_dir).load()\n",
    "graph = dataset.graph\n",
    "print(f\"Loaded graph: {graph}\\n\")\n",
    "\n",
    "feature = dataset.feature\n",
    "print(f\"Loaded feature store: {feature}\\n\")\n",
    "\n",
    "tasks = dataset.tasks\n",
    "nc_task = tasks[0]\n",
    "print(f\"Loaded node classification task: {nc_task}\\n\")\n",
    "lp_task = tasks[1]\n",
    "print(f\"Loaded link prediction task: {lp_task}\\n\")"
   ]
  }
 ],
 "metadata": {
  "colab": {
   "private_outputs": true,
   "provenance": []
  },
  "kernelspec": {
   "display_name": "Python 3",
   "name": "python3"
  },
  "language_info": {
   "codemirror_mode": {
    "name": "ipython",
    "version": 3
   },
   "file_extension": ".py",
   "mimetype": "text/x-python",
   "name": "python",
   "nbconvert_exporter": "python",
   "pygments_lexer": "ipython3",
   "version": "3.10.15"
  }
 },
 "nbformat": 4,
 "nbformat_minor": 0
}

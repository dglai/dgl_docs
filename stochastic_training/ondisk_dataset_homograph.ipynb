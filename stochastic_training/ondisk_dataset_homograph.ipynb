{
 "cells": [
  {
   "cell_type": "markdown",
   "metadata": {
    "id": "FnFhPMaAfLtJ"
   },
   "source": [
    "# OnDiskDataset for Homogeneous Graph\n",
    "\n",
    "[![Open In Colab](https://colab.research.google.com/assets/colab-badge.svg)](https://colab.research.google.com/github/dmlc/dgl/blob/master/notebooks/stochastic_training/ondisk_dataset_homograph.ipynb) [![GitHub](https://img.shields.io/badge/-View%20on%20GitHub-181717?logo=github&logoColor=ffffff)](https://github.com/dmlc/dgl/blob/master/notebooks/stochastic_training/ondisk_dataset_homograph.ipynb)\n",
    "\n",
    "This tutorial shows how to create `OnDiskDataset` for homogeneous graph that could be used in **GraphBolt** framework.\n",
    "\n",
    "By the end of this tutorial, you will be able to\n",
    "\n",
    "- organize graph structure data.\n",
    "- organize feature data.\n",
    "- organize training/validation/test set for specific tasks.\n",
    "\n",
    "To create an ``OnDiskDataset`` object, you need to organize all the data including graph structure, feature data and tasks into a directory. The directory should contain a ``metadata.yaml`` file that describes the metadata of the dataset.\n",
    "\n",
    "Now let's generate various data step by step and organize them together to instantiate `OnDiskDataset` finally."
   ]
  },
  {
   "cell_type": "markdown",
   "metadata": {
    "id": "Wlb19DtWgtzq"
   },
   "source": [
    "## Install DGL package"
   ]
  },
  {
   "cell_type": "code",
   "execution_count": 1,
   "metadata": {
    "execution": {
     "iopub.execute_input": "2024-10-12T14:06:39.932505Z",
     "iopub.status.busy": "2024-10-12T14:06:39.932209Z",
     "iopub.status.idle": "2024-10-12T14:06:42.972245Z",
     "shell.execute_reply": "2024-10-12T14:06:42.967802Z"
    },
    "id": "UojlT9ZGgyr9"
   },
   "outputs": [
    {
     "name": "stdout",
     "output_type": "stream",
     "text": [
      "Looking in links: https://data.dgl.ai/wheels-test/repo.html\r\n",
      "Requirement already satisfied: dgl in /opt/conda/envs/dgl-dev-cpu/lib/python3.10/site-packages (2.2a240410)\r\n",
      "Requirement already satisfied: numpy>=1.14.0 in /opt/conda/envs/dgl-dev-cpu/lib/python3.10/site-packages (from dgl) (1.26.4)\r\n",
      "Requirement already satisfied: scipy>=1.1.0 in /opt/conda/envs/dgl-dev-cpu/lib/python3.10/site-packages (from dgl) (1.14.1)\r\n",
      "Requirement already satisfied: networkx>=2.1 in /opt/conda/envs/dgl-dev-cpu/lib/python3.10/site-packages (from dgl) (3.4.1)\r\n",
      "Requirement already satisfied: requests>=2.19.0 in /opt/conda/envs/dgl-dev-cpu/lib/python3.10/site-packages (from dgl) (2.32.3)\r\n",
      "Requirement already satisfied: tqdm in /opt/conda/envs/dgl-dev-cpu/lib/python3.10/site-packages (from dgl) (4.66.5)\r\n",
      "Requirement already satisfied: psutil>=5.8.0 in /opt/conda/envs/dgl-dev-cpu/lib/python3.10/site-packages (from dgl) (6.0.0)\r\n",
      "Requirement already satisfied: torchdata>=0.5.0 in /opt/conda/envs/dgl-dev-cpu/lib/python3.10/site-packages (from dgl) (0.8.0)\r\n",
      "Requirement already satisfied: pandas in /opt/conda/envs/dgl-dev-cpu/lib/python3.10/site-packages (from dgl) (2.2.3)\r\n"
     ]
    },
    {
     "name": "stdout",
     "output_type": "stream",
     "text": [
      "Requirement already satisfied: charset-normalizer<4,>=2 in /opt/conda/envs/dgl-dev-cpu/lib/python3.10/site-packages (from requests>=2.19.0->dgl) (3.4.0)\r\n",
      "Requirement already satisfied: idna<4,>=2.5 in /opt/conda/envs/dgl-dev-cpu/lib/python3.10/site-packages (from requests>=2.19.0->dgl) (3.10)\r\n",
      "Requirement already satisfied: urllib3<3,>=1.21.1 in /opt/conda/envs/dgl-dev-cpu/lib/python3.10/site-packages (from requests>=2.19.0->dgl) (2.2.3)\r\n",
      "Requirement already satisfied: certifi>=2017.4.17 in /opt/conda/envs/dgl-dev-cpu/lib/python3.10/site-packages (from requests>=2.19.0->dgl) (2024.8.30)\r\n",
      "Requirement already satisfied: torch>=2 in /opt/conda/envs/dgl-dev-cpu/lib/python3.10/site-packages (from torchdata>=0.5.0->dgl) (2.1.0+cpu)\r\n"
     ]
    },
    {
     "name": "stdout",
     "output_type": "stream",
     "text": [
      "Requirement already satisfied: python-dateutil>=2.8.2 in /opt/conda/envs/dgl-dev-cpu/lib/python3.10/site-packages (from pandas->dgl) (2.9.0.post0)\r\n",
      "Requirement already satisfied: pytz>=2020.1 in /opt/conda/envs/dgl-dev-cpu/lib/python3.10/site-packages (from pandas->dgl) (2024.2)\r\n",
      "Requirement already satisfied: tzdata>=2022.7 in /opt/conda/envs/dgl-dev-cpu/lib/python3.10/site-packages (from pandas->dgl) (2024.2)\r\n",
      "Requirement already satisfied: six>=1.5 in /opt/conda/envs/dgl-dev-cpu/lib/python3.10/site-packages (from python-dateutil>=2.8.2->pandas->dgl) (1.16.0)\r\n",
      "Requirement already satisfied: filelock in /opt/conda/envs/dgl-dev-cpu/lib/python3.10/site-packages (from torch>=2->torchdata>=0.5.0->dgl) (3.16.1)\r\n",
      "Requirement already satisfied: typing-extensions in /opt/conda/envs/dgl-dev-cpu/lib/python3.10/site-packages (from torch>=2->torchdata>=0.5.0->dgl) (4.12.2)\r\n",
      "Requirement already satisfied: sympy in /opt/conda/envs/dgl-dev-cpu/lib/python3.10/site-packages (from torch>=2->torchdata>=0.5.0->dgl) (1.13.3)\r\n",
      "Requirement already satisfied: jinja2 in /opt/conda/envs/dgl-dev-cpu/lib/python3.10/site-packages (from torch>=2->torchdata>=0.5.0->dgl) (3.1.4)\r\n",
      "Requirement already satisfied: fsspec in /opt/conda/envs/dgl-dev-cpu/lib/python3.10/site-packages (from torch>=2->torchdata>=0.5.0->dgl) (2024.9.0)\r\n"
     ]
    },
    {
     "name": "stdout",
     "output_type": "stream",
     "text": [
      "Requirement already satisfied: MarkupSafe>=2.0 in /opt/conda/envs/dgl-dev-cpu/lib/python3.10/site-packages (from jinja2->torch>=2->torchdata>=0.5.0->dgl) (3.0.1)\r\n",
      "Requirement already satisfied: mpmath<1.4,>=1.1.0 in /opt/conda/envs/dgl-dev-cpu/lib/python3.10/site-packages (from sympy->torch>=2->torchdata>=0.5.0->dgl) (1.3.0)\r\n"
     ]
    },
    {
     "name": "stdout",
     "output_type": "stream",
     "text": [
      "\u001b[33mWARNING: Running pip as the 'root' user can result in broken permissions and conflicting behaviour with the system package manager, possibly rendering your system unusable.It is recommended to use a virtual environment instead: https://pip.pypa.io/warnings/venv. Use the --root-user-action option if you know what you are doing and want to suppress this warning.\u001b[0m\u001b[33m\r\n",
      "\u001b[0m"
     ]
    },
    {
     "name": "stdout",
     "output_type": "stream",
     "text": [
      "DGL installed!\n"
     ]
    }
   ],
   "source": [
    "# Install required packages.\n",
    "import os\n",
    "import torch\n",
    "import numpy as np\n",
    "os.environ['TORCH'] = torch.__version__\n",
    "os.environ['DGLBACKEND'] = \"pytorch\"\n",
    "\n",
    "# Install the CPU version.\n",
    "device = torch.device(\"cpu\")\n",
    "!pip install --pre dgl -f https://data.dgl.ai/wheels-test/repo.html\n",
    "\n",
    "try:\n",
    "    import dgl\n",
    "    import dgl.graphbolt as gb\n",
    "    installed = True\n",
    "except ImportError as error:\n",
    "    installed = False\n",
    "    print(error)\n",
    "print(\"DGL installed!\" if installed else \"DGL not found!\")"
   ]
  },
  {
   "cell_type": "markdown",
   "metadata": {
    "id": "2R7WnSbjsfbr"
   },
   "source": [
    "## Data preparation\n",
    "In order to demonstrate how to organize various data, let's create a base directory first."
   ]
  },
  {
   "cell_type": "code",
   "execution_count": 2,
   "metadata": {
    "execution": {
     "iopub.execute_input": "2024-10-12T14:06:42.977170Z",
     "iopub.status.busy": "2024-10-12T14:06:42.976495Z",
     "iopub.status.idle": "2024-10-12T14:06:42.981166Z",
     "shell.execute_reply": "2024-10-12T14:06:42.980529Z"
    },
    "id": "SZipbzyltLfO"
   },
   "outputs": [
    {
     "name": "stdout",
     "output_type": "stream",
     "text": [
      "Created base directory: ./ondisk_dataset_homograph\n"
     ]
    }
   ],
   "source": [
    "base_dir = './ondisk_dataset_homograph'\n",
    "os.makedirs(base_dir, exist_ok=True)\n",
    "print(f\"Created base directory: {base_dir}\")"
   ]
  },
  {
   "cell_type": "markdown",
   "metadata": {
    "id": "qhNtIn_xhlnl"
   },
   "source": [
    "### Generate graph structure data\n",
    "For homogeneous graph, we just need to save edges(namely seeds) into  **Numpy** or **CSV** file.\n",
    "\n",
    "Note:\n",
    "- when saving to **Numpy**, the array requires to be in shape of `(2, N)`. This format is recommended as constructing graph from it is much faster than **CSV** file.\n",
    "- when saving to **CSV** file, do not save index and header.\n"
   ]
  },
  {
   "cell_type": "code",
   "execution_count": 3,
   "metadata": {
    "execution": {
     "iopub.execute_input": "2024-10-12T14:06:42.983868Z",
     "iopub.status.busy": "2024-10-12T14:06:42.983673Z",
     "iopub.status.idle": "2024-10-12T14:06:42.996765Z",
     "shell.execute_reply": "2024-10-12T14:06:42.996058Z"
    },
    "id": "HcBt4G5BmSjr"
   },
   "outputs": [
    {
     "name": "stdout",
     "output_type": "stream",
     "text": [
      "Part of edges: [[ 20 352]\n",
      " [762 569]\n",
      " [513 107]\n",
      " [376 358]\n",
      " [510 435]]\n",
      "Edges are saved into ./ondisk_dataset_homograph/edges.csv\n"
     ]
    }
   ],
   "source": [
    "import numpy as np\n",
    "import pandas as pd\n",
    "num_nodes = 1000\n",
    "num_edges = 10 * num_nodes\n",
    "edges_path = os.path.join(base_dir, \"edges.csv\")\n",
    "edges = np.random.randint(0, num_nodes, size=(num_edges, 2))\n",
    "\n",
    "print(f\"Part of edges: {edges[:5, :]}\")\n",
    "\n",
    "df = pd.DataFrame(edges)\n",
    "df.to_csv(edges_path, index=False, header=False)\n",
    "\n",
    "print(f\"Edges are saved into {edges_path}\")"
   ]
  },
  {
   "cell_type": "markdown",
   "metadata": {
    "id": "kh-4cPtzpcaH"
   },
   "source": [
    "### Generate feature data for graph\n",
    "For feature data, numpy arrays and torch tensors are supported for now."
   ]
  },
  {
   "cell_type": "code",
   "execution_count": 4,
   "metadata": {
    "execution": {
     "iopub.execute_input": "2024-10-12T14:06:42.998965Z",
     "iopub.status.busy": "2024-10-12T14:06:42.998773Z",
     "iopub.status.idle": "2024-10-12T14:06:43.012202Z",
     "shell.execute_reply": "2024-10-12T14:06:43.011377Z"
    },
    "id": "_PVu1u5brBhF"
   },
   "outputs": [
    {
     "name": "stdout",
     "output_type": "stream",
     "text": [
      "Part of node feature [feat_0]: [[0.57014189 0.54521355 0.01453471 0.13874699 0.09991553]\n",
      " [0.35716563 0.36808089 0.5660251  0.91628668 0.31676133]\n",
      " [0.14012748 0.27354453 0.46048709 0.33380062 0.5876206 ]]\n",
      "Node feature [feat_0] is saved to ./ondisk_dataset_homograph/node-feat-0.npy\n",
      "\n",
      "Part of node feature [feat_1]: tensor([[0.0015, 0.8956, 0.4422, 0.3668, 0.7824],\n",
      "        [0.5471, 0.7865, 0.0843, 0.1768, 0.3090],\n",
      "        [0.9639, 0.7204, 0.8955, 0.7003, 0.2811]])\n",
      "Node feature [feat_1] is saved to ./ondisk_dataset_homograph/node-feat-1.pt\n",
      "\n",
      "Part of edge feature [feat_0]: [[0.8034844  0.93804369 0.31382801 0.84082779 0.66494915]\n",
      " [0.56221225 0.90522257 0.67424771 0.49851875 0.22139853]\n",
      " [0.37921552 0.2101357  0.3016012  0.09299598 0.63593697]]\n",
      "Edge feature [feat_0] is saved to ./ondisk_dataset_homograph/edge-feat-0.npy\n",
      "\n",
      "Part of edge feature [feat_1]: tensor([[0.9323, 0.7169, 0.7606, 0.0220, 0.5609],\n",
      "        [0.0131, 0.9921, 0.8116, 0.7457, 0.0502],\n",
      "        [0.8041, 0.5348, 0.8005, 0.8064, 0.5756]])\n",
      "Edge feature [feat_1] is saved to ./ondisk_dataset_homograph/edge-feat-1.pt\n",
      "\n"
     ]
    }
   ],
   "source": [
    "# Generate node feature in numpy array.\n",
    "node_feat_0_path = os.path.join(base_dir, \"node-feat-0.npy\")\n",
    "node_feat_0 = np.random.rand(num_nodes, 5)\n",
    "print(f\"Part of node feature [feat_0]: {node_feat_0[:3, :]}\")\n",
    "np.save(node_feat_0_path, node_feat_0)\n",
    "print(f\"Node feature [feat_0] is saved to {node_feat_0_path}\\n\")\n",
    "\n",
    "# Generate another node feature in torch tensor\n",
    "node_feat_1_path = os.path.join(base_dir, \"node-feat-1.pt\")\n",
    "node_feat_1 = torch.rand(num_nodes, 5)\n",
    "print(f\"Part of node feature [feat_1]: {node_feat_1[:3, :]}\")\n",
    "torch.save(node_feat_1, node_feat_1_path)\n",
    "print(f\"Node feature [feat_1] is saved to {node_feat_1_path}\\n\")\n",
    "\n",
    "# Generate edge feature in numpy array.\n",
    "edge_feat_0_path = os.path.join(base_dir, \"edge-feat-0.npy\")\n",
    "edge_feat_0 = np.random.rand(num_edges, 5)\n",
    "print(f\"Part of edge feature [feat_0]: {edge_feat_0[:3, :]}\")\n",
    "np.save(edge_feat_0_path, edge_feat_0)\n",
    "print(f\"Edge feature [feat_0] is saved to {edge_feat_0_path}\\n\")\n",
    "\n",
    "# Generate another edge feature in torch tensor\n",
    "edge_feat_1_path = os.path.join(base_dir, \"edge-feat-1.pt\")\n",
    "edge_feat_1 = torch.rand(num_edges, 5)\n",
    "print(f\"Part of edge feature [feat_1]: {edge_feat_1[:3, :]}\")\n",
    "torch.save(edge_feat_1, edge_feat_1_path)\n",
    "print(f\"Edge feature [feat_1] is saved to {edge_feat_1_path}\\n\")\n"
   ]
  },
  {
   "cell_type": "markdown",
   "metadata": {
    "id": "ZyqgOtsIwzh_"
   },
   "source": [
    "### Generate tasks\n",
    "`OnDiskDataset` supports multiple tasks. For each task, we need to prepare training/validation/test sets respectively. Such sets usually vary among different tasks. In this tutorial, let's create a **Node Classification** task and **Link Prediction** task."
   ]
  },
  {
   "cell_type": "markdown",
   "metadata": {
    "id": "hVxHaDIfzCkr"
   },
   "source": [
    "#### Node Classification Task\n",
    "For node classification task, we need **node IDs** and corresponding **labels** for each training/validation/test set. Like feature data, numpy arrays and torch tensors are supported for these sets."
   ]
  },
  {
   "cell_type": "code",
   "execution_count": 5,
   "metadata": {
    "execution": {
     "iopub.execute_input": "2024-10-12T14:06:43.014494Z",
     "iopub.status.busy": "2024-10-12T14:06:43.014013Z",
     "iopub.status.idle": "2024-10-12T14:06:43.025613Z",
     "shell.execute_reply": "2024-10-12T14:06:43.024903Z"
    },
    "id": "S5-fyBbHzTCO"
   },
   "outputs": [
    {
     "name": "stdout",
     "output_type": "stream",
     "text": [
      "Part of train ids for node classification: [252 259 249]\n",
      "NC train ids are saved to ./ondisk_dataset_homograph/nc-train-ids.npy\n",
      "\n",
      "Part of train labels for node classification: tensor([2, 3, 4])\n",
      "NC train labels are saved to ./ondisk_dataset_homograph/nc-train-labels.pt\n",
      "\n",
      "Part of val ids for node classification: [313 300 446]\n",
      "NC val ids are saved to ./ondisk_dataset_homograph/nc-val-ids.npy\n",
      "\n",
      "Part of val labels for node classification: tensor([8, 6, 2])\n",
      "NC val labels are saved to ./ondisk_dataset_homograph/nc-val-labels.pt\n",
      "\n",
      "Part of test ids for node classification: [292 266 326]\n",
      "NC test ids are saved to ./ondisk_dataset_homograph/nc-test-ids.npy\n",
      "\n",
      "Part of test labels for node classification: tensor([9, 8, 4])\n",
      "NC test labels are saved to ./ondisk_dataset_homograph/nc-test-labels.pt\n",
      "\n"
     ]
    }
   ],
   "source": [
    "num_trains = int(num_nodes * 0.6)\n",
    "num_vals = int(num_nodes * 0.2)\n",
    "num_tests = num_nodes - num_trains - num_vals\n",
    "\n",
    "ids = np.arange(num_nodes)\n",
    "np.random.shuffle(ids)\n",
    "\n",
    "nc_train_ids_path = os.path.join(base_dir, \"nc-train-ids.npy\")\n",
    "nc_train_ids = ids[:num_trains]\n",
    "print(f\"Part of train ids for node classification: {nc_train_ids[:3]}\")\n",
    "np.save(nc_train_ids_path, nc_train_ids)\n",
    "print(f\"NC train ids are saved to {nc_train_ids_path}\\n\")\n",
    "\n",
    "nc_train_labels_path = os.path.join(base_dir, \"nc-train-labels.pt\")\n",
    "nc_train_labels = torch.randint(0, 10, (num_trains,))\n",
    "print(f\"Part of train labels for node classification: {nc_train_labels[:3]}\")\n",
    "torch.save(nc_train_labels, nc_train_labels_path)\n",
    "print(f\"NC train labels are saved to {nc_train_labels_path}\\n\")\n",
    "\n",
    "nc_val_ids_path = os.path.join(base_dir, \"nc-val-ids.npy\")\n",
    "nc_val_ids = ids[num_trains:num_trains+num_vals]\n",
    "print(f\"Part of val ids for node classification: {nc_val_ids[:3]}\")\n",
    "np.save(nc_val_ids_path, nc_val_ids)\n",
    "print(f\"NC val ids are saved to {nc_val_ids_path}\\n\")\n",
    "\n",
    "nc_val_labels_path = os.path.join(base_dir, \"nc-val-labels.pt\")\n",
    "nc_val_labels = torch.randint(0, 10, (num_vals,))\n",
    "print(f\"Part of val labels for node classification: {nc_val_labels[:3]}\")\n",
    "torch.save(nc_val_labels, nc_val_labels_path)\n",
    "print(f\"NC val labels are saved to {nc_val_labels_path}\\n\")\n",
    "\n",
    "nc_test_ids_path = os.path.join(base_dir, \"nc-test-ids.npy\")\n",
    "nc_test_ids = ids[-num_tests:]\n",
    "print(f\"Part of test ids for node classification: {nc_test_ids[:3]}\")\n",
    "np.save(nc_test_ids_path, nc_test_ids)\n",
    "print(f\"NC test ids are saved to {nc_test_ids_path}\\n\")\n",
    "\n",
    "nc_test_labels_path = os.path.join(base_dir, \"nc-test-labels.pt\")\n",
    "nc_test_labels = torch.randint(0, 10, (num_tests,))\n",
    "print(f\"Part of test labels for node classification: {nc_test_labels[:3]}\")\n",
    "torch.save(nc_test_labels, nc_test_labels_path)\n",
    "print(f\"NC test labels are saved to {nc_test_labels_path}\\n\")"
   ]
  },
  {
   "cell_type": "markdown",
   "metadata": {
    "id": "LhAcDCHQ_KJ0"
   },
   "source": [
    "#### Link Prediction Task\n",
    "For link prediction task, we need **seeds** or **corresponding labels and indexes** which representing the pos/neg property and group of the seeds for each training/validation/test set. Like feature data, numpy arrays and torch tensors are supported for these sets."
   ]
  },
  {
   "cell_type": "code",
   "execution_count": 6,
   "metadata": {
    "execution": {
     "iopub.execute_input": "2024-10-12T14:06:43.027674Z",
     "iopub.status.busy": "2024-10-12T14:06:43.027302Z",
     "iopub.status.idle": "2024-10-12T14:06:43.044613Z",
     "shell.execute_reply": "2024-10-12T14:06:43.043883Z"
    },
    "id": "u0jCnXIcAQy4"
   },
   "outputs": [
    {
     "name": "stdout",
     "output_type": "stream",
     "text": [
      "Part of train seeds for link prediction: [[ 20 352]\n",
      " [762 569]\n",
      " [513 107]]\n",
      "LP train seeds are saved to ./ondisk_dataset_homograph/lp-train-seeds.npy\n",
      "\n",
      "Part of val seeds for link prediction: [[377   4]\n",
      " [211 149]\n",
      " [310 212]]\n",
      "LP val seeds are saved to ./ondisk_dataset_homograph/lp-val-seeds.npy\n",
      "\n",
      "Part of val labels for link prediction: [1. 1. 1.]\n",
      "LP val labels are saved to ./ondisk_dataset_homograph/lp-val-labels.npy\n",
      "\n",
      "Part of val indexes for link prediction: [0 1 2]\n",
      "LP val indexes are saved to ./ondisk_dataset_homograph/lp-val-indexes.npy\n",
      "\n",
      "Part of test seeds for link prediction: [[426  43]\n",
      " [590  26]\n",
      " [887 815]]\n",
      "LP test seeds are saved to ./ondisk_dataset_homograph/lp-test-seeds.npy\n",
      "\n",
      "Part of val labels for link prediction: [1. 1. 1.]\n",
      "LP test labels are saved to ./ondisk_dataset_homograph/lp-test-labels.npy\n",
      "\n",
      "Part of test indexes for link prediction: [0 1 2]\n",
      "LP test indexes are saved to ./ondisk_dataset_homograph/lp-test-indexes.npy\n",
      "\n"
     ]
    }
   ],
   "source": [
    "num_trains = int(num_edges * 0.6)\n",
    "num_vals = int(num_edges * 0.2)\n",
    "num_tests = num_edges - num_trains - num_vals\n",
    "\n",
    "lp_train_seeds_path = os.path.join(base_dir, \"lp-train-seeds.npy\")\n",
    "lp_train_seeds = edges[:num_trains, :]\n",
    "print(f\"Part of train seeds for link prediction: {lp_train_seeds[:3]}\")\n",
    "np.save(lp_train_seeds_path, lp_train_seeds)\n",
    "print(f\"LP train seeds are saved to {lp_train_seeds_path}\\n\")\n",
    "\n",
    "lp_val_seeds_path = os.path.join(base_dir, \"lp-val-seeds.npy\")\n",
    "lp_val_seeds = edges[num_trains:num_trains+num_vals, :]\n",
    "lp_val_neg_dsts = np.random.randint(0, num_nodes, (num_vals, 10)).reshape(-1)\n",
    "lp_val_neg_srcs = np.repeat(lp_val_seeds[:,0], 10)\n",
    "lp_val_neg_seeds = np.concatenate((lp_val_neg_srcs, lp_val_neg_dsts)).reshape(2,-1).T\n",
    "lp_val_seeds = np.concatenate((lp_val_seeds, lp_val_neg_seeds))\n",
    "print(f\"Part of val seeds for link prediction: {lp_val_seeds[:3]}\")\n",
    "np.save(lp_val_seeds_path, lp_val_seeds)\n",
    "print(f\"LP val seeds are saved to {lp_val_seeds_path}\\n\")\n",
    "\n",
    "lp_val_labels_path = os.path.join(base_dir, \"lp-val-labels.npy\")\n",
    "lp_val_labels = np.empty(num_vals * (10 + 1))\n",
    "lp_val_labels[:num_vals] = 1\n",
    "lp_val_labels[num_vals:] = 0\n",
    "print(f\"Part of val labels for link prediction: {lp_val_labels[:3]}\")\n",
    "np.save(lp_val_labels_path, lp_val_labels)\n",
    "print(f\"LP val labels are saved to {lp_val_labels_path}\\n\")\n",
    "\n",
    "lp_val_indexes_path = os.path.join(base_dir, \"lp-val-indexes.npy\")\n",
    "lp_val_indexes = np.arange(0, num_vals)\n",
    "lp_val_neg_indexes = np.repeat(lp_val_indexes, 10)\n",
    "lp_val_indexes = np.concatenate([lp_val_indexes, lp_val_neg_indexes])\n",
    "print(f\"Part of val indexes for link prediction: {lp_val_indexes[:3]}\")\n",
    "np.save(lp_val_indexes_path, lp_val_indexes)\n",
    "print(f\"LP val indexes are saved to {lp_val_indexes_path}\\n\")\n",
    "\n",
    "lp_test_seeds_path = os.path.join(base_dir, \"lp-test-seeds.npy\")\n",
    "lp_test_seeds = edges[-num_tests:, :]\n",
    "lp_test_neg_dsts = np.random.randint(0, num_nodes, (num_tests, 10)).reshape(-1)\n",
    "lp_test_neg_srcs = np.repeat(lp_test_seeds[:,0], 10)\n",
    "lp_test_neg_seeds = np.concatenate((lp_test_neg_srcs, lp_test_neg_dsts)).reshape(2,-1).T\n",
    "lp_test_seeds = np.concatenate((lp_test_seeds, lp_test_neg_seeds))\n",
    "print(f\"Part of test seeds for link prediction: {lp_test_seeds[:3]}\")\n",
    "np.save(lp_test_seeds_path, lp_test_seeds)\n",
    "print(f\"LP test seeds are saved to {lp_test_seeds_path}\\n\")\n",
    "\n",
    "lp_test_labels_path = os.path.join(base_dir, \"lp-test-labels.npy\")\n",
    "lp_test_labels = np.empty(num_tests * (10 + 1))\n",
    "lp_test_labels[:num_tests] = 1\n",
    "lp_test_labels[num_tests:] = 0\n",
    "print(f\"Part of val labels for link prediction: {lp_test_labels[:3]}\")\n",
    "np.save(lp_test_labels_path, lp_test_labels)\n",
    "print(f\"LP test labels are saved to {lp_test_labels_path}\\n\")\n",
    "\n",
    "lp_test_indexes_path = os.path.join(base_dir, \"lp-test-indexes.npy\")\n",
    "lp_test_indexes = np.arange(0, num_tests)\n",
    "lp_test_neg_indexes = np.repeat(lp_test_indexes, 10)\n",
    "lp_test_indexes = np.concatenate([lp_test_indexes, lp_test_neg_indexes])\n",
    "print(f\"Part of test indexes for link prediction: {lp_test_indexes[:3]}\")\n",
    "np.save(lp_test_indexes_path, lp_test_indexes)\n",
    "print(f\"LP test indexes are saved to {lp_test_indexes_path}\\n\")"
   ]
  },
  {
   "cell_type": "markdown",
   "metadata": {
    "id": "wbk6-wxRK-6S"
   },
   "source": [
    "## Organize Data into YAML File\n",
    "Now we need to create a `metadata.yaml` file which contains the paths, dadta types of graph structure, feature data, training/validation/test sets.\n",
    "\n",
    "Notes:\n",
    "- all path should be relative to `metadata.yaml`.\n",
    "- Below fields are optional and not specified in below example.\n",
    "  - `in_memory`: indicates whether to load dada into memory or `mmap`. Default is `True`.\n",
    "\n",
    "Please refer to [YAML specification](https://github.com/dmlc/dgl/blob/master/docs/source/stochastic_training/ondisk-dataset-specification.rst) for more details."
   ]
  },
  {
   "cell_type": "code",
   "execution_count": 7,
   "metadata": {
    "execution": {
     "iopub.execute_input": "2024-10-12T14:06:43.046710Z",
     "iopub.status.busy": "2024-10-12T14:06:43.046452Z",
     "iopub.status.idle": "2024-10-12T14:06:43.052742Z",
     "shell.execute_reply": "2024-10-12T14:06:43.052190Z"
    },
    "id": "ddGTWW61Lpwp"
   },
   "outputs": [],
   "source": [
    "yaml_content = f\"\"\"\n",
    "    dataset_name: homogeneous_graph_nc_lp\n",
    "    graph:\n",
    "      nodes:\n",
    "        - num: {num_nodes}\n",
    "      edges:\n",
    "        - format: csv\n",
    "          path: {os.path.basename(edges_path)}\n",
    "    feature_data:\n",
    "      - domain: node\n",
    "        name: feat_0\n",
    "        format: numpy\n",
    "        path: {os.path.basename(node_feat_0_path)}\n",
    "      - domain: node\n",
    "        name: feat_1\n",
    "        format: torch\n",
    "        path: {os.path.basename(node_feat_1_path)}\n",
    "      - domain: edge\n",
    "        name: feat_0\n",
    "        format: numpy\n",
    "        path: {os.path.basename(edge_feat_0_path)}\n",
    "      - domain: edge\n",
    "        name: feat_1\n",
    "        format: torch\n",
    "        path: {os.path.basename(edge_feat_1_path)}\n",
    "    tasks:\n",
    "      - name: node_classification\n",
    "        num_classes: 10\n",
    "        train_set:\n",
    "          - data:\n",
    "              - name: seeds\n",
    "                format: numpy\n",
    "                path: {os.path.basename(nc_train_ids_path)}\n",
    "              - name: labels\n",
    "                format: torch\n",
    "                path: {os.path.basename(nc_train_labels_path)}\n",
    "        validation_set:\n",
    "          - data:\n",
    "              - name: seeds\n",
    "                format: numpy\n",
    "                path: {os.path.basename(nc_val_ids_path)}\n",
    "              - name: labels\n",
    "                format: torch\n",
    "                path: {os.path.basename(nc_val_labels_path)}\n",
    "        test_set:\n",
    "          - data:\n",
    "              - name: seeds\n",
    "                format: numpy\n",
    "                path: {os.path.basename(nc_test_ids_path)}\n",
    "              - name: labels\n",
    "                format: torch\n",
    "                path: {os.path.basename(nc_test_labels_path)}\n",
    "      - name: link_prediction\n",
    "        num_classes: 10\n",
    "        train_set:\n",
    "          - data:\n",
    "              - name: seeds\n",
    "                format: numpy\n",
    "                path: {os.path.basename(lp_train_seeds_path)}\n",
    "        validation_set:\n",
    "          - data:\n",
    "              - name: seeds\n",
    "                format: numpy\n",
    "                path: {os.path.basename(lp_val_seeds_path)}\n",
    "              - name: labels\n",
    "                format: numpy\n",
    "                path: {os.path.basename(lp_val_labels_path)}\n",
    "              - name: indexes\n",
    "                format: numpy\n",
    "                path: {os.path.basename(lp_val_indexes_path)}\n",
    "        test_set:\n",
    "          - data:\n",
    "              - name: seeds\n",
    "                format: numpy\n",
    "                path: {os.path.basename(lp_test_seeds_path)}\n",
    "              - name: labels\n",
    "                format: numpy\n",
    "                path: {os.path.basename(lp_test_labels_path)}\n",
    "              - name: indexes\n",
    "                format: numpy\n",
    "                path: {os.path.basename(lp_test_indexes_path)}\n",
    "\"\"\"\n",
    "metadata_path = os.path.join(base_dir, \"metadata.yaml\")\n",
    "with open(metadata_path, \"w\") as f:\n",
    "  f.write(yaml_content)"
   ]
  },
  {
   "cell_type": "markdown",
   "metadata": {
    "id": "kEfybHGhOW7O"
   },
   "source": [
    "## Instantiate `OnDiskDataset`\n",
    "Now we're ready to load dataset via `dgl.graphbolt.OnDiskDataset`. When instantiating, we just pass in the base directory where `metadata.yaml` file lies.\n",
    "\n",
    "During first instantiation, GraphBolt preprocesses the raw data such as constructing `FusedCSCSamplingGraph` from edges. All data including graph, feature data, training/validation/test sets are put into `preprocessed` directory after preprocessing. Any following dataset loading will skip the preprocess stage.\n",
    "\n",
    "After preprocessing, `load()` is required to be called explicitly in order to load graph, feature data and tasks."
   ]
  },
  {
   "cell_type": "code",
   "execution_count": 8,
   "metadata": {
    "execution": {
     "iopub.execute_input": "2024-10-12T14:06:43.054449Z",
     "iopub.status.busy": "2024-10-12T14:06:43.054118Z",
     "iopub.status.idle": "2024-10-12T14:06:43.117688Z",
     "shell.execute_reply": "2024-10-12T14:06:43.117120Z"
    },
    "id": "W58CZoSzOiyo"
   },
   "outputs": [
    {
     "name": "stdout",
     "output_type": "stream",
     "text": [
      "Start to preprocess the on-disk dataset.\n",
      "Finish preprocessing the on-disk dataset.\n",
      "Loaded graph: FusedCSCSamplingGraph(csc_indptr=tensor([    0,     8,    16,  ...,  9982,  9993, 10000], dtype=torch.int32),\n",
      "                      indices=tensor([998, 462, 198,  ..., 913, 976, 831], dtype=torch.int32),\n",
      "                      total_num_nodes=1000, num_edges=10000,)\n",
      "\n",
      "Loaded feature store: TorchBasedFeatureStore(\n",
      "    {(<OnDiskFeatureDataDomain.NODE: 'node'>, None, 'feat_0'): TorchBasedFeature(\n",
      "        feature=tensor([[0.5701, 0.5452, 0.0145, 0.1387, 0.0999],\n",
      "                        [0.3572, 0.3681, 0.5660, 0.9163, 0.3168],\n",
      "                        [0.1401, 0.2735, 0.4605, 0.3338, 0.5876],\n",
      "                        ...,\n",
      "                        [0.0496, 0.4931, 0.5864, 0.1149, 0.1702],\n",
      "                        [0.0447, 0.3056, 0.7879, 0.3938, 0.7815],\n",
      "                        [0.3288, 0.5809, 0.6373, 0.1099, 0.9032]], dtype=torch.float64),\n",
      "        metadata={},\n",
      "    ), (<OnDiskFeatureDataDomain.NODE: 'node'>, None, 'feat_1'): TorchBasedFeature(\n",
      "        feature=tensor([[0.0015, 0.8956, 0.4422, 0.3668, 0.7824],\n",
      "                        [0.5471, 0.7865, 0.0843, 0.1768, 0.3090],\n",
      "                        [0.9639, 0.7204, 0.8955, 0.7003, 0.2811],\n",
      "                        ...,\n",
      "                        [0.3349, 0.8030, 0.6364, 0.4638, 0.8411],\n",
      "                        [0.5612, 0.4399, 0.6183, 0.3368, 0.9549],\n",
      "                        [0.1397, 0.2119, 0.8171, 0.0865, 0.7566]]),\n",
      "        metadata={},\n",
      "    ), (<OnDiskFeatureDataDomain.EDGE: 'edge'>, None, 'feat_0'): TorchBasedFeature(\n",
      "        feature=tensor([[0.8035, 0.9380, 0.3138, 0.8408, 0.6649],\n",
      "                        [0.5622, 0.9052, 0.6742, 0.4985, 0.2214],\n",
      "                        [0.3792, 0.2101, 0.3016, 0.0930, 0.6359],\n",
      "                        ...,\n",
      "                        [0.0595, 0.1943, 0.9984, 0.6223, 0.1643],\n",
      "                        [0.7553, 0.4852, 0.6670, 0.5018, 0.3300],\n",
      "                        [0.3459, 0.5022, 0.4591, 0.0314, 0.7803]], dtype=torch.float64),\n",
      "        metadata={},\n",
      "    ), (<OnDiskFeatureDataDomain.EDGE: 'edge'>, None, 'feat_1'): TorchBasedFeature(\n",
      "        feature=tensor([[0.9323, 0.7169, 0.7606, 0.0220, 0.5609],\n",
      "                        [0.0131, 0.9921, 0.8116, 0.7457, 0.0502],\n",
      "                        [0.8041, 0.5348, 0.8005, 0.8064, 0.5756],\n",
      "                        ...,\n",
      "                        [0.7798, 0.9368, 0.7245, 0.7185, 0.6581],\n",
      "                        [0.1689, 0.8331, 0.7573, 0.7140, 0.3714],\n",
      "                        [0.8983, 0.7856, 0.6869, 0.1201, 0.0720]]),\n",
      "        metadata={},\n",
      "    )}\n",
      ")\n",
      "\n",
      "Loaded node classification task: OnDiskTask(validation_set=ItemSet(\n",
      "               items=(tensor([313, 300, 446, 498, 847,  55, 376, 594, 700, 204, 837, 351, 509, 434,\n",
      "                   150, 829, 263, 115,   6, 732, 688, 794, 718, 331, 504, 670, 675, 552,\n",
      "                   450,  33, 430, 864, 180, 765, 362, 451, 224, 935, 717, 777,  41, 138,\n",
      "                   225, 597, 795, 785, 598, 692, 915, 530, 182,  88, 332, 406, 924, 936,\n",
      "                    22, 761, 548, 212, 503, 211, 925, 968, 799, 534, 677, 120, 858, 121,\n",
      "                    80, 602, 242, 499,  43, 656, 576, 349, 759, 612, 791, 963, 855, 486,\n",
      "                   488, 927, 888,  78, 683, 744, 325, 443, 764, 365,  92, 490, 280, 485,\n",
      "                   969, 587, 416, 714, 905, 705, 277, 118, 693, 880, 951, 388, 641, 477,\n",
      "                   996, 881, 585, 432, 221, 812, 736, 385, 660, 838, 873, 710, 550,  49,\n",
      "                   164,  28, 238, 205, 541, 497, 363, 817, 908, 125, 197, 584, 839, 309,\n",
      "                   739, 816, 132, 407,  40, 554, 161,  64, 998, 558, 220, 203, 991, 293,\n",
      "                   792, 444, 198, 872, 410, 680, 684, 445, 489, 862, 907, 667, 590, 894,\n",
      "                   879, 886,  25, 767, 619, 972, 535, 842, 746, 188, 267, 133, 933, 268,\n",
      "                    46, 413, 387,  31,  52, 441, 674,  21, 216, 339, 687, 691, 648, 975,\n",
      "                   557, 234, 302, 920], dtype=torch.int32), tensor([8, 6, 2, 8, 5, 8, 5, 5, 3, 0, 4, 4, 2, 8, 5, 8, 3, 3, 4, 9, 9, 9, 0, 7,\n",
      "                   0, 4, 8, 7, 4, 8, 5, 9, 0, 8, 9, 7, 5, 6, 1, 5, 6, 8, 6, 9, 2, 2, 7, 4,\n",
      "                   9, 0, 6, 5, 4, 8, 5, 1, 8, 5, 3, 3, 1, 1, 0, 6, 8, 4, 8, 2, 8, 4, 0, 7,\n",
      "                   5, 6, 8, 6, 4, 4, 9, 7, 7, 1, 8, 7, 6, 4, 0, 7, 7, 4, 1, 9, 5, 5, 3, 5,\n",
      "                   6, 0, 6, 7, 0, 8, 5, 7, 4, 1, 2, 7, 0, 3, 4, 3, 0, 4, 2, 0, 8, 6, 7, 0,\n",
      "                   8, 6, 7, 7, 0, 7, 3, 3, 6, 7, 6, 0, 4, 2, 2, 1, 6, 9, 9, 6, 8, 5, 0, 0,\n",
      "                   7, 5, 9, 1, 8, 7, 6, 7, 6, 1, 9, 0, 6, 7, 3, 3, 9, 3, 9, 9, 7, 8, 6, 2,\n",
      "                   3, 7, 0, 3, 5, 4, 7, 7, 7, 5, 6, 7, 0, 1, 5, 0, 6, 5, 0, 3, 9, 9, 6, 7,\n",
      "                   5, 6, 2, 8, 0, 5, 4, 7])),\n",
      "               names=('seeds', 'labels'),\n",
      "           ),\n",
      "           train_set=ItemSet(\n",
      "               items=(tensor([252, 259, 249, 681, 942, 622, 685, 966, 527, 793,  73, 568, 628, 495,\n",
      "                   482, 810,  42, 926, 214, 174, 431, 178, 487, 104, 638, 262, 347, 599,\n",
      "                   330, 860, 227, 874, 542, 318, 449, 171, 474, 233, 740, 394, 787, 230,\n",
      "                   283, 914, 715, 123, 340,  95, 105, 989, 973, 912, 574, 514,  50, 403,\n",
      "                    37,  81, 148, 570, 986, 654, 600, 741, 243, 307, 844, 916, 389, 167,\n",
      "                   102, 929,  86, 983, 128,  10,  83, 906, 465, 290, 976, 428, 857, 113,\n",
      "                   781, 426, 946, 556, 251, 790, 928,  94, 371, 940, 529, 878,  61, 505,\n",
      "                    36, 311, 578,  75, 502, 613, 355, 520,  11, 467, 784, 537, 245, 248,\n",
      "                   751, 893, 750,   4, 647, 261, 783, 544, 189, 458, 111,   2, 460, 754,\n",
      "                   149, 580, 422, 882, 415, 523, 632, 545, 386, 561, 392, 452, 231, 917,\n",
      "                   694,  90, 773, 335, 978, 284,  51, 609, 626, 892, 591, 808, 154,  47,\n",
      "                   187, 596, 139, 608, 834, 809, 397, 124, 658, 562, 796, 911,  67, 493,\n",
      "                   137, 358, 910, 863, 985, 871,  54, 822, 639, 179, 815, 169, 992, 368,\n",
      "                   827, 439, 671, 379, 356, 196, 666, 287, 769, 877, 780, 438,  30,   1,\n",
      "                   952, 447, 724, 850, 696, 573, 617, 738, 384, 106, 404, 716, 117, 100,\n",
      "                   621, 589, 163, 577, 635, 757, 246,  58, 475, 348, 645, 258, 898, 618,\n",
      "                   549, 676, 448, 903, 471, 270, 725, 823, 157, 254, 625, 990, 264, 531,\n",
      "                   813, 244, 402, 370, 614, 801, 709, 303, 378, 702, 417,   5, 957, 380,\n",
      "                   742, 518, 232, 828, 383, 923, 119, 381, 437, 938, 435, 459, 480, 567,\n",
      "                   517,  71, 592, 588, 440, 168, 735, 868, 814,  77, 395, 540, 800, 752,\n",
      "                   586, 141, 160, 405, 310, 250, 999, 152, 859, 240,  63,   9, 419, 279,\n",
      "                   943, 377, 766, 802, 199, 185, 508, 153, 345, 401, 320, 170, 145, 412,\n",
      "                   902, 939, 202, 306, 321, 491, 955, 836, 974, 958, 201, 760,  66, 699,\n",
      "                   971, 593, 114, 235, 627, 200, 932, 788, 159, 689, 582, 853, 852,  24,\n",
      "                    35, 256,  18, 547, 543, 869, 274, 158, 366, 110, 519, 208, 301, 334,\n",
      "                    82, 359, 885, 831, 870, 624, 664, 442,  16, 876, 634, 610,  84, 782,\n",
      "                   236, 595, 176, 959, 745, 173, 494,  85,  26, 730, 108,  99, 825, 833,\n",
      "                   811, 193, 343, 900, 429, 344, 352, 501, 708, 748, 564, 948, 424, 286,\n",
      "                   603, 726,  69, 722, 772, 272, 630, 856, 733, 140, 704, 181, 636, 420,\n",
      "                   364, 478, 265, 901, 637, 382, 506,  23, 103, 980, 337, 994, 239, 129,\n",
      "                   848, 779, 524, 217, 565, 175, 904,  15, 453, 500, 481, 294,  19,  70,\n",
      "                   172, 515, 273, 190, 433, 327, 470, 399, 223, 981, 454, 566, 661, 533,\n",
      "                    60, 468, 357, 583, 288, 127, 461, 798, 109, 755, 606,  91, 569, 269,\n",
      "                   398, 483, 559, 299, 763, 305, 775, 884, 156, 536, 427, 209,  93, 329,\n",
      "                    79, 644,  39, 616, 643, 151, 762, 177, 646, 575, 967, 522, 655, 297,\n",
      "                   806,  13, 623, 296, 308, 633, 130, 729, 830, 875, 142, 604,  96, 166,\n",
      "                   727, 977,  27, 846, 271, 668, 949, 659, 803, 707, 778, 241,   3, 512,\n",
      "                   247, 532, 721, 192, 947, 956, 776, 361, 712, 278, 126, 960, 797, 631,\n",
      "                   579, 425, 563, 122, 551,  14, 889, 213, 107, 737, 678, 970, 207, 144,\n",
      "                   984, 369, 835, 653,  87, 360, 342, 673,  17, 993, 525, 887, 374, 997,\n",
      "                   539, 749, 276,  20, 315, 934, 463, 753, 393, 367, 918,  44, 538, 961,\n",
      "                   328,  76, 219, 456, 462, 423, 818, 457, 937, 987, 526, 843,  29,   0,\n",
      "                   147, 965, 931, 411, 723, 662, 657, 375, 682, 101, 711,  59],\n",
      "                  dtype=torch.int32), tensor([2, 3, 4, 9, 2, 0, 0, 8, 4, 3, 1, 2, 0, 5, 6, 9, 4, 2, 4, 9, 3, 2, 5, 9,\n",
      "                   2, 2, 7, 3, 5, 4, 6, 4, 0, 6, 8, 0, 7, 2, 0, 3, 6, 0, 6, 2, 1, 1, 8, 3,\n",
      "                   8, 3, 4, 4, 3, 1, 5, 9, 2, 5, 2, 8, 8, 6, 6, 1, 7, 1, 6, 1, 5, 1, 6, 5,\n",
      "                   1, 5, 8, 8, 6, 7, 9, 8, 5, 6, 3, 1, 5, 3, 8, 9, 3, 3, 6, 7, 9, 2, 6, 6,\n",
      "                   1, 7, 1, 0, 6, 9, 7, 1, 5, 3, 6, 6, 9, 4, 9, 1, 3, 8, 8, 3, 9, 4, 2, 2,\n",
      "                   3, 4, 9, 1, 2, 2, 0, 8, 9, 9, 9, 4, 0, 9, 6, 0, 6, 2, 1, 5, 3, 2, 2, 2,\n",
      "                   1, 3, 2, 1, 2, 8, 6, 1, 6, 2, 2, 7, 0, 6, 5, 4, 0, 6, 0, 1, 2, 0, 3, 0,\n",
      "                   5, 5, 6, 4, 4, 0, 8, 9, 4, 2, 7, 9, 8, 9, 0, 0, 2, 2, 4, 0, 3, 8, 7, 0,\n",
      "                   8, 3, 9, 5, 1, 5, 0, 6, 7, 4, 5, 0, 3, 8, 2, 3, 0, 4, 7, 6, 8, 4, 0, 0,\n",
      "                   4, 8, 3, 8, 3, 0, 4, 0, 3, 8, 0, 6, 1, 9, 6, 0, 3, 2, 8, 4, 8, 7, 0, 8,\n",
      "                   8, 9, 0, 9, 5, 1, 7, 3, 3, 4, 1, 6, 2, 0, 4, 9, 8, 2, 3, 5, 6, 8, 4, 0,\n",
      "                   3, 1, 1, 8, 6, 8, 5, 9, 5, 2, 6, 4, 1, 9, 2, 4, 8, 0, 3, 9, 9, 6, 1, 2,\n",
      "                   3, 7, 0, 6, 7, 8, 3, 7, 6, 4, 6, 5, 3, 8, 4, 2, 8, 5, 0, 8, 6, 8, 5, 9,\n",
      "                   1, 5, 3, 5, 0, 3, 3, 0, 0, 1, 3, 3, 0, 6, 3, 9, 5, 7, 5, 3, 5, 2, 2, 7,\n",
      "                   0, 0, 7, 4, 3, 9, 1, 8, 8, 1, 1, 2, 3, 3, 6, 9, 3, 3, 4, 7, 3, 9, 6, 4,\n",
      "                   1, 3, 4, 0, 4, 7, 4, 2, 0, 5, 4, 9, 4, 1, 6, 0, 2, 1, 1, 2, 7, 7, 2, 3,\n",
      "                   6, 1, 6, 6, 9, 2, 9, 1, 8, 2, 5, 5, 9, 1, 7, 7, 4, 1, 0, 3, 5, 0, 8, 1,\n",
      "                   6, 9, 3, 9, 9, 2, 9, 4, 8, 4, 6, 1, 3, 0, 2, 3, 9, 2, 4, 5, 5, 9, 0, 1,\n",
      "                   8, 4, 1, 2, 9, 4, 6, 0, 8, 4, 4, 1, 0, 2, 4, 0, 4, 0, 1, 2, 2, 9, 5, 4,\n",
      "                   3, 8, 8, 4, 7, 8, 3, 5, 7, 0, 0, 4, 4, 9, 7, 9, 7, 0, 7, 7, 0, 9, 8, 7,\n",
      "                   7, 2, 2, 5, 6, 3, 8, 7, 5, 3, 3, 0, 9, 9, 1, 1, 1, 4, 8, 0, 4, 6, 8, 9,\n",
      "                   1, 7, 3, 0, 3, 2, 9, 6, 4, 0, 7, 1, 9, 3, 2, 8, 7, 3, 3, 7, 9, 7, 7, 5,\n",
      "                   6, 2, 0, 5, 2, 3, 5, 9, 0, 2, 9, 0, 2, 7, 1, 2, 2, 3, 3, 2, 0, 2, 3, 5,\n",
      "                   2, 1, 4, 5, 8, 2, 5, 5, 0, 6, 1, 8, 8, 9, 0, 4, 5, 8, 3, 6, 1, 9, 3, 8,\n",
      "                   9, 7, 1, 1, 6, 5, 2, 4, 9, 5, 3, 1, 9, 8, 7, 6, 2, 9, 6, 8, 8, 1, 6, 3])),\n",
      "               names=('seeds', 'labels'),\n",
      "           ),\n",
      "           test_set=ItemSet(\n",
      "               items=(tensor([292, 266, 326, 607, 560, 883, 650, 982, 895, 473, 756, 476,  56, 804,\n",
      "                   805, 298, 484, 832, 728, 954, 206, 421, 466, 731, 697, 195, 962, 228,\n",
      "                   513, 507,  98, 215, 663, 867, 194, 826,  62, 845, 734, 414,  48, 479,\n",
      "                   521, 913, 679, 131, 210, 774, 295, 571, 861, 134, 841, 819, 690, 747,\n",
      "                   988, 472, 866, 629, 649, 890,  34, 851,  12, 743,  97, 354, 686, 771,\n",
      "                   849, 672, 941,  53, 899, 511, 720, 312, 436, 229, 706, 651, 669, 652,\n",
      "                   341, 282, 222, 642, 289, 409, 528,  89, 455, 840, 510, 146, 396, 291,\n",
      "                   553, 555, 346, 155, 323, 611, 464, 116,  74, 665, 391, 620, 317, 945,\n",
      "                   496,  68, 770,   7, 373, 896, 891, 112, 701, 275, 601, 257, 640, 281,\n",
      "                   408, 979, 304, 944, 820, 143, 336, 183,   8, 713, 546, 995, 897, 605,\n",
      "                   919, 615,  65, 322, 964, 807, 572, 909, 226, 758, 353,  45, 338, 516,\n",
      "                   922, 921,  57, 135, 854, 191, 253, 162, 136, 930, 492, 165, 316, 953,\n",
      "                   400, 218, 319, 324, 469, 186, 950, 390, 789, 824, 581, 821, 237,  32,\n",
      "                   285, 865, 333,  38, 372, 260, 703, 418, 255, 350, 695, 786, 698, 719,\n",
      "                   314,  72, 184, 768], dtype=torch.int32), tensor([9, 8, 4, 0, 4, 6, 2, 9, 8, 4, 5, 9, 4, 2, 7, 8, 4, 2, 7, 2, 2, 9, 8, 2,\n",
      "                   1, 9, 9, 9, 2, 5, 7, 3, 2, 5, 1, 9, 0, 4, 1, 3, 8, 1, 6, 4, 3, 0, 9, 8,\n",
      "                   2, 6, 4, 8, 3, 2, 8, 3, 9, 7, 8, 8, 9, 6, 4, 7, 9, 6, 8, 8, 2, 6, 7, 0,\n",
      "                   4, 5, 4, 7, 9, 5, 5, 1, 6, 8, 0, 8, 1, 2, 5, 1, 8, 9, 1, 9, 2, 3, 2, 5,\n",
      "                   5, 8, 7, 9, 8, 3, 2, 9, 4, 7, 8, 0, 9, 1, 9, 3, 3, 1, 2, 2, 8, 7, 3, 5,\n",
      "                   1, 2, 5, 3, 5, 0, 7, 0, 6, 1, 7, 6, 8, 6, 6, 8, 2, 5, 8, 8, 6, 8, 9, 3,\n",
      "                   7, 0, 8, 3, 3, 8, 4, 0, 7, 6, 3, 4, 1, 2, 8, 3, 5, 7, 5, 3, 2, 5, 9, 8,\n",
      "                   5, 3, 9, 5, 5, 1, 8, 9, 3, 1, 1, 0, 0, 2, 4, 7, 8, 2, 7, 9, 5, 8, 0, 2,\n",
      "                   3, 6, 5, 5, 1, 8, 3, 6])),\n",
      "               names=('seeds', 'labels'),\n",
      "           ),\n",
      "           metadata={'name': 'node_classification', 'num_classes': 10},)\n",
      "\n",
      "Loaded link prediction task: OnDiskTask(validation_set=ItemSet(\n",
      "               items=(tensor([[377,   4],\n",
      "                   [211, 149],\n",
      "                   [310, 212],\n",
      "                   ...,\n",
      "                   [529, 723],\n",
      "                   [529, 523],\n",
      "                   [529, 724]], dtype=torch.int32), tensor([1., 1., 1.,  ..., 0., 0., 0.], dtype=torch.float64), tensor([   0,    1,    2,  ..., 1999, 1999, 1999])),\n",
      "               names=('seeds', 'labels', 'indexes'),\n",
      "           ),\n",
      "           train_set=ItemSet(\n",
      "               items=(tensor([[ 20, 352],\n",
      "                   [762, 569],\n",
      "                   [513, 107],\n",
      "                   ...,\n",
      "                   [ 55, 364],\n",
      "                   [202, 609],\n",
      "                   [354, 727]], dtype=torch.int32),),\n",
      "               names=('seeds',),\n",
      "           ),\n",
      "           test_set=ItemSet(\n",
      "               items=(tensor([[426,  43],\n",
      "                   [590,  26],\n",
      "                   [887, 815],\n",
      "                   ...,\n",
      "                   [  0,  53],\n",
      "                   [  0, 387],\n",
      "                   [  0, 752]], dtype=torch.int32), tensor([1., 1., 1.,  ..., 0., 0., 0.], dtype=torch.float64), tensor([   0,    1,    2,  ..., 1999, 1999, 1999])),\n",
      "               names=('seeds', 'labels', 'indexes'),\n",
      "           ),\n",
      "           metadata={'name': 'link_prediction', 'num_classes': 10},)\n",
      "\n"
     ]
    },
    {
     "name": "stderr",
     "output_type": "stream",
     "text": [
      "/dgl/python/dgl/graphbolt/impl/ondisk_dataset.py:463: GBWarning: Edge feature is stored, but edge IDs are not saved.\n",
      "  gb_warning(\"Edge feature is stored, but edge IDs are not saved.\")\n"
     ]
    }
   ],
   "source": [
    "dataset = gb.OnDiskDataset(base_dir).load()\n",
    "graph = dataset.graph\n",
    "print(f\"Loaded graph: {graph}\\n\")\n",
    "\n",
    "feature = dataset.feature\n",
    "print(f\"Loaded feature store: {feature}\\n\")\n",
    "\n",
    "tasks = dataset.tasks\n",
    "nc_task = tasks[0]\n",
    "print(f\"Loaded node classification task: {nc_task}\\n\")\n",
    "lp_task = tasks[1]\n",
    "print(f\"Loaded link prediction task: {lp_task}\\n\")"
   ]
  }
 ],
 "metadata": {
  "colab": {
   "private_outputs": true,
   "provenance": []
  },
  "kernelspec": {
   "display_name": "Python 3",
   "name": "python3"
  },
  "language_info": {
   "codemirror_mode": {
    "name": "ipython",
    "version": 3
   },
   "file_extension": ".py",
   "mimetype": "text/x-python",
   "name": "python",
   "nbconvert_exporter": "python",
   "pygments_lexer": "ipython3",
   "version": "3.10.15"
  }
 },
 "nbformat": 4,
 "nbformat_minor": 0
}

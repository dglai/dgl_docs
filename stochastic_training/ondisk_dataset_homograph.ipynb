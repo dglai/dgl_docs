{
 "cells": [
  {
   "cell_type": "markdown",
   "metadata": {
    "id": "FnFhPMaAfLtJ"
   },
   "source": [
    "# OnDiskDataset for Homogeneous Graph\n",
    "\n",
    "[![Open In Colab](https://colab.research.google.com/assets/colab-badge.svg)](https://colab.research.google.com/github/dmlc/dgl/blob/master/notebooks/stochastic_training/ondisk_dataset_homograph.ipynb) [![GitHub](https://img.shields.io/badge/-View%20on%20GitHub-181717?logo=github&logoColor=ffffff)](https://github.com/dmlc/dgl/blob/master/notebooks/stochastic_training/ondisk_dataset_homograph.ipynb)\n",
    "\n",
    "This tutorial shows how to create `OnDiskDataset` for homogeneous graph that could be used in **GraphBolt** framework.\n",
    "\n",
    "By the end of this tutorial, you will be able to\n",
    "\n",
    "- organize graph structure data.\n",
    "- organize feature data.\n",
    "- organize training/validation/test set for specific tasks.\n",
    "\n",
    "To create an ``OnDiskDataset`` object, you need to organize all the data including graph structure, feature data and tasks into a directory. The directory should contain a ``metadata.yaml`` file that describes the metadata of the dataset.\n",
    "\n",
    "Now let's generate various data step by step and organize them together to instantiate `OnDiskDataset` finally."
   ]
  },
  {
   "cell_type": "markdown",
   "metadata": {
    "id": "Wlb19DtWgtzq"
   },
   "source": [
    "## Install DGL package"
   ]
  },
  {
   "cell_type": "code",
   "execution_count": 1,
   "metadata": {
    "execution": {
     "iopub.execute_input": "2024-09-25T13:21:14.176704Z",
     "iopub.status.busy": "2024-09-25T13:21:14.176184Z",
     "iopub.status.idle": "2024-09-25T13:21:17.203001Z",
     "shell.execute_reply": "2024-09-25T13:21:17.201982Z"
    },
    "id": "UojlT9ZGgyr9"
   },
   "outputs": [
    {
     "name": "stdout",
     "output_type": "stream",
     "text": [
      "Looking in links: https://data.dgl.ai/wheels-test/repo.html\r\n",
      "Requirement already satisfied: dgl in /opt/conda/envs/dgl-dev-cpu/lib/python3.10/site-packages (2.2a240410)\r\n",
      "Requirement already satisfied: numpy>=1.14.0 in /opt/conda/envs/dgl-dev-cpu/lib/python3.10/site-packages (from dgl) (1.26.4)\r\n",
      "Requirement already satisfied: scipy>=1.1.0 in /opt/conda/envs/dgl-dev-cpu/lib/python3.10/site-packages (from dgl) (1.14.1)\r\n",
      "Requirement already satisfied: networkx>=2.1 in /opt/conda/envs/dgl-dev-cpu/lib/python3.10/site-packages (from dgl) (3.3)\r\n",
      "Requirement already satisfied: requests>=2.19.0 in /opt/conda/envs/dgl-dev-cpu/lib/python3.10/site-packages (from dgl) (2.32.3)\r\n",
      "Requirement already satisfied: tqdm in /opt/conda/envs/dgl-dev-cpu/lib/python3.10/site-packages (from dgl) (4.66.5)\r\n",
      "Requirement already satisfied: psutil>=5.8.0 in /opt/conda/envs/dgl-dev-cpu/lib/python3.10/site-packages (from dgl) (6.0.0)\r\n",
      "Requirement already satisfied: torchdata>=0.5.0 in /opt/conda/envs/dgl-dev-cpu/lib/python3.10/site-packages (from dgl) (0.8.0)\r\n",
      "Requirement already satisfied: pandas in /opt/conda/envs/dgl-dev-cpu/lib/python3.10/site-packages (from dgl) (2.2.3)\r\n"
     ]
    },
    {
     "name": "stdout",
     "output_type": "stream",
     "text": [
      "Requirement already satisfied: charset-normalizer<4,>=2 in /opt/conda/envs/dgl-dev-cpu/lib/python3.10/site-packages (from requests>=2.19.0->dgl) (3.3.2)\r\n",
      "Requirement already satisfied: idna<4,>=2.5 in /opt/conda/envs/dgl-dev-cpu/lib/python3.10/site-packages (from requests>=2.19.0->dgl) (3.10)\r\n",
      "Requirement already satisfied: urllib3<3,>=1.21.1 in /opt/conda/envs/dgl-dev-cpu/lib/python3.10/site-packages (from requests>=2.19.0->dgl) (2.2.3)\r\n",
      "Requirement already satisfied: certifi>=2017.4.17 in /opt/conda/envs/dgl-dev-cpu/lib/python3.10/site-packages (from requests>=2.19.0->dgl) (2024.8.30)\r\n",
      "Requirement already satisfied: torch>=2 in /opt/conda/envs/dgl-dev-cpu/lib/python3.10/site-packages (from torchdata>=0.5.0->dgl) (2.1.0+cpu)\r\n"
     ]
    },
    {
     "name": "stdout",
     "output_type": "stream",
     "text": [
      "Requirement already satisfied: python-dateutil>=2.8.2 in /opt/conda/envs/dgl-dev-cpu/lib/python3.10/site-packages (from pandas->dgl) (2.9.0.post0)\r\n",
      "Requirement already satisfied: pytz>=2020.1 in /opt/conda/envs/dgl-dev-cpu/lib/python3.10/site-packages (from pandas->dgl) (2024.2)\r\n",
      "Requirement already satisfied: tzdata>=2022.7 in /opt/conda/envs/dgl-dev-cpu/lib/python3.10/site-packages (from pandas->dgl) (2024.2)\r\n",
      "Requirement already satisfied: six>=1.5 in /opt/conda/envs/dgl-dev-cpu/lib/python3.10/site-packages (from python-dateutil>=2.8.2->pandas->dgl) (1.16.0)\r\n",
      "Requirement already satisfied: filelock in /opt/conda/envs/dgl-dev-cpu/lib/python3.10/site-packages (from torch>=2->torchdata>=0.5.0->dgl) (3.16.1)\r\n",
      "Requirement already satisfied: typing-extensions in /opt/conda/envs/dgl-dev-cpu/lib/python3.10/site-packages (from torch>=2->torchdata>=0.5.0->dgl) (4.12.2)\r\n",
      "Requirement already satisfied: sympy in /opt/conda/envs/dgl-dev-cpu/lib/python3.10/site-packages (from torch>=2->torchdata>=0.5.0->dgl) (1.13.3)\r\n",
      "Requirement already satisfied: jinja2 in /opt/conda/envs/dgl-dev-cpu/lib/python3.10/site-packages (from torch>=2->torchdata>=0.5.0->dgl) (3.1.4)\r\n",
      "Requirement already satisfied: fsspec in /opt/conda/envs/dgl-dev-cpu/lib/python3.10/site-packages (from torch>=2->torchdata>=0.5.0->dgl) (2024.9.0)\r\n"
     ]
    },
    {
     "name": "stdout",
     "output_type": "stream",
     "text": [
      "Requirement already satisfied: MarkupSafe>=2.0 in /opt/conda/envs/dgl-dev-cpu/lib/python3.10/site-packages (from jinja2->torch>=2->torchdata>=0.5.0->dgl) (2.1.5)\r\n",
      "Requirement already satisfied: mpmath<1.4,>=1.1.0 in /opt/conda/envs/dgl-dev-cpu/lib/python3.10/site-packages (from sympy->torch>=2->torchdata>=0.5.0->dgl) (1.3.0)\r\n"
     ]
    },
    {
     "name": "stdout",
     "output_type": "stream",
     "text": [
      "\u001b[33mWARNING: Running pip as the 'root' user can result in broken permissions and conflicting behaviour with the system package manager, possibly rendering your system unusable.It is recommended to use a virtual environment instead: https://pip.pypa.io/warnings/venv. Use the --root-user-action option if you know what you are doing and want to suppress this warning.\u001b[0m\u001b[33m\r\n",
      "\u001b[0m"
     ]
    },
    {
     "name": "stdout",
     "output_type": "stream",
     "text": [
      "DGL installed!\n"
     ]
    }
   ],
   "source": [
    "# Install required packages.\n",
    "import os\n",
    "import torch\n",
    "import numpy as np\n",
    "os.environ['TORCH'] = torch.__version__\n",
    "os.environ['DGLBACKEND'] = \"pytorch\"\n",
    "\n",
    "# Install the CPU version.\n",
    "device = torch.device(\"cpu\")\n",
    "!pip install --pre dgl -f https://data.dgl.ai/wheels-test/repo.html\n",
    "\n",
    "try:\n",
    "    import dgl\n",
    "    import dgl.graphbolt as gb\n",
    "    installed = True\n",
    "except ImportError as error:\n",
    "    installed = False\n",
    "    print(error)\n",
    "print(\"DGL installed!\" if installed else \"DGL not found!\")"
   ]
  },
  {
   "cell_type": "markdown",
   "metadata": {
    "id": "2R7WnSbjsfbr"
   },
   "source": [
    "## Data preparation\n",
    "In order to demonstrate how to organize various data, let's create a base directory first."
   ]
  },
  {
   "cell_type": "code",
   "execution_count": 2,
   "metadata": {
    "execution": {
     "iopub.execute_input": "2024-09-25T13:21:17.205897Z",
     "iopub.status.busy": "2024-09-25T13:21:17.205270Z",
     "iopub.status.idle": "2024-09-25T13:21:17.210967Z",
     "shell.execute_reply": "2024-09-25T13:21:17.209869Z"
    },
    "id": "SZipbzyltLfO"
   },
   "outputs": [
    {
     "name": "stdout",
     "output_type": "stream",
     "text": [
      "Created base directory: ./ondisk_dataset_homograph\n"
     ]
    }
   ],
   "source": [
    "base_dir = './ondisk_dataset_homograph'\n",
    "os.makedirs(base_dir, exist_ok=True)\n",
    "print(f\"Created base directory: {base_dir}\")"
   ]
  },
  {
   "cell_type": "markdown",
   "metadata": {
    "id": "qhNtIn_xhlnl"
   },
   "source": [
    "### Generate graph structure data\n",
    "For homogeneous graph, we just need to save edges(namely seeds) into  **Numpy** or **CSV** file.\n",
    "\n",
    "Note:\n",
    "- when saving to **Numpy**, the array requires to be in shape of `(2, N)`. This format is recommended as constructing graph from it is much faster than **CSV** file.\n",
    "- when saving to **CSV** file, do not save index and header.\n"
   ]
  },
  {
   "cell_type": "code",
   "execution_count": 3,
   "metadata": {
    "execution": {
     "iopub.execute_input": "2024-09-25T13:21:17.213626Z",
     "iopub.status.busy": "2024-09-25T13:21:17.213052Z",
     "iopub.status.idle": "2024-09-25T13:21:17.227059Z",
     "shell.execute_reply": "2024-09-25T13:21:17.226135Z"
    },
    "id": "HcBt4G5BmSjr"
   },
   "outputs": [
    {
     "name": "stdout",
     "output_type": "stream",
     "text": [
      "Part of edges: [[197 227]\n",
      " [538 453]\n",
      " [359 294]\n",
      " [ 10 826]\n",
      " [642 465]]\n",
      "Edges are saved into ./ondisk_dataset_homograph/edges.csv\n"
     ]
    }
   ],
   "source": [
    "import numpy as np\n",
    "import pandas as pd\n",
    "num_nodes = 1000\n",
    "num_edges = 10 * num_nodes\n",
    "edges_path = os.path.join(base_dir, \"edges.csv\")\n",
    "edges = np.random.randint(0, num_nodes, size=(num_edges, 2))\n",
    "\n",
    "print(f\"Part of edges: {edges[:5, :]}\")\n",
    "\n",
    "df = pd.DataFrame(edges)\n",
    "df.to_csv(edges_path, index=False, header=False)\n",
    "\n",
    "print(f\"Edges are saved into {edges_path}\")"
   ]
  },
  {
   "cell_type": "markdown",
   "metadata": {
    "id": "kh-4cPtzpcaH"
   },
   "source": [
    "### Generate feature data for graph\n",
    "For feature data, numpy arrays and torch tensors are supported for now."
   ]
  },
  {
   "cell_type": "code",
   "execution_count": 4,
   "metadata": {
    "execution": {
     "iopub.execute_input": "2024-09-25T13:21:17.229437Z",
     "iopub.status.busy": "2024-09-25T13:21:17.229106Z",
     "iopub.status.idle": "2024-09-25T13:21:17.248498Z",
     "shell.execute_reply": "2024-09-25T13:21:17.247477Z"
    },
    "id": "_PVu1u5brBhF"
   },
   "outputs": [
    {
     "name": "stdout",
     "output_type": "stream",
     "text": [
      "Part of node feature [feat_0]: [[0.57857631 0.78419339 0.03612611 0.97195879 0.32103063]\n",
      " [0.13190817 0.61031836 0.67082437 0.39765591 0.72111202]\n",
      " [0.93768959 0.41242728 0.40128977 0.72602932 0.87476433]]\n",
      "Node feature [feat_0] is saved to ./ondisk_dataset_homograph/node-feat-0.npy\n",
      "\n",
      "Part of node feature [feat_1]: tensor([[0.2732, 0.7841, 0.6256, 0.0829, 0.1173],\n",
      "        [0.6678, 0.4028, 0.9240, 0.9195, 0.1085],\n",
      "        [0.4771, 0.3777, 0.8807, 0.2287, 0.3146]])\n",
      "Node feature [feat_1] is saved to ./ondisk_dataset_homograph/node-feat-1.pt\n",
      "\n",
      "Part of edge feature [feat_0]: [[0.38816306 0.41033558 0.1326777  0.9457812  0.86375493]\n",
      " [0.30764813 0.82736265 0.6982578  0.48983656 0.4883794 ]\n",
      " [0.8108398  0.03057518 0.04403115 0.43053956 0.73036238]]\n",
      "Edge feature [feat_0] is saved to ./ondisk_dataset_homograph/edge-feat-0.npy\n",
      "\n",
      "Part of edge feature [feat_1]: tensor([[0.4422, 0.5071, 0.5512, 0.5094, 0.7818],\n",
      "        [0.9389, 0.6485, 0.5269, 0.8004, 0.8857],\n",
      "        [0.7052, 0.9705, 0.9362, 0.2709, 0.6186]])\n",
      "Edge feature [feat_1] is saved to ./ondisk_dataset_homograph/edge-feat-1.pt\n",
      "\n"
     ]
    }
   ],
   "source": [
    "# Generate node feature in numpy array.\n",
    "node_feat_0_path = os.path.join(base_dir, \"node-feat-0.npy\")\n",
    "node_feat_0 = np.random.rand(num_nodes, 5)\n",
    "print(f\"Part of node feature [feat_0]: {node_feat_0[:3, :]}\")\n",
    "np.save(node_feat_0_path, node_feat_0)\n",
    "print(f\"Node feature [feat_0] is saved to {node_feat_0_path}\\n\")\n",
    "\n",
    "# Generate another node feature in torch tensor\n",
    "node_feat_1_path = os.path.join(base_dir, \"node-feat-1.pt\")\n",
    "node_feat_1 = torch.rand(num_nodes, 5)\n",
    "print(f\"Part of node feature [feat_1]: {node_feat_1[:3, :]}\")\n",
    "torch.save(node_feat_1, node_feat_1_path)\n",
    "print(f\"Node feature [feat_1] is saved to {node_feat_1_path}\\n\")\n",
    "\n",
    "# Generate edge feature in numpy array.\n",
    "edge_feat_0_path = os.path.join(base_dir, \"edge-feat-0.npy\")\n",
    "edge_feat_0 = np.random.rand(num_edges, 5)\n",
    "print(f\"Part of edge feature [feat_0]: {edge_feat_0[:3, :]}\")\n",
    "np.save(edge_feat_0_path, edge_feat_0)\n",
    "print(f\"Edge feature [feat_0] is saved to {edge_feat_0_path}\\n\")\n",
    "\n",
    "# Generate another edge feature in torch tensor\n",
    "edge_feat_1_path = os.path.join(base_dir, \"edge-feat-1.pt\")\n",
    "edge_feat_1 = torch.rand(num_edges, 5)\n",
    "print(f\"Part of edge feature [feat_1]: {edge_feat_1[:3, :]}\")\n",
    "torch.save(edge_feat_1, edge_feat_1_path)\n",
    "print(f\"Edge feature [feat_1] is saved to {edge_feat_1_path}\\n\")\n"
   ]
  },
  {
   "cell_type": "markdown",
   "metadata": {
    "id": "ZyqgOtsIwzh_"
   },
   "source": [
    "### Generate tasks\n",
    "`OnDiskDataset` supports multiple tasks. For each task, we need to prepare training/validation/test sets respectively. Such sets usually vary among different tasks. In this tutorial, let's create a **Node Classification** task and **Link Prediction** task."
   ]
  },
  {
   "cell_type": "markdown",
   "metadata": {
    "id": "hVxHaDIfzCkr"
   },
   "source": [
    "#### Node Classification Task\n",
    "For node classification task, we need **node IDs** and corresponding **labels** for each training/validation/test set. Like feature data, numpy arrays and torch tensors are supported for these sets."
   ]
  },
  {
   "cell_type": "code",
   "execution_count": 5,
   "metadata": {
    "execution": {
     "iopub.execute_input": "2024-09-25T13:21:17.250898Z",
     "iopub.status.busy": "2024-09-25T13:21:17.250491Z",
     "iopub.status.idle": "2024-09-25T13:21:17.262302Z",
     "shell.execute_reply": "2024-09-25T13:21:17.261431Z"
    },
    "id": "S5-fyBbHzTCO"
   },
   "outputs": [
    {
     "name": "stdout",
     "output_type": "stream",
     "text": [
      "Part of train ids for node classification: [750 768 156]\n",
      "NC train ids are saved to ./ondisk_dataset_homograph/nc-train-ids.npy\n",
      "\n",
      "Part of train labels for node classification: tensor([2, 0, 3])\n",
      "NC train labels are saved to ./ondisk_dataset_homograph/nc-train-labels.pt\n",
      "\n",
      "Part of val ids for node classification: [262 598  12]\n",
      "NC val ids are saved to ./ondisk_dataset_homograph/nc-val-ids.npy\n",
      "\n",
      "Part of val labels for node classification: tensor([4, 3, 3])\n",
      "NC val labels are saved to ./ondisk_dataset_homograph/nc-val-labels.pt\n",
      "\n",
      "Part of test ids for node classification: [241 422 500]\n",
      "NC test ids are saved to ./ondisk_dataset_homograph/nc-test-ids.npy\n",
      "\n",
      "Part of test labels for node classification: tensor([3, 9, 5])\n",
      "NC test labels are saved to ./ondisk_dataset_homograph/nc-test-labels.pt\n",
      "\n"
     ]
    }
   ],
   "source": [
    "num_trains = int(num_nodes * 0.6)\n",
    "num_vals = int(num_nodes * 0.2)\n",
    "num_tests = num_nodes - num_trains - num_vals\n",
    "\n",
    "ids = np.arange(num_nodes)\n",
    "np.random.shuffle(ids)\n",
    "\n",
    "nc_train_ids_path = os.path.join(base_dir, \"nc-train-ids.npy\")\n",
    "nc_train_ids = ids[:num_trains]\n",
    "print(f\"Part of train ids for node classification: {nc_train_ids[:3]}\")\n",
    "np.save(nc_train_ids_path, nc_train_ids)\n",
    "print(f\"NC train ids are saved to {nc_train_ids_path}\\n\")\n",
    "\n",
    "nc_train_labels_path = os.path.join(base_dir, \"nc-train-labels.pt\")\n",
    "nc_train_labels = torch.randint(0, 10, (num_trains,))\n",
    "print(f\"Part of train labels for node classification: {nc_train_labels[:3]}\")\n",
    "torch.save(nc_train_labels, nc_train_labels_path)\n",
    "print(f\"NC train labels are saved to {nc_train_labels_path}\\n\")\n",
    "\n",
    "nc_val_ids_path = os.path.join(base_dir, \"nc-val-ids.npy\")\n",
    "nc_val_ids = ids[num_trains:num_trains+num_vals]\n",
    "print(f\"Part of val ids for node classification: {nc_val_ids[:3]}\")\n",
    "np.save(nc_val_ids_path, nc_val_ids)\n",
    "print(f\"NC val ids are saved to {nc_val_ids_path}\\n\")\n",
    "\n",
    "nc_val_labels_path = os.path.join(base_dir, \"nc-val-labels.pt\")\n",
    "nc_val_labels = torch.randint(0, 10, (num_vals,))\n",
    "print(f\"Part of val labels for node classification: {nc_val_labels[:3]}\")\n",
    "torch.save(nc_val_labels, nc_val_labels_path)\n",
    "print(f\"NC val labels are saved to {nc_val_labels_path}\\n\")\n",
    "\n",
    "nc_test_ids_path = os.path.join(base_dir, \"nc-test-ids.npy\")\n",
    "nc_test_ids = ids[-num_tests:]\n",
    "print(f\"Part of test ids for node classification: {nc_test_ids[:3]}\")\n",
    "np.save(nc_test_ids_path, nc_test_ids)\n",
    "print(f\"NC test ids are saved to {nc_test_ids_path}\\n\")\n",
    "\n",
    "nc_test_labels_path = os.path.join(base_dir, \"nc-test-labels.pt\")\n",
    "nc_test_labels = torch.randint(0, 10, (num_tests,))\n",
    "print(f\"Part of test labels for node classification: {nc_test_labels[:3]}\")\n",
    "torch.save(nc_test_labels, nc_test_labels_path)\n",
    "print(f\"NC test labels are saved to {nc_test_labels_path}\\n\")"
   ]
  },
  {
   "cell_type": "markdown",
   "metadata": {
    "id": "LhAcDCHQ_KJ0"
   },
   "source": [
    "#### Link Prediction Task\n",
    "For link prediction task, we need **seeds** or **corresponding labels and indexes** which representing the pos/neg property and group of the seeds for each training/validation/test set. Like feature data, numpy arrays and torch tensors are supported for these sets."
   ]
  },
  {
   "cell_type": "code",
   "execution_count": 6,
   "metadata": {
    "execution": {
     "iopub.execute_input": "2024-09-25T13:21:17.264498Z",
     "iopub.status.busy": "2024-09-25T13:21:17.264302Z",
     "iopub.status.idle": "2024-09-25T13:21:17.282805Z",
     "shell.execute_reply": "2024-09-25T13:21:17.281884Z"
    },
    "id": "u0jCnXIcAQy4"
   },
   "outputs": [
    {
     "name": "stdout",
     "output_type": "stream",
     "text": [
      "Part of train seeds for link prediction: [[197 227]\n",
      " [538 453]\n",
      " [359 294]]\n",
      "LP train seeds are saved to ./ondisk_dataset_homograph/lp-train-seeds.npy\n",
      "\n",
      "Part of val seeds for link prediction: [[754 707]\n",
      " [972 837]\n",
      " [300 263]]\n",
      "LP val seeds are saved to ./ondisk_dataset_homograph/lp-val-seeds.npy\n",
      "\n",
      "Part of val labels for link prediction: [1. 1. 1.]\n",
      "LP val labels are saved to ./ondisk_dataset_homograph/lp-val-labels.npy\n",
      "\n",
      "Part of val indexes for link prediction: [0 1 2]\n",
      "LP val indexes are saved to ./ondisk_dataset_homograph/lp-val-indexes.npy\n",
      "\n",
      "Part of test seeds for link prediction: [[293 989]\n",
      " [317 905]\n",
      " [473 906]]\n",
      "LP test seeds are saved to ./ondisk_dataset_homograph/lp-test-seeds.npy\n",
      "\n",
      "Part of val labels for link prediction: [1. 1. 1.]\n",
      "LP test labels are saved to ./ondisk_dataset_homograph/lp-test-labels.npy\n",
      "\n",
      "Part of test indexes for link prediction: [0 1 2]\n",
      "LP test indexes are saved to ./ondisk_dataset_homograph/lp-test-indexes.npy\n",
      "\n"
     ]
    }
   ],
   "source": [
    "num_trains = int(num_edges * 0.6)\n",
    "num_vals = int(num_edges * 0.2)\n",
    "num_tests = num_edges - num_trains - num_vals\n",
    "\n",
    "lp_train_seeds_path = os.path.join(base_dir, \"lp-train-seeds.npy\")\n",
    "lp_train_seeds = edges[:num_trains, :]\n",
    "print(f\"Part of train seeds for link prediction: {lp_train_seeds[:3]}\")\n",
    "np.save(lp_train_seeds_path, lp_train_seeds)\n",
    "print(f\"LP train seeds are saved to {lp_train_seeds_path}\\n\")\n",
    "\n",
    "lp_val_seeds_path = os.path.join(base_dir, \"lp-val-seeds.npy\")\n",
    "lp_val_seeds = edges[num_trains:num_trains+num_vals, :]\n",
    "lp_val_neg_dsts = np.random.randint(0, num_nodes, (num_vals, 10)).reshape(-1)\n",
    "lp_val_neg_srcs = np.repeat(lp_val_seeds[:,0], 10)\n",
    "lp_val_neg_seeds = np.concatenate((lp_val_neg_srcs, lp_val_neg_dsts)).reshape(2,-1).T\n",
    "lp_val_seeds = np.concatenate((lp_val_seeds, lp_val_neg_seeds))\n",
    "print(f\"Part of val seeds for link prediction: {lp_val_seeds[:3]}\")\n",
    "np.save(lp_val_seeds_path, lp_val_seeds)\n",
    "print(f\"LP val seeds are saved to {lp_val_seeds_path}\\n\")\n",
    "\n",
    "lp_val_labels_path = os.path.join(base_dir, \"lp-val-labels.npy\")\n",
    "lp_val_labels = np.empty(num_vals * (10 + 1))\n",
    "lp_val_labels[:num_vals] = 1\n",
    "lp_val_labels[num_vals:] = 0\n",
    "print(f\"Part of val labels for link prediction: {lp_val_labels[:3]}\")\n",
    "np.save(lp_val_labels_path, lp_val_labels)\n",
    "print(f\"LP val labels are saved to {lp_val_labels_path}\\n\")\n",
    "\n",
    "lp_val_indexes_path = os.path.join(base_dir, \"lp-val-indexes.npy\")\n",
    "lp_val_indexes = np.arange(0, num_vals)\n",
    "lp_val_neg_indexes = np.repeat(lp_val_indexes, 10)\n",
    "lp_val_indexes = np.concatenate([lp_val_indexes, lp_val_neg_indexes])\n",
    "print(f\"Part of val indexes for link prediction: {lp_val_indexes[:3]}\")\n",
    "np.save(lp_val_indexes_path, lp_val_indexes)\n",
    "print(f\"LP val indexes are saved to {lp_val_indexes_path}\\n\")\n",
    "\n",
    "lp_test_seeds_path = os.path.join(base_dir, \"lp-test-seeds.npy\")\n",
    "lp_test_seeds = edges[-num_tests:, :]\n",
    "lp_test_neg_dsts = np.random.randint(0, num_nodes, (num_tests, 10)).reshape(-1)\n",
    "lp_test_neg_srcs = np.repeat(lp_test_seeds[:,0], 10)\n",
    "lp_test_neg_seeds = np.concatenate((lp_test_neg_srcs, lp_test_neg_dsts)).reshape(2,-1).T\n",
    "lp_test_seeds = np.concatenate((lp_test_seeds, lp_test_neg_seeds))\n",
    "print(f\"Part of test seeds for link prediction: {lp_test_seeds[:3]}\")\n",
    "np.save(lp_test_seeds_path, lp_test_seeds)\n",
    "print(f\"LP test seeds are saved to {lp_test_seeds_path}\\n\")\n",
    "\n",
    "lp_test_labels_path = os.path.join(base_dir, \"lp-test-labels.npy\")\n",
    "lp_test_labels = np.empty(num_tests * (10 + 1))\n",
    "lp_test_labels[:num_tests] = 1\n",
    "lp_test_labels[num_tests:] = 0\n",
    "print(f\"Part of val labels for link prediction: {lp_test_labels[:3]}\")\n",
    "np.save(lp_test_labels_path, lp_test_labels)\n",
    "print(f\"LP test labels are saved to {lp_test_labels_path}\\n\")\n",
    "\n",
    "lp_test_indexes_path = os.path.join(base_dir, \"lp-test-indexes.npy\")\n",
    "lp_test_indexes = np.arange(0, num_tests)\n",
    "lp_test_neg_indexes = np.repeat(lp_test_indexes, 10)\n",
    "lp_test_indexes = np.concatenate([lp_test_indexes, lp_test_neg_indexes])\n",
    "print(f\"Part of test indexes for link prediction: {lp_test_indexes[:3]}\")\n",
    "np.save(lp_test_indexes_path, lp_test_indexes)\n",
    "print(f\"LP test indexes are saved to {lp_test_indexes_path}\\n\")"
   ]
  },
  {
   "cell_type": "markdown",
   "metadata": {
    "id": "wbk6-wxRK-6S"
   },
   "source": [
    "## Organize Data into YAML File\n",
    "Now we need to create a `metadata.yaml` file which contains the paths, dadta types of graph structure, feature data, training/validation/test sets.\n",
    "\n",
    "Notes:\n",
    "- all path should be relative to `metadata.yaml`.\n",
    "- Below fields are optional and not specified in below example.\n",
    "  - `in_memory`: indicates whether to load dada into memory or `mmap`. Default is `True`.\n",
    "\n",
    "Please refer to [YAML specification](https://github.com/dmlc/dgl/blob/master/docs/source/stochastic_training/ondisk-dataset-specification.rst) for more details."
   ]
  },
  {
   "cell_type": "code",
   "execution_count": 7,
   "metadata": {
    "execution": {
     "iopub.execute_input": "2024-09-25T13:21:17.284898Z",
     "iopub.status.busy": "2024-09-25T13:21:17.284702Z",
     "iopub.status.idle": "2024-09-25T13:21:17.291350Z",
     "shell.execute_reply": "2024-09-25T13:21:17.290479Z"
    },
    "id": "ddGTWW61Lpwp"
   },
   "outputs": [],
   "source": [
    "yaml_content = f\"\"\"\n",
    "    dataset_name: homogeneous_graph_nc_lp\n",
    "    graph:\n",
    "      nodes:\n",
    "        - num: {num_nodes}\n",
    "      edges:\n",
    "        - format: csv\n",
    "          path: {os.path.basename(edges_path)}\n",
    "    feature_data:\n",
    "      - domain: node\n",
    "        name: feat_0\n",
    "        format: numpy\n",
    "        path: {os.path.basename(node_feat_0_path)}\n",
    "      - domain: node\n",
    "        name: feat_1\n",
    "        format: torch\n",
    "        path: {os.path.basename(node_feat_1_path)}\n",
    "      - domain: edge\n",
    "        name: feat_0\n",
    "        format: numpy\n",
    "        path: {os.path.basename(edge_feat_0_path)}\n",
    "      - domain: edge\n",
    "        name: feat_1\n",
    "        format: torch\n",
    "        path: {os.path.basename(edge_feat_1_path)}\n",
    "    tasks:\n",
    "      - name: node_classification\n",
    "        num_classes: 10\n",
    "        train_set:\n",
    "          - data:\n",
    "              - name: seeds\n",
    "                format: numpy\n",
    "                path: {os.path.basename(nc_train_ids_path)}\n",
    "              - name: labels\n",
    "                format: torch\n",
    "                path: {os.path.basename(nc_train_labels_path)}\n",
    "        validation_set:\n",
    "          - data:\n",
    "              - name: seeds\n",
    "                format: numpy\n",
    "                path: {os.path.basename(nc_val_ids_path)}\n",
    "              - name: labels\n",
    "                format: torch\n",
    "                path: {os.path.basename(nc_val_labels_path)}\n",
    "        test_set:\n",
    "          - data:\n",
    "              - name: seeds\n",
    "                format: numpy\n",
    "                path: {os.path.basename(nc_test_ids_path)}\n",
    "              - name: labels\n",
    "                format: torch\n",
    "                path: {os.path.basename(nc_test_labels_path)}\n",
    "      - name: link_prediction\n",
    "        num_classes: 10\n",
    "        train_set:\n",
    "          - data:\n",
    "              - name: seeds\n",
    "                format: numpy\n",
    "                path: {os.path.basename(lp_train_seeds_path)}\n",
    "        validation_set:\n",
    "          - data:\n",
    "              - name: seeds\n",
    "                format: numpy\n",
    "                path: {os.path.basename(lp_val_seeds_path)}\n",
    "              - name: labels\n",
    "                format: numpy\n",
    "                path: {os.path.basename(lp_val_labels_path)}\n",
    "              - name: indexes\n",
    "                format: numpy\n",
    "                path: {os.path.basename(lp_val_indexes_path)}\n",
    "        test_set:\n",
    "          - data:\n",
    "              - name: seeds\n",
    "                format: numpy\n",
    "                path: {os.path.basename(lp_test_seeds_path)}\n",
    "              - name: labels\n",
    "                format: numpy\n",
    "                path: {os.path.basename(lp_test_labels_path)}\n",
    "              - name: indexes\n",
    "                format: numpy\n",
    "                path: {os.path.basename(lp_test_indexes_path)}\n",
    "\"\"\"\n",
    "metadata_path = os.path.join(base_dir, \"metadata.yaml\")\n",
    "with open(metadata_path, \"w\") as f:\n",
    "  f.write(yaml_content)"
   ]
  },
  {
   "cell_type": "markdown",
   "metadata": {
    "id": "kEfybHGhOW7O"
   },
   "source": [
    "## Instantiate `OnDiskDataset`\n",
    "Now we're ready to load dataset via `dgl.graphbolt.OnDiskDataset`. When instantiating, we just pass in the base directory where `metadata.yaml` file lies.\n",
    "\n",
    "During first instantiation, GraphBolt preprocesses the raw data such as constructing `FusedCSCSamplingGraph` from edges. All data including graph, feature data, training/validation/test sets are put into `preprocessed` directory after preprocessing. Any following dataset loading will skip the preprocess stage.\n",
    "\n",
    "After preprocessing, `load()` is required to be called explicitly in order to load graph, feature data and tasks."
   ]
  },
  {
   "cell_type": "code",
   "execution_count": 8,
   "metadata": {
    "execution": {
     "iopub.execute_input": "2024-09-25T13:21:17.294271Z",
     "iopub.status.busy": "2024-09-25T13:21:17.293297Z",
     "iopub.status.idle": "2024-09-25T13:21:17.367997Z",
     "shell.execute_reply": "2024-09-25T13:21:17.367243Z"
    },
    "id": "W58CZoSzOiyo"
   },
   "outputs": [
    {
     "name": "stdout",
     "output_type": "stream",
     "text": [
      "Start to preprocess the on-disk dataset.\n",
      "Finish preprocessing the on-disk dataset.\n",
      "Loaded graph: FusedCSCSamplingGraph(csc_indptr=tensor([    0,    10,    18,  ...,  9982,  9992, 10000], dtype=torch.int32),\n",
      "                      indices=tensor([699, 572, 752,  ..., 850, 768,  75], dtype=torch.int32),\n",
      "                      total_num_nodes=1000, num_edges=10000,)\n",
      "\n",
      "Loaded feature store: TorchBasedFeatureStore(\n",
      "    {(<OnDiskFeatureDataDomain.NODE: 'node'>, None, 'feat_0'): TorchBasedFeature(\n",
      "        feature=tensor([[0.5786, 0.7842, 0.0361, 0.9720, 0.3210],\n",
      "                        [0.1319, 0.6103, 0.6708, 0.3977, 0.7211],\n",
      "                        [0.9377, 0.4124, 0.4013, 0.7260, 0.8748],\n",
      "                        ...,\n",
      "                        [0.9058, 0.6729, 0.4238, 0.6537, 0.1768],\n",
      "                        [0.8036, 0.3499, 0.0589, 0.5151, 0.3975],\n",
      "                        [0.3099, 0.4601, 0.3404, 0.2695, 0.8851]], dtype=torch.float64),\n",
      "        metadata={},\n",
      "    ), (<OnDiskFeatureDataDomain.NODE: 'node'>, None, 'feat_1'): TorchBasedFeature(\n",
      "        feature=tensor([[0.2732, 0.7841, 0.6256, 0.0829, 0.1173],\n",
      "                        [0.6678, 0.4028, 0.9240, 0.9195, 0.1085],\n",
      "                        [0.4771, 0.3777, 0.8807, 0.2287, 0.3146],\n",
      "                        ...,\n",
      "                        [0.8322, 0.0217, 0.9149, 0.6374, 0.2329],\n",
      "                        [0.4965, 0.8009, 0.2589, 0.1779, 0.5015],\n",
      "                        [0.6868, 0.5786, 0.1935, 0.1343, 0.1116]]),\n",
      "        metadata={},\n",
      "    ), (<OnDiskFeatureDataDomain.EDGE: 'edge'>, None, 'feat_0'): TorchBasedFeature(\n",
      "        feature=tensor([[0.3882, 0.4103, 0.1327, 0.9458, 0.8638],\n",
      "                        [0.3076, 0.8274, 0.6983, 0.4898, 0.4884],\n",
      "                        [0.8108, 0.0306, 0.0440, 0.4305, 0.7304],\n",
      "                        ...,\n",
      "                        [0.0035, 0.4745, 0.7802, 0.4963, 0.8751],\n",
      "                        [0.5155, 0.5980, 0.7660, 0.7106, 0.1985],\n",
      "                        [0.5612, 0.8431, 0.0644, 0.5165, 0.1709]], dtype=torch.float64),\n",
      "        metadata={},\n",
      "    ), (<OnDiskFeatureDataDomain.EDGE: 'edge'>, None, 'feat_1'): TorchBasedFeature(\n",
      "        feature=tensor([[0.4422, 0.5071, 0.5512, 0.5094, 0.7818],\n",
      "                        [0.9389, 0.6485, 0.5269, 0.8004, 0.8857],\n",
      "                        [0.7052, 0.9705, 0.9362, 0.2709, 0.6186],\n",
      "                        ...,\n",
      "                        [0.8507, 0.6781, 0.9007, 0.8299, 0.0936],\n",
      "                        [0.5252, 0.8509, 0.9469, 0.1820, 0.5463],\n",
      "                        [0.3780, 0.6420, 0.9965, 0.9576, 0.2264]]),\n",
      "        metadata={},\n",
      "    )}\n",
      ")\n",
      "\n",
      "Loaded node classification task: OnDiskTask(validation_set=ItemSet(\n",
      "               items=(tensor([262, 598,  12, 796, 945, 694, 905,   8,  56, 126,  23, 396, 834,  84,\n",
      "                    85,  61, 987, 503, 767, 915, 459,  20, 641, 872, 308, 267, 456, 335,\n",
      "                   982, 791, 312, 266, 269, 614, 403, 900, 282, 540, 678, 391,  40,   9,\n",
      "                   844, 252, 340, 118, 466, 123, 521,  45, 440, 664, 263, 233, 557, 700,\n",
      "                   333, 835, 564, 268, 516, 401, 928, 145, 365, 110,  86, 865, 556, 314,\n",
      "                   458,  62, 840, 845,  80, 690, 457, 528,  72, 133, 732,  54, 634, 193,\n",
      "                    68, 828, 626, 430, 127, 949,  91, 861, 632, 558, 741, 830, 205, 244,\n",
      "                   981, 384, 971, 884,  70, 984, 264, 433, 761, 443, 553, 636, 979, 447,\n",
      "                   446, 610, 250, 526, 622, 358, 532,  90, 643, 527, 808, 633, 569, 548,\n",
      "                   207,  37, 842, 777, 395, 213, 739, 492, 913, 876, 615, 171, 567, 415,\n",
      "                   953, 534, 283, 204,   4, 776, 914, 916, 246, 857, 679, 100, 485, 898,\n",
      "                   363, 541, 707, 215, 774, 421, 936,  21, 625, 148, 863, 411, 162, 921,\n",
      "                   382,  15, 507, 288, 177, 952, 965, 649, 505, 659, 667, 294, 880, 506,\n",
      "                   326, 319, 323, 481, 316,  39, 504, 325, 781, 675, 766, 108, 974, 192,\n",
      "                   786, 716, 885, 542], dtype=torch.int32), tensor([4, 3, 3, 0, 1, 3, 4, 8, 3, 8, 7, 4, 3, 5, 0, 6, 0, 8, 6, 0, 1, 3, 7, 0,\n",
      "                   8, 7, 7, 8, 4, 9, 9, 3, 3, 7, 1, 6, 1, 2, 0, 6, 5, 4, 5, 8, 2, 8, 6, 9,\n",
      "                   3, 3, 0, 1, 7, 6, 1, 2, 9, 5, 1, 5, 8, 1, 9, 7, 3, 8, 8, 5, 2, 5, 6, 6,\n",
      "                   5, 6, 3, 5, 1, 8, 5, 9, 1, 5, 0, 0, 4, 4, 0, 4, 1, 3, 9, 5, 1, 7, 9, 6,\n",
      "                   2, 1, 3, 1, 9, 9, 8, 3, 5, 8, 3, 1, 4, 7, 1, 0, 1, 7, 1, 2, 1, 1, 8, 8,\n",
      "                   4, 5, 1, 7, 4, 4, 9, 8, 8, 7, 6, 0, 2, 7, 5, 2, 2, 4, 3, 5, 5, 7, 5, 8,\n",
      "                   2, 1, 2, 7, 8, 8, 0, 2, 7, 1, 8, 4, 5, 8, 6, 9, 5, 7, 3, 7, 8, 8, 7, 0,\n",
      "                   5, 1, 3, 9, 6, 8, 2, 3, 6, 2, 6, 1, 4, 2, 0, 4, 2, 3, 5, 3, 3, 3, 2, 2,\n",
      "                   4, 6, 8, 6, 7, 3, 3, 5])),\n",
      "               names=('seeds', 'labels'),\n",
      "           ),\n",
      "           train_set=ItemSet(\n",
      "               items=(tensor([750, 768, 156, 687, 476,  33, 961, 762, 607, 165, 816, 103, 159, 454,\n",
      "                   113, 764, 935, 824, 144,  79, 579, 377, 219, 342, 242,  87, 676, 428,\n",
      "                   536,  41, 357, 122, 722, 292, 810, 130, 296, 964, 926, 386, 271, 620,\n",
      "                   588, 236, 272, 328, 520, 248, 547, 752, 560, 983, 617, 683, 471, 673,\n",
      "                   843,  11, 300, 972, 554, 160, 647, 729, 807, 546, 517, 959, 344, 578,\n",
      "                   930, 303, 394, 237, 988, 772, 135,  63, 794, 235, 570, 868, 305, 778,\n",
      "                   116, 373, 276, 665, 429, 743, 202, 656, 709, 393, 170, 107, 289, 911,\n",
      "                   594, 855, 744, 545, 757, 819, 737, 713, 473,   7, 174, 680, 689, 376,\n",
      "                   754, 923, 853, 318,  31,  52, 968, 806, 798, 878, 749, 677, 684, 862,\n",
      "                   848, 286, 747, 730, 995, 313, 185, 653, 320, 253, 745, 931, 985, 147,\n",
      "                   760, 501,  71, 277, 958, 258, 167, 408, 151,  97, 618, 472, 770, 498,\n",
      "                   238, 544, 568, 106, 234, 425, 773, 370, 954, 420, 332, 295, 511, 460,\n",
      "                   939, 918, 389, 198, 660,  77, 947, 742, 809, 441, 502,   2, 867,  59,\n",
      "                    53, 346, 691, 599, 780, 725, 628, 339,   6, 932, 869, 349,  96, 437,\n",
      "                   369, 432, 293, 321,  50, 515, 657, 299, 655, 882, 793, 223, 175, 997,\n",
      "                   711, 662, 477, 820, 693, 104, 996, 398, 232, 181, 582, 714, 495, 894,\n",
      "                     3, 695, 317, 892, 483, 256, 797, 721, 214, 290, 138, 942, 910, 769,\n",
      "                   551, 686, 513, 881, 260, 963, 176,   1, 602, 445, 605, 658, 227, 943,\n",
      "                    65, 187, 804, 727, 448, 172, 102, 273,  24, 829, 589, 336, 111, 493,\n",
      "                   533, 621,  43, 706,  74, 604, 509, 790, 143,  36, 672, 561, 522, 322,\n",
      "                   414, 927,  25, 715, 218, 188, 703, 734, 708, 298, 383, 149, 119, 508,\n",
      "                   524, 249, 720, 163, 261, 980, 397, 831, 661, 531, 590, 758, 251, 837,\n",
      "                   908, 846,  73, 343,  69, 182, 461, 474, 775, 400,  34, 826, 668, 832,\n",
      "                     5, 944, 611, 719, 259, 381, 907, 439, 212, 512, 157, 891, 183, 697,\n",
      "                   740, 315, 311, 559, 784, 372, 753, 409, 209, 139, 225, 563, 585, 449,\n",
      "                   463, 596, 688, 646,  82, 669, 603, 889, 549, 210,  95, 606,  88, 142,\n",
      "                   738, 452, 800, 195, 887, 413, 822,  17, 281, 200,  75,  32, 490, 978,\n",
      "                    13, 367, 399, 543, 574, 639, 169, 164,  78, 179, 841, 909, 385, 811,\n",
      "                    67, 990, 704, 701, 580,  47, 254, 221, 746, 444, 888, 436, 902, 519,\n",
      "                   434,  22, 539,  10, 379, 475, 450, 699, 173, 836, 124, 178, 718, 566,\n",
      "                   623, 330, 199, 140, 337, 640, 368, 973, 616, 893, 158, 348, 895, 243,\n",
      "                   555, 648, 380, 239, 818, 350, 710, 992, 278, 153, 355, 977, 573, 717,\n",
      "                   464, 763, 535, 886, 733, 146, 946, 856, 279, 310, 871, 467, 925, 510,\n",
      "                   550, 912,  83, 525, 562, 593, 879, 858, 565, 571, 748, 967, 937, 852,\n",
      "                   592,  58, 419, 642, 584, 245, 654, 324, 572, 388, 795, 360,  46, 306,\n",
      "                   435, 417, 903, 583, 735,  92, 129, 329, 789, 131, 197, 960, 468, 497,\n",
      "                    94,  93,  16, 105,   0, 779, 929,  51, 489, 736,  27, 496, 674, 530,\n",
      "                   309, 416, 117, 284, 280, 189, 805, 152, 756, 976, 101, 180, 345, 410,\n",
      "                   612, 904, 705, 663, 364, 581, 390, 486, 352, 723, 402, 629, 956, 552,\n",
      "                   285, 859, 635, 966, 851, 955, 901, 619, 850, 765, 890, 726, 854, 712,\n",
      "                    57, 529, 418, 407, 624, 404, 899, 406, 652, 682,  18, 217, 166, 803,\n",
      "                   957, 220, 833,  49, 424,  99, 650, 275, 184, 681, 802, 920, 327, 917,\n",
      "                   161, 812, 577, 874, 150, 814, 994, 813, 347, 154, 405, 514],\n",
      "                  dtype=torch.int32), tensor([2, 0, 3, 2, 9, 0, 3, 3, 8, 4, 9, 6, 1, 8, 4, 8, 9, 2, 1, 4, 3, 5, 2, 0,\n",
      "                   8, 0, 4, 2, 0, 5, 0, 0, 3, 9, 4, 2, 8, 7, 9, 8, 5, 6, 7, 9, 4, 9, 1, 1,\n",
      "                   6, 1, 7, 7, 7, 4, 7, 8, 2, 8, 0, 6, 1, 5, 0, 0, 5, 5, 4, 6, 5, 2, 8, 0,\n",
      "                   2, 5, 7, 7, 6, 6, 5, 0, 8, 7, 8, 1, 1, 4, 3, 2, 6, 3, 9, 0, 8, 3, 9, 0,\n",
      "                   4, 7, 9, 8, 2, 7, 3, 2, 9, 6, 1, 8, 5, 0, 9, 1, 9, 7, 9, 8, 6, 8, 8, 1,\n",
      "                   5, 8, 3, 5, 1, 0, 1, 6, 7, 5, 6, 3, 4, 5, 7, 1, 2, 6, 3, 9, 3, 0, 5, 5,\n",
      "                   5, 2, 3, 4, 1, 0, 5, 0, 7, 0, 2, 0, 0, 6, 1, 6, 1, 5, 5, 7, 3, 7, 1, 4,\n",
      "                   1, 1, 9, 5, 8, 2, 8, 0, 7, 3, 7, 4, 1, 5, 3, 6, 6, 6, 2, 7, 9, 6, 3, 1,\n",
      "                   6, 2, 5, 8, 3, 1, 5, 4, 1, 6, 5, 9, 5, 1, 5, 1, 2, 2, 2, 1, 2, 4, 9, 7,\n",
      "                   3, 4, 1, 8, 0, 9, 4, 9, 1, 1, 0, 6, 7, 6, 4, 3, 5, 8, 2, 1, 0, 1, 9, 6,\n",
      "                   1, 5, 0, 9, 1, 7, 6, 7, 9, 1, 9, 7, 8, 2, 9, 4, 4, 8, 1, 1, 2, 6, 5, 1,\n",
      "                   5, 4, 8, 4, 2, 2, 1, 2, 1, 5, 7, 0, 1, 9, 2, 9, 6, 6, 1, 3, 3, 9, 5, 4,\n",
      "                   1, 8, 6, 2, 0, 5, 2, 9, 6, 7, 3, 8, 0, 1, 3, 0, 7, 9, 2, 7, 0, 7, 0, 7,\n",
      "                   6, 4, 7, 7, 9, 2, 5, 8, 8, 8, 3, 5, 6, 2, 5, 4, 2, 3, 2, 5, 8, 6, 1, 7,\n",
      "                   9, 1, 8, 7, 2, 6, 7, 5, 0, 0, 4, 4, 5, 5, 0, 1, 0, 6, 2, 8, 8, 4, 7, 3,\n",
      "                   5, 4, 9, 0, 3, 5, 3, 3, 5, 2, 4, 3, 6, 7, 3, 2, 3, 4, 0, 2, 1, 6, 4, 1,\n",
      "                   2, 0, 3, 4, 6, 3, 7, 3, 4, 9, 7, 9, 0, 2, 3, 5, 0, 9, 2, 1, 1, 1, 9, 8,\n",
      "                   9, 4, 2, 6, 5, 1, 2, 3, 8, 6, 6, 1, 9, 8, 1, 4, 4, 3, 0, 2, 6, 7, 7, 6,\n",
      "                   5, 3, 1, 6, 8, 4, 0, 7, 7, 5, 8, 6, 5, 2, 9, 2, 0, 6, 7, 1, 9, 3, 1, 7,\n",
      "                   3, 2, 0, 0, 3, 5, 4, 4, 9, 4, 5, 4, 9, 0, 8, 0, 2, 1, 5, 9, 9, 5, 8, 2,\n",
      "                   5, 3, 2, 6, 2, 0, 1, 2, 7, 5, 7, 2, 7, 2, 5, 7, 3, 1, 9, 4, 0, 9, 8, 8,\n",
      "                   1, 9, 4, 7, 7, 7, 7, 3, 1, 9, 4, 0, 8, 3, 6, 3, 8, 6, 3, 8, 0, 3, 2, 6,\n",
      "                   7, 6, 4, 5, 1, 9, 6, 1, 4, 0, 2, 9, 3, 7, 1, 1, 8, 7, 3, 6, 9, 6, 0, 3,\n",
      "                   1, 1, 9, 4, 9, 5, 8, 6, 1, 2, 6, 0, 8, 1, 5, 4, 6, 9, 4, 3, 2, 8, 0, 0,\n",
      "                   2, 7, 7, 5, 4, 3, 3, 0, 0, 3, 4, 9, 5, 0, 1, 7, 5, 6, 9, 3, 6, 6, 6, 3])),\n",
      "               names=('seeds', 'labels'),\n",
      "           ),\n",
      "           test_set=ItemSet(\n",
      "               items=(tensor([241, 422, 500, 644,  89, 307,  19, 392, 426, 134, 240,  66, 442, 922,\n",
      "                   480, 827, 575, 613, 356, 670,  38, 341, 203, 792, 724, 191, 375, 297,\n",
      "                   970, 121,  81,  98, 825, 470, 361, 864, 387, 877,  29, 906, 270, 924,\n",
      "                   685, 870, 186, 462, 206, 788, 875, 896, 453, 499, 438, 630, 201, 222,\n",
      "                   224,  35, 751,  26, 228, 783, 986, 304, 366, 359, 601, 265, 993, 230,\n",
      "                   374, 847, 969, 331, 338, 849, 883, 698, 125, 120, 427, 482, 431, 991,\n",
      "                   838, 378, 940, 114, 595, 631,  30, 999,  64, 168, 645, 860, 586, 638,\n",
      "                   469, 948, 494, 933, 627, 491, 591, 817, 671, 423,  76, 455, 518,  44,\n",
      "                   484, 731, 291, 975, 412, 839, 255, 451, 866, 109, 112, 190, 576, 666,\n",
      "                   351, 771,  14, 637, 755, 702, 600, 302, 231, 608, 989, 799, 465, 216,\n",
      "                   801, 488, 815,  60,  55, 137, 274, 354, 821, 229, 934, 478, 787, 538,\n",
      "                    42, 692,  28, 115, 287, 759,  48, 523, 479, 257, 353, 371, 155, 785,\n",
      "                   211, 950, 128, 609, 334, 141, 728, 962, 897, 998, 919, 823, 301, 537,\n",
      "                   226, 782, 247, 941, 587, 362, 487, 196, 208, 951, 136, 938, 651, 696,\n",
      "                   194, 132, 597, 873], dtype=torch.int32), tensor([3, 9, 5, 6, 1, 6, 4, 7, 8, 6, 9, 9, 0, 1, 7, 1, 4, 1, 9, 5, 9, 1, 6, 1,\n",
      "                   4, 4, 8, 0, 9, 7, 5, 0, 1, 8, 1, 2, 2, 3, 3, 0, 2, 8, 1, 2, 9, 3, 3, 8,\n",
      "                   4, 4, 5, 5, 5, 4, 8, 7, 8, 0, 0, 6, 8, 4, 0, 0, 4, 7, 9, 8, 0, 1, 5, 7,\n",
      "                   8, 3, 8, 3, 8, 5, 4, 1, 2, 2, 2, 5, 9, 1, 8, 4, 6, 0, 7, 5, 2, 6, 8, 7,\n",
      "                   9, 2, 0, 4, 7, 8, 7, 8, 2, 6, 1, 6, 8, 8, 7, 2, 4, 5, 8, 8, 9, 9, 7, 5,\n",
      "                   9, 7, 8, 5, 7, 8, 2, 4, 9, 6, 2, 0, 0, 4, 9, 3, 5, 3, 8, 9, 0, 0, 5, 8,\n",
      "                   8, 5, 8, 8, 7, 9, 0, 4, 2, 3, 8, 3, 6, 5, 2, 4, 2, 3, 5, 8, 4, 4, 0, 8,\n",
      "                   5, 6, 0, 3, 6, 1, 7, 0, 8, 8, 9, 3, 5, 0, 2, 7, 8, 6, 2, 0, 6, 7, 9, 8,\n",
      "                   6, 1, 8, 3, 0, 0, 6, 7])),\n",
      "               names=('seeds', 'labels'),\n",
      "           ),\n",
      "           metadata={'name': 'node_classification', 'num_classes': 10},)\n",
      "\n",
      "Loaded link prediction task: OnDiskTask(validation_set=ItemSet(\n",
      "               items=(tensor([[754, 707],\n",
      "                   [972, 837],\n",
      "                   [300, 263],\n",
      "                   ...,\n",
      "                   [380,  28],\n",
      "                   [380,   0],\n",
      "                   [380, 518]], dtype=torch.int32), tensor([1., 1., 1.,  ..., 0., 0., 0.], dtype=torch.float64), tensor([   0,    1,    2,  ..., 1999, 1999, 1999])),\n",
      "               names=('seeds', 'labels', 'indexes'),\n",
      "           ),\n",
      "           train_set=ItemSet(\n",
      "               items=(tensor([[197, 227],\n",
      "                   [538, 453],\n",
      "                   [359, 294],\n",
      "                   ...,\n",
      "                   [757, 268],\n",
      "                   [685, 928],\n",
      "                   [463, 661]], dtype=torch.int32),),\n",
      "               names=('seeds',),\n",
      "           ),\n",
      "           test_set=ItemSet(\n",
      "               items=(tensor([[293, 989],\n",
      "                   [317, 905],\n",
      "                   [473, 906],\n",
      "                   ...,\n",
      "                   [189, 709],\n",
      "                   [189, 920],\n",
      "                   [189, 590]], dtype=torch.int32), tensor([1., 1., 1.,  ..., 0., 0., 0.], dtype=torch.float64), tensor([   0,    1,    2,  ..., 1999, 1999, 1999])),\n",
      "               names=('seeds', 'labels', 'indexes'),\n",
      "           ),\n",
      "           metadata={'name': 'link_prediction', 'num_classes': 10},)\n",
      "\n"
     ]
    },
    {
     "name": "stderr",
     "output_type": "stream",
     "text": [
      "/dgl/python/dgl/graphbolt/impl/ondisk_dataset.py:463: GBWarning: Edge feature is stored, but edge IDs are not saved.\n",
      "  gb_warning(\"Edge feature is stored, but edge IDs are not saved.\")\n"
     ]
    }
   ],
   "source": [
    "dataset = gb.OnDiskDataset(base_dir).load()\n",
    "graph = dataset.graph\n",
    "print(f\"Loaded graph: {graph}\\n\")\n",
    "\n",
    "feature = dataset.feature\n",
    "print(f\"Loaded feature store: {feature}\\n\")\n",
    "\n",
    "tasks = dataset.tasks\n",
    "nc_task = tasks[0]\n",
    "print(f\"Loaded node classification task: {nc_task}\\n\")\n",
    "lp_task = tasks[1]\n",
    "print(f\"Loaded link prediction task: {lp_task}\\n\")"
   ]
  }
 ],
 "metadata": {
  "colab": {
   "private_outputs": true,
   "provenance": []
  },
  "kernelspec": {
   "display_name": "Python 3",
   "name": "python3"
  },
  "language_info": {
   "codemirror_mode": {
    "name": "ipython",
    "version": 3
   },
   "file_extension": ".py",
   "mimetype": "text/x-python",
   "name": "python",
   "nbconvert_exporter": "python",
   "pygments_lexer": "ipython3",
   "version": "3.10.15"
  }
 },
 "nbformat": 4,
 "nbformat_minor": 0
}

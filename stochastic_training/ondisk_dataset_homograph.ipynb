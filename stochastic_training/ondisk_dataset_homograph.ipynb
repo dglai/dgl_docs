{
 "cells": [
  {
   "cell_type": "markdown",
   "metadata": {
    "id": "FnFhPMaAfLtJ"
   },
   "source": [
    "# OnDiskDataset for Homogeneous Graph\n",
    "\n",
    "[![Open In Colab](https://colab.research.google.com/assets/colab-badge.svg)](https://colab.research.google.com/github/dmlc/dgl/blob/master/notebooks/stochastic_training/ondisk_dataset_homograph.ipynb) [![GitHub](https://img.shields.io/badge/-View%20on%20GitHub-181717?logo=github&logoColor=ffffff)](https://github.com/dmlc/dgl/blob/master/notebooks/stochastic_training/ondisk_dataset_homograph.ipynb)\n",
    "\n",
    "This tutorial shows how to create `OnDiskDataset` for homogeneous graph that could be used in **GraphBolt** framework.\n",
    "\n",
    "By the end of this tutorial, you will be able to\n",
    "\n",
    "- organize graph structure data.\n",
    "- organize feature data.\n",
    "- organize training/validation/test set for specific tasks.\n",
    "\n",
    "To create an ``OnDiskDataset`` object, you need to organize all the data including graph structure, feature data and tasks into a directory. The directory should contain a ``metadata.yaml`` file that describes the metadata of the dataset.\n",
    "\n",
    "Now let's generate various data step by step and organize them together to instantiate `OnDiskDataset` finally."
   ]
  },
  {
   "cell_type": "markdown",
   "metadata": {
    "id": "Wlb19DtWgtzq"
   },
   "source": [
    "## Install DGL package"
   ]
  },
  {
   "cell_type": "code",
   "execution_count": 1,
   "metadata": {
    "execution": {
     "iopub.execute_input": "2024-07-29T04:53:06.773073Z",
     "iopub.status.busy": "2024-07-29T04:53:06.772445Z",
     "iopub.status.idle": "2024-07-29T04:53:10.718298Z",
     "shell.execute_reply": "2024-07-29T04:53:10.717164Z"
    },
    "id": "UojlT9ZGgyr9"
   },
   "outputs": [
    {
     "name": "stdout",
     "output_type": "stream",
     "text": [
      "Looking in links: https://data.dgl.ai/wheels-test/repo.html\r\n",
      "Requirement already satisfied: dgl in /opt/conda/envs/dgl-dev-cpu/lib/python3.10/site-packages (2.2a240410)\r\n"
     ]
    },
    {
     "name": "stdout",
     "output_type": "stream",
     "text": [
      "Requirement already satisfied: numpy>=1.14.0 in /opt/conda/envs/dgl-dev-cpu/lib/python3.10/site-packages (from dgl) (2.0.1)\r\n",
      "Requirement already satisfied: scipy>=1.1.0 in /opt/conda/envs/dgl-dev-cpu/lib/python3.10/site-packages (from dgl) (1.14.0)\r\n",
      "Requirement already satisfied: networkx>=2.1 in /opt/conda/envs/dgl-dev-cpu/lib/python3.10/site-packages (from dgl) (3.3)\r\n",
      "Requirement already satisfied: requests>=2.19.0 in /opt/conda/envs/dgl-dev-cpu/lib/python3.10/site-packages (from dgl) (2.32.3)\r\n",
      "Requirement already satisfied: tqdm in /opt/conda/envs/dgl-dev-cpu/lib/python3.10/site-packages (from dgl) (4.66.4)\r\n",
      "Requirement already satisfied: psutil>=5.8.0 in /opt/conda/envs/dgl-dev-cpu/lib/python3.10/site-packages (from dgl) (6.0.0)\r\n",
      "Requirement already satisfied: torchdata>=0.5.0 in /opt/conda/envs/dgl-dev-cpu/lib/python3.10/site-packages (from dgl) (0.7.1)\r\n",
      "Requirement already satisfied: pandas in /opt/conda/envs/dgl-dev-cpu/lib/python3.10/site-packages (from dgl) (2.2.2)\r\n",
      "Requirement already satisfied: charset-normalizer<4,>=2 in /opt/conda/envs/dgl-dev-cpu/lib/python3.10/site-packages (from requests>=2.19.0->dgl) (3.3.2)\r\n",
      "Requirement already satisfied: idna<4,>=2.5 in /opt/conda/envs/dgl-dev-cpu/lib/python3.10/site-packages (from requests>=2.19.0->dgl) (3.7)\r\n",
      "Requirement already satisfied: urllib3<3,>=1.21.1 in /opt/conda/envs/dgl-dev-cpu/lib/python3.10/site-packages (from requests>=2.19.0->dgl) (2.2.2)\r\n",
      "Requirement already satisfied: certifi>=2017.4.17 in /opt/conda/envs/dgl-dev-cpu/lib/python3.10/site-packages (from requests>=2.19.0->dgl) (2024.7.4)\r\n"
     ]
    },
    {
     "name": "stdout",
     "output_type": "stream",
     "text": [
      "Requirement already satisfied: torch>=2 in /opt/conda/envs/dgl-dev-cpu/lib/python3.10/site-packages (from torchdata>=0.5.0->dgl) (2.3.0+cpu)\r\n"
     ]
    },
    {
     "name": "stdout",
     "output_type": "stream",
     "text": [
      "Requirement already satisfied: python-dateutil>=2.8.2 in /opt/conda/envs/dgl-dev-cpu/lib/python3.10/site-packages (from pandas->dgl) (2.9.0.post0)\r\n",
      "Requirement already satisfied: pytz>=2020.1 in /opt/conda/envs/dgl-dev-cpu/lib/python3.10/site-packages (from pandas->dgl) (2024.1)\r\n",
      "Requirement already satisfied: tzdata>=2022.7 in /opt/conda/envs/dgl-dev-cpu/lib/python3.10/site-packages (from pandas->dgl) (2024.1)\r\n",
      "Requirement already satisfied: six>=1.5 in /opt/conda/envs/dgl-dev-cpu/lib/python3.10/site-packages (from python-dateutil>=2.8.2->pandas->dgl) (1.16.0)\r\n",
      "Requirement already satisfied: filelock in /opt/conda/envs/dgl-dev-cpu/lib/python3.10/site-packages (from torch>=2->torchdata>=0.5.0->dgl) (3.15.4)\r\n",
      "Requirement already satisfied: typing-extensions>=4.8.0 in /opt/conda/envs/dgl-dev-cpu/lib/python3.10/site-packages (from torch>=2->torchdata>=0.5.0->dgl) (4.12.2)\r\n",
      "Requirement already satisfied: sympy in /opt/conda/envs/dgl-dev-cpu/lib/python3.10/site-packages (from torch>=2->torchdata>=0.5.0->dgl) (1.13.1)\r\n",
      "Requirement already satisfied: jinja2 in /opt/conda/envs/dgl-dev-cpu/lib/python3.10/site-packages (from torch>=2->torchdata>=0.5.0->dgl) (3.1.4)\r\n",
      "Requirement already satisfied: fsspec in /opt/conda/envs/dgl-dev-cpu/lib/python3.10/site-packages (from torch>=2->torchdata>=0.5.0->dgl) (2024.6.1)\r\n"
     ]
    },
    {
     "name": "stdout",
     "output_type": "stream",
     "text": [
      "Requirement already satisfied: MarkupSafe>=2.0 in /opt/conda/envs/dgl-dev-cpu/lib/python3.10/site-packages (from jinja2->torch>=2->torchdata>=0.5.0->dgl) (2.1.5)\r\n"
     ]
    },
    {
     "name": "stdout",
     "output_type": "stream",
     "text": [
      "Requirement already satisfied: mpmath<1.4,>=1.1.0 in /opt/conda/envs/dgl-dev-cpu/lib/python3.10/site-packages (from sympy->torch>=2->torchdata>=0.5.0->dgl) (1.3.0)\r\n"
     ]
    },
    {
     "name": "stdout",
     "output_type": "stream",
     "text": [
      "\u001b[33mWARNING: Running pip as the 'root' user can result in broken permissions and conflicting behaviour with the system package manager. It is recommended to use a virtual environment instead: https://pip.pypa.io/warnings/venv\u001b[0m\u001b[33m\r\n",
      "\u001b[0m"
     ]
    },
    {
     "name": "stdout",
     "output_type": "stream",
     "text": [
      "DGL installed!\n"
     ]
    }
   ],
   "source": [
    "# Install required packages.\n",
    "import os\n",
    "import torch\n",
    "import numpy as np\n",
    "os.environ['TORCH'] = torch.__version__\n",
    "os.environ['DGLBACKEND'] = \"pytorch\"\n",
    "\n",
    "# Install the CPU version.\n",
    "device = torch.device(\"cpu\")\n",
    "!pip install --pre dgl -f https://data.dgl.ai/wheels-test/repo.html\n",
    "\n",
    "try:\n",
    "    import dgl\n",
    "    import dgl.graphbolt as gb\n",
    "    installed = True\n",
    "except ImportError as error:\n",
    "    installed = False\n",
    "    print(error)\n",
    "print(\"DGL installed!\" if installed else \"DGL not found!\")"
   ]
  },
  {
   "cell_type": "markdown",
   "metadata": {
    "id": "2R7WnSbjsfbr"
   },
   "source": [
    "## Data preparation\n",
    "In order to demonstrate how to organize various data, let's create a base directory first."
   ]
  },
  {
   "cell_type": "code",
   "execution_count": 2,
   "metadata": {
    "execution": {
     "iopub.execute_input": "2024-07-29T04:53:10.721318Z",
     "iopub.status.busy": "2024-07-29T04:53:10.720839Z",
     "iopub.status.idle": "2024-07-29T04:53:10.726103Z",
     "shell.execute_reply": "2024-07-29T04:53:10.725181Z"
    },
    "id": "SZipbzyltLfO"
   },
   "outputs": [
    {
     "name": "stdout",
     "output_type": "stream",
     "text": [
      "Created base directory: ./ondisk_dataset_homograph\n"
     ]
    }
   ],
   "source": [
    "base_dir = './ondisk_dataset_homograph'\n",
    "os.makedirs(base_dir, exist_ok=True)\n",
    "print(f\"Created base directory: {base_dir}\")"
   ]
  },
  {
   "cell_type": "markdown",
   "metadata": {
    "id": "qhNtIn_xhlnl"
   },
   "source": [
    "### Generate graph structure data\n",
    "For homogeneous graph, we just need to save edges(namely seeds) into  **Numpy** or **CSV** file.\n",
    "\n",
    "Note:\n",
    "- when saving to **Numpy**, the array requires to be in shape of `(2, N)`. This format is recommended as constructing graph from it is much faster than **CSV** file.\n",
    "- when saving to **CSV** file, do not save index and header.\n"
   ]
  },
  {
   "cell_type": "code",
   "execution_count": 3,
   "metadata": {
    "execution": {
     "iopub.execute_input": "2024-07-29T04:53:10.728880Z",
     "iopub.status.busy": "2024-07-29T04:53:10.728516Z",
     "iopub.status.idle": "2024-07-29T04:53:10.743947Z",
     "shell.execute_reply": "2024-07-29T04:53:10.742893Z"
    },
    "id": "HcBt4G5BmSjr"
   },
   "outputs": [
    {
     "name": "stdout",
     "output_type": "stream",
     "text": [
      "Part of edges: [[581 872]\n",
      " [625 935]\n",
      " [ 97 439]\n",
      " [979 771]\n",
      " [543 907]]\n",
      "Edges are saved into ./ondisk_dataset_homograph/edges.csv\n"
     ]
    }
   ],
   "source": [
    "import numpy as np\n",
    "import pandas as pd\n",
    "num_nodes = 1000\n",
    "num_edges = 10 * num_nodes\n",
    "edges_path = os.path.join(base_dir, \"edges.csv\")\n",
    "edges = np.random.randint(0, num_nodes, size=(num_edges, 2))\n",
    "\n",
    "print(f\"Part of edges: {edges[:5, :]}\")\n",
    "\n",
    "df = pd.DataFrame(edges)\n",
    "df.to_csv(edges_path, index=False, header=False)\n",
    "\n",
    "print(f\"Edges are saved into {edges_path}\")"
   ]
  },
  {
   "cell_type": "markdown",
   "metadata": {
    "id": "kh-4cPtzpcaH"
   },
   "source": [
    "### Generate feature data for graph\n",
    "For feature data, numpy arrays and torch tensors are supported for now."
   ]
  },
  {
   "cell_type": "code",
   "execution_count": 4,
   "metadata": {
    "execution": {
     "iopub.execute_input": "2024-07-29T04:53:10.746830Z",
     "iopub.status.busy": "2024-07-29T04:53:10.746491Z",
     "iopub.status.idle": "2024-07-29T04:53:10.766712Z",
     "shell.execute_reply": "2024-07-29T04:53:10.765781Z"
    },
    "id": "_PVu1u5brBhF"
   },
   "outputs": [
    {
     "name": "stdout",
     "output_type": "stream",
     "text": [
      "Part of node feature [feat_0]: [[0.21136926 0.95395303 0.11863248 0.6819067  0.95438172]\n",
      " [0.74350494 0.34601493 0.19299555 0.06337545 0.59358733]\n",
      " [0.52261225 0.04742147 0.4373262  0.03822062 0.3828035 ]]\n",
      "Node feature [feat_0] is saved to ./ondisk_dataset_homograph/node-feat-0.npy\n",
      "\n",
      "Part of node feature [feat_1]: tensor([[0.0746, 0.9944, 0.3530, 0.8161, 0.0783],\n",
      "        [0.2712, 0.2049, 0.3057, 0.1997, 0.6055],\n",
      "        [0.9688, 0.1794, 0.1783, 0.4046, 0.3877]])\n",
      "Node feature [feat_1] is saved to ./ondisk_dataset_homograph/node-feat-1.pt\n",
      "\n",
      "Part of edge feature [feat_0]: [[0.86780675 0.96403723 0.15909256 0.55935192 0.80340068]\n",
      " [0.54008763 0.11095679 0.4600397  0.57367883 0.01361692]\n",
      " [0.94661613 0.02244934 0.06096004 0.74214928 0.82930299]]\n",
      "Edge feature [feat_0] is saved to ./ondisk_dataset_homograph/edge-feat-0.npy\n",
      "\n",
      "Part of edge feature [feat_1]: tensor([[0.2462, 0.5684, 0.8552, 0.9422, 0.2992],\n",
      "        [0.1344, 0.4970, 0.1382, 0.0868, 0.9719],\n",
      "        [0.0540, 0.9592, 0.1411, 0.4845, 0.7449]])\n",
      "Edge feature [feat_1] is saved to ./ondisk_dataset_homograph/edge-feat-1.pt\n",
      "\n"
     ]
    }
   ],
   "source": [
    "# Generate node feature in numpy array.\n",
    "node_feat_0_path = os.path.join(base_dir, \"node-feat-0.npy\")\n",
    "node_feat_0 = np.random.rand(num_nodes, 5)\n",
    "print(f\"Part of node feature [feat_0]: {node_feat_0[:3, :]}\")\n",
    "np.save(node_feat_0_path, node_feat_0)\n",
    "print(f\"Node feature [feat_0] is saved to {node_feat_0_path}\\n\")\n",
    "\n",
    "# Generate another node feature in torch tensor\n",
    "node_feat_1_path = os.path.join(base_dir, \"node-feat-1.pt\")\n",
    "node_feat_1 = torch.rand(num_nodes, 5)\n",
    "print(f\"Part of node feature [feat_1]: {node_feat_1[:3, :]}\")\n",
    "torch.save(node_feat_1, node_feat_1_path)\n",
    "print(f\"Node feature [feat_1] is saved to {node_feat_1_path}\\n\")\n",
    "\n",
    "# Generate edge feature in numpy array.\n",
    "edge_feat_0_path = os.path.join(base_dir, \"edge-feat-0.npy\")\n",
    "edge_feat_0 = np.random.rand(num_edges, 5)\n",
    "print(f\"Part of edge feature [feat_0]: {edge_feat_0[:3, :]}\")\n",
    "np.save(edge_feat_0_path, edge_feat_0)\n",
    "print(f\"Edge feature [feat_0] is saved to {edge_feat_0_path}\\n\")\n",
    "\n",
    "# Generate another edge feature in torch tensor\n",
    "edge_feat_1_path = os.path.join(base_dir, \"edge-feat-1.pt\")\n",
    "edge_feat_1 = torch.rand(num_edges, 5)\n",
    "print(f\"Part of edge feature [feat_1]: {edge_feat_1[:3, :]}\")\n",
    "torch.save(edge_feat_1, edge_feat_1_path)\n",
    "print(f\"Edge feature [feat_1] is saved to {edge_feat_1_path}\\n\")\n"
   ]
  },
  {
   "cell_type": "markdown",
   "metadata": {
    "id": "ZyqgOtsIwzh_"
   },
   "source": [
    "### Generate tasks\n",
    "`OnDiskDataset` supports multiple tasks. For each task, we need to prepare training/validation/test sets respectively. Such sets usually vary among different tasks. In this tutorial, let's create a **Node Classification** task and **Link Prediction** task."
   ]
  },
  {
   "cell_type": "markdown",
   "metadata": {
    "id": "hVxHaDIfzCkr"
   },
   "source": [
    "#### Node Classification Task\n",
    "For node classification task, we need **node IDs** and corresponding **labels** for each training/validation/test set. Like feature data, numpy arrays and torch tensors are supported for these sets."
   ]
  },
  {
   "cell_type": "code",
   "execution_count": 5,
   "metadata": {
    "execution": {
     "iopub.execute_input": "2024-07-29T04:53:10.769421Z",
     "iopub.status.busy": "2024-07-29T04:53:10.769044Z",
     "iopub.status.idle": "2024-07-29T04:53:10.781176Z",
     "shell.execute_reply": "2024-07-29T04:53:10.780151Z"
    },
    "id": "S5-fyBbHzTCO"
   },
   "outputs": [
    {
     "name": "stdout",
     "output_type": "stream",
     "text": [
      "Part of train ids for node classification: [295 381 907]\n",
      "NC train ids are saved to ./ondisk_dataset_homograph/nc-train-ids.npy\n",
      "\n",
      "Part of train labels for node classification: tensor([0, 0, 7])\n",
      "NC train labels are saved to ./ondisk_dataset_homograph/nc-train-labels.pt\n",
      "\n",
      "Part of val ids for node classification: [728 873 375]\n",
      "NC val ids are saved to ./ondisk_dataset_homograph/nc-val-ids.npy\n",
      "\n",
      "Part of val labels for node classification: tensor([3, 5, 8])\n",
      "NC val labels are saved to ./ondisk_dataset_homograph/nc-val-labels.pt\n",
      "\n",
      "Part of test ids for node classification: [716 568 601]\n",
      "NC test ids are saved to ./ondisk_dataset_homograph/nc-test-ids.npy\n",
      "\n",
      "Part of test labels for node classification: tensor([6, 5, 8])\n",
      "NC test labels are saved to ./ondisk_dataset_homograph/nc-test-labels.pt\n",
      "\n"
     ]
    }
   ],
   "source": [
    "num_trains = int(num_nodes * 0.6)\n",
    "num_vals = int(num_nodes * 0.2)\n",
    "num_tests = num_nodes - num_trains - num_vals\n",
    "\n",
    "ids = np.arange(num_nodes)\n",
    "np.random.shuffle(ids)\n",
    "\n",
    "nc_train_ids_path = os.path.join(base_dir, \"nc-train-ids.npy\")\n",
    "nc_train_ids = ids[:num_trains]\n",
    "print(f\"Part of train ids for node classification: {nc_train_ids[:3]}\")\n",
    "np.save(nc_train_ids_path, nc_train_ids)\n",
    "print(f\"NC train ids are saved to {nc_train_ids_path}\\n\")\n",
    "\n",
    "nc_train_labels_path = os.path.join(base_dir, \"nc-train-labels.pt\")\n",
    "nc_train_labels = torch.randint(0, 10, (num_trains,))\n",
    "print(f\"Part of train labels for node classification: {nc_train_labels[:3]}\")\n",
    "torch.save(nc_train_labels, nc_train_labels_path)\n",
    "print(f\"NC train labels are saved to {nc_train_labels_path}\\n\")\n",
    "\n",
    "nc_val_ids_path = os.path.join(base_dir, \"nc-val-ids.npy\")\n",
    "nc_val_ids = ids[num_trains:num_trains+num_vals]\n",
    "print(f\"Part of val ids for node classification: {nc_val_ids[:3]}\")\n",
    "np.save(nc_val_ids_path, nc_val_ids)\n",
    "print(f\"NC val ids are saved to {nc_val_ids_path}\\n\")\n",
    "\n",
    "nc_val_labels_path = os.path.join(base_dir, \"nc-val-labels.pt\")\n",
    "nc_val_labels = torch.randint(0, 10, (num_vals,))\n",
    "print(f\"Part of val labels for node classification: {nc_val_labels[:3]}\")\n",
    "torch.save(nc_val_labels, nc_val_labels_path)\n",
    "print(f\"NC val labels are saved to {nc_val_labels_path}\\n\")\n",
    "\n",
    "nc_test_ids_path = os.path.join(base_dir, \"nc-test-ids.npy\")\n",
    "nc_test_ids = ids[-num_tests:]\n",
    "print(f\"Part of test ids for node classification: {nc_test_ids[:3]}\")\n",
    "np.save(nc_test_ids_path, nc_test_ids)\n",
    "print(f\"NC test ids are saved to {nc_test_ids_path}\\n\")\n",
    "\n",
    "nc_test_labels_path = os.path.join(base_dir, \"nc-test-labels.pt\")\n",
    "nc_test_labels = torch.randint(0, 10, (num_tests,))\n",
    "print(f\"Part of test labels for node classification: {nc_test_labels[:3]}\")\n",
    "torch.save(nc_test_labels, nc_test_labels_path)\n",
    "print(f\"NC test labels are saved to {nc_test_labels_path}\\n\")"
   ]
  },
  {
   "cell_type": "markdown",
   "metadata": {
    "id": "LhAcDCHQ_KJ0"
   },
   "source": [
    "#### Link Prediction Task\n",
    "For link prediction task, we need **seeds** or **corresponding labels and indexes** which representing the pos/neg property and group of the seeds for each training/validation/test set. Like feature data, numpy arrays and torch tensors are supported for these sets."
   ]
  },
  {
   "cell_type": "code",
   "execution_count": 6,
   "metadata": {
    "execution": {
     "iopub.execute_input": "2024-07-29T04:53:10.783994Z",
     "iopub.status.busy": "2024-07-29T04:53:10.783408Z",
     "iopub.status.idle": "2024-07-29T04:53:10.801020Z",
     "shell.execute_reply": "2024-07-29T04:53:10.800185Z"
    },
    "id": "u0jCnXIcAQy4"
   },
   "outputs": [
    {
     "name": "stdout",
     "output_type": "stream",
     "text": [
      "Part of train seeds for link prediction: [[581 872]\n",
      " [625 935]\n",
      " [ 97 439]]\n",
      "LP train seeds are saved to ./ondisk_dataset_homograph/lp-train-seeds.npy\n",
      "\n",
      "Part of val seeds for link prediction: [[996 565]\n",
      " [442 184]\n",
      " [699 432]]\n",
      "LP val seeds are saved to ./ondisk_dataset_homograph/lp-val-seeds.npy\n",
      "\n",
      "Part of val labels for link prediction: [1. 1. 1.]\n",
      "LP val labels are saved to ./ondisk_dataset_homograph/lp-val-labels.npy\n",
      "\n",
      "Part of val indexes for link prediction: [0 1 2]\n",
      "LP val indexes are saved to ./ondisk_dataset_homograph/lp-val-indexes.npy\n",
      "\n",
      "Part of test seeds for link prediction: [[715 902]\n",
      " [329 287]\n",
      " [902 389]]\n",
      "LP test seeds are saved to ./ondisk_dataset_homograph/lp-test-seeds.npy\n",
      "\n",
      "Part of val labels for link prediction: [1. 1. 1.]\n",
      "LP test labels are saved to ./ondisk_dataset_homograph/lp-test-labels.npy\n",
      "\n",
      "Part of test indexes for link prediction: [0 1 2]\n",
      "LP test indexes are saved to ./ondisk_dataset_homograph/lp-test-indexes.npy\n",
      "\n"
     ]
    }
   ],
   "source": [
    "num_trains = int(num_edges * 0.6)\n",
    "num_vals = int(num_edges * 0.2)\n",
    "num_tests = num_edges - num_trains - num_vals\n",
    "\n",
    "lp_train_seeds_path = os.path.join(base_dir, \"lp-train-seeds.npy\")\n",
    "lp_train_seeds = edges[:num_trains, :]\n",
    "print(f\"Part of train seeds for link prediction: {lp_train_seeds[:3]}\")\n",
    "np.save(lp_train_seeds_path, lp_train_seeds)\n",
    "print(f\"LP train seeds are saved to {lp_train_seeds_path}\\n\")\n",
    "\n",
    "lp_val_seeds_path = os.path.join(base_dir, \"lp-val-seeds.npy\")\n",
    "lp_val_seeds = edges[num_trains:num_trains+num_vals, :]\n",
    "lp_val_neg_dsts = np.random.randint(0, num_nodes, (num_vals, 10)).reshape(-1)\n",
    "lp_val_neg_srcs = np.repeat(lp_val_seeds[:,0], 10)\n",
    "lp_val_neg_seeds = np.concatenate((lp_val_neg_srcs, lp_val_neg_dsts)).reshape(2,-1).T\n",
    "lp_val_seeds = np.concatenate((lp_val_seeds, lp_val_neg_seeds))\n",
    "print(f\"Part of val seeds for link prediction: {lp_val_seeds[:3]}\")\n",
    "np.save(lp_val_seeds_path, lp_val_seeds)\n",
    "print(f\"LP val seeds are saved to {lp_val_seeds_path}\\n\")\n",
    "\n",
    "lp_val_labels_path = os.path.join(base_dir, \"lp-val-labels.npy\")\n",
    "lp_val_labels = np.empty(num_vals * (10 + 1))\n",
    "lp_val_labels[:num_vals] = 1\n",
    "lp_val_labels[num_vals:] = 0\n",
    "print(f\"Part of val labels for link prediction: {lp_val_labels[:3]}\")\n",
    "np.save(lp_val_labels_path, lp_val_labels)\n",
    "print(f\"LP val labels are saved to {lp_val_labels_path}\\n\")\n",
    "\n",
    "lp_val_indexes_path = os.path.join(base_dir, \"lp-val-indexes.npy\")\n",
    "lp_val_indexes = np.arange(0, num_vals)\n",
    "lp_val_neg_indexes = np.repeat(lp_val_indexes, 10)\n",
    "lp_val_indexes = np.concatenate([lp_val_indexes, lp_val_neg_indexes])\n",
    "print(f\"Part of val indexes for link prediction: {lp_val_indexes[:3]}\")\n",
    "np.save(lp_val_indexes_path, lp_val_indexes)\n",
    "print(f\"LP val indexes are saved to {lp_val_indexes_path}\\n\")\n",
    "\n",
    "lp_test_seeds_path = os.path.join(base_dir, \"lp-test-seeds.npy\")\n",
    "lp_test_seeds = edges[-num_tests:, :]\n",
    "lp_test_neg_dsts = np.random.randint(0, num_nodes, (num_tests, 10)).reshape(-1)\n",
    "lp_test_neg_srcs = np.repeat(lp_test_seeds[:,0], 10)\n",
    "lp_test_neg_seeds = np.concatenate((lp_test_neg_srcs, lp_test_neg_dsts)).reshape(2,-1).T\n",
    "lp_test_seeds = np.concatenate((lp_test_seeds, lp_test_neg_seeds))\n",
    "print(f\"Part of test seeds for link prediction: {lp_test_seeds[:3]}\")\n",
    "np.save(lp_test_seeds_path, lp_test_seeds)\n",
    "print(f\"LP test seeds are saved to {lp_test_seeds_path}\\n\")\n",
    "\n",
    "lp_test_labels_path = os.path.join(base_dir, \"lp-test-labels.npy\")\n",
    "lp_test_labels = np.empty(num_tests * (10 + 1))\n",
    "lp_test_labels[:num_tests] = 1\n",
    "lp_test_labels[num_tests:] = 0\n",
    "print(f\"Part of val labels for link prediction: {lp_test_labels[:3]}\")\n",
    "np.save(lp_test_labels_path, lp_test_labels)\n",
    "print(f\"LP test labels are saved to {lp_test_labels_path}\\n\")\n",
    "\n",
    "lp_test_indexes_path = os.path.join(base_dir, \"lp-test-indexes.npy\")\n",
    "lp_test_indexes = np.arange(0, num_tests)\n",
    "lp_test_neg_indexes = np.repeat(lp_test_indexes, 10)\n",
    "lp_test_indexes = np.concatenate([lp_test_indexes, lp_test_neg_indexes])\n",
    "print(f\"Part of test indexes for link prediction: {lp_test_indexes[:3]}\")\n",
    "np.save(lp_test_indexes_path, lp_test_indexes)\n",
    "print(f\"LP test indexes are saved to {lp_test_indexes_path}\\n\")"
   ]
  },
  {
   "cell_type": "markdown",
   "metadata": {
    "id": "wbk6-wxRK-6S"
   },
   "source": [
    "## Organize Data into YAML File\n",
    "Now we need to create a `metadata.yaml` file which contains the paths, dadta types of graph structure, feature data, training/validation/test sets.\n",
    "\n",
    "Notes:\n",
    "- all path should be relative to `metadata.yaml`.\n",
    "- Below fields are optional and not specified in below example.\n",
    "  - `in_memory`: indicates whether to load dada into memory or `mmap`. Default is `True`.\n",
    "\n",
    "Please refer to [YAML specification](https://github.com/dmlc/dgl/blob/master/docs/source/stochastic_training/ondisk-dataset-specification.rst) for more details."
   ]
  },
  {
   "cell_type": "code",
   "execution_count": 7,
   "metadata": {
    "execution": {
     "iopub.execute_input": "2024-07-29T04:53:10.803995Z",
     "iopub.status.busy": "2024-07-29T04:53:10.803535Z",
     "iopub.status.idle": "2024-07-29T04:53:10.810465Z",
     "shell.execute_reply": "2024-07-29T04:53:10.809495Z"
    },
    "id": "ddGTWW61Lpwp"
   },
   "outputs": [],
   "source": [
    "yaml_content = f\"\"\"\n",
    "    dataset_name: homogeneous_graph_nc_lp\n",
    "    graph:\n",
    "      nodes:\n",
    "        - num: {num_nodes}\n",
    "      edges:\n",
    "        - format: csv\n",
    "          path: {os.path.basename(edges_path)}\n",
    "    feature_data:\n",
    "      - domain: node\n",
    "        name: feat_0\n",
    "        format: numpy\n",
    "        path: {os.path.basename(node_feat_0_path)}\n",
    "      - domain: node\n",
    "        name: feat_1\n",
    "        format: torch\n",
    "        path: {os.path.basename(node_feat_1_path)}\n",
    "      - domain: edge\n",
    "        name: feat_0\n",
    "        format: numpy\n",
    "        path: {os.path.basename(edge_feat_0_path)}\n",
    "      - domain: edge\n",
    "        name: feat_1\n",
    "        format: torch\n",
    "        path: {os.path.basename(edge_feat_1_path)}\n",
    "    tasks:\n",
    "      - name: node_classification\n",
    "        num_classes: 10\n",
    "        train_set:\n",
    "          - data:\n",
    "              - name: seeds\n",
    "                format: numpy\n",
    "                path: {os.path.basename(nc_train_ids_path)}\n",
    "              - name: labels\n",
    "                format: torch\n",
    "                path: {os.path.basename(nc_train_labels_path)}\n",
    "        validation_set:\n",
    "          - data:\n",
    "              - name: seeds\n",
    "                format: numpy\n",
    "                path: {os.path.basename(nc_val_ids_path)}\n",
    "              - name: labels\n",
    "                format: torch\n",
    "                path: {os.path.basename(nc_val_labels_path)}\n",
    "        test_set:\n",
    "          - data:\n",
    "              - name: seeds\n",
    "                format: numpy\n",
    "                path: {os.path.basename(nc_test_ids_path)}\n",
    "              - name: labels\n",
    "                format: torch\n",
    "                path: {os.path.basename(nc_test_labels_path)}\n",
    "      - name: link_prediction\n",
    "        num_classes: 10\n",
    "        train_set:\n",
    "          - data:\n",
    "              - name: seeds\n",
    "                format: numpy\n",
    "                path: {os.path.basename(lp_train_seeds_path)}\n",
    "        validation_set:\n",
    "          - data:\n",
    "              - name: seeds\n",
    "                format: numpy\n",
    "                path: {os.path.basename(lp_val_seeds_path)}\n",
    "              - name: labels\n",
    "                format: numpy\n",
    "                path: {os.path.basename(lp_val_labels_path)}\n",
    "              - name: indexes\n",
    "                format: numpy\n",
    "                path: {os.path.basename(lp_val_indexes_path)}\n",
    "        test_set:\n",
    "          - data:\n",
    "              - name: seeds\n",
    "                format: numpy\n",
    "                path: {os.path.basename(lp_test_seeds_path)}\n",
    "              - name: labels\n",
    "                format: numpy\n",
    "                path: {os.path.basename(lp_test_labels_path)}\n",
    "              - name: indexes\n",
    "                format: numpy\n",
    "                path: {os.path.basename(lp_test_indexes_path)}\n",
    "\"\"\"\n",
    "metadata_path = os.path.join(base_dir, \"metadata.yaml\")\n",
    "with open(metadata_path, \"w\") as f:\n",
    "  f.write(yaml_content)"
   ]
  },
  {
   "cell_type": "markdown",
   "metadata": {
    "id": "kEfybHGhOW7O"
   },
   "source": [
    "## Instantiate `OnDiskDataset`\n",
    "Now we're ready to load dataset via `dgl.graphbolt.OnDiskDataset`. When instantiating, we just pass in the base directory where `metadata.yaml` file lies.\n",
    "\n",
    "During first instantiation, GraphBolt preprocesses the raw data such as constructing `FusedCSCSamplingGraph` from edges. All data including graph, feature data, training/validation/test sets are put into `preprocessed` directory after preprocessing. Any following dataset loading will skip the preprocess stage.\n",
    "\n",
    "After preprocessing, `load()` is required to be called explicitly in order to load graph, feature data and tasks."
   ]
  },
  {
   "cell_type": "code",
   "execution_count": 8,
   "metadata": {
    "execution": {
     "iopub.execute_input": "2024-07-29T04:53:10.812828Z",
     "iopub.status.busy": "2024-07-29T04:53:10.812477Z",
     "iopub.status.idle": "2024-07-29T04:53:10.881025Z",
     "shell.execute_reply": "2024-07-29T04:53:10.880332Z"
    },
    "id": "W58CZoSzOiyo"
   },
   "outputs": [
    {
     "name": "stdout",
     "output_type": "stream",
     "text": [
      "Start to preprocess the on-disk dataset.\n",
      "Finish preprocessing the on-disk dataset.\n",
      "Loaded graph: FusedCSCSamplingGraph(csc_indptr=tensor([    0,    13,    20,  ...,  9992,  9997, 10000], dtype=torch.int32),\n",
      "                      indices=tensor([290, 948, 358,  ..., 326, 305, 483], dtype=torch.int32),\n",
      "                      total_num_nodes=1000, num_edges=10000,)\n",
      "\n",
      "Loaded feature store: TorchBasedFeatureStore(\n",
      "    {(<OnDiskFeatureDataDomain.NODE: 'node'>, None, 'feat_0'): TorchBasedFeature(\n",
      "        feature=tensor([[0.2114, 0.9540, 0.1186, 0.6819, 0.9544],\n",
      "                        [0.7435, 0.3460, 0.1930, 0.0634, 0.5936],\n",
      "                        [0.5226, 0.0474, 0.4373, 0.0382, 0.3828],\n",
      "                        ...,\n",
      "                        [0.5976, 0.1517, 0.0894, 0.4514, 0.7776],\n",
      "                        [0.9761, 0.1908, 0.3987, 0.0501, 0.3021],\n",
      "                        [0.6138, 0.3212, 0.1300, 0.3324, 0.3691]], dtype=torch.float64),\n",
      "        metadata={},\n",
      "    ), (<OnDiskFeatureDataDomain.NODE: 'node'>, None, 'feat_1'): TorchBasedFeature(\n",
      "        feature=tensor([[0.0746, 0.9944, 0.3530, 0.8161, 0.0783],\n",
      "                        [0.2712, 0.2049, 0.3057, 0.1997, 0.6055],\n",
      "                        [0.9688, 0.1794, 0.1783, 0.4046, 0.3877],\n",
      "                        ...,\n",
      "                        [0.6445, 0.0868, 0.3381, 0.8164, 0.7248],\n",
      "                        [0.4793, 0.7208, 0.9065, 0.8716, 0.4313],\n",
      "                        [0.3434, 0.4226, 0.0954, 0.9794, 0.8990]]),\n",
      "        metadata={},\n",
      "    ), (<OnDiskFeatureDataDomain.EDGE: 'edge'>, None, 'feat_0'): TorchBasedFeature(\n",
      "        feature=tensor([[0.8678, 0.9640, 0.1591, 0.5594, 0.8034],\n",
      "                        [0.5401, 0.1110, 0.4600, 0.5737, 0.0136],\n",
      "                        [0.9466, 0.0224, 0.0610, 0.7421, 0.8293],\n",
      "                        ...,\n",
      "                        [0.4965, 0.7768, 0.2896, 0.9799, 0.7799],\n",
      "                        [0.2628, 0.0065, 0.1912, 0.0814, 0.8068],\n",
      "                        [0.9127, 0.8418, 0.6302, 0.4793, 0.0089]], dtype=torch.float64),\n",
      "        metadata={},\n",
      "    ), (<OnDiskFeatureDataDomain.EDGE: 'edge'>, None, 'feat_1'): TorchBasedFeature(\n",
      "        feature=tensor([[0.2462, 0.5684, 0.8552, 0.9422, 0.2992],\n",
      "                        [0.1344, 0.4970, 0.1382, 0.0868, 0.9719],\n",
      "                        [0.0540, 0.9592, 0.1411, 0.4845, 0.7449],\n",
      "                        ...,\n",
      "                        [0.5449, 0.9066, 0.4215, 0.6027, 0.4640],\n",
      "                        [0.8142, 0.2244, 0.2734, 0.4724, 0.3112],\n",
      "                        [0.2991, 0.4068, 0.9243, 0.5965, 0.6141]]),\n",
      "        metadata={},\n",
      "    )}\n",
      ")\n",
      "\n",
      "Loaded node classification task: OnDiskTask(validation_set=ItemSet(\n",
      "               items=(tensor([728, 873, 375,  12, 517, 347, 146,  21, 408, 881, 405, 473, 554, 767,\n",
      "                    60, 816, 226, 700, 349, 793,  87, 219, 461,  72, 521, 820, 807, 514,\n",
      "                    52, 190, 833, 450, 145, 435, 693, 382, 453, 850, 282, 147, 366, 989,\n",
      "                   861, 570, 627, 690, 736, 152, 296, 830, 193, 484, 550, 777, 334, 144,\n",
      "                   977, 101, 936, 364, 665, 215, 362, 368, 325, 132,   7, 927,  84, 667,\n",
      "                   854, 328, 845, 310, 888, 109, 161, 309, 117, 335, 876, 726, 622, 140,\n",
      "                   713, 638, 923,  25, 825, 259, 532,  74, 208,  15, 636, 170, 741, 468,\n",
      "                   645, 306, 976, 421, 705, 207, 370, 355, 465, 344, 377, 958, 585, 941,\n",
      "                   412, 696, 316, 874, 574, 495, 738, 616, 385, 200, 543, 778, 288, 928,\n",
      "                   960, 241,  69, 115, 653, 128, 872, 102, 357, 946, 579, 903, 395, 320,\n",
      "                   970, 978, 173, 379, 204, 596, 516,  44, 821, 294, 786, 748, 719, 656,\n",
      "                   841, 701, 183, 129, 747, 963, 857, 828, 511, 284, 455, 565,  92, 371,\n",
      "                   167, 257, 784, 526, 779, 697, 271, 499, 374,  27, 870,   2, 576, 689,\n",
      "                   688, 127, 529, 685, 683,  24, 534, 464,  91, 181, 317, 359, 887, 402,\n",
      "                    22, 330, 605, 581], dtype=torch.int32), tensor([3, 5, 8, 4, 4, 8, 4, 9, 6, 4, 7, 8, 7, 1, 1, 0, 9, 4, 2, 5, 9, 7, 3, 3,\n",
      "                   2, 5, 4, 7, 5, 3, 9, 9, 7, 9, 7, 3, 6, 3, 9, 7, 2, 4, 6, 7, 2, 9, 0, 0,\n",
      "                   7, 0, 5, 1, 1, 6, 7, 3, 5, 5, 5, 2, 3, 9, 3, 1, 8, 6, 5, 6, 2, 6, 0, 5,\n",
      "                   0, 4, 1, 0, 2, 5, 9, 2, 2, 7, 3, 6, 1, 0, 7, 6, 0, 9, 8, 8, 3, 7, 9, 5,\n",
      "                   8, 1, 1, 8, 8, 6, 5, 6, 2, 9, 4, 1, 4, 6, 5, 9, 1, 3, 3, 8, 8, 8, 6, 5,\n",
      "                   0, 1, 3, 2, 4, 4, 6, 9, 6, 0, 1, 5, 0, 0, 4, 5, 2, 7, 8, 7, 9, 0, 3, 0,\n",
      "                   9, 8, 0, 4, 0, 3, 3, 8, 4, 6, 6, 8, 0, 6, 9, 3, 0, 8, 4, 5, 1, 5, 2, 8,\n",
      "                   9, 4, 8, 4, 3, 3, 1, 8, 8, 5, 2, 2, 9, 1, 6, 3, 1, 3, 9, 4, 3, 2, 6, 4,\n",
      "                   1, 9, 9, 0, 4, 2, 1, 5])),\n",
      "               names=('seeds', 'labels'),\n",
      "           ),\n",
      "           train_set=ItemSet(\n",
      "               items=(tensor([295, 381, 907, 456, 594, 420, 163, 108, 592,  86, 925,  33,   1, 959,\n",
      "                   678, 972, 410, 351, 582, 962, 917, 337, 485,  14, 126, 586, 680, 397,\n",
      "                   283, 885,  83, 114, 233, 981, 912, 266, 615, 904, 617, 213, 150, 991,\n",
      "                   157,  79, 452, 555, 437, 751, 899, 694, 497, 498, 648, 671, 749, 980,\n",
      "                   399, 222, 478, 898, 634, 945, 253, 189, 952, 180, 206, 640, 619,  88,\n",
      "                   378, 186, 604, 457, 446, 486, 823, 343,  34, 236, 743, 537,  36, 877,\n",
      "                   469,  99, 631, 593, 753, 729, 954, 184, 789, 314, 322, 979, 575,   8,\n",
      "                   562, 279,  97, 500, 556, 244, 670, 427, 865, 822, 938, 832, 243, 826,\n",
      "                    77, 311, 100, 121, 926, 818, 996, 156, 135, 396, 804, 111, 289, 920,\n",
      "                    11, 414,  38, 860, 569, 607, 625, 123, 185, 448, 781, 545, 268, 506,\n",
      "                   598, 130, 441, 914, 856, 880, 430, 391, 470, 444, 571, 202, 445, 451,\n",
      "                   677,  49, 862, 588, 491, 915, 424, 272, 679, 760, 808, 174, 935, 566,\n",
      "                   650, 766, 578, 342, 386, 560, 512, 896,  90, 809, 774, 947, 220,  62,\n",
      "                   902, 539, 600, 281, 134, 400, 681, 291, 829, 602, 509, 199, 782, 329,\n",
      "                   834, 769, 481, 647, 668, 195, 348, 950, 203, 732, 242, 924, 805, 964,\n",
      "                    82, 166, 136, 196, 795, 675, 944, 239, 249, 201, 590, 791, 635,   3,\n",
      "                   652,  57, 312, 974, 488, 866, 527, 360, 772, 287, 691, 773, 658, 431,\n",
      "                   695, 756, 230, 466, 419, 235, 212, 739, 231, 609, 909, 942, 771, 755,\n",
      "                   673, 471, 626, 524, 922,  93, 475, 510, 754, 387,   6, 528, 194, 301,\n",
      "                   376, 165, 632, 853, 589, 992, 940, 708, 168, 699, 160, 169,  32, 305,\n",
      "                   806, 824, 986, 851, 720, 552,  75, 852, 651,  20, 750,  26, 966, 436,\n",
      "                   613, 746, 217, 332, 110, 269,  55, 139, 401, 745, 827, 752, 990,  89,\n",
      "                   883, 251, 884, 211, 285, 492, 131, 192, 440, 411, 148, 302, 967, 758,\n",
      "                   692, 162, 149, 308, 910, 536, 623, 112, 983, 783,  30, 197, 672, 138,\n",
      "                   389,  23, 252, 886, 855, 706, 811, 474, 254, 878, 661, 597, 637, 698,\n",
      "                   911, 913,  95, 934, 179, 973,  43, 338, 449, 467, 561, 258, 489, 507,\n",
      "                   158, 124, 116, 415, 221, 515, 961, 490, 577, 307, 176, 365, 800, 564,\n",
      "                   277, 384, 567,  17, 299, 687, 229,  47, 172, 718, 707, 842, 270, 267,\n",
      "                    59, 630, 369, 682, 984, 802, 797, 513, 218, 846, 731, 315, 505, 540,\n",
      "                   657, 393, 372, 228, 494, 837, 709, 644, 999, 340, 798, 868, 463,  31,\n",
      "                   153, 245, 949,  10, 476, 390, 546, 216, 547,  19, 107,  94, 223, 813,\n",
      "                   103, 363, 655, 416,  45, 255, 844, 603, 776, 232, 721, 350, 417, 458,\n",
      "                   620, 780, 714, 483, 847, 209, 932, 394, 840,   0,   9,  96, 373, 629,\n",
      "                   646, 843, 533, 321,  50, 937, 171, 304, 367, 838, 794, 428, 943, 715,\n",
      "                   518, 993, 712, 998, 443,  29, 137, 759, 674, 703, 275, 479, 118, 921,\n",
      "                    54, 796,  68,  64, 361, 988, 480,  61, 227, 178, 919, 790,  18, 392,\n",
      "                   542, 447,  42, 686, 641, 504, 398, 580, 276, 293,  51, 723, 918, 717,\n",
      "                   882,  81, 341, 955, 541, 892, 234, 848, 273, 787, 897, 261, 558, 916,\n",
      "                    71, 120, 327, 119, 290, 544, 460, 549, 191, 214, 642, 987, 951, 929,\n",
      "                   669, 122, 814, 248, 280, 133, 418, 298, 535, 413, 303, 353, 761, 331,\n",
      "                   621, 659, 965, 177, 175, 614, 606, 664, 819, 895, 286, 995, 730, 113,\n",
      "                   358, 264, 676, 765, 388, 643, 262, 863, 762, 151, 501, 858, 265, 894,\n",
      "                   247, 454, 225, 724, 409, 352, 889, 906, 383, 871, 867, 660],\n",
      "                  dtype=torch.int32), tensor([0, 0, 7, 3, 7, 8, 2, 1, 6, 1, 9, 1, 5, 5, 6, 8, 2, 3, 7, 7, 9, 8, 4, 2,\n",
      "                   1, 6, 2, 8, 7, 0, 1, 3, 7, 4, 8, 6, 8, 5, 9, 0, 5, 1, 6, 0, 8, 4, 3, 4,\n",
      "                   8, 9, 4, 7, 8, 5, 6, 3, 4, 7, 0, 5, 5, 7, 0, 1, 8, 8, 0, 1, 0, 3, 9, 6,\n",
      "                   3, 9, 4, 7, 0, 5, 4, 6, 8, 2, 0, 4, 6, 2, 2, 0, 8, 2, 6, 2, 4, 6, 2, 7,\n",
      "                   7, 3, 8, 4, 4, 0, 8, 7, 6, 6, 0, 7, 0, 7, 9, 3, 6, 5, 0, 0, 4, 6, 0, 8,\n",
      "                   9, 7, 0, 2, 8, 4, 6, 7, 1, 9, 7, 3, 7, 5, 9, 5, 9, 5, 0, 8, 7, 1, 5, 8,\n",
      "                   5, 0, 0, 3, 4, 9, 7, 5, 0, 4, 3, 4, 3, 6, 5, 9, 6, 3, 8, 3, 1, 7, 8, 0,\n",
      "                   1, 9, 1, 8, 7, 0, 5, 7, 7, 8, 9, 6, 4, 2, 7, 1, 4, 4, 2, 7, 6, 4, 3, 4,\n",
      "                   1, 0, 0, 0, 1, 0, 4, 8, 5, 4, 1, 8, 4, 0, 2, 0, 0, 4, 6, 5, 9, 7, 5, 7,\n",
      "                   1, 7, 3, 2, 0, 2, 7, 2, 3, 1, 2, 5, 7, 4, 1, 9, 2, 2, 2, 4, 2, 1, 3, 1,\n",
      "                   8, 4, 1, 9, 6, 8, 9, 0, 1, 3, 7, 4, 2, 1, 5, 4, 9, 5, 1, 6, 1, 9, 4, 1,\n",
      "                   4, 5, 2, 1, 5, 4, 8, 5, 2, 2, 5, 0, 9, 6, 6, 9, 8, 5, 1, 2, 3, 1, 1, 7,\n",
      "                   7, 8, 2, 4, 0, 2, 4, 3, 2, 4, 4, 8, 0, 8, 8, 3, 7, 2, 3, 6, 7, 4, 8, 2,\n",
      "                   6, 1, 3, 3, 4, 6, 9, 9, 5, 2, 0, 0, 5, 5, 3, 5, 8, 6, 2, 8, 8, 8, 2, 4,\n",
      "                   7, 4, 3, 4, 4, 9, 7, 7, 4, 1, 0, 7, 1, 6, 8, 6, 0, 9, 9, 6, 3, 3, 6, 8,\n",
      "                   2, 2, 7, 8, 1, 0, 3, 8, 4, 4, 5, 1, 1, 8, 7, 5, 0, 8, 2, 5, 6, 8, 1, 8,\n",
      "                   6, 1, 6, 7, 8, 4, 1, 5, 7, 9, 2, 4, 5, 6, 6, 8, 3, 9, 7, 8, 4, 4, 2, 5,\n",
      "                   7, 9, 4, 7, 8, 4, 2, 3, 9, 4, 4, 6, 9, 0, 0, 9, 1, 8, 3, 7, 0, 7, 8, 5,\n",
      "                   9, 5, 0, 2, 2, 0, 4, 9, 2, 0, 3, 5, 6, 6, 3, 6, 4, 5, 3, 9, 0, 2, 3, 5,\n",
      "                   6, 0, 3, 8, 0, 4, 5, 8, 3, 8, 0, 4, 8, 5, 7, 1, 4, 7, 4, 1, 0, 5, 8, 1,\n",
      "                   5, 6, 1, 3, 2, 9, 4, 1, 5, 3, 3, 2, 6, 5, 8, 1, 9, 3, 2, 6, 8, 8, 2, 6,\n",
      "                   8, 3, 7, 7, 1, 4, 4, 8, 0, 4, 5, 7, 6, 3, 4, 0, 5, 8, 5, 1, 0, 0, 5, 4,\n",
      "                   1, 4, 4, 5, 3, 2, 3, 1, 2, 1, 2, 2, 9, 1, 6, 2, 4, 7, 6, 1, 4, 9, 2, 1,\n",
      "                   4, 5, 2, 1, 2, 3, 9, 8, 6, 5, 0, 4, 1, 3, 3, 9, 1, 0, 4, 3, 0, 9, 6, 3,\n",
      "                   1, 0, 8, 6, 8, 5, 6, 4, 1, 2, 7, 5, 1, 9, 2, 7, 8, 7, 3, 1, 4, 9, 8, 3])),\n",
      "               names=('seeds', 'labels'),\n",
      "           ),\n",
      "           test_set=ItemSet(\n",
      "               items=(tensor([716, 568, 601, 313, 240, 722, 523,  58,  78, 994, 639, 237,  80, 508,\n",
      "                   432, 548, 893,  85, 801, 742, 831, 971, 997, 477, 948, 433, 563, 155,\n",
      "                   839, 336, 835, 300, 890, 969, 956, 939, 803,  28,  16, 438, 346, 339,\n",
      "                   143, 975, 551, 875, 859, 905, 553, 423, 628, 666, 263, 426, 595, 106,\n",
      "                   812, 733, 953, 205, 725, 522, 864,  70, 737, 931,  53, 198, 503, 250,\n",
      "                   260, 611, 519, 891, 442, 425, 292, 764, 182, 770, 274, 104, 968,   4,\n",
      "                   142,  37, 702, 624, 406, 879, 434, 633, 326, 356, 439, 324, 159, 763,\n",
      "                     5,  39, 815, 587, 210, 744, 900, 775,  56, 649, 403, 520, 323, 788,\n",
      "                   710, 901, 584, 530, 224, 278, 493, 704,  46, 404,  41, 735, 472, 538,\n",
      "                   757, 297, 256,  76,  13, 817, 462, 933, 734, 496, 810, 727, 164,  98,\n",
      "                   188, 482, 557, 599, 531, 573, 792,  66, 740, 985,  65, 908, 663, 982,\n",
      "                   711, 930, 836, 345, 591, 559,  73, 246, 618, 525, 187, 583, 125, 380,\n",
      "                   849, 502, 654, 869, 407, 319, 459, 572, 333, 154, 238,  48, 612, 768,\n",
      "                   785, 799, 487,  63, 429,  40, 662, 684, 422, 141, 957, 354, 105, 318,\n",
      "                    67,  35, 610, 608], dtype=torch.int32), tensor([6, 5, 8, 4, 0, 7, 9, 7, 2, 8, 4, 1, 2, 5, 5, 2, 3, 5, 3, 9, 6, 3, 7, 2,\n",
      "                   6, 8, 6, 1, 9, 8, 5, 5, 8, 7, 2, 4, 1, 7, 8, 3, 9, 3, 1, 3, 5, 3, 8, 5,\n",
      "                   6, 0, 9, 1, 2, 8, 8, 1, 0, 4, 6, 2, 5, 1, 1, 8, 6, 1, 4, 7, 6, 5, 4, 1,\n",
      "                   2, 1, 0, 9, 0, 4, 8, 3, 1, 7, 5, 2, 4, 9, 7, 4, 0, 0, 7, 4, 7, 3, 3, 8,\n",
      "                   5, 6, 0, 2, 4, 7, 1, 2, 4, 9, 1, 4, 0, 0, 0, 7, 4, 4, 3, 5, 4, 3, 9, 0,\n",
      "                   3, 3, 7, 9, 2, 3, 7, 4, 6, 5, 7, 7, 3, 5, 8, 0, 0, 1, 7, 9, 6, 2, 1, 4,\n",
      "                   3, 5, 4, 2, 5, 6, 2, 3, 7, 7, 1, 9, 7, 8, 8, 6, 1, 4, 1, 9, 9, 7, 9, 8,\n",
      "                   0, 5, 7, 5, 5, 5, 8, 9, 5, 5, 6, 5, 1, 5, 8, 6, 8, 9, 4, 0, 9, 0, 8, 1,\n",
      "                   0, 3, 7, 6, 9, 5, 2, 7])),\n",
      "               names=('seeds', 'labels'),\n",
      "           ),\n",
      "           metadata={'name': 'node_classification', 'num_classes': 10},)\n",
      "\n",
      "Loaded link prediction task: OnDiskTask(validation_set=ItemSet(\n",
      "               items=(tensor([[996, 565],\n",
      "                   [442, 184],\n",
      "                   [699, 432],\n",
      "                   ...,\n",
      "                   [ 72, 882],\n",
      "                   [ 72, 543],\n",
      "                   [ 72, 134]], dtype=torch.int32), tensor([1., 1., 1.,  ..., 0., 0., 0.], dtype=torch.float64), tensor([   0,    1,    2,  ..., 1999, 1999, 1999])),\n",
      "               names=('seeds', 'labels', 'indexes'),\n",
      "           ),\n",
      "           train_set=ItemSet(\n",
      "               items=(tensor([[581, 872],\n",
      "                   [625, 935],\n",
      "                   [ 97, 439],\n",
      "                   ...,\n",
      "                   [178, 430],\n",
      "                   [893, 649],\n",
      "                   [343, 379]], dtype=torch.int32),),\n",
      "               names=('seeds',),\n",
      "           ),\n",
      "           test_set=ItemSet(\n",
      "               items=(tensor([[715, 902],\n",
      "                   [329, 287],\n",
      "                   [902, 389],\n",
      "                   ...,\n",
      "                   [340, 515],\n",
      "                   [340, 245],\n",
      "                   [340, 398]], dtype=torch.int32), tensor([1., 1., 1.,  ..., 0., 0., 0.], dtype=torch.float64), tensor([   0,    1,    2,  ..., 1999, 1999, 1999])),\n",
      "               names=('seeds', 'labels', 'indexes'),\n",
      "           ),\n",
      "           metadata={'name': 'link_prediction', 'num_classes': 10},)\n",
      "\n"
     ]
    },
    {
     "name": "stderr",
     "output_type": "stream",
     "text": [
      "/dgl/python/dgl/graphbolt/impl/ondisk_dataset.py:463: GBWarning: Edge feature is stored, but edge IDs are not saved.\n",
      "  gb_warning(\"Edge feature is stored, but edge IDs are not saved.\")\n"
     ]
    }
   ],
   "source": [
    "dataset = gb.OnDiskDataset(base_dir).load()\n",
    "graph = dataset.graph\n",
    "print(f\"Loaded graph: {graph}\\n\")\n",
    "\n",
    "feature = dataset.feature\n",
    "print(f\"Loaded feature store: {feature}\\n\")\n",
    "\n",
    "tasks = dataset.tasks\n",
    "nc_task = tasks[0]\n",
    "print(f\"Loaded node classification task: {nc_task}\\n\")\n",
    "lp_task = tasks[1]\n",
    "print(f\"Loaded link prediction task: {lp_task}\\n\")"
   ]
  }
 ],
 "metadata": {
  "colab": {
   "private_outputs": true,
   "provenance": []
  },
  "kernelspec": {
   "display_name": "Python 3",
   "name": "python3"
  },
  "language_info": {
   "codemirror_mode": {
    "name": "ipython",
    "version": 3
   },
   "file_extension": ".py",
   "mimetype": "text/x-python",
   "name": "python",
   "nbconvert_exporter": "python",
   "pygments_lexer": "ipython3",
   "version": "3.10.14"
  }
 },
 "nbformat": 4,
 "nbformat_minor": 0
}

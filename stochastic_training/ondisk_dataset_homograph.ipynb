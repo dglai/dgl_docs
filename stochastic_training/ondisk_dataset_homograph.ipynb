{
 "cells": [
  {
   "cell_type": "markdown",
   "metadata": {
    "id": "FnFhPMaAfLtJ"
   },
   "source": [
    "# OnDiskDataset for Homogeneous Graph\n",
    "\n",
    "[![Open In Colab](https://colab.research.google.com/assets/colab-badge.svg)](https://colab.research.google.com/github/dmlc/dgl/blob/master/notebooks/stochastic_training/ondisk_dataset_homograph.ipynb) [![GitHub](https://img.shields.io/badge/-View%20on%20GitHub-181717?logo=github&logoColor=ffffff)](https://github.com/dmlc/dgl/blob/master/notebooks/stochastic_training/ondisk_dataset_homograph.ipynb)\n",
    "\n",
    "This tutorial shows how to create `OnDiskDataset` for homogeneous graph that could be used in **GraphBolt** framework.\n",
    "\n",
    "By the end of this tutorial, you will be able to\n",
    "\n",
    "- organize graph structure data.\n",
    "- organize feature data.\n",
    "- organize training/validation/test set for specific tasks.\n",
    "\n",
    "To create an ``OnDiskDataset`` object, you need to organize all the data including graph structure, feature data and tasks into a directory. The directory should contain a ``metadata.yaml`` file that describes the metadata of the dataset.\n",
    "\n",
    "Now let's generate various data step by step and organize them together to instantiate `OnDiskDataset` finally."
   ]
  },
  {
   "cell_type": "markdown",
   "metadata": {
    "id": "Wlb19DtWgtzq"
   },
   "source": [
    "## Install DGL package"
   ]
  },
  {
   "cell_type": "code",
   "execution_count": 1,
   "metadata": {
    "execution": {
     "iopub.execute_input": "2024-09-28T13:18:51.671381Z",
     "iopub.status.busy": "2024-09-28T13:18:51.671179Z",
     "iopub.status.idle": "2024-09-28T13:18:54.700706Z",
     "shell.execute_reply": "2024-09-28T13:18:54.699577Z"
    },
    "id": "UojlT9ZGgyr9"
   },
   "outputs": [
    {
     "name": "stdout",
     "output_type": "stream",
     "text": [
      "Looking in links: https://data.dgl.ai/wheels-test/repo.html\r\n",
      "Requirement already satisfied: dgl in /opt/conda/envs/dgl-dev-cpu/lib/python3.10/site-packages (2.2a240410)\r\n",
      "Requirement already satisfied: numpy>=1.14.0 in /opt/conda/envs/dgl-dev-cpu/lib/python3.10/site-packages (from dgl) (1.26.4)\r\n",
      "Requirement already satisfied: scipy>=1.1.0 in /opt/conda/envs/dgl-dev-cpu/lib/python3.10/site-packages (from dgl) (1.14.1)\r\n",
      "Requirement already satisfied: networkx>=2.1 in /opt/conda/envs/dgl-dev-cpu/lib/python3.10/site-packages (from dgl) (3.3)\r\n",
      "Requirement already satisfied: requests>=2.19.0 in /opt/conda/envs/dgl-dev-cpu/lib/python3.10/site-packages (from dgl) (2.32.3)\r\n",
      "Requirement already satisfied: tqdm in /opt/conda/envs/dgl-dev-cpu/lib/python3.10/site-packages (from dgl) (4.66.5)\r\n",
      "Requirement already satisfied: psutil>=5.8.0 in /opt/conda/envs/dgl-dev-cpu/lib/python3.10/site-packages (from dgl) (6.0.0)\r\n",
      "Requirement already satisfied: torchdata>=0.5.0 in /opt/conda/envs/dgl-dev-cpu/lib/python3.10/site-packages (from dgl) (0.8.0)\r\n",
      "Requirement already satisfied: pandas in /opt/conda/envs/dgl-dev-cpu/lib/python3.10/site-packages (from dgl) (2.2.3)\r\n"
     ]
    },
    {
     "name": "stdout",
     "output_type": "stream",
     "text": [
      "Requirement already satisfied: charset-normalizer<4,>=2 in /opt/conda/envs/dgl-dev-cpu/lib/python3.10/site-packages (from requests>=2.19.0->dgl) (3.3.2)\r\n",
      "Requirement already satisfied: idna<4,>=2.5 in /opt/conda/envs/dgl-dev-cpu/lib/python3.10/site-packages (from requests>=2.19.0->dgl) (3.10)\r\n",
      "Requirement already satisfied: urllib3<3,>=1.21.1 in /opt/conda/envs/dgl-dev-cpu/lib/python3.10/site-packages (from requests>=2.19.0->dgl) (2.2.3)\r\n",
      "Requirement already satisfied: certifi>=2017.4.17 in /opt/conda/envs/dgl-dev-cpu/lib/python3.10/site-packages (from requests>=2.19.0->dgl) (2024.8.30)\r\n",
      "Requirement already satisfied: torch>=2 in /opt/conda/envs/dgl-dev-cpu/lib/python3.10/site-packages (from torchdata>=0.5.0->dgl) (2.1.0+cpu)\r\n"
     ]
    },
    {
     "name": "stdout",
     "output_type": "stream",
     "text": [
      "Requirement already satisfied: python-dateutil>=2.8.2 in /opt/conda/envs/dgl-dev-cpu/lib/python3.10/site-packages (from pandas->dgl) (2.9.0.post0)\r\n",
      "Requirement already satisfied: pytz>=2020.1 in /opt/conda/envs/dgl-dev-cpu/lib/python3.10/site-packages (from pandas->dgl) (2024.2)\r\n",
      "Requirement already satisfied: tzdata>=2022.7 in /opt/conda/envs/dgl-dev-cpu/lib/python3.10/site-packages (from pandas->dgl) (2024.2)\r\n",
      "Requirement already satisfied: six>=1.5 in /opt/conda/envs/dgl-dev-cpu/lib/python3.10/site-packages (from python-dateutil>=2.8.2->pandas->dgl) (1.16.0)\r\n",
      "Requirement already satisfied: filelock in /opt/conda/envs/dgl-dev-cpu/lib/python3.10/site-packages (from torch>=2->torchdata>=0.5.0->dgl) (3.16.1)\r\n",
      "Requirement already satisfied: typing-extensions in /opt/conda/envs/dgl-dev-cpu/lib/python3.10/site-packages (from torch>=2->torchdata>=0.5.0->dgl) (4.12.2)\r\n",
      "Requirement already satisfied: sympy in /opt/conda/envs/dgl-dev-cpu/lib/python3.10/site-packages (from torch>=2->torchdata>=0.5.0->dgl) (1.13.3)\r\n",
      "Requirement already satisfied: jinja2 in /opt/conda/envs/dgl-dev-cpu/lib/python3.10/site-packages (from torch>=2->torchdata>=0.5.0->dgl) (3.1.4)\r\n",
      "Requirement already satisfied: fsspec in /opt/conda/envs/dgl-dev-cpu/lib/python3.10/site-packages (from torch>=2->torchdata>=0.5.0->dgl) (2024.9.0)\r\n"
     ]
    },
    {
     "name": "stdout",
     "output_type": "stream",
     "text": [
      "Requirement already satisfied: MarkupSafe>=2.0 in /opt/conda/envs/dgl-dev-cpu/lib/python3.10/site-packages (from jinja2->torch>=2->torchdata>=0.5.0->dgl) (2.1.5)\r\n",
      "Requirement already satisfied: mpmath<1.4,>=1.1.0 in /opt/conda/envs/dgl-dev-cpu/lib/python3.10/site-packages (from sympy->torch>=2->torchdata>=0.5.0->dgl) (1.3.0)\r\n"
     ]
    },
    {
     "name": "stdout",
     "output_type": "stream",
     "text": [
      "\u001b[33mWARNING: Running pip as the 'root' user can result in broken permissions and conflicting behaviour with the system package manager, possibly rendering your system unusable.It is recommended to use a virtual environment instead: https://pip.pypa.io/warnings/venv. Use the --root-user-action option if you know what you are doing and want to suppress this warning.\u001b[0m\u001b[33m\r\n",
      "\u001b[0m"
     ]
    },
    {
     "name": "stdout",
     "output_type": "stream",
     "text": [
      "DGL installed!\n"
     ]
    }
   ],
   "source": [
    "# Install required packages.\n",
    "import os\n",
    "import torch\n",
    "import numpy as np\n",
    "os.environ['TORCH'] = torch.__version__\n",
    "os.environ['DGLBACKEND'] = \"pytorch\"\n",
    "\n",
    "# Install the CPU version.\n",
    "device = torch.device(\"cpu\")\n",
    "!pip install --pre dgl -f https://data.dgl.ai/wheels-test/repo.html\n",
    "\n",
    "try:\n",
    "    import dgl\n",
    "    import dgl.graphbolt as gb\n",
    "    installed = True\n",
    "except ImportError as error:\n",
    "    installed = False\n",
    "    print(error)\n",
    "print(\"DGL installed!\" if installed else \"DGL not found!\")"
   ]
  },
  {
   "cell_type": "markdown",
   "metadata": {
    "id": "2R7WnSbjsfbr"
   },
   "source": [
    "## Data preparation\n",
    "In order to demonstrate how to organize various data, let's create a base directory first."
   ]
  },
  {
   "cell_type": "code",
   "execution_count": 2,
   "metadata": {
    "execution": {
     "iopub.execute_input": "2024-09-28T13:18:54.703719Z",
     "iopub.status.busy": "2024-09-28T13:18:54.703054Z",
     "iopub.status.idle": "2024-09-28T13:18:54.708633Z",
     "shell.execute_reply": "2024-09-28T13:18:54.707714Z"
    },
    "id": "SZipbzyltLfO"
   },
   "outputs": [
    {
     "name": "stdout",
     "output_type": "stream",
     "text": [
      "Created base directory: ./ondisk_dataset_homograph\n"
     ]
    }
   ],
   "source": [
    "base_dir = './ondisk_dataset_homograph'\n",
    "os.makedirs(base_dir, exist_ok=True)\n",
    "print(f\"Created base directory: {base_dir}\")"
   ]
  },
  {
   "cell_type": "markdown",
   "metadata": {
    "id": "qhNtIn_xhlnl"
   },
   "source": [
    "### Generate graph structure data\n",
    "For homogeneous graph, we just need to save edges(namely seeds) into  **Numpy** or **CSV** file.\n",
    "\n",
    "Note:\n",
    "- when saving to **Numpy**, the array requires to be in shape of `(2, N)`. This format is recommended as constructing graph from it is much faster than **CSV** file.\n",
    "- when saving to **CSV** file, do not save index and header.\n"
   ]
  },
  {
   "cell_type": "code",
   "execution_count": 3,
   "metadata": {
    "execution": {
     "iopub.execute_input": "2024-09-28T13:18:54.710733Z",
     "iopub.status.busy": "2024-09-28T13:18:54.710409Z",
     "iopub.status.idle": "2024-09-28T13:18:54.724800Z",
     "shell.execute_reply": "2024-09-28T13:18:54.723813Z"
    },
    "id": "HcBt4G5BmSjr"
   },
   "outputs": [
    {
     "name": "stdout",
     "output_type": "stream",
     "text": [
      "Part of edges: [[474 538]\n",
      " [431 901]\n",
      " [668 345]\n",
      " [729 516]\n",
      " [138 203]]\n",
      "Edges are saved into ./ondisk_dataset_homograph/edges.csv\n"
     ]
    }
   ],
   "source": [
    "import numpy as np\n",
    "import pandas as pd\n",
    "num_nodes = 1000\n",
    "num_edges = 10 * num_nodes\n",
    "edges_path = os.path.join(base_dir, \"edges.csv\")\n",
    "edges = np.random.randint(0, num_nodes, size=(num_edges, 2))\n",
    "\n",
    "print(f\"Part of edges: {edges[:5, :]}\")\n",
    "\n",
    "df = pd.DataFrame(edges)\n",
    "df.to_csv(edges_path, index=False, header=False)\n",
    "\n",
    "print(f\"Edges are saved into {edges_path}\")"
   ]
  },
  {
   "cell_type": "markdown",
   "metadata": {
    "id": "kh-4cPtzpcaH"
   },
   "source": [
    "### Generate feature data for graph\n",
    "For feature data, numpy arrays and torch tensors are supported for now."
   ]
  },
  {
   "cell_type": "code",
   "execution_count": 4,
   "metadata": {
    "execution": {
     "iopub.execute_input": "2024-09-28T13:18:54.730802Z",
     "iopub.status.busy": "2024-09-28T13:18:54.730085Z",
     "iopub.status.idle": "2024-09-28T13:18:54.745766Z",
     "shell.execute_reply": "2024-09-28T13:18:54.745010Z"
    },
    "id": "_PVu1u5brBhF"
   },
   "outputs": [
    {
     "name": "stdout",
     "output_type": "stream",
     "text": [
      "Part of node feature [feat_0]: [[0.14151675 0.28833895 0.27170341 0.69317699 0.81765917]\n",
      " [0.00210649 0.37987291 0.54730936 0.97580139 0.88595577]\n",
      " [0.62787458 0.6029533  0.56095049 0.26060099 0.29699297]]\n",
      "Node feature [feat_0] is saved to ./ondisk_dataset_homograph/node-feat-0.npy\n",
      "\n",
      "Part of node feature [feat_1]: tensor([[0.0224, 0.4680, 0.1991, 0.8200, 0.1931],\n",
      "        [0.4685, 0.9299, 0.5840, 0.2870, 0.9009],\n",
      "        [0.2265, 0.8513, 0.7632, 0.2930, 0.5707]])\n",
      "Node feature [feat_1] is saved to ./ondisk_dataset_homograph/node-feat-1.pt\n",
      "\n",
      "Part of edge feature [feat_0]: [[0.34155155 0.41999413 0.21167015 0.78466031 0.64607551]\n",
      " [0.03752552 0.04232073 0.50849466 0.61532127 0.30233007]\n",
      " [0.28014364 0.34614927 0.19804927 0.45042653 0.62261514]]\n",
      "Edge feature [feat_0] is saved to ./ondisk_dataset_homograph/edge-feat-0.npy\n",
      "\n",
      "Part of edge feature [feat_1]: tensor([[0.9378, 0.5998, 0.3692, 0.5678, 0.2807],\n",
      "        [0.3407, 0.7677, 0.3376, 0.3735, 0.5602],\n",
      "        [0.0626, 0.7468, 0.5912, 0.6376, 0.8338]])\n",
      "Edge feature [feat_1] is saved to ./ondisk_dataset_homograph/edge-feat-1.pt\n",
      "\n"
     ]
    }
   ],
   "source": [
    "# Generate node feature in numpy array.\n",
    "node_feat_0_path = os.path.join(base_dir, \"node-feat-0.npy\")\n",
    "node_feat_0 = np.random.rand(num_nodes, 5)\n",
    "print(f\"Part of node feature [feat_0]: {node_feat_0[:3, :]}\")\n",
    "np.save(node_feat_0_path, node_feat_0)\n",
    "print(f\"Node feature [feat_0] is saved to {node_feat_0_path}\\n\")\n",
    "\n",
    "# Generate another node feature in torch tensor\n",
    "node_feat_1_path = os.path.join(base_dir, \"node-feat-1.pt\")\n",
    "node_feat_1 = torch.rand(num_nodes, 5)\n",
    "print(f\"Part of node feature [feat_1]: {node_feat_1[:3, :]}\")\n",
    "torch.save(node_feat_1, node_feat_1_path)\n",
    "print(f\"Node feature [feat_1] is saved to {node_feat_1_path}\\n\")\n",
    "\n",
    "# Generate edge feature in numpy array.\n",
    "edge_feat_0_path = os.path.join(base_dir, \"edge-feat-0.npy\")\n",
    "edge_feat_0 = np.random.rand(num_edges, 5)\n",
    "print(f\"Part of edge feature [feat_0]: {edge_feat_0[:3, :]}\")\n",
    "np.save(edge_feat_0_path, edge_feat_0)\n",
    "print(f\"Edge feature [feat_0] is saved to {edge_feat_0_path}\\n\")\n",
    "\n",
    "# Generate another edge feature in torch tensor\n",
    "edge_feat_1_path = os.path.join(base_dir, \"edge-feat-1.pt\")\n",
    "edge_feat_1 = torch.rand(num_edges, 5)\n",
    "print(f\"Part of edge feature [feat_1]: {edge_feat_1[:3, :]}\")\n",
    "torch.save(edge_feat_1, edge_feat_1_path)\n",
    "print(f\"Edge feature [feat_1] is saved to {edge_feat_1_path}\\n\")\n"
   ]
  },
  {
   "cell_type": "markdown",
   "metadata": {
    "id": "ZyqgOtsIwzh_"
   },
   "source": [
    "### Generate tasks\n",
    "`OnDiskDataset` supports multiple tasks. For each task, we need to prepare training/validation/test sets respectively. Such sets usually vary among different tasks. In this tutorial, let's create a **Node Classification** task and **Link Prediction** task."
   ]
  },
  {
   "cell_type": "markdown",
   "metadata": {
    "id": "hVxHaDIfzCkr"
   },
   "source": [
    "#### Node Classification Task\n",
    "For node classification task, we need **node IDs** and corresponding **labels** for each training/validation/test set. Like feature data, numpy arrays and torch tensors are supported for these sets."
   ]
  },
  {
   "cell_type": "code",
   "execution_count": 5,
   "metadata": {
    "execution": {
     "iopub.execute_input": "2024-09-28T13:18:54.747918Z",
     "iopub.status.busy": "2024-09-28T13:18:54.747721Z",
     "iopub.status.idle": "2024-09-28T13:18:54.759936Z",
     "shell.execute_reply": "2024-09-28T13:18:54.759066Z"
    },
    "id": "S5-fyBbHzTCO"
   },
   "outputs": [
    {
     "name": "stdout",
     "output_type": "stream",
     "text": [
      "Part of train ids for node classification: [953 280 134]\n",
      "NC train ids are saved to ./ondisk_dataset_homograph/nc-train-ids.npy\n",
      "\n",
      "Part of train labels for node classification: tensor([8, 5, 0])\n",
      "NC train labels are saved to ./ondisk_dataset_homograph/nc-train-labels.pt\n",
      "\n",
      "Part of val ids for node classification: [289 765  61]\n",
      "NC val ids are saved to ./ondisk_dataset_homograph/nc-val-ids.npy\n",
      "\n",
      "Part of val labels for node classification: tensor([9, 3, 3])\n",
      "NC val labels are saved to ./ondisk_dataset_homograph/nc-val-labels.pt\n",
      "\n",
      "Part of test ids for node classification: [192 856 231]\n",
      "NC test ids are saved to ./ondisk_dataset_homograph/nc-test-ids.npy\n",
      "\n",
      "Part of test labels for node classification: tensor([5, 6, 2])\n",
      "NC test labels are saved to ./ondisk_dataset_homograph/nc-test-labels.pt\n",
      "\n"
     ]
    }
   ],
   "source": [
    "num_trains = int(num_nodes * 0.6)\n",
    "num_vals = int(num_nodes * 0.2)\n",
    "num_tests = num_nodes - num_trains - num_vals\n",
    "\n",
    "ids = np.arange(num_nodes)\n",
    "np.random.shuffle(ids)\n",
    "\n",
    "nc_train_ids_path = os.path.join(base_dir, \"nc-train-ids.npy\")\n",
    "nc_train_ids = ids[:num_trains]\n",
    "print(f\"Part of train ids for node classification: {nc_train_ids[:3]}\")\n",
    "np.save(nc_train_ids_path, nc_train_ids)\n",
    "print(f\"NC train ids are saved to {nc_train_ids_path}\\n\")\n",
    "\n",
    "nc_train_labels_path = os.path.join(base_dir, \"nc-train-labels.pt\")\n",
    "nc_train_labels = torch.randint(0, 10, (num_trains,))\n",
    "print(f\"Part of train labels for node classification: {nc_train_labels[:3]}\")\n",
    "torch.save(nc_train_labels, nc_train_labels_path)\n",
    "print(f\"NC train labels are saved to {nc_train_labels_path}\\n\")\n",
    "\n",
    "nc_val_ids_path = os.path.join(base_dir, \"nc-val-ids.npy\")\n",
    "nc_val_ids = ids[num_trains:num_trains+num_vals]\n",
    "print(f\"Part of val ids for node classification: {nc_val_ids[:3]}\")\n",
    "np.save(nc_val_ids_path, nc_val_ids)\n",
    "print(f\"NC val ids are saved to {nc_val_ids_path}\\n\")\n",
    "\n",
    "nc_val_labels_path = os.path.join(base_dir, \"nc-val-labels.pt\")\n",
    "nc_val_labels = torch.randint(0, 10, (num_vals,))\n",
    "print(f\"Part of val labels for node classification: {nc_val_labels[:3]}\")\n",
    "torch.save(nc_val_labels, nc_val_labels_path)\n",
    "print(f\"NC val labels are saved to {nc_val_labels_path}\\n\")\n",
    "\n",
    "nc_test_ids_path = os.path.join(base_dir, \"nc-test-ids.npy\")\n",
    "nc_test_ids = ids[-num_tests:]\n",
    "print(f\"Part of test ids for node classification: {nc_test_ids[:3]}\")\n",
    "np.save(nc_test_ids_path, nc_test_ids)\n",
    "print(f\"NC test ids are saved to {nc_test_ids_path}\\n\")\n",
    "\n",
    "nc_test_labels_path = os.path.join(base_dir, \"nc-test-labels.pt\")\n",
    "nc_test_labels = torch.randint(0, 10, (num_tests,))\n",
    "print(f\"Part of test labels for node classification: {nc_test_labels[:3]}\")\n",
    "torch.save(nc_test_labels, nc_test_labels_path)\n",
    "print(f\"NC test labels are saved to {nc_test_labels_path}\\n\")"
   ]
  },
  {
   "cell_type": "markdown",
   "metadata": {
    "id": "LhAcDCHQ_KJ0"
   },
   "source": [
    "#### Link Prediction Task\n",
    "For link prediction task, we need **seeds** or **corresponding labels and indexes** which representing the pos/neg property and group of the seeds for each training/validation/test set. Like feature data, numpy arrays and torch tensors are supported for these sets."
   ]
  },
  {
   "cell_type": "code",
   "execution_count": 6,
   "metadata": {
    "execution": {
     "iopub.execute_input": "2024-09-28T13:18:54.762157Z",
     "iopub.status.busy": "2024-09-28T13:18:54.761958Z",
     "iopub.status.idle": "2024-09-28T13:18:54.781074Z",
     "shell.execute_reply": "2024-09-28T13:18:54.780014Z"
    },
    "id": "u0jCnXIcAQy4"
   },
   "outputs": [
    {
     "name": "stdout",
     "output_type": "stream",
     "text": [
      "Part of train seeds for link prediction: [[474 538]\n",
      " [431 901]\n",
      " [668 345]]\n",
      "LP train seeds are saved to ./ondisk_dataset_homograph/lp-train-seeds.npy\n",
      "\n",
      "Part of val seeds for link prediction: [[206 948]\n",
      " [474 321]\n",
      " [797 970]]\n",
      "LP val seeds are saved to ./ondisk_dataset_homograph/lp-val-seeds.npy\n",
      "\n",
      "Part of val labels for link prediction: [1. 1. 1.]\n",
      "LP val labels are saved to ./ondisk_dataset_homograph/lp-val-labels.npy\n",
      "\n",
      "Part of val indexes for link prediction: [0 1 2]\n",
      "LP val indexes are saved to ./ondisk_dataset_homograph/lp-val-indexes.npy\n",
      "\n",
      "Part of test seeds for link prediction: [[235 205]\n",
      " [792 110]\n",
      " [334 181]]\n",
      "LP test seeds are saved to ./ondisk_dataset_homograph/lp-test-seeds.npy\n",
      "\n",
      "Part of val labels for link prediction: [1. 1. 1.]\n",
      "LP test labels are saved to ./ondisk_dataset_homograph/lp-test-labels.npy\n",
      "\n",
      "Part of test indexes for link prediction: [0 1 2]\n",
      "LP test indexes are saved to ./ondisk_dataset_homograph/lp-test-indexes.npy\n",
      "\n"
     ]
    }
   ],
   "source": [
    "num_trains = int(num_edges * 0.6)\n",
    "num_vals = int(num_edges * 0.2)\n",
    "num_tests = num_edges - num_trains - num_vals\n",
    "\n",
    "lp_train_seeds_path = os.path.join(base_dir, \"lp-train-seeds.npy\")\n",
    "lp_train_seeds = edges[:num_trains, :]\n",
    "print(f\"Part of train seeds for link prediction: {lp_train_seeds[:3]}\")\n",
    "np.save(lp_train_seeds_path, lp_train_seeds)\n",
    "print(f\"LP train seeds are saved to {lp_train_seeds_path}\\n\")\n",
    "\n",
    "lp_val_seeds_path = os.path.join(base_dir, \"lp-val-seeds.npy\")\n",
    "lp_val_seeds = edges[num_trains:num_trains+num_vals, :]\n",
    "lp_val_neg_dsts = np.random.randint(0, num_nodes, (num_vals, 10)).reshape(-1)\n",
    "lp_val_neg_srcs = np.repeat(lp_val_seeds[:,0], 10)\n",
    "lp_val_neg_seeds = np.concatenate((lp_val_neg_srcs, lp_val_neg_dsts)).reshape(2,-1).T\n",
    "lp_val_seeds = np.concatenate((lp_val_seeds, lp_val_neg_seeds))\n",
    "print(f\"Part of val seeds for link prediction: {lp_val_seeds[:3]}\")\n",
    "np.save(lp_val_seeds_path, lp_val_seeds)\n",
    "print(f\"LP val seeds are saved to {lp_val_seeds_path}\\n\")\n",
    "\n",
    "lp_val_labels_path = os.path.join(base_dir, \"lp-val-labels.npy\")\n",
    "lp_val_labels = np.empty(num_vals * (10 + 1))\n",
    "lp_val_labels[:num_vals] = 1\n",
    "lp_val_labels[num_vals:] = 0\n",
    "print(f\"Part of val labels for link prediction: {lp_val_labels[:3]}\")\n",
    "np.save(lp_val_labels_path, lp_val_labels)\n",
    "print(f\"LP val labels are saved to {lp_val_labels_path}\\n\")\n",
    "\n",
    "lp_val_indexes_path = os.path.join(base_dir, \"lp-val-indexes.npy\")\n",
    "lp_val_indexes = np.arange(0, num_vals)\n",
    "lp_val_neg_indexes = np.repeat(lp_val_indexes, 10)\n",
    "lp_val_indexes = np.concatenate([lp_val_indexes, lp_val_neg_indexes])\n",
    "print(f\"Part of val indexes for link prediction: {lp_val_indexes[:3]}\")\n",
    "np.save(lp_val_indexes_path, lp_val_indexes)\n",
    "print(f\"LP val indexes are saved to {lp_val_indexes_path}\\n\")\n",
    "\n",
    "lp_test_seeds_path = os.path.join(base_dir, \"lp-test-seeds.npy\")\n",
    "lp_test_seeds = edges[-num_tests:, :]\n",
    "lp_test_neg_dsts = np.random.randint(0, num_nodes, (num_tests, 10)).reshape(-1)\n",
    "lp_test_neg_srcs = np.repeat(lp_test_seeds[:,0], 10)\n",
    "lp_test_neg_seeds = np.concatenate((lp_test_neg_srcs, lp_test_neg_dsts)).reshape(2,-1).T\n",
    "lp_test_seeds = np.concatenate((lp_test_seeds, lp_test_neg_seeds))\n",
    "print(f\"Part of test seeds for link prediction: {lp_test_seeds[:3]}\")\n",
    "np.save(lp_test_seeds_path, lp_test_seeds)\n",
    "print(f\"LP test seeds are saved to {lp_test_seeds_path}\\n\")\n",
    "\n",
    "lp_test_labels_path = os.path.join(base_dir, \"lp-test-labels.npy\")\n",
    "lp_test_labels = np.empty(num_tests * (10 + 1))\n",
    "lp_test_labels[:num_tests] = 1\n",
    "lp_test_labels[num_tests:] = 0\n",
    "print(f\"Part of val labels for link prediction: {lp_test_labels[:3]}\")\n",
    "np.save(lp_test_labels_path, lp_test_labels)\n",
    "print(f\"LP test labels are saved to {lp_test_labels_path}\\n\")\n",
    "\n",
    "lp_test_indexes_path = os.path.join(base_dir, \"lp-test-indexes.npy\")\n",
    "lp_test_indexes = np.arange(0, num_tests)\n",
    "lp_test_neg_indexes = np.repeat(lp_test_indexes, 10)\n",
    "lp_test_indexes = np.concatenate([lp_test_indexes, lp_test_neg_indexes])\n",
    "print(f\"Part of test indexes for link prediction: {lp_test_indexes[:3]}\")\n",
    "np.save(lp_test_indexes_path, lp_test_indexes)\n",
    "print(f\"LP test indexes are saved to {lp_test_indexes_path}\\n\")"
   ]
  },
  {
   "cell_type": "markdown",
   "metadata": {
    "id": "wbk6-wxRK-6S"
   },
   "source": [
    "## Organize Data into YAML File\n",
    "Now we need to create a `metadata.yaml` file which contains the paths, dadta types of graph structure, feature data, training/validation/test sets.\n",
    "\n",
    "Notes:\n",
    "- all path should be relative to `metadata.yaml`.\n",
    "- Below fields are optional and not specified in below example.\n",
    "  - `in_memory`: indicates whether to load dada into memory or `mmap`. Default is `True`.\n",
    "\n",
    "Please refer to [YAML specification](https://github.com/dmlc/dgl/blob/master/docs/source/stochastic_training/ondisk-dataset-specification.rst) for more details."
   ]
  },
  {
   "cell_type": "code",
   "execution_count": 7,
   "metadata": {
    "execution": {
     "iopub.execute_input": "2024-09-28T13:18:54.783769Z",
     "iopub.status.busy": "2024-09-28T13:18:54.783039Z",
     "iopub.status.idle": "2024-09-28T13:18:54.790002Z",
     "shell.execute_reply": "2024-09-28T13:18:54.789054Z"
    },
    "id": "ddGTWW61Lpwp"
   },
   "outputs": [],
   "source": [
    "yaml_content = f\"\"\"\n",
    "    dataset_name: homogeneous_graph_nc_lp\n",
    "    graph:\n",
    "      nodes:\n",
    "        - num: {num_nodes}\n",
    "      edges:\n",
    "        - format: csv\n",
    "          path: {os.path.basename(edges_path)}\n",
    "    feature_data:\n",
    "      - domain: node\n",
    "        name: feat_0\n",
    "        format: numpy\n",
    "        path: {os.path.basename(node_feat_0_path)}\n",
    "      - domain: node\n",
    "        name: feat_1\n",
    "        format: torch\n",
    "        path: {os.path.basename(node_feat_1_path)}\n",
    "      - domain: edge\n",
    "        name: feat_0\n",
    "        format: numpy\n",
    "        path: {os.path.basename(edge_feat_0_path)}\n",
    "      - domain: edge\n",
    "        name: feat_1\n",
    "        format: torch\n",
    "        path: {os.path.basename(edge_feat_1_path)}\n",
    "    tasks:\n",
    "      - name: node_classification\n",
    "        num_classes: 10\n",
    "        train_set:\n",
    "          - data:\n",
    "              - name: seeds\n",
    "                format: numpy\n",
    "                path: {os.path.basename(nc_train_ids_path)}\n",
    "              - name: labels\n",
    "                format: torch\n",
    "                path: {os.path.basename(nc_train_labels_path)}\n",
    "        validation_set:\n",
    "          - data:\n",
    "              - name: seeds\n",
    "                format: numpy\n",
    "                path: {os.path.basename(nc_val_ids_path)}\n",
    "              - name: labels\n",
    "                format: torch\n",
    "                path: {os.path.basename(nc_val_labels_path)}\n",
    "        test_set:\n",
    "          - data:\n",
    "              - name: seeds\n",
    "                format: numpy\n",
    "                path: {os.path.basename(nc_test_ids_path)}\n",
    "              - name: labels\n",
    "                format: torch\n",
    "                path: {os.path.basename(nc_test_labels_path)}\n",
    "      - name: link_prediction\n",
    "        num_classes: 10\n",
    "        train_set:\n",
    "          - data:\n",
    "              - name: seeds\n",
    "                format: numpy\n",
    "                path: {os.path.basename(lp_train_seeds_path)}\n",
    "        validation_set:\n",
    "          - data:\n",
    "              - name: seeds\n",
    "                format: numpy\n",
    "                path: {os.path.basename(lp_val_seeds_path)}\n",
    "              - name: labels\n",
    "                format: numpy\n",
    "                path: {os.path.basename(lp_val_labels_path)}\n",
    "              - name: indexes\n",
    "                format: numpy\n",
    "                path: {os.path.basename(lp_val_indexes_path)}\n",
    "        test_set:\n",
    "          - data:\n",
    "              - name: seeds\n",
    "                format: numpy\n",
    "                path: {os.path.basename(lp_test_seeds_path)}\n",
    "              - name: labels\n",
    "                format: numpy\n",
    "                path: {os.path.basename(lp_test_labels_path)}\n",
    "              - name: indexes\n",
    "                format: numpy\n",
    "                path: {os.path.basename(lp_test_indexes_path)}\n",
    "\"\"\"\n",
    "metadata_path = os.path.join(base_dir, \"metadata.yaml\")\n",
    "with open(metadata_path, \"w\") as f:\n",
    "  f.write(yaml_content)"
   ]
  },
  {
   "cell_type": "markdown",
   "metadata": {
    "id": "kEfybHGhOW7O"
   },
   "source": [
    "## Instantiate `OnDiskDataset`\n",
    "Now we're ready to load dataset via `dgl.graphbolt.OnDiskDataset`. When instantiating, we just pass in the base directory where `metadata.yaml` file lies.\n",
    "\n",
    "During first instantiation, GraphBolt preprocesses the raw data such as constructing `FusedCSCSamplingGraph` from edges. All data including graph, feature data, training/validation/test sets are put into `preprocessed` directory after preprocessing. Any following dataset loading will skip the preprocess stage.\n",
    "\n",
    "After preprocessing, `load()` is required to be called explicitly in order to load graph, feature data and tasks."
   ]
  },
  {
   "cell_type": "code",
   "execution_count": 8,
   "metadata": {
    "execution": {
     "iopub.execute_input": "2024-09-28T13:18:54.792968Z",
     "iopub.status.busy": "2024-09-28T13:18:54.792000Z",
     "iopub.status.idle": "2024-09-28T13:18:54.862398Z",
     "shell.execute_reply": "2024-09-28T13:18:54.861716Z"
    },
    "id": "W58CZoSzOiyo"
   },
   "outputs": [
    {
     "name": "stdout",
     "output_type": "stream",
     "text": [
      "Start to preprocess the on-disk dataset.\n",
      "Finish preprocessing the on-disk dataset.\n",
      "Loaded graph: FusedCSCSamplingGraph(csc_indptr=tensor([    0,    11,    14,  ...,  9976,  9991, 10000], dtype=torch.int32),\n",
      "                      indices=tensor([ 75, 886, 288,  ..., 481, 783, 544], dtype=torch.int32),\n",
      "                      total_num_nodes=1000, num_edges=10000,)\n",
      "\n",
      "Loaded feature store: TorchBasedFeatureStore(\n",
      "    {(<OnDiskFeatureDataDomain.NODE: 'node'>, None, 'feat_0'): TorchBasedFeature(\n",
      "        feature=tensor([[0.1415, 0.2883, 0.2717, 0.6932, 0.8177],\n",
      "                        [0.0021, 0.3799, 0.5473, 0.9758, 0.8860],\n",
      "                        [0.6279, 0.6030, 0.5610, 0.2606, 0.2970],\n",
      "                        ...,\n",
      "                        [0.9103, 0.4051, 0.8099, 0.7821, 0.1285],\n",
      "                        [0.7258, 0.3999, 0.1813, 0.1144, 0.9477],\n",
      "                        [0.9638, 0.8870, 0.6607, 0.8057, 0.7890]], dtype=torch.float64),\n",
      "        metadata={},\n",
      "    ), (<OnDiskFeatureDataDomain.NODE: 'node'>, None, 'feat_1'): TorchBasedFeature(\n",
      "        feature=tensor([[0.0224, 0.4680, 0.1991, 0.8200, 0.1931],\n",
      "                        [0.4685, 0.9299, 0.5840, 0.2870, 0.9009],\n",
      "                        [0.2265, 0.8513, 0.7632, 0.2930, 0.5707],\n",
      "                        ...,\n",
      "                        [0.8944, 0.3862, 0.4577, 0.5925, 0.3265],\n",
      "                        [0.5083, 0.1527, 0.8199, 0.2535, 0.2311],\n",
      "                        [0.9559, 0.2588, 0.1363, 0.7225, 0.3633]]),\n",
      "        metadata={},\n",
      "    ), (<OnDiskFeatureDataDomain.EDGE: 'edge'>, None, 'feat_0'): TorchBasedFeature(\n",
      "        feature=tensor([[0.3416, 0.4200, 0.2117, 0.7847, 0.6461],\n",
      "                        [0.0375, 0.0423, 0.5085, 0.6153, 0.3023],\n",
      "                        [0.2801, 0.3461, 0.1980, 0.4504, 0.6226],\n",
      "                        ...,\n",
      "                        [0.1803, 0.5839, 0.5906, 0.7304, 0.1537],\n",
      "                        [0.7649, 0.6684, 0.7472, 0.8798, 0.6435],\n",
      "                        [0.1096, 0.4068, 0.2040, 0.7553, 0.9838]], dtype=torch.float64),\n",
      "        metadata={},\n",
      "    ), (<OnDiskFeatureDataDomain.EDGE: 'edge'>, None, 'feat_1'): TorchBasedFeature(\n",
      "        feature=tensor([[0.9378, 0.5998, 0.3692, 0.5678, 0.2807],\n",
      "                        [0.3407, 0.7677, 0.3376, 0.3735, 0.5602],\n",
      "                        [0.0626, 0.7468, 0.5912, 0.6376, 0.8338],\n",
      "                        ...,\n",
      "                        [0.3309, 0.1842, 0.7587, 0.4851, 0.7343],\n",
      "                        [0.5960, 0.3705, 0.1583, 0.8350, 0.0946],\n",
      "                        [0.1947, 0.1246, 0.8515, 0.6285, 0.2924]]),\n",
      "        metadata={},\n",
      "    )}\n",
      ")\n",
      "\n",
      "Loaded node classification task: OnDiskTask(validation_set=ItemSet(\n",
      "               items=(tensor([289, 765,  61,  33, 115, 952, 176, 214, 960,  51, 970, 157, 382, 310,\n",
      "                   979, 510, 400,  92, 961, 429, 156,  78, 763, 734, 733, 660, 837, 244,\n",
      "                   253, 238, 107, 686, 320, 371, 987, 913, 957, 815, 246, 263, 828, 746,\n",
      "                   624, 450, 706, 233, 947, 739,  14, 504, 802, 132, 588, 942, 137, 517,\n",
      "                    81, 296, 127, 862, 467, 326, 779, 590, 458, 223, 159, 181, 669, 826,\n",
      "                   659,  52, 218, 548, 729, 554,  53, 877, 195, 464, 881, 959, 579, 353,\n",
      "                   575, 316, 161,  48, 355, 386,  26, 515, 915,  29, 895, 583, 466, 292,\n",
      "                   422, 812, 925,  49, 562, 951, 543, 297, 797, 589, 771, 620, 684, 174,\n",
      "                   591,  66, 633, 160, 142, 905, 511, 210, 700, 281,   4, 262, 270, 874,\n",
      "                   228, 938, 265, 801, 199, 711, 764, 783, 295, 864, 247, 652, 577, 104,\n",
      "                   473, 278,  39, 170, 602, 254,  65, 929, 153, 321, 965, 723, 117, 565,\n",
      "                   354, 300, 558, 126, 177, 991,  43, 100, 816, 968, 361, 769, 694, 432,\n",
      "                    20, 185, 348, 328, 145, 778, 701, 922, 148, 808, 581, 799, 206, 502,\n",
      "                   655, 544, 324, 768, 595, 870, 695, 213, 378, 363, 793, 158, 871, 745,\n",
      "                   570, 513, 217, 430], dtype=torch.int32), tensor([9, 3, 3, 7, 9, 7, 6, 2, 4, 4, 1, 1, 5, 7, 5, 7, 7, 0, 5, 5, 0, 9, 9, 5,\n",
      "                   3, 6, 5, 6, 3, 3, 3, 3, 7, 8, 2, 4, 6, 0, 3, 3, 8, 2, 2, 5, 7, 1, 6, 2,\n",
      "                   5, 0, 4, 2, 9, 6, 4, 8, 1, 1, 4, 3, 0, 9, 7, 0, 9, 9, 6, 4, 3, 9, 0, 6,\n",
      "                   4, 4, 7, 3, 8, 6, 9, 4, 0, 6, 3, 6, 8, 3, 6, 0, 3, 8, 1, 5, 9, 3, 2, 1,\n",
      "                   5, 1, 2, 4, 4, 4, 9, 7, 9, 5, 6, 6, 6, 4, 8, 5, 4, 0, 8, 0, 6, 4, 7, 2,\n",
      "                   8, 0, 6, 6, 3, 2, 9, 2, 4, 1, 5, 3, 6, 5, 2, 7, 6, 5, 9, 5, 8, 7, 8, 3,\n",
      "                   9, 5, 1, 2, 8, 7, 2, 6, 5, 1, 6, 2, 2, 6, 2, 7, 1, 9, 0, 3, 6, 4, 8, 0,\n",
      "                   5, 3, 0, 2, 6, 0, 4, 1, 1, 3, 0, 2, 5, 0, 9, 1, 6, 2, 8, 2, 6, 1, 0, 0,\n",
      "                   7, 5, 5, 0, 3, 4, 4, 9])),\n",
      "               names=('seeds', 'labels'),\n",
      "           ),\n",
      "           train_set=ItemSet(\n",
      "               items=(tensor([953, 280, 134, 323, 249, 424, 804, 648, 885, 614,  63, 727, 645, 147,\n",
      "                   444, 852, 476, 958, 798, 232, 144, 391, 503, 496, 718, 964, 472, 184,\n",
      "                   364, 717, 615, 600, 721, 687, 666, 376, 928, 209, 200, 514, 275, 469,\n",
      "                   587, 396, 896, 823, 904, 888, 653, 818, 273, 937, 389,  86, 166, 508,\n",
      "                   898,  54, 186, 474,  87, 479, 149, 440, 489, 551,  55, 397,  13, 342,\n",
      "                   169, 498, 702, 358, 578, 436, 709,  35, 962, 135, 245, 761, 599, 151,\n",
      "                   982,  30, 547, 319, 630, 726, 537, 916, 643, 365, 809, 901, 612, 754,\n",
      "                   766, 994, 673, 286, 878, 529, 782, 685, 658,   0, 759, 796, 749, 419,\n",
      "                   997, 525, 493, 411, 290, 675, 167, 900, 108, 379, 173, 758, 423, 891,\n",
      "                   332, 650, 494, 836,  32, 103, 724, 395, 512,  24,  83, 631, 704, 564,\n",
      "                   998, 879, 152, 954, 239, 736, 538, 230, 106, 988, 362, 654, 649, 433,\n",
      "                   556, 977, 141, 130, 369,  18, 637, 850, 603, 283,  60, 981, 344,  40,\n",
      "                   255, 777, 971, 854, 335, 279, 752, 625, 497, 542, 201, 807, 683, 190,\n",
      "                   973, 725, 509,  77, 417, 272, 676, 731, 882, 182, 890, 792, 707, 338,\n",
      "                   204, 584, 832, 339, 427, 693, 574, 876, 282,  47, 646, 202, 162, 853,\n",
      "                   776, 665, 461, 908, 800, 696, 416, 858, 288, 163, 944, 187, 657, 203,\n",
      "                   414, 592, 834, 880,  72, 549,  97, 188, 352, 940,  56, 366, 216, 131,\n",
      "                   883, 314, 552, 198, 226, 350, 168, 129,  99, 770, 284, 540, 840, 819,\n",
      "                   387, 516, 950, 860, 235, 861, 347, 526, 119,  34, 773, 191, 697, 401,\n",
      "                   180, 133, 781,  10, 269, 671, 611, 298, 453, 519, 713, 810, 848,  59,\n",
      "                   794, 527,  25, 455, 264, 309, 833, 741, 974, 838, 349, 351,  38, 926,\n",
      "                   183, 803, 690, 175, 735, 318, 327, 408, 941, 315, 730, 831, 920, 446,\n",
      "                   553, 774,  91, 985, 903, 165, 322,  12, 632, 372, 740, 341, 291, 682,\n",
      "                   124, 394, 368, 827, 112,  19, 967, 911, 829, 302, 154, 868,  45, 596,\n",
      "                   946, 478, 889, 846, 811, 488, 573, 500, 340, 405, 448, 189, 892, 266,\n",
      "                   481, 330, 179, 499, 616, 418, 910, 668, 679, 992, 656,  89, 972, 125,\n",
      "                   976, 930, 785, 610, 224, 680, 260, 121, 346, 576, 628,  27,  31, 456,\n",
      "                   468, 747, 101, 333, 122, 236, 483, 116, 471, 359, 791,  64,  79, 383,\n",
      "                   536,  94, 317,  69, 306, 381, 360, 227, 691, 251,  37, 150, 534, 855,\n",
      "                   580, 692, 817, 523, 294, 996, 399, 805, 325, 560, 118, 505, 849, 490,\n",
      "                   208, 194,  70, 463, 550, 520, 647, 460, 439, 604, 373, 415, 457, 975,\n",
      "                   425,  76, 638, 438, 506, 966, 392, 661,  73, 993, 751, 617, 385, 428,\n",
      "                   568,   7, 635, 470, 732, 431, 634,  80,  36, 825, 136, 830, 178, 257,\n",
      "                   923, 248, 566, 197, 674, 259, 528, 762, 337, 955, 336, 703,  50, 737,\n",
      "                   449, 859, 557, 921, 393, 688, 698, 212, 893, 484,  42, 485, 356, 820,\n",
      "                   521, 312, 404, 274, 545, 857, 559, 999, 670, 370, 407, 304, 443, 644,\n",
      "                   681, 914, 501, 990, 305, 963, 164, 672,   5, 555, 843,  90, 847, 605,\n",
      "                    15, 329, 728,   3, 111, 445, 699, 491, 524,   8, 948, 786, 207, 824,\n",
      "                   114, 887, 842, 287, 608, 252, 477, 623, 234, 931, 437, 219, 140,  95,\n",
      "                   561, 155, 109, 492, 241, 875, 841, 601, 128, 897, 756, 907, 939, 593,\n",
      "                   413,  84, 902, 268, 748,  16,  98, 753, 651, 434, 390,  96, 261, 442,\n",
      "                   459, 243, 285, 927, 606, 719, 367, 873, 567, 716, 535, 221, 420, 613,\n",
      "                   936, 435, 211, 775, 788, 886, 271, 757, 582, 480, 215, 334],\n",
      "                  dtype=torch.int32), tensor([8, 5, 0, 9, 5, 7, 6, 9, 5, 1, 4, 7, 5, 3, 1, 1, 9, 4, 3, 7, 1, 3, 8, 0,\n",
      "                   1, 5, 2, 0, 3, 1, 7, 0, 7, 3, 5, 7, 3, 1, 1, 0, 0, 7, 5, 3, 0, 4, 6, 9,\n",
      "                   8, 9, 1, 3, 6, 3, 3, 0, 6, 4, 8, 8, 4, 9, 4, 3, 0, 8, 5, 9, 2, 4, 7, 7,\n",
      "                   6, 8, 8, 5, 6, 6, 8, 2, 0, 8, 1, 0, 3, 3, 9, 8, 1, 3, 5, 4, 8, 6, 1, 8,\n",
      "                   3, 4, 6, 0, 8, 6, 7, 6, 8, 3, 9, 5, 4, 0, 4, 8, 6, 2, 8, 0, 8, 5, 9, 8,\n",
      "                   5, 8, 4, 3, 1, 8, 1, 9, 8, 0, 2, 4, 6, 6, 8, 0, 0, 2, 0, 7, 3, 6, 7, 9,\n",
      "                   6, 2, 9, 3, 6, 8, 7, 5, 4, 4, 6, 8, 6, 8, 2, 5, 5, 8, 2, 1, 9, 7, 6, 3,\n",
      "                   6, 1, 8, 7, 0, 4, 3, 1, 1, 3, 1, 8, 3, 1, 8, 9, 2, 6, 4, 3, 3, 6, 8, 8,\n",
      "                   2, 2, 6, 1, 2, 7, 2, 5, 8, 1, 9, 9, 9, 6, 4, 8, 1, 8, 7, 8, 3, 3, 7, 2,\n",
      "                   2, 1, 0, 6, 4, 8, 0, 3, 6, 8, 5, 6, 7, 0, 0, 9, 4, 4, 0, 1, 8, 0, 5, 4,\n",
      "                   2, 3, 8, 5, 0, 4, 9, 9, 9, 4, 7, 8, 7, 6, 3, 9, 4, 2, 6, 6, 8, 7, 1, 9,\n",
      "                   0, 1, 0, 2, 8, 2, 9, 1, 1, 8, 2, 0, 8, 3, 4, 5, 3, 9, 5, 3, 7, 9, 8, 6,\n",
      "                   5, 6, 5, 1, 0, 8, 2, 4, 0, 9, 2, 2, 1, 3, 3, 2, 7, 3, 6, 0, 0, 2, 7, 2,\n",
      "                   6, 5, 7, 8, 9, 2, 6, 0, 7, 7, 6, 3, 5, 8, 9, 6, 1, 9, 0, 6, 0, 7, 5, 5,\n",
      "                   0, 5, 4, 2, 6, 2, 0, 3, 4, 8, 5, 8, 3, 1, 6, 4, 7, 1, 6, 2, 6, 6, 2, 8,\n",
      "                   7, 2, 3, 0, 8, 6, 9, 7, 5, 4, 5, 7, 5, 6, 9, 6, 2, 9, 1, 6, 8, 4, 9, 1,\n",
      "                   3, 7, 2, 5, 8, 9, 7, 9, 3, 2, 5, 4, 9, 0, 6, 1, 3, 7, 5, 0, 8, 5, 9, 2,\n",
      "                   0, 1, 0, 2, 0, 3, 7, 9, 5, 2, 9, 9, 0, 8, 2, 3, 4, 8, 0, 7, 0, 4, 2, 0,\n",
      "                   0, 5, 1, 8, 6, 9, 6, 7, 8, 6, 4, 0, 9, 3, 8, 3, 0, 7, 4, 5, 5, 9, 2, 5,\n",
      "                   7, 1, 5, 1, 3, 5, 5, 6, 8, 9, 7, 2, 9, 6, 6, 6, 9, 4, 8, 3, 3, 3, 6, 8,\n",
      "                   5, 6, 5, 7, 2, 4, 3, 7, 0, 1, 1, 6, 8, 2, 7, 8, 5, 0, 8, 3, 7, 3, 6, 0,\n",
      "                   4, 3, 6, 6, 5, 7, 0, 6, 5, 1, 9, 0, 2, 2, 1, 1, 9, 8, 1, 9, 3, 2, 9, 5,\n",
      "                   5, 4, 1, 6, 5, 2, 2, 9, 0, 3, 1, 5, 2, 7, 3, 8, 7, 3, 7, 0, 7, 7, 6, 1,\n",
      "                   0, 7, 3, 6, 5, 6, 8, 1, 5, 1, 6, 9, 6, 7, 8, 3, 0, 7, 2, 0, 4, 0, 8, 5,\n",
      "                   5, 7, 1, 8, 5, 8, 1, 7, 1, 6, 6, 7, 5, 0, 5, 7, 5, 4, 5, 0, 5, 2, 9, 7])),\n",
      "               names=('seeds', 'labels'),\n",
      "           ),\n",
      "           test_set=ItemSet(\n",
      "               items=(tensor([192, 856, 231, 772, 402, 403, 495, 258, 780, 357, 866, 225, 919, 918,\n",
      "                   572,  88,   6, 331, 388, 663, 894, 597, 760, 220, 237, 787,  44, 790,\n",
      "                   276, 743, 642,  67, 406, 867, 120, 932, 311, 639,  58, 598, 710,  21,\n",
      "                   795, 452, 532, 618, 563, 377, 313, 585, 986, 102, 518, 863, 222, 475,\n",
      "                   139, 983, 906, 664, 308, 451, 978,   1, 546,  74, 426, 813, 143, 705,\n",
      "                   626,  11, 627,  41, 917, 662, 105, 956, 784, 277, 844,  71, 750, 110,\n",
      "                   667, 205, 250, 374, 814, 462, 636, 640,  23,  93, 229, 989, 722, 267,\n",
      "                   441, 984, 146, 410, 196, 708, 465, 571,  28, 678, 299, 912, 822,  17,\n",
      "                   720,  46, 689, 744, 256, 569, 949, 934, 839,  75, 522, 738,  68, 629,\n",
      "                    85, 607, 594,  22, 742, 619, 412, 835, 345, 715, 482, 301, 539, 641,\n",
      "                   454, 622, 380, 872, 409, 447, 486, 865, 533, 935, 806, 869, 171, 421,\n",
      "                   384, 969, 138, 621, 242, 767, 487, 303, 113, 884, 609, 851, 293, 586,\n",
      "                   943, 821,  57, 755, 307, 541, 945, 712, 677, 343, 714,  82, 375,   2,\n",
      "                   789, 845, 172, 980, 193, 909,  62, 995, 240, 530, 507, 933, 398,   9,\n",
      "                   123, 924, 531, 899], dtype=torch.int32), tensor([5, 6, 2, 1, 5, 7, 3, 6, 5, 8, 2, 2, 4, 3, 9, 0, 7, 4, 1, 1, 6, 3, 7, 6,\n",
      "                   6, 8, 9, 9, 9, 3, 2, 7, 4, 8, 9, 0, 0, 4, 7, 6, 6, 8, 3, 8, 3, 0, 2, 4,\n",
      "                   3, 3, 6, 9, 8, 9, 1, 2, 8, 3, 5, 5, 9, 6, 0, 8, 0, 0, 3, 3, 1, 1, 2, 6,\n",
      "                   9, 2, 7, 4, 8, 7, 3, 8, 9, 7, 2, 7, 6, 3, 5, 8, 6, 1, 7, 4, 7, 8, 2, 9,\n",
      "                   0, 9, 6, 4, 6, 3, 2, 6, 0, 2, 8, 9, 9, 8, 3, 7, 8, 0, 0, 5, 8, 6, 8, 0,\n",
      "                   0, 5, 7, 0, 8, 1, 0, 0, 8, 6, 2, 8, 0, 4, 4, 6, 9, 0, 0, 9, 8, 2, 1, 3,\n",
      "                   4, 5, 8, 2, 1, 4, 5, 0, 8, 8, 5, 4, 5, 3, 7, 0, 3, 7, 8, 5, 9, 7, 9, 9,\n",
      "                   8, 5, 2, 0, 4, 2, 8, 5, 6, 4, 9, 8, 8, 4, 9, 2, 9, 0, 1, 7, 5, 5, 8, 9,\n",
      "                   9, 0, 4, 5, 9, 6, 3, 6])),\n",
      "               names=('seeds', 'labels'),\n",
      "           ),\n",
      "           metadata={'name': 'node_classification', 'num_classes': 10},)\n",
      "\n",
      "Loaded link prediction task: OnDiskTask(validation_set=ItemSet(\n",
      "               items=(tensor([[206, 948],\n",
      "                   [474, 321],\n",
      "                   [797, 970],\n",
      "                   ...,\n",
      "                   [385,  75],\n",
      "                   [385, 574],\n",
      "                   [385, 735]], dtype=torch.int32), tensor([1., 1., 1.,  ..., 0., 0., 0.], dtype=torch.float64), tensor([   0,    1,    2,  ..., 1999, 1999, 1999])),\n",
      "               names=('seeds', 'labels', 'indexes'),\n",
      "           ),\n",
      "           train_set=ItemSet(\n",
      "               items=(tensor([[474, 538],\n",
      "                   [431, 901],\n",
      "                   [668, 345],\n",
      "                   ...,\n",
      "                   [175,  48],\n",
      "                   [110, 206],\n",
      "                   [998, 509]], dtype=torch.int32),),\n",
      "               names=('seeds',),\n",
      "           ),\n",
      "           test_set=ItemSet(\n",
      "               items=(tensor([[235, 205],\n",
      "                   [792, 110],\n",
      "                   [334, 181],\n",
      "                   ...,\n",
      "                   [749, 174],\n",
      "                   [749,  42],\n",
      "                   [749, 956]], dtype=torch.int32), tensor([1., 1., 1.,  ..., 0., 0., 0.], dtype=torch.float64), tensor([   0,    1,    2,  ..., 1999, 1999, 1999])),\n",
      "               names=('seeds', 'labels', 'indexes'),\n",
      "           ),\n",
      "           metadata={'name': 'link_prediction', 'num_classes': 10},)\n",
      "\n"
     ]
    },
    {
     "name": "stderr",
     "output_type": "stream",
     "text": [
      "/dgl/python/dgl/graphbolt/impl/ondisk_dataset.py:463: GBWarning: Edge feature is stored, but edge IDs are not saved.\n",
      "  gb_warning(\"Edge feature is stored, but edge IDs are not saved.\")\n"
     ]
    }
   ],
   "source": [
    "dataset = gb.OnDiskDataset(base_dir).load()\n",
    "graph = dataset.graph\n",
    "print(f\"Loaded graph: {graph}\\n\")\n",
    "\n",
    "feature = dataset.feature\n",
    "print(f\"Loaded feature store: {feature}\\n\")\n",
    "\n",
    "tasks = dataset.tasks\n",
    "nc_task = tasks[0]\n",
    "print(f\"Loaded node classification task: {nc_task}\\n\")\n",
    "lp_task = tasks[1]\n",
    "print(f\"Loaded link prediction task: {lp_task}\\n\")"
   ]
  }
 ],
 "metadata": {
  "colab": {
   "private_outputs": true,
   "provenance": []
  },
  "kernelspec": {
   "display_name": "Python 3",
   "name": "python3"
  },
  "language_info": {
   "codemirror_mode": {
    "name": "ipython",
    "version": 3
   },
   "file_extension": ".py",
   "mimetype": "text/x-python",
   "name": "python",
   "nbconvert_exporter": "python",
   "pygments_lexer": "ipython3",
   "version": "3.10.15"
  }
 },
 "nbformat": 4,
 "nbformat_minor": 0
}

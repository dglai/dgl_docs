{
 "cells": [
  {
   "cell_type": "markdown",
   "metadata": {
    "id": "FnFhPMaAfLtJ"
   },
   "source": [
    "# OnDiskDataset for Homogeneous Graph\n",
    "\n",
    "[![Open In Colab](https://colab.research.google.com/assets/colab-badge.svg)](https://colab.research.google.com/github/dmlc/dgl/blob/master/notebooks/stochastic_training/ondisk_dataset_homograph.ipynb) [![GitHub](https://img.shields.io/badge/-View%20on%20GitHub-181717?logo=github&logoColor=ffffff)](https://github.com/dmlc/dgl/blob/master/notebooks/stochastic_training/ondisk_dataset_homograph.ipynb)\n",
    "\n",
    "This tutorial shows how to create `OnDiskDataset` for homogeneous graph that could be used in **GraphBolt** framework.\n",
    "\n",
    "By the end of this tutorial, you will be able to\n",
    "\n",
    "- organize graph structure data.\n",
    "- organize feature data.\n",
    "- organize training/validation/test set for specific tasks.\n",
    "\n",
    "To create an ``OnDiskDataset`` object, you need to organize all the data including graph structure, feature data and tasks into a directory. The directory should contain a ``metadata.yaml`` file that describes the metadata of the dataset.\n",
    "\n",
    "Now let's generate various data step by step and organize them together to instantiate `OnDiskDataset` finally."
   ]
  },
  {
   "cell_type": "markdown",
   "metadata": {
    "id": "Wlb19DtWgtzq"
   },
   "source": [
    "## Install DGL package"
   ]
  },
  {
   "cell_type": "code",
   "execution_count": 1,
   "metadata": {
    "execution": {
     "iopub.execute_input": "2024-10-20T13:20:17.500084Z",
     "iopub.status.busy": "2024-10-20T13:20:17.499776Z",
     "iopub.status.idle": "2024-10-20T13:20:20.541828Z",
     "shell.execute_reply": "2024-10-20T13:20:20.540850Z"
    },
    "id": "UojlT9ZGgyr9"
   },
   "outputs": [
    {
     "name": "stdout",
     "output_type": "stream",
     "text": [
      "Looking in links: https://data.dgl.ai/wheels-test/repo.html\r\n",
      "Requirement already satisfied: dgl in /opt/conda/envs/dgl-dev-cpu/lib/python3.10/site-packages (2.2a240410)\r\n",
      "Requirement already satisfied: numpy>=1.14.0 in /opt/conda/envs/dgl-dev-cpu/lib/python3.10/site-packages (from dgl) (1.26.4)\r\n",
      "Requirement already satisfied: scipy>=1.1.0 in /opt/conda/envs/dgl-dev-cpu/lib/python3.10/site-packages (from dgl) (1.14.1)\r\n",
      "Requirement already satisfied: networkx>=2.1 in /opt/conda/envs/dgl-dev-cpu/lib/python3.10/site-packages (from dgl) (3.4.1)\r\n",
      "Requirement already satisfied: requests>=2.19.0 in /opt/conda/envs/dgl-dev-cpu/lib/python3.10/site-packages (from dgl) (2.32.3)\r\n",
      "Requirement already satisfied: tqdm in /opt/conda/envs/dgl-dev-cpu/lib/python3.10/site-packages (from dgl) (4.66.5)\r\n",
      "Requirement already satisfied: psutil>=5.8.0 in /opt/conda/envs/dgl-dev-cpu/lib/python3.10/site-packages (from dgl) (6.1.0)\r\n",
      "Requirement already satisfied: torchdata>=0.5.0 in /opt/conda/envs/dgl-dev-cpu/lib/python3.10/site-packages (from dgl) (0.8.0)\r\n",
      "Requirement already satisfied: pandas in /opt/conda/envs/dgl-dev-cpu/lib/python3.10/site-packages (from dgl) (2.2.3)\r\n"
     ]
    },
    {
     "name": "stdout",
     "output_type": "stream",
     "text": [
      "Requirement already satisfied: charset-normalizer<4,>=2 in /opt/conda/envs/dgl-dev-cpu/lib/python3.10/site-packages (from requests>=2.19.0->dgl) (3.4.0)\r\n",
      "Requirement already satisfied: idna<4,>=2.5 in /opt/conda/envs/dgl-dev-cpu/lib/python3.10/site-packages (from requests>=2.19.0->dgl) (3.10)\r\n",
      "Requirement already satisfied: urllib3<3,>=1.21.1 in /opt/conda/envs/dgl-dev-cpu/lib/python3.10/site-packages (from requests>=2.19.0->dgl) (2.2.3)\r\n",
      "Requirement already satisfied: certifi>=2017.4.17 in /opt/conda/envs/dgl-dev-cpu/lib/python3.10/site-packages (from requests>=2.19.0->dgl) (2024.8.30)\r\n",
      "Requirement already satisfied: torch>=2 in /opt/conda/envs/dgl-dev-cpu/lib/python3.10/site-packages (from torchdata>=0.5.0->dgl) (2.1.0+cpu)\r\n"
     ]
    },
    {
     "name": "stdout",
     "output_type": "stream",
     "text": [
      "Requirement already satisfied: python-dateutil>=2.8.2 in /opt/conda/envs/dgl-dev-cpu/lib/python3.10/site-packages (from pandas->dgl) (2.9.0.post0)\r\n",
      "Requirement already satisfied: pytz>=2020.1 in /opt/conda/envs/dgl-dev-cpu/lib/python3.10/site-packages (from pandas->dgl) (2024.2)\r\n",
      "Requirement already satisfied: tzdata>=2022.7 in /opt/conda/envs/dgl-dev-cpu/lib/python3.10/site-packages (from pandas->dgl) (2024.2)\r\n",
      "Requirement already satisfied: six>=1.5 in /opt/conda/envs/dgl-dev-cpu/lib/python3.10/site-packages (from python-dateutil>=2.8.2->pandas->dgl) (1.16.0)\r\n",
      "Requirement already satisfied: filelock in /opt/conda/envs/dgl-dev-cpu/lib/python3.10/site-packages (from torch>=2->torchdata>=0.5.0->dgl) (3.16.1)\r\n",
      "Requirement already satisfied: typing-extensions in /opt/conda/envs/dgl-dev-cpu/lib/python3.10/site-packages (from torch>=2->torchdata>=0.5.0->dgl) (4.12.2)\r\n",
      "Requirement already satisfied: sympy in /opt/conda/envs/dgl-dev-cpu/lib/python3.10/site-packages (from torch>=2->torchdata>=0.5.0->dgl) (1.13.3)\r\n",
      "Requirement already satisfied: jinja2 in /opt/conda/envs/dgl-dev-cpu/lib/python3.10/site-packages (from torch>=2->torchdata>=0.5.0->dgl) (3.1.4)\r\n",
      "Requirement already satisfied: fsspec in /opt/conda/envs/dgl-dev-cpu/lib/python3.10/site-packages (from torch>=2->torchdata>=0.5.0->dgl) (2024.9.0)\r\n"
     ]
    },
    {
     "name": "stdout",
     "output_type": "stream",
     "text": [
      "Requirement already satisfied: MarkupSafe>=2.0 in /opt/conda/envs/dgl-dev-cpu/lib/python3.10/site-packages (from jinja2->torch>=2->torchdata>=0.5.0->dgl) (3.0.2)\r\n",
      "Requirement already satisfied: mpmath<1.4,>=1.1.0 in /opt/conda/envs/dgl-dev-cpu/lib/python3.10/site-packages (from sympy->torch>=2->torchdata>=0.5.0->dgl) (1.3.0)\r\n"
     ]
    },
    {
     "name": "stdout",
     "output_type": "stream",
     "text": [
      "\u001b[33mWARNING: Running pip as the 'root' user can result in broken permissions and conflicting behaviour with the system package manager, possibly rendering your system unusable.It is recommended to use a virtual environment instead: https://pip.pypa.io/warnings/venv. Use the --root-user-action option if you know what you are doing and want to suppress this warning.\u001b[0m\u001b[33m\r\n",
      "\u001b[0m"
     ]
    },
    {
     "name": "stdout",
     "output_type": "stream",
     "text": [
      "DGL installed!\n"
     ]
    }
   ],
   "source": [
    "# Install required packages.\n",
    "import os\n",
    "import torch\n",
    "import numpy as np\n",
    "os.environ['TORCH'] = torch.__version__\n",
    "os.environ['DGLBACKEND'] = \"pytorch\"\n",
    "\n",
    "# Install the CPU version.\n",
    "device = torch.device(\"cpu\")\n",
    "!pip install --pre dgl -f https://data.dgl.ai/wheels-test/repo.html\n",
    "\n",
    "try:\n",
    "    import dgl\n",
    "    import dgl.graphbolt as gb\n",
    "    installed = True\n",
    "except ImportError as error:\n",
    "    installed = False\n",
    "    print(error)\n",
    "print(\"DGL installed!\" if installed else \"DGL not found!\")"
   ]
  },
  {
   "cell_type": "markdown",
   "metadata": {
    "id": "2R7WnSbjsfbr"
   },
   "source": [
    "## Data preparation\n",
    "In order to demonstrate how to organize various data, let's create a base directory first."
   ]
  },
  {
   "cell_type": "code",
   "execution_count": 2,
   "metadata": {
    "execution": {
     "iopub.execute_input": "2024-10-20T13:20:20.544923Z",
     "iopub.status.busy": "2024-10-20T13:20:20.544296Z",
     "iopub.status.idle": "2024-10-20T13:20:20.549560Z",
     "shell.execute_reply": "2024-10-20T13:20:20.548607Z"
    },
    "id": "SZipbzyltLfO"
   },
   "outputs": [
    {
     "name": "stdout",
     "output_type": "stream",
     "text": [
      "Created base directory: ./ondisk_dataset_homograph\n"
     ]
    }
   ],
   "source": [
    "base_dir = './ondisk_dataset_homograph'\n",
    "os.makedirs(base_dir, exist_ok=True)\n",
    "print(f\"Created base directory: {base_dir}\")"
   ]
  },
  {
   "cell_type": "markdown",
   "metadata": {
    "id": "qhNtIn_xhlnl"
   },
   "source": [
    "### Generate graph structure data\n",
    "For homogeneous graph, we just need to save edges(namely seeds) into  **Numpy** or **CSV** file.\n",
    "\n",
    "Note:\n",
    "- when saving to **Numpy**, the array requires to be in shape of `(2, N)`. This format is recommended as constructing graph from it is much faster than **CSV** file.\n",
    "- when saving to **CSV** file, do not save index and header.\n"
   ]
  },
  {
   "cell_type": "code",
   "execution_count": 3,
   "metadata": {
    "execution": {
     "iopub.execute_input": "2024-10-20T13:20:20.552064Z",
     "iopub.status.busy": "2024-10-20T13:20:20.551641Z",
     "iopub.status.idle": "2024-10-20T13:20:20.565790Z",
     "shell.execute_reply": "2024-10-20T13:20:20.564990Z"
    },
    "id": "HcBt4G5BmSjr"
   },
   "outputs": [
    {
     "name": "stdout",
     "output_type": "stream",
     "text": [
      "Part of edges: [[977 813]\n",
      " [572 268]\n",
      " [512 817]\n",
      " [279 890]\n",
      " [611 968]]\n",
      "Edges are saved into ./ondisk_dataset_homograph/edges.csv\n"
     ]
    }
   ],
   "source": [
    "import numpy as np\n",
    "import pandas as pd\n",
    "num_nodes = 1000\n",
    "num_edges = 10 * num_nodes\n",
    "edges_path = os.path.join(base_dir, \"edges.csv\")\n",
    "edges = np.random.randint(0, num_nodes, size=(num_edges, 2))\n",
    "\n",
    "print(f\"Part of edges: {edges[:5, :]}\")\n",
    "\n",
    "df = pd.DataFrame(edges)\n",
    "df.to_csv(edges_path, index=False, header=False)\n",
    "\n",
    "print(f\"Edges are saved into {edges_path}\")"
   ]
  },
  {
   "cell_type": "markdown",
   "metadata": {
    "id": "kh-4cPtzpcaH"
   },
   "source": [
    "### Generate feature data for graph\n",
    "For feature data, numpy arrays and torch tensors are supported for now."
   ]
  },
  {
   "cell_type": "code",
   "execution_count": 4,
   "metadata": {
    "execution": {
     "iopub.execute_input": "2024-10-20T13:20:20.568055Z",
     "iopub.status.busy": "2024-10-20T13:20:20.567762Z",
     "iopub.status.idle": "2024-10-20T13:20:20.586426Z",
     "shell.execute_reply": "2024-10-20T13:20:20.585678Z"
    },
    "id": "_PVu1u5brBhF"
   },
   "outputs": [
    {
     "name": "stdout",
     "output_type": "stream",
     "text": [
      "Part of node feature [feat_0]: [[0.99303404 0.67013484 0.76125432 0.43745224 0.67767197]\n",
      " [0.77336196 0.4788652  0.46430265 0.78434291 0.45911614]\n",
      " [0.42884297 0.44908392 0.93936882 0.68647243 0.92985979]]\n",
      "Node feature [feat_0] is saved to ./ondisk_dataset_homograph/node-feat-0.npy\n",
      "\n",
      "Part of node feature [feat_1]: tensor([[8.6412e-01, 8.3404e-02, 2.7486e-02, 1.1370e-01, 1.0502e-04],\n",
      "        [8.1858e-01, 1.0417e-01, 9.2445e-01, 7.1931e-01, 2.7425e-01],\n",
      "        [6.1934e-01, 7.5733e-01, 9.5446e-01, 7.4066e-02, 2.6810e-01]])\n",
      "Node feature [feat_1] is saved to ./ondisk_dataset_homograph/node-feat-1.pt\n",
      "\n",
      "Part of edge feature [feat_0]: [[0.88595526 0.47452776 0.22461871 0.26092971 0.83152875]\n",
      " [0.34479801 0.49839052 0.79427861 0.13340309 0.04311495]\n",
      " [0.06072411 0.65600815 0.18574172 0.88080584 0.19396018]]\n",
      "Edge feature [feat_0] is saved to ./ondisk_dataset_homograph/edge-feat-0.npy\n",
      "\n",
      "Part of edge feature [feat_1]: tensor([[0.5161, 0.9194, 0.2784, 0.2878, 0.6118],\n",
      "        [0.9467, 0.4704, 0.8721, 0.2738, 0.4156],\n",
      "        [0.7411, 0.6603, 0.3990, 0.7520, 0.1262]])\n",
      "Edge feature [feat_1] is saved to ./ondisk_dataset_homograph/edge-feat-1.pt\n",
      "\n"
     ]
    }
   ],
   "source": [
    "# Generate node feature in numpy array.\n",
    "node_feat_0_path = os.path.join(base_dir, \"node-feat-0.npy\")\n",
    "node_feat_0 = np.random.rand(num_nodes, 5)\n",
    "print(f\"Part of node feature [feat_0]: {node_feat_0[:3, :]}\")\n",
    "np.save(node_feat_0_path, node_feat_0)\n",
    "print(f\"Node feature [feat_0] is saved to {node_feat_0_path}\\n\")\n",
    "\n",
    "# Generate another node feature in torch tensor\n",
    "node_feat_1_path = os.path.join(base_dir, \"node-feat-1.pt\")\n",
    "node_feat_1 = torch.rand(num_nodes, 5)\n",
    "print(f\"Part of node feature [feat_1]: {node_feat_1[:3, :]}\")\n",
    "torch.save(node_feat_1, node_feat_1_path)\n",
    "print(f\"Node feature [feat_1] is saved to {node_feat_1_path}\\n\")\n",
    "\n",
    "# Generate edge feature in numpy array.\n",
    "edge_feat_0_path = os.path.join(base_dir, \"edge-feat-0.npy\")\n",
    "edge_feat_0 = np.random.rand(num_edges, 5)\n",
    "print(f\"Part of edge feature [feat_0]: {edge_feat_0[:3, :]}\")\n",
    "np.save(edge_feat_0_path, edge_feat_0)\n",
    "print(f\"Edge feature [feat_0] is saved to {edge_feat_0_path}\\n\")\n",
    "\n",
    "# Generate another edge feature in torch tensor\n",
    "edge_feat_1_path = os.path.join(base_dir, \"edge-feat-1.pt\")\n",
    "edge_feat_1 = torch.rand(num_edges, 5)\n",
    "print(f\"Part of edge feature [feat_1]: {edge_feat_1[:3, :]}\")\n",
    "torch.save(edge_feat_1, edge_feat_1_path)\n",
    "print(f\"Edge feature [feat_1] is saved to {edge_feat_1_path}\\n\")\n"
   ]
  },
  {
   "cell_type": "markdown",
   "metadata": {
    "id": "ZyqgOtsIwzh_"
   },
   "source": [
    "### Generate tasks\n",
    "`OnDiskDataset` supports multiple tasks. For each task, we need to prepare training/validation/test sets respectively. Such sets usually vary among different tasks. In this tutorial, let's create a **Node Classification** task and **Link Prediction** task."
   ]
  },
  {
   "cell_type": "markdown",
   "metadata": {
    "id": "hVxHaDIfzCkr"
   },
   "source": [
    "#### Node Classification Task\n",
    "For node classification task, we need **node IDs** and corresponding **labels** for each training/validation/test set. Like feature data, numpy arrays and torch tensors are supported for these sets."
   ]
  },
  {
   "cell_type": "code",
   "execution_count": 5,
   "metadata": {
    "execution": {
     "iopub.execute_input": "2024-10-20T13:20:20.588984Z",
     "iopub.status.busy": "2024-10-20T13:20:20.588776Z",
     "iopub.status.idle": "2024-10-20T13:20:20.600321Z",
     "shell.execute_reply": "2024-10-20T13:20:20.599488Z"
    },
    "id": "S5-fyBbHzTCO"
   },
   "outputs": [
    {
     "name": "stdout",
     "output_type": "stream",
     "text": [
      "Part of train ids for node classification: [859 885 261]\n",
      "NC train ids are saved to ./ondisk_dataset_homograph/nc-train-ids.npy\n",
      "\n",
      "Part of train labels for node classification: tensor([4, 3, 0])\n",
      "NC train labels are saved to ./ondisk_dataset_homograph/nc-train-labels.pt\n",
      "\n",
      "Part of val ids for node classification: [755 318 363]\n",
      "NC val ids are saved to ./ondisk_dataset_homograph/nc-val-ids.npy\n",
      "\n",
      "Part of val labels for node classification: tensor([5, 2, 7])\n",
      "NC val labels are saved to ./ondisk_dataset_homograph/nc-val-labels.pt\n",
      "\n",
      "Part of test ids for node classification: [127   5  37]\n",
      "NC test ids are saved to ./ondisk_dataset_homograph/nc-test-ids.npy\n",
      "\n",
      "Part of test labels for node classification: tensor([9, 5, 2])\n",
      "NC test labels are saved to ./ondisk_dataset_homograph/nc-test-labels.pt\n",
      "\n"
     ]
    }
   ],
   "source": [
    "num_trains = int(num_nodes * 0.6)\n",
    "num_vals = int(num_nodes * 0.2)\n",
    "num_tests = num_nodes - num_trains - num_vals\n",
    "\n",
    "ids = np.arange(num_nodes)\n",
    "np.random.shuffle(ids)\n",
    "\n",
    "nc_train_ids_path = os.path.join(base_dir, \"nc-train-ids.npy\")\n",
    "nc_train_ids = ids[:num_trains]\n",
    "print(f\"Part of train ids for node classification: {nc_train_ids[:3]}\")\n",
    "np.save(nc_train_ids_path, nc_train_ids)\n",
    "print(f\"NC train ids are saved to {nc_train_ids_path}\\n\")\n",
    "\n",
    "nc_train_labels_path = os.path.join(base_dir, \"nc-train-labels.pt\")\n",
    "nc_train_labels = torch.randint(0, 10, (num_trains,))\n",
    "print(f\"Part of train labels for node classification: {nc_train_labels[:3]}\")\n",
    "torch.save(nc_train_labels, nc_train_labels_path)\n",
    "print(f\"NC train labels are saved to {nc_train_labels_path}\\n\")\n",
    "\n",
    "nc_val_ids_path = os.path.join(base_dir, \"nc-val-ids.npy\")\n",
    "nc_val_ids = ids[num_trains:num_trains+num_vals]\n",
    "print(f\"Part of val ids for node classification: {nc_val_ids[:3]}\")\n",
    "np.save(nc_val_ids_path, nc_val_ids)\n",
    "print(f\"NC val ids are saved to {nc_val_ids_path}\\n\")\n",
    "\n",
    "nc_val_labels_path = os.path.join(base_dir, \"nc-val-labels.pt\")\n",
    "nc_val_labels = torch.randint(0, 10, (num_vals,))\n",
    "print(f\"Part of val labels for node classification: {nc_val_labels[:3]}\")\n",
    "torch.save(nc_val_labels, nc_val_labels_path)\n",
    "print(f\"NC val labels are saved to {nc_val_labels_path}\\n\")\n",
    "\n",
    "nc_test_ids_path = os.path.join(base_dir, \"nc-test-ids.npy\")\n",
    "nc_test_ids = ids[-num_tests:]\n",
    "print(f\"Part of test ids for node classification: {nc_test_ids[:3]}\")\n",
    "np.save(nc_test_ids_path, nc_test_ids)\n",
    "print(f\"NC test ids are saved to {nc_test_ids_path}\\n\")\n",
    "\n",
    "nc_test_labels_path = os.path.join(base_dir, \"nc-test-labels.pt\")\n",
    "nc_test_labels = torch.randint(0, 10, (num_tests,))\n",
    "print(f\"Part of test labels for node classification: {nc_test_labels[:3]}\")\n",
    "torch.save(nc_test_labels, nc_test_labels_path)\n",
    "print(f\"NC test labels are saved to {nc_test_labels_path}\\n\")"
   ]
  },
  {
   "cell_type": "markdown",
   "metadata": {
    "id": "LhAcDCHQ_KJ0"
   },
   "source": [
    "#### Link Prediction Task\n",
    "For link prediction task, we need **seeds** or **corresponding labels and indexes** which representing the pos/neg property and group of the seeds for each training/validation/test set. Like feature data, numpy arrays and torch tensors are supported for these sets."
   ]
  },
  {
   "cell_type": "code",
   "execution_count": 6,
   "metadata": {
    "execution": {
     "iopub.execute_input": "2024-10-20T13:20:20.602852Z",
     "iopub.status.busy": "2024-10-20T13:20:20.602449Z",
     "iopub.status.idle": "2024-10-20T13:20:20.621051Z",
     "shell.execute_reply": "2024-10-20T13:20:20.620065Z"
    },
    "id": "u0jCnXIcAQy4"
   },
   "outputs": [
    {
     "name": "stdout",
     "output_type": "stream",
     "text": [
      "Part of train seeds for link prediction: [[977 813]\n",
      " [572 268]\n",
      " [512 817]]\n",
      "LP train seeds are saved to ./ondisk_dataset_homograph/lp-train-seeds.npy\n",
      "\n",
      "Part of val seeds for link prediction: [[  4 670]\n",
      " [369 764]\n",
      " [166 874]]\n",
      "LP val seeds are saved to ./ondisk_dataset_homograph/lp-val-seeds.npy\n",
      "\n",
      "Part of val labels for link prediction: [1. 1. 1.]\n",
      "LP val labels are saved to ./ondisk_dataset_homograph/lp-val-labels.npy\n",
      "\n",
      "Part of val indexes for link prediction: [0 1 2]\n",
      "LP val indexes are saved to ./ondisk_dataset_homograph/lp-val-indexes.npy\n",
      "\n",
      "Part of test seeds for link prediction: [[563   0]\n",
      " [522  16]\n",
      " [395  12]]\n",
      "LP test seeds are saved to ./ondisk_dataset_homograph/lp-test-seeds.npy\n",
      "\n",
      "Part of val labels for link prediction: [1. 1. 1.]\n",
      "LP test labels are saved to ./ondisk_dataset_homograph/lp-test-labels.npy\n",
      "\n",
      "Part of test indexes for link prediction: [0 1 2]\n",
      "LP test indexes are saved to ./ondisk_dataset_homograph/lp-test-indexes.npy\n",
      "\n"
     ]
    }
   ],
   "source": [
    "num_trains = int(num_edges * 0.6)\n",
    "num_vals = int(num_edges * 0.2)\n",
    "num_tests = num_edges - num_trains - num_vals\n",
    "\n",
    "lp_train_seeds_path = os.path.join(base_dir, \"lp-train-seeds.npy\")\n",
    "lp_train_seeds = edges[:num_trains, :]\n",
    "print(f\"Part of train seeds for link prediction: {lp_train_seeds[:3]}\")\n",
    "np.save(lp_train_seeds_path, lp_train_seeds)\n",
    "print(f\"LP train seeds are saved to {lp_train_seeds_path}\\n\")\n",
    "\n",
    "lp_val_seeds_path = os.path.join(base_dir, \"lp-val-seeds.npy\")\n",
    "lp_val_seeds = edges[num_trains:num_trains+num_vals, :]\n",
    "lp_val_neg_dsts = np.random.randint(0, num_nodes, (num_vals, 10)).reshape(-1)\n",
    "lp_val_neg_srcs = np.repeat(lp_val_seeds[:,0], 10)\n",
    "lp_val_neg_seeds = np.concatenate((lp_val_neg_srcs, lp_val_neg_dsts)).reshape(2,-1).T\n",
    "lp_val_seeds = np.concatenate((lp_val_seeds, lp_val_neg_seeds))\n",
    "print(f\"Part of val seeds for link prediction: {lp_val_seeds[:3]}\")\n",
    "np.save(lp_val_seeds_path, lp_val_seeds)\n",
    "print(f\"LP val seeds are saved to {lp_val_seeds_path}\\n\")\n",
    "\n",
    "lp_val_labels_path = os.path.join(base_dir, \"lp-val-labels.npy\")\n",
    "lp_val_labels = np.empty(num_vals * (10 + 1))\n",
    "lp_val_labels[:num_vals] = 1\n",
    "lp_val_labels[num_vals:] = 0\n",
    "print(f\"Part of val labels for link prediction: {lp_val_labels[:3]}\")\n",
    "np.save(lp_val_labels_path, lp_val_labels)\n",
    "print(f\"LP val labels are saved to {lp_val_labels_path}\\n\")\n",
    "\n",
    "lp_val_indexes_path = os.path.join(base_dir, \"lp-val-indexes.npy\")\n",
    "lp_val_indexes = np.arange(0, num_vals)\n",
    "lp_val_neg_indexes = np.repeat(lp_val_indexes, 10)\n",
    "lp_val_indexes = np.concatenate([lp_val_indexes, lp_val_neg_indexes])\n",
    "print(f\"Part of val indexes for link prediction: {lp_val_indexes[:3]}\")\n",
    "np.save(lp_val_indexes_path, lp_val_indexes)\n",
    "print(f\"LP val indexes are saved to {lp_val_indexes_path}\\n\")\n",
    "\n",
    "lp_test_seeds_path = os.path.join(base_dir, \"lp-test-seeds.npy\")\n",
    "lp_test_seeds = edges[-num_tests:, :]\n",
    "lp_test_neg_dsts = np.random.randint(0, num_nodes, (num_tests, 10)).reshape(-1)\n",
    "lp_test_neg_srcs = np.repeat(lp_test_seeds[:,0], 10)\n",
    "lp_test_neg_seeds = np.concatenate((lp_test_neg_srcs, lp_test_neg_dsts)).reshape(2,-1).T\n",
    "lp_test_seeds = np.concatenate((lp_test_seeds, lp_test_neg_seeds))\n",
    "print(f\"Part of test seeds for link prediction: {lp_test_seeds[:3]}\")\n",
    "np.save(lp_test_seeds_path, lp_test_seeds)\n",
    "print(f\"LP test seeds are saved to {lp_test_seeds_path}\\n\")\n",
    "\n",
    "lp_test_labels_path = os.path.join(base_dir, \"lp-test-labels.npy\")\n",
    "lp_test_labels = np.empty(num_tests * (10 + 1))\n",
    "lp_test_labels[:num_tests] = 1\n",
    "lp_test_labels[num_tests:] = 0\n",
    "print(f\"Part of val labels for link prediction: {lp_test_labels[:3]}\")\n",
    "np.save(lp_test_labels_path, lp_test_labels)\n",
    "print(f\"LP test labels are saved to {lp_test_labels_path}\\n\")\n",
    "\n",
    "lp_test_indexes_path = os.path.join(base_dir, \"lp-test-indexes.npy\")\n",
    "lp_test_indexes = np.arange(0, num_tests)\n",
    "lp_test_neg_indexes = np.repeat(lp_test_indexes, 10)\n",
    "lp_test_indexes = np.concatenate([lp_test_indexes, lp_test_neg_indexes])\n",
    "print(f\"Part of test indexes for link prediction: {lp_test_indexes[:3]}\")\n",
    "np.save(lp_test_indexes_path, lp_test_indexes)\n",
    "print(f\"LP test indexes are saved to {lp_test_indexes_path}\\n\")"
   ]
  },
  {
   "cell_type": "markdown",
   "metadata": {
    "id": "wbk6-wxRK-6S"
   },
   "source": [
    "## Organize Data into YAML File\n",
    "Now we need to create a `metadata.yaml` file which contains the paths, dadta types of graph structure, feature data, training/validation/test sets.\n",
    "\n",
    "Notes:\n",
    "- all path should be relative to `metadata.yaml`.\n",
    "- Below fields are optional and not specified in below example.\n",
    "  - `in_memory`: indicates whether to load dada into memory or `mmap`. Default is `True`.\n",
    "\n",
    "Please refer to [YAML specification](https://github.com/dmlc/dgl/blob/master/docs/source/stochastic_training/ondisk-dataset-specification.rst) for more details."
   ]
  },
  {
   "cell_type": "code",
   "execution_count": 7,
   "metadata": {
    "execution": {
     "iopub.execute_input": "2024-10-20T13:20:20.623678Z",
     "iopub.status.busy": "2024-10-20T13:20:20.623353Z",
     "iopub.status.idle": "2024-10-20T13:20:20.629572Z",
     "shell.execute_reply": "2024-10-20T13:20:20.628746Z"
    },
    "id": "ddGTWW61Lpwp"
   },
   "outputs": [],
   "source": [
    "yaml_content = f\"\"\"\n",
    "    dataset_name: homogeneous_graph_nc_lp\n",
    "    graph:\n",
    "      nodes:\n",
    "        - num: {num_nodes}\n",
    "      edges:\n",
    "        - format: csv\n",
    "          path: {os.path.basename(edges_path)}\n",
    "    feature_data:\n",
    "      - domain: node\n",
    "        name: feat_0\n",
    "        format: numpy\n",
    "        path: {os.path.basename(node_feat_0_path)}\n",
    "      - domain: node\n",
    "        name: feat_1\n",
    "        format: torch\n",
    "        path: {os.path.basename(node_feat_1_path)}\n",
    "      - domain: edge\n",
    "        name: feat_0\n",
    "        format: numpy\n",
    "        path: {os.path.basename(edge_feat_0_path)}\n",
    "      - domain: edge\n",
    "        name: feat_1\n",
    "        format: torch\n",
    "        path: {os.path.basename(edge_feat_1_path)}\n",
    "    tasks:\n",
    "      - name: node_classification\n",
    "        num_classes: 10\n",
    "        train_set:\n",
    "          - data:\n",
    "              - name: seeds\n",
    "                format: numpy\n",
    "                path: {os.path.basename(nc_train_ids_path)}\n",
    "              - name: labels\n",
    "                format: torch\n",
    "                path: {os.path.basename(nc_train_labels_path)}\n",
    "        validation_set:\n",
    "          - data:\n",
    "              - name: seeds\n",
    "                format: numpy\n",
    "                path: {os.path.basename(nc_val_ids_path)}\n",
    "              - name: labels\n",
    "                format: torch\n",
    "                path: {os.path.basename(nc_val_labels_path)}\n",
    "        test_set:\n",
    "          - data:\n",
    "              - name: seeds\n",
    "                format: numpy\n",
    "                path: {os.path.basename(nc_test_ids_path)}\n",
    "              - name: labels\n",
    "                format: torch\n",
    "                path: {os.path.basename(nc_test_labels_path)}\n",
    "      - name: link_prediction\n",
    "        num_classes: 10\n",
    "        train_set:\n",
    "          - data:\n",
    "              - name: seeds\n",
    "                format: numpy\n",
    "                path: {os.path.basename(lp_train_seeds_path)}\n",
    "        validation_set:\n",
    "          - data:\n",
    "              - name: seeds\n",
    "                format: numpy\n",
    "                path: {os.path.basename(lp_val_seeds_path)}\n",
    "              - name: labels\n",
    "                format: numpy\n",
    "                path: {os.path.basename(lp_val_labels_path)}\n",
    "              - name: indexes\n",
    "                format: numpy\n",
    "                path: {os.path.basename(lp_val_indexes_path)}\n",
    "        test_set:\n",
    "          - data:\n",
    "              - name: seeds\n",
    "                format: numpy\n",
    "                path: {os.path.basename(lp_test_seeds_path)}\n",
    "              - name: labels\n",
    "                format: numpy\n",
    "                path: {os.path.basename(lp_test_labels_path)}\n",
    "              - name: indexes\n",
    "                format: numpy\n",
    "                path: {os.path.basename(lp_test_indexes_path)}\n",
    "\"\"\"\n",
    "metadata_path = os.path.join(base_dir, \"metadata.yaml\")\n",
    "with open(metadata_path, \"w\") as f:\n",
    "  f.write(yaml_content)"
   ]
  },
  {
   "cell_type": "markdown",
   "metadata": {
    "id": "kEfybHGhOW7O"
   },
   "source": [
    "## Instantiate `OnDiskDataset`\n",
    "Now we're ready to load dataset via `dgl.graphbolt.OnDiskDataset`. When instantiating, we just pass in the base directory where `metadata.yaml` file lies.\n",
    "\n",
    "During first instantiation, GraphBolt preprocesses the raw data such as constructing `FusedCSCSamplingGraph` from edges. All data including graph, feature data, training/validation/test sets are put into `preprocessed` directory after preprocessing. Any following dataset loading will skip the preprocess stage.\n",
    "\n",
    "After preprocessing, `load()` is required to be called explicitly in order to load graph, feature data and tasks."
   ]
  },
  {
   "cell_type": "code",
   "execution_count": 8,
   "metadata": {
    "execution": {
     "iopub.execute_input": "2024-10-20T13:20:20.631747Z",
     "iopub.status.busy": "2024-10-20T13:20:20.631456Z",
     "iopub.status.idle": "2024-10-20T13:20:20.706683Z",
     "shell.execute_reply": "2024-10-20T13:20:20.705959Z"
    },
    "id": "W58CZoSzOiyo"
   },
   "outputs": [
    {
     "name": "stdout",
     "output_type": "stream",
     "text": [
      "Start to preprocess the on-disk dataset.\n",
      "Finish preprocessing the on-disk dataset.\n",
      "Loaded graph: FusedCSCSamplingGraph(csc_indptr=tensor([    0,    13,    24,  ...,  9989,  9996, 10000], dtype=torch.int32),\n",
      "                      indices=tensor([510, 511, 556,  ..., 773, 365, 800], dtype=torch.int32),\n",
      "                      total_num_nodes=1000, num_edges=10000,)\n",
      "\n",
      "Loaded feature store: TorchBasedFeatureStore(\n",
      "    {(<OnDiskFeatureDataDomain.NODE: 'node'>, None, 'feat_0'): TorchBasedFeature(\n",
      "        feature=tensor([[0.9930, 0.6701, 0.7613, 0.4375, 0.6777],\n",
      "                        [0.7734, 0.4789, 0.4643, 0.7843, 0.4591],\n",
      "                        [0.4288, 0.4491, 0.9394, 0.6865, 0.9299],\n",
      "                        ...,\n",
      "                        [0.0031, 0.4412, 0.0190, 0.9450, 0.0651],\n",
      "                        [0.4263, 0.2604, 0.2396, 0.9248, 0.2167],\n",
      "                        [0.7040, 0.8050, 0.6315, 0.2840, 0.6513]], dtype=torch.float64),\n",
      "        metadata={},\n",
      "    ), (<OnDiskFeatureDataDomain.NODE: 'node'>, None, 'feat_1'): TorchBasedFeature(\n",
      "        feature=tensor([[8.6412e-01, 8.3404e-02, 2.7486e-02, 1.1370e-01, 1.0502e-04],\n",
      "                        [8.1858e-01, 1.0417e-01, 9.2445e-01, 7.1931e-01, 2.7425e-01],\n",
      "                        [6.1934e-01, 7.5733e-01, 9.5446e-01, 7.4066e-02, 2.6810e-01],\n",
      "                        ...,\n",
      "                        [7.2393e-01, 9.5983e-01, 1.6405e-01, 8.5889e-01, 9.8736e-01],\n",
      "                        [7.3021e-01, 1.9456e-01, 6.0057e-01, 9.8756e-01, 4.4584e-01],\n",
      "                        [6.6499e-01, 4.5597e-01, 5.1799e-01, 7.0252e-01, 6.0060e-01]]),\n",
      "        metadata={},\n",
      "    ), (<OnDiskFeatureDataDomain.EDGE: 'edge'>, None, 'feat_0'): TorchBasedFeature(\n",
      "        feature=tensor([[0.8860, 0.4745, 0.2246, 0.2609, 0.8315],\n",
      "                        [0.3448, 0.4984, 0.7943, 0.1334, 0.0431],\n",
      "                        [0.0607, 0.6560, 0.1857, 0.8808, 0.1940],\n",
      "                        ...,\n",
      "                        [0.6823, 0.8975, 0.4925, 0.4546, 0.4541],\n",
      "                        [0.2160, 0.1039, 0.6653, 0.3581, 0.6019],\n",
      "                        [0.6467, 0.6516, 0.5595, 0.2604, 0.6335]], dtype=torch.float64),\n",
      "        metadata={},\n",
      "    ), (<OnDiskFeatureDataDomain.EDGE: 'edge'>, None, 'feat_1'): TorchBasedFeature(\n",
      "        feature=tensor([[0.5161, 0.9194, 0.2784, 0.2878, 0.6118],\n",
      "                        [0.9467, 0.4704, 0.8721, 0.2738, 0.4156],\n",
      "                        [0.7411, 0.6603, 0.3990, 0.7520, 0.1262],\n",
      "                        ...,\n",
      "                        [0.1899, 0.0779, 0.7853, 0.8751, 0.6580],\n",
      "                        [0.5721, 0.1498, 0.5274, 0.7753, 0.0638],\n",
      "                        [0.1598, 0.6306, 0.8393, 0.1263, 0.6933]]),\n",
      "        metadata={},\n",
      "    )}\n",
      ")\n",
      "\n",
      "Loaded node classification task: OnDiskTask(validation_set=ItemSet(\n",
      "               items=(tensor([755, 318, 363, 818, 828, 961, 536, 992, 329, 510, 966, 493, 750, 449,\n",
      "                   427, 962, 811, 268, 231, 472, 252, 494, 769, 146, 354, 527, 920, 748,\n",
      "                   420, 369, 865, 440, 319, 851, 385, 654, 353, 841, 112, 469, 670, 429,\n",
      "                   628, 288, 233, 424, 792, 417, 375, 618, 177, 201, 827, 700,  38, 815,\n",
      "                   994, 212,   8, 663, 569, 785, 389, 246, 189, 361, 925, 418,  83, 575,\n",
      "                   738, 300,  77, 710, 644, 409, 648,  74, 613, 979, 458, 102, 657, 476,\n",
      "                   315, 635, 384, 128, 337, 888, 437, 456, 863,  47, 783,  30, 339, 824,\n",
      "                   855, 107, 180, 922, 398, 109, 711, 381, 263, 955, 241, 683, 244, 645,\n",
      "                   286, 228, 805, 391,  90, 854, 630, 887, 240,  84, 549, 484, 466, 368,\n",
      "                   603, 285, 694, 826, 330, 451, 281, 599, 942, 595, 206, 153, 462, 349,\n",
      "                   229, 270, 757, 438, 453, 516, 906, 775, 717, 554, 332, 271, 305, 447,\n",
      "                   693, 115, 891, 308, 309, 576, 360, 397, 187, 147, 880, 478, 619, 142,\n",
      "                   166, 502, 773, 492, 890, 848, 600, 777, 216,   4, 999, 312,  35, 651,\n",
      "                   213, 546, 977, 203, 161, 801, 291, 495, 895, 946, 480, 810,  82, 509,\n",
      "                   583, 545, 765, 629], dtype=torch.int32), tensor([5, 2, 7, 1, 7, 0, 3, 7, 8, 5, 0, 7, 9, 8, 6, 0, 6, 8, 3, 2, 0, 9, 4, 4,\n",
      "                   9, 1, 7, 9, 0, 4, 6, 4, 7, 6, 1, 0, 4, 1, 3, 5, 8, 4, 2, 2, 8, 2, 9, 7,\n",
      "                   4, 6, 0, 5, 7, 3, 5, 1, 6, 3, 6, 5, 5, 8, 8, 1, 9, 2, 3, 6, 1, 1, 3, 5,\n",
      "                   1, 7, 8, 0, 9, 7, 1, 1, 8, 1, 0, 3, 0, 8, 5, 3, 9, 6, 5, 5, 3, 4, 0, 1,\n",
      "                   6, 4, 3, 7, 2, 9, 9, 8, 6, 8, 8, 7, 6, 0, 2, 9, 7, 7, 6, 3, 0, 0, 2, 0,\n",
      "                   9, 5, 7, 8, 2, 8, 6, 2, 3, 6, 6, 1, 1, 9, 7, 6, 7, 6, 3, 5, 6, 2, 1, 1,\n",
      "                   8, 8, 9, 1, 3, 5, 1, 5, 3, 7, 6, 0, 2, 8, 2, 1, 7, 1, 0, 4, 3, 6, 7, 4,\n",
      "                   2, 8, 8, 2, 2, 6, 0, 6, 5, 1, 9, 2, 0, 0, 1, 1, 9, 4, 7, 9, 4, 3, 5, 9,\n",
      "                   6, 5, 4, 0, 0, 2, 8, 6])),\n",
      "               names=('seeds', 'labels'),\n",
      "           ),\n",
      "           train_set=ItemSet(\n",
      "               items=(tensor([859, 885, 261, 259, 980, 383, 242, 846, 969, 524, 125, 703, 759, 963,\n",
      "                   209, 210, 990, 791, 579, 317, 742, 833, 939, 336, 744, 772, 439, 832,\n",
      "                    21, 971, 641, 873, 224, 776, 452, 713, 996, 141, 405, 825, 116, 967,\n",
      "                   561, 796, 692,  68, 534, 292, 254, 362,  53, 688, 849, 753, 698, 542,\n",
      "                   642, 970, 352, 167, 943, 988, 514, 661,  31, 634,  98, 370, 178, 978,\n",
      "                   665, 901, 343,  76, 338, 186, 899, 900, 733, 730, 460, 685, 929, 886,\n",
      "                   722, 858, 591,  40, 874, 597, 930, 121, 218, 287, 676, 151, 952, 296,\n",
      "                   650, 953, 525, 667, 948,  95, 749, 236, 535, 160,  18, 295, 659, 897,\n",
      "                    19, 168, 379, 696, 671,  63, 871, 543,  27, 331, 565, 839, 697, 951,\n",
      "                    49, 104, 842, 512, 560, 739, 163, 682, 581, 188, 110, 290, 986, 431,\n",
      "                   935, 945, 921, 830, 269, 719, 610, 131, 470, 133, 214, 387, 523, 103,\n",
      "                   276,  75, 853, 544,  99, 567, 169, 282, 540, 884, 705, 820, 919, 376,\n",
      "                   489, 345, 299, 732,  11, 617, 463, 124, 365, 793,  14, 402, 573, 221,\n",
      "                   355, 250,  93, 471, 520, 594, 302, 548, 604, 625, 763,  88, 274, 611,\n",
      "                   564, 388, 995, 563, 380, 152, 782, 823, 889, 181, 881, 314, 607, 568,\n",
      "                   911, 760, 934, 135, 155, 672, 553, 414, 119,  51,  23, 195,  85, 377,\n",
      "                   359, 491,  97, 632,  94, 399, 916, 392, 866, 959,  44, 406,  78, 940,\n",
      "                   407, 446, 589, 266, 872, 481, 348, 205, 374, 526, 944,  17, 571, 346,\n",
      "                   154, 817, 479, 419, 122, 949, 207, 111, 550, 622, 404, 673,  60, 677,\n",
      "                   342, 614,  61, 557, 552, 729, 735, 690, 162, 511, 508, 997, 562, 425,\n",
      "                    64, 211, 913,  87, 473, 448, 937, 647, 249, 235, 918, 678, 814, 903,\n",
      "                   144, 403, 993, 278, 787, 795, 390, 232,  69, 616, 436, 215, 174, 770,\n",
      "                   537, 251, 196, 709, 662, 485,  46,  33, 609, 428, 803, 582,  15, 277,\n",
      "                    79, 695, 701, 974, 324, 764, 488, 588, 175, 533, 247, 164, 637, 608,\n",
      "                   923, 998, 808, 633, 664, 976, 578, 894, 691, 724, 680, 367, 878, 303,\n",
      "                   357, 145,  32, 194, 382, 386, 230, 157, 105, 159, 598, 138, 158, 341,\n",
      "                   965, 754, 639, 781, 736, 190, 412, 615, 136, 716, 631, 426, 193, 347,\n",
      "                   499, 483,  34, 640,  42, 328, 590, 902, 822, 914, 850,  62,  22, 621,\n",
      "                   505, 298, 394, 504, 208, 721,  13, 751,  66,  48, 606, 100, 477, 655,\n",
      "                   624, 528, 643, 852, 325, 893,  96, 612, 740, 120, 882, 987, 985, 812,\n",
      "                    52, 239, 555, 372,  50, 226, 844, 279, 915,  67, 137, 501, 975, 809,\n",
      "                    43, 410, 802, 626,  81, 601, 668,  39, 454, 605, 258,   2,  71, 539,\n",
      "                   113, 400, 741, 129, 572, 143, 378, 320, 219, 727, 800, 862, 222, 649,\n",
      "                   807, 134, 767,  56, 192, 708, 788, 139, 898, 798, 714, 864, 465,  65,\n",
      "                    26, 262, 421, 932, 706, 981, 681, 958, 468, 191, 960, 430, 892, 834,\n",
      "                   602, 831, 185, 584, 712, 912, 156, 200, 170, 108, 415, 183, 202, 789,\n",
      "                   816, 927, 790, 444, 957, 503, 461, 234, 459, 991, 165, 467, 358, 931,\n",
      "                    25, 445, 371, 521, 868, 351, 570, 184, 675, 301, 686, 794, 580, 666,\n",
      "                   450, 702, 797,   3,  54,  86,  80, 593, 835, 623, 243,  70, 515, 117,\n",
      "                   531,  29, 956,   1, 908, 310, 333, 784, 364, 393, 217, 435, 847, 401,\n",
      "                   747, 819,  89, 423, 723, 344, 179, 627, 715, 260, 464, 972, 265, 457,\n",
      "                   734, 968, 327, 530, 687, 227, 433, 432, 280, 669, 718, 126, 204, 335,\n",
      "                   441, 829, 941, 652, 225, 950, 982, 780, 875, 799, 954,   7],\n",
      "                  dtype=torch.int32), tensor([4, 3, 0, 7, 5, 5, 1, 2, 7, 2, 6, 5, 1, 2, 5, 6, 4, 0, 3, 9, 4, 1, 3, 2,\n",
      "                   0, 7, 4, 1, 9, 1, 0, 4, 9, 0, 4, 4, 7, 1, 0, 1, 6, 3, 2, 9, 4, 3, 5, 6,\n",
      "                   3, 0, 6, 3, 6, 1, 1, 7, 0, 8, 5, 8, 8, 5, 7, 5, 2, 5, 8, 3, 8, 8, 9, 5,\n",
      "                   4, 4, 0, 0, 4, 3, 8, 3, 8, 4, 9, 7, 3, 3, 0, 3, 7, 5, 6, 1, 2, 7, 8, 3,\n",
      "                   3, 8, 8, 5, 4, 4, 0, 4, 2, 7, 4, 6, 4, 8, 3, 3, 7, 9, 4, 6, 4, 6, 1, 2,\n",
      "                   2, 5, 4, 5, 0, 0, 3, 6, 5, 7, 1, 6, 1, 7, 8, 1, 3, 6, 6, 1, 2, 2, 2, 9,\n",
      "                   8, 6, 0, 9, 9, 2, 5, 4, 4, 0, 4, 8, 7, 3, 0, 4, 8, 8, 2, 3, 1, 1, 6, 5,\n",
      "                   7, 0, 8, 4, 4, 5, 3, 5, 4, 3, 9, 2, 7, 1, 2, 8, 6, 4, 6, 1, 8, 1, 5, 4,\n",
      "                   0, 3, 6, 5, 5, 6, 7, 2, 7, 5, 2, 3, 4, 2, 5, 1, 9, 3, 9, 1, 1, 4, 7, 7,\n",
      "                   7, 2, 5, 0, 5, 3, 0, 7, 4, 5, 3, 7, 7, 1, 7, 4, 6, 4, 1, 4, 7, 2, 7, 2,\n",
      "                   4, 7, 2, 5, 8, 7, 2, 4, 4, 4, 8, 3, 6, 6, 0, 1, 8, 3, 8, 9, 1, 6, 4, 4,\n",
      "                   3, 1, 3, 4, 3, 4, 9, 4, 7, 4, 9, 2, 1, 5, 7, 2, 2, 5, 0, 9, 9, 9, 3, 4,\n",
      "                   1, 9, 9, 3, 6, 1, 9, 2, 1, 1, 9, 9, 2, 0, 5, 5, 9, 5, 9, 1, 7, 9, 5, 5,\n",
      "                   8, 1, 2, 1, 6, 8, 2, 0, 7, 8, 8, 9, 3, 2, 9, 2, 2, 6, 6, 8, 6, 9, 2, 5,\n",
      "                   8, 0, 8, 8, 6, 9, 1, 3, 9, 3, 5, 8, 2, 6, 0, 0, 3, 3, 5, 9, 4, 3, 0, 3,\n",
      "                   7, 5, 9, 5, 8, 0, 2, 7, 4, 5, 6, 6, 2, 7, 5, 8, 9, 1, 6, 8, 1, 3, 6, 5,\n",
      "                   2, 8, 9, 3, 7, 6, 9, 0, 3, 6, 0, 0, 4, 2, 0, 1, 6, 0, 5, 9, 1, 2, 2, 2,\n",
      "                   7, 4, 4, 5, 5, 1, 9, 8, 2, 9, 1, 2, 6, 6, 0, 5, 7, 6, 5, 6, 3, 0, 7, 6,\n",
      "                   0, 6, 0, 4, 4, 8, 8, 7, 6, 8, 3, 3, 4, 1, 3, 0, 0, 9, 6, 1, 9, 0, 3, 4,\n",
      "                   7, 7, 5, 6, 4, 7, 7, 1, 6, 5, 1, 2, 9, 5, 8, 4, 1, 1, 3, 6, 8, 6, 8, 0,\n",
      "                   8, 9, 9, 5, 8, 5, 4, 8, 7, 8, 7, 4, 8, 3, 4, 9, 7, 4, 2, 0, 4, 3, 8, 9,\n",
      "                   7, 1, 1, 8, 4, 2, 0, 2, 0, 7, 8, 3, 2, 7, 5, 3, 7, 4, 1, 6, 5, 2, 6, 5,\n",
      "                   2, 4, 2, 5, 5, 0, 4, 9, 9, 7, 6, 3, 1, 5, 8, 0, 2, 8, 4, 9, 9, 2, 1, 0,\n",
      "                   7, 5, 5, 6, 2, 3, 7, 0, 5, 6, 7, 8, 2, 0, 8, 9, 6, 0, 1, 6, 2, 9, 8, 2,\n",
      "                   0, 7, 4, 7, 3, 3, 2, 4, 2, 0, 5, 2, 2, 2, 4, 2, 5, 2, 1, 7, 4, 8, 5, 3])),\n",
      "               names=('seeds', 'labels'),\n",
      "           ),\n",
      "           test_set=ItemSet(\n",
      "               items=(tensor([127,   5,  37, 272, 684, 907, 114,  92, 490, 771, 653, 587, 620, 689,\n",
      "                   482, 947,   6, 861, 813, 726, 106, 172, 938, 522, 821, 806, 238, 257,\n",
      "                   596, 905, 933, 766, 856, 869, 756, 566, 984, 924, 366, 558, 311, 171,\n",
      "                   745, 118, 556, 237, 731, 746, 909, 356, 396, 778, 149, 660, 267,  72,\n",
      "                   416, 253, 840, 199, 983, 223, 475,  57, 496, 283, 904, 248, 293, 176,\n",
      "                   870, 559,  12, 101, 656, 313, 845, 408, 323, 896,  20, 316, 411, 936,\n",
      "                   728, 130, 964,  59, 197, 373, 779, 674, 294, 636, 883, 743, 857, 725,\n",
      "                    55, 538, 123, 926, 140, 350, 132, 547, 506, 486, 836, 928,  45, 434,\n",
      "                   173, 837, 395, 322, 768,  16, 498, 307, 474, 761, 150, 541,  58, 737,\n",
      "                   867, 704, 574, 838, 500, 220, 256, 422, 443, 198, 321, 304,  28, 297,\n",
      "                   306, 275,  10, 585, 340, 592, 455, 255,  24, 786, 707, 497, 334, 518,\n",
      "                   752, 989, 264,   9, 917, 658,  73, 148, 860, 679, 879, 877, 245, 551,\n",
      "                   843, 586, 519,   0, 804, 577, 442, 646, 910, 507, 699, 720, 289, 876,\n",
      "                   326, 517, 774, 762, 413,  41, 487, 513, 638,  36, 758, 273, 532, 182,\n",
      "                   284,  91, 973, 529], dtype=torch.int32), tensor([9, 5, 2, 4, 8, 0, 7, 0, 2, 1, 1, 0, 8, 4, 4, 7, 8, 0, 6, 8, 6, 7, 6, 3,\n",
      "                   7, 1, 7, 5, 4, 4, 1, 7, 6, 5, 9, 6, 0, 1, 3, 6, 7, 1, 2, 5, 1, 1, 0, 5,\n",
      "                   1, 9, 5, 9, 6, 9, 2, 3, 0, 4, 9, 1, 3, 1, 6, 2, 1, 3, 6, 8, 3, 7, 8, 8,\n",
      "                   2, 8, 7, 0, 0, 1, 7, 9, 3, 6, 1, 4, 8, 1, 2, 1, 5, 3, 3, 8, 8, 3, 6, 3,\n",
      "                   8, 0, 2, 2, 8, 0, 8, 2, 9, 2, 7, 4, 6, 9, 0, 9, 5, 3, 5, 2, 4, 9, 8, 2,\n",
      "                   8, 2, 3, 1, 7, 8, 6, 2, 0, 5, 4, 7, 9, 8, 4, 4, 0, 2, 7, 2, 6, 6, 9, 5,\n",
      "                   8, 5, 1, 2, 0, 2, 4, 4, 1, 4, 5, 4, 7, 5, 1, 2, 2, 3, 9, 5, 0, 2, 2, 2,\n",
      "                   0, 4, 8, 1, 5, 5, 4, 5, 0, 4, 3, 1, 1, 7, 0, 3, 7, 1, 1, 7, 4, 8, 1, 7,\n",
      "                   6, 7, 9, 6, 9, 8, 1, 3])),\n",
      "               names=('seeds', 'labels'),\n",
      "           ),\n",
      "           metadata={'name': 'node_classification', 'num_classes': 10},)\n",
      "\n",
      "Loaded link prediction task: OnDiskTask(validation_set=ItemSet(\n",
      "               items=(tensor([[  4, 670],\n",
      "                   [369, 764],\n",
      "                   [166, 874],\n",
      "                   ...,\n",
      "                   [931, 919],\n",
      "                   [931, 910],\n",
      "                   [931, 534]], dtype=torch.int32), tensor([1., 1., 1.,  ..., 0., 0., 0.], dtype=torch.float64), tensor([   0,    1,    2,  ..., 1999, 1999, 1999])),\n",
      "               names=('seeds', 'labels', 'indexes'),\n",
      "           ),\n",
      "           train_set=ItemSet(\n",
      "               items=(tensor([[977, 813],\n",
      "                   [572, 268],\n",
      "                   [512, 817],\n",
      "                   ...,\n",
      "                   [539, 320],\n",
      "                   [183, 908],\n",
      "                   [681, 268]], dtype=torch.int32),),\n",
      "               names=('seeds',),\n",
      "           ),\n",
      "           test_set=ItemSet(\n",
      "               items=(tensor([[563,   0],\n",
      "                   [522,  16],\n",
      "                   [395,  12],\n",
      "                   ...,\n",
      "                   [559, 970],\n",
      "                   [559, 198],\n",
      "                   [559, 299]], dtype=torch.int32), tensor([1., 1., 1.,  ..., 0., 0., 0.], dtype=torch.float64), tensor([   0,    1,    2,  ..., 1999, 1999, 1999])),\n",
      "               names=('seeds', 'labels', 'indexes'),\n",
      "           ),\n",
      "           metadata={'name': 'link_prediction', 'num_classes': 10},)\n",
      "\n"
     ]
    },
    {
     "name": "stderr",
     "output_type": "stream",
     "text": [
      "/dgl/python/dgl/graphbolt/impl/ondisk_dataset.py:463: GBWarning: Edge feature is stored, but edge IDs are not saved.\n",
      "  gb_warning(\"Edge feature is stored, but edge IDs are not saved.\")\n"
     ]
    }
   ],
   "source": [
    "dataset = gb.OnDiskDataset(base_dir).load()\n",
    "graph = dataset.graph\n",
    "print(f\"Loaded graph: {graph}\\n\")\n",
    "\n",
    "feature = dataset.feature\n",
    "print(f\"Loaded feature store: {feature}\\n\")\n",
    "\n",
    "tasks = dataset.tasks\n",
    "nc_task = tasks[0]\n",
    "print(f\"Loaded node classification task: {nc_task}\\n\")\n",
    "lp_task = tasks[1]\n",
    "print(f\"Loaded link prediction task: {lp_task}\\n\")"
   ]
  }
 ],
 "metadata": {
  "colab": {
   "private_outputs": true,
   "provenance": []
  },
  "kernelspec": {
   "display_name": "Python 3",
   "name": "python3"
  },
  "language_info": {
   "codemirror_mode": {
    "name": "ipython",
    "version": 3
   },
   "file_extension": ".py",
   "mimetype": "text/x-python",
   "name": "python",
   "nbconvert_exporter": "python",
   "pygments_lexer": "ipython3",
   "version": "3.10.15"
  }
 },
 "nbformat": 4,
 "nbformat_minor": 0
}

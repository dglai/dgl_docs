{
 "cells": [
  {
   "cell_type": "markdown",
   "metadata": {
    "id": "FnFhPMaAfLtJ"
   },
   "source": [
    "# OnDiskDataset for Homogeneous Graph\n",
    "\n",
    "[![Open In Colab](https://colab.research.google.com/assets/colab-badge.svg)](https://colab.research.google.com/github/dmlc/dgl/blob/master/notebooks/stochastic_training/ondisk_dataset_homograph.ipynb) [![GitHub](https://img.shields.io/badge/-View%20on%20GitHub-181717?logo=github&logoColor=ffffff)](https://github.com/dmlc/dgl/blob/master/notebooks/stochastic_training/ondisk_dataset_homograph.ipynb)\n",
    "\n",
    "This tutorial shows how to create `OnDiskDataset` for homogeneous graph that could be used in **GraphBolt** framework.\n",
    "\n",
    "By the end of this tutorial, you will be able to\n",
    "\n",
    "- organize graph structure data.\n",
    "- organize feature data.\n",
    "- organize training/validation/test set for specific tasks.\n",
    "\n",
    "To create an ``OnDiskDataset`` object, you need to organize all the data including graph structure, feature data and tasks into a directory. The directory should contain a ``metadata.yaml`` file that describes the metadata of the dataset.\n",
    "\n",
    "Now let's generate various data step by step and organize them together to instantiate `OnDiskDataset` finally."
   ]
  },
  {
   "cell_type": "markdown",
   "metadata": {
    "id": "Wlb19DtWgtzq"
   },
   "source": [
    "## Install DGL package"
   ]
  },
  {
   "cell_type": "code",
   "execution_count": 1,
   "metadata": {
    "execution": {
     "iopub.execute_input": "2024-11-05T01:18:52.291723Z",
     "iopub.status.busy": "2024-11-05T01:18:52.291220Z",
     "iopub.status.idle": "2024-11-05T01:18:55.341082Z",
     "shell.execute_reply": "2024-11-05T01:18:55.340133Z"
    },
    "id": "UojlT9ZGgyr9"
   },
   "outputs": [
    {
     "name": "stdout",
     "output_type": "stream",
     "text": [
      "Looking in links: https://data.dgl.ai/wheels-test/repo.html\r\n",
      "Requirement already satisfied: dgl in /opt/conda/envs/dgl-dev-cpu/lib/python3.10/site-packages (2.2a240410)\r\n",
      "Requirement already satisfied: numpy>=1.14.0 in /opt/conda/envs/dgl-dev-cpu/lib/python3.10/site-packages (from dgl) (1.26.4)\r\n",
      "Requirement already satisfied: scipy>=1.1.0 in /opt/conda/envs/dgl-dev-cpu/lib/python3.10/site-packages (from dgl) (1.14.1)\r\n",
      "Requirement already satisfied: networkx>=2.1 in /opt/conda/envs/dgl-dev-cpu/lib/python3.10/site-packages (from dgl) (3.4.2)\r\n",
      "Requirement already satisfied: requests>=2.19.0 in /opt/conda/envs/dgl-dev-cpu/lib/python3.10/site-packages (from dgl) (2.32.3)\r\n",
      "Requirement already satisfied: tqdm in /opt/conda/envs/dgl-dev-cpu/lib/python3.10/site-packages (from dgl) (4.66.6)\r\n",
      "Requirement already satisfied: psutil>=5.8.0 in /opt/conda/envs/dgl-dev-cpu/lib/python3.10/site-packages (from dgl) (6.1.0)\r\n",
      "Requirement already satisfied: torchdata>=0.5.0 in /opt/conda/envs/dgl-dev-cpu/lib/python3.10/site-packages (from dgl) (0.9.0)\r\n",
      "Requirement already satisfied: pandas in /opt/conda/envs/dgl-dev-cpu/lib/python3.10/site-packages (from dgl) (2.2.3)\r\n"
     ]
    },
    {
     "name": "stdout",
     "output_type": "stream",
     "text": [
      "Requirement already satisfied: charset-normalizer<4,>=2 in /opt/conda/envs/dgl-dev-cpu/lib/python3.10/site-packages (from requests>=2.19.0->dgl) (3.4.0)\r\n",
      "Requirement already satisfied: idna<4,>=2.5 in /opt/conda/envs/dgl-dev-cpu/lib/python3.10/site-packages (from requests>=2.19.0->dgl) (3.10)\r\n",
      "Requirement already satisfied: urllib3<3,>=1.21.1 in /opt/conda/envs/dgl-dev-cpu/lib/python3.10/site-packages (from requests>=2.19.0->dgl) (2.2.3)\r\n",
      "Requirement already satisfied: certifi>=2017.4.17 in /opt/conda/envs/dgl-dev-cpu/lib/python3.10/site-packages (from requests>=2.19.0->dgl) (2024.8.30)\r\n",
      "Requirement already satisfied: torch>=2 in /opt/conda/envs/dgl-dev-cpu/lib/python3.10/site-packages (from torchdata>=0.5.0->dgl) (2.1.0+cpu)\r\n"
     ]
    },
    {
     "name": "stdout",
     "output_type": "stream",
     "text": [
      "Requirement already satisfied: python-dateutil>=2.8.2 in /opt/conda/envs/dgl-dev-cpu/lib/python3.10/site-packages (from pandas->dgl) (2.9.0.post0)\r\n",
      "Requirement already satisfied: pytz>=2020.1 in /opt/conda/envs/dgl-dev-cpu/lib/python3.10/site-packages (from pandas->dgl) (2024.2)\r\n",
      "Requirement already satisfied: tzdata>=2022.7 in /opt/conda/envs/dgl-dev-cpu/lib/python3.10/site-packages (from pandas->dgl) (2024.2)\r\n",
      "Requirement already satisfied: six>=1.5 in /opt/conda/envs/dgl-dev-cpu/lib/python3.10/site-packages (from python-dateutil>=2.8.2->pandas->dgl) (1.16.0)\r\n",
      "Requirement already satisfied: filelock in /opt/conda/envs/dgl-dev-cpu/lib/python3.10/site-packages (from torch>=2->torchdata>=0.5.0->dgl) (3.16.1)\r\n",
      "Requirement already satisfied: typing-extensions in /opt/conda/envs/dgl-dev-cpu/lib/python3.10/site-packages (from torch>=2->torchdata>=0.5.0->dgl) (4.12.2)\r\n",
      "Requirement already satisfied: sympy in /opt/conda/envs/dgl-dev-cpu/lib/python3.10/site-packages (from torch>=2->torchdata>=0.5.0->dgl) (1.13.3)\r\n",
      "Requirement already satisfied: jinja2 in /opt/conda/envs/dgl-dev-cpu/lib/python3.10/site-packages (from torch>=2->torchdata>=0.5.0->dgl) (3.1.4)\r\n",
      "Requirement already satisfied: fsspec in /opt/conda/envs/dgl-dev-cpu/lib/python3.10/site-packages (from torch>=2->torchdata>=0.5.0->dgl) (2024.10.0)\r\n"
     ]
    },
    {
     "name": "stdout",
     "output_type": "stream",
     "text": [
      "Requirement already satisfied: MarkupSafe>=2.0 in /opt/conda/envs/dgl-dev-cpu/lib/python3.10/site-packages (from jinja2->torch>=2->torchdata>=0.5.0->dgl) (3.0.2)\r\n",
      "Requirement already satisfied: mpmath<1.4,>=1.1.0 in /opt/conda/envs/dgl-dev-cpu/lib/python3.10/site-packages (from sympy->torch>=2->torchdata>=0.5.0->dgl) (1.3.0)\r\n"
     ]
    },
    {
     "name": "stdout",
     "output_type": "stream",
     "text": [
      "\u001b[33mWARNING: Running pip as the 'root' user can result in broken permissions and conflicting behaviour with the system package manager, possibly rendering your system unusable.It is recommended to use a virtual environment instead: https://pip.pypa.io/warnings/venv. Use the --root-user-action option if you know what you are doing and want to suppress this warning.\u001b[0m\u001b[33m\r\n",
      "\u001b[0m"
     ]
    },
    {
     "name": "stdout",
     "output_type": "stream",
     "text": [
      "DGL installed!\n"
     ]
    }
   ],
   "source": [
    "# Install required packages.\n",
    "import os\n",
    "import torch\n",
    "import numpy as np\n",
    "os.environ['TORCH'] = torch.__version__\n",
    "os.environ['DGLBACKEND'] = \"pytorch\"\n",
    "\n",
    "# Install the CPU version.\n",
    "device = torch.device(\"cpu\")\n",
    "!pip install --pre dgl -f https://data.dgl.ai/wheels-test/repo.html\n",
    "\n",
    "try:\n",
    "    import dgl\n",
    "    import dgl.graphbolt as gb\n",
    "    installed = True\n",
    "except ImportError as error:\n",
    "    installed = False\n",
    "    print(error)\n",
    "print(\"DGL installed!\" if installed else \"DGL not found!\")"
   ]
  },
  {
   "cell_type": "markdown",
   "metadata": {
    "id": "2R7WnSbjsfbr"
   },
   "source": [
    "## Data preparation\n",
    "In order to demonstrate how to organize various data, let's create a base directory first."
   ]
  },
  {
   "cell_type": "code",
   "execution_count": 2,
   "metadata": {
    "execution": {
     "iopub.execute_input": "2024-11-05T01:18:55.343854Z",
     "iopub.status.busy": "2024-11-05T01:18:55.343335Z",
     "iopub.status.idle": "2024-11-05T01:18:55.348236Z",
     "shell.execute_reply": "2024-11-05T01:18:55.347484Z"
    },
    "id": "SZipbzyltLfO"
   },
   "outputs": [
    {
     "name": "stdout",
     "output_type": "stream",
     "text": [
      "Created base directory: ./ondisk_dataset_homograph\n"
     ]
    }
   ],
   "source": [
    "base_dir = './ondisk_dataset_homograph'\n",
    "os.makedirs(base_dir, exist_ok=True)\n",
    "print(f\"Created base directory: {base_dir}\")"
   ]
  },
  {
   "cell_type": "markdown",
   "metadata": {
    "id": "qhNtIn_xhlnl"
   },
   "source": [
    "### Generate graph structure data\n",
    "For homogeneous graph, we just need to save edges(namely seeds) into  **Numpy** or **CSV** file.\n",
    "\n",
    "Note:\n",
    "- when saving to **Numpy**, the array requires to be in shape of `(2, N)`. This format is recommended as constructing graph from it is much faster than **CSV** file.\n",
    "- when saving to **CSV** file, do not save index and header.\n"
   ]
  },
  {
   "cell_type": "code",
   "execution_count": 3,
   "metadata": {
    "execution": {
     "iopub.execute_input": "2024-11-05T01:18:55.350409Z",
     "iopub.status.busy": "2024-11-05T01:18:55.350087Z",
     "iopub.status.idle": "2024-11-05T01:18:55.364239Z",
     "shell.execute_reply": "2024-11-05T01:18:55.363351Z"
    },
    "id": "HcBt4G5BmSjr"
   },
   "outputs": [
    {
     "name": "stdout",
     "output_type": "stream",
     "text": [
      "Part of edges: [[734 698]\n",
      " [492 101]\n",
      " [141 102]\n",
      " [255 293]\n",
      " [172 382]]\n",
      "Edges are saved into ./ondisk_dataset_homograph/edges.csv\n"
     ]
    }
   ],
   "source": [
    "import numpy as np\n",
    "import pandas as pd\n",
    "num_nodes = 1000\n",
    "num_edges = 10 * num_nodes\n",
    "edges_path = os.path.join(base_dir, \"edges.csv\")\n",
    "edges = np.random.randint(0, num_nodes, size=(num_edges, 2))\n",
    "\n",
    "print(f\"Part of edges: {edges[:5, :]}\")\n",
    "\n",
    "df = pd.DataFrame(edges)\n",
    "df.to_csv(edges_path, index=False, header=False)\n",
    "\n",
    "print(f\"Edges are saved into {edges_path}\")"
   ]
  },
  {
   "cell_type": "markdown",
   "metadata": {
    "id": "kh-4cPtzpcaH"
   },
   "source": [
    "### Generate feature data for graph\n",
    "For feature data, numpy arrays and torch tensors are supported for now."
   ]
  },
  {
   "cell_type": "code",
   "execution_count": 4,
   "metadata": {
    "execution": {
     "iopub.execute_input": "2024-11-05T01:18:55.366756Z",
     "iopub.status.busy": "2024-11-05T01:18:55.366531Z",
     "iopub.status.idle": "2024-11-05T01:18:55.385527Z",
     "shell.execute_reply": "2024-11-05T01:18:55.384820Z"
    },
    "id": "_PVu1u5brBhF"
   },
   "outputs": [
    {
     "name": "stdout",
     "output_type": "stream",
     "text": [
      "Part of node feature [feat_0]: [[0.2675768  0.84555141 0.31953485 0.70518215 0.7384711 ]\n",
      " [0.17017616 0.67410909 0.49357539 0.17954053 0.51379857]\n",
      " [0.20808962 0.62090961 0.00869142 0.76270778 0.75740362]]\n",
      "Node feature [feat_0] is saved to ./ondisk_dataset_homograph/node-feat-0.npy\n",
      "\n",
      "Part of node feature [feat_1]: tensor([[0.3102, 0.6617, 0.3103, 0.1763, 0.4377],\n",
      "        [0.3336, 0.4147, 0.4776, 0.6154, 0.4325],\n",
      "        [0.9472, 0.4797, 0.4150, 0.9046, 0.7426]])\n",
      "Node feature [feat_1] is saved to ./ondisk_dataset_homograph/node-feat-1.pt\n",
      "\n",
      "Part of edge feature [feat_0]: [[0.48323927 0.16915343 0.64657681 0.95671693 0.67171557]\n",
      " [0.73523352 0.25524394 0.82357219 0.84688155 0.09598407]\n",
      " [0.03860003 0.93619916 0.81360089 0.47665546 0.93298402]]\n",
      "Edge feature [feat_0] is saved to ./ondisk_dataset_homograph/edge-feat-0.npy\n",
      "\n",
      "Part of edge feature [feat_1]: tensor([[0.5663, 0.9633, 0.1347, 0.3310, 0.9384],\n",
      "        [0.8327, 0.9789, 0.8282, 0.2175, 0.5416],\n",
      "        [0.0256, 0.3471, 0.4384, 0.0020, 0.7780]])\n",
      "Edge feature [feat_1] is saved to ./ondisk_dataset_homograph/edge-feat-1.pt\n",
      "\n"
     ]
    }
   ],
   "source": [
    "# Generate node feature in numpy array.\n",
    "node_feat_0_path = os.path.join(base_dir, \"node-feat-0.npy\")\n",
    "node_feat_0 = np.random.rand(num_nodes, 5)\n",
    "print(f\"Part of node feature [feat_0]: {node_feat_0[:3, :]}\")\n",
    "np.save(node_feat_0_path, node_feat_0)\n",
    "print(f\"Node feature [feat_0] is saved to {node_feat_0_path}\\n\")\n",
    "\n",
    "# Generate another node feature in torch tensor\n",
    "node_feat_1_path = os.path.join(base_dir, \"node-feat-1.pt\")\n",
    "node_feat_1 = torch.rand(num_nodes, 5)\n",
    "print(f\"Part of node feature [feat_1]: {node_feat_1[:3, :]}\")\n",
    "torch.save(node_feat_1, node_feat_1_path)\n",
    "print(f\"Node feature [feat_1] is saved to {node_feat_1_path}\\n\")\n",
    "\n",
    "# Generate edge feature in numpy array.\n",
    "edge_feat_0_path = os.path.join(base_dir, \"edge-feat-0.npy\")\n",
    "edge_feat_0 = np.random.rand(num_edges, 5)\n",
    "print(f\"Part of edge feature [feat_0]: {edge_feat_0[:3, :]}\")\n",
    "np.save(edge_feat_0_path, edge_feat_0)\n",
    "print(f\"Edge feature [feat_0] is saved to {edge_feat_0_path}\\n\")\n",
    "\n",
    "# Generate another edge feature in torch tensor\n",
    "edge_feat_1_path = os.path.join(base_dir, \"edge-feat-1.pt\")\n",
    "edge_feat_1 = torch.rand(num_edges, 5)\n",
    "print(f\"Part of edge feature [feat_1]: {edge_feat_1[:3, :]}\")\n",
    "torch.save(edge_feat_1, edge_feat_1_path)\n",
    "print(f\"Edge feature [feat_1] is saved to {edge_feat_1_path}\\n\")\n"
   ]
  },
  {
   "cell_type": "markdown",
   "metadata": {
    "id": "ZyqgOtsIwzh_"
   },
   "source": [
    "### Generate tasks\n",
    "`OnDiskDataset` supports multiple tasks. For each task, we need to prepare training/validation/test sets respectively. Such sets usually vary among different tasks. In this tutorial, let's create a **Node Classification** task and **Link Prediction** task."
   ]
  },
  {
   "cell_type": "markdown",
   "metadata": {
    "id": "hVxHaDIfzCkr"
   },
   "source": [
    "#### Node Classification Task\n",
    "For node classification task, we need **node IDs** and corresponding **labels** for each training/validation/test set. Like feature data, numpy arrays and torch tensors are supported for these sets."
   ]
  },
  {
   "cell_type": "code",
   "execution_count": 5,
   "metadata": {
    "execution": {
     "iopub.execute_input": "2024-11-05T01:18:55.387933Z",
     "iopub.status.busy": "2024-11-05T01:18:55.387543Z",
     "iopub.status.idle": "2024-11-05T01:18:55.399197Z",
     "shell.execute_reply": "2024-11-05T01:18:55.398351Z"
    },
    "id": "S5-fyBbHzTCO"
   },
   "outputs": [
    {
     "name": "stdout",
     "output_type": "stream",
     "text": [
      "Part of train ids for node classification: [809 209 773]\n",
      "NC train ids are saved to ./ondisk_dataset_homograph/nc-train-ids.npy\n",
      "\n",
      "Part of train labels for node classification: tensor([1, 2, 6])\n",
      "NC train labels are saved to ./ondisk_dataset_homograph/nc-train-labels.pt\n",
      "\n",
      "Part of val ids for node classification: [156 777 233]\n",
      "NC val ids are saved to ./ondisk_dataset_homograph/nc-val-ids.npy\n",
      "\n",
      "Part of val labels for node classification: tensor([2, 8, 3])\n",
      "NC val labels are saved to ./ondisk_dataset_homograph/nc-val-labels.pt\n",
      "\n",
      "Part of test ids for node classification: [484 372  48]\n",
      "NC test ids are saved to ./ondisk_dataset_homograph/nc-test-ids.npy\n",
      "\n",
      "Part of test labels for node classification: tensor([8, 6, 8])\n",
      "NC test labels are saved to ./ondisk_dataset_homograph/nc-test-labels.pt\n",
      "\n"
     ]
    }
   ],
   "source": [
    "num_trains = int(num_nodes * 0.6)\n",
    "num_vals = int(num_nodes * 0.2)\n",
    "num_tests = num_nodes - num_trains - num_vals\n",
    "\n",
    "ids = np.arange(num_nodes)\n",
    "np.random.shuffle(ids)\n",
    "\n",
    "nc_train_ids_path = os.path.join(base_dir, \"nc-train-ids.npy\")\n",
    "nc_train_ids = ids[:num_trains]\n",
    "print(f\"Part of train ids for node classification: {nc_train_ids[:3]}\")\n",
    "np.save(nc_train_ids_path, nc_train_ids)\n",
    "print(f\"NC train ids are saved to {nc_train_ids_path}\\n\")\n",
    "\n",
    "nc_train_labels_path = os.path.join(base_dir, \"nc-train-labels.pt\")\n",
    "nc_train_labels = torch.randint(0, 10, (num_trains,))\n",
    "print(f\"Part of train labels for node classification: {nc_train_labels[:3]}\")\n",
    "torch.save(nc_train_labels, nc_train_labels_path)\n",
    "print(f\"NC train labels are saved to {nc_train_labels_path}\\n\")\n",
    "\n",
    "nc_val_ids_path = os.path.join(base_dir, \"nc-val-ids.npy\")\n",
    "nc_val_ids = ids[num_trains:num_trains+num_vals]\n",
    "print(f\"Part of val ids for node classification: {nc_val_ids[:3]}\")\n",
    "np.save(nc_val_ids_path, nc_val_ids)\n",
    "print(f\"NC val ids are saved to {nc_val_ids_path}\\n\")\n",
    "\n",
    "nc_val_labels_path = os.path.join(base_dir, \"nc-val-labels.pt\")\n",
    "nc_val_labels = torch.randint(0, 10, (num_vals,))\n",
    "print(f\"Part of val labels for node classification: {nc_val_labels[:3]}\")\n",
    "torch.save(nc_val_labels, nc_val_labels_path)\n",
    "print(f\"NC val labels are saved to {nc_val_labels_path}\\n\")\n",
    "\n",
    "nc_test_ids_path = os.path.join(base_dir, \"nc-test-ids.npy\")\n",
    "nc_test_ids = ids[-num_tests:]\n",
    "print(f\"Part of test ids for node classification: {nc_test_ids[:3]}\")\n",
    "np.save(nc_test_ids_path, nc_test_ids)\n",
    "print(f\"NC test ids are saved to {nc_test_ids_path}\\n\")\n",
    "\n",
    "nc_test_labels_path = os.path.join(base_dir, \"nc-test-labels.pt\")\n",
    "nc_test_labels = torch.randint(0, 10, (num_tests,))\n",
    "print(f\"Part of test labels for node classification: {nc_test_labels[:3]}\")\n",
    "torch.save(nc_test_labels, nc_test_labels_path)\n",
    "print(f\"NC test labels are saved to {nc_test_labels_path}\\n\")"
   ]
  },
  {
   "cell_type": "markdown",
   "metadata": {
    "id": "LhAcDCHQ_KJ0"
   },
   "source": [
    "#### Link Prediction Task\n",
    "For link prediction task, we need **seeds** or **corresponding labels and indexes** which representing the pos/neg property and group of the seeds for each training/validation/test set. Like feature data, numpy arrays and torch tensors are supported for these sets."
   ]
  },
  {
   "cell_type": "code",
   "execution_count": 6,
   "metadata": {
    "execution": {
     "iopub.execute_input": "2024-11-05T01:18:55.401426Z",
     "iopub.status.busy": "2024-11-05T01:18:55.401059Z",
     "iopub.status.idle": "2024-11-05T01:18:55.419269Z",
     "shell.execute_reply": "2024-11-05T01:18:55.418490Z"
    },
    "id": "u0jCnXIcAQy4"
   },
   "outputs": [
    {
     "name": "stdout",
     "output_type": "stream",
     "text": [
      "Part of train seeds for link prediction: [[734 698]\n",
      " [492 101]\n",
      " [141 102]]\n",
      "LP train seeds are saved to ./ondisk_dataset_homograph/lp-train-seeds.npy\n",
      "\n",
      "Part of val seeds for link prediction: [[771 495]\n",
      " [715  87]\n",
      " [590 983]]\n",
      "LP val seeds are saved to ./ondisk_dataset_homograph/lp-val-seeds.npy\n",
      "\n",
      "Part of val labels for link prediction: [1. 1. 1.]\n",
      "LP val labels are saved to ./ondisk_dataset_homograph/lp-val-labels.npy\n",
      "\n",
      "Part of val indexes for link prediction: [0 1 2]\n",
      "LP val indexes are saved to ./ondisk_dataset_homograph/lp-val-indexes.npy\n",
      "\n",
      "Part of test seeds for link prediction: [[166 289]\n",
      " [697 620]\n",
      " [976 534]]\n",
      "LP test seeds are saved to ./ondisk_dataset_homograph/lp-test-seeds.npy\n",
      "\n",
      "Part of val labels for link prediction: [1. 1. 1.]\n",
      "LP test labels are saved to ./ondisk_dataset_homograph/lp-test-labels.npy\n",
      "\n",
      "Part of test indexes for link prediction: [0 1 2]\n",
      "LP test indexes are saved to ./ondisk_dataset_homograph/lp-test-indexes.npy\n",
      "\n"
     ]
    }
   ],
   "source": [
    "num_trains = int(num_edges * 0.6)\n",
    "num_vals = int(num_edges * 0.2)\n",
    "num_tests = num_edges - num_trains - num_vals\n",
    "\n",
    "lp_train_seeds_path = os.path.join(base_dir, \"lp-train-seeds.npy\")\n",
    "lp_train_seeds = edges[:num_trains, :]\n",
    "print(f\"Part of train seeds for link prediction: {lp_train_seeds[:3]}\")\n",
    "np.save(lp_train_seeds_path, lp_train_seeds)\n",
    "print(f\"LP train seeds are saved to {lp_train_seeds_path}\\n\")\n",
    "\n",
    "lp_val_seeds_path = os.path.join(base_dir, \"lp-val-seeds.npy\")\n",
    "lp_val_seeds = edges[num_trains:num_trains+num_vals, :]\n",
    "lp_val_neg_dsts = np.random.randint(0, num_nodes, (num_vals, 10)).reshape(-1)\n",
    "lp_val_neg_srcs = np.repeat(lp_val_seeds[:,0], 10)\n",
    "lp_val_neg_seeds = np.concatenate((lp_val_neg_srcs, lp_val_neg_dsts)).reshape(2,-1).T\n",
    "lp_val_seeds = np.concatenate((lp_val_seeds, lp_val_neg_seeds))\n",
    "print(f\"Part of val seeds for link prediction: {lp_val_seeds[:3]}\")\n",
    "np.save(lp_val_seeds_path, lp_val_seeds)\n",
    "print(f\"LP val seeds are saved to {lp_val_seeds_path}\\n\")\n",
    "\n",
    "lp_val_labels_path = os.path.join(base_dir, \"lp-val-labels.npy\")\n",
    "lp_val_labels = np.empty(num_vals * (10 + 1))\n",
    "lp_val_labels[:num_vals] = 1\n",
    "lp_val_labels[num_vals:] = 0\n",
    "print(f\"Part of val labels for link prediction: {lp_val_labels[:3]}\")\n",
    "np.save(lp_val_labels_path, lp_val_labels)\n",
    "print(f\"LP val labels are saved to {lp_val_labels_path}\\n\")\n",
    "\n",
    "lp_val_indexes_path = os.path.join(base_dir, \"lp-val-indexes.npy\")\n",
    "lp_val_indexes = np.arange(0, num_vals)\n",
    "lp_val_neg_indexes = np.repeat(lp_val_indexes, 10)\n",
    "lp_val_indexes = np.concatenate([lp_val_indexes, lp_val_neg_indexes])\n",
    "print(f\"Part of val indexes for link prediction: {lp_val_indexes[:3]}\")\n",
    "np.save(lp_val_indexes_path, lp_val_indexes)\n",
    "print(f\"LP val indexes are saved to {lp_val_indexes_path}\\n\")\n",
    "\n",
    "lp_test_seeds_path = os.path.join(base_dir, \"lp-test-seeds.npy\")\n",
    "lp_test_seeds = edges[-num_tests:, :]\n",
    "lp_test_neg_dsts = np.random.randint(0, num_nodes, (num_tests, 10)).reshape(-1)\n",
    "lp_test_neg_srcs = np.repeat(lp_test_seeds[:,0], 10)\n",
    "lp_test_neg_seeds = np.concatenate((lp_test_neg_srcs, lp_test_neg_dsts)).reshape(2,-1).T\n",
    "lp_test_seeds = np.concatenate((lp_test_seeds, lp_test_neg_seeds))\n",
    "print(f\"Part of test seeds for link prediction: {lp_test_seeds[:3]}\")\n",
    "np.save(lp_test_seeds_path, lp_test_seeds)\n",
    "print(f\"LP test seeds are saved to {lp_test_seeds_path}\\n\")\n",
    "\n",
    "lp_test_labels_path = os.path.join(base_dir, \"lp-test-labels.npy\")\n",
    "lp_test_labels = np.empty(num_tests * (10 + 1))\n",
    "lp_test_labels[:num_tests] = 1\n",
    "lp_test_labels[num_tests:] = 0\n",
    "print(f\"Part of val labels for link prediction: {lp_test_labels[:3]}\")\n",
    "np.save(lp_test_labels_path, lp_test_labels)\n",
    "print(f\"LP test labels are saved to {lp_test_labels_path}\\n\")\n",
    "\n",
    "lp_test_indexes_path = os.path.join(base_dir, \"lp-test-indexes.npy\")\n",
    "lp_test_indexes = np.arange(0, num_tests)\n",
    "lp_test_neg_indexes = np.repeat(lp_test_indexes, 10)\n",
    "lp_test_indexes = np.concatenate([lp_test_indexes, lp_test_neg_indexes])\n",
    "print(f\"Part of test indexes for link prediction: {lp_test_indexes[:3]}\")\n",
    "np.save(lp_test_indexes_path, lp_test_indexes)\n",
    "print(f\"LP test indexes are saved to {lp_test_indexes_path}\\n\")"
   ]
  },
  {
   "cell_type": "markdown",
   "metadata": {
    "id": "wbk6-wxRK-6S"
   },
   "source": [
    "## Organize Data into YAML File\n",
    "Now we need to create a `metadata.yaml` file which contains the paths, dadta types of graph structure, feature data, training/validation/test sets.\n",
    "\n",
    "Notes:\n",
    "- all path should be relative to `metadata.yaml`.\n",
    "- Below fields are optional and not specified in below example.\n",
    "  - `in_memory`: indicates whether to load dada into memory or `mmap`. Default is `True`.\n",
    "\n",
    "Please refer to [YAML specification](https://github.com/dmlc/dgl/blob/master/docs/source/stochastic_training/ondisk-dataset-specification.rst) for more details."
   ]
  },
  {
   "cell_type": "code",
   "execution_count": 7,
   "metadata": {
    "execution": {
     "iopub.execute_input": "2024-11-05T01:18:55.421795Z",
     "iopub.status.busy": "2024-11-05T01:18:55.421424Z",
     "iopub.status.idle": "2024-11-05T01:18:55.427541Z",
     "shell.execute_reply": "2024-11-05T01:18:55.426820Z"
    },
    "id": "ddGTWW61Lpwp"
   },
   "outputs": [],
   "source": [
    "yaml_content = f\"\"\"\n",
    "    dataset_name: homogeneous_graph_nc_lp\n",
    "    graph:\n",
    "      nodes:\n",
    "        - num: {num_nodes}\n",
    "      edges:\n",
    "        - format: csv\n",
    "          path: {os.path.basename(edges_path)}\n",
    "    feature_data:\n",
    "      - domain: node\n",
    "        name: feat_0\n",
    "        format: numpy\n",
    "        path: {os.path.basename(node_feat_0_path)}\n",
    "      - domain: node\n",
    "        name: feat_1\n",
    "        format: torch\n",
    "        path: {os.path.basename(node_feat_1_path)}\n",
    "      - domain: edge\n",
    "        name: feat_0\n",
    "        format: numpy\n",
    "        path: {os.path.basename(edge_feat_0_path)}\n",
    "      - domain: edge\n",
    "        name: feat_1\n",
    "        format: torch\n",
    "        path: {os.path.basename(edge_feat_1_path)}\n",
    "    tasks:\n",
    "      - name: node_classification\n",
    "        num_classes: 10\n",
    "        train_set:\n",
    "          - data:\n",
    "              - name: seeds\n",
    "                format: numpy\n",
    "                path: {os.path.basename(nc_train_ids_path)}\n",
    "              - name: labels\n",
    "                format: torch\n",
    "                path: {os.path.basename(nc_train_labels_path)}\n",
    "        validation_set:\n",
    "          - data:\n",
    "              - name: seeds\n",
    "                format: numpy\n",
    "                path: {os.path.basename(nc_val_ids_path)}\n",
    "              - name: labels\n",
    "                format: torch\n",
    "                path: {os.path.basename(nc_val_labels_path)}\n",
    "        test_set:\n",
    "          - data:\n",
    "              - name: seeds\n",
    "                format: numpy\n",
    "                path: {os.path.basename(nc_test_ids_path)}\n",
    "              - name: labels\n",
    "                format: torch\n",
    "                path: {os.path.basename(nc_test_labels_path)}\n",
    "      - name: link_prediction\n",
    "        num_classes: 10\n",
    "        train_set:\n",
    "          - data:\n",
    "              - name: seeds\n",
    "                format: numpy\n",
    "                path: {os.path.basename(lp_train_seeds_path)}\n",
    "        validation_set:\n",
    "          - data:\n",
    "              - name: seeds\n",
    "                format: numpy\n",
    "                path: {os.path.basename(lp_val_seeds_path)}\n",
    "              - name: labels\n",
    "                format: numpy\n",
    "                path: {os.path.basename(lp_val_labels_path)}\n",
    "              - name: indexes\n",
    "                format: numpy\n",
    "                path: {os.path.basename(lp_val_indexes_path)}\n",
    "        test_set:\n",
    "          - data:\n",
    "              - name: seeds\n",
    "                format: numpy\n",
    "                path: {os.path.basename(lp_test_seeds_path)}\n",
    "              - name: labels\n",
    "                format: numpy\n",
    "                path: {os.path.basename(lp_test_labels_path)}\n",
    "              - name: indexes\n",
    "                format: numpy\n",
    "                path: {os.path.basename(lp_test_indexes_path)}\n",
    "\"\"\"\n",
    "metadata_path = os.path.join(base_dir, \"metadata.yaml\")\n",
    "with open(metadata_path, \"w\") as f:\n",
    "  f.write(yaml_content)"
   ]
  },
  {
   "cell_type": "markdown",
   "metadata": {
    "id": "kEfybHGhOW7O"
   },
   "source": [
    "## Instantiate `OnDiskDataset`\n",
    "Now we're ready to load dataset via `dgl.graphbolt.OnDiskDataset`. When instantiating, we just pass in the base directory where `metadata.yaml` file lies.\n",
    "\n",
    "During first instantiation, GraphBolt preprocesses the raw data such as constructing `FusedCSCSamplingGraph` from edges. All data including graph, feature data, training/validation/test sets are put into `preprocessed` directory after preprocessing. Any following dataset loading will skip the preprocess stage.\n",
    "\n",
    "After preprocessing, `load()` is required to be called explicitly in order to load graph, feature data and tasks."
   ]
  },
  {
   "cell_type": "code",
   "execution_count": 8,
   "metadata": {
    "execution": {
     "iopub.execute_input": "2024-11-05T01:18:55.429713Z",
     "iopub.status.busy": "2024-11-05T01:18:55.429405Z",
     "iopub.status.idle": "2024-11-05T01:18:55.505249Z",
     "shell.execute_reply": "2024-11-05T01:18:55.504671Z"
    },
    "id": "W58CZoSzOiyo"
   },
   "outputs": [
    {
     "name": "stdout",
     "output_type": "stream",
     "text": [
      "Start to preprocess the on-disk dataset.\n",
      "Finish preprocessing the on-disk dataset.\n",
      "Loaded graph: FusedCSCSamplingGraph(csc_indptr=tensor([    0,     7,    15,  ...,  9983,  9988, 10000], dtype=torch.int32),\n",
      "                      indices=tensor([188, 589, 176,  ..., 294, 762, 730], dtype=torch.int32),\n",
      "                      total_num_nodes=1000, num_edges=10000,)\n",
      "\n",
      "Loaded feature store: TorchBasedFeatureStore(\n",
      "    {(<OnDiskFeatureDataDomain.NODE: 'node'>, None, 'feat_0'): TorchBasedFeature(\n",
      "        feature=tensor([[0.2676, 0.8456, 0.3195, 0.7052, 0.7385],\n",
      "                        [0.1702, 0.6741, 0.4936, 0.1795, 0.5138],\n",
      "                        [0.2081, 0.6209, 0.0087, 0.7627, 0.7574],\n",
      "                        ...,\n",
      "                        [0.9070, 0.4060, 0.9906, 0.6465, 0.1518],\n",
      "                        [0.1824, 0.9145, 0.4194, 0.6864, 0.4178],\n",
      "                        [0.9964, 0.0864, 0.5270, 0.4842, 0.0228]], dtype=torch.float64),\n",
      "        metadata={},\n",
      "    ), (<OnDiskFeatureDataDomain.NODE: 'node'>, None, 'feat_1'): TorchBasedFeature(\n",
      "        feature=tensor([[0.3102, 0.6617, 0.3103, 0.1763, 0.4377],\n",
      "                        [0.3336, 0.4147, 0.4776, 0.6154, 0.4325],\n",
      "                        [0.9472, 0.4797, 0.4150, 0.9046, 0.7426],\n",
      "                        ...,\n",
      "                        [0.0891, 0.8304, 0.5157, 0.1804, 0.8821],\n",
      "                        [0.5526, 0.8321, 0.5452, 0.4415, 0.0907],\n",
      "                        [0.2525, 0.3944, 0.8356, 0.9236, 0.3284]]),\n",
      "        metadata={},\n",
      "    ), (<OnDiskFeatureDataDomain.EDGE: 'edge'>, None, 'feat_0'): TorchBasedFeature(\n",
      "        feature=tensor([[0.4832, 0.1692, 0.6466, 0.9567, 0.6717],\n",
      "                        [0.7352, 0.2552, 0.8236, 0.8469, 0.0960],\n",
      "                        [0.0386, 0.9362, 0.8136, 0.4767, 0.9330],\n",
      "                        ...,\n",
      "                        [0.7652, 0.2556, 0.4112, 0.4190, 0.0296],\n",
      "                        [0.9907, 0.8527, 0.5779, 0.3108, 0.8355],\n",
      "                        [0.0917, 0.6557, 0.5226, 0.9362, 0.3608]], dtype=torch.float64),\n",
      "        metadata={},\n",
      "    ), (<OnDiskFeatureDataDomain.EDGE: 'edge'>, None, 'feat_1'): TorchBasedFeature(\n",
      "        feature=tensor([[0.5663, 0.9633, 0.1347, 0.3310, 0.9384],\n",
      "                        [0.8327, 0.9789, 0.8282, 0.2175, 0.5416],\n",
      "                        [0.0256, 0.3471, 0.4384, 0.0020, 0.7780],\n",
      "                        ...,\n",
      "                        [0.3607, 0.8425, 0.5213, 0.5604, 0.7548],\n",
      "                        [0.1914, 0.1043, 0.7555, 0.8857, 0.1084],\n",
      "                        [0.3130, 0.3773, 0.9874, 0.2341, 0.6229]]),\n",
      "        metadata={},\n",
      "    )}\n",
      ")\n",
      "\n",
      "Loaded node classification task: OnDiskTask(validation_set=ItemSet(\n",
      "               items=(tensor([156, 777, 233, 648, 371, 319, 351, 538, 537, 730,  83, 817, 401, 256,\n",
      "                   717, 606, 719, 211, 389, 226, 742,  37, 950, 414, 282, 556, 289, 863,\n",
      "                   293, 273,  86,  97, 529, 301, 492, 140, 268,  11, 477, 766, 654, 999,\n",
      "                   132, 245, 181, 733, 977, 207, 491, 969, 334,  14, 995, 576, 167, 732,\n",
      "                   302,  71, 363, 275, 426, 805, 320, 250, 483, 277, 958, 290,  17, 535,\n",
      "                   296, 647, 108, 867, 815, 821, 270, 819, 223, 471, 584, 928, 877, 621,\n",
      "                   406, 497, 878,  62, 478, 997, 675, 396, 595, 828,  45, 987, 994, 361,\n",
      "                   804, 906,  65, 701,  91, 385,   9, 822, 533, 944, 862, 993, 707, 613,\n",
      "                   961, 755, 429, 467, 769, 740, 340, 912, 684, 616, 510, 459, 131, 945,\n",
      "                   625, 267, 940, 816, 231, 695, 489, 224, 383,  40, 966, 258,  58, 609,\n",
      "                   506, 127, 443, 399, 790, 232, 378, 764, 503, 516, 589, 368, 272, 664,\n",
      "                   807,  38, 579, 376, 704, 607, 318, 114, 978, 907, 726, 735, 982, 909,\n",
      "                   676,  94, 324, 671, 590, 992, 709,  46, 550, 257, 188, 423, 913, 185,\n",
      "                   360, 159, 262, 330, 718, 373, 469, 639, 155, 588, 517, 532, 153, 911,\n",
      "                   472, 456, 806, 594], dtype=torch.int32), tensor([2, 8, 3, 3, 4, 0, 6, 7, 1, 4, 8, 4, 2, 6, 3, 3, 5, 2, 3, 2, 6, 5, 2, 3,\n",
      "                   1, 0, 5, 8, 2, 0, 9, 8, 2, 7, 9, 3, 4, 3, 4, 3, 9, 2, 4, 6, 8, 4, 5, 8,\n",
      "                   2, 8, 2, 4, 5, 0, 8, 2, 0, 0, 4, 6, 0, 9, 4, 7, 5, 1, 2, 7, 8, 5, 6, 6,\n",
      "                   7, 7, 7, 4, 9, 6, 7, 8, 8, 9, 5, 6, 6, 6, 3, 7, 9, 1, 7, 7, 7, 5, 1, 2,\n",
      "                   1, 7, 7, 3, 7, 1, 0, 0, 6, 5, 6, 2, 7, 6, 3, 0, 3, 2, 2, 3, 9, 3, 4, 7,\n",
      "                   0, 8, 6, 0, 9, 7, 2, 9, 8, 5, 1, 2, 3, 7, 7, 3, 4, 8, 4, 1, 1, 3, 6, 5,\n",
      "                   3, 0, 3, 9, 0, 1, 1, 1, 7, 6, 7, 6, 2, 5, 4, 4, 6, 9, 2, 0, 7, 4, 1, 4,\n",
      "                   7, 9, 4, 5, 6, 1, 0, 7, 3, 6, 3, 7, 1, 9, 0, 9, 3, 1, 7, 8, 1, 1, 4, 0,\n",
      "                   9, 8, 9, 1, 2, 3, 8, 5])),\n",
      "               names=('seeds', 'labels'),\n",
      "           ),\n",
      "           train_set=ItemSet(\n",
      "               items=(tensor([809, 209, 773, 871, 422, 244, 549, 736, 875, 100, 846,  32, 295, 380,\n",
      "                   799, 768, 635, 593, 779,  34, 854, 905, 762, 455, 205, 888, 126, 493,\n",
      "                   868, 173, 539, 279, 284, 326, 322, 678, 212,  19, 914, 162, 880, 367,\n",
      "                   146, 306, 242,  67, 900, 112, 220, 448, 963, 241, 260, 409, 661, 724,\n",
      "                   416, 592,   4, 782, 274, 941, 333, 923, 618, 842, 857,  72,  56, 699,\n",
      "                   844,  79, 174, 960, 292,  10, 144, 541, 435, 398,  27, 335,  39, 175,\n",
      "                   929, 237, 772, 681, 150, 234, 741, 366, 869, 344, 650, 783, 400, 449,\n",
      "                   313, 836, 605, 352, 808, 219, 152, 697, 204, 610, 130, 308, 394,  21,\n",
      "                   255, 190, 886, 408, 700, 357, 466,  80, 206, 339,  15, 519, 713, 976,\n",
      "                   265, 792, 927, 710, 309, 460, 314, 187, 433, 747, 288, 527, 967, 261,\n",
      "                    29, 221, 820, 899, 286, 354, 560, 343, 853, 603, 528, 874, 441, 329,\n",
      "                   760, 705, 523,  93, 716, 620, 679, 837, 508,  35, 151, 786, 113,  81,\n",
      "                     2, 147, 893, 739, 932, 850, 168, 673, 956, 788, 974, 641, 952, 655,\n",
      "                   824, 567, 348, 104, 826, 498, 109, 608, 898, 771, 629, 847, 328, 198,\n",
      "                   432, 775, 631, 457, 475, 947, 115, 813, 651, 298, 715, 128, 734, 542,\n",
      "                   753, 500, 178, 891, 611, 586, 141, 636,   8, 217, 677, 545, 191, 192,\n",
      "                   461,  73, 798, 851, 936, 511, 283, 397, 213, 388, 437, 525, 834, 557,\n",
      "                   975,   6, 436, 759, 666, 561, 612, 957,  76, 125, 617, 794,   1,  90,\n",
      "                   251, 350,  60,  16, 922, 942, 119, 754,  85, 990, 737, 507, 811,  77,\n",
      "                   332,  18, 660, 186, 600, 464,  42, 890, 778, 543, 624, 381, 465, 575,\n",
      "                     5, 515, 892, 810, 102, 935, 669, 643, 518, 571, 276, 197, 176, 138,\n",
      "                   632,  98, 170, 751, 239, 910, 105, 349, 182, 218, 447, 667, 450, 193,\n",
      "                   139, 522, 259, 881, 802, 418, 473, 215, 738, 889, 143, 745,  33, 728,\n",
      "                   106, 540, 746, 883, 572, 403,  99, 670, 285, 749, 486, 225, 377, 427,\n",
      "                   849, 362, 179, 393, 691, 553, 402, 797, 796, 479, 365, 711, 665, 902,\n",
      "                   649, 916, 390, 526, 145, 514, 748, 370, 668, 565, 604, 658, 598, 421,\n",
      "                   534, 840, 633, 386, 196, 312, 122, 474, 129, 243, 524, 110, 812, 919,\n",
      "                   962, 327, 872, 948, 656, 955, 861, 791,  31, 568, 307, 870, 998, 725,\n",
      "                    52, 438, 135, 194,  23, 107, 774, 744, 551, 253, 789,  87, 908, 342,\n",
      "                   859, 420,  53, 829, 103, 712, 856, 470, 585, 509, 405, 622, 698, 504,\n",
      "                   708, 379, 425, 263, 451, 827, 985, 573, 830, 703,  82, 743, 440, 512,\n",
      "                   855, 934, 485, 930, 269,   7, 841, 965, 358, 415, 795, 172, 623, 404,\n",
      "                   980, 723, 831, 180, 228, 702, 488, 583,  59, 391, 848, 336, 337, 321,\n",
      "                   685, 252, 984,  25, 570, 501, 184, 858, 566, 694, 894, 495, 901, 305,\n",
      "                   413, 645, 123, 756, 818, 552,  84,  89, 387, 480, 317, 246,  41, 227,\n",
      "                   189, 727, 248, 287, 896, 885, 278, 294, 430,  30,  75,  50, 177,  12,\n",
      "                   674, 353, 630, 291, 690,   3,   0, 428, 569, 160, 971, 882, 663, 266,\n",
      "                   866, 770, 341, 991, 395, 563, 696,  55, 101, 845, 657,  78, 638, 672,\n",
      "                   839, 972, 124, 776, 235, 599, 446, 384, 758,  61,  44, 949, 920, 513,\n",
      "                    64, 979, 445,  70, 157, 210, 355,  47, 662, 731, 133,  63, 411, 574,\n",
      "                   750,  36, 345, 558, 359, 202, 424, 752,  26, 439, 392, 946, 989, 765,\n",
      "                   417, 434, 311, 463, 496, 926, 490, 720, 823, 158, 564, 304, 938, 596,\n",
      "                   121, 407, 555, 904, 200, 973, 148, 149, 240, 959, 706, 614],\n",
      "                  dtype=torch.int32), tensor([1, 2, 6, 7, 1, 2, 7, 5, 5, 4, 1, 5, 4, 1, 2, 6, 7, 4, 5, 0, 8, 9, 7, 3,\n",
      "                   3, 8, 9, 9, 7, 4, 2, 2, 1, 4, 4, 4, 2, 4, 0, 9, 4, 9, 2, 4, 2, 9, 2, 3,\n",
      "                   2, 9, 1, 8, 9, 5, 9, 8, 3, 3, 0, 3, 4, 8, 0, 2, 8, 8, 2, 4, 7, 2, 2, 6,\n",
      "                   9, 7, 0, 4, 3, 9, 5, 6, 3, 4, 7, 7, 6, 6, 0, 4, 4, 7, 7, 1, 0, 0, 1, 6,\n",
      "                   3, 9, 0, 3, 4, 9, 0, 2, 8, 1, 6, 0, 0, 4, 2, 9, 0, 0, 7, 9, 0, 0, 1, 7,\n",
      "                   9, 4, 3, 0, 1, 2, 4, 9, 1, 6, 3, 5, 0, 9, 5, 8, 4, 3, 8, 1, 7, 7, 8, 3,\n",
      "                   6, 3, 5, 0, 4, 9, 8, 5, 5, 9, 5, 9, 7, 0, 6, 9, 4, 1, 4, 6, 5, 4, 9, 0,\n",
      "                   9, 2, 0, 1, 5, 5, 0, 1, 0, 7, 3, 2, 2, 9, 6, 4, 2, 2, 4, 9, 1, 9, 9, 9,\n",
      "                   6, 9, 6, 5, 2, 8, 5, 9, 1, 8, 5, 7, 1, 1, 9, 5, 4, 1, 0, 4, 8, 1, 3, 4,\n",
      "                   0, 5, 0, 9, 8, 4, 3, 5, 3, 1, 5, 5, 8, 1, 5, 3, 3, 9, 7, 1, 1, 2, 0, 1,\n",
      "                   4, 8, 8, 0, 0, 2, 4, 6, 8, 8, 9, 9, 5, 1, 8, 4, 1, 6, 6, 4, 4, 2, 4, 6,\n",
      "                   1, 3, 8, 7, 1, 7, 6, 7, 9, 2, 1, 7, 3, 3, 0, 6, 3, 0, 2, 2, 3, 5, 0, 7,\n",
      "                   2, 3, 3, 2, 3, 1, 4, 9, 4, 2, 1, 0, 2, 0, 0, 8, 8, 1, 2, 9, 7, 5, 5, 8,\n",
      "                   8, 9, 1, 1, 1, 9, 9, 2, 1, 0, 6, 0, 0, 0, 5, 6, 6, 2, 7, 6, 2, 5, 8, 3,\n",
      "                   9, 2, 1, 5, 0, 5, 1, 8, 6, 2, 7, 0, 4, 0, 5, 8, 2, 7, 8, 9, 6, 9, 8, 9,\n",
      "                   6, 9, 5, 7, 9, 4, 6, 4, 4, 7, 2, 7, 5, 7, 2, 1, 8, 5, 0, 7, 6, 4, 7, 5,\n",
      "                   7, 7, 0, 7, 1, 6, 7, 9, 7, 2, 9, 9, 2, 8, 3, 9, 2, 8, 9, 7, 4, 0, 3, 1,\n",
      "                   1, 2, 1, 9, 4, 1, 5, 4, 3, 9, 0, 4, 9, 0, 9, 2, 6, 5, 1, 2, 8, 0, 5, 3,\n",
      "                   0, 7, 8, 7, 3, 2, 3, 7, 2, 5, 5, 4, 4, 6, 9, 9, 8, 4, 8, 1, 8, 3, 3, 5,\n",
      "                   8, 4, 5, 5, 5, 5, 0, 7, 3, 6, 9, 1, 5, 8, 2, 0, 0, 0, 1, 5, 5, 9, 6, 3,\n",
      "                   6, 9, 1, 7, 3, 5, 7, 4, 7, 7, 2, 6, 5, 2, 1, 4, 5, 6, 8, 4, 1, 5, 7, 0,\n",
      "                   2, 9, 3, 5, 4, 7, 6, 5, 8, 9, 6, 6, 8, 2, 7, 9, 7, 9, 7, 8, 5, 8, 6, 1,\n",
      "                   5, 4, 1, 8, 5, 1, 5, 3, 7, 0, 7, 7, 9, 9, 8, 3, 9, 4, 0, 4, 4, 6, 9, 1,\n",
      "                   2, 5, 6, 7, 0, 6, 8, 3, 2, 1, 2, 1, 5, 6, 6, 6, 5, 2, 1, 8, 8, 4, 3, 1,\n",
      "                   1, 9, 2, 1, 0, 6, 3, 4, 6, 0, 8, 2, 5, 7, 4, 4, 2, 9, 0, 9, 4, 0, 8, 2])),\n",
      "               names=('seeds', 'labels'),\n",
      "           ),\n",
      "           test_set=ItemSet(\n",
      "               items=(tensor([484, 372,  48, 254, 281, 626, 864, 986, 338,  66, 587, 865, 118, 452,\n",
      "                   860,  92, 419, 833, 686, 356, 757, 375, 171, 201, 988, 887, 627, 931,\n",
      "                   970, 876, 154, 458, 642, 236, 481, 601, 761, 951, 195, 116, 835, 693,\n",
      "                   369, 136, 767, 852, 785, 722, 787, 937, 548, 238, 653,  54, 582, 547,\n",
      "                   374, 580, 619, 300, 954, 310, 602, 442, 536, 996,  51, 546, 800, 921,\n",
      "                   924, 382, 692, 781, 531, 784, 111, 142, 410, 918, 939, 364, 634, 578,\n",
      "                   230, 562,  20, 165, 183, 968,  13, 615, 933, 137, 682, 134, 554, 468,\n",
      "                   203, 780, 544, 803,  69, 494, 323, 412, 801, 521, 721,  49, 687, 299,\n",
      "                   591, 271, 214,  24, 264, 482, 838, 347,  74, 689, 117, 925, 164, 964,\n",
      "                   208, 943, 953, 897, 163, 199, 873, 843, 166, 431,  88,  22, 879, 520,\n",
      "                    43, 597, 325, 659,  28, 303, 161, 915, 683, 222, 476, 462, 640,  96,\n",
      "                   644, 903, 297, 917,  68, 502, 216, 453, 825, 637, 983,  57, 646, 249,\n",
      "                   169, 652, 763, 331, 120, 559, 247, 577, 895, 814, 487, 729, 346, 444,\n",
      "                   714, 884, 229, 280, 688, 680, 499, 793, 581, 316,  95, 454, 530, 832,\n",
      "                   315, 981, 505, 628], dtype=torch.int32), tensor([8, 6, 8, 0, 9, 6, 1, 4, 6, 2, 6, 4, 1, 1, 4, 0, 2, 9, 0, 3, 4, 6, 1, 1,\n",
      "                   8, 4, 3, 2, 7, 5, 9, 7, 8, 3, 3, 2, 9, 7, 5, 2, 7, 0, 4, 7, 1, 6, 2, 2,\n",
      "                   9, 3, 0, 5, 4, 6, 6, 1, 6, 8, 0, 7, 4, 8, 5, 8, 3, 1, 8, 8, 5, 5, 8, 4,\n",
      "                   5, 3, 5, 7, 4, 7, 3, 8, 1, 5, 0, 4, 7, 9, 2, 1, 1, 2, 0, 6, 1, 4, 3, 5,\n",
      "                   8, 9, 9, 7, 0, 8, 5, 5, 2, 0, 3, 3, 5, 9, 5, 3, 5, 2, 2, 1, 6, 0, 3, 1,\n",
      "                   6, 2, 9, 0, 4, 7, 4, 0, 1, 7, 8, 6, 4, 1, 2, 2, 8, 4, 7, 1, 3, 6, 7, 4,\n",
      "                   3, 3, 9, 2, 8, 3, 3, 5, 7, 0, 7, 4, 8, 2, 5, 6, 6, 3, 6, 2, 4, 1, 6, 3,\n",
      "                   1, 2, 3, 1, 0, 9, 2, 7, 7, 9, 6, 4, 1, 4, 2, 0, 9, 3, 6, 3, 6, 1, 5, 1,\n",
      "                   1, 3, 5, 5, 2, 5, 6, 6])),\n",
      "               names=('seeds', 'labels'),\n",
      "           ),\n",
      "           metadata={'name': 'node_classification', 'num_classes': 10},)\n",
      "\n",
      "Loaded link prediction task: OnDiskTask(validation_set=ItemSet(\n",
      "               items=(tensor([[771, 495],\n",
      "                   [715,  87],\n",
      "                   [590, 983],\n",
      "                   ...,\n",
      "                   [ 55,  17],\n",
      "                   [ 55, 659],\n",
      "                   [ 55, 904]], dtype=torch.int32), tensor([1., 1., 1.,  ..., 0., 0., 0.], dtype=torch.float64), tensor([   0,    1,    2,  ..., 1999, 1999, 1999])),\n",
      "               names=('seeds', 'labels', 'indexes'),\n",
      "           ),\n",
      "           train_set=ItemSet(\n",
      "               items=(tensor([[734, 698],\n",
      "                   [492, 101],\n",
      "                   [141, 102],\n",
      "                   ...,\n",
      "                   [447, 161],\n",
      "                   [543, 184],\n",
      "                   [346, 301]], dtype=torch.int32),),\n",
      "               names=('seeds',),\n",
      "           ),\n",
      "           test_set=ItemSet(\n",
      "               items=(tensor([[166, 289],\n",
      "                   [697, 620],\n",
      "                   [976, 534],\n",
      "                   ...,\n",
      "                   [841, 267],\n",
      "                   [841, 373],\n",
      "                   [841, 500]], dtype=torch.int32), tensor([1., 1., 1.,  ..., 0., 0., 0.], dtype=torch.float64), tensor([   0,    1,    2,  ..., 1999, 1999, 1999])),\n",
      "               names=('seeds', 'labels', 'indexes'),\n",
      "           ),\n",
      "           metadata={'name': 'link_prediction', 'num_classes': 10},)\n",
      "\n"
     ]
    },
    {
     "name": "stderr",
     "output_type": "stream",
     "text": [
      "/dgl/python/dgl/graphbolt/impl/ondisk_dataset.py:463: GBWarning: Edge feature is stored, but edge IDs are not saved.\n",
      "  gb_warning(\"Edge feature is stored, but edge IDs are not saved.\")\n"
     ]
    }
   ],
   "source": [
    "dataset = gb.OnDiskDataset(base_dir).load()\n",
    "graph = dataset.graph\n",
    "print(f\"Loaded graph: {graph}\\n\")\n",
    "\n",
    "feature = dataset.feature\n",
    "print(f\"Loaded feature store: {feature}\\n\")\n",
    "\n",
    "tasks = dataset.tasks\n",
    "nc_task = tasks[0]\n",
    "print(f\"Loaded node classification task: {nc_task}\\n\")\n",
    "lp_task = tasks[1]\n",
    "print(f\"Loaded link prediction task: {lp_task}\\n\")"
   ]
  }
 ],
 "metadata": {
  "colab": {
   "private_outputs": true,
   "provenance": []
  },
  "kernelspec": {
   "display_name": "Python 3",
   "name": "python3"
  },
  "language_info": {
   "codemirror_mode": {
    "name": "ipython",
    "version": 3
   },
   "file_extension": ".py",
   "mimetype": "text/x-python",
   "name": "python",
   "nbconvert_exporter": "python",
   "pygments_lexer": "ipython3",
   "version": "3.10.15"
  }
 },
 "nbformat": 4,
 "nbformat_minor": 0
}

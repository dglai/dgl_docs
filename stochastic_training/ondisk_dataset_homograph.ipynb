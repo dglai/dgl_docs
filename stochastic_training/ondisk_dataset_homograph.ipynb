{
 "cells": [
  {
   "cell_type": "markdown",
   "metadata": {
    "id": "FnFhPMaAfLtJ"
   },
   "source": [
    "# OnDiskDataset for Homogeneous Graph\n",
    "\n",
    "[![Open In Colab](https://colab.research.google.com/assets/colab-badge.svg)](https://colab.research.google.com/github/dmlc/dgl/blob/master/notebooks/stochastic_training/ondisk_dataset_homograph.ipynb) [![GitHub](https://img.shields.io/badge/-View%20on%20GitHub-181717?logo=github&logoColor=ffffff)](https://github.com/dmlc/dgl/blob/master/notebooks/stochastic_training/ondisk_dataset_homograph.ipynb)\n",
    "\n",
    "This tutorial shows how to create `OnDiskDataset` for homogeneous graph that could be used in **GraphBolt** framework.\n",
    "\n",
    "By the end of this tutorial, you will be able to\n",
    "\n",
    "- organize graph structure data.\n",
    "- organize feature data.\n",
    "- organize training/validation/test set for specific tasks.\n",
    "\n",
    "To create an ``OnDiskDataset`` object, you need to organize all the data including graph structure, feature data and tasks into a directory. The directory should contain a ``metadata.yaml`` file that describes the metadata of the dataset.\n",
    "\n",
    "Now let's generate various data step by step and organize them together to instantiate `OnDiskDataset` finally."
   ]
  },
  {
   "cell_type": "markdown",
   "metadata": {
    "id": "Wlb19DtWgtzq"
   },
   "source": [
    "## Install DGL package"
   ]
  },
  {
   "cell_type": "code",
   "execution_count": 1,
   "metadata": {
    "execution": {
     "iopub.execute_input": "2024-11-02T14:50:08.276728Z",
     "iopub.status.busy": "2024-11-02T14:50:08.276220Z",
     "iopub.status.idle": "2024-11-02T14:50:11.317063Z",
     "shell.execute_reply": "2024-11-02T14:50:11.316134Z"
    },
    "id": "UojlT9ZGgyr9"
   },
   "outputs": [
    {
     "name": "stdout",
     "output_type": "stream",
     "text": [
      "Looking in links: https://data.dgl.ai/wheels-test/repo.html\r\n",
      "Requirement already satisfied: dgl in /opt/conda/envs/dgl-dev-cpu/lib/python3.10/site-packages (2.2a240410)\r\n",
      "Requirement already satisfied: numpy>=1.14.0 in /opt/conda/envs/dgl-dev-cpu/lib/python3.10/site-packages (from dgl) (1.26.4)\r\n",
      "Requirement already satisfied: scipy>=1.1.0 in /opt/conda/envs/dgl-dev-cpu/lib/python3.10/site-packages (from dgl) (1.14.1)\r\n",
      "Requirement already satisfied: networkx>=2.1 in /opt/conda/envs/dgl-dev-cpu/lib/python3.10/site-packages (from dgl) (3.4.2)\r\n",
      "Requirement already satisfied: requests>=2.19.0 in /opt/conda/envs/dgl-dev-cpu/lib/python3.10/site-packages (from dgl) (2.32.3)\r\n",
      "Requirement already satisfied: tqdm in /opt/conda/envs/dgl-dev-cpu/lib/python3.10/site-packages (from dgl) (4.66.6)\r\n",
      "Requirement already satisfied: psutil>=5.8.0 in /opt/conda/envs/dgl-dev-cpu/lib/python3.10/site-packages (from dgl) (6.1.0)\r\n"
     ]
    },
    {
     "name": "stdout",
     "output_type": "stream",
     "text": [
      "Requirement already satisfied: torchdata>=0.5.0 in /opt/conda/envs/dgl-dev-cpu/lib/python3.10/site-packages (from dgl) (0.9.0)\r\n",
      "Requirement already satisfied: pandas in /opt/conda/envs/dgl-dev-cpu/lib/python3.10/site-packages (from dgl) (2.2.3)\r\n",
      "Requirement already satisfied: charset-normalizer<4,>=2 in /opt/conda/envs/dgl-dev-cpu/lib/python3.10/site-packages (from requests>=2.19.0->dgl) (3.4.0)\r\n",
      "Requirement already satisfied: idna<4,>=2.5 in /opt/conda/envs/dgl-dev-cpu/lib/python3.10/site-packages (from requests>=2.19.0->dgl) (3.10)\r\n",
      "Requirement already satisfied: urllib3<3,>=1.21.1 in /opt/conda/envs/dgl-dev-cpu/lib/python3.10/site-packages (from requests>=2.19.0->dgl) (2.2.3)\r\n",
      "Requirement already satisfied: certifi>=2017.4.17 in /opt/conda/envs/dgl-dev-cpu/lib/python3.10/site-packages (from requests>=2.19.0->dgl) (2024.8.30)\r\n",
      "Requirement already satisfied: torch>=2 in /opt/conda/envs/dgl-dev-cpu/lib/python3.10/site-packages (from torchdata>=0.5.0->dgl) (2.1.0+cpu)\r\n"
     ]
    },
    {
     "name": "stdout",
     "output_type": "stream",
     "text": [
      "Requirement already satisfied: python-dateutil>=2.8.2 in /opt/conda/envs/dgl-dev-cpu/lib/python3.10/site-packages (from pandas->dgl) (2.9.0.post0)\r\n",
      "Requirement already satisfied: pytz>=2020.1 in /opt/conda/envs/dgl-dev-cpu/lib/python3.10/site-packages (from pandas->dgl) (2024.2)\r\n",
      "Requirement already satisfied: tzdata>=2022.7 in /opt/conda/envs/dgl-dev-cpu/lib/python3.10/site-packages (from pandas->dgl) (2024.2)\r\n",
      "Requirement already satisfied: six>=1.5 in /opt/conda/envs/dgl-dev-cpu/lib/python3.10/site-packages (from python-dateutil>=2.8.2->pandas->dgl) (1.16.0)\r\n",
      "Requirement already satisfied: filelock in /opt/conda/envs/dgl-dev-cpu/lib/python3.10/site-packages (from torch>=2->torchdata>=0.5.0->dgl) (3.16.1)\r\n",
      "Requirement already satisfied: typing-extensions in /opt/conda/envs/dgl-dev-cpu/lib/python3.10/site-packages (from torch>=2->torchdata>=0.5.0->dgl) (4.12.2)\r\n",
      "Requirement already satisfied: sympy in /opt/conda/envs/dgl-dev-cpu/lib/python3.10/site-packages (from torch>=2->torchdata>=0.5.0->dgl) (1.13.3)\r\n",
      "Requirement already satisfied: jinja2 in /opt/conda/envs/dgl-dev-cpu/lib/python3.10/site-packages (from torch>=2->torchdata>=0.5.0->dgl) (3.1.4)\r\n",
      "Requirement already satisfied: fsspec in /opt/conda/envs/dgl-dev-cpu/lib/python3.10/site-packages (from torch>=2->torchdata>=0.5.0->dgl) (2024.10.0)\r\n"
     ]
    },
    {
     "name": "stdout",
     "output_type": "stream",
     "text": [
      "Requirement already satisfied: MarkupSafe>=2.0 in /opt/conda/envs/dgl-dev-cpu/lib/python3.10/site-packages (from jinja2->torch>=2->torchdata>=0.5.0->dgl) (3.0.2)\r\n",
      "Requirement already satisfied: mpmath<1.4,>=1.1.0 in /opt/conda/envs/dgl-dev-cpu/lib/python3.10/site-packages (from sympy->torch>=2->torchdata>=0.5.0->dgl) (1.3.0)\r\n"
     ]
    },
    {
     "name": "stdout",
     "output_type": "stream",
     "text": [
      "\u001b[33mWARNING: Running pip as the 'root' user can result in broken permissions and conflicting behaviour with the system package manager, possibly rendering your system unusable.It is recommended to use a virtual environment instead: https://pip.pypa.io/warnings/venv. Use the --root-user-action option if you know what you are doing and want to suppress this warning.\u001b[0m\u001b[33m\r\n",
      "\u001b[0m"
     ]
    },
    {
     "name": "stdout",
     "output_type": "stream",
     "text": [
      "DGL installed!\n"
     ]
    }
   ],
   "source": [
    "# Install required packages.\n",
    "import os\n",
    "import torch\n",
    "import numpy as np\n",
    "os.environ['TORCH'] = torch.__version__\n",
    "os.environ['DGLBACKEND'] = \"pytorch\"\n",
    "\n",
    "# Install the CPU version.\n",
    "device = torch.device(\"cpu\")\n",
    "!pip install --pre dgl -f https://data.dgl.ai/wheels-test/repo.html\n",
    "\n",
    "try:\n",
    "    import dgl\n",
    "    import dgl.graphbolt as gb\n",
    "    installed = True\n",
    "except ImportError as error:\n",
    "    installed = False\n",
    "    print(error)\n",
    "print(\"DGL installed!\" if installed else \"DGL not found!\")"
   ]
  },
  {
   "cell_type": "markdown",
   "metadata": {
    "id": "2R7WnSbjsfbr"
   },
   "source": [
    "## Data preparation\n",
    "In order to demonstrate how to organize various data, let's create a base directory first."
   ]
  },
  {
   "cell_type": "code",
   "execution_count": 2,
   "metadata": {
    "execution": {
     "iopub.execute_input": "2024-11-02T14:50:11.319963Z",
     "iopub.status.busy": "2024-11-02T14:50:11.319458Z",
     "iopub.status.idle": "2024-11-02T14:50:11.324644Z",
     "shell.execute_reply": "2024-11-02T14:50:11.323486Z"
    },
    "id": "SZipbzyltLfO"
   },
   "outputs": [
    {
     "name": "stdout",
     "output_type": "stream",
     "text": [
      "Created base directory: ./ondisk_dataset_homograph\n"
     ]
    }
   ],
   "source": [
    "base_dir = './ondisk_dataset_homograph'\n",
    "os.makedirs(base_dir, exist_ok=True)\n",
    "print(f\"Created base directory: {base_dir}\")"
   ]
  },
  {
   "cell_type": "markdown",
   "metadata": {
    "id": "qhNtIn_xhlnl"
   },
   "source": [
    "### Generate graph structure data\n",
    "For homogeneous graph, we just need to save edges(namely seeds) into  **Numpy** or **CSV** file.\n",
    "\n",
    "Note:\n",
    "- when saving to **Numpy**, the array requires to be in shape of `(2, N)`. This format is recommended as constructing graph from it is much faster than **CSV** file.\n",
    "- when saving to **CSV** file, do not save index and header.\n"
   ]
  },
  {
   "cell_type": "code",
   "execution_count": 3,
   "metadata": {
    "execution": {
     "iopub.execute_input": "2024-11-02T14:50:11.327415Z",
     "iopub.status.busy": "2024-11-02T14:50:11.327079Z",
     "iopub.status.idle": "2024-11-02T14:50:11.340596Z",
     "shell.execute_reply": "2024-11-02T14:50:11.339708Z"
    },
    "id": "HcBt4G5BmSjr"
   },
   "outputs": [
    {
     "name": "stdout",
     "output_type": "stream",
     "text": [
      "Part of edges: [[610  45]\n",
      " [814 889]\n",
      " [389 303]\n",
      " [537 139]\n",
      " [861 860]]\n",
      "Edges are saved into ./ondisk_dataset_homograph/edges.csv\n"
     ]
    }
   ],
   "source": [
    "import numpy as np\n",
    "import pandas as pd\n",
    "num_nodes = 1000\n",
    "num_edges = 10 * num_nodes\n",
    "edges_path = os.path.join(base_dir, \"edges.csv\")\n",
    "edges = np.random.randint(0, num_nodes, size=(num_edges, 2))\n",
    "\n",
    "print(f\"Part of edges: {edges[:5, :]}\")\n",
    "\n",
    "df = pd.DataFrame(edges)\n",
    "df.to_csv(edges_path, index=False, header=False)\n",
    "\n",
    "print(f\"Edges are saved into {edges_path}\")"
   ]
  },
  {
   "cell_type": "markdown",
   "metadata": {
    "id": "kh-4cPtzpcaH"
   },
   "source": [
    "### Generate feature data for graph\n",
    "For feature data, numpy arrays and torch tensors are supported for now."
   ]
  },
  {
   "cell_type": "code",
   "execution_count": 4,
   "metadata": {
    "execution": {
     "iopub.execute_input": "2024-11-02T14:50:11.343402Z",
     "iopub.status.busy": "2024-11-02T14:50:11.343062Z",
     "iopub.status.idle": "2024-11-02T14:50:11.360953Z",
     "shell.execute_reply": "2024-11-02T14:50:11.359964Z"
    },
    "id": "_PVu1u5brBhF"
   },
   "outputs": [
    {
     "name": "stdout",
     "output_type": "stream",
     "text": [
      "Part of node feature [feat_0]: [[0.08019765 0.45083878 0.73528313 0.63129589 0.39291858]\n",
      " [0.07588067 0.66770513 0.22483983 0.25756432 0.26903256]\n",
      " [0.10061766 0.15395803 0.39133911 0.29216537 0.90454403]]\n",
      "Node feature [feat_0] is saved to ./ondisk_dataset_homograph/node-feat-0.npy\n",
      "\n",
      "Part of node feature [feat_1]: tensor([[0.0482, 0.4114, 0.8618, 0.9763, 0.7593],\n",
      "        [0.0432, 0.1708, 0.5775, 0.1018, 0.1759],\n",
      "        [0.4703, 0.7366, 0.0219, 0.9845, 0.1165]])\n",
      "Node feature [feat_1] is saved to ./ondisk_dataset_homograph/node-feat-1.pt\n",
      "\n",
      "Part of edge feature [feat_0]: [[0.42506128 0.58997036 0.46977187 0.87466939 0.8483293 ]\n",
      " [0.75933449 0.97005697 0.19359455 0.97252225 0.3087062 ]\n",
      " [0.57061481 0.33504673 0.89201275 0.4049961  0.5488162 ]]\n",
      "Edge feature [feat_0] is saved to ./ondisk_dataset_homograph/edge-feat-0.npy\n",
      "\n",
      "Part of edge feature [feat_1]: tensor([[0.6432, 0.3211, 0.7282, 0.4649, 0.2304],\n",
      "        [0.0715, 0.3464, 0.4521, 0.7180, 0.3077],\n",
      "        [0.3301, 0.6696, 0.2276, 0.6640, 0.3394]])\n",
      "Edge feature [feat_1] is saved to ./ondisk_dataset_homograph/edge-feat-1.pt\n",
      "\n"
     ]
    }
   ],
   "source": [
    "# Generate node feature in numpy array.\n",
    "node_feat_0_path = os.path.join(base_dir, \"node-feat-0.npy\")\n",
    "node_feat_0 = np.random.rand(num_nodes, 5)\n",
    "print(f\"Part of node feature [feat_0]: {node_feat_0[:3, :]}\")\n",
    "np.save(node_feat_0_path, node_feat_0)\n",
    "print(f\"Node feature [feat_0] is saved to {node_feat_0_path}\\n\")\n",
    "\n",
    "# Generate another node feature in torch tensor\n",
    "node_feat_1_path = os.path.join(base_dir, \"node-feat-1.pt\")\n",
    "node_feat_1 = torch.rand(num_nodes, 5)\n",
    "print(f\"Part of node feature [feat_1]: {node_feat_1[:3, :]}\")\n",
    "torch.save(node_feat_1, node_feat_1_path)\n",
    "print(f\"Node feature [feat_1] is saved to {node_feat_1_path}\\n\")\n",
    "\n",
    "# Generate edge feature in numpy array.\n",
    "edge_feat_0_path = os.path.join(base_dir, \"edge-feat-0.npy\")\n",
    "edge_feat_0 = np.random.rand(num_edges, 5)\n",
    "print(f\"Part of edge feature [feat_0]: {edge_feat_0[:3, :]}\")\n",
    "np.save(edge_feat_0_path, edge_feat_0)\n",
    "print(f\"Edge feature [feat_0] is saved to {edge_feat_0_path}\\n\")\n",
    "\n",
    "# Generate another edge feature in torch tensor\n",
    "edge_feat_1_path = os.path.join(base_dir, \"edge-feat-1.pt\")\n",
    "edge_feat_1 = torch.rand(num_edges, 5)\n",
    "print(f\"Part of edge feature [feat_1]: {edge_feat_1[:3, :]}\")\n",
    "torch.save(edge_feat_1, edge_feat_1_path)\n",
    "print(f\"Edge feature [feat_1] is saved to {edge_feat_1_path}\\n\")\n"
   ]
  },
  {
   "cell_type": "markdown",
   "metadata": {
    "id": "ZyqgOtsIwzh_"
   },
   "source": [
    "### Generate tasks\n",
    "`OnDiskDataset` supports multiple tasks. For each task, we need to prepare training/validation/test sets respectively. Such sets usually vary among different tasks. In this tutorial, let's create a **Node Classification** task and **Link Prediction** task."
   ]
  },
  {
   "cell_type": "markdown",
   "metadata": {
    "id": "hVxHaDIfzCkr"
   },
   "source": [
    "#### Node Classification Task\n",
    "For node classification task, we need **node IDs** and corresponding **labels** for each training/validation/test set. Like feature data, numpy arrays and torch tensors are supported for these sets."
   ]
  },
  {
   "cell_type": "code",
   "execution_count": 5,
   "metadata": {
    "execution": {
     "iopub.execute_input": "2024-11-02T14:50:11.364256Z",
     "iopub.status.busy": "2024-11-02T14:50:11.363755Z",
     "iopub.status.idle": "2024-11-02T14:50:11.375760Z",
     "shell.execute_reply": "2024-11-02T14:50:11.374960Z"
    },
    "id": "S5-fyBbHzTCO"
   },
   "outputs": [
    {
     "name": "stdout",
     "output_type": "stream",
     "text": [
      "Part of train ids for node classification: [829  10 149]\n",
      "NC train ids are saved to ./ondisk_dataset_homograph/nc-train-ids.npy\n",
      "\n",
      "Part of train labels for node classification: tensor([9, 9, 3])\n",
      "NC train labels are saved to ./ondisk_dataset_homograph/nc-train-labels.pt\n",
      "\n",
      "Part of val ids for node classification: [397  97 123]\n",
      "NC val ids are saved to ./ondisk_dataset_homograph/nc-val-ids.npy\n",
      "\n",
      "Part of val labels for node classification: tensor([4, 4, 7])\n",
      "NC val labels are saved to ./ondisk_dataset_homograph/nc-val-labels.pt\n",
      "\n",
      "Part of test ids for node classification: [778  59 507]\n",
      "NC test ids are saved to ./ondisk_dataset_homograph/nc-test-ids.npy\n",
      "\n",
      "Part of test labels for node classification: tensor([9, 1, 6])\n",
      "NC test labels are saved to ./ondisk_dataset_homograph/nc-test-labels.pt\n",
      "\n"
     ]
    }
   ],
   "source": [
    "num_trains = int(num_nodes * 0.6)\n",
    "num_vals = int(num_nodes * 0.2)\n",
    "num_tests = num_nodes - num_trains - num_vals\n",
    "\n",
    "ids = np.arange(num_nodes)\n",
    "np.random.shuffle(ids)\n",
    "\n",
    "nc_train_ids_path = os.path.join(base_dir, \"nc-train-ids.npy\")\n",
    "nc_train_ids = ids[:num_trains]\n",
    "print(f\"Part of train ids for node classification: {nc_train_ids[:3]}\")\n",
    "np.save(nc_train_ids_path, nc_train_ids)\n",
    "print(f\"NC train ids are saved to {nc_train_ids_path}\\n\")\n",
    "\n",
    "nc_train_labels_path = os.path.join(base_dir, \"nc-train-labels.pt\")\n",
    "nc_train_labels = torch.randint(0, 10, (num_trains,))\n",
    "print(f\"Part of train labels for node classification: {nc_train_labels[:3]}\")\n",
    "torch.save(nc_train_labels, nc_train_labels_path)\n",
    "print(f\"NC train labels are saved to {nc_train_labels_path}\\n\")\n",
    "\n",
    "nc_val_ids_path = os.path.join(base_dir, \"nc-val-ids.npy\")\n",
    "nc_val_ids = ids[num_trains:num_trains+num_vals]\n",
    "print(f\"Part of val ids for node classification: {nc_val_ids[:3]}\")\n",
    "np.save(nc_val_ids_path, nc_val_ids)\n",
    "print(f\"NC val ids are saved to {nc_val_ids_path}\\n\")\n",
    "\n",
    "nc_val_labels_path = os.path.join(base_dir, \"nc-val-labels.pt\")\n",
    "nc_val_labels = torch.randint(0, 10, (num_vals,))\n",
    "print(f\"Part of val labels for node classification: {nc_val_labels[:3]}\")\n",
    "torch.save(nc_val_labels, nc_val_labels_path)\n",
    "print(f\"NC val labels are saved to {nc_val_labels_path}\\n\")\n",
    "\n",
    "nc_test_ids_path = os.path.join(base_dir, \"nc-test-ids.npy\")\n",
    "nc_test_ids = ids[-num_tests:]\n",
    "print(f\"Part of test ids for node classification: {nc_test_ids[:3]}\")\n",
    "np.save(nc_test_ids_path, nc_test_ids)\n",
    "print(f\"NC test ids are saved to {nc_test_ids_path}\\n\")\n",
    "\n",
    "nc_test_labels_path = os.path.join(base_dir, \"nc-test-labels.pt\")\n",
    "nc_test_labels = torch.randint(0, 10, (num_tests,))\n",
    "print(f\"Part of test labels for node classification: {nc_test_labels[:3]}\")\n",
    "torch.save(nc_test_labels, nc_test_labels_path)\n",
    "print(f\"NC test labels are saved to {nc_test_labels_path}\\n\")"
   ]
  },
  {
   "cell_type": "markdown",
   "metadata": {
    "id": "LhAcDCHQ_KJ0"
   },
   "source": [
    "#### Link Prediction Task\n",
    "For link prediction task, we need **seeds** or **corresponding labels and indexes** which representing the pos/neg property and group of the seeds for each training/validation/test set. Like feature data, numpy arrays and torch tensors are supported for these sets."
   ]
  },
  {
   "cell_type": "code",
   "execution_count": 6,
   "metadata": {
    "execution": {
     "iopub.execute_input": "2024-11-02T14:50:11.378539Z",
     "iopub.status.busy": "2024-11-02T14:50:11.378125Z",
     "iopub.status.idle": "2024-11-02T14:50:11.396243Z",
     "shell.execute_reply": "2024-11-02T14:50:11.395374Z"
    },
    "id": "u0jCnXIcAQy4"
   },
   "outputs": [
    {
     "name": "stdout",
     "output_type": "stream",
     "text": [
      "Part of train seeds for link prediction: [[610  45]\n",
      " [814 889]\n",
      " [389 303]]\n",
      "LP train seeds are saved to ./ondisk_dataset_homograph/lp-train-seeds.npy\n",
      "\n",
      "Part of val seeds for link prediction: [[846 504]\n",
      " [539 762]\n",
      " [350 444]]\n",
      "LP val seeds are saved to ./ondisk_dataset_homograph/lp-val-seeds.npy\n",
      "\n",
      "Part of val labels for link prediction: [1. 1. 1.]\n",
      "LP val labels are saved to ./ondisk_dataset_homograph/lp-val-labels.npy\n",
      "\n",
      "Part of val indexes for link prediction: [0 1 2]\n",
      "LP val indexes are saved to ./ondisk_dataset_homograph/lp-val-indexes.npy\n",
      "\n",
      "Part of test seeds for link prediction: [[581 682]\n",
      " [428  61]\n",
      " [485  40]]\n",
      "LP test seeds are saved to ./ondisk_dataset_homograph/lp-test-seeds.npy\n",
      "\n",
      "Part of val labels for link prediction: [1. 1. 1.]\n",
      "LP test labels are saved to ./ondisk_dataset_homograph/lp-test-labels.npy\n",
      "\n",
      "Part of test indexes for link prediction: [0 1 2]\n",
      "LP test indexes are saved to ./ondisk_dataset_homograph/lp-test-indexes.npy\n",
      "\n"
     ]
    }
   ],
   "source": [
    "num_trains = int(num_edges * 0.6)\n",
    "num_vals = int(num_edges * 0.2)\n",
    "num_tests = num_edges - num_trains - num_vals\n",
    "\n",
    "lp_train_seeds_path = os.path.join(base_dir, \"lp-train-seeds.npy\")\n",
    "lp_train_seeds = edges[:num_trains, :]\n",
    "print(f\"Part of train seeds for link prediction: {lp_train_seeds[:3]}\")\n",
    "np.save(lp_train_seeds_path, lp_train_seeds)\n",
    "print(f\"LP train seeds are saved to {lp_train_seeds_path}\\n\")\n",
    "\n",
    "lp_val_seeds_path = os.path.join(base_dir, \"lp-val-seeds.npy\")\n",
    "lp_val_seeds = edges[num_trains:num_trains+num_vals, :]\n",
    "lp_val_neg_dsts = np.random.randint(0, num_nodes, (num_vals, 10)).reshape(-1)\n",
    "lp_val_neg_srcs = np.repeat(lp_val_seeds[:,0], 10)\n",
    "lp_val_neg_seeds = np.concatenate((lp_val_neg_srcs, lp_val_neg_dsts)).reshape(2,-1).T\n",
    "lp_val_seeds = np.concatenate((lp_val_seeds, lp_val_neg_seeds))\n",
    "print(f\"Part of val seeds for link prediction: {lp_val_seeds[:3]}\")\n",
    "np.save(lp_val_seeds_path, lp_val_seeds)\n",
    "print(f\"LP val seeds are saved to {lp_val_seeds_path}\\n\")\n",
    "\n",
    "lp_val_labels_path = os.path.join(base_dir, \"lp-val-labels.npy\")\n",
    "lp_val_labels = np.empty(num_vals * (10 + 1))\n",
    "lp_val_labels[:num_vals] = 1\n",
    "lp_val_labels[num_vals:] = 0\n",
    "print(f\"Part of val labels for link prediction: {lp_val_labels[:3]}\")\n",
    "np.save(lp_val_labels_path, lp_val_labels)\n",
    "print(f\"LP val labels are saved to {lp_val_labels_path}\\n\")\n",
    "\n",
    "lp_val_indexes_path = os.path.join(base_dir, \"lp-val-indexes.npy\")\n",
    "lp_val_indexes = np.arange(0, num_vals)\n",
    "lp_val_neg_indexes = np.repeat(lp_val_indexes, 10)\n",
    "lp_val_indexes = np.concatenate([lp_val_indexes, lp_val_neg_indexes])\n",
    "print(f\"Part of val indexes for link prediction: {lp_val_indexes[:3]}\")\n",
    "np.save(lp_val_indexes_path, lp_val_indexes)\n",
    "print(f\"LP val indexes are saved to {lp_val_indexes_path}\\n\")\n",
    "\n",
    "lp_test_seeds_path = os.path.join(base_dir, \"lp-test-seeds.npy\")\n",
    "lp_test_seeds = edges[-num_tests:, :]\n",
    "lp_test_neg_dsts = np.random.randint(0, num_nodes, (num_tests, 10)).reshape(-1)\n",
    "lp_test_neg_srcs = np.repeat(lp_test_seeds[:,0], 10)\n",
    "lp_test_neg_seeds = np.concatenate((lp_test_neg_srcs, lp_test_neg_dsts)).reshape(2,-1).T\n",
    "lp_test_seeds = np.concatenate((lp_test_seeds, lp_test_neg_seeds))\n",
    "print(f\"Part of test seeds for link prediction: {lp_test_seeds[:3]}\")\n",
    "np.save(lp_test_seeds_path, lp_test_seeds)\n",
    "print(f\"LP test seeds are saved to {lp_test_seeds_path}\\n\")\n",
    "\n",
    "lp_test_labels_path = os.path.join(base_dir, \"lp-test-labels.npy\")\n",
    "lp_test_labels = np.empty(num_tests * (10 + 1))\n",
    "lp_test_labels[:num_tests] = 1\n",
    "lp_test_labels[num_tests:] = 0\n",
    "print(f\"Part of val labels for link prediction: {lp_test_labels[:3]}\")\n",
    "np.save(lp_test_labels_path, lp_test_labels)\n",
    "print(f\"LP test labels are saved to {lp_test_labels_path}\\n\")\n",
    "\n",
    "lp_test_indexes_path = os.path.join(base_dir, \"lp-test-indexes.npy\")\n",
    "lp_test_indexes = np.arange(0, num_tests)\n",
    "lp_test_neg_indexes = np.repeat(lp_test_indexes, 10)\n",
    "lp_test_indexes = np.concatenate([lp_test_indexes, lp_test_neg_indexes])\n",
    "print(f\"Part of test indexes for link prediction: {lp_test_indexes[:3]}\")\n",
    "np.save(lp_test_indexes_path, lp_test_indexes)\n",
    "print(f\"LP test indexes are saved to {lp_test_indexes_path}\\n\")"
   ]
  },
  {
   "cell_type": "markdown",
   "metadata": {
    "id": "wbk6-wxRK-6S"
   },
   "source": [
    "## Organize Data into YAML File\n",
    "Now we need to create a `metadata.yaml` file which contains the paths, dadta types of graph structure, feature data, training/validation/test sets.\n",
    "\n",
    "Notes:\n",
    "- all path should be relative to `metadata.yaml`.\n",
    "- Below fields are optional and not specified in below example.\n",
    "  - `in_memory`: indicates whether to load dada into memory or `mmap`. Default is `True`.\n",
    "\n",
    "Please refer to [YAML specification](https://github.com/dmlc/dgl/blob/master/docs/source/stochastic_training/ondisk-dataset-specification.rst) for more details."
   ]
  },
  {
   "cell_type": "code",
   "execution_count": 7,
   "metadata": {
    "execution": {
     "iopub.execute_input": "2024-11-02T14:50:11.399065Z",
     "iopub.status.busy": "2024-11-02T14:50:11.398738Z",
     "iopub.status.idle": "2024-11-02T14:50:11.405107Z",
     "shell.execute_reply": "2024-11-02T14:50:11.404326Z"
    },
    "id": "ddGTWW61Lpwp"
   },
   "outputs": [],
   "source": [
    "yaml_content = f\"\"\"\n",
    "    dataset_name: homogeneous_graph_nc_lp\n",
    "    graph:\n",
    "      nodes:\n",
    "        - num: {num_nodes}\n",
    "      edges:\n",
    "        - format: csv\n",
    "          path: {os.path.basename(edges_path)}\n",
    "    feature_data:\n",
    "      - domain: node\n",
    "        name: feat_0\n",
    "        format: numpy\n",
    "        path: {os.path.basename(node_feat_0_path)}\n",
    "      - domain: node\n",
    "        name: feat_1\n",
    "        format: torch\n",
    "        path: {os.path.basename(node_feat_1_path)}\n",
    "      - domain: edge\n",
    "        name: feat_0\n",
    "        format: numpy\n",
    "        path: {os.path.basename(edge_feat_0_path)}\n",
    "      - domain: edge\n",
    "        name: feat_1\n",
    "        format: torch\n",
    "        path: {os.path.basename(edge_feat_1_path)}\n",
    "    tasks:\n",
    "      - name: node_classification\n",
    "        num_classes: 10\n",
    "        train_set:\n",
    "          - data:\n",
    "              - name: seeds\n",
    "                format: numpy\n",
    "                path: {os.path.basename(nc_train_ids_path)}\n",
    "              - name: labels\n",
    "                format: torch\n",
    "                path: {os.path.basename(nc_train_labels_path)}\n",
    "        validation_set:\n",
    "          - data:\n",
    "              - name: seeds\n",
    "                format: numpy\n",
    "                path: {os.path.basename(nc_val_ids_path)}\n",
    "              - name: labels\n",
    "                format: torch\n",
    "                path: {os.path.basename(nc_val_labels_path)}\n",
    "        test_set:\n",
    "          - data:\n",
    "              - name: seeds\n",
    "                format: numpy\n",
    "                path: {os.path.basename(nc_test_ids_path)}\n",
    "              - name: labels\n",
    "                format: torch\n",
    "                path: {os.path.basename(nc_test_labels_path)}\n",
    "      - name: link_prediction\n",
    "        num_classes: 10\n",
    "        train_set:\n",
    "          - data:\n",
    "              - name: seeds\n",
    "                format: numpy\n",
    "                path: {os.path.basename(lp_train_seeds_path)}\n",
    "        validation_set:\n",
    "          - data:\n",
    "              - name: seeds\n",
    "                format: numpy\n",
    "                path: {os.path.basename(lp_val_seeds_path)}\n",
    "              - name: labels\n",
    "                format: numpy\n",
    "                path: {os.path.basename(lp_val_labels_path)}\n",
    "              - name: indexes\n",
    "                format: numpy\n",
    "                path: {os.path.basename(lp_val_indexes_path)}\n",
    "        test_set:\n",
    "          - data:\n",
    "              - name: seeds\n",
    "                format: numpy\n",
    "                path: {os.path.basename(lp_test_seeds_path)}\n",
    "              - name: labels\n",
    "                format: numpy\n",
    "                path: {os.path.basename(lp_test_labels_path)}\n",
    "              - name: indexes\n",
    "                format: numpy\n",
    "                path: {os.path.basename(lp_test_indexes_path)}\n",
    "\"\"\"\n",
    "metadata_path = os.path.join(base_dir, \"metadata.yaml\")\n",
    "with open(metadata_path, \"w\") as f:\n",
    "  f.write(yaml_content)"
   ]
  },
  {
   "cell_type": "markdown",
   "metadata": {
    "id": "kEfybHGhOW7O"
   },
   "source": [
    "## Instantiate `OnDiskDataset`\n",
    "Now we're ready to load dataset via `dgl.graphbolt.OnDiskDataset`. When instantiating, we just pass in the base directory where `metadata.yaml` file lies.\n",
    "\n",
    "During first instantiation, GraphBolt preprocesses the raw data such as constructing `FusedCSCSamplingGraph` from edges. All data including graph, feature data, training/validation/test sets are put into `preprocessed` directory after preprocessing. Any following dataset loading will skip the preprocess stage.\n",
    "\n",
    "After preprocessing, `load()` is required to be called explicitly in order to load graph, feature data and tasks."
   ]
  },
  {
   "cell_type": "code",
   "execution_count": 8,
   "metadata": {
    "execution": {
     "iopub.execute_input": "2024-11-02T14:50:11.407959Z",
     "iopub.status.busy": "2024-11-02T14:50:11.407549Z",
     "iopub.status.idle": "2024-11-02T14:50:11.484370Z",
     "shell.execute_reply": "2024-11-02T14:50:11.483775Z"
    },
    "id": "W58CZoSzOiyo"
   },
   "outputs": [
    {
     "name": "stdout",
     "output_type": "stream",
     "text": [
      "Start to preprocess the on-disk dataset.\n",
      "Finish preprocessing the on-disk dataset.\n",
      "Loaded graph: FusedCSCSamplingGraph(csc_indptr=tensor([    0,    11,    21,  ...,  9972,  9986, 10000], dtype=torch.int32),\n",
      "                      indices=tensor([465, 589, 839,  ..., 254,   5, 493], dtype=torch.int32),\n",
      "                      total_num_nodes=1000, num_edges=10000,)\n",
      "\n",
      "Loaded feature store: TorchBasedFeatureStore(\n",
      "    {(<OnDiskFeatureDataDomain.NODE: 'node'>, None, 'feat_0'): TorchBasedFeature(\n",
      "        feature=tensor([[0.0802, 0.4508, 0.7353, 0.6313, 0.3929],\n",
      "                        [0.0759, 0.6677, 0.2248, 0.2576, 0.2690],\n",
      "                        [0.1006, 0.1540, 0.3913, 0.2922, 0.9045],\n",
      "                        ...,\n",
      "                        [0.1261, 0.3897, 0.0141, 0.7793, 0.2773],\n",
      "                        [0.1363, 0.6746, 0.9240, 0.4020, 0.5299],\n",
      "                        [0.8673, 0.1675, 0.9693, 0.6457, 0.1918]], dtype=torch.float64),\n",
      "        metadata={},\n",
      "    ), (<OnDiskFeatureDataDomain.NODE: 'node'>, None, 'feat_1'): TorchBasedFeature(\n",
      "        feature=tensor([[0.0482, 0.4114, 0.8618, 0.9763, 0.7593],\n",
      "                        [0.0432, 0.1708, 0.5775, 0.1018, 0.1759],\n",
      "                        [0.4703, 0.7366, 0.0219, 0.9845, 0.1165],\n",
      "                        ...,\n",
      "                        [0.0978, 0.4852, 0.6309, 0.7905, 0.3766],\n",
      "                        [0.7466, 0.0105, 0.1865, 0.6668, 0.1686],\n",
      "                        [0.1472, 0.1639, 0.8010, 0.6097, 0.4735]]),\n",
      "        metadata={},\n",
      "    ), (<OnDiskFeatureDataDomain.EDGE: 'edge'>, None, 'feat_0'): TorchBasedFeature(\n",
      "        feature=tensor([[0.4251, 0.5900, 0.4698, 0.8747, 0.8483],\n",
      "                        [0.7593, 0.9701, 0.1936, 0.9725, 0.3087],\n",
      "                        [0.5706, 0.3350, 0.8920, 0.4050, 0.5488],\n",
      "                        ...,\n",
      "                        [0.4318, 0.9133, 0.1862, 0.2717, 0.0608],\n",
      "                        [0.0640, 0.3938, 0.2704, 0.5792, 0.9983],\n",
      "                        [0.9432, 0.8221, 0.7390, 0.1396, 0.8394]], dtype=torch.float64),\n",
      "        metadata={},\n",
      "    ), (<OnDiskFeatureDataDomain.EDGE: 'edge'>, None, 'feat_1'): TorchBasedFeature(\n",
      "        feature=tensor([[0.6432, 0.3211, 0.7282, 0.4649, 0.2304],\n",
      "                        [0.0715, 0.3464, 0.4521, 0.7180, 0.3077],\n",
      "                        [0.3301, 0.6696, 0.2276, 0.6640, 0.3394],\n",
      "                        ...,\n",
      "                        [0.4353, 0.4748, 0.8516, 0.3785, 0.8637],\n",
      "                        [0.1827, 0.8988, 0.8741, 0.8698, 0.5665],\n",
      "                        [0.4038, 0.4509, 0.4942, 0.4727, 0.6485]]),\n",
      "        metadata={},\n",
      "    )}\n",
      ")\n",
      "\n",
      "Loaded node classification task: OnDiskTask(validation_set=ItemSet(\n",
      "               items=(tensor([397,  97, 123, 878, 251, 458, 538, 218, 345, 147, 434, 563, 961, 208,\n",
      "                   160, 528, 623, 892, 343, 302, 550, 377, 836, 832,  15, 645, 643, 117,\n",
      "                    46,   3, 354, 770, 407,  43, 155, 616, 525, 991, 849,  17, 376, 144,\n",
      "                   939, 629, 313, 517, 296, 303,  95, 868, 992, 860, 333, 931, 353,  74,\n",
      "                   638, 137,  79, 768, 261, 915,  37, 220, 891,  51, 375, 994, 773, 617,\n",
      "                   360, 717, 102, 799, 975,  67, 572, 169, 890, 514, 596, 889, 324, 755,\n",
      "                   265, 429,  76, 487, 342, 736, 443, 264, 492, 101, 683, 827, 764, 515,\n",
      "                   962, 171, 207,  84, 593, 706, 941, 725,  42, 909, 139, 297,  98, 784,\n",
      "                   115, 141, 751, 904, 953, 834, 640, 476, 468, 246, 440, 602, 494, 396,\n",
      "                   554,  47, 472, 619, 145, 876, 666, 271, 866, 657, 166, 112, 500, 735,\n",
      "                   131, 391, 761,  71, 656, 216,   6, 561, 875, 422, 248,  99, 398, 142,\n",
      "                   281, 935, 565, 871, 121, 576, 686, 459,  11, 280, 510, 912, 589, 801,\n",
      "                   111, 621, 882,  13, 107, 996, 986, 980, 651, 549, 771, 613, 688, 877,\n",
      "                   243, 545, 520, 858, 250, 535, 752, 175, 610, 478, 471, 743, 451, 782,\n",
      "                   419, 570, 374, 320], dtype=torch.int32), tensor([4, 4, 7, 1, 4, 9, 4, 3, 6, 6, 1, 3, 9, 4, 6, 5, 5, 2, 4, 2, 0, 6, 9, 9,\n",
      "                   7, 3, 3, 9, 2, 4, 0, 1, 1, 9, 0, 0, 9, 3, 8, 5, 0, 1, 1, 7, 1, 1, 0, 9,\n",
      "                   7, 2, 8, 2, 0, 3, 9, 4, 9, 8, 2, 2, 9, 3, 6, 3, 8, 7, 7, 5, 2, 1, 5, 0,\n",
      "                   0, 1, 1, 1, 5, 0, 5, 2, 3, 0, 5, 8, 5, 3, 4, 4, 1, 7, 2, 3, 6, 9, 5, 9,\n",
      "                   3, 4, 8, 3, 6, 0, 1, 0, 1, 0, 3, 1, 9, 9, 3, 2, 7, 9, 5, 7, 2, 5, 4, 4,\n",
      "                   7, 7, 2, 0, 1, 5, 7, 6, 6, 4, 4, 2, 1, 3, 4, 5, 1, 5, 9, 4, 5, 7, 1, 6,\n",
      "                   2, 4, 3, 3, 5, 9, 7, 0, 2, 1, 2, 3, 9, 8, 3, 8, 7, 7, 4, 0, 6, 7, 8, 1,\n",
      "                   8, 4, 6, 6, 9, 0, 9, 6, 5, 5, 7, 6, 5, 8, 1, 4, 3, 8, 8, 3, 0, 6, 0, 4,\n",
      "                   0, 2, 3, 0, 6, 7, 2, 4])),\n",
      "               names=('seeds', 'labels'),\n",
      "           ),\n",
      "           train_set=ItemSet(\n",
      "               items=(tensor([829,  10, 149, 718, 932, 237, 897, 356, 552, 308, 612, 721, 703, 689,\n",
      "                    68, 134, 881, 715, 847, 921, 779, 154, 947, 239, 707, 796, 310, 299,\n",
      "                   212, 929, 978, 732, 417, 710, 852, 587, 792, 590, 884, 247, 255, 244,\n",
      "                   618, 326, 465,  55, 984, 598, 402, 309, 503, 722, 314, 546, 332, 963,\n",
      "                   428, 537, 506, 965, 925, 894,  36,  16, 315, 757, 467, 580,  21, 668,\n",
      "                   321, 738, 361, 219, 918, 916, 453, 595, 940, 206, 185, 729, 685, 971,\n",
      "                   362, 194, 607, 300,  53, 964, 749, 209, 262, 898,  93, 821, 452, 747,\n",
      "                   650,   1, 857, 273, 548, 578, 339, 493, 765, 786,  72, 221, 161, 441,\n",
      "                   413, 730, 559, 624, 164, 445, 762, 389,  20, 990, 158, 820, 754, 758,\n",
      "                   230, 400, 406, 518, 841, 983, 566, 184,   0, 266, 195, 955, 652, 414,\n",
      "                   679, 242, 370, 203, 879, 386, 378, 448, 196,  12, 733, 364, 157,  52,\n",
      "                   373, 611, 850, 803, 848, 286, 138, 969, 693,  62, 976, 573, 833, 168,\n",
      "                   210, 608, 901, 805, 888, 968, 920, 182, 584, 276, 774, 819, 508, 435,\n",
      "                     4, 128, 899, 919, 423, 408, 541, 628, 372, 430, 129,  19, 626, 654,\n",
      "                   567, 457, 586, 998,  23, 116, 649, 496, 387, 938, 789, 727, 614, 822,\n",
      "                   284, 274, 609, 483, 473, 446, 675, 234,  61, 365, 585,  94, 482,  80,\n",
      "                   363, 695, 740, 312, 723, 815, 426, 794, 163, 759, 285, 330, 174, 766,\n",
      "                   674, 269, 734, 746, 698, 956, 305, 539, 167,  38, 513, 924, 331, 763,\n",
      "                   306, 713, 108, 260, 350, 902,  75, 673, 279, 828, 231, 540,  65, 854,\n",
      "                   254, 700, 463, 634, 661, 475, 337, 913, 484, 883, 257,  14,  50, 455,\n",
      "                   846, 317, 477, 151, 132, 972, 785, 560, 150, 603,  83, 531, 388, 126,\n",
      "                    45, 903, 489, 838, 222, 153, 359, 644, 831, 753, 604,  22, 551, 319,\n",
      "                   937, 464, 110, 702, 433, 842, 917, 948, 840, 870, 275, 653, 130, 605,\n",
      "                   447, 322, 910, 926, 694,  56, 217, 425, 809, 335, 793, 837, 911, 298,\n",
      "                   817, 170, 960, 190, 202, 148, 687, 982, 677, 532, 600, 790, 228, 381,\n",
      "                   344, 558, 895, 807, 985,  28, 346, 908, 697, 862, 501, 557, 949,  57,\n",
      "                   509, 470,  29, 395, 162, 756,  81, 442, 504, 118, 307, 636, 233, 887,\n",
      "                   646, 873, 367, 383, 109, 681, 989, 787, 179, 851, 676, 750, 934, 744,\n",
      "                   856, 480, 409, 198, 214, 224,  85, 665, 582, 358, 199, 970, 795, 658,\n",
      "                   232, 431, 741, 872, 454, 620, 922, 519, 659, 197, 952, 290, 187, 760,\n",
      "                   392, 905, 512, 404, 810, 466, 669, 716, 328, 384, 823, 928, 437, 648,\n",
      "                   263, 671, 896, 863, 583, 416, 737, 103,  49, 775, 411,  27, 788,  34,\n",
      "                   124, 511, 105,  88, 943, 193, 499, 633, 933, 347, 945, 615, 135, 745,\n",
      "                   516, 201, 979, 334, 639, 957, 664, 366, 930, 588, 859,  54, 642, 213,\n",
      "                   709, 581, 113, 357,  39, 348, 241, 564, 987, 880, 708, 542, 498, 641,\n",
      "                   544, 156, 534, 684, 574, 814, 432, 944,  91,  66, 318, 950, 701, 772,\n",
      "                   505, 627, 568, 390, 739, 597, 813, 245, 993, 325,   9, 869, 449, 555,\n",
      "                   371, 680, 954, 527,  25, 742, 420, 136,  31, 767, 662, 655, 691, 133,\n",
      "                    44, 748, 825, 460,  73,  63, 502, 724, 421,   2, 267, 481, 252, 295,\n",
      "                   997, 289, 632, 176,   8, 165, 379, 277, 236,  77, 336,  40, 456, 272,\n",
      "                   811, 579, 253, 258, 914, 403, 382, 122, 143, 462,  92, 200, 625, 327,\n",
      "                    78, 522, 712, 427, 394, 844, 923,  48, 843, 885, 226, 424, 577, 291,\n",
      "                   981,   7, 995, 728, 444, 436, 571,  60, 127, 530, 287, 283],\n",
      "                  dtype=torch.int32), tensor([9, 9, 3, 1, 5, 4, 8, 7, 8, 0, 4, 3, 2, 3, 0, 3, 9, 6, 7, 2, 8, 3, 7, 2,\n",
      "                   0, 3, 4, 4, 6, 4, 7, 4, 7, 2, 5, 3, 3, 1, 6, 3, 3, 1, 6, 6, 8, 7, 1, 1,\n",
      "                   9, 0, 2, 7, 9, 9, 2, 8, 9, 7, 0, 8, 1, 5, 6, 9, 0, 7, 6, 5, 0, 4, 1, 7,\n",
      "                   9, 8, 4, 4, 0, 6, 9, 6, 2, 5, 3, 4, 9, 2, 0, 3, 6, 8, 9, 2, 3, 1, 0, 8,\n",
      "                   5, 5, 6, 7, 7, 4, 5, 3, 1, 9, 2, 7, 5, 3, 4, 6, 8, 3, 5, 4, 9, 4, 0, 1,\n",
      "                   4, 9, 5, 8, 6, 0, 7, 8, 4, 5, 0, 3, 8, 2, 6, 0, 5, 0, 9, 9, 6, 5, 1, 7,\n",
      "                   4, 3, 1, 8, 9, 6, 6, 1, 2, 0, 2, 2, 4, 4, 6, 0, 6, 1, 5, 1, 3, 0, 8, 6,\n",
      "                   4, 8, 7, 1, 8, 5, 8, 0, 0, 2, 8, 1, 8, 3, 7, 4, 1, 2, 4, 0, 8, 0, 0, 6,\n",
      "                   3, 9, 5, 2, 6, 3, 5, 7, 9, 1, 6, 2, 3, 9, 9, 0, 0, 5, 3, 5, 4, 7, 8, 5,\n",
      "                   7, 0, 2, 7, 7, 0, 2, 0, 9, 8, 0, 7, 5, 9, 6, 7, 9, 6, 2, 3, 4, 6, 9, 0,\n",
      "                   4, 4, 3, 1, 3, 3, 1, 4, 7, 4, 1, 6, 5, 6, 2, 3, 4, 3, 4, 7, 5, 6, 6, 3,\n",
      "                   8, 7, 8, 2, 9, 6, 7, 7, 3, 4, 3, 1, 8, 5, 7, 6, 7, 6, 1, 2, 1, 0, 2, 1,\n",
      "                   2, 2, 4, 9, 7, 5, 8, 0, 7, 4, 4, 7, 0, 5, 5, 0, 5, 4, 7, 7, 1, 2, 4, 2,\n",
      "                   7, 5, 7, 5, 2, 3, 2, 0, 2, 4, 5, 0, 7, 0, 0, 9, 3, 9, 8, 5, 3, 5, 6, 8,\n",
      "                   0, 7, 7, 3, 8, 9, 1, 6, 7, 6, 3, 1, 8, 6, 6, 2, 6, 7, 7, 4, 8, 0, 1, 6,\n",
      "                   3, 4, 6, 2, 4, 5, 4, 2, 1, 0, 3, 4, 3, 7, 6, 8, 3, 9, 8, 6, 1, 2, 2, 4,\n",
      "                   5, 1, 1, 8, 8, 9, 3, 7, 2, 8, 0, 0, 3, 7, 0, 8, 5, 0, 2, 8, 5, 3, 1, 4,\n",
      "                   7, 1, 1, 6, 4, 1, 4, 2, 2, 6, 6, 6, 9, 6, 2, 4, 8, 4, 0, 7, 4, 4, 9, 7,\n",
      "                   3, 5, 1, 3, 4, 6, 0, 1, 9, 6, 9, 6, 9, 6, 2, 0, 1, 8, 7, 5, 8, 2, 2, 7,\n",
      "                   0, 6, 1, 3, 8, 4, 7, 5, 9, 1, 0, 7, 4, 8, 3, 6, 8, 2, 4, 1, 5, 6, 4, 0,\n",
      "                   4, 6, 7, 8, 1, 9, 5, 3, 2, 2, 4, 8, 8, 1, 0, 8, 6, 9, 0, 7, 3, 2, 7, 8,\n",
      "                   6, 3, 1, 2, 5, 1, 7, 8, 0, 2, 8, 3, 2, 1, 2, 7, 8, 8, 2, 8, 5, 9, 7, 7,\n",
      "                   6, 9, 5, 8, 5, 9, 7, 0, 6, 6, 9, 3, 4, 8, 5, 4, 7, 5, 2, 0, 7, 3, 4, 9,\n",
      "                   3, 8, 4, 6, 7, 8, 8, 9, 3, 1, 6, 5, 7, 5, 1, 4, 9, 1, 5, 0, 0, 2, 6, 1,\n",
      "                   6, 9, 3, 2, 1, 0, 1, 2, 8, 9, 3, 1, 8, 3, 9, 8, 0, 9, 2, 3, 3, 4, 2, 0])),\n",
      "               names=('seeds', 'labels'),\n",
      "           ),\n",
      "           test_set=ItemSet(\n",
      "               items=(tensor([778,  59, 507, 802, 592, 547, 238, 329, 278, 186, 526, 439, 159, 769,\n",
      "                   711, 355, 229, 293, 536,  41, 663,  58, 777, 927, 543, 106, 647, 798,\n",
      "                   808, 521, 340, 259, 100, 140, 556, 599,  90, 942, 690, 368, 173, 867,\n",
      "                   188, 301, 495, 780, 249, 180, 469, 418, 282, 806, 288, 146, 524, 311,\n",
      "                   523,  18,  87, 385, 474, 177, 601, 874, 183, 900, 781, 907, 791, 569,\n",
      "                   622, 906, 438, 966, 125, 812, 958, 490, 692,   5, 830, 816, 719, 804,\n",
      "                   893, 864, 660, 865, 731, 594, 461, 861, 338, 172, 380, 562, 886, 672,\n",
      "                   211, 973,  32, 412, 369, 704, 999, 988, 783, 240, 415, 205, 591, 631,\n",
      "                   630, 826, 682, 974, 120, 967, 959, 533, 705, 855, 268, 946, 223, 776,\n",
      "                    35, 204, 351, 341,  70, 256, 714, 399, 215, 450,  33,  30, 699,  89,\n",
      "                   181, 192,  86, 235, 635, 670, 225, 189, 410, 401, 323,  64, 977, 393,\n",
      "                   152, 575, 294, 853, 191, 292, 486, 951, 497,  26, 491, 678,  96, 479,\n",
      "                   637, 824, 720, 835,  69, 178, 818, 839, 352, 845, 270, 488, 405, 529,\n",
      "                   114, 485, 726, 104, 696, 304, 316,  82, 667, 606,  24, 553, 227, 119,\n",
      "                   797, 936, 349, 800], dtype=torch.int32), tensor([9, 1, 6, 7, 8, 3, 0, 4, 1, 0, 7, 6, 6, 2, 6, 4, 8, 7, 5, 1, 9, 7, 0, 6,\n",
      "                   6, 9, 2, 4, 4, 8, 9, 3, 9, 0, 1, 3, 7, 1, 1, 2, 5, 4, 2, 7, 4, 3, 1, 6,\n",
      "                   4, 8, 9, 8, 0, 7, 6, 1, 4, 4, 7, 6, 0, 6, 4, 4, 1, 8, 1, 1, 9, 9, 8, 8,\n",
      "                   1, 2, 3, 5, 0, 3, 6, 4, 3, 3, 0, 6, 9, 6, 9, 8, 9, 7, 2, 2, 3, 4, 1, 8,\n",
      "                   3, 0, 1, 2, 1, 3, 8, 6, 8, 0, 0, 0, 3, 8, 0, 0, 1, 9, 9, 3, 2, 3, 5, 6,\n",
      "                   9, 7, 7, 7, 7, 1, 7, 2, 0, 7, 1, 7, 7, 3, 0, 1, 9, 9, 5, 8, 1, 5, 3, 8,\n",
      "                   1, 1, 8, 8, 2, 0, 7, 2, 0, 6, 2, 7, 5, 9, 8, 9, 5, 4, 9, 9, 1, 1, 9, 7,\n",
      "                   8, 5, 8, 5, 4, 6, 9, 1, 6, 3, 6, 8, 9, 6, 9, 4, 8, 3, 0, 7, 7, 1, 5, 5,\n",
      "                   0, 5, 7, 4, 7, 0, 3, 7])),\n",
      "               names=('seeds', 'labels'),\n",
      "           ),\n",
      "           metadata={'name': 'node_classification', 'num_classes': 10},)\n",
      "\n",
      "Loaded link prediction task: OnDiskTask(validation_set=ItemSet(\n",
      "               items=(tensor([[846, 504],\n",
      "                   [539, 762],\n",
      "                   [350, 444],\n",
      "                   ...,\n",
      "                   [667, 132],\n",
      "                   [667, 326],\n",
      "                   [667, 413]], dtype=torch.int32), tensor([1., 1., 1.,  ..., 0., 0., 0.], dtype=torch.float64), tensor([   0,    1,    2,  ..., 1999, 1999, 1999])),\n",
      "               names=('seeds', 'labels', 'indexes'),\n",
      "           ),\n",
      "           train_set=ItemSet(\n",
      "               items=(tensor([[610,  45],\n",
      "                   [814, 889],\n",
      "                   [389, 303],\n",
      "                   ...,\n",
      "                   [736, 851],\n",
      "                   [823, 382],\n",
      "                   [354, 622]], dtype=torch.int32),),\n",
      "               names=('seeds',),\n",
      "           ),\n",
      "           test_set=ItemSet(\n",
      "               items=(tensor([[581, 682],\n",
      "                   [428,  61],\n",
      "                   [485,  40],\n",
      "                   ...,\n",
      "                   [182, 764],\n",
      "                   [182, 781],\n",
      "                   [182, 955]], dtype=torch.int32), tensor([1., 1., 1.,  ..., 0., 0., 0.], dtype=torch.float64), tensor([   0,    1,    2,  ..., 1999, 1999, 1999])),\n",
      "               names=('seeds', 'labels', 'indexes'),\n",
      "           ),\n",
      "           metadata={'name': 'link_prediction', 'num_classes': 10},)\n",
      "\n"
     ]
    },
    {
     "name": "stderr",
     "output_type": "stream",
     "text": [
      "/dgl/python/dgl/graphbolt/impl/ondisk_dataset.py:463: GBWarning: Edge feature is stored, but edge IDs are not saved.\n",
      "  gb_warning(\"Edge feature is stored, but edge IDs are not saved.\")\n"
     ]
    }
   ],
   "source": [
    "dataset = gb.OnDiskDataset(base_dir).load()\n",
    "graph = dataset.graph\n",
    "print(f\"Loaded graph: {graph}\\n\")\n",
    "\n",
    "feature = dataset.feature\n",
    "print(f\"Loaded feature store: {feature}\\n\")\n",
    "\n",
    "tasks = dataset.tasks\n",
    "nc_task = tasks[0]\n",
    "print(f\"Loaded node classification task: {nc_task}\\n\")\n",
    "lp_task = tasks[1]\n",
    "print(f\"Loaded link prediction task: {lp_task}\\n\")"
   ]
  }
 ],
 "metadata": {
  "colab": {
   "private_outputs": true,
   "provenance": []
  },
  "kernelspec": {
   "display_name": "Python 3",
   "name": "python3"
  },
  "language_info": {
   "codemirror_mode": {
    "name": "ipython",
    "version": 3
   },
   "file_extension": ".py",
   "mimetype": "text/x-python",
   "name": "python",
   "nbconvert_exporter": "python",
   "pygments_lexer": "ipython3",
   "version": "3.10.15"
  }
 },
 "nbformat": 4,
 "nbformat_minor": 0
}

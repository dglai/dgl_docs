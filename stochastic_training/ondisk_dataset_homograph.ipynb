{
 "cells": [
  {
   "cell_type": "markdown",
   "metadata": {
    "id": "FnFhPMaAfLtJ"
   },
   "source": [
    "# OnDiskDataset for Homogeneous Graph\n",
    "\n",
    "[![Open In Colab](https://colab.research.google.com/assets/colab-badge.svg)](https://colab.research.google.com/github/dmlc/dgl/blob/master/notebooks/stochastic_training/ondisk_dataset_homograph.ipynb) [![GitHub](https://img.shields.io/badge/-View%20on%20GitHub-181717?logo=github&logoColor=ffffff)](https://github.com/dmlc/dgl/blob/master/notebooks/stochastic_training/ondisk_dataset_homograph.ipynb)\n",
    "\n",
    "This tutorial shows how to create `OnDiskDataset` for homogeneous graph that could be used in **GraphBolt** framework.\n",
    "\n",
    "By the end of this tutorial, you will be able to\n",
    "\n",
    "- organize graph structure data.\n",
    "- organize feature data.\n",
    "- organize training/validation/test set for specific tasks.\n",
    "\n",
    "To create an ``OnDiskDataset`` object, you need to organize all the data including graph structure, feature data and tasks into a directory. The directory should contain a ``metadata.yaml`` file that describes the metadata of the dataset.\n",
    "\n",
    "Now let's generate various data step by step and organize them together to instantiate `OnDiskDataset` finally."
   ]
  },
  {
   "cell_type": "markdown",
   "metadata": {
    "id": "Wlb19DtWgtzq"
   },
   "source": [
    "## Install DGL package"
   ]
  },
  {
   "cell_type": "code",
   "execution_count": 1,
   "metadata": {
    "execution": {
     "iopub.execute_input": "2024-11-01T13:49:28.129492Z",
     "iopub.status.busy": "2024-11-01T13:49:28.129127Z",
     "iopub.status.idle": "2024-11-01T13:49:31.180940Z",
     "shell.execute_reply": "2024-11-01T13:49:31.179947Z"
    },
    "id": "UojlT9ZGgyr9"
   },
   "outputs": [
    {
     "name": "stdout",
     "output_type": "stream",
     "text": [
      "Looking in links: https://data.dgl.ai/wheels-test/repo.html\r\n",
      "Requirement already satisfied: dgl in /opt/conda/envs/dgl-dev-cpu/lib/python3.10/site-packages (2.2a240410)\r\n",
      "Requirement already satisfied: numpy>=1.14.0 in /opt/conda/envs/dgl-dev-cpu/lib/python3.10/site-packages (from dgl) (1.26.4)\r\n",
      "Requirement already satisfied: scipy>=1.1.0 in /opt/conda/envs/dgl-dev-cpu/lib/python3.10/site-packages (from dgl) (1.14.1)\r\n",
      "Requirement already satisfied: networkx>=2.1 in /opt/conda/envs/dgl-dev-cpu/lib/python3.10/site-packages (from dgl) (3.4.2)\r\n",
      "Requirement already satisfied: requests>=2.19.0 in /opt/conda/envs/dgl-dev-cpu/lib/python3.10/site-packages (from dgl) (2.32.3)\r\n",
      "Requirement already satisfied: tqdm in /opt/conda/envs/dgl-dev-cpu/lib/python3.10/site-packages (from dgl) (4.66.6)\r\n",
      "Requirement already satisfied: psutil>=5.8.0 in /opt/conda/envs/dgl-dev-cpu/lib/python3.10/site-packages (from dgl) (6.1.0)\r\n",
      "Requirement already satisfied: torchdata>=0.5.0 in /opt/conda/envs/dgl-dev-cpu/lib/python3.10/site-packages (from dgl) (0.9.0)\r\n",
      "Requirement already satisfied: pandas in /opt/conda/envs/dgl-dev-cpu/lib/python3.10/site-packages (from dgl) (2.2.3)\r\n"
     ]
    },
    {
     "name": "stdout",
     "output_type": "stream",
     "text": [
      "Requirement already satisfied: charset-normalizer<4,>=2 in /opt/conda/envs/dgl-dev-cpu/lib/python3.10/site-packages (from requests>=2.19.0->dgl) (3.4.0)\r\n",
      "Requirement already satisfied: idna<4,>=2.5 in /opt/conda/envs/dgl-dev-cpu/lib/python3.10/site-packages (from requests>=2.19.0->dgl) (3.10)\r\n",
      "Requirement already satisfied: urllib3<3,>=1.21.1 in /opt/conda/envs/dgl-dev-cpu/lib/python3.10/site-packages (from requests>=2.19.0->dgl) (2.2.3)\r\n",
      "Requirement already satisfied: certifi>=2017.4.17 in /opt/conda/envs/dgl-dev-cpu/lib/python3.10/site-packages (from requests>=2.19.0->dgl) (2024.8.30)\r\n",
      "Requirement already satisfied: torch>=2 in /opt/conda/envs/dgl-dev-cpu/lib/python3.10/site-packages (from torchdata>=0.5.0->dgl) (2.1.0+cpu)\r\n"
     ]
    },
    {
     "name": "stdout",
     "output_type": "stream",
     "text": [
      "Requirement already satisfied: python-dateutil>=2.8.2 in /opt/conda/envs/dgl-dev-cpu/lib/python3.10/site-packages (from pandas->dgl) (2.9.0.post0)\r\n",
      "Requirement already satisfied: pytz>=2020.1 in /opt/conda/envs/dgl-dev-cpu/lib/python3.10/site-packages (from pandas->dgl) (2024.2)\r\n",
      "Requirement already satisfied: tzdata>=2022.7 in /opt/conda/envs/dgl-dev-cpu/lib/python3.10/site-packages (from pandas->dgl) (2024.2)\r\n",
      "Requirement already satisfied: six>=1.5 in /opt/conda/envs/dgl-dev-cpu/lib/python3.10/site-packages (from python-dateutil>=2.8.2->pandas->dgl) (1.16.0)\r\n",
      "Requirement already satisfied: filelock in /opt/conda/envs/dgl-dev-cpu/lib/python3.10/site-packages (from torch>=2->torchdata>=0.5.0->dgl) (3.16.1)\r\n",
      "Requirement already satisfied: typing-extensions in /opt/conda/envs/dgl-dev-cpu/lib/python3.10/site-packages (from torch>=2->torchdata>=0.5.0->dgl) (4.12.2)\r\n",
      "Requirement already satisfied: sympy in /opt/conda/envs/dgl-dev-cpu/lib/python3.10/site-packages (from torch>=2->torchdata>=0.5.0->dgl) (1.13.3)\r\n",
      "Requirement already satisfied: jinja2 in /opt/conda/envs/dgl-dev-cpu/lib/python3.10/site-packages (from torch>=2->torchdata>=0.5.0->dgl) (3.1.4)\r\n",
      "Requirement already satisfied: fsspec in /opt/conda/envs/dgl-dev-cpu/lib/python3.10/site-packages (from torch>=2->torchdata>=0.5.0->dgl) (2024.10.0)\r\n"
     ]
    },
    {
     "name": "stdout",
     "output_type": "stream",
     "text": [
      "Requirement already satisfied: MarkupSafe>=2.0 in /opt/conda/envs/dgl-dev-cpu/lib/python3.10/site-packages (from jinja2->torch>=2->torchdata>=0.5.0->dgl) (3.0.2)\r\n",
      "Requirement already satisfied: mpmath<1.4,>=1.1.0 in /opt/conda/envs/dgl-dev-cpu/lib/python3.10/site-packages (from sympy->torch>=2->torchdata>=0.5.0->dgl) (1.3.0)\r\n"
     ]
    },
    {
     "name": "stdout",
     "output_type": "stream",
     "text": [
      "\u001b[33mWARNING: Running pip as the 'root' user can result in broken permissions and conflicting behaviour with the system package manager, possibly rendering your system unusable.It is recommended to use a virtual environment instead: https://pip.pypa.io/warnings/venv. Use the --root-user-action option if you know what you are doing and want to suppress this warning.\u001b[0m\u001b[33m\r\n",
      "\u001b[0m"
     ]
    },
    {
     "name": "stdout",
     "output_type": "stream",
     "text": [
      "DGL installed!\n"
     ]
    }
   ],
   "source": [
    "# Install required packages.\n",
    "import os\n",
    "import torch\n",
    "import numpy as np\n",
    "os.environ['TORCH'] = torch.__version__\n",
    "os.environ['DGLBACKEND'] = \"pytorch\"\n",
    "\n",
    "# Install the CPU version.\n",
    "device = torch.device(\"cpu\")\n",
    "!pip install --pre dgl -f https://data.dgl.ai/wheels-test/repo.html\n",
    "\n",
    "try:\n",
    "    import dgl\n",
    "    import dgl.graphbolt as gb\n",
    "    installed = True\n",
    "except ImportError as error:\n",
    "    installed = False\n",
    "    print(error)\n",
    "print(\"DGL installed!\" if installed else \"DGL not found!\")"
   ]
  },
  {
   "cell_type": "markdown",
   "metadata": {
    "id": "2R7WnSbjsfbr"
   },
   "source": [
    "## Data preparation\n",
    "In order to demonstrate how to organize various data, let's create a base directory first."
   ]
  },
  {
   "cell_type": "code",
   "execution_count": 2,
   "metadata": {
    "execution": {
     "iopub.execute_input": "2024-11-01T13:49:31.184067Z",
     "iopub.status.busy": "2024-11-01T13:49:31.183344Z",
     "iopub.status.idle": "2024-11-01T13:49:31.188946Z",
     "shell.execute_reply": "2024-11-01T13:49:31.187957Z"
    },
    "id": "SZipbzyltLfO"
   },
   "outputs": [
    {
     "name": "stdout",
     "output_type": "stream",
     "text": [
      "Created base directory: ./ondisk_dataset_homograph\n"
     ]
    }
   ],
   "source": [
    "base_dir = './ondisk_dataset_homograph'\n",
    "os.makedirs(base_dir, exist_ok=True)\n",
    "print(f\"Created base directory: {base_dir}\")"
   ]
  },
  {
   "cell_type": "markdown",
   "metadata": {
    "id": "qhNtIn_xhlnl"
   },
   "source": [
    "### Generate graph structure data\n",
    "For homogeneous graph, we just need to save edges(namely seeds) into  **Numpy** or **CSV** file.\n",
    "\n",
    "Note:\n",
    "- when saving to **Numpy**, the array requires to be in shape of `(2, N)`. This format is recommended as constructing graph from it is much faster than **CSV** file.\n",
    "- when saving to **CSV** file, do not save index and header.\n"
   ]
  },
  {
   "cell_type": "code",
   "execution_count": 3,
   "metadata": {
    "execution": {
     "iopub.execute_input": "2024-11-01T13:49:31.191500Z",
     "iopub.status.busy": "2024-11-01T13:49:31.191030Z",
     "iopub.status.idle": "2024-11-01T13:49:31.205158Z",
     "shell.execute_reply": "2024-11-01T13:49:31.204318Z"
    },
    "id": "HcBt4G5BmSjr"
   },
   "outputs": [
    {
     "name": "stdout",
     "output_type": "stream",
     "text": [
      "Part of edges: [[208 446]\n",
      " [ 10 132]\n",
      " [680 795]\n",
      " [170 406]\n",
      " [336 166]]\n",
      "Edges are saved into ./ondisk_dataset_homograph/edges.csv\n"
     ]
    }
   ],
   "source": [
    "import numpy as np\n",
    "import pandas as pd\n",
    "num_nodes = 1000\n",
    "num_edges = 10 * num_nodes\n",
    "edges_path = os.path.join(base_dir, \"edges.csv\")\n",
    "edges = np.random.randint(0, num_nodes, size=(num_edges, 2))\n",
    "\n",
    "print(f\"Part of edges: {edges[:5, :]}\")\n",
    "\n",
    "df = pd.DataFrame(edges)\n",
    "df.to_csv(edges_path, index=False, header=False)\n",
    "\n",
    "print(f\"Edges are saved into {edges_path}\")"
   ]
  },
  {
   "cell_type": "markdown",
   "metadata": {
    "id": "kh-4cPtzpcaH"
   },
   "source": [
    "### Generate feature data for graph\n",
    "For feature data, numpy arrays and torch tensors are supported for now."
   ]
  },
  {
   "cell_type": "code",
   "execution_count": 4,
   "metadata": {
    "execution": {
     "iopub.execute_input": "2024-11-01T13:49:31.207591Z",
     "iopub.status.busy": "2024-11-01T13:49:31.207155Z",
     "iopub.status.idle": "2024-11-01T13:49:31.226602Z",
     "shell.execute_reply": "2024-11-01T13:49:31.225710Z"
    },
    "id": "_PVu1u5brBhF"
   },
   "outputs": [
    {
     "name": "stdout",
     "output_type": "stream",
     "text": [
      "Part of node feature [feat_0]: [[0.91510083 0.63786615 0.93238192 0.46661903 0.42334653]\n",
      " [0.934742   0.1328642  0.18427683 0.07307913 0.2111537 ]\n",
      " [0.10429108 0.56802301 0.10758424 0.65789129 0.05434238]]\n",
      "Node feature [feat_0] is saved to ./ondisk_dataset_homograph/node-feat-0.npy\n",
      "\n",
      "Part of node feature [feat_1]: tensor([[0.9212, 0.7618, 0.8439, 0.9262, 0.2817],\n",
      "        [0.4262, 0.0022, 0.6239, 0.9337, 0.8147],\n",
      "        [0.5774, 0.9061, 0.2543, 0.0525, 0.5859]])\n",
      "Node feature [feat_1] is saved to ./ondisk_dataset_homograph/node-feat-1.pt\n",
      "\n",
      "Part of edge feature [feat_0]: [[0.08113474 0.63546614 0.59217508 0.20646446 0.49770891]\n",
      " [0.89507317 0.09184916 0.85203577 0.22444137 0.30549849]\n",
      " [0.06236012 0.90535246 0.93174764 0.83188894 0.87937256]]\n",
      "Edge feature [feat_0] is saved to ./ondisk_dataset_homograph/edge-feat-0.npy\n",
      "\n",
      "Part of edge feature [feat_1]: tensor([[0.0787, 0.0171, 0.4224, 0.6435, 0.6535],\n",
      "        [0.8201, 0.0709, 0.4967, 0.9385, 0.4215],\n",
      "        [0.8851, 0.7687, 0.0606, 0.8127, 0.3114]])\n",
      "Edge feature [feat_1] is saved to ./ondisk_dataset_homograph/edge-feat-1.pt\n",
      "\n"
     ]
    }
   ],
   "source": [
    "# Generate node feature in numpy array.\n",
    "node_feat_0_path = os.path.join(base_dir, \"node-feat-0.npy\")\n",
    "node_feat_0 = np.random.rand(num_nodes, 5)\n",
    "print(f\"Part of node feature [feat_0]: {node_feat_0[:3, :]}\")\n",
    "np.save(node_feat_0_path, node_feat_0)\n",
    "print(f\"Node feature [feat_0] is saved to {node_feat_0_path}\\n\")\n",
    "\n",
    "# Generate another node feature in torch tensor\n",
    "node_feat_1_path = os.path.join(base_dir, \"node-feat-1.pt\")\n",
    "node_feat_1 = torch.rand(num_nodes, 5)\n",
    "print(f\"Part of node feature [feat_1]: {node_feat_1[:3, :]}\")\n",
    "torch.save(node_feat_1, node_feat_1_path)\n",
    "print(f\"Node feature [feat_1] is saved to {node_feat_1_path}\\n\")\n",
    "\n",
    "# Generate edge feature in numpy array.\n",
    "edge_feat_0_path = os.path.join(base_dir, \"edge-feat-0.npy\")\n",
    "edge_feat_0 = np.random.rand(num_edges, 5)\n",
    "print(f\"Part of edge feature [feat_0]: {edge_feat_0[:3, :]}\")\n",
    "np.save(edge_feat_0_path, edge_feat_0)\n",
    "print(f\"Edge feature [feat_0] is saved to {edge_feat_0_path}\\n\")\n",
    "\n",
    "# Generate another edge feature in torch tensor\n",
    "edge_feat_1_path = os.path.join(base_dir, \"edge-feat-1.pt\")\n",
    "edge_feat_1 = torch.rand(num_edges, 5)\n",
    "print(f\"Part of edge feature [feat_1]: {edge_feat_1[:3, :]}\")\n",
    "torch.save(edge_feat_1, edge_feat_1_path)\n",
    "print(f\"Edge feature [feat_1] is saved to {edge_feat_1_path}\\n\")\n"
   ]
  },
  {
   "cell_type": "markdown",
   "metadata": {
    "id": "ZyqgOtsIwzh_"
   },
   "source": [
    "### Generate tasks\n",
    "`OnDiskDataset` supports multiple tasks. For each task, we need to prepare training/validation/test sets respectively. Such sets usually vary among different tasks. In this tutorial, let's create a **Node Classification** task and **Link Prediction** task."
   ]
  },
  {
   "cell_type": "markdown",
   "metadata": {
    "id": "hVxHaDIfzCkr"
   },
   "source": [
    "#### Node Classification Task\n",
    "For node classification task, we need **node IDs** and corresponding **labels** for each training/validation/test set. Like feature data, numpy arrays and torch tensors are supported for these sets."
   ]
  },
  {
   "cell_type": "code",
   "execution_count": 5,
   "metadata": {
    "execution": {
     "iopub.execute_input": "2024-11-01T13:49:31.229113Z",
     "iopub.status.busy": "2024-11-01T13:49:31.228712Z",
     "iopub.status.idle": "2024-11-01T13:49:31.241166Z",
     "shell.execute_reply": "2024-11-01T13:49:31.240336Z"
    },
    "id": "S5-fyBbHzTCO"
   },
   "outputs": [
    {
     "name": "stdout",
     "output_type": "stream",
     "text": [
      "Part of train ids for node classification: [758 194 283]\n",
      "NC train ids are saved to ./ondisk_dataset_homograph/nc-train-ids.npy\n",
      "\n",
      "Part of train labels for node classification: tensor([4, 2, 7])\n",
      "NC train labels are saved to ./ondisk_dataset_homograph/nc-train-labels.pt\n",
      "\n",
      "Part of val ids for node classification: [221 745 296]\n",
      "NC val ids are saved to ./ondisk_dataset_homograph/nc-val-ids.npy\n",
      "\n",
      "Part of val labels for node classification: tensor([4, 5, 0])\n",
      "NC val labels are saved to ./ondisk_dataset_homograph/nc-val-labels.pt\n",
      "\n",
      "Part of test ids for node classification: [919 311 990]\n",
      "NC test ids are saved to ./ondisk_dataset_homograph/nc-test-ids.npy\n",
      "\n",
      "Part of test labels for node classification: tensor([1, 3, 4])\n",
      "NC test labels are saved to ./ondisk_dataset_homograph/nc-test-labels.pt\n",
      "\n"
     ]
    }
   ],
   "source": [
    "num_trains = int(num_nodes * 0.6)\n",
    "num_vals = int(num_nodes * 0.2)\n",
    "num_tests = num_nodes - num_trains - num_vals\n",
    "\n",
    "ids = np.arange(num_nodes)\n",
    "np.random.shuffle(ids)\n",
    "\n",
    "nc_train_ids_path = os.path.join(base_dir, \"nc-train-ids.npy\")\n",
    "nc_train_ids = ids[:num_trains]\n",
    "print(f\"Part of train ids for node classification: {nc_train_ids[:3]}\")\n",
    "np.save(nc_train_ids_path, nc_train_ids)\n",
    "print(f\"NC train ids are saved to {nc_train_ids_path}\\n\")\n",
    "\n",
    "nc_train_labels_path = os.path.join(base_dir, \"nc-train-labels.pt\")\n",
    "nc_train_labels = torch.randint(0, 10, (num_trains,))\n",
    "print(f\"Part of train labels for node classification: {nc_train_labels[:3]}\")\n",
    "torch.save(nc_train_labels, nc_train_labels_path)\n",
    "print(f\"NC train labels are saved to {nc_train_labels_path}\\n\")\n",
    "\n",
    "nc_val_ids_path = os.path.join(base_dir, \"nc-val-ids.npy\")\n",
    "nc_val_ids = ids[num_trains:num_trains+num_vals]\n",
    "print(f\"Part of val ids for node classification: {nc_val_ids[:3]}\")\n",
    "np.save(nc_val_ids_path, nc_val_ids)\n",
    "print(f\"NC val ids are saved to {nc_val_ids_path}\\n\")\n",
    "\n",
    "nc_val_labels_path = os.path.join(base_dir, \"nc-val-labels.pt\")\n",
    "nc_val_labels = torch.randint(0, 10, (num_vals,))\n",
    "print(f\"Part of val labels for node classification: {nc_val_labels[:3]}\")\n",
    "torch.save(nc_val_labels, nc_val_labels_path)\n",
    "print(f\"NC val labels are saved to {nc_val_labels_path}\\n\")\n",
    "\n",
    "nc_test_ids_path = os.path.join(base_dir, \"nc-test-ids.npy\")\n",
    "nc_test_ids = ids[-num_tests:]\n",
    "print(f\"Part of test ids for node classification: {nc_test_ids[:3]}\")\n",
    "np.save(nc_test_ids_path, nc_test_ids)\n",
    "print(f\"NC test ids are saved to {nc_test_ids_path}\\n\")\n",
    "\n",
    "nc_test_labels_path = os.path.join(base_dir, \"nc-test-labels.pt\")\n",
    "nc_test_labels = torch.randint(0, 10, (num_tests,))\n",
    "print(f\"Part of test labels for node classification: {nc_test_labels[:3]}\")\n",
    "torch.save(nc_test_labels, nc_test_labels_path)\n",
    "print(f\"NC test labels are saved to {nc_test_labels_path}\\n\")"
   ]
  },
  {
   "cell_type": "markdown",
   "metadata": {
    "id": "LhAcDCHQ_KJ0"
   },
   "source": [
    "#### Link Prediction Task\n",
    "For link prediction task, we need **seeds** or **corresponding labels and indexes** which representing the pos/neg property and group of the seeds for each training/validation/test set. Like feature data, numpy arrays and torch tensors are supported for these sets."
   ]
  },
  {
   "cell_type": "code",
   "execution_count": 6,
   "metadata": {
    "execution": {
     "iopub.execute_input": "2024-11-01T13:49:31.243616Z",
     "iopub.status.busy": "2024-11-01T13:49:31.243233Z",
     "iopub.status.idle": "2024-11-01T13:49:31.261609Z",
     "shell.execute_reply": "2024-11-01T13:49:31.260741Z"
    },
    "id": "u0jCnXIcAQy4"
   },
   "outputs": [
    {
     "name": "stdout",
     "output_type": "stream",
     "text": [
      "Part of train seeds for link prediction: [[208 446]\n",
      " [ 10 132]\n",
      " [680 795]]\n",
      "LP train seeds are saved to ./ondisk_dataset_homograph/lp-train-seeds.npy\n",
      "\n",
      "Part of val seeds for link prediction: [[352 175]\n",
      " [617 274]\n",
      " [375 311]]\n",
      "LP val seeds are saved to ./ondisk_dataset_homograph/lp-val-seeds.npy\n",
      "\n",
      "Part of val labels for link prediction: [1. 1. 1.]\n",
      "LP val labels are saved to ./ondisk_dataset_homograph/lp-val-labels.npy\n",
      "\n",
      "Part of val indexes for link prediction: [0 1 2]\n",
      "LP val indexes are saved to ./ondisk_dataset_homograph/lp-val-indexes.npy\n",
      "\n",
      "Part of test seeds for link prediction: [[884  22]\n",
      " [549 608]\n",
      " [174 550]]\n",
      "LP test seeds are saved to ./ondisk_dataset_homograph/lp-test-seeds.npy\n",
      "\n",
      "Part of val labels for link prediction: [1. 1. 1.]\n",
      "LP test labels are saved to ./ondisk_dataset_homograph/lp-test-labels.npy\n",
      "\n",
      "Part of test indexes for link prediction: [0 1 2]\n",
      "LP test indexes are saved to ./ondisk_dataset_homograph/lp-test-indexes.npy\n",
      "\n"
     ]
    }
   ],
   "source": [
    "num_trains = int(num_edges * 0.6)\n",
    "num_vals = int(num_edges * 0.2)\n",
    "num_tests = num_edges - num_trains - num_vals\n",
    "\n",
    "lp_train_seeds_path = os.path.join(base_dir, \"lp-train-seeds.npy\")\n",
    "lp_train_seeds = edges[:num_trains, :]\n",
    "print(f\"Part of train seeds for link prediction: {lp_train_seeds[:3]}\")\n",
    "np.save(lp_train_seeds_path, lp_train_seeds)\n",
    "print(f\"LP train seeds are saved to {lp_train_seeds_path}\\n\")\n",
    "\n",
    "lp_val_seeds_path = os.path.join(base_dir, \"lp-val-seeds.npy\")\n",
    "lp_val_seeds = edges[num_trains:num_trains+num_vals, :]\n",
    "lp_val_neg_dsts = np.random.randint(0, num_nodes, (num_vals, 10)).reshape(-1)\n",
    "lp_val_neg_srcs = np.repeat(lp_val_seeds[:,0], 10)\n",
    "lp_val_neg_seeds = np.concatenate((lp_val_neg_srcs, lp_val_neg_dsts)).reshape(2,-1).T\n",
    "lp_val_seeds = np.concatenate((lp_val_seeds, lp_val_neg_seeds))\n",
    "print(f\"Part of val seeds for link prediction: {lp_val_seeds[:3]}\")\n",
    "np.save(lp_val_seeds_path, lp_val_seeds)\n",
    "print(f\"LP val seeds are saved to {lp_val_seeds_path}\\n\")\n",
    "\n",
    "lp_val_labels_path = os.path.join(base_dir, \"lp-val-labels.npy\")\n",
    "lp_val_labels = np.empty(num_vals * (10 + 1))\n",
    "lp_val_labels[:num_vals] = 1\n",
    "lp_val_labels[num_vals:] = 0\n",
    "print(f\"Part of val labels for link prediction: {lp_val_labels[:3]}\")\n",
    "np.save(lp_val_labels_path, lp_val_labels)\n",
    "print(f\"LP val labels are saved to {lp_val_labels_path}\\n\")\n",
    "\n",
    "lp_val_indexes_path = os.path.join(base_dir, \"lp-val-indexes.npy\")\n",
    "lp_val_indexes = np.arange(0, num_vals)\n",
    "lp_val_neg_indexes = np.repeat(lp_val_indexes, 10)\n",
    "lp_val_indexes = np.concatenate([lp_val_indexes, lp_val_neg_indexes])\n",
    "print(f\"Part of val indexes for link prediction: {lp_val_indexes[:3]}\")\n",
    "np.save(lp_val_indexes_path, lp_val_indexes)\n",
    "print(f\"LP val indexes are saved to {lp_val_indexes_path}\\n\")\n",
    "\n",
    "lp_test_seeds_path = os.path.join(base_dir, \"lp-test-seeds.npy\")\n",
    "lp_test_seeds = edges[-num_tests:, :]\n",
    "lp_test_neg_dsts = np.random.randint(0, num_nodes, (num_tests, 10)).reshape(-1)\n",
    "lp_test_neg_srcs = np.repeat(lp_test_seeds[:,0], 10)\n",
    "lp_test_neg_seeds = np.concatenate((lp_test_neg_srcs, lp_test_neg_dsts)).reshape(2,-1).T\n",
    "lp_test_seeds = np.concatenate((lp_test_seeds, lp_test_neg_seeds))\n",
    "print(f\"Part of test seeds for link prediction: {lp_test_seeds[:3]}\")\n",
    "np.save(lp_test_seeds_path, lp_test_seeds)\n",
    "print(f\"LP test seeds are saved to {lp_test_seeds_path}\\n\")\n",
    "\n",
    "lp_test_labels_path = os.path.join(base_dir, \"lp-test-labels.npy\")\n",
    "lp_test_labels = np.empty(num_tests * (10 + 1))\n",
    "lp_test_labels[:num_tests] = 1\n",
    "lp_test_labels[num_tests:] = 0\n",
    "print(f\"Part of val labels for link prediction: {lp_test_labels[:3]}\")\n",
    "np.save(lp_test_labels_path, lp_test_labels)\n",
    "print(f\"LP test labels are saved to {lp_test_labels_path}\\n\")\n",
    "\n",
    "lp_test_indexes_path = os.path.join(base_dir, \"lp-test-indexes.npy\")\n",
    "lp_test_indexes = np.arange(0, num_tests)\n",
    "lp_test_neg_indexes = np.repeat(lp_test_indexes, 10)\n",
    "lp_test_indexes = np.concatenate([lp_test_indexes, lp_test_neg_indexes])\n",
    "print(f\"Part of test indexes for link prediction: {lp_test_indexes[:3]}\")\n",
    "np.save(lp_test_indexes_path, lp_test_indexes)\n",
    "print(f\"LP test indexes are saved to {lp_test_indexes_path}\\n\")"
   ]
  },
  {
   "cell_type": "markdown",
   "metadata": {
    "id": "wbk6-wxRK-6S"
   },
   "source": [
    "## Organize Data into YAML File\n",
    "Now we need to create a `metadata.yaml` file which contains the paths, dadta types of graph structure, feature data, training/validation/test sets.\n",
    "\n",
    "Notes:\n",
    "- all path should be relative to `metadata.yaml`.\n",
    "- Below fields are optional and not specified in below example.\n",
    "  - `in_memory`: indicates whether to load dada into memory or `mmap`. Default is `True`.\n",
    "\n",
    "Please refer to [YAML specification](https://github.com/dmlc/dgl/blob/master/docs/source/stochastic_training/ondisk-dataset-specification.rst) for more details."
   ]
  },
  {
   "cell_type": "code",
   "execution_count": 7,
   "metadata": {
    "execution": {
     "iopub.execute_input": "2024-11-01T13:49:31.264122Z",
     "iopub.status.busy": "2024-11-01T13:49:31.263849Z",
     "iopub.status.idle": "2024-11-01T13:49:31.270417Z",
     "shell.execute_reply": "2024-11-01T13:49:31.269571Z"
    },
    "id": "ddGTWW61Lpwp"
   },
   "outputs": [],
   "source": [
    "yaml_content = f\"\"\"\n",
    "    dataset_name: homogeneous_graph_nc_lp\n",
    "    graph:\n",
    "      nodes:\n",
    "        - num: {num_nodes}\n",
    "      edges:\n",
    "        - format: csv\n",
    "          path: {os.path.basename(edges_path)}\n",
    "    feature_data:\n",
    "      - domain: node\n",
    "        name: feat_0\n",
    "        format: numpy\n",
    "        path: {os.path.basename(node_feat_0_path)}\n",
    "      - domain: node\n",
    "        name: feat_1\n",
    "        format: torch\n",
    "        path: {os.path.basename(node_feat_1_path)}\n",
    "      - domain: edge\n",
    "        name: feat_0\n",
    "        format: numpy\n",
    "        path: {os.path.basename(edge_feat_0_path)}\n",
    "      - domain: edge\n",
    "        name: feat_1\n",
    "        format: torch\n",
    "        path: {os.path.basename(edge_feat_1_path)}\n",
    "    tasks:\n",
    "      - name: node_classification\n",
    "        num_classes: 10\n",
    "        train_set:\n",
    "          - data:\n",
    "              - name: seeds\n",
    "                format: numpy\n",
    "                path: {os.path.basename(nc_train_ids_path)}\n",
    "              - name: labels\n",
    "                format: torch\n",
    "                path: {os.path.basename(nc_train_labels_path)}\n",
    "        validation_set:\n",
    "          - data:\n",
    "              - name: seeds\n",
    "                format: numpy\n",
    "                path: {os.path.basename(nc_val_ids_path)}\n",
    "              - name: labels\n",
    "                format: torch\n",
    "                path: {os.path.basename(nc_val_labels_path)}\n",
    "        test_set:\n",
    "          - data:\n",
    "              - name: seeds\n",
    "                format: numpy\n",
    "                path: {os.path.basename(nc_test_ids_path)}\n",
    "              - name: labels\n",
    "                format: torch\n",
    "                path: {os.path.basename(nc_test_labels_path)}\n",
    "      - name: link_prediction\n",
    "        num_classes: 10\n",
    "        train_set:\n",
    "          - data:\n",
    "              - name: seeds\n",
    "                format: numpy\n",
    "                path: {os.path.basename(lp_train_seeds_path)}\n",
    "        validation_set:\n",
    "          - data:\n",
    "              - name: seeds\n",
    "                format: numpy\n",
    "                path: {os.path.basename(lp_val_seeds_path)}\n",
    "              - name: labels\n",
    "                format: numpy\n",
    "                path: {os.path.basename(lp_val_labels_path)}\n",
    "              - name: indexes\n",
    "                format: numpy\n",
    "                path: {os.path.basename(lp_val_indexes_path)}\n",
    "        test_set:\n",
    "          - data:\n",
    "              - name: seeds\n",
    "                format: numpy\n",
    "                path: {os.path.basename(lp_test_seeds_path)}\n",
    "              - name: labels\n",
    "                format: numpy\n",
    "                path: {os.path.basename(lp_test_labels_path)}\n",
    "              - name: indexes\n",
    "                format: numpy\n",
    "                path: {os.path.basename(lp_test_indexes_path)}\n",
    "\"\"\"\n",
    "metadata_path = os.path.join(base_dir, \"metadata.yaml\")\n",
    "with open(metadata_path, \"w\") as f:\n",
    "  f.write(yaml_content)"
   ]
  },
  {
   "cell_type": "markdown",
   "metadata": {
    "id": "kEfybHGhOW7O"
   },
   "source": [
    "## Instantiate `OnDiskDataset`\n",
    "Now we're ready to load dataset via `dgl.graphbolt.OnDiskDataset`. When instantiating, we just pass in the base directory where `metadata.yaml` file lies.\n",
    "\n",
    "During first instantiation, GraphBolt preprocesses the raw data such as constructing `FusedCSCSamplingGraph` from edges. All data including graph, feature data, training/validation/test sets are put into `preprocessed` directory after preprocessing. Any following dataset loading will skip the preprocess stage.\n",
    "\n",
    "After preprocessing, `load()` is required to be called explicitly in order to load graph, feature data and tasks."
   ]
  },
  {
   "cell_type": "code",
   "execution_count": 8,
   "metadata": {
    "execution": {
     "iopub.execute_input": "2024-11-01T13:49:31.272573Z",
     "iopub.status.busy": "2024-11-01T13:49:31.272266Z",
     "iopub.status.idle": "2024-11-01T13:49:31.343213Z",
     "shell.execute_reply": "2024-11-01T13:49:31.342422Z"
    },
    "id": "W58CZoSzOiyo"
   },
   "outputs": [
    {
     "name": "stdout",
     "output_type": "stream",
     "text": [
      "Start to preprocess the on-disk dataset.\n",
      "Finish preprocessing the on-disk dataset.\n",
      "Loaded graph: FusedCSCSamplingGraph(csc_indptr=tensor([    0,     9,    22,  ...,  9988,  9993, 10000], dtype=torch.int32),\n",
      "                      indices=tensor([372, 725, 108,  ..., 167, 929, 478], dtype=torch.int32),\n",
      "                      total_num_nodes=1000, num_edges=10000,)\n",
      "\n",
      "Loaded feature store: TorchBasedFeatureStore(\n",
      "    {(<OnDiskFeatureDataDomain.NODE: 'node'>, None, 'feat_0'): TorchBasedFeature(\n",
      "        feature=tensor([[0.9151, 0.6379, 0.9324, 0.4666, 0.4233],\n",
      "                        [0.9347, 0.1329, 0.1843, 0.0731, 0.2112],\n",
      "                        [0.1043, 0.5680, 0.1076, 0.6579, 0.0543],\n",
      "                        ...,\n",
      "                        [0.9541, 0.8847, 0.2368, 0.0418, 0.6170],\n",
      "                        [0.8125, 0.6133, 0.1474, 0.2784, 0.3703],\n",
      "                        [0.1339, 0.7504, 0.7721, 0.4263, 0.2533]], dtype=torch.float64),\n",
      "        metadata={},\n",
      "    ), (<OnDiskFeatureDataDomain.NODE: 'node'>, None, 'feat_1'): TorchBasedFeature(\n",
      "        feature=tensor([[0.9212, 0.7618, 0.8439, 0.9262, 0.2817],\n",
      "                        [0.4262, 0.0022, 0.6239, 0.9337, 0.8147],\n",
      "                        [0.5774, 0.9061, 0.2543, 0.0525, 0.5859],\n",
      "                        ...,\n",
      "                        [0.7929, 0.3199, 0.1967, 0.1646, 0.2170],\n",
      "                        [0.0439, 0.8556, 0.5097, 0.9573, 0.2685],\n",
      "                        [0.3338, 0.1759, 0.7359, 0.1085, 0.7316]]),\n",
      "        metadata={},\n",
      "    ), (<OnDiskFeatureDataDomain.EDGE: 'edge'>, None, 'feat_0'): TorchBasedFeature(\n",
      "        feature=tensor([[0.0811, 0.6355, 0.5922, 0.2065, 0.4977],\n",
      "                        [0.8951, 0.0918, 0.8520, 0.2244, 0.3055],\n",
      "                        [0.0624, 0.9054, 0.9317, 0.8319, 0.8794],\n",
      "                        ...,\n",
      "                        [0.5416, 0.1506, 0.1315, 0.4898, 0.7552],\n",
      "                        [0.1063, 0.2424, 0.3323, 0.1478, 0.5958],\n",
      "                        [0.9804, 0.2061, 0.9030, 0.9296, 0.7406]], dtype=torch.float64),\n",
      "        metadata={},\n",
      "    ), (<OnDiskFeatureDataDomain.EDGE: 'edge'>, None, 'feat_1'): TorchBasedFeature(\n",
      "        feature=tensor([[0.0787, 0.0171, 0.4224, 0.6435, 0.6535],\n",
      "                        [0.8201, 0.0709, 0.4967, 0.9385, 0.4215],\n",
      "                        [0.8851, 0.7687, 0.0606, 0.8127, 0.3114],\n",
      "                        ...,\n",
      "                        [0.2846, 0.4703, 0.5204, 0.2200, 0.9303],\n",
      "                        [0.2062, 0.4339, 0.0577, 0.6092, 0.0649],\n",
      "                        [0.8113, 0.8915, 0.7834, 0.1110, 0.5078]]),\n",
      "        metadata={},\n",
      "    )}\n",
      ")\n",
      "\n",
      "Loaded node classification task: OnDiskTask(validation_set=ItemSet(\n",
      "               items=(tensor([221, 745, 296, 798, 330, 714, 344, 697, 429, 941, 263, 802, 620, 367,\n",
      "                   702, 809, 626,  90, 748, 976, 956, 580, 379, 771, 239, 866, 373, 216,\n",
      "                   973, 836, 774, 705, 688, 147,  25, 409, 899, 519, 945, 510, 233,  15,\n",
      "                   224, 269, 577, 354, 854, 130, 449, 845, 536, 327, 118, 243, 797, 649,\n",
      "                   985, 904, 556, 907, 838, 853, 728, 336, 794, 229, 650, 456, 460, 892,\n",
      "                   593, 725, 841, 302, 332, 138, 401, 701, 410, 603, 109, 605, 684, 978,\n",
      "                   498, 639, 908, 633,  91, 400, 785, 640, 128, 977, 988, 100, 887, 890,\n",
      "                   946, 375, 496, 461, 139, 972, 636,  65, 936, 634, 638, 272, 541, 135,\n",
      "                    51, 363, 254, 734, 505, 585, 362,   8, 915, 266, 301,  76, 724,  12,\n",
      "                   602, 869, 102, 779, 831, 741, 746, 395,  84, 786, 265, 876, 205, 954,\n",
      "                   575, 615, 744, 669, 137, 175, 532, 566, 515, 112, 446, 993, 608, 355,\n",
      "                   197,  68, 245, 406, 870, 762, 313, 696, 806, 271, 545, 247, 293, 250,\n",
      "                   371,  16, 462, 833, 891, 282, 897, 217, 422,  63, 935, 727, 726, 318,\n",
      "                   896, 176, 674,  78,  79, 792, 901, 811, 249, 596, 350, 546, 370, 127,\n",
      "                   356, 264, 331, 314], dtype=torch.int32), tensor([4, 5, 0, 2, 8, 2, 9, 6, 5, 1, 7, 1, 5, 5, 3, 4, 0, 3, 4, 0, 7, 1, 1, 2,\n",
      "                   9, 3, 9, 6, 4, 9, 1, 9, 9, 0, 4, 9, 7, 7, 4, 0, 9, 1, 4, 9, 9, 7, 4, 4,\n",
      "                   6, 9, 8, 7, 6, 4, 7, 2, 3, 0, 9, 2, 9, 7, 0, 4, 6, 1, 5, 0, 2, 7, 4, 3,\n",
      "                   1, 5, 7, 2, 8, 2, 9, 7, 7, 7, 5, 2, 2, 0, 5, 7, 2, 8, 2, 1, 2, 7, 0, 5,\n",
      "                   9, 2, 4, 8, 8, 3, 9, 3, 1, 4, 6, 5, 3, 3, 4, 1, 5, 3, 6, 1, 5, 2, 2, 0,\n",
      "                   3, 5, 9, 4, 0, 7, 8, 6, 4, 2, 0, 2, 3, 3, 6, 6, 9, 0, 5, 2, 6, 4, 2, 0,\n",
      "                   9, 5, 8, 8, 7, 0, 2, 6, 1, 5, 6, 5, 3, 7, 4, 2, 8, 7, 5, 7, 2, 5, 1, 8,\n",
      "                   7, 5, 0, 6, 8, 0, 8, 6, 7, 4, 6, 4, 0, 6, 4, 5, 1, 0, 5, 2, 9, 2, 5, 9,\n",
      "                   2, 2, 8, 2, 6, 5, 9, 1])),\n",
      "               names=('seeds', 'labels'),\n",
      "           ),\n",
      "           train_set=ItemSet(\n",
      "               items=(tensor([758, 194, 283, 196, 420,  77, 300, 234, 597, 803,  73, 757, 916, 514,\n",
      "                    53, 316, 463, 335, 214, 533, 504,  71, 612, 523, 172, 668,  66, 760,\n",
      "                   832, 573, 628, 560, 913, 378, 548, 167, 326, 843, 635, 171, 120, 623,\n",
      "                   953, 262,  89, 443, 767, 260, 572, 582, 903, 374, 140, 743, 965, 723,\n",
      "                   963, 698,  43, 143, 753,  11, 366, 812, 865, 663,  39,  10, 933, 675,\n",
      "                   125,  31, 814, 526, 433, 817, 447, 552,  27, 470, 660, 643, 513, 948,\n",
      "                   790, 810, 939, 598, 966, 537, 830, 808, 995,   9, 867, 399, 652, 994,\n",
      "                   579, 508, 376, 871, 969, 755, 731, 352, 949, 911, 804, 319, 996, 338,\n",
      "                   257, 735, 418, 699, 584, 277, 693, 206, 529, 964,  48, 267, 521, 989,\n",
      "                   457, 328, 930, 322, 467, 342, 980, 789, 377, 182, 644, 476, 858, 511,\n",
      "                   297, 189, 455, 500, 432, 905, 873, 677, 365, 912, 764, 862, 294, 392,\n",
      "                   816, 979, 791, 163, 859, 761, 821, 119, 144, 765, 712, 981, 751, 117,\n",
      "                   599, 592, 561, 261, 198, 227, 213, 855, 631, 825, 174, 372, 559,  75,\n",
      "                   170, 893, 768, 393, 799,  72,  42, 407, 253, 929, 653, 656, 629, 436,\n",
      "                   453, 931, 136, 244,  17, 435, 569, 486,   7, 361, 863, 673, 951, 107,\n",
      "                   528, 959, 857, 562, 509, 211, 238, 805, 403,  47, 793,  28, 203, 923,\n",
      "                    38, 588, 554, 778, 180, 917, 822, 278, 324, 440, 737, 708, 709, 132,\n",
      "                   717, 150, 992, 769, 396,  61, 485, 317, 305, 788, 506, 439, 499, 852,\n",
      "                   749, 542, 381, 606, 667, 212, 940, 733, 482, 849,  93, 341, 864, 106,\n",
      "                   900, 787, 632, 672, 310, 289, 337,  87, 329,  35, 431, 220, 487, 415,\n",
      "                   590, 618, 820, 547, 442, 358, 687, 223, 910, 587, 775, 192, 444, 921,\n",
      "                   185, 927, 740, 971, 718, 770, 583, 155, 551, 103, 938, 404, 287, 242,\n",
      "                   307, 883, 773, 624, 710, 423, 299, 607, 441, 351, 738, 408, 661, 998,\n",
      "                   950, 617,  23,  88, 438, 975, 232,  81, 782, 795, 932,  46,   2, 394,\n",
      "                   721,  13, 861, 151, 539, 756, 840,   3, 448, 507, 152, 763, 658, 306,\n",
      "                   681, 875, 594, 288, 161, 469, 952, 531, 692,  44, 173, 881, 489, 848,\n",
      "                   872, 347, 914, 273, 642,  40, 466, 501, 434, 968, 413, 894, 491, 497,\n",
      "                   190, 241, 934, 937, 983, 611, 387,  97, 480, 874, 159, 193, 683, 800,\n",
      "                   115, 495, 162, 201, 720,  33, 204, 796, 747, 958, 750, 473, 292,  34,\n",
      "                   108, 676, 827, 543, 986, 568,  32, 105, 962, 777, 844, 704, 145, 837,\n",
      "                   823, 382, 877, 334, 156, 922, 960, 898, 520, 957, 416, 719, 522, 716,\n",
      "                   131, 570, 574, 164, 586, 385, 549, 468, 613,  55, 178, 386, 484, 121,\n",
      "                   886, 826, 690, 646,  45, 169, 895, 284,   6, 850, 357, 165, 517, 679,\n",
      "                   868, 604, 781, 123, 851, 600,  60, 534, 183,  94,  69, 666, 970, 199,\n",
      "                   464, 359, 544, 202, 389, 984, 207, 218, 304, 237, 967, 662, 682, 146,\n",
      "                   181, 298, 920, 141, 680, 670, 884, 177,  98, 116, 134, 402, 279,  36,\n",
      "                   285, 458, 255,  22, 209,  24, 736, 527, 369, 630, 516, 576, 472, 553,\n",
      "                   846, 654,  57,  26,  80, 113, 621, 776, 414, 454,  56,   1, 235, 879,\n",
      "                   168, 512, 225, 230, 614,  83, 268, 595, 309, 589, 308, 104,  41, 641,\n",
      "                   323, 215,  95, 493, 616,  58, 711, 557, 153, 694, 200, 918, 625, 360,\n",
      "                   591, 610, 303, 160, 550, 101, 801, 320, 149, 251, 222, 524,   4, 124,\n",
      "                   665, 111, 885, 655, 490, 689, 483,  70, 651, 819, 477, 860, 380, 659,\n",
      "                   478, 829, 188,   0, 999,  37, 878, 739, 346, 452,   5, 637],\n",
      "                  dtype=torch.int32), tensor([4, 2, 7, 8, 2, 4, 3, 6, 8, 0, 8, 2, 7, 6, 6, 5, 8, 5, 9, 0, 4, 1, 9, 9,\n",
      "                   8, 4, 6, 8, 6, 9, 1, 1, 9, 1, 4, 6, 9, 2, 2, 9, 7, 6, 7, 7, 4, 3, 0, 4,\n",
      "                   9, 1, 6, 1, 6, 4, 1, 1, 9, 7, 2, 4, 2, 4, 9, 5, 7, 7, 6, 2, 2, 2, 4, 1,\n",
      "                   5, 8, 4, 6, 5, 5, 7, 4, 4, 4, 6, 3, 1, 9, 8, 3, 6, 2, 5, 9, 6, 0, 8, 1,\n",
      "                   8, 1, 7, 3, 0, 1, 1, 5, 3, 5, 3, 0, 9, 0, 1, 0, 0, 9, 1, 5, 6, 5, 2, 0,\n",
      "                   2, 5, 4, 1, 1, 3, 5, 6, 4, 5, 3, 7, 0, 5, 2, 2, 8, 8, 3, 9, 7, 1, 0, 8,\n",
      "                   9, 6, 9, 0, 7, 0, 0, 9, 0, 1, 8, 6, 2, 1, 0, 3, 2, 2, 5, 6, 8, 5, 5, 6,\n",
      "                   8, 9, 8, 2, 4, 5, 6, 6, 4, 1, 2, 5, 0, 7, 0, 0, 0, 0, 2, 2, 7, 3, 3, 9,\n",
      "                   6, 3, 0, 5, 2, 5, 3, 2, 4, 4, 8, 3, 1, 2, 8, 2, 5, 6, 9, 2, 2, 2, 0, 0,\n",
      "                   7, 2, 5, 0, 7, 6, 4, 6, 4, 4, 6, 8, 6, 9, 2, 1, 1, 8, 6, 1, 9, 7, 2, 0,\n",
      "                   4, 0, 4, 5, 3, 4, 8, 7, 8, 4, 5, 0, 9, 6, 2, 2, 4, 9, 7, 4, 2, 2, 6, 0,\n",
      "                   8, 6, 4, 0, 8, 9, 8, 9, 9, 0, 9, 8, 0, 8, 6, 9, 6, 4, 5, 9, 8, 3, 3, 5,\n",
      "                   5, 2, 0, 7, 8, 2, 7, 4, 2, 1, 8, 6, 1, 2, 0, 1, 5, 8, 3, 2, 9, 6, 5, 4,\n",
      "                   7, 8, 2, 2, 8, 4, 6, 5, 5, 8, 2, 2, 2, 3, 1, 4, 0, 8, 7, 2, 9, 0, 3, 2,\n",
      "                   6, 1, 1, 3, 5, 5, 9, 0, 1, 7, 6, 9, 4, 6, 1, 6, 8, 8, 6, 7, 0, 9, 9, 9,\n",
      "                   7, 2, 7, 0, 7, 6, 9, 4, 7, 1, 6, 5, 9, 6, 3, 7, 2, 6, 0, 0, 2, 3, 7, 1,\n",
      "                   7, 5, 9, 1, 3, 9, 4, 8, 2, 7, 0, 6, 4, 0, 4, 4, 5, 6, 3, 2, 0, 2, 2, 7,\n",
      "                   2, 9, 4, 7, 6, 5, 2, 4, 2, 6, 1, 2, 8, 0, 4, 2, 1, 1, 2, 8, 3, 5, 7, 7,\n",
      "                   2, 6, 7, 1, 8, 2, 4, 3, 3, 7, 2, 4, 8, 2, 6, 4, 4, 5, 5, 3, 0, 2, 7, 0,\n",
      "                   3, 1, 8, 8, 7, 1, 2, 7, 6, 4, 3, 4, 6, 2, 8, 3, 6, 5, 8, 7, 0, 8, 6, 5,\n",
      "                   2, 4, 3, 2, 5, 9, 5, 1, 9, 6, 7, 1, 3, 3, 0, 0, 4, 9, 6, 5, 7, 2, 6, 9,\n",
      "                   8, 1, 2, 5, 9, 5, 5, 8, 1, 5, 9, 5, 2, 2, 3, 9, 2, 4, 3, 4, 3, 8, 7, 5,\n",
      "                   7, 8, 3, 3, 7, 7, 1, 4, 2, 6, 0, 9, 7, 7, 0, 8, 3, 4, 5, 5, 6, 9, 9, 9,\n",
      "                   5, 1, 0, 2, 5, 4, 8, 8, 0, 1, 3, 3, 5, 9, 5, 8, 1, 9, 3, 1, 6, 6, 4, 7,\n",
      "                   9, 8, 1, 9, 9, 9, 1, 1, 0, 7, 2, 7, 3, 9, 8, 6, 4, 4, 5, 7, 1, 6, 2, 3])),\n",
      "               names=('seeds', 'labels'),\n",
      "           ),\n",
      "           test_set=ItemSet(\n",
      "               items=(tensor([919, 311, 990, 445, 208,  18, 286, 122, 678, 148, 384, 961,  96, 315,\n",
      "                   427, 471, 158, 281, 343, 290, 195, 882, 609, 622,  21, 210, 780, 842,\n",
      "                   627, 179, 450, 424, 601, 824, 312,  64, 481, 412, 578, 828, 325,  67,\n",
      "                   997, 157, 430, 991, 686, 390, 333, 388, 154, 695, 947, 246, 258, 364,\n",
      "                   706, 783, 784, 502, 538,  20,  86, 730,  82, 425, 437, 955, 451, 110,\n",
      "                   236, 564, 645, 540, 839, 982, 700, 657, 419, 834, 759, 186, 398, 567,\n",
      "                   847,  14, 421, 815, 944, 459, 187, 648, 974, 405, 411, 348, 345, 555,\n",
      "                   909, 902, 488, 619, 492, 772, 166, 240, 754, 426, 259, 133, 321,  50,\n",
      "                    54,  30, 368, 518, 942, 571, 349, 525, 752, 924, 818, 129, 729, 530,\n",
      "                   813, 291, 475, 339, 191,  49, 664, 766, 494, 340, 835, 581,  99, 691,\n",
      "                   383, 707, 391, 987, 565, 703,  62, 880, 219, 685, 274, 943,  59,  52,\n",
      "                   226, 184, 906, 142, 563, 428, 353, 252, 280,  29, 295, 888, 474, 397,\n",
      "                   231, 647, 465, 807, 114, 671, 732, 535, 479, 503, 228, 275, 256,  19,\n",
      "                   276, 722, 926, 558, 928, 270, 742, 925, 417, 889,  74, 126,  92, 715,\n",
      "                   248,  85, 856, 713], dtype=torch.int32), tensor([1, 3, 4, 9, 0, 3, 1, 1, 8, 0, 5, 6, 3, 5, 1, 0, 0, 8, 2, 5, 4, 6, 0, 4,\n",
      "                   9, 3, 1, 7, 2, 4, 8, 3, 2, 8, 3, 0, 2, 8, 0, 9, 8, 4, 1, 5, 9, 6, 7, 0,\n",
      "                   9, 0, 6, 1, 5, 7, 2, 7, 0, 0, 3, 3, 4, 6, 9, 5, 8, 8, 5, 9, 9, 6, 8, 0,\n",
      "                   4, 1, 6, 2, 5, 3, 2, 7, 7, 2, 0, 2, 2, 0, 5, 2, 9, 5, 1, 6, 0, 9, 1, 8,\n",
      "                   0, 2, 7, 3, 1, 4, 1, 6, 2, 8, 8, 6, 8, 3, 3, 4, 9, 8, 0, 1, 0, 2, 4, 7,\n",
      "                   7, 9, 0, 1, 1, 6, 1, 4, 6, 4, 9, 1, 8, 6, 4, 6, 9, 9, 0, 1, 1, 5, 1, 6,\n",
      "                   3, 1, 3, 3, 5, 1, 0, 6, 5, 2, 5, 2, 6, 2, 0, 1, 4, 6, 2, 7, 5, 2, 3, 5,\n",
      "                   5, 0, 4, 4, 3, 0, 8, 0, 8, 8, 4, 6, 9, 0, 9, 5, 9, 6, 9, 6, 0, 3, 6, 9,\n",
      "                   9, 4, 8, 8, 8, 2, 7, 5])),\n",
      "               names=('seeds', 'labels'),\n",
      "           ),\n",
      "           metadata={'name': 'node_classification', 'num_classes': 10},)\n",
      "\n",
      "Loaded link prediction task: OnDiskTask(validation_set=ItemSet(\n",
      "               items=(tensor([[352, 175],\n",
      "                   [617, 274],\n",
      "                   [375, 311],\n",
      "                   ...,\n",
      "                   [840, 916],\n",
      "                   [840,  89],\n",
      "                   [840, 547]], dtype=torch.int32), tensor([1., 1., 1.,  ..., 0., 0., 0.], dtype=torch.float64), tensor([   0,    1,    2,  ..., 1999, 1999, 1999])),\n",
      "               names=('seeds', 'labels', 'indexes'),\n",
      "           ),\n",
      "           train_set=ItemSet(\n",
      "               items=(tensor([[208, 446],\n",
      "                   [ 10, 132],\n",
      "                   [680, 795],\n",
      "                   ...,\n",
      "                   [855, 178],\n",
      "                   [899, 274],\n",
      "                   [917, 499]], dtype=torch.int32),),\n",
      "               names=('seeds',),\n",
      "           ),\n",
      "           test_set=ItemSet(\n",
      "               items=(tensor([[884,  22],\n",
      "                   [549, 608],\n",
      "                   [174, 550],\n",
      "                   ...,\n",
      "                   [ 47,  32],\n",
      "                   [ 47, 576],\n",
      "                   [ 47, 368]], dtype=torch.int32), tensor([1., 1., 1.,  ..., 0., 0., 0.], dtype=torch.float64), tensor([   0,    1,    2,  ..., 1999, 1999, 1999])),\n",
      "               names=('seeds', 'labels', 'indexes'),\n",
      "           ),\n",
      "           metadata={'name': 'link_prediction', 'num_classes': 10},)\n",
      "\n"
     ]
    },
    {
     "name": "stderr",
     "output_type": "stream",
     "text": [
      "/dgl/python/dgl/graphbolt/impl/ondisk_dataset.py:463: GBWarning: Edge feature is stored, but edge IDs are not saved.\n",
      "  gb_warning(\"Edge feature is stored, but edge IDs are not saved.\")\n"
     ]
    }
   ],
   "source": [
    "dataset = gb.OnDiskDataset(base_dir).load()\n",
    "graph = dataset.graph\n",
    "print(f\"Loaded graph: {graph}\\n\")\n",
    "\n",
    "feature = dataset.feature\n",
    "print(f\"Loaded feature store: {feature}\\n\")\n",
    "\n",
    "tasks = dataset.tasks\n",
    "nc_task = tasks[0]\n",
    "print(f\"Loaded node classification task: {nc_task}\\n\")\n",
    "lp_task = tasks[1]\n",
    "print(f\"Loaded link prediction task: {lp_task}\\n\")"
   ]
  }
 ],
 "metadata": {
  "colab": {
   "private_outputs": true,
   "provenance": []
  },
  "kernelspec": {
   "display_name": "Python 3",
   "name": "python3"
  },
  "language_info": {
   "codemirror_mode": {
    "name": "ipython",
    "version": 3
   },
   "file_extension": ".py",
   "mimetype": "text/x-python",
   "name": "python",
   "nbconvert_exporter": "python",
   "pygments_lexer": "ipython3",
   "version": "3.10.15"
  }
 },
 "nbformat": 4,
 "nbformat_minor": 0
}

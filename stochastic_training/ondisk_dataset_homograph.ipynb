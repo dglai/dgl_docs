{
 "cells": [
  {
   "cell_type": "markdown",
   "metadata": {
    "id": "FnFhPMaAfLtJ"
   },
   "source": [
    "# OnDiskDataset for Homogeneous Graph\n",
    "\n",
    "[![Open In Colab](https://colab.research.google.com/assets/colab-badge.svg)](https://colab.research.google.com/github/dmlc/dgl/blob/master/notebooks/stochastic_training/ondisk_dataset_homograph.ipynb) [![GitHub](https://img.shields.io/badge/-View%20on%20GitHub-181717?logo=github&logoColor=ffffff)](https://github.com/dmlc/dgl/blob/master/notebooks/stochastic_training/ondisk_dataset_homograph.ipynb)\n",
    "\n",
    "This tutorial shows how to create `OnDiskDataset` for homogeneous graph that could be used in **GraphBolt** framework.\n",
    "\n",
    "By the end of this tutorial, you will be able to\n",
    "\n",
    "- organize graph structure data.\n",
    "- organize feature data.\n",
    "- organize training/validation/test set for specific tasks.\n",
    "\n",
    "To create an ``OnDiskDataset`` object, you need to organize all the data including graph structure, feature data and tasks into a directory. The directory should contain a ``metadata.yaml`` file that describes the metadata of the dataset.\n",
    "\n",
    "Now let's generate various data step by step and organize them together to instantiate `OnDiskDataset` finally."
   ]
  },
  {
   "cell_type": "markdown",
   "metadata": {
    "id": "Wlb19DtWgtzq"
   },
   "source": [
    "## Install DGL package"
   ]
  },
  {
   "cell_type": "code",
   "execution_count": 1,
   "metadata": {
    "execution": {
     "iopub.execute_input": "2024-10-10T14:22:23.131452Z",
     "iopub.status.busy": "2024-10-10T14:22:23.131114Z",
     "iopub.status.idle": "2024-10-10T14:22:26.152067Z",
     "shell.execute_reply": "2024-10-10T14:22:26.151042Z"
    },
    "id": "UojlT9ZGgyr9"
   },
   "outputs": [
    {
     "name": "stdout",
     "output_type": "stream",
     "text": [
      "Looking in links: https://data.dgl.ai/wheels-test/repo.html\r\n",
      "Requirement already satisfied: dgl in /opt/conda/envs/dgl-dev-cpu/lib/python3.10/site-packages (2.2a240410)\r\n",
      "Requirement already satisfied: numpy>=1.14.0 in /opt/conda/envs/dgl-dev-cpu/lib/python3.10/site-packages (from dgl) (1.26.4)\r\n",
      "Requirement already satisfied: scipy>=1.1.0 in /opt/conda/envs/dgl-dev-cpu/lib/python3.10/site-packages (from dgl) (1.14.1)\r\n",
      "Requirement already satisfied: networkx>=2.1 in /opt/conda/envs/dgl-dev-cpu/lib/python3.10/site-packages (from dgl) (3.3)\r\n",
      "Requirement already satisfied: requests>=2.19.0 in /opt/conda/envs/dgl-dev-cpu/lib/python3.10/site-packages (from dgl) (2.32.3)\r\n",
      "Requirement already satisfied: tqdm in /opt/conda/envs/dgl-dev-cpu/lib/python3.10/site-packages (from dgl) (4.66.5)\r\n",
      "Requirement already satisfied: psutil>=5.8.0 in /opt/conda/envs/dgl-dev-cpu/lib/python3.10/site-packages (from dgl) (6.0.0)\r\n",
      "Requirement already satisfied: torchdata>=0.5.0 in /opt/conda/envs/dgl-dev-cpu/lib/python3.10/site-packages (from dgl) (0.8.0)\r\n",
      "Requirement already satisfied: pandas in /opt/conda/envs/dgl-dev-cpu/lib/python3.10/site-packages (from dgl) (2.2.3)\r\n"
     ]
    },
    {
     "name": "stdout",
     "output_type": "stream",
     "text": [
      "Requirement already satisfied: charset-normalizer<4,>=2 in /opt/conda/envs/dgl-dev-cpu/lib/python3.10/site-packages (from requests>=2.19.0->dgl) (3.4.0)\r\n",
      "Requirement already satisfied: idna<4,>=2.5 in /opt/conda/envs/dgl-dev-cpu/lib/python3.10/site-packages (from requests>=2.19.0->dgl) (3.10)\r\n",
      "Requirement already satisfied: urllib3<3,>=1.21.1 in /opt/conda/envs/dgl-dev-cpu/lib/python3.10/site-packages (from requests>=2.19.0->dgl) (2.2.3)\r\n",
      "Requirement already satisfied: certifi>=2017.4.17 in /opt/conda/envs/dgl-dev-cpu/lib/python3.10/site-packages (from requests>=2.19.0->dgl) (2024.8.30)\r\n",
      "Requirement already satisfied: torch>=2 in /opt/conda/envs/dgl-dev-cpu/lib/python3.10/site-packages (from torchdata>=0.5.0->dgl) (2.1.0+cpu)\r\n"
     ]
    },
    {
     "name": "stdout",
     "output_type": "stream",
     "text": [
      "Requirement already satisfied: python-dateutil>=2.8.2 in /opt/conda/envs/dgl-dev-cpu/lib/python3.10/site-packages (from pandas->dgl) (2.9.0.post0)\r\n",
      "Requirement already satisfied: pytz>=2020.1 in /opt/conda/envs/dgl-dev-cpu/lib/python3.10/site-packages (from pandas->dgl) (2024.2)\r\n",
      "Requirement already satisfied: tzdata>=2022.7 in /opt/conda/envs/dgl-dev-cpu/lib/python3.10/site-packages (from pandas->dgl) (2024.2)\r\n",
      "Requirement already satisfied: six>=1.5 in /opt/conda/envs/dgl-dev-cpu/lib/python3.10/site-packages (from python-dateutil>=2.8.2->pandas->dgl) (1.16.0)\r\n",
      "Requirement already satisfied: filelock in /opt/conda/envs/dgl-dev-cpu/lib/python3.10/site-packages (from torch>=2->torchdata>=0.5.0->dgl) (3.16.1)\r\n",
      "Requirement already satisfied: typing-extensions in /opt/conda/envs/dgl-dev-cpu/lib/python3.10/site-packages (from torch>=2->torchdata>=0.5.0->dgl) (4.12.2)\r\n",
      "Requirement already satisfied: sympy in /opt/conda/envs/dgl-dev-cpu/lib/python3.10/site-packages (from torch>=2->torchdata>=0.5.0->dgl) (1.13.3)\r\n",
      "Requirement already satisfied: jinja2 in /opt/conda/envs/dgl-dev-cpu/lib/python3.10/site-packages (from torch>=2->torchdata>=0.5.0->dgl) (3.1.4)\r\n",
      "Requirement already satisfied: fsspec in /opt/conda/envs/dgl-dev-cpu/lib/python3.10/site-packages (from torch>=2->torchdata>=0.5.0->dgl) (2024.9.0)\r\n"
     ]
    },
    {
     "name": "stdout",
     "output_type": "stream",
     "text": [
      "Requirement already satisfied: MarkupSafe>=2.0 in /opt/conda/envs/dgl-dev-cpu/lib/python3.10/site-packages (from jinja2->torch>=2->torchdata>=0.5.0->dgl) (3.0.1)\r\n",
      "Requirement already satisfied: mpmath<1.4,>=1.1.0 in /opt/conda/envs/dgl-dev-cpu/lib/python3.10/site-packages (from sympy->torch>=2->torchdata>=0.5.0->dgl) (1.3.0)\r\n"
     ]
    },
    {
     "name": "stdout",
     "output_type": "stream",
     "text": [
      "\u001b[33mWARNING: Running pip as the 'root' user can result in broken permissions and conflicting behaviour with the system package manager, possibly rendering your system unusable.It is recommended to use a virtual environment instead: https://pip.pypa.io/warnings/venv. Use the --root-user-action option if you know what you are doing and want to suppress this warning.\u001b[0m\u001b[33m\r\n",
      "\u001b[0m"
     ]
    },
    {
     "name": "stdout",
     "output_type": "stream",
     "text": [
      "DGL installed!\n"
     ]
    }
   ],
   "source": [
    "# Install required packages.\n",
    "import os\n",
    "import torch\n",
    "import numpy as np\n",
    "os.environ['TORCH'] = torch.__version__\n",
    "os.environ['DGLBACKEND'] = \"pytorch\"\n",
    "\n",
    "# Install the CPU version.\n",
    "device = torch.device(\"cpu\")\n",
    "!pip install --pre dgl -f https://data.dgl.ai/wheels-test/repo.html\n",
    "\n",
    "try:\n",
    "    import dgl\n",
    "    import dgl.graphbolt as gb\n",
    "    installed = True\n",
    "except ImportError as error:\n",
    "    installed = False\n",
    "    print(error)\n",
    "print(\"DGL installed!\" if installed else \"DGL not found!\")"
   ]
  },
  {
   "cell_type": "markdown",
   "metadata": {
    "id": "2R7WnSbjsfbr"
   },
   "source": [
    "## Data preparation\n",
    "In order to demonstrate how to organize various data, let's create a base directory first."
   ]
  },
  {
   "cell_type": "code",
   "execution_count": 2,
   "metadata": {
    "execution": {
     "iopub.execute_input": "2024-10-10T14:22:26.154705Z",
     "iopub.status.busy": "2024-10-10T14:22:26.154067Z",
     "iopub.status.idle": "2024-10-10T14:22:26.159851Z",
     "shell.execute_reply": "2024-10-10T14:22:26.158972Z"
    },
    "id": "SZipbzyltLfO"
   },
   "outputs": [
    {
     "name": "stdout",
     "output_type": "stream",
     "text": [
      "Created base directory: ./ondisk_dataset_homograph\n"
     ]
    }
   ],
   "source": [
    "base_dir = './ondisk_dataset_homograph'\n",
    "os.makedirs(base_dir, exist_ok=True)\n",
    "print(f\"Created base directory: {base_dir}\")"
   ]
  },
  {
   "cell_type": "markdown",
   "metadata": {
    "id": "qhNtIn_xhlnl"
   },
   "source": [
    "### Generate graph structure data\n",
    "For homogeneous graph, we just need to save edges(namely seeds) into  **Numpy** or **CSV** file.\n",
    "\n",
    "Note:\n",
    "- when saving to **Numpy**, the array requires to be in shape of `(2, N)`. This format is recommended as constructing graph from it is much faster than **CSV** file.\n",
    "- when saving to **CSV** file, do not save index and header.\n"
   ]
  },
  {
   "cell_type": "code",
   "execution_count": 3,
   "metadata": {
    "execution": {
     "iopub.execute_input": "2024-10-10T14:22:26.162026Z",
     "iopub.status.busy": "2024-10-10T14:22:26.161819Z",
     "iopub.status.idle": "2024-10-10T14:22:26.175543Z",
     "shell.execute_reply": "2024-10-10T14:22:26.174655Z"
    },
    "id": "HcBt4G5BmSjr"
   },
   "outputs": [
    {
     "name": "stdout",
     "output_type": "stream",
     "text": [
      "Part of edges: [[663 726]\n",
      " [305 346]\n",
      " [627 921]\n",
      " [249 313]\n",
      " [514 700]]\n",
      "Edges are saved into ./ondisk_dataset_homograph/edges.csv\n"
     ]
    }
   ],
   "source": [
    "import numpy as np\n",
    "import pandas as pd\n",
    "num_nodes = 1000\n",
    "num_edges = 10 * num_nodes\n",
    "edges_path = os.path.join(base_dir, \"edges.csv\")\n",
    "edges = np.random.randint(0, num_nodes, size=(num_edges, 2))\n",
    "\n",
    "print(f\"Part of edges: {edges[:5, :]}\")\n",
    "\n",
    "df = pd.DataFrame(edges)\n",
    "df.to_csv(edges_path, index=False, header=False)\n",
    "\n",
    "print(f\"Edges are saved into {edges_path}\")"
   ]
  },
  {
   "cell_type": "markdown",
   "metadata": {
    "id": "kh-4cPtzpcaH"
   },
   "source": [
    "### Generate feature data for graph\n",
    "For feature data, numpy arrays and torch tensors are supported for now."
   ]
  },
  {
   "cell_type": "code",
   "execution_count": 4,
   "metadata": {
    "execution": {
     "iopub.execute_input": "2024-10-10T14:22:26.177843Z",
     "iopub.status.busy": "2024-10-10T14:22:26.177529Z",
     "iopub.status.idle": "2024-10-10T14:22:26.197217Z",
     "shell.execute_reply": "2024-10-10T14:22:26.195587Z"
    },
    "id": "_PVu1u5brBhF"
   },
   "outputs": [
    {
     "name": "stdout",
     "output_type": "stream",
     "text": [
      "Part of node feature [feat_0]: [[0.04093884 0.9950292  0.15351771 0.86946442 0.51702392]\n",
      " [0.52921568 0.27660419 0.52068214 0.45268581 0.47496578]\n",
      " [0.0938868  0.20321485 0.0100863  0.30944808 0.22376821]]\n",
      "Node feature [feat_0] is saved to ./ondisk_dataset_homograph/node-feat-0.npy\n",
      "\n",
      "Part of node feature [feat_1]: tensor([[0.9067, 0.7294, 0.3233, 0.4409, 0.1452],\n",
      "        [0.0546, 0.4297, 0.1601, 0.8319, 0.3345],\n",
      "        [0.0770, 0.0034, 0.4205, 0.5760, 0.9221]])\n",
      "Node feature [feat_1] is saved to ./ondisk_dataset_homograph/node-feat-1.pt\n",
      "\n",
      "Part of edge feature [feat_0]: [[0.54192895 0.6176052  0.48802825 0.78147455 0.08466859]\n",
      " [0.30601222 0.12318552 0.03886162 0.79783752 0.34066709]\n",
      " [0.19741341 0.38509535 0.4365539  0.25401118 0.44384224]]\n",
      "Edge feature [feat_0] is saved to ./ondisk_dataset_homograph/edge-feat-0.npy\n",
      "\n",
      "Part of edge feature [feat_1]: tensor([[0.4423, 0.9109, 0.0648, 0.5780, 0.3048],\n",
      "        [0.2543, 0.0434, 0.6310, 0.1776, 0.5173],\n",
      "        [0.0618, 0.5439, 0.9826, 0.6163, 0.3049]])\n",
      "Edge feature [feat_1] is saved to ./ondisk_dataset_homograph/edge-feat-1.pt\n",
      "\n"
     ]
    }
   ],
   "source": [
    "# Generate node feature in numpy array.\n",
    "node_feat_0_path = os.path.join(base_dir, \"node-feat-0.npy\")\n",
    "node_feat_0 = np.random.rand(num_nodes, 5)\n",
    "print(f\"Part of node feature [feat_0]: {node_feat_0[:3, :]}\")\n",
    "np.save(node_feat_0_path, node_feat_0)\n",
    "print(f\"Node feature [feat_0] is saved to {node_feat_0_path}\\n\")\n",
    "\n",
    "# Generate another node feature in torch tensor\n",
    "node_feat_1_path = os.path.join(base_dir, \"node-feat-1.pt\")\n",
    "node_feat_1 = torch.rand(num_nodes, 5)\n",
    "print(f\"Part of node feature [feat_1]: {node_feat_1[:3, :]}\")\n",
    "torch.save(node_feat_1, node_feat_1_path)\n",
    "print(f\"Node feature [feat_1] is saved to {node_feat_1_path}\\n\")\n",
    "\n",
    "# Generate edge feature in numpy array.\n",
    "edge_feat_0_path = os.path.join(base_dir, \"edge-feat-0.npy\")\n",
    "edge_feat_0 = np.random.rand(num_edges, 5)\n",
    "print(f\"Part of edge feature [feat_0]: {edge_feat_0[:3, :]}\")\n",
    "np.save(edge_feat_0_path, edge_feat_0)\n",
    "print(f\"Edge feature [feat_0] is saved to {edge_feat_0_path}\\n\")\n",
    "\n",
    "# Generate another edge feature in torch tensor\n",
    "edge_feat_1_path = os.path.join(base_dir, \"edge-feat-1.pt\")\n",
    "edge_feat_1 = torch.rand(num_edges, 5)\n",
    "print(f\"Part of edge feature [feat_1]: {edge_feat_1[:3, :]}\")\n",
    "torch.save(edge_feat_1, edge_feat_1_path)\n",
    "print(f\"Edge feature [feat_1] is saved to {edge_feat_1_path}\\n\")\n"
   ]
  },
  {
   "cell_type": "markdown",
   "metadata": {
    "id": "ZyqgOtsIwzh_"
   },
   "source": [
    "### Generate tasks\n",
    "`OnDiskDataset` supports multiple tasks. For each task, we need to prepare training/validation/test sets respectively. Such sets usually vary among different tasks. In this tutorial, let's create a **Node Classification** task and **Link Prediction** task."
   ]
  },
  {
   "cell_type": "markdown",
   "metadata": {
    "id": "hVxHaDIfzCkr"
   },
   "source": [
    "#### Node Classification Task\n",
    "For node classification task, we need **node IDs** and corresponding **labels** for each training/validation/test set. Like feature data, numpy arrays and torch tensors are supported for these sets."
   ]
  },
  {
   "cell_type": "code",
   "execution_count": 5,
   "metadata": {
    "execution": {
     "iopub.execute_input": "2024-10-10T14:22:26.199625Z",
     "iopub.status.busy": "2024-10-10T14:22:26.199152Z",
     "iopub.status.idle": "2024-10-10T14:22:26.210680Z",
     "shell.execute_reply": "2024-10-10T14:22:26.209719Z"
    },
    "id": "S5-fyBbHzTCO"
   },
   "outputs": [
    {
     "name": "stdout",
     "output_type": "stream",
     "text": [
      "Part of train ids for node classification: [285  62 187]\n",
      "NC train ids are saved to ./ondisk_dataset_homograph/nc-train-ids.npy\n",
      "\n",
      "Part of train labels for node classification: tensor([0, 4, 3])\n",
      "NC train labels are saved to ./ondisk_dataset_homograph/nc-train-labels.pt\n",
      "\n",
      "Part of val ids for node classification: [194 961 595]\n",
      "NC val ids are saved to ./ondisk_dataset_homograph/nc-val-ids.npy\n",
      "\n",
      "Part of val labels for node classification: tensor([9, 5, 8])\n",
      "NC val labels are saved to ./ondisk_dataset_homograph/nc-val-labels.pt\n",
      "\n",
      "Part of test ids for node classification: [549 462 174]\n",
      "NC test ids are saved to ./ondisk_dataset_homograph/nc-test-ids.npy\n",
      "\n",
      "Part of test labels for node classification: tensor([1, 2, 6])\n",
      "NC test labels are saved to ./ondisk_dataset_homograph/nc-test-labels.pt\n",
      "\n"
     ]
    }
   ],
   "source": [
    "num_trains = int(num_nodes * 0.6)\n",
    "num_vals = int(num_nodes * 0.2)\n",
    "num_tests = num_nodes - num_trains - num_vals\n",
    "\n",
    "ids = np.arange(num_nodes)\n",
    "np.random.shuffle(ids)\n",
    "\n",
    "nc_train_ids_path = os.path.join(base_dir, \"nc-train-ids.npy\")\n",
    "nc_train_ids = ids[:num_trains]\n",
    "print(f\"Part of train ids for node classification: {nc_train_ids[:3]}\")\n",
    "np.save(nc_train_ids_path, nc_train_ids)\n",
    "print(f\"NC train ids are saved to {nc_train_ids_path}\\n\")\n",
    "\n",
    "nc_train_labels_path = os.path.join(base_dir, \"nc-train-labels.pt\")\n",
    "nc_train_labels = torch.randint(0, 10, (num_trains,))\n",
    "print(f\"Part of train labels for node classification: {nc_train_labels[:3]}\")\n",
    "torch.save(nc_train_labels, nc_train_labels_path)\n",
    "print(f\"NC train labels are saved to {nc_train_labels_path}\\n\")\n",
    "\n",
    "nc_val_ids_path = os.path.join(base_dir, \"nc-val-ids.npy\")\n",
    "nc_val_ids = ids[num_trains:num_trains+num_vals]\n",
    "print(f\"Part of val ids for node classification: {nc_val_ids[:3]}\")\n",
    "np.save(nc_val_ids_path, nc_val_ids)\n",
    "print(f\"NC val ids are saved to {nc_val_ids_path}\\n\")\n",
    "\n",
    "nc_val_labels_path = os.path.join(base_dir, \"nc-val-labels.pt\")\n",
    "nc_val_labels = torch.randint(0, 10, (num_vals,))\n",
    "print(f\"Part of val labels for node classification: {nc_val_labels[:3]}\")\n",
    "torch.save(nc_val_labels, nc_val_labels_path)\n",
    "print(f\"NC val labels are saved to {nc_val_labels_path}\\n\")\n",
    "\n",
    "nc_test_ids_path = os.path.join(base_dir, \"nc-test-ids.npy\")\n",
    "nc_test_ids = ids[-num_tests:]\n",
    "print(f\"Part of test ids for node classification: {nc_test_ids[:3]}\")\n",
    "np.save(nc_test_ids_path, nc_test_ids)\n",
    "print(f\"NC test ids are saved to {nc_test_ids_path}\\n\")\n",
    "\n",
    "nc_test_labels_path = os.path.join(base_dir, \"nc-test-labels.pt\")\n",
    "nc_test_labels = torch.randint(0, 10, (num_tests,))\n",
    "print(f\"Part of test labels for node classification: {nc_test_labels[:3]}\")\n",
    "torch.save(nc_test_labels, nc_test_labels_path)\n",
    "print(f\"NC test labels are saved to {nc_test_labels_path}\\n\")"
   ]
  },
  {
   "cell_type": "markdown",
   "metadata": {
    "id": "LhAcDCHQ_KJ0"
   },
   "source": [
    "#### Link Prediction Task\n",
    "For link prediction task, we need **seeds** or **corresponding labels and indexes** which representing the pos/neg property and group of the seeds for each training/validation/test set. Like feature data, numpy arrays and torch tensors are supported for these sets."
   ]
  },
  {
   "cell_type": "code",
   "execution_count": 6,
   "metadata": {
    "execution": {
     "iopub.execute_input": "2024-10-10T14:22:26.213185Z",
     "iopub.status.busy": "2024-10-10T14:22:26.212721Z",
     "iopub.status.idle": "2024-10-10T14:22:26.231131Z",
     "shell.execute_reply": "2024-10-10T14:22:26.230266Z"
    },
    "id": "u0jCnXIcAQy4"
   },
   "outputs": [
    {
     "name": "stdout",
     "output_type": "stream",
     "text": [
      "Part of train seeds for link prediction: [[663 726]\n",
      " [305 346]\n",
      " [627 921]]\n",
      "LP train seeds are saved to ./ondisk_dataset_homograph/lp-train-seeds.npy\n",
      "\n",
      "Part of val seeds for link prediction: [[393 329]\n",
      " [998 639]\n",
      " [334 994]]\n",
      "LP val seeds are saved to ./ondisk_dataset_homograph/lp-val-seeds.npy\n",
      "\n",
      "Part of val labels for link prediction: [1. 1. 1.]\n",
      "LP val labels are saved to ./ondisk_dataset_homograph/lp-val-labels.npy\n",
      "\n",
      "Part of val indexes for link prediction: [0 1 2]\n",
      "LP val indexes are saved to ./ondisk_dataset_homograph/lp-val-indexes.npy\n",
      "\n",
      "Part of test seeds for link prediction: [[189  80]\n",
      " [410 255]\n",
      " [184 747]]\n",
      "LP test seeds are saved to ./ondisk_dataset_homograph/lp-test-seeds.npy\n",
      "\n",
      "Part of val labels for link prediction: [1. 1. 1.]\n",
      "LP test labels are saved to ./ondisk_dataset_homograph/lp-test-labels.npy\n",
      "\n",
      "Part of test indexes for link prediction: [0 1 2]\n",
      "LP test indexes are saved to ./ondisk_dataset_homograph/lp-test-indexes.npy\n",
      "\n"
     ]
    }
   ],
   "source": [
    "num_trains = int(num_edges * 0.6)\n",
    "num_vals = int(num_edges * 0.2)\n",
    "num_tests = num_edges - num_trains - num_vals\n",
    "\n",
    "lp_train_seeds_path = os.path.join(base_dir, \"lp-train-seeds.npy\")\n",
    "lp_train_seeds = edges[:num_trains, :]\n",
    "print(f\"Part of train seeds for link prediction: {lp_train_seeds[:3]}\")\n",
    "np.save(lp_train_seeds_path, lp_train_seeds)\n",
    "print(f\"LP train seeds are saved to {lp_train_seeds_path}\\n\")\n",
    "\n",
    "lp_val_seeds_path = os.path.join(base_dir, \"lp-val-seeds.npy\")\n",
    "lp_val_seeds = edges[num_trains:num_trains+num_vals, :]\n",
    "lp_val_neg_dsts = np.random.randint(0, num_nodes, (num_vals, 10)).reshape(-1)\n",
    "lp_val_neg_srcs = np.repeat(lp_val_seeds[:,0], 10)\n",
    "lp_val_neg_seeds = np.concatenate((lp_val_neg_srcs, lp_val_neg_dsts)).reshape(2,-1).T\n",
    "lp_val_seeds = np.concatenate((lp_val_seeds, lp_val_neg_seeds))\n",
    "print(f\"Part of val seeds for link prediction: {lp_val_seeds[:3]}\")\n",
    "np.save(lp_val_seeds_path, lp_val_seeds)\n",
    "print(f\"LP val seeds are saved to {lp_val_seeds_path}\\n\")\n",
    "\n",
    "lp_val_labels_path = os.path.join(base_dir, \"lp-val-labels.npy\")\n",
    "lp_val_labels = np.empty(num_vals * (10 + 1))\n",
    "lp_val_labels[:num_vals] = 1\n",
    "lp_val_labels[num_vals:] = 0\n",
    "print(f\"Part of val labels for link prediction: {lp_val_labels[:3]}\")\n",
    "np.save(lp_val_labels_path, lp_val_labels)\n",
    "print(f\"LP val labels are saved to {lp_val_labels_path}\\n\")\n",
    "\n",
    "lp_val_indexes_path = os.path.join(base_dir, \"lp-val-indexes.npy\")\n",
    "lp_val_indexes = np.arange(0, num_vals)\n",
    "lp_val_neg_indexes = np.repeat(lp_val_indexes, 10)\n",
    "lp_val_indexes = np.concatenate([lp_val_indexes, lp_val_neg_indexes])\n",
    "print(f\"Part of val indexes for link prediction: {lp_val_indexes[:3]}\")\n",
    "np.save(lp_val_indexes_path, lp_val_indexes)\n",
    "print(f\"LP val indexes are saved to {lp_val_indexes_path}\\n\")\n",
    "\n",
    "lp_test_seeds_path = os.path.join(base_dir, \"lp-test-seeds.npy\")\n",
    "lp_test_seeds = edges[-num_tests:, :]\n",
    "lp_test_neg_dsts = np.random.randint(0, num_nodes, (num_tests, 10)).reshape(-1)\n",
    "lp_test_neg_srcs = np.repeat(lp_test_seeds[:,0], 10)\n",
    "lp_test_neg_seeds = np.concatenate((lp_test_neg_srcs, lp_test_neg_dsts)).reshape(2,-1).T\n",
    "lp_test_seeds = np.concatenate((lp_test_seeds, lp_test_neg_seeds))\n",
    "print(f\"Part of test seeds for link prediction: {lp_test_seeds[:3]}\")\n",
    "np.save(lp_test_seeds_path, lp_test_seeds)\n",
    "print(f\"LP test seeds are saved to {lp_test_seeds_path}\\n\")\n",
    "\n",
    "lp_test_labels_path = os.path.join(base_dir, \"lp-test-labels.npy\")\n",
    "lp_test_labels = np.empty(num_tests * (10 + 1))\n",
    "lp_test_labels[:num_tests] = 1\n",
    "lp_test_labels[num_tests:] = 0\n",
    "print(f\"Part of val labels for link prediction: {lp_test_labels[:3]}\")\n",
    "np.save(lp_test_labels_path, lp_test_labels)\n",
    "print(f\"LP test labels are saved to {lp_test_labels_path}\\n\")\n",
    "\n",
    "lp_test_indexes_path = os.path.join(base_dir, \"lp-test-indexes.npy\")\n",
    "lp_test_indexes = np.arange(0, num_tests)\n",
    "lp_test_neg_indexes = np.repeat(lp_test_indexes, 10)\n",
    "lp_test_indexes = np.concatenate([lp_test_indexes, lp_test_neg_indexes])\n",
    "print(f\"Part of test indexes for link prediction: {lp_test_indexes[:3]}\")\n",
    "np.save(lp_test_indexes_path, lp_test_indexes)\n",
    "print(f\"LP test indexes are saved to {lp_test_indexes_path}\\n\")"
   ]
  },
  {
   "cell_type": "markdown",
   "metadata": {
    "id": "wbk6-wxRK-6S"
   },
   "source": [
    "## Organize Data into YAML File\n",
    "Now we need to create a `metadata.yaml` file which contains the paths, dadta types of graph structure, feature data, training/validation/test sets.\n",
    "\n",
    "Notes:\n",
    "- all path should be relative to `metadata.yaml`.\n",
    "- Below fields are optional and not specified in below example.\n",
    "  - `in_memory`: indicates whether to load dada into memory or `mmap`. Default is `True`.\n",
    "\n",
    "Please refer to [YAML specification](https://github.com/dmlc/dgl/blob/master/docs/source/stochastic_training/ondisk-dataset-specification.rst) for more details."
   ]
  },
  {
   "cell_type": "code",
   "execution_count": 7,
   "metadata": {
    "execution": {
     "iopub.execute_input": "2024-10-10T14:22:26.233702Z",
     "iopub.status.busy": "2024-10-10T14:22:26.233310Z",
     "iopub.status.idle": "2024-10-10T14:22:26.240649Z",
     "shell.execute_reply": "2024-10-10T14:22:26.239757Z"
    },
    "id": "ddGTWW61Lpwp"
   },
   "outputs": [],
   "source": [
    "yaml_content = f\"\"\"\n",
    "    dataset_name: homogeneous_graph_nc_lp\n",
    "    graph:\n",
    "      nodes:\n",
    "        - num: {num_nodes}\n",
    "      edges:\n",
    "        - format: csv\n",
    "          path: {os.path.basename(edges_path)}\n",
    "    feature_data:\n",
    "      - domain: node\n",
    "        name: feat_0\n",
    "        format: numpy\n",
    "        path: {os.path.basename(node_feat_0_path)}\n",
    "      - domain: node\n",
    "        name: feat_1\n",
    "        format: torch\n",
    "        path: {os.path.basename(node_feat_1_path)}\n",
    "      - domain: edge\n",
    "        name: feat_0\n",
    "        format: numpy\n",
    "        path: {os.path.basename(edge_feat_0_path)}\n",
    "      - domain: edge\n",
    "        name: feat_1\n",
    "        format: torch\n",
    "        path: {os.path.basename(edge_feat_1_path)}\n",
    "    tasks:\n",
    "      - name: node_classification\n",
    "        num_classes: 10\n",
    "        train_set:\n",
    "          - data:\n",
    "              - name: seeds\n",
    "                format: numpy\n",
    "                path: {os.path.basename(nc_train_ids_path)}\n",
    "              - name: labels\n",
    "                format: torch\n",
    "                path: {os.path.basename(nc_train_labels_path)}\n",
    "        validation_set:\n",
    "          - data:\n",
    "              - name: seeds\n",
    "                format: numpy\n",
    "                path: {os.path.basename(nc_val_ids_path)}\n",
    "              - name: labels\n",
    "                format: torch\n",
    "                path: {os.path.basename(nc_val_labels_path)}\n",
    "        test_set:\n",
    "          - data:\n",
    "              - name: seeds\n",
    "                format: numpy\n",
    "                path: {os.path.basename(nc_test_ids_path)}\n",
    "              - name: labels\n",
    "                format: torch\n",
    "                path: {os.path.basename(nc_test_labels_path)}\n",
    "      - name: link_prediction\n",
    "        num_classes: 10\n",
    "        train_set:\n",
    "          - data:\n",
    "              - name: seeds\n",
    "                format: numpy\n",
    "                path: {os.path.basename(lp_train_seeds_path)}\n",
    "        validation_set:\n",
    "          - data:\n",
    "              - name: seeds\n",
    "                format: numpy\n",
    "                path: {os.path.basename(lp_val_seeds_path)}\n",
    "              - name: labels\n",
    "                format: numpy\n",
    "                path: {os.path.basename(lp_val_labels_path)}\n",
    "              - name: indexes\n",
    "                format: numpy\n",
    "                path: {os.path.basename(lp_val_indexes_path)}\n",
    "        test_set:\n",
    "          - data:\n",
    "              - name: seeds\n",
    "                format: numpy\n",
    "                path: {os.path.basename(lp_test_seeds_path)}\n",
    "              - name: labels\n",
    "                format: numpy\n",
    "                path: {os.path.basename(lp_test_labels_path)}\n",
    "              - name: indexes\n",
    "                format: numpy\n",
    "                path: {os.path.basename(lp_test_indexes_path)}\n",
    "\"\"\"\n",
    "metadata_path = os.path.join(base_dir, \"metadata.yaml\")\n",
    "with open(metadata_path, \"w\") as f:\n",
    "  f.write(yaml_content)"
   ]
  },
  {
   "cell_type": "markdown",
   "metadata": {
    "id": "kEfybHGhOW7O"
   },
   "source": [
    "## Instantiate `OnDiskDataset`\n",
    "Now we're ready to load dataset via `dgl.graphbolt.OnDiskDataset`. When instantiating, we just pass in the base directory where `metadata.yaml` file lies.\n",
    "\n",
    "During first instantiation, GraphBolt preprocesses the raw data such as constructing `FusedCSCSamplingGraph` from edges. All data including graph, feature data, training/validation/test sets are put into `preprocessed` directory after preprocessing. Any following dataset loading will skip the preprocess stage.\n",
    "\n",
    "After preprocessing, `load()` is required to be called explicitly in order to load graph, feature data and tasks."
   ]
  },
  {
   "cell_type": "code",
   "execution_count": 8,
   "metadata": {
    "execution": {
     "iopub.execute_input": "2024-10-10T14:22:26.242786Z",
     "iopub.status.busy": "2024-10-10T14:22:26.242393Z",
     "iopub.status.idle": "2024-10-10T14:22:26.317332Z",
     "shell.execute_reply": "2024-10-10T14:22:26.316555Z"
    },
    "id": "W58CZoSzOiyo"
   },
   "outputs": [
    {
     "name": "stdout",
     "output_type": "stream",
     "text": [
      "Start to preprocess the on-disk dataset.\n",
      "Finish preprocessing the on-disk dataset.\n",
      "Loaded graph: FusedCSCSamplingGraph(csc_indptr=tensor([    0,    10,    16,  ...,  9982,  9991, 10000], dtype=torch.int32),\n",
      "                      indices=tensor([902, 193, 582,  ..., 796, 817,  83], dtype=torch.int32),\n",
      "                      total_num_nodes=1000, num_edges=10000,)\n",
      "\n",
      "Loaded feature store: TorchBasedFeatureStore(\n",
      "    {(<OnDiskFeatureDataDomain.NODE: 'node'>, None, 'feat_0'): TorchBasedFeature(\n",
      "        feature=tensor([[0.0409, 0.9950, 0.1535, 0.8695, 0.5170],\n",
      "                        [0.5292, 0.2766, 0.5207, 0.4527, 0.4750],\n",
      "                        [0.0939, 0.2032, 0.0101, 0.3094, 0.2238],\n",
      "                        ...,\n",
      "                        [0.4212, 0.7833, 0.5893, 0.7102, 0.4070],\n",
      "                        [0.7783, 0.3226, 0.7314, 0.7247, 0.1581],\n",
      "                        [0.2009, 0.7117, 0.4529, 0.4544, 0.8057]], dtype=torch.float64),\n",
      "        metadata={},\n",
      "    ), (<OnDiskFeatureDataDomain.NODE: 'node'>, None, 'feat_1'): TorchBasedFeature(\n",
      "        feature=tensor([[0.9067, 0.7294, 0.3233, 0.4409, 0.1452],\n",
      "                        [0.0546, 0.4297, 0.1601, 0.8319, 0.3345],\n",
      "                        [0.0770, 0.0034, 0.4205, 0.5760, 0.9221],\n",
      "                        ...,\n",
      "                        [0.2854, 0.5214, 0.1913, 0.7536, 0.6149],\n",
      "                        [0.2963, 0.9893, 0.5520, 0.1576, 0.7708],\n",
      "                        [0.6479, 0.0160, 0.7291, 0.6146, 0.8403]]),\n",
      "        metadata={},\n",
      "    ), (<OnDiskFeatureDataDomain.EDGE: 'edge'>, None, 'feat_0'): TorchBasedFeature(\n",
      "        feature=tensor([[0.5419, 0.6176, 0.4880, 0.7815, 0.0847],\n",
      "                        [0.3060, 0.1232, 0.0389, 0.7978, 0.3407],\n",
      "                        [0.1974, 0.3851, 0.4366, 0.2540, 0.4438],\n",
      "                        ...,\n",
      "                        [0.6806, 0.7194, 0.1724, 0.0160, 0.5199],\n",
      "                        [0.9442, 0.8667, 0.7650, 0.9917, 0.9410],\n",
      "                        [0.5429, 0.6079, 0.6791, 0.7477, 0.0722]], dtype=torch.float64),\n",
      "        metadata={},\n",
      "    ), (<OnDiskFeatureDataDomain.EDGE: 'edge'>, None, 'feat_1'): TorchBasedFeature(\n",
      "        feature=tensor([[0.4423, 0.9109, 0.0648, 0.5780, 0.3048],\n",
      "                        [0.2543, 0.0434, 0.6310, 0.1776, 0.5173],\n",
      "                        [0.0618, 0.5439, 0.9826, 0.6163, 0.3049],\n",
      "                        ...,\n",
      "                        [0.9343, 0.2883, 0.1864, 0.4299, 0.0481],\n",
      "                        [0.3344, 0.0361, 0.1177, 0.8262, 0.1224],\n",
      "                        [0.4471, 0.6741, 0.5833, 0.4457, 0.4137]]),\n",
      "        metadata={},\n",
      "    )}\n",
      ")\n",
      "\n",
      "Loaded node classification task: OnDiskTask(validation_set=ItemSet(\n",
      "               items=(tensor([194, 961, 595, 403, 339,  70, 320, 910,  58, 438, 857, 966, 883, 663,\n",
      "                    19, 766, 377, 893,  83, 774, 965, 373, 522, 406, 927, 360, 975, 503,\n",
      "                   735, 104, 772, 572, 375,  81,  74, 149, 915, 249, 834, 515, 561, 388,\n",
      "                   270, 444, 246, 499, 196, 765, 687, 669, 570, 115, 795, 260,  51, 439,\n",
      "                   502, 956, 715, 427, 364, 869, 847, 472, 117, 880, 274, 896, 527, 124,\n",
      "                   649, 783,  47, 746, 729, 710, 602, 417, 754, 369, 685, 526, 777, 282,\n",
      "                    28, 763, 999, 996, 593, 717, 864, 356, 962, 916, 622, 741, 171, 949,\n",
      "                   261, 803, 889, 423, 542, 724, 908, 623, 618, 627, 650, 992, 843, 742,\n",
      "                   584, 353, 433,  26, 922, 437, 180, 384, 182, 481, 901, 159,  64, 306,\n",
      "                   781, 673, 170, 100, 540,  85, 177, 368, 814, 106, 389, 935, 111, 103,\n",
      "                   396, 519, 461, 331, 828, 495, 405, 161, 798, 207, 450,  80, 684,  52,\n",
      "                   521, 624, 734, 166, 932, 379, 407, 189, 303, 705, 970, 677, 264, 125,\n",
      "                   693, 176, 701, 873, 313, 201,   8, 574, 748, 416, 708,  87, 954, 193,\n",
      "                   138, 324, 128, 547, 881, 374, 529, 745, 204, 275, 876, 277,  78, 887,\n",
      "                   609, 620, 712, 470], dtype=torch.int32), tensor([9, 5, 8, 4, 3, 2, 7, 0, 4, 3, 6, 5, 7, 5, 7, 4, 0, 8, 5, 5, 9, 1, 1, 8,\n",
      "                   1, 3, 9, 0, 9, 0, 6, 3, 3, 0, 2, 6, 9, 1, 4, 1, 9, 5, 7, 4, 3, 0, 9, 1,\n",
      "                   3, 4, 7, 1, 7, 5, 2, 2, 9, 9, 4, 4, 1, 4, 0, 0, 6, 1, 9, 7, 3, 8, 1, 2,\n",
      "                   8, 0, 9, 8, 8, 6, 4, 5, 4, 1, 6, 9, 7, 1, 0, 7, 7, 3, 9, 4, 2, 3, 3, 8,\n",
      "                   6, 8, 6, 5, 3, 6, 8, 4, 7, 2, 0, 5, 3, 7, 4, 1, 5, 1, 6, 4, 9, 3, 4, 5,\n",
      "                   8, 8, 3, 7, 8, 4, 5, 7, 7, 3, 4, 1, 5, 3, 5, 8, 0, 7, 5, 2, 6, 9, 1, 8,\n",
      "                   1, 2, 8, 2, 2, 1, 1, 0, 9, 8, 2, 6, 2, 6, 6, 9, 2, 8, 3, 0, 2, 0, 1, 4,\n",
      "                   0, 6, 5, 4, 0, 6, 4, 6, 7, 8, 6, 5, 9, 4, 7, 5, 6, 9, 4, 5, 6, 6, 5, 9,\n",
      "                   2, 9, 6, 8, 6, 6, 5, 9])),\n",
      "               names=('seeds', 'labels'),\n",
      "           ),\n",
      "           train_set=ItemSet(\n",
      "               items=(tensor([285,  62, 187, 489, 851, 235, 610, 546, 799, 391, 926, 463, 787, 957,\n",
      "                   780, 543, 796, 413, 102, 467, 215, 606, 322, 441, 979, 172, 544, 454,\n",
      "                   268, 510, 990, 401, 352,  42, 794, 123, 479, 759, 434, 258, 640,  32,\n",
      "                   484, 672, 314, 537,  96, 390, 818, 668, 728, 848, 480, 878, 612, 892,\n",
      "                   265, 291, 239, 844, 492,  27, 972, 793, 210, 309,  38, 819, 657, 585,\n",
      "                   162, 343, 157, 858, 133, 468, 199, 428, 408, 528, 698, 815, 976, 895,\n",
      "                   448, 532, 653,  43, 981, 482, 386,  67, 362, 726, 357, 621, 779, 328,\n",
      "                   560, 832,   4, 948,  14, 512, 195, 147, 596, 295, 394, 551, 946, 611,\n",
      "                    63, 208, 643, 346, 924, 317, 592, 335, 262, 421, 410, 807, 506, 680,\n",
      "                   371,  33, 845, 600, 691, 583, 283, 736, 913, 425, 939, 321,  89, 550,\n",
      "                   905, 348, 921, 897, 140,  50, 211, 135,  15, 989, 378, 804, 342, 943,\n",
      "                   987, 868, 830, 660, 476, 719, 997,  23, 718, 308,  86, 253, 112,  41,\n",
      "                   731, 137, 536, 589, 983, 874, 188, 535, 224, 666, 523, 816, 644, 452,\n",
      "                   144, 630, 221,  35, 539, 181, 963, 918, 853, 245, 974, 219,  46, 451,\n",
      "                   486, 587, 667, 538,  40, 755, 831, 271, 491, 648, 856, 119, 812, 702,\n",
      "                   733, 404, 942, 298, 337, 805,  92, 682, 714, 809, 885, 447, 393, 789,\n",
      "                   516, 344, 471, 882, 671, 912, 340, 676, 813, 494, 151,  77, 507, 899,\n",
      "                     1, 458, 475, 769, 216,  16, 227, 231, 608, 875, 108, 267, 307,  73,\n",
      "                   525, 336, 846, 269, 399, 977, 198, 664, 154, 300, 678, 688, 381, 355,\n",
      "                   541, 487, 936, 310, 440, 829, 960, 991, 771, 273, 852,  48, 319, 801,\n",
      "                   706, 247,  36, 985, 767, 665,  90, 338, 152,  95, 988, 398, 911, 365,\n",
      "                   707, 165, 632, 279, 577,  45, 511, 257, 825, 323, 105, 568, 354, 122,\n",
      "                    79, 266, 156, 520, 366, 576, 334, 756, 925, 109, 409, 743, 146, 613,\n",
      "                   723, 792, 778,  93,  30, 318,  82, 281, 646, 141, 782, 101, 200, 586,\n",
      "                   928, 555, 973, 656, 272, 372, 483,  65, 909,  60, 217, 545, 302, 445,\n",
      "                    24, 674, 464, 333, 564, 971, 598, 120, 739, 311, 359, 675, 826, 558,\n",
      "                   234, 722, 995, 110, 709, 114, 305, 212, 607, 588, 504, 737, 679, 738,\n",
      "                   330, 490, 143, 168, 941, 350, 127, 770, 129,  66, 662, 316, 376, 652,\n",
      "                    97,  31, 183, 509, 566,   9, 424, 430, 776, 827, 121, 658, 811, 884,\n",
      "                   686, 412, 625, 850, 237,  61, 179, 186, 289, 697, 683, 367, 175, 968,\n",
      "                   501, 727, 370, 863, 139, 225, 228, 203, 591, 278,  21, 760,   3,   2,\n",
      "                   192, 903,  25, 383,   7, 980, 764, 280, 930, 474, 420, 842, 206, 326,\n",
      "                   571, 380, 645, 862, 163, 800, 397, 703, 385, 230,   6, 530, 641, 363,\n",
      "                   768, 524, 205, 256, 651, 692, 670, 254, 460, 919, 497,  91, 113, 160,\n",
      "                   548, 238, 556, 134, 636, 107, 202, 218,  20, 465, 993, 914, 639, 142,\n",
      "                   312,  56, 563, 505, 286, 250, 631, 720, 485, 732, 837, 959, 131, 700,\n",
      "                   459, 185, 387, 132, 907, 704, 594, 806, 839, 431, 299, 478, 169, 920,\n",
      "                   534, 861, 601, 866, 578,   0, 449, 191, 361,  12, 329, 565, 184, 296,\n",
      "                   455, 929, 761, 531, 655, 259, 938, 998, 297, 241, 854, 824, 351, 934,\n",
      "                   414, 190, 214, 301, 229, 619, 579, 590, 871, 958, 575, 197, 841, 442,\n",
      "                   498,  53, 287, 562, 116, 951, 867, 931, 488, 244, 242, 457, 500, 900,\n",
      "                    39, 508,  72, 637, 599, 426, 456,  18, 791, 635, 904, 418, 808, 694,\n",
      "                    37,  68, 514, 716, 888, 695, 435, 559, 419, 849, 347, 994],\n",
      "                  dtype=torch.int32), tensor([0, 4, 3, 0, 7, 9, 1, 2, 8, 6, 1, 7, 3, 9, 3, 3, 9, 7, 1, 8, 6, 4, 7, 4,\n",
      "                   3, 4, 4, 6, 7, 1, 7, 1, 0, 8, 5, 9, 8, 6, 2, 3, 1, 8, 9, 1, 8, 7, 1, 5,\n",
      "                   7, 6, 5, 4, 6, 5, 6, 0, 8, 7, 1, 4, 3, 2, 4, 9, 8, 2, 3, 5, 6, 2, 5, 4,\n",
      "                   7, 9, 5, 6, 7, 9, 9, 8, 1, 8, 6, 6, 2, 2, 2, 1, 2, 1, 6, 3, 8, 1, 3, 4,\n",
      "                   1, 9, 6, 9, 4, 0, 9, 2, 0, 1, 5, 3, 2, 9, 8, 7, 2, 2, 4, 9, 3, 5, 9, 2,\n",
      "                   3, 9, 2, 6, 9, 5, 1, 1, 5, 9, 6, 5, 5, 0, 5, 0, 8, 4, 0, 0, 9, 9, 4, 2,\n",
      "                   4, 6, 5, 9, 3, 0, 1, 3, 2, 4, 1, 5, 9, 0, 9, 1, 8, 7, 6, 1, 4, 8, 8, 5,\n",
      "                   8, 6, 4, 3, 0, 8, 2, 5, 7, 7, 9, 4, 6, 3, 0, 8, 0, 7, 2, 4, 6, 7, 4, 9,\n",
      "                   6, 3, 3, 1, 2, 9, 7, 3, 8, 2, 8, 3, 5, 7, 6, 7, 1, 7, 9, 6, 7, 8, 1, 8,\n",
      "                   8, 5, 6, 3, 0, 3, 0, 1, 1, 5, 9, 4, 2, 1, 0, 6, 3, 2, 7, 5, 1, 7, 7, 3,\n",
      "                   0, 2, 2, 3, 3, 8, 3, 2, 9, 5, 2, 5, 0, 4, 3, 9, 7, 2, 1, 6, 0, 3, 4, 3,\n",
      "                   3, 2, 2, 4, 2, 9, 3, 8, 2, 0, 7, 2, 4, 6, 8, 7, 8, 4, 7, 3, 5, 8, 5, 8,\n",
      "                   7, 1, 6, 8, 6, 0, 6, 3, 3, 1, 7, 3, 3, 6, 9, 1, 4, 3, 6, 6, 7, 8, 8, 0,\n",
      "                   3, 4, 3, 9, 9, 2, 4, 4, 8, 3, 0, 8, 7, 2, 9, 9, 0, 2, 5, 2, 8, 3, 8, 0,\n",
      "                   9, 6, 0, 6, 1, 1, 2, 8, 8, 7, 2, 2, 3, 2, 6, 3, 6, 7, 3, 2, 6, 9, 9, 9,\n",
      "                   7, 6, 4, 0, 9, 9, 4, 5, 0, 0, 3, 4, 6, 2, 0, 3, 4, 5, 6, 5, 1, 4, 3, 6,\n",
      "                   4, 3, 8, 9, 5, 0, 6, 8, 6, 3, 7, 9, 5, 9, 5, 2, 8, 9, 0, 8, 0, 4, 4, 6,\n",
      "                   2, 2, 2, 7, 9, 0, 5, 7, 0, 4, 1, 0, 3, 7, 3, 9, 8, 8, 9, 6, 8, 5, 7, 2,\n",
      "                   9, 9, 3, 9, 4, 7, 4, 7, 9, 5, 2, 5, 7, 0, 4, 6, 4, 9, 2, 9, 6, 2, 2, 1,\n",
      "                   7, 2, 3, 4, 8, 4, 8, 9, 5, 9, 0, 0, 7, 8, 3, 5, 4, 6, 7, 4, 9, 6, 6, 8,\n",
      "                   0, 3, 9, 0, 8, 8, 7, 2, 8, 6, 1, 4, 0, 8, 1, 5, 6, 3, 8, 7, 9, 4, 5, 3,\n",
      "                   3, 9, 6, 3, 6, 9, 6, 6, 6, 0, 7, 0, 7, 0, 0, 1, 7, 5, 6, 2, 7, 4, 2, 3,\n",
      "                   6, 1, 2, 3, 7, 3, 5, 3, 4, 5, 8, 6, 1, 5, 1, 6, 4, 4, 0, 2, 2, 2, 0, 7,\n",
      "                   8, 1, 6, 2, 6, 1, 5, 7, 4, 8, 8, 1, 9, 0, 3, 4, 5, 2, 8, 9, 8, 0, 4, 3,\n",
      "                   8, 3, 0, 5, 0, 4, 0, 5, 5, 2, 5, 8, 2, 2, 4, 0, 7, 7, 9, 0, 3, 9, 5, 9])),\n",
      "               names=('seeds', 'labels'),\n",
      "           ),\n",
      "           test_set=ItemSet(\n",
      "               items=(tensor([549, 462, 174, 860, 292, 626, 982, 466, 493, 753, 642,  34,  88, 986,\n",
      "                   757,  54, 822, 788, 617, 886, 616, 222, 615, 762, 833,  11, 944, 136,\n",
      "                   952, 955, 835, 647, 255,  76, 567, 158, 945, 145, 604, 947, 233, 167,\n",
      "                    55,  75, 605, 751, 725, 978, 232,  84,  44, 785, 870, 967, 659, 573,\n",
      "                   629, 345, 597, 477, 288,  49, 580, 902, 823, 411,  17, 518, 557, 786,\n",
      "                   784, 877, 730, 855, 797, 517, 443, 552, 865, 696, 740, 150, 817, 276,\n",
      "                   773, 153,  71, 251, 953, 581, 836, 209, 248, 263, 744, 749, 917, 446,\n",
      "                   758, 859, 969, 838, 879, 937, 213, 690, 681, 436, 473,  99, 453, 821,\n",
      "                   243, 872, 325, 820,  10, 513, 164, 634,  57, 126, 582, 382, 358,  59,\n",
      "                   984, 654, 402, 747, 130, 118,   5, 554,  69, 933, 603, 721, 178, 294,\n",
      "                   964, 220, 633,  29, 148, 614, 802, 906, 284, 400, 327, 661, 699, 775,\n",
      "                   432, 293, 429, 790, 469, 890, 223, 713, 415, 940, 553, 894, 689, 341,\n",
      "                   638, 750, 315, 711, 349, 236, 496, 533, 810, 898,  13, 891, 290, 569,\n",
      "                    98, 752, 173, 392, 155, 923, 304, 240, 422, 395, 252, 332,  22, 950,\n",
      "                    94, 840, 226, 628], dtype=torch.int32), tensor([1, 2, 6, 9, 6, 3, 9, 0, 9, 4, 9, 6, 5, 9, 8, 9, 8, 1, 4, 8, 4, 1, 4, 3,\n",
      "                   0, 4, 8, 9, 7, 1, 9, 7, 9, 9, 3, 5, 9, 6, 4, 9, 3, 9, 7, 5, 0, 5, 0, 4,\n",
      "                   9, 8, 2, 2, 8, 6, 5, 0, 9, 2, 2, 6, 3, 3, 8, 9, 6, 2, 0, 2, 5, 6, 2, 4,\n",
      "                   1, 3, 6, 1, 4, 3, 5, 4, 9, 8, 6, 3, 0, 1, 5, 6, 1, 5, 2, 6, 7, 8, 8, 6,\n",
      "                   7, 5, 3, 7, 9, 4, 7, 8, 8, 1, 8, 5, 5, 2, 4, 3, 3, 9, 7, 5, 5, 8, 1, 9,\n",
      "                   6, 0, 5, 6, 9, 1, 5, 2, 0, 5, 5, 3, 0, 9, 5, 1, 9, 8, 8, 2, 0, 1, 5, 4,\n",
      "                   7, 5, 1, 2, 6, 1, 8, 5, 9, 4, 6, 7, 8, 3, 9, 7, 8, 3, 2, 4, 0, 5, 8, 1,\n",
      "                   9, 4, 0, 7, 5, 0, 4, 8, 8, 6, 0, 1, 0, 2, 8, 8, 3, 6, 9, 4, 9, 3, 2, 3,\n",
      "                   6, 9, 7, 5, 2, 0, 9, 6])),\n",
      "               names=('seeds', 'labels'),\n",
      "           ),\n",
      "           metadata={'name': 'node_classification', 'num_classes': 10},)\n",
      "\n",
      "Loaded link prediction task: OnDiskTask(validation_set=ItemSet(\n",
      "               items=(tensor([[393, 329],\n",
      "                   [998, 639],\n",
      "                   [334, 994],\n",
      "                   ...,\n",
      "                   [578, 331],\n",
      "                   [578, 811],\n",
      "                   [578, 590]], dtype=torch.int32), tensor([1., 1., 1.,  ..., 0., 0., 0.], dtype=torch.float64), tensor([   0,    1,    2,  ..., 1999, 1999, 1999])),\n",
      "               names=('seeds', 'labels', 'indexes'),\n",
      "           ),\n",
      "           train_set=ItemSet(\n",
      "               items=(tensor([[663, 726],\n",
      "                   [305, 346],\n",
      "                   [627, 921],\n",
      "                   ...,\n",
      "                   [ 25, 421],\n",
      "                   [814, 793],\n",
      "                   [593,  41]], dtype=torch.int32),),\n",
      "               names=('seeds',),\n",
      "           ),\n",
      "           test_set=ItemSet(\n",
      "               items=(tensor([[189,  80],\n",
      "                   [410, 255],\n",
      "                   [184, 747],\n",
      "                   ...,\n",
      "                   [806, 517],\n",
      "                   [806, 964],\n",
      "                   [806, 505]], dtype=torch.int32), tensor([1., 1., 1.,  ..., 0., 0., 0.], dtype=torch.float64), tensor([   0,    1,    2,  ..., 1999, 1999, 1999])),\n",
      "               names=('seeds', 'labels', 'indexes'),\n",
      "           ),\n",
      "           metadata={'name': 'link_prediction', 'num_classes': 10},)\n",
      "\n"
     ]
    },
    {
     "name": "stderr",
     "output_type": "stream",
     "text": [
      "/dgl/python/dgl/graphbolt/impl/ondisk_dataset.py:463: GBWarning: Edge feature is stored, but edge IDs are not saved.\n",
      "  gb_warning(\"Edge feature is stored, but edge IDs are not saved.\")\n"
     ]
    }
   ],
   "source": [
    "dataset = gb.OnDiskDataset(base_dir).load()\n",
    "graph = dataset.graph\n",
    "print(f\"Loaded graph: {graph}\\n\")\n",
    "\n",
    "feature = dataset.feature\n",
    "print(f\"Loaded feature store: {feature}\\n\")\n",
    "\n",
    "tasks = dataset.tasks\n",
    "nc_task = tasks[0]\n",
    "print(f\"Loaded node classification task: {nc_task}\\n\")\n",
    "lp_task = tasks[1]\n",
    "print(f\"Loaded link prediction task: {lp_task}\\n\")"
   ]
  }
 ],
 "metadata": {
  "colab": {
   "private_outputs": true,
   "provenance": []
  },
  "kernelspec": {
   "display_name": "Python 3",
   "name": "python3"
  },
  "language_info": {
   "codemirror_mode": {
    "name": "ipython",
    "version": 3
   },
   "file_extension": ".py",
   "mimetype": "text/x-python",
   "name": "python",
   "nbconvert_exporter": "python",
   "pygments_lexer": "ipython3",
   "version": "3.10.15"
  }
 },
 "nbformat": 4,
 "nbformat_minor": 0
}

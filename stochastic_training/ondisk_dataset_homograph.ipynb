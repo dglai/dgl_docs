{
 "cells": [
  {
   "cell_type": "markdown",
   "metadata": {
    "id": "FnFhPMaAfLtJ"
   },
   "source": [
    "# OnDiskDataset for Homogeneous Graph\n",
    "\n",
    "[![Open In Colab](https://colab.research.google.com/assets/colab-badge.svg)](https://colab.research.google.com/github/dmlc/dgl/blob/master/notebooks/stochastic_training/ondisk_dataset_homograph.ipynb) [![GitHub](https://img.shields.io/badge/-View%20on%20GitHub-181717?logo=github&logoColor=ffffff)](https://github.com/dmlc/dgl/blob/master/notebooks/stochastic_training/ondisk_dataset_homograph.ipynb)\n",
    "\n",
    "This tutorial shows how to create `OnDiskDataset` for homogeneous graph that could be used in **GraphBolt** framework.\n",
    "\n",
    "By the end of this tutorial, you will be able to\n",
    "\n",
    "- organize graph structure data.\n",
    "- organize feature data.\n",
    "- organize training/validation/test set for specific tasks.\n",
    "\n",
    "To create an ``OnDiskDataset`` object, you need to organize all the data including graph structure, feature data and tasks into a directory. The directory should contain a ``metadata.yaml`` file that describes the metadata of the dataset.\n",
    "\n",
    "Now let's generate various data step by step and organize them together to instantiate `OnDiskDataset` finally."
   ]
  },
  {
   "cell_type": "markdown",
   "metadata": {
    "id": "Wlb19DtWgtzq"
   },
   "source": [
    "## Install DGL package"
   ]
  },
  {
   "cell_type": "code",
   "execution_count": 1,
   "metadata": {
    "execution": {
     "iopub.execute_input": "2024-09-19T13:18:17.448879Z",
     "iopub.status.busy": "2024-09-19T13:18:17.448594Z",
     "iopub.status.idle": "2024-09-19T13:18:20.471857Z",
     "shell.execute_reply": "2024-09-19T13:18:20.467547Z"
    },
    "id": "UojlT9ZGgyr9"
   },
   "outputs": [
    {
     "name": "stdout",
     "output_type": "stream",
     "text": [
      "Looking in links: https://data.dgl.ai/wheels-test/repo.html\r\n",
      "Requirement already satisfied: dgl in /opt/conda/envs/dgl-dev-cpu/lib/python3.10/site-packages (2.2a240410)\r\n",
      "Requirement already satisfied: numpy>=1.14.0 in /opt/conda/envs/dgl-dev-cpu/lib/python3.10/site-packages (from dgl) (1.26.4)\r\n",
      "Requirement already satisfied: scipy>=1.1.0 in /opt/conda/envs/dgl-dev-cpu/lib/python3.10/site-packages (from dgl) (1.14.1)\r\n",
      "Requirement already satisfied: networkx>=2.1 in /opt/conda/envs/dgl-dev-cpu/lib/python3.10/site-packages (from dgl) (3.3)\r\n",
      "Requirement already satisfied: requests>=2.19.0 in /opt/conda/envs/dgl-dev-cpu/lib/python3.10/site-packages (from dgl) (2.32.3)\r\n",
      "Requirement already satisfied: tqdm in /opt/conda/envs/dgl-dev-cpu/lib/python3.10/site-packages (from dgl) (4.66.5)\r\n",
      "Requirement already satisfied: psutil>=5.8.0 in /opt/conda/envs/dgl-dev-cpu/lib/python3.10/site-packages (from dgl) (6.0.0)\r\n",
      "Requirement already satisfied: torchdata>=0.5.0 in /opt/conda/envs/dgl-dev-cpu/lib/python3.10/site-packages (from dgl) (0.8.0)\r\n",
      "Requirement already satisfied: pandas in /opt/conda/envs/dgl-dev-cpu/lib/python3.10/site-packages (from dgl) (2.2.2)\r\n",
      "Requirement already satisfied: charset-normalizer<4,>=2 in /opt/conda/envs/dgl-dev-cpu/lib/python3.10/site-packages (from requests>=2.19.0->dgl) (3.3.2)\r\n"
     ]
    },
    {
     "name": "stdout",
     "output_type": "stream",
     "text": [
      "Requirement already satisfied: idna<4,>=2.5 in /opt/conda/envs/dgl-dev-cpu/lib/python3.10/site-packages (from requests>=2.19.0->dgl) (3.10)\r\n",
      "Requirement already satisfied: urllib3<3,>=1.21.1 in /opt/conda/envs/dgl-dev-cpu/lib/python3.10/site-packages (from requests>=2.19.0->dgl) (2.2.3)\r\n",
      "Requirement already satisfied: certifi>=2017.4.17 in /opt/conda/envs/dgl-dev-cpu/lib/python3.10/site-packages (from requests>=2.19.0->dgl) (2024.8.30)\r\n",
      "Requirement already satisfied: torch>=2 in /opt/conda/envs/dgl-dev-cpu/lib/python3.10/site-packages (from torchdata>=0.5.0->dgl) (2.1.0+cpu)\r\n"
     ]
    },
    {
     "name": "stdout",
     "output_type": "stream",
     "text": [
      "Requirement already satisfied: python-dateutil>=2.8.2 in /opt/conda/envs/dgl-dev-cpu/lib/python3.10/site-packages (from pandas->dgl) (2.9.0.post0)\r\n",
      "Requirement already satisfied: pytz>=2020.1 in /opt/conda/envs/dgl-dev-cpu/lib/python3.10/site-packages (from pandas->dgl) (2024.2)\r\n",
      "Requirement already satisfied: tzdata>=2022.7 in /opt/conda/envs/dgl-dev-cpu/lib/python3.10/site-packages (from pandas->dgl) (2024.1)\r\n",
      "Requirement already satisfied: six>=1.5 in /opt/conda/envs/dgl-dev-cpu/lib/python3.10/site-packages (from python-dateutil>=2.8.2->pandas->dgl) (1.16.0)\r\n",
      "Requirement already satisfied: filelock in /opt/conda/envs/dgl-dev-cpu/lib/python3.10/site-packages (from torch>=2->torchdata>=0.5.0->dgl) (3.16.1)\r\n",
      "Requirement already satisfied: typing-extensions in /opt/conda/envs/dgl-dev-cpu/lib/python3.10/site-packages (from torch>=2->torchdata>=0.5.0->dgl) (4.12.2)\r\n",
      "Requirement already satisfied: sympy in /opt/conda/envs/dgl-dev-cpu/lib/python3.10/site-packages (from torch>=2->torchdata>=0.5.0->dgl) (1.13.3)\r\n",
      "Requirement already satisfied: jinja2 in /opt/conda/envs/dgl-dev-cpu/lib/python3.10/site-packages (from torch>=2->torchdata>=0.5.0->dgl) (3.1.4)\r\n",
      "Requirement already satisfied: fsspec in /opt/conda/envs/dgl-dev-cpu/lib/python3.10/site-packages (from torch>=2->torchdata>=0.5.0->dgl) (2024.9.0)\r\n"
     ]
    },
    {
     "name": "stdout",
     "output_type": "stream",
     "text": [
      "Requirement already satisfied: MarkupSafe>=2.0 in /opt/conda/envs/dgl-dev-cpu/lib/python3.10/site-packages (from jinja2->torch>=2->torchdata>=0.5.0->dgl) (2.1.5)\r\n",
      "Requirement already satisfied: mpmath<1.4,>=1.1.0 in /opt/conda/envs/dgl-dev-cpu/lib/python3.10/site-packages (from sympy->torch>=2->torchdata>=0.5.0->dgl) (1.3.0)\r\n"
     ]
    },
    {
     "name": "stdout",
     "output_type": "stream",
     "text": [
      "\u001b[33mWARNING: Running pip as the 'root' user can result in broken permissions and conflicting behaviour with the system package manager, possibly rendering your system unusable.It is recommended to use a virtual environment instead: https://pip.pypa.io/warnings/venv. Use the --root-user-action option if you know what you are doing and want to suppress this warning.\u001b[0m\u001b[33m\r\n",
      "\u001b[0m"
     ]
    },
    {
     "name": "stdout",
     "output_type": "stream",
     "text": [
      "DGL installed!\n"
     ]
    }
   ],
   "source": [
    "# Install required packages.\n",
    "import os\n",
    "import torch\n",
    "import numpy as np\n",
    "os.environ['TORCH'] = torch.__version__\n",
    "os.environ['DGLBACKEND'] = \"pytorch\"\n",
    "\n",
    "# Install the CPU version.\n",
    "device = torch.device(\"cpu\")\n",
    "!pip install --pre dgl -f https://data.dgl.ai/wheels-test/repo.html\n",
    "\n",
    "try:\n",
    "    import dgl\n",
    "    import dgl.graphbolt as gb\n",
    "    installed = True\n",
    "except ImportError as error:\n",
    "    installed = False\n",
    "    print(error)\n",
    "print(\"DGL installed!\" if installed else \"DGL not found!\")"
   ]
  },
  {
   "cell_type": "markdown",
   "metadata": {
    "id": "2R7WnSbjsfbr"
   },
   "source": [
    "## Data preparation\n",
    "In order to demonstrate how to organize various data, let's create a base directory first."
   ]
  },
  {
   "cell_type": "code",
   "execution_count": 2,
   "metadata": {
    "execution": {
     "iopub.execute_input": "2024-09-19T13:18:20.475072Z",
     "iopub.status.busy": "2024-09-19T13:18:20.474443Z",
     "iopub.status.idle": "2024-09-19T13:18:20.480788Z",
     "shell.execute_reply": "2024-09-19T13:18:20.479409Z"
    },
    "id": "SZipbzyltLfO"
   },
   "outputs": [
    {
     "name": "stdout",
     "output_type": "stream",
     "text": [
      "Created base directory: ./ondisk_dataset_homograph\n"
     ]
    }
   ],
   "source": [
    "base_dir = './ondisk_dataset_homograph'\n",
    "os.makedirs(base_dir, exist_ok=True)\n",
    "print(f\"Created base directory: {base_dir}\")"
   ]
  },
  {
   "cell_type": "markdown",
   "metadata": {
    "id": "qhNtIn_xhlnl"
   },
   "source": [
    "### Generate graph structure data\n",
    "For homogeneous graph, we just need to save edges(namely seeds) into  **Numpy** or **CSV** file.\n",
    "\n",
    "Note:\n",
    "- when saving to **Numpy**, the array requires to be in shape of `(2, N)`. This format is recommended as constructing graph from it is much faster than **CSV** file.\n",
    "- when saving to **CSV** file, do not save index and header.\n"
   ]
  },
  {
   "cell_type": "code",
   "execution_count": 3,
   "metadata": {
    "execution": {
     "iopub.execute_input": "2024-09-19T13:18:20.483156Z",
     "iopub.status.busy": "2024-09-19T13:18:20.482885Z",
     "iopub.status.idle": "2024-09-19T13:18:20.496629Z",
     "shell.execute_reply": "2024-09-19T13:18:20.495891Z"
    },
    "id": "HcBt4G5BmSjr"
   },
   "outputs": [
    {
     "name": "stdout",
     "output_type": "stream",
     "text": [
      "Part of edges: [[ 38 707]\n",
      " [266 365]\n",
      " [735 655]\n",
      " [182 186]\n",
      " [122 252]]\n",
      "Edges are saved into ./ondisk_dataset_homograph/edges.csv\n"
     ]
    }
   ],
   "source": [
    "import numpy as np\n",
    "import pandas as pd\n",
    "num_nodes = 1000\n",
    "num_edges = 10 * num_nodes\n",
    "edges_path = os.path.join(base_dir, \"edges.csv\")\n",
    "edges = np.random.randint(0, num_nodes, size=(num_edges, 2))\n",
    "\n",
    "print(f\"Part of edges: {edges[:5, :]}\")\n",
    "\n",
    "df = pd.DataFrame(edges)\n",
    "df.to_csv(edges_path, index=False, header=False)\n",
    "\n",
    "print(f\"Edges are saved into {edges_path}\")"
   ]
  },
  {
   "cell_type": "markdown",
   "metadata": {
    "id": "kh-4cPtzpcaH"
   },
   "source": [
    "### Generate feature data for graph\n",
    "For feature data, numpy arrays and torch tensors are supported for now."
   ]
  },
  {
   "cell_type": "code",
   "execution_count": 4,
   "metadata": {
    "execution": {
     "iopub.execute_input": "2024-09-19T13:18:20.498905Z",
     "iopub.status.busy": "2024-09-19T13:18:20.498511Z",
     "iopub.status.idle": "2024-09-19T13:18:20.513280Z",
     "shell.execute_reply": "2024-09-19T13:18:20.511977Z"
    },
    "id": "_PVu1u5brBhF"
   },
   "outputs": [
    {
     "name": "stdout",
     "output_type": "stream",
     "text": [
      "Part of node feature [feat_0]: [[0.8444167  0.97086108 0.90824825 0.84910768 0.93635017]\n",
      " [0.07688346 0.83267166 0.04072052 0.89513296 0.27926422]\n",
      " [0.34308899 0.84116412 0.28865541 0.54754527 0.36853   ]]\n",
      "Node feature [feat_0] is saved to ./ondisk_dataset_homograph/node-feat-0.npy\n",
      "\n",
      "Part of node feature [feat_1]: tensor([[0.7287, 0.8169, 0.8706, 0.3333, 0.3632],\n",
      "        [0.8164, 0.1954, 0.1187, 0.8212, 0.5166],\n",
      "        [0.3239, 0.2957, 0.7405, 0.9634, 0.1821]])\n",
      "Node feature [feat_1] is saved to ./ondisk_dataset_homograph/node-feat-1.pt\n",
      "\n",
      "Part of edge feature [feat_0]: [[0.78812335 0.94478755 0.10923424 0.82935934 0.44053276]\n",
      " [0.42476075 0.67176286 0.51278303 0.31942554 0.2984546 ]\n",
      " [0.90072432 0.52399548 0.75055879 0.28128083 0.44574735]]\n",
      "Edge feature [feat_0] is saved to ./ondisk_dataset_homograph/edge-feat-0.npy\n",
      "\n",
      "Part of edge feature [feat_1]: tensor([[0.3923, 0.0647, 0.5373, 0.0882, 0.1105],\n",
      "        [0.3170, 0.5370, 0.1803, 0.8697, 0.2439],\n",
      "        [0.5399, 0.6607, 0.4228, 0.3974, 0.6824]])\n",
      "Edge feature [feat_1] is saved to ./ondisk_dataset_homograph/edge-feat-1.pt\n",
      "\n"
     ]
    }
   ],
   "source": [
    "# Generate node feature in numpy array.\n",
    "node_feat_0_path = os.path.join(base_dir, \"node-feat-0.npy\")\n",
    "node_feat_0 = np.random.rand(num_nodes, 5)\n",
    "print(f\"Part of node feature [feat_0]: {node_feat_0[:3, :]}\")\n",
    "np.save(node_feat_0_path, node_feat_0)\n",
    "print(f\"Node feature [feat_0] is saved to {node_feat_0_path}\\n\")\n",
    "\n",
    "# Generate another node feature in torch tensor\n",
    "node_feat_1_path = os.path.join(base_dir, \"node-feat-1.pt\")\n",
    "node_feat_1 = torch.rand(num_nodes, 5)\n",
    "print(f\"Part of node feature [feat_1]: {node_feat_1[:3, :]}\")\n",
    "torch.save(node_feat_1, node_feat_1_path)\n",
    "print(f\"Node feature [feat_1] is saved to {node_feat_1_path}\\n\")\n",
    "\n",
    "# Generate edge feature in numpy array.\n",
    "edge_feat_0_path = os.path.join(base_dir, \"edge-feat-0.npy\")\n",
    "edge_feat_0 = np.random.rand(num_edges, 5)\n",
    "print(f\"Part of edge feature [feat_0]: {edge_feat_0[:3, :]}\")\n",
    "np.save(edge_feat_0_path, edge_feat_0)\n",
    "print(f\"Edge feature [feat_0] is saved to {edge_feat_0_path}\\n\")\n",
    "\n",
    "# Generate another edge feature in torch tensor\n",
    "edge_feat_1_path = os.path.join(base_dir, \"edge-feat-1.pt\")\n",
    "edge_feat_1 = torch.rand(num_edges, 5)\n",
    "print(f\"Part of edge feature [feat_1]: {edge_feat_1[:3, :]}\")\n",
    "torch.save(edge_feat_1, edge_feat_1_path)\n",
    "print(f\"Edge feature [feat_1] is saved to {edge_feat_1_path}\\n\")\n"
   ]
  },
  {
   "cell_type": "markdown",
   "metadata": {
    "id": "ZyqgOtsIwzh_"
   },
   "source": [
    "### Generate tasks\n",
    "`OnDiskDataset` supports multiple tasks. For each task, we need to prepare training/validation/test sets respectively. Such sets usually vary among different tasks. In this tutorial, let's create a **Node Classification** task and **Link Prediction** task."
   ]
  },
  {
   "cell_type": "markdown",
   "metadata": {
    "id": "hVxHaDIfzCkr"
   },
   "source": [
    "#### Node Classification Task\n",
    "For node classification task, we need **node IDs** and corresponding **labels** for each training/validation/test set. Like feature data, numpy arrays and torch tensors are supported for these sets."
   ]
  },
  {
   "cell_type": "code",
   "execution_count": 5,
   "metadata": {
    "execution": {
     "iopub.execute_input": "2024-09-19T13:18:20.515828Z",
     "iopub.status.busy": "2024-09-19T13:18:20.515485Z",
     "iopub.status.idle": "2024-09-19T13:18:20.527986Z",
     "shell.execute_reply": "2024-09-19T13:18:20.527186Z"
    },
    "id": "S5-fyBbHzTCO"
   },
   "outputs": [
    {
     "name": "stdout",
     "output_type": "stream",
     "text": [
      "Part of train ids for node classification: [315 284 243]\n",
      "NC train ids are saved to ./ondisk_dataset_homograph/nc-train-ids.npy\n",
      "\n",
      "Part of train labels for node classification: tensor([4, 2, 1])\n",
      "NC train labels are saved to ./ondisk_dataset_homograph/nc-train-labels.pt\n",
      "\n",
      "Part of val ids for node classification: [531 700 821]\n",
      "NC val ids are saved to ./ondisk_dataset_homograph/nc-val-ids.npy\n",
      "\n",
      "Part of val labels for node classification: tensor([0, 9, 6])\n",
      "NC val labels are saved to ./ondisk_dataset_homograph/nc-val-labels.pt\n",
      "\n",
      "Part of test ids for node classification: [397 448 944]\n",
      "NC test ids are saved to ./ondisk_dataset_homograph/nc-test-ids.npy\n",
      "\n",
      "Part of test labels for node classification: tensor([2, 7, 0])\n",
      "NC test labels are saved to ./ondisk_dataset_homograph/nc-test-labels.pt\n",
      "\n"
     ]
    }
   ],
   "source": [
    "num_trains = int(num_nodes * 0.6)\n",
    "num_vals = int(num_nodes * 0.2)\n",
    "num_tests = num_nodes - num_trains - num_vals\n",
    "\n",
    "ids = np.arange(num_nodes)\n",
    "np.random.shuffle(ids)\n",
    "\n",
    "nc_train_ids_path = os.path.join(base_dir, \"nc-train-ids.npy\")\n",
    "nc_train_ids = ids[:num_trains]\n",
    "print(f\"Part of train ids for node classification: {nc_train_ids[:3]}\")\n",
    "np.save(nc_train_ids_path, nc_train_ids)\n",
    "print(f\"NC train ids are saved to {nc_train_ids_path}\\n\")\n",
    "\n",
    "nc_train_labels_path = os.path.join(base_dir, \"nc-train-labels.pt\")\n",
    "nc_train_labels = torch.randint(0, 10, (num_trains,))\n",
    "print(f\"Part of train labels for node classification: {nc_train_labels[:3]}\")\n",
    "torch.save(nc_train_labels, nc_train_labels_path)\n",
    "print(f\"NC train labels are saved to {nc_train_labels_path}\\n\")\n",
    "\n",
    "nc_val_ids_path = os.path.join(base_dir, \"nc-val-ids.npy\")\n",
    "nc_val_ids = ids[num_trains:num_trains+num_vals]\n",
    "print(f\"Part of val ids for node classification: {nc_val_ids[:3]}\")\n",
    "np.save(nc_val_ids_path, nc_val_ids)\n",
    "print(f\"NC val ids are saved to {nc_val_ids_path}\\n\")\n",
    "\n",
    "nc_val_labels_path = os.path.join(base_dir, \"nc-val-labels.pt\")\n",
    "nc_val_labels = torch.randint(0, 10, (num_vals,))\n",
    "print(f\"Part of val labels for node classification: {nc_val_labels[:3]}\")\n",
    "torch.save(nc_val_labels, nc_val_labels_path)\n",
    "print(f\"NC val labels are saved to {nc_val_labels_path}\\n\")\n",
    "\n",
    "nc_test_ids_path = os.path.join(base_dir, \"nc-test-ids.npy\")\n",
    "nc_test_ids = ids[-num_tests:]\n",
    "print(f\"Part of test ids for node classification: {nc_test_ids[:3]}\")\n",
    "np.save(nc_test_ids_path, nc_test_ids)\n",
    "print(f\"NC test ids are saved to {nc_test_ids_path}\\n\")\n",
    "\n",
    "nc_test_labels_path = os.path.join(base_dir, \"nc-test-labels.pt\")\n",
    "nc_test_labels = torch.randint(0, 10, (num_tests,))\n",
    "print(f\"Part of test labels for node classification: {nc_test_labels[:3]}\")\n",
    "torch.save(nc_test_labels, nc_test_labels_path)\n",
    "print(f\"NC test labels are saved to {nc_test_labels_path}\\n\")"
   ]
  },
  {
   "cell_type": "markdown",
   "metadata": {
    "id": "LhAcDCHQ_KJ0"
   },
   "source": [
    "#### Link Prediction Task\n",
    "For link prediction task, we need **seeds** or **corresponding labels and indexes** which representing the pos/neg property and group of the seeds for each training/validation/test set. Like feature data, numpy arrays and torch tensors are supported for these sets."
   ]
  },
  {
   "cell_type": "code",
   "execution_count": 6,
   "metadata": {
    "execution": {
     "iopub.execute_input": "2024-09-19T13:18:20.530395Z",
     "iopub.status.busy": "2024-09-19T13:18:20.530068Z",
     "iopub.status.idle": "2024-09-19T13:18:20.548440Z",
     "shell.execute_reply": "2024-09-19T13:18:20.547584Z"
    },
    "id": "u0jCnXIcAQy4"
   },
   "outputs": [
    {
     "name": "stdout",
     "output_type": "stream",
     "text": [
      "Part of train seeds for link prediction: [[ 38 707]\n",
      " [266 365]\n",
      " [735 655]]\n",
      "LP train seeds are saved to ./ondisk_dataset_homograph/lp-train-seeds.npy\n",
      "\n",
      "Part of val seeds for link prediction: [[393 835]\n",
      " [682 792]\n",
      " [194 507]]\n",
      "LP val seeds are saved to ./ondisk_dataset_homograph/lp-val-seeds.npy\n",
      "\n",
      "Part of val labels for link prediction: [1. 1. 1.]\n",
      "LP val labels are saved to ./ondisk_dataset_homograph/lp-val-labels.npy\n",
      "\n",
      "Part of val indexes for link prediction: [0 1 2]\n",
      "LP val indexes are saved to ./ondisk_dataset_homograph/lp-val-indexes.npy\n",
      "\n",
      "Part of test seeds for link prediction: [[975 607]\n",
      " [ 95 553]\n",
      " [270 631]]\n",
      "LP test seeds are saved to ./ondisk_dataset_homograph/lp-test-seeds.npy\n",
      "\n",
      "Part of val labels for link prediction: [1. 1. 1.]\n",
      "LP test labels are saved to ./ondisk_dataset_homograph/lp-test-labels.npy\n",
      "\n",
      "Part of test indexes for link prediction: [0 1 2]\n",
      "LP test indexes are saved to ./ondisk_dataset_homograph/lp-test-indexes.npy\n",
      "\n"
     ]
    }
   ],
   "source": [
    "num_trains = int(num_edges * 0.6)\n",
    "num_vals = int(num_edges * 0.2)\n",
    "num_tests = num_edges - num_trains - num_vals\n",
    "\n",
    "lp_train_seeds_path = os.path.join(base_dir, \"lp-train-seeds.npy\")\n",
    "lp_train_seeds = edges[:num_trains, :]\n",
    "print(f\"Part of train seeds for link prediction: {lp_train_seeds[:3]}\")\n",
    "np.save(lp_train_seeds_path, lp_train_seeds)\n",
    "print(f\"LP train seeds are saved to {lp_train_seeds_path}\\n\")\n",
    "\n",
    "lp_val_seeds_path = os.path.join(base_dir, \"lp-val-seeds.npy\")\n",
    "lp_val_seeds = edges[num_trains:num_trains+num_vals, :]\n",
    "lp_val_neg_dsts = np.random.randint(0, num_nodes, (num_vals, 10)).reshape(-1)\n",
    "lp_val_neg_srcs = np.repeat(lp_val_seeds[:,0], 10)\n",
    "lp_val_neg_seeds = np.concatenate((lp_val_neg_srcs, lp_val_neg_dsts)).reshape(2,-1).T\n",
    "lp_val_seeds = np.concatenate((lp_val_seeds, lp_val_neg_seeds))\n",
    "print(f\"Part of val seeds for link prediction: {lp_val_seeds[:3]}\")\n",
    "np.save(lp_val_seeds_path, lp_val_seeds)\n",
    "print(f\"LP val seeds are saved to {lp_val_seeds_path}\\n\")\n",
    "\n",
    "lp_val_labels_path = os.path.join(base_dir, \"lp-val-labels.npy\")\n",
    "lp_val_labels = np.empty(num_vals * (10 + 1))\n",
    "lp_val_labels[:num_vals] = 1\n",
    "lp_val_labels[num_vals:] = 0\n",
    "print(f\"Part of val labels for link prediction: {lp_val_labels[:3]}\")\n",
    "np.save(lp_val_labels_path, lp_val_labels)\n",
    "print(f\"LP val labels are saved to {lp_val_labels_path}\\n\")\n",
    "\n",
    "lp_val_indexes_path = os.path.join(base_dir, \"lp-val-indexes.npy\")\n",
    "lp_val_indexes = np.arange(0, num_vals)\n",
    "lp_val_neg_indexes = np.repeat(lp_val_indexes, 10)\n",
    "lp_val_indexes = np.concatenate([lp_val_indexes, lp_val_neg_indexes])\n",
    "print(f\"Part of val indexes for link prediction: {lp_val_indexes[:3]}\")\n",
    "np.save(lp_val_indexes_path, lp_val_indexes)\n",
    "print(f\"LP val indexes are saved to {lp_val_indexes_path}\\n\")\n",
    "\n",
    "lp_test_seeds_path = os.path.join(base_dir, \"lp-test-seeds.npy\")\n",
    "lp_test_seeds = edges[-num_tests:, :]\n",
    "lp_test_neg_dsts = np.random.randint(0, num_nodes, (num_tests, 10)).reshape(-1)\n",
    "lp_test_neg_srcs = np.repeat(lp_test_seeds[:,0], 10)\n",
    "lp_test_neg_seeds = np.concatenate((lp_test_neg_srcs, lp_test_neg_dsts)).reshape(2,-1).T\n",
    "lp_test_seeds = np.concatenate((lp_test_seeds, lp_test_neg_seeds))\n",
    "print(f\"Part of test seeds for link prediction: {lp_test_seeds[:3]}\")\n",
    "np.save(lp_test_seeds_path, lp_test_seeds)\n",
    "print(f\"LP test seeds are saved to {lp_test_seeds_path}\\n\")\n",
    "\n",
    "lp_test_labels_path = os.path.join(base_dir, \"lp-test-labels.npy\")\n",
    "lp_test_labels = np.empty(num_tests * (10 + 1))\n",
    "lp_test_labels[:num_tests] = 1\n",
    "lp_test_labels[num_tests:] = 0\n",
    "print(f\"Part of val labels for link prediction: {lp_test_labels[:3]}\")\n",
    "np.save(lp_test_labels_path, lp_test_labels)\n",
    "print(f\"LP test labels are saved to {lp_test_labels_path}\\n\")\n",
    "\n",
    "lp_test_indexes_path = os.path.join(base_dir, \"lp-test-indexes.npy\")\n",
    "lp_test_indexes = np.arange(0, num_tests)\n",
    "lp_test_neg_indexes = np.repeat(lp_test_indexes, 10)\n",
    "lp_test_indexes = np.concatenate([lp_test_indexes, lp_test_neg_indexes])\n",
    "print(f\"Part of test indexes for link prediction: {lp_test_indexes[:3]}\")\n",
    "np.save(lp_test_indexes_path, lp_test_indexes)\n",
    "print(f\"LP test indexes are saved to {lp_test_indexes_path}\\n\")"
   ]
  },
  {
   "cell_type": "markdown",
   "metadata": {
    "id": "wbk6-wxRK-6S"
   },
   "source": [
    "## Organize Data into YAML File\n",
    "Now we need to create a `metadata.yaml` file which contains the paths, dadta types of graph structure, feature data, training/validation/test sets.\n",
    "\n",
    "Notes:\n",
    "- all path should be relative to `metadata.yaml`.\n",
    "- Below fields are optional and not specified in below example.\n",
    "  - `in_memory`: indicates whether to load dada into memory or `mmap`. Default is `True`.\n",
    "\n",
    "Please refer to [YAML specification](https://github.com/dmlc/dgl/blob/master/docs/source/stochastic_training/ondisk-dataset-specification.rst) for more details."
   ]
  },
  {
   "cell_type": "code",
   "execution_count": 7,
   "metadata": {
    "execution": {
     "iopub.execute_input": "2024-09-19T13:18:20.551230Z",
     "iopub.status.busy": "2024-09-19T13:18:20.550774Z",
     "iopub.status.idle": "2024-09-19T13:18:20.557685Z",
     "shell.execute_reply": "2024-09-19T13:18:20.556922Z"
    },
    "id": "ddGTWW61Lpwp"
   },
   "outputs": [],
   "source": [
    "yaml_content = f\"\"\"\n",
    "    dataset_name: homogeneous_graph_nc_lp\n",
    "    graph:\n",
    "      nodes:\n",
    "        - num: {num_nodes}\n",
    "      edges:\n",
    "        - format: csv\n",
    "          path: {os.path.basename(edges_path)}\n",
    "    feature_data:\n",
    "      - domain: node\n",
    "        name: feat_0\n",
    "        format: numpy\n",
    "        path: {os.path.basename(node_feat_0_path)}\n",
    "      - domain: node\n",
    "        name: feat_1\n",
    "        format: torch\n",
    "        path: {os.path.basename(node_feat_1_path)}\n",
    "      - domain: edge\n",
    "        name: feat_0\n",
    "        format: numpy\n",
    "        path: {os.path.basename(edge_feat_0_path)}\n",
    "      - domain: edge\n",
    "        name: feat_1\n",
    "        format: torch\n",
    "        path: {os.path.basename(edge_feat_1_path)}\n",
    "    tasks:\n",
    "      - name: node_classification\n",
    "        num_classes: 10\n",
    "        train_set:\n",
    "          - data:\n",
    "              - name: seeds\n",
    "                format: numpy\n",
    "                path: {os.path.basename(nc_train_ids_path)}\n",
    "              - name: labels\n",
    "                format: torch\n",
    "                path: {os.path.basename(nc_train_labels_path)}\n",
    "        validation_set:\n",
    "          - data:\n",
    "              - name: seeds\n",
    "                format: numpy\n",
    "                path: {os.path.basename(nc_val_ids_path)}\n",
    "              - name: labels\n",
    "                format: torch\n",
    "                path: {os.path.basename(nc_val_labels_path)}\n",
    "        test_set:\n",
    "          - data:\n",
    "              - name: seeds\n",
    "                format: numpy\n",
    "                path: {os.path.basename(nc_test_ids_path)}\n",
    "              - name: labels\n",
    "                format: torch\n",
    "                path: {os.path.basename(nc_test_labels_path)}\n",
    "      - name: link_prediction\n",
    "        num_classes: 10\n",
    "        train_set:\n",
    "          - data:\n",
    "              - name: seeds\n",
    "                format: numpy\n",
    "                path: {os.path.basename(lp_train_seeds_path)}\n",
    "        validation_set:\n",
    "          - data:\n",
    "              - name: seeds\n",
    "                format: numpy\n",
    "                path: {os.path.basename(lp_val_seeds_path)}\n",
    "              - name: labels\n",
    "                format: numpy\n",
    "                path: {os.path.basename(lp_val_labels_path)}\n",
    "              - name: indexes\n",
    "                format: numpy\n",
    "                path: {os.path.basename(lp_val_indexes_path)}\n",
    "        test_set:\n",
    "          - data:\n",
    "              - name: seeds\n",
    "                format: numpy\n",
    "                path: {os.path.basename(lp_test_seeds_path)}\n",
    "              - name: labels\n",
    "                format: numpy\n",
    "                path: {os.path.basename(lp_test_labels_path)}\n",
    "              - name: indexes\n",
    "                format: numpy\n",
    "                path: {os.path.basename(lp_test_indexes_path)}\n",
    "\"\"\"\n",
    "metadata_path = os.path.join(base_dir, \"metadata.yaml\")\n",
    "with open(metadata_path, \"w\") as f:\n",
    "  f.write(yaml_content)"
   ]
  },
  {
   "cell_type": "markdown",
   "metadata": {
    "id": "kEfybHGhOW7O"
   },
   "source": [
    "## Instantiate `OnDiskDataset`\n",
    "Now we're ready to load dataset via `dgl.graphbolt.OnDiskDataset`. When instantiating, we just pass in the base directory where `metadata.yaml` file lies.\n",
    "\n",
    "During first instantiation, GraphBolt preprocesses the raw data such as constructing `FusedCSCSamplingGraph` from edges. All data including graph, feature data, training/validation/test sets are put into `preprocessed` directory after preprocessing. Any following dataset loading will skip the preprocess stage.\n",
    "\n",
    "After preprocessing, `load()` is required to be called explicitly in order to load graph, feature data and tasks."
   ]
  },
  {
   "cell_type": "code",
   "execution_count": 8,
   "metadata": {
    "execution": {
     "iopub.execute_input": "2024-09-19T13:18:20.559689Z",
     "iopub.status.busy": "2024-09-19T13:18:20.559262Z",
     "iopub.status.idle": "2024-09-19T13:18:20.621915Z",
     "shell.execute_reply": "2024-09-19T13:18:20.621224Z"
    },
    "id": "W58CZoSzOiyo"
   },
   "outputs": [
    {
     "name": "stdout",
     "output_type": "stream",
     "text": [
      "Start to preprocess the on-disk dataset.\n",
      "Finish preprocessing the on-disk dataset.\n",
      "Loaded graph: FusedCSCSamplingGraph(csc_indptr=tensor([    0,    13,    25,  ...,  9987,  9995, 10000], dtype=torch.int32),\n",
      "                      indices=tensor([ 60, 461, 144,  ..., 822, 869, 699], dtype=torch.int32),\n",
      "                      total_num_nodes=1000, num_edges=10000,)\n",
      "\n",
      "Loaded feature store: TorchBasedFeatureStore(\n",
      "    {(<OnDiskFeatureDataDomain.NODE: 'node'>, None, 'feat_0'): TorchBasedFeature(\n",
      "        feature=tensor([[0.8444, 0.9709, 0.9082, 0.8491, 0.9364],\n",
      "                        [0.0769, 0.8327, 0.0407, 0.8951, 0.2793],\n",
      "                        [0.3431, 0.8412, 0.2887, 0.5475, 0.3685],\n",
      "                        ...,\n",
      "                        [0.6866, 0.7027, 0.4382, 0.4500, 0.6161],\n",
      "                        [0.9901, 0.7852, 0.5611, 0.2407, 0.4034],\n",
      "                        [0.6589, 0.2117, 0.8477, 0.7743, 0.1239]], dtype=torch.float64),\n",
      "        metadata={},\n",
      "    ), (<OnDiskFeatureDataDomain.NODE: 'node'>, None, 'feat_1'): TorchBasedFeature(\n",
      "        feature=tensor([[0.7287, 0.8169, 0.8706, 0.3333, 0.3632],\n",
      "                        [0.8164, 0.1954, 0.1187, 0.8212, 0.5166],\n",
      "                        [0.3239, 0.2957, 0.7405, 0.9634, 0.1821],\n",
      "                        ...,\n",
      "                        [0.5315, 0.2829, 0.7114, 0.8922, 0.5068],\n",
      "                        [0.4629, 0.0600, 0.5599, 0.8957, 0.2040],\n",
      "                        [0.0313, 0.9633, 0.3211, 0.0604, 0.6906]]),\n",
      "        metadata={},\n",
      "    ), (<OnDiskFeatureDataDomain.EDGE: 'edge'>, None, 'feat_0'): TorchBasedFeature(\n",
      "        feature=tensor([[0.7881, 0.9448, 0.1092, 0.8294, 0.4405],\n",
      "                        [0.4248, 0.6718, 0.5128, 0.3194, 0.2985],\n",
      "                        [0.9007, 0.5240, 0.7506, 0.2813, 0.4457],\n",
      "                        ...,\n",
      "                        [0.2458, 0.7654, 0.7344, 0.2772, 0.7288],\n",
      "                        [0.1957, 0.2214, 0.9979, 0.4795, 0.4754],\n",
      "                        [0.3861, 0.9946, 0.2002, 0.2069, 0.4630]], dtype=torch.float64),\n",
      "        metadata={},\n",
      "    ), (<OnDiskFeatureDataDomain.EDGE: 'edge'>, None, 'feat_1'): TorchBasedFeature(\n",
      "        feature=tensor([[0.3923, 0.0647, 0.5373, 0.0882, 0.1105],\n",
      "                        [0.3170, 0.5370, 0.1803, 0.8697, 0.2439],\n",
      "                        [0.5399, 0.6607, 0.4228, 0.3974, 0.6824],\n",
      "                        ...,\n",
      "                        [0.0416, 0.4430, 0.2079, 0.2560, 0.3308],\n",
      "                        [0.5210, 0.9827, 0.8959, 0.4340, 0.1883],\n",
      "                        [0.1589, 0.0692, 0.5949, 0.6894, 0.9326]]),\n",
      "        metadata={},\n",
      "    )}\n",
      ")\n",
      "\n",
      "Loaded node classification task: OnDiskTask(validation_set=ItemSet(\n",
      "               items=(tensor([531, 700, 821, 464, 713, 206, 194, 759, 926, 161, 863, 402, 994, 698,\n",
      "                   578, 476, 377, 199, 754, 966, 413, 780, 234, 148, 982, 904, 500, 466,\n",
      "                   418, 426,  65, 210, 930, 796, 609, 986, 231, 208, 125, 493, 533, 484,\n",
      "                   871, 864, 365, 835, 469,  19, 855,  38, 383, 878, 703,  11, 302, 554,\n",
      "                   562, 515, 223, 625, 361,   4,  21, 294, 621, 417, 157, 331, 158, 735,\n",
      "                   522, 725,  26, 600, 146, 328,  94, 224, 571,   1, 110, 391, 774, 736,\n",
      "                    28, 156, 872, 167, 529, 760, 807, 913, 739, 728, 129, 274, 777, 344,\n",
      "                   406, 775, 567,  45, 742, 446, 538, 272, 137, 991, 565, 851, 237, 710,\n",
      "                   974, 260, 111, 721, 288, 472, 341, 261, 380,  82, 212, 395, 474, 579,\n",
      "                   244, 504, 264, 720, 968, 885, 852, 541,  55, 321, 822, 314, 207,  31,\n",
      "                   756, 993, 771, 452,  71,  77, 844, 299, 976, 592, 449, 508, 928, 740,\n",
      "                     5, 509, 772, 632, 660, 349, 443, 992,  89, 737, 996, 561,  27, 214,\n",
      "                   150, 806, 880, 120, 824, 336, 983, 582, 390, 219, 233,   3, 238, 909,\n",
      "                   164, 430, 225, 656, 951, 115, 542, 679,  53,  58, 891, 202, 670, 915,\n",
      "                   307, 101, 108, 550], dtype=torch.int32), tensor([0, 9, 6, 3, 7, 3, 5, 8, 0, 8, 3, 3, 4, 8, 8, 0, 7, 2, 9, 7, 6, 0, 0, 5,\n",
      "                   0, 4, 1, 5, 1, 3, 3, 2, 6, 0, 3, 7, 2, 4, 3, 3, 7, 7, 0, 1, 8, 0, 0, 9,\n",
      "                   4, 5, 4, 6, 4, 6, 7, 1, 3, 8, 8, 6, 6, 4, 7, 8, 3, 6, 2, 9, 9, 5, 8, 8,\n",
      "                   7, 5, 1, 8, 1, 7, 1, 0, 8, 2, 0, 2, 8, 4, 6, 3, 5, 3, 2, 2, 6, 5, 2, 2,\n",
      "                   7, 4, 8, 3, 2, 8, 3, 5, 0, 1, 3, 8, 8, 2, 6, 6, 7, 4, 0, 1, 5, 0, 4, 1,\n",
      "                   3, 4, 1, 5, 3, 6, 4, 4, 2, 2, 0, 3, 7, 9, 0, 3, 7, 9, 1, 4, 4, 1, 8, 9,\n",
      "                   2, 7, 4, 1, 2, 1, 1, 3, 8, 9, 4, 2, 0, 6, 0, 8, 4, 1, 8, 3, 4, 7, 4, 6,\n",
      "                   2, 8, 1, 2, 3, 5, 3, 0, 2, 5, 4, 3, 2, 7, 7, 9, 4, 4, 7, 3, 7, 8, 5, 4,\n",
      "                   6, 6, 0, 7, 7, 4, 4, 2])),\n",
      "               names=('seeds', 'labels'),\n",
      "           ),\n",
      "           train_set=ItemSet(\n",
      "               items=(tensor([315, 284, 243,  29, 606, 905, 350, 848, 659, 564, 463, 595, 204, 797,\n",
      "                   221, 916, 776,  61, 636, 215, 470, 144, 598,  42, 874, 875, 384, 203,\n",
      "                   730, 938, 473,  68, 841, 518, 175, 445, 588,  10, 953, 783, 990,  76,\n",
      "                   548, 896, 102, 969, 883, 620, 563, 641, 811, 910, 326, 149, 540, 198,\n",
      "                   414, 815, 132, 281,  33, 948, 782, 681, 514, 330, 927, 160, 553, 662,\n",
      "                    22, 200, 303, 890, 362, 887, 335, 117, 441, 159, 385, 286, 995, 363,\n",
      "                   346, 178,   6, 451, 876, 197, 495,  52, 766, 937, 787, 838, 296, 333,\n",
      "                   332, 113, 718, 545, 899, 439, 499, 425, 697, 988, 366, 267, 436, 817,\n",
      "                   433, 409, 849, 308, 647, 196, 843, 964, 403, 608, 130, 956, 857, 355,\n",
      "                   638, 575, 671, 581, 183, 613, 480,  56, 799, 798, 769, 837, 290, 691,\n",
      "                   376, 602, 850, 604, 537, 947, 228,  91, 142, 482, 491, 704, 163, 955,\n",
      "                   399, 185, 248, 379, 454, 661, 770, 702,  17, 505, 597,  84, 145, 152,\n",
      "                   316, 375,  85,  93,  74, 970, 218, 276, 649, 998, 428,  44,  12, 526,\n",
      "                   456, 337, 251, 489, 525, 534, 645, 784, 313, 593, 322, 229, 861,  95,\n",
      "                   961, 105, 734, 727, 139, 205, 519, 544, 793, 826, 389, 268, 490, 121,\n",
      "                    32, 699, 923, 748, 230, 457, 257, 786, 690, 270, 255, 686, 631, 256,\n",
      "                   672, 723, 510, 429,  16, 421, 751, 655, 696, 453,  73, 741, 610,  49,\n",
      "                   411,  69, 241, 669, 781, 211, 386, 999,  43, 523, 820, 546, 823, 104,\n",
      "                   908, 692, 918, 879, 398, 305,  98,  64, 920, 458, 133, 658, 794, 282,\n",
      "                   416, 792, 832, 622, 952, 827, 612, 712,  18, 412, 663, 752, 573, 140,\n",
      "                   423, 343, 680, 262,  87, 532, 644, 914, 440, 949, 235, 427, 325, 338,\n",
      "                   297, 394, 860, 388, 141, 972,   7, 169, 765, 437, 962, 965,   8, 536,\n",
      "                   184, 381, 919, 258, 711, 882, 442, 240, 648, 367, 853, 599, 900, 193,\n",
      "                   471, 539, 753, 285, 165, 594, 684, 859, 291, 407, 356, 127, 324, 372,\n",
      "                   831, 143, 191, 530, 757, 847, 678, 364, 174, 549, 635, 814, 153, 768,\n",
      "                   496, 138, 950, 591, 616,  39, 657, 980, 773, 803, 977, 187, 569, 987,\n",
      "                   126, 586, 936, 862, 603, 931, 109, 547, 415, 311, 724, 587, 103, 795,\n",
      "                   898, 334, 475, 854, 507, 369, 177, 424, 856, 650, 788, 438, 646, 254,\n",
      "                   674, 666, 511, 266, 318, 558, 580, 812, 935, 719, 370, 213, 924, 154,\n",
      "                   939, 465, 273, 358, 888, 186,  54, 652, 903, 181, 743, 868, 263, 568,\n",
      "                   278,  75, 840, 818, 917, 190, 371, 280, 252,  63, 501, 802, 401, 283,\n",
      "                   123, 791, 870, 907, 619, 717, 715,  60, 128, 300, 374, 676, 695, 732,\n",
      "                   804, 825,  48, 605, 957, 687, 201, 520, 764, 971, 967, 640, 119, 295,\n",
      "                     0, 576, 755, 503, 895, 673, 881, 192, 351, 778, 845, 940, 738, 502,\n",
      "                   319, 709, 481, 435, 460, 960, 275, 422, 171, 912, 246, 404, 577, 455,\n",
      "                   287, 654, 714, 483, 189, 557, 486, 889, 265, 877, 708, 118, 707, 726,\n",
      "                   279, 761, 131, 689,  34, 763, 327, 867, 642, 934, 800, 607, 828, 368,\n",
      "                   744, 985, 701,  97, 945, 405, 106, 236, 253, 979,  90, 345, 921, 247,\n",
      "                   521, 528,  57, 688, 639, 583, 468, 733,  62, 865, 683, 556, 628, 810,\n",
      "                    88, 461, 342,  14, 134, 227, 762,  25, 155, 524, 195, 618, 559, 467,\n",
      "                    59, 354, 269, 180,  83, 360, 488, 833, 627,  72, 617, 420, 667, 306,\n",
      "                   758, 250, 492, 790, 981, 179, 487, 393, 232, 694, 975, 170, 112, 479,\n",
      "                   320, 633, 570, 651, 706, 901,  92, 527, 731, 750, 543, 566],\n",
      "                  dtype=torch.int32), tensor([4, 2, 1, 0, 4, 7, 2, 8, 4, 7, 8, 7, 4, 2, 3, 7, 3, 8, 7, 4, 5, 3, 8, 7,\n",
      "                   0, 8, 7, 2, 8, 8, 8, 9, 5, 9, 4, 3, 1, 6, 2, 6, 6, 3, 3, 4, 8, 5, 1, 6,\n",
      "                   5, 4, 3, 2, 8, 6, 5, 1, 2, 6, 0, 8, 5, 8, 7, 7, 1, 6, 9, 1, 4, 4, 6, 5,\n",
      "                   1, 4, 6, 4, 9, 7, 8, 2, 2, 9, 3, 1, 7, 0, 4, 8, 4, 2, 5, 4, 1, 6, 1, 1,\n",
      "                   4, 5, 4, 9, 1, 1, 6, 3, 1, 2, 1, 6, 3, 6, 1, 2, 2, 5, 0, 8, 6, 0, 5, 7,\n",
      "                   5, 2, 7, 7, 1, 7, 0, 5, 5, 5, 3, 4, 2, 0, 2, 6, 8, 9, 6, 6, 2, 3, 9, 9,\n",
      "                   4, 0, 7, 9, 1, 4, 4, 3, 3, 7, 6, 0, 0, 7, 9, 3, 2, 2, 5, 7, 2, 4, 7, 2,\n",
      "                   2, 9, 8, 2, 4, 3, 0, 7, 9, 4, 0, 8, 1, 5, 9, 9, 1, 8, 8, 4, 9, 7, 7, 2,\n",
      "                   2, 1, 9, 1, 5, 7, 9, 1, 2, 5, 6, 1, 1, 1, 5, 8, 5, 9, 5, 2, 8, 5, 9, 9,\n",
      "                   6, 6, 6, 1, 2, 9, 1, 4, 3, 6, 2, 1, 4, 6, 6, 1, 8, 8, 2, 9, 1, 6, 2, 4,\n",
      "                   6, 5, 7, 9, 7, 8, 5, 2, 9, 9, 9, 6, 0, 5, 3, 8, 8, 7, 6, 2, 0, 5, 5, 3,\n",
      "                   8, 5, 0, 6, 2, 5, 7, 7, 7, 3, 5, 0, 1, 8, 6, 4, 9, 6, 8, 6, 4, 3, 3, 1,\n",
      "                   9, 1, 5, 6, 7, 4, 6, 9, 2, 9, 0, 5, 5, 4, 7, 6, 5, 5, 2, 7, 7, 5, 8, 0,\n",
      "                   0, 3, 5, 6, 3, 3, 5, 6, 4, 0, 6, 4, 3, 4, 9, 6, 4, 2, 0, 2, 4, 8, 9, 4,\n",
      "                   7, 5, 1, 3, 3, 4, 9, 6, 2, 9, 8, 2, 4, 2, 7, 7, 0, 5, 6, 5, 1, 7, 0, 8,\n",
      "                   2, 5, 8, 5, 7, 8, 9, 5, 9, 6, 0, 8, 6, 9, 2, 1, 5, 2, 6, 0, 5, 1, 5, 3,\n",
      "                   5, 1, 1, 8, 0, 7, 7, 1, 3, 6, 4, 7, 3, 8, 8, 0, 1, 4, 6, 3, 1, 2, 3, 6,\n",
      "                   8, 2, 7, 0, 8, 0, 7, 7, 1, 7, 3, 2, 4, 8, 9, 3, 2, 4, 7, 8, 7, 5, 5, 2,\n",
      "                   0, 1, 2, 1, 0, 6, 1, 4, 8, 0, 6, 5, 9, 0, 1, 9, 8, 6, 2, 9, 6, 5, 0, 1,\n",
      "                   2, 6, 9, 3, 6, 4, 0, 5, 7, 1, 6, 9, 0, 7, 4, 8, 1, 9, 7, 2, 2, 6, 6, 9,\n",
      "                   7, 8, 9, 9, 2, 8, 7, 6, 5, 2, 6, 5, 4, 0, 3, 0, 5, 6, 3, 7, 8, 3, 0, 7,\n",
      "                   1, 5, 7, 4, 8, 8, 0, 1, 7, 6, 2, 0, 2, 3, 5, 2, 2, 6, 3, 0, 3, 6, 6, 6,\n",
      "                   5, 8, 4, 5, 8, 7, 5, 8, 2, 1, 2, 6, 6, 7, 5, 6, 8, 0, 3, 3, 1, 1, 8, 7,\n",
      "                   1, 1, 0, 5, 1, 0, 6, 4, 9, 8, 5, 8, 3, 3, 4, 6, 8, 2, 1, 1, 5, 6, 0, 4,\n",
      "                   5, 3, 4, 7, 8, 2, 5, 0, 7, 9, 4, 2, 5, 4, 1, 6, 2, 0, 6, 1, 8, 1, 2, 9])),\n",
      "               names=('seeds', 'labels'),\n",
      "           ),\n",
      "           test_set=ItemSet(\n",
      "               items=(tensor([397, 448, 944,  13, 450, 188, 382, 506, 614, 512, 664, 209, 339,  99,\n",
      "                    79, 462, 589, 517, 643, 637, 626, 989, 675, 396, 485, 722, 277, 623,\n",
      "                    50, 459, 498,  86, 239, 357, 922, 946, 271, 963, 387, 289, 789, 705,\n",
      "                   653, 808, 842,  66, 378, 434, 298, 886, 933, 685, 897, 902, 585, 836,\n",
      "                    51, 779, 340, 584, 292, 317, 615, 217, 869, 107, 352,  36, 135, 747,\n",
      "                   630, 168,  40, 805, 497, 682, 304, 444, 173, 942, 925, 858,  37, 572,\n",
      "                   601, 846, 222, 348,  23, 893, 373, 693, 293, 819,  96, 973, 147, 400,\n",
      "                   911, 894, 932, 809, 477, 419,  80, 392, 866, 347,  20, 552, 668, 114,\n",
      "                   829, 309,  70, 182, 447, 767,  81, 100, 959, 929, 516, 259, 873, 716,\n",
      "                    41, 560, 958, 801,   9,  67, 408,  24, 954, 813, 596,  46, 634, 513,\n",
      "                    35, 312, 830, 839, 884, 816, 176, 611, 172, 574, 997, 124, 677, 834,\n",
      "                   745,  15, 166, 410, 984, 785, 494, 729, 590, 749, 216, 116, 226, 249,\n",
      "                   310, 323, 624, 245, 551, 746, 555, 535, 892, 478, 122,   2, 665,  30,\n",
      "                   359, 943,  47, 353, 220,  78, 629, 431, 151, 432, 941, 162, 329, 136,\n",
      "                   906, 301, 242, 978], dtype=torch.int32), tensor([2, 7, 0, 6, 8, 2, 3, 0, 8, 9, 4, 2, 1, 9, 4, 4, 7, 2, 4, 2, 0, 3, 1, 5,\n",
      "                   6, 1, 1, 9, 9, 9, 3, 2, 0, 2, 1, 8, 8, 3, 2, 0, 9, 4, 2, 3, 5, 8, 4, 1,\n",
      "                   1, 8, 8, 6, 9, 0, 0, 3, 6, 2, 9, 4, 0, 7, 4, 8, 6, 4, 8, 5, 4, 8, 4, 5,\n",
      "                   3, 3, 4, 7, 5, 0, 0, 0, 3, 1, 2, 7, 9, 8, 0, 5, 2, 8, 0, 2, 3, 2, 7, 3,\n",
      "                   2, 4, 2, 1, 3, 5, 4, 8, 8, 0, 8, 3, 4, 6, 5, 7, 1, 5, 5, 3, 8, 5, 1, 0,\n",
      "                   4, 3, 7, 0, 5, 4, 4, 0, 2, 7, 3, 0, 6, 2, 7, 6, 0, 9, 9, 6, 5, 1, 3, 5,\n",
      "                   4, 5, 3, 4, 5, 7, 8, 3, 1, 4, 1, 7, 9, 4, 9, 1, 5, 9, 3, 4, 9, 9, 7, 4,\n",
      "                   5, 3, 4, 3, 1, 7, 5, 6, 1, 3, 5, 7, 9, 3, 5, 1, 1, 0, 5, 6, 3, 9, 0, 3,\n",
      "                   9, 7, 6, 8, 8, 2, 2, 0])),\n",
      "               names=('seeds', 'labels'),\n",
      "           ),\n",
      "           metadata={'name': 'node_classification', 'num_classes': 10},)\n",
      "\n",
      "Loaded link prediction task: OnDiskTask(validation_set=ItemSet(\n",
      "               items=(tensor([[393, 835],\n",
      "                   [682, 792],\n",
      "                   [194, 507],\n",
      "                   ...,\n",
      "                   [321, 669],\n",
      "                   [321, 536],\n",
      "                   [321, 925]], dtype=torch.int32), tensor([1., 1., 1.,  ..., 0., 0., 0.], dtype=torch.float64), tensor([   0,    1,    2,  ..., 1999, 1999, 1999])),\n",
      "               names=('seeds', 'labels', 'indexes'),\n",
      "           ),\n",
      "           train_set=ItemSet(\n",
      "               items=(tensor([[ 38, 707],\n",
      "                   [266, 365],\n",
      "                   [735, 655],\n",
      "                   ...,\n",
      "                   [668, 327],\n",
      "                   [915, 216],\n",
      "                   [644, 801]], dtype=torch.int32),),\n",
      "               names=('seeds',),\n",
      "           ),\n",
      "           test_set=ItemSet(\n",
      "               items=(tensor([[975, 607],\n",
      "                   [ 95, 553],\n",
      "                   [270, 631],\n",
      "                   ...,\n",
      "                   [747, 181],\n",
      "                   [747, 186],\n",
      "                   [747, 688]], dtype=torch.int32), tensor([1., 1., 1.,  ..., 0., 0., 0.], dtype=torch.float64), tensor([   0,    1,    2,  ..., 1999, 1999, 1999])),\n",
      "               names=('seeds', 'labels', 'indexes'),\n",
      "           ),\n",
      "           metadata={'name': 'link_prediction', 'num_classes': 10},)\n",
      "\n"
     ]
    },
    {
     "name": "stderr",
     "output_type": "stream",
     "text": [
      "/dgl/python/dgl/graphbolt/impl/ondisk_dataset.py:463: GBWarning: Edge feature is stored, but edge IDs are not saved.\n",
      "  gb_warning(\"Edge feature is stored, but edge IDs are not saved.\")\n"
     ]
    }
   ],
   "source": [
    "dataset = gb.OnDiskDataset(base_dir).load()\n",
    "graph = dataset.graph\n",
    "print(f\"Loaded graph: {graph}\\n\")\n",
    "\n",
    "feature = dataset.feature\n",
    "print(f\"Loaded feature store: {feature}\\n\")\n",
    "\n",
    "tasks = dataset.tasks\n",
    "nc_task = tasks[0]\n",
    "print(f\"Loaded node classification task: {nc_task}\\n\")\n",
    "lp_task = tasks[1]\n",
    "print(f\"Loaded link prediction task: {lp_task}\\n\")"
   ]
  }
 ],
 "metadata": {
  "colab": {
   "private_outputs": true,
   "provenance": []
  },
  "kernelspec": {
   "display_name": "Python 3",
   "name": "python3"
  },
  "language_info": {
   "codemirror_mode": {
    "name": "ipython",
    "version": 3
   },
   "file_extension": ".py",
   "mimetype": "text/x-python",
   "name": "python",
   "nbconvert_exporter": "python",
   "pygments_lexer": "ipython3",
   "version": "3.10.14"
  }
 },
 "nbformat": 4,
 "nbformat_minor": 0
}

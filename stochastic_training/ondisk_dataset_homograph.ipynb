{
 "cells": [
  {
   "cell_type": "markdown",
   "metadata": {
    "id": "FnFhPMaAfLtJ"
   },
   "source": [
    "# OnDiskDataset for Homogeneous Graph\n",
    "\n",
    "[![Open In Colab](https://colab.research.google.com/assets/colab-badge.svg)](https://colab.research.google.com/github/dmlc/dgl/blob/master/notebooks/stochastic_training/ondisk_dataset_homograph.ipynb) [![GitHub](https://img.shields.io/badge/-View%20on%20GitHub-181717?logo=github&logoColor=ffffff)](https://github.com/dmlc/dgl/blob/master/notebooks/stochastic_training/ondisk_dataset_homograph.ipynb)\n",
    "\n",
    "This tutorial shows how to create `OnDiskDataset` for homogeneous graph that could be used in **GraphBolt** framework.\n",
    "\n",
    "By the end of this tutorial, you will be able to\n",
    "\n",
    "- organize graph structure data.\n",
    "- organize feature data.\n",
    "- organize training/validation/test set for specific tasks.\n",
    "\n",
    "To create an ``OnDiskDataset`` object, you need to organize all the data including graph structure, feature data and tasks into a directory. The directory should contain a ``metadata.yaml`` file that describes the metadata of the dataset.\n",
    "\n",
    "Now let's generate various data step by step and organize them together to instantiate `OnDiskDataset` finally."
   ]
  },
  {
   "cell_type": "markdown",
   "metadata": {
    "id": "Wlb19DtWgtzq"
   },
   "source": [
    "## Install DGL package"
   ]
  },
  {
   "cell_type": "code",
   "execution_count": 1,
   "metadata": {
    "execution": {
     "iopub.execute_input": "2024-10-03T13:17:39.109597Z",
     "iopub.status.busy": "2024-10-03T13:17:39.109410Z",
     "iopub.status.idle": "2024-10-03T13:17:42.128039Z",
     "shell.execute_reply": "2024-10-03T13:17:42.127140Z"
    },
    "id": "UojlT9ZGgyr9"
   },
   "outputs": [
    {
     "name": "stdout",
     "output_type": "stream",
     "text": [
      "Looking in links: https://data.dgl.ai/wheels-test/repo.html\r\n",
      "Requirement already satisfied: dgl in /opt/conda/envs/dgl-dev-cpu/lib/python3.10/site-packages (2.2a240410)\r\n",
      "Requirement already satisfied: numpy>=1.14.0 in /opt/conda/envs/dgl-dev-cpu/lib/python3.10/site-packages (from dgl) (1.26.4)\r\n",
      "Requirement already satisfied: scipy>=1.1.0 in /opt/conda/envs/dgl-dev-cpu/lib/python3.10/site-packages (from dgl) (1.14.1)\r\n",
      "Requirement already satisfied: networkx>=2.1 in /opt/conda/envs/dgl-dev-cpu/lib/python3.10/site-packages (from dgl) (3.3)\r\n",
      "Requirement already satisfied: requests>=2.19.0 in /opt/conda/envs/dgl-dev-cpu/lib/python3.10/site-packages (from dgl) (2.32.3)\r\n",
      "Requirement already satisfied: tqdm in /opt/conda/envs/dgl-dev-cpu/lib/python3.10/site-packages (from dgl) (4.66.5)\r\n",
      "Requirement already satisfied: psutil>=5.8.0 in /opt/conda/envs/dgl-dev-cpu/lib/python3.10/site-packages (from dgl) (6.0.0)\r\n",
      "Requirement already satisfied: torchdata>=0.5.0 in /opt/conda/envs/dgl-dev-cpu/lib/python3.10/site-packages (from dgl) (0.8.0)\r\n",
      "Requirement already satisfied: pandas in /opt/conda/envs/dgl-dev-cpu/lib/python3.10/site-packages (from dgl) (2.2.3)\r\n"
     ]
    },
    {
     "name": "stdout",
     "output_type": "stream",
     "text": [
      "Requirement already satisfied: charset-normalizer<4,>=2 in /opt/conda/envs/dgl-dev-cpu/lib/python3.10/site-packages (from requests>=2.19.0->dgl) (3.3.2)\r\n",
      "Requirement already satisfied: idna<4,>=2.5 in /opt/conda/envs/dgl-dev-cpu/lib/python3.10/site-packages (from requests>=2.19.0->dgl) (3.10)\r\n",
      "Requirement already satisfied: urllib3<3,>=1.21.1 in /opt/conda/envs/dgl-dev-cpu/lib/python3.10/site-packages (from requests>=2.19.0->dgl) (2.2.3)\r\n",
      "Requirement already satisfied: certifi>=2017.4.17 in /opt/conda/envs/dgl-dev-cpu/lib/python3.10/site-packages (from requests>=2.19.0->dgl) (2024.8.30)\r\n",
      "Requirement already satisfied: torch>=2 in /opt/conda/envs/dgl-dev-cpu/lib/python3.10/site-packages (from torchdata>=0.5.0->dgl) (2.1.0+cpu)\r\n"
     ]
    },
    {
     "name": "stdout",
     "output_type": "stream",
     "text": [
      "Requirement already satisfied: python-dateutil>=2.8.2 in /opt/conda/envs/dgl-dev-cpu/lib/python3.10/site-packages (from pandas->dgl) (2.9.0.post0)\r\n",
      "Requirement already satisfied: pytz>=2020.1 in /opt/conda/envs/dgl-dev-cpu/lib/python3.10/site-packages (from pandas->dgl) (2024.2)\r\n",
      "Requirement already satisfied: tzdata>=2022.7 in /opt/conda/envs/dgl-dev-cpu/lib/python3.10/site-packages (from pandas->dgl) (2024.2)\r\n",
      "Requirement already satisfied: six>=1.5 in /opt/conda/envs/dgl-dev-cpu/lib/python3.10/site-packages (from python-dateutil>=2.8.2->pandas->dgl) (1.16.0)\r\n",
      "Requirement already satisfied: filelock in /opt/conda/envs/dgl-dev-cpu/lib/python3.10/site-packages (from torch>=2->torchdata>=0.5.0->dgl) (3.16.1)\r\n",
      "Requirement already satisfied: typing-extensions in /opt/conda/envs/dgl-dev-cpu/lib/python3.10/site-packages (from torch>=2->torchdata>=0.5.0->dgl) (4.12.2)\r\n",
      "Requirement already satisfied: sympy in /opt/conda/envs/dgl-dev-cpu/lib/python3.10/site-packages (from torch>=2->torchdata>=0.5.0->dgl) (1.13.3)\r\n",
      "Requirement already satisfied: jinja2 in /opt/conda/envs/dgl-dev-cpu/lib/python3.10/site-packages (from torch>=2->torchdata>=0.5.0->dgl) (3.1.4)\r\n",
      "Requirement already satisfied: fsspec in /opt/conda/envs/dgl-dev-cpu/lib/python3.10/site-packages (from torch>=2->torchdata>=0.5.0->dgl) (2024.9.0)\r\n"
     ]
    },
    {
     "name": "stdout",
     "output_type": "stream",
     "text": [
      "Requirement already satisfied: MarkupSafe>=2.0 in /opt/conda/envs/dgl-dev-cpu/lib/python3.10/site-packages (from jinja2->torch>=2->torchdata>=0.5.0->dgl) (2.1.5)\r\n",
      "Requirement already satisfied: mpmath<1.4,>=1.1.0 in /opt/conda/envs/dgl-dev-cpu/lib/python3.10/site-packages (from sympy->torch>=2->torchdata>=0.5.0->dgl) (1.3.0)\r\n"
     ]
    },
    {
     "name": "stdout",
     "output_type": "stream",
     "text": [
      "\u001b[33mWARNING: Running pip as the 'root' user can result in broken permissions and conflicting behaviour with the system package manager, possibly rendering your system unusable.It is recommended to use a virtual environment instead: https://pip.pypa.io/warnings/venv. Use the --root-user-action option if you know what you are doing and want to suppress this warning.\u001b[0m\u001b[33m\r\n",
      "\u001b[0m"
     ]
    },
    {
     "name": "stdout",
     "output_type": "stream",
     "text": [
      "DGL installed!\n"
     ]
    }
   ],
   "source": [
    "# Install required packages.\n",
    "import os\n",
    "import torch\n",
    "import numpy as np\n",
    "os.environ['TORCH'] = torch.__version__\n",
    "os.environ['DGLBACKEND'] = \"pytorch\"\n",
    "\n",
    "# Install the CPU version.\n",
    "device = torch.device(\"cpu\")\n",
    "!pip install --pre dgl -f https://data.dgl.ai/wheels-test/repo.html\n",
    "\n",
    "try:\n",
    "    import dgl\n",
    "    import dgl.graphbolt as gb\n",
    "    installed = True\n",
    "except ImportError as error:\n",
    "    installed = False\n",
    "    print(error)\n",
    "print(\"DGL installed!\" if installed else \"DGL not found!\")"
   ]
  },
  {
   "cell_type": "markdown",
   "metadata": {
    "id": "2R7WnSbjsfbr"
   },
   "source": [
    "## Data preparation\n",
    "In order to demonstrate how to organize various data, let's create a base directory first."
   ]
  },
  {
   "cell_type": "code",
   "execution_count": 2,
   "metadata": {
    "execution": {
     "iopub.execute_input": "2024-10-03T13:17:42.130922Z",
     "iopub.status.busy": "2024-10-03T13:17:42.130319Z",
     "iopub.status.idle": "2024-10-03T13:17:42.135234Z",
     "shell.execute_reply": "2024-10-03T13:17:42.134244Z"
    },
    "id": "SZipbzyltLfO"
   },
   "outputs": [
    {
     "name": "stdout",
     "output_type": "stream",
     "text": [
      "Created base directory: ./ondisk_dataset_homograph\n"
     ]
    }
   ],
   "source": [
    "base_dir = './ondisk_dataset_homograph'\n",
    "os.makedirs(base_dir, exist_ok=True)\n",
    "print(f\"Created base directory: {base_dir}\")"
   ]
  },
  {
   "cell_type": "markdown",
   "metadata": {
    "id": "qhNtIn_xhlnl"
   },
   "source": [
    "### Generate graph structure data\n",
    "For homogeneous graph, we just need to save edges(namely seeds) into  **Numpy** or **CSV** file.\n",
    "\n",
    "Note:\n",
    "- when saving to **Numpy**, the array requires to be in shape of `(2, N)`. This format is recommended as constructing graph from it is much faster than **CSV** file.\n",
    "- when saving to **CSV** file, do not save index and header.\n"
   ]
  },
  {
   "cell_type": "code",
   "execution_count": 3,
   "metadata": {
    "execution": {
     "iopub.execute_input": "2024-10-03T13:17:42.137486Z",
     "iopub.status.busy": "2024-10-03T13:17:42.137283Z",
     "iopub.status.idle": "2024-10-03T13:17:42.151310Z",
     "shell.execute_reply": "2024-10-03T13:17:42.150450Z"
    },
    "id": "HcBt4G5BmSjr"
   },
   "outputs": [
    {
     "name": "stdout",
     "output_type": "stream",
     "text": [
      "Part of edges: [[382   0]\n",
      " [ 41 827]\n",
      " [848 171]\n",
      " [218 263]\n",
      " [162 236]]\n",
      "Edges are saved into ./ondisk_dataset_homograph/edges.csv\n"
     ]
    }
   ],
   "source": [
    "import numpy as np\n",
    "import pandas as pd\n",
    "num_nodes = 1000\n",
    "num_edges = 10 * num_nodes\n",
    "edges_path = os.path.join(base_dir, \"edges.csv\")\n",
    "edges = np.random.randint(0, num_nodes, size=(num_edges, 2))\n",
    "\n",
    "print(f\"Part of edges: {edges[:5, :]}\")\n",
    "\n",
    "df = pd.DataFrame(edges)\n",
    "df.to_csv(edges_path, index=False, header=False)\n",
    "\n",
    "print(f\"Edges are saved into {edges_path}\")"
   ]
  },
  {
   "cell_type": "markdown",
   "metadata": {
    "id": "kh-4cPtzpcaH"
   },
   "source": [
    "### Generate feature data for graph\n",
    "For feature data, numpy arrays and torch tensors are supported for now."
   ]
  },
  {
   "cell_type": "code",
   "execution_count": 4,
   "metadata": {
    "execution": {
     "iopub.execute_input": "2024-10-03T13:17:42.153478Z",
     "iopub.status.busy": "2024-10-03T13:17:42.153194Z",
     "iopub.status.idle": "2024-10-03T13:17:42.171752Z",
     "shell.execute_reply": "2024-10-03T13:17:42.171122Z"
    },
    "id": "_PVu1u5brBhF"
   },
   "outputs": [
    {
     "name": "stdout",
     "output_type": "stream",
     "text": [
      "Part of node feature [feat_0]: [[0.5258752  0.72009884 0.40048756 0.01169121 0.25338195]\n",
      " [0.06601273 0.9071212  0.72044305 0.54861044 0.5863728 ]\n",
      " [0.8966936  0.16396437 0.53373294 0.94316426 0.7699061 ]]\n",
      "Node feature [feat_0] is saved to ./ondisk_dataset_homograph/node-feat-0.npy\n",
      "\n",
      "Part of node feature [feat_1]: tensor([[0.8179, 0.3755, 0.9145, 0.4738, 0.4460],\n",
      "        [0.2832, 0.0457, 0.4940, 0.7385, 0.8893],\n",
      "        [0.2801, 0.2546, 0.4217, 0.8962, 0.2083]])\n",
      "Node feature [feat_1] is saved to ./ondisk_dataset_homograph/node-feat-1.pt\n",
      "\n",
      "Part of edge feature [feat_0]: [[0.06636903 0.76904273 0.23251266 0.54989793 0.83767311]\n",
      " [0.36541356 0.08119545 0.50026004 0.40658942 0.12491871]\n",
      " [0.03430411 0.55674283 0.78631713 0.68549056 0.76028546]]\n",
      "Edge feature [feat_0] is saved to ./ondisk_dataset_homograph/edge-feat-0.npy\n",
      "\n",
      "Part of edge feature [feat_1]: tensor([[0.2564, 0.8476, 0.9014, 0.0832, 0.9750],\n",
      "        [0.6869, 0.2368, 0.0791, 0.7276, 0.5832],\n",
      "        [0.4051, 0.3613, 0.8829, 0.4835, 0.6502]])\n",
      "Edge feature [feat_1] is saved to ./ondisk_dataset_homograph/edge-feat-1.pt\n",
      "\n"
     ]
    }
   ],
   "source": [
    "# Generate node feature in numpy array.\n",
    "node_feat_0_path = os.path.join(base_dir, \"node-feat-0.npy\")\n",
    "node_feat_0 = np.random.rand(num_nodes, 5)\n",
    "print(f\"Part of node feature [feat_0]: {node_feat_0[:3, :]}\")\n",
    "np.save(node_feat_0_path, node_feat_0)\n",
    "print(f\"Node feature [feat_0] is saved to {node_feat_0_path}\\n\")\n",
    "\n",
    "# Generate another node feature in torch tensor\n",
    "node_feat_1_path = os.path.join(base_dir, \"node-feat-1.pt\")\n",
    "node_feat_1 = torch.rand(num_nodes, 5)\n",
    "print(f\"Part of node feature [feat_1]: {node_feat_1[:3, :]}\")\n",
    "torch.save(node_feat_1, node_feat_1_path)\n",
    "print(f\"Node feature [feat_1] is saved to {node_feat_1_path}\\n\")\n",
    "\n",
    "# Generate edge feature in numpy array.\n",
    "edge_feat_0_path = os.path.join(base_dir, \"edge-feat-0.npy\")\n",
    "edge_feat_0 = np.random.rand(num_edges, 5)\n",
    "print(f\"Part of edge feature [feat_0]: {edge_feat_0[:3, :]}\")\n",
    "np.save(edge_feat_0_path, edge_feat_0)\n",
    "print(f\"Edge feature [feat_0] is saved to {edge_feat_0_path}\\n\")\n",
    "\n",
    "# Generate another edge feature in torch tensor\n",
    "edge_feat_1_path = os.path.join(base_dir, \"edge-feat-1.pt\")\n",
    "edge_feat_1 = torch.rand(num_edges, 5)\n",
    "print(f\"Part of edge feature [feat_1]: {edge_feat_1[:3, :]}\")\n",
    "torch.save(edge_feat_1, edge_feat_1_path)\n",
    "print(f\"Edge feature [feat_1] is saved to {edge_feat_1_path}\\n\")\n"
   ]
  },
  {
   "cell_type": "markdown",
   "metadata": {
    "id": "ZyqgOtsIwzh_"
   },
   "source": [
    "### Generate tasks\n",
    "`OnDiskDataset` supports multiple tasks. For each task, we need to prepare training/validation/test sets respectively. Such sets usually vary among different tasks. In this tutorial, let's create a **Node Classification** task and **Link Prediction** task."
   ]
  },
  {
   "cell_type": "markdown",
   "metadata": {
    "id": "hVxHaDIfzCkr"
   },
   "source": [
    "#### Node Classification Task\n",
    "For node classification task, we need **node IDs** and corresponding **labels** for each training/validation/test set. Like feature data, numpy arrays and torch tensors are supported for these sets."
   ]
  },
  {
   "cell_type": "code",
   "execution_count": 5,
   "metadata": {
    "execution": {
     "iopub.execute_input": "2024-10-03T13:17:42.174491Z",
     "iopub.status.busy": "2024-10-03T13:17:42.174018Z",
     "iopub.status.idle": "2024-10-03T13:17:42.185672Z",
     "shell.execute_reply": "2024-10-03T13:17:42.184761Z"
    },
    "id": "S5-fyBbHzTCO"
   },
   "outputs": [
    {
     "name": "stdout",
     "output_type": "stream",
     "text": [
      "Part of train ids for node classification: [914 375 639]\n",
      "NC train ids are saved to ./ondisk_dataset_homograph/nc-train-ids.npy\n",
      "\n",
      "Part of train labels for node classification: tensor([3, 7, 7])\n",
      "NC train labels are saved to ./ondisk_dataset_homograph/nc-train-labels.pt\n",
      "\n",
      "Part of val ids for node classification: [243 510 509]\n",
      "NC val ids are saved to ./ondisk_dataset_homograph/nc-val-ids.npy\n",
      "\n",
      "Part of val labels for node classification: tensor([2, 8, 4])\n",
      "NC val labels are saved to ./ondisk_dataset_homograph/nc-val-labels.pt\n",
      "\n",
      "Part of test ids for node classification: [564 279 481]\n",
      "NC test ids are saved to ./ondisk_dataset_homograph/nc-test-ids.npy\n",
      "\n",
      "Part of test labels for node classification: tensor([8, 7, 1])\n",
      "NC test labels are saved to ./ondisk_dataset_homograph/nc-test-labels.pt\n",
      "\n"
     ]
    }
   ],
   "source": [
    "num_trains = int(num_nodes * 0.6)\n",
    "num_vals = int(num_nodes * 0.2)\n",
    "num_tests = num_nodes - num_trains - num_vals\n",
    "\n",
    "ids = np.arange(num_nodes)\n",
    "np.random.shuffle(ids)\n",
    "\n",
    "nc_train_ids_path = os.path.join(base_dir, \"nc-train-ids.npy\")\n",
    "nc_train_ids = ids[:num_trains]\n",
    "print(f\"Part of train ids for node classification: {nc_train_ids[:3]}\")\n",
    "np.save(nc_train_ids_path, nc_train_ids)\n",
    "print(f\"NC train ids are saved to {nc_train_ids_path}\\n\")\n",
    "\n",
    "nc_train_labels_path = os.path.join(base_dir, \"nc-train-labels.pt\")\n",
    "nc_train_labels = torch.randint(0, 10, (num_trains,))\n",
    "print(f\"Part of train labels for node classification: {nc_train_labels[:3]}\")\n",
    "torch.save(nc_train_labels, nc_train_labels_path)\n",
    "print(f\"NC train labels are saved to {nc_train_labels_path}\\n\")\n",
    "\n",
    "nc_val_ids_path = os.path.join(base_dir, \"nc-val-ids.npy\")\n",
    "nc_val_ids = ids[num_trains:num_trains+num_vals]\n",
    "print(f\"Part of val ids for node classification: {nc_val_ids[:3]}\")\n",
    "np.save(nc_val_ids_path, nc_val_ids)\n",
    "print(f\"NC val ids are saved to {nc_val_ids_path}\\n\")\n",
    "\n",
    "nc_val_labels_path = os.path.join(base_dir, \"nc-val-labels.pt\")\n",
    "nc_val_labels = torch.randint(0, 10, (num_vals,))\n",
    "print(f\"Part of val labels for node classification: {nc_val_labels[:3]}\")\n",
    "torch.save(nc_val_labels, nc_val_labels_path)\n",
    "print(f\"NC val labels are saved to {nc_val_labels_path}\\n\")\n",
    "\n",
    "nc_test_ids_path = os.path.join(base_dir, \"nc-test-ids.npy\")\n",
    "nc_test_ids = ids[-num_tests:]\n",
    "print(f\"Part of test ids for node classification: {nc_test_ids[:3]}\")\n",
    "np.save(nc_test_ids_path, nc_test_ids)\n",
    "print(f\"NC test ids are saved to {nc_test_ids_path}\\n\")\n",
    "\n",
    "nc_test_labels_path = os.path.join(base_dir, \"nc-test-labels.pt\")\n",
    "nc_test_labels = torch.randint(0, 10, (num_tests,))\n",
    "print(f\"Part of test labels for node classification: {nc_test_labels[:3]}\")\n",
    "torch.save(nc_test_labels, nc_test_labels_path)\n",
    "print(f\"NC test labels are saved to {nc_test_labels_path}\\n\")"
   ]
  },
  {
   "cell_type": "markdown",
   "metadata": {
    "id": "LhAcDCHQ_KJ0"
   },
   "source": [
    "#### Link Prediction Task\n",
    "For link prediction task, we need **seeds** or **corresponding labels and indexes** which representing the pos/neg property and group of the seeds for each training/validation/test set. Like feature data, numpy arrays and torch tensors are supported for these sets."
   ]
  },
  {
   "cell_type": "code",
   "execution_count": 6,
   "metadata": {
    "execution": {
     "iopub.execute_input": "2024-10-03T13:17:42.188039Z",
     "iopub.status.busy": "2024-10-03T13:17:42.187666Z",
     "iopub.status.idle": "2024-10-03T13:17:42.205798Z",
     "shell.execute_reply": "2024-10-03T13:17:42.204943Z"
    },
    "id": "u0jCnXIcAQy4"
   },
   "outputs": [
    {
     "name": "stdout",
     "output_type": "stream",
     "text": [
      "Part of train seeds for link prediction: [[382   0]\n",
      " [ 41 827]\n",
      " [848 171]]\n",
      "LP train seeds are saved to ./ondisk_dataset_homograph/lp-train-seeds.npy\n",
      "\n",
      "Part of val seeds for link prediction: [[594 811]\n",
      " [131 410]\n",
      " [878 493]]\n",
      "LP val seeds are saved to ./ondisk_dataset_homograph/lp-val-seeds.npy\n",
      "\n",
      "Part of val labels for link prediction: [1. 1. 1.]\n",
      "LP val labels are saved to ./ondisk_dataset_homograph/lp-val-labels.npy\n",
      "\n",
      "Part of val indexes for link prediction: [0 1 2]\n",
      "LP val indexes are saved to ./ondisk_dataset_homograph/lp-val-indexes.npy\n",
      "\n",
      "Part of test seeds for link prediction: [[974 504]\n",
      " [492 879]\n",
      " [  7 190]]\n",
      "LP test seeds are saved to ./ondisk_dataset_homograph/lp-test-seeds.npy\n",
      "\n",
      "Part of val labels for link prediction: [1. 1. 1.]\n",
      "LP test labels are saved to ./ondisk_dataset_homograph/lp-test-labels.npy\n",
      "\n",
      "Part of test indexes for link prediction: [0 1 2]\n",
      "LP test indexes are saved to ./ondisk_dataset_homograph/lp-test-indexes.npy\n",
      "\n"
     ]
    }
   ],
   "source": [
    "num_trains = int(num_edges * 0.6)\n",
    "num_vals = int(num_edges * 0.2)\n",
    "num_tests = num_edges - num_trains - num_vals\n",
    "\n",
    "lp_train_seeds_path = os.path.join(base_dir, \"lp-train-seeds.npy\")\n",
    "lp_train_seeds = edges[:num_trains, :]\n",
    "print(f\"Part of train seeds for link prediction: {lp_train_seeds[:3]}\")\n",
    "np.save(lp_train_seeds_path, lp_train_seeds)\n",
    "print(f\"LP train seeds are saved to {lp_train_seeds_path}\\n\")\n",
    "\n",
    "lp_val_seeds_path = os.path.join(base_dir, \"lp-val-seeds.npy\")\n",
    "lp_val_seeds = edges[num_trains:num_trains+num_vals, :]\n",
    "lp_val_neg_dsts = np.random.randint(0, num_nodes, (num_vals, 10)).reshape(-1)\n",
    "lp_val_neg_srcs = np.repeat(lp_val_seeds[:,0], 10)\n",
    "lp_val_neg_seeds = np.concatenate((lp_val_neg_srcs, lp_val_neg_dsts)).reshape(2,-1).T\n",
    "lp_val_seeds = np.concatenate((lp_val_seeds, lp_val_neg_seeds))\n",
    "print(f\"Part of val seeds for link prediction: {lp_val_seeds[:3]}\")\n",
    "np.save(lp_val_seeds_path, lp_val_seeds)\n",
    "print(f\"LP val seeds are saved to {lp_val_seeds_path}\\n\")\n",
    "\n",
    "lp_val_labels_path = os.path.join(base_dir, \"lp-val-labels.npy\")\n",
    "lp_val_labels = np.empty(num_vals * (10 + 1))\n",
    "lp_val_labels[:num_vals] = 1\n",
    "lp_val_labels[num_vals:] = 0\n",
    "print(f\"Part of val labels for link prediction: {lp_val_labels[:3]}\")\n",
    "np.save(lp_val_labels_path, lp_val_labels)\n",
    "print(f\"LP val labels are saved to {lp_val_labels_path}\\n\")\n",
    "\n",
    "lp_val_indexes_path = os.path.join(base_dir, \"lp-val-indexes.npy\")\n",
    "lp_val_indexes = np.arange(0, num_vals)\n",
    "lp_val_neg_indexes = np.repeat(lp_val_indexes, 10)\n",
    "lp_val_indexes = np.concatenate([lp_val_indexes, lp_val_neg_indexes])\n",
    "print(f\"Part of val indexes for link prediction: {lp_val_indexes[:3]}\")\n",
    "np.save(lp_val_indexes_path, lp_val_indexes)\n",
    "print(f\"LP val indexes are saved to {lp_val_indexes_path}\\n\")\n",
    "\n",
    "lp_test_seeds_path = os.path.join(base_dir, \"lp-test-seeds.npy\")\n",
    "lp_test_seeds = edges[-num_tests:, :]\n",
    "lp_test_neg_dsts = np.random.randint(0, num_nodes, (num_tests, 10)).reshape(-1)\n",
    "lp_test_neg_srcs = np.repeat(lp_test_seeds[:,0], 10)\n",
    "lp_test_neg_seeds = np.concatenate((lp_test_neg_srcs, lp_test_neg_dsts)).reshape(2,-1).T\n",
    "lp_test_seeds = np.concatenate((lp_test_seeds, lp_test_neg_seeds))\n",
    "print(f\"Part of test seeds for link prediction: {lp_test_seeds[:3]}\")\n",
    "np.save(lp_test_seeds_path, lp_test_seeds)\n",
    "print(f\"LP test seeds are saved to {lp_test_seeds_path}\\n\")\n",
    "\n",
    "lp_test_labels_path = os.path.join(base_dir, \"lp-test-labels.npy\")\n",
    "lp_test_labels = np.empty(num_tests * (10 + 1))\n",
    "lp_test_labels[:num_tests] = 1\n",
    "lp_test_labels[num_tests:] = 0\n",
    "print(f\"Part of val labels for link prediction: {lp_test_labels[:3]}\")\n",
    "np.save(lp_test_labels_path, lp_test_labels)\n",
    "print(f\"LP test labels are saved to {lp_test_labels_path}\\n\")\n",
    "\n",
    "lp_test_indexes_path = os.path.join(base_dir, \"lp-test-indexes.npy\")\n",
    "lp_test_indexes = np.arange(0, num_tests)\n",
    "lp_test_neg_indexes = np.repeat(lp_test_indexes, 10)\n",
    "lp_test_indexes = np.concatenate([lp_test_indexes, lp_test_neg_indexes])\n",
    "print(f\"Part of test indexes for link prediction: {lp_test_indexes[:3]}\")\n",
    "np.save(lp_test_indexes_path, lp_test_indexes)\n",
    "print(f\"LP test indexes are saved to {lp_test_indexes_path}\\n\")"
   ]
  },
  {
   "cell_type": "markdown",
   "metadata": {
    "id": "wbk6-wxRK-6S"
   },
   "source": [
    "## Organize Data into YAML File\n",
    "Now we need to create a `metadata.yaml` file which contains the paths, dadta types of graph structure, feature data, training/validation/test sets.\n",
    "\n",
    "Notes:\n",
    "- all path should be relative to `metadata.yaml`.\n",
    "- Below fields are optional and not specified in below example.\n",
    "  - `in_memory`: indicates whether to load dada into memory or `mmap`. Default is `True`.\n",
    "\n",
    "Please refer to [YAML specification](https://github.com/dmlc/dgl/blob/master/docs/source/stochastic_training/ondisk-dataset-specification.rst) for more details."
   ]
  },
  {
   "cell_type": "code",
   "execution_count": 7,
   "metadata": {
    "execution": {
     "iopub.execute_input": "2024-10-03T13:17:42.208182Z",
     "iopub.status.busy": "2024-10-03T13:17:42.207803Z",
     "iopub.status.idle": "2024-10-03T13:17:42.213902Z",
     "shell.execute_reply": "2024-10-03T13:17:42.213072Z"
    },
    "id": "ddGTWW61Lpwp"
   },
   "outputs": [],
   "source": [
    "yaml_content = f\"\"\"\n",
    "    dataset_name: homogeneous_graph_nc_lp\n",
    "    graph:\n",
    "      nodes:\n",
    "        - num: {num_nodes}\n",
    "      edges:\n",
    "        - format: csv\n",
    "          path: {os.path.basename(edges_path)}\n",
    "    feature_data:\n",
    "      - domain: node\n",
    "        name: feat_0\n",
    "        format: numpy\n",
    "        path: {os.path.basename(node_feat_0_path)}\n",
    "      - domain: node\n",
    "        name: feat_1\n",
    "        format: torch\n",
    "        path: {os.path.basename(node_feat_1_path)}\n",
    "      - domain: edge\n",
    "        name: feat_0\n",
    "        format: numpy\n",
    "        path: {os.path.basename(edge_feat_0_path)}\n",
    "      - domain: edge\n",
    "        name: feat_1\n",
    "        format: torch\n",
    "        path: {os.path.basename(edge_feat_1_path)}\n",
    "    tasks:\n",
    "      - name: node_classification\n",
    "        num_classes: 10\n",
    "        train_set:\n",
    "          - data:\n",
    "              - name: seeds\n",
    "                format: numpy\n",
    "                path: {os.path.basename(nc_train_ids_path)}\n",
    "              - name: labels\n",
    "                format: torch\n",
    "                path: {os.path.basename(nc_train_labels_path)}\n",
    "        validation_set:\n",
    "          - data:\n",
    "              - name: seeds\n",
    "                format: numpy\n",
    "                path: {os.path.basename(nc_val_ids_path)}\n",
    "              - name: labels\n",
    "                format: torch\n",
    "                path: {os.path.basename(nc_val_labels_path)}\n",
    "        test_set:\n",
    "          - data:\n",
    "              - name: seeds\n",
    "                format: numpy\n",
    "                path: {os.path.basename(nc_test_ids_path)}\n",
    "              - name: labels\n",
    "                format: torch\n",
    "                path: {os.path.basename(nc_test_labels_path)}\n",
    "      - name: link_prediction\n",
    "        num_classes: 10\n",
    "        train_set:\n",
    "          - data:\n",
    "              - name: seeds\n",
    "                format: numpy\n",
    "                path: {os.path.basename(lp_train_seeds_path)}\n",
    "        validation_set:\n",
    "          - data:\n",
    "              - name: seeds\n",
    "                format: numpy\n",
    "                path: {os.path.basename(lp_val_seeds_path)}\n",
    "              - name: labels\n",
    "                format: numpy\n",
    "                path: {os.path.basename(lp_val_labels_path)}\n",
    "              - name: indexes\n",
    "                format: numpy\n",
    "                path: {os.path.basename(lp_val_indexes_path)}\n",
    "        test_set:\n",
    "          - data:\n",
    "              - name: seeds\n",
    "                format: numpy\n",
    "                path: {os.path.basename(lp_test_seeds_path)}\n",
    "              - name: labels\n",
    "                format: numpy\n",
    "                path: {os.path.basename(lp_test_labels_path)}\n",
    "              - name: indexes\n",
    "                format: numpy\n",
    "                path: {os.path.basename(lp_test_indexes_path)}\n",
    "\"\"\"\n",
    "metadata_path = os.path.join(base_dir, \"metadata.yaml\")\n",
    "with open(metadata_path, \"w\") as f:\n",
    "  f.write(yaml_content)"
   ]
  },
  {
   "cell_type": "markdown",
   "metadata": {
    "id": "kEfybHGhOW7O"
   },
   "source": [
    "## Instantiate `OnDiskDataset`\n",
    "Now we're ready to load dataset via `dgl.graphbolt.OnDiskDataset`. When instantiating, we just pass in the base directory where `metadata.yaml` file lies.\n",
    "\n",
    "During first instantiation, GraphBolt preprocesses the raw data such as constructing `FusedCSCSamplingGraph` from edges. All data including graph, feature data, training/validation/test sets are put into `preprocessed` directory after preprocessing. Any following dataset loading will skip the preprocess stage.\n",
    "\n",
    "After preprocessing, `load()` is required to be called explicitly in order to load graph, feature data and tasks."
   ]
  },
  {
   "cell_type": "code",
   "execution_count": 8,
   "metadata": {
    "execution": {
     "iopub.execute_input": "2024-10-03T13:17:42.216006Z",
     "iopub.status.busy": "2024-10-03T13:17:42.215732Z",
     "iopub.status.idle": "2024-10-03T13:17:42.290345Z",
     "shell.execute_reply": "2024-10-03T13:17:42.289767Z"
    },
    "id": "W58CZoSzOiyo"
   },
   "outputs": [
    {
     "name": "stdout",
     "output_type": "stream",
     "text": [
      "Start to preprocess the on-disk dataset.\n",
      "Finish preprocessing the on-disk dataset.\n",
      "Loaded graph: FusedCSCSamplingGraph(csc_indptr=tensor([    0,    19,    29,  ...,  9980,  9988, 10000], dtype=torch.int32),\n",
      "                      indices=tensor([382, 737, 849,  ..., 620, 255, 432], dtype=torch.int32),\n",
      "                      total_num_nodes=1000, num_edges=10000,)\n",
      "\n",
      "Loaded feature store: TorchBasedFeatureStore(\n",
      "    {(<OnDiskFeatureDataDomain.NODE: 'node'>, None, 'feat_0'): TorchBasedFeature(\n",
      "        feature=tensor([[0.5259, 0.7201, 0.4005, 0.0117, 0.2534],\n",
      "                        [0.0660, 0.9071, 0.7204, 0.5486, 0.5864],\n",
      "                        [0.8967, 0.1640, 0.5337, 0.9432, 0.7699],\n",
      "                        ...,\n",
      "                        [0.5344, 0.5712, 0.2762, 0.5020, 0.1732],\n",
      "                        [0.5079, 0.9024, 0.4136, 0.4184, 0.7142],\n",
      "                        [0.4873, 0.0569, 0.6970, 0.5451, 0.8574]], dtype=torch.float64),\n",
      "        metadata={},\n",
      "    ), (<OnDiskFeatureDataDomain.NODE: 'node'>, None, 'feat_1'): TorchBasedFeature(\n",
      "        feature=tensor([[0.8179, 0.3755, 0.9145, 0.4738, 0.4460],\n",
      "                        [0.2832, 0.0457, 0.4940, 0.7385, 0.8893],\n",
      "                        [0.2801, 0.2546, 0.4217, 0.8962, 0.2083],\n",
      "                        ...,\n",
      "                        [0.4405, 0.1226, 0.8675, 0.0323, 0.2265],\n",
      "                        [0.2108, 0.7263, 0.7663, 0.5614, 0.3023],\n",
      "                        [0.8747, 0.7527, 0.8972, 0.3018, 0.4390]]),\n",
      "        metadata={},\n",
      "    ), (<OnDiskFeatureDataDomain.EDGE: 'edge'>, None, 'feat_0'): TorchBasedFeature(\n",
      "        feature=tensor([[0.0664, 0.7690, 0.2325, 0.5499, 0.8377],\n",
      "                        [0.3654, 0.0812, 0.5003, 0.4066, 0.1249],\n",
      "                        [0.0343, 0.5567, 0.7863, 0.6855, 0.7603],\n",
      "                        ...,\n",
      "                        [0.4861, 0.5407, 0.9478, 0.3932, 0.5044],\n",
      "                        [0.6554, 0.2999, 0.9122, 0.3153, 0.3946],\n",
      "                        [0.1612, 0.4437, 0.4769, 0.7625, 0.7309]], dtype=torch.float64),\n",
      "        metadata={},\n",
      "    ), (<OnDiskFeatureDataDomain.EDGE: 'edge'>, None, 'feat_1'): TorchBasedFeature(\n",
      "        feature=tensor([[0.2564, 0.8476, 0.9014, 0.0832, 0.9750],\n",
      "                        [0.6869, 0.2368, 0.0791, 0.7276, 0.5832],\n",
      "                        [0.4051, 0.3613, 0.8829, 0.4835, 0.6502],\n",
      "                        ...,\n",
      "                        [0.8023, 0.5062, 0.6163, 0.4792, 0.6200],\n",
      "                        [0.9677, 0.8070, 0.5425, 0.8977, 0.1056],\n",
      "                        [0.2331, 0.8955, 0.3624, 0.4191, 0.5735]]),\n",
      "        metadata={},\n",
      "    )}\n",
      ")\n",
      "\n",
      "Loaded node classification task: OnDiskTask(validation_set=ItemSet(\n",
      "               items=(tensor([243, 510, 509, 250, 803, 902, 302, 816, 293,  57, 192, 640,  36, 211,\n",
      "                   342, 506, 215, 687, 488, 675, 508, 494, 852, 448, 196, 228, 772, 483,\n",
      "                    95, 685, 334,  19, 462, 716, 157, 606,   6, 537, 653, 357,  64, 690,\n",
      "                   571,  43,  26, 330, 758, 779,  87, 492, 398, 789, 843,  62, 327, 401,\n",
      "                   394, 859, 901, 720, 418, 629, 288, 768, 206, 814, 554, 998, 602, 673,\n",
      "                   154, 476, 386, 372, 443, 695, 596, 698,  56, 283, 455,  31, 349, 678,\n",
      "                   498, 912, 360, 503, 295, 618, 993, 175, 245, 294, 973, 144,  13, 881,\n",
      "                    42, 679, 321, 798, 379, 955, 260, 643, 611, 284,  99, 620, 264, 521,\n",
      "                   663, 435, 565, 633, 847, 853, 209, 268, 274,  59, 428, 841, 167, 595,\n",
      "                   754,  18, 464, 862, 203, 466, 543, 872, 129, 408, 511, 827, 647, 963,\n",
      "                   604, 456, 574, 322, 569, 255, 707, 950,   3, 135, 271,  24, 136, 153,\n",
      "                    74, 562, 290, 594, 395, 112, 235, 729, 553, 884, 419, 580, 516, 479,\n",
      "                   355, 882,  35, 659, 898, 217, 988, 860, 578, 888, 938, 220, 139, 525,\n",
      "                   514, 833, 568, 566, 616, 440, 869, 161, 252, 987, 347, 331, 352, 482,\n",
      "                   470, 915, 423, 478], dtype=torch.int32), tensor([2, 8, 4, 1, 5, 2, 5, 6, 5, 8, 9, 9, 2, 3, 4, 0, 0, 5, 9, 6, 9, 1, 9, 5,\n",
      "                   1, 2, 0, 9, 6, 1, 1, 7, 9, 4, 8, 1, 3, 8, 3, 3, 7, 9, 9, 1, 4, 5, 9, 9,\n",
      "                   3, 6, 2, 8, 8, 8, 9, 0, 3, 8, 1, 8, 2, 6, 6, 8, 7, 7, 3, 7, 5, 0, 7, 5,\n",
      "                   2, 5, 1, 5, 6, 0, 8, 7, 5, 8, 9, 3, 4, 8, 9, 9, 0, 8, 3, 3, 8, 2, 4, 4,\n",
      "                   0, 5, 3, 2, 3, 3, 3, 9, 8, 1, 5, 4, 8, 2, 9, 3, 1, 1, 5, 0, 9, 1, 9, 5,\n",
      "                   4, 8, 5, 2, 9, 8, 1, 1, 2, 1, 6, 0, 6, 0, 6, 6, 1, 2, 8, 1, 4, 0, 4, 3,\n",
      "                   0, 4, 5, 3, 4, 4, 9, 9, 9, 4, 2, 7, 1, 0, 8, 7, 2, 7, 7, 1, 9, 9, 8, 4,\n",
      "                   0, 5, 8, 4, 6, 1, 4, 7, 1, 3, 1, 1, 4, 0, 7, 8, 7, 7, 1, 8, 2, 1, 6, 4,\n",
      "                   0, 0, 5, 2, 1, 7, 2, 1])),\n",
      "               names=('seeds', 'labels'),\n",
      "           ),\n",
      "           train_set=ItemSet(\n",
      "               items=(tensor([914, 375, 639, 584, 526, 910, 320, 836,  91, 991, 162,  90,  14, 864,\n",
      "                    53, 296, 241, 747, 704, 370, 549, 894, 210, 421,  66,  80, 913, 344,\n",
      "                   651,   2, 231, 876, 777, 415, 784,  22, 743, 354, 323, 994, 345,  96,\n",
      "                   757, 741, 353,  21, 517, 686, 786, 610, 432, 875, 358, 668, 259, 116,\n",
      "                   928, 265, 499, 473, 867, 414, 382, 628, 534, 300, 438, 778, 276, 703,\n",
      "                   198, 208, 527, 251, 613, 468, 188, 134, 700, 110, 979, 746, 733, 115,\n",
      "                   658, 311, 809, 887, 683, 480, 665, 727, 343, 280, 904, 515, 918, 957,\n",
      "                   899,   8,  88, 460, 168, 121, 303, 436, 857, 590, 529, 489, 701,  51,\n",
      "                    46, 445, 218, 615, 362, 608, 788, 427, 585, 597, 952, 140, 732, 183,\n",
      "                     1, 138, 790,  58, 672, 313, 366, 496, 207, 967, 536, 706, 712, 520,\n",
      "                   785, 946, 164, 951, 350, 971,  41, 976, 990, 579,  98, 824, 740, 308,\n",
      "                     4, 644, 870, 548, 734, 315, 123,  30, 879, 723, 254, 298,  34, 787,\n",
      "                   624, 657, 561, 763, 324,   0, 689, 145, 948, 631,  72,  11, 187, 143,\n",
      "                   417, 238, 193, 897,  50, 705, 654, 463, 906, 880, 670, 925, 634, 329,\n",
      "                   619, 840, 166, 319, 147, 656, 933, 356, 128,  33, 363, 943, 923, 791,\n",
      "                   969, 396, 970,  20,  12, 726, 388, 609, 101, 191, 299, 605, 111, 160,\n",
      "                   924,  25, 691, 365, 664, 893, 806, 598, 292, 381, 524, 745, 863, 961,\n",
      "                   373, 458, 589, 326, 501, 130,  37, 635,  32, 821, 137, 728, 531, 528,\n",
      "                    44, 341, 999, 934, 194, 127, 572, 340, 646, 247,  67, 490, 807, 156,\n",
      "                   627, 189,  52, 487, 573, 547, 186, 263, 563,  23, 937, 270, 532, 797,\n",
      "                   699, 858, 719, 392, 124, 328,  60, 474, 940, 958, 600, 903, 755, 822,\n",
      "                   348, 497,  47, 567, 671, 253, 318, 317, 552, 680, 709,  75, 965, 197,\n",
      "                   346, 256,  83, 614, 919, 992, 855, 281, 429, 782,  71, 885, 113, 964,\n",
      "                   522, 224, 586, 877, 829, 469, 258, 749, 150,  92, 181,  78, 475, 227,\n",
      "                   603, 232, 577, 337, 391, 403, 761, 364, 764, 632, 711, 801, 830, 555,\n",
      "                    81, 505, 103, 688, 519, 380,   5, 165, 287, 390, 289, 420, 453, 325,\n",
      "                   459, 975, 997, 170,  79,  84, 277, 306, 774, 439, 491, 119, 351, 645,\n",
      "                   467, 451,  89, 981, 752, 180, 410, 920, 378, 174, 158, 301, 780, 307,\n",
      "                   850, 846, 831,  73, 570, 775, 891, 142, 621, 338, 267, 236, 607,  40,\n",
      "                    28,  16, 927, 765, 266, 944, 107, 159, 694, 425, 810, 397, 815, 714,\n",
      "                   117, 234, 715, 151, 861, 141, 717, 286, 383, 179, 422, 269, 442, 261,\n",
      "                   721, 799, 246, 132, 387, 190, 648, 702, 980, 896, 205, 696, 718, 411,\n",
      "                   638, 837, 449, 131, 769, 907, 909, 630, 230, 244, 359,  27, 500, 592,\n",
      "                   996, 842, 336, 518, 222, 865, 539, 681, 305, 149, 811, 461, 593, 431,\n",
      "                   818, 922, 407, 424, 400, 484, 433, 152, 939, 724, 601, 832, 377,  38,\n",
      "                   954, 820, 984, 956, 385, 823, 513, 214, 805, 587, 738,   9, 722, 713,\n",
      "                   983, 485, 559,  68, 781, 942, 507, 930, 223, 848, 926, 974,  15, 240,\n",
      "                   834, 504, 636, 844, 465, 405, 576, 886, 889, 783, 941, 551, 935, 895,\n",
      "                   770, 649, 962, 874, 173, 575, 753, 966, 285, 766, 304, 661, 312, 450,\n",
      "                    94, 677, 986,  86, 708, 399,  76, 384, 972,  85, 368,  63, 278, 792,\n",
      "                   682, 760, 335, 535, 900, 452, 212, 622, 800,  49, 221, 178, 751, 109,\n",
      "                   114, 332, 968, 856, 650, 839, 742, 512, 599, 273, 737, 545, 426, 868,\n",
      "                   802, 947,  61, 471, 309, 434, 523, 556, 917, 794, 216, 108],\n",
      "                  dtype=torch.int32), tensor([3, 7, 7, 0, 8, 4, 3, 3, 7, 3, 1, 9, 0, 6, 0, 9, 9, 7, 5, 8, 4, 0, 6, 3,\n",
      "                   7, 7, 8, 9, 1, 0, 3, 1, 1, 8, 7, 0, 3, 2, 5, 4, 4, 5, 5, 2, 5, 9, 1, 3,\n",
      "                   1, 8, 0, 5, 7, 6, 1, 7, 4, 6, 4, 3, 6, 0, 8, 9, 9, 0, 9, 3, 7, 1, 1, 6,\n",
      "                   6, 9, 0, 0, 5, 2, 6, 0, 7, 6, 2, 8, 1, 6, 3, 9, 9, 6, 2, 1, 7, 9, 0, 3,\n",
      "                   1, 1, 9, 3, 2, 9, 7, 2, 5, 2, 6, 5, 6, 6, 3, 3, 4, 4, 5, 1, 5, 2, 3, 6,\n",
      "                   2, 1, 8, 9, 6, 2, 1, 2, 7, 3, 0, 7, 6, 7, 5, 2, 3, 7, 2, 3, 7, 5, 8, 5,\n",
      "                   8, 7, 6, 2, 1, 9, 2, 7, 1, 6, 3, 3, 6, 7, 7, 3, 4, 0, 1, 6, 8, 5, 2, 3,\n",
      "                   3, 1, 0, 3, 3, 8, 6, 7, 1, 0, 0, 0, 8, 2, 8, 7, 3, 9, 6, 9, 8, 9, 4, 9,\n",
      "                   0, 6, 7, 1, 6, 4, 0, 0, 8, 9, 8, 8, 6, 0, 8, 6, 7, 7, 2, 6, 6, 6, 6, 7,\n",
      "                   7, 5, 6, 8, 7, 3, 7, 8, 5, 1, 1, 9, 6, 0, 3, 9, 7, 3, 8, 4, 1, 9, 6, 7,\n",
      "                   7, 7, 1, 2, 9, 7, 1, 1, 7, 7, 7, 4, 2, 6, 9, 7, 3, 5, 9, 2, 9, 8, 9, 2,\n",
      "                   7, 0, 6, 7, 4, 8, 6, 8, 0, 9, 8, 9, 9, 3, 4, 2, 8, 6, 2, 6, 0, 2, 0, 8,\n",
      "                   4, 1, 6, 5, 3, 7, 0, 7, 4, 7, 5, 1, 7, 8, 2, 8, 9, 9, 9, 1, 2, 2, 6, 1,\n",
      "                   7, 4, 3, 1, 5, 7, 6, 8, 3, 3, 8, 7, 0, 8, 8, 9, 8, 8, 9, 7, 5, 8, 0, 6,\n",
      "                   1, 1, 2, 7, 8, 8, 8, 4, 4, 7, 8, 6, 3, 1, 2, 0, 1, 6, 6, 6, 7, 7, 3, 5,\n",
      "                   0, 7, 2, 4, 6, 4, 5, 9, 5, 7, 7, 8, 6, 6, 1, 1, 6, 9, 3, 0, 5, 9, 4, 4,\n",
      "                   8, 5, 1, 0, 5, 8, 0, 8, 5, 5, 9, 4, 0, 0, 5, 2, 6, 6, 3, 5, 4, 4, 5, 6,\n",
      "                   8, 9, 3, 9, 8, 7, 3, 8, 4, 0, 2, 7, 4, 0, 9, 5, 7, 4, 4, 0, 6, 0, 2, 8,\n",
      "                   0, 0, 9, 3, 4, 4, 9, 4, 0, 0, 6, 6, 1, 4, 8, 8, 6, 5, 4, 1, 5, 0, 1, 9,\n",
      "                   0, 0, 6, 2, 0, 1, 9, 3, 0, 5, 6, 9, 1, 2, 4, 7, 2, 5, 3, 1, 8, 6, 2, 8,\n",
      "                   9, 9, 4, 7, 0, 9, 9, 3, 7, 0, 9, 0, 8, 1, 2, 1, 9, 9, 2, 5, 4, 4, 2, 0,\n",
      "                   7, 1, 3, 9, 0, 8, 7, 6, 4, 9, 7, 3, 8, 9, 1, 5, 7, 1, 7, 1, 8, 7, 4, 1,\n",
      "                   4, 5, 1, 2, 1, 5, 3, 1, 3, 1, 0, 9, 3, 1, 6, 0, 6, 6, 8, 2, 0, 9, 0, 8,\n",
      "                   4, 6, 7, 9, 4, 6, 4, 5, 9, 7, 7, 4, 0, 1, 5, 0, 8, 3, 1, 7, 6, 2, 7, 8,\n",
      "                   5, 3, 1, 3, 3, 3, 0, 1, 8, 9, 7, 5, 7, 7, 8, 9, 0, 4, 2, 2, 7, 4, 1, 8])),\n",
      "               names=('seeds', 'labels'),\n",
      "           ),\n",
      "           test_set=ItemSet(\n",
      "               items=(tensor([564, 279, 481, 795, 684, 871, 736, 472, 819, 921, 911, 133, 118, 945,\n",
      "                   200, 773, 866, 625, 225, 652, 883,  45, 623, 748, 949, 248, 441, 642,\n",
      "                   184, 759, 892, 544, 730,  97,   7, 314, 546, 171, 477, 169, 367, 692,\n",
      "                   932, 812, 213, 361, 333, 641, 125, 105, 486,  77, 828, 697, 660, 541,\n",
      "                   617,  10, 291, 873, 662, 804, 582, 557, 102, 409, 202, 389, 762, 854,\n",
      "                   172, 826, 960, 825, 558, 239, 936, 849,  93, 185, 817, 767, 316,  39,\n",
      "                   878, 104, 437,  54,  29, 444, 374, 120, 146, 393, 674, 201, 916, 502,\n",
      "                   195, 710, 581, 793, 808, 591, 155, 583, 282, 237, 739, 560, 959, 908,\n",
      "                   454, 776, 369, 530, 890, 126, 100, 666, 533, 233, 219, 176, 148, 835,\n",
      "                   771, 929, 735, 845, 447, 406, 249, 404, 669,  48, 182,  65, 106, 446,\n",
      "                   376, 676, 272, 626, 756, 495, 905, 637, 693, 493, 982, 931, 813, 796,\n",
      "                   371, 242, 402, 339, 199, 416, 978, 540, 204, 731, 226, 588, 744, 750,\n",
      "                    70, 122, 667, 257, 977, 725,  55,  69, 985, 550, 229, 953, 430, 655,\n",
      "                   413, 177, 989, 163, 612, 412, 275,  17, 297, 310, 262, 838, 538,  82,\n",
      "                   995, 457, 851, 542], dtype=torch.int32), tensor([8, 7, 1, 1, 9, 0, 3, 1, 9, 1, 0, 9, 8, 0, 9, 9, 0, 7, 1, 1, 0, 0, 9, 9,\n",
      "                   7, 3, 3, 1, 9, 8, 2, 5, 3, 4, 7, 3, 3, 1, 3, 2, 0, 1, 0, 1, 6, 2, 5, 3,\n",
      "                   7, 5, 0, 4, 4, 8, 7, 0, 8, 7, 6, 8, 9, 0, 2, 8, 7, 7, 1, 2, 7, 6, 8, 2,\n",
      "                   9, 2, 9, 3, 0, 1, 2, 5, 0, 4, 2, 8, 8, 8, 0, 6, 8, 2, 4, 4, 1, 9, 8, 3,\n",
      "                   0, 8, 9, 3, 9, 8, 4, 0, 7, 6, 9, 4, 5, 7, 5, 9, 6, 6, 5, 3, 9, 6, 9, 6,\n",
      "                   3, 8, 5, 1, 5, 2, 0, 9, 6, 0, 7, 1, 6, 9, 2, 5, 8, 7, 3, 4, 0, 9, 6, 0,\n",
      "                   5, 1, 0, 5, 3, 2, 8, 2, 0, 1, 6, 1, 0, 4, 6, 2, 9, 1, 1, 5, 8, 9, 1, 2,\n",
      "                   8, 2, 3, 8, 7, 7, 2, 3, 8, 9, 2, 1, 0, 3, 1, 2, 8, 1, 2, 5, 6, 8, 0, 3,\n",
      "                   2, 1, 1, 2, 1, 9, 5, 3])),\n",
      "               names=('seeds', 'labels'),\n",
      "           ),\n",
      "           metadata={'name': 'node_classification', 'num_classes': 10},)\n",
      "\n",
      "Loaded link prediction task: OnDiskTask(validation_set=ItemSet(\n",
      "               items=(tensor([[594, 811],\n",
      "                   [131, 410],\n",
      "                   [878, 493],\n",
      "                   ...,\n",
      "                   [784, 608],\n",
      "                   [784, 114],\n",
      "                   [784, 442]], dtype=torch.int32), tensor([1., 1., 1.,  ..., 0., 0., 0.], dtype=torch.float64), tensor([   0,    1,    2,  ..., 1999, 1999, 1999])),\n",
      "               names=('seeds', 'labels', 'indexes'),\n",
      "           ),\n",
      "           train_set=ItemSet(\n",
      "               items=(tensor([[382,   0],\n",
      "                   [ 41, 827],\n",
      "                   [848, 171],\n",
      "                   ...,\n",
      "                   [224, 752],\n",
      "                   [387, 714],\n",
      "                   [909, 356]], dtype=torch.int32),),\n",
      "               names=('seeds',),\n",
      "           ),\n",
      "           test_set=ItemSet(\n",
      "               items=(tensor([[974, 504],\n",
      "                   [492, 879],\n",
      "                   [  7, 190],\n",
      "                   ...,\n",
      "                   [109, 223],\n",
      "                   [109, 690],\n",
      "                   [109, 828]], dtype=torch.int32), tensor([1., 1., 1.,  ..., 0., 0., 0.], dtype=torch.float64), tensor([   0,    1,    2,  ..., 1999, 1999, 1999])),\n",
      "               names=('seeds', 'labels', 'indexes'),\n",
      "           ),\n",
      "           metadata={'name': 'link_prediction', 'num_classes': 10},)\n",
      "\n"
     ]
    },
    {
     "name": "stderr",
     "output_type": "stream",
     "text": [
      "/dgl/python/dgl/graphbolt/impl/ondisk_dataset.py:463: GBWarning: Edge feature is stored, but edge IDs are not saved.\n",
      "  gb_warning(\"Edge feature is stored, but edge IDs are not saved.\")\n"
     ]
    }
   ],
   "source": [
    "dataset = gb.OnDiskDataset(base_dir).load()\n",
    "graph = dataset.graph\n",
    "print(f\"Loaded graph: {graph}\\n\")\n",
    "\n",
    "feature = dataset.feature\n",
    "print(f\"Loaded feature store: {feature}\\n\")\n",
    "\n",
    "tasks = dataset.tasks\n",
    "nc_task = tasks[0]\n",
    "print(f\"Loaded node classification task: {nc_task}\\n\")\n",
    "lp_task = tasks[1]\n",
    "print(f\"Loaded link prediction task: {lp_task}\\n\")"
   ]
  }
 ],
 "metadata": {
  "colab": {
   "private_outputs": true,
   "provenance": []
  },
  "kernelspec": {
   "display_name": "Python 3",
   "name": "python3"
  },
  "language_info": {
   "codemirror_mode": {
    "name": "ipython",
    "version": 3
   },
   "file_extension": ".py",
   "mimetype": "text/x-python",
   "name": "python",
   "nbconvert_exporter": "python",
   "pygments_lexer": "ipython3",
   "version": "3.10.15"
  }
 },
 "nbformat": 4,
 "nbformat_minor": 0
}

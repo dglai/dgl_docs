{
 "cells": [
  {
   "cell_type": "markdown",
   "metadata": {
    "id": "FnFhPMaAfLtJ"
   },
   "source": [
    "# OnDiskDataset for Homogeneous Graph\n",
    "\n",
    "[![Open In Colab](https://colab.research.google.com/assets/colab-badge.svg)](https://colab.research.google.com/github/dmlc/dgl/blob/master/notebooks/stochastic_training/ondisk_dataset_homograph.ipynb) [![GitHub](https://img.shields.io/badge/-View%20on%20GitHub-181717?logo=github&logoColor=ffffff)](https://github.com/dmlc/dgl/blob/master/notebooks/stochastic_training/ondisk_dataset_homograph.ipynb)\n",
    "\n",
    "This tutorial shows how to create `OnDiskDataset` for homogeneous graph that could be used in **GraphBolt** framework.\n",
    "\n",
    "By the end of this tutorial, you will be able to\n",
    "\n",
    "- organize graph structure data.\n",
    "- organize feature data.\n",
    "- organize training/validation/test set for specific tasks.\n",
    "\n",
    "To create an ``OnDiskDataset`` object, you need to organize all the data including graph structure, feature data and tasks into a directory. The directory should contain a ``metadata.yaml`` file that describes the metadata of the dataset.\n",
    "\n",
    "Now let's generate various data step by step and organize them together to instantiate `OnDiskDataset` finally."
   ]
  },
  {
   "cell_type": "markdown",
   "metadata": {
    "id": "Wlb19DtWgtzq"
   },
   "source": [
    "## Install DGL package"
   ]
  },
  {
   "cell_type": "code",
   "execution_count": 1,
   "metadata": {
    "execution": {
     "iopub.execute_input": "2024-09-30T13:18:23.102498Z",
     "iopub.status.busy": "2024-09-30T13:18:23.102058Z",
     "iopub.status.idle": "2024-09-30T13:18:26.176487Z",
     "shell.execute_reply": "2024-09-30T13:18:26.175177Z"
    },
    "id": "UojlT9ZGgyr9"
   },
   "outputs": [
    {
     "name": "stdout",
     "output_type": "stream",
     "text": [
      "Looking in links: https://data.dgl.ai/wheels-test/repo.html\r\n",
      "Requirement already satisfied: dgl in /opt/conda/envs/dgl-dev-cpu/lib/python3.10/site-packages (2.2a240410)\r\n",
      "Requirement already satisfied: numpy>=1.14.0 in /opt/conda/envs/dgl-dev-cpu/lib/python3.10/site-packages (from dgl) (1.26.4)\r\n",
      "Requirement already satisfied: scipy>=1.1.0 in /opt/conda/envs/dgl-dev-cpu/lib/python3.10/site-packages (from dgl) (1.14.1)\r\n",
      "Requirement already satisfied: networkx>=2.1 in /opt/conda/envs/dgl-dev-cpu/lib/python3.10/site-packages (from dgl) (3.3)\r\n",
      "Requirement already satisfied: requests>=2.19.0 in /opt/conda/envs/dgl-dev-cpu/lib/python3.10/site-packages (from dgl) (2.32.3)\r\n",
      "Requirement already satisfied: tqdm in /opt/conda/envs/dgl-dev-cpu/lib/python3.10/site-packages (from dgl) (4.66.5)\r\n",
      "Requirement already satisfied: psutil>=5.8.0 in /opt/conda/envs/dgl-dev-cpu/lib/python3.10/site-packages (from dgl) (6.0.0)\r\n",
      "Requirement already satisfied: torchdata>=0.5.0 in /opt/conda/envs/dgl-dev-cpu/lib/python3.10/site-packages (from dgl) (0.8.0)\r\n",
      "Requirement already satisfied: pandas in /opt/conda/envs/dgl-dev-cpu/lib/python3.10/site-packages (from dgl) (2.2.3)\r\n"
     ]
    },
    {
     "name": "stdout",
     "output_type": "stream",
     "text": [
      "Requirement already satisfied: charset-normalizer<4,>=2 in /opt/conda/envs/dgl-dev-cpu/lib/python3.10/site-packages (from requests>=2.19.0->dgl) (3.3.2)\r\n",
      "Requirement already satisfied: idna<4,>=2.5 in /opt/conda/envs/dgl-dev-cpu/lib/python3.10/site-packages (from requests>=2.19.0->dgl) (3.10)\r\n",
      "Requirement already satisfied: urllib3<3,>=1.21.1 in /opt/conda/envs/dgl-dev-cpu/lib/python3.10/site-packages (from requests>=2.19.0->dgl) (2.2.3)\r\n",
      "Requirement already satisfied: certifi>=2017.4.17 in /opt/conda/envs/dgl-dev-cpu/lib/python3.10/site-packages (from requests>=2.19.0->dgl) (2024.8.30)\r\n",
      "Requirement already satisfied: torch>=2 in /opt/conda/envs/dgl-dev-cpu/lib/python3.10/site-packages (from torchdata>=0.5.0->dgl) (2.1.0+cpu)\r\n"
     ]
    },
    {
     "name": "stdout",
     "output_type": "stream",
     "text": [
      "Requirement already satisfied: python-dateutil>=2.8.2 in /opt/conda/envs/dgl-dev-cpu/lib/python3.10/site-packages (from pandas->dgl) (2.9.0.post0)\r\n",
      "Requirement already satisfied: pytz>=2020.1 in /opt/conda/envs/dgl-dev-cpu/lib/python3.10/site-packages (from pandas->dgl) (2024.2)\r\n",
      "Requirement already satisfied: tzdata>=2022.7 in /opt/conda/envs/dgl-dev-cpu/lib/python3.10/site-packages (from pandas->dgl) (2024.2)\r\n",
      "Requirement already satisfied: six>=1.5 in /opt/conda/envs/dgl-dev-cpu/lib/python3.10/site-packages (from python-dateutil>=2.8.2->pandas->dgl) (1.16.0)\r\n",
      "Requirement already satisfied: filelock in /opt/conda/envs/dgl-dev-cpu/lib/python3.10/site-packages (from torch>=2->torchdata>=0.5.0->dgl) (3.16.1)\r\n",
      "Requirement already satisfied: typing-extensions in /opt/conda/envs/dgl-dev-cpu/lib/python3.10/site-packages (from torch>=2->torchdata>=0.5.0->dgl) (4.12.2)\r\n",
      "Requirement already satisfied: sympy in /opt/conda/envs/dgl-dev-cpu/lib/python3.10/site-packages (from torch>=2->torchdata>=0.5.0->dgl) (1.13.3)\r\n",
      "Requirement already satisfied: jinja2 in /opt/conda/envs/dgl-dev-cpu/lib/python3.10/site-packages (from torch>=2->torchdata>=0.5.0->dgl) (3.1.4)\r\n",
      "Requirement already satisfied: fsspec in /opt/conda/envs/dgl-dev-cpu/lib/python3.10/site-packages (from torch>=2->torchdata>=0.5.0->dgl) (2024.9.0)\r\n"
     ]
    },
    {
     "name": "stdout",
     "output_type": "stream",
     "text": [
      "Requirement already satisfied: MarkupSafe>=2.0 in /opt/conda/envs/dgl-dev-cpu/lib/python3.10/site-packages (from jinja2->torch>=2->torchdata>=0.5.0->dgl) (2.1.5)\r\n",
      "Requirement already satisfied: mpmath<1.4,>=1.1.0 in /opt/conda/envs/dgl-dev-cpu/lib/python3.10/site-packages (from sympy->torch>=2->torchdata>=0.5.0->dgl) (1.3.0)\r\n"
     ]
    },
    {
     "name": "stdout",
     "output_type": "stream",
     "text": [
      "\u001b[33mWARNING: Running pip as the 'root' user can result in broken permissions and conflicting behaviour with the system package manager, possibly rendering your system unusable.It is recommended to use a virtual environment instead: https://pip.pypa.io/warnings/venv. Use the --root-user-action option if you know what you are doing and want to suppress this warning.\u001b[0m\u001b[33m\r\n",
      "\u001b[0m"
     ]
    },
    {
     "name": "stdout",
     "output_type": "stream",
     "text": [
      "DGL installed!\n"
     ]
    }
   ],
   "source": [
    "# Install required packages.\n",
    "import os\n",
    "import torch\n",
    "import numpy as np\n",
    "os.environ['TORCH'] = torch.__version__\n",
    "os.environ['DGLBACKEND'] = \"pytorch\"\n",
    "\n",
    "# Install the CPU version.\n",
    "device = torch.device(\"cpu\")\n",
    "!pip install --pre dgl -f https://data.dgl.ai/wheels-test/repo.html\n",
    "\n",
    "try:\n",
    "    import dgl\n",
    "    import dgl.graphbolt as gb\n",
    "    installed = True\n",
    "except ImportError as error:\n",
    "    installed = False\n",
    "    print(error)\n",
    "print(\"DGL installed!\" if installed else \"DGL not found!\")"
   ]
  },
  {
   "cell_type": "markdown",
   "metadata": {
    "id": "2R7WnSbjsfbr"
   },
   "source": [
    "## Data preparation\n",
    "In order to demonstrate how to organize various data, let's create a base directory first."
   ]
  },
  {
   "cell_type": "code",
   "execution_count": 2,
   "metadata": {
    "execution": {
     "iopub.execute_input": "2024-09-30T13:18:26.180418Z",
     "iopub.status.busy": "2024-09-30T13:18:26.179585Z",
     "iopub.status.idle": "2024-09-30T13:18:26.186055Z",
     "shell.execute_reply": "2024-09-30T13:18:26.184464Z"
    },
    "id": "SZipbzyltLfO"
   },
   "outputs": [
    {
     "name": "stdout",
     "output_type": "stream",
     "text": [
      "Created base directory: ./ondisk_dataset_homograph\n"
     ]
    }
   ],
   "source": [
    "base_dir = './ondisk_dataset_homograph'\n",
    "os.makedirs(base_dir, exist_ok=True)\n",
    "print(f\"Created base directory: {base_dir}\")"
   ]
  },
  {
   "cell_type": "markdown",
   "metadata": {
    "id": "qhNtIn_xhlnl"
   },
   "source": [
    "### Generate graph structure data\n",
    "For homogeneous graph, we just need to save edges(namely seeds) into  **Numpy** or **CSV** file.\n",
    "\n",
    "Note:\n",
    "- when saving to **Numpy**, the array requires to be in shape of `(2, N)`. This format is recommended as constructing graph from it is much faster than **CSV** file.\n",
    "- when saving to **CSV** file, do not save index and header.\n"
   ]
  },
  {
   "cell_type": "code",
   "execution_count": 3,
   "metadata": {
    "execution": {
     "iopub.execute_input": "2024-09-30T13:18:26.188300Z",
     "iopub.status.busy": "2024-09-30T13:18:26.188085Z",
     "iopub.status.idle": "2024-09-30T13:18:26.202553Z",
     "shell.execute_reply": "2024-09-30T13:18:26.201709Z"
    },
    "id": "HcBt4G5BmSjr"
   },
   "outputs": [
    {
     "name": "stdout",
     "output_type": "stream",
     "text": [
      "Part of edges: [[ 96 918]\n",
      " [935  48]\n",
      " [198 926]\n",
      " [422 257]\n",
      " [594 483]]\n",
      "Edges are saved into ./ondisk_dataset_homograph/edges.csv\n"
     ]
    }
   ],
   "source": [
    "import numpy as np\n",
    "import pandas as pd\n",
    "num_nodes = 1000\n",
    "num_edges = 10 * num_nodes\n",
    "edges_path = os.path.join(base_dir, \"edges.csv\")\n",
    "edges = np.random.randint(0, num_nodes, size=(num_edges, 2))\n",
    "\n",
    "print(f\"Part of edges: {edges[:5, :]}\")\n",
    "\n",
    "df = pd.DataFrame(edges)\n",
    "df.to_csv(edges_path, index=False, header=False)\n",
    "\n",
    "print(f\"Edges are saved into {edges_path}\")"
   ]
  },
  {
   "cell_type": "markdown",
   "metadata": {
    "id": "kh-4cPtzpcaH"
   },
   "source": [
    "### Generate feature data for graph\n",
    "For feature data, numpy arrays and torch tensors are supported for now."
   ]
  },
  {
   "cell_type": "code",
   "execution_count": 4,
   "metadata": {
    "execution": {
     "iopub.execute_input": "2024-09-30T13:18:26.205081Z",
     "iopub.status.busy": "2024-09-30T13:18:26.204588Z",
     "iopub.status.idle": "2024-09-30T13:18:26.221318Z",
     "shell.execute_reply": "2024-09-30T13:18:26.220524Z"
    },
    "id": "_PVu1u5brBhF"
   },
   "outputs": [
    {
     "name": "stdout",
     "output_type": "stream",
     "text": [
      "Part of node feature [feat_0]: [[0.01468453 0.41559663 0.14125948 0.75202855 0.19495095]\n",
      " [0.3851583  0.55755713 0.30946746 0.74337345 0.62310127]\n",
      " [0.86598102 0.1168821  0.35560734 0.62790373 0.86353527]]\n",
      "Node feature [feat_0] is saved to ./ondisk_dataset_homograph/node-feat-0.npy\n",
      "\n",
      "Part of node feature [feat_1]: tensor([[0.4896, 0.1262, 0.5886, 0.4365, 0.6440],\n",
      "        [0.8821, 0.0398, 0.3850, 0.7917, 0.6200],\n",
      "        [0.2558, 0.9603, 0.5552, 0.7699, 0.8556]])\n",
      "Node feature [feat_1] is saved to ./ondisk_dataset_homograph/node-feat-1.pt\n",
      "\n",
      "Part of edge feature [feat_0]: [[0.52427606 0.76644018 0.28171098 0.41112874 0.72859247]\n",
      " [0.84902227 0.25744532 0.54287387 0.27037405 0.13128093]\n",
      " [0.35058609 0.29021657 0.81835975 0.41347292 0.89114086]]\n",
      "Edge feature [feat_0] is saved to ./ondisk_dataset_homograph/edge-feat-0.npy\n",
      "\n",
      "Part of edge feature [feat_1]: tensor([[0.8611, 0.6348, 0.0843, 0.9971, 0.1551],\n",
      "        [0.0178, 0.3968, 0.5690, 0.3172, 0.2681],\n",
      "        [0.7683, 0.5751, 0.8869, 0.4444, 0.7886]])\n",
      "Edge feature [feat_1] is saved to ./ondisk_dataset_homograph/edge-feat-1.pt\n",
      "\n"
     ]
    }
   ],
   "source": [
    "# Generate node feature in numpy array.\n",
    "node_feat_0_path = os.path.join(base_dir, \"node-feat-0.npy\")\n",
    "node_feat_0 = np.random.rand(num_nodes, 5)\n",
    "print(f\"Part of node feature [feat_0]: {node_feat_0[:3, :]}\")\n",
    "np.save(node_feat_0_path, node_feat_0)\n",
    "print(f\"Node feature [feat_0] is saved to {node_feat_0_path}\\n\")\n",
    "\n",
    "# Generate another node feature in torch tensor\n",
    "node_feat_1_path = os.path.join(base_dir, \"node-feat-1.pt\")\n",
    "node_feat_1 = torch.rand(num_nodes, 5)\n",
    "print(f\"Part of node feature [feat_1]: {node_feat_1[:3, :]}\")\n",
    "torch.save(node_feat_1, node_feat_1_path)\n",
    "print(f\"Node feature [feat_1] is saved to {node_feat_1_path}\\n\")\n",
    "\n",
    "# Generate edge feature in numpy array.\n",
    "edge_feat_0_path = os.path.join(base_dir, \"edge-feat-0.npy\")\n",
    "edge_feat_0 = np.random.rand(num_edges, 5)\n",
    "print(f\"Part of edge feature [feat_0]: {edge_feat_0[:3, :]}\")\n",
    "np.save(edge_feat_0_path, edge_feat_0)\n",
    "print(f\"Edge feature [feat_0] is saved to {edge_feat_0_path}\\n\")\n",
    "\n",
    "# Generate another edge feature in torch tensor\n",
    "edge_feat_1_path = os.path.join(base_dir, \"edge-feat-1.pt\")\n",
    "edge_feat_1 = torch.rand(num_edges, 5)\n",
    "print(f\"Part of edge feature [feat_1]: {edge_feat_1[:3, :]}\")\n",
    "torch.save(edge_feat_1, edge_feat_1_path)\n",
    "print(f\"Edge feature [feat_1] is saved to {edge_feat_1_path}\\n\")\n"
   ]
  },
  {
   "cell_type": "markdown",
   "metadata": {
    "id": "ZyqgOtsIwzh_"
   },
   "source": [
    "### Generate tasks\n",
    "`OnDiskDataset` supports multiple tasks. For each task, we need to prepare training/validation/test sets respectively. Such sets usually vary among different tasks. In this tutorial, let's create a **Node Classification** task and **Link Prediction** task."
   ]
  },
  {
   "cell_type": "markdown",
   "metadata": {
    "id": "hVxHaDIfzCkr"
   },
   "source": [
    "#### Node Classification Task\n",
    "For node classification task, we need **node IDs** and corresponding **labels** for each training/validation/test set. Like feature data, numpy arrays and torch tensors are supported for these sets."
   ]
  },
  {
   "cell_type": "code",
   "execution_count": 5,
   "metadata": {
    "execution": {
     "iopub.execute_input": "2024-09-30T13:18:26.224028Z",
     "iopub.status.busy": "2024-09-30T13:18:26.223596Z",
     "iopub.status.idle": "2024-09-30T13:18:26.235793Z",
     "shell.execute_reply": "2024-09-30T13:18:26.234993Z"
    },
    "id": "S5-fyBbHzTCO"
   },
   "outputs": [
    {
     "name": "stdout",
     "output_type": "stream",
     "text": [
      "Part of train ids for node classification: [582 629  69]\n",
      "NC train ids are saved to ./ondisk_dataset_homograph/nc-train-ids.npy\n",
      "\n",
      "Part of train labels for node classification: tensor([5, 7, 2])\n",
      "NC train labels are saved to ./ondisk_dataset_homograph/nc-train-labels.pt\n",
      "\n",
      "Part of val ids for node classification: [115 983 808]\n",
      "NC val ids are saved to ./ondisk_dataset_homograph/nc-val-ids.npy\n",
      "\n",
      "Part of val labels for node classification: tensor([4, 8, 6])\n",
      "NC val labels are saved to ./ondisk_dataset_homograph/nc-val-labels.pt\n",
      "\n",
      "Part of test ids for node classification: [ 16 999 819]\n",
      "NC test ids are saved to ./ondisk_dataset_homograph/nc-test-ids.npy\n",
      "\n",
      "Part of test labels for node classification: tensor([4, 1, 5])\n",
      "NC test labels are saved to ./ondisk_dataset_homograph/nc-test-labels.pt\n",
      "\n"
     ]
    }
   ],
   "source": [
    "num_trains = int(num_nodes * 0.6)\n",
    "num_vals = int(num_nodes * 0.2)\n",
    "num_tests = num_nodes - num_trains - num_vals\n",
    "\n",
    "ids = np.arange(num_nodes)\n",
    "np.random.shuffle(ids)\n",
    "\n",
    "nc_train_ids_path = os.path.join(base_dir, \"nc-train-ids.npy\")\n",
    "nc_train_ids = ids[:num_trains]\n",
    "print(f\"Part of train ids for node classification: {nc_train_ids[:3]}\")\n",
    "np.save(nc_train_ids_path, nc_train_ids)\n",
    "print(f\"NC train ids are saved to {nc_train_ids_path}\\n\")\n",
    "\n",
    "nc_train_labels_path = os.path.join(base_dir, \"nc-train-labels.pt\")\n",
    "nc_train_labels = torch.randint(0, 10, (num_trains,))\n",
    "print(f\"Part of train labels for node classification: {nc_train_labels[:3]}\")\n",
    "torch.save(nc_train_labels, nc_train_labels_path)\n",
    "print(f\"NC train labels are saved to {nc_train_labels_path}\\n\")\n",
    "\n",
    "nc_val_ids_path = os.path.join(base_dir, \"nc-val-ids.npy\")\n",
    "nc_val_ids = ids[num_trains:num_trains+num_vals]\n",
    "print(f\"Part of val ids for node classification: {nc_val_ids[:3]}\")\n",
    "np.save(nc_val_ids_path, nc_val_ids)\n",
    "print(f\"NC val ids are saved to {nc_val_ids_path}\\n\")\n",
    "\n",
    "nc_val_labels_path = os.path.join(base_dir, \"nc-val-labels.pt\")\n",
    "nc_val_labels = torch.randint(0, 10, (num_vals,))\n",
    "print(f\"Part of val labels for node classification: {nc_val_labels[:3]}\")\n",
    "torch.save(nc_val_labels, nc_val_labels_path)\n",
    "print(f\"NC val labels are saved to {nc_val_labels_path}\\n\")\n",
    "\n",
    "nc_test_ids_path = os.path.join(base_dir, \"nc-test-ids.npy\")\n",
    "nc_test_ids = ids[-num_tests:]\n",
    "print(f\"Part of test ids for node classification: {nc_test_ids[:3]}\")\n",
    "np.save(nc_test_ids_path, nc_test_ids)\n",
    "print(f\"NC test ids are saved to {nc_test_ids_path}\\n\")\n",
    "\n",
    "nc_test_labels_path = os.path.join(base_dir, \"nc-test-labels.pt\")\n",
    "nc_test_labels = torch.randint(0, 10, (num_tests,))\n",
    "print(f\"Part of test labels for node classification: {nc_test_labels[:3]}\")\n",
    "torch.save(nc_test_labels, nc_test_labels_path)\n",
    "print(f\"NC test labels are saved to {nc_test_labels_path}\\n\")"
   ]
  },
  {
   "cell_type": "markdown",
   "metadata": {
    "id": "LhAcDCHQ_KJ0"
   },
   "source": [
    "#### Link Prediction Task\n",
    "For link prediction task, we need **seeds** or **corresponding labels and indexes** which representing the pos/neg property and group of the seeds for each training/validation/test set. Like feature data, numpy arrays and torch tensors are supported for these sets."
   ]
  },
  {
   "cell_type": "code",
   "execution_count": 6,
   "metadata": {
    "execution": {
     "iopub.execute_input": "2024-09-30T13:18:26.238167Z",
     "iopub.status.busy": "2024-09-30T13:18:26.237764Z",
     "iopub.status.idle": "2024-09-30T13:18:26.258040Z",
     "shell.execute_reply": "2024-09-30T13:18:26.257041Z"
    },
    "id": "u0jCnXIcAQy4"
   },
   "outputs": [
    {
     "name": "stdout",
     "output_type": "stream",
     "text": [
      "Part of train seeds for link prediction: [[ 96 918]\n",
      " [935  48]\n",
      " [198 926]]\n",
      "LP train seeds are saved to ./ondisk_dataset_homograph/lp-train-seeds.npy\n",
      "\n",
      "Part of val seeds for link prediction: [[695  45]\n",
      " [792 999]\n",
      " [371  75]]\n",
      "LP val seeds are saved to ./ondisk_dataset_homograph/lp-val-seeds.npy\n",
      "\n",
      "Part of val labels for link prediction: [1. 1. 1.]\n",
      "LP val labels are saved to ./ondisk_dataset_homograph/lp-val-labels.npy\n",
      "\n",
      "Part of val indexes for link prediction: [0 1 2]\n",
      "LP val indexes are saved to ./ondisk_dataset_homograph/lp-val-indexes.npy\n",
      "\n",
      "Part of test seeds for link prediction: [[943 848]\n",
      " [373 899]\n",
      " [817 819]]\n",
      "LP test seeds are saved to ./ondisk_dataset_homograph/lp-test-seeds.npy\n",
      "\n",
      "Part of val labels for link prediction: [1. 1. 1.]\n",
      "LP test labels are saved to ./ondisk_dataset_homograph/lp-test-labels.npy\n",
      "\n",
      "Part of test indexes for link prediction: [0 1 2]\n",
      "LP test indexes are saved to ./ondisk_dataset_homograph/lp-test-indexes.npy\n",
      "\n"
     ]
    }
   ],
   "source": [
    "num_trains = int(num_edges * 0.6)\n",
    "num_vals = int(num_edges * 0.2)\n",
    "num_tests = num_edges - num_trains - num_vals\n",
    "\n",
    "lp_train_seeds_path = os.path.join(base_dir, \"lp-train-seeds.npy\")\n",
    "lp_train_seeds = edges[:num_trains, :]\n",
    "print(f\"Part of train seeds for link prediction: {lp_train_seeds[:3]}\")\n",
    "np.save(lp_train_seeds_path, lp_train_seeds)\n",
    "print(f\"LP train seeds are saved to {lp_train_seeds_path}\\n\")\n",
    "\n",
    "lp_val_seeds_path = os.path.join(base_dir, \"lp-val-seeds.npy\")\n",
    "lp_val_seeds = edges[num_trains:num_trains+num_vals, :]\n",
    "lp_val_neg_dsts = np.random.randint(0, num_nodes, (num_vals, 10)).reshape(-1)\n",
    "lp_val_neg_srcs = np.repeat(lp_val_seeds[:,0], 10)\n",
    "lp_val_neg_seeds = np.concatenate((lp_val_neg_srcs, lp_val_neg_dsts)).reshape(2,-1).T\n",
    "lp_val_seeds = np.concatenate((lp_val_seeds, lp_val_neg_seeds))\n",
    "print(f\"Part of val seeds for link prediction: {lp_val_seeds[:3]}\")\n",
    "np.save(lp_val_seeds_path, lp_val_seeds)\n",
    "print(f\"LP val seeds are saved to {lp_val_seeds_path}\\n\")\n",
    "\n",
    "lp_val_labels_path = os.path.join(base_dir, \"lp-val-labels.npy\")\n",
    "lp_val_labels = np.empty(num_vals * (10 + 1))\n",
    "lp_val_labels[:num_vals] = 1\n",
    "lp_val_labels[num_vals:] = 0\n",
    "print(f\"Part of val labels for link prediction: {lp_val_labels[:3]}\")\n",
    "np.save(lp_val_labels_path, lp_val_labels)\n",
    "print(f\"LP val labels are saved to {lp_val_labels_path}\\n\")\n",
    "\n",
    "lp_val_indexes_path = os.path.join(base_dir, \"lp-val-indexes.npy\")\n",
    "lp_val_indexes = np.arange(0, num_vals)\n",
    "lp_val_neg_indexes = np.repeat(lp_val_indexes, 10)\n",
    "lp_val_indexes = np.concatenate([lp_val_indexes, lp_val_neg_indexes])\n",
    "print(f\"Part of val indexes for link prediction: {lp_val_indexes[:3]}\")\n",
    "np.save(lp_val_indexes_path, lp_val_indexes)\n",
    "print(f\"LP val indexes are saved to {lp_val_indexes_path}\\n\")\n",
    "\n",
    "lp_test_seeds_path = os.path.join(base_dir, \"lp-test-seeds.npy\")\n",
    "lp_test_seeds = edges[-num_tests:, :]\n",
    "lp_test_neg_dsts = np.random.randint(0, num_nodes, (num_tests, 10)).reshape(-1)\n",
    "lp_test_neg_srcs = np.repeat(lp_test_seeds[:,0], 10)\n",
    "lp_test_neg_seeds = np.concatenate((lp_test_neg_srcs, lp_test_neg_dsts)).reshape(2,-1).T\n",
    "lp_test_seeds = np.concatenate((lp_test_seeds, lp_test_neg_seeds))\n",
    "print(f\"Part of test seeds for link prediction: {lp_test_seeds[:3]}\")\n",
    "np.save(lp_test_seeds_path, lp_test_seeds)\n",
    "print(f\"LP test seeds are saved to {lp_test_seeds_path}\\n\")\n",
    "\n",
    "lp_test_labels_path = os.path.join(base_dir, \"lp-test-labels.npy\")\n",
    "lp_test_labels = np.empty(num_tests * (10 + 1))\n",
    "lp_test_labels[:num_tests] = 1\n",
    "lp_test_labels[num_tests:] = 0\n",
    "print(f\"Part of val labels for link prediction: {lp_test_labels[:3]}\")\n",
    "np.save(lp_test_labels_path, lp_test_labels)\n",
    "print(f\"LP test labels are saved to {lp_test_labels_path}\\n\")\n",
    "\n",
    "lp_test_indexes_path = os.path.join(base_dir, \"lp-test-indexes.npy\")\n",
    "lp_test_indexes = np.arange(0, num_tests)\n",
    "lp_test_neg_indexes = np.repeat(lp_test_indexes, 10)\n",
    "lp_test_indexes = np.concatenate([lp_test_indexes, lp_test_neg_indexes])\n",
    "print(f\"Part of test indexes for link prediction: {lp_test_indexes[:3]}\")\n",
    "np.save(lp_test_indexes_path, lp_test_indexes)\n",
    "print(f\"LP test indexes are saved to {lp_test_indexes_path}\\n\")"
   ]
  },
  {
   "cell_type": "markdown",
   "metadata": {
    "id": "wbk6-wxRK-6S"
   },
   "source": [
    "## Organize Data into YAML File\n",
    "Now we need to create a `metadata.yaml` file which contains the paths, dadta types of graph structure, feature data, training/validation/test sets.\n",
    "\n",
    "Notes:\n",
    "- all path should be relative to `metadata.yaml`.\n",
    "- Below fields are optional and not specified in below example.\n",
    "  - `in_memory`: indicates whether to load dada into memory or `mmap`. Default is `True`.\n",
    "\n",
    "Please refer to [YAML specification](https://github.com/dmlc/dgl/blob/master/docs/source/stochastic_training/ondisk-dataset-specification.rst) for more details."
   ]
  },
  {
   "cell_type": "code",
   "execution_count": 7,
   "metadata": {
    "execution": {
     "iopub.execute_input": "2024-09-30T13:18:26.260930Z",
     "iopub.status.busy": "2024-09-30T13:18:26.260470Z",
     "iopub.status.idle": "2024-09-30T13:18:26.266460Z",
     "shell.execute_reply": "2024-09-30T13:18:26.265857Z"
    },
    "id": "ddGTWW61Lpwp"
   },
   "outputs": [],
   "source": [
    "yaml_content = f\"\"\"\n",
    "    dataset_name: homogeneous_graph_nc_lp\n",
    "    graph:\n",
    "      nodes:\n",
    "        - num: {num_nodes}\n",
    "      edges:\n",
    "        - format: csv\n",
    "          path: {os.path.basename(edges_path)}\n",
    "    feature_data:\n",
    "      - domain: node\n",
    "        name: feat_0\n",
    "        format: numpy\n",
    "        path: {os.path.basename(node_feat_0_path)}\n",
    "      - domain: node\n",
    "        name: feat_1\n",
    "        format: torch\n",
    "        path: {os.path.basename(node_feat_1_path)}\n",
    "      - domain: edge\n",
    "        name: feat_0\n",
    "        format: numpy\n",
    "        path: {os.path.basename(edge_feat_0_path)}\n",
    "      - domain: edge\n",
    "        name: feat_1\n",
    "        format: torch\n",
    "        path: {os.path.basename(edge_feat_1_path)}\n",
    "    tasks:\n",
    "      - name: node_classification\n",
    "        num_classes: 10\n",
    "        train_set:\n",
    "          - data:\n",
    "              - name: seeds\n",
    "                format: numpy\n",
    "                path: {os.path.basename(nc_train_ids_path)}\n",
    "              - name: labels\n",
    "                format: torch\n",
    "                path: {os.path.basename(nc_train_labels_path)}\n",
    "        validation_set:\n",
    "          - data:\n",
    "              - name: seeds\n",
    "                format: numpy\n",
    "                path: {os.path.basename(nc_val_ids_path)}\n",
    "              - name: labels\n",
    "                format: torch\n",
    "                path: {os.path.basename(nc_val_labels_path)}\n",
    "        test_set:\n",
    "          - data:\n",
    "              - name: seeds\n",
    "                format: numpy\n",
    "                path: {os.path.basename(nc_test_ids_path)}\n",
    "              - name: labels\n",
    "                format: torch\n",
    "                path: {os.path.basename(nc_test_labels_path)}\n",
    "      - name: link_prediction\n",
    "        num_classes: 10\n",
    "        train_set:\n",
    "          - data:\n",
    "              - name: seeds\n",
    "                format: numpy\n",
    "                path: {os.path.basename(lp_train_seeds_path)}\n",
    "        validation_set:\n",
    "          - data:\n",
    "              - name: seeds\n",
    "                format: numpy\n",
    "                path: {os.path.basename(lp_val_seeds_path)}\n",
    "              - name: labels\n",
    "                format: numpy\n",
    "                path: {os.path.basename(lp_val_labels_path)}\n",
    "              - name: indexes\n",
    "                format: numpy\n",
    "                path: {os.path.basename(lp_val_indexes_path)}\n",
    "        test_set:\n",
    "          - data:\n",
    "              - name: seeds\n",
    "                format: numpy\n",
    "                path: {os.path.basename(lp_test_seeds_path)}\n",
    "              - name: labels\n",
    "                format: numpy\n",
    "                path: {os.path.basename(lp_test_labels_path)}\n",
    "              - name: indexes\n",
    "                format: numpy\n",
    "                path: {os.path.basename(lp_test_indexes_path)}\n",
    "\"\"\"\n",
    "metadata_path = os.path.join(base_dir, \"metadata.yaml\")\n",
    "with open(metadata_path, \"w\") as f:\n",
    "  f.write(yaml_content)"
   ]
  },
  {
   "cell_type": "markdown",
   "metadata": {
    "id": "kEfybHGhOW7O"
   },
   "source": [
    "## Instantiate `OnDiskDataset`\n",
    "Now we're ready to load dataset via `dgl.graphbolt.OnDiskDataset`. When instantiating, we just pass in the base directory where `metadata.yaml` file lies.\n",
    "\n",
    "During first instantiation, GraphBolt preprocesses the raw data such as constructing `FusedCSCSamplingGraph` from edges. All data including graph, feature data, training/validation/test sets are put into `preprocessed` directory after preprocessing. Any following dataset loading will skip the preprocess stage.\n",
    "\n",
    "After preprocessing, `load()` is required to be called explicitly in order to load graph, feature data and tasks."
   ]
  },
  {
   "cell_type": "code",
   "execution_count": 8,
   "metadata": {
    "execution": {
     "iopub.execute_input": "2024-09-30T13:18:26.268375Z",
     "iopub.status.busy": "2024-09-30T13:18:26.268024Z",
     "iopub.status.idle": "2024-09-30T13:18:26.331612Z",
     "shell.execute_reply": "2024-09-30T13:18:26.331037Z"
    },
    "id": "W58CZoSzOiyo"
   },
   "outputs": [
    {
     "name": "stdout",
     "output_type": "stream",
     "text": [
      "Start to preprocess the on-disk dataset.\n",
      "Finish preprocessing the on-disk dataset.\n",
      "Loaded graph: FusedCSCSamplingGraph(csc_indptr=tensor([    0,    10,    29,  ...,  9981,  9993, 10000], dtype=torch.int32),\n",
      "                      indices=tensor([766, 703, 552,  ..., 603, 181, 428], dtype=torch.int32),\n",
      "                      total_num_nodes=1000, num_edges=10000,)\n",
      "\n",
      "Loaded feature store: TorchBasedFeatureStore(\n",
      "    {(<OnDiskFeatureDataDomain.NODE: 'node'>, None, 'feat_0'): TorchBasedFeature(\n",
      "        feature=tensor([[0.0147, 0.4156, 0.1413, 0.7520, 0.1950],\n",
      "                        [0.3852, 0.5576, 0.3095, 0.7434, 0.6231],\n",
      "                        [0.8660, 0.1169, 0.3556, 0.6279, 0.8635],\n",
      "                        ...,\n",
      "                        [0.7171, 0.8781, 0.3707, 0.7273, 0.7560],\n",
      "                        [0.4710, 0.8352, 0.6736, 0.7513, 0.5733],\n",
      "                        [0.1176, 0.4790, 0.3862, 0.9864, 0.6849]], dtype=torch.float64),\n",
      "        metadata={},\n",
      "    ), (<OnDiskFeatureDataDomain.NODE: 'node'>, None, 'feat_1'): TorchBasedFeature(\n",
      "        feature=tensor([[0.4896, 0.1262, 0.5886, 0.4365, 0.6440],\n",
      "                        [0.8821, 0.0398, 0.3850, 0.7917, 0.6200],\n",
      "                        [0.2558, 0.9603, 0.5552, 0.7699, 0.8556],\n",
      "                        ...,\n",
      "                        [0.4087, 0.1060, 0.9565, 0.7031, 0.4594],\n",
      "                        [0.1623, 0.4870, 0.4085, 0.5418, 0.2489],\n",
      "                        [0.2689, 0.7782, 0.4412, 0.7774, 0.5313]]),\n",
      "        metadata={},\n",
      "    ), (<OnDiskFeatureDataDomain.EDGE: 'edge'>, None, 'feat_0'): TorchBasedFeature(\n",
      "        feature=tensor([[0.5243, 0.7664, 0.2817, 0.4111, 0.7286],\n",
      "                        [0.8490, 0.2574, 0.5429, 0.2704, 0.1313],\n",
      "                        [0.3506, 0.2902, 0.8184, 0.4135, 0.8911],\n",
      "                        ...,\n",
      "                        [0.9198, 0.6495, 0.4692, 0.4041, 0.3955],\n",
      "                        [0.2370, 0.8763, 0.3675, 0.4294, 0.5813],\n",
      "                        [0.7248, 0.8167, 0.5125, 0.2930, 0.7038]], dtype=torch.float64),\n",
      "        metadata={},\n",
      "    ), (<OnDiskFeatureDataDomain.EDGE: 'edge'>, None, 'feat_1'): TorchBasedFeature(\n",
      "        feature=tensor([[0.8611, 0.6348, 0.0843, 0.9971, 0.1551],\n",
      "                        [0.0178, 0.3968, 0.5690, 0.3172, 0.2681],\n",
      "                        [0.7683, 0.5751, 0.8869, 0.4444, 0.7886],\n",
      "                        ...,\n",
      "                        [0.5047, 0.8010, 0.2500, 0.5040, 0.3029],\n",
      "                        [0.6467, 0.1400, 0.2518, 0.3620, 0.9290],\n",
      "                        [0.1534, 0.4730, 0.2317, 0.9314, 0.6202]]),\n",
      "        metadata={},\n",
      "    )}\n",
      ")\n",
      "\n",
      "Loaded node classification task: OnDiskTask(validation_set=ItemSet(\n",
      "               items=(tensor([115, 983, 808, 676, 476, 182, 724, 712, 949, 519, 671, 876, 154, 760,\n",
      "                   851, 530, 831, 250, 982,  88, 521, 409, 510, 581, 503, 429,  86, 525,\n",
      "                   612, 978, 829, 466, 856, 838, 372,  92, 279, 494, 367, 939, 458,  38,\n",
      "                   546, 103, 566, 381, 938, 134, 802, 906, 424, 145, 954, 431, 708, 955,\n",
      "                   308, 610, 548, 858,  65, 992, 181, 330, 950, 811, 899, 988, 515, 537,\n",
      "                   762, 274, 354, 828, 366, 764, 879, 943, 208, 848,  45, 662, 401, 141,\n",
      "                    17, 164, 589, 738, 396, 832, 692, 880, 968, 475, 562, 683, 404, 534,\n",
      "                   447, 378, 774, 794, 907, 621, 142, 119, 310, 128, 602, 296, 839,  91,\n",
      "                     8, 462, 616, 140, 786, 925, 291, 311,  82, 167, 573, 788, 820, 146,\n",
      "                   397, 941, 743, 346, 263, 507, 887,  85, 538, 294, 883, 793, 425, 746,\n",
      "                    46, 688, 275,  39, 934, 209, 898,  61, 783, 768, 658, 563, 213, 441,\n",
      "                   878, 317, 319, 221, 403, 633, 588, 759, 331, 904, 147, 161, 344, 821,\n",
      "                   682, 550,  78, 661, 377, 235,  95, 624, 483, 527, 518, 165, 307, 255,\n",
      "                   242, 478, 604, 175, 695, 124, 813, 197, 373, 859, 470, 252, 427, 339,\n",
      "                    98, 615, 691, 609], dtype=torch.int32), tensor([4, 8, 6, 7, 6, 0, 0, 1, 8, 0, 4, 0, 2, 4, 9, 3, 0, 2, 1, 1, 9, 4, 3, 8,\n",
      "                   8, 7, 7, 4, 8, 4, 8, 2, 2, 1, 8, 3, 9, 7, 3, 4, 3, 6, 5, 5, 4, 2, 2, 0,\n",
      "                   6, 0, 2, 1, 9, 4, 4, 8, 3, 0, 3, 4, 5, 2, 8, 5, 8, 1, 0, 7, 4, 5, 6, 2,\n",
      "                   0, 8, 6, 7, 0, 5, 5, 9, 0, 6, 0, 6, 9, 1, 8, 5, 8, 6, 8, 9, 4, 1, 0, 4,\n",
      "                   7, 0, 3, 3, 9, 4, 9, 9, 8, 9, 6, 6, 0, 8, 3, 4, 3, 4, 5, 6, 7, 0, 3, 6,\n",
      "                   7, 8, 2, 8, 6, 9, 2, 6, 0, 7, 1, 5, 9, 8, 9, 8, 9, 0, 1, 5, 0, 0, 3, 6,\n",
      "                   7, 5, 4, 7, 1, 5, 4, 2, 7, 3, 8, 5, 8, 0, 8, 6, 2, 4, 7, 3, 8, 1, 7, 5,\n",
      "                   2, 9, 9, 0, 0, 1, 0, 2, 4, 0, 9, 1, 5, 5, 4, 4, 8, 1, 9, 8, 8, 6, 6, 6,\n",
      "                   3, 0, 1, 4, 6, 6, 7, 6])),\n",
      "               names=('seeds', 'labels'),\n",
      "           ),\n",
      "           train_set=ItemSet(\n",
      "               items=(tensor([582, 629,  69, 454, 495, 689, 410, 659, 894, 288,  94,   7, 714, 564,\n",
      "                    80, 245, 900,  56, 109, 287, 758,  75,  60, 912, 260, 980,  30, 481,\n",
      "                    84, 325, 374, 729, 574, 392, 803, 864, 707, 282,  62, 487, 923, 292,\n",
      "                   523, 442, 136, 754,   3, 434, 185, 836, 150, 591, 874, 715,  58, 825,\n",
      "                   174, 861,  42, 359, 318, 920,  54, 647, 553, 885, 656, 576, 422, 698,\n",
      "                   809, 998, 686, 511, 244, 249, 886, 493, 474, 351,  31, 304, 345, 471,\n",
      "                   901, 465,  27, 420, 611, 942, 986, 780, 711, 238, 402, 301, 496, 320,\n",
      "                   469, 847, 239, 361, 824,  89, 452, 341, 645,  26, 586, 583, 970, 234,\n",
      "                   952, 741, 314, 987, 144, 264, 888,  57, 152,  13, 991, 701, 926, 315,\n",
      "                   979, 163, 929, 499, 628, 340, 227, 130, 735, 204, 690, 385, 597, 166,\n",
      "                   921, 973, 121,  49, 896, 153, 440, 606,  41, 105, 178, 697, 506, 910,\n",
      "                   897, 280, 946,  74, 143, 453, 728, 792, 556, 593, 157, 522,  48, 696,\n",
      "                    21, 620, 850, 842,  34, 549, 710, 114, 862, 514, 725, 419, 855,   0,\n",
      "                   598, 654, 384, 206, 226, 796, 169, 984, 975,  55, 752, 807, 211, 135,\n",
      "                   309, 618, 960, 664, 812, 844, 183, 622, 104, 919, 974, 290,  70, 464,\n",
      "                   801, 865, 595, 617, 748, 457, 201, 254, 700, 236,  76, 382, 785, 717,\n",
      "                   905, 545, 953, 933, 909, 232, 303, 666, 375, 269, 649, 369, 964,  18,\n",
      "                   508, 116, 180, 388, 415, 833, 112, 405, 877, 444, 451,  43, 376, 585,\n",
      "                   846, 614, 219, 784,   5, 969, 421, 414, 705, 383, 158, 267, 603, 577,\n",
      "                   416, 426, 607, 902, 972, 790,   2,  24,  10, 502, 653, 966, 572, 125,\n",
      "                    50, 365, 773, 293, 526, 776, 400, 994,  51, 364, 295, 273, 110, 106,\n",
      "                   772, 155, 122, 437, 814, 806, 957, 635, 560, 212, 958, 993, 343, 261,\n",
      "                   271, 626, 779, 769, 436, 229, 283, 587, 228, 461, 198, 435, 555, 520,\n",
      "                   860, 357, 337, 681, 670, 251, 284, 718, 433, 552, 417, 800, 479, 446,\n",
      "                   352, 924, 541, 299, 890, 428, 634, 927, 531, 737, 936, 931, 490, 328,\n",
      "                   439, 554, 540, 473, 408, 286,  52, 702,  64, 871, 133, 623, 297, 777,\n",
      "                   891, 484, 673, 108, 719, 882, 704, 460, 468, 529, 533, 675, 787, 750,\n",
      "                   256, 857, 875, 370,  68, 285, 657, 965, 726, 321, 651, 561, 333, 188,\n",
      "                   247, 637, 567, 872, 186, 430, 884, 192, 703, 625, 845, 911,  32, 744,\n",
      "                   243, 313,  72, 347, 360, 127, 270, 722, 770, 908, 543, 199, 928,  22,\n",
      "                    77, 349, 358, 749, 720,  11, 755, 767, 580, 516, 816, 196,   1, 867,\n",
      "                   312, 160, 195, 765, 467, 191, 131, 489, 804, 190, 810, 329, 903,  71,\n",
      "                     6,  47, 231, 406, 568, 517, 355, 667, 394,  35, 995, 413, 332, 380,\n",
      "                   202, 727, 491, 895, 951, 893, 395, 246, 265, 632, 565, 171, 194, 353,\n",
      "                   795, 699, 253, 945,  20,  44, 971, 504, 817, 757, 996, 854,  96,  23,\n",
      "                   631, 472, 822, 751, 815, 207, 224, 266, 113,  28, 569, 277,  81, 225,\n",
      "                   990,  15, 852, 327, 559, 638, 482, 218, 570, 915, 200, 176, 259, 350,\n",
      "                   455, 326, 935, 306,  14, 853, 412, 775, 756, 660, 278, 677, 693, 766,\n",
      "                   528, 685, 713, 916,  99,  12, 642, 233, 387, 551, 797, 139, 873, 148,\n",
      "                   509, 257, 594, 571, 535, 497, 492, 179, 753, 805, 665, 501, 448, 423,\n",
      "                   168, 869, 868,  37,  90, 334, 342, 480, 173, 742,  25, 922, 126, 731,\n",
      "                   544,  97, 997, 892, 630, 449,  79, 371, 184, 524, 914, 734, 305, 579,\n",
      "                    53, 830, 799, 216, 268, 289, 640, 272, 843, 827,  59, 463],\n",
      "                  dtype=torch.int32), tensor([5, 7, 2, 3, 8, 7, 1, 3, 0, 6, 4, 3, 6, 6, 9, 3, 6, 7, 8, 0, 5, 8, 6, 4,\n",
      "                   3, 0, 1, 7, 2, 9, 1, 6, 5, 2, 5, 7, 2, 2, 4, 2, 3, 2, 1, 2, 0, 4, 4, 5,\n",
      "                   6, 7, 0, 8, 6, 4, 0, 8, 0, 6, 7, 1, 2, 8, 4, 2, 5, 0, 3, 6, 2, 3, 7, 4,\n",
      "                   0, 4, 6, 3, 6, 9, 9, 6, 6, 6, 4, 6, 2, 5, 8, 4, 6, 5, 2, 9, 8, 8, 0, 1,\n",
      "                   7, 0, 0, 1, 3, 9, 5, 4, 7, 7, 9, 5, 0, 4, 2, 7, 1, 2, 0, 3, 5, 5, 1, 6,\n",
      "                   9, 5, 1, 4, 7, 9, 7, 8, 5, 5, 0, 4, 8, 4, 7, 4, 9, 4, 1, 8, 0, 0, 2, 6,\n",
      "                   4, 0, 2, 2, 1, 3, 9, 5, 0, 1, 6, 9, 7, 5, 9, 4, 7, 3, 4, 6, 9, 4, 7, 5,\n",
      "                   7, 5, 9, 1, 9, 7, 1, 9, 3, 3, 4, 9, 7, 3, 2, 6, 4, 2, 9, 1, 8, 8, 6, 7,\n",
      "                   0, 0, 9, 1, 0, 1, 7, 8, 7, 4, 2, 1, 4, 6, 1, 5, 4, 4, 2, 4, 3, 1, 2, 5,\n",
      "                   9, 4, 2, 4, 1, 0, 1, 4, 7, 6, 2, 6, 8, 4, 8, 5, 0, 7, 4, 4, 8, 5, 6, 4,\n",
      "                   8, 9, 2, 2, 7, 9, 3, 9, 9, 7, 4, 8, 9, 1, 8, 2, 0, 4, 2, 3, 1, 9, 8, 2,\n",
      "                   5, 7, 4, 2, 7, 7, 9, 4, 1, 4, 5, 0, 5, 1, 5, 3, 8, 8, 2, 1, 5, 0, 4, 6,\n",
      "                   5, 4, 0, 8, 7, 0, 2, 8, 2, 8, 8, 8, 7, 7, 5, 0, 9, 8, 2, 4, 2, 0, 0, 2,\n",
      "                   4, 7, 3, 3, 5, 7, 1, 4, 9, 9, 4, 1, 8, 9, 6, 0, 1, 1, 0, 7, 6, 2, 1, 4,\n",
      "                   0, 9, 2, 6, 0, 6, 1, 7, 9, 9, 3, 2, 0, 5, 5, 7, 4, 1, 4, 9, 2, 9, 5, 3,\n",
      "                   2, 2, 7, 0, 6, 6, 5, 6, 1, 7, 5, 9, 1, 5, 6, 0, 2, 2, 4, 8, 0, 9, 8, 5,\n",
      "                   5, 2, 9, 7, 1, 8, 7, 4, 4, 8, 6, 6, 4, 7, 4, 4, 4, 2, 9, 6, 3, 1, 5, 5,\n",
      "                   8, 3, 2, 8, 3, 8, 4, 7, 2, 7, 6, 5, 2, 6, 9, 2, 4, 3, 2, 5, 9, 3, 0, 0,\n",
      "                   2, 7, 7, 2, 9, 7, 9, 6, 2, 8, 7, 8, 3, 4, 0, 6, 1, 6, 3, 1, 6, 7, 0, 5,\n",
      "                   1, 6, 8, 1, 2, 7, 5, 4, 2, 6, 7, 4, 7, 4, 0, 7, 6, 4, 6, 5, 7, 1, 4, 5,\n",
      "                   7, 9, 4, 8, 0, 1, 4, 5, 8, 0, 7, 2, 2, 9, 7, 3, 9, 7, 5, 5, 3, 1, 8, 3,\n",
      "                   0, 3, 7, 9, 1, 2, 5, 9, 1, 0, 3, 6, 7, 4, 0, 7, 4, 7, 1, 6, 9, 1, 8, 4,\n",
      "                   2, 8, 8, 1, 7, 1, 0, 2, 1, 2, 3, 5, 2, 2, 9, 2, 5, 9, 7, 5, 1, 1, 1, 9,\n",
      "                   4, 4, 9, 5, 7, 9, 9, 9, 8, 8, 4, 3, 9, 9, 6, 3, 9, 4, 9, 0, 2, 6, 4, 2,\n",
      "                   1, 5, 2, 8, 4, 9, 7, 0, 6, 1, 5, 9, 5, 6, 2, 3, 4, 9, 2, 8, 0, 2, 7, 0])),\n",
      "               names=('seeds', 'labels'),\n",
      "           ),\n",
      "           test_set=ItemSet(\n",
      "               items=(tensor([ 16, 999, 819,  73, 379, 513, 613,  67, 220, 736, 532, 917, 962, 977,\n",
      "                   210, 505, 863, 348, 100, 723, 557, 281, 937, 596,   4,  63, 438, 674,\n",
      "                    93,  40, 368, 459, 102,  83, 363, 262, 558, 399, 443, 336, 932, 214,\n",
      "                   101, 918, 739, 300, 500, 781, 798, 411, 203, 578, 189, 663, 636, 947,\n",
      "                   940, 684, 456, 694, 486, 985, 159, 981, 608, 747, 687, 967, 276, 646,\n",
      "                   834, 324, 335, 137, 963, 782, 162,  33, 389, 241, 648, 745, 217, 450,\n",
      "                   542, 362,  19,  29, 230, 170, 187, 605, 668, 944, 644, 627, 132, 740,\n",
      "                   881, 818, 138, 205, 709, 590, 536, 432, 761, 222, 840, 547, 652, 223,\n",
      "                   733, 123, 393, 791, 619, 823, 298, 248, 706, 322, 678, 356, 721,  87,\n",
      "                   240, 789, 498, 835, 129, 592, 669, 338, 418,  66, 643, 107, 778, 215,\n",
      "                   866, 149, 118, 391, 120, 575, 655, 177, 680, 841, 485, 172, 488, 672,\n",
      "                    36, 600, 111, 961, 258, 763, 930, 386, 732, 913, 650, 989, 584, 976,\n",
      "                   889, 956, 193, 539, 398, 730, 445, 837, 512, 870, 117, 771, 599, 316,\n",
      "                   641, 639, 948, 407, 323, 679, 156, 151, 716,   9, 826, 601, 849, 302,\n",
      "                   237, 390, 959, 477], dtype=torch.int32), tensor([4, 1, 5, 1, 7, 0, 3, 7, 3, 7, 3, 1, 9, 2, 5, 9, 3, 8, 8, 3, 5, 1, 1, 4,\n",
      "                   3, 9, 0, 4, 6, 1, 4, 4, 0, 2, 9, 9, 6, 7, 8, 5, 7, 7, 3, 8, 7, 6, 5, 9,\n",
      "                   1, 0, 3, 2, 5, 8, 8, 3, 3, 4, 6, 1, 5, 2, 6, 7, 3, 3, 2, 3, 7, 8, 0, 8,\n",
      "                   2, 5, 2, 5, 9, 7, 7, 8, 1, 3, 9, 3, 3, 8, 8, 1, 9, 7, 4, 4, 9, 5, 6, 9,\n",
      "                   9, 0, 8, 7, 8, 3, 8, 5, 5, 4, 0, 2, 3, 1, 5, 4, 4, 5, 0, 0, 6, 5, 9, 3,\n",
      "                   2, 3, 5, 8, 7, 4, 5, 8, 2, 6, 9, 6, 9, 0, 2, 8, 3, 1, 9, 8, 3, 2, 8, 0,\n",
      "                   6, 7, 0, 0, 0, 2, 6, 8, 2, 2, 5, 5, 2, 8, 5, 5, 1, 7, 2, 6, 3, 8, 5, 6,\n",
      "                   0, 4, 5, 2, 3, 2, 6, 8, 1, 1, 8, 2, 3, 4, 1, 1, 9, 2, 5, 0, 7, 1, 1, 6,\n",
      "                   7, 9, 9, 9, 3, 1, 2, 0])),\n",
      "               names=('seeds', 'labels'),\n",
      "           ),\n",
      "           metadata={'name': 'node_classification', 'num_classes': 10},)\n",
      "\n",
      "Loaded link prediction task: OnDiskTask(validation_set=ItemSet(\n",
      "               items=(tensor([[695,  45],\n",
      "                   [792, 999],\n",
      "                   [371,  75],\n",
      "                   ...,\n",
      "                   [263, 886],\n",
      "                   [263, 776],\n",
      "                   [263, 457]], dtype=torch.int32), tensor([1., 1., 1.,  ..., 0., 0., 0.], dtype=torch.float64), tensor([   0,    1,    2,  ..., 1999, 1999, 1999])),\n",
      "               names=('seeds', 'labels', 'indexes'),\n",
      "           ),\n",
      "           train_set=ItemSet(\n",
      "               items=(tensor([[ 96, 918],\n",
      "                   [935,  48],\n",
      "                   [198, 926],\n",
      "                   ...,\n",
      "                   [155,  92],\n",
      "                   [638, 518],\n",
      "                   [150, 693]], dtype=torch.int32),),\n",
      "               names=('seeds',),\n",
      "           ),\n",
      "           test_set=ItemSet(\n",
      "               items=(tensor([[943, 848],\n",
      "                   [373, 899],\n",
      "                   [817, 819],\n",
      "                   ...,\n",
      "                   [335, 841],\n",
      "                   [335, 147],\n",
      "                   [335, 715]], dtype=torch.int32), tensor([1., 1., 1.,  ..., 0., 0., 0.], dtype=torch.float64), tensor([   0,    1,    2,  ..., 1999, 1999, 1999])),\n",
      "               names=('seeds', 'labels', 'indexes'),\n",
      "           ),\n",
      "           metadata={'name': 'link_prediction', 'num_classes': 10},)\n",
      "\n"
     ]
    },
    {
     "name": "stderr",
     "output_type": "stream",
     "text": [
      "/dgl/python/dgl/graphbolt/impl/ondisk_dataset.py:463: GBWarning: Edge feature is stored, but edge IDs are not saved.\n",
      "  gb_warning(\"Edge feature is stored, but edge IDs are not saved.\")\n"
     ]
    }
   ],
   "source": [
    "dataset = gb.OnDiskDataset(base_dir).load()\n",
    "graph = dataset.graph\n",
    "print(f\"Loaded graph: {graph}\\n\")\n",
    "\n",
    "feature = dataset.feature\n",
    "print(f\"Loaded feature store: {feature}\\n\")\n",
    "\n",
    "tasks = dataset.tasks\n",
    "nc_task = tasks[0]\n",
    "print(f\"Loaded node classification task: {nc_task}\\n\")\n",
    "lp_task = tasks[1]\n",
    "print(f\"Loaded link prediction task: {lp_task}\\n\")"
   ]
  }
 ],
 "metadata": {
  "colab": {
   "private_outputs": true,
   "provenance": []
  },
  "kernelspec": {
   "display_name": "Python 3",
   "name": "python3"
  },
  "language_info": {
   "codemirror_mode": {
    "name": "ipython",
    "version": 3
   },
   "file_extension": ".py",
   "mimetype": "text/x-python",
   "name": "python",
   "nbconvert_exporter": "python",
   "pygments_lexer": "ipython3",
   "version": "3.10.15"
  }
 },
 "nbformat": 4,
 "nbformat_minor": 0
}

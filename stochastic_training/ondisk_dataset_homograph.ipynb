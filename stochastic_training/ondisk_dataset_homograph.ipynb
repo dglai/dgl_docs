{
 "cells": [
  {
   "cell_type": "markdown",
   "metadata": {
    "id": "FnFhPMaAfLtJ"
   },
   "source": [
    "# OnDiskDataset for Homogeneous Graph\n",
    "\n",
    "[![Open In Colab](https://colab.research.google.com/assets/colab-badge.svg)](https://colab.research.google.com/github/dmlc/dgl/blob/master/notebooks/stochastic_training/ondisk_dataset_homograph.ipynb) [![GitHub](https://img.shields.io/badge/-View%20on%20GitHub-181717?logo=github&logoColor=ffffff)](https://github.com/dmlc/dgl/blob/master/notebooks/stochastic_training/ondisk_dataset_homograph.ipynb)\n",
    "\n",
    "This tutorial shows how to create `OnDiskDataset` for homogeneous graph that could be used in **GraphBolt** framework.\n",
    "\n",
    "By the end of this tutorial, you will be able to\n",
    "\n",
    "- organize graph structure data.\n",
    "- organize feature data.\n",
    "- organize training/validation/test set for specific tasks.\n",
    "\n",
    "To create an ``OnDiskDataset`` object, you need to organize all the data including graph structure, feature data and tasks into a directory. The directory should contain a ``metadata.yaml`` file that describes the metadata of the dataset.\n",
    "\n",
    "Now let's generate various data step by step and organize them together to instantiate `OnDiskDataset` finally."
   ]
  },
  {
   "cell_type": "markdown",
   "metadata": {
    "id": "Wlb19DtWgtzq"
   },
   "source": [
    "## Install DGL package"
   ]
  },
  {
   "cell_type": "code",
   "execution_count": 1,
   "metadata": {
    "execution": {
     "iopub.execute_input": "2024-10-28T13:18:00.786114Z",
     "iopub.status.busy": "2024-10-28T13:18:00.785649Z",
     "iopub.status.idle": "2024-10-28T13:18:03.847080Z",
     "shell.execute_reply": "2024-10-28T13:18:03.846181Z"
    },
    "id": "UojlT9ZGgyr9"
   },
   "outputs": [
    {
     "name": "stdout",
     "output_type": "stream",
     "text": [
      "Looking in links: https://data.dgl.ai/wheels-test/repo.html\r\n",
      "Requirement already satisfied: dgl in /opt/conda/envs/dgl-dev-cpu/lib/python3.10/site-packages (2.2a240410)\r\n",
      "Requirement already satisfied: numpy>=1.14.0 in /opt/conda/envs/dgl-dev-cpu/lib/python3.10/site-packages (from dgl) (1.26.4)\r\n",
      "Requirement already satisfied: scipy>=1.1.0 in /opt/conda/envs/dgl-dev-cpu/lib/python3.10/site-packages (from dgl) (1.14.1)\r\n",
      "Requirement already satisfied: networkx>=2.1 in /opt/conda/envs/dgl-dev-cpu/lib/python3.10/site-packages (from dgl) (3.4.2)\r\n",
      "Requirement already satisfied: requests>=2.19.0 in /opt/conda/envs/dgl-dev-cpu/lib/python3.10/site-packages (from dgl) (2.32.3)\r\n",
      "Requirement already satisfied: tqdm in /opt/conda/envs/dgl-dev-cpu/lib/python3.10/site-packages (from dgl) (4.66.6)\r\n",
      "Requirement already satisfied: psutil>=5.8.0 in /opt/conda/envs/dgl-dev-cpu/lib/python3.10/site-packages (from dgl) (6.1.0)\r\n",
      "Requirement already satisfied: torchdata>=0.5.0 in /opt/conda/envs/dgl-dev-cpu/lib/python3.10/site-packages (from dgl) (0.9.0)\r\n",
      "Requirement already satisfied: pandas in /opt/conda/envs/dgl-dev-cpu/lib/python3.10/site-packages (from dgl) (2.2.3)\r\n"
     ]
    },
    {
     "name": "stdout",
     "output_type": "stream",
     "text": [
      "Requirement already satisfied: charset-normalizer<4,>=2 in /opt/conda/envs/dgl-dev-cpu/lib/python3.10/site-packages (from requests>=2.19.0->dgl) (3.4.0)\r\n",
      "Requirement already satisfied: idna<4,>=2.5 in /opt/conda/envs/dgl-dev-cpu/lib/python3.10/site-packages (from requests>=2.19.0->dgl) (3.10)\r\n",
      "Requirement already satisfied: urllib3<3,>=1.21.1 in /opt/conda/envs/dgl-dev-cpu/lib/python3.10/site-packages (from requests>=2.19.0->dgl) (2.2.3)\r\n",
      "Requirement already satisfied: certifi>=2017.4.17 in /opt/conda/envs/dgl-dev-cpu/lib/python3.10/site-packages (from requests>=2.19.0->dgl) (2024.8.30)\r\n",
      "Requirement already satisfied: torch>=2 in /opt/conda/envs/dgl-dev-cpu/lib/python3.10/site-packages (from torchdata>=0.5.0->dgl) (2.1.0+cpu)\r\n"
     ]
    },
    {
     "name": "stdout",
     "output_type": "stream",
     "text": [
      "Requirement already satisfied: python-dateutil>=2.8.2 in /opt/conda/envs/dgl-dev-cpu/lib/python3.10/site-packages (from pandas->dgl) (2.9.0.post0)\r\n",
      "Requirement already satisfied: pytz>=2020.1 in /opt/conda/envs/dgl-dev-cpu/lib/python3.10/site-packages (from pandas->dgl) (2024.2)\r\n",
      "Requirement already satisfied: tzdata>=2022.7 in /opt/conda/envs/dgl-dev-cpu/lib/python3.10/site-packages (from pandas->dgl) (2024.2)\r\n",
      "Requirement already satisfied: six>=1.5 in /opt/conda/envs/dgl-dev-cpu/lib/python3.10/site-packages (from python-dateutil>=2.8.2->pandas->dgl) (1.16.0)\r\n",
      "Requirement already satisfied: filelock in /opt/conda/envs/dgl-dev-cpu/lib/python3.10/site-packages (from torch>=2->torchdata>=0.5.0->dgl) (3.16.1)\r\n",
      "Requirement already satisfied: typing-extensions in /opt/conda/envs/dgl-dev-cpu/lib/python3.10/site-packages (from torch>=2->torchdata>=0.5.0->dgl) (4.12.2)\r\n",
      "Requirement already satisfied: sympy in /opt/conda/envs/dgl-dev-cpu/lib/python3.10/site-packages (from torch>=2->torchdata>=0.5.0->dgl) (1.13.3)\r\n",
      "Requirement already satisfied: jinja2 in /opt/conda/envs/dgl-dev-cpu/lib/python3.10/site-packages (from torch>=2->torchdata>=0.5.0->dgl) (3.1.4)\r\n",
      "Requirement already satisfied: fsspec in /opt/conda/envs/dgl-dev-cpu/lib/python3.10/site-packages (from torch>=2->torchdata>=0.5.0->dgl) (2024.10.0)\r\n"
     ]
    },
    {
     "name": "stdout",
     "output_type": "stream",
     "text": [
      "Requirement already satisfied: MarkupSafe>=2.0 in /opt/conda/envs/dgl-dev-cpu/lib/python3.10/site-packages (from jinja2->torch>=2->torchdata>=0.5.0->dgl) (3.0.2)\r\n",
      "Requirement already satisfied: mpmath<1.4,>=1.1.0 in /opt/conda/envs/dgl-dev-cpu/lib/python3.10/site-packages (from sympy->torch>=2->torchdata>=0.5.0->dgl) (1.3.0)\r\n"
     ]
    },
    {
     "name": "stdout",
     "output_type": "stream",
     "text": [
      "\u001b[33mWARNING: Running pip as the 'root' user can result in broken permissions and conflicting behaviour with the system package manager, possibly rendering your system unusable.It is recommended to use a virtual environment instead: https://pip.pypa.io/warnings/venv. Use the --root-user-action option if you know what you are doing and want to suppress this warning.\u001b[0m\u001b[33m\r\n",
      "\u001b[0m"
     ]
    },
    {
     "name": "stdout",
     "output_type": "stream",
     "text": [
      "DGL installed!\n"
     ]
    }
   ],
   "source": [
    "# Install required packages.\n",
    "import os\n",
    "import torch\n",
    "import numpy as np\n",
    "os.environ['TORCH'] = torch.__version__\n",
    "os.environ['DGLBACKEND'] = \"pytorch\"\n",
    "\n",
    "# Install the CPU version.\n",
    "device = torch.device(\"cpu\")\n",
    "!pip install --pre dgl -f https://data.dgl.ai/wheels-test/repo.html\n",
    "\n",
    "try:\n",
    "    import dgl\n",
    "    import dgl.graphbolt as gb\n",
    "    installed = True\n",
    "except ImportError as error:\n",
    "    installed = False\n",
    "    print(error)\n",
    "print(\"DGL installed!\" if installed else \"DGL not found!\")"
   ]
  },
  {
   "cell_type": "markdown",
   "metadata": {
    "id": "2R7WnSbjsfbr"
   },
   "source": [
    "## Data preparation\n",
    "In order to demonstrate how to organize various data, let's create a base directory first."
   ]
  },
  {
   "cell_type": "code",
   "execution_count": 2,
   "metadata": {
    "execution": {
     "iopub.execute_input": "2024-10-28T13:18:03.849710Z",
     "iopub.status.busy": "2024-10-28T13:18:03.849078Z",
     "iopub.status.idle": "2024-10-28T13:18:03.854235Z",
     "shell.execute_reply": "2024-10-28T13:18:03.853370Z"
    },
    "id": "SZipbzyltLfO"
   },
   "outputs": [
    {
     "name": "stdout",
     "output_type": "stream",
     "text": [
      "Created base directory: ./ondisk_dataset_homograph\n"
     ]
    }
   ],
   "source": [
    "base_dir = './ondisk_dataset_homograph'\n",
    "os.makedirs(base_dir, exist_ok=True)\n",
    "print(f\"Created base directory: {base_dir}\")"
   ]
  },
  {
   "cell_type": "markdown",
   "metadata": {
    "id": "qhNtIn_xhlnl"
   },
   "source": [
    "### Generate graph structure data\n",
    "For homogeneous graph, we just need to save edges(namely seeds) into  **Numpy** or **CSV** file.\n",
    "\n",
    "Note:\n",
    "- when saving to **Numpy**, the array requires to be in shape of `(2, N)`. This format is recommended as constructing graph from it is much faster than **CSV** file.\n",
    "- when saving to **CSV** file, do not save index and header.\n"
   ]
  },
  {
   "cell_type": "code",
   "execution_count": 3,
   "metadata": {
    "execution": {
     "iopub.execute_input": "2024-10-28T13:18:03.856404Z",
     "iopub.status.busy": "2024-10-28T13:18:03.856055Z",
     "iopub.status.idle": "2024-10-28T13:18:03.870644Z",
     "shell.execute_reply": "2024-10-28T13:18:03.869410Z"
    },
    "id": "HcBt4G5BmSjr"
   },
   "outputs": [
    {
     "name": "stdout",
     "output_type": "stream",
     "text": [
      "Part of edges: [[ 82 481]\n",
      " [ 60 444]\n",
      " [ 12 319]\n",
      " [918 394]\n",
      " [685  57]]\n",
      "Edges are saved into ./ondisk_dataset_homograph/edges.csv\n"
     ]
    }
   ],
   "source": [
    "import numpy as np\n",
    "import pandas as pd\n",
    "num_nodes = 1000\n",
    "num_edges = 10 * num_nodes\n",
    "edges_path = os.path.join(base_dir, \"edges.csv\")\n",
    "edges = np.random.randint(0, num_nodes, size=(num_edges, 2))\n",
    "\n",
    "print(f\"Part of edges: {edges[:5, :]}\")\n",
    "\n",
    "df = pd.DataFrame(edges)\n",
    "df.to_csv(edges_path, index=False, header=False)\n",
    "\n",
    "print(f\"Edges are saved into {edges_path}\")"
   ]
  },
  {
   "cell_type": "markdown",
   "metadata": {
    "id": "kh-4cPtzpcaH"
   },
   "source": [
    "### Generate feature data for graph\n",
    "For feature data, numpy arrays and torch tensors are supported for now."
   ]
  },
  {
   "cell_type": "code",
   "execution_count": 4,
   "metadata": {
    "execution": {
     "iopub.execute_input": "2024-10-28T13:18:03.873403Z",
     "iopub.status.busy": "2024-10-28T13:18:03.872881Z",
     "iopub.status.idle": "2024-10-28T13:18:03.892761Z",
     "shell.execute_reply": "2024-10-28T13:18:03.892018Z"
    },
    "id": "_PVu1u5brBhF"
   },
   "outputs": [
    {
     "name": "stdout",
     "output_type": "stream",
     "text": [
      "Part of node feature [feat_0]: [[0.64864166 0.02275377 0.38264714 0.13946194 0.72275078]\n",
      " [0.3928448  0.17445262 0.79349871 0.34777329 0.69345069]\n",
      " [0.27505025 0.12692158 0.93210558 0.66695258 0.81534621]]\n",
      "Node feature [feat_0] is saved to ./ondisk_dataset_homograph/node-feat-0.npy\n",
      "\n",
      "Part of node feature [feat_1]: tensor([[0.6524, 0.3685, 0.9656, 0.8995, 0.3788],\n",
      "        [0.4193, 0.7488, 0.0590, 0.7660, 0.7592],\n",
      "        [0.3170, 0.5442, 0.6974, 0.7358, 0.8805]])\n",
      "Node feature [feat_1] is saved to ./ondisk_dataset_homograph/node-feat-1.pt\n",
      "\n",
      "Part of edge feature [feat_0]: [[0.13037142 0.68731794 0.06640155 0.42508374 0.21656129]\n",
      " [0.11824373 0.17721223 0.39895653 0.45922569 0.51172995]\n",
      " [0.63093624 0.45860372 0.16269452 0.7562649  0.26169112]]\n",
      "Edge feature [feat_0] is saved to ./ondisk_dataset_homograph/edge-feat-0.npy\n",
      "\n",
      "Part of edge feature [feat_1]: tensor([[0.1768, 0.1664, 0.5756, 0.5732, 0.5405],\n",
      "        [0.5785, 0.8946, 0.8913, 0.1931, 0.5646],\n",
      "        [0.7957, 0.8958, 0.5247, 0.2792, 0.6123]])\n",
      "Edge feature [feat_1] is saved to ./ondisk_dataset_homograph/edge-feat-1.pt\n",
      "\n"
     ]
    }
   ],
   "source": [
    "# Generate node feature in numpy array.\n",
    "node_feat_0_path = os.path.join(base_dir, \"node-feat-0.npy\")\n",
    "node_feat_0 = np.random.rand(num_nodes, 5)\n",
    "print(f\"Part of node feature [feat_0]: {node_feat_0[:3, :]}\")\n",
    "np.save(node_feat_0_path, node_feat_0)\n",
    "print(f\"Node feature [feat_0] is saved to {node_feat_0_path}\\n\")\n",
    "\n",
    "# Generate another node feature in torch tensor\n",
    "node_feat_1_path = os.path.join(base_dir, \"node-feat-1.pt\")\n",
    "node_feat_1 = torch.rand(num_nodes, 5)\n",
    "print(f\"Part of node feature [feat_1]: {node_feat_1[:3, :]}\")\n",
    "torch.save(node_feat_1, node_feat_1_path)\n",
    "print(f\"Node feature [feat_1] is saved to {node_feat_1_path}\\n\")\n",
    "\n",
    "# Generate edge feature in numpy array.\n",
    "edge_feat_0_path = os.path.join(base_dir, \"edge-feat-0.npy\")\n",
    "edge_feat_0 = np.random.rand(num_edges, 5)\n",
    "print(f\"Part of edge feature [feat_0]: {edge_feat_0[:3, :]}\")\n",
    "np.save(edge_feat_0_path, edge_feat_0)\n",
    "print(f\"Edge feature [feat_0] is saved to {edge_feat_0_path}\\n\")\n",
    "\n",
    "# Generate another edge feature in torch tensor\n",
    "edge_feat_1_path = os.path.join(base_dir, \"edge-feat-1.pt\")\n",
    "edge_feat_1 = torch.rand(num_edges, 5)\n",
    "print(f\"Part of edge feature [feat_1]: {edge_feat_1[:3, :]}\")\n",
    "torch.save(edge_feat_1, edge_feat_1_path)\n",
    "print(f\"Edge feature [feat_1] is saved to {edge_feat_1_path}\\n\")\n"
   ]
  },
  {
   "cell_type": "markdown",
   "metadata": {
    "id": "ZyqgOtsIwzh_"
   },
   "source": [
    "### Generate tasks\n",
    "`OnDiskDataset` supports multiple tasks. For each task, we need to prepare training/validation/test sets respectively. Such sets usually vary among different tasks. In this tutorial, let's create a **Node Classification** task and **Link Prediction** task."
   ]
  },
  {
   "cell_type": "markdown",
   "metadata": {
    "id": "hVxHaDIfzCkr"
   },
   "source": [
    "#### Node Classification Task\n",
    "For node classification task, we need **node IDs** and corresponding **labels** for each training/validation/test set. Like feature data, numpy arrays and torch tensors are supported for these sets."
   ]
  },
  {
   "cell_type": "code",
   "execution_count": 5,
   "metadata": {
    "execution": {
     "iopub.execute_input": "2024-10-28T13:18:03.895987Z",
     "iopub.status.busy": "2024-10-28T13:18:03.895541Z",
     "iopub.status.idle": "2024-10-28T13:18:03.907251Z",
     "shell.execute_reply": "2024-10-28T13:18:03.906462Z"
    },
    "id": "S5-fyBbHzTCO"
   },
   "outputs": [
    {
     "name": "stdout",
     "output_type": "stream",
     "text": [
      "Part of train ids for node classification: [202 455 434]\n",
      "NC train ids are saved to ./ondisk_dataset_homograph/nc-train-ids.npy\n",
      "\n",
      "Part of train labels for node classification: tensor([0, 6, 5])\n",
      "NC train labels are saved to ./ondisk_dataset_homograph/nc-train-labels.pt\n",
      "\n",
      "Part of val ids for node classification: [ 75 828 443]\n",
      "NC val ids are saved to ./ondisk_dataset_homograph/nc-val-ids.npy\n",
      "\n",
      "Part of val labels for node classification: tensor([2, 5, 8])\n",
      "NC val labels are saved to ./ondisk_dataset_homograph/nc-val-labels.pt\n",
      "\n",
      "Part of test ids for node classification: [687 281 473]\n",
      "NC test ids are saved to ./ondisk_dataset_homograph/nc-test-ids.npy\n",
      "\n",
      "Part of test labels for node classification: tensor([7, 8, 9])\n",
      "NC test labels are saved to ./ondisk_dataset_homograph/nc-test-labels.pt\n",
      "\n"
     ]
    }
   ],
   "source": [
    "num_trains = int(num_nodes * 0.6)\n",
    "num_vals = int(num_nodes * 0.2)\n",
    "num_tests = num_nodes - num_trains - num_vals\n",
    "\n",
    "ids = np.arange(num_nodes)\n",
    "np.random.shuffle(ids)\n",
    "\n",
    "nc_train_ids_path = os.path.join(base_dir, \"nc-train-ids.npy\")\n",
    "nc_train_ids = ids[:num_trains]\n",
    "print(f\"Part of train ids for node classification: {nc_train_ids[:3]}\")\n",
    "np.save(nc_train_ids_path, nc_train_ids)\n",
    "print(f\"NC train ids are saved to {nc_train_ids_path}\\n\")\n",
    "\n",
    "nc_train_labels_path = os.path.join(base_dir, \"nc-train-labels.pt\")\n",
    "nc_train_labels = torch.randint(0, 10, (num_trains,))\n",
    "print(f\"Part of train labels for node classification: {nc_train_labels[:3]}\")\n",
    "torch.save(nc_train_labels, nc_train_labels_path)\n",
    "print(f\"NC train labels are saved to {nc_train_labels_path}\\n\")\n",
    "\n",
    "nc_val_ids_path = os.path.join(base_dir, \"nc-val-ids.npy\")\n",
    "nc_val_ids = ids[num_trains:num_trains+num_vals]\n",
    "print(f\"Part of val ids for node classification: {nc_val_ids[:3]}\")\n",
    "np.save(nc_val_ids_path, nc_val_ids)\n",
    "print(f\"NC val ids are saved to {nc_val_ids_path}\\n\")\n",
    "\n",
    "nc_val_labels_path = os.path.join(base_dir, \"nc-val-labels.pt\")\n",
    "nc_val_labels = torch.randint(0, 10, (num_vals,))\n",
    "print(f\"Part of val labels for node classification: {nc_val_labels[:3]}\")\n",
    "torch.save(nc_val_labels, nc_val_labels_path)\n",
    "print(f\"NC val labels are saved to {nc_val_labels_path}\\n\")\n",
    "\n",
    "nc_test_ids_path = os.path.join(base_dir, \"nc-test-ids.npy\")\n",
    "nc_test_ids = ids[-num_tests:]\n",
    "print(f\"Part of test ids for node classification: {nc_test_ids[:3]}\")\n",
    "np.save(nc_test_ids_path, nc_test_ids)\n",
    "print(f\"NC test ids are saved to {nc_test_ids_path}\\n\")\n",
    "\n",
    "nc_test_labels_path = os.path.join(base_dir, \"nc-test-labels.pt\")\n",
    "nc_test_labels = torch.randint(0, 10, (num_tests,))\n",
    "print(f\"Part of test labels for node classification: {nc_test_labels[:3]}\")\n",
    "torch.save(nc_test_labels, nc_test_labels_path)\n",
    "print(f\"NC test labels are saved to {nc_test_labels_path}\\n\")"
   ]
  },
  {
   "cell_type": "markdown",
   "metadata": {
    "id": "LhAcDCHQ_KJ0"
   },
   "source": [
    "#### Link Prediction Task\n",
    "For link prediction task, we need **seeds** or **corresponding labels and indexes** which representing the pos/neg property and group of the seeds for each training/validation/test set. Like feature data, numpy arrays and torch tensors are supported for these sets."
   ]
  },
  {
   "cell_type": "code",
   "execution_count": 6,
   "metadata": {
    "execution": {
     "iopub.execute_input": "2024-10-28T13:18:03.909781Z",
     "iopub.status.busy": "2024-10-28T13:18:03.909335Z",
     "iopub.status.idle": "2024-10-28T13:18:03.927904Z",
     "shell.execute_reply": "2024-10-28T13:18:03.927031Z"
    },
    "id": "u0jCnXIcAQy4"
   },
   "outputs": [
    {
     "name": "stdout",
     "output_type": "stream",
     "text": [
      "Part of train seeds for link prediction: [[ 82 481]\n",
      " [ 60 444]\n",
      " [ 12 319]]\n",
      "LP train seeds are saved to ./ondisk_dataset_homograph/lp-train-seeds.npy\n",
      "\n",
      "Part of val seeds for link prediction: [[ 47 336]\n",
      " [741 683]\n",
      " [ 90 418]]\n",
      "LP val seeds are saved to ./ondisk_dataset_homograph/lp-val-seeds.npy\n",
      "\n",
      "Part of val labels for link prediction: [1. 1. 1.]\n",
      "LP val labels are saved to ./ondisk_dataset_homograph/lp-val-labels.npy\n",
      "\n",
      "Part of val indexes for link prediction: [0 1 2]\n",
      "LP val indexes are saved to ./ondisk_dataset_homograph/lp-val-indexes.npy\n",
      "\n",
      "Part of test seeds for link prediction: [[231 247]\n",
      " [709 167]\n",
      " [664 331]]\n",
      "LP test seeds are saved to ./ondisk_dataset_homograph/lp-test-seeds.npy\n",
      "\n",
      "Part of val labels for link prediction: [1. 1. 1.]\n",
      "LP test labels are saved to ./ondisk_dataset_homograph/lp-test-labels.npy\n",
      "\n",
      "Part of test indexes for link prediction: [0 1 2]\n",
      "LP test indexes are saved to ./ondisk_dataset_homograph/lp-test-indexes.npy\n",
      "\n"
     ]
    }
   ],
   "source": [
    "num_trains = int(num_edges * 0.6)\n",
    "num_vals = int(num_edges * 0.2)\n",
    "num_tests = num_edges - num_trains - num_vals\n",
    "\n",
    "lp_train_seeds_path = os.path.join(base_dir, \"lp-train-seeds.npy\")\n",
    "lp_train_seeds = edges[:num_trains, :]\n",
    "print(f\"Part of train seeds for link prediction: {lp_train_seeds[:3]}\")\n",
    "np.save(lp_train_seeds_path, lp_train_seeds)\n",
    "print(f\"LP train seeds are saved to {lp_train_seeds_path}\\n\")\n",
    "\n",
    "lp_val_seeds_path = os.path.join(base_dir, \"lp-val-seeds.npy\")\n",
    "lp_val_seeds = edges[num_trains:num_trains+num_vals, :]\n",
    "lp_val_neg_dsts = np.random.randint(0, num_nodes, (num_vals, 10)).reshape(-1)\n",
    "lp_val_neg_srcs = np.repeat(lp_val_seeds[:,0], 10)\n",
    "lp_val_neg_seeds = np.concatenate((lp_val_neg_srcs, lp_val_neg_dsts)).reshape(2,-1).T\n",
    "lp_val_seeds = np.concatenate((lp_val_seeds, lp_val_neg_seeds))\n",
    "print(f\"Part of val seeds for link prediction: {lp_val_seeds[:3]}\")\n",
    "np.save(lp_val_seeds_path, lp_val_seeds)\n",
    "print(f\"LP val seeds are saved to {lp_val_seeds_path}\\n\")\n",
    "\n",
    "lp_val_labels_path = os.path.join(base_dir, \"lp-val-labels.npy\")\n",
    "lp_val_labels = np.empty(num_vals * (10 + 1))\n",
    "lp_val_labels[:num_vals] = 1\n",
    "lp_val_labels[num_vals:] = 0\n",
    "print(f\"Part of val labels for link prediction: {lp_val_labels[:3]}\")\n",
    "np.save(lp_val_labels_path, lp_val_labels)\n",
    "print(f\"LP val labels are saved to {lp_val_labels_path}\\n\")\n",
    "\n",
    "lp_val_indexes_path = os.path.join(base_dir, \"lp-val-indexes.npy\")\n",
    "lp_val_indexes = np.arange(0, num_vals)\n",
    "lp_val_neg_indexes = np.repeat(lp_val_indexes, 10)\n",
    "lp_val_indexes = np.concatenate([lp_val_indexes, lp_val_neg_indexes])\n",
    "print(f\"Part of val indexes for link prediction: {lp_val_indexes[:3]}\")\n",
    "np.save(lp_val_indexes_path, lp_val_indexes)\n",
    "print(f\"LP val indexes are saved to {lp_val_indexes_path}\\n\")\n",
    "\n",
    "lp_test_seeds_path = os.path.join(base_dir, \"lp-test-seeds.npy\")\n",
    "lp_test_seeds = edges[-num_tests:, :]\n",
    "lp_test_neg_dsts = np.random.randint(0, num_nodes, (num_tests, 10)).reshape(-1)\n",
    "lp_test_neg_srcs = np.repeat(lp_test_seeds[:,0], 10)\n",
    "lp_test_neg_seeds = np.concatenate((lp_test_neg_srcs, lp_test_neg_dsts)).reshape(2,-1).T\n",
    "lp_test_seeds = np.concatenate((lp_test_seeds, lp_test_neg_seeds))\n",
    "print(f\"Part of test seeds for link prediction: {lp_test_seeds[:3]}\")\n",
    "np.save(lp_test_seeds_path, lp_test_seeds)\n",
    "print(f\"LP test seeds are saved to {lp_test_seeds_path}\\n\")\n",
    "\n",
    "lp_test_labels_path = os.path.join(base_dir, \"lp-test-labels.npy\")\n",
    "lp_test_labels = np.empty(num_tests * (10 + 1))\n",
    "lp_test_labels[:num_tests] = 1\n",
    "lp_test_labels[num_tests:] = 0\n",
    "print(f\"Part of val labels for link prediction: {lp_test_labels[:3]}\")\n",
    "np.save(lp_test_labels_path, lp_test_labels)\n",
    "print(f\"LP test labels are saved to {lp_test_labels_path}\\n\")\n",
    "\n",
    "lp_test_indexes_path = os.path.join(base_dir, \"lp-test-indexes.npy\")\n",
    "lp_test_indexes = np.arange(0, num_tests)\n",
    "lp_test_neg_indexes = np.repeat(lp_test_indexes, 10)\n",
    "lp_test_indexes = np.concatenate([lp_test_indexes, lp_test_neg_indexes])\n",
    "print(f\"Part of test indexes for link prediction: {lp_test_indexes[:3]}\")\n",
    "np.save(lp_test_indexes_path, lp_test_indexes)\n",
    "print(f\"LP test indexes are saved to {lp_test_indexes_path}\\n\")"
   ]
  },
  {
   "cell_type": "markdown",
   "metadata": {
    "id": "wbk6-wxRK-6S"
   },
   "source": [
    "## Organize Data into YAML File\n",
    "Now we need to create a `metadata.yaml` file which contains the paths, dadta types of graph structure, feature data, training/validation/test sets.\n",
    "\n",
    "Notes:\n",
    "- all path should be relative to `metadata.yaml`.\n",
    "- Below fields are optional and not specified in below example.\n",
    "  - `in_memory`: indicates whether to load dada into memory or `mmap`. Default is `True`.\n",
    "\n",
    "Please refer to [YAML specification](https://github.com/dmlc/dgl/blob/master/docs/source/stochastic_training/ondisk-dataset-specification.rst) for more details."
   ]
  },
  {
   "cell_type": "code",
   "execution_count": 7,
   "metadata": {
    "execution": {
     "iopub.execute_input": "2024-10-28T13:18:03.930526Z",
     "iopub.status.busy": "2024-10-28T13:18:03.930163Z",
     "iopub.status.idle": "2024-10-28T13:18:03.936510Z",
     "shell.execute_reply": "2024-10-28T13:18:03.935721Z"
    },
    "id": "ddGTWW61Lpwp"
   },
   "outputs": [],
   "source": [
    "yaml_content = f\"\"\"\n",
    "    dataset_name: homogeneous_graph_nc_lp\n",
    "    graph:\n",
    "      nodes:\n",
    "        - num: {num_nodes}\n",
    "      edges:\n",
    "        - format: csv\n",
    "          path: {os.path.basename(edges_path)}\n",
    "    feature_data:\n",
    "      - domain: node\n",
    "        name: feat_0\n",
    "        format: numpy\n",
    "        path: {os.path.basename(node_feat_0_path)}\n",
    "      - domain: node\n",
    "        name: feat_1\n",
    "        format: torch\n",
    "        path: {os.path.basename(node_feat_1_path)}\n",
    "      - domain: edge\n",
    "        name: feat_0\n",
    "        format: numpy\n",
    "        path: {os.path.basename(edge_feat_0_path)}\n",
    "      - domain: edge\n",
    "        name: feat_1\n",
    "        format: torch\n",
    "        path: {os.path.basename(edge_feat_1_path)}\n",
    "    tasks:\n",
    "      - name: node_classification\n",
    "        num_classes: 10\n",
    "        train_set:\n",
    "          - data:\n",
    "              - name: seeds\n",
    "                format: numpy\n",
    "                path: {os.path.basename(nc_train_ids_path)}\n",
    "              - name: labels\n",
    "                format: torch\n",
    "                path: {os.path.basename(nc_train_labels_path)}\n",
    "        validation_set:\n",
    "          - data:\n",
    "              - name: seeds\n",
    "                format: numpy\n",
    "                path: {os.path.basename(nc_val_ids_path)}\n",
    "              - name: labels\n",
    "                format: torch\n",
    "                path: {os.path.basename(nc_val_labels_path)}\n",
    "        test_set:\n",
    "          - data:\n",
    "              - name: seeds\n",
    "                format: numpy\n",
    "                path: {os.path.basename(nc_test_ids_path)}\n",
    "              - name: labels\n",
    "                format: torch\n",
    "                path: {os.path.basename(nc_test_labels_path)}\n",
    "      - name: link_prediction\n",
    "        num_classes: 10\n",
    "        train_set:\n",
    "          - data:\n",
    "              - name: seeds\n",
    "                format: numpy\n",
    "                path: {os.path.basename(lp_train_seeds_path)}\n",
    "        validation_set:\n",
    "          - data:\n",
    "              - name: seeds\n",
    "                format: numpy\n",
    "                path: {os.path.basename(lp_val_seeds_path)}\n",
    "              - name: labels\n",
    "                format: numpy\n",
    "                path: {os.path.basename(lp_val_labels_path)}\n",
    "              - name: indexes\n",
    "                format: numpy\n",
    "                path: {os.path.basename(lp_val_indexes_path)}\n",
    "        test_set:\n",
    "          - data:\n",
    "              - name: seeds\n",
    "                format: numpy\n",
    "                path: {os.path.basename(lp_test_seeds_path)}\n",
    "              - name: labels\n",
    "                format: numpy\n",
    "                path: {os.path.basename(lp_test_labels_path)}\n",
    "              - name: indexes\n",
    "                format: numpy\n",
    "                path: {os.path.basename(lp_test_indexes_path)}\n",
    "\"\"\"\n",
    "metadata_path = os.path.join(base_dir, \"metadata.yaml\")\n",
    "with open(metadata_path, \"w\") as f:\n",
    "  f.write(yaml_content)"
   ]
  },
  {
   "cell_type": "markdown",
   "metadata": {
    "id": "kEfybHGhOW7O"
   },
   "source": [
    "## Instantiate `OnDiskDataset`\n",
    "Now we're ready to load dataset via `dgl.graphbolt.OnDiskDataset`. When instantiating, we just pass in the base directory where `metadata.yaml` file lies.\n",
    "\n",
    "During first instantiation, GraphBolt preprocesses the raw data such as constructing `FusedCSCSamplingGraph` from edges. All data including graph, feature data, training/validation/test sets are put into `preprocessed` directory after preprocessing. Any following dataset loading will skip the preprocess stage.\n",
    "\n",
    "After preprocessing, `load()` is required to be called explicitly in order to load graph, feature data and tasks."
   ]
  },
  {
   "cell_type": "code",
   "execution_count": 8,
   "metadata": {
    "execution": {
     "iopub.execute_input": "2024-10-28T13:18:03.938741Z",
     "iopub.status.busy": "2024-10-28T13:18:03.938460Z",
     "iopub.status.idle": "2024-10-28T13:18:04.014095Z",
     "shell.execute_reply": "2024-10-28T13:18:04.013383Z"
    },
    "id": "W58CZoSzOiyo"
   },
   "outputs": [
    {
     "name": "stdout",
     "output_type": "stream",
     "text": [
      "Start to preprocess the on-disk dataset.\n",
      "Finish preprocessing the on-disk dataset.\n",
      "Loaded graph: FusedCSCSamplingGraph(csc_indptr=tensor([    0,    10,    18,  ...,  9980,  9991, 10000], dtype=torch.int32),\n",
      "                      indices=tensor([487, 801, 772,  ..., 415, 295, 632], dtype=torch.int32),\n",
      "                      total_num_nodes=1000, num_edges=10000,)\n",
      "\n",
      "Loaded feature store: TorchBasedFeatureStore(\n",
      "    {(<OnDiskFeatureDataDomain.NODE: 'node'>, None, 'feat_0'): TorchBasedFeature(\n",
      "        feature=tensor([[0.6486, 0.0228, 0.3826, 0.1395, 0.7228],\n",
      "                        [0.3928, 0.1745, 0.7935, 0.3478, 0.6935],\n",
      "                        [0.2751, 0.1269, 0.9321, 0.6670, 0.8153],\n",
      "                        ...,\n",
      "                        [0.6613, 0.9174, 0.5523, 0.4207, 0.1553],\n",
      "                        [0.2730, 0.2919, 0.6130, 0.7039, 0.3413],\n",
      "                        [0.6863, 0.9601, 0.1186, 0.8861, 0.1330]], dtype=torch.float64),\n",
      "        metadata={},\n",
      "    ), (<OnDiskFeatureDataDomain.NODE: 'node'>, None, 'feat_1'): TorchBasedFeature(\n",
      "        feature=tensor([[0.6524, 0.3685, 0.9656, 0.8995, 0.3788],\n",
      "                        [0.4193, 0.7488, 0.0590, 0.7660, 0.7592],\n",
      "                        [0.3170, 0.5442, 0.6974, 0.7358, 0.8805],\n",
      "                        ...,\n",
      "                        [0.4027, 0.7871, 0.3907, 0.7796, 0.6810],\n",
      "                        [0.1549, 0.1240, 0.8036, 0.2350, 0.9567],\n",
      "                        [0.7114, 0.5094, 0.8012, 0.3566, 0.8992]]),\n",
      "        metadata={},\n",
      "    ), (<OnDiskFeatureDataDomain.EDGE: 'edge'>, None, 'feat_0'): TorchBasedFeature(\n",
      "        feature=tensor([[0.1304, 0.6873, 0.0664, 0.4251, 0.2166],\n",
      "                        [0.1182, 0.1772, 0.3990, 0.4592, 0.5117],\n",
      "                        [0.6309, 0.4586, 0.1627, 0.7563, 0.2617],\n",
      "                        ...,\n",
      "                        [0.7286, 0.4201, 0.5773, 0.8342, 0.7811],\n",
      "                        [0.8588, 0.0393, 0.7944, 0.9351, 0.1694],\n",
      "                        [0.4636, 0.6498, 0.5022, 0.6150, 0.8607]], dtype=torch.float64),\n",
      "        metadata={},\n",
      "    ), (<OnDiskFeatureDataDomain.EDGE: 'edge'>, None, 'feat_1'): TorchBasedFeature(\n",
      "        feature=tensor([[0.1768, 0.1664, 0.5756, 0.5732, 0.5405],\n",
      "                        [0.5785, 0.8946, 0.8913, 0.1931, 0.5646],\n",
      "                        [0.7957, 0.8958, 0.5247, 0.2792, 0.6123],\n",
      "                        ...,\n",
      "                        [0.5420, 0.4272, 0.5883, 0.7745, 0.2671],\n",
      "                        [0.4424, 0.6955, 0.8490, 0.2333, 0.9763],\n",
      "                        [0.2725, 0.1338, 0.8057, 0.4481, 0.1563]]),\n",
      "        metadata={},\n",
      "    )}\n",
      ")\n",
      "\n",
      "Loaded node classification task: OnDiskTask(validation_set=ItemSet(\n",
      "               items=(tensor([ 75, 828, 443, 136, 717, 636, 936, 849, 313, 720, 216, 991, 785, 993,\n",
      "                   829, 330,  78, 481, 821, 317, 540, 537, 763, 578, 618, 224, 103, 318,\n",
      "                   345, 661, 319, 353, 185, 617, 625, 858, 983, 419, 725, 855, 624, 143,\n",
      "                   938, 598, 195, 221, 477, 961, 321, 152, 352, 168,  22,   8, 844, 446,\n",
      "                   144,  79, 483, 605, 711, 276,  96, 425,  65, 487, 666, 379, 273, 439,\n",
      "                    45, 362, 655, 653, 230,  83, 898, 460, 148, 366, 958, 606, 563, 874,\n",
      "                   201, 607, 910, 261, 322, 602, 997,   5, 758, 999, 391, 253, 415, 572,\n",
      "                   479, 334, 295, 512, 924, 715, 457, 777, 733, 539, 731, 547, 771, 549,\n",
      "                   350, 772, 498, 492,  39, 664, 815, 921, 688, 119, 424, 672, 188, 820,\n",
      "                    94, 804, 414,  67, 471, 219, 632, 100, 384,  57, 420, 809, 125, 583,\n",
      "                   801, 307, 412, 291, 756, 376, 608, 949, 356, 752, 237, 868, 633, 531,\n",
      "                   173, 582,  27, 527, 969, 289, 388, 383, 629, 526, 240, 908, 145, 226,\n",
      "                   860, 976, 827, 850, 107, 759, 630, 765, 485, 797, 750, 590, 361, 308,\n",
      "                   305, 155, 433, 294, 816, 503,  56, 690,  17, 882, 509, 293, 437,  87,\n",
      "                   371, 279, 562, 390], dtype=torch.int32), tensor([2, 5, 8, 0, 1, 1, 6, 0, 1, 4, 8, 7, 0, 1, 2, 5, 2, 4, 7, 2, 2, 9, 5, 6,\n",
      "                   7, 5, 2, 2, 7, 9, 3, 1, 2, 4, 1, 6, 8, 1, 0, 9, 0, 1, 1, 1, 7, 2, 6, 7,\n",
      "                   5, 9, 3, 6, 4, 8, 2, 7, 7, 6, 4, 3, 9, 1, 7, 3, 4, 9, 8, 8, 3, 0, 2, 2,\n",
      "                   9, 9, 0, 9, 3, 6, 0, 2, 5, 7, 3, 8, 7, 7, 9, 4, 6, 5, 8, 0, 7, 1, 4, 3,\n",
      "                   0, 9, 6, 6, 4, 4, 7, 9, 7, 8, 0, 4, 8, 7, 3, 3, 7, 5, 8, 3, 8, 1, 7, 4,\n",
      "                   7, 4, 0, 1, 4, 7, 7, 1, 9, 6, 9, 5, 0, 6, 3, 7, 3, 0, 7, 4, 1, 1, 0, 7,\n",
      "                   0, 5, 7, 9, 2, 1, 0, 9, 3, 1, 9, 5, 2, 0, 0, 9, 4, 7, 1, 5, 5, 6, 1, 4,\n",
      "                   6, 6, 8, 2, 2, 4, 5, 1, 0, 7, 2, 8, 1, 7, 0, 7, 4, 1, 7, 8, 5, 3, 0, 4,\n",
      "                   9, 4, 0, 9, 8, 9, 4, 7])),\n",
      "               names=('seeds', 'labels'),\n",
      "           ),\n",
      "           train_set=ItemSet(\n",
      "               items=(tensor([202, 455, 434,  23, 249, 374, 410, 449, 985, 541, 599, 396, 332, 657,\n",
      "                   863, 142, 272,  99, 232, 818, 702, 638, 861, 229, 695, 971, 463, 159,\n",
      "                   843, 180, 348, 548, 743, 587, 288, 126, 452, 302, 596, 241,  77, 387,\n",
      "                   121, 839, 337, 838, 604, 138, 367, 283, 640, 333, 544, 515,  44, 129,\n",
      "                   558, 870, 193, 505, 507, 132, 721, 157, 423, 994, 694, 312, 497, 275,\n",
      "                   162, 166, 385, 435, 892,  32, 508, 697, 518, 673,  47, 506,  19, 182,\n",
      "                   877, 656, 686, 966, 639, 884, 841, 730, 767, 522, 124, 524, 684, 320,\n",
      "                   179,  70, 766, 402, 381, 896, 238, 886, 895, 959, 565, 448, 234, 764,\n",
      "                   500, 595, 906, 787, 116, 880, 751,  20, 110, 170, 413, 496, 447, 123,\n",
      "                   516, 284,  10, 984, 814, 204, 470, 568,   4, 213, 398, 569,   2, 456,\n",
      "                   981, 206,  12, 982, 817, 876, 811, 184, 373, 794, 495, 781, 517, 534,\n",
      "                   741, 619, 932, 211, 475, 254, 528, 557, 718, 200, 267, 944,  61, 480,\n",
      "                   593, 389,  82, 780, 248, 943, 271, 709, 347, 472, 514,  89,  80,  81,\n",
      "                   897, 404, 488, 176, 748, 934, 335,  50, 704, 499, 930, 314, 854,  66,\n",
      "                   399, 183, 862, 340, 706, 543,  36, 922, 274, 728, 789, 444, 428, 266,\n",
      "                   486, 310, 141, 197, 753, 297, 649,  74, 442, 174, 796, 154,  42, 878,\n",
      "                   436, 851, 341, 258, 109, 351, 566, 592, 357, 304, 416, 328, 714, 114,\n",
      "                   647, 218, 560, 713, 588, 995, 678, 813, 917, 257, 893, 581, 422, 724,\n",
      "                   674, 504, 699, 280, 894, 889, 403, 553, 768, 891, 325,  53, 749, 853,\n",
      "                   645, 454, 519, 365, 108, 913, 873, 833, 286, 732, 242, 342,  98, 538,\n",
      "                   594, 510, 825, 652,  49, 278, 692, 438, 648, 903, 236, 214, 127, 156,\n",
      "                   130, 842, 964, 111, 660, 459, 494, 597, 135, 911, 654, 394,  63, 441,\n",
      "                   615, 626, 900, 564, 914, 628, 120, 300, 215, 552, 476,  35, 846, 269,\n",
      "                   929, 309, 788,  60, 864, 782,   3, 591,  41, 104, 698, 904, 710, 392,\n",
      "                   778, 133, 453, 616, 739, 879, 875, 800,  24, 468, 918, 115,  73, 736,\n",
      "                   285,  90, 786, 810,  11, 190, 303,  88, 744,  18, 977, 451, 670,  64,\n",
      "                   401, 117, 830, 871, 613, 208, 147, 101, 947, 791, 835, 464,  72, 134,\n",
      "                   745,  31, 912, 735, 409, 574, 430, 667, 866, 685,  29, 210, 573, 623,\n",
      "                   919, 245,  46, 823, 209, 847, 646, 980, 989, 719, 368, 225, 189, 301,\n",
      "                    92, 105, 784, 324, 612, 299, 246, 621, 256, 812, 727, 675, 957, 992,\n",
      "                   469, 643, 762,  25, 968, 461, 836,  59, 161, 187, 887, 212, 952,  34,\n",
      "                   681, 956, 832, 316, 865, 953, 329,  55, 948, 939, 712, 926, 668, 700,\n",
      "                   867, 600, 372, 118, 622, 691, 382,  26, 164,   6, 662, 609, 848, 705,\n",
      "                    52, 978, 150, 907, 859, 987, 364,  33, 576, 465, 268, 363, 194, 746,\n",
      "                   650, 603, 555, 988, 915, 530, 927, 535, 199, 532, 501, 559, 601,   0,\n",
      "                    86, 960, 923, 482, 233, 589,  71, 377, 909, 511,  54, 740, 359,  93,\n",
      "                   658, 885, 220, 659, 542, 795, 533, 106, 122,  91, 905,  85, 128, 962,\n",
      "                   998, 247, 198, 641, 872, 965, 343, 663, 651, 554, 426, 634, 153,  69,\n",
      "                   972, 856, 175, 484, 747, 327, 822, 131, 207, 793,  16, 235, 806, 757,\n",
      "                   580, 665, 722, 802, 635, 937, 631, 792, 610, 354, 551, 798, 577, 432,\n",
      "                   331, 395, 239, 754,  68, 644, 881, 277, 502, 902, 669, 761, 306, 990,\n",
      "                    58, 478, 140, 259, 679, 243, 323, 734, 986, 112, 349, 146, 611, 191,\n",
      "                   151, 883, 826, 369, 955, 920, 287, 831, 803, 755, 255,   1],\n",
      "                  dtype=torch.int32), tensor([0, 6, 5, 1, 2, 8, 1, 2, 9, 0, 4, 8, 7, 1, 0, 5, 3, 0, 6, 8, 2, 2, 5, 5,\n",
      "                   4, 6, 6, 6, 0, 9, 0, 5, 6, 2, 6, 4, 6, 6, 2, 2, 8, 0, 3, 3, 7, 4, 7, 6,\n",
      "                   0, 3, 8, 4, 5, 6, 0, 7, 3, 3, 4, 8, 0, 7, 0, 6, 0, 5, 5, 8, 9, 3, 1, 1,\n",
      "                   4, 9, 5, 8, 7, 2, 8, 6, 2, 0, 3, 1, 4, 4, 6, 5, 1, 6, 6, 0, 2, 2, 6, 1,\n",
      "                   7, 1, 5, 0, 7, 8, 7, 4, 5, 0, 6, 4, 3, 3, 2, 4, 2, 4, 2, 1, 6, 3, 8, 0,\n",
      "                   1, 4, 4, 8, 8, 2, 8, 8, 2, 5, 4, 1, 6, 9, 0, 5, 1, 6, 6, 1, 2, 4, 2, 0,\n",
      "                   4, 3, 4, 7, 2, 6, 7, 2, 3, 3, 1, 3, 3, 5, 1, 6, 7, 0, 1, 9, 4, 1, 7, 5,\n",
      "                   9, 9, 9, 0, 0, 6, 8, 6, 7, 6, 3, 2, 2, 1, 1, 2, 3, 6, 0, 1, 1, 6, 9, 2,\n",
      "                   1, 0, 0, 9, 0, 2, 0, 0, 5, 0, 1, 2, 9, 7, 4, 1, 4, 6, 9, 0, 7, 2, 1, 4,\n",
      "                   2, 7, 8, 5, 0, 0, 0, 7, 9, 7, 5, 5, 0, 2, 1, 4, 0, 7, 5, 6, 7, 2, 3, 6,\n",
      "                   4, 9, 1, 1, 5, 0, 7, 0, 0, 7, 1, 5, 2, 2, 1, 3, 7, 4, 8, 3, 4, 8, 3, 6,\n",
      "                   2, 1, 4, 1, 0, 5, 6, 7, 2, 9, 9, 7, 8, 6, 4, 9, 9, 2, 2, 9, 3, 2, 0, 6,\n",
      "                   9, 7, 1, 9, 0, 0, 5, 8, 0, 7, 8, 0, 7, 3, 1, 5, 7, 4, 0, 1, 6, 9, 7, 7,\n",
      "                   8, 9, 5, 5, 8, 7, 2, 9, 9, 5, 5, 5, 1, 8, 5, 4, 1, 1, 7, 6, 2, 2, 2, 3,\n",
      "                   2, 8, 8, 2, 2, 1, 4, 2, 4, 4, 4, 6, 1, 6, 3, 2, 9, 5, 1, 2, 3, 7, 7, 8,\n",
      "                   2, 7, 2, 2, 6, 5, 1, 4, 2, 6, 1, 9, 4, 2, 3, 4, 9, 2, 2, 3, 8, 2, 8, 1,\n",
      "                   7, 5, 6, 5, 4, 9, 2, 8, 0, 5, 8, 7, 5, 6, 9, 4, 8, 0, 8, 9, 7, 3, 8, 5,\n",
      "                   5, 5, 4, 4, 1, 9, 0, 2, 4, 0, 8, 8, 2, 5, 5, 6, 3, 2, 5, 4, 5, 8, 9, 2,\n",
      "                   0, 7, 2, 5, 3, 2, 1, 8, 7, 0, 1, 3, 9, 5, 6, 1, 1, 1, 0, 4, 9, 3, 3, 1,\n",
      "                   6, 5, 0, 8, 3, 9, 2, 0, 2, 3, 8, 6, 4, 8, 0, 2, 4, 8, 6, 4, 2, 9, 3, 6,\n",
      "                   5, 1, 2, 6, 8, 2, 0, 4, 5, 3, 5, 0, 2, 6, 8, 2, 8, 5, 7, 5, 8, 2, 0, 3,\n",
      "                   8, 8, 1, 4, 9, 5, 8, 2, 0, 7, 5, 7, 5, 9, 1, 8, 5, 7, 6, 2, 3, 3, 5, 6,\n",
      "                   5, 1, 0, 7, 8, 7, 1, 7, 1, 7, 8, 6, 8, 4, 9, 2, 1, 1, 2, 9, 2, 2, 0, 3,\n",
      "                   1, 2, 9, 5, 5, 8, 8, 4, 1, 3, 8, 3, 4, 8, 1, 3, 7, 2, 9, 1, 2, 9, 5, 3,\n",
      "                   5, 6, 7, 9, 5, 6, 9, 1, 9, 0, 3, 0, 6, 0, 8, 1, 8, 7, 2, 8, 9, 8, 4, 2])),\n",
      "               names=('seeds', 'labels'),\n",
      "           ),\n",
      "           test_set=ItemSet(\n",
      "               items=(tensor([687, 281, 473, 344, 808, 946, 940, 265, 716, 945, 545, 418, 790, 852,\n",
      "                   536,  28, 260, 677, 411, 682, 708, 263, 967, 244, 490, 397, 370, 513,\n",
      "                   676, 227,  62, 113, 400, 298, 819, 799, 315, 925,   7, 723, 217, 703,\n",
      "                   570, 901, 375, 445, 571, 584,   9, 355, 951, 845, 769, 707, 933, 262,\n",
      "                   203, 360, 346, 427, 406, 950, 489,  95, 222, 567, 196, 462, 520, 158,\n",
      "                   742, 627, 421, 386, 770, 521,  30, 264, 575, 474, 585, 251, 928, 102,\n",
      "                   776,  14,  40, 974, 292, 440, 458, 493, 888, 491,  43, 466, 228, 954,\n",
      "                   186, 805, 252, 250, 139, 729, 931, 773, 840, 726, 783, 935, 680, 163,\n",
      "                   614, 407, 837, 378, 311, 979, 205, 192, 326, 417,  84, 683, 223, 916,\n",
      "                   857, 760, 137, 393, 824, 973, 231, 963, 942, 556,  38, 779, 165, 890,\n",
      "                   525, 171, 408, 405,  15, 579, 671, 869,  76, 172, 620, 181, 941, 586,\n",
      "                    13, 529, 970, 693, 338, 774, 637, 336, 358, 339, 282, 807, 701, 561,\n",
      "                   975, 290, 467, 696, 160, 642, 737, 546, 431, 169, 996, 429, 738,  51,\n",
      "                   834, 270, 296, 689, 149, 550, 899,  97,  37,  48, 380, 177, 450, 178,\n",
      "                   167, 775, 523,  21], dtype=torch.int32), tensor([7, 8, 9, 8, 8, 4, 3, 0, 2, 9, 5, 8, 2, 6, 2, 8, 1, 4, 0, 2, 9, 1, 0, 3,\n",
      "                   5, 5, 6, 8, 7, 6, 4, 5, 0, 7, 8, 6, 7, 6, 6, 1, 7, 2, 7, 0, 1, 9, 9, 2,\n",
      "                   9, 5, 5, 3, 1, 2, 2, 8, 7, 4, 5, 8, 8, 4, 0, 0, 0, 2, 7, 3, 5, 2, 6, 1,\n",
      "                   9, 6, 1, 6, 2, 4, 2, 9, 0, 5, 5, 1, 7, 5, 0, 5, 0, 7, 8, 8, 5, 5, 5, 3,\n",
      "                   4, 7, 6, 9, 5, 8, 3, 6, 9, 7, 8, 8, 0, 8, 3, 2, 2, 1, 2, 2, 9, 2, 6, 3,\n",
      "                   6, 3, 4, 4, 9, 5, 6, 0, 7, 0, 6, 2, 2, 7, 5, 8, 7, 3, 4, 4, 5, 2, 6, 4,\n",
      "                   5, 4, 5, 9, 5, 9, 9, 3, 2, 5, 6, 5, 5, 8, 1, 9, 4, 7, 0, 2, 4, 7, 4, 8,\n",
      "                   6, 4, 2, 8, 0, 7, 5, 8, 4, 2, 1, 0, 4, 9, 2, 2, 4, 4, 5, 4, 4, 4, 0, 1,\n",
      "                   2, 0, 0, 0, 1, 0, 0, 6])),\n",
      "               names=('seeds', 'labels'),\n",
      "           ),\n",
      "           metadata={'name': 'node_classification', 'num_classes': 10},)\n",
      "\n",
      "Loaded link prediction task: OnDiskTask(validation_set=ItemSet(\n",
      "               items=(tensor([[ 47, 336],\n",
      "                   [741, 683],\n",
      "                   [ 90, 418],\n",
      "                   ...,\n",
      "                   [533, 416],\n",
      "                   [533, 262],\n",
      "                   [533, 805]], dtype=torch.int32), tensor([1., 1., 1.,  ..., 0., 0., 0.], dtype=torch.float64), tensor([   0,    1,    2,  ..., 1999, 1999, 1999])),\n",
      "               names=('seeds', 'labels', 'indexes'),\n",
      "           ),\n",
      "           train_set=ItemSet(\n",
      "               items=(tensor([[ 82, 481],\n",
      "                   [ 60, 444],\n",
      "                   [ 12, 319],\n",
      "                   ...,\n",
      "                   [698, 813],\n",
      "                   [567, 401],\n",
      "                   [334, 789]], dtype=torch.int32),),\n",
      "               names=('seeds',),\n",
      "           ),\n",
      "           test_set=ItemSet(\n",
      "               items=(tensor([[231, 247],\n",
      "                   [709, 167],\n",
      "                   [664, 331],\n",
      "                   ...,\n",
      "                   [114, 579],\n",
      "                   [114, 209],\n",
      "                   [114, 343]], dtype=torch.int32), tensor([1., 1., 1.,  ..., 0., 0., 0.], dtype=torch.float64), tensor([   0,    1,    2,  ..., 1999, 1999, 1999])),\n",
      "               names=('seeds', 'labels', 'indexes'),\n",
      "           ),\n",
      "           metadata={'name': 'link_prediction', 'num_classes': 10},)\n",
      "\n"
     ]
    },
    {
     "name": "stderr",
     "output_type": "stream",
     "text": [
      "/dgl/python/dgl/graphbolt/impl/ondisk_dataset.py:463: GBWarning: Edge feature is stored, but edge IDs are not saved.\n",
      "  gb_warning(\"Edge feature is stored, but edge IDs are not saved.\")\n"
     ]
    }
   ],
   "source": [
    "dataset = gb.OnDiskDataset(base_dir).load()\n",
    "graph = dataset.graph\n",
    "print(f\"Loaded graph: {graph}\\n\")\n",
    "\n",
    "feature = dataset.feature\n",
    "print(f\"Loaded feature store: {feature}\\n\")\n",
    "\n",
    "tasks = dataset.tasks\n",
    "nc_task = tasks[0]\n",
    "print(f\"Loaded node classification task: {nc_task}\\n\")\n",
    "lp_task = tasks[1]\n",
    "print(f\"Loaded link prediction task: {lp_task}\\n\")"
   ]
  }
 ],
 "metadata": {
  "colab": {
   "private_outputs": true,
   "provenance": []
  },
  "kernelspec": {
   "display_name": "Python 3",
   "name": "python3"
  },
  "language_info": {
   "codemirror_mode": {
    "name": "ipython",
    "version": 3
   },
   "file_extension": ".py",
   "mimetype": "text/x-python",
   "name": "python",
   "nbconvert_exporter": "python",
   "pygments_lexer": "ipython3",
   "version": "3.10.15"
  }
 },
 "nbformat": 4,
 "nbformat_minor": 0
}

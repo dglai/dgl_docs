{
 "cells": [
  {
   "cell_type": "markdown",
   "metadata": {
    "id": "FnFhPMaAfLtJ"
   },
   "source": [
    "# OnDiskDataset for Homogeneous Graph\n",
    "\n",
    "[![Open In Colab](https://colab.research.google.com/assets/colab-badge.svg)](https://colab.research.google.com/github/dmlc/dgl/blob/master/notebooks/stochastic_training/ondisk_dataset_homograph.ipynb) [![GitHub](https://img.shields.io/badge/-View%20on%20GitHub-181717?logo=github&logoColor=ffffff)](https://github.com/dmlc/dgl/blob/master/notebooks/stochastic_training/ondisk_dataset_homograph.ipynb)\n",
    "\n",
    "This tutorial shows how to create `OnDiskDataset` for homogeneous graph that could be used in **GraphBolt** framework.\n",
    "\n",
    "By the end of this tutorial, you will be able to\n",
    "\n",
    "- organize graph structure data.\n",
    "- organize feature data.\n",
    "- organize training/validation/test set for specific tasks.\n",
    "\n",
    "To create an ``OnDiskDataset`` object, you need to organize all the data including graph structure, feature data and tasks into a directory. The directory should contain a ``metadata.yaml`` file that describes the metadata of the dataset.\n",
    "\n",
    "Now let's generate various data step by step and organize them together to instantiate `OnDiskDataset` finally."
   ]
  },
  {
   "cell_type": "markdown",
   "metadata": {
    "id": "Wlb19DtWgtzq"
   },
   "source": [
    "## Install DGL package"
   ]
  },
  {
   "cell_type": "code",
   "execution_count": 1,
   "metadata": {
    "execution": {
     "iopub.execute_input": "2024-10-24T21:36:23.787473Z",
     "iopub.status.busy": "2024-10-24T21:36:23.787186Z",
     "iopub.status.idle": "2024-10-24T21:36:26.834266Z",
     "shell.execute_reply": "2024-10-24T21:36:26.832709Z"
    },
    "id": "UojlT9ZGgyr9"
   },
   "outputs": [
    {
     "name": "stdout",
     "output_type": "stream",
     "text": [
      "Looking in links: https://data.dgl.ai/wheels-test/repo.html\r\n",
      "Requirement already satisfied: dgl in /opt/conda/envs/dgl-dev-cpu/lib/python3.10/site-packages (2.2a240410)\r\n",
      "Requirement already satisfied: numpy>=1.14.0 in /opt/conda/envs/dgl-dev-cpu/lib/python3.10/site-packages (from dgl) (1.26.4)\r\n",
      "Requirement already satisfied: scipy>=1.1.0 in /opt/conda/envs/dgl-dev-cpu/lib/python3.10/site-packages (from dgl) (1.14.1)\r\n",
      "Requirement already satisfied: networkx>=2.1 in /opt/conda/envs/dgl-dev-cpu/lib/python3.10/site-packages (from dgl) (3.4.2)\r\n",
      "Requirement already satisfied: requests>=2.19.0 in /opt/conda/envs/dgl-dev-cpu/lib/python3.10/site-packages (from dgl) (2.32.3)\r\n",
      "Requirement already satisfied: tqdm in /opt/conda/envs/dgl-dev-cpu/lib/python3.10/site-packages (from dgl) (4.66.5)\r\n",
      "Requirement already satisfied: psutil>=5.8.0 in /opt/conda/envs/dgl-dev-cpu/lib/python3.10/site-packages (from dgl) (6.1.0)\r\n",
      "Requirement already satisfied: torchdata>=0.5.0 in /opt/conda/envs/dgl-dev-cpu/lib/python3.10/site-packages (from dgl) (0.9.0)\r\n",
      "Requirement already satisfied: pandas in /opt/conda/envs/dgl-dev-cpu/lib/python3.10/site-packages (from dgl) (2.2.3)\r\n"
     ]
    },
    {
     "name": "stdout",
     "output_type": "stream",
     "text": [
      "Requirement already satisfied: charset-normalizer<4,>=2 in /opt/conda/envs/dgl-dev-cpu/lib/python3.10/site-packages (from requests>=2.19.0->dgl) (3.4.0)\r\n",
      "Requirement already satisfied: idna<4,>=2.5 in /opt/conda/envs/dgl-dev-cpu/lib/python3.10/site-packages (from requests>=2.19.0->dgl) (3.10)\r\n",
      "Requirement already satisfied: urllib3<3,>=1.21.1 in /opt/conda/envs/dgl-dev-cpu/lib/python3.10/site-packages (from requests>=2.19.0->dgl) (2.2.3)\r\n",
      "Requirement already satisfied: certifi>=2017.4.17 in /opt/conda/envs/dgl-dev-cpu/lib/python3.10/site-packages (from requests>=2.19.0->dgl) (2024.8.30)\r\n",
      "Requirement already satisfied: torch>=2 in /opt/conda/envs/dgl-dev-cpu/lib/python3.10/site-packages (from torchdata>=0.5.0->dgl) (2.1.0+cpu)\r\n"
     ]
    },
    {
     "name": "stdout",
     "output_type": "stream",
     "text": [
      "Requirement already satisfied: python-dateutil>=2.8.2 in /opt/conda/envs/dgl-dev-cpu/lib/python3.10/site-packages (from pandas->dgl) (2.9.0.post0)\r\n",
      "Requirement already satisfied: pytz>=2020.1 in /opt/conda/envs/dgl-dev-cpu/lib/python3.10/site-packages (from pandas->dgl) (2024.2)\r\n",
      "Requirement already satisfied: tzdata>=2022.7 in /opt/conda/envs/dgl-dev-cpu/lib/python3.10/site-packages (from pandas->dgl) (2024.2)\r\n",
      "Requirement already satisfied: six>=1.5 in /opt/conda/envs/dgl-dev-cpu/lib/python3.10/site-packages (from python-dateutil>=2.8.2->pandas->dgl) (1.16.0)\r\n",
      "Requirement already satisfied: filelock in /opt/conda/envs/dgl-dev-cpu/lib/python3.10/site-packages (from torch>=2->torchdata>=0.5.0->dgl) (3.16.1)\r\n",
      "Requirement already satisfied: typing-extensions in /opt/conda/envs/dgl-dev-cpu/lib/python3.10/site-packages (from torch>=2->torchdata>=0.5.0->dgl) (4.12.2)\r\n",
      "Requirement already satisfied: sympy in /opt/conda/envs/dgl-dev-cpu/lib/python3.10/site-packages (from torch>=2->torchdata>=0.5.0->dgl) (1.13.3)\r\n",
      "Requirement already satisfied: jinja2 in /opt/conda/envs/dgl-dev-cpu/lib/python3.10/site-packages (from torch>=2->torchdata>=0.5.0->dgl) (3.1.4)\r\n",
      "Requirement already satisfied: fsspec in /opt/conda/envs/dgl-dev-cpu/lib/python3.10/site-packages (from torch>=2->torchdata>=0.5.0->dgl) (2024.10.0)\r\n"
     ]
    },
    {
     "name": "stdout",
     "output_type": "stream",
     "text": [
      "Requirement already satisfied: MarkupSafe>=2.0 in /opt/conda/envs/dgl-dev-cpu/lib/python3.10/site-packages (from jinja2->torch>=2->torchdata>=0.5.0->dgl) (3.0.2)\r\n",
      "Requirement already satisfied: mpmath<1.4,>=1.1.0 in /opt/conda/envs/dgl-dev-cpu/lib/python3.10/site-packages (from sympy->torch>=2->torchdata>=0.5.0->dgl) (1.3.0)\r\n"
     ]
    },
    {
     "name": "stdout",
     "output_type": "stream",
     "text": [
      "\u001b[33mWARNING: Running pip as the 'root' user can result in broken permissions and conflicting behaviour with the system package manager, possibly rendering your system unusable.It is recommended to use a virtual environment instead: https://pip.pypa.io/warnings/venv. Use the --root-user-action option if you know what you are doing and want to suppress this warning.\u001b[0m\u001b[33m\r\n",
      "\u001b[0m"
     ]
    },
    {
     "name": "stdout",
     "output_type": "stream",
     "text": [
      "DGL installed!\n"
     ]
    }
   ],
   "source": [
    "# Install required packages.\n",
    "import os\n",
    "import torch\n",
    "import numpy as np\n",
    "os.environ['TORCH'] = torch.__version__\n",
    "os.environ['DGLBACKEND'] = \"pytorch\"\n",
    "\n",
    "# Install the CPU version.\n",
    "device = torch.device(\"cpu\")\n",
    "!pip install --pre dgl -f https://data.dgl.ai/wheels-test/repo.html\n",
    "\n",
    "try:\n",
    "    import dgl\n",
    "    import dgl.graphbolt as gb\n",
    "    installed = True\n",
    "except ImportError as error:\n",
    "    installed = False\n",
    "    print(error)\n",
    "print(\"DGL installed!\" if installed else \"DGL not found!\")"
   ]
  },
  {
   "cell_type": "markdown",
   "metadata": {
    "id": "2R7WnSbjsfbr"
   },
   "source": [
    "## Data preparation\n",
    "In order to demonstrate how to organize various data, let's create a base directory first."
   ]
  },
  {
   "cell_type": "code",
   "execution_count": 2,
   "metadata": {
    "execution": {
     "iopub.execute_input": "2024-10-24T21:36:26.837581Z",
     "iopub.status.busy": "2024-10-24T21:36:26.836826Z",
     "iopub.status.idle": "2024-10-24T21:36:26.842030Z",
     "shell.execute_reply": "2024-10-24T21:36:26.841333Z"
    },
    "id": "SZipbzyltLfO"
   },
   "outputs": [
    {
     "name": "stdout",
     "output_type": "stream",
     "text": [
      "Created base directory: ./ondisk_dataset_homograph\n"
     ]
    }
   ],
   "source": [
    "base_dir = './ondisk_dataset_homograph'\n",
    "os.makedirs(base_dir, exist_ok=True)\n",
    "print(f\"Created base directory: {base_dir}\")"
   ]
  },
  {
   "cell_type": "markdown",
   "metadata": {
    "id": "qhNtIn_xhlnl"
   },
   "source": [
    "### Generate graph structure data\n",
    "For homogeneous graph, we just need to save edges(namely seeds) into  **Numpy** or **CSV** file.\n",
    "\n",
    "Note:\n",
    "- when saving to **Numpy**, the array requires to be in shape of `(2, N)`. This format is recommended as constructing graph from it is much faster than **CSV** file.\n",
    "- when saving to **CSV** file, do not save index and header.\n"
   ]
  },
  {
   "cell_type": "code",
   "execution_count": 3,
   "metadata": {
    "execution": {
     "iopub.execute_input": "2024-10-24T21:36:26.844545Z",
     "iopub.status.busy": "2024-10-24T21:36:26.844215Z",
     "iopub.status.idle": "2024-10-24T21:36:26.857663Z",
     "shell.execute_reply": "2024-10-24T21:36:26.856947Z"
    },
    "id": "HcBt4G5BmSjr"
   },
   "outputs": [
    {
     "name": "stdout",
     "output_type": "stream",
     "text": [
      "Part of edges: [[139 636]\n",
      " [903  11]\n",
      " [632 220]\n",
      " [747 458]\n",
      " [698 308]]\n",
      "Edges are saved into ./ondisk_dataset_homograph/edges.csv\n"
     ]
    }
   ],
   "source": [
    "import numpy as np\n",
    "import pandas as pd\n",
    "num_nodes = 1000\n",
    "num_edges = 10 * num_nodes\n",
    "edges_path = os.path.join(base_dir, \"edges.csv\")\n",
    "edges = np.random.randint(0, num_nodes, size=(num_edges, 2))\n",
    "\n",
    "print(f\"Part of edges: {edges[:5, :]}\")\n",
    "\n",
    "df = pd.DataFrame(edges)\n",
    "df.to_csv(edges_path, index=False, header=False)\n",
    "\n",
    "print(f\"Edges are saved into {edges_path}\")"
   ]
  },
  {
   "cell_type": "markdown",
   "metadata": {
    "id": "kh-4cPtzpcaH"
   },
   "source": [
    "### Generate feature data for graph\n",
    "For feature data, numpy arrays and torch tensors are supported for now."
   ]
  },
  {
   "cell_type": "code",
   "execution_count": 4,
   "metadata": {
    "execution": {
     "iopub.execute_input": "2024-10-24T21:36:26.860036Z",
     "iopub.status.busy": "2024-10-24T21:36:26.859834Z",
     "iopub.status.idle": "2024-10-24T21:36:26.873498Z",
     "shell.execute_reply": "2024-10-24T21:36:26.872752Z"
    },
    "id": "_PVu1u5brBhF"
   },
   "outputs": [
    {
     "name": "stdout",
     "output_type": "stream",
     "text": [
      "Part of node feature [feat_0]: [[0.36501401 0.27390178 0.19152762 0.22451262 0.16863925]\n",
      " [0.96007006 0.13384676 0.42163151 0.32432004 0.8715876 ]\n",
      " [0.22307788 0.69330161 0.15537882 0.37271097 0.86056167]]\n",
      "Node feature [feat_0] is saved to ./ondisk_dataset_homograph/node-feat-0.npy\n",
      "\n",
      "Part of node feature [feat_1]: tensor([[4.4102e-01, 5.1539e-01, 4.3658e-01, 3.9253e-02, 8.6654e-01],\n",
      "        [1.1132e-01, 6.4994e-01, 1.2177e-02, 3.0220e-05, 1.4483e-01],\n",
      "        [9.4587e-01, 2.1888e-01, 3.2582e-01, 7.3553e-01, 9.6388e-01]])\n",
      "Node feature [feat_1] is saved to ./ondisk_dataset_homograph/node-feat-1.pt\n",
      "\n",
      "Part of edge feature [feat_0]: [[0.90547908 0.86005139 0.7600131  0.57379607 0.06396617]\n",
      " [0.59743415 0.86454963 0.39644471 0.39463212 0.78650189]\n",
      " [0.48711469 0.11043973 0.65634967 0.32199518 0.80275115]]\n",
      "Edge feature [feat_0] is saved to ./ondisk_dataset_homograph/edge-feat-0.npy\n",
      "\n",
      "Part of edge feature [feat_1]: tensor([[0.5290, 0.2158, 0.8827, 0.8099, 0.5819],\n",
      "        [0.9676, 0.4271, 0.0373, 0.2051, 0.0246],\n",
      "        [0.4575, 0.7100, 0.1930, 0.8766, 0.3741]])\n",
      "Edge feature [feat_1] is saved to ./ondisk_dataset_homograph/edge-feat-1.pt\n",
      "\n"
     ]
    }
   ],
   "source": [
    "# Generate node feature in numpy array.\n",
    "node_feat_0_path = os.path.join(base_dir, \"node-feat-0.npy\")\n",
    "node_feat_0 = np.random.rand(num_nodes, 5)\n",
    "print(f\"Part of node feature [feat_0]: {node_feat_0[:3, :]}\")\n",
    "np.save(node_feat_0_path, node_feat_0)\n",
    "print(f\"Node feature [feat_0] is saved to {node_feat_0_path}\\n\")\n",
    "\n",
    "# Generate another node feature in torch tensor\n",
    "node_feat_1_path = os.path.join(base_dir, \"node-feat-1.pt\")\n",
    "node_feat_1 = torch.rand(num_nodes, 5)\n",
    "print(f\"Part of node feature [feat_1]: {node_feat_1[:3, :]}\")\n",
    "torch.save(node_feat_1, node_feat_1_path)\n",
    "print(f\"Node feature [feat_1] is saved to {node_feat_1_path}\\n\")\n",
    "\n",
    "# Generate edge feature in numpy array.\n",
    "edge_feat_0_path = os.path.join(base_dir, \"edge-feat-0.npy\")\n",
    "edge_feat_0 = np.random.rand(num_edges, 5)\n",
    "print(f\"Part of edge feature [feat_0]: {edge_feat_0[:3, :]}\")\n",
    "np.save(edge_feat_0_path, edge_feat_0)\n",
    "print(f\"Edge feature [feat_0] is saved to {edge_feat_0_path}\\n\")\n",
    "\n",
    "# Generate another edge feature in torch tensor\n",
    "edge_feat_1_path = os.path.join(base_dir, \"edge-feat-1.pt\")\n",
    "edge_feat_1 = torch.rand(num_edges, 5)\n",
    "print(f\"Part of edge feature [feat_1]: {edge_feat_1[:3, :]}\")\n",
    "torch.save(edge_feat_1, edge_feat_1_path)\n",
    "print(f\"Edge feature [feat_1] is saved to {edge_feat_1_path}\\n\")\n"
   ]
  },
  {
   "cell_type": "markdown",
   "metadata": {
    "id": "ZyqgOtsIwzh_"
   },
   "source": [
    "### Generate tasks\n",
    "`OnDiskDataset` supports multiple tasks. For each task, we need to prepare training/validation/test sets respectively. Such sets usually vary among different tasks. In this tutorial, let's create a **Node Classification** task and **Link Prediction** task."
   ]
  },
  {
   "cell_type": "markdown",
   "metadata": {
    "id": "hVxHaDIfzCkr"
   },
   "source": [
    "#### Node Classification Task\n",
    "For node classification task, we need **node IDs** and corresponding **labels** for each training/validation/test set. Like feature data, numpy arrays and torch tensors are supported for these sets."
   ]
  },
  {
   "cell_type": "code",
   "execution_count": 5,
   "metadata": {
    "execution": {
     "iopub.execute_input": "2024-10-24T21:36:26.875734Z",
     "iopub.status.busy": "2024-10-24T21:36:26.875331Z",
     "iopub.status.idle": "2024-10-24T21:36:26.886711Z",
     "shell.execute_reply": "2024-10-24T21:36:26.886028Z"
    },
    "id": "S5-fyBbHzTCO"
   },
   "outputs": [
    {
     "name": "stdout",
     "output_type": "stream",
     "text": [
      "Part of train ids for node classification: [982 654 561]\n",
      "NC train ids are saved to ./ondisk_dataset_homograph/nc-train-ids.npy\n",
      "\n",
      "Part of train labels for node classification: tensor([4, 0, 9])\n",
      "NC train labels are saved to ./ondisk_dataset_homograph/nc-train-labels.pt\n",
      "\n",
      "Part of val ids for node classification: [906 608  61]\n",
      "NC val ids are saved to ./ondisk_dataset_homograph/nc-val-ids.npy\n",
      "\n",
      "Part of val labels for node classification: tensor([6, 3, 3])\n",
      "NC val labels are saved to ./ondisk_dataset_homograph/nc-val-labels.pt\n",
      "\n",
      "Part of test ids for node classification: [392 443 660]\n",
      "NC test ids are saved to ./ondisk_dataset_homograph/nc-test-ids.npy\n",
      "\n",
      "Part of test labels for node classification: tensor([7, 4, 2])\n",
      "NC test labels are saved to ./ondisk_dataset_homograph/nc-test-labels.pt\n",
      "\n"
     ]
    }
   ],
   "source": [
    "num_trains = int(num_nodes * 0.6)\n",
    "num_vals = int(num_nodes * 0.2)\n",
    "num_tests = num_nodes - num_trains - num_vals\n",
    "\n",
    "ids = np.arange(num_nodes)\n",
    "np.random.shuffle(ids)\n",
    "\n",
    "nc_train_ids_path = os.path.join(base_dir, \"nc-train-ids.npy\")\n",
    "nc_train_ids = ids[:num_trains]\n",
    "print(f\"Part of train ids for node classification: {nc_train_ids[:3]}\")\n",
    "np.save(nc_train_ids_path, nc_train_ids)\n",
    "print(f\"NC train ids are saved to {nc_train_ids_path}\\n\")\n",
    "\n",
    "nc_train_labels_path = os.path.join(base_dir, \"nc-train-labels.pt\")\n",
    "nc_train_labels = torch.randint(0, 10, (num_trains,))\n",
    "print(f\"Part of train labels for node classification: {nc_train_labels[:3]}\")\n",
    "torch.save(nc_train_labels, nc_train_labels_path)\n",
    "print(f\"NC train labels are saved to {nc_train_labels_path}\\n\")\n",
    "\n",
    "nc_val_ids_path = os.path.join(base_dir, \"nc-val-ids.npy\")\n",
    "nc_val_ids = ids[num_trains:num_trains+num_vals]\n",
    "print(f\"Part of val ids for node classification: {nc_val_ids[:3]}\")\n",
    "np.save(nc_val_ids_path, nc_val_ids)\n",
    "print(f\"NC val ids are saved to {nc_val_ids_path}\\n\")\n",
    "\n",
    "nc_val_labels_path = os.path.join(base_dir, \"nc-val-labels.pt\")\n",
    "nc_val_labels = torch.randint(0, 10, (num_vals,))\n",
    "print(f\"Part of val labels for node classification: {nc_val_labels[:3]}\")\n",
    "torch.save(nc_val_labels, nc_val_labels_path)\n",
    "print(f\"NC val labels are saved to {nc_val_labels_path}\\n\")\n",
    "\n",
    "nc_test_ids_path = os.path.join(base_dir, \"nc-test-ids.npy\")\n",
    "nc_test_ids = ids[-num_tests:]\n",
    "print(f\"Part of test ids for node classification: {nc_test_ids[:3]}\")\n",
    "np.save(nc_test_ids_path, nc_test_ids)\n",
    "print(f\"NC test ids are saved to {nc_test_ids_path}\\n\")\n",
    "\n",
    "nc_test_labels_path = os.path.join(base_dir, \"nc-test-labels.pt\")\n",
    "nc_test_labels = torch.randint(0, 10, (num_tests,))\n",
    "print(f\"Part of test labels for node classification: {nc_test_labels[:3]}\")\n",
    "torch.save(nc_test_labels, nc_test_labels_path)\n",
    "print(f\"NC test labels are saved to {nc_test_labels_path}\\n\")"
   ]
  },
  {
   "cell_type": "markdown",
   "metadata": {
    "id": "LhAcDCHQ_KJ0"
   },
   "source": [
    "#### Link Prediction Task\n",
    "For link prediction task, we need **seeds** or **corresponding labels and indexes** which representing the pos/neg property and group of the seeds for each training/validation/test set. Like feature data, numpy arrays and torch tensors are supported for these sets."
   ]
  },
  {
   "cell_type": "code",
   "execution_count": 6,
   "metadata": {
    "execution": {
     "iopub.execute_input": "2024-10-24T21:36:26.888707Z",
     "iopub.status.busy": "2024-10-24T21:36:26.888343Z",
     "iopub.status.idle": "2024-10-24T21:36:26.906674Z",
     "shell.execute_reply": "2024-10-24T21:36:26.905651Z"
    },
    "id": "u0jCnXIcAQy4"
   },
   "outputs": [
    {
     "name": "stdout",
     "output_type": "stream",
     "text": [
      "Part of train seeds for link prediction: [[139 636]\n",
      " [903  11]\n",
      " [632 220]]\n",
      "LP train seeds are saved to ./ondisk_dataset_homograph/lp-train-seeds.npy\n",
      "\n",
      "Part of val seeds for link prediction: [[752  55]\n",
      " [692 490]\n",
      " [364 701]]\n",
      "LP val seeds are saved to ./ondisk_dataset_homograph/lp-val-seeds.npy\n",
      "\n",
      "Part of val labels for link prediction: [1. 1. 1.]\n",
      "LP val labels are saved to ./ondisk_dataset_homograph/lp-val-labels.npy\n",
      "\n",
      "Part of val indexes for link prediction: [0 1 2]\n",
      "LP val indexes are saved to ./ondisk_dataset_homograph/lp-val-indexes.npy\n",
      "\n",
      "Part of test seeds for link prediction: [[889 400]\n",
      " [951 849]\n",
      " [101 686]]\n",
      "LP test seeds are saved to ./ondisk_dataset_homograph/lp-test-seeds.npy\n",
      "\n",
      "Part of val labels for link prediction: [1. 1. 1.]\n",
      "LP test labels are saved to ./ondisk_dataset_homograph/lp-test-labels.npy\n",
      "\n",
      "Part of test indexes for link prediction: [0 1 2]\n",
      "LP test indexes are saved to ./ondisk_dataset_homograph/lp-test-indexes.npy\n",
      "\n"
     ]
    }
   ],
   "source": [
    "num_trains = int(num_edges * 0.6)\n",
    "num_vals = int(num_edges * 0.2)\n",
    "num_tests = num_edges - num_trains - num_vals\n",
    "\n",
    "lp_train_seeds_path = os.path.join(base_dir, \"lp-train-seeds.npy\")\n",
    "lp_train_seeds = edges[:num_trains, :]\n",
    "print(f\"Part of train seeds for link prediction: {lp_train_seeds[:3]}\")\n",
    "np.save(lp_train_seeds_path, lp_train_seeds)\n",
    "print(f\"LP train seeds are saved to {lp_train_seeds_path}\\n\")\n",
    "\n",
    "lp_val_seeds_path = os.path.join(base_dir, \"lp-val-seeds.npy\")\n",
    "lp_val_seeds = edges[num_trains:num_trains+num_vals, :]\n",
    "lp_val_neg_dsts = np.random.randint(0, num_nodes, (num_vals, 10)).reshape(-1)\n",
    "lp_val_neg_srcs = np.repeat(lp_val_seeds[:,0], 10)\n",
    "lp_val_neg_seeds = np.concatenate((lp_val_neg_srcs, lp_val_neg_dsts)).reshape(2,-1).T\n",
    "lp_val_seeds = np.concatenate((lp_val_seeds, lp_val_neg_seeds))\n",
    "print(f\"Part of val seeds for link prediction: {lp_val_seeds[:3]}\")\n",
    "np.save(lp_val_seeds_path, lp_val_seeds)\n",
    "print(f\"LP val seeds are saved to {lp_val_seeds_path}\\n\")\n",
    "\n",
    "lp_val_labels_path = os.path.join(base_dir, \"lp-val-labels.npy\")\n",
    "lp_val_labels = np.empty(num_vals * (10 + 1))\n",
    "lp_val_labels[:num_vals] = 1\n",
    "lp_val_labels[num_vals:] = 0\n",
    "print(f\"Part of val labels for link prediction: {lp_val_labels[:3]}\")\n",
    "np.save(lp_val_labels_path, lp_val_labels)\n",
    "print(f\"LP val labels are saved to {lp_val_labels_path}\\n\")\n",
    "\n",
    "lp_val_indexes_path = os.path.join(base_dir, \"lp-val-indexes.npy\")\n",
    "lp_val_indexes = np.arange(0, num_vals)\n",
    "lp_val_neg_indexes = np.repeat(lp_val_indexes, 10)\n",
    "lp_val_indexes = np.concatenate([lp_val_indexes, lp_val_neg_indexes])\n",
    "print(f\"Part of val indexes for link prediction: {lp_val_indexes[:3]}\")\n",
    "np.save(lp_val_indexes_path, lp_val_indexes)\n",
    "print(f\"LP val indexes are saved to {lp_val_indexes_path}\\n\")\n",
    "\n",
    "lp_test_seeds_path = os.path.join(base_dir, \"lp-test-seeds.npy\")\n",
    "lp_test_seeds = edges[-num_tests:, :]\n",
    "lp_test_neg_dsts = np.random.randint(0, num_nodes, (num_tests, 10)).reshape(-1)\n",
    "lp_test_neg_srcs = np.repeat(lp_test_seeds[:,0], 10)\n",
    "lp_test_neg_seeds = np.concatenate((lp_test_neg_srcs, lp_test_neg_dsts)).reshape(2,-1).T\n",
    "lp_test_seeds = np.concatenate((lp_test_seeds, lp_test_neg_seeds))\n",
    "print(f\"Part of test seeds for link prediction: {lp_test_seeds[:3]}\")\n",
    "np.save(lp_test_seeds_path, lp_test_seeds)\n",
    "print(f\"LP test seeds are saved to {lp_test_seeds_path}\\n\")\n",
    "\n",
    "lp_test_labels_path = os.path.join(base_dir, \"lp-test-labels.npy\")\n",
    "lp_test_labels = np.empty(num_tests * (10 + 1))\n",
    "lp_test_labels[:num_tests] = 1\n",
    "lp_test_labels[num_tests:] = 0\n",
    "print(f\"Part of val labels for link prediction: {lp_test_labels[:3]}\")\n",
    "np.save(lp_test_labels_path, lp_test_labels)\n",
    "print(f\"LP test labels are saved to {lp_test_labels_path}\\n\")\n",
    "\n",
    "lp_test_indexes_path = os.path.join(base_dir, \"lp-test-indexes.npy\")\n",
    "lp_test_indexes = np.arange(0, num_tests)\n",
    "lp_test_neg_indexes = np.repeat(lp_test_indexes, 10)\n",
    "lp_test_indexes = np.concatenate([lp_test_indexes, lp_test_neg_indexes])\n",
    "print(f\"Part of test indexes for link prediction: {lp_test_indexes[:3]}\")\n",
    "np.save(lp_test_indexes_path, lp_test_indexes)\n",
    "print(f\"LP test indexes are saved to {lp_test_indexes_path}\\n\")"
   ]
  },
  {
   "cell_type": "markdown",
   "metadata": {
    "id": "wbk6-wxRK-6S"
   },
   "source": [
    "## Organize Data into YAML File\n",
    "Now we need to create a `metadata.yaml` file which contains the paths, dadta types of graph structure, feature data, training/validation/test sets.\n",
    "\n",
    "Notes:\n",
    "- all path should be relative to `metadata.yaml`.\n",
    "- Below fields are optional and not specified in below example.\n",
    "  - `in_memory`: indicates whether to load dada into memory or `mmap`. Default is `True`.\n",
    "\n",
    "Please refer to [YAML specification](https://github.com/dmlc/dgl/blob/master/docs/source/stochastic_training/ondisk-dataset-specification.rst) for more details."
   ]
  },
  {
   "cell_type": "code",
   "execution_count": 7,
   "metadata": {
    "execution": {
     "iopub.execute_input": "2024-10-24T21:36:26.908908Z",
     "iopub.status.busy": "2024-10-24T21:36:26.908568Z",
     "iopub.status.idle": "2024-10-24T21:36:26.913945Z",
     "shell.execute_reply": "2024-10-24T21:36:26.913426Z"
    },
    "id": "ddGTWW61Lpwp"
   },
   "outputs": [],
   "source": [
    "yaml_content = f\"\"\"\n",
    "    dataset_name: homogeneous_graph_nc_lp\n",
    "    graph:\n",
    "      nodes:\n",
    "        - num: {num_nodes}\n",
    "      edges:\n",
    "        - format: csv\n",
    "          path: {os.path.basename(edges_path)}\n",
    "    feature_data:\n",
    "      - domain: node\n",
    "        name: feat_0\n",
    "        format: numpy\n",
    "        path: {os.path.basename(node_feat_0_path)}\n",
    "      - domain: node\n",
    "        name: feat_1\n",
    "        format: torch\n",
    "        path: {os.path.basename(node_feat_1_path)}\n",
    "      - domain: edge\n",
    "        name: feat_0\n",
    "        format: numpy\n",
    "        path: {os.path.basename(edge_feat_0_path)}\n",
    "      - domain: edge\n",
    "        name: feat_1\n",
    "        format: torch\n",
    "        path: {os.path.basename(edge_feat_1_path)}\n",
    "    tasks:\n",
    "      - name: node_classification\n",
    "        num_classes: 10\n",
    "        train_set:\n",
    "          - data:\n",
    "              - name: seeds\n",
    "                format: numpy\n",
    "                path: {os.path.basename(nc_train_ids_path)}\n",
    "              - name: labels\n",
    "                format: torch\n",
    "                path: {os.path.basename(nc_train_labels_path)}\n",
    "        validation_set:\n",
    "          - data:\n",
    "              - name: seeds\n",
    "                format: numpy\n",
    "                path: {os.path.basename(nc_val_ids_path)}\n",
    "              - name: labels\n",
    "                format: torch\n",
    "                path: {os.path.basename(nc_val_labels_path)}\n",
    "        test_set:\n",
    "          - data:\n",
    "              - name: seeds\n",
    "                format: numpy\n",
    "                path: {os.path.basename(nc_test_ids_path)}\n",
    "              - name: labels\n",
    "                format: torch\n",
    "                path: {os.path.basename(nc_test_labels_path)}\n",
    "      - name: link_prediction\n",
    "        num_classes: 10\n",
    "        train_set:\n",
    "          - data:\n",
    "              - name: seeds\n",
    "                format: numpy\n",
    "                path: {os.path.basename(lp_train_seeds_path)}\n",
    "        validation_set:\n",
    "          - data:\n",
    "              - name: seeds\n",
    "                format: numpy\n",
    "                path: {os.path.basename(lp_val_seeds_path)}\n",
    "              - name: labels\n",
    "                format: numpy\n",
    "                path: {os.path.basename(lp_val_labels_path)}\n",
    "              - name: indexes\n",
    "                format: numpy\n",
    "                path: {os.path.basename(lp_val_indexes_path)}\n",
    "        test_set:\n",
    "          - data:\n",
    "              - name: seeds\n",
    "                format: numpy\n",
    "                path: {os.path.basename(lp_test_seeds_path)}\n",
    "              - name: labels\n",
    "                format: numpy\n",
    "                path: {os.path.basename(lp_test_labels_path)}\n",
    "              - name: indexes\n",
    "                format: numpy\n",
    "                path: {os.path.basename(lp_test_indexes_path)}\n",
    "\"\"\"\n",
    "metadata_path = os.path.join(base_dir, \"metadata.yaml\")\n",
    "with open(metadata_path, \"w\") as f:\n",
    "  f.write(yaml_content)"
   ]
  },
  {
   "cell_type": "markdown",
   "metadata": {
    "id": "kEfybHGhOW7O"
   },
   "source": [
    "## Instantiate `OnDiskDataset`\n",
    "Now we're ready to load dataset via `dgl.graphbolt.OnDiskDataset`. When instantiating, we just pass in the base directory where `metadata.yaml` file lies.\n",
    "\n",
    "During first instantiation, GraphBolt preprocesses the raw data such as constructing `FusedCSCSamplingGraph` from edges. All data including graph, feature data, training/validation/test sets are put into `preprocessed` directory after preprocessing. Any following dataset loading will skip the preprocess stage.\n",
    "\n",
    "After preprocessing, `load()` is required to be called explicitly in order to load graph, feature data and tasks."
   ]
  },
  {
   "cell_type": "code",
   "execution_count": 8,
   "metadata": {
    "execution": {
     "iopub.execute_input": "2024-10-24T21:36:26.915675Z",
     "iopub.status.busy": "2024-10-24T21:36:26.915350Z",
     "iopub.status.idle": "2024-10-24T21:36:26.979084Z",
     "shell.execute_reply": "2024-10-24T21:36:26.978496Z"
    },
    "id": "W58CZoSzOiyo"
   },
   "outputs": [
    {
     "name": "stdout",
     "output_type": "stream",
     "text": [
      "Start to preprocess the on-disk dataset.\n",
      "Finish preprocessing the on-disk dataset.\n",
      "Loaded graph: FusedCSCSamplingGraph(csc_indptr=tensor([    0,     8,    15,  ...,  9982,  9995, 10000], dtype=torch.int32),\n",
      "                      indices=tensor([ 64, 478, 574,  ..., 953, 157, 101], dtype=torch.int32),\n",
      "                      total_num_nodes=1000, num_edges=10000,)\n",
      "\n",
      "Loaded feature store: TorchBasedFeatureStore(\n",
      "    {(<OnDiskFeatureDataDomain.NODE: 'node'>, None, 'feat_0'): TorchBasedFeature(\n",
      "        feature=tensor([[0.3650, 0.2739, 0.1915, 0.2245, 0.1686],\n",
      "                        [0.9601, 0.1338, 0.4216, 0.3243, 0.8716],\n",
      "                        [0.2231, 0.6933, 0.1554, 0.3727, 0.8606],\n",
      "                        ...,\n",
      "                        [0.6756, 0.1113, 0.1952, 0.1879, 0.8330],\n",
      "                        [0.3328, 0.1812, 0.9343, 0.3643, 0.0845],\n",
      "                        [0.4107, 0.1109, 0.2796, 0.4524, 0.7532]], dtype=torch.float64),\n",
      "        metadata={},\n",
      "    ), (<OnDiskFeatureDataDomain.NODE: 'node'>, None, 'feat_1'): TorchBasedFeature(\n",
      "        feature=tensor([[4.4102e-01, 5.1539e-01, 4.3658e-01, 3.9253e-02, 8.6654e-01],\n",
      "                        [1.1132e-01, 6.4994e-01, 1.2177e-02, 3.0220e-05, 1.4483e-01],\n",
      "                        [9.4587e-01, 2.1888e-01, 3.2582e-01, 7.3553e-01, 9.6388e-01],\n",
      "                        ...,\n",
      "                        [9.5811e-01, 2.7305e-01, 9.6898e-01, 7.3364e-01, 9.1877e-02],\n",
      "                        [1.6877e-01, 7.2632e-01, 4.5592e-01, 6.2316e-01, 9.5708e-01],\n",
      "                        [9.0150e-01, 6.1468e-01, 7.0309e-01, 5.9496e-01, 9.3561e-01]]),\n",
      "        metadata={},\n",
      "    ), (<OnDiskFeatureDataDomain.EDGE: 'edge'>, None, 'feat_0'): TorchBasedFeature(\n",
      "        feature=tensor([[0.9055, 0.8601, 0.7600, 0.5738, 0.0640],\n",
      "                        [0.5974, 0.8645, 0.3964, 0.3946, 0.7865],\n",
      "                        [0.4871, 0.1104, 0.6563, 0.3220, 0.8028],\n",
      "                        ...,\n",
      "                        [0.3650, 0.2335, 0.7195, 0.3114, 0.2746],\n",
      "                        [0.9777, 0.9782, 0.9926, 0.9907, 0.0364],\n",
      "                        [0.5465, 0.9551, 0.5653, 0.8104, 0.8627]], dtype=torch.float64),\n",
      "        metadata={},\n",
      "    ), (<OnDiskFeatureDataDomain.EDGE: 'edge'>, None, 'feat_1'): TorchBasedFeature(\n",
      "        feature=tensor([[0.5290, 0.2158, 0.8827, 0.8099, 0.5819],\n",
      "                        [0.9676, 0.4271, 0.0373, 0.2051, 0.0246],\n",
      "                        [0.4575, 0.7100, 0.1930, 0.8766, 0.3741],\n",
      "                        ...,\n",
      "                        [0.6198, 0.8917, 0.5271, 0.1761, 0.9304],\n",
      "                        [0.0239, 0.6548, 0.8409, 0.6101, 0.6587],\n",
      "                        [0.9415, 0.2584, 0.2754, 0.7649, 0.8934]]),\n",
      "        metadata={},\n",
      "    )}\n",
      ")\n",
      "\n",
      "Loaded node classification task: OnDiskTask(validation_set=ItemSet(\n",
      "               items=(tensor([906, 608,  61, 386, 776, 506, 417, 491, 579, 182, 276, 119, 948, 797,\n",
      "                   114,  94, 530, 938, 138, 884, 626, 858, 651, 673, 305, 842, 589, 401,\n",
      "                   765,  71, 997, 504, 837, 748, 209, 683, 520, 725,  34, 964, 962, 823,\n",
      "                   380,  74,  11, 180, 556, 178, 675, 351, 616, 255, 342, 355, 597, 845,\n",
      "                   813, 688,  66, 700,  41, 448, 614, 806, 741, 669, 722, 503,  20, 124,\n",
      "                   483, 602,  31, 987, 829, 346,  33, 844, 740,  40, 345, 137, 814, 161,\n",
      "                   730, 678, 466, 343, 151, 957, 712, 747, 980, 642, 578, 527, 226, 246,\n",
      "                   958, 221,  21, 560, 939,  46, 499, 187, 437, 297, 378, 306, 584,  44,\n",
      "                   998,  76, 867, 393, 488, 507, 547, 523, 784, 719, 476, 469, 657, 811,\n",
      "                   686, 126, 442, 511, 625, 349, 271, 900, 111, 648, 619, 411, 348, 756,\n",
      "                   270, 165, 108, 222, 794, 733,   4, 277, 932, 662, 744,  97, 281, 943,\n",
      "                   135, 901, 865, 775, 202, 983, 513, 510, 975, 335, 404, 381, 908, 839,\n",
      "                   870, 441, 536, 631, 128, 354, 314, 599, 876, 977, 189, 150,  48, 237,\n",
      "                   174,   8, 564, 774,  14, 125, 514, 871, 947, 715, 881, 572, 769,  59,\n",
      "                   955, 106, 385, 518], dtype=torch.int32), tensor([6, 3, 3, 2, 7, 9, 9, 6, 3, 4, 3, 3, 0, 3, 2, 7, 4, 7, 2, 6, 0, 4, 7, 2,\n",
      "                   3, 9, 0, 7, 3, 4, 8, 2, 3, 6, 2, 2, 8, 6, 8, 4, 2, 3, 2, 8, 6, 0, 2, 2,\n",
      "                   8, 8, 6, 2, 0, 0, 0, 7, 0, 5, 5, 1, 6, 5, 4, 8, 2, 6, 3, 8, 1, 9, 8, 6,\n",
      "                   2, 2, 3, 2, 9, 2, 3, 6, 2, 3, 3, 7, 1, 8, 3, 9, 2, 8, 9, 5, 1, 2, 6, 8,\n",
      "                   4, 0, 5, 1, 6, 6, 0, 2, 8, 8, 4, 4, 9, 6, 5, 5, 3, 3, 1, 1, 7, 9, 0, 0,\n",
      "                   5, 9, 7, 1, 2, 3, 1, 6, 4, 7, 3, 1, 0, 1, 3, 5, 1, 6, 6, 7, 9, 5, 3, 9,\n",
      "                   2, 5, 4, 0, 9, 1, 7, 0, 6, 4, 8, 3, 3, 4, 8, 2, 1, 7, 0, 3, 4, 3, 5, 9,\n",
      "                   4, 8, 7, 9, 2, 5, 5, 0, 5, 0, 5, 1, 3, 4, 5, 3, 3, 9, 8, 2, 1, 4, 4, 4,\n",
      "                   1, 2, 8, 0, 6, 8, 2, 8])),\n",
      "               names=('seeds', 'labels'),\n",
      "           ),\n",
      "           train_set=ItemSet(\n",
      "               items=(tensor([982, 654, 561, 682, 198, 398, 212, 889,  45, 780, 424, 752,  39, 482,\n",
      "                   373, 649, 280, 540, 551, 913, 737, 834, 786, 872, 487, 439, 988,  49,\n",
      "                   454, 841, 930, 877, 646, 956, 706, 143, 526, 655, 726, 595, 127, 522,\n",
      "                   230, 650, 115,  16, 856, 762, 880, 427, 430, 152, 213, 645, 691, 446,\n",
      "                   188, 672, 613, 357, 637, 676, 492, 941, 921, 473, 515, 542,  26, 617,\n",
      "                   923, 905, 254, 434,  87, 101, 231, 576, 758, 332, 168, 359,  42, 636,\n",
      "                   490, 253, 283,  55, 173, 273, 361, 368, 251, 882, 812, 170, 131, 944,\n",
      "                    78, 598, 399, 371, 555, 309, 484,  12, 819, 627, 611, 973, 623, 976,\n",
      "                   336, 405, 791, 732,  22, 407, 112, 764, 566, 235, 949, 223,  81, 529,\n",
      "                   890, 808, 883, 859, 667, 978, 428, 388, 622, 864, 243, 117, 505, 295,\n",
      "                   509, 141, 953, 324, 475, 501, 959, 103, 690, 460, 799, 981, 777,  25,\n",
      "                   583, 915, 414, 157, 815, 528, 147, 225, 318, 329, 438, 658, 929, 136,\n",
      "                     2, 480, 217, 242, 705, 284, 278, 308, 898, 809, 238, 304, 493,  75,\n",
      "                     1, 248, 781, 849, 588, 571, 668, 965, 593, 228, 267, 899, 196, 149,\n",
      "                   423, 113, 194, 912,  56,  32,  93, 984, 847, 874, 716, 376, 205, 735,\n",
      "                   601, 541, 633, 680, 285, 802, 695, 100, 211, 778, 303,  23, 961, 325,\n",
      "                   582, 892,  57, 896, 985, 176, 390,  70, 236, 358, 967,  53, 605, 789,\n",
      "                   543, 118, 422,  89, 327, 609, 792, 742, 993, 580, 950, 337, 909, 287,\n",
      "                   121, 772, 714, 159, 322, 924, 873, 440, 816, 172, 736, 866, 177, 698,\n",
      "                   590, 840,  28, 927, 879, 886, 462, 468, 166, 431, 557, 830, 703, 240,\n",
      "                   229, 992, 232, 474, 489, 208, 397, 684, 810, 933, 413, 701, 852, 301,\n",
      "                   451, 755, 926, 979, 554, 969,   7, 731, 567, 790, 760, 591, 918,  50,\n",
      "                   661, 233, 763, 116, 445, 773, 942, 472, 299, 562, 330, 191, 425, 279,\n",
      "                   635,  96, 798, 184, 916, 429, 433, 339,  60, 410, 326, 512,  69, 142,\n",
      "                   120, 312, 365, 907,  72, 262, 203, 638, 826,  37, 369, 573, 831, 945,\n",
      "                   796, 464, 261, 663, 624, 827, 498, 200, 787,   6, 317, 863, 479,  99,\n",
      "                    80, 171, 922, 234, 110, 832, 199, 302, 122, 216, 444, 770, 897, 875,\n",
      "                   986, 548, 224, 456, 869, 109, 531, 833, 195, 123, 102, 416, 920, 340,\n",
      "                   134, 966, 383, 911, 418, 707, 496,  86, 130, 421, 105, 412, 666, 600,\n",
      "                   183, 606, 382, 838, 779,   5, 717, 630, 175, 724, 743, 197, 704, 132,\n",
      "                   749, 894, 379, 538, 286, 940, 319, 162, 450, 269, 946, 639,  98, 783,\n",
      "                   891, 895, 903, 333, 206, 559, 470, 402, 687, 596,  15, 887, 817, 761,\n",
      "                   341, 350, 768, 107, 963, 629, 145,  10, 519,  47, 904, 133, 215, 994,\n",
      "                    51, 352,  36, 391, 807,  88, 628, 917, 739, 467, 685, 192, 679, 745,\n",
      "                   647, 478, 186, 155,  82, 508, 210, 457,  24, 970, 140, 804,  90,  92,\n",
      "                   868, 160, 888, 925, 366, 370, 146, 878, 263, 406, 960, 274, 610, 644,\n",
      "                   239, 420, 999, 621, 757, 139, 640, 937, 292, 824, 521, 753, 577, 692,\n",
      "                   569, 565, 592, 855, 711, 294, 272, 129, 293, 848, 800,  77, 264, 746,\n",
      "                   693, 409, 266, 575, 204, 766, 465, 989, 334, 931, 394, 396,  95, 581,\n",
      "                   179, 754, 181, 338, 395,  54, 825, 256, 384, 296, 452, 426, 268, 453,\n",
      "                   670, 258, 148,  38, 220, 604, 656, 971, 218, 539, 367,  64, 974, 502,\n",
      "                   681, 252, 587, 156, 570, 862, 455, 671, 857, 288, 594, 516,  85, 709,\n",
      "                   710, 375, 885, 289, 432, 153, 850, 459, 689, 972, 664, 363],\n",
      "                  dtype=torch.int32), tensor([4, 0, 9, 5, 3, 7, 8, 2, 2, 6, 9, 8, 2, 6, 8, 8, 5, 6, 8, 4, 4, 1, 0, 4,\n",
      "                   7, 7, 7, 8, 7, 0, 4, 4, 7, 3, 7, 6, 4, 6, 1, 3, 6, 2, 2, 5, 1, 3, 0, 8,\n",
      "                   9, 3, 6, 9, 4, 6, 9, 2, 8, 8, 4, 0, 0, 0, 2, 0, 0, 4, 3, 2, 4, 1, 9, 6,\n",
      "                   6, 0, 9, 3, 6, 3, 9, 5, 4, 4, 2, 0, 4, 8, 0, 8, 8, 2, 1, 5, 1, 4, 2, 1,\n",
      "                   7, 6, 1, 0, 8, 8, 6, 1, 3, 8, 7, 6, 0, 4, 7, 9, 8, 1, 0, 7, 4, 2, 5, 4,\n",
      "                   4, 0, 2, 5, 3, 1, 6, 1, 8, 2, 1, 9, 9, 0, 6, 1, 3, 0, 9, 5, 5, 4, 9, 9,\n",
      "                   9, 9, 3, 8, 8, 6, 0, 6, 7, 1, 0, 0, 9, 0, 7, 7, 8, 7, 0, 4, 2, 9, 2, 7,\n",
      "                   0, 0, 1, 5, 5, 2, 4, 2, 6, 9, 4, 3, 6, 9, 6, 8, 5, 9, 7, 8, 6, 2, 3, 3,\n",
      "                   6, 6, 7, 1, 6, 1, 5, 1, 3, 7, 2, 6, 6, 7, 3, 2, 7, 0, 3, 8, 4, 5, 9, 0,\n",
      "                   9, 2, 5, 3, 4, 4, 2, 6, 9, 4, 4, 1, 6, 6, 3, 9, 1, 9, 0, 1, 0, 1, 8, 0,\n",
      "                   3, 9, 8, 9, 4, 9, 7, 2, 1, 2, 1, 0, 8, 8, 0, 8, 0, 6, 3, 7, 5, 4, 5, 3,\n",
      "                   7, 0, 3, 1, 1, 3, 9, 8, 3, 5, 5, 6, 9, 4, 1, 9, 2, 9, 3, 5, 2, 6, 5, 3,\n",
      "                   7, 1, 0, 3, 5, 9, 8, 8, 6, 9, 8, 8, 4, 3, 1, 9, 5, 4, 3, 6, 8, 9, 7, 9,\n",
      "                   8, 8, 0, 2, 4, 0, 3, 7, 4, 4, 1, 2, 5, 3, 4, 7, 5, 4, 9, 5, 0, 6, 9, 4,\n",
      "                   9, 2, 4, 4, 1, 9, 0, 5, 1, 3, 2, 1, 0, 1, 1, 7, 1, 8, 1, 9, 8, 4, 1, 7,\n",
      "                   1, 4, 4, 5, 6, 5, 4, 0, 9, 0, 8, 8, 5, 7, 3, 7, 7, 3, 6, 6, 1, 9, 9, 4,\n",
      "                   1, 0, 7, 3, 5, 7, 2, 8, 6, 2, 8, 5, 5, 7, 6, 7, 1, 9, 8, 9, 7, 5, 9, 3,\n",
      "                   5, 0, 6, 9, 0, 2, 0, 2, 7, 8, 2, 7, 4, 8, 0, 9, 9, 6, 2, 8, 7, 2, 2, 7,\n",
      "                   4, 8, 4, 4, 6, 8, 0, 6, 1, 4, 2, 2, 7, 0, 0, 7, 9, 2, 6, 3, 0, 5, 4, 6,\n",
      "                   9, 9, 5, 1, 8, 6, 8, 2, 4, 9, 4, 6, 4, 6, 1, 1, 8, 3, 6, 5, 0, 8, 6, 1,\n",
      "                   1, 4, 5, 0, 3, 9, 3, 6, 7, 0, 3, 6, 1, 4, 5, 6, 2, 6, 4, 3, 7, 9, 0, 0,\n",
      "                   2, 1, 7, 2, 0, 9, 7, 6, 4, 9, 6, 6, 4, 3, 3, 5, 7, 4, 5, 1, 9, 4, 8, 0,\n",
      "                   2, 6, 8, 9, 6, 4, 5, 1, 7, 5, 1, 6, 9, 0, 4, 0, 7, 7, 9, 3, 0, 3, 4, 6,\n",
      "                   9, 0, 0, 0, 1, 6, 6, 1, 6, 9, 2, 3, 2, 3, 8, 0, 6, 6, 2, 2, 3, 5, 5, 9,\n",
      "                   4, 8, 5, 3, 7, 5, 3, 6, 1, 1, 1, 2, 5, 9, 6, 0, 3, 9, 7, 0, 0, 7, 1, 6])),\n",
      "               names=('seeds', 'labels'),\n",
      "           ),\n",
      "           test_set=ItemSet(\n",
      "               items=(tensor([392, 443, 660, 803, 568, 360, 549, 164, 821, 169, 934, 525, 699,  63,\n",
      "                   364, 310, 201,  91, 607,  18, 389, 996, 436, 485, 403, 928, 697, 163,\n",
      "                   374, 708, 313, 696, 727,  79,  19, 158, 494,  27, 643,  17, 718, 546,\n",
      "                   247, 788, 782,  30, 851, 377, 550,  68, 853, 615, 533, 586, 481, 820,\n",
      "                    83,  13,  73, 574, 524, 674, 818, 652, 563, 822, 193, 347,   9, 603,\n",
      "                   910,  35, 320, 659,  29, 759, 836, 828, 771, 298, 702, 316, 257, 300,\n",
      "                   734, 419, 545, 618, 936, 552, 532, 495,  58, 104, 185, 461, 259, 190,\n",
      "                     3, 952, 860, 902, 315, 362, 477, 935, 861, 245, 535, 447, 968, 846,\n",
      "                   415, 919, 307, 471, 458, 244, 801, 449, 620, 751, 738, 321,  62, 723,\n",
      "                   914, 893, 408,   0, 537,  65, 311, 750, 497, 435, 558, 843, 144, 353,\n",
      "                   612, 291, 290, 585, 951, 207, 372, 990, 344, 835, 795, 793, 720, 154,\n",
      "                   356, 249, 331, 463, 767, 785, 328, 805, 721,  67, 632, 323, 227, 387,\n",
      "                   260, 634,  84, 265, 677, 486,  43, 544, 250, 729, 728, 275, 517, 694,\n",
      "                   214, 219, 241, 553, 653, 665, 534, 167, 282, 954, 641, 500, 991, 854,\n",
      "                    52, 400, 713, 995], dtype=torch.int32), tensor([7, 4, 2, 3, 9, 9, 2, 7, 0, 0, 4, 3, 1, 5, 1, 7, 1, 9, 7, 3, 2, 0, 2, 8,\n",
      "                   4, 7, 3, 5, 1, 3, 5, 4, 2, 3, 9, 3, 0, 3, 0, 1, 7, 5, 9, 0, 0, 1, 6, 7,\n",
      "                   3, 3, 6, 3, 5, 9, 6, 3, 0, 5, 0, 1, 8, 1, 1, 4, 4, 8, 7, 5, 5, 6, 0, 6,\n",
      "                   2, 1, 3, 2, 0, 5, 9, 3, 9, 3, 7, 9, 1, 8, 6, 1, 6, 4, 8, 1, 2, 3, 8, 2,\n",
      "                   0, 5, 0, 1, 3, 9, 0, 5, 1, 0, 3, 8, 4, 0, 5, 9, 7, 9, 5, 8, 8, 4, 4, 4,\n",
      "                   0, 8, 6, 6, 9, 7, 8, 0, 7, 2, 9, 6, 3, 0, 0, 2, 4, 5, 3, 6, 5, 5, 0, 5,\n",
      "                   0, 8, 7, 4, 7, 3, 5, 4, 4, 6, 1, 2, 8, 5, 8, 1, 7, 5, 4, 0, 7, 0, 0, 4,\n",
      "                   0, 2, 6, 5, 1, 7, 2, 0, 2, 2, 5, 8, 8, 7, 7, 1, 3, 9, 4, 0, 6, 2, 8, 0,\n",
      "                   6, 2, 6, 1, 2, 7, 7, 4])),\n",
      "               names=('seeds', 'labels'),\n",
      "           ),\n",
      "           metadata={'name': 'node_classification', 'num_classes': 10},)\n",
      "\n",
      "Loaded link prediction task: OnDiskTask(validation_set=ItemSet(\n",
      "               items=(tensor([[752,  55],\n",
      "                   [692, 490],\n",
      "                   [364, 701],\n",
      "                   ...,\n",
      "                   [561,  81],\n",
      "                   [561, 763],\n",
      "                   [561,  76]], dtype=torch.int32), tensor([1., 1., 1.,  ..., 0., 0., 0.], dtype=torch.float64), tensor([   0,    1,    2,  ..., 1999, 1999, 1999])),\n",
      "               names=('seeds', 'labels', 'indexes'),\n",
      "           ),\n",
      "           train_set=ItemSet(\n",
      "               items=(tensor([[139, 636],\n",
      "                   [903,  11],\n",
      "                   [632, 220],\n",
      "                   ...,\n",
      "                   [731, 781],\n",
      "                   [ 81, 409],\n",
      "                   [236, 435]], dtype=torch.int32),),\n",
      "               names=('seeds',),\n",
      "           ),\n",
      "           test_set=ItemSet(\n",
      "               items=(tensor([[889, 400],\n",
      "                   [951, 849],\n",
      "                   [101, 686],\n",
      "                   ...,\n",
      "                   [380,  27],\n",
      "                   [380, 939],\n",
      "                   [380, 833]], dtype=torch.int32), tensor([1., 1., 1.,  ..., 0., 0., 0.], dtype=torch.float64), tensor([   0,    1,    2,  ..., 1999, 1999, 1999])),\n",
      "               names=('seeds', 'labels', 'indexes'),\n",
      "           ),\n",
      "           metadata={'name': 'link_prediction', 'num_classes': 10},)\n",
      "\n"
     ]
    },
    {
     "name": "stderr",
     "output_type": "stream",
     "text": [
      "/dgl/python/dgl/graphbolt/impl/ondisk_dataset.py:463: GBWarning: Edge feature is stored, but edge IDs are not saved.\n",
      "  gb_warning(\"Edge feature is stored, but edge IDs are not saved.\")\n"
     ]
    }
   ],
   "source": [
    "dataset = gb.OnDiskDataset(base_dir).load()\n",
    "graph = dataset.graph\n",
    "print(f\"Loaded graph: {graph}\\n\")\n",
    "\n",
    "feature = dataset.feature\n",
    "print(f\"Loaded feature store: {feature}\\n\")\n",
    "\n",
    "tasks = dataset.tasks\n",
    "nc_task = tasks[0]\n",
    "print(f\"Loaded node classification task: {nc_task}\\n\")\n",
    "lp_task = tasks[1]\n",
    "print(f\"Loaded link prediction task: {lp_task}\\n\")"
   ]
  }
 ],
 "metadata": {
  "colab": {
   "private_outputs": true,
   "provenance": []
  },
  "kernelspec": {
   "display_name": "Python 3",
   "name": "python3"
  },
  "language_info": {
   "codemirror_mode": {
    "name": "ipython",
    "version": 3
   },
   "file_extension": ".py",
   "mimetype": "text/x-python",
   "name": "python",
   "nbconvert_exporter": "python",
   "pygments_lexer": "ipython3",
   "version": "3.10.15"
  }
 },
 "nbformat": 4,
 "nbformat_minor": 0
}

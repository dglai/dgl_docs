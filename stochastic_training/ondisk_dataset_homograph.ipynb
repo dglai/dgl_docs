{
 "cells": [
  {
   "cell_type": "markdown",
   "metadata": {
    "id": "FnFhPMaAfLtJ"
   },
   "source": [
    "# OnDiskDataset for Homogeneous Graph\n",
    "\n",
    "[![Open In Colab](https://colab.research.google.com/assets/colab-badge.svg)](https://colab.research.google.com/github/dmlc/dgl/blob/master/notebooks/stochastic_training/ondisk_dataset_homograph.ipynb) [![GitHub](https://img.shields.io/badge/-View%20on%20GitHub-181717?logo=github&logoColor=ffffff)](https://github.com/dmlc/dgl/blob/master/notebooks/stochastic_training/ondisk_dataset_homograph.ipynb)\n",
    "\n",
    "This tutorial shows how to create `OnDiskDataset` for homogeneous graph that could be used in **GraphBolt** framework.\n",
    "\n",
    "By the end of this tutorial, you will be able to\n",
    "\n",
    "- organize graph structure data.\n",
    "- organize feature data.\n",
    "- organize training/validation/test set for specific tasks.\n",
    "\n",
    "To create an ``OnDiskDataset`` object, you need to organize all the data including graph structure, feature data and tasks into a directory. The directory should contain a ``metadata.yaml`` file that describes the metadata of the dataset.\n",
    "\n",
    "Now let's generate various data step by step and organize them together to instantiate `OnDiskDataset` finally."
   ]
  },
  {
   "cell_type": "markdown",
   "metadata": {
    "id": "Wlb19DtWgtzq"
   },
   "source": [
    "## Install DGL package"
   ]
  },
  {
   "cell_type": "code",
   "execution_count": 1,
   "metadata": {
    "execution": {
     "iopub.execute_input": "2024-11-03T13:26:28.551155Z",
     "iopub.status.busy": "2024-11-03T13:26:28.550825Z",
     "iopub.status.idle": "2024-11-03T13:26:31.612922Z",
     "shell.execute_reply": "2024-11-03T13:26:31.611988Z"
    },
    "id": "UojlT9ZGgyr9"
   },
   "outputs": [
    {
     "name": "stdout",
     "output_type": "stream",
     "text": [
      "Looking in links: https://data.dgl.ai/wheels-test/repo.html\r\n",
      "Requirement already satisfied: dgl in /opt/conda/envs/dgl-dev-cpu/lib/python3.10/site-packages (2.2a240410)\r\n",
      "Requirement already satisfied: numpy>=1.14.0 in /opt/conda/envs/dgl-dev-cpu/lib/python3.10/site-packages (from dgl) (1.26.4)\r\n",
      "Requirement already satisfied: scipy>=1.1.0 in /opt/conda/envs/dgl-dev-cpu/lib/python3.10/site-packages (from dgl) (1.14.1)\r\n",
      "Requirement already satisfied: networkx>=2.1 in /opt/conda/envs/dgl-dev-cpu/lib/python3.10/site-packages (from dgl) (3.4.2)\r\n",
      "Requirement already satisfied: requests>=2.19.0 in /opt/conda/envs/dgl-dev-cpu/lib/python3.10/site-packages (from dgl) (2.32.3)\r\n",
      "Requirement already satisfied: tqdm in /opt/conda/envs/dgl-dev-cpu/lib/python3.10/site-packages (from dgl) (4.66.6)\r\n",
      "Requirement already satisfied: psutil>=5.8.0 in /opt/conda/envs/dgl-dev-cpu/lib/python3.10/site-packages (from dgl) (6.1.0)\r\n",
      "Requirement already satisfied: torchdata>=0.5.0 in /opt/conda/envs/dgl-dev-cpu/lib/python3.10/site-packages (from dgl) (0.9.0)\r\n",
      "Requirement already satisfied: pandas in /opt/conda/envs/dgl-dev-cpu/lib/python3.10/site-packages (from dgl) (2.2.3)\r\n"
     ]
    },
    {
     "name": "stdout",
     "output_type": "stream",
     "text": [
      "Requirement already satisfied: charset-normalizer<4,>=2 in /opt/conda/envs/dgl-dev-cpu/lib/python3.10/site-packages (from requests>=2.19.0->dgl) (3.4.0)\r\n",
      "Requirement already satisfied: idna<4,>=2.5 in /opt/conda/envs/dgl-dev-cpu/lib/python3.10/site-packages (from requests>=2.19.0->dgl) (3.10)\r\n",
      "Requirement already satisfied: urllib3<3,>=1.21.1 in /opt/conda/envs/dgl-dev-cpu/lib/python3.10/site-packages (from requests>=2.19.0->dgl) (2.2.3)\r\n",
      "Requirement already satisfied: certifi>=2017.4.17 in /opt/conda/envs/dgl-dev-cpu/lib/python3.10/site-packages (from requests>=2.19.0->dgl) (2024.8.30)\r\n",
      "Requirement already satisfied: torch>=2 in /opt/conda/envs/dgl-dev-cpu/lib/python3.10/site-packages (from torchdata>=0.5.0->dgl) (2.1.0+cpu)\r\n"
     ]
    },
    {
     "name": "stdout",
     "output_type": "stream",
     "text": [
      "Requirement already satisfied: python-dateutil>=2.8.2 in /opt/conda/envs/dgl-dev-cpu/lib/python3.10/site-packages (from pandas->dgl) (2.9.0.post0)\r\n",
      "Requirement already satisfied: pytz>=2020.1 in /opt/conda/envs/dgl-dev-cpu/lib/python3.10/site-packages (from pandas->dgl) (2024.2)\r\n",
      "Requirement already satisfied: tzdata>=2022.7 in /opt/conda/envs/dgl-dev-cpu/lib/python3.10/site-packages (from pandas->dgl) (2024.2)\r\n",
      "Requirement already satisfied: six>=1.5 in /opt/conda/envs/dgl-dev-cpu/lib/python3.10/site-packages (from python-dateutil>=2.8.2->pandas->dgl) (1.16.0)\r\n",
      "Requirement already satisfied: filelock in /opt/conda/envs/dgl-dev-cpu/lib/python3.10/site-packages (from torch>=2->torchdata>=0.5.0->dgl) (3.16.1)\r\n",
      "Requirement already satisfied: typing-extensions in /opt/conda/envs/dgl-dev-cpu/lib/python3.10/site-packages (from torch>=2->torchdata>=0.5.0->dgl) (4.12.2)\r\n",
      "Requirement already satisfied: sympy in /opt/conda/envs/dgl-dev-cpu/lib/python3.10/site-packages (from torch>=2->torchdata>=0.5.0->dgl) (1.13.3)\r\n",
      "Requirement already satisfied: jinja2 in /opt/conda/envs/dgl-dev-cpu/lib/python3.10/site-packages (from torch>=2->torchdata>=0.5.0->dgl) (3.1.4)\r\n",
      "Requirement already satisfied: fsspec in /opt/conda/envs/dgl-dev-cpu/lib/python3.10/site-packages (from torch>=2->torchdata>=0.5.0->dgl) (2024.10.0)\r\n"
     ]
    },
    {
     "name": "stdout",
     "output_type": "stream",
     "text": [
      "Requirement already satisfied: MarkupSafe>=2.0 in /opt/conda/envs/dgl-dev-cpu/lib/python3.10/site-packages (from jinja2->torch>=2->torchdata>=0.5.0->dgl) (3.0.2)\r\n",
      "Requirement already satisfied: mpmath<1.4,>=1.1.0 in /opt/conda/envs/dgl-dev-cpu/lib/python3.10/site-packages (from sympy->torch>=2->torchdata>=0.5.0->dgl) (1.3.0)\r\n"
     ]
    },
    {
     "name": "stdout",
     "output_type": "stream",
     "text": [
      "\u001b[33mWARNING: Running pip as the 'root' user can result in broken permissions and conflicting behaviour with the system package manager, possibly rendering your system unusable.It is recommended to use a virtual environment instead: https://pip.pypa.io/warnings/venv. Use the --root-user-action option if you know what you are doing and want to suppress this warning.\u001b[0m\u001b[33m\r\n",
      "\u001b[0m"
     ]
    },
    {
     "name": "stdout",
     "output_type": "stream",
     "text": [
      "DGL installed!\n"
     ]
    }
   ],
   "source": [
    "# Install required packages.\n",
    "import os\n",
    "import torch\n",
    "import numpy as np\n",
    "os.environ['TORCH'] = torch.__version__\n",
    "os.environ['DGLBACKEND'] = \"pytorch\"\n",
    "\n",
    "# Install the CPU version.\n",
    "device = torch.device(\"cpu\")\n",
    "!pip install --pre dgl -f https://data.dgl.ai/wheels-test/repo.html\n",
    "\n",
    "try:\n",
    "    import dgl\n",
    "    import dgl.graphbolt as gb\n",
    "    installed = True\n",
    "except ImportError as error:\n",
    "    installed = False\n",
    "    print(error)\n",
    "print(\"DGL installed!\" if installed else \"DGL not found!\")"
   ]
  },
  {
   "cell_type": "markdown",
   "metadata": {
    "id": "2R7WnSbjsfbr"
   },
   "source": [
    "## Data preparation\n",
    "In order to demonstrate how to organize various data, let's create a base directory first."
   ]
  },
  {
   "cell_type": "code",
   "execution_count": 2,
   "metadata": {
    "execution": {
     "iopub.execute_input": "2024-11-03T13:26:31.615932Z",
     "iopub.status.busy": "2024-11-03T13:26:31.615405Z",
     "iopub.status.idle": "2024-11-03T13:26:31.620349Z",
     "shell.execute_reply": "2024-11-03T13:26:31.619470Z"
    },
    "id": "SZipbzyltLfO"
   },
   "outputs": [
    {
     "name": "stdout",
     "output_type": "stream",
     "text": [
      "Created base directory: ./ondisk_dataset_homograph\n"
     ]
    }
   ],
   "source": [
    "base_dir = './ondisk_dataset_homograph'\n",
    "os.makedirs(base_dir, exist_ok=True)\n",
    "print(f\"Created base directory: {base_dir}\")"
   ]
  },
  {
   "cell_type": "markdown",
   "metadata": {
    "id": "qhNtIn_xhlnl"
   },
   "source": [
    "### Generate graph structure data\n",
    "For homogeneous graph, we just need to save edges(namely seeds) into  **Numpy** or **CSV** file.\n",
    "\n",
    "Note:\n",
    "- when saving to **Numpy**, the array requires to be in shape of `(2, N)`. This format is recommended as constructing graph from it is much faster than **CSV** file.\n",
    "- when saving to **CSV** file, do not save index and header.\n"
   ]
  },
  {
   "cell_type": "code",
   "execution_count": 3,
   "metadata": {
    "execution": {
     "iopub.execute_input": "2024-11-03T13:26:31.622928Z",
     "iopub.status.busy": "2024-11-03T13:26:31.622597Z",
     "iopub.status.idle": "2024-11-03T13:26:31.637034Z",
     "shell.execute_reply": "2024-11-03T13:26:31.636003Z"
    },
    "id": "HcBt4G5BmSjr"
   },
   "outputs": [
    {
     "name": "stdout",
     "output_type": "stream",
     "text": [
      "Part of edges: [[703 472]\n",
      " [955 317]\n",
      " [676 697]\n",
      " [330 225]\n",
      " [437 727]]\n",
      "Edges are saved into ./ondisk_dataset_homograph/edges.csv\n"
     ]
    }
   ],
   "source": [
    "import numpy as np\n",
    "import pandas as pd\n",
    "num_nodes = 1000\n",
    "num_edges = 10 * num_nodes\n",
    "edges_path = os.path.join(base_dir, \"edges.csv\")\n",
    "edges = np.random.randint(0, num_nodes, size=(num_edges, 2))\n",
    "\n",
    "print(f\"Part of edges: {edges[:5, :]}\")\n",
    "\n",
    "df = pd.DataFrame(edges)\n",
    "df.to_csv(edges_path, index=False, header=False)\n",
    "\n",
    "print(f\"Edges are saved into {edges_path}\")"
   ]
  },
  {
   "cell_type": "markdown",
   "metadata": {
    "id": "kh-4cPtzpcaH"
   },
   "source": [
    "### Generate feature data for graph\n",
    "For feature data, numpy arrays and torch tensors are supported for now."
   ]
  },
  {
   "cell_type": "code",
   "execution_count": 4,
   "metadata": {
    "execution": {
     "iopub.execute_input": "2024-11-03T13:26:31.639310Z",
     "iopub.status.busy": "2024-11-03T13:26:31.639008Z",
     "iopub.status.idle": "2024-11-03T13:26:31.658358Z",
     "shell.execute_reply": "2024-11-03T13:26:31.657716Z"
    },
    "id": "_PVu1u5brBhF"
   },
   "outputs": [
    {
     "name": "stdout",
     "output_type": "stream",
     "text": [
      "Part of node feature [feat_0]: [[0.32103265 0.07637178 0.35891248 0.88226336 0.46792059]\n",
      " [0.40147751 0.80462831 0.92546263 0.40637541 0.55319142]\n",
      " [0.41829477 0.28303787 0.30344986 0.48563616 0.3029438 ]]\n",
      "Node feature [feat_0] is saved to ./ondisk_dataset_homograph/node-feat-0.npy\n",
      "\n",
      "Part of node feature [feat_1]: tensor([[0.5743, 0.7814, 0.3101, 0.4382, 0.5642],\n",
      "        [0.3144, 0.6689, 0.6201, 0.7720, 0.7715],\n",
      "        [0.8354, 0.0013, 0.1700, 0.2725, 0.9707]])\n",
      "Node feature [feat_1] is saved to ./ondisk_dataset_homograph/node-feat-1.pt\n",
      "\n",
      "Part of edge feature [feat_0]: [[0.01012197 0.78136774 0.65161658 0.63940088 0.26739191]\n",
      " [0.68482623 0.1675863  0.04548793 0.60858253 0.01123849]\n",
      " [0.08452958 0.80403852 0.60699235 0.45294089 0.47725504]]\n",
      "Edge feature [feat_0] is saved to ./ondisk_dataset_homograph/edge-feat-0.npy\n",
      "\n",
      "Part of edge feature [feat_1]: tensor([[0.8353, 0.7518, 0.3026, 0.3857, 0.1841],\n",
      "        [0.9707, 0.3753, 0.3534, 0.7696, 0.2794],\n",
      "        [0.5113, 0.2291, 0.2654, 0.0126, 0.0492]])\n",
      "Edge feature [feat_1] is saved to ./ondisk_dataset_homograph/edge-feat-1.pt\n",
      "\n"
     ]
    }
   ],
   "source": [
    "# Generate node feature in numpy array.\n",
    "node_feat_0_path = os.path.join(base_dir, \"node-feat-0.npy\")\n",
    "node_feat_0 = np.random.rand(num_nodes, 5)\n",
    "print(f\"Part of node feature [feat_0]: {node_feat_0[:3, :]}\")\n",
    "np.save(node_feat_0_path, node_feat_0)\n",
    "print(f\"Node feature [feat_0] is saved to {node_feat_0_path}\\n\")\n",
    "\n",
    "# Generate another node feature in torch tensor\n",
    "node_feat_1_path = os.path.join(base_dir, \"node-feat-1.pt\")\n",
    "node_feat_1 = torch.rand(num_nodes, 5)\n",
    "print(f\"Part of node feature [feat_1]: {node_feat_1[:3, :]}\")\n",
    "torch.save(node_feat_1, node_feat_1_path)\n",
    "print(f\"Node feature [feat_1] is saved to {node_feat_1_path}\\n\")\n",
    "\n",
    "# Generate edge feature in numpy array.\n",
    "edge_feat_0_path = os.path.join(base_dir, \"edge-feat-0.npy\")\n",
    "edge_feat_0 = np.random.rand(num_edges, 5)\n",
    "print(f\"Part of edge feature [feat_0]: {edge_feat_0[:3, :]}\")\n",
    "np.save(edge_feat_0_path, edge_feat_0)\n",
    "print(f\"Edge feature [feat_0] is saved to {edge_feat_0_path}\\n\")\n",
    "\n",
    "# Generate another edge feature in torch tensor\n",
    "edge_feat_1_path = os.path.join(base_dir, \"edge-feat-1.pt\")\n",
    "edge_feat_1 = torch.rand(num_edges, 5)\n",
    "print(f\"Part of edge feature [feat_1]: {edge_feat_1[:3, :]}\")\n",
    "torch.save(edge_feat_1, edge_feat_1_path)\n",
    "print(f\"Edge feature [feat_1] is saved to {edge_feat_1_path}\\n\")\n"
   ]
  },
  {
   "cell_type": "markdown",
   "metadata": {
    "id": "ZyqgOtsIwzh_"
   },
   "source": [
    "### Generate tasks\n",
    "`OnDiskDataset` supports multiple tasks. For each task, we need to prepare training/validation/test sets respectively. Such sets usually vary among different tasks. In this tutorial, let's create a **Node Classification** task and **Link Prediction** task."
   ]
  },
  {
   "cell_type": "markdown",
   "metadata": {
    "id": "hVxHaDIfzCkr"
   },
   "source": [
    "#### Node Classification Task\n",
    "For node classification task, we need **node IDs** and corresponding **labels** for each training/validation/test set. Like feature data, numpy arrays and torch tensors are supported for these sets."
   ]
  },
  {
   "cell_type": "code",
   "execution_count": 5,
   "metadata": {
    "execution": {
     "iopub.execute_input": "2024-11-03T13:26:31.661042Z",
     "iopub.status.busy": "2024-11-03T13:26:31.660666Z",
     "iopub.status.idle": "2024-11-03T13:26:31.672702Z",
     "shell.execute_reply": "2024-11-03T13:26:31.671869Z"
    },
    "id": "S5-fyBbHzTCO"
   },
   "outputs": [
    {
     "name": "stdout",
     "output_type": "stream",
     "text": [
      "Part of train ids for node classification: [13  9 23]\n",
      "NC train ids are saved to ./ondisk_dataset_homograph/nc-train-ids.npy\n",
      "\n",
      "Part of train labels for node classification: tensor([0, 7, 6])\n",
      "NC train labels are saved to ./ondisk_dataset_homograph/nc-train-labels.pt\n",
      "\n",
      "Part of val ids for node classification: [715 901 658]\n",
      "NC val ids are saved to ./ondisk_dataset_homograph/nc-val-ids.npy\n",
      "\n",
      "Part of val labels for node classification: tensor([4, 9, 3])\n",
      "NC val labels are saved to ./ondisk_dataset_homograph/nc-val-labels.pt\n",
      "\n",
      "Part of test ids for node classification: [274 240 113]\n",
      "NC test ids are saved to ./ondisk_dataset_homograph/nc-test-ids.npy\n",
      "\n",
      "Part of test labels for node classification: tensor([2, 1, 9])\n",
      "NC test labels are saved to ./ondisk_dataset_homograph/nc-test-labels.pt\n",
      "\n"
     ]
    }
   ],
   "source": [
    "num_trains = int(num_nodes * 0.6)\n",
    "num_vals = int(num_nodes * 0.2)\n",
    "num_tests = num_nodes - num_trains - num_vals\n",
    "\n",
    "ids = np.arange(num_nodes)\n",
    "np.random.shuffle(ids)\n",
    "\n",
    "nc_train_ids_path = os.path.join(base_dir, \"nc-train-ids.npy\")\n",
    "nc_train_ids = ids[:num_trains]\n",
    "print(f\"Part of train ids for node classification: {nc_train_ids[:3]}\")\n",
    "np.save(nc_train_ids_path, nc_train_ids)\n",
    "print(f\"NC train ids are saved to {nc_train_ids_path}\\n\")\n",
    "\n",
    "nc_train_labels_path = os.path.join(base_dir, \"nc-train-labels.pt\")\n",
    "nc_train_labels = torch.randint(0, 10, (num_trains,))\n",
    "print(f\"Part of train labels for node classification: {nc_train_labels[:3]}\")\n",
    "torch.save(nc_train_labels, nc_train_labels_path)\n",
    "print(f\"NC train labels are saved to {nc_train_labels_path}\\n\")\n",
    "\n",
    "nc_val_ids_path = os.path.join(base_dir, \"nc-val-ids.npy\")\n",
    "nc_val_ids = ids[num_trains:num_trains+num_vals]\n",
    "print(f\"Part of val ids for node classification: {nc_val_ids[:3]}\")\n",
    "np.save(nc_val_ids_path, nc_val_ids)\n",
    "print(f\"NC val ids are saved to {nc_val_ids_path}\\n\")\n",
    "\n",
    "nc_val_labels_path = os.path.join(base_dir, \"nc-val-labels.pt\")\n",
    "nc_val_labels = torch.randint(0, 10, (num_vals,))\n",
    "print(f\"Part of val labels for node classification: {nc_val_labels[:3]}\")\n",
    "torch.save(nc_val_labels, nc_val_labels_path)\n",
    "print(f\"NC val labels are saved to {nc_val_labels_path}\\n\")\n",
    "\n",
    "nc_test_ids_path = os.path.join(base_dir, \"nc-test-ids.npy\")\n",
    "nc_test_ids = ids[-num_tests:]\n",
    "print(f\"Part of test ids for node classification: {nc_test_ids[:3]}\")\n",
    "np.save(nc_test_ids_path, nc_test_ids)\n",
    "print(f\"NC test ids are saved to {nc_test_ids_path}\\n\")\n",
    "\n",
    "nc_test_labels_path = os.path.join(base_dir, \"nc-test-labels.pt\")\n",
    "nc_test_labels = torch.randint(0, 10, (num_tests,))\n",
    "print(f\"Part of test labels for node classification: {nc_test_labels[:3]}\")\n",
    "torch.save(nc_test_labels, nc_test_labels_path)\n",
    "print(f\"NC test labels are saved to {nc_test_labels_path}\\n\")"
   ]
  },
  {
   "cell_type": "markdown",
   "metadata": {
    "id": "LhAcDCHQ_KJ0"
   },
   "source": [
    "#### Link Prediction Task\n",
    "For link prediction task, we need **seeds** or **corresponding labels and indexes** which representing the pos/neg property and group of the seeds for each training/validation/test set. Like feature data, numpy arrays and torch tensors are supported for these sets."
   ]
  },
  {
   "cell_type": "code",
   "execution_count": 6,
   "metadata": {
    "execution": {
     "iopub.execute_input": "2024-11-03T13:26:31.675336Z",
     "iopub.status.busy": "2024-11-03T13:26:31.674957Z",
     "iopub.status.idle": "2024-11-03T13:26:31.693378Z",
     "shell.execute_reply": "2024-11-03T13:26:31.692540Z"
    },
    "id": "u0jCnXIcAQy4"
   },
   "outputs": [
    {
     "name": "stdout",
     "output_type": "stream",
     "text": [
      "Part of train seeds for link prediction: [[703 472]\n",
      " [955 317]\n",
      " [676 697]]\n",
      "LP train seeds are saved to ./ondisk_dataset_homograph/lp-train-seeds.npy\n",
      "\n",
      "Part of val seeds for link prediction: [[963 923]\n",
      " [360 632]\n",
      " [708 940]]\n",
      "LP val seeds are saved to ./ondisk_dataset_homograph/lp-val-seeds.npy\n",
      "\n",
      "Part of val labels for link prediction: [1. 1. 1.]\n",
      "LP val labels are saved to ./ondisk_dataset_homograph/lp-val-labels.npy\n",
      "\n",
      "Part of val indexes for link prediction: [0 1 2]\n",
      "LP val indexes are saved to ./ondisk_dataset_homograph/lp-val-indexes.npy\n",
      "\n",
      "Part of test seeds for link prediction: [[740 142]\n",
      " [575 783]\n",
      " [875 995]]\n",
      "LP test seeds are saved to ./ondisk_dataset_homograph/lp-test-seeds.npy\n",
      "\n",
      "Part of val labels for link prediction: [1. 1. 1.]\n",
      "LP test labels are saved to ./ondisk_dataset_homograph/lp-test-labels.npy\n",
      "\n",
      "Part of test indexes for link prediction: [0 1 2]\n",
      "LP test indexes are saved to ./ondisk_dataset_homograph/lp-test-indexes.npy\n",
      "\n"
     ]
    }
   ],
   "source": [
    "num_trains = int(num_edges * 0.6)\n",
    "num_vals = int(num_edges * 0.2)\n",
    "num_tests = num_edges - num_trains - num_vals\n",
    "\n",
    "lp_train_seeds_path = os.path.join(base_dir, \"lp-train-seeds.npy\")\n",
    "lp_train_seeds = edges[:num_trains, :]\n",
    "print(f\"Part of train seeds for link prediction: {lp_train_seeds[:3]}\")\n",
    "np.save(lp_train_seeds_path, lp_train_seeds)\n",
    "print(f\"LP train seeds are saved to {lp_train_seeds_path}\\n\")\n",
    "\n",
    "lp_val_seeds_path = os.path.join(base_dir, \"lp-val-seeds.npy\")\n",
    "lp_val_seeds = edges[num_trains:num_trains+num_vals, :]\n",
    "lp_val_neg_dsts = np.random.randint(0, num_nodes, (num_vals, 10)).reshape(-1)\n",
    "lp_val_neg_srcs = np.repeat(lp_val_seeds[:,0], 10)\n",
    "lp_val_neg_seeds = np.concatenate((lp_val_neg_srcs, lp_val_neg_dsts)).reshape(2,-1).T\n",
    "lp_val_seeds = np.concatenate((lp_val_seeds, lp_val_neg_seeds))\n",
    "print(f\"Part of val seeds for link prediction: {lp_val_seeds[:3]}\")\n",
    "np.save(lp_val_seeds_path, lp_val_seeds)\n",
    "print(f\"LP val seeds are saved to {lp_val_seeds_path}\\n\")\n",
    "\n",
    "lp_val_labels_path = os.path.join(base_dir, \"lp-val-labels.npy\")\n",
    "lp_val_labels = np.empty(num_vals * (10 + 1))\n",
    "lp_val_labels[:num_vals] = 1\n",
    "lp_val_labels[num_vals:] = 0\n",
    "print(f\"Part of val labels for link prediction: {lp_val_labels[:3]}\")\n",
    "np.save(lp_val_labels_path, lp_val_labels)\n",
    "print(f\"LP val labels are saved to {lp_val_labels_path}\\n\")\n",
    "\n",
    "lp_val_indexes_path = os.path.join(base_dir, \"lp-val-indexes.npy\")\n",
    "lp_val_indexes = np.arange(0, num_vals)\n",
    "lp_val_neg_indexes = np.repeat(lp_val_indexes, 10)\n",
    "lp_val_indexes = np.concatenate([lp_val_indexes, lp_val_neg_indexes])\n",
    "print(f\"Part of val indexes for link prediction: {lp_val_indexes[:3]}\")\n",
    "np.save(lp_val_indexes_path, lp_val_indexes)\n",
    "print(f\"LP val indexes are saved to {lp_val_indexes_path}\\n\")\n",
    "\n",
    "lp_test_seeds_path = os.path.join(base_dir, \"lp-test-seeds.npy\")\n",
    "lp_test_seeds = edges[-num_tests:, :]\n",
    "lp_test_neg_dsts = np.random.randint(0, num_nodes, (num_tests, 10)).reshape(-1)\n",
    "lp_test_neg_srcs = np.repeat(lp_test_seeds[:,0], 10)\n",
    "lp_test_neg_seeds = np.concatenate((lp_test_neg_srcs, lp_test_neg_dsts)).reshape(2,-1).T\n",
    "lp_test_seeds = np.concatenate((lp_test_seeds, lp_test_neg_seeds))\n",
    "print(f\"Part of test seeds for link prediction: {lp_test_seeds[:3]}\")\n",
    "np.save(lp_test_seeds_path, lp_test_seeds)\n",
    "print(f\"LP test seeds are saved to {lp_test_seeds_path}\\n\")\n",
    "\n",
    "lp_test_labels_path = os.path.join(base_dir, \"lp-test-labels.npy\")\n",
    "lp_test_labels = np.empty(num_tests * (10 + 1))\n",
    "lp_test_labels[:num_tests] = 1\n",
    "lp_test_labels[num_tests:] = 0\n",
    "print(f\"Part of val labels for link prediction: {lp_test_labels[:3]}\")\n",
    "np.save(lp_test_labels_path, lp_test_labels)\n",
    "print(f\"LP test labels are saved to {lp_test_labels_path}\\n\")\n",
    "\n",
    "lp_test_indexes_path = os.path.join(base_dir, \"lp-test-indexes.npy\")\n",
    "lp_test_indexes = np.arange(0, num_tests)\n",
    "lp_test_neg_indexes = np.repeat(lp_test_indexes, 10)\n",
    "lp_test_indexes = np.concatenate([lp_test_indexes, lp_test_neg_indexes])\n",
    "print(f\"Part of test indexes for link prediction: {lp_test_indexes[:3]}\")\n",
    "np.save(lp_test_indexes_path, lp_test_indexes)\n",
    "print(f\"LP test indexes are saved to {lp_test_indexes_path}\\n\")"
   ]
  },
  {
   "cell_type": "markdown",
   "metadata": {
    "id": "wbk6-wxRK-6S"
   },
   "source": [
    "## Organize Data into YAML File\n",
    "Now we need to create a `metadata.yaml` file which contains the paths, dadta types of graph structure, feature data, training/validation/test sets.\n",
    "\n",
    "Notes:\n",
    "- all path should be relative to `metadata.yaml`.\n",
    "- Below fields are optional and not specified in below example.\n",
    "  - `in_memory`: indicates whether to load dada into memory or `mmap`. Default is `True`.\n",
    "\n",
    "Please refer to [YAML specification](https://github.com/dmlc/dgl/blob/master/docs/source/stochastic_training/ondisk-dataset-specification.rst) for more details."
   ]
  },
  {
   "cell_type": "code",
   "execution_count": 7,
   "metadata": {
    "execution": {
     "iopub.execute_input": "2024-11-03T13:26:31.696192Z",
     "iopub.status.busy": "2024-11-03T13:26:31.695608Z",
     "iopub.status.idle": "2024-11-03T13:26:31.701881Z",
     "shell.execute_reply": "2024-11-03T13:26:31.701073Z"
    },
    "id": "ddGTWW61Lpwp"
   },
   "outputs": [],
   "source": [
    "yaml_content = f\"\"\"\n",
    "    dataset_name: homogeneous_graph_nc_lp\n",
    "    graph:\n",
    "      nodes:\n",
    "        - num: {num_nodes}\n",
    "      edges:\n",
    "        - format: csv\n",
    "          path: {os.path.basename(edges_path)}\n",
    "    feature_data:\n",
    "      - domain: node\n",
    "        name: feat_0\n",
    "        format: numpy\n",
    "        path: {os.path.basename(node_feat_0_path)}\n",
    "      - domain: node\n",
    "        name: feat_1\n",
    "        format: torch\n",
    "        path: {os.path.basename(node_feat_1_path)}\n",
    "      - domain: edge\n",
    "        name: feat_0\n",
    "        format: numpy\n",
    "        path: {os.path.basename(edge_feat_0_path)}\n",
    "      - domain: edge\n",
    "        name: feat_1\n",
    "        format: torch\n",
    "        path: {os.path.basename(edge_feat_1_path)}\n",
    "    tasks:\n",
    "      - name: node_classification\n",
    "        num_classes: 10\n",
    "        train_set:\n",
    "          - data:\n",
    "              - name: seeds\n",
    "                format: numpy\n",
    "                path: {os.path.basename(nc_train_ids_path)}\n",
    "              - name: labels\n",
    "                format: torch\n",
    "                path: {os.path.basename(nc_train_labels_path)}\n",
    "        validation_set:\n",
    "          - data:\n",
    "              - name: seeds\n",
    "                format: numpy\n",
    "                path: {os.path.basename(nc_val_ids_path)}\n",
    "              - name: labels\n",
    "                format: torch\n",
    "                path: {os.path.basename(nc_val_labels_path)}\n",
    "        test_set:\n",
    "          - data:\n",
    "              - name: seeds\n",
    "                format: numpy\n",
    "                path: {os.path.basename(nc_test_ids_path)}\n",
    "              - name: labels\n",
    "                format: torch\n",
    "                path: {os.path.basename(nc_test_labels_path)}\n",
    "      - name: link_prediction\n",
    "        num_classes: 10\n",
    "        train_set:\n",
    "          - data:\n",
    "              - name: seeds\n",
    "                format: numpy\n",
    "                path: {os.path.basename(lp_train_seeds_path)}\n",
    "        validation_set:\n",
    "          - data:\n",
    "              - name: seeds\n",
    "                format: numpy\n",
    "                path: {os.path.basename(lp_val_seeds_path)}\n",
    "              - name: labels\n",
    "                format: numpy\n",
    "                path: {os.path.basename(lp_val_labels_path)}\n",
    "              - name: indexes\n",
    "                format: numpy\n",
    "                path: {os.path.basename(lp_val_indexes_path)}\n",
    "        test_set:\n",
    "          - data:\n",
    "              - name: seeds\n",
    "                format: numpy\n",
    "                path: {os.path.basename(lp_test_seeds_path)}\n",
    "              - name: labels\n",
    "                format: numpy\n",
    "                path: {os.path.basename(lp_test_labels_path)}\n",
    "              - name: indexes\n",
    "                format: numpy\n",
    "                path: {os.path.basename(lp_test_indexes_path)}\n",
    "\"\"\"\n",
    "metadata_path = os.path.join(base_dir, \"metadata.yaml\")\n",
    "with open(metadata_path, \"w\") as f:\n",
    "  f.write(yaml_content)"
   ]
  },
  {
   "cell_type": "markdown",
   "metadata": {
    "id": "kEfybHGhOW7O"
   },
   "source": [
    "## Instantiate `OnDiskDataset`\n",
    "Now we're ready to load dataset via `dgl.graphbolt.OnDiskDataset`. When instantiating, we just pass in the base directory where `metadata.yaml` file lies.\n",
    "\n",
    "During first instantiation, GraphBolt preprocesses the raw data such as constructing `FusedCSCSamplingGraph` from edges. All data including graph, feature data, training/validation/test sets are put into `preprocessed` directory after preprocessing. Any following dataset loading will skip the preprocess stage.\n",
    "\n",
    "After preprocessing, `load()` is required to be called explicitly in order to load graph, feature data and tasks."
   ]
  },
  {
   "cell_type": "code",
   "execution_count": 8,
   "metadata": {
    "execution": {
     "iopub.execute_input": "2024-11-03T13:26:31.704141Z",
     "iopub.status.busy": "2024-11-03T13:26:31.703845Z",
     "iopub.status.idle": "2024-11-03T13:26:31.776884Z",
     "shell.execute_reply": "2024-11-03T13:26:31.776170Z"
    },
    "id": "W58CZoSzOiyo"
   },
   "outputs": [
    {
     "name": "stdout",
     "output_type": "stream",
     "text": [
      "Start to preprocess the on-disk dataset.\n",
      "Finish preprocessing the on-disk dataset.\n",
      "Loaded graph: FusedCSCSamplingGraph(csc_indptr=tensor([    0,     8,    17,  ...,  9973,  9987, 10000], dtype=torch.int32),\n",
      "                      indices=tensor([873, 173, 266,  ..., 599, 783,  16], dtype=torch.int32),\n",
      "                      total_num_nodes=1000, num_edges=10000,)\n",
      "\n",
      "Loaded feature store: TorchBasedFeatureStore(\n",
      "    {(<OnDiskFeatureDataDomain.NODE: 'node'>, None, 'feat_0'): TorchBasedFeature(\n",
      "        feature=tensor([[0.3210, 0.0764, 0.3589, 0.8823, 0.4679],\n",
      "                        [0.4015, 0.8046, 0.9255, 0.4064, 0.5532],\n",
      "                        [0.4183, 0.2830, 0.3034, 0.4856, 0.3029],\n",
      "                        ...,\n",
      "                        [0.2210, 0.1441, 0.4863, 0.8056, 0.2787],\n",
      "                        [0.1619, 0.4173, 0.3858, 0.7644, 0.1959],\n",
      "                        [0.4108, 0.7830, 0.5111, 0.1058, 0.3558]], dtype=torch.float64),\n",
      "        metadata={},\n",
      "    ), (<OnDiskFeatureDataDomain.NODE: 'node'>, None, 'feat_1'): TorchBasedFeature(\n",
      "        feature=tensor([[0.5743, 0.7814, 0.3101, 0.4382, 0.5642],\n",
      "                        [0.3144, 0.6689, 0.6201, 0.7720, 0.7715],\n",
      "                        [0.8354, 0.0013, 0.1700, 0.2725, 0.9707],\n",
      "                        ...,\n",
      "                        [0.4009, 0.3797, 0.6178, 0.6539, 0.7656],\n",
      "                        [0.3972, 0.7519, 0.5293, 0.9255, 0.4005],\n",
      "                        [0.6086, 0.5707, 0.1446, 0.6771, 0.9755]]),\n",
      "        metadata={},\n",
      "    ), (<OnDiskFeatureDataDomain.EDGE: 'edge'>, None, 'feat_0'): TorchBasedFeature(\n",
      "        feature=tensor([[0.0101, 0.7814, 0.6516, 0.6394, 0.2674],\n",
      "                        [0.6848, 0.1676, 0.0455, 0.6086, 0.0112],\n",
      "                        [0.0845, 0.8040, 0.6070, 0.4529, 0.4773],\n",
      "                        ...,\n",
      "                        [0.3419, 0.1292, 0.8108, 0.4219, 0.7892],\n",
      "                        [0.8727, 0.7815, 0.6455, 0.9159, 0.7556],\n",
      "                        [0.4084, 0.9223, 0.3795, 0.2038, 0.1301]], dtype=torch.float64),\n",
      "        metadata={},\n",
      "    ), (<OnDiskFeatureDataDomain.EDGE: 'edge'>, None, 'feat_1'): TorchBasedFeature(\n",
      "        feature=tensor([[0.8353, 0.7518, 0.3026, 0.3857, 0.1841],\n",
      "                        [0.9707, 0.3753, 0.3534, 0.7696, 0.2794],\n",
      "                        [0.5113, 0.2291, 0.2654, 0.0126, 0.0492],\n",
      "                        ...,\n",
      "                        [0.2307, 0.6967, 0.9938, 0.1553, 0.9212],\n",
      "                        [0.6963, 0.6881, 0.7148, 0.2856, 0.4563],\n",
      "                        [0.0862, 0.8829, 0.5036, 0.0566, 0.5043]]),\n",
      "        metadata={},\n",
      "    )}\n",
      ")\n",
      "\n",
      "Loaded node classification task: OnDiskTask(validation_set=ItemSet(\n",
      "               items=(tensor([715, 901, 658, 621, 404, 289, 232, 360, 872, 488, 956, 874,  53, 551,\n",
      "                    34, 419, 810, 719, 971, 215, 960, 504, 824, 728, 124, 985, 105, 836,\n",
      "                   964, 540, 536, 584, 311, 290, 717, 669, 600,  61, 432, 850, 103, 214,\n",
      "                   299, 111, 581, 147, 205, 126, 281, 386, 333, 610,  31, 427, 899, 369,\n",
      "                   860, 537, 733, 449, 223,  50, 312, 502, 136, 420, 435, 626, 373, 774,\n",
      "                    25, 882, 334, 997, 684, 742, 357,  99, 156, 285, 815, 558, 664, 593,\n",
      "                   977, 713, 425, 118, 891, 615, 801, 649, 141, 738, 307, 397, 830, 116,\n",
      "                   822, 776, 619, 475, 709, 313, 461, 224, 318,  93, 857, 139, 949, 770,\n",
      "                   720, 771, 175, 195, 965,  49, 607, 303, 371, 814, 800, 862, 505, 500,\n",
      "                   508, 708,  35, 767, 144, 275, 152, 888,   3, 527, 164, 841, 913, 832,\n",
      "                   938, 883, 705, 831, 363, 873, 448, 947,  52, 835, 768, 108, 436, 165,\n",
      "                   624, 934, 780, 451, 268, 535, 812, 480, 422, 498,  96, 239, 226, 981,\n",
      "                   520, 250,  72, 102, 885, 157, 323, 996, 746,  89, 802, 230, 854, 310,\n",
      "                   186, 511, 861, 653, 751, 993, 327, 409, 880, 227, 583, 902, 110, 834,\n",
      "                   933, 984, 433, 184], dtype=torch.int32), tensor([4, 9, 3, 6, 4, 6, 3, 4, 3, 6, 2, 3, 5, 6, 3, 0, 1, 2, 3, 9, 5, 9, 2, 0,\n",
      "                   9, 6, 9, 6, 5, 7, 7, 5, 9, 9, 2, 3, 6, 8, 2, 4, 8, 3, 2, 1, 9, 9, 4, 9,\n",
      "                   9, 0, 9, 3, 6, 5, 0, 8, 5, 4, 6, 0, 9, 2, 7, 3, 4, 4, 9, 1, 2, 7, 2, 3,\n",
      "                   4, 8, 9, 6, 4, 2, 9, 3, 6, 7, 2, 5, 5, 9, 4, 9, 9, 7, 9, 5, 4, 6, 8, 7,\n",
      "                   7, 1, 3, 0, 5, 4, 5, 7, 3, 3, 7, 1, 6, 3, 0, 8, 6, 9, 7, 6, 2, 3, 2, 4,\n",
      "                   9, 7, 7, 7, 8, 9, 0, 5, 3, 9, 1, 1, 2, 2, 9, 7, 9, 0, 6, 7, 0, 7, 0, 8,\n",
      "                   7, 7, 8, 0, 8, 2, 5, 8, 4, 0, 9, 0, 4, 1, 2, 4, 9, 6, 1, 1, 5, 9, 7, 2,\n",
      "                   3, 1, 9, 4, 3, 4, 6, 4, 5, 0, 3, 5, 3, 4, 6, 9, 8, 3, 6, 4, 0, 0, 8, 8,\n",
      "                   4, 9, 2, 0, 1, 5, 1, 4])),\n",
      "               names=('seeds', 'labels'),\n",
      "           ),\n",
      "           train_set=ItemSet(\n",
      "               items=(tensor([ 13,   9,  23, 197, 148, 837, 365, 273, 630, 936, 819, 856, 368, 723,\n",
      "                   163, 254, 284, 906, 887,  87,  81, 366, 845, 287, 712, 580, 596, 295,\n",
      "                   674, 211, 903, 666, 848, 190, 280, 753, 943,  59, 264, 259, 477, 344,\n",
      "                   877, 846, 185, 430, 484, 158, 319, 253, 988,  60, 786,  92, 690, 725,\n",
      "                   859, 252, 560, 297, 931, 424, 910, 392, 188, 973, 564, 769, 207, 538,\n",
      "                    71, 326, 732, 737, 202, 269, 637, 140, 823, 606, 402, 101,  17, 351,\n",
      "                    88, 930,  22, 660, 808,  58, 853, 968, 904, 209, 688, 629, 826, 329,\n",
      "                   161, 454,  29,  54, 445, 698, 178, 412,  66, 523, 761, 379, 662, 912,\n",
      "                   355, 648, 219, 315, 460, 506, 526,  45, 549, 703, 437, 512, 614, 620,\n",
      "                   408, 721, 127, 640, 976, 552, 828, 439, 939, 395, 574, 292, 400, 969,\n",
      "                   665, 546, 650, 256, 469, 567, 989, 905, 300, 699,  85, 983, 282, 168,\n",
      "                   298, 679, 681, 926, 809, 958,   5, 463, 562, 495, 521, 501, 237, 524,\n",
      "                   441, 260, 707, 924, 760, 403, 799, 216, 868, 249, 128, 716,  28,  40,\n",
      "                   459, 680, 481, 656, 796, 286, 775, 119, 782, 572, 950,  68, 405, 777,\n",
      "                   710, 245, 642, 378, 655, 100, 201, 166,  80, 522,  15, 494,   1, 750,\n",
      "                   948,  19, 563,  36, 762, 941, 961, 840, 987, 778, 339, 338, 590, 635,\n",
      "                   568,  32, 525, 235, 358,  46, 348, 682, 490, 773, 340, 884,  10, 514,\n",
      "                   428, 876, 482, 406, 547, 149, 704, 587, 730, 959, 350, 467, 193, 797,\n",
      "                   928, 687, 731, 744,  62, 829, 263, 244, 321, 569, 825, 331, 155, 894,\n",
      "                   200, 241, 632,   0, 818, 881, 228, 571, 347, 465, 443, 772, 176, 411,\n",
      "                   503, 134, 645, 336, 179, 196, 803, 994, 225,  21, 604, 922, 394, 625,\n",
      "                   349, 423, 544, 296, 543, 793, 575, 367, 466, 208, 440, 618, 385, 267,\n",
      "                   654, 659, 450, 579,  55,  27, 117, 356, 749, 967, 900, 493, 963, 337,\n",
      "                   122, 741, 908, 305, 354, 661, 387,  86, 722, 372, 917, 154, 242, 243,\n",
      "                   603, 671, 817, 182,   6, 231,  63, 438, 991, 509, 533, 957, 107,  44,\n",
      "                   364, 628, 554, 476, 693, 123, 561, 518, 779,  33, 585, 895, 343, 765,\n",
      "                   487, 821, 390, 748,  77, 909, 375, 937, 923, 255, 447, 236, 177, 389,\n",
      "                   794, 739, 233, 871, 594, 361, 945, 622,   8, 667, 766, 187, 248, 453,\n",
      "                   120, 401, 599, 328, 727, 843, 980,  97, 886, 421, 272, 559, 342, 870,\n",
      "                   638, 700, 104, 434, 795, 220, 304, 694, 370, 932, 131, 847, 462, 332,\n",
      "                   388, 789,  11, 995, 940, 646, 668, 277, 946, 418, 827,   7, 362, 345,\n",
      "                   309, 515, 972,  57, 864, 265, 376, 181, 262, 890, 805,  94, 407, 279,\n",
      "                   489, 382, 398, 641,  67, 446, 452, 138, 213, 745, 752, 294, 879, 199,\n",
      "                   517, 381, 383, 676,  48, 743, 458, 492, 479, 849, 217, 106, 897, 747,\n",
      "                   162, 944, 695, 998, 852, 548, 611, 858,  56, 643, 785, 925, 565, 534,\n",
      "                   907, 867, 391, 592,  91, 204, 598, 811,  43, 129, 173, 866, 130, 335,\n",
      "                    39, 510, 820, 792, 316, 784, 639,  51, 999, 306, 556,   4, 670, 892,\n",
      "                   893, 426, 132, 838, 125, 444, 531,  16, 238, 530, 251, 692,  78, 633,\n",
      "                    38, 203, 293, 352, 472, 601,  37, 724, 729, 915,  74, 953, 617, 257,\n",
      "                   691, 258, 322, 754, 121, 758, 839, 468, 528, 301, 542, 222, 474, 675,\n",
      "                   180, 702, 218, 145, 414, 455, 974, 229, 651,  98, 212, 519, 109, 576,\n",
      "                   920, 160, 247, 602, 137, 384, 457,  47, 153, 726, 410,  65, 616, 631,\n",
      "                   516, 955, 529, 916, 865, 896, 951, 627, 320, 781, 553, 734],\n",
      "                  dtype=torch.int32), tensor([0, 7, 6, 9, 7, 9, 3, 3, 5, 8, 5, 4, 5, 9, 8, 4, 8, 5, 3, 2, 3, 4, 4, 2,\n",
      "                   2, 5, 9, 7, 8, 0, 8, 9, 7, 8, 1, 1, 1, 2, 7, 4, 0, 3, 9, 5, 3, 3, 5, 9,\n",
      "                   3, 6, 6, 8, 6, 3, 1, 9, 2, 7, 6, 3, 0, 7, 9, 7, 6, 2, 1, 5, 5, 4, 6, 9,\n",
      "                   7, 2, 9, 1, 6, 3, 5, 5, 7, 4, 0, 2, 6, 5, 9, 4, 8, 8, 6, 0, 4, 8, 4, 6,\n",
      "                   0, 0, 5, 2, 5, 5, 8, 4, 3, 5, 2, 2, 4, 7, 9, 3, 0, 5, 0, 7, 7, 7, 3, 5,\n",
      "                   5, 8, 7, 2, 2, 5, 8, 2, 8, 5, 5, 6, 9, 4, 3, 1, 8, 7, 4, 2, 3, 0, 5, 3,\n",
      "                   0, 7, 8, 3, 1, 6, 0, 1, 9, 4, 6, 7, 4, 8, 3, 9, 2, 9, 8, 5, 5, 0, 9, 5,\n",
      "                   3, 5, 8, 8, 3, 7, 2, 0, 3, 8, 8, 8, 5, 2, 6, 2, 8, 1, 0, 1, 5, 7, 6, 8,\n",
      "                   6, 1, 2, 7, 8, 6, 9, 7, 4, 5, 9, 9, 4, 8, 0, 5, 4, 6, 1, 7, 0, 8, 7, 9,\n",
      "                   6, 5, 8, 3, 7, 1, 4, 7, 8, 8, 5, 2, 1, 3, 5, 8, 1, 9, 9, 6, 0, 0, 9, 7,\n",
      "                   5, 0, 6, 6, 4, 9, 5, 3, 8, 6, 8, 4, 7, 8, 1, 7, 5, 5, 8, 4, 7, 9, 3, 0,\n",
      "                   5, 1, 5, 7, 7, 6, 8, 6, 7, 5, 8, 9, 3, 7, 4, 9, 7, 6, 3, 7, 0, 6, 8, 5,\n",
      "                   8, 5, 8, 3, 4, 0, 0, 1, 2, 6, 5, 0, 6, 9, 5, 0, 6, 6, 0, 3, 2, 3, 4, 0,\n",
      "                   7, 1, 6, 5, 8, 7, 1, 0, 9, 7, 3, 5, 4, 5, 4, 8, 9, 8, 2, 9, 9, 0, 6, 4,\n",
      "                   2, 8, 2, 7, 3, 0, 8, 0, 2, 4, 2, 2, 2, 1, 9, 2, 0, 7, 9, 0, 6, 8, 9, 9,\n",
      "                   3, 9, 9, 7, 9, 3, 2, 6, 4, 2, 3, 5, 1, 0, 9, 0, 1, 3, 7, 9, 7, 7, 4, 8,\n",
      "                   0, 8, 9, 7, 4, 8, 8, 4, 0, 4, 4, 6, 6, 6, 9, 6, 6, 8, 3, 3, 9, 0, 0, 3,\n",
      "                   3, 0, 5, 1, 8, 5, 6, 4, 1, 8, 5, 6, 6, 8, 9, 7, 3, 4, 7, 0, 1, 6, 3, 7,\n",
      "                   8, 1, 3, 6, 8, 0, 1, 5, 6, 7, 4, 0, 8, 2, 9, 2, 4, 0, 7, 1, 1, 6, 3, 5,\n",
      "                   8, 6, 7, 1, 8, 5, 2, 8, 7, 1, 7, 7, 8, 9, 1, 2, 3, 7, 6, 8, 6, 3, 8, 3,\n",
      "                   8, 1, 2, 0, 5, 1, 1, 8, 6, 4, 3, 8, 2, 7, 1, 7, 7, 2, 3, 4, 5, 6, 8, 0,\n",
      "                   1, 6, 9, 2, 1, 3, 8, 3, 6, 9, 9, 2, 4, 1, 8, 3, 0, 6, 2, 6, 0, 1, 4, 2,\n",
      "                   4, 1, 0, 8, 8, 4, 5, 2, 6, 9, 8, 5, 3, 0, 3, 7, 0, 8, 2, 1, 8, 5, 4, 1,\n",
      "                   5, 5, 3, 1, 3, 9, 3, 4, 2, 8, 2, 4, 5, 0, 4, 4, 4, 3, 5, 0, 1, 5, 9, 9,\n",
      "                   4, 2, 6, 6, 3, 3, 1, 4, 3, 5, 9, 9, 3, 2, 1, 9, 6, 5, 3, 6, 1, 2, 9, 7])),\n",
      "               names=('seeds', 'labels'),\n",
      "           ),\n",
      "           test_set=ItemSet(\n",
      "               items=(tensor([274, 240, 113, 608, 557, 878, 787, 652, 578, 706, 714, 497, 875, 986,\n",
      "                   470, 595, 982, 491, 992, 555, 647, 194, 198,  90, 970, 634, 697, 804,\n",
      "                   889,  69, 756, 221, 330, 582, 863, 816, 586, 513, 566, 325, 150, 183,\n",
      "                   399, 532, 308, 346,  24, 314, 483,  70, 763, 589, 588, 143, 431, 851,\n",
      "                   291, 499, 302,  84, 206,  14, 271, 169, 374, 167, 380, 962,  75, 975,\n",
      "                   135, 507, 673, 740, 855, 677, 597, 142, 456, 550, 806, 952, 473,   2,\n",
      "                   261, 416, 788, 359,  73, 921, 942, 133, 112, 755, 807, 657, 927, 623,\n",
      "                   644, 685, 813, 978,  82, 591, 954, 442, 266, 485, 471, 114, 678, 919,\n",
      "                    83,  95, 496, 842, 417, 341, 464, 413, 541, 317,  30, 283, 990,  18,\n",
      "                   798, 689, 869, 171, 393, 701, 353, 429,  41, 911, 966, 288, 191, 686,\n",
      "                   736, 764, 663, 246, 234, 270, 192, 935, 914, 612, 790, 577,  12, 757,\n",
      "                   545, 605, 174,  20, 115, 377, 324, 170, 636, 486, 172,  26,  79, 609,\n",
      "                   759, 415, 918, 833, 783,  42, 573,  76, 672, 844, 189,  64, 696, 718,\n",
      "                   278, 151, 146, 979, 478, 210, 539, 683, 570, 791, 613, 735, 276, 898,\n",
      "                   159, 396, 929, 711], dtype=torch.int32), tensor([2, 1, 9, 1, 9, 6, 4, 7, 8, 0, 1, 4, 1, 3, 3, 4, 6, 9, 8, 9, 3, 9, 2, 7,\n",
      "                   5, 3, 6, 2, 8, 6, 9, 0, 4, 2, 4, 7, 1, 9, 0, 5, 0, 5, 8, 8, 5, 8, 9, 0,\n",
      "                   6, 0, 8, 9, 2, 9, 1, 0, 3, 3, 9, 2, 3, 2, 3, 6, 1, 3, 7, 1, 2, 4, 3, 2,\n",
      "                   3, 4, 9, 5, 9, 7, 1, 7, 3, 1, 6, 6, 3, 0, 0, 2, 7, 9, 1, 5, 3, 9, 1, 6,\n",
      "                   5, 2, 6, 7, 7, 7, 3, 4, 5, 0, 9, 6, 1, 8, 3, 8, 2, 9, 8, 4, 9, 4, 2, 3,\n",
      "                   9, 8, 4, 5, 9, 9, 3, 2, 1, 2, 4, 6, 6, 0, 3, 7, 3, 8, 9, 1, 1, 3, 9, 4,\n",
      "                   3, 1, 6, 9, 9, 1, 6, 7, 6, 7, 4, 7, 1, 5, 3, 9, 1, 5, 7, 6, 7, 3, 9, 7,\n",
      "                   8, 7, 9, 4, 1, 3, 6, 2, 0, 5, 2, 8, 7, 3, 2, 8, 7, 8, 8, 6, 8, 4, 1, 9,\n",
      "                   8, 3, 4, 2, 0, 8, 3, 6])),\n",
      "               names=('seeds', 'labels'),\n",
      "           ),\n",
      "           metadata={'name': 'node_classification', 'num_classes': 10},)\n",
      "\n",
      "Loaded link prediction task: OnDiskTask(validation_set=ItemSet(\n",
      "               items=(tensor([[963, 923],\n",
      "                   [360, 632],\n",
      "                   [708, 940],\n",
      "                   ...,\n",
      "                   [598, 913],\n",
      "                   [598, 250],\n",
      "                   [598, 712]], dtype=torch.int32), tensor([1., 1., 1.,  ..., 0., 0., 0.], dtype=torch.float64), tensor([   0,    1,    2,  ..., 1999, 1999, 1999])),\n",
      "               names=('seeds', 'labels', 'indexes'),\n",
      "           ),\n",
      "           train_set=ItemSet(\n",
      "               items=(tensor([[703, 472],\n",
      "                   [955, 317],\n",
      "                   [676, 697],\n",
      "                   ...,\n",
      "                   [893, 909],\n",
      "                   [655, 684],\n",
      "                   [454, 987]], dtype=torch.int32),),\n",
      "               names=('seeds',),\n",
      "           ),\n",
      "           test_set=ItemSet(\n",
      "               items=(tensor([[740, 142],\n",
      "                   [575, 783],\n",
      "                   [875, 995],\n",
      "                   ...,\n",
      "                   [613, 702],\n",
      "                   [613, 851],\n",
      "                   [613,  31]], dtype=torch.int32), tensor([1., 1., 1.,  ..., 0., 0., 0.], dtype=torch.float64), tensor([   0,    1,    2,  ..., 1999, 1999, 1999])),\n",
      "               names=('seeds', 'labels', 'indexes'),\n",
      "           ),\n",
      "           metadata={'name': 'link_prediction', 'num_classes': 10},)\n",
      "\n"
     ]
    },
    {
     "name": "stderr",
     "output_type": "stream",
     "text": [
      "/dgl/python/dgl/graphbolt/impl/ondisk_dataset.py:463: GBWarning: Edge feature is stored, but edge IDs are not saved.\n",
      "  gb_warning(\"Edge feature is stored, but edge IDs are not saved.\")\n"
     ]
    }
   ],
   "source": [
    "dataset = gb.OnDiskDataset(base_dir).load()\n",
    "graph = dataset.graph\n",
    "print(f\"Loaded graph: {graph}\\n\")\n",
    "\n",
    "feature = dataset.feature\n",
    "print(f\"Loaded feature store: {feature}\\n\")\n",
    "\n",
    "tasks = dataset.tasks\n",
    "nc_task = tasks[0]\n",
    "print(f\"Loaded node classification task: {nc_task}\\n\")\n",
    "lp_task = tasks[1]\n",
    "print(f\"Loaded link prediction task: {lp_task}\\n\")"
   ]
  }
 ],
 "metadata": {
  "colab": {
   "private_outputs": true,
   "provenance": []
  },
  "kernelspec": {
   "display_name": "Python 3",
   "name": "python3"
  },
  "language_info": {
   "codemirror_mode": {
    "name": "ipython",
    "version": 3
   },
   "file_extension": ".py",
   "mimetype": "text/x-python",
   "name": "python",
   "nbconvert_exporter": "python",
   "pygments_lexer": "ipython3",
   "version": "3.10.15"
  }
 },
 "nbformat": 4,
 "nbformat_minor": 0
}

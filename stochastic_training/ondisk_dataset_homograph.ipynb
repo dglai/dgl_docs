{
 "cells": [
  {
   "cell_type": "markdown",
   "metadata": {
    "id": "FnFhPMaAfLtJ"
   },
   "source": [
    "# OnDiskDataset for Homogeneous Graph\n",
    "\n",
    "[![Open In Colab](https://colab.research.google.com/assets/colab-badge.svg)](https://colab.research.google.com/github/dmlc/dgl/blob/master/notebooks/stochastic_training/ondisk_dataset_homograph.ipynb) [![GitHub](https://img.shields.io/badge/-View%20on%20GitHub-181717?logo=github&logoColor=ffffff)](https://github.com/dmlc/dgl/blob/master/notebooks/stochastic_training/ondisk_dataset_homograph.ipynb)\n",
    "\n",
    "This tutorial shows how to create `OnDiskDataset` for homogeneous graph that could be used in **GraphBolt** framework.\n",
    "\n",
    "By the end of this tutorial, you will be able to\n",
    "\n",
    "- organize graph structure data.\n",
    "- organize feature data.\n",
    "- organize training/validation/test set for specific tasks.\n",
    "\n",
    "To create an ``OnDiskDataset`` object, you need to organize all the data including graph structure, feature data and tasks into a directory. The directory should contain a ``metadata.yaml`` file that describes the metadata of the dataset.\n",
    "\n",
    "Now let's generate various data step by step and organize them together to instantiate `OnDiskDataset` finally."
   ]
  },
  {
   "cell_type": "markdown",
   "metadata": {
    "id": "Wlb19DtWgtzq"
   },
   "source": [
    "## Install DGL package"
   ]
  },
  {
   "cell_type": "code",
   "execution_count": 1,
   "metadata": {
    "execution": {
     "iopub.execute_input": "2024-10-17T13:20:52.263865Z",
     "iopub.status.busy": "2024-10-17T13:20:52.263542Z",
     "iopub.status.idle": "2024-10-17T13:20:55.351488Z",
     "shell.execute_reply": "2024-10-17T13:20:55.346839Z"
    },
    "id": "UojlT9ZGgyr9"
   },
   "outputs": [
    {
     "name": "stdout",
     "output_type": "stream",
     "text": [
      "Looking in links: https://data.dgl.ai/wheels-test/repo.html\r\n",
      "Requirement already satisfied: dgl in /opt/conda/envs/dgl-dev-cpu/lib/python3.10/site-packages (2.2a240410)\r\n",
      "Requirement already satisfied: numpy>=1.14.0 in /opt/conda/envs/dgl-dev-cpu/lib/python3.10/site-packages (from dgl) (1.26.4)\r\n",
      "Requirement already satisfied: scipy>=1.1.0 in /opt/conda/envs/dgl-dev-cpu/lib/python3.10/site-packages (from dgl) (1.14.1)\r\n",
      "Requirement already satisfied: networkx>=2.1 in /opt/conda/envs/dgl-dev-cpu/lib/python3.10/site-packages (from dgl) (3.4.1)\r\n",
      "Requirement already satisfied: requests>=2.19.0 in /opt/conda/envs/dgl-dev-cpu/lib/python3.10/site-packages (from dgl) (2.32.3)\r\n",
      "Requirement already satisfied: tqdm in /opt/conda/envs/dgl-dev-cpu/lib/python3.10/site-packages (from dgl) (4.66.5)\r\n",
      "Requirement already satisfied: psutil>=5.8.0 in /opt/conda/envs/dgl-dev-cpu/lib/python3.10/site-packages (from dgl) (6.0.0)\r\n",
      "Requirement already satisfied: torchdata>=0.5.0 in /opt/conda/envs/dgl-dev-cpu/lib/python3.10/site-packages (from dgl) (0.8.0)\r\n",
      "Requirement already satisfied: pandas in /opt/conda/envs/dgl-dev-cpu/lib/python3.10/site-packages (from dgl) (2.2.3)\r\n"
     ]
    },
    {
     "name": "stdout",
     "output_type": "stream",
     "text": [
      "Requirement already satisfied: charset-normalizer<4,>=2 in /opt/conda/envs/dgl-dev-cpu/lib/python3.10/site-packages (from requests>=2.19.0->dgl) (3.4.0)\r\n",
      "Requirement already satisfied: idna<4,>=2.5 in /opt/conda/envs/dgl-dev-cpu/lib/python3.10/site-packages (from requests>=2.19.0->dgl) (3.10)\r\n",
      "Requirement already satisfied: urllib3<3,>=1.21.1 in /opt/conda/envs/dgl-dev-cpu/lib/python3.10/site-packages (from requests>=2.19.0->dgl) (2.2.3)\r\n",
      "Requirement already satisfied: certifi>=2017.4.17 in /opt/conda/envs/dgl-dev-cpu/lib/python3.10/site-packages (from requests>=2.19.0->dgl) (2024.8.30)\r\n",
      "Requirement already satisfied: torch>=2 in /opt/conda/envs/dgl-dev-cpu/lib/python3.10/site-packages (from torchdata>=0.5.0->dgl) (2.1.0+cpu)\r\n"
     ]
    },
    {
     "name": "stdout",
     "output_type": "stream",
     "text": [
      "Requirement already satisfied: python-dateutil>=2.8.2 in /opt/conda/envs/dgl-dev-cpu/lib/python3.10/site-packages (from pandas->dgl) (2.9.0.post0)\r\n",
      "Requirement already satisfied: pytz>=2020.1 in /opt/conda/envs/dgl-dev-cpu/lib/python3.10/site-packages (from pandas->dgl) (2024.2)\r\n",
      "Requirement already satisfied: tzdata>=2022.7 in /opt/conda/envs/dgl-dev-cpu/lib/python3.10/site-packages (from pandas->dgl) (2024.2)\r\n",
      "Requirement already satisfied: six>=1.5 in /opt/conda/envs/dgl-dev-cpu/lib/python3.10/site-packages (from python-dateutil>=2.8.2->pandas->dgl) (1.16.0)\r\n",
      "Requirement already satisfied: filelock in /opt/conda/envs/dgl-dev-cpu/lib/python3.10/site-packages (from torch>=2->torchdata>=0.5.0->dgl) (3.16.1)\r\n",
      "Requirement already satisfied: typing-extensions in /opt/conda/envs/dgl-dev-cpu/lib/python3.10/site-packages (from torch>=2->torchdata>=0.5.0->dgl) (4.12.2)\r\n",
      "Requirement already satisfied: sympy in /opt/conda/envs/dgl-dev-cpu/lib/python3.10/site-packages (from torch>=2->torchdata>=0.5.0->dgl) (1.13.3)\r\n",
      "Requirement already satisfied: jinja2 in /opt/conda/envs/dgl-dev-cpu/lib/python3.10/site-packages (from torch>=2->torchdata>=0.5.0->dgl) (3.1.4)\r\n",
      "Requirement already satisfied: fsspec in /opt/conda/envs/dgl-dev-cpu/lib/python3.10/site-packages (from torch>=2->torchdata>=0.5.0->dgl) (2024.9.0)\r\n"
     ]
    },
    {
     "name": "stdout",
     "output_type": "stream",
     "text": [
      "Requirement already satisfied: MarkupSafe>=2.0 in /opt/conda/envs/dgl-dev-cpu/lib/python3.10/site-packages (from jinja2->torch>=2->torchdata>=0.5.0->dgl) (3.0.1)\r\n",
      "Requirement already satisfied: mpmath<1.4,>=1.1.0 in /opt/conda/envs/dgl-dev-cpu/lib/python3.10/site-packages (from sympy->torch>=2->torchdata>=0.5.0->dgl) (1.3.0)\r\n"
     ]
    },
    {
     "name": "stdout",
     "output_type": "stream",
     "text": [
      "\u001b[33mWARNING: Running pip as the 'root' user can result in broken permissions and conflicting behaviour with the system package manager, possibly rendering your system unusable.It is recommended to use a virtual environment instead: https://pip.pypa.io/warnings/venv. Use the --root-user-action option if you know what you are doing and want to suppress this warning.\u001b[0m\u001b[33m\r\n",
      "\u001b[0m"
     ]
    },
    {
     "name": "stdout",
     "output_type": "stream",
     "text": [
      "DGL installed!\n"
     ]
    }
   ],
   "source": [
    "# Install required packages.\n",
    "import os\n",
    "import torch\n",
    "import numpy as np\n",
    "os.environ['TORCH'] = torch.__version__\n",
    "os.environ['DGLBACKEND'] = \"pytorch\"\n",
    "\n",
    "# Install the CPU version.\n",
    "device = torch.device(\"cpu\")\n",
    "!pip install --pre dgl -f https://data.dgl.ai/wheels-test/repo.html\n",
    "\n",
    "try:\n",
    "    import dgl\n",
    "    import dgl.graphbolt as gb\n",
    "    installed = True\n",
    "except ImportError as error:\n",
    "    installed = False\n",
    "    print(error)\n",
    "print(\"DGL installed!\" if installed else \"DGL not found!\")"
   ]
  },
  {
   "cell_type": "markdown",
   "metadata": {
    "id": "2R7WnSbjsfbr"
   },
   "source": [
    "## Data preparation\n",
    "In order to demonstrate how to organize various data, let's create a base directory first."
   ]
  },
  {
   "cell_type": "code",
   "execution_count": 2,
   "metadata": {
    "execution": {
     "iopub.execute_input": "2024-10-17T13:20:55.354716Z",
     "iopub.status.busy": "2024-10-17T13:20:55.354069Z",
     "iopub.status.idle": "2024-10-17T13:20:55.359570Z",
     "shell.execute_reply": "2024-10-17T13:20:55.358693Z"
    },
    "id": "SZipbzyltLfO"
   },
   "outputs": [
    {
     "name": "stdout",
     "output_type": "stream",
     "text": [
      "Created base directory: ./ondisk_dataset_homograph\n"
     ]
    }
   ],
   "source": [
    "base_dir = './ondisk_dataset_homograph'\n",
    "os.makedirs(base_dir, exist_ok=True)\n",
    "print(f\"Created base directory: {base_dir}\")"
   ]
  },
  {
   "cell_type": "markdown",
   "metadata": {
    "id": "qhNtIn_xhlnl"
   },
   "source": [
    "### Generate graph structure data\n",
    "For homogeneous graph, we just need to save edges(namely seeds) into  **Numpy** or **CSV** file.\n",
    "\n",
    "Note:\n",
    "- when saving to **Numpy**, the array requires to be in shape of `(2, N)`. This format is recommended as constructing graph from it is much faster than **CSV** file.\n",
    "- when saving to **CSV** file, do not save index and header.\n"
   ]
  },
  {
   "cell_type": "code",
   "execution_count": 3,
   "metadata": {
    "execution": {
     "iopub.execute_input": "2024-10-17T13:20:55.362663Z",
     "iopub.status.busy": "2024-10-17T13:20:55.362413Z",
     "iopub.status.idle": "2024-10-17T13:20:55.376627Z",
     "shell.execute_reply": "2024-10-17T13:20:55.375745Z"
    },
    "id": "HcBt4G5BmSjr"
   },
   "outputs": [
    {
     "name": "stdout",
     "output_type": "stream",
     "text": [
      "Part of edges: [[ 74 523]\n",
      " [752 920]\n",
      " [585 136]\n",
      " [345 999]\n",
      " [754  78]]\n",
      "Edges are saved into ./ondisk_dataset_homograph/edges.csv\n"
     ]
    }
   ],
   "source": [
    "import numpy as np\n",
    "import pandas as pd\n",
    "num_nodes = 1000\n",
    "num_edges = 10 * num_nodes\n",
    "edges_path = os.path.join(base_dir, \"edges.csv\")\n",
    "edges = np.random.randint(0, num_nodes, size=(num_edges, 2))\n",
    "\n",
    "print(f\"Part of edges: {edges[:5, :]}\")\n",
    "\n",
    "df = pd.DataFrame(edges)\n",
    "df.to_csv(edges_path, index=False, header=False)\n",
    "\n",
    "print(f\"Edges are saved into {edges_path}\")"
   ]
  },
  {
   "cell_type": "markdown",
   "metadata": {
    "id": "kh-4cPtzpcaH"
   },
   "source": [
    "### Generate feature data for graph\n",
    "For feature data, numpy arrays and torch tensors are supported for now."
   ]
  },
  {
   "cell_type": "code",
   "execution_count": 4,
   "metadata": {
    "execution": {
     "iopub.execute_input": "2024-10-17T13:20:55.379028Z",
     "iopub.status.busy": "2024-10-17T13:20:55.378824Z",
     "iopub.status.idle": "2024-10-17T13:20:55.392340Z",
     "shell.execute_reply": "2024-10-17T13:20:55.391532Z"
    },
    "id": "_PVu1u5brBhF"
   },
   "outputs": [
    {
     "name": "stdout",
     "output_type": "stream",
     "text": [
      "Part of node feature [feat_0]: [[0.40731167 0.51731558 0.26487819 0.82849238 0.24814657]\n",
      " [0.40075026 0.12194242 0.76430267 0.82834907 0.87653288]\n",
      " [0.63013314 0.13531201 0.77564899 0.40005961 0.11698608]]\n",
      "Node feature [feat_0] is saved to ./ondisk_dataset_homograph/node-feat-0.npy\n",
      "\n",
      "Part of node feature [feat_1]: tensor([[0.3845, 0.4509, 0.2767, 0.0740, 0.6063],\n",
      "        [0.3037, 0.5389, 0.5455, 0.7913, 0.9547],\n",
      "        [0.7308, 0.9442, 0.1412, 0.5058, 0.6040]])\n",
      "Node feature [feat_1] is saved to ./ondisk_dataset_homograph/node-feat-1.pt\n",
      "\n",
      "Part of edge feature [feat_0]: [[0.74391959 0.16285631 0.12921704 0.63087611 0.2539145 ]\n",
      " [0.87880749 0.35552364 0.57649736 0.39086404 0.02575058]\n",
      " [0.18912345 0.94438621 0.08021445 0.41046504 0.18668225]]\n",
      "Edge feature [feat_0] is saved to ./ondisk_dataset_homograph/edge-feat-0.npy\n",
      "\n",
      "Part of edge feature [feat_1]: tensor([[0.2168, 0.7810, 0.8268, 0.5590, 0.6724],\n",
      "        [0.6525, 0.3764, 0.3318, 0.5913, 0.7923],\n",
      "        [0.2595, 0.9490, 0.0261, 0.8821, 0.8677]])\n",
      "Edge feature [feat_1] is saved to ./ondisk_dataset_homograph/edge-feat-1.pt\n",
      "\n"
     ]
    }
   ],
   "source": [
    "# Generate node feature in numpy array.\n",
    "node_feat_0_path = os.path.join(base_dir, \"node-feat-0.npy\")\n",
    "node_feat_0 = np.random.rand(num_nodes, 5)\n",
    "print(f\"Part of node feature [feat_0]: {node_feat_0[:3, :]}\")\n",
    "np.save(node_feat_0_path, node_feat_0)\n",
    "print(f\"Node feature [feat_0] is saved to {node_feat_0_path}\\n\")\n",
    "\n",
    "# Generate another node feature in torch tensor\n",
    "node_feat_1_path = os.path.join(base_dir, \"node-feat-1.pt\")\n",
    "node_feat_1 = torch.rand(num_nodes, 5)\n",
    "print(f\"Part of node feature [feat_1]: {node_feat_1[:3, :]}\")\n",
    "torch.save(node_feat_1, node_feat_1_path)\n",
    "print(f\"Node feature [feat_1] is saved to {node_feat_1_path}\\n\")\n",
    "\n",
    "# Generate edge feature in numpy array.\n",
    "edge_feat_0_path = os.path.join(base_dir, \"edge-feat-0.npy\")\n",
    "edge_feat_0 = np.random.rand(num_edges, 5)\n",
    "print(f\"Part of edge feature [feat_0]: {edge_feat_0[:3, :]}\")\n",
    "np.save(edge_feat_0_path, edge_feat_0)\n",
    "print(f\"Edge feature [feat_0] is saved to {edge_feat_0_path}\\n\")\n",
    "\n",
    "# Generate another edge feature in torch tensor\n",
    "edge_feat_1_path = os.path.join(base_dir, \"edge-feat-1.pt\")\n",
    "edge_feat_1 = torch.rand(num_edges, 5)\n",
    "print(f\"Part of edge feature [feat_1]: {edge_feat_1[:3, :]}\")\n",
    "torch.save(edge_feat_1, edge_feat_1_path)\n",
    "print(f\"Edge feature [feat_1] is saved to {edge_feat_1_path}\\n\")\n"
   ]
  },
  {
   "cell_type": "markdown",
   "metadata": {
    "id": "ZyqgOtsIwzh_"
   },
   "source": [
    "### Generate tasks\n",
    "`OnDiskDataset` supports multiple tasks. For each task, we need to prepare training/validation/test sets respectively. Such sets usually vary among different tasks. In this tutorial, let's create a **Node Classification** task and **Link Prediction** task."
   ]
  },
  {
   "cell_type": "markdown",
   "metadata": {
    "id": "hVxHaDIfzCkr"
   },
   "source": [
    "#### Node Classification Task\n",
    "For node classification task, we need **node IDs** and corresponding **labels** for each training/validation/test set. Like feature data, numpy arrays and torch tensors are supported for these sets."
   ]
  },
  {
   "cell_type": "code",
   "execution_count": 5,
   "metadata": {
    "execution": {
     "iopub.execute_input": "2024-10-17T13:20:55.395225Z",
     "iopub.status.busy": "2024-10-17T13:20:55.394808Z",
     "iopub.status.idle": "2024-10-17T13:20:55.406836Z",
     "shell.execute_reply": "2024-10-17T13:20:55.406114Z"
    },
    "id": "S5-fyBbHzTCO"
   },
   "outputs": [
    {
     "name": "stdout",
     "output_type": "stream",
     "text": [
      "Part of train ids for node classification: [719 123 519]\n",
      "NC train ids are saved to ./ondisk_dataset_homograph/nc-train-ids.npy\n",
      "\n",
      "Part of train labels for node classification: tensor([3, 1, 9])\n",
      "NC train labels are saved to ./ondisk_dataset_homograph/nc-train-labels.pt\n",
      "\n",
      "Part of val ids for node classification: [567 106 413]\n",
      "NC val ids are saved to ./ondisk_dataset_homograph/nc-val-ids.npy\n",
      "\n",
      "Part of val labels for node classification: tensor([3, 3, 6])\n",
      "NC val labels are saved to ./ondisk_dataset_homograph/nc-val-labels.pt\n",
      "\n",
      "Part of test ids for node classification: [962 444  43]\n",
      "NC test ids are saved to ./ondisk_dataset_homograph/nc-test-ids.npy\n",
      "\n",
      "Part of test labels for node classification: tensor([1, 9, 9])\n",
      "NC test labels are saved to ./ondisk_dataset_homograph/nc-test-labels.pt\n",
      "\n"
     ]
    }
   ],
   "source": [
    "num_trains = int(num_nodes * 0.6)\n",
    "num_vals = int(num_nodes * 0.2)\n",
    "num_tests = num_nodes - num_trains - num_vals\n",
    "\n",
    "ids = np.arange(num_nodes)\n",
    "np.random.shuffle(ids)\n",
    "\n",
    "nc_train_ids_path = os.path.join(base_dir, \"nc-train-ids.npy\")\n",
    "nc_train_ids = ids[:num_trains]\n",
    "print(f\"Part of train ids for node classification: {nc_train_ids[:3]}\")\n",
    "np.save(nc_train_ids_path, nc_train_ids)\n",
    "print(f\"NC train ids are saved to {nc_train_ids_path}\\n\")\n",
    "\n",
    "nc_train_labels_path = os.path.join(base_dir, \"nc-train-labels.pt\")\n",
    "nc_train_labels = torch.randint(0, 10, (num_trains,))\n",
    "print(f\"Part of train labels for node classification: {nc_train_labels[:3]}\")\n",
    "torch.save(nc_train_labels, nc_train_labels_path)\n",
    "print(f\"NC train labels are saved to {nc_train_labels_path}\\n\")\n",
    "\n",
    "nc_val_ids_path = os.path.join(base_dir, \"nc-val-ids.npy\")\n",
    "nc_val_ids = ids[num_trains:num_trains+num_vals]\n",
    "print(f\"Part of val ids for node classification: {nc_val_ids[:3]}\")\n",
    "np.save(nc_val_ids_path, nc_val_ids)\n",
    "print(f\"NC val ids are saved to {nc_val_ids_path}\\n\")\n",
    "\n",
    "nc_val_labels_path = os.path.join(base_dir, \"nc-val-labels.pt\")\n",
    "nc_val_labels = torch.randint(0, 10, (num_vals,))\n",
    "print(f\"Part of val labels for node classification: {nc_val_labels[:3]}\")\n",
    "torch.save(nc_val_labels, nc_val_labels_path)\n",
    "print(f\"NC val labels are saved to {nc_val_labels_path}\\n\")\n",
    "\n",
    "nc_test_ids_path = os.path.join(base_dir, \"nc-test-ids.npy\")\n",
    "nc_test_ids = ids[-num_tests:]\n",
    "print(f\"Part of test ids for node classification: {nc_test_ids[:3]}\")\n",
    "np.save(nc_test_ids_path, nc_test_ids)\n",
    "print(f\"NC test ids are saved to {nc_test_ids_path}\\n\")\n",
    "\n",
    "nc_test_labels_path = os.path.join(base_dir, \"nc-test-labels.pt\")\n",
    "nc_test_labels = torch.randint(0, 10, (num_tests,))\n",
    "print(f\"Part of test labels for node classification: {nc_test_labels[:3]}\")\n",
    "torch.save(nc_test_labels, nc_test_labels_path)\n",
    "print(f\"NC test labels are saved to {nc_test_labels_path}\\n\")"
   ]
  },
  {
   "cell_type": "markdown",
   "metadata": {
    "id": "LhAcDCHQ_KJ0"
   },
   "source": [
    "#### Link Prediction Task\n",
    "For link prediction task, we need **seeds** or **corresponding labels and indexes** which representing the pos/neg property and group of the seeds for each training/validation/test set. Like feature data, numpy arrays and torch tensors are supported for these sets."
   ]
  },
  {
   "cell_type": "code",
   "execution_count": 6,
   "metadata": {
    "execution": {
     "iopub.execute_input": "2024-10-17T13:20:55.409615Z",
     "iopub.status.busy": "2024-10-17T13:20:55.409206Z",
     "iopub.status.idle": "2024-10-17T13:20:55.427697Z",
     "shell.execute_reply": "2024-10-17T13:20:55.426991Z"
    },
    "id": "u0jCnXIcAQy4"
   },
   "outputs": [
    {
     "name": "stdout",
     "output_type": "stream",
     "text": [
      "Part of train seeds for link prediction: [[ 74 523]\n",
      " [752 920]\n",
      " [585 136]]\n",
      "LP train seeds are saved to ./ondisk_dataset_homograph/lp-train-seeds.npy\n",
      "\n",
      "Part of val seeds for link prediction: [[280  12]\n",
      " [547 309]\n",
      " [ 37 563]]\n",
      "LP val seeds are saved to ./ondisk_dataset_homograph/lp-val-seeds.npy\n",
      "\n",
      "Part of val labels for link prediction: [1. 1. 1.]\n",
      "LP val labels are saved to ./ondisk_dataset_homograph/lp-val-labels.npy\n",
      "\n",
      "Part of val indexes for link prediction: [0 1 2]\n",
      "LP val indexes are saved to ./ondisk_dataset_homograph/lp-val-indexes.npy\n",
      "\n",
      "Part of test seeds for link prediction: [[139 283]\n",
      " [723 998]\n",
      " [980  26]]\n",
      "LP test seeds are saved to ./ondisk_dataset_homograph/lp-test-seeds.npy\n",
      "\n",
      "Part of val labels for link prediction: [1. 1. 1.]\n",
      "LP test labels are saved to ./ondisk_dataset_homograph/lp-test-labels.npy\n",
      "\n",
      "Part of test indexes for link prediction: [0 1 2]\n",
      "LP test indexes are saved to ./ondisk_dataset_homograph/lp-test-indexes.npy\n",
      "\n"
     ]
    }
   ],
   "source": [
    "num_trains = int(num_edges * 0.6)\n",
    "num_vals = int(num_edges * 0.2)\n",
    "num_tests = num_edges - num_trains - num_vals\n",
    "\n",
    "lp_train_seeds_path = os.path.join(base_dir, \"lp-train-seeds.npy\")\n",
    "lp_train_seeds = edges[:num_trains, :]\n",
    "print(f\"Part of train seeds for link prediction: {lp_train_seeds[:3]}\")\n",
    "np.save(lp_train_seeds_path, lp_train_seeds)\n",
    "print(f\"LP train seeds are saved to {lp_train_seeds_path}\\n\")\n",
    "\n",
    "lp_val_seeds_path = os.path.join(base_dir, \"lp-val-seeds.npy\")\n",
    "lp_val_seeds = edges[num_trains:num_trains+num_vals, :]\n",
    "lp_val_neg_dsts = np.random.randint(0, num_nodes, (num_vals, 10)).reshape(-1)\n",
    "lp_val_neg_srcs = np.repeat(lp_val_seeds[:,0], 10)\n",
    "lp_val_neg_seeds = np.concatenate((lp_val_neg_srcs, lp_val_neg_dsts)).reshape(2,-1).T\n",
    "lp_val_seeds = np.concatenate((lp_val_seeds, lp_val_neg_seeds))\n",
    "print(f\"Part of val seeds for link prediction: {lp_val_seeds[:3]}\")\n",
    "np.save(lp_val_seeds_path, lp_val_seeds)\n",
    "print(f\"LP val seeds are saved to {lp_val_seeds_path}\\n\")\n",
    "\n",
    "lp_val_labels_path = os.path.join(base_dir, \"lp-val-labels.npy\")\n",
    "lp_val_labels = np.empty(num_vals * (10 + 1))\n",
    "lp_val_labels[:num_vals] = 1\n",
    "lp_val_labels[num_vals:] = 0\n",
    "print(f\"Part of val labels for link prediction: {lp_val_labels[:3]}\")\n",
    "np.save(lp_val_labels_path, lp_val_labels)\n",
    "print(f\"LP val labels are saved to {lp_val_labels_path}\\n\")\n",
    "\n",
    "lp_val_indexes_path = os.path.join(base_dir, \"lp-val-indexes.npy\")\n",
    "lp_val_indexes = np.arange(0, num_vals)\n",
    "lp_val_neg_indexes = np.repeat(lp_val_indexes, 10)\n",
    "lp_val_indexes = np.concatenate([lp_val_indexes, lp_val_neg_indexes])\n",
    "print(f\"Part of val indexes for link prediction: {lp_val_indexes[:3]}\")\n",
    "np.save(lp_val_indexes_path, lp_val_indexes)\n",
    "print(f\"LP val indexes are saved to {lp_val_indexes_path}\\n\")\n",
    "\n",
    "lp_test_seeds_path = os.path.join(base_dir, \"lp-test-seeds.npy\")\n",
    "lp_test_seeds = edges[-num_tests:, :]\n",
    "lp_test_neg_dsts = np.random.randint(0, num_nodes, (num_tests, 10)).reshape(-1)\n",
    "lp_test_neg_srcs = np.repeat(lp_test_seeds[:,0], 10)\n",
    "lp_test_neg_seeds = np.concatenate((lp_test_neg_srcs, lp_test_neg_dsts)).reshape(2,-1).T\n",
    "lp_test_seeds = np.concatenate((lp_test_seeds, lp_test_neg_seeds))\n",
    "print(f\"Part of test seeds for link prediction: {lp_test_seeds[:3]}\")\n",
    "np.save(lp_test_seeds_path, lp_test_seeds)\n",
    "print(f\"LP test seeds are saved to {lp_test_seeds_path}\\n\")\n",
    "\n",
    "lp_test_labels_path = os.path.join(base_dir, \"lp-test-labels.npy\")\n",
    "lp_test_labels = np.empty(num_tests * (10 + 1))\n",
    "lp_test_labels[:num_tests] = 1\n",
    "lp_test_labels[num_tests:] = 0\n",
    "print(f\"Part of val labels for link prediction: {lp_test_labels[:3]}\")\n",
    "np.save(lp_test_labels_path, lp_test_labels)\n",
    "print(f\"LP test labels are saved to {lp_test_labels_path}\\n\")\n",
    "\n",
    "lp_test_indexes_path = os.path.join(base_dir, \"lp-test-indexes.npy\")\n",
    "lp_test_indexes = np.arange(0, num_tests)\n",
    "lp_test_neg_indexes = np.repeat(lp_test_indexes, 10)\n",
    "lp_test_indexes = np.concatenate([lp_test_indexes, lp_test_neg_indexes])\n",
    "print(f\"Part of test indexes for link prediction: {lp_test_indexes[:3]}\")\n",
    "np.save(lp_test_indexes_path, lp_test_indexes)\n",
    "print(f\"LP test indexes are saved to {lp_test_indexes_path}\\n\")"
   ]
  },
  {
   "cell_type": "markdown",
   "metadata": {
    "id": "wbk6-wxRK-6S"
   },
   "source": [
    "## Organize Data into YAML File\n",
    "Now we need to create a `metadata.yaml` file which contains the paths, dadta types of graph structure, feature data, training/validation/test sets.\n",
    "\n",
    "Notes:\n",
    "- all path should be relative to `metadata.yaml`.\n",
    "- Below fields are optional and not specified in below example.\n",
    "  - `in_memory`: indicates whether to load dada into memory or `mmap`. Default is `True`.\n",
    "\n",
    "Please refer to [YAML specification](https://github.com/dmlc/dgl/blob/master/docs/source/stochastic_training/ondisk-dataset-specification.rst) for more details."
   ]
  },
  {
   "cell_type": "code",
   "execution_count": 7,
   "metadata": {
    "execution": {
     "iopub.execute_input": "2024-10-17T13:20:55.430819Z",
     "iopub.status.busy": "2024-10-17T13:20:55.430124Z",
     "iopub.status.idle": "2024-10-17T13:20:55.436822Z",
     "shell.execute_reply": "2024-10-17T13:20:55.436267Z"
    },
    "id": "ddGTWW61Lpwp"
   },
   "outputs": [],
   "source": [
    "yaml_content = f\"\"\"\n",
    "    dataset_name: homogeneous_graph_nc_lp\n",
    "    graph:\n",
    "      nodes:\n",
    "        - num: {num_nodes}\n",
    "      edges:\n",
    "        - format: csv\n",
    "          path: {os.path.basename(edges_path)}\n",
    "    feature_data:\n",
    "      - domain: node\n",
    "        name: feat_0\n",
    "        format: numpy\n",
    "        path: {os.path.basename(node_feat_0_path)}\n",
    "      - domain: node\n",
    "        name: feat_1\n",
    "        format: torch\n",
    "        path: {os.path.basename(node_feat_1_path)}\n",
    "      - domain: edge\n",
    "        name: feat_0\n",
    "        format: numpy\n",
    "        path: {os.path.basename(edge_feat_0_path)}\n",
    "      - domain: edge\n",
    "        name: feat_1\n",
    "        format: torch\n",
    "        path: {os.path.basename(edge_feat_1_path)}\n",
    "    tasks:\n",
    "      - name: node_classification\n",
    "        num_classes: 10\n",
    "        train_set:\n",
    "          - data:\n",
    "              - name: seeds\n",
    "                format: numpy\n",
    "                path: {os.path.basename(nc_train_ids_path)}\n",
    "              - name: labels\n",
    "                format: torch\n",
    "                path: {os.path.basename(nc_train_labels_path)}\n",
    "        validation_set:\n",
    "          - data:\n",
    "              - name: seeds\n",
    "                format: numpy\n",
    "                path: {os.path.basename(nc_val_ids_path)}\n",
    "              - name: labels\n",
    "                format: torch\n",
    "                path: {os.path.basename(nc_val_labels_path)}\n",
    "        test_set:\n",
    "          - data:\n",
    "              - name: seeds\n",
    "                format: numpy\n",
    "                path: {os.path.basename(nc_test_ids_path)}\n",
    "              - name: labels\n",
    "                format: torch\n",
    "                path: {os.path.basename(nc_test_labels_path)}\n",
    "      - name: link_prediction\n",
    "        num_classes: 10\n",
    "        train_set:\n",
    "          - data:\n",
    "              - name: seeds\n",
    "                format: numpy\n",
    "                path: {os.path.basename(lp_train_seeds_path)}\n",
    "        validation_set:\n",
    "          - data:\n",
    "              - name: seeds\n",
    "                format: numpy\n",
    "                path: {os.path.basename(lp_val_seeds_path)}\n",
    "              - name: labels\n",
    "                format: numpy\n",
    "                path: {os.path.basename(lp_val_labels_path)}\n",
    "              - name: indexes\n",
    "                format: numpy\n",
    "                path: {os.path.basename(lp_val_indexes_path)}\n",
    "        test_set:\n",
    "          - data:\n",
    "              - name: seeds\n",
    "                format: numpy\n",
    "                path: {os.path.basename(lp_test_seeds_path)}\n",
    "              - name: labels\n",
    "                format: numpy\n",
    "                path: {os.path.basename(lp_test_labels_path)}\n",
    "              - name: indexes\n",
    "                format: numpy\n",
    "                path: {os.path.basename(lp_test_indexes_path)}\n",
    "\"\"\"\n",
    "metadata_path = os.path.join(base_dir, \"metadata.yaml\")\n",
    "with open(metadata_path, \"w\") as f:\n",
    "  f.write(yaml_content)"
   ]
  },
  {
   "cell_type": "markdown",
   "metadata": {
    "id": "kEfybHGhOW7O"
   },
   "source": [
    "## Instantiate `OnDiskDataset`\n",
    "Now we're ready to load dataset via `dgl.graphbolt.OnDiskDataset`. When instantiating, we just pass in the base directory where `metadata.yaml` file lies.\n",
    "\n",
    "During first instantiation, GraphBolt preprocesses the raw data such as constructing `FusedCSCSamplingGraph` from edges. All data including graph, feature data, training/validation/test sets are put into `preprocessed` directory after preprocessing. Any following dataset loading will skip the preprocess stage.\n",
    "\n",
    "After preprocessing, `load()` is required to be called explicitly in order to load graph, feature data and tasks."
   ]
  },
  {
   "cell_type": "code",
   "execution_count": 8,
   "metadata": {
    "execution": {
     "iopub.execute_input": "2024-10-17T13:20:55.438843Z",
     "iopub.status.busy": "2024-10-17T13:20:55.438484Z",
     "iopub.status.idle": "2024-10-17T13:20:55.503309Z",
     "shell.execute_reply": "2024-10-17T13:20:55.502561Z"
    },
    "id": "W58CZoSzOiyo"
   },
   "outputs": [
    {
     "name": "stdout",
     "output_type": "stream",
     "text": [
      "Start to preprocess the on-disk dataset.\n",
      "Finish preprocessing the on-disk dataset.\n",
      "Loaded graph: FusedCSCSamplingGraph(csc_indptr=tensor([    0,     9,    22,  ...,  9975,  9987, 10000], dtype=torch.int32),\n",
      "                      indices=tensor([390, 585, 642,  ..., 890, 955,  53], dtype=torch.int32),\n",
      "                      total_num_nodes=1000, num_edges=10000,)\n",
      "\n",
      "Loaded feature store: TorchBasedFeatureStore(\n",
      "    {(<OnDiskFeatureDataDomain.NODE: 'node'>, None, 'feat_0'): TorchBasedFeature(\n",
      "        feature=tensor([[0.4073, 0.5173, 0.2649, 0.8285, 0.2481],\n",
      "                        [0.4008, 0.1219, 0.7643, 0.8283, 0.8765],\n",
      "                        [0.6301, 0.1353, 0.7756, 0.4001, 0.1170],\n",
      "                        ...,\n",
      "                        [0.7130, 0.9700, 0.2030, 0.9235, 0.2525],\n",
      "                        [0.8173, 0.2836, 0.5732, 0.3791, 0.0428],\n",
      "                        [0.7194, 0.4988, 0.1729, 0.1998, 0.8575]], dtype=torch.float64),\n",
      "        metadata={},\n",
      "    ), (<OnDiskFeatureDataDomain.NODE: 'node'>, None, 'feat_1'): TorchBasedFeature(\n",
      "        feature=tensor([[0.3845, 0.4509, 0.2767, 0.0740, 0.6063],\n",
      "                        [0.3037, 0.5389, 0.5455, 0.7913, 0.9547],\n",
      "                        [0.7308, 0.9442, 0.1412, 0.5058, 0.6040],\n",
      "                        ...,\n",
      "                        [0.7353, 0.3477, 0.1299, 0.9145, 0.6742],\n",
      "                        [0.4641, 0.3333, 0.8180, 0.7882, 0.1638],\n",
      "                        [0.8856, 0.0226, 0.6107, 0.9452, 0.5087]]),\n",
      "        metadata={},\n",
      "    ), (<OnDiskFeatureDataDomain.EDGE: 'edge'>, None, 'feat_0'): TorchBasedFeature(\n",
      "        feature=tensor([[0.7439, 0.1629, 0.1292, 0.6309, 0.2539],\n",
      "                        [0.8788, 0.3555, 0.5765, 0.3909, 0.0258],\n",
      "                        [0.1891, 0.9444, 0.0802, 0.4105, 0.1867],\n",
      "                        ...,\n",
      "                        [0.6871, 0.1321, 0.6095, 0.9360, 0.8374],\n",
      "                        [0.5265, 0.7565, 0.4808, 0.8431, 0.0493],\n",
      "                        [0.6131, 0.9780, 0.4106, 0.1511, 0.5568]], dtype=torch.float64),\n",
      "        metadata={},\n",
      "    ), (<OnDiskFeatureDataDomain.EDGE: 'edge'>, None, 'feat_1'): TorchBasedFeature(\n",
      "        feature=tensor([[0.2168, 0.7810, 0.8268, 0.5590, 0.6724],\n",
      "                        [0.6525, 0.3764, 0.3318, 0.5913, 0.7923],\n",
      "                        [0.2595, 0.9490, 0.0261, 0.8821, 0.8677],\n",
      "                        ...,\n",
      "                        [0.5829, 0.3702, 0.7638, 0.1304, 0.0529],\n",
      "                        [0.3614, 0.6110, 0.1114, 0.6057, 0.3955],\n",
      "                        [0.6527, 0.3543, 0.8069, 0.2220, 0.6661]]),\n",
      "        metadata={},\n",
      "    )}\n",
      ")\n",
      "\n",
      "Loaded node classification task: OnDiskTask(validation_set=ItemSet(\n",
      "               items=(tensor([567, 106, 413, 263, 504, 961,   7, 490, 338, 991, 526, 454, 685, 700,\n",
      "                   627,  35, 625, 464, 414, 309, 982, 834, 957, 292, 882, 821,  90,  94,\n",
      "                   494, 104, 780, 632, 797, 832, 899, 976, 897, 971, 162, 884,  10, 995,\n",
      "                   339, 528, 130, 985, 676, 936, 374, 291, 618, 213, 981,  52, 137, 317,\n",
      "                    21, 932, 675, 397, 284, 683, 623, 996, 633, 287, 393, 298, 557, 909,\n",
      "                   192, 275, 646, 408, 847, 903, 874, 573, 684, 262, 863, 572, 724, 696,\n",
      "                   728, 343, 525, 182,  84, 686, 905, 876, 237, 359, 241, 321, 896, 665,\n",
      "                   914, 227, 144, 191, 497, 900,  36, 117, 742, 743, 322, 800, 508, 424,\n",
      "                   250, 311, 326,  33, 898, 212, 656,  19, 984, 945, 431, 532, 946, 352,\n",
      "                   351, 674, 635, 435, 471, 698, 986, 178, 792, 865,  70,  49, 958, 983,\n",
      "                   382, 150, 592,  63, 418, 734,  16, 988, 828, 518, 142, 103, 293, 377,\n",
      "                   203, 604, 715, 769, 943, 235, 527, 747, 589, 770, 460, 344, 221, 300,\n",
      "                   864, 939, 540, 585, 345, 458, 640, 560, 928, 602, 885, 146, 465, 168,\n",
      "                   468, 480, 711, 603, 420, 272, 980, 535, 808, 942, 109, 904, 514, 717,\n",
      "                   455, 751, 705, 807], dtype=torch.int32), tensor([3, 3, 6, 1, 1, 4, 4, 4, 9, 0, 0, 2, 9, 4, 6, 9, 5, 8, 3, 0, 5, 5, 9, 3,\n",
      "                   6, 6, 8, 2, 6, 6, 9, 8, 8, 2, 7, 4, 7, 8, 4, 6, 5, 4, 5, 1, 8, 2, 4, 0,\n",
      "                   5, 8, 9, 8, 7, 5, 7, 3, 6, 1, 7, 3, 6, 8, 0, 6, 7, 0, 0, 1, 4, 5, 2, 8,\n",
      "                   9, 4, 7, 0, 2, 9, 4, 6, 9, 0, 1, 8, 6, 6, 8, 4, 9, 8, 4, 4, 6, 4, 8, 7,\n",
      "                   2, 9, 4, 9, 5, 1, 8, 7, 0, 1, 3, 8, 8, 6, 0, 3, 3, 9, 0, 1, 3, 5, 9, 8,\n",
      "                   0, 9, 2, 8, 4, 9, 2, 8, 5, 0, 5, 6, 0, 8, 8, 6, 4, 2, 2, 5, 8, 2, 0, 4,\n",
      "                   5, 9, 2, 1, 7, 8, 8, 7, 3, 5, 5, 7, 9, 6, 6, 7, 9, 9, 0, 9, 9, 5, 5, 5,\n",
      "                   0, 0, 8, 1, 1, 8, 1, 7, 4, 7, 2, 8, 9, 8, 2, 1, 6, 4, 1, 9, 7, 3, 2, 9,\n",
      "                   9, 4, 1, 2, 3, 0, 1, 6])),\n",
      "               names=('seeds', 'labels'),\n",
      "           ),\n",
      "           train_set=ItemSet(\n",
      "               items=(tensor([719, 123, 519,  77, 506,  99, 809, 538, 155, 660, 922, 960, 486, 132,\n",
      "                   416, 703, 443, 277, 822, 533,  44, 260, 364, 816,  51, 308, 818, 375,\n",
      "                   349, 215, 619, 841, 441, 105, 783, 631, 511, 840, 118, 196, 733, 929,\n",
      "                   181, 160, 334, 748, 188, 860, 614, 171,  46, 681,  28, 121,  53, 211,\n",
      "                   206,  62,  41, 778, 406, 456, 756, 574, 910, 325, 601, 649, 319, 992,\n",
      "                   877, 788, 197, 487, 283, 706, 720, 113, 634, 955, 304, 944, 531, 920,\n",
      "                   195, 671, 170, 661, 267, 503, 216, 110, 558, 814, 883, 911, 655, 851,\n",
      "                   391, 951, 510,  89, 266,  69, 446, 908, 759, 427, 825,  68, 243, 520,\n",
      "                    26, 434, 999, 765,  81, 820, 169,  59, 383, 280,   0, 931, 935, 248,\n",
      "                   799, 274, 295, 273, 714, 180, 966, 670, 838, 549, 590, 297, 855, 729,\n",
      "                   205,  71, 388, 184, 264, 529, 791, 626, 781, 483, 839, 145, 336, 894,\n",
      "                   972, 354, 310,  78, 307, 156, 151, 888, 386, 143, 727, 233, 381,  15,\n",
      "                   229, 350,  91, 158, 548, 805, 268, 302,  60, 172, 543, 702, 570,  93,\n",
      "                   722, 341, 657,  45, 831, 457,   8, 436, 861, 186, 833, 412, 365, 498,\n",
      "                   251, 429, 303,  61, 214, 757, 314, 492, 404, 481, 813, 812, 578, 507,\n",
      "                   723, 547, 423, 895, 396, 940, 998, 546, 730, 209, 600, 271, 255, 136,\n",
      "                    82, 599,  83, 261, 501, 363, 545,  18, 563, 826, 842, 575,  73, 872,\n",
      "                   610, 930, 974, 637,  42, 704, 598, 185, 107, 278, 919, 555, 785, 370,\n",
      "                   234, 918, 641, 871, 368,  25, 102,  85, 385, 401, 337, 256, 230, 709,\n",
      "                   290, 554, 515, 190, 564, 447, 152, 167, 749, 782,  76, 228, 125, 131,\n",
      "                   836, 862,  13, 624, 755,  75, 979, 279, 690,  86, 402, 282, 165, 451,\n",
      "                   357, 333,  80,  56,  54, 773, 154,  98, 126, 666, 462, 921, 924, 892,\n",
      "                    17, 768, 224, 915, 199, 607, 166, 179, 789, 399, 857, 638, 387, 902,\n",
      "                   645, 580, 893, 542, 472, 735, 843, 198, 469, 695,  20, 771, 259, 970,\n",
      "                   565, 965, 907, 301,   2, 694, 306, 445, 767, 161, 990,  88, 672, 217,\n",
      "                   305, 140, 583, 925,  67, 856, 439, 817, 721, 147, 285, 682, 163, 347,\n",
      "                   630, 953, 648, 854, 239, 917, 701, 225, 415, 477, 866, 534, 159, 622,\n",
      "                   193, 226, 475, 124, 804, 989, 760, 373, 689, 798, 949, 108, 335, 664,\n",
      "                   579, 269, 845, 844, 491, 244, 605, 830,  57, 810, 779, 758, 428, 544,\n",
      "                   850, 628, 596, 410, 128, 568, 763,  40, 101, 135, 766, 594, 398, 653,\n",
      "                   207, 967, 588, 975,  32, 740, 731,  38, 258, 369, 688, 220, 183, 379,\n",
      "                   629, 315, 450, 926, 111, 716,   3, 569,  29, 693, 652,  96,  22, 678,\n",
      "                   880, 597, 149, 846, 595,  66, 615, 194, 794, 642, 425, 164, 276, 536,\n",
      "                   495, 499, 754,  24, 265, 390, 927, 753,  58, 879,  87, 299, 556, 473,\n",
      "                    79, 581, 606, 463, 177, 963, 644, 562, 586, 796, 232, 647, 467,  72,\n",
      "                   218, 112, 680, 815, 459, 669, 662, 122, 329, 437,  47, 530, 777, 327,\n",
      "                   378, 959,  23, 153, 208, 803, 713, 231, 643, 409, 521, 376, 380, 252,\n",
      "                   947, 587, 994, 829, 175,  14, 432, 890, 948, 238, 133, 245, 806, 617,\n",
      "                   741, 901, 968, 395, 667, 707, 699, 332, 442, 790, 236, 852, 417, 736,\n",
      "                   139, 752, 582, 616, 737, 470, 257, 120, 541, 609,  95, 889, 679, 476,\n",
      "                   331, 219, 912,  92, 853, 489, 835, 837, 744, 411, 786, 726, 433, 330,\n",
      "                   328, 650, 745, 513, 240, 342, 738, 608, 941,   4, 119, 870, 772, 677,\n",
      "                   878, 848, 553,  27, 561, 485, 823,  74, 430, 523, 764, 659],\n",
      "                  dtype=torch.int32), tensor([3, 1, 9, 0, 1, 8, 0, 1, 3, 7, 1, 2, 7, 7, 0, 4, 7, 9, 5, 5, 0, 3, 3, 7,\n",
      "                   5, 0, 7, 0, 8, 4, 8, 0, 9, 7, 3, 4, 9, 8, 9, 5, 0, 0, 0, 1, 6, 7, 4, 6,\n",
      "                   6, 8, 7, 0, 2, 3, 4, 7, 6, 0, 1, 9, 1, 9, 9, 2, 5, 2, 0, 0, 9, 9, 3, 1,\n",
      "                   4, 1, 1, 8, 0, 6, 3, 6, 1, 4, 8, 3, 0, 6, 0, 2, 3, 6, 4, 7, 6, 8, 0, 4,\n",
      "                   7, 3, 5, 0, 9, 4, 5, 1, 1, 0, 1, 1, 7, 8, 2, 5, 5, 4, 1, 2, 0, 9, 0, 3,\n",
      "                   5, 3, 6, 1, 7, 1, 8, 2, 7, 5, 9, 3, 8, 6, 6, 1, 8, 4, 8, 0, 1, 1, 2, 1,\n",
      "                   3, 5, 0, 2, 4, 5, 3, 2, 6, 0, 4, 0, 2, 7, 6, 9, 7, 4, 7, 8, 0, 8, 2, 3,\n",
      "                   1, 1, 5, 7, 3, 3, 9, 3, 6, 6, 5, 0, 3, 1, 3, 5, 3, 0, 4, 6, 4, 4, 3, 9,\n",
      "                   6, 1, 0, 8, 3, 5, 4, 8, 6, 5, 8, 4, 7, 9, 6, 0, 2, 7, 8, 4, 1, 5, 4, 7,\n",
      "                   5, 0, 6, 6, 2, 9, 4, 6, 8, 8, 2, 0, 1, 7, 6, 0, 9, 6, 3, 0, 0, 2, 6, 4,\n",
      "                   1, 0, 2, 3, 3, 5, 6, 6, 6, 4, 1, 5, 5, 1, 6, 2, 5, 4, 3, 7, 3, 6, 6, 3,\n",
      "                   1, 1, 9, 8, 7, 7, 1, 8, 2, 9, 0, 8, 1, 1, 8, 4, 5, 5, 8, 2, 9, 9, 9, 9,\n",
      "                   6, 3, 1, 4, 2, 8, 9, 0, 8, 8, 7, 4, 9, 6, 1, 3, 8, 2, 4, 4, 9, 2, 4, 2,\n",
      "                   9, 2, 2, 6, 4, 2, 1, 2, 1, 3, 0, 0, 8, 9, 0, 2, 5, 2, 9, 3, 8, 9, 1, 8,\n",
      "                   9, 2, 4, 7, 8, 4, 4, 7, 4, 2, 4, 0, 2, 8, 5, 7, 2, 3, 1, 3, 4, 4, 4, 5,\n",
      "                   0, 8, 5, 5, 8, 1, 4, 4, 3, 8, 9, 4, 1, 9, 7, 3, 3, 5, 1, 0, 3, 2, 4, 0,\n",
      "                   0, 8, 6, 1, 3, 0, 2, 2, 6, 9, 1, 9, 5, 6, 1, 9, 7, 7, 8, 1, 7, 3, 4, 3,\n",
      "                   9, 1, 4, 9, 3, 9, 2, 6, 1, 2, 1, 8, 0, 7, 7, 6, 8, 2, 8, 6, 9, 2, 3, 4,\n",
      "                   5, 4, 6, 6, 1, 1, 5, 4, 7, 1, 7, 5, 5, 0, 3, 3, 7, 9, 7, 9, 8, 8, 2, 0,\n",
      "                   5, 7, 8, 3, 3, 1, 9, 7, 4, 8, 2, 5, 2, 1, 5, 7, 0, 7, 3, 6, 2, 9, 2, 8,\n",
      "                   4, 8, 4, 5, 7, 9, 9, 9, 0, 2, 9, 6, 4, 0, 8, 1, 3, 1, 0, 2, 2, 8, 5, 4,\n",
      "                   5, 1, 0, 0, 0, 2, 7, 0, 1, 4, 4, 2, 2, 3, 1, 1, 7, 9, 7, 3, 8, 3, 3, 6,\n",
      "                   5, 2, 1, 6, 5, 9, 4, 5, 7, 7, 0, 1, 1, 9, 6, 1, 9, 9, 7, 8, 4, 4, 2, 0,\n",
      "                   6, 8, 3, 0, 3, 6, 2, 2, 0, 7, 8, 8, 3, 7, 3, 5, 8, 4, 6, 4, 1, 5, 9, 8,\n",
      "                   4, 1, 5, 6, 3, 4, 4, 7, 7, 5, 6, 7, 0, 3, 7, 7, 7, 9, 4, 8, 5, 2, 4, 4])),\n",
      "               names=('seeds', 'labels'),\n",
      "           ),\n",
      "           test_set=ItemSet(\n",
      "               items=(tensor([962, 444,  43, 479, 891, 355, 697, 134, 116, 324, 651, 320, 372, 440,\n",
      "                   746, 620, 964, 517, 987, 859, 129, 819, 484, 973, 204, 795, 938, 360,\n",
      "                   591, 482, 969, 636, 978, 461, 281, 296,  55,  39, 774, 438, 654, 673,\n",
      "                   550, 954, 934, 500, 923, 366, 613, 505, 249, 419, 867, 141, 466, 663,\n",
      "                   887, 776, 868, 202, 313, 793, 571, 353, 612, 566, 356, 552, 405, 316,\n",
      "                   312, 576, 937, 784, 762, 496, 452, 127, 708, 524, 916, 493, 559, 407,\n",
      "                    48, 340, 389, 577, 115, 392, 802, 361, 242, 732, 114,   1,  12, 775,\n",
      "                   801, 201, 824, 348, 362, 478, 881,  30, 323,  65, 993, 516, 174, 551,\n",
      "                   869, 286,  64, 148, 827,  37, 537, 176, 787, 100, 346, 157, 512, 488,\n",
      "                    50, 288,   6, 403, 318, 906, 997, 400, 173, 384, 712, 849, 247, 950,\n",
      "                   639, 811, 718,   9, 621, 421, 933, 739, 687, 858, 474, 187, 138, 371,\n",
      "                    34, 223,  11, 502, 611, 453, 426, 913, 522, 584,   5, 448, 593, 222,\n",
      "                   270, 952, 246, 725, 394,  31, 200, 358, 668, 422, 294, 886, 873, 710,\n",
      "                   189, 253, 761, 956, 289, 750, 691, 875, 658, 254,  97, 539, 210, 977,\n",
      "                   692, 509, 367, 449], dtype=torch.int32), tensor([1, 9, 9, 0, 7, 9, 5, 8, 7, 5, 6, 1, 2, 2, 8, 3, 5, 7, 7, 3, 9, 9, 4, 1,\n",
      "                   2, 6, 2, 2, 4, 1, 8, 2, 7, 7, 2, 5, 0, 0, 5, 4, 1, 1, 9, 4, 5, 1, 0, 2,\n",
      "                   2, 3, 9, 2, 2, 2, 7, 2, 2, 6, 9, 0, 3, 6, 3, 0, 2, 1, 6, 2, 2, 6, 7, 2,\n",
      "                   3, 7, 9, 8, 7, 2, 9, 8, 7, 5, 5, 1, 6, 9, 7, 6, 2, 4, 0, 3, 5, 9, 2, 6,\n",
      "                   9, 1, 9, 5, 8, 4, 1, 3, 2, 5, 2, 8, 0, 6, 5, 4, 6, 1, 3, 6, 6, 2, 9, 3,\n",
      "                   7, 6, 2, 0, 4, 7, 0, 2, 6, 0, 8, 4, 9, 1, 7, 6, 4, 9, 2, 3, 8, 6, 6, 0,\n",
      "                   9, 1, 7, 0, 5, 2, 2, 6, 8, 0, 4, 2, 3, 2, 4, 5, 9, 3, 4, 5, 5, 0, 1, 2,\n",
      "                   4, 4, 1, 9, 1, 0, 6, 5, 0, 2, 6, 7, 4, 5, 4, 5, 2, 1, 0, 9, 9, 0, 5, 7,\n",
      "                   3, 4, 8, 3, 3, 6, 3, 1])),\n",
      "               names=('seeds', 'labels'),\n",
      "           ),\n",
      "           metadata={'name': 'node_classification', 'num_classes': 10},)\n",
      "\n",
      "Loaded link prediction task: OnDiskTask(validation_set=ItemSet(\n",
      "               items=(tensor([[280,  12],\n",
      "                   [547, 309],\n",
      "                   [ 37, 563],\n",
      "                   ...,\n",
      "                   [961, 229],\n",
      "                   [961, 786],\n",
      "                   [961, 497]], dtype=torch.int32), tensor([1., 1., 1.,  ..., 0., 0., 0.], dtype=torch.float64), tensor([   0,    1,    2,  ..., 1999, 1999, 1999])),\n",
      "               names=('seeds', 'labels', 'indexes'),\n",
      "           ),\n",
      "           train_set=ItemSet(\n",
      "               items=(tensor([[ 74, 523],\n",
      "                   [752, 920],\n",
      "                   [585, 136],\n",
      "                   ...,\n",
      "                   [230, 758],\n",
      "                   [ 34, 696],\n",
      "                   [135, 982]], dtype=torch.int32),),\n",
      "               names=('seeds',),\n",
      "           ),\n",
      "           test_set=ItemSet(\n",
      "               items=(tensor([[139, 283],\n",
      "                   [723, 998],\n",
      "                   [980,  26],\n",
      "                   ...,\n",
      "                   [586, 301],\n",
      "                   [586, 954],\n",
      "                   [586, 439]], dtype=torch.int32), tensor([1., 1., 1.,  ..., 0., 0., 0.], dtype=torch.float64), tensor([   0,    1,    2,  ..., 1999, 1999, 1999])),\n",
      "               names=('seeds', 'labels', 'indexes'),\n",
      "           ),\n",
      "           metadata={'name': 'link_prediction', 'num_classes': 10},)\n",
      "\n"
     ]
    },
    {
     "name": "stderr",
     "output_type": "stream",
     "text": [
      "/dgl/python/dgl/graphbolt/impl/ondisk_dataset.py:463: GBWarning: Edge feature is stored, but edge IDs are not saved.\n",
      "  gb_warning(\"Edge feature is stored, but edge IDs are not saved.\")\n"
     ]
    }
   ],
   "source": [
    "dataset = gb.OnDiskDataset(base_dir).load()\n",
    "graph = dataset.graph\n",
    "print(f\"Loaded graph: {graph}\\n\")\n",
    "\n",
    "feature = dataset.feature\n",
    "print(f\"Loaded feature store: {feature}\\n\")\n",
    "\n",
    "tasks = dataset.tasks\n",
    "nc_task = tasks[0]\n",
    "print(f\"Loaded node classification task: {nc_task}\\n\")\n",
    "lp_task = tasks[1]\n",
    "print(f\"Loaded link prediction task: {lp_task}\\n\")"
   ]
  }
 ],
 "metadata": {
  "colab": {
   "private_outputs": true,
   "provenance": []
  },
  "kernelspec": {
   "display_name": "Python 3",
   "name": "python3"
  },
  "language_info": {
   "codemirror_mode": {
    "name": "ipython",
    "version": 3
   },
   "file_extension": ".py",
   "mimetype": "text/x-python",
   "name": "python",
   "nbconvert_exporter": "python",
   "pygments_lexer": "ipython3",
   "version": "3.10.15"
  }
 },
 "nbformat": 4,
 "nbformat_minor": 0
}

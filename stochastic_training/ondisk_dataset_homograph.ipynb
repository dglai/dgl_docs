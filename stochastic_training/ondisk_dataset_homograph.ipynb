{
 "cells": [
  {
   "cell_type": "markdown",
   "metadata": {
    "id": "FnFhPMaAfLtJ"
   },
   "source": [
    "# OnDiskDataset for Homogeneous Graph\n",
    "\n",
    "[![Open In Colab](https://colab.research.google.com/assets/colab-badge.svg)](https://colab.research.google.com/github/dmlc/dgl/blob/master/notebooks/stochastic_training/ondisk_dataset_homograph.ipynb) [![GitHub](https://img.shields.io/badge/-View%20on%20GitHub-181717?logo=github&logoColor=ffffff)](https://github.com/dmlc/dgl/blob/master/notebooks/stochastic_training/ondisk_dataset_homograph.ipynb)\n",
    "\n",
    "This tutorial shows how to create `OnDiskDataset` for homogeneous graph that could be used in **GraphBolt** framework.\n",
    "\n",
    "By the end of this tutorial, you will be able to\n",
    "\n",
    "- organize graph structure data.\n",
    "- organize feature data.\n",
    "- organize training/validation/test set for specific tasks.\n",
    "\n",
    "To create an ``OnDiskDataset`` object, you need to organize all the data including graph structure, feature data and tasks into a directory. The directory should contain a ``metadata.yaml`` file that describes the metadata of the dataset.\n",
    "\n",
    "Now let's generate various data step by step and organize them together to instantiate `OnDiskDataset` finally."
   ]
  },
  {
   "cell_type": "markdown",
   "metadata": {
    "id": "Wlb19DtWgtzq"
   },
   "source": [
    "## Install DGL package"
   ]
  },
  {
   "cell_type": "code",
   "execution_count": 1,
   "metadata": {
    "execution": {
     "iopub.execute_input": "2024-09-19T07:27:22.392805Z",
     "iopub.status.busy": "2024-09-19T07:27:22.392621Z",
     "iopub.status.idle": "2024-09-19T07:27:25.397934Z",
     "shell.execute_reply": "2024-09-19T07:27:25.396852Z"
    },
    "id": "UojlT9ZGgyr9"
   },
   "outputs": [
    {
     "name": "stdout",
     "output_type": "stream",
     "text": [
      "Looking in links: https://data.dgl.ai/wheels-test/repo.html\r\n",
      "Requirement already satisfied: dgl in /opt/conda/envs/dgl-dev-cpu/lib/python3.10/site-packages (2.2a240410)\r\n",
      "Requirement already satisfied: numpy>=1.14.0 in /opt/conda/envs/dgl-dev-cpu/lib/python3.10/site-packages (from dgl) (1.26.4)\r\n",
      "Requirement already satisfied: scipy>=1.1.0 in /opt/conda/envs/dgl-dev-cpu/lib/python3.10/site-packages (from dgl) (1.14.1)\r\n",
      "Requirement already satisfied: networkx>=2.1 in /opt/conda/envs/dgl-dev-cpu/lib/python3.10/site-packages (from dgl) (3.3)\r\n",
      "Requirement already satisfied: requests>=2.19.0 in /opt/conda/envs/dgl-dev-cpu/lib/python3.10/site-packages (from dgl) (2.32.3)\r\n",
      "Requirement already satisfied: tqdm in /opt/conda/envs/dgl-dev-cpu/lib/python3.10/site-packages (from dgl) (4.66.5)\r\n",
      "Requirement already satisfied: psutil>=5.8.0 in /opt/conda/envs/dgl-dev-cpu/lib/python3.10/site-packages (from dgl) (6.0.0)\r\n",
      "Requirement already satisfied: torchdata>=0.5.0 in /opt/conda/envs/dgl-dev-cpu/lib/python3.10/site-packages (from dgl) (0.8.0)\r\n",
      "Requirement already satisfied: pandas in /opt/conda/envs/dgl-dev-cpu/lib/python3.10/site-packages (from dgl) (2.2.2)\r\n",
      "Requirement already satisfied: charset-normalizer<4,>=2 in /opt/conda/envs/dgl-dev-cpu/lib/python3.10/site-packages (from requests>=2.19.0->dgl) (3.3.2)\r\n",
      "Requirement already satisfied: idna<4,>=2.5 in /opt/conda/envs/dgl-dev-cpu/lib/python3.10/site-packages (from requests>=2.19.0->dgl) (3.10)\r\n",
      "Requirement already satisfied: urllib3<3,>=1.21.1 in /opt/conda/envs/dgl-dev-cpu/lib/python3.10/site-packages (from requests>=2.19.0->dgl) (2.2.3)\r\n",
      "Requirement already satisfied: certifi>=2017.4.17 in /opt/conda/envs/dgl-dev-cpu/lib/python3.10/site-packages (from requests>=2.19.0->dgl) (2024.8.30)\r\n"
     ]
    },
    {
     "name": "stdout",
     "output_type": "stream",
     "text": [
      "Requirement already satisfied: torch>=2 in /opt/conda/envs/dgl-dev-cpu/lib/python3.10/site-packages (from torchdata>=0.5.0->dgl) (2.1.0+cpu)\r\n"
     ]
    },
    {
     "name": "stdout",
     "output_type": "stream",
     "text": [
      "Requirement already satisfied: python-dateutil>=2.8.2 in /opt/conda/envs/dgl-dev-cpu/lib/python3.10/site-packages (from pandas->dgl) (2.9.0.post0)\r\n",
      "Requirement already satisfied: pytz>=2020.1 in /opt/conda/envs/dgl-dev-cpu/lib/python3.10/site-packages (from pandas->dgl) (2024.2)\r\n",
      "Requirement already satisfied: tzdata>=2022.7 in /opt/conda/envs/dgl-dev-cpu/lib/python3.10/site-packages (from pandas->dgl) (2024.1)\r\n",
      "Requirement already satisfied: six>=1.5 in /opt/conda/envs/dgl-dev-cpu/lib/python3.10/site-packages (from python-dateutil>=2.8.2->pandas->dgl) (1.16.0)\r\n",
      "Requirement already satisfied: filelock in /opt/conda/envs/dgl-dev-cpu/lib/python3.10/site-packages (from torch>=2->torchdata>=0.5.0->dgl) (3.16.1)\r\n",
      "Requirement already satisfied: typing-extensions in /opt/conda/envs/dgl-dev-cpu/lib/python3.10/site-packages (from torch>=2->torchdata>=0.5.0->dgl) (4.12.2)\r\n",
      "Requirement already satisfied: sympy in /opt/conda/envs/dgl-dev-cpu/lib/python3.10/site-packages (from torch>=2->torchdata>=0.5.0->dgl) (1.13.3)\r\n",
      "Requirement already satisfied: jinja2 in /opt/conda/envs/dgl-dev-cpu/lib/python3.10/site-packages (from torch>=2->torchdata>=0.5.0->dgl) (3.1.4)\r\n",
      "Requirement already satisfied: fsspec in /opt/conda/envs/dgl-dev-cpu/lib/python3.10/site-packages (from torch>=2->torchdata>=0.5.0->dgl) (2024.9.0)\r\n"
     ]
    },
    {
     "name": "stdout",
     "output_type": "stream",
     "text": [
      "Requirement already satisfied: MarkupSafe>=2.0 in /opt/conda/envs/dgl-dev-cpu/lib/python3.10/site-packages (from jinja2->torch>=2->torchdata>=0.5.0->dgl) (2.1.5)\r\n",
      "Requirement already satisfied: mpmath<1.4,>=1.1.0 in /opt/conda/envs/dgl-dev-cpu/lib/python3.10/site-packages (from sympy->torch>=2->torchdata>=0.5.0->dgl) (1.3.0)\r\n"
     ]
    },
    {
     "name": "stdout",
     "output_type": "stream",
     "text": [
      "\u001b[33mWARNING: Running pip as the 'root' user can result in broken permissions and conflicting behaviour with the system package manager, possibly rendering your system unusable.It is recommended to use a virtual environment instead: https://pip.pypa.io/warnings/venv. Use the --root-user-action option if you know what you are doing and want to suppress this warning.\u001b[0m\u001b[33m\r\n",
      "\u001b[0m"
     ]
    },
    {
     "name": "stdout",
     "output_type": "stream",
     "text": [
      "DGL installed!\n"
     ]
    }
   ],
   "source": [
    "# Install required packages.\n",
    "import os\n",
    "import torch\n",
    "import numpy as np\n",
    "os.environ['TORCH'] = torch.__version__\n",
    "os.environ['DGLBACKEND'] = \"pytorch\"\n",
    "\n",
    "# Install the CPU version.\n",
    "device = torch.device(\"cpu\")\n",
    "!pip install --pre dgl -f https://data.dgl.ai/wheels-test/repo.html\n",
    "\n",
    "try:\n",
    "    import dgl\n",
    "    import dgl.graphbolt as gb\n",
    "    installed = True\n",
    "except ImportError as error:\n",
    "    installed = False\n",
    "    print(error)\n",
    "print(\"DGL installed!\" if installed else \"DGL not found!\")"
   ]
  },
  {
   "cell_type": "markdown",
   "metadata": {
    "id": "2R7WnSbjsfbr"
   },
   "source": [
    "## Data preparation\n",
    "In order to demonstrate how to organize various data, let's create a base directory first."
   ]
  },
  {
   "cell_type": "code",
   "execution_count": 2,
   "metadata": {
    "execution": {
     "iopub.execute_input": "2024-09-19T07:27:25.400781Z",
     "iopub.status.busy": "2024-09-19T07:27:25.400062Z",
     "iopub.status.idle": "2024-09-19T07:27:25.405598Z",
     "shell.execute_reply": "2024-09-19T07:27:25.404680Z"
    },
    "id": "SZipbzyltLfO"
   },
   "outputs": [
    {
     "name": "stdout",
     "output_type": "stream",
     "text": [
      "Created base directory: ./ondisk_dataset_homograph\n"
     ]
    }
   ],
   "source": [
    "base_dir = './ondisk_dataset_homograph'\n",
    "os.makedirs(base_dir, exist_ok=True)\n",
    "print(f\"Created base directory: {base_dir}\")"
   ]
  },
  {
   "cell_type": "markdown",
   "metadata": {
    "id": "qhNtIn_xhlnl"
   },
   "source": [
    "### Generate graph structure data\n",
    "For homogeneous graph, we just need to save edges(namely seeds) into  **Numpy** or **CSV** file.\n",
    "\n",
    "Note:\n",
    "- when saving to **Numpy**, the array requires to be in shape of `(2, N)`. This format is recommended as constructing graph from it is much faster than **CSV** file.\n",
    "- when saving to **CSV** file, do not save index and header.\n"
   ]
  },
  {
   "cell_type": "code",
   "execution_count": 3,
   "metadata": {
    "execution": {
     "iopub.execute_input": "2024-09-19T07:27:25.407956Z",
     "iopub.status.busy": "2024-09-19T07:27:25.407646Z",
     "iopub.status.idle": "2024-09-19T07:27:25.425112Z",
     "shell.execute_reply": "2024-09-19T07:27:25.424248Z"
    },
    "id": "HcBt4G5BmSjr"
   },
   "outputs": [
    {
     "name": "stdout",
     "output_type": "stream",
     "text": [
      "Part of edges: [[295 553]\n",
      " [905 715]\n",
      " [992 774]\n",
      " [771 150]\n",
      " [772 497]]\n",
      "Edges are saved into ./ondisk_dataset_homograph/edges.csv\n"
     ]
    }
   ],
   "source": [
    "import numpy as np\n",
    "import pandas as pd\n",
    "num_nodes = 1000\n",
    "num_edges = 10 * num_nodes\n",
    "edges_path = os.path.join(base_dir, \"edges.csv\")\n",
    "edges = np.random.randint(0, num_nodes, size=(num_edges, 2))\n",
    "\n",
    "print(f\"Part of edges: {edges[:5, :]}\")\n",
    "\n",
    "df = pd.DataFrame(edges)\n",
    "df.to_csv(edges_path, index=False, header=False)\n",
    "\n",
    "print(f\"Edges are saved into {edges_path}\")"
   ]
  },
  {
   "cell_type": "markdown",
   "metadata": {
    "id": "kh-4cPtzpcaH"
   },
   "source": [
    "### Generate feature data for graph\n",
    "For feature data, numpy arrays and torch tensors are supported for now."
   ]
  },
  {
   "cell_type": "code",
   "execution_count": 4,
   "metadata": {
    "execution": {
     "iopub.execute_input": "2024-09-19T07:27:25.427878Z",
     "iopub.status.busy": "2024-09-19T07:27:25.427572Z",
     "iopub.status.idle": "2024-09-19T07:27:25.442953Z",
     "shell.execute_reply": "2024-09-19T07:27:25.442224Z"
    },
    "id": "_PVu1u5brBhF"
   },
   "outputs": [
    {
     "name": "stdout",
     "output_type": "stream",
     "text": [
      "Part of node feature [feat_0]: [[0.22430056 0.26585174 0.17758389 0.78123326 0.69140868]\n",
      " [0.15139949 0.65470273 0.92447686 0.32353892 0.55895534]\n",
      " [0.41201919 0.46005013 0.67239673 0.819201   0.06699872]]\n",
      "Node feature [feat_0] is saved to ./ondisk_dataset_homograph/node-feat-0.npy\n",
      "\n",
      "Part of node feature [feat_1]: tensor([[0.6720, 0.8482, 0.6788, 0.9163, 0.3237],\n",
      "        [0.9904, 0.0535, 0.1576, 0.6640, 0.8296],\n",
      "        [0.5295, 0.3407, 0.1302, 0.3960, 0.1364]])\n",
      "Node feature [feat_1] is saved to ./ondisk_dataset_homograph/node-feat-1.pt\n",
      "\n",
      "Part of edge feature [feat_0]: [[0.51489023 0.50821601 0.98040455 0.71304005 0.78852543]\n",
      " [0.27757546 0.72323536 0.5767382  0.48821208 0.7791809 ]\n",
      " [0.30259399 0.31059452 0.26909164 0.74144882 0.13668742]]\n",
      "Edge feature [feat_0] is saved to ./ondisk_dataset_homograph/edge-feat-0.npy\n",
      "\n",
      "Part of edge feature [feat_1]: tensor([[0.7346, 0.9061, 0.8481, 0.0724, 0.0476],\n",
      "        [0.9665, 0.1798, 0.3190, 0.6880, 0.2775],\n",
      "        [0.6399, 0.0612, 0.3295, 0.9158, 0.3929]])\n",
      "Edge feature [feat_1] is saved to ./ondisk_dataset_homograph/edge-feat-1.pt\n",
      "\n"
     ]
    }
   ],
   "source": [
    "# Generate node feature in numpy array.\n",
    "node_feat_0_path = os.path.join(base_dir, \"node-feat-0.npy\")\n",
    "node_feat_0 = np.random.rand(num_nodes, 5)\n",
    "print(f\"Part of node feature [feat_0]: {node_feat_0[:3, :]}\")\n",
    "np.save(node_feat_0_path, node_feat_0)\n",
    "print(f\"Node feature [feat_0] is saved to {node_feat_0_path}\\n\")\n",
    "\n",
    "# Generate another node feature in torch tensor\n",
    "node_feat_1_path = os.path.join(base_dir, \"node-feat-1.pt\")\n",
    "node_feat_1 = torch.rand(num_nodes, 5)\n",
    "print(f\"Part of node feature [feat_1]: {node_feat_1[:3, :]}\")\n",
    "torch.save(node_feat_1, node_feat_1_path)\n",
    "print(f\"Node feature [feat_1] is saved to {node_feat_1_path}\\n\")\n",
    "\n",
    "# Generate edge feature in numpy array.\n",
    "edge_feat_0_path = os.path.join(base_dir, \"edge-feat-0.npy\")\n",
    "edge_feat_0 = np.random.rand(num_edges, 5)\n",
    "print(f\"Part of edge feature [feat_0]: {edge_feat_0[:3, :]}\")\n",
    "np.save(edge_feat_0_path, edge_feat_0)\n",
    "print(f\"Edge feature [feat_0] is saved to {edge_feat_0_path}\\n\")\n",
    "\n",
    "# Generate another edge feature in torch tensor\n",
    "edge_feat_1_path = os.path.join(base_dir, \"edge-feat-1.pt\")\n",
    "edge_feat_1 = torch.rand(num_edges, 5)\n",
    "print(f\"Part of edge feature [feat_1]: {edge_feat_1[:3, :]}\")\n",
    "torch.save(edge_feat_1, edge_feat_1_path)\n",
    "print(f\"Edge feature [feat_1] is saved to {edge_feat_1_path}\\n\")\n"
   ]
  },
  {
   "cell_type": "markdown",
   "metadata": {
    "id": "ZyqgOtsIwzh_"
   },
   "source": [
    "### Generate tasks\n",
    "`OnDiskDataset` supports multiple tasks. For each task, we need to prepare training/validation/test sets respectively. Such sets usually vary among different tasks. In this tutorial, let's create a **Node Classification** task and **Link Prediction** task."
   ]
  },
  {
   "cell_type": "markdown",
   "metadata": {
    "id": "hVxHaDIfzCkr"
   },
   "source": [
    "#### Node Classification Task\n",
    "For node classification task, we need **node IDs** and corresponding **labels** for each training/validation/test set. Like feature data, numpy arrays and torch tensors are supported for these sets."
   ]
  },
  {
   "cell_type": "code",
   "execution_count": 5,
   "metadata": {
    "execution": {
     "iopub.execute_input": "2024-09-19T07:27:25.445499Z",
     "iopub.status.busy": "2024-09-19T07:27:25.445060Z",
     "iopub.status.idle": "2024-09-19T07:27:25.456845Z",
     "shell.execute_reply": "2024-09-19T07:27:25.456008Z"
    },
    "id": "S5-fyBbHzTCO"
   },
   "outputs": [
    {
     "name": "stdout",
     "output_type": "stream",
     "text": [
      "Part of train ids for node classification: [ 23 242 954]\n",
      "NC train ids are saved to ./ondisk_dataset_homograph/nc-train-ids.npy\n",
      "\n",
      "Part of train labels for node classification: tensor([0, 4, 9])\n",
      "NC train labels are saved to ./ondisk_dataset_homograph/nc-train-labels.pt\n",
      "\n",
      "Part of val ids for node classification: [521 856  90]\n",
      "NC val ids are saved to ./ondisk_dataset_homograph/nc-val-ids.npy\n",
      "\n",
      "Part of val labels for node classification: tensor([5, 3, 7])\n",
      "NC val labels are saved to ./ondisk_dataset_homograph/nc-val-labels.pt\n",
      "\n",
      "Part of test ids for node classification: [919 966 955]\n",
      "NC test ids are saved to ./ondisk_dataset_homograph/nc-test-ids.npy\n",
      "\n",
      "Part of test labels for node classification: tensor([7, 0, 4])\n",
      "NC test labels are saved to ./ondisk_dataset_homograph/nc-test-labels.pt\n",
      "\n"
     ]
    }
   ],
   "source": [
    "num_trains = int(num_nodes * 0.6)\n",
    "num_vals = int(num_nodes * 0.2)\n",
    "num_tests = num_nodes - num_trains - num_vals\n",
    "\n",
    "ids = np.arange(num_nodes)\n",
    "np.random.shuffle(ids)\n",
    "\n",
    "nc_train_ids_path = os.path.join(base_dir, \"nc-train-ids.npy\")\n",
    "nc_train_ids = ids[:num_trains]\n",
    "print(f\"Part of train ids for node classification: {nc_train_ids[:3]}\")\n",
    "np.save(nc_train_ids_path, nc_train_ids)\n",
    "print(f\"NC train ids are saved to {nc_train_ids_path}\\n\")\n",
    "\n",
    "nc_train_labels_path = os.path.join(base_dir, \"nc-train-labels.pt\")\n",
    "nc_train_labels = torch.randint(0, 10, (num_trains,))\n",
    "print(f\"Part of train labels for node classification: {nc_train_labels[:3]}\")\n",
    "torch.save(nc_train_labels, nc_train_labels_path)\n",
    "print(f\"NC train labels are saved to {nc_train_labels_path}\\n\")\n",
    "\n",
    "nc_val_ids_path = os.path.join(base_dir, \"nc-val-ids.npy\")\n",
    "nc_val_ids = ids[num_trains:num_trains+num_vals]\n",
    "print(f\"Part of val ids for node classification: {nc_val_ids[:3]}\")\n",
    "np.save(nc_val_ids_path, nc_val_ids)\n",
    "print(f\"NC val ids are saved to {nc_val_ids_path}\\n\")\n",
    "\n",
    "nc_val_labels_path = os.path.join(base_dir, \"nc-val-labels.pt\")\n",
    "nc_val_labels = torch.randint(0, 10, (num_vals,))\n",
    "print(f\"Part of val labels for node classification: {nc_val_labels[:3]}\")\n",
    "torch.save(nc_val_labels, nc_val_labels_path)\n",
    "print(f\"NC val labels are saved to {nc_val_labels_path}\\n\")\n",
    "\n",
    "nc_test_ids_path = os.path.join(base_dir, \"nc-test-ids.npy\")\n",
    "nc_test_ids = ids[-num_tests:]\n",
    "print(f\"Part of test ids for node classification: {nc_test_ids[:3]}\")\n",
    "np.save(nc_test_ids_path, nc_test_ids)\n",
    "print(f\"NC test ids are saved to {nc_test_ids_path}\\n\")\n",
    "\n",
    "nc_test_labels_path = os.path.join(base_dir, \"nc-test-labels.pt\")\n",
    "nc_test_labels = torch.randint(0, 10, (num_tests,))\n",
    "print(f\"Part of test labels for node classification: {nc_test_labels[:3]}\")\n",
    "torch.save(nc_test_labels, nc_test_labels_path)\n",
    "print(f\"NC test labels are saved to {nc_test_labels_path}\\n\")"
   ]
  },
  {
   "cell_type": "markdown",
   "metadata": {
    "id": "LhAcDCHQ_KJ0"
   },
   "source": [
    "#### Link Prediction Task\n",
    "For link prediction task, we need **seeds** or **corresponding labels and indexes** which representing the pos/neg property and group of the seeds for each training/validation/test set. Like feature data, numpy arrays and torch tensors are supported for these sets."
   ]
  },
  {
   "cell_type": "code",
   "execution_count": 6,
   "metadata": {
    "execution": {
     "iopub.execute_input": "2024-09-19T07:27:25.459101Z",
     "iopub.status.busy": "2024-09-19T07:27:25.458703Z",
     "iopub.status.idle": "2024-09-19T07:27:25.476758Z",
     "shell.execute_reply": "2024-09-19T07:27:25.475878Z"
    },
    "id": "u0jCnXIcAQy4"
   },
   "outputs": [
    {
     "name": "stdout",
     "output_type": "stream",
     "text": [
      "Part of train seeds for link prediction: [[295 553]\n",
      " [905 715]\n",
      " [992 774]]\n",
      "LP train seeds are saved to ./ondisk_dataset_homograph/lp-train-seeds.npy\n",
      "\n",
      "Part of val seeds for link prediction: [[755 907]\n",
      " [740 752]\n",
      " [734 598]]\n",
      "LP val seeds are saved to ./ondisk_dataset_homograph/lp-val-seeds.npy\n",
      "\n",
      "Part of val labels for link prediction: [1. 1. 1.]\n",
      "LP val labels are saved to ./ondisk_dataset_homograph/lp-val-labels.npy\n",
      "\n",
      "Part of val indexes for link prediction: [0 1 2]\n",
      "LP val indexes are saved to ./ondisk_dataset_homograph/lp-val-indexes.npy\n",
      "\n",
      "Part of test seeds for link prediction: [[396 977]\n",
      " [583 127]\n",
      " [954 198]]\n",
      "LP test seeds are saved to ./ondisk_dataset_homograph/lp-test-seeds.npy\n",
      "\n",
      "Part of val labels for link prediction: [1. 1. 1.]\n",
      "LP test labels are saved to ./ondisk_dataset_homograph/lp-test-labels.npy\n",
      "\n",
      "Part of test indexes for link prediction: [0 1 2]\n",
      "LP test indexes are saved to ./ondisk_dataset_homograph/lp-test-indexes.npy\n",
      "\n"
     ]
    }
   ],
   "source": [
    "num_trains = int(num_edges * 0.6)\n",
    "num_vals = int(num_edges * 0.2)\n",
    "num_tests = num_edges - num_trains - num_vals\n",
    "\n",
    "lp_train_seeds_path = os.path.join(base_dir, \"lp-train-seeds.npy\")\n",
    "lp_train_seeds = edges[:num_trains, :]\n",
    "print(f\"Part of train seeds for link prediction: {lp_train_seeds[:3]}\")\n",
    "np.save(lp_train_seeds_path, lp_train_seeds)\n",
    "print(f\"LP train seeds are saved to {lp_train_seeds_path}\\n\")\n",
    "\n",
    "lp_val_seeds_path = os.path.join(base_dir, \"lp-val-seeds.npy\")\n",
    "lp_val_seeds = edges[num_trains:num_trains+num_vals, :]\n",
    "lp_val_neg_dsts = np.random.randint(0, num_nodes, (num_vals, 10)).reshape(-1)\n",
    "lp_val_neg_srcs = np.repeat(lp_val_seeds[:,0], 10)\n",
    "lp_val_neg_seeds = np.concatenate((lp_val_neg_srcs, lp_val_neg_dsts)).reshape(2,-1).T\n",
    "lp_val_seeds = np.concatenate((lp_val_seeds, lp_val_neg_seeds))\n",
    "print(f\"Part of val seeds for link prediction: {lp_val_seeds[:3]}\")\n",
    "np.save(lp_val_seeds_path, lp_val_seeds)\n",
    "print(f\"LP val seeds are saved to {lp_val_seeds_path}\\n\")\n",
    "\n",
    "lp_val_labels_path = os.path.join(base_dir, \"lp-val-labels.npy\")\n",
    "lp_val_labels = np.empty(num_vals * (10 + 1))\n",
    "lp_val_labels[:num_vals] = 1\n",
    "lp_val_labels[num_vals:] = 0\n",
    "print(f\"Part of val labels for link prediction: {lp_val_labels[:3]}\")\n",
    "np.save(lp_val_labels_path, lp_val_labels)\n",
    "print(f\"LP val labels are saved to {lp_val_labels_path}\\n\")\n",
    "\n",
    "lp_val_indexes_path = os.path.join(base_dir, \"lp-val-indexes.npy\")\n",
    "lp_val_indexes = np.arange(0, num_vals)\n",
    "lp_val_neg_indexes = np.repeat(lp_val_indexes, 10)\n",
    "lp_val_indexes = np.concatenate([lp_val_indexes, lp_val_neg_indexes])\n",
    "print(f\"Part of val indexes for link prediction: {lp_val_indexes[:3]}\")\n",
    "np.save(lp_val_indexes_path, lp_val_indexes)\n",
    "print(f\"LP val indexes are saved to {lp_val_indexes_path}\\n\")\n",
    "\n",
    "lp_test_seeds_path = os.path.join(base_dir, \"lp-test-seeds.npy\")\n",
    "lp_test_seeds = edges[-num_tests:, :]\n",
    "lp_test_neg_dsts = np.random.randint(0, num_nodes, (num_tests, 10)).reshape(-1)\n",
    "lp_test_neg_srcs = np.repeat(lp_test_seeds[:,0], 10)\n",
    "lp_test_neg_seeds = np.concatenate((lp_test_neg_srcs, lp_test_neg_dsts)).reshape(2,-1).T\n",
    "lp_test_seeds = np.concatenate((lp_test_seeds, lp_test_neg_seeds))\n",
    "print(f\"Part of test seeds for link prediction: {lp_test_seeds[:3]}\")\n",
    "np.save(lp_test_seeds_path, lp_test_seeds)\n",
    "print(f\"LP test seeds are saved to {lp_test_seeds_path}\\n\")\n",
    "\n",
    "lp_test_labels_path = os.path.join(base_dir, \"lp-test-labels.npy\")\n",
    "lp_test_labels = np.empty(num_tests * (10 + 1))\n",
    "lp_test_labels[:num_tests] = 1\n",
    "lp_test_labels[num_tests:] = 0\n",
    "print(f\"Part of val labels for link prediction: {lp_test_labels[:3]}\")\n",
    "np.save(lp_test_labels_path, lp_test_labels)\n",
    "print(f\"LP test labels are saved to {lp_test_labels_path}\\n\")\n",
    "\n",
    "lp_test_indexes_path = os.path.join(base_dir, \"lp-test-indexes.npy\")\n",
    "lp_test_indexes = np.arange(0, num_tests)\n",
    "lp_test_neg_indexes = np.repeat(lp_test_indexes, 10)\n",
    "lp_test_indexes = np.concatenate([lp_test_indexes, lp_test_neg_indexes])\n",
    "print(f\"Part of test indexes for link prediction: {lp_test_indexes[:3]}\")\n",
    "np.save(lp_test_indexes_path, lp_test_indexes)\n",
    "print(f\"LP test indexes are saved to {lp_test_indexes_path}\\n\")"
   ]
  },
  {
   "cell_type": "markdown",
   "metadata": {
    "id": "wbk6-wxRK-6S"
   },
   "source": [
    "## Organize Data into YAML File\n",
    "Now we need to create a `metadata.yaml` file which contains the paths, dadta types of graph structure, feature data, training/validation/test sets.\n",
    "\n",
    "Notes:\n",
    "- all path should be relative to `metadata.yaml`.\n",
    "- Below fields are optional and not specified in below example.\n",
    "  - `in_memory`: indicates whether to load dada into memory or `mmap`. Default is `True`.\n",
    "\n",
    "Please refer to [YAML specification](https://github.com/dmlc/dgl/blob/master/docs/source/stochastic_training/ondisk-dataset-specification.rst) for more details."
   ]
  },
  {
   "cell_type": "code",
   "execution_count": 7,
   "metadata": {
    "execution": {
     "iopub.execute_input": "2024-09-19T07:27:25.479230Z",
     "iopub.status.busy": "2024-09-19T07:27:25.478784Z",
     "iopub.status.idle": "2024-09-19T07:27:25.485656Z",
     "shell.execute_reply": "2024-09-19T07:27:25.484842Z"
    },
    "id": "ddGTWW61Lpwp"
   },
   "outputs": [],
   "source": [
    "yaml_content = f\"\"\"\n",
    "    dataset_name: homogeneous_graph_nc_lp\n",
    "    graph:\n",
    "      nodes:\n",
    "        - num: {num_nodes}\n",
    "      edges:\n",
    "        - format: csv\n",
    "          path: {os.path.basename(edges_path)}\n",
    "    feature_data:\n",
    "      - domain: node\n",
    "        name: feat_0\n",
    "        format: numpy\n",
    "        path: {os.path.basename(node_feat_0_path)}\n",
    "      - domain: node\n",
    "        name: feat_1\n",
    "        format: torch\n",
    "        path: {os.path.basename(node_feat_1_path)}\n",
    "      - domain: edge\n",
    "        name: feat_0\n",
    "        format: numpy\n",
    "        path: {os.path.basename(edge_feat_0_path)}\n",
    "      - domain: edge\n",
    "        name: feat_1\n",
    "        format: torch\n",
    "        path: {os.path.basename(edge_feat_1_path)}\n",
    "    tasks:\n",
    "      - name: node_classification\n",
    "        num_classes: 10\n",
    "        train_set:\n",
    "          - data:\n",
    "              - name: seeds\n",
    "                format: numpy\n",
    "                path: {os.path.basename(nc_train_ids_path)}\n",
    "              - name: labels\n",
    "                format: torch\n",
    "                path: {os.path.basename(nc_train_labels_path)}\n",
    "        validation_set:\n",
    "          - data:\n",
    "              - name: seeds\n",
    "                format: numpy\n",
    "                path: {os.path.basename(nc_val_ids_path)}\n",
    "              - name: labels\n",
    "                format: torch\n",
    "                path: {os.path.basename(nc_val_labels_path)}\n",
    "        test_set:\n",
    "          - data:\n",
    "              - name: seeds\n",
    "                format: numpy\n",
    "                path: {os.path.basename(nc_test_ids_path)}\n",
    "              - name: labels\n",
    "                format: torch\n",
    "                path: {os.path.basename(nc_test_labels_path)}\n",
    "      - name: link_prediction\n",
    "        num_classes: 10\n",
    "        train_set:\n",
    "          - data:\n",
    "              - name: seeds\n",
    "                format: numpy\n",
    "                path: {os.path.basename(lp_train_seeds_path)}\n",
    "        validation_set:\n",
    "          - data:\n",
    "              - name: seeds\n",
    "                format: numpy\n",
    "                path: {os.path.basename(lp_val_seeds_path)}\n",
    "              - name: labels\n",
    "                format: numpy\n",
    "                path: {os.path.basename(lp_val_labels_path)}\n",
    "              - name: indexes\n",
    "                format: numpy\n",
    "                path: {os.path.basename(lp_val_indexes_path)}\n",
    "        test_set:\n",
    "          - data:\n",
    "              - name: seeds\n",
    "                format: numpy\n",
    "                path: {os.path.basename(lp_test_seeds_path)}\n",
    "              - name: labels\n",
    "                format: numpy\n",
    "                path: {os.path.basename(lp_test_labels_path)}\n",
    "              - name: indexes\n",
    "                format: numpy\n",
    "                path: {os.path.basename(lp_test_indexes_path)}\n",
    "\"\"\"\n",
    "metadata_path = os.path.join(base_dir, \"metadata.yaml\")\n",
    "with open(metadata_path, \"w\") as f:\n",
    "  f.write(yaml_content)"
   ]
  },
  {
   "cell_type": "markdown",
   "metadata": {
    "id": "kEfybHGhOW7O"
   },
   "source": [
    "## Instantiate `OnDiskDataset`\n",
    "Now we're ready to load dataset via `dgl.graphbolt.OnDiskDataset`. When instantiating, we just pass in the base directory where `metadata.yaml` file lies.\n",
    "\n",
    "During first instantiation, GraphBolt preprocesses the raw data such as constructing `FusedCSCSamplingGraph` from edges. All data including graph, feature data, training/validation/test sets are put into `preprocessed` directory after preprocessing. Any following dataset loading will skip the preprocess stage.\n",
    "\n",
    "After preprocessing, `load()` is required to be called explicitly in order to load graph, feature data and tasks."
   ]
  },
  {
   "cell_type": "code",
   "execution_count": 8,
   "metadata": {
    "execution": {
     "iopub.execute_input": "2024-09-19T07:27:25.487775Z",
     "iopub.status.busy": "2024-09-19T07:27:25.487446Z",
     "iopub.status.idle": "2024-09-19T07:27:25.555778Z",
     "shell.execute_reply": "2024-09-19T07:27:25.554980Z"
    },
    "id": "W58CZoSzOiyo"
   },
   "outputs": [
    {
     "name": "stdout",
     "output_type": "stream",
     "text": [
      "Start to preprocess the on-disk dataset.\n",
      "Finish preprocessing the on-disk dataset.\n",
      "Loaded graph: FusedCSCSamplingGraph(csc_indptr=tensor([    0,    10,    23,  ...,  9985,  9994, 10000], dtype=torch.int32),\n",
      "                      indices=tensor([111, 347, 652,  ...,  43, 225, 621], dtype=torch.int32),\n",
      "                      total_num_nodes=1000, num_edges=10000,)\n",
      "\n",
      "Loaded feature store: TorchBasedFeatureStore(\n",
      "    {(<OnDiskFeatureDataDomain.NODE: 'node'>, None, 'feat_0'): TorchBasedFeature(\n",
      "        feature=tensor([[0.2243, 0.2659, 0.1776, 0.7812, 0.6914],\n",
      "                        [0.1514, 0.6547, 0.9245, 0.3235, 0.5590],\n",
      "                        [0.4120, 0.4601, 0.6724, 0.8192, 0.0670],\n",
      "                        ...,\n",
      "                        [0.7043, 0.7997, 0.8269, 0.1496, 0.8163],\n",
      "                        [0.0286, 0.0992, 0.8384, 0.3053, 0.2330],\n",
      "                        [0.7821, 0.6948, 0.6236, 0.5973, 0.9102]], dtype=torch.float64),\n",
      "        metadata={},\n",
      "    ), (<OnDiskFeatureDataDomain.NODE: 'node'>, None, 'feat_1'): TorchBasedFeature(\n",
      "        feature=tensor([[0.6720, 0.8482, 0.6788, 0.9163, 0.3237],\n",
      "                        [0.9904, 0.0535, 0.1576, 0.6640, 0.8296],\n",
      "                        [0.5295, 0.3407, 0.1302, 0.3960, 0.1364],\n",
      "                        ...,\n",
      "                        [0.4699, 0.4790, 0.1584, 0.7614, 0.8555],\n",
      "                        [0.7319, 0.3091, 0.0777, 0.5098, 0.9188],\n",
      "                        [0.5214, 0.2573, 0.3682, 0.9933, 0.3005]]),\n",
      "        metadata={},\n",
      "    ), (<OnDiskFeatureDataDomain.EDGE: 'edge'>, None, 'feat_0'): TorchBasedFeature(\n",
      "        feature=tensor([[5.1489e-01, 5.0822e-01, 9.8040e-01, 7.1304e-01, 7.8853e-01],\n",
      "                        [2.7758e-01, 7.2324e-01, 5.7674e-01, 4.8821e-01, 7.7918e-01],\n",
      "                        [3.0259e-01, 3.1059e-01, 2.6909e-01, 7.4145e-01, 1.3669e-01],\n",
      "                        ...,\n",
      "                        [8.4324e-01, 5.7636e-01, 5.3522e-01, 5.3783e-01, 8.5647e-01],\n",
      "                        [6.2121e-01, 7.1230e-01, 9.8762e-01, 7.5831e-01, 2.8357e-01],\n",
      "                        [6.5299e-02, 8.6390e-04, 6.5569e-01, 1.1103e-02, 4.9682e-01]],\n",
      "                       dtype=torch.float64),\n",
      "        metadata={},\n",
      "    ), (<OnDiskFeatureDataDomain.EDGE: 'edge'>, None, 'feat_1'): TorchBasedFeature(\n",
      "        feature=tensor([[0.7346, 0.9061, 0.8481, 0.0724, 0.0476],\n",
      "                        [0.9665, 0.1798, 0.3190, 0.6880, 0.2775],\n",
      "                        [0.6399, 0.0612, 0.3295, 0.9158, 0.3929],\n",
      "                        ...,\n",
      "                        [0.7620, 0.6028, 0.8513, 0.7436, 0.9035],\n",
      "                        [0.9879, 0.7380, 0.2575, 0.6963, 0.8504],\n",
      "                        [0.0864, 0.3896, 0.1683, 0.6543, 0.3536]]),\n",
      "        metadata={},\n",
      "    )}\n",
      ")\n",
      "\n",
      "Loaded node classification task: OnDiskTask(validation_set=ItemSet(\n",
      "               items=(tensor([521, 856,  90, 898, 975, 563, 965, 629, 638, 590, 238, 840, 477, 236,\n",
      "                   885, 255, 602, 627,   3, 475, 565, 727, 972, 801, 514, 601, 580, 613,\n",
      "                    54, 110, 562, 338, 933, 239, 120, 902,  59,  33, 920, 211, 931,  25,\n",
      "                   676, 291, 734, 881, 822, 596, 790, 520, 956, 424,  46, 415, 297, 773,\n",
      "                   257, 197, 695, 531, 219, 241, 649, 377, 989, 453, 843, 967, 620, 207,\n",
      "                   736, 440, 333,  31, 390,  50, 913,  76, 393, 348, 126, 354, 513, 688,\n",
      "                   884, 786,  68, 392,  39, 626, 169, 128, 363, 614, 308, 939, 511, 138,\n",
      "                   703, 944,  58, 145, 865, 104, 482, 276, 168, 240, 542, 503, 611, 770,\n",
      "                   645, 823, 360, 101, 414, 560, 483, 853, 228, 670, 739, 277, 810, 381,\n",
      "                   129, 918,  26, 555, 367, 899, 755, 403, 192, 389, 838, 538, 455, 870,\n",
      "                   692, 117, 995,  97, 404, 621, 650, 441, 698, 516, 254, 953,  87, 763,\n",
      "                   401, 724, 371, 116, 977, 133,  61, 271, 711, 536, 474, 394, 194, 265,\n",
      "                   639, 742, 748, 426, 466, 154, 452, 859, 607, 445, 713, 820,  71, 319,\n",
      "                    42, 746, 340, 745, 244, 439, 252, 846, 656, 379, 261, 837, 157,  49,\n",
      "                   582, 568, 608, 897], dtype=torch.int32), tensor([5, 3, 7, 0, 0, 0, 2, 7, 7, 6, 1, 5, 9, 3, 7, 5, 3, 1, 7, 1, 2, 9, 3, 2,\n",
      "                   6, 1, 8, 7, 4, 3, 9, 7, 7, 4, 8, 0, 6, 0, 8, 2, 8, 3, 6, 0, 5, 4, 6, 9,\n",
      "                   4, 6, 6, 3, 6, 1, 6, 5, 6, 7, 4, 5, 7, 3, 0, 7, 2, 9, 7, 4, 3, 8, 6, 7,\n",
      "                   6, 6, 4, 0, 5, 3, 5, 6, 4, 7, 7, 6, 7, 6, 3, 7, 9, 2, 0, 0, 4, 3, 8, 3,\n",
      "                   3, 4, 0, 5, 9, 1, 2, 9, 0, 4, 9, 8, 0, 4, 4, 8, 2, 8, 0, 4, 0, 5, 8, 8,\n",
      "                   0, 5, 4, 9, 7, 0, 7, 8, 9, 8, 1, 3, 9, 3, 6, 9, 9, 1, 2, 7, 3, 6, 1, 7,\n",
      "                   8, 3, 1, 1, 4, 9, 0, 3, 5, 2, 3, 9, 2, 7, 2, 4, 7, 0, 2, 1, 0, 5, 9, 2,\n",
      "                   4, 4, 8, 9, 7, 6, 4, 7, 5, 5, 7, 7, 3, 5, 0, 7, 4, 1, 1, 9, 3, 1, 4, 4,\n",
      "                   5, 5, 6, 2, 7, 5, 7, 9])),\n",
      "               names=('seeds', 'labels'),\n",
      "           ),\n",
      "           train_set=ItemSet(\n",
      "               items=(tensor([ 23, 242, 954, 754, 352, 278, 993, 418, 330, 615, 166, 872, 451,   4,\n",
      "                   150, 948, 296, 399,  78, 852,  95, 264,  96, 376, 849, 125, 661, 659,\n",
      "                   558, 237, 124, 502, 533, 587, 784, 959, 574, 723, 717, 999, 749, 165,\n",
      "                   220, 766, 335,  74,  94, 900, 815, 605, 535, 648, 358, 691, 637, 386,\n",
      "                   243, 769, 609, 179, 551,  72, 233, 937, 957,  45,  65, 309, 210, 505,\n",
      "                   508,  84, 909, 245, 797, 425, 700, 893, 943, 593, 733, 889, 988, 191,\n",
      "                   612, 735, 863, 634, 673, 998,  73, 894, 947,  64, 105, 460, 281, 443,\n",
      "                   831, 666, 433, 411,  55, 206, 260, 391, 311, 221, 756, 575, 423, 680,\n",
      "                   193, 413, 532, 950, 461, 997, 307, 397, 729, 963, 762,  47, 187,  28,\n",
      "                   594, 444, 500, 223, 835, 274,  15, 231, 641, 436, 374, 978, 657, 628,\n",
      "                   185,   5, 875, 887, 256, 127, 298, 671, 712, 317, 121, 718, 438, 687,\n",
      "                   293, 142, 722, 877, 857, 203, 388, 481, 635, 334, 655, 284, 908,  89,\n",
      "                   295,  81, 684, 202, 205, 702, 495, 525, 545, 204, 646, 809, 708, 328,\n",
      "                   829, 148, 146, 850, 901, 467, 652, 417, 942, 579, 198, 895, 305, 540,\n",
      "                   589, 517, 926, 546, 759, 597,  21, 541, 258, 644,  70, 996, 932, 341,\n",
      "                   876, 696, 782, 226, 464, 113, 519, 561, 103, 496, 796, 147, 143, 848,\n",
      "                   604, 544, 812, 273, 821, 268, 155, 178, 882,  60, 450, 489, 108,  56,\n",
      "                   200, 250, 707,   2, 487, 672, 690, 136, 804, 761, 141, 830, 793, 448,\n",
      "                   316, 419,  83, 789, 578, 373, 951, 860, 715, 985, 891,  41, 710, 522,\n",
      "                   683, 156, 302, 209, 498, 287, 630, 922, 151,  43, 969, 323, 836, 958,\n",
      "                   624, 442, 434, 674, 224, 584,   8, 752, 861, 530, 709, 571,  44, 473,\n",
      "                   314, 813, 351, 539, 651, 357, 573, 750, 246, 721, 915,  88, 744, 851,\n",
      "                   923, 362, 968, 172, 248, 447, 994, 987, 970, 212, 758, 320, 327, 490,\n",
      "                   304, 928,  75, 730, 488, 406, 275,  79, 106, 839, 982, 808, 907, 685,\n",
      "                   592, 826, 251, 832, 927, 553, 163, 586, 313, 272,  93, 760, 478, 181,\n",
      "                   960, 230, 118, 660, 783,  30, 167, 631, 527,  85, 890, 910, 658, 935,\n",
      "                   384, 182, 916, 188, 432, 380, 806, 617, 971, 398, 235, 714, 300, 471,\n",
      "                   802,  32, 506, 123, 653, 263, 803,  10, 794, 347, 336, 408, 201, 286,\n",
      "                   416, 180, 595, 940, 457, 664, 792, 719, 917, 174, 359, 322, 321, 768,\n",
      "                   315, 874, 819, 934, 213, 992, 873, 668, 962, 190, 663, 807,  16, 974,\n",
      "                   409, 494, 818, 468,  91, 385, 699, 567, 227,  99, 459, 509, 171, 599,\n",
      "                   175, 704,  22,  27, 164, 480, 378, 554, 689, 946, 383, 677, 135, 342,\n",
      "                   825, 537, 504, 779, 791, 549,  19, 279, 731, 772,  17,  66,   6, 524,\n",
      "                   983, 564, 402, 606, 771,  11, 751, 420, 292, 310, 366, 964, 618, 492,\n",
      "                   222, 177,  48, 667, 285, 705, 616, 706, 346, 866, 986, 741, 591, 855,\n",
      "                   526, 924, 879, 189, 757,  12, 640,  53, 470, 356, 904, 199, 625, 365,\n",
      "                   152, 395, 493, 991,  40, 158, 686, 892, 862, 798, 375, 280, 776, 557,\n",
      "                   112, 867, 643,  69, 576, 764,  82, 682, 217, 303, 501, 811, 159, 267,\n",
      "                   566, 458, 497, 184, 269, 780, 952, 162, 364, 569, 678, 883, 324,  37,\n",
      "                   247, 109, 556, 412, 472, 149, 130, 912, 777,  63, 632, 936, 387, 469,\n",
      "                   864, 144, 845, 814, 833, 871, 647, 681, 622, 427, 828, 329, 675, 528,\n",
      "                   132, 225, 301, 906, 139, 559, 134, 961,  38, 949, 153, 945, 465, 215,\n",
      "                   981, 195, 930, 679, 262, 694, 234, 332, 701,   9,  51,   1],\n",
      "                  dtype=torch.int32), tensor([0, 4, 9, 5, 3, 5, 9, 0, 1, 1, 6, 6, 5, 5, 3, 5, 8, 2, 8, 6, 6, 0, 3, 6,\n",
      "                   3, 9, 0, 1, 0, 7, 3, 1, 0, 3, 7, 8, 7, 1, 4, 5, 2, 8, 9, 2, 8, 0, 8, 1,\n",
      "                   0, 5, 3, 0, 5, 4, 1, 6, 1, 4, 4, 5, 2, 4, 5, 1, 8, 1, 7, 3, 6, 9, 5, 7,\n",
      "                   8, 6, 2, 1, 9, 2, 8, 8, 1, 0, 6, 3, 9, 2, 9, 9, 0, 4, 0, 9, 8, 2, 0, 4,\n",
      "                   5, 0, 6, 5, 1, 2, 1, 3, 7, 7, 6, 1, 0, 3, 9, 6, 2, 1, 6, 7, 3, 7, 4, 4,\n",
      "                   0, 2, 6, 7, 1, 7, 1, 7, 6, 2, 1, 0, 2, 6, 1, 3, 1, 3, 8, 7, 1, 1, 5, 9,\n",
      "                   0, 0, 5, 5, 1, 3, 6, 0, 9, 8, 3, 3, 8, 0, 0, 8, 5, 0, 5, 1, 7, 8, 8, 7,\n",
      "                   9, 1, 7, 7, 6, 8, 4, 5, 0, 6, 0, 3, 1, 5, 0, 9, 9, 0, 5, 8, 4, 3, 8, 7,\n",
      "                   1, 4, 8, 9, 5, 5, 5, 6, 1, 8, 0, 1, 3, 5, 6, 5, 5, 8, 3, 7, 0, 5, 9, 2,\n",
      "                   6, 4, 2, 4, 9, 3, 7, 2, 3, 4, 6, 5, 2, 4, 2, 0, 4, 1, 1, 6, 7, 9, 7, 6,\n",
      "                   9, 6, 6, 6, 5, 1, 6, 8, 5, 2, 9, 3, 8, 1, 2, 5, 6, 2, 4, 5, 5, 1, 3, 8,\n",
      "                   4, 6, 8, 0, 1, 8, 3, 4, 6, 2, 0, 4, 4, 0, 5, 1, 1, 8, 1, 0, 6, 7, 5, 6,\n",
      "                   5, 6, 8, 1, 8, 5, 0, 6, 6, 7, 3, 9, 0, 1, 3, 9, 6, 7, 9, 6, 1, 9, 2, 6,\n",
      "                   1, 8, 6, 4, 5, 5, 4, 0, 3, 2, 9, 3, 0, 2, 7, 4, 7, 5, 5, 7, 8, 6, 7, 4,\n",
      "                   5, 5, 9, 5, 4, 0, 6, 3, 8, 8, 4, 2, 4, 8, 6, 6, 1, 0, 8, 9, 4, 1, 4, 8,\n",
      "                   1, 1, 5, 3, 8, 0, 9, 1, 3, 2, 1, 2, 1, 6, 8, 0, 7, 1, 2, 8, 9, 8, 3, 3,\n",
      "                   8, 7, 1, 6, 8, 7, 9, 3, 7, 6, 7, 7, 5, 2, 7, 3, 0, 9, 4, 4, 6, 8, 4, 4,\n",
      "                   3, 4, 2, 0, 9, 8, 4, 8, 0, 1, 3, 6, 8, 3, 7, 6, 6, 7, 5, 5, 7, 8, 1, 5,\n",
      "                   1, 6, 2, 3, 9, 8, 0, 6, 4, 1, 8, 0, 3, 6, 4, 9, 4, 5, 6, 9, 0, 5, 6, 7,\n",
      "                   0, 9, 5, 3, 9, 0, 9, 4, 0, 4, 2, 2, 8, 4, 2, 4, 7, 5, 6, 5, 9, 7, 3, 2,\n",
      "                   6, 3, 6, 6, 1, 5, 1, 1, 0, 3, 9, 2, 9, 1, 9, 9, 8, 5, 4, 3, 9, 3, 3, 4,\n",
      "                   3, 0, 5, 1, 5, 8, 0, 3, 6, 0, 6, 3, 0, 7, 4, 6, 4, 4, 7, 6, 2, 6, 9, 5,\n",
      "                   8, 2, 8, 2, 3, 6, 4, 6, 4, 6, 4, 7, 6, 9, 3, 5, 6, 4, 7, 0, 0, 3, 4, 5,\n",
      "                   3, 0, 1, 4, 2, 2, 1, 5, 6, 5, 0, 4, 4, 2, 6, 4, 7, 9, 5, 2, 7, 8, 4, 5,\n",
      "                   7, 6, 3, 0, 0, 3, 8, 8, 4, 1, 7, 1, 1, 8, 3, 0, 4, 9, 4, 5, 5, 8, 8, 8])),\n",
      "               names=('seeds', 'labels'),\n",
      "           ),\n",
      "           test_set=ItemSet(\n",
      "               items=(tensor([919, 966, 955, 111, 499, 720, 726, 938, 131, 259,  52, 633, 368, 716,\n",
      "                   583,  57, 229, 921, 344, 888, 973, 410, 355, 214, 422, 345, 421, 512,\n",
      "                   253,  14, 270, 449, 476, 598, 858, 778, 854, 547, 610, 886, 979,  92,\n",
      "                   446, 603, 753, 431, 738, 161, 462, 170, 737, 550, 816, 552, 208, 805,\n",
      "                   774, 173, 370, 869, 405, 781, 529, 600, 232,  98, 834, 636, 515, 318,\n",
      "                    24, 249, 485, 619, 543, 914, 980, 799, 740, 454, 331, 747, 435, 548,\n",
      "                    29, 911, 372, 382, 697, 827, 176, 160, 905, 294, 623,  62, 353, 484,\n",
      "                   767, 429, 288, 140, 925, 868, 400, 929, 218, 788,  20, 349, 662, 732,\n",
      "                    18, 428, 800, 903, 486, 183, 743,   0, 572, 507, 841,  86, 725, 114,\n",
      "                   518, 588,  80, 186, 456, 984, 407, 479, 654, 847, 196,  77, 350, 941,\n",
      "                   880, 122,   7, 976, 312, 326, 669, 787, 282, 765, 824, 523, 795, 878,\n",
      "                   107, 115, 100, 665,  13,  35, 343, 325,  36, 437, 785, 693, 299, 361,\n",
      "                   775, 842,  67, 306, 337, 102,  34, 283, 137, 570, 369, 990, 844, 266,\n",
      "                   534, 577, 728, 339, 396, 463, 430, 290, 896, 216, 642, 817, 491, 581,\n",
      "                   119, 585, 510, 289], dtype=torch.int32), tensor([7, 0, 4, 5, 6, 4, 4, 7, 3, 9, 9, 7, 4, 5, 8, 7, 7, 0, 7, 0, 0, 9, 2, 6,\n",
      "                   1, 7, 8, 9, 1, 6, 0, 9, 8, 1, 9, 8, 0, 6, 3, 0, 9, 0, 0, 3, 9, 7, 9, 8,\n",
      "                   3, 0, 0, 1, 8, 2, 6, 0, 2, 8, 9, 2, 6, 4, 1, 8, 6, 3, 7, 1, 8, 4, 4, 2,\n",
      "                   0, 3, 4, 4, 8, 4, 1, 2, 0, 1, 6, 1, 6, 6, 0, 6, 3, 5, 0, 5, 2, 5, 7, 0,\n",
      "                   6, 2, 5, 5, 9, 5, 9, 1, 2, 2, 6, 4, 2, 4, 8, 1, 8, 4, 8, 3, 6, 1, 5, 1,\n",
      "                   8, 6, 3, 5, 5, 0, 1, 0, 8, 0, 0, 8, 9, 9, 1, 8, 5, 2, 8, 8, 6, 3, 5, 2,\n",
      "                   2, 6, 6, 0, 7, 7, 5, 9, 2, 7, 0, 8, 0, 0, 4, 3, 4, 2, 6, 3, 3, 7, 5, 5,\n",
      "                   8, 4, 1, 3, 4, 4, 3, 2, 1, 1, 8, 6, 3, 1, 9, 1, 6, 7, 1, 1, 0, 5, 1, 3,\n",
      "                   6, 6, 5, 1, 0, 8, 0, 0])),\n",
      "               names=('seeds', 'labels'),\n",
      "           ),\n",
      "           metadata={'name': 'node_classification', 'num_classes': 10},)\n",
      "\n",
      "Loaded link prediction task: OnDiskTask(validation_set=ItemSet(\n",
      "               items=(tensor([[755, 907],\n",
      "                   [740, 752],\n",
      "                   [734, 598],\n",
      "                   ...,\n",
      "                   [874, 198],\n",
      "                   [874,  29],\n",
      "                   [874, 689]], dtype=torch.int32), tensor([1., 1., 1.,  ..., 0., 0., 0.], dtype=torch.float64), tensor([   0,    1,    2,  ..., 1999, 1999, 1999])),\n",
      "               names=('seeds', 'labels', 'indexes'),\n",
      "           ),\n",
      "           train_set=ItemSet(\n",
      "               items=(tensor([[295, 553],\n",
      "                   [905, 715],\n",
      "                   [992, 774],\n",
      "                   ...,\n",
      "                   [508,  69],\n",
      "                   [617, 629],\n",
      "                   [440,   8]], dtype=torch.int32),),\n",
      "               names=('seeds',),\n",
      "           ),\n",
      "           test_set=ItemSet(\n",
      "               items=(tensor([[396, 977],\n",
      "                   [583, 127],\n",
      "                   [954, 198],\n",
      "                   ...,\n",
      "                   [543, 503],\n",
      "                   [543, 171],\n",
      "                   [543, 442]], dtype=torch.int32), tensor([1., 1., 1.,  ..., 0., 0., 0.], dtype=torch.float64), tensor([   0,    1,    2,  ..., 1999, 1999, 1999])),\n",
      "               names=('seeds', 'labels', 'indexes'),\n",
      "           ),\n",
      "           metadata={'name': 'link_prediction', 'num_classes': 10},)\n",
      "\n"
     ]
    },
    {
     "name": "stderr",
     "output_type": "stream",
     "text": [
      "/dgl/python/dgl/graphbolt/impl/ondisk_dataset.py:463: GBWarning: Edge feature is stored, but edge IDs are not saved.\n",
      "  gb_warning(\"Edge feature is stored, but edge IDs are not saved.\")\n"
     ]
    }
   ],
   "source": [
    "dataset = gb.OnDiskDataset(base_dir).load()\n",
    "graph = dataset.graph\n",
    "print(f\"Loaded graph: {graph}\\n\")\n",
    "\n",
    "feature = dataset.feature\n",
    "print(f\"Loaded feature store: {feature}\\n\")\n",
    "\n",
    "tasks = dataset.tasks\n",
    "nc_task = tasks[0]\n",
    "print(f\"Loaded node classification task: {nc_task}\\n\")\n",
    "lp_task = tasks[1]\n",
    "print(f\"Loaded link prediction task: {lp_task}\\n\")"
   ]
  }
 ],
 "metadata": {
  "colab": {
   "private_outputs": true,
   "provenance": []
  },
  "kernelspec": {
   "display_name": "Python 3",
   "name": "python3"
  },
  "language_info": {
   "codemirror_mode": {
    "name": "ipython",
    "version": 3
   },
   "file_extension": ".py",
   "mimetype": "text/x-python",
   "name": "python",
   "nbconvert_exporter": "python",
   "pygments_lexer": "ipython3",
   "version": "3.10.14"
  }
 },
 "nbformat": 4,
 "nbformat_minor": 0
}

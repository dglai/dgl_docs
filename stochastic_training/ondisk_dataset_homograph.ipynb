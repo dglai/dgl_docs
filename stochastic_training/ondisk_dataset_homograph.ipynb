{
 "cells": [
  {
   "cell_type": "markdown",
   "metadata": {
    "id": "FnFhPMaAfLtJ"
   },
   "source": [
    "# OnDiskDataset for Homogeneous Graph\n",
    "\n",
    "[![Open In Colab](https://colab.research.google.com/assets/colab-badge.svg)](https://colab.research.google.com/github/dmlc/dgl/blob/master/notebooks/stochastic_training/ondisk_dataset_homograph.ipynb) [![GitHub](https://img.shields.io/badge/-View%20on%20GitHub-181717?logo=github&logoColor=ffffff)](https://github.com/dmlc/dgl/blob/master/notebooks/stochastic_training/ondisk_dataset_homograph.ipynb)\n",
    "\n",
    "This tutorial shows how to create `OnDiskDataset` for homogeneous graph that could be used in **GraphBolt** framework.\n",
    "\n",
    "By the end of this tutorial, you will be able to\n",
    "\n",
    "- organize graph structure data.\n",
    "- organize feature data.\n",
    "- organize training/validation/test set for specific tasks.\n",
    "\n",
    "To create an ``OnDiskDataset`` object, you need to organize all the data including graph structure, feature data and tasks into a directory. The directory should contain a ``metadata.yaml`` file that describes the metadata of the dataset.\n",
    "\n",
    "Now let's generate various data step by step and organize them together to instantiate `OnDiskDataset` finally."
   ]
  },
  {
   "cell_type": "markdown",
   "metadata": {
    "id": "Wlb19DtWgtzq"
   },
   "source": [
    "## Install DGL package"
   ]
  },
  {
   "cell_type": "code",
   "execution_count": 1,
   "metadata": {
    "execution": {
     "iopub.execute_input": "2024-10-09T13:20:22.314807Z",
     "iopub.status.busy": "2024-10-09T13:20:22.314407Z",
     "iopub.status.idle": "2024-10-09T13:20:25.346905Z",
     "shell.execute_reply": "2024-10-09T13:20:25.345978Z"
    },
    "id": "UojlT9ZGgyr9"
   },
   "outputs": [
    {
     "name": "stdout",
     "output_type": "stream",
     "text": [
      "Looking in links: https://data.dgl.ai/wheels-test/repo.html\r\n",
      "Requirement already satisfied: dgl in /opt/conda/envs/dgl-dev-cpu/lib/python3.10/site-packages (2.2a240410)\r\n",
      "Requirement already satisfied: numpy>=1.14.0 in /opt/conda/envs/dgl-dev-cpu/lib/python3.10/site-packages (from dgl) (1.26.4)\r\n",
      "Requirement already satisfied: scipy>=1.1.0 in /opt/conda/envs/dgl-dev-cpu/lib/python3.10/site-packages (from dgl) (1.14.1)\r\n",
      "Requirement already satisfied: networkx>=2.1 in /opt/conda/envs/dgl-dev-cpu/lib/python3.10/site-packages (from dgl) (3.3)\r\n",
      "Requirement already satisfied: requests>=2.19.0 in /opt/conda/envs/dgl-dev-cpu/lib/python3.10/site-packages (from dgl) (2.32.3)\r\n",
      "Requirement already satisfied: tqdm in /opt/conda/envs/dgl-dev-cpu/lib/python3.10/site-packages (from dgl) (4.66.5)\r\n",
      "Requirement already satisfied: psutil>=5.8.0 in /opt/conda/envs/dgl-dev-cpu/lib/python3.10/site-packages (from dgl) (6.0.0)\r\n",
      "Requirement already satisfied: torchdata>=0.5.0 in /opt/conda/envs/dgl-dev-cpu/lib/python3.10/site-packages (from dgl) (0.8.0)\r\n",
      "Requirement already satisfied: pandas in /opt/conda/envs/dgl-dev-cpu/lib/python3.10/site-packages (from dgl) (2.2.3)\r\n"
     ]
    },
    {
     "name": "stdout",
     "output_type": "stream",
     "text": [
      "Requirement already satisfied: charset-normalizer<4,>=2 in /opt/conda/envs/dgl-dev-cpu/lib/python3.10/site-packages (from requests>=2.19.0->dgl) (3.4.0)\r\n",
      "Requirement already satisfied: idna<4,>=2.5 in /opt/conda/envs/dgl-dev-cpu/lib/python3.10/site-packages (from requests>=2.19.0->dgl) (3.10)\r\n",
      "Requirement already satisfied: urllib3<3,>=1.21.1 in /opt/conda/envs/dgl-dev-cpu/lib/python3.10/site-packages (from requests>=2.19.0->dgl) (2.2.3)\r\n",
      "Requirement already satisfied: certifi>=2017.4.17 in /opt/conda/envs/dgl-dev-cpu/lib/python3.10/site-packages (from requests>=2.19.0->dgl) (2024.8.30)\r\n",
      "Requirement already satisfied: torch>=2 in /opt/conda/envs/dgl-dev-cpu/lib/python3.10/site-packages (from torchdata>=0.5.0->dgl) (2.1.0+cpu)\r\n"
     ]
    },
    {
     "name": "stdout",
     "output_type": "stream",
     "text": [
      "Requirement already satisfied: python-dateutil>=2.8.2 in /opt/conda/envs/dgl-dev-cpu/lib/python3.10/site-packages (from pandas->dgl) (2.9.0.post0)\r\n",
      "Requirement already satisfied: pytz>=2020.1 in /opt/conda/envs/dgl-dev-cpu/lib/python3.10/site-packages (from pandas->dgl) (2024.2)\r\n",
      "Requirement already satisfied: tzdata>=2022.7 in /opt/conda/envs/dgl-dev-cpu/lib/python3.10/site-packages (from pandas->dgl) (2024.2)\r\n",
      "Requirement already satisfied: six>=1.5 in /opt/conda/envs/dgl-dev-cpu/lib/python3.10/site-packages (from python-dateutil>=2.8.2->pandas->dgl) (1.16.0)\r\n",
      "Requirement already satisfied: filelock in /opt/conda/envs/dgl-dev-cpu/lib/python3.10/site-packages (from torch>=2->torchdata>=0.5.0->dgl) (3.16.1)\r\n",
      "Requirement already satisfied: typing-extensions in /opt/conda/envs/dgl-dev-cpu/lib/python3.10/site-packages (from torch>=2->torchdata>=0.5.0->dgl) (4.12.2)\r\n",
      "Requirement already satisfied: sympy in /opt/conda/envs/dgl-dev-cpu/lib/python3.10/site-packages (from torch>=2->torchdata>=0.5.0->dgl) (1.13.3)\r\n",
      "Requirement already satisfied: jinja2 in /opt/conda/envs/dgl-dev-cpu/lib/python3.10/site-packages (from torch>=2->torchdata>=0.5.0->dgl) (3.1.4)\r\n",
      "Requirement already satisfied: fsspec in /opt/conda/envs/dgl-dev-cpu/lib/python3.10/site-packages (from torch>=2->torchdata>=0.5.0->dgl) (2024.9.0)\r\n"
     ]
    },
    {
     "name": "stdout",
     "output_type": "stream",
     "text": [
      "Requirement already satisfied: MarkupSafe>=2.0 in /opt/conda/envs/dgl-dev-cpu/lib/python3.10/site-packages (from jinja2->torch>=2->torchdata>=0.5.0->dgl) (3.0.1)\r\n",
      "Requirement already satisfied: mpmath<1.4,>=1.1.0 in /opt/conda/envs/dgl-dev-cpu/lib/python3.10/site-packages (from sympy->torch>=2->torchdata>=0.5.0->dgl) (1.3.0)\r\n"
     ]
    },
    {
     "name": "stdout",
     "output_type": "stream",
     "text": [
      "\u001b[33mWARNING: Running pip as the 'root' user can result in broken permissions and conflicting behaviour with the system package manager, possibly rendering your system unusable.It is recommended to use a virtual environment instead: https://pip.pypa.io/warnings/venv. Use the --root-user-action option if you know what you are doing and want to suppress this warning.\u001b[0m\u001b[33m\r\n",
      "\u001b[0m"
     ]
    },
    {
     "name": "stdout",
     "output_type": "stream",
     "text": [
      "DGL installed!\n"
     ]
    }
   ],
   "source": [
    "# Install required packages.\n",
    "import os\n",
    "import torch\n",
    "import numpy as np\n",
    "os.environ['TORCH'] = torch.__version__\n",
    "os.environ['DGLBACKEND'] = \"pytorch\"\n",
    "\n",
    "# Install the CPU version.\n",
    "device = torch.device(\"cpu\")\n",
    "!pip install --pre dgl -f https://data.dgl.ai/wheels-test/repo.html\n",
    "\n",
    "try:\n",
    "    import dgl\n",
    "    import dgl.graphbolt as gb\n",
    "    installed = True\n",
    "except ImportError as error:\n",
    "    installed = False\n",
    "    print(error)\n",
    "print(\"DGL installed!\" if installed else \"DGL not found!\")"
   ]
  },
  {
   "cell_type": "markdown",
   "metadata": {
    "id": "2R7WnSbjsfbr"
   },
   "source": [
    "## Data preparation\n",
    "In order to demonstrate how to organize various data, let's create a base directory first."
   ]
  },
  {
   "cell_type": "code",
   "execution_count": 2,
   "metadata": {
    "execution": {
     "iopub.execute_input": "2024-10-09T13:20:25.350362Z",
     "iopub.status.busy": "2024-10-09T13:20:25.349343Z",
     "iopub.status.idle": "2024-10-09T13:20:25.354587Z",
     "shell.execute_reply": "2024-10-09T13:20:25.353738Z"
    },
    "id": "SZipbzyltLfO"
   },
   "outputs": [
    {
     "name": "stdout",
     "output_type": "stream",
     "text": [
      "Created base directory: ./ondisk_dataset_homograph\n"
     ]
    }
   ],
   "source": [
    "base_dir = './ondisk_dataset_homograph'\n",
    "os.makedirs(base_dir, exist_ok=True)\n",
    "print(f\"Created base directory: {base_dir}\")"
   ]
  },
  {
   "cell_type": "markdown",
   "metadata": {
    "id": "qhNtIn_xhlnl"
   },
   "source": [
    "### Generate graph structure data\n",
    "For homogeneous graph, we just need to save edges(namely seeds) into  **Numpy** or **CSV** file.\n",
    "\n",
    "Note:\n",
    "- when saving to **Numpy**, the array requires to be in shape of `(2, N)`. This format is recommended as constructing graph from it is much faster than **CSV** file.\n",
    "- when saving to **CSV** file, do not save index and header.\n"
   ]
  },
  {
   "cell_type": "code",
   "execution_count": 3,
   "metadata": {
    "execution": {
     "iopub.execute_input": "2024-10-09T13:20:25.356760Z",
     "iopub.status.busy": "2024-10-09T13:20:25.356467Z",
     "iopub.status.idle": "2024-10-09T13:20:25.370268Z",
     "shell.execute_reply": "2024-10-09T13:20:25.369415Z"
    },
    "id": "HcBt4G5BmSjr"
   },
   "outputs": [
    {
     "name": "stdout",
     "output_type": "stream",
     "text": [
      "Part of edges: [[932 665]\n",
      " [994 104]\n",
      " [648 436]\n",
      " [434   0]\n",
      " [432 277]]\n",
      "Edges are saved into ./ondisk_dataset_homograph/edges.csv\n"
     ]
    }
   ],
   "source": [
    "import numpy as np\n",
    "import pandas as pd\n",
    "num_nodes = 1000\n",
    "num_edges = 10 * num_nodes\n",
    "edges_path = os.path.join(base_dir, \"edges.csv\")\n",
    "edges = np.random.randint(0, num_nodes, size=(num_edges, 2))\n",
    "\n",
    "print(f\"Part of edges: {edges[:5, :]}\")\n",
    "\n",
    "df = pd.DataFrame(edges)\n",
    "df.to_csv(edges_path, index=False, header=False)\n",
    "\n",
    "print(f\"Edges are saved into {edges_path}\")"
   ]
  },
  {
   "cell_type": "markdown",
   "metadata": {
    "id": "kh-4cPtzpcaH"
   },
   "source": [
    "### Generate feature data for graph\n",
    "For feature data, numpy arrays and torch tensors are supported for now."
   ]
  },
  {
   "cell_type": "code",
   "execution_count": 4,
   "metadata": {
    "execution": {
     "iopub.execute_input": "2024-10-09T13:20:25.372473Z",
     "iopub.status.busy": "2024-10-09T13:20:25.372187Z",
     "iopub.status.idle": "2024-10-09T13:20:25.391517Z",
     "shell.execute_reply": "2024-10-09T13:20:25.390607Z"
    },
    "id": "_PVu1u5brBhF"
   },
   "outputs": [
    {
     "name": "stdout",
     "output_type": "stream",
     "text": [
      "Part of node feature [feat_0]: [[0.58187142 0.03578512 0.72947514 0.03207896 0.52885735]\n",
      " [0.33071513 0.57176919 0.79693159 0.30192339 0.13501142]\n",
      " [0.80588909 0.84872192 0.74439911 0.26077485 0.90494285]]\n",
      "Node feature [feat_0] is saved to ./ondisk_dataset_homograph/node-feat-0.npy\n",
      "\n",
      "Part of node feature [feat_1]: tensor([[0.4210, 0.7411, 0.6251, 0.9319, 0.8610],\n",
      "        [0.6358, 0.9501, 0.5766, 0.2989, 0.7052],\n",
      "        [0.1394, 0.2671, 0.9899, 0.5292, 0.2424]])\n",
      "Node feature [feat_1] is saved to ./ondisk_dataset_homograph/node-feat-1.pt\n",
      "\n",
      "Part of edge feature [feat_0]: [[0.5119404  0.34939952 0.94697028 0.24368247 0.1969737 ]\n",
      " [0.09221819 0.45106835 0.73636477 0.73891049 0.03631341]\n",
      " [0.55485138 0.41764656 0.50542873 0.35840057 0.2491922 ]]\n",
      "Edge feature [feat_0] is saved to ./ondisk_dataset_homograph/edge-feat-0.npy\n",
      "\n",
      "Part of edge feature [feat_1]: tensor([[0.0971, 0.9722, 0.9131, 0.1320, 0.6442],\n",
      "        [0.3382, 0.8898, 0.1242, 0.2556, 0.9489],\n",
      "        [0.2645, 0.2166, 0.5038, 0.8558, 0.4163]])\n",
      "Edge feature [feat_1] is saved to ./ondisk_dataset_homograph/edge-feat-1.pt\n",
      "\n"
     ]
    }
   ],
   "source": [
    "# Generate node feature in numpy array.\n",
    "node_feat_0_path = os.path.join(base_dir, \"node-feat-0.npy\")\n",
    "node_feat_0 = np.random.rand(num_nodes, 5)\n",
    "print(f\"Part of node feature [feat_0]: {node_feat_0[:3, :]}\")\n",
    "np.save(node_feat_0_path, node_feat_0)\n",
    "print(f\"Node feature [feat_0] is saved to {node_feat_0_path}\\n\")\n",
    "\n",
    "# Generate another node feature in torch tensor\n",
    "node_feat_1_path = os.path.join(base_dir, \"node-feat-1.pt\")\n",
    "node_feat_1 = torch.rand(num_nodes, 5)\n",
    "print(f\"Part of node feature [feat_1]: {node_feat_1[:3, :]}\")\n",
    "torch.save(node_feat_1, node_feat_1_path)\n",
    "print(f\"Node feature [feat_1] is saved to {node_feat_1_path}\\n\")\n",
    "\n",
    "# Generate edge feature in numpy array.\n",
    "edge_feat_0_path = os.path.join(base_dir, \"edge-feat-0.npy\")\n",
    "edge_feat_0 = np.random.rand(num_edges, 5)\n",
    "print(f\"Part of edge feature [feat_0]: {edge_feat_0[:3, :]}\")\n",
    "np.save(edge_feat_0_path, edge_feat_0)\n",
    "print(f\"Edge feature [feat_0] is saved to {edge_feat_0_path}\\n\")\n",
    "\n",
    "# Generate another edge feature in torch tensor\n",
    "edge_feat_1_path = os.path.join(base_dir, \"edge-feat-1.pt\")\n",
    "edge_feat_1 = torch.rand(num_edges, 5)\n",
    "print(f\"Part of edge feature [feat_1]: {edge_feat_1[:3, :]}\")\n",
    "torch.save(edge_feat_1, edge_feat_1_path)\n",
    "print(f\"Edge feature [feat_1] is saved to {edge_feat_1_path}\\n\")\n"
   ]
  },
  {
   "cell_type": "markdown",
   "metadata": {
    "id": "ZyqgOtsIwzh_"
   },
   "source": [
    "### Generate tasks\n",
    "`OnDiskDataset` supports multiple tasks. For each task, we need to prepare training/validation/test sets respectively. Such sets usually vary among different tasks. In this tutorial, let's create a **Node Classification** task and **Link Prediction** task."
   ]
  },
  {
   "cell_type": "markdown",
   "metadata": {
    "id": "hVxHaDIfzCkr"
   },
   "source": [
    "#### Node Classification Task\n",
    "For node classification task, we need **node IDs** and corresponding **labels** for each training/validation/test set. Like feature data, numpy arrays and torch tensors are supported for these sets."
   ]
  },
  {
   "cell_type": "code",
   "execution_count": 5,
   "metadata": {
    "execution": {
     "iopub.execute_input": "2024-10-09T13:20:25.394001Z",
     "iopub.status.busy": "2024-10-09T13:20:25.393580Z",
     "iopub.status.idle": "2024-10-09T13:20:25.405108Z",
     "shell.execute_reply": "2024-10-09T13:20:25.404278Z"
    },
    "id": "S5-fyBbHzTCO"
   },
   "outputs": [
    {
     "name": "stdout",
     "output_type": "stream",
     "text": [
      "Part of train ids for node classification: [206 281 375]\n",
      "NC train ids are saved to ./ondisk_dataset_homograph/nc-train-ids.npy\n",
      "\n",
      "Part of train labels for node classification: tensor([5, 0, 7])\n",
      "NC train labels are saved to ./ondisk_dataset_homograph/nc-train-labels.pt\n",
      "\n",
      "Part of val ids for node classification: [756 887 847]\n",
      "NC val ids are saved to ./ondisk_dataset_homograph/nc-val-ids.npy\n",
      "\n",
      "Part of val labels for node classification: tensor([2, 2, 8])\n",
      "NC val labels are saved to ./ondisk_dataset_homograph/nc-val-labels.pt\n",
      "\n",
      "Part of test ids for node classification: [324 805 127]\n",
      "NC test ids are saved to ./ondisk_dataset_homograph/nc-test-ids.npy\n",
      "\n",
      "Part of test labels for node classification: tensor([4, 4, 8])\n",
      "NC test labels are saved to ./ondisk_dataset_homograph/nc-test-labels.pt\n",
      "\n"
     ]
    }
   ],
   "source": [
    "num_trains = int(num_nodes * 0.6)\n",
    "num_vals = int(num_nodes * 0.2)\n",
    "num_tests = num_nodes - num_trains - num_vals\n",
    "\n",
    "ids = np.arange(num_nodes)\n",
    "np.random.shuffle(ids)\n",
    "\n",
    "nc_train_ids_path = os.path.join(base_dir, \"nc-train-ids.npy\")\n",
    "nc_train_ids = ids[:num_trains]\n",
    "print(f\"Part of train ids for node classification: {nc_train_ids[:3]}\")\n",
    "np.save(nc_train_ids_path, nc_train_ids)\n",
    "print(f\"NC train ids are saved to {nc_train_ids_path}\\n\")\n",
    "\n",
    "nc_train_labels_path = os.path.join(base_dir, \"nc-train-labels.pt\")\n",
    "nc_train_labels = torch.randint(0, 10, (num_trains,))\n",
    "print(f\"Part of train labels for node classification: {nc_train_labels[:3]}\")\n",
    "torch.save(nc_train_labels, nc_train_labels_path)\n",
    "print(f\"NC train labels are saved to {nc_train_labels_path}\\n\")\n",
    "\n",
    "nc_val_ids_path = os.path.join(base_dir, \"nc-val-ids.npy\")\n",
    "nc_val_ids = ids[num_trains:num_trains+num_vals]\n",
    "print(f\"Part of val ids for node classification: {nc_val_ids[:3]}\")\n",
    "np.save(nc_val_ids_path, nc_val_ids)\n",
    "print(f\"NC val ids are saved to {nc_val_ids_path}\\n\")\n",
    "\n",
    "nc_val_labels_path = os.path.join(base_dir, \"nc-val-labels.pt\")\n",
    "nc_val_labels = torch.randint(0, 10, (num_vals,))\n",
    "print(f\"Part of val labels for node classification: {nc_val_labels[:3]}\")\n",
    "torch.save(nc_val_labels, nc_val_labels_path)\n",
    "print(f\"NC val labels are saved to {nc_val_labels_path}\\n\")\n",
    "\n",
    "nc_test_ids_path = os.path.join(base_dir, \"nc-test-ids.npy\")\n",
    "nc_test_ids = ids[-num_tests:]\n",
    "print(f\"Part of test ids for node classification: {nc_test_ids[:3]}\")\n",
    "np.save(nc_test_ids_path, nc_test_ids)\n",
    "print(f\"NC test ids are saved to {nc_test_ids_path}\\n\")\n",
    "\n",
    "nc_test_labels_path = os.path.join(base_dir, \"nc-test-labels.pt\")\n",
    "nc_test_labels = torch.randint(0, 10, (num_tests,))\n",
    "print(f\"Part of test labels for node classification: {nc_test_labels[:3]}\")\n",
    "torch.save(nc_test_labels, nc_test_labels_path)\n",
    "print(f\"NC test labels are saved to {nc_test_labels_path}\\n\")"
   ]
  },
  {
   "cell_type": "markdown",
   "metadata": {
    "id": "LhAcDCHQ_KJ0"
   },
   "source": [
    "#### Link Prediction Task\n",
    "For link prediction task, we need **seeds** or **corresponding labels and indexes** which representing the pos/neg property and group of the seeds for each training/validation/test set. Like feature data, numpy arrays and torch tensors are supported for these sets."
   ]
  },
  {
   "cell_type": "code",
   "execution_count": 6,
   "metadata": {
    "execution": {
     "iopub.execute_input": "2024-10-09T13:20:25.407407Z",
     "iopub.status.busy": "2024-10-09T13:20:25.407028Z",
     "iopub.status.idle": "2024-10-09T13:20:25.424799Z",
     "shell.execute_reply": "2024-10-09T13:20:25.424005Z"
    },
    "id": "u0jCnXIcAQy4"
   },
   "outputs": [
    {
     "name": "stdout",
     "output_type": "stream",
     "text": [
      "Part of train seeds for link prediction: [[932 665]\n",
      " [994 104]\n",
      " [648 436]]\n",
      "LP train seeds are saved to ./ondisk_dataset_homograph/lp-train-seeds.npy\n",
      "\n",
      "Part of val seeds for link prediction: [[866 942]\n",
      " [435 275]\n",
      " [931 116]]\n",
      "LP val seeds are saved to ./ondisk_dataset_homograph/lp-val-seeds.npy\n",
      "\n",
      "Part of val labels for link prediction: [1. 1. 1.]\n",
      "LP val labels are saved to ./ondisk_dataset_homograph/lp-val-labels.npy\n",
      "\n",
      "Part of val indexes for link prediction: [0 1 2]\n",
      "LP val indexes are saved to ./ondisk_dataset_homograph/lp-val-indexes.npy\n",
      "\n",
      "Part of test seeds for link prediction: [[919 932]\n",
      " [969 523]\n",
      " [655  54]]\n",
      "LP test seeds are saved to ./ondisk_dataset_homograph/lp-test-seeds.npy\n",
      "\n",
      "Part of val labels for link prediction: [1. 1. 1.]\n",
      "LP test labels are saved to ./ondisk_dataset_homograph/lp-test-labels.npy\n",
      "\n",
      "Part of test indexes for link prediction: [0 1 2]\n",
      "LP test indexes are saved to ./ondisk_dataset_homograph/lp-test-indexes.npy\n",
      "\n"
     ]
    }
   ],
   "source": [
    "num_trains = int(num_edges * 0.6)\n",
    "num_vals = int(num_edges * 0.2)\n",
    "num_tests = num_edges - num_trains - num_vals\n",
    "\n",
    "lp_train_seeds_path = os.path.join(base_dir, \"lp-train-seeds.npy\")\n",
    "lp_train_seeds = edges[:num_trains, :]\n",
    "print(f\"Part of train seeds for link prediction: {lp_train_seeds[:3]}\")\n",
    "np.save(lp_train_seeds_path, lp_train_seeds)\n",
    "print(f\"LP train seeds are saved to {lp_train_seeds_path}\\n\")\n",
    "\n",
    "lp_val_seeds_path = os.path.join(base_dir, \"lp-val-seeds.npy\")\n",
    "lp_val_seeds = edges[num_trains:num_trains+num_vals, :]\n",
    "lp_val_neg_dsts = np.random.randint(0, num_nodes, (num_vals, 10)).reshape(-1)\n",
    "lp_val_neg_srcs = np.repeat(lp_val_seeds[:,0], 10)\n",
    "lp_val_neg_seeds = np.concatenate((lp_val_neg_srcs, lp_val_neg_dsts)).reshape(2,-1).T\n",
    "lp_val_seeds = np.concatenate((lp_val_seeds, lp_val_neg_seeds))\n",
    "print(f\"Part of val seeds for link prediction: {lp_val_seeds[:3]}\")\n",
    "np.save(lp_val_seeds_path, lp_val_seeds)\n",
    "print(f\"LP val seeds are saved to {lp_val_seeds_path}\\n\")\n",
    "\n",
    "lp_val_labels_path = os.path.join(base_dir, \"lp-val-labels.npy\")\n",
    "lp_val_labels = np.empty(num_vals * (10 + 1))\n",
    "lp_val_labels[:num_vals] = 1\n",
    "lp_val_labels[num_vals:] = 0\n",
    "print(f\"Part of val labels for link prediction: {lp_val_labels[:3]}\")\n",
    "np.save(lp_val_labels_path, lp_val_labels)\n",
    "print(f\"LP val labels are saved to {lp_val_labels_path}\\n\")\n",
    "\n",
    "lp_val_indexes_path = os.path.join(base_dir, \"lp-val-indexes.npy\")\n",
    "lp_val_indexes = np.arange(0, num_vals)\n",
    "lp_val_neg_indexes = np.repeat(lp_val_indexes, 10)\n",
    "lp_val_indexes = np.concatenate([lp_val_indexes, lp_val_neg_indexes])\n",
    "print(f\"Part of val indexes for link prediction: {lp_val_indexes[:3]}\")\n",
    "np.save(lp_val_indexes_path, lp_val_indexes)\n",
    "print(f\"LP val indexes are saved to {lp_val_indexes_path}\\n\")\n",
    "\n",
    "lp_test_seeds_path = os.path.join(base_dir, \"lp-test-seeds.npy\")\n",
    "lp_test_seeds = edges[-num_tests:, :]\n",
    "lp_test_neg_dsts = np.random.randint(0, num_nodes, (num_tests, 10)).reshape(-1)\n",
    "lp_test_neg_srcs = np.repeat(lp_test_seeds[:,0], 10)\n",
    "lp_test_neg_seeds = np.concatenate((lp_test_neg_srcs, lp_test_neg_dsts)).reshape(2,-1).T\n",
    "lp_test_seeds = np.concatenate((lp_test_seeds, lp_test_neg_seeds))\n",
    "print(f\"Part of test seeds for link prediction: {lp_test_seeds[:3]}\")\n",
    "np.save(lp_test_seeds_path, lp_test_seeds)\n",
    "print(f\"LP test seeds are saved to {lp_test_seeds_path}\\n\")\n",
    "\n",
    "lp_test_labels_path = os.path.join(base_dir, \"lp-test-labels.npy\")\n",
    "lp_test_labels = np.empty(num_tests * (10 + 1))\n",
    "lp_test_labels[:num_tests] = 1\n",
    "lp_test_labels[num_tests:] = 0\n",
    "print(f\"Part of val labels for link prediction: {lp_test_labels[:3]}\")\n",
    "np.save(lp_test_labels_path, lp_test_labels)\n",
    "print(f\"LP test labels are saved to {lp_test_labels_path}\\n\")\n",
    "\n",
    "lp_test_indexes_path = os.path.join(base_dir, \"lp-test-indexes.npy\")\n",
    "lp_test_indexes = np.arange(0, num_tests)\n",
    "lp_test_neg_indexes = np.repeat(lp_test_indexes, 10)\n",
    "lp_test_indexes = np.concatenate([lp_test_indexes, lp_test_neg_indexes])\n",
    "print(f\"Part of test indexes for link prediction: {lp_test_indexes[:3]}\")\n",
    "np.save(lp_test_indexes_path, lp_test_indexes)\n",
    "print(f\"LP test indexes are saved to {lp_test_indexes_path}\\n\")"
   ]
  },
  {
   "cell_type": "markdown",
   "metadata": {
    "id": "wbk6-wxRK-6S"
   },
   "source": [
    "## Organize Data into YAML File\n",
    "Now we need to create a `metadata.yaml` file which contains the paths, dadta types of graph structure, feature data, training/validation/test sets.\n",
    "\n",
    "Notes:\n",
    "- all path should be relative to `metadata.yaml`.\n",
    "- Below fields are optional and not specified in below example.\n",
    "  - `in_memory`: indicates whether to load dada into memory or `mmap`. Default is `True`.\n",
    "\n",
    "Please refer to [YAML specification](https://github.com/dmlc/dgl/blob/master/docs/source/stochastic_training/ondisk-dataset-specification.rst) for more details."
   ]
  },
  {
   "cell_type": "code",
   "execution_count": 7,
   "metadata": {
    "execution": {
     "iopub.execute_input": "2024-10-09T13:20:25.427196Z",
     "iopub.status.busy": "2024-10-09T13:20:25.426781Z",
     "iopub.status.idle": "2024-10-09T13:20:25.433090Z",
     "shell.execute_reply": "2024-10-09T13:20:25.432299Z"
    },
    "id": "ddGTWW61Lpwp"
   },
   "outputs": [],
   "source": [
    "yaml_content = f\"\"\"\n",
    "    dataset_name: homogeneous_graph_nc_lp\n",
    "    graph:\n",
    "      nodes:\n",
    "        - num: {num_nodes}\n",
    "      edges:\n",
    "        - format: csv\n",
    "          path: {os.path.basename(edges_path)}\n",
    "    feature_data:\n",
    "      - domain: node\n",
    "        name: feat_0\n",
    "        format: numpy\n",
    "        path: {os.path.basename(node_feat_0_path)}\n",
    "      - domain: node\n",
    "        name: feat_1\n",
    "        format: torch\n",
    "        path: {os.path.basename(node_feat_1_path)}\n",
    "      - domain: edge\n",
    "        name: feat_0\n",
    "        format: numpy\n",
    "        path: {os.path.basename(edge_feat_0_path)}\n",
    "      - domain: edge\n",
    "        name: feat_1\n",
    "        format: torch\n",
    "        path: {os.path.basename(edge_feat_1_path)}\n",
    "    tasks:\n",
    "      - name: node_classification\n",
    "        num_classes: 10\n",
    "        train_set:\n",
    "          - data:\n",
    "              - name: seeds\n",
    "                format: numpy\n",
    "                path: {os.path.basename(nc_train_ids_path)}\n",
    "              - name: labels\n",
    "                format: torch\n",
    "                path: {os.path.basename(nc_train_labels_path)}\n",
    "        validation_set:\n",
    "          - data:\n",
    "              - name: seeds\n",
    "                format: numpy\n",
    "                path: {os.path.basename(nc_val_ids_path)}\n",
    "              - name: labels\n",
    "                format: torch\n",
    "                path: {os.path.basename(nc_val_labels_path)}\n",
    "        test_set:\n",
    "          - data:\n",
    "              - name: seeds\n",
    "                format: numpy\n",
    "                path: {os.path.basename(nc_test_ids_path)}\n",
    "              - name: labels\n",
    "                format: torch\n",
    "                path: {os.path.basename(nc_test_labels_path)}\n",
    "      - name: link_prediction\n",
    "        num_classes: 10\n",
    "        train_set:\n",
    "          - data:\n",
    "              - name: seeds\n",
    "                format: numpy\n",
    "                path: {os.path.basename(lp_train_seeds_path)}\n",
    "        validation_set:\n",
    "          - data:\n",
    "              - name: seeds\n",
    "                format: numpy\n",
    "                path: {os.path.basename(lp_val_seeds_path)}\n",
    "              - name: labels\n",
    "                format: numpy\n",
    "                path: {os.path.basename(lp_val_labels_path)}\n",
    "              - name: indexes\n",
    "                format: numpy\n",
    "                path: {os.path.basename(lp_val_indexes_path)}\n",
    "        test_set:\n",
    "          - data:\n",
    "              - name: seeds\n",
    "                format: numpy\n",
    "                path: {os.path.basename(lp_test_seeds_path)}\n",
    "              - name: labels\n",
    "                format: numpy\n",
    "                path: {os.path.basename(lp_test_labels_path)}\n",
    "              - name: indexes\n",
    "                format: numpy\n",
    "                path: {os.path.basename(lp_test_indexes_path)}\n",
    "\"\"\"\n",
    "metadata_path = os.path.join(base_dir, \"metadata.yaml\")\n",
    "with open(metadata_path, \"w\") as f:\n",
    "  f.write(yaml_content)"
   ]
  },
  {
   "cell_type": "markdown",
   "metadata": {
    "id": "kEfybHGhOW7O"
   },
   "source": [
    "## Instantiate `OnDiskDataset`\n",
    "Now we're ready to load dataset via `dgl.graphbolt.OnDiskDataset`. When instantiating, we just pass in the base directory where `metadata.yaml` file lies.\n",
    "\n",
    "During first instantiation, GraphBolt preprocesses the raw data such as constructing `FusedCSCSamplingGraph` from edges. All data including graph, feature data, training/validation/test sets are put into `preprocessed` directory after preprocessing. Any following dataset loading will skip the preprocess stage.\n",
    "\n",
    "After preprocessing, `load()` is required to be called explicitly in order to load graph, feature data and tasks."
   ]
  },
  {
   "cell_type": "code",
   "execution_count": 8,
   "metadata": {
    "execution": {
     "iopub.execute_input": "2024-10-09T13:20:25.435204Z",
     "iopub.status.busy": "2024-10-09T13:20:25.434922Z",
     "iopub.status.idle": "2024-10-09T13:20:25.508738Z",
     "shell.execute_reply": "2024-10-09T13:20:25.508148Z"
    },
    "id": "W58CZoSzOiyo"
   },
   "outputs": [
    {
     "name": "stdout",
     "output_type": "stream",
     "text": [
      "Start to preprocess the on-disk dataset.\n",
      "Finish preprocessing the on-disk dataset.\n",
      "Loaded graph: FusedCSCSamplingGraph(csc_indptr=tensor([    0,    12,    22,  ...,  9975,  9983, 10000], dtype=torch.int32),\n",
      "                      indices=tensor([434, 940, 957,  ..., 149, 823, 379], dtype=torch.int32),\n",
      "                      total_num_nodes=1000, num_edges=10000,)\n",
      "\n",
      "Loaded feature store: TorchBasedFeatureStore(\n",
      "    {(<OnDiskFeatureDataDomain.NODE: 'node'>, None, 'feat_0'): TorchBasedFeature(\n",
      "        feature=tensor([[0.5819, 0.0358, 0.7295, 0.0321, 0.5289],\n",
      "                        [0.3307, 0.5718, 0.7969, 0.3019, 0.1350],\n",
      "                        [0.8059, 0.8487, 0.7444, 0.2608, 0.9049],\n",
      "                        ...,\n",
      "                        [0.7358, 0.4937, 0.3057, 0.4603, 0.3441],\n",
      "                        [0.7165, 0.0614, 0.8613, 0.5146, 0.9030],\n",
      "                        [0.7809, 0.5139, 0.3809, 0.4933, 0.4702]], dtype=torch.float64),\n",
      "        metadata={},\n",
      "    ), (<OnDiskFeatureDataDomain.NODE: 'node'>, None, 'feat_1'): TorchBasedFeature(\n",
      "        feature=tensor([[0.4210, 0.7411, 0.6251, 0.9319, 0.8610],\n",
      "                        [0.6358, 0.9501, 0.5766, 0.2989, 0.7052],\n",
      "                        [0.1394, 0.2671, 0.9899, 0.5292, 0.2424],\n",
      "                        ...,\n",
      "                        [0.0398, 0.0324, 0.2718, 0.9766, 0.4802],\n",
      "                        [0.0562, 0.4448, 0.6763, 0.6089, 0.5311],\n",
      "                        [0.5494, 0.3578, 0.3324, 0.2954, 0.9603]]),\n",
      "        metadata={},\n",
      "    ), (<OnDiskFeatureDataDomain.EDGE: 'edge'>, None, 'feat_0'): TorchBasedFeature(\n",
      "        feature=tensor([[0.5119, 0.3494, 0.9470, 0.2437, 0.1970],\n",
      "                        [0.0922, 0.4511, 0.7364, 0.7389, 0.0363],\n",
      "                        [0.5549, 0.4176, 0.5054, 0.3584, 0.2492],\n",
      "                        ...,\n",
      "                        [0.9319, 0.4887, 0.4442, 0.3301, 0.5600],\n",
      "                        [0.6228, 0.8611, 0.9619, 0.5490, 0.7758],\n",
      "                        [0.5579, 0.1923, 0.7265, 0.4125, 0.2484]], dtype=torch.float64),\n",
      "        metadata={},\n",
      "    ), (<OnDiskFeatureDataDomain.EDGE: 'edge'>, None, 'feat_1'): TorchBasedFeature(\n",
      "        feature=tensor([[0.0971, 0.9722, 0.9131, 0.1320, 0.6442],\n",
      "                        [0.3382, 0.8898, 0.1242, 0.2556, 0.9489],\n",
      "                        [0.2645, 0.2166, 0.5038, 0.8558, 0.4163],\n",
      "                        ...,\n",
      "                        [0.4813, 0.5840, 0.1415, 0.9168, 0.6252],\n",
      "                        [0.3403, 0.7657, 0.7341, 0.8401, 0.7529],\n",
      "                        [0.3709, 0.3569, 0.4275, 0.6791, 0.6627]]),\n",
      "        metadata={},\n",
      "    )}\n",
      ")\n",
      "\n",
      "Loaded node classification task: OnDiskTask(validation_set=ItemSet(\n",
      "               items=(tensor([756, 887, 847, 442, 571, 166, 956, 778, 335, 828, 137, 463, 652,  18,\n",
      "                   736, 257, 821, 951, 404,   0, 469, 525, 858, 323, 579, 221, 548, 276,\n",
      "                   182, 822, 626, 688, 524, 374, 262, 493, 603, 383, 200, 397, 227, 183,\n",
      "                   963, 243, 305, 187, 436, 120, 738, 151, 250, 602, 455, 661, 345, 385,\n",
      "                   908, 156, 590, 551, 617,  79, 510, 309, 146, 514, 558, 465, 592, 485,\n",
      "                   355, 760, 741, 976, 972, 995, 241, 369, 567, 482, 950, 105, 500, 945,\n",
      "                   230, 628, 467,  82, 929, 891, 937, 836, 537, 814, 530,  36, 809, 717,\n",
      "                    25, 184, 651, 356,  56, 867, 997, 587, 119, 851, 186, 636, 180, 693,\n",
      "                   464, 407, 892, 149, 726, 330, 675, 246, 563, 833, 721,  66, 873, 379,\n",
      "                   110, 871, 861, 298, 655, 654, 237,  48, 413, 349, 212, 502, 671, 732,\n",
      "                   380, 310, 377, 964, 848, 302, 544, 214, 343, 126, 613, 478, 678, 479,\n",
      "                   249, 854, 444,  84, 875, 399, 252,  78, 779,  11, 855, 695, 113, 979,\n",
      "                   425, 511, 664, 532, 334, 672, 251, 322, 817, 561, 292, 278, 953, 766,\n",
      "                   269,  93, 608, 739, 948, 889, 863, 609, 794, 337, 329, 959, 681, 411,\n",
      "                    92, 143,  29, 513], dtype=torch.int32), tensor([2, 2, 8, 5, 6, 8, 0, 9, 2, 7, 6, 5, 2, 5, 5, 5, 7, 3, 9, 6, 2, 9, 5, 3,\n",
      "                   6, 4, 5, 6, 5, 9, 5, 3, 5, 2, 4, 9, 3, 6, 0, 0, 3, 1, 3, 4, 0, 4, 6, 1,\n",
      "                   9, 3, 3, 3, 7, 0, 2, 5, 5, 2, 1, 0, 4, 5, 4, 9, 7, 8, 7, 3, 5, 3, 6, 1,\n",
      "                   2, 4, 3, 7, 7, 0, 3, 4, 9, 5, 4, 6, 2, 1, 9, 0, 7, 8, 6, 7, 9, 5, 4, 7,\n",
      "                   1, 4, 7, 0, 2, 7, 6, 1, 1, 0, 6, 2, 0, 0, 8, 6, 2, 1, 6, 9, 3, 2, 8, 1,\n",
      "                   9, 0, 8, 7, 7, 6, 2, 2, 9, 6, 8, 2, 8, 4, 3, 4, 6, 9, 7, 1, 1, 4, 1, 4,\n",
      "                   4, 7, 6, 6, 7, 2, 8, 9, 0, 3, 8, 4, 6, 7, 8, 0, 1, 0, 0, 6, 1, 9, 7, 7,\n",
      "                   7, 2, 5, 1, 6, 5, 6, 4, 2, 8, 1, 8, 6, 2, 2, 8, 9, 6, 5, 1, 5, 0, 0, 6,\n",
      "                   7, 0, 5, 1, 8, 7, 6, 1])),\n",
      "               names=('seeds', 'labels'),\n",
      "           ),\n",
      "           train_set=ItemSet(\n",
      "               items=(tensor([206, 281, 375, 893, 780, 754, 966, 326, 290, 623, 907, 540, 285,  27,\n",
      "                    69, 971, 638, 869, 658, 687, 745,  46, 826, 378, 154, 213, 481,  55,\n",
      "                   723, 806, 317,   6,  19, 838, 962, 111, 518, 925, 286, 768, 597,  73,\n",
      "                   234, 910, 315, 255, 903,  21, 549, 644, 987, 470, 840, 331, 174, 434,\n",
      "                   757, 991, 296, 476, 115, 993,  31, 318, 287, 327, 313, 164, 446, 201,\n",
      "                   807, 677, 308, 410, 812, 881,  39, 582, 545, 365, 114, 676, 328, 559,\n",
      "                   565, 669, 759, 716, 667, 173, 515, 381, 235, 710,  83, 562, 125, 752,\n",
      "                    86, 441, 239, 777, 977, 970, 223, 773, 796, 445, 764, 682, 918, 501,\n",
      "                   258, 988, 270, 933, 553, 775, 859, 388,   8,   5, 797, 188, 122, 526,\n",
      "                   700, 712, 118, 215, 491, 800,  96, 901, 314,  37, 406, 715, 634, 390,\n",
      "                   459, 224, 342, 931, 204, 620, 685,  40, 845,  90, 129, 218, 619, 763,\n",
      "                   594, 144, 461, 198,  98, 412, 487, 522, 538, 384, 140, 990, 301, 344,\n",
      "                   770,  59, 642, 325, 823, 899, 865, 229,  81, 132, 834, 994, 569, 771,\n",
      "                   986,  94,  35,   2,  22,  63,  72, 880, 578, 181, 640, 730, 300, 839,\n",
      "                   659, 245, 787,  20, 641, 668, 799,  80, 610, 359, 424,  88, 529, 447,\n",
      "                   618, 606, 714, 734, 646, 293, 615, 758, 141, 940, 921, 277, 282, 508,\n",
      "                   291, 178, 656, 216, 968,  51, 761, 165, 588, 279, 581, 361, 574, 772,\n",
      "                   747, 954, 304, 843, 897, 422, 783, 769, 566, 927, 316, 707,  26, 585,\n",
      "                   169, 810, 109, 911, 103,  87, 336, 466, 572, 453, 261, 116, 689,  57,\n",
      "                   727, 680,  38, 947, 185, 872, 679, 197, 568, 665, 505,  91, 992, 816,\n",
      "                     3, 519, 798, 207, 944, 550, 179, 236, 832, 521, 539, 158, 332, 193,\n",
      "                   426, 350, 751, 373, 351, 577, 321, 133, 645, 366, 319, 625, 333,   9,\n",
      "                   147, 831,  44, 176, 402, 145,  71, 489,  28, 555, 435, 372, 192, 554,\n",
      "                   996,  61, 338, 647, 266, 376, 484, 507, 705, 720, 231, 288, 420, 957,\n",
      "                   386, 418, 631, 546, 564, 480, 935, 870, 698, 263, 557, 112,  17, 793,\n",
      "                   477, 998,  32, 497, 254, 876, 862, 307,  99, 912, 898, 449,  45, 788,\n",
      "                   108, 419, 919, 271, 253, 802, 939, 438, 905, 728, 819, 673, 856, 946,\n",
      "                   943, 456, 531, 580, 196, 878, 395, 755, 703, 408, 765, 786, 528, 740,\n",
      "                   240,  47, 139, 748, 303, 498, 471, 630, 130, 888,  76, 162,  41, 486,\n",
      "                   967, 815, 242, 159, 268, 824, 357, 421, 713, 358, 850, 265, 737, 101,\n",
      "                   894, 259, 570, 247, 533, 785, 999, 743, 589, 930, 781,  10, 504, 382,\n",
      "                   708, 394,  14,  97, 877, 364, 576, 371, 440,  85, 409, 600, 163, 352,\n",
      "                   160, 191, 320,  16, 362, 635, 902, 209, 430, 811, 633, 885, 100, 942,\n",
      "                   649, 694, 776, 965, 982,  43, 795, 733, 915, 437, 614, 414, 297, 830,\n",
      "                   657, 697,  65, 932, 417, 746, 400, 208, 175, 509, 622, 674, 260, 624,\n",
      "                   938, 804, 868, 841, 890, 341, 283, 616, 416, 663,  24, 284, 517, 909,\n",
      "                   256, 542,  77, 936, 210, 607, 134, 711, 860, 391, 503, 190, 233, 433,\n",
      "                   495, 709, 496, 153,  67, 782, 744, 958, 534,  75, 225, 452,  74, 238,\n",
      "                     1, 691, 792, 368, 952, 339, 211, 475, 199, 423, 556, 155, 611, 131,\n",
      "                   448, 450, 904, 980, 886, 106, 719, 573, 516, 884, 955, 367, 735, 439,\n",
      "                    34, 170, 969, 194, 753,  64,  53, 605, 920, 846, 961, 354, 527, 643,\n",
      "                   864, 660, 686, 692,  13, 853, 294, 340, 220, 429, 560, 389, 989, 653,\n",
      "                   852, 879, 857, 639,  15, 934, 718, 535,  54, 789, 701, 978],\n",
      "                  dtype=torch.int32), tensor([5, 0, 7, 8, 8, 5, 9, 1, 6, 3, 6, 1, 1, 5, 7, 8, 1, 6, 0, 0, 1, 9, 6, 3,\n",
      "                   7, 3, 7, 1, 0, 2, 4, 0, 4, 2, 1, 7, 5, 0, 2, 1, 5, 2, 0, 6, 0, 3, 0, 1,\n",
      "                   6, 5, 1, 7, 8, 3, 1, 5, 2, 2, 3, 4, 1, 7, 7, 4, 9, 3, 9, 7, 3, 8, 5, 4,\n",
      "                   0, 8, 0, 0, 5, 3, 3, 7, 7, 9, 9, 4, 9, 4, 6, 8, 6, 1, 2, 8, 2, 2, 4, 8,\n",
      "                   3, 6, 0, 0, 1, 4, 5, 9, 6, 1, 7, 0, 8, 8, 7, 1, 9, 4, 4, 3, 3, 5, 6, 7,\n",
      "                   4, 2, 0, 2, 8, 3, 8, 1, 9, 9, 2, 8, 9, 1, 0, 3, 6, 4, 4, 7, 4, 2, 5, 4,\n",
      "                   8, 6, 9, 9, 5, 6, 6, 3, 5, 2, 2, 9, 0, 8, 2, 7, 7, 3, 7, 3, 3, 9, 5, 4,\n",
      "                   2, 7, 1, 0, 7, 3, 3, 3, 3, 5, 0, 5, 8, 5, 2, 7, 2, 4, 8, 6, 1, 2, 3, 8,\n",
      "                   2, 0, 7, 4, 0, 0, 4, 6, 7, 6, 0, 6, 8, 6, 4, 4, 3, 4, 5, 1, 2, 7, 5, 8,\n",
      "                   4, 9, 3, 3, 8, 8, 3, 1, 6, 6, 0, 5, 9, 7, 9, 5, 6, 2, 7, 9, 2, 2, 4, 9,\n",
      "                   6, 5, 3, 3, 4, 9, 5, 4, 7, 1, 2, 4, 6, 2, 2, 2, 6, 2, 5, 2, 6, 8, 9, 8,\n",
      "                   2, 8, 1, 0, 4, 5, 8, 9, 4, 5, 0, 0, 8, 4, 3, 6, 8, 7, 8, 1, 5, 0, 4, 8,\n",
      "                   9, 6, 6, 9, 8, 8, 1, 1, 2, 0, 1, 6, 1, 6, 4, 0, 3, 6, 7, 9, 9, 0, 4, 1,\n",
      "                   7, 7, 2, 6, 7, 3, 0, 5, 7, 8, 5, 9, 6, 4, 6, 4, 4, 4, 3, 9, 1, 4, 6, 8,\n",
      "                   7, 7, 6, 0, 6, 6, 5, 8, 1, 6, 0, 5, 5, 5, 6, 1, 6, 9, 9, 1, 6, 4, 9, 9,\n",
      "                   3, 9, 2, 8, 5, 9, 5, 7, 2, 7, 1, 4, 0, 2, 8, 1, 6, 9, 1, 9, 4, 8, 3, 2,\n",
      "                   6, 5, 2, 1, 0, 2, 6, 7, 6, 0, 3, 3, 5, 4, 0, 1, 0, 0, 3, 9, 5, 8, 9, 4,\n",
      "                   8, 2, 0, 6, 1, 6, 2, 2, 0, 0, 9, 8, 7, 3, 8, 1, 3, 0, 0, 5, 5, 8, 1, 4,\n",
      "                   6, 3, 0, 8, 5, 8, 1, 3, 8, 3, 6, 7, 3, 5, 7, 7, 9, 6, 6, 6, 9, 5, 2, 8,\n",
      "                   2, 5, 7, 0, 1, 6, 7, 1, 4, 7, 7, 0, 3, 2, 5, 2, 2, 8, 3, 4, 6, 4, 4, 2,\n",
      "                   8, 2, 8, 5, 9, 9, 0, 1, 0, 4, 0, 3, 9, 2, 7, 5, 3, 0, 8, 1, 7, 5, 5, 2,\n",
      "                   0, 1, 3, 4, 1, 2, 9, 3, 5, 0, 8, 2, 3, 0, 6, 0, 7, 7, 7, 5, 1, 1, 0, 5,\n",
      "                   2, 4, 9, 1, 2, 3, 3, 5, 4, 6, 7, 1, 1, 2, 8, 0, 7, 5, 3, 8, 6, 9, 2, 5,\n",
      "                   9, 4, 3, 6, 2, 6, 8, 0, 4, 2, 6, 2, 6, 7, 8, 2, 4, 7, 1, 7, 2, 6, 1, 8,\n",
      "                   9, 0, 4, 2, 7, 4, 3, 9, 8, 8, 2, 1, 9, 1, 6, 6, 4, 7, 3, 8, 3, 5, 1, 8])),\n",
      "               names=('seeds', 'labels'),\n",
      "           ),\n",
      "           test_set=ItemSet(\n",
      "               items=(tensor([324, 805, 127, 906, 353,  49, 121, 575, 403, 883, 923, 874, 289,  12,\n",
      "                   599, 895, 280,  58, 742, 648, 731, 428, 632, 248,  95, 392, 975, 226,\n",
      "                   922, 405, 219,  42, 396, 189, 346,  23, 488, 586, 928, 203, 474, 244,\n",
      "                   926, 762, 983, 960, 460, 543, 520, 784, 458, 347, 729, 370, 627, 152,\n",
      "                   629, 583, 483, 722, 124, 767, 866, 913, 217, 598, 612, 135, 195, 801,\n",
      "                   842, 123, 472, 684, 506, 363, 117, 457, 662,  33, 228, 604, 621, 984,\n",
      "                   312, 536, 136, 790, 900, 808,  50, 596, 107,  68, 102, 205, 791, 650,\n",
      "                   401, 774, 914, 104, 896, 443, 222, 696, 499, 360, 706, 490, 299, 820,\n",
      "                   595, 398, 142, 666, 138, 274, 803, 829, 157, 949, 601, 699, 849, 432,\n",
      "                   813, 827, 974, 161, 494, 454, 547, 523, 172, 387, 818, 451,  60, 882,\n",
      "                   128, 941,   7, 167, 837, 427, 415, 584, 637, 825, 168,  52, 749, 171,\n",
      "                   202, 462, 512, 844, 311, 985, 177, 973,  62,  89, 541,  30, 704, 724,\n",
      "                     4, 275, 916, 683,  70, 552, 393, 264, 150, 492, 670, 295, 306, 232,\n",
      "                   473, 468, 273, 702, 591, 690, 835, 593, 272, 348, 917, 981, 148, 431,\n",
      "                   750, 924, 267, 725], dtype=torch.int32), tensor([4, 4, 8, 1, 8, 1, 4, 8, 4, 1, 9, 4, 6, 6, 2, 3, 2, 2, 1, 8, 6, 6, 1, 1,\n",
      "                   2, 1, 2, 7, 6, 7, 9, 7, 1, 4, 5, 4, 0, 4, 7, 4, 4, 2, 9, 0, 3, 8, 7, 3,\n",
      "                   6, 0, 0, 7, 3, 8, 1, 4, 9, 0, 6, 0, 0, 5, 8, 3, 1, 7, 3, 8, 1, 2, 0, 2,\n",
      "                   3, 3, 6, 3, 4, 4, 9, 8, 2, 9, 9, 2, 3, 6, 3, 9, 6, 3, 5, 3, 1, 3, 2, 1,\n",
      "                   3, 5, 9, 2, 5, 8, 2, 0, 9, 6, 5, 9, 0, 2, 0, 3, 2, 8, 9, 5, 8, 0, 6, 6,\n",
      "                   4, 9, 5, 1, 0, 1, 2, 9, 8, 0, 6, 7, 8, 3, 5, 9, 2, 8, 1, 6, 1, 3, 3, 6,\n",
      "                   8, 1, 1, 6, 2, 2, 4, 9, 5, 8, 1, 5, 2, 5, 5, 9, 0, 4, 1, 6, 1, 8, 1, 6,\n",
      "                   5, 9, 2, 4, 5, 7, 6, 7, 8, 8, 7, 9, 9, 8, 4, 5, 3, 1, 4, 4, 0, 0, 7, 4,\n",
      "                   1, 4, 0, 7, 4, 2, 6, 4])),\n",
      "               names=('seeds', 'labels'),\n",
      "           ),\n",
      "           metadata={'name': 'node_classification', 'num_classes': 10},)\n",
      "\n",
      "Loaded link prediction task: OnDiskTask(validation_set=ItemSet(\n",
      "               items=(tensor([[866, 942],\n",
      "                   [435, 275],\n",
      "                   [931, 116],\n",
      "                   ...,\n",
      "                   [136, 629],\n",
      "                   [136, 688],\n",
      "                   [136, 306]], dtype=torch.int32), tensor([1., 1., 1.,  ..., 0., 0., 0.], dtype=torch.float64), tensor([   0,    1,    2,  ..., 1999, 1999, 1999])),\n",
      "               names=('seeds', 'labels', 'indexes'),\n",
      "           ),\n",
      "           train_set=ItemSet(\n",
      "               items=(tensor([[932, 665],\n",
      "                   [994, 104],\n",
      "                   [648, 436],\n",
      "                   ...,\n",
      "                   [ 84, 416],\n",
      "                   [ 17, 533],\n",
      "                   [938, 862]], dtype=torch.int32),),\n",
      "               names=('seeds',),\n",
      "           ),\n",
      "           test_set=ItemSet(\n",
      "               items=(tensor([[919, 932],\n",
      "                   [969, 523],\n",
      "                   [655,  54],\n",
      "                   ...,\n",
      "                   [566, 916],\n",
      "                   [566, 856],\n",
      "                   [566, 629]], dtype=torch.int32), tensor([1., 1., 1.,  ..., 0., 0., 0.], dtype=torch.float64), tensor([   0,    1,    2,  ..., 1999, 1999, 1999])),\n",
      "               names=('seeds', 'labels', 'indexes'),\n",
      "           ),\n",
      "           metadata={'name': 'link_prediction', 'num_classes': 10},)\n",
      "\n"
     ]
    },
    {
     "name": "stderr",
     "output_type": "stream",
     "text": [
      "/dgl/python/dgl/graphbolt/impl/ondisk_dataset.py:463: GBWarning: Edge feature is stored, but edge IDs are not saved.\n",
      "  gb_warning(\"Edge feature is stored, but edge IDs are not saved.\")\n"
     ]
    }
   ],
   "source": [
    "dataset = gb.OnDiskDataset(base_dir).load()\n",
    "graph = dataset.graph\n",
    "print(f\"Loaded graph: {graph}\\n\")\n",
    "\n",
    "feature = dataset.feature\n",
    "print(f\"Loaded feature store: {feature}\\n\")\n",
    "\n",
    "tasks = dataset.tasks\n",
    "nc_task = tasks[0]\n",
    "print(f\"Loaded node classification task: {nc_task}\\n\")\n",
    "lp_task = tasks[1]\n",
    "print(f\"Loaded link prediction task: {lp_task}\\n\")"
   ]
  }
 ],
 "metadata": {
  "colab": {
   "private_outputs": true,
   "provenance": []
  },
  "kernelspec": {
   "display_name": "Python 3",
   "name": "python3"
  },
  "language_info": {
   "codemirror_mode": {
    "name": "ipython",
    "version": 3
   },
   "file_extension": ".py",
   "mimetype": "text/x-python",
   "name": "python",
   "nbconvert_exporter": "python",
   "pygments_lexer": "ipython3",
   "version": "3.10.15"
  }
 },
 "nbformat": 4,
 "nbformat_minor": 0
}

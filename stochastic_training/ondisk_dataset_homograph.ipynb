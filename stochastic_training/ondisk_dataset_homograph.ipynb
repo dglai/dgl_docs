{
 "cells": [
  {
   "cell_type": "markdown",
   "metadata": {
    "id": "FnFhPMaAfLtJ"
   },
   "source": [
    "# OnDiskDataset for Homogeneous Graph\n",
    "\n",
    "[![Open In Colab](https://colab.research.google.com/assets/colab-badge.svg)](https://colab.research.google.com/github/dmlc/dgl/blob/master/notebooks/stochastic_training/ondisk_dataset_homograph.ipynb) [![GitHub](https://img.shields.io/badge/-View%20on%20GitHub-181717?logo=github&logoColor=ffffff)](https://github.com/dmlc/dgl/blob/master/notebooks/stochastic_training/ondisk_dataset_homograph.ipynb)\n",
    "\n",
    "This tutorial shows how to create `OnDiskDataset` for homogeneous graph that could be used in **GraphBolt** framework.\n",
    "\n",
    "By the end of this tutorial, you will be able to\n",
    "\n",
    "- organize graph structure data.\n",
    "- organize feature data.\n",
    "- organize training/validation/test set for specific tasks.\n",
    "\n",
    "To create an ``OnDiskDataset`` object, you need to organize all the data including graph structure, feature data and tasks into a directory. The directory should contain a ``metadata.yaml`` file that describes the metadata of the dataset.\n",
    "\n",
    "Now let's generate various data step by step and organize them together to instantiate `OnDiskDataset` finally."
   ]
  },
  {
   "cell_type": "markdown",
   "metadata": {
    "id": "Wlb19DtWgtzq"
   },
   "source": [
    "## Install DGL package"
   ]
  },
  {
   "cell_type": "code",
   "execution_count": 1,
   "metadata": {
    "execution": {
     "iopub.execute_input": "2024-10-31T13:19:48.409196Z",
     "iopub.status.busy": "2024-10-31T13:19:48.409000Z",
     "iopub.status.idle": "2024-10-31T13:19:51.451122Z",
     "shell.execute_reply": "2024-10-31T13:19:51.450120Z"
    },
    "id": "UojlT9ZGgyr9"
   },
   "outputs": [
    {
     "name": "stdout",
     "output_type": "stream",
     "text": [
      "Looking in links: https://data.dgl.ai/wheels-test/repo.html\r\n",
      "Requirement already satisfied: dgl in /opt/conda/envs/dgl-dev-cpu/lib/python3.10/site-packages (2.2a240410)\r\n",
      "Requirement already satisfied: numpy>=1.14.0 in /opt/conda/envs/dgl-dev-cpu/lib/python3.10/site-packages (from dgl) (1.26.4)\r\n",
      "Requirement already satisfied: scipy>=1.1.0 in /opt/conda/envs/dgl-dev-cpu/lib/python3.10/site-packages (from dgl) (1.14.1)\r\n",
      "Requirement already satisfied: networkx>=2.1 in /opt/conda/envs/dgl-dev-cpu/lib/python3.10/site-packages (from dgl) (3.4.2)\r\n",
      "Requirement already satisfied: requests>=2.19.0 in /opt/conda/envs/dgl-dev-cpu/lib/python3.10/site-packages (from dgl) (2.32.3)\r\n",
      "Requirement already satisfied: tqdm in /opt/conda/envs/dgl-dev-cpu/lib/python3.10/site-packages (from dgl) (4.66.6)\r\n",
      "Requirement already satisfied: psutil>=5.8.0 in /opt/conda/envs/dgl-dev-cpu/lib/python3.10/site-packages (from dgl) (6.1.0)\r\n"
     ]
    },
    {
     "name": "stdout",
     "output_type": "stream",
     "text": [
      "Requirement already satisfied: torchdata>=0.5.0 in /opt/conda/envs/dgl-dev-cpu/lib/python3.10/site-packages (from dgl) (0.9.0)\r\n",
      "Requirement already satisfied: pandas in /opt/conda/envs/dgl-dev-cpu/lib/python3.10/site-packages (from dgl) (2.2.3)\r\n",
      "Requirement already satisfied: charset-normalizer<4,>=2 in /opt/conda/envs/dgl-dev-cpu/lib/python3.10/site-packages (from requests>=2.19.0->dgl) (3.4.0)\r\n",
      "Requirement already satisfied: idna<4,>=2.5 in /opt/conda/envs/dgl-dev-cpu/lib/python3.10/site-packages (from requests>=2.19.0->dgl) (3.10)\r\n",
      "Requirement already satisfied: urllib3<3,>=1.21.1 in /opt/conda/envs/dgl-dev-cpu/lib/python3.10/site-packages (from requests>=2.19.0->dgl) (2.2.3)\r\n",
      "Requirement already satisfied: certifi>=2017.4.17 in /opt/conda/envs/dgl-dev-cpu/lib/python3.10/site-packages (from requests>=2.19.0->dgl) (2024.8.30)\r\n",
      "Requirement already satisfied: torch>=2 in /opt/conda/envs/dgl-dev-cpu/lib/python3.10/site-packages (from torchdata>=0.5.0->dgl) (2.1.0+cpu)\r\n"
     ]
    },
    {
     "name": "stdout",
     "output_type": "stream",
     "text": [
      "Requirement already satisfied: python-dateutil>=2.8.2 in /opt/conda/envs/dgl-dev-cpu/lib/python3.10/site-packages (from pandas->dgl) (2.9.0.post0)\r\n",
      "Requirement already satisfied: pytz>=2020.1 in /opt/conda/envs/dgl-dev-cpu/lib/python3.10/site-packages (from pandas->dgl) (2024.2)\r\n",
      "Requirement already satisfied: tzdata>=2022.7 in /opt/conda/envs/dgl-dev-cpu/lib/python3.10/site-packages (from pandas->dgl) (2024.2)\r\n",
      "Requirement already satisfied: six>=1.5 in /opt/conda/envs/dgl-dev-cpu/lib/python3.10/site-packages (from python-dateutil>=2.8.2->pandas->dgl) (1.16.0)\r\n",
      "Requirement already satisfied: filelock in /opt/conda/envs/dgl-dev-cpu/lib/python3.10/site-packages (from torch>=2->torchdata>=0.5.0->dgl) (3.16.1)\r\n",
      "Requirement already satisfied: typing-extensions in /opt/conda/envs/dgl-dev-cpu/lib/python3.10/site-packages (from torch>=2->torchdata>=0.5.0->dgl) (4.12.2)\r\n",
      "Requirement already satisfied: sympy in /opt/conda/envs/dgl-dev-cpu/lib/python3.10/site-packages (from torch>=2->torchdata>=0.5.0->dgl) (1.13.3)\r\n",
      "Requirement already satisfied: jinja2 in /opt/conda/envs/dgl-dev-cpu/lib/python3.10/site-packages (from torch>=2->torchdata>=0.5.0->dgl) (3.1.4)\r\n",
      "Requirement already satisfied: fsspec in /opt/conda/envs/dgl-dev-cpu/lib/python3.10/site-packages (from torch>=2->torchdata>=0.5.0->dgl) (2024.10.0)\r\n"
     ]
    },
    {
     "name": "stdout",
     "output_type": "stream",
     "text": [
      "Requirement already satisfied: MarkupSafe>=2.0 in /opt/conda/envs/dgl-dev-cpu/lib/python3.10/site-packages (from jinja2->torch>=2->torchdata>=0.5.0->dgl) (3.0.2)\r\n",
      "Requirement already satisfied: mpmath<1.4,>=1.1.0 in /opt/conda/envs/dgl-dev-cpu/lib/python3.10/site-packages (from sympy->torch>=2->torchdata>=0.5.0->dgl) (1.3.0)\r\n"
     ]
    },
    {
     "name": "stdout",
     "output_type": "stream",
     "text": [
      "\u001b[33mWARNING: Running pip as the 'root' user can result in broken permissions and conflicting behaviour with the system package manager, possibly rendering your system unusable.It is recommended to use a virtual environment instead: https://pip.pypa.io/warnings/venv. Use the --root-user-action option if you know what you are doing and want to suppress this warning.\u001b[0m\u001b[33m\r\n",
      "\u001b[0m"
     ]
    },
    {
     "name": "stdout",
     "output_type": "stream",
     "text": [
      "DGL installed!\n"
     ]
    }
   ],
   "source": [
    "# Install required packages.\n",
    "import os\n",
    "import torch\n",
    "import numpy as np\n",
    "os.environ['TORCH'] = torch.__version__\n",
    "os.environ['DGLBACKEND'] = \"pytorch\"\n",
    "\n",
    "# Install the CPU version.\n",
    "device = torch.device(\"cpu\")\n",
    "!pip install --pre dgl -f https://data.dgl.ai/wheels-test/repo.html\n",
    "\n",
    "try:\n",
    "    import dgl\n",
    "    import dgl.graphbolt as gb\n",
    "    installed = True\n",
    "except ImportError as error:\n",
    "    installed = False\n",
    "    print(error)\n",
    "print(\"DGL installed!\" if installed else \"DGL not found!\")"
   ]
  },
  {
   "cell_type": "markdown",
   "metadata": {
    "id": "2R7WnSbjsfbr"
   },
   "source": [
    "## Data preparation\n",
    "In order to demonstrate how to organize various data, let's create a base directory first."
   ]
  },
  {
   "cell_type": "code",
   "execution_count": 2,
   "metadata": {
    "execution": {
     "iopub.execute_input": "2024-10-31T13:19:51.454310Z",
     "iopub.status.busy": "2024-10-31T13:19:51.453553Z",
     "iopub.status.idle": "2024-10-31T13:19:51.459344Z",
     "shell.execute_reply": "2024-10-31T13:19:51.458491Z"
    },
    "id": "SZipbzyltLfO"
   },
   "outputs": [
    {
     "name": "stdout",
     "output_type": "stream",
     "text": [
      "Created base directory: ./ondisk_dataset_homograph\n"
     ]
    }
   ],
   "source": [
    "base_dir = './ondisk_dataset_homograph'\n",
    "os.makedirs(base_dir, exist_ok=True)\n",
    "print(f\"Created base directory: {base_dir}\")"
   ]
  },
  {
   "cell_type": "markdown",
   "metadata": {
    "id": "qhNtIn_xhlnl"
   },
   "source": [
    "### Generate graph structure data\n",
    "For homogeneous graph, we just need to save edges(namely seeds) into  **Numpy** or **CSV** file.\n",
    "\n",
    "Note:\n",
    "- when saving to **Numpy**, the array requires to be in shape of `(2, N)`. This format is recommended as constructing graph from it is much faster than **CSV** file.\n",
    "- when saving to **CSV** file, do not save index and header.\n"
   ]
  },
  {
   "cell_type": "code",
   "execution_count": 3,
   "metadata": {
    "execution": {
     "iopub.execute_input": "2024-10-31T13:19:51.462178Z",
     "iopub.status.busy": "2024-10-31T13:19:51.461457Z",
     "iopub.status.idle": "2024-10-31T13:19:51.476176Z",
     "shell.execute_reply": "2024-10-31T13:19:51.475293Z"
    },
    "id": "HcBt4G5BmSjr"
   },
   "outputs": [
    {
     "name": "stdout",
     "output_type": "stream",
     "text": [
      "Part of edges: [[933 472]\n",
      " [911 651]\n",
      " [858 754]\n",
      " [893 636]\n",
      " [764 924]]\n",
      "Edges are saved into ./ondisk_dataset_homograph/edges.csv\n"
     ]
    }
   ],
   "source": [
    "import numpy as np\n",
    "import pandas as pd\n",
    "num_nodes = 1000\n",
    "num_edges = 10 * num_nodes\n",
    "edges_path = os.path.join(base_dir, \"edges.csv\")\n",
    "edges = np.random.randint(0, num_nodes, size=(num_edges, 2))\n",
    "\n",
    "print(f\"Part of edges: {edges[:5, :]}\")\n",
    "\n",
    "df = pd.DataFrame(edges)\n",
    "df.to_csv(edges_path, index=False, header=False)\n",
    "\n",
    "print(f\"Edges are saved into {edges_path}\")"
   ]
  },
  {
   "cell_type": "markdown",
   "metadata": {
    "id": "kh-4cPtzpcaH"
   },
   "source": [
    "### Generate feature data for graph\n",
    "For feature data, numpy arrays and torch tensors are supported for now."
   ]
  },
  {
   "cell_type": "code",
   "execution_count": 4,
   "metadata": {
    "execution": {
     "iopub.execute_input": "2024-10-31T13:19:51.478472Z",
     "iopub.status.busy": "2024-10-31T13:19:51.478150Z",
     "iopub.status.idle": "2024-10-31T13:19:51.497963Z",
     "shell.execute_reply": "2024-10-31T13:19:51.497153Z"
    },
    "id": "_PVu1u5brBhF"
   },
   "outputs": [
    {
     "name": "stdout",
     "output_type": "stream",
     "text": [
      "Part of node feature [feat_0]: [[0.45012199 0.77267558 0.40215439 0.13720558 0.69015851]\n",
      " [0.59676991 0.61858395 0.84405873 0.25414989 0.59902289]\n",
      " [0.62659452 0.2811308  0.4501011  0.22889617 0.74882028]]\n",
      "Node feature [feat_0] is saved to ./ondisk_dataset_homograph/node-feat-0.npy\n",
      "\n",
      "Part of node feature [feat_1]: tensor([[0.7336, 0.6354, 0.5194, 0.0737, 0.4363],\n",
      "        [0.3211, 0.5659, 0.3474, 0.6982, 0.0580],\n",
      "        [0.9050, 0.4349, 0.3693, 0.9045, 0.3167]])\n",
      "Node feature [feat_1] is saved to ./ondisk_dataset_homograph/node-feat-1.pt\n",
      "\n",
      "Part of edge feature [feat_0]: [[0.54612253 0.67822981 0.16770944 0.42996198 0.63067357]\n",
      " [0.77574856 0.25553539 0.57545909 0.92486029 0.86966061]\n",
      " [0.66492982 0.23224715 0.84830807 0.85044332 0.43135567]]\n",
      "Edge feature [feat_0] is saved to ./ondisk_dataset_homograph/edge-feat-0.npy\n",
      "\n",
      "Part of edge feature [feat_1]: tensor([[0.4409, 0.3423, 0.3865, 0.3127, 0.4812],\n",
      "        [0.9997, 0.1137, 0.2090, 0.6718, 0.3273],\n",
      "        [0.8261, 0.7580, 0.5492, 0.8651, 0.7723]])\n",
      "Edge feature [feat_1] is saved to ./ondisk_dataset_homograph/edge-feat-1.pt\n",
      "\n"
     ]
    }
   ],
   "source": [
    "# Generate node feature in numpy array.\n",
    "node_feat_0_path = os.path.join(base_dir, \"node-feat-0.npy\")\n",
    "node_feat_0 = np.random.rand(num_nodes, 5)\n",
    "print(f\"Part of node feature [feat_0]: {node_feat_0[:3, :]}\")\n",
    "np.save(node_feat_0_path, node_feat_0)\n",
    "print(f\"Node feature [feat_0] is saved to {node_feat_0_path}\\n\")\n",
    "\n",
    "# Generate another node feature in torch tensor\n",
    "node_feat_1_path = os.path.join(base_dir, \"node-feat-1.pt\")\n",
    "node_feat_1 = torch.rand(num_nodes, 5)\n",
    "print(f\"Part of node feature [feat_1]: {node_feat_1[:3, :]}\")\n",
    "torch.save(node_feat_1, node_feat_1_path)\n",
    "print(f\"Node feature [feat_1] is saved to {node_feat_1_path}\\n\")\n",
    "\n",
    "# Generate edge feature in numpy array.\n",
    "edge_feat_0_path = os.path.join(base_dir, \"edge-feat-0.npy\")\n",
    "edge_feat_0 = np.random.rand(num_edges, 5)\n",
    "print(f\"Part of edge feature [feat_0]: {edge_feat_0[:3, :]}\")\n",
    "np.save(edge_feat_0_path, edge_feat_0)\n",
    "print(f\"Edge feature [feat_0] is saved to {edge_feat_0_path}\\n\")\n",
    "\n",
    "# Generate another edge feature in torch tensor\n",
    "edge_feat_1_path = os.path.join(base_dir, \"edge-feat-1.pt\")\n",
    "edge_feat_1 = torch.rand(num_edges, 5)\n",
    "print(f\"Part of edge feature [feat_1]: {edge_feat_1[:3, :]}\")\n",
    "torch.save(edge_feat_1, edge_feat_1_path)\n",
    "print(f\"Edge feature [feat_1] is saved to {edge_feat_1_path}\\n\")\n"
   ]
  },
  {
   "cell_type": "markdown",
   "metadata": {
    "id": "ZyqgOtsIwzh_"
   },
   "source": [
    "### Generate tasks\n",
    "`OnDiskDataset` supports multiple tasks. For each task, we need to prepare training/validation/test sets respectively. Such sets usually vary among different tasks. In this tutorial, let's create a **Node Classification** task and **Link Prediction** task."
   ]
  },
  {
   "cell_type": "markdown",
   "metadata": {
    "id": "hVxHaDIfzCkr"
   },
   "source": [
    "#### Node Classification Task\n",
    "For node classification task, we need **node IDs** and corresponding **labels** for each training/validation/test set. Like feature data, numpy arrays and torch tensors are supported for these sets."
   ]
  },
  {
   "cell_type": "code",
   "execution_count": 5,
   "metadata": {
    "execution": {
     "iopub.execute_input": "2024-10-31T13:19:51.500621Z",
     "iopub.status.busy": "2024-10-31T13:19:51.500422Z",
     "iopub.status.idle": "2024-10-31T13:19:51.513034Z",
     "shell.execute_reply": "2024-10-31T13:19:51.511976Z"
    },
    "id": "S5-fyBbHzTCO"
   },
   "outputs": [
    {
     "name": "stdout",
     "output_type": "stream",
     "text": [
      "Part of train ids for node classification: [438 271 710]\n",
      "NC train ids are saved to ./ondisk_dataset_homograph/nc-train-ids.npy\n",
      "\n",
      "Part of train labels for node classification: tensor([3, 5, 5])\n",
      "NC train labels are saved to ./ondisk_dataset_homograph/nc-train-labels.pt\n",
      "\n",
      "Part of val ids for node classification: [378  82 442]\n",
      "NC val ids are saved to ./ondisk_dataset_homograph/nc-val-ids.npy\n",
      "\n",
      "Part of val labels for node classification: tensor([8, 9, 6])\n",
      "NC val labels are saved to ./ondisk_dataset_homograph/nc-val-labels.pt\n",
      "\n",
      "Part of test ids for node classification: [ 33 423 930]\n",
      "NC test ids are saved to ./ondisk_dataset_homograph/nc-test-ids.npy\n",
      "\n",
      "Part of test labels for node classification: tensor([2, 3, 4])\n",
      "NC test labels are saved to ./ondisk_dataset_homograph/nc-test-labels.pt\n",
      "\n"
     ]
    }
   ],
   "source": [
    "num_trains = int(num_nodes * 0.6)\n",
    "num_vals = int(num_nodes * 0.2)\n",
    "num_tests = num_nodes - num_trains - num_vals\n",
    "\n",
    "ids = np.arange(num_nodes)\n",
    "np.random.shuffle(ids)\n",
    "\n",
    "nc_train_ids_path = os.path.join(base_dir, \"nc-train-ids.npy\")\n",
    "nc_train_ids = ids[:num_trains]\n",
    "print(f\"Part of train ids for node classification: {nc_train_ids[:3]}\")\n",
    "np.save(nc_train_ids_path, nc_train_ids)\n",
    "print(f\"NC train ids are saved to {nc_train_ids_path}\\n\")\n",
    "\n",
    "nc_train_labels_path = os.path.join(base_dir, \"nc-train-labels.pt\")\n",
    "nc_train_labels = torch.randint(0, 10, (num_trains,))\n",
    "print(f\"Part of train labels for node classification: {nc_train_labels[:3]}\")\n",
    "torch.save(nc_train_labels, nc_train_labels_path)\n",
    "print(f\"NC train labels are saved to {nc_train_labels_path}\\n\")\n",
    "\n",
    "nc_val_ids_path = os.path.join(base_dir, \"nc-val-ids.npy\")\n",
    "nc_val_ids = ids[num_trains:num_trains+num_vals]\n",
    "print(f\"Part of val ids for node classification: {nc_val_ids[:3]}\")\n",
    "np.save(nc_val_ids_path, nc_val_ids)\n",
    "print(f\"NC val ids are saved to {nc_val_ids_path}\\n\")\n",
    "\n",
    "nc_val_labels_path = os.path.join(base_dir, \"nc-val-labels.pt\")\n",
    "nc_val_labels = torch.randint(0, 10, (num_vals,))\n",
    "print(f\"Part of val labels for node classification: {nc_val_labels[:3]}\")\n",
    "torch.save(nc_val_labels, nc_val_labels_path)\n",
    "print(f\"NC val labels are saved to {nc_val_labels_path}\\n\")\n",
    "\n",
    "nc_test_ids_path = os.path.join(base_dir, \"nc-test-ids.npy\")\n",
    "nc_test_ids = ids[-num_tests:]\n",
    "print(f\"Part of test ids for node classification: {nc_test_ids[:3]}\")\n",
    "np.save(nc_test_ids_path, nc_test_ids)\n",
    "print(f\"NC test ids are saved to {nc_test_ids_path}\\n\")\n",
    "\n",
    "nc_test_labels_path = os.path.join(base_dir, \"nc-test-labels.pt\")\n",
    "nc_test_labels = torch.randint(0, 10, (num_tests,))\n",
    "print(f\"Part of test labels for node classification: {nc_test_labels[:3]}\")\n",
    "torch.save(nc_test_labels, nc_test_labels_path)\n",
    "print(f\"NC test labels are saved to {nc_test_labels_path}\\n\")"
   ]
  },
  {
   "cell_type": "markdown",
   "metadata": {
    "id": "LhAcDCHQ_KJ0"
   },
   "source": [
    "#### Link Prediction Task\n",
    "For link prediction task, we need **seeds** or **corresponding labels and indexes** which representing the pos/neg property and group of the seeds for each training/validation/test set. Like feature data, numpy arrays and torch tensors are supported for these sets."
   ]
  },
  {
   "cell_type": "code",
   "execution_count": 6,
   "metadata": {
    "execution": {
     "iopub.execute_input": "2024-10-31T13:19:51.515484Z",
     "iopub.status.busy": "2024-10-31T13:19:51.515194Z",
     "iopub.status.idle": "2024-10-31T13:19:51.534121Z",
     "shell.execute_reply": "2024-10-31T13:19:51.533256Z"
    },
    "id": "u0jCnXIcAQy4"
   },
   "outputs": [
    {
     "name": "stdout",
     "output_type": "stream",
     "text": [
      "Part of train seeds for link prediction: [[933 472]\n",
      " [911 651]\n",
      " [858 754]]\n",
      "LP train seeds are saved to ./ondisk_dataset_homograph/lp-train-seeds.npy\n",
      "\n",
      "Part of val seeds for link prediction: [[ 87 154]\n",
      " [170 543]\n",
      " [294 169]]\n",
      "LP val seeds are saved to ./ondisk_dataset_homograph/lp-val-seeds.npy\n",
      "\n",
      "Part of val labels for link prediction: [1. 1. 1.]\n",
      "LP val labels are saved to ./ondisk_dataset_homograph/lp-val-labels.npy\n",
      "\n",
      "Part of val indexes for link prediction: [0 1 2]\n",
      "LP val indexes are saved to ./ondisk_dataset_homograph/lp-val-indexes.npy\n",
      "\n",
      "Part of test seeds for link prediction: [[851 291]\n",
      " [ 32 713]\n",
      " [573 832]]\n",
      "LP test seeds are saved to ./ondisk_dataset_homograph/lp-test-seeds.npy\n",
      "\n",
      "Part of val labels for link prediction: [1. 1. 1.]\n",
      "LP test labels are saved to ./ondisk_dataset_homograph/lp-test-labels.npy\n",
      "\n",
      "Part of test indexes for link prediction: [0 1 2]\n",
      "LP test indexes are saved to ./ondisk_dataset_homograph/lp-test-indexes.npy\n",
      "\n"
     ]
    }
   ],
   "source": [
    "num_trains = int(num_edges * 0.6)\n",
    "num_vals = int(num_edges * 0.2)\n",
    "num_tests = num_edges - num_trains - num_vals\n",
    "\n",
    "lp_train_seeds_path = os.path.join(base_dir, \"lp-train-seeds.npy\")\n",
    "lp_train_seeds = edges[:num_trains, :]\n",
    "print(f\"Part of train seeds for link prediction: {lp_train_seeds[:3]}\")\n",
    "np.save(lp_train_seeds_path, lp_train_seeds)\n",
    "print(f\"LP train seeds are saved to {lp_train_seeds_path}\\n\")\n",
    "\n",
    "lp_val_seeds_path = os.path.join(base_dir, \"lp-val-seeds.npy\")\n",
    "lp_val_seeds = edges[num_trains:num_trains+num_vals, :]\n",
    "lp_val_neg_dsts = np.random.randint(0, num_nodes, (num_vals, 10)).reshape(-1)\n",
    "lp_val_neg_srcs = np.repeat(lp_val_seeds[:,0], 10)\n",
    "lp_val_neg_seeds = np.concatenate((lp_val_neg_srcs, lp_val_neg_dsts)).reshape(2,-1).T\n",
    "lp_val_seeds = np.concatenate((lp_val_seeds, lp_val_neg_seeds))\n",
    "print(f\"Part of val seeds for link prediction: {lp_val_seeds[:3]}\")\n",
    "np.save(lp_val_seeds_path, lp_val_seeds)\n",
    "print(f\"LP val seeds are saved to {lp_val_seeds_path}\\n\")\n",
    "\n",
    "lp_val_labels_path = os.path.join(base_dir, \"lp-val-labels.npy\")\n",
    "lp_val_labels = np.empty(num_vals * (10 + 1))\n",
    "lp_val_labels[:num_vals] = 1\n",
    "lp_val_labels[num_vals:] = 0\n",
    "print(f\"Part of val labels for link prediction: {lp_val_labels[:3]}\")\n",
    "np.save(lp_val_labels_path, lp_val_labels)\n",
    "print(f\"LP val labels are saved to {lp_val_labels_path}\\n\")\n",
    "\n",
    "lp_val_indexes_path = os.path.join(base_dir, \"lp-val-indexes.npy\")\n",
    "lp_val_indexes = np.arange(0, num_vals)\n",
    "lp_val_neg_indexes = np.repeat(lp_val_indexes, 10)\n",
    "lp_val_indexes = np.concatenate([lp_val_indexes, lp_val_neg_indexes])\n",
    "print(f\"Part of val indexes for link prediction: {lp_val_indexes[:3]}\")\n",
    "np.save(lp_val_indexes_path, lp_val_indexes)\n",
    "print(f\"LP val indexes are saved to {lp_val_indexes_path}\\n\")\n",
    "\n",
    "lp_test_seeds_path = os.path.join(base_dir, \"lp-test-seeds.npy\")\n",
    "lp_test_seeds = edges[-num_tests:, :]\n",
    "lp_test_neg_dsts = np.random.randint(0, num_nodes, (num_tests, 10)).reshape(-1)\n",
    "lp_test_neg_srcs = np.repeat(lp_test_seeds[:,0], 10)\n",
    "lp_test_neg_seeds = np.concatenate((lp_test_neg_srcs, lp_test_neg_dsts)).reshape(2,-1).T\n",
    "lp_test_seeds = np.concatenate((lp_test_seeds, lp_test_neg_seeds))\n",
    "print(f\"Part of test seeds for link prediction: {lp_test_seeds[:3]}\")\n",
    "np.save(lp_test_seeds_path, lp_test_seeds)\n",
    "print(f\"LP test seeds are saved to {lp_test_seeds_path}\\n\")\n",
    "\n",
    "lp_test_labels_path = os.path.join(base_dir, \"lp-test-labels.npy\")\n",
    "lp_test_labels = np.empty(num_tests * (10 + 1))\n",
    "lp_test_labels[:num_tests] = 1\n",
    "lp_test_labels[num_tests:] = 0\n",
    "print(f\"Part of val labels for link prediction: {lp_test_labels[:3]}\")\n",
    "np.save(lp_test_labels_path, lp_test_labels)\n",
    "print(f\"LP test labels are saved to {lp_test_labels_path}\\n\")\n",
    "\n",
    "lp_test_indexes_path = os.path.join(base_dir, \"lp-test-indexes.npy\")\n",
    "lp_test_indexes = np.arange(0, num_tests)\n",
    "lp_test_neg_indexes = np.repeat(lp_test_indexes, 10)\n",
    "lp_test_indexes = np.concatenate([lp_test_indexes, lp_test_neg_indexes])\n",
    "print(f\"Part of test indexes for link prediction: {lp_test_indexes[:3]}\")\n",
    "np.save(lp_test_indexes_path, lp_test_indexes)\n",
    "print(f\"LP test indexes are saved to {lp_test_indexes_path}\\n\")"
   ]
  },
  {
   "cell_type": "markdown",
   "metadata": {
    "id": "wbk6-wxRK-6S"
   },
   "source": [
    "## Organize Data into YAML File\n",
    "Now we need to create a `metadata.yaml` file which contains the paths, dadta types of graph structure, feature data, training/validation/test sets.\n",
    "\n",
    "Notes:\n",
    "- all path should be relative to `metadata.yaml`.\n",
    "- Below fields are optional and not specified in below example.\n",
    "  - `in_memory`: indicates whether to load dada into memory or `mmap`. Default is `True`.\n",
    "\n",
    "Please refer to [YAML specification](https://github.com/dmlc/dgl/blob/master/docs/source/stochastic_training/ondisk-dataset-specification.rst) for more details."
   ]
  },
  {
   "cell_type": "code",
   "execution_count": 7,
   "metadata": {
    "execution": {
     "iopub.execute_input": "2024-10-31T13:19:51.536714Z",
     "iopub.status.busy": "2024-10-31T13:19:51.536058Z",
     "iopub.status.idle": "2024-10-31T13:19:51.542881Z",
     "shell.execute_reply": "2024-10-31T13:19:51.542016Z"
    },
    "id": "ddGTWW61Lpwp"
   },
   "outputs": [],
   "source": [
    "yaml_content = f\"\"\"\n",
    "    dataset_name: homogeneous_graph_nc_lp\n",
    "    graph:\n",
    "      nodes:\n",
    "        - num: {num_nodes}\n",
    "      edges:\n",
    "        - format: csv\n",
    "          path: {os.path.basename(edges_path)}\n",
    "    feature_data:\n",
    "      - domain: node\n",
    "        name: feat_0\n",
    "        format: numpy\n",
    "        path: {os.path.basename(node_feat_0_path)}\n",
    "      - domain: node\n",
    "        name: feat_1\n",
    "        format: torch\n",
    "        path: {os.path.basename(node_feat_1_path)}\n",
    "      - domain: edge\n",
    "        name: feat_0\n",
    "        format: numpy\n",
    "        path: {os.path.basename(edge_feat_0_path)}\n",
    "      - domain: edge\n",
    "        name: feat_1\n",
    "        format: torch\n",
    "        path: {os.path.basename(edge_feat_1_path)}\n",
    "    tasks:\n",
    "      - name: node_classification\n",
    "        num_classes: 10\n",
    "        train_set:\n",
    "          - data:\n",
    "              - name: seeds\n",
    "                format: numpy\n",
    "                path: {os.path.basename(nc_train_ids_path)}\n",
    "              - name: labels\n",
    "                format: torch\n",
    "                path: {os.path.basename(nc_train_labels_path)}\n",
    "        validation_set:\n",
    "          - data:\n",
    "              - name: seeds\n",
    "                format: numpy\n",
    "                path: {os.path.basename(nc_val_ids_path)}\n",
    "              - name: labels\n",
    "                format: torch\n",
    "                path: {os.path.basename(nc_val_labels_path)}\n",
    "        test_set:\n",
    "          - data:\n",
    "              - name: seeds\n",
    "                format: numpy\n",
    "                path: {os.path.basename(nc_test_ids_path)}\n",
    "              - name: labels\n",
    "                format: torch\n",
    "                path: {os.path.basename(nc_test_labels_path)}\n",
    "      - name: link_prediction\n",
    "        num_classes: 10\n",
    "        train_set:\n",
    "          - data:\n",
    "              - name: seeds\n",
    "                format: numpy\n",
    "                path: {os.path.basename(lp_train_seeds_path)}\n",
    "        validation_set:\n",
    "          - data:\n",
    "              - name: seeds\n",
    "                format: numpy\n",
    "                path: {os.path.basename(lp_val_seeds_path)}\n",
    "              - name: labels\n",
    "                format: numpy\n",
    "                path: {os.path.basename(lp_val_labels_path)}\n",
    "              - name: indexes\n",
    "                format: numpy\n",
    "                path: {os.path.basename(lp_val_indexes_path)}\n",
    "        test_set:\n",
    "          - data:\n",
    "              - name: seeds\n",
    "                format: numpy\n",
    "                path: {os.path.basename(lp_test_seeds_path)}\n",
    "              - name: labels\n",
    "                format: numpy\n",
    "                path: {os.path.basename(lp_test_labels_path)}\n",
    "              - name: indexes\n",
    "                format: numpy\n",
    "                path: {os.path.basename(lp_test_indexes_path)}\n",
    "\"\"\"\n",
    "metadata_path = os.path.join(base_dir, \"metadata.yaml\")\n",
    "with open(metadata_path, \"w\") as f:\n",
    "  f.write(yaml_content)"
   ]
  },
  {
   "cell_type": "markdown",
   "metadata": {
    "id": "kEfybHGhOW7O"
   },
   "source": [
    "## Instantiate `OnDiskDataset`\n",
    "Now we're ready to load dataset via `dgl.graphbolt.OnDiskDataset`. When instantiating, we just pass in the base directory where `metadata.yaml` file lies.\n",
    "\n",
    "During first instantiation, GraphBolt preprocesses the raw data such as constructing `FusedCSCSamplingGraph` from edges. All data including graph, feature data, training/validation/test sets are put into `preprocessed` directory after preprocessing. Any following dataset loading will skip the preprocess stage.\n",
    "\n",
    "After preprocessing, `load()` is required to be called explicitly in order to load graph, feature data and tasks."
   ]
  },
  {
   "cell_type": "code",
   "execution_count": 8,
   "metadata": {
    "execution": {
     "iopub.execute_input": "2024-10-31T13:19:51.545503Z",
     "iopub.status.busy": "2024-10-31T13:19:51.545168Z",
     "iopub.status.idle": "2024-10-31T13:19:51.617039Z",
     "shell.execute_reply": "2024-10-31T13:19:51.616329Z"
    },
    "id": "W58CZoSzOiyo"
   },
   "outputs": [
    {
     "name": "stdout",
     "output_type": "stream",
     "text": [
      "Start to preprocess the on-disk dataset.\n",
      "Finish preprocessing the on-disk dataset.\n",
      "Loaded graph: FusedCSCSamplingGraph(csc_indptr=tensor([    0,     8,    29,  ...,  9981,  9993, 10000], dtype=torch.int32),\n",
      "                      indices=tensor([644, 847, 664,  ..., 578,  10, 294], dtype=torch.int32),\n",
      "                      total_num_nodes=1000, num_edges=10000,)\n",
      "\n",
      "Loaded feature store: TorchBasedFeatureStore(\n",
      "    {(<OnDiskFeatureDataDomain.NODE: 'node'>, None, 'feat_0'): TorchBasedFeature(\n",
      "        feature=tensor([[0.4501, 0.7727, 0.4022, 0.1372, 0.6902],\n",
      "                        [0.5968, 0.6186, 0.8441, 0.2541, 0.5990],\n",
      "                        [0.6266, 0.2811, 0.4501, 0.2289, 0.7488],\n",
      "                        ...,\n",
      "                        [0.2342, 0.3139, 0.6749, 0.2510, 0.4022],\n",
      "                        [0.0592, 0.0924, 0.1702, 0.0278, 0.0727],\n",
      "                        [0.8686, 0.4017, 0.1945, 0.7005, 0.1451]], dtype=torch.float64),\n",
      "        metadata={},\n",
      "    ), (<OnDiskFeatureDataDomain.NODE: 'node'>, None, 'feat_1'): TorchBasedFeature(\n",
      "        feature=tensor([[0.7336, 0.6354, 0.5194, 0.0737, 0.4363],\n",
      "                        [0.3211, 0.5659, 0.3474, 0.6982, 0.0580],\n",
      "                        [0.9050, 0.4349, 0.3693, 0.9045, 0.3167],\n",
      "                        ...,\n",
      "                        [0.0489, 0.7821, 0.1151, 0.3199, 0.3639],\n",
      "                        [0.1871, 0.6254, 0.4856, 0.4926, 0.1288],\n",
      "                        [0.4482, 0.4863, 0.3619, 0.7362, 0.0941]]),\n",
      "        metadata={},\n",
      "    ), (<OnDiskFeatureDataDomain.EDGE: 'edge'>, None, 'feat_0'): TorchBasedFeature(\n",
      "        feature=tensor([[0.5461, 0.6782, 0.1677, 0.4300, 0.6307],\n",
      "                        [0.7757, 0.2555, 0.5755, 0.9249, 0.8697],\n",
      "                        [0.6649, 0.2322, 0.8483, 0.8504, 0.4314],\n",
      "                        ...,\n",
      "                        [0.3369, 0.2878, 0.7475, 0.5209, 0.9139],\n",
      "                        [0.5512, 0.3610, 0.4640, 0.6844, 0.9194],\n",
      "                        [0.7752, 0.4293, 0.2823, 0.0972, 0.5782]], dtype=torch.float64),\n",
      "        metadata={},\n",
      "    ), (<OnDiskFeatureDataDomain.EDGE: 'edge'>, None, 'feat_1'): TorchBasedFeature(\n",
      "        feature=tensor([[0.4409, 0.3423, 0.3865, 0.3127, 0.4812],\n",
      "                        [0.9997, 0.1137, 0.2090, 0.6718, 0.3273],\n",
      "                        [0.8261, 0.7580, 0.5492, 0.8651, 0.7723],\n",
      "                        ...,\n",
      "                        [0.2864, 0.3744, 0.4172, 0.4528, 0.6999],\n",
      "                        [0.9054, 0.8867, 0.2350, 0.4529, 0.2789],\n",
      "                        [0.7562, 0.7948, 0.5176, 0.6941, 0.3594]]),\n",
      "        metadata={},\n",
      "    )}\n",
      ")\n",
      "\n",
      "Loaded node classification task: OnDiskTask(validation_set=ItemSet(\n",
      "               items=(tensor([378,  82, 442, 422, 295, 299, 328,  34, 248, 763, 307,  54, 683, 301,\n",
      "                   187, 813, 932, 191, 717, 672, 459, 363,  76, 242, 793, 169, 185, 585,\n",
      "                     6, 552, 681,  58, 246,  57, 883, 668, 247, 632, 321, 670, 898, 791,\n",
      "                   894, 420,  21, 262, 733, 547, 586, 274, 142, 631, 440, 682, 213, 519,\n",
      "                   766, 743, 227, 971, 449, 358, 879, 434, 939, 240, 936, 660, 595, 388,\n",
      "                   450, 350, 300, 807, 287, 812, 212, 707, 926, 429, 571, 435, 432, 226,\n",
      "                   714, 872,  22, 947, 944, 510, 501, 340, 461, 884, 345, 256, 920, 998,\n",
      "                   115, 861, 476, 516, 663,  32, 523, 618, 333, 573, 790, 655, 158, 150,\n",
      "                   468, 342, 538, 555, 138, 751, 616, 867, 629, 181, 846, 748, 362, 235,\n",
      "                    17, 878, 145, 537, 109, 139, 851, 374, 408, 477, 208, 556, 734, 715,\n",
      "                   583, 977,   3, 160, 567,  11, 168, 600,  44, 836, 282, 399, 225,   7,\n",
      "                    66,  74, 925, 723, 621, 967, 623, 430, 903, 979,  60, 933, 356, 588,\n",
      "                   499, 826, 130, 557, 283, 400, 692, 778, 309, 694, 141, 830, 436, 659,\n",
      "                   902, 661, 664, 782, 463, 953, 483, 940, 716, 529, 233, 795, 293, 728,\n",
      "                   918, 900, 354, 317], dtype=torch.int32), tensor([8, 9, 6, 8, 5, 5, 3, 9, 5, 4, 6, 8, 5, 7, 2, 1, 0, 1, 5, 3, 1, 2, 6, 1,\n",
      "                   8, 2, 8, 6, 3, 7, 1, 3, 5, 0, 1, 6, 7, 7, 2, 2, 8, 3, 6, 2, 4, 8, 6, 2,\n",
      "                   1, 0, 6, 8, 7, 2, 8, 2, 4, 6, 8, 5, 1, 8, 6, 8, 1, 7, 5, 6, 1, 7, 6, 9,\n",
      "                   6, 4, 3, 9, 1, 4, 1, 3, 9, 0, 1, 8, 8, 8, 9, 1, 0, 8, 6, 8, 4, 8, 9, 5,\n",
      "                   2, 9, 8, 0, 1, 6, 6, 2, 0, 3, 1, 3, 6, 7, 7, 9, 6, 3, 3, 0, 4, 6, 8, 2,\n",
      "                   1, 7, 9, 5, 3, 9, 6, 2, 4, 4, 2, 3, 0, 7, 8, 3, 9, 2, 1, 7, 8, 7, 9, 6,\n",
      "                   9, 5, 4, 4, 8, 3, 9, 4, 5, 6, 2, 8, 5, 0, 4, 2, 0, 6, 4, 3, 8, 1, 2, 3,\n",
      "                   8, 1, 5, 3, 3, 7, 9, 2, 5, 6, 8, 8, 7, 5, 4, 4, 1, 0, 5, 0, 5, 5, 8, 4,\n",
      "                   2, 5, 5, 0, 4, 5, 8, 9])),\n",
      "               names=('seeds', 'labels'),\n",
      "           ),\n",
      "           train_set=ItemSet(\n",
      "               items=(tensor([438, 271, 710, 257, 776, 106, 831, 205, 892, 455, 439,  23, 497, 760,\n",
      "                   312, 724, 889, 885, 695, 738, 991, 404, 656, 853, 214, 611, 705, 924,\n",
      "                   178, 976, 607, 854, 848,  29, 785,   1, 955, 276, 769, 382, 794, 732,\n",
      "                   146, 503, 965, 540, 258, 111, 231, 764, 928, 546, 816, 866, 465, 484,\n",
      "                   797, 304, 698, 722, 815, 921, 539, 238,  13, 164, 952, 832, 395, 775,\n",
      "                    89, 210,  98, 427, 192, 368, 136, 117, 533, 869, 366, 320, 845, 534,\n",
      "                   566, 479, 578, 403, 637, 622, 302, 893, 486, 679, 777, 919, 910,  87,\n",
      "                   809, 865, 983, 627, 646, 755, 834, 973, 587,  85, 725,   2, 536, 841,\n",
      "                   639,  61, 913, 124, 877, 107, 241, 648, 652, 396, 604, 466, 409, 204,\n",
      "                   948, 341, 718, 504, 720,  53, 591,  81,  62,  52, 452, 706, 768, 383,\n",
      "                   337, 105, 961, 917, 937, 527, 750, 873, 862, 757, 201, 151, 899, 620,\n",
      "                   912, 804, 875, 113, 551, 784,  40, 667,  63, 871, 222, 402, 677, 978,\n",
      "                   553,  64, 509, 217, 649, 624,   5, 286, 496, 451, 653, 609, 405, 347,\n",
      "                   202, 369, 949, 316, 425, 590, 296,  75, 986, 487, 195,  31, 294, 251,\n",
      "                   218, 731,  71, 693, 943,  39, 203, 156, 625, 635,  20, 709, 386, 980,\n",
      "                    96, 676, 606, 324, 739, 686, 805, 297, 584, 173, 390, 897, 220, 277,\n",
      "                   269, 120, 305, 820,  70, 957, 221, 972, 416, 419, 617, 997, 736, 761,\n",
      "                   292, 507, 916, 431, 279, 829, 592, 260,  15, 959, 987, 964, 331, 116,\n",
      "                   228, 789, 993, 690, 372, 806, 531, 563, 839, 348,  18, 880, 542, 589,\n",
      "                   275, 288, 253, 975, 485, 289,  51, 558, 859, 801, 474,  65, 847, 858,\n",
      "                   860,  73, 167, 458, 792, 453, 960, 753, 415, 349, 779,  67, 163, 135,\n",
      "                   311,  79,  41, 490, 385, 945, 888, 561, 315, 254, 827, 473, 647, 870,\n",
      "                   598, 852, 375, 401, 995, 259, 284, 364, 817, 708, 835, 577, 669, 619,\n",
      "                   100, 351,  16, 122, 183, 272, 950, 308, 711, 990,  14, 359, 887, 594,\n",
      "                   650, 684, 170, 433, 373, 704, 822, 290, 114, 493, 323, 126, 886, 602,\n",
      "                   543, 245, 643,  95, 864, 645, 689, 157, 361,  99, 922, 198, 194, 285,\n",
      "                   554, 174, 172, 339, 171, 460, 176, 528, 654, 153, 596, 332, 207, 914,\n",
      "                    80, 564, 488,  68, 239, 610, 104,  69, 680, 252, 762, 313, 268, 371,\n",
      "                   673, 735, 640, 833, 189, 942, 446, 741, 489, 904, 754, 970, 781, 475,\n",
      "                   810, 355, 357,  77, 713, 511, 102, 765, 381, 467, 559, 628, 162, 411,\n",
      "                   384, 184, 702,  72, 232, 165, 166,  30, 575, 209, 570, 599, 243, 197,\n",
      "                   502,  88, 749, 981, 612, 147, 154, 196, 219, 186, 522, 742,  24, 335,\n",
      "                    37, 630, 379, 182, 901, 954, 264, 224, 134, 393, 691,  26, 344, 603,\n",
      "                   414,  91, 674, 985, 787, 605,  84, 641, 532, 881, 783,  28, 512, 666,\n",
      "                   799, 437, 989, 996, 314, 633, 958, 727, 882, 190, 671, 626, 818, 515,\n",
      "                   394, 445, 498, 842, 149, 211, 223, 206, 370, 291, 911, 237, 758, 966,\n",
      "                    90, 699, 278, 560, 838, 520, 582, 770,  35, 457, 701, 849, 448, 915,\n",
      "                   352, 935, 788,  83, 863, 273, 651, 121, 541, 549,  42, 360, 159, 608,\n",
      "                   946, 410, 597, 696, 244, 974, 963, 685, 737, 175, 421, 572, 593, 234,\n",
      "                   687, 413, 581, 155, 908, 969, 193, 508, 133, 103, 265, 740, 999, 123,\n",
      "                   387,  86, 814, 802, 580, 601, 230, 636, 330, 443, 229, 216, 129, 125,\n",
      "                   327, 856, 703, 721, 923, 876, 780, 890, 825, 744, 891, 398, 700, 152,\n",
      "                   688, 569, 424,  48, 855, 177, 336, 773, 392, 796, 729, 353],\n",
      "                  dtype=torch.int32), tensor([3, 5, 5, 4, 2, 7, 1, 8, 8, 0, 3, 7, 2, 4, 2, 1, 2, 3, 5, 4, 5, 6, 6, 8,\n",
      "                   5, 7, 1, 5, 2, 3, 2, 5, 2, 5, 3, 0, 8, 7, 5, 5, 3, 1, 4, 1, 6, 3, 7, 3,\n",
      "                   7, 2, 5, 2, 8, 7, 2, 6, 2, 3, 9, 2, 2, 3, 4, 2, 1, 6, 6, 6, 2, 9, 4, 0,\n",
      "                   1, 5, 2, 4, 9, 8, 1, 9, 2, 6, 6, 5, 1, 7, 1, 5, 9, 7, 1, 8, 4, 7, 9, 0,\n",
      "                   1, 1, 3, 1, 2, 3, 7, 1, 6, 4, 2, 3, 6, 7, 2, 5, 4, 8, 4, 7, 6, 0, 3, 4,\n",
      "                   3, 4, 8, 0, 6, 5, 0, 6, 1, 7, 4, 5, 0, 2, 5, 6, 9, 0, 9, 6, 6, 1, 9, 3,\n",
      "                   4, 7, 2, 1, 1, 2, 7, 0, 6, 7, 8, 2, 0, 7, 0, 7, 4, 5, 3, 9, 5, 9, 1, 6,\n",
      "                   7, 2, 6, 2, 5, 2, 1, 7, 0, 2, 7, 9, 3, 3, 0, 8, 3, 3, 3, 0, 5, 6, 4, 0,\n",
      "                   5, 1, 4, 4, 4, 8, 9, 3, 9, 3, 7, 1, 1, 0, 7, 6, 9, 3, 1, 5, 7, 4, 0, 2,\n",
      "                   8, 1, 0, 3, 5, 9, 6, 1, 4, 6, 6, 5, 2, 7, 1, 8, 5, 5, 7, 5, 9, 3, 6, 1,\n",
      "                   2, 2, 2, 7, 0, 8, 8, 4, 2, 4, 7, 2, 7, 2, 3, 7, 8, 6, 2, 2, 9, 6, 2, 2,\n",
      "                   5, 2, 8, 2, 7, 9, 6, 5, 6, 2, 6, 8, 8, 9, 1, 4, 5, 9, 9, 8, 1, 2, 3, 6,\n",
      "                   9, 9, 1, 4, 7, 0, 0, 1, 9, 2, 3, 6, 5, 5, 2, 8, 1, 0, 4, 5, 8, 3, 9, 2,\n",
      "                   0, 3, 5, 6, 3, 6, 2, 1, 3, 2, 1, 4, 1, 4, 8, 2, 0, 7, 6, 8, 9, 7, 9, 6,\n",
      "                   4, 8, 1, 5, 4, 4, 9, 1, 1, 2, 2, 1, 7, 4, 4, 4, 4, 9, 9, 7, 0, 0, 8, 6,\n",
      "                   8, 9, 2, 7, 9, 7, 0, 7, 1, 4, 3, 8, 5, 6, 3, 8, 0, 5, 1, 8, 1, 5, 4, 1,\n",
      "                   8, 2, 6, 4, 3, 8, 2, 8, 1, 3, 1, 0, 6, 2, 8, 0, 2, 9, 5, 4, 0, 2, 6, 7,\n",
      "                   0, 2, 6, 8, 4, 9, 8, 5, 6, 4, 6, 7, 7, 6, 8, 8, 0, 1, 6, 3, 6, 7, 6, 3,\n",
      "                   1, 7, 2, 5, 5, 1, 4, 9, 0, 3, 0, 5, 0, 8, 9, 1, 5, 1, 7, 9, 1, 5, 9, 1,\n",
      "                   2, 0, 9, 1, 3, 2, 5, 5, 4, 3, 6, 0, 2, 4, 2, 4, 9, 7, 8, 8, 9, 9, 7, 3,\n",
      "                   0, 5, 6, 4, 0, 8, 2, 8, 7, 4, 6, 9, 8, 3, 7, 6, 0, 2, 8, 1, 3, 2, 9, 5,\n",
      "                   1, 0, 2, 0, 7, 3, 3, 7, 7, 0, 7, 9, 1, 0, 8, 8, 7, 7, 4, 5, 5, 1, 4, 4,\n",
      "                   9, 4, 7, 7, 6, 2, 3, 0, 2, 7, 9, 4, 4, 7, 2, 2, 6, 4, 2, 6, 3, 6, 1, 6,\n",
      "                   0, 1, 8, 2, 9, 8, 6, 7, 0, 9, 0, 4, 3, 1, 1, 2, 7, 9, 2, 8, 4, 5, 0, 1,\n",
      "                   2, 2, 7, 9, 2, 9, 3, 2, 4, 4, 0, 2, 6, 3, 1, 5, 8, 2, 2, 5, 2, 2, 1, 8])),\n",
      "               names=('seeds', 'labels'),\n",
      "           ),\n",
      "           test_set=ItemSet(\n",
      "               items=(tensor([ 33, 423, 930, 828, 752, 895, 907,  38, 270, 367, 495, 956, 119, 492,\n",
      "                   518, 412, 140, 550, 110, 614, 756, 428, 303, 250,  43, 281, 726, 179,\n",
      "                   798, 697, 148, 255,  55, 325, 322, 811, 927, 767,  59, 365, 642, 417,\n",
      "                    45, 800, 678, 988, 319, 984, 200, 548,  27, 143, 823, 462, 819, 896,\n",
      "                   934, 266, 909, 267, 426, 719, 565, 745, 526, 962, 968, 786, 188,  56,\n",
      "                   521, 774,  25, 380, 951, 982, 857, 634,  47, 470,  10, 447, 471,  97,\n",
      "                   505, 544, 545, 759,   8, 644, 137, 615, 513, 525, 180, 675, 144, 772,\n",
      "                   306, 712, 310, 127, 318, 929, 657, 482, 444, 821, 132, 128, 391,  19,\n",
      "                   824, 480, 638, 843, 514, 840,  12, 562, 517,   9, 850, 506, 803, 101,\n",
      "                   454, 464, 938, 568, 905, 346, 456, 576, 112, 992, 469, 500, 131, 530,\n",
      "                     0, 491, 376, 524, 994, 397, 389, 941, 771, 441, 478, 658, 931, 418,\n",
      "                   118, 574, 535,  92, 874, 406, 613, 263, 481, 579, 338,  49, 108, 747,\n",
      "                   280,  46, 730, 868, 494, 377, 215, 298,  94, 161,  93, 808,  36, 662,\n",
      "                   326,  78,   4, 837, 236, 906, 329, 472, 407, 334, 844, 343, 199, 746,\n",
      "                   261,  50, 249, 665], dtype=torch.int32), tensor([2, 3, 4, 0, 9, 8, 9, 8, 4, 6, 0, 1, 2, 1, 2, 6, 0, 4, 6, 7, 4, 5, 3, 8,\n",
      "                   0, 0, 1, 8, 4, 1, 6, 4, 5, 1, 6, 8, 3, 8, 0, 6, 1, 5, 3, 8, 7, 3, 8, 0,\n",
      "                   8, 5, 3, 4, 9, 4, 8, 6, 7, 1, 6, 8, 2, 8, 9, 3, 6, 7, 4, 8, 0, 1, 6, 2,\n",
      "                   8, 6, 8, 6, 5, 6, 9, 8, 3, 5, 2, 8, 9, 7, 3, 6, 6, 5, 0, 7, 3, 4, 0, 0,\n",
      "                   7, 0, 1, 0, 8, 1, 8, 9, 3, 2, 5, 3, 9, 6, 0, 0, 9, 2, 8, 4, 2, 7, 6, 4,\n",
      "                   1, 7, 6, 8, 1, 3, 9, 5, 6, 9, 6, 4, 9, 9, 5, 0, 9, 8, 2, 8, 7, 8, 2, 7,\n",
      "                   1, 9, 0, 5, 9, 3, 1, 4, 4, 8, 5, 7, 9, 4, 6, 4, 0, 2, 9, 2, 6, 9, 3, 2,\n",
      "                   6, 2, 6, 8, 8, 9, 4, 8, 1, 8, 7, 8, 6, 0, 1, 4, 5, 8, 2, 2, 3, 9, 4, 7,\n",
      "                   1, 7, 0, 9, 8, 5, 6, 8])),\n",
      "               names=('seeds', 'labels'),\n",
      "           ),\n",
      "           metadata={'name': 'node_classification', 'num_classes': 10},)\n",
      "\n",
      "Loaded link prediction task: OnDiskTask(validation_set=ItemSet(\n",
      "               items=(tensor([[ 87, 154],\n",
      "                   [170, 543],\n",
      "                   [294, 169],\n",
      "                   ...,\n",
      "                   [277, 379],\n",
      "                   [277, 682],\n",
      "                   [277, 771]], dtype=torch.int32), tensor([1., 1., 1.,  ..., 0., 0., 0.], dtype=torch.float64), tensor([   0,    1,    2,  ..., 1999, 1999, 1999])),\n",
      "               names=('seeds', 'labels', 'indexes'),\n",
      "           ),\n",
      "           train_set=ItemSet(\n",
      "               items=(tensor([[933, 472],\n",
      "                   [911, 651],\n",
      "                   [858, 754],\n",
      "                   ...,\n",
      "                   [629, 529],\n",
      "                   [702, 537],\n",
      "                   [802, 326]], dtype=torch.int32),),\n",
      "               names=('seeds',),\n",
      "           ),\n",
      "           test_set=ItemSet(\n",
      "               items=(tensor([[851, 291],\n",
      "                   [ 32, 713],\n",
      "                   [573, 832],\n",
      "                   ...,\n",
      "                   [483, 539],\n",
      "                   [483, 733],\n",
      "                   [483,  79]], dtype=torch.int32), tensor([1., 1., 1.,  ..., 0., 0., 0.], dtype=torch.float64), tensor([   0,    1,    2,  ..., 1999, 1999, 1999])),\n",
      "               names=('seeds', 'labels', 'indexes'),\n",
      "           ),\n",
      "           metadata={'name': 'link_prediction', 'num_classes': 10},)\n",
      "\n"
     ]
    },
    {
     "name": "stderr",
     "output_type": "stream",
     "text": [
      "/dgl/python/dgl/graphbolt/impl/ondisk_dataset.py:463: GBWarning: Edge feature is stored, but edge IDs are not saved.\n",
      "  gb_warning(\"Edge feature is stored, but edge IDs are not saved.\")\n"
     ]
    }
   ],
   "source": [
    "dataset = gb.OnDiskDataset(base_dir).load()\n",
    "graph = dataset.graph\n",
    "print(f\"Loaded graph: {graph}\\n\")\n",
    "\n",
    "feature = dataset.feature\n",
    "print(f\"Loaded feature store: {feature}\\n\")\n",
    "\n",
    "tasks = dataset.tasks\n",
    "nc_task = tasks[0]\n",
    "print(f\"Loaded node classification task: {nc_task}\\n\")\n",
    "lp_task = tasks[1]\n",
    "print(f\"Loaded link prediction task: {lp_task}\\n\")"
   ]
  }
 ],
 "metadata": {
  "colab": {
   "private_outputs": true,
   "provenance": []
  },
  "kernelspec": {
   "display_name": "Python 3",
   "name": "python3"
  },
  "language_info": {
   "codemirror_mode": {
    "name": "ipython",
    "version": 3
   },
   "file_extension": ".py",
   "mimetype": "text/x-python",
   "name": "python",
   "nbconvert_exporter": "python",
   "pygments_lexer": "ipython3",
   "version": "3.10.15"
  }
 },
 "nbformat": 4,
 "nbformat_minor": 0
}

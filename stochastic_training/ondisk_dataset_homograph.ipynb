{
 "cells": [
  {
   "cell_type": "markdown",
   "metadata": {
    "id": "FnFhPMaAfLtJ"
   },
   "source": [
    "# OnDiskDataset for Homogeneous Graph\n",
    "\n",
    "[![Open In Colab](https://colab.research.google.com/assets/colab-badge.svg)](https://colab.research.google.com/github/dmlc/dgl/blob/master/notebooks/stochastic_training/ondisk_dataset_homograph.ipynb) [![GitHub](https://img.shields.io/badge/-View%20on%20GitHub-181717?logo=github&logoColor=ffffff)](https://github.com/dmlc/dgl/blob/master/notebooks/stochastic_training/ondisk_dataset_homograph.ipynb)\n",
    "\n",
    "This tutorial shows how to create `OnDiskDataset` for homogeneous graph that could be used in **GraphBolt** framework.\n",
    "\n",
    "By the end of this tutorial, you will be able to\n",
    "\n",
    "- organize graph structure data.\n",
    "- organize feature data.\n",
    "- organize training/validation/test set for specific tasks.\n",
    "\n",
    "To create an ``OnDiskDataset`` object, you need to organize all the data including graph structure, feature data and tasks into a directory. The directory should contain a ``metadata.yaml`` file that describes the metadata of the dataset.\n",
    "\n",
    "Now let's generate various data step by step and organize them together to instantiate `OnDiskDataset` finally."
   ]
  },
  {
   "cell_type": "markdown",
   "metadata": {
    "id": "Wlb19DtWgtzq"
   },
   "source": [
    "## Install DGL package"
   ]
  },
  {
   "cell_type": "code",
   "execution_count": 1,
   "metadata": {
    "execution": {
     "iopub.execute_input": "2024-10-30T13:17:56.801762Z",
     "iopub.status.busy": "2024-10-30T13:17:56.801465Z",
     "iopub.status.idle": "2024-10-30T13:17:59.844782Z",
     "shell.execute_reply": "2024-10-30T13:17:59.843333Z"
    },
    "id": "UojlT9ZGgyr9"
   },
   "outputs": [
    {
     "name": "stdout",
     "output_type": "stream",
     "text": [
      "Looking in links: https://data.dgl.ai/wheels-test/repo.html\r\n",
      "Requirement already satisfied: dgl in /opt/conda/envs/dgl-dev-cpu/lib/python3.10/site-packages (2.2a240410)\r\n",
      "Requirement already satisfied: numpy>=1.14.0 in /opt/conda/envs/dgl-dev-cpu/lib/python3.10/site-packages (from dgl) (1.26.4)\r\n",
      "Requirement already satisfied: scipy>=1.1.0 in /opt/conda/envs/dgl-dev-cpu/lib/python3.10/site-packages (from dgl) (1.14.1)\r\n",
      "Requirement already satisfied: networkx>=2.1 in /opt/conda/envs/dgl-dev-cpu/lib/python3.10/site-packages (from dgl) (3.4.2)\r\n",
      "Requirement already satisfied: requests>=2.19.0 in /opt/conda/envs/dgl-dev-cpu/lib/python3.10/site-packages (from dgl) (2.32.3)\r\n",
      "Requirement already satisfied: tqdm in /opt/conda/envs/dgl-dev-cpu/lib/python3.10/site-packages (from dgl) (4.66.6)\r\n",
      "Requirement already satisfied: psutil>=5.8.0 in /opt/conda/envs/dgl-dev-cpu/lib/python3.10/site-packages (from dgl) (6.1.0)\r\n",
      "Requirement already satisfied: torchdata>=0.5.0 in /opt/conda/envs/dgl-dev-cpu/lib/python3.10/site-packages (from dgl) (0.9.0)\r\n",
      "Requirement already satisfied: pandas in /opt/conda/envs/dgl-dev-cpu/lib/python3.10/site-packages (from dgl) (2.2.3)\r\n"
     ]
    },
    {
     "name": "stdout",
     "output_type": "stream",
     "text": [
      "Requirement already satisfied: charset-normalizer<4,>=2 in /opt/conda/envs/dgl-dev-cpu/lib/python3.10/site-packages (from requests>=2.19.0->dgl) (3.4.0)\r\n",
      "Requirement already satisfied: idna<4,>=2.5 in /opt/conda/envs/dgl-dev-cpu/lib/python3.10/site-packages (from requests>=2.19.0->dgl) (3.10)\r\n",
      "Requirement already satisfied: urllib3<3,>=1.21.1 in /opt/conda/envs/dgl-dev-cpu/lib/python3.10/site-packages (from requests>=2.19.0->dgl) (2.2.3)\r\n",
      "Requirement already satisfied: certifi>=2017.4.17 in /opt/conda/envs/dgl-dev-cpu/lib/python3.10/site-packages (from requests>=2.19.0->dgl) (2024.8.30)\r\n",
      "Requirement already satisfied: torch>=2 in /opt/conda/envs/dgl-dev-cpu/lib/python3.10/site-packages (from torchdata>=0.5.0->dgl) (2.1.0+cpu)\r\n"
     ]
    },
    {
     "name": "stdout",
     "output_type": "stream",
     "text": [
      "Requirement already satisfied: python-dateutil>=2.8.2 in /opt/conda/envs/dgl-dev-cpu/lib/python3.10/site-packages (from pandas->dgl) (2.9.0.post0)\r\n",
      "Requirement already satisfied: pytz>=2020.1 in /opt/conda/envs/dgl-dev-cpu/lib/python3.10/site-packages (from pandas->dgl) (2024.2)\r\n",
      "Requirement already satisfied: tzdata>=2022.7 in /opt/conda/envs/dgl-dev-cpu/lib/python3.10/site-packages (from pandas->dgl) (2024.2)\r\n",
      "Requirement already satisfied: six>=1.5 in /opt/conda/envs/dgl-dev-cpu/lib/python3.10/site-packages (from python-dateutil>=2.8.2->pandas->dgl) (1.16.0)\r\n",
      "Requirement already satisfied: filelock in /opt/conda/envs/dgl-dev-cpu/lib/python3.10/site-packages (from torch>=2->torchdata>=0.5.0->dgl) (3.16.1)\r\n",
      "Requirement already satisfied: typing-extensions in /opt/conda/envs/dgl-dev-cpu/lib/python3.10/site-packages (from torch>=2->torchdata>=0.5.0->dgl) (4.12.2)\r\n",
      "Requirement already satisfied: sympy in /opt/conda/envs/dgl-dev-cpu/lib/python3.10/site-packages (from torch>=2->torchdata>=0.5.0->dgl) (1.13.3)\r\n",
      "Requirement already satisfied: jinja2 in /opt/conda/envs/dgl-dev-cpu/lib/python3.10/site-packages (from torch>=2->torchdata>=0.5.0->dgl) (3.1.4)\r\n",
      "Requirement already satisfied: fsspec in /opt/conda/envs/dgl-dev-cpu/lib/python3.10/site-packages (from torch>=2->torchdata>=0.5.0->dgl) (2024.10.0)\r\n"
     ]
    },
    {
     "name": "stdout",
     "output_type": "stream",
     "text": [
      "Requirement already satisfied: MarkupSafe>=2.0 in /opt/conda/envs/dgl-dev-cpu/lib/python3.10/site-packages (from jinja2->torch>=2->torchdata>=0.5.0->dgl) (3.0.2)\r\n",
      "Requirement already satisfied: mpmath<1.4,>=1.1.0 in /opt/conda/envs/dgl-dev-cpu/lib/python3.10/site-packages (from sympy->torch>=2->torchdata>=0.5.0->dgl) (1.3.0)\r\n"
     ]
    },
    {
     "name": "stdout",
     "output_type": "stream",
     "text": [
      "\u001b[33mWARNING: Running pip as the 'root' user can result in broken permissions and conflicting behaviour with the system package manager, possibly rendering your system unusable.It is recommended to use a virtual environment instead: https://pip.pypa.io/warnings/venv. Use the --root-user-action option if you know what you are doing and want to suppress this warning.\u001b[0m\u001b[33m\r\n",
      "\u001b[0m"
     ]
    },
    {
     "name": "stdout",
     "output_type": "stream",
     "text": [
      "DGL installed!\n"
     ]
    }
   ],
   "source": [
    "# Install required packages.\n",
    "import os\n",
    "import torch\n",
    "import numpy as np\n",
    "os.environ['TORCH'] = torch.__version__\n",
    "os.environ['DGLBACKEND'] = \"pytorch\"\n",
    "\n",
    "# Install the CPU version.\n",
    "device = torch.device(\"cpu\")\n",
    "!pip install --pre dgl -f https://data.dgl.ai/wheels-test/repo.html\n",
    "\n",
    "try:\n",
    "    import dgl\n",
    "    import dgl.graphbolt as gb\n",
    "    installed = True\n",
    "except ImportError as error:\n",
    "    installed = False\n",
    "    print(error)\n",
    "print(\"DGL installed!\" if installed else \"DGL not found!\")"
   ]
  },
  {
   "cell_type": "markdown",
   "metadata": {
    "id": "2R7WnSbjsfbr"
   },
   "source": [
    "## Data preparation\n",
    "In order to demonstrate how to organize various data, let's create a base directory first."
   ]
  },
  {
   "cell_type": "code",
   "execution_count": 2,
   "metadata": {
    "execution": {
     "iopub.execute_input": "2024-10-30T13:17:59.848280Z",
     "iopub.status.busy": "2024-10-30T13:17:59.847149Z",
     "iopub.status.idle": "2024-10-30T13:17:59.852715Z",
     "shell.execute_reply": "2024-10-30T13:17:59.851765Z"
    },
    "id": "SZipbzyltLfO"
   },
   "outputs": [
    {
     "name": "stdout",
     "output_type": "stream",
     "text": [
      "Created base directory: ./ondisk_dataset_homograph\n"
     ]
    }
   ],
   "source": [
    "base_dir = './ondisk_dataset_homograph'\n",
    "os.makedirs(base_dir, exist_ok=True)\n",
    "print(f\"Created base directory: {base_dir}\")"
   ]
  },
  {
   "cell_type": "markdown",
   "metadata": {
    "id": "qhNtIn_xhlnl"
   },
   "source": [
    "### Generate graph structure data\n",
    "For homogeneous graph, we just need to save edges(namely seeds) into  **Numpy** or **CSV** file.\n",
    "\n",
    "Note:\n",
    "- when saving to **Numpy**, the array requires to be in shape of `(2, N)`. This format is recommended as constructing graph from it is much faster than **CSV** file.\n",
    "- when saving to **CSV** file, do not save index and header.\n"
   ]
  },
  {
   "cell_type": "code",
   "execution_count": 3,
   "metadata": {
    "execution": {
     "iopub.execute_input": "2024-10-30T13:17:59.855155Z",
     "iopub.status.busy": "2024-10-30T13:17:59.854616Z",
     "iopub.status.idle": "2024-10-30T13:17:59.869217Z",
     "shell.execute_reply": "2024-10-30T13:17:59.868228Z"
    },
    "id": "HcBt4G5BmSjr"
   },
   "outputs": [
    {
     "name": "stdout",
     "output_type": "stream",
     "text": [
      "Part of edges: [[908 394]\n",
      " [ 23   0]\n",
      " [ 99 970]\n",
      " [875 880]\n",
      " [582 694]]\n",
      "Edges are saved into ./ondisk_dataset_homograph/edges.csv\n"
     ]
    }
   ],
   "source": [
    "import numpy as np\n",
    "import pandas as pd\n",
    "num_nodes = 1000\n",
    "num_edges = 10 * num_nodes\n",
    "edges_path = os.path.join(base_dir, \"edges.csv\")\n",
    "edges = np.random.randint(0, num_nodes, size=(num_edges, 2))\n",
    "\n",
    "print(f\"Part of edges: {edges[:5, :]}\")\n",
    "\n",
    "df = pd.DataFrame(edges)\n",
    "df.to_csv(edges_path, index=False, header=False)\n",
    "\n",
    "print(f\"Edges are saved into {edges_path}\")"
   ]
  },
  {
   "cell_type": "markdown",
   "metadata": {
    "id": "kh-4cPtzpcaH"
   },
   "source": [
    "### Generate feature data for graph\n",
    "For feature data, numpy arrays and torch tensors are supported for now."
   ]
  },
  {
   "cell_type": "code",
   "execution_count": 4,
   "metadata": {
    "execution": {
     "iopub.execute_input": "2024-10-30T13:17:59.871496Z",
     "iopub.status.busy": "2024-10-30T13:17:59.871166Z",
     "iopub.status.idle": "2024-10-30T13:17:59.890694Z",
     "shell.execute_reply": "2024-10-30T13:17:59.889836Z"
    },
    "id": "_PVu1u5brBhF"
   },
   "outputs": [
    {
     "name": "stdout",
     "output_type": "stream",
     "text": [
      "Part of node feature [feat_0]: [[0.59632625 0.63623807 0.45244617 0.37910999 0.82139809]\n",
      " [0.17470667 0.97849941 0.81817572 0.49366772 0.83669797]\n",
      " [0.82709019 0.69361349 0.70294556 0.40375639 0.47651669]]\n",
      "Node feature [feat_0] is saved to ./ondisk_dataset_homograph/node-feat-0.npy\n",
      "\n",
      "Part of node feature [feat_1]: tensor([[0.7621, 0.2873, 0.9807, 0.2681, 0.9185],\n",
      "        [0.5151, 0.6221, 0.7527, 0.6253, 0.0824],\n",
      "        [0.4472, 0.6891, 0.3778, 0.9936, 0.4496]])\n",
      "Node feature [feat_1] is saved to ./ondisk_dataset_homograph/node-feat-1.pt\n",
      "\n",
      "Part of edge feature [feat_0]: [[0.2185896  0.95379886 0.21597481 0.30078722 0.07054367]\n",
      " [0.33801012 0.33625987 0.88301379 0.81337289 0.4001719 ]\n",
      " [0.7685253  0.68585832 0.15917706 0.02707131 0.55747281]]\n",
      "Edge feature [feat_0] is saved to ./ondisk_dataset_homograph/edge-feat-0.npy\n",
      "\n",
      "Part of edge feature [feat_1]: tensor([[0.1327, 0.9627, 0.9564, 0.1613, 0.8137],\n",
      "        [0.3497, 0.6314, 0.7868, 0.1143, 0.9932],\n",
      "        [0.0614, 0.0894, 0.3316, 0.8589, 0.7908]])\n",
      "Edge feature [feat_1] is saved to ./ondisk_dataset_homograph/edge-feat-1.pt\n",
      "\n"
     ]
    }
   ],
   "source": [
    "# Generate node feature in numpy array.\n",
    "node_feat_0_path = os.path.join(base_dir, \"node-feat-0.npy\")\n",
    "node_feat_0 = np.random.rand(num_nodes, 5)\n",
    "print(f\"Part of node feature [feat_0]: {node_feat_0[:3, :]}\")\n",
    "np.save(node_feat_0_path, node_feat_0)\n",
    "print(f\"Node feature [feat_0] is saved to {node_feat_0_path}\\n\")\n",
    "\n",
    "# Generate another node feature in torch tensor\n",
    "node_feat_1_path = os.path.join(base_dir, \"node-feat-1.pt\")\n",
    "node_feat_1 = torch.rand(num_nodes, 5)\n",
    "print(f\"Part of node feature [feat_1]: {node_feat_1[:3, :]}\")\n",
    "torch.save(node_feat_1, node_feat_1_path)\n",
    "print(f\"Node feature [feat_1] is saved to {node_feat_1_path}\\n\")\n",
    "\n",
    "# Generate edge feature in numpy array.\n",
    "edge_feat_0_path = os.path.join(base_dir, \"edge-feat-0.npy\")\n",
    "edge_feat_0 = np.random.rand(num_edges, 5)\n",
    "print(f\"Part of edge feature [feat_0]: {edge_feat_0[:3, :]}\")\n",
    "np.save(edge_feat_0_path, edge_feat_0)\n",
    "print(f\"Edge feature [feat_0] is saved to {edge_feat_0_path}\\n\")\n",
    "\n",
    "# Generate another edge feature in torch tensor\n",
    "edge_feat_1_path = os.path.join(base_dir, \"edge-feat-1.pt\")\n",
    "edge_feat_1 = torch.rand(num_edges, 5)\n",
    "print(f\"Part of edge feature [feat_1]: {edge_feat_1[:3, :]}\")\n",
    "torch.save(edge_feat_1, edge_feat_1_path)\n",
    "print(f\"Edge feature [feat_1] is saved to {edge_feat_1_path}\\n\")\n"
   ]
  },
  {
   "cell_type": "markdown",
   "metadata": {
    "id": "ZyqgOtsIwzh_"
   },
   "source": [
    "### Generate tasks\n",
    "`OnDiskDataset` supports multiple tasks. For each task, we need to prepare training/validation/test sets respectively. Such sets usually vary among different tasks. In this tutorial, let's create a **Node Classification** task and **Link Prediction** task."
   ]
  },
  {
   "cell_type": "markdown",
   "metadata": {
    "id": "hVxHaDIfzCkr"
   },
   "source": [
    "#### Node Classification Task\n",
    "For node classification task, we need **node IDs** and corresponding **labels** for each training/validation/test set. Like feature data, numpy arrays and torch tensors are supported for these sets."
   ]
  },
  {
   "cell_type": "code",
   "execution_count": 5,
   "metadata": {
    "execution": {
     "iopub.execute_input": "2024-10-30T13:17:59.893390Z",
     "iopub.status.busy": "2024-10-30T13:17:59.892623Z",
     "iopub.status.idle": "2024-10-30T13:17:59.904582Z",
     "shell.execute_reply": "2024-10-30T13:17:59.903758Z"
    },
    "id": "S5-fyBbHzTCO"
   },
   "outputs": [
    {
     "name": "stdout",
     "output_type": "stream",
     "text": [
      "Part of train ids for node classification: [192 405 986]\n",
      "NC train ids are saved to ./ondisk_dataset_homograph/nc-train-ids.npy\n",
      "\n",
      "Part of train labels for node classification: tensor([9, 0, 3])\n",
      "NC train labels are saved to ./ondisk_dataset_homograph/nc-train-labels.pt\n",
      "\n",
      "Part of val ids for node classification: [516 383 312]\n",
      "NC val ids are saved to ./ondisk_dataset_homograph/nc-val-ids.npy\n",
      "\n",
      "Part of val labels for node classification: tensor([4, 6, 9])\n",
      "NC val labels are saved to ./ondisk_dataset_homograph/nc-val-labels.pt\n",
      "\n",
      "Part of test ids for node classification: [ 30 763 811]\n",
      "NC test ids are saved to ./ondisk_dataset_homograph/nc-test-ids.npy\n",
      "\n",
      "Part of test labels for node classification: tensor([2, 2, 4])\n",
      "NC test labels are saved to ./ondisk_dataset_homograph/nc-test-labels.pt\n",
      "\n"
     ]
    }
   ],
   "source": [
    "num_trains = int(num_nodes * 0.6)\n",
    "num_vals = int(num_nodes * 0.2)\n",
    "num_tests = num_nodes - num_trains - num_vals\n",
    "\n",
    "ids = np.arange(num_nodes)\n",
    "np.random.shuffle(ids)\n",
    "\n",
    "nc_train_ids_path = os.path.join(base_dir, \"nc-train-ids.npy\")\n",
    "nc_train_ids = ids[:num_trains]\n",
    "print(f\"Part of train ids for node classification: {nc_train_ids[:3]}\")\n",
    "np.save(nc_train_ids_path, nc_train_ids)\n",
    "print(f\"NC train ids are saved to {nc_train_ids_path}\\n\")\n",
    "\n",
    "nc_train_labels_path = os.path.join(base_dir, \"nc-train-labels.pt\")\n",
    "nc_train_labels = torch.randint(0, 10, (num_trains,))\n",
    "print(f\"Part of train labels for node classification: {nc_train_labels[:3]}\")\n",
    "torch.save(nc_train_labels, nc_train_labels_path)\n",
    "print(f\"NC train labels are saved to {nc_train_labels_path}\\n\")\n",
    "\n",
    "nc_val_ids_path = os.path.join(base_dir, \"nc-val-ids.npy\")\n",
    "nc_val_ids = ids[num_trains:num_trains+num_vals]\n",
    "print(f\"Part of val ids for node classification: {nc_val_ids[:3]}\")\n",
    "np.save(nc_val_ids_path, nc_val_ids)\n",
    "print(f\"NC val ids are saved to {nc_val_ids_path}\\n\")\n",
    "\n",
    "nc_val_labels_path = os.path.join(base_dir, \"nc-val-labels.pt\")\n",
    "nc_val_labels = torch.randint(0, 10, (num_vals,))\n",
    "print(f\"Part of val labels for node classification: {nc_val_labels[:3]}\")\n",
    "torch.save(nc_val_labels, nc_val_labels_path)\n",
    "print(f\"NC val labels are saved to {nc_val_labels_path}\\n\")\n",
    "\n",
    "nc_test_ids_path = os.path.join(base_dir, \"nc-test-ids.npy\")\n",
    "nc_test_ids = ids[-num_tests:]\n",
    "print(f\"Part of test ids for node classification: {nc_test_ids[:3]}\")\n",
    "np.save(nc_test_ids_path, nc_test_ids)\n",
    "print(f\"NC test ids are saved to {nc_test_ids_path}\\n\")\n",
    "\n",
    "nc_test_labels_path = os.path.join(base_dir, \"nc-test-labels.pt\")\n",
    "nc_test_labels = torch.randint(0, 10, (num_tests,))\n",
    "print(f\"Part of test labels for node classification: {nc_test_labels[:3]}\")\n",
    "torch.save(nc_test_labels, nc_test_labels_path)\n",
    "print(f\"NC test labels are saved to {nc_test_labels_path}\\n\")"
   ]
  },
  {
   "cell_type": "markdown",
   "metadata": {
    "id": "LhAcDCHQ_KJ0"
   },
   "source": [
    "#### Link Prediction Task\n",
    "For link prediction task, we need **seeds** or **corresponding labels and indexes** which representing the pos/neg property and group of the seeds for each training/validation/test set. Like feature data, numpy arrays and torch tensors are supported for these sets."
   ]
  },
  {
   "cell_type": "code",
   "execution_count": 6,
   "metadata": {
    "execution": {
     "iopub.execute_input": "2024-10-30T13:17:59.907057Z",
     "iopub.status.busy": "2024-10-30T13:17:59.906669Z",
     "iopub.status.idle": "2024-10-30T13:17:59.925139Z",
     "shell.execute_reply": "2024-10-30T13:17:59.924312Z"
    },
    "id": "u0jCnXIcAQy4"
   },
   "outputs": [
    {
     "name": "stdout",
     "output_type": "stream",
     "text": [
      "Part of train seeds for link prediction: [[908 394]\n",
      " [ 23   0]\n",
      " [ 99 970]]\n",
      "LP train seeds are saved to ./ondisk_dataset_homograph/lp-train-seeds.npy\n",
      "\n",
      "Part of val seeds for link prediction: [[820 510]\n",
      " [371 517]\n",
      " [581 432]]\n",
      "LP val seeds are saved to ./ondisk_dataset_homograph/lp-val-seeds.npy\n",
      "\n",
      "Part of val labels for link prediction: [1. 1. 1.]\n",
      "LP val labels are saved to ./ondisk_dataset_homograph/lp-val-labels.npy\n",
      "\n",
      "Part of val indexes for link prediction: [0 1 2]\n",
      "LP val indexes are saved to ./ondisk_dataset_homograph/lp-val-indexes.npy\n",
      "\n",
      "Part of test seeds for link prediction: [[625 360]\n",
      " [485 857]\n",
      " [ 71 531]]\n",
      "LP test seeds are saved to ./ondisk_dataset_homograph/lp-test-seeds.npy\n",
      "\n",
      "Part of val labels for link prediction: [1. 1. 1.]\n",
      "LP test labels are saved to ./ondisk_dataset_homograph/lp-test-labels.npy\n",
      "\n",
      "Part of test indexes for link prediction: [0 1 2]\n",
      "LP test indexes are saved to ./ondisk_dataset_homograph/lp-test-indexes.npy\n",
      "\n"
     ]
    }
   ],
   "source": [
    "num_trains = int(num_edges * 0.6)\n",
    "num_vals = int(num_edges * 0.2)\n",
    "num_tests = num_edges - num_trains - num_vals\n",
    "\n",
    "lp_train_seeds_path = os.path.join(base_dir, \"lp-train-seeds.npy\")\n",
    "lp_train_seeds = edges[:num_trains, :]\n",
    "print(f\"Part of train seeds for link prediction: {lp_train_seeds[:3]}\")\n",
    "np.save(lp_train_seeds_path, lp_train_seeds)\n",
    "print(f\"LP train seeds are saved to {lp_train_seeds_path}\\n\")\n",
    "\n",
    "lp_val_seeds_path = os.path.join(base_dir, \"lp-val-seeds.npy\")\n",
    "lp_val_seeds = edges[num_trains:num_trains+num_vals, :]\n",
    "lp_val_neg_dsts = np.random.randint(0, num_nodes, (num_vals, 10)).reshape(-1)\n",
    "lp_val_neg_srcs = np.repeat(lp_val_seeds[:,0], 10)\n",
    "lp_val_neg_seeds = np.concatenate((lp_val_neg_srcs, lp_val_neg_dsts)).reshape(2,-1).T\n",
    "lp_val_seeds = np.concatenate((lp_val_seeds, lp_val_neg_seeds))\n",
    "print(f\"Part of val seeds for link prediction: {lp_val_seeds[:3]}\")\n",
    "np.save(lp_val_seeds_path, lp_val_seeds)\n",
    "print(f\"LP val seeds are saved to {lp_val_seeds_path}\\n\")\n",
    "\n",
    "lp_val_labels_path = os.path.join(base_dir, \"lp-val-labels.npy\")\n",
    "lp_val_labels = np.empty(num_vals * (10 + 1))\n",
    "lp_val_labels[:num_vals] = 1\n",
    "lp_val_labels[num_vals:] = 0\n",
    "print(f\"Part of val labels for link prediction: {lp_val_labels[:3]}\")\n",
    "np.save(lp_val_labels_path, lp_val_labels)\n",
    "print(f\"LP val labels are saved to {lp_val_labels_path}\\n\")\n",
    "\n",
    "lp_val_indexes_path = os.path.join(base_dir, \"lp-val-indexes.npy\")\n",
    "lp_val_indexes = np.arange(0, num_vals)\n",
    "lp_val_neg_indexes = np.repeat(lp_val_indexes, 10)\n",
    "lp_val_indexes = np.concatenate([lp_val_indexes, lp_val_neg_indexes])\n",
    "print(f\"Part of val indexes for link prediction: {lp_val_indexes[:3]}\")\n",
    "np.save(lp_val_indexes_path, lp_val_indexes)\n",
    "print(f\"LP val indexes are saved to {lp_val_indexes_path}\\n\")\n",
    "\n",
    "lp_test_seeds_path = os.path.join(base_dir, \"lp-test-seeds.npy\")\n",
    "lp_test_seeds = edges[-num_tests:, :]\n",
    "lp_test_neg_dsts = np.random.randint(0, num_nodes, (num_tests, 10)).reshape(-1)\n",
    "lp_test_neg_srcs = np.repeat(lp_test_seeds[:,0], 10)\n",
    "lp_test_neg_seeds = np.concatenate((lp_test_neg_srcs, lp_test_neg_dsts)).reshape(2,-1).T\n",
    "lp_test_seeds = np.concatenate((lp_test_seeds, lp_test_neg_seeds))\n",
    "print(f\"Part of test seeds for link prediction: {lp_test_seeds[:3]}\")\n",
    "np.save(lp_test_seeds_path, lp_test_seeds)\n",
    "print(f\"LP test seeds are saved to {lp_test_seeds_path}\\n\")\n",
    "\n",
    "lp_test_labels_path = os.path.join(base_dir, \"lp-test-labels.npy\")\n",
    "lp_test_labels = np.empty(num_tests * (10 + 1))\n",
    "lp_test_labels[:num_tests] = 1\n",
    "lp_test_labels[num_tests:] = 0\n",
    "print(f\"Part of val labels for link prediction: {lp_test_labels[:3]}\")\n",
    "np.save(lp_test_labels_path, lp_test_labels)\n",
    "print(f\"LP test labels are saved to {lp_test_labels_path}\\n\")\n",
    "\n",
    "lp_test_indexes_path = os.path.join(base_dir, \"lp-test-indexes.npy\")\n",
    "lp_test_indexes = np.arange(0, num_tests)\n",
    "lp_test_neg_indexes = np.repeat(lp_test_indexes, 10)\n",
    "lp_test_indexes = np.concatenate([lp_test_indexes, lp_test_neg_indexes])\n",
    "print(f\"Part of test indexes for link prediction: {lp_test_indexes[:3]}\")\n",
    "np.save(lp_test_indexes_path, lp_test_indexes)\n",
    "print(f\"LP test indexes are saved to {lp_test_indexes_path}\\n\")"
   ]
  },
  {
   "cell_type": "markdown",
   "metadata": {
    "id": "wbk6-wxRK-6S"
   },
   "source": [
    "## Organize Data into YAML File\n",
    "Now we need to create a `metadata.yaml` file which contains the paths, dadta types of graph structure, feature data, training/validation/test sets.\n",
    "\n",
    "Notes:\n",
    "- all path should be relative to `metadata.yaml`.\n",
    "- Below fields are optional and not specified in below example.\n",
    "  - `in_memory`: indicates whether to load dada into memory or `mmap`. Default is `True`.\n",
    "\n",
    "Please refer to [YAML specification](https://github.com/dmlc/dgl/blob/master/docs/source/stochastic_training/ondisk-dataset-specification.rst) for more details."
   ]
  },
  {
   "cell_type": "code",
   "execution_count": 7,
   "metadata": {
    "execution": {
     "iopub.execute_input": "2024-10-30T13:17:59.928135Z",
     "iopub.status.busy": "2024-10-30T13:17:59.927465Z",
     "iopub.status.idle": "2024-10-30T13:17:59.934042Z",
     "shell.execute_reply": "2024-10-30T13:17:59.933258Z"
    },
    "id": "ddGTWW61Lpwp"
   },
   "outputs": [],
   "source": [
    "yaml_content = f\"\"\"\n",
    "    dataset_name: homogeneous_graph_nc_lp\n",
    "    graph:\n",
    "      nodes:\n",
    "        - num: {num_nodes}\n",
    "      edges:\n",
    "        - format: csv\n",
    "          path: {os.path.basename(edges_path)}\n",
    "    feature_data:\n",
    "      - domain: node\n",
    "        name: feat_0\n",
    "        format: numpy\n",
    "        path: {os.path.basename(node_feat_0_path)}\n",
    "      - domain: node\n",
    "        name: feat_1\n",
    "        format: torch\n",
    "        path: {os.path.basename(node_feat_1_path)}\n",
    "      - domain: edge\n",
    "        name: feat_0\n",
    "        format: numpy\n",
    "        path: {os.path.basename(edge_feat_0_path)}\n",
    "      - domain: edge\n",
    "        name: feat_1\n",
    "        format: torch\n",
    "        path: {os.path.basename(edge_feat_1_path)}\n",
    "    tasks:\n",
    "      - name: node_classification\n",
    "        num_classes: 10\n",
    "        train_set:\n",
    "          - data:\n",
    "              - name: seeds\n",
    "                format: numpy\n",
    "                path: {os.path.basename(nc_train_ids_path)}\n",
    "              - name: labels\n",
    "                format: torch\n",
    "                path: {os.path.basename(nc_train_labels_path)}\n",
    "        validation_set:\n",
    "          - data:\n",
    "              - name: seeds\n",
    "                format: numpy\n",
    "                path: {os.path.basename(nc_val_ids_path)}\n",
    "              - name: labels\n",
    "                format: torch\n",
    "                path: {os.path.basename(nc_val_labels_path)}\n",
    "        test_set:\n",
    "          - data:\n",
    "              - name: seeds\n",
    "                format: numpy\n",
    "                path: {os.path.basename(nc_test_ids_path)}\n",
    "              - name: labels\n",
    "                format: torch\n",
    "                path: {os.path.basename(nc_test_labels_path)}\n",
    "      - name: link_prediction\n",
    "        num_classes: 10\n",
    "        train_set:\n",
    "          - data:\n",
    "              - name: seeds\n",
    "                format: numpy\n",
    "                path: {os.path.basename(lp_train_seeds_path)}\n",
    "        validation_set:\n",
    "          - data:\n",
    "              - name: seeds\n",
    "                format: numpy\n",
    "                path: {os.path.basename(lp_val_seeds_path)}\n",
    "              - name: labels\n",
    "                format: numpy\n",
    "                path: {os.path.basename(lp_val_labels_path)}\n",
    "              - name: indexes\n",
    "                format: numpy\n",
    "                path: {os.path.basename(lp_val_indexes_path)}\n",
    "        test_set:\n",
    "          - data:\n",
    "              - name: seeds\n",
    "                format: numpy\n",
    "                path: {os.path.basename(lp_test_seeds_path)}\n",
    "              - name: labels\n",
    "                format: numpy\n",
    "                path: {os.path.basename(lp_test_labels_path)}\n",
    "              - name: indexes\n",
    "                format: numpy\n",
    "                path: {os.path.basename(lp_test_indexes_path)}\n",
    "\"\"\"\n",
    "metadata_path = os.path.join(base_dir, \"metadata.yaml\")\n",
    "with open(metadata_path, \"w\") as f:\n",
    "  f.write(yaml_content)"
   ]
  },
  {
   "cell_type": "markdown",
   "metadata": {
    "id": "kEfybHGhOW7O"
   },
   "source": [
    "## Instantiate `OnDiskDataset`\n",
    "Now we're ready to load dataset via `dgl.graphbolt.OnDiskDataset`. When instantiating, we just pass in the base directory where `metadata.yaml` file lies.\n",
    "\n",
    "During first instantiation, GraphBolt preprocesses the raw data such as constructing `FusedCSCSamplingGraph` from edges. All data including graph, feature data, training/validation/test sets are put into `preprocessed` directory after preprocessing. Any following dataset loading will skip the preprocess stage.\n",
    "\n",
    "After preprocessing, `load()` is required to be called explicitly in order to load graph, feature data and tasks."
   ]
  },
  {
   "cell_type": "code",
   "execution_count": 8,
   "metadata": {
    "execution": {
     "iopub.execute_input": "2024-10-30T13:17:59.936414Z",
     "iopub.status.busy": "2024-10-30T13:17:59.936059Z",
     "iopub.status.idle": "2024-10-30T13:18:00.005933Z",
     "shell.execute_reply": "2024-10-30T13:18:00.005264Z"
    },
    "id": "W58CZoSzOiyo"
   },
   "outputs": [
    {
     "name": "stdout",
     "output_type": "stream",
     "text": [
      "Start to preprocess the on-disk dataset.\n",
      "Finish preprocessing the on-disk dataset.\n",
      "Loaded graph: FusedCSCSamplingGraph(csc_indptr=tensor([    0,     8,    22,  ...,  9984,  9991, 10000], dtype=torch.int32),\n",
      "                      indices=tensor([ 23,   6, 124,  ..., 630, 517, 274], dtype=torch.int32),\n",
      "                      total_num_nodes=1000, num_edges=10000,)\n",
      "\n",
      "Loaded feature store: TorchBasedFeatureStore(\n",
      "    {(<OnDiskFeatureDataDomain.NODE: 'node'>, None, 'feat_0'): TorchBasedFeature(\n",
      "        feature=tensor([[0.5963, 0.6362, 0.4524, 0.3791, 0.8214],\n",
      "                        [0.1747, 0.9785, 0.8182, 0.4937, 0.8367],\n",
      "                        [0.8271, 0.6936, 0.7029, 0.4038, 0.4765],\n",
      "                        ...,\n",
      "                        [0.6807, 0.3823, 0.0742, 0.7800, 0.1766],\n",
      "                        [0.6142, 0.6794, 0.6832, 0.0908, 0.1542],\n",
      "                        [0.8311, 0.7836, 0.2320, 0.6889, 0.4338]], dtype=torch.float64),\n",
      "        metadata={},\n",
      "    ), (<OnDiskFeatureDataDomain.NODE: 'node'>, None, 'feat_1'): TorchBasedFeature(\n",
      "        feature=tensor([[0.7621, 0.2873, 0.9807, 0.2681, 0.9185],\n",
      "                        [0.5151, 0.6221, 0.7527, 0.6253, 0.0824],\n",
      "                        [0.4472, 0.6891, 0.3778, 0.9936, 0.4496],\n",
      "                        ...,\n",
      "                        [0.5857, 0.6490, 0.4226, 0.5765, 0.6995],\n",
      "                        [0.8237, 0.7726, 0.0126, 0.7741, 0.8378],\n",
      "                        [0.5669, 0.1552, 0.1876, 0.3260, 0.4451]]),\n",
      "        metadata={},\n",
      "    ), (<OnDiskFeatureDataDomain.EDGE: 'edge'>, None, 'feat_0'): TorchBasedFeature(\n",
      "        feature=tensor([[0.2186, 0.9538, 0.2160, 0.3008, 0.0705],\n",
      "                        [0.3380, 0.3363, 0.8830, 0.8134, 0.4002],\n",
      "                        [0.7685, 0.6859, 0.1592, 0.0271, 0.5575],\n",
      "                        ...,\n",
      "                        [0.9330, 0.5670, 0.9774, 0.0936, 0.9645],\n",
      "                        [0.7138, 0.0829, 0.6090, 0.8226, 0.1555],\n",
      "                        [0.5392, 0.2039, 0.5364, 0.8795, 0.9529]], dtype=torch.float64),\n",
      "        metadata={},\n",
      "    ), (<OnDiskFeatureDataDomain.EDGE: 'edge'>, None, 'feat_1'): TorchBasedFeature(\n",
      "        feature=tensor([[0.1327, 0.9627, 0.9564, 0.1613, 0.8137],\n",
      "                        [0.3497, 0.6314, 0.7868, 0.1143, 0.9932],\n",
      "                        [0.0614, 0.0894, 0.3316, 0.8589, 0.7908],\n",
      "                        ...,\n",
      "                        [0.2685, 0.8552, 0.7656, 0.2548, 0.7879],\n",
      "                        [0.1452, 0.9270, 0.9339, 0.1584, 0.3555],\n",
      "                        [0.8952, 0.4698, 0.8665, 0.3957, 0.9497]]),\n",
      "        metadata={},\n",
      "    )}\n",
      ")\n",
      "\n",
      "Loaded node classification task: OnDiskTask(validation_set=ItemSet(\n",
      "               items=(tensor([516, 383, 312, 170, 955, 817, 808,  42, 562, 533, 553, 294, 121, 712,\n",
      "                   269, 293,  22, 328, 206, 478,   0,  76, 442, 401, 531, 716, 387, 699,\n",
      "                   290, 599, 504, 877, 414, 231, 363, 364, 731, 133, 137, 964, 833, 423,\n",
      "                   547, 292, 666, 737, 578, 331, 766, 799, 894, 581, 450, 622, 255, 651,\n",
      "                    60, 705, 494,  91, 814, 141, 444, 840, 384, 254, 855, 341,  13, 366,\n",
      "                   243, 635, 675, 957, 707, 122, 132, 956, 997, 358, 950, 566, 701, 266,\n",
      "                   688, 389,  38,  20, 792, 934, 537, 898, 302, 296, 922, 637, 396, 157,\n",
      "                   985, 501, 352, 289, 348, 947, 983, 838, 565, 222,  36, 623, 561, 657,\n",
      "                   972, 497, 471, 613, 333, 706, 538, 191,  50, 274, 291,  11, 954, 349,\n",
      "                   571, 682, 809,  29, 652, 671, 411, 220, 698, 332, 436, 318, 594, 375,\n",
      "                   589, 155, 356, 988, 489, 544, 259, 729, 214, 416, 284, 322, 600, 999,\n",
      "                   823,  46, 413, 680, 777, 355, 309, 521, 842, 597, 399, 590, 995, 217,\n",
      "                   800, 330, 205, 400, 665, 906, 347, 420, 629, 125, 686, 644, 965, 917,\n",
      "                   627,  62, 421, 588, 889,  56, 607, 980, 907,  24, 830, 761, 162, 896,\n",
      "                   448, 626, 350, 691], dtype=torch.int32), tensor([4, 6, 9, 0, 8, 7, 4, 7, 1, 6, 6, 9, 0, 7, 1, 6, 1, 0, 9, 3, 0, 5, 6, 8,\n",
      "                   4, 8, 9, 0, 3, 0, 2, 3, 7, 1, 4, 7, 2, 8, 3, 4, 0, 9, 9, 8, 2, 7, 0, 0,\n",
      "                   0, 0, 2, 3, 3, 3, 9, 5, 7, 4, 7, 1, 5, 3, 2, 3, 4, 4, 0, 6, 3, 0, 0, 6,\n",
      "                   3, 4, 6, 8, 5, 4, 5, 4, 1, 8, 3, 1, 2, 5, 3, 3, 4, 0, 4, 6, 9, 5, 0, 6,\n",
      "                   5, 3, 3, 0, 3, 0, 3, 2, 3, 5, 5, 6, 3, 2, 5, 4, 2, 4, 9, 8, 7, 0, 1, 3,\n",
      "                   2, 6, 4, 1, 2, 0, 5, 0, 4, 0, 8, 0, 9, 0, 2, 2, 4, 3, 5, 4, 3, 3, 6, 6,\n",
      "                   5, 6, 6, 3, 8, 6, 6, 8, 1, 6, 4, 4, 2, 6, 0, 4, 4, 3, 8, 1, 2, 5, 7, 4,\n",
      "                   7, 7, 5, 2, 1, 9, 6, 9, 1, 8, 0, 3, 7, 4, 4, 0, 9, 2, 1, 0, 8, 4, 4, 8,\n",
      "                   6, 8, 5, 6, 5, 7, 0, 3])),\n",
      "               names=('seeds', 'labels'),\n",
      "           ),\n",
      "           train_set=ItemSet(\n",
      "               items=(tensor([192, 405, 986, 747, 826, 679, 532, 150, 804, 488, 434, 304, 507, 295,\n",
      "                   115, 177, 551, 249, 849, 611, 287, 603, 528, 441, 187, 723, 100, 213,\n",
      "                   687, 556, 771, 976, 402, 377, 837, 486, 772, 829, 575,  15, 569, 758,\n",
      "                   251, 386,  45, 932,  43,  26, 812, 443, 180,  31, 798, 393, 726, 791,\n",
      "                   524, 867, 313, 693, 518, 897, 783,   4, 885, 865, 648, 598, 715, 942,\n",
      "                   881, 484, 620, 943, 987, 862, 473, 913, 595,   7, 633, 806, 195, 146,\n",
      "                   208, 257, 981, 545, 751, 828, 198, 630, 586, 359, 493, 526, 989,  95,\n",
      "                   525, 508, 470, 967, 210, 602, 107, 959,   8, 479, 996,  84, 237, 298,\n",
      "                   639, 535, 868, 968, 388, 512, 859, 659, 321, 542, 560, 116, 781, 592,\n",
      "                   161, 720, 893,  82, 818,   9, 776, 166, 568,  72, 522, 915, 510, 477,\n",
      "                   786, 189, 929, 805, 539, 167, 832, 323, 453, 852, 890, 824,  66, 466,\n",
      "                   130, 631, 963, 749, 961, 647, 380, 642, 248, 678, 523, 975, 430, 241,\n",
      "                   616, 221, 392, 960, 982, 667, 882, 139, 673, 670, 951, 409, 754, 285,\n",
      "                    67, 970, 427, 923, 585, 969, 426, 718, 752, 641, 696, 178, 685, 689,\n",
      "                   324, 978, 564, 371, 244, 580, 234, 847, 612, 714, 108, 931, 924, 303,\n",
      "                   991, 836, 572, 677,  53, 660, 481, 738, 207, 643,  52, 604, 895,  10,\n",
      "                   695, 229, 692, 681, 316, 172, 790, 946, 825, 267, 280, 753,   2, 431,\n",
      "                    33, 476,   6,  54, 131, 184, 472, 703, 317, 123, 496, 509, 788, 912,\n",
      "                   945, 194, 398,  48, 841, 760, 617, 850, 353, 740, 583, 844, 106, 819,\n",
      "                   310,  83, 700, 940, 250, 406, 576,  21, 242, 418, 268, 228, 661, 979,\n",
      "                   233,  93, 149,  61, 649, 272, 782, 733, 403,  63,  35, 370, 984, 725,\n",
      "                    96, 574, 239, 485, 704,  28, 905, 820, 530, 722, 174, 483, 245, 475,\n",
      "                   534,  14, 487,  81, 147, 869,  25, 505, 335, 428, 127, 235, 262, 937,\n",
      "                   261, 765, 977, 654, 462, 227, 271, 892, 297, 447, 736, 615, 683, 785,\n",
      "                    73, 202, 584, 336,  69, 684, 880, 513, 846, 408, 591, 311, 373, 502,\n",
      "                   990,  64, 742,  87, 938, 492,  94, 697,  12, 188, 759, 794, 822,  40,\n",
      "                   343, 779, 105, 201,   3,  32, 886, 511, 372, 308, 952, 112, 883, 573,\n",
      "                   664,  97, 555,  89, 230, 422, 181, 717, 807, 451, 619, 793, 634, 276,\n",
      "                   787, 465, 645, 407, 797, 247, 866, 540, 144, 345, 962, 902, 410, 306,\n",
      "                   795, 916, 433, 506, 446, 813, 803, 944, 390, 449, 111, 741, 129, 764,\n",
      "                   744, 334, 278, 385, 941, 815,  18, 835, 919, 856,  70, 730, 412, 702,\n",
      "                   888, 552, 467, 224, 218, 452, 577, 762, 755, 998, 748, 482, 668, 775,\n",
      "                     5, 554, 656, 429, 463, 500, 124, 143, 527, 834, 186, 200,  16, 948,\n",
      "                   904, 468, 417, 382, 939, 872, 395, 658, 120, 861, 498, 727, 784, 260,\n",
      "                   920, 270, 653, 930, 367, 148, 750, 307, 209, 212, 769, 185, 767, 346,\n",
      "                   361, 299, 519, 424, 283, 843,  85, 559, 145, 168, 878, 445, 103, 338,\n",
      "                   796, 305, 821, 275, 457, 899, 558, 117, 327, 857, 610, 739, 211,  58,\n",
      "                   379, 113, 874, 770, 223, 464, 567,  92, 921, 911, 925, 314,  37, 621,\n",
      "                   435, 163, 226, 326, 134,  19, 154, 391, 319, 858, 140, 674, 340, 936,\n",
      "                   232, 456, 570, 152, 282, 514, 563, 879, 238, 354, 474, 918, 618, 614,\n",
      "                   151, 171, 676, 529, 732,   1, 746, 646, 164,  86, 193, 579, 256, 596,\n",
      "                   601, 628, 851, 914, 873, 928,  74, 365, 550, 710,  55, 973, 810, 376,\n",
      "                   774, 768, 469, 159,  57, 119, 102,  51,  88, 378, 342, 455],\n",
      "                  dtype=torch.int32), tensor([9, 0, 3, 1, 9, 1, 0, 3, 4, 3, 5, 1, 4, 9, 9, 4, 2, 2, 2, 7, 4, 9, 0, 4,\n",
      "                   8, 5, 4, 4, 5, 3, 8, 9, 4, 5, 1, 3, 3, 1, 6, 4, 6, 1, 1, 8, 3, 9, 9, 9,\n",
      "                   6, 0, 8, 0, 5, 8, 3, 9, 9, 2, 1, 9, 8, 7, 2, 0, 2, 7, 3, 1, 9, 7, 5, 3,\n",
      "                   2, 5, 6, 9, 6, 7, 3, 5, 7, 0, 9, 8, 2, 6, 0, 6, 8, 2, 5, 3, 4, 2, 3, 1,\n",
      "                   9, 9, 8, 5, 1, 2, 0, 7, 2, 6, 5, 1, 7, 3, 7, 2, 7, 7, 9, 7, 0, 5, 9, 1,\n",
      "                   9, 1, 4, 0, 1, 6, 2, 7, 8, 7, 4, 9, 8, 6, 7, 5, 4, 5, 5, 1, 5, 8, 7, 2,\n",
      "                   9, 2, 8, 4, 3, 5, 1, 2, 5, 3, 2, 7, 3, 6, 6, 3, 3, 3, 0, 9, 8, 2, 7, 2,\n",
      "                   3, 6, 8, 8, 4, 4, 9, 6, 1, 7, 5, 0, 9, 5, 7, 5, 4, 4, 1, 5, 2, 5, 9, 0,\n",
      "                   9, 0, 6, 9, 9, 3, 6, 0, 7, 0, 5, 4, 8, 0, 1, 0, 5, 4, 5, 8, 5, 5, 3, 1,\n",
      "                   8, 4, 0, 4, 8, 1, 5, 4, 0, 2, 4, 3, 1, 0, 5, 0, 0, 2, 7, 9, 2, 9, 5, 1,\n",
      "                   9, 5, 2, 3, 4, 3, 9, 8, 9, 6, 5, 2, 7, 0, 2, 8, 6, 5, 9, 9, 9, 2, 6, 1,\n",
      "                   0, 4, 0, 1, 0, 5, 0, 3, 6, 3, 0, 0, 7, 1, 6, 1, 0, 7, 5, 7, 5, 8, 5, 3,\n",
      "                   6, 0, 7, 1, 6, 3, 8, 6, 6, 8, 7, 2, 6, 3, 7, 2, 3, 9, 2, 6, 8, 7, 1, 9,\n",
      "                   6, 0, 9, 8, 6, 8, 3, 2, 6, 9, 1, 3, 7, 6, 0, 9, 5, 5, 6, 4, 0, 2, 2, 2,\n",
      "                   1, 1, 4, 6, 5, 9, 8, 8, 9, 4, 2, 0, 9, 2, 7, 5, 0, 3, 9, 2, 8, 3, 4, 3,\n",
      "                   1, 2, 5, 9, 2, 2, 9, 6, 9, 0, 5, 6, 3, 1, 3, 7, 2, 0, 3, 1, 9, 0, 6, 5,\n",
      "                   8, 6, 5, 4, 9, 1, 3, 7, 4, 5, 3, 4, 2, 7, 2, 0, 5, 2, 3, 1, 3, 2, 0, 5,\n",
      "                   1, 5, 7, 9, 8, 0, 1, 8, 6, 5, 2, 4, 7, 2, 6, 6, 0, 4, 3, 5, 1, 7, 1, 4,\n",
      "                   8, 0, 5, 6, 3, 2, 5, 3, 4, 6, 4, 7, 7, 1, 2, 2, 9, 3, 5, 7, 1, 7, 5, 9,\n",
      "                   9, 1, 8, 7, 1, 1, 6, 9, 8, 1, 3, 5, 8, 9, 6, 7, 7, 3, 5, 4, 3, 5, 4, 2,\n",
      "                   1, 8, 1, 6, 5, 2, 4, 4, 1, 2, 2, 1, 2, 7, 4, 2, 7, 4, 3, 5, 2, 3, 8, 8,\n",
      "                   4, 4, 1, 5, 2, 3, 8, 1, 9, 5, 9, 2, 6, 9, 0, 2, 7, 7, 9, 7, 9, 6, 1, 6,\n",
      "                   0, 3, 6, 3, 2, 0, 7, 5, 1, 1, 2, 4, 7, 8, 6, 5, 7, 6, 4, 5, 1, 8, 1, 5,\n",
      "                   8, 6, 0, 2, 6, 7, 5, 7, 1, 7, 6, 6, 9, 0, 9, 3, 0, 0, 1, 0, 6, 8, 0, 4,\n",
      "                   3, 9, 9, 1, 2, 7, 6, 7, 7, 9, 5, 2, 0, 4, 8, 8, 3, 7, 9, 7, 9, 3, 4, 2])),\n",
      "               names=('seeds', 'labels'),\n",
      "           ),\n",
      "           test_set=ItemSet(\n",
      "               items=(tensor([ 30, 763, 811, 320, 190, 357,  90, 499, 548, 853,  98,  77, 958, 734,\n",
      "                   789, 279, 587, 875, 179, 490, 253, 315, 650, 142, 871, 503, 225, 801,\n",
      "                   460, 397, 901, 515, 891, 369, 136, 118, 101, 277, 110,  78, 926, 735,\n",
      "                   708,  44, 605, 966, 728, 204, 432, 265, 252,  39, 160, 655, 549,  80,\n",
      "                   128, 196, 992, 993, 438, 175, 694,  68, 900, 458,  75, 246, 183, 778,\n",
      "                    34, 439, 663, 724, 339, 199, 624, 394,  23, 138, 203,  65, 933, 870,\n",
      "                   104, 236, 264,  17, 329, 711, 176, 845, 935, 263, 606, 197, 216, 884,\n",
      "                   337, 158, 536, 910, 459, 325, 219, 709, 719, 182, 636, 440, 757, 745,\n",
      "                   609, 756,  49, 839, 773, 854, 949, 557, 300,  59, 114, 374, 517, 994,\n",
      "                   454, 669, 415, 126, 351, 848, 173, 109, 156, 480, 780, 362, 721, 495,\n",
      "                   608, 816, 437, 831, 368, 638, 876, 927, 301, 258, 953, 541, 802, 903,\n",
      "                    79, 632, 404, 153, 169, 582, 974, 273, 360, 908,  71, 662, 288, 165,\n",
      "                   909, 240, 672, 860, 625, 491, 640, 215, 381, 281,  47, 520,  41, 864,\n",
      "                   863, 419,  99, 135, 971, 887, 593, 743, 461,  27, 546, 344, 425, 827,\n",
      "                   543, 713, 286, 690], dtype=torch.int32), tensor([2, 2, 4, 5, 7, 8, 7, 4, 5, 6, 5, 6, 9, 8, 9, 1, 1, 5, 1, 7, 4, 9, 8, 7,\n",
      "                   3, 7, 7, 7, 4, 1, 5, 9, 6, 1, 4, 9, 5, 0, 9, 1, 7, 9, 5, 2, 4, 5, 6, 7,\n",
      "                   8, 6, 4, 2, 6, 3, 1, 4, 1, 2, 0, 3, 8, 1, 4, 1, 3, 4, 9, 4, 8, 3, 5, 0,\n",
      "                   6, 8, 3, 1, 3, 1, 6, 5, 8, 5, 0, 1, 6, 6, 8, 9, 1, 0, 3, 2, 4, 6, 2, 6,\n",
      "                   0, 0, 7, 1, 3, 5, 5, 5, 7, 1, 2, 9, 0, 3, 4, 9, 6, 0, 3, 9, 6, 4, 1, 3,\n",
      "                   5, 3, 3, 3, 9, 3, 3, 9, 2, 9, 4, 0, 2, 3, 3, 8, 4, 5, 5, 3, 2, 2, 5, 9,\n",
      "                   6, 1, 0, 4, 7, 1, 2, 5, 4, 1, 3, 0, 8, 5, 5, 4, 9, 8, 3, 7, 8, 1, 5, 5,\n",
      "                   5, 9, 7, 6, 1, 6, 8, 3, 0, 0, 7, 8, 2, 0, 8, 1, 4, 0, 6, 7, 7, 0, 1, 5,\n",
      "                   7, 7, 4, 6, 7, 9, 2, 8])),\n",
      "               names=('seeds', 'labels'),\n",
      "           ),\n",
      "           metadata={'name': 'node_classification', 'num_classes': 10},)\n",
      "\n",
      "Loaded link prediction task: OnDiskTask(validation_set=ItemSet(\n",
      "               items=(tensor([[820, 510],\n",
      "                   [371, 517],\n",
      "                   [581, 432],\n",
      "                   ...,\n",
      "                   [718, 688],\n",
      "                   [718, 515],\n",
      "                   [718, 366]], dtype=torch.int32), tensor([1., 1., 1.,  ..., 0., 0., 0.], dtype=torch.float64), tensor([   0,    1,    2,  ..., 1999, 1999, 1999])),\n",
      "               names=('seeds', 'labels', 'indexes'),\n",
      "           ),\n",
      "           train_set=ItemSet(\n",
      "               items=(tensor([[908, 394],\n",
      "                   [ 23,   0],\n",
      "                   [ 99, 970],\n",
      "                   ...,\n",
      "                   [317, 337],\n",
      "                   [504, 111],\n",
      "                   [669, 232]], dtype=torch.int32),),\n",
      "               names=('seeds',),\n",
      "           ),\n",
      "           test_set=ItemSet(\n",
      "               items=(tensor([[625, 360],\n",
      "                   [485, 857],\n",
      "                   [ 71, 531],\n",
      "                   ...,\n",
      "                   [779, 853],\n",
      "                   [779, 464],\n",
      "                   [779, 791]], dtype=torch.int32), tensor([1., 1., 1.,  ..., 0., 0., 0.], dtype=torch.float64), tensor([   0,    1,    2,  ..., 1999, 1999, 1999])),\n",
      "               names=('seeds', 'labels', 'indexes'),\n",
      "           ),\n",
      "           metadata={'name': 'link_prediction', 'num_classes': 10},)\n",
      "\n"
     ]
    },
    {
     "name": "stderr",
     "output_type": "stream",
     "text": [
      "/dgl/python/dgl/graphbolt/impl/ondisk_dataset.py:463: GBWarning: Edge feature is stored, but edge IDs are not saved.\n",
      "  gb_warning(\"Edge feature is stored, but edge IDs are not saved.\")\n"
     ]
    }
   ],
   "source": [
    "dataset = gb.OnDiskDataset(base_dir).load()\n",
    "graph = dataset.graph\n",
    "print(f\"Loaded graph: {graph}\\n\")\n",
    "\n",
    "feature = dataset.feature\n",
    "print(f\"Loaded feature store: {feature}\\n\")\n",
    "\n",
    "tasks = dataset.tasks\n",
    "nc_task = tasks[0]\n",
    "print(f\"Loaded node classification task: {nc_task}\\n\")\n",
    "lp_task = tasks[1]\n",
    "print(f\"Loaded link prediction task: {lp_task}\\n\")"
   ]
  }
 ],
 "metadata": {
  "colab": {
   "private_outputs": true,
   "provenance": []
  },
  "kernelspec": {
   "display_name": "Python 3",
   "name": "python3"
  },
  "language_info": {
   "codemirror_mode": {
    "name": "ipython",
    "version": 3
   },
   "file_extension": ".py",
   "mimetype": "text/x-python",
   "name": "python",
   "nbconvert_exporter": "python",
   "pygments_lexer": "ipython3",
   "version": "3.10.15"
  }
 },
 "nbformat": 4,
 "nbformat_minor": 0
}

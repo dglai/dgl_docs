{
 "cells": [
  {
   "cell_type": "markdown",
   "metadata": {
    "id": "FnFhPMaAfLtJ"
   },
   "source": [
    "# OnDiskDataset for Homogeneous Graph\n",
    "\n",
    "[![Open In Colab](https://colab.research.google.com/assets/colab-badge.svg)](https://colab.research.google.com/github/dmlc/dgl/blob/master/notebooks/stochastic_training/ondisk_dataset_homograph.ipynb) [![GitHub](https://img.shields.io/badge/-View%20on%20GitHub-181717?logo=github&logoColor=ffffff)](https://github.com/dmlc/dgl/blob/master/notebooks/stochastic_training/ondisk_dataset_homograph.ipynb)\n",
    "\n",
    "This tutorial shows how to create `OnDiskDataset` for homogeneous graph that could be used in **GraphBolt** framework.\n",
    "\n",
    "By the end of this tutorial, you will be able to\n",
    "\n",
    "- organize graph structure data.\n",
    "- organize feature data.\n",
    "- organize training/validation/test set for specific tasks.\n",
    "\n",
    "To create an ``OnDiskDataset`` object, you need to organize all the data including graph structure, feature data and tasks into a directory. The directory should contain a ``metadata.yaml`` file that describes the metadata of the dataset.\n",
    "\n",
    "Now let's generate various data step by step and organize them together to instantiate `OnDiskDataset` finally."
   ]
  },
  {
   "cell_type": "markdown",
   "metadata": {
    "id": "Wlb19DtWgtzq"
   },
   "source": [
    "## Install DGL package"
   ]
  },
  {
   "cell_type": "code",
   "execution_count": 1,
   "metadata": {
    "execution": {
     "iopub.execute_input": "2024-09-29T13:19:32.566545Z",
     "iopub.status.busy": "2024-09-29T13:19:32.566258Z",
     "iopub.status.idle": "2024-09-29T13:19:35.594903Z",
     "shell.execute_reply": "2024-09-29T13:19:35.593993Z"
    },
    "id": "UojlT9ZGgyr9"
   },
   "outputs": [
    {
     "name": "stdout",
     "output_type": "stream",
     "text": [
      "Looking in links: https://data.dgl.ai/wheels-test/repo.html\r\n",
      "Requirement already satisfied: dgl in /opt/conda/envs/dgl-dev-cpu/lib/python3.10/site-packages (2.2a240410)\r\n",
      "Requirement already satisfied: numpy>=1.14.0 in /opt/conda/envs/dgl-dev-cpu/lib/python3.10/site-packages (from dgl) (1.26.4)\r\n",
      "Requirement already satisfied: scipy>=1.1.0 in /opt/conda/envs/dgl-dev-cpu/lib/python3.10/site-packages (from dgl) (1.14.1)\r\n",
      "Requirement already satisfied: networkx>=2.1 in /opt/conda/envs/dgl-dev-cpu/lib/python3.10/site-packages (from dgl) (3.3)\r\n",
      "Requirement already satisfied: requests>=2.19.0 in /opt/conda/envs/dgl-dev-cpu/lib/python3.10/site-packages (from dgl) (2.32.3)\r\n",
      "Requirement already satisfied: tqdm in /opt/conda/envs/dgl-dev-cpu/lib/python3.10/site-packages (from dgl) (4.66.5)\r\n",
      "Requirement already satisfied: psutil>=5.8.0 in /opt/conda/envs/dgl-dev-cpu/lib/python3.10/site-packages (from dgl) (6.0.0)\r\n",
      "Requirement already satisfied: torchdata>=0.5.0 in /opt/conda/envs/dgl-dev-cpu/lib/python3.10/site-packages (from dgl) (0.8.0)\r\n",
      "Requirement already satisfied: pandas in /opt/conda/envs/dgl-dev-cpu/lib/python3.10/site-packages (from dgl) (2.2.3)\r\n"
     ]
    },
    {
     "name": "stdout",
     "output_type": "stream",
     "text": [
      "Requirement already satisfied: charset-normalizer<4,>=2 in /opt/conda/envs/dgl-dev-cpu/lib/python3.10/site-packages (from requests>=2.19.0->dgl) (3.3.2)\r\n",
      "Requirement already satisfied: idna<4,>=2.5 in /opt/conda/envs/dgl-dev-cpu/lib/python3.10/site-packages (from requests>=2.19.0->dgl) (3.10)\r\n",
      "Requirement already satisfied: urllib3<3,>=1.21.1 in /opt/conda/envs/dgl-dev-cpu/lib/python3.10/site-packages (from requests>=2.19.0->dgl) (2.2.3)\r\n",
      "Requirement already satisfied: certifi>=2017.4.17 in /opt/conda/envs/dgl-dev-cpu/lib/python3.10/site-packages (from requests>=2.19.0->dgl) (2024.8.30)\r\n",
      "Requirement already satisfied: torch>=2 in /opt/conda/envs/dgl-dev-cpu/lib/python3.10/site-packages (from torchdata>=0.5.0->dgl) (2.1.0+cpu)\r\n"
     ]
    },
    {
     "name": "stdout",
     "output_type": "stream",
     "text": [
      "Requirement already satisfied: python-dateutil>=2.8.2 in /opt/conda/envs/dgl-dev-cpu/lib/python3.10/site-packages (from pandas->dgl) (2.9.0.post0)\r\n",
      "Requirement already satisfied: pytz>=2020.1 in /opt/conda/envs/dgl-dev-cpu/lib/python3.10/site-packages (from pandas->dgl) (2024.2)\r\n",
      "Requirement already satisfied: tzdata>=2022.7 in /opt/conda/envs/dgl-dev-cpu/lib/python3.10/site-packages (from pandas->dgl) (2024.2)\r\n",
      "Requirement already satisfied: six>=1.5 in /opt/conda/envs/dgl-dev-cpu/lib/python3.10/site-packages (from python-dateutil>=2.8.2->pandas->dgl) (1.16.0)\r\n",
      "Requirement already satisfied: filelock in /opt/conda/envs/dgl-dev-cpu/lib/python3.10/site-packages (from torch>=2->torchdata>=0.5.0->dgl) (3.16.1)\r\n",
      "Requirement already satisfied: typing-extensions in /opt/conda/envs/dgl-dev-cpu/lib/python3.10/site-packages (from torch>=2->torchdata>=0.5.0->dgl) (4.12.2)\r\n",
      "Requirement already satisfied: sympy in /opt/conda/envs/dgl-dev-cpu/lib/python3.10/site-packages (from torch>=2->torchdata>=0.5.0->dgl) (1.13.3)\r\n",
      "Requirement already satisfied: jinja2 in /opt/conda/envs/dgl-dev-cpu/lib/python3.10/site-packages (from torch>=2->torchdata>=0.5.0->dgl) (3.1.4)\r\n",
      "Requirement already satisfied: fsspec in /opt/conda/envs/dgl-dev-cpu/lib/python3.10/site-packages (from torch>=2->torchdata>=0.5.0->dgl) (2024.9.0)\r\n"
     ]
    },
    {
     "name": "stdout",
     "output_type": "stream",
     "text": [
      "Requirement already satisfied: MarkupSafe>=2.0 in /opt/conda/envs/dgl-dev-cpu/lib/python3.10/site-packages (from jinja2->torch>=2->torchdata>=0.5.0->dgl) (2.1.5)\r\n",
      "Requirement already satisfied: mpmath<1.4,>=1.1.0 in /opt/conda/envs/dgl-dev-cpu/lib/python3.10/site-packages (from sympy->torch>=2->torchdata>=0.5.0->dgl) (1.3.0)\r\n"
     ]
    },
    {
     "name": "stdout",
     "output_type": "stream",
     "text": [
      "\u001b[33mWARNING: Running pip as the 'root' user can result in broken permissions and conflicting behaviour with the system package manager, possibly rendering your system unusable.It is recommended to use a virtual environment instead: https://pip.pypa.io/warnings/venv. Use the --root-user-action option if you know what you are doing and want to suppress this warning.\u001b[0m\u001b[33m\r\n",
      "\u001b[0m"
     ]
    },
    {
     "name": "stdout",
     "output_type": "stream",
     "text": [
      "DGL installed!\n"
     ]
    }
   ],
   "source": [
    "# Install required packages.\n",
    "import os\n",
    "import torch\n",
    "import numpy as np\n",
    "os.environ['TORCH'] = torch.__version__\n",
    "os.environ['DGLBACKEND'] = \"pytorch\"\n",
    "\n",
    "# Install the CPU version.\n",
    "device = torch.device(\"cpu\")\n",
    "!pip install --pre dgl -f https://data.dgl.ai/wheels-test/repo.html\n",
    "\n",
    "try:\n",
    "    import dgl\n",
    "    import dgl.graphbolt as gb\n",
    "    installed = True\n",
    "except ImportError as error:\n",
    "    installed = False\n",
    "    print(error)\n",
    "print(\"DGL installed!\" if installed else \"DGL not found!\")"
   ]
  },
  {
   "cell_type": "markdown",
   "metadata": {
    "id": "2R7WnSbjsfbr"
   },
   "source": [
    "## Data preparation\n",
    "In order to demonstrate how to organize various data, let's create a base directory first."
   ]
  },
  {
   "cell_type": "code",
   "execution_count": 2,
   "metadata": {
    "execution": {
     "iopub.execute_input": "2024-09-29T13:19:35.598253Z",
     "iopub.status.busy": "2024-09-29T13:19:35.597255Z",
     "iopub.status.idle": "2024-09-29T13:19:35.602578Z",
     "shell.execute_reply": "2024-09-29T13:19:35.601688Z"
    },
    "id": "SZipbzyltLfO"
   },
   "outputs": [
    {
     "name": "stdout",
     "output_type": "stream",
     "text": [
      "Created base directory: ./ondisk_dataset_homograph\n"
     ]
    }
   ],
   "source": [
    "base_dir = './ondisk_dataset_homograph'\n",
    "os.makedirs(base_dir, exist_ok=True)\n",
    "print(f\"Created base directory: {base_dir}\")"
   ]
  },
  {
   "cell_type": "markdown",
   "metadata": {
    "id": "qhNtIn_xhlnl"
   },
   "source": [
    "### Generate graph structure data\n",
    "For homogeneous graph, we just need to save edges(namely seeds) into  **Numpy** or **CSV** file.\n",
    "\n",
    "Note:\n",
    "- when saving to **Numpy**, the array requires to be in shape of `(2, N)`. This format is recommended as constructing graph from it is much faster than **CSV** file.\n",
    "- when saving to **CSV** file, do not save index and header.\n"
   ]
  },
  {
   "cell_type": "code",
   "execution_count": 3,
   "metadata": {
    "execution": {
     "iopub.execute_input": "2024-09-29T13:19:35.604650Z",
     "iopub.status.busy": "2024-09-29T13:19:35.604357Z",
     "iopub.status.idle": "2024-09-29T13:19:35.618013Z",
     "shell.execute_reply": "2024-09-29T13:19:35.617157Z"
    },
    "id": "HcBt4G5BmSjr"
   },
   "outputs": [
    {
     "name": "stdout",
     "output_type": "stream",
     "text": [
      "Part of edges: [[227 940]\n",
      " [  3  75]\n",
      " [717 350]\n",
      " [107 306]\n",
      " [225 905]]\n",
      "Edges are saved into ./ondisk_dataset_homograph/edges.csv\n"
     ]
    }
   ],
   "source": [
    "import numpy as np\n",
    "import pandas as pd\n",
    "num_nodes = 1000\n",
    "num_edges = 10 * num_nodes\n",
    "edges_path = os.path.join(base_dir, \"edges.csv\")\n",
    "edges = np.random.randint(0, num_nodes, size=(num_edges, 2))\n",
    "\n",
    "print(f\"Part of edges: {edges[:5, :]}\")\n",
    "\n",
    "df = pd.DataFrame(edges)\n",
    "df.to_csv(edges_path, index=False, header=False)\n",
    "\n",
    "print(f\"Edges are saved into {edges_path}\")"
   ]
  },
  {
   "cell_type": "markdown",
   "metadata": {
    "id": "kh-4cPtzpcaH"
   },
   "source": [
    "### Generate feature data for graph\n",
    "For feature data, numpy arrays and torch tensors are supported for now."
   ]
  },
  {
   "cell_type": "code",
   "execution_count": 4,
   "metadata": {
    "execution": {
     "iopub.execute_input": "2024-09-29T13:19:35.624010Z",
     "iopub.status.busy": "2024-09-29T13:19:35.623524Z",
     "iopub.status.idle": "2024-09-29T13:19:35.638830Z",
     "shell.execute_reply": "2024-09-29T13:19:35.637979Z"
    },
    "id": "_PVu1u5brBhF"
   },
   "outputs": [
    {
     "name": "stdout",
     "output_type": "stream",
     "text": [
      "Part of node feature [feat_0]: [[0.78652248 0.14237181 0.03730003 0.48359315 0.85491041]\n",
      " [0.61149127 0.5039784  0.56971319 0.44268435 0.58107698]\n",
      " [0.23338444 0.65433266 0.01722377 0.9401955  0.40562182]]\n",
      "Node feature [feat_0] is saved to ./ondisk_dataset_homograph/node-feat-0.npy\n",
      "\n",
      "Part of node feature [feat_1]: tensor([[0.6969, 0.3902, 0.9458, 0.3132, 0.0957],\n",
      "        [0.7136, 0.2596, 0.2690, 0.3697, 0.5144],\n",
      "        [0.6784, 0.5070, 0.4049, 0.3454, 0.1089]])\n",
      "Node feature [feat_1] is saved to ./ondisk_dataset_homograph/node-feat-1.pt\n",
      "\n",
      "Part of edge feature [feat_0]: [[0.6939075  0.37920308 0.81049794 0.07103272 0.39102634]\n",
      " [0.37234275 0.43806002 0.67367081 0.76286325 0.6413088 ]\n",
      " [0.33596264 0.16412631 0.44245114 0.65497634 0.14618817]]\n",
      "Edge feature [feat_0] is saved to ./ondisk_dataset_homograph/edge-feat-0.npy\n",
      "\n",
      "Part of edge feature [feat_1]: tensor([[0.8740, 0.8117, 0.2892, 0.2202, 0.7692],\n",
      "        [0.7331, 0.3041, 0.9057, 0.8462, 0.6927],\n",
      "        [0.0570, 0.8732, 0.9461, 0.3173, 0.2177]])\n",
      "Edge feature [feat_1] is saved to ./ondisk_dataset_homograph/edge-feat-1.pt\n",
      "\n"
     ]
    }
   ],
   "source": [
    "# Generate node feature in numpy array.\n",
    "node_feat_0_path = os.path.join(base_dir, \"node-feat-0.npy\")\n",
    "node_feat_0 = np.random.rand(num_nodes, 5)\n",
    "print(f\"Part of node feature [feat_0]: {node_feat_0[:3, :]}\")\n",
    "np.save(node_feat_0_path, node_feat_0)\n",
    "print(f\"Node feature [feat_0] is saved to {node_feat_0_path}\\n\")\n",
    "\n",
    "# Generate another node feature in torch tensor\n",
    "node_feat_1_path = os.path.join(base_dir, \"node-feat-1.pt\")\n",
    "node_feat_1 = torch.rand(num_nodes, 5)\n",
    "print(f\"Part of node feature [feat_1]: {node_feat_1[:3, :]}\")\n",
    "torch.save(node_feat_1, node_feat_1_path)\n",
    "print(f\"Node feature [feat_1] is saved to {node_feat_1_path}\\n\")\n",
    "\n",
    "# Generate edge feature in numpy array.\n",
    "edge_feat_0_path = os.path.join(base_dir, \"edge-feat-0.npy\")\n",
    "edge_feat_0 = np.random.rand(num_edges, 5)\n",
    "print(f\"Part of edge feature [feat_0]: {edge_feat_0[:3, :]}\")\n",
    "np.save(edge_feat_0_path, edge_feat_0)\n",
    "print(f\"Edge feature [feat_0] is saved to {edge_feat_0_path}\\n\")\n",
    "\n",
    "# Generate another edge feature in torch tensor\n",
    "edge_feat_1_path = os.path.join(base_dir, \"edge-feat-1.pt\")\n",
    "edge_feat_1 = torch.rand(num_edges, 5)\n",
    "print(f\"Part of edge feature [feat_1]: {edge_feat_1[:3, :]}\")\n",
    "torch.save(edge_feat_1, edge_feat_1_path)\n",
    "print(f\"Edge feature [feat_1] is saved to {edge_feat_1_path}\\n\")\n"
   ]
  },
  {
   "cell_type": "markdown",
   "metadata": {
    "id": "ZyqgOtsIwzh_"
   },
   "source": [
    "### Generate tasks\n",
    "`OnDiskDataset` supports multiple tasks. For each task, we need to prepare training/validation/test sets respectively. Such sets usually vary among different tasks. In this tutorial, let's create a **Node Classification** task and **Link Prediction** task."
   ]
  },
  {
   "cell_type": "markdown",
   "metadata": {
    "id": "hVxHaDIfzCkr"
   },
   "source": [
    "#### Node Classification Task\n",
    "For node classification task, we need **node IDs** and corresponding **labels** for each training/validation/test set. Like feature data, numpy arrays and torch tensors are supported for these sets."
   ]
  },
  {
   "cell_type": "code",
   "execution_count": 5,
   "metadata": {
    "execution": {
     "iopub.execute_input": "2024-09-29T13:19:35.641551Z",
     "iopub.status.busy": "2024-09-29T13:19:35.641241Z",
     "iopub.status.idle": "2024-09-29T13:19:35.652556Z",
     "shell.execute_reply": "2024-09-29T13:19:35.651703Z"
    },
    "id": "S5-fyBbHzTCO"
   },
   "outputs": [
    {
     "name": "stdout",
     "output_type": "stream",
     "text": [
      "Part of train ids for node classification: [723 917 548]\n",
      "NC train ids are saved to ./ondisk_dataset_homograph/nc-train-ids.npy\n",
      "\n",
      "Part of train labels for node classification: tensor([0, 8, 2])\n",
      "NC train labels are saved to ./ondisk_dataset_homograph/nc-train-labels.pt\n",
      "\n",
      "Part of val ids for node classification: [291 843 647]\n",
      "NC val ids are saved to ./ondisk_dataset_homograph/nc-val-ids.npy\n",
      "\n",
      "Part of val labels for node classification: tensor([3, 1, 0])\n",
      "NC val labels are saved to ./ondisk_dataset_homograph/nc-val-labels.pt\n",
      "\n",
      "Part of test ids for node classification: [418 729 904]\n",
      "NC test ids are saved to ./ondisk_dataset_homograph/nc-test-ids.npy\n",
      "\n",
      "Part of test labels for node classification: tensor([7, 3, 5])\n",
      "NC test labels are saved to ./ondisk_dataset_homograph/nc-test-labels.pt\n",
      "\n"
     ]
    }
   ],
   "source": [
    "num_trains = int(num_nodes * 0.6)\n",
    "num_vals = int(num_nodes * 0.2)\n",
    "num_tests = num_nodes - num_trains - num_vals\n",
    "\n",
    "ids = np.arange(num_nodes)\n",
    "np.random.shuffle(ids)\n",
    "\n",
    "nc_train_ids_path = os.path.join(base_dir, \"nc-train-ids.npy\")\n",
    "nc_train_ids = ids[:num_trains]\n",
    "print(f\"Part of train ids for node classification: {nc_train_ids[:3]}\")\n",
    "np.save(nc_train_ids_path, nc_train_ids)\n",
    "print(f\"NC train ids are saved to {nc_train_ids_path}\\n\")\n",
    "\n",
    "nc_train_labels_path = os.path.join(base_dir, \"nc-train-labels.pt\")\n",
    "nc_train_labels = torch.randint(0, 10, (num_trains,))\n",
    "print(f\"Part of train labels for node classification: {nc_train_labels[:3]}\")\n",
    "torch.save(nc_train_labels, nc_train_labels_path)\n",
    "print(f\"NC train labels are saved to {nc_train_labels_path}\\n\")\n",
    "\n",
    "nc_val_ids_path = os.path.join(base_dir, \"nc-val-ids.npy\")\n",
    "nc_val_ids = ids[num_trains:num_trains+num_vals]\n",
    "print(f\"Part of val ids for node classification: {nc_val_ids[:3]}\")\n",
    "np.save(nc_val_ids_path, nc_val_ids)\n",
    "print(f\"NC val ids are saved to {nc_val_ids_path}\\n\")\n",
    "\n",
    "nc_val_labels_path = os.path.join(base_dir, \"nc-val-labels.pt\")\n",
    "nc_val_labels = torch.randint(0, 10, (num_vals,))\n",
    "print(f\"Part of val labels for node classification: {nc_val_labels[:3]}\")\n",
    "torch.save(nc_val_labels, nc_val_labels_path)\n",
    "print(f\"NC val labels are saved to {nc_val_labels_path}\\n\")\n",
    "\n",
    "nc_test_ids_path = os.path.join(base_dir, \"nc-test-ids.npy\")\n",
    "nc_test_ids = ids[-num_tests:]\n",
    "print(f\"Part of test ids for node classification: {nc_test_ids[:3]}\")\n",
    "np.save(nc_test_ids_path, nc_test_ids)\n",
    "print(f\"NC test ids are saved to {nc_test_ids_path}\\n\")\n",
    "\n",
    "nc_test_labels_path = os.path.join(base_dir, \"nc-test-labels.pt\")\n",
    "nc_test_labels = torch.randint(0, 10, (num_tests,))\n",
    "print(f\"Part of test labels for node classification: {nc_test_labels[:3]}\")\n",
    "torch.save(nc_test_labels, nc_test_labels_path)\n",
    "print(f\"NC test labels are saved to {nc_test_labels_path}\\n\")"
   ]
  },
  {
   "cell_type": "markdown",
   "metadata": {
    "id": "LhAcDCHQ_KJ0"
   },
   "source": [
    "#### Link Prediction Task\n",
    "For link prediction task, we need **seeds** or **corresponding labels and indexes** which representing the pos/neg property and group of the seeds for each training/validation/test set. Like feature data, numpy arrays and torch tensors are supported for these sets."
   ]
  },
  {
   "cell_type": "code",
   "execution_count": 6,
   "metadata": {
    "execution": {
     "iopub.execute_input": "2024-09-29T13:19:35.654922Z",
     "iopub.status.busy": "2024-09-29T13:19:35.654588Z",
     "iopub.status.idle": "2024-09-29T13:19:35.672314Z",
     "shell.execute_reply": "2024-09-29T13:19:35.671472Z"
    },
    "id": "u0jCnXIcAQy4"
   },
   "outputs": [
    {
     "name": "stdout",
     "output_type": "stream",
     "text": [
      "Part of train seeds for link prediction: [[227 940]\n",
      " [  3  75]\n",
      " [717 350]]\n",
      "LP train seeds are saved to ./ondisk_dataset_homograph/lp-train-seeds.npy\n",
      "\n",
      "Part of val seeds for link prediction: [[926 537]\n",
      " [135  82]\n",
      " [547 344]]\n",
      "LP val seeds are saved to ./ondisk_dataset_homograph/lp-val-seeds.npy\n",
      "\n",
      "Part of val labels for link prediction: [1. 1. 1.]\n",
      "LP val labels are saved to ./ondisk_dataset_homograph/lp-val-labels.npy\n",
      "\n",
      "Part of val indexes for link prediction: [0 1 2]\n",
      "LP val indexes are saved to ./ondisk_dataset_homograph/lp-val-indexes.npy\n",
      "\n",
      "Part of test seeds for link prediction: [[559 192]\n",
      " [902 876]\n",
      " [848 417]]\n",
      "LP test seeds are saved to ./ondisk_dataset_homograph/lp-test-seeds.npy\n",
      "\n",
      "Part of val labels for link prediction: [1. 1. 1.]\n",
      "LP test labels are saved to ./ondisk_dataset_homograph/lp-test-labels.npy\n",
      "\n",
      "Part of test indexes for link prediction: [0 1 2]\n",
      "LP test indexes are saved to ./ondisk_dataset_homograph/lp-test-indexes.npy\n",
      "\n"
     ]
    }
   ],
   "source": [
    "num_trains = int(num_edges * 0.6)\n",
    "num_vals = int(num_edges * 0.2)\n",
    "num_tests = num_edges - num_trains - num_vals\n",
    "\n",
    "lp_train_seeds_path = os.path.join(base_dir, \"lp-train-seeds.npy\")\n",
    "lp_train_seeds = edges[:num_trains, :]\n",
    "print(f\"Part of train seeds for link prediction: {lp_train_seeds[:3]}\")\n",
    "np.save(lp_train_seeds_path, lp_train_seeds)\n",
    "print(f\"LP train seeds are saved to {lp_train_seeds_path}\\n\")\n",
    "\n",
    "lp_val_seeds_path = os.path.join(base_dir, \"lp-val-seeds.npy\")\n",
    "lp_val_seeds = edges[num_trains:num_trains+num_vals, :]\n",
    "lp_val_neg_dsts = np.random.randint(0, num_nodes, (num_vals, 10)).reshape(-1)\n",
    "lp_val_neg_srcs = np.repeat(lp_val_seeds[:,0], 10)\n",
    "lp_val_neg_seeds = np.concatenate((lp_val_neg_srcs, lp_val_neg_dsts)).reshape(2,-1).T\n",
    "lp_val_seeds = np.concatenate((lp_val_seeds, lp_val_neg_seeds))\n",
    "print(f\"Part of val seeds for link prediction: {lp_val_seeds[:3]}\")\n",
    "np.save(lp_val_seeds_path, lp_val_seeds)\n",
    "print(f\"LP val seeds are saved to {lp_val_seeds_path}\\n\")\n",
    "\n",
    "lp_val_labels_path = os.path.join(base_dir, \"lp-val-labels.npy\")\n",
    "lp_val_labels = np.empty(num_vals * (10 + 1))\n",
    "lp_val_labels[:num_vals] = 1\n",
    "lp_val_labels[num_vals:] = 0\n",
    "print(f\"Part of val labels for link prediction: {lp_val_labels[:3]}\")\n",
    "np.save(lp_val_labels_path, lp_val_labels)\n",
    "print(f\"LP val labels are saved to {lp_val_labels_path}\\n\")\n",
    "\n",
    "lp_val_indexes_path = os.path.join(base_dir, \"lp-val-indexes.npy\")\n",
    "lp_val_indexes = np.arange(0, num_vals)\n",
    "lp_val_neg_indexes = np.repeat(lp_val_indexes, 10)\n",
    "lp_val_indexes = np.concatenate([lp_val_indexes, lp_val_neg_indexes])\n",
    "print(f\"Part of val indexes for link prediction: {lp_val_indexes[:3]}\")\n",
    "np.save(lp_val_indexes_path, lp_val_indexes)\n",
    "print(f\"LP val indexes are saved to {lp_val_indexes_path}\\n\")\n",
    "\n",
    "lp_test_seeds_path = os.path.join(base_dir, \"lp-test-seeds.npy\")\n",
    "lp_test_seeds = edges[-num_tests:, :]\n",
    "lp_test_neg_dsts = np.random.randint(0, num_nodes, (num_tests, 10)).reshape(-1)\n",
    "lp_test_neg_srcs = np.repeat(lp_test_seeds[:,0], 10)\n",
    "lp_test_neg_seeds = np.concatenate((lp_test_neg_srcs, lp_test_neg_dsts)).reshape(2,-1).T\n",
    "lp_test_seeds = np.concatenate((lp_test_seeds, lp_test_neg_seeds))\n",
    "print(f\"Part of test seeds for link prediction: {lp_test_seeds[:3]}\")\n",
    "np.save(lp_test_seeds_path, lp_test_seeds)\n",
    "print(f\"LP test seeds are saved to {lp_test_seeds_path}\\n\")\n",
    "\n",
    "lp_test_labels_path = os.path.join(base_dir, \"lp-test-labels.npy\")\n",
    "lp_test_labels = np.empty(num_tests * (10 + 1))\n",
    "lp_test_labels[:num_tests] = 1\n",
    "lp_test_labels[num_tests:] = 0\n",
    "print(f\"Part of val labels for link prediction: {lp_test_labels[:3]}\")\n",
    "np.save(lp_test_labels_path, lp_test_labels)\n",
    "print(f\"LP test labels are saved to {lp_test_labels_path}\\n\")\n",
    "\n",
    "lp_test_indexes_path = os.path.join(base_dir, \"lp-test-indexes.npy\")\n",
    "lp_test_indexes = np.arange(0, num_tests)\n",
    "lp_test_neg_indexes = np.repeat(lp_test_indexes, 10)\n",
    "lp_test_indexes = np.concatenate([lp_test_indexes, lp_test_neg_indexes])\n",
    "print(f\"Part of test indexes for link prediction: {lp_test_indexes[:3]}\")\n",
    "np.save(lp_test_indexes_path, lp_test_indexes)\n",
    "print(f\"LP test indexes are saved to {lp_test_indexes_path}\\n\")"
   ]
  },
  {
   "cell_type": "markdown",
   "metadata": {
    "id": "wbk6-wxRK-6S"
   },
   "source": [
    "## Organize Data into YAML File\n",
    "Now we need to create a `metadata.yaml` file which contains the paths, dadta types of graph structure, feature data, training/validation/test sets.\n",
    "\n",
    "Notes:\n",
    "- all path should be relative to `metadata.yaml`.\n",
    "- Below fields are optional and not specified in below example.\n",
    "  - `in_memory`: indicates whether to load dada into memory or `mmap`. Default is `True`.\n",
    "\n",
    "Please refer to [YAML specification](https://github.com/dmlc/dgl/blob/master/docs/source/stochastic_training/ondisk-dataset-specification.rst) for more details."
   ]
  },
  {
   "cell_type": "code",
   "execution_count": 7,
   "metadata": {
    "execution": {
     "iopub.execute_input": "2024-09-29T13:19:35.674678Z",
     "iopub.status.busy": "2024-09-29T13:19:35.674212Z",
     "iopub.status.idle": "2024-09-29T13:19:35.680591Z",
     "shell.execute_reply": "2024-09-29T13:19:35.679792Z"
    },
    "id": "ddGTWW61Lpwp"
   },
   "outputs": [],
   "source": [
    "yaml_content = f\"\"\"\n",
    "    dataset_name: homogeneous_graph_nc_lp\n",
    "    graph:\n",
    "      nodes:\n",
    "        - num: {num_nodes}\n",
    "      edges:\n",
    "        - format: csv\n",
    "          path: {os.path.basename(edges_path)}\n",
    "    feature_data:\n",
    "      - domain: node\n",
    "        name: feat_0\n",
    "        format: numpy\n",
    "        path: {os.path.basename(node_feat_0_path)}\n",
    "      - domain: node\n",
    "        name: feat_1\n",
    "        format: torch\n",
    "        path: {os.path.basename(node_feat_1_path)}\n",
    "      - domain: edge\n",
    "        name: feat_0\n",
    "        format: numpy\n",
    "        path: {os.path.basename(edge_feat_0_path)}\n",
    "      - domain: edge\n",
    "        name: feat_1\n",
    "        format: torch\n",
    "        path: {os.path.basename(edge_feat_1_path)}\n",
    "    tasks:\n",
    "      - name: node_classification\n",
    "        num_classes: 10\n",
    "        train_set:\n",
    "          - data:\n",
    "              - name: seeds\n",
    "                format: numpy\n",
    "                path: {os.path.basename(nc_train_ids_path)}\n",
    "              - name: labels\n",
    "                format: torch\n",
    "                path: {os.path.basename(nc_train_labels_path)}\n",
    "        validation_set:\n",
    "          - data:\n",
    "              - name: seeds\n",
    "                format: numpy\n",
    "                path: {os.path.basename(nc_val_ids_path)}\n",
    "              - name: labels\n",
    "                format: torch\n",
    "                path: {os.path.basename(nc_val_labels_path)}\n",
    "        test_set:\n",
    "          - data:\n",
    "              - name: seeds\n",
    "                format: numpy\n",
    "                path: {os.path.basename(nc_test_ids_path)}\n",
    "              - name: labels\n",
    "                format: torch\n",
    "                path: {os.path.basename(nc_test_labels_path)}\n",
    "      - name: link_prediction\n",
    "        num_classes: 10\n",
    "        train_set:\n",
    "          - data:\n",
    "              - name: seeds\n",
    "                format: numpy\n",
    "                path: {os.path.basename(lp_train_seeds_path)}\n",
    "        validation_set:\n",
    "          - data:\n",
    "              - name: seeds\n",
    "                format: numpy\n",
    "                path: {os.path.basename(lp_val_seeds_path)}\n",
    "              - name: labels\n",
    "                format: numpy\n",
    "                path: {os.path.basename(lp_val_labels_path)}\n",
    "              - name: indexes\n",
    "                format: numpy\n",
    "                path: {os.path.basename(lp_val_indexes_path)}\n",
    "        test_set:\n",
    "          - data:\n",
    "              - name: seeds\n",
    "                format: numpy\n",
    "                path: {os.path.basename(lp_test_seeds_path)}\n",
    "              - name: labels\n",
    "                format: numpy\n",
    "                path: {os.path.basename(lp_test_labels_path)}\n",
    "              - name: indexes\n",
    "                format: numpy\n",
    "                path: {os.path.basename(lp_test_indexes_path)}\n",
    "\"\"\"\n",
    "metadata_path = os.path.join(base_dir, \"metadata.yaml\")\n",
    "with open(metadata_path, \"w\") as f:\n",
    "  f.write(yaml_content)"
   ]
  },
  {
   "cell_type": "markdown",
   "metadata": {
    "id": "kEfybHGhOW7O"
   },
   "source": [
    "## Instantiate `OnDiskDataset`\n",
    "Now we're ready to load dataset via `dgl.graphbolt.OnDiskDataset`. When instantiating, we just pass in the base directory where `metadata.yaml` file lies.\n",
    "\n",
    "During first instantiation, GraphBolt preprocesses the raw data such as constructing `FusedCSCSamplingGraph` from edges. All data including graph, feature data, training/validation/test sets are put into `preprocessed` directory after preprocessing. Any following dataset loading will skip the preprocess stage.\n",
    "\n",
    "After preprocessing, `load()` is required to be called explicitly in order to load graph, feature data and tasks."
   ]
  },
  {
   "cell_type": "code",
   "execution_count": 8,
   "metadata": {
    "execution": {
     "iopub.execute_input": "2024-09-29T13:19:35.682656Z",
     "iopub.status.busy": "2024-09-29T13:19:35.682371Z",
     "iopub.status.idle": "2024-09-29T13:19:35.754243Z",
     "shell.execute_reply": "2024-09-29T13:19:35.753678Z"
    },
    "id": "W58CZoSzOiyo"
   },
   "outputs": [
    {
     "name": "stdout",
     "output_type": "stream",
     "text": [
      "Start to preprocess the on-disk dataset.\n",
      "Finish preprocessing the on-disk dataset.\n",
      "Loaded graph: FusedCSCSamplingGraph(csc_indptr=tensor([    0,    13,    16,  ...,  9965,  9985, 10000], dtype=torch.int32),\n",
      "                      indices=tensor([355, 753, 111,  ..., 502, 679, 335], dtype=torch.int32),\n",
      "                      total_num_nodes=1000, num_edges=10000,)\n",
      "\n",
      "Loaded feature store: TorchBasedFeatureStore(\n",
      "    {(<OnDiskFeatureDataDomain.NODE: 'node'>, None, 'feat_0'): TorchBasedFeature(\n",
      "        feature=tensor([[0.7865, 0.1424, 0.0373, 0.4836, 0.8549],\n",
      "                        [0.6115, 0.5040, 0.5697, 0.4427, 0.5811],\n",
      "                        [0.2334, 0.6543, 0.0172, 0.9402, 0.4056],\n",
      "                        ...,\n",
      "                        [0.7425, 0.6316, 0.8900, 0.8235, 0.6084],\n",
      "                        [0.3387, 0.1332, 0.1408, 0.2646, 0.0500],\n",
      "                        [0.0189, 0.4565, 0.4042, 0.5620, 0.8088]], dtype=torch.float64),\n",
      "        metadata={},\n",
      "    ), (<OnDiskFeatureDataDomain.NODE: 'node'>, None, 'feat_1'): TorchBasedFeature(\n",
      "        feature=tensor([[0.6969, 0.3902, 0.9458, 0.3132, 0.0957],\n",
      "                        [0.7136, 0.2596, 0.2690, 0.3697, 0.5144],\n",
      "                        [0.6784, 0.5070, 0.4049, 0.3454, 0.1089],\n",
      "                        ...,\n",
      "                        [0.1023, 0.5930, 0.1424, 0.0319, 0.3061],\n",
      "                        [0.9182, 0.1653, 0.2261, 0.9821, 0.6686],\n",
      "                        [0.9299, 0.7261, 0.1758, 0.3184, 0.4085]]),\n",
      "        metadata={},\n",
      "    ), (<OnDiskFeatureDataDomain.EDGE: 'edge'>, None, 'feat_0'): TorchBasedFeature(\n",
      "        feature=tensor([[0.6939, 0.3792, 0.8105, 0.0710, 0.3910],\n",
      "                        [0.3723, 0.4381, 0.6737, 0.7629, 0.6413],\n",
      "                        [0.3360, 0.1641, 0.4425, 0.6550, 0.1462],\n",
      "                        ...,\n",
      "                        [0.6509, 0.7268, 0.7584, 0.2662, 0.9206],\n",
      "                        [0.5741, 0.5531, 0.3380, 0.4552, 0.0539],\n",
      "                        [0.0737, 0.7737, 0.3437, 0.5646, 0.9582]], dtype=torch.float64),\n",
      "        metadata={},\n",
      "    ), (<OnDiskFeatureDataDomain.EDGE: 'edge'>, None, 'feat_1'): TorchBasedFeature(\n",
      "        feature=tensor([[0.8740, 0.8117, 0.2892, 0.2202, 0.7692],\n",
      "                        [0.7331, 0.3041, 0.9057, 0.8462, 0.6927],\n",
      "                        [0.0570, 0.8732, 0.9461, 0.3173, 0.2177],\n",
      "                        ...,\n",
      "                        [0.4934, 0.4432, 0.5010, 0.7804, 0.5342],\n",
      "                        [0.8438, 0.2464, 0.5292, 0.7761, 0.8325],\n",
      "                        [0.8424, 0.9452, 0.5550, 0.8349, 0.3355]]),\n",
      "        metadata={},\n",
      "    )}\n",
      ")\n",
      "\n",
      "Loaded node classification task: OnDiskTask(validation_set=ItemSet(\n",
      "               items=(tensor([291, 843, 647, 423, 767, 863, 425, 444, 946, 311,  35, 759, 568, 918,\n",
      "                   618,  81,  12, 377,  83, 527, 486, 286, 463, 944, 348, 752, 695, 769,\n",
      "                   459, 266, 737, 783, 440, 722, 902, 166, 738,  61,  68, 675, 770, 220,\n",
      "                    60, 781, 565, 460, 891, 869, 838, 976, 768, 596, 585, 958, 713, 516,\n",
      "                   296, 151, 105, 777, 832, 600, 437,  36, 427, 578, 602, 908, 447, 252,\n",
      "                   845, 439, 223, 249, 609, 399, 685, 135, 810, 115, 896, 784, 500,  97,\n",
      "                   697, 859, 269, 853, 364, 680, 952, 485, 326, 208, 415, 638, 407, 551,\n",
      "                   270, 183, 419, 656, 478, 974, 533, 979,  38, 469, 571,  59, 309, 653,\n",
      "                   700, 471, 382, 275, 800, 475,  14,  78, 177,  47, 558, 950, 378, 598,\n",
      "                   540, 126, 880, 591, 797,  82, 703, 580, 774, 150, 299, 498, 837, 704,\n",
      "                   237, 816, 261, 243, 623, 168,  90, 696, 644, 982, 583, 354, 210, 189,\n",
      "                   290, 678, 512, 534, 161, 940, 660, 464, 218, 715, 924, 328, 192, 406,\n",
      "                   635, 434, 171, 398, 856, 404, 871, 640, 190, 937, 238, 259,  76, 184,\n",
      "                   968, 351, 304, 250, 433, 101, 587, 140, 790, 417, 542, 854, 614, 186,\n",
      "                   373, 815, 929, 247], dtype=torch.int32), tensor([3, 1, 0, 8, 0, 2, 2, 0, 2, 4, 8, 6, 2, 9, 9, 9, 3, 6, 6, 5, 8, 3, 8, 9,\n",
      "                   2, 5, 8, 4, 4, 5, 4, 7, 8, 9, 9, 3, 6, 3, 0, 2, 1, 2, 8, 0, 4, 6, 2, 0,\n",
      "                   7, 5, 6, 6, 0, 1, 2, 0, 9, 1, 3, 4, 1, 4, 0, 3, 1, 1, 6, 2, 4, 0, 0, 1,\n",
      "                   2, 8, 9, 4, 8, 4, 5, 0, 2, 6, 3, 0, 4, 1, 2, 3, 3, 0, 2, 2, 0, 3, 3, 1,\n",
      "                   4, 2, 0, 8, 6, 6, 7, 9, 8, 2, 4, 5, 0, 3, 0, 9, 3, 2, 1, 5, 6, 9, 3, 3,\n",
      "                   6, 6, 7, 4, 5, 5, 6, 9, 6, 1, 1, 7, 7, 6, 4, 7, 5, 8, 0, 7, 4, 5, 2, 6,\n",
      "                   4, 5, 6, 5, 4, 3, 3, 4, 8, 9, 7, 1, 2, 9, 2, 2, 4, 8, 4, 1, 9, 2, 9, 5,\n",
      "                   5, 8, 8, 0, 6, 6, 0, 3, 3, 8, 0, 5, 0, 0, 0, 4, 0, 4, 4, 0, 2, 5, 1, 3,\n",
      "                   8, 7, 2, 8, 2, 1, 4, 3])),\n",
      "               names=('seeds', 'labels'),\n",
      "           ),\n",
      "           train_set=ItemSet(\n",
      "               items=(tensor([723, 917, 548, 828, 301, 356, 181, 340, 764, 740, 860,  94, 930, 230,\n",
      "                     2, 524, 531, 827, 158, 594, 630, 343, 562, 927, 450,  15, 136, 133,\n",
      "                   156, 169, 307, 145, 109, 310, 835, 428, 986, 679, 321, 505, 796, 726,\n",
      "                   825, 743, 794, 332, 312, 131, 676, 613,  62, 532, 851, 822,  74, 601,\n",
      "                   144, 346, 273, 572,  72, 780, 817, 563, 893, 951, 366, 761, 886, 865,\n",
      "                   792, 446, 111, 746, 482, 480, 694, 739, 363, 844, 561, 352, 365,  93,\n",
      "                   720, 383, 658, 394, 488,   0, 409, 359, 337, 159, 793, 963, 509, 251,\n",
      "                     8, 786, 214,   1, 912, 355, 975, 125, 106, 344, 621, 849, 122, 479,\n",
      "                   709, 182, 369, 165, 734, 203, 313, 421,  86, 610, 483, 514, 569, 657,\n",
      "                   416, 167, 173, 756, 233,  18, 370, 885, 779, 202, 788, 584, 868, 661,\n",
      "                   725, 318, 872,  10, 915, 931, 785, 581,  55, 882, 381, 143, 830, 491,\n",
      "                   864, 690, 200, 987,  33, 179, 698, 268, 961, 691, 285, 279,  44, 985,\n",
      "                   727, 721, 702, 148, 577, 172, 206, 522,  26, 124, 655, 504, 883, 379,\n",
      "                   664, 753, 906, 652, 280, 894,  50, 606, 593, 257, 239, 384, 278, 508,\n",
      "                    91, 831, 556, 357, 719, 320, 550, 112,  67, 389,  84, 823, 733, 996,\n",
      "                   217, 744, 530, 353, 272, 555, 539, 824, 668, 984, 994, 576, 588, 706,\n",
      "                   449, 866, 748, 188, 855, 607, 745, 391, 809, 693, 372, 803, 772, 683,\n",
      "                    39, 466, 100, 519, 454, 672, 274, 513, 624, 834, 442, 622, 387, 435,\n",
      "                   852, 236, 430, 211, 113, 714, 260, 413, 396, 347, 966, 436,  69, 631,\n",
      "                   955,  70, 374, 451, 146, 287, 104, 116, 317, 628, 386, 547, 468, 518,\n",
      "                   465,  85, 432, 812,  87, 536, 426, 315, 732, 134, 395, 750, 988, 235,\n",
      "                   964, 267, 926, 510, 456, 330, 128,  96,  21, 983, 933, 448, 327, 543,\n",
      "                   688, 833, 941,  16, 575, 227, 241, 711, 284, 957, 187, 801, 791, 836,\n",
      "                   807, 645, 751, 677, 684, 390, 515, 226, 641, 303, 909, 923, 248, 209,\n",
      "                   848, 368, 559, 651, 205, 595, 420, 342, 234, 523,  63, 718, 529, 493,\n",
      "                    46, 490, 674, 380,  24, 895, 130, 730, 400, 362,  27, 339, 911, 549,\n",
      "                   305, 334, 805, 782, 637,  29, 928, 806, 960,  92, 541, 319,  40, 258,\n",
      "                     9, 599, 405, 914, 570, 221, 956, 393, 314, 392, 295, 980,  54, 254,\n",
      "                    73, 829, 811, 735, 424, 507, 324, 329, 429, 670,  11, 773, 277, 617,\n",
      "                    52, 582, 650, 212, 846,  88, 537, 245, 255,  89, 345, 499, 481, 283,\n",
      "                   271, 813, 452, 776,  30, 472, 110, 716,  95, 403, 959, 731, 445, 819,\n",
      "                   195, 322, 712, 566, 502,  57, 701, 484, 414, 689,  17, 649, 467, 841,\n",
      "                   325, 592, 989, 766, 948, 636, 662, 385, 967, 705, 998, 564, 938, 760,\n",
      "                    49, 990, 557,   7,  77, 625, 422, 545, 742,  37, 589, 132, 153, 495,\n",
      "                   925, 965, 804, 620, 333, 858, 300, 897, 663, 900, 298, 942,  51, 665,\n",
      "                    48, 139, 913, 741, 240, 669, 648, 371, 117, 176, 699,  66, 626, 889,\n",
      "                   763, 997,  42, 147, 553, 991, 473, 943, 971, 246, 953, 526, 554, 244,\n",
      "                     4, 282,  43, 215,  80, 341, 517, 671, 160, 682, 643, 127, 222, 175,\n",
      "                   152, 224, 412, 839, 802, 376, 977, 922, 162, 642, 654, 687, 253, 288,\n",
      "                   919,  19, 201, 798,  58, 627, 141, 887, 681, 639, 840, 765,  64, 954,\n",
      "                   331,  20, 388,  31, 358, 297, 710, 762, 876, 361,  56, 178, 441, 874,\n",
      "                   461, 264, 350, 632, 546, 281, 438, 121, 920, 216, 457, 198, 120,  23,\n",
      "                   129, 401, 492, 612, 163, 619, 431, 877, 262, 511, 560, 199],\n",
      "                  dtype=torch.int32), tensor([0, 8, 2, 2, 1, 9, 2, 0, 8, 5, 0, 3, 5, 7, 6, 2, 0, 4, 1, 8, 6, 0, 3, 0,\n",
      "                   4, 8, 0, 3, 2, 5, 7, 0, 0, 2, 4, 3, 3, 2, 6, 7, 4, 3, 1, 3, 7, 1, 8, 9,\n",
      "                   9, 0, 5, 4, 9, 2, 4, 6, 3, 7, 0, 1, 4, 5, 8, 3, 0, 1, 2, 9, 0, 7, 1, 9,\n",
      "                   2, 5, 9, 0, 7, 4, 7, 1, 0, 3, 4, 3, 8, 0, 0, 9, 8, 3, 5, 5, 4, 4, 7, 0,\n",
      "                   4, 1, 7, 0, 4, 4, 0, 5, 9, 8, 9, 5, 1, 2, 2, 4, 2, 3, 7, 1, 0, 3, 2, 5,\n",
      "                   7, 2, 6, 3, 4, 3, 0, 8, 9, 9, 4, 7, 4, 5, 1, 6, 7, 0, 3, 5, 1, 7, 9, 1,\n",
      "                   9, 7, 7, 9, 2, 4, 3, 0, 9, 3, 9, 9, 4, 8, 5, 4, 0, 7, 1, 0, 6, 6, 5, 7,\n",
      "                   3, 0, 6, 0, 7, 6, 9, 0, 1, 9, 0, 2, 4, 5, 6, 2, 2, 8, 5, 6, 0, 1, 1, 2,\n",
      "                   6, 9, 0, 9, 5, 0, 9, 2, 1, 2, 2, 4, 1, 5, 3, 4, 7, 4, 1, 7, 0, 9, 2, 2,\n",
      "                   0, 9, 8, 9, 0, 8, 5, 5, 5, 7, 8, 1, 9, 7, 8, 3, 8, 0, 5, 8, 6, 1, 7, 5,\n",
      "                   3, 7, 6, 8, 9, 2, 9, 6, 8, 5, 9, 1, 3, 7, 7, 3, 1, 4, 8, 4, 1, 6, 4, 9,\n",
      "                   3, 1, 9, 7, 2, 5, 1, 7, 7, 0, 4, 7, 4, 3, 7, 3, 6, 9, 9, 7, 3, 9, 0, 9,\n",
      "                   9, 4, 5, 7, 2, 7, 1, 5, 4, 0, 9, 4, 5, 9, 2, 4, 0, 2, 4, 2, 1, 5, 0, 4,\n",
      "                   3, 9, 1, 8, 0, 5, 7, 6, 6, 1, 1, 8, 8, 6, 8, 9, 4, 6, 0, 3, 4, 0, 1, 9,\n",
      "                   7, 2, 9, 0, 0, 8, 9, 8, 5, 5, 1, 9, 3, 2, 0, 9, 7, 6, 2, 2, 8, 9, 7, 7,\n",
      "                   6, 9, 8, 2, 6, 6, 1, 9, 9, 7, 4, 7, 3, 7, 2, 6, 8, 5, 6, 0, 9, 1, 2, 4,\n",
      "                   9, 5, 8, 6, 1, 6, 6, 1, 1, 1, 5, 9, 4, 4, 1, 2, 3, 7, 7, 2, 4, 4, 9, 4,\n",
      "                   3, 7, 6, 0, 6, 6, 7, 8, 9, 9, 3, 7, 2, 7, 6, 4, 9, 9, 8, 4, 2, 9, 2, 9,\n",
      "                   1, 1, 9, 2, 0, 0, 1, 3, 5, 8, 1, 9, 7, 0, 6, 2, 6, 0, 0, 3, 9, 2, 7, 5,\n",
      "                   8, 2, 3, 8, 8, 0, 5, 3, 8, 8, 1, 1, 9, 0, 6, 4, 1, 3, 5, 3, 6, 1, 9, 8,\n",
      "                   9, 1, 0, 9, 7, 0, 1, 6, 3, 6, 2, 0, 8, 0, 4, 3, 1, 1, 7, 1, 7, 3, 3, 5,\n",
      "                   6, 6, 6, 0, 3, 4, 5, 3, 5, 0, 2, 1, 4, 7, 4, 6, 8, 5, 4, 2, 2, 2, 7, 1,\n",
      "                   8, 1, 2, 1, 5, 4, 1, 7, 8, 3, 8, 9, 4, 6, 4, 9, 1, 8, 6, 1, 7, 1, 2, 5,\n",
      "                   6, 8, 2, 0, 4, 2, 7, 6, 9, 9, 7, 9, 6, 5, 2, 2, 5, 1, 9, 2, 6, 9, 0, 2,\n",
      "                   9, 3, 1, 8, 7, 5, 3, 1, 5, 8, 4, 6, 8, 7, 0, 2, 4, 9, 9, 8, 6, 1, 9, 1])),\n",
      "               names=('seeds', 'labels'),\n",
      "           ),\n",
      "           test_set=ItemSet(\n",
      "               items=(tensor([418, 729, 904, 118, 939, 501, 755, 544, 736, 692, 862, 232, 453, 107,\n",
      "                   219, 323, 905, 861, 138, 673, 586, 992, 775, 119, 123, 411, 892, 932,\n",
      "                   590, 935, 462, 916, 611, 256, 196, 154, 907, 102, 633, 747, 873, 455,\n",
      "                   293, 474, 878, 302,  75, 191, 496, 265, 579, 604, 949, 881, 289,  71,\n",
      "                   666, 757, 724,  99, 707, 847, 970,  34, 470, 758, 850, 204,  22, 157,\n",
      "                    32, 879, 634, 397, 978, 857, 197, 521, 263,  98, 476, 194, 899, 728,\n",
      "                   349, 137, 207, 410, 552, 573, 605, 962, 503, 213, 936, 164, 528, 574,\n",
      "                    13, 754, 717, 506, 292, 316,  28, 308, 789, 947, 375, 497, 787, 108,\n",
      "                   995, 185, 443, 494, 229, 826, 616, 884, 367, 487,  65, 659, 870, 276,\n",
      "                   799, 842, 335, 170, 535, 155, 910, 489, 821, 615, 686, 180, 934, 142,\n",
      "                   114, 708, 999,  45,  41, 795, 972, 225, 174, 608,  79,   5, 458, 306,\n",
      "                   567, 477, 993, 242, 294, 875, 921, 898, 814, 818, 103, 969, 981, 538,\n",
      "                   228, 360, 525, 901, 629, 867, 771, 749, 336, 149, 890, 945,   6, 338,\n",
      "                   808, 973,  53, 903, 520, 603, 667, 597, 231, 646, 778, 820, 888, 408,\n",
      "                   193,  25,   3, 402], dtype=torch.int32), tensor([7, 3, 5, 6, 1, 3, 7, 1, 5, 5, 8, 5, 0, 5, 2, 7, 4, 6, 4, 6, 4, 9, 0, 7,\n",
      "                   6, 3, 2, 9, 9, 2, 6, 9, 2, 4, 0, 5, 2, 5, 0, 2, 6, 0, 2, 4, 9, 1, 6, 0,\n",
      "                   1, 3, 5, 0, 5, 5, 3, 3, 1, 4, 5, 5, 8, 8, 9, 1, 7, 0, 5, 1, 2, 1, 5, 2,\n",
      "                   1, 3, 8, 9, 3, 6, 1, 0, 4, 6, 0, 1, 1, 3, 4, 5, 9, 2, 7, 3, 2, 9, 2, 7,\n",
      "                   7, 4, 7, 0, 1, 9, 8, 2, 4, 6, 3, 7, 3, 7, 9, 8, 0, 1, 2, 2, 8, 7, 4, 1,\n",
      "                   3, 4, 2, 5, 4, 1, 7, 7, 7, 9, 7, 1, 4, 5, 9, 8, 6, 4, 5, 3, 8, 2, 8, 1,\n",
      "                   0, 1, 7, 0, 1, 8, 3, 6, 7, 7, 4, 5, 2, 1, 1, 1, 8, 5, 8, 3, 1, 5, 9, 2,\n",
      "                   2, 7, 7, 9, 4, 1, 2, 1, 1, 9, 9, 0, 9, 9, 3, 5, 9, 9, 0, 7, 2, 6, 0, 1,\n",
      "                   8, 1, 4, 2, 1, 8, 5, 5])),\n",
      "               names=('seeds', 'labels'),\n",
      "           ),\n",
      "           metadata={'name': 'node_classification', 'num_classes': 10},)\n",
      "\n",
      "Loaded link prediction task: OnDiskTask(validation_set=ItemSet(\n",
      "               items=(tensor([[926, 537],\n",
      "                   [135,  82],\n",
      "                   [547, 344],\n",
      "                   ...,\n",
      "                   [266, 142],\n",
      "                   [266, 987],\n",
      "                   [266, 616]], dtype=torch.int32), tensor([1., 1., 1.,  ..., 0., 0., 0.], dtype=torch.float64), tensor([   0,    1,    2,  ..., 1999, 1999, 1999])),\n",
      "               names=('seeds', 'labels', 'indexes'),\n",
      "           ),\n",
      "           train_set=ItemSet(\n",
      "               items=(tensor([[227, 940],\n",
      "                   [  3,  75],\n",
      "                   [717, 350],\n",
      "                   ...,\n",
      "                   [519, 632],\n",
      "                   [ 55, 540],\n",
      "                   [465, 720]], dtype=torch.int32),),\n",
      "               names=('seeds',),\n",
      "           ),\n",
      "           test_set=ItemSet(\n",
      "               items=(tensor([[559, 192],\n",
      "                   [902, 876],\n",
      "                   [848, 417],\n",
      "                   ...,\n",
      "                   [391, 661],\n",
      "                   [391, 363],\n",
      "                   [391, 248]], dtype=torch.int32), tensor([1., 1., 1.,  ..., 0., 0., 0.], dtype=torch.float64), tensor([   0,    1,    2,  ..., 1999, 1999, 1999])),\n",
      "               names=('seeds', 'labels', 'indexes'),\n",
      "           ),\n",
      "           metadata={'name': 'link_prediction', 'num_classes': 10},)\n",
      "\n"
     ]
    },
    {
     "name": "stderr",
     "output_type": "stream",
     "text": [
      "/dgl/python/dgl/graphbolt/impl/ondisk_dataset.py:463: GBWarning: Edge feature is stored, but edge IDs are not saved.\n",
      "  gb_warning(\"Edge feature is stored, but edge IDs are not saved.\")\n"
     ]
    }
   ],
   "source": [
    "dataset = gb.OnDiskDataset(base_dir).load()\n",
    "graph = dataset.graph\n",
    "print(f\"Loaded graph: {graph}\\n\")\n",
    "\n",
    "feature = dataset.feature\n",
    "print(f\"Loaded feature store: {feature}\\n\")\n",
    "\n",
    "tasks = dataset.tasks\n",
    "nc_task = tasks[0]\n",
    "print(f\"Loaded node classification task: {nc_task}\\n\")\n",
    "lp_task = tasks[1]\n",
    "print(f\"Loaded link prediction task: {lp_task}\\n\")"
   ]
  }
 ],
 "metadata": {
  "colab": {
   "private_outputs": true,
   "provenance": []
  },
  "kernelspec": {
   "display_name": "Python 3",
   "name": "python3"
  },
  "language_info": {
   "codemirror_mode": {
    "name": "ipython",
    "version": 3
   },
   "file_extension": ".py",
   "mimetype": "text/x-python",
   "name": "python",
   "nbconvert_exporter": "python",
   "pygments_lexer": "ipython3",
   "version": "3.10.15"
  }
 },
 "nbformat": 4,
 "nbformat_minor": 0
}

{
 "cells": [
  {
   "cell_type": "markdown",
   "metadata": {
    "id": "FnFhPMaAfLtJ"
   },
   "source": [
    "# OnDiskDataset for Homogeneous Graph\n",
    "\n",
    "[![Open In Colab](https://colab.research.google.com/assets/colab-badge.svg)](https://colab.research.google.com/github/dmlc/dgl/blob/master/notebooks/stochastic_training/ondisk_dataset_homograph.ipynb) [![GitHub](https://img.shields.io/badge/-View%20on%20GitHub-181717?logo=github&logoColor=ffffff)](https://github.com/dmlc/dgl/blob/master/notebooks/stochastic_training/ondisk_dataset_homograph.ipynb)\n",
    "\n",
    "This tutorial shows how to create `OnDiskDataset` for homogeneous graph that could be used in **GraphBolt** framework.\n",
    "\n",
    "By the end of this tutorial, you will be able to\n",
    "\n",
    "- organize graph structure data.\n",
    "- organize feature data.\n",
    "- organize training/validation/test set for specific tasks.\n",
    "\n",
    "To create an ``OnDiskDataset`` object, you need to organize all the data including graph structure, feature data and tasks into a directory. The directory should contain a ``metadata.yaml`` file that describes the metadata of the dataset.\n",
    "\n",
    "Now let's generate various data step by step and organize them together to instantiate `OnDiskDataset` finally."
   ]
  },
  {
   "cell_type": "markdown",
   "metadata": {
    "id": "Wlb19DtWgtzq"
   },
   "source": [
    "## Install DGL package"
   ]
  },
  {
   "cell_type": "code",
   "execution_count": 1,
   "metadata": {
    "execution": {
     "iopub.execute_input": "2024-09-22T13:20:07.042817Z",
     "iopub.status.busy": "2024-09-22T13:20:07.042307Z",
     "iopub.status.idle": "2024-09-22T13:20:10.067963Z",
     "shell.execute_reply": "2024-09-22T13:20:10.065161Z"
    },
    "id": "UojlT9ZGgyr9"
   },
   "outputs": [
    {
     "name": "stdout",
     "output_type": "stream",
     "text": [
      "Looking in links: https://data.dgl.ai/wheels-test/repo.html\r\n",
      "Requirement already satisfied: dgl in /opt/conda/envs/dgl-dev-cpu/lib/python3.10/site-packages (2.2a240410)\r\n",
      "Requirement already satisfied: numpy>=1.14.0 in /opt/conda/envs/dgl-dev-cpu/lib/python3.10/site-packages (from dgl) (1.26.4)\r\n",
      "Requirement already satisfied: scipy>=1.1.0 in /opt/conda/envs/dgl-dev-cpu/lib/python3.10/site-packages (from dgl) (1.14.1)\r\n",
      "Requirement already satisfied: networkx>=2.1 in /opt/conda/envs/dgl-dev-cpu/lib/python3.10/site-packages (from dgl) (3.3)\r\n",
      "Requirement already satisfied: requests>=2.19.0 in /opt/conda/envs/dgl-dev-cpu/lib/python3.10/site-packages (from dgl) (2.32.3)\r\n",
      "Requirement already satisfied: tqdm in /opt/conda/envs/dgl-dev-cpu/lib/python3.10/site-packages (from dgl) (4.66.5)\r\n",
      "Requirement already satisfied: psutil>=5.8.0 in /opt/conda/envs/dgl-dev-cpu/lib/python3.10/site-packages (from dgl) (6.0.0)\r\n",
      "Requirement already satisfied: torchdata>=0.5.0 in /opt/conda/envs/dgl-dev-cpu/lib/python3.10/site-packages (from dgl) (0.8.0)\r\n",
      "Requirement already satisfied: pandas in /opt/conda/envs/dgl-dev-cpu/lib/python3.10/site-packages (from dgl) (2.2.3)\r\n"
     ]
    },
    {
     "name": "stdout",
     "output_type": "stream",
     "text": [
      "Requirement already satisfied: charset-normalizer<4,>=2 in /opt/conda/envs/dgl-dev-cpu/lib/python3.10/site-packages (from requests>=2.19.0->dgl) (3.3.2)\r\n",
      "Requirement already satisfied: idna<4,>=2.5 in /opt/conda/envs/dgl-dev-cpu/lib/python3.10/site-packages (from requests>=2.19.0->dgl) (3.10)\r\n",
      "Requirement already satisfied: urllib3<3,>=1.21.1 in /opt/conda/envs/dgl-dev-cpu/lib/python3.10/site-packages (from requests>=2.19.0->dgl) (2.2.3)\r\n",
      "Requirement already satisfied: certifi>=2017.4.17 in /opt/conda/envs/dgl-dev-cpu/lib/python3.10/site-packages (from requests>=2.19.0->dgl) (2024.8.30)\r\n",
      "Requirement already satisfied: torch>=2 in /opt/conda/envs/dgl-dev-cpu/lib/python3.10/site-packages (from torchdata>=0.5.0->dgl) (2.1.0+cpu)\r\n"
     ]
    },
    {
     "name": "stdout",
     "output_type": "stream",
     "text": [
      "Requirement already satisfied: python-dateutil>=2.8.2 in /opt/conda/envs/dgl-dev-cpu/lib/python3.10/site-packages (from pandas->dgl) (2.9.0.post0)\r\n",
      "Requirement already satisfied: pytz>=2020.1 in /opt/conda/envs/dgl-dev-cpu/lib/python3.10/site-packages (from pandas->dgl) (2024.2)\r\n",
      "Requirement already satisfied: tzdata>=2022.7 in /opt/conda/envs/dgl-dev-cpu/lib/python3.10/site-packages (from pandas->dgl) (2024.1)\r\n",
      "Requirement already satisfied: six>=1.5 in /opt/conda/envs/dgl-dev-cpu/lib/python3.10/site-packages (from python-dateutil>=2.8.2->pandas->dgl) (1.16.0)\r\n",
      "Requirement already satisfied: filelock in /opt/conda/envs/dgl-dev-cpu/lib/python3.10/site-packages (from torch>=2->torchdata>=0.5.0->dgl) (3.16.1)\r\n",
      "Requirement already satisfied: typing-extensions in /opt/conda/envs/dgl-dev-cpu/lib/python3.10/site-packages (from torch>=2->torchdata>=0.5.0->dgl) (4.12.2)\r\n",
      "Requirement already satisfied: sympy in /opt/conda/envs/dgl-dev-cpu/lib/python3.10/site-packages (from torch>=2->torchdata>=0.5.0->dgl) (1.13.3)\r\n",
      "Requirement already satisfied: jinja2 in /opt/conda/envs/dgl-dev-cpu/lib/python3.10/site-packages (from torch>=2->torchdata>=0.5.0->dgl) (3.1.4)\r\n",
      "Requirement already satisfied: fsspec in /opt/conda/envs/dgl-dev-cpu/lib/python3.10/site-packages (from torch>=2->torchdata>=0.5.0->dgl) (2024.9.0)\r\n"
     ]
    },
    {
     "name": "stdout",
     "output_type": "stream",
     "text": [
      "Requirement already satisfied: MarkupSafe>=2.0 in /opt/conda/envs/dgl-dev-cpu/lib/python3.10/site-packages (from jinja2->torch>=2->torchdata>=0.5.0->dgl) (2.1.5)\r\n",
      "Requirement already satisfied: mpmath<1.4,>=1.1.0 in /opt/conda/envs/dgl-dev-cpu/lib/python3.10/site-packages (from sympy->torch>=2->torchdata>=0.5.0->dgl) (1.3.0)\r\n"
     ]
    },
    {
     "name": "stdout",
     "output_type": "stream",
     "text": [
      "\u001b[33mWARNING: Running pip as the 'root' user can result in broken permissions and conflicting behaviour with the system package manager, possibly rendering your system unusable.It is recommended to use a virtual environment instead: https://pip.pypa.io/warnings/venv. Use the --root-user-action option if you know what you are doing and want to suppress this warning.\u001b[0m\u001b[33m\r\n",
      "\u001b[0m"
     ]
    },
    {
     "name": "stdout",
     "output_type": "stream",
     "text": [
      "DGL installed!\n"
     ]
    }
   ],
   "source": [
    "# Install required packages.\n",
    "import os\n",
    "import torch\n",
    "import numpy as np\n",
    "os.environ['TORCH'] = torch.__version__\n",
    "os.environ['DGLBACKEND'] = \"pytorch\"\n",
    "\n",
    "# Install the CPU version.\n",
    "device = torch.device(\"cpu\")\n",
    "!pip install --pre dgl -f https://data.dgl.ai/wheels-test/repo.html\n",
    "\n",
    "try:\n",
    "    import dgl\n",
    "    import dgl.graphbolt as gb\n",
    "    installed = True\n",
    "except ImportError as error:\n",
    "    installed = False\n",
    "    print(error)\n",
    "print(\"DGL installed!\" if installed else \"DGL not found!\")"
   ]
  },
  {
   "cell_type": "markdown",
   "metadata": {
    "id": "2R7WnSbjsfbr"
   },
   "source": [
    "## Data preparation\n",
    "In order to demonstrate how to organize various data, let's create a base directory first."
   ]
  },
  {
   "cell_type": "code",
   "execution_count": 2,
   "metadata": {
    "execution": {
     "iopub.execute_input": "2024-09-22T13:20:10.071111Z",
     "iopub.status.busy": "2024-09-22T13:20:10.070413Z",
     "iopub.status.idle": "2024-09-22T13:20:10.076212Z",
     "shell.execute_reply": "2024-09-22T13:20:10.075178Z"
    },
    "id": "SZipbzyltLfO"
   },
   "outputs": [
    {
     "name": "stdout",
     "output_type": "stream",
     "text": [
      "Created base directory: ./ondisk_dataset_homograph\n"
     ]
    }
   ],
   "source": [
    "base_dir = './ondisk_dataset_homograph'\n",
    "os.makedirs(base_dir, exist_ok=True)\n",
    "print(f\"Created base directory: {base_dir}\")"
   ]
  },
  {
   "cell_type": "markdown",
   "metadata": {
    "id": "qhNtIn_xhlnl"
   },
   "source": [
    "### Generate graph structure data\n",
    "For homogeneous graph, we just need to save edges(namely seeds) into  **Numpy** or **CSV** file.\n",
    "\n",
    "Note:\n",
    "- when saving to **Numpy**, the array requires to be in shape of `(2, N)`. This format is recommended as constructing graph from it is much faster than **CSV** file.\n",
    "- when saving to **CSV** file, do not save index and header.\n"
   ]
  },
  {
   "cell_type": "code",
   "execution_count": 3,
   "metadata": {
    "execution": {
     "iopub.execute_input": "2024-09-22T13:20:10.078884Z",
     "iopub.status.busy": "2024-09-22T13:20:10.078690Z",
     "iopub.status.idle": "2024-09-22T13:20:10.092943Z",
     "shell.execute_reply": "2024-09-22T13:20:10.092021Z"
    },
    "id": "HcBt4G5BmSjr"
   },
   "outputs": [
    {
     "name": "stdout",
     "output_type": "stream",
     "text": [
      "Part of edges: [[977 322]\n",
      " [884 595]\n",
      " [394 956]\n",
      " [110 133]\n",
      " [707  66]]\n",
      "Edges are saved into ./ondisk_dataset_homograph/edges.csv\n"
     ]
    }
   ],
   "source": [
    "import numpy as np\n",
    "import pandas as pd\n",
    "num_nodes = 1000\n",
    "num_edges = 10 * num_nodes\n",
    "edges_path = os.path.join(base_dir, \"edges.csv\")\n",
    "edges = np.random.randint(0, num_nodes, size=(num_edges, 2))\n",
    "\n",
    "print(f\"Part of edges: {edges[:5, :]}\")\n",
    "\n",
    "df = pd.DataFrame(edges)\n",
    "df.to_csv(edges_path, index=False, header=False)\n",
    "\n",
    "print(f\"Edges are saved into {edges_path}\")"
   ]
  },
  {
   "cell_type": "markdown",
   "metadata": {
    "id": "kh-4cPtzpcaH"
   },
   "source": [
    "### Generate feature data for graph\n",
    "For feature data, numpy arrays and torch tensors are supported for now."
   ]
  },
  {
   "cell_type": "code",
   "execution_count": 4,
   "metadata": {
    "execution": {
     "iopub.execute_input": "2024-09-22T13:20:10.095216Z",
     "iopub.status.busy": "2024-09-22T13:20:10.095018Z",
     "iopub.status.idle": "2024-09-22T13:20:10.108713Z",
     "shell.execute_reply": "2024-09-22T13:20:10.107900Z"
    },
    "id": "_PVu1u5brBhF"
   },
   "outputs": [
    {
     "name": "stdout",
     "output_type": "stream",
     "text": [
      "Part of node feature [feat_0]: [[0.69885648 0.19054891 0.12949592 0.10843901 0.43629719]\n",
      " [0.49258547 0.97506759 0.11386994 0.04192045 0.59712983]\n",
      " [0.48643668 0.3603062  0.00649853 0.98984806 0.12819437]]\n",
      "Node feature [feat_0] is saved to ./ondisk_dataset_homograph/node-feat-0.npy\n",
      "\n",
      "Part of node feature [feat_1]: tensor([[0.8523, 0.9237, 0.4093, 0.3985, 0.6568],\n",
      "        [0.5970, 0.0163, 0.1693, 0.4056, 0.1870],\n",
      "        [0.0255, 0.6791, 0.5840, 0.4819, 0.2703]])\n",
      "Node feature [feat_1] is saved to ./ondisk_dataset_homograph/node-feat-1.pt\n",
      "\n",
      "Part of edge feature [feat_0]: [[0.17759335 0.88345345 0.41537183 0.68403909 0.49177323]\n",
      " [0.9704555  0.41061823 0.99762789 0.55644089 0.81501692]\n",
      " [0.22869058 0.47046829 0.96969303 0.79182875 0.7682303 ]]\n",
      "Edge feature [feat_0] is saved to ./ondisk_dataset_homograph/edge-feat-0.npy\n",
      "\n",
      "Part of edge feature [feat_1]: tensor([[0.5827, 0.4109, 0.6960, 0.7031, 0.2699],\n",
      "        [0.3892, 0.6883, 0.0156, 0.3448, 0.4180],\n",
      "        [0.1952, 0.0455, 0.4454, 0.6892, 0.7927]])\n",
      "Edge feature [feat_1] is saved to ./ondisk_dataset_homograph/edge-feat-1.pt\n",
      "\n"
     ]
    }
   ],
   "source": [
    "# Generate node feature in numpy array.\n",
    "node_feat_0_path = os.path.join(base_dir, \"node-feat-0.npy\")\n",
    "node_feat_0 = np.random.rand(num_nodes, 5)\n",
    "print(f\"Part of node feature [feat_0]: {node_feat_0[:3, :]}\")\n",
    "np.save(node_feat_0_path, node_feat_0)\n",
    "print(f\"Node feature [feat_0] is saved to {node_feat_0_path}\\n\")\n",
    "\n",
    "# Generate another node feature in torch tensor\n",
    "node_feat_1_path = os.path.join(base_dir, \"node-feat-1.pt\")\n",
    "node_feat_1 = torch.rand(num_nodes, 5)\n",
    "print(f\"Part of node feature [feat_1]: {node_feat_1[:3, :]}\")\n",
    "torch.save(node_feat_1, node_feat_1_path)\n",
    "print(f\"Node feature [feat_1] is saved to {node_feat_1_path}\\n\")\n",
    "\n",
    "# Generate edge feature in numpy array.\n",
    "edge_feat_0_path = os.path.join(base_dir, \"edge-feat-0.npy\")\n",
    "edge_feat_0 = np.random.rand(num_edges, 5)\n",
    "print(f\"Part of edge feature [feat_0]: {edge_feat_0[:3, :]}\")\n",
    "np.save(edge_feat_0_path, edge_feat_0)\n",
    "print(f\"Edge feature [feat_0] is saved to {edge_feat_0_path}\\n\")\n",
    "\n",
    "# Generate another edge feature in torch tensor\n",
    "edge_feat_1_path = os.path.join(base_dir, \"edge-feat-1.pt\")\n",
    "edge_feat_1 = torch.rand(num_edges, 5)\n",
    "print(f\"Part of edge feature [feat_1]: {edge_feat_1[:3, :]}\")\n",
    "torch.save(edge_feat_1, edge_feat_1_path)\n",
    "print(f\"Edge feature [feat_1] is saved to {edge_feat_1_path}\\n\")\n"
   ]
  },
  {
   "cell_type": "markdown",
   "metadata": {
    "id": "ZyqgOtsIwzh_"
   },
   "source": [
    "### Generate tasks\n",
    "`OnDiskDataset` supports multiple tasks. For each task, we need to prepare training/validation/test sets respectively. Such sets usually vary among different tasks. In this tutorial, let's create a **Node Classification** task and **Link Prediction** task."
   ]
  },
  {
   "cell_type": "markdown",
   "metadata": {
    "id": "hVxHaDIfzCkr"
   },
   "source": [
    "#### Node Classification Task\n",
    "For node classification task, we need **node IDs** and corresponding **labels** for each training/validation/test set. Like feature data, numpy arrays and torch tensors are supported for these sets."
   ]
  },
  {
   "cell_type": "code",
   "execution_count": 5,
   "metadata": {
    "execution": {
     "iopub.execute_input": "2024-09-22T13:20:10.111562Z",
     "iopub.status.busy": "2024-09-22T13:20:10.111076Z",
     "iopub.status.idle": "2024-09-22T13:20:10.123416Z",
     "shell.execute_reply": "2024-09-22T13:20:10.122511Z"
    },
    "id": "S5-fyBbHzTCO"
   },
   "outputs": [
    {
     "name": "stdout",
     "output_type": "stream",
     "text": [
      "Part of train ids for node classification: [913 486 866]\n",
      "NC train ids are saved to ./ondisk_dataset_homograph/nc-train-ids.npy\n",
      "\n",
      "Part of train labels for node classification: tensor([6, 9, 3])\n",
      "NC train labels are saved to ./ondisk_dataset_homograph/nc-train-labels.pt\n",
      "\n",
      "Part of val ids for node classification: [974 135   8]\n",
      "NC val ids are saved to ./ondisk_dataset_homograph/nc-val-ids.npy\n",
      "\n",
      "Part of val labels for node classification: tensor([2, 8, 5])\n",
      "NC val labels are saved to ./ondisk_dataset_homograph/nc-val-labels.pt\n",
      "\n",
      "Part of test ids for node classification: [940 768 392]\n",
      "NC test ids are saved to ./ondisk_dataset_homograph/nc-test-ids.npy\n",
      "\n",
      "Part of test labels for node classification: tensor([6, 9, 5])\n",
      "NC test labels are saved to ./ondisk_dataset_homograph/nc-test-labels.pt\n",
      "\n"
     ]
    }
   ],
   "source": [
    "num_trains = int(num_nodes * 0.6)\n",
    "num_vals = int(num_nodes * 0.2)\n",
    "num_tests = num_nodes - num_trains - num_vals\n",
    "\n",
    "ids = np.arange(num_nodes)\n",
    "np.random.shuffle(ids)\n",
    "\n",
    "nc_train_ids_path = os.path.join(base_dir, \"nc-train-ids.npy\")\n",
    "nc_train_ids = ids[:num_trains]\n",
    "print(f\"Part of train ids for node classification: {nc_train_ids[:3]}\")\n",
    "np.save(nc_train_ids_path, nc_train_ids)\n",
    "print(f\"NC train ids are saved to {nc_train_ids_path}\\n\")\n",
    "\n",
    "nc_train_labels_path = os.path.join(base_dir, \"nc-train-labels.pt\")\n",
    "nc_train_labels = torch.randint(0, 10, (num_trains,))\n",
    "print(f\"Part of train labels for node classification: {nc_train_labels[:3]}\")\n",
    "torch.save(nc_train_labels, nc_train_labels_path)\n",
    "print(f\"NC train labels are saved to {nc_train_labels_path}\\n\")\n",
    "\n",
    "nc_val_ids_path = os.path.join(base_dir, \"nc-val-ids.npy\")\n",
    "nc_val_ids = ids[num_trains:num_trains+num_vals]\n",
    "print(f\"Part of val ids for node classification: {nc_val_ids[:3]}\")\n",
    "np.save(nc_val_ids_path, nc_val_ids)\n",
    "print(f\"NC val ids are saved to {nc_val_ids_path}\\n\")\n",
    "\n",
    "nc_val_labels_path = os.path.join(base_dir, \"nc-val-labels.pt\")\n",
    "nc_val_labels = torch.randint(0, 10, (num_vals,))\n",
    "print(f\"Part of val labels for node classification: {nc_val_labels[:3]}\")\n",
    "torch.save(nc_val_labels, nc_val_labels_path)\n",
    "print(f\"NC val labels are saved to {nc_val_labels_path}\\n\")\n",
    "\n",
    "nc_test_ids_path = os.path.join(base_dir, \"nc-test-ids.npy\")\n",
    "nc_test_ids = ids[-num_tests:]\n",
    "print(f\"Part of test ids for node classification: {nc_test_ids[:3]}\")\n",
    "np.save(nc_test_ids_path, nc_test_ids)\n",
    "print(f\"NC test ids are saved to {nc_test_ids_path}\\n\")\n",
    "\n",
    "nc_test_labels_path = os.path.join(base_dir, \"nc-test-labels.pt\")\n",
    "nc_test_labels = torch.randint(0, 10, (num_tests,))\n",
    "print(f\"Part of test labels for node classification: {nc_test_labels[:3]}\")\n",
    "torch.save(nc_test_labels, nc_test_labels_path)\n",
    "print(f\"NC test labels are saved to {nc_test_labels_path}\\n\")"
   ]
  },
  {
   "cell_type": "markdown",
   "metadata": {
    "id": "LhAcDCHQ_KJ0"
   },
   "source": [
    "#### Link Prediction Task\n",
    "For link prediction task, we need **seeds** or **corresponding labels and indexes** which representing the pos/neg property and group of the seeds for each training/validation/test set. Like feature data, numpy arrays and torch tensors are supported for these sets."
   ]
  },
  {
   "cell_type": "code",
   "execution_count": 6,
   "metadata": {
    "execution": {
     "iopub.execute_input": "2024-09-22T13:20:10.125841Z",
     "iopub.status.busy": "2024-09-22T13:20:10.125649Z",
     "iopub.status.idle": "2024-09-22T13:20:10.143484Z",
     "shell.execute_reply": "2024-09-22T13:20:10.142675Z"
    },
    "id": "u0jCnXIcAQy4"
   },
   "outputs": [
    {
     "name": "stdout",
     "output_type": "stream",
     "text": [
      "Part of train seeds for link prediction: [[977 322]\n",
      " [884 595]\n",
      " [394 956]]\n",
      "LP train seeds are saved to ./ondisk_dataset_homograph/lp-train-seeds.npy\n",
      "\n",
      "Part of val seeds for link prediction: [[738 207]\n",
      " [841 121]\n",
      " [300 817]]\n",
      "LP val seeds are saved to ./ondisk_dataset_homograph/lp-val-seeds.npy\n",
      "\n",
      "Part of val labels for link prediction: [1. 1. 1.]\n",
      "LP val labels are saved to ./ondisk_dataset_homograph/lp-val-labels.npy\n",
      "\n",
      "Part of val indexes for link prediction: [0 1 2]\n",
      "LP val indexes are saved to ./ondisk_dataset_homograph/lp-val-indexes.npy\n",
      "\n",
      "Part of test seeds for link prediction: [[915 453]\n",
      " [515 258]\n",
      " [320 392]]\n",
      "LP test seeds are saved to ./ondisk_dataset_homograph/lp-test-seeds.npy\n",
      "\n",
      "Part of val labels for link prediction: [1. 1. 1.]\n",
      "LP test labels are saved to ./ondisk_dataset_homograph/lp-test-labels.npy\n",
      "\n",
      "Part of test indexes for link prediction: [0 1 2]\n",
      "LP test indexes are saved to ./ondisk_dataset_homograph/lp-test-indexes.npy\n",
      "\n"
     ]
    }
   ],
   "source": [
    "num_trains = int(num_edges * 0.6)\n",
    "num_vals = int(num_edges * 0.2)\n",
    "num_tests = num_edges - num_trains - num_vals\n",
    "\n",
    "lp_train_seeds_path = os.path.join(base_dir, \"lp-train-seeds.npy\")\n",
    "lp_train_seeds = edges[:num_trains, :]\n",
    "print(f\"Part of train seeds for link prediction: {lp_train_seeds[:3]}\")\n",
    "np.save(lp_train_seeds_path, lp_train_seeds)\n",
    "print(f\"LP train seeds are saved to {lp_train_seeds_path}\\n\")\n",
    "\n",
    "lp_val_seeds_path = os.path.join(base_dir, \"lp-val-seeds.npy\")\n",
    "lp_val_seeds = edges[num_trains:num_trains+num_vals, :]\n",
    "lp_val_neg_dsts = np.random.randint(0, num_nodes, (num_vals, 10)).reshape(-1)\n",
    "lp_val_neg_srcs = np.repeat(lp_val_seeds[:,0], 10)\n",
    "lp_val_neg_seeds = np.concatenate((lp_val_neg_srcs, lp_val_neg_dsts)).reshape(2,-1).T\n",
    "lp_val_seeds = np.concatenate((lp_val_seeds, lp_val_neg_seeds))\n",
    "print(f\"Part of val seeds for link prediction: {lp_val_seeds[:3]}\")\n",
    "np.save(lp_val_seeds_path, lp_val_seeds)\n",
    "print(f\"LP val seeds are saved to {lp_val_seeds_path}\\n\")\n",
    "\n",
    "lp_val_labels_path = os.path.join(base_dir, \"lp-val-labels.npy\")\n",
    "lp_val_labels = np.empty(num_vals * (10 + 1))\n",
    "lp_val_labels[:num_vals] = 1\n",
    "lp_val_labels[num_vals:] = 0\n",
    "print(f\"Part of val labels for link prediction: {lp_val_labels[:3]}\")\n",
    "np.save(lp_val_labels_path, lp_val_labels)\n",
    "print(f\"LP val labels are saved to {lp_val_labels_path}\\n\")\n",
    "\n",
    "lp_val_indexes_path = os.path.join(base_dir, \"lp-val-indexes.npy\")\n",
    "lp_val_indexes = np.arange(0, num_vals)\n",
    "lp_val_neg_indexes = np.repeat(lp_val_indexes, 10)\n",
    "lp_val_indexes = np.concatenate([lp_val_indexes, lp_val_neg_indexes])\n",
    "print(f\"Part of val indexes for link prediction: {lp_val_indexes[:3]}\")\n",
    "np.save(lp_val_indexes_path, lp_val_indexes)\n",
    "print(f\"LP val indexes are saved to {lp_val_indexes_path}\\n\")\n",
    "\n",
    "lp_test_seeds_path = os.path.join(base_dir, \"lp-test-seeds.npy\")\n",
    "lp_test_seeds = edges[-num_tests:, :]\n",
    "lp_test_neg_dsts = np.random.randint(0, num_nodes, (num_tests, 10)).reshape(-1)\n",
    "lp_test_neg_srcs = np.repeat(lp_test_seeds[:,0], 10)\n",
    "lp_test_neg_seeds = np.concatenate((lp_test_neg_srcs, lp_test_neg_dsts)).reshape(2,-1).T\n",
    "lp_test_seeds = np.concatenate((lp_test_seeds, lp_test_neg_seeds))\n",
    "print(f\"Part of test seeds for link prediction: {lp_test_seeds[:3]}\")\n",
    "np.save(lp_test_seeds_path, lp_test_seeds)\n",
    "print(f\"LP test seeds are saved to {lp_test_seeds_path}\\n\")\n",
    "\n",
    "lp_test_labels_path = os.path.join(base_dir, \"lp-test-labels.npy\")\n",
    "lp_test_labels = np.empty(num_tests * (10 + 1))\n",
    "lp_test_labels[:num_tests] = 1\n",
    "lp_test_labels[num_tests:] = 0\n",
    "print(f\"Part of val labels for link prediction: {lp_test_labels[:3]}\")\n",
    "np.save(lp_test_labels_path, lp_test_labels)\n",
    "print(f\"LP test labels are saved to {lp_test_labels_path}\\n\")\n",
    "\n",
    "lp_test_indexes_path = os.path.join(base_dir, \"lp-test-indexes.npy\")\n",
    "lp_test_indexes = np.arange(0, num_tests)\n",
    "lp_test_neg_indexes = np.repeat(lp_test_indexes, 10)\n",
    "lp_test_indexes = np.concatenate([lp_test_indexes, lp_test_neg_indexes])\n",
    "print(f\"Part of test indexes for link prediction: {lp_test_indexes[:3]}\")\n",
    "np.save(lp_test_indexes_path, lp_test_indexes)\n",
    "print(f\"LP test indexes are saved to {lp_test_indexes_path}\\n\")"
   ]
  },
  {
   "cell_type": "markdown",
   "metadata": {
    "id": "wbk6-wxRK-6S"
   },
   "source": [
    "## Organize Data into YAML File\n",
    "Now we need to create a `metadata.yaml` file which contains the paths, dadta types of graph structure, feature data, training/validation/test sets.\n",
    "\n",
    "Notes:\n",
    "- all path should be relative to `metadata.yaml`.\n",
    "- Below fields are optional and not specified in below example.\n",
    "  - `in_memory`: indicates whether to load dada into memory or `mmap`. Default is `True`.\n",
    "\n",
    "Please refer to [YAML specification](https://github.com/dmlc/dgl/blob/master/docs/source/stochastic_training/ondisk-dataset-specification.rst) for more details."
   ]
  },
  {
   "cell_type": "code",
   "execution_count": 7,
   "metadata": {
    "execution": {
     "iopub.execute_input": "2024-09-22T13:20:10.145815Z",
     "iopub.status.busy": "2024-09-22T13:20:10.145622Z",
     "iopub.status.idle": "2024-09-22T13:20:10.152441Z",
     "shell.execute_reply": "2024-09-22T13:20:10.151588Z"
    },
    "id": "ddGTWW61Lpwp"
   },
   "outputs": [],
   "source": [
    "yaml_content = f\"\"\"\n",
    "    dataset_name: homogeneous_graph_nc_lp\n",
    "    graph:\n",
    "      nodes:\n",
    "        - num: {num_nodes}\n",
    "      edges:\n",
    "        - format: csv\n",
    "          path: {os.path.basename(edges_path)}\n",
    "    feature_data:\n",
    "      - domain: node\n",
    "        name: feat_0\n",
    "        format: numpy\n",
    "        path: {os.path.basename(node_feat_0_path)}\n",
    "      - domain: node\n",
    "        name: feat_1\n",
    "        format: torch\n",
    "        path: {os.path.basename(node_feat_1_path)}\n",
    "      - domain: edge\n",
    "        name: feat_0\n",
    "        format: numpy\n",
    "        path: {os.path.basename(edge_feat_0_path)}\n",
    "      - domain: edge\n",
    "        name: feat_1\n",
    "        format: torch\n",
    "        path: {os.path.basename(edge_feat_1_path)}\n",
    "    tasks:\n",
    "      - name: node_classification\n",
    "        num_classes: 10\n",
    "        train_set:\n",
    "          - data:\n",
    "              - name: seeds\n",
    "                format: numpy\n",
    "                path: {os.path.basename(nc_train_ids_path)}\n",
    "              - name: labels\n",
    "                format: torch\n",
    "                path: {os.path.basename(nc_train_labels_path)}\n",
    "        validation_set:\n",
    "          - data:\n",
    "              - name: seeds\n",
    "                format: numpy\n",
    "                path: {os.path.basename(nc_val_ids_path)}\n",
    "              - name: labels\n",
    "                format: torch\n",
    "                path: {os.path.basename(nc_val_labels_path)}\n",
    "        test_set:\n",
    "          - data:\n",
    "              - name: seeds\n",
    "                format: numpy\n",
    "                path: {os.path.basename(nc_test_ids_path)}\n",
    "              - name: labels\n",
    "                format: torch\n",
    "                path: {os.path.basename(nc_test_labels_path)}\n",
    "      - name: link_prediction\n",
    "        num_classes: 10\n",
    "        train_set:\n",
    "          - data:\n",
    "              - name: seeds\n",
    "                format: numpy\n",
    "                path: {os.path.basename(lp_train_seeds_path)}\n",
    "        validation_set:\n",
    "          - data:\n",
    "              - name: seeds\n",
    "                format: numpy\n",
    "                path: {os.path.basename(lp_val_seeds_path)}\n",
    "              - name: labels\n",
    "                format: numpy\n",
    "                path: {os.path.basename(lp_val_labels_path)}\n",
    "              - name: indexes\n",
    "                format: numpy\n",
    "                path: {os.path.basename(lp_val_indexes_path)}\n",
    "        test_set:\n",
    "          - data:\n",
    "              - name: seeds\n",
    "                format: numpy\n",
    "                path: {os.path.basename(lp_test_seeds_path)}\n",
    "              - name: labels\n",
    "                format: numpy\n",
    "                path: {os.path.basename(lp_test_labels_path)}\n",
    "              - name: indexes\n",
    "                format: numpy\n",
    "                path: {os.path.basename(lp_test_indexes_path)}\n",
    "\"\"\"\n",
    "metadata_path = os.path.join(base_dir, \"metadata.yaml\")\n",
    "with open(metadata_path, \"w\") as f:\n",
    "  f.write(yaml_content)"
   ]
  },
  {
   "cell_type": "markdown",
   "metadata": {
    "id": "kEfybHGhOW7O"
   },
   "source": [
    "## Instantiate `OnDiskDataset`\n",
    "Now we're ready to load dataset via `dgl.graphbolt.OnDiskDataset`. When instantiating, we just pass in the base directory where `metadata.yaml` file lies.\n",
    "\n",
    "During first instantiation, GraphBolt preprocesses the raw data such as constructing `FusedCSCSamplingGraph` from edges. All data including graph, feature data, training/validation/test sets are put into `preprocessed` directory after preprocessing. Any following dataset loading will skip the preprocess stage.\n",
    "\n",
    "After preprocessing, `load()` is required to be called explicitly in order to load graph, feature data and tasks."
   ]
  },
  {
   "cell_type": "code",
   "execution_count": 8,
   "metadata": {
    "execution": {
     "iopub.execute_input": "2024-09-22T13:20:10.154935Z",
     "iopub.status.busy": "2024-09-22T13:20:10.154729Z",
     "iopub.status.idle": "2024-09-22T13:20:10.218920Z",
     "shell.execute_reply": "2024-09-22T13:20:10.218204Z"
    },
    "id": "W58CZoSzOiyo"
   },
   "outputs": [
    {
     "name": "stdout",
     "output_type": "stream",
     "text": [
      "Start to preprocess the on-disk dataset.\n",
      "Finish preprocessing the on-disk dataset.\n",
      "Loaded graph: FusedCSCSamplingGraph(csc_indptr=tensor([    0,    15,    23,  ...,  9986,  9997, 10000], dtype=torch.int32),\n",
      "                      indices=tensor([235, 403, 742,  ..., 965, 135, 359], dtype=torch.int32),\n",
      "                      total_num_nodes=1000, num_edges=10000,)\n",
      "\n",
      "Loaded feature store: TorchBasedFeatureStore(\n",
      "    {(<OnDiskFeatureDataDomain.NODE: 'node'>, None, 'feat_0'): TorchBasedFeature(\n",
      "        feature=tensor([[0.6989, 0.1905, 0.1295, 0.1084, 0.4363],\n",
      "                        [0.4926, 0.9751, 0.1139, 0.0419, 0.5971],\n",
      "                        [0.4864, 0.3603, 0.0065, 0.9898, 0.1282],\n",
      "                        ...,\n",
      "                        [0.1833, 0.2434, 0.0803, 0.1547, 0.6965],\n",
      "                        [0.8700, 0.0517, 0.5439, 0.2993, 0.3712],\n",
      "                        [0.2604, 0.2727, 0.1917, 0.5321, 0.9798]], dtype=torch.float64),\n",
      "        metadata={},\n",
      "    ), (<OnDiskFeatureDataDomain.NODE: 'node'>, None, 'feat_1'): TorchBasedFeature(\n",
      "        feature=tensor([[0.8523, 0.9237, 0.4093, 0.3985, 0.6568],\n",
      "                        [0.5970, 0.0163, 0.1693, 0.4056, 0.1870],\n",
      "                        [0.0255, 0.6791, 0.5840, 0.4819, 0.2703],\n",
      "                        ...,\n",
      "                        [0.9633, 0.7750, 0.2440, 0.4160, 0.9489],\n",
      "                        [0.2394, 0.3949, 0.9499, 0.6440, 0.0203],\n",
      "                        [0.1377, 0.4265, 0.2036, 0.9471, 0.7618]]),\n",
      "        metadata={},\n",
      "    ), (<OnDiskFeatureDataDomain.EDGE: 'edge'>, None, 'feat_0'): TorchBasedFeature(\n",
      "        feature=tensor([[0.1776, 0.8835, 0.4154, 0.6840, 0.4918],\n",
      "                        [0.9705, 0.4106, 0.9976, 0.5564, 0.8150],\n",
      "                        [0.2287, 0.4705, 0.9697, 0.7918, 0.7682],\n",
      "                        ...,\n",
      "                        [0.7279, 0.9212, 0.4585, 0.7452, 0.7987],\n",
      "                        [0.0855, 0.5848, 0.6138, 0.0267, 0.6880],\n",
      "                        [0.6354, 0.0817, 0.5280, 0.6313, 0.8979]], dtype=torch.float64),\n",
      "        metadata={},\n",
      "    ), (<OnDiskFeatureDataDomain.EDGE: 'edge'>, None, 'feat_1'): TorchBasedFeature(\n",
      "        feature=tensor([[0.5827, 0.4109, 0.6960, 0.7031, 0.2699],\n",
      "                        [0.3892, 0.6883, 0.0156, 0.3448, 0.4180],\n",
      "                        [0.1952, 0.0455, 0.4454, 0.6892, 0.7927],\n",
      "                        ...,\n",
      "                        [0.3821, 0.4992, 0.9335, 0.2465, 0.4680],\n",
      "                        [0.7038, 0.6501, 0.0047, 0.9121, 0.3529],\n",
      "                        [0.1893, 0.6685, 0.1991, 0.6227, 0.3860]]),\n",
      "        metadata={},\n",
      "    )}\n",
      ")\n",
      "\n",
      "Loaded node classification task: OnDiskTask(validation_set=ItemSet(\n",
      "               items=(tensor([974, 135,   8, 870, 815,  15, 316, 117, 224, 176, 332,  17, 697, 933,\n",
      "                   947, 698, 171, 532, 273, 190, 622, 531, 334, 846, 208, 423, 592, 522,\n",
      "                    72,  26, 567, 477, 237, 919, 539, 194, 760, 562,  81, 381, 263, 583,\n",
      "                   703, 711, 521, 753, 942, 388, 824, 173, 842, 494, 958, 980, 124,  45,\n",
      "                   442, 358, 714, 671, 965,  35, 234, 418, 982, 233, 136, 225, 576, 250,\n",
      "                   969, 644, 495,  58, 516, 231, 549, 371, 490, 214, 981, 467, 672, 946,\n",
      "                   960, 453, 373, 655, 892, 414, 555, 528, 298, 256, 660, 770, 920, 114,\n",
      "                   774, 827,  78,  88, 752, 110, 518, 427, 363,  65, 889, 174, 610, 410,\n",
      "                   428, 595, 227, 353, 294, 869, 177, 368, 832, 564, 806, 621, 386, 133,\n",
      "                   726, 754, 936,  71, 602, 971, 841, 706, 692, 359, 489, 432, 782, 996,\n",
      "                   666, 710,  46, 558, 217, 515, 175, 125,  38, 950,  14,  39, 578, 331,\n",
      "                   505, 479,  67,  62, 682, 594, 615, 612, 901, 888, 833, 653, 853, 661,\n",
      "                   540, 879, 311, 586, 780, 283, 823, 472, 643, 973,  34,  50, 186, 812,\n",
      "                   178, 106, 140, 909, 877, 409, 763, 821, 707, 344,  66, 155, 927, 487,\n",
      "                   503, 389, 394, 376], dtype=torch.int32), tensor([2, 8, 5, 6, 9, 3, 9, 8, 0, 8, 3, 2, 8, 3, 3, 6, 6, 8, 1, 8, 8, 8, 2, 3,\n",
      "                   0, 8, 8, 7, 0, 2, 3, 1, 4, 2, 4, 3, 8, 7, 0, 0, 9, 9, 1, 4, 3, 4, 1, 6,\n",
      "                   6, 5, 3, 0, 6, 7, 1, 5, 2, 9, 6, 7, 4, 2, 6, 7, 9, 4, 0, 9, 3, 9, 9, 2,\n",
      "                   4, 2, 8, 6, 3, 1, 4, 5, 8, 2, 4, 3, 4, 8, 6, 1, 1, 4, 3, 3, 8, 4, 3, 3,\n",
      "                   7, 9, 4, 7, 3, 6, 3, 9, 8, 0, 7, 1, 0, 1, 8, 7, 7, 0, 9, 6, 8, 3, 1, 1,\n",
      "                   0, 9, 9, 3, 9, 9, 2, 3, 8, 9, 1, 7, 2, 9, 9, 6, 7, 6, 7, 3, 7, 1, 9, 1,\n",
      "                   0, 4, 8, 1, 7, 8, 5, 7, 5, 4, 7, 2, 8, 9, 9, 7, 2, 0, 7, 6, 2, 6, 9, 0,\n",
      "                   6, 2, 4, 2, 6, 3, 0, 2, 6, 9, 9, 4, 9, 9, 3, 5, 7, 8, 2, 1, 5, 0, 8, 3,\n",
      "                   2, 2, 1, 3, 4, 9, 7, 1])),\n",
      "               names=('seeds', 'labels'),\n",
      "           ),\n",
      "           train_set=ItemSet(\n",
      "               items=(tensor([913, 486, 866, 302, 596, 525, 308, 372, 716, 654,  68, 154, 153,  85,\n",
      "                   907, 569, 193, 899, 570, 908, 507, 450,  93, 688, 101, 962, 738, 122,\n",
      "                   761, 269, 559, 397, 802, 434, 340, 582, 218, 156, 168, 781, 991, 934,\n",
      "                   436,  60, 906, 449, 542, 476, 897, 121, 985, 693, 819, 245, 523, 849,\n",
      "                   545, 665, 242, 299,  54, 701, 972, 455, 961, 715,  92, 185, 297,  42,\n",
      "                   207, 635, 461, 433, 670, 993, 279, 923, 645, 278, 439, 779, 954, 709,\n",
      "                   280, 246, 172, 310, 286,  12, 537, 966, 724, 702, 880, 565, 598, 816,\n",
      "                    18,  95, 289, 584, 810, 862, 657, 577, 328,   7, 720, 681, 384, 393,\n",
      "                   977, 747, 943, 468, 979, 871, 727, 454, 865, 839, 574, 187,  79,  47,\n",
      "                   164,  10, 544, 987, 323, 430, 751, 349, 304, 160, 932, 295, 984, 882,\n",
      "                   460, 215, 506, 646, 803, 307, 342, 589, 488, 874, 732, 248, 469, 939,\n",
      "                   365, 944, 894, 651, 362, 326, 484, 220, 493, 339, 192, 755, 364, 728,\n",
      "                    21, 348,  56, 811, 150, 905, 674, 383,  64, 988, 700, 147, 772, 613,\n",
      "                   377, 785, 926, 560, 232, 317, 600, 527, 431, 492, 380, 730, 465,  76,\n",
      "                   550, 318, 678, 585, 723, 261, 696, 921, 925, 355, 978, 226, 131, 390,\n",
      "                   514, 475, 443, 975, 679, 718, 712, 620, 750, 765, 631, 330, 625, 118,\n",
      "                   883, 259, 637, 338, 793, 108, 614, 917, 284, 375, 249, 873, 929, 146,\n",
      "                    53, 100, 911,  99,  63, 580,  97, 587, 713, 792, 705, 275, 199, 910,\n",
      "                   627, 448, 719, 229, 852, 520, 744, 272, 202, 435, 895, 474, 138, 689,\n",
      "                   292, 764, 161,  41, 796, 826, 885, 471, 305,  36, 566, 502, 922, 609,\n",
      "                   536, 205,  73, 400, 333, 642,  20, 938, 346, 251, 699, 517, 935, 429,\n",
      "                   575,   2, 904, 109, 243, 446, 180, 887, 579, 639, 729, 999, 315, 285,\n",
      "                   241, 636, 630, 588, 658, 166, 814, 845, 731, 485, 734,  82, 872, 324,\n",
      "                   675, 955, 903, 632, 556, 424, 464, 223, 953, 107, 230, 884, 276,  83,\n",
      "                   411, 188,  98,  13, 957, 959, 265, 481, 648, 937,  80, 491, 605, 480,\n",
      "                   483, 593, 776, 847, 572,  32,  23, 258, 162,  43,  48, 875, 290, 740,\n",
      "                   864, 513, 204, 322, 417,  25,  51, 552, 239, 329, 167, 773, 369, 288,\n",
      "                   956, 553,  27, 301, 992, 341, 611, 123, 930, 510, 746, 546, 139,  11,\n",
      "                   725, 102, 759,  19, 822, 945, 526, 952, 787,  16, 321, 120, 664, 616,\n",
      "                   512,   9, 629, 722, 141,   3, 219, 601, 134, 169, 916, 535, 976, 184,\n",
      "                   313,  89, 914, 142, 860, 783, 440, 708, 277, 179, 931, 756, 452, 791,\n",
      "                   524, 568, 690, 306, 415, 968, 437, 928,  30, 757, 619, 762, 482, 504,\n",
      "                   891, 335, 742, 111, 401, 758, 900, 296, 347, 200, 151, 105, 533, 222,\n",
      "                   183, 213, 859, 282, 638, 404, 113, 499, 408,  52, 997, 830, 739, 132,\n",
      "                   498, 571, 366, 149, 835, 733,  24, 801, 591, 581, 652, 128, 336, 396,\n",
      "                    86, 145, 789, 422, 915, 281, 561, 441, 867,   1,  77, 266, 221, 534,\n",
      "                   766, 421, 143, 737, 680, 378,  96, 211,   4,  37, 500, 144, 195, 989,\n",
      "                   356, 676, 354, 662, 798, 881, 551, 405, 912, 470, 817, 137, 291, 116,\n",
      "                   300, 554, 287, 749,  94, 325, 668, 663, 497, 519, 986, 264, 902, 743,\n",
      "                    91, 786, 618, 804, 181, 530, 447, 412, 858, 444, 445, 809,  70, 458,\n",
      "                   508, 941, 687, 641, 998,  57, 691, 626, 182, 104, 511, 924, 203, 395,\n",
      "                   478, 391, 964,  49, 236, 861, 771, 398, 686, 563, 808, 721, 343, 983,\n",
      "                   820, 788, 797, 293,  74, 683, 459, 416, 420, 209, 541, 735],\n",
      "                  dtype=torch.int32), tensor([6, 9, 3, 6, 4, 5, 5, 3, 9, 4, 2, 2, 6, 1, 9, 1, 8, 9, 8, 1, 7, 3, 5, 5,\n",
      "                   1, 3, 2, 4, 9, 2, 5, 6, 9, 1, 3, 9, 4, 9, 9, 0, 1, 0, 0, 2, 2, 5, 1, 6,\n",
      "                   5, 2, 1, 6, 0, 3, 6, 5, 3, 5, 2, 5, 1, 4, 8, 1, 8, 7, 4, 2, 4, 9, 6, 4,\n",
      "                   1, 4, 0, 3, 9, 3, 7, 7, 0, 9, 4, 3, 9, 4, 5, 9, 3, 1, 0, 5, 8, 4, 7, 4,\n",
      "                   9, 4, 6, 2, 0, 7, 2, 5, 7, 2, 4, 8, 7, 8, 0, 0, 3, 4, 0, 7, 1, 0, 2, 2,\n",
      "                   0, 3, 5, 2, 2, 4, 2, 2, 9, 9, 3, 4, 0, 8, 8, 7, 9, 7, 8, 5, 0, 0, 4, 4,\n",
      "                   6, 7, 0, 4, 3, 6, 7, 9, 7, 8, 4, 6, 8, 4, 8, 5, 2, 0, 9, 6, 6, 9, 7, 1,\n",
      "                   0, 4, 0, 8, 9, 2, 2, 2, 7, 7, 5, 2, 5, 9, 0, 8, 0, 6, 6, 8, 6, 8, 0, 7,\n",
      "                   6, 1, 4, 4, 7, 9, 0, 9, 2, 2, 8, 3, 0, 0, 4, 8, 4, 0, 2, 8, 7, 4, 9, 1,\n",
      "                   5, 0, 0, 7, 8, 0, 1, 6, 0, 5, 8, 3, 5, 6, 4, 9, 1, 5, 0, 9, 4, 9, 8, 6,\n",
      "                   5, 9, 7, 9, 4, 2, 9, 1, 7, 4, 2, 8, 0, 7, 4, 7, 9, 4, 1, 9, 6, 4, 9, 1,\n",
      "                   8, 0, 4, 0, 2, 4, 1, 3, 2, 5, 1, 0, 9, 8, 1, 8, 7, 4, 3, 6, 8, 3, 8, 4,\n",
      "                   4, 1, 7, 7, 8, 6, 5, 0, 4, 3, 0, 9, 3, 9, 6, 2, 6, 8, 2, 3, 8, 4, 5, 0,\n",
      "                   3, 1, 5, 7, 6, 8, 9, 3, 0, 7, 8, 3, 3, 8, 6, 3, 7, 0, 7, 9, 2, 0, 9, 9,\n",
      "                   2, 3, 2, 2, 1, 4, 6, 3, 2, 8, 5, 9, 7, 2, 5, 0, 2, 6, 7, 0, 4, 9, 3, 0,\n",
      "                   7, 8, 9, 3, 7, 6, 5, 1, 5, 6, 9, 6, 7, 9, 7, 7, 3, 6, 3, 3, 7, 8, 9, 6,\n",
      "                   8, 5, 2, 2, 3, 7, 4, 3, 9, 4, 5, 2, 3, 9, 6, 9, 8, 8, 5, 1, 1, 9, 9, 2,\n",
      "                   0, 9, 1, 8, 3, 7, 4, 3, 2, 9, 5, 9, 0, 5, 3, 5, 0, 7, 0, 9, 6, 6, 5, 9,\n",
      "                   7, 3, 1, 5, 2, 5, 5, 2, 8, 7, 6, 0, 9, 1, 8, 7, 4, 7, 0, 2, 1, 0, 2, 0,\n",
      "                   4, 4, 6, 4, 3, 7, 5, 4, 0, 2, 2, 4, 9, 9, 6, 0, 2, 3, 0, 2, 9, 3, 7, 4,\n",
      "                   5, 2, 6, 6, 9, 6, 6, 0, 7, 9, 6, 4, 9, 7, 2, 8, 9, 9, 0, 2, 6, 2, 2, 2,\n",
      "                   2, 5, 4, 9, 5, 5, 2, 9, 6, 2, 6, 2, 7, 6, 9, 7, 6, 2, 3, 6, 3, 2, 9, 1,\n",
      "                   6, 9, 6, 6, 1, 6, 0, 9, 1, 2, 9, 9, 7, 0, 3, 3, 1, 1, 1, 2, 3, 3, 5, 7,\n",
      "                   0, 2, 4, 9, 4, 1, 3, 0, 4, 7, 6, 9, 5, 3, 6, 3, 8, 4, 8, 7, 7, 1, 9, 6,\n",
      "                   4, 0, 9, 6, 8, 9, 7, 2, 5, 5, 1, 9, 5, 9, 5, 7, 2, 4, 9, 2, 5, 4, 1, 9])),\n",
      "               names=('seeds', 'labels'),\n",
      "           ),\n",
      "           test_set=ItemSet(\n",
      "               items=(tensor([940, 768, 392, 463, 126, 673, 831, 896, 624, 451,  31, 327, 337, 834,\n",
      "                   314, 189, 597, 320, 633,  29, 438, 385, 191, 893,   0, 413, 387, 235,\n",
      "                     6, 837, 357, 548, 970, 129, 163, 851, 216, 857, 805, 254, 466, 112,\n",
      "                   501, 949, 649, 963, 271, 948, 240, 818, 238, 165, 270, 456, 402, 403,\n",
      "                   303, 898, 253, 212, 685, 856, 115, 473, 640, 838, 529, 607, 828, 850,\n",
      "                   608, 374, 399, 669, 158, 462, 352, 274,  87, 312, 509, 547, 103, 704,\n",
      "                   426, 247, 606, 868, 876, 367,  90, 994, 741, 351, 656, 617, 457,  75,\n",
      "                     5, 767, 382, 843, 309, 829,  44, 196, 748, 695, 784, 854, 967, 201,\n",
      "                   360, 623, 799, 918,  69, 210, 260,  22, 255,  40, 127, 244, 262, 778,\n",
      "                   800, 825, 590, 130,  61, 990, 119, 603, 538, 844, 206, 407, 370, 170,\n",
      "                   634, 599, 855, 790, 152, 951, 345, 267,  55, 836, 717, 650, 694, 157,\n",
      "                   667, 769, 777, 736,  59, 775, 863,  33, 684, 745, 197, 659, 573, 148,\n",
      "                   628, 890, 268, 647, 813,  84, 228, 198, 159, 794, 419, 350, 496, 795,\n",
      "                   886, 406, 257, 361, 848, 677, 252, 379, 543,  28, 557, 425, 878, 319,\n",
      "                   807, 995, 840, 604], dtype=torch.int32), tensor([6, 9, 5, 3, 8, 2, 9, 1, 2, 5, 6, 8, 6, 8, 8, 3, 5, 0, 6, 8, 7, 3, 9, 6,\n",
      "                   9, 0, 4, 1, 7, 3, 1, 5, 5, 9, 1, 6, 5, 0, 3, 0, 2, 0, 5, 4, 2, 4, 8, 6,\n",
      "                   2, 7, 2, 3, 0, 0, 6, 0, 2, 9, 0, 5, 1, 0, 6, 6, 1, 1, 6, 8, 2, 6, 3, 0,\n",
      "                   7, 8, 4, 4, 1, 6, 5, 1, 5, 6, 8, 3, 6, 6, 5, 8, 7, 2, 9, 7, 2, 3, 4, 8,\n",
      "                   6, 1, 5, 1, 8, 1, 4, 3, 7, 4, 9, 8, 9, 9, 9, 7, 6, 5, 5, 8, 0, 0, 5, 3,\n",
      "                   4, 9, 6, 7, 9, 0, 6, 0, 6, 2, 5, 0, 9, 3, 4, 0, 2, 7, 4, 1, 9, 2, 3, 2,\n",
      "                   1, 9, 3, 9, 9, 7, 7, 4, 2, 0, 0, 5, 9, 3, 1, 1, 8, 9, 0, 4, 6, 0, 6, 9,\n",
      "                   4, 8, 8, 0, 1, 0, 9, 4, 8, 3, 5, 7, 2, 2, 2, 7, 3, 3, 3, 1, 0, 2, 1, 3,\n",
      "                   0, 4, 4, 7, 3, 4, 9, 5])),\n",
      "               names=('seeds', 'labels'),\n",
      "           ),\n",
      "           metadata={'name': 'node_classification', 'num_classes': 10},)\n",
      "\n",
      "Loaded link prediction task: OnDiskTask(validation_set=ItemSet(\n",
      "               items=(tensor([[738, 207],\n",
      "                   [841, 121],\n",
      "                   [300, 817],\n",
      "                   ...,\n",
      "                   [789,  35],\n",
      "                   [789,  80],\n",
      "                   [789, 941]], dtype=torch.int32), tensor([1., 1., 1.,  ..., 0., 0., 0.], dtype=torch.float64), tensor([   0,    1,    2,  ..., 1999, 1999, 1999])),\n",
      "               names=('seeds', 'labels', 'indexes'),\n",
      "           ),\n",
      "           train_set=ItemSet(\n",
      "               items=(tensor([[977, 322],\n",
      "                   [884, 595],\n",
      "                   [394, 956],\n",
      "                   ...,\n",
      "                   [835, 959],\n",
      "                   [661, 830],\n",
      "                   [588, 171]], dtype=torch.int32),),\n",
      "               names=('seeds',),\n",
      "           ),\n",
      "           test_set=ItemSet(\n",
      "               items=(tensor([[915, 453],\n",
      "                   [515, 258],\n",
      "                   [320, 392],\n",
      "                   ...,\n",
      "                   [582, 529],\n",
      "                   [582, 292],\n",
      "                   [582, 797]], dtype=torch.int32), tensor([1., 1., 1.,  ..., 0., 0., 0.], dtype=torch.float64), tensor([   0,    1,    2,  ..., 1999, 1999, 1999])),\n",
      "               names=('seeds', 'labels', 'indexes'),\n",
      "           ),\n",
      "           metadata={'name': 'link_prediction', 'num_classes': 10},)\n",
      "\n"
     ]
    },
    {
     "name": "stderr",
     "output_type": "stream",
     "text": [
      "/dgl/python/dgl/graphbolt/impl/ondisk_dataset.py:463: GBWarning: Edge feature is stored, but edge IDs are not saved.\n",
      "  gb_warning(\"Edge feature is stored, but edge IDs are not saved.\")\n"
     ]
    }
   ],
   "source": [
    "dataset = gb.OnDiskDataset(base_dir).load()\n",
    "graph = dataset.graph\n",
    "print(f\"Loaded graph: {graph}\\n\")\n",
    "\n",
    "feature = dataset.feature\n",
    "print(f\"Loaded feature store: {feature}\\n\")\n",
    "\n",
    "tasks = dataset.tasks\n",
    "nc_task = tasks[0]\n",
    "print(f\"Loaded node classification task: {nc_task}\\n\")\n",
    "lp_task = tasks[1]\n",
    "print(f\"Loaded link prediction task: {lp_task}\\n\")"
   ]
  }
 ],
 "metadata": {
  "colab": {
   "private_outputs": true,
   "provenance": []
  },
  "kernelspec": {
   "display_name": "Python 3",
   "name": "python3"
  },
  "language_info": {
   "codemirror_mode": {
    "name": "ipython",
    "version": 3
   },
   "file_extension": ".py",
   "mimetype": "text/x-python",
   "name": "python",
   "nbconvert_exporter": "python",
   "pygments_lexer": "ipython3",
   "version": "3.10.15"
  }
 },
 "nbformat": 4,
 "nbformat_minor": 0
}

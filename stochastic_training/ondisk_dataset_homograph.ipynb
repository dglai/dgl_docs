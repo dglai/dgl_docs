{
 "cells": [
  {
   "cell_type": "markdown",
   "metadata": {
    "id": "FnFhPMaAfLtJ"
   },
   "source": [
    "# OnDiskDataset for Homogeneous Graph\n",
    "\n",
    "[![Open In Colab](https://colab.research.google.com/assets/colab-badge.svg)](https://colab.research.google.com/github/dmlc/dgl/blob/master/notebooks/stochastic_training/ondisk_dataset_homograph.ipynb) [![GitHub](https://img.shields.io/badge/-View%20on%20GitHub-181717?logo=github&logoColor=ffffff)](https://github.com/dmlc/dgl/blob/master/notebooks/stochastic_training/ondisk_dataset_homograph.ipynb)\n",
    "\n",
    "This tutorial shows how to create `OnDiskDataset` for homogeneous graph that could be used in **GraphBolt** framework.\n",
    "\n",
    "By the end of this tutorial, you will be able to\n",
    "\n",
    "- organize graph structure data.\n",
    "- organize feature data.\n",
    "- organize training/validation/test set for specific tasks.\n",
    "\n",
    "To create an ``OnDiskDataset`` object, you need to organize all the data including graph structure, feature data and tasks into a directory. The directory should contain a ``metadata.yaml`` file that describes the metadata of the dataset.\n",
    "\n",
    "Now let's generate various data step by step and organize them together to instantiate `OnDiskDataset` finally."
   ]
  },
  {
   "cell_type": "markdown",
   "metadata": {
    "id": "Wlb19DtWgtzq"
   },
   "source": [
    "## Install DGL package"
   ]
  },
  {
   "cell_type": "code",
   "execution_count": 1,
   "metadata": {
    "execution": {
     "iopub.execute_input": "2024-10-05T13:17:17.467375Z",
     "iopub.status.busy": "2024-10-05T13:17:17.467095Z",
     "iopub.status.idle": "2024-10-05T13:17:20.505836Z",
     "shell.execute_reply": "2024-10-05T13:17:20.504915Z"
    },
    "id": "UojlT9ZGgyr9"
   },
   "outputs": [
    {
     "name": "stdout",
     "output_type": "stream",
     "text": [
      "Looking in links: https://data.dgl.ai/wheels-test/repo.html\r\n",
      "Requirement already satisfied: dgl in /opt/conda/envs/dgl-dev-cpu/lib/python3.10/site-packages (2.2a240410)\r\n",
      "Requirement already satisfied: numpy>=1.14.0 in /opt/conda/envs/dgl-dev-cpu/lib/python3.10/site-packages (from dgl) (1.26.4)\r\n",
      "Requirement already satisfied: scipy>=1.1.0 in /opt/conda/envs/dgl-dev-cpu/lib/python3.10/site-packages (from dgl) (1.14.1)\r\n",
      "Requirement already satisfied: networkx>=2.1 in /opt/conda/envs/dgl-dev-cpu/lib/python3.10/site-packages (from dgl) (3.3)\r\n",
      "Requirement already satisfied: requests>=2.19.0 in /opt/conda/envs/dgl-dev-cpu/lib/python3.10/site-packages (from dgl) (2.32.3)\r\n",
      "Requirement already satisfied: tqdm in /opt/conda/envs/dgl-dev-cpu/lib/python3.10/site-packages (from dgl) (4.66.5)\r\n",
      "Requirement already satisfied: psutil>=5.8.0 in /opt/conda/envs/dgl-dev-cpu/lib/python3.10/site-packages (from dgl) (6.0.0)\r\n",
      "Requirement already satisfied: torchdata>=0.5.0 in /opt/conda/envs/dgl-dev-cpu/lib/python3.10/site-packages (from dgl) (0.8.0)\r\n",
      "Requirement already satisfied: pandas in /opt/conda/envs/dgl-dev-cpu/lib/python3.10/site-packages (from dgl) (2.2.3)\r\n"
     ]
    },
    {
     "name": "stdout",
     "output_type": "stream",
     "text": [
      "Requirement already satisfied: charset-normalizer<4,>=2 in /opt/conda/envs/dgl-dev-cpu/lib/python3.10/site-packages (from requests>=2.19.0->dgl) (3.3.2)\r\n",
      "Requirement already satisfied: idna<4,>=2.5 in /opt/conda/envs/dgl-dev-cpu/lib/python3.10/site-packages (from requests>=2.19.0->dgl) (3.10)\r\n",
      "Requirement already satisfied: urllib3<3,>=1.21.1 in /opt/conda/envs/dgl-dev-cpu/lib/python3.10/site-packages (from requests>=2.19.0->dgl) (2.2.3)\r\n",
      "Requirement already satisfied: certifi>=2017.4.17 in /opt/conda/envs/dgl-dev-cpu/lib/python3.10/site-packages (from requests>=2.19.0->dgl) (2024.8.30)\r\n",
      "Requirement already satisfied: torch>=2 in /opt/conda/envs/dgl-dev-cpu/lib/python3.10/site-packages (from torchdata>=0.5.0->dgl) (2.1.0+cpu)\r\n"
     ]
    },
    {
     "name": "stdout",
     "output_type": "stream",
     "text": [
      "Requirement already satisfied: python-dateutil>=2.8.2 in /opt/conda/envs/dgl-dev-cpu/lib/python3.10/site-packages (from pandas->dgl) (2.9.0.post0)\r\n",
      "Requirement already satisfied: pytz>=2020.1 in /opt/conda/envs/dgl-dev-cpu/lib/python3.10/site-packages (from pandas->dgl) (2024.2)\r\n",
      "Requirement already satisfied: tzdata>=2022.7 in /opt/conda/envs/dgl-dev-cpu/lib/python3.10/site-packages (from pandas->dgl) (2024.2)\r\n",
      "Requirement already satisfied: six>=1.5 in /opt/conda/envs/dgl-dev-cpu/lib/python3.10/site-packages (from python-dateutil>=2.8.2->pandas->dgl) (1.16.0)\r\n",
      "Requirement already satisfied: filelock in /opt/conda/envs/dgl-dev-cpu/lib/python3.10/site-packages (from torch>=2->torchdata>=0.5.0->dgl) (3.16.1)\r\n",
      "Requirement already satisfied: typing-extensions in /opt/conda/envs/dgl-dev-cpu/lib/python3.10/site-packages (from torch>=2->torchdata>=0.5.0->dgl) (4.12.2)\r\n",
      "Requirement already satisfied: sympy in /opt/conda/envs/dgl-dev-cpu/lib/python3.10/site-packages (from torch>=2->torchdata>=0.5.0->dgl) (1.13.3)\r\n",
      "Requirement already satisfied: jinja2 in /opt/conda/envs/dgl-dev-cpu/lib/python3.10/site-packages (from torch>=2->torchdata>=0.5.0->dgl) (3.1.4)\r\n",
      "Requirement already satisfied: fsspec in /opt/conda/envs/dgl-dev-cpu/lib/python3.10/site-packages (from torch>=2->torchdata>=0.5.0->dgl) (2024.9.0)\r\n"
     ]
    },
    {
     "name": "stdout",
     "output_type": "stream",
     "text": [
      "Requirement already satisfied: MarkupSafe>=2.0 in /opt/conda/envs/dgl-dev-cpu/lib/python3.10/site-packages (from jinja2->torch>=2->torchdata>=0.5.0->dgl) (2.1.5)\r\n",
      "Requirement already satisfied: mpmath<1.4,>=1.1.0 in /opt/conda/envs/dgl-dev-cpu/lib/python3.10/site-packages (from sympy->torch>=2->torchdata>=0.5.0->dgl) (1.3.0)\r\n"
     ]
    },
    {
     "name": "stdout",
     "output_type": "stream",
     "text": [
      "\u001b[33mWARNING: Running pip as the 'root' user can result in broken permissions and conflicting behaviour with the system package manager, possibly rendering your system unusable.It is recommended to use a virtual environment instead: https://pip.pypa.io/warnings/venv. Use the --root-user-action option if you know what you are doing and want to suppress this warning.\u001b[0m\u001b[33m\r\n",
      "\u001b[0m"
     ]
    },
    {
     "name": "stdout",
     "output_type": "stream",
     "text": [
      "DGL installed!\n"
     ]
    }
   ],
   "source": [
    "# Install required packages.\n",
    "import os\n",
    "import torch\n",
    "import numpy as np\n",
    "os.environ['TORCH'] = torch.__version__\n",
    "os.environ['DGLBACKEND'] = \"pytorch\"\n",
    "\n",
    "# Install the CPU version.\n",
    "device = torch.device(\"cpu\")\n",
    "!pip install --pre dgl -f https://data.dgl.ai/wheels-test/repo.html\n",
    "\n",
    "try:\n",
    "    import dgl\n",
    "    import dgl.graphbolt as gb\n",
    "    installed = True\n",
    "except ImportError as error:\n",
    "    installed = False\n",
    "    print(error)\n",
    "print(\"DGL installed!\" if installed else \"DGL not found!\")"
   ]
  },
  {
   "cell_type": "markdown",
   "metadata": {
    "id": "2R7WnSbjsfbr"
   },
   "source": [
    "## Data preparation\n",
    "In order to demonstrate how to organize various data, let's create a base directory first."
   ]
  },
  {
   "cell_type": "code",
   "execution_count": 2,
   "metadata": {
    "execution": {
     "iopub.execute_input": "2024-10-05T13:17:20.508413Z",
     "iopub.status.busy": "2024-10-05T13:17:20.507775Z",
     "iopub.status.idle": "2024-10-05T13:17:20.513303Z",
     "shell.execute_reply": "2024-10-05T13:17:20.512391Z"
    },
    "id": "SZipbzyltLfO"
   },
   "outputs": [
    {
     "name": "stdout",
     "output_type": "stream",
     "text": [
      "Created base directory: ./ondisk_dataset_homograph\n"
     ]
    }
   ],
   "source": [
    "base_dir = './ondisk_dataset_homograph'\n",
    "os.makedirs(base_dir, exist_ok=True)\n",
    "print(f\"Created base directory: {base_dir}\")"
   ]
  },
  {
   "cell_type": "markdown",
   "metadata": {
    "id": "qhNtIn_xhlnl"
   },
   "source": [
    "### Generate graph structure data\n",
    "For homogeneous graph, we just need to save edges(namely seeds) into  **Numpy** or **CSV** file.\n",
    "\n",
    "Note:\n",
    "- when saving to **Numpy**, the array requires to be in shape of `(2, N)`. This format is recommended as constructing graph from it is much faster than **CSV** file.\n",
    "- when saving to **CSV** file, do not save index and header.\n"
   ]
  },
  {
   "cell_type": "code",
   "execution_count": 3,
   "metadata": {
    "execution": {
     "iopub.execute_input": "2024-10-05T13:17:20.515832Z",
     "iopub.status.busy": "2024-10-05T13:17:20.515627Z",
     "iopub.status.idle": "2024-10-05T13:17:20.529438Z",
     "shell.execute_reply": "2024-10-05T13:17:20.528598Z"
    },
    "id": "HcBt4G5BmSjr"
   },
   "outputs": [
    {
     "name": "stdout",
     "output_type": "stream",
     "text": [
      "Part of edges: [[768 123]\n",
      " [534  70]\n",
      " [816 778]\n",
      " [516  89]\n",
      " [305 664]]\n",
      "Edges are saved into ./ondisk_dataset_homograph/edges.csv\n"
     ]
    }
   ],
   "source": [
    "import numpy as np\n",
    "import pandas as pd\n",
    "num_nodes = 1000\n",
    "num_edges = 10 * num_nodes\n",
    "edges_path = os.path.join(base_dir, \"edges.csv\")\n",
    "edges = np.random.randint(0, num_nodes, size=(num_edges, 2))\n",
    "\n",
    "print(f\"Part of edges: {edges[:5, :]}\")\n",
    "\n",
    "df = pd.DataFrame(edges)\n",
    "df.to_csv(edges_path, index=False, header=False)\n",
    "\n",
    "print(f\"Edges are saved into {edges_path}\")"
   ]
  },
  {
   "cell_type": "markdown",
   "metadata": {
    "id": "kh-4cPtzpcaH"
   },
   "source": [
    "### Generate feature data for graph\n",
    "For feature data, numpy arrays and torch tensors are supported for now."
   ]
  },
  {
   "cell_type": "code",
   "execution_count": 4,
   "metadata": {
    "execution": {
     "iopub.execute_input": "2024-10-05T13:17:20.532163Z",
     "iopub.status.busy": "2024-10-05T13:17:20.531724Z",
     "iopub.status.idle": "2024-10-05T13:17:20.552189Z",
     "shell.execute_reply": "2024-10-05T13:17:20.551410Z"
    },
    "id": "_PVu1u5brBhF"
   },
   "outputs": [
    {
     "name": "stdout",
     "output_type": "stream",
     "text": [
      "Part of node feature [feat_0]: [[0.19565635 0.90453596 0.20409029 0.72996228 0.03364686]\n",
      " [0.69115964 0.83361827 0.32482429 0.07970518 0.28091594]\n",
      " [0.34373834 0.07773482 0.29873897 0.87155352 0.80505775]]\n",
      "Node feature [feat_0] is saved to ./ondisk_dataset_homograph/node-feat-0.npy\n",
      "\n",
      "Part of node feature [feat_1]: tensor([[0.3620, 0.0468, 0.6180, 0.2179, 0.6064],\n",
      "        [0.8614, 0.7205, 0.0805, 0.3063, 0.1265],\n",
      "        [0.6713, 0.7327, 0.2159, 0.9466, 0.8810]])\n",
      "Node feature [feat_1] is saved to ./ondisk_dataset_homograph/node-feat-1.pt\n",
      "\n",
      "Part of edge feature [feat_0]: [[0.40384968 0.92676685 0.78887361 0.10645073 0.04721935]\n",
      " [0.73511042 0.09431945 0.71116896 0.96043545 0.12409763]\n",
      " [0.37521459 0.50036231 0.73435254 0.49588136 0.91621675]]\n",
      "Edge feature [feat_0] is saved to ./ondisk_dataset_homograph/edge-feat-0.npy\n",
      "\n",
      "Part of edge feature [feat_1]: tensor([[0.8404, 0.9345, 0.1907, 0.3979, 0.2791],\n",
      "        [0.7570, 0.4793, 0.9602, 0.3532, 0.6985],\n",
      "        [0.3353, 0.6770, 0.8198, 0.8849, 0.7747]])\n",
      "Edge feature [feat_1] is saved to ./ondisk_dataset_homograph/edge-feat-1.pt\n",
      "\n"
     ]
    }
   ],
   "source": [
    "# Generate node feature in numpy array.\n",
    "node_feat_0_path = os.path.join(base_dir, \"node-feat-0.npy\")\n",
    "node_feat_0 = np.random.rand(num_nodes, 5)\n",
    "print(f\"Part of node feature [feat_0]: {node_feat_0[:3, :]}\")\n",
    "np.save(node_feat_0_path, node_feat_0)\n",
    "print(f\"Node feature [feat_0] is saved to {node_feat_0_path}\\n\")\n",
    "\n",
    "# Generate another node feature in torch tensor\n",
    "node_feat_1_path = os.path.join(base_dir, \"node-feat-1.pt\")\n",
    "node_feat_1 = torch.rand(num_nodes, 5)\n",
    "print(f\"Part of node feature [feat_1]: {node_feat_1[:3, :]}\")\n",
    "torch.save(node_feat_1, node_feat_1_path)\n",
    "print(f\"Node feature [feat_1] is saved to {node_feat_1_path}\\n\")\n",
    "\n",
    "# Generate edge feature in numpy array.\n",
    "edge_feat_0_path = os.path.join(base_dir, \"edge-feat-0.npy\")\n",
    "edge_feat_0 = np.random.rand(num_edges, 5)\n",
    "print(f\"Part of edge feature [feat_0]: {edge_feat_0[:3, :]}\")\n",
    "np.save(edge_feat_0_path, edge_feat_0)\n",
    "print(f\"Edge feature [feat_0] is saved to {edge_feat_0_path}\\n\")\n",
    "\n",
    "# Generate another edge feature in torch tensor\n",
    "edge_feat_1_path = os.path.join(base_dir, \"edge-feat-1.pt\")\n",
    "edge_feat_1 = torch.rand(num_edges, 5)\n",
    "print(f\"Part of edge feature [feat_1]: {edge_feat_1[:3, :]}\")\n",
    "torch.save(edge_feat_1, edge_feat_1_path)\n",
    "print(f\"Edge feature [feat_1] is saved to {edge_feat_1_path}\\n\")\n"
   ]
  },
  {
   "cell_type": "markdown",
   "metadata": {
    "id": "ZyqgOtsIwzh_"
   },
   "source": [
    "### Generate tasks\n",
    "`OnDiskDataset` supports multiple tasks. For each task, we need to prepare training/validation/test sets respectively. Such sets usually vary among different tasks. In this tutorial, let's create a **Node Classification** task and **Link Prediction** task."
   ]
  },
  {
   "cell_type": "markdown",
   "metadata": {
    "id": "hVxHaDIfzCkr"
   },
   "source": [
    "#### Node Classification Task\n",
    "For node classification task, we need **node IDs** and corresponding **labels** for each training/validation/test set. Like feature data, numpy arrays and torch tensors are supported for these sets."
   ]
  },
  {
   "cell_type": "code",
   "execution_count": 5,
   "metadata": {
    "execution": {
     "iopub.execute_input": "2024-10-05T13:17:20.554730Z",
     "iopub.status.busy": "2024-10-05T13:17:20.554359Z",
     "iopub.status.idle": "2024-10-05T13:17:20.566545Z",
     "shell.execute_reply": "2024-10-05T13:17:20.565787Z"
    },
    "id": "S5-fyBbHzTCO"
   },
   "outputs": [
    {
     "name": "stdout",
     "output_type": "stream",
     "text": [
      "Part of train ids for node classification: [222 224 785]\n",
      "NC train ids are saved to ./ondisk_dataset_homograph/nc-train-ids.npy\n",
      "\n",
      "Part of train labels for node classification: tensor([5, 9, 0])\n",
      "NC train labels are saved to ./ondisk_dataset_homograph/nc-train-labels.pt\n",
      "\n",
      "Part of val ids for node classification: [873  81 797]\n",
      "NC val ids are saved to ./ondisk_dataset_homograph/nc-val-ids.npy\n",
      "\n",
      "Part of val labels for node classification: tensor([1, 2, 3])\n",
      "NC val labels are saved to ./ondisk_dataset_homograph/nc-val-labels.pt\n",
      "\n",
      "Part of test ids for node classification: [636 850 242]\n",
      "NC test ids are saved to ./ondisk_dataset_homograph/nc-test-ids.npy\n",
      "\n",
      "Part of test labels for node classification: tensor([1, 1, 0])\n",
      "NC test labels are saved to ./ondisk_dataset_homograph/nc-test-labels.pt\n",
      "\n"
     ]
    }
   ],
   "source": [
    "num_trains = int(num_nodes * 0.6)\n",
    "num_vals = int(num_nodes * 0.2)\n",
    "num_tests = num_nodes - num_trains - num_vals\n",
    "\n",
    "ids = np.arange(num_nodes)\n",
    "np.random.shuffle(ids)\n",
    "\n",
    "nc_train_ids_path = os.path.join(base_dir, \"nc-train-ids.npy\")\n",
    "nc_train_ids = ids[:num_trains]\n",
    "print(f\"Part of train ids for node classification: {nc_train_ids[:3]}\")\n",
    "np.save(nc_train_ids_path, nc_train_ids)\n",
    "print(f\"NC train ids are saved to {nc_train_ids_path}\\n\")\n",
    "\n",
    "nc_train_labels_path = os.path.join(base_dir, \"nc-train-labels.pt\")\n",
    "nc_train_labels = torch.randint(0, 10, (num_trains,))\n",
    "print(f\"Part of train labels for node classification: {nc_train_labels[:3]}\")\n",
    "torch.save(nc_train_labels, nc_train_labels_path)\n",
    "print(f\"NC train labels are saved to {nc_train_labels_path}\\n\")\n",
    "\n",
    "nc_val_ids_path = os.path.join(base_dir, \"nc-val-ids.npy\")\n",
    "nc_val_ids = ids[num_trains:num_trains+num_vals]\n",
    "print(f\"Part of val ids for node classification: {nc_val_ids[:3]}\")\n",
    "np.save(nc_val_ids_path, nc_val_ids)\n",
    "print(f\"NC val ids are saved to {nc_val_ids_path}\\n\")\n",
    "\n",
    "nc_val_labels_path = os.path.join(base_dir, \"nc-val-labels.pt\")\n",
    "nc_val_labels = torch.randint(0, 10, (num_vals,))\n",
    "print(f\"Part of val labels for node classification: {nc_val_labels[:3]}\")\n",
    "torch.save(nc_val_labels, nc_val_labels_path)\n",
    "print(f\"NC val labels are saved to {nc_val_labels_path}\\n\")\n",
    "\n",
    "nc_test_ids_path = os.path.join(base_dir, \"nc-test-ids.npy\")\n",
    "nc_test_ids = ids[-num_tests:]\n",
    "print(f\"Part of test ids for node classification: {nc_test_ids[:3]}\")\n",
    "np.save(nc_test_ids_path, nc_test_ids)\n",
    "print(f\"NC test ids are saved to {nc_test_ids_path}\\n\")\n",
    "\n",
    "nc_test_labels_path = os.path.join(base_dir, \"nc-test-labels.pt\")\n",
    "nc_test_labels = torch.randint(0, 10, (num_tests,))\n",
    "print(f\"Part of test labels for node classification: {nc_test_labels[:3]}\")\n",
    "torch.save(nc_test_labels, nc_test_labels_path)\n",
    "print(f\"NC test labels are saved to {nc_test_labels_path}\\n\")"
   ]
  },
  {
   "cell_type": "markdown",
   "metadata": {
    "id": "LhAcDCHQ_KJ0"
   },
   "source": [
    "#### Link Prediction Task\n",
    "For link prediction task, we need **seeds** or **corresponding labels and indexes** which representing the pos/neg property and group of the seeds for each training/validation/test set. Like feature data, numpy arrays and torch tensors are supported for these sets."
   ]
  },
  {
   "cell_type": "code",
   "execution_count": 6,
   "metadata": {
    "execution": {
     "iopub.execute_input": "2024-10-05T13:17:20.569105Z",
     "iopub.status.busy": "2024-10-05T13:17:20.568889Z",
     "iopub.status.idle": "2024-10-05T13:17:20.587697Z",
     "shell.execute_reply": "2024-10-05T13:17:20.586643Z"
    },
    "id": "u0jCnXIcAQy4"
   },
   "outputs": [
    {
     "name": "stdout",
     "output_type": "stream",
     "text": [
      "Part of train seeds for link prediction: [[768 123]\n",
      " [534  70]\n",
      " [816 778]]\n",
      "LP train seeds are saved to ./ondisk_dataset_homograph/lp-train-seeds.npy\n",
      "\n",
      "Part of val seeds for link prediction: [[163 946]\n",
      " [146 962]\n",
      " [688 992]]\n",
      "LP val seeds are saved to ./ondisk_dataset_homograph/lp-val-seeds.npy\n",
      "\n",
      "Part of val labels for link prediction: [1. 1. 1.]\n",
      "LP val labels are saved to ./ondisk_dataset_homograph/lp-val-labels.npy\n",
      "\n",
      "Part of val indexes for link prediction: [0 1 2]\n",
      "LP val indexes are saved to ./ondisk_dataset_homograph/lp-val-indexes.npy\n",
      "\n",
      "Part of test seeds for link prediction: [[830 862]\n",
      " [553 412]\n",
      " [711 615]]\n",
      "LP test seeds are saved to ./ondisk_dataset_homograph/lp-test-seeds.npy\n",
      "\n",
      "Part of val labels for link prediction: [1. 1. 1.]\n",
      "LP test labels are saved to ./ondisk_dataset_homograph/lp-test-labels.npy\n",
      "\n",
      "Part of test indexes for link prediction: [0 1 2]\n",
      "LP test indexes are saved to ./ondisk_dataset_homograph/lp-test-indexes.npy\n",
      "\n"
     ]
    }
   ],
   "source": [
    "num_trains = int(num_edges * 0.6)\n",
    "num_vals = int(num_edges * 0.2)\n",
    "num_tests = num_edges - num_trains - num_vals\n",
    "\n",
    "lp_train_seeds_path = os.path.join(base_dir, \"lp-train-seeds.npy\")\n",
    "lp_train_seeds = edges[:num_trains, :]\n",
    "print(f\"Part of train seeds for link prediction: {lp_train_seeds[:3]}\")\n",
    "np.save(lp_train_seeds_path, lp_train_seeds)\n",
    "print(f\"LP train seeds are saved to {lp_train_seeds_path}\\n\")\n",
    "\n",
    "lp_val_seeds_path = os.path.join(base_dir, \"lp-val-seeds.npy\")\n",
    "lp_val_seeds = edges[num_trains:num_trains+num_vals, :]\n",
    "lp_val_neg_dsts = np.random.randint(0, num_nodes, (num_vals, 10)).reshape(-1)\n",
    "lp_val_neg_srcs = np.repeat(lp_val_seeds[:,0], 10)\n",
    "lp_val_neg_seeds = np.concatenate((lp_val_neg_srcs, lp_val_neg_dsts)).reshape(2,-1).T\n",
    "lp_val_seeds = np.concatenate((lp_val_seeds, lp_val_neg_seeds))\n",
    "print(f\"Part of val seeds for link prediction: {lp_val_seeds[:3]}\")\n",
    "np.save(lp_val_seeds_path, lp_val_seeds)\n",
    "print(f\"LP val seeds are saved to {lp_val_seeds_path}\\n\")\n",
    "\n",
    "lp_val_labels_path = os.path.join(base_dir, \"lp-val-labels.npy\")\n",
    "lp_val_labels = np.empty(num_vals * (10 + 1))\n",
    "lp_val_labels[:num_vals] = 1\n",
    "lp_val_labels[num_vals:] = 0\n",
    "print(f\"Part of val labels for link prediction: {lp_val_labels[:3]}\")\n",
    "np.save(lp_val_labels_path, lp_val_labels)\n",
    "print(f\"LP val labels are saved to {lp_val_labels_path}\\n\")\n",
    "\n",
    "lp_val_indexes_path = os.path.join(base_dir, \"lp-val-indexes.npy\")\n",
    "lp_val_indexes = np.arange(0, num_vals)\n",
    "lp_val_neg_indexes = np.repeat(lp_val_indexes, 10)\n",
    "lp_val_indexes = np.concatenate([lp_val_indexes, lp_val_neg_indexes])\n",
    "print(f\"Part of val indexes for link prediction: {lp_val_indexes[:3]}\")\n",
    "np.save(lp_val_indexes_path, lp_val_indexes)\n",
    "print(f\"LP val indexes are saved to {lp_val_indexes_path}\\n\")\n",
    "\n",
    "lp_test_seeds_path = os.path.join(base_dir, \"lp-test-seeds.npy\")\n",
    "lp_test_seeds = edges[-num_tests:, :]\n",
    "lp_test_neg_dsts = np.random.randint(0, num_nodes, (num_tests, 10)).reshape(-1)\n",
    "lp_test_neg_srcs = np.repeat(lp_test_seeds[:,0], 10)\n",
    "lp_test_neg_seeds = np.concatenate((lp_test_neg_srcs, lp_test_neg_dsts)).reshape(2,-1).T\n",
    "lp_test_seeds = np.concatenate((lp_test_seeds, lp_test_neg_seeds))\n",
    "print(f\"Part of test seeds for link prediction: {lp_test_seeds[:3]}\")\n",
    "np.save(lp_test_seeds_path, lp_test_seeds)\n",
    "print(f\"LP test seeds are saved to {lp_test_seeds_path}\\n\")\n",
    "\n",
    "lp_test_labels_path = os.path.join(base_dir, \"lp-test-labels.npy\")\n",
    "lp_test_labels = np.empty(num_tests * (10 + 1))\n",
    "lp_test_labels[:num_tests] = 1\n",
    "lp_test_labels[num_tests:] = 0\n",
    "print(f\"Part of val labels for link prediction: {lp_test_labels[:3]}\")\n",
    "np.save(lp_test_labels_path, lp_test_labels)\n",
    "print(f\"LP test labels are saved to {lp_test_labels_path}\\n\")\n",
    "\n",
    "lp_test_indexes_path = os.path.join(base_dir, \"lp-test-indexes.npy\")\n",
    "lp_test_indexes = np.arange(0, num_tests)\n",
    "lp_test_neg_indexes = np.repeat(lp_test_indexes, 10)\n",
    "lp_test_indexes = np.concatenate([lp_test_indexes, lp_test_neg_indexes])\n",
    "print(f\"Part of test indexes for link prediction: {lp_test_indexes[:3]}\")\n",
    "np.save(lp_test_indexes_path, lp_test_indexes)\n",
    "print(f\"LP test indexes are saved to {lp_test_indexes_path}\\n\")"
   ]
  },
  {
   "cell_type": "markdown",
   "metadata": {
    "id": "wbk6-wxRK-6S"
   },
   "source": [
    "## Organize Data into YAML File\n",
    "Now we need to create a `metadata.yaml` file which contains the paths, dadta types of graph structure, feature data, training/validation/test sets.\n",
    "\n",
    "Notes:\n",
    "- all path should be relative to `metadata.yaml`.\n",
    "- Below fields are optional and not specified in below example.\n",
    "  - `in_memory`: indicates whether to load dada into memory or `mmap`. Default is `True`.\n",
    "\n",
    "Please refer to [YAML specification](https://github.com/dmlc/dgl/blob/master/docs/source/stochastic_training/ondisk-dataset-specification.rst) for more details."
   ]
  },
  {
   "cell_type": "code",
   "execution_count": 7,
   "metadata": {
    "execution": {
     "iopub.execute_input": "2024-10-05T13:17:20.590373Z",
     "iopub.status.busy": "2024-10-05T13:17:20.589955Z",
     "iopub.status.idle": "2024-10-05T13:17:20.596374Z",
     "shell.execute_reply": "2024-10-05T13:17:20.595490Z"
    },
    "id": "ddGTWW61Lpwp"
   },
   "outputs": [],
   "source": [
    "yaml_content = f\"\"\"\n",
    "    dataset_name: homogeneous_graph_nc_lp\n",
    "    graph:\n",
    "      nodes:\n",
    "        - num: {num_nodes}\n",
    "      edges:\n",
    "        - format: csv\n",
    "          path: {os.path.basename(edges_path)}\n",
    "    feature_data:\n",
    "      - domain: node\n",
    "        name: feat_0\n",
    "        format: numpy\n",
    "        path: {os.path.basename(node_feat_0_path)}\n",
    "      - domain: node\n",
    "        name: feat_1\n",
    "        format: torch\n",
    "        path: {os.path.basename(node_feat_1_path)}\n",
    "      - domain: edge\n",
    "        name: feat_0\n",
    "        format: numpy\n",
    "        path: {os.path.basename(edge_feat_0_path)}\n",
    "      - domain: edge\n",
    "        name: feat_1\n",
    "        format: torch\n",
    "        path: {os.path.basename(edge_feat_1_path)}\n",
    "    tasks:\n",
    "      - name: node_classification\n",
    "        num_classes: 10\n",
    "        train_set:\n",
    "          - data:\n",
    "              - name: seeds\n",
    "                format: numpy\n",
    "                path: {os.path.basename(nc_train_ids_path)}\n",
    "              - name: labels\n",
    "                format: torch\n",
    "                path: {os.path.basename(nc_train_labels_path)}\n",
    "        validation_set:\n",
    "          - data:\n",
    "              - name: seeds\n",
    "                format: numpy\n",
    "                path: {os.path.basename(nc_val_ids_path)}\n",
    "              - name: labels\n",
    "                format: torch\n",
    "                path: {os.path.basename(nc_val_labels_path)}\n",
    "        test_set:\n",
    "          - data:\n",
    "              - name: seeds\n",
    "                format: numpy\n",
    "                path: {os.path.basename(nc_test_ids_path)}\n",
    "              - name: labels\n",
    "                format: torch\n",
    "                path: {os.path.basename(nc_test_labels_path)}\n",
    "      - name: link_prediction\n",
    "        num_classes: 10\n",
    "        train_set:\n",
    "          - data:\n",
    "              - name: seeds\n",
    "                format: numpy\n",
    "                path: {os.path.basename(lp_train_seeds_path)}\n",
    "        validation_set:\n",
    "          - data:\n",
    "              - name: seeds\n",
    "                format: numpy\n",
    "                path: {os.path.basename(lp_val_seeds_path)}\n",
    "              - name: labels\n",
    "                format: numpy\n",
    "                path: {os.path.basename(lp_val_labels_path)}\n",
    "              - name: indexes\n",
    "                format: numpy\n",
    "                path: {os.path.basename(lp_val_indexes_path)}\n",
    "        test_set:\n",
    "          - data:\n",
    "              - name: seeds\n",
    "                format: numpy\n",
    "                path: {os.path.basename(lp_test_seeds_path)}\n",
    "              - name: labels\n",
    "                format: numpy\n",
    "                path: {os.path.basename(lp_test_labels_path)}\n",
    "              - name: indexes\n",
    "                format: numpy\n",
    "                path: {os.path.basename(lp_test_indexes_path)}\n",
    "\"\"\"\n",
    "metadata_path = os.path.join(base_dir, \"metadata.yaml\")\n",
    "with open(metadata_path, \"w\") as f:\n",
    "  f.write(yaml_content)"
   ]
  },
  {
   "cell_type": "markdown",
   "metadata": {
    "id": "kEfybHGhOW7O"
   },
   "source": [
    "## Instantiate `OnDiskDataset`\n",
    "Now we're ready to load dataset via `dgl.graphbolt.OnDiskDataset`. When instantiating, we just pass in the base directory where `metadata.yaml` file lies.\n",
    "\n",
    "During first instantiation, GraphBolt preprocesses the raw data such as constructing `FusedCSCSamplingGraph` from edges. All data including graph, feature data, training/validation/test sets are put into `preprocessed` directory after preprocessing. Any following dataset loading will skip the preprocess stage.\n",
    "\n",
    "After preprocessing, `load()` is required to be called explicitly in order to load graph, feature data and tasks."
   ]
  },
  {
   "cell_type": "code",
   "execution_count": 8,
   "metadata": {
    "execution": {
     "iopub.execute_input": "2024-10-05T13:17:20.599052Z",
     "iopub.status.busy": "2024-10-05T13:17:20.598841Z",
     "iopub.status.idle": "2024-10-05T13:17:20.668391Z",
     "shell.execute_reply": "2024-10-05T13:17:20.667673Z"
    },
    "id": "W58CZoSzOiyo"
   },
   "outputs": [
    {
     "name": "stdout",
     "output_type": "stream",
     "text": [
      "Start to preprocess the on-disk dataset.\n",
      "Finish preprocessing the on-disk dataset.\n",
      "Loaded graph: FusedCSCSamplingGraph(csc_indptr=tensor([    0,    12,    23,  ...,  9977,  9989, 10000], dtype=torch.int32),\n",
      "                      indices=tensor([928, 849, 533,  ..., 524, 306, 930], dtype=torch.int32),\n",
      "                      total_num_nodes=1000, num_edges=10000,)\n",
      "\n",
      "Loaded feature store: TorchBasedFeatureStore(\n",
      "    {(<OnDiskFeatureDataDomain.NODE: 'node'>, None, 'feat_0'): TorchBasedFeature(\n",
      "        feature=tensor([[0.1957, 0.9045, 0.2041, 0.7300, 0.0336],\n",
      "                        [0.6912, 0.8336, 0.3248, 0.0797, 0.2809],\n",
      "                        [0.3437, 0.0777, 0.2987, 0.8716, 0.8051],\n",
      "                        ...,\n",
      "                        [0.3447, 0.1746, 0.0218, 0.1863, 0.6635],\n",
      "                        [0.8769, 0.5691, 0.3876, 0.3320, 0.7906],\n",
      "                        [0.6510, 0.6379, 0.8236, 0.7613, 0.9962]], dtype=torch.float64),\n",
      "        metadata={},\n",
      "    ), (<OnDiskFeatureDataDomain.NODE: 'node'>, None, 'feat_1'): TorchBasedFeature(\n",
      "        feature=tensor([[0.3620, 0.0468, 0.6180, 0.2179, 0.6064],\n",
      "                        [0.8614, 0.7205, 0.0805, 0.3063, 0.1265],\n",
      "                        [0.6713, 0.7327, 0.2159, 0.9466, 0.8810],\n",
      "                        ...,\n",
      "                        [0.6796, 0.9977, 0.8803, 0.3922, 0.2345],\n",
      "                        [0.1767, 0.9243, 0.2688, 0.5016, 0.0827],\n",
      "                        [0.1955, 0.4891, 0.7616, 0.4156, 0.3874]]),\n",
      "        metadata={},\n",
      "    ), (<OnDiskFeatureDataDomain.EDGE: 'edge'>, None, 'feat_0'): TorchBasedFeature(\n",
      "        feature=tensor([[0.4038, 0.9268, 0.7889, 0.1065, 0.0472],\n",
      "                        [0.7351, 0.0943, 0.7112, 0.9604, 0.1241],\n",
      "                        [0.3752, 0.5004, 0.7344, 0.4959, 0.9162],\n",
      "                        ...,\n",
      "                        [0.0364, 0.0363, 0.5538, 0.2549, 0.3591],\n",
      "                        [0.4190, 0.8393, 0.0311, 0.9158, 0.2105],\n",
      "                        [0.0518, 0.8015, 0.2761, 0.6462, 0.6875]], dtype=torch.float64),\n",
      "        metadata={},\n",
      "    ), (<OnDiskFeatureDataDomain.EDGE: 'edge'>, None, 'feat_1'): TorchBasedFeature(\n",
      "        feature=tensor([[0.8404, 0.9345, 0.1907, 0.3979, 0.2791],\n",
      "                        [0.7570, 0.4793, 0.9602, 0.3532, 0.6985],\n",
      "                        [0.3353, 0.6770, 0.8198, 0.8849, 0.7747],\n",
      "                        ...,\n",
      "                        [0.5934, 0.1594, 0.3271, 0.3415, 0.6603],\n",
      "                        [0.9502, 0.7011, 0.0299, 0.8680, 0.1545],\n",
      "                        [0.1533, 0.1523, 0.7993, 0.5380, 0.5542]]),\n",
      "        metadata={},\n",
      "    )}\n",
      ")\n",
      "\n",
      "Loaded node classification task: OnDiskTask(validation_set=ItemSet(\n",
      "               items=(tensor([873,  81, 797, 686, 280, 329, 343, 655, 922, 979,  57, 189, 556, 941,\n",
      "                   615, 453, 968, 158, 282, 159, 983, 470, 550, 752, 713, 843, 262, 650,\n",
      "                   771, 629, 914, 796, 211, 835, 260, 202, 139, 484, 313, 661, 419, 736,\n",
      "                   137, 387, 902, 619, 142, 613, 256, 248, 911, 568, 474, 695, 895, 288,\n",
      "                   358, 643, 485, 511, 580, 454,  34, 778, 782, 604, 583,  82, 890, 747,\n",
      "                   469, 235,  89, 653, 706, 389, 489, 539, 959, 285, 131, 307, 169, 145,\n",
      "                   757, 641,  16, 133, 627, 479, 143,  29, 601, 457, 259, 791, 266, 317,\n",
      "                   954, 101, 542, 976, 624, 208, 881, 494,  44, 847, 670, 893, 325, 957,\n",
      "                   772, 756, 245, 594, 205, 734, 519,  42, 904, 405, 965, 296, 528, 155,\n",
      "                   917,  21, 264, 878, 150, 564, 788, 720, 597,  78, 436, 482, 777, 834,\n",
      "                    83, 845, 305, 153, 281, 856, 399, 681, 108, 938, 709, 161, 865, 111,\n",
      "                   398, 333, 411, 740, 178, 868, 536,  84,  26,  75, 303,  95, 267, 183,\n",
      "                     3, 749, 298, 688, 936, 337, 930, 966,  30, 767, 138, 127, 634,  45,\n",
      "                   975, 883, 164, 614, 185, 833, 529,  31, 718, 591, 562, 537, 530, 741,\n",
      "                   219, 611, 552, 204], dtype=torch.int32), tensor([1, 2, 3, 4, 3, 0, 7, 0, 1, 9, 0, 0, 1, 8, 0, 3, 0, 1, 1, 4, 8, 6, 7, 4,\n",
      "                   1, 5, 8, 5, 6, 0, 8, 0, 2, 1, 2, 4, 0, 6, 2, 6, 6, 6, 7, 4, 7, 5, 6, 0,\n",
      "                   7, 5, 4, 2, 2, 7, 6, 1, 7, 8, 9, 1, 6, 0, 5, 8, 5, 6, 5, 1, 0, 8, 9, 6,\n",
      "                   5, 0, 4, 9, 3, 0, 4, 9, 1, 9, 8, 3, 5, 3, 9, 9, 2, 4, 2, 9, 1, 4, 9, 8,\n",
      "                   3, 8, 2, 9, 2, 1, 3, 1, 7, 5, 3, 1, 8, 3, 4, 9, 4, 5, 0, 3, 4, 4, 7, 6,\n",
      "                   3, 3, 6, 2, 3, 1, 8, 7, 5, 6, 9, 6, 0, 8, 9, 8, 3, 2, 7, 5, 9, 4, 1, 7,\n",
      "                   6, 2, 1, 5, 1, 2, 1, 4, 2, 9, 1, 1, 6, 8, 9, 4, 1, 6, 3, 2, 6, 6, 1, 0,\n",
      "                   1, 6, 8, 7, 1, 1, 4, 0, 1, 4, 1, 6, 1, 1, 2, 3, 6, 5, 3, 0, 9, 6, 2, 2,\n",
      "                   0, 2, 9, 1, 5, 2, 5, 3])),\n",
      "               names=('seeds', 'labels'),\n",
      "           ),\n",
      "           train_set=ItemSet(\n",
      "               items=(tensor([222, 224, 785,  10,  73, 899, 549, 513, 671, 887, 818, 858, 682, 458,\n",
      "                    66, 113, 628, 742, 270, 908, 349, 283,  19,  70, 804,   5, 241, 735,\n",
      "                   971, 765, 215,  50, 633, 840, 459, 690, 748, 874, 980, 265, 963,   1,\n",
      "                   838, 374, 263, 649, 576, 817, 770, 431, 397, 477, 443,  52, 588, 848,\n",
      "                   309, 198, 508, 737, 375, 390, 515, 738, 372, 328, 993, 312, 301, 892,\n",
      "                   961, 719, 710, 412, 322,  48, 225, 751, 520, 715, 434, 417, 289, 364,\n",
      "                   585, 743,  60, 726, 926, 220, 172, 163, 499, 152, 630, 391, 746, 872,\n",
      "                   616, 675, 794, 990, 533, 802, 626, 822, 471, 460, 187, 449, 647, 258,\n",
      "                   766, 839, 924, 784, 480, 426, 589, 998, 711, 272, 475, 118, 875, 545,\n",
      "                    51, 400, 913, 898, 214, 244, 612, 302, 472, 707, 814, 606, 376, 803,\n",
      "                   383, 658, 117, 544, 685, 559, 677, 891, 478, 581, 401, 689, 213,  18,\n",
      "                   488,  40,  22, 982, 717, 147, 218, 175, 300, 648, 724, 468, 857, 842,\n",
      "                   368, 918, 166, 425, 731, 894, 228,  54, 755, 239, 962, 524, 859, 992,\n",
      "                   363, 500,  39, 620, 496, 705, 327, 943, 826, 888, 274, 910, 382,  20,\n",
      "                   237, 897, 415, 192, 561,  63,  88, 501, 947, 342, 793,  35, 306, 324,\n",
      "                   618, 123,  90, 708, 130, 253, 268, 497, 353, 119, 974, 467, 915, 725,\n",
      "                   851, 995, 112, 106, 483, 335, 806, 100, 635, 107, 216,   6, 465, 269,\n",
      "                   279, 994, 642, 345, 165, 837, 956, 180, 876, 518, 901,   9, 331, 396,\n",
      "                   250, 753, 197, 985, 664, 712, 240, 188, 721, 935, 365, 621, 255, 805,\n",
      "                   900, 687, 662, 209, 548, 927, 157, 230, 846, 102, 903, 292, 644,  61,\n",
      "                   171, 348, 828, 573, 825, 105, 421, 758, 723, 252, 193, 316, 464, 676,\n",
      "                   800, 697, 357, 678, 663, 727, 381, 668, 132, 836, 275, 574, 764,  94,\n",
      "                   428, 799, 326, 351, 284,  27, 423, 729, 692, 567,  92,  17, 952, 495,\n",
      "                   928, 774, 121, 844, 912, 352, 523, 934, 819, 354, 388, 251, 879, 651,\n",
      "                   862, 579, 603, 602, 504, 867, 444,  23, 761, 667,  12, 578, 988, 174,\n",
      "                   115, 394, 360, 409, 238, 129, 889,  55, 190, 359, 420, 203, 195, 340,\n",
      "                   414, 852, 277, 217, 560, 455,  13, 109, 639, 905, 669, 798, 385, 201,\n",
      "                    80, 939, 148, 498, 151,  41, 191, 815, 702,  32, 945, 698, 787,  85,\n",
      "                   430, 584, 295, 660, 141, 223, 750, 813, 355, 451, 448,   2, 716, 553,\n",
      "                   503, 781, 154, 907, 730, 942, 792, 714, 254, 776, 608, 937, 699, 181,\n",
      "                   951, 276, 408, 733, 160, 989, 999, 104, 491,  53,  14, 563, 531,   7,\n",
      "                    36, 176, 450,  65, 824, 200, 896, 462, 432, 526, 445, 321, 473, 527,\n",
      "                   953, 103, 199, 919, 967, 395, 162, 949, 987, 654, 812, 886, 517, 673,\n",
      "                   973, 122, 356, 607,  33, 541, 871, 418, 362, 540, 775, 551, 346, 367,\n",
      "                   446, 595, 323, 863,  37, 780, 645, 114, 816, 291, 789,  96, 944, 236,\n",
      "                   694,  69, 759, 672, 182,  98, 659, 336, 535, 950, 525, 416, 779,  11,\n",
      "                   582, 170, 377, 853, 593, 801, 931, 946, 243, 110,  76, 146, 212, 120,\n",
      "                   827, 184, 304, 229, 617,  97, 691, 866, 625, 790, 547, 493, 206, 538,\n",
      "                   466, 315, 964, 972, 906, 923, 167,  99, 233, 656, 413, 929, 745, 140,\n",
      "                   925, 534, 392, 438, 433, 870, 860, 884, 490, 640, 134, 463, 864, 196,\n",
      "                   125, 810,  47, 955, 572, 332,  64, 981, 410, 406, 598, 293, 610, 849,\n",
      "                   760,   0, 978,  38, 558, 592, 807, 278, 514, 631, 623, 429, 124, 609,\n",
      "                   373, 378, 885, 855, 996, 744, 704, 577, 116, 361, 486, 441],\n",
      "                  dtype=torch.int32), tensor([5, 9, 0, 0, 8, 1, 0, 8, 6, 2, 1, 5, 3, 6, 2, 5, 8, 5, 5, 0, 1, 7, 1, 2,\n",
      "                   7, 7, 6, 2, 6, 7, 6, 9, 8, 5, 0, 9, 9, 1, 3, 6, 8, 9, 8, 1, 1, 6, 6, 5,\n",
      "                   2, 9, 7, 7, 4, 3, 2, 7, 4, 1, 4, 2, 9, 4, 6, 3, 8, 1, 4, 9, 6, 3, 1, 5,\n",
      "                   7, 8, 5, 5, 2, 5, 3, 9, 6, 2, 9, 5, 1, 7, 4, 0, 6, 2, 7, 3, 9, 2, 1, 9,\n",
      "                   9, 8, 0, 8, 0, 8, 4, 4, 6, 9, 0, 0, 8, 3, 9, 2, 2, 0, 1, 0, 4, 2, 8, 8,\n",
      "                   0, 4, 2, 5, 1, 7, 4, 3, 8, 7, 4, 8, 5, 5, 7, 1, 2, 0, 3, 7, 8, 4, 9, 7,\n",
      "                   8, 4, 2, 1, 6, 4, 9, 0, 2, 0, 5, 5, 4, 0, 0, 2, 6, 4, 7, 3, 8, 5, 6, 5,\n",
      "                   3, 2, 7, 5, 8, 5, 9, 1, 0, 0, 8, 1, 6, 8, 4, 3, 0, 3, 9, 2, 0, 3, 0, 4,\n",
      "                   9, 6, 4, 8, 6, 6, 0, 9, 8, 8, 3, 3, 5, 5, 7, 3, 3, 6, 9, 2, 0, 5, 9, 9,\n",
      "                   1, 6, 1, 2, 1, 3, 3, 2, 4, 4, 3, 7, 7, 7, 2, 2, 6, 6, 1, 4, 3, 5, 8, 4,\n",
      "                   6, 4, 5, 6, 1, 6, 8, 3, 6, 7, 7, 0, 1, 2, 0, 5, 4, 0, 9, 0, 4, 4, 2, 2,\n",
      "                   8, 3, 0, 0, 5, 1, 4, 7, 0, 2, 6, 1, 9, 8, 9, 5, 7, 8, 8, 4, 8, 6, 7, 7,\n",
      "                   5, 7, 2, 4, 1, 9, 5, 2, 7, 5, 7, 7, 3, 9, 8, 7, 8, 1, 3, 4, 1, 9, 2, 3,\n",
      "                   7, 9, 9, 5, 0, 0, 6, 8, 4, 6, 3, 9, 7, 5, 2, 8, 3, 1, 7, 2, 2, 5, 0, 9,\n",
      "                   9, 8, 3, 3, 1, 3, 4, 1, 3, 4, 1, 6, 6, 8, 4, 3, 5, 8, 3, 9, 1, 3, 4, 5,\n",
      "                   1, 3, 9, 4, 4, 0, 8, 7, 1, 1, 7, 8, 1, 0, 4, 1, 3, 4, 0, 3, 9, 1, 2, 5,\n",
      "                   4, 8, 6, 1, 1, 5, 9, 8, 9, 6, 5, 6, 5, 8, 9, 8, 9, 8, 8, 8, 4, 3, 4, 4,\n",
      "                   7, 3, 3, 2, 1, 7, 1, 6, 9, 3, 3, 9, 6, 2, 3, 3, 2, 7, 0, 5, 1, 4, 2, 4,\n",
      "                   8, 9, 2, 4, 4, 6, 5, 7, 1, 1, 9, 9, 3, 7, 3, 2, 0, 6, 9, 6, 6, 4, 3, 7,\n",
      "                   3, 0, 4, 8, 7, 5, 6, 9, 9, 0, 6, 2, 1, 9, 4, 3, 5, 4, 9, 3, 8, 8, 5, 0,\n",
      "                   0, 3, 7, 5, 8, 8, 1, 8, 9, 7, 7, 2, 7, 0, 2, 6, 3, 1, 4, 9, 1, 6, 2, 6,\n",
      "                   9, 7, 5, 5, 0, 9, 1, 1, 6, 9, 0, 3, 1, 1, 9, 7, 2, 7, 3, 2, 4, 0, 3, 2,\n",
      "                   1, 1, 3, 1, 9, 8, 6, 9, 8, 5, 3, 6, 5, 7, 7, 7, 6, 5, 1, 0, 5, 0, 4, 0,\n",
      "                   3, 0, 4, 7, 7, 6, 5, 1, 2, 1, 9, 1, 8, 6, 2, 5, 3, 0, 9, 9, 9, 2, 8, 3,\n",
      "                   6, 8, 6, 1, 3, 8, 0, 9, 7, 1, 4, 0, 9, 6, 8, 2, 2, 4, 1, 4, 6, 1, 9, 1])),\n",
      "               names=('seeds', 'labels'),\n",
      "           ),\n",
      "           test_set=ItemSet(\n",
      "               items=(tensor([636, 850, 242, 226, 369, 532, 338, 596, 318,   8, 437, 512, 194,  59,\n",
      "                   679, 247, 261, 590, 287, 505, 366, 452, 339,   4, 447,  77, 696, 179,\n",
      "                   310, 347, 722, 571, 565, 440, 210, 476, 249, 439, 728, 308, 546,  86,\n",
      "                   344, 823, 557, 599, 795, 294, 701, 684, 510, 829, 461, 830, 605, 186,\n",
      "                   380, 386, 320, 703, 232, 700, 783, 657,  87, 841, 521,  49,  46, 144,\n",
      "                   456, 173, 768,  74, 587, 882, 754, 407,  72, 149, 481,  71, 809, 492,\n",
      "                   940, 958, 334, 424, 297, 586, 921,  43, 674, 683,  28,  25, 516, 997,\n",
      "                   487, 442, 991, 231, 986,  91, 762, 371, 393, 869, 732, 920, 600, 506,\n",
      "                   638, 509, 370, 570, 126, 314, 555, 227, 984, 168, 257, 666, 136, 402,\n",
      "                   422, 646, 435, 652,  62,  68, 693, 221, 566, 861, 960, 739, 286, 522,\n",
      "                   427, 880, 350, 916,  79, 177,  15, 820, 207, 554, 832, 502, 128, 909,\n",
      "                    58, 234, 948, 773, 932, 622, 507, 763, 854, 341, 821, 330,  93, 403,\n",
      "                   831, 156, 969, 769, 246, 970, 290, 271, 273, 877, 543, 569, 575,  56,\n",
      "                   680, 299, 404, 632, 786, 811,  67, 637, 379, 135, 384, 808, 665,  24,\n",
      "                   977, 311, 933, 319], dtype=torch.int32), tensor([1, 1, 0, 2, 5, 6, 5, 7, 0, 7, 1, 7, 7, 2, 5, 9, 2, 8, 3, 2, 0, 2, 8, 6,\n",
      "                   7, 9, 4, 6, 0, 0, 8, 5, 0, 3, 9, 2, 6, 3, 0, 7, 8, 5, 9, 1, 7, 2, 7, 5,\n",
      "                   0, 0, 2, 3, 0, 4, 2, 6, 9, 0, 3, 4, 4, 0, 7, 0, 6, 9, 3, 8, 0, 8, 8, 2,\n",
      "                   1, 3, 7, 0, 7, 0, 1, 6, 6, 0, 9, 6, 9, 2, 6, 5, 7, 7, 4, 0, 5, 6, 3, 4,\n",
      "                   8, 6, 8, 6, 9, 5, 9, 1, 1, 0, 3, 6, 6, 3, 1, 5, 7, 9, 6, 7, 6, 3, 4, 7,\n",
      "                   3, 5, 7, 6, 0, 8, 3, 4, 4, 2, 0, 7, 9, 4, 1, 4, 2, 4, 0, 6, 6, 0, 4, 5,\n",
      "                   4, 8, 0, 7, 8, 6, 2, 9, 3, 9, 0, 0, 2, 5, 0, 6, 4, 6, 1, 7, 7, 0, 1, 9,\n",
      "                   6, 0, 6, 3, 4, 6, 2, 9, 7, 6, 5, 3, 7, 2, 8, 8, 2, 7, 2, 8, 3, 9, 5, 1,\n",
      "                   6, 3, 7, 8, 7, 5, 9, 1])),\n",
      "               names=('seeds', 'labels'),\n",
      "           ),\n",
      "           metadata={'name': 'node_classification', 'num_classes': 10},)\n",
      "\n",
      "Loaded link prediction task: OnDiskTask(validation_set=ItemSet(\n",
      "               items=(tensor([[163, 946],\n",
      "                   [146, 962],\n",
      "                   [688, 992],\n",
      "                   ...,\n",
      "                   [565, 398],\n",
      "                   [565, 993],\n",
      "                   [565, 801]], dtype=torch.int32), tensor([1., 1., 1.,  ..., 0., 0., 0.], dtype=torch.float64), tensor([   0,    1,    2,  ..., 1999, 1999, 1999])),\n",
      "               names=('seeds', 'labels', 'indexes'),\n",
      "           ),\n",
      "           train_set=ItemSet(\n",
      "               items=(tensor([[768, 123],\n",
      "                   [534,  70],\n",
      "                   [816, 778],\n",
      "                   ...,\n",
      "                   [833, 759],\n",
      "                   [653, 572],\n",
      "                   [328, 847]], dtype=torch.int32),),\n",
      "               names=('seeds',),\n",
      "           ),\n",
      "           test_set=ItemSet(\n",
      "               items=(tensor([[830, 862],\n",
      "                   [553, 412],\n",
      "                   [711, 615],\n",
      "                   ...,\n",
      "                   [501, 426],\n",
      "                   [501, 763],\n",
      "                   [501, 332]], dtype=torch.int32), tensor([1., 1., 1.,  ..., 0., 0., 0.], dtype=torch.float64), tensor([   0,    1,    2,  ..., 1999, 1999, 1999])),\n",
      "               names=('seeds', 'labels', 'indexes'),\n",
      "           ),\n",
      "           metadata={'name': 'link_prediction', 'num_classes': 10},)\n",
      "\n"
     ]
    },
    {
     "name": "stderr",
     "output_type": "stream",
     "text": [
      "/dgl/python/dgl/graphbolt/impl/ondisk_dataset.py:463: GBWarning: Edge feature is stored, but edge IDs are not saved.\n",
      "  gb_warning(\"Edge feature is stored, but edge IDs are not saved.\")\n"
     ]
    }
   ],
   "source": [
    "dataset = gb.OnDiskDataset(base_dir).load()\n",
    "graph = dataset.graph\n",
    "print(f\"Loaded graph: {graph}\\n\")\n",
    "\n",
    "feature = dataset.feature\n",
    "print(f\"Loaded feature store: {feature}\\n\")\n",
    "\n",
    "tasks = dataset.tasks\n",
    "nc_task = tasks[0]\n",
    "print(f\"Loaded node classification task: {nc_task}\\n\")\n",
    "lp_task = tasks[1]\n",
    "print(f\"Loaded link prediction task: {lp_task}\\n\")"
   ]
  }
 ],
 "metadata": {
  "colab": {
   "private_outputs": true,
   "provenance": []
  },
  "kernelspec": {
   "display_name": "Python 3",
   "name": "python3"
  },
  "language_info": {
   "codemirror_mode": {
    "name": "ipython",
    "version": 3
   },
   "file_extension": ".py",
   "mimetype": "text/x-python",
   "name": "python",
   "nbconvert_exporter": "python",
   "pygments_lexer": "ipython3",
   "version": "3.10.15"
  }
 },
 "nbformat": 4,
 "nbformat_minor": 0
}

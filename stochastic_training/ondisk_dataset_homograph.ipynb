{
 "cells": [
  {
   "cell_type": "markdown",
   "metadata": {
    "id": "FnFhPMaAfLtJ"
   },
   "source": [
    "# OnDiskDataset for Homogeneous Graph\n",
    "\n",
    "[![Open In Colab](https://colab.research.google.com/assets/colab-badge.svg)](https://colab.research.google.com/github/dmlc/dgl/blob/master/notebooks/stochastic_training/ondisk_dataset_homograph.ipynb) [![GitHub](https://img.shields.io/badge/-View%20on%20GitHub-181717?logo=github&logoColor=ffffff)](https://github.com/dmlc/dgl/blob/master/notebooks/stochastic_training/ondisk_dataset_homograph.ipynb)\n",
    "\n",
    "This tutorial shows how to create `OnDiskDataset` for homogeneous graph that could be used in **GraphBolt** framework.\n",
    "\n",
    "By the end of this tutorial, you will be able to\n",
    "\n",
    "- organize graph structure data.\n",
    "- organize feature data.\n",
    "- organize training/validation/test set for specific tasks.\n",
    "\n",
    "To create an ``OnDiskDataset`` object, you need to organize all the data including graph structure, feature data and tasks into a directory. The directory should contain a ``metadata.yaml`` file that describes the metadata of the dataset.\n",
    "\n",
    "Now let's generate various data step by step and organize them together to instantiate `OnDiskDataset` finally."
   ]
  },
  {
   "cell_type": "markdown",
   "metadata": {
    "id": "Wlb19DtWgtzq"
   },
   "source": [
    "## Install DGL package"
   ]
  },
  {
   "cell_type": "code",
   "execution_count": 1,
   "metadata": {
    "execution": {
     "iopub.execute_input": "2024-08-05T08:05:59.637737Z",
     "iopub.status.busy": "2024-08-05T08:05:59.637368Z",
     "iopub.status.idle": "2024-08-05T08:06:04.351201Z",
     "shell.execute_reply": "2024-08-05T08:06:04.350486Z"
    },
    "id": "UojlT9ZGgyr9"
   },
   "outputs": [
    {
     "name": "stdout",
     "output_type": "stream",
     "text": [
      "Looking in links: https://data.dgl.ai/wheels-test/repo.html\r\n",
      "Requirement already satisfied: dgl in /opt/conda/envs/gpu/lib/python3.10/site-packages (2.2a240410)\r\n",
      "Requirement already satisfied: numpy>=1.14.0 in /opt/conda/envs/gpu/lib/python3.10/site-packages (from dgl) (1.26.4)\r\n",
      "Requirement already satisfied: scipy>=1.1.0 in /opt/conda/envs/gpu/lib/python3.10/site-packages (from dgl) (1.13.0)\r\n",
      "Requirement already satisfied: networkx>=2.1 in /opt/conda/envs/gpu/lib/python3.10/site-packages (from dgl) (3.3)\r\n",
      "Requirement already satisfied: requests>=2.19.0 in /opt/conda/envs/gpu/lib/python3.10/site-packages (from dgl) (2.31.0)\r\n",
      "Requirement already satisfied: tqdm in /opt/conda/envs/gpu/lib/python3.10/site-packages (from dgl) (4.66.2)\r\n",
      "Requirement already satisfied: psutil>=5.8.0 in /opt/conda/envs/gpu/lib/python3.10/site-packages (from dgl) (5.9.8)\r\n",
      "Requirement already satisfied: torchdata>=0.5.0 in /opt/conda/envs/gpu/lib/python3.10/site-packages (from dgl) (0.7.1)\r\n",
      "Requirement already satisfied: pandas in /opt/conda/envs/gpu/lib/python3.10/site-packages (from dgl) (2.2.2)\r\n"
     ]
    },
    {
     "name": "stdout",
     "output_type": "stream",
     "text": [
      "Requirement already satisfied: charset-normalizer<4,>=2 in /opt/conda/envs/gpu/lib/python3.10/site-packages (from requests>=2.19.0->dgl) (3.3.2)\r\n",
      "Requirement already satisfied: idna<4,>=2.5 in /opt/conda/envs/gpu/lib/python3.10/site-packages (from requests>=2.19.0->dgl) (3.7)\r\n",
      "Requirement already satisfied: urllib3<3,>=1.21.1 in /opt/conda/envs/gpu/lib/python3.10/site-packages (from requests>=2.19.0->dgl) (2.2.1)\r\n",
      "Requirement already satisfied: certifi>=2017.4.17 in /opt/conda/envs/gpu/lib/python3.10/site-packages (from requests>=2.19.0->dgl) (2024.2.2)\r\n",
      "Requirement already satisfied: torch>=2 in /opt/conda/envs/gpu/lib/python3.10/site-packages (from torchdata>=0.5.0->dgl) (2.2.1+cu121)\r\n"
     ]
    },
    {
     "name": "stdout",
     "output_type": "stream",
     "text": [
      "Requirement already satisfied: python-dateutil>=2.8.2 in /opt/conda/envs/gpu/lib/python3.10/site-packages (from pandas->dgl) (2.9.0.post0)\r\n",
      "Requirement already satisfied: pytz>=2020.1 in /opt/conda/envs/gpu/lib/python3.10/site-packages (from pandas->dgl) (2024.1)\r\n",
      "Requirement already satisfied: tzdata>=2022.7 in /opt/conda/envs/gpu/lib/python3.10/site-packages (from pandas->dgl) (2024.1)\r\n",
      "Requirement already satisfied: six>=1.5 in /opt/conda/envs/gpu/lib/python3.10/site-packages (from python-dateutil>=2.8.2->pandas->dgl) (1.16.0)\r\n"
     ]
    },
    {
     "name": "stdout",
     "output_type": "stream",
     "text": [
      "Requirement already satisfied: filelock in /opt/conda/envs/gpu/lib/python3.10/site-packages (from torch>=2->torchdata>=0.5.0->dgl) (3.13.4)\r\n",
      "Requirement already satisfied: typing-extensions>=4.8.0 in /opt/conda/envs/gpu/lib/python3.10/site-packages (from torch>=2->torchdata>=0.5.0->dgl) (4.11.0)\r\n",
      "Requirement already satisfied: sympy in /opt/conda/envs/gpu/lib/python3.10/site-packages (from torch>=2->torchdata>=0.5.0->dgl) (1.12)\r\n",
      "Requirement already satisfied: jinja2 in /opt/conda/envs/gpu/lib/python3.10/site-packages (from torch>=2->torchdata>=0.5.0->dgl) (3.1.3)\r\n",
      "Requirement already satisfied: fsspec in /opt/conda/envs/gpu/lib/python3.10/site-packages (from torch>=2->torchdata>=0.5.0->dgl) (2024.3.1)\r\n",
      "Requirement already satisfied: nvidia-cuda-nvrtc-cu12==12.1.105 in /opt/conda/envs/gpu/lib/python3.10/site-packages (from torch>=2->torchdata>=0.5.0->dgl) (12.1.105)\r\n",
      "Requirement already satisfied: nvidia-cuda-runtime-cu12==12.1.105 in /opt/conda/envs/gpu/lib/python3.10/site-packages (from torch>=2->torchdata>=0.5.0->dgl) (12.1.105)\r\n",
      "Requirement already satisfied: nvidia-cuda-cupti-cu12==12.1.105 in /opt/conda/envs/gpu/lib/python3.10/site-packages (from torch>=2->torchdata>=0.5.0->dgl) (12.1.105)\r\n",
      "Requirement already satisfied: nvidia-cudnn-cu12==8.9.2.26 in /opt/conda/envs/gpu/lib/python3.10/site-packages (from torch>=2->torchdata>=0.5.0->dgl) (8.9.2.26)\r\n",
      "Requirement already satisfied: nvidia-cublas-cu12==12.1.3.1 in /opt/conda/envs/gpu/lib/python3.10/site-packages (from torch>=2->torchdata>=0.5.0->dgl) (12.1.3.1)\r\n",
      "Requirement already satisfied: nvidia-cufft-cu12==11.0.2.54 in /opt/conda/envs/gpu/lib/python3.10/site-packages (from torch>=2->torchdata>=0.5.0->dgl) (11.0.2.54)\r\n",
      "Requirement already satisfied: nvidia-curand-cu12==10.3.2.106 in /opt/conda/envs/gpu/lib/python3.10/site-packages (from torch>=2->torchdata>=0.5.0->dgl) (10.3.2.106)\r\n",
      "Requirement already satisfied: nvidia-cusolver-cu12==11.4.5.107 in /opt/conda/envs/gpu/lib/python3.10/site-packages (from torch>=2->torchdata>=0.5.0->dgl) (11.4.5.107)\r\n",
      "Requirement already satisfied: nvidia-cusparse-cu12==12.1.0.106 in /opt/conda/envs/gpu/lib/python3.10/site-packages (from torch>=2->torchdata>=0.5.0->dgl) (12.1.0.106)\r\n",
      "Requirement already satisfied: nvidia-nccl-cu12==2.19.3 in /opt/conda/envs/gpu/lib/python3.10/site-packages (from torch>=2->torchdata>=0.5.0->dgl) (2.19.3)\r\n",
      "Requirement already satisfied: nvidia-nvtx-cu12==12.1.105 in /opt/conda/envs/gpu/lib/python3.10/site-packages (from torch>=2->torchdata>=0.5.0->dgl) (12.1.105)\r\n",
      "Requirement already satisfied: triton==2.2.0 in /opt/conda/envs/gpu/lib/python3.10/site-packages (from torch>=2->torchdata>=0.5.0->dgl) (2.2.0)\r\n",
      "Requirement already satisfied: nvidia-nvjitlink-cu12 in /opt/conda/envs/gpu/lib/python3.10/site-packages (from nvidia-cusolver-cu12==11.4.5.107->torch>=2->torchdata>=0.5.0->dgl) (12.4.127)\r\n"
     ]
    },
    {
     "name": "stdout",
     "output_type": "stream",
     "text": [
      "Requirement already satisfied: MarkupSafe>=2.0 in /opt/conda/envs/gpu/lib/python3.10/site-packages (from jinja2->torch>=2->torchdata>=0.5.0->dgl) (2.1.5)\r\n",
      "Requirement already satisfied: mpmath>=0.19 in /opt/conda/envs/gpu/lib/python3.10/site-packages (from sympy->torch>=2->torchdata>=0.5.0->dgl) (1.3.0)\r\n"
     ]
    },
    {
     "name": "stdout",
     "output_type": "stream",
     "text": [
      "DGL installed!\n"
     ]
    }
   ],
   "source": [
    "# Install required packages.\n",
    "import os\n",
    "import torch\n",
    "import numpy as np\n",
    "os.environ['TORCH'] = torch.__version__\n",
    "os.environ['DGLBACKEND'] = \"pytorch\"\n",
    "\n",
    "# Install the CPU version.\n",
    "device = torch.device(\"cpu\")\n",
    "!pip install --pre dgl -f https://data.dgl.ai/wheels-test/repo.html\n",
    "\n",
    "try:\n",
    "    import dgl\n",
    "    import dgl.graphbolt as gb\n",
    "    installed = True\n",
    "except ImportError as error:\n",
    "    installed = False\n",
    "    print(error)\n",
    "print(\"DGL installed!\" if installed else \"DGL not found!\")"
   ]
  },
  {
   "cell_type": "markdown",
   "metadata": {
    "id": "2R7WnSbjsfbr"
   },
   "source": [
    "## Data preparation\n",
    "In order to demonstrate how to organize various data, let's create a base directory first."
   ]
  },
  {
   "cell_type": "code",
   "execution_count": 2,
   "metadata": {
    "execution": {
     "iopub.execute_input": "2024-08-05T08:06:04.354056Z",
     "iopub.status.busy": "2024-08-05T08:06:04.353673Z",
     "iopub.status.idle": "2024-08-05T08:06:04.357918Z",
     "shell.execute_reply": "2024-08-05T08:06:04.357208Z"
    },
    "id": "SZipbzyltLfO"
   },
   "outputs": [
    {
     "name": "stdout",
     "output_type": "stream",
     "text": [
      "Created base directory: ./ondisk_dataset_homograph\n"
     ]
    }
   ],
   "source": [
    "base_dir = './ondisk_dataset_homograph'\n",
    "os.makedirs(base_dir, exist_ok=True)\n",
    "print(f\"Created base directory: {base_dir}\")"
   ]
  },
  {
   "cell_type": "markdown",
   "metadata": {
    "id": "qhNtIn_xhlnl"
   },
   "source": [
    "### Generate graph structure data\n",
    "For homogeneous graph, we just need to save edges(namely seeds) into  **Numpy** or **CSV** file.\n",
    "\n",
    "Note:\n",
    "- when saving to **Numpy**, the array requires to be in shape of `(2, N)`. This format is recommended as constructing graph from it is much faster than **CSV** file.\n",
    "- when saving to **CSV** file, do not save index and header.\n"
   ]
  },
  {
   "cell_type": "code",
   "execution_count": 3,
   "metadata": {
    "execution": {
     "iopub.execute_input": "2024-08-05T08:06:04.360501Z",
     "iopub.status.busy": "2024-08-05T08:06:04.360115Z",
     "iopub.status.idle": "2024-08-05T08:06:04.374131Z",
     "shell.execute_reply": "2024-08-05T08:06:04.373464Z"
    },
    "id": "HcBt4G5BmSjr"
   },
   "outputs": [
    {
     "name": "stdout",
     "output_type": "stream",
     "text": [
      "Part of edges: [[333  51]\n",
      " [627 314]\n",
      " [974 960]\n",
      " [608 210]\n",
      " [947 500]]\n",
      "Edges are saved into ./ondisk_dataset_homograph/edges.csv\n"
     ]
    }
   ],
   "source": [
    "import numpy as np\n",
    "import pandas as pd\n",
    "num_nodes = 1000\n",
    "num_edges = 10 * num_nodes\n",
    "edges_path = os.path.join(base_dir, \"edges.csv\")\n",
    "edges = np.random.randint(0, num_nodes, size=(num_edges, 2))\n",
    "\n",
    "print(f\"Part of edges: {edges[:5, :]}\")\n",
    "\n",
    "df = pd.DataFrame(edges)\n",
    "df.to_csv(edges_path, index=False, header=False)\n",
    "\n",
    "print(f\"Edges are saved into {edges_path}\")"
   ]
  },
  {
   "cell_type": "markdown",
   "metadata": {
    "id": "kh-4cPtzpcaH"
   },
   "source": [
    "### Generate feature data for graph\n",
    "For feature data, numpy arrays and torch tensors are supported for now."
   ]
  },
  {
   "cell_type": "code",
   "execution_count": 4,
   "metadata": {
    "execution": {
     "iopub.execute_input": "2024-08-05T08:06:04.376541Z",
     "iopub.status.busy": "2024-08-05T08:06:04.376287Z",
     "iopub.status.idle": "2024-08-05T08:06:04.400174Z",
     "shell.execute_reply": "2024-08-05T08:06:04.399677Z"
    },
    "id": "_PVu1u5brBhF"
   },
   "outputs": [
    {
     "name": "stdout",
     "output_type": "stream",
     "text": [
      "Part of node feature [feat_0]: [[0.55638816 0.29640347 0.01168646 0.94500187 0.1200923 ]\n",
      " [0.637482   0.68527676 0.91091426 0.93816437 0.57928967]\n",
      " [0.22366348 0.74724981 0.9216977  0.92080438 0.42393485]]\n",
      "Node feature [feat_0] is saved to ./ondisk_dataset_homograph/node-feat-0.npy\n",
      "\n",
      "Part of node feature [feat_1]: tensor([[0.8693, 0.1440, 0.3363, 0.5206, 0.0912],\n",
      "        [0.2734, 0.3872, 0.1187, 0.8336, 0.4087],\n",
      "        [0.1987, 0.6960, 0.9002, 0.5608, 0.2093]])\n",
      "Node feature [feat_1] is saved to ./ondisk_dataset_homograph/node-feat-1.pt\n",
      "\n",
      "Part of edge feature [feat_0]: [[0.91149488 0.69920594 0.81593141 0.40117401 0.4010922 ]\n",
      " [0.77548271 0.3070736  0.03289692 0.76516515 0.77282356]\n",
      " [0.26872647 0.946464   0.72184271 0.17865494 0.37244025]]\n",
      "Edge feature [feat_0] is saved to ./ondisk_dataset_homograph/edge-feat-0.npy\n",
      "\n",
      "Part of edge feature [feat_1]: tensor([[0.8857, 0.8096, 0.5453, 0.9915, 0.7684],\n",
      "        [0.9626, 0.2615, 0.6159, 0.7570, 0.1749],\n",
      "        [0.4404, 0.3759, 0.3843, 0.5937, 0.6090]])\n",
      "Edge feature [feat_1] is saved to ./ondisk_dataset_homograph/edge-feat-1.pt\n",
      "\n"
     ]
    }
   ],
   "source": [
    "# Generate node feature in numpy array.\n",
    "node_feat_0_path = os.path.join(base_dir, \"node-feat-0.npy\")\n",
    "node_feat_0 = np.random.rand(num_nodes, 5)\n",
    "print(f\"Part of node feature [feat_0]: {node_feat_0[:3, :]}\")\n",
    "np.save(node_feat_0_path, node_feat_0)\n",
    "print(f\"Node feature [feat_0] is saved to {node_feat_0_path}\\n\")\n",
    "\n",
    "# Generate another node feature in torch tensor\n",
    "node_feat_1_path = os.path.join(base_dir, \"node-feat-1.pt\")\n",
    "node_feat_1 = torch.rand(num_nodes, 5)\n",
    "print(f\"Part of node feature [feat_1]: {node_feat_1[:3, :]}\")\n",
    "torch.save(node_feat_1, node_feat_1_path)\n",
    "print(f\"Node feature [feat_1] is saved to {node_feat_1_path}\\n\")\n",
    "\n",
    "# Generate edge feature in numpy array.\n",
    "edge_feat_0_path = os.path.join(base_dir, \"edge-feat-0.npy\")\n",
    "edge_feat_0 = np.random.rand(num_edges, 5)\n",
    "print(f\"Part of edge feature [feat_0]: {edge_feat_0[:3, :]}\")\n",
    "np.save(edge_feat_0_path, edge_feat_0)\n",
    "print(f\"Edge feature [feat_0] is saved to {edge_feat_0_path}\\n\")\n",
    "\n",
    "# Generate another edge feature in torch tensor\n",
    "edge_feat_1_path = os.path.join(base_dir, \"edge-feat-1.pt\")\n",
    "edge_feat_1 = torch.rand(num_edges, 5)\n",
    "print(f\"Part of edge feature [feat_1]: {edge_feat_1[:3, :]}\")\n",
    "torch.save(edge_feat_1, edge_feat_1_path)\n",
    "print(f\"Edge feature [feat_1] is saved to {edge_feat_1_path}\\n\")\n"
   ]
  },
  {
   "cell_type": "markdown",
   "metadata": {
    "id": "ZyqgOtsIwzh_"
   },
   "source": [
    "### Generate tasks\n",
    "`OnDiskDataset` supports multiple tasks. For each task, we need to prepare training/validation/test sets respectively. Such sets usually vary among different tasks. In this tutorial, let's create a **Node Classification** task and **Link Prediction** task."
   ]
  },
  {
   "cell_type": "markdown",
   "metadata": {
    "id": "hVxHaDIfzCkr"
   },
   "source": [
    "#### Node Classification Task\n",
    "For node classification task, we need **node IDs** and corresponding **labels** for each training/validation/test set. Like feature data, numpy arrays and torch tensors are supported for these sets."
   ]
  },
  {
   "cell_type": "code",
   "execution_count": 5,
   "metadata": {
    "execution": {
     "iopub.execute_input": "2024-08-05T08:06:04.402562Z",
     "iopub.status.busy": "2024-08-05T08:06:04.402195Z",
     "iopub.status.idle": "2024-08-05T08:06:04.411919Z",
     "shell.execute_reply": "2024-08-05T08:06:04.411426Z"
    },
    "id": "S5-fyBbHzTCO"
   },
   "outputs": [
    {
     "name": "stdout",
     "output_type": "stream",
     "text": [
      "Part of train ids for node classification: [287 336 252]\n",
      "NC train ids are saved to ./ondisk_dataset_homograph/nc-train-ids.npy\n",
      "\n",
      "Part of train labels for node classification: tensor([1, 7, 2])\n",
      "NC train labels are saved to ./ondisk_dataset_homograph/nc-train-labels.pt\n",
      "\n",
      "Part of val ids for node classification: [ 99 246 400]\n",
      "NC val ids are saved to ./ondisk_dataset_homograph/nc-val-ids.npy\n",
      "\n",
      "Part of val labels for node classification: tensor([3, 4, 1])\n",
      "NC val labels are saved to ./ondisk_dataset_homograph/nc-val-labels.pt\n",
      "\n",
      "Part of test ids for node classification: [607  96 875]\n",
      "NC test ids are saved to ./ondisk_dataset_homograph/nc-test-ids.npy\n",
      "\n",
      "Part of test labels for node classification: tensor([8, 9, 0])\n",
      "NC test labels are saved to ./ondisk_dataset_homograph/nc-test-labels.pt\n",
      "\n"
     ]
    }
   ],
   "source": [
    "num_trains = int(num_nodes * 0.6)\n",
    "num_vals = int(num_nodes * 0.2)\n",
    "num_tests = num_nodes - num_trains - num_vals\n",
    "\n",
    "ids = np.arange(num_nodes)\n",
    "np.random.shuffle(ids)\n",
    "\n",
    "nc_train_ids_path = os.path.join(base_dir, \"nc-train-ids.npy\")\n",
    "nc_train_ids = ids[:num_trains]\n",
    "print(f\"Part of train ids for node classification: {nc_train_ids[:3]}\")\n",
    "np.save(nc_train_ids_path, nc_train_ids)\n",
    "print(f\"NC train ids are saved to {nc_train_ids_path}\\n\")\n",
    "\n",
    "nc_train_labels_path = os.path.join(base_dir, \"nc-train-labels.pt\")\n",
    "nc_train_labels = torch.randint(0, 10, (num_trains,))\n",
    "print(f\"Part of train labels for node classification: {nc_train_labels[:3]}\")\n",
    "torch.save(nc_train_labels, nc_train_labels_path)\n",
    "print(f\"NC train labels are saved to {nc_train_labels_path}\\n\")\n",
    "\n",
    "nc_val_ids_path = os.path.join(base_dir, \"nc-val-ids.npy\")\n",
    "nc_val_ids = ids[num_trains:num_trains+num_vals]\n",
    "print(f\"Part of val ids for node classification: {nc_val_ids[:3]}\")\n",
    "np.save(nc_val_ids_path, nc_val_ids)\n",
    "print(f\"NC val ids are saved to {nc_val_ids_path}\\n\")\n",
    "\n",
    "nc_val_labels_path = os.path.join(base_dir, \"nc-val-labels.pt\")\n",
    "nc_val_labels = torch.randint(0, 10, (num_vals,))\n",
    "print(f\"Part of val labels for node classification: {nc_val_labels[:3]}\")\n",
    "torch.save(nc_val_labels, nc_val_labels_path)\n",
    "print(f\"NC val labels are saved to {nc_val_labels_path}\\n\")\n",
    "\n",
    "nc_test_ids_path = os.path.join(base_dir, \"nc-test-ids.npy\")\n",
    "nc_test_ids = ids[-num_tests:]\n",
    "print(f\"Part of test ids for node classification: {nc_test_ids[:3]}\")\n",
    "np.save(nc_test_ids_path, nc_test_ids)\n",
    "print(f\"NC test ids are saved to {nc_test_ids_path}\\n\")\n",
    "\n",
    "nc_test_labels_path = os.path.join(base_dir, \"nc-test-labels.pt\")\n",
    "nc_test_labels = torch.randint(0, 10, (num_tests,))\n",
    "print(f\"Part of test labels for node classification: {nc_test_labels[:3]}\")\n",
    "torch.save(nc_test_labels, nc_test_labels_path)\n",
    "print(f\"NC test labels are saved to {nc_test_labels_path}\\n\")"
   ]
  },
  {
   "cell_type": "markdown",
   "metadata": {
    "id": "LhAcDCHQ_KJ0"
   },
   "source": [
    "#### Link Prediction Task\n",
    "For link prediction task, we need **seeds** or **corresponding labels and indexes** which representing the pos/neg property and group of the seeds for each training/validation/test set. Like feature data, numpy arrays and torch tensors are supported for these sets."
   ]
  },
  {
   "cell_type": "code",
   "execution_count": 6,
   "metadata": {
    "execution": {
     "iopub.execute_input": "2024-08-05T08:06:04.414286Z",
     "iopub.status.busy": "2024-08-05T08:06:04.413950Z",
     "iopub.status.idle": "2024-08-05T08:06:04.444985Z",
     "shell.execute_reply": "2024-08-05T08:06:04.444488Z"
    },
    "id": "u0jCnXIcAQy4"
   },
   "outputs": [
    {
     "name": "stdout",
     "output_type": "stream",
     "text": [
      "Part of train seeds for link prediction: [[333  51]\n",
      " [627 314]\n",
      " [974 960]]\n",
      "LP train seeds are saved to ./ondisk_dataset_homograph/lp-train-seeds.npy\n",
      "\n",
      "Part of val seeds for link prediction: [[ 50  70]\n",
      " [427 959]\n",
      " [476 259]]\n",
      "LP val seeds are saved to ./ondisk_dataset_homograph/lp-val-seeds.npy\n",
      "\n",
      "Part of val labels for link prediction: [1. 1. 1.]\n",
      "LP val labels are saved to ./ondisk_dataset_homograph/lp-val-labels.npy\n",
      "\n",
      "Part of val indexes for link prediction: [0 1 2]\n",
      "LP val indexes are saved to ./ondisk_dataset_homograph/lp-val-indexes.npy\n",
      "\n",
      "Part of test seeds for link prediction: [[260 286]\n",
      " [971 343]\n",
      " [611 926]]\n",
      "LP test seeds are saved to ./ondisk_dataset_homograph/lp-test-seeds.npy\n",
      "\n",
      "Part of val labels for link prediction: [1. 1. 1.]\n",
      "LP test labels are saved to ./ondisk_dataset_homograph/lp-test-labels.npy\n",
      "\n",
      "Part of test indexes for link prediction: [0 1 2]\n",
      "LP test indexes are saved to ./ondisk_dataset_homograph/lp-test-indexes.npy\n",
      "\n"
     ]
    }
   ],
   "source": [
    "num_trains = int(num_edges * 0.6)\n",
    "num_vals = int(num_edges * 0.2)\n",
    "num_tests = num_edges - num_trains - num_vals\n",
    "\n",
    "lp_train_seeds_path = os.path.join(base_dir, \"lp-train-seeds.npy\")\n",
    "lp_train_seeds = edges[:num_trains, :]\n",
    "print(f\"Part of train seeds for link prediction: {lp_train_seeds[:3]}\")\n",
    "np.save(lp_train_seeds_path, lp_train_seeds)\n",
    "print(f\"LP train seeds are saved to {lp_train_seeds_path}\\n\")\n",
    "\n",
    "lp_val_seeds_path = os.path.join(base_dir, \"lp-val-seeds.npy\")\n",
    "lp_val_seeds = edges[num_trains:num_trains+num_vals, :]\n",
    "lp_val_neg_dsts = np.random.randint(0, num_nodes, (num_vals, 10)).reshape(-1)\n",
    "lp_val_neg_srcs = np.repeat(lp_val_seeds[:,0], 10)\n",
    "lp_val_neg_seeds = np.concatenate((lp_val_neg_srcs, lp_val_neg_dsts)).reshape(2,-1).T\n",
    "lp_val_seeds = np.concatenate((lp_val_seeds, lp_val_neg_seeds))\n",
    "print(f\"Part of val seeds for link prediction: {lp_val_seeds[:3]}\")\n",
    "np.save(lp_val_seeds_path, lp_val_seeds)\n",
    "print(f\"LP val seeds are saved to {lp_val_seeds_path}\\n\")\n",
    "\n",
    "lp_val_labels_path = os.path.join(base_dir, \"lp-val-labels.npy\")\n",
    "lp_val_labels = np.empty(num_vals * (10 + 1))\n",
    "lp_val_labels[:num_vals] = 1\n",
    "lp_val_labels[num_vals:] = 0\n",
    "print(f\"Part of val labels for link prediction: {lp_val_labels[:3]}\")\n",
    "np.save(lp_val_labels_path, lp_val_labels)\n",
    "print(f\"LP val labels are saved to {lp_val_labels_path}\\n\")\n",
    "\n",
    "lp_val_indexes_path = os.path.join(base_dir, \"lp-val-indexes.npy\")\n",
    "lp_val_indexes = np.arange(0, num_vals)\n",
    "lp_val_neg_indexes = np.repeat(lp_val_indexes, 10)\n",
    "lp_val_indexes = np.concatenate([lp_val_indexes, lp_val_neg_indexes])\n",
    "print(f\"Part of val indexes for link prediction: {lp_val_indexes[:3]}\")\n",
    "np.save(lp_val_indexes_path, lp_val_indexes)\n",
    "print(f\"LP val indexes are saved to {lp_val_indexes_path}\\n\")\n",
    "\n",
    "lp_test_seeds_path = os.path.join(base_dir, \"lp-test-seeds.npy\")\n",
    "lp_test_seeds = edges[-num_tests:, :]\n",
    "lp_test_neg_dsts = np.random.randint(0, num_nodes, (num_tests, 10)).reshape(-1)\n",
    "lp_test_neg_srcs = np.repeat(lp_test_seeds[:,0], 10)\n",
    "lp_test_neg_seeds = np.concatenate((lp_test_neg_srcs, lp_test_neg_dsts)).reshape(2,-1).T\n",
    "lp_test_seeds = np.concatenate((lp_test_seeds, lp_test_neg_seeds))\n",
    "print(f\"Part of test seeds for link prediction: {lp_test_seeds[:3]}\")\n",
    "np.save(lp_test_seeds_path, lp_test_seeds)\n",
    "print(f\"LP test seeds are saved to {lp_test_seeds_path}\\n\")\n",
    "\n",
    "lp_test_labels_path = os.path.join(base_dir, \"lp-test-labels.npy\")\n",
    "lp_test_labels = np.empty(num_tests * (10 + 1))\n",
    "lp_test_labels[:num_tests] = 1\n",
    "lp_test_labels[num_tests:] = 0\n",
    "print(f\"Part of val labels for link prediction: {lp_test_labels[:3]}\")\n",
    "np.save(lp_test_labels_path, lp_test_labels)\n",
    "print(f\"LP test labels are saved to {lp_test_labels_path}\\n\")\n",
    "\n",
    "lp_test_indexes_path = os.path.join(base_dir, \"lp-test-indexes.npy\")\n",
    "lp_test_indexes = np.arange(0, num_tests)\n",
    "lp_test_neg_indexes = np.repeat(lp_test_indexes, 10)\n",
    "lp_test_indexes = np.concatenate([lp_test_indexes, lp_test_neg_indexes])\n",
    "print(f\"Part of test indexes for link prediction: {lp_test_indexes[:3]}\")\n",
    "np.save(lp_test_indexes_path, lp_test_indexes)\n",
    "print(f\"LP test indexes are saved to {lp_test_indexes_path}\\n\")"
   ]
  },
  {
   "cell_type": "markdown",
   "metadata": {
    "id": "wbk6-wxRK-6S"
   },
   "source": [
    "## Organize Data into YAML File\n",
    "Now we need to create a `metadata.yaml` file which contains the paths, dadta types of graph structure, feature data, training/validation/test sets.\n",
    "\n",
    "Notes:\n",
    "- all path should be relative to `metadata.yaml`.\n",
    "- Below fields are optional and not specified in below example.\n",
    "  - `in_memory`: indicates whether to load dada into memory or `mmap`. Default is `True`.\n",
    "\n",
    "Please refer to [YAML specification](https://github.com/dmlc/dgl/blob/master/docs/source/stochastic_training/ondisk-dataset-specification.rst) for more details."
   ]
  },
  {
   "cell_type": "code",
   "execution_count": 7,
   "metadata": {
    "execution": {
     "iopub.execute_input": "2024-08-05T08:06:04.447337Z",
     "iopub.status.busy": "2024-08-05T08:06:04.447037Z",
     "iopub.status.idle": "2024-08-05T08:06:04.452160Z",
     "shell.execute_reply": "2024-08-05T08:06:04.451684Z"
    },
    "id": "ddGTWW61Lpwp"
   },
   "outputs": [],
   "source": [
    "yaml_content = f\"\"\"\n",
    "    dataset_name: homogeneous_graph_nc_lp\n",
    "    graph:\n",
    "      nodes:\n",
    "        - num: {num_nodes}\n",
    "      edges:\n",
    "        - format: csv\n",
    "          path: {os.path.basename(edges_path)}\n",
    "    feature_data:\n",
    "      - domain: node\n",
    "        name: feat_0\n",
    "        format: numpy\n",
    "        path: {os.path.basename(node_feat_0_path)}\n",
    "      - domain: node\n",
    "        name: feat_1\n",
    "        format: torch\n",
    "        path: {os.path.basename(node_feat_1_path)}\n",
    "      - domain: edge\n",
    "        name: feat_0\n",
    "        format: numpy\n",
    "        path: {os.path.basename(edge_feat_0_path)}\n",
    "      - domain: edge\n",
    "        name: feat_1\n",
    "        format: torch\n",
    "        path: {os.path.basename(edge_feat_1_path)}\n",
    "    tasks:\n",
    "      - name: node_classification\n",
    "        num_classes: 10\n",
    "        train_set:\n",
    "          - data:\n",
    "              - name: seeds\n",
    "                format: numpy\n",
    "                path: {os.path.basename(nc_train_ids_path)}\n",
    "              - name: labels\n",
    "                format: torch\n",
    "                path: {os.path.basename(nc_train_labels_path)}\n",
    "        validation_set:\n",
    "          - data:\n",
    "              - name: seeds\n",
    "                format: numpy\n",
    "                path: {os.path.basename(nc_val_ids_path)}\n",
    "              - name: labels\n",
    "                format: torch\n",
    "                path: {os.path.basename(nc_val_labels_path)}\n",
    "        test_set:\n",
    "          - data:\n",
    "              - name: seeds\n",
    "                format: numpy\n",
    "                path: {os.path.basename(nc_test_ids_path)}\n",
    "              - name: labels\n",
    "                format: torch\n",
    "                path: {os.path.basename(nc_test_labels_path)}\n",
    "      - name: link_prediction\n",
    "        num_classes: 10\n",
    "        train_set:\n",
    "          - data:\n",
    "              - name: seeds\n",
    "                format: numpy\n",
    "                path: {os.path.basename(lp_train_seeds_path)}\n",
    "        validation_set:\n",
    "          - data:\n",
    "              - name: seeds\n",
    "                format: numpy\n",
    "                path: {os.path.basename(lp_val_seeds_path)}\n",
    "              - name: labels\n",
    "                format: numpy\n",
    "                path: {os.path.basename(lp_val_labels_path)}\n",
    "              - name: indexes\n",
    "                format: numpy\n",
    "                path: {os.path.basename(lp_val_indexes_path)}\n",
    "        test_set:\n",
    "          - data:\n",
    "              - name: seeds\n",
    "                format: numpy\n",
    "                path: {os.path.basename(lp_test_seeds_path)}\n",
    "              - name: labels\n",
    "                format: numpy\n",
    "                path: {os.path.basename(lp_test_labels_path)}\n",
    "              - name: indexes\n",
    "                format: numpy\n",
    "                path: {os.path.basename(lp_test_indexes_path)}\n",
    "\"\"\"\n",
    "metadata_path = os.path.join(base_dir, \"metadata.yaml\")\n",
    "with open(metadata_path, \"w\") as f:\n",
    "  f.write(yaml_content)"
   ]
  },
  {
   "cell_type": "markdown",
   "metadata": {
    "id": "kEfybHGhOW7O"
   },
   "source": [
    "## Instantiate `OnDiskDataset`\n",
    "Now we're ready to load dataset via `dgl.graphbolt.OnDiskDataset`. When instantiating, we just pass in the base directory where `metadata.yaml` file lies.\n",
    "\n",
    "During first instantiation, GraphBolt preprocesses the raw data such as constructing `FusedCSCSamplingGraph` from edges. All data including graph, feature data, training/validation/test sets are put into `preprocessed` directory after preprocessing. Any following dataset loading will skip the preprocess stage.\n",
    "\n",
    "After preprocessing, `load()` is required to be called explicitly in order to load graph, feature data and tasks."
   ]
  },
  {
   "cell_type": "code",
   "execution_count": 8,
   "metadata": {
    "execution": {
     "iopub.execute_input": "2024-08-05T08:06:04.454328Z",
     "iopub.status.busy": "2024-08-05T08:06:04.454036Z",
     "iopub.status.idle": "2024-08-05T08:06:04.576692Z",
     "shell.execute_reply": "2024-08-05T08:06:04.576154Z"
    },
    "id": "W58CZoSzOiyo"
   },
   "outputs": [
    {
     "name": "stdout",
     "output_type": "stream",
     "text": [
      "The on-disk dataset is re-preprocessing, so the existing preprocessed dataset has been removed.\n",
      "Start to preprocess the on-disk dataset.\n",
      "Finish preprocessing the on-disk dataset.\n"
     ]
    },
    {
     "name": "stdout",
     "output_type": "stream",
     "text": [
      "Loaded graph: FusedCSCSamplingGraph(csc_indptr=tensor([    0,    14,    24,  ...,  9982,  9991, 10000], dtype=torch.int32),\n",
      "                      indices=tensor([997, 611, 809,  ..., 174, 860, 385], dtype=torch.int32),\n",
      "                      total_num_nodes=1000, num_edges=10000,)\n",
      "\n",
      "Loaded feature store: TorchBasedFeatureStore(\n",
      "    {(<OnDiskFeatureDataDomain.NODE: 'node'>, None, 'feat_0'): TorchBasedFeature(\n",
      "        feature=tensor([[0.5564, 0.2964, 0.0117, 0.9450, 0.1201],\n",
      "                        [0.6375, 0.6853, 0.9109, 0.9382, 0.5793],\n",
      "                        [0.2237, 0.7472, 0.9217, 0.9208, 0.4239],\n",
      "                        ...,\n",
      "                        [0.8127, 0.4760, 0.9890, 0.9391, 0.5339],\n",
      "                        [0.7303, 0.9573, 0.9012, 0.6436, 0.3665],\n",
      "                        [0.9364, 0.5762, 0.9867, 0.8484, 0.4348]], dtype=torch.float64),\n",
      "        metadata={},\n",
      "    ), (<OnDiskFeatureDataDomain.NODE: 'node'>, None, 'feat_1'): TorchBasedFeature(\n",
      "        feature=tensor([[0.8693, 0.1440, 0.3363, 0.5206, 0.0912],\n",
      "                        [0.2734, 0.3872, 0.1187, 0.8336, 0.4087],\n",
      "                        [0.1987, 0.6960, 0.9002, 0.5608, 0.2093],\n",
      "                        ...,\n",
      "                        [0.2666, 0.6680, 0.6319, 0.1799, 0.3811],\n",
      "                        [0.1433, 0.5420, 0.3064, 0.5488, 0.8442],\n",
      "                        [0.1601, 0.9098, 0.2455, 0.8474, 0.2141]]),\n",
      "        metadata={},\n",
      "    ), (<OnDiskFeatureDataDomain.EDGE: 'edge'>, None, 'feat_0'): TorchBasedFeature(\n",
      "        feature=tensor([[0.9115, 0.6992, 0.8159, 0.4012, 0.4011],\n",
      "                        [0.7755, 0.3071, 0.0329, 0.7652, 0.7728],\n",
      "                        [0.2687, 0.9465, 0.7218, 0.1787, 0.3724],\n",
      "                        ...,\n",
      "                        [0.9900, 0.7889, 0.5332, 0.8527, 0.2973],\n",
      "                        [0.4448, 0.0112, 0.5608, 0.3832, 0.0311],\n",
      "                        [0.2558, 0.8800, 0.3945, 0.4548, 0.6796]], dtype=torch.float64),\n",
      "        metadata={},\n",
      "    ), (<OnDiskFeatureDataDomain.EDGE: 'edge'>, None, 'feat_1'): TorchBasedFeature(\n",
      "        feature=tensor([[0.8857, 0.8096, 0.5453, 0.9915, 0.7684],\n",
      "                        [0.9626, 0.2615, 0.6159, 0.7570, 0.1749],\n",
      "                        [0.4404, 0.3759, 0.3843, 0.5937, 0.6090],\n",
      "                        ...,\n",
      "                        [0.6330, 0.6756, 0.9294, 0.5533, 0.5155],\n",
      "                        [0.9011, 0.5170, 0.7739, 0.7246, 0.6908],\n",
      "                        [0.5548, 0.6727, 0.0887, 0.5525, 0.4919]]),\n",
      "        metadata={},\n",
      "    )}\n",
      ")\n",
      "\n",
      "Loaded node classification task: OnDiskTask(validation_set=ItemSet(\n",
      "               items=(tensor([ 99, 246, 400, 186, 892,   9, 184, 182, 577, 635, 422, 913, 795, 322,\n",
      "                   198, 201, 281, 534, 413, 945, 364, 486, 131, 776, 925, 267, 403, 483,\n",
      "                   614, 555, 975, 762, 365, 447,  76, 481, 192, 867, 442,  87, 991, 673,\n",
      "                   819, 446, 368, 605, 240, 582, 691, 985, 343, 970, 493, 404, 298, 989,\n",
      "                   854, 968, 373, 327, 818, 705, 736, 937, 230, 906,  34, 314,  67, 119,\n",
      "                   297, 633, 835, 960, 830, 714, 239, 465, 503, 356, 827, 803,  59, 335,\n",
      "                   809, 408, 153, 147, 136, 744, 731, 986, 420, 520, 151, 524, 601, 478,\n",
      "                   355, 506, 511, 684, 358, 611, 374, 972, 202, 572, 243, 137, 426, 868,\n",
      "                   338, 980, 656, 882, 842, 362, 593, 377, 790,   0, 318, 247, 837, 879,\n",
      "                   957, 676, 348, 855,  28, 402, 430, 456, 431, 708, 784, 395, 265, 878,\n",
      "                    42, 366, 812, 662, 500, 258, 515,  55, 525, 586, 142, 654, 638, 727,\n",
      "                   313, 450, 814, 156, 193, 788, 215, 218, 934, 412, 902, 890,  49, 330,\n",
      "                    72, 514, 739, 331, 428, 307, 417, 309, 836, 710,   7, 389, 497,  45,\n",
      "                   530, 979, 796, 850, 756, 548, 320, 472, 789, 628,  97, 257, 214, 926,\n",
      "                   711, 639,  60, 386], dtype=torch.int32), tensor([3, 4, 1, 2, 0, 9, 6, 0, 0, 5, 9, 7, 6, 0, 4, 5, 0, 6, 8, 1, 9, 3, 9, 3,\n",
      "                   8, 7, 7, 8, 3, 4, 5, 5, 5, 6, 3, 5, 8, 1, 6, 9, 1, 1, 1, 1, 0, 1, 7, 2,\n",
      "                   3, 1, 8, 3, 3, 6, 2, 5, 7, 8, 2, 7, 3, 1, 5, 5, 2, 8, 8, 5, 5, 8, 2, 1,\n",
      "                   1, 0, 9, 2, 0, 0, 7, 8, 1, 5, 7, 3, 7, 8, 8, 9, 1, 0, 2, 3, 6, 4, 3, 7,\n",
      "                   3, 5, 1, 2, 3, 9, 5, 6, 1, 4, 7, 5, 9, 6, 5, 5, 9, 7, 1, 7, 3, 8, 2, 9,\n",
      "                   5, 7, 7, 7, 8, 9, 3, 6, 7, 5, 7, 1, 4, 3, 4, 8, 4, 8, 6, 4, 8, 1, 8, 8,\n",
      "                   0, 3, 2, 9, 7, 6, 7, 6, 9, 4, 5, 8, 9, 7, 3, 9, 3, 7, 8, 7, 3, 4, 8, 6,\n",
      "                   3, 6, 3, 7, 1, 6, 1, 6, 9, 7, 4, 3, 3, 8, 8, 1, 0, 9, 9, 6, 3, 9, 9, 6,\n",
      "                   0, 2, 6, 2, 8, 9, 5, 5])),\n",
      "               names=('seeds', 'labels'),\n",
      "           ),\n",
      "           train_set=ItemSet(\n",
      "               items=(tensor([287, 336, 252, 228, 522, 578, 259, 144,  86,  51,  56, 518, 379,  79,\n",
      "                   234, 984, 473, 954, 881, 441, 308, 874, 394, 445, 563, 460, 385,  38,\n",
      "                   130,  44, 179, 539, 779, 436, 659, 885, 269,  29,  43, 716, 547, 328,\n",
      "                   801, 981, 226,  39, 955, 165, 391, 185, 236,  35, 492, 977, 825, 160,\n",
      "                   270, 359, 726, 870, 808, 738, 471,  18, 213, 603, 703, 507, 932, 177,\n",
      "                   971, 266, 127, 112, 845, 427, 491, 494, 849, 334,  73, 363, 333, 997,\n",
      "                   811, 893,  32,  71, 390, 299, 899,  23,  63, 421, 690, 598,  12, 208,\n",
      "                   261, 587, 567, 205, 916, 339, 203, 489, 770, 116, 927, 821, 415, 544,\n",
      "                   305, 207, 757, 992,  84, 371, 995, 753, 416, 170, 891,  61, 121, 864,\n",
      "                   134, 718, 861, 688, 124, 285, 496, 680,  74, 816, 178, 728, 150, 974,\n",
      "                   466, 274, 162, 876, 860, 380, 576,  70, 590, 528, 157, 448, 939, 301,\n",
      "                   485, 114, 930, 848,  83, 557,   1, 381, 774, 723,  24, 653, 615, 866,\n",
      "                     2, 947, 749, 344, 406, 990, 220, 629, 176, 961, 272, 254, 931, 479,\n",
      "                   833, 174, 204, 817, 453, 903,  91, 253, 641, 597, 713, 681, 235, 115,\n",
      "                   108, 793, 689, 857,  66, 909, 508, 551, 111, 321, 512, 965,  88, 217,\n",
      "                   393, 953,  40, 552, 369, 758,  93, 949, 694, 487, 915, 414, 617, 532,\n",
      "                   824, 693, 171, 372, 610, 921, 897, 917, 794, 173, 644, 346, 303, 457,\n",
      "                   101,  14, 911,  33, 565, 353, 685, 765, 360, 575,  37,  94, 677, 263,\n",
      "                   772,  21, 858, 883,  16, 846, 104, 432, 787, 804, 242, 667, 646, 983,\n",
      "                   797, 894,  81, 264, 958, 545, 627, 197, 159, 609, 241, 872, 918, 987,\n",
      "                   154, 139, 291, 209, 742, 312, 792, 658, 383, 541, 529, 467, 799, 107,\n",
      "                   920, 554, 962, 735, 245, 164, 630, 440, 695, 352, 282, 468, 976,  15,\n",
      "                   546, 661, 341, 608, 810, 912, 279,   5, 946, 332, 233, 398, 623, 452,\n",
      "                   901, 660, 780, 856, 898, 523, 238, 966, 354, 865, 807,  80, 155, 570,\n",
      "                   568, 564, 250, 923, 904, 692, 125, 843, 255, 596, 907, 969, 863, 148,\n",
      "                   437, 284, 212, 167, 562, 877, 561, 625, 655, 294, 649, 908, 292, 454,\n",
      "                   141, 831, 889, 293, 724, 310, 745, 306, 449, 401, 199, 800, 463, 251,\n",
      "                   720, 761, 110, 329, 350, 424, 319, 700, 580, 910, 791, 952, 461, 746,\n",
      "                   533, 701, 527, 781, 994,   6, 583, 571, 143, 521, 324, 581, 771,  31,\n",
      "                    69, 871, 229, 304, 715,  20, 828, 505, 526, 996, 579, 712, 126, 502,\n",
      "                   616,  53, 602, 604, 775, 433, 418, 829, 407, 621, 922, 636, 900, 409,\n",
      "                   768, 914, 645,  77, 669, 120, 631, 704, 480, 964, 733, 540, 438, 880,\n",
      "                   584, 425, 419, 410, 288, 933, 618, 277,  92, 175, 928, 743, 687, 826,\n",
      "                   451, 382, 221,   3, 672, 219, 158, 852, 763,  52,  64, 152, 950, 924,\n",
      "                   549, 286,  26, 612, 351,  48,  11, 606, 999, 223, 295, 666, 289, 558,\n",
      "                   388, 190, 118, 822, 839, 357, 675, 862, 600, 873, 370,  98,  82, 823,\n",
      "                   637, 709,  22, 122, 161, 783, 323, 585, 725, 531, 361, 195, 387, 766,\n",
      "                   853, 624,   4, 271, 978, 905, 943, 841, 488,  50, 315, 896, 643, 778,\n",
      "                   501, 802, 751, 378,  10, 464, 678, 543, 180, 651, 940, 189, 786, 470,\n",
      "                   888, 936, 760, 337, 702, 560, 832, 260, 717,  36, 109, 838, 998, 455,\n",
      "                   750, 200, 187, 105,  68, 517, 538,  78, 535, 166,  27, 886, 657, 752,\n",
      "                   244, 663, 938, 674, 634, 719, 194, 138, 135,  46, 679, 133, 256, 516,\n",
      "                   847, 887, 591, 944, 181, 411, 249,  47, 100, 773, 683, 951],\n",
      "                  dtype=torch.int32), tensor([1, 7, 2, 3, 3, 1, 7, 0, 2, 9, 5, 0, 5, 3, 6, 7, 2, 1, 7, 5, 7, 7, 5, 5,\n",
      "                   5, 6, 1, 7, 0, 9, 3, 3, 5, 3, 6, 2, 1, 6, 7, 1, 9, 9, 5, 5, 6, 0, 9, 3,\n",
      "                   0, 6, 9, 0, 9, 9, 5, 8, 9, 2, 9, 5, 9, 1, 1, 0, 9, 5, 0, 1, 8, 7, 9, 3,\n",
      "                   3, 8, 9, 7, 0, 5, 8, 7, 6, 0, 4, 3, 8, 3, 5, 0, 4, 0, 8, 3, 5, 5, 5, 9,\n",
      "                   0, 5, 8, 7, 6, 1, 9, 2, 7, 9, 2, 4, 9, 3, 9, 9, 6, 5, 3, 3, 4, 3, 3, 1,\n",
      "                   0, 9, 1, 7, 6, 7, 9, 7, 5, 2, 9, 7, 1, 2, 4, 6, 1, 8, 6, 9, 4, 3, 4, 6,\n",
      "                   1, 6, 7, 4, 9, 5, 0, 3, 0, 1, 8, 1, 1, 5, 9, 4, 5, 2, 9, 7, 0, 5, 5, 1,\n",
      "                   3, 8, 4, 0, 7, 6, 5, 1, 2, 9, 8, 7, 9, 7, 5, 7, 1, 7, 1, 4, 8, 2, 1, 8,\n",
      "                   7, 7, 2, 6, 4, 5, 3, 3, 8, 6, 7, 4, 0, 0, 1, 2, 3, 8, 1, 8, 7, 2, 1, 8,\n",
      "                   3, 6, 5, 8, 8, 0, 7, 3, 7, 4, 9, 4, 9, 8, 6, 7, 6, 1, 3, 6, 3, 4, 5, 1,\n",
      "                   2, 4, 5, 3, 4, 7, 3, 1, 1, 8, 6, 6, 4, 6, 9, 4, 6, 4, 6, 8, 3, 0, 8, 6,\n",
      "                   7, 7, 1, 2, 8, 4, 8, 7, 2, 6, 7, 9, 2, 5, 5, 1, 6, 6, 3, 6, 6, 4, 6, 1,\n",
      "                   8, 7, 0, 3, 3, 0, 1, 1, 5, 0, 6, 4, 8, 6, 3, 2, 1, 4, 1, 1, 6, 3, 8, 4,\n",
      "                   0, 1, 4, 4, 3, 7, 4, 5, 5, 7, 7, 9, 6, 0, 9, 7, 1, 0, 1, 5, 4, 4, 4, 2,\n",
      "                   1, 3, 2, 1, 8, 7, 6, 0, 9, 8, 2, 3, 0, 9, 0, 6, 7, 3, 9, 6, 4, 9, 2, 7,\n",
      "                   9, 6, 4, 7, 4, 5, 0, 5, 1, 9, 5, 6, 6, 8, 7, 8, 1, 4, 9, 2, 0, 6, 5, 5,\n",
      "                   7, 1, 9, 2, 5, 6, 8, 0, 9, 8, 5, 9, 3, 9, 0, 5, 0, 0, 9, 5, 7, 3, 6, 8,\n",
      "                   4, 6, 0, 3, 4, 4, 4, 9, 3, 1, 4, 2, 7, 6, 9, 0, 8, 6, 3, 7, 1, 0, 4, 2,\n",
      "                   4, 9, 5, 5, 6, 6, 6, 3, 9, 3, 0, 6, 7, 2, 8, 3, 3, 4, 2, 7, 6, 2, 4, 5,\n",
      "                   9, 1, 7, 7, 5, 5, 4, 7, 4, 9, 0, 9, 0, 2, 8, 1, 9, 8, 9, 4, 8, 6, 8, 4,\n",
      "                   6, 7, 8, 8, 5, 0, 9, 2, 0, 8, 6, 6, 4, 0, 2, 1, 5, 0, 0, 3, 8, 2, 5, 5,\n",
      "                   7, 8, 1, 6, 9, 3, 1, 0, 5, 7, 5, 1, 5, 6, 7, 4, 8, 4, 4, 4, 2, 8, 0, 8,\n",
      "                   6, 6, 0, 9, 7, 6, 9, 2, 5, 2, 5, 9, 7, 0, 5, 3, 0, 9, 6, 0, 1, 4, 1, 5,\n",
      "                   6, 8, 3, 1, 2, 6, 3, 5, 9, 2, 7, 6, 1, 0, 0, 4, 9, 7, 1, 5, 6, 8, 9, 6,\n",
      "                   9, 2, 7, 0, 6, 5, 3, 4, 4, 9, 8, 8, 9, 0, 9, 8, 1, 5, 7, 2, 6, 4, 1, 5])),\n",
      "               names=('seeds', 'labels'),\n",
      "           ),\n",
      "           test_set=ItemSet(\n",
      "               items=(tensor([607,  96, 875, 537,  65, 574, 296, 224, 113, 191, 982, 550, 973,  19,\n",
      "                   993, 509, 188, 490, 747, 569, 553, 482, 146, 172, 740, 210, 730,  17,\n",
      "                   844, 495, 588, 367, 225, 754, 613, 283,  62, 640, 149, 764, 206, 273,\n",
      "                   132, 967, 840,  30, 632, 536, 128, 469, 559, 435,  54, 737, 805, 806,\n",
      "                   884, 759,  90, 475, 956, 459, 769, 851, 300, 290, 697, 231,  58, 106,\n",
      "                   405, 935, 439, 699, 592, 869, 895, 668, 169, 941, 423, 103, 477, 227,\n",
      "                   820, 216, 376, 785, 741, 919, 620, 458,  95, 589, 392, 462, 498, 434,\n",
      "                   682, 397, 573, 948, 499, 513, 196, 326, 664, 696, 399, 648, 834, 652,\n",
      "                   384, 102, 647, 595, 626, 317, 686, 599, 504, 556, 755, 429, 342, 734,\n",
      "                   248, 698, 268, 484,  75, 474, 280, 665, 129, 767, 316, 302, 721, 670,\n",
      "                   168, 815, 183, 510, 444, 729, 594, 671, 443, 622, 163, 262,  57, 117,\n",
      "                   123, 566, 859, 276, 929,  85, 211, 375, 325, 311, 222,   8, 942, 619,\n",
      "                   963,  41, 732, 345,  89, 519, 232, 813,  25, 707, 642, 798, 748, 782,\n",
      "                   722, 650, 340, 542, 145, 349, 959, 140, 396, 777,  13, 278, 706, 476,\n",
      "                   988, 237, 275, 347], dtype=torch.int32), tensor([8, 9, 0, 9, 4, 6, 4, 9, 9, 3, 6, 2, 2, 7, 4, 7, 1, 4, 4, 0, 6, 0, 4, 6,\n",
      "                   6, 9, 5, 5, 3, 7, 3, 8, 1, 4, 0, 9, 3, 3, 7, 4, 8, 8, 0, 2, 6, 0, 6, 1,\n",
      "                   3, 3, 5, 3, 3, 1, 7, 2, 2, 6, 0, 0, 4, 2, 1, 6, 3, 1, 7, 3, 8, 0, 6, 1,\n",
      "                   2, 5, 3, 9, 8, 6, 3, 7, 6, 5, 5, 7, 0, 5, 7, 2, 4, 0, 4, 8, 1, 3, 3, 1,\n",
      "                   0, 0, 4, 9, 7, 0, 2, 1, 3, 3, 6, 8, 8, 6, 3, 0, 5, 3, 3, 6, 4, 2, 9, 8,\n",
      "                   1, 7, 3, 7, 4, 1, 1, 7, 1, 1, 1, 5, 2, 0, 1, 5, 2, 1, 0, 7, 2, 5, 7, 4,\n",
      "                   9, 5, 1, 4, 0, 3, 3, 0, 0, 4, 1, 0, 5, 5, 8, 2, 0, 1, 3, 6, 1, 7, 1, 1,\n",
      "                   0, 7, 6, 4, 3, 6, 8, 1, 8, 1, 9, 3, 6, 5, 4, 2, 7, 2, 1, 0, 9, 2, 4, 5,\n",
      "                   6, 4, 3, 7, 6, 7, 5, 2])),\n",
      "               names=('seeds', 'labels'),\n",
      "           ),\n",
      "           metadata={'name': 'node_classification', 'num_classes': 10},)\n",
      "\n",
      "Loaded link prediction task: OnDiskTask(validation_set=ItemSet(\n",
      "               items=(tensor([[ 50,  70],\n",
      "                   [427, 959],\n",
      "                   [476, 259],\n",
      "                   ...,\n",
      "                   [537, 449],\n",
      "                   [537, 757],\n",
      "                   [537, 274]], dtype=torch.int32), tensor([1., 1., 1.,  ..., 0., 0., 0.], dtype=torch.float64), tensor([   0,    1,    2,  ..., 1999, 1999, 1999])),\n",
      "               names=('seeds', 'labels', 'indexes'),\n",
      "           ),\n",
      "           train_set=ItemSet(\n",
      "               items=(tensor([[333,  51],\n",
      "                   [627, 314],\n",
      "                   [974, 960],\n",
      "                   ...,\n",
      "                   [481, 294],\n",
      "                   [902,  55],\n",
      "                   [716,  34]], dtype=torch.int32),),\n",
      "               names=('seeds',),\n",
      "           ),\n",
      "           test_set=ItemSet(\n",
      "               items=(tensor([[260, 286],\n",
      "                   [971, 343],\n",
      "                   [611, 926],\n",
      "                   ...,\n",
      "                   [501, 839],\n",
      "                   [501, 629],\n",
      "                   [501, 720]], dtype=torch.int32), tensor([1., 1., 1.,  ..., 0., 0., 0.], dtype=torch.float64), tensor([   0,    1,    2,  ..., 1999, 1999, 1999])),\n",
      "               names=('seeds', 'labels', 'indexes'),\n",
      "           ),\n",
      "           metadata={'name': 'link_prediction', 'num_classes': 10},)\n",
      "\n"
     ]
    },
    {
     "name": "stderr",
     "output_type": "stream",
     "text": [
      "/home/ubuntu/dgl_doc_dev/dgl/python/dgl/graphbolt/impl/ondisk_dataset.py:463: GBWarning: Edge feature is stored, but edge IDs are not saved.\n",
      "  gb_warning(\"Edge feature is stored, but edge IDs are not saved.\")\n"
     ]
    }
   ],
   "source": [
    "dataset = gb.OnDiskDataset(base_dir).load()\n",
    "graph = dataset.graph\n",
    "print(f\"Loaded graph: {graph}\\n\")\n",
    "\n",
    "feature = dataset.feature\n",
    "print(f\"Loaded feature store: {feature}\\n\")\n",
    "\n",
    "tasks = dataset.tasks\n",
    "nc_task = tasks[0]\n",
    "print(f\"Loaded node classification task: {nc_task}\\n\")\n",
    "lp_task = tasks[1]\n",
    "print(f\"Loaded link prediction task: {lp_task}\\n\")"
   ]
  }
 ],
 "metadata": {
  "colab": {
   "private_outputs": true,
   "provenance": []
  },
  "kernelspec": {
   "display_name": "Python 3",
   "name": "python3"
  },
  "language_info": {
   "codemirror_mode": {
    "name": "ipython",
    "version": 3
   },
   "file_extension": ".py",
   "mimetype": "text/x-python",
   "name": "python",
   "nbconvert_exporter": "python",
   "pygments_lexer": "ipython3",
   "version": "3.10.14"
  }
 },
 "nbformat": 4,
 "nbformat_minor": 0
}

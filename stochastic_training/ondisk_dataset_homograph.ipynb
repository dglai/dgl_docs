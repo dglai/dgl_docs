{
 "cells": [
  {
   "cell_type": "markdown",
   "metadata": {
    "id": "FnFhPMaAfLtJ"
   },
   "source": [
    "# OnDiskDataset for Homogeneous Graph\n",
    "\n",
    "[![Open In Colab](https://colab.research.google.com/assets/colab-badge.svg)](https://colab.research.google.com/github/dmlc/dgl/blob/master/notebooks/stochastic_training/ondisk_dataset_homograph.ipynb) [![GitHub](https://img.shields.io/badge/-View%20on%20GitHub-181717?logo=github&logoColor=ffffff)](https://github.com/dmlc/dgl/blob/master/notebooks/stochastic_training/ondisk_dataset_homograph.ipynb)\n",
    "\n",
    "This tutorial shows how to create `OnDiskDataset` for homogeneous graph that could be used in **GraphBolt** framework.\n",
    "\n",
    "By the end of this tutorial, you will be able to\n",
    "\n",
    "- organize graph structure data.\n",
    "- organize feature data.\n",
    "- organize training/validation/test set for specific tasks.\n",
    "\n",
    "To create an ``OnDiskDataset`` object, you need to organize all the data including graph structure, feature data and tasks into a directory. The directory should contain a ``metadata.yaml`` file that describes the metadata of the dataset.\n",
    "\n",
    "Now let's generate various data step by step and organize them together to instantiate `OnDiskDataset` finally."
   ]
  },
  {
   "cell_type": "markdown",
   "metadata": {
    "id": "Wlb19DtWgtzq"
   },
   "source": [
    "## Install DGL package"
   ]
  },
  {
   "cell_type": "code",
   "execution_count": 1,
   "metadata": {
    "execution": {
     "iopub.execute_input": "2024-10-29T13:16:30.154212Z",
     "iopub.status.busy": "2024-10-29T13:16:30.153773Z",
     "iopub.status.idle": "2024-10-29T13:16:33.192263Z",
     "shell.execute_reply": "2024-10-29T13:16:33.191339Z"
    },
    "id": "UojlT9ZGgyr9"
   },
   "outputs": [
    {
     "name": "stdout",
     "output_type": "stream",
     "text": [
      "Looking in links: https://data.dgl.ai/wheels-test/repo.html\r\n",
      "Requirement already satisfied: dgl in /opt/conda/envs/dgl-dev-cpu/lib/python3.10/site-packages (2.2a240410)\r\n",
      "Requirement already satisfied: numpy>=1.14.0 in /opt/conda/envs/dgl-dev-cpu/lib/python3.10/site-packages (from dgl) (1.26.4)\r\n",
      "Requirement already satisfied: scipy>=1.1.0 in /opt/conda/envs/dgl-dev-cpu/lib/python3.10/site-packages (from dgl) (1.14.1)\r\n",
      "Requirement already satisfied: networkx>=2.1 in /opt/conda/envs/dgl-dev-cpu/lib/python3.10/site-packages (from dgl) (3.4.2)\r\n",
      "Requirement already satisfied: requests>=2.19.0 in /opt/conda/envs/dgl-dev-cpu/lib/python3.10/site-packages (from dgl) (2.32.3)\r\n",
      "Requirement already satisfied: tqdm in /opt/conda/envs/dgl-dev-cpu/lib/python3.10/site-packages (from dgl) (4.66.6)\r\n",
      "Requirement already satisfied: psutil>=5.8.0 in /opt/conda/envs/dgl-dev-cpu/lib/python3.10/site-packages (from dgl) (6.1.0)\r\n",
      "Requirement already satisfied: torchdata>=0.5.0 in /opt/conda/envs/dgl-dev-cpu/lib/python3.10/site-packages (from dgl) (0.9.0)\r\n",
      "Requirement already satisfied: pandas in /opt/conda/envs/dgl-dev-cpu/lib/python3.10/site-packages (from dgl) (2.2.3)\r\n"
     ]
    },
    {
     "name": "stdout",
     "output_type": "stream",
     "text": [
      "Requirement already satisfied: charset-normalizer<4,>=2 in /opt/conda/envs/dgl-dev-cpu/lib/python3.10/site-packages (from requests>=2.19.0->dgl) (3.4.0)\r\n",
      "Requirement already satisfied: idna<4,>=2.5 in /opt/conda/envs/dgl-dev-cpu/lib/python3.10/site-packages (from requests>=2.19.0->dgl) (3.10)\r\n",
      "Requirement already satisfied: urllib3<3,>=1.21.1 in /opt/conda/envs/dgl-dev-cpu/lib/python3.10/site-packages (from requests>=2.19.0->dgl) (2.2.3)\r\n",
      "Requirement already satisfied: certifi>=2017.4.17 in /opt/conda/envs/dgl-dev-cpu/lib/python3.10/site-packages (from requests>=2.19.0->dgl) (2024.8.30)\r\n",
      "Requirement already satisfied: torch>=2 in /opt/conda/envs/dgl-dev-cpu/lib/python3.10/site-packages (from torchdata>=0.5.0->dgl) (2.1.0+cpu)\r\n"
     ]
    },
    {
     "name": "stdout",
     "output_type": "stream",
     "text": [
      "Requirement already satisfied: python-dateutil>=2.8.2 in /opt/conda/envs/dgl-dev-cpu/lib/python3.10/site-packages (from pandas->dgl) (2.9.0.post0)\r\n",
      "Requirement already satisfied: pytz>=2020.1 in /opt/conda/envs/dgl-dev-cpu/lib/python3.10/site-packages (from pandas->dgl) (2024.2)\r\n",
      "Requirement already satisfied: tzdata>=2022.7 in /opt/conda/envs/dgl-dev-cpu/lib/python3.10/site-packages (from pandas->dgl) (2024.2)\r\n",
      "Requirement already satisfied: six>=1.5 in /opt/conda/envs/dgl-dev-cpu/lib/python3.10/site-packages (from python-dateutil>=2.8.2->pandas->dgl) (1.16.0)\r\n",
      "Requirement already satisfied: filelock in /opt/conda/envs/dgl-dev-cpu/lib/python3.10/site-packages (from torch>=2->torchdata>=0.5.0->dgl) (3.16.1)\r\n",
      "Requirement already satisfied: typing-extensions in /opt/conda/envs/dgl-dev-cpu/lib/python3.10/site-packages (from torch>=2->torchdata>=0.5.0->dgl) (4.12.2)\r\n",
      "Requirement already satisfied: sympy in /opt/conda/envs/dgl-dev-cpu/lib/python3.10/site-packages (from torch>=2->torchdata>=0.5.0->dgl) (1.13.3)\r\n",
      "Requirement already satisfied: jinja2 in /opt/conda/envs/dgl-dev-cpu/lib/python3.10/site-packages (from torch>=2->torchdata>=0.5.0->dgl) (3.1.4)\r\n",
      "Requirement already satisfied: fsspec in /opt/conda/envs/dgl-dev-cpu/lib/python3.10/site-packages (from torch>=2->torchdata>=0.5.0->dgl) (2024.10.0)\r\n"
     ]
    },
    {
     "name": "stdout",
     "output_type": "stream",
     "text": [
      "Requirement already satisfied: MarkupSafe>=2.0 in /opt/conda/envs/dgl-dev-cpu/lib/python3.10/site-packages (from jinja2->torch>=2->torchdata>=0.5.0->dgl) (3.0.2)\r\n",
      "Requirement already satisfied: mpmath<1.4,>=1.1.0 in /opt/conda/envs/dgl-dev-cpu/lib/python3.10/site-packages (from sympy->torch>=2->torchdata>=0.5.0->dgl) (1.3.0)\r\n"
     ]
    },
    {
     "name": "stdout",
     "output_type": "stream",
     "text": [
      "\u001b[33mWARNING: Running pip as the 'root' user can result in broken permissions and conflicting behaviour with the system package manager, possibly rendering your system unusable.It is recommended to use a virtual environment instead: https://pip.pypa.io/warnings/venv. Use the --root-user-action option if you know what you are doing and want to suppress this warning.\u001b[0m\u001b[33m\r\n",
      "\u001b[0m"
     ]
    },
    {
     "name": "stdout",
     "output_type": "stream",
     "text": [
      "DGL installed!\n"
     ]
    }
   ],
   "source": [
    "# Install required packages.\n",
    "import os\n",
    "import torch\n",
    "import numpy as np\n",
    "os.environ['TORCH'] = torch.__version__\n",
    "os.environ['DGLBACKEND'] = \"pytorch\"\n",
    "\n",
    "# Install the CPU version.\n",
    "device = torch.device(\"cpu\")\n",
    "!pip install --pre dgl -f https://data.dgl.ai/wheels-test/repo.html\n",
    "\n",
    "try:\n",
    "    import dgl\n",
    "    import dgl.graphbolt as gb\n",
    "    installed = True\n",
    "except ImportError as error:\n",
    "    installed = False\n",
    "    print(error)\n",
    "print(\"DGL installed!\" if installed else \"DGL not found!\")"
   ]
  },
  {
   "cell_type": "markdown",
   "metadata": {
    "id": "2R7WnSbjsfbr"
   },
   "source": [
    "## Data preparation\n",
    "In order to demonstrate how to organize various data, let's create a base directory first."
   ]
  },
  {
   "cell_type": "code",
   "execution_count": 2,
   "metadata": {
    "execution": {
     "iopub.execute_input": "2024-10-29T13:16:33.195255Z",
     "iopub.status.busy": "2024-10-29T13:16:33.194645Z",
     "iopub.status.idle": "2024-10-29T13:16:33.200134Z",
     "shell.execute_reply": "2024-10-29T13:16:33.199279Z"
    },
    "id": "SZipbzyltLfO"
   },
   "outputs": [
    {
     "name": "stdout",
     "output_type": "stream",
     "text": [
      "Created base directory: ./ondisk_dataset_homograph\n"
     ]
    }
   ],
   "source": [
    "base_dir = './ondisk_dataset_homograph'\n",
    "os.makedirs(base_dir, exist_ok=True)\n",
    "print(f\"Created base directory: {base_dir}\")"
   ]
  },
  {
   "cell_type": "markdown",
   "metadata": {
    "id": "qhNtIn_xhlnl"
   },
   "source": [
    "### Generate graph structure data\n",
    "For homogeneous graph, we just need to save edges(namely seeds) into  **Numpy** or **CSV** file.\n",
    "\n",
    "Note:\n",
    "- when saving to **Numpy**, the array requires to be in shape of `(2, N)`. This format is recommended as constructing graph from it is much faster than **CSV** file.\n",
    "- when saving to **CSV** file, do not save index and header.\n"
   ]
  },
  {
   "cell_type": "code",
   "execution_count": 3,
   "metadata": {
    "execution": {
     "iopub.execute_input": "2024-10-29T13:16:33.202649Z",
     "iopub.status.busy": "2024-10-29T13:16:33.201975Z",
     "iopub.status.idle": "2024-10-29T13:16:33.216048Z",
     "shell.execute_reply": "2024-10-29T13:16:33.215167Z"
    },
    "id": "HcBt4G5BmSjr"
   },
   "outputs": [
    {
     "name": "stdout",
     "output_type": "stream",
     "text": [
      "Part of edges: [[771  76]\n",
      " [  0 239]\n",
      " [690 344]\n",
      " [753   8]\n",
      " [585 250]]\n",
      "Edges are saved into ./ondisk_dataset_homograph/edges.csv\n"
     ]
    }
   ],
   "source": [
    "import numpy as np\n",
    "import pandas as pd\n",
    "num_nodes = 1000\n",
    "num_edges = 10 * num_nodes\n",
    "edges_path = os.path.join(base_dir, \"edges.csv\")\n",
    "edges = np.random.randint(0, num_nodes, size=(num_edges, 2))\n",
    "\n",
    "print(f\"Part of edges: {edges[:5, :]}\")\n",
    "\n",
    "df = pd.DataFrame(edges)\n",
    "df.to_csv(edges_path, index=False, header=False)\n",
    "\n",
    "print(f\"Edges are saved into {edges_path}\")"
   ]
  },
  {
   "cell_type": "markdown",
   "metadata": {
    "id": "kh-4cPtzpcaH"
   },
   "source": [
    "### Generate feature data for graph\n",
    "For feature data, numpy arrays and torch tensors are supported for now."
   ]
  },
  {
   "cell_type": "code",
   "execution_count": 4,
   "metadata": {
    "execution": {
     "iopub.execute_input": "2024-10-29T13:16:33.218484Z",
     "iopub.status.busy": "2024-10-29T13:16:33.218172Z",
     "iopub.status.idle": "2024-10-29T13:16:33.238788Z",
     "shell.execute_reply": "2024-10-29T13:16:33.237916Z"
    },
    "id": "_PVu1u5brBhF"
   },
   "outputs": [
    {
     "name": "stdout",
     "output_type": "stream",
     "text": [
      "Part of node feature [feat_0]: [[0.4969171  0.07072899 0.36780081 0.64049614 0.25183086]\n",
      " [0.59771604 0.46623884 0.24649263 0.87810894 0.6193694 ]\n",
      " [0.40853629 0.56008626 0.22410681 0.93446986 0.26041349]]\n",
      "Node feature [feat_0] is saved to ./ondisk_dataset_homograph/node-feat-0.npy\n",
      "\n",
      "Part of node feature [feat_1]: tensor([[0.2225, 0.1468, 0.5464, 0.1245, 0.5452],\n",
      "        [0.6209, 0.5221, 0.2026, 0.6057, 0.0583],\n",
      "        [0.0497, 0.7577, 0.2232, 0.5765, 0.6962]])\n",
      "Node feature [feat_1] is saved to ./ondisk_dataset_homograph/node-feat-1.pt\n",
      "\n",
      "Part of edge feature [feat_0]: [[0.80995972 0.8301726  0.87926761 0.52110441 0.40586012]\n",
      " [0.22563944 0.33938699 0.44071296 0.36843905 0.27485405]\n",
      " [0.92844522 0.6158294  0.65998169 0.33787502 0.51073785]]\n",
      "Edge feature [feat_0] is saved to ./ondisk_dataset_homograph/edge-feat-0.npy\n",
      "\n",
      "Part of edge feature [feat_1]: tensor([[0.5121, 0.6072, 0.5305, 0.3114, 0.0951],\n",
      "        [0.7617, 0.4633, 0.1322, 0.7441, 0.9802],\n",
      "        [0.0621, 0.9562, 0.5957, 0.2512, 0.1986]])\n",
      "Edge feature [feat_1] is saved to ./ondisk_dataset_homograph/edge-feat-1.pt\n",
      "\n"
     ]
    }
   ],
   "source": [
    "# Generate node feature in numpy array.\n",
    "node_feat_0_path = os.path.join(base_dir, \"node-feat-0.npy\")\n",
    "node_feat_0 = np.random.rand(num_nodes, 5)\n",
    "print(f\"Part of node feature [feat_0]: {node_feat_0[:3, :]}\")\n",
    "np.save(node_feat_0_path, node_feat_0)\n",
    "print(f\"Node feature [feat_0] is saved to {node_feat_0_path}\\n\")\n",
    "\n",
    "# Generate another node feature in torch tensor\n",
    "node_feat_1_path = os.path.join(base_dir, \"node-feat-1.pt\")\n",
    "node_feat_1 = torch.rand(num_nodes, 5)\n",
    "print(f\"Part of node feature [feat_1]: {node_feat_1[:3, :]}\")\n",
    "torch.save(node_feat_1, node_feat_1_path)\n",
    "print(f\"Node feature [feat_1] is saved to {node_feat_1_path}\\n\")\n",
    "\n",
    "# Generate edge feature in numpy array.\n",
    "edge_feat_0_path = os.path.join(base_dir, \"edge-feat-0.npy\")\n",
    "edge_feat_0 = np.random.rand(num_edges, 5)\n",
    "print(f\"Part of edge feature [feat_0]: {edge_feat_0[:3, :]}\")\n",
    "np.save(edge_feat_0_path, edge_feat_0)\n",
    "print(f\"Edge feature [feat_0] is saved to {edge_feat_0_path}\\n\")\n",
    "\n",
    "# Generate another edge feature in torch tensor\n",
    "edge_feat_1_path = os.path.join(base_dir, \"edge-feat-1.pt\")\n",
    "edge_feat_1 = torch.rand(num_edges, 5)\n",
    "print(f\"Part of edge feature [feat_1]: {edge_feat_1[:3, :]}\")\n",
    "torch.save(edge_feat_1, edge_feat_1_path)\n",
    "print(f\"Edge feature [feat_1] is saved to {edge_feat_1_path}\\n\")\n"
   ]
  },
  {
   "cell_type": "markdown",
   "metadata": {
    "id": "ZyqgOtsIwzh_"
   },
   "source": [
    "### Generate tasks\n",
    "`OnDiskDataset` supports multiple tasks. For each task, we need to prepare training/validation/test sets respectively. Such sets usually vary among different tasks. In this tutorial, let's create a **Node Classification** task and **Link Prediction** task."
   ]
  },
  {
   "cell_type": "markdown",
   "metadata": {
    "id": "hVxHaDIfzCkr"
   },
   "source": [
    "#### Node Classification Task\n",
    "For node classification task, we need **node IDs** and corresponding **labels** for each training/validation/test set. Like feature data, numpy arrays and torch tensors are supported for these sets."
   ]
  },
  {
   "cell_type": "code",
   "execution_count": 5,
   "metadata": {
    "execution": {
     "iopub.execute_input": "2024-10-29T13:16:33.241573Z",
     "iopub.status.busy": "2024-10-29T13:16:33.241178Z",
     "iopub.status.idle": "2024-10-29T13:16:33.253053Z",
     "shell.execute_reply": "2024-10-29T13:16:33.252215Z"
    },
    "id": "S5-fyBbHzTCO"
   },
   "outputs": [
    {
     "name": "stdout",
     "output_type": "stream",
     "text": [
      "Part of train ids for node classification: [873 150  28]\n",
      "NC train ids are saved to ./ondisk_dataset_homograph/nc-train-ids.npy\n",
      "\n",
      "Part of train labels for node classification: tensor([6, 3, 4])\n",
      "NC train labels are saved to ./ondisk_dataset_homograph/nc-train-labels.pt\n",
      "\n",
      "Part of val ids for node classification: [870 449   8]\n",
      "NC val ids are saved to ./ondisk_dataset_homograph/nc-val-ids.npy\n",
      "\n",
      "Part of val labels for node classification: tensor([9, 1, 2])\n",
      "NC val labels are saved to ./ondisk_dataset_homograph/nc-val-labels.pt\n",
      "\n",
      "Part of test ids for node classification: [ 62 669 377]\n",
      "NC test ids are saved to ./ondisk_dataset_homograph/nc-test-ids.npy\n",
      "\n",
      "Part of test labels for node classification: tensor([2, 0, 1])\n",
      "NC test labels are saved to ./ondisk_dataset_homograph/nc-test-labels.pt\n",
      "\n"
     ]
    }
   ],
   "source": [
    "num_trains = int(num_nodes * 0.6)\n",
    "num_vals = int(num_nodes * 0.2)\n",
    "num_tests = num_nodes - num_trains - num_vals\n",
    "\n",
    "ids = np.arange(num_nodes)\n",
    "np.random.shuffle(ids)\n",
    "\n",
    "nc_train_ids_path = os.path.join(base_dir, \"nc-train-ids.npy\")\n",
    "nc_train_ids = ids[:num_trains]\n",
    "print(f\"Part of train ids for node classification: {nc_train_ids[:3]}\")\n",
    "np.save(nc_train_ids_path, nc_train_ids)\n",
    "print(f\"NC train ids are saved to {nc_train_ids_path}\\n\")\n",
    "\n",
    "nc_train_labels_path = os.path.join(base_dir, \"nc-train-labels.pt\")\n",
    "nc_train_labels = torch.randint(0, 10, (num_trains,))\n",
    "print(f\"Part of train labels for node classification: {nc_train_labels[:3]}\")\n",
    "torch.save(nc_train_labels, nc_train_labels_path)\n",
    "print(f\"NC train labels are saved to {nc_train_labels_path}\\n\")\n",
    "\n",
    "nc_val_ids_path = os.path.join(base_dir, \"nc-val-ids.npy\")\n",
    "nc_val_ids = ids[num_trains:num_trains+num_vals]\n",
    "print(f\"Part of val ids for node classification: {nc_val_ids[:3]}\")\n",
    "np.save(nc_val_ids_path, nc_val_ids)\n",
    "print(f\"NC val ids are saved to {nc_val_ids_path}\\n\")\n",
    "\n",
    "nc_val_labels_path = os.path.join(base_dir, \"nc-val-labels.pt\")\n",
    "nc_val_labels = torch.randint(0, 10, (num_vals,))\n",
    "print(f\"Part of val labels for node classification: {nc_val_labels[:3]}\")\n",
    "torch.save(nc_val_labels, nc_val_labels_path)\n",
    "print(f\"NC val labels are saved to {nc_val_labels_path}\\n\")\n",
    "\n",
    "nc_test_ids_path = os.path.join(base_dir, \"nc-test-ids.npy\")\n",
    "nc_test_ids = ids[-num_tests:]\n",
    "print(f\"Part of test ids for node classification: {nc_test_ids[:3]}\")\n",
    "np.save(nc_test_ids_path, nc_test_ids)\n",
    "print(f\"NC test ids are saved to {nc_test_ids_path}\\n\")\n",
    "\n",
    "nc_test_labels_path = os.path.join(base_dir, \"nc-test-labels.pt\")\n",
    "nc_test_labels = torch.randint(0, 10, (num_tests,))\n",
    "print(f\"Part of test labels for node classification: {nc_test_labels[:3]}\")\n",
    "torch.save(nc_test_labels, nc_test_labels_path)\n",
    "print(f\"NC test labels are saved to {nc_test_labels_path}\\n\")"
   ]
  },
  {
   "cell_type": "markdown",
   "metadata": {
    "id": "LhAcDCHQ_KJ0"
   },
   "source": [
    "#### Link Prediction Task\n",
    "For link prediction task, we need **seeds** or **corresponding labels and indexes** which representing the pos/neg property and group of the seeds for each training/validation/test set. Like feature data, numpy arrays and torch tensors are supported for these sets."
   ]
  },
  {
   "cell_type": "code",
   "execution_count": 6,
   "metadata": {
    "execution": {
     "iopub.execute_input": "2024-10-29T13:16:33.255731Z",
     "iopub.status.busy": "2024-10-29T13:16:33.255408Z",
     "iopub.status.idle": "2024-10-29T13:16:33.273433Z",
     "shell.execute_reply": "2024-10-29T13:16:33.272586Z"
    },
    "id": "u0jCnXIcAQy4"
   },
   "outputs": [
    {
     "name": "stdout",
     "output_type": "stream",
     "text": [
      "Part of train seeds for link prediction: [[771  76]\n",
      " [  0 239]\n",
      " [690 344]]\n",
      "LP train seeds are saved to ./ondisk_dataset_homograph/lp-train-seeds.npy\n",
      "\n",
      "Part of val seeds for link prediction: [[393  96]\n",
      " [905 389]\n",
      " [ 26 868]]\n",
      "LP val seeds are saved to ./ondisk_dataset_homograph/lp-val-seeds.npy\n",
      "\n",
      "Part of val labels for link prediction: [1. 1. 1.]\n",
      "LP val labels are saved to ./ondisk_dataset_homograph/lp-val-labels.npy\n",
      "\n",
      "Part of val indexes for link prediction: [0 1 2]\n",
      "LP val indexes are saved to ./ondisk_dataset_homograph/lp-val-indexes.npy\n",
      "\n",
      "Part of test seeds for link prediction: [[229 364]\n",
      " [245 985]\n",
      " [286 470]]\n",
      "LP test seeds are saved to ./ondisk_dataset_homograph/lp-test-seeds.npy\n",
      "\n",
      "Part of val labels for link prediction: [1. 1. 1.]\n",
      "LP test labels are saved to ./ondisk_dataset_homograph/lp-test-labels.npy\n",
      "\n",
      "Part of test indexes for link prediction: [0 1 2]\n",
      "LP test indexes are saved to ./ondisk_dataset_homograph/lp-test-indexes.npy\n",
      "\n"
     ]
    }
   ],
   "source": [
    "num_trains = int(num_edges * 0.6)\n",
    "num_vals = int(num_edges * 0.2)\n",
    "num_tests = num_edges - num_trains - num_vals\n",
    "\n",
    "lp_train_seeds_path = os.path.join(base_dir, \"lp-train-seeds.npy\")\n",
    "lp_train_seeds = edges[:num_trains, :]\n",
    "print(f\"Part of train seeds for link prediction: {lp_train_seeds[:3]}\")\n",
    "np.save(lp_train_seeds_path, lp_train_seeds)\n",
    "print(f\"LP train seeds are saved to {lp_train_seeds_path}\\n\")\n",
    "\n",
    "lp_val_seeds_path = os.path.join(base_dir, \"lp-val-seeds.npy\")\n",
    "lp_val_seeds = edges[num_trains:num_trains+num_vals, :]\n",
    "lp_val_neg_dsts = np.random.randint(0, num_nodes, (num_vals, 10)).reshape(-1)\n",
    "lp_val_neg_srcs = np.repeat(lp_val_seeds[:,0], 10)\n",
    "lp_val_neg_seeds = np.concatenate((lp_val_neg_srcs, lp_val_neg_dsts)).reshape(2,-1).T\n",
    "lp_val_seeds = np.concatenate((lp_val_seeds, lp_val_neg_seeds))\n",
    "print(f\"Part of val seeds for link prediction: {lp_val_seeds[:3]}\")\n",
    "np.save(lp_val_seeds_path, lp_val_seeds)\n",
    "print(f\"LP val seeds are saved to {lp_val_seeds_path}\\n\")\n",
    "\n",
    "lp_val_labels_path = os.path.join(base_dir, \"lp-val-labels.npy\")\n",
    "lp_val_labels = np.empty(num_vals * (10 + 1))\n",
    "lp_val_labels[:num_vals] = 1\n",
    "lp_val_labels[num_vals:] = 0\n",
    "print(f\"Part of val labels for link prediction: {lp_val_labels[:3]}\")\n",
    "np.save(lp_val_labels_path, lp_val_labels)\n",
    "print(f\"LP val labels are saved to {lp_val_labels_path}\\n\")\n",
    "\n",
    "lp_val_indexes_path = os.path.join(base_dir, \"lp-val-indexes.npy\")\n",
    "lp_val_indexes = np.arange(0, num_vals)\n",
    "lp_val_neg_indexes = np.repeat(lp_val_indexes, 10)\n",
    "lp_val_indexes = np.concatenate([lp_val_indexes, lp_val_neg_indexes])\n",
    "print(f\"Part of val indexes for link prediction: {lp_val_indexes[:3]}\")\n",
    "np.save(lp_val_indexes_path, lp_val_indexes)\n",
    "print(f\"LP val indexes are saved to {lp_val_indexes_path}\\n\")\n",
    "\n",
    "lp_test_seeds_path = os.path.join(base_dir, \"lp-test-seeds.npy\")\n",
    "lp_test_seeds = edges[-num_tests:, :]\n",
    "lp_test_neg_dsts = np.random.randint(0, num_nodes, (num_tests, 10)).reshape(-1)\n",
    "lp_test_neg_srcs = np.repeat(lp_test_seeds[:,0], 10)\n",
    "lp_test_neg_seeds = np.concatenate((lp_test_neg_srcs, lp_test_neg_dsts)).reshape(2,-1).T\n",
    "lp_test_seeds = np.concatenate((lp_test_seeds, lp_test_neg_seeds))\n",
    "print(f\"Part of test seeds for link prediction: {lp_test_seeds[:3]}\")\n",
    "np.save(lp_test_seeds_path, lp_test_seeds)\n",
    "print(f\"LP test seeds are saved to {lp_test_seeds_path}\\n\")\n",
    "\n",
    "lp_test_labels_path = os.path.join(base_dir, \"lp-test-labels.npy\")\n",
    "lp_test_labels = np.empty(num_tests * (10 + 1))\n",
    "lp_test_labels[:num_tests] = 1\n",
    "lp_test_labels[num_tests:] = 0\n",
    "print(f\"Part of val labels for link prediction: {lp_test_labels[:3]}\")\n",
    "np.save(lp_test_labels_path, lp_test_labels)\n",
    "print(f\"LP test labels are saved to {lp_test_labels_path}\\n\")\n",
    "\n",
    "lp_test_indexes_path = os.path.join(base_dir, \"lp-test-indexes.npy\")\n",
    "lp_test_indexes = np.arange(0, num_tests)\n",
    "lp_test_neg_indexes = np.repeat(lp_test_indexes, 10)\n",
    "lp_test_indexes = np.concatenate([lp_test_indexes, lp_test_neg_indexes])\n",
    "print(f\"Part of test indexes for link prediction: {lp_test_indexes[:3]}\")\n",
    "np.save(lp_test_indexes_path, lp_test_indexes)\n",
    "print(f\"LP test indexes are saved to {lp_test_indexes_path}\\n\")"
   ]
  },
  {
   "cell_type": "markdown",
   "metadata": {
    "id": "wbk6-wxRK-6S"
   },
   "source": [
    "## Organize Data into YAML File\n",
    "Now we need to create a `metadata.yaml` file which contains the paths, dadta types of graph structure, feature data, training/validation/test sets.\n",
    "\n",
    "Notes:\n",
    "- all path should be relative to `metadata.yaml`.\n",
    "- Below fields are optional and not specified in below example.\n",
    "  - `in_memory`: indicates whether to load dada into memory or `mmap`. Default is `True`.\n",
    "\n",
    "Please refer to [YAML specification](https://github.com/dmlc/dgl/blob/master/docs/source/stochastic_training/ondisk-dataset-specification.rst) for more details."
   ]
  },
  {
   "cell_type": "code",
   "execution_count": 7,
   "metadata": {
    "execution": {
     "iopub.execute_input": "2024-10-29T13:16:33.276068Z",
     "iopub.status.busy": "2024-10-29T13:16:33.275746Z",
     "iopub.status.idle": "2024-10-29T13:16:33.282240Z",
     "shell.execute_reply": "2024-10-29T13:16:33.281409Z"
    },
    "id": "ddGTWW61Lpwp"
   },
   "outputs": [],
   "source": [
    "yaml_content = f\"\"\"\n",
    "    dataset_name: homogeneous_graph_nc_lp\n",
    "    graph:\n",
    "      nodes:\n",
    "        - num: {num_nodes}\n",
    "      edges:\n",
    "        - format: csv\n",
    "          path: {os.path.basename(edges_path)}\n",
    "    feature_data:\n",
    "      - domain: node\n",
    "        name: feat_0\n",
    "        format: numpy\n",
    "        path: {os.path.basename(node_feat_0_path)}\n",
    "      - domain: node\n",
    "        name: feat_1\n",
    "        format: torch\n",
    "        path: {os.path.basename(node_feat_1_path)}\n",
    "      - domain: edge\n",
    "        name: feat_0\n",
    "        format: numpy\n",
    "        path: {os.path.basename(edge_feat_0_path)}\n",
    "      - domain: edge\n",
    "        name: feat_1\n",
    "        format: torch\n",
    "        path: {os.path.basename(edge_feat_1_path)}\n",
    "    tasks:\n",
    "      - name: node_classification\n",
    "        num_classes: 10\n",
    "        train_set:\n",
    "          - data:\n",
    "              - name: seeds\n",
    "                format: numpy\n",
    "                path: {os.path.basename(nc_train_ids_path)}\n",
    "              - name: labels\n",
    "                format: torch\n",
    "                path: {os.path.basename(nc_train_labels_path)}\n",
    "        validation_set:\n",
    "          - data:\n",
    "              - name: seeds\n",
    "                format: numpy\n",
    "                path: {os.path.basename(nc_val_ids_path)}\n",
    "              - name: labels\n",
    "                format: torch\n",
    "                path: {os.path.basename(nc_val_labels_path)}\n",
    "        test_set:\n",
    "          - data:\n",
    "              - name: seeds\n",
    "                format: numpy\n",
    "                path: {os.path.basename(nc_test_ids_path)}\n",
    "              - name: labels\n",
    "                format: torch\n",
    "                path: {os.path.basename(nc_test_labels_path)}\n",
    "      - name: link_prediction\n",
    "        num_classes: 10\n",
    "        train_set:\n",
    "          - data:\n",
    "              - name: seeds\n",
    "                format: numpy\n",
    "                path: {os.path.basename(lp_train_seeds_path)}\n",
    "        validation_set:\n",
    "          - data:\n",
    "              - name: seeds\n",
    "                format: numpy\n",
    "                path: {os.path.basename(lp_val_seeds_path)}\n",
    "              - name: labels\n",
    "                format: numpy\n",
    "                path: {os.path.basename(lp_val_labels_path)}\n",
    "              - name: indexes\n",
    "                format: numpy\n",
    "                path: {os.path.basename(lp_val_indexes_path)}\n",
    "        test_set:\n",
    "          - data:\n",
    "              - name: seeds\n",
    "                format: numpy\n",
    "                path: {os.path.basename(lp_test_seeds_path)}\n",
    "              - name: labels\n",
    "                format: numpy\n",
    "                path: {os.path.basename(lp_test_labels_path)}\n",
    "              - name: indexes\n",
    "                format: numpy\n",
    "                path: {os.path.basename(lp_test_indexes_path)}\n",
    "\"\"\"\n",
    "metadata_path = os.path.join(base_dir, \"metadata.yaml\")\n",
    "with open(metadata_path, \"w\") as f:\n",
    "  f.write(yaml_content)"
   ]
  },
  {
   "cell_type": "markdown",
   "metadata": {
    "id": "kEfybHGhOW7O"
   },
   "source": [
    "## Instantiate `OnDiskDataset`\n",
    "Now we're ready to load dataset via `dgl.graphbolt.OnDiskDataset`. When instantiating, we just pass in the base directory where `metadata.yaml` file lies.\n",
    "\n",
    "During first instantiation, GraphBolt preprocesses the raw data such as constructing `FusedCSCSamplingGraph` from edges. All data including graph, feature data, training/validation/test sets are put into `preprocessed` directory after preprocessing. Any following dataset loading will skip the preprocess stage.\n",
    "\n",
    "After preprocessing, `load()` is required to be called explicitly in order to load graph, feature data and tasks."
   ]
  },
  {
   "cell_type": "code",
   "execution_count": 8,
   "metadata": {
    "execution": {
     "iopub.execute_input": "2024-10-29T13:16:33.284675Z",
     "iopub.status.busy": "2024-10-29T13:16:33.284350Z",
     "iopub.status.idle": "2024-10-29T13:16:33.356069Z",
     "shell.execute_reply": "2024-10-29T13:16:33.355343Z"
    },
    "id": "W58CZoSzOiyo"
   },
   "outputs": [
    {
     "name": "stdout",
     "output_type": "stream",
     "text": [
      "Start to preprocess the on-disk dataset.\n",
      "Finish preprocessing the on-disk dataset.\n",
      "Loaded graph: FusedCSCSamplingGraph(csc_indptr=tensor([    0,     8,    14,  ...,  9975,  9989, 10000], dtype=torch.int32),\n",
      "                      indices=tensor([ 24, 653, 232,  ..., 679, 325, 211], dtype=torch.int32),\n",
      "                      total_num_nodes=1000, num_edges=10000,)\n",
      "\n",
      "Loaded feature store: TorchBasedFeatureStore(\n",
      "    {(<OnDiskFeatureDataDomain.NODE: 'node'>, None, 'feat_0'): TorchBasedFeature(\n",
      "        feature=tensor([[0.4969, 0.0707, 0.3678, 0.6405, 0.2518],\n",
      "                        [0.5977, 0.4662, 0.2465, 0.8781, 0.6194],\n",
      "                        [0.4085, 0.5601, 0.2241, 0.9345, 0.2604],\n",
      "                        ...,\n",
      "                        [0.3137, 0.1199, 0.7390, 0.1461, 0.2160],\n",
      "                        [0.9795, 0.7566, 0.6426, 0.7986, 0.1347],\n",
      "                        [0.0739, 0.9296, 0.4119, 0.5046, 0.5929]], dtype=torch.float64),\n",
      "        metadata={},\n",
      "    ), (<OnDiskFeatureDataDomain.NODE: 'node'>, None, 'feat_1'): TorchBasedFeature(\n",
      "        feature=tensor([[0.2225, 0.1468, 0.5464, 0.1245, 0.5452],\n",
      "                        [0.6209, 0.5221, 0.2026, 0.6057, 0.0583],\n",
      "                        [0.0497, 0.7577, 0.2232, 0.5765, 0.6962],\n",
      "                        ...,\n",
      "                        [0.8763, 0.1635, 0.8351, 0.7849, 0.4096],\n",
      "                        [0.7807, 0.4165, 0.6643, 0.6496, 0.0890],\n",
      "                        [0.3010, 0.4147, 0.5756, 0.4695, 0.0877]]),\n",
      "        metadata={},\n",
      "    ), (<OnDiskFeatureDataDomain.EDGE: 'edge'>, None, 'feat_0'): TorchBasedFeature(\n",
      "        feature=tensor([[0.8100, 0.8302, 0.8793, 0.5211, 0.4059],\n",
      "                        [0.2256, 0.3394, 0.4407, 0.3684, 0.2749],\n",
      "                        [0.9284, 0.6158, 0.6600, 0.3379, 0.5107],\n",
      "                        ...,\n",
      "                        [0.5367, 0.5506, 0.0204, 0.5007, 0.1958],\n",
      "                        [0.6406, 0.9403, 0.4528, 0.0499, 0.5182],\n",
      "                        [0.5076, 0.3324, 0.4184, 0.5091, 0.7175]], dtype=torch.float64),\n",
      "        metadata={},\n",
      "    ), (<OnDiskFeatureDataDomain.EDGE: 'edge'>, None, 'feat_1'): TorchBasedFeature(\n",
      "        feature=tensor([[0.5121, 0.6072, 0.5305, 0.3114, 0.0951],\n",
      "                        [0.7617, 0.4633, 0.1322, 0.7441, 0.9802],\n",
      "                        [0.0621, 0.9562, 0.5957, 0.2512, 0.1986],\n",
      "                        ...,\n",
      "                        [0.7771, 0.3402, 0.2174, 0.9328, 0.2745],\n",
      "                        [0.6706, 0.5279, 0.5146, 0.9956, 0.8624],\n",
      "                        [0.4449, 0.9093, 0.1787, 0.2382, 0.1190]]),\n",
      "        metadata={},\n",
      "    )}\n",
      ")\n",
      "\n",
      "Loaded node classification task: OnDiskTask(validation_set=ItemSet(\n",
      "               items=(tensor([870, 449,   8, 997, 751, 738, 484, 795, 435, 304, 928, 688, 263, 566,\n",
      "                   571, 776, 847, 107, 760, 499, 197,  15, 309, 510, 874, 569, 721, 910,\n",
      "                   587, 619, 800, 276, 715, 129, 249, 583, 140, 616, 235,  40, 837,   4,\n",
      "                   296, 508, 962, 803, 261, 374, 976,  42, 949, 834, 548, 825, 342, 109,\n",
      "                   965, 845, 311, 590, 663, 214, 693, 384,  81,  22, 125, 164,  45, 453,\n",
      "                   511, 491,  60, 227, 242, 967, 341, 553, 912,  16, 788, 495, 682, 581,\n",
      "                   757, 422, 891, 254, 804, 222, 966, 168, 545, 252, 456, 956, 328, 115,\n",
      "                   208,  19, 761,  44, 512, 638, 399, 520, 898, 711, 782, 805, 568, 615,\n",
      "                   445, 360, 286, 649, 253, 288, 712, 748, 183, 575, 538, 904, 671, 234,\n",
      "                   345, 771, 555, 886,  73,  39,  85, 419, 677, 205, 221,  67, 719,  78,\n",
      "                   614,  71, 608, 940, 923, 746, 123, 844, 794, 507, 774, 145, 698, 559,\n",
      "                   433, 768, 560, 518, 161, 265, 856,  83, 552, 477, 563, 822, 841, 607,\n",
      "                   305, 102, 633, 401, 166, 470,  11, 863,   0, 436, 357, 584, 701, 149,\n",
      "                   770, 247, 351,  26, 467, 720, 799, 233, 546, 170, 414, 554, 661, 228,\n",
      "                   203, 178, 783, 542], dtype=torch.int32), tensor([9, 1, 2, 1, 2, 9, 7, 2, 7, 2, 8, 6, 7, 7, 9, 8, 1, 0, 4, 7, 5, 1, 3, 9,\n",
      "                   2, 6, 8, 8, 9, 2, 1, 7, 8, 6, 9, 7, 1, 2, 5, 9, 4, 6, 5, 4, 6, 7, 9, 7,\n",
      "                   5, 5, 8, 2, 6, 4, 3, 4, 4, 6, 1, 7, 9, 7, 8, 5, 6, 2, 3, 5, 3, 4, 7, 5,\n",
      "                   0, 1, 9, 3, 1, 1, 0, 8, 8, 4, 7, 6, 0, 0, 7, 2, 5, 3, 8, 4, 1, 9, 5, 2,\n",
      "                   0, 4, 3, 7, 0, 5, 3, 8, 2, 9, 5, 5, 2, 3, 1, 7, 6, 1, 6, 0, 9, 2, 7, 1,\n",
      "                   2, 8, 8, 2, 0, 7, 5, 1, 4, 4, 2, 6, 9, 4, 8, 5, 4, 3, 3, 9, 3, 7, 8, 8,\n",
      "                   0, 3, 1, 2, 5, 5, 5, 6, 5, 3, 0, 0, 4, 2, 9, 9, 4, 2, 9, 2, 8, 7, 5, 6,\n",
      "                   4, 5, 5, 4, 8, 0, 8, 7, 1, 9, 5, 2, 9, 0, 1, 6, 0, 8, 1, 3, 3, 5, 8, 3,\n",
      "                   0, 5, 6, 7, 6, 7, 0, 4])),\n",
      "               names=('seeds', 'labels'),\n",
      "           ),\n",
      "           train_set=ItemSet(\n",
      "               items=(tensor([873, 150,  28, 408, 171, 132, 654,  30, 321, 869, 766,  32, 176, 181,\n",
      "                   979, 134, 658, 902, 367, 485, 778, 278, 122, 211, 802, 148, 332, 883,\n",
      "                   316, 848, 258, 362, 567, 111, 916, 488, 191, 407, 142, 385, 269, 933,\n",
      "                   165, 877, 660, 400, 454, 412, 236, 476, 893, 543, 582, 839,   2, 460,\n",
      "                    77,  75, 789, 218, 953, 496, 361, 314, 280, 515, 680, 551, 624, 871,\n",
      "                   850, 817, 387, 423, 300, 718, 378, 922,  14, 365,  59,  17, 588,  23,\n",
      "                   141,  89, 184, 705, 564, 185,  65,  93, 240, 678, 843, 857, 977, 498,\n",
      "                   451, 813, 759, 573, 880, 190, 889, 846, 593, 245, 702,  66, 811, 728,\n",
      "                   968, 644, 700, 315, 348, 866, 500, 162, 209, 337, 127, 941, 103, 911,\n",
      "                   812, 550, 646, 506, 734, 306, 204,  13, 927, 514, 973, 981, 819, 238,\n",
      "                   628, 420, 951, 215, 250, 441, 468, 750, 231, 154, 383, 213, 139, 784,\n",
      "                   310, 503, 344, 366, 279, 596, 128, 675, 921, 133, 244, 480, 601,  51,\n",
      "                   578, 186, 455,  74, 427, 990, 430, 996, 202,  31, 275, 960,  68, 483,\n",
      "                   943, 929, 685, 572, 440, 972, 359, 353,  87, 580,   7, 801, 323, 402,\n",
      "                   807, 155, 613, 780, 248, 692, 915, 935, 828, 786, 260, 531, 959, 620,\n",
      "                   606, 833, 501, 899, 906,   6, 547, 872, 444, 974, 970, 101, 918, 167,\n",
      "                   264, 707, 466, 864, 963, 948, 749, 475, 604, 745, 696, 792, 396, 312,\n",
      "                   382,  69, 308, 691, 320, 561, 835, 492, 232, 256, 526, 293, 277, 182,\n",
      "                   126, 987, 105, 632, 118, 586, 950, 223,  72, 779, 769, 634, 806, 289,\n",
      "                   989, 113, 529, 194, 647, 763, 710, 777, 867, 446, 392, 333, 363, 727,\n",
      "                   737, 415, 318, 516, 686, 352, 901, 137,  43, 681, 431, 448, 818,  64,\n",
      "                   108, 914, 937, 121, 404, 892, 502, 469, 653, 541, 881, 497, 324,  56,\n",
      "                   957, 120, 326, 793, 842, 386, 239,  48, 704, 689, 187, 816, 376, 274,\n",
      "                    79, 330, 773,  91, 673, 787, 424, 159, 482, 743, 645, 393, 585, 525,\n",
      "                   772,   3, 394, 471, 657, 851, 457, 964,  55, 271, 479, 356, 334, 986,\n",
      "                   627, 676, 188, 262, 505, 975, 984, 600,  76, 338,  21, 736, 447, 462,\n",
      "                   373, 489, 268, 307, 219, 855, 991, 821, 895, 764, 395, 820, 656, 301,\n",
      "                   540, 740, 919, 379, 285, 429, 665,  63, 532, 243, 527, 714, 200, 945,\n",
      "                   574, 917, 459, 257, 443, 450, 992, 643, 683, 598, 611,  90, 725, 339,\n",
      "                   381, 519, 336, 347, 887, 852, 486,  25, 905, 281, 876, 369, 589, 815,\n",
      "                   926, 405, 717, 621,  82, 284, 809,  38, 397,  61, 160, 472, 272, 106,\n",
      "                   189, 942,  10, 201, 938, 808, 297, 753, 955, 775, 708, 521, 220, 713,\n",
      "                   699, 458, 732, 282,  27, 913, 625, 533, 192, 617, 217,  12,  34, 270,\n",
      "                    20, 670, 146, 755,  53, 524, 622, 177,  35, 640, 534, 135, 343, 411,\n",
      "                   655,  96, 421, 832, 971, 116, 409, 936, 331, 706, 674, 124, 143, 797,\n",
      "                   136, 767,  84, 791, 327, 903, 112, 735, 618, 487,   1, 432,  29, 287,\n",
      "                   417, 592, 434, 785, 530, 694, 651, 731, 536, 985, 900, 558, 195, 827,\n",
      "                   504, 603,  98, 290, 862, 747, 544, 413, 292, 810, 410,  36, 266, 173,\n",
      "                   894, 695, 354, 172, 364, 193, 635, 416, 206,  46, 849, 522, 180, 908,\n",
      "                   744, 882, 340, 577, 349, 199, 836, 556, 667,  54, 733, 641, 473, 428,\n",
      "                   153, 861, 565, 196, 406, 961, 723, 391, 703, 897, 610, 982, 865, 859,\n",
      "                   630, 993, 826, 517, 229, 924, 652, 131, 224, 418, 875, 840, 781, 237,\n",
      "                   350,  47, 602, 273, 426, 317, 163, 605, 599, 609, 930, 291],\n",
      "                  dtype=torch.int32), tensor([6, 3, 4, 3, 1, 0, 0, 9, 8, 4, 4, 4, 6, 4, 2, 2, 3, 7, 5, 1, 3, 2, 2, 1,\n",
      "                   8, 1, 2, 1, 1, 4, 5, 3, 4, 7, 9, 9, 2, 4, 1, 7, 8, 5, 1, 3, 1, 9, 0, 5,\n",
      "                   7, 4, 0, 6, 3, 1, 2, 4, 9, 8, 0, 7, 2, 0, 5, 3, 0, 1, 1, 4, 4, 0, 7, 7,\n",
      "                   6, 7, 7, 1, 1, 9, 4, 5, 2, 3, 3, 2, 3, 9, 6, 9, 3, 4, 6, 2, 6, 6, 2, 4,\n",
      "                   4, 1, 9, 8, 9, 5, 2, 2, 1, 8, 9, 6, 3, 2, 1, 9, 2, 2, 9, 6, 0, 4, 9, 1,\n",
      "                   7, 3, 7, 7, 6, 8, 9, 4, 1, 8, 1, 1, 8, 5, 6, 3, 7, 5, 3, 2, 9, 1, 2, 2,\n",
      "                   7, 6, 1, 8, 1, 4, 6, 7, 7, 6, 2, 2, 6, 1, 9, 5, 7, 8, 8, 5, 9, 2, 0, 8,\n",
      "                   8, 2, 6, 3, 6, 6, 4, 1, 7, 4, 4, 0, 8, 3, 4, 3, 6, 7, 7, 1, 7, 4, 7, 6,\n",
      "                   0, 4, 3, 9, 6, 1, 8, 0, 8, 8, 0, 0, 8, 7, 1, 1, 6, 4, 7, 2, 3, 8, 5, 8,\n",
      "                   4, 1, 4, 8, 9, 5, 8, 5, 8, 1, 5, 7, 8, 2, 4, 8, 5, 7, 3, 7, 7, 5, 8, 3,\n",
      "                   5, 7, 1, 0, 6, 8, 3, 3, 7, 5, 9, 9, 4, 4, 2, 5, 4, 0, 2, 3, 8, 0, 8, 5,\n",
      "                   3, 8, 0, 0, 4, 7, 7, 4, 4, 9, 9, 0, 1, 7, 7, 3, 5, 5, 4, 1, 9, 3, 2, 0,\n",
      "                   2, 5, 5, 4, 8, 3, 1, 6, 9, 6, 8, 2, 2, 4, 9, 7, 3, 4, 0, 3, 7, 3, 8, 8,\n",
      "                   5, 2, 4, 2, 0, 7, 3, 6, 1, 4, 0, 0, 2, 5, 5, 3, 4, 0, 1, 5, 9, 2, 6, 1,\n",
      "                   7, 2, 0, 3, 8, 9, 4, 8, 1, 3, 8, 8, 9, 3, 4, 8, 0, 3, 4, 0, 4, 6, 7, 5,\n",
      "                   3, 3, 9, 8, 1, 7, 2, 3, 4, 7, 7, 3, 8, 3, 3, 8, 7, 2, 8, 7, 7, 1, 3, 6,\n",
      "                   5, 2, 8, 4, 7, 4, 0, 1, 2, 9, 9, 8, 8, 1, 2, 6, 7, 4, 0, 5, 9, 2, 4, 5,\n",
      "                   8, 7, 5, 4, 3, 3, 3, 6, 3, 0, 7, 7, 7, 1, 2, 3, 1, 4, 4, 8, 3, 9, 2, 0,\n",
      "                   6, 0, 7, 2, 1, 3, 1, 9, 8, 9, 6, 8, 6, 1, 8, 9, 6, 5, 7, 6, 2, 4, 5, 6,\n",
      "                   3, 2, 3, 4, 8, 3, 9, 3, 6, 8, 4, 4, 0, 1, 5, 9, 3, 5, 5, 3, 8, 2, 0, 4,\n",
      "                   8, 9, 9, 1, 7, 1, 6, 2, 9, 8, 1, 6, 2, 1, 4, 6, 4, 3, 9, 9, 7, 0, 4, 8,\n",
      "                   5, 9, 0, 0, 1, 5, 6, 0, 8, 9, 9, 2, 0, 1, 0, 9, 4, 7, 4, 4, 6, 3, 7, 0,\n",
      "                   7, 9, 9, 0, 7, 3, 1, 7, 1, 3, 2, 8, 7, 1, 1, 9, 9, 2, 4, 1, 3, 8, 7, 7,\n",
      "                   5, 5, 4, 8, 5, 2, 9, 8, 0, 1, 2, 6, 5, 1, 0, 8, 6, 8, 2, 6, 1, 0, 9, 7,\n",
      "                   3, 7, 4, 0, 9, 6, 9, 2, 8, 4, 8, 5, 1, 9, 1, 7, 0, 6, 4, 0, 0, 8, 3, 5])),\n",
      "               names=('seeds', 'labels'),\n",
      "           ),\n",
      "           test_set=ItemSet(\n",
      "               items=(tensor([ 62, 669, 377, 403, 464, 944, 158,  97, 879, 631, 390, 639, 179, 157,\n",
      "                   716, 666, 388, 246, 884,  88, 724, 907, 368, 210, 302, 690, 198, 709,\n",
      "                   729, 824, 878, 549, 439, 570, 920, 225, 389, 100, 576, 299, 939, 251,\n",
      "                   814, 152, 662, 478, 672, 513, 437, 461,  41, 642, 741, 425, 626, 465,\n",
      "                   380, 493, 494, 156, 537, 758, 169, 535, 216, 765, 144, 932, 523, 687,\n",
      "                   752, 147, 579, 372,  92, 595, 528, 329, 230,  94, 831, 255, 679, 294,\n",
      "                   988, 629, 636,  18, 283, 298, 175, 650, 838, 119,  37, 452, 659, 756,\n",
      "                     9, 946,  33, 823, 796, 623, 114, 539, 722, 790, 909, 110, 117, 925,\n",
      "                   934, 259, 830,  70, 890, 212, 303, 358, 994, 954, 241, 370, 594, 174,\n",
      "                   762, 138,   5, 207, 346, 648,  57, 562, 888, 612, 104, 730, 371, 931,\n",
      "                    99, 375, 983, 481, 322, 958, 952, 980, 754,  52,  24, 969, 295, 474,\n",
      "                    58, 697, 684, 853, 319, 896, 490, 854, 226, 860,  80, 637,  50, 591,\n",
      "                   995,  95, 509,  49, 998, 442, 355, 742, 858, 664, 313, 885, 999, 597,\n",
      "                   267, 947, 798, 739,  86, 668, 438, 130, 335, 398, 978, 463, 726, 325,\n",
      "                   868, 829, 557, 151], dtype=torch.int32), tensor([2, 0, 1, 4, 5, 1, 4, 2, 2, 7, 2, 6, 3, 9, 2, 2, 2, 9, 9, 2, 6, 0, 7, 9,\n",
      "                   6, 8, 4, 9, 8, 0, 2, 6, 4, 1, 8, 5, 4, 2, 6, 1, 8, 9, 6, 0, 1, 0, 6, 8,\n",
      "                   1, 1, 4, 3, 3, 8, 6, 5, 1, 1, 9, 1, 7, 7, 5, 6, 7, 6, 8, 5, 0, 2, 1, 4,\n",
      "                   4, 1, 5, 8, 8, 5, 4, 3, 8, 7, 0, 7, 1, 9, 7, 1, 1, 9, 9, 8, 9, 7, 7, 7,\n",
      "                   9, 4, 4, 0, 0, 8, 0, 2, 8, 8, 9, 8, 5, 4, 1, 5, 3, 6, 9, 4, 8, 4, 1, 2,\n",
      "                   9, 0, 4, 7, 7, 5, 2, 3, 3, 9, 2, 1, 9, 4, 0, 1, 1, 2, 7, 6, 8, 8, 1, 8,\n",
      "                   5, 6, 3, 8, 5, 8, 0, 4, 2, 1, 4, 7, 4, 9, 7, 2, 8, 5, 0, 6, 4, 6, 4, 0,\n",
      "                   2, 6, 6, 2, 0, 7, 2, 4, 6, 6, 6, 6, 7, 3, 8, 8, 3, 9, 2, 8, 1, 8, 5, 2,\n",
      "                   7, 9, 4, 2, 9, 0, 2, 8])),\n",
      "               names=('seeds', 'labels'),\n",
      "           ),\n",
      "           metadata={'name': 'node_classification', 'num_classes': 10},)\n",
      "\n",
      "Loaded link prediction task: OnDiskTask(validation_set=ItemSet(\n",
      "               items=(tensor([[393,  96],\n",
      "                   [905, 389],\n",
      "                   [ 26, 868],\n",
      "                   ...,\n",
      "                   [656, 645],\n",
      "                   [656, 404],\n",
      "                   [656, 711]], dtype=torch.int32), tensor([1., 1., 1.,  ..., 0., 0., 0.], dtype=torch.float64), tensor([   0,    1,    2,  ..., 1999, 1999, 1999])),\n",
      "               names=('seeds', 'labels', 'indexes'),\n",
      "           ),\n",
      "           train_set=ItemSet(\n",
      "               items=(tensor([[771,  76],\n",
      "                   [  0, 239],\n",
      "                   [690, 344],\n",
      "                   ...,\n",
      "                   [728, 665],\n",
      "                   [453, 829],\n",
      "                   [990, 453]], dtype=torch.int32),),\n",
      "               names=('seeds',),\n",
      "           ),\n",
      "           test_set=ItemSet(\n",
      "               items=(tensor([[229, 364],\n",
      "                   [245, 985],\n",
      "                   [286, 470],\n",
      "                   ...,\n",
      "                   [483, 665],\n",
      "                   [483, 813],\n",
      "                   [483, 831]], dtype=torch.int32), tensor([1., 1., 1.,  ..., 0., 0., 0.], dtype=torch.float64), tensor([   0,    1,    2,  ..., 1999, 1999, 1999])),\n",
      "               names=('seeds', 'labels', 'indexes'),\n",
      "           ),\n",
      "           metadata={'name': 'link_prediction', 'num_classes': 10},)\n",
      "\n"
     ]
    },
    {
     "name": "stderr",
     "output_type": "stream",
     "text": [
      "/dgl/python/dgl/graphbolt/impl/ondisk_dataset.py:463: GBWarning: Edge feature is stored, but edge IDs are not saved.\n",
      "  gb_warning(\"Edge feature is stored, but edge IDs are not saved.\")\n"
     ]
    }
   ],
   "source": [
    "dataset = gb.OnDiskDataset(base_dir).load()\n",
    "graph = dataset.graph\n",
    "print(f\"Loaded graph: {graph}\\n\")\n",
    "\n",
    "feature = dataset.feature\n",
    "print(f\"Loaded feature store: {feature}\\n\")\n",
    "\n",
    "tasks = dataset.tasks\n",
    "nc_task = tasks[0]\n",
    "print(f\"Loaded node classification task: {nc_task}\\n\")\n",
    "lp_task = tasks[1]\n",
    "print(f\"Loaded link prediction task: {lp_task}\\n\")"
   ]
  }
 ],
 "metadata": {
  "colab": {
   "private_outputs": true,
   "provenance": []
  },
  "kernelspec": {
   "display_name": "Python 3",
   "name": "python3"
  },
  "language_info": {
   "codemirror_mode": {
    "name": "ipython",
    "version": 3
   },
   "file_extension": ".py",
   "mimetype": "text/x-python",
   "name": "python",
   "nbconvert_exporter": "python",
   "pygments_lexer": "ipython3",
   "version": "3.10.15"
  }
 },
 "nbformat": 4,
 "nbformat_minor": 0
}

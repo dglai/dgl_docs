{
 "cells": [
  {
   "cell_type": "markdown",
   "metadata": {
    "id": "FnFhPMaAfLtJ"
   },
   "source": [
    "# OnDiskDataset for Homogeneous Graph\n",
    "\n",
    "[![Open In Colab](https://colab.research.google.com/assets/colab-badge.svg)](https://colab.research.google.com/github/dmlc/dgl/blob/master/notebooks/stochastic_training/ondisk_dataset_homograph.ipynb) [![GitHub](https://img.shields.io/badge/-View%20on%20GitHub-181717?logo=github&logoColor=ffffff)](https://github.com/dmlc/dgl/blob/master/notebooks/stochastic_training/ondisk_dataset_homograph.ipynb)\n",
    "\n",
    "This tutorial shows how to create `OnDiskDataset` for homogeneous graph that could be used in **GraphBolt** framework.\n",
    "\n",
    "By the end of this tutorial, you will be able to\n",
    "\n",
    "- organize graph structure data.\n",
    "- organize feature data.\n",
    "- organize training/validation/test set for specific tasks.\n",
    "\n",
    "To create an ``OnDiskDataset`` object, you need to organize all the data including graph structure, feature data and tasks into a directory. The directory should contain a ``metadata.yaml`` file that describes the metadata of the dataset.\n",
    "\n",
    "Now let's generate various data step by step and organize them together to instantiate `OnDiskDataset` finally."
   ]
  },
  {
   "cell_type": "markdown",
   "metadata": {
    "id": "Wlb19DtWgtzq"
   },
   "source": [
    "## Install DGL package"
   ]
  },
  {
   "cell_type": "code",
   "execution_count": 1,
   "metadata": {
    "execution": {
     "iopub.execute_input": "2024-10-02T14:20:03.361080Z",
     "iopub.status.busy": "2024-10-02T14:20:03.360893Z",
     "iopub.status.idle": "2024-10-02T14:20:06.385321Z",
     "shell.execute_reply": "2024-10-02T14:20:06.384398Z"
    },
    "id": "UojlT9ZGgyr9"
   },
   "outputs": [
    {
     "name": "stdout",
     "output_type": "stream",
     "text": [
      "Looking in links: https://data.dgl.ai/wheels-test/repo.html\r\n",
      "Requirement already satisfied: dgl in /opt/conda/envs/dgl-dev-cpu/lib/python3.10/site-packages (2.2a240410)\r\n",
      "Requirement already satisfied: numpy>=1.14.0 in /opt/conda/envs/dgl-dev-cpu/lib/python3.10/site-packages (from dgl) (1.26.4)\r\n",
      "Requirement already satisfied: scipy>=1.1.0 in /opt/conda/envs/dgl-dev-cpu/lib/python3.10/site-packages (from dgl) (1.14.1)\r\n",
      "Requirement already satisfied: networkx>=2.1 in /opt/conda/envs/dgl-dev-cpu/lib/python3.10/site-packages (from dgl) (3.3)\r\n",
      "Requirement already satisfied: requests>=2.19.0 in /opt/conda/envs/dgl-dev-cpu/lib/python3.10/site-packages (from dgl) (2.32.3)\r\n",
      "Requirement already satisfied: tqdm in /opt/conda/envs/dgl-dev-cpu/lib/python3.10/site-packages (from dgl) (4.66.5)\r\n",
      "Requirement already satisfied: psutil>=5.8.0 in /opt/conda/envs/dgl-dev-cpu/lib/python3.10/site-packages (from dgl) (6.0.0)\r\n",
      "Requirement already satisfied: torchdata>=0.5.0 in /opt/conda/envs/dgl-dev-cpu/lib/python3.10/site-packages (from dgl) (0.8.0)\r\n",
      "Requirement already satisfied: pandas in /opt/conda/envs/dgl-dev-cpu/lib/python3.10/site-packages (from dgl) (2.2.3)\r\n"
     ]
    },
    {
     "name": "stdout",
     "output_type": "stream",
     "text": [
      "Requirement already satisfied: charset-normalizer<4,>=2 in /opt/conda/envs/dgl-dev-cpu/lib/python3.10/site-packages (from requests>=2.19.0->dgl) (3.3.2)\r\n",
      "Requirement already satisfied: idna<4,>=2.5 in /opt/conda/envs/dgl-dev-cpu/lib/python3.10/site-packages (from requests>=2.19.0->dgl) (3.10)\r\n",
      "Requirement already satisfied: urllib3<3,>=1.21.1 in /opt/conda/envs/dgl-dev-cpu/lib/python3.10/site-packages (from requests>=2.19.0->dgl) (2.2.3)\r\n",
      "Requirement already satisfied: certifi>=2017.4.17 in /opt/conda/envs/dgl-dev-cpu/lib/python3.10/site-packages (from requests>=2.19.0->dgl) (2024.8.30)\r\n",
      "Requirement already satisfied: torch>=2 in /opt/conda/envs/dgl-dev-cpu/lib/python3.10/site-packages (from torchdata>=0.5.0->dgl) (2.1.0+cpu)\r\n"
     ]
    },
    {
     "name": "stdout",
     "output_type": "stream",
     "text": [
      "Requirement already satisfied: python-dateutil>=2.8.2 in /opt/conda/envs/dgl-dev-cpu/lib/python3.10/site-packages (from pandas->dgl) (2.9.0.post0)\r\n",
      "Requirement already satisfied: pytz>=2020.1 in /opt/conda/envs/dgl-dev-cpu/lib/python3.10/site-packages (from pandas->dgl) (2024.2)\r\n",
      "Requirement already satisfied: tzdata>=2022.7 in /opt/conda/envs/dgl-dev-cpu/lib/python3.10/site-packages (from pandas->dgl) (2024.2)\r\n",
      "Requirement already satisfied: six>=1.5 in /opt/conda/envs/dgl-dev-cpu/lib/python3.10/site-packages (from python-dateutil>=2.8.2->pandas->dgl) (1.16.0)\r\n",
      "Requirement already satisfied: filelock in /opt/conda/envs/dgl-dev-cpu/lib/python3.10/site-packages (from torch>=2->torchdata>=0.5.0->dgl) (3.16.1)\r\n",
      "Requirement already satisfied: typing-extensions in /opt/conda/envs/dgl-dev-cpu/lib/python3.10/site-packages (from torch>=2->torchdata>=0.5.0->dgl) (4.12.2)\r\n",
      "Requirement already satisfied: sympy in /opt/conda/envs/dgl-dev-cpu/lib/python3.10/site-packages (from torch>=2->torchdata>=0.5.0->dgl) (1.13.3)\r\n",
      "Requirement already satisfied: jinja2 in /opt/conda/envs/dgl-dev-cpu/lib/python3.10/site-packages (from torch>=2->torchdata>=0.5.0->dgl) (3.1.4)\r\n",
      "Requirement already satisfied: fsspec in /opt/conda/envs/dgl-dev-cpu/lib/python3.10/site-packages (from torch>=2->torchdata>=0.5.0->dgl) (2024.9.0)\r\n"
     ]
    },
    {
     "name": "stdout",
     "output_type": "stream",
     "text": [
      "Requirement already satisfied: MarkupSafe>=2.0 in /opt/conda/envs/dgl-dev-cpu/lib/python3.10/site-packages (from jinja2->torch>=2->torchdata>=0.5.0->dgl) (2.1.5)\r\n",
      "Requirement already satisfied: mpmath<1.4,>=1.1.0 in /opt/conda/envs/dgl-dev-cpu/lib/python3.10/site-packages (from sympy->torch>=2->torchdata>=0.5.0->dgl) (1.3.0)\r\n"
     ]
    },
    {
     "name": "stdout",
     "output_type": "stream",
     "text": [
      "\u001b[33mWARNING: Running pip as the 'root' user can result in broken permissions and conflicting behaviour with the system package manager, possibly rendering your system unusable.It is recommended to use a virtual environment instead: https://pip.pypa.io/warnings/venv. Use the --root-user-action option if you know what you are doing and want to suppress this warning.\u001b[0m\u001b[33m\r\n",
      "\u001b[0m"
     ]
    },
    {
     "name": "stdout",
     "output_type": "stream",
     "text": [
      "DGL installed!\n"
     ]
    }
   ],
   "source": [
    "# Install required packages.\n",
    "import os\n",
    "import torch\n",
    "import numpy as np\n",
    "os.environ['TORCH'] = torch.__version__\n",
    "os.environ['DGLBACKEND'] = \"pytorch\"\n",
    "\n",
    "# Install the CPU version.\n",
    "device = torch.device(\"cpu\")\n",
    "!pip install --pre dgl -f https://data.dgl.ai/wheels-test/repo.html\n",
    "\n",
    "try:\n",
    "    import dgl\n",
    "    import dgl.graphbolt as gb\n",
    "    installed = True\n",
    "except ImportError as error:\n",
    "    installed = False\n",
    "    print(error)\n",
    "print(\"DGL installed!\" if installed else \"DGL not found!\")"
   ]
  },
  {
   "cell_type": "markdown",
   "metadata": {
    "id": "2R7WnSbjsfbr"
   },
   "source": [
    "## Data preparation\n",
    "In order to demonstrate how to organize various data, let's create a base directory first."
   ]
  },
  {
   "cell_type": "code",
   "execution_count": 2,
   "metadata": {
    "execution": {
     "iopub.execute_input": "2024-10-02T14:20:06.388063Z",
     "iopub.status.busy": "2024-10-02T14:20:06.387565Z",
     "iopub.status.idle": "2024-10-02T14:20:06.392720Z",
     "shell.execute_reply": "2024-10-02T14:20:06.391596Z"
    },
    "id": "SZipbzyltLfO"
   },
   "outputs": [
    {
     "name": "stdout",
     "output_type": "stream",
     "text": [
      "Created base directory: ./ondisk_dataset_homograph\n"
     ]
    }
   ],
   "source": [
    "base_dir = './ondisk_dataset_homograph'\n",
    "os.makedirs(base_dir, exist_ok=True)\n",
    "print(f\"Created base directory: {base_dir}\")"
   ]
  },
  {
   "cell_type": "markdown",
   "metadata": {
    "id": "qhNtIn_xhlnl"
   },
   "source": [
    "### Generate graph structure data\n",
    "For homogeneous graph, we just need to save edges(namely seeds) into  **Numpy** or **CSV** file.\n",
    "\n",
    "Note:\n",
    "- when saving to **Numpy**, the array requires to be in shape of `(2, N)`. This format is recommended as constructing graph from it is much faster than **CSV** file.\n",
    "- when saving to **CSV** file, do not save index and header.\n"
   ]
  },
  {
   "cell_type": "code",
   "execution_count": 3,
   "metadata": {
    "execution": {
     "iopub.execute_input": "2024-10-02T14:20:06.394804Z",
     "iopub.status.busy": "2024-10-02T14:20:06.394594Z",
     "iopub.status.idle": "2024-10-02T14:20:06.408456Z",
     "shell.execute_reply": "2024-10-02T14:20:06.407434Z"
    },
    "id": "HcBt4G5BmSjr"
   },
   "outputs": [
    {
     "name": "stdout",
     "output_type": "stream",
     "text": [
      "Part of edges: [[885 286]\n",
      " [656 441]\n",
      " [ 93 873]\n",
      " [338 551]\n",
      " [894 315]]\n",
      "Edges are saved into ./ondisk_dataset_homograph/edges.csv\n"
     ]
    }
   ],
   "source": [
    "import numpy as np\n",
    "import pandas as pd\n",
    "num_nodes = 1000\n",
    "num_edges = 10 * num_nodes\n",
    "edges_path = os.path.join(base_dir, \"edges.csv\")\n",
    "edges = np.random.randint(0, num_nodes, size=(num_edges, 2))\n",
    "\n",
    "print(f\"Part of edges: {edges[:5, :]}\")\n",
    "\n",
    "df = pd.DataFrame(edges)\n",
    "df.to_csv(edges_path, index=False, header=False)\n",
    "\n",
    "print(f\"Edges are saved into {edges_path}\")"
   ]
  },
  {
   "cell_type": "markdown",
   "metadata": {
    "id": "kh-4cPtzpcaH"
   },
   "source": [
    "### Generate feature data for graph\n",
    "For feature data, numpy arrays and torch tensors are supported for now."
   ]
  },
  {
   "cell_type": "code",
   "execution_count": 4,
   "metadata": {
    "execution": {
     "iopub.execute_input": "2024-10-02T14:20:06.410510Z",
     "iopub.status.busy": "2024-10-02T14:20:06.410308Z",
     "iopub.status.idle": "2024-10-02T14:20:06.428776Z",
     "shell.execute_reply": "2024-10-02T14:20:06.428020Z"
    },
    "id": "_PVu1u5brBhF"
   },
   "outputs": [
    {
     "name": "stdout",
     "output_type": "stream",
     "text": [
      "Part of node feature [feat_0]: [[0.58732297 0.63379795 0.76677124 0.37172904 0.18007544]\n",
      " [0.43225167 0.34679157 0.47771795 0.07714978 0.98347698]\n",
      " [0.75609142 0.00760699 0.61093322 0.40338979 0.87280872]]\n",
      "Node feature [feat_0] is saved to ./ondisk_dataset_homograph/node-feat-0.npy\n",
      "\n",
      "Part of node feature [feat_1]: tensor([[0.4361, 0.7749, 0.2711, 0.4743, 0.9591],\n",
      "        [0.4776, 0.8241, 0.3377, 0.6768, 0.2802],\n",
      "        [0.4419, 0.6492, 0.1611, 0.7698, 0.5485]])\n",
      "Node feature [feat_1] is saved to ./ondisk_dataset_homograph/node-feat-1.pt\n",
      "\n",
      "Part of edge feature [feat_0]: [[0.17707484 0.80067441 0.44888052 0.60904522 0.61792685]\n",
      " [0.20157146 0.39202038 0.87656184 0.02089142 0.59981757]\n",
      " [0.71466661 0.64615237 0.41637404 0.49119968 0.8471103 ]]\n",
      "Edge feature [feat_0] is saved to ./ondisk_dataset_homograph/edge-feat-0.npy\n",
      "\n",
      "Part of edge feature [feat_1]: tensor([[0.5937, 0.1977, 0.7614, 0.6408, 0.2421],\n",
      "        [0.6115, 0.6109, 0.5421, 0.6698, 0.2017],\n",
      "        [0.1736, 0.6820, 0.4847, 0.7635, 0.1605]])\n",
      "Edge feature [feat_1] is saved to ./ondisk_dataset_homograph/edge-feat-1.pt\n",
      "\n"
     ]
    }
   ],
   "source": [
    "# Generate node feature in numpy array.\n",
    "node_feat_0_path = os.path.join(base_dir, \"node-feat-0.npy\")\n",
    "node_feat_0 = np.random.rand(num_nodes, 5)\n",
    "print(f\"Part of node feature [feat_0]: {node_feat_0[:3, :]}\")\n",
    "np.save(node_feat_0_path, node_feat_0)\n",
    "print(f\"Node feature [feat_0] is saved to {node_feat_0_path}\\n\")\n",
    "\n",
    "# Generate another node feature in torch tensor\n",
    "node_feat_1_path = os.path.join(base_dir, \"node-feat-1.pt\")\n",
    "node_feat_1 = torch.rand(num_nodes, 5)\n",
    "print(f\"Part of node feature [feat_1]: {node_feat_1[:3, :]}\")\n",
    "torch.save(node_feat_1, node_feat_1_path)\n",
    "print(f\"Node feature [feat_1] is saved to {node_feat_1_path}\\n\")\n",
    "\n",
    "# Generate edge feature in numpy array.\n",
    "edge_feat_0_path = os.path.join(base_dir, \"edge-feat-0.npy\")\n",
    "edge_feat_0 = np.random.rand(num_edges, 5)\n",
    "print(f\"Part of edge feature [feat_0]: {edge_feat_0[:3, :]}\")\n",
    "np.save(edge_feat_0_path, edge_feat_0)\n",
    "print(f\"Edge feature [feat_0] is saved to {edge_feat_0_path}\\n\")\n",
    "\n",
    "# Generate another edge feature in torch tensor\n",
    "edge_feat_1_path = os.path.join(base_dir, \"edge-feat-1.pt\")\n",
    "edge_feat_1 = torch.rand(num_edges, 5)\n",
    "print(f\"Part of edge feature [feat_1]: {edge_feat_1[:3, :]}\")\n",
    "torch.save(edge_feat_1, edge_feat_1_path)\n",
    "print(f\"Edge feature [feat_1] is saved to {edge_feat_1_path}\\n\")\n"
   ]
  },
  {
   "cell_type": "markdown",
   "metadata": {
    "id": "ZyqgOtsIwzh_"
   },
   "source": [
    "### Generate tasks\n",
    "`OnDiskDataset` supports multiple tasks. For each task, we need to prepare training/validation/test sets respectively. Such sets usually vary among different tasks. In this tutorial, let's create a **Node Classification** task and **Link Prediction** task."
   ]
  },
  {
   "cell_type": "markdown",
   "metadata": {
    "id": "hVxHaDIfzCkr"
   },
   "source": [
    "#### Node Classification Task\n",
    "For node classification task, we need **node IDs** and corresponding **labels** for each training/validation/test set. Like feature data, numpy arrays and torch tensors are supported for these sets."
   ]
  },
  {
   "cell_type": "code",
   "execution_count": 5,
   "metadata": {
    "execution": {
     "iopub.execute_input": "2024-10-02T14:20:06.430950Z",
     "iopub.status.busy": "2024-10-02T14:20:06.430755Z",
     "iopub.status.idle": "2024-10-02T14:20:06.442665Z",
     "shell.execute_reply": "2024-10-02T14:20:06.441781Z"
    },
    "id": "S5-fyBbHzTCO"
   },
   "outputs": [
    {
     "name": "stdout",
     "output_type": "stream",
     "text": [
      "Part of train ids for node classification: [352 693 518]\n",
      "NC train ids are saved to ./ondisk_dataset_homograph/nc-train-ids.npy\n",
      "\n",
      "Part of train labels for node classification: tensor([1, 0, 4])\n",
      "NC train labels are saved to ./ondisk_dataset_homograph/nc-train-labels.pt\n",
      "\n",
      "Part of val ids for node classification: [206  29 860]\n",
      "NC val ids are saved to ./ondisk_dataset_homograph/nc-val-ids.npy\n",
      "\n",
      "Part of val labels for node classification: tensor([2, 7, 6])\n",
      "NC val labels are saved to ./ondisk_dataset_homograph/nc-val-labels.pt\n",
      "\n",
      "Part of test ids for node classification: [724 775 733]\n",
      "NC test ids are saved to ./ondisk_dataset_homograph/nc-test-ids.npy\n",
      "\n",
      "Part of test labels for node classification: tensor([3, 8, 9])\n",
      "NC test labels are saved to ./ondisk_dataset_homograph/nc-test-labels.pt\n",
      "\n"
     ]
    }
   ],
   "source": [
    "num_trains = int(num_nodes * 0.6)\n",
    "num_vals = int(num_nodes * 0.2)\n",
    "num_tests = num_nodes - num_trains - num_vals\n",
    "\n",
    "ids = np.arange(num_nodes)\n",
    "np.random.shuffle(ids)\n",
    "\n",
    "nc_train_ids_path = os.path.join(base_dir, \"nc-train-ids.npy\")\n",
    "nc_train_ids = ids[:num_trains]\n",
    "print(f\"Part of train ids for node classification: {nc_train_ids[:3]}\")\n",
    "np.save(nc_train_ids_path, nc_train_ids)\n",
    "print(f\"NC train ids are saved to {nc_train_ids_path}\\n\")\n",
    "\n",
    "nc_train_labels_path = os.path.join(base_dir, \"nc-train-labels.pt\")\n",
    "nc_train_labels = torch.randint(0, 10, (num_trains,))\n",
    "print(f\"Part of train labels for node classification: {nc_train_labels[:3]}\")\n",
    "torch.save(nc_train_labels, nc_train_labels_path)\n",
    "print(f\"NC train labels are saved to {nc_train_labels_path}\\n\")\n",
    "\n",
    "nc_val_ids_path = os.path.join(base_dir, \"nc-val-ids.npy\")\n",
    "nc_val_ids = ids[num_trains:num_trains+num_vals]\n",
    "print(f\"Part of val ids for node classification: {nc_val_ids[:3]}\")\n",
    "np.save(nc_val_ids_path, nc_val_ids)\n",
    "print(f\"NC val ids are saved to {nc_val_ids_path}\\n\")\n",
    "\n",
    "nc_val_labels_path = os.path.join(base_dir, \"nc-val-labels.pt\")\n",
    "nc_val_labels = torch.randint(0, 10, (num_vals,))\n",
    "print(f\"Part of val labels for node classification: {nc_val_labels[:3]}\")\n",
    "torch.save(nc_val_labels, nc_val_labels_path)\n",
    "print(f\"NC val labels are saved to {nc_val_labels_path}\\n\")\n",
    "\n",
    "nc_test_ids_path = os.path.join(base_dir, \"nc-test-ids.npy\")\n",
    "nc_test_ids = ids[-num_tests:]\n",
    "print(f\"Part of test ids for node classification: {nc_test_ids[:3]}\")\n",
    "np.save(nc_test_ids_path, nc_test_ids)\n",
    "print(f\"NC test ids are saved to {nc_test_ids_path}\\n\")\n",
    "\n",
    "nc_test_labels_path = os.path.join(base_dir, \"nc-test-labels.pt\")\n",
    "nc_test_labels = torch.randint(0, 10, (num_tests,))\n",
    "print(f\"Part of test labels for node classification: {nc_test_labels[:3]}\")\n",
    "torch.save(nc_test_labels, nc_test_labels_path)\n",
    "print(f\"NC test labels are saved to {nc_test_labels_path}\\n\")"
   ]
  },
  {
   "cell_type": "markdown",
   "metadata": {
    "id": "LhAcDCHQ_KJ0"
   },
   "source": [
    "#### Link Prediction Task\n",
    "For link prediction task, we need **seeds** or **corresponding labels and indexes** which representing the pos/neg property and group of the seeds for each training/validation/test set. Like feature data, numpy arrays and torch tensors are supported for these sets."
   ]
  },
  {
   "cell_type": "code",
   "execution_count": 6,
   "metadata": {
    "execution": {
     "iopub.execute_input": "2024-10-02T14:20:06.445123Z",
     "iopub.status.busy": "2024-10-02T14:20:06.444643Z",
     "iopub.status.idle": "2024-10-02T14:20:06.462842Z",
     "shell.execute_reply": "2024-10-02T14:20:06.462006Z"
    },
    "id": "u0jCnXIcAQy4"
   },
   "outputs": [
    {
     "name": "stdout",
     "output_type": "stream",
     "text": [
      "Part of train seeds for link prediction: [[885 286]\n",
      " [656 441]\n",
      " [ 93 873]]\n",
      "LP train seeds are saved to ./ondisk_dataset_homograph/lp-train-seeds.npy\n",
      "\n",
      "Part of val seeds for link prediction: [[109 356]\n",
      " [264 624]\n",
      " [351 897]]\n",
      "LP val seeds are saved to ./ondisk_dataset_homograph/lp-val-seeds.npy\n",
      "\n",
      "Part of val labels for link prediction: [1. 1. 1.]\n",
      "LP val labels are saved to ./ondisk_dataset_homograph/lp-val-labels.npy\n",
      "\n",
      "Part of val indexes for link prediction: [0 1 2]\n",
      "LP val indexes are saved to ./ondisk_dataset_homograph/lp-val-indexes.npy\n",
      "\n",
      "Part of test seeds for link prediction: [[180 977]\n",
      " [730 546]\n",
      " [584 328]]\n",
      "LP test seeds are saved to ./ondisk_dataset_homograph/lp-test-seeds.npy\n",
      "\n",
      "Part of val labels for link prediction: [1. 1. 1.]\n",
      "LP test labels are saved to ./ondisk_dataset_homograph/lp-test-labels.npy\n",
      "\n",
      "Part of test indexes for link prediction: [0 1 2]\n",
      "LP test indexes are saved to ./ondisk_dataset_homograph/lp-test-indexes.npy\n",
      "\n"
     ]
    }
   ],
   "source": [
    "num_trains = int(num_edges * 0.6)\n",
    "num_vals = int(num_edges * 0.2)\n",
    "num_tests = num_edges - num_trains - num_vals\n",
    "\n",
    "lp_train_seeds_path = os.path.join(base_dir, \"lp-train-seeds.npy\")\n",
    "lp_train_seeds = edges[:num_trains, :]\n",
    "print(f\"Part of train seeds for link prediction: {lp_train_seeds[:3]}\")\n",
    "np.save(lp_train_seeds_path, lp_train_seeds)\n",
    "print(f\"LP train seeds are saved to {lp_train_seeds_path}\\n\")\n",
    "\n",
    "lp_val_seeds_path = os.path.join(base_dir, \"lp-val-seeds.npy\")\n",
    "lp_val_seeds = edges[num_trains:num_trains+num_vals, :]\n",
    "lp_val_neg_dsts = np.random.randint(0, num_nodes, (num_vals, 10)).reshape(-1)\n",
    "lp_val_neg_srcs = np.repeat(lp_val_seeds[:,0], 10)\n",
    "lp_val_neg_seeds = np.concatenate((lp_val_neg_srcs, lp_val_neg_dsts)).reshape(2,-1).T\n",
    "lp_val_seeds = np.concatenate((lp_val_seeds, lp_val_neg_seeds))\n",
    "print(f\"Part of val seeds for link prediction: {lp_val_seeds[:3]}\")\n",
    "np.save(lp_val_seeds_path, lp_val_seeds)\n",
    "print(f\"LP val seeds are saved to {lp_val_seeds_path}\\n\")\n",
    "\n",
    "lp_val_labels_path = os.path.join(base_dir, \"lp-val-labels.npy\")\n",
    "lp_val_labels = np.empty(num_vals * (10 + 1))\n",
    "lp_val_labels[:num_vals] = 1\n",
    "lp_val_labels[num_vals:] = 0\n",
    "print(f\"Part of val labels for link prediction: {lp_val_labels[:3]}\")\n",
    "np.save(lp_val_labels_path, lp_val_labels)\n",
    "print(f\"LP val labels are saved to {lp_val_labels_path}\\n\")\n",
    "\n",
    "lp_val_indexes_path = os.path.join(base_dir, \"lp-val-indexes.npy\")\n",
    "lp_val_indexes = np.arange(0, num_vals)\n",
    "lp_val_neg_indexes = np.repeat(lp_val_indexes, 10)\n",
    "lp_val_indexes = np.concatenate([lp_val_indexes, lp_val_neg_indexes])\n",
    "print(f\"Part of val indexes for link prediction: {lp_val_indexes[:3]}\")\n",
    "np.save(lp_val_indexes_path, lp_val_indexes)\n",
    "print(f\"LP val indexes are saved to {lp_val_indexes_path}\\n\")\n",
    "\n",
    "lp_test_seeds_path = os.path.join(base_dir, \"lp-test-seeds.npy\")\n",
    "lp_test_seeds = edges[-num_tests:, :]\n",
    "lp_test_neg_dsts = np.random.randint(0, num_nodes, (num_tests, 10)).reshape(-1)\n",
    "lp_test_neg_srcs = np.repeat(lp_test_seeds[:,0], 10)\n",
    "lp_test_neg_seeds = np.concatenate((lp_test_neg_srcs, lp_test_neg_dsts)).reshape(2,-1).T\n",
    "lp_test_seeds = np.concatenate((lp_test_seeds, lp_test_neg_seeds))\n",
    "print(f\"Part of test seeds for link prediction: {lp_test_seeds[:3]}\")\n",
    "np.save(lp_test_seeds_path, lp_test_seeds)\n",
    "print(f\"LP test seeds are saved to {lp_test_seeds_path}\\n\")\n",
    "\n",
    "lp_test_labels_path = os.path.join(base_dir, \"lp-test-labels.npy\")\n",
    "lp_test_labels = np.empty(num_tests * (10 + 1))\n",
    "lp_test_labels[:num_tests] = 1\n",
    "lp_test_labels[num_tests:] = 0\n",
    "print(f\"Part of val labels for link prediction: {lp_test_labels[:3]}\")\n",
    "np.save(lp_test_labels_path, lp_test_labels)\n",
    "print(f\"LP test labels are saved to {lp_test_labels_path}\\n\")\n",
    "\n",
    "lp_test_indexes_path = os.path.join(base_dir, \"lp-test-indexes.npy\")\n",
    "lp_test_indexes = np.arange(0, num_tests)\n",
    "lp_test_neg_indexes = np.repeat(lp_test_indexes, 10)\n",
    "lp_test_indexes = np.concatenate([lp_test_indexes, lp_test_neg_indexes])\n",
    "print(f\"Part of test indexes for link prediction: {lp_test_indexes[:3]}\")\n",
    "np.save(lp_test_indexes_path, lp_test_indexes)\n",
    "print(f\"LP test indexes are saved to {lp_test_indexes_path}\\n\")"
   ]
  },
  {
   "cell_type": "markdown",
   "metadata": {
    "id": "wbk6-wxRK-6S"
   },
   "source": [
    "## Organize Data into YAML File\n",
    "Now we need to create a `metadata.yaml` file which contains the paths, dadta types of graph structure, feature data, training/validation/test sets.\n",
    "\n",
    "Notes:\n",
    "- all path should be relative to `metadata.yaml`.\n",
    "- Below fields are optional and not specified in below example.\n",
    "  - `in_memory`: indicates whether to load dada into memory or `mmap`. Default is `True`.\n",
    "\n",
    "Please refer to [YAML specification](https://github.com/dmlc/dgl/blob/master/docs/source/stochastic_training/ondisk-dataset-specification.rst) for more details."
   ]
  },
  {
   "cell_type": "code",
   "execution_count": 7,
   "metadata": {
    "execution": {
     "iopub.execute_input": "2024-10-02T14:20:06.465044Z",
     "iopub.status.busy": "2024-10-02T14:20:06.464561Z",
     "iopub.status.idle": "2024-10-02T14:20:06.470806Z",
     "shell.execute_reply": "2024-10-02T14:20:06.469989Z"
    },
    "id": "ddGTWW61Lpwp"
   },
   "outputs": [],
   "source": [
    "yaml_content = f\"\"\"\n",
    "    dataset_name: homogeneous_graph_nc_lp\n",
    "    graph:\n",
    "      nodes:\n",
    "        - num: {num_nodes}\n",
    "      edges:\n",
    "        - format: csv\n",
    "          path: {os.path.basename(edges_path)}\n",
    "    feature_data:\n",
    "      - domain: node\n",
    "        name: feat_0\n",
    "        format: numpy\n",
    "        path: {os.path.basename(node_feat_0_path)}\n",
    "      - domain: node\n",
    "        name: feat_1\n",
    "        format: torch\n",
    "        path: {os.path.basename(node_feat_1_path)}\n",
    "      - domain: edge\n",
    "        name: feat_0\n",
    "        format: numpy\n",
    "        path: {os.path.basename(edge_feat_0_path)}\n",
    "      - domain: edge\n",
    "        name: feat_1\n",
    "        format: torch\n",
    "        path: {os.path.basename(edge_feat_1_path)}\n",
    "    tasks:\n",
    "      - name: node_classification\n",
    "        num_classes: 10\n",
    "        train_set:\n",
    "          - data:\n",
    "              - name: seeds\n",
    "                format: numpy\n",
    "                path: {os.path.basename(nc_train_ids_path)}\n",
    "              - name: labels\n",
    "                format: torch\n",
    "                path: {os.path.basename(nc_train_labels_path)}\n",
    "        validation_set:\n",
    "          - data:\n",
    "              - name: seeds\n",
    "                format: numpy\n",
    "                path: {os.path.basename(nc_val_ids_path)}\n",
    "              - name: labels\n",
    "                format: torch\n",
    "                path: {os.path.basename(nc_val_labels_path)}\n",
    "        test_set:\n",
    "          - data:\n",
    "              - name: seeds\n",
    "                format: numpy\n",
    "                path: {os.path.basename(nc_test_ids_path)}\n",
    "              - name: labels\n",
    "                format: torch\n",
    "                path: {os.path.basename(nc_test_labels_path)}\n",
    "      - name: link_prediction\n",
    "        num_classes: 10\n",
    "        train_set:\n",
    "          - data:\n",
    "              - name: seeds\n",
    "                format: numpy\n",
    "                path: {os.path.basename(lp_train_seeds_path)}\n",
    "        validation_set:\n",
    "          - data:\n",
    "              - name: seeds\n",
    "                format: numpy\n",
    "                path: {os.path.basename(lp_val_seeds_path)}\n",
    "              - name: labels\n",
    "                format: numpy\n",
    "                path: {os.path.basename(lp_val_labels_path)}\n",
    "              - name: indexes\n",
    "                format: numpy\n",
    "                path: {os.path.basename(lp_val_indexes_path)}\n",
    "        test_set:\n",
    "          - data:\n",
    "              - name: seeds\n",
    "                format: numpy\n",
    "                path: {os.path.basename(lp_test_seeds_path)}\n",
    "              - name: labels\n",
    "                format: numpy\n",
    "                path: {os.path.basename(lp_test_labels_path)}\n",
    "              - name: indexes\n",
    "                format: numpy\n",
    "                path: {os.path.basename(lp_test_indexes_path)}\n",
    "\"\"\"\n",
    "metadata_path = os.path.join(base_dir, \"metadata.yaml\")\n",
    "with open(metadata_path, \"w\") as f:\n",
    "  f.write(yaml_content)"
   ]
  },
  {
   "cell_type": "markdown",
   "metadata": {
    "id": "kEfybHGhOW7O"
   },
   "source": [
    "## Instantiate `OnDiskDataset`\n",
    "Now we're ready to load dataset via `dgl.graphbolt.OnDiskDataset`. When instantiating, we just pass in the base directory where `metadata.yaml` file lies.\n",
    "\n",
    "During first instantiation, GraphBolt preprocesses the raw data such as constructing `FusedCSCSamplingGraph` from edges. All data including graph, feature data, training/validation/test sets are put into `preprocessed` directory after preprocessing. Any following dataset loading will skip the preprocess stage.\n",
    "\n",
    "After preprocessing, `load()` is required to be called explicitly in order to load graph, feature data and tasks."
   ]
  },
  {
   "cell_type": "code",
   "execution_count": 8,
   "metadata": {
    "execution": {
     "iopub.execute_input": "2024-10-02T14:20:06.472805Z",
     "iopub.status.busy": "2024-10-02T14:20:06.472597Z",
     "iopub.status.idle": "2024-10-02T14:20:06.547392Z",
     "shell.execute_reply": "2024-10-02T14:20:06.546830Z"
    },
    "id": "W58CZoSzOiyo"
   },
   "outputs": [
    {
     "name": "stdout",
     "output_type": "stream",
     "text": [
      "Start to preprocess the on-disk dataset.\n",
      "Finish preprocessing the on-disk dataset.\n",
      "Loaded graph: FusedCSCSamplingGraph(csc_indptr=tensor([    0,     9,    18,  ...,  9982,  9992, 10000], dtype=torch.int32),\n",
      "                      indices=tensor([353,  74, 292,  ..., 297, 867, 495], dtype=torch.int32),\n",
      "                      total_num_nodes=1000, num_edges=10000,)\n",
      "\n",
      "Loaded feature store: TorchBasedFeatureStore(\n",
      "    {(<OnDiskFeatureDataDomain.NODE: 'node'>, None, 'feat_0'): TorchBasedFeature(\n",
      "        feature=tensor([[0.5873, 0.6338, 0.7668, 0.3717, 0.1801],\n",
      "                        [0.4323, 0.3468, 0.4777, 0.0771, 0.9835],\n",
      "                        [0.7561, 0.0076, 0.6109, 0.4034, 0.8728],\n",
      "                        ...,\n",
      "                        [0.3492, 0.3920, 0.9694, 0.5696, 0.2558],\n",
      "                        [0.4843, 0.9450, 0.5519, 0.8039, 0.9584],\n",
      "                        [0.7260, 0.6841, 0.5413, 0.2239, 0.0060]], dtype=torch.float64),\n",
      "        metadata={},\n",
      "    ), (<OnDiskFeatureDataDomain.NODE: 'node'>, None, 'feat_1'): TorchBasedFeature(\n",
      "        feature=tensor([[0.4361, 0.7749, 0.2711, 0.4743, 0.9591],\n",
      "                        [0.4776, 0.8241, 0.3377, 0.6768, 0.2802],\n",
      "                        [0.4419, 0.6492, 0.1611, 0.7698, 0.5485],\n",
      "                        ...,\n",
      "                        [0.1024, 0.4376, 0.0519, 0.7617, 0.1047],\n",
      "                        [0.5836, 0.1172, 0.2330, 0.5404, 0.0220],\n",
      "                        [0.5002, 0.1326, 0.6432, 0.3494, 0.2241]]),\n",
      "        metadata={},\n",
      "    ), (<OnDiskFeatureDataDomain.EDGE: 'edge'>, None, 'feat_0'): TorchBasedFeature(\n",
      "        feature=tensor([[1.7707e-01, 8.0067e-01, 4.4888e-01, 6.0905e-01, 6.1793e-01],\n",
      "                        [2.0157e-01, 3.9202e-01, 8.7656e-01, 2.0891e-02, 5.9982e-01],\n",
      "                        [7.1467e-01, 6.4615e-01, 4.1637e-01, 4.9120e-01, 8.4711e-01],\n",
      "                        ...,\n",
      "                        [8.3109e-01, 9.3007e-01, 2.4347e-01, 1.9803e-01, 1.3548e-01],\n",
      "                        [9.5076e-01, 2.1658e-01, 7.4038e-01, 4.6452e-01, 9.8752e-01],\n",
      "                        [1.6133e-02, 6.4926e-02, 1.8161e-01, 5.1516e-05, 8.7606e-01]],\n",
      "                       dtype=torch.float64),\n",
      "        metadata={},\n",
      "    ), (<OnDiskFeatureDataDomain.EDGE: 'edge'>, None, 'feat_1'): TorchBasedFeature(\n",
      "        feature=tensor([[0.5937, 0.1977, 0.7614, 0.6408, 0.2421],\n",
      "                        [0.6115, 0.6109, 0.5421, 0.6698, 0.2017],\n",
      "                        [0.1736, 0.6820, 0.4847, 0.7635, 0.1605],\n",
      "                        ...,\n",
      "                        [0.2185, 0.3841, 0.2367, 0.8928, 0.3949],\n",
      "                        [0.1820, 0.7494, 0.8340, 0.4404, 0.1805],\n",
      "                        [0.4479, 0.5721, 0.0708, 0.4344, 0.1165]]),\n",
      "        metadata={},\n",
      "    )}\n",
      ")\n",
      "\n",
      "Loaded node classification task: OnDiskTask(validation_set=ItemSet(\n",
      "               items=(tensor([206,  29, 860, 916, 656, 795,  84, 264, 153, 247, 109, 521, 107, 789,\n",
      "                   899, 953, 144,  60, 546, 158, 696, 112, 731,  64, 788, 315, 407, 796,\n",
      "                   219, 571, 128, 547, 893, 159, 881, 652, 222, 479, 557, 819, 246, 258,\n",
      "                   309, 499, 227,  47, 126, 930, 556,  74, 573, 254, 998, 484, 478, 802,\n",
      "                   988, 187, 994, 151, 350, 879, 339, 703, 371, 750, 384, 514, 985,  94,\n",
      "                   195, 878, 329, 984, 719, 938,  54, 433,   4, 316, 255, 170, 939,   7,\n",
      "                    98, 746, 142, 883, 982, 141, 744, 452, 456, 976, 201, 277, 345, 446,\n",
      "                   667,  11, 399, 957, 568, 955, 265, 944, 185, 644, 601,  49, 123, 298,\n",
      "                   694, 191,  39, 338, 649, 942, 664, 169, 215, 259, 612, 713, 737, 286,\n",
      "                    16, 940, 577, 905, 831,  20,  91, 106, 351, 761, 705, 854, 714, 192,\n",
      "                   602,  62, 115, 148, 882, 372, 911, 319, 466, 134, 679, 428, 274, 461,\n",
      "                   143, 697, 432, 590,  23, 698, 625, 812, 828, 951, 818, 659, 120, 486,\n",
      "                   606, 685, 569, 542, 455, 167, 138, 918,  26, 548, 341, 801, 468, 363,\n",
      "                   779, 306, 843, 587, 525, 688, 410, 473, 572, 712, 111, 335,  52, 156,\n",
      "                   470, 631, 118, 294], dtype=torch.int32), tensor([2, 7, 6, 6, 1, 1, 2, 5, 0, 5, 8, 8, 9, 6, 8, 7, 4, 5, 2, 8, 5, 1, 6, 5,\n",
      "                   6, 7, 8, 6, 3, 4, 5, 9, 1, 2, 2, 5, 6, 0, 9, 0, 7, 0, 6, 7, 1, 7, 1, 3,\n",
      "                   0, 1, 8, 1, 8, 9, 9, 3, 3, 4, 4, 7, 5, 4, 5, 4, 2, 4, 4, 1, 7, 4, 5, 4,\n",
      "                   9, 9, 7, 5, 2, 7, 0, 9, 7, 5, 4, 4, 5, 0, 9, 4, 6, 4, 4, 6, 6, 5, 6, 1,\n",
      "                   6, 3, 6, 4, 2, 7, 1, 4, 8, 5, 9, 9, 1, 7, 1, 9, 2, 7, 0, 6, 7, 6, 9, 0,\n",
      "                   8, 1, 6, 2, 5, 5, 9, 2, 8, 8, 9, 6, 3, 8, 4, 3, 7, 3, 5, 8, 5, 0, 2, 2,\n",
      "                   7, 2, 4, 7, 9, 9, 7, 3, 4, 7, 3, 9, 7, 4, 1, 2, 5, 2, 2, 1, 1, 3, 6, 7,\n",
      "                   1, 4, 6, 8, 7, 3, 4, 0, 7, 1, 9, 2, 5, 7, 6, 0, 5, 1, 2, 5, 6, 3, 3, 6,\n",
      "                   0, 3, 2, 4, 7, 7, 9, 5])),\n",
      "               names=('seeds', 'labels'),\n",
      "           ),\n",
      "           train_set=ItemSet(\n",
      "               items=(tensor([352, 693, 518, 519,  50, 327, 968, 736, 585, 717, 937, 333, 449, 567,\n",
      "                   139,  93, 623, 260, 941, 184, 977, 848, 127, 551, 751, 927, 414, 124,\n",
      "                   210, 248, 832, 318, 423, 723, 487, 504, 980,  34, 794, 859, 592, 676,\n",
      "                   182, 292, 615,   2, 641, 926, 920, 243, 331, 706, 307, 135, 967, 675,\n",
      "                   700,  61, 728, 453, 787, 887,  41, 974, 720, 961, 790, 330,   1, 661,\n",
      "                   110, 562, 884, 923, 283, 971, 900, 271, 949, 692, 909, 811,  43, 213,\n",
      "                   495,  92, 507, 934, 995, 865, 305, 856, 489, 308, 640,  17, 837, 300,\n",
      "                   897, 894,  89, 189, 424,  83, 563, 324, 742, 302, 460, 861, 501,  80,\n",
      "                   638, 701, 343, 943, 166, 792, 537, 589, 866, 262, 797,   0, 835, 480,\n",
      "                   321, 617, 458, 426, 620, 662, 411, 420, 629, 270, 438, 431, 808, 454,\n",
      "                   523, 491, 806, 901, 252, 108, 739, 536, 917, 888, 975, 238, 758,  40,\n",
      "                   760, 565, 481, 168, 748, 633, 328, 709, 886, 862, 986, 914, 224, 684,\n",
      "                   658, 550,  85, 229, 121, 178, 249, 418, 574, 533, 133, 419, 963, 654,\n",
      "                   972, 212, 989,  46, 425, 817, 476, 958, 490, 618, 179, 908, 357, 754,\n",
      "                   598, 846, 217, 868, 291,  76, 554, 314, 555, 922, 130, 594,   6, 287,\n",
      "                   552, 842, 725, 218, 945,  81, 782, 492,  37, 771, 783, 650, 416, 313,\n",
      "                   983,  77, 708, 672, 999, 382,  68, 463, 422, 162, 102,  44, 564, 774,\n",
      "                   281, 588, 145, 560, 376, 651, 687, 380, 997, 441, 668, 524, 718,  86,\n",
      "                   500, 200, 855, 643, 402, 494, 510, 566, 621, 385, 505, 447, 290,  19,\n",
      "                   715, 596, 273,  66, 610, 799,  96, 136,  12, 451, 645, 116, 520, 628,\n",
      "                   648, 194, 165, 595, 234, 475, 642, 531, 225, 365, 394, 864, 393, 269,\n",
      "                   368, 464, 575, 553, 250, 635, 830, 833,  33, 981, 691, 681, 763, 233,\n",
      "                   847,  58, 101, 686, 773, 935, 584, 228, 435, 448, 867, 959, 366,  67,\n",
      "                   282, 512, 605, 397,  70, 177, 362, 149, 834, 699, 841, 722, 400, 876,\n",
      "                   896, 912, 211, 776, 823, 805, 820, 637, 513, 721, 506, 680, 665, 902,\n",
      "                   469, 237, 342, 538, 375, 383, 954, 216,  72, 874, 272, 323, 392, 146,\n",
      "                   609,  59, 361, 465, 152, 405, 347, 996, 666, 716, 839, 936, 467, 956,\n",
      "                   119, 266, 445, 163, 540, 752, 608, 245, 488, 267, 875,  24,  82, 497,\n",
      "                   398, 785,  15,  30, 295, 950, 503,  65, 890, 389, 653, 570, 387, 962,\n",
      "                   240, 530, 973,  99, 543, 103, 825, 579, 889, 280, 529, 289, 275, 377,\n",
      "                   735, 872, 205, 891, 870, 780, 877, 154, 322, 427, 880, 125, 576, 910,\n",
      "                   821, 857, 829, 603, 711, 803, 278, 373, 849,  45, 906, 173, 738, 207,\n",
      "                   898, 239, 279, 105, 409, 117, 221,  25, 496, 766, 690, 807, 235,   8,\n",
      "                    42, 257, 242,  18, 367, 765, 695, 814, 815, 388, 434, 800, 630, 622,\n",
      "                   907, 924, 764, 946, 161, 979, 160, 370, 904, 678, 199, 928, 599, 614,\n",
      "                   964, 482, 443, 346,  32, 677, 183, 747, 421, 374, 340, 626, 522, 498,\n",
      "                   850, 582, 913,  35, 230, 853, 223, 970, 915, 325, 987, 532,  69,  10,\n",
      "                   798, 607, 359, 993, 689, 632, 873, 320, 386, 759, 636, 193, 786, 412,\n",
      "                   391, 457, 174, 969, 526, 768, 401, 931, 784, 293, 793, 730, 616, 360,\n",
      "                   827, 591, 549, 613, 155, 732, 442, 236, 978, 485, 534,  75, 310, 710,\n",
      "                   683, 646, 171, 781, 947,  48,  53, 413, 745, 511,  57, 992, 220, 429,\n",
      "                   810, 791, 740, 586, 965, 892, 611, 559, 921, 527, 208, 502, 671, 256,\n",
      "                   150, 209, 726, 604, 734, 840, 100, 186, 140, 729, 348, 578],\n",
      "                  dtype=torch.int32), tensor([1, 0, 4, 5, 0, 7, 8, 6, 4, 2, 8, 5, 6, 4, 7, 0, 4, 2, 1, 3, 5, 9, 3, 1,\n",
      "                   4, 1, 7, 8, 0, 0, 6, 1, 9, 9, 1, 3, 3, 5, 3, 8, 5, 6, 8, 3, 1, 0, 5, 1,\n",
      "                   5, 4, 7, 6, 9, 1, 1, 5, 7, 9, 1, 8, 8, 0, 0, 9, 3, 1, 8, 6, 1, 8, 0, 3,\n",
      "                   5, 5, 9, 0, 7, 9, 2, 8, 5, 9, 5, 0, 8, 9, 7, 3, 6, 8, 5, 6, 1, 1, 8, 1,\n",
      "                   6, 1, 4, 1, 3, 1, 8, 9, 3, 4, 7, 1, 8, 8, 7, 8, 5, 7, 1, 3, 0, 8, 7, 0,\n",
      "                   6, 3, 9, 5, 9, 9, 1, 0, 4, 2, 2, 4, 3, 8, 2, 8, 8, 3, 1, 9, 2, 5, 7, 6,\n",
      "                   9, 1, 1, 4, 1, 1, 4, 4, 8, 5, 4, 7, 0, 2, 9, 1, 1, 2, 7, 8, 8, 0, 3, 3,\n",
      "                   0, 6, 5, 8, 7, 3, 7, 1, 3, 9, 9, 2, 7, 1, 2, 8, 8, 7, 2, 1, 8, 6, 5, 2,\n",
      "                   9, 5, 1, 6, 8, 5, 8, 6, 6, 5, 1, 8, 2, 7, 9, 9, 7, 5, 5, 7, 9, 1, 7, 9,\n",
      "                   7, 2, 4, 0, 4, 9, 7, 1, 3, 5, 7, 5, 2, 6, 9, 2, 6, 9, 8, 5, 7, 0, 1, 3,\n",
      "                   9, 4, 5, 6, 5, 3, 2, 8, 3, 3, 1, 4, 5, 9, 2, 4, 3, 5, 6, 9, 9, 0, 8, 3,\n",
      "                   0, 0, 8, 1, 4, 2, 1, 1, 1, 8, 1, 7, 0, 7, 2, 6, 3, 3, 1, 6, 3, 9, 5, 4,\n",
      "                   3, 5, 8, 1, 0, 9, 9, 8, 2, 1, 9, 0, 5, 8, 1, 2, 0, 1, 5, 0, 1, 6, 4, 2,\n",
      "                   4, 5, 8, 5, 4, 4, 0, 1, 5, 1, 1, 5, 6, 5, 0, 7, 5, 7, 0, 5, 6, 7, 5, 0,\n",
      "                   0, 6, 0, 6, 9, 0, 3, 9, 9, 2, 4, 9, 2, 0, 3, 8, 1, 9, 5, 3, 2, 7, 1, 5,\n",
      "                   5, 1, 7, 0, 5, 2, 5, 8, 4, 0, 9, 1, 4, 3, 6, 2, 2, 4, 0, 2, 9, 5, 0, 0,\n",
      "                   2, 7, 4, 4, 8, 8, 8, 7, 2, 7, 1, 3, 9, 5, 3, 5, 9, 1, 3, 2, 7, 1, 0, 9,\n",
      "                   9, 8, 1, 8, 5, 8, 7, 5, 4, 2, 4, 2, 7, 1, 8, 4, 3, 1, 8, 7, 8, 8, 3, 1,\n",
      "                   6, 1, 9, 2, 7, 9, 8, 8, 1, 4, 1, 5, 7, 0, 3, 5, 4, 5, 7, 3, 9, 0, 0, 0,\n",
      "                   9, 6, 0, 0, 1, 4, 3, 5, 7, 9, 6, 7, 1, 3, 4, 6, 1, 8, 4, 7, 4, 5, 7, 3,\n",
      "                   0, 8, 0, 9, 6, 7, 9, 8, 0, 6, 4, 5, 5, 5, 6, 6, 7, 8, 5, 4, 0, 8, 8, 0,\n",
      "                   7, 5, 3, 2, 5, 2, 5, 6, 4, 4, 4, 1, 3, 4, 7, 0, 3, 1, 5, 7, 7, 2, 7, 2,\n",
      "                   4, 7, 6, 7, 1, 2, 7, 1, 8, 6, 8, 6, 0, 8, 7, 8, 8, 1, 6, 3, 4, 8, 1, 2,\n",
      "                   6, 9, 1, 8, 4, 2, 5, 0, 2, 5, 3, 3, 6, 1, 2, 5, 1, 3, 8, 7, 3, 4, 2, 5,\n",
      "                   1, 7, 0, 4, 9, 0, 6, 9, 2, 0, 9, 8, 2, 1, 9, 9, 7, 2, 2, 5, 3, 8, 3, 5])),\n",
      "               names=('seeds', 'labels'),\n",
      "           ),\n",
      "           test_set=ItemSet(\n",
      "               items=(tensor([724, 775, 733, 838, 303, 558,  63, 474,  71, 336, 682, 147,  28, 378,\n",
      "                   869, 545, 816, 600, 379, 395, 334, 597, 990, 439,  27, 288, 813, 627,\n",
      "                   483, 285, 770, 707, 863,  90, 197, 822, 312, 104, 297, 762, 406, 851,\n",
      "                   583, 472, 403,  13, 541, 122, 871, 232, 952, 769,   3, 164, 180, 757,\n",
      "                   198,  55, 743, 844, 203, 437,  51, 655, 778, 932, 268, 508, 326, 364,\n",
      "                   704,  31, 663, 852, 919, 580, 202,  73, 196,  95,  56, 755, 390, 702,\n",
      "                   404, 284, 544, 296, 381, 516, 244,  78, 241, 226,  14, 657, 450, 929,\n",
      "                   895, 966, 344, 670, 396, 517, 459, 925, 477, 836, 408, 176, 772, 903,\n",
      "                   337, 634, 593, 581, 777, 440, 349, 113, 137, 619, 767, 727, 509, 114,\n",
      "                   253, 673, 430, 756, 515, 948, 471,  97, 317, 304, 809, 858, 311, 462,\n",
      "                   436, 753,   5, 157,  88, 417, 181, 332, 415,  36, 301, 188, 528,  87,\n",
      "                   172, 539,  22, 824, 639, 358, 845, 251, 933, 190,   9, 263, 129, 214,\n",
      "                   354, 960, 353,  38, 355, 175, 804,  79, 749, 276, 535, 444, 231, 493,\n",
      "                   741, 204, 356, 624, 369,  21, 261, 660, 669, 561, 131, 647, 826, 299,\n",
      "                   991, 674, 885, 132], dtype=torch.int32), tensor([3, 8, 9, 5, 3, 9, 7, 5, 8, 7, 1, 5, 4, 7, 8, 6, 3, 5, 2, 8, 5, 4, 5, 7,\n",
      "                   3, 9, 1, 7, 7, 0, 8, 3, 1, 5, 3, 4, 9, 4, 6, 1, 0, 9, 2, 6, 6, 6, 7, 6,\n",
      "                   5, 4, 5, 4, 2, 0, 7, 6, 6, 7, 5, 0, 8, 1, 5, 4, 3, 3, 6, 1, 3, 4, 7, 5,\n",
      "                   5, 4, 6, 9, 0, 1, 9, 7, 1, 6, 0, 0, 7, 4, 1, 1, 4, 0, 2, 1, 0, 1, 3, 3,\n",
      "                   1, 6, 3, 8, 2, 1, 6, 7, 9, 3, 3, 5, 0, 7, 0, 7, 2, 0, 3, 3, 9, 5, 1, 7,\n",
      "                   7, 1, 2, 2, 7, 6, 9, 6, 5, 7, 2, 6, 3, 0, 3, 6, 0, 7, 3, 1, 3, 7, 9, 8,\n",
      "                   1, 0, 8, 2, 1, 0, 7, 4, 3, 4, 2, 3, 0, 6, 6, 5, 3, 3, 5, 8, 6, 6, 6, 4,\n",
      "                   5, 7, 2, 9, 8, 0, 3, 7, 6, 2, 9, 9, 4, 1, 7, 9, 0, 9, 9, 2, 7, 1, 6, 2,\n",
      "                   8, 2, 5, 3, 3, 8, 5, 3])),\n",
      "               names=('seeds', 'labels'),\n",
      "           ),\n",
      "           metadata={'name': 'node_classification', 'num_classes': 10},)\n",
      "\n",
      "Loaded link prediction task: OnDiskTask(validation_set=ItemSet(\n",
      "               items=(tensor([[109, 356],\n",
      "                   [264, 624],\n",
      "                   [351, 897],\n",
      "                   ...,\n",
      "                   [781, 106],\n",
      "                   [781, 891],\n",
      "                   [781, 464]], dtype=torch.int32), tensor([1., 1., 1.,  ..., 0., 0., 0.], dtype=torch.float64), tensor([   0,    1,    2,  ..., 1999, 1999, 1999])),\n",
      "               names=('seeds', 'labels', 'indexes'),\n",
      "           ),\n",
      "           train_set=ItemSet(\n",
      "               items=(tensor([[885, 286],\n",
      "                   [656, 441],\n",
      "                   [ 93, 873],\n",
      "                   ...,\n",
      "                   [179, 156],\n",
      "                   [666, 687],\n",
      "                   [599, 908]], dtype=torch.int32),),\n",
      "               names=('seeds',),\n",
      "           ),\n",
      "           test_set=ItemSet(\n",
      "               items=(tensor([[180, 977],\n",
      "                   [730, 546],\n",
      "                   [584, 328],\n",
      "                   ...,\n",
      "                   [699, 690],\n",
      "                   [699, 378],\n",
      "                   [699, 986]], dtype=torch.int32), tensor([1., 1., 1.,  ..., 0., 0., 0.], dtype=torch.float64), tensor([   0,    1,    2,  ..., 1999, 1999, 1999])),\n",
      "               names=('seeds', 'labels', 'indexes'),\n",
      "           ),\n",
      "           metadata={'name': 'link_prediction', 'num_classes': 10},)\n",
      "\n"
     ]
    },
    {
     "name": "stderr",
     "output_type": "stream",
     "text": [
      "/dgl/python/dgl/graphbolt/impl/ondisk_dataset.py:463: GBWarning: Edge feature is stored, but edge IDs are not saved.\n",
      "  gb_warning(\"Edge feature is stored, but edge IDs are not saved.\")\n"
     ]
    }
   ],
   "source": [
    "dataset = gb.OnDiskDataset(base_dir).load()\n",
    "graph = dataset.graph\n",
    "print(f\"Loaded graph: {graph}\\n\")\n",
    "\n",
    "feature = dataset.feature\n",
    "print(f\"Loaded feature store: {feature}\\n\")\n",
    "\n",
    "tasks = dataset.tasks\n",
    "nc_task = tasks[0]\n",
    "print(f\"Loaded node classification task: {nc_task}\\n\")\n",
    "lp_task = tasks[1]\n",
    "print(f\"Loaded link prediction task: {lp_task}\\n\")"
   ]
  }
 ],
 "metadata": {
  "colab": {
   "private_outputs": true,
   "provenance": []
  },
  "kernelspec": {
   "display_name": "Python 3",
   "name": "python3"
  },
  "language_info": {
   "codemirror_mode": {
    "name": "ipython",
    "version": 3
   },
   "file_extension": ".py",
   "mimetype": "text/x-python",
   "name": "python",
   "nbconvert_exporter": "python",
   "pygments_lexer": "ipython3",
   "version": "3.10.15"
  }
 },
 "nbformat": 4,
 "nbformat_minor": 0
}

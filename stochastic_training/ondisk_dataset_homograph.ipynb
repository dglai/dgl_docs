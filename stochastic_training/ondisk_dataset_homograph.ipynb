{
 "cells": [
  {
   "cell_type": "markdown",
   "metadata": {
    "id": "FnFhPMaAfLtJ"
   },
   "source": [
    "# OnDiskDataset for Homogeneous Graph\n",
    "\n",
    "[![Open In Colab](https://colab.research.google.com/assets/colab-badge.svg)](https://colab.research.google.com/github/dmlc/dgl/blob/master/notebooks/stochastic_training/ondisk_dataset_homograph.ipynb) [![GitHub](https://img.shields.io/badge/-View%20on%20GitHub-181717?logo=github&logoColor=ffffff)](https://github.com/dmlc/dgl/blob/master/notebooks/stochastic_training/ondisk_dataset_homograph.ipynb)\n",
    "\n",
    "This tutorial shows how to create `OnDiskDataset` for homogeneous graph that could be used in **GraphBolt** framework.\n",
    "\n",
    "By the end of this tutorial, you will be able to\n",
    "\n",
    "- organize graph structure data.\n",
    "- organize feature data.\n",
    "- organize training/validation/test set for specific tasks.\n",
    "\n",
    "To create an ``OnDiskDataset`` object, you need to organize all the data including graph structure, feature data and tasks into a directory. The directory should contain a ``metadata.yaml`` file that describes the metadata of the dataset.\n",
    "\n",
    "Now let's generate various data step by step and organize them together to instantiate `OnDiskDataset` finally."
   ]
  },
  {
   "cell_type": "markdown",
   "metadata": {
    "id": "Wlb19DtWgtzq"
   },
   "source": [
    "## Install DGL package"
   ]
  },
  {
   "cell_type": "code",
   "execution_count": 1,
   "metadata": {
    "execution": {
     "iopub.execute_input": "2024-09-27T13:20:34.832293Z",
     "iopub.status.busy": "2024-09-27T13:20:34.831780Z",
     "iopub.status.idle": "2024-09-27T13:20:37.858068Z",
     "shell.execute_reply": "2024-09-27T13:20:37.857166Z"
    },
    "id": "UojlT9ZGgyr9"
   },
   "outputs": [
    {
     "name": "stdout",
     "output_type": "stream",
     "text": [
      "Looking in links: https://data.dgl.ai/wheels-test/repo.html\r\n",
      "Requirement already satisfied: dgl in /opt/conda/envs/dgl-dev-cpu/lib/python3.10/site-packages (2.2a240410)\r\n",
      "Requirement already satisfied: numpy>=1.14.0 in /opt/conda/envs/dgl-dev-cpu/lib/python3.10/site-packages (from dgl) (1.26.4)\r\n",
      "Requirement already satisfied: scipy>=1.1.0 in /opt/conda/envs/dgl-dev-cpu/lib/python3.10/site-packages (from dgl) (1.14.1)\r\n",
      "Requirement already satisfied: networkx>=2.1 in /opt/conda/envs/dgl-dev-cpu/lib/python3.10/site-packages (from dgl) (3.3)\r\n",
      "Requirement already satisfied: requests>=2.19.0 in /opt/conda/envs/dgl-dev-cpu/lib/python3.10/site-packages (from dgl) (2.32.3)\r\n",
      "Requirement already satisfied: tqdm in /opt/conda/envs/dgl-dev-cpu/lib/python3.10/site-packages (from dgl) (4.66.5)\r\n",
      "Requirement already satisfied: psutil>=5.8.0 in /opt/conda/envs/dgl-dev-cpu/lib/python3.10/site-packages (from dgl) (6.0.0)\r\n",
      "Requirement already satisfied: torchdata>=0.5.0 in /opt/conda/envs/dgl-dev-cpu/lib/python3.10/site-packages (from dgl) (0.8.0)\r\n",
      "Requirement already satisfied: pandas in /opt/conda/envs/dgl-dev-cpu/lib/python3.10/site-packages (from dgl) (2.2.3)\r\n"
     ]
    },
    {
     "name": "stdout",
     "output_type": "stream",
     "text": [
      "Requirement already satisfied: charset-normalizer<4,>=2 in /opt/conda/envs/dgl-dev-cpu/lib/python3.10/site-packages (from requests>=2.19.0->dgl) (3.3.2)\r\n",
      "Requirement already satisfied: idna<4,>=2.5 in /opt/conda/envs/dgl-dev-cpu/lib/python3.10/site-packages (from requests>=2.19.0->dgl) (3.10)\r\n",
      "Requirement already satisfied: urllib3<3,>=1.21.1 in /opt/conda/envs/dgl-dev-cpu/lib/python3.10/site-packages (from requests>=2.19.0->dgl) (2.2.3)\r\n",
      "Requirement already satisfied: certifi>=2017.4.17 in /opt/conda/envs/dgl-dev-cpu/lib/python3.10/site-packages (from requests>=2.19.0->dgl) (2024.8.30)\r\n",
      "Requirement already satisfied: torch>=2 in /opt/conda/envs/dgl-dev-cpu/lib/python3.10/site-packages (from torchdata>=0.5.0->dgl) (2.1.0+cpu)\r\n"
     ]
    },
    {
     "name": "stdout",
     "output_type": "stream",
     "text": [
      "Requirement already satisfied: python-dateutil>=2.8.2 in /opt/conda/envs/dgl-dev-cpu/lib/python3.10/site-packages (from pandas->dgl) (2.9.0.post0)\r\n",
      "Requirement already satisfied: pytz>=2020.1 in /opt/conda/envs/dgl-dev-cpu/lib/python3.10/site-packages (from pandas->dgl) (2024.2)\r\n",
      "Requirement already satisfied: tzdata>=2022.7 in /opt/conda/envs/dgl-dev-cpu/lib/python3.10/site-packages (from pandas->dgl) (2024.2)\r\n",
      "Requirement already satisfied: six>=1.5 in /opt/conda/envs/dgl-dev-cpu/lib/python3.10/site-packages (from python-dateutil>=2.8.2->pandas->dgl) (1.16.0)\r\n",
      "Requirement already satisfied: filelock in /opt/conda/envs/dgl-dev-cpu/lib/python3.10/site-packages (from torch>=2->torchdata>=0.5.0->dgl) (3.16.1)\r\n",
      "Requirement already satisfied: typing-extensions in /opt/conda/envs/dgl-dev-cpu/lib/python3.10/site-packages (from torch>=2->torchdata>=0.5.0->dgl) (4.12.2)\r\n",
      "Requirement already satisfied: sympy in /opt/conda/envs/dgl-dev-cpu/lib/python3.10/site-packages (from torch>=2->torchdata>=0.5.0->dgl) (1.13.3)\r\n",
      "Requirement already satisfied: jinja2 in /opt/conda/envs/dgl-dev-cpu/lib/python3.10/site-packages (from torch>=2->torchdata>=0.5.0->dgl) (3.1.4)\r\n",
      "Requirement already satisfied: fsspec in /opt/conda/envs/dgl-dev-cpu/lib/python3.10/site-packages (from torch>=2->torchdata>=0.5.0->dgl) (2024.9.0)\r\n"
     ]
    },
    {
     "name": "stdout",
     "output_type": "stream",
     "text": [
      "Requirement already satisfied: MarkupSafe>=2.0 in /opt/conda/envs/dgl-dev-cpu/lib/python3.10/site-packages (from jinja2->torch>=2->torchdata>=0.5.0->dgl) (2.1.5)\r\n",
      "Requirement already satisfied: mpmath<1.4,>=1.1.0 in /opt/conda/envs/dgl-dev-cpu/lib/python3.10/site-packages (from sympy->torch>=2->torchdata>=0.5.0->dgl) (1.3.0)\r\n"
     ]
    },
    {
     "name": "stdout",
     "output_type": "stream",
     "text": [
      "\u001b[33mWARNING: Running pip as the 'root' user can result in broken permissions and conflicting behaviour with the system package manager, possibly rendering your system unusable.It is recommended to use a virtual environment instead: https://pip.pypa.io/warnings/venv. Use the --root-user-action option if you know what you are doing and want to suppress this warning.\u001b[0m\u001b[33m\r\n",
      "\u001b[0m"
     ]
    },
    {
     "name": "stdout",
     "output_type": "stream",
     "text": [
      "DGL installed!\n"
     ]
    }
   ],
   "source": [
    "# Install required packages.\n",
    "import os\n",
    "import torch\n",
    "import numpy as np\n",
    "os.environ['TORCH'] = torch.__version__\n",
    "os.environ['DGLBACKEND'] = \"pytorch\"\n",
    "\n",
    "# Install the CPU version.\n",
    "device = torch.device(\"cpu\")\n",
    "!pip install --pre dgl -f https://data.dgl.ai/wheels-test/repo.html\n",
    "\n",
    "try:\n",
    "    import dgl\n",
    "    import dgl.graphbolt as gb\n",
    "    installed = True\n",
    "except ImportError as error:\n",
    "    installed = False\n",
    "    print(error)\n",
    "print(\"DGL installed!\" if installed else \"DGL not found!\")"
   ]
  },
  {
   "cell_type": "markdown",
   "metadata": {
    "id": "2R7WnSbjsfbr"
   },
   "source": [
    "## Data preparation\n",
    "In order to demonstrate how to organize various data, let's create a base directory first."
   ]
  },
  {
   "cell_type": "code",
   "execution_count": 2,
   "metadata": {
    "execution": {
     "iopub.execute_input": "2024-09-27T13:20:37.860848Z",
     "iopub.status.busy": "2024-09-27T13:20:37.860204Z",
     "iopub.status.idle": "2024-09-27T13:20:37.865357Z",
     "shell.execute_reply": "2024-09-27T13:20:37.864263Z"
    },
    "id": "SZipbzyltLfO"
   },
   "outputs": [
    {
     "name": "stdout",
     "output_type": "stream",
     "text": [
      "Created base directory: ./ondisk_dataset_homograph\n"
     ]
    }
   ],
   "source": [
    "base_dir = './ondisk_dataset_homograph'\n",
    "os.makedirs(base_dir, exist_ok=True)\n",
    "print(f\"Created base directory: {base_dir}\")"
   ]
  },
  {
   "cell_type": "markdown",
   "metadata": {
    "id": "qhNtIn_xhlnl"
   },
   "source": [
    "### Generate graph structure data\n",
    "For homogeneous graph, we just need to save edges(namely seeds) into  **Numpy** or **CSV** file.\n",
    "\n",
    "Note:\n",
    "- when saving to **Numpy**, the array requires to be in shape of `(2, N)`. This format is recommended as constructing graph from it is much faster than **CSV** file.\n",
    "- when saving to **CSV** file, do not save index and header.\n"
   ]
  },
  {
   "cell_type": "code",
   "execution_count": 3,
   "metadata": {
    "execution": {
     "iopub.execute_input": "2024-09-27T13:20:37.867534Z",
     "iopub.status.busy": "2024-09-27T13:20:37.867184Z",
     "iopub.status.idle": "2024-09-27T13:20:37.880992Z",
     "shell.execute_reply": "2024-09-27T13:20:37.880153Z"
    },
    "id": "HcBt4G5BmSjr"
   },
   "outputs": [
    {
     "name": "stdout",
     "output_type": "stream",
     "text": [
      "Part of edges: [[318 651]\n",
      " [298 961]\n",
      " [643 240]\n",
      " [324 818]\n",
      " [464 837]]\n",
      "Edges are saved into ./ondisk_dataset_homograph/edges.csv\n"
     ]
    }
   ],
   "source": [
    "import numpy as np\n",
    "import pandas as pd\n",
    "num_nodes = 1000\n",
    "num_edges = 10 * num_nodes\n",
    "edges_path = os.path.join(base_dir, \"edges.csv\")\n",
    "edges = np.random.randint(0, num_nodes, size=(num_edges, 2))\n",
    "\n",
    "print(f\"Part of edges: {edges[:5, :]}\")\n",
    "\n",
    "df = pd.DataFrame(edges)\n",
    "df.to_csv(edges_path, index=False, header=False)\n",
    "\n",
    "print(f\"Edges are saved into {edges_path}\")"
   ]
  },
  {
   "cell_type": "markdown",
   "metadata": {
    "id": "kh-4cPtzpcaH"
   },
   "source": [
    "### Generate feature data for graph\n",
    "For feature data, numpy arrays and torch tensors are supported for now."
   ]
  },
  {
   "cell_type": "code",
   "execution_count": 4,
   "metadata": {
    "execution": {
     "iopub.execute_input": "2024-09-27T13:20:37.883224Z",
     "iopub.status.busy": "2024-09-27T13:20:37.882856Z",
     "iopub.status.idle": "2024-09-27T13:20:37.901884Z",
     "shell.execute_reply": "2024-09-27T13:20:37.900784Z"
    },
    "id": "_PVu1u5brBhF"
   },
   "outputs": [
    {
     "name": "stdout",
     "output_type": "stream",
     "text": [
      "Part of node feature [feat_0]: [[0.64742878 0.63655543 0.05042729 0.47845326 0.91392312]\n",
      " [0.7347435  0.65580619 0.42400907 0.44166082 0.35761251]\n",
      " [0.22524973 0.06123604 0.98568814 0.42339485 0.46743163]]\n",
      "Node feature [feat_0] is saved to ./ondisk_dataset_homograph/node-feat-0.npy\n",
      "\n",
      "Part of node feature [feat_1]: tensor([[0.4285, 0.3001, 0.0217, 0.0083, 0.5046],\n",
      "        [0.5907, 0.3044, 0.1364, 0.0014, 0.8277],\n",
      "        [0.7707, 0.9615, 0.5099, 0.5174, 0.4728]])\n",
      "Node feature [feat_1] is saved to ./ondisk_dataset_homograph/node-feat-1.pt\n",
      "\n",
      "Part of edge feature [feat_0]: [[0.27966937 0.31188993 0.35973246 0.56776879 0.58506794]\n",
      " [0.50172525 0.50920218 0.11112453 0.62822604 0.21458294]\n",
      " [0.07278974 0.80613297 0.50861156 0.30431012 0.84731196]]\n",
      "Edge feature [feat_0] is saved to ./ondisk_dataset_homograph/edge-feat-0.npy\n",
      "\n",
      "Part of edge feature [feat_1]: tensor([[7.9672e-01, 6.4201e-01, 8.3695e-03, 5.3846e-01, 6.3533e-04],\n",
      "        [6.4370e-02, 9.3462e-01, 7.6244e-01, 2.2279e-01, 5.9171e-01],\n",
      "        [6.2070e-01, 8.2771e-01, 1.1631e-01, 9.7785e-01, 4.4391e-01]])\n",
      "Edge feature [feat_1] is saved to ./ondisk_dataset_homograph/edge-feat-1.pt\n",
      "\n"
     ]
    }
   ],
   "source": [
    "# Generate node feature in numpy array.\n",
    "node_feat_0_path = os.path.join(base_dir, \"node-feat-0.npy\")\n",
    "node_feat_0 = np.random.rand(num_nodes, 5)\n",
    "print(f\"Part of node feature [feat_0]: {node_feat_0[:3, :]}\")\n",
    "np.save(node_feat_0_path, node_feat_0)\n",
    "print(f\"Node feature [feat_0] is saved to {node_feat_0_path}\\n\")\n",
    "\n",
    "# Generate another node feature in torch tensor\n",
    "node_feat_1_path = os.path.join(base_dir, \"node-feat-1.pt\")\n",
    "node_feat_1 = torch.rand(num_nodes, 5)\n",
    "print(f\"Part of node feature [feat_1]: {node_feat_1[:3, :]}\")\n",
    "torch.save(node_feat_1, node_feat_1_path)\n",
    "print(f\"Node feature [feat_1] is saved to {node_feat_1_path}\\n\")\n",
    "\n",
    "# Generate edge feature in numpy array.\n",
    "edge_feat_0_path = os.path.join(base_dir, \"edge-feat-0.npy\")\n",
    "edge_feat_0 = np.random.rand(num_edges, 5)\n",
    "print(f\"Part of edge feature [feat_0]: {edge_feat_0[:3, :]}\")\n",
    "np.save(edge_feat_0_path, edge_feat_0)\n",
    "print(f\"Edge feature [feat_0] is saved to {edge_feat_0_path}\\n\")\n",
    "\n",
    "# Generate another edge feature in torch tensor\n",
    "edge_feat_1_path = os.path.join(base_dir, \"edge-feat-1.pt\")\n",
    "edge_feat_1 = torch.rand(num_edges, 5)\n",
    "print(f\"Part of edge feature [feat_1]: {edge_feat_1[:3, :]}\")\n",
    "torch.save(edge_feat_1, edge_feat_1_path)\n",
    "print(f\"Edge feature [feat_1] is saved to {edge_feat_1_path}\\n\")\n"
   ]
  },
  {
   "cell_type": "markdown",
   "metadata": {
    "id": "ZyqgOtsIwzh_"
   },
   "source": [
    "### Generate tasks\n",
    "`OnDiskDataset` supports multiple tasks. For each task, we need to prepare training/validation/test sets respectively. Such sets usually vary among different tasks. In this tutorial, let's create a **Node Classification** task and **Link Prediction** task."
   ]
  },
  {
   "cell_type": "markdown",
   "metadata": {
    "id": "hVxHaDIfzCkr"
   },
   "source": [
    "#### Node Classification Task\n",
    "For node classification task, we need **node IDs** and corresponding **labels** for each training/validation/test set. Like feature data, numpy arrays and torch tensors are supported for these sets."
   ]
  },
  {
   "cell_type": "code",
   "execution_count": 5,
   "metadata": {
    "execution": {
     "iopub.execute_input": "2024-09-27T13:20:37.904471Z",
     "iopub.status.busy": "2024-09-27T13:20:37.904098Z",
     "iopub.status.idle": "2024-09-27T13:20:37.915680Z",
     "shell.execute_reply": "2024-09-27T13:20:37.914840Z"
    },
    "id": "S5-fyBbHzTCO"
   },
   "outputs": [
    {
     "name": "stdout",
     "output_type": "stream",
     "text": [
      "Part of train ids for node classification: [146 171 402]\n",
      "NC train ids are saved to ./ondisk_dataset_homograph/nc-train-ids.npy\n",
      "\n",
      "Part of train labels for node classification: tensor([3, 6, 2])\n",
      "NC train labels are saved to ./ondisk_dataset_homograph/nc-train-labels.pt\n",
      "\n",
      "Part of val ids for node classification: [ 16 725 788]\n",
      "NC val ids are saved to ./ondisk_dataset_homograph/nc-val-ids.npy\n",
      "\n",
      "Part of val labels for node classification: tensor([4, 8, 0])\n",
      "NC val labels are saved to ./ondisk_dataset_homograph/nc-val-labels.pt\n",
      "\n",
      "Part of test ids for node classification: [182  96 506]\n",
      "NC test ids are saved to ./ondisk_dataset_homograph/nc-test-ids.npy\n",
      "\n",
      "Part of test labels for node classification: tensor([2, 7, 1])\n",
      "NC test labels are saved to ./ondisk_dataset_homograph/nc-test-labels.pt\n",
      "\n"
     ]
    }
   ],
   "source": [
    "num_trains = int(num_nodes * 0.6)\n",
    "num_vals = int(num_nodes * 0.2)\n",
    "num_tests = num_nodes - num_trains - num_vals\n",
    "\n",
    "ids = np.arange(num_nodes)\n",
    "np.random.shuffle(ids)\n",
    "\n",
    "nc_train_ids_path = os.path.join(base_dir, \"nc-train-ids.npy\")\n",
    "nc_train_ids = ids[:num_trains]\n",
    "print(f\"Part of train ids for node classification: {nc_train_ids[:3]}\")\n",
    "np.save(nc_train_ids_path, nc_train_ids)\n",
    "print(f\"NC train ids are saved to {nc_train_ids_path}\\n\")\n",
    "\n",
    "nc_train_labels_path = os.path.join(base_dir, \"nc-train-labels.pt\")\n",
    "nc_train_labels = torch.randint(0, 10, (num_trains,))\n",
    "print(f\"Part of train labels for node classification: {nc_train_labels[:3]}\")\n",
    "torch.save(nc_train_labels, nc_train_labels_path)\n",
    "print(f\"NC train labels are saved to {nc_train_labels_path}\\n\")\n",
    "\n",
    "nc_val_ids_path = os.path.join(base_dir, \"nc-val-ids.npy\")\n",
    "nc_val_ids = ids[num_trains:num_trains+num_vals]\n",
    "print(f\"Part of val ids for node classification: {nc_val_ids[:3]}\")\n",
    "np.save(nc_val_ids_path, nc_val_ids)\n",
    "print(f\"NC val ids are saved to {nc_val_ids_path}\\n\")\n",
    "\n",
    "nc_val_labels_path = os.path.join(base_dir, \"nc-val-labels.pt\")\n",
    "nc_val_labels = torch.randint(0, 10, (num_vals,))\n",
    "print(f\"Part of val labels for node classification: {nc_val_labels[:3]}\")\n",
    "torch.save(nc_val_labels, nc_val_labels_path)\n",
    "print(f\"NC val labels are saved to {nc_val_labels_path}\\n\")\n",
    "\n",
    "nc_test_ids_path = os.path.join(base_dir, \"nc-test-ids.npy\")\n",
    "nc_test_ids = ids[-num_tests:]\n",
    "print(f\"Part of test ids for node classification: {nc_test_ids[:3]}\")\n",
    "np.save(nc_test_ids_path, nc_test_ids)\n",
    "print(f\"NC test ids are saved to {nc_test_ids_path}\\n\")\n",
    "\n",
    "nc_test_labels_path = os.path.join(base_dir, \"nc-test-labels.pt\")\n",
    "nc_test_labels = torch.randint(0, 10, (num_tests,))\n",
    "print(f\"Part of test labels for node classification: {nc_test_labels[:3]}\")\n",
    "torch.save(nc_test_labels, nc_test_labels_path)\n",
    "print(f\"NC test labels are saved to {nc_test_labels_path}\\n\")"
   ]
  },
  {
   "cell_type": "markdown",
   "metadata": {
    "id": "LhAcDCHQ_KJ0"
   },
   "source": [
    "#### Link Prediction Task\n",
    "For link prediction task, we need **seeds** or **corresponding labels and indexes** which representing the pos/neg property and group of the seeds for each training/validation/test set. Like feature data, numpy arrays and torch tensors are supported for these sets."
   ]
  },
  {
   "cell_type": "code",
   "execution_count": 6,
   "metadata": {
    "execution": {
     "iopub.execute_input": "2024-09-27T13:20:37.918066Z",
     "iopub.status.busy": "2024-09-27T13:20:37.917667Z",
     "iopub.status.idle": "2024-09-27T13:20:37.935921Z",
     "shell.execute_reply": "2024-09-27T13:20:37.934961Z"
    },
    "id": "u0jCnXIcAQy4"
   },
   "outputs": [
    {
     "name": "stdout",
     "output_type": "stream",
     "text": [
      "Part of train seeds for link prediction: [[318 651]\n",
      " [298 961]\n",
      " [643 240]]\n",
      "LP train seeds are saved to ./ondisk_dataset_homograph/lp-train-seeds.npy\n",
      "\n",
      "Part of val seeds for link prediction: [[670 411]\n",
      " [561 448]\n",
      " [902 468]]\n",
      "LP val seeds are saved to ./ondisk_dataset_homograph/lp-val-seeds.npy\n",
      "\n",
      "Part of val labels for link prediction: [1. 1. 1.]\n",
      "LP val labels are saved to ./ondisk_dataset_homograph/lp-val-labels.npy\n",
      "\n",
      "Part of val indexes for link prediction: [0 1 2]\n",
      "LP val indexes are saved to ./ondisk_dataset_homograph/lp-val-indexes.npy\n",
      "\n",
      "Part of test seeds for link prediction: [[398  26]\n",
      " [895 982]\n",
      " [229  55]]\n",
      "LP test seeds are saved to ./ondisk_dataset_homograph/lp-test-seeds.npy\n",
      "\n",
      "Part of val labels for link prediction: [1. 1. 1.]\n",
      "LP test labels are saved to ./ondisk_dataset_homograph/lp-test-labels.npy\n",
      "\n",
      "Part of test indexes for link prediction: [0 1 2]\n",
      "LP test indexes are saved to ./ondisk_dataset_homograph/lp-test-indexes.npy\n",
      "\n"
     ]
    }
   ],
   "source": [
    "num_trains = int(num_edges * 0.6)\n",
    "num_vals = int(num_edges * 0.2)\n",
    "num_tests = num_edges - num_trains - num_vals\n",
    "\n",
    "lp_train_seeds_path = os.path.join(base_dir, \"lp-train-seeds.npy\")\n",
    "lp_train_seeds = edges[:num_trains, :]\n",
    "print(f\"Part of train seeds for link prediction: {lp_train_seeds[:3]}\")\n",
    "np.save(lp_train_seeds_path, lp_train_seeds)\n",
    "print(f\"LP train seeds are saved to {lp_train_seeds_path}\\n\")\n",
    "\n",
    "lp_val_seeds_path = os.path.join(base_dir, \"lp-val-seeds.npy\")\n",
    "lp_val_seeds = edges[num_trains:num_trains+num_vals, :]\n",
    "lp_val_neg_dsts = np.random.randint(0, num_nodes, (num_vals, 10)).reshape(-1)\n",
    "lp_val_neg_srcs = np.repeat(lp_val_seeds[:,0], 10)\n",
    "lp_val_neg_seeds = np.concatenate((lp_val_neg_srcs, lp_val_neg_dsts)).reshape(2,-1).T\n",
    "lp_val_seeds = np.concatenate((lp_val_seeds, lp_val_neg_seeds))\n",
    "print(f\"Part of val seeds for link prediction: {lp_val_seeds[:3]}\")\n",
    "np.save(lp_val_seeds_path, lp_val_seeds)\n",
    "print(f\"LP val seeds are saved to {lp_val_seeds_path}\\n\")\n",
    "\n",
    "lp_val_labels_path = os.path.join(base_dir, \"lp-val-labels.npy\")\n",
    "lp_val_labels = np.empty(num_vals * (10 + 1))\n",
    "lp_val_labels[:num_vals] = 1\n",
    "lp_val_labels[num_vals:] = 0\n",
    "print(f\"Part of val labels for link prediction: {lp_val_labels[:3]}\")\n",
    "np.save(lp_val_labels_path, lp_val_labels)\n",
    "print(f\"LP val labels are saved to {lp_val_labels_path}\\n\")\n",
    "\n",
    "lp_val_indexes_path = os.path.join(base_dir, \"lp-val-indexes.npy\")\n",
    "lp_val_indexes = np.arange(0, num_vals)\n",
    "lp_val_neg_indexes = np.repeat(lp_val_indexes, 10)\n",
    "lp_val_indexes = np.concatenate([lp_val_indexes, lp_val_neg_indexes])\n",
    "print(f\"Part of val indexes for link prediction: {lp_val_indexes[:3]}\")\n",
    "np.save(lp_val_indexes_path, lp_val_indexes)\n",
    "print(f\"LP val indexes are saved to {lp_val_indexes_path}\\n\")\n",
    "\n",
    "lp_test_seeds_path = os.path.join(base_dir, \"lp-test-seeds.npy\")\n",
    "lp_test_seeds = edges[-num_tests:, :]\n",
    "lp_test_neg_dsts = np.random.randint(0, num_nodes, (num_tests, 10)).reshape(-1)\n",
    "lp_test_neg_srcs = np.repeat(lp_test_seeds[:,0], 10)\n",
    "lp_test_neg_seeds = np.concatenate((lp_test_neg_srcs, lp_test_neg_dsts)).reshape(2,-1).T\n",
    "lp_test_seeds = np.concatenate((lp_test_seeds, lp_test_neg_seeds))\n",
    "print(f\"Part of test seeds for link prediction: {lp_test_seeds[:3]}\")\n",
    "np.save(lp_test_seeds_path, lp_test_seeds)\n",
    "print(f\"LP test seeds are saved to {lp_test_seeds_path}\\n\")\n",
    "\n",
    "lp_test_labels_path = os.path.join(base_dir, \"lp-test-labels.npy\")\n",
    "lp_test_labels = np.empty(num_tests * (10 + 1))\n",
    "lp_test_labels[:num_tests] = 1\n",
    "lp_test_labels[num_tests:] = 0\n",
    "print(f\"Part of val labels for link prediction: {lp_test_labels[:3]}\")\n",
    "np.save(lp_test_labels_path, lp_test_labels)\n",
    "print(f\"LP test labels are saved to {lp_test_labels_path}\\n\")\n",
    "\n",
    "lp_test_indexes_path = os.path.join(base_dir, \"lp-test-indexes.npy\")\n",
    "lp_test_indexes = np.arange(0, num_tests)\n",
    "lp_test_neg_indexes = np.repeat(lp_test_indexes, 10)\n",
    "lp_test_indexes = np.concatenate([lp_test_indexes, lp_test_neg_indexes])\n",
    "print(f\"Part of test indexes for link prediction: {lp_test_indexes[:3]}\")\n",
    "np.save(lp_test_indexes_path, lp_test_indexes)\n",
    "print(f\"LP test indexes are saved to {lp_test_indexes_path}\\n\")"
   ]
  },
  {
   "cell_type": "markdown",
   "metadata": {
    "id": "wbk6-wxRK-6S"
   },
   "source": [
    "## Organize Data into YAML File\n",
    "Now we need to create a `metadata.yaml` file which contains the paths, dadta types of graph structure, feature data, training/validation/test sets.\n",
    "\n",
    "Notes:\n",
    "- all path should be relative to `metadata.yaml`.\n",
    "- Below fields are optional and not specified in below example.\n",
    "  - `in_memory`: indicates whether to load dada into memory or `mmap`. Default is `True`.\n",
    "\n",
    "Please refer to [YAML specification](https://github.com/dmlc/dgl/blob/master/docs/source/stochastic_training/ondisk-dataset-specification.rst) for more details."
   ]
  },
  {
   "cell_type": "code",
   "execution_count": 7,
   "metadata": {
    "execution": {
     "iopub.execute_input": "2024-09-27T13:20:37.938368Z",
     "iopub.status.busy": "2024-09-27T13:20:37.937953Z",
     "iopub.status.idle": "2024-09-27T13:20:37.944340Z",
     "shell.execute_reply": "2024-09-27T13:20:37.943647Z"
    },
    "id": "ddGTWW61Lpwp"
   },
   "outputs": [],
   "source": [
    "yaml_content = f\"\"\"\n",
    "    dataset_name: homogeneous_graph_nc_lp\n",
    "    graph:\n",
    "      nodes:\n",
    "        - num: {num_nodes}\n",
    "      edges:\n",
    "        - format: csv\n",
    "          path: {os.path.basename(edges_path)}\n",
    "    feature_data:\n",
    "      - domain: node\n",
    "        name: feat_0\n",
    "        format: numpy\n",
    "        path: {os.path.basename(node_feat_0_path)}\n",
    "      - domain: node\n",
    "        name: feat_1\n",
    "        format: torch\n",
    "        path: {os.path.basename(node_feat_1_path)}\n",
    "      - domain: edge\n",
    "        name: feat_0\n",
    "        format: numpy\n",
    "        path: {os.path.basename(edge_feat_0_path)}\n",
    "      - domain: edge\n",
    "        name: feat_1\n",
    "        format: torch\n",
    "        path: {os.path.basename(edge_feat_1_path)}\n",
    "    tasks:\n",
    "      - name: node_classification\n",
    "        num_classes: 10\n",
    "        train_set:\n",
    "          - data:\n",
    "              - name: seeds\n",
    "                format: numpy\n",
    "                path: {os.path.basename(nc_train_ids_path)}\n",
    "              - name: labels\n",
    "                format: torch\n",
    "                path: {os.path.basename(nc_train_labels_path)}\n",
    "        validation_set:\n",
    "          - data:\n",
    "              - name: seeds\n",
    "                format: numpy\n",
    "                path: {os.path.basename(nc_val_ids_path)}\n",
    "              - name: labels\n",
    "                format: torch\n",
    "                path: {os.path.basename(nc_val_labels_path)}\n",
    "        test_set:\n",
    "          - data:\n",
    "              - name: seeds\n",
    "                format: numpy\n",
    "                path: {os.path.basename(nc_test_ids_path)}\n",
    "              - name: labels\n",
    "                format: torch\n",
    "                path: {os.path.basename(nc_test_labels_path)}\n",
    "      - name: link_prediction\n",
    "        num_classes: 10\n",
    "        train_set:\n",
    "          - data:\n",
    "              - name: seeds\n",
    "                format: numpy\n",
    "                path: {os.path.basename(lp_train_seeds_path)}\n",
    "        validation_set:\n",
    "          - data:\n",
    "              - name: seeds\n",
    "                format: numpy\n",
    "                path: {os.path.basename(lp_val_seeds_path)}\n",
    "              - name: labels\n",
    "                format: numpy\n",
    "                path: {os.path.basename(lp_val_labels_path)}\n",
    "              - name: indexes\n",
    "                format: numpy\n",
    "                path: {os.path.basename(lp_val_indexes_path)}\n",
    "        test_set:\n",
    "          - data:\n",
    "              - name: seeds\n",
    "                format: numpy\n",
    "                path: {os.path.basename(lp_test_seeds_path)}\n",
    "              - name: labels\n",
    "                format: numpy\n",
    "                path: {os.path.basename(lp_test_labels_path)}\n",
    "              - name: indexes\n",
    "                format: numpy\n",
    "                path: {os.path.basename(lp_test_indexes_path)}\n",
    "\"\"\"\n",
    "metadata_path = os.path.join(base_dir, \"metadata.yaml\")\n",
    "with open(metadata_path, \"w\") as f:\n",
    "  f.write(yaml_content)"
   ]
  },
  {
   "cell_type": "markdown",
   "metadata": {
    "id": "kEfybHGhOW7O"
   },
   "source": [
    "## Instantiate `OnDiskDataset`\n",
    "Now we're ready to load dataset via `dgl.graphbolt.OnDiskDataset`. When instantiating, we just pass in the base directory where `metadata.yaml` file lies.\n",
    "\n",
    "During first instantiation, GraphBolt preprocesses the raw data such as constructing `FusedCSCSamplingGraph` from edges. All data including graph, feature data, training/validation/test sets are put into `preprocessed` directory after preprocessing. Any following dataset loading will skip the preprocess stage.\n",
    "\n",
    "After preprocessing, `load()` is required to be called explicitly in order to load graph, feature data and tasks."
   ]
  },
  {
   "cell_type": "code",
   "execution_count": 8,
   "metadata": {
    "execution": {
     "iopub.execute_input": "2024-09-27T13:20:37.946452Z",
     "iopub.status.busy": "2024-09-27T13:20:37.946079Z",
     "iopub.status.idle": "2024-09-27T13:20:38.017335Z",
     "shell.execute_reply": "2024-09-27T13:20:38.016745Z"
    },
    "id": "W58CZoSzOiyo"
   },
   "outputs": [
    {
     "name": "stdout",
     "output_type": "stream",
     "text": [
      "Start to preprocess the on-disk dataset.\n",
      "Finish preprocessing the on-disk dataset.\n",
      "Loaded graph: FusedCSCSamplingGraph(csc_indptr=tensor([    0,     6,    13,  ...,  9981,  9988, 10000], dtype=torch.int32),\n",
      "                      indices=tensor([766, 900, 973,  ...,  26, 657, 705], dtype=torch.int32),\n",
      "                      total_num_nodes=1000, num_edges=10000,)\n",
      "\n",
      "Loaded feature store: TorchBasedFeatureStore(\n",
      "    {(<OnDiskFeatureDataDomain.NODE: 'node'>, None, 'feat_0'): TorchBasedFeature(\n",
      "        feature=tensor([[0.6474, 0.6366, 0.0504, 0.4785, 0.9139],\n",
      "                        [0.7347, 0.6558, 0.4240, 0.4417, 0.3576],\n",
      "                        [0.2252, 0.0612, 0.9857, 0.4234, 0.4674],\n",
      "                        ...,\n",
      "                        [0.0390, 0.3674, 0.0577, 0.1736, 0.8731],\n",
      "                        [0.6710, 0.2887, 0.5718, 0.3040, 0.9378],\n",
      "                        [0.8232, 0.8766, 0.6443, 0.9526, 0.9128]], dtype=torch.float64),\n",
      "        metadata={},\n",
      "    ), (<OnDiskFeatureDataDomain.NODE: 'node'>, None, 'feat_1'): TorchBasedFeature(\n",
      "        feature=tensor([[0.4285, 0.3001, 0.0217, 0.0083, 0.5046],\n",
      "                        [0.5907, 0.3044, 0.1364, 0.0014, 0.8277],\n",
      "                        [0.7707, 0.9615, 0.5099, 0.5174, 0.4728],\n",
      "                        ...,\n",
      "                        [0.9690, 0.4285, 0.0232, 0.1120, 0.9438],\n",
      "                        [0.5151, 0.8002, 0.2041, 0.2538, 0.4357],\n",
      "                        [0.0706, 0.0633, 0.5811, 0.3739, 0.9709]]),\n",
      "        metadata={},\n",
      "    ), (<OnDiskFeatureDataDomain.EDGE: 'edge'>, None, 'feat_0'): TorchBasedFeature(\n",
      "        feature=tensor([[0.2797, 0.3119, 0.3597, 0.5678, 0.5851],\n",
      "                        [0.5017, 0.5092, 0.1111, 0.6282, 0.2146],\n",
      "                        [0.0728, 0.8061, 0.5086, 0.3043, 0.8473],\n",
      "                        ...,\n",
      "                        [0.7066, 0.4851, 0.8787, 0.1029, 0.9442],\n",
      "                        [0.1681, 0.9236, 0.6231, 0.8858, 0.9884],\n",
      "                        [0.1855, 0.9416, 0.9789, 0.7516, 0.7854]], dtype=torch.float64),\n",
      "        metadata={},\n",
      "    ), (<OnDiskFeatureDataDomain.EDGE: 'edge'>, None, 'feat_1'): TorchBasedFeature(\n",
      "        feature=tensor([[7.9672e-01, 6.4201e-01, 8.3695e-03, 5.3846e-01, 6.3533e-04],\n",
      "                        [6.4370e-02, 9.3462e-01, 7.6244e-01, 2.2279e-01, 5.9171e-01],\n",
      "                        [6.2070e-01, 8.2771e-01, 1.1631e-01, 9.7785e-01, 4.4391e-01],\n",
      "                        ...,\n",
      "                        [9.5739e-01, 2.8686e-01, 6.6415e-01, 7.5168e-01, 9.7555e-01],\n",
      "                        [7.2827e-01, 9.1360e-01, 1.2666e-01, 5.5613e-01, 4.1236e-01],\n",
      "                        [5.5307e-01, 1.6776e-01, 3.4105e-01, 9.5812e-01, 6.4724e-01]]),\n",
      "        metadata={},\n",
      "    )}\n",
      ")\n",
      "\n",
      "Loaded node classification task: OnDiskTask(validation_set=ItemSet(\n",
      "               items=(tensor([ 16, 725, 788,  12, 728, 679, 587, 198, 267, 857, 319, 487,  90, 841,\n",
      "                   270, 749, 107, 613, 454, 797, 430, 622, 605, 724, 298, 995, 111,  54,\n",
      "                   123, 972, 634, 252, 583, 925, 429, 818,  47, 275, 806, 800, 581, 631,\n",
      "                   993, 476, 911,  28, 415, 273,  65, 531, 176, 420, 283, 404, 471, 659,\n",
      "                   654, 681, 407, 436, 858, 866, 292, 297, 832, 258, 822, 235,  34, 854,\n",
      "                   593, 974, 534, 768, 284, 155, 651, 397, 709, 482, 162, 390, 511, 704,\n",
      "                   671, 552, 844, 293, 370, 586, 629,  70,  61, 362, 532, 949, 180, 103,\n",
      "                     6, 664,   9, 520, 882, 281,  78, 597, 253,  69, 410, 957, 459, 313,\n",
      "                   669, 484,  50, 877, 322, 856,   7, 627, 739, 614, 604, 598, 770,  91,\n",
      "                   413, 469, 524, 317, 562, 339, 944, 712, 224, 853, 612, 428, 244,  33,\n",
      "                   699, 323, 723, 409, 810, 655, 175,  85, 644, 184, 173, 209, 486, 838,\n",
      "                   188, 470, 984,  79, 290, 809, 570, 106, 830, 342, 140, 228, 231, 152,\n",
      "                   351, 641, 697, 406, 191, 875, 891, 280, 991, 867, 493, 492, 194, 708,\n",
      "                    95, 250, 931, 423, 181, 114, 928, 625, 541, 985, 328, 874, 158, 260,\n",
      "                    41, 932, 278, 519], dtype=torch.int32), tensor([4, 8, 0, 2, 0, 9, 6, 2, 0, 0, 6, 8, 2, 4, 3, 4, 9, 5, 2, 4, 4, 3, 3, 2,\n",
      "                   1, 8, 5, 5, 5, 9, 9, 0, 9, 2, 7, 4, 6, 2, 6, 7, 1, 6, 1, 0, 8, 7, 4, 5,\n",
      "                   2, 1, 3, 6, 9, 8, 6, 8, 8, 3, 5, 9, 7, 6, 7, 8, 5, 1, 8, 0, 0, 9, 8, 2,\n",
      "                   4, 0, 4, 2, 1, 5, 7, 3, 2, 3, 9, 9, 3, 3, 5, 4, 6, 2, 7, 8, 0, 5, 8, 9,\n",
      "                   2, 7, 5, 9, 9, 2, 8, 4, 1, 3, 5, 3, 2, 1, 0, 3, 0, 2, 2, 7, 4, 9, 3, 1,\n",
      "                   1, 8, 1, 4, 3, 7, 0, 5, 9, 0, 0, 6, 7, 9, 6, 2, 9, 6, 5, 6, 1, 4, 5, 7,\n",
      "                   9, 1, 7, 2, 5, 6, 5, 4, 2, 0, 6, 2, 8, 1, 8, 6, 1, 0, 1, 5, 0, 0, 8, 1,\n",
      "                   2, 5, 7, 1, 4, 0, 3, 5, 5, 5, 7, 5, 4, 0, 3, 3, 7, 1, 5, 0, 9, 5, 8, 0,\n",
      "                   2, 6, 1, 4, 3, 5, 3, 9])),\n",
      "               names=('seeds', 'labels'),\n",
      "           ),\n",
      "           train_set=ItemSet(\n",
      "               items=(tensor([146, 171, 402, 959, 878,  26, 205, 799, 527, 766, 578, 237, 316, 752,\n",
      "                   714, 473,  19, 692, 930, 719, 161, 556, 954, 456, 705, 782, 746, 178,\n",
      "                   843, 389, 656,  60, 619, 943, 203, 392, 395,  13, 998, 876, 778, 745,\n",
      "                   663,  68, 496, 172, 590, 617, 885, 574, 536, 488, 864, 321, 594, 642,\n",
      "                   463, 156, 569, 336, 722, 345, 936, 884,  11, 148, 711, 599, 269, 609,\n",
      "                   426,  88, 576, 432, 837, 485,   8, 414, 222, 860,  42, 108, 981, 416,\n",
      "                   501, 827,  24, 208, 264, 937, 537, 121, 645, 615,   2, 920, 689, 167,\n",
      "                   169,   5, 318, 675, 744, 701, 961, 999, 958, 835, 139, 748, 738, 104,\n",
      "                   425, 233, 489, 602, 261, 143,  82, 546, 881, 320,  72, 700, 419, 982,\n",
      "                   544, 153, 376, 801, 305,  86, 271, 455, 468, 227, 666, 312, 754, 703,\n",
      "                   764, 688,  36, 935, 458, 285, 596, 917, 494, 457, 921, 649, 865, 163,\n",
      "                   306, 254, 138, 890, 805, 756, 620,  25, 829, 174, 601, 230, 441, 592,\n",
      "                   883, 450,  63, 626, 128, 110, 229, 811, 889, 521, 446, 105, 814,  87,\n",
      "                   124, 159, 632, 900, 694, 266, 727,  46, 643, 201, 529,  74, 478, 349,\n",
      "                    84, 618, 234, 125, 886, 564, 303, 117, 901, 555, 364, 658, 324,  32,\n",
      "                   919, 633, 248, 990, 206, 136, 332, 713, 647, 295, 760,  56, 120, 906,\n",
      "                   702, 393, 987,  98, 803,  83, 372, 808,  75, 294, 992, 540, 639, 870,\n",
      "                   388, 956, 331, 575, 955,  23, 398, 825, 812, 894, 948, 411, 236, 274,\n",
      "                   131, 584, 279, 135, 405, 340, 653, 422, 412, 774,  58, 363, 448, 304,\n",
      "                   307, 657, 238, 310, 720, 637, 202,  43, 375, 706, 282, 588, 196, 361,\n",
      "                   589, 913,  51, 334, 912, 277,   3, 360, 400, 684, 741, 498, 939, 795,\n",
      "                   119, 978, 439,  77, 218, 763, 500, 924, 348, 483,  80, 909, 366, 674,\n",
      "                   256,  57, 624, 698, 102, 762,  18, 839, 530, 387, 733, 189, 676, 630,\n",
      "                   693, 938, 934, 347, 751, 242,  76, 850, 451, 591, 817, 580, 695, 910,\n",
      "                   579, 369, 246,   4, 947, 787, 767,  35, 137, 249, 765, 433, 771, 731,\n",
      "                   437,  20, 792, 373, 560, 777, 828, 773, 141, 926, 557, 735, 325, 907,\n",
      "                   462, 997,  38, 887, 396, 514,  53, 785,  89, 559, 710, 607, 195, 417,\n",
      "                   672,  81, 776, 255, 341, 908, 940, 241, 869, 868,   1, 898, 796, 539,\n",
      "                   350, 667, 826, 365, 226, 715, 904, 239, 661, 628, 211, 823, 668, 892,\n",
      "                   976, 245, 377,  22, 286, 115,  31, 265, 600, 646, 859, 296, 862,  21,\n",
      "                   769, 730, 346, 848, 522, 213, 381, 461, 219, 251, 996, 821, 134, 863,\n",
      "                   772, 490, 445, 512, 444, 481, 915, 740,  67, 240, 223, 207, 660,  97,\n",
      "                   623, 183, 927, 899, 798,  15, 554, 221, 243, 753, 197, 551, 526, 834,\n",
      "                   610, 408,  49, 567, 326, 968, 750, 145, 386, 933, 953, 804, 880, 168,\n",
      "                   132, 780, 696, 491, 717, 466, 861, 464, 680, 257, 314, 775, 330, 214,\n",
      "                    45, 977, 287, 734, 743, 616, 761, 840, 543, 289, 946, 272, 518,  94,\n",
      "                   391, 547, 790,  29,  30, 291, 565, 356, 789, 929, 942, 225, 846, 755,\n",
      "                   851, 648, 510, 986, 779,  10,  14, 300, 150, 665, 215, 783, 831, 757,\n",
      "                   548, 129, 502, 640, 855, 516, 872,  27,  55, 873, 427, 533, 477, 333,\n",
      "                   895, 989, 572, 718, 301, 259, 538, 988, 893, 190,  17, 732, 401, 116,\n",
      "                   965, 902, 382, 566, 359, 503, 563, 603, 383, 525, 577, 903, 523, 358,\n",
      "                   424, 794, 160, 199, 288, 170,  39, 690, 967, 118, 670, 608,  44, 652,\n",
      "                   791, 786, 130, 374, 149, 595, 971, 716, 355, 849, 480, 220],\n",
      "                  dtype=torch.int32), tensor([3, 6, 2, 4, 9, 1, 7, 3, 6, 0, 8, 1, 6, 2, 4, 3, 4, 3, 4, 3, 3, 7, 5, 5,\n",
      "                   7, 4, 8, 3, 6, 5, 7, 2, 9, 0, 7, 7, 5, 0, 5, 1, 6, 2, 2, 2, 4, 4, 4, 9,\n",
      "                   3, 9, 2, 4, 9, 4, 2, 8, 3, 7, 4, 1, 7, 2, 5, 1, 3, 2, 7, 5, 3, 1, 6, 6,\n",
      "                   6, 9, 6, 6, 0, 6, 0, 1, 1, 7, 8, 0, 7, 9, 2, 5, 6, 6, 7, 9, 4, 1, 9, 9,\n",
      "                   5, 2, 7, 0, 9, 0, 5, 9, 6, 8, 2, 2, 6, 9, 8, 2, 9, 0, 3, 0, 3, 7, 1, 2,\n",
      "                   2, 2, 1, 9, 9, 0, 1, 0, 8, 4, 2, 3, 7, 3, 1, 4, 1, 3, 1, 6, 1, 5, 8, 6,\n",
      "                   2, 8, 9, 9, 8, 7, 0, 4, 0, 6, 3, 9, 8, 9, 0, 2, 3, 7, 7, 8, 9, 6, 3, 7,\n",
      "                   2, 9, 8, 1, 3, 6, 2, 9, 0, 0, 6, 9, 1, 2, 9, 1, 2, 3, 0, 5, 3, 2, 2, 0,\n",
      "                   4, 3, 7, 0, 1, 4, 4, 4, 1, 4, 4, 0, 1, 1, 7, 9, 6, 2, 3, 2, 5, 4, 9, 3,\n",
      "                   5, 7, 4, 1, 5, 2, 6, 9, 5, 9, 4, 0, 7, 6, 0, 7, 8, 1, 4, 0, 0, 9, 1, 1,\n",
      "                   1, 2, 9, 5, 0, 3, 4, 8, 4, 4, 8, 1, 6, 0, 6, 5, 1, 3, 6, 9, 6, 3, 1, 6,\n",
      "                   5, 3, 3, 7, 7, 3, 5, 3, 4, 8, 5, 7, 7, 3, 9, 3, 9, 1, 1, 9, 2, 4, 4, 0,\n",
      "                   7, 7, 0, 0, 8, 8, 3, 6, 5, 3, 5, 5, 6, 1, 0, 3, 0, 6, 8, 6, 8, 6, 4, 3,\n",
      "                   3, 3, 1, 3, 2, 2, 4, 3, 8, 3, 1, 6, 8, 8, 6, 6, 8, 7, 7, 4, 3, 9, 5, 0,\n",
      "                   0, 1, 4, 8, 1, 3, 1, 1, 7, 9, 0, 3, 7, 6, 4, 8, 6, 4, 2, 7, 4, 6, 4, 0,\n",
      "                   8, 6, 8, 8, 6, 9, 6, 5, 9, 9, 0, 1, 0, 9, 7, 7, 4, 2, 4, 1, 8, 4, 9, 8,\n",
      "                   9, 6, 2, 7, 2, 0, 8, 2, 9, 7, 9, 2, 8, 5, 8, 6, 1, 6, 7, 7, 3, 5, 7, 7,\n",
      "                   4, 1, 3, 2, 4, 9, 6, 5, 1, 7, 0, 0, 6, 7, 7, 6, 4, 6, 8, 5, 2, 4, 9, 4,\n",
      "                   7, 5, 4, 4, 4, 2, 4, 9, 6, 2, 6, 8, 7, 3, 4, 8, 2, 2, 7, 0, 2, 4, 4, 5,\n",
      "                   8, 2, 5, 6, 0, 6, 0, 4, 1, 5, 9, 4, 7, 4, 8, 8, 5, 6, 3, 5, 1, 8, 8, 6,\n",
      "                   9, 4, 1, 2, 7, 4, 9, 4, 1, 8, 6, 8, 6, 8, 5, 6, 3, 2, 8, 5, 7, 2, 9, 4,\n",
      "                   9, 1, 8, 2, 4, 3, 4, 1, 0, 9, 2, 0, 4, 5, 5, 4, 4, 2, 0, 9, 4, 7, 7, 6,\n",
      "                   8, 1, 0, 5, 2, 5, 2, 1, 2, 6, 8, 6, 6, 7, 9, 5, 7, 4, 4, 9, 0, 5, 8, 2,\n",
      "                   9, 2, 7, 2, 4, 7, 9, 3, 3, 3, 4, 2, 7, 1, 5, 9, 1, 1, 1, 6, 8, 2, 0, 0,\n",
      "                   6, 4, 6, 8, 4, 6, 7, 4, 4, 2, 7, 5, 5, 1, 8, 0, 1, 3, 5, 8, 4, 8, 5, 7])),\n",
      "               names=('seeds', 'labels'),\n",
      "           ),\n",
      "           test_set=ItemSet(\n",
      "               items=(tensor([182,  96, 506, 781, 380, 994, 941, 467, 101, 621, 421, 308, 508, 784,\n",
      "                   553, 504, 465, 142, 418, 371, 399, 950, 315, 367, 449, 635, 945, 495,\n",
      "                   678, 144, 193, 338, 963, 379, 212, 545, 200,  71, 677, 394,  37, 980,\n",
      "                   247,  40,  73, 453, 685, 276, 820, 442, 542, 807, 344, 509, 969, 561,\n",
      "                   816, 650,  48, 443, 962, 177, 474, 431, 302, 673, 133, 813, 691, 549,\n",
      "                   187, 742, 535, 896, 736, 793, 842, 979, 973, 923, 460, 403, 126, 185,\n",
      "                   847, 357, 611, 447, 335, 100, 354, 683, 573, 568, 329, 165, 922, 299,\n",
      "                   585, 721, 309, 914, 109, 166, 127, 682, 879, 836, 686, 263, 747, 268,\n",
      "                   905, 154, 737, 435, 147,  99, 729, 951, 582, 871,  93, 815, 505, 707,\n",
      "                   352, 179, 897, 515, 343, 311, 983, 217, 758,  92, 378, 966, 558, 192,\n",
      "                   232,  64, 833, 452, 164, 916, 636, 434,  52, 662, 550, 571, 384, 385,\n",
      "                   112, 113, 479, 497, 475, 186, 440, 513,  66, 517,  59, 151, 802, 970,\n",
      "                   327, 438, 975, 606, 759, 157, 918, 687, 824, 210, 952, 638,  62, 122,\n",
      "                   499, 216,   0, 528, 204, 960, 368, 353, 888, 472, 726, 337, 964, 262,\n",
      "                   845, 819, 852, 507], dtype=torch.int32), tensor([2, 7, 1, 9, 2, 8, 0, 5, 6, 8, 5, 4, 4, 7, 7, 6, 4, 0, 5, 6, 5, 5, 4, 9,\n",
      "                   1, 8, 3, 7, 0, 5, 7, 5, 7, 6, 1, 8, 5, 2, 0, 0, 0, 9, 0, 2, 7, 4, 4, 8,\n",
      "                   0, 1, 0, 5, 2, 4, 9, 0, 2, 3, 7, 9, 0, 4, 0, 2, 3, 5, 8, 2, 6, 0, 5, 0,\n",
      "                   1, 9, 6, 9, 0, 0, 6, 6, 0, 0, 6, 0, 7, 1, 1, 3, 4, 3, 6, 8, 3, 0, 6, 0,\n",
      "                   2, 6, 4, 9, 3, 7, 2, 2, 6, 7, 6, 0, 3, 3, 1, 3, 8, 2, 0, 0, 1, 9, 3, 3,\n",
      "                   6, 7, 0, 6, 2, 6, 7, 0, 1, 8, 7, 6, 5, 5, 3, 9, 2, 7, 6, 6, 9, 3, 1, 4,\n",
      "                   0, 3, 4, 4, 0, 0, 1, 5, 8, 3, 5, 8, 6, 7, 0, 8, 3, 6, 5, 3, 9, 8, 2, 9,\n",
      "                   7, 2, 8, 1, 3, 1, 2, 5, 0, 8, 7, 6, 8, 7, 4, 1, 3, 9, 2, 9, 2, 8, 4, 7,\n",
      "                   2, 6, 5, 9, 6, 9, 0, 5])),\n",
      "               names=('seeds', 'labels'),\n",
      "           ),\n",
      "           metadata={'name': 'node_classification', 'num_classes': 10},)\n",
      "\n",
      "Loaded link prediction task: OnDiskTask(validation_set=ItemSet(\n",
      "               items=(tensor([[670, 411],\n",
      "                   [561, 448],\n",
      "                   [902, 468],\n",
      "                   ...,\n",
      "                   [ 84, 143],\n",
      "                   [ 84, 829],\n",
      "                   [ 84, 273]], dtype=torch.int32), tensor([1., 1., 1.,  ..., 0., 0., 0.], dtype=torch.float64), tensor([   0,    1,    2,  ..., 1999, 1999, 1999])),\n",
      "               names=('seeds', 'labels', 'indexes'),\n",
      "           ),\n",
      "           train_set=ItemSet(\n",
      "               items=(tensor([[318, 651],\n",
      "                   [298, 961],\n",
      "                   [643, 240],\n",
      "                   ...,\n",
      "                   [158,  47],\n",
      "                   [946, 949],\n",
      "                   [220, 611]], dtype=torch.int32),),\n",
      "               names=('seeds',),\n",
      "           ),\n",
      "           test_set=ItemSet(\n",
      "               items=(tensor([[398,  26],\n",
      "                   [895, 982],\n",
      "                   [229,  55],\n",
      "                   ...,\n",
      "                   [577, 412],\n",
      "                   [577, 875],\n",
      "                   [577, 158]], dtype=torch.int32), tensor([1., 1., 1.,  ..., 0., 0., 0.], dtype=torch.float64), tensor([   0,    1,    2,  ..., 1999, 1999, 1999])),\n",
      "               names=('seeds', 'labels', 'indexes'),\n",
      "           ),\n",
      "           metadata={'name': 'link_prediction', 'num_classes': 10},)\n",
      "\n"
     ]
    },
    {
     "name": "stderr",
     "output_type": "stream",
     "text": [
      "/dgl/python/dgl/graphbolt/impl/ondisk_dataset.py:463: GBWarning: Edge feature is stored, but edge IDs are not saved.\n",
      "  gb_warning(\"Edge feature is stored, but edge IDs are not saved.\")\n"
     ]
    }
   ],
   "source": [
    "dataset = gb.OnDiskDataset(base_dir).load()\n",
    "graph = dataset.graph\n",
    "print(f\"Loaded graph: {graph}\\n\")\n",
    "\n",
    "feature = dataset.feature\n",
    "print(f\"Loaded feature store: {feature}\\n\")\n",
    "\n",
    "tasks = dataset.tasks\n",
    "nc_task = tasks[0]\n",
    "print(f\"Loaded node classification task: {nc_task}\\n\")\n",
    "lp_task = tasks[1]\n",
    "print(f\"Loaded link prediction task: {lp_task}\\n\")"
   ]
  }
 ],
 "metadata": {
  "colab": {
   "private_outputs": true,
   "provenance": []
  },
  "kernelspec": {
   "display_name": "Python 3",
   "name": "python3"
  },
  "language_info": {
   "codemirror_mode": {
    "name": "ipython",
    "version": 3
   },
   "file_extension": ".py",
   "mimetype": "text/x-python",
   "name": "python",
   "nbconvert_exporter": "python",
   "pygments_lexer": "ipython3",
   "version": "3.10.15"
  }
 },
 "nbformat": 4,
 "nbformat_minor": 0
}

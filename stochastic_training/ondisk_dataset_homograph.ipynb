{
 "cells": [
  {
   "cell_type": "markdown",
   "metadata": {
    "id": "FnFhPMaAfLtJ"
   },
   "source": [
    "# OnDiskDataset for Homogeneous Graph\n",
    "\n",
    "[![Open In Colab](https://colab.research.google.com/assets/colab-badge.svg)](https://colab.research.google.com/github/dmlc/dgl/blob/master/notebooks/stochastic_training/ondisk_dataset_homograph.ipynb) [![GitHub](https://img.shields.io/badge/-View%20on%20GitHub-181717?logo=github&logoColor=ffffff)](https://github.com/dmlc/dgl/blob/master/notebooks/stochastic_training/ondisk_dataset_homograph.ipynb)\n",
    "\n",
    "This tutorial shows how to create `OnDiskDataset` for homogeneous graph that could be used in **GraphBolt** framework.\n",
    "\n",
    "By the end of this tutorial, you will be able to\n",
    "\n",
    "- organize graph structure data.\n",
    "- organize feature data.\n",
    "- organize training/validation/test set for specific tasks.\n",
    "\n",
    "To create an ``OnDiskDataset`` object, you need to organize all the data including graph structure, feature data and tasks into a directory. The directory should contain a ``metadata.yaml`` file that describes the metadata of the dataset.\n",
    "\n",
    "Now let's generate various data step by step and organize them together to instantiate `OnDiskDataset` finally."
   ]
  },
  {
   "cell_type": "markdown",
   "metadata": {
    "id": "Wlb19DtWgtzq"
   },
   "source": [
    "## Install DGL package"
   ]
  },
  {
   "cell_type": "code",
   "execution_count": 1,
   "metadata": {
    "execution": {
     "iopub.execute_input": "2024-10-21T13:20:09.366107Z",
     "iopub.status.busy": "2024-10-21T13:20:09.365528Z",
     "iopub.status.idle": "2024-10-21T13:20:12.431814Z",
     "shell.execute_reply": "2024-10-21T13:20:12.430757Z"
    },
    "id": "UojlT9ZGgyr9"
   },
   "outputs": [
    {
     "name": "stdout",
     "output_type": "stream",
     "text": [
      "Looking in links: https://data.dgl.ai/wheels-test/repo.html\r\n",
      "Requirement already satisfied: dgl in /opt/conda/envs/dgl-dev-cpu/lib/python3.10/site-packages (2.2a240410)\r\n",
      "Requirement already satisfied: numpy>=1.14.0 in /opt/conda/envs/dgl-dev-cpu/lib/python3.10/site-packages (from dgl) (1.26.4)\r\n",
      "Requirement already satisfied: scipy>=1.1.0 in /opt/conda/envs/dgl-dev-cpu/lib/python3.10/site-packages (from dgl) (1.14.1)\r\n",
      "Requirement already satisfied: networkx>=2.1 in /opt/conda/envs/dgl-dev-cpu/lib/python3.10/site-packages (from dgl) (3.4.2)\r\n",
      "Requirement already satisfied: requests>=2.19.0 in /opt/conda/envs/dgl-dev-cpu/lib/python3.10/site-packages (from dgl) (2.32.3)\r\n",
      "Requirement already satisfied: tqdm in /opt/conda/envs/dgl-dev-cpu/lib/python3.10/site-packages (from dgl) (4.66.5)\r\n",
      "Requirement already satisfied: psutil>=5.8.0 in /opt/conda/envs/dgl-dev-cpu/lib/python3.10/site-packages (from dgl) (6.1.0)\r\n",
      "Requirement already satisfied: torchdata>=0.5.0 in /opt/conda/envs/dgl-dev-cpu/lib/python3.10/site-packages (from dgl) (0.8.0)\r\n",
      "Requirement already satisfied: pandas in /opt/conda/envs/dgl-dev-cpu/lib/python3.10/site-packages (from dgl) (2.2.3)\r\n"
     ]
    },
    {
     "name": "stdout",
     "output_type": "stream",
     "text": [
      "Requirement already satisfied: charset-normalizer<4,>=2 in /opt/conda/envs/dgl-dev-cpu/lib/python3.10/site-packages (from requests>=2.19.0->dgl) (3.4.0)\r\n",
      "Requirement already satisfied: idna<4,>=2.5 in /opt/conda/envs/dgl-dev-cpu/lib/python3.10/site-packages (from requests>=2.19.0->dgl) (3.10)\r\n",
      "Requirement already satisfied: urllib3<3,>=1.21.1 in /opt/conda/envs/dgl-dev-cpu/lib/python3.10/site-packages (from requests>=2.19.0->dgl) (2.2.3)\r\n",
      "Requirement already satisfied: certifi>=2017.4.17 in /opt/conda/envs/dgl-dev-cpu/lib/python3.10/site-packages (from requests>=2.19.0->dgl) (2024.8.30)\r\n",
      "Requirement already satisfied: torch>=2 in /opt/conda/envs/dgl-dev-cpu/lib/python3.10/site-packages (from torchdata>=0.5.0->dgl) (2.1.0+cpu)\r\n"
     ]
    },
    {
     "name": "stdout",
     "output_type": "stream",
     "text": [
      "Requirement already satisfied: python-dateutil>=2.8.2 in /opt/conda/envs/dgl-dev-cpu/lib/python3.10/site-packages (from pandas->dgl) (2.9.0.post0)\r\n",
      "Requirement already satisfied: pytz>=2020.1 in /opt/conda/envs/dgl-dev-cpu/lib/python3.10/site-packages (from pandas->dgl) (2024.2)\r\n",
      "Requirement already satisfied: tzdata>=2022.7 in /opt/conda/envs/dgl-dev-cpu/lib/python3.10/site-packages (from pandas->dgl) (2024.2)\r\n",
      "Requirement already satisfied: six>=1.5 in /opt/conda/envs/dgl-dev-cpu/lib/python3.10/site-packages (from python-dateutil>=2.8.2->pandas->dgl) (1.16.0)\r\n",
      "Requirement already satisfied: filelock in /opt/conda/envs/dgl-dev-cpu/lib/python3.10/site-packages (from torch>=2->torchdata>=0.5.0->dgl) (3.16.1)\r\n",
      "Requirement already satisfied: typing-extensions in /opt/conda/envs/dgl-dev-cpu/lib/python3.10/site-packages (from torch>=2->torchdata>=0.5.0->dgl) (4.12.2)\r\n",
      "Requirement already satisfied: sympy in /opt/conda/envs/dgl-dev-cpu/lib/python3.10/site-packages (from torch>=2->torchdata>=0.5.0->dgl) (1.13.3)\r\n",
      "Requirement already satisfied: jinja2 in /opt/conda/envs/dgl-dev-cpu/lib/python3.10/site-packages (from torch>=2->torchdata>=0.5.0->dgl) (3.1.4)\r\n",
      "Requirement already satisfied: fsspec in /opt/conda/envs/dgl-dev-cpu/lib/python3.10/site-packages (from torch>=2->torchdata>=0.5.0->dgl) (2024.10.0)\r\n"
     ]
    },
    {
     "name": "stdout",
     "output_type": "stream",
     "text": [
      "Requirement already satisfied: MarkupSafe>=2.0 in /opt/conda/envs/dgl-dev-cpu/lib/python3.10/site-packages (from jinja2->torch>=2->torchdata>=0.5.0->dgl) (3.0.2)\r\n",
      "Requirement already satisfied: mpmath<1.4,>=1.1.0 in /opt/conda/envs/dgl-dev-cpu/lib/python3.10/site-packages (from sympy->torch>=2->torchdata>=0.5.0->dgl) (1.3.0)\r\n"
     ]
    },
    {
     "name": "stdout",
     "output_type": "stream",
     "text": [
      "\u001b[33mWARNING: Running pip as the 'root' user can result in broken permissions and conflicting behaviour with the system package manager, possibly rendering your system unusable.It is recommended to use a virtual environment instead: https://pip.pypa.io/warnings/venv. Use the --root-user-action option if you know what you are doing and want to suppress this warning.\u001b[0m\u001b[33m\r\n",
      "\u001b[0m"
     ]
    },
    {
     "name": "stdout",
     "output_type": "stream",
     "text": [
      "DGL installed!\n"
     ]
    }
   ],
   "source": [
    "# Install required packages.\n",
    "import os\n",
    "import torch\n",
    "import numpy as np\n",
    "os.environ['TORCH'] = torch.__version__\n",
    "os.environ['DGLBACKEND'] = \"pytorch\"\n",
    "\n",
    "# Install the CPU version.\n",
    "device = torch.device(\"cpu\")\n",
    "!pip install --pre dgl -f https://data.dgl.ai/wheels-test/repo.html\n",
    "\n",
    "try:\n",
    "    import dgl\n",
    "    import dgl.graphbolt as gb\n",
    "    installed = True\n",
    "except ImportError as error:\n",
    "    installed = False\n",
    "    print(error)\n",
    "print(\"DGL installed!\" if installed else \"DGL not found!\")"
   ]
  },
  {
   "cell_type": "markdown",
   "metadata": {
    "id": "2R7WnSbjsfbr"
   },
   "source": [
    "## Data preparation\n",
    "In order to demonstrate how to organize various data, let's create a base directory first."
   ]
  },
  {
   "cell_type": "code",
   "execution_count": 2,
   "metadata": {
    "execution": {
     "iopub.execute_input": "2024-10-21T13:20:12.434735Z",
     "iopub.status.busy": "2024-10-21T13:20:12.434213Z",
     "iopub.status.idle": "2024-10-21T13:20:12.439970Z",
     "shell.execute_reply": "2024-10-21T13:20:12.438790Z"
    },
    "id": "SZipbzyltLfO"
   },
   "outputs": [
    {
     "name": "stdout",
     "output_type": "stream",
     "text": [
      "Created base directory: ./ondisk_dataset_homograph\n"
     ]
    }
   ],
   "source": [
    "base_dir = './ondisk_dataset_homograph'\n",
    "os.makedirs(base_dir, exist_ok=True)\n",
    "print(f\"Created base directory: {base_dir}\")"
   ]
  },
  {
   "cell_type": "markdown",
   "metadata": {
    "id": "qhNtIn_xhlnl"
   },
   "source": [
    "### Generate graph structure data\n",
    "For homogeneous graph, we just need to save edges(namely seeds) into  **Numpy** or **CSV** file.\n",
    "\n",
    "Note:\n",
    "- when saving to **Numpy**, the array requires to be in shape of `(2, N)`. This format is recommended as constructing graph from it is much faster than **CSV** file.\n",
    "- when saving to **CSV** file, do not save index and header.\n"
   ]
  },
  {
   "cell_type": "code",
   "execution_count": 3,
   "metadata": {
    "execution": {
     "iopub.execute_input": "2024-10-21T13:20:12.442174Z",
     "iopub.status.busy": "2024-10-21T13:20:12.441957Z",
     "iopub.status.idle": "2024-10-21T13:20:12.455824Z",
     "shell.execute_reply": "2024-10-21T13:20:12.454920Z"
    },
    "id": "HcBt4G5BmSjr"
   },
   "outputs": [
    {
     "name": "stdout",
     "output_type": "stream",
     "text": [
      "Part of edges: [[888 688]\n",
      " [753 581]\n",
      " [414 599]\n",
      " [193 319]\n",
      " [989 156]]\n",
      "Edges are saved into ./ondisk_dataset_homograph/edges.csv\n"
     ]
    }
   ],
   "source": [
    "import numpy as np\n",
    "import pandas as pd\n",
    "num_nodes = 1000\n",
    "num_edges = 10 * num_nodes\n",
    "edges_path = os.path.join(base_dir, \"edges.csv\")\n",
    "edges = np.random.randint(0, num_nodes, size=(num_edges, 2))\n",
    "\n",
    "print(f\"Part of edges: {edges[:5, :]}\")\n",
    "\n",
    "df = pd.DataFrame(edges)\n",
    "df.to_csv(edges_path, index=False, header=False)\n",
    "\n",
    "print(f\"Edges are saved into {edges_path}\")"
   ]
  },
  {
   "cell_type": "markdown",
   "metadata": {
    "id": "kh-4cPtzpcaH"
   },
   "source": [
    "### Generate feature data for graph\n",
    "For feature data, numpy arrays and torch tensors are supported for now."
   ]
  },
  {
   "cell_type": "code",
   "execution_count": 4,
   "metadata": {
    "execution": {
     "iopub.execute_input": "2024-10-21T13:20:12.458370Z",
     "iopub.status.busy": "2024-10-21T13:20:12.457739Z",
     "iopub.status.idle": "2024-10-21T13:20:12.476986Z",
     "shell.execute_reply": "2024-10-21T13:20:12.475981Z"
    },
    "id": "_PVu1u5brBhF"
   },
   "outputs": [
    {
     "name": "stdout",
     "output_type": "stream",
     "text": [
      "Part of node feature [feat_0]: [[0.6474155  0.87718921 0.65907358 0.94272771 0.51002989]\n",
      " [0.59079061 0.60557699 0.21451755 0.44803902 0.8389939 ]\n",
      " [0.34017164 0.97692602 0.04777668 0.46658236 0.65951991]]\n",
      "Node feature [feat_0] is saved to ./ondisk_dataset_homograph/node-feat-0.npy\n",
      "\n",
      "Part of node feature [feat_1]: tensor([[0.5427, 0.1412, 0.7853, 0.6554, 0.6201],\n",
      "        [0.8954, 0.0498, 0.4596, 0.7404, 0.3201],\n",
      "        [0.3413, 0.8808, 0.3073, 0.5748, 0.5611]])\n",
      "Node feature [feat_1] is saved to ./ondisk_dataset_homograph/node-feat-1.pt\n",
      "\n",
      "Part of edge feature [feat_0]: [[0.09497497 0.20851072 0.79719228 0.04254782 0.60678641]\n",
      " [0.66785526 0.2418708  0.20485994 0.80353107 0.88339559]\n",
      " [0.23698813 0.81201195 0.06067109 0.2392782  0.94195711]]\n",
      "Edge feature [feat_0] is saved to ./ondisk_dataset_homograph/edge-feat-0.npy\n",
      "\n",
      "Part of edge feature [feat_1]: tensor([[0.5723, 0.3242, 0.5465, 0.1197, 0.8179],\n",
      "        [0.3738, 0.9161, 0.3744, 0.2546, 0.7406],\n",
      "        [0.6831, 0.8577, 0.6857, 0.7215, 0.6333]])\n",
      "Edge feature [feat_1] is saved to ./ondisk_dataset_homograph/edge-feat-1.pt\n",
      "\n"
     ]
    }
   ],
   "source": [
    "# Generate node feature in numpy array.\n",
    "node_feat_0_path = os.path.join(base_dir, \"node-feat-0.npy\")\n",
    "node_feat_0 = np.random.rand(num_nodes, 5)\n",
    "print(f\"Part of node feature [feat_0]: {node_feat_0[:3, :]}\")\n",
    "np.save(node_feat_0_path, node_feat_0)\n",
    "print(f\"Node feature [feat_0] is saved to {node_feat_0_path}\\n\")\n",
    "\n",
    "# Generate another node feature in torch tensor\n",
    "node_feat_1_path = os.path.join(base_dir, \"node-feat-1.pt\")\n",
    "node_feat_1 = torch.rand(num_nodes, 5)\n",
    "print(f\"Part of node feature [feat_1]: {node_feat_1[:3, :]}\")\n",
    "torch.save(node_feat_1, node_feat_1_path)\n",
    "print(f\"Node feature [feat_1] is saved to {node_feat_1_path}\\n\")\n",
    "\n",
    "# Generate edge feature in numpy array.\n",
    "edge_feat_0_path = os.path.join(base_dir, \"edge-feat-0.npy\")\n",
    "edge_feat_0 = np.random.rand(num_edges, 5)\n",
    "print(f\"Part of edge feature [feat_0]: {edge_feat_0[:3, :]}\")\n",
    "np.save(edge_feat_0_path, edge_feat_0)\n",
    "print(f\"Edge feature [feat_0] is saved to {edge_feat_0_path}\\n\")\n",
    "\n",
    "# Generate another edge feature in torch tensor\n",
    "edge_feat_1_path = os.path.join(base_dir, \"edge-feat-1.pt\")\n",
    "edge_feat_1 = torch.rand(num_edges, 5)\n",
    "print(f\"Part of edge feature [feat_1]: {edge_feat_1[:3, :]}\")\n",
    "torch.save(edge_feat_1, edge_feat_1_path)\n",
    "print(f\"Edge feature [feat_1] is saved to {edge_feat_1_path}\\n\")\n"
   ]
  },
  {
   "cell_type": "markdown",
   "metadata": {
    "id": "ZyqgOtsIwzh_"
   },
   "source": [
    "### Generate tasks\n",
    "`OnDiskDataset` supports multiple tasks. For each task, we need to prepare training/validation/test sets respectively. Such sets usually vary among different tasks. In this tutorial, let's create a **Node Classification** task and **Link Prediction** task."
   ]
  },
  {
   "cell_type": "markdown",
   "metadata": {
    "id": "hVxHaDIfzCkr"
   },
   "source": [
    "#### Node Classification Task\n",
    "For node classification task, we need **node IDs** and corresponding **labels** for each training/validation/test set. Like feature data, numpy arrays and torch tensors are supported for these sets."
   ]
  },
  {
   "cell_type": "code",
   "execution_count": 5,
   "metadata": {
    "execution": {
     "iopub.execute_input": "2024-10-21T13:20:12.480637Z",
     "iopub.status.busy": "2024-10-21T13:20:12.479900Z",
     "iopub.status.idle": "2024-10-21T13:20:12.492512Z",
     "shell.execute_reply": "2024-10-21T13:20:12.491595Z"
    },
    "id": "S5-fyBbHzTCO"
   },
   "outputs": [
    {
     "name": "stdout",
     "output_type": "stream",
     "text": [
      "Part of train ids for node classification: [322 289 681]\n",
      "NC train ids are saved to ./ondisk_dataset_homograph/nc-train-ids.npy\n",
      "\n",
      "Part of train labels for node classification: tensor([4, 7, 2])\n",
      "NC train labels are saved to ./ondisk_dataset_homograph/nc-train-labels.pt\n",
      "\n",
      "Part of val ids for node classification: [937 258 970]\n",
      "NC val ids are saved to ./ondisk_dataset_homograph/nc-val-ids.npy\n",
      "\n",
      "Part of val labels for node classification: tensor([5, 1, 0])\n",
      "NC val labels are saved to ./ondisk_dataset_homograph/nc-val-labels.pt\n",
      "\n",
      "Part of test ids for node classification: [587 379 425]\n",
      "NC test ids are saved to ./ondisk_dataset_homograph/nc-test-ids.npy\n",
      "\n",
      "Part of test labels for node classification: tensor([5, 1, 5])\n",
      "NC test labels are saved to ./ondisk_dataset_homograph/nc-test-labels.pt\n",
      "\n"
     ]
    }
   ],
   "source": [
    "num_trains = int(num_nodes * 0.6)\n",
    "num_vals = int(num_nodes * 0.2)\n",
    "num_tests = num_nodes - num_trains - num_vals\n",
    "\n",
    "ids = np.arange(num_nodes)\n",
    "np.random.shuffle(ids)\n",
    "\n",
    "nc_train_ids_path = os.path.join(base_dir, \"nc-train-ids.npy\")\n",
    "nc_train_ids = ids[:num_trains]\n",
    "print(f\"Part of train ids for node classification: {nc_train_ids[:3]}\")\n",
    "np.save(nc_train_ids_path, nc_train_ids)\n",
    "print(f\"NC train ids are saved to {nc_train_ids_path}\\n\")\n",
    "\n",
    "nc_train_labels_path = os.path.join(base_dir, \"nc-train-labels.pt\")\n",
    "nc_train_labels = torch.randint(0, 10, (num_trains,))\n",
    "print(f\"Part of train labels for node classification: {nc_train_labels[:3]}\")\n",
    "torch.save(nc_train_labels, nc_train_labels_path)\n",
    "print(f\"NC train labels are saved to {nc_train_labels_path}\\n\")\n",
    "\n",
    "nc_val_ids_path = os.path.join(base_dir, \"nc-val-ids.npy\")\n",
    "nc_val_ids = ids[num_trains:num_trains+num_vals]\n",
    "print(f\"Part of val ids for node classification: {nc_val_ids[:3]}\")\n",
    "np.save(nc_val_ids_path, nc_val_ids)\n",
    "print(f\"NC val ids are saved to {nc_val_ids_path}\\n\")\n",
    "\n",
    "nc_val_labels_path = os.path.join(base_dir, \"nc-val-labels.pt\")\n",
    "nc_val_labels = torch.randint(0, 10, (num_vals,))\n",
    "print(f\"Part of val labels for node classification: {nc_val_labels[:3]}\")\n",
    "torch.save(nc_val_labels, nc_val_labels_path)\n",
    "print(f\"NC val labels are saved to {nc_val_labels_path}\\n\")\n",
    "\n",
    "nc_test_ids_path = os.path.join(base_dir, \"nc-test-ids.npy\")\n",
    "nc_test_ids = ids[-num_tests:]\n",
    "print(f\"Part of test ids for node classification: {nc_test_ids[:3]}\")\n",
    "np.save(nc_test_ids_path, nc_test_ids)\n",
    "print(f\"NC test ids are saved to {nc_test_ids_path}\\n\")\n",
    "\n",
    "nc_test_labels_path = os.path.join(base_dir, \"nc-test-labels.pt\")\n",
    "nc_test_labels = torch.randint(0, 10, (num_tests,))\n",
    "print(f\"Part of test labels for node classification: {nc_test_labels[:3]}\")\n",
    "torch.save(nc_test_labels, nc_test_labels_path)\n",
    "print(f\"NC test labels are saved to {nc_test_labels_path}\\n\")"
   ]
  },
  {
   "cell_type": "markdown",
   "metadata": {
    "id": "LhAcDCHQ_KJ0"
   },
   "source": [
    "#### Link Prediction Task\n",
    "For link prediction task, we need **seeds** or **corresponding labels and indexes** which representing the pos/neg property and group of the seeds for each training/validation/test set. Like feature data, numpy arrays and torch tensors are supported for these sets."
   ]
  },
  {
   "cell_type": "code",
   "execution_count": 6,
   "metadata": {
    "execution": {
     "iopub.execute_input": "2024-10-21T13:20:12.495017Z",
     "iopub.status.busy": "2024-10-21T13:20:12.494612Z",
     "iopub.status.idle": "2024-10-21T13:20:12.513238Z",
     "shell.execute_reply": "2024-10-21T13:20:12.512386Z"
    },
    "id": "u0jCnXIcAQy4"
   },
   "outputs": [
    {
     "name": "stdout",
     "output_type": "stream",
     "text": [
      "Part of train seeds for link prediction: [[888 688]\n",
      " [753 581]\n",
      " [414 599]]\n",
      "LP train seeds are saved to ./ondisk_dataset_homograph/lp-train-seeds.npy\n",
      "\n",
      "Part of val seeds for link prediction: [[624 668]\n",
      " [ 94 936]\n",
      " [571 435]]\n",
      "LP val seeds are saved to ./ondisk_dataset_homograph/lp-val-seeds.npy\n",
      "\n",
      "Part of val labels for link prediction: [1. 1. 1.]\n",
      "LP val labels are saved to ./ondisk_dataset_homograph/lp-val-labels.npy\n",
      "\n",
      "Part of val indexes for link prediction: [0 1 2]\n",
      "LP val indexes are saved to ./ondisk_dataset_homograph/lp-val-indexes.npy\n",
      "\n",
      "Part of test seeds for link prediction: [[295 454]\n",
      " [180 379]\n",
      " [647 683]]\n",
      "LP test seeds are saved to ./ondisk_dataset_homograph/lp-test-seeds.npy\n",
      "\n",
      "Part of val labels for link prediction: [1. 1. 1.]\n",
      "LP test labels are saved to ./ondisk_dataset_homograph/lp-test-labels.npy\n",
      "\n",
      "Part of test indexes for link prediction: [0 1 2]\n",
      "LP test indexes are saved to ./ondisk_dataset_homograph/lp-test-indexes.npy\n",
      "\n"
     ]
    }
   ],
   "source": [
    "num_trains = int(num_edges * 0.6)\n",
    "num_vals = int(num_edges * 0.2)\n",
    "num_tests = num_edges - num_trains - num_vals\n",
    "\n",
    "lp_train_seeds_path = os.path.join(base_dir, \"lp-train-seeds.npy\")\n",
    "lp_train_seeds = edges[:num_trains, :]\n",
    "print(f\"Part of train seeds for link prediction: {lp_train_seeds[:3]}\")\n",
    "np.save(lp_train_seeds_path, lp_train_seeds)\n",
    "print(f\"LP train seeds are saved to {lp_train_seeds_path}\\n\")\n",
    "\n",
    "lp_val_seeds_path = os.path.join(base_dir, \"lp-val-seeds.npy\")\n",
    "lp_val_seeds = edges[num_trains:num_trains+num_vals, :]\n",
    "lp_val_neg_dsts = np.random.randint(0, num_nodes, (num_vals, 10)).reshape(-1)\n",
    "lp_val_neg_srcs = np.repeat(lp_val_seeds[:,0], 10)\n",
    "lp_val_neg_seeds = np.concatenate((lp_val_neg_srcs, lp_val_neg_dsts)).reshape(2,-1).T\n",
    "lp_val_seeds = np.concatenate((lp_val_seeds, lp_val_neg_seeds))\n",
    "print(f\"Part of val seeds for link prediction: {lp_val_seeds[:3]}\")\n",
    "np.save(lp_val_seeds_path, lp_val_seeds)\n",
    "print(f\"LP val seeds are saved to {lp_val_seeds_path}\\n\")\n",
    "\n",
    "lp_val_labels_path = os.path.join(base_dir, \"lp-val-labels.npy\")\n",
    "lp_val_labels = np.empty(num_vals * (10 + 1))\n",
    "lp_val_labels[:num_vals] = 1\n",
    "lp_val_labels[num_vals:] = 0\n",
    "print(f\"Part of val labels for link prediction: {lp_val_labels[:3]}\")\n",
    "np.save(lp_val_labels_path, lp_val_labels)\n",
    "print(f\"LP val labels are saved to {lp_val_labels_path}\\n\")\n",
    "\n",
    "lp_val_indexes_path = os.path.join(base_dir, \"lp-val-indexes.npy\")\n",
    "lp_val_indexes = np.arange(0, num_vals)\n",
    "lp_val_neg_indexes = np.repeat(lp_val_indexes, 10)\n",
    "lp_val_indexes = np.concatenate([lp_val_indexes, lp_val_neg_indexes])\n",
    "print(f\"Part of val indexes for link prediction: {lp_val_indexes[:3]}\")\n",
    "np.save(lp_val_indexes_path, lp_val_indexes)\n",
    "print(f\"LP val indexes are saved to {lp_val_indexes_path}\\n\")\n",
    "\n",
    "lp_test_seeds_path = os.path.join(base_dir, \"lp-test-seeds.npy\")\n",
    "lp_test_seeds = edges[-num_tests:, :]\n",
    "lp_test_neg_dsts = np.random.randint(0, num_nodes, (num_tests, 10)).reshape(-1)\n",
    "lp_test_neg_srcs = np.repeat(lp_test_seeds[:,0], 10)\n",
    "lp_test_neg_seeds = np.concatenate((lp_test_neg_srcs, lp_test_neg_dsts)).reshape(2,-1).T\n",
    "lp_test_seeds = np.concatenate((lp_test_seeds, lp_test_neg_seeds))\n",
    "print(f\"Part of test seeds for link prediction: {lp_test_seeds[:3]}\")\n",
    "np.save(lp_test_seeds_path, lp_test_seeds)\n",
    "print(f\"LP test seeds are saved to {lp_test_seeds_path}\\n\")\n",
    "\n",
    "lp_test_labels_path = os.path.join(base_dir, \"lp-test-labels.npy\")\n",
    "lp_test_labels = np.empty(num_tests * (10 + 1))\n",
    "lp_test_labels[:num_tests] = 1\n",
    "lp_test_labels[num_tests:] = 0\n",
    "print(f\"Part of val labels for link prediction: {lp_test_labels[:3]}\")\n",
    "np.save(lp_test_labels_path, lp_test_labels)\n",
    "print(f\"LP test labels are saved to {lp_test_labels_path}\\n\")\n",
    "\n",
    "lp_test_indexes_path = os.path.join(base_dir, \"lp-test-indexes.npy\")\n",
    "lp_test_indexes = np.arange(0, num_tests)\n",
    "lp_test_neg_indexes = np.repeat(lp_test_indexes, 10)\n",
    "lp_test_indexes = np.concatenate([lp_test_indexes, lp_test_neg_indexes])\n",
    "print(f\"Part of test indexes for link prediction: {lp_test_indexes[:3]}\")\n",
    "np.save(lp_test_indexes_path, lp_test_indexes)\n",
    "print(f\"LP test indexes are saved to {lp_test_indexes_path}\\n\")"
   ]
  },
  {
   "cell_type": "markdown",
   "metadata": {
    "id": "wbk6-wxRK-6S"
   },
   "source": [
    "## Organize Data into YAML File\n",
    "Now we need to create a `metadata.yaml` file which contains the paths, dadta types of graph structure, feature data, training/validation/test sets.\n",
    "\n",
    "Notes:\n",
    "- all path should be relative to `metadata.yaml`.\n",
    "- Below fields are optional and not specified in below example.\n",
    "  - `in_memory`: indicates whether to load dada into memory or `mmap`. Default is `True`.\n",
    "\n",
    "Please refer to [YAML specification](https://github.com/dmlc/dgl/blob/master/docs/source/stochastic_training/ondisk-dataset-specification.rst) for more details."
   ]
  },
  {
   "cell_type": "code",
   "execution_count": 7,
   "metadata": {
    "execution": {
     "iopub.execute_input": "2024-10-21T13:20:12.515787Z",
     "iopub.status.busy": "2024-10-21T13:20:12.515292Z",
     "iopub.status.idle": "2024-10-21T13:20:12.521640Z",
     "shell.execute_reply": "2024-10-21T13:20:12.520768Z"
    },
    "id": "ddGTWW61Lpwp"
   },
   "outputs": [],
   "source": [
    "yaml_content = f\"\"\"\n",
    "    dataset_name: homogeneous_graph_nc_lp\n",
    "    graph:\n",
    "      nodes:\n",
    "        - num: {num_nodes}\n",
    "      edges:\n",
    "        - format: csv\n",
    "          path: {os.path.basename(edges_path)}\n",
    "    feature_data:\n",
    "      - domain: node\n",
    "        name: feat_0\n",
    "        format: numpy\n",
    "        path: {os.path.basename(node_feat_0_path)}\n",
    "      - domain: node\n",
    "        name: feat_1\n",
    "        format: torch\n",
    "        path: {os.path.basename(node_feat_1_path)}\n",
    "      - domain: edge\n",
    "        name: feat_0\n",
    "        format: numpy\n",
    "        path: {os.path.basename(edge_feat_0_path)}\n",
    "      - domain: edge\n",
    "        name: feat_1\n",
    "        format: torch\n",
    "        path: {os.path.basename(edge_feat_1_path)}\n",
    "    tasks:\n",
    "      - name: node_classification\n",
    "        num_classes: 10\n",
    "        train_set:\n",
    "          - data:\n",
    "              - name: seeds\n",
    "                format: numpy\n",
    "                path: {os.path.basename(nc_train_ids_path)}\n",
    "              - name: labels\n",
    "                format: torch\n",
    "                path: {os.path.basename(nc_train_labels_path)}\n",
    "        validation_set:\n",
    "          - data:\n",
    "              - name: seeds\n",
    "                format: numpy\n",
    "                path: {os.path.basename(nc_val_ids_path)}\n",
    "              - name: labels\n",
    "                format: torch\n",
    "                path: {os.path.basename(nc_val_labels_path)}\n",
    "        test_set:\n",
    "          - data:\n",
    "              - name: seeds\n",
    "                format: numpy\n",
    "                path: {os.path.basename(nc_test_ids_path)}\n",
    "              - name: labels\n",
    "                format: torch\n",
    "                path: {os.path.basename(nc_test_labels_path)}\n",
    "      - name: link_prediction\n",
    "        num_classes: 10\n",
    "        train_set:\n",
    "          - data:\n",
    "              - name: seeds\n",
    "                format: numpy\n",
    "                path: {os.path.basename(lp_train_seeds_path)}\n",
    "        validation_set:\n",
    "          - data:\n",
    "              - name: seeds\n",
    "                format: numpy\n",
    "                path: {os.path.basename(lp_val_seeds_path)}\n",
    "              - name: labels\n",
    "                format: numpy\n",
    "                path: {os.path.basename(lp_val_labels_path)}\n",
    "              - name: indexes\n",
    "                format: numpy\n",
    "                path: {os.path.basename(lp_val_indexes_path)}\n",
    "        test_set:\n",
    "          - data:\n",
    "              - name: seeds\n",
    "                format: numpy\n",
    "                path: {os.path.basename(lp_test_seeds_path)}\n",
    "              - name: labels\n",
    "                format: numpy\n",
    "                path: {os.path.basename(lp_test_labels_path)}\n",
    "              - name: indexes\n",
    "                format: numpy\n",
    "                path: {os.path.basename(lp_test_indexes_path)}\n",
    "\"\"\"\n",
    "metadata_path = os.path.join(base_dir, \"metadata.yaml\")\n",
    "with open(metadata_path, \"w\") as f:\n",
    "  f.write(yaml_content)"
   ]
  },
  {
   "cell_type": "markdown",
   "metadata": {
    "id": "kEfybHGhOW7O"
   },
   "source": [
    "## Instantiate `OnDiskDataset`\n",
    "Now we're ready to load dataset via `dgl.graphbolt.OnDiskDataset`. When instantiating, we just pass in the base directory where `metadata.yaml` file lies.\n",
    "\n",
    "During first instantiation, GraphBolt preprocesses the raw data such as constructing `FusedCSCSamplingGraph` from edges. All data including graph, feature data, training/validation/test sets are put into `preprocessed` directory after preprocessing. Any following dataset loading will skip the preprocess stage.\n",
    "\n",
    "After preprocessing, `load()` is required to be called explicitly in order to load graph, feature data and tasks."
   ]
  },
  {
   "cell_type": "code",
   "execution_count": 8,
   "metadata": {
    "execution": {
     "iopub.execute_input": "2024-10-21T13:20:12.524084Z",
     "iopub.status.busy": "2024-10-21T13:20:12.523875Z",
     "iopub.status.idle": "2024-10-21T13:20:12.599819Z",
     "shell.execute_reply": "2024-10-21T13:20:12.599230Z"
    },
    "id": "W58CZoSzOiyo"
   },
   "outputs": [
    {
     "name": "stdout",
     "output_type": "stream",
     "text": [
      "Start to preprocess the on-disk dataset.\n",
      "Finish preprocessing the on-disk dataset.\n",
      "Loaded graph: FusedCSCSamplingGraph(csc_indptr=tensor([    0,    11,    22,  ...,  9981,  9990, 10000], dtype=torch.int32),\n",
      "                      indices=tensor([108, 139, 941,  ..., 814, 615, 152], dtype=torch.int32),\n",
      "                      total_num_nodes=1000, num_edges=10000,)\n",
      "\n",
      "Loaded feature store: TorchBasedFeatureStore(\n",
      "    {(<OnDiskFeatureDataDomain.NODE: 'node'>, None, 'feat_0'): TorchBasedFeature(\n",
      "        feature=tensor([[0.6474, 0.8772, 0.6591, 0.9427, 0.5100],\n",
      "                        [0.5908, 0.6056, 0.2145, 0.4480, 0.8390],\n",
      "                        [0.3402, 0.9769, 0.0478, 0.4666, 0.6595],\n",
      "                        ...,\n",
      "                        [0.5543, 0.4722, 0.5802, 0.7354, 0.4638],\n",
      "                        [0.6990, 0.3469, 0.2053, 0.1014, 0.1838],\n",
      "                        [0.2189, 0.5303, 0.7167, 0.9044, 0.1083]], dtype=torch.float64),\n",
      "        metadata={},\n",
      "    ), (<OnDiskFeatureDataDomain.NODE: 'node'>, None, 'feat_1'): TorchBasedFeature(\n",
      "        feature=tensor([[0.5427, 0.1412, 0.7853, 0.6554, 0.6201],\n",
      "                        [0.8954, 0.0498, 0.4596, 0.7404, 0.3201],\n",
      "                        [0.3413, 0.8808, 0.3073, 0.5748, 0.5611],\n",
      "                        ...,\n",
      "                        [0.6245, 0.6801, 0.4816, 0.7282, 0.5685],\n",
      "                        [0.9292, 0.5416, 0.0026, 0.2048, 0.1780],\n",
      "                        [0.8383, 0.3278, 0.1758, 0.3247, 0.8393]]),\n",
      "        metadata={},\n",
      "    ), (<OnDiskFeatureDataDomain.EDGE: 'edge'>, None, 'feat_0'): TorchBasedFeature(\n",
      "        feature=tensor([[0.0950, 0.2085, 0.7972, 0.0425, 0.6068],\n",
      "                        [0.6679, 0.2419, 0.2049, 0.8035, 0.8834],\n",
      "                        [0.2370, 0.8120, 0.0607, 0.2393, 0.9420],\n",
      "                        ...,\n",
      "                        [0.2949, 0.4198, 0.9610, 0.5894, 0.8689],\n",
      "                        [0.2196, 0.4789, 0.4889, 0.3790, 0.1727],\n",
      "                        [0.3827, 0.7212, 0.8183, 0.5444, 0.2049]], dtype=torch.float64),\n",
      "        metadata={},\n",
      "    ), (<OnDiskFeatureDataDomain.EDGE: 'edge'>, None, 'feat_1'): TorchBasedFeature(\n",
      "        feature=tensor([[0.5723, 0.3242, 0.5465, 0.1197, 0.8179],\n",
      "                        [0.3738, 0.9161, 0.3744, 0.2546, 0.7406],\n",
      "                        [0.6831, 0.8577, 0.6857, 0.7215, 0.6333],\n",
      "                        ...,\n",
      "                        [0.1724, 0.3783, 0.5838, 0.9103, 0.2238],\n",
      "                        [0.3868, 0.3458, 0.1370, 0.0569, 0.9884],\n",
      "                        [0.2694, 0.1633, 0.1586, 0.4389, 0.5414]]),\n",
      "        metadata={},\n",
      "    )}\n",
      ")\n",
      "\n",
      "Loaded node classification task: OnDiskTask(validation_set=ItemSet(\n",
      "               items=(tensor([937, 258, 970, 604, 166, 920, 888, 253, 575, 533, 657, 787,  68, 242,\n",
      "                   100, 583, 764, 831, 395, 397, 516, 102, 120, 249,  82, 399, 515, 421,\n",
      "                   459, 430, 607, 649,  27, 913, 491, 203, 252, 901, 569, 171, 332, 290,\n",
      "                   180, 873, 608, 115, 121, 415, 567, 896, 560, 317,  18, 194,  28, 821,\n",
      "                   188, 232, 298, 303, 718, 449, 652, 699, 475, 125, 948, 272, 824, 674,\n",
      "                   584, 262, 356, 710, 197, 891, 538, 810,  16,  70, 660, 295, 737, 595,\n",
      "                   642, 928, 557, 750, 967,   2, 497, 372, 610, 960, 871, 414, 509, 659,\n",
      "                   363, 409, 240, 665, 149, 274, 469, 758,  40, 987, 383, 226, 953, 508,\n",
      "                   534, 798, 900, 139,  23,  54, 292, 865, 807, 439, 316, 606, 919, 170,\n",
      "                   849, 118, 654, 782, 936, 728, 131, 982, 994, 822, 478, 304, 273,   9,\n",
      "                   752, 713,  81, 103, 597, 881, 684, 590, 514, 448, 773, 839, 603,  90,\n",
      "                   651, 623, 616, 393, 349, 601, 324, 366, 428, 694,  99, 847, 672,  86,\n",
      "                   676, 554, 908, 373, 877, 140, 775, 202, 932, 313,  48, 785, 690, 129,\n",
      "                    33, 991, 154, 853,  89, 854, 620, 444,   0,   8, 730, 517, 453, 371,\n",
      "                   558, 268, 412, 993], dtype=torch.int32), tensor([5, 1, 0, 2, 1, 7, 3, 6, 5, 0, 6, 9, 1, 1, 3, 0, 4, 5, 5, 3, 8, 0, 9, 9,\n",
      "                   8, 3, 6, 0, 3, 9, 0, 2, 6, 4, 3, 8, 8, 9, 9, 1, 2, 4, 4, 0, 4, 0, 1, 4,\n",
      "                   1, 3, 8, 7, 0, 8, 5, 6, 9, 3, 7, 2, 9, 9, 2, 1, 6, 5, 0, 8, 7, 4, 2, 2,\n",
      "                   2, 0, 6, 3, 5, 4, 8, 2, 0, 2, 0, 1, 4, 7, 5, 7, 0, 0, 0, 4, 4, 1, 3, 5,\n",
      "                   6, 3, 1, 3, 7, 8, 4, 3, 2, 6, 5, 6, 2, 4, 0, 0, 6, 0, 3, 3, 6, 9, 7, 8,\n",
      "                   2, 0, 4, 8, 5, 7, 7, 9, 8, 3, 7, 3, 7, 7, 0, 8, 0, 4, 4, 2, 6, 4, 7, 1,\n",
      "                   7, 4, 9, 0, 8, 6, 0, 1, 3, 0, 6, 1, 2, 6, 9, 0, 3, 7, 4, 4, 7, 1, 2, 6,\n",
      "                   5, 3, 9, 1, 4, 9, 6, 4, 2, 9, 0, 8, 7, 4, 4, 0, 4, 3, 7, 6, 0, 0, 3, 2,\n",
      "                   0, 9, 5, 0, 0, 8, 4, 2])),\n",
      "               names=('seeds', 'labels'),\n",
      "           ),\n",
      "           train_set=ItemSet(\n",
      "               items=(tensor([322, 289, 681, 823, 137, 942, 479, 364, 578, 670, 875, 326,  47,  44,\n",
      "                   435, 835, 692, 800, 218, 408, 688, 545, 250, 741, 889, 215, 885, 206,\n",
      "                   200, 912, 636, 955, 101, 668, 236, 662, 299, 975, 263,  61, 725, 630,\n",
      "                   682, 271, 806, 270, 241, 452,  30, 977, 923, 243, 340, 214, 698, 127,\n",
      "                   231,  73, 380, 468, 886, 570, 938, 971, 892, 155, 833, 237,  15,   3,\n",
      "                   146, 502, 765, 133, 667, 376, 841, 136, 511, 600, 311, 855, 956, 922,\n",
      "                   144, 915, 579, 437,  77, 217, 191, 523, 128, 834, 119, 113, 553,  58,\n",
      "                   927, 689, 712, 512, 559, 504, 207, 596, 619, 499, 293, 181, 204, 235,\n",
      "                    94, 370, 283, 609, 869, 830, 860, 245, 209, 903, 489, 965, 306, 625,\n",
      "                   796,  84, 859, 695, 797, 749, 525, 107, 693, 123, 738, 496, 539, 704,\n",
      "                   309,  69, 353, 895, 795, 536, 577, 410, 804, 208, 814, 574, 111, 827,\n",
      "                   416, 177, 351, 794, 926, 345,  26, 864, 902, 897, 572, 874, 852,  20,\n",
      "                   565, 510, 661, 941, 294, 457, 417, 647, 500, 429, 173, 996, 462,  42,\n",
      "                   808, 145, 655, 141,  95,  38, 780, 777,  50, 450, 933, 615, 281, 602,\n",
      "                   628, 947,  65, 526, 466, 346, 543, 756, 369, 265,  85, 887, 323, 770,\n",
      "                   244, 716, 503, 658, 147, 666, 802, 308, 984,  59, 394, 387, 767, 159,\n",
      "                   305, 846, 221, 683, 501, 880,   1, 278, 152, 633, 876, 334, 612, 384,\n",
      "                   537, 791, 251, 153, 337, 196, 407, 639, 815, 392,  66, 732, 656, 301,\n",
      "                   404, 335, 440, 255, 548, 678, 980, 321, 192, 205, 427, 222, 820, 225,\n",
      "                   634, 697, 829, 754,  64, 374, 776, 551, 950, 254, 357, 498,  11, 986,\n",
      "                   828, 898, 413, 256, 269, 422, 969, 845, 259,  19,  22,  41, 307, 132,\n",
      "                   736, 401, 445, 614, 358, 210, 381,  53, 580, 627, 108, 734, 405, 114,\n",
      "                   870,  51, 176,  14, 731, 520, 458,  24,  10, 626, 124, 786, 629, 931,\n",
      "                   566, 319, 456, 330, 709, 742, 189, 248, 599, 310, 354,  76, 168, 493,\n",
      "                   530, 974,  83,  79, 774, 720, 162,  97, 866, 978, 438,  29, 481, 156,\n",
      "                   331,  88, 650, 178,  49, 867,  21, 571, 748, 893, 174,  39, 617, 549,\n",
      "                   521, 463, 743, 104, 266, 201, 817, 766, 631, 582, 467, 818, 843, 576,\n",
      "                   760, 816, 329, 460, 632, 924, 593, 447, 685, 851, 954, 995, 641, 973,\n",
      "                   195, 312, 285, 342, 671, 916,  57, 455, 529, 480,  80, 277, 790, 350,\n",
      "                   925, 618,  60, 598, 943, 700, 753, 219,  36, 894, 185, 696, 740, 550,\n",
      "                    46, 840, 605, 653, 940, 182, 622,  43, 234,  17, 564,  37, 348, 862,\n",
      "                   461, 532, 964, 148, 546, 863, 917, 388, 952,  56, 216,  91, 979, 267,\n",
      "                    92, 122, 772, 722, 899, 288, 844, 946, 939, 327,   4, 768, 264, 375,\n",
      "                   485, 904, 747, 784, 541, 957, 338, 492, 238, 907, 426, 702, 621, 727,\n",
      "                   769, 280, 488, 276, 495, 513, 403, 793, 199, 302, 645, 910, 230, 482,\n",
      "                     7, 224,  45, 223, 729, 368, 436, 398, 961, 686, 451, 528,  98, 183,\n",
      "                   423, 355, 788, 464, 687, 958, 573, 544, 112, 733, 257, 680, 664, 490,\n",
      "                   522, 494, 359, 320, 325, 726, 635,  78, 825, 126, 109, 882, 378, 763,\n",
      "                   781, 506, 990, 918, 134, 890,  71, 542, 691, 247, 594, 261, 385,   5,\n",
      "                   418, 715, 935,  67, 972, 949, 669, 761, 246, 474,  34, 540, 190, 228,\n",
      "                   637, 675,  25, 771, 857, 347, 714, 172, 446, 944, 336, 751, 999, 581,\n",
      "                   110, 220, 487,  75, 142,  31, 135, 434, 562, 648, 779, 184, 611,  12,\n",
      "                   711, 365, 157, 318, 586, 759, 524, 707, 211, 472, 673, 803],\n",
      "                  dtype=torch.int32), tensor([4, 7, 2, 2, 6, 5, 3, 0, 3, 8, 4, 9, 3, 7, 4, 5, 1, 7, 7, 4, 0, 4, 9, 4,\n",
      "                   3, 4, 0, 2, 0, 0, 2, 4, 2, 7, 9, 9, 1, 9, 3, 5, 0, 6, 9, 5, 2, 6, 9, 8,\n",
      "                   6, 2, 5, 5, 6, 6, 7, 5, 3, 3, 8, 8, 7, 4, 5, 0, 3, 0, 2, 6, 7, 5, 9, 5,\n",
      "                   4, 4, 3, 7, 7, 9, 5, 6, 2, 2, 1, 7, 9, 1, 4, 0, 6, 4, 0, 6, 7, 5, 3, 1,\n",
      "                   5, 0, 4, 4, 0, 7, 4, 7, 5, 9, 1, 4, 7, 5, 5, 0, 0, 3, 5, 1, 2, 5, 8, 9,\n",
      "                   4, 4, 9, 7, 7, 6, 6, 4, 2, 7, 6, 7, 8, 6, 0, 3, 1, 5, 9, 1, 1, 4, 1, 3,\n",
      "                   9, 8, 5, 6, 7, 7, 0, 3, 3, 8, 5, 1, 3, 5, 9, 2, 5, 5, 2, 0, 5, 4, 5, 4,\n",
      "                   8, 8, 9, 8, 7, 3, 3, 4, 2, 1, 6, 5, 0, 3, 3, 8, 3, 0, 0, 2, 2, 3, 6, 5,\n",
      "                   6, 1, 6, 2, 9, 2, 3, 9, 4, 6, 7, 3, 0, 2, 7, 2, 5, 5, 0, 7, 8, 9, 0, 0,\n",
      "                   9, 9, 7, 5, 9, 3, 1, 2, 2, 1, 5, 2, 6, 4, 5, 7, 3, 6, 4, 5, 4, 0, 5, 3,\n",
      "                   8, 2, 6, 6, 1, 2, 8, 4, 2, 0, 1, 3, 8, 6, 2, 2, 8, 4, 5, 1, 4, 2, 5, 8,\n",
      "                   3, 4, 9, 4, 4, 6, 1, 7, 7, 1, 9, 2, 6, 1, 2, 2, 9, 6, 3, 6, 9, 2, 5, 6,\n",
      "                   6, 8, 4, 1, 4, 2, 8, 8, 1, 8, 8, 7, 8, 7, 7, 4, 2, 8, 0, 6, 4, 9, 7, 4,\n",
      "                   6, 2, 0, 3, 7, 1, 0, 5, 4, 8, 2, 7, 3, 3, 6, 1, 4, 2, 0, 3, 3, 4, 0, 4,\n",
      "                   2, 8, 6, 5, 1, 4, 8, 2, 3, 3, 0, 7, 7, 2, 0, 3, 6, 8, 3, 5, 5, 1, 3, 8,\n",
      "                   9, 5, 9, 3, 9, 4, 3, 3, 8, 5, 6, 4, 7, 4, 1, 0, 1, 8, 7, 3, 9, 4, 9, 6,\n",
      "                   1, 6, 7, 2, 4, 0, 8, 3, 8, 3, 8, 9, 6, 0, 8, 3, 6, 3, 7, 9, 9, 9, 7, 4,\n",
      "                   4, 4, 5, 5, 0, 3, 7, 2, 5, 1, 2, 2, 2, 0, 2, 9, 9, 8, 7, 1, 3, 8, 0, 2,\n",
      "                   6, 7, 2, 6, 0, 1, 2, 4, 9, 3, 7, 3, 1, 0, 2, 4, 0, 8, 9, 0, 8, 8, 2, 5,\n",
      "                   8, 3, 1, 9, 2, 3, 7, 8, 5, 0, 6, 7, 2, 0, 2, 9, 1, 9, 7, 5, 9, 1, 8, 8,\n",
      "                   1, 4, 3, 7, 8, 3, 7, 5, 3, 8, 0, 4, 3, 5, 8, 3, 1, 9, 3, 5, 9, 9, 6, 0,\n",
      "                   3, 3, 7, 2, 8, 6, 5, 3, 9, 5, 6, 5, 3, 7, 3, 6, 5, 9, 7, 0, 0, 4, 4, 6,\n",
      "                   9, 8, 8, 9, 2, 4, 3, 0, 2, 7, 0, 1, 7, 6, 9, 5, 5, 5, 5, 3, 1, 4, 3, 9,\n",
      "                   8, 7, 3, 5, 3, 3, 8, 0, 1, 8, 4, 9, 7, 0, 0, 7, 2, 4, 2, 3, 8, 2, 9, 8,\n",
      "                   7, 8, 9, 0, 1, 6, 8, 3, 0, 5, 6, 1, 8, 0, 6, 5, 4, 8, 2, 3, 9, 1, 5, 0])),\n",
      "               names=('seeds', 'labels'),\n",
      "           ),\n",
      "           test_set=ItemSet(\n",
      "               items=(tensor([587, 379, 425, 420, 836,  32, 442, 179, 296, 983, 997, 341, 400, 406,\n",
      "                    93, 198, 361, 167, 879,  62, 116, 443, 161, 914, 613, 705,   6, 963,\n",
      "                   842, 483, 988, 819, 465, 518, 193, 909, 377, 138, 850, 555, 328, 701,\n",
      "                   419, 663,  63, 744, 739, 164, 367, 976, 724, 861, 165, 832, 677, 187,\n",
      "                   789, 275, 706, 391, 723, 757, 921, 708, 805, 477, 117,  87, 981,  55,\n",
      "                   929, 735, 239, 717, 411, 837, 486, 812, 476, 985, 868, 778, 962,  96,\n",
      "                   721, 643, 755, 568, 561, 360, 362,  74, 799, 745, 314, 470, 883, 884,\n",
      "                   339, 297, 130, 169, 213, 848, 589, 547, 989, 484, 175, 801, 719, 878,\n",
      "                   431, 282, 519, 762, 212, 858, 966, 291, 105, 905, 624, 552, 856, 186,\n",
      "                   382, 811, 229, 809, 286, 679, 813, 556, 150, 158, 563, 333, 424, 592,\n",
      "                   300, 390, 163,  72, 505, 535, 106, 287, 507, 703, 992, 746, 160,  13,\n",
      "                   872, 638, 646, 471, 143, 640, 396, 352, 945, 998, 433, 402, 911, 432,\n",
      "                   315, 934, 838,  35, 441, 233, 473, 227, 527,  52, 279, 454, 151, 344,\n",
      "                   959, 343, 585, 389, 951, 591, 644, 906, 588, 968, 826, 260, 386, 284,\n",
      "                   930, 783, 792, 531], dtype=torch.int32), tensor([5, 1, 5, 0, 3, 5, 8, 5, 7, 5, 7, 8, 2, 6, 1, 8, 5, 2, 6, 2, 1, 0, 5, 0,\n",
      "                   8, 6, 2, 7, 2, 2, 3, 3, 9, 3, 1, 1, 1, 6, 4, 5, 0, 4, 6, 3, 9, 3, 6, 7,\n",
      "                   4, 3, 5, 0, 4, 5, 4, 5, 6, 7, 2, 8, 8, 7, 3, 6, 2, 5, 5, 8, 3, 9, 1, 6,\n",
      "                   6, 9, 2, 9, 9, 1, 7, 8, 0, 5, 8, 0, 4, 2, 0, 8, 6, 2, 2, 2, 2, 5, 0, 2,\n",
      "                   6, 8, 3, 2, 4, 8, 0, 1, 4, 3, 4, 7, 4, 0, 9, 5, 9, 1, 4, 7, 0, 6, 0, 5,\n",
      "                   7, 1, 5, 3, 7, 7, 6, 4, 4, 4, 8, 3, 2, 4, 0, 3, 1, 6, 2, 3, 4, 3, 1, 6,\n",
      "                   1, 6, 3, 2, 5, 7, 5, 6, 4, 2, 4, 7, 1, 1, 6, 6, 0, 9, 1, 6, 4, 1, 6, 1,\n",
      "                   4, 6, 6, 9, 9, 2, 0, 5, 5, 7, 9, 5, 0, 7, 4, 0, 6, 9, 9, 0, 3, 4, 1, 9,\n",
      "                   9, 3, 8, 4, 7, 2, 8, 8])),\n",
      "               names=('seeds', 'labels'),\n",
      "           ),\n",
      "           metadata={'name': 'node_classification', 'num_classes': 10},)\n",
      "\n",
      "Loaded link prediction task: OnDiskTask(validation_set=ItemSet(\n",
      "               items=(tensor([[624, 668],\n",
      "                   [ 94, 936],\n",
      "                   [571, 435],\n",
      "                   ...,\n",
      "                   [486, 440],\n",
      "                   [486, 583],\n",
      "                   [486, 248]], dtype=torch.int32), tensor([1., 1., 1.,  ..., 0., 0., 0.], dtype=torch.float64), tensor([   0,    1,    2,  ..., 1999, 1999, 1999])),\n",
      "               names=('seeds', 'labels', 'indexes'),\n",
      "           ),\n",
      "           train_set=ItemSet(\n",
      "               items=(tensor([[888, 688],\n",
      "                   [753, 581],\n",
      "                   [414, 599],\n",
      "                   ...,\n",
      "                   [396, 421],\n",
      "                   [261,  55],\n",
      "                   [324, 151]], dtype=torch.int32),),\n",
      "               names=('seeds',),\n",
      "           ),\n",
      "           test_set=ItemSet(\n",
      "               items=(tensor([[295, 454],\n",
      "                   [180, 379],\n",
      "                   [647, 683],\n",
      "                   ...,\n",
      "                   [434, 770],\n",
      "                   [434, 864],\n",
      "                   [434, 283]], dtype=torch.int32), tensor([1., 1., 1.,  ..., 0., 0., 0.], dtype=torch.float64), tensor([   0,    1,    2,  ..., 1999, 1999, 1999])),\n",
      "               names=('seeds', 'labels', 'indexes'),\n",
      "           ),\n",
      "           metadata={'name': 'link_prediction', 'num_classes': 10},)\n",
      "\n"
     ]
    },
    {
     "name": "stderr",
     "output_type": "stream",
     "text": [
      "/dgl/python/dgl/graphbolt/impl/ondisk_dataset.py:463: GBWarning: Edge feature is stored, but edge IDs are not saved.\n",
      "  gb_warning(\"Edge feature is stored, but edge IDs are not saved.\")\n"
     ]
    }
   ],
   "source": [
    "dataset = gb.OnDiskDataset(base_dir).load()\n",
    "graph = dataset.graph\n",
    "print(f\"Loaded graph: {graph}\\n\")\n",
    "\n",
    "feature = dataset.feature\n",
    "print(f\"Loaded feature store: {feature}\\n\")\n",
    "\n",
    "tasks = dataset.tasks\n",
    "nc_task = tasks[0]\n",
    "print(f\"Loaded node classification task: {nc_task}\\n\")\n",
    "lp_task = tasks[1]\n",
    "print(f\"Loaded link prediction task: {lp_task}\\n\")"
   ]
  }
 ],
 "metadata": {
  "colab": {
   "private_outputs": true,
   "provenance": []
  },
  "kernelspec": {
   "display_name": "Python 3",
   "name": "python3"
  },
  "language_info": {
   "codemirror_mode": {
    "name": "ipython",
    "version": 3
   },
   "file_extension": ".py",
   "mimetype": "text/x-python",
   "name": "python",
   "nbconvert_exporter": "python",
   "pygments_lexer": "ipython3",
   "version": "3.10.15"
  }
 },
 "nbformat": 4,
 "nbformat_minor": 0
}

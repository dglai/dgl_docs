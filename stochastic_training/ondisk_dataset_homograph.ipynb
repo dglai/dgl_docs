{
 "cells": [
  {
   "cell_type": "markdown",
   "metadata": {
    "id": "FnFhPMaAfLtJ"
   },
   "source": [
    "# OnDiskDataset for Homogeneous Graph\n",
    "\n",
    "[![Open In Colab](https://colab.research.google.com/assets/colab-badge.svg)](https://colab.research.google.com/github/dmlc/dgl/blob/master/notebooks/stochastic_training/ondisk_dataset_homograph.ipynb) [![GitHub](https://img.shields.io/badge/-View%20on%20GitHub-181717?logo=github&logoColor=ffffff)](https://github.com/dmlc/dgl/blob/master/notebooks/stochastic_training/ondisk_dataset_homograph.ipynb)\n",
    "\n",
    "This tutorial shows how to create `OnDiskDataset` for homogeneous graph that could be used in **GraphBolt** framework.\n",
    "\n",
    "By the end of this tutorial, you will be able to\n",
    "\n",
    "- organize graph structure data.\n",
    "- organize feature data.\n",
    "- organize training/validation/test set for specific tasks.\n",
    "\n",
    "To create an ``OnDiskDataset`` object, you need to organize all the data including graph structure, feature data and tasks into a directory. The directory should contain a ``metadata.yaml`` file that describes the metadata of the dataset.\n",
    "\n",
    "Now let's generate various data step by step and organize them together to instantiate `OnDiskDataset` finally."
   ]
  },
  {
   "cell_type": "markdown",
   "metadata": {
    "id": "Wlb19DtWgtzq"
   },
   "source": [
    "## Install DGL package"
   ]
  },
  {
   "cell_type": "code",
   "execution_count": 1,
   "metadata": {
    "execution": {
     "iopub.execute_input": "2024-10-16T13:17:21.894115Z",
     "iopub.status.busy": "2024-10-16T13:17:21.893671Z",
     "iopub.status.idle": "2024-10-16T13:17:24.940513Z",
     "shell.execute_reply": "2024-10-16T13:17:24.939608Z"
    },
    "id": "UojlT9ZGgyr9"
   },
   "outputs": [
    {
     "name": "stdout",
     "output_type": "stream",
     "text": [
      "Looking in links: https://data.dgl.ai/wheels-test/repo.html\r\n",
      "Requirement already satisfied: dgl in /opt/conda/envs/dgl-dev-cpu/lib/python3.10/site-packages (2.2a240410)\r\n",
      "Requirement already satisfied: numpy>=1.14.0 in /opt/conda/envs/dgl-dev-cpu/lib/python3.10/site-packages (from dgl) (1.26.4)\r\n",
      "Requirement already satisfied: scipy>=1.1.0 in /opt/conda/envs/dgl-dev-cpu/lib/python3.10/site-packages (from dgl) (1.14.1)\r\n",
      "Requirement already satisfied: networkx>=2.1 in /opt/conda/envs/dgl-dev-cpu/lib/python3.10/site-packages (from dgl) (3.4.1)\r\n",
      "Requirement already satisfied: requests>=2.19.0 in /opt/conda/envs/dgl-dev-cpu/lib/python3.10/site-packages (from dgl) (2.32.3)\r\n",
      "Requirement already satisfied: tqdm in /opt/conda/envs/dgl-dev-cpu/lib/python3.10/site-packages (from dgl) (4.66.5)\r\n",
      "Requirement already satisfied: psutil>=5.8.0 in /opt/conda/envs/dgl-dev-cpu/lib/python3.10/site-packages (from dgl) (6.0.0)\r\n",
      "Requirement already satisfied: torchdata>=0.5.0 in /opt/conda/envs/dgl-dev-cpu/lib/python3.10/site-packages (from dgl) (0.8.0)\r\n",
      "Requirement already satisfied: pandas in /opt/conda/envs/dgl-dev-cpu/lib/python3.10/site-packages (from dgl) (2.2.3)\r\n"
     ]
    },
    {
     "name": "stdout",
     "output_type": "stream",
     "text": [
      "Requirement already satisfied: charset-normalizer<4,>=2 in /opt/conda/envs/dgl-dev-cpu/lib/python3.10/site-packages (from requests>=2.19.0->dgl) (3.4.0)\r\n",
      "Requirement already satisfied: idna<4,>=2.5 in /opt/conda/envs/dgl-dev-cpu/lib/python3.10/site-packages (from requests>=2.19.0->dgl) (3.10)\r\n",
      "Requirement already satisfied: urllib3<3,>=1.21.1 in /opt/conda/envs/dgl-dev-cpu/lib/python3.10/site-packages (from requests>=2.19.0->dgl) (2.2.3)\r\n",
      "Requirement already satisfied: certifi>=2017.4.17 in /opt/conda/envs/dgl-dev-cpu/lib/python3.10/site-packages (from requests>=2.19.0->dgl) (2024.8.30)\r\n",
      "Requirement already satisfied: torch>=2 in /opt/conda/envs/dgl-dev-cpu/lib/python3.10/site-packages (from torchdata>=0.5.0->dgl) (2.1.0+cpu)\r\n"
     ]
    },
    {
     "name": "stdout",
     "output_type": "stream",
     "text": [
      "Requirement already satisfied: python-dateutil>=2.8.2 in /opt/conda/envs/dgl-dev-cpu/lib/python3.10/site-packages (from pandas->dgl) (2.9.0.post0)\r\n",
      "Requirement already satisfied: pytz>=2020.1 in /opt/conda/envs/dgl-dev-cpu/lib/python3.10/site-packages (from pandas->dgl) (2024.2)\r\n",
      "Requirement already satisfied: tzdata>=2022.7 in /opt/conda/envs/dgl-dev-cpu/lib/python3.10/site-packages (from pandas->dgl) (2024.2)\r\n",
      "Requirement already satisfied: six>=1.5 in /opt/conda/envs/dgl-dev-cpu/lib/python3.10/site-packages (from python-dateutil>=2.8.2->pandas->dgl) (1.16.0)\r\n",
      "Requirement already satisfied: filelock in /opt/conda/envs/dgl-dev-cpu/lib/python3.10/site-packages (from torch>=2->torchdata>=0.5.0->dgl) (3.16.1)\r\n",
      "Requirement already satisfied: typing-extensions in /opt/conda/envs/dgl-dev-cpu/lib/python3.10/site-packages (from torch>=2->torchdata>=0.5.0->dgl) (4.12.2)\r\n",
      "Requirement already satisfied: sympy in /opt/conda/envs/dgl-dev-cpu/lib/python3.10/site-packages (from torch>=2->torchdata>=0.5.0->dgl) (1.13.3)\r\n",
      "Requirement already satisfied: jinja2 in /opt/conda/envs/dgl-dev-cpu/lib/python3.10/site-packages (from torch>=2->torchdata>=0.5.0->dgl) (3.1.4)\r\n",
      "Requirement already satisfied: fsspec in /opt/conda/envs/dgl-dev-cpu/lib/python3.10/site-packages (from torch>=2->torchdata>=0.5.0->dgl) (2024.9.0)\r\n"
     ]
    },
    {
     "name": "stdout",
     "output_type": "stream",
     "text": [
      "Requirement already satisfied: MarkupSafe>=2.0 in /opt/conda/envs/dgl-dev-cpu/lib/python3.10/site-packages (from jinja2->torch>=2->torchdata>=0.5.0->dgl) (3.0.1)\r\n",
      "Requirement already satisfied: mpmath<1.4,>=1.1.0 in /opt/conda/envs/dgl-dev-cpu/lib/python3.10/site-packages (from sympy->torch>=2->torchdata>=0.5.0->dgl) (1.3.0)\r\n"
     ]
    },
    {
     "name": "stdout",
     "output_type": "stream",
     "text": [
      "\u001b[33mWARNING: Running pip as the 'root' user can result in broken permissions and conflicting behaviour with the system package manager, possibly rendering your system unusable.It is recommended to use a virtual environment instead: https://pip.pypa.io/warnings/venv. Use the --root-user-action option if you know what you are doing and want to suppress this warning.\u001b[0m\u001b[33m\r\n",
      "\u001b[0m"
     ]
    },
    {
     "name": "stdout",
     "output_type": "stream",
     "text": [
      "DGL installed!\n"
     ]
    }
   ],
   "source": [
    "# Install required packages.\n",
    "import os\n",
    "import torch\n",
    "import numpy as np\n",
    "os.environ['TORCH'] = torch.__version__\n",
    "os.environ['DGLBACKEND'] = \"pytorch\"\n",
    "\n",
    "# Install the CPU version.\n",
    "device = torch.device(\"cpu\")\n",
    "!pip install --pre dgl -f https://data.dgl.ai/wheels-test/repo.html\n",
    "\n",
    "try:\n",
    "    import dgl\n",
    "    import dgl.graphbolt as gb\n",
    "    installed = True\n",
    "except ImportError as error:\n",
    "    installed = False\n",
    "    print(error)\n",
    "print(\"DGL installed!\" if installed else \"DGL not found!\")"
   ]
  },
  {
   "cell_type": "markdown",
   "metadata": {
    "id": "2R7WnSbjsfbr"
   },
   "source": [
    "## Data preparation\n",
    "In order to demonstrate how to organize various data, let's create a base directory first."
   ]
  },
  {
   "cell_type": "code",
   "execution_count": 2,
   "metadata": {
    "execution": {
     "iopub.execute_input": "2024-10-16T13:17:24.943536Z",
     "iopub.status.busy": "2024-10-16T13:17:24.942999Z",
     "iopub.status.idle": "2024-10-16T13:17:24.947880Z",
     "shell.execute_reply": "2024-10-16T13:17:24.947020Z"
    },
    "id": "SZipbzyltLfO"
   },
   "outputs": [
    {
     "name": "stdout",
     "output_type": "stream",
     "text": [
      "Created base directory: ./ondisk_dataset_homograph\n"
     ]
    }
   ],
   "source": [
    "base_dir = './ondisk_dataset_homograph'\n",
    "os.makedirs(base_dir, exist_ok=True)\n",
    "print(f\"Created base directory: {base_dir}\")"
   ]
  },
  {
   "cell_type": "markdown",
   "metadata": {
    "id": "qhNtIn_xhlnl"
   },
   "source": [
    "### Generate graph structure data\n",
    "For homogeneous graph, we just need to save edges(namely seeds) into  **Numpy** or **CSV** file.\n",
    "\n",
    "Note:\n",
    "- when saving to **Numpy**, the array requires to be in shape of `(2, N)`. This format is recommended as constructing graph from it is much faster than **CSV** file.\n",
    "- when saving to **CSV** file, do not save index and header.\n"
   ]
  },
  {
   "cell_type": "code",
   "execution_count": 3,
   "metadata": {
    "execution": {
     "iopub.execute_input": "2024-10-16T13:17:24.950245Z",
     "iopub.status.busy": "2024-10-16T13:17:24.949923Z",
     "iopub.status.idle": "2024-10-16T13:17:24.963518Z",
     "shell.execute_reply": "2024-10-16T13:17:24.962712Z"
    },
    "id": "HcBt4G5BmSjr"
   },
   "outputs": [
    {
     "name": "stdout",
     "output_type": "stream",
     "text": [
      "Part of edges: [[629 348]\n",
      " [270 476]\n",
      " [163 249]\n",
      " [846 424]\n",
      " [901 272]]\n",
      "Edges are saved into ./ondisk_dataset_homograph/edges.csv\n"
     ]
    }
   ],
   "source": [
    "import numpy as np\n",
    "import pandas as pd\n",
    "num_nodes = 1000\n",
    "num_edges = 10 * num_nodes\n",
    "edges_path = os.path.join(base_dir, \"edges.csv\")\n",
    "edges = np.random.randint(0, num_nodes, size=(num_edges, 2))\n",
    "\n",
    "print(f\"Part of edges: {edges[:5, :]}\")\n",
    "\n",
    "df = pd.DataFrame(edges)\n",
    "df.to_csv(edges_path, index=False, header=False)\n",
    "\n",
    "print(f\"Edges are saved into {edges_path}\")"
   ]
  },
  {
   "cell_type": "markdown",
   "metadata": {
    "id": "kh-4cPtzpcaH"
   },
   "source": [
    "### Generate feature data for graph\n",
    "For feature data, numpy arrays and torch tensors are supported for now."
   ]
  },
  {
   "cell_type": "code",
   "execution_count": 4,
   "metadata": {
    "execution": {
     "iopub.execute_input": "2024-10-16T13:17:24.966012Z",
     "iopub.status.busy": "2024-10-16T13:17:24.965649Z",
     "iopub.status.idle": "2024-10-16T13:17:24.985924Z",
     "shell.execute_reply": "2024-10-16T13:17:24.985037Z"
    },
    "id": "_PVu1u5brBhF"
   },
   "outputs": [
    {
     "name": "stdout",
     "output_type": "stream",
     "text": [
      "Part of node feature [feat_0]: [[0.48683898 0.3629324  0.04584488 0.44832858 0.97893636]\n",
      " [0.32386298 0.83249318 0.48878832 0.68142982 0.43892004]\n",
      " [0.33226444 0.20111972 0.09437748 0.39711596 0.24478957]]\n",
      "Node feature [feat_0] is saved to ./ondisk_dataset_homograph/node-feat-0.npy\n",
      "\n",
      "Part of node feature [feat_1]: tensor([[0.4031, 0.2095, 0.1640, 0.1474, 0.3605],\n",
      "        [0.0459, 0.8207, 0.5890, 0.9407, 0.3049],\n",
      "        [0.2800, 0.8357, 0.6637, 0.3823, 0.6172]])\n",
      "Node feature [feat_1] is saved to ./ondisk_dataset_homograph/node-feat-1.pt\n",
      "\n",
      "Part of edge feature [feat_0]: [[0.63669058 0.78925351 0.23077718 0.78211501 0.66983839]\n",
      " [0.146533   0.38188958 0.92359543 0.89476286 0.28407426]\n",
      " [0.64602739 0.43241352 0.90393251 0.6598049  0.20937777]]\n",
      "Edge feature [feat_0] is saved to ./ondisk_dataset_homograph/edge-feat-0.npy\n",
      "\n",
      "Part of edge feature [feat_1]: tensor([[0.3391, 0.7451, 0.5072, 0.8478, 0.5662],\n",
      "        [0.2448, 0.6591, 0.0822, 0.4527, 0.7659],\n",
      "        [0.8921, 0.3520, 0.5043, 0.3937, 0.0568]])\n",
      "Edge feature [feat_1] is saved to ./ondisk_dataset_homograph/edge-feat-1.pt\n",
      "\n"
     ]
    }
   ],
   "source": [
    "# Generate node feature in numpy array.\n",
    "node_feat_0_path = os.path.join(base_dir, \"node-feat-0.npy\")\n",
    "node_feat_0 = np.random.rand(num_nodes, 5)\n",
    "print(f\"Part of node feature [feat_0]: {node_feat_0[:3, :]}\")\n",
    "np.save(node_feat_0_path, node_feat_0)\n",
    "print(f\"Node feature [feat_0] is saved to {node_feat_0_path}\\n\")\n",
    "\n",
    "# Generate another node feature in torch tensor\n",
    "node_feat_1_path = os.path.join(base_dir, \"node-feat-1.pt\")\n",
    "node_feat_1 = torch.rand(num_nodes, 5)\n",
    "print(f\"Part of node feature [feat_1]: {node_feat_1[:3, :]}\")\n",
    "torch.save(node_feat_1, node_feat_1_path)\n",
    "print(f\"Node feature [feat_1] is saved to {node_feat_1_path}\\n\")\n",
    "\n",
    "# Generate edge feature in numpy array.\n",
    "edge_feat_0_path = os.path.join(base_dir, \"edge-feat-0.npy\")\n",
    "edge_feat_0 = np.random.rand(num_edges, 5)\n",
    "print(f\"Part of edge feature [feat_0]: {edge_feat_0[:3, :]}\")\n",
    "np.save(edge_feat_0_path, edge_feat_0)\n",
    "print(f\"Edge feature [feat_0] is saved to {edge_feat_0_path}\\n\")\n",
    "\n",
    "# Generate another edge feature in torch tensor\n",
    "edge_feat_1_path = os.path.join(base_dir, \"edge-feat-1.pt\")\n",
    "edge_feat_1 = torch.rand(num_edges, 5)\n",
    "print(f\"Part of edge feature [feat_1]: {edge_feat_1[:3, :]}\")\n",
    "torch.save(edge_feat_1, edge_feat_1_path)\n",
    "print(f\"Edge feature [feat_1] is saved to {edge_feat_1_path}\\n\")\n"
   ]
  },
  {
   "cell_type": "markdown",
   "metadata": {
    "id": "ZyqgOtsIwzh_"
   },
   "source": [
    "### Generate tasks\n",
    "`OnDiskDataset` supports multiple tasks. For each task, we need to prepare training/validation/test sets respectively. Such sets usually vary among different tasks. In this tutorial, let's create a **Node Classification** task and **Link Prediction** task."
   ]
  },
  {
   "cell_type": "markdown",
   "metadata": {
    "id": "hVxHaDIfzCkr"
   },
   "source": [
    "#### Node Classification Task\n",
    "For node classification task, we need **node IDs** and corresponding **labels** for each training/validation/test set. Like feature data, numpy arrays and torch tensors are supported for these sets."
   ]
  },
  {
   "cell_type": "code",
   "execution_count": 5,
   "metadata": {
    "execution": {
     "iopub.execute_input": "2024-10-16T13:17:24.988463Z",
     "iopub.status.busy": "2024-10-16T13:17:24.988068Z",
     "iopub.status.idle": "2024-10-16T13:17:25.000158Z",
     "shell.execute_reply": "2024-10-16T13:17:24.999371Z"
    },
    "id": "S5-fyBbHzTCO"
   },
   "outputs": [
    {
     "name": "stdout",
     "output_type": "stream",
     "text": [
      "Part of train ids for node classification: [152   5 395]\n",
      "NC train ids are saved to ./ondisk_dataset_homograph/nc-train-ids.npy\n",
      "\n",
      "Part of train labels for node classification: tensor([7, 5, 5])\n",
      "NC train labels are saved to ./ondisk_dataset_homograph/nc-train-labels.pt\n",
      "\n",
      "Part of val ids for node classification: [141 244 807]\n",
      "NC val ids are saved to ./ondisk_dataset_homograph/nc-val-ids.npy\n",
      "\n",
      "Part of val labels for node classification: tensor([3, 1, 4])\n",
      "NC val labels are saved to ./ondisk_dataset_homograph/nc-val-labels.pt\n",
      "\n",
      "Part of test ids for node classification: [312 578 879]\n",
      "NC test ids are saved to ./ondisk_dataset_homograph/nc-test-ids.npy\n",
      "\n",
      "Part of test labels for node classification: tensor([6, 7, 6])\n",
      "NC test labels are saved to ./ondisk_dataset_homograph/nc-test-labels.pt\n",
      "\n"
     ]
    }
   ],
   "source": [
    "num_trains = int(num_nodes * 0.6)\n",
    "num_vals = int(num_nodes * 0.2)\n",
    "num_tests = num_nodes - num_trains - num_vals\n",
    "\n",
    "ids = np.arange(num_nodes)\n",
    "np.random.shuffle(ids)\n",
    "\n",
    "nc_train_ids_path = os.path.join(base_dir, \"nc-train-ids.npy\")\n",
    "nc_train_ids = ids[:num_trains]\n",
    "print(f\"Part of train ids for node classification: {nc_train_ids[:3]}\")\n",
    "np.save(nc_train_ids_path, nc_train_ids)\n",
    "print(f\"NC train ids are saved to {nc_train_ids_path}\\n\")\n",
    "\n",
    "nc_train_labels_path = os.path.join(base_dir, \"nc-train-labels.pt\")\n",
    "nc_train_labels = torch.randint(0, 10, (num_trains,))\n",
    "print(f\"Part of train labels for node classification: {nc_train_labels[:3]}\")\n",
    "torch.save(nc_train_labels, nc_train_labels_path)\n",
    "print(f\"NC train labels are saved to {nc_train_labels_path}\\n\")\n",
    "\n",
    "nc_val_ids_path = os.path.join(base_dir, \"nc-val-ids.npy\")\n",
    "nc_val_ids = ids[num_trains:num_trains+num_vals]\n",
    "print(f\"Part of val ids for node classification: {nc_val_ids[:3]}\")\n",
    "np.save(nc_val_ids_path, nc_val_ids)\n",
    "print(f\"NC val ids are saved to {nc_val_ids_path}\\n\")\n",
    "\n",
    "nc_val_labels_path = os.path.join(base_dir, \"nc-val-labels.pt\")\n",
    "nc_val_labels = torch.randint(0, 10, (num_vals,))\n",
    "print(f\"Part of val labels for node classification: {nc_val_labels[:3]}\")\n",
    "torch.save(nc_val_labels, nc_val_labels_path)\n",
    "print(f\"NC val labels are saved to {nc_val_labels_path}\\n\")\n",
    "\n",
    "nc_test_ids_path = os.path.join(base_dir, \"nc-test-ids.npy\")\n",
    "nc_test_ids = ids[-num_tests:]\n",
    "print(f\"Part of test ids for node classification: {nc_test_ids[:3]}\")\n",
    "np.save(nc_test_ids_path, nc_test_ids)\n",
    "print(f\"NC test ids are saved to {nc_test_ids_path}\\n\")\n",
    "\n",
    "nc_test_labels_path = os.path.join(base_dir, \"nc-test-labels.pt\")\n",
    "nc_test_labels = torch.randint(0, 10, (num_tests,))\n",
    "print(f\"Part of test labels for node classification: {nc_test_labels[:3]}\")\n",
    "torch.save(nc_test_labels, nc_test_labels_path)\n",
    "print(f\"NC test labels are saved to {nc_test_labels_path}\\n\")"
   ]
  },
  {
   "cell_type": "markdown",
   "metadata": {
    "id": "LhAcDCHQ_KJ0"
   },
   "source": [
    "#### Link Prediction Task\n",
    "For link prediction task, we need **seeds** or **corresponding labels and indexes** which representing the pos/neg property and group of the seeds for each training/validation/test set. Like feature data, numpy arrays and torch tensors are supported for these sets."
   ]
  },
  {
   "cell_type": "code",
   "execution_count": 6,
   "metadata": {
    "execution": {
     "iopub.execute_input": "2024-10-16T13:17:25.002789Z",
     "iopub.status.busy": "2024-10-16T13:17:25.002214Z",
     "iopub.status.idle": "2024-10-16T13:17:25.021126Z",
     "shell.execute_reply": "2024-10-16T13:17:25.020189Z"
    },
    "id": "u0jCnXIcAQy4"
   },
   "outputs": [
    {
     "name": "stdout",
     "output_type": "stream",
     "text": [
      "Part of train seeds for link prediction: [[629 348]\n",
      " [270 476]\n",
      " [163 249]]\n",
      "LP train seeds are saved to ./ondisk_dataset_homograph/lp-train-seeds.npy\n",
      "\n",
      "Part of val seeds for link prediction: [[481 883]\n",
      " [454 406]\n",
      " [444 787]]\n",
      "LP val seeds are saved to ./ondisk_dataset_homograph/lp-val-seeds.npy\n",
      "\n",
      "Part of val labels for link prediction: [1. 1. 1.]\n",
      "LP val labels are saved to ./ondisk_dataset_homograph/lp-val-labels.npy\n",
      "\n",
      "Part of val indexes for link prediction: [0 1 2]\n",
      "LP val indexes are saved to ./ondisk_dataset_homograph/lp-val-indexes.npy\n",
      "\n",
      "Part of test seeds for link prediction: [[757 141]\n",
      " [698 712]\n",
      " [229 132]]\n",
      "LP test seeds are saved to ./ondisk_dataset_homograph/lp-test-seeds.npy\n",
      "\n",
      "Part of val labels for link prediction: [1. 1. 1.]\n",
      "LP test labels are saved to ./ondisk_dataset_homograph/lp-test-labels.npy\n",
      "\n",
      "Part of test indexes for link prediction: [0 1 2]\n",
      "LP test indexes are saved to ./ondisk_dataset_homograph/lp-test-indexes.npy\n",
      "\n"
     ]
    }
   ],
   "source": [
    "num_trains = int(num_edges * 0.6)\n",
    "num_vals = int(num_edges * 0.2)\n",
    "num_tests = num_edges - num_trains - num_vals\n",
    "\n",
    "lp_train_seeds_path = os.path.join(base_dir, \"lp-train-seeds.npy\")\n",
    "lp_train_seeds = edges[:num_trains, :]\n",
    "print(f\"Part of train seeds for link prediction: {lp_train_seeds[:3]}\")\n",
    "np.save(lp_train_seeds_path, lp_train_seeds)\n",
    "print(f\"LP train seeds are saved to {lp_train_seeds_path}\\n\")\n",
    "\n",
    "lp_val_seeds_path = os.path.join(base_dir, \"lp-val-seeds.npy\")\n",
    "lp_val_seeds = edges[num_trains:num_trains+num_vals, :]\n",
    "lp_val_neg_dsts = np.random.randint(0, num_nodes, (num_vals, 10)).reshape(-1)\n",
    "lp_val_neg_srcs = np.repeat(lp_val_seeds[:,0], 10)\n",
    "lp_val_neg_seeds = np.concatenate((lp_val_neg_srcs, lp_val_neg_dsts)).reshape(2,-1).T\n",
    "lp_val_seeds = np.concatenate((lp_val_seeds, lp_val_neg_seeds))\n",
    "print(f\"Part of val seeds for link prediction: {lp_val_seeds[:3]}\")\n",
    "np.save(lp_val_seeds_path, lp_val_seeds)\n",
    "print(f\"LP val seeds are saved to {lp_val_seeds_path}\\n\")\n",
    "\n",
    "lp_val_labels_path = os.path.join(base_dir, \"lp-val-labels.npy\")\n",
    "lp_val_labels = np.empty(num_vals * (10 + 1))\n",
    "lp_val_labels[:num_vals] = 1\n",
    "lp_val_labels[num_vals:] = 0\n",
    "print(f\"Part of val labels for link prediction: {lp_val_labels[:3]}\")\n",
    "np.save(lp_val_labels_path, lp_val_labels)\n",
    "print(f\"LP val labels are saved to {lp_val_labels_path}\\n\")\n",
    "\n",
    "lp_val_indexes_path = os.path.join(base_dir, \"lp-val-indexes.npy\")\n",
    "lp_val_indexes = np.arange(0, num_vals)\n",
    "lp_val_neg_indexes = np.repeat(lp_val_indexes, 10)\n",
    "lp_val_indexes = np.concatenate([lp_val_indexes, lp_val_neg_indexes])\n",
    "print(f\"Part of val indexes for link prediction: {lp_val_indexes[:3]}\")\n",
    "np.save(lp_val_indexes_path, lp_val_indexes)\n",
    "print(f\"LP val indexes are saved to {lp_val_indexes_path}\\n\")\n",
    "\n",
    "lp_test_seeds_path = os.path.join(base_dir, \"lp-test-seeds.npy\")\n",
    "lp_test_seeds = edges[-num_tests:, :]\n",
    "lp_test_neg_dsts = np.random.randint(0, num_nodes, (num_tests, 10)).reshape(-1)\n",
    "lp_test_neg_srcs = np.repeat(lp_test_seeds[:,0], 10)\n",
    "lp_test_neg_seeds = np.concatenate((lp_test_neg_srcs, lp_test_neg_dsts)).reshape(2,-1).T\n",
    "lp_test_seeds = np.concatenate((lp_test_seeds, lp_test_neg_seeds))\n",
    "print(f\"Part of test seeds for link prediction: {lp_test_seeds[:3]}\")\n",
    "np.save(lp_test_seeds_path, lp_test_seeds)\n",
    "print(f\"LP test seeds are saved to {lp_test_seeds_path}\\n\")\n",
    "\n",
    "lp_test_labels_path = os.path.join(base_dir, \"lp-test-labels.npy\")\n",
    "lp_test_labels = np.empty(num_tests * (10 + 1))\n",
    "lp_test_labels[:num_tests] = 1\n",
    "lp_test_labels[num_tests:] = 0\n",
    "print(f\"Part of val labels for link prediction: {lp_test_labels[:3]}\")\n",
    "np.save(lp_test_labels_path, lp_test_labels)\n",
    "print(f\"LP test labels are saved to {lp_test_labels_path}\\n\")\n",
    "\n",
    "lp_test_indexes_path = os.path.join(base_dir, \"lp-test-indexes.npy\")\n",
    "lp_test_indexes = np.arange(0, num_tests)\n",
    "lp_test_neg_indexes = np.repeat(lp_test_indexes, 10)\n",
    "lp_test_indexes = np.concatenate([lp_test_indexes, lp_test_neg_indexes])\n",
    "print(f\"Part of test indexes for link prediction: {lp_test_indexes[:3]}\")\n",
    "np.save(lp_test_indexes_path, lp_test_indexes)\n",
    "print(f\"LP test indexes are saved to {lp_test_indexes_path}\\n\")"
   ]
  },
  {
   "cell_type": "markdown",
   "metadata": {
    "id": "wbk6-wxRK-6S"
   },
   "source": [
    "## Organize Data into YAML File\n",
    "Now we need to create a `metadata.yaml` file which contains the paths, dadta types of graph structure, feature data, training/validation/test sets.\n",
    "\n",
    "Notes:\n",
    "- all path should be relative to `metadata.yaml`.\n",
    "- Below fields are optional and not specified in below example.\n",
    "  - `in_memory`: indicates whether to load dada into memory or `mmap`. Default is `True`.\n",
    "\n",
    "Please refer to [YAML specification](https://github.com/dmlc/dgl/blob/master/docs/source/stochastic_training/ondisk-dataset-specification.rst) for more details."
   ]
  },
  {
   "cell_type": "code",
   "execution_count": 7,
   "metadata": {
    "execution": {
     "iopub.execute_input": "2024-10-16T13:17:25.023799Z",
     "iopub.status.busy": "2024-10-16T13:17:25.023421Z",
     "iopub.status.idle": "2024-10-16T13:17:25.029889Z",
     "shell.execute_reply": "2024-10-16T13:17:25.029004Z"
    },
    "id": "ddGTWW61Lpwp"
   },
   "outputs": [],
   "source": [
    "yaml_content = f\"\"\"\n",
    "    dataset_name: homogeneous_graph_nc_lp\n",
    "    graph:\n",
    "      nodes:\n",
    "        - num: {num_nodes}\n",
    "      edges:\n",
    "        - format: csv\n",
    "          path: {os.path.basename(edges_path)}\n",
    "    feature_data:\n",
    "      - domain: node\n",
    "        name: feat_0\n",
    "        format: numpy\n",
    "        path: {os.path.basename(node_feat_0_path)}\n",
    "      - domain: node\n",
    "        name: feat_1\n",
    "        format: torch\n",
    "        path: {os.path.basename(node_feat_1_path)}\n",
    "      - domain: edge\n",
    "        name: feat_0\n",
    "        format: numpy\n",
    "        path: {os.path.basename(edge_feat_0_path)}\n",
    "      - domain: edge\n",
    "        name: feat_1\n",
    "        format: torch\n",
    "        path: {os.path.basename(edge_feat_1_path)}\n",
    "    tasks:\n",
    "      - name: node_classification\n",
    "        num_classes: 10\n",
    "        train_set:\n",
    "          - data:\n",
    "              - name: seeds\n",
    "                format: numpy\n",
    "                path: {os.path.basename(nc_train_ids_path)}\n",
    "              - name: labels\n",
    "                format: torch\n",
    "                path: {os.path.basename(nc_train_labels_path)}\n",
    "        validation_set:\n",
    "          - data:\n",
    "              - name: seeds\n",
    "                format: numpy\n",
    "                path: {os.path.basename(nc_val_ids_path)}\n",
    "              - name: labels\n",
    "                format: torch\n",
    "                path: {os.path.basename(nc_val_labels_path)}\n",
    "        test_set:\n",
    "          - data:\n",
    "              - name: seeds\n",
    "                format: numpy\n",
    "                path: {os.path.basename(nc_test_ids_path)}\n",
    "              - name: labels\n",
    "                format: torch\n",
    "                path: {os.path.basename(nc_test_labels_path)}\n",
    "      - name: link_prediction\n",
    "        num_classes: 10\n",
    "        train_set:\n",
    "          - data:\n",
    "              - name: seeds\n",
    "                format: numpy\n",
    "                path: {os.path.basename(lp_train_seeds_path)}\n",
    "        validation_set:\n",
    "          - data:\n",
    "              - name: seeds\n",
    "                format: numpy\n",
    "                path: {os.path.basename(lp_val_seeds_path)}\n",
    "              - name: labels\n",
    "                format: numpy\n",
    "                path: {os.path.basename(lp_val_labels_path)}\n",
    "              - name: indexes\n",
    "                format: numpy\n",
    "                path: {os.path.basename(lp_val_indexes_path)}\n",
    "        test_set:\n",
    "          - data:\n",
    "              - name: seeds\n",
    "                format: numpy\n",
    "                path: {os.path.basename(lp_test_seeds_path)}\n",
    "              - name: labels\n",
    "                format: numpy\n",
    "                path: {os.path.basename(lp_test_labels_path)}\n",
    "              - name: indexes\n",
    "                format: numpy\n",
    "                path: {os.path.basename(lp_test_indexes_path)}\n",
    "\"\"\"\n",
    "metadata_path = os.path.join(base_dir, \"metadata.yaml\")\n",
    "with open(metadata_path, \"w\") as f:\n",
    "  f.write(yaml_content)"
   ]
  },
  {
   "cell_type": "markdown",
   "metadata": {
    "id": "kEfybHGhOW7O"
   },
   "source": [
    "## Instantiate `OnDiskDataset`\n",
    "Now we're ready to load dataset via `dgl.graphbolt.OnDiskDataset`. When instantiating, we just pass in the base directory where `metadata.yaml` file lies.\n",
    "\n",
    "During first instantiation, GraphBolt preprocesses the raw data such as constructing `FusedCSCSamplingGraph` from edges. All data including graph, feature data, training/validation/test sets are put into `preprocessed` directory after preprocessing. Any following dataset loading will skip the preprocess stage.\n",
    "\n",
    "After preprocessing, `load()` is required to be called explicitly in order to load graph, feature data and tasks."
   ]
  },
  {
   "cell_type": "code",
   "execution_count": 8,
   "metadata": {
    "execution": {
     "iopub.execute_input": "2024-10-16T13:17:25.032455Z",
     "iopub.status.busy": "2024-10-16T13:17:25.031913Z",
     "iopub.status.idle": "2024-10-16T13:17:25.101966Z",
     "shell.execute_reply": "2024-10-16T13:17:25.101257Z"
    },
    "id": "W58CZoSzOiyo"
   },
   "outputs": [
    {
     "name": "stdout",
     "output_type": "stream",
     "text": [
      "Start to preprocess the on-disk dataset.\n",
      "Finish preprocessing the on-disk dataset.\n",
      "Loaded graph: FusedCSCSamplingGraph(csc_indptr=tensor([    0,    12,    25,  ...,  9979,  9991, 10000], dtype=torch.int32),\n",
      "                      indices=tensor([510,  17, 328,  ..., 698, 565, 679], dtype=torch.int32),\n",
      "                      total_num_nodes=1000, num_edges=10000,)\n",
      "\n",
      "Loaded feature store: TorchBasedFeatureStore(\n",
      "    {(<OnDiskFeatureDataDomain.NODE: 'node'>, None, 'feat_0'): TorchBasedFeature(\n",
      "        feature=tensor([[0.4868, 0.3629, 0.0458, 0.4483, 0.9789],\n",
      "                        [0.3239, 0.8325, 0.4888, 0.6814, 0.4389],\n",
      "                        [0.3323, 0.2011, 0.0944, 0.3971, 0.2448],\n",
      "                        ...,\n",
      "                        [0.4335, 0.5605, 0.6987, 0.2294, 0.2996],\n",
      "                        [0.4119, 0.4018, 0.3926, 0.5472, 0.5669],\n",
      "                        [0.9822, 0.4399, 0.3061, 0.7674, 0.0513]], dtype=torch.float64),\n",
      "        metadata={},\n",
      "    ), (<OnDiskFeatureDataDomain.NODE: 'node'>, None, 'feat_1'): TorchBasedFeature(\n",
      "        feature=tensor([[0.4031, 0.2095, 0.1640, 0.1474, 0.3605],\n",
      "                        [0.0459, 0.8207, 0.5890, 0.9407, 0.3049],\n",
      "                        [0.2800, 0.8357, 0.6637, 0.3823, 0.6172],\n",
      "                        ...,\n",
      "                        [0.2470, 0.7183, 0.0942, 0.7357, 0.2319],\n",
      "                        [0.2821, 0.8625, 0.2346, 0.8609, 0.7080],\n",
      "                        [0.9134, 0.7781, 0.9963, 0.3716, 0.6563]]),\n",
      "        metadata={},\n",
      "    ), (<OnDiskFeatureDataDomain.EDGE: 'edge'>, None, 'feat_0'): TorchBasedFeature(\n",
      "        feature=tensor([[0.6367, 0.7893, 0.2308, 0.7821, 0.6698],\n",
      "                        [0.1465, 0.3819, 0.9236, 0.8948, 0.2841],\n",
      "                        [0.6460, 0.4324, 0.9039, 0.6598, 0.2094],\n",
      "                        ...,\n",
      "                        [0.4774, 0.3379, 0.0760, 0.8468, 0.0873],\n",
      "                        [0.1842, 0.2610, 0.5849, 0.2576, 0.9737],\n",
      "                        [0.3294, 0.1336, 0.3393, 0.5054, 0.4747]], dtype=torch.float64),\n",
      "        metadata={},\n",
      "    ), (<OnDiskFeatureDataDomain.EDGE: 'edge'>, None, 'feat_1'): TorchBasedFeature(\n",
      "        feature=tensor([[0.3391, 0.7451, 0.5072, 0.8478, 0.5662],\n",
      "                        [0.2448, 0.6591, 0.0822, 0.4527, 0.7659],\n",
      "                        [0.8921, 0.3520, 0.5043, 0.3937, 0.0568],\n",
      "                        ...,\n",
      "                        [0.6362, 0.6779, 0.0805, 0.9868, 0.4430],\n",
      "                        [0.2925, 0.8466, 0.9934, 0.0648, 0.0331],\n",
      "                        [0.6223, 0.4688, 0.6579, 0.5066, 0.9336]]),\n",
      "        metadata={},\n",
      "    )}\n",
      ")\n",
      "\n",
      "Loaded node classification task: OnDiskTask(validation_set=ItemSet(\n",
      "               items=(tensor([141, 244, 807, 334, 808, 995, 224, 600, 769, 588, 869,  67, 372, 911,\n",
      "                   674, 469, 722, 535, 455, 559, 264,  98, 799, 361, 970, 376, 273, 854,\n",
      "                   262, 805, 111,  71, 181, 329, 908, 186, 546, 635, 249,  79, 595, 479,\n",
      "                   219, 767, 654, 921, 965, 991, 150, 295, 405,  49, 816, 409, 967, 475,\n",
      "                   347,  58, 592,   7, 781, 323, 611, 779, 322, 144, 258, 910, 651,  29,\n",
      "                   706, 382, 161, 625, 500, 621, 401, 489,  57,  86, 718, 207, 145, 780,\n",
      "                   994, 748, 175, 424, 283, 348, 215, 857,   4, 880, 570, 168,  18, 301,\n",
      "                   420, 530, 298, 934, 833, 102, 844, 515, 119, 341, 552, 522, 425, 188,\n",
      "                   642, 887,   1, 130, 272, 782, 297, 800,   6, 495, 400, 671, 542, 122,\n",
      "                   923, 697,  64, 137, 286, 838, 971, 980, 196, 300, 605, 830, 587, 915,\n",
      "                    30, 906, 623, 768, 438, 745, 679, 305, 106, 256, 663, 201, 221, 282,\n",
      "                   899, 932, 250, 563, 243, 589, 685, 572, 650, 582, 212, 682, 147, 419,\n",
      "                   375, 179, 310, 758,  35,  38, 892, 473, 960, 180, 604, 707, 388,  53,\n",
      "                   891, 783, 124, 280, 641, 726, 823,  24, 940, 889, 410, 610, 452, 352,\n",
      "                   586, 794, 138, 116], dtype=torch.int32), tensor([3, 1, 4, 9, 6, 2, 8, 3, 1, 4, 2, 5, 4, 5, 2, 1, 3, 1, 8, 5, 7, 0, 5, 6,\n",
      "                   8, 4, 1, 9, 6, 9, 2, 1, 4, 1, 1, 1, 4, 7, 1, 4, 7, 4, 4, 6, 2, 9, 2, 3,\n",
      "                   8, 4, 8, 2, 2, 6, 4, 6, 7, 2, 9, 6, 7, 1, 4, 7, 4, 3, 5, 2, 2, 3, 3, 8,\n",
      "                   6, 0, 8, 8, 4, 8, 7, 5, 3, 3, 8, 9, 0, 5, 6, 1, 0, 6, 9, 9, 0, 7, 3, 4,\n",
      "                   2, 6, 0, 5, 5, 8, 7, 5, 6, 3, 2, 2, 6, 3, 8, 5, 9, 5, 2, 5, 8, 9, 6, 8,\n",
      "                   8, 6, 9, 6, 0, 3, 6, 8, 0, 8, 5, 3, 7, 9, 1, 3, 6, 1, 4, 2, 8, 0, 4, 9,\n",
      "                   1, 6, 7, 5, 1, 0, 8, 6, 4, 3, 8, 8, 0, 7, 5, 7, 8, 7, 1, 2, 1, 0, 6, 1,\n",
      "                   6, 7, 7, 7, 7, 4, 7, 3, 6, 3, 6, 0, 7, 9, 8, 8, 6, 8, 7, 1, 7, 5, 7, 6,\n",
      "                   1, 9, 9, 6, 1, 9, 4, 4])),\n",
      "               names=('seeds', 'labels'),\n",
      "           ),\n",
      "           train_set=ItemSet(\n",
      "               items=(tensor([152,   5, 395, 883, 676, 775, 466,  12, 288, 581, 640, 290,  74, 917,\n",
      "                   537, 867,  92, 216, 814, 985, 601, 163, 703, 270,  90, 384, 770, 616,\n",
      "                   774, 369, 606, 687, 593, 922, 498, 103, 850, 715,  99, 509, 241, 317,\n",
      "                   254, 646, 276, 947, 185, 223, 171, 440, 761, 139, 890, 235,  52, 739,\n",
      "                   686, 164, 340, 933, 327, 516, 496,  77, 560, 517, 856, 513, 281, 336,\n",
      "                   798, 894, 269, 437, 753, 566, 136, 773, 463,  63,  28, 148, 477, 822,\n",
      "                    83, 370, 324, 629, 647, 746,  78, 717,  70, 454, 404, 350, 146, 738,\n",
      "                   810, 698,  43, 724, 315, 491, 197, 227, 367, 385, 239, 658, 615, 240,\n",
      "                   756, 824, 228, 192,  56, 167, 989, 486, 999, 956, 343,  85, 206, 729,\n",
      "                   723, 785, 316, 841, 274, 267, 173, 189, 574, 394, 342, 200, 534, 191,\n",
      "                   692, 577, 839, 591, 763, 760, 664, 414, 117,  91, 873, 451, 261, 564,\n",
      "                   955, 874, 984, 165,  95, 690, 583, 302, 263, 568, 468, 505, 226, 508,\n",
      "                   852, 853, 584, 444, 474, 159, 962, 518, 668, 390, 580, 904, 626, 790,\n",
      "                   709, 973, 321, 373, 338, 480, 447, 456, 868,  80, 203, 789, 795, 523,\n",
      "                   818, 460, 632, 603, 949, 628, 183, 134, 110, 787, 974,  87,  27, 732,\n",
      "                   929, 860, 149, 881,  66, 497, 433, 544, 755, 383, 832, 187, 777, 368,\n",
      "                   303, 521, 430, 461, 969, 878, 421, 476, 540, 638, 627, 669,   3, 222,\n",
      "                   820, 710, 545, 725,  25, 924, 617, 446, 959, 308,  19, 754, 834, 988,\n",
      "                    73, 154, 705, 736, 326, 143, 975,  21, 467,  31, 951, 649, 675, 234,\n",
      "                   380, 156, 135, 445, 174, 693, 511, 599, 210, 529, 900, 512, 257, 386,\n",
      "                   355, 907, 481, 762, 284, 412, 294, 931, 353,  96, 957,  46,  72, 835,\n",
      "                   918, 741,  33, 527, 759, 246, 555, 205, 357, 285, 575, 465, 366,  17,\n",
      "                   107, 634, 176, 320, 875, 177, 815, 306, 220, 429, 299, 744, 396, 448,\n",
      "                   417, 113, 217, 847,  26, 434, 526, 162, 198, 831, 851, 371, 255, 596,\n",
      "                   472,  65, 547, 287, 422, 681, 602, 639,  11, 407, 318, 402, 837, 275,\n",
      "                   378, 346, 804, 245, 253, 449, 543, 721, 351, 471, 470, 689, 492, 268,\n",
      "                   397, 819,  60, 360, 884, 153, 901, 514, 494, 981, 612, 719, 478, 747,\n",
      "                   803, 636, 809, 562, 958, 359, 309,  50, 539, 961, 670, 428, 458, 453,\n",
      "                   551, 510, 214, 939, 594, 364, 886, 442, 953,  34, 532, 842, 126, 554,\n",
      "                   232, 979, 877, 151,  81, 567, 184, 335, 277, 169, 691, 943, 158, 208,\n",
      "                   817, 379, 749, 633, 556, 821, 825, 655,  97, 439, 170, 666, 339, 720,\n",
      "                   213, 231, 443, 590, 128,  23, 942, 538, 260, 426, 204, 504, 862, 811,\n",
      "                   506,  55, 766, 916, 101, 358, 826, 993, 863, 614, 558,  37, 104, 140,\n",
      "                   734,  76, 182, 776, 319, 727, 431, 573,  75, 194, 389,  10, 872, 986,\n",
      "                   190, 502, 683, 784, 700, 337, 730, 836, 531,  14, 631, 565, 484, 279,\n",
      "                   684, 503, 118, 876, 345, 742, 178, 237, 307, 105, 541, 493, 898, 673,\n",
      "                   100, 569, 672, 399, 362, 740, 247, 278, 977, 630, 499, 935, 313, 694,\n",
      "                   996, 637, 622, 403, 928, 871, 866, 266, 304, 291, 972, 737, 992, 199,\n",
      "                   644, 314, 608, 225, 696, 829, 576, 520, 660, 733, 195, 408, 983, 441,\n",
      "                    88, 607, 728,  15, 549, 462, 292, 271, 888, 585, 828, 328,  16, 238,\n",
      "                   411, 778, 925, 919,  69, 618, 656, 927, 392, 930, 356, 913,  47, 363,\n",
      "                    51, 966, 712, 964, 620, 202, 142, 120, 333, 903, 791, 695,  62, 895,\n",
      "                   978, 488, 242, 365, 259, 172, 968,  89, 653, 643, 311, 112],\n",
      "                  dtype=torch.int32), tensor([7, 5, 5, 1, 5, 5, 7, 7, 6, 1, 6, 6, 4, 0, 8, 9, 3, 0, 4, 2, 4, 3, 3, 7,\n",
      "                   1, 8, 1, 5, 2, 8, 4, 5, 8, 7, 4, 7, 0, 8, 6, 4, 7, 2, 5, 7, 0, 7, 3, 8,\n",
      "                   7, 2, 3, 0, 4, 4, 4, 4, 8, 5, 1, 6, 4, 8, 1, 3, 0, 8, 3, 0, 6, 4, 8, 3,\n",
      "                   5, 6, 3, 1, 1, 6, 5, 3, 3, 1, 5, 4, 0, 1, 7, 9, 7, 2, 3, 2, 3, 1, 6, 9,\n",
      "                   4, 4, 9, 0, 7, 4, 8, 3, 1, 9, 4, 3, 1, 1, 2, 1, 8, 1, 9, 4, 0, 5, 7, 5,\n",
      "                   1, 3, 9, 1, 6, 4, 4, 5, 9, 9, 4, 3, 2, 5, 5, 4, 5, 8, 3, 1, 5, 7, 0, 0,\n",
      "                   6, 1, 1, 3, 4, 1, 7, 3, 5, 1, 3, 8, 0, 5, 1, 6, 8, 6, 4, 8, 5, 9, 5, 7,\n",
      "                   7, 7, 0, 7, 5, 4, 9, 0, 4, 9, 3, 8, 0, 5, 7, 2, 4, 9, 3, 7, 8, 9, 6, 5,\n",
      "                   0, 6, 7, 8, 7, 7, 9, 2, 5, 5, 7, 1, 3, 6, 4, 7, 8, 2, 0, 1, 7, 8, 4, 6,\n",
      "                   1, 6, 0, 4, 4, 9, 8, 8, 6, 1, 6, 7, 3, 1, 3, 3, 3, 8, 5, 4, 7, 9, 5, 2,\n",
      "                   5, 3, 7, 7, 7, 6, 0, 1, 7, 7, 0, 3, 6, 9, 4, 6, 0, 2, 5, 7, 7, 8, 3, 8,\n",
      "                   4, 1, 2, 4, 1, 6, 8, 3, 8, 1, 6, 6, 5, 6, 5, 1, 4, 2, 5, 5, 0, 3, 4, 9,\n",
      "                   4, 7, 7, 1, 3, 5, 5, 6, 8, 9, 7, 4, 4, 8, 2, 9, 3, 9, 7, 3, 2, 7, 5, 8,\n",
      "                   5, 7, 2, 8, 3, 6, 8, 3, 6, 7, 6, 7, 7, 0, 6, 9, 4, 4, 4, 1, 3, 9, 5, 9,\n",
      "                   4, 7, 1, 4, 1, 5, 8, 7, 0, 8, 9, 7, 7, 0, 9, 4, 8, 8, 5, 9, 4, 8, 4, 8,\n",
      "                   7, 6, 8, 6, 3, 7, 6, 6, 4, 9, 0, 6, 8, 1, 8, 2, 5, 8, 6, 6, 7, 0, 3, 7,\n",
      "                   4, 5, 4, 7, 8, 7, 1, 8, 0, 8, 8, 9, 8, 6, 8, 3, 1, 1, 4, 2, 6, 1, 0, 0,\n",
      "                   4, 8, 5, 5, 9, 1, 4, 5, 7, 9, 5, 5, 4, 8, 7, 7, 2, 8, 8, 1, 4, 8, 1, 4,\n",
      "                   2, 3, 6, 9, 7, 2, 8, 6, 2, 0, 5, 5, 1, 4, 3, 4, 0, 0, 5, 9, 8, 9, 9, 5,\n",
      "                   6, 8, 2, 6, 2, 0, 4, 1, 4, 3, 3, 8, 3, 4, 7, 5, 4, 1, 7, 6, 7, 9, 0, 2,\n",
      "                   5, 0, 3, 1, 8, 7, 9, 8, 5, 1, 0, 5, 4, 2, 0, 4, 0, 5, 7, 4, 3, 7, 5, 4,\n",
      "                   7, 6, 8, 5, 1, 1, 5, 0, 6, 3, 9, 0, 4, 3, 5, 8, 2, 1, 7, 7, 7, 5, 9, 3,\n",
      "                   1, 8, 8, 7, 7, 3, 6, 4, 0, 3, 2, 4, 4, 2, 0, 0, 7, 4, 2, 4, 9, 3, 6, 1,\n",
      "                   6, 3, 6, 4, 4, 8, 3, 1, 9, 0, 3, 4, 1, 1, 9, 0, 4, 3, 0, 3, 2, 8, 2, 1,\n",
      "                   6, 2, 6, 8, 2, 6, 0, 0, 6, 1, 2, 5, 0, 2, 7, 5, 4, 9, 8, 2, 4, 7, 8, 9])),\n",
      "               names=('seeds', 'labels'),\n",
      "           ),\n",
      "           test_set=ItemSet(\n",
      "               items=(tensor([312, 578, 879,  41, 406, 786,  32, 806, 133, 926, 230,   8, 265, 843,\n",
      "                    84, 954, 416, 702, 561, 914, 848, 193, 665, 812, 459,  13, 131, 464,\n",
      "                   701, 946, 976, 109, 937,  61, 846, 524, 548, 920, 427, 952, 248, 218,\n",
      "                   127, 519,  20, 435, 912, 132, 677, 950, 557, 865, 251, 613,  68, 797,\n",
      "                   121, 123, 236, 757, 354, 944,  93, 849, 450,  40, 487, 711, 667,  39,\n",
      "                   418, 609, 374, 108, 662, 597,  94, 796, 827, 861, 765, 688, 598, 893,\n",
      "                   661, 870, 391,  82, 772, 909, 229, 990, 735, 550, 289, 619, 393, 166,\n",
      "                   716, 436, 680, 115, 713, 938, 896,  59, 155, 457, 423, 699,  36, 704,\n",
      "                   553, 845, 882, 381, 211, 902, 648, 813, 731,   9, 948, 657, 792, 998,\n",
      "                   125, 325,  42, 997, 659, 233, 525, 945, 536, 490, 252, 432, 855, 788,\n",
      "                   160,  45, 377, 398, 157, 507, 209, 793, 982, 501, 485, 885, 482, 858,\n",
      "                   624, 751, 771, 652,  54, 579, 533, 415, 293, 413, 483,  48, 859, 645,\n",
      "                   802, 714, 743, 963, 905, 936, 571,  22, 344,   2, 114,   0, 678, 801,\n",
      "                   941, 349, 387, 332, 864, 764, 750, 331, 708, 752, 987, 296, 897, 528,\n",
      "                    44, 840, 330, 129], dtype=torch.int32), tensor([6, 7, 6, 5, 9, 7, 8, 9, 0, 2, 1, 2, 5, 2, 4, 7, 9, 6, 9, 0, 3, 0, 6, 8,\n",
      "                   5, 4, 0, 2, 2, 2, 7, 4, 6, 2, 1, 2, 4, 9, 9, 7, 8, 3, 3, 1, 8, 1, 6, 8,\n",
      "                   4, 5, 3, 7, 5, 5, 6, 7, 7, 5, 8, 2, 9, 3, 1, 9, 4, 0, 9, 7, 5, 2, 8, 1,\n",
      "                   3, 9, 5, 4, 2, 2, 0, 3, 3, 6, 8, 8, 5, 9, 0, 6, 2, 5, 9, 2, 5, 9, 6, 9,\n",
      "                   4, 5, 1, 0, 1, 8, 9, 3, 2, 4, 6, 9, 6, 8, 9, 8, 0, 0, 4, 8, 4, 1, 6, 2,\n",
      "                   5, 0, 9, 2, 3, 7, 7, 9, 8, 1, 3, 5, 3, 2, 0, 2, 7, 4, 3, 4, 2, 8, 5, 6,\n",
      "                   5, 1, 1, 7, 5, 5, 6, 3, 6, 3, 9, 7, 7, 4, 3, 4, 8, 0, 8, 9, 7, 4, 7, 4,\n",
      "                   0, 5, 5, 3, 9, 3, 1, 0, 7, 0, 3, 3, 4, 2, 6, 7, 6, 8, 2, 3, 4, 1, 0, 1,\n",
      "                   7, 6, 1, 9, 7, 9, 8, 4])),\n",
      "               names=('seeds', 'labels'),\n",
      "           ),\n",
      "           metadata={'name': 'node_classification', 'num_classes': 10},)\n",
      "\n",
      "Loaded link prediction task: OnDiskTask(validation_set=ItemSet(\n",
      "               items=(tensor([[481, 883],\n",
      "                   [454, 406],\n",
      "                   [444, 787],\n",
      "                   ...,\n",
      "                   [751,  99],\n",
      "                   [751, 454],\n",
      "                   [751, 802]], dtype=torch.int32), tensor([1., 1., 1.,  ..., 0., 0., 0.], dtype=torch.float64), tensor([   0,    1,    2,  ..., 1999, 1999, 1999])),\n",
      "               names=('seeds', 'labels', 'indexes'),\n",
      "           ),\n",
      "           train_set=ItemSet(\n",
      "               items=(tensor([[629, 348],\n",
      "                   [270, 476],\n",
      "                   [163, 249],\n",
      "                   ...,\n",
      "                   [  2, 967],\n",
      "                   [169, 354],\n",
      "                   [353, 892]], dtype=torch.int32),),\n",
      "               names=('seeds',),\n",
      "           ),\n",
      "           test_set=ItemSet(\n",
      "               items=(tensor([[757, 141],\n",
      "                   [698, 712],\n",
      "                   [229, 132],\n",
      "                   ...,\n",
      "                   [616, 846],\n",
      "                   [616, 265],\n",
      "                   [616, 391]], dtype=torch.int32), tensor([1., 1., 1.,  ..., 0., 0., 0.], dtype=torch.float64), tensor([   0,    1,    2,  ..., 1999, 1999, 1999])),\n",
      "               names=('seeds', 'labels', 'indexes'),\n",
      "           ),\n",
      "           metadata={'name': 'link_prediction', 'num_classes': 10},)\n",
      "\n"
     ]
    },
    {
     "name": "stderr",
     "output_type": "stream",
     "text": [
      "/dgl/python/dgl/graphbolt/impl/ondisk_dataset.py:463: GBWarning: Edge feature is stored, but edge IDs are not saved.\n",
      "  gb_warning(\"Edge feature is stored, but edge IDs are not saved.\")\n"
     ]
    }
   ],
   "source": [
    "dataset = gb.OnDiskDataset(base_dir).load()\n",
    "graph = dataset.graph\n",
    "print(f\"Loaded graph: {graph}\\n\")\n",
    "\n",
    "feature = dataset.feature\n",
    "print(f\"Loaded feature store: {feature}\\n\")\n",
    "\n",
    "tasks = dataset.tasks\n",
    "nc_task = tasks[0]\n",
    "print(f\"Loaded node classification task: {nc_task}\\n\")\n",
    "lp_task = tasks[1]\n",
    "print(f\"Loaded link prediction task: {lp_task}\\n\")"
   ]
  }
 ],
 "metadata": {
  "colab": {
   "private_outputs": true,
   "provenance": []
  },
  "kernelspec": {
   "display_name": "Python 3",
   "name": "python3"
  },
  "language_info": {
   "codemirror_mode": {
    "name": "ipython",
    "version": 3
   },
   "file_extension": ".py",
   "mimetype": "text/x-python",
   "name": "python",
   "nbconvert_exporter": "python",
   "pygments_lexer": "ipython3",
   "version": "3.10.15"
  }
 },
 "nbformat": 4,
 "nbformat_minor": 0
}

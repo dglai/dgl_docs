{
 "cells": [
  {
   "cell_type": "markdown",
   "metadata": {
    "id": "FnFhPMaAfLtJ"
   },
   "source": [
    "# OnDiskDataset for Homogeneous Graph\n",
    "\n",
    "[![Open In Colab](https://colab.research.google.com/assets/colab-badge.svg)](https://colab.research.google.com/github/dmlc/dgl/blob/master/notebooks/stochastic_training/ondisk_dataset_homograph.ipynb) [![GitHub](https://img.shields.io/badge/-View%20on%20GitHub-181717?logo=github&logoColor=ffffff)](https://github.com/dmlc/dgl/blob/master/notebooks/stochastic_training/ondisk_dataset_homograph.ipynb)\n",
    "\n",
    "This tutorial shows how to create `OnDiskDataset` for homogeneous graph that could be used in **GraphBolt** framework.\n",
    "\n",
    "By the end of this tutorial, you will be able to\n",
    "\n",
    "- organize graph structure data.\n",
    "- organize feature data.\n",
    "- organize training/validation/test set for specific tasks.\n",
    "\n",
    "To create an ``OnDiskDataset`` object, you need to organize all the data including graph structure, feature data and tasks into a directory. The directory should contain a ``metadata.yaml`` file that describes the metadata of the dataset.\n",
    "\n",
    "Now let's generate various data step by step and organize them together to instantiate `OnDiskDataset` finally."
   ]
  },
  {
   "cell_type": "markdown",
   "metadata": {
    "id": "Wlb19DtWgtzq"
   },
   "source": [
    "## Install DGL package"
   ]
  },
  {
   "cell_type": "code",
   "execution_count": 1,
   "metadata": {
    "execution": {
     "iopub.execute_input": "2024-10-18T13:18:02.753533Z",
     "iopub.status.busy": "2024-10-18T13:18:02.753082Z",
     "iopub.status.idle": "2024-10-18T13:18:05.790933Z",
     "shell.execute_reply": "2024-10-18T13:18:05.790022Z"
    },
    "id": "UojlT9ZGgyr9"
   },
   "outputs": [
    {
     "name": "stdout",
     "output_type": "stream",
     "text": [
      "Looking in links: https://data.dgl.ai/wheels-test/repo.html\r\n",
      "Requirement already satisfied: dgl in /opt/conda/envs/dgl-dev-cpu/lib/python3.10/site-packages (2.2a240410)\r\n",
      "Requirement already satisfied: numpy>=1.14.0 in /opt/conda/envs/dgl-dev-cpu/lib/python3.10/site-packages (from dgl) (1.26.4)\r\n",
      "Requirement already satisfied: scipy>=1.1.0 in /opt/conda/envs/dgl-dev-cpu/lib/python3.10/site-packages (from dgl) (1.14.1)\r\n",
      "Requirement already satisfied: networkx>=2.1 in /opt/conda/envs/dgl-dev-cpu/lib/python3.10/site-packages (from dgl) (3.4.1)\r\n",
      "Requirement already satisfied: requests>=2.19.0 in /opt/conda/envs/dgl-dev-cpu/lib/python3.10/site-packages (from dgl) (2.32.3)\r\n",
      "Requirement already satisfied: tqdm in /opt/conda/envs/dgl-dev-cpu/lib/python3.10/site-packages (from dgl) (4.66.5)\r\n",
      "Requirement already satisfied: psutil>=5.8.0 in /opt/conda/envs/dgl-dev-cpu/lib/python3.10/site-packages (from dgl) (6.1.0)\r\n",
      "Requirement already satisfied: torchdata>=0.5.0 in /opt/conda/envs/dgl-dev-cpu/lib/python3.10/site-packages (from dgl) (0.8.0)\r\n",
      "Requirement already satisfied: pandas in /opt/conda/envs/dgl-dev-cpu/lib/python3.10/site-packages (from dgl) (2.2.3)\r\n"
     ]
    },
    {
     "name": "stdout",
     "output_type": "stream",
     "text": [
      "Requirement already satisfied: charset-normalizer<4,>=2 in /opt/conda/envs/dgl-dev-cpu/lib/python3.10/site-packages (from requests>=2.19.0->dgl) (3.4.0)\r\n",
      "Requirement already satisfied: idna<4,>=2.5 in /opt/conda/envs/dgl-dev-cpu/lib/python3.10/site-packages (from requests>=2.19.0->dgl) (3.10)\r\n",
      "Requirement already satisfied: urllib3<3,>=1.21.1 in /opt/conda/envs/dgl-dev-cpu/lib/python3.10/site-packages (from requests>=2.19.0->dgl) (2.2.3)\r\n",
      "Requirement already satisfied: certifi>=2017.4.17 in /opt/conda/envs/dgl-dev-cpu/lib/python3.10/site-packages (from requests>=2.19.0->dgl) (2024.8.30)\r\n",
      "Requirement already satisfied: torch>=2 in /opt/conda/envs/dgl-dev-cpu/lib/python3.10/site-packages (from torchdata>=0.5.0->dgl) (2.1.0+cpu)\r\n"
     ]
    },
    {
     "name": "stdout",
     "output_type": "stream",
     "text": [
      "Requirement already satisfied: python-dateutil>=2.8.2 in /opt/conda/envs/dgl-dev-cpu/lib/python3.10/site-packages (from pandas->dgl) (2.9.0.post0)\r\n",
      "Requirement already satisfied: pytz>=2020.1 in /opt/conda/envs/dgl-dev-cpu/lib/python3.10/site-packages (from pandas->dgl) (2024.2)\r\n",
      "Requirement already satisfied: tzdata>=2022.7 in /opt/conda/envs/dgl-dev-cpu/lib/python3.10/site-packages (from pandas->dgl) (2024.2)\r\n",
      "Requirement already satisfied: six>=1.5 in /opt/conda/envs/dgl-dev-cpu/lib/python3.10/site-packages (from python-dateutil>=2.8.2->pandas->dgl) (1.16.0)\r\n",
      "Requirement already satisfied: filelock in /opt/conda/envs/dgl-dev-cpu/lib/python3.10/site-packages (from torch>=2->torchdata>=0.5.0->dgl) (3.16.1)\r\n",
      "Requirement already satisfied: typing-extensions in /opt/conda/envs/dgl-dev-cpu/lib/python3.10/site-packages (from torch>=2->torchdata>=0.5.0->dgl) (4.12.2)\r\n",
      "Requirement already satisfied: sympy in /opt/conda/envs/dgl-dev-cpu/lib/python3.10/site-packages (from torch>=2->torchdata>=0.5.0->dgl) (1.13.3)\r\n",
      "Requirement already satisfied: jinja2 in /opt/conda/envs/dgl-dev-cpu/lib/python3.10/site-packages (from torch>=2->torchdata>=0.5.0->dgl) (3.1.4)\r\n",
      "Requirement already satisfied: fsspec in /opt/conda/envs/dgl-dev-cpu/lib/python3.10/site-packages (from torch>=2->torchdata>=0.5.0->dgl) (2024.9.0)\r\n"
     ]
    },
    {
     "name": "stdout",
     "output_type": "stream",
     "text": [
      "Requirement already satisfied: MarkupSafe>=2.0 in /opt/conda/envs/dgl-dev-cpu/lib/python3.10/site-packages (from jinja2->torch>=2->torchdata>=0.5.0->dgl) (3.0.1)\r\n",
      "Requirement already satisfied: mpmath<1.4,>=1.1.0 in /opt/conda/envs/dgl-dev-cpu/lib/python3.10/site-packages (from sympy->torch>=2->torchdata>=0.5.0->dgl) (1.3.0)\r\n"
     ]
    },
    {
     "name": "stdout",
     "output_type": "stream",
     "text": [
      "\u001b[33mWARNING: Running pip as the 'root' user can result in broken permissions and conflicting behaviour with the system package manager, possibly rendering your system unusable.It is recommended to use a virtual environment instead: https://pip.pypa.io/warnings/venv. Use the --root-user-action option if you know what you are doing and want to suppress this warning.\u001b[0m\u001b[33m\r\n",
      "\u001b[0m"
     ]
    },
    {
     "name": "stdout",
     "output_type": "stream",
     "text": [
      "DGL installed!\n"
     ]
    }
   ],
   "source": [
    "# Install required packages.\n",
    "import os\n",
    "import torch\n",
    "import numpy as np\n",
    "os.environ['TORCH'] = torch.__version__\n",
    "os.environ['DGLBACKEND'] = \"pytorch\"\n",
    "\n",
    "# Install the CPU version.\n",
    "device = torch.device(\"cpu\")\n",
    "!pip install --pre dgl -f https://data.dgl.ai/wheels-test/repo.html\n",
    "\n",
    "try:\n",
    "    import dgl\n",
    "    import dgl.graphbolt as gb\n",
    "    installed = True\n",
    "except ImportError as error:\n",
    "    installed = False\n",
    "    print(error)\n",
    "print(\"DGL installed!\" if installed else \"DGL not found!\")"
   ]
  },
  {
   "cell_type": "markdown",
   "metadata": {
    "id": "2R7WnSbjsfbr"
   },
   "source": [
    "## Data preparation\n",
    "In order to demonstrate how to organize various data, let's create a base directory first."
   ]
  },
  {
   "cell_type": "code",
   "execution_count": 2,
   "metadata": {
    "execution": {
     "iopub.execute_input": "2024-10-18T13:18:05.793544Z",
     "iopub.status.busy": "2024-10-18T13:18:05.792879Z",
     "iopub.status.idle": "2024-10-18T13:18:05.798005Z",
     "shell.execute_reply": "2024-10-18T13:18:05.797141Z"
    },
    "id": "SZipbzyltLfO"
   },
   "outputs": [
    {
     "name": "stdout",
     "output_type": "stream",
     "text": [
      "Created base directory: ./ondisk_dataset_homograph\n"
     ]
    }
   ],
   "source": [
    "base_dir = './ondisk_dataset_homograph'\n",
    "os.makedirs(base_dir, exist_ok=True)\n",
    "print(f\"Created base directory: {base_dir}\")"
   ]
  },
  {
   "cell_type": "markdown",
   "metadata": {
    "id": "qhNtIn_xhlnl"
   },
   "source": [
    "### Generate graph structure data\n",
    "For homogeneous graph, we just need to save edges(namely seeds) into  **Numpy** or **CSV** file.\n",
    "\n",
    "Note:\n",
    "- when saving to **Numpy**, the array requires to be in shape of `(2, N)`. This format is recommended as constructing graph from it is much faster than **CSV** file.\n",
    "- when saving to **CSV** file, do not save index and header.\n"
   ]
  },
  {
   "cell_type": "code",
   "execution_count": 3,
   "metadata": {
    "execution": {
     "iopub.execute_input": "2024-10-18T13:18:05.800186Z",
     "iopub.status.busy": "2024-10-18T13:18:05.799800Z",
     "iopub.status.idle": "2024-10-18T13:18:05.814070Z",
     "shell.execute_reply": "2024-10-18T13:18:05.813192Z"
    },
    "id": "HcBt4G5BmSjr"
   },
   "outputs": [
    {
     "name": "stdout",
     "output_type": "stream",
     "text": [
      "Part of edges: [[965 428]\n",
      " [609 977]\n",
      " [207 439]\n",
      " [518 513]\n",
      " [878 329]]\n",
      "Edges are saved into ./ondisk_dataset_homograph/edges.csv\n"
     ]
    }
   ],
   "source": [
    "import numpy as np\n",
    "import pandas as pd\n",
    "num_nodes = 1000\n",
    "num_edges = 10 * num_nodes\n",
    "edges_path = os.path.join(base_dir, \"edges.csv\")\n",
    "edges = np.random.randint(0, num_nodes, size=(num_edges, 2))\n",
    "\n",
    "print(f\"Part of edges: {edges[:5, :]}\")\n",
    "\n",
    "df = pd.DataFrame(edges)\n",
    "df.to_csv(edges_path, index=False, header=False)\n",
    "\n",
    "print(f\"Edges are saved into {edges_path}\")"
   ]
  },
  {
   "cell_type": "markdown",
   "metadata": {
    "id": "kh-4cPtzpcaH"
   },
   "source": [
    "### Generate feature data for graph\n",
    "For feature data, numpy arrays and torch tensors are supported for now."
   ]
  },
  {
   "cell_type": "code",
   "execution_count": 4,
   "metadata": {
    "execution": {
     "iopub.execute_input": "2024-10-18T13:18:05.816575Z",
     "iopub.status.busy": "2024-10-18T13:18:05.816169Z",
     "iopub.status.idle": "2024-10-18T13:18:05.834624Z",
     "shell.execute_reply": "2024-10-18T13:18:05.833906Z"
    },
    "id": "_PVu1u5brBhF"
   },
   "outputs": [
    {
     "name": "stdout",
     "output_type": "stream",
     "text": [
      "Part of node feature [feat_0]: [[0.7192403  0.30231331 0.61765023 0.11643451 0.76890776]\n",
      " [0.97637383 0.71392462 0.31460507 0.5183704  0.91375882]\n",
      " [0.81137918 0.69127557 0.43939126 0.29789746 0.12911851]]\n",
      "Node feature [feat_0] is saved to ./ondisk_dataset_homograph/node-feat-0.npy\n",
      "\n",
      "Part of node feature [feat_1]: tensor([[0.1310, 0.0091, 0.5379, 0.4245, 0.6020],\n",
      "        [0.5059, 0.9313, 0.2308, 0.0191, 0.8384],\n",
      "        [0.7023, 0.7966, 0.9632, 0.9172, 0.5367]])\n",
      "Node feature [feat_1] is saved to ./ondisk_dataset_homograph/node-feat-1.pt\n",
      "\n",
      "Part of edge feature [feat_0]: [[0.29108763 0.24794573 0.28651246 0.01229496 0.78760698]\n",
      " [0.5529945  0.2125816  0.20115926 0.89508631 0.00245536]\n",
      " [0.01008099 0.25634937 0.45683269 0.0093702  0.45661576]]\n",
      "Edge feature [feat_0] is saved to ./ondisk_dataset_homograph/edge-feat-0.npy\n",
      "\n",
      "Part of edge feature [feat_1]: tensor([[0.9518, 0.3610, 0.7094, 0.4785, 0.7930],\n",
      "        [0.4593, 0.1379, 0.5299, 0.7622, 0.7041],\n",
      "        [0.9426, 0.1852, 0.6660, 0.9999, 0.5459]])\n",
      "Edge feature [feat_1] is saved to ./ondisk_dataset_homograph/edge-feat-1.pt\n",
      "\n"
     ]
    }
   ],
   "source": [
    "# Generate node feature in numpy array.\n",
    "node_feat_0_path = os.path.join(base_dir, \"node-feat-0.npy\")\n",
    "node_feat_0 = np.random.rand(num_nodes, 5)\n",
    "print(f\"Part of node feature [feat_0]: {node_feat_0[:3, :]}\")\n",
    "np.save(node_feat_0_path, node_feat_0)\n",
    "print(f\"Node feature [feat_0] is saved to {node_feat_0_path}\\n\")\n",
    "\n",
    "# Generate another node feature in torch tensor\n",
    "node_feat_1_path = os.path.join(base_dir, \"node-feat-1.pt\")\n",
    "node_feat_1 = torch.rand(num_nodes, 5)\n",
    "print(f\"Part of node feature [feat_1]: {node_feat_1[:3, :]}\")\n",
    "torch.save(node_feat_1, node_feat_1_path)\n",
    "print(f\"Node feature [feat_1] is saved to {node_feat_1_path}\\n\")\n",
    "\n",
    "# Generate edge feature in numpy array.\n",
    "edge_feat_0_path = os.path.join(base_dir, \"edge-feat-0.npy\")\n",
    "edge_feat_0 = np.random.rand(num_edges, 5)\n",
    "print(f\"Part of edge feature [feat_0]: {edge_feat_0[:3, :]}\")\n",
    "np.save(edge_feat_0_path, edge_feat_0)\n",
    "print(f\"Edge feature [feat_0] is saved to {edge_feat_0_path}\\n\")\n",
    "\n",
    "# Generate another edge feature in torch tensor\n",
    "edge_feat_1_path = os.path.join(base_dir, \"edge-feat-1.pt\")\n",
    "edge_feat_1 = torch.rand(num_edges, 5)\n",
    "print(f\"Part of edge feature [feat_1]: {edge_feat_1[:3, :]}\")\n",
    "torch.save(edge_feat_1, edge_feat_1_path)\n",
    "print(f\"Edge feature [feat_1] is saved to {edge_feat_1_path}\\n\")\n"
   ]
  },
  {
   "cell_type": "markdown",
   "metadata": {
    "id": "ZyqgOtsIwzh_"
   },
   "source": [
    "### Generate tasks\n",
    "`OnDiskDataset` supports multiple tasks. For each task, we need to prepare training/validation/test sets respectively. Such sets usually vary among different tasks. In this tutorial, let's create a **Node Classification** task and **Link Prediction** task."
   ]
  },
  {
   "cell_type": "markdown",
   "metadata": {
    "id": "hVxHaDIfzCkr"
   },
   "source": [
    "#### Node Classification Task\n",
    "For node classification task, we need **node IDs** and corresponding **labels** for each training/validation/test set. Like feature data, numpy arrays and torch tensors are supported for these sets."
   ]
  },
  {
   "cell_type": "code",
   "execution_count": 5,
   "metadata": {
    "execution": {
     "iopub.execute_input": "2024-10-18T13:18:05.836831Z",
     "iopub.status.busy": "2024-10-18T13:18:05.836634Z",
     "iopub.status.idle": "2024-10-18T13:18:05.848651Z",
     "shell.execute_reply": "2024-10-18T13:18:05.847852Z"
    },
    "id": "S5-fyBbHzTCO"
   },
   "outputs": [
    {
     "name": "stdout",
     "output_type": "stream",
     "text": [
      "Part of train ids for node classification: [857  28 147]\n",
      "NC train ids are saved to ./ondisk_dataset_homograph/nc-train-ids.npy\n",
      "\n",
      "Part of train labels for node classification: tensor([2, 2, 0])\n",
      "NC train labels are saved to ./ondisk_dataset_homograph/nc-train-labels.pt\n",
      "\n",
      "Part of val ids for node classification: [648 336 128]\n",
      "NC val ids are saved to ./ondisk_dataset_homograph/nc-val-ids.npy\n",
      "\n",
      "Part of val labels for node classification: tensor([9, 4, 0])\n",
      "NC val labels are saved to ./ondisk_dataset_homograph/nc-val-labels.pt\n",
      "\n",
      "Part of test ids for node classification: [876 365 611]\n",
      "NC test ids are saved to ./ondisk_dataset_homograph/nc-test-ids.npy\n",
      "\n",
      "Part of test labels for node classification: tensor([8, 7, 2])\n",
      "NC test labels are saved to ./ondisk_dataset_homograph/nc-test-labels.pt\n",
      "\n"
     ]
    }
   ],
   "source": [
    "num_trains = int(num_nodes * 0.6)\n",
    "num_vals = int(num_nodes * 0.2)\n",
    "num_tests = num_nodes - num_trains - num_vals\n",
    "\n",
    "ids = np.arange(num_nodes)\n",
    "np.random.shuffle(ids)\n",
    "\n",
    "nc_train_ids_path = os.path.join(base_dir, \"nc-train-ids.npy\")\n",
    "nc_train_ids = ids[:num_trains]\n",
    "print(f\"Part of train ids for node classification: {nc_train_ids[:3]}\")\n",
    "np.save(nc_train_ids_path, nc_train_ids)\n",
    "print(f\"NC train ids are saved to {nc_train_ids_path}\\n\")\n",
    "\n",
    "nc_train_labels_path = os.path.join(base_dir, \"nc-train-labels.pt\")\n",
    "nc_train_labels = torch.randint(0, 10, (num_trains,))\n",
    "print(f\"Part of train labels for node classification: {nc_train_labels[:3]}\")\n",
    "torch.save(nc_train_labels, nc_train_labels_path)\n",
    "print(f\"NC train labels are saved to {nc_train_labels_path}\\n\")\n",
    "\n",
    "nc_val_ids_path = os.path.join(base_dir, \"nc-val-ids.npy\")\n",
    "nc_val_ids = ids[num_trains:num_trains+num_vals]\n",
    "print(f\"Part of val ids for node classification: {nc_val_ids[:3]}\")\n",
    "np.save(nc_val_ids_path, nc_val_ids)\n",
    "print(f\"NC val ids are saved to {nc_val_ids_path}\\n\")\n",
    "\n",
    "nc_val_labels_path = os.path.join(base_dir, \"nc-val-labels.pt\")\n",
    "nc_val_labels = torch.randint(0, 10, (num_vals,))\n",
    "print(f\"Part of val labels for node classification: {nc_val_labels[:3]}\")\n",
    "torch.save(nc_val_labels, nc_val_labels_path)\n",
    "print(f\"NC val labels are saved to {nc_val_labels_path}\\n\")\n",
    "\n",
    "nc_test_ids_path = os.path.join(base_dir, \"nc-test-ids.npy\")\n",
    "nc_test_ids = ids[-num_tests:]\n",
    "print(f\"Part of test ids for node classification: {nc_test_ids[:3]}\")\n",
    "np.save(nc_test_ids_path, nc_test_ids)\n",
    "print(f\"NC test ids are saved to {nc_test_ids_path}\\n\")\n",
    "\n",
    "nc_test_labels_path = os.path.join(base_dir, \"nc-test-labels.pt\")\n",
    "nc_test_labels = torch.randint(0, 10, (num_tests,))\n",
    "print(f\"Part of test labels for node classification: {nc_test_labels[:3]}\")\n",
    "torch.save(nc_test_labels, nc_test_labels_path)\n",
    "print(f\"NC test labels are saved to {nc_test_labels_path}\\n\")"
   ]
  },
  {
   "cell_type": "markdown",
   "metadata": {
    "id": "LhAcDCHQ_KJ0"
   },
   "source": [
    "#### Link Prediction Task\n",
    "For link prediction task, we need **seeds** or **corresponding labels and indexes** which representing the pos/neg property and group of the seeds for each training/validation/test set. Like feature data, numpy arrays and torch tensors are supported for these sets."
   ]
  },
  {
   "cell_type": "code",
   "execution_count": 6,
   "metadata": {
    "execution": {
     "iopub.execute_input": "2024-10-18T13:18:05.851201Z",
     "iopub.status.busy": "2024-10-18T13:18:05.850786Z",
     "iopub.status.idle": "2024-10-18T13:18:05.868628Z",
     "shell.execute_reply": "2024-10-18T13:18:05.867788Z"
    },
    "id": "u0jCnXIcAQy4"
   },
   "outputs": [
    {
     "name": "stdout",
     "output_type": "stream",
     "text": [
      "Part of train seeds for link prediction: [[965 428]\n",
      " [609 977]\n",
      " [207 439]]\n",
      "LP train seeds are saved to ./ondisk_dataset_homograph/lp-train-seeds.npy\n",
      "\n",
      "Part of val seeds for link prediction: [[744 108]\n",
      " [143 939]\n",
      " [150 140]]\n",
      "LP val seeds are saved to ./ondisk_dataset_homograph/lp-val-seeds.npy\n",
      "\n",
      "Part of val labels for link prediction: [1. 1. 1.]\n",
      "LP val labels are saved to ./ondisk_dataset_homograph/lp-val-labels.npy\n",
      "\n",
      "Part of val indexes for link prediction: [0 1 2]\n",
      "LP val indexes are saved to ./ondisk_dataset_homograph/lp-val-indexes.npy\n",
      "\n",
      "Part of test seeds for link prediction: [[328 825]\n",
      " [766 525]\n",
      " [793 378]]\n",
      "LP test seeds are saved to ./ondisk_dataset_homograph/lp-test-seeds.npy\n",
      "\n",
      "Part of val labels for link prediction: [1. 1. 1.]\n",
      "LP test labels are saved to ./ondisk_dataset_homograph/lp-test-labels.npy\n",
      "\n",
      "Part of test indexes for link prediction: [0 1 2]\n",
      "LP test indexes are saved to ./ondisk_dataset_homograph/lp-test-indexes.npy\n",
      "\n"
     ]
    }
   ],
   "source": [
    "num_trains = int(num_edges * 0.6)\n",
    "num_vals = int(num_edges * 0.2)\n",
    "num_tests = num_edges - num_trains - num_vals\n",
    "\n",
    "lp_train_seeds_path = os.path.join(base_dir, \"lp-train-seeds.npy\")\n",
    "lp_train_seeds = edges[:num_trains, :]\n",
    "print(f\"Part of train seeds for link prediction: {lp_train_seeds[:3]}\")\n",
    "np.save(lp_train_seeds_path, lp_train_seeds)\n",
    "print(f\"LP train seeds are saved to {lp_train_seeds_path}\\n\")\n",
    "\n",
    "lp_val_seeds_path = os.path.join(base_dir, \"lp-val-seeds.npy\")\n",
    "lp_val_seeds = edges[num_trains:num_trains+num_vals, :]\n",
    "lp_val_neg_dsts = np.random.randint(0, num_nodes, (num_vals, 10)).reshape(-1)\n",
    "lp_val_neg_srcs = np.repeat(lp_val_seeds[:,0], 10)\n",
    "lp_val_neg_seeds = np.concatenate((lp_val_neg_srcs, lp_val_neg_dsts)).reshape(2,-1).T\n",
    "lp_val_seeds = np.concatenate((lp_val_seeds, lp_val_neg_seeds))\n",
    "print(f\"Part of val seeds for link prediction: {lp_val_seeds[:3]}\")\n",
    "np.save(lp_val_seeds_path, lp_val_seeds)\n",
    "print(f\"LP val seeds are saved to {lp_val_seeds_path}\\n\")\n",
    "\n",
    "lp_val_labels_path = os.path.join(base_dir, \"lp-val-labels.npy\")\n",
    "lp_val_labels = np.empty(num_vals * (10 + 1))\n",
    "lp_val_labels[:num_vals] = 1\n",
    "lp_val_labels[num_vals:] = 0\n",
    "print(f\"Part of val labels for link prediction: {lp_val_labels[:3]}\")\n",
    "np.save(lp_val_labels_path, lp_val_labels)\n",
    "print(f\"LP val labels are saved to {lp_val_labels_path}\\n\")\n",
    "\n",
    "lp_val_indexes_path = os.path.join(base_dir, \"lp-val-indexes.npy\")\n",
    "lp_val_indexes = np.arange(0, num_vals)\n",
    "lp_val_neg_indexes = np.repeat(lp_val_indexes, 10)\n",
    "lp_val_indexes = np.concatenate([lp_val_indexes, lp_val_neg_indexes])\n",
    "print(f\"Part of val indexes for link prediction: {lp_val_indexes[:3]}\")\n",
    "np.save(lp_val_indexes_path, lp_val_indexes)\n",
    "print(f\"LP val indexes are saved to {lp_val_indexes_path}\\n\")\n",
    "\n",
    "lp_test_seeds_path = os.path.join(base_dir, \"lp-test-seeds.npy\")\n",
    "lp_test_seeds = edges[-num_tests:, :]\n",
    "lp_test_neg_dsts = np.random.randint(0, num_nodes, (num_tests, 10)).reshape(-1)\n",
    "lp_test_neg_srcs = np.repeat(lp_test_seeds[:,0], 10)\n",
    "lp_test_neg_seeds = np.concatenate((lp_test_neg_srcs, lp_test_neg_dsts)).reshape(2,-1).T\n",
    "lp_test_seeds = np.concatenate((lp_test_seeds, lp_test_neg_seeds))\n",
    "print(f\"Part of test seeds for link prediction: {lp_test_seeds[:3]}\")\n",
    "np.save(lp_test_seeds_path, lp_test_seeds)\n",
    "print(f\"LP test seeds are saved to {lp_test_seeds_path}\\n\")\n",
    "\n",
    "lp_test_labels_path = os.path.join(base_dir, \"lp-test-labels.npy\")\n",
    "lp_test_labels = np.empty(num_tests * (10 + 1))\n",
    "lp_test_labels[:num_tests] = 1\n",
    "lp_test_labels[num_tests:] = 0\n",
    "print(f\"Part of val labels for link prediction: {lp_test_labels[:3]}\")\n",
    "np.save(lp_test_labels_path, lp_test_labels)\n",
    "print(f\"LP test labels are saved to {lp_test_labels_path}\\n\")\n",
    "\n",
    "lp_test_indexes_path = os.path.join(base_dir, \"lp-test-indexes.npy\")\n",
    "lp_test_indexes = np.arange(0, num_tests)\n",
    "lp_test_neg_indexes = np.repeat(lp_test_indexes, 10)\n",
    "lp_test_indexes = np.concatenate([lp_test_indexes, lp_test_neg_indexes])\n",
    "print(f\"Part of test indexes for link prediction: {lp_test_indexes[:3]}\")\n",
    "np.save(lp_test_indexes_path, lp_test_indexes)\n",
    "print(f\"LP test indexes are saved to {lp_test_indexes_path}\\n\")"
   ]
  },
  {
   "cell_type": "markdown",
   "metadata": {
    "id": "wbk6-wxRK-6S"
   },
   "source": [
    "## Organize Data into YAML File\n",
    "Now we need to create a `metadata.yaml` file which contains the paths, dadta types of graph structure, feature data, training/validation/test sets.\n",
    "\n",
    "Notes:\n",
    "- all path should be relative to `metadata.yaml`.\n",
    "- Below fields are optional and not specified in below example.\n",
    "  - `in_memory`: indicates whether to load dada into memory or `mmap`. Default is `True`.\n",
    "\n",
    "Please refer to [YAML specification](https://github.com/dmlc/dgl/blob/master/docs/source/stochastic_training/ondisk-dataset-specification.rst) for more details."
   ]
  },
  {
   "cell_type": "code",
   "execution_count": 7,
   "metadata": {
    "execution": {
     "iopub.execute_input": "2024-10-18T13:18:05.870881Z",
     "iopub.status.busy": "2024-10-18T13:18:05.870487Z",
     "iopub.status.idle": "2024-10-18T13:18:05.876683Z",
     "shell.execute_reply": "2024-10-18T13:18:05.875860Z"
    },
    "id": "ddGTWW61Lpwp"
   },
   "outputs": [],
   "source": [
    "yaml_content = f\"\"\"\n",
    "    dataset_name: homogeneous_graph_nc_lp\n",
    "    graph:\n",
    "      nodes:\n",
    "        - num: {num_nodes}\n",
    "      edges:\n",
    "        - format: csv\n",
    "          path: {os.path.basename(edges_path)}\n",
    "    feature_data:\n",
    "      - domain: node\n",
    "        name: feat_0\n",
    "        format: numpy\n",
    "        path: {os.path.basename(node_feat_0_path)}\n",
    "      - domain: node\n",
    "        name: feat_1\n",
    "        format: torch\n",
    "        path: {os.path.basename(node_feat_1_path)}\n",
    "      - domain: edge\n",
    "        name: feat_0\n",
    "        format: numpy\n",
    "        path: {os.path.basename(edge_feat_0_path)}\n",
    "      - domain: edge\n",
    "        name: feat_1\n",
    "        format: torch\n",
    "        path: {os.path.basename(edge_feat_1_path)}\n",
    "    tasks:\n",
    "      - name: node_classification\n",
    "        num_classes: 10\n",
    "        train_set:\n",
    "          - data:\n",
    "              - name: seeds\n",
    "                format: numpy\n",
    "                path: {os.path.basename(nc_train_ids_path)}\n",
    "              - name: labels\n",
    "                format: torch\n",
    "                path: {os.path.basename(nc_train_labels_path)}\n",
    "        validation_set:\n",
    "          - data:\n",
    "              - name: seeds\n",
    "                format: numpy\n",
    "                path: {os.path.basename(nc_val_ids_path)}\n",
    "              - name: labels\n",
    "                format: torch\n",
    "                path: {os.path.basename(nc_val_labels_path)}\n",
    "        test_set:\n",
    "          - data:\n",
    "              - name: seeds\n",
    "                format: numpy\n",
    "                path: {os.path.basename(nc_test_ids_path)}\n",
    "              - name: labels\n",
    "                format: torch\n",
    "                path: {os.path.basename(nc_test_labels_path)}\n",
    "      - name: link_prediction\n",
    "        num_classes: 10\n",
    "        train_set:\n",
    "          - data:\n",
    "              - name: seeds\n",
    "                format: numpy\n",
    "                path: {os.path.basename(lp_train_seeds_path)}\n",
    "        validation_set:\n",
    "          - data:\n",
    "              - name: seeds\n",
    "                format: numpy\n",
    "                path: {os.path.basename(lp_val_seeds_path)}\n",
    "              - name: labels\n",
    "                format: numpy\n",
    "                path: {os.path.basename(lp_val_labels_path)}\n",
    "              - name: indexes\n",
    "                format: numpy\n",
    "                path: {os.path.basename(lp_val_indexes_path)}\n",
    "        test_set:\n",
    "          - data:\n",
    "              - name: seeds\n",
    "                format: numpy\n",
    "                path: {os.path.basename(lp_test_seeds_path)}\n",
    "              - name: labels\n",
    "                format: numpy\n",
    "                path: {os.path.basename(lp_test_labels_path)}\n",
    "              - name: indexes\n",
    "                format: numpy\n",
    "                path: {os.path.basename(lp_test_indexes_path)}\n",
    "\"\"\"\n",
    "metadata_path = os.path.join(base_dir, \"metadata.yaml\")\n",
    "with open(metadata_path, \"w\") as f:\n",
    "  f.write(yaml_content)"
   ]
  },
  {
   "cell_type": "markdown",
   "metadata": {
    "id": "kEfybHGhOW7O"
   },
   "source": [
    "## Instantiate `OnDiskDataset`\n",
    "Now we're ready to load dataset via `dgl.graphbolt.OnDiskDataset`. When instantiating, we just pass in the base directory where `metadata.yaml` file lies.\n",
    "\n",
    "During first instantiation, GraphBolt preprocesses the raw data such as constructing `FusedCSCSamplingGraph` from edges. All data including graph, feature data, training/validation/test sets are put into `preprocessed` directory after preprocessing. Any following dataset loading will skip the preprocess stage.\n",
    "\n",
    "After preprocessing, `load()` is required to be called explicitly in order to load graph, feature data and tasks."
   ]
  },
  {
   "cell_type": "code",
   "execution_count": 8,
   "metadata": {
    "execution": {
     "iopub.execute_input": "2024-10-18T13:18:05.878871Z",
     "iopub.status.busy": "2024-10-18T13:18:05.878427Z",
     "iopub.status.idle": "2024-10-18T13:18:05.953208Z",
     "shell.execute_reply": "2024-10-18T13:18:05.952623Z"
    },
    "id": "W58CZoSzOiyo"
   },
   "outputs": [
    {
     "name": "stdout",
     "output_type": "stream",
     "text": [
      "Start to preprocess the on-disk dataset.\n",
      "Finish preprocessing the on-disk dataset.\n",
      "Loaded graph: FusedCSCSamplingGraph(csc_indptr=tensor([    0,     8,    23,  ...,  9979,  9989, 10000], dtype=torch.int32),\n",
      "                      indices=tensor([384, 728, 735,  ..., 895, 441, 421], dtype=torch.int32),\n",
      "                      total_num_nodes=1000, num_edges=10000,)\n",
      "\n",
      "Loaded feature store: TorchBasedFeatureStore(\n",
      "    {(<OnDiskFeatureDataDomain.NODE: 'node'>, None, 'feat_0'): TorchBasedFeature(\n",
      "        feature=tensor([[0.7192, 0.3023, 0.6177, 0.1164, 0.7689],\n",
      "                        [0.9764, 0.7139, 0.3146, 0.5184, 0.9138],\n",
      "                        [0.8114, 0.6913, 0.4394, 0.2979, 0.1291],\n",
      "                        ...,\n",
      "                        [0.6895, 0.5039, 0.7490, 0.3287, 0.4752],\n",
      "                        [0.9371, 0.2856, 0.9996, 0.3165, 0.8319],\n",
      "                        [0.2946, 0.1767, 0.2498, 0.7480, 0.7663]], dtype=torch.float64),\n",
      "        metadata={},\n",
      "    ), (<OnDiskFeatureDataDomain.NODE: 'node'>, None, 'feat_1'): TorchBasedFeature(\n",
      "        feature=tensor([[0.1310, 0.0091, 0.5379, 0.4245, 0.6020],\n",
      "                        [0.5059, 0.9313, 0.2308, 0.0191, 0.8384],\n",
      "                        [0.7023, 0.7966, 0.9632, 0.9172, 0.5367],\n",
      "                        ...,\n",
      "                        [0.4361, 0.4686, 0.7115, 0.3654, 0.8882],\n",
      "                        [0.5190, 0.9927, 0.5191, 0.5836, 0.5260],\n",
      "                        [0.8994, 0.2849, 0.4408, 0.6909, 0.4732]]),\n",
      "        metadata={},\n",
      "    ), (<OnDiskFeatureDataDomain.EDGE: 'edge'>, None, 'feat_0'): TorchBasedFeature(\n",
      "        feature=tensor([[0.2911, 0.2479, 0.2865, 0.0123, 0.7876],\n",
      "                        [0.5530, 0.2126, 0.2012, 0.8951, 0.0025],\n",
      "                        [0.0101, 0.2563, 0.4568, 0.0094, 0.4566],\n",
      "                        ...,\n",
      "                        [0.8808, 0.5275, 0.7919, 0.6047, 0.0582],\n",
      "                        [0.6958, 0.5740, 0.7505, 0.4639, 0.6770],\n",
      "                        [0.4123, 0.9052, 0.0305, 0.0552, 0.3285]], dtype=torch.float64),\n",
      "        metadata={},\n",
      "    ), (<OnDiskFeatureDataDomain.EDGE: 'edge'>, None, 'feat_1'): TorchBasedFeature(\n",
      "        feature=tensor([[0.9518, 0.3610, 0.7094, 0.4785, 0.7930],\n",
      "                        [0.4593, 0.1379, 0.5299, 0.7622, 0.7041],\n",
      "                        [0.9426, 0.1852, 0.6660, 0.9999, 0.5459],\n",
      "                        ...,\n",
      "                        [0.6408, 0.7041, 0.6781, 0.3334, 0.5693],\n",
      "                        [0.9704, 0.0471, 0.9878, 0.4915, 0.3913],\n",
      "                        [0.1233, 0.1700, 0.4885, 0.9076, 0.7052]]),\n",
      "        metadata={},\n",
      "    )}\n",
      ")\n",
      "\n",
      "Loaded node classification task: OnDiskTask(validation_set=ItemSet(\n",
      "               items=(tensor([648, 336, 128, 872, 654, 282, 185, 916, 795, 120, 800, 167, 939, 738,\n",
      "                   333,  81, 391, 520, 155,   3, 751, 430, 289, 474, 481, 662, 313, 136,\n",
      "                   529, 813, 683, 739, 401, 559, 455, 358, 317, 331,  48, 712,  52, 373,\n",
      "                   152, 532, 446, 523, 127,  53, 908, 360, 895, 909, 307, 613, 845, 644,\n",
      "                   719, 825, 121, 234, 411,  15, 245, 134, 947, 200, 597, 343,  78, 231,\n",
      "                   941, 616, 933, 355, 265, 510, 975, 829,  67, 495, 628, 574, 841, 540,\n",
      "                   423, 639, 215, 164,  51, 801, 511, 372, 763, 806,  20, 248, 183, 679,\n",
      "                   787, 308, 264, 982, 270, 101, 668, 706, 364,  34, 883, 133, 736, 589,\n",
      "                   366,  97, 125,  19, 112,   0, 604, 122, 171, 438,  23, 335, 310,   5,\n",
      "                   488, 741, 379, 479, 285, 521, 727, 790, 131, 715,  37, 323, 536, 938,\n",
      "                    42, 292, 582, 338, 327, 919, 325, 162, 400, 831,  24, 203, 242, 506,\n",
      "                   382, 935, 686, 334, 192, 177, 689, 817, 811, 998, 347, 820, 277, 884,\n",
      "                   354, 612, 383, 105, 514, 955, 944, 888, 281, 650, 378, 244, 692, 826,\n",
      "                   463, 320,  22,  96, 526, 889, 424, 130, 272, 500, 498, 758, 530, 630,\n",
      "                   614, 538, 904, 617], dtype=torch.int32), tensor([9, 4, 0, 2, 4, 2, 7, 7, 1, 3, 5, 3, 6, 0, 3, 0, 3, 8, 1, 4, 8, 5, 4, 1,\n",
      "                   2, 8, 5, 9, 8, 0, 8, 5, 7, 3, 9, 6, 7, 4, 1, 2, 7, 5, 8, 9, 9, 3, 0, 1,\n",
      "                   0, 1, 8, 5, 8, 2, 7, 3, 4, 6, 0, 9, 2, 0, 7, 5, 6, 7, 3, 1, 6, 3, 6, 7,\n",
      "                   7, 3, 7, 2, 3, 4, 4, 0, 2, 0, 3, 2, 7, 0, 8, 5, 5, 5, 6, 7, 7, 1, 2, 9,\n",
      "                   0, 8, 0, 2, 4, 6, 9, 5, 9, 7, 8, 4, 9, 8, 9, 8, 0, 8, 3, 9, 7, 9, 8, 6,\n",
      "                   3, 8, 1, 5, 7, 0, 4, 4, 3, 7, 5, 7, 7, 6, 3, 4, 5, 2, 6, 3, 7, 2, 5, 3,\n",
      "                   2, 1, 8, 7, 7, 6, 7, 2, 2, 5, 7, 1, 1, 8, 1, 3, 4, 1, 0, 6, 2, 1, 8, 5,\n",
      "                   3, 3, 1, 1, 0, 0, 6, 1, 3, 2, 7, 2, 7, 6, 2, 0, 7, 1, 6, 9, 6, 6, 9, 3,\n",
      "                   5, 7, 2, 0, 6, 7, 3, 7])),\n",
      "               names=('seeds', 'labels'),\n",
      "           ),\n",
      "           train_set=ItemSet(\n",
      "               items=(tensor([857,  28, 147, 453, 431,  32, 210, 135, 946,  84, 987, 784, 148, 618,\n",
      "                   707,  33, 241,  43, 687,   2, 434, 635, 608, 905,  69, 890, 580, 348,\n",
      "                   473,  68, 663, 461, 642, 349, 922, 531, 217, 519, 568, 753, 288, 353,\n",
      "                   603, 509, 779,  93,  54, 657, 246, 930, 879, 533, 929, 243, 216, 380,\n",
      "                   907, 153, 945, 472, 219,  60, 295, 318, 873, 920, 199, 271, 776, 218,\n",
      "                   545, 636, 362, 290, 552, 188, 996, 413,  58, 274, 743, 569, 299, 865,\n",
      "                   840, 184, 180, 554, 970,  14, 322, 599, 160,   9, 444, 268, 794, 792,\n",
      "                   878, 974, 578, 449, 159, 866, 456, 174, 769, 804, 961, 688, 181, 256,\n",
      "                   113, 700, 915, 237, 375, 989, 778, 384,  89, 951, 721, 104, 534, 251,\n",
      "                   143, 198, 537, 450, 132, 964, 991, 730, 887, 332, 928, 853, 949, 110,\n",
      "                   605, 494, 376, 836, 641, 667, 972, 306, 579, 606, 799, 415, 564, 386,\n",
      "                   156, 212, 950, 868, 454, 249, 417, 227, 977,  21, 863, 191, 224, 150,\n",
      "                   810, 780, 913, 926, 747, 396, 149, 263, 393, 205, 565, 942, 259, 102,\n",
      "                    91, 966,  80, 390, 968,  70, 666, 457,  35, 522, 406, 477, 291, 467,\n",
      "                   398, 202, 223, 301, 852, 169, 937, 625, 163, 807, 921, 470,   7, 724,\n",
      "                   284, 791, 326, 588, 822, 222, 698,  94, 771, 677, 774, 732, 267,  40,\n",
      "                   762, 421, 752, 220, 543, 493, 518, 768, 443, 775, 802, 918,  63, 828,\n",
      "                   767, 361, 161, 858, 535, 624, 230, 583, 805, 985, 252, 735, 213, 870,\n",
      "                   957, 900, 221, 294, 269, 403, 187, 711, 714, 261, 492, 897, 619, 109,\n",
      "                   765,  41, 553, 409, 468,  87, 141, 437, 914, 170,  79, 832, 525, 515,\n",
      "                    90, 983, 570, 435, 812, 896,  95, 693,   4, 943,  74, 508, 262, 997,\n",
      "                   546, 818, 368, 357, 420, 838, 722,  11, 854, 207,  75, 709, 359, 600,\n",
      "                   821, 793, 960, 595, 934, 172, 923, 843, 422, 755, 485, 571, 513, 962,\n",
      "                   394, 665, 111, 815,  57, 737, 480, 846, 556, 106, 691, 566, 137, 684,\n",
      "                   567, 497, 465, 572, 742, 690, 720, 165, 138, 297, 704, 622, 824, 464,\n",
      "                   956, 283, 734, 342, 587, 629, 851, 880, 754, 363, 984, 235, 287, 387,\n",
      "                   107, 486, 503, 864, 302, 651, 330, 466, 696,  61, 315, 505, 550, 718,\n",
      "                   881, 418, 324, 478, 483,  64, 544, 789, 973, 726, 517, 717, 340, 370,\n",
      "                   664, 912, 903, 451, 980,  46, 286, 766,  62, 958, 196, 708, 345, 512,\n",
      "                   576, 581, 796, 561, 676,  88, 490, 963, 891, 803, 194, 339, 182, 312,\n",
      "                   228, 309,  92, 797, 886, 655,  36, 992, 713, 871, 681, 247, 959,  38,\n",
      "                   848, 385, 855, 731, 226,  99, 772,  85, 100, 830, 643, 410, 640, 352,\n",
      "                    86,  45, 647,  25, 988, 404, 296, 516, 124, 447, 440, 671, 602, 660,\n",
      "                   395, 764, 777, 631, 405, 300, 932, 733, 658, 214,   8,  71, 685, 356,\n",
      "                   901, 917, 842, 705, 427, 548, 607, 350, 189, 114, 369, 408, 374, 682,\n",
      "                   459, 250,  49, 902, 954, 558, 458, 448, 298, 319, 673, 674, 293, 652,\n",
      "                   489, 925, 190, 993, 176, 496, 781, 254, 850, 491, 304, 645, 649, 433,\n",
      "                   761, 397, 426, 584, 598, 280, 429, 236, 542, 894, 837, 145, 995, 623,\n",
      "                   123, 816, 875, 239, 275, 371, 788, 892, 593, 337, 225, 969, 311, 432,\n",
      "                    66, 601,  29, 158, 940, 157, 168, 140, 193,  31, 697,  27,  55, 329,\n",
      "                    50, 967, 911, 856, 412, 314, 501, 893, 445, 971, 877, 695, 367, 260,\n",
      "                   637, 626, 638, 786, 653, 675, 233, 953, 590, 999,  73, 175, 462, 694,\n",
      "                   725, 229, 118, 173, 381,  13, 179, 388, 407, 425, 861, 273],\n",
      "                  dtype=torch.int32), tensor([2, 2, 0, 4, 1, 9, 8, 6, 3, 5, 4, 9, 9, 0, 3, 7, 8, 7, 7, 0, 2, 7, 4, 7,\n",
      "                   7, 4, 6, 7, 2, 7, 3, 4, 6, 8, 5, 1, 3, 5, 1, 7, 6, 5, 8, 5, 2, 2, 5, 9,\n",
      "                   2, 0, 1, 8, 2, 7, 6, 2, 6, 8, 6, 5, 3, 7, 9, 6, 1, 9, 7, 5, 0, 1, 5, 7,\n",
      "                   9, 5, 1, 3, 4, 2, 5, 3, 4, 4, 1, 8, 8, 3, 1, 3, 0, 1, 4, 0, 1, 8, 2, 8,\n",
      "                   1, 8, 7, 4, 0, 1, 2, 1, 9, 9, 6, 5, 1, 8, 4, 9, 1, 6, 5, 0, 0, 6, 0, 5,\n",
      "                   6, 1, 3, 3, 1, 8, 8, 2, 0, 7, 1, 0, 3, 6, 6, 5, 5, 1, 0, 8, 0, 2, 4, 3,\n",
      "                   7, 5, 9, 7, 8, 8, 7, 3, 9, 4, 5, 2, 8, 8, 1, 3, 6, 0, 0, 3, 7, 8, 6, 1,\n",
      "                   9, 3, 3, 0, 6, 3, 5, 1, 3, 0, 7, 9, 3, 9, 7, 9, 9, 7, 6, 5, 1, 0, 4, 3,\n",
      "                   4, 2, 4, 6, 2, 6, 7, 5, 6, 2, 6, 2, 5, 3, 0, 6, 2, 5, 5, 3, 0, 8, 3, 1,\n",
      "                   8, 4, 9, 5, 7, 8, 5, 6, 3, 7, 2, 5, 6, 9, 3, 3, 0, 1, 1, 7, 8, 2, 2, 7,\n",
      "                   6, 6, 6, 1, 1, 2, 2, 4, 9, 9, 5, 2, 9, 1, 5, 4, 7, 8, 0, 6, 9, 0, 4, 3,\n",
      "                   0, 9, 6, 9, 1, 4, 5, 4, 9, 8, 7, 8, 0, 9, 3, 6, 7, 2, 5, 0, 7, 4, 2, 2,\n",
      "                   5, 0, 6, 9, 4, 4, 6, 8, 0, 4, 2, 4, 1, 8, 0, 8, 2, 5, 8, 5, 1, 8, 5, 8,\n",
      "                   1, 2, 0, 3, 1, 3, 6, 0, 3, 9, 9, 3, 7, 7, 7, 6, 9, 0, 7, 2, 9, 5, 5, 6,\n",
      "                   1, 4, 1, 6, 4, 7, 5, 9, 8, 8, 3, 7, 5, 8, 8, 5, 2, 1, 8, 6, 5, 4, 3, 3,\n",
      "                   6, 0, 3, 2, 8, 4, 1, 0, 5, 3, 4, 2, 9, 7, 4, 9, 3, 6, 8, 1, 1, 3, 2, 4,\n",
      "                   8, 2, 2, 8, 5, 1, 9, 9, 6, 0, 9, 8, 5, 6, 8, 3, 9, 3, 1, 5, 2, 5, 6, 9,\n",
      "                   9, 8, 4, 8, 3, 1, 8, 0, 3, 7, 4, 6, 7, 5, 9, 1, 6, 4, 1, 9, 1, 3, 9, 3,\n",
      "                   4, 6, 0, 6, 9, 4, 1, 0, 9, 9, 7, 6, 5, 6, 6, 0, 6, 3, 9, 9, 2, 6, 0, 0,\n",
      "                   2, 0, 1, 6, 1, 2, 3, 7, 6, 2, 2, 3, 7, 4, 8, 5, 4, 9, 6, 3, 8, 6, 6, 5,\n",
      "                   7, 3, 6, 8, 8, 4, 4, 1, 2, 3, 3, 2, 9, 8, 6, 8, 9, 9, 7, 5, 0, 2, 3, 8,\n",
      "                   0, 2, 9, 9, 6, 7, 5, 9, 5, 6, 4, 2, 5, 0, 8, 4, 8, 4, 8, 7, 4, 1, 6, 2,\n",
      "                   6, 6, 9, 2, 5, 7, 9, 4, 4, 4, 0, 7, 1, 0, 5, 4, 3, 9, 8, 6, 5, 2, 8, 5,\n",
      "                   4, 6, 0, 5, 8, 0, 7, 9, 4, 5, 9, 7, 7, 7, 4, 7, 9, 0, 0, 4, 2, 9, 4, 7,\n",
      "                   6, 3, 5, 4, 2, 2, 7, 3, 4, 0, 1, 2, 6, 5, 6, 1, 0, 0, 7, 1, 3, 6, 8, 7])),\n",
      "               names=('seeds', 'labels'),\n",
      "           ),\n",
      "           test_set=ItemSet(\n",
      "               items=(tensor([876, 365, 611, 103, 744, 885, 750,  77, 808, 594, 316, 166, 680, 927,\n",
      "                   344, 634,  72, 258, 849, 328, 621, 827, 560, 990, 575, 487, 551, 981,\n",
      "                    65, 867, 979, 728,  26, 436, 541, 749, 869, 204, 377, 740, 539, 201,\n",
      "                   416, 835, 482, 659, 108,   1, 471, 615, 627, 931, 117, 757, 701, 978,\n",
      "                   502, 573,  44, 609, 527, 507, 341, 115, 321, 209, 823, 783, 499, 833,\n",
      "                   798, 392, 208,  12, 592, 528, 874, 678, 389, 154, 661, 428, 144, 232,\n",
      "                   748, 441, 126, 346, 305, 146, 596, 484, 195, 585, 862, 632, 814,  76,\n",
      "                   257, 672, 710,  30, 770, 906, 760, 197,  98,  17, 211, 476, 976, 278,\n",
      "                    82, 253, 669, 524, 555, 129, 703, 936,  83, 591, 670, 699, 460, 586,\n",
      "                   847, 819, 844, 759, 994, 439, 898, 610, 563, 716,  59, 178, 910, 549,\n",
      "                    56, 785, 238, 206, 402,  39, 646,  16, 116, 151, 620, 782, 756, 948,\n",
      "                   303, 577, 139, 504, 723, 419, 746, 399, 859, 276, 899, 142, 745, 702,\n",
      "                   860, 351, 729, 834, 547, 562,  47, 442, 633, 882, 557, 924, 952, 186,\n",
      "                   809, 414, 839, 119,   6, 469, 279,  18, 255, 240, 773, 656, 965, 266,\n",
      "                   986,  10, 475, 452], dtype=torch.int32), tensor([8, 7, 2, 3, 9, 7, 0, 2, 1, 5, 3, 8, 1, 6, 8, 5, 9, 4, 8, 7, 1, 1, 3, 2,\n",
      "                   0, 6, 3, 8, 7, 9, 8, 4, 3, 1, 5, 7, 2, 3, 1, 6, 9, 3, 2, 8, 3, 9, 0, 8,\n",
      "                   4, 3, 6, 6, 8, 1, 6, 8, 9, 5, 1, 3, 4, 4, 5, 8, 5, 4, 4, 1, 1, 0, 0, 9,\n",
      "                   2, 2, 9, 0, 8, 5, 6, 8, 6, 3, 2, 4, 0, 2, 7, 2, 9, 0, 7, 4, 2, 8, 4, 2,\n",
      "                   1, 7, 9, 9, 2, 0, 4, 9, 0, 4, 6, 6, 5, 3, 8, 5, 0, 9, 9, 6, 2, 1, 8, 9,\n",
      "                   1, 7, 1, 0, 1, 8, 1, 2, 9, 1, 1, 8, 9, 2, 7, 8, 8, 7, 5, 9, 6, 3, 1, 5,\n",
      "                   2, 9, 9, 3, 5, 9, 9, 5, 8, 4, 5, 5, 5, 0, 6, 6, 1, 3, 5, 1, 8, 5, 4, 1,\n",
      "                   7, 5, 5, 8, 5, 1, 4, 8, 9, 0, 9, 6, 9, 6, 2, 3, 2, 5, 1, 0, 2, 9, 9, 6,\n",
      "                   4, 2, 4, 0, 9, 1, 1, 2])),\n",
      "               names=('seeds', 'labels'),\n",
      "           ),\n",
      "           metadata={'name': 'node_classification', 'num_classes': 10},)\n",
      "\n",
      "Loaded link prediction task: OnDiskTask(validation_set=ItemSet(\n",
      "               items=(tensor([[744, 108],\n",
      "                   [143, 939],\n",
      "                   [150, 140],\n",
      "                   ...,\n",
      "                   [751, 325],\n",
      "                   [751, 916],\n",
      "                   [751, 411]], dtype=torch.int32), tensor([1., 1., 1.,  ..., 0., 0., 0.], dtype=torch.float64), tensor([   0,    1,    2,  ..., 1999, 1999, 1999])),\n",
      "               names=('seeds', 'labels', 'indexes'),\n",
      "           ),\n",
      "           train_set=ItemSet(\n",
      "               items=(tensor([[965, 428],\n",
      "                   [609, 977],\n",
      "                   [207, 439],\n",
      "                   ...,\n",
      "                   [195,  40],\n",
      "                   [589, 335],\n",
      "                   [859, 551]], dtype=torch.int32),),\n",
      "               names=('seeds',),\n",
      "           ),\n",
      "           test_set=ItemSet(\n",
      "               items=(tensor([[328, 825],\n",
      "                   [766, 525],\n",
      "                   [793, 378],\n",
      "                   ...,\n",
      "                   [107, 714],\n",
      "                   [107, 634],\n",
      "                   [107, 202]], dtype=torch.int32), tensor([1., 1., 1.,  ..., 0., 0., 0.], dtype=torch.float64), tensor([   0,    1,    2,  ..., 1999, 1999, 1999])),\n",
      "               names=('seeds', 'labels', 'indexes'),\n",
      "           ),\n",
      "           metadata={'name': 'link_prediction', 'num_classes': 10},)\n",
      "\n"
     ]
    },
    {
     "name": "stderr",
     "output_type": "stream",
     "text": [
      "/dgl/python/dgl/graphbolt/impl/ondisk_dataset.py:463: GBWarning: Edge feature is stored, but edge IDs are not saved.\n",
      "  gb_warning(\"Edge feature is stored, but edge IDs are not saved.\")\n"
     ]
    }
   ],
   "source": [
    "dataset = gb.OnDiskDataset(base_dir).load()\n",
    "graph = dataset.graph\n",
    "print(f\"Loaded graph: {graph}\\n\")\n",
    "\n",
    "feature = dataset.feature\n",
    "print(f\"Loaded feature store: {feature}\\n\")\n",
    "\n",
    "tasks = dataset.tasks\n",
    "nc_task = tasks[0]\n",
    "print(f\"Loaded node classification task: {nc_task}\\n\")\n",
    "lp_task = tasks[1]\n",
    "print(f\"Loaded link prediction task: {lp_task}\\n\")"
   ]
  }
 ],
 "metadata": {
  "colab": {
   "private_outputs": true,
   "provenance": []
  },
  "kernelspec": {
   "display_name": "Python 3",
   "name": "python3"
  },
  "language_info": {
   "codemirror_mode": {
    "name": "ipython",
    "version": 3
   },
   "file_extension": ".py",
   "mimetype": "text/x-python",
   "name": "python",
   "nbconvert_exporter": "python",
   "pygments_lexer": "ipython3",
   "version": "3.10.15"
  }
 },
 "nbformat": 4,
 "nbformat_minor": 0
}

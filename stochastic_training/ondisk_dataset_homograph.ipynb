{
 "cells": [
  {
   "cell_type": "markdown",
   "metadata": {
    "id": "FnFhPMaAfLtJ"
   },
   "source": [
    "# OnDiskDataset for Homogeneous Graph\n",
    "\n",
    "[![Open In Colab](https://colab.research.google.com/assets/colab-badge.svg)](https://colab.research.google.com/github/dmlc/dgl/blob/master/notebooks/stochastic_training/ondisk_dataset_homograph.ipynb) [![GitHub](https://img.shields.io/badge/-View%20on%20GitHub-181717?logo=github&logoColor=ffffff)](https://github.com/dmlc/dgl/blob/master/notebooks/stochastic_training/ondisk_dataset_homograph.ipynb)\n",
    "\n",
    "This tutorial shows how to create `OnDiskDataset` for homogeneous graph that could be used in **GraphBolt** framework.\n",
    "\n",
    "By the end of this tutorial, you will be able to\n",
    "\n",
    "- organize graph structure data.\n",
    "- organize feature data.\n",
    "- organize training/validation/test set for specific tasks.\n",
    "\n",
    "To create an ``OnDiskDataset`` object, you need to organize all the data including graph structure, feature data and tasks into a directory. The directory should contain a ``metadata.yaml`` file that describes the metadata of the dataset.\n",
    "\n",
    "Now let's generate various data step by step and organize them together to instantiate `OnDiskDataset` finally."
   ]
  },
  {
   "cell_type": "markdown",
   "metadata": {
    "id": "Wlb19DtWgtzq"
   },
   "source": [
    "## Install DGL package"
   ]
  },
  {
   "cell_type": "code",
   "execution_count": 1,
   "metadata": {
    "execution": {
     "iopub.execute_input": "2024-10-08T13:16:07.139595Z",
     "iopub.status.busy": "2024-10-08T13:16:07.139275Z",
     "iopub.status.idle": "2024-10-08T13:16:10.185447Z",
     "shell.execute_reply": "2024-10-08T13:16:10.184560Z"
    },
    "id": "UojlT9ZGgyr9"
   },
   "outputs": [
    {
     "name": "stdout",
     "output_type": "stream",
     "text": [
      "Looking in links: https://data.dgl.ai/wheels-test/repo.html\r\n",
      "Requirement already satisfied: dgl in /opt/conda/envs/dgl-dev-cpu/lib/python3.10/site-packages (2.2a240410)\r\n",
      "Requirement already satisfied: numpy>=1.14.0 in /opt/conda/envs/dgl-dev-cpu/lib/python3.10/site-packages (from dgl) (1.26.4)\r\n",
      "Requirement already satisfied: scipy>=1.1.0 in /opt/conda/envs/dgl-dev-cpu/lib/python3.10/site-packages (from dgl) (1.14.1)\r\n",
      "Requirement already satisfied: networkx>=2.1 in /opt/conda/envs/dgl-dev-cpu/lib/python3.10/site-packages (from dgl) (3.3)\r\n",
      "Requirement already satisfied: requests>=2.19.0 in /opt/conda/envs/dgl-dev-cpu/lib/python3.10/site-packages (from dgl) (2.32.3)\r\n",
      "Requirement already satisfied: tqdm in /opt/conda/envs/dgl-dev-cpu/lib/python3.10/site-packages (from dgl) (4.66.5)\r\n",
      "Requirement already satisfied: psutil>=5.8.0 in /opt/conda/envs/dgl-dev-cpu/lib/python3.10/site-packages (from dgl) (6.0.0)\r\n",
      "Requirement already satisfied: torchdata>=0.5.0 in /opt/conda/envs/dgl-dev-cpu/lib/python3.10/site-packages (from dgl) (0.8.0)\r\n",
      "Requirement already satisfied: pandas in /opt/conda/envs/dgl-dev-cpu/lib/python3.10/site-packages (from dgl) (2.2.3)\r\n"
     ]
    },
    {
     "name": "stdout",
     "output_type": "stream",
     "text": [
      "Requirement already satisfied: charset-normalizer<4,>=2 in /opt/conda/envs/dgl-dev-cpu/lib/python3.10/site-packages (from requests>=2.19.0->dgl) (3.3.2)\r\n",
      "Requirement already satisfied: idna<4,>=2.5 in /opt/conda/envs/dgl-dev-cpu/lib/python3.10/site-packages (from requests>=2.19.0->dgl) (3.10)\r\n",
      "Requirement already satisfied: urllib3<3,>=1.21.1 in /opt/conda/envs/dgl-dev-cpu/lib/python3.10/site-packages (from requests>=2.19.0->dgl) (2.2.3)\r\n",
      "Requirement already satisfied: certifi>=2017.4.17 in /opt/conda/envs/dgl-dev-cpu/lib/python3.10/site-packages (from requests>=2.19.0->dgl) (2024.8.30)\r\n",
      "Requirement already satisfied: torch>=2 in /opt/conda/envs/dgl-dev-cpu/lib/python3.10/site-packages (from torchdata>=0.5.0->dgl) (2.1.0+cpu)\r\n"
     ]
    },
    {
     "name": "stdout",
     "output_type": "stream",
     "text": [
      "Requirement already satisfied: python-dateutil>=2.8.2 in /opt/conda/envs/dgl-dev-cpu/lib/python3.10/site-packages (from pandas->dgl) (2.9.0.post0)\r\n",
      "Requirement already satisfied: pytz>=2020.1 in /opt/conda/envs/dgl-dev-cpu/lib/python3.10/site-packages (from pandas->dgl) (2024.2)\r\n",
      "Requirement already satisfied: tzdata>=2022.7 in /opt/conda/envs/dgl-dev-cpu/lib/python3.10/site-packages (from pandas->dgl) (2024.2)\r\n",
      "Requirement already satisfied: six>=1.5 in /opt/conda/envs/dgl-dev-cpu/lib/python3.10/site-packages (from python-dateutil>=2.8.2->pandas->dgl) (1.16.0)\r\n",
      "Requirement already satisfied: filelock in /opt/conda/envs/dgl-dev-cpu/lib/python3.10/site-packages (from torch>=2->torchdata>=0.5.0->dgl) (3.16.1)\r\n",
      "Requirement already satisfied: typing-extensions in /opt/conda/envs/dgl-dev-cpu/lib/python3.10/site-packages (from torch>=2->torchdata>=0.5.0->dgl) (4.12.2)\r\n",
      "Requirement already satisfied: sympy in /opt/conda/envs/dgl-dev-cpu/lib/python3.10/site-packages (from torch>=2->torchdata>=0.5.0->dgl) (1.13.3)\r\n",
      "Requirement already satisfied: jinja2 in /opt/conda/envs/dgl-dev-cpu/lib/python3.10/site-packages (from torch>=2->torchdata>=0.5.0->dgl) (3.1.4)\r\n",
      "Requirement already satisfied: fsspec in /opt/conda/envs/dgl-dev-cpu/lib/python3.10/site-packages (from torch>=2->torchdata>=0.5.0->dgl) (2024.9.0)\r\n"
     ]
    },
    {
     "name": "stdout",
     "output_type": "stream",
     "text": [
      "Requirement already satisfied: MarkupSafe>=2.0 in /opt/conda/envs/dgl-dev-cpu/lib/python3.10/site-packages (from jinja2->torch>=2->torchdata>=0.5.0->dgl) (3.0.0)\r\n",
      "Requirement already satisfied: mpmath<1.4,>=1.1.0 in /opt/conda/envs/dgl-dev-cpu/lib/python3.10/site-packages (from sympy->torch>=2->torchdata>=0.5.0->dgl) (1.3.0)\r\n"
     ]
    },
    {
     "name": "stdout",
     "output_type": "stream",
     "text": [
      "\u001b[33mWARNING: Running pip as the 'root' user can result in broken permissions and conflicting behaviour with the system package manager, possibly rendering your system unusable.It is recommended to use a virtual environment instead: https://pip.pypa.io/warnings/venv. Use the --root-user-action option if you know what you are doing and want to suppress this warning.\u001b[0m\u001b[33m\r\n",
      "\u001b[0m"
     ]
    },
    {
     "name": "stdout",
     "output_type": "stream",
     "text": [
      "DGL installed!\n"
     ]
    }
   ],
   "source": [
    "# Install required packages.\n",
    "import os\n",
    "import torch\n",
    "import numpy as np\n",
    "os.environ['TORCH'] = torch.__version__\n",
    "os.environ['DGLBACKEND'] = \"pytorch\"\n",
    "\n",
    "# Install the CPU version.\n",
    "device = torch.device(\"cpu\")\n",
    "!pip install --pre dgl -f https://data.dgl.ai/wheels-test/repo.html\n",
    "\n",
    "try:\n",
    "    import dgl\n",
    "    import dgl.graphbolt as gb\n",
    "    installed = True\n",
    "except ImportError as error:\n",
    "    installed = False\n",
    "    print(error)\n",
    "print(\"DGL installed!\" if installed else \"DGL not found!\")"
   ]
  },
  {
   "cell_type": "markdown",
   "metadata": {
    "id": "2R7WnSbjsfbr"
   },
   "source": [
    "## Data preparation\n",
    "In order to demonstrate how to organize various data, let's create a base directory first."
   ]
  },
  {
   "cell_type": "code",
   "execution_count": 2,
   "metadata": {
    "execution": {
     "iopub.execute_input": "2024-10-08T13:16:10.188142Z",
     "iopub.status.busy": "2024-10-08T13:16:10.187447Z",
     "iopub.status.idle": "2024-10-08T13:16:10.192584Z",
     "shell.execute_reply": "2024-10-08T13:16:10.191769Z"
    },
    "id": "SZipbzyltLfO"
   },
   "outputs": [
    {
     "name": "stdout",
     "output_type": "stream",
     "text": [
      "Created base directory: ./ondisk_dataset_homograph\n"
     ]
    }
   ],
   "source": [
    "base_dir = './ondisk_dataset_homograph'\n",
    "os.makedirs(base_dir, exist_ok=True)\n",
    "print(f\"Created base directory: {base_dir}\")"
   ]
  },
  {
   "cell_type": "markdown",
   "metadata": {
    "id": "qhNtIn_xhlnl"
   },
   "source": [
    "### Generate graph structure data\n",
    "For homogeneous graph, we just need to save edges(namely seeds) into  **Numpy** or **CSV** file.\n",
    "\n",
    "Note:\n",
    "- when saving to **Numpy**, the array requires to be in shape of `(2, N)`. This format is recommended as constructing graph from it is much faster than **CSV** file.\n",
    "- when saving to **CSV** file, do not save index and header.\n"
   ]
  },
  {
   "cell_type": "code",
   "execution_count": 3,
   "metadata": {
    "execution": {
     "iopub.execute_input": "2024-10-08T13:16:10.194595Z",
     "iopub.status.busy": "2024-10-08T13:16:10.194318Z",
     "iopub.status.idle": "2024-10-08T13:16:10.208213Z",
     "shell.execute_reply": "2024-10-08T13:16:10.207475Z"
    },
    "id": "HcBt4G5BmSjr"
   },
   "outputs": [
    {
     "name": "stdout",
     "output_type": "stream",
     "text": [
      "Part of edges: [[123 306]\n",
      " [985 644]\n",
      " [687 699]\n",
      " [102 978]\n",
      " [697 389]]\n",
      "Edges are saved into ./ondisk_dataset_homograph/edges.csv\n"
     ]
    }
   ],
   "source": [
    "import numpy as np\n",
    "import pandas as pd\n",
    "num_nodes = 1000\n",
    "num_edges = 10 * num_nodes\n",
    "edges_path = os.path.join(base_dir, \"edges.csv\")\n",
    "edges = np.random.randint(0, num_nodes, size=(num_edges, 2))\n",
    "\n",
    "print(f\"Part of edges: {edges[:5, :]}\")\n",
    "\n",
    "df = pd.DataFrame(edges)\n",
    "df.to_csv(edges_path, index=False, header=False)\n",
    "\n",
    "print(f\"Edges are saved into {edges_path}\")"
   ]
  },
  {
   "cell_type": "markdown",
   "metadata": {
    "id": "kh-4cPtzpcaH"
   },
   "source": [
    "### Generate feature data for graph\n",
    "For feature data, numpy arrays and torch tensors are supported for now."
   ]
  },
  {
   "cell_type": "code",
   "execution_count": 4,
   "metadata": {
    "execution": {
     "iopub.execute_input": "2024-10-08T13:16:10.210313Z",
     "iopub.status.busy": "2024-10-08T13:16:10.210114Z",
     "iopub.status.idle": "2024-10-08T13:16:10.223765Z",
     "shell.execute_reply": "2024-10-08T13:16:10.223026Z"
    },
    "id": "_PVu1u5brBhF"
   },
   "outputs": [
    {
     "name": "stdout",
     "output_type": "stream",
     "text": [
      "Part of node feature [feat_0]: [[0.83399498 0.28757377 0.57594729 0.95899591 0.96876867]\n",
      " [0.09648144 0.94417373 0.4884872  0.95038769 0.39656594]\n",
      " [0.23264097 0.75148613 0.14597198 0.64948424 0.34533092]]\n",
      "Node feature [feat_0] is saved to ./ondisk_dataset_homograph/node-feat-0.npy\n",
      "\n",
      "Part of node feature [feat_1]: tensor([[0.3257, 0.7732, 0.6642, 0.2855, 0.3191],\n",
      "        [0.3768, 0.0307, 0.3623, 0.3222, 0.1453],\n",
      "        [0.3872, 0.4261, 0.8134, 0.5359, 0.8365]])\n",
      "Node feature [feat_1] is saved to ./ondisk_dataset_homograph/node-feat-1.pt\n",
      "\n",
      "Part of edge feature [feat_0]: [[0.50467903 0.65359824 0.66379582 0.3139271  0.10712272]\n",
      " [0.46631626 0.44192237 0.27532993 0.97980912 0.53694644]\n",
      " [0.18561096 0.01601248 0.23207439 0.89156759 0.96886332]]\n",
      "Edge feature [feat_0] is saved to ./ondisk_dataset_homograph/edge-feat-0.npy\n",
      "\n",
      "Part of edge feature [feat_1]: tensor([[0.4311, 0.1685, 0.0274, 0.9450, 0.4053],\n",
      "        [0.5862, 0.4507, 0.5682, 0.7519, 0.1561],\n",
      "        [0.5000, 0.7957, 0.7548, 0.0438, 0.5398]])\n",
      "Edge feature [feat_1] is saved to ./ondisk_dataset_homograph/edge-feat-1.pt\n",
      "\n"
     ]
    }
   ],
   "source": [
    "# Generate node feature in numpy array.\n",
    "node_feat_0_path = os.path.join(base_dir, \"node-feat-0.npy\")\n",
    "node_feat_0 = np.random.rand(num_nodes, 5)\n",
    "print(f\"Part of node feature [feat_0]: {node_feat_0[:3, :]}\")\n",
    "np.save(node_feat_0_path, node_feat_0)\n",
    "print(f\"Node feature [feat_0] is saved to {node_feat_0_path}\\n\")\n",
    "\n",
    "# Generate another node feature in torch tensor\n",
    "node_feat_1_path = os.path.join(base_dir, \"node-feat-1.pt\")\n",
    "node_feat_1 = torch.rand(num_nodes, 5)\n",
    "print(f\"Part of node feature [feat_1]: {node_feat_1[:3, :]}\")\n",
    "torch.save(node_feat_1, node_feat_1_path)\n",
    "print(f\"Node feature [feat_1] is saved to {node_feat_1_path}\\n\")\n",
    "\n",
    "# Generate edge feature in numpy array.\n",
    "edge_feat_0_path = os.path.join(base_dir, \"edge-feat-0.npy\")\n",
    "edge_feat_0 = np.random.rand(num_edges, 5)\n",
    "print(f\"Part of edge feature [feat_0]: {edge_feat_0[:3, :]}\")\n",
    "np.save(edge_feat_0_path, edge_feat_0)\n",
    "print(f\"Edge feature [feat_0] is saved to {edge_feat_0_path}\\n\")\n",
    "\n",
    "# Generate another edge feature in torch tensor\n",
    "edge_feat_1_path = os.path.join(base_dir, \"edge-feat-1.pt\")\n",
    "edge_feat_1 = torch.rand(num_edges, 5)\n",
    "print(f\"Part of edge feature [feat_1]: {edge_feat_1[:3, :]}\")\n",
    "torch.save(edge_feat_1, edge_feat_1_path)\n",
    "print(f\"Edge feature [feat_1] is saved to {edge_feat_1_path}\\n\")\n"
   ]
  },
  {
   "cell_type": "markdown",
   "metadata": {
    "id": "ZyqgOtsIwzh_"
   },
   "source": [
    "### Generate tasks\n",
    "`OnDiskDataset` supports multiple tasks. For each task, we need to prepare training/validation/test sets respectively. Such sets usually vary among different tasks. In this tutorial, let's create a **Node Classification** task and **Link Prediction** task."
   ]
  },
  {
   "cell_type": "markdown",
   "metadata": {
    "id": "hVxHaDIfzCkr"
   },
   "source": [
    "#### Node Classification Task\n",
    "For node classification task, we need **node IDs** and corresponding **labels** for each training/validation/test set. Like feature data, numpy arrays and torch tensors are supported for these sets."
   ]
  },
  {
   "cell_type": "code",
   "execution_count": 5,
   "metadata": {
    "execution": {
     "iopub.execute_input": "2024-10-08T13:16:10.226237Z",
     "iopub.status.busy": "2024-10-08T13:16:10.226037Z",
     "iopub.status.idle": "2024-10-08T13:16:10.237827Z",
     "shell.execute_reply": "2024-10-08T13:16:10.237152Z"
    },
    "id": "S5-fyBbHzTCO"
   },
   "outputs": [
    {
     "name": "stdout",
     "output_type": "stream",
     "text": [
      "Part of train ids for node classification: [441 696 370]\n",
      "NC train ids are saved to ./ondisk_dataset_homograph/nc-train-ids.npy\n",
      "\n",
      "Part of train labels for node classification: tensor([3, 1, 6])\n",
      "NC train labels are saved to ./ondisk_dataset_homograph/nc-train-labels.pt\n",
      "\n",
      "Part of val ids for node classification: [941 526 170]\n",
      "NC val ids are saved to ./ondisk_dataset_homograph/nc-val-ids.npy\n",
      "\n",
      "Part of val labels for node classification: tensor([4, 3, 5])\n",
      "NC val labels are saved to ./ondisk_dataset_homograph/nc-val-labels.pt\n",
      "\n",
      "Part of test ids for node classification: [400 848 117]\n",
      "NC test ids are saved to ./ondisk_dataset_homograph/nc-test-ids.npy\n",
      "\n",
      "Part of test labels for node classification: tensor([2, 4, 8])\n",
      "NC test labels are saved to ./ondisk_dataset_homograph/nc-test-labels.pt\n",
      "\n"
     ]
    }
   ],
   "source": [
    "num_trains = int(num_nodes * 0.6)\n",
    "num_vals = int(num_nodes * 0.2)\n",
    "num_tests = num_nodes - num_trains - num_vals\n",
    "\n",
    "ids = np.arange(num_nodes)\n",
    "np.random.shuffle(ids)\n",
    "\n",
    "nc_train_ids_path = os.path.join(base_dir, \"nc-train-ids.npy\")\n",
    "nc_train_ids = ids[:num_trains]\n",
    "print(f\"Part of train ids for node classification: {nc_train_ids[:3]}\")\n",
    "np.save(nc_train_ids_path, nc_train_ids)\n",
    "print(f\"NC train ids are saved to {nc_train_ids_path}\\n\")\n",
    "\n",
    "nc_train_labels_path = os.path.join(base_dir, \"nc-train-labels.pt\")\n",
    "nc_train_labels = torch.randint(0, 10, (num_trains,))\n",
    "print(f\"Part of train labels for node classification: {nc_train_labels[:3]}\")\n",
    "torch.save(nc_train_labels, nc_train_labels_path)\n",
    "print(f\"NC train labels are saved to {nc_train_labels_path}\\n\")\n",
    "\n",
    "nc_val_ids_path = os.path.join(base_dir, \"nc-val-ids.npy\")\n",
    "nc_val_ids = ids[num_trains:num_trains+num_vals]\n",
    "print(f\"Part of val ids for node classification: {nc_val_ids[:3]}\")\n",
    "np.save(nc_val_ids_path, nc_val_ids)\n",
    "print(f\"NC val ids are saved to {nc_val_ids_path}\\n\")\n",
    "\n",
    "nc_val_labels_path = os.path.join(base_dir, \"nc-val-labels.pt\")\n",
    "nc_val_labels = torch.randint(0, 10, (num_vals,))\n",
    "print(f\"Part of val labels for node classification: {nc_val_labels[:3]}\")\n",
    "torch.save(nc_val_labels, nc_val_labels_path)\n",
    "print(f\"NC val labels are saved to {nc_val_labels_path}\\n\")\n",
    "\n",
    "nc_test_ids_path = os.path.join(base_dir, \"nc-test-ids.npy\")\n",
    "nc_test_ids = ids[-num_tests:]\n",
    "print(f\"Part of test ids for node classification: {nc_test_ids[:3]}\")\n",
    "np.save(nc_test_ids_path, nc_test_ids)\n",
    "print(f\"NC test ids are saved to {nc_test_ids_path}\\n\")\n",
    "\n",
    "nc_test_labels_path = os.path.join(base_dir, \"nc-test-labels.pt\")\n",
    "nc_test_labels = torch.randint(0, 10, (num_tests,))\n",
    "print(f\"Part of test labels for node classification: {nc_test_labels[:3]}\")\n",
    "torch.save(nc_test_labels, nc_test_labels_path)\n",
    "print(f\"NC test labels are saved to {nc_test_labels_path}\\n\")"
   ]
  },
  {
   "cell_type": "markdown",
   "metadata": {
    "id": "LhAcDCHQ_KJ0"
   },
   "source": [
    "#### Link Prediction Task\n",
    "For link prediction task, we need **seeds** or **corresponding labels and indexes** which representing the pos/neg property and group of the seeds for each training/validation/test set. Like feature data, numpy arrays and torch tensors are supported for these sets."
   ]
  },
  {
   "cell_type": "code",
   "execution_count": 6,
   "metadata": {
    "execution": {
     "iopub.execute_input": "2024-10-08T13:16:10.240210Z",
     "iopub.status.busy": "2024-10-08T13:16:10.239864Z",
     "iopub.status.idle": "2024-10-08T13:16:10.257194Z",
     "shell.execute_reply": "2024-10-08T13:16:10.256615Z"
    },
    "id": "u0jCnXIcAQy4"
   },
   "outputs": [
    {
     "name": "stdout",
     "output_type": "stream",
     "text": [
      "Part of train seeds for link prediction: [[123 306]\n",
      " [985 644]\n",
      " [687 699]]\n",
      "LP train seeds are saved to ./ondisk_dataset_homograph/lp-train-seeds.npy\n",
      "\n",
      "Part of val seeds for link prediction: [[658 484]\n",
      " [978 129]\n",
      " [269  29]]\n",
      "LP val seeds are saved to ./ondisk_dataset_homograph/lp-val-seeds.npy\n",
      "\n",
      "Part of val labels for link prediction: [1. 1. 1.]\n",
      "LP val labels are saved to ./ondisk_dataset_homograph/lp-val-labels.npy\n",
      "\n",
      "Part of val indexes for link prediction: [0 1 2]\n",
      "LP val indexes are saved to ./ondisk_dataset_homograph/lp-val-indexes.npy\n",
      "\n",
      "Part of test seeds for link prediction: [[435 963]\n",
      " [551 820]\n",
      " [823 182]]\n",
      "LP test seeds are saved to ./ondisk_dataset_homograph/lp-test-seeds.npy\n",
      "\n",
      "Part of val labels for link prediction: [1. 1. 1.]\n",
      "LP test labels are saved to ./ondisk_dataset_homograph/lp-test-labels.npy\n",
      "\n",
      "Part of test indexes for link prediction: [0 1 2]\n",
      "LP test indexes are saved to ./ondisk_dataset_homograph/lp-test-indexes.npy\n",
      "\n"
     ]
    }
   ],
   "source": [
    "num_trains = int(num_edges * 0.6)\n",
    "num_vals = int(num_edges * 0.2)\n",
    "num_tests = num_edges - num_trains - num_vals\n",
    "\n",
    "lp_train_seeds_path = os.path.join(base_dir, \"lp-train-seeds.npy\")\n",
    "lp_train_seeds = edges[:num_trains, :]\n",
    "print(f\"Part of train seeds for link prediction: {lp_train_seeds[:3]}\")\n",
    "np.save(lp_train_seeds_path, lp_train_seeds)\n",
    "print(f\"LP train seeds are saved to {lp_train_seeds_path}\\n\")\n",
    "\n",
    "lp_val_seeds_path = os.path.join(base_dir, \"lp-val-seeds.npy\")\n",
    "lp_val_seeds = edges[num_trains:num_trains+num_vals, :]\n",
    "lp_val_neg_dsts = np.random.randint(0, num_nodes, (num_vals, 10)).reshape(-1)\n",
    "lp_val_neg_srcs = np.repeat(lp_val_seeds[:,0], 10)\n",
    "lp_val_neg_seeds = np.concatenate((lp_val_neg_srcs, lp_val_neg_dsts)).reshape(2,-1).T\n",
    "lp_val_seeds = np.concatenate((lp_val_seeds, lp_val_neg_seeds))\n",
    "print(f\"Part of val seeds for link prediction: {lp_val_seeds[:3]}\")\n",
    "np.save(lp_val_seeds_path, lp_val_seeds)\n",
    "print(f\"LP val seeds are saved to {lp_val_seeds_path}\\n\")\n",
    "\n",
    "lp_val_labels_path = os.path.join(base_dir, \"lp-val-labels.npy\")\n",
    "lp_val_labels = np.empty(num_vals * (10 + 1))\n",
    "lp_val_labels[:num_vals] = 1\n",
    "lp_val_labels[num_vals:] = 0\n",
    "print(f\"Part of val labels for link prediction: {lp_val_labels[:3]}\")\n",
    "np.save(lp_val_labels_path, lp_val_labels)\n",
    "print(f\"LP val labels are saved to {lp_val_labels_path}\\n\")\n",
    "\n",
    "lp_val_indexes_path = os.path.join(base_dir, \"lp-val-indexes.npy\")\n",
    "lp_val_indexes = np.arange(0, num_vals)\n",
    "lp_val_neg_indexes = np.repeat(lp_val_indexes, 10)\n",
    "lp_val_indexes = np.concatenate([lp_val_indexes, lp_val_neg_indexes])\n",
    "print(f\"Part of val indexes for link prediction: {lp_val_indexes[:3]}\")\n",
    "np.save(lp_val_indexes_path, lp_val_indexes)\n",
    "print(f\"LP val indexes are saved to {lp_val_indexes_path}\\n\")\n",
    "\n",
    "lp_test_seeds_path = os.path.join(base_dir, \"lp-test-seeds.npy\")\n",
    "lp_test_seeds = edges[-num_tests:, :]\n",
    "lp_test_neg_dsts = np.random.randint(0, num_nodes, (num_tests, 10)).reshape(-1)\n",
    "lp_test_neg_srcs = np.repeat(lp_test_seeds[:,0], 10)\n",
    "lp_test_neg_seeds = np.concatenate((lp_test_neg_srcs, lp_test_neg_dsts)).reshape(2,-1).T\n",
    "lp_test_seeds = np.concatenate((lp_test_seeds, lp_test_neg_seeds))\n",
    "print(f\"Part of test seeds for link prediction: {lp_test_seeds[:3]}\")\n",
    "np.save(lp_test_seeds_path, lp_test_seeds)\n",
    "print(f\"LP test seeds are saved to {lp_test_seeds_path}\\n\")\n",
    "\n",
    "lp_test_labels_path = os.path.join(base_dir, \"lp-test-labels.npy\")\n",
    "lp_test_labels = np.empty(num_tests * (10 + 1))\n",
    "lp_test_labels[:num_tests] = 1\n",
    "lp_test_labels[num_tests:] = 0\n",
    "print(f\"Part of val labels for link prediction: {lp_test_labels[:3]}\")\n",
    "np.save(lp_test_labels_path, lp_test_labels)\n",
    "print(f\"LP test labels are saved to {lp_test_labels_path}\\n\")\n",
    "\n",
    "lp_test_indexes_path = os.path.join(base_dir, \"lp-test-indexes.npy\")\n",
    "lp_test_indexes = np.arange(0, num_tests)\n",
    "lp_test_neg_indexes = np.repeat(lp_test_indexes, 10)\n",
    "lp_test_indexes = np.concatenate([lp_test_indexes, lp_test_neg_indexes])\n",
    "print(f\"Part of test indexes for link prediction: {lp_test_indexes[:3]}\")\n",
    "np.save(lp_test_indexes_path, lp_test_indexes)\n",
    "print(f\"LP test indexes are saved to {lp_test_indexes_path}\\n\")"
   ]
  },
  {
   "cell_type": "markdown",
   "metadata": {
    "id": "wbk6-wxRK-6S"
   },
   "source": [
    "## Organize Data into YAML File\n",
    "Now we need to create a `metadata.yaml` file which contains the paths, dadta types of graph structure, feature data, training/validation/test sets.\n",
    "\n",
    "Notes:\n",
    "- all path should be relative to `metadata.yaml`.\n",
    "- Below fields are optional and not specified in below example.\n",
    "  - `in_memory`: indicates whether to load dada into memory or `mmap`. Default is `True`.\n",
    "\n",
    "Please refer to [YAML specification](https://github.com/dmlc/dgl/blob/master/docs/source/stochastic_training/ondisk-dataset-specification.rst) for more details."
   ]
  },
  {
   "cell_type": "code",
   "execution_count": 7,
   "metadata": {
    "execution": {
     "iopub.execute_input": "2024-10-08T13:16:10.259213Z",
     "iopub.status.busy": "2024-10-08T13:16:10.258847Z",
     "iopub.status.idle": "2024-10-08T13:16:10.264409Z",
     "shell.execute_reply": "2024-10-08T13:16:10.263856Z"
    },
    "id": "ddGTWW61Lpwp"
   },
   "outputs": [],
   "source": [
    "yaml_content = f\"\"\"\n",
    "    dataset_name: homogeneous_graph_nc_lp\n",
    "    graph:\n",
    "      nodes:\n",
    "        - num: {num_nodes}\n",
    "      edges:\n",
    "        - format: csv\n",
    "          path: {os.path.basename(edges_path)}\n",
    "    feature_data:\n",
    "      - domain: node\n",
    "        name: feat_0\n",
    "        format: numpy\n",
    "        path: {os.path.basename(node_feat_0_path)}\n",
    "      - domain: node\n",
    "        name: feat_1\n",
    "        format: torch\n",
    "        path: {os.path.basename(node_feat_1_path)}\n",
    "      - domain: edge\n",
    "        name: feat_0\n",
    "        format: numpy\n",
    "        path: {os.path.basename(edge_feat_0_path)}\n",
    "      - domain: edge\n",
    "        name: feat_1\n",
    "        format: torch\n",
    "        path: {os.path.basename(edge_feat_1_path)}\n",
    "    tasks:\n",
    "      - name: node_classification\n",
    "        num_classes: 10\n",
    "        train_set:\n",
    "          - data:\n",
    "              - name: seeds\n",
    "                format: numpy\n",
    "                path: {os.path.basename(nc_train_ids_path)}\n",
    "              - name: labels\n",
    "                format: torch\n",
    "                path: {os.path.basename(nc_train_labels_path)}\n",
    "        validation_set:\n",
    "          - data:\n",
    "              - name: seeds\n",
    "                format: numpy\n",
    "                path: {os.path.basename(nc_val_ids_path)}\n",
    "              - name: labels\n",
    "                format: torch\n",
    "                path: {os.path.basename(nc_val_labels_path)}\n",
    "        test_set:\n",
    "          - data:\n",
    "              - name: seeds\n",
    "                format: numpy\n",
    "                path: {os.path.basename(nc_test_ids_path)}\n",
    "              - name: labels\n",
    "                format: torch\n",
    "                path: {os.path.basename(nc_test_labels_path)}\n",
    "      - name: link_prediction\n",
    "        num_classes: 10\n",
    "        train_set:\n",
    "          - data:\n",
    "              - name: seeds\n",
    "                format: numpy\n",
    "                path: {os.path.basename(lp_train_seeds_path)}\n",
    "        validation_set:\n",
    "          - data:\n",
    "              - name: seeds\n",
    "                format: numpy\n",
    "                path: {os.path.basename(lp_val_seeds_path)}\n",
    "              - name: labels\n",
    "                format: numpy\n",
    "                path: {os.path.basename(lp_val_labels_path)}\n",
    "              - name: indexes\n",
    "                format: numpy\n",
    "                path: {os.path.basename(lp_val_indexes_path)}\n",
    "        test_set:\n",
    "          - data:\n",
    "              - name: seeds\n",
    "                format: numpy\n",
    "                path: {os.path.basename(lp_test_seeds_path)}\n",
    "              - name: labels\n",
    "                format: numpy\n",
    "                path: {os.path.basename(lp_test_labels_path)}\n",
    "              - name: indexes\n",
    "                format: numpy\n",
    "                path: {os.path.basename(lp_test_indexes_path)}\n",
    "\"\"\"\n",
    "metadata_path = os.path.join(base_dir, \"metadata.yaml\")\n",
    "with open(metadata_path, \"w\") as f:\n",
    "  f.write(yaml_content)"
   ]
  },
  {
   "cell_type": "markdown",
   "metadata": {
    "id": "kEfybHGhOW7O"
   },
   "source": [
    "## Instantiate `OnDiskDataset`\n",
    "Now we're ready to load dataset via `dgl.graphbolt.OnDiskDataset`. When instantiating, we just pass in the base directory where `metadata.yaml` file lies.\n",
    "\n",
    "During first instantiation, GraphBolt preprocesses the raw data such as constructing `FusedCSCSamplingGraph` from edges. All data including graph, feature data, training/validation/test sets are put into `preprocessed` directory after preprocessing. Any following dataset loading will skip the preprocess stage.\n",
    "\n",
    "After preprocessing, `load()` is required to be called explicitly in order to load graph, feature data and tasks."
   ]
  },
  {
   "cell_type": "code",
   "execution_count": 8,
   "metadata": {
    "execution": {
     "iopub.execute_input": "2024-10-08T13:16:10.266091Z",
     "iopub.status.busy": "2024-10-08T13:16:10.265890Z",
     "iopub.status.idle": "2024-10-08T13:16:10.331062Z",
     "shell.execute_reply": "2024-10-08T13:16:10.330469Z"
    },
    "id": "W58CZoSzOiyo"
   },
   "outputs": [
    {
     "name": "stdout",
     "output_type": "stream",
     "text": [
      "Start to preprocess the on-disk dataset.\n",
      "Finish preprocessing the on-disk dataset.\n",
      "Loaded graph: FusedCSCSamplingGraph(csc_indptr=tensor([    0,    10,    17,  ...,  9978,  9992, 10000], dtype=torch.int32),\n",
      "                      indices=tensor([469, 240,  76,  ..., 568, 474, 179], dtype=torch.int32),\n",
      "                      total_num_nodes=1000, num_edges=10000,)\n",
      "\n",
      "Loaded feature store: TorchBasedFeatureStore(\n",
      "    {(<OnDiskFeatureDataDomain.NODE: 'node'>, None, 'feat_0'): TorchBasedFeature(\n",
      "        feature=tensor([[0.8340, 0.2876, 0.5759, 0.9590, 0.9688],\n",
      "                        [0.0965, 0.9442, 0.4885, 0.9504, 0.3966],\n",
      "                        [0.2326, 0.7515, 0.1460, 0.6495, 0.3453],\n",
      "                        ...,\n",
      "                        [0.0338, 0.4668, 0.6084, 0.2981, 0.0019],\n",
      "                        [0.3321, 0.2372, 0.5000, 0.9831, 0.6977],\n",
      "                        [0.6281, 0.9844, 0.7259, 0.1291, 0.7005]], dtype=torch.float64),\n",
      "        metadata={},\n",
      "    ), (<OnDiskFeatureDataDomain.NODE: 'node'>, None, 'feat_1'): TorchBasedFeature(\n",
      "        feature=tensor([[0.3257, 0.7732, 0.6642, 0.2855, 0.3191],\n",
      "                        [0.3768, 0.0307, 0.3623, 0.3222, 0.1453],\n",
      "                        [0.3872, 0.4261, 0.8134, 0.5359, 0.8365],\n",
      "                        ...,\n",
      "                        [0.3647, 0.5446, 0.9626, 0.7458, 0.9461],\n",
      "                        [0.6518, 0.4182, 0.4777, 0.2728, 0.3957],\n",
      "                        [0.5452, 0.5681, 0.5585, 0.0508, 0.6481]]),\n",
      "        metadata={},\n",
      "    ), (<OnDiskFeatureDataDomain.EDGE: 'edge'>, None, 'feat_0'): TorchBasedFeature(\n",
      "        feature=tensor([[0.5047, 0.6536, 0.6638, 0.3139, 0.1071],\n",
      "                        [0.4663, 0.4419, 0.2753, 0.9798, 0.5369],\n",
      "                        [0.1856, 0.0160, 0.2321, 0.8916, 0.9689],\n",
      "                        ...,\n",
      "                        [0.6773, 0.8794, 0.1196, 0.0193, 0.4853],\n",
      "                        [0.0240, 0.3731, 0.0186, 0.9745, 0.1632],\n",
      "                        [0.5693, 0.4891, 0.1863, 0.5765, 0.8543]], dtype=torch.float64),\n",
      "        metadata={},\n",
      "    ), (<OnDiskFeatureDataDomain.EDGE: 'edge'>, None, 'feat_1'): TorchBasedFeature(\n",
      "        feature=tensor([[0.4311, 0.1685, 0.0274, 0.9450, 0.4053],\n",
      "                        [0.5862, 0.4507, 0.5682, 0.7519, 0.1561],\n",
      "                        [0.5000, 0.7957, 0.7548, 0.0438, 0.5398],\n",
      "                        ...,\n",
      "                        [0.7417, 0.1313, 0.8977, 0.0564, 0.1132],\n",
      "                        [0.8350, 0.8285, 0.2254, 0.1166, 0.3528],\n",
      "                        [0.5412, 0.2010, 0.7514, 0.6299, 0.1269]]),\n",
      "        metadata={},\n",
      "    )}\n",
      ")\n",
      "\n",
      "Loaded node classification task: OnDiskTask(validation_set=ItemSet(\n",
      "               items=(tensor([941, 526, 170, 709, 962, 487, 955, 121, 236, 906, 286, 921, 417, 970,\n",
      "                   569, 700, 793, 509, 868, 304, 693, 112, 293, 981, 772,  34, 491, 172,\n",
      "                   192, 654, 340,  83, 100, 463, 287, 781, 604, 661, 477, 612, 442, 557,\n",
      "                   795, 880, 606, 787, 270, 189, 113, 922, 440, 310,   5, 178, 383, 778,\n",
      "                   182, 449,  71, 242, 411, 994,  50, 467, 421, 375, 810,  62, 299, 128,\n",
      "                    59, 294, 957, 598, 399, 897, 677, 409, 605, 203, 732, 767, 999, 416,\n",
      "                   806,  22, 134, 938, 703, 617, 867, 716, 228, 376, 350, 662, 136, 580,\n",
      "                   796, 372, 493, 588, 361, 414, 676, 982, 836, 958, 371, 154,  84,  70,\n",
      "                   927, 714, 997, 152, 266, 919,  55, 106, 394,  44, 587, 951, 969, 638,\n",
      "                   776, 259, 841, 698, 379, 380, 601, 936, 704, 683, 881, 918, 338, 811,\n",
      "                   500, 196, 436, 174, 621, 933,  57, 652, 634, 271,  72,  18, 870, 573,\n",
      "                   979, 337, 756, 453,  16, 889, 968, 750, 238, 301, 553, 722, 187, 947,\n",
      "                    24, 280, 878, 869, 291, 527, 636,  12, 408, 148,  92, 269, 230, 494,\n",
      "                   602, 168, 660, 688, 894, 639, 529, 742, 316, 466, 267, 597, 659, 257,\n",
      "                   385, 782, 701, 762], dtype=torch.int32), tensor([4, 3, 5, 2, 3, 3, 2, 1, 7, 8, 9, 5, 3, 1, 9, 5, 7, 0, 1, 0, 5, 6, 5, 5,\n",
      "                   9, 3, 5, 7, 3, 4, 9, 8, 7, 7, 2, 4, 1, 2, 4, 0, 9, 2, 7, 2, 4, 8, 4, 4,\n",
      "                   8, 0, 8, 0, 3, 1, 3, 8, 7, 1, 6, 3, 8, 4, 7, 3, 0, 5, 3, 3, 1, 0, 9, 0,\n",
      "                   0, 3, 4, 7, 8, 8, 9, 3, 7, 0, 9, 0, 6, 8, 6, 0, 5, 1, 4, 9, 7, 3, 7, 2,\n",
      "                   7, 2, 0, 6, 8, 8, 9, 5, 3, 3, 1, 1, 5, 1, 1, 2, 8, 7, 4, 6, 6, 8, 4, 2,\n",
      "                   7, 9, 8, 2, 2, 1, 6, 9, 1, 0, 5, 4, 6, 1, 8, 4, 3, 9, 5, 3, 3, 7, 3, 0,\n",
      "                   2, 7, 8, 8, 8, 2, 6, 4, 1, 1, 5, 2, 5, 9, 5, 7, 8, 5, 8, 9, 5, 4, 3, 4,\n",
      "                   7, 2, 9, 8, 9, 0, 7, 4, 2, 6, 6, 5, 4, 6, 5, 6, 0, 0, 5, 9, 3, 8, 2, 8,\n",
      "                   7, 2, 1, 8, 7, 5, 1, 1])),\n",
      "               names=('seeds', 'labels'),\n",
      "           ),\n",
      "           train_set=ItemSet(\n",
      "               items=(tensor([441, 696, 370, 517, 675, 492, 783,  46, 558, 206, 248, 556, 289, 596,\n",
      "                   246, 290, 890, 752, 833, 358, 900, 111, 564, 324, 898, 860, 746, 171,\n",
      "                   444, 389, 883, 470, 874, 428, 173, 333, 425, 546, 915, 506, 671, 451,\n",
      "                   775, 674, 177, 455, 934, 185, 844, 905, 537, 540,   9, 364, 298, 256,\n",
      "                   989, 284,  81, 651,  87, 268, 155, 308, 102, 512, 845, 122, 367, 911,\n",
      "                    47,  15,  56, 899, 292, 137, 679, 127, 109,  30, 132, 895, 143, 272,\n",
      "                   619, 464, 633, 929, 353, 158, 615, 126, 618, 607, 691, 366, 186, 857,\n",
      "                    75, 600, 797, 255, 166, 420, 710, 813, 382, 582, 993, 295, 948, 940,\n",
      "                   673, 212,  66, 731,  67, 632, 851, 484, 277, 485,  88, 452, 865, 454,\n",
      "                   195, 882, 103, 826,  76, 721, 862, 930, 763, 896, 415, 658, 914, 680,\n",
      "                   650, 761, 139, 341, 707, 396, 167, 125, 300, 886, 193, 395, 429, 903,\n",
      "                   780, 344, 909, 802, 237, 179, 734, 937, 224, 446, 365, 583,  65, 275,\n",
      "                   825, 522,  29, 765, 329, 410,  13, 644, 505, 462, 842,  61, 503, 887,\n",
      "                   965, 297, 348, 525, 321, 724, 314,  27, 670, 124, 468, 279, 824, 740,\n",
      "                   347,  82, 967, 473, 141, 311, 241, 164, 198, 646, 115, 980, 549, 210,\n",
      "                   800, 635, 243, 983, 925, 641, 201, 563,   4, 384, 570, 120, 325, 828,\n",
      "                   814, 231, 392, 623, 175, 589, 265, 622, 859, 702, 528,  51, 893,  68,\n",
      "                   176, 876, 686, 769, 133, 744, 847, 777, 307,  74, 263,  91, 181, 369,\n",
      "                   520, 184, 320, 977, 729, 620, 534, 273, 226, 418, 849, 807, 976, 631,\n",
      "                    21, 904,  53, 403, 666, 508, 489, 689, 165, 183, 524, 258, 603, 288,\n",
      "                   225, 891, 309, 151, 667, 798, 218, 541, 992, 888, 973, 355,  36, 322,\n",
      "                   728, 681, 559, 352, 465, 373, 312, 123, 964, 718, 303, 739, 879, 349,\n",
      "                   427,  90, 207, 435, 315, 406, 727, 476, 827, 162, 956, 461, 110,  14,\n",
      "                   682, 150, 481, 220, 331, 260, 149, 319, 535, 749, 209,  54, 388, 972,\n",
      "                   235, 577, 846, 431, 390, 398, 160, 609, 656, 393, 339, 850, 108, 952,\n",
      "                   330, 205, 736, 419, 456,  20, 960, 963, 507, 479, 697, 753, 818, 233,\n",
      "                   991,  58, 138, 305, 592, 194, 996, 614, 801, 374, 542, 433,  31,  78,\n",
      "                   204, 568, 706, 227, 146, 483,  93, 211, 130, 838, 107, 363,  64, 771,\n",
      "                   892, 555, 571, 190, 931, 820, 988,  60, 245, 757, 296, 858, 884,  89,\n",
      "                   214, 759, 840, 486, 908, 443, 581, 424, 584, 356, 274, 950,  23, 169,\n",
      "                   784, 217, 843, 159, 809, 901, 543,  80, 472, 730, 161,   6, 637, 202,\n",
      "                    73, 599, 538, 932, 954, 502, 129, 591, 261, 437, 378, 343,  28, 815,\n",
      "                   471, 116, 513,  42, 153, 386, 490, 920, 565, 924, 758, 975,   2, 613,\n",
      "                   144, 723, 764, 959, 510, 946, 719, 199,  35, 423, 351, 953, 131, 332,\n",
      "                   539,  52, 262, 839, 402, 785,  38, 327, 713, 283, 405, 712, 250, 533,\n",
      "                   285,  41,  94, 239, 142, 943, 530,  77, 837, 519, 252, 515, 552, 832,\n",
      "                   741, 439, 478,  19, 735, 560, 254,   3, 480,  99,  49, 625, 594, 705,\n",
      "                   323, 317, 101, 222, 157, 629, 663, 264, 995, 302, 854, 665, 974, 672,\n",
      "                   404,  37, 499,  40, 531, 251, 928, 817, 586, 944, 346, 794, 567,  48,\n",
      "                   808, 574, 458, 830, 916, 747, 998, 498, 875, 912, 548, 445, 754, 907,\n",
      "                   649, 219, 831, 935, 566, 866, 939, 711,  17, 401, 561, 745, 281, 738,\n",
      "                   720, 197, 645, 640, 191, 819, 579, 216, 726, 545, 760, 354, 447, 163,\n",
      "                   282, 694, 229, 786, 835, 923, 664, 247, 504, 715, 105,  26],\n",
      "                  dtype=torch.int32), tensor([3, 1, 6, 3, 2, 5, 9, 5, 9, 5, 0, 6, 0, 3, 9, 8, 5, 7, 8, 6, 7, 5, 4, 1,\n",
      "                   2, 7, 3, 0, 2, 0, 9, 4, 6, 3, 6, 6, 9, 6, 1, 6, 1, 3, 0, 3, 4, 8, 6, 9,\n",
      "                   6, 4, 4, 9, 8, 6, 6, 7, 2, 7, 2, 5, 4, 9, 8, 5, 2, 1, 3, 7, 4, 3, 9, 1,\n",
      "                   8, 7, 4, 1, 8, 5, 4, 7, 2, 5, 7, 2, 4, 1, 6, 3, 6, 0, 2, 4, 0, 9, 5, 9,\n",
      "                   8, 7, 3, 6, 5, 9, 9, 1, 2, 5, 6, 2, 3, 4, 0, 3, 8, 9, 6, 8, 9, 8, 8, 7,\n",
      "                   3, 7, 1, 0, 4, 5, 7, 7, 8, 3, 3, 6, 7, 0, 2, 8, 1, 8, 5, 1, 7, 9, 4, 5,\n",
      "                   8, 7, 8, 2, 1, 1, 1, 6, 4, 7, 5, 6, 5, 5, 2, 5, 9, 6, 7, 1, 8, 5, 2, 1,\n",
      "                   0, 0, 7, 3, 1, 9, 7, 3, 8, 1, 9, 1, 4, 6, 4, 4, 7, 1, 1, 0, 9, 5, 7, 1,\n",
      "                   6, 2, 8, 8, 8, 7, 7, 3, 6, 7, 2, 6, 6, 0, 1, 2, 5, 8, 5, 5, 8, 8, 2, 7,\n",
      "                   3, 3, 4, 6, 0, 1, 6, 8, 3, 4, 0, 9, 5, 2, 7, 4, 1, 2, 7, 9, 9, 4, 0, 7,\n",
      "                   6, 4, 6, 4, 9, 3, 8, 8, 2, 6, 1, 1, 4, 6, 1, 0, 4, 9, 9, 3, 6, 7, 7, 9,\n",
      "                   4, 8, 4, 6, 1, 3, 9, 8, 0, 9, 4, 2, 3, 1, 0, 1, 6, 7, 3, 8, 9, 2, 2, 3,\n",
      "                   3, 8, 8, 4, 3, 0, 7, 8, 4, 2, 4, 0, 4, 7, 5, 3, 7, 1, 3, 8, 6, 4, 3, 8,\n",
      "                   8, 5, 6, 1, 6, 6, 1, 4, 4, 1, 7, 0, 4, 9, 5, 6, 2, 0, 3, 1, 2, 2, 6, 0,\n",
      "                   2, 7, 7, 0, 2, 1, 1, 8, 0, 5, 8, 5, 2, 6, 3, 9, 3, 4, 7, 4, 1, 9, 5, 6,\n",
      "                   6, 6, 5, 9, 0, 9, 5, 6, 1, 5, 1, 0, 9, 3, 7, 3, 8, 7, 7, 6, 1, 0, 0, 7,\n",
      "                   2, 8, 6, 8, 3, 3, 7, 8, 2, 8, 0, 7, 9, 9, 3, 0, 1, 1, 6, 3, 4, 3, 3, 2,\n",
      "                   9, 8, 5, 3, 1, 6, 6, 1, 1, 2, 1, 7, 1, 3, 5, 6, 4, 6, 0, 3, 3, 3, 6, 4,\n",
      "                   6, 5, 5, 1, 4, 2, 0, 7, 3, 1, 7, 7, 9, 7, 5, 2, 7, 2, 4, 4, 8, 8, 9, 7,\n",
      "                   3, 0, 2, 2, 4, 0, 7, 2, 2, 0, 7, 2, 5, 7, 0, 0, 0, 2, 3, 9, 0, 8, 4, 6,\n",
      "                   1, 4, 9, 2, 5, 5, 5, 2, 9, 0, 6, 6, 2, 1, 1, 0, 9, 1, 6, 6, 6, 6, 3, 0,\n",
      "                   6, 9, 0, 2, 1, 4, 2, 4, 5, 8, 8, 4, 6, 0, 1, 8, 7, 7, 0, 4, 8, 3, 5, 6,\n",
      "                   6, 0, 8, 4, 2, 0, 4, 4, 9, 3, 7, 2, 2, 7, 6, 2, 6, 3, 6, 2, 8, 4, 7, 0,\n",
      "                   8, 6, 2, 3, 1, 3, 1, 0, 3, 3, 7, 4, 5, 7, 2, 8, 4, 5, 8, 7, 3, 4, 8, 1,\n",
      "                   9, 9, 2, 0, 5, 8, 7, 2, 0, 8, 7, 1, 5, 8, 2, 1, 0, 8, 5, 2, 3, 7, 5, 4])),\n",
      "               names=('seeds', 'labels'),\n",
      "           ),\n",
      "           test_set=ItemSet(\n",
      "               items=(tensor([400, 848, 117, 708, 864, 482, 668,  43, 278, 391, 871, 834, 362, 554,\n",
      "                   690,   1, 779, 863, 244, 457,  97, 576, 200, 450, 496, 885, 544, 766,\n",
      "                   822, 523, 685, 872, 748, 717, 829, 334, 910, 221, 434, 336, 687, 156,\n",
      "                   147, 791, 223,  95, 118,  45, 823, 648, 926, 804, 990, 751, 917, 497,\n",
      "                   611, 430, 240, 773, 532, 725, 789, 853, 821, 852, 856, 359, 426, 562,\n",
      "                    32, 743, 313, 699, 790, 590, 593, 516,   8, 985, 643, 805, 695, 460,\n",
      "                   357, 572, 306, 971, 208, 595,  98, 628,   0, 140, 669, 616, 987, 608,\n",
      "                   816,  86, 692, 657, 104, 984, 788,  69, 678, 342, 114, 514, 986, 942,\n",
      "                   647, 213, 474, 855, 861, 135, 459, 799, 412, 234, 774, 877, 119, 249,\n",
      "                   360, 755, 792, 913, 684, 770, 768, 978, 328,   7, 585, 397, 945, 501,\n",
      "                   387, 232, 377, 326, 276, 547, 335, 961, 551, 253, 902, 469,  96, 475,\n",
      "                   626, 381, 655, 438,  79, 653, 495, 536, 610, 413, 642,  85, 575, 550,\n",
      "                    10, 578,  25, 345, 188, 803, 145, 733, 966, 521, 949, 407, 448,  39,\n",
      "                   368, 511, 737, 627, 630, 812, 422, 488, 518, 624, 873, 180,  33,  63,\n",
      "                   432, 318, 215,  11], dtype=torch.int32), tensor([2, 4, 8, 1, 3, 1, 3, 8, 3, 5, 5, 6, 2, 9, 3, 6, 5, 4, 8, 9, 1, 4, 6, 1,\n",
      "                   5, 9, 1, 1, 8, 5, 2, 9, 5, 1, 0, 8, 1, 6, 9, 1, 6, 9, 5, 4, 8, 0, 7, 5,\n",
      "                   9, 7, 4, 6, 2, 4, 4, 0, 9, 1, 9, 6, 7, 8, 7, 4, 7, 8, 7, 2, 8, 0, 4, 5,\n",
      "                   7, 9, 1, 3, 1, 2, 7, 0, 5, 5, 4, 0, 2, 1, 0, 2, 2, 9, 6, 0, 7, 6, 4, 4,\n",
      "                   6, 4, 4, 7, 3, 7, 3, 6, 2, 7, 0, 0, 1, 8, 2, 4, 7, 5, 1, 5, 4, 4, 8, 1,\n",
      "                   4, 8, 3, 0, 2, 8, 1, 8, 4, 0, 0, 4, 6, 7, 7, 2, 0, 3, 2, 1, 0, 2, 8, 9,\n",
      "                   6, 6, 5, 5, 7, 6, 3, 5, 1, 4, 0, 1, 3, 0, 9, 5, 6, 4, 7, 3, 3, 3, 2, 6,\n",
      "                   7, 7, 4, 0, 9, 4, 9, 4, 9, 9, 9, 3, 0, 6, 1, 7, 9, 0, 6, 1, 6, 1, 8, 5,\n",
      "                   8, 6, 6, 1, 7, 6, 9, 4])),\n",
      "               names=('seeds', 'labels'),\n",
      "           ),\n",
      "           metadata={'name': 'node_classification', 'num_classes': 10},)\n",
      "\n",
      "Loaded link prediction task: OnDiskTask(validation_set=ItemSet(\n",
      "               items=(tensor([[658, 484],\n",
      "                   [978, 129],\n",
      "                   [269,  29],\n",
      "                   ...,\n",
      "                   [877, 815],\n",
      "                   [877, 401],\n",
      "                   [877, 679]], dtype=torch.int32), tensor([1., 1., 1.,  ..., 0., 0., 0.], dtype=torch.float64), tensor([   0,    1,    2,  ..., 1999, 1999, 1999])),\n",
      "               names=('seeds', 'labels', 'indexes'),\n",
      "           ),\n",
      "           train_set=ItemSet(\n",
      "               items=(tensor([[123, 306],\n",
      "                   [985, 644],\n",
      "                   [687, 699],\n",
      "                   ...,\n",
      "                   [638, 757],\n",
      "                   [782, 102],\n",
      "                   [162, 664]], dtype=torch.int32),),\n",
      "               names=('seeds',),\n",
      "           ),\n",
      "           test_set=ItemSet(\n",
      "               items=(tensor([[435, 963],\n",
      "                   [551, 820],\n",
      "                   [823, 182],\n",
      "                   ...,\n",
      "                   [390, 367],\n",
      "                   [390, 778],\n",
      "                   [390, 816]], dtype=torch.int32), tensor([1., 1., 1.,  ..., 0., 0., 0.], dtype=torch.float64), tensor([   0,    1,    2,  ..., 1999, 1999, 1999])),\n",
      "               names=('seeds', 'labels', 'indexes'),\n",
      "           ),\n",
      "           metadata={'name': 'link_prediction', 'num_classes': 10},)\n",
      "\n"
     ]
    },
    {
     "name": "stderr",
     "output_type": "stream",
     "text": [
      "/dgl/python/dgl/graphbolt/impl/ondisk_dataset.py:463: GBWarning: Edge feature is stored, but edge IDs are not saved.\n",
      "  gb_warning(\"Edge feature is stored, but edge IDs are not saved.\")\n"
     ]
    }
   ],
   "source": [
    "dataset = gb.OnDiskDataset(base_dir).load()\n",
    "graph = dataset.graph\n",
    "print(f\"Loaded graph: {graph}\\n\")\n",
    "\n",
    "feature = dataset.feature\n",
    "print(f\"Loaded feature store: {feature}\\n\")\n",
    "\n",
    "tasks = dataset.tasks\n",
    "nc_task = tasks[0]\n",
    "print(f\"Loaded node classification task: {nc_task}\\n\")\n",
    "lp_task = tasks[1]\n",
    "print(f\"Loaded link prediction task: {lp_task}\\n\")"
   ]
  }
 ],
 "metadata": {
  "colab": {
   "private_outputs": true,
   "provenance": []
  },
  "kernelspec": {
   "display_name": "Python 3",
   "name": "python3"
  },
  "language_info": {
   "codemirror_mode": {
    "name": "ipython",
    "version": 3
   },
   "file_extension": ".py",
   "mimetype": "text/x-python",
   "name": "python",
   "nbconvert_exporter": "python",
   "pygments_lexer": "ipython3",
   "version": "3.10.15"
  }
 },
 "nbformat": 4,
 "nbformat_minor": 0
}

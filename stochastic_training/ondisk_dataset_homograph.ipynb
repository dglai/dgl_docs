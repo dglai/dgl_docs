{
 "cells": [
  {
   "cell_type": "markdown",
   "metadata": {
    "id": "FnFhPMaAfLtJ"
   },
   "source": [
    "# OnDiskDataset for Homogeneous Graph\n",
    "\n",
    "[![Open In Colab](https://colab.research.google.com/assets/colab-badge.svg)](https://colab.research.google.com/github/dmlc/dgl/blob/master/notebooks/stochastic_training/ondisk_dataset_homograph.ipynb) [![GitHub](https://img.shields.io/badge/-View%20on%20GitHub-181717?logo=github&logoColor=ffffff)](https://github.com/dmlc/dgl/blob/master/notebooks/stochastic_training/ondisk_dataset_homograph.ipynb)\n",
    "\n",
    "This tutorial shows how to create `OnDiskDataset` for homogeneous graph that could be used in **GraphBolt** framework.\n",
    "\n",
    "By the end of this tutorial, you will be able to\n",
    "\n",
    "- organize graph structure data.\n",
    "- organize feature data.\n",
    "- organize training/validation/test set for specific tasks.\n",
    "\n",
    "To create an ``OnDiskDataset`` object, you need to organize all the data including graph structure, feature data and tasks into a directory. The directory should contain a ``metadata.yaml`` file that describes the metadata of the dataset.\n",
    "\n",
    "Now let's generate various data step by step and organize them together to instantiate `OnDiskDataset` finally."
   ]
  },
  {
   "cell_type": "markdown",
   "metadata": {
    "id": "Wlb19DtWgtzq"
   },
   "source": [
    "## Install DGL package"
   ]
  },
  {
   "cell_type": "code",
   "execution_count": 1,
   "metadata": {
    "execution": {
     "iopub.execute_input": "2024-09-26T13:20:54.899572Z",
     "iopub.status.busy": "2024-09-26T13:20:54.898985Z",
     "iopub.status.idle": "2024-09-26T13:20:57.933473Z",
     "shell.execute_reply": "2024-09-26T13:20:57.932795Z"
    },
    "id": "UojlT9ZGgyr9"
   },
   "outputs": [
    {
     "name": "stdout",
     "output_type": "stream",
     "text": [
      "Looking in links: https://data.dgl.ai/wheels-test/repo.html\r\n",
      "Requirement already satisfied: dgl in /opt/conda/envs/dgl-dev-cpu/lib/python3.10/site-packages (2.2a240410)\r\n",
      "Requirement already satisfied: numpy>=1.14.0 in /opt/conda/envs/dgl-dev-cpu/lib/python3.10/site-packages (from dgl) (1.26.4)\r\n",
      "Requirement already satisfied: scipy>=1.1.0 in /opt/conda/envs/dgl-dev-cpu/lib/python3.10/site-packages (from dgl) (1.14.1)\r\n",
      "Requirement already satisfied: networkx>=2.1 in /opt/conda/envs/dgl-dev-cpu/lib/python3.10/site-packages (from dgl) (3.3)\r\n",
      "Requirement already satisfied: requests>=2.19.0 in /opt/conda/envs/dgl-dev-cpu/lib/python3.10/site-packages (from dgl) (2.32.3)\r\n",
      "Requirement already satisfied: tqdm in /opt/conda/envs/dgl-dev-cpu/lib/python3.10/site-packages (from dgl) (4.66.5)\r\n",
      "Requirement already satisfied: psutil>=5.8.0 in /opt/conda/envs/dgl-dev-cpu/lib/python3.10/site-packages (from dgl) (6.0.0)\r\n",
      "Requirement already satisfied: torchdata>=0.5.0 in /opt/conda/envs/dgl-dev-cpu/lib/python3.10/site-packages (from dgl) (0.8.0)\r\n",
      "Requirement already satisfied: pandas in /opt/conda/envs/dgl-dev-cpu/lib/python3.10/site-packages (from dgl) (2.2.3)\r\n"
     ]
    },
    {
     "name": "stdout",
     "output_type": "stream",
     "text": [
      "Requirement already satisfied: charset-normalizer<4,>=2 in /opt/conda/envs/dgl-dev-cpu/lib/python3.10/site-packages (from requests>=2.19.0->dgl) (3.3.2)\r\n",
      "Requirement already satisfied: idna<4,>=2.5 in /opt/conda/envs/dgl-dev-cpu/lib/python3.10/site-packages (from requests>=2.19.0->dgl) (3.10)\r\n",
      "Requirement already satisfied: urllib3<3,>=1.21.1 in /opt/conda/envs/dgl-dev-cpu/lib/python3.10/site-packages (from requests>=2.19.0->dgl) (2.2.3)\r\n",
      "Requirement already satisfied: certifi>=2017.4.17 in /opt/conda/envs/dgl-dev-cpu/lib/python3.10/site-packages (from requests>=2.19.0->dgl) (2024.8.30)\r\n",
      "Requirement already satisfied: torch>=2 in /opt/conda/envs/dgl-dev-cpu/lib/python3.10/site-packages (from torchdata>=0.5.0->dgl) (2.1.0+cpu)\r\n"
     ]
    },
    {
     "name": "stdout",
     "output_type": "stream",
     "text": [
      "Requirement already satisfied: python-dateutil>=2.8.2 in /opt/conda/envs/dgl-dev-cpu/lib/python3.10/site-packages (from pandas->dgl) (2.9.0.post0)\r\n",
      "Requirement already satisfied: pytz>=2020.1 in /opt/conda/envs/dgl-dev-cpu/lib/python3.10/site-packages (from pandas->dgl) (2024.2)\r\n",
      "Requirement already satisfied: tzdata>=2022.7 in /opt/conda/envs/dgl-dev-cpu/lib/python3.10/site-packages (from pandas->dgl) (2024.2)\r\n",
      "Requirement already satisfied: six>=1.5 in /opt/conda/envs/dgl-dev-cpu/lib/python3.10/site-packages (from python-dateutil>=2.8.2->pandas->dgl) (1.16.0)\r\n",
      "Requirement already satisfied: filelock in /opt/conda/envs/dgl-dev-cpu/lib/python3.10/site-packages (from torch>=2->torchdata>=0.5.0->dgl) (3.16.1)\r\n",
      "Requirement already satisfied: typing-extensions in /opt/conda/envs/dgl-dev-cpu/lib/python3.10/site-packages (from torch>=2->torchdata>=0.5.0->dgl) (4.12.2)\r\n",
      "Requirement already satisfied: sympy in /opt/conda/envs/dgl-dev-cpu/lib/python3.10/site-packages (from torch>=2->torchdata>=0.5.0->dgl) (1.13.3)\r\n",
      "Requirement already satisfied: jinja2 in /opt/conda/envs/dgl-dev-cpu/lib/python3.10/site-packages (from torch>=2->torchdata>=0.5.0->dgl) (3.1.4)\r\n",
      "Requirement already satisfied: fsspec in /opt/conda/envs/dgl-dev-cpu/lib/python3.10/site-packages (from torch>=2->torchdata>=0.5.0->dgl) (2024.9.0)\r\n"
     ]
    },
    {
     "name": "stdout",
     "output_type": "stream",
     "text": [
      "Requirement already satisfied: MarkupSafe>=2.0 in /opt/conda/envs/dgl-dev-cpu/lib/python3.10/site-packages (from jinja2->torch>=2->torchdata>=0.5.0->dgl) (2.1.5)\r\n",
      "Requirement already satisfied: mpmath<1.4,>=1.1.0 in /opt/conda/envs/dgl-dev-cpu/lib/python3.10/site-packages (from sympy->torch>=2->torchdata>=0.5.0->dgl) (1.3.0)\r\n"
     ]
    },
    {
     "name": "stdout",
     "output_type": "stream",
     "text": [
      "\u001b[33mWARNING: Running pip as the 'root' user can result in broken permissions and conflicting behaviour with the system package manager, possibly rendering your system unusable.It is recommended to use a virtual environment instead: https://pip.pypa.io/warnings/venv. Use the --root-user-action option if you know what you are doing and want to suppress this warning.\u001b[0m\u001b[33m\r\n",
      "\u001b[0m"
     ]
    },
    {
     "name": "stdout",
     "output_type": "stream",
     "text": [
      "DGL installed!\n"
     ]
    }
   ],
   "source": [
    "# Install required packages.\n",
    "import os\n",
    "import torch\n",
    "import numpy as np\n",
    "os.environ['TORCH'] = torch.__version__\n",
    "os.environ['DGLBACKEND'] = \"pytorch\"\n",
    "\n",
    "# Install the CPU version.\n",
    "device = torch.device(\"cpu\")\n",
    "!pip install --pre dgl -f https://data.dgl.ai/wheels-test/repo.html\n",
    "\n",
    "try:\n",
    "    import dgl\n",
    "    import dgl.graphbolt as gb\n",
    "    installed = True\n",
    "except ImportError as error:\n",
    "    installed = False\n",
    "    print(error)\n",
    "print(\"DGL installed!\" if installed else \"DGL not found!\")"
   ]
  },
  {
   "cell_type": "markdown",
   "metadata": {
    "id": "2R7WnSbjsfbr"
   },
   "source": [
    "## Data preparation\n",
    "In order to demonstrate how to organize various data, let's create a base directory first."
   ]
  },
  {
   "cell_type": "code",
   "execution_count": 2,
   "metadata": {
    "execution": {
     "iopub.execute_input": "2024-09-26T13:20:57.936501Z",
     "iopub.status.busy": "2024-09-26T13:20:57.935792Z",
     "iopub.status.idle": "2024-09-26T13:20:57.941110Z",
     "shell.execute_reply": "2024-09-26T13:20:57.940365Z"
    },
    "id": "SZipbzyltLfO"
   },
   "outputs": [
    {
     "name": "stdout",
     "output_type": "stream",
     "text": [
      "Created base directory: ./ondisk_dataset_homograph\n"
     ]
    }
   ],
   "source": [
    "base_dir = './ondisk_dataset_homograph'\n",
    "os.makedirs(base_dir, exist_ok=True)\n",
    "print(f\"Created base directory: {base_dir}\")"
   ]
  },
  {
   "cell_type": "markdown",
   "metadata": {
    "id": "qhNtIn_xhlnl"
   },
   "source": [
    "### Generate graph structure data\n",
    "For homogeneous graph, we just need to save edges(namely seeds) into  **Numpy** or **CSV** file.\n",
    "\n",
    "Note:\n",
    "- when saving to **Numpy**, the array requires to be in shape of `(2, N)`. This format is recommended as constructing graph from it is much faster than **CSV** file.\n",
    "- when saving to **CSV** file, do not save index and header.\n"
   ]
  },
  {
   "cell_type": "code",
   "execution_count": 3,
   "metadata": {
    "execution": {
     "iopub.execute_input": "2024-09-26T13:20:57.943662Z",
     "iopub.status.busy": "2024-09-26T13:20:57.943196Z",
     "iopub.status.idle": "2024-09-26T13:20:57.956735Z",
     "shell.execute_reply": "2024-09-26T13:20:57.955997Z"
    },
    "id": "HcBt4G5BmSjr"
   },
   "outputs": [
    {
     "name": "stdout",
     "output_type": "stream",
     "text": [
      "Part of edges: [[934 935]\n",
      " [989  62]\n",
      " [555  29]\n",
      " [454 473]\n",
      " [424 822]]\n",
      "Edges are saved into ./ondisk_dataset_homograph/edges.csv\n"
     ]
    }
   ],
   "source": [
    "import numpy as np\n",
    "import pandas as pd\n",
    "num_nodes = 1000\n",
    "num_edges = 10 * num_nodes\n",
    "edges_path = os.path.join(base_dir, \"edges.csv\")\n",
    "edges = np.random.randint(0, num_nodes, size=(num_edges, 2))\n",
    "\n",
    "print(f\"Part of edges: {edges[:5, :]}\")\n",
    "\n",
    "df = pd.DataFrame(edges)\n",
    "df.to_csv(edges_path, index=False, header=False)\n",
    "\n",
    "print(f\"Edges are saved into {edges_path}\")"
   ]
  },
  {
   "cell_type": "markdown",
   "metadata": {
    "id": "kh-4cPtzpcaH"
   },
   "source": [
    "### Generate feature data for graph\n",
    "For feature data, numpy arrays and torch tensors are supported for now."
   ]
  },
  {
   "cell_type": "code",
   "execution_count": 4,
   "metadata": {
    "execution": {
     "iopub.execute_input": "2024-09-26T13:20:57.959191Z",
     "iopub.status.busy": "2024-09-26T13:20:57.958882Z",
     "iopub.status.idle": "2024-09-26T13:20:57.972669Z",
     "shell.execute_reply": "2024-09-26T13:20:57.971926Z"
    },
    "id": "_PVu1u5brBhF"
   },
   "outputs": [
    {
     "name": "stdout",
     "output_type": "stream",
     "text": [
      "Part of node feature [feat_0]: [[0.75159836 0.97509009 0.02171283 0.6796279  0.74222597]\n",
      " [0.49453697 0.7266292  0.76266678 0.29349288 0.21777758]\n",
      " [0.01553299 0.07565255 0.10809961 0.8785732  0.62022941]]\n",
      "Node feature [feat_0] is saved to ./ondisk_dataset_homograph/node-feat-0.npy\n",
      "\n",
      "Part of node feature [feat_1]: tensor([[0.0891, 0.2273, 0.0935, 0.1314, 0.9402],\n",
      "        [0.0537, 0.0098, 0.6345, 0.0443, 0.1677],\n",
      "        [0.3535, 0.2251, 0.8481, 0.3266, 0.2199]])\n",
      "Node feature [feat_1] is saved to ./ondisk_dataset_homograph/node-feat-1.pt\n",
      "\n",
      "Part of edge feature [feat_0]: [[0.37918331 0.04512653 0.80643022 0.11377408 0.43300673]\n",
      " [0.55199497 0.84195895 0.310238   0.30732683 0.79396522]\n",
      " [0.93930348 0.33553506 0.08453737 0.26283927 0.9800882 ]]\n",
      "Edge feature [feat_0] is saved to ./ondisk_dataset_homograph/edge-feat-0.npy\n",
      "\n",
      "Part of edge feature [feat_1]: tensor([[0.4161, 0.5375, 0.7403, 0.2933, 0.2533],\n",
      "        [0.6666, 0.8859, 0.4420, 0.5310, 0.5204],\n",
      "        [0.4843, 0.3807, 0.4343, 0.3801, 0.1246]])\n",
      "Edge feature [feat_1] is saved to ./ondisk_dataset_homograph/edge-feat-1.pt\n",
      "\n"
     ]
    }
   ],
   "source": [
    "# Generate node feature in numpy array.\n",
    "node_feat_0_path = os.path.join(base_dir, \"node-feat-0.npy\")\n",
    "node_feat_0 = np.random.rand(num_nodes, 5)\n",
    "print(f\"Part of node feature [feat_0]: {node_feat_0[:3, :]}\")\n",
    "np.save(node_feat_0_path, node_feat_0)\n",
    "print(f\"Node feature [feat_0] is saved to {node_feat_0_path}\\n\")\n",
    "\n",
    "# Generate another node feature in torch tensor\n",
    "node_feat_1_path = os.path.join(base_dir, \"node-feat-1.pt\")\n",
    "node_feat_1 = torch.rand(num_nodes, 5)\n",
    "print(f\"Part of node feature [feat_1]: {node_feat_1[:3, :]}\")\n",
    "torch.save(node_feat_1, node_feat_1_path)\n",
    "print(f\"Node feature [feat_1] is saved to {node_feat_1_path}\\n\")\n",
    "\n",
    "# Generate edge feature in numpy array.\n",
    "edge_feat_0_path = os.path.join(base_dir, \"edge-feat-0.npy\")\n",
    "edge_feat_0 = np.random.rand(num_edges, 5)\n",
    "print(f\"Part of edge feature [feat_0]: {edge_feat_0[:3, :]}\")\n",
    "np.save(edge_feat_0_path, edge_feat_0)\n",
    "print(f\"Edge feature [feat_0] is saved to {edge_feat_0_path}\\n\")\n",
    "\n",
    "# Generate another edge feature in torch tensor\n",
    "edge_feat_1_path = os.path.join(base_dir, \"edge-feat-1.pt\")\n",
    "edge_feat_1 = torch.rand(num_edges, 5)\n",
    "print(f\"Part of edge feature [feat_1]: {edge_feat_1[:3, :]}\")\n",
    "torch.save(edge_feat_1, edge_feat_1_path)\n",
    "print(f\"Edge feature [feat_1] is saved to {edge_feat_1_path}\\n\")\n"
   ]
  },
  {
   "cell_type": "markdown",
   "metadata": {
    "id": "ZyqgOtsIwzh_"
   },
   "source": [
    "### Generate tasks\n",
    "`OnDiskDataset` supports multiple tasks. For each task, we need to prepare training/validation/test sets respectively. Such sets usually vary among different tasks. In this tutorial, let's create a **Node Classification** task and **Link Prediction** task."
   ]
  },
  {
   "cell_type": "markdown",
   "metadata": {
    "id": "hVxHaDIfzCkr"
   },
   "source": [
    "#### Node Classification Task\n",
    "For node classification task, we need **node IDs** and corresponding **labels** for each training/validation/test set. Like feature data, numpy arrays and torch tensors are supported for these sets."
   ]
  },
  {
   "cell_type": "code",
   "execution_count": 5,
   "metadata": {
    "execution": {
     "iopub.execute_input": "2024-09-26T13:20:57.975441Z",
     "iopub.status.busy": "2024-09-26T13:20:57.975040Z",
     "iopub.status.idle": "2024-09-26T13:20:57.986719Z",
     "shell.execute_reply": "2024-09-26T13:20:57.985905Z"
    },
    "id": "S5-fyBbHzTCO"
   },
   "outputs": [
    {
     "name": "stdout",
     "output_type": "stream",
     "text": [
      "Part of train ids for node classification: [707 806 962]\n",
      "NC train ids are saved to ./ondisk_dataset_homograph/nc-train-ids.npy\n",
      "\n",
      "Part of train labels for node classification: tensor([0, 6, 5])\n",
      "NC train labels are saved to ./ondisk_dataset_homograph/nc-train-labels.pt\n",
      "\n",
      "Part of val ids for node classification: [202 848 811]\n",
      "NC val ids are saved to ./ondisk_dataset_homograph/nc-val-ids.npy\n",
      "\n",
      "Part of val labels for node classification: tensor([4, 0, 7])\n",
      "NC val labels are saved to ./ondisk_dataset_homograph/nc-val-labels.pt\n",
      "\n",
      "Part of test ids for node classification: [927 623  65]\n",
      "NC test ids are saved to ./ondisk_dataset_homograph/nc-test-ids.npy\n",
      "\n",
      "Part of test labels for node classification: tensor([4, 3, 2])\n",
      "NC test labels are saved to ./ondisk_dataset_homograph/nc-test-labels.pt\n",
      "\n"
     ]
    }
   ],
   "source": [
    "num_trains = int(num_nodes * 0.6)\n",
    "num_vals = int(num_nodes * 0.2)\n",
    "num_tests = num_nodes - num_trains - num_vals\n",
    "\n",
    "ids = np.arange(num_nodes)\n",
    "np.random.shuffle(ids)\n",
    "\n",
    "nc_train_ids_path = os.path.join(base_dir, \"nc-train-ids.npy\")\n",
    "nc_train_ids = ids[:num_trains]\n",
    "print(f\"Part of train ids for node classification: {nc_train_ids[:3]}\")\n",
    "np.save(nc_train_ids_path, nc_train_ids)\n",
    "print(f\"NC train ids are saved to {nc_train_ids_path}\\n\")\n",
    "\n",
    "nc_train_labels_path = os.path.join(base_dir, \"nc-train-labels.pt\")\n",
    "nc_train_labels = torch.randint(0, 10, (num_trains,))\n",
    "print(f\"Part of train labels for node classification: {nc_train_labels[:3]}\")\n",
    "torch.save(nc_train_labels, nc_train_labels_path)\n",
    "print(f\"NC train labels are saved to {nc_train_labels_path}\\n\")\n",
    "\n",
    "nc_val_ids_path = os.path.join(base_dir, \"nc-val-ids.npy\")\n",
    "nc_val_ids = ids[num_trains:num_trains+num_vals]\n",
    "print(f\"Part of val ids for node classification: {nc_val_ids[:3]}\")\n",
    "np.save(nc_val_ids_path, nc_val_ids)\n",
    "print(f\"NC val ids are saved to {nc_val_ids_path}\\n\")\n",
    "\n",
    "nc_val_labels_path = os.path.join(base_dir, \"nc-val-labels.pt\")\n",
    "nc_val_labels = torch.randint(0, 10, (num_vals,))\n",
    "print(f\"Part of val labels for node classification: {nc_val_labels[:3]}\")\n",
    "torch.save(nc_val_labels, nc_val_labels_path)\n",
    "print(f\"NC val labels are saved to {nc_val_labels_path}\\n\")\n",
    "\n",
    "nc_test_ids_path = os.path.join(base_dir, \"nc-test-ids.npy\")\n",
    "nc_test_ids = ids[-num_tests:]\n",
    "print(f\"Part of test ids for node classification: {nc_test_ids[:3]}\")\n",
    "np.save(nc_test_ids_path, nc_test_ids)\n",
    "print(f\"NC test ids are saved to {nc_test_ids_path}\\n\")\n",
    "\n",
    "nc_test_labels_path = os.path.join(base_dir, \"nc-test-labels.pt\")\n",
    "nc_test_labels = torch.randint(0, 10, (num_tests,))\n",
    "print(f\"Part of test labels for node classification: {nc_test_labels[:3]}\")\n",
    "torch.save(nc_test_labels, nc_test_labels_path)\n",
    "print(f\"NC test labels are saved to {nc_test_labels_path}\\n\")"
   ]
  },
  {
   "cell_type": "markdown",
   "metadata": {
    "id": "LhAcDCHQ_KJ0"
   },
   "source": [
    "#### Link Prediction Task\n",
    "For link prediction task, we need **seeds** or **corresponding labels and indexes** which representing the pos/neg property and group of the seeds for each training/validation/test set. Like feature data, numpy arrays and torch tensors are supported for these sets."
   ]
  },
  {
   "cell_type": "code",
   "execution_count": 6,
   "metadata": {
    "execution": {
     "iopub.execute_input": "2024-09-26T13:20:57.989165Z",
     "iopub.status.busy": "2024-09-26T13:20:57.988972Z",
     "iopub.status.idle": "2024-09-26T13:20:58.007033Z",
     "shell.execute_reply": "2024-09-26T13:20:58.005860Z"
    },
    "id": "u0jCnXIcAQy4"
   },
   "outputs": [
    {
     "name": "stdout",
     "output_type": "stream",
     "text": [
      "Part of train seeds for link prediction: [[934 935]\n",
      " [989  62]\n",
      " [555  29]]\n",
      "LP train seeds are saved to ./ondisk_dataset_homograph/lp-train-seeds.npy\n",
      "\n",
      "Part of val seeds for link prediction: [[847 753]\n",
      " [983 214]\n",
      " [  7 112]]\n",
      "LP val seeds are saved to ./ondisk_dataset_homograph/lp-val-seeds.npy\n",
      "\n",
      "Part of val labels for link prediction: [1. 1. 1.]\n",
      "LP val labels are saved to ./ondisk_dataset_homograph/lp-val-labels.npy\n",
      "\n",
      "Part of val indexes for link prediction: [0 1 2]\n",
      "LP val indexes are saved to ./ondisk_dataset_homograph/lp-val-indexes.npy\n",
      "\n",
      "Part of test seeds for link prediction: [[177 576]\n",
      " [198 929]\n",
      " [561 458]]\n",
      "LP test seeds are saved to ./ondisk_dataset_homograph/lp-test-seeds.npy\n",
      "\n",
      "Part of val labels for link prediction: [1. 1. 1.]\n",
      "LP test labels are saved to ./ondisk_dataset_homograph/lp-test-labels.npy\n",
      "\n",
      "Part of test indexes for link prediction: [0 1 2]\n",
      "LP test indexes are saved to ./ondisk_dataset_homograph/lp-test-indexes.npy\n",
      "\n"
     ]
    }
   ],
   "source": [
    "num_trains = int(num_edges * 0.6)\n",
    "num_vals = int(num_edges * 0.2)\n",
    "num_tests = num_edges - num_trains - num_vals\n",
    "\n",
    "lp_train_seeds_path = os.path.join(base_dir, \"lp-train-seeds.npy\")\n",
    "lp_train_seeds = edges[:num_trains, :]\n",
    "print(f\"Part of train seeds for link prediction: {lp_train_seeds[:3]}\")\n",
    "np.save(lp_train_seeds_path, lp_train_seeds)\n",
    "print(f\"LP train seeds are saved to {lp_train_seeds_path}\\n\")\n",
    "\n",
    "lp_val_seeds_path = os.path.join(base_dir, \"lp-val-seeds.npy\")\n",
    "lp_val_seeds = edges[num_trains:num_trains+num_vals, :]\n",
    "lp_val_neg_dsts = np.random.randint(0, num_nodes, (num_vals, 10)).reshape(-1)\n",
    "lp_val_neg_srcs = np.repeat(lp_val_seeds[:,0], 10)\n",
    "lp_val_neg_seeds = np.concatenate((lp_val_neg_srcs, lp_val_neg_dsts)).reshape(2,-1).T\n",
    "lp_val_seeds = np.concatenate((lp_val_seeds, lp_val_neg_seeds))\n",
    "print(f\"Part of val seeds for link prediction: {lp_val_seeds[:3]}\")\n",
    "np.save(lp_val_seeds_path, lp_val_seeds)\n",
    "print(f\"LP val seeds are saved to {lp_val_seeds_path}\\n\")\n",
    "\n",
    "lp_val_labels_path = os.path.join(base_dir, \"lp-val-labels.npy\")\n",
    "lp_val_labels = np.empty(num_vals * (10 + 1))\n",
    "lp_val_labels[:num_vals] = 1\n",
    "lp_val_labels[num_vals:] = 0\n",
    "print(f\"Part of val labels for link prediction: {lp_val_labels[:3]}\")\n",
    "np.save(lp_val_labels_path, lp_val_labels)\n",
    "print(f\"LP val labels are saved to {lp_val_labels_path}\\n\")\n",
    "\n",
    "lp_val_indexes_path = os.path.join(base_dir, \"lp-val-indexes.npy\")\n",
    "lp_val_indexes = np.arange(0, num_vals)\n",
    "lp_val_neg_indexes = np.repeat(lp_val_indexes, 10)\n",
    "lp_val_indexes = np.concatenate([lp_val_indexes, lp_val_neg_indexes])\n",
    "print(f\"Part of val indexes for link prediction: {lp_val_indexes[:3]}\")\n",
    "np.save(lp_val_indexes_path, lp_val_indexes)\n",
    "print(f\"LP val indexes are saved to {lp_val_indexes_path}\\n\")\n",
    "\n",
    "lp_test_seeds_path = os.path.join(base_dir, \"lp-test-seeds.npy\")\n",
    "lp_test_seeds = edges[-num_tests:, :]\n",
    "lp_test_neg_dsts = np.random.randint(0, num_nodes, (num_tests, 10)).reshape(-1)\n",
    "lp_test_neg_srcs = np.repeat(lp_test_seeds[:,0], 10)\n",
    "lp_test_neg_seeds = np.concatenate((lp_test_neg_srcs, lp_test_neg_dsts)).reshape(2,-1).T\n",
    "lp_test_seeds = np.concatenate((lp_test_seeds, lp_test_neg_seeds))\n",
    "print(f\"Part of test seeds for link prediction: {lp_test_seeds[:3]}\")\n",
    "np.save(lp_test_seeds_path, lp_test_seeds)\n",
    "print(f\"LP test seeds are saved to {lp_test_seeds_path}\\n\")\n",
    "\n",
    "lp_test_labels_path = os.path.join(base_dir, \"lp-test-labels.npy\")\n",
    "lp_test_labels = np.empty(num_tests * (10 + 1))\n",
    "lp_test_labels[:num_tests] = 1\n",
    "lp_test_labels[num_tests:] = 0\n",
    "print(f\"Part of val labels for link prediction: {lp_test_labels[:3]}\")\n",
    "np.save(lp_test_labels_path, lp_test_labels)\n",
    "print(f\"LP test labels are saved to {lp_test_labels_path}\\n\")\n",
    "\n",
    "lp_test_indexes_path = os.path.join(base_dir, \"lp-test-indexes.npy\")\n",
    "lp_test_indexes = np.arange(0, num_tests)\n",
    "lp_test_neg_indexes = np.repeat(lp_test_indexes, 10)\n",
    "lp_test_indexes = np.concatenate([lp_test_indexes, lp_test_neg_indexes])\n",
    "print(f\"Part of test indexes for link prediction: {lp_test_indexes[:3]}\")\n",
    "np.save(lp_test_indexes_path, lp_test_indexes)\n",
    "print(f\"LP test indexes are saved to {lp_test_indexes_path}\\n\")"
   ]
  },
  {
   "cell_type": "markdown",
   "metadata": {
    "id": "wbk6-wxRK-6S"
   },
   "source": [
    "## Organize Data into YAML File\n",
    "Now we need to create a `metadata.yaml` file which contains the paths, dadta types of graph structure, feature data, training/validation/test sets.\n",
    "\n",
    "Notes:\n",
    "- all path should be relative to `metadata.yaml`.\n",
    "- Below fields are optional and not specified in below example.\n",
    "  - `in_memory`: indicates whether to load dada into memory or `mmap`. Default is `True`.\n",
    "\n",
    "Please refer to [YAML specification](https://github.com/dmlc/dgl/blob/master/docs/source/stochastic_training/ondisk-dataset-specification.rst) for more details."
   ]
  },
  {
   "cell_type": "code",
   "execution_count": 7,
   "metadata": {
    "execution": {
     "iopub.execute_input": "2024-09-26T13:20:58.009319Z",
     "iopub.status.busy": "2024-09-26T13:20:58.008959Z",
     "iopub.status.idle": "2024-09-26T13:20:58.014436Z",
     "shell.execute_reply": "2024-09-26T13:20:58.013923Z"
    },
    "id": "ddGTWW61Lpwp"
   },
   "outputs": [],
   "source": [
    "yaml_content = f\"\"\"\n",
    "    dataset_name: homogeneous_graph_nc_lp\n",
    "    graph:\n",
    "      nodes:\n",
    "        - num: {num_nodes}\n",
    "      edges:\n",
    "        - format: csv\n",
    "          path: {os.path.basename(edges_path)}\n",
    "    feature_data:\n",
    "      - domain: node\n",
    "        name: feat_0\n",
    "        format: numpy\n",
    "        path: {os.path.basename(node_feat_0_path)}\n",
    "      - domain: node\n",
    "        name: feat_1\n",
    "        format: torch\n",
    "        path: {os.path.basename(node_feat_1_path)}\n",
    "      - domain: edge\n",
    "        name: feat_0\n",
    "        format: numpy\n",
    "        path: {os.path.basename(edge_feat_0_path)}\n",
    "      - domain: edge\n",
    "        name: feat_1\n",
    "        format: torch\n",
    "        path: {os.path.basename(edge_feat_1_path)}\n",
    "    tasks:\n",
    "      - name: node_classification\n",
    "        num_classes: 10\n",
    "        train_set:\n",
    "          - data:\n",
    "              - name: seeds\n",
    "                format: numpy\n",
    "                path: {os.path.basename(nc_train_ids_path)}\n",
    "              - name: labels\n",
    "                format: torch\n",
    "                path: {os.path.basename(nc_train_labels_path)}\n",
    "        validation_set:\n",
    "          - data:\n",
    "              - name: seeds\n",
    "                format: numpy\n",
    "                path: {os.path.basename(nc_val_ids_path)}\n",
    "              - name: labels\n",
    "                format: torch\n",
    "                path: {os.path.basename(nc_val_labels_path)}\n",
    "        test_set:\n",
    "          - data:\n",
    "              - name: seeds\n",
    "                format: numpy\n",
    "                path: {os.path.basename(nc_test_ids_path)}\n",
    "              - name: labels\n",
    "                format: torch\n",
    "                path: {os.path.basename(nc_test_labels_path)}\n",
    "      - name: link_prediction\n",
    "        num_classes: 10\n",
    "        train_set:\n",
    "          - data:\n",
    "              - name: seeds\n",
    "                format: numpy\n",
    "                path: {os.path.basename(lp_train_seeds_path)}\n",
    "        validation_set:\n",
    "          - data:\n",
    "              - name: seeds\n",
    "                format: numpy\n",
    "                path: {os.path.basename(lp_val_seeds_path)}\n",
    "              - name: labels\n",
    "                format: numpy\n",
    "                path: {os.path.basename(lp_val_labels_path)}\n",
    "              - name: indexes\n",
    "                format: numpy\n",
    "                path: {os.path.basename(lp_val_indexes_path)}\n",
    "        test_set:\n",
    "          - data:\n",
    "              - name: seeds\n",
    "                format: numpy\n",
    "                path: {os.path.basename(lp_test_seeds_path)}\n",
    "              - name: labels\n",
    "                format: numpy\n",
    "                path: {os.path.basename(lp_test_labels_path)}\n",
    "              - name: indexes\n",
    "                format: numpy\n",
    "                path: {os.path.basename(lp_test_indexes_path)}\n",
    "\"\"\"\n",
    "metadata_path = os.path.join(base_dir, \"metadata.yaml\")\n",
    "with open(metadata_path, \"w\") as f:\n",
    "  f.write(yaml_content)"
   ]
  },
  {
   "cell_type": "markdown",
   "metadata": {
    "id": "kEfybHGhOW7O"
   },
   "source": [
    "## Instantiate `OnDiskDataset`\n",
    "Now we're ready to load dataset via `dgl.graphbolt.OnDiskDataset`. When instantiating, we just pass in the base directory where `metadata.yaml` file lies.\n",
    "\n",
    "During first instantiation, GraphBolt preprocesses the raw data such as constructing `FusedCSCSamplingGraph` from edges. All data including graph, feature data, training/validation/test sets are put into `preprocessed` directory after preprocessing. Any following dataset loading will skip the preprocess stage.\n",
    "\n",
    "After preprocessing, `load()` is required to be called explicitly in order to load graph, feature data and tasks."
   ]
  },
  {
   "cell_type": "code",
   "execution_count": 8,
   "metadata": {
    "execution": {
     "iopub.execute_input": "2024-09-26T13:20:58.016236Z",
     "iopub.status.busy": "2024-09-26T13:20:58.015874Z",
     "iopub.status.idle": "2024-09-26T13:20:58.079485Z",
     "shell.execute_reply": "2024-09-26T13:20:58.078924Z"
    },
    "id": "W58CZoSzOiyo"
   },
   "outputs": [
    {
     "name": "stdout",
     "output_type": "stream",
     "text": [
      "Start to preprocess the on-disk dataset.\n",
      "Finish preprocessing the on-disk dataset.\n",
      "Loaded graph: FusedCSCSamplingGraph(csc_indptr=tensor([    0,    10,    19,  ...,  9977,  9990, 10000], dtype=torch.int32),\n",
      "                      indices=tensor([631, 958, 232,  ...,  97, 912, 854], dtype=torch.int32),\n",
      "                      total_num_nodes=1000, num_edges=10000,)\n",
      "\n",
      "Loaded feature store: TorchBasedFeatureStore(\n",
      "    {(<OnDiskFeatureDataDomain.NODE: 'node'>, None, 'feat_0'): TorchBasedFeature(\n",
      "        feature=tensor([[0.7516, 0.9751, 0.0217, 0.6796, 0.7422],\n",
      "                        [0.4945, 0.7266, 0.7627, 0.2935, 0.2178],\n",
      "                        [0.0155, 0.0757, 0.1081, 0.8786, 0.6202],\n",
      "                        ...,\n",
      "                        [0.3499, 0.0104, 0.0205, 0.2243, 0.2756],\n",
      "                        [0.8584, 0.2993, 0.6612, 0.7145, 0.7194],\n",
      "                        [0.3748, 0.1982, 0.4506, 0.8095, 0.9683]], dtype=torch.float64),\n",
      "        metadata={},\n",
      "    ), (<OnDiskFeatureDataDomain.NODE: 'node'>, None, 'feat_1'): TorchBasedFeature(\n",
      "        feature=tensor([[0.0891, 0.2273, 0.0935, 0.1314, 0.9402],\n",
      "                        [0.0537, 0.0098, 0.6345, 0.0443, 0.1677],\n",
      "                        [0.3535, 0.2251, 0.8481, 0.3266, 0.2199],\n",
      "                        ...,\n",
      "                        [0.6851, 0.8004, 0.8514, 0.0092, 0.3299],\n",
      "                        [0.4288, 0.8840, 0.5045, 0.3023, 0.4324],\n",
      "                        [0.4765, 0.7691, 0.7802, 0.5433, 0.0957]]),\n",
      "        metadata={},\n",
      "    ), (<OnDiskFeatureDataDomain.EDGE: 'edge'>, None, 'feat_0'): TorchBasedFeature(\n",
      "        feature=tensor([[0.3792, 0.0451, 0.8064, 0.1138, 0.4330],\n",
      "                        [0.5520, 0.8420, 0.3102, 0.3073, 0.7940],\n",
      "                        [0.9393, 0.3355, 0.0845, 0.2628, 0.9801],\n",
      "                        ...,\n",
      "                        [0.2186, 0.0416, 0.9801, 0.0773, 0.7683],\n",
      "                        [0.4001, 0.1065, 0.3771, 0.8831, 0.9655],\n",
      "                        [0.2877, 0.8077, 0.0143, 0.8100, 0.4900]], dtype=torch.float64),\n",
      "        metadata={},\n",
      "    ), (<OnDiskFeatureDataDomain.EDGE: 'edge'>, None, 'feat_1'): TorchBasedFeature(\n",
      "        feature=tensor([[0.4161, 0.5375, 0.7403, 0.2933, 0.2533],\n",
      "                        [0.6666, 0.8859, 0.4420, 0.5310, 0.5204],\n",
      "                        [0.4843, 0.3807, 0.4343, 0.3801, 0.1246],\n",
      "                        ...,\n",
      "                        [0.1582, 0.6452, 0.0753, 0.1838, 0.1751],\n",
      "                        [0.9727, 0.3573, 0.5845, 0.7392, 0.1597],\n",
      "                        [0.3836, 0.0905, 0.2899, 0.4536, 0.1905]]),\n",
      "        metadata={},\n",
      "    )}\n",
      ")\n",
      "\n",
      "Loaded node classification task: OnDiskTask(validation_set=ItemSet(\n",
      "               items=(tensor([202, 848, 811, 879, 795, 164, 874, 399, 204, 576, 375,  61, 641, 434,\n",
      "                   847, 919,   5, 775, 939, 593, 624, 532, 998, 485, 167, 881, 990, 425,\n",
      "                   964, 631, 657, 128, 639, 818, 464, 686,  67, 952, 586, 663,  22, 928,\n",
      "                   914,  87,  98, 562, 326, 344, 123, 411, 148, 821, 815, 501, 524, 183,\n",
      "                   497,  49, 546, 420, 369,  26, 210, 842,  52, 484, 473,  74,  69, 606,\n",
      "                   393, 179, 857, 453, 389, 930, 229, 479, 696, 824, 212, 693, 825, 835,\n",
      "                   322, 513,  40, 239, 268,   6,  54, 569, 373, 765, 194, 609,  39, 254,\n",
      "                   981, 904, 257, 720, 522, 157, 140, 144, 461, 837, 534, 233, 424, 408,\n",
      "                   245, 854, 327, 646, 435, 556, 970, 499, 539, 877, 682, 755, 770, 381,\n",
      "                    35, 829, 120, 630, 553, 118,  77, 709,  25, 231, 758, 668, 457, 779,\n",
      "                   352, 793, 367, 605, 150, 797, 588, 400, 205, 331, 299, 278, 862,  48,\n",
      "                   295, 330, 323, 840,  75,  73, 462, 759, 554, 791, 262, 706, 132, 523,\n",
      "                   141, 577, 968, 741, 901, 320, 161,  56, 763, 328, 699, 830,  30, 629,\n",
      "                    21, 856, 475, 893, 130, 451, 885, 486, 566, 502, 250, 252,  41, 301,\n",
      "                   109, 456, 312, 519], dtype=torch.int32), tensor([4, 0, 7, 7, 3, 9, 5, 0, 4, 9, 2, 0, 3, 8, 3, 9, 9, 0, 1, 0, 4, 6, 4, 4,\n",
      "                   2, 2, 1, 0, 2, 7, 8, 2, 8, 1, 9, 1, 6, 9, 9, 8, 2, 3, 6, 7, 6, 9, 9, 8,\n",
      "                   6, 0, 3, 4, 8, 0, 8, 3, 3, 0, 3, 8, 0, 9, 0, 3, 4, 8, 2, 5, 6, 2, 2, 0,\n",
      "                   9, 9, 9, 9, 1, 3, 8, 2, 4, 2, 3, 1, 8, 4, 0, 7, 1, 8, 9, 7, 8, 3, 0, 9,\n",
      "                   0, 8, 5, 5, 7, 5, 6, 0, 4, 8, 5, 3, 7, 3, 9, 1, 3, 4, 3, 5, 4, 5, 8, 3,\n",
      "                   5, 0, 2, 0, 0, 6, 8, 4, 2, 8, 5, 0, 3, 3, 5, 3, 1, 9, 7, 1, 8, 3, 5, 6,\n",
      "                   8, 6, 3, 3, 9, 7, 9, 7, 7, 1, 2, 1, 7, 2, 7, 6, 4, 4, 2, 9, 9, 8, 1, 9,\n",
      "                   7, 2, 5, 6, 1, 1, 6, 5, 1, 2, 5, 9, 3, 5, 9, 7, 3, 8, 5, 3, 3, 1, 7, 5,\n",
      "                   6, 9, 8, 6, 0, 3, 1, 6])),\n",
      "               names=('seeds', 'labels'),\n",
      "           ),\n",
      "           train_set=ItemSet(\n",
      "               items=(tensor([707, 806, 962, 504, 410, 454, 789, 949, 139, 590, 155, 980, 733, 247,\n",
      "                   537, 466, 249, 607,  43, 185, 263, 422, 310, 255, 963, 463, 633, 845,\n",
      "                   142,  96, 584, 227, 261, 776, 558, 297, 574, 710, 844, 266, 455, 950,\n",
      "                   442, 781, 365, 915, 655, 613, 317, 992, 784, 213, 984, 621, 225, 508,\n",
      "                   376,  18, 339, 769, 807, 767, 674, 313, 334, 286, 787,  10, 172, 937,\n",
      "                   209, 100, 622, 868, 660, 615, 861, 737, 799, 711,  97,   3, 282, 214,\n",
      "                   407, 559, 445, 690,   7, 900, 198, 296, 731, 858, 626, 625, 612, 670,\n",
      "                   578,  59, 548, 743, 764, 324,   4, 547, 220, 551, 932, 414,  62, 938,\n",
      "                   575, 909, 884, 778, 867, 563, 235, 200, 219,  46, 402, 529, 430, 942,\n",
      "                   729, 329, 917, 332, 958, 469,  28, 433, 253, 345, 989, 357, 195, 166,\n",
      "                   860, 967, 190, 983, 459, 314,  53, 754, 557, 703, 604, 581, 372,  92,\n",
      "                   458, 926,  50, 234, 383,  81, 174, 972, 672, 385, 405, 916,  76, 168,\n",
      "                   363, 925, 595, 281, 870, 603, 476, 665, 785, 725, 959, 912, 315, 960,\n",
      "                   675, 244, 617, 934, 512, 418, 568, 288, 217, 316, 640, 114, 804, 533,\n",
      "                   836,  55, 133, 644, 388, 722, 211, 181, 851, 692, 515, 638, 127, 401,\n",
      "                   738, 129, 230, 921,  90, 146, 560, 739, 151, 594, 780, 549, 481, 933,\n",
      "                   184, 540, 336, 378, 397, 243, 597, 948,  34, 872, 570, 599, 902, 470,\n",
      "                   377, 396, 993, 740, 803, 929, 805, 374, 635, 883, 427, 971, 571, 192,\n",
      "                   786, 896, 520, 394, 922, 471, 311, 713, 122, 651, 147,  45,  89,  51,\n",
      "                   216, 642, 347, 702, 969, 585, 350, 654, 406, 465, 944, 802, 798, 426,\n",
      "                   273, 931, 812, 370, 413, 659, 170, 774,  79, 135, 905, 409, 104, 364,\n",
      "                   119, 667, 863, 913, 528,  47, 683, 911,   1, 602, 371, 705, 859, 439,\n",
      "                   159, 112, 197, 271, 349, 745, 180,  91, 390, 768, 694, 134, 106, 852,\n",
      "                   801, 163, 648, 283, 152,  82, 342, 154, 507, 398, 343, 552, 138, 941,\n",
      "                   468, 582, 573,  12, 719, 822,  94,  36, 169, 727, 391, 108, 303, 656,\n",
      "                   304, 222, 125, 318, 679, 284, 474, 761, 897, 620, 143, 223,  63,  57,\n",
      "                   864, 766, 826, 208, 849, 614,   2, 982, 338,  60, 240, 500, 619, 965,\n",
      "                   431, 415, 875, 695, 175, 688, 289, 506, 536, 246, 985, 207, 678, 404,\n",
      "                   943, 423, 149, 940, 924, 974, 999, 773, 186, 309, 487, 387, 403,  80,\n",
      "                   762, 977, 669, 206, 673, 432, 510,  44, 162, 436, 494, 697, 658, 448,\n",
      "                   356,  31, 417, 531, 979, 416, 978, 908, 747,  20, 193, 538, 176, 726,\n",
      "                   491, 335, 596, 116, 583, 687, 961, 511, 894, 450, 218, 429, 256, 160,\n",
      "                   446, 988, 298, 600, 886, 290, 772, 384,  19, 441, 480, 587, 382, 742,\n",
      "                   421, 541, 392, 796, 880, 627, 477, 704, 196, 189, 882, 618, 188, 521,\n",
      "                   572, 891, 810, 199, 158, 543, 716, 794, 876, 348, 899, 265, 828, 715,\n",
      "                   277, 662,  27, 437, 177,   8, 788, 889, 592, 306,  64, 443, 869,   0,\n",
      "                   771, 757, 550, 953, 809,  70, 991, 482, 447, 319, 544, 258, 517,  16,\n",
      "                   495, 671, 790, 838, 966, 165, 228, 264, 379, 354,  15, 340, 800, 732,\n",
      "                   358, 634, 831, 714, 269, 652,  88, 259, 792, 555, 708, 890, 892, 730,\n",
      "                   839, 685,  29, 346, 653, 542, 440, 855,  66, 947, 751, 827, 753, 117,\n",
      "                   492,  71, 449, 490, 489, 237, 276, 636, 735, 565, 591, 285, 173, 153,\n",
      "                   137, 337, 976, 110, 498, 906, 452, 865, 907, 527, 632, 647, 923, 567,\n",
      "                    42, 920, 514, 493, 325,  38, 412, 368, 666, 954, 460, 887],\n",
      "                  dtype=torch.int32), tensor([0, 6, 5, 7, 8, 2, 9, 7, 7, 5, 9, 7, 4, 6, 4, 0, 4, 8, 5, 1, 3, 0, 5, 9,\n",
      "                   6, 4, 7, 9, 5, 2, 0, 4, 7, 0, 1, 8, 1, 3, 8, 2, 1, 2, 3, 8, 9, 6, 9, 9,\n",
      "                   0, 3, 0, 6, 1, 3, 5, 7, 3, 7, 4, 7, 0, 2, 0, 9, 8, 1, 0, 9, 7, 7, 5, 9,\n",
      "                   8, 3, 1, 9, 6, 5, 6, 9, 0, 7, 6, 9, 4, 8, 1, 5, 1, 3, 9, 9, 1, 8, 3, 1,\n",
      "                   2, 2, 6, 2, 8, 7, 5, 7, 7, 5, 8, 2, 8, 0, 9, 5, 6, 0, 6, 9, 8, 8, 3, 2,\n",
      "                   4, 7, 7, 4, 6, 6, 6, 8, 4, 4, 6, 2, 7, 6, 8, 5, 9, 4, 4, 1, 5, 8, 6, 9,\n",
      "                   9, 8, 3, 0, 4, 8, 0, 6, 8, 5, 9, 8, 5, 2, 1, 6, 5, 7, 0, 0, 8, 0, 2, 4,\n",
      "                   2, 7, 4, 9, 6, 1, 2, 7, 8, 7, 1, 3, 2, 6, 1, 8, 1, 2, 6, 8, 0, 3, 5, 4,\n",
      "                   2, 9, 7, 2, 1, 1, 2, 0, 4, 0, 3, 2, 9, 5, 1, 4, 4, 7, 8, 8, 2, 7, 4, 4,\n",
      "                   6, 7, 1, 6, 2, 6, 2, 8, 0, 9, 4, 6, 3, 3, 3, 3, 6, 5, 0, 7, 0, 3, 2, 4,\n",
      "                   8, 6, 4, 6, 0, 0, 6, 2, 7, 2, 7, 1, 0, 1, 4, 1, 1, 4, 3, 1, 9, 5, 3, 5,\n",
      "                   6, 4, 2, 4, 3, 4, 4, 8, 7, 6, 8, 9, 8, 3, 9, 5, 8, 6, 6, 7, 1, 5, 1, 7,\n",
      "                   7, 1, 1, 4, 7, 2, 5, 7, 1, 3, 7, 0, 6, 9, 5, 9, 9, 1, 4, 9, 2, 2, 7, 0,\n",
      "                   9, 6, 7, 1, 5, 3, 9, 4, 4, 6, 7, 8, 5, 2, 3, 9, 7, 1, 8, 3, 3, 2, 1, 1,\n",
      "                   0, 9, 2, 5, 8, 5, 2, 8, 7, 2, 9, 1, 4, 2, 9, 5, 8, 4, 9, 3, 5, 3, 1, 8,\n",
      "                   3, 1, 7, 8, 8, 8, 4, 7, 2, 3, 3, 2, 2, 3, 0, 2, 8, 4, 0, 5, 2, 4, 5, 0,\n",
      "                   1, 7, 5, 7, 8, 2, 1, 9, 5, 8, 8, 9, 3, 9, 0, 9, 3, 4, 4, 8, 0, 5, 8, 2,\n",
      "                   3, 5, 1, 2, 9, 4, 7, 9, 1, 5, 6, 7, 6, 9, 6, 5, 0, 1, 8, 3, 3, 4, 1, 8,\n",
      "                   8, 1, 6, 0, 6, 7, 1, 4, 6, 2, 2, 8, 5, 4, 5, 0, 7, 1, 2, 8, 5, 7, 1, 9,\n",
      "                   2, 3, 0, 0, 8, 7, 6, 9, 7, 6, 8, 2, 4, 1, 5, 2, 0, 2, 4, 6, 0, 9, 9, 6,\n",
      "                   3, 0, 7, 5, 3, 4, 2, 1, 8, 5, 8, 9, 0, 8, 3, 8, 8, 3, 3, 8, 7, 3, 3, 9,\n",
      "                   1, 9, 1, 7, 9, 4, 4, 0, 2, 0, 1, 0, 0, 6, 6, 3, 3, 1, 2, 0, 4, 6, 7, 5,\n",
      "                   9, 2, 7, 2, 3, 8, 3, 1, 6, 4, 3, 9, 8, 9, 9, 0, 7, 1, 6, 3, 1, 9, 7, 0,\n",
      "                   5, 5, 1, 1, 6, 4, 8, 3, 0, 4, 1, 5, 1, 7, 9, 0, 8, 6, 9, 0, 2, 2, 2, 4,\n",
      "                   5, 7, 1, 4, 3, 2, 5, 2, 4, 3, 9, 3, 6, 7, 7, 3, 0, 6, 7, 5, 2, 0, 0, 2])),\n",
      "               names=('seeds', 'labels'),\n",
      "           ),\n",
      "           test_set=ItemSet(\n",
      "               items=(tensor([927, 623,  65, 215, 101, 955, 734, 918, 380,  95, 113, 997,  33, 951,\n",
      "                   535, 102, 833, 628, 677, 987, 478, 601, 643, 853, 525, 509, 728, 280,\n",
      "                    13, 589, 126, 819, 676, 808, 103, 353, 843,  14, 782, 366,  85, 645,\n",
      "                   580, 272, 483, 748, 637, 236, 472, 723, 341, 503, 302, 488, 878, 224,\n",
      "                   661,  84, 736, 505, 752, 516, 307, 721, 712, 182, 467, 946, 956, 201,\n",
      "                   649, 444, 698, 438, 650, 783, 724,  68, 111, 996, 115, 351, 293, 718,\n",
      "                   841, 360, 238,  78, 178, 823, 957, 496, 545, 936,   9, 873,  99, 270,\n",
      "                   362, 684, 846, 203, 608, 746, 816, 105,  93,  23, 700, 820,  72, 598,\n",
      "                   834, 750, 419, 530, 260, 267, 760, 691, 898, 995, 395, 251, 136, 355,\n",
      "                   171, 221, 242, 564, 121, 518, 291, 107, 300, 145, 616, 756, 274,  24,\n",
      "                   611,  11, 681, 945, 832,  32, 744, 156, 131, 361, 910, 777, 305, 888,\n",
      "                   994, 986, 664, 717, 975,  58, 124, 813, 248, 294, 287, 191, 359, 610,\n",
      "                   973, 241, 386, 526, 749, 226, 871, 187, 232, 866, 680, 333, 850, 701,\n",
      "                   903, 817,  86, 292, 935, 561,  17, 689, 275, 321,  83, 279,  37, 579,\n",
      "                   428, 308, 895, 814], dtype=torch.int32), tensor([4, 3, 2, 5, 9, 0, 9, 8, 3, 6, 0, 1, 5, 9, 8, 2, 8, 5, 3, 6, 1, 9, 1, 9,\n",
      "                   1, 5, 8, 3, 2, 8, 2, 1, 3, 3, 2, 8, 1, 9, 2, 8, 8, 4, 3, 0, 5, 7, 0, 8,\n",
      "                   2, 7, 1, 9, 4, 4, 5, 0, 2, 0, 5, 3, 1, 4, 4, 9, 5, 5, 4, 9, 0, 7, 8, 0,\n",
      "                   9, 5, 2, 3, 5, 3, 0, 4, 5, 7, 8, 7, 6, 5, 8, 9, 6, 1, 9, 8, 4, 6, 2, 3,\n",
      "                   2, 7, 2, 0, 1, 8, 0, 1, 6, 4, 0, 0, 6, 1, 0, 6, 3, 5, 3, 1, 6, 7, 6, 1,\n",
      "                   1, 7, 7, 7, 2, 9, 7, 2, 5, 7, 4, 5, 2, 0, 1, 6, 2, 4, 5, 3, 0, 7, 0, 7,\n",
      "                   3, 0, 8, 8, 8, 1, 2, 7, 6, 9, 1, 9, 3, 0, 0, 7, 7, 6, 7, 0, 9, 6, 4, 9,\n",
      "                   1, 4, 4, 5, 0, 3, 0, 6, 2, 4, 8, 6, 2, 9, 1, 3, 9, 7, 2, 6, 5, 8, 2, 7,\n",
      "                   3, 1, 4, 8, 4, 5, 5, 5])),\n",
      "               names=('seeds', 'labels'),\n",
      "           ),\n",
      "           metadata={'name': 'node_classification', 'num_classes': 10},)\n",
      "\n",
      "Loaded link prediction task: OnDiskTask(validation_set=ItemSet(\n",
      "               items=(tensor([[847, 753],\n",
      "                   [983, 214],\n",
      "                   [  7, 112],\n",
      "                   ...,\n",
      "                   [203,  60],\n",
      "                   [203, 522],\n",
      "                   [203, 747]], dtype=torch.int32), tensor([1., 1., 1.,  ..., 0., 0., 0.], dtype=torch.float64), tensor([   0,    1,    2,  ..., 1999, 1999, 1999])),\n",
      "               names=('seeds', 'labels', 'indexes'),\n",
      "           ),\n",
      "           train_set=ItemSet(\n",
      "               items=(tensor([[934, 935],\n",
      "                   [989,  62],\n",
      "                   [555,  29],\n",
      "                   ...,\n",
      "                   [191, 684],\n",
      "                   [158, 721],\n",
      "                   [690, 701]], dtype=torch.int32),),\n",
      "               names=('seeds',),\n",
      "           ),\n",
      "           test_set=ItemSet(\n",
      "               items=(tensor([[177, 576],\n",
      "                   [198, 929],\n",
      "                   [561, 458],\n",
      "                   ...,\n",
      "                   [138, 106],\n",
      "                   [138, 232],\n",
      "                   [138, 766]], dtype=torch.int32), tensor([1., 1., 1.,  ..., 0., 0., 0.], dtype=torch.float64), tensor([   0,    1,    2,  ..., 1999, 1999, 1999])),\n",
      "               names=('seeds', 'labels', 'indexes'),\n",
      "           ),\n",
      "           metadata={'name': 'link_prediction', 'num_classes': 10},)\n",
      "\n"
     ]
    },
    {
     "name": "stderr",
     "output_type": "stream",
     "text": [
      "/dgl/python/dgl/graphbolt/impl/ondisk_dataset.py:463: GBWarning: Edge feature is stored, but edge IDs are not saved.\n",
      "  gb_warning(\"Edge feature is stored, but edge IDs are not saved.\")\n"
     ]
    }
   ],
   "source": [
    "dataset = gb.OnDiskDataset(base_dir).load()\n",
    "graph = dataset.graph\n",
    "print(f\"Loaded graph: {graph}\\n\")\n",
    "\n",
    "feature = dataset.feature\n",
    "print(f\"Loaded feature store: {feature}\\n\")\n",
    "\n",
    "tasks = dataset.tasks\n",
    "nc_task = tasks[0]\n",
    "print(f\"Loaded node classification task: {nc_task}\\n\")\n",
    "lp_task = tasks[1]\n",
    "print(f\"Loaded link prediction task: {lp_task}\\n\")"
   ]
  }
 ],
 "metadata": {
  "colab": {
   "private_outputs": true,
   "provenance": []
  },
  "kernelspec": {
   "display_name": "Python 3",
   "name": "python3"
  },
  "language_info": {
   "codemirror_mode": {
    "name": "ipython",
    "version": 3
   },
   "file_extension": ".py",
   "mimetype": "text/x-python",
   "name": "python",
   "nbconvert_exporter": "python",
   "pygments_lexer": "ipython3",
   "version": "3.10.15"
  }
 },
 "nbformat": 4,
 "nbformat_minor": 0
}

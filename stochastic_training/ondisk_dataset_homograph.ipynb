{
 "cells": [
  {
   "cell_type": "markdown",
   "metadata": {
    "id": "FnFhPMaAfLtJ"
   },
   "source": [
    "# OnDiskDataset for Homogeneous Graph\n",
    "\n",
    "[![Open In Colab](https://colab.research.google.com/assets/colab-badge.svg)](https://colab.research.google.com/github/dmlc/dgl/blob/master/notebooks/stochastic_training/ondisk_dataset_homograph.ipynb) [![GitHub](https://img.shields.io/badge/-View%20on%20GitHub-181717?logo=github&logoColor=ffffff)](https://github.com/dmlc/dgl/blob/master/notebooks/stochastic_training/ondisk_dataset_homograph.ipynb)\n",
    "\n",
    "This tutorial shows how to create `OnDiskDataset` for homogeneous graph that could be used in **GraphBolt** framework.\n",
    "\n",
    "By the end of this tutorial, you will be able to\n",
    "\n",
    "- organize graph structure data.\n",
    "- organize feature data.\n",
    "- organize training/validation/test set for specific tasks.\n",
    "\n",
    "To create an ``OnDiskDataset`` object, you need to organize all the data including graph structure, feature data and tasks into a directory. The directory should contain a ``metadata.yaml`` file that describes the metadata of the dataset.\n",
    "\n",
    "Now let's generate various data step by step and organize them together to instantiate `OnDiskDataset` finally."
   ]
  },
  {
   "cell_type": "markdown",
   "metadata": {
    "id": "Wlb19DtWgtzq"
   },
   "source": [
    "## Install DGL package"
   ]
  },
  {
   "cell_type": "code",
   "execution_count": 1,
   "metadata": {
    "execution": {
     "iopub.execute_input": "2024-10-15T13:19:56.969751Z",
     "iopub.status.busy": "2024-10-15T13:19:56.969231Z",
     "iopub.status.idle": "2024-10-15T13:19:59.997824Z",
     "shell.execute_reply": "2024-10-15T13:19:59.993533Z"
    },
    "id": "UojlT9ZGgyr9"
   },
   "outputs": [
    {
     "name": "stdout",
     "output_type": "stream",
     "text": [
      "Looking in links: https://data.dgl.ai/wheels-test/repo.html\r\n",
      "Requirement already satisfied: dgl in /opt/conda/envs/dgl-dev-cpu/lib/python3.10/site-packages (2.2a240410)\r\n",
      "Requirement already satisfied: numpy>=1.14.0 in /opt/conda/envs/dgl-dev-cpu/lib/python3.10/site-packages (from dgl) (1.26.4)\r\n",
      "Requirement already satisfied: scipy>=1.1.0 in /opt/conda/envs/dgl-dev-cpu/lib/python3.10/site-packages (from dgl) (1.14.1)\r\n",
      "Requirement already satisfied: networkx>=2.1 in /opt/conda/envs/dgl-dev-cpu/lib/python3.10/site-packages (from dgl) (3.4.1)\r\n",
      "Requirement already satisfied: requests>=2.19.0 in /opt/conda/envs/dgl-dev-cpu/lib/python3.10/site-packages (from dgl) (2.32.3)\r\n",
      "Requirement already satisfied: tqdm in /opt/conda/envs/dgl-dev-cpu/lib/python3.10/site-packages (from dgl) (4.66.5)\r\n",
      "Requirement already satisfied: psutil>=5.8.0 in /opt/conda/envs/dgl-dev-cpu/lib/python3.10/site-packages (from dgl) (6.0.0)\r\n",
      "Requirement already satisfied: torchdata>=0.5.0 in /opt/conda/envs/dgl-dev-cpu/lib/python3.10/site-packages (from dgl) (0.8.0)\r\n",
      "Requirement already satisfied: pandas in /opt/conda/envs/dgl-dev-cpu/lib/python3.10/site-packages (from dgl) (2.2.3)\r\n"
     ]
    },
    {
     "name": "stdout",
     "output_type": "stream",
     "text": [
      "Requirement already satisfied: charset-normalizer<4,>=2 in /opt/conda/envs/dgl-dev-cpu/lib/python3.10/site-packages (from requests>=2.19.0->dgl) (3.4.0)\r\n",
      "Requirement already satisfied: idna<4,>=2.5 in /opt/conda/envs/dgl-dev-cpu/lib/python3.10/site-packages (from requests>=2.19.0->dgl) (3.10)\r\n",
      "Requirement already satisfied: urllib3<3,>=1.21.1 in /opt/conda/envs/dgl-dev-cpu/lib/python3.10/site-packages (from requests>=2.19.0->dgl) (2.2.3)\r\n",
      "Requirement already satisfied: certifi>=2017.4.17 in /opt/conda/envs/dgl-dev-cpu/lib/python3.10/site-packages (from requests>=2.19.0->dgl) (2024.8.30)\r\n",
      "Requirement already satisfied: torch>=2 in /opt/conda/envs/dgl-dev-cpu/lib/python3.10/site-packages (from torchdata>=0.5.0->dgl) (2.1.0+cpu)\r\n"
     ]
    },
    {
     "name": "stdout",
     "output_type": "stream",
     "text": [
      "Requirement already satisfied: python-dateutil>=2.8.2 in /opt/conda/envs/dgl-dev-cpu/lib/python3.10/site-packages (from pandas->dgl) (2.9.0.post0)\r\n",
      "Requirement already satisfied: pytz>=2020.1 in /opt/conda/envs/dgl-dev-cpu/lib/python3.10/site-packages (from pandas->dgl) (2024.2)\r\n",
      "Requirement already satisfied: tzdata>=2022.7 in /opt/conda/envs/dgl-dev-cpu/lib/python3.10/site-packages (from pandas->dgl) (2024.2)\r\n",
      "Requirement already satisfied: six>=1.5 in /opt/conda/envs/dgl-dev-cpu/lib/python3.10/site-packages (from python-dateutil>=2.8.2->pandas->dgl) (1.16.0)\r\n",
      "Requirement already satisfied: filelock in /opt/conda/envs/dgl-dev-cpu/lib/python3.10/site-packages (from torch>=2->torchdata>=0.5.0->dgl) (3.16.1)\r\n",
      "Requirement already satisfied: typing-extensions in /opt/conda/envs/dgl-dev-cpu/lib/python3.10/site-packages (from torch>=2->torchdata>=0.5.0->dgl) (4.12.2)\r\n",
      "Requirement already satisfied: sympy in /opt/conda/envs/dgl-dev-cpu/lib/python3.10/site-packages (from torch>=2->torchdata>=0.5.0->dgl) (1.13.3)\r\n",
      "Requirement already satisfied: jinja2 in /opt/conda/envs/dgl-dev-cpu/lib/python3.10/site-packages (from torch>=2->torchdata>=0.5.0->dgl) (3.1.4)\r\n",
      "Requirement already satisfied: fsspec in /opt/conda/envs/dgl-dev-cpu/lib/python3.10/site-packages (from torch>=2->torchdata>=0.5.0->dgl) (2024.9.0)\r\n"
     ]
    },
    {
     "name": "stdout",
     "output_type": "stream",
     "text": [
      "Requirement already satisfied: MarkupSafe>=2.0 in /opt/conda/envs/dgl-dev-cpu/lib/python3.10/site-packages (from jinja2->torch>=2->torchdata>=0.5.0->dgl) (3.0.1)\r\n",
      "Requirement already satisfied: mpmath<1.4,>=1.1.0 in /opt/conda/envs/dgl-dev-cpu/lib/python3.10/site-packages (from sympy->torch>=2->torchdata>=0.5.0->dgl) (1.3.0)\r\n"
     ]
    },
    {
     "name": "stdout",
     "output_type": "stream",
     "text": [
      "\u001b[33mWARNING: Running pip as the 'root' user can result in broken permissions and conflicting behaviour with the system package manager, possibly rendering your system unusable.It is recommended to use a virtual environment instead: https://pip.pypa.io/warnings/venv. Use the --root-user-action option if you know what you are doing and want to suppress this warning.\u001b[0m\u001b[33m\r\n",
      "\u001b[0m"
     ]
    },
    {
     "name": "stdout",
     "output_type": "stream",
     "text": [
      "DGL installed!\n"
     ]
    }
   ],
   "source": [
    "# Install required packages.\n",
    "import os\n",
    "import torch\n",
    "import numpy as np\n",
    "os.environ['TORCH'] = torch.__version__\n",
    "os.environ['DGLBACKEND'] = \"pytorch\"\n",
    "\n",
    "# Install the CPU version.\n",
    "device = torch.device(\"cpu\")\n",
    "!pip install --pre dgl -f https://data.dgl.ai/wheels-test/repo.html\n",
    "\n",
    "try:\n",
    "    import dgl\n",
    "    import dgl.graphbolt as gb\n",
    "    installed = True\n",
    "except ImportError as error:\n",
    "    installed = False\n",
    "    print(error)\n",
    "print(\"DGL installed!\" if installed else \"DGL not found!\")"
   ]
  },
  {
   "cell_type": "markdown",
   "metadata": {
    "id": "2R7WnSbjsfbr"
   },
   "source": [
    "## Data preparation\n",
    "In order to demonstrate how to organize various data, let's create a base directory first."
   ]
  },
  {
   "cell_type": "code",
   "execution_count": 2,
   "metadata": {
    "execution": {
     "iopub.execute_input": "2024-10-15T13:20:00.001431Z",
     "iopub.status.busy": "2024-10-15T13:20:00.000352Z",
     "iopub.status.idle": "2024-10-15T13:20:00.006568Z",
     "shell.execute_reply": "2024-10-15T13:20:00.005714Z"
    },
    "id": "SZipbzyltLfO"
   },
   "outputs": [
    {
     "name": "stdout",
     "output_type": "stream",
     "text": [
      "Created base directory: ./ondisk_dataset_homograph\n"
     ]
    }
   ],
   "source": [
    "base_dir = './ondisk_dataset_homograph'\n",
    "os.makedirs(base_dir, exist_ok=True)\n",
    "print(f\"Created base directory: {base_dir}\")"
   ]
  },
  {
   "cell_type": "markdown",
   "metadata": {
    "id": "qhNtIn_xhlnl"
   },
   "source": [
    "### Generate graph structure data\n",
    "For homogeneous graph, we just need to save edges(namely seeds) into  **Numpy** or **CSV** file.\n",
    "\n",
    "Note:\n",
    "- when saving to **Numpy**, the array requires to be in shape of `(2, N)`. This format is recommended as constructing graph from it is much faster than **CSV** file.\n",
    "- when saving to **CSV** file, do not save index and header.\n"
   ]
  },
  {
   "cell_type": "code",
   "execution_count": 3,
   "metadata": {
    "execution": {
     "iopub.execute_input": "2024-10-15T13:20:00.009535Z",
     "iopub.status.busy": "2024-10-15T13:20:00.009195Z",
     "iopub.status.idle": "2024-10-15T13:20:00.023257Z",
     "shell.execute_reply": "2024-10-15T13:20:00.022407Z"
    },
    "id": "HcBt4G5BmSjr"
   },
   "outputs": [
    {
     "name": "stdout",
     "output_type": "stream",
     "text": [
      "Part of edges: [[867 330]\n",
      " [783 799]\n",
      " [526 593]\n",
      " [ 19 637]\n",
      " [ 73 152]]\n",
      "Edges are saved into ./ondisk_dataset_homograph/edges.csv\n"
     ]
    }
   ],
   "source": [
    "import numpy as np\n",
    "import pandas as pd\n",
    "num_nodes = 1000\n",
    "num_edges = 10 * num_nodes\n",
    "edges_path = os.path.join(base_dir, \"edges.csv\")\n",
    "edges = np.random.randint(0, num_nodes, size=(num_edges, 2))\n",
    "\n",
    "print(f\"Part of edges: {edges[:5, :]}\")\n",
    "\n",
    "df = pd.DataFrame(edges)\n",
    "df.to_csv(edges_path, index=False, header=False)\n",
    "\n",
    "print(f\"Edges are saved into {edges_path}\")"
   ]
  },
  {
   "cell_type": "markdown",
   "metadata": {
    "id": "kh-4cPtzpcaH"
   },
   "source": [
    "### Generate feature data for graph\n",
    "For feature data, numpy arrays and torch tensors are supported for now."
   ]
  },
  {
   "cell_type": "code",
   "execution_count": 4,
   "metadata": {
    "execution": {
     "iopub.execute_input": "2024-10-15T13:20:00.025599Z",
     "iopub.status.busy": "2024-10-15T13:20:00.025381Z",
     "iopub.status.idle": "2024-10-15T13:20:00.039100Z",
     "shell.execute_reply": "2024-10-15T13:20:00.038247Z"
    },
    "id": "_PVu1u5brBhF"
   },
   "outputs": [
    {
     "name": "stdout",
     "output_type": "stream",
     "text": [
      "Part of node feature [feat_0]: [[0.54925568 0.87307339 0.8085479  0.40015808 0.41071396]\n",
      " [0.3810659  0.69972949 0.55653169 0.64580815 0.70143752]\n",
      " [0.12879468 0.47611556 0.43030516 0.94187058 0.23489916]]\n",
      "Node feature [feat_0] is saved to ./ondisk_dataset_homograph/node-feat-0.npy\n",
      "\n",
      "Part of node feature [feat_1]: tensor([[0.5453, 0.0014, 0.0851, 0.7752, 0.1466],\n",
      "        [0.8550, 0.0073, 0.9781, 0.8223, 0.7170],\n",
      "        [0.3067, 0.7005, 0.0845, 0.8295, 0.4053]])\n",
      "Node feature [feat_1] is saved to ./ondisk_dataset_homograph/node-feat-1.pt\n",
      "\n",
      "Part of edge feature [feat_0]: [[0.87141258 0.52276727 0.2194718  0.87662863 0.40747121]\n",
      " [0.74580281 0.71432705 0.95517703 0.81567863 0.50323823]\n",
      " [0.43071209 0.40853726 0.2184851  0.50444091 0.9813363 ]]\n",
      "Edge feature [feat_0] is saved to ./ondisk_dataset_homograph/edge-feat-0.npy\n",
      "\n",
      "Part of edge feature [feat_1]: tensor([[0.7368, 0.3107, 0.5947, 0.4300, 0.9147],\n",
      "        [0.0894, 0.7890, 0.0302, 0.5604, 0.1993],\n",
      "        [0.1188, 0.5386, 0.3488, 0.3588, 0.9519]])\n",
      "Edge feature [feat_1] is saved to ./ondisk_dataset_homograph/edge-feat-1.pt\n",
      "\n"
     ]
    }
   ],
   "source": [
    "# Generate node feature in numpy array.\n",
    "node_feat_0_path = os.path.join(base_dir, \"node-feat-0.npy\")\n",
    "node_feat_0 = np.random.rand(num_nodes, 5)\n",
    "print(f\"Part of node feature [feat_0]: {node_feat_0[:3, :]}\")\n",
    "np.save(node_feat_0_path, node_feat_0)\n",
    "print(f\"Node feature [feat_0] is saved to {node_feat_0_path}\\n\")\n",
    "\n",
    "# Generate another node feature in torch tensor\n",
    "node_feat_1_path = os.path.join(base_dir, \"node-feat-1.pt\")\n",
    "node_feat_1 = torch.rand(num_nodes, 5)\n",
    "print(f\"Part of node feature [feat_1]: {node_feat_1[:3, :]}\")\n",
    "torch.save(node_feat_1, node_feat_1_path)\n",
    "print(f\"Node feature [feat_1] is saved to {node_feat_1_path}\\n\")\n",
    "\n",
    "# Generate edge feature in numpy array.\n",
    "edge_feat_0_path = os.path.join(base_dir, \"edge-feat-0.npy\")\n",
    "edge_feat_0 = np.random.rand(num_edges, 5)\n",
    "print(f\"Part of edge feature [feat_0]: {edge_feat_0[:3, :]}\")\n",
    "np.save(edge_feat_0_path, edge_feat_0)\n",
    "print(f\"Edge feature [feat_0] is saved to {edge_feat_0_path}\\n\")\n",
    "\n",
    "# Generate another edge feature in torch tensor\n",
    "edge_feat_1_path = os.path.join(base_dir, \"edge-feat-1.pt\")\n",
    "edge_feat_1 = torch.rand(num_edges, 5)\n",
    "print(f\"Part of edge feature [feat_1]: {edge_feat_1[:3, :]}\")\n",
    "torch.save(edge_feat_1, edge_feat_1_path)\n",
    "print(f\"Edge feature [feat_1] is saved to {edge_feat_1_path}\\n\")\n"
   ]
  },
  {
   "cell_type": "markdown",
   "metadata": {
    "id": "ZyqgOtsIwzh_"
   },
   "source": [
    "### Generate tasks\n",
    "`OnDiskDataset` supports multiple tasks. For each task, we need to prepare training/validation/test sets respectively. Such sets usually vary among different tasks. In this tutorial, let's create a **Node Classification** task and **Link Prediction** task."
   ]
  },
  {
   "cell_type": "markdown",
   "metadata": {
    "id": "hVxHaDIfzCkr"
   },
   "source": [
    "#### Node Classification Task\n",
    "For node classification task, we need **node IDs** and corresponding **labels** for each training/validation/test set. Like feature data, numpy arrays and torch tensors are supported for these sets."
   ]
  },
  {
   "cell_type": "code",
   "execution_count": 5,
   "metadata": {
    "execution": {
     "iopub.execute_input": "2024-10-15T13:20:00.041795Z",
     "iopub.status.busy": "2024-10-15T13:20:00.041284Z",
     "iopub.status.idle": "2024-10-15T13:20:00.053071Z",
     "shell.execute_reply": "2024-10-15T13:20:00.052248Z"
    },
    "id": "S5-fyBbHzTCO"
   },
   "outputs": [
    {
     "name": "stdout",
     "output_type": "stream",
     "text": [
      "Part of train ids for node classification: [549  15 318]\n",
      "NC train ids are saved to ./ondisk_dataset_homograph/nc-train-ids.npy\n",
      "\n",
      "Part of train labels for node classification: tensor([0, 8, 9])\n",
      "NC train labels are saved to ./ondisk_dataset_homograph/nc-train-labels.pt\n",
      "\n",
      "Part of val ids for node classification: [ 61 347 838]\n",
      "NC val ids are saved to ./ondisk_dataset_homograph/nc-val-ids.npy\n",
      "\n",
      "Part of val labels for node classification: tensor([7, 4, 1])\n",
      "NC val labels are saved to ./ondisk_dataset_homograph/nc-val-labels.pt\n",
      "\n",
      "Part of test ids for node classification: [ 38 128 447]\n",
      "NC test ids are saved to ./ondisk_dataset_homograph/nc-test-ids.npy\n",
      "\n",
      "Part of test labels for node classification: tensor([9, 2, 2])\n",
      "NC test labels are saved to ./ondisk_dataset_homograph/nc-test-labels.pt\n",
      "\n"
     ]
    }
   ],
   "source": [
    "num_trains = int(num_nodes * 0.6)\n",
    "num_vals = int(num_nodes * 0.2)\n",
    "num_tests = num_nodes - num_trains - num_vals\n",
    "\n",
    "ids = np.arange(num_nodes)\n",
    "np.random.shuffle(ids)\n",
    "\n",
    "nc_train_ids_path = os.path.join(base_dir, \"nc-train-ids.npy\")\n",
    "nc_train_ids = ids[:num_trains]\n",
    "print(f\"Part of train ids for node classification: {nc_train_ids[:3]}\")\n",
    "np.save(nc_train_ids_path, nc_train_ids)\n",
    "print(f\"NC train ids are saved to {nc_train_ids_path}\\n\")\n",
    "\n",
    "nc_train_labels_path = os.path.join(base_dir, \"nc-train-labels.pt\")\n",
    "nc_train_labels = torch.randint(0, 10, (num_trains,))\n",
    "print(f\"Part of train labels for node classification: {nc_train_labels[:3]}\")\n",
    "torch.save(nc_train_labels, nc_train_labels_path)\n",
    "print(f\"NC train labels are saved to {nc_train_labels_path}\\n\")\n",
    "\n",
    "nc_val_ids_path = os.path.join(base_dir, \"nc-val-ids.npy\")\n",
    "nc_val_ids = ids[num_trains:num_trains+num_vals]\n",
    "print(f\"Part of val ids for node classification: {nc_val_ids[:3]}\")\n",
    "np.save(nc_val_ids_path, nc_val_ids)\n",
    "print(f\"NC val ids are saved to {nc_val_ids_path}\\n\")\n",
    "\n",
    "nc_val_labels_path = os.path.join(base_dir, \"nc-val-labels.pt\")\n",
    "nc_val_labels = torch.randint(0, 10, (num_vals,))\n",
    "print(f\"Part of val labels for node classification: {nc_val_labels[:3]}\")\n",
    "torch.save(nc_val_labels, nc_val_labels_path)\n",
    "print(f\"NC val labels are saved to {nc_val_labels_path}\\n\")\n",
    "\n",
    "nc_test_ids_path = os.path.join(base_dir, \"nc-test-ids.npy\")\n",
    "nc_test_ids = ids[-num_tests:]\n",
    "print(f\"Part of test ids for node classification: {nc_test_ids[:3]}\")\n",
    "np.save(nc_test_ids_path, nc_test_ids)\n",
    "print(f\"NC test ids are saved to {nc_test_ids_path}\\n\")\n",
    "\n",
    "nc_test_labels_path = os.path.join(base_dir, \"nc-test-labels.pt\")\n",
    "nc_test_labels = torch.randint(0, 10, (num_tests,))\n",
    "print(f\"Part of test labels for node classification: {nc_test_labels[:3]}\")\n",
    "torch.save(nc_test_labels, nc_test_labels_path)\n",
    "print(f\"NC test labels are saved to {nc_test_labels_path}\\n\")"
   ]
  },
  {
   "cell_type": "markdown",
   "metadata": {
    "id": "LhAcDCHQ_KJ0"
   },
   "source": [
    "#### Link Prediction Task\n",
    "For link prediction task, we need **seeds** or **corresponding labels and indexes** which representing the pos/neg property and group of the seeds for each training/validation/test set. Like feature data, numpy arrays and torch tensors are supported for these sets."
   ]
  },
  {
   "cell_type": "code",
   "execution_count": 6,
   "metadata": {
    "execution": {
     "iopub.execute_input": "2024-10-15T13:20:00.055679Z",
     "iopub.status.busy": "2024-10-15T13:20:00.055258Z",
     "iopub.status.idle": "2024-10-15T13:20:00.073167Z",
     "shell.execute_reply": "2024-10-15T13:20:00.072173Z"
    },
    "id": "u0jCnXIcAQy4"
   },
   "outputs": [
    {
     "name": "stdout",
     "output_type": "stream",
     "text": [
      "Part of train seeds for link prediction: [[867 330]\n",
      " [783 799]\n",
      " [526 593]]\n",
      "LP train seeds are saved to ./ondisk_dataset_homograph/lp-train-seeds.npy\n",
      "\n",
      "Part of val seeds for link prediction: [[882 315]\n",
      " [851  27]\n",
      " [502 168]]\n",
      "LP val seeds are saved to ./ondisk_dataset_homograph/lp-val-seeds.npy\n",
      "\n",
      "Part of val labels for link prediction: [1. 1. 1.]\n",
      "LP val labels are saved to ./ondisk_dataset_homograph/lp-val-labels.npy\n",
      "\n",
      "Part of val indexes for link prediction: [0 1 2]\n",
      "LP val indexes are saved to ./ondisk_dataset_homograph/lp-val-indexes.npy\n",
      "\n",
      "Part of test seeds for link prediction: [[983 385]\n",
      " [763 238]\n",
      " [126 384]]\n",
      "LP test seeds are saved to ./ondisk_dataset_homograph/lp-test-seeds.npy\n",
      "\n",
      "Part of val labels for link prediction: [1. 1. 1.]\n",
      "LP test labels are saved to ./ondisk_dataset_homograph/lp-test-labels.npy\n",
      "\n",
      "Part of test indexes for link prediction: [0 1 2]\n",
      "LP test indexes are saved to ./ondisk_dataset_homograph/lp-test-indexes.npy\n",
      "\n"
     ]
    }
   ],
   "source": [
    "num_trains = int(num_edges * 0.6)\n",
    "num_vals = int(num_edges * 0.2)\n",
    "num_tests = num_edges - num_trains - num_vals\n",
    "\n",
    "lp_train_seeds_path = os.path.join(base_dir, \"lp-train-seeds.npy\")\n",
    "lp_train_seeds = edges[:num_trains, :]\n",
    "print(f\"Part of train seeds for link prediction: {lp_train_seeds[:3]}\")\n",
    "np.save(lp_train_seeds_path, lp_train_seeds)\n",
    "print(f\"LP train seeds are saved to {lp_train_seeds_path}\\n\")\n",
    "\n",
    "lp_val_seeds_path = os.path.join(base_dir, \"lp-val-seeds.npy\")\n",
    "lp_val_seeds = edges[num_trains:num_trains+num_vals, :]\n",
    "lp_val_neg_dsts = np.random.randint(0, num_nodes, (num_vals, 10)).reshape(-1)\n",
    "lp_val_neg_srcs = np.repeat(lp_val_seeds[:,0], 10)\n",
    "lp_val_neg_seeds = np.concatenate((lp_val_neg_srcs, lp_val_neg_dsts)).reshape(2,-1).T\n",
    "lp_val_seeds = np.concatenate((lp_val_seeds, lp_val_neg_seeds))\n",
    "print(f\"Part of val seeds for link prediction: {lp_val_seeds[:3]}\")\n",
    "np.save(lp_val_seeds_path, lp_val_seeds)\n",
    "print(f\"LP val seeds are saved to {lp_val_seeds_path}\\n\")\n",
    "\n",
    "lp_val_labels_path = os.path.join(base_dir, \"lp-val-labels.npy\")\n",
    "lp_val_labels = np.empty(num_vals * (10 + 1))\n",
    "lp_val_labels[:num_vals] = 1\n",
    "lp_val_labels[num_vals:] = 0\n",
    "print(f\"Part of val labels for link prediction: {lp_val_labels[:3]}\")\n",
    "np.save(lp_val_labels_path, lp_val_labels)\n",
    "print(f\"LP val labels are saved to {lp_val_labels_path}\\n\")\n",
    "\n",
    "lp_val_indexes_path = os.path.join(base_dir, \"lp-val-indexes.npy\")\n",
    "lp_val_indexes = np.arange(0, num_vals)\n",
    "lp_val_neg_indexes = np.repeat(lp_val_indexes, 10)\n",
    "lp_val_indexes = np.concatenate([lp_val_indexes, lp_val_neg_indexes])\n",
    "print(f\"Part of val indexes for link prediction: {lp_val_indexes[:3]}\")\n",
    "np.save(lp_val_indexes_path, lp_val_indexes)\n",
    "print(f\"LP val indexes are saved to {lp_val_indexes_path}\\n\")\n",
    "\n",
    "lp_test_seeds_path = os.path.join(base_dir, \"lp-test-seeds.npy\")\n",
    "lp_test_seeds = edges[-num_tests:, :]\n",
    "lp_test_neg_dsts = np.random.randint(0, num_nodes, (num_tests, 10)).reshape(-1)\n",
    "lp_test_neg_srcs = np.repeat(lp_test_seeds[:,0], 10)\n",
    "lp_test_neg_seeds = np.concatenate((lp_test_neg_srcs, lp_test_neg_dsts)).reshape(2,-1).T\n",
    "lp_test_seeds = np.concatenate((lp_test_seeds, lp_test_neg_seeds))\n",
    "print(f\"Part of test seeds for link prediction: {lp_test_seeds[:3]}\")\n",
    "np.save(lp_test_seeds_path, lp_test_seeds)\n",
    "print(f\"LP test seeds are saved to {lp_test_seeds_path}\\n\")\n",
    "\n",
    "lp_test_labels_path = os.path.join(base_dir, \"lp-test-labels.npy\")\n",
    "lp_test_labels = np.empty(num_tests * (10 + 1))\n",
    "lp_test_labels[:num_tests] = 1\n",
    "lp_test_labels[num_tests:] = 0\n",
    "print(f\"Part of val labels for link prediction: {lp_test_labels[:3]}\")\n",
    "np.save(lp_test_labels_path, lp_test_labels)\n",
    "print(f\"LP test labels are saved to {lp_test_labels_path}\\n\")\n",
    "\n",
    "lp_test_indexes_path = os.path.join(base_dir, \"lp-test-indexes.npy\")\n",
    "lp_test_indexes = np.arange(0, num_tests)\n",
    "lp_test_neg_indexes = np.repeat(lp_test_indexes, 10)\n",
    "lp_test_indexes = np.concatenate([lp_test_indexes, lp_test_neg_indexes])\n",
    "print(f\"Part of test indexes for link prediction: {lp_test_indexes[:3]}\")\n",
    "np.save(lp_test_indexes_path, lp_test_indexes)\n",
    "print(f\"LP test indexes are saved to {lp_test_indexes_path}\\n\")"
   ]
  },
  {
   "cell_type": "markdown",
   "metadata": {
    "id": "wbk6-wxRK-6S"
   },
   "source": [
    "## Organize Data into YAML File\n",
    "Now we need to create a `metadata.yaml` file which contains the paths, dadta types of graph structure, feature data, training/validation/test sets.\n",
    "\n",
    "Notes:\n",
    "- all path should be relative to `metadata.yaml`.\n",
    "- Below fields are optional and not specified in below example.\n",
    "  - `in_memory`: indicates whether to load dada into memory or `mmap`. Default is `True`.\n",
    "\n",
    "Please refer to [YAML specification](https://github.com/dmlc/dgl/blob/master/docs/source/stochastic_training/ondisk-dataset-specification.rst) for more details."
   ]
  },
  {
   "cell_type": "code",
   "execution_count": 7,
   "metadata": {
    "execution": {
     "iopub.execute_input": "2024-10-15T13:20:00.076082Z",
     "iopub.status.busy": "2024-10-15T13:20:00.075856Z",
     "iopub.status.idle": "2024-10-15T13:20:00.081342Z",
     "shell.execute_reply": "2024-10-15T13:20:00.080739Z"
    },
    "id": "ddGTWW61Lpwp"
   },
   "outputs": [],
   "source": [
    "yaml_content = f\"\"\"\n",
    "    dataset_name: homogeneous_graph_nc_lp\n",
    "    graph:\n",
    "      nodes:\n",
    "        - num: {num_nodes}\n",
    "      edges:\n",
    "        - format: csv\n",
    "          path: {os.path.basename(edges_path)}\n",
    "    feature_data:\n",
    "      - domain: node\n",
    "        name: feat_0\n",
    "        format: numpy\n",
    "        path: {os.path.basename(node_feat_0_path)}\n",
    "      - domain: node\n",
    "        name: feat_1\n",
    "        format: torch\n",
    "        path: {os.path.basename(node_feat_1_path)}\n",
    "      - domain: edge\n",
    "        name: feat_0\n",
    "        format: numpy\n",
    "        path: {os.path.basename(edge_feat_0_path)}\n",
    "      - domain: edge\n",
    "        name: feat_1\n",
    "        format: torch\n",
    "        path: {os.path.basename(edge_feat_1_path)}\n",
    "    tasks:\n",
    "      - name: node_classification\n",
    "        num_classes: 10\n",
    "        train_set:\n",
    "          - data:\n",
    "              - name: seeds\n",
    "                format: numpy\n",
    "                path: {os.path.basename(nc_train_ids_path)}\n",
    "              - name: labels\n",
    "                format: torch\n",
    "                path: {os.path.basename(nc_train_labels_path)}\n",
    "        validation_set:\n",
    "          - data:\n",
    "              - name: seeds\n",
    "                format: numpy\n",
    "                path: {os.path.basename(nc_val_ids_path)}\n",
    "              - name: labels\n",
    "                format: torch\n",
    "                path: {os.path.basename(nc_val_labels_path)}\n",
    "        test_set:\n",
    "          - data:\n",
    "              - name: seeds\n",
    "                format: numpy\n",
    "                path: {os.path.basename(nc_test_ids_path)}\n",
    "              - name: labels\n",
    "                format: torch\n",
    "                path: {os.path.basename(nc_test_labels_path)}\n",
    "      - name: link_prediction\n",
    "        num_classes: 10\n",
    "        train_set:\n",
    "          - data:\n",
    "              - name: seeds\n",
    "                format: numpy\n",
    "                path: {os.path.basename(lp_train_seeds_path)}\n",
    "        validation_set:\n",
    "          - data:\n",
    "              - name: seeds\n",
    "                format: numpy\n",
    "                path: {os.path.basename(lp_val_seeds_path)}\n",
    "              - name: labels\n",
    "                format: numpy\n",
    "                path: {os.path.basename(lp_val_labels_path)}\n",
    "              - name: indexes\n",
    "                format: numpy\n",
    "                path: {os.path.basename(lp_val_indexes_path)}\n",
    "        test_set:\n",
    "          - data:\n",
    "              - name: seeds\n",
    "                format: numpy\n",
    "                path: {os.path.basename(lp_test_seeds_path)}\n",
    "              - name: labels\n",
    "                format: numpy\n",
    "                path: {os.path.basename(lp_test_labels_path)}\n",
    "              - name: indexes\n",
    "                format: numpy\n",
    "                path: {os.path.basename(lp_test_indexes_path)}\n",
    "\"\"\"\n",
    "metadata_path = os.path.join(base_dir, \"metadata.yaml\")\n",
    "with open(metadata_path, \"w\") as f:\n",
    "  f.write(yaml_content)"
   ]
  },
  {
   "cell_type": "markdown",
   "metadata": {
    "id": "kEfybHGhOW7O"
   },
   "source": [
    "## Instantiate `OnDiskDataset`\n",
    "Now we're ready to load dataset via `dgl.graphbolt.OnDiskDataset`. When instantiating, we just pass in the base directory where `metadata.yaml` file lies.\n",
    "\n",
    "During first instantiation, GraphBolt preprocesses the raw data such as constructing `FusedCSCSamplingGraph` from edges. All data including graph, feature data, training/validation/test sets are put into `preprocessed` directory after preprocessing. Any following dataset loading will skip the preprocess stage.\n",
    "\n",
    "After preprocessing, `load()` is required to be called explicitly in order to load graph, feature data and tasks."
   ]
  },
  {
   "cell_type": "code",
   "execution_count": 8,
   "metadata": {
    "execution": {
     "iopub.execute_input": "2024-10-15T13:20:00.083058Z",
     "iopub.status.busy": "2024-10-15T13:20:00.082852Z",
     "iopub.status.idle": "2024-10-15T13:20:00.147037Z",
     "shell.execute_reply": "2024-10-15T13:20:00.146329Z"
    },
    "id": "W58CZoSzOiyo"
   },
   "outputs": [
    {
     "name": "stdout",
     "output_type": "stream",
     "text": [
      "Start to preprocess the on-disk dataset.\n",
      "Finish preprocessing the on-disk dataset.\n",
      "Loaded graph: FusedCSCSamplingGraph(csc_indptr=tensor([    0,    14,    27,  ...,  9980,  9988, 10000], dtype=torch.int32),\n",
      "                      indices=tensor([809, 281, 535,  ...,  28, 163, 700], dtype=torch.int32),\n",
      "                      total_num_nodes=1000, num_edges=10000,)\n",
      "\n",
      "Loaded feature store: TorchBasedFeatureStore(\n",
      "    {(<OnDiskFeatureDataDomain.NODE: 'node'>, None, 'feat_0'): TorchBasedFeature(\n",
      "        feature=tensor([[0.5493, 0.8731, 0.8085, 0.4002, 0.4107],\n",
      "                        [0.3811, 0.6997, 0.5565, 0.6458, 0.7014],\n",
      "                        [0.1288, 0.4761, 0.4303, 0.9419, 0.2349],\n",
      "                        ...,\n",
      "                        [0.9175, 0.2090, 0.8939, 0.1890, 0.8281],\n",
      "                        [0.6663, 0.7801, 0.3595, 0.6514, 0.2238],\n",
      "                        [0.9942, 0.2287, 0.5237, 0.6798, 0.5671]], dtype=torch.float64),\n",
      "        metadata={},\n",
      "    ), (<OnDiskFeatureDataDomain.NODE: 'node'>, None, 'feat_1'): TorchBasedFeature(\n",
      "        feature=tensor([[0.5453, 0.0014, 0.0851, 0.7752, 0.1466],\n",
      "                        [0.8550, 0.0073, 0.9781, 0.8223, 0.7170],\n",
      "                        [0.3067, 0.7005, 0.0845, 0.8295, 0.4053],\n",
      "                        ...,\n",
      "                        [0.2160, 0.8313, 0.7882, 0.8889, 0.5539],\n",
      "                        [0.4357, 0.0919, 0.2712, 0.9578, 0.3467],\n",
      "                        [0.6277, 0.1821, 0.7576, 0.0452, 0.6380]]),\n",
      "        metadata={},\n",
      "    ), (<OnDiskFeatureDataDomain.EDGE: 'edge'>, None, 'feat_0'): TorchBasedFeature(\n",
      "        feature=tensor([[0.8714, 0.5228, 0.2195, 0.8766, 0.4075],\n",
      "                        [0.7458, 0.7143, 0.9552, 0.8157, 0.5032],\n",
      "                        [0.4307, 0.4085, 0.2185, 0.5044, 0.9813],\n",
      "                        ...,\n",
      "                        [0.7224, 0.2137, 0.4847, 0.8775, 0.0642],\n",
      "                        [0.1876, 0.9082, 0.1725, 0.7866, 0.9052],\n",
      "                        [0.3722, 0.1005, 0.7624, 0.5041, 0.0337]], dtype=torch.float64),\n",
      "        metadata={},\n",
      "    ), (<OnDiskFeatureDataDomain.EDGE: 'edge'>, None, 'feat_1'): TorchBasedFeature(\n",
      "        feature=tensor([[0.7368, 0.3107, 0.5947, 0.4300, 0.9147],\n",
      "                        [0.0894, 0.7890, 0.0302, 0.5604, 0.1993],\n",
      "                        [0.1188, 0.5386, 0.3488, 0.3588, 0.9519],\n",
      "                        ...,\n",
      "                        [0.2477, 0.2905, 0.1759, 0.4038, 0.1405],\n",
      "                        [0.2875, 0.9341, 0.9877, 0.0376, 0.1318],\n",
      "                        [0.2877, 0.8649, 0.2634, 0.3496, 0.2420]]),\n",
      "        metadata={},\n",
      "    )}\n",
      ")\n",
      "\n",
      "Loaded node classification task: OnDiskTask(validation_set=ItemSet(\n",
      "               items=(tensor([ 61, 347, 838,  58, 829, 782, 816, 442, 809,  86, 274, 139, 244, 396,\n",
      "                   129, 906,   6, 973, 452, 439, 450, 479, 908, 673, 625, 556, 388,  55,\n",
      "                   789, 995, 467, 792, 489, 331,  99,  77, 884, 336, 462, 419, 305, 298,\n",
      "                   202, 551, 612, 763,  91, 127, 292, 350, 407, 239, 183, 248, 285, 572,\n",
      "                   943, 529, 890, 333, 116, 727, 960, 443, 264, 304, 247, 947, 748, 655,\n",
      "                   177, 810, 412, 999, 776, 971,  72, 690,  48, 303, 557,   3, 540, 981,\n",
      "                   764,   1, 805, 463, 705, 199, 615, 519, 600, 821, 614, 703, 411, 889,\n",
      "                   911, 313, 916, 470, 477, 800, 841, 858, 464, 280, 528, 254, 179, 494,\n",
      "                   363, 425, 433, 119,  24, 486,  90, 756,  40, 475, 172, 431, 190, 260,\n",
      "                   888, 337, 851, 804, 626, 213, 430, 664, 423, 449,  70, 935, 185, 694,\n",
      "                   277, 897, 440, 656, 628, 954, 521, 192, 187, 189, 201, 857, 340, 503,\n",
      "                   783, 527, 250, 595, 300,  94,  41, 808, 762, 777, 404,  21,  54, 153,\n",
      "                   426,  69, 371, 107, 392, 824, 955, 819,  68, 671, 492, 567, 571, 196,\n",
      "                    31, 476, 461, 317, 730, 619, 846, 693, 735, 799,  25, 541, 445,   0,\n",
      "                   948, 878, 965, 654], dtype=torch.int32), tensor([7, 4, 1, 3, 0, 5, 0, 2, 3, 4, 8, 2, 1, 3, 4, 9, 2, 6, 4, 0, 2, 8, 0, 2,\n",
      "                   4, 2, 2, 8, 8, 6, 0, 1, 8, 2, 4, 8, 5, 9, 7, 1, 7, 6, 2, 6, 0, 5, 9, 1,\n",
      "                   7, 9, 5, 5, 3, 0, 7, 4, 3, 5, 3, 7, 0, 3, 0, 4, 0, 2, 0, 8, 9, 4, 4, 8,\n",
      "                   6, 2, 5, 3, 9, 5, 7, 6, 7, 3, 7, 3, 5, 5, 9, 4, 9, 6, 3, 6, 0, 5, 1, 8,\n",
      "                   2, 9, 3, 9, 1, 4, 6, 9, 8, 2, 9, 6, 6, 5, 9, 6, 9, 2, 9, 2, 2, 7, 3, 4,\n",
      "                   2, 5, 4, 1, 7, 4, 4, 7, 2, 4, 2, 8, 4, 6, 7, 1, 5, 6, 8, 7, 3, 7, 9, 7,\n",
      "                   8, 3, 2, 4, 3, 1, 9, 4, 1, 6, 2, 0, 4, 1, 7, 6, 7, 7, 8, 3, 7, 0, 8, 7,\n",
      "                   9, 3, 3, 2, 7, 0, 1, 0, 5, 1, 6, 8, 2, 2, 1, 6, 4, 0, 8, 0, 5, 4, 2, 6,\n",
      "                   8, 0, 7, 9, 1, 5, 0, 8])),\n",
      "               names=('seeds', 'labels'),\n",
      "           ),\n",
      "           train_set=ItemSet(\n",
      "               items=(tensor([549,  15, 318,  36, 726, 930, 860, 230, 324, 399, 315, 258, 929, 928,\n",
      "                   719,  23, 505, 495, 945, 544, 232, 974, 934, 876, 765, 253, 862, 555,\n",
      "                   301, 870, 206, 343, 378,  98,  17, 166, 853, 197, 358, 297, 435, 798,\n",
      "                   616, 795,  89, 386, 708, 946, 373, 400, 390, 827,  76, 194, 219, 249,\n",
      "                   836,  62, 686, 397, 143, 342, 962, 996, 725, 660,  64, 657,  95, 932,\n",
      "                   306, 357, 191, 854, 548, 964,  28,   2, 695,  16, 801, 238, 561, 699,\n",
      "                   775, 630, 216, 589, 883,  12, 581, 332, 813,   8, 104, 180, 231, 346,\n",
      "                   118, 133, 642, 886, 504, 115,  63, 138, 211, 585, 874, 502,  65, 903,\n",
      "                   437, 584, 278, 261, 651, 325, 429, 362, 674, 553, 840, 970, 182, 293,\n",
      "                   367, 550,  73, 675, 956, 868, 592, 766,   7, 466, 310, 742, 951, 918,\n",
      "                   881, 677, 151, 100, 569, 620, 498, 456, 311, 591, 132, 217, 672,  75,\n",
      "                    43,  47, 646, 403, 352, 384, 866, 460, 365, 848, 236, 794, 570, 207,\n",
      "                   832, 978, 174, 471, 688, 424, 147, 469, 242, 376, 155, 784, 279, 720,\n",
      "                   283, 566, 126, 171, 987, 753, 723, 184, 393, 606, 972, 957, 212, 577,\n",
      "                   120, 354,  11, 523,  79, 668, 353, 823, 520, 901, 154, 565, 359,  30,\n",
      "                   348, 246, 329, 598, 662, 834, 717, 653, 432, 806, 624, 545, 761, 701,\n",
      "                   379, 993, 351, 661, 665, 178, 380, 131, 904,  29, 942, 229, 381, 398,\n",
      "                   149, 721, 976,  88, 716, 622, 679, 980, 263, 243, 156, 587, 268, 137,\n",
      "                   309, 257, 517, 105, 281, 200,  45, 861, 844, 663, 223, 745, 225, 575,\n",
      "                   811, 227, 741, 738,  50, 468, 760,  93, 511, 621, 513, 360, 203, 715,\n",
      "                   658, 446, 101, 402, 711, 233, 314, 472, 788, 644, 148, 913, 361, 582,\n",
      "                   377, 345, 687, 142, 323, 649, 383, 953, 522, 356, 639, 273, 459, 822,\n",
      "                   670, 220, 286, 734, 608, 228, 700, 552, 266, 507, 374,  52, 864, 256,\n",
      "                   102, 321, 733,  60, 473, 914,  92, 992, 605, 750, 162, 704, 676, 121,\n",
      "                   287, 130, 547, 117, 481, 707, 559, 152, 593, 938, 414, 698, 632, 134,\n",
      "                    42,  46, 181, 330, 931, 963, 842, 161, 880, 436, 327, 245, 896,  59,\n",
      "                    39, 560,   5, 869, 736, 689, 533, 543, 937, 990, 952, 262, 458, 265,\n",
      "                   574, 941, 326, 681, 484, 815, 713, 364, 422, 922, 898, 375, 692, 652,\n",
      "                    22, 237,  27, 536, 887, 408, 369, 113, 135, 576, 215, 637, 650, 773,\n",
      "                   696, 290, 427, 322, 496, 807, 988, 749,  85, 831, 781, 271, 751, 418,\n",
      "                   316, 382, 291,  78, 320,  37, 959, 221, 966, 907, 791, 768, 144, 240,\n",
      "                   112, 526,  84,  66, 165,   4, 871, 984, 915, 226, 770, 370, 389, 515,\n",
      "                   774, 892, 833, 702, 843, 334, 920,  49, 977, 158, 448, 709, 160, 629,\n",
      "                   474, 793, 514, 568, 740, 910, 434, 627, 111, 994, 531, 335, 796, 691,\n",
      "                   786, 949,  82, 944, 164, 349, 643, 633, 546, 175, 877, 638, 969, 998,\n",
      "                   714, 480, 209, 205, 820, 222,  14, 234, 602,   9, 578, 647, 856, 680,\n",
      "                   454, 958, 563, 366, 936,  81, 618, 562, 985, 267, 122, 923, 759, 518,\n",
      "                   785, 109, 803,  32, 125, 214, 933, 497, 294, 385, 444, 790, 579, 157,\n",
      "                   865, 524, 818, 967,  71, 195, 845, 780, 123, 927, 405, 453, 924, 609,\n",
      "                   814, 140, 193, 150, 173, 599, 103,  56,  34, 830, 950, 613, 586, 739,\n",
      "                   601,  51, 894, 850, 623, 757, 917, 406, 251, 218,  44, 409, 852, 921,\n",
      "                   989, 485, 991, 645, 224, 669, 812, 506,  19, 772, 597, 141,  80, 729,\n",
      "                   982, 983, 509, 744, 912, 302, 259, 420, 839, 272, 338, 421],\n",
      "                  dtype=torch.int32), tensor([0, 8, 9, 8, 7, 2, 3, 7, 2, 5, 7, 6, 5, 1, 7, 5, 4, 9, 1, 8, 8, 2, 8, 8,\n",
      "                   5, 5, 5, 9, 2, 5, 7, 1, 3, 0, 3, 7, 7, 4, 3, 2, 4, 4, 8, 4, 4, 7, 7, 3,\n",
      "                   2, 7, 1, 9, 0, 7, 7, 6, 3, 5, 5, 8, 6, 0, 7, 2, 0, 2, 3, 1, 0, 5, 1, 5,\n",
      "                   4, 1, 3, 8, 6, 3, 8, 8, 3, 4, 6, 0, 1, 0, 9, 5, 9, 7, 2, 0, 9, 5, 8, 6,\n",
      "                   7, 9, 0, 8, 0, 6, 3, 8, 1, 0, 6, 5, 2, 7, 3, 7, 0, 5, 2, 8, 6, 5, 6, 7,\n",
      "                   4, 4, 6, 9, 0, 5, 9, 2, 6, 8, 5, 7, 6, 5, 4, 5, 0, 3, 2, 6, 5, 8, 4, 6,\n",
      "                   6, 2, 2, 8, 8, 2, 4, 5, 2, 3, 4, 8, 7, 2, 7, 8, 4, 4, 4, 1, 2, 4, 1, 1,\n",
      "                   6, 3, 5, 8, 2, 5, 3, 0, 9, 4, 1, 8, 6, 4, 1, 0, 4, 6, 5, 7, 1, 3, 6, 0,\n",
      "                   6, 6, 4, 7, 8, 2, 1, 9, 2, 7, 3, 6, 1, 7, 2, 8, 5, 1, 8, 0, 7, 7, 2, 7,\n",
      "                   7, 3, 4, 9, 7, 7, 5, 1, 9, 9, 9, 9, 4, 3, 2, 2, 6, 5, 0, 4, 7, 4, 0, 2,\n",
      "                   6, 7, 7, 5, 2, 3, 4, 1, 6, 8, 3, 0, 0, 1, 5, 9, 6, 6, 6, 0, 1, 4, 9, 8,\n",
      "                   4, 8, 3, 9, 6, 5, 5, 8, 2, 2, 6, 4, 0, 3, 0, 7, 5, 5, 9, 2, 4, 9, 2, 5,\n",
      "                   2, 0, 9, 4, 8, 7, 3, 0, 4, 5, 5, 3, 6, 6, 0, 7, 8, 1, 5, 7, 1, 7, 2, 5,\n",
      "                   3, 3, 1, 6, 1, 5, 0, 6, 8, 8, 3, 0, 0, 7, 1, 6, 2, 4, 8, 7, 5, 5, 9, 4,\n",
      "                   3, 8, 9, 4, 9, 1, 1, 2, 1, 8, 3, 3, 2, 6, 3, 2, 0, 4, 5, 8, 1, 5, 2, 3,\n",
      "                   3, 1, 8, 0, 1, 0, 5, 4, 0, 6, 9, 1, 9, 6, 1, 2, 3, 1, 5, 3, 0, 8, 4, 9,\n",
      "                   1, 4, 2, 3, 1, 3, 7, 8, 1, 5, 7, 1, 2, 9, 4, 6, 2, 1, 4, 9, 7, 6, 9, 2,\n",
      "                   0, 2, 4, 8, 3, 5, 7, 3, 0, 1, 2, 1, 4, 1, 7, 7, 8, 7, 3, 5, 7, 5, 7, 4,\n",
      "                   1, 2, 3, 5, 6, 4, 7, 5, 3, 5, 8, 1, 4, 8, 0, 5, 4, 9, 0, 5, 9, 6, 2, 0,\n",
      "                   3, 2, 0, 8, 7, 9, 3, 6, 3, 0, 6, 0, 1, 1, 0, 1, 9, 5, 9, 2, 0, 2, 2, 8,\n",
      "                   5, 5, 9, 2, 4, 6, 6, 5, 6, 6, 3, 9, 5, 9, 4, 6, 4, 7, 5, 0, 3, 1, 5, 2,\n",
      "                   4, 1, 6, 2, 0, 3, 5, 1, 1, 0, 7, 7, 1, 4, 4, 8, 4, 0, 9, 2, 3, 2, 5, 6,\n",
      "                   4, 4, 5, 4, 9, 4, 6, 5, 2, 2, 1, 5, 6, 0, 4, 2, 2, 6, 2, 9, 0, 7, 3, 7,\n",
      "                   6, 1, 2, 0, 6, 8, 8, 4, 8, 6, 3, 4, 6, 1, 5, 2, 8, 4, 8, 3, 4, 3, 9, 7,\n",
      "                   6, 5, 4, 5, 6, 4, 3, 4, 6, 4, 9, 9, 2, 8, 4, 8, 3, 7, 8, 5, 3, 6, 4, 2])),\n",
      "               names=('seeds', 'labels'),\n",
      "           ),\n",
      "           test_set=ItemSet(\n",
      "               items=(tensor([ 38, 128, 447, 961, 413, 438, 849, 428, 802, 636, 538, 490, 308, 163,\n",
      "                   415, 710, 159, 465, 919, 610, 186, 712, 328, 596, 684, 771, 276, 826,\n",
      "                   855, 106, 451, 979, 508, 879,  96, 530, 499, 534, 395, 401, 724, 510,\n",
      "                   588, 986, 110, 204, 512, 235,  33,  53, 525, 516, 344, 394, 457, 483,\n",
      "                   416, 478, 891, 488, 210, 252, 603, 108, 787, 417, 872, 307,  20, 295,\n",
      "                   312, 558, 535, 900, 697, 168,  97, 837, 441, 640, 779, 188, 678, 611,\n",
      "                   539, 282, 659, 706, 755, 752, 893, 882, 491, 828, 685, 847, 372, 167,\n",
      "                   905, 631, 289,  10, 604, 758, 731, 583, 124, 754, 997, 341, 554, 269,\n",
      "                   875, 319, 975, 275, 797, 835, 683, 145, 767, 288, 899, 391, 940, 867,\n",
      "                   926, 778, 493, 728,  13, 666, 537, 925, 410, 176, 241,  87, 208, 859,\n",
      "                   718,  57, 564, 284, 968, 909, 594, 501, 607, 634, 573, 590, 368, 902,\n",
      "                   635, 939, 532, 667, 114, 682,  67, 299, 747, 873, 169, 732, 500, 455,\n",
      "                   617,  35,  74, 641, 885, 255, 270, 355, 387, 487, 146,  83, 817, 863,\n",
      "                   737, 743, 769,  26, 482, 339, 170, 825, 648, 580, 296, 722, 542, 895,\n",
      "                   746, 198,  18, 136], dtype=torch.int32), tensor([9, 2, 2, 5, 5, 1, 1, 7, 0, 6, 2, 2, 6, 9, 3, 4, 9, 8, 5, 4, 6, 8, 1, 3,\n",
      "                   3, 6, 1, 7, 4, 2, 3, 9, 2, 5, 7, 5, 6, 9, 3, 7, 3, 0, 9, 8, 7, 9, 2, 9,\n",
      "                   5, 9, 4, 6, 5, 3, 3, 5, 0, 1, 0, 6, 9, 0, 4, 9, 3, 0, 3, 0, 2, 6, 1, 4,\n",
      "                   9, 2, 5, 3, 3, 6, 7, 6, 5, 1, 4, 9, 7, 2, 3, 4, 2, 8, 0, 9, 9, 2, 6, 4,\n",
      "                   6, 0, 3, 6, 5, 4, 5, 1, 0, 4, 8, 9, 5, 6, 9, 8, 3, 0, 0, 5, 3, 9, 8, 9,\n",
      "                   8, 5, 2, 3, 3, 6, 8, 9, 8, 9, 4, 2, 8, 5, 1, 5, 8, 5, 3, 8, 4, 3, 0, 3,\n",
      "                   3, 2, 7, 5, 1, 1, 7, 8, 7, 4, 8, 9, 7, 1, 4, 7, 8, 5, 7, 2, 3, 4, 2, 7,\n",
      "                   3, 7, 3, 2, 5, 1, 6, 6, 2, 4, 0, 4, 5, 1, 3, 6, 6, 9, 1, 0, 2, 4, 9, 6,\n",
      "                   9, 3, 5, 7, 9, 6, 5, 8])),\n",
      "               names=('seeds', 'labels'),\n",
      "           ),\n",
      "           metadata={'name': 'node_classification', 'num_classes': 10},)\n",
      "\n",
      "Loaded link prediction task: OnDiskTask(validation_set=ItemSet(\n",
      "               items=(tensor([[882, 315],\n",
      "                   [851,  27],\n",
      "                   [502, 168],\n",
      "                   ...,\n",
      "                   [797, 936],\n",
      "                   [797,  60],\n",
      "                   [797, 121]], dtype=torch.int32), tensor([1., 1., 1.,  ..., 0., 0., 0.], dtype=torch.float64), tensor([   0,    1,    2,  ..., 1999, 1999, 1999])),\n",
      "               names=('seeds', 'labels', 'indexes'),\n",
      "           ),\n",
      "           train_set=ItemSet(\n",
      "               items=(tensor([[867, 330],\n",
      "                   [783, 799],\n",
      "                   [526, 593],\n",
      "                   ...,\n",
      "                   [127, 355],\n",
      "                   [ 51, 365],\n",
      "                   [286, 154]], dtype=torch.int32),),\n",
      "               names=('seeds',),\n",
      "           ),\n",
      "           test_set=ItemSet(\n",
      "               items=(tensor([[983, 385],\n",
      "                   [763, 238],\n",
      "                   [126, 384],\n",
      "                   ...,\n",
      "                   [216, 170],\n",
      "                   [216, 193],\n",
      "                   [216, 201]], dtype=torch.int32), tensor([1., 1., 1.,  ..., 0., 0., 0.], dtype=torch.float64), tensor([   0,    1,    2,  ..., 1999, 1999, 1999])),\n",
      "               names=('seeds', 'labels', 'indexes'),\n",
      "           ),\n",
      "           metadata={'name': 'link_prediction', 'num_classes': 10},)\n",
      "\n"
     ]
    },
    {
     "name": "stderr",
     "output_type": "stream",
     "text": [
      "/dgl/python/dgl/graphbolt/impl/ondisk_dataset.py:463: GBWarning: Edge feature is stored, but edge IDs are not saved.\n",
      "  gb_warning(\"Edge feature is stored, but edge IDs are not saved.\")\n"
     ]
    }
   ],
   "source": [
    "dataset = gb.OnDiskDataset(base_dir).load()\n",
    "graph = dataset.graph\n",
    "print(f\"Loaded graph: {graph}\\n\")\n",
    "\n",
    "feature = dataset.feature\n",
    "print(f\"Loaded feature store: {feature}\\n\")\n",
    "\n",
    "tasks = dataset.tasks\n",
    "nc_task = tasks[0]\n",
    "print(f\"Loaded node classification task: {nc_task}\\n\")\n",
    "lp_task = tasks[1]\n",
    "print(f\"Loaded link prediction task: {lp_task}\\n\")"
   ]
  }
 ],
 "metadata": {
  "colab": {
   "private_outputs": true,
   "provenance": []
  },
  "kernelspec": {
   "display_name": "Python 3",
   "name": "python3"
  },
  "language_info": {
   "codemirror_mode": {
    "name": "ipython",
    "version": 3
   },
   "file_extension": ".py",
   "mimetype": "text/x-python",
   "name": "python",
   "nbconvert_exporter": "python",
   "pygments_lexer": "ipython3",
   "version": "3.10.15"
  }
 },
 "nbformat": 4,
 "nbformat_minor": 0
}

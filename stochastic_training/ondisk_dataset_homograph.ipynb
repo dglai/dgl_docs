{
 "cells": [
  {
   "cell_type": "markdown",
   "metadata": {
    "id": "FnFhPMaAfLtJ"
   },
   "source": [
    "# OnDiskDataset for Homogeneous Graph\n",
    "\n",
    "[![Open In Colab](https://colab.research.google.com/assets/colab-badge.svg)](https://colab.research.google.com/github/dmlc/dgl/blob/master/notebooks/stochastic_training/ondisk_dataset_homograph.ipynb) [![GitHub](https://img.shields.io/badge/-View%20on%20GitHub-181717?logo=github&logoColor=ffffff)](https://github.com/dmlc/dgl/blob/master/notebooks/stochastic_training/ondisk_dataset_homograph.ipynb)\n",
    "\n",
    "This tutorial shows how to create `OnDiskDataset` for homogeneous graph that could be used in **GraphBolt** framework.\n",
    "\n",
    "By the end of this tutorial, you will be able to\n",
    "\n",
    "- organize graph structure data.\n",
    "- organize feature data.\n",
    "- organize training/validation/test set for specific tasks.\n",
    "\n",
    "To create an ``OnDiskDataset`` object, you need to organize all the data including graph structure, feature data and tasks into a directory. The directory should contain a ``metadata.yaml`` file that describes the metadata of the dataset.\n",
    "\n",
    "Now let's generate various data step by step and organize them together to instantiate `OnDiskDataset` finally."
   ]
  },
  {
   "cell_type": "markdown",
   "metadata": {
    "id": "Wlb19DtWgtzq"
   },
   "source": [
    "## Install DGL package"
   ]
  },
  {
   "cell_type": "code",
   "execution_count": 1,
   "metadata": {
    "execution": {
     "iopub.execute_input": "2024-08-15T07:29:32.382420Z",
     "iopub.status.busy": "2024-08-15T07:29:32.382104Z",
     "iopub.status.idle": "2024-08-15T07:29:36.185478Z",
     "shell.execute_reply": "2024-08-15T07:29:36.184618Z"
    },
    "id": "UojlT9ZGgyr9"
   },
   "outputs": [
    {
     "name": "stdout",
     "output_type": "stream",
     "text": [
      "Looking in links: https://data.dgl.ai/wheels-test/repo.html\r\n",
      "Requirement already satisfied: dgl in /opt/conda/envs/dgl-dev-cpu/lib/python3.10/site-packages (2.2a240410)\r\n",
      "Requirement already satisfied: numpy>=1.14.0 in /opt/conda/envs/dgl-dev-cpu/lib/python3.10/site-packages (from dgl) (1.26.4)\r\n",
      "Requirement already satisfied: scipy>=1.1.0 in /opt/conda/envs/dgl-dev-cpu/lib/python3.10/site-packages (from dgl) (1.14.0)\r\n",
      "Requirement already satisfied: networkx>=2.1 in /opt/conda/envs/dgl-dev-cpu/lib/python3.10/site-packages (from dgl) (3.3)\r\n",
      "Requirement already satisfied: requests>=2.19.0 in /opt/conda/envs/dgl-dev-cpu/lib/python3.10/site-packages (from dgl) (2.32.3)\r\n",
      "Requirement already satisfied: tqdm in /opt/conda/envs/dgl-dev-cpu/lib/python3.10/site-packages (from dgl) (4.66.5)\r\n",
      "Requirement already satisfied: psutil>=5.8.0 in /opt/conda/envs/dgl-dev-cpu/lib/python3.10/site-packages (from dgl) (6.0.0)\r\n",
      "Requirement already satisfied: torchdata>=0.5.0 in /opt/conda/envs/dgl-dev-cpu/lib/python3.10/site-packages (from dgl) (0.8.0)\r\n",
      "Requirement already satisfied: pandas in /opt/conda/envs/dgl-dev-cpu/lib/python3.10/site-packages (from dgl) (2.2.2)\r\n",
      "Requirement already satisfied: charset-normalizer<4,>=2 in /opt/conda/envs/dgl-dev-cpu/lib/python3.10/site-packages (from requests>=2.19.0->dgl) (3.3.2)\r\n",
      "Requirement already satisfied: idna<4,>=2.5 in /opt/conda/envs/dgl-dev-cpu/lib/python3.10/site-packages (from requests>=2.19.0->dgl) (3.7)\r\n",
      "Requirement already satisfied: urllib3<3,>=1.21.1 in /opt/conda/envs/dgl-dev-cpu/lib/python3.10/site-packages (from requests>=2.19.0->dgl) (2.2.2)\r\n",
      "Requirement already satisfied: certifi>=2017.4.17 in /opt/conda/envs/dgl-dev-cpu/lib/python3.10/site-packages (from requests>=2.19.0->dgl) (2024.7.4)\r\n",
      "Requirement already satisfied: torch>=2 in /opt/conda/envs/dgl-dev-cpu/lib/python3.10/site-packages (from torchdata>=0.5.0->dgl) (2.1.0+cpu)\r\n"
     ]
    },
    {
     "name": "stdout",
     "output_type": "stream",
     "text": [
      "Requirement already satisfied: python-dateutil>=2.8.2 in /opt/conda/envs/dgl-dev-cpu/lib/python3.10/site-packages (from pandas->dgl) (2.9.0.post0)\r\n",
      "Requirement already satisfied: pytz>=2020.1 in /opt/conda/envs/dgl-dev-cpu/lib/python3.10/site-packages (from pandas->dgl) (2024.1)\r\n",
      "Requirement already satisfied: tzdata>=2022.7 in /opt/conda/envs/dgl-dev-cpu/lib/python3.10/site-packages (from pandas->dgl) (2024.1)\r\n",
      "Requirement already satisfied: six>=1.5 in /opt/conda/envs/dgl-dev-cpu/lib/python3.10/site-packages (from python-dateutil>=2.8.2->pandas->dgl) (1.16.0)\r\n",
      "Requirement already satisfied: filelock in /opt/conda/envs/dgl-dev-cpu/lib/python3.10/site-packages (from torch>=2->torchdata>=0.5.0->dgl) (3.15.4)\r\n",
      "Requirement already satisfied: typing-extensions in /opt/conda/envs/dgl-dev-cpu/lib/python3.10/site-packages (from torch>=2->torchdata>=0.5.0->dgl) (4.12.2)\r\n",
      "Requirement already satisfied: sympy in /opt/conda/envs/dgl-dev-cpu/lib/python3.10/site-packages (from torch>=2->torchdata>=0.5.0->dgl) (1.13.2)\r\n",
      "Requirement already satisfied: jinja2 in /opt/conda/envs/dgl-dev-cpu/lib/python3.10/site-packages (from torch>=2->torchdata>=0.5.0->dgl) (3.1.4)\r\n",
      "Requirement already satisfied: fsspec in /opt/conda/envs/dgl-dev-cpu/lib/python3.10/site-packages (from torch>=2->torchdata>=0.5.0->dgl) (2024.6.1)\r\n"
     ]
    },
    {
     "name": "stdout",
     "output_type": "stream",
     "text": [
      "Requirement already satisfied: MarkupSafe>=2.0 in /opt/conda/envs/dgl-dev-cpu/lib/python3.10/site-packages (from jinja2->torch>=2->torchdata>=0.5.0->dgl) (2.1.5)\r\n",
      "Requirement already satisfied: mpmath<1.4,>=1.1.0 in /opt/conda/envs/dgl-dev-cpu/lib/python3.10/site-packages (from sympy->torch>=2->torchdata>=0.5.0->dgl) (1.3.0)\r\n"
     ]
    },
    {
     "name": "stdout",
     "output_type": "stream",
     "text": [
      "DGL installed!\n"
     ]
    }
   ],
   "source": [
    "# Install required packages.\n",
    "import os\n",
    "import torch\n",
    "import numpy as np\n",
    "os.environ['TORCH'] = torch.__version__\n",
    "os.environ['DGLBACKEND'] = \"pytorch\"\n",
    "\n",
    "# Install the CPU version.\n",
    "device = torch.device(\"cpu\")\n",
    "!pip install --pre dgl -f https://data.dgl.ai/wheels-test/repo.html\n",
    "\n",
    "try:\n",
    "    import dgl\n",
    "    import dgl.graphbolt as gb\n",
    "    installed = True\n",
    "except ImportError as error:\n",
    "    installed = False\n",
    "    print(error)\n",
    "print(\"DGL installed!\" if installed else \"DGL not found!\")"
   ]
  },
  {
   "cell_type": "markdown",
   "metadata": {
    "id": "2R7WnSbjsfbr"
   },
   "source": [
    "## Data preparation\n",
    "In order to demonstrate how to organize various data, let's create a base directory first."
   ]
  },
  {
   "cell_type": "code",
   "execution_count": 2,
   "metadata": {
    "execution": {
     "iopub.execute_input": "2024-08-15T07:29:36.189207Z",
     "iopub.status.busy": "2024-08-15T07:29:36.188369Z",
     "iopub.status.idle": "2024-08-15T07:29:36.193106Z",
     "shell.execute_reply": "2024-08-15T07:29:36.192473Z"
    },
    "id": "SZipbzyltLfO"
   },
   "outputs": [
    {
     "name": "stdout",
     "output_type": "stream",
     "text": [
      "Created base directory: ./ondisk_dataset_homograph\n"
     ]
    }
   ],
   "source": [
    "base_dir = './ondisk_dataset_homograph'\n",
    "os.makedirs(base_dir, exist_ok=True)\n",
    "print(f\"Created base directory: {base_dir}\")"
   ]
  },
  {
   "cell_type": "markdown",
   "metadata": {
    "id": "qhNtIn_xhlnl"
   },
   "source": [
    "### Generate graph structure data\n",
    "For homogeneous graph, we just need to save edges(namely seeds) into  **Numpy** or **CSV** file.\n",
    "\n",
    "Note:\n",
    "- when saving to **Numpy**, the array requires to be in shape of `(2, N)`. This format is recommended as constructing graph from it is much faster than **CSV** file.\n",
    "- when saving to **CSV** file, do not save index and header.\n"
   ]
  },
  {
   "cell_type": "code",
   "execution_count": 3,
   "metadata": {
    "execution": {
     "iopub.execute_input": "2024-08-15T07:29:36.195914Z",
     "iopub.status.busy": "2024-08-15T07:29:36.195485Z",
     "iopub.status.idle": "2024-08-15T07:29:36.212552Z",
     "shell.execute_reply": "2024-08-15T07:29:36.210804Z"
    },
    "id": "HcBt4G5BmSjr"
   },
   "outputs": [
    {
     "name": "stdout",
     "output_type": "stream",
     "text": [
      "Part of edges: [[501 312]\n",
      " [600 174]\n",
      " [861 152]\n",
      " [135  25]\n",
      " [ 37 288]]\n",
      "Edges are saved into ./ondisk_dataset_homograph/edges.csv\n"
     ]
    }
   ],
   "source": [
    "import numpy as np\n",
    "import pandas as pd\n",
    "num_nodes = 1000\n",
    "num_edges = 10 * num_nodes\n",
    "edges_path = os.path.join(base_dir, \"edges.csv\")\n",
    "edges = np.random.randint(0, num_nodes, size=(num_edges, 2))\n",
    "\n",
    "print(f\"Part of edges: {edges[:5, :]}\")\n",
    "\n",
    "df = pd.DataFrame(edges)\n",
    "df.to_csv(edges_path, index=False, header=False)\n",
    "\n",
    "print(f\"Edges are saved into {edges_path}\")"
   ]
  },
  {
   "cell_type": "markdown",
   "metadata": {
    "id": "kh-4cPtzpcaH"
   },
   "source": [
    "### Generate feature data for graph\n",
    "For feature data, numpy arrays and torch tensors are supported for now."
   ]
  },
  {
   "cell_type": "code",
   "execution_count": 4,
   "metadata": {
    "execution": {
     "iopub.execute_input": "2024-08-15T07:29:36.215639Z",
     "iopub.status.busy": "2024-08-15T07:29:36.215015Z",
     "iopub.status.idle": "2024-08-15T07:29:36.245710Z",
     "shell.execute_reply": "2024-08-15T07:29:36.245139Z"
    },
    "id": "_PVu1u5brBhF"
   },
   "outputs": [
    {
     "name": "stdout",
     "output_type": "stream",
     "text": [
      "Part of node feature [feat_0]: [[0.21008142 0.42991154 0.03291555 0.87474467 0.0372584 ]\n",
      " [0.14952961 0.88652592 0.02447544 0.56509398 0.72576102]\n",
      " [0.22152269 0.1575477  0.19031558 0.31553337 0.33345547]]\n",
      "Node feature [feat_0] is saved to ./ondisk_dataset_homograph/node-feat-0.npy\n",
      "\n",
      "Part of node feature [feat_1]: tensor([[0.7688, 0.3496, 0.1412, 0.2895, 0.4063],\n",
      "        [0.7321, 0.0957, 0.0327, 0.7455, 0.0357],\n",
      "        [0.2623, 0.1782, 0.9245, 0.2665, 0.4709]])\n",
      "Node feature [feat_1] is saved to ./ondisk_dataset_homograph/node-feat-1.pt\n",
      "\n",
      "Part of edge feature [feat_0]: [[0.45158803 0.51306873 0.23544554 0.41833895 0.17370866]\n",
      " [0.0398273  0.17485321 0.94157405 0.2324845  0.01627635]\n",
      " [0.82322333 0.38389625 0.08236335 0.45628138 0.96722637]]\n",
      "Edge feature [feat_0] is saved to ./ondisk_dataset_homograph/edge-feat-0.npy\n",
      "\n",
      "Part of edge feature [feat_1]: tensor([[0.0419, 0.2514, 0.6636, 0.6103, 0.3220],\n",
      "        [0.3245, 0.3364, 0.2106, 0.0380, 0.3018],\n",
      "        [0.4160, 0.8103, 0.9939, 0.5841, 0.4944]])\n",
      "Edge feature [feat_1] is saved to ./ondisk_dataset_homograph/edge-feat-1.pt\n",
      "\n"
     ]
    }
   ],
   "source": [
    "# Generate node feature in numpy array.\n",
    "node_feat_0_path = os.path.join(base_dir, \"node-feat-0.npy\")\n",
    "node_feat_0 = np.random.rand(num_nodes, 5)\n",
    "print(f\"Part of node feature [feat_0]: {node_feat_0[:3, :]}\")\n",
    "np.save(node_feat_0_path, node_feat_0)\n",
    "print(f\"Node feature [feat_0] is saved to {node_feat_0_path}\\n\")\n",
    "\n",
    "# Generate another node feature in torch tensor\n",
    "node_feat_1_path = os.path.join(base_dir, \"node-feat-1.pt\")\n",
    "node_feat_1 = torch.rand(num_nodes, 5)\n",
    "print(f\"Part of node feature [feat_1]: {node_feat_1[:3, :]}\")\n",
    "torch.save(node_feat_1, node_feat_1_path)\n",
    "print(f\"Node feature [feat_1] is saved to {node_feat_1_path}\\n\")\n",
    "\n",
    "# Generate edge feature in numpy array.\n",
    "edge_feat_0_path = os.path.join(base_dir, \"edge-feat-0.npy\")\n",
    "edge_feat_0 = np.random.rand(num_edges, 5)\n",
    "print(f\"Part of edge feature [feat_0]: {edge_feat_0[:3, :]}\")\n",
    "np.save(edge_feat_0_path, edge_feat_0)\n",
    "print(f\"Edge feature [feat_0] is saved to {edge_feat_0_path}\\n\")\n",
    "\n",
    "# Generate another edge feature in torch tensor\n",
    "edge_feat_1_path = os.path.join(base_dir, \"edge-feat-1.pt\")\n",
    "edge_feat_1 = torch.rand(num_edges, 5)\n",
    "print(f\"Part of edge feature [feat_1]: {edge_feat_1[:3, :]}\")\n",
    "torch.save(edge_feat_1, edge_feat_1_path)\n",
    "print(f\"Edge feature [feat_1] is saved to {edge_feat_1_path}\\n\")\n"
   ]
  },
  {
   "cell_type": "markdown",
   "metadata": {
    "id": "ZyqgOtsIwzh_"
   },
   "source": [
    "### Generate tasks\n",
    "`OnDiskDataset` supports multiple tasks. For each task, we need to prepare training/validation/test sets respectively. Such sets usually vary among different tasks. In this tutorial, let's create a **Node Classification** task and **Link Prediction** task."
   ]
  },
  {
   "cell_type": "markdown",
   "metadata": {
    "id": "hVxHaDIfzCkr"
   },
   "source": [
    "#### Node Classification Task\n",
    "For node classification task, we need **node IDs** and corresponding **labels** for each training/validation/test set. Like feature data, numpy arrays and torch tensors are supported for these sets."
   ]
  },
  {
   "cell_type": "code",
   "execution_count": 5,
   "metadata": {
    "execution": {
     "iopub.execute_input": "2024-08-15T07:29:36.248399Z",
     "iopub.status.busy": "2024-08-15T07:29:36.248119Z",
     "iopub.status.idle": "2024-08-15T07:29:36.258381Z",
     "shell.execute_reply": "2024-08-15T07:29:36.257818Z"
    },
    "id": "S5-fyBbHzTCO"
   },
   "outputs": [
    {
     "name": "stdout",
     "output_type": "stream",
     "text": [
      "Part of train ids for node classification: [717 234 147]\n",
      "NC train ids are saved to ./ondisk_dataset_homograph/nc-train-ids.npy\n",
      "\n",
      "Part of train labels for node classification: tensor([8, 6, 0])\n",
      "NC train labels are saved to ./ondisk_dataset_homograph/nc-train-labels.pt\n",
      "\n",
      "Part of val ids for node classification: [895 631 641]\n",
      "NC val ids are saved to ./ondisk_dataset_homograph/nc-val-ids.npy\n",
      "\n",
      "Part of val labels for node classification: tensor([9, 3, 5])\n",
      "NC val labels are saved to ./ondisk_dataset_homograph/nc-val-labels.pt\n",
      "\n",
      "Part of test ids for node classification: [143 602 300]\n",
      "NC test ids are saved to ./ondisk_dataset_homograph/nc-test-ids.npy\n",
      "\n",
      "Part of test labels for node classification: tensor([3, 0, 3])\n",
      "NC test labels are saved to ./ondisk_dataset_homograph/nc-test-labels.pt\n",
      "\n"
     ]
    }
   ],
   "source": [
    "num_trains = int(num_nodes * 0.6)\n",
    "num_vals = int(num_nodes * 0.2)\n",
    "num_tests = num_nodes - num_trains - num_vals\n",
    "\n",
    "ids = np.arange(num_nodes)\n",
    "np.random.shuffle(ids)\n",
    "\n",
    "nc_train_ids_path = os.path.join(base_dir, \"nc-train-ids.npy\")\n",
    "nc_train_ids = ids[:num_trains]\n",
    "print(f\"Part of train ids for node classification: {nc_train_ids[:3]}\")\n",
    "np.save(nc_train_ids_path, nc_train_ids)\n",
    "print(f\"NC train ids are saved to {nc_train_ids_path}\\n\")\n",
    "\n",
    "nc_train_labels_path = os.path.join(base_dir, \"nc-train-labels.pt\")\n",
    "nc_train_labels = torch.randint(0, 10, (num_trains,))\n",
    "print(f\"Part of train labels for node classification: {nc_train_labels[:3]}\")\n",
    "torch.save(nc_train_labels, nc_train_labels_path)\n",
    "print(f\"NC train labels are saved to {nc_train_labels_path}\\n\")\n",
    "\n",
    "nc_val_ids_path = os.path.join(base_dir, \"nc-val-ids.npy\")\n",
    "nc_val_ids = ids[num_trains:num_trains+num_vals]\n",
    "print(f\"Part of val ids for node classification: {nc_val_ids[:3]}\")\n",
    "np.save(nc_val_ids_path, nc_val_ids)\n",
    "print(f\"NC val ids are saved to {nc_val_ids_path}\\n\")\n",
    "\n",
    "nc_val_labels_path = os.path.join(base_dir, \"nc-val-labels.pt\")\n",
    "nc_val_labels = torch.randint(0, 10, (num_vals,))\n",
    "print(f\"Part of val labels for node classification: {nc_val_labels[:3]}\")\n",
    "torch.save(nc_val_labels, nc_val_labels_path)\n",
    "print(f\"NC val labels are saved to {nc_val_labels_path}\\n\")\n",
    "\n",
    "nc_test_ids_path = os.path.join(base_dir, \"nc-test-ids.npy\")\n",
    "nc_test_ids = ids[-num_tests:]\n",
    "print(f\"Part of test ids for node classification: {nc_test_ids[:3]}\")\n",
    "np.save(nc_test_ids_path, nc_test_ids)\n",
    "print(f\"NC test ids are saved to {nc_test_ids_path}\\n\")\n",
    "\n",
    "nc_test_labels_path = os.path.join(base_dir, \"nc-test-labels.pt\")\n",
    "nc_test_labels = torch.randint(0, 10, (num_tests,))\n",
    "print(f\"Part of test labels for node classification: {nc_test_labels[:3]}\")\n",
    "torch.save(nc_test_labels, nc_test_labels_path)\n",
    "print(f\"NC test labels are saved to {nc_test_labels_path}\\n\")"
   ]
  },
  {
   "cell_type": "markdown",
   "metadata": {
    "id": "LhAcDCHQ_KJ0"
   },
   "source": [
    "#### Link Prediction Task\n",
    "For link prediction task, we need **seeds** or **corresponding labels and indexes** which representing the pos/neg property and group of the seeds for each training/validation/test set. Like feature data, numpy arrays and torch tensors are supported for these sets."
   ]
  },
  {
   "cell_type": "code",
   "execution_count": 6,
   "metadata": {
    "execution": {
     "iopub.execute_input": "2024-08-15T07:29:36.260983Z",
     "iopub.status.busy": "2024-08-15T07:29:36.260765Z",
     "iopub.status.idle": "2024-08-15T07:29:36.277330Z",
     "shell.execute_reply": "2024-08-15T07:29:36.276737Z"
    },
    "id": "u0jCnXIcAQy4"
   },
   "outputs": [
    {
     "name": "stdout",
     "output_type": "stream",
     "text": [
      "Part of train seeds for link prediction: [[501 312]\n",
      " [600 174]\n",
      " [861 152]]\n",
      "LP train seeds are saved to ./ondisk_dataset_homograph/lp-train-seeds.npy\n",
      "\n",
      "Part of val seeds for link prediction: [[197 522]\n",
      " [115 457]\n",
      " [508   1]]\n",
      "LP val seeds are saved to ./ondisk_dataset_homograph/lp-val-seeds.npy\n",
      "\n",
      "Part of val labels for link prediction: [1. 1. 1.]\n",
      "LP val labels are saved to ./ondisk_dataset_homograph/lp-val-labels.npy\n",
      "\n",
      "Part of val indexes for link prediction: [0 1 2]\n",
      "LP val indexes are saved to ./ondisk_dataset_homograph/lp-val-indexes.npy\n",
      "\n",
      "Part of test seeds for link prediction: [[371  79]\n",
      " [734 938]\n",
      " [218   4]]\n",
      "LP test seeds are saved to ./ondisk_dataset_homograph/lp-test-seeds.npy\n",
      "\n",
      "Part of val labels for link prediction: [1. 1. 1.]\n",
      "LP test labels are saved to ./ondisk_dataset_homograph/lp-test-labels.npy\n",
      "\n",
      "Part of test indexes for link prediction: [0 1 2]\n",
      "LP test indexes are saved to ./ondisk_dataset_homograph/lp-test-indexes.npy\n",
      "\n"
     ]
    }
   ],
   "source": [
    "num_trains = int(num_edges * 0.6)\n",
    "num_vals = int(num_edges * 0.2)\n",
    "num_tests = num_edges - num_trains - num_vals\n",
    "\n",
    "lp_train_seeds_path = os.path.join(base_dir, \"lp-train-seeds.npy\")\n",
    "lp_train_seeds = edges[:num_trains, :]\n",
    "print(f\"Part of train seeds for link prediction: {lp_train_seeds[:3]}\")\n",
    "np.save(lp_train_seeds_path, lp_train_seeds)\n",
    "print(f\"LP train seeds are saved to {lp_train_seeds_path}\\n\")\n",
    "\n",
    "lp_val_seeds_path = os.path.join(base_dir, \"lp-val-seeds.npy\")\n",
    "lp_val_seeds = edges[num_trains:num_trains+num_vals, :]\n",
    "lp_val_neg_dsts = np.random.randint(0, num_nodes, (num_vals, 10)).reshape(-1)\n",
    "lp_val_neg_srcs = np.repeat(lp_val_seeds[:,0], 10)\n",
    "lp_val_neg_seeds = np.concatenate((lp_val_neg_srcs, lp_val_neg_dsts)).reshape(2,-1).T\n",
    "lp_val_seeds = np.concatenate((lp_val_seeds, lp_val_neg_seeds))\n",
    "print(f\"Part of val seeds for link prediction: {lp_val_seeds[:3]}\")\n",
    "np.save(lp_val_seeds_path, lp_val_seeds)\n",
    "print(f\"LP val seeds are saved to {lp_val_seeds_path}\\n\")\n",
    "\n",
    "lp_val_labels_path = os.path.join(base_dir, \"lp-val-labels.npy\")\n",
    "lp_val_labels = np.empty(num_vals * (10 + 1))\n",
    "lp_val_labels[:num_vals] = 1\n",
    "lp_val_labels[num_vals:] = 0\n",
    "print(f\"Part of val labels for link prediction: {lp_val_labels[:3]}\")\n",
    "np.save(lp_val_labels_path, lp_val_labels)\n",
    "print(f\"LP val labels are saved to {lp_val_labels_path}\\n\")\n",
    "\n",
    "lp_val_indexes_path = os.path.join(base_dir, \"lp-val-indexes.npy\")\n",
    "lp_val_indexes = np.arange(0, num_vals)\n",
    "lp_val_neg_indexes = np.repeat(lp_val_indexes, 10)\n",
    "lp_val_indexes = np.concatenate([lp_val_indexes, lp_val_neg_indexes])\n",
    "print(f\"Part of val indexes for link prediction: {lp_val_indexes[:3]}\")\n",
    "np.save(lp_val_indexes_path, lp_val_indexes)\n",
    "print(f\"LP val indexes are saved to {lp_val_indexes_path}\\n\")\n",
    "\n",
    "lp_test_seeds_path = os.path.join(base_dir, \"lp-test-seeds.npy\")\n",
    "lp_test_seeds = edges[-num_tests:, :]\n",
    "lp_test_neg_dsts = np.random.randint(0, num_nodes, (num_tests, 10)).reshape(-1)\n",
    "lp_test_neg_srcs = np.repeat(lp_test_seeds[:,0], 10)\n",
    "lp_test_neg_seeds = np.concatenate((lp_test_neg_srcs, lp_test_neg_dsts)).reshape(2,-1).T\n",
    "lp_test_seeds = np.concatenate((lp_test_seeds, lp_test_neg_seeds))\n",
    "print(f\"Part of test seeds for link prediction: {lp_test_seeds[:3]}\")\n",
    "np.save(lp_test_seeds_path, lp_test_seeds)\n",
    "print(f\"LP test seeds are saved to {lp_test_seeds_path}\\n\")\n",
    "\n",
    "lp_test_labels_path = os.path.join(base_dir, \"lp-test-labels.npy\")\n",
    "lp_test_labels = np.empty(num_tests * (10 + 1))\n",
    "lp_test_labels[:num_tests] = 1\n",
    "lp_test_labels[num_tests:] = 0\n",
    "print(f\"Part of val labels for link prediction: {lp_test_labels[:3]}\")\n",
    "np.save(lp_test_labels_path, lp_test_labels)\n",
    "print(f\"LP test labels are saved to {lp_test_labels_path}\\n\")\n",
    "\n",
    "lp_test_indexes_path = os.path.join(base_dir, \"lp-test-indexes.npy\")\n",
    "lp_test_indexes = np.arange(0, num_tests)\n",
    "lp_test_neg_indexes = np.repeat(lp_test_indexes, 10)\n",
    "lp_test_indexes = np.concatenate([lp_test_indexes, lp_test_neg_indexes])\n",
    "print(f\"Part of test indexes for link prediction: {lp_test_indexes[:3]}\")\n",
    "np.save(lp_test_indexes_path, lp_test_indexes)\n",
    "print(f\"LP test indexes are saved to {lp_test_indexes_path}\\n\")"
   ]
  },
  {
   "cell_type": "markdown",
   "metadata": {
    "id": "wbk6-wxRK-6S"
   },
   "source": [
    "## Organize Data into YAML File\n",
    "Now we need to create a `metadata.yaml` file which contains the paths, dadta types of graph structure, feature data, training/validation/test sets.\n",
    "\n",
    "Notes:\n",
    "- all path should be relative to `metadata.yaml`.\n",
    "- Below fields are optional and not specified in below example.\n",
    "  - `in_memory`: indicates whether to load dada into memory or `mmap`. Default is `True`.\n",
    "\n",
    "Please refer to [YAML specification](https://github.com/dmlc/dgl/blob/master/docs/source/stochastic_training/ondisk-dataset-specification.rst) for more details."
   ]
  },
  {
   "cell_type": "code",
   "execution_count": 7,
   "metadata": {
    "execution": {
     "iopub.execute_input": "2024-08-15T07:29:36.280091Z",
     "iopub.status.busy": "2024-08-15T07:29:36.279797Z",
     "iopub.status.idle": "2024-08-15T07:29:36.285167Z",
     "shell.execute_reply": "2024-08-15T07:29:36.284642Z"
    },
    "id": "ddGTWW61Lpwp"
   },
   "outputs": [],
   "source": [
    "yaml_content = f\"\"\"\n",
    "    dataset_name: homogeneous_graph_nc_lp\n",
    "    graph:\n",
    "      nodes:\n",
    "        - num: {num_nodes}\n",
    "      edges:\n",
    "        - format: csv\n",
    "          path: {os.path.basename(edges_path)}\n",
    "    feature_data:\n",
    "      - domain: node\n",
    "        name: feat_0\n",
    "        format: numpy\n",
    "        path: {os.path.basename(node_feat_0_path)}\n",
    "      - domain: node\n",
    "        name: feat_1\n",
    "        format: torch\n",
    "        path: {os.path.basename(node_feat_1_path)}\n",
    "      - domain: edge\n",
    "        name: feat_0\n",
    "        format: numpy\n",
    "        path: {os.path.basename(edge_feat_0_path)}\n",
    "      - domain: edge\n",
    "        name: feat_1\n",
    "        format: torch\n",
    "        path: {os.path.basename(edge_feat_1_path)}\n",
    "    tasks:\n",
    "      - name: node_classification\n",
    "        num_classes: 10\n",
    "        train_set:\n",
    "          - data:\n",
    "              - name: seeds\n",
    "                format: numpy\n",
    "                path: {os.path.basename(nc_train_ids_path)}\n",
    "              - name: labels\n",
    "                format: torch\n",
    "                path: {os.path.basename(nc_train_labels_path)}\n",
    "        validation_set:\n",
    "          - data:\n",
    "              - name: seeds\n",
    "                format: numpy\n",
    "                path: {os.path.basename(nc_val_ids_path)}\n",
    "              - name: labels\n",
    "                format: torch\n",
    "                path: {os.path.basename(nc_val_labels_path)}\n",
    "        test_set:\n",
    "          - data:\n",
    "              - name: seeds\n",
    "                format: numpy\n",
    "                path: {os.path.basename(nc_test_ids_path)}\n",
    "              - name: labels\n",
    "                format: torch\n",
    "                path: {os.path.basename(nc_test_labels_path)}\n",
    "      - name: link_prediction\n",
    "        num_classes: 10\n",
    "        train_set:\n",
    "          - data:\n",
    "              - name: seeds\n",
    "                format: numpy\n",
    "                path: {os.path.basename(lp_train_seeds_path)}\n",
    "        validation_set:\n",
    "          - data:\n",
    "              - name: seeds\n",
    "                format: numpy\n",
    "                path: {os.path.basename(lp_val_seeds_path)}\n",
    "              - name: labels\n",
    "                format: numpy\n",
    "                path: {os.path.basename(lp_val_labels_path)}\n",
    "              - name: indexes\n",
    "                format: numpy\n",
    "                path: {os.path.basename(lp_val_indexes_path)}\n",
    "        test_set:\n",
    "          - data:\n",
    "              - name: seeds\n",
    "                format: numpy\n",
    "                path: {os.path.basename(lp_test_seeds_path)}\n",
    "              - name: labels\n",
    "                format: numpy\n",
    "                path: {os.path.basename(lp_test_labels_path)}\n",
    "              - name: indexes\n",
    "                format: numpy\n",
    "                path: {os.path.basename(lp_test_indexes_path)}\n",
    "\"\"\"\n",
    "metadata_path = os.path.join(base_dir, \"metadata.yaml\")\n",
    "with open(metadata_path, \"w\") as f:\n",
    "  f.write(yaml_content)"
   ]
  },
  {
   "cell_type": "markdown",
   "metadata": {
    "id": "kEfybHGhOW7O"
   },
   "source": [
    "## Instantiate `OnDiskDataset`\n",
    "Now we're ready to load dataset via `dgl.graphbolt.OnDiskDataset`. When instantiating, we just pass in the base directory where `metadata.yaml` file lies.\n",
    "\n",
    "During first instantiation, GraphBolt preprocesses the raw data such as constructing `FusedCSCSamplingGraph` from edges. All data including graph, feature data, training/validation/test sets are put into `preprocessed` directory after preprocessing. Any following dataset loading will skip the preprocess stage.\n",
    "\n",
    "After preprocessing, `load()` is required to be called explicitly in order to load graph, feature data and tasks."
   ]
  },
  {
   "cell_type": "code",
   "execution_count": 8,
   "metadata": {
    "execution": {
     "iopub.execute_input": "2024-08-15T07:29:36.287899Z",
     "iopub.status.busy": "2024-08-15T07:29:36.287483Z",
     "iopub.status.idle": "2024-08-15T07:29:36.355500Z",
     "shell.execute_reply": "2024-08-15T07:29:36.354758Z"
    },
    "id": "W58CZoSzOiyo"
   },
   "outputs": [
    {
     "name": "stdout",
     "output_type": "stream",
     "text": [
      "Start to preprocess the on-disk dataset.\n",
      "Finish preprocessing the on-disk dataset.\n",
      "Loaded graph: FusedCSCSamplingGraph(csc_indptr=tensor([    0,     4,    16,  ...,  9984,  9989, 10000], dtype=torch.int32),\n",
      "                      indices=tensor([202, 692, 788,  ..., 671, 730, 769], dtype=torch.int32),\n",
      "                      total_num_nodes=1000, num_edges=10000,)\n",
      "\n",
      "Loaded feature store: TorchBasedFeatureStore(\n",
      "    {(<OnDiskFeatureDataDomain.NODE: 'node'>, None, 'feat_0'): TorchBasedFeature(\n",
      "        feature=tensor([[0.2101, 0.4299, 0.0329, 0.8747, 0.0373],\n",
      "                        [0.1495, 0.8865, 0.0245, 0.5651, 0.7258],\n",
      "                        [0.2215, 0.1575, 0.1903, 0.3155, 0.3335],\n",
      "                        ...,\n",
      "                        [0.8555, 0.9608, 0.7702, 0.9410, 0.8703],\n",
      "                        [0.1895, 0.9543, 0.2849, 0.9928, 0.2649],\n",
      "                        [0.7566, 0.7467, 0.8742, 0.7401, 0.2723]], dtype=torch.float64),\n",
      "        metadata={},\n",
      "    ), (<OnDiskFeatureDataDomain.NODE: 'node'>, None, 'feat_1'): TorchBasedFeature(\n",
      "        feature=tensor([[0.7688, 0.3496, 0.1412, 0.2895, 0.4063],\n",
      "                        [0.7321, 0.0957, 0.0327, 0.7455, 0.0357],\n",
      "                        [0.2623, 0.1782, 0.9245, 0.2665, 0.4709],\n",
      "                        ...,\n",
      "                        [0.0989, 0.2224, 0.1084, 0.3976, 0.3972],\n",
      "                        [0.0692, 0.0117, 0.7491, 0.5954, 0.0494],\n",
      "                        [0.6614, 0.3799, 0.6808, 0.8331, 0.0458]]),\n",
      "        metadata={},\n",
      "    ), (<OnDiskFeatureDataDomain.EDGE: 'edge'>, None, 'feat_0'): TorchBasedFeature(\n",
      "        feature=tensor([[0.4516, 0.5131, 0.2354, 0.4183, 0.1737],\n",
      "                        [0.0398, 0.1749, 0.9416, 0.2325, 0.0163],\n",
      "                        [0.8232, 0.3839, 0.0824, 0.4563, 0.9672],\n",
      "                        ...,\n",
      "                        [0.0721, 0.9034, 0.8355, 0.6980, 0.3709],\n",
      "                        [0.9589, 0.2621, 0.5926, 0.4838, 0.2795],\n",
      "                        [0.2867, 0.0236, 0.4583, 0.4721, 0.9645]], dtype=torch.float64),\n",
      "        metadata={},\n",
      "    ), (<OnDiskFeatureDataDomain.EDGE: 'edge'>, None, 'feat_1'): TorchBasedFeature(\n",
      "        feature=tensor([[0.0419, 0.2514, 0.6636, 0.6103, 0.3220],\n",
      "                        [0.3245, 0.3364, 0.2106, 0.0380, 0.3018],\n",
      "                        [0.4160, 0.8103, 0.9939, 0.5841, 0.4944],\n",
      "                        ...,\n",
      "                        [0.0272, 0.6145, 0.0817, 0.4422, 0.0055],\n",
      "                        [0.0097, 0.6592, 0.5828, 0.4279, 0.6311],\n",
      "                        [0.7647, 0.5953, 0.1322, 0.4255, 0.8126]]),\n",
      "        metadata={},\n",
      "    )}\n",
      ")\n",
      "\n",
      "Loaded node classification task: OnDiskTask(validation_set=ItemSet(\n",
      "               items=(tensor([895, 631, 641, 504, 422, 514, 771, 601, 382, 859, 758, 535, 201, 587,\n",
      "                   115, 401, 827, 701, 293, 319, 400, 603,  77,  90, 210, 487, 219, 467,\n",
      "                    13, 465, 217, 620,  14,   0, 537, 507, 374, 960,   3, 575, 623, 970,\n",
      "                   195, 398, 114, 368, 176, 989, 816, 151,  62, 704, 918, 850, 304, 846,\n",
      "                   598,  66, 592, 527, 647, 977, 100,  17, 528, 551, 533, 498, 473,  31,\n",
      "                   831, 721, 227, 983, 139, 516, 207, 134, 283, 152, 887, 993, 154, 172,\n",
      "                   131,  45, 550, 668, 739, 521, 724, 600, 784,  10, 239, 693, 956, 366,\n",
      "                   911, 688, 267,  79, 197, 573, 638, 307, 513, 890, 499,  78, 215, 163,\n",
      "                   375, 449, 361,  42, 904, 211, 936, 386, 427, 136, 821, 509, 523,  55,\n",
      "                   461, 445, 268, 536, 703, 588, 871,  37, 460, 747, 331, 287, 420, 736,\n",
      "                    56, 894, 326, 379, 889, 187, 743, 190, 525, 203, 734,  21, 966, 177,\n",
      "                   166, 512, 261, 110, 578, 880, 364, 355, 853, 257, 149,  83, 802, 524,\n",
      "                   278, 599,  74,  86, 996, 888, 438, 879, 893, 310, 434, 729, 332, 302,\n",
      "                    15,  72, 681, 706, 220, 939,  49, 470, 628, 822, 233, 749, 452, 313,\n",
      "                   146, 567, 181, 772], dtype=torch.int32), tensor([9, 3, 5, 3, 6, 0, 3, 1, 1, 4, 8, 6, 6, 3, 2, 6, 4, 2, 2, 0, 5, 5, 4, 1,\n",
      "                   3, 7, 9, 7, 4, 0, 2, 3, 9, 9, 5, 7, 1, 8, 9, 2, 3, 6, 1, 2, 8, 8, 9, 5,\n",
      "                   6, 3, 6, 2, 3, 9, 2, 5, 6, 2, 0, 8, 2, 4, 7, 1, 5, 4, 9, 5, 7, 7, 3, 2,\n",
      "                   5, 5, 2, 3, 3, 4, 7, 1, 7, 5, 4, 4, 3, 5, 7, 8, 2, 9, 2, 6, 3, 5, 0, 6,\n",
      "                   3, 4, 5, 4, 8, 9, 9, 0, 6, 1, 5, 1, 8, 9, 3, 0, 4, 4, 1, 8, 8, 7, 4, 1,\n",
      "                   7, 3, 6, 0, 1, 5, 6, 5, 8, 5, 0, 3, 8, 2, 4, 9, 4, 9, 2, 8, 9, 8, 4, 8,\n",
      "                   3, 0, 2, 8, 5, 6, 4, 1, 8, 8, 4, 5, 8, 8, 7, 0, 5, 0, 5, 0, 4, 5, 3, 5,\n",
      "                   5, 6, 7, 8, 1, 7, 8, 2, 6, 6, 2, 1, 2, 5, 4, 8, 6, 1, 7, 7, 4, 8, 0, 1,\n",
      "                   2, 3, 2, 6, 7, 6, 4, 0])),\n",
      "               names=('seeds', 'labels'),\n",
      "           ),\n",
      "           train_set=ItemSet(\n",
      "               items=(tensor([717, 234, 147, 714, 553, 556, 844, 308, 866, 468, 837, 951, 325,  96,\n",
      "                   260, 274, 492,  71, 650, 200, 746, 510, 432, 659, 909, 275, 430, 202,\n",
      "                   403, 633, 649, 529, 675, 448,  89,  88, 655, 891, 967, 798, 621, 662,\n",
      "                   905, 111, 265, 385, 770, 127, 922, 558, 738, 667,  16, 593, 963, 779,\n",
      "                   341, 961, 808, 663, 832, 695, 270,  26, 651, 910, 710, 785, 148, 286,\n",
      "                   824, 506, 927, 687,  40, 819, 882, 429, 577,  67, 841, 735, 869, 934,\n",
      "                   272, 789, 913, 209, 732,   6, 120,   1, 817, 369, 920, 342, 443, 857,\n",
      "                    51,  41, 683,  43, 384, 990, 251, 863, 637, 645, 765, 411, 759, 923,\n",
      "                    64, 792, 791, 690, 162, 619, 252, 950, 157, 686,  85, 773, 312, 634,\n",
      "                   316, 754, 730, 109, 367, 243, 557, 615, 640, 508, 564, 597, 643, 491,\n",
      "                   194, 145, 973, 102, 426, 481,  22, 237, 440, 168, 962, 999, 843, 242,\n",
      "                    28, 189, 119, 196, 726, 228, 156, 933, 560, 591, 947, 964, 412,  53,\n",
      "                   811, 653, 353, 206, 781, 454, 416, 885, 107, 845, 354, 642, 630, 182,\n",
      "                   579, 737, 580, 495, 995, 259, 526, 501, 949, 357, 183, 562,  99, 544,\n",
      "                   636,  70, 517, 337, 395, 198, 130, 953, 224, 393,  91, 290, 266, 639,\n",
      "                   616, 350, 397, 128, 664, 903, 994, 658, 387, 223, 614, 254, 213, 388,\n",
      "                   776, 757, 133, 351, 810, 314,  93, 610, 419, 860, 867, 459, 373, 122,\n",
      "                   654, 485, 204, 750, 744, 801, 117, 324, 892, 586, 480, 971, 515, 543,\n",
      "                   954, 338, 740, 795, 928, 489, 571, 222, 656, 941, 978, 767, 727,  87,\n",
      "                   541, 925, 322,   4,  58, 101, 410, 123,  57, 132, 545, 764, 788, 669,\n",
      "                   698, 455, 745, 346, 180, 916,   9, 572, 241,  50, 697, 126, 305, 625,\n",
      "                   554, 975,   8,  24, 731, 150,   5, 399, 214, 532, 415, 356, 284, 900,\n",
      "                   812, 762,  59, 345, 141, 648, 344, 255, 980, 611, 280, 520, 236, 680,\n",
      "                   815, 783, 362, 453, 679,  38, 417, 414, 594, 295, 986, 483, 705,  95,\n",
      "                   807, 809, 851, 924,  18, 159, 493, 175, 914, 569, 125, 671, 940, 309,\n",
      "                   991, 378, 555,  11,  63,  80, 660, 559, 406, 294, 296, 482, 761, 760,\n",
      "                   212, 248,  39, 582, 339, 256, 907, 685, 700, 383, 456, 931, 957, 852,\n",
      "                   955, 396, 715, 250, 830, 864, 262, 836,  19, 442, 297, 839, 423, 288,\n",
      "                   404, 716, 626,  33, 677, 108, 333, 188, 327, 418, 618, 898, 271, 245,\n",
      "                   872, 144, 249,  54, 713, 646, 613, 607, 519,  84, 608, 629,  30, 886,\n",
      "                   124, 561,  29, 847, 829, 774, 942, 820, 804, 711, 208, 937, 702, 796,\n",
      "                   855, 170, 546, 756, 959, 769,  94, 500,  12, 794, 589,  73, 408, 674,\n",
      "                   497, 436, 627, 329, 755, 840, 604, 753, 231, 140, 279, 902, 348, 103,\n",
      "                   861, 908, 622, 968,  92, 161, 137, 409, 171,  52, 258, 303, 915, 205,\n",
      "                   766, 862, 540, 392, 596, 306, 644, 343, 825, 684, 549, 216, 943, 828,\n",
      "                   494, 229, 899, 733, 917, 673, 538,  27, 985, 458, 932,  65, 585, 226,\n",
      "                   447, 441, 661, 865, 169, 605, 929, 617, 935, 376, 435, 875,  36, 486,\n",
      "                   113, 360, 723, 632, 814, 965,  48, 565, 944, 142, 718, 982, 394, 503,\n",
      "                   876, 178, 775, 328, 106, 407, 818, 522, 462, 720, 552, 878, 763, 289,\n",
      "                   897, 347, 318, 952, 542, 390, 285, 797, 475, 873, 972, 719, 464, 678,\n",
      "                   474, 813, 883, 748, 848, 450, 421, 301, 530, 725, 786, 568, 225, 335,\n",
      "                   742, 998, 276, 317, 381, 782, 336, 652,  25, 193, 581, 174, 104, 129,\n",
      "                   531, 926, 906, 694, 269, 858, 800, 741, 826, 689, 349, 780],\n",
      "                  dtype=torch.int32), tensor([8, 6, 0, 9, 4, 8, 0, 2, 4, 6, 9, 3, 2, 7, 5, 3, 8, 6, 5, 8, 2, 6, 3, 8,\n",
      "                   3, 4, 6, 4, 5, 2, 9, 5, 6, 1, 4, 8, 1, 9, 4, 6, 5, 6, 2, 3, 5, 0, 1, 2,\n",
      "                   7, 2, 0, 6, 2, 2, 8, 2, 6, 3, 3, 5, 3, 1, 1, 4, 0, 5, 7, 8, 3, 1, 6, 2,\n",
      "                   6, 6, 1, 3, 3, 4, 4, 4, 5, 5, 8, 2, 9, 0, 9, 9, 4, 0, 7, 5, 7, 8, 9, 6,\n",
      "                   9, 8, 8, 6, 1, 2, 4, 7, 6, 7, 4, 0, 3, 0, 1, 0, 3, 8, 1, 8, 2, 4, 8, 7,\n",
      "                   1, 7, 2, 5, 3, 7, 5, 8, 7, 9, 8, 3, 4, 2, 3, 6, 5, 2, 4, 6, 7, 9, 0, 2,\n",
      "                   6, 7, 0, 0, 0, 9, 2, 6, 8, 3, 8, 2, 5, 5, 1, 1, 0, 5, 5, 0, 1, 7, 1, 8,\n",
      "                   7, 7, 6, 6, 9, 8, 8, 8, 3, 4, 1, 8, 9, 4, 8, 8, 0, 2, 7, 3, 9, 5, 5, 4,\n",
      "                   3, 4, 7, 6, 1, 6, 5, 9, 0, 6, 7, 1, 8, 9, 3, 6, 7, 3, 6, 3, 2, 7, 7, 2,\n",
      "                   4, 5, 8, 0, 7, 3, 7, 0, 7, 4, 5, 0, 1, 4, 3, 7, 7, 2, 4, 0, 7, 3, 3, 9,\n",
      "                   1, 3, 3, 9, 7, 9, 4, 8, 1, 8, 4, 3, 7, 4, 8, 8, 1, 9, 9, 7, 2, 3, 5, 1,\n",
      "                   1, 2, 8, 1, 2, 9, 6, 7, 2, 2, 5, 6, 1, 4, 8, 2, 4, 2, 4, 1, 2, 0, 6, 7,\n",
      "                   6, 2, 0, 9, 2, 0, 2, 8, 9, 8, 4, 3, 3, 4, 4, 9, 2, 4, 8, 3, 9, 9, 3, 6,\n",
      "                   3, 8, 5, 7, 2, 3, 5, 0, 2, 7, 1, 7, 7, 7, 1, 1, 9, 1, 7, 1, 2, 1, 3, 1,\n",
      "                   2, 1, 8, 4, 7, 5, 7, 5, 8, 3, 9, 9, 7, 6, 4, 9, 8, 5, 7, 6, 7, 5, 1, 2,\n",
      "                   4, 0, 1, 1, 3, 7, 9, 2, 5, 7, 7, 0, 6, 5, 5, 5, 5, 0, 8, 6, 6, 9, 8, 1,\n",
      "                   5, 1, 2, 7, 4, 3, 4, 6, 2, 8, 5, 6, 3, 7, 0, 8, 9, 9, 6, 9, 4, 0, 8, 3,\n",
      "                   0, 1, 9, 0, 4, 8, 0, 6, 0, 7, 2, 9, 6, 9, 0, 6, 7, 8, 0, 2, 7, 8, 7, 4,\n",
      "                   4, 2, 4, 3, 1, 7, 0, 0, 5, 1, 5, 2, 2, 9, 8, 7, 5, 5, 9, 4, 6, 9, 2, 2,\n",
      "                   9, 5, 1, 6, 6, 4, 8, 5, 3, 0, 5, 6, 9, 9, 3, 9, 6, 7, 3, 9, 3, 7, 1, 8,\n",
      "                   1, 7, 3, 4, 9, 1, 5, 2, 0, 4, 0, 2, 7, 0, 3, 3, 8, 1, 5, 1, 4, 8, 4, 1,\n",
      "                   2, 7, 9, 2, 6, 3, 8, 9, 3, 8, 4, 3, 0, 6, 6, 2, 6, 3, 3, 2, 0, 8, 5, 8,\n",
      "                   8, 7, 2, 8, 4, 8, 5, 8, 1, 1, 3, 6, 7, 0, 8, 4, 9, 5, 8, 5, 0, 1, 7, 5,\n",
      "                   4, 3, 2, 3, 1, 1, 0, 3, 8, 1, 7, 7, 3, 4, 4, 0, 7, 6, 3, 0, 2, 8, 7, 3,\n",
      "                   2, 4, 3, 4, 8, 3, 1, 8, 3, 6, 0, 9, 9, 5, 2, 9, 7, 9, 0, 4, 2, 0, 4, 8])),\n",
      "               names=('seeds', 'labels'),\n",
      "           ),\n",
      "           test_set=ItemSet(\n",
      "               items=(tensor([143, 602, 300, 291,  32,  47,  98, 612, 657, 121, 238, 877, 584, 595,\n",
      "                   696, 218, 856, 834, 377, 273, 372, 323, 490,  34, 539, 976, 868, 380,\n",
      "                   708, 477, 365,  69, 340, 823, 511, 691, 870, 974, 803, 446, 478, 563,\n",
      "                   469,  81, 282, 946, 232,  20, 842, 247, 699, 160, 471, 484, 884, 874,\n",
      "                   358, 457, 253, 320, 670, 665, 466, 912, 682, 424, 292, 105, 777, 987,\n",
      "                   112, 433,  97, 849, 881, 635, 230, 244, 930,  82,  68, 330,  60, 752,\n",
      "                   334, 896, 221, 835, 437, 805, 299, 496, 838, 167, 666, 359, 191, 921,\n",
      "                    23, 444, 413, 518, 281, 173, 574, 692, 186, 192, 298, 676, 945, 153,\n",
      "                   672, 321, 389, 548, 439,  46, 479,  44, 277, 790, 488, 199, 787, 576,\n",
      "                   806,   7, 768, 311, 583, 246, 624, 984, 712, 428, 463, 948, 179, 402,\n",
      "                   833, 901, 405, 165, 778, 451,  35, 566, 164, 363, 158, 709, 502, 609,\n",
      "                    61, 722, 263, 235, 472, 988, 992, 707, 116, 505, 728, 979, 938, 799,\n",
      "                   547, 997, 476,   2, 264, 981, 370, 751, 854, 185, 590, 969, 352, 606,\n",
      "                   391,  76, 138, 155, 135, 184, 315, 570, 371, 534, 118, 958, 240, 919,\n",
      "                   425, 793,  75, 431], dtype=torch.int32), tensor([3, 0, 3, 5, 9, 7, 0, 1, 0, 4, 5, 5, 4, 9, 0, 2, 5, 7, 4, 2, 3, 3, 9, 0,\n",
      "                   3, 8, 0, 2, 7, 9, 1, 7, 0, 5, 5, 7, 1, 8, 9, 6, 1, 5, 9, 7, 1, 3, 0, 1,\n",
      "                   4, 4, 1, 5, 9, 3, 3, 3, 3, 1, 5, 1, 1, 1, 0, 3, 7, 5, 2, 4, 4, 6, 1, 0,\n",
      "                   1, 0, 8, 4, 4, 5, 5, 5, 8, 8, 9, 4, 1, 6, 5, 0, 1, 0, 8, 1, 8, 6, 1, 6,\n",
      "                   8, 8, 4, 5, 7, 4, 9, 5, 7, 6, 6, 3, 8, 6, 8, 2, 6, 6, 9, 0, 5, 1, 2, 8,\n",
      "                   3, 2, 3, 2, 8, 1, 3, 7, 9, 8, 7, 9, 3, 5, 2, 4, 1, 5, 4, 0, 9, 6, 0, 7,\n",
      "                   2, 0, 0, 8, 5, 6, 5, 9, 9, 5, 3, 8, 0, 6, 9, 3, 4, 7, 1, 3, 1, 4, 7, 2,\n",
      "                   6, 6, 4, 0, 9, 2, 0, 8, 4, 0, 3, 0, 6, 4, 4, 1, 7, 4, 0, 6, 4, 1, 4, 7,\n",
      "                   6, 2, 4, 8, 0, 8, 1, 1])),\n",
      "               names=('seeds', 'labels'),\n",
      "           ),\n",
      "           metadata={'name': 'node_classification', 'num_classes': 10},)\n",
      "\n",
      "Loaded link prediction task: OnDiskTask(validation_set=ItemSet(\n",
      "               items=(tensor([[197, 522],\n",
      "                   [115, 457],\n",
      "                   [508,   1],\n",
      "                   ...,\n",
      "                   [ 45, 430],\n",
      "                   [ 45, 485],\n",
      "                   [ 45, 486]], dtype=torch.int32), tensor([1., 1., 1.,  ..., 0., 0., 0.], dtype=torch.float64), tensor([   0,    1,    2,  ..., 1999, 1999, 1999])),\n",
      "               names=('seeds', 'labels', 'indexes'),\n",
      "           ),\n",
      "           train_set=ItemSet(\n",
      "               items=(tensor([[501, 312],\n",
      "                   [600, 174],\n",
      "                   [861, 152],\n",
      "                   ...,\n",
      "                   [105,  34],\n",
      "                   [858, 474],\n",
      "                   [ 14, 511]], dtype=torch.int32),),\n",
      "               names=('seeds',),\n",
      "           ),\n",
      "           test_set=ItemSet(\n",
      "               items=(tensor([[371,  79],\n",
      "                   [734, 938],\n",
      "                   [218,   4],\n",
      "                   ...,\n",
      "                   [849, 271],\n",
      "                   [849, 255],\n",
      "                   [849, 329]], dtype=torch.int32), tensor([1., 1., 1.,  ..., 0., 0., 0.], dtype=torch.float64), tensor([   0,    1,    2,  ..., 1999, 1999, 1999])),\n",
      "               names=('seeds', 'labels', 'indexes'),\n",
      "           ),\n",
      "           metadata={'name': 'link_prediction', 'num_classes': 10},)\n",
      "\n"
     ]
    },
    {
     "name": "stderr",
     "output_type": "stream",
     "text": [
      "/home/ubuntu/dgl_test/python/dgl/graphbolt/impl/ondisk_dataset.py:463: GBWarning: Edge feature is stored, but edge IDs are not saved.\n",
      "  gb_warning(\"Edge feature is stored, but edge IDs are not saved.\")\n"
     ]
    }
   ],
   "source": [
    "dataset = gb.OnDiskDataset(base_dir).load()\n",
    "graph = dataset.graph\n",
    "print(f\"Loaded graph: {graph}\\n\")\n",
    "\n",
    "feature = dataset.feature\n",
    "print(f\"Loaded feature store: {feature}\\n\")\n",
    "\n",
    "tasks = dataset.tasks\n",
    "nc_task = tasks[0]\n",
    "print(f\"Loaded node classification task: {nc_task}\\n\")\n",
    "lp_task = tasks[1]\n",
    "print(f\"Loaded link prediction task: {lp_task}\\n\")"
   ]
  }
 ],
 "metadata": {
  "colab": {
   "private_outputs": true,
   "provenance": []
  },
  "kernelspec": {
   "display_name": "Python 3",
   "name": "python3"
  },
  "language_info": {
   "codemirror_mode": {
    "name": "ipython",
    "version": 3
   },
   "file_extension": ".py",
   "mimetype": "text/x-python",
   "name": "python",
   "nbconvert_exporter": "python",
   "pygments_lexer": "ipython3",
   "version": "3.10.14"
  }
 },
 "nbformat": 4,
 "nbformat_minor": 0
}

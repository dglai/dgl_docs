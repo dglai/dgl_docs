{
 "cells": [
  {
   "cell_type": "markdown",
   "metadata": {
    "id": "FnFhPMaAfLtJ"
   },
   "source": [
    "# OnDiskDataset for Homogeneous Graph\n",
    "\n",
    "[![Open In Colab](https://colab.research.google.com/assets/colab-badge.svg)](https://colab.research.google.com/github/dmlc/dgl/blob/master/notebooks/stochastic_training/ondisk_dataset_homograph.ipynb) [![GitHub](https://img.shields.io/badge/-View%20on%20GitHub-181717?logo=github&logoColor=ffffff)](https://github.com/dmlc/dgl/blob/master/notebooks/stochastic_training/ondisk_dataset_homograph.ipynb)\n",
    "\n",
    "This tutorial shows how to create `OnDiskDataset` for homogeneous graph that could be used in **GraphBolt** framework.\n",
    "\n",
    "By the end of this tutorial, you will be able to\n",
    "\n",
    "- organize graph structure data.\n",
    "- organize feature data.\n",
    "- organize training/validation/test set for specific tasks.\n",
    "\n",
    "To create an ``OnDiskDataset`` object, you need to organize all the data including graph structure, feature data and tasks into a directory. The directory should contain a ``metadata.yaml`` file that describes the metadata of the dataset.\n",
    "\n",
    "Now let's generate various data step by step and organize them together to instantiate `OnDiskDataset` finally."
   ]
  },
  {
   "cell_type": "markdown",
   "metadata": {
    "id": "Wlb19DtWgtzq"
   },
   "source": [
    "## Install DGL package"
   ]
  },
  {
   "cell_type": "code",
   "execution_count": 1,
   "metadata": {
    "execution": {
     "iopub.execute_input": "2024-10-26T13:27:34.391276Z",
     "iopub.status.busy": "2024-10-26T13:27:34.390788Z",
     "iopub.status.idle": "2024-10-26T13:27:37.426366Z",
     "shell.execute_reply": "2024-10-26T13:27:37.424828Z"
    },
    "id": "UojlT9ZGgyr9"
   },
   "outputs": [
    {
     "name": "stdout",
     "output_type": "stream",
     "text": [
      "Looking in links: https://data.dgl.ai/wheels-test/repo.html\r\n",
      "Requirement already satisfied: dgl in /opt/conda/envs/dgl-dev-cpu/lib/python3.10/site-packages (2.2a240410)\r\n",
      "Requirement already satisfied: numpy>=1.14.0 in /opt/conda/envs/dgl-dev-cpu/lib/python3.10/site-packages (from dgl) (1.26.4)\r\n",
      "Requirement already satisfied: scipy>=1.1.0 in /opt/conda/envs/dgl-dev-cpu/lib/python3.10/site-packages (from dgl) (1.14.1)\r\n",
      "Requirement already satisfied: networkx>=2.1 in /opt/conda/envs/dgl-dev-cpu/lib/python3.10/site-packages (from dgl) (3.4.2)\r\n",
      "Requirement already satisfied: requests>=2.19.0 in /opt/conda/envs/dgl-dev-cpu/lib/python3.10/site-packages (from dgl) (2.32.3)\r\n",
      "Requirement already satisfied: tqdm in /opt/conda/envs/dgl-dev-cpu/lib/python3.10/site-packages (from dgl) (4.66.5)\r\n",
      "Requirement already satisfied: psutil>=5.8.0 in /opt/conda/envs/dgl-dev-cpu/lib/python3.10/site-packages (from dgl) (6.1.0)\r\n",
      "Requirement already satisfied: torchdata>=0.5.0 in /opt/conda/envs/dgl-dev-cpu/lib/python3.10/site-packages (from dgl) (0.9.0)\r\n",
      "Requirement already satisfied: pandas in /opt/conda/envs/dgl-dev-cpu/lib/python3.10/site-packages (from dgl) (2.2.3)\r\n"
     ]
    },
    {
     "name": "stdout",
     "output_type": "stream",
     "text": [
      "Requirement already satisfied: charset-normalizer<4,>=2 in /opt/conda/envs/dgl-dev-cpu/lib/python3.10/site-packages (from requests>=2.19.0->dgl) (3.4.0)\r\n",
      "Requirement already satisfied: idna<4,>=2.5 in /opt/conda/envs/dgl-dev-cpu/lib/python3.10/site-packages (from requests>=2.19.0->dgl) (3.10)\r\n",
      "Requirement already satisfied: urllib3<3,>=1.21.1 in /opt/conda/envs/dgl-dev-cpu/lib/python3.10/site-packages (from requests>=2.19.0->dgl) (2.2.3)\r\n",
      "Requirement already satisfied: certifi>=2017.4.17 in /opt/conda/envs/dgl-dev-cpu/lib/python3.10/site-packages (from requests>=2.19.0->dgl) (2024.8.30)\r\n",
      "Requirement already satisfied: torch>=2 in /opt/conda/envs/dgl-dev-cpu/lib/python3.10/site-packages (from torchdata>=0.5.0->dgl) (2.1.0+cpu)\r\n"
     ]
    },
    {
     "name": "stdout",
     "output_type": "stream",
     "text": [
      "Requirement already satisfied: python-dateutil>=2.8.2 in /opt/conda/envs/dgl-dev-cpu/lib/python3.10/site-packages (from pandas->dgl) (2.9.0.post0)\r\n",
      "Requirement already satisfied: pytz>=2020.1 in /opt/conda/envs/dgl-dev-cpu/lib/python3.10/site-packages (from pandas->dgl) (2024.2)\r\n",
      "Requirement already satisfied: tzdata>=2022.7 in /opt/conda/envs/dgl-dev-cpu/lib/python3.10/site-packages (from pandas->dgl) (2024.2)\r\n",
      "Requirement already satisfied: six>=1.5 in /opt/conda/envs/dgl-dev-cpu/lib/python3.10/site-packages (from python-dateutil>=2.8.2->pandas->dgl) (1.16.0)\r\n",
      "Requirement already satisfied: filelock in /opt/conda/envs/dgl-dev-cpu/lib/python3.10/site-packages (from torch>=2->torchdata>=0.5.0->dgl) (3.16.1)\r\n",
      "Requirement already satisfied: typing-extensions in /opt/conda/envs/dgl-dev-cpu/lib/python3.10/site-packages (from torch>=2->torchdata>=0.5.0->dgl) (4.12.2)\r\n",
      "Requirement already satisfied: sympy in /opt/conda/envs/dgl-dev-cpu/lib/python3.10/site-packages (from torch>=2->torchdata>=0.5.0->dgl) (1.13.3)\r\n",
      "Requirement already satisfied: jinja2 in /opt/conda/envs/dgl-dev-cpu/lib/python3.10/site-packages (from torch>=2->torchdata>=0.5.0->dgl) (3.1.4)\r\n",
      "Requirement already satisfied: fsspec in /opt/conda/envs/dgl-dev-cpu/lib/python3.10/site-packages (from torch>=2->torchdata>=0.5.0->dgl) (2024.10.0)\r\n"
     ]
    },
    {
     "name": "stdout",
     "output_type": "stream",
     "text": [
      "Requirement already satisfied: MarkupSafe>=2.0 in /opt/conda/envs/dgl-dev-cpu/lib/python3.10/site-packages (from jinja2->torch>=2->torchdata>=0.5.0->dgl) (3.0.2)\r\n",
      "Requirement already satisfied: mpmath<1.4,>=1.1.0 in /opt/conda/envs/dgl-dev-cpu/lib/python3.10/site-packages (from sympy->torch>=2->torchdata>=0.5.0->dgl) (1.3.0)\r\n"
     ]
    },
    {
     "name": "stdout",
     "output_type": "stream",
     "text": [
      "\u001b[33mWARNING: Running pip as the 'root' user can result in broken permissions and conflicting behaviour with the system package manager, possibly rendering your system unusable.It is recommended to use a virtual environment instead: https://pip.pypa.io/warnings/venv. Use the --root-user-action option if you know what you are doing and want to suppress this warning.\u001b[0m\u001b[33m\r\n",
      "\u001b[0m"
     ]
    },
    {
     "name": "stdout",
     "output_type": "stream",
     "text": [
      "DGL installed!\n"
     ]
    }
   ],
   "source": [
    "# Install required packages.\n",
    "import os\n",
    "import torch\n",
    "import numpy as np\n",
    "os.environ['TORCH'] = torch.__version__\n",
    "os.environ['DGLBACKEND'] = \"pytorch\"\n",
    "\n",
    "# Install the CPU version.\n",
    "device = torch.device(\"cpu\")\n",
    "!pip install --pre dgl -f https://data.dgl.ai/wheels-test/repo.html\n",
    "\n",
    "try:\n",
    "    import dgl\n",
    "    import dgl.graphbolt as gb\n",
    "    installed = True\n",
    "except ImportError as error:\n",
    "    installed = False\n",
    "    print(error)\n",
    "print(\"DGL installed!\" if installed else \"DGL not found!\")"
   ]
  },
  {
   "cell_type": "markdown",
   "metadata": {
    "id": "2R7WnSbjsfbr"
   },
   "source": [
    "## Data preparation\n",
    "In order to demonstrate how to organize various data, let's create a base directory first."
   ]
  },
  {
   "cell_type": "code",
   "execution_count": 2,
   "metadata": {
    "execution": {
     "iopub.execute_input": "2024-10-26T13:27:37.430007Z",
     "iopub.status.busy": "2024-10-26T13:27:37.429097Z",
     "iopub.status.idle": "2024-10-26T13:27:37.434803Z",
     "shell.execute_reply": "2024-10-26T13:27:37.433964Z"
    },
    "id": "SZipbzyltLfO"
   },
   "outputs": [
    {
     "name": "stdout",
     "output_type": "stream",
     "text": [
      "Created base directory: ./ondisk_dataset_homograph\n"
     ]
    }
   ],
   "source": [
    "base_dir = './ondisk_dataset_homograph'\n",
    "os.makedirs(base_dir, exist_ok=True)\n",
    "print(f\"Created base directory: {base_dir}\")"
   ]
  },
  {
   "cell_type": "markdown",
   "metadata": {
    "id": "qhNtIn_xhlnl"
   },
   "source": [
    "### Generate graph structure data\n",
    "For homogeneous graph, we just need to save edges(namely seeds) into  **Numpy** or **CSV** file.\n",
    "\n",
    "Note:\n",
    "- when saving to **Numpy**, the array requires to be in shape of `(2, N)`. This format is recommended as constructing graph from it is much faster than **CSV** file.\n",
    "- when saving to **CSV** file, do not save index and header.\n"
   ]
  },
  {
   "cell_type": "code",
   "execution_count": 3,
   "metadata": {
    "execution": {
     "iopub.execute_input": "2024-10-26T13:27:37.437140Z",
     "iopub.status.busy": "2024-10-26T13:27:37.436945Z",
     "iopub.status.idle": "2024-10-26T13:27:37.450199Z",
     "shell.execute_reply": "2024-10-26T13:27:37.449520Z"
    },
    "id": "HcBt4G5BmSjr"
   },
   "outputs": [
    {
     "name": "stdout",
     "output_type": "stream",
     "text": [
      "Part of edges: [[739 626]\n",
      " [113 167]\n",
      " [421 152]\n",
      " [431 677]\n",
      " [462 625]]\n",
      "Edges are saved into ./ondisk_dataset_homograph/edges.csv\n"
     ]
    }
   ],
   "source": [
    "import numpy as np\n",
    "import pandas as pd\n",
    "num_nodes = 1000\n",
    "num_edges = 10 * num_nodes\n",
    "edges_path = os.path.join(base_dir, \"edges.csv\")\n",
    "edges = np.random.randint(0, num_nodes, size=(num_edges, 2))\n",
    "\n",
    "print(f\"Part of edges: {edges[:5, :]}\")\n",
    "\n",
    "df = pd.DataFrame(edges)\n",
    "df.to_csv(edges_path, index=False, header=False)\n",
    "\n",
    "print(f\"Edges are saved into {edges_path}\")"
   ]
  },
  {
   "cell_type": "markdown",
   "metadata": {
    "id": "kh-4cPtzpcaH"
   },
   "source": [
    "### Generate feature data for graph\n",
    "For feature data, numpy arrays and torch tensors are supported for now."
   ]
  },
  {
   "cell_type": "code",
   "execution_count": 4,
   "metadata": {
    "execution": {
     "iopub.execute_input": "2024-10-26T13:27:37.452864Z",
     "iopub.status.busy": "2024-10-26T13:27:37.452419Z",
     "iopub.status.idle": "2024-10-26T13:27:37.465881Z",
     "shell.execute_reply": "2024-10-26T13:27:37.465071Z"
    },
    "id": "_PVu1u5brBhF"
   },
   "outputs": [
    {
     "name": "stdout",
     "output_type": "stream",
     "text": [
      "Part of node feature [feat_0]: [[0.50261636 0.01192972 0.41479308 0.05133877 0.90490017]\n",
      " [0.87977384 0.01638576 0.56703691 0.62907011 0.28362011]\n",
      " [0.23275075 0.16606682 0.12813531 0.46992002 0.14499459]]\n",
      "Node feature [feat_0] is saved to ./ondisk_dataset_homograph/node-feat-0.npy\n",
      "\n",
      "Part of node feature [feat_1]: tensor([[0.0456, 0.3237, 0.8012, 0.1189, 0.5789],\n",
      "        [0.8253, 0.4074, 0.9238, 0.5285, 0.4501],\n",
      "        [0.8690, 0.2811, 0.9841, 0.0307, 0.2398]])\n",
      "Node feature [feat_1] is saved to ./ondisk_dataset_homograph/node-feat-1.pt\n",
      "\n",
      "Part of edge feature [feat_0]: [[0.48600901 0.42483481 0.54363637 0.01388646 0.22022198]\n",
      " [0.34245461 0.76756071 0.55070313 0.83156159 0.78958736]\n",
      " [0.40659303 0.58594421 0.22446116 0.73017778 0.01692987]]\n",
      "Edge feature [feat_0] is saved to ./ondisk_dataset_homograph/edge-feat-0.npy\n",
      "\n",
      "Part of edge feature [feat_1]: tensor([[0.2169, 0.5408, 0.7055, 0.5599, 0.1695],\n",
      "        [0.7306, 0.8442, 0.3479, 0.0653, 0.9061],\n",
      "        [0.4564, 0.6109, 0.6713, 0.6228, 0.0688]])\n",
      "Edge feature [feat_1] is saved to ./ondisk_dataset_homograph/edge-feat-1.pt\n",
      "\n"
     ]
    }
   ],
   "source": [
    "# Generate node feature in numpy array.\n",
    "node_feat_0_path = os.path.join(base_dir, \"node-feat-0.npy\")\n",
    "node_feat_0 = np.random.rand(num_nodes, 5)\n",
    "print(f\"Part of node feature [feat_0]: {node_feat_0[:3, :]}\")\n",
    "np.save(node_feat_0_path, node_feat_0)\n",
    "print(f\"Node feature [feat_0] is saved to {node_feat_0_path}\\n\")\n",
    "\n",
    "# Generate another node feature in torch tensor\n",
    "node_feat_1_path = os.path.join(base_dir, \"node-feat-1.pt\")\n",
    "node_feat_1 = torch.rand(num_nodes, 5)\n",
    "print(f\"Part of node feature [feat_1]: {node_feat_1[:3, :]}\")\n",
    "torch.save(node_feat_1, node_feat_1_path)\n",
    "print(f\"Node feature [feat_1] is saved to {node_feat_1_path}\\n\")\n",
    "\n",
    "# Generate edge feature in numpy array.\n",
    "edge_feat_0_path = os.path.join(base_dir, \"edge-feat-0.npy\")\n",
    "edge_feat_0 = np.random.rand(num_edges, 5)\n",
    "print(f\"Part of edge feature [feat_0]: {edge_feat_0[:3, :]}\")\n",
    "np.save(edge_feat_0_path, edge_feat_0)\n",
    "print(f\"Edge feature [feat_0] is saved to {edge_feat_0_path}\\n\")\n",
    "\n",
    "# Generate another edge feature in torch tensor\n",
    "edge_feat_1_path = os.path.join(base_dir, \"edge-feat-1.pt\")\n",
    "edge_feat_1 = torch.rand(num_edges, 5)\n",
    "print(f\"Part of edge feature [feat_1]: {edge_feat_1[:3, :]}\")\n",
    "torch.save(edge_feat_1, edge_feat_1_path)\n",
    "print(f\"Edge feature [feat_1] is saved to {edge_feat_1_path}\\n\")\n"
   ]
  },
  {
   "cell_type": "markdown",
   "metadata": {
    "id": "ZyqgOtsIwzh_"
   },
   "source": [
    "### Generate tasks\n",
    "`OnDiskDataset` supports multiple tasks. For each task, we need to prepare training/validation/test sets respectively. Such sets usually vary among different tasks. In this tutorial, let's create a **Node Classification** task and **Link Prediction** task."
   ]
  },
  {
   "cell_type": "markdown",
   "metadata": {
    "id": "hVxHaDIfzCkr"
   },
   "source": [
    "#### Node Classification Task\n",
    "For node classification task, we need **node IDs** and corresponding **labels** for each training/validation/test set. Like feature data, numpy arrays and torch tensors are supported for these sets."
   ]
  },
  {
   "cell_type": "code",
   "execution_count": 5,
   "metadata": {
    "execution": {
     "iopub.execute_input": "2024-10-26T13:27:37.468662Z",
     "iopub.status.busy": "2024-10-26T13:27:37.468260Z",
     "iopub.status.idle": "2024-10-26T13:27:37.479455Z",
     "shell.execute_reply": "2024-10-26T13:27:37.478737Z"
    },
    "id": "S5-fyBbHzTCO"
   },
   "outputs": [
    {
     "name": "stdout",
     "output_type": "stream",
     "text": [
      "Part of train ids for node classification: [500 786 152]\n",
      "NC train ids are saved to ./ondisk_dataset_homograph/nc-train-ids.npy\n",
      "\n",
      "Part of train labels for node classification: tensor([3, 0, 6])\n",
      "NC train labels are saved to ./ondisk_dataset_homograph/nc-train-labels.pt\n",
      "\n",
      "Part of val ids for node classification: [460 468 362]\n",
      "NC val ids are saved to ./ondisk_dataset_homograph/nc-val-ids.npy\n",
      "\n",
      "Part of val labels for node classification: tensor([9, 9, 4])\n",
      "NC val labels are saved to ./ondisk_dataset_homograph/nc-val-labels.pt\n",
      "\n",
      "Part of test ids for node classification: [622 400 961]\n",
      "NC test ids are saved to ./ondisk_dataset_homograph/nc-test-ids.npy\n",
      "\n",
      "Part of test labels for node classification: tensor([0, 8, 5])\n",
      "NC test labels are saved to ./ondisk_dataset_homograph/nc-test-labels.pt\n",
      "\n"
     ]
    }
   ],
   "source": [
    "num_trains = int(num_nodes * 0.6)\n",
    "num_vals = int(num_nodes * 0.2)\n",
    "num_tests = num_nodes - num_trains - num_vals\n",
    "\n",
    "ids = np.arange(num_nodes)\n",
    "np.random.shuffle(ids)\n",
    "\n",
    "nc_train_ids_path = os.path.join(base_dir, \"nc-train-ids.npy\")\n",
    "nc_train_ids = ids[:num_trains]\n",
    "print(f\"Part of train ids for node classification: {nc_train_ids[:3]}\")\n",
    "np.save(nc_train_ids_path, nc_train_ids)\n",
    "print(f\"NC train ids are saved to {nc_train_ids_path}\\n\")\n",
    "\n",
    "nc_train_labels_path = os.path.join(base_dir, \"nc-train-labels.pt\")\n",
    "nc_train_labels = torch.randint(0, 10, (num_trains,))\n",
    "print(f\"Part of train labels for node classification: {nc_train_labels[:3]}\")\n",
    "torch.save(nc_train_labels, nc_train_labels_path)\n",
    "print(f\"NC train labels are saved to {nc_train_labels_path}\\n\")\n",
    "\n",
    "nc_val_ids_path = os.path.join(base_dir, \"nc-val-ids.npy\")\n",
    "nc_val_ids = ids[num_trains:num_trains+num_vals]\n",
    "print(f\"Part of val ids for node classification: {nc_val_ids[:3]}\")\n",
    "np.save(nc_val_ids_path, nc_val_ids)\n",
    "print(f\"NC val ids are saved to {nc_val_ids_path}\\n\")\n",
    "\n",
    "nc_val_labels_path = os.path.join(base_dir, \"nc-val-labels.pt\")\n",
    "nc_val_labels = torch.randint(0, 10, (num_vals,))\n",
    "print(f\"Part of val labels for node classification: {nc_val_labels[:3]}\")\n",
    "torch.save(nc_val_labels, nc_val_labels_path)\n",
    "print(f\"NC val labels are saved to {nc_val_labels_path}\\n\")\n",
    "\n",
    "nc_test_ids_path = os.path.join(base_dir, \"nc-test-ids.npy\")\n",
    "nc_test_ids = ids[-num_tests:]\n",
    "print(f\"Part of test ids for node classification: {nc_test_ids[:3]}\")\n",
    "np.save(nc_test_ids_path, nc_test_ids)\n",
    "print(f\"NC test ids are saved to {nc_test_ids_path}\\n\")\n",
    "\n",
    "nc_test_labels_path = os.path.join(base_dir, \"nc-test-labels.pt\")\n",
    "nc_test_labels = torch.randint(0, 10, (num_tests,))\n",
    "print(f\"Part of test labels for node classification: {nc_test_labels[:3]}\")\n",
    "torch.save(nc_test_labels, nc_test_labels_path)\n",
    "print(f\"NC test labels are saved to {nc_test_labels_path}\\n\")"
   ]
  },
  {
   "cell_type": "markdown",
   "metadata": {
    "id": "LhAcDCHQ_KJ0"
   },
   "source": [
    "#### Link Prediction Task\n",
    "For link prediction task, we need **seeds** or **corresponding labels and indexes** which representing the pos/neg property and group of the seeds for each training/validation/test set. Like feature data, numpy arrays and torch tensors are supported for these sets."
   ]
  },
  {
   "cell_type": "code",
   "execution_count": 6,
   "metadata": {
    "execution": {
     "iopub.execute_input": "2024-10-26T13:27:37.481947Z",
     "iopub.status.busy": "2024-10-26T13:27:37.481549Z",
     "iopub.status.idle": "2024-10-26T13:27:37.499366Z",
     "shell.execute_reply": "2024-10-26T13:27:37.498608Z"
    },
    "id": "u0jCnXIcAQy4"
   },
   "outputs": [
    {
     "name": "stdout",
     "output_type": "stream",
     "text": [
      "Part of train seeds for link prediction: [[739 626]\n",
      " [113 167]\n",
      " [421 152]]\n",
      "LP train seeds are saved to ./ondisk_dataset_homograph/lp-train-seeds.npy\n",
      "\n",
      "Part of val seeds for link prediction: [[455 575]\n",
      " [225 372]\n",
      " [580 156]]\n",
      "LP val seeds are saved to ./ondisk_dataset_homograph/lp-val-seeds.npy\n",
      "\n",
      "Part of val labels for link prediction: [1. 1. 1.]\n",
      "LP val labels are saved to ./ondisk_dataset_homograph/lp-val-labels.npy\n",
      "\n",
      "Part of val indexes for link prediction: [0 1 2]\n",
      "LP val indexes are saved to ./ondisk_dataset_homograph/lp-val-indexes.npy\n",
      "\n",
      "Part of test seeds for link prediction: [[520 124]\n",
      " [803 320]\n",
      " [606 118]]\n",
      "LP test seeds are saved to ./ondisk_dataset_homograph/lp-test-seeds.npy\n",
      "\n",
      "Part of val labels for link prediction: [1. 1. 1.]\n",
      "LP test labels are saved to ./ondisk_dataset_homograph/lp-test-labels.npy\n",
      "\n",
      "Part of test indexes for link prediction: [0 1 2]\n",
      "LP test indexes are saved to ./ondisk_dataset_homograph/lp-test-indexes.npy\n",
      "\n"
     ]
    }
   ],
   "source": [
    "num_trains = int(num_edges * 0.6)\n",
    "num_vals = int(num_edges * 0.2)\n",
    "num_tests = num_edges - num_trains - num_vals\n",
    "\n",
    "lp_train_seeds_path = os.path.join(base_dir, \"lp-train-seeds.npy\")\n",
    "lp_train_seeds = edges[:num_trains, :]\n",
    "print(f\"Part of train seeds for link prediction: {lp_train_seeds[:3]}\")\n",
    "np.save(lp_train_seeds_path, lp_train_seeds)\n",
    "print(f\"LP train seeds are saved to {lp_train_seeds_path}\\n\")\n",
    "\n",
    "lp_val_seeds_path = os.path.join(base_dir, \"lp-val-seeds.npy\")\n",
    "lp_val_seeds = edges[num_trains:num_trains+num_vals, :]\n",
    "lp_val_neg_dsts = np.random.randint(0, num_nodes, (num_vals, 10)).reshape(-1)\n",
    "lp_val_neg_srcs = np.repeat(lp_val_seeds[:,0], 10)\n",
    "lp_val_neg_seeds = np.concatenate((lp_val_neg_srcs, lp_val_neg_dsts)).reshape(2,-1).T\n",
    "lp_val_seeds = np.concatenate((lp_val_seeds, lp_val_neg_seeds))\n",
    "print(f\"Part of val seeds for link prediction: {lp_val_seeds[:3]}\")\n",
    "np.save(lp_val_seeds_path, lp_val_seeds)\n",
    "print(f\"LP val seeds are saved to {lp_val_seeds_path}\\n\")\n",
    "\n",
    "lp_val_labels_path = os.path.join(base_dir, \"lp-val-labels.npy\")\n",
    "lp_val_labels = np.empty(num_vals * (10 + 1))\n",
    "lp_val_labels[:num_vals] = 1\n",
    "lp_val_labels[num_vals:] = 0\n",
    "print(f\"Part of val labels for link prediction: {lp_val_labels[:3]}\")\n",
    "np.save(lp_val_labels_path, lp_val_labels)\n",
    "print(f\"LP val labels are saved to {lp_val_labels_path}\\n\")\n",
    "\n",
    "lp_val_indexes_path = os.path.join(base_dir, \"lp-val-indexes.npy\")\n",
    "lp_val_indexes = np.arange(0, num_vals)\n",
    "lp_val_neg_indexes = np.repeat(lp_val_indexes, 10)\n",
    "lp_val_indexes = np.concatenate([lp_val_indexes, lp_val_neg_indexes])\n",
    "print(f\"Part of val indexes for link prediction: {lp_val_indexes[:3]}\")\n",
    "np.save(lp_val_indexes_path, lp_val_indexes)\n",
    "print(f\"LP val indexes are saved to {lp_val_indexes_path}\\n\")\n",
    "\n",
    "lp_test_seeds_path = os.path.join(base_dir, \"lp-test-seeds.npy\")\n",
    "lp_test_seeds = edges[-num_tests:, :]\n",
    "lp_test_neg_dsts = np.random.randint(0, num_nodes, (num_tests, 10)).reshape(-1)\n",
    "lp_test_neg_srcs = np.repeat(lp_test_seeds[:,0], 10)\n",
    "lp_test_neg_seeds = np.concatenate((lp_test_neg_srcs, lp_test_neg_dsts)).reshape(2,-1).T\n",
    "lp_test_seeds = np.concatenate((lp_test_seeds, lp_test_neg_seeds))\n",
    "print(f\"Part of test seeds for link prediction: {lp_test_seeds[:3]}\")\n",
    "np.save(lp_test_seeds_path, lp_test_seeds)\n",
    "print(f\"LP test seeds are saved to {lp_test_seeds_path}\\n\")\n",
    "\n",
    "lp_test_labels_path = os.path.join(base_dir, \"lp-test-labels.npy\")\n",
    "lp_test_labels = np.empty(num_tests * (10 + 1))\n",
    "lp_test_labels[:num_tests] = 1\n",
    "lp_test_labels[num_tests:] = 0\n",
    "print(f\"Part of val labels for link prediction: {lp_test_labels[:3]}\")\n",
    "np.save(lp_test_labels_path, lp_test_labels)\n",
    "print(f\"LP test labels are saved to {lp_test_labels_path}\\n\")\n",
    "\n",
    "lp_test_indexes_path = os.path.join(base_dir, \"lp-test-indexes.npy\")\n",
    "lp_test_indexes = np.arange(0, num_tests)\n",
    "lp_test_neg_indexes = np.repeat(lp_test_indexes, 10)\n",
    "lp_test_indexes = np.concatenate([lp_test_indexes, lp_test_neg_indexes])\n",
    "print(f\"Part of test indexes for link prediction: {lp_test_indexes[:3]}\")\n",
    "np.save(lp_test_indexes_path, lp_test_indexes)\n",
    "print(f\"LP test indexes are saved to {lp_test_indexes_path}\\n\")"
   ]
  },
  {
   "cell_type": "markdown",
   "metadata": {
    "id": "wbk6-wxRK-6S"
   },
   "source": [
    "## Organize Data into YAML File\n",
    "Now we need to create a `metadata.yaml` file which contains the paths, dadta types of graph structure, feature data, training/validation/test sets.\n",
    "\n",
    "Notes:\n",
    "- all path should be relative to `metadata.yaml`.\n",
    "- Below fields are optional and not specified in below example.\n",
    "  - `in_memory`: indicates whether to load dada into memory or `mmap`. Default is `True`.\n",
    "\n",
    "Please refer to [YAML specification](https://github.com/dmlc/dgl/blob/master/docs/source/stochastic_training/ondisk-dataset-specification.rst) for more details."
   ]
  },
  {
   "cell_type": "code",
   "execution_count": 7,
   "metadata": {
    "execution": {
     "iopub.execute_input": "2024-10-26T13:27:37.502263Z",
     "iopub.status.busy": "2024-10-26T13:27:37.501657Z",
     "iopub.status.idle": "2024-10-26T13:27:37.507858Z",
     "shell.execute_reply": "2024-10-26T13:27:37.507161Z"
    },
    "id": "ddGTWW61Lpwp"
   },
   "outputs": [],
   "source": [
    "yaml_content = f\"\"\"\n",
    "    dataset_name: homogeneous_graph_nc_lp\n",
    "    graph:\n",
    "      nodes:\n",
    "        - num: {num_nodes}\n",
    "      edges:\n",
    "        - format: csv\n",
    "          path: {os.path.basename(edges_path)}\n",
    "    feature_data:\n",
    "      - domain: node\n",
    "        name: feat_0\n",
    "        format: numpy\n",
    "        path: {os.path.basename(node_feat_0_path)}\n",
    "      - domain: node\n",
    "        name: feat_1\n",
    "        format: torch\n",
    "        path: {os.path.basename(node_feat_1_path)}\n",
    "      - domain: edge\n",
    "        name: feat_0\n",
    "        format: numpy\n",
    "        path: {os.path.basename(edge_feat_0_path)}\n",
    "      - domain: edge\n",
    "        name: feat_1\n",
    "        format: torch\n",
    "        path: {os.path.basename(edge_feat_1_path)}\n",
    "    tasks:\n",
    "      - name: node_classification\n",
    "        num_classes: 10\n",
    "        train_set:\n",
    "          - data:\n",
    "              - name: seeds\n",
    "                format: numpy\n",
    "                path: {os.path.basename(nc_train_ids_path)}\n",
    "              - name: labels\n",
    "                format: torch\n",
    "                path: {os.path.basename(nc_train_labels_path)}\n",
    "        validation_set:\n",
    "          - data:\n",
    "              - name: seeds\n",
    "                format: numpy\n",
    "                path: {os.path.basename(nc_val_ids_path)}\n",
    "              - name: labels\n",
    "                format: torch\n",
    "                path: {os.path.basename(nc_val_labels_path)}\n",
    "        test_set:\n",
    "          - data:\n",
    "              - name: seeds\n",
    "                format: numpy\n",
    "                path: {os.path.basename(nc_test_ids_path)}\n",
    "              - name: labels\n",
    "                format: torch\n",
    "                path: {os.path.basename(nc_test_labels_path)}\n",
    "      - name: link_prediction\n",
    "        num_classes: 10\n",
    "        train_set:\n",
    "          - data:\n",
    "              - name: seeds\n",
    "                format: numpy\n",
    "                path: {os.path.basename(lp_train_seeds_path)}\n",
    "        validation_set:\n",
    "          - data:\n",
    "              - name: seeds\n",
    "                format: numpy\n",
    "                path: {os.path.basename(lp_val_seeds_path)}\n",
    "              - name: labels\n",
    "                format: numpy\n",
    "                path: {os.path.basename(lp_val_labels_path)}\n",
    "              - name: indexes\n",
    "                format: numpy\n",
    "                path: {os.path.basename(lp_val_indexes_path)}\n",
    "        test_set:\n",
    "          - data:\n",
    "              - name: seeds\n",
    "                format: numpy\n",
    "                path: {os.path.basename(lp_test_seeds_path)}\n",
    "              - name: labels\n",
    "                format: numpy\n",
    "                path: {os.path.basename(lp_test_labels_path)}\n",
    "              - name: indexes\n",
    "                format: numpy\n",
    "                path: {os.path.basename(lp_test_indexes_path)}\n",
    "\"\"\"\n",
    "metadata_path = os.path.join(base_dir, \"metadata.yaml\")\n",
    "with open(metadata_path, \"w\") as f:\n",
    "  f.write(yaml_content)"
   ]
  },
  {
   "cell_type": "markdown",
   "metadata": {
    "id": "kEfybHGhOW7O"
   },
   "source": [
    "## Instantiate `OnDiskDataset`\n",
    "Now we're ready to load dataset via `dgl.graphbolt.OnDiskDataset`. When instantiating, we just pass in the base directory where `metadata.yaml` file lies.\n",
    "\n",
    "During first instantiation, GraphBolt preprocesses the raw data such as constructing `FusedCSCSamplingGraph` from edges. All data including graph, feature data, training/validation/test sets are put into `preprocessed` directory after preprocessing. Any following dataset loading will skip the preprocess stage.\n",
    "\n",
    "After preprocessing, `load()` is required to be called explicitly in order to load graph, feature data and tasks."
   ]
  },
  {
   "cell_type": "code",
   "execution_count": 8,
   "metadata": {
    "execution": {
     "iopub.execute_input": "2024-10-26T13:27:37.510355Z",
     "iopub.status.busy": "2024-10-26T13:27:37.509959Z",
     "iopub.status.idle": "2024-10-26T13:27:37.574341Z",
     "shell.execute_reply": "2024-10-26T13:27:37.573761Z"
    },
    "id": "W58CZoSzOiyo"
   },
   "outputs": [
    {
     "name": "stdout",
     "output_type": "stream",
     "text": [
      "Start to preprocess the on-disk dataset.\n",
      "Finish preprocessing the on-disk dataset.\n",
      "Loaded graph: FusedCSCSamplingGraph(csc_indptr=tensor([    0,    13,    25,  ...,  9976,  9985, 10000], dtype=torch.int32),\n",
      "                      indices=tensor([648, 346,  80,  ..., 205, 898, 778], dtype=torch.int32),\n",
      "                      total_num_nodes=1000, num_edges=10000,)\n",
      "\n",
      "Loaded feature store: TorchBasedFeatureStore(\n",
      "    {(<OnDiskFeatureDataDomain.NODE: 'node'>, None, 'feat_0'): TorchBasedFeature(\n",
      "        feature=tensor([[0.5026, 0.0119, 0.4148, 0.0513, 0.9049],\n",
      "                        [0.8798, 0.0164, 0.5670, 0.6291, 0.2836],\n",
      "                        [0.2328, 0.1661, 0.1281, 0.4699, 0.1450],\n",
      "                        ...,\n",
      "                        [0.7503, 0.7662, 0.0203, 0.7405, 0.4290],\n",
      "                        [0.6674, 0.9964, 0.9891, 0.6691, 0.1958],\n",
      "                        [0.2140, 0.2307, 0.0603, 0.6633, 0.3468]], dtype=torch.float64),\n",
      "        metadata={},\n",
      "    ), (<OnDiskFeatureDataDomain.NODE: 'node'>, None, 'feat_1'): TorchBasedFeature(\n",
      "        feature=tensor([[0.0456, 0.3237, 0.8012, 0.1189, 0.5789],\n",
      "                        [0.8253, 0.4074, 0.9238, 0.5285, 0.4501],\n",
      "                        [0.8690, 0.2811, 0.9841, 0.0307, 0.2398],\n",
      "                        ...,\n",
      "                        [0.1837, 0.3722, 0.0730, 0.6024, 0.2269],\n",
      "                        [0.1499, 0.4754, 0.6872, 0.4094, 0.2701],\n",
      "                        [0.4774, 0.8225, 0.3778, 0.5965, 0.7453]]),\n",
      "        metadata={},\n",
      "    ), (<OnDiskFeatureDataDomain.EDGE: 'edge'>, None, 'feat_0'): TorchBasedFeature(\n",
      "        feature=tensor([[0.4860, 0.4248, 0.5436, 0.0139, 0.2202],\n",
      "                        [0.3425, 0.7676, 0.5507, 0.8316, 0.7896],\n",
      "                        [0.4066, 0.5859, 0.2245, 0.7302, 0.0169],\n",
      "                        ...,\n",
      "                        [0.5610, 0.5351, 0.6068, 0.0876, 0.1157],\n",
      "                        [0.5165, 0.1908, 0.3317, 0.4259, 0.5420],\n",
      "                        [0.2488, 0.4571, 0.2274, 0.3503, 0.7175]], dtype=torch.float64),\n",
      "        metadata={},\n",
      "    ), (<OnDiskFeatureDataDomain.EDGE: 'edge'>, None, 'feat_1'): TorchBasedFeature(\n",
      "        feature=tensor([[0.2169, 0.5408, 0.7055, 0.5599, 0.1695],\n",
      "                        [0.7306, 0.8442, 0.3479, 0.0653, 0.9061],\n",
      "                        [0.4564, 0.6109, 0.6713, 0.6228, 0.0688],\n",
      "                        ...,\n",
      "                        [0.1973, 0.8318, 0.3694, 0.3652, 0.2933],\n",
      "                        [0.0689, 0.6419, 0.2550, 0.3420, 0.4138],\n",
      "                        [0.2176, 0.3918, 0.4815, 0.4020, 0.4933]]),\n",
      "        metadata={},\n",
      "    )}\n",
      ")\n",
      "\n",
      "Loaded node classification task: OnDiskTask(validation_set=ItemSet(\n",
      "               items=(tensor([460, 468, 362, 461,  27,  64, 780, 274, 771, 976, 600, 290, 323, 475,\n",
      "                   753, 801, 652, 184, 738, 280, 562, 696, 823, 171, 605, 473, 232, 498,\n",
      "                   893,  99, 535, 321, 266, 263, 207, 534, 839, 370, 646, 106, 396, 774,\n",
      "                   116,  44, 135, 829, 679, 690, 983, 403,   7, 828, 399,  38, 501,  90,\n",
      "                   663, 715, 846, 972, 782, 800, 855, 656, 141, 111,  23, 945, 838, 218,\n",
      "                   702, 635, 558, 340, 885, 155, 611, 666, 455, 917, 570, 634, 737, 806,\n",
      "                   967, 812, 485, 998, 156, 267, 928, 575, 655, 820, 328, 256, 744, 414,\n",
      "                   711, 381, 613, 459,  93, 748, 409,  85, 640, 526, 211, 448,   5, 391,\n",
      "                   201, 921, 217, 428, 926, 222, 491, 665, 464,  63, 319, 586, 777, 581,\n",
      "                   932, 406,  60,   6, 954, 108, 230, 160, 861, 689, 614, 997, 437, 389,\n",
      "                   131, 148,  25, 880, 539, 756, 181,   3, 731, 866, 755, 412, 197, 706,\n",
      "                   471, 126, 550,  76, 888, 261, 305, 664, 627, 538, 604,  81, 894, 490,\n",
      "                   638,  82, 964, 863, 373, 316, 734, 228, 497, 750,  10, 339, 147, 931,\n",
      "                   185, 909, 546, 695, 380, 118,  67, 286, 990, 644, 238, 952, 725, 344,\n",
      "                   525, 904, 341, 134], dtype=torch.int32), tensor([9, 9, 4, 1, 9, 9, 4, 0, 1, 6, 0, 3, 4, 6, 9, 3, 7, 1, 9, 5, 7, 4, 0, 0,\n",
      "                   7, 1, 1, 8, 0, 6, 8, 7, 6, 9, 7, 6, 4, 6, 8, 7, 6, 4, 3, 9, 2, 2, 8, 6,\n",
      "                   6, 0, 4, 3, 7, 5, 2, 4, 4, 6, 5, 3, 3, 6, 2, 1, 8, 4, 7, 1, 0, 8, 5, 0,\n",
      "                   8, 1, 0, 0, 6, 1, 3, 2, 2, 6, 8, 5, 2, 4, 5, 3, 6, 6, 5, 5, 0, 7, 1, 9,\n",
      "                   8, 4, 3, 2, 4, 6, 6, 2, 7, 1, 6, 0, 6, 4, 3, 8, 4, 0, 1, 2, 7, 8, 2, 3,\n",
      "                   7, 8, 0, 9, 7, 0, 5, 3, 0, 3, 0, 9, 0, 5, 7, 2, 9, 4, 3, 6, 0, 2, 3, 9,\n",
      "                   2, 7, 8, 9, 0, 1, 1, 4, 2, 1, 5, 0, 7, 3, 0, 2, 8, 5, 6, 7, 5, 7, 9, 3,\n",
      "                   5, 3, 8, 1, 1, 7, 5, 4, 6, 7, 2, 7, 9, 8, 3, 4, 8, 0, 2, 5, 3, 8, 6, 3,\n",
      "                   0, 8, 8, 4, 9, 3, 8, 7])),\n",
      "               names=('seeds', 'labels'),\n",
      "           ),\n",
      "           train_set=ItemSet(\n",
      "               items=(tensor([500, 786, 152, 766, 325, 877, 517, 163, 811, 182, 283, 176, 747, 973,\n",
      "                   549, 444, 302, 186, 529, 783, 545, 246, 532, 401, 688,  41, 258,  20,\n",
      "                   966, 198, 895,  40,  83, 343, 853,  28, 383, 159, 881, 919, 620, 621,\n",
      "                   698, 713, 413, 765, 248, 793, 551, 802, 907, 292, 291, 618, 404, 759,\n",
      "                   704, 995,  11, 375, 259, 219, 903, 775, 726, 847, 216, 582, 637, 536,\n",
      "                   369, 683, 583, 236,  77, 384, 703, 701,  53, 910, 122, 137, 789,   8,\n",
      "                   845, 417, 119, 271, 728, 469, 920, 300, 848, 602, 625, 366, 483, 897,\n",
      "                   784, 955, 158, 502, 433, 425, 150, 241, 721, 115, 113, 175, 832, 541,\n",
      "                   785, 382, 143, 132,   4, 480, 958, 486, 661, 569,  73, 908, 815, 127,\n",
      "                   239, 794, 139, 836,   9, 199,  52, 778, 987,  35,  57, 254, 542, 624,\n",
      "                   234, 516, 388, 805, 282, 275, 629, 669, 495, 250, 114, 681,  96, 284,\n",
      "                   125, 651, 573, 884, 764, 878, 349, 420,  56, 936, 835, 833, 499, 971,\n",
      "                   390, 864, 333, 312, 915, 816, 710, 720, 825, 722, 754, 874, 327, 763,\n",
      "                   273, 988, 617, 547, 462, 687, 762,  55, 510, 348, 435, 326, 865, 395,\n",
      "                   571, 773, 272, 986, 204, 385, 295,  78,  51,  13, 121,  15, 179, 443,\n",
      "                   678, 631, 889, 916, 577, 439, 307,  17, 474, 615, 212, 714,  39, 978,\n",
      "                   574, 418, 353, 842,  84, 296, 930,  54, 572, 109, 834, 927, 770, 354,\n",
      "                   520, 873, 963, 630,  29, 162, 949, 641, 192, 563, 587, 576, 247, 699,\n",
      "                   214, 632, 896, 107, 591, 249, 262, 194, 533, 924, 590, 708, 434, 751,\n",
      "                   494, 830, 476, 518,  65, 791, 821, 824, 164, 314, 240, 482, 252, 594,\n",
      "                   521, 913, 827, 440, 818, 255,  59, 843,  98,  86, 803, 886, 578, 166,\n",
      "                   527, 334, 826, 405, 149, 506, 144, 463,  79, 851, 514, 429, 397, 890,\n",
      "                   933, 837, 268,  22, 438, 772, 977, 347, 850, 779, 133, 293, 331,  95,\n",
      "                   276, 619, 743, 912, 643, 553, 790, 364, 233, 552, 277, 188, 996,  45,\n",
      "                   673, 394, 313, 358, 876, 351, 402,  72, 543, 177, 436, 335, 318, 477,\n",
      "                   231, 467, 322, 423, 504, 329,  12, 226,  68, 478, 298, 902,  19,  34,\n",
      "                   879, 768, 128, 905, 982, 709, 968, 797, 623, 223, 981, 994, 330, 831,\n",
      "                   215, 515, 360, 746, 680, 488, 607, 705, 299, 213, 934, 560, 868, 650,\n",
      "                   503, 808, 657, 173, 724, 580, 741, 612, 359, 925, 814, 161, 792, 565,\n",
      "                   386, 392, 810, 103, 929, 265, 668, 844, 447, 639, 561, 285, 138, 943,\n",
      "                   393, 593, 287,  74, 346, 946, 224, 556,  36,  92, 822, 427, 959, 985,\n",
      "                   684, 415, 376, 336, 124, 548, 145, 742, 260, 523,  43, 654, 451, 374,\n",
      "                   555, 278, 531, 193, 597, 948, 426, 566, 210, 991, 281,  61, 104, 901,\n",
      "                   345, 606,  50, 229, 225, 167, 691, 493, 540, 939, 993,  21, 956, 911,\n",
      "                   760, 675, 317, 603, 682,  48, 458, 524, 168,  80, 508, 530, 667, 752,\n",
      "                   378, 308,  94, 887, 559, 862, 974, 195, 507, 719, 387, 269, 140, 505,\n",
      "                   170, 492, 522, 221, 189,  24, 172, 676, 235, 804, 441, 454, 662, 487,\n",
      "                   979, 309, 424, 672, 736,  47, 647, 350, 608, 190, 840, 906, 732, 585,\n",
      "                   875, 568, 297,  46, 408, 677, 191, 947, 854, 196, 157, 257,  26, 398,\n",
      "                   355, 564, 923, 371, 206, 324, 781, 419,   2, 243, 310, 528, 136, 352,\n",
      "                   938, 969, 670, 102, 799,  42, 567, 700, 819, 203, 659, 788, 712, 512,\n",
      "                   372, 883, 311, 537, 730, 237, 453, 882, 937, 332, 470, 338,  58, 294,\n",
      "                   787, 320, 960, 304, 891, 813, 674, 120, 169, 592, 616, 596],\n",
      "                  dtype=torch.int32), tensor([3, 0, 6, 6, 4, 4, 9, 0, 3, 9, 6, 5, 2, 1, 4, 4, 4, 9, 2, 9, 6, 1, 4, 0,\n",
      "                   7, 6, 4, 3, 6, 3, 4, 6, 8, 0, 6, 8, 0, 0, 7, 5, 2, 6, 5, 9, 2, 1, 9, 0,\n",
      "                   5, 6, 4, 5, 6, 6, 6, 7, 1, 3, 3, 9, 5, 9, 1, 5, 2, 6, 0, 8, 6, 4, 1, 1,\n",
      "                   8, 9, 9, 5, 5, 6, 6, 5, 1, 4, 4, 8, 7, 7, 7, 9, 4, 0, 0, 1, 3, 7, 9, 6,\n",
      "                   5, 0, 4, 6, 8, 5, 4, 8, 1, 4, 4, 4, 9, 1, 7, 5, 9, 9, 7, 3, 6, 9, 3, 0,\n",
      "                   5, 4, 5, 4, 5, 6, 7, 5, 3, 4, 6, 5, 4, 7, 3, 5, 1, 3, 5, 6, 4, 6, 0, 1,\n",
      "                   5, 7, 2, 2, 3, 9, 1, 3, 0, 1, 7, 5, 3, 4, 1, 8, 7, 4, 1, 0, 1, 1, 9, 6,\n",
      "                   7, 1, 5, 6, 7, 1, 1, 9, 7, 8, 8, 3, 4, 0, 1, 8, 9, 4, 8, 4, 3, 9, 6, 3,\n",
      "                   8, 1, 2, 8, 4, 5, 3, 5, 1, 9, 5, 3, 2, 9, 2, 7, 8, 8, 8, 8, 0, 0, 4, 9,\n",
      "                   5, 5, 4, 1, 7, 4, 4, 3, 7, 9, 1, 3, 9, 5, 8, 2, 2, 6, 9, 6, 5, 2, 3, 4,\n",
      "                   0, 3, 3, 0, 9, 4, 5, 2, 3, 9, 8, 6, 2, 5, 8, 7, 5, 6, 7, 7, 4, 5, 0, 4,\n",
      "                   1, 7, 8, 1, 5, 0, 0, 9, 9, 7, 2, 6, 8, 9, 9, 4, 0, 4, 3, 3, 1, 8, 9, 5,\n",
      "                   1, 5, 3, 1, 5, 7, 0, 0, 0, 0, 0, 4, 6, 3, 5, 6, 4, 5, 2, 5, 4, 0, 7, 5,\n",
      "                   8, 0, 9, 1, 9, 0, 0, 1, 6, 3, 8, 4, 3, 7, 7, 4, 9, 4, 4, 5, 2, 8, 6, 0,\n",
      "                   5, 9, 9, 7, 6, 6, 7, 6, 3, 0, 8, 8, 0, 2, 8, 1, 0, 9, 0, 1, 4, 1, 3, 6,\n",
      "                   3, 6, 9, 1, 4, 6, 2, 3, 4, 5, 5, 3, 9, 9, 1, 1, 3, 3, 1, 4, 6, 8, 8, 9,\n",
      "                   9, 6, 9, 8, 6, 7, 5, 0, 9, 5, 5, 3, 9, 5, 2, 8, 3, 7, 6, 0, 1, 6, 3, 8,\n",
      "                   8, 6, 9, 3, 8, 3, 0, 5, 8, 2, 7, 4, 4, 2, 1, 0, 5, 8, 9, 3, 0, 4, 0, 7,\n",
      "                   4, 7, 0, 1, 9, 3, 6, 5, 7, 6, 6, 1, 5, 4, 5, 7, 7, 2, 1, 2, 9, 7, 7, 7,\n",
      "                   0, 5, 0, 9, 0, 7, 4, 7, 9, 0, 6, 1, 2, 6, 6, 5, 2, 7, 0, 5, 3, 2, 7, 6,\n",
      "                   3, 0, 6, 7, 0, 0, 2, 6, 9, 6, 5, 0, 0, 0, 0, 5, 5, 0, 4, 1, 1, 8, 4, 1,\n",
      "                   8, 7, 7, 6, 5, 1, 2, 4, 2, 2, 1, 6, 5, 8, 2, 2, 3, 5, 0, 7, 5, 4, 1, 8,\n",
      "                   0, 2, 8, 9, 7, 9, 5, 5, 2, 3, 3, 7, 1, 9, 4, 2, 6, 8, 0, 7, 7, 9, 3, 7,\n",
      "                   2, 4, 5, 2, 5, 8, 8, 5, 8, 7, 0, 0, 0, 0, 8, 0, 5, 6, 8, 5, 9, 7, 1, 2,\n",
      "                   2, 4, 3, 8, 2, 2, 6, 3, 5, 9, 9, 5, 5, 9, 0, 8, 1, 3, 9, 6, 5, 1, 9, 1])),\n",
      "               names=('seeds', 'labels'),\n",
      "           ),\n",
      "           test_set=ItemSet(\n",
      "               items=(tensor([622, 400, 961, 642, 519, 860, 645, 446, 142, 146, 999, 626, 694, 757,\n",
      "                   130, 554, 432, 511, 101,  18, 431, 807, 357, 200, 856, 595, 733, 658,\n",
      "                   953, 717, 653, 410, 356, 445, 723, 100, 466,  87, 660, 636, 365, 729,\n",
      "                   242, 648, 129, 935, 584, 749, 112, 992,  91,  75, 337,   1, 914, 303,\n",
      "                   244, 798, 484, 442,  71, 918, 180, 980, 208, 649, 245, 416,   0, 951,\n",
      "                   718, 363,  62, 758, 869, 174, 279,  32, 481, 965, 153, 379, 183, 707,\n",
      "                   165, 769, 870, 871, 407,  89, 270, 671,  37,  16, 892, 740, 154, 852,\n",
      "                   922, 457, 944, 745, 422, 975, 450, 962, 872, 950, 411, 557, 289, 809,\n",
      "                   692, 970, 588, 178, 867, 472, 693, 315,  66,  30, 489,  88, 187, 900,\n",
      "                   105, 957, 342, 796, 513, 253, 942, 227, 110, 941, 940, 456,  14, 117,\n",
      "                   776, 628, 610, 496, 421, 465, 430, 686, 449, 735, 479, 599, 601, 264,\n",
      "                   220, 544,  31, 697, 509, 579, 361, 251, 795,  33, 452, 123, 859, 209,\n",
      "                   841, 598, 767, 817, 609, 205, 301, 849, 989, 984, 589, 288, 151,  49,\n",
      "                   899, 633, 202, 368, 377,  70, 761, 739, 685, 367, 716, 858, 306, 727,\n",
      "                    97,  69, 857, 898], dtype=torch.int32), tensor([0, 8, 5, 4, 8, 7, 9, 2, 2, 0, 4, 2, 5, 0, 3, 7, 4, 2, 7, 1, 3, 6, 6, 1,\n",
      "                   2, 6, 1, 1, 7, 1, 4, 3, 4, 6, 5, 6, 7, 7, 0, 1, 8, 2, 4, 1, 1, 5, 1, 8,\n",
      "                   8, 7, 0, 1, 2, 6, 8, 7, 6, 3, 4, 4, 6, 2, 6, 3, 2, 0, 4, 4, 1, 0, 4, 7,\n",
      "                   9, 9, 1, 7, 1, 5, 8, 5, 3, 5, 3, 3, 2, 4, 5, 7, 3, 9, 1, 5, 4, 5, 7, 2,\n",
      "                   0, 6, 0, 9, 0, 5, 5, 4, 3, 3, 0, 1, 7, 4, 4, 8, 7, 9, 1, 5, 1, 7, 5, 2,\n",
      "                   5, 8, 5, 3, 3, 6, 2, 9, 0, 9, 1, 2, 7, 5, 6, 9, 4, 4, 5, 0, 8, 4, 0, 2,\n",
      "                   4, 7, 4, 7, 1, 2, 3, 4, 0, 8, 2, 2, 9, 1, 3, 1, 9, 3, 7, 8, 1, 5, 1, 5,\n",
      "                   7, 8, 8, 3, 1, 1, 0, 2, 4, 0, 0, 2, 9, 7, 2, 0, 5, 2, 1, 5, 3, 6, 7, 3,\n",
      "                   2, 3, 9, 0, 5, 6, 8, 8])),\n",
      "               names=('seeds', 'labels'),\n",
      "           ),\n",
      "           metadata={'name': 'node_classification', 'num_classes': 10},)\n",
      "\n",
      "Loaded link prediction task: OnDiskTask(validation_set=ItemSet(\n",
      "               items=(tensor([[455, 575],\n",
      "                   [225, 372],\n",
      "                   [580, 156],\n",
      "                   ...,\n",
      "                   [843, 618],\n",
      "                   [843,  61],\n",
      "                   [843, 473]], dtype=torch.int32), tensor([1., 1., 1.,  ..., 0., 0., 0.], dtype=torch.float64), tensor([   0,    1,    2,  ..., 1999, 1999, 1999])),\n",
      "               names=('seeds', 'labels', 'indexes'),\n",
      "           ),\n",
      "           train_set=ItemSet(\n",
      "               items=(tensor([[739, 626],\n",
      "                   [113, 167],\n",
      "                   [421, 152],\n",
      "                   ...,\n",
      "                   [171, 378],\n",
      "                   [242, 691],\n",
      "                   [543, 588]], dtype=torch.int32),),\n",
      "               names=('seeds',),\n",
      "           ),\n",
      "           test_set=ItemSet(\n",
      "               items=(tensor([[520, 124],\n",
      "                   [803, 320],\n",
      "                   [606, 118],\n",
      "                   ...,\n",
      "                   [372, 267],\n",
      "                   [372, 629],\n",
      "                   [372,  73]], dtype=torch.int32), tensor([1., 1., 1.,  ..., 0., 0., 0.], dtype=torch.float64), tensor([   0,    1,    2,  ..., 1999, 1999, 1999])),\n",
      "               names=('seeds', 'labels', 'indexes'),\n",
      "           ),\n",
      "           metadata={'name': 'link_prediction', 'num_classes': 10},)\n",
      "\n"
     ]
    },
    {
     "name": "stderr",
     "output_type": "stream",
     "text": [
      "/dgl/python/dgl/graphbolt/impl/ondisk_dataset.py:463: GBWarning: Edge feature is stored, but edge IDs are not saved.\n",
      "  gb_warning(\"Edge feature is stored, but edge IDs are not saved.\")\n"
     ]
    }
   ],
   "source": [
    "dataset = gb.OnDiskDataset(base_dir).load()\n",
    "graph = dataset.graph\n",
    "print(f\"Loaded graph: {graph}\\n\")\n",
    "\n",
    "feature = dataset.feature\n",
    "print(f\"Loaded feature store: {feature}\\n\")\n",
    "\n",
    "tasks = dataset.tasks\n",
    "nc_task = tasks[0]\n",
    "print(f\"Loaded node classification task: {nc_task}\\n\")\n",
    "lp_task = tasks[1]\n",
    "print(f\"Loaded link prediction task: {lp_task}\\n\")"
   ]
  }
 ],
 "metadata": {
  "colab": {
   "private_outputs": true,
   "provenance": []
  },
  "kernelspec": {
   "display_name": "Python 3",
   "name": "python3"
  },
  "language_info": {
   "codemirror_mode": {
    "name": "ipython",
    "version": 3
   },
   "file_extension": ".py",
   "mimetype": "text/x-python",
   "name": "python",
   "nbconvert_exporter": "python",
   "pygments_lexer": "ipython3",
   "version": "3.10.15"
  }
 },
 "nbformat": 4,
 "nbformat_minor": 0
}

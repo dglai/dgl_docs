{
 "cells": [
  {
   "cell_type": "markdown",
   "metadata": {
    "id": "FnFhPMaAfLtJ"
   },
   "source": [
    "# OnDiskDataset for Homogeneous Graph\n",
    "\n",
    "[![Open In Colab](https://colab.research.google.com/assets/colab-badge.svg)](https://colab.research.google.com/github/dmlc/dgl/blob/master/notebooks/stochastic_training/ondisk_dataset_homograph.ipynb) [![GitHub](https://img.shields.io/badge/-View%20on%20GitHub-181717?logo=github&logoColor=ffffff)](https://github.com/dmlc/dgl/blob/master/notebooks/stochastic_training/ondisk_dataset_homograph.ipynb)\n",
    "\n",
    "This tutorial shows how to create `OnDiskDataset` for homogeneous graph that could be used in **GraphBolt** framework.\n",
    "\n",
    "By the end of this tutorial, you will be able to\n",
    "\n",
    "- organize graph structure data.\n",
    "- organize feature data.\n",
    "- organize training/validation/test set for specific tasks.\n",
    "\n",
    "To create an ``OnDiskDataset`` object, you need to organize all the data including graph structure, feature data and tasks into a directory. The directory should contain a ``metadata.yaml`` file that describes the metadata of the dataset.\n",
    "\n",
    "Now let's generate various data step by step and organize them together to instantiate `OnDiskDataset` finally."
   ]
  },
  {
   "cell_type": "markdown",
   "metadata": {
    "id": "Wlb19DtWgtzq"
   },
   "source": [
    "## Install DGL package"
   ]
  },
  {
   "cell_type": "code",
   "execution_count": 1,
   "metadata": {
    "execution": {
     "iopub.execute_input": "2024-08-20T07:25:34.126839Z",
     "iopub.status.busy": "2024-08-20T07:25:34.126418Z",
     "iopub.status.idle": "2024-08-20T07:25:38.015762Z",
     "shell.execute_reply": "2024-08-20T07:25:38.014976Z"
    },
    "id": "UojlT9ZGgyr9"
   },
   "outputs": [
    {
     "name": "stdout",
     "output_type": "stream",
     "text": [
      "Looking in links: https://data.dgl.ai/wheels-test/repo.html\r\n",
      "Requirement already satisfied: dgl in /opt/conda/envs/dgl-dev-cpu/lib/python3.10/site-packages (2.2a240410)\r\n",
      "Requirement already satisfied: numpy>=1.14.0 in /opt/conda/envs/dgl-dev-cpu/lib/python3.10/site-packages (from dgl) (1.26.4)\r\n",
      "Requirement already satisfied: scipy>=1.1.0 in /opt/conda/envs/dgl-dev-cpu/lib/python3.10/site-packages (from dgl) (1.14.0)\r\n",
      "Requirement already satisfied: networkx>=2.1 in /opt/conda/envs/dgl-dev-cpu/lib/python3.10/site-packages (from dgl) (3.3)\r\n",
      "Requirement already satisfied: requests>=2.19.0 in /opt/conda/envs/dgl-dev-cpu/lib/python3.10/site-packages (from dgl) (2.32.3)\r\n",
      "Requirement already satisfied: tqdm in /opt/conda/envs/dgl-dev-cpu/lib/python3.10/site-packages (from dgl) (4.66.5)\r\n",
      "Requirement already satisfied: psutil>=5.8.0 in /opt/conda/envs/dgl-dev-cpu/lib/python3.10/site-packages (from dgl) (6.0.0)\r\n",
      "Requirement already satisfied: torchdata>=0.5.0 in /opt/conda/envs/dgl-dev-cpu/lib/python3.10/site-packages (from dgl) (0.7.1+6427ed9)\r\n",
      "Requirement already satisfied: pandas in /opt/conda/envs/dgl-dev-cpu/lib/python3.10/site-packages (from dgl) (2.2.2)\r\n",
      "Requirement already satisfied: charset-normalizer<4,>=2 in /opt/conda/envs/dgl-dev-cpu/lib/python3.10/site-packages (from requests>=2.19.0->dgl) (3.3.2)\r\n",
      "Requirement already satisfied: idna<4,>=2.5 in /opt/conda/envs/dgl-dev-cpu/lib/python3.10/site-packages (from requests>=2.19.0->dgl) (3.7)\r\n",
      "Requirement already satisfied: urllib3<3,>=1.21.1 in /opt/conda/envs/dgl-dev-cpu/lib/python3.10/site-packages (from requests>=2.19.0->dgl) (2.2.2)\r\n",
      "Requirement already satisfied: certifi>=2017.4.17 in /opt/conda/envs/dgl-dev-cpu/lib/python3.10/site-packages (from requests>=2.19.0->dgl) (2024.7.4)\r\n",
      "Requirement already satisfied: torch>=2 in /opt/conda/envs/dgl-dev-cpu/lib/python3.10/site-packages (from torchdata>=0.5.0->dgl) (2.1.0+cpu)\r\n"
     ]
    },
    {
     "name": "stdout",
     "output_type": "stream",
     "text": [
      "Requirement already satisfied: python-dateutil>=2.8.2 in /opt/conda/envs/dgl-dev-cpu/lib/python3.10/site-packages (from pandas->dgl) (2.9.0.post0)\r\n",
      "Requirement already satisfied: pytz>=2020.1 in /opt/conda/envs/dgl-dev-cpu/lib/python3.10/site-packages (from pandas->dgl) (2024.1)\r\n",
      "Requirement already satisfied: tzdata>=2022.7 in /opt/conda/envs/dgl-dev-cpu/lib/python3.10/site-packages (from pandas->dgl) (2024.1)\r\n",
      "Requirement already satisfied: six>=1.5 in /opt/conda/envs/dgl-dev-cpu/lib/python3.10/site-packages (from python-dateutil>=2.8.2->pandas->dgl) (1.16.0)\r\n",
      "Requirement already satisfied: filelock in /opt/conda/envs/dgl-dev-cpu/lib/python3.10/site-packages (from torch>=2->torchdata>=0.5.0->dgl) (3.15.4)\r\n",
      "Requirement already satisfied: typing-extensions in /opt/conda/envs/dgl-dev-cpu/lib/python3.10/site-packages (from torch>=2->torchdata>=0.5.0->dgl) (4.12.2)\r\n",
      "Requirement already satisfied: sympy in /opt/conda/envs/dgl-dev-cpu/lib/python3.10/site-packages (from torch>=2->torchdata>=0.5.0->dgl) (1.13.2)\r\n",
      "Requirement already satisfied: jinja2 in /opt/conda/envs/dgl-dev-cpu/lib/python3.10/site-packages (from torch>=2->torchdata>=0.5.0->dgl) (3.1.4)\r\n",
      "Requirement already satisfied: fsspec in /opt/conda/envs/dgl-dev-cpu/lib/python3.10/site-packages (from torch>=2->torchdata>=0.5.0->dgl) (2024.6.1)\r\n"
     ]
    },
    {
     "name": "stdout",
     "output_type": "stream",
     "text": [
      "Requirement already satisfied: MarkupSafe>=2.0 in /opt/conda/envs/dgl-dev-cpu/lib/python3.10/site-packages (from jinja2->torch>=2->torchdata>=0.5.0->dgl) (2.1.5)\r\n",
      "Requirement already satisfied: mpmath<1.4,>=1.1.0 in /opt/conda/envs/dgl-dev-cpu/lib/python3.10/site-packages (from sympy->torch>=2->torchdata>=0.5.0->dgl) (1.3.0)\r\n"
     ]
    },
    {
     "name": "stdout",
     "output_type": "stream",
     "text": [
      "DGL installed!\n"
     ]
    }
   ],
   "source": [
    "# Install required packages.\n",
    "import os\n",
    "import torch\n",
    "import numpy as np\n",
    "os.environ['TORCH'] = torch.__version__\n",
    "os.environ['DGLBACKEND'] = \"pytorch\"\n",
    "\n",
    "# Install the CPU version.\n",
    "device = torch.device(\"cpu\")\n",
    "!pip install --pre dgl -f https://data.dgl.ai/wheels-test/repo.html\n",
    "\n",
    "try:\n",
    "    import dgl\n",
    "    import dgl.graphbolt as gb\n",
    "    installed = True\n",
    "except ImportError as error:\n",
    "    installed = False\n",
    "    print(error)\n",
    "print(\"DGL installed!\" if installed else \"DGL not found!\")"
   ]
  },
  {
   "cell_type": "markdown",
   "metadata": {
    "id": "2R7WnSbjsfbr"
   },
   "source": [
    "## Data preparation\n",
    "In order to demonstrate how to organize various data, let's create a base directory first."
   ]
  },
  {
   "cell_type": "code",
   "execution_count": 2,
   "metadata": {
    "execution": {
     "iopub.execute_input": "2024-08-20T07:25:38.018814Z",
     "iopub.status.busy": "2024-08-20T07:25:38.018208Z",
     "iopub.status.idle": "2024-08-20T07:25:38.022181Z",
     "shell.execute_reply": "2024-08-20T07:25:38.021581Z"
    },
    "id": "SZipbzyltLfO"
   },
   "outputs": [
    {
     "name": "stdout",
     "output_type": "stream",
     "text": [
      "Created base directory: ./ondisk_dataset_homograph\n"
     ]
    }
   ],
   "source": [
    "base_dir = './ondisk_dataset_homograph'\n",
    "os.makedirs(base_dir, exist_ok=True)\n",
    "print(f\"Created base directory: {base_dir}\")"
   ]
  },
  {
   "cell_type": "markdown",
   "metadata": {
    "id": "qhNtIn_xhlnl"
   },
   "source": [
    "### Generate graph structure data\n",
    "For homogeneous graph, we just need to save edges(namely seeds) into  **Numpy** or **CSV** file.\n",
    "\n",
    "Note:\n",
    "- when saving to **Numpy**, the array requires to be in shape of `(2, N)`. This format is recommended as constructing graph from it is much faster than **CSV** file.\n",
    "- when saving to **CSV** file, do not save index and header.\n"
   ]
  },
  {
   "cell_type": "code",
   "execution_count": 3,
   "metadata": {
    "execution": {
     "iopub.execute_input": "2024-08-20T07:25:38.024643Z",
     "iopub.status.busy": "2024-08-20T07:25:38.024371Z",
     "iopub.status.idle": "2024-08-20T07:25:38.037927Z",
     "shell.execute_reply": "2024-08-20T07:25:38.037239Z"
    },
    "id": "HcBt4G5BmSjr"
   },
   "outputs": [
    {
     "name": "stdout",
     "output_type": "stream",
     "text": [
      "Part of edges: [[794 382]\n",
      " [993 102]\n",
      " [965 951]\n",
      " [156 347]\n",
      " [724 351]]\n",
      "Edges are saved into ./ondisk_dataset_homograph/edges.csv\n"
     ]
    }
   ],
   "source": [
    "import numpy as np\n",
    "import pandas as pd\n",
    "num_nodes = 1000\n",
    "num_edges = 10 * num_nodes\n",
    "edges_path = os.path.join(base_dir, \"edges.csv\")\n",
    "edges = np.random.randint(0, num_nodes, size=(num_edges, 2))\n",
    "\n",
    "print(f\"Part of edges: {edges[:5, :]}\")\n",
    "\n",
    "df = pd.DataFrame(edges)\n",
    "df.to_csv(edges_path, index=False, header=False)\n",
    "\n",
    "print(f\"Edges are saved into {edges_path}\")"
   ]
  },
  {
   "cell_type": "markdown",
   "metadata": {
    "id": "kh-4cPtzpcaH"
   },
   "source": [
    "### Generate feature data for graph\n",
    "For feature data, numpy arrays and torch tensors are supported for now."
   ]
  },
  {
   "cell_type": "code",
   "execution_count": 4,
   "metadata": {
    "execution": {
     "iopub.execute_input": "2024-08-20T07:25:38.040474Z",
     "iopub.status.busy": "2024-08-20T07:25:38.040102Z",
     "iopub.status.idle": "2024-08-20T07:25:38.053604Z",
     "shell.execute_reply": "2024-08-20T07:25:38.053081Z"
    },
    "id": "_PVu1u5brBhF"
   },
   "outputs": [
    {
     "name": "stdout",
     "output_type": "stream",
     "text": [
      "Part of node feature [feat_0]: [[0.02094915 0.68509523 0.64557589 0.15443726 0.93346372]\n",
      " [0.50347074 0.68102769 0.51557142 0.50755094 0.39944365]\n",
      " [0.18190355 0.70771734 0.84457077 0.53096301 0.61112277]]\n",
      "Node feature [feat_0] is saved to ./ondisk_dataset_homograph/node-feat-0.npy\n",
      "\n",
      "Part of node feature [feat_1]: tensor([[0.9642, 0.0793, 0.7767, 0.2609, 0.2231],\n",
      "        [0.9420, 0.2025, 0.9155, 0.7572, 0.0221],\n",
      "        [0.8690, 0.4086, 0.3806, 0.7036, 0.6601]])\n",
      "Node feature [feat_1] is saved to ./ondisk_dataset_homograph/node-feat-1.pt\n",
      "\n",
      "Part of edge feature [feat_0]: [[0.00187914 0.96889441 0.66474621 0.00689601 0.37403164]\n",
      " [0.07395121 0.08040915 0.8589399  0.28143617 0.12180751]\n",
      " [0.40514786 0.9418984  0.56205224 0.9637056  0.26276518]]\n",
      "Edge feature [feat_0] is saved to ./ondisk_dataset_homograph/edge-feat-0.npy\n",
      "\n",
      "Part of edge feature [feat_1]: tensor([[0.2131, 0.2722, 0.0129, 0.1504, 0.1234],\n",
      "        [0.0038, 0.2009, 0.7104, 0.0390, 0.6458],\n",
      "        [0.8484, 0.5123, 0.6468, 0.4639, 0.9749]])\n",
      "Edge feature [feat_1] is saved to ./ondisk_dataset_homograph/edge-feat-1.pt\n",
      "\n"
     ]
    }
   ],
   "source": [
    "# Generate node feature in numpy array.\n",
    "node_feat_0_path = os.path.join(base_dir, \"node-feat-0.npy\")\n",
    "node_feat_0 = np.random.rand(num_nodes, 5)\n",
    "print(f\"Part of node feature [feat_0]: {node_feat_0[:3, :]}\")\n",
    "np.save(node_feat_0_path, node_feat_0)\n",
    "print(f\"Node feature [feat_0] is saved to {node_feat_0_path}\\n\")\n",
    "\n",
    "# Generate another node feature in torch tensor\n",
    "node_feat_1_path = os.path.join(base_dir, \"node-feat-1.pt\")\n",
    "node_feat_1 = torch.rand(num_nodes, 5)\n",
    "print(f\"Part of node feature [feat_1]: {node_feat_1[:3, :]}\")\n",
    "torch.save(node_feat_1, node_feat_1_path)\n",
    "print(f\"Node feature [feat_1] is saved to {node_feat_1_path}\\n\")\n",
    "\n",
    "# Generate edge feature in numpy array.\n",
    "edge_feat_0_path = os.path.join(base_dir, \"edge-feat-0.npy\")\n",
    "edge_feat_0 = np.random.rand(num_edges, 5)\n",
    "print(f\"Part of edge feature [feat_0]: {edge_feat_0[:3, :]}\")\n",
    "np.save(edge_feat_0_path, edge_feat_0)\n",
    "print(f\"Edge feature [feat_0] is saved to {edge_feat_0_path}\\n\")\n",
    "\n",
    "# Generate another edge feature in torch tensor\n",
    "edge_feat_1_path = os.path.join(base_dir, \"edge-feat-1.pt\")\n",
    "edge_feat_1 = torch.rand(num_edges, 5)\n",
    "print(f\"Part of edge feature [feat_1]: {edge_feat_1[:3, :]}\")\n",
    "torch.save(edge_feat_1, edge_feat_1_path)\n",
    "print(f\"Edge feature [feat_1] is saved to {edge_feat_1_path}\\n\")\n"
   ]
  },
  {
   "cell_type": "markdown",
   "metadata": {
    "id": "ZyqgOtsIwzh_"
   },
   "source": [
    "### Generate tasks\n",
    "`OnDiskDataset` supports multiple tasks. For each task, we need to prepare training/validation/test sets respectively. Such sets usually vary among different tasks. In this tutorial, let's create a **Node Classification** task and **Link Prediction** task."
   ]
  },
  {
   "cell_type": "markdown",
   "metadata": {
    "id": "hVxHaDIfzCkr"
   },
   "source": [
    "#### Node Classification Task\n",
    "For node classification task, we need **node IDs** and corresponding **labels** for each training/validation/test set. Like feature data, numpy arrays and torch tensors are supported for these sets."
   ]
  },
  {
   "cell_type": "code",
   "execution_count": 5,
   "metadata": {
    "execution": {
     "iopub.execute_input": "2024-08-20T07:25:38.056156Z",
     "iopub.status.busy": "2024-08-20T07:25:38.055750Z",
     "iopub.status.idle": "2024-08-20T07:25:38.065879Z",
     "shell.execute_reply": "2024-08-20T07:25:38.065367Z"
    },
    "id": "S5-fyBbHzTCO"
   },
   "outputs": [
    {
     "name": "stdout",
     "output_type": "stream",
     "text": [
      "Part of train ids for node classification: [475 984 708]\n",
      "NC train ids are saved to ./ondisk_dataset_homograph/nc-train-ids.npy\n",
      "\n",
      "Part of train labels for node classification: tensor([1, 9, 8])\n",
      "NC train labels are saved to ./ondisk_dataset_homograph/nc-train-labels.pt\n",
      "\n",
      "Part of val ids for node classification: [967 899  93]\n",
      "NC val ids are saved to ./ondisk_dataset_homograph/nc-val-ids.npy\n",
      "\n",
      "Part of val labels for node classification: tensor([4, 9, 1])\n",
      "NC val labels are saved to ./ondisk_dataset_homograph/nc-val-labels.pt\n",
      "\n",
      "Part of test ids for node classification: [629 269 693]\n",
      "NC test ids are saved to ./ondisk_dataset_homograph/nc-test-ids.npy\n",
      "\n",
      "Part of test labels for node classification: tensor([4, 5, 2])\n",
      "NC test labels are saved to ./ondisk_dataset_homograph/nc-test-labels.pt\n",
      "\n"
     ]
    }
   ],
   "source": [
    "num_trains = int(num_nodes * 0.6)\n",
    "num_vals = int(num_nodes * 0.2)\n",
    "num_tests = num_nodes - num_trains - num_vals\n",
    "\n",
    "ids = np.arange(num_nodes)\n",
    "np.random.shuffle(ids)\n",
    "\n",
    "nc_train_ids_path = os.path.join(base_dir, \"nc-train-ids.npy\")\n",
    "nc_train_ids = ids[:num_trains]\n",
    "print(f\"Part of train ids for node classification: {nc_train_ids[:3]}\")\n",
    "np.save(nc_train_ids_path, nc_train_ids)\n",
    "print(f\"NC train ids are saved to {nc_train_ids_path}\\n\")\n",
    "\n",
    "nc_train_labels_path = os.path.join(base_dir, \"nc-train-labels.pt\")\n",
    "nc_train_labels = torch.randint(0, 10, (num_trains,))\n",
    "print(f\"Part of train labels for node classification: {nc_train_labels[:3]}\")\n",
    "torch.save(nc_train_labels, nc_train_labels_path)\n",
    "print(f\"NC train labels are saved to {nc_train_labels_path}\\n\")\n",
    "\n",
    "nc_val_ids_path = os.path.join(base_dir, \"nc-val-ids.npy\")\n",
    "nc_val_ids = ids[num_trains:num_trains+num_vals]\n",
    "print(f\"Part of val ids for node classification: {nc_val_ids[:3]}\")\n",
    "np.save(nc_val_ids_path, nc_val_ids)\n",
    "print(f\"NC val ids are saved to {nc_val_ids_path}\\n\")\n",
    "\n",
    "nc_val_labels_path = os.path.join(base_dir, \"nc-val-labels.pt\")\n",
    "nc_val_labels = torch.randint(0, 10, (num_vals,))\n",
    "print(f\"Part of val labels for node classification: {nc_val_labels[:3]}\")\n",
    "torch.save(nc_val_labels, nc_val_labels_path)\n",
    "print(f\"NC val labels are saved to {nc_val_labels_path}\\n\")\n",
    "\n",
    "nc_test_ids_path = os.path.join(base_dir, \"nc-test-ids.npy\")\n",
    "nc_test_ids = ids[-num_tests:]\n",
    "print(f\"Part of test ids for node classification: {nc_test_ids[:3]}\")\n",
    "np.save(nc_test_ids_path, nc_test_ids)\n",
    "print(f\"NC test ids are saved to {nc_test_ids_path}\\n\")\n",
    "\n",
    "nc_test_labels_path = os.path.join(base_dir, \"nc-test-labels.pt\")\n",
    "nc_test_labels = torch.randint(0, 10, (num_tests,))\n",
    "print(f\"Part of test labels for node classification: {nc_test_labels[:3]}\")\n",
    "torch.save(nc_test_labels, nc_test_labels_path)\n",
    "print(f\"NC test labels are saved to {nc_test_labels_path}\\n\")"
   ]
  },
  {
   "cell_type": "markdown",
   "metadata": {
    "id": "LhAcDCHQ_KJ0"
   },
   "source": [
    "#### Link Prediction Task\n",
    "For link prediction task, we need **seeds** or **corresponding labels and indexes** which representing the pos/neg property and group of the seeds for each training/validation/test set. Like feature data, numpy arrays and torch tensors are supported for these sets."
   ]
  },
  {
   "cell_type": "code",
   "execution_count": 6,
   "metadata": {
    "execution": {
     "iopub.execute_input": "2024-08-20T07:25:38.068333Z",
     "iopub.status.busy": "2024-08-20T07:25:38.067988Z",
     "iopub.status.idle": "2024-08-20T07:25:38.084813Z",
     "shell.execute_reply": "2024-08-20T07:25:38.084291Z"
    },
    "id": "u0jCnXIcAQy4"
   },
   "outputs": [
    {
     "name": "stdout",
     "output_type": "stream",
     "text": [
      "Part of train seeds for link prediction: [[794 382]\n",
      " [993 102]\n",
      " [965 951]]\n",
      "LP train seeds are saved to ./ondisk_dataset_homograph/lp-train-seeds.npy\n",
      "\n",
      "Part of val seeds for link prediction: [[736 268]\n",
      " [404 954]\n",
      " [232 666]]\n",
      "LP val seeds are saved to ./ondisk_dataset_homograph/lp-val-seeds.npy\n",
      "\n",
      "Part of val labels for link prediction: [1. 1. 1.]\n",
      "LP val labels are saved to ./ondisk_dataset_homograph/lp-val-labels.npy\n",
      "\n",
      "Part of val indexes for link prediction: [0 1 2]\n",
      "LP val indexes are saved to ./ondisk_dataset_homograph/lp-val-indexes.npy\n",
      "\n",
      "Part of test seeds for link prediction: [[118 207]\n",
      " [ 16 469]\n",
      " [539 421]]\n",
      "LP test seeds are saved to ./ondisk_dataset_homograph/lp-test-seeds.npy\n",
      "\n",
      "Part of val labels for link prediction: [1. 1. 1.]\n",
      "LP test labels are saved to ./ondisk_dataset_homograph/lp-test-labels.npy\n",
      "\n",
      "Part of test indexes for link prediction: [0 1 2]\n",
      "LP test indexes are saved to ./ondisk_dataset_homograph/lp-test-indexes.npy\n",
      "\n"
     ]
    }
   ],
   "source": [
    "num_trains = int(num_edges * 0.6)\n",
    "num_vals = int(num_edges * 0.2)\n",
    "num_tests = num_edges - num_trains - num_vals\n",
    "\n",
    "lp_train_seeds_path = os.path.join(base_dir, \"lp-train-seeds.npy\")\n",
    "lp_train_seeds = edges[:num_trains, :]\n",
    "print(f\"Part of train seeds for link prediction: {lp_train_seeds[:3]}\")\n",
    "np.save(lp_train_seeds_path, lp_train_seeds)\n",
    "print(f\"LP train seeds are saved to {lp_train_seeds_path}\\n\")\n",
    "\n",
    "lp_val_seeds_path = os.path.join(base_dir, \"lp-val-seeds.npy\")\n",
    "lp_val_seeds = edges[num_trains:num_trains+num_vals, :]\n",
    "lp_val_neg_dsts = np.random.randint(0, num_nodes, (num_vals, 10)).reshape(-1)\n",
    "lp_val_neg_srcs = np.repeat(lp_val_seeds[:,0], 10)\n",
    "lp_val_neg_seeds = np.concatenate((lp_val_neg_srcs, lp_val_neg_dsts)).reshape(2,-1).T\n",
    "lp_val_seeds = np.concatenate((lp_val_seeds, lp_val_neg_seeds))\n",
    "print(f\"Part of val seeds for link prediction: {lp_val_seeds[:3]}\")\n",
    "np.save(lp_val_seeds_path, lp_val_seeds)\n",
    "print(f\"LP val seeds are saved to {lp_val_seeds_path}\\n\")\n",
    "\n",
    "lp_val_labels_path = os.path.join(base_dir, \"lp-val-labels.npy\")\n",
    "lp_val_labels = np.empty(num_vals * (10 + 1))\n",
    "lp_val_labels[:num_vals] = 1\n",
    "lp_val_labels[num_vals:] = 0\n",
    "print(f\"Part of val labels for link prediction: {lp_val_labels[:3]}\")\n",
    "np.save(lp_val_labels_path, lp_val_labels)\n",
    "print(f\"LP val labels are saved to {lp_val_labels_path}\\n\")\n",
    "\n",
    "lp_val_indexes_path = os.path.join(base_dir, \"lp-val-indexes.npy\")\n",
    "lp_val_indexes = np.arange(0, num_vals)\n",
    "lp_val_neg_indexes = np.repeat(lp_val_indexes, 10)\n",
    "lp_val_indexes = np.concatenate([lp_val_indexes, lp_val_neg_indexes])\n",
    "print(f\"Part of val indexes for link prediction: {lp_val_indexes[:3]}\")\n",
    "np.save(lp_val_indexes_path, lp_val_indexes)\n",
    "print(f\"LP val indexes are saved to {lp_val_indexes_path}\\n\")\n",
    "\n",
    "lp_test_seeds_path = os.path.join(base_dir, \"lp-test-seeds.npy\")\n",
    "lp_test_seeds = edges[-num_tests:, :]\n",
    "lp_test_neg_dsts = np.random.randint(0, num_nodes, (num_tests, 10)).reshape(-1)\n",
    "lp_test_neg_srcs = np.repeat(lp_test_seeds[:,0], 10)\n",
    "lp_test_neg_seeds = np.concatenate((lp_test_neg_srcs, lp_test_neg_dsts)).reshape(2,-1).T\n",
    "lp_test_seeds = np.concatenate((lp_test_seeds, lp_test_neg_seeds))\n",
    "print(f\"Part of test seeds for link prediction: {lp_test_seeds[:3]}\")\n",
    "np.save(lp_test_seeds_path, lp_test_seeds)\n",
    "print(f\"LP test seeds are saved to {lp_test_seeds_path}\\n\")\n",
    "\n",
    "lp_test_labels_path = os.path.join(base_dir, \"lp-test-labels.npy\")\n",
    "lp_test_labels = np.empty(num_tests * (10 + 1))\n",
    "lp_test_labels[:num_tests] = 1\n",
    "lp_test_labels[num_tests:] = 0\n",
    "print(f\"Part of val labels for link prediction: {lp_test_labels[:3]}\")\n",
    "np.save(lp_test_labels_path, lp_test_labels)\n",
    "print(f\"LP test labels are saved to {lp_test_labels_path}\\n\")\n",
    "\n",
    "lp_test_indexes_path = os.path.join(base_dir, \"lp-test-indexes.npy\")\n",
    "lp_test_indexes = np.arange(0, num_tests)\n",
    "lp_test_neg_indexes = np.repeat(lp_test_indexes, 10)\n",
    "lp_test_indexes = np.concatenate([lp_test_indexes, lp_test_neg_indexes])\n",
    "print(f\"Part of test indexes for link prediction: {lp_test_indexes[:3]}\")\n",
    "np.save(lp_test_indexes_path, lp_test_indexes)\n",
    "print(f\"LP test indexes are saved to {lp_test_indexes_path}\\n\")"
   ]
  },
  {
   "cell_type": "markdown",
   "metadata": {
    "id": "wbk6-wxRK-6S"
   },
   "source": [
    "## Organize Data into YAML File\n",
    "Now we need to create a `metadata.yaml` file which contains the paths, dadta types of graph structure, feature data, training/validation/test sets.\n",
    "\n",
    "Notes:\n",
    "- all path should be relative to `metadata.yaml`.\n",
    "- Below fields are optional and not specified in below example.\n",
    "  - `in_memory`: indicates whether to load dada into memory or `mmap`. Default is `True`.\n",
    "\n",
    "Please refer to [YAML specification](https://github.com/dmlc/dgl/blob/master/docs/source/stochastic_training/ondisk-dataset-specification.rst) for more details."
   ]
  },
  {
   "cell_type": "code",
   "execution_count": 7,
   "metadata": {
    "execution": {
     "iopub.execute_input": "2024-08-20T07:25:38.087218Z",
     "iopub.status.busy": "2024-08-20T07:25:38.087011Z",
     "iopub.status.idle": "2024-08-20T07:25:38.092199Z",
     "shell.execute_reply": "2024-08-20T07:25:38.091697Z"
    },
    "id": "ddGTWW61Lpwp"
   },
   "outputs": [],
   "source": [
    "yaml_content = f\"\"\"\n",
    "    dataset_name: homogeneous_graph_nc_lp\n",
    "    graph:\n",
    "      nodes:\n",
    "        - num: {num_nodes}\n",
    "      edges:\n",
    "        - format: csv\n",
    "          path: {os.path.basename(edges_path)}\n",
    "    feature_data:\n",
    "      - domain: node\n",
    "        name: feat_0\n",
    "        format: numpy\n",
    "        path: {os.path.basename(node_feat_0_path)}\n",
    "      - domain: node\n",
    "        name: feat_1\n",
    "        format: torch\n",
    "        path: {os.path.basename(node_feat_1_path)}\n",
    "      - domain: edge\n",
    "        name: feat_0\n",
    "        format: numpy\n",
    "        path: {os.path.basename(edge_feat_0_path)}\n",
    "      - domain: edge\n",
    "        name: feat_1\n",
    "        format: torch\n",
    "        path: {os.path.basename(edge_feat_1_path)}\n",
    "    tasks:\n",
    "      - name: node_classification\n",
    "        num_classes: 10\n",
    "        train_set:\n",
    "          - data:\n",
    "              - name: seeds\n",
    "                format: numpy\n",
    "                path: {os.path.basename(nc_train_ids_path)}\n",
    "              - name: labels\n",
    "                format: torch\n",
    "                path: {os.path.basename(nc_train_labels_path)}\n",
    "        validation_set:\n",
    "          - data:\n",
    "              - name: seeds\n",
    "                format: numpy\n",
    "                path: {os.path.basename(nc_val_ids_path)}\n",
    "              - name: labels\n",
    "                format: torch\n",
    "                path: {os.path.basename(nc_val_labels_path)}\n",
    "        test_set:\n",
    "          - data:\n",
    "              - name: seeds\n",
    "                format: numpy\n",
    "                path: {os.path.basename(nc_test_ids_path)}\n",
    "              - name: labels\n",
    "                format: torch\n",
    "                path: {os.path.basename(nc_test_labels_path)}\n",
    "      - name: link_prediction\n",
    "        num_classes: 10\n",
    "        train_set:\n",
    "          - data:\n",
    "              - name: seeds\n",
    "                format: numpy\n",
    "                path: {os.path.basename(lp_train_seeds_path)}\n",
    "        validation_set:\n",
    "          - data:\n",
    "              - name: seeds\n",
    "                format: numpy\n",
    "                path: {os.path.basename(lp_val_seeds_path)}\n",
    "              - name: labels\n",
    "                format: numpy\n",
    "                path: {os.path.basename(lp_val_labels_path)}\n",
    "              - name: indexes\n",
    "                format: numpy\n",
    "                path: {os.path.basename(lp_val_indexes_path)}\n",
    "        test_set:\n",
    "          - data:\n",
    "              - name: seeds\n",
    "                format: numpy\n",
    "                path: {os.path.basename(lp_test_seeds_path)}\n",
    "              - name: labels\n",
    "                format: numpy\n",
    "                path: {os.path.basename(lp_test_labels_path)}\n",
    "              - name: indexes\n",
    "                format: numpy\n",
    "                path: {os.path.basename(lp_test_indexes_path)}\n",
    "\"\"\"\n",
    "metadata_path = os.path.join(base_dir, \"metadata.yaml\")\n",
    "with open(metadata_path, \"w\") as f:\n",
    "  f.write(yaml_content)"
   ]
  },
  {
   "cell_type": "markdown",
   "metadata": {
    "id": "kEfybHGhOW7O"
   },
   "source": [
    "## Instantiate `OnDiskDataset`\n",
    "Now we're ready to load dataset via `dgl.graphbolt.OnDiskDataset`. When instantiating, we just pass in the base directory where `metadata.yaml` file lies.\n",
    "\n",
    "During first instantiation, GraphBolt preprocesses the raw data such as constructing `FusedCSCSamplingGraph` from edges. All data including graph, feature data, training/validation/test sets are put into `preprocessed` directory after preprocessing. Any following dataset loading will skip the preprocess stage.\n",
    "\n",
    "After preprocessing, `load()` is required to be called explicitly in order to load graph, feature data and tasks."
   ]
  },
  {
   "cell_type": "code",
   "execution_count": 8,
   "metadata": {
    "execution": {
     "iopub.execute_input": "2024-08-20T07:25:38.094419Z",
     "iopub.status.busy": "2024-08-20T07:25:38.094094Z",
     "iopub.status.idle": "2024-08-20T07:25:38.184737Z",
     "shell.execute_reply": "2024-08-20T07:25:38.184151Z"
    },
    "id": "W58CZoSzOiyo"
   },
   "outputs": [
    {
     "name": "stdout",
     "output_type": "stream",
     "text": [
      "The on-disk dataset is re-preprocessing, so the existing preprocessed dataset has been removed.\n",
      "Start to preprocess the on-disk dataset.\n",
      "Finish preprocessing the on-disk dataset.\n",
      "Loaded graph: FusedCSCSamplingGraph(csc_indptr=tensor([    0,    12,    18,  ...,  9972,  9981, 10000], dtype=torch.int32),\n",
      "                      indices=tensor([800, 652, 213,  ..., 376, 595, 769], dtype=torch.int32),\n",
      "                      total_num_nodes=1000, num_edges=10000,)\n",
      "\n",
      "Loaded feature store: TorchBasedFeatureStore(\n",
      "    {(<OnDiskFeatureDataDomain.NODE: 'node'>, None, 'feat_0'): TorchBasedFeature(\n",
      "        feature=tensor([[0.0209, 0.6851, 0.6456, 0.1544, 0.9335],\n",
      "                        [0.5035, 0.6810, 0.5156, 0.5076, 0.3994],\n",
      "                        [0.1819, 0.7077, 0.8446, 0.5310, 0.6111],\n",
      "                        ...,\n",
      "                        [0.0801, 0.0754, 0.7942, 0.8190, 0.8364],\n",
      "                        [0.5386, 0.8320, 0.2534, 0.2430, 0.5747],\n",
      "                        [0.1437, 0.9919, 0.7937, 0.2297, 0.5651]], dtype=torch.float64),\n",
      "        metadata={},\n",
      "    ), (<OnDiskFeatureDataDomain.NODE: 'node'>, None, 'feat_1'): TorchBasedFeature(\n",
      "        feature=tensor([[0.9642, 0.0793, 0.7767, 0.2609, 0.2231],\n",
      "                        [0.9420, 0.2025, 0.9155, 0.7572, 0.0221],\n",
      "                        [0.8690, 0.4086, 0.3806, 0.7036, 0.6601],\n",
      "                        ...,\n",
      "                        [0.5083, 0.3589, 0.0852, 0.9242, 0.5563],\n",
      "                        [0.1626, 0.8126, 0.2626, 0.8565, 0.4455],\n",
      "                        [0.5579, 0.6866, 0.6630, 0.4952, 0.4977]]),\n",
      "        metadata={},\n",
      "    ), (<OnDiskFeatureDataDomain.EDGE: 'edge'>, None, 'feat_0'): TorchBasedFeature(\n",
      "        feature=tensor([[0.0019, 0.9689, 0.6647, 0.0069, 0.3740],\n",
      "                        [0.0740, 0.0804, 0.8589, 0.2814, 0.1218],\n",
      "                        [0.4051, 0.9419, 0.5621, 0.9637, 0.2628],\n",
      "                        ...,\n",
      "                        [0.0527, 0.1706, 0.7194, 0.9398, 0.4267],\n",
      "                        [0.9990, 0.7973, 0.5499, 0.3649, 0.5373],\n",
      "                        [0.8544, 0.3685, 0.0292, 0.8262, 0.8372]], dtype=torch.float64),\n",
      "        metadata={},\n",
      "    ), (<OnDiskFeatureDataDomain.EDGE: 'edge'>, None, 'feat_1'): TorchBasedFeature(\n",
      "        feature=tensor([[2.1310e-01, 2.7218e-01, 1.2937e-02, 1.5043e-01, 1.2343e-01],\n",
      "                        [3.7623e-03, 2.0090e-01, 7.1038e-01, 3.9017e-02, 6.4577e-01],\n",
      "                        [8.4835e-01, 5.1227e-01, 6.4675e-01, 4.6390e-01, 9.7490e-01],\n",
      "                        ...,\n",
      "                        [2.4404e-01, 9.3782e-04, 1.3585e-01, 9.8383e-01, 4.3973e-01],\n",
      "                        [6.4007e-01, 3.8284e-01, 8.2314e-01, 8.7081e-01, 2.7033e-01],\n",
      "                        [5.4431e-01, 7.6470e-01, 9.8941e-02, 8.2099e-01, 6.5896e-01]]),\n",
      "        metadata={},\n",
      "    )}\n",
      ")\n",
      "\n",
      "Loaded node classification task: OnDiskTask(validation_set=ItemSet(\n",
      "               items=(tensor([967, 899,  93, 758, 159, 307, 812, 830,  52,  10, 389, 305, 242, 476,\n",
      "                   601, 615,  70, 179,  63, 593, 595, 785, 871, 131, 101, 767, 402, 843,\n",
      "                   980, 866, 600, 216, 301, 841, 581,  23, 482, 749, 237, 166, 754, 928,\n",
      "                   172,  25, 327, 684, 542, 332, 609, 639, 696, 231, 335, 495, 353, 819,\n",
      "                   946, 926, 497, 943, 675, 449, 661, 635, 255, 590, 444, 183, 220, 736,\n",
      "                   553, 936, 798, 140, 211, 212,  87, 287, 178, 968, 576, 797, 512, 452,\n",
      "                   466, 426, 244, 492, 651, 837, 421, 304, 588, 565, 769, 579, 738,  90,\n",
      "                   655, 491, 885, 107, 195, 167,   4, 788, 117, 782, 875, 427, 513, 561,\n",
      "                   409,   3, 802, 104, 622, 441,  50, 311, 965, 743, 530, 977, 755, 213,\n",
      "                   225, 856, 905, 320, 552, 354, 356,  40, 397, 308, 876, 467, 480, 148,\n",
      "                   823, 381, 734, 404, 621, 775, 139, 847, 478, 947, 774, 455, 735, 772,\n",
      "                   991, 727, 723, 956, 122, 793, 859, 618, 261, 591, 214, 667, 519, 423,\n",
      "                   771, 685, 461, 541,  85, 665, 118, 468, 264, 908, 740, 964, 955, 363,\n",
      "                   695,  92, 653, 574, 156, 808, 208, 334, 792, 850, 124, 376, 631, 501,\n",
      "                   218, 806, 663, 637], dtype=torch.int32), tensor([4, 9, 1, 2, 4, 9, 1, 7, 7, 9, 2, 4, 3, 8, 3, 6, 5, 3, 4, 1, 2, 2, 8, 5,\n",
      "                   5, 8, 5, 9, 1, 0, 6, 6, 1, 3, 1, 9, 0, 2, 8, 7, 9, 5, 1, 0, 4, 6, 0, 1,\n",
      "                   5, 4, 0, 9, 3, 6, 9, 3, 2, 3, 2, 6, 9, 6, 5, 4, 5, 8, 6, 3, 7, 0, 0, 2,\n",
      "                   3, 0, 7, 2, 2, 9, 5, 1, 2, 2, 1, 8, 2, 2, 1, 9, 3, 1, 5, 5, 9, 3, 8, 1,\n",
      "                   3, 6, 5, 2, 0, 9, 8, 4, 8, 8, 0, 9, 2, 3, 5, 9, 7, 8, 3, 9, 0, 9, 8, 5,\n",
      "                   6, 4, 9, 9, 8, 1, 7, 4, 5, 7, 6, 7, 4, 1, 1, 2, 1, 7, 0, 2, 4, 6, 7, 5,\n",
      "                   3, 4, 7, 0, 2, 8, 3, 7, 0, 0, 8, 7, 0, 8, 7, 5, 6, 3, 4, 5, 6, 8, 1, 5,\n",
      "                   9, 4, 4, 1, 5, 2, 5, 1, 1, 6, 1, 9, 5, 4, 1, 9, 7, 5, 2, 6, 6, 2, 3, 6,\n",
      "                   9, 9, 3, 0, 9, 3, 5, 9])),\n",
      "               names=('seeds', 'labels'),\n",
      "           ),\n",
      "           train_set=ItemSet(\n",
      "               items=(tensor([475, 984, 708, 877, 391, 324, 464, 686,  27,  65, 200, 883, 123, 931,\n",
      "                   390, 603, 690, 990, 360,  60, 379, 405, 210, 938, 412, 432,  13, 824,\n",
      "                   252, 739, 294, 445, 534,  11, 548, 374, 420, 557, 861, 664, 163, 564,\n",
      "                   927, 100, 575, 318, 948, 882, 762, 313, 129, 699,  95, 384, 551, 253,\n",
      "                   978,   1, 951, 263, 126, 781, 145, 994, 759, 836,  45, 508, 976, 914,\n",
      "                   502, 545, 760, 150, 366,  98, 437, 958, 465, 340, 828, 801, 158, 188,\n",
      "                   434, 282,  67, 481, 462, 385, 832, 479, 572, 206, 568, 233, 286, 625,\n",
      "                    77, 638, 127, 786, 136, 776,  14, 259, 439, 838, 860, 227, 365, 312,\n",
      "                   697,  31, 660, 826,  32, 538,  81, 641, 544, 450, 236, 748, 116, 162,\n",
      "                   295, 262, 809, 989, 453, 411, 197, 169, 486, 896, 297, 181, 396, 493,\n",
      "                   367, 750, 763,  49,  75, 840, 267, 532, 911, 490, 518,  96, 604, 996,\n",
      "                   846, 182, 674, 202, 851, 862, 717, 488, 710, 345, 238, 831, 184, 251,\n",
      "                   463, 721, 811, 407, 141, 952, 567, 387, 344, 433, 610, 357, 924, 521,\n",
      "                   456, 715, 796, 701, 522,  69, 173,  48, 921,  36, 228, 539, 171, 240,\n",
      "                   398,  80, 594, 222, 415, 644, 113, 906, 656, 925, 187, 487, 429, 922,\n",
      "                   406, 881, 511, 330, 844, 645,  57, 879, 209, 165, 153, 966,  41, 672,\n",
      "                   901, 192,  39, 359, 626,  44, 916, 858, 526, 321, 679, 585, 504, 611,\n",
      "                   731, 756, 752, 496, 371, 143, 394, 733, 959, 654, 636, 872, 223, 121,\n",
      "                    30, 510, 818,  73, 995, 929, 134,  24, 556, 799, 232, 474,  78,  58,\n",
      "                   247, 580, 766, 180,  15, 470, 662, 945, 973, 719, 941, 177, 816, 873,\n",
      "                   923, 229, 902, 500, 974, 560, 930, 917, 880, 829, 299, 106, 777, 889,\n",
      "                    94, 932, 194, 325, 533, 254, 790,  53, 516, 349, 716, 698, 207, 713,\n",
      "                   845, 448, 744, 540, 987,  22, 903, 711, 694, 805, 628, 720, 834, 895,\n",
      "                   245,  86, 741,  35, 257, 268,  59, 277, 517, 833, 981, 186, 224, 473,\n",
      "                    12, 857,  37, 975, 543, 646, 623, 657, 745, 619, 283, 109, 614,  42,\n",
      "                    74, 278, 681, 395,  55, 688, 161, 418, 230, 424,  26, 292, 275, 689,\n",
      "                   558, 303, 319, 457,  46, 520, 132, 393, 913, 489, 666, 683, 370, 616,\n",
      "                   515, 477, 961, 894, 119, 897, 350, 773, 130, 886,  64, 306, 296, 302,\n",
      "                   248, 937, 854, 425, 998, 401, 842, 175, 598, 971, 499, 266, 258,   0,\n",
      "                   718, 431, 970, 680, 358, 570,  20, 346, 620, 704,  33, 170, 484, 199,\n",
      "                   884, 787, 596, 386, 403, 377, 559, 810, 507, 706,   7, 900, 108, 537,\n",
      "                   382, 438, 547, 765, 201, 310,  99, 417, 531, 586, 569, 361, 348, 757,\n",
      "                   416, 795, 910, 111,  51, 791, 514, 632, 747, 337, 863, 986, 469, 174,\n",
      "                   219, 446, 707,  29, 983, 290, 436, 243, 939, 562, 105, 373, 753, 333,\n",
      "                   612, 608, 285, 528, 351, 550, 687, 347,  19, 728, 352, 546,   2, 573,\n",
      "                   599, 164, 993, 144, 314, 592, 378, 281, 997, 950,  89, 273, 783,   9,\n",
      "                   761, 112, 633, 888, 821, 239, 692, 383, 459, 624, 322, 705,  68, 855,\n",
      "                   949, 270, 815, 189, 904,   8, 328, 414, 732, 454, 355, 241,  91, 650,\n",
      "                   563, 972, 221, 962, 839, 458, 190, 864, 380, 135, 935, 151, 891, 293,\n",
      "                   147, 309,  17, 430, 155, 868, 338, 146, 764, 602, 746, 185, 643, 597,\n",
      "                   276, 768, 803, 291, 944, 102, 149, 142, 529, 566, 329, 498, 890,  54,\n",
      "                   168, 120, 673, 422, 323, 724, 726, 634, 730, 369, 678, 584, 817,  47,\n",
      "                   742,  21, 451, 525,   6, 226, 343, 702, 279, 342, 326, 362],\n",
      "                  dtype=torch.int32), tensor([1, 9, 8, 3, 1, 5, 0, 5, 6, 0, 7, 5, 0, 3, 3, 6, 6, 6, 3, 9, 5, 4, 2, 6,\n",
      "                   9, 8, 7, 5, 4, 0, 8, 9, 9, 1, 8, 0, 8, 9, 3, 8, 1, 2, 0, 9, 6, 0, 7, 6,\n",
      "                   7, 3, 2, 9, 4, 4, 8, 4, 4, 2, 9, 0, 7, 4, 2, 7, 7, 7, 8, 7, 7, 6, 3, 6,\n",
      "                   5, 0, 1, 1, 0, 2, 0, 1, 5, 9, 5, 5, 6, 9, 6, 8, 6, 9, 4, 4, 6, 5, 2, 7,\n",
      "                   6, 4, 5, 6, 0, 7, 5, 8, 2, 1, 6, 7, 2, 5, 0, 3, 6, 7, 8, 3, 2, 0, 3, 2,\n",
      "                   7, 3, 2, 1, 9, 5, 0, 6, 3, 5, 6, 8, 0, 0, 7, 6, 7, 1, 5, 7, 3, 1, 5, 3,\n",
      "                   5, 7, 7, 4, 8, 7, 3, 5, 3, 5, 3, 3, 3, 2, 8, 8, 4, 0, 1, 6, 6, 8, 4, 7,\n",
      "                   8, 8, 3, 5, 7, 0, 8, 7, 6, 3, 8, 0, 2, 9, 6, 8, 2, 5, 3, 9, 4, 4, 3, 0,\n",
      "                   9, 7, 6, 0, 3, 9, 6, 6, 7, 8, 8, 9, 6, 0, 0, 9, 2, 0, 1, 5, 6, 0, 7, 9,\n",
      "                   1, 0, 6, 8, 2, 5, 8, 3, 8, 1, 9, 5, 2, 8, 4, 5, 7, 5, 6, 5, 8, 7, 5, 5,\n",
      "                   4, 4, 0, 9, 1, 6, 3, 1, 0, 2, 8, 9, 7, 1, 4, 0, 7, 1, 1, 8, 0, 4, 4, 0,\n",
      "                   5, 9, 2, 6, 4, 2, 7, 2, 3, 9, 1, 9, 7, 8, 2, 9, 2, 7, 7, 1, 3, 8, 4, 5,\n",
      "                   5, 3, 5, 1, 9, 8, 0, 5, 4, 6, 6, 7, 8, 9, 3, 6, 5, 5, 6, 0, 6, 9, 8, 9,\n",
      "                   9, 4, 1, 4, 7, 0, 5, 8, 7, 5, 2, 2, 8, 6, 0, 1, 8, 0, 0, 6, 1, 0, 5, 8,\n",
      "                   2, 7, 3, 2, 8, 7, 9, 1, 1, 3, 0, 7, 4, 8, 2, 2, 8, 5, 8, 7, 4, 8, 5, 6,\n",
      "                   2, 6, 4, 0, 0, 3, 6, 6, 8, 9, 6, 5, 8, 6, 4, 4, 7, 0, 9, 3, 0, 2, 3, 5,\n",
      "                   8, 2, 9, 0, 7, 0, 3, 2, 6, 7, 2, 5, 1, 8, 6, 8, 1, 7, 3, 4, 7, 0, 2, 6,\n",
      "                   7, 1, 6, 0, 9, 4, 3, 3, 0, 7, 7, 9, 5, 1, 5, 3, 2, 6, 9, 4, 7, 2, 8, 3,\n",
      "                   3, 5, 7, 9, 2, 3, 4, 7, 4, 7, 5, 5, 9, 0, 9, 3, 2, 3, 6, 4, 1, 0, 5, 6,\n",
      "                   5, 7, 2, 9, 9, 2, 0, 5, 9, 2, 8, 8, 7, 4, 3, 7, 2, 8, 8, 2, 1, 6, 7, 0,\n",
      "                   4, 7, 1, 9, 7, 2, 6, 8, 4, 4, 6, 7, 8, 6, 1, 1, 8, 4, 6, 4, 4, 7, 5, 3,\n",
      "                   6, 4, 3, 5, 3, 5, 8, 0, 3, 6, 1, 0, 2, 7, 8, 6, 8, 7, 1, 1, 3, 9, 3, 6,\n",
      "                   5, 7, 0, 0, 5, 8, 7, 1, 3, 7, 8, 1, 7, 7, 8, 9, 4, 7, 4, 3, 8, 0, 5, 0,\n",
      "                   5, 5, 7, 2, 4, 8, 7, 6, 3, 7, 8, 8, 7, 9, 1, 9, 3, 8, 2, 1, 9, 5, 4, 8,\n",
      "                   5, 0, 9, 2, 8, 9, 9, 9, 4, 4, 1, 6, 6, 1, 1, 2, 3, 3, 7, 5, 1, 4, 6, 9])),\n",
      "               names=('seeds', 'labels'),\n",
      "           ),\n",
      "           test_set=ItemSet(\n",
      "               items=(tensor([629, 269, 693, 794, 804, 472, 869, 215, 982, 870, 659, 260,  83, 536,\n",
      "                   835, 505, 204, 408, 820, 138, 368, 509,  18, 999,  82, 676,  97, 419,\n",
      "                   725, 613, 440,  72, 800, 960, 485,  43, 582, 399, 300, 642,  56, 813,\n",
      "                   133, 125, 428, 652, 648, 909,  84, 822, 751, 483, 988, 953, 115, 471,\n",
      "                   934, 527, 494, 583, 103, 907, 778, 555, 400, 919, 658, 137, 246, 234,\n",
      "                   893, 364, 605,  38, 992, 647, 630, 298, 954, 669, 957, 853, 915, 205,\n",
      "                   722, 196, 372, 912, 284, 649, 549, 157, 265, 176, 703, 940, 865, 272,\n",
      "                   770, 128, 979, 933, 878, 920, 274, 392,  28, 668, 737, 110, 827, 315,\n",
      "                   152, 898, 700, 198, 375,  61, 336, 852, 554,  66, 691, 682,   5, 341,\n",
      "                   523, 443, 670, 250, 963, 256, 160, 627, 714, 114, 779, 784, 918, 867,\n",
      "                   807,  79, 825, 235, 887, 410, 503, 969,  71,  76, 289, 435, 571, 789,\n",
      "                   729, 874, 203, 942, 587, 848, 849, 606, 447, 217, 154, 460,  88, 892,\n",
      "                   589, 442, 712, 388, 671,  16, 524,  62, 280, 607, 814, 535, 677, 985,\n",
      "                   271, 617, 288, 578, 709, 339, 331, 193, 577, 317, 780,  34, 640, 191,\n",
      "                   249, 413, 506, 316], dtype=torch.int32), tensor([4, 5, 2, 2, 1, 5, 7, 4, 6, 1, 3, 4, 8, 3, 1, 6, 9, 8, 2, 7, 3, 1, 3, 7,\n",
      "                   5, 3, 1, 9, 4, 9, 7, 3, 9, 7, 3, 0, 8, 4, 6, 9, 0, 3, 5, 3, 7, 8, 6, 0,\n",
      "                   1, 5, 5, 8, 6, 0, 7, 9, 4, 0, 7, 7, 5, 6, 3, 9, 8, 9, 3, 8, 5, 4, 9, 6,\n",
      "                   8, 2, 9, 5, 4, 2, 2, 2, 3, 3, 1, 8, 8, 7, 6, 1, 3, 4, 9, 3, 8, 6, 7, 1,\n",
      "                   3, 5, 6, 7, 2, 5, 7, 9, 0, 5, 3, 7, 3, 2, 8, 1, 8, 5, 4, 0, 0, 7, 0, 2,\n",
      "                   9, 4, 9, 4, 2, 3, 9, 5, 8, 5, 9, 8, 5, 9, 5, 5, 7, 6, 2, 4, 4, 8, 7, 7,\n",
      "                   3, 2, 7, 1, 9, 2, 4, 3, 4, 5, 0, 5, 5, 1, 9, 0, 3, 3, 2, 4, 1, 9, 7, 6,\n",
      "                   8, 1, 7, 1, 4, 0, 9, 8, 6, 6, 6, 7, 1, 4, 7, 9, 6, 1, 2, 1, 2, 6, 4, 7,\n",
      "                   5, 5, 3, 4, 8, 5, 8, 5])),\n",
      "               names=('seeds', 'labels'),\n",
      "           ),\n",
      "           metadata={'name': 'node_classification', 'num_classes': 10},)\n",
      "\n",
      "Loaded link prediction task: OnDiskTask(validation_set=ItemSet(\n",
      "               items=(tensor([[736, 268],\n",
      "                   [404, 954],\n",
      "                   [232, 666],\n",
      "                   ...,\n",
      "                   [369,   9],\n",
      "                   [369, 424],\n",
      "                   [369,  85]], dtype=torch.int32), tensor([1., 1., 1.,  ..., 0., 0., 0.], dtype=torch.float64), tensor([   0,    1,    2,  ..., 1999, 1999, 1999])),\n",
      "               names=('seeds', 'labels', 'indexes'),\n",
      "           ),\n",
      "           train_set=ItemSet(\n",
      "               items=(tensor([[794, 382],\n",
      "                   [993, 102],\n",
      "                   [965, 951],\n",
      "                   ...,\n",
      "                   [147, 328],\n",
      "                   [566, 901],\n",
      "                   [522, 785]], dtype=torch.int32),),\n",
      "               names=('seeds',),\n",
      "           ),\n",
      "           test_set=ItemSet(\n",
      "               items=(tensor([[118, 207],\n",
      "                   [ 16, 469],\n",
      "                   [539, 421],\n",
      "                   ...,\n",
      "                   [677, 993],\n",
      "                   [677, 241],\n",
      "                   [677, 809]], dtype=torch.int32), tensor([1., 1., 1.,  ..., 0., 0., 0.], dtype=torch.float64), tensor([   0,    1,    2,  ..., 1999, 1999, 1999])),\n",
      "               names=('seeds', 'labels', 'indexes'),\n",
      "           ),\n",
      "           metadata={'name': 'link_prediction', 'num_classes': 10},)\n",
      "\n"
     ]
    },
    {
     "name": "stderr",
     "output_type": "stream",
     "text": [
      "/home/ubuntu/dgl_doc_dev/dgl/python/dgl/graphbolt/impl/ondisk_dataset.py:460: DGLWarning: Edge feature is stored, but edge IDs are not saved.\n",
      "  dgl_warning(\"Edge feature is stored, but edge IDs are not saved.\")\n"
     ]
    }
   ],
   "source": [
    "dataset = gb.OnDiskDataset(base_dir).load()\n",
    "graph = dataset.graph\n",
    "print(f\"Loaded graph: {graph}\\n\")\n",
    "\n",
    "feature = dataset.feature\n",
    "print(f\"Loaded feature store: {feature}\\n\")\n",
    "\n",
    "tasks = dataset.tasks\n",
    "nc_task = tasks[0]\n",
    "print(f\"Loaded node classification task: {nc_task}\\n\")\n",
    "lp_task = tasks[1]\n",
    "print(f\"Loaded link prediction task: {lp_task}\\n\")"
   ]
  }
 ],
 "metadata": {
  "colab": {
   "private_outputs": true,
   "provenance": []
  },
  "kernelspec": {
   "display_name": "Python 3",
   "name": "python3"
  },
  "language_info": {
   "codemirror_mode": {
    "name": "ipython",
    "version": 3
   },
   "file_extension": ".py",
   "mimetype": "text/x-python",
   "name": "python",
   "nbconvert_exporter": "python",
   "pygments_lexer": "ipython3",
   "version": "3.10.14"
  }
 },
 "nbformat": 4,
 "nbformat_minor": 0
}

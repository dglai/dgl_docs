{
 "cells": [
  {
   "cell_type": "markdown",
   "metadata": {
    "id": "FnFhPMaAfLtJ"
   },
   "source": [
    "# OnDiskDataset for Homogeneous Graph\n",
    "\n",
    "[![Open In Colab](https://colab.research.google.com/assets/colab-badge.svg)](https://colab.research.google.com/github/dmlc/dgl/blob/master/notebooks/stochastic_training/ondisk_dataset_homograph.ipynb) [![GitHub](https://img.shields.io/badge/-View%20on%20GitHub-181717?logo=github&logoColor=ffffff)](https://github.com/dmlc/dgl/blob/master/notebooks/stochastic_training/ondisk_dataset_homograph.ipynb)\n",
    "\n",
    "This tutorial shows how to create `OnDiskDataset` for homogeneous graph that could be used in **GraphBolt** framework.\n",
    "\n",
    "By the end of this tutorial, you will be able to\n",
    "\n",
    "- organize graph structure data.\n",
    "- organize feature data.\n",
    "- organize training/validation/test set for specific tasks.\n",
    "\n",
    "To create an ``OnDiskDataset`` object, you need to organize all the data including graph structure, feature data and tasks into a directory. The directory should contain a ``metadata.yaml`` file that describes the metadata of the dataset.\n",
    "\n",
    "Now let's generate various data step by step and organize them together to instantiate `OnDiskDataset` finally."
   ]
  },
  {
   "cell_type": "markdown",
   "metadata": {
    "id": "Wlb19DtWgtzq"
   },
   "source": [
    "## Install DGL package"
   ]
  },
  {
   "cell_type": "code",
   "execution_count": 1,
   "metadata": {
    "execution": {
     "iopub.execute_input": "2024-10-13T13:25:41.019893Z",
     "iopub.status.busy": "2024-10-13T13:25:41.019370Z",
     "iopub.status.idle": "2024-10-13T13:25:44.065904Z",
     "shell.execute_reply": "2024-10-13T13:25:44.064909Z"
    },
    "id": "UojlT9ZGgyr9"
   },
   "outputs": [
    {
     "name": "stdout",
     "output_type": "stream",
     "text": [
      "Looking in links: https://data.dgl.ai/wheels-test/repo.html\r\n",
      "Requirement already satisfied: dgl in /opt/conda/envs/dgl-dev-cpu/lib/python3.10/site-packages (2.2a240410)\r\n",
      "Requirement already satisfied: numpy>=1.14.0 in /opt/conda/envs/dgl-dev-cpu/lib/python3.10/site-packages (from dgl) (1.26.4)\r\n",
      "Requirement already satisfied: scipy>=1.1.0 in /opt/conda/envs/dgl-dev-cpu/lib/python3.10/site-packages (from dgl) (1.14.1)\r\n",
      "Requirement already satisfied: networkx>=2.1 in /opt/conda/envs/dgl-dev-cpu/lib/python3.10/site-packages (from dgl) (3.4.1)\r\n",
      "Requirement already satisfied: requests>=2.19.0 in /opt/conda/envs/dgl-dev-cpu/lib/python3.10/site-packages (from dgl) (2.32.3)\r\n",
      "Requirement already satisfied: tqdm in /opt/conda/envs/dgl-dev-cpu/lib/python3.10/site-packages (from dgl) (4.66.5)\r\n",
      "Requirement already satisfied: psutil>=5.8.0 in /opt/conda/envs/dgl-dev-cpu/lib/python3.10/site-packages (from dgl) (6.0.0)\r\n",
      "Requirement already satisfied: torchdata>=0.5.0 in /opt/conda/envs/dgl-dev-cpu/lib/python3.10/site-packages (from dgl) (0.8.0)\r\n",
      "Requirement already satisfied: pandas in /opt/conda/envs/dgl-dev-cpu/lib/python3.10/site-packages (from dgl) (2.2.3)\r\n"
     ]
    },
    {
     "name": "stdout",
     "output_type": "stream",
     "text": [
      "Requirement already satisfied: charset-normalizer<4,>=2 in /opt/conda/envs/dgl-dev-cpu/lib/python3.10/site-packages (from requests>=2.19.0->dgl) (3.4.0)\r\n",
      "Requirement already satisfied: idna<4,>=2.5 in /opt/conda/envs/dgl-dev-cpu/lib/python3.10/site-packages (from requests>=2.19.0->dgl) (3.10)\r\n",
      "Requirement already satisfied: urllib3<3,>=1.21.1 in /opt/conda/envs/dgl-dev-cpu/lib/python3.10/site-packages (from requests>=2.19.0->dgl) (2.2.3)\r\n",
      "Requirement already satisfied: certifi>=2017.4.17 in /opt/conda/envs/dgl-dev-cpu/lib/python3.10/site-packages (from requests>=2.19.0->dgl) (2024.8.30)\r\n",
      "Requirement already satisfied: torch>=2 in /opt/conda/envs/dgl-dev-cpu/lib/python3.10/site-packages (from torchdata>=0.5.0->dgl) (2.1.0+cpu)\r\n"
     ]
    },
    {
     "name": "stdout",
     "output_type": "stream",
     "text": [
      "Requirement already satisfied: python-dateutil>=2.8.2 in /opt/conda/envs/dgl-dev-cpu/lib/python3.10/site-packages (from pandas->dgl) (2.9.0.post0)\r\n",
      "Requirement already satisfied: pytz>=2020.1 in /opt/conda/envs/dgl-dev-cpu/lib/python3.10/site-packages (from pandas->dgl) (2024.2)\r\n",
      "Requirement already satisfied: tzdata>=2022.7 in /opt/conda/envs/dgl-dev-cpu/lib/python3.10/site-packages (from pandas->dgl) (2024.2)\r\n",
      "Requirement already satisfied: six>=1.5 in /opt/conda/envs/dgl-dev-cpu/lib/python3.10/site-packages (from python-dateutil>=2.8.2->pandas->dgl) (1.16.0)\r\n",
      "Requirement already satisfied: filelock in /opt/conda/envs/dgl-dev-cpu/lib/python3.10/site-packages (from torch>=2->torchdata>=0.5.0->dgl) (3.16.1)\r\n",
      "Requirement already satisfied: typing-extensions in /opt/conda/envs/dgl-dev-cpu/lib/python3.10/site-packages (from torch>=2->torchdata>=0.5.0->dgl) (4.12.2)\r\n",
      "Requirement already satisfied: sympy in /opt/conda/envs/dgl-dev-cpu/lib/python3.10/site-packages (from torch>=2->torchdata>=0.5.0->dgl) (1.13.3)\r\n",
      "Requirement already satisfied: jinja2 in /opt/conda/envs/dgl-dev-cpu/lib/python3.10/site-packages (from torch>=2->torchdata>=0.5.0->dgl) (3.1.4)\r\n",
      "Requirement already satisfied: fsspec in /opt/conda/envs/dgl-dev-cpu/lib/python3.10/site-packages (from torch>=2->torchdata>=0.5.0->dgl) (2024.9.0)\r\n"
     ]
    },
    {
     "name": "stdout",
     "output_type": "stream",
     "text": [
      "Requirement already satisfied: MarkupSafe>=2.0 in /opt/conda/envs/dgl-dev-cpu/lib/python3.10/site-packages (from jinja2->torch>=2->torchdata>=0.5.0->dgl) (3.0.1)\r\n",
      "Requirement already satisfied: mpmath<1.4,>=1.1.0 in /opt/conda/envs/dgl-dev-cpu/lib/python3.10/site-packages (from sympy->torch>=2->torchdata>=0.5.0->dgl) (1.3.0)\r\n"
     ]
    },
    {
     "name": "stdout",
     "output_type": "stream",
     "text": [
      "\u001b[33mWARNING: Running pip as the 'root' user can result in broken permissions and conflicting behaviour with the system package manager, possibly rendering your system unusable.It is recommended to use a virtual environment instead: https://pip.pypa.io/warnings/venv. Use the --root-user-action option if you know what you are doing and want to suppress this warning.\u001b[0m\u001b[33m\r\n",
      "\u001b[0m"
     ]
    },
    {
     "name": "stdout",
     "output_type": "stream",
     "text": [
      "DGL installed!\n"
     ]
    }
   ],
   "source": [
    "# Install required packages.\n",
    "import os\n",
    "import torch\n",
    "import numpy as np\n",
    "os.environ['TORCH'] = torch.__version__\n",
    "os.environ['DGLBACKEND'] = \"pytorch\"\n",
    "\n",
    "# Install the CPU version.\n",
    "device = torch.device(\"cpu\")\n",
    "!pip install --pre dgl -f https://data.dgl.ai/wheels-test/repo.html\n",
    "\n",
    "try:\n",
    "    import dgl\n",
    "    import dgl.graphbolt as gb\n",
    "    installed = True\n",
    "except ImportError as error:\n",
    "    installed = False\n",
    "    print(error)\n",
    "print(\"DGL installed!\" if installed else \"DGL not found!\")"
   ]
  },
  {
   "cell_type": "markdown",
   "metadata": {
    "id": "2R7WnSbjsfbr"
   },
   "source": [
    "## Data preparation\n",
    "In order to demonstrate how to organize various data, let's create a base directory first."
   ]
  },
  {
   "cell_type": "code",
   "execution_count": 2,
   "metadata": {
    "execution": {
     "iopub.execute_input": "2024-10-13T13:25:44.068848Z",
     "iopub.status.busy": "2024-10-13T13:25:44.068084Z",
     "iopub.status.idle": "2024-10-13T13:25:44.073674Z",
     "shell.execute_reply": "2024-10-13T13:25:44.072775Z"
    },
    "id": "SZipbzyltLfO"
   },
   "outputs": [
    {
     "name": "stdout",
     "output_type": "stream",
     "text": [
      "Created base directory: ./ondisk_dataset_homograph\n"
     ]
    }
   ],
   "source": [
    "base_dir = './ondisk_dataset_homograph'\n",
    "os.makedirs(base_dir, exist_ok=True)\n",
    "print(f\"Created base directory: {base_dir}\")"
   ]
  },
  {
   "cell_type": "markdown",
   "metadata": {
    "id": "qhNtIn_xhlnl"
   },
   "source": [
    "### Generate graph structure data\n",
    "For homogeneous graph, we just need to save edges(namely seeds) into  **Numpy** or **CSV** file.\n",
    "\n",
    "Note:\n",
    "- when saving to **Numpy**, the array requires to be in shape of `(2, N)`. This format is recommended as constructing graph from it is much faster than **CSV** file.\n",
    "- when saving to **CSV** file, do not save index and header.\n"
   ]
  },
  {
   "cell_type": "code",
   "execution_count": 3,
   "metadata": {
    "execution": {
     "iopub.execute_input": "2024-10-13T13:25:44.076052Z",
     "iopub.status.busy": "2024-10-13T13:25:44.075710Z",
     "iopub.status.idle": "2024-10-13T13:25:44.090187Z",
     "shell.execute_reply": "2024-10-13T13:25:44.089307Z"
    },
    "id": "HcBt4G5BmSjr"
   },
   "outputs": [
    {
     "name": "stdout",
     "output_type": "stream",
     "text": [
      "Part of edges: [[357 955]\n",
      " [200 653]\n",
      " [ 23 352]\n",
      " [144 284]\n",
      " [665 956]]\n",
      "Edges are saved into ./ondisk_dataset_homograph/edges.csv\n"
     ]
    }
   ],
   "source": [
    "import numpy as np\n",
    "import pandas as pd\n",
    "num_nodes = 1000\n",
    "num_edges = 10 * num_nodes\n",
    "edges_path = os.path.join(base_dir, \"edges.csv\")\n",
    "edges = np.random.randint(0, num_nodes, size=(num_edges, 2))\n",
    "\n",
    "print(f\"Part of edges: {edges[:5, :]}\")\n",
    "\n",
    "df = pd.DataFrame(edges)\n",
    "df.to_csv(edges_path, index=False, header=False)\n",
    "\n",
    "print(f\"Edges are saved into {edges_path}\")"
   ]
  },
  {
   "cell_type": "markdown",
   "metadata": {
    "id": "kh-4cPtzpcaH"
   },
   "source": [
    "### Generate feature data for graph\n",
    "For feature data, numpy arrays and torch tensors are supported for now."
   ]
  },
  {
   "cell_type": "code",
   "execution_count": 4,
   "metadata": {
    "execution": {
     "iopub.execute_input": "2024-10-13T13:25:44.093135Z",
     "iopub.status.busy": "2024-10-13T13:25:44.092503Z",
     "iopub.status.idle": "2024-10-13T13:25:44.112578Z",
     "shell.execute_reply": "2024-10-13T13:25:44.111564Z"
    },
    "id": "_PVu1u5brBhF"
   },
   "outputs": [
    {
     "name": "stdout",
     "output_type": "stream",
     "text": [
      "Part of node feature [feat_0]: [[0.41922974 0.40809795 0.05059084 0.5457447  0.4693008 ]\n",
      " [0.92700509 0.02223635 0.0104909  0.54298179 0.96924173]\n",
      " [0.5315022  0.30887613 0.15974175 0.39014279 0.29564598]]\n",
      "Node feature [feat_0] is saved to ./ondisk_dataset_homograph/node-feat-0.npy\n",
      "\n",
      "Part of node feature [feat_1]: tensor([[0.8784, 0.9494, 0.3644, 0.0438, 0.0838],\n",
      "        [0.8945, 0.4534, 0.9811, 0.4130, 0.4861],\n",
      "        [0.2265, 0.3030, 0.6521, 0.9881, 0.9937]])\n",
      "Node feature [feat_1] is saved to ./ondisk_dataset_homograph/node-feat-1.pt\n",
      "\n",
      "Part of edge feature [feat_0]: [[0.95014036 0.2790563  0.6802886  0.04615204 0.77895032]\n",
      " [0.65011284 0.78308304 0.57194309 0.6602303  0.38220632]\n",
      " [0.52590955 0.6955176  0.92076584 0.46464033 0.73595083]]\n",
      "Edge feature [feat_0] is saved to ./ondisk_dataset_homograph/edge-feat-0.npy\n",
      "\n",
      "Part of edge feature [feat_1]: tensor([[0.8051, 0.1527, 0.7734, 0.0047, 0.9620],\n",
      "        [0.1124, 0.0503, 0.4053, 0.8458, 0.4895],\n",
      "        [0.1793, 0.6627, 0.4780, 0.8289, 0.4102]])\n",
      "Edge feature [feat_1] is saved to ./ondisk_dataset_homograph/edge-feat-1.pt\n",
      "\n"
     ]
    }
   ],
   "source": [
    "# Generate node feature in numpy array.\n",
    "node_feat_0_path = os.path.join(base_dir, \"node-feat-0.npy\")\n",
    "node_feat_0 = np.random.rand(num_nodes, 5)\n",
    "print(f\"Part of node feature [feat_0]: {node_feat_0[:3, :]}\")\n",
    "np.save(node_feat_0_path, node_feat_0)\n",
    "print(f\"Node feature [feat_0] is saved to {node_feat_0_path}\\n\")\n",
    "\n",
    "# Generate another node feature in torch tensor\n",
    "node_feat_1_path = os.path.join(base_dir, \"node-feat-1.pt\")\n",
    "node_feat_1 = torch.rand(num_nodes, 5)\n",
    "print(f\"Part of node feature [feat_1]: {node_feat_1[:3, :]}\")\n",
    "torch.save(node_feat_1, node_feat_1_path)\n",
    "print(f\"Node feature [feat_1] is saved to {node_feat_1_path}\\n\")\n",
    "\n",
    "# Generate edge feature in numpy array.\n",
    "edge_feat_0_path = os.path.join(base_dir, \"edge-feat-0.npy\")\n",
    "edge_feat_0 = np.random.rand(num_edges, 5)\n",
    "print(f\"Part of edge feature [feat_0]: {edge_feat_0[:3, :]}\")\n",
    "np.save(edge_feat_0_path, edge_feat_0)\n",
    "print(f\"Edge feature [feat_0] is saved to {edge_feat_0_path}\\n\")\n",
    "\n",
    "# Generate another edge feature in torch tensor\n",
    "edge_feat_1_path = os.path.join(base_dir, \"edge-feat-1.pt\")\n",
    "edge_feat_1 = torch.rand(num_edges, 5)\n",
    "print(f\"Part of edge feature [feat_1]: {edge_feat_1[:3, :]}\")\n",
    "torch.save(edge_feat_1, edge_feat_1_path)\n",
    "print(f\"Edge feature [feat_1] is saved to {edge_feat_1_path}\\n\")\n"
   ]
  },
  {
   "cell_type": "markdown",
   "metadata": {
    "id": "ZyqgOtsIwzh_"
   },
   "source": [
    "### Generate tasks\n",
    "`OnDiskDataset` supports multiple tasks. For each task, we need to prepare training/validation/test sets respectively. Such sets usually vary among different tasks. In this tutorial, let's create a **Node Classification** task and **Link Prediction** task."
   ]
  },
  {
   "cell_type": "markdown",
   "metadata": {
    "id": "hVxHaDIfzCkr"
   },
   "source": [
    "#### Node Classification Task\n",
    "For node classification task, we need **node IDs** and corresponding **labels** for each training/validation/test set. Like feature data, numpy arrays and torch tensors are supported for these sets."
   ]
  },
  {
   "cell_type": "code",
   "execution_count": 5,
   "metadata": {
    "execution": {
     "iopub.execute_input": "2024-10-13T13:25:44.114916Z",
     "iopub.status.busy": "2024-10-13T13:25:44.114454Z",
     "iopub.status.idle": "2024-10-13T13:25:44.127486Z",
     "shell.execute_reply": "2024-10-13T13:25:44.126537Z"
    },
    "id": "S5-fyBbHzTCO"
   },
   "outputs": [
    {
     "name": "stdout",
     "output_type": "stream",
     "text": [
      "Part of train ids for node classification: [658 548 635]\n",
      "NC train ids are saved to ./ondisk_dataset_homograph/nc-train-ids.npy\n",
      "\n",
      "Part of train labels for node classification: tensor([2, 7, 9])\n",
      "NC train labels are saved to ./ondisk_dataset_homograph/nc-train-labels.pt\n",
      "\n",
      "Part of val ids for node classification: [ 40 340 320]\n",
      "NC val ids are saved to ./ondisk_dataset_homograph/nc-val-ids.npy\n",
      "\n",
      "Part of val labels for node classification: tensor([3, 4, 6])\n",
      "NC val labels are saved to ./ondisk_dataset_homograph/nc-val-labels.pt\n",
      "\n",
      "Part of test ids for node classification: [ 67 627 926]\n",
      "NC test ids are saved to ./ondisk_dataset_homograph/nc-test-ids.npy\n",
      "\n",
      "Part of test labels for node classification: tensor([1, 3, 1])\n",
      "NC test labels are saved to ./ondisk_dataset_homograph/nc-test-labels.pt\n",
      "\n"
     ]
    }
   ],
   "source": [
    "num_trains = int(num_nodes * 0.6)\n",
    "num_vals = int(num_nodes * 0.2)\n",
    "num_tests = num_nodes - num_trains - num_vals\n",
    "\n",
    "ids = np.arange(num_nodes)\n",
    "np.random.shuffle(ids)\n",
    "\n",
    "nc_train_ids_path = os.path.join(base_dir, \"nc-train-ids.npy\")\n",
    "nc_train_ids = ids[:num_trains]\n",
    "print(f\"Part of train ids for node classification: {nc_train_ids[:3]}\")\n",
    "np.save(nc_train_ids_path, nc_train_ids)\n",
    "print(f\"NC train ids are saved to {nc_train_ids_path}\\n\")\n",
    "\n",
    "nc_train_labels_path = os.path.join(base_dir, \"nc-train-labels.pt\")\n",
    "nc_train_labels = torch.randint(0, 10, (num_trains,))\n",
    "print(f\"Part of train labels for node classification: {nc_train_labels[:3]}\")\n",
    "torch.save(nc_train_labels, nc_train_labels_path)\n",
    "print(f\"NC train labels are saved to {nc_train_labels_path}\\n\")\n",
    "\n",
    "nc_val_ids_path = os.path.join(base_dir, \"nc-val-ids.npy\")\n",
    "nc_val_ids = ids[num_trains:num_trains+num_vals]\n",
    "print(f\"Part of val ids for node classification: {nc_val_ids[:3]}\")\n",
    "np.save(nc_val_ids_path, nc_val_ids)\n",
    "print(f\"NC val ids are saved to {nc_val_ids_path}\\n\")\n",
    "\n",
    "nc_val_labels_path = os.path.join(base_dir, \"nc-val-labels.pt\")\n",
    "nc_val_labels = torch.randint(0, 10, (num_vals,))\n",
    "print(f\"Part of val labels for node classification: {nc_val_labels[:3]}\")\n",
    "torch.save(nc_val_labels, nc_val_labels_path)\n",
    "print(f\"NC val labels are saved to {nc_val_labels_path}\\n\")\n",
    "\n",
    "nc_test_ids_path = os.path.join(base_dir, \"nc-test-ids.npy\")\n",
    "nc_test_ids = ids[-num_tests:]\n",
    "print(f\"Part of test ids for node classification: {nc_test_ids[:3]}\")\n",
    "np.save(nc_test_ids_path, nc_test_ids)\n",
    "print(f\"NC test ids are saved to {nc_test_ids_path}\\n\")\n",
    "\n",
    "nc_test_labels_path = os.path.join(base_dir, \"nc-test-labels.pt\")\n",
    "nc_test_labels = torch.randint(0, 10, (num_tests,))\n",
    "print(f\"Part of test labels for node classification: {nc_test_labels[:3]}\")\n",
    "torch.save(nc_test_labels, nc_test_labels_path)\n",
    "print(f\"NC test labels are saved to {nc_test_labels_path}\\n\")"
   ]
  },
  {
   "cell_type": "markdown",
   "metadata": {
    "id": "LhAcDCHQ_KJ0"
   },
   "source": [
    "#### Link Prediction Task\n",
    "For link prediction task, we need **seeds** or **corresponding labels and indexes** which representing the pos/neg property and group of the seeds for each training/validation/test set. Like feature data, numpy arrays and torch tensors are supported for these sets."
   ]
  },
  {
   "cell_type": "code",
   "execution_count": 6,
   "metadata": {
    "execution": {
     "iopub.execute_input": "2024-10-13T13:25:44.130050Z",
     "iopub.status.busy": "2024-10-13T13:25:44.129495Z",
     "iopub.status.idle": "2024-10-13T13:25:44.148167Z",
     "shell.execute_reply": "2024-10-13T13:25:44.147253Z"
    },
    "id": "u0jCnXIcAQy4"
   },
   "outputs": [
    {
     "name": "stdout",
     "output_type": "stream",
     "text": [
      "Part of train seeds for link prediction: [[357 955]\n",
      " [200 653]\n",
      " [ 23 352]]\n",
      "LP train seeds are saved to ./ondisk_dataset_homograph/lp-train-seeds.npy\n",
      "\n",
      "Part of val seeds for link prediction: [[832 206]\n",
      " [650 658]\n",
      " [757 376]]\n",
      "LP val seeds are saved to ./ondisk_dataset_homograph/lp-val-seeds.npy\n",
      "\n",
      "Part of val labels for link prediction: [1. 1. 1.]\n",
      "LP val labels are saved to ./ondisk_dataset_homograph/lp-val-labels.npy\n",
      "\n",
      "Part of val indexes for link prediction: [0 1 2]\n",
      "LP val indexes are saved to ./ondisk_dataset_homograph/lp-val-indexes.npy\n",
      "\n",
      "Part of test seeds for link prediction: [[384 714]\n",
      " [ 42 467]\n",
      " [493 598]]\n",
      "LP test seeds are saved to ./ondisk_dataset_homograph/lp-test-seeds.npy\n",
      "\n",
      "Part of val labels for link prediction: [1. 1. 1.]\n",
      "LP test labels are saved to ./ondisk_dataset_homograph/lp-test-labels.npy\n",
      "\n",
      "Part of test indexes for link prediction: [0 1 2]\n",
      "LP test indexes are saved to ./ondisk_dataset_homograph/lp-test-indexes.npy\n",
      "\n"
     ]
    }
   ],
   "source": [
    "num_trains = int(num_edges * 0.6)\n",
    "num_vals = int(num_edges * 0.2)\n",
    "num_tests = num_edges - num_trains - num_vals\n",
    "\n",
    "lp_train_seeds_path = os.path.join(base_dir, \"lp-train-seeds.npy\")\n",
    "lp_train_seeds = edges[:num_trains, :]\n",
    "print(f\"Part of train seeds for link prediction: {lp_train_seeds[:3]}\")\n",
    "np.save(lp_train_seeds_path, lp_train_seeds)\n",
    "print(f\"LP train seeds are saved to {lp_train_seeds_path}\\n\")\n",
    "\n",
    "lp_val_seeds_path = os.path.join(base_dir, \"lp-val-seeds.npy\")\n",
    "lp_val_seeds = edges[num_trains:num_trains+num_vals, :]\n",
    "lp_val_neg_dsts = np.random.randint(0, num_nodes, (num_vals, 10)).reshape(-1)\n",
    "lp_val_neg_srcs = np.repeat(lp_val_seeds[:,0], 10)\n",
    "lp_val_neg_seeds = np.concatenate((lp_val_neg_srcs, lp_val_neg_dsts)).reshape(2,-1).T\n",
    "lp_val_seeds = np.concatenate((lp_val_seeds, lp_val_neg_seeds))\n",
    "print(f\"Part of val seeds for link prediction: {lp_val_seeds[:3]}\")\n",
    "np.save(lp_val_seeds_path, lp_val_seeds)\n",
    "print(f\"LP val seeds are saved to {lp_val_seeds_path}\\n\")\n",
    "\n",
    "lp_val_labels_path = os.path.join(base_dir, \"lp-val-labels.npy\")\n",
    "lp_val_labels = np.empty(num_vals * (10 + 1))\n",
    "lp_val_labels[:num_vals] = 1\n",
    "lp_val_labels[num_vals:] = 0\n",
    "print(f\"Part of val labels for link prediction: {lp_val_labels[:3]}\")\n",
    "np.save(lp_val_labels_path, lp_val_labels)\n",
    "print(f\"LP val labels are saved to {lp_val_labels_path}\\n\")\n",
    "\n",
    "lp_val_indexes_path = os.path.join(base_dir, \"lp-val-indexes.npy\")\n",
    "lp_val_indexes = np.arange(0, num_vals)\n",
    "lp_val_neg_indexes = np.repeat(lp_val_indexes, 10)\n",
    "lp_val_indexes = np.concatenate([lp_val_indexes, lp_val_neg_indexes])\n",
    "print(f\"Part of val indexes for link prediction: {lp_val_indexes[:3]}\")\n",
    "np.save(lp_val_indexes_path, lp_val_indexes)\n",
    "print(f\"LP val indexes are saved to {lp_val_indexes_path}\\n\")\n",
    "\n",
    "lp_test_seeds_path = os.path.join(base_dir, \"lp-test-seeds.npy\")\n",
    "lp_test_seeds = edges[-num_tests:, :]\n",
    "lp_test_neg_dsts = np.random.randint(0, num_nodes, (num_tests, 10)).reshape(-1)\n",
    "lp_test_neg_srcs = np.repeat(lp_test_seeds[:,0], 10)\n",
    "lp_test_neg_seeds = np.concatenate((lp_test_neg_srcs, lp_test_neg_dsts)).reshape(2,-1).T\n",
    "lp_test_seeds = np.concatenate((lp_test_seeds, lp_test_neg_seeds))\n",
    "print(f\"Part of test seeds for link prediction: {lp_test_seeds[:3]}\")\n",
    "np.save(lp_test_seeds_path, lp_test_seeds)\n",
    "print(f\"LP test seeds are saved to {lp_test_seeds_path}\\n\")\n",
    "\n",
    "lp_test_labels_path = os.path.join(base_dir, \"lp-test-labels.npy\")\n",
    "lp_test_labels = np.empty(num_tests * (10 + 1))\n",
    "lp_test_labels[:num_tests] = 1\n",
    "lp_test_labels[num_tests:] = 0\n",
    "print(f\"Part of val labels for link prediction: {lp_test_labels[:3]}\")\n",
    "np.save(lp_test_labels_path, lp_test_labels)\n",
    "print(f\"LP test labels are saved to {lp_test_labels_path}\\n\")\n",
    "\n",
    "lp_test_indexes_path = os.path.join(base_dir, \"lp-test-indexes.npy\")\n",
    "lp_test_indexes = np.arange(0, num_tests)\n",
    "lp_test_neg_indexes = np.repeat(lp_test_indexes, 10)\n",
    "lp_test_indexes = np.concatenate([lp_test_indexes, lp_test_neg_indexes])\n",
    "print(f\"Part of test indexes for link prediction: {lp_test_indexes[:3]}\")\n",
    "np.save(lp_test_indexes_path, lp_test_indexes)\n",
    "print(f\"LP test indexes are saved to {lp_test_indexes_path}\\n\")"
   ]
  },
  {
   "cell_type": "markdown",
   "metadata": {
    "id": "wbk6-wxRK-6S"
   },
   "source": [
    "## Organize Data into YAML File\n",
    "Now we need to create a `metadata.yaml` file which contains the paths, dadta types of graph structure, feature data, training/validation/test sets.\n",
    "\n",
    "Notes:\n",
    "- all path should be relative to `metadata.yaml`.\n",
    "- Below fields are optional and not specified in below example.\n",
    "  - `in_memory`: indicates whether to load dada into memory or `mmap`. Default is `True`.\n",
    "\n",
    "Please refer to [YAML specification](https://github.com/dmlc/dgl/blob/master/docs/source/stochastic_training/ondisk-dataset-specification.rst) for more details."
   ]
  },
  {
   "cell_type": "code",
   "execution_count": 7,
   "metadata": {
    "execution": {
     "iopub.execute_input": "2024-10-13T13:25:44.150784Z",
     "iopub.status.busy": "2024-10-13T13:25:44.150121Z",
     "iopub.status.idle": "2024-10-13T13:25:44.156962Z",
     "shell.execute_reply": "2024-10-13T13:25:44.156097Z"
    },
    "id": "ddGTWW61Lpwp"
   },
   "outputs": [],
   "source": [
    "yaml_content = f\"\"\"\n",
    "    dataset_name: homogeneous_graph_nc_lp\n",
    "    graph:\n",
    "      nodes:\n",
    "        - num: {num_nodes}\n",
    "      edges:\n",
    "        - format: csv\n",
    "          path: {os.path.basename(edges_path)}\n",
    "    feature_data:\n",
    "      - domain: node\n",
    "        name: feat_0\n",
    "        format: numpy\n",
    "        path: {os.path.basename(node_feat_0_path)}\n",
    "      - domain: node\n",
    "        name: feat_1\n",
    "        format: torch\n",
    "        path: {os.path.basename(node_feat_1_path)}\n",
    "      - domain: edge\n",
    "        name: feat_0\n",
    "        format: numpy\n",
    "        path: {os.path.basename(edge_feat_0_path)}\n",
    "      - domain: edge\n",
    "        name: feat_1\n",
    "        format: torch\n",
    "        path: {os.path.basename(edge_feat_1_path)}\n",
    "    tasks:\n",
    "      - name: node_classification\n",
    "        num_classes: 10\n",
    "        train_set:\n",
    "          - data:\n",
    "              - name: seeds\n",
    "                format: numpy\n",
    "                path: {os.path.basename(nc_train_ids_path)}\n",
    "              - name: labels\n",
    "                format: torch\n",
    "                path: {os.path.basename(nc_train_labels_path)}\n",
    "        validation_set:\n",
    "          - data:\n",
    "              - name: seeds\n",
    "                format: numpy\n",
    "                path: {os.path.basename(nc_val_ids_path)}\n",
    "              - name: labels\n",
    "                format: torch\n",
    "                path: {os.path.basename(nc_val_labels_path)}\n",
    "        test_set:\n",
    "          - data:\n",
    "              - name: seeds\n",
    "                format: numpy\n",
    "                path: {os.path.basename(nc_test_ids_path)}\n",
    "              - name: labels\n",
    "                format: torch\n",
    "                path: {os.path.basename(nc_test_labels_path)}\n",
    "      - name: link_prediction\n",
    "        num_classes: 10\n",
    "        train_set:\n",
    "          - data:\n",
    "              - name: seeds\n",
    "                format: numpy\n",
    "                path: {os.path.basename(lp_train_seeds_path)}\n",
    "        validation_set:\n",
    "          - data:\n",
    "              - name: seeds\n",
    "                format: numpy\n",
    "                path: {os.path.basename(lp_val_seeds_path)}\n",
    "              - name: labels\n",
    "                format: numpy\n",
    "                path: {os.path.basename(lp_val_labels_path)}\n",
    "              - name: indexes\n",
    "                format: numpy\n",
    "                path: {os.path.basename(lp_val_indexes_path)}\n",
    "        test_set:\n",
    "          - data:\n",
    "              - name: seeds\n",
    "                format: numpy\n",
    "                path: {os.path.basename(lp_test_seeds_path)}\n",
    "              - name: labels\n",
    "                format: numpy\n",
    "                path: {os.path.basename(lp_test_labels_path)}\n",
    "              - name: indexes\n",
    "                format: numpy\n",
    "                path: {os.path.basename(lp_test_indexes_path)}\n",
    "\"\"\"\n",
    "metadata_path = os.path.join(base_dir, \"metadata.yaml\")\n",
    "with open(metadata_path, \"w\") as f:\n",
    "  f.write(yaml_content)"
   ]
  },
  {
   "cell_type": "markdown",
   "metadata": {
    "id": "kEfybHGhOW7O"
   },
   "source": [
    "## Instantiate `OnDiskDataset`\n",
    "Now we're ready to load dataset via `dgl.graphbolt.OnDiskDataset`. When instantiating, we just pass in the base directory where `metadata.yaml` file lies.\n",
    "\n",
    "During first instantiation, GraphBolt preprocesses the raw data such as constructing `FusedCSCSamplingGraph` from edges. All data including graph, feature data, training/validation/test sets are put into `preprocessed` directory after preprocessing. Any following dataset loading will skip the preprocess stage.\n",
    "\n",
    "After preprocessing, `load()` is required to be called explicitly in order to load graph, feature data and tasks."
   ]
  },
  {
   "cell_type": "code",
   "execution_count": 8,
   "metadata": {
    "execution": {
     "iopub.execute_input": "2024-10-13T13:25:44.159385Z",
     "iopub.status.busy": "2024-10-13T13:25:44.158933Z",
     "iopub.status.idle": "2024-10-13T13:25:44.232203Z",
     "shell.execute_reply": "2024-10-13T13:25:44.231514Z"
    },
    "id": "W58CZoSzOiyo"
   },
   "outputs": [
    {
     "name": "stdout",
     "output_type": "stream",
     "text": [
      "Start to preprocess the on-disk dataset.\n",
      "Finish preprocessing the on-disk dataset.\n",
      "Loaded graph: FusedCSCSamplingGraph(csc_indptr=tensor([    0,    12,    19,  ...,  9975,  9986, 10000], dtype=torch.int32),\n",
      "                      indices=tensor([982, 726, 389,  ..., 952, 846,   9], dtype=torch.int32),\n",
      "                      total_num_nodes=1000, num_edges=10000,)\n",
      "\n",
      "Loaded feature store: TorchBasedFeatureStore(\n",
      "    {(<OnDiskFeatureDataDomain.NODE: 'node'>, None, 'feat_0'): TorchBasedFeature(\n",
      "        feature=tensor([[0.4192, 0.4081, 0.0506, 0.5457, 0.4693],\n",
      "                        [0.9270, 0.0222, 0.0105, 0.5430, 0.9692],\n",
      "                        [0.5315, 0.3089, 0.1597, 0.3901, 0.2956],\n",
      "                        ...,\n",
      "                        [0.5096, 0.2746, 0.7325, 0.1403, 0.2155],\n",
      "                        [0.0709, 0.7865, 0.7318, 0.4604, 0.8986],\n",
      "                        [0.5680, 0.2428, 0.5282, 0.1330, 0.8954]], dtype=torch.float64),\n",
      "        metadata={},\n",
      "    ), (<OnDiskFeatureDataDomain.NODE: 'node'>, None, 'feat_1'): TorchBasedFeature(\n",
      "        feature=tensor([[0.8784, 0.9494, 0.3644, 0.0438, 0.0838],\n",
      "                        [0.8945, 0.4534, 0.9811, 0.4130, 0.4861],\n",
      "                        [0.2265, 0.3030, 0.6521, 0.9881, 0.9937],\n",
      "                        ...,\n",
      "                        [0.3485, 0.4869, 0.7986, 0.2275, 0.9322],\n",
      "                        [0.4334, 0.0558, 0.6407, 0.6883, 0.8216],\n",
      "                        [0.8144, 0.0848, 0.4861, 0.2485, 0.7974]]),\n",
      "        metadata={},\n",
      "    ), (<OnDiskFeatureDataDomain.EDGE: 'edge'>, None, 'feat_0'): TorchBasedFeature(\n",
      "        feature=tensor([[0.9501, 0.2791, 0.6803, 0.0462, 0.7790],\n",
      "                        [0.6501, 0.7831, 0.5719, 0.6602, 0.3822],\n",
      "                        [0.5259, 0.6955, 0.9208, 0.4646, 0.7360],\n",
      "                        ...,\n",
      "                        [0.0469, 0.9883, 0.0138, 0.7799, 0.9705],\n",
      "                        [0.8663, 0.1596, 0.1228, 0.1207, 0.1143],\n",
      "                        [0.5812, 0.3260, 0.4406, 0.0256, 0.1617]], dtype=torch.float64),\n",
      "        metadata={},\n",
      "    ), (<OnDiskFeatureDataDomain.EDGE: 'edge'>, None, 'feat_1'): TorchBasedFeature(\n",
      "        feature=tensor([[0.8051, 0.1527, 0.7734, 0.0047, 0.9620],\n",
      "                        [0.1124, 0.0503, 0.4053, 0.8458, 0.4895],\n",
      "                        [0.1793, 0.6627, 0.4780, 0.8289, 0.4102],\n",
      "                        ...,\n",
      "                        [0.4439, 0.0489, 0.9605, 0.8535, 0.0251],\n",
      "                        [0.4370, 0.6486, 0.5301, 0.5678, 0.3672],\n",
      "                        [0.0232, 0.8304, 0.0159, 0.4962, 0.4923]]),\n",
      "        metadata={},\n",
      "    )}\n",
      ")\n",
      "\n",
      "Loaded node classification task: OnDiskTask(validation_set=ItemSet(\n",
      "               items=(tensor([ 40, 340, 320, 357,  12, 585, 411, 791, 652, 535, 224, 604, 834, 248,\n",
      "                     4, 121, 345,  53, 137, 722, 976,  43, 902, 922, 386, 814, 153, 978,\n",
      "                   379, 199, 307, 327, 110, 749, 147, 949, 884, 782, 425, 564, 457, 516,\n",
      "                   921, 606, 969, 630,  99, 819, 800, 324, 243,  87,   5, 433, 587, 109,\n",
      "                    92, 267, 825, 232, 682, 503, 600, 176, 821, 268, 514, 188, 866, 631,\n",
      "                   431, 710, 878,  28, 979, 864, 302, 269, 959, 360, 838, 537, 496, 733,\n",
      "                   601, 746, 774, 856, 444, 775, 989, 222, 221, 612, 795, 387, 519, 632,\n",
      "                   897, 577, 806, 422, 842, 995, 272, 197, 180, 951, 151, 242, 161, 287,\n",
      "                   442, 648, 399, 891, 536, 438, 254, 835, 133, 620, 886, 205, 801, 210,\n",
      "                   526, 262, 216, 802, 165, 984, 500,  17, 892,  47,   9, 429, 501, 359,\n",
      "                   286,  69, 193, 786, 416, 964, 189, 350, 557, 524, 467, 448, 499, 163,\n",
      "                   117,  51, 402, 504, 513, 344, 568, 965,  18, 543,  20, 904, 553, 463,\n",
      "                   929, 986, 943, 498, 336,  27, 406, 329, 594, 400, 998, 748, 333, 917,\n",
      "                    63, 530, 854, 332,  34, 873, 655, 226, 907, 908, 863, 736, 104, 737,\n",
      "                   662, 789, 437, 155], dtype=torch.int32), tensor([3, 4, 6, 3, 4, 0, 2, 3, 4, 5, 1, 9, 4, 4, 8, 0, 3, 3, 2, 1, 3, 8, 6, 6,\n",
      "                   6, 0, 2, 3, 4, 1, 4, 1, 3, 9, 6, 1, 9, 9, 0, 8, 6, 5, 0, 3, 6, 4, 7, 3,\n",
      "                   1, 3, 4, 2, 6, 7, 8, 5, 8, 9, 8, 4, 9, 2, 1, 5, 2, 6, 1, 8, 4, 5, 6, 2,\n",
      "                   2, 1, 3, 8, 0, 5, 4, 7, 6, 7, 6, 4, 0, 5, 8, 5, 5, 6, 8, 7, 9, 8, 3, 2,\n",
      "                   9, 0, 6, 2, 6, 2, 6, 3, 7, 5, 9, 8, 6, 6, 8, 1, 2, 9, 8, 0, 9, 3, 4, 4,\n",
      "                   3, 6, 2, 2, 5, 3, 6, 0, 9, 6, 0, 3, 4, 8, 5, 9, 7, 6, 7, 0, 5, 7, 5, 4,\n",
      "                   8, 1, 9, 2, 0, 5, 7, 8, 7, 1, 0, 0, 1, 7, 0, 6, 0, 5, 9, 2, 5, 5, 4, 1,\n",
      "                   5, 9, 6, 9, 4, 1, 3, 2, 4, 9, 3, 0, 7, 3, 6, 0, 1, 9, 9, 8, 9, 0, 1, 9,\n",
      "                   2, 3, 2, 4, 2, 6, 6, 0])),\n",
      "               names=('seeds', 'labels'),\n",
      "           ),\n",
      "           train_set=ItemSet(\n",
      "               items=(tensor([658, 548, 635, 872, 511, 317, 190, 135, 657, 384, 646, 841, 284, 143,\n",
      "                   316,  42, 808, 343, 427, 565, 709, 306, 167, 156, 403, 559, 505, 353,\n",
      "                   919, 265, 152, 126, 974, 192, 792, 171, 172, 968, 547, 462,  82, 111,\n",
      "                   567, 981, 419, 958, 532, 688, 116, 956, 263, 424, 725, 930, 881, 957,\n",
      "                   138, 941, 508, 607, 461, 659, 191, 247, 545, 297,  90, 471, 850, 686,\n",
      "                   640, 888, 228, 235, 113, 764, 882, 369, 140, 852, 771, 720,  44, 645,\n",
      "                   724, 342, 179, 506, 291, 186, 469, 824, 781,  41, 629, 518, 443, 588,\n",
      "                   769, 903, 740, 692, 912, 805, 541, 980,   1, 857, 680, 708, 628,  84,\n",
      "                   392, 582, 750, 394, 396,  89, 458, 583, 845, 641, 298, 256, 638, 495,\n",
      "                    68, 860, 363, 796, 523, 944, 810,  36, 660, 293, 637, 690, 898, 829,\n",
      "                   376,  15, 851, 173, 569,  94, 139, 303, 643, 855, 330, 520, 967, 966,\n",
      "                    76,  72, 721, 669, 618, 334, 697, 255, 465, 314, 900, 772, 713, 699,\n",
      "                   261, 100, 512, 914, 540, 194, 931, 716, 839, 408,  81, 491,  25, 562,\n",
      "                   603, 977, 339, 689,  10, 120, 571, 608, 168, 211,  32, 621, 487, 484,\n",
      "                   468, 528,  35, 430, 475, 182, 368, 183, 311, 719, 251, 726, 417, 273,\n",
      "                   253, 517,  77, 375,  70, 258, 470, 464, 218, 122, 404, 744, 910, 624,\n",
      "                    46, 347, 853, 715, 816, 115,   6, 451, 174, 933, 476,  91, 572,  29,\n",
      "                   459, 593, 717, 549, 596, 132, 707, 833, 349, 550, 915, 609, 108, 742,\n",
      "                   326, 106, 972, 160, 266, 671, 876, 445,  38, 759, 477, 649, 576, 276,\n",
      "                   936, 435, 230, 683, 423, 880, 595, 992, 323, 246, 220, 807, 994,  65,\n",
      "                   456,   8, 209, 509, 223, 551, 820, 970, 241, 937, 731, 679, 844, 278,\n",
      "                   450, 389, 783, 653, 827, 473, 341, 507, 426, 681, 718, 380, 765, 413,\n",
      "                   234, 358, 670, 909, 751, 521, 939, 355, 474, 826, 370, 862, 945, 905,\n",
      "                   478, 961, 920, 159, 619, 793, 410, 377, 539, 169, 552, 656, 859, 295,\n",
      "                    33, 768, 233, 668, 203, 428, 439, 673, 275, 613, 101,   0, 432, 198,\n",
      "                   779, 103, 663, 575, 760, 960, 277,  97, 785, 249, 755, 401,  71, 953,\n",
      "                   283, 946,  16, 301, 364, 237, 971, 581, 895, 294, 975, 799,  26, 828,\n",
      "                   285,  59, 544, 597, 346,  98, 877, 415, 185, 114, 119, 522,  79, 348,\n",
      "                   127, 337, 292, 879, 846, 175, 776, 351, 378, 858, 187, 236, 644, 955,\n",
      "                   162,   2,  88, 208, 331,  64, 494, 893, 804, 647, 589, 761, 602, 560,\n",
      "                   743, 934, 590,  86, 798, 338, 206,  85, 861, 693, 204, 599,  48, 906,\n",
      "                   911, 123,  19, 623, 466, 988, 714, 758, 990, 667,  95, 201, 803,  58,\n",
      "                   325,  56, 696, 393, 335, 373,  37,  61, 264, 840, 674, 128, 213, 502,\n",
      "                   362, 942,  80, 831, 310, 830, 794, 711, 687, 181, 757, 533, 626, 578,\n",
      "                    11, 694, 780, 118, 452, 797, 997, 848, 366, 932,  74, 790, 225,  83,\n",
      "                   412, 289, 510, 395, 871, 144, 542, 770, 762, 288, 691, 617, 441, 558,\n",
      "                   166,  23, 809, 741, 130, 279, 124, 767, 440, 952,  24, 899, 244, 579,\n",
      "                   584, 492, 145, 313, 983, 867, 446, 890, 818, 784, 698, 706, 318, 217,\n",
      "                   184, 271,  52, 563,  50, 672, 158, 605, 678, 591, 319, 739, 685,  22,\n",
      "                   398, 747, 454, 405, 170, 636, 489, 239, 361, 817, 383,  14, 705, 388,\n",
      "                    96, 947, 493, 531,  30, 832, 290, 999, 308, 916, 414, 374, 837, 381,\n",
      "                   480, 665, 219, 928, 538, 614, 157, 356, 987, 811, 195, 385, 472, 259,\n",
      "                   497, 304, 164, 985, 642, 754, 700,  54, 418, 483, 257,  60],\n",
      "                  dtype=torch.int32), tensor([2, 7, 9, 8, 7, 8, 7, 7, 0, 7, 6, 3, 3, 5, 1, 7, 1, 9, 6, 0, 7, 5, 2, 3,\n",
      "                   7, 1, 9, 5, 0, 6, 0, 3, 4, 0, 8, 7, 3, 2, 9, 8, 6, 0, 8, 4, 9, 6, 3, 1,\n",
      "                   2, 9, 9, 3, 5, 8, 2, 4, 5, 9, 4, 3, 3, 6, 0, 4, 3, 2, 7, 1, 1, 1, 8, 5,\n",
      "                   2, 3, 8, 9, 4, 8, 0, 5, 4, 2, 3, 3, 0, 8, 4, 4, 0, 7, 1, 0, 6, 8, 9, 3,\n",
      "                   0, 4, 6, 0, 9, 7, 4, 2, 5, 0, 5, 8, 7, 1, 6, 6, 5, 5, 5, 8, 2, 7, 6, 0,\n",
      "                   7, 0, 8, 3, 0, 7, 8, 5, 7, 4, 0, 7, 9, 6, 7, 5, 4, 4, 2, 4, 3, 2, 4, 9,\n",
      "                   6, 1, 2, 6, 8, 8, 2, 8, 5, 5, 3, 1, 5, 3, 4, 5, 4, 9, 9, 4, 0, 2, 8, 7,\n",
      "                   6, 8, 9, 7, 4, 3, 3, 5, 9, 8, 5, 9, 5, 7, 9, 4, 8, 0, 5, 2, 6, 2, 1, 6,\n",
      "                   9, 0, 3, 4, 1, 6, 5, 1, 0, 5, 1, 1, 7, 7, 4, 2, 2, 1, 3, 4, 4, 7, 4, 5,\n",
      "                   7, 3, 6, 1, 3, 0, 5, 9, 6, 9, 3, 0, 8, 8, 6, 5, 0, 0, 7, 8, 9, 1, 3, 6,\n",
      "                   3, 8, 0, 6, 7, 5, 9, 8, 0, 8, 4, 2, 4, 7, 5, 2, 6, 3, 4, 8, 0, 3, 2, 2,\n",
      "                   8, 3, 7, 3, 7, 2, 5, 4, 4, 7, 8, 5, 9, 7, 7, 4, 3, 2, 4, 8, 9, 4, 9, 6,\n",
      "                   5, 3, 1, 7, 0, 7, 3, 8, 1, 5, 0, 1, 9, 5, 1, 3, 2, 7, 2, 9, 3, 9, 6, 2,\n",
      "                   4, 1, 9, 5, 3, 7, 5, 9, 1, 8, 7, 8, 6, 9, 6, 1, 4, 0, 7, 6, 3, 1, 2, 5,\n",
      "                   5, 9, 1, 0, 1, 0, 8, 3, 1, 7, 6, 0, 2, 3, 9, 9, 9, 0, 4, 2, 1, 5, 9, 5,\n",
      "                   6, 7, 4, 1, 7, 9, 9, 1, 1, 6, 5, 1, 8, 6, 0, 0, 1, 6, 1, 0, 2, 7, 2, 2,\n",
      "                   4, 3, 9, 4, 5, 7, 0, 7, 4, 1, 6, 2, 6, 0, 8, 5, 1, 6, 0, 4, 0, 7, 1, 3,\n",
      "                   4, 2, 7, 4, 0, 3, 9, 1, 5, 3, 0, 2, 2, 3, 1, 7, 7, 9, 4, 5, 2, 4, 4, 8,\n",
      "                   5, 7, 2, 8, 3, 1, 4, 3, 1, 0, 8, 7, 7, 9, 8, 4, 1, 1, 1, 3, 0, 6, 6, 4,\n",
      "                   4, 4, 8, 1, 3, 9, 5, 5, 1, 1, 1, 8, 3, 3, 7, 3, 7, 6, 6, 7, 6, 1, 0, 5,\n",
      "                   2, 0, 9, 1, 7, 1, 2, 5, 4, 4, 0, 8, 4, 9, 1, 6, 1, 5, 8, 5, 7, 5, 7, 6,\n",
      "                   9, 7, 1, 0, 1, 1, 0, 3, 5, 2, 8, 4, 9, 1, 5, 0, 9, 1, 2, 3, 9, 5, 6, 5,\n",
      "                   1, 6, 0, 2, 9, 7, 5, 1, 7, 7, 0, 9, 5, 2, 3, 5, 9, 5, 0, 0, 6, 0, 0, 4,\n",
      "                   0, 6, 1, 2, 2, 9, 9, 4, 6, 8, 8, 9, 7, 8, 0, 3, 0, 5, 2, 4, 7, 1, 8, 3,\n",
      "                   4, 0, 6, 3, 9, 9, 6, 6, 3, 1, 8, 4, 4, 8, 2, 9, 0, 7, 4, 8, 8, 8, 2, 5])),\n",
      "               names=('seeds', 'labels'),\n",
      "           ),\n",
      "           test_set=ItemSet(\n",
      "               items=(tensor([ 67, 627, 926, 870,  39, 836, 813,  73, 407, 129, 634, 280, 449, 260,\n",
      "                   149, 901, 555, 252, 702, 982, 610,  75, 328, 894, 245, 666, 485,  31,\n",
      "                   274, 305, 935, 664, 490, 625, 460, 615, 651, 763, 573, 367, 455, 752,\n",
      "                   527, 281, 515, 177, 598, 207, 923, 812, 675, 766, 227, 778, 654, 622,\n",
      "                   546, 479, 131, 141, 868, 991, 525,  57, 777, 738, 434, 240, 950, 948,\n",
      "                   238, 885, 938, 788, 561, 154, 391, 887, 315, 421, 382, 927, 701, 397,\n",
      "                   633, 756, 299, 712, 282, 745, 849, 940, 735, 574, 352, 993, 729, 889,\n",
      "                    66, 447, 125, 815,  78, 924, 869, 202, 787, 586, 973, 371,  55,  93,\n",
      "                   874, 639, 865, 481, 296, 954, 875, 554, 372, 727, 913, 753, 847, 231,\n",
      "                   142, 488, 409, 436, 896, 883,  13, 148, 215, 925,   3, 703, 723, 570,\n",
      "                   962, 300, 773, 134, 684, 529, 704,  21,  45, 732, 823, 270, 107, 214,\n",
      "                   196, 963, 556, 650, 677, 482, 676, 486, 420, 309, 843, 150, 105, 695,\n",
      "                   200, 566, 534, 321,   7, 734, 146, 136, 178, 730,  62, 996, 918, 390,\n",
      "                   365, 728, 354, 453, 212, 229, 580, 661, 592, 611, 616,  49, 250, 322,\n",
      "                   312, 102, 112, 822], dtype=torch.int32), tensor([1, 3, 1, 6, 0, 3, 9, 0, 9, 5, 0, 3, 5, 5, 5, 5, 1, 0, 4, 1, 4, 8, 6, 2,\n",
      "                   5, 4, 1, 4, 2, 1, 2, 9, 7, 7, 6, 1, 7, 6, 1, 5, 6, 4, 0, 1, 4, 1, 8, 8,\n",
      "                   1, 5, 7, 5, 7, 2, 8, 6, 2, 1, 2, 4, 5, 1, 4, 4, 3, 8, 7, 8, 3, 7, 4, 5,\n",
      "                   9, 0, 1, 7, 5, 2, 9, 6, 4, 0, 7, 8, 6, 0, 2, 7, 3, 8, 4, 9, 7, 8, 5, 8,\n",
      "                   2, 1, 7, 3, 0, 1, 9, 4, 6, 2, 0, 5, 3, 5, 7, 8, 9, 3, 1, 4, 1, 0, 8, 7,\n",
      "                   0, 7, 9, 7, 0, 2, 2, 7, 6, 1, 4, 0, 7, 9, 4, 7, 6, 2, 2, 8, 9, 7, 1, 5,\n",
      "                   8, 7, 7, 0, 2, 2, 0, 5, 7, 7, 7, 3, 1, 8, 4, 2, 3, 5, 8, 9, 0, 0, 2, 8,\n",
      "                   2, 8, 0, 7, 7, 6, 5, 6, 7, 9, 8, 2, 1, 0, 4, 7, 8, 9, 9, 7, 8, 0, 0, 4,\n",
      "                   8, 4, 3, 4, 5, 4, 2, 2])),\n",
      "               names=('seeds', 'labels'),\n",
      "           ),\n",
      "           metadata={'name': 'node_classification', 'num_classes': 10},)\n",
      "\n",
      "Loaded link prediction task: OnDiskTask(validation_set=ItemSet(\n",
      "               items=(tensor([[832, 206],\n",
      "                   [650, 658],\n",
      "                   [757, 376],\n",
      "                   ...,\n",
      "                   [ 66, 437],\n",
      "                   [ 66, 166],\n",
      "                   [ 66, 125]], dtype=torch.int32), tensor([1., 1., 1.,  ..., 0., 0., 0.], dtype=torch.float64), tensor([   0,    1,    2,  ..., 1999, 1999, 1999])),\n",
      "               names=('seeds', 'labels', 'indexes'),\n",
      "           ),\n",
      "           train_set=ItemSet(\n",
      "               items=(tensor([[357, 955],\n",
      "                   [200, 653],\n",
      "                   [ 23, 352],\n",
      "                   ...,\n",
      "                   [646, 592],\n",
      "                   [226, 686],\n",
      "                   [891, 559]], dtype=torch.int32),),\n",
      "               names=('seeds',),\n",
      "           ),\n",
      "           test_set=ItemSet(\n",
      "               items=(tensor([[384, 714],\n",
      "                   [ 42, 467],\n",
      "                   [493, 598],\n",
      "                   ...,\n",
      "                   [554, 517],\n",
      "                   [554, 137],\n",
      "                   [554, 655]], dtype=torch.int32), tensor([1., 1., 1.,  ..., 0., 0., 0.], dtype=torch.float64), tensor([   0,    1,    2,  ..., 1999, 1999, 1999])),\n",
      "               names=('seeds', 'labels', 'indexes'),\n",
      "           ),\n",
      "           metadata={'name': 'link_prediction', 'num_classes': 10},)\n",
      "\n"
     ]
    },
    {
     "name": "stderr",
     "output_type": "stream",
     "text": [
      "/dgl/python/dgl/graphbolt/impl/ondisk_dataset.py:463: GBWarning: Edge feature is stored, but edge IDs are not saved.\n",
      "  gb_warning(\"Edge feature is stored, but edge IDs are not saved.\")\n"
     ]
    }
   ],
   "source": [
    "dataset = gb.OnDiskDataset(base_dir).load()\n",
    "graph = dataset.graph\n",
    "print(f\"Loaded graph: {graph}\\n\")\n",
    "\n",
    "feature = dataset.feature\n",
    "print(f\"Loaded feature store: {feature}\\n\")\n",
    "\n",
    "tasks = dataset.tasks\n",
    "nc_task = tasks[0]\n",
    "print(f\"Loaded node classification task: {nc_task}\\n\")\n",
    "lp_task = tasks[1]\n",
    "print(f\"Loaded link prediction task: {lp_task}\\n\")"
   ]
  }
 ],
 "metadata": {
  "colab": {
   "private_outputs": true,
   "provenance": []
  },
  "kernelspec": {
   "display_name": "Python 3",
   "name": "python3"
  },
  "language_info": {
   "codemirror_mode": {
    "name": "ipython",
    "version": 3
   },
   "file_extension": ".py",
   "mimetype": "text/x-python",
   "name": "python",
   "nbconvert_exporter": "python",
   "pygments_lexer": "ipython3",
   "version": "3.10.15"
  }
 },
 "nbformat": 4,
 "nbformat_minor": 0
}

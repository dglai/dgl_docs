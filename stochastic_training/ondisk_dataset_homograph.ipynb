{
 "cells": [
  {
   "cell_type": "markdown",
   "metadata": {
    "id": "FnFhPMaAfLtJ"
   },
   "source": [
    "# OnDiskDataset for Homogeneous Graph\n",
    "\n",
    "[![Open In Colab](https://colab.research.google.com/assets/colab-badge.svg)](https://colab.research.google.com/github/dmlc/dgl/blob/master/notebooks/stochastic_training/ondisk_dataset_homograph.ipynb) [![GitHub](https://img.shields.io/badge/-View%20on%20GitHub-181717?logo=github&logoColor=ffffff)](https://github.com/dmlc/dgl/blob/master/notebooks/stochastic_training/ondisk_dataset_homograph.ipynb)\n",
    "\n",
    "This tutorial shows how to create `OnDiskDataset` for homogeneous graph that could be used in **GraphBolt** framework.\n",
    "\n",
    "By the end of this tutorial, you will be able to\n",
    "\n",
    "- organize graph structure data.\n",
    "- organize feature data.\n",
    "- organize training/validation/test set for specific tasks.\n",
    "\n",
    "To create an ``OnDiskDataset`` object, you need to organize all the data including graph structure, feature data and tasks into a directory. The directory should contain a ``metadata.yaml`` file that describes the metadata of the dataset.\n",
    "\n",
    "Now let's generate various data step by step and organize them together to instantiate `OnDiskDataset` finally."
   ]
  },
  {
   "cell_type": "markdown",
   "metadata": {
    "id": "Wlb19DtWgtzq"
   },
   "source": [
    "## Install DGL package"
   ]
  },
  {
   "cell_type": "code",
   "execution_count": 1,
   "metadata": {
    "execution": {
     "iopub.execute_input": "2024-10-01T13:21:23.599021Z",
     "iopub.status.busy": "2024-10-01T13:21:23.598700Z",
     "iopub.status.idle": "2024-10-01T13:21:26.621791Z",
     "shell.execute_reply": "2024-10-01T13:21:26.620846Z"
    },
    "id": "UojlT9ZGgyr9"
   },
   "outputs": [
    {
     "name": "stdout",
     "output_type": "stream",
     "text": [
      "Looking in links: https://data.dgl.ai/wheels-test/repo.html\r\n",
      "Requirement already satisfied: dgl in /opt/conda/envs/dgl-dev-cpu/lib/python3.10/site-packages (2.2a240410)\r\n",
      "Requirement already satisfied: numpy>=1.14.0 in /opt/conda/envs/dgl-dev-cpu/lib/python3.10/site-packages (from dgl) (1.26.4)\r\n",
      "Requirement already satisfied: scipy>=1.1.0 in /opt/conda/envs/dgl-dev-cpu/lib/python3.10/site-packages (from dgl) (1.14.1)\r\n",
      "Requirement already satisfied: networkx>=2.1 in /opt/conda/envs/dgl-dev-cpu/lib/python3.10/site-packages (from dgl) (3.3)\r\n",
      "Requirement already satisfied: requests>=2.19.0 in /opt/conda/envs/dgl-dev-cpu/lib/python3.10/site-packages (from dgl) (2.32.3)\r\n",
      "Requirement already satisfied: tqdm in /opt/conda/envs/dgl-dev-cpu/lib/python3.10/site-packages (from dgl) (4.66.5)\r\n",
      "Requirement already satisfied: psutil>=5.8.0 in /opt/conda/envs/dgl-dev-cpu/lib/python3.10/site-packages (from dgl) (6.0.0)\r\n",
      "Requirement already satisfied: torchdata>=0.5.0 in /opt/conda/envs/dgl-dev-cpu/lib/python3.10/site-packages (from dgl) (0.8.0)\r\n",
      "Requirement already satisfied: pandas in /opt/conda/envs/dgl-dev-cpu/lib/python3.10/site-packages (from dgl) (2.2.3)\r\n"
     ]
    },
    {
     "name": "stdout",
     "output_type": "stream",
     "text": [
      "Requirement already satisfied: charset-normalizer<4,>=2 in /opt/conda/envs/dgl-dev-cpu/lib/python3.10/site-packages (from requests>=2.19.0->dgl) (3.3.2)\r\n",
      "Requirement already satisfied: idna<4,>=2.5 in /opt/conda/envs/dgl-dev-cpu/lib/python3.10/site-packages (from requests>=2.19.0->dgl) (3.10)\r\n",
      "Requirement already satisfied: urllib3<3,>=1.21.1 in /opt/conda/envs/dgl-dev-cpu/lib/python3.10/site-packages (from requests>=2.19.0->dgl) (2.2.3)\r\n",
      "Requirement already satisfied: certifi>=2017.4.17 in /opt/conda/envs/dgl-dev-cpu/lib/python3.10/site-packages (from requests>=2.19.0->dgl) (2024.8.30)\r\n",
      "Requirement already satisfied: torch>=2 in /opt/conda/envs/dgl-dev-cpu/lib/python3.10/site-packages (from torchdata>=0.5.0->dgl) (2.1.0+cpu)\r\n"
     ]
    },
    {
     "name": "stdout",
     "output_type": "stream",
     "text": [
      "Requirement already satisfied: python-dateutil>=2.8.2 in /opt/conda/envs/dgl-dev-cpu/lib/python3.10/site-packages (from pandas->dgl) (2.9.0.post0)\r\n",
      "Requirement already satisfied: pytz>=2020.1 in /opt/conda/envs/dgl-dev-cpu/lib/python3.10/site-packages (from pandas->dgl) (2024.2)\r\n",
      "Requirement already satisfied: tzdata>=2022.7 in /opt/conda/envs/dgl-dev-cpu/lib/python3.10/site-packages (from pandas->dgl) (2024.2)\r\n",
      "Requirement already satisfied: six>=1.5 in /opt/conda/envs/dgl-dev-cpu/lib/python3.10/site-packages (from python-dateutil>=2.8.2->pandas->dgl) (1.16.0)\r\n",
      "Requirement already satisfied: filelock in /opt/conda/envs/dgl-dev-cpu/lib/python3.10/site-packages (from torch>=2->torchdata>=0.5.0->dgl) (3.16.1)\r\n",
      "Requirement already satisfied: typing-extensions in /opt/conda/envs/dgl-dev-cpu/lib/python3.10/site-packages (from torch>=2->torchdata>=0.5.0->dgl) (4.12.2)\r\n",
      "Requirement already satisfied: sympy in /opt/conda/envs/dgl-dev-cpu/lib/python3.10/site-packages (from torch>=2->torchdata>=0.5.0->dgl) (1.13.3)\r\n",
      "Requirement already satisfied: jinja2 in /opt/conda/envs/dgl-dev-cpu/lib/python3.10/site-packages (from torch>=2->torchdata>=0.5.0->dgl) (3.1.4)\r\n",
      "Requirement already satisfied: fsspec in /opt/conda/envs/dgl-dev-cpu/lib/python3.10/site-packages (from torch>=2->torchdata>=0.5.0->dgl) (2024.9.0)\r\n"
     ]
    },
    {
     "name": "stdout",
     "output_type": "stream",
     "text": [
      "Requirement already satisfied: MarkupSafe>=2.0 in /opt/conda/envs/dgl-dev-cpu/lib/python3.10/site-packages (from jinja2->torch>=2->torchdata>=0.5.0->dgl) (2.1.5)\r\n",
      "Requirement already satisfied: mpmath<1.4,>=1.1.0 in /opt/conda/envs/dgl-dev-cpu/lib/python3.10/site-packages (from sympy->torch>=2->torchdata>=0.5.0->dgl) (1.3.0)\r\n"
     ]
    },
    {
     "name": "stdout",
     "output_type": "stream",
     "text": [
      "\u001b[33mWARNING: Running pip as the 'root' user can result in broken permissions and conflicting behaviour with the system package manager, possibly rendering your system unusable.It is recommended to use a virtual environment instead: https://pip.pypa.io/warnings/venv. Use the --root-user-action option if you know what you are doing and want to suppress this warning.\u001b[0m\u001b[33m\r\n",
      "\u001b[0m"
     ]
    },
    {
     "name": "stdout",
     "output_type": "stream",
     "text": [
      "DGL installed!\n"
     ]
    }
   ],
   "source": [
    "# Install required packages.\n",
    "import os\n",
    "import torch\n",
    "import numpy as np\n",
    "os.environ['TORCH'] = torch.__version__\n",
    "os.environ['DGLBACKEND'] = \"pytorch\"\n",
    "\n",
    "# Install the CPU version.\n",
    "device = torch.device(\"cpu\")\n",
    "!pip install --pre dgl -f https://data.dgl.ai/wheels-test/repo.html\n",
    "\n",
    "try:\n",
    "    import dgl\n",
    "    import dgl.graphbolt as gb\n",
    "    installed = True\n",
    "except ImportError as error:\n",
    "    installed = False\n",
    "    print(error)\n",
    "print(\"DGL installed!\" if installed else \"DGL not found!\")"
   ]
  },
  {
   "cell_type": "markdown",
   "metadata": {
    "id": "2R7WnSbjsfbr"
   },
   "source": [
    "## Data preparation\n",
    "In order to demonstrate how to organize various data, let's create a base directory first."
   ]
  },
  {
   "cell_type": "code",
   "execution_count": 2,
   "metadata": {
    "execution": {
     "iopub.execute_input": "2024-10-01T13:21:26.624629Z",
     "iopub.status.busy": "2024-10-01T13:21:26.623954Z",
     "iopub.status.idle": "2024-10-01T13:21:26.628887Z",
     "shell.execute_reply": "2024-10-01T13:21:26.627902Z"
    },
    "id": "SZipbzyltLfO"
   },
   "outputs": [
    {
     "name": "stdout",
     "output_type": "stream",
     "text": [
      "Created base directory: ./ondisk_dataset_homograph\n"
     ]
    }
   ],
   "source": [
    "base_dir = './ondisk_dataset_homograph'\n",
    "os.makedirs(base_dir, exist_ok=True)\n",
    "print(f\"Created base directory: {base_dir}\")"
   ]
  },
  {
   "cell_type": "markdown",
   "metadata": {
    "id": "qhNtIn_xhlnl"
   },
   "source": [
    "### Generate graph structure data\n",
    "For homogeneous graph, we just need to save edges(namely seeds) into  **Numpy** or **CSV** file.\n",
    "\n",
    "Note:\n",
    "- when saving to **Numpy**, the array requires to be in shape of `(2, N)`. This format is recommended as constructing graph from it is much faster than **CSV** file.\n",
    "- when saving to **CSV** file, do not save index and header.\n"
   ]
  },
  {
   "cell_type": "code",
   "execution_count": 3,
   "metadata": {
    "execution": {
     "iopub.execute_input": "2024-10-01T13:21:26.631145Z",
     "iopub.status.busy": "2024-10-01T13:21:26.630848Z",
     "iopub.status.idle": "2024-10-01T13:21:26.643957Z",
     "shell.execute_reply": "2024-10-01T13:21:26.643127Z"
    },
    "id": "HcBt4G5BmSjr"
   },
   "outputs": [
    {
     "name": "stdout",
     "output_type": "stream",
     "text": [
      "Part of edges: [[162 146]\n",
      " [483 657]\n",
      " [161 685]\n",
      " [801 916]\n",
      " [200 726]]\n",
      "Edges are saved into ./ondisk_dataset_homograph/edges.csv\n"
     ]
    }
   ],
   "source": [
    "import numpy as np\n",
    "import pandas as pd\n",
    "num_nodes = 1000\n",
    "num_edges = 10 * num_nodes\n",
    "edges_path = os.path.join(base_dir, \"edges.csv\")\n",
    "edges = np.random.randint(0, num_nodes, size=(num_edges, 2))\n",
    "\n",
    "print(f\"Part of edges: {edges[:5, :]}\")\n",
    "\n",
    "df = pd.DataFrame(edges)\n",
    "df.to_csv(edges_path, index=False, header=False)\n",
    "\n",
    "print(f\"Edges are saved into {edges_path}\")"
   ]
  },
  {
   "cell_type": "markdown",
   "metadata": {
    "id": "kh-4cPtzpcaH"
   },
   "source": [
    "### Generate feature data for graph\n",
    "For feature data, numpy arrays and torch tensors are supported for now."
   ]
  },
  {
   "cell_type": "code",
   "execution_count": 4,
   "metadata": {
    "execution": {
     "iopub.execute_input": "2024-10-01T13:21:26.646480Z",
     "iopub.status.busy": "2024-10-01T13:21:26.646016Z",
     "iopub.status.idle": "2024-10-01T13:21:26.664483Z",
     "shell.execute_reply": "2024-10-01T13:21:26.663510Z"
    },
    "id": "_PVu1u5brBhF"
   },
   "outputs": [
    {
     "name": "stdout",
     "output_type": "stream",
     "text": [
      "Part of node feature [feat_0]: [[0.20600367 0.87234738 0.45271932 0.94153183 0.98733104]\n",
      " [0.55275035 0.58937715 0.68187135 0.05670425 0.96814456]\n",
      " [0.55124648 0.12077326 0.07718325 0.09043236 0.75667999]]\n",
      "Node feature [feat_0] is saved to ./ondisk_dataset_homograph/node-feat-0.npy\n",
      "\n",
      "Part of node feature [feat_1]: tensor([[0.3326, 0.3238, 0.7372, 0.3180, 0.6951],\n",
      "        [0.4777, 0.6009, 0.4643, 0.4398, 0.3662],\n",
      "        [0.5985, 0.6553, 0.2634, 0.2038, 0.1621]])\n",
      "Node feature [feat_1] is saved to ./ondisk_dataset_homograph/node-feat-1.pt\n",
      "\n",
      "Part of edge feature [feat_0]: [[0.08221531 0.73131147 0.58017688 0.51437658 0.0554498 ]\n",
      " [0.97772342 0.20964586 0.54737369 0.13129406 0.37240367]\n",
      " [0.39658243 0.45265859 0.69345716 0.18097755 0.55556095]]\n",
      "Edge feature [feat_0] is saved to ./ondisk_dataset_homograph/edge-feat-0.npy\n",
      "\n",
      "Part of edge feature [feat_1]: tensor([[0.9531, 0.5724, 0.0724, 0.2929, 0.7322],\n",
      "        [0.8641, 0.5504, 0.1880, 0.2059, 0.4598],\n",
      "        [0.6942, 0.6901, 0.0373, 0.9077, 0.9619]])\n",
      "Edge feature [feat_1] is saved to ./ondisk_dataset_homograph/edge-feat-1.pt\n",
      "\n"
     ]
    }
   ],
   "source": [
    "# Generate node feature in numpy array.\n",
    "node_feat_0_path = os.path.join(base_dir, \"node-feat-0.npy\")\n",
    "node_feat_0 = np.random.rand(num_nodes, 5)\n",
    "print(f\"Part of node feature [feat_0]: {node_feat_0[:3, :]}\")\n",
    "np.save(node_feat_0_path, node_feat_0)\n",
    "print(f\"Node feature [feat_0] is saved to {node_feat_0_path}\\n\")\n",
    "\n",
    "# Generate another node feature in torch tensor\n",
    "node_feat_1_path = os.path.join(base_dir, \"node-feat-1.pt\")\n",
    "node_feat_1 = torch.rand(num_nodes, 5)\n",
    "print(f\"Part of node feature [feat_1]: {node_feat_1[:3, :]}\")\n",
    "torch.save(node_feat_1, node_feat_1_path)\n",
    "print(f\"Node feature [feat_1] is saved to {node_feat_1_path}\\n\")\n",
    "\n",
    "# Generate edge feature in numpy array.\n",
    "edge_feat_0_path = os.path.join(base_dir, \"edge-feat-0.npy\")\n",
    "edge_feat_0 = np.random.rand(num_edges, 5)\n",
    "print(f\"Part of edge feature [feat_0]: {edge_feat_0[:3, :]}\")\n",
    "np.save(edge_feat_0_path, edge_feat_0)\n",
    "print(f\"Edge feature [feat_0] is saved to {edge_feat_0_path}\\n\")\n",
    "\n",
    "# Generate another edge feature in torch tensor\n",
    "edge_feat_1_path = os.path.join(base_dir, \"edge-feat-1.pt\")\n",
    "edge_feat_1 = torch.rand(num_edges, 5)\n",
    "print(f\"Part of edge feature [feat_1]: {edge_feat_1[:3, :]}\")\n",
    "torch.save(edge_feat_1, edge_feat_1_path)\n",
    "print(f\"Edge feature [feat_1] is saved to {edge_feat_1_path}\\n\")\n"
   ]
  },
  {
   "cell_type": "markdown",
   "metadata": {
    "id": "ZyqgOtsIwzh_"
   },
   "source": [
    "### Generate tasks\n",
    "`OnDiskDataset` supports multiple tasks. For each task, we need to prepare training/validation/test sets respectively. Such sets usually vary among different tasks. In this tutorial, let's create a **Node Classification** task and **Link Prediction** task."
   ]
  },
  {
   "cell_type": "markdown",
   "metadata": {
    "id": "hVxHaDIfzCkr"
   },
   "source": [
    "#### Node Classification Task\n",
    "For node classification task, we need **node IDs** and corresponding **labels** for each training/validation/test set. Like feature data, numpy arrays and torch tensors are supported for these sets."
   ]
  },
  {
   "cell_type": "code",
   "execution_count": 5,
   "metadata": {
    "execution": {
     "iopub.execute_input": "2024-10-01T13:21:26.667231Z",
     "iopub.status.busy": "2024-10-01T13:21:26.666850Z",
     "iopub.status.idle": "2024-10-01T13:21:26.679070Z",
     "shell.execute_reply": "2024-10-01T13:21:26.678256Z"
    },
    "id": "S5-fyBbHzTCO"
   },
   "outputs": [
    {
     "name": "stdout",
     "output_type": "stream",
     "text": [
      "Part of train ids for node classification: [199 639 624]\n",
      "NC train ids are saved to ./ondisk_dataset_homograph/nc-train-ids.npy\n",
      "\n",
      "Part of train labels for node classification: tensor([9, 8, 1])\n",
      "NC train labels are saved to ./ondisk_dataset_homograph/nc-train-labels.pt\n",
      "\n",
      "Part of val ids for node classification: [708 230 526]\n",
      "NC val ids are saved to ./ondisk_dataset_homograph/nc-val-ids.npy\n",
      "\n",
      "Part of val labels for node classification: tensor([1, 8, 2])\n",
      "NC val labels are saved to ./ondisk_dataset_homograph/nc-val-labels.pt\n",
      "\n",
      "Part of test ids for node classification: [336 332  79]\n",
      "NC test ids are saved to ./ondisk_dataset_homograph/nc-test-ids.npy\n",
      "\n",
      "Part of test labels for node classification: tensor([0, 8, 3])\n",
      "NC test labels are saved to ./ondisk_dataset_homograph/nc-test-labels.pt\n",
      "\n"
     ]
    }
   ],
   "source": [
    "num_trains = int(num_nodes * 0.6)\n",
    "num_vals = int(num_nodes * 0.2)\n",
    "num_tests = num_nodes - num_trains - num_vals\n",
    "\n",
    "ids = np.arange(num_nodes)\n",
    "np.random.shuffle(ids)\n",
    "\n",
    "nc_train_ids_path = os.path.join(base_dir, \"nc-train-ids.npy\")\n",
    "nc_train_ids = ids[:num_trains]\n",
    "print(f\"Part of train ids for node classification: {nc_train_ids[:3]}\")\n",
    "np.save(nc_train_ids_path, nc_train_ids)\n",
    "print(f\"NC train ids are saved to {nc_train_ids_path}\\n\")\n",
    "\n",
    "nc_train_labels_path = os.path.join(base_dir, \"nc-train-labels.pt\")\n",
    "nc_train_labels = torch.randint(0, 10, (num_trains,))\n",
    "print(f\"Part of train labels for node classification: {nc_train_labels[:3]}\")\n",
    "torch.save(nc_train_labels, nc_train_labels_path)\n",
    "print(f\"NC train labels are saved to {nc_train_labels_path}\\n\")\n",
    "\n",
    "nc_val_ids_path = os.path.join(base_dir, \"nc-val-ids.npy\")\n",
    "nc_val_ids = ids[num_trains:num_trains+num_vals]\n",
    "print(f\"Part of val ids for node classification: {nc_val_ids[:3]}\")\n",
    "np.save(nc_val_ids_path, nc_val_ids)\n",
    "print(f\"NC val ids are saved to {nc_val_ids_path}\\n\")\n",
    "\n",
    "nc_val_labels_path = os.path.join(base_dir, \"nc-val-labels.pt\")\n",
    "nc_val_labels = torch.randint(0, 10, (num_vals,))\n",
    "print(f\"Part of val labels for node classification: {nc_val_labels[:3]}\")\n",
    "torch.save(nc_val_labels, nc_val_labels_path)\n",
    "print(f\"NC val labels are saved to {nc_val_labels_path}\\n\")\n",
    "\n",
    "nc_test_ids_path = os.path.join(base_dir, \"nc-test-ids.npy\")\n",
    "nc_test_ids = ids[-num_tests:]\n",
    "print(f\"Part of test ids for node classification: {nc_test_ids[:3]}\")\n",
    "np.save(nc_test_ids_path, nc_test_ids)\n",
    "print(f\"NC test ids are saved to {nc_test_ids_path}\\n\")\n",
    "\n",
    "nc_test_labels_path = os.path.join(base_dir, \"nc-test-labels.pt\")\n",
    "nc_test_labels = torch.randint(0, 10, (num_tests,))\n",
    "print(f\"Part of test labels for node classification: {nc_test_labels[:3]}\")\n",
    "torch.save(nc_test_labels, nc_test_labels_path)\n",
    "print(f\"NC test labels are saved to {nc_test_labels_path}\\n\")"
   ]
  },
  {
   "cell_type": "markdown",
   "metadata": {
    "id": "LhAcDCHQ_KJ0"
   },
   "source": [
    "#### Link Prediction Task\n",
    "For link prediction task, we need **seeds** or **corresponding labels and indexes** which representing the pos/neg property and group of the seeds for each training/validation/test set. Like feature data, numpy arrays and torch tensors are supported for these sets."
   ]
  },
  {
   "cell_type": "code",
   "execution_count": 6,
   "metadata": {
    "execution": {
     "iopub.execute_input": "2024-10-01T13:21:26.681110Z",
     "iopub.status.busy": "2024-10-01T13:21:26.680749Z",
     "iopub.status.idle": "2024-10-01T13:21:26.698225Z",
     "shell.execute_reply": "2024-10-01T13:21:26.697293Z"
    },
    "id": "u0jCnXIcAQy4"
   },
   "outputs": [
    {
     "name": "stdout",
     "output_type": "stream",
     "text": [
      "Part of train seeds for link prediction: [[162 146]\n",
      " [483 657]\n",
      " [161 685]]\n",
      "LP train seeds are saved to ./ondisk_dataset_homograph/lp-train-seeds.npy\n",
      "\n",
      "Part of val seeds for link prediction: [[895 966]\n",
      " [246 775]\n",
      " [784 362]]\n",
      "LP val seeds are saved to ./ondisk_dataset_homograph/lp-val-seeds.npy\n",
      "\n",
      "Part of val labels for link prediction: [1. 1. 1.]\n",
      "LP val labels are saved to ./ondisk_dataset_homograph/lp-val-labels.npy\n",
      "\n",
      "Part of val indexes for link prediction: [0 1 2]\n",
      "LP val indexes are saved to ./ondisk_dataset_homograph/lp-val-indexes.npy\n",
      "\n",
      "Part of test seeds for link prediction: [[341 193]\n",
      " [397 946]\n",
      " [746 764]]\n",
      "LP test seeds are saved to ./ondisk_dataset_homograph/lp-test-seeds.npy\n",
      "\n",
      "Part of val labels for link prediction: [1. 1. 1.]\n",
      "LP test labels are saved to ./ondisk_dataset_homograph/lp-test-labels.npy\n",
      "\n",
      "Part of test indexes for link prediction: [0 1 2]\n",
      "LP test indexes are saved to ./ondisk_dataset_homograph/lp-test-indexes.npy\n",
      "\n"
     ]
    }
   ],
   "source": [
    "num_trains = int(num_edges * 0.6)\n",
    "num_vals = int(num_edges * 0.2)\n",
    "num_tests = num_edges - num_trains - num_vals\n",
    "\n",
    "lp_train_seeds_path = os.path.join(base_dir, \"lp-train-seeds.npy\")\n",
    "lp_train_seeds = edges[:num_trains, :]\n",
    "print(f\"Part of train seeds for link prediction: {lp_train_seeds[:3]}\")\n",
    "np.save(lp_train_seeds_path, lp_train_seeds)\n",
    "print(f\"LP train seeds are saved to {lp_train_seeds_path}\\n\")\n",
    "\n",
    "lp_val_seeds_path = os.path.join(base_dir, \"lp-val-seeds.npy\")\n",
    "lp_val_seeds = edges[num_trains:num_trains+num_vals, :]\n",
    "lp_val_neg_dsts = np.random.randint(0, num_nodes, (num_vals, 10)).reshape(-1)\n",
    "lp_val_neg_srcs = np.repeat(lp_val_seeds[:,0], 10)\n",
    "lp_val_neg_seeds = np.concatenate((lp_val_neg_srcs, lp_val_neg_dsts)).reshape(2,-1).T\n",
    "lp_val_seeds = np.concatenate((lp_val_seeds, lp_val_neg_seeds))\n",
    "print(f\"Part of val seeds for link prediction: {lp_val_seeds[:3]}\")\n",
    "np.save(lp_val_seeds_path, lp_val_seeds)\n",
    "print(f\"LP val seeds are saved to {lp_val_seeds_path}\\n\")\n",
    "\n",
    "lp_val_labels_path = os.path.join(base_dir, \"lp-val-labels.npy\")\n",
    "lp_val_labels = np.empty(num_vals * (10 + 1))\n",
    "lp_val_labels[:num_vals] = 1\n",
    "lp_val_labels[num_vals:] = 0\n",
    "print(f\"Part of val labels for link prediction: {lp_val_labels[:3]}\")\n",
    "np.save(lp_val_labels_path, lp_val_labels)\n",
    "print(f\"LP val labels are saved to {lp_val_labels_path}\\n\")\n",
    "\n",
    "lp_val_indexes_path = os.path.join(base_dir, \"lp-val-indexes.npy\")\n",
    "lp_val_indexes = np.arange(0, num_vals)\n",
    "lp_val_neg_indexes = np.repeat(lp_val_indexes, 10)\n",
    "lp_val_indexes = np.concatenate([lp_val_indexes, lp_val_neg_indexes])\n",
    "print(f\"Part of val indexes for link prediction: {lp_val_indexes[:3]}\")\n",
    "np.save(lp_val_indexes_path, lp_val_indexes)\n",
    "print(f\"LP val indexes are saved to {lp_val_indexes_path}\\n\")\n",
    "\n",
    "lp_test_seeds_path = os.path.join(base_dir, \"lp-test-seeds.npy\")\n",
    "lp_test_seeds = edges[-num_tests:, :]\n",
    "lp_test_neg_dsts = np.random.randint(0, num_nodes, (num_tests, 10)).reshape(-1)\n",
    "lp_test_neg_srcs = np.repeat(lp_test_seeds[:,0], 10)\n",
    "lp_test_neg_seeds = np.concatenate((lp_test_neg_srcs, lp_test_neg_dsts)).reshape(2,-1).T\n",
    "lp_test_seeds = np.concatenate((lp_test_seeds, lp_test_neg_seeds))\n",
    "print(f\"Part of test seeds for link prediction: {lp_test_seeds[:3]}\")\n",
    "np.save(lp_test_seeds_path, lp_test_seeds)\n",
    "print(f\"LP test seeds are saved to {lp_test_seeds_path}\\n\")\n",
    "\n",
    "lp_test_labels_path = os.path.join(base_dir, \"lp-test-labels.npy\")\n",
    "lp_test_labels = np.empty(num_tests * (10 + 1))\n",
    "lp_test_labels[:num_tests] = 1\n",
    "lp_test_labels[num_tests:] = 0\n",
    "print(f\"Part of val labels for link prediction: {lp_test_labels[:3]}\")\n",
    "np.save(lp_test_labels_path, lp_test_labels)\n",
    "print(f\"LP test labels are saved to {lp_test_labels_path}\\n\")\n",
    "\n",
    "lp_test_indexes_path = os.path.join(base_dir, \"lp-test-indexes.npy\")\n",
    "lp_test_indexes = np.arange(0, num_tests)\n",
    "lp_test_neg_indexes = np.repeat(lp_test_indexes, 10)\n",
    "lp_test_indexes = np.concatenate([lp_test_indexes, lp_test_neg_indexes])\n",
    "print(f\"Part of test indexes for link prediction: {lp_test_indexes[:3]}\")\n",
    "np.save(lp_test_indexes_path, lp_test_indexes)\n",
    "print(f\"LP test indexes are saved to {lp_test_indexes_path}\\n\")"
   ]
  },
  {
   "cell_type": "markdown",
   "metadata": {
    "id": "wbk6-wxRK-6S"
   },
   "source": [
    "## Organize Data into YAML File\n",
    "Now we need to create a `metadata.yaml` file which contains the paths, dadta types of graph structure, feature data, training/validation/test sets.\n",
    "\n",
    "Notes:\n",
    "- all path should be relative to `metadata.yaml`.\n",
    "- Below fields are optional and not specified in below example.\n",
    "  - `in_memory`: indicates whether to load dada into memory or `mmap`. Default is `True`.\n",
    "\n",
    "Please refer to [YAML specification](https://github.com/dmlc/dgl/blob/master/docs/source/stochastic_training/ondisk-dataset-specification.rst) for more details."
   ]
  },
  {
   "cell_type": "code",
   "execution_count": 7,
   "metadata": {
    "execution": {
     "iopub.execute_input": "2024-10-01T13:21:26.700582Z",
     "iopub.status.busy": "2024-10-01T13:21:26.700227Z",
     "iopub.status.idle": "2024-10-01T13:21:26.706439Z",
     "shell.execute_reply": "2024-10-01T13:21:26.705600Z"
    },
    "id": "ddGTWW61Lpwp"
   },
   "outputs": [],
   "source": [
    "yaml_content = f\"\"\"\n",
    "    dataset_name: homogeneous_graph_nc_lp\n",
    "    graph:\n",
    "      nodes:\n",
    "        - num: {num_nodes}\n",
    "      edges:\n",
    "        - format: csv\n",
    "          path: {os.path.basename(edges_path)}\n",
    "    feature_data:\n",
    "      - domain: node\n",
    "        name: feat_0\n",
    "        format: numpy\n",
    "        path: {os.path.basename(node_feat_0_path)}\n",
    "      - domain: node\n",
    "        name: feat_1\n",
    "        format: torch\n",
    "        path: {os.path.basename(node_feat_1_path)}\n",
    "      - domain: edge\n",
    "        name: feat_0\n",
    "        format: numpy\n",
    "        path: {os.path.basename(edge_feat_0_path)}\n",
    "      - domain: edge\n",
    "        name: feat_1\n",
    "        format: torch\n",
    "        path: {os.path.basename(edge_feat_1_path)}\n",
    "    tasks:\n",
    "      - name: node_classification\n",
    "        num_classes: 10\n",
    "        train_set:\n",
    "          - data:\n",
    "              - name: seeds\n",
    "                format: numpy\n",
    "                path: {os.path.basename(nc_train_ids_path)}\n",
    "              - name: labels\n",
    "                format: torch\n",
    "                path: {os.path.basename(nc_train_labels_path)}\n",
    "        validation_set:\n",
    "          - data:\n",
    "              - name: seeds\n",
    "                format: numpy\n",
    "                path: {os.path.basename(nc_val_ids_path)}\n",
    "              - name: labels\n",
    "                format: torch\n",
    "                path: {os.path.basename(nc_val_labels_path)}\n",
    "        test_set:\n",
    "          - data:\n",
    "              - name: seeds\n",
    "                format: numpy\n",
    "                path: {os.path.basename(nc_test_ids_path)}\n",
    "              - name: labels\n",
    "                format: torch\n",
    "                path: {os.path.basename(nc_test_labels_path)}\n",
    "      - name: link_prediction\n",
    "        num_classes: 10\n",
    "        train_set:\n",
    "          - data:\n",
    "              - name: seeds\n",
    "                format: numpy\n",
    "                path: {os.path.basename(lp_train_seeds_path)}\n",
    "        validation_set:\n",
    "          - data:\n",
    "              - name: seeds\n",
    "                format: numpy\n",
    "                path: {os.path.basename(lp_val_seeds_path)}\n",
    "              - name: labels\n",
    "                format: numpy\n",
    "                path: {os.path.basename(lp_val_labels_path)}\n",
    "              - name: indexes\n",
    "                format: numpy\n",
    "                path: {os.path.basename(lp_val_indexes_path)}\n",
    "        test_set:\n",
    "          - data:\n",
    "              - name: seeds\n",
    "                format: numpy\n",
    "                path: {os.path.basename(lp_test_seeds_path)}\n",
    "              - name: labels\n",
    "                format: numpy\n",
    "                path: {os.path.basename(lp_test_labels_path)}\n",
    "              - name: indexes\n",
    "                format: numpy\n",
    "                path: {os.path.basename(lp_test_indexes_path)}\n",
    "\"\"\"\n",
    "metadata_path = os.path.join(base_dir, \"metadata.yaml\")\n",
    "with open(metadata_path, \"w\") as f:\n",
    "  f.write(yaml_content)"
   ]
  },
  {
   "cell_type": "markdown",
   "metadata": {
    "id": "kEfybHGhOW7O"
   },
   "source": [
    "## Instantiate `OnDiskDataset`\n",
    "Now we're ready to load dataset via `dgl.graphbolt.OnDiskDataset`. When instantiating, we just pass in the base directory where `metadata.yaml` file lies.\n",
    "\n",
    "During first instantiation, GraphBolt preprocesses the raw data such as constructing `FusedCSCSamplingGraph` from edges. All data including graph, feature data, training/validation/test sets are put into `preprocessed` directory after preprocessing. Any following dataset loading will skip the preprocess stage.\n",
    "\n",
    "After preprocessing, `load()` is required to be called explicitly in order to load graph, feature data and tasks."
   ]
  },
  {
   "cell_type": "code",
   "execution_count": 8,
   "metadata": {
    "execution": {
     "iopub.execute_input": "2024-10-01T13:21:26.708574Z",
     "iopub.status.busy": "2024-10-01T13:21:26.708179Z",
     "iopub.status.idle": "2024-10-01T13:21:26.783492Z",
     "shell.execute_reply": "2024-10-01T13:21:26.782902Z"
    },
    "id": "W58CZoSzOiyo"
   },
   "outputs": [
    {
     "name": "stdout",
     "output_type": "stream",
     "text": [
      "Start to preprocess the on-disk dataset.\n",
      "Finish preprocessing the on-disk dataset.\n",
      "Loaded graph: FusedCSCSamplingGraph(csc_indptr=tensor([    0,     4,    13,  ...,  9986,  9994, 10000], dtype=torch.int32),\n",
      "                      indices=tensor([908, 857, 666,  ..., 300, 748, 577], dtype=torch.int32),\n",
      "                      total_num_nodes=1000, num_edges=10000,)\n",
      "\n",
      "Loaded feature store: TorchBasedFeatureStore(\n",
      "    {(<OnDiskFeatureDataDomain.NODE: 'node'>, None, 'feat_0'): TorchBasedFeature(\n",
      "        feature=tensor([[0.2060, 0.8723, 0.4527, 0.9415, 0.9873],\n",
      "                        [0.5528, 0.5894, 0.6819, 0.0567, 0.9681],\n",
      "                        [0.5512, 0.1208, 0.0772, 0.0904, 0.7567],\n",
      "                        ...,\n",
      "                        [0.8663, 0.9010, 0.0014, 0.7299, 0.5610],\n",
      "                        [0.3397, 0.0835, 0.3629, 0.6704, 0.7726],\n",
      "                        [0.7804, 0.8010, 0.8802, 0.9868, 0.5463]], dtype=torch.float64),\n",
      "        metadata={},\n",
      "    ), (<OnDiskFeatureDataDomain.NODE: 'node'>, None, 'feat_1'): TorchBasedFeature(\n",
      "        feature=tensor([[0.3326, 0.3238, 0.7372, 0.3180, 0.6951],\n",
      "                        [0.4777, 0.6009, 0.4643, 0.4398, 0.3662],\n",
      "                        [0.5985, 0.6553, 0.2634, 0.2038, 0.1621],\n",
      "                        ...,\n",
      "                        [0.5612, 0.8678, 0.8688, 0.7761, 0.2391],\n",
      "                        [0.0276, 0.5011, 0.6113, 0.5108, 0.1025],\n",
      "                        [0.2622, 0.8369, 0.6874, 0.9055, 0.8260]]),\n",
      "        metadata={},\n",
      "    ), (<OnDiskFeatureDataDomain.EDGE: 'edge'>, None, 'feat_0'): TorchBasedFeature(\n",
      "        feature=tensor([[0.0822, 0.7313, 0.5802, 0.5144, 0.0554],\n",
      "                        [0.9777, 0.2096, 0.5474, 0.1313, 0.3724],\n",
      "                        [0.3966, 0.4527, 0.6935, 0.1810, 0.5556],\n",
      "                        ...,\n",
      "                        [0.7914, 0.7549, 0.2688, 0.4389, 0.3596],\n",
      "                        [0.8818, 0.5569, 0.8712, 0.1941, 0.9147],\n",
      "                        [0.4361, 0.7006, 0.8095, 0.5767, 0.6331]], dtype=torch.float64),\n",
      "        metadata={},\n",
      "    ), (<OnDiskFeatureDataDomain.EDGE: 'edge'>, None, 'feat_1'): TorchBasedFeature(\n",
      "        feature=tensor([[0.9531, 0.5724, 0.0724, 0.2929, 0.7322],\n",
      "                        [0.8641, 0.5504, 0.1880, 0.2059, 0.4598],\n",
      "                        [0.6942, 0.6901, 0.0373, 0.9077, 0.9619],\n",
      "                        ...,\n",
      "                        [0.0424, 0.2615, 0.5379, 0.9081, 0.7282],\n",
      "                        [0.0049, 0.3877, 0.5446, 0.0270, 0.9927],\n",
      "                        [0.3153, 0.1046, 0.4210, 0.2977, 0.6140]]),\n",
      "        metadata={},\n",
      "    )}\n",
      ")\n",
      "\n",
      "Loaded node classification task: OnDiskTask(validation_set=ItemSet(\n",
      "               items=(tensor([708, 230, 526, 544,  49,   4, 385, 243, 749,   0, 177, 784, 212, 343,\n",
      "                   520, 329, 105, 104, 225, 614, 357, 365, 476, 685, 150, 882, 284, 860,\n",
      "                   751, 126, 656, 587, 280, 443, 532, 371, 611,  31, 411, 738, 158, 503,\n",
      "                    86,  16,  94, 978, 510, 617,  72, 209, 427,  36, 221, 100, 602, 926,\n",
      "                   959, 954, 922, 677, 769, 172, 786, 943, 930, 140, 743, 642, 962,  77,\n",
      "                   550, 981,  13, 180, 193, 210, 168, 366, 470, 928, 321, 250, 516, 849,\n",
      "                   378, 567, 455, 373, 197, 852, 285, 286, 579, 412, 837, 653, 473, 581,\n",
      "                   698, 346, 897,  84, 960, 445, 645, 395, 514, 227, 910, 364, 907, 600,\n",
      "                   733, 188, 592, 691, 608, 264, 148, 374, 999, 484, 695, 116, 986, 201,\n",
      "                   233, 145, 522, 726, 578, 535,  90, 466, 505, 913, 584, 821, 133, 679,\n",
      "                   146, 169, 766, 255, 404, 929, 539, 884, 491, 817, 478, 453, 277, 623,\n",
      "                   461,  56, 530, 995,  44, 832, 432, 697, 350, 730, 760,  59, 712,  48,\n",
      "                   189, 604, 254, 163, 955, 880, 318, 582,   7, 583, 275, 474, 344, 987,\n",
      "                   261, 759,  54, 485, 983, 777, 196, 370, 518,  18, 363, 351, 536, 328,\n",
      "                   345, 952, 523, 935], dtype=torch.int32), tensor([1, 8, 2, 5, 1, 0, 7, 7, 7, 6, 1, 6, 4, 5, 6, 1, 8, 2, 6, 9, 7, 6, 9, 2,\n",
      "                   6, 1, 0, 1, 5, 9, 6, 0, 6, 6, 0, 5, 0, 6, 3, 6, 5, 8, 9, 5, 4, 7, 3, 8,\n",
      "                   7, 1, 9, 9, 7, 0, 1, 0, 6, 6, 7, 9, 5, 9, 9, 7, 4, 3, 0, 9, 3, 3, 6, 4,\n",
      "                   7, 9, 4, 2, 2, 8, 1, 3, 0, 8, 3, 0, 9, 5, 4, 3, 2, 2, 0, 7, 4, 9, 3, 4,\n",
      "                   7, 7, 9, 1, 0, 5, 9, 1, 8, 7, 6, 0, 9, 3, 1, 8, 8, 5, 0, 8, 3, 5, 6, 2,\n",
      "                   0, 7, 2, 0, 1, 4, 9, 7, 1, 8, 4, 2, 8, 3, 2, 8, 7, 8, 6, 0, 8, 0, 2, 7,\n",
      "                   9, 0, 8, 0, 4, 7, 3, 5, 7, 2, 8, 8, 4, 9, 2, 2, 8, 7, 4, 7, 8, 5, 0, 3,\n",
      "                   8, 3, 5, 5, 0, 7, 5, 7, 3, 4, 1, 7, 7, 3, 8, 1, 6, 4, 6, 0, 6, 5, 2, 6,\n",
      "                   9, 0, 1, 8, 5, 3, 6, 6])),\n",
      "               names=('seeds', 'labels'),\n",
      "           ),\n",
      "           train_set=ItemSet(\n",
      "               items=(tensor([199, 639, 624, 481, 633, 282, 665, 229,   1, 382, 780, 740, 807, 753,\n",
      "                   295, 944, 867, 676, 883, 477,  39, 548, 307, 176, 804, 353, 253, 281,\n",
      "                   487, 135, 820, 442, 519, 422, 819, 646, 267, 718, 601, 878,  34, 802,\n",
      "                   741, 755, 142, 498, 256, 764, 858, 862, 147, 391, 483,  47, 768, 266,\n",
      "                   528, 298, 486, 480, 228, 950, 296, 782, 448, 931, 465,  83,  42, 620,\n",
      "                   787, 554, 413,  85, 428, 471, 918,  19, 640, 289, 732,  29, 181, 724,\n",
      "                   566, 896, 825, 887, 976, 310, 569, 570, 956, 838, 621, 972, 666, 341,\n",
      "                    67,  17, 568,  80,  87, 501, 561, 631, 418, 605,  50, 974, 451, 811,\n",
      "                   504, 460, 919, 879, 205, 246,  15, 993, 731, 648, 337, 438, 917, 309,\n",
      "                   942, 469, 543, 335, 911, 662, 831, 801, 637, 682, 714, 326, 663, 143,\n",
      "                    69,  30, 669, 678,  82, 757,  98, 779, 124, 634, 401, 467, 980, 895,\n",
      "                   446, 813, 542, 359, 195, 586, 435, 440, 130, 358, 720, 174, 162, 936,\n",
      "                   789, 238, 463, 872, 492, 313, 920, 301,  96, 220, 381, 788, 408, 292,\n",
      "                   200, 182, 128, 274,  22, 996, 686, 249, 236, 192,  70, 876, 127, 593,\n",
      "                   826, 388, 747, 916, 534, 721, 818, 394, 758, 369, 591,  75,  40, 998,\n",
      "                   671, 490, 512, 672, 157, 399, 594, 167, 260, 968, 729, 703,  62, 571,\n",
      "                    51, 560, 693, 191, 247,  25, 576, 272, 798, 436, 572, 906, 795,  65,\n",
      "                   439, 297, 809, 549, 816, 577, 154, 551, 808, 742, 117, 927, 540, 945,\n",
      "                   361,  91, 444, 403, 946, 770,   5, 258, 211, 709, 406,  28, 556, 965,\n",
      "                   129, 670, 762, 171, 635, 890, 553, 123, 555, 912, 122, 547,  46, 390,\n",
      "                   262, 847, 380,  64, 319, 599, 509, 680,  68, 736, 101, 737, 242, 529,\n",
      "                   159, 967, 763, 963, 306, 559, 215, 842, 806,  32, 658, 815, 288, 429,\n",
      "                   527, 132, 153, 376, 655, 259, 316, 853, 241, 524, 300, 641, 183, 681,\n",
      "                   493, 725, 889, 688, 690, 506, 934, 107, 835, 796, 334, 775, 511, 881,\n",
      "                   668, 312, 166, 713, 647, 170, 402, 636, 644, 419,   8, 456, 661,  14,\n",
      "                   405, 893, 790, 598, 179, 355, 984, 866, 643, 138, 219, 173, 625, 657,\n",
      "                   118, 891, 588, 951, 144, 771, 270, 947, 869, 765,  99, 362, 186, 654,\n",
      "                   855, 558, 940,  92, 131,   9, 711, 311, 546, 271,  35, 234, 317, 407,\n",
      "                    76, 874, 194, 705, 696, 923, 424, 482, 537, 613,  57, 222, 590, 564,\n",
      "                   785, 393, 449, 638, 244, 305,  41, 873, 245,  53, 414, 141, 715,  11,\n",
      "                   417, 137, 340, 810, 589, 997, 462, 421, 360, 706, 748, 903, 231, 500,\n",
      "                   515, 783, 464, 425, 845, 573, 652, 468,  58, 121, 687, 224, 937, 969,\n",
      "                   803, 841, 352, 320,  37, 767, 904, 977, 925, 387, 268, 848, 991, 892,\n",
      "                   970, 302, 829, 303, 450, 836, 985, 349, 704, 877,  97, 525, 988, 202,\n",
      "                   338, 723, 994, 840, 430, 531,  73, 114, 606, 973,   6, 921, 494,  55,\n",
      "                   333, 843, 160, 971, 213, 797, 327, 750, 423, 752, 575, 689, 552, 727,\n",
      "                   384, 149, 389, 252,  23, 627, 885, 457, 667, 437, 545,  74, 626, 868,\n",
      "                   622, 722, 111, 386, 283, 650, 707, 616, 717, 948, 875, 992, 330, 299,\n",
      "                   383, 217, 112, 746, 664, 563, 734, 565,  38, 426, 269, 609, 610,  33,\n",
      "                   508, 315, 844, 304, 701, 409, 716,  81, 356, 603, 198, 909, 864, 794,\n",
      "                   660, 420, 595,  21,  43, 475, 496, 619, 452, 846, 290, 871, 898, 110,\n",
      "                   938,  24,  66, 207, 502, 612, 342, 322, 223, 206, 888, 562, 497, 857,\n",
      "                   339, 932, 156, 824, 966, 237, 331,  27, 683, 136, 115, 454],\n",
      "                  dtype=torch.int32), tensor([9, 8, 1, 1, 4, 5, 2, 5, 2, 5, 7, 8, 5, 8, 4, 9, 1, 1, 4, 3, 8, 9, 3, 4,\n",
      "                   9, 8, 6, 7, 0, 0, 7, 6, 8, 7, 9, 4, 0, 5, 3, 1, 1, 2, 1, 3, 0, 1, 1, 9,\n",
      "                   7, 8, 5, 3, 7, 7, 1, 3, 8, 9, 6, 3, 0, 0, 6, 7, 1, 9, 3, 1, 4, 2, 5, 2,\n",
      "                   6, 2, 0, 2, 6, 7, 3, 4, 1, 7, 4, 2, 8, 2, 4, 5, 9, 2, 8, 6, 3, 7, 1, 0,\n",
      "                   7, 8, 6, 1, 6, 0, 8, 9, 4, 0, 4, 2, 0, 9, 7, 7, 6, 4, 0, 2, 0, 0, 3, 0,\n",
      "                   3, 1, 3, 1, 1, 9, 2, 1, 8, 7, 6, 9, 8, 3, 8, 6, 0, 7, 8, 7, 5, 5, 4, 1,\n",
      "                   2, 8, 7, 3, 4, 3, 1, 4, 6, 2, 9, 3, 8, 2, 8, 7, 2, 5, 0, 7, 5, 8, 0, 5,\n",
      "                   6, 8, 7, 2, 4, 4, 6, 4, 1, 9, 2, 5, 4, 6, 9, 8, 0, 0, 1, 9, 5, 2, 2, 7,\n",
      "                   8, 3, 8, 5, 6, 8, 1, 7, 4, 3, 6, 3, 2, 9, 6, 2, 1, 7, 5, 6, 3, 9, 9, 1,\n",
      "                   2, 5, 2, 4, 7, 0, 0, 2, 8, 5, 5, 2, 0, 7, 1, 6, 6, 5, 5, 4, 5, 0, 5, 3,\n",
      "                   1, 7, 6, 3, 2, 3, 5, 5, 6, 3, 3, 9, 2, 1, 0, 9, 4, 2, 4, 7, 7, 9, 9, 0,\n",
      "                   5, 9, 4, 7, 1, 0, 5, 5, 4, 5, 3, 8, 6, 7, 5, 8, 0, 8, 5, 0, 1, 3, 0, 0,\n",
      "                   2, 2, 4, 1, 8, 1, 0, 7, 2, 8, 4, 3, 3, 7, 8, 3, 4, 9, 8, 5, 3, 6, 3, 1,\n",
      "                   3, 7, 0, 5, 1, 3, 1, 4, 1, 6, 3, 4, 6, 7, 2, 1, 7, 6, 3, 6, 2, 5, 1, 7,\n",
      "                   0, 0, 1, 7, 8, 5, 5, 5, 8, 2, 2, 9, 7, 0, 9, 8, 2, 6, 7, 1, 5, 1, 3, 7,\n",
      "                   6, 8, 1, 9, 3, 9, 4, 8, 8, 7, 0, 1, 1, 9, 9, 2, 5, 1, 3, 7, 8, 9, 9, 7,\n",
      "                   8, 2, 1, 2, 1, 9, 9, 9, 7, 3, 8, 1, 7, 6, 9, 9, 7, 8, 0, 4, 2, 2, 6, 9,\n",
      "                   1, 4, 7, 7, 9, 7, 8, 5, 3, 4, 3, 8, 2, 5, 8, 9, 0, 2, 1, 2, 1, 5, 4, 6,\n",
      "                   1, 6, 1, 6, 5, 9, 0, 7, 1, 9, 9, 7, 1, 7, 3, 6, 4, 5, 0, 5, 0, 4, 8, 7,\n",
      "                   2, 2, 0, 3, 4, 8, 2, 7, 8, 6, 8, 8, 0, 2, 4, 3, 1, 6, 1, 4, 3, 1, 6, 5,\n",
      "                   3, 4, 3, 6, 1, 9, 5, 6, 7, 6, 3, 7, 5, 4, 3, 2, 7, 1, 7, 5, 9, 8, 6, 7,\n",
      "                   2, 0, 5, 0, 3, 4, 1, 8, 1, 0, 9, 9, 2, 5, 2, 1, 0, 3, 5, 9, 4, 4, 3, 1,\n",
      "                   3, 1, 1, 0, 4, 2, 1, 2, 8, 1, 9, 1, 3, 4, 5, 6, 4, 5, 7, 8, 7, 0, 6, 9,\n",
      "                   1, 2, 0, 7, 5, 9, 2, 1, 6, 2, 2, 7, 5, 8, 8, 5, 2, 0, 1, 4, 7, 5, 6, 0,\n",
      "                   6, 0, 6, 3, 0, 6, 6, 6, 0, 2, 9, 5, 2, 7, 1, 3, 7, 4, 7, 4, 9, 9, 8, 7])),\n",
      "               names=('seeds', 'labels'),\n",
      "           ),\n",
      "           test_set=ItemSet(\n",
      "               items=(tensor([336, 332,  79, 899, 828, 367, 979, 151, 184, 745, 372, 323, 139, 580,\n",
      "                   953, 368, 728, 348, 673, 856, 214, 287, 265, 941, 615, 521, 276, 822,\n",
      "                   190, 791, 744, 400, 630, 684, 108, 990, 792, 459, 851, 814, 692, 901,\n",
      "                   103, 629, 618, 694, 164, 263, 850, 517, 187,  26, 964, 793, 416, 914,\n",
      "                   827, 833, 774, 799,  20, 854, 410, 415,  61, 735, 106, 239, 324, 975,\n",
      "                     3, 216, 178, 651,  93, 109, 949, 894, 273, 597, 607, 596, 125, 155,\n",
      "                   278, 291, 865, 861, 915, 924, 772, 659, 538, 134, 279, 354, 204, 905,\n",
      "                   533,  10, 812, 699, 800, 675, 218, 294, 863, 441,  63, 632, 823, 489,\n",
      "                   830, 674, 120, 398, 933, 499, 902, 585, 165, 433, 232,  71, 152, 989,\n",
      "                   961, 293, 434, 939, 834, 377,   2,  12, 251, 392, 119, 397, 628, 859,\n",
      "                   314,  60, 886, 185, 325, 778, 958, 248, 257, 495, 447, 557, 347, 739,\n",
      "                   161, 908, 226, 776, 379, 240, 773,  95,  78, 113, 574, 839, 458, 479,\n",
      "                   102, 235, 431, 702, 781, 308, 375, 700, 756, 710, 175,  45, 507, 982,\n",
      "                   488,  52, 396, 203, 900, 208, 754,  89, 513, 719, 805, 472,  88, 957,\n",
      "                   541, 870, 649, 761], dtype=torch.int32), tensor([0, 8, 3, 1, 3, 3, 4, 9, 8, 0, 6, 1, 4, 6, 8, 2, 8, 6, 2, 6, 2, 8, 7, 9,\n",
      "                   3, 0, 8, 1, 4, 7, 3, 2, 3, 9, 7, 4, 4, 4, 3, 7, 0, 2, 2, 9, 8, 6, 8, 7,\n",
      "                   9, 6, 8, 5, 0, 0, 9, 8, 1, 5, 8, 1, 4, 8, 7, 6, 1, 3, 0, 3, 7, 3, 8, 7,\n",
      "                   0, 8, 0, 4, 5, 4, 2, 6, 0, 9, 6, 6, 4, 8, 8, 1, 3, 1, 9, 2, 0, 8, 3, 0,\n",
      "                   5, 5, 4, 9, 4, 0, 8, 1, 8, 7, 2, 3, 1, 4, 8, 0, 7, 6, 0, 8, 2, 4, 2, 5,\n",
      "                   9, 9, 3, 5, 6, 6, 7, 7, 5, 1, 2, 5, 1, 6, 2, 7, 8, 4, 2, 1, 4, 0, 4, 1,\n",
      "                   7, 9, 5, 1, 6, 7, 9, 8, 2, 4, 1, 4, 9, 0, 1, 5, 6, 2, 8, 0, 6, 7, 2, 6,\n",
      "                   0, 7, 3, 3, 2, 5, 2, 3, 4, 0, 4, 7, 9, 4, 3, 2, 1, 9, 3, 1, 1, 6, 5, 6,\n",
      "                   1, 5, 4, 8, 3, 1, 5, 5])),\n",
      "               names=('seeds', 'labels'),\n",
      "           ),\n",
      "           metadata={'name': 'node_classification', 'num_classes': 10},)\n",
      "\n",
      "Loaded link prediction task: OnDiskTask(validation_set=ItemSet(\n",
      "               items=(tensor([[895, 966],\n",
      "                   [246, 775],\n",
      "                   [784, 362],\n",
      "                   ...,\n",
      "                   [ 77, 160],\n",
      "                   [ 77, 498],\n",
      "                   [ 77, 811]], dtype=torch.int32), tensor([1., 1., 1.,  ..., 0., 0., 0.], dtype=torch.float64), tensor([   0,    1,    2,  ..., 1999, 1999, 1999])),\n",
      "               names=('seeds', 'labels', 'indexes'),\n",
      "           ),\n",
      "           train_set=ItemSet(\n",
      "               items=(tensor([[162, 146],\n",
      "                   [483, 657],\n",
      "                   [161, 685],\n",
      "                   ...,\n",
      "                   [201, 971],\n",
      "                   [955, 881],\n",
      "                   [397, 976]], dtype=torch.int32),),\n",
      "               names=('seeds',),\n",
      "           ),\n",
      "           test_set=ItemSet(\n",
      "               items=(tensor([[341, 193],\n",
      "                   [397, 946],\n",
      "                   [746, 764],\n",
      "                   ...,\n",
      "                   [ 97, 580],\n",
      "                   [ 97, 918],\n",
      "                   [ 97,  93]], dtype=torch.int32), tensor([1., 1., 1.,  ..., 0., 0., 0.], dtype=torch.float64), tensor([   0,    1,    2,  ..., 1999, 1999, 1999])),\n",
      "               names=('seeds', 'labels', 'indexes'),\n",
      "           ),\n",
      "           metadata={'name': 'link_prediction', 'num_classes': 10},)\n",
      "\n"
     ]
    },
    {
     "name": "stderr",
     "output_type": "stream",
     "text": [
      "/dgl/python/dgl/graphbolt/impl/ondisk_dataset.py:463: GBWarning: Edge feature is stored, but edge IDs are not saved.\n",
      "  gb_warning(\"Edge feature is stored, but edge IDs are not saved.\")\n"
     ]
    }
   ],
   "source": [
    "dataset = gb.OnDiskDataset(base_dir).load()\n",
    "graph = dataset.graph\n",
    "print(f\"Loaded graph: {graph}\\n\")\n",
    "\n",
    "feature = dataset.feature\n",
    "print(f\"Loaded feature store: {feature}\\n\")\n",
    "\n",
    "tasks = dataset.tasks\n",
    "nc_task = tasks[0]\n",
    "print(f\"Loaded node classification task: {nc_task}\\n\")\n",
    "lp_task = tasks[1]\n",
    "print(f\"Loaded link prediction task: {lp_task}\\n\")"
   ]
  }
 ],
 "metadata": {
  "colab": {
   "private_outputs": true,
   "provenance": []
  },
  "kernelspec": {
   "display_name": "Python 3",
   "name": "python3"
  },
  "language_info": {
   "codemirror_mode": {
    "name": "ipython",
    "version": 3
   },
   "file_extension": ".py",
   "mimetype": "text/x-python",
   "name": "python",
   "nbconvert_exporter": "python",
   "pygments_lexer": "ipython3",
   "version": "3.10.15"
  }
 },
 "nbformat": 4,
 "nbformat_minor": 0
}

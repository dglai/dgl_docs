{
 "cells": [
  {
   "cell_type": "markdown",
   "metadata": {
    "id": "FnFhPMaAfLtJ"
   },
   "source": [
    "# OnDiskDataset for Homogeneous Graph\n",
    "\n",
    "[![Open In Colab](https://colab.research.google.com/assets/colab-badge.svg)](https://colab.research.google.com/github/dmlc/dgl/blob/master/notebooks/stochastic_training/ondisk_dataset_homograph.ipynb) [![GitHub](https://img.shields.io/badge/-View%20on%20GitHub-181717?logo=github&logoColor=ffffff)](https://github.com/dmlc/dgl/blob/master/notebooks/stochastic_training/ondisk_dataset_homograph.ipynb)\n",
    "\n",
    "This tutorial shows how to create `OnDiskDataset` for homogeneous graph that could be used in **GraphBolt** framework.\n",
    "\n",
    "By the end of this tutorial, you will be able to\n",
    "\n",
    "- organize graph structure data.\n",
    "- organize feature data.\n",
    "- organize training/validation/test set for specific tasks.\n",
    "\n",
    "To create an ``OnDiskDataset`` object, you need to organize all the data including graph structure, feature data and tasks into a directory. The directory should contain a ``metadata.yaml`` file that describes the metadata of the dataset.\n",
    "\n",
    "Now let's generate various data step by step and organize them together to instantiate `OnDiskDataset` finally."
   ]
  },
  {
   "cell_type": "markdown",
   "metadata": {
    "id": "Wlb19DtWgtzq"
   },
   "source": [
    "## Install DGL package"
   ]
  },
  {
   "cell_type": "code",
   "execution_count": 1,
   "metadata": {
    "execution": {
     "iopub.execute_input": "2024-09-24T13:21:54.847670Z",
     "iopub.status.busy": "2024-09-24T13:21:54.847380Z",
     "iopub.status.idle": "2024-09-24T13:21:57.885056Z",
     "shell.execute_reply": "2024-09-24T13:21:57.884135Z"
    },
    "id": "UojlT9ZGgyr9"
   },
   "outputs": [
    {
     "name": "stdout",
     "output_type": "stream",
     "text": [
      "Looking in links: https://data.dgl.ai/wheels-test/repo.html\r\n",
      "Requirement already satisfied: dgl in /opt/conda/envs/dgl-dev-cpu/lib/python3.10/site-packages (2.2a240410)\r\n",
      "Requirement already satisfied: numpy>=1.14.0 in /opt/conda/envs/dgl-dev-cpu/lib/python3.10/site-packages (from dgl) (1.26.4)\r\n",
      "Requirement already satisfied: scipy>=1.1.0 in /opt/conda/envs/dgl-dev-cpu/lib/python3.10/site-packages (from dgl) (1.14.1)\r\n",
      "Requirement already satisfied: networkx>=2.1 in /opt/conda/envs/dgl-dev-cpu/lib/python3.10/site-packages (from dgl) (3.3)\r\n",
      "Requirement already satisfied: requests>=2.19.0 in /opt/conda/envs/dgl-dev-cpu/lib/python3.10/site-packages (from dgl) (2.32.3)\r\n",
      "Requirement already satisfied: tqdm in /opt/conda/envs/dgl-dev-cpu/lib/python3.10/site-packages (from dgl) (4.66.5)\r\n",
      "Requirement already satisfied: psutil>=5.8.0 in /opt/conda/envs/dgl-dev-cpu/lib/python3.10/site-packages (from dgl) (6.0.0)\r\n",
      "Requirement already satisfied: torchdata>=0.5.0 in /opt/conda/envs/dgl-dev-cpu/lib/python3.10/site-packages (from dgl) (0.8.0)\r\n",
      "Requirement already satisfied: pandas in /opt/conda/envs/dgl-dev-cpu/lib/python3.10/site-packages (from dgl) (2.2.3)\r\n"
     ]
    },
    {
     "name": "stdout",
     "output_type": "stream",
     "text": [
      "Requirement already satisfied: charset-normalizer<4,>=2 in /opt/conda/envs/dgl-dev-cpu/lib/python3.10/site-packages (from requests>=2.19.0->dgl) (3.3.2)\r\n",
      "Requirement already satisfied: idna<4,>=2.5 in /opt/conda/envs/dgl-dev-cpu/lib/python3.10/site-packages (from requests>=2.19.0->dgl) (3.10)\r\n",
      "Requirement already satisfied: urllib3<3,>=1.21.1 in /opt/conda/envs/dgl-dev-cpu/lib/python3.10/site-packages (from requests>=2.19.0->dgl) (2.2.3)\r\n",
      "Requirement already satisfied: certifi>=2017.4.17 in /opt/conda/envs/dgl-dev-cpu/lib/python3.10/site-packages (from requests>=2.19.0->dgl) (2024.8.30)\r\n",
      "Requirement already satisfied: torch>=2 in /opt/conda/envs/dgl-dev-cpu/lib/python3.10/site-packages (from torchdata>=0.5.0->dgl) (2.1.0+cpu)\r\n"
     ]
    },
    {
     "name": "stdout",
     "output_type": "stream",
     "text": [
      "Requirement already satisfied: python-dateutil>=2.8.2 in /opt/conda/envs/dgl-dev-cpu/lib/python3.10/site-packages (from pandas->dgl) (2.9.0.post0)\r\n",
      "Requirement already satisfied: pytz>=2020.1 in /opt/conda/envs/dgl-dev-cpu/lib/python3.10/site-packages (from pandas->dgl) (2024.2)\r\n",
      "Requirement already satisfied: tzdata>=2022.7 in /opt/conda/envs/dgl-dev-cpu/lib/python3.10/site-packages (from pandas->dgl) (2024.2)\r\n",
      "Requirement already satisfied: six>=1.5 in /opt/conda/envs/dgl-dev-cpu/lib/python3.10/site-packages (from python-dateutil>=2.8.2->pandas->dgl) (1.16.0)\r\n",
      "Requirement already satisfied: filelock in /opt/conda/envs/dgl-dev-cpu/lib/python3.10/site-packages (from torch>=2->torchdata>=0.5.0->dgl) (3.16.1)\r\n",
      "Requirement already satisfied: typing-extensions in /opt/conda/envs/dgl-dev-cpu/lib/python3.10/site-packages (from torch>=2->torchdata>=0.5.0->dgl) (4.12.2)\r\n",
      "Requirement already satisfied: sympy in /opt/conda/envs/dgl-dev-cpu/lib/python3.10/site-packages (from torch>=2->torchdata>=0.5.0->dgl) (1.13.3)\r\n",
      "Requirement already satisfied: jinja2 in /opt/conda/envs/dgl-dev-cpu/lib/python3.10/site-packages (from torch>=2->torchdata>=0.5.0->dgl) (3.1.4)\r\n",
      "Requirement already satisfied: fsspec in /opt/conda/envs/dgl-dev-cpu/lib/python3.10/site-packages (from torch>=2->torchdata>=0.5.0->dgl) (2024.9.0)\r\n"
     ]
    },
    {
     "name": "stdout",
     "output_type": "stream",
     "text": [
      "Requirement already satisfied: MarkupSafe>=2.0 in /opt/conda/envs/dgl-dev-cpu/lib/python3.10/site-packages (from jinja2->torch>=2->torchdata>=0.5.0->dgl) (2.1.5)\r\n",
      "Requirement already satisfied: mpmath<1.4,>=1.1.0 in /opt/conda/envs/dgl-dev-cpu/lib/python3.10/site-packages (from sympy->torch>=2->torchdata>=0.5.0->dgl) (1.3.0)\r\n"
     ]
    },
    {
     "name": "stdout",
     "output_type": "stream",
     "text": [
      "\u001b[33mWARNING: Running pip as the 'root' user can result in broken permissions and conflicting behaviour with the system package manager, possibly rendering your system unusable.It is recommended to use a virtual environment instead: https://pip.pypa.io/warnings/venv. Use the --root-user-action option if you know what you are doing and want to suppress this warning.\u001b[0m\u001b[33m\r\n",
      "\u001b[0m"
     ]
    },
    {
     "name": "stdout",
     "output_type": "stream",
     "text": [
      "DGL installed!\n"
     ]
    }
   ],
   "source": [
    "# Install required packages.\n",
    "import os\n",
    "import torch\n",
    "import numpy as np\n",
    "os.environ['TORCH'] = torch.__version__\n",
    "os.environ['DGLBACKEND'] = \"pytorch\"\n",
    "\n",
    "# Install the CPU version.\n",
    "device = torch.device(\"cpu\")\n",
    "!pip install --pre dgl -f https://data.dgl.ai/wheels-test/repo.html\n",
    "\n",
    "try:\n",
    "    import dgl\n",
    "    import dgl.graphbolt as gb\n",
    "    installed = True\n",
    "except ImportError as error:\n",
    "    installed = False\n",
    "    print(error)\n",
    "print(\"DGL installed!\" if installed else \"DGL not found!\")"
   ]
  },
  {
   "cell_type": "markdown",
   "metadata": {
    "id": "2R7WnSbjsfbr"
   },
   "source": [
    "## Data preparation\n",
    "In order to demonstrate how to organize various data, let's create a base directory first."
   ]
  },
  {
   "cell_type": "code",
   "execution_count": 2,
   "metadata": {
    "execution": {
     "iopub.execute_input": "2024-09-24T13:21:57.887802Z",
     "iopub.status.busy": "2024-09-24T13:21:57.887191Z",
     "iopub.status.idle": "2024-09-24T13:21:57.892009Z",
     "shell.execute_reply": "2024-09-24T13:21:57.891176Z"
    },
    "id": "SZipbzyltLfO"
   },
   "outputs": [
    {
     "name": "stdout",
     "output_type": "stream",
     "text": [
      "Created base directory: ./ondisk_dataset_homograph\n"
     ]
    }
   ],
   "source": [
    "base_dir = './ondisk_dataset_homograph'\n",
    "os.makedirs(base_dir, exist_ok=True)\n",
    "print(f\"Created base directory: {base_dir}\")"
   ]
  },
  {
   "cell_type": "markdown",
   "metadata": {
    "id": "qhNtIn_xhlnl"
   },
   "source": [
    "### Generate graph structure data\n",
    "For homogeneous graph, we just need to save edges(namely seeds) into  **Numpy** or **CSV** file.\n",
    "\n",
    "Note:\n",
    "- when saving to **Numpy**, the array requires to be in shape of `(2, N)`. This format is recommended as constructing graph from it is much faster than **CSV** file.\n",
    "- when saving to **CSV** file, do not save index and header.\n"
   ]
  },
  {
   "cell_type": "code",
   "execution_count": 3,
   "metadata": {
    "execution": {
     "iopub.execute_input": "2024-09-24T13:21:57.894341Z",
     "iopub.status.busy": "2024-09-24T13:21:57.893931Z",
     "iopub.status.idle": "2024-09-24T13:21:57.907635Z",
     "shell.execute_reply": "2024-09-24T13:21:57.906881Z"
    },
    "id": "HcBt4G5BmSjr"
   },
   "outputs": [
    {
     "name": "stdout",
     "output_type": "stream",
     "text": [
      "Part of edges: [[840 970]\n",
      " [929 129]\n",
      " [949 313]\n",
      " [983 856]\n",
      " [525 446]]\n",
      "Edges are saved into ./ondisk_dataset_homograph/edges.csv\n"
     ]
    }
   ],
   "source": [
    "import numpy as np\n",
    "import pandas as pd\n",
    "num_nodes = 1000\n",
    "num_edges = 10 * num_nodes\n",
    "edges_path = os.path.join(base_dir, \"edges.csv\")\n",
    "edges = np.random.randint(0, num_nodes, size=(num_edges, 2))\n",
    "\n",
    "print(f\"Part of edges: {edges[:5, :]}\")\n",
    "\n",
    "df = pd.DataFrame(edges)\n",
    "df.to_csv(edges_path, index=False, header=False)\n",
    "\n",
    "print(f\"Edges are saved into {edges_path}\")"
   ]
  },
  {
   "cell_type": "markdown",
   "metadata": {
    "id": "kh-4cPtzpcaH"
   },
   "source": [
    "### Generate feature data for graph\n",
    "For feature data, numpy arrays and torch tensors are supported for now."
   ]
  },
  {
   "cell_type": "code",
   "execution_count": 4,
   "metadata": {
    "execution": {
     "iopub.execute_input": "2024-09-24T13:21:57.909682Z",
     "iopub.status.busy": "2024-09-24T13:21:57.909465Z",
     "iopub.status.idle": "2024-09-24T13:21:57.929423Z",
     "shell.execute_reply": "2024-09-24T13:21:57.928381Z"
    },
    "id": "_PVu1u5brBhF"
   },
   "outputs": [
    {
     "name": "stdout",
     "output_type": "stream",
     "text": [
      "Part of node feature [feat_0]: [[0.27194128 0.95713765 0.475773   0.52128362 0.95541546]\n",
      " [0.42397225 0.1241305  0.9224005  0.83656133 0.61951479]\n",
      " [0.83244333 0.8087298  0.02879011 0.52847726 0.18098628]]\n",
      "Node feature [feat_0] is saved to ./ondisk_dataset_homograph/node-feat-0.npy\n",
      "\n",
      "Part of node feature [feat_1]: tensor([[0.5657, 0.5026, 0.6206, 0.0645, 0.9064],\n",
      "        [0.8346, 0.0242, 0.0437, 0.8308, 0.5327],\n",
      "        [0.6794, 0.5742, 0.7578, 0.1318, 0.2964]])\n",
      "Node feature [feat_1] is saved to ./ondisk_dataset_homograph/node-feat-1.pt\n",
      "\n",
      "Part of edge feature [feat_0]: [[0.51503457 0.82530768 0.99332309 0.52792588 0.6692596 ]\n",
      " [0.06894964 0.05458362 0.63709482 0.83312834 0.2643606 ]\n",
      " [0.34711398 0.46561015 0.77284362 0.11364478 0.25560187]]\n",
      "Edge feature [feat_0] is saved to ./ondisk_dataset_homograph/edge-feat-0.npy\n",
      "\n",
      "Part of edge feature [feat_1]: tensor([[0.4253, 0.9513, 0.2462, 0.8453, 0.2374],\n",
      "        [0.3754, 0.5136, 0.7643, 0.3364, 0.8070],\n",
      "        [0.7679, 0.5966, 0.9917, 0.9024, 0.4332]])\n",
      "Edge feature [feat_1] is saved to ./ondisk_dataset_homograph/edge-feat-1.pt\n",
      "\n"
     ]
    }
   ],
   "source": [
    "# Generate node feature in numpy array.\n",
    "node_feat_0_path = os.path.join(base_dir, \"node-feat-0.npy\")\n",
    "node_feat_0 = np.random.rand(num_nodes, 5)\n",
    "print(f\"Part of node feature [feat_0]: {node_feat_0[:3, :]}\")\n",
    "np.save(node_feat_0_path, node_feat_0)\n",
    "print(f\"Node feature [feat_0] is saved to {node_feat_0_path}\\n\")\n",
    "\n",
    "# Generate another node feature in torch tensor\n",
    "node_feat_1_path = os.path.join(base_dir, \"node-feat-1.pt\")\n",
    "node_feat_1 = torch.rand(num_nodes, 5)\n",
    "print(f\"Part of node feature [feat_1]: {node_feat_1[:3, :]}\")\n",
    "torch.save(node_feat_1, node_feat_1_path)\n",
    "print(f\"Node feature [feat_1] is saved to {node_feat_1_path}\\n\")\n",
    "\n",
    "# Generate edge feature in numpy array.\n",
    "edge_feat_0_path = os.path.join(base_dir, \"edge-feat-0.npy\")\n",
    "edge_feat_0 = np.random.rand(num_edges, 5)\n",
    "print(f\"Part of edge feature [feat_0]: {edge_feat_0[:3, :]}\")\n",
    "np.save(edge_feat_0_path, edge_feat_0)\n",
    "print(f\"Edge feature [feat_0] is saved to {edge_feat_0_path}\\n\")\n",
    "\n",
    "# Generate another edge feature in torch tensor\n",
    "edge_feat_1_path = os.path.join(base_dir, \"edge-feat-1.pt\")\n",
    "edge_feat_1 = torch.rand(num_edges, 5)\n",
    "print(f\"Part of edge feature [feat_1]: {edge_feat_1[:3, :]}\")\n",
    "torch.save(edge_feat_1, edge_feat_1_path)\n",
    "print(f\"Edge feature [feat_1] is saved to {edge_feat_1_path}\\n\")\n"
   ]
  },
  {
   "cell_type": "markdown",
   "metadata": {
    "id": "ZyqgOtsIwzh_"
   },
   "source": [
    "### Generate tasks\n",
    "`OnDiskDataset` supports multiple tasks. For each task, we need to prepare training/validation/test sets respectively. Such sets usually vary among different tasks. In this tutorial, let's create a **Node Classification** task and **Link Prediction** task."
   ]
  },
  {
   "cell_type": "markdown",
   "metadata": {
    "id": "hVxHaDIfzCkr"
   },
   "source": [
    "#### Node Classification Task\n",
    "For node classification task, we need **node IDs** and corresponding **labels** for each training/validation/test set. Like feature data, numpy arrays and torch tensors are supported for these sets."
   ]
  },
  {
   "cell_type": "code",
   "execution_count": 5,
   "metadata": {
    "execution": {
     "iopub.execute_input": "2024-09-24T13:21:57.932484Z",
     "iopub.status.busy": "2024-09-24T13:21:57.932064Z",
     "iopub.status.idle": "2024-09-24T13:21:57.944829Z",
     "shell.execute_reply": "2024-09-24T13:21:57.943965Z"
    },
    "id": "S5-fyBbHzTCO"
   },
   "outputs": [
    {
     "name": "stdout",
     "output_type": "stream",
     "text": [
      "Part of train ids for node classification: [865 569 762]\n",
      "NC train ids are saved to ./ondisk_dataset_homograph/nc-train-ids.npy\n",
      "\n",
      "Part of train labels for node classification: tensor([5, 6, 4])\n",
      "NC train labels are saved to ./ondisk_dataset_homograph/nc-train-labels.pt\n",
      "\n",
      "Part of val ids for node classification: [981 259 932]\n",
      "NC val ids are saved to ./ondisk_dataset_homograph/nc-val-ids.npy\n",
      "\n",
      "Part of val labels for node classification: tensor([2, 9, 8])\n",
      "NC val labels are saved to ./ondisk_dataset_homograph/nc-val-labels.pt\n",
      "\n",
      "Part of test ids for node classification: [ 64 698 921]\n",
      "NC test ids are saved to ./ondisk_dataset_homograph/nc-test-ids.npy\n",
      "\n",
      "Part of test labels for node classification: tensor([5, 1, 0])\n",
      "NC test labels are saved to ./ondisk_dataset_homograph/nc-test-labels.pt\n",
      "\n"
     ]
    }
   ],
   "source": [
    "num_trains = int(num_nodes * 0.6)\n",
    "num_vals = int(num_nodes * 0.2)\n",
    "num_tests = num_nodes - num_trains - num_vals\n",
    "\n",
    "ids = np.arange(num_nodes)\n",
    "np.random.shuffle(ids)\n",
    "\n",
    "nc_train_ids_path = os.path.join(base_dir, \"nc-train-ids.npy\")\n",
    "nc_train_ids = ids[:num_trains]\n",
    "print(f\"Part of train ids for node classification: {nc_train_ids[:3]}\")\n",
    "np.save(nc_train_ids_path, nc_train_ids)\n",
    "print(f\"NC train ids are saved to {nc_train_ids_path}\\n\")\n",
    "\n",
    "nc_train_labels_path = os.path.join(base_dir, \"nc-train-labels.pt\")\n",
    "nc_train_labels = torch.randint(0, 10, (num_trains,))\n",
    "print(f\"Part of train labels for node classification: {nc_train_labels[:3]}\")\n",
    "torch.save(nc_train_labels, nc_train_labels_path)\n",
    "print(f\"NC train labels are saved to {nc_train_labels_path}\\n\")\n",
    "\n",
    "nc_val_ids_path = os.path.join(base_dir, \"nc-val-ids.npy\")\n",
    "nc_val_ids = ids[num_trains:num_trains+num_vals]\n",
    "print(f\"Part of val ids for node classification: {nc_val_ids[:3]}\")\n",
    "np.save(nc_val_ids_path, nc_val_ids)\n",
    "print(f\"NC val ids are saved to {nc_val_ids_path}\\n\")\n",
    "\n",
    "nc_val_labels_path = os.path.join(base_dir, \"nc-val-labels.pt\")\n",
    "nc_val_labels = torch.randint(0, 10, (num_vals,))\n",
    "print(f\"Part of val labels for node classification: {nc_val_labels[:3]}\")\n",
    "torch.save(nc_val_labels, nc_val_labels_path)\n",
    "print(f\"NC val labels are saved to {nc_val_labels_path}\\n\")\n",
    "\n",
    "nc_test_ids_path = os.path.join(base_dir, \"nc-test-ids.npy\")\n",
    "nc_test_ids = ids[-num_tests:]\n",
    "print(f\"Part of test ids for node classification: {nc_test_ids[:3]}\")\n",
    "np.save(nc_test_ids_path, nc_test_ids)\n",
    "print(f\"NC test ids are saved to {nc_test_ids_path}\\n\")\n",
    "\n",
    "nc_test_labels_path = os.path.join(base_dir, \"nc-test-labels.pt\")\n",
    "nc_test_labels = torch.randint(0, 10, (num_tests,))\n",
    "print(f\"Part of test labels for node classification: {nc_test_labels[:3]}\")\n",
    "torch.save(nc_test_labels, nc_test_labels_path)\n",
    "print(f\"NC test labels are saved to {nc_test_labels_path}\\n\")"
   ]
  },
  {
   "cell_type": "markdown",
   "metadata": {
    "id": "LhAcDCHQ_KJ0"
   },
   "source": [
    "#### Link Prediction Task\n",
    "For link prediction task, we need **seeds** or **corresponding labels and indexes** which representing the pos/neg property and group of the seeds for each training/validation/test set. Like feature data, numpy arrays and torch tensors are supported for these sets."
   ]
  },
  {
   "cell_type": "code",
   "execution_count": 6,
   "metadata": {
    "execution": {
     "iopub.execute_input": "2024-09-24T13:21:57.947272Z",
     "iopub.status.busy": "2024-09-24T13:21:57.946853Z",
     "iopub.status.idle": "2024-09-24T13:21:57.965288Z",
     "shell.execute_reply": "2024-09-24T13:21:57.964411Z"
    },
    "id": "u0jCnXIcAQy4"
   },
   "outputs": [
    {
     "name": "stdout",
     "output_type": "stream",
     "text": [
      "Part of train seeds for link prediction: [[840 970]\n",
      " [929 129]\n",
      " [949 313]]\n",
      "LP train seeds are saved to ./ondisk_dataset_homograph/lp-train-seeds.npy\n",
      "\n",
      "Part of val seeds for link prediction: [[891 131]\n",
      " [106 366]\n",
      " [683 716]]\n",
      "LP val seeds are saved to ./ondisk_dataset_homograph/lp-val-seeds.npy\n",
      "\n",
      "Part of val labels for link prediction: [1. 1. 1.]\n",
      "LP val labels are saved to ./ondisk_dataset_homograph/lp-val-labels.npy\n",
      "\n",
      "Part of val indexes for link prediction: [0 1 2]\n",
      "LP val indexes are saved to ./ondisk_dataset_homograph/lp-val-indexes.npy\n",
      "\n",
      "Part of test seeds for link prediction: [[148 680]\n",
      " [286 277]\n",
      " [549 488]]\n",
      "LP test seeds are saved to ./ondisk_dataset_homograph/lp-test-seeds.npy\n",
      "\n",
      "Part of val labels for link prediction: [1. 1. 1.]\n",
      "LP test labels are saved to ./ondisk_dataset_homograph/lp-test-labels.npy\n",
      "\n",
      "Part of test indexes for link prediction: [0 1 2]\n",
      "LP test indexes are saved to ./ondisk_dataset_homograph/lp-test-indexes.npy\n",
      "\n"
     ]
    }
   ],
   "source": [
    "num_trains = int(num_edges * 0.6)\n",
    "num_vals = int(num_edges * 0.2)\n",
    "num_tests = num_edges - num_trains - num_vals\n",
    "\n",
    "lp_train_seeds_path = os.path.join(base_dir, \"lp-train-seeds.npy\")\n",
    "lp_train_seeds = edges[:num_trains, :]\n",
    "print(f\"Part of train seeds for link prediction: {lp_train_seeds[:3]}\")\n",
    "np.save(lp_train_seeds_path, lp_train_seeds)\n",
    "print(f\"LP train seeds are saved to {lp_train_seeds_path}\\n\")\n",
    "\n",
    "lp_val_seeds_path = os.path.join(base_dir, \"lp-val-seeds.npy\")\n",
    "lp_val_seeds = edges[num_trains:num_trains+num_vals, :]\n",
    "lp_val_neg_dsts = np.random.randint(0, num_nodes, (num_vals, 10)).reshape(-1)\n",
    "lp_val_neg_srcs = np.repeat(lp_val_seeds[:,0], 10)\n",
    "lp_val_neg_seeds = np.concatenate((lp_val_neg_srcs, lp_val_neg_dsts)).reshape(2,-1).T\n",
    "lp_val_seeds = np.concatenate((lp_val_seeds, lp_val_neg_seeds))\n",
    "print(f\"Part of val seeds for link prediction: {lp_val_seeds[:3]}\")\n",
    "np.save(lp_val_seeds_path, lp_val_seeds)\n",
    "print(f\"LP val seeds are saved to {lp_val_seeds_path}\\n\")\n",
    "\n",
    "lp_val_labels_path = os.path.join(base_dir, \"lp-val-labels.npy\")\n",
    "lp_val_labels = np.empty(num_vals * (10 + 1))\n",
    "lp_val_labels[:num_vals] = 1\n",
    "lp_val_labels[num_vals:] = 0\n",
    "print(f\"Part of val labels for link prediction: {lp_val_labels[:3]}\")\n",
    "np.save(lp_val_labels_path, lp_val_labels)\n",
    "print(f\"LP val labels are saved to {lp_val_labels_path}\\n\")\n",
    "\n",
    "lp_val_indexes_path = os.path.join(base_dir, \"lp-val-indexes.npy\")\n",
    "lp_val_indexes = np.arange(0, num_vals)\n",
    "lp_val_neg_indexes = np.repeat(lp_val_indexes, 10)\n",
    "lp_val_indexes = np.concatenate([lp_val_indexes, lp_val_neg_indexes])\n",
    "print(f\"Part of val indexes for link prediction: {lp_val_indexes[:3]}\")\n",
    "np.save(lp_val_indexes_path, lp_val_indexes)\n",
    "print(f\"LP val indexes are saved to {lp_val_indexes_path}\\n\")\n",
    "\n",
    "lp_test_seeds_path = os.path.join(base_dir, \"lp-test-seeds.npy\")\n",
    "lp_test_seeds = edges[-num_tests:, :]\n",
    "lp_test_neg_dsts = np.random.randint(0, num_nodes, (num_tests, 10)).reshape(-1)\n",
    "lp_test_neg_srcs = np.repeat(lp_test_seeds[:,0], 10)\n",
    "lp_test_neg_seeds = np.concatenate((lp_test_neg_srcs, lp_test_neg_dsts)).reshape(2,-1).T\n",
    "lp_test_seeds = np.concatenate((lp_test_seeds, lp_test_neg_seeds))\n",
    "print(f\"Part of test seeds for link prediction: {lp_test_seeds[:3]}\")\n",
    "np.save(lp_test_seeds_path, lp_test_seeds)\n",
    "print(f\"LP test seeds are saved to {lp_test_seeds_path}\\n\")\n",
    "\n",
    "lp_test_labels_path = os.path.join(base_dir, \"lp-test-labels.npy\")\n",
    "lp_test_labels = np.empty(num_tests * (10 + 1))\n",
    "lp_test_labels[:num_tests] = 1\n",
    "lp_test_labels[num_tests:] = 0\n",
    "print(f\"Part of val labels for link prediction: {lp_test_labels[:3]}\")\n",
    "np.save(lp_test_labels_path, lp_test_labels)\n",
    "print(f\"LP test labels are saved to {lp_test_labels_path}\\n\")\n",
    "\n",
    "lp_test_indexes_path = os.path.join(base_dir, \"lp-test-indexes.npy\")\n",
    "lp_test_indexes = np.arange(0, num_tests)\n",
    "lp_test_neg_indexes = np.repeat(lp_test_indexes, 10)\n",
    "lp_test_indexes = np.concatenate([lp_test_indexes, lp_test_neg_indexes])\n",
    "print(f\"Part of test indexes for link prediction: {lp_test_indexes[:3]}\")\n",
    "np.save(lp_test_indexes_path, lp_test_indexes)\n",
    "print(f\"LP test indexes are saved to {lp_test_indexes_path}\\n\")"
   ]
  },
  {
   "cell_type": "markdown",
   "metadata": {
    "id": "wbk6-wxRK-6S"
   },
   "source": [
    "## Organize Data into YAML File\n",
    "Now we need to create a `metadata.yaml` file which contains the paths, dadta types of graph structure, feature data, training/validation/test sets.\n",
    "\n",
    "Notes:\n",
    "- all path should be relative to `metadata.yaml`.\n",
    "- Below fields are optional and not specified in below example.\n",
    "  - `in_memory`: indicates whether to load dada into memory or `mmap`. Default is `True`.\n",
    "\n",
    "Please refer to [YAML specification](https://github.com/dmlc/dgl/blob/master/docs/source/stochastic_training/ondisk-dataset-specification.rst) for more details."
   ]
  },
  {
   "cell_type": "code",
   "execution_count": 7,
   "metadata": {
    "execution": {
     "iopub.execute_input": "2024-09-24T13:21:57.967643Z",
     "iopub.status.busy": "2024-09-24T13:21:57.967196Z",
     "iopub.status.idle": "2024-09-24T13:21:57.973824Z",
     "shell.execute_reply": "2024-09-24T13:21:57.972947Z"
    },
    "id": "ddGTWW61Lpwp"
   },
   "outputs": [],
   "source": [
    "yaml_content = f\"\"\"\n",
    "    dataset_name: homogeneous_graph_nc_lp\n",
    "    graph:\n",
    "      nodes:\n",
    "        - num: {num_nodes}\n",
    "      edges:\n",
    "        - format: csv\n",
    "          path: {os.path.basename(edges_path)}\n",
    "    feature_data:\n",
    "      - domain: node\n",
    "        name: feat_0\n",
    "        format: numpy\n",
    "        path: {os.path.basename(node_feat_0_path)}\n",
    "      - domain: node\n",
    "        name: feat_1\n",
    "        format: torch\n",
    "        path: {os.path.basename(node_feat_1_path)}\n",
    "      - domain: edge\n",
    "        name: feat_0\n",
    "        format: numpy\n",
    "        path: {os.path.basename(edge_feat_0_path)}\n",
    "      - domain: edge\n",
    "        name: feat_1\n",
    "        format: torch\n",
    "        path: {os.path.basename(edge_feat_1_path)}\n",
    "    tasks:\n",
    "      - name: node_classification\n",
    "        num_classes: 10\n",
    "        train_set:\n",
    "          - data:\n",
    "              - name: seeds\n",
    "                format: numpy\n",
    "                path: {os.path.basename(nc_train_ids_path)}\n",
    "              - name: labels\n",
    "                format: torch\n",
    "                path: {os.path.basename(nc_train_labels_path)}\n",
    "        validation_set:\n",
    "          - data:\n",
    "              - name: seeds\n",
    "                format: numpy\n",
    "                path: {os.path.basename(nc_val_ids_path)}\n",
    "              - name: labels\n",
    "                format: torch\n",
    "                path: {os.path.basename(nc_val_labels_path)}\n",
    "        test_set:\n",
    "          - data:\n",
    "              - name: seeds\n",
    "                format: numpy\n",
    "                path: {os.path.basename(nc_test_ids_path)}\n",
    "              - name: labels\n",
    "                format: torch\n",
    "                path: {os.path.basename(nc_test_labels_path)}\n",
    "      - name: link_prediction\n",
    "        num_classes: 10\n",
    "        train_set:\n",
    "          - data:\n",
    "              - name: seeds\n",
    "                format: numpy\n",
    "                path: {os.path.basename(lp_train_seeds_path)}\n",
    "        validation_set:\n",
    "          - data:\n",
    "              - name: seeds\n",
    "                format: numpy\n",
    "                path: {os.path.basename(lp_val_seeds_path)}\n",
    "              - name: labels\n",
    "                format: numpy\n",
    "                path: {os.path.basename(lp_val_labels_path)}\n",
    "              - name: indexes\n",
    "                format: numpy\n",
    "                path: {os.path.basename(lp_val_indexes_path)}\n",
    "        test_set:\n",
    "          - data:\n",
    "              - name: seeds\n",
    "                format: numpy\n",
    "                path: {os.path.basename(lp_test_seeds_path)}\n",
    "              - name: labels\n",
    "                format: numpy\n",
    "                path: {os.path.basename(lp_test_labels_path)}\n",
    "              - name: indexes\n",
    "                format: numpy\n",
    "                path: {os.path.basename(lp_test_indexes_path)}\n",
    "\"\"\"\n",
    "metadata_path = os.path.join(base_dir, \"metadata.yaml\")\n",
    "with open(metadata_path, \"w\") as f:\n",
    "  f.write(yaml_content)"
   ]
  },
  {
   "cell_type": "markdown",
   "metadata": {
    "id": "kEfybHGhOW7O"
   },
   "source": [
    "## Instantiate `OnDiskDataset`\n",
    "Now we're ready to load dataset via `dgl.graphbolt.OnDiskDataset`. When instantiating, we just pass in the base directory where `metadata.yaml` file lies.\n",
    "\n",
    "During first instantiation, GraphBolt preprocesses the raw data such as constructing `FusedCSCSamplingGraph` from edges. All data including graph, feature data, training/validation/test sets are put into `preprocessed` directory after preprocessing. Any following dataset loading will skip the preprocess stage.\n",
    "\n",
    "After preprocessing, `load()` is required to be called explicitly in order to load graph, feature data and tasks."
   ]
  },
  {
   "cell_type": "code",
   "execution_count": 8,
   "metadata": {
    "execution": {
     "iopub.execute_input": "2024-09-24T13:21:57.976003Z",
     "iopub.status.busy": "2024-09-24T13:21:57.975801Z",
     "iopub.status.idle": "2024-09-24T13:21:58.046451Z",
     "shell.execute_reply": "2024-09-24T13:21:58.045885Z"
    },
    "id": "W58CZoSzOiyo"
   },
   "outputs": [
    {
     "name": "stdout",
     "output_type": "stream",
     "text": [
      "Start to preprocess the on-disk dataset.\n",
      "Finish preprocessing the on-disk dataset.\n",
      "Loaded graph: FusedCSCSamplingGraph(csc_indptr=tensor([    0,     9,    20,  ...,  9977,  9994, 10000], dtype=torch.int32),\n",
      "                      indices=tensor([963, 860, 450,  ..., 984, 627, 453], dtype=torch.int32),\n",
      "                      total_num_nodes=1000, num_edges=10000,)\n",
      "\n",
      "Loaded feature store: TorchBasedFeatureStore(\n",
      "    {(<OnDiskFeatureDataDomain.NODE: 'node'>, None, 'feat_0'): TorchBasedFeature(\n",
      "        feature=tensor([[0.2719, 0.9571, 0.4758, 0.5213, 0.9554],\n",
      "                        [0.4240, 0.1241, 0.9224, 0.8366, 0.6195],\n",
      "                        [0.8324, 0.8087, 0.0288, 0.5285, 0.1810],\n",
      "                        ...,\n",
      "                        [0.8527, 0.1423, 0.7327, 0.9375, 0.6563],\n",
      "                        [0.1788, 0.8681, 0.8673, 0.4387, 0.8708],\n",
      "                        [0.5523, 0.3713, 0.4747, 0.6234, 0.6872]], dtype=torch.float64),\n",
      "        metadata={},\n",
      "    ), (<OnDiskFeatureDataDomain.NODE: 'node'>, None, 'feat_1'): TorchBasedFeature(\n",
      "        feature=tensor([[0.5657, 0.5026, 0.6206, 0.0645, 0.9064],\n",
      "                        [0.8346, 0.0242, 0.0437, 0.8308, 0.5327],\n",
      "                        [0.6794, 0.5742, 0.7578, 0.1318, 0.2964],\n",
      "                        ...,\n",
      "                        [0.7305, 0.8326, 0.2452, 0.5949, 0.3320],\n",
      "                        [0.8632, 0.9584, 0.4542, 0.1162, 0.1177],\n",
      "                        [0.3775, 0.0259, 0.6119, 0.4454, 0.9283]]),\n",
      "        metadata={},\n",
      "    ), (<OnDiskFeatureDataDomain.EDGE: 'edge'>, None, 'feat_0'): TorchBasedFeature(\n",
      "        feature=tensor([[0.5150, 0.8253, 0.9933, 0.5279, 0.6693],\n",
      "                        [0.0689, 0.0546, 0.6371, 0.8331, 0.2644],\n",
      "                        [0.3471, 0.4656, 0.7728, 0.1136, 0.2556],\n",
      "                        ...,\n",
      "                        [0.9916, 0.8367, 0.6625, 0.4344, 0.9399],\n",
      "                        [0.7601, 0.9630, 0.1900, 0.9494, 0.4849],\n",
      "                        [0.7407, 0.5372, 0.9127, 0.8079, 0.8463]], dtype=torch.float64),\n",
      "        metadata={},\n",
      "    ), (<OnDiskFeatureDataDomain.EDGE: 'edge'>, None, 'feat_1'): TorchBasedFeature(\n",
      "        feature=tensor([[0.4253, 0.9513, 0.2462, 0.8453, 0.2374],\n",
      "                        [0.3754, 0.5136, 0.7643, 0.3364, 0.8070],\n",
      "                        [0.7679, 0.5966, 0.9917, 0.9024, 0.4332],\n",
      "                        ...,\n",
      "                        [0.3683, 0.6148, 0.9117, 0.2700, 0.3561],\n",
      "                        [0.0601, 0.3226, 0.8589, 0.6308, 0.1345],\n",
      "                        [0.8456, 0.9067, 0.8189, 0.8282, 0.3331]]),\n",
      "        metadata={},\n",
      "    )}\n",
      ")\n",
      "\n",
      "Loaded node classification task: OnDiskTask(validation_set=ItemSet(\n",
      "               items=(tensor([981, 259, 932, 816, 827, 933, 784, 491, 822, 328, 187, 897, 738, 756,\n",
      "                   198, 416, 249, 684, 234, 312, 159, 105, 417, 469,   7, 212, 864, 593,\n",
      "                   446, 808, 133, 984, 525, 871, 705, 634, 552, 288, 448, 357, 322, 573,\n",
      "                   113, 574, 398, 442, 769, 980, 115, 510,  37, 568,  24, 565, 162, 213,\n",
      "                   144, 597,  61, 276, 350, 582, 515, 650, 576, 146, 690, 297, 348, 818,\n",
      "                   311, 191, 418, 904, 217, 531,  62, 924, 343, 269, 333, 870, 714, 508,\n",
      "                   616,  44, 599, 117,  12, 263, 148, 373,  59, 291, 455, 628, 958, 608,\n",
      "                   969, 358, 405, 393, 972,  65, 399, 339, 694, 930, 300,  98, 509, 478,\n",
      "                   108, 430, 875, 535, 667, 717, 158,  43, 562, 150, 976, 846, 998, 722,\n",
      "                   382, 752, 590, 362,  63,  34, 589, 835, 613, 145, 602, 286, 342, 915,\n",
      "                   702, 252, 114, 942, 555, 487, 111, 141, 837, 548, 720, 173, 261, 905,\n",
      "                   863, 645, 857, 218, 868, 394, 627, 524, 129, 973, 759, 623, 709, 410,\n",
      "                   855, 955, 170, 352, 823, 793, 736, 503, 580, 529, 966, 852, 270, 376,\n",
      "                   878, 285, 660, 489, 475, 127, 941, 629, 406,  21, 215, 450, 272, 740,\n",
      "                   412, 504, 204, 962], dtype=torch.int32), tensor([2, 9, 8, 9, 5, 7, 2, 1, 4, 9, 7, 6, 6, 9, 8, 2, 8, 8, 1, 9, 9, 8, 9, 8,\n",
      "                   8, 0, 2, 8, 2, 9, 1, 3, 9, 1, 3, 2, 7, 2, 2, 2, 2, 2, 9, 2, 5, 2, 0, 2,\n",
      "                   4, 2, 4, 4, 7, 4, 4, 3, 8, 7, 9, 3, 9, 1, 7, 8, 8, 8, 5, 8, 1, 3, 9, 9,\n",
      "                   1, 0, 5, 5, 9, 3, 8, 6, 7, 2, 2, 4, 3, 0, 5, 5, 3, 4, 0, 8, 5, 5, 5, 4,\n",
      "                   5, 7, 6, 4, 7, 0, 8, 1, 7, 7, 5, 2, 1, 9, 7, 9, 7, 9, 9, 3, 7, 7, 0, 4,\n",
      "                   0, 3, 0, 7, 7, 4, 8, 3, 7, 6, 3, 0, 3, 2, 3, 3, 9, 6, 1, 0, 3, 9, 1, 5,\n",
      "                   5, 5, 0, 9, 3, 7, 1, 9, 3, 0, 4, 8, 9, 3, 7, 9, 3, 0, 9, 2, 5, 1, 5, 4,\n",
      "                   4, 2, 1, 2, 5, 1, 9, 8, 1, 8, 9, 0, 7, 1, 6, 1, 7, 2, 0, 5, 1, 8, 2, 2,\n",
      "                   0, 4, 7, 0, 3, 7, 9, 0])),\n",
      "               names=('seeds', 'labels'),\n",
      "           ),\n",
      "           train_set=ItemSet(\n",
      "               items=(tensor([865, 569, 762, 840,  73, 842, 152, 307,  82, 869, 994, 566, 482, 121,\n",
      "                   755, 397, 232, 896, 640, 208, 663, 916, 244, 670, 454, 725, 607, 147,\n",
      "                   935, 901, 245,  52, 334, 278, 647, 832,  91, 543, 768, 351, 746, 200,\n",
      "                   175,   2, 413, 337, 727, 186, 785, 526, 985, 899, 168, 320, 999, 790,\n",
      "                   235, 544, 575, 364, 225, 363, 219, 542,  10, 938, 443,  40, 954, 301,\n",
      "                   909, 809, 944, 595, 886, 830,  29, 451, 279,   4, 776, 691, 676, 395,\n",
      "                   655, 749, 908, 313, 251, 643, 936, 231, 216, 229,  66, 692, 435, 601,\n",
      "                   906, 797,  79, 326,   9, 122, 136, 990, 106, 189, 425,  89,  48, 464,\n",
      "                   671, 402, 369, 669, 438, 989, 541, 826, 268, 124, 439, 432, 874,  20,\n",
      "                   287, 164, 460, 834, 596, 344, 327, 433, 587, 169, 560, 771, 445, 563,\n",
      "                   701, 649, 632, 539, 706, 778, 839, 495, 943, 789, 925, 520, 931, 354,\n",
      "                   107, 338, 763, 248, 687,  31, 222, 332, 277,  46, 183, 770,  45, 652,\n",
      "                   685, 913, 731, 165, 884, 619, 860, 289, 666, 838, 564, 604, 707, 699,\n",
      "                   729, 293, 675, 637, 299, 246, 928, 618, 824, 240, 530, 283, 952, 813,\n",
      "                   134, 536, 828, 903,  49, 614,   8, 761, 815, 390, 802, 485,   6, 922,\n",
      "                    67, 523,  55, 805, 775, 241, 209, 987, 559, 780,  86, 947, 856, 345,\n",
      "                   184, 230, 400, 657, 588, 760, 139, 319,  25, 592, 971, 745, 741, 893,\n",
      "                   266, 979, 505, 511, 751,   3, 561, 359, 786, 306,  18, 321, 521, 653,\n",
      "                   349,  92,  71, 292, 765, 385, 923, 900, 210, 730, 726, 408, 859,  74,\n",
      "                   401, 532, 182, 867, 196, 387, 847, 673, 501,  33, 274, 310,  28, 861,\n",
      "                   664, 997,  95, 463, 581, 970, 788, 250, 271, 411, 452, 371, 409, 179,\n",
      "                   605, 527, 912, 437, 517, 617, 290, 323, 214, 620, 472, 228, 480, 570,\n",
      "                   946, 324,   1, 522, 331,  13, 753, 126, 792, 890, 516, 347, 710, 119,\n",
      "                   556,  23, 719,  16, 109, 273, 465, 572, 467, 812, 747,  94, 415, 880,\n",
      "                   383, 275, 919, 766, 968, 829, 648, 341, 368, 910, 641,  32, 659, 795,\n",
      "                   206, 462, 120, 891, 554, 700, 945, 477, 743, 479, 309, 888, 330, 155,\n",
      "                   201, 476,  30, 431, 697, 974, 237, 578, 329, 950, 253, 436, 498, 858,\n",
      "                   615, 281, 679, 693, 167, 457, 304, 308, 414, 585, 172, 396,  58, 712,\n",
      "                   265, 380, 176, 497, 238, 803, 434, 153, 716, 940, 236,  26, 744, 392,\n",
      "                   948, 513, 819, 791, 419, 422, 456, 132, 137, 100, 318, 260, 296,  87,\n",
      "                   335,   5, 428, 177,  83, 677, 178, 540, 507, 737, 421, 125, 356, 314,\n",
      "                   302, 848, 610, 190,  41, 486, 103, 381,  93, 185, 598, 468, 748, 379,\n",
      "                   579, 496, 674, 220, 750, 131, 603, 154, 779, 372, 917, 157, 787, 458,\n",
      "                   639, 223, 386, 612, 993, 557, 360, 426, 611, 224, 195,  88, 361, 512,\n",
      "                   547,  84, 558, 567,  68, 939, 180, 977, 473, 963, 772, 937, 715, 967,\n",
      "                    90, 881, 811,  56, 267, 638, 681, 711, 821, 889, 672, 143, 161, 459,\n",
      "                   336, 887, 353, 305, 500, 914, 978,  19, 800, 205, 256, 295, 777, 658,\n",
      "                   636,  70, 606, 424, 907, 533, 833, 654, 965, 796, 123,  60, 820, 255,\n",
      "                   174, 622, 642, 239, 257,  39,  17, 678, 325, 315, 391, 600, 118, 982,\n",
      "                   879, 876, 254, 441, 370, 142, 929, 316, 420, 112, 704, 149, 959,  51,\n",
      "                    47, 882, 481, 960, 102, 804, 662, 814, 519, 957, 703, 718, 440, 534,\n",
      "                   427,  78, 429, 995, 631, 551, 493, 754, 499, 953, 449, 758, 211, 151,\n",
      "                   689, 732, 194,  53, 181, 207, 546, 365, 549, 407, 951, 975],\n",
      "                  dtype=torch.int32), tensor([5, 6, 4, 1, 1, 5, 8, 3, 3, 4, 8, 5, 2, 5, 0, 8, 6, 6, 1, 6, 8, 5, 1, 2,\n",
      "                   9, 0, 0, 8, 1, 8, 3, 2, 7, 5, 3, 1, 4, 4, 6, 8, 3, 6, 8, 4, 2, 2, 2, 8,\n",
      "                   2, 0, 2, 4, 6, 6, 2, 8, 3, 3, 9, 7, 4, 8, 0, 5, 5, 2, 3, 9, 8, 5, 2, 9,\n",
      "                   9, 1, 0, 2, 3, 9, 0, 5, 2, 6, 6, 8, 0, 3, 8, 7, 7, 3, 7, 3, 7, 6, 5, 5,\n",
      "                   7, 9, 6, 9, 3, 8, 9, 6, 9, 4, 0, 8, 5, 0, 1, 9, 3, 1, 0, 9, 3, 5, 6, 4,\n",
      "                   8, 0, 3, 5, 9, 3, 5, 8, 2, 4, 1, 6, 4, 6, 6, 5, 6, 3, 2, 7, 2, 6, 4, 3,\n",
      "                   0, 9, 7, 3, 6, 4, 7, 3, 6, 1, 5, 4, 2, 1, 3, 8, 8, 8, 0, 2, 1, 9, 1, 0,\n",
      "                   1, 3, 6, 7, 2, 1, 1, 9, 3, 4, 4, 7, 8, 5, 1, 7, 5, 8, 3, 3, 8, 7, 0, 3,\n",
      "                   4, 0, 0, 5, 9, 9, 5, 2, 2, 6, 3, 6, 2, 9, 5, 2, 7, 9, 7, 2, 2, 7, 7, 7,\n",
      "                   3, 4, 1, 0, 7, 3, 5, 9, 5, 5, 6, 7, 5, 1, 1, 8, 4, 4, 0, 0, 0, 7, 3, 4,\n",
      "                   1, 7, 5, 6, 8, 5, 4, 1, 3, 3, 2, 4, 2, 6, 2, 7, 0, 8, 0, 1, 3, 5, 5, 0,\n",
      "                   2, 9, 7, 4, 4, 4, 2, 5, 1, 8, 1, 2, 9, 6, 8, 4, 5, 1, 8, 0, 4, 7, 0, 0,\n",
      "                   8, 2, 7, 9, 0, 8, 5, 0, 1, 5, 5, 0, 6, 8, 7, 1, 2, 7, 3, 3, 5, 4, 7, 5,\n",
      "                   7, 0, 4, 3, 4, 8, 1, 4, 9, 6, 3, 7, 2, 8, 7, 3, 9, 5, 4, 8, 2, 3, 2, 4,\n",
      "                   3, 5, 9, 3, 5, 4, 2, 8, 6, 0, 5, 6, 1, 4, 3, 2, 7, 6, 8, 0, 5, 5, 2, 0,\n",
      "                   6, 2, 4, 2, 1, 5, 1, 4, 4, 8, 0, 2, 2, 2, 7, 8, 9, 8, 6, 5, 1, 5, 3, 4,\n",
      "                   6, 0, 8, 4, 1, 5, 4, 9, 6, 7, 1, 8, 1, 3, 3, 6, 6, 4, 6, 1, 8, 9, 8, 1,\n",
      "                   7, 4, 8, 6, 9, 5, 5, 1, 7, 0, 7, 5, 7, 7, 3, 3, 1, 0, 4, 4, 1, 9, 7, 7,\n",
      "                   0, 0, 5, 2, 5, 0, 2, 5, 9, 6, 4, 2, 4, 0, 9, 5, 1, 8, 5, 0, 8, 9, 9, 1,\n",
      "                   9, 3, 1, 1, 2, 1, 2, 5, 2, 1, 8, 9, 4, 0, 8, 2, 9, 3, 2, 9, 1, 8, 9, 1,\n",
      "                   8, 2, 7, 4, 1, 4, 4, 9, 6, 2, 0, 3, 3, 1, 6, 0, 5, 7, 6, 1, 0, 8, 5, 2,\n",
      "                   2, 2, 2, 3, 3, 3, 3, 7, 2, 3, 8, 5, 8, 2, 3, 9, 1, 3, 3, 7, 3, 3, 5, 7,\n",
      "                   8, 7, 4, 5, 6, 3, 4, 8, 5, 8, 9, 3, 1, 0, 2, 1, 7, 7, 1, 5, 7, 0, 2, 9,\n",
      "                   8, 4, 1, 2, 3, 6, 2, 6, 9, 5, 5, 2, 6, 9, 2, 3, 5, 7, 5, 6, 4, 6, 1, 6,\n",
      "                   0, 2, 7, 2, 9, 3, 8, 5, 0, 5, 6, 9, 3, 8, 6, 7, 2, 5, 9, 8, 2, 5, 3, 5])),\n",
      "               names=('seeds', 'labels'),\n",
      "           ),\n",
      "           test_set=ItemSet(\n",
      "               items=(tensor([ 64, 698, 921, 991, 355, 375, 423,  50, 807, 742, 389, 806, 926, 166,\n",
      "                   506, 644, 104, 902, 680,  57, 138, 849, 686, 156, 872, 586, 377, 199,\n",
      "                   591,  97, 340, 713, 298, 983, 202,  11, 494,  42, 447, 282, 388, 453,\n",
      "                   193, 733, 695, 492, 461, 621, 866, 854, 242, 188, 135, 483, 466, 444,\n",
      "                   668, 378,  80, 243,  54,  69, 609, 873, 367, 683, 853, 583, 665, 484,\n",
      "                   895, 247, 682, 728,  75, 721,  27, 918, 992, 781, 545, 920, 284, 798,\n",
      "                   258,  85,  14,  77, 518, 471, 294, 961, 101, 862, 537, 171, 110, 317,\n",
      "                   927, 233, 708, 116, 831, 844, 490, 949, 192, 221,  96, 794, 226, 773,\n",
      "                   851, 656, 128, 723, 625,  72,  36, 140, 651, 767, 783, 538, 782, 197,\n",
      "                   810, 488, 594, 661, 885,  99, 404, 630, 757, 130,  35, 764, 877, 934,\n",
      "                    38, 688, 203, 646, 883, 514, 550,  15, 474, 836, 911, 626, 384,  76,\n",
      "                   528, 553, 262, 799, 964, 988, 956, 624, 845, 841, 817, 366, 227, 264,\n",
      "                     0, 160, 774, 724, 801, 894, 850, 696, 735,  22, 346, 470, 571, 825,\n",
      "                   403, 163, 986, 734, 739,  81, 898, 584, 577, 996, 374, 502, 635, 843,\n",
      "                   303, 633, 280, 892], dtype=torch.int32), tensor([5, 1, 0, 2, 7, 2, 0, 0, 0, 1, 7, 5, 4, 9, 8, 4, 3, 8, 6, 4, 6, 2, 9, 2,\n",
      "                   6, 8, 6, 2, 0, 7, 2, 2, 4, 1, 8, 3, 3, 3, 1, 3, 8, 9, 4, 1, 7, 9, 9, 7,\n",
      "                   1, 1, 6, 1, 9, 7, 9, 7, 5, 6, 6, 0, 7, 0, 6, 6, 3, 3, 7, 7, 8, 6, 4, 1,\n",
      "                   9, 1, 1, 8, 0, 0, 5, 3, 3, 0, 5, 1, 4, 4, 4, 2, 5, 2, 0, 8, 0, 6, 5, 6,\n",
      "                   3, 0, 5, 9, 6, 0, 3, 3, 3, 4, 3, 4, 7, 5, 9, 9, 7, 0, 8, 3, 7, 7, 3, 7,\n",
      "                   1, 6, 4, 0, 7, 0, 9, 4, 1, 7, 6, 6, 0, 8, 5, 6, 5, 5, 6, 3, 1, 7, 8, 5,\n",
      "                   2, 8, 7, 3, 5, 0, 6, 4, 5, 6, 2, 2, 3, 1, 5, 9, 7, 1, 2, 4, 5, 0, 3, 2,\n",
      "                   1, 6, 4, 8, 1, 3, 2, 7, 7, 3, 8, 4, 0, 1, 8, 8, 7, 7, 8, 4, 9, 5, 5, 3,\n",
      "                   3, 5, 5, 8, 3, 4, 2, 3])),\n",
      "               names=('seeds', 'labels'),\n",
      "           ),\n",
      "           metadata={'name': 'node_classification', 'num_classes': 10},)\n",
      "\n",
      "Loaded link prediction task: OnDiskTask(validation_set=ItemSet(\n",
      "               items=(tensor([[891, 131],\n",
      "                   [106, 366],\n",
      "                   [683, 716],\n",
      "                   ...,\n",
      "                   [695, 183],\n",
      "                   [695, 930],\n",
      "                   [695, 217]], dtype=torch.int32), tensor([1., 1., 1.,  ..., 0., 0., 0.], dtype=torch.float64), tensor([   0,    1,    2,  ..., 1999, 1999, 1999])),\n",
      "               names=('seeds', 'labels', 'indexes'),\n",
      "           ),\n",
      "           train_set=ItemSet(\n",
      "               items=(tensor([[840, 970],\n",
      "                   [929, 129],\n",
      "                   [949, 313],\n",
      "                   ...,\n",
      "                   [654, 981],\n",
      "                   [179, 811],\n",
      "                   [705, 554]], dtype=torch.int32),),\n",
      "               names=('seeds',),\n",
      "           ),\n",
      "           test_set=ItemSet(\n",
      "               items=(tensor([[148, 680],\n",
      "                   [286, 277],\n",
      "                   [549, 488],\n",
      "                   ...,\n",
      "                   [345, 260],\n",
      "                   [345, 800],\n",
      "                   [345,  96]], dtype=torch.int32), tensor([1., 1., 1.,  ..., 0., 0., 0.], dtype=torch.float64), tensor([   0,    1,    2,  ..., 1999, 1999, 1999])),\n",
      "               names=('seeds', 'labels', 'indexes'),\n",
      "           ),\n",
      "           metadata={'name': 'link_prediction', 'num_classes': 10},)\n",
      "\n"
     ]
    },
    {
     "name": "stderr",
     "output_type": "stream",
     "text": [
      "/dgl/python/dgl/graphbolt/impl/ondisk_dataset.py:463: GBWarning: Edge feature is stored, but edge IDs are not saved.\n",
      "  gb_warning(\"Edge feature is stored, but edge IDs are not saved.\")\n"
     ]
    }
   ],
   "source": [
    "dataset = gb.OnDiskDataset(base_dir).load()\n",
    "graph = dataset.graph\n",
    "print(f\"Loaded graph: {graph}\\n\")\n",
    "\n",
    "feature = dataset.feature\n",
    "print(f\"Loaded feature store: {feature}\\n\")\n",
    "\n",
    "tasks = dataset.tasks\n",
    "nc_task = tasks[0]\n",
    "print(f\"Loaded node classification task: {nc_task}\\n\")\n",
    "lp_task = tasks[1]\n",
    "print(f\"Loaded link prediction task: {lp_task}\\n\")"
   ]
  }
 ],
 "metadata": {
  "colab": {
   "private_outputs": true,
   "provenance": []
  },
  "kernelspec": {
   "display_name": "Python 3",
   "name": "python3"
  },
  "language_info": {
   "codemirror_mode": {
    "name": "ipython",
    "version": 3
   },
   "file_extension": ".py",
   "mimetype": "text/x-python",
   "name": "python",
   "nbconvert_exporter": "python",
   "pygments_lexer": "ipython3",
   "version": "3.10.15"
  }
 },
 "nbformat": 4,
 "nbformat_minor": 0
}

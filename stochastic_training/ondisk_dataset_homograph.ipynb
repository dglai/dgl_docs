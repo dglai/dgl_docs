{
 "cells": [
  {
   "cell_type": "markdown",
   "metadata": {
    "id": "FnFhPMaAfLtJ"
   },
   "source": [
    "# OnDiskDataset for Homogeneous Graph\n",
    "\n",
    "[![Open In Colab](https://colab.research.google.com/assets/colab-badge.svg)](https://colab.research.google.com/github/dmlc/dgl/blob/master/notebooks/stochastic_training/ondisk_dataset_homograph.ipynb) [![GitHub](https://img.shields.io/badge/-View%20on%20GitHub-181717?logo=github&logoColor=ffffff)](https://github.com/dmlc/dgl/blob/master/notebooks/stochastic_training/ondisk_dataset_homograph.ipynb)\n",
    "\n",
    "This tutorial shows how to create `OnDiskDataset` for homogeneous graph that could be used in **GraphBolt** framework.\n",
    "\n",
    "By the end of this tutorial, you will be able to\n",
    "\n",
    "- organize graph structure data.\n",
    "- organize feature data.\n",
    "- organize training/validation/test set for specific tasks.\n",
    "\n",
    "To create an ``OnDiskDataset`` object, you need to organize all the data including graph structure, feature data and tasks into a directory. The directory should contain a ``metadata.yaml`` file that describes the metadata of the dataset.\n",
    "\n",
    "Now let's generate various data step by step and organize them together to instantiate `OnDiskDataset` finally."
   ]
  },
  {
   "cell_type": "markdown",
   "metadata": {
    "id": "Wlb19DtWgtzq"
   },
   "source": [
    "## Install DGL package"
   ]
  },
  {
   "cell_type": "code",
   "execution_count": 1,
   "metadata": {
    "execution": {
     "iopub.execute_input": "2024-10-12T03:31:33.325742Z",
     "iopub.status.busy": "2024-10-12T03:31:33.325415Z",
     "iopub.status.idle": "2024-10-12T03:31:36.349886Z",
     "shell.execute_reply": "2024-10-12T03:31:36.348860Z"
    },
    "id": "UojlT9ZGgyr9"
   },
   "outputs": [
    {
     "name": "stdout",
     "output_type": "stream",
     "text": [
      "Looking in links: https://data.dgl.ai/wheels-test/repo.html\r\n",
      "Requirement already satisfied: dgl in /opt/conda/envs/dgl-dev-cpu/lib/python3.10/site-packages (2.2a240410)\r\n",
      "Requirement already satisfied: numpy>=1.14.0 in /opt/conda/envs/dgl-dev-cpu/lib/python3.10/site-packages (from dgl) (1.26.4)\r\n",
      "Requirement already satisfied: scipy>=1.1.0 in /opt/conda/envs/dgl-dev-cpu/lib/python3.10/site-packages (from dgl) (1.14.1)\r\n",
      "Requirement already satisfied: networkx>=2.1 in /opt/conda/envs/dgl-dev-cpu/lib/python3.10/site-packages (from dgl) (3.4.1)\r\n",
      "Requirement already satisfied: requests>=2.19.0 in /opt/conda/envs/dgl-dev-cpu/lib/python3.10/site-packages (from dgl) (2.32.3)\r\n",
      "Requirement already satisfied: tqdm in /opt/conda/envs/dgl-dev-cpu/lib/python3.10/site-packages (from dgl) (4.66.5)\r\n",
      "Requirement already satisfied: psutil>=5.8.0 in /opt/conda/envs/dgl-dev-cpu/lib/python3.10/site-packages (from dgl) (6.0.0)\r\n",
      "Requirement already satisfied: torchdata>=0.5.0 in /opt/conda/envs/dgl-dev-cpu/lib/python3.10/site-packages (from dgl) (0.8.0)\r\n",
      "Requirement already satisfied: pandas in /opt/conda/envs/dgl-dev-cpu/lib/python3.10/site-packages (from dgl) (2.2.3)\r\n"
     ]
    },
    {
     "name": "stdout",
     "output_type": "stream",
     "text": [
      "Requirement already satisfied: charset-normalizer<4,>=2 in /opt/conda/envs/dgl-dev-cpu/lib/python3.10/site-packages (from requests>=2.19.0->dgl) (3.4.0)\r\n",
      "Requirement already satisfied: idna<4,>=2.5 in /opt/conda/envs/dgl-dev-cpu/lib/python3.10/site-packages (from requests>=2.19.0->dgl) (3.10)\r\n",
      "Requirement already satisfied: urllib3<3,>=1.21.1 in /opt/conda/envs/dgl-dev-cpu/lib/python3.10/site-packages (from requests>=2.19.0->dgl) (2.2.3)\r\n",
      "Requirement already satisfied: certifi>=2017.4.17 in /opt/conda/envs/dgl-dev-cpu/lib/python3.10/site-packages (from requests>=2.19.0->dgl) (2024.8.30)\r\n",
      "Requirement already satisfied: torch>=2 in /opt/conda/envs/dgl-dev-cpu/lib/python3.10/site-packages (from torchdata>=0.5.0->dgl) (2.1.0+cpu)\r\n"
     ]
    },
    {
     "name": "stdout",
     "output_type": "stream",
     "text": [
      "Requirement already satisfied: python-dateutil>=2.8.2 in /opt/conda/envs/dgl-dev-cpu/lib/python3.10/site-packages (from pandas->dgl) (2.9.0.post0)\r\n",
      "Requirement already satisfied: pytz>=2020.1 in /opt/conda/envs/dgl-dev-cpu/lib/python3.10/site-packages (from pandas->dgl) (2024.2)\r\n",
      "Requirement already satisfied: tzdata>=2022.7 in /opt/conda/envs/dgl-dev-cpu/lib/python3.10/site-packages (from pandas->dgl) (2024.2)\r\n",
      "Requirement already satisfied: six>=1.5 in /opt/conda/envs/dgl-dev-cpu/lib/python3.10/site-packages (from python-dateutil>=2.8.2->pandas->dgl) (1.16.0)\r\n",
      "Requirement already satisfied: filelock in /opt/conda/envs/dgl-dev-cpu/lib/python3.10/site-packages (from torch>=2->torchdata>=0.5.0->dgl) (3.16.1)\r\n",
      "Requirement already satisfied: typing-extensions in /opt/conda/envs/dgl-dev-cpu/lib/python3.10/site-packages (from torch>=2->torchdata>=0.5.0->dgl) (4.12.2)\r\n",
      "Requirement already satisfied: sympy in /opt/conda/envs/dgl-dev-cpu/lib/python3.10/site-packages (from torch>=2->torchdata>=0.5.0->dgl) (1.13.3)\r\n",
      "Requirement already satisfied: jinja2 in /opt/conda/envs/dgl-dev-cpu/lib/python3.10/site-packages (from torch>=2->torchdata>=0.5.0->dgl) (3.1.4)\r\n",
      "Requirement already satisfied: fsspec in /opt/conda/envs/dgl-dev-cpu/lib/python3.10/site-packages (from torch>=2->torchdata>=0.5.0->dgl) (2024.9.0)\r\n"
     ]
    },
    {
     "name": "stdout",
     "output_type": "stream",
     "text": [
      "Requirement already satisfied: MarkupSafe>=2.0 in /opt/conda/envs/dgl-dev-cpu/lib/python3.10/site-packages (from jinja2->torch>=2->torchdata>=0.5.0->dgl) (3.0.1)\r\n",
      "Requirement already satisfied: mpmath<1.4,>=1.1.0 in /opt/conda/envs/dgl-dev-cpu/lib/python3.10/site-packages (from sympy->torch>=2->torchdata>=0.5.0->dgl) (1.3.0)\r\n"
     ]
    },
    {
     "name": "stdout",
     "output_type": "stream",
     "text": [
      "\u001b[33mWARNING: Running pip as the 'root' user can result in broken permissions and conflicting behaviour with the system package manager, possibly rendering your system unusable.It is recommended to use a virtual environment instead: https://pip.pypa.io/warnings/venv. Use the --root-user-action option if you know what you are doing and want to suppress this warning.\u001b[0m\u001b[33m\r\n",
      "\u001b[0m"
     ]
    },
    {
     "name": "stdout",
     "output_type": "stream",
     "text": [
      "DGL installed!\n"
     ]
    }
   ],
   "source": [
    "# Install required packages.\n",
    "import os\n",
    "import torch\n",
    "import numpy as np\n",
    "os.environ['TORCH'] = torch.__version__\n",
    "os.environ['DGLBACKEND'] = \"pytorch\"\n",
    "\n",
    "# Install the CPU version.\n",
    "device = torch.device(\"cpu\")\n",
    "!pip install --pre dgl -f https://data.dgl.ai/wheels-test/repo.html\n",
    "\n",
    "try:\n",
    "    import dgl\n",
    "    import dgl.graphbolt as gb\n",
    "    installed = True\n",
    "except ImportError as error:\n",
    "    installed = False\n",
    "    print(error)\n",
    "print(\"DGL installed!\" if installed else \"DGL not found!\")"
   ]
  },
  {
   "cell_type": "markdown",
   "metadata": {
    "id": "2R7WnSbjsfbr"
   },
   "source": [
    "## Data preparation\n",
    "In order to demonstrate how to organize various data, let's create a base directory first."
   ]
  },
  {
   "cell_type": "code",
   "execution_count": 2,
   "metadata": {
    "execution": {
     "iopub.execute_input": "2024-10-12T03:31:36.352477Z",
     "iopub.status.busy": "2024-10-12T03:31:36.351841Z",
     "iopub.status.idle": "2024-10-12T03:31:36.357517Z",
     "shell.execute_reply": "2024-10-12T03:31:36.356595Z"
    },
    "id": "SZipbzyltLfO"
   },
   "outputs": [
    {
     "name": "stdout",
     "output_type": "stream",
     "text": [
      "Created base directory: ./ondisk_dataset_homograph\n"
     ]
    }
   ],
   "source": [
    "base_dir = './ondisk_dataset_homograph'\n",
    "os.makedirs(base_dir, exist_ok=True)\n",
    "print(f\"Created base directory: {base_dir}\")"
   ]
  },
  {
   "cell_type": "markdown",
   "metadata": {
    "id": "qhNtIn_xhlnl"
   },
   "source": [
    "### Generate graph structure data\n",
    "For homogeneous graph, we just need to save edges(namely seeds) into  **Numpy** or **CSV** file.\n",
    "\n",
    "Note:\n",
    "- when saving to **Numpy**, the array requires to be in shape of `(2, N)`. This format is recommended as constructing graph from it is much faster than **CSV** file.\n",
    "- when saving to **CSV** file, do not save index and header.\n"
   ]
  },
  {
   "cell_type": "code",
   "execution_count": 3,
   "metadata": {
    "execution": {
     "iopub.execute_input": "2024-10-12T03:31:36.359992Z",
     "iopub.status.busy": "2024-10-12T03:31:36.359702Z",
     "iopub.status.idle": "2024-10-12T03:31:36.374144Z",
     "shell.execute_reply": "2024-10-12T03:31:36.373285Z"
    },
    "id": "HcBt4G5BmSjr"
   },
   "outputs": [
    {
     "name": "stdout",
     "output_type": "stream",
     "text": [
      "Part of edges: [[567 822]\n",
      " [963 407]\n",
      " [648 566]\n",
      " [942 748]\n",
      " [405 145]]\n",
      "Edges are saved into ./ondisk_dataset_homograph/edges.csv\n"
     ]
    }
   ],
   "source": [
    "import numpy as np\n",
    "import pandas as pd\n",
    "num_nodes = 1000\n",
    "num_edges = 10 * num_nodes\n",
    "edges_path = os.path.join(base_dir, \"edges.csv\")\n",
    "edges = np.random.randint(0, num_nodes, size=(num_edges, 2))\n",
    "\n",
    "print(f\"Part of edges: {edges[:5, :]}\")\n",
    "\n",
    "df = pd.DataFrame(edges)\n",
    "df.to_csv(edges_path, index=False, header=False)\n",
    "\n",
    "print(f\"Edges are saved into {edges_path}\")"
   ]
  },
  {
   "cell_type": "markdown",
   "metadata": {
    "id": "kh-4cPtzpcaH"
   },
   "source": [
    "### Generate feature data for graph\n",
    "For feature data, numpy arrays and torch tensors are supported for now."
   ]
  },
  {
   "cell_type": "code",
   "execution_count": 4,
   "metadata": {
    "execution": {
     "iopub.execute_input": "2024-10-12T03:31:36.376198Z",
     "iopub.status.busy": "2024-10-12T03:31:36.375893Z",
     "iopub.status.idle": "2024-10-12T03:31:36.394767Z",
     "shell.execute_reply": "2024-10-12T03:31:36.393333Z"
    },
    "id": "_PVu1u5brBhF"
   },
   "outputs": [
    {
     "name": "stdout",
     "output_type": "stream",
     "text": [
      "Part of node feature [feat_0]: [[0.94849233 0.04933789 0.74270657 0.94973029 0.91359728]\n",
      " [0.15932242 0.16597536 0.35980945 0.6906025  0.50979502]\n",
      " [0.55471472 0.22227207 0.24044536 0.87837878 0.15094612]]\n",
      "Node feature [feat_0] is saved to ./ondisk_dataset_homograph/node-feat-0.npy\n",
      "\n",
      "Part of node feature [feat_1]: tensor([[0.8347, 0.4425, 0.0177, 0.5649, 0.6180],\n",
      "        [0.5603, 0.8478, 0.8028, 0.1672, 0.1202],\n",
      "        [0.0231, 0.9207, 0.8114, 0.0054, 0.1548]])\n",
      "Node feature [feat_1] is saved to ./ondisk_dataset_homograph/node-feat-1.pt\n",
      "\n",
      "Part of edge feature [feat_0]: [[0.60128565 0.04436087 0.44666678 0.86022483 0.64060908]\n",
      " [0.89794892 0.72700033 0.58471372 0.06321119 0.7502472 ]\n",
      " [0.19502921 0.28664346 0.02931399 0.50961789 0.35372099]]\n",
      "Edge feature [feat_0] is saved to ./ondisk_dataset_homograph/edge-feat-0.npy\n",
      "\n",
      "Part of edge feature [feat_1]: tensor([[0.3427, 0.6199, 0.5404, 0.5301, 0.5493],\n",
      "        [0.9343, 0.2146, 0.7788, 0.9457, 0.2690],\n",
      "        [0.8112, 0.7726, 0.1478, 0.9044, 0.9880]])\n",
      "Edge feature [feat_1] is saved to ./ondisk_dataset_homograph/edge-feat-1.pt\n",
      "\n"
     ]
    }
   ],
   "source": [
    "# Generate node feature in numpy array.\n",
    "node_feat_0_path = os.path.join(base_dir, \"node-feat-0.npy\")\n",
    "node_feat_0 = np.random.rand(num_nodes, 5)\n",
    "print(f\"Part of node feature [feat_0]: {node_feat_0[:3, :]}\")\n",
    "np.save(node_feat_0_path, node_feat_0)\n",
    "print(f\"Node feature [feat_0] is saved to {node_feat_0_path}\\n\")\n",
    "\n",
    "# Generate another node feature in torch tensor\n",
    "node_feat_1_path = os.path.join(base_dir, \"node-feat-1.pt\")\n",
    "node_feat_1 = torch.rand(num_nodes, 5)\n",
    "print(f\"Part of node feature [feat_1]: {node_feat_1[:3, :]}\")\n",
    "torch.save(node_feat_1, node_feat_1_path)\n",
    "print(f\"Node feature [feat_1] is saved to {node_feat_1_path}\\n\")\n",
    "\n",
    "# Generate edge feature in numpy array.\n",
    "edge_feat_0_path = os.path.join(base_dir, \"edge-feat-0.npy\")\n",
    "edge_feat_0 = np.random.rand(num_edges, 5)\n",
    "print(f\"Part of edge feature [feat_0]: {edge_feat_0[:3, :]}\")\n",
    "np.save(edge_feat_0_path, edge_feat_0)\n",
    "print(f\"Edge feature [feat_0] is saved to {edge_feat_0_path}\\n\")\n",
    "\n",
    "# Generate another edge feature in torch tensor\n",
    "edge_feat_1_path = os.path.join(base_dir, \"edge-feat-1.pt\")\n",
    "edge_feat_1 = torch.rand(num_edges, 5)\n",
    "print(f\"Part of edge feature [feat_1]: {edge_feat_1[:3, :]}\")\n",
    "torch.save(edge_feat_1, edge_feat_1_path)\n",
    "print(f\"Edge feature [feat_1] is saved to {edge_feat_1_path}\\n\")\n"
   ]
  },
  {
   "cell_type": "markdown",
   "metadata": {
    "id": "ZyqgOtsIwzh_"
   },
   "source": [
    "### Generate tasks\n",
    "`OnDiskDataset` supports multiple tasks. For each task, we need to prepare training/validation/test sets respectively. Such sets usually vary among different tasks. In this tutorial, let's create a **Node Classification** task and **Link Prediction** task."
   ]
  },
  {
   "cell_type": "markdown",
   "metadata": {
    "id": "hVxHaDIfzCkr"
   },
   "source": [
    "#### Node Classification Task\n",
    "For node classification task, we need **node IDs** and corresponding **labels** for each training/validation/test set. Like feature data, numpy arrays and torch tensors are supported for these sets."
   ]
  },
  {
   "cell_type": "code",
   "execution_count": 5,
   "metadata": {
    "execution": {
     "iopub.execute_input": "2024-10-12T03:31:36.398095Z",
     "iopub.status.busy": "2024-10-12T03:31:36.397807Z",
     "iopub.status.idle": "2024-10-12T03:31:36.410276Z",
     "shell.execute_reply": "2024-10-12T03:31:36.409397Z"
    },
    "id": "S5-fyBbHzTCO"
   },
   "outputs": [
    {
     "name": "stdout",
     "output_type": "stream",
     "text": [
      "Part of train ids for node classification: [778 159 677]\n",
      "NC train ids are saved to ./ondisk_dataset_homograph/nc-train-ids.npy\n",
      "\n",
      "Part of train labels for node classification: tensor([4, 6, 3])\n",
      "NC train labels are saved to ./ondisk_dataset_homograph/nc-train-labels.pt\n",
      "\n",
      "Part of val ids for node classification: [652 531 771]\n",
      "NC val ids are saved to ./ondisk_dataset_homograph/nc-val-ids.npy\n",
      "\n",
      "Part of val labels for node classification: tensor([7, 8, 1])\n",
      "NC val labels are saved to ./ondisk_dataset_homograph/nc-val-labels.pt\n",
      "\n",
      "Part of test ids for node classification: [965 117 288]\n",
      "NC test ids are saved to ./ondisk_dataset_homograph/nc-test-ids.npy\n",
      "\n",
      "Part of test labels for node classification: tensor([8, 5, 5])\n",
      "NC test labels are saved to ./ondisk_dataset_homograph/nc-test-labels.pt\n",
      "\n"
     ]
    }
   ],
   "source": [
    "num_trains = int(num_nodes * 0.6)\n",
    "num_vals = int(num_nodes * 0.2)\n",
    "num_tests = num_nodes - num_trains - num_vals\n",
    "\n",
    "ids = np.arange(num_nodes)\n",
    "np.random.shuffle(ids)\n",
    "\n",
    "nc_train_ids_path = os.path.join(base_dir, \"nc-train-ids.npy\")\n",
    "nc_train_ids = ids[:num_trains]\n",
    "print(f\"Part of train ids for node classification: {nc_train_ids[:3]}\")\n",
    "np.save(nc_train_ids_path, nc_train_ids)\n",
    "print(f\"NC train ids are saved to {nc_train_ids_path}\\n\")\n",
    "\n",
    "nc_train_labels_path = os.path.join(base_dir, \"nc-train-labels.pt\")\n",
    "nc_train_labels = torch.randint(0, 10, (num_trains,))\n",
    "print(f\"Part of train labels for node classification: {nc_train_labels[:3]}\")\n",
    "torch.save(nc_train_labels, nc_train_labels_path)\n",
    "print(f\"NC train labels are saved to {nc_train_labels_path}\\n\")\n",
    "\n",
    "nc_val_ids_path = os.path.join(base_dir, \"nc-val-ids.npy\")\n",
    "nc_val_ids = ids[num_trains:num_trains+num_vals]\n",
    "print(f\"Part of val ids for node classification: {nc_val_ids[:3]}\")\n",
    "np.save(nc_val_ids_path, nc_val_ids)\n",
    "print(f\"NC val ids are saved to {nc_val_ids_path}\\n\")\n",
    "\n",
    "nc_val_labels_path = os.path.join(base_dir, \"nc-val-labels.pt\")\n",
    "nc_val_labels = torch.randint(0, 10, (num_vals,))\n",
    "print(f\"Part of val labels for node classification: {nc_val_labels[:3]}\")\n",
    "torch.save(nc_val_labels, nc_val_labels_path)\n",
    "print(f\"NC val labels are saved to {nc_val_labels_path}\\n\")\n",
    "\n",
    "nc_test_ids_path = os.path.join(base_dir, \"nc-test-ids.npy\")\n",
    "nc_test_ids = ids[-num_tests:]\n",
    "print(f\"Part of test ids for node classification: {nc_test_ids[:3]}\")\n",
    "np.save(nc_test_ids_path, nc_test_ids)\n",
    "print(f\"NC test ids are saved to {nc_test_ids_path}\\n\")\n",
    "\n",
    "nc_test_labels_path = os.path.join(base_dir, \"nc-test-labels.pt\")\n",
    "nc_test_labels = torch.randint(0, 10, (num_tests,))\n",
    "print(f\"Part of test labels for node classification: {nc_test_labels[:3]}\")\n",
    "torch.save(nc_test_labels, nc_test_labels_path)\n",
    "print(f\"NC test labels are saved to {nc_test_labels_path}\\n\")"
   ]
  },
  {
   "cell_type": "markdown",
   "metadata": {
    "id": "LhAcDCHQ_KJ0"
   },
   "source": [
    "#### Link Prediction Task\n",
    "For link prediction task, we need **seeds** or **corresponding labels and indexes** which representing the pos/neg property and group of the seeds for each training/validation/test set. Like feature data, numpy arrays and torch tensors are supported for these sets."
   ]
  },
  {
   "cell_type": "code",
   "execution_count": 6,
   "metadata": {
    "execution": {
     "iopub.execute_input": "2024-10-12T03:31:36.412511Z",
     "iopub.status.busy": "2024-10-12T03:31:36.412318Z",
     "iopub.status.idle": "2024-10-12T03:31:36.430600Z",
     "shell.execute_reply": "2024-10-12T03:31:36.429754Z"
    },
    "id": "u0jCnXIcAQy4"
   },
   "outputs": [
    {
     "name": "stdout",
     "output_type": "stream",
     "text": [
      "Part of train seeds for link prediction: [[567 822]\n",
      " [963 407]\n",
      " [648 566]]\n",
      "LP train seeds are saved to ./ondisk_dataset_homograph/lp-train-seeds.npy\n",
      "\n",
      "Part of val seeds for link prediction: [[808  59]\n",
      " [307 763]\n",
      " [648 198]]\n",
      "LP val seeds are saved to ./ondisk_dataset_homograph/lp-val-seeds.npy\n",
      "\n",
      "Part of val labels for link prediction: [1. 1. 1.]\n",
      "LP val labels are saved to ./ondisk_dataset_homograph/lp-val-labels.npy\n",
      "\n",
      "Part of val indexes for link prediction: [0 1 2]\n",
      "LP val indexes are saved to ./ondisk_dataset_homograph/lp-val-indexes.npy\n",
      "\n",
      "Part of test seeds for link prediction: [[778 661]\n",
      " [898  57]\n",
      " [213 401]]\n",
      "LP test seeds are saved to ./ondisk_dataset_homograph/lp-test-seeds.npy\n",
      "\n",
      "Part of val labels for link prediction: [1. 1. 1.]\n",
      "LP test labels are saved to ./ondisk_dataset_homograph/lp-test-labels.npy\n",
      "\n",
      "Part of test indexes for link prediction: [0 1 2]\n",
      "LP test indexes are saved to ./ondisk_dataset_homograph/lp-test-indexes.npy\n",
      "\n"
     ]
    }
   ],
   "source": [
    "num_trains = int(num_edges * 0.6)\n",
    "num_vals = int(num_edges * 0.2)\n",
    "num_tests = num_edges - num_trains - num_vals\n",
    "\n",
    "lp_train_seeds_path = os.path.join(base_dir, \"lp-train-seeds.npy\")\n",
    "lp_train_seeds = edges[:num_trains, :]\n",
    "print(f\"Part of train seeds for link prediction: {lp_train_seeds[:3]}\")\n",
    "np.save(lp_train_seeds_path, lp_train_seeds)\n",
    "print(f\"LP train seeds are saved to {lp_train_seeds_path}\\n\")\n",
    "\n",
    "lp_val_seeds_path = os.path.join(base_dir, \"lp-val-seeds.npy\")\n",
    "lp_val_seeds = edges[num_trains:num_trains+num_vals, :]\n",
    "lp_val_neg_dsts = np.random.randint(0, num_nodes, (num_vals, 10)).reshape(-1)\n",
    "lp_val_neg_srcs = np.repeat(lp_val_seeds[:,0], 10)\n",
    "lp_val_neg_seeds = np.concatenate((lp_val_neg_srcs, lp_val_neg_dsts)).reshape(2,-1).T\n",
    "lp_val_seeds = np.concatenate((lp_val_seeds, lp_val_neg_seeds))\n",
    "print(f\"Part of val seeds for link prediction: {lp_val_seeds[:3]}\")\n",
    "np.save(lp_val_seeds_path, lp_val_seeds)\n",
    "print(f\"LP val seeds are saved to {lp_val_seeds_path}\\n\")\n",
    "\n",
    "lp_val_labels_path = os.path.join(base_dir, \"lp-val-labels.npy\")\n",
    "lp_val_labels = np.empty(num_vals * (10 + 1))\n",
    "lp_val_labels[:num_vals] = 1\n",
    "lp_val_labels[num_vals:] = 0\n",
    "print(f\"Part of val labels for link prediction: {lp_val_labels[:3]}\")\n",
    "np.save(lp_val_labels_path, lp_val_labels)\n",
    "print(f\"LP val labels are saved to {lp_val_labels_path}\\n\")\n",
    "\n",
    "lp_val_indexes_path = os.path.join(base_dir, \"lp-val-indexes.npy\")\n",
    "lp_val_indexes = np.arange(0, num_vals)\n",
    "lp_val_neg_indexes = np.repeat(lp_val_indexes, 10)\n",
    "lp_val_indexes = np.concatenate([lp_val_indexes, lp_val_neg_indexes])\n",
    "print(f\"Part of val indexes for link prediction: {lp_val_indexes[:3]}\")\n",
    "np.save(lp_val_indexes_path, lp_val_indexes)\n",
    "print(f\"LP val indexes are saved to {lp_val_indexes_path}\\n\")\n",
    "\n",
    "lp_test_seeds_path = os.path.join(base_dir, \"lp-test-seeds.npy\")\n",
    "lp_test_seeds = edges[-num_tests:, :]\n",
    "lp_test_neg_dsts = np.random.randint(0, num_nodes, (num_tests, 10)).reshape(-1)\n",
    "lp_test_neg_srcs = np.repeat(lp_test_seeds[:,0], 10)\n",
    "lp_test_neg_seeds = np.concatenate((lp_test_neg_srcs, lp_test_neg_dsts)).reshape(2,-1).T\n",
    "lp_test_seeds = np.concatenate((lp_test_seeds, lp_test_neg_seeds))\n",
    "print(f\"Part of test seeds for link prediction: {lp_test_seeds[:3]}\")\n",
    "np.save(lp_test_seeds_path, lp_test_seeds)\n",
    "print(f\"LP test seeds are saved to {lp_test_seeds_path}\\n\")\n",
    "\n",
    "lp_test_labels_path = os.path.join(base_dir, \"lp-test-labels.npy\")\n",
    "lp_test_labels = np.empty(num_tests * (10 + 1))\n",
    "lp_test_labels[:num_tests] = 1\n",
    "lp_test_labels[num_tests:] = 0\n",
    "print(f\"Part of val labels for link prediction: {lp_test_labels[:3]}\")\n",
    "np.save(lp_test_labels_path, lp_test_labels)\n",
    "print(f\"LP test labels are saved to {lp_test_labels_path}\\n\")\n",
    "\n",
    "lp_test_indexes_path = os.path.join(base_dir, \"lp-test-indexes.npy\")\n",
    "lp_test_indexes = np.arange(0, num_tests)\n",
    "lp_test_neg_indexes = np.repeat(lp_test_indexes, 10)\n",
    "lp_test_indexes = np.concatenate([lp_test_indexes, lp_test_neg_indexes])\n",
    "print(f\"Part of test indexes for link prediction: {lp_test_indexes[:3]}\")\n",
    "np.save(lp_test_indexes_path, lp_test_indexes)\n",
    "print(f\"LP test indexes are saved to {lp_test_indexes_path}\\n\")"
   ]
  },
  {
   "cell_type": "markdown",
   "metadata": {
    "id": "wbk6-wxRK-6S"
   },
   "source": [
    "## Organize Data into YAML File\n",
    "Now we need to create a `metadata.yaml` file which contains the paths, dadta types of graph structure, feature data, training/validation/test sets.\n",
    "\n",
    "Notes:\n",
    "- all path should be relative to `metadata.yaml`.\n",
    "- Below fields are optional and not specified in below example.\n",
    "  - `in_memory`: indicates whether to load dada into memory or `mmap`. Default is `True`.\n",
    "\n",
    "Please refer to [YAML specification](https://github.com/dmlc/dgl/blob/master/docs/source/stochastic_training/ondisk-dataset-specification.rst) for more details."
   ]
  },
  {
   "cell_type": "code",
   "execution_count": 7,
   "metadata": {
    "execution": {
     "iopub.execute_input": "2024-10-12T03:31:36.433499Z",
     "iopub.status.busy": "2024-10-12T03:31:36.432787Z",
     "iopub.status.idle": "2024-10-12T03:31:36.439670Z",
     "shell.execute_reply": "2024-10-12T03:31:36.438875Z"
    },
    "id": "ddGTWW61Lpwp"
   },
   "outputs": [],
   "source": [
    "yaml_content = f\"\"\"\n",
    "    dataset_name: homogeneous_graph_nc_lp\n",
    "    graph:\n",
    "      nodes:\n",
    "        - num: {num_nodes}\n",
    "      edges:\n",
    "        - format: csv\n",
    "          path: {os.path.basename(edges_path)}\n",
    "    feature_data:\n",
    "      - domain: node\n",
    "        name: feat_0\n",
    "        format: numpy\n",
    "        path: {os.path.basename(node_feat_0_path)}\n",
    "      - domain: node\n",
    "        name: feat_1\n",
    "        format: torch\n",
    "        path: {os.path.basename(node_feat_1_path)}\n",
    "      - domain: edge\n",
    "        name: feat_0\n",
    "        format: numpy\n",
    "        path: {os.path.basename(edge_feat_0_path)}\n",
    "      - domain: edge\n",
    "        name: feat_1\n",
    "        format: torch\n",
    "        path: {os.path.basename(edge_feat_1_path)}\n",
    "    tasks:\n",
    "      - name: node_classification\n",
    "        num_classes: 10\n",
    "        train_set:\n",
    "          - data:\n",
    "              - name: seeds\n",
    "                format: numpy\n",
    "                path: {os.path.basename(nc_train_ids_path)}\n",
    "              - name: labels\n",
    "                format: torch\n",
    "                path: {os.path.basename(nc_train_labels_path)}\n",
    "        validation_set:\n",
    "          - data:\n",
    "              - name: seeds\n",
    "                format: numpy\n",
    "                path: {os.path.basename(nc_val_ids_path)}\n",
    "              - name: labels\n",
    "                format: torch\n",
    "                path: {os.path.basename(nc_val_labels_path)}\n",
    "        test_set:\n",
    "          - data:\n",
    "              - name: seeds\n",
    "                format: numpy\n",
    "                path: {os.path.basename(nc_test_ids_path)}\n",
    "              - name: labels\n",
    "                format: torch\n",
    "                path: {os.path.basename(nc_test_labels_path)}\n",
    "      - name: link_prediction\n",
    "        num_classes: 10\n",
    "        train_set:\n",
    "          - data:\n",
    "              - name: seeds\n",
    "                format: numpy\n",
    "                path: {os.path.basename(lp_train_seeds_path)}\n",
    "        validation_set:\n",
    "          - data:\n",
    "              - name: seeds\n",
    "                format: numpy\n",
    "                path: {os.path.basename(lp_val_seeds_path)}\n",
    "              - name: labels\n",
    "                format: numpy\n",
    "                path: {os.path.basename(lp_val_labels_path)}\n",
    "              - name: indexes\n",
    "                format: numpy\n",
    "                path: {os.path.basename(lp_val_indexes_path)}\n",
    "        test_set:\n",
    "          - data:\n",
    "              - name: seeds\n",
    "                format: numpy\n",
    "                path: {os.path.basename(lp_test_seeds_path)}\n",
    "              - name: labels\n",
    "                format: numpy\n",
    "                path: {os.path.basename(lp_test_labels_path)}\n",
    "              - name: indexes\n",
    "                format: numpy\n",
    "                path: {os.path.basename(lp_test_indexes_path)}\n",
    "\"\"\"\n",
    "metadata_path = os.path.join(base_dir, \"metadata.yaml\")\n",
    "with open(metadata_path, \"w\") as f:\n",
    "  f.write(yaml_content)"
   ]
  },
  {
   "cell_type": "markdown",
   "metadata": {
    "id": "kEfybHGhOW7O"
   },
   "source": [
    "## Instantiate `OnDiskDataset`\n",
    "Now we're ready to load dataset via `dgl.graphbolt.OnDiskDataset`. When instantiating, we just pass in the base directory where `metadata.yaml` file lies.\n",
    "\n",
    "During first instantiation, GraphBolt preprocesses the raw data such as constructing `FusedCSCSamplingGraph` from edges. All data including graph, feature data, training/validation/test sets are put into `preprocessed` directory after preprocessing. Any following dataset loading will skip the preprocess stage.\n",
    "\n",
    "After preprocessing, `load()` is required to be called explicitly in order to load graph, feature data and tasks."
   ]
  },
  {
   "cell_type": "code",
   "execution_count": 8,
   "metadata": {
    "execution": {
     "iopub.execute_input": "2024-10-12T03:31:36.442137Z",
     "iopub.status.busy": "2024-10-12T03:31:36.441835Z",
     "iopub.status.idle": "2024-10-12T03:31:36.512928Z",
     "shell.execute_reply": "2024-10-12T03:31:36.512231Z"
    },
    "id": "W58CZoSzOiyo"
   },
   "outputs": [
    {
     "name": "stdout",
     "output_type": "stream",
     "text": [
      "Start to preprocess the on-disk dataset.\n",
      "Finish preprocessing the on-disk dataset.\n",
      "Loaded graph: FusedCSCSamplingGraph(csc_indptr=tensor([    0,     7,    20,  ...,  9983,  9990, 10000], dtype=torch.int32),\n",
      "                      indices=tensor([286, 466, 483,  ..., 233, 571,  57], dtype=torch.int32),\n",
      "                      total_num_nodes=1000, num_edges=10000,)\n",
      "\n",
      "Loaded feature store: TorchBasedFeatureStore(\n",
      "    {(<OnDiskFeatureDataDomain.NODE: 'node'>, None, 'feat_0'): TorchBasedFeature(\n",
      "        feature=tensor([[0.9485, 0.0493, 0.7427, 0.9497, 0.9136],\n",
      "                        [0.1593, 0.1660, 0.3598, 0.6906, 0.5098],\n",
      "                        [0.5547, 0.2223, 0.2404, 0.8784, 0.1509],\n",
      "                        ...,\n",
      "                        [0.2482, 0.4561, 0.7075, 0.0735, 0.7900],\n",
      "                        [0.8225, 0.7664, 0.1192, 0.6627, 0.4734],\n",
      "                        [0.8298, 0.7869, 0.7603, 0.8515, 0.5874]], dtype=torch.float64),\n",
      "        metadata={},\n",
      "    ), (<OnDiskFeatureDataDomain.NODE: 'node'>, None, 'feat_1'): TorchBasedFeature(\n",
      "        feature=tensor([[0.8347, 0.4425, 0.0177, 0.5649, 0.6180],\n",
      "                        [0.5603, 0.8478, 0.8028, 0.1672, 0.1202],\n",
      "                        [0.0231, 0.9207, 0.8114, 0.0054, 0.1548],\n",
      "                        ...,\n",
      "                        [0.3039, 0.0839, 0.0289, 0.9349, 0.0571],\n",
      "                        [0.1940, 0.4800, 0.0460, 0.3914, 0.2286],\n",
      "                        [0.6137, 0.9291, 0.1809, 0.8354, 0.6382]]),\n",
      "        metadata={},\n",
      "    ), (<OnDiskFeatureDataDomain.EDGE: 'edge'>, None, 'feat_0'): TorchBasedFeature(\n",
      "        feature=tensor([[0.6013, 0.0444, 0.4467, 0.8602, 0.6406],\n",
      "                        [0.8979, 0.7270, 0.5847, 0.0632, 0.7502],\n",
      "                        [0.1950, 0.2866, 0.0293, 0.5096, 0.3537],\n",
      "                        ...,\n",
      "                        [0.0948, 0.0927, 0.5028, 0.6107, 0.9076],\n",
      "                        [0.1176, 0.3781, 0.3256, 0.0015, 0.4676],\n",
      "                        [0.4077, 0.3293, 0.0029, 0.2479, 0.8701]], dtype=torch.float64),\n",
      "        metadata={},\n",
      "    ), (<OnDiskFeatureDataDomain.EDGE: 'edge'>, None, 'feat_1'): TorchBasedFeature(\n",
      "        feature=tensor([[0.3427, 0.6199, 0.5404, 0.5301, 0.5493],\n",
      "                        [0.9343, 0.2146, 0.7788, 0.9457, 0.2690],\n",
      "                        [0.8112, 0.7726, 0.1478, 0.9044, 0.9880],\n",
      "                        ...,\n",
      "                        [0.9911, 0.6515, 0.3173, 0.7816, 0.4009],\n",
      "                        [0.0026, 0.7965, 0.1037, 0.5190, 0.9389],\n",
      "                        [0.5955, 0.4283, 0.5692, 0.3307, 0.6217]]),\n",
      "        metadata={},\n",
      "    )}\n",
      ")\n",
      "\n",
      "Loaded node classification task: OnDiskTask(validation_set=ItemSet(\n",
      "               items=(tensor([652, 531, 771, 634,  27, 578, 400, 831, 404, 955, 309, 895, 603, 883,\n",
      "                   999, 900, 467, 360, 253, 825, 491, 192, 827, 609, 795, 451, 808, 220,\n",
      "                   108, 157, 712, 709, 576, 560, 974, 202, 520, 354, 255, 636, 538, 423,\n",
      "                   321, 313, 484,  84, 952,  31, 501, 592,  51, 558, 826, 318, 692, 862,\n",
      "                   943,  40, 873, 362, 420, 953, 268,  52, 753, 697, 785, 427, 421, 868,\n",
      "                   193,  12, 229,  71, 854, 573, 850, 684, 904, 540, 252, 626, 450, 938,\n",
      "                   903, 521, 810, 908, 602,  68, 853,  32, 841, 466, 266, 833, 124, 361,\n",
      "                    57, 332, 738,  41, 470, 572, 212, 612, 662,  77, 214,  42, 935, 671,\n",
      "                   669,  47, 724, 880, 337,  45,  82,  67, 298, 995, 788, 111, 344, 909,\n",
      "                   674,  15, 398, 286, 622, 485, 494, 837, 905, 523, 802, 867, 843, 242,\n",
      "                   347, 812, 316, 525, 813, 430, 237,  24,  65, 190, 835, 864, 184, 658,\n",
      "                   871, 894, 439, 170, 113, 675, 617, 218, 619, 570, 721, 663,  48,  83,\n",
      "                   687, 973, 891, 130, 694, 336, 187, 393, 210, 346, 577, 429, 581, 598,\n",
      "                   244, 579, 688, 238, 437, 713, 893,  86, 133, 550, 409, 536, 767, 248,\n",
      "                   722, 726, 708, 644], dtype=torch.int32), tensor([7, 8, 1, 2, 0, 7, 3, 5, 8, 7, 9, 6, 4, 5, 2, 9, 6, 7, 2, 5, 8, 8, 9, 1,\n",
      "                   6, 2, 4, 8, 5, 0, 0, 8, 0, 4, 6, 9, 0, 8, 1, 4, 5, 7, 3, 4, 4, 5, 3, 7,\n",
      "                   5, 6, 8, 5, 0, 4, 9, 1, 6, 1, 2, 3, 0, 0, 0, 9, 6, 8, 5, 8, 9, 5, 7, 1,\n",
      "                   6, 1, 1, 4, 2, 1, 7, 6, 2, 1, 1, 8, 9, 6, 2, 9, 3, 0, 4, 2, 8, 2, 6, 7,\n",
      "                   9, 0, 6, 4, 6, 8, 0, 4, 3, 4, 5, 8, 2, 7, 0, 4, 9, 3, 9, 9, 7, 9, 3, 8,\n",
      "                   9, 9, 3, 2, 0, 1, 4, 4, 9, 4, 4, 2, 7, 9, 2, 7, 5, 9, 4, 9, 1, 8, 5, 8,\n",
      "                   5, 1, 8, 5, 9, 7, 0, 4, 4, 6, 8, 8, 5, 9, 6, 9, 5, 4, 2, 1, 3, 5, 7, 7,\n",
      "                   5, 9, 7, 0, 5, 2, 8, 1, 0, 3, 5, 2, 4, 1, 0, 0, 2, 7, 4, 8, 2, 7, 2, 0,\n",
      "                   5, 1, 6, 7, 2, 0, 3, 3])),\n",
      "               names=('seeds', 'labels'),\n",
      "           ),\n",
      "           train_set=ItemSet(\n",
      "               items=(tensor([778, 159, 677, 366, 637, 996, 638, 399, 982, 221, 376, 647, 136, 870,\n",
      "                   365, 992, 927,  85, 310, 292, 866, 447, 772,  19,  59, 746, 403, 128,\n",
      "                   224, 433, 334, 751, 860, 458, 977, 257,  78, 104, 710, 304, 241, 141,\n",
      "                   262, 348, 168, 197,  20, 201, 245, 351, 984, 840, 356, 426, 839, 329,\n",
      "                   878, 418, 861, 529, 959, 768, 851, 552, 679, 301, 320, 119, 211, 164,\n",
      "                   216, 789, 388, 998, 980, 765,  87, 763,  36, 773, 993, 899, 272,  88,\n",
      "                   950, 913,   5, 145, 968,   7, 144, 782, 799, 177, 265, 264, 947, 969,\n",
      "                   330, 650, 925,  96, 261, 392, 327, 565, 754, 680, 514, 158, 642, 454,\n",
      "                   645, 646,  13,   3, 717, 132, 477, 515, 235, 432, 690, 666, 757, 355,\n",
      "                   527, 606, 604, 194, 629, 311, 541,  95, 557, 258, 580, 459, 302, 585,\n",
      "                   180, 530, 114, 987, 632, 156, 698,  98, 549, 551, 102, 139, 473,  16,\n",
      "                   989, 508, 836, 793, 390, 936, 911, 542, 919,  58, 988, 219,  61,   0,\n",
      "                   120,  18, 532, 774,  39, 749, 961, 285, 640, 476, 445,  76, 405, 716,\n",
      "                   829, 556, 474,  34, 469, 127, 305, 946, 434, 623, 129, 383, 562, 706,\n",
      "                    94,  46, 912, 345, 353, 223,  63, 281, 667, 574, 731, 879, 555, 231,\n",
      "                   488, 648, 422, 949, 933,  60, 610, 247, 967, 364, 524, 807, 363, 173,\n",
      "                   859, 428, 932, 752, 775, 415, 865, 618, 561, 368, 762, 922, 958,  23,\n",
      "                   699, 628, 138, 182, 621, 732, 189, 147, 303, 661, 941, 134,  55, 660,\n",
      "                   985,  73, 123, 213, 742, 107, 449, 478, 923, 554, 230,   8, 299, 890,\n",
      "                   981, 386, 670, 814, 146, 154, 544, 374, 729, 849, 702, 844, 600, 832,\n",
      "                   727, 823, 369, 599, 460, 797, 480, 929, 208, 312, 328, 720,  74, 659,\n",
      "                   287, 877, 770, 673, 615, 779, 338, 442, 234, 924, 267, 526,  17, 487,\n",
      "                   500, 889, 188, 548, 631, 970, 822, 293, 289, 944, 380, 960, 819, 975,\n",
      "                   507, 885, 528, 448, 385, 766, 816, 805, 125, 534, 227, 294,  14, 983,\n",
      "                   209, 723, 350, 882, 830, 586, 232, 446, 502, 886, 162, 734, 963, 804,\n",
      "                   892, 217, 590, 897, 256, 696, 948, 991, 431,  26, 486, 596, 496, 382,\n",
      "                   408, 109, 118, 100, 874, 250, 940, 461,   4, 986, 653, 152, 994, 664,\n",
      "                   472, 378, 284, 630, 112, 931, 269, 519, 821, 888, 649, 395, 225, 711,\n",
      "                   855, 863, 200, 452, 954, 155, 907, 341, 505, 236, 277, 340, 743, 668,\n",
      "                   564, 331, 453, 377, 971, 499,  92, 852, 714, 391, 339, 522, 440, 748,\n",
      "                   406, 199, 705, 978, 672, 681, 910, 759, 425, 185, 881, 509, 616, 463,\n",
      "                   333, 846, 167, 105, 997,  93, 273, 295, 175, 887, 676,   6, 876,  69,\n",
      "                   137, 150,   2, 443, 322, 906, 811, 976, 806, 563, 728, 396, 270, 375,\n",
      "                   263, 371, 414, 786, 624, 607, 951, 593, 359, 575,  97, 160, 916, 495,\n",
      "                    49, 131, 143, 203,  30,  64, 498, 176, 689,  80, 584, 764, 513, 314,\n",
      "                   503, 539, 776, 869, 410, 747, 179, 643, 412, 745, 884,  21, 283, 110,\n",
      "                   760, 930,  50, 740, 701, 818, 939, 490, 543, 962, 479, 620,  28, 588,\n",
      "                   657,   9, 781, 205, 928, 387, 151, 517, 457,  44, 613, 401, 545, 483,\n",
      "                   402, 441, 990, 744, 226, 506, 291, 856,  90, 848, 260, 567, 704, 914,\n",
      "                   901, 654, 115, 801, 435, 792, 834, 326, 419, 655, 569, 695, 511, 373,\n",
      "                   381, 979, 608, 358, 730, 518, 568, 186, 537, 780, 761, 504, 915, 896,\n",
      "                   739,  99, 275, 937, 379, 595, 317,  66, 325, 817, 597, 787, 384, 161,\n",
      "                   535, 798, 240, 163, 794, 769,  91, 733, 510, 627, 635, 424],\n",
      "                  dtype=torch.int32), tensor([4, 6, 3, 3, 5, 4, 4, 7, 5, 3, 3, 5, 8, 7, 8, 2, 1, 6, 3, 3, 3, 7, 0, 7,\n",
      "                   4, 3, 0, 8, 5, 2, 1, 8, 5, 9, 0, 5, 4, 8, 2, 8, 2, 7, 5, 4, 2, 2, 2, 9,\n",
      "                   3, 2, 1, 2, 5, 0, 1, 9, 5, 1, 2, 2, 8, 2, 5, 8, 2, 9, 1, 0, 1, 6, 3, 8,\n",
      "                   5, 5, 5, 3, 9, 8, 2, 5, 7, 5, 6, 6, 7, 0, 1, 5, 5, 6, 1, 7, 8, 4, 2, 4,\n",
      "                   1, 7, 3, 3, 1, 3, 8, 2, 2, 4, 1, 7, 6, 6, 8, 4, 5, 3, 4, 4, 0, 9, 0, 9,\n",
      "                   0, 9, 9, 4, 1, 7, 2, 1, 2, 4, 1, 4, 4, 2, 6, 6, 0, 2, 4, 0, 4, 0, 3, 6,\n",
      "                   8, 4, 4, 6, 6, 3, 7, 5, 4, 5, 2, 4, 0, 9, 2, 6, 9, 2, 3, 2, 7, 1, 8, 5,\n",
      "                   0, 9, 7, 2, 6, 3, 9, 5, 5, 4, 9, 8, 6, 4, 6, 8, 3, 4, 7, 0, 6, 6, 6, 3,\n",
      "                   2, 5, 3, 8, 3, 7, 5, 6, 8, 3, 2, 3, 1, 9, 6, 3, 6, 8, 1, 0, 8, 5, 2, 0,\n",
      "                   8, 8, 2, 7, 2, 9, 7, 4, 0, 0, 9, 3, 9, 4, 0, 6, 1, 5, 5, 7, 3, 6, 4, 2,\n",
      "                   3, 2, 1, 9, 0, 0, 4, 5, 5, 9, 7, 5, 2, 4, 6, 8, 6, 5, 7, 4, 5, 3, 3, 5,\n",
      "                   7, 5, 1, 6, 8, 6, 1, 5, 5, 0, 4, 8, 7, 9, 3, 5, 3, 1, 6, 2, 8, 2, 3, 1,\n",
      "                   7, 3, 7, 9, 4, 0, 5, 8, 7, 4, 9, 6, 2, 1, 3, 5, 1, 8, 5, 9, 8, 0, 5, 8,\n",
      "                   7, 7, 2, 5, 7, 7, 2, 2, 6, 8, 5, 0, 9, 7, 3, 0, 9, 5, 9, 3, 2, 8, 6, 4,\n",
      "                   3, 2, 2, 4, 1, 3, 4, 0, 9, 5, 3, 3, 0, 5, 3, 6, 8, 7, 3, 7, 8, 8, 2, 9,\n",
      "                   8, 6, 9, 9, 0, 0, 6, 7, 3, 7, 2, 6, 7, 9, 7, 6, 7, 0, 9, 5, 7, 8, 7, 5,\n",
      "                   3, 6, 0, 9, 5, 0, 7, 9, 7, 2, 5, 8, 1, 5, 4, 6, 6, 9, 0, 9, 6, 5, 5, 4,\n",
      "                   5, 8, 9, 7, 0, 6, 2, 9, 6, 3, 1, 6, 3, 5, 2, 2, 0, 1, 3, 1, 2, 7, 7, 3,\n",
      "                   4, 2, 3, 0, 4, 7, 0, 0, 0, 0, 5, 9, 4, 4, 4, 7, 9, 7, 6, 1, 6, 8, 3, 7,\n",
      "                   1, 6, 9, 8, 6, 7, 2, 3, 6, 5, 8, 8, 3, 5, 2, 1, 1, 2, 2, 9, 2, 7, 3, 5,\n",
      "                   9, 6, 9, 0, 9, 9, 8, 7, 2, 7, 8, 9, 6, 8, 3, 1, 4, 0, 6, 3, 2, 7, 8, 1,\n",
      "                   0, 0, 6, 4, 0, 5, 2, 4, 2, 4, 8, 3, 3, 1, 7, 8, 3, 9, 2, 3, 3, 2, 5, 7,\n",
      "                   1, 0, 0, 1, 9, 7, 3, 4, 5, 8, 6, 5, 6, 3, 1, 6, 6, 4, 0, 2, 3, 1, 1, 8,\n",
      "                   7, 1, 9, 9, 6, 3, 8, 2, 7, 2, 8, 0, 8, 0, 2, 2, 7, 6, 0, 9, 2, 3, 6, 6,\n",
      "                   0, 7, 7, 0, 9, 0, 1, 8, 0, 3, 3, 5, 8, 1, 5, 8, 8, 6, 1, 4, 5, 5, 2, 3])),\n",
      "               names=('seeds', 'labels'),\n",
      "           ),\n",
      "           test_set=ItemSet(\n",
      "               items=(tensor([965, 117, 288,  43, 803, 736, 715, 222, 492, 741, 625, 249, 172, 475,\n",
      "                   926, 357, 784, 800, 942,  54, 149, 370, 707, 308, 482,  10,  62, 605,\n",
      "                   195, 497, 553,  56, 758, 352, 198, 481, 290, 455,  22, 207, 271, 349,\n",
      "                   471, 857, 824, 719, 956,  81, 174, 121, 838, 135, 820, 279, 464, 783,\n",
      "                    79,  29, 468, 367, 278, 493, 583, 512, 103, 589, 191, 342, 703, 397,\n",
      "                   372, 902,  37, 735, 683, 413, 126, 407, 489, 254, 319, 858, 571, 101,\n",
      "                   796, 601, 297, 587,  89, 639, 790, 169, 243, 181, 165, 106, 633, 465,\n",
      "                   389, 324, 755, 306, 206,  53, 547, 842, 282, 142, 444, 153, 611, 945,\n",
      "                   691, 323, 148, 296, 665, 343,  33, 546, 140, 809, 183, 656, 737, 875,\n",
      "                   828, 682, 280, 693, 898, 918, 259, 233,  25, 815,  75, 246, 685, 686,\n",
      "                   972,  38,  72, 411, 251, 700, 750, 845, 791,  35, 166, 116, 335, 436,\n",
      "                   582, 921, 300, 307, 651, 614, 847, 394, 315, 196, 964, 756, 516,  11,\n",
      "                   872, 533, 718, 920, 917, 171, 204, 438, 777, 966, 725, 462, 417, 122,\n",
      "                   456, 957, 178,  70, 641, 594, 215,   1, 934, 559, 566, 276, 274, 678,\n",
      "                   228, 239, 416, 591], dtype=torch.int32), tensor([8, 5, 5, 2, 6, 7, 9, 1, 1, 9, 3, 7, 8, 1, 0, 0, 5, 3, 9, 3, 8, 9, 4, 2,\n",
      "                   7, 4, 2, 0, 7, 0, 2, 6, 3, 5, 2, 3, 7, 9, 5, 5, 3, 8, 4, 2, 6, 8, 5, 9,\n",
      "                   1, 2, 7, 7, 7, 1, 6, 5, 1, 5, 0, 9, 8, 9, 7, 0, 6, 1, 8, 8, 1, 4, 6, 7,\n",
      "                   5, 5, 5, 9, 5, 7, 4, 9, 9, 8, 0, 0, 5, 4, 5, 1, 2, 7, 6, 9, 9, 1, 1, 9,\n",
      "                   7, 5, 6, 4, 8, 8, 9, 7, 9, 0, 2, 0, 6, 6, 3, 7, 8, 1, 5, 0, 1, 9, 2, 2,\n",
      "                   1, 3, 5, 6, 3, 0, 7, 8, 8, 2, 8, 6, 2, 2, 6, 3, 2, 1, 6, 4, 9, 3, 0, 2,\n",
      "                   5, 4, 5, 2, 4, 9, 9, 2, 5, 7, 6, 1, 4, 2, 2, 5, 5, 3, 5, 5, 1, 6, 5, 6,\n",
      "                   7, 9, 6, 0, 4, 1, 4, 9, 6, 6, 0, 0, 3, 0, 3, 1, 0, 7, 4, 1, 7, 0, 0, 9,\n",
      "                   7, 5, 5, 1, 1, 0, 1, 8])),\n",
      "               names=('seeds', 'labels'),\n",
      "           ),\n",
      "           metadata={'name': 'node_classification', 'num_classes': 10},)\n",
      "\n",
      "Loaded link prediction task: OnDiskTask(validation_set=ItemSet(\n",
      "               items=(tensor([[808,  59],\n",
      "                   [307, 763],\n",
      "                   [648, 198],\n",
      "                   ...,\n",
      "                   [835,  46],\n",
      "                   [835, 966],\n",
      "                   [835, 536]], dtype=torch.int32), tensor([1., 1., 1.,  ..., 0., 0., 0.], dtype=torch.float64), tensor([   0,    1,    2,  ..., 1999, 1999, 1999])),\n",
      "               names=('seeds', 'labels', 'indexes'),\n",
      "           ),\n",
      "           train_set=ItemSet(\n",
      "               items=(tensor([[567, 822],\n",
      "                   [963, 407],\n",
      "                   [648, 566],\n",
      "                   ...,\n",
      "                   [403, 329],\n",
      "                   [126, 572],\n",
      "                   [588, 938]], dtype=torch.int32),),\n",
      "               names=('seeds',),\n",
      "           ),\n",
      "           test_set=ItemSet(\n",
      "               items=(tensor([[778, 661],\n",
      "                   [898,  57],\n",
      "                   [213, 401],\n",
      "                   ...,\n",
      "                   [629, 281],\n",
      "                   [629, 406],\n",
      "                   [629, 693]], dtype=torch.int32), tensor([1., 1., 1.,  ..., 0., 0., 0.], dtype=torch.float64), tensor([   0,    1,    2,  ..., 1999, 1999, 1999])),\n",
      "               names=('seeds', 'labels', 'indexes'),\n",
      "           ),\n",
      "           metadata={'name': 'link_prediction', 'num_classes': 10},)\n",
      "\n"
     ]
    },
    {
     "name": "stderr",
     "output_type": "stream",
     "text": [
      "/dgl/python/dgl/graphbolt/impl/ondisk_dataset.py:463: GBWarning: Edge feature is stored, but edge IDs are not saved.\n",
      "  gb_warning(\"Edge feature is stored, but edge IDs are not saved.\")\n"
     ]
    }
   ],
   "source": [
    "dataset = gb.OnDiskDataset(base_dir).load()\n",
    "graph = dataset.graph\n",
    "print(f\"Loaded graph: {graph}\\n\")\n",
    "\n",
    "feature = dataset.feature\n",
    "print(f\"Loaded feature store: {feature}\\n\")\n",
    "\n",
    "tasks = dataset.tasks\n",
    "nc_task = tasks[0]\n",
    "print(f\"Loaded node classification task: {nc_task}\\n\")\n",
    "lp_task = tasks[1]\n",
    "print(f\"Loaded link prediction task: {lp_task}\\n\")"
   ]
  }
 ],
 "metadata": {
  "colab": {
   "private_outputs": true,
   "provenance": []
  },
  "kernelspec": {
   "display_name": "Python 3",
   "name": "python3"
  },
  "language_info": {
   "codemirror_mode": {
    "name": "ipython",
    "version": 3
   },
   "file_extension": ".py",
   "mimetype": "text/x-python",
   "name": "python",
   "nbconvert_exporter": "python",
   "pygments_lexer": "ipython3",
   "version": "3.10.15"
  }
 },
 "nbformat": 4,
 "nbformat_minor": 0
}

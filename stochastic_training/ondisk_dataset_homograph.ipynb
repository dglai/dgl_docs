{
 "cells": [
  {
   "cell_type": "markdown",
   "metadata": {
    "id": "FnFhPMaAfLtJ"
   },
   "source": [
    "# OnDiskDataset for Homogeneous Graph\n",
    "\n",
    "[![Open In Colab](https://colab.research.google.com/assets/colab-badge.svg)](https://colab.research.google.com/github/dmlc/dgl/blob/master/notebooks/stochastic_training/ondisk_dataset_homograph.ipynb) [![GitHub](https://img.shields.io/badge/-View%20on%20GitHub-181717?logo=github&logoColor=ffffff)](https://github.com/dmlc/dgl/blob/master/notebooks/stochastic_training/ondisk_dataset_homograph.ipynb)\n",
    "\n",
    "This tutorial shows how to create `OnDiskDataset` for homogeneous graph that could be used in **GraphBolt** framework.\n",
    "\n",
    "By the end of this tutorial, you will be able to\n",
    "\n",
    "- organize graph structure data.\n",
    "- organize feature data.\n",
    "- organize training/validation/test set for specific tasks.\n",
    "\n",
    "To create an ``OnDiskDataset`` object, you need to organize all the data including graph structure, feature data and tasks into a directory. The directory should contain a ``metadata.yaml`` file that describes the metadata of the dataset.\n",
    "\n",
    "Now let's generate various data step by step and organize them together to instantiate `OnDiskDataset` finally."
   ]
  },
  {
   "cell_type": "markdown",
   "metadata": {
    "id": "Wlb19DtWgtzq"
   },
   "source": [
    "## Install DGL package"
   ]
  },
  {
   "cell_type": "code",
   "execution_count": 1,
   "metadata": {
    "execution": {
     "iopub.execute_input": "2024-09-18T05:27:31.443284Z",
     "iopub.status.busy": "2024-09-18T05:27:31.442979Z",
     "iopub.status.idle": "2024-09-18T05:27:35.252423Z",
     "shell.execute_reply": "2024-09-18T05:27:35.251833Z"
    },
    "id": "UojlT9ZGgyr9"
   },
   "outputs": [
    {
     "name": "stdout",
     "output_type": "stream",
     "text": [
      "Looking in links: https://data.dgl.ai/wheels-test/repo.html\r\n",
      "Requirement already satisfied: dgl in /opt/conda/envs/dgl-dev-cpu/lib/python3.10/site-packages (2.2a240410)\r\n",
      "Requirement already satisfied: numpy>=1.14.0 in /opt/conda/envs/dgl-dev-cpu/lib/python3.10/site-packages (from dgl) (1.26.4)\r\n",
      "Requirement already satisfied: scipy>=1.1.0 in /opt/conda/envs/dgl-dev-cpu/lib/python3.10/site-packages (from dgl) (1.14.0)\r\n",
      "Requirement already satisfied: networkx>=2.1 in /opt/conda/envs/dgl-dev-cpu/lib/python3.10/site-packages (from dgl) (3.3)\r\n",
      "Requirement already satisfied: requests>=2.19.0 in /opt/conda/envs/dgl-dev-cpu/lib/python3.10/site-packages (from dgl) (2.32.3)\r\n",
      "Requirement already satisfied: tqdm in /opt/conda/envs/dgl-dev-cpu/lib/python3.10/site-packages (from dgl) (4.66.5)\r\n",
      "Requirement already satisfied: psutil>=5.8.0 in /opt/conda/envs/dgl-dev-cpu/lib/python3.10/site-packages (from dgl) (6.0.0)\r\n",
      "Requirement already satisfied: torchdata>=0.5.0 in /opt/conda/envs/dgl-dev-cpu/lib/python3.10/site-packages (from dgl) (0.7.1)\r\n",
      "Requirement already satisfied: pandas in /opt/conda/envs/dgl-dev-cpu/lib/python3.10/site-packages (from dgl) (2.2.2)\r\n"
     ]
    },
    {
     "name": "stdout",
     "output_type": "stream",
     "text": [
      "Requirement already satisfied: charset-normalizer<4,>=2 in /opt/conda/envs/dgl-dev-cpu/lib/python3.10/site-packages (from requests>=2.19.0->dgl) (3.3.2)\r\n",
      "Requirement already satisfied: idna<4,>=2.5 in /opt/conda/envs/dgl-dev-cpu/lib/python3.10/site-packages (from requests>=2.19.0->dgl) (3.8)\r\n",
      "Requirement already satisfied: urllib3<3,>=1.21.1 in /opt/conda/envs/dgl-dev-cpu/lib/python3.10/site-packages (from requests>=2.19.0->dgl) (2.2.2)\r\n",
      "Requirement already satisfied: certifi>=2017.4.17 in /opt/conda/envs/dgl-dev-cpu/lib/python3.10/site-packages (from requests>=2.19.0->dgl) (2024.7.4)\r\n",
      "Requirement already satisfied: torch>=2 in /opt/conda/envs/dgl-dev-cpu/lib/python3.10/site-packages (from torchdata>=0.5.0->dgl) (2.4.0+cpu)\r\n"
     ]
    },
    {
     "name": "stdout",
     "output_type": "stream",
     "text": [
      "Requirement already satisfied: python-dateutil>=2.8.2 in /opt/conda/envs/dgl-dev-cpu/lib/python3.10/site-packages (from pandas->dgl) (2.9.0.post0)\r\n",
      "Requirement already satisfied: pytz>=2020.1 in /opt/conda/envs/dgl-dev-cpu/lib/python3.10/site-packages (from pandas->dgl) (2024.1)\r\n",
      "Requirement already satisfied: tzdata>=2022.7 in /opt/conda/envs/dgl-dev-cpu/lib/python3.10/site-packages (from pandas->dgl) (2024.1)\r\n",
      "Requirement already satisfied: six>=1.5 in /opt/conda/envs/dgl-dev-cpu/lib/python3.10/site-packages (from python-dateutil>=2.8.2->pandas->dgl) (1.16.0)\r\n",
      "Requirement already satisfied: filelock in /opt/conda/envs/dgl-dev-cpu/lib/python3.10/site-packages (from torch>=2->torchdata>=0.5.0->dgl) (3.15.4)\r\n",
      "Requirement already satisfied: typing-extensions>=4.8.0 in /opt/conda/envs/dgl-dev-cpu/lib/python3.10/site-packages (from torch>=2->torchdata>=0.5.0->dgl) (4.12.2)\r\n",
      "Requirement already satisfied: sympy in /opt/conda/envs/dgl-dev-cpu/lib/python3.10/site-packages (from torch>=2->torchdata>=0.5.0->dgl) (1.13.2)\r\n",
      "Requirement already satisfied: jinja2 in /opt/conda/envs/dgl-dev-cpu/lib/python3.10/site-packages (from torch>=2->torchdata>=0.5.0->dgl) (3.1.4)\r\n",
      "Requirement already satisfied: fsspec in /opt/conda/envs/dgl-dev-cpu/lib/python3.10/site-packages (from torch>=2->torchdata>=0.5.0->dgl) (2024.6.1)\r\n"
     ]
    },
    {
     "name": "stdout",
     "output_type": "stream",
     "text": [
      "Requirement already satisfied: MarkupSafe>=2.0 in /opt/conda/envs/dgl-dev-cpu/lib/python3.10/site-packages (from jinja2->torch>=2->torchdata>=0.5.0->dgl) (2.1.5)\r\n",
      "Requirement already satisfied: mpmath<1.4,>=1.1.0 in /opt/conda/envs/dgl-dev-cpu/lib/python3.10/site-packages (from sympy->torch>=2->torchdata>=0.5.0->dgl) (1.3.0)\r\n"
     ]
    },
    {
     "name": "stdout",
     "output_type": "stream",
     "text": [
      "DGL installed!\n"
     ]
    }
   ],
   "source": [
    "# Install required packages.\n",
    "import os\n",
    "import torch\n",
    "import numpy as np\n",
    "os.environ['TORCH'] = torch.__version__\n",
    "os.environ['DGLBACKEND'] = \"pytorch\"\n",
    "\n",
    "# Install the CPU version.\n",
    "device = torch.device(\"cpu\")\n",
    "!pip install --pre dgl -f https://data.dgl.ai/wheels-test/repo.html\n",
    "\n",
    "try:\n",
    "    import dgl\n",
    "    import dgl.graphbolt as gb\n",
    "    installed = True\n",
    "except ImportError as error:\n",
    "    installed = False\n",
    "    print(error)\n",
    "print(\"DGL installed!\" if installed else \"DGL not found!\")"
   ]
  },
  {
   "cell_type": "markdown",
   "metadata": {
    "id": "2R7WnSbjsfbr"
   },
   "source": [
    "## Data preparation\n",
    "In order to demonstrate how to organize various data, let's create a base directory first."
   ]
  },
  {
   "cell_type": "code",
   "execution_count": 2,
   "metadata": {
    "execution": {
     "iopub.execute_input": "2024-09-18T05:27:35.255055Z",
     "iopub.status.busy": "2024-09-18T05:27:35.254635Z",
     "iopub.status.idle": "2024-09-18T05:27:35.258149Z",
     "shell.execute_reply": "2024-09-18T05:27:35.257634Z"
    },
    "id": "SZipbzyltLfO"
   },
   "outputs": [
    {
     "name": "stdout",
     "output_type": "stream",
     "text": [
      "Created base directory: ./ondisk_dataset_homograph\n"
     ]
    }
   ],
   "source": [
    "base_dir = './ondisk_dataset_homograph'\n",
    "os.makedirs(base_dir, exist_ok=True)\n",
    "print(f\"Created base directory: {base_dir}\")"
   ]
  },
  {
   "cell_type": "markdown",
   "metadata": {
    "id": "qhNtIn_xhlnl"
   },
   "source": [
    "### Generate graph structure data\n",
    "For homogeneous graph, we just need to save edges(namely seeds) into  **Numpy** or **CSV** file.\n",
    "\n",
    "Note:\n",
    "- when saving to **Numpy**, the array requires to be in shape of `(2, N)`. This format is recommended as constructing graph from it is much faster than **CSV** file.\n",
    "- when saving to **CSV** file, do not save index and header.\n"
   ]
  },
  {
   "cell_type": "code",
   "execution_count": 3,
   "metadata": {
    "execution": {
     "iopub.execute_input": "2024-09-18T05:27:35.260443Z",
     "iopub.status.busy": "2024-09-18T05:27:35.260072Z",
     "iopub.status.idle": "2024-09-18T05:27:35.271433Z",
     "shell.execute_reply": "2024-09-18T05:27:35.270938Z"
    },
    "id": "HcBt4G5BmSjr"
   },
   "outputs": [
    {
     "name": "stdout",
     "output_type": "stream",
     "text": [
      "Part of edges: [[954 328]\n",
      " [130 475]\n",
      " [600 730]\n",
      " [416 449]\n",
      " [822 663]]\n",
      "Edges are saved into ./ondisk_dataset_homograph/edges.csv\n"
     ]
    }
   ],
   "source": [
    "import numpy as np\n",
    "import pandas as pd\n",
    "num_nodes = 1000\n",
    "num_edges = 10 * num_nodes\n",
    "edges_path = os.path.join(base_dir, \"edges.csv\")\n",
    "edges = np.random.randint(0, num_nodes, size=(num_edges, 2))\n",
    "\n",
    "print(f\"Part of edges: {edges[:5, :]}\")\n",
    "\n",
    "df = pd.DataFrame(edges)\n",
    "df.to_csv(edges_path, index=False, header=False)\n",
    "\n",
    "print(f\"Edges are saved into {edges_path}\")"
   ]
  },
  {
   "cell_type": "markdown",
   "metadata": {
    "id": "kh-4cPtzpcaH"
   },
   "source": [
    "### Generate feature data for graph\n",
    "For feature data, numpy arrays and torch tensors are supported for now."
   ]
  },
  {
   "cell_type": "code",
   "execution_count": 4,
   "metadata": {
    "execution": {
     "iopub.execute_input": "2024-09-18T05:27:35.273577Z",
     "iopub.status.busy": "2024-09-18T05:27:35.273269Z",
     "iopub.status.idle": "2024-09-18T05:27:35.302370Z",
     "shell.execute_reply": "2024-09-18T05:27:35.301862Z"
    },
    "id": "_PVu1u5brBhF"
   },
   "outputs": [
    {
     "name": "stdout",
     "output_type": "stream",
     "text": [
      "Part of node feature [feat_0]: [[0.40196947 0.19569168 0.99458823 0.21650134 0.49293148]\n",
      " [0.79439427 0.61115995 0.18241715 0.02921969 0.48786505]\n",
      " [0.66780853 0.06381609 0.82648913 0.85899573 0.06410276]]\n",
      "Node feature [feat_0] is saved to ./ondisk_dataset_homograph/node-feat-0.npy\n",
      "\n",
      "Part of node feature [feat_1]: tensor([[0.2306, 0.4961, 0.8138, 0.9459, 0.9300],\n",
      "        [0.4121, 0.9098, 0.0363, 0.1023, 0.0568],\n",
      "        [0.5270, 0.4843, 0.0545, 0.6260, 0.4414]])\n",
      "Node feature [feat_1] is saved to ./ondisk_dataset_homograph/node-feat-1.pt\n",
      "\n",
      "Part of edge feature [feat_0]: [[0.56025719 0.42660682 0.2066017  0.12441068 0.00519015]\n",
      " [0.30071547 0.69142608 0.17651146 0.64008374 0.90833897]\n",
      " [0.60852826 0.71544792 0.61032093 0.04154297 0.66512519]]\n",
      "Edge feature [feat_0] is saved to ./ondisk_dataset_homograph/edge-feat-0.npy\n",
      "\n",
      "Part of edge feature [feat_1]: tensor([[0.3016, 0.3289, 0.2199, 0.5535, 0.7026],\n",
      "        [0.4117, 0.7402, 0.8289, 0.2727, 0.5790],\n",
      "        [0.3029, 0.0622, 0.2794, 0.1382, 0.9029]])\n",
      "Edge feature [feat_1] is saved to ./ondisk_dataset_homograph/edge-feat-1.pt\n",
      "\n"
     ]
    }
   ],
   "source": [
    "# Generate node feature in numpy array.\n",
    "node_feat_0_path = os.path.join(base_dir, \"node-feat-0.npy\")\n",
    "node_feat_0 = np.random.rand(num_nodes, 5)\n",
    "print(f\"Part of node feature [feat_0]: {node_feat_0[:3, :]}\")\n",
    "np.save(node_feat_0_path, node_feat_0)\n",
    "print(f\"Node feature [feat_0] is saved to {node_feat_0_path}\\n\")\n",
    "\n",
    "# Generate another node feature in torch tensor\n",
    "node_feat_1_path = os.path.join(base_dir, \"node-feat-1.pt\")\n",
    "node_feat_1 = torch.rand(num_nodes, 5)\n",
    "print(f\"Part of node feature [feat_1]: {node_feat_1[:3, :]}\")\n",
    "torch.save(node_feat_1, node_feat_1_path)\n",
    "print(f\"Node feature [feat_1] is saved to {node_feat_1_path}\\n\")\n",
    "\n",
    "# Generate edge feature in numpy array.\n",
    "edge_feat_0_path = os.path.join(base_dir, \"edge-feat-0.npy\")\n",
    "edge_feat_0 = np.random.rand(num_edges, 5)\n",
    "print(f\"Part of edge feature [feat_0]: {edge_feat_0[:3, :]}\")\n",
    "np.save(edge_feat_0_path, edge_feat_0)\n",
    "print(f\"Edge feature [feat_0] is saved to {edge_feat_0_path}\\n\")\n",
    "\n",
    "# Generate another edge feature in torch tensor\n",
    "edge_feat_1_path = os.path.join(base_dir, \"edge-feat-1.pt\")\n",
    "edge_feat_1 = torch.rand(num_edges, 5)\n",
    "print(f\"Part of edge feature [feat_1]: {edge_feat_1[:3, :]}\")\n",
    "torch.save(edge_feat_1, edge_feat_1_path)\n",
    "print(f\"Edge feature [feat_1] is saved to {edge_feat_1_path}\\n\")\n"
   ]
  },
  {
   "cell_type": "markdown",
   "metadata": {
    "id": "ZyqgOtsIwzh_"
   },
   "source": [
    "### Generate tasks\n",
    "`OnDiskDataset` supports multiple tasks. For each task, we need to prepare training/validation/test sets respectively. Such sets usually vary among different tasks. In this tutorial, let's create a **Node Classification** task and **Link Prediction** task."
   ]
  },
  {
   "cell_type": "markdown",
   "metadata": {
    "id": "hVxHaDIfzCkr"
   },
   "source": [
    "#### Node Classification Task\n",
    "For node classification task, we need **node IDs** and corresponding **labels** for each training/validation/test set. Like feature data, numpy arrays and torch tensors are supported for these sets."
   ]
  },
  {
   "cell_type": "code",
   "execution_count": 5,
   "metadata": {
    "execution": {
     "iopub.execute_input": "2024-09-18T05:27:35.304678Z",
     "iopub.status.busy": "2024-09-18T05:27:35.304345Z",
     "iopub.status.idle": "2024-09-18T05:27:35.313612Z",
     "shell.execute_reply": "2024-09-18T05:27:35.313122Z"
    },
    "id": "S5-fyBbHzTCO"
   },
   "outputs": [
    {
     "name": "stdout",
     "output_type": "stream",
     "text": [
      "Part of train ids for node classification: [924  48 977]\n",
      "NC train ids are saved to ./ondisk_dataset_homograph/nc-train-ids.npy\n",
      "\n",
      "Part of train labels for node classification: tensor([4, 6, 8])\n",
      "NC train labels are saved to ./ondisk_dataset_homograph/nc-train-labels.pt\n",
      "\n",
      "Part of val ids for node classification: [656 917 938]\n",
      "NC val ids are saved to ./ondisk_dataset_homograph/nc-val-ids.npy\n",
      "\n",
      "Part of val labels for node classification: tensor([3, 9, 2])\n",
      "NC val labels are saved to ./ondisk_dataset_homograph/nc-val-labels.pt\n",
      "\n",
      "Part of test ids for node classification: [ 85 260 230]\n",
      "NC test ids are saved to ./ondisk_dataset_homograph/nc-test-ids.npy\n",
      "\n",
      "Part of test labels for node classification: tensor([6, 0, 3])\n",
      "NC test labels are saved to ./ondisk_dataset_homograph/nc-test-labels.pt\n",
      "\n"
     ]
    }
   ],
   "source": [
    "num_trains = int(num_nodes * 0.6)\n",
    "num_vals = int(num_nodes * 0.2)\n",
    "num_tests = num_nodes - num_trains - num_vals\n",
    "\n",
    "ids = np.arange(num_nodes)\n",
    "np.random.shuffle(ids)\n",
    "\n",
    "nc_train_ids_path = os.path.join(base_dir, \"nc-train-ids.npy\")\n",
    "nc_train_ids = ids[:num_trains]\n",
    "print(f\"Part of train ids for node classification: {nc_train_ids[:3]}\")\n",
    "np.save(nc_train_ids_path, nc_train_ids)\n",
    "print(f\"NC train ids are saved to {nc_train_ids_path}\\n\")\n",
    "\n",
    "nc_train_labels_path = os.path.join(base_dir, \"nc-train-labels.pt\")\n",
    "nc_train_labels = torch.randint(0, 10, (num_trains,))\n",
    "print(f\"Part of train labels for node classification: {nc_train_labels[:3]}\")\n",
    "torch.save(nc_train_labels, nc_train_labels_path)\n",
    "print(f\"NC train labels are saved to {nc_train_labels_path}\\n\")\n",
    "\n",
    "nc_val_ids_path = os.path.join(base_dir, \"nc-val-ids.npy\")\n",
    "nc_val_ids = ids[num_trains:num_trains+num_vals]\n",
    "print(f\"Part of val ids for node classification: {nc_val_ids[:3]}\")\n",
    "np.save(nc_val_ids_path, nc_val_ids)\n",
    "print(f\"NC val ids are saved to {nc_val_ids_path}\\n\")\n",
    "\n",
    "nc_val_labels_path = os.path.join(base_dir, \"nc-val-labels.pt\")\n",
    "nc_val_labels = torch.randint(0, 10, (num_vals,))\n",
    "print(f\"Part of val labels for node classification: {nc_val_labels[:3]}\")\n",
    "torch.save(nc_val_labels, nc_val_labels_path)\n",
    "print(f\"NC val labels are saved to {nc_val_labels_path}\\n\")\n",
    "\n",
    "nc_test_ids_path = os.path.join(base_dir, \"nc-test-ids.npy\")\n",
    "nc_test_ids = ids[-num_tests:]\n",
    "print(f\"Part of test ids for node classification: {nc_test_ids[:3]}\")\n",
    "np.save(nc_test_ids_path, nc_test_ids)\n",
    "print(f\"NC test ids are saved to {nc_test_ids_path}\\n\")\n",
    "\n",
    "nc_test_labels_path = os.path.join(base_dir, \"nc-test-labels.pt\")\n",
    "nc_test_labels = torch.randint(0, 10, (num_tests,))\n",
    "print(f\"Part of test labels for node classification: {nc_test_labels[:3]}\")\n",
    "torch.save(nc_test_labels, nc_test_labels_path)\n",
    "print(f\"NC test labels are saved to {nc_test_labels_path}\\n\")"
   ]
  },
  {
   "cell_type": "markdown",
   "metadata": {
    "id": "LhAcDCHQ_KJ0"
   },
   "source": [
    "#### Link Prediction Task\n",
    "For link prediction task, we need **seeds** or **corresponding labels and indexes** which representing the pos/neg property and group of the seeds for each training/validation/test set. Like feature data, numpy arrays and torch tensors are supported for these sets."
   ]
  },
  {
   "cell_type": "code",
   "execution_count": 6,
   "metadata": {
    "execution": {
     "iopub.execute_input": "2024-09-18T05:27:35.315849Z",
     "iopub.status.busy": "2024-09-18T05:27:35.315657Z",
     "iopub.status.idle": "2024-09-18T05:27:35.330483Z",
     "shell.execute_reply": "2024-09-18T05:27:35.329990Z"
    },
    "id": "u0jCnXIcAQy4"
   },
   "outputs": [
    {
     "name": "stdout",
     "output_type": "stream",
     "text": [
      "Part of train seeds for link prediction: [[954 328]\n",
      " [130 475]\n",
      " [600 730]]\n",
      "LP train seeds are saved to ./ondisk_dataset_homograph/lp-train-seeds.npy\n",
      "\n",
      "Part of val seeds for link prediction: [[728 429]\n",
      " [753 533]\n",
      " [589  21]]\n",
      "LP val seeds are saved to ./ondisk_dataset_homograph/lp-val-seeds.npy\n",
      "\n",
      "Part of val labels for link prediction: [1. 1. 1.]\n",
      "LP val labels are saved to ./ondisk_dataset_homograph/lp-val-labels.npy\n",
      "\n",
      "Part of val indexes for link prediction: [0 1 2]\n",
      "LP val indexes are saved to ./ondisk_dataset_homograph/lp-val-indexes.npy\n",
      "\n",
      "Part of test seeds for link prediction: [[579 154]\n",
      " [474 680]\n",
      " [600 170]]\n",
      "LP test seeds are saved to ./ondisk_dataset_homograph/lp-test-seeds.npy\n",
      "\n",
      "Part of val labels for link prediction: [1. 1. 1.]\n",
      "LP test labels are saved to ./ondisk_dataset_homograph/lp-test-labels.npy\n",
      "\n",
      "Part of test indexes for link prediction: [0 1 2]\n",
      "LP test indexes are saved to ./ondisk_dataset_homograph/lp-test-indexes.npy\n",
      "\n"
     ]
    }
   ],
   "source": [
    "num_trains = int(num_edges * 0.6)\n",
    "num_vals = int(num_edges * 0.2)\n",
    "num_tests = num_edges - num_trains - num_vals\n",
    "\n",
    "lp_train_seeds_path = os.path.join(base_dir, \"lp-train-seeds.npy\")\n",
    "lp_train_seeds = edges[:num_trains, :]\n",
    "print(f\"Part of train seeds for link prediction: {lp_train_seeds[:3]}\")\n",
    "np.save(lp_train_seeds_path, lp_train_seeds)\n",
    "print(f\"LP train seeds are saved to {lp_train_seeds_path}\\n\")\n",
    "\n",
    "lp_val_seeds_path = os.path.join(base_dir, \"lp-val-seeds.npy\")\n",
    "lp_val_seeds = edges[num_trains:num_trains+num_vals, :]\n",
    "lp_val_neg_dsts = np.random.randint(0, num_nodes, (num_vals, 10)).reshape(-1)\n",
    "lp_val_neg_srcs = np.repeat(lp_val_seeds[:,0], 10)\n",
    "lp_val_neg_seeds = np.concatenate((lp_val_neg_srcs, lp_val_neg_dsts)).reshape(2,-1).T\n",
    "lp_val_seeds = np.concatenate((lp_val_seeds, lp_val_neg_seeds))\n",
    "print(f\"Part of val seeds for link prediction: {lp_val_seeds[:3]}\")\n",
    "np.save(lp_val_seeds_path, lp_val_seeds)\n",
    "print(f\"LP val seeds are saved to {lp_val_seeds_path}\\n\")\n",
    "\n",
    "lp_val_labels_path = os.path.join(base_dir, \"lp-val-labels.npy\")\n",
    "lp_val_labels = np.empty(num_vals * (10 + 1))\n",
    "lp_val_labels[:num_vals] = 1\n",
    "lp_val_labels[num_vals:] = 0\n",
    "print(f\"Part of val labels for link prediction: {lp_val_labels[:3]}\")\n",
    "np.save(lp_val_labels_path, lp_val_labels)\n",
    "print(f\"LP val labels are saved to {lp_val_labels_path}\\n\")\n",
    "\n",
    "lp_val_indexes_path = os.path.join(base_dir, \"lp-val-indexes.npy\")\n",
    "lp_val_indexes = np.arange(0, num_vals)\n",
    "lp_val_neg_indexes = np.repeat(lp_val_indexes, 10)\n",
    "lp_val_indexes = np.concatenate([lp_val_indexes, lp_val_neg_indexes])\n",
    "print(f\"Part of val indexes for link prediction: {lp_val_indexes[:3]}\")\n",
    "np.save(lp_val_indexes_path, lp_val_indexes)\n",
    "print(f\"LP val indexes are saved to {lp_val_indexes_path}\\n\")\n",
    "\n",
    "lp_test_seeds_path = os.path.join(base_dir, \"lp-test-seeds.npy\")\n",
    "lp_test_seeds = edges[-num_tests:, :]\n",
    "lp_test_neg_dsts = np.random.randint(0, num_nodes, (num_tests, 10)).reshape(-1)\n",
    "lp_test_neg_srcs = np.repeat(lp_test_seeds[:,0], 10)\n",
    "lp_test_neg_seeds = np.concatenate((lp_test_neg_srcs, lp_test_neg_dsts)).reshape(2,-1).T\n",
    "lp_test_seeds = np.concatenate((lp_test_seeds, lp_test_neg_seeds))\n",
    "print(f\"Part of test seeds for link prediction: {lp_test_seeds[:3]}\")\n",
    "np.save(lp_test_seeds_path, lp_test_seeds)\n",
    "print(f\"LP test seeds are saved to {lp_test_seeds_path}\\n\")\n",
    "\n",
    "lp_test_labels_path = os.path.join(base_dir, \"lp-test-labels.npy\")\n",
    "lp_test_labels = np.empty(num_tests * (10 + 1))\n",
    "lp_test_labels[:num_tests] = 1\n",
    "lp_test_labels[num_tests:] = 0\n",
    "print(f\"Part of val labels for link prediction: {lp_test_labels[:3]}\")\n",
    "np.save(lp_test_labels_path, lp_test_labels)\n",
    "print(f\"LP test labels are saved to {lp_test_labels_path}\\n\")\n",
    "\n",
    "lp_test_indexes_path = os.path.join(base_dir, \"lp-test-indexes.npy\")\n",
    "lp_test_indexes = np.arange(0, num_tests)\n",
    "lp_test_neg_indexes = np.repeat(lp_test_indexes, 10)\n",
    "lp_test_indexes = np.concatenate([lp_test_indexes, lp_test_neg_indexes])\n",
    "print(f\"Part of test indexes for link prediction: {lp_test_indexes[:3]}\")\n",
    "np.save(lp_test_indexes_path, lp_test_indexes)\n",
    "print(f\"LP test indexes are saved to {lp_test_indexes_path}\\n\")"
   ]
  },
  {
   "cell_type": "markdown",
   "metadata": {
    "id": "wbk6-wxRK-6S"
   },
   "source": [
    "## Organize Data into YAML File\n",
    "Now we need to create a `metadata.yaml` file which contains the paths, dadta types of graph structure, feature data, training/validation/test sets.\n",
    "\n",
    "Notes:\n",
    "- all path should be relative to `metadata.yaml`.\n",
    "- Below fields are optional and not specified in below example.\n",
    "  - `in_memory`: indicates whether to load dada into memory or `mmap`. Default is `True`.\n",
    "\n",
    "Please refer to [YAML specification](https://github.com/dmlc/dgl/blob/master/docs/source/stochastic_training/ondisk-dataset-specification.rst) for more details."
   ]
  },
  {
   "cell_type": "code",
   "execution_count": 7,
   "metadata": {
    "execution": {
     "iopub.execute_input": "2024-09-18T05:27:35.332667Z",
     "iopub.status.busy": "2024-09-18T05:27:35.332471Z",
     "iopub.status.idle": "2024-09-18T05:27:35.337413Z",
     "shell.execute_reply": "2024-09-18T05:27:35.336930Z"
    },
    "id": "ddGTWW61Lpwp"
   },
   "outputs": [],
   "source": [
    "yaml_content = f\"\"\"\n",
    "    dataset_name: homogeneous_graph_nc_lp\n",
    "    graph:\n",
    "      nodes:\n",
    "        - num: {num_nodes}\n",
    "      edges:\n",
    "        - format: csv\n",
    "          path: {os.path.basename(edges_path)}\n",
    "    feature_data:\n",
    "      - domain: node\n",
    "        name: feat_0\n",
    "        format: numpy\n",
    "        path: {os.path.basename(node_feat_0_path)}\n",
    "      - domain: node\n",
    "        name: feat_1\n",
    "        format: torch\n",
    "        path: {os.path.basename(node_feat_1_path)}\n",
    "      - domain: edge\n",
    "        name: feat_0\n",
    "        format: numpy\n",
    "        path: {os.path.basename(edge_feat_0_path)}\n",
    "      - domain: edge\n",
    "        name: feat_1\n",
    "        format: torch\n",
    "        path: {os.path.basename(edge_feat_1_path)}\n",
    "    tasks:\n",
    "      - name: node_classification\n",
    "        num_classes: 10\n",
    "        train_set:\n",
    "          - data:\n",
    "              - name: seeds\n",
    "                format: numpy\n",
    "                path: {os.path.basename(nc_train_ids_path)}\n",
    "              - name: labels\n",
    "                format: torch\n",
    "                path: {os.path.basename(nc_train_labels_path)}\n",
    "        validation_set:\n",
    "          - data:\n",
    "              - name: seeds\n",
    "                format: numpy\n",
    "                path: {os.path.basename(nc_val_ids_path)}\n",
    "              - name: labels\n",
    "                format: torch\n",
    "                path: {os.path.basename(nc_val_labels_path)}\n",
    "        test_set:\n",
    "          - data:\n",
    "              - name: seeds\n",
    "                format: numpy\n",
    "                path: {os.path.basename(nc_test_ids_path)}\n",
    "              - name: labels\n",
    "                format: torch\n",
    "                path: {os.path.basename(nc_test_labels_path)}\n",
    "      - name: link_prediction\n",
    "        num_classes: 10\n",
    "        train_set:\n",
    "          - data:\n",
    "              - name: seeds\n",
    "                format: numpy\n",
    "                path: {os.path.basename(lp_train_seeds_path)}\n",
    "        validation_set:\n",
    "          - data:\n",
    "              - name: seeds\n",
    "                format: numpy\n",
    "                path: {os.path.basename(lp_val_seeds_path)}\n",
    "              - name: labels\n",
    "                format: numpy\n",
    "                path: {os.path.basename(lp_val_labels_path)}\n",
    "              - name: indexes\n",
    "                format: numpy\n",
    "                path: {os.path.basename(lp_val_indexes_path)}\n",
    "        test_set:\n",
    "          - data:\n",
    "              - name: seeds\n",
    "                format: numpy\n",
    "                path: {os.path.basename(lp_test_seeds_path)}\n",
    "              - name: labels\n",
    "                format: numpy\n",
    "                path: {os.path.basename(lp_test_labels_path)}\n",
    "              - name: indexes\n",
    "                format: numpy\n",
    "                path: {os.path.basename(lp_test_indexes_path)}\n",
    "\"\"\"\n",
    "metadata_path = os.path.join(base_dir, \"metadata.yaml\")\n",
    "with open(metadata_path, \"w\") as f:\n",
    "  f.write(yaml_content)"
   ]
  },
  {
   "cell_type": "markdown",
   "metadata": {
    "id": "kEfybHGhOW7O"
   },
   "source": [
    "## Instantiate `OnDiskDataset`\n",
    "Now we're ready to load dataset via `dgl.graphbolt.OnDiskDataset`. When instantiating, we just pass in the base directory where `metadata.yaml` file lies.\n",
    "\n",
    "During first instantiation, GraphBolt preprocesses the raw data such as constructing `FusedCSCSamplingGraph` from edges. All data including graph, feature data, training/validation/test sets are put into `preprocessed` directory after preprocessing. Any following dataset loading will skip the preprocess stage.\n",
    "\n",
    "After preprocessing, `load()` is required to be called explicitly in order to load graph, feature data and tasks."
   ]
  },
  {
   "cell_type": "code",
   "execution_count": 8,
   "metadata": {
    "execution": {
     "iopub.execute_input": "2024-09-18T05:27:35.339562Z",
     "iopub.status.busy": "2024-09-18T05:27:35.339262Z",
     "iopub.status.idle": "2024-09-18T05:27:35.402697Z",
     "shell.execute_reply": "2024-09-18T05:27:35.402188Z"
    },
    "id": "W58CZoSzOiyo"
   },
   "outputs": [
    {
     "name": "stdout",
     "output_type": "stream",
     "text": [
      "Start to preprocess the on-disk dataset.\n",
      "Finish preprocessing the on-disk dataset.\n",
      "Loaded graph: FusedCSCSamplingGraph(csc_indptr=tensor([    0,     9,    14,  ...,  9978,  9987, 10000], dtype=torch.int32),\n",
      "                      indices=tensor([590, 790, 576,  ..., 365, 826, 999], dtype=torch.int32),\n",
      "                      total_num_nodes=1000, num_edges=10000,)\n",
      "\n",
      "Loaded feature store: TorchBasedFeatureStore(\n",
      "    {(<OnDiskFeatureDataDomain.NODE: 'node'>, None, 'feat_0'): TorchBasedFeature(\n",
      "        feature=tensor([[0.4020, 0.1957, 0.9946, 0.2165, 0.4929],\n",
      "                        [0.7944, 0.6112, 0.1824, 0.0292, 0.4879],\n",
      "                        [0.6678, 0.0638, 0.8265, 0.8590, 0.0641],\n",
      "                        ...,\n",
      "                        [0.0475, 0.3810, 0.1829, 0.3888, 0.2851],\n",
      "                        [0.2325, 0.2732, 0.3345, 0.0462, 0.2507],\n",
      "                        [0.3314, 0.1787, 0.5855, 0.7459, 0.6121]], dtype=torch.float64),\n",
      "        metadata={},\n",
      "    ), (<OnDiskFeatureDataDomain.NODE: 'node'>, None, 'feat_1'): TorchBasedFeature(\n",
      "        feature=tensor([[0.2306, 0.4961, 0.8138, 0.9459, 0.9300],\n",
      "                        [0.4121, 0.9098, 0.0363, 0.1023, 0.0568],\n",
      "                        [0.5270, 0.4843, 0.0545, 0.6260, 0.4414],\n",
      "                        ...,\n",
      "                        [0.5930, 0.1418, 0.9149, 0.7334, 0.4629],\n",
      "                        [0.9291, 0.4022, 0.1780, 0.5372, 0.9679],\n",
      "                        [0.2862, 0.9577, 0.5446, 0.3897, 0.3901]]),\n",
      "        metadata={},\n",
      "    ), (<OnDiskFeatureDataDomain.EDGE: 'edge'>, None, 'feat_0'): TorchBasedFeature(\n",
      "        feature=tensor([[0.5603, 0.4266, 0.2066, 0.1244, 0.0052],\n",
      "                        [0.3007, 0.6914, 0.1765, 0.6401, 0.9083],\n",
      "                        [0.6085, 0.7154, 0.6103, 0.0415, 0.6651],\n",
      "                        ...,\n",
      "                        [0.3799, 0.8488, 0.7958, 0.5790, 0.2446],\n",
      "                        [0.2401, 0.3979, 0.1561, 0.6535, 0.7992],\n",
      "                        [0.6651, 0.9153, 0.4816, 0.8771, 0.8298]], dtype=torch.float64),\n",
      "        metadata={},\n",
      "    ), (<OnDiskFeatureDataDomain.EDGE: 'edge'>, None, 'feat_1'): TorchBasedFeature(\n",
      "        feature=tensor([[0.3016, 0.3289, 0.2199, 0.5535, 0.7026],\n",
      "                        [0.4117, 0.7402, 0.8289, 0.2727, 0.5790],\n",
      "                        [0.3029, 0.0622, 0.2794, 0.1382, 0.9029],\n",
      "                        ...,\n",
      "                        [0.9485, 0.9693, 0.0971, 0.6306, 0.6435],\n",
      "                        [0.5145, 0.8982, 0.3131, 0.0557, 0.4278],\n",
      "                        [0.4240, 0.1628, 0.3460, 0.2886, 0.5783]]),\n",
      "        metadata={},\n",
      "    )}\n",
      ")\n",
      "\n",
      "Loaded node classification task: OnDiskTask(validation_set=ItemSet(\n",
      "               items=(tensor([656, 917, 938, 282, 665, 652, 219, 352,  11, 800, 365, 522, 307, 456,\n",
      "                     6, 193, 795, 727, 498, 608, 634,  75, 619, 568,  65, 127, 869, 287,\n",
      "                   703, 922, 926, 773, 722, 931, 591, 666, 136, 214, 205, 288, 531, 353,\n",
      "                   981, 348, 338, 694, 262, 669, 290, 289, 929, 218, 927, 296, 271, 815,\n",
      "                   264, 202, 684, 564, 170, 822, 243,  56, 790, 330, 306, 626, 361, 244,\n",
      "                   814, 897, 670, 395, 872,  29, 678, 813, 789, 164, 321, 885, 151, 641,\n",
      "                   143, 612, 874, 775, 838, 961, 458,  10, 397, 717, 557, 701, 390, 759,\n",
      "                   777, 698, 725,  22, 257, 468, 964, 865, 227, 592, 518, 856, 818, 407,\n",
      "                   419, 261, 465, 476, 474, 857, 188, 841, 710, 737, 805, 199, 586, 238,\n",
      "                   998, 442, 991, 951, 673, 422, 144, 453, 192,  76, 603, 175, 430, 275,\n",
      "                   477, 120, 455, 547, 600, 760, 664, 240,  71, 972, 627, 594, 958, 274,\n",
      "                   259, 729, 485, 582,  70, 461,  49, 277, 434, 782, 688, 142, 918, 663,\n",
      "                   107, 765, 690, 724,  15, 233, 311,  91, 596, 149, 295, 911, 223, 548,\n",
      "                   363, 189, 515, 704, 809,  89, 346, 860, 831, 895, 751, 293, 110, 581,\n",
      "                   235, 229, 944, 392], dtype=torch.int32), tensor([3, 9, 2, 2, 3, 4, 7, 2, 4, 3, 3, 9, 8, 6, 6, 6, 4, 6, 7, 3, 9, 9, 6, 1,\n",
      "                   2, 3, 4, 5, 9, 2, 6, 2, 2, 2, 4, 1, 0, 2, 8, 4, 1, 7, 2, 7, 4, 1, 9, 7,\n",
      "                   9, 6, 5, 4, 0, 1, 3, 2, 0, 7, 7, 5, 3, 7, 6, 8, 3, 2, 0, 1, 2, 9, 0, 0,\n",
      "                   5, 2, 7, 0, 5, 6, 9, 3, 3, 8, 4, 7, 0, 5, 1, 1, 8, 3, 0, 4, 1, 1, 3, 4,\n",
      "                   7, 8, 7, 7, 0, 4, 5, 7, 1, 2, 7, 2, 5, 3, 2, 7, 1, 8, 6, 5, 7, 5, 9, 9,\n",
      "                   4, 3, 3, 1, 3, 6, 8, 0, 7, 4, 4, 2, 3, 1, 4, 8, 3, 7, 8, 1, 9, 0, 3, 6,\n",
      "                   7, 3, 5, 7, 5, 0, 4, 3, 5, 6, 4, 6, 9, 8, 9, 5, 6, 4, 1, 0, 7, 0, 4, 4,\n",
      "                   3, 9, 6, 0, 6, 6, 6, 4, 6, 3, 8, 6, 1, 6, 6, 9, 8, 9, 0, 9, 4, 6, 8, 1,\n",
      "                   5, 1, 1, 2, 9, 1, 3, 2])),\n",
      "               names=('seeds', 'labels'),\n",
      "           ),\n",
      "           train_set=ItemSet(\n",
      "               items=(tensor([924,  48, 977, 620, 763, 405, 752, 310, 884, 566, 297,  54, 103, 410,\n",
      "                   685, 903, 139, 630, 286,  61,  41, 667, 506,  74,   8, 674, 604, 840,\n",
      "                   847, 497, 358, 329, 284, 369, 574,   2, 621, 908, 187, 414, 758, 201,\n",
      "                   915, 882, 645, 579, 655, 657, 512, 803, 936, 700, 870, 304,  39,  20,\n",
      "                   894, 197, 134, 858, 968, 161, 135, 941, 119, 121, 403, 719, 302, 172,\n",
      "                   605, 394, 362, 305, 726, 963, 980, 272, 153, 742, 314, 299, 224, 647,\n",
      "                   437, 256, 658, 848,   9, 609, 339, 328,  96, 396,  14, 801, 145,  72,\n",
      "                   797, 191,  38, 632, 732, 248, 539, 821, 979, 268, 511, 576, 386, 174,\n",
      "                    17, 573, 540, 919, 122, 475, 772, 871,  73, 351, 651, 239, 769, 784,\n",
      "                    16, 303, 985, 828,   4,  43,  68, 426,  60, 237, 866, 933, 530, 649,\n",
      "                   412, 207, 580, 764, 761,  79, 849, 930, 505, 907, 519,  90, 463, 880,\n",
      "                   982, 367,  44, 864, 132, 211, 855,  98, 523, 914, 349, 373, 971, 640,\n",
      "                   599, 254, 266, 267, 728, 222, 157, 983, 345, 322, 413,  40, 501, 937,\n",
      "                   399, 824, 116, 954, 577,  58, 140, 115, 950,   0, 997, 359, 225, 418,\n",
      "                   532, 559, 316, 232, 301,  99, 186, 646, 945, 820,  24, 360, 625, 537,\n",
      "                   921, 776, 563, 150, 984, 504, 718, 160, 550, 948, 445, 753, 118,  50,\n",
      "                    27, 569, 771, 220, 553, 960, 890, 198, 798, 387, 228, 595,  37, 125,\n",
      "                   452, 707, 494, 787, 757,  63, 662, 513,  77,  13, 420, 683, 234, 340,\n",
      "                   850, 108, 877, 495, 525, 541, 881, 324, 180, 433, 152, 242, 520, 999,\n",
      "                   368,  67, 536, 209,   5, 327, 876, 181, 676, 457, 278, 768, 428, 947,\n",
      "                    30, 273, 460, 517, 749, 487, 208, 639, 631, 692, 451, 204, 162, 827,\n",
      "                   350, 825, 697, 558, 154, 556,  31, 791, 730, 332, 241, 516, 691, 379,\n",
      "                   190, 668, 923, 873, 429, 421, 382, 863, 283, 173,  97, 648, 129, 176,\n",
      "                   206, 940, 381,  23,  53, 835, 200, 939, 333, 636, 723, 526, 424, 953,\n",
      "                   949, 281, 391, 441,   7, 216, 810, 909, 996, 484, 601, 629,  26,   1,\n",
      "                   114, 357, 400, 744, 109, 231, 376, 486, 614, 711,  42, 319, 499, 253,\n",
      "                   687, 493, 247, 679, 425, 932, 650, 893, 616,  25,  32, 638, 438,  33,\n",
      "                   696,  94, 185, 137, 435, 861, 741, 994, 946, 567, 481, 783,  64, 538,\n",
      "                   370, 606, 578, 590, 226, 853,  45, 258, 966, 343, 409, 607,  81, 587,\n",
      "                   588, 320, 942,  92, 171, 315, 404,  86, 767, 546, 846, 675, 610, 628,\n",
      "                    36, 878, 128, 478,  35, 534, 364, 265, 269,  57, 106,  19, 731, 406,\n",
      "                   571, 572, 780, 291, 613, 416, 508, 464, 597, 925, 887, 549, 705, 902,\n",
      "                   896, 661, 740, 521, 131, 965, 754, 166, 734, 883, 276, 323, 251, 167,\n",
      "                   589, 916,  18, 836, 312, 792, 165, 156, 713, 617, 503, 602, 473, 562,\n",
      "                   695,  46, 689, 990, 709, 482, 584, 459, 215, 417, 469, 770,  52, 489,\n",
      "                   236, 677, 891, 986, 899, 859, 851, 408, 183, 527, 699, 342, 637,  34,\n",
      "                    66, 331, 832, 146, 213, 496, 389, 440, 738, 708, 934, 585, 377,  95,\n",
      "                   155, 900,  47, 978, 415, 344, 335, 686,  80, 992, 507, 989, 450, 105,\n",
      "                   384, 182, 436, 372, 935, 570,   3, 101, 104, 745, 554, 336, 113, 179,\n",
      "                   867, 943, 423, 545, 448, 203, 834, 743, 823, 715, 483, 816, 502, 480,\n",
      "                   371, 854, 739, 920, 755, 746, 509, 868, 535, 852, 561, 491, 642, 802,\n",
      "                   454, 788, 383, 401, 375, 786, 716, 906, 905, 583, 141,  12, 956, 654,\n",
      "                   778, 542, 217, 356, 712, 839, 766, 833, 794, 551, 967, 974],\n",
      "                  dtype=torch.int32), tensor([4, 6, 8, 2, 6, 0, 3, 3, 1, 3, 7, 0, 6, 8, 2, 8, 7, 5, 1, 1, 0, 9, 1, 1,\n",
      "                   8, 9, 8, 3, 5, 6, 9, 5, 1, 8, 8, 8, 0, 8, 2, 9, 2, 2, 1, 0, 9, 7, 6, 9,\n",
      "                   5, 1, 2, 7, 9, 2, 0, 4, 7, 2, 4, 4, 6, 7, 9, 6, 2, 1, 7, 7, 0, 6, 0, 2,\n",
      "                   9, 2, 4, 1, 7, 2, 9, 1, 9, 1, 4, 2, 8, 6, 0, 6, 3, 2, 5, 8, 9, 0, 2, 7,\n",
      "                   6, 2, 2, 6, 1, 8, 4, 0, 6, 8, 3, 7, 1, 0, 3, 6, 8, 6, 9, 0, 9, 7, 6, 1,\n",
      "                   5, 1, 8, 4, 0, 1, 6, 5, 1, 0, 8, 0, 1, 4, 7, 7, 6, 3, 2, 6, 8, 3, 2, 8,\n",
      "                   9, 8, 7, 0, 7, 6, 7, 2, 8, 0, 9, 2, 9, 4, 2, 9, 3, 0, 1, 6, 6, 8, 1, 4,\n",
      "                   2, 0, 9, 2, 4, 7, 0, 8, 8, 3, 5, 5, 1, 7, 4, 3, 7, 8, 6, 2, 8, 4, 1, 1,\n",
      "                   6, 8, 1, 7, 4, 4, 5, 2, 7, 4, 0, 0, 1, 0, 1, 1, 4, 2, 0, 7, 3, 1, 1, 9,\n",
      "                   7, 4, 3, 8, 7, 6, 0, 2, 2, 1, 7, 3, 0, 8, 0, 4, 0, 1, 0, 9, 5, 3, 0, 9,\n",
      "                   3, 8, 2, 6, 9, 3, 0, 1, 6, 1, 0, 2, 3, 8, 6, 1, 1, 4, 0, 6, 3, 2, 4, 4,\n",
      "                   0, 3, 6, 1, 1, 7, 1, 5, 4, 3, 1, 9, 3, 5, 5, 7, 8, 8, 4, 5, 9, 2, 9, 9,\n",
      "                   3, 9, 8, 2, 4, 4, 4, 8, 1, 1, 3, 0, 0, 9, 2, 0, 0, 1, 2, 9, 1, 5, 6, 0,\n",
      "                   2, 7, 5, 7, 5, 4, 6, 1, 6, 4, 5, 4, 5, 0, 7, 9, 8, 0, 9, 6, 5, 9, 2, 5,\n",
      "                   1, 9, 4, 7, 4, 0, 2, 5, 6, 2, 3, 4, 4, 3, 1, 1, 6, 6, 7, 1, 5, 4, 3, 7,\n",
      "                   6, 1, 8, 8, 3, 5, 4, 7, 8, 0, 3, 6, 2, 1, 1, 8, 9, 5, 1, 8, 9, 3, 3, 4,\n",
      "                   4, 2, 5, 7, 5, 9, 8, 2, 3, 8, 1, 5, 7, 6, 4, 9, 5, 0, 2, 9, 6, 0, 5, 5,\n",
      "                   2, 6, 5, 8, 5, 3, 3, 5, 8, 7, 2, 8, 1, 3, 7, 0, 9, 4, 1, 4, 7, 4, 7, 8,\n",
      "                   1, 1, 0, 4, 8, 2, 0, 1, 7, 0, 2, 1, 4, 8, 6, 2, 6, 1, 5, 7, 4, 6, 9, 9,\n",
      "                   4, 6, 6, 6, 1, 5, 3, 7, 7, 9, 5, 5, 2, 1, 8, 8, 0, 7, 9, 6, 9, 6, 1, 3,\n",
      "                   3, 1, 9, 8, 1, 4, 7, 6, 2, 4, 5, 7, 8, 9, 8, 0, 2, 2, 6, 4, 7, 3, 5, 4,\n",
      "                   8, 1, 8, 6, 3, 1, 5, 8, 2, 7, 5, 7, 4, 3, 4, 7, 0, 5, 4, 6, 3, 4, 2, 9,\n",
      "                   5, 9, 1, 9, 3, 4, 7, 8, 8, 2, 2, 6, 9, 4, 4, 1, 0, 5, 0, 9, 6, 2, 1, 6,\n",
      "                   9, 2, 0, 4, 3, 3, 4, 3, 7, 1, 4, 4, 7, 4, 2, 7, 8, 9, 1, 8, 0, 0, 6, 6,\n",
      "                   7, 2, 2, 9, 6, 8, 2, 6, 8, 9, 8, 6, 9, 9, 7, 8, 9, 2, 0, 9, 2, 9, 7, 2])),\n",
      "               names=('seeds', 'labels'),\n",
      "           ),\n",
      "           test_set=ItemSet(\n",
      "               items=(tensor([ 85, 260, 230,  51, 957, 378, 826, 123, 124, 952, 178, 492, 660, 804,\n",
      "                   681, 488, 317,  21, 785, 987, 249, 611, 973, 830, 892, 130, 432, 158,\n",
      "                   163, 993,  87, 796, 774, 138, 721, 623, 427, 672, 808, 270, 706, 102,\n",
      "                    55, 879, 812, 292, 659, 913, 543, 168, 912, 280, 411, 837, 995, 888,\n",
      "                   300, 298, 446, 528, 886,  69, 252, 693, 560, 309, 680, 510, 255,  88,\n",
      "                   618, 910, 842, 682, 781, 988,  59, 817, 500, 354, 762, 169, 575, 479,\n",
      "                   355,  78, 380, 806, 889, 196, 294, 747, 514, 366, 671, 593, 470, 643,\n",
      "                   148, 969, 644, 279, 653, 325, 799, 326, 318, 633, 829, 449, 748, 374,\n",
      "                   490, 177, 212,  93, 313, 210, 100, 615, 444, 635, 544, 308, 443, 529,\n",
      "                   624, 779, 733, 555, 402, 552, 393, 341, 285, 472, 976, 793, 844, 147,\n",
      "                   862, 533, 111, 735, 714, 337, 385, 898,  28, 246, 159, 195, 750, 702,\n",
      "                   184, 439, 962, 622,  62, 117, 975, 598, 720, 221, 959, 565, 845, 388,\n",
      "                   928, 334, 756,  82, 819, 471, 467, 194, 904, 347, 466, 133, 736, 524,\n",
      "                   970, 901, 431, 263, 811, 245, 955,  83, 112, 398,  84, 807, 843, 447,\n",
      "                   875, 462, 126, 250], dtype=torch.int32), tensor([6, 0, 3, 3, 9, 9, 2, 5, 5, 5, 8, 1, 4, 8, 9, 1, 4, 3, 1, 6, 6, 8, 4, 0,\n",
      "                   9, 7, 6, 0, 2, 6, 5, 1, 6, 0, 5, 7, 4, 9, 2, 0, 7, 1, 1, 7, 0, 8, 2, 1,\n",
      "                   6, 0, 0, 2, 2, 8, 9, 0, 3, 0, 2, 0, 6, 2, 1, 6, 8, 6, 0, 8, 6, 3, 0, 5,\n",
      "                   3, 5, 7, 6, 0, 4, 8, 2, 0, 1, 2, 9, 7, 3, 4, 5, 1, 8, 4, 2, 4, 7, 0, 5,\n",
      "                   3, 4, 2, 0, 6, 0, 7, 1, 8, 9, 3, 5, 6, 0, 2, 2, 1, 0, 0, 6, 1, 5, 1, 2,\n",
      "                   6, 7, 8, 5, 2, 7, 7, 5, 4, 6, 0, 0, 5, 6, 1, 2, 7, 2, 2, 9, 2, 0, 9, 4,\n",
      "                   0, 7, 8, 1, 6, 0, 8, 3, 0, 9, 3, 7, 6, 2, 0, 0, 5, 3, 7, 2, 0, 9, 1, 9,\n",
      "                   6, 9, 4, 9, 4, 2, 2, 2, 3, 3, 6, 5, 5, 6, 1, 9, 9, 0, 4, 7, 6, 2, 1, 0,\n",
      "                   2, 0, 2, 8, 6, 4, 7, 8])),\n",
      "               names=('seeds', 'labels'),\n",
      "           ),\n",
      "           metadata={'name': 'node_classification', 'num_classes': 10},)\n",
      "\n",
      "Loaded link prediction task: OnDiskTask(validation_set=ItemSet(\n",
      "               items=(tensor([[728, 429],\n",
      "                   [753, 533],\n",
      "                   [589,  21],\n",
      "                   ...,\n",
      "                   [274, 339],\n",
      "                   [274, 426],\n",
      "                   [274,  19]], dtype=torch.int32), tensor([1., 1., 1.,  ..., 0., 0., 0.], dtype=torch.float64), tensor([   0,    1,    2,  ..., 1999, 1999, 1999])),\n",
      "               names=('seeds', 'labels', 'indexes'),\n",
      "           ),\n",
      "           train_set=ItemSet(\n",
      "               items=(tensor([[954, 328],\n",
      "                   [130, 475],\n",
      "                   [600, 730],\n",
      "                   ...,\n",
      "                   [187, 575],\n",
      "                   [810, 877],\n",
      "                   [555, 607]], dtype=torch.int32),),\n",
      "               names=('seeds',),\n",
      "           ),\n",
      "           test_set=ItemSet(\n",
      "               items=(tensor([[579, 154],\n",
      "                   [474, 680],\n",
      "                   [600, 170],\n",
      "                   ...,\n",
      "                   [581,  63],\n",
      "                   [581, 654],\n",
      "                   [581, 567]], dtype=torch.int32), tensor([1., 1., 1.,  ..., 0., 0., 0.], dtype=torch.float64), tensor([   0,    1,    2,  ..., 1999, 1999, 1999])),\n",
      "               names=('seeds', 'labels', 'indexes'),\n",
      "           ),\n",
      "           metadata={'name': 'link_prediction', 'num_classes': 10},)\n",
      "\n"
     ]
    },
    {
     "name": "stderr",
     "output_type": "stream",
     "text": [
      "/home/ubuntu/dgl_test/python/dgl/graphbolt/internal/utils.py:31: FutureWarning: You are using `torch.load` with `weights_only=False` (the current default value), which uses the default pickle module implicitly. It is possible to construct malicious pickle data which will execute arbitrary code during unpickling (See https://github.com/pytorch/pytorch/blob/main/SECURITY.md#untrusted-models for more details). In a future release, the default value for `weights_only` will be flipped to `True`. This limits the functions that could be executed during unpickling. Arbitrary objects will no longer be allowed to be loaded via this mode unless they are explicitly allowlisted by the user via `torch.serialization.add_safe_globals`. We recommend you start setting `weights_only=True` for any use case where you don't have full control of the loaded file. Please open an issue on GitHub for any issues related to this experimental feature.\n",
      "  return torch.load(path)\n",
      "/home/ubuntu/dgl_test/python/dgl/graphbolt/impl/ondisk_dataset.py:463: GBWarning: Edge feature is stored, but edge IDs are not saved.\n",
      "  gb_warning(\"Edge feature is stored, but edge IDs are not saved.\")\n",
      "/home/ubuntu/dgl_test/python/dgl/graphbolt/impl/ondisk_dataset.py:855: FutureWarning: You are using `torch.load` with `weights_only=False` (the current default value), which uses the default pickle module implicitly. It is possible to construct malicious pickle data which will execute arbitrary code during unpickling (See https://github.com/pytorch/pytorch/blob/main/SECURITY.md#untrusted-models for more details). In a future release, the default value for `weights_only` will be flipped to `True`. This limits the functions that could be executed during unpickling. Arbitrary objects will no longer be allowed to be loaded via this mode unless they are explicitly allowlisted by the user via `torch.serialization.add_safe_globals`. We recommend you start setting `weights_only=True` for any use case where you don't have full control of the loaded file. Please open an issue on GitHub for any issues related to this experimental feature.\n",
      "  return torch.load(graph_topology.path)\n"
     ]
    }
   ],
   "source": [
    "dataset = gb.OnDiskDataset(base_dir).load()\n",
    "graph = dataset.graph\n",
    "print(f\"Loaded graph: {graph}\\n\")\n",
    "\n",
    "feature = dataset.feature\n",
    "print(f\"Loaded feature store: {feature}\\n\")\n",
    "\n",
    "tasks = dataset.tasks\n",
    "nc_task = tasks[0]\n",
    "print(f\"Loaded node classification task: {nc_task}\\n\")\n",
    "lp_task = tasks[1]\n",
    "print(f\"Loaded link prediction task: {lp_task}\\n\")"
   ]
  }
 ],
 "metadata": {
  "colab": {
   "private_outputs": true,
   "provenance": []
  },
  "kernelspec": {
   "display_name": "Python 3",
   "name": "python3"
  },
  "language_info": {
   "codemirror_mode": {
    "name": "ipython",
    "version": 3
   },
   "file_extension": ".py",
   "mimetype": "text/x-python",
   "name": "python",
   "nbconvert_exporter": "python",
   "pygments_lexer": "ipython3",
   "version": "3.10.14"
  }
 },
 "nbformat": 4,
 "nbformat_minor": 0
}

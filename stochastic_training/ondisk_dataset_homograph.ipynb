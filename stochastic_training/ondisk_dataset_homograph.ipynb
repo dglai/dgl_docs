{
 "cells": [
  {
   "cell_type": "markdown",
   "metadata": {
    "id": "FnFhPMaAfLtJ"
   },
   "source": [
    "# OnDiskDataset for Homogeneous Graph\n",
    "\n",
    "[![Open In Colab](https://colab.research.google.com/assets/colab-badge.svg)](https://colab.research.google.com/github/dmlc/dgl/blob/master/notebooks/stochastic_training/ondisk_dataset_homograph.ipynb) [![GitHub](https://img.shields.io/badge/-View%20on%20GitHub-181717?logo=github&logoColor=ffffff)](https://github.com/dmlc/dgl/blob/master/notebooks/stochastic_training/ondisk_dataset_homograph.ipynb)\n",
    "\n",
    "This tutorial shows how to create `OnDiskDataset` for homogeneous graph that could be used in **GraphBolt** framework.\n",
    "\n",
    "By the end of this tutorial, you will be able to\n",
    "\n",
    "- organize graph structure data.\n",
    "- organize feature data.\n",
    "- organize training/validation/test set for specific tasks.\n",
    "\n",
    "To create an ``OnDiskDataset`` object, you need to organize all the data including graph structure, feature data and tasks into a directory. The directory should contain a ``metadata.yaml`` file that describes the metadata of the dataset.\n",
    "\n",
    "Now let's generate various data step by step and organize them together to instantiate `OnDiskDataset` finally."
   ]
  },
  {
   "cell_type": "markdown",
   "metadata": {
    "id": "Wlb19DtWgtzq"
   },
   "source": [
    "## Install DGL package"
   ]
  },
  {
   "cell_type": "code",
   "execution_count": 1,
   "metadata": {
    "execution": {
     "iopub.execute_input": "2024-09-20T13:18:10.702015Z",
     "iopub.status.busy": "2024-09-20T13:18:10.701811Z",
     "iopub.status.idle": "2024-09-20T13:18:13.712221Z",
     "shell.execute_reply": "2024-09-20T13:18:13.711287Z"
    },
    "id": "UojlT9ZGgyr9"
   },
   "outputs": [
    {
     "name": "stdout",
     "output_type": "stream",
     "text": [
      "Looking in links: https://data.dgl.ai/wheels-test/repo.html\r\n",
      "Requirement already satisfied: dgl in /opt/conda/envs/dgl-dev-cpu/lib/python3.10/site-packages (2.2a240410)\r\n",
      "Requirement already satisfied: numpy>=1.14.0 in /opt/conda/envs/dgl-dev-cpu/lib/python3.10/site-packages (from dgl) (1.26.4)\r\n",
      "Requirement already satisfied: scipy>=1.1.0 in /opt/conda/envs/dgl-dev-cpu/lib/python3.10/site-packages (from dgl) (1.14.1)\r\n",
      "Requirement already satisfied: networkx>=2.1 in /opt/conda/envs/dgl-dev-cpu/lib/python3.10/site-packages (from dgl) (3.3)\r\n",
      "Requirement already satisfied: requests>=2.19.0 in /opt/conda/envs/dgl-dev-cpu/lib/python3.10/site-packages (from dgl) (2.32.3)\r\n",
      "Requirement already satisfied: tqdm in /opt/conda/envs/dgl-dev-cpu/lib/python3.10/site-packages (from dgl) (4.66.5)\r\n",
      "Requirement already satisfied: psutil>=5.8.0 in /opt/conda/envs/dgl-dev-cpu/lib/python3.10/site-packages (from dgl) (6.0.0)\r\n",
      "Requirement already satisfied: torchdata>=0.5.0 in /opt/conda/envs/dgl-dev-cpu/lib/python3.10/site-packages (from dgl) (0.8.0)\r\n",
      "Requirement already satisfied: pandas in /opt/conda/envs/dgl-dev-cpu/lib/python3.10/site-packages (from dgl) (2.2.3)\r\n",
      "Requirement already satisfied: charset-normalizer<4,>=2 in /opt/conda/envs/dgl-dev-cpu/lib/python3.10/site-packages (from requests>=2.19.0->dgl) (3.3.2)\r\n",
      "Requirement already satisfied: idna<4,>=2.5 in /opt/conda/envs/dgl-dev-cpu/lib/python3.10/site-packages (from requests>=2.19.0->dgl) (3.10)\r\n",
      "Requirement already satisfied: urllib3<3,>=1.21.1 in /opt/conda/envs/dgl-dev-cpu/lib/python3.10/site-packages (from requests>=2.19.0->dgl) (2.2.3)\r\n",
      "Requirement already satisfied: certifi>=2017.4.17 in /opt/conda/envs/dgl-dev-cpu/lib/python3.10/site-packages (from requests>=2.19.0->dgl) (2024.8.30)\r\n"
     ]
    },
    {
     "name": "stdout",
     "output_type": "stream",
     "text": [
      "Requirement already satisfied: torch>=2 in /opt/conda/envs/dgl-dev-cpu/lib/python3.10/site-packages (from torchdata>=0.5.0->dgl) (2.1.0+cpu)\r\n"
     ]
    },
    {
     "name": "stdout",
     "output_type": "stream",
     "text": [
      "Requirement already satisfied: python-dateutil>=2.8.2 in /opt/conda/envs/dgl-dev-cpu/lib/python3.10/site-packages (from pandas->dgl) (2.9.0.post0)\r\n",
      "Requirement already satisfied: pytz>=2020.1 in /opt/conda/envs/dgl-dev-cpu/lib/python3.10/site-packages (from pandas->dgl) (2024.2)\r\n",
      "Requirement already satisfied: tzdata>=2022.7 in /opt/conda/envs/dgl-dev-cpu/lib/python3.10/site-packages (from pandas->dgl) (2024.1)\r\n",
      "Requirement already satisfied: six>=1.5 in /opt/conda/envs/dgl-dev-cpu/lib/python3.10/site-packages (from python-dateutil>=2.8.2->pandas->dgl) (1.16.0)\r\n",
      "Requirement already satisfied: filelock in /opt/conda/envs/dgl-dev-cpu/lib/python3.10/site-packages (from torch>=2->torchdata>=0.5.0->dgl) (3.16.1)\r\n",
      "Requirement already satisfied: typing-extensions in /opt/conda/envs/dgl-dev-cpu/lib/python3.10/site-packages (from torch>=2->torchdata>=0.5.0->dgl) (4.12.2)\r\n",
      "Requirement already satisfied: sympy in /opt/conda/envs/dgl-dev-cpu/lib/python3.10/site-packages (from torch>=2->torchdata>=0.5.0->dgl) (1.13.3)\r\n",
      "Requirement already satisfied: jinja2 in /opt/conda/envs/dgl-dev-cpu/lib/python3.10/site-packages (from torch>=2->torchdata>=0.5.0->dgl) (3.1.4)\r\n",
      "Requirement already satisfied: fsspec in /opt/conda/envs/dgl-dev-cpu/lib/python3.10/site-packages (from torch>=2->torchdata>=0.5.0->dgl) (2024.9.0)\r\n"
     ]
    },
    {
     "name": "stdout",
     "output_type": "stream",
     "text": [
      "Requirement already satisfied: MarkupSafe>=2.0 in /opt/conda/envs/dgl-dev-cpu/lib/python3.10/site-packages (from jinja2->torch>=2->torchdata>=0.5.0->dgl) (2.1.5)\r\n",
      "Requirement already satisfied: mpmath<1.4,>=1.1.0 in /opt/conda/envs/dgl-dev-cpu/lib/python3.10/site-packages (from sympy->torch>=2->torchdata>=0.5.0->dgl) (1.3.0)\r\n"
     ]
    },
    {
     "name": "stdout",
     "output_type": "stream",
     "text": [
      "\u001b[33mWARNING: Running pip as the 'root' user can result in broken permissions and conflicting behaviour with the system package manager, possibly rendering your system unusable.It is recommended to use a virtual environment instead: https://pip.pypa.io/warnings/venv. Use the --root-user-action option if you know what you are doing and want to suppress this warning.\u001b[0m\u001b[33m\r\n",
      "\u001b[0m"
     ]
    },
    {
     "name": "stdout",
     "output_type": "stream",
     "text": [
      "DGL installed!\n"
     ]
    }
   ],
   "source": [
    "# Install required packages.\n",
    "import os\n",
    "import torch\n",
    "import numpy as np\n",
    "os.environ['TORCH'] = torch.__version__\n",
    "os.environ['DGLBACKEND'] = \"pytorch\"\n",
    "\n",
    "# Install the CPU version.\n",
    "device = torch.device(\"cpu\")\n",
    "!pip install --pre dgl -f https://data.dgl.ai/wheels-test/repo.html\n",
    "\n",
    "try:\n",
    "    import dgl\n",
    "    import dgl.graphbolt as gb\n",
    "    installed = True\n",
    "except ImportError as error:\n",
    "    installed = False\n",
    "    print(error)\n",
    "print(\"DGL installed!\" if installed else \"DGL not found!\")"
   ]
  },
  {
   "cell_type": "markdown",
   "metadata": {
    "id": "2R7WnSbjsfbr"
   },
   "source": [
    "## Data preparation\n",
    "In order to demonstrate how to organize various data, let's create a base directory first."
   ]
  },
  {
   "cell_type": "code",
   "execution_count": 2,
   "metadata": {
    "execution": {
     "iopub.execute_input": "2024-09-20T13:18:13.715816Z",
     "iopub.status.busy": "2024-09-20T13:18:13.714845Z",
     "iopub.status.idle": "2024-09-20T13:18:13.719867Z",
     "shell.execute_reply": "2024-09-20T13:18:13.719023Z"
    },
    "id": "SZipbzyltLfO"
   },
   "outputs": [
    {
     "name": "stdout",
     "output_type": "stream",
     "text": [
      "Created base directory: ./ondisk_dataset_homograph\n"
     ]
    }
   ],
   "source": [
    "base_dir = './ondisk_dataset_homograph'\n",
    "os.makedirs(base_dir, exist_ok=True)\n",
    "print(f\"Created base directory: {base_dir}\")"
   ]
  },
  {
   "cell_type": "markdown",
   "metadata": {
    "id": "qhNtIn_xhlnl"
   },
   "source": [
    "### Generate graph structure data\n",
    "For homogeneous graph, we just need to save edges(namely seeds) into  **Numpy** or **CSV** file.\n",
    "\n",
    "Note:\n",
    "- when saving to **Numpy**, the array requires to be in shape of `(2, N)`. This format is recommended as constructing graph from it is much faster than **CSV** file.\n",
    "- when saving to **CSV** file, do not save index and header.\n"
   ]
  },
  {
   "cell_type": "code",
   "execution_count": 3,
   "metadata": {
    "execution": {
     "iopub.execute_input": "2024-09-20T13:18:13.722361Z",
     "iopub.status.busy": "2024-09-20T13:18:13.721904Z",
     "iopub.status.idle": "2024-09-20T13:18:13.739808Z",
     "shell.execute_reply": "2024-09-20T13:18:13.738599Z"
    },
    "id": "HcBt4G5BmSjr"
   },
   "outputs": [
    {
     "name": "stdout",
     "output_type": "stream",
     "text": [
      "Part of edges: [[414 834]\n",
      " [582 807]\n",
      " [309 400]\n",
      " [669  93]\n",
      " [485 769]]\n",
      "Edges are saved into ./ondisk_dataset_homograph/edges.csv\n"
     ]
    }
   ],
   "source": [
    "import numpy as np\n",
    "import pandas as pd\n",
    "num_nodes = 1000\n",
    "num_edges = 10 * num_nodes\n",
    "edges_path = os.path.join(base_dir, \"edges.csv\")\n",
    "edges = np.random.randint(0, num_nodes, size=(num_edges, 2))\n",
    "\n",
    "print(f\"Part of edges: {edges[:5, :]}\")\n",
    "\n",
    "df = pd.DataFrame(edges)\n",
    "df.to_csv(edges_path, index=False, header=False)\n",
    "\n",
    "print(f\"Edges are saved into {edges_path}\")"
   ]
  },
  {
   "cell_type": "markdown",
   "metadata": {
    "id": "kh-4cPtzpcaH"
   },
   "source": [
    "### Generate feature data for graph\n",
    "For feature data, numpy arrays and torch tensors are supported for now."
   ]
  },
  {
   "cell_type": "code",
   "execution_count": 4,
   "metadata": {
    "execution": {
     "iopub.execute_input": "2024-09-20T13:18:13.742474Z",
     "iopub.status.busy": "2024-09-20T13:18:13.742184Z",
     "iopub.status.idle": "2024-09-20T13:18:13.757770Z",
     "shell.execute_reply": "2024-09-20T13:18:13.756875Z"
    },
    "id": "_PVu1u5brBhF"
   },
   "outputs": [
    {
     "name": "stdout",
     "output_type": "stream",
     "text": [
      "Part of node feature [feat_0]: [[0.55731552 0.2742074  0.54195058 0.90345979 0.70680116]\n",
      " [0.03706644 0.91847537 0.01927848 0.60892047 0.00265359]\n",
      " [0.3885916  0.97042947 0.47068305 0.97281847 0.19738457]]\n",
      "Node feature [feat_0] is saved to ./ondisk_dataset_homograph/node-feat-0.npy\n",
      "\n",
      "Part of node feature [feat_1]: tensor([[0.2525, 0.0194, 0.6952, 0.5860, 0.0575],\n",
      "        [0.9248, 0.3705, 0.9307, 0.4745, 0.7827],\n",
      "        [0.7371, 0.2093, 0.1115, 0.0696, 0.3846]])\n",
      "Node feature [feat_1] is saved to ./ondisk_dataset_homograph/node-feat-1.pt\n",
      "\n",
      "Part of edge feature [feat_0]: [[0.54581515 0.63847122 0.73678898 0.90504454 0.96773704]\n",
      " [0.07137204 0.56872718 0.57359679 0.77304374 0.01244212]\n",
      " [0.77130303 0.53871883 0.66752569 0.21914045 0.80891255]]\n",
      "Edge feature [feat_0] is saved to ./ondisk_dataset_homograph/edge-feat-0.npy\n",
      "\n",
      "Part of edge feature [feat_1]: tensor([[1.6303e-01, 9.8200e-01, 7.2213e-01, 4.4767e-01, 5.4404e-01],\n",
      "        [4.8871e-01, 6.1840e-04, 9.5818e-01, 7.9353e-01, 1.3129e-01],\n",
      "        [3.9118e-01, 1.3665e-01, 5.4672e-01, 3.6617e-01, 2.5190e-01]])\n",
      "Edge feature [feat_1] is saved to ./ondisk_dataset_homograph/edge-feat-1.pt\n",
      "\n"
     ]
    }
   ],
   "source": [
    "# Generate node feature in numpy array.\n",
    "node_feat_0_path = os.path.join(base_dir, \"node-feat-0.npy\")\n",
    "node_feat_0 = np.random.rand(num_nodes, 5)\n",
    "print(f\"Part of node feature [feat_0]: {node_feat_0[:3, :]}\")\n",
    "np.save(node_feat_0_path, node_feat_0)\n",
    "print(f\"Node feature [feat_0] is saved to {node_feat_0_path}\\n\")\n",
    "\n",
    "# Generate another node feature in torch tensor\n",
    "node_feat_1_path = os.path.join(base_dir, \"node-feat-1.pt\")\n",
    "node_feat_1 = torch.rand(num_nodes, 5)\n",
    "print(f\"Part of node feature [feat_1]: {node_feat_1[:3, :]}\")\n",
    "torch.save(node_feat_1, node_feat_1_path)\n",
    "print(f\"Node feature [feat_1] is saved to {node_feat_1_path}\\n\")\n",
    "\n",
    "# Generate edge feature in numpy array.\n",
    "edge_feat_0_path = os.path.join(base_dir, \"edge-feat-0.npy\")\n",
    "edge_feat_0 = np.random.rand(num_edges, 5)\n",
    "print(f\"Part of edge feature [feat_0]: {edge_feat_0[:3, :]}\")\n",
    "np.save(edge_feat_0_path, edge_feat_0)\n",
    "print(f\"Edge feature [feat_0] is saved to {edge_feat_0_path}\\n\")\n",
    "\n",
    "# Generate another edge feature in torch tensor\n",
    "edge_feat_1_path = os.path.join(base_dir, \"edge-feat-1.pt\")\n",
    "edge_feat_1 = torch.rand(num_edges, 5)\n",
    "print(f\"Part of edge feature [feat_1]: {edge_feat_1[:3, :]}\")\n",
    "torch.save(edge_feat_1, edge_feat_1_path)\n",
    "print(f\"Edge feature [feat_1] is saved to {edge_feat_1_path}\\n\")\n"
   ]
  },
  {
   "cell_type": "markdown",
   "metadata": {
    "id": "ZyqgOtsIwzh_"
   },
   "source": [
    "### Generate tasks\n",
    "`OnDiskDataset` supports multiple tasks. For each task, we need to prepare training/validation/test sets respectively. Such sets usually vary among different tasks. In this tutorial, let's create a **Node Classification** task and **Link Prediction** task."
   ]
  },
  {
   "cell_type": "markdown",
   "metadata": {
    "id": "hVxHaDIfzCkr"
   },
   "source": [
    "#### Node Classification Task\n",
    "For node classification task, we need **node IDs** and corresponding **labels** for each training/validation/test set. Like feature data, numpy arrays and torch tensors are supported for these sets."
   ]
  },
  {
   "cell_type": "code",
   "execution_count": 5,
   "metadata": {
    "execution": {
     "iopub.execute_input": "2024-09-20T13:18:13.760208Z",
     "iopub.status.busy": "2024-09-20T13:18:13.759834Z",
     "iopub.status.idle": "2024-09-20T13:18:13.771762Z",
     "shell.execute_reply": "2024-09-20T13:18:13.770876Z"
    },
    "id": "S5-fyBbHzTCO"
   },
   "outputs": [
    {
     "name": "stdout",
     "output_type": "stream",
     "text": [
      "Part of train ids for node classification: [647 512  78]\n",
      "NC train ids are saved to ./ondisk_dataset_homograph/nc-train-ids.npy\n",
      "\n",
      "Part of train labels for node classification: tensor([4, 9, 6])\n",
      "NC train labels are saved to ./ondisk_dataset_homograph/nc-train-labels.pt\n",
      "\n",
      "Part of val ids for node classification: [305 229 994]\n",
      "NC val ids are saved to ./ondisk_dataset_homograph/nc-val-ids.npy\n",
      "\n",
      "Part of val labels for node classification: tensor([1, 8, 4])\n",
      "NC val labels are saved to ./ondisk_dataset_homograph/nc-val-labels.pt\n",
      "\n",
      "Part of test ids for node classification: [970 197  20]\n",
      "NC test ids are saved to ./ondisk_dataset_homograph/nc-test-ids.npy\n",
      "\n",
      "Part of test labels for node classification: tensor([2, 3, 7])\n",
      "NC test labels are saved to ./ondisk_dataset_homograph/nc-test-labels.pt\n",
      "\n"
     ]
    }
   ],
   "source": [
    "num_trains = int(num_nodes * 0.6)\n",
    "num_vals = int(num_nodes * 0.2)\n",
    "num_tests = num_nodes - num_trains - num_vals\n",
    "\n",
    "ids = np.arange(num_nodes)\n",
    "np.random.shuffle(ids)\n",
    "\n",
    "nc_train_ids_path = os.path.join(base_dir, \"nc-train-ids.npy\")\n",
    "nc_train_ids = ids[:num_trains]\n",
    "print(f\"Part of train ids for node classification: {nc_train_ids[:3]}\")\n",
    "np.save(nc_train_ids_path, nc_train_ids)\n",
    "print(f\"NC train ids are saved to {nc_train_ids_path}\\n\")\n",
    "\n",
    "nc_train_labels_path = os.path.join(base_dir, \"nc-train-labels.pt\")\n",
    "nc_train_labels = torch.randint(0, 10, (num_trains,))\n",
    "print(f\"Part of train labels for node classification: {nc_train_labels[:3]}\")\n",
    "torch.save(nc_train_labels, nc_train_labels_path)\n",
    "print(f\"NC train labels are saved to {nc_train_labels_path}\\n\")\n",
    "\n",
    "nc_val_ids_path = os.path.join(base_dir, \"nc-val-ids.npy\")\n",
    "nc_val_ids = ids[num_trains:num_trains+num_vals]\n",
    "print(f\"Part of val ids for node classification: {nc_val_ids[:3]}\")\n",
    "np.save(nc_val_ids_path, nc_val_ids)\n",
    "print(f\"NC val ids are saved to {nc_val_ids_path}\\n\")\n",
    "\n",
    "nc_val_labels_path = os.path.join(base_dir, \"nc-val-labels.pt\")\n",
    "nc_val_labels = torch.randint(0, 10, (num_vals,))\n",
    "print(f\"Part of val labels for node classification: {nc_val_labels[:3]}\")\n",
    "torch.save(nc_val_labels, nc_val_labels_path)\n",
    "print(f\"NC val labels are saved to {nc_val_labels_path}\\n\")\n",
    "\n",
    "nc_test_ids_path = os.path.join(base_dir, \"nc-test-ids.npy\")\n",
    "nc_test_ids = ids[-num_tests:]\n",
    "print(f\"Part of test ids for node classification: {nc_test_ids[:3]}\")\n",
    "np.save(nc_test_ids_path, nc_test_ids)\n",
    "print(f\"NC test ids are saved to {nc_test_ids_path}\\n\")\n",
    "\n",
    "nc_test_labels_path = os.path.join(base_dir, \"nc-test-labels.pt\")\n",
    "nc_test_labels = torch.randint(0, 10, (num_tests,))\n",
    "print(f\"Part of test labels for node classification: {nc_test_labels[:3]}\")\n",
    "torch.save(nc_test_labels, nc_test_labels_path)\n",
    "print(f\"NC test labels are saved to {nc_test_labels_path}\\n\")"
   ]
  },
  {
   "cell_type": "markdown",
   "metadata": {
    "id": "LhAcDCHQ_KJ0"
   },
   "source": [
    "#### Link Prediction Task\n",
    "For link prediction task, we need **seeds** or **corresponding labels and indexes** which representing the pos/neg property and group of the seeds for each training/validation/test set. Like feature data, numpy arrays and torch tensors are supported for these sets."
   ]
  },
  {
   "cell_type": "code",
   "execution_count": 6,
   "metadata": {
    "execution": {
     "iopub.execute_input": "2024-09-20T13:18:13.774294Z",
     "iopub.status.busy": "2024-09-20T13:18:13.773891Z",
     "iopub.status.idle": "2024-09-20T13:18:13.791935Z",
     "shell.execute_reply": "2024-09-20T13:18:13.791061Z"
    },
    "id": "u0jCnXIcAQy4"
   },
   "outputs": [
    {
     "name": "stdout",
     "output_type": "stream",
     "text": [
      "Part of train seeds for link prediction: [[414 834]\n",
      " [582 807]\n",
      " [309 400]]\n",
      "LP train seeds are saved to ./ondisk_dataset_homograph/lp-train-seeds.npy\n",
      "\n",
      "Part of val seeds for link prediction: [[279 223]\n",
      " [601 891]\n",
      " [720 819]]\n",
      "LP val seeds are saved to ./ondisk_dataset_homograph/lp-val-seeds.npy\n",
      "\n",
      "Part of val labels for link prediction: [1. 1. 1.]\n",
      "LP val labels are saved to ./ondisk_dataset_homograph/lp-val-labels.npy\n",
      "\n",
      "Part of val indexes for link prediction: [0 1 2]\n",
      "LP val indexes are saved to ./ondisk_dataset_homograph/lp-val-indexes.npy\n",
      "\n",
      "Part of test seeds for link prediction: [[786  39]\n",
      " [ 30 426]\n",
      " [762 737]]\n",
      "LP test seeds are saved to ./ondisk_dataset_homograph/lp-test-seeds.npy\n",
      "\n",
      "Part of val labels for link prediction: [1. 1. 1.]\n",
      "LP test labels are saved to ./ondisk_dataset_homograph/lp-test-labels.npy\n",
      "\n",
      "Part of test indexes for link prediction: [0 1 2]\n",
      "LP test indexes are saved to ./ondisk_dataset_homograph/lp-test-indexes.npy\n",
      "\n"
     ]
    }
   ],
   "source": [
    "num_trains = int(num_edges * 0.6)\n",
    "num_vals = int(num_edges * 0.2)\n",
    "num_tests = num_edges - num_trains - num_vals\n",
    "\n",
    "lp_train_seeds_path = os.path.join(base_dir, \"lp-train-seeds.npy\")\n",
    "lp_train_seeds = edges[:num_trains, :]\n",
    "print(f\"Part of train seeds for link prediction: {lp_train_seeds[:3]}\")\n",
    "np.save(lp_train_seeds_path, lp_train_seeds)\n",
    "print(f\"LP train seeds are saved to {lp_train_seeds_path}\\n\")\n",
    "\n",
    "lp_val_seeds_path = os.path.join(base_dir, \"lp-val-seeds.npy\")\n",
    "lp_val_seeds = edges[num_trains:num_trains+num_vals, :]\n",
    "lp_val_neg_dsts = np.random.randint(0, num_nodes, (num_vals, 10)).reshape(-1)\n",
    "lp_val_neg_srcs = np.repeat(lp_val_seeds[:,0], 10)\n",
    "lp_val_neg_seeds = np.concatenate((lp_val_neg_srcs, lp_val_neg_dsts)).reshape(2,-1).T\n",
    "lp_val_seeds = np.concatenate((lp_val_seeds, lp_val_neg_seeds))\n",
    "print(f\"Part of val seeds for link prediction: {lp_val_seeds[:3]}\")\n",
    "np.save(lp_val_seeds_path, lp_val_seeds)\n",
    "print(f\"LP val seeds are saved to {lp_val_seeds_path}\\n\")\n",
    "\n",
    "lp_val_labels_path = os.path.join(base_dir, \"lp-val-labels.npy\")\n",
    "lp_val_labels = np.empty(num_vals * (10 + 1))\n",
    "lp_val_labels[:num_vals] = 1\n",
    "lp_val_labels[num_vals:] = 0\n",
    "print(f\"Part of val labels for link prediction: {lp_val_labels[:3]}\")\n",
    "np.save(lp_val_labels_path, lp_val_labels)\n",
    "print(f\"LP val labels are saved to {lp_val_labels_path}\\n\")\n",
    "\n",
    "lp_val_indexes_path = os.path.join(base_dir, \"lp-val-indexes.npy\")\n",
    "lp_val_indexes = np.arange(0, num_vals)\n",
    "lp_val_neg_indexes = np.repeat(lp_val_indexes, 10)\n",
    "lp_val_indexes = np.concatenate([lp_val_indexes, lp_val_neg_indexes])\n",
    "print(f\"Part of val indexes for link prediction: {lp_val_indexes[:3]}\")\n",
    "np.save(lp_val_indexes_path, lp_val_indexes)\n",
    "print(f\"LP val indexes are saved to {lp_val_indexes_path}\\n\")\n",
    "\n",
    "lp_test_seeds_path = os.path.join(base_dir, \"lp-test-seeds.npy\")\n",
    "lp_test_seeds = edges[-num_tests:, :]\n",
    "lp_test_neg_dsts = np.random.randint(0, num_nodes, (num_tests, 10)).reshape(-1)\n",
    "lp_test_neg_srcs = np.repeat(lp_test_seeds[:,0], 10)\n",
    "lp_test_neg_seeds = np.concatenate((lp_test_neg_srcs, lp_test_neg_dsts)).reshape(2,-1).T\n",
    "lp_test_seeds = np.concatenate((lp_test_seeds, lp_test_neg_seeds))\n",
    "print(f\"Part of test seeds for link prediction: {lp_test_seeds[:3]}\")\n",
    "np.save(lp_test_seeds_path, lp_test_seeds)\n",
    "print(f\"LP test seeds are saved to {lp_test_seeds_path}\\n\")\n",
    "\n",
    "lp_test_labels_path = os.path.join(base_dir, \"lp-test-labels.npy\")\n",
    "lp_test_labels = np.empty(num_tests * (10 + 1))\n",
    "lp_test_labels[:num_tests] = 1\n",
    "lp_test_labels[num_tests:] = 0\n",
    "print(f\"Part of val labels for link prediction: {lp_test_labels[:3]}\")\n",
    "np.save(lp_test_labels_path, lp_test_labels)\n",
    "print(f\"LP test labels are saved to {lp_test_labels_path}\\n\")\n",
    "\n",
    "lp_test_indexes_path = os.path.join(base_dir, \"lp-test-indexes.npy\")\n",
    "lp_test_indexes = np.arange(0, num_tests)\n",
    "lp_test_neg_indexes = np.repeat(lp_test_indexes, 10)\n",
    "lp_test_indexes = np.concatenate([lp_test_indexes, lp_test_neg_indexes])\n",
    "print(f\"Part of test indexes for link prediction: {lp_test_indexes[:3]}\")\n",
    "np.save(lp_test_indexes_path, lp_test_indexes)\n",
    "print(f\"LP test indexes are saved to {lp_test_indexes_path}\\n\")"
   ]
  },
  {
   "cell_type": "markdown",
   "metadata": {
    "id": "wbk6-wxRK-6S"
   },
   "source": [
    "## Organize Data into YAML File\n",
    "Now we need to create a `metadata.yaml` file which contains the paths, dadta types of graph structure, feature data, training/validation/test sets.\n",
    "\n",
    "Notes:\n",
    "- all path should be relative to `metadata.yaml`.\n",
    "- Below fields are optional and not specified in below example.\n",
    "  - `in_memory`: indicates whether to load dada into memory or `mmap`. Default is `True`.\n",
    "\n",
    "Please refer to [YAML specification](https://github.com/dmlc/dgl/blob/master/docs/source/stochastic_training/ondisk-dataset-specification.rst) for more details."
   ]
  },
  {
   "cell_type": "code",
   "execution_count": 7,
   "metadata": {
    "execution": {
     "iopub.execute_input": "2024-09-20T13:18:13.794795Z",
     "iopub.status.busy": "2024-09-20T13:18:13.794313Z",
     "iopub.status.idle": "2024-09-20T13:18:13.800886Z",
     "shell.execute_reply": "2024-09-20T13:18:13.800028Z"
    },
    "id": "ddGTWW61Lpwp"
   },
   "outputs": [],
   "source": [
    "yaml_content = f\"\"\"\n",
    "    dataset_name: homogeneous_graph_nc_lp\n",
    "    graph:\n",
    "      nodes:\n",
    "        - num: {num_nodes}\n",
    "      edges:\n",
    "        - format: csv\n",
    "          path: {os.path.basename(edges_path)}\n",
    "    feature_data:\n",
    "      - domain: node\n",
    "        name: feat_0\n",
    "        format: numpy\n",
    "        path: {os.path.basename(node_feat_0_path)}\n",
    "      - domain: node\n",
    "        name: feat_1\n",
    "        format: torch\n",
    "        path: {os.path.basename(node_feat_1_path)}\n",
    "      - domain: edge\n",
    "        name: feat_0\n",
    "        format: numpy\n",
    "        path: {os.path.basename(edge_feat_0_path)}\n",
    "      - domain: edge\n",
    "        name: feat_1\n",
    "        format: torch\n",
    "        path: {os.path.basename(edge_feat_1_path)}\n",
    "    tasks:\n",
    "      - name: node_classification\n",
    "        num_classes: 10\n",
    "        train_set:\n",
    "          - data:\n",
    "              - name: seeds\n",
    "                format: numpy\n",
    "                path: {os.path.basename(nc_train_ids_path)}\n",
    "              - name: labels\n",
    "                format: torch\n",
    "                path: {os.path.basename(nc_train_labels_path)}\n",
    "        validation_set:\n",
    "          - data:\n",
    "              - name: seeds\n",
    "                format: numpy\n",
    "                path: {os.path.basename(nc_val_ids_path)}\n",
    "              - name: labels\n",
    "                format: torch\n",
    "                path: {os.path.basename(nc_val_labels_path)}\n",
    "        test_set:\n",
    "          - data:\n",
    "              - name: seeds\n",
    "                format: numpy\n",
    "                path: {os.path.basename(nc_test_ids_path)}\n",
    "              - name: labels\n",
    "                format: torch\n",
    "                path: {os.path.basename(nc_test_labels_path)}\n",
    "      - name: link_prediction\n",
    "        num_classes: 10\n",
    "        train_set:\n",
    "          - data:\n",
    "              - name: seeds\n",
    "                format: numpy\n",
    "                path: {os.path.basename(lp_train_seeds_path)}\n",
    "        validation_set:\n",
    "          - data:\n",
    "              - name: seeds\n",
    "                format: numpy\n",
    "                path: {os.path.basename(lp_val_seeds_path)}\n",
    "              - name: labels\n",
    "                format: numpy\n",
    "                path: {os.path.basename(lp_val_labels_path)}\n",
    "              - name: indexes\n",
    "                format: numpy\n",
    "                path: {os.path.basename(lp_val_indexes_path)}\n",
    "        test_set:\n",
    "          - data:\n",
    "              - name: seeds\n",
    "                format: numpy\n",
    "                path: {os.path.basename(lp_test_seeds_path)}\n",
    "              - name: labels\n",
    "                format: numpy\n",
    "                path: {os.path.basename(lp_test_labels_path)}\n",
    "              - name: indexes\n",
    "                format: numpy\n",
    "                path: {os.path.basename(lp_test_indexes_path)}\n",
    "\"\"\"\n",
    "metadata_path = os.path.join(base_dir, \"metadata.yaml\")\n",
    "with open(metadata_path, \"w\") as f:\n",
    "  f.write(yaml_content)"
   ]
  },
  {
   "cell_type": "markdown",
   "metadata": {
    "id": "kEfybHGhOW7O"
   },
   "source": [
    "## Instantiate `OnDiskDataset`\n",
    "Now we're ready to load dataset via `dgl.graphbolt.OnDiskDataset`. When instantiating, we just pass in the base directory where `metadata.yaml` file lies.\n",
    "\n",
    "During first instantiation, GraphBolt preprocesses the raw data such as constructing `FusedCSCSamplingGraph` from edges. All data including graph, feature data, training/validation/test sets are put into `preprocessed` directory after preprocessing. Any following dataset loading will skip the preprocess stage.\n",
    "\n",
    "After preprocessing, `load()` is required to be called explicitly in order to load graph, feature data and tasks."
   ]
  },
  {
   "cell_type": "code",
   "execution_count": 8,
   "metadata": {
    "execution": {
     "iopub.execute_input": "2024-09-20T13:18:13.803272Z",
     "iopub.status.busy": "2024-09-20T13:18:13.803068Z",
     "iopub.status.idle": "2024-09-20T13:18:13.870213Z",
     "shell.execute_reply": "2024-09-20T13:18:13.869466Z"
    },
    "id": "W58CZoSzOiyo"
   },
   "outputs": [
    {
     "name": "stdout",
     "output_type": "stream",
     "text": [
      "Start to preprocess the on-disk dataset.\n",
      "Finish preprocessing the on-disk dataset.\n",
      "Loaded graph: FusedCSCSamplingGraph(csc_indptr=tensor([    0,     7,    25,  ...,  9986,  9989, 10000], dtype=torch.int32),\n",
      "                      indices=tensor([596, 734, 955,  ..., 407, 992, 418], dtype=torch.int32),\n",
      "                      total_num_nodes=1000, num_edges=10000,)\n",
      "\n",
      "Loaded feature store: TorchBasedFeatureStore(\n",
      "    {(<OnDiskFeatureDataDomain.NODE: 'node'>, None, 'feat_0'): TorchBasedFeature(\n",
      "        feature=tensor([[0.5573, 0.2742, 0.5420, 0.9035, 0.7068],\n",
      "                        [0.0371, 0.9185, 0.0193, 0.6089, 0.0027],\n",
      "                        [0.3886, 0.9704, 0.4707, 0.9728, 0.1974],\n",
      "                        ...,\n",
      "                        [0.2599, 0.2770, 0.8003, 0.7526, 0.8924],\n",
      "                        [0.7060, 0.7482, 0.9547, 0.5151, 0.5603],\n",
      "                        [0.0338, 0.6504, 0.9208, 0.8901, 0.7546]], dtype=torch.float64),\n",
      "        metadata={},\n",
      "    ), (<OnDiskFeatureDataDomain.NODE: 'node'>, None, 'feat_1'): TorchBasedFeature(\n",
      "        feature=tensor([[0.2525, 0.0194, 0.6952, 0.5860, 0.0575],\n",
      "                        [0.9248, 0.3705, 0.9307, 0.4745, 0.7827],\n",
      "                        [0.7371, 0.2093, 0.1115, 0.0696, 0.3846],\n",
      "                        ...,\n",
      "                        [0.3652, 0.1724, 0.2734, 0.1289, 0.6757],\n",
      "                        [0.1657, 0.5822, 0.0243, 0.1959, 0.5408],\n",
      "                        [0.3090, 0.9367, 0.7140, 0.7045, 0.7023]]),\n",
      "        metadata={},\n",
      "    ), (<OnDiskFeatureDataDomain.EDGE: 'edge'>, None, 'feat_0'): TorchBasedFeature(\n",
      "        feature=tensor([[0.5458, 0.6385, 0.7368, 0.9050, 0.9677],\n",
      "                        [0.0714, 0.5687, 0.5736, 0.7730, 0.0124],\n",
      "                        [0.7713, 0.5387, 0.6675, 0.2191, 0.8089],\n",
      "                        ...,\n",
      "                        [0.6328, 0.5657, 0.2402, 0.9328, 0.0449],\n",
      "                        [0.0568, 0.2444, 0.2473, 0.0891, 0.2787],\n",
      "                        [0.5216, 0.0408, 0.0733, 0.9240, 0.6382]], dtype=torch.float64),\n",
      "        metadata={},\n",
      "    ), (<OnDiskFeatureDataDomain.EDGE: 'edge'>, None, 'feat_1'): TorchBasedFeature(\n",
      "        feature=tensor([[1.6303e-01, 9.8200e-01, 7.2213e-01, 4.4767e-01, 5.4404e-01],\n",
      "                        [4.8871e-01, 6.1840e-04, 9.5818e-01, 7.9353e-01, 1.3129e-01],\n",
      "                        [3.9118e-01, 1.3665e-01, 5.4672e-01, 3.6617e-01, 2.5190e-01],\n",
      "                        ...,\n",
      "                        [5.4450e-01, 7.2829e-01, 3.0069e-01, 7.5617e-01, 2.1984e-01],\n",
      "                        [5.3530e-01, 1.1692e-01, 6.7645e-01, 7.3247e-01, 7.1699e-01],\n",
      "                        [2.4083e-01, 7.6386e-01, 7.1633e-01, 9.6770e-03, 5.6547e-01]]),\n",
      "        metadata={},\n",
      "    )}\n",
      ")\n",
      "\n",
      "Loaded node classification task: OnDiskTask(validation_set=ItemSet(\n",
      "               items=(tensor([305, 229, 994, 850, 964, 493, 586, 443, 600, 152, 901, 606, 298, 714,\n",
      "                   369, 321, 363, 253, 417, 914, 179, 718, 687, 448, 365, 426, 414, 268,\n",
      "                   407, 951, 656, 263,  58, 671, 396, 384, 596, 921, 155, 504, 988, 903,\n",
      "                   142, 829, 188, 281,  47, 267, 517, 141, 134, 859, 274, 892, 984, 452,\n",
      "                   146, 244, 217, 602,  92, 271, 684, 202, 490, 743, 630, 419, 628, 973,\n",
      "                   393, 778, 771, 751, 963, 333, 505, 675, 583, 380, 451,   1, 773, 386,\n",
      "                   290,  65, 132, 700, 495, 156, 794, 524, 421, 260,  82, 812, 990, 982,\n",
      "                    89, 106, 619, 189, 739, 286, 277, 336, 440,  14, 500, 287, 101, 482,\n",
      "                   213, 950, 715, 481, 782, 366, 848, 207, 866, 854, 851, 746, 166, 355,\n",
      "                   463, 905, 680, 115, 261, 686, 375, 138, 214, 673, 728, 341, 636,  79,\n",
      "                   880, 622, 131, 957, 954, 312, 180, 567, 877, 103, 912, 610, 325, 641,\n",
      "                   979,  24, 433,  71, 357, 335, 292, 209, 428, 568,  49, 974, 478, 349,\n",
      "                   590, 377,  56, 559, 772, 872, 727, 307,  11, 109,  73, 224, 915, 624,\n",
      "                   924, 283, 329, 296, 868, 282, 112, 331,  53, 611, 631, 474, 665, 509,\n",
      "                    54, 846, 522, 439], dtype=torch.int32), tensor([1, 8, 4, 8, 0, 2, 7, 0, 3, 3, 8, 3, 3, 9, 2, 7, 6, 7, 4, 2, 6, 8, 2, 7,\n",
      "                   6, 4, 1, 7, 1, 5, 9, 5, 7, 8, 5, 2, 4, 9, 9, 6, 3, 1, 4, 0, 6, 6, 7, 9,\n",
      "                   1, 3, 1, 4, 1, 3, 5, 7, 0, 4, 9, 7, 3, 9, 2, 8, 6, 6, 4, 4, 4, 3, 1, 8,\n",
      "                   8, 4, 0, 6, 0, 7, 1, 0, 7, 3, 0, 7, 4, 1, 1, 9, 0, 2, 2, 4, 3, 1, 6, 0,\n",
      "                   1, 4, 3, 7, 3, 4, 1, 3, 0, 4, 2, 9, 6, 4, 4, 7, 2, 9, 5, 6, 4, 7, 2, 3,\n",
      "                   8, 6, 8, 4, 7, 3, 8, 5, 5, 7, 9, 6, 7, 9, 4, 5, 7, 9, 7, 8, 2, 1, 5, 2,\n",
      "                   4, 5, 5, 7, 2, 7, 5, 4, 1, 9, 8, 0, 9, 4, 4, 6, 1, 6, 0, 7, 0, 1, 8, 2,\n",
      "                   5, 3, 2, 8, 0, 3, 8, 3, 2, 5, 1, 1, 8, 0, 8, 0, 2, 2, 5, 8, 9, 1, 7, 0,\n",
      "                   2, 2, 9, 0, 8, 8, 2, 3])),\n",
      "               names=('seeds', 'labels'),\n",
      "           ),\n",
      "           train_set=ItemSet(\n",
      "               items=(tensor([647, 512,  78,  67, 976, 173, 966, 737, 997, 816, 445, 607, 638,  68,\n",
      "                   117, 640,  28, 264, 199, 579, 755, 821, 251, 383,  13, 248, 471, 738,\n",
      "                   172,  42, 425, 409, 864, 780, 779, 557,   0, 983, 119, 114, 412, 985,\n",
      "                   330, 110, 299, 635, 725, 526, 122, 223, 704, 394, 273, 885, 459, 379,\n",
      "                   337, 541, 539, 657, 352, 258, 338, 913, 228, 993, 949, 862, 220, 740,\n",
      "                   770, 810, 376, 893, 540, 623, 457, 742, 276,  29, 757, 521, 461, 102,\n",
      "                   464, 368, 113, 236, 183, 359, 168, 995, 487, 626, 186, 513, 917, 566,\n",
      "                     6, 201, 835, 200, 449, 676, 130, 503, 698,  98, 371, 387, 225, 719,\n",
      "                   827, 762, 547,  96,  10, 123, 918, 937, 807, 941, 532, 564, 395, 317,\n",
      "                   479, 646, 111, 661, 498,   4,  12, 162, 575, 289, 658, 549, 662, 831,\n",
      "                   689, 692, 453, 747, 592, 706, 120,  63, 218, 709,  77, 472, 143, 703,\n",
      "                   928, 161, 520, 534, 818, 693, 415, 929, 580, 721, 767,  76, 749, 655,\n",
      "                   884, 663,  72, 960,  88, 391, 160, 691, 528, 275, 679, 147, 358, 653,\n",
      "                   753, 938, 362, 494, 496, 789,  30, 838, 672, 246, 266, 238, 400, 923,\n",
      "                   764, 791, 969, 936, 841, 826,  74, 667, 411, 558, 151, 278, 458, 392,\n",
      "                   506, 682, 820,  25, 871, 793, 446, 343,  62, 694, 965, 483, 515, 257,\n",
      "                   944, 978, 429, 203,  57, 927, 712, 576, 345, 170,  61, 163, 535, 174,\n",
      "                   616, 206, 185, 781, 625, 413, 116, 730, 837, 284, 221, 241, 627, 154,\n",
      "                   279, 378, 750, 347, 194, 908, 259, 346,  19, 129, 637, 857, 932, 127,\n",
      "                   881, 843,   3, 830, 318, 802, 806, 573,  66, 823, 353, 774, 805, 731,\n",
      "                   875, 360, 198, 561, 442, 291, 690, 594, 845, 300, 788, 107, 726, 456,\n",
      "                    84, 861, 870, 644, 968, 659, 230, 894, 326, 931, 555, 436, 980, 986,\n",
      "                   815, 518, 245, 437, 499, 350, 615, 399, 303, 237, 240, 584, 754, 930,\n",
      "                   247,  87, 920, 668, 803, 867, 465, 475, 582, 256, 952, 140, 492, 787,\n",
      "                   863,  35, 620,   5, 800, 670, 542, 617, 381, 340, 792, 883, 699, 137,\n",
      "                   514, 210,  97, 320, 702, 466, 403,  32, 652, 193, 444, 971, 327, 427,\n",
      "                   178, 833, 745, 722, 922, 491, 906, 480, 847, 897, 450, 295,  69, 531,\n",
      "                   808, 645, 597,  22, 204, 373, 799, 484, 553, 306, 323, 334, 639, 462,\n",
      "                   315, 126, 562, 546, 643,   9, 208, 570, 786, 795, 159, 629, 612, 297,\n",
      "                   999, 748, 589, 139, 344, 288, 598, 176, 677,  99, 834, 169, 972, 269,\n",
      "                   813,  41, 190, 900, 828, 756, 293, 361, 674, 817, 609, 809, 852, 402,\n",
      "                   879, 713, 280, 696, 798, 536, 250, 933, 942,  26, 550, 510, 604,  18,\n",
      "                   962, 955, 836, 783, 790, 948, 844, 144, 621, 339, 470, 865, 324,  36,\n",
      "                   711, 418, 811, 572, 910,  91, 935, 222, 729, 858, 733, 548, 211,  59,\n",
      "                   563, 136, 853, 761, 422, 265, 585, 587, 309, 945, 388, 849, 171, 801,\n",
      "                   410, 886, 613,   7, 825, 537, 397, 192, 571, 511, 992, 959, 556, 654,\n",
      "                   516, 701, 158, 302, 601, 389, 744, 460, 860, 438, 824, 227, 398, 902,\n",
      "                   839, 574, 695, 226, 734,  50,  38, 150, 164, 308, 254, 285, 765, 777,\n",
      "                    21, 313, 149, 486, 796,  31, 430, 697,  83, 477, 432, 167, 681, 759,\n",
      "                   939, 784, 581, 953, 314, 822, 565, 814,  52, 760, 819, 416, 898, 519,\n",
      "                   882, 424, 545, 588, 234, 732, 135, 523,  43, 157, 660,  75, 648, 175,\n",
      "                   408,  34,  37,  95, 431,  64, 311,  90, 145, 651, 560, 255, 926, 916,\n",
      "                    45, 538, 666, 235, 577, 501, 605, 184, 925, 911,  33, 763],\n",
      "                  dtype=torch.int32), tensor([4, 9, 6, 8, 9, 6, 0, 8, 0, 1, 3, 9, 1, 2, 0, 5, 6, 0, 2, 5, 0, 0, 0, 8,\n",
      "                   0, 9, 7, 2, 9, 5, 2, 9, 5, 4, 1, 5, 8, 2, 5, 4, 4, 6, 5, 7, 7, 6, 8, 7,\n",
      "                   0, 9, 6, 7, 3, 6, 1, 5, 7, 9, 1, 6, 8, 7, 7, 4, 1, 1, 8, 2, 8, 6, 2, 9,\n",
      "                   9, 1, 8, 0, 3, 9, 6, 4, 3, 0, 2, 4, 6, 2, 5, 2, 5, 4, 1, 9, 4, 0, 2, 0,\n",
      "                   3, 9, 9, 4, 2, 3, 5, 9, 5, 4, 6, 4, 7, 4, 1, 2, 7, 7, 6, 2, 6, 2, 1, 9,\n",
      "                   4, 9, 6, 1, 0, 5, 3, 8, 5, 0, 5, 8, 8, 2, 0, 8, 0, 8, 5, 6, 0, 4, 3, 8,\n",
      "                   6, 3, 1, 0, 3, 8, 1, 4, 2, 5, 8, 4, 6, 7, 5, 4, 2, 4, 2, 4, 5, 7, 3, 2,\n",
      "                   3, 8, 9, 3, 1, 0, 7, 4, 3, 6, 6, 0, 1, 4, 1, 5, 2, 7, 0, 2, 8, 9, 8, 5,\n",
      "                   2, 5, 8, 8, 7, 4, 9, 1, 8, 3, 7, 3, 3, 6, 4, 8, 4, 8, 1, 2, 2, 7, 2, 9,\n",
      "                   5, 2, 8, 1, 9, 9, 8, 9, 9, 9, 6, 4, 3, 1, 3, 2, 3, 4, 9, 0, 1, 4, 8, 5,\n",
      "                   0, 6, 8, 6, 9, 3, 5, 4, 0, 7, 7, 1, 1, 8, 9, 9, 4, 9, 8, 6, 7, 3, 1, 3,\n",
      "                   5, 9, 4, 1, 3, 3, 8, 9, 9, 1, 3, 0, 0, 8, 1, 1, 0, 1, 4, 0, 4, 3, 7, 5,\n",
      "                   4, 4, 8, 2, 2, 6, 0, 2, 7, 1, 6, 3, 9, 5, 3, 4, 3, 7, 8, 4, 2, 6, 5, 1,\n",
      "                   0, 7, 3, 6, 3, 3, 5, 8, 2, 3, 5, 9, 2, 5, 9, 3, 1, 2, 5, 2, 5, 8, 9, 8,\n",
      "                   2, 3, 6, 1, 3, 4, 5, 9, 6, 4, 7, 8, 8, 1, 4, 0, 3, 0, 8, 1, 4, 9, 9, 2,\n",
      "                   7, 1, 6, 6, 5, 0, 1, 3, 5, 2, 6, 6, 8, 3, 4, 5, 5, 4, 6, 0, 6, 9, 3, 3,\n",
      "                   8, 6, 1, 4, 7, 6, 2, 2, 9, 3, 7, 9, 3, 3, 3, 5, 4, 6, 3, 7, 8, 5, 9, 4,\n",
      "                   6, 4, 0, 1, 8, 0, 8, 0, 6, 7, 5, 5, 2, 0, 5, 1, 3, 1, 8, 3, 2, 2, 5, 7,\n",
      "                   3, 0, 2, 0, 7, 2, 9, 0, 1, 3, 7, 6, 3, 3, 9, 6, 2, 9, 8, 9, 5, 5, 4, 3,\n",
      "                   0, 8, 7, 9, 9, 7, 4, 3, 2, 9, 1, 9, 7, 7, 9, 5, 2, 3, 6, 2, 8, 3, 2, 9,\n",
      "                   4, 2, 0, 1, 2, 6, 4, 9, 9, 4, 7, 9, 1, 4, 5, 4, 0, 5, 8, 3, 3, 7, 8, 3,\n",
      "                   1, 3, 9, 8, 5, 6, 2, 7, 6, 7, 4, 5, 1, 7, 0, 5, 9, 4, 4, 1, 3, 4, 5, 2,\n",
      "                   1, 1, 1, 2, 7, 4, 3, 1, 1, 9, 8, 4, 4, 5, 7, 6, 1, 2, 7, 6, 0, 8, 3, 1,\n",
      "                   8, 9, 0, 7, 6, 3, 4, 2, 3, 8, 7, 5, 9, 0, 4, 6, 3, 9, 9, 7, 2, 0, 1, 7,\n",
      "                   7, 9, 1, 2, 1, 8, 8, 2, 3, 2, 8, 2, 8, 0, 3, 5, 5, 1, 4, 6, 8, 3, 9, 4])),\n",
      "               names=('seeds', 'labels'),\n",
      "           ),\n",
      "           test_set=ItemSet(\n",
      "               items=(tensor([970, 197,  20, 342, 685, 775, 374,   2, 956, 294, 243, 804, 614, 252,\n",
      "                   348, 434, 649, 981, 165, 316, 683, 832, 455, 328, 454, 233, 544, 104,\n",
      "                   608, 633, 319, 406, 423,  80, 618, 907, 390, 869, 842, 998, 385, 382,\n",
      "                   121, 890, 919, 351, 148, 961, 367, 669, 736, 591, 876, 441, 603, 118,\n",
      "                   533,  46,   8, 527, 191, 975, 529, 530, 716, 785, 469, 977, 766, 593,\n",
      "                    81, 404, 232, 249, 650, 467, 895, 554, 100, 909,  70, 710, 370, 569,\n",
      "                   124, 212, 372, 525, 946, 489, 187,  86, 768, 552, 354, 301, 720, 401,\n",
      "                   216, 332,  17, 996, 904,  85, 717, 133,  60, 723, 878, 958,  16, 270,\n",
      "                    40, 420, 989,  44, 741, 678, 435, 891, 543, 177, 889, 239, 476, 502,\n",
      "                    39, 595, 707, 896, 262, 642, 488, 231,  93,  27, 943,  23, 551, 991,\n",
      "                   182, 304, 599, 310, 840,  51, 508, 688, 578, 196,  48, 940, 874, 899,\n",
      "                   507, 855, 242, 108, 888, 473, 272, 967, 769, 215, 724, 776, 735, 105,\n",
      "                   219, 708, 934, 128, 468, 752, 322, 356, 153,  15, 485, 758, 181, 664,\n",
      "                   205, 405, 705, 987, 856, 887, 125, 634, 873, 447, 797, 947, 497, 364,\n",
      "                   195, 632,  55,  94], dtype=torch.int32), tensor([2, 3, 7, 7, 2, 2, 5, 8, 2, 5, 2, 3, 5, 6, 8, 7, 6, 3, 8, 9, 5, 7, 5, 1,\n",
      "                   7, 6, 1, 2, 9, 3, 7, 8, 2, 5, 4, 5, 8, 6, 5, 6, 7, 4, 6, 9, 9, 7, 2, 9,\n",
      "                   0, 6, 4, 1, 9, 0, 1, 4, 0, 6, 8, 5, 8, 0, 0, 5, 1, 1, 0, 6, 6, 0, 3, 1,\n",
      "                   8, 3, 9, 5, 5, 5, 6, 1, 9, 7, 5, 0, 1, 9, 1, 4, 4, 3, 7, 6, 2, 8, 9, 9,\n",
      "                   1, 4, 9, 4, 3, 4, 5, 3, 3, 1, 5, 2, 5, 5, 3, 3, 4, 0, 7, 3, 5, 9, 6, 9,\n",
      "                   7, 5, 4, 3, 7, 4, 4, 0, 5, 5, 1, 1, 4, 7, 6, 3, 9, 7, 1, 9, 6, 0, 2, 2,\n",
      "                   1, 0, 3, 5, 4, 1, 2, 4, 7, 4, 6, 1, 2, 6, 0, 4, 1, 5, 2, 7, 0, 0, 2, 3,\n",
      "                   6, 4, 4, 2, 4, 4, 1, 9, 6, 7, 3, 1, 9, 1, 9, 3, 9, 6, 0, 5, 1, 2, 9, 2,\n",
      "                   4, 5, 6, 8, 8, 6, 5, 1])),\n",
      "               names=('seeds', 'labels'),\n",
      "           ),\n",
      "           metadata={'name': 'node_classification', 'num_classes': 10},)\n",
      "\n",
      "Loaded link prediction task: OnDiskTask(validation_set=ItemSet(\n",
      "               items=(tensor([[279, 223],\n",
      "                   [601, 891],\n",
      "                   [720, 819],\n",
      "                   ...,\n",
      "                   [535, 887],\n",
      "                   [535, 408],\n",
      "                   [535, 746]], dtype=torch.int32), tensor([1., 1., 1.,  ..., 0., 0., 0.], dtype=torch.float64), tensor([   0,    1,    2,  ..., 1999, 1999, 1999])),\n",
      "               names=('seeds', 'labels', 'indexes'),\n",
      "           ),\n",
      "           train_set=ItemSet(\n",
      "               items=(tensor([[414, 834],\n",
      "                   [582, 807],\n",
      "                   [309, 400],\n",
      "                   ...,\n",
      "                   [668, 535],\n",
      "                   [ 27, 772],\n",
      "                   [ 68,  89]], dtype=torch.int32),),\n",
      "               names=('seeds',),\n",
      "           ),\n",
      "           test_set=ItemSet(\n",
      "               items=(tensor([[786,  39],\n",
      "                   [ 30, 426],\n",
      "                   [762, 737],\n",
      "                   ...,\n",
      "                   [603,  30],\n",
      "                   [603, 774],\n",
      "                   [603, 895]], dtype=torch.int32), tensor([1., 1., 1.,  ..., 0., 0., 0.], dtype=torch.float64), tensor([   0,    1,    2,  ..., 1999, 1999, 1999])),\n",
      "               names=('seeds', 'labels', 'indexes'),\n",
      "           ),\n",
      "           metadata={'name': 'link_prediction', 'num_classes': 10},)\n",
      "\n"
     ]
    },
    {
     "name": "stderr",
     "output_type": "stream",
     "text": [
      "/dgl/python/dgl/graphbolt/impl/ondisk_dataset.py:463: GBWarning: Edge feature is stored, but edge IDs are not saved.\n",
      "  gb_warning(\"Edge feature is stored, but edge IDs are not saved.\")\n"
     ]
    }
   ],
   "source": [
    "dataset = gb.OnDiskDataset(base_dir).load()\n",
    "graph = dataset.graph\n",
    "print(f\"Loaded graph: {graph}\\n\")\n",
    "\n",
    "feature = dataset.feature\n",
    "print(f\"Loaded feature store: {feature}\\n\")\n",
    "\n",
    "tasks = dataset.tasks\n",
    "nc_task = tasks[0]\n",
    "print(f\"Loaded node classification task: {nc_task}\\n\")\n",
    "lp_task = tasks[1]\n",
    "print(f\"Loaded link prediction task: {lp_task}\\n\")"
   ]
  }
 ],
 "metadata": {
  "colab": {
   "private_outputs": true,
   "provenance": []
  },
  "kernelspec": {
   "display_name": "Python 3",
   "name": "python3"
  },
  "language_info": {
   "codemirror_mode": {
    "name": "ipython",
    "version": 3
   },
   "file_extension": ".py",
   "mimetype": "text/x-python",
   "name": "python",
   "nbconvert_exporter": "python",
   "pygments_lexer": "ipython3",
   "version": "3.10.14"
  }
 },
 "nbformat": 4,
 "nbformat_minor": 0
}

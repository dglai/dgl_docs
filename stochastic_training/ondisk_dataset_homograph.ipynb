{
 "cells": [
  {
   "cell_type": "markdown",
   "metadata": {
    "id": "FnFhPMaAfLtJ"
   },
   "source": [
    "# OnDiskDataset for Homogeneous Graph\n",
    "\n",
    "[![Open In Colab](https://colab.research.google.com/assets/colab-badge.svg)](https://colab.research.google.com/github/dmlc/dgl/blob/master/notebooks/stochastic_training/ondisk_dataset_homograph.ipynb) [![GitHub](https://img.shields.io/badge/-View%20on%20GitHub-181717?logo=github&logoColor=ffffff)](https://github.com/dmlc/dgl/blob/master/notebooks/stochastic_training/ondisk_dataset_homograph.ipynb)\n",
    "\n",
    "This tutorial shows how to create `OnDiskDataset` for homogeneous graph that could be used in **GraphBolt** framework.\n",
    "\n",
    "By the end of this tutorial, you will be able to\n",
    "\n",
    "- organize graph structure data.\n",
    "- organize feature data.\n",
    "- organize training/validation/test set for specific tasks.\n",
    "\n",
    "To create an ``OnDiskDataset`` object, you need to organize all the data including graph structure, feature data and tasks into a directory. The directory should contain a ``metadata.yaml`` file that describes the metadata of the dataset.\n",
    "\n",
    "Now let's generate various data step by step and organize them together to instantiate `OnDiskDataset` finally."
   ]
  },
  {
   "cell_type": "markdown",
   "metadata": {
    "id": "Wlb19DtWgtzq"
   },
   "source": [
    "## Install DGL package"
   ]
  },
  {
   "cell_type": "code",
   "execution_count": 1,
   "metadata": {
    "execution": {
     "iopub.execute_input": "2024-09-18T08:53:47.075199Z",
     "iopub.status.busy": "2024-09-18T08:53:47.074901Z",
     "iopub.status.idle": "2024-09-18T08:53:50.857238Z",
     "shell.execute_reply": "2024-09-18T08:53:50.856570Z"
    },
    "id": "UojlT9ZGgyr9"
   },
   "outputs": [
    {
     "name": "stdout",
     "output_type": "stream",
     "text": [
      "Looking in links: https://data.dgl.ai/wheels-test/repo.html\r\n",
      "Requirement already satisfied: dgl in /opt/conda/envs/dgl-dev-cpu/lib/python3.10/site-packages (2.2a240410)\r\n",
      "Requirement already satisfied: numpy>=1.14.0 in /opt/conda/envs/dgl-dev-cpu/lib/python3.10/site-packages (from dgl) (1.26.4)\r\n",
      "Requirement already satisfied: scipy>=1.1.0 in /opt/conda/envs/dgl-dev-cpu/lib/python3.10/site-packages (from dgl) (1.14.0)\r\n"
     ]
    },
    {
     "name": "stdout",
     "output_type": "stream",
     "text": [
      "Requirement already satisfied: networkx>=2.1 in /opt/conda/envs/dgl-dev-cpu/lib/python3.10/site-packages (from dgl) (3.3)\r\n",
      "Requirement already satisfied: requests>=2.19.0 in /opt/conda/envs/dgl-dev-cpu/lib/python3.10/site-packages (from dgl) (2.32.3)\r\n",
      "Requirement already satisfied: tqdm in /opt/conda/envs/dgl-dev-cpu/lib/python3.10/site-packages (from dgl) (4.66.5)\r\n",
      "Requirement already satisfied: psutil>=5.8.0 in /opt/conda/envs/dgl-dev-cpu/lib/python3.10/site-packages (from dgl) (6.0.0)\r\n",
      "Requirement already satisfied: torchdata>=0.5.0 in /opt/conda/envs/dgl-dev-cpu/lib/python3.10/site-packages (from dgl) (0.7.1)\r\n",
      "Requirement already satisfied: pandas in /opt/conda/envs/dgl-dev-cpu/lib/python3.10/site-packages (from dgl) (2.2.2)\r\n",
      "Requirement already satisfied: charset-normalizer<4,>=2 in /opt/conda/envs/dgl-dev-cpu/lib/python3.10/site-packages (from requests>=2.19.0->dgl) (3.3.2)\r\n",
      "Requirement already satisfied: idna<4,>=2.5 in /opt/conda/envs/dgl-dev-cpu/lib/python3.10/site-packages (from requests>=2.19.0->dgl) (3.8)\r\n",
      "Requirement already satisfied: urllib3<3,>=1.21.1 in /opt/conda/envs/dgl-dev-cpu/lib/python3.10/site-packages (from requests>=2.19.0->dgl) (2.2.2)\r\n",
      "Requirement already satisfied: certifi>=2017.4.17 in /opt/conda/envs/dgl-dev-cpu/lib/python3.10/site-packages (from requests>=2.19.0->dgl) (2024.7.4)\r\n",
      "Requirement already satisfied: torch>=2 in /opt/conda/envs/dgl-dev-cpu/lib/python3.10/site-packages (from torchdata>=0.5.0->dgl) (2.4.0+cpu)\r\n"
     ]
    },
    {
     "name": "stdout",
     "output_type": "stream",
     "text": [
      "Requirement already satisfied: python-dateutil>=2.8.2 in /opt/conda/envs/dgl-dev-cpu/lib/python3.10/site-packages (from pandas->dgl) (2.9.0.post0)\r\n",
      "Requirement already satisfied: pytz>=2020.1 in /opt/conda/envs/dgl-dev-cpu/lib/python3.10/site-packages (from pandas->dgl) (2024.1)\r\n",
      "Requirement already satisfied: tzdata>=2022.7 in /opt/conda/envs/dgl-dev-cpu/lib/python3.10/site-packages (from pandas->dgl) (2024.1)\r\n",
      "Requirement already satisfied: six>=1.5 in /opt/conda/envs/dgl-dev-cpu/lib/python3.10/site-packages (from python-dateutil>=2.8.2->pandas->dgl) (1.16.0)\r\n",
      "Requirement already satisfied: filelock in /opt/conda/envs/dgl-dev-cpu/lib/python3.10/site-packages (from torch>=2->torchdata>=0.5.0->dgl) (3.15.4)\r\n",
      "Requirement already satisfied: typing-extensions>=4.8.0 in /opt/conda/envs/dgl-dev-cpu/lib/python3.10/site-packages (from torch>=2->torchdata>=0.5.0->dgl) (4.12.2)\r\n",
      "Requirement already satisfied: sympy in /opt/conda/envs/dgl-dev-cpu/lib/python3.10/site-packages (from torch>=2->torchdata>=0.5.0->dgl) (1.13.2)\r\n",
      "Requirement already satisfied: jinja2 in /opt/conda/envs/dgl-dev-cpu/lib/python3.10/site-packages (from torch>=2->torchdata>=0.5.0->dgl) (3.1.4)\r\n",
      "Requirement already satisfied: fsspec in /opt/conda/envs/dgl-dev-cpu/lib/python3.10/site-packages (from torch>=2->torchdata>=0.5.0->dgl) (2024.6.1)\r\n"
     ]
    },
    {
     "name": "stdout",
     "output_type": "stream",
     "text": [
      "Requirement already satisfied: MarkupSafe>=2.0 in /opt/conda/envs/dgl-dev-cpu/lib/python3.10/site-packages (from jinja2->torch>=2->torchdata>=0.5.0->dgl) (2.1.5)\r\n",
      "Requirement already satisfied: mpmath<1.4,>=1.1.0 in /opt/conda/envs/dgl-dev-cpu/lib/python3.10/site-packages (from sympy->torch>=2->torchdata>=0.5.0->dgl) (1.3.0)\r\n"
     ]
    },
    {
     "name": "stdout",
     "output_type": "stream",
     "text": [
      "DGL installed!\n"
     ]
    }
   ],
   "source": [
    "# Install required packages.\n",
    "import os\n",
    "import torch\n",
    "import numpy as np\n",
    "os.environ['TORCH'] = torch.__version__\n",
    "os.environ['DGLBACKEND'] = \"pytorch\"\n",
    "\n",
    "# Install the CPU version.\n",
    "device = torch.device(\"cpu\")\n",
    "!pip install --pre dgl -f https://data.dgl.ai/wheels-test/repo.html\n",
    "\n",
    "try:\n",
    "    import dgl\n",
    "    import dgl.graphbolt as gb\n",
    "    installed = True\n",
    "except ImportError as error:\n",
    "    installed = False\n",
    "    print(error)\n",
    "print(\"DGL installed!\" if installed else \"DGL not found!\")"
   ]
  },
  {
   "cell_type": "markdown",
   "metadata": {
    "id": "2R7WnSbjsfbr"
   },
   "source": [
    "## Data preparation\n",
    "In order to demonstrate how to organize various data, let's create a base directory first."
   ]
  },
  {
   "cell_type": "code",
   "execution_count": 2,
   "metadata": {
    "execution": {
     "iopub.execute_input": "2024-09-18T08:53:50.860185Z",
     "iopub.status.busy": "2024-09-18T08:53:50.859741Z",
     "iopub.status.idle": "2024-09-18T08:53:50.864057Z",
     "shell.execute_reply": "2024-09-18T08:53:50.863462Z"
    },
    "id": "SZipbzyltLfO"
   },
   "outputs": [
    {
     "name": "stdout",
     "output_type": "stream",
     "text": [
      "Created base directory: ./ondisk_dataset_homograph\n"
     ]
    }
   ],
   "source": [
    "base_dir = './ondisk_dataset_homograph'\n",
    "os.makedirs(base_dir, exist_ok=True)\n",
    "print(f\"Created base directory: {base_dir}\")"
   ]
  },
  {
   "cell_type": "markdown",
   "metadata": {
    "id": "qhNtIn_xhlnl"
   },
   "source": [
    "### Generate graph structure data\n",
    "For homogeneous graph, we just need to save edges(namely seeds) into  **Numpy** or **CSV** file.\n",
    "\n",
    "Note:\n",
    "- when saving to **Numpy**, the array requires to be in shape of `(2, N)`. This format is recommended as constructing graph from it is much faster than **CSV** file.\n",
    "- when saving to **CSV** file, do not save index and header.\n"
   ]
  },
  {
   "cell_type": "code",
   "execution_count": 3,
   "metadata": {
    "execution": {
     "iopub.execute_input": "2024-09-18T08:53:50.866488Z",
     "iopub.status.busy": "2024-09-18T08:53:50.866225Z",
     "iopub.status.idle": "2024-09-18T08:53:50.879903Z",
     "shell.execute_reply": "2024-09-18T08:53:50.879310Z"
    },
    "id": "HcBt4G5BmSjr"
   },
   "outputs": [
    {
     "name": "stdout",
     "output_type": "stream",
     "text": [
      "Part of edges: [[180 726]\n",
      " [239 963]\n",
      " [955 106]\n",
      " [665 346]\n",
      " [254 932]]\n",
      "Edges are saved into ./ondisk_dataset_homograph/edges.csv\n"
     ]
    }
   ],
   "source": [
    "import numpy as np\n",
    "import pandas as pd\n",
    "num_nodes = 1000\n",
    "num_edges = 10 * num_nodes\n",
    "edges_path = os.path.join(base_dir, \"edges.csv\")\n",
    "edges = np.random.randint(0, num_nodes, size=(num_edges, 2))\n",
    "\n",
    "print(f\"Part of edges: {edges[:5, :]}\")\n",
    "\n",
    "df = pd.DataFrame(edges)\n",
    "df.to_csv(edges_path, index=False, header=False)\n",
    "\n",
    "print(f\"Edges are saved into {edges_path}\")"
   ]
  },
  {
   "cell_type": "markdown",
   "metadata": {
    "id": "kh-4cPtzpcaH"
   },
   "source": [
    "### Generate feature data for graph\n",
    "For feature data, numpy arrays and torch tensors are supported for now."
   ]
  },
  {
   "cell_type": "code",
   "execution_count": 4,
   "metadata": {
    "execution": {
     "iopub.execute_input": "2024-09-18T08:53:50.882494Z",
     "iopub.status.busy": "2024-09-18T08:53:50.882040Z",
     "iopub.status.idle": "2024-09-18T08:53:50.914223Z",
     "shell.execute_reply": "2024-09-18T08:53:50.913703Z"
    },
    "id": "_PVu1u5brBhF"
   },
   "outputs": [
    {
     "name": "stdout",
     "output_type": "stream",
     "text": [
      "Part of node feature [feat_0]: [[0.91173444 0.14289499 0.40304074 0.60547612 0.04781312]\n",
      " [0.43806185 0.34961098 0.22575532 0.18857794 0.64942545]\n",
      " [0.59972874 0.87337514 0.30104849 0.75953191 0.68500468]]\n",
      "Node feature [feat_0] is saved to ./ondisk_dataset_homograph/node-feat-0.npy\n",
      "\n",
      "Part of node feature [feat_1]: tensor([[0.8673, 0.5584, 0.7387, 0.2207, 0.2020],\n",
      "        [0.1544, 0.0849, 0.6193, 0.7595, 0.0019],\n",
      "        [0.5462, 0.6054, 0.2020, 0.4789, 0.6376]])\n",
      "Node feature [feat_1] is saved to ./ondisk_dataset_homograph/node-feat-1.pt\n",
      "\n",
      "Part of edge feature [feat_0]: [[0.68215723 0.81618407 0.60849116 0.75987194 0.50911709]\n",
      " [0.18716985 0.16168914 0.04034482 0.34310793 0.59521408]\n",
      " [0.8655428  0.86948626 0.86130959 0.31345158 0.72899602]]\n",
      "Edge feature [feat_0] is saved to ./ondisk_dataset_homograph/edge-feat-0.npy\n",
      "\n",
      "Part of edge feature [feat_1]: tensor([[0.6209, 0.6348, 0.8105, 0.9752, 0.4062],\n",
      "        [0.4721, 0.4133, 0.7364, 0.2095, 0.6700],\n",
      "        [0.0563, 0.0053, 0.3099, 0.5550, 0.3943]])\n",
      "Edge feature [feat_1] is saved to ./ondisk_dataset_homograph/edge-feat-1.pt\n",
      "\n"
     ]
    }
   ],
   "source": [
    "# Generate node feature in numpy array.\n",
    "node_feat_0_path = os.path.join(base_dir, \"node-feat-0.npy\")\n",
    "node_feat_0 = np.random.rand(num_nodes, 5)\n",
    "print(f\"Part of node feature [feat_0]: {node_feat_0[:3, :]}\")\n",
    "np.save(node_feat_0_path, node_feat_0)\n",
    "print(f\"Node feature [feat_0] is saved to {node_feat_0_path}\\n\")\n",
    "\n",
    "# Generate another node feature in torch tensor\n",
    "node_feat_1_path = os.path.join(base_dir, \"node-feat-1.pt\")\n",
    "node_feat_1 = torch.rand(num_nodes, 5)\n",
    "print(f\"Part of node feature [feat_1]: {node_feat_1[:3, :]}\")\n",
    "torch.save(node_feat_1, node_feat_1_path)\n",
    "print(f\"Node feature [feat_1] is saved to {node_feat_1_path}\\n\")\n",
    "\n",
    "# Generate edge feature in numpy array.\n",
    "edge_feat_0_path = os.path.join(base_dir, \"edge-feat-0.npy\")\n",
    "edge_feat_0 = np.random.rand(num_edges, 5)\n",
    "print(f\"Part of edge feature [feat_0]: {edge_feat_0[:3, :]}\")\n",
    "np.save(edge_feat_0_path, edge_feat_0)\n",
    "print(f\"Edge feature [feat_0] is saved to {edge_feat_0_path}\\n\")\n",
    "\n",
    "# Generate another edge feature in torch tensor\n",
    "edge_feat_1_path = os.path.join(base_dir, \"edge-feat-1.pt\")\n",
    "edge_feat_1 = torch.rand(num_edges, 5)\n",
    "print(f\"Part of edge feature [feat_1]: {edge_feat_1[:3, :]}\")\n",
    "torch.save(edge_feat_1, edge_feat_1_path)\n",
    "print(f\"Edge feature [feat_1] is saved to {edge_feat_1_path}\\n\")\n"
   ]
  },
  {
   "cell_type": "markdown",
   "metadata": {
    "id": "ZyqgOtsIwzh_"
   },
   "source": [
    "### Generate tasks\n",
    "`OnDiskDataset` supports multiple tasks. For each task, we need to prepare training/validation/test sets respectively. Such sets usually vary among different tasks. In this tutorial, let's create a **Node Classification** task and **Link Prediction** task."
   ]
  },
  {
   "cell_type": "markdown",
   "metadata": {
    "id": "hVxHaDIfzCkr"
   },
   "source": [
    "#### Node Classification Task\n",
    "For node classification task, we need **node IDs** and corresponding **labels** for each training/validation/test set. Like feature data, numpy arrays and torch tensors are supported for these sets."
   ]
  },
  {
   "cell_type": "code",
   "execution_count": 5,
   "metadata": {
    "execution": {
     "iopub.execute_input": "2024-09-18T08:53:50.916759Z",
     "iopub.status.busy": "2024-09-18T08:53:50.916344Z",
     "iopub.status.idle": "2024-09-18T08:53:50.925987Z",
     "shell.execute_reply": "2024-09-18T08:53:50.925468Z"
    },
    "id": "S5-fyBbHzTCO"
   },
   "outputs": [
    {
     "name": "stdout",
     "output_type": "stream",
     "text": [
      "Part of train ids for node classification: [785 978 295]\n",
      "NC train ids are saved to ./ondisk_dataset_homograph/nc-train-ids.npy\n",
      "\n",
      "Part of train labels for node classification: tensor([9, 7, 9])\n",
      "NC train labels are saved to ./ondisk_dataset_homograph/nc-train-labels.pt\n",
      "\n",
      "Part of val ids for node classification: [283 403 151]\n",
      "NC val ids are saved to ./ondisk_dataset_homograph/nc-val-ids.npy\n",
      "\n",
      "Part of val labels for node classification: tensor([7, 0, 3])\n",
      "NC val labels are saved to ./ondisk_dataset_homograph/nc-val-labels.pt\n",
      "\n",
      "Part of test ids for node classification: [571 560 212]\n",
      "NC test ids are saved to ./ondisk_dataset_homograph/nc-test-ids.npy\n",
      "\n",
      "Part of test labels for node classification: tensor([2, 9, 3])\n",
      "NC test labels are saved to ./ondisk_dataset_homograph/nc-test-labels.pt\n",
      "\n"
     ]
    }
   ],
   "source": [
    "num_trains = int(num_nodes * 0.6)\n",
    "num_vals = int(num_nodes * 0.2)\n",
    "num_tests = num_nodes - num_trains - num_vals\n",
    "\n",
    "ids = np.arange(num_nodes)\n",
    "np.random.shuffle(ids)\n",
    "\n",
    "nc_train_ids_path = os.path.join(base_dir, \"nc-train-ids.npy\")\n",
    "nc_train_ids = ids[:num_trains]\n",
    "print(f\"Part of train ids for node classification: {nc_train_ids[:3]}\")\n",
    "np.save(nc_train_ids_path, nc_train_ids)\n",
    "print(f\"NC train ids are saved to {nc_train_ids_path}\\n\")\n",
    "\n",
    "nc_train_labels_path = os.path.join(base_dir, \"nc-train-labels.pt\")\n",
    "nc_train_labels = torch.randint(0, 10, (num_trains,))\n",
    "print(f\"Part of train labels for node classification: {nc_train_labels[:3]}\")\n",
    "torch.save(nc_train_labels, nc_train_labels_path)\n",
    "print(f\"NC train labels are saved to {nc_train_labels_path}\\n\")\n",
    "\n",
    "nc_val_ids_path = os.path.join(base_dir, \"nc-val-ids.npy\")\n",
    "nc_val_ids = ids[num_trains:num_trains+num_vals]\n",
    "print(f\"Part of val ids for node classification: {nc_val_ids[:3]}\")\n",
    "np.save(nc_val_ids_path, nc_val_ids)\n",
    "print(f\"NC val ids are saved to {nc_val_ids_path}\\n\")\n",
    "\n",
    "nc_val_labels_path = os.path.join(base_dir, \"nc-val-labels.pt\")\n",
    "nc_val_labels = torch.randint(0, 10, (num_vals,))\n",
    "print(f\"Part of val labels for node classification: {nc_val_labels[:3]}\")\n",
    "torch.save(nc_val_labels, nc_val_labels_path)\n",
    "print(f\"NC val labels are saved to {nc_val_labels_path}\\n\")\n",
    "\n",
    "nc_test_ids_path = os.path.join(base_dir, \"nc-test-ids.npy\")\n",
    "nc_test_ids = ids[-num_tests:]\n",
    "print(f\"Part of test ids for node classification: {nc_test_ids[:3]}\")\n",
    "np.save(nc_test_ids_path, nc_test_ids)\n",
    "print(f\"NC test ids are saved to {nc_test_ids_path}\\n\")\n",
    "\n",
    "nc_test_labels_path = os.path.join(base_dir, \"nc-test-labels.pt\")\n",
    "nc_test_labels = torch.randint(0, 10, (num_tests,))\n",
    "print(f\"Part of test labels for node classification: {nc_test_labels[:3]}\")\n",
    "torch.save(nc_test_labels, nc_test_labels_path)\n",
    "print(f\"NC test labels are saved to {nc_test_labels_path}\\n\")"
   ]
  },
  {
   "cell_type": "markdown",
   "metadata": {
    "id": "LhAcDCHQ_KJ0"
   },
   "source": [
    "#### Link Prediction Task\n",
    "For link prediction task, we need **seeds** or **corresponding labels and indexes** which representing the pos/neg property and group of the seeds for each training/validation/test set. Like feature data, numpy arrays and torch tensors are supported for these sets."
   ]
  },
  {
   "cell_type": "code",
   "execution_count": 6,
   "metadata": {
    "execution": {
     "iopub.execute_input": "2024-09-18T08:53:50.928406Z",
     "iopub.status.busy": "2024-09-18T08:53:50.928063Z",
     "iopub.status.idle": "2024-09-18T08:53:50.944013Z",
     "shell.execute_reply": "2024-09-18T08:53:50.943506Z"
    },
    "id": "u0jCnXIcAQy4"
   },
   "outputs": [
    {
     "name": "stdout",
     "output_type": "stream",
     "text": [
      "Part of train seeds for link prediction: [[180 726]\n",
      " [239 963]\n",
      " [955 106]]\n",
      "LP train seeds are saved to ./ondisk_dataset_homograph/lp-train-seeds.npy\n",
      "\n",
      "Part of val seeds for link prediction: [[667 484]\n",
      " [ 65 649]\n",
      " [ 28 445]]\n",
      "LP val seeds are saved to ./ondisk_dataset_homograph/lp-val-seeds.npy\n",
      "\n",
      "Part of val labels for link prediction: [1. 1. 1.]\n",
      "LP val labels are saved to ./ondisk_dataset_homograph/lp-val-labels.npy\n",
      "\n",
      "Part of val indexes for link prediction: [0 1 2]\n",
      "LP val indexes are saved to ./ondisk_dataset_homograph/lp-val-indexes.npy\n",
      "\n",
      "Part of test seeds for link prediction: [[788 212]\n",
      " [464 416]\n",
      " [755 395]]\n",
      "LP test seeds are saved to ./ondisk_dataset_homograph/lp-test-seeds.npy\n",
      "\n",
      "Part of val labels for link prediction: [1. 1. 1.]\n",
      "LP test labels are saved to ./ondisk_dataset_homograph/lp-test-labels.npy\n",
      "\n",
      "Part of test indexes for link prediction: [0 1 2]\n",
      "LP test indexes are saved to ./ondisk_dataset_homograph/lp-test-indexes.npy\n",
      "\n"
     ]
    }
   ],
   "source": [
    "num_trains = int(num_edges * 0.6)\n",
    "num_vals = int(num_edges * 0.2)\n",
    "num_tests = num_edges - num_trains - num_vals\n",
    "\n",
    "lp_train_seeds_path = os.path.join(base_dir, \"lp-train-seeds.npy\")\n",
    "lp_train_seeds = edges[:num_trains, :]\n",
    "print(f\"Part of train seeds for link prediction: {lp_train_seeds[:3]}\")\n",
    "np.save(lp_train_seeds_path, lp_train_seeds)\n",
    "print(f\"LP train seeds are saved to {lp_train_seeds_path}\\n\")\n",
    "\n",
    "lp_val_seeds_path = os.path.join(base_dir, \"lp-val-seeds.npy\")\n",
    "lp_val_seeds = edges[num_trains:num_trains+num_vals, :]\n",
    "lp_val_neg_dsts = np.random.randint(0, num_nodes, (num_vals, 10)).reshape(-1)\n",
    "lp_val_neg_srcs = np.repeat(lp_val_seeds[:,0], 10)\n",
    "lp_val_neg_seeds = np.concatenate((lp_val_neg_srcs, lp_val_neg_dsts)).reshape(2,-1).T\n",
    "lp_val_seeds = np.concatenate((lp_val_seeds, lp_val_neg_seeds))\n",
    "print(f\"Part of val seeds for link prediction: {lp_val_seeds[:3]}\")\n",
    "np.save(lp_val_seeds_path, lp_val_seeds)\n",
    "print(f\"LP val seeds are saved to {lp_val_seeds_path}\\n\")\n",
    "\n",
    "lp_val_labels_path = os.path.join(base_dir, \"lp-val-labels.npy\")\n",
    "lp_val_labels = np.empty(num_vals * (10 + 1))\n",
    "lp_val_labels[:num_vals] = 1\n",
    "lp_val_labels[num_vals:] = 0\n",
    "print(f\"Part of val labels for link prediction: {lp_val_labels[:3]}\")\n",
    "np.save(lp_val_labels_path, lp_val_labels)\n",
    "print(f\"LP val labels are saved to {lp_val_labels_path}\\n\")\n",
    "\n",
    "lp_val_indexes_path = os.path.join(base_dir, \"lp-val-indexes.npy\")\n",
    "lp_val_indexes = np.arange(0, num_vals)\n",
    "lp_val_neg_indexes = np.repeat(lp_val_indexes, 10)\n",
    "lp_val_indexes = np.concatenate([lp_val_indexes, lp_val_neg_indexes])\n",
    "print(f\"Part of val indexes for link prediction: {lp_val_indexes[:3]}\")\n",
    "np.save(lp_val_indexes_path, lp_val_indexes)\n",
    "print(f\"LP val indexes are saved to {lp_val_indexes_path}\\n\")\n",
    "\n",
    "lp_test_seeds_path = os.path.join(base_dir, \"lp-test-seeds.npy\")\n",
    "lp_test_seeds = edges[-num_tests:, :]\n",
    "lp_test_neg_dsts = np.random.randint(0, num_nodes, (num_tests, 10)).reshape(-1)\n",
    "lp_test_neg_srcs = np.repeat(lp_test_seeds[:,0], 10)\n",
    "lp_test_neg_seeds = np.concatenate((lp_test_neg_srcs, lp_test_neg_dsts)).reshape(2,-1).T\n",
    "lp_test_seeds = np.concatenate((lp_test_seeds, lp_test_neg_seeds))\n",
    "print(f\"Part of test seeds for link prediction: {lp_test_seeds[:3]}\")\n",
    "np.save(lp_test_seeds_path, lp_test_seeds)\n",
    "print(f\"LP test seeds are saved to {lp_test_seeds_path}\\n\")\n",
    "\n",
    "lp_test_labels_path = os.path.join(base_dir, \"lp-test-labels.npy\")\n",
    "lp_test_labels = np.empty(num_tests * (10 + 1))\n",
    "lp_test_labels[:num_tests] = 1\n",
    "lp_test_labels[num_tests:] = 0\n",
    "print(f\"Part of val labels for link prediction: {lp_test_labels[:3]}\")\n",
    "np.save(lp_test_labels_path, lp_test_labels)\n",
    "print(f\"LP test labels are saved to {lp_test_labels_path}\\n\")\n",
    "\n",
    "lp_test_indexes_path = os.path.join(base_dir, \"lp-test-indexes.npy\")\n",
    "lp_test_indexes = np.arange(0, num_tests)\n",
    "lp_test_neg_indexes = np.repeat(lp_test_indexes, 10)\n",
    "lp_test_indexes = np.concatenate([lp_test_indexes, lp_test_neg_indexes])\n",
    "print(f\"Part of test indexes for link prediction: {lp_test_indexes[:3]}\")\n",
    "np.save(lp_test_indexes_path, lp_test_indexes)\n",
    "print(f\"LP test indexes are saved to {lp_test_indexes_path}\\n\")"
   ]
  },
  {
   "cell_type": "markdown",
   "metadata": {
    "id": "wbk6-wxRK-6S"
   },
   "source": [
    "## Organize Data into YAML File\n",
    "Now we need to create a `metadata.yaml` file which contains the paths, dadta types of graph structure, feature data, training/validation/test sets.\n",
    "\n",
    "Notes:\n",
    "- all path should be relative to `metadata.yaml`.\n",
    "- Below fields are optional and not specified in below example.\n",
    "  - `in_memory`: indicates whether to load dada into memory or `mmap`. Default is `True`.\n",
    "\n",
    "Please refer to [YAML specification](https://github.com/dmlc/dgl/blob/master/docs/source/stochastic_training/ondisk-dataset-specification.rst) for more details."
   ]
  },
  {
   "cell_type": "code",
   "execution_count": 7,
   "metadata": {
    "execution": {
     "iopub.execute_input": "2024-09-18T08:53:50.946442Z",
     "iopub.status.busy": "2024-09-18T08:53:50.946139Z",
     "iopub.status.idle": "2024-09-18T08:53:50.951365Z",
     "shell.execute_reply": "2024-09-18T08:53:50.950880Z"
    },
    "id": "ddGTWW61Lpwp"
   },
   "outputs": [],
   "source": [
    "yaml_content = f\"\"\"\n",
    "    dataset_name: homogeneous_graph_nc_lp\n",
    "    graph:\n",
    "      nodes:\n",
    "        - num: {num_nodes}\n",
    "      edges:\n",
    "        - format: csv\n",
    "          path: {os.path.basename(edges_path)}\n",
    "    feature_data:\n",
    "      - domain: node\n",
    "        name: feat_0\n",
    "        format: numpy\n",
    "        path: {os.path.basename(node_feat_0_path)}\n",
    "      - domain: node\n",
    "        name: feat_1\n",
    "        format: torch\n",
    "        path: {os.path.basename(node_feat_1_path)}\n",
    "      - domain: edge\n",
    "        name: feat_0\n",
    "        format: numpy\n",
    "        path: {os.path.basename(edge_feat_0_path)}\n",
    "      - domain: edge\n",
    "        name: feat_1\n",
    "        format: torch\n",
    "        path: {os.path.basename(edge_feat_1_path)}\n",
    "    tasks:\n",
    "      - name: node_classification\n",
    "        num_classes: 10\n",
    "        train_set:\n",
    "          - data:\n",
    "              - name: seeds\n",
    "                format: numpy\n",
    "                path: {os.path.basename(nc_train_ids_path)}\n",
    "              - name: labels\n",
    "                format: torch\n",
    "                path: {os.path.basename(nc_train_labels_path)}\n",
    "        validation_set:\n",
    "          - data:\n",
    "              - name: seeds\n",
    "                format: numpy\n",
    "                path: {os.path.basename(nc_val_ids_path)}\n",
    "              - name: labels\n",
    "                format: torch\n",
    "                path: {os.path.basename(nc_val_labels_path)}\n",
    "        test_set:\n",
    "          - data:\n",
    "              - name: seeds\n",
    "                format: numpy\n",
    "                path: {os.path.basename(nc_test_ids_path)}\n",
    "              - name: labels\n",
    "                format: torch\n",
    "                path: {os.path.basename(nc_test_labels_path)}\n",
    "      - name: link_prediction\n",
    "        num_classes: 10\n",
    "        train_set:\n",
    "          - data:\n",
    "              - name: seeds\n",
    "                format: numpy\n",
    "                path: {os.path.basename(lp_train_seeds_path)}\n",
    "        validation_set:\n",
    "          - data:\n",
    "              - name: seeds\n",
    "                format: numpy\n",
    "                path: {os.path.basename(lp_val_seeds_path)}\n",
    "              - name: labels\n",
    "                format: numpy\n",
    "                path: {os.path.basename(lp_val_labels_path)}\n",
    "              - name: indexes\n",
    "                format: numpy\n",
    "                path: {os.path.basename(lp_val_indexes_path)}\n",
    "        test_set:\n",
    "          - data:\n",
    "              - name: seeds\n",
    "                format: numpy\n",
    "                path: {os.path.basename(lp_test_seeds_path)}\n",
    "              - name: labels\n",
    "                format: numpy\n",
    "                path: {os.path.basename(lp_test_labels_path)}\n",
    "              - name: indexes\n",
    "                format: numpy\n",
    "                path: {os.path.basename(lp_test_indexes_path)}\n",
    "\"\"\"\n",
    "metadata_path = os.path.join(base_dir, \"metadata.yaml\")\n",
    "with open(metadata_path, \"w\") as f:\n",
    "  f.write(yaml_content)"
   ]
  },
  {
   "cell_type": "markdown",
   "metadata": {
    "id": "kEfybHGhOW7O"
   },
   "source": [
    "## Instantiate `OnDiskDataset`\n",
    "Now we're ready to load dataset via `dgl.graphbolt.OnDiskDataset`. When instantiating, we just pass in the base directory where `metadata.yaml` file lies.\n",
    "\n",
    "During first instantiation, GraphBolt preprocesses the raw data such as constructing `FusedCSCSamplingGraph` from edges. All data including graph, feature data, training/validation/test sets are put into `preprocessed` directory after preprocessing. Any following dataset loading will skip the preprocess stage.\n",
    "\n",
    "After preprocessing, `load()` is required to be called explicitly in order to load graph, feature data and tasks."
   ]
  },
  {
   "cell_type": "code",
   "execution_count": 8,
   "metadata": {
    "execution": {
     "iopub.execute_input": "2024-09-18T08:53:50.953668Z",
     "iopub.status.busy": "2024-09-18T08:53:50.953300Z",
     "iopub.status.idle": "2024-09-18T08:53:51.021386Z",
     "shell.execute_reply": "2024-09-18T08:53:51.020776Z"
    },
    "id": "W58CZoSzOiyo"
   },
   "outputs": [
    {
     "name": "stdout",
     "output_type": "stream",
     "text": [
      "Start to preprocess the on-disk dataset.\n",
      "Finish preprocessing the on-disk dataset.\n",
      "Loaded graph: FusedCSCSamplingGraph(csc_indptr=tensor([    0,     4,    14,  ...,  9982,  9995, 10000], dtype=torch.int32),\n",
      "                      indices=tensor([208, 103, 458,  ..., 735,   8, 743], dtype=torch.int32),\n",
      "                      total_num_nodes=1000, num_edges=10000,)\n",
      "\n",
      "Loaded feature store: TorchBasedFeatureStore(\n",
      "    {(<OnDiskFeatureDataDomain.NODE: 'node'>, None, 'feat_0'): TorchBasedFeature(\n",
      "        feature=tensor([[0.9117, 0.1429, 0.4030, 0.6055, 0.0478],\n",
      "                        [0.4381, 0.3496, 0.2258, 0.1886, 0.6494],\n",
      "                        [0.5997, 0.8734, 0.3010, 0.7595, 0.6850],\n",
      "                        ...,\n",
      "                        [0.2219, 0.6298, 0.1152, 0.3575, 0.1018],\n",
      "                        [0.9354, 0.7871, 0.8331, 0.1583, 0.9520],\n",
      "                        [0.8698, 0.1561, 0.7435, 0.9730, 0.7359]], dtype=torch.float64),\n",
      "        metadata={},\n",
      "    ), (<OnDiskFeatureDataDomain.NODE: 'node'>, None, 'feat_1'): TorchBasedFeature(\n",
      "        feature=tensor([[0.8673, 0.5584, 0.7387, 0.2207, 0.2020],\n",
      "                        [0.1544, 0.0849, 0.6193, 0.7595, 0.0019],\n",
      "                        [0.5462, 0.6054, 0.2020, 0.4789, 0.6376],\n",
      "                        ...,\n",
      "                        [0.7659, 0.5843, 0.3688, 0.3750, 0.0629],\n",
      "                        [0.4529, 0.6159, 0.3430, 0.3500, 0.7163],\n",
      "                        [0.0415, 0.5222, 0.9660, 0.8020, 0.1475]]),\n",
      "        metadata={},\n",
      "    ), (<OnDiskFeatureDataDomain.EDGE: 'edge'>, None, 'feat_0'): TorchBasedFeature(\n",
      "        feature=tensor([[0.6822, 0.8162, 0.6085, 0.7599, 0.5091],\n",
      "                        [0.1872, 0.1617, 0.0403, 0.3431, 0.5952],\n",
      "                        [0.8655, 0.8695, 0.8613, 0.3135, 0.7290],\n",
      "                        ...,\n",
      "                        [0.9425, 0.3521, 0.5536, 0.6059, 0.1605],\n",
      "                        [0.6959, 0.2734, 0.2668, 0.3572, 0.0560],\n",
      "                        [0.9125, 0.0307, 0.7809, 0.3291, 0.5156]], dtype=torch.float64),\n",
      "        metadata={},\n",
      "    ), (<OnDiskFeatureDataDomain.EDGE: 'edge'>, None, 'feat_1'): TorchBasedFeature(\n",
      "        feature=tensor([[0.6209, 0.6348, 0.8105, 0.9752, 0.4062],\n",
      "                        [0.4721, 0.4133, 0.7364, 0.2095, 0.6700],\n",
      "                        [0.0563, 0.0053, 0.3099, 0.5550, 0.3943],\n",
      "                        ...,\n",
      "                        [0.8499, 0.4669, 0.8753, 0.7137, 0.6546],\n",
      "                        [0.0083, 0.2944, 0.2861, 0.2923, 0.6305],\n",
      "                        [0.4684, 0.5815, 0.4765, 0.7143, 0.9249]]),\n",
      "        metadata={},\n",
      "    )}\n",
      ")\n",
      "\n",
      "Loaded node classification task: OnDiskTask(validation_set=ItemSet(\n",
      "               items=(tensor([283, 403, 151, 108, 679, 615, 224, 870, 940, 498, 386, 455, 183, 351,\n",
      "                   556, 459, 921, 182, 445, 449, 289, 756, 566, 676, 561, 764, 888, 623,\n",
      "                   944, 154, 613, 318, 601, 919, 516,  40,  32, 494, 840, 563, 765, 831,\n",
      "                   639,  31, 578, 280, 133, 772, 139, 333,  78, 780, 634,  82, 396, 420,\n",
      "                   298, 429, 282, 475, 111, 417, 936, 901, 999, 929, 466, 104, 241, 147,\n",
      "                   942, 437, 163, 485, 413, 244, 178, 536, 390, 160, 172, 783, 112, 411,\n",
      "                   770, 101, 677, 199, 278, 670, 201, 838, 342, 191, 114, 444, 931, 749,\n",
      "                   973, 843, 925,  56, 332, 173,  62, 137, 532, 698,  19, 197, 421, 579,\n",
      "                   384, 686, 266, 755, 331, 168, 227, 451, 801, 230, 991, 842, 131, 263,\n",
      "                   306, 305, 658, 795, 385, 732, 588,  70,  71, 400, 348, 376, 372, 339,\n",
      "                   300, 170, 867, 988, 964, 809,  17, 935,  34, 484, 226, 748,  55, 281,\n",
      "                    83, 776, 474, 750, 580, 470, 826, 800, 787, 568, 837, 107, 806, 608,\n",
      "                   464, 829, 481, 210, 607,  30,  59, 460, 946, 733, 471, 839, 898, 275,\n",
      "                   492, 242, 512, 119, 716, 456, 706, 122, 539, 265, 408, 605,  76, 916,\n",
      "                   777, 744, 303, 667], dtype=torch.int32), tensor([7, 0, 3, 7, 5, 0, 2, 3, 6, 3, 5, 9, 5, 7, 2, 1, 6, 2, 0, 0, 5, 6, 5, 3,\n",
      "                   0, 2, 4, 1, 0, 3, 5, 6, 9, 0, 0, 2, 5, 8, 2, 9, 9, 8, 0, 3, 0, 4, 8, 2,\n",
      "                   4, 1, 8, 4, 1, 7, 3, 0, 7, 1, 9, 1, 9, 6, 9, 8, 8, 9, 4, 3, 8, 9, 2, 1,\n",
      "                   1, 8, 3, 2, 7, 7, 3, 6, 2, 9, 0, 7, 2, 7, 0, 4, 9, 2, 5, 0, 7, 7, 4, 8,\n",
      "                   3, 2, 2, 4, 2, 0, 0, 5, 8, 7, 4, 2, 3, 4, 2, 2, 2, 9, 0, 3, 4, 0, 3, 5,\n",
      "                   6, 0, 8, 6, 4, 0, 2, 0, 4, 7, 2, 8, 6, 3, 1, 9, 5, 2, 7, 3, 9, 6, 4, 8,\n",
      "                   7, 7, 4, 7, 0, 4, 9, 2, 3, 6, 0, 4, 3, 8, 6, 0, 9, 4, 3, 8, 1, 1, 6, 2,\n",
      "                   7, 6, 5, 5, 0, 6, 5, 7, 4, 4, 9, 8, 1, 4, 1, 9, 9, 6, 7, 0, 8, 8, 8, 8,\n",
      "                   6, 5, 0, 9, 9, 4, 4, 4])),\n",
      "               names=('seeds', 'labels'),\n",
      "           ),\n",
      "           train_set=ItemSet(\n",
      "               items=(tensor([785, 978, 295, 587, 913, 301, 802, 869,  91, 430, 143, 194, 832, 960,\n",
      "                   648, 480, 956, 599, 508, 116, 453,  23, 585, 932, 428, 825, 664,  98,\n",
      "                   970, 254, 169,  54, 668, 195, 257, 745, 678, 627, 958, 722,  41, 317,\n",
      "                   235, 179, 718,  52, 358, 240, 685, 654, 955, 393,  36, 858,  16, 728,\n",
      "                   815,  97, 796, 910, 368, 166, 742, 106, 392, 696, 814, 968, 507, 652,\n",
      "                   903, 680, 943, 136, 436, 769, 741, 388, 341, 330,   0, 926, 407,  37,\n",
      "                   542, 590, 893, 469,  13, 486, 457, 612, 600, 211, 525, 979, 930, 236,\n",
      "                   702, 603, 545, 856, 851, 347, 643,  74, 861, 980, 124, 249, 161, 233,\n",
      "                   591, 665, 669, 208, 335, 895, 310, 523, 949, 905, 583, 986,   4, 659,\n",
      "                   518,  45, 320, 548,  80, 522, 425, 939, 617, 868, 510, 193, 349, 569,\n",
      "                   427, 638, 824, 517, 951, 261, 219, 710, 549, 909, 661, 650, 113,  61,\n",
      "                   997, 647, 438,  47, 504, 691, 876, 904, 473, 596,  18, 619, 153, 159,\n",
      "                   782, 395,  22, 402, 204, 565, 781, 140,  28, 830, 798,   5, 505, 526,\n",
      "                   897, 662, 881, 754, 855, 724, 564, 410, 222, 559, 836,  24, 937, 379,\n",
      "                   216, 308, 609, 302, 737, 360,  69, 144, 215, 238, 812, 326, 369, 142,\n",
      "                   127, 441,  65, 983, 315, 530, 854, 994, 740, 751, 554, 792,  67,   9,\n",
      "                   725, 419, 279, 687, 340, 294, 784, 822, 666, 730, 435, 827, 747, 845,\n",
      "                   641, 849, 345, 321, 899, 882, 713,  14, 171, 488, 500, 941, 719,  64,\n",
      "                   922, 239, 158, 292, 715, 886, 828,  26, 841, 509, 817, 521, 527, 948,\n",
      "                   414, 476, 424, 336, 606, 584, 880, 577, 223, 635, 452, 575, 221, 176,\n",
      "                   773, 533, 759, 954, 132,  12, 630, 253, 823, 196, 115, 558, 708, 649,\n",
      "                   375, 721, 572, 736, 247,  49, 297, 175, 259,  94,  95, 251, 287, 712,\n",
      "                   887, 260, 592, 503, 401, 312, 433, 205, 848, 589, 938, 450, 947, 126,\n",
      "                   192,  89, 256, 186, 902,  21, 334, 912, 152, 786, 990, 156, 439, 489,\n",
      "                   434, 714, 850, 181, 705, 767, 258, 288, 381, 790, 717, 394, 866, 626,\n",
      "                   857,  60, 138, 365, 996, 412, 971,  42, 270, 477, 934, 752,  39, 458,\n",
      "                   462, 367, 924, 763, 570, 551, 423, 598, 629, 729, 377, 366, 135, 957,\n",
      "                   128, 165, 461, 255, 123, 914, 636, 672, 593, 683,  50, 760, 329, 908,\n",
      "                   547, 633, 663, 811, 188, 976, 642, 768,  57, 689, 871,  51, 274, 875,\n",
      "                   993, 611, 206, 682, 805, 446, 389, 656,  11, 761, 883, 463, 262, 711,\n",
      "                   788, 511, 502, 995,  33, 493,  58,  66, 998, 655, 873, 214, 496,   8,\n",
      "                   614, 382, 813, 928, 202, 209, 624, 431, 120, 673, 557, 537, 167, 799,\n",
      "                   535, 422, 562, 906,   3, 758, 220, 872, 467, 105, 553, 198,  35, 695,\n",
      "                   350,  38, 524,  86, 237, 821, 797, 920, 529, 874, 325, 896, 374, 277,\n",
      "                   162,  63, 117, 933, 877, 213, 404, 468, 362, 884, 625, 146, 276, 371,\n",
      "                   180, 359, 651,   1,  73, 846, 309, 953, 284, 889, 447,  43, 984,  92,\n",
      "                   555, 818,   7, 479, 229, 129, 322, 228, 918, 844, 852, 644, 774, 200,\n",
      "                   337, 738,  93, 514,  68, 290, 808, 778, 134, 992, 190, 177, 338, 622,\n",
      "                   671, 862, 688, 540, 405, 819, 231, 387, 515, 102, 130, 987, 959, 977,\n",
      "                   727, 789, 380, 576, 268, 271, 299, 586,  27, 962, 148, 543, 141,   2,\n",
      "                   550,  84,  90, 398, 794, 307, 618,  79, 495, 319, 145, 361, 746, 232,\n",
      "                   454, 693, 157, 184,  72, 109, 304, 833, 541, 981, 397, 118,  20, 810,\n",
      "                   969,  10, 218, 911, 174, 779, 753, 640, 692, 328, 448, 432],\n",
      "                  dtype=torch.int32), tensor([9, 7, 9, 4, 8, 1, 4, 9, 0, 7, 3, 5, 2, 4, 8, 2, 2, 3, 4, 6, 7, 3, 2, 8,\n",
      "                   4, 0, 7, 9, 2, 9, 3, 7, 4, 6, 6, 4, 5, 0, 1, 1, 4, 8, 0, 3, 8, 9, 5, 5,\n",
      "                   2, 1, 4, 9, 9, 3, 4, 7, 3, 4, 1, 6, 6, 4, 5, 6, 9, 4, 8, 7, 2, 3, 8, 7,\n",
      "                   4, 2, 1, 0, 5, 8, 5, 1, 0, 4, 1, 3, 0, 6, 0, 8, 3, 9, 8, 4, 0, 4, 4, 2,\n",
      "                   8, 3, 9, 6, 7, 8, 4, 7, 2, 7, 8, 0, 2, 0, 3, 2, 6, 1, 2, 8, 2, 2, 5, 6,\n",
      "                   0, 6, 1, 5, 8, 5, 0, 1, 2, 1, 7, 4, 2, 7, 5, 1, 3, 7, 2, 9, 4, 6, 3, 6,\n",
      "                   2, 6, 9, 2, 6, 0, 9, 3, 6, 3, 5, 4, 3, 4, 4, 3, 0, 7, 8, 1, 6, 0, 3, 0,\n",
      "                   6, 8, 0, 3, 3, 0, 4, 4, 8, 9, 6, 7, 6, 7, 6, 0, 7, 0, 6, 7, 7, 2, 6, 3,\n",
      "                   3, 4, 4, 8, 7, 5, 9, 8, 7, 5, 4, 3, 2, 7, 1, 7, 2, 4, 3, 4, 3, 5, 0, 2,\n",
      "                   7, 9, 6, 1, 8, 3, 7, 7, 4, 1, 2, 4, 0, 5, 3, 7, 2, 1, 8, 8, 0, 7, 4, 8,\n",
      "                   0, 2, 4, 5, 1, 1, 5, 7, 6, 9, 5, 1, 8, 0, 5, 3, 3, 9, 8, 2, 4, 4, 2, 2,\n",
      "                   1, 8, 0, 9, 0, 3, 5, 9, 7, 2, 2, 2, 7, 0, 8, 5, 9, 3, 5, 6, 9, 0, 4, 4,\n",
      "                   5, 0, 5, 6, 2, 9, 9, 8, 0, 4, 7, 5, 4, 8, 3, 3, 3, 4, 4, 6, 4, 4, 9, 7,\n",
      "                   3, 6, 3, 0, 1, 8, 6, 6, 8, 5, 8, 9, 8, 1, 1, 7, 5, 7, 4, 0, 6, 5, 0, 2,\n",
      "                   9, 3, 7, 7, 8, 8, 9, 3, 1, 2, 2, 0, 1, 7, 9, 8, 0, 7, 6, 1, 7, 2, 3, 5,\n",
      "                   1, 2, 3, 5, 4, 1, 0, 7, 2, 2, 7, 5, 1, 8, 5, 9, 2, 1, 8, 8, 5, 0, 0, 1,\n",
      "                   6, 9, 0, 6, 4, 9, 6, 8, 2, 9, 7, 5, 3, 4, 8, 3, 2, 2, 4, 0, 6, 2, 9, 4,\n",
      "                   1, 9, 0, 7, 3, 7, 9, 8, 9, 1, 4, 6, 9, 0, 4, 9, 4, 9, 9, 6, 2, 7, 7, 1,\n",
      "                   0, 8, 5, 4, 6, 3, 4, 2, 7, 3, 6, 2, 3, 4, 3, 7, 3, 1, 6, 6, 0, 5, 7, 7,\n",
      "                   3, 6, 5, 9, 0, 3, 0, 5, 7, 9, 0, 4, 2, 5, 9, 1, 1, 2, 1, 8, 2, 5, 9, 6,\n",
      "                   7, 8, 3, 6, 2, 3, 4, 2, 9, 3, 2, 2, 4, 1, 7, 6, 8, 2, 5, 7, 0, 7, 9, 4,\n",
      "                   8, 6, 9, 3, 4, 2, 0, 7, 4, 4, 9, 2, 5, 7, 2, 5, 3, 2, 9, 8, 9, 2, 7, 9,\n",
      "                   0, 1, 7, 2, 2, 8, 3, 8, 1, 8, 4, 2, 5, 4, 1, 9, 8, 7, 6, 9, 2, 4, 9, 2,\n",
      "                   1, 5, 4, 0, 4, 6, 0, 7, 1, 8, 1, 6, 6, 9, 4, 4, 6, 9, 1, 4, 8, 2, 3, 7,\n",
      "                   5, 6, 0, 7, 9, 6, 1, 7, 9, 1, 3, 3, 4, 7, 1, 2, 1, 9, 9, 0, 3, 1, 0, 1])),\n",
      "               names=('seeds', 'labels'),\n",
      "           ),\n",
      "           test_set=ItemSet(\n",
      "               items=(tensor([571, 560, 212, 865, 894, 482, 103, 243, 269, 597, 709,  87, 972, 707,\n",
      "                   694, 573, 352, 892, 582, 726, 791, 346, 252, 620, 631, 853, 406,  81,\n",
      "                   604, 975, 628, 519, 820, 354, 100,  46, 443, 465, 248, 343, 472, 574,\n",
      "                   775,  96, 771, 697, 720, 632, 267, 985, 923, 344, 704, 807, 860,  88,\n",
      "                   327, 684, 927, 273, 203, 250, 353, 567, 602, 363, 391, 478, 966,   6,\n",
      "                   418, 701, 616, 125, 961, 121,  77, 150, 506, 491, 291, 834, 149,  44,\n",
      "                    15, 409,  85, 675, 293, 296,  99, 723,  29, 989, 878, 766, 285, 272,\n",
      "                   324, 974, 963, 907, 185, 286, 793, 731, 207, 967, 546, 155, 440, 681,\n",
      "                   735, 110, 531, 513, 581, 442, 246, 743, 762, 637, 534, 952, 859, 311,\n",
      "                    75,  25, 544, 863, 356, 621, 245, 499, 900, 965, 982, 187, 594, 416,\n",
      "                   357, 653, 313, 370, 803, 520, 501, 323, 595, 426, 610, 189, 891, 699,\n",
      "                    48, 700, 538, 355, 915, 835, 373, 660, 497, 885, 264, 383, 645, 364,\n",
      "                   234, 864, 217, 415, 164, 490, 703, 917, 690, 945, 483, 552, 757, 734,\n",
      "                   528,  53, 225, 378, 674, 487, 847, 804, 646, 657, 879, 739, 950, 816,\n",
      "                   890, 314, 316, 399], dtype=torch.int32), tensor([2, 9, 3, 7, 1, 1, 8, 1, 9, 4, 7, 1, 8, 5, 8, 6, 8, 3, 4, 3, 0, 7, 5, 0,\n",
      "                   5, 6, 7, 2, 4, 8, 7, 6, 2, 7, 6, 6, 9, 6, 6, 3, 3, 0, 7, 5, 3, 3, 4, 2,\n",
      "                   2, 8, 1, 4, 6, 3, 1, 8, 7, 7, 6, 5, 5, 4, 1, 9, 1, 2, 8, 3, 0, 2, 1, 5,\n",
      "                   9, 8, 6, 2, 2, 1, 7, 6, 8, 8, 1, 2, 4, 1, 7, 3, 2, 3, 0, 4, 4, 4, 0, 3,\n",
      "                   0, 8, 0, 7, 1, 8, 4, 4, 6, 8, 5, 6, 1, 4, 4, 1, 5, 6, 6, 4, 6, 0, 1, 6,\n",
      "                   0, 5, 6, 0, 8, 1, 8, 1, 2, 0, 0, 6, 5, 7, 3, 7, 0, 3, 2, 8, 4, 5, 5, 4,\n",
      "                   5, 4, 4, 3, 2, 4, 3, 4, 0, 0, 0, 6, 3, 7, 0, 6, 4, 5, 9, 5, 3, 5, 0, 1,\n",
      "                   4, 8, 8, 6, 1, 6, 9, 1, 7, 3, 8, 8, 0, 2, 9, 7, 7, 8, 7, 1, 7, 5, 3, 5,\n",
      "                   1, 5, 0, 4, 5, 4, 5, 9])),\n",
      "               names=('seeds', 'labels'),\n",
      "           ),\n",
      "           metadata={'name': 'node_classification', 'num_classes': 10},)\n",
      "\n",
      "Loaded link prediction task: OnDiskTask(validation_set=ItemSet(\n",
      "               items=(tensor([[667, 484],\n",
      "                   [ 65, 649],\n",
      "                   [ 28, 445],\n",
      "                   ...,\n",
      "                   [ 80, 748],\n",
      "                   [ 80, 838],\n",
      "                   [ 80, 174]], dtype=torch.int32), tensor([1., 1., 1.,  ..., 0., 0., 0.], dtype=torch.float64), tensor([   0,    1,    2,  ..., 1999, 1999, 1999])),\n",
      "               names=('seeds', 'labels', 'indexes'),\n",
      "           ),\n",
      "           train_set=ItemSet(\n",
      "               items=(tensor([[180, 726],\n",
      "                   [239, 963],\n",
      "                   [955, 106],\n",
      "                   ...,\n",
      "                   [636, 646],\n",
      "                   [372, 831],\n",
      "                   [835, 254]], dtype=torch.int32),),\n",
      "               names=('seeds',),\n",
      "           ),\n",
      "           test_set=ItemSet(\n",
      "               items=(tensor([[788, 212],\n",
      "                   [464, 416],\n",
      "                   [755, 395],\n",
      "                   ...,\n",
      "                   [528,  38],\n",
      "                   [528, 203],\n",
      "                   [528, 637]], dtype=torch.int32), tensor([1., 1., 1.,  ..., 0., 0., 0.], dtype=torch.float64), tensor([   0,    1,    2,  ..., 1999, 1999, 1999])),\n",
      "               names=('seeds', 'labels', 'indexes'),\n",
      "           ),\n",
      "           metadata={'name': 'link_prediction', 'num_classes': 10},)\n",
      "\n"
     ]
    },
    {
     "name": "stderr",
     "output_type": "stream",
     "text": [
      "/home/ubuntu/dgl_test/python/dgl/graphbolt/internal/utils.py:31: FutureWarning: You are using `torch.load` with `weights_only=False` (the current default value), which uses the default pickle module implicitly. It is possible to construct malicious pickle data which will execute arbitrary code during unpickling (See https://github.com/pytorch/pytorch/blob/main/SECURITY.md#untrusted-models for more details). In a future release, the default value for `weights_only` will be flipped to `True`. This limits the functions that could be executed during unpickling. Arbitrary objects will no longer be allowed to be loaded via this mode unless they are explicitly allowlisted by the user via `torch.serialization.add_safe_globals`. We recommend you start setting `weights_only=True` for any use case where you don't have full control of the loaded file. Please open an issue on GitHub for any issues related to this experimental feature.\n",
      "  return torch.load(path)\n",
      "/home/ubuntu/dgl_test/python/dgl/graphbolt/impl/ondisk_dataset.py:463: GBWarning: Edge feature is stored, but edge IDs are not saved.\n",
      "  gb_warning(\"Edge feature is stored, but edge IDs are not saved.\")\n",
      "/home/ubuntu/dgl_test/python/dgl/graphbolt/impl/ondisk_dataset.py:855: FutureWarning: You are using `torch.load` with `weights_only=False` (the current default value), which uses the default pickle module implicitly. It is possible to construct malicious pickle data which will execute arbitrary code during unpickling (See https://github.com/pytorch/pytorch/blob/main/SECURITY.md#untrusted-models for more details). In a future release, the default value for `weights_only` will be flipped to `True`. This limits the functions that could be executed during unpickling. Arbitrary objects will no longer be allowed to be loaded via this mode unless they are explicitly allowlisted by the user via `torch.serialization.add_safe_globals`. We recommend you start setting `weights_only=True` for any use case where you don't have full control of the loaded file. Please open an issue on GitHub for any issues related to this experimental feature.\n",
      "  return torch.load(graph_topology.path)\n"
     ]
    }
   ],
   "source": [
    "dataset = gb.OnDiskDataset(base_dir).load()\n",
    "graph = dataset.graph\n",
    "print(f\"Loaded graph: {graph}\\n\")\n",
    "\n",
    "feature = dataset.feature\n",
    "print(f\"Loaded feature store: {feature}\\n\")\n",
    "\n",
    "tasks = dataset.tasks\n",
    "nc_task = tasks[0]\n",
    "print(f\"Loaded node classification task: {nc_task}\\n\")\n",
    "lp_task = tasks[1]\n",
    "print(f\"Loaded link prediction task: {lp_task}\\n\")"
   ]
  }
 ],
 "metadata": {
  "colab": {
   "private_outputs": true,
   "provenance": []
  },
  "kernelspec": {
   "display_name": "Python 3",
   "name": "python3"
  },
  "language_info": {
   "codemirror_mode": {
    "name": "ipython",
    "version": 3
   },
   "file_extension": ".py",
   "mimetype": "text/x-python",
   "name": "python",
   "nbconvert_exporter": "python",
   "pygments_lexer": "ipython3",
   "version": "3.10.14"
  }
 },
 "nbformat": 4,
 "nbformat_minor": 0
}

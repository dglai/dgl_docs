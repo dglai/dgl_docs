{
 "cells": [
  {
   "cell_type": "markdown",
   "metadata": {
    "id": "FnFhPMaAfLtJ"
   },
   "source": [
    "# OnDiskDataset for Homogeneous Graph\n",
    "\n",
    "[![Open In Colab](https://colab.research.google.com/assets/colab-badge.svg)](https://colab.research.google.com/github/dmlc/dgl/blob/master/notebooks/stochastic_training/ondisk_dataset_homograph.ipynb) [![GitHub](https://img.shields.io/badge/-View%20on%20GitHub-181717?logo=github&logoColor=ffffff)](https://github.com/dmlc/dgl/blob/master/notebooks/stochastic_training/ondisk_dataset_homograph.ipynb)\n",
    "\n",
    "This tutorial shows how to create `OnDiskDataset` for homogeneous graph that could be used in **GraphBolt** framework.\n",
    "\n",
    "By the end of this tutorial, you will be able to\n",
    "\n",
    "- organize graph structure data.\n",
    "- organize feature data.\n",
    "- organize training/validation/test set for specific tasks.\n",
    "\n",
    "To create an ``OnDiskDataset`` object, you need to organize all the data including graph structure, feature data and tasks into a directory. The directory should contain a ``metadata.yaml`` file that describes the metadata of the dataset.\n",
    "\n",
    "Now let's generate various data step by step and organize them together to instantiate `OnDiskDataset` finally."
   ]
  },
  {
   "cell_type": "markdown",
   "metadata": {
    "id": "Wlb19DtWgtzq"
   },
   "source": [
    "## Install DGL package"
   ]
  },
  {
   "cell_type": "code",
   "execution_count": 1,
   "metadata": {
    "execution": {
     "iopub.execute_input": "2024-10-06T13:17:21.317987Z",
     "iopub.status.busy": "2024-10-06T13:17:21.317419Z",
     "iopub.status.idle": "2024-10-06T13:17:24.350177Z",
     "shell.execute_reply": "2024-10-06T13:17:24.349241Z"
    },
    "id": "UojlT9ZGgyr9"
   },
   "outputs": [
    {
     "name": "stdout",
     "output_type": "stream",
     "text": [
      "Looking in links: https://data.dgl.ai/wheels-test/repo.html\r\n",
      "Requirement already satisfied: dgl in /opt/conda/envs/dgl-dev-cpu/lib/python3.10/site-packages (2.2a240410)\r\n",
      "Requirement already satisfied: numpy>=1.14.0 in /opt/conda/envs/dgl-dev-cpu/lib/python3.10/site-packages (from dgl) (1.26.4)\r\n",
      "Requirement already satisfied: scipy>=1.1.0 in /opt/conda/envs/dgl-dev-cpu/lib/python3.10/site-packages (from dgl) (1.14.1)\r\n",
      "Requirement already satisfied: networkx>=2.1 in /opt/conda/envs/dgl-dev-cpu/lib/python3.10/site-packages (from dgl) (3.3)\r\n",
      "Requirement already satisfied: requests>=2.19.0 in /opt/conda/envs/dgl-dev-cpu/lib/python3.10/site-packages (from dgl) (2.32.3)\r\n",
      "Requirement already satisfied: tqdm in /opt/conda/envs/dgl-dev-cpu/lib/python3.10/site-packages (from dgl) (4.66.5)\r\n",
      "Requirement already satisfied: psutil>=5.8.0 in /opt/conda/envs/dgl-dev-cpu/lib/python3.10/site-packages (from dgl) (6.0.0)\r\n",
      "Requirement already satisfied: torchdata>=0.5.0 in /opt/conda/envs/dgl-dev-cpu/lib/python3.10/site-packages (from dgl) (0.8.0)\r\n",
      "Requirement already satisfied: pandas in /opt/conda/envs/dgl-dev-cpu/lib/python3.10/site-packages (from dgl) (2.2.3)\r\n"
     ]
    },
    {
     "name": "stdout",
     "output_type": "stream",
     "text": [
      "Requirement already satisfied: charset-normalizer<4,>=2 in /opt/conda/envs/dgl-dev-cpu/lib/python3.10/site-packages (from requests>=2.19.0->dgl) (3.3.2)\r\n",
      "Requirement already satisfied: idna<4,>=2.5 in /opt/conda/envs/dgl-dev-cpu/lib/python3.10/site-packages (from requests>=2.19.0->dgl) (3.10)\r\n",
      "Requirement already satisfied: urllib3<3,>=1.21.1 in /opt/conda/envs/dgl-dev-cpu/lib/python3.10/site-packages (from requests>=2.19.0->dgl) (2.2.3)\r\n",
      "Requirement already satisfied: certifi>=2017.4.17 in /opt/conda/envs/dgl-dev-cpu/lib/python3.10/site-packages (from requests>=2.19.0->dgl) (2024.8.30)\r\n",
      "Requirement already satisfied: torch>=2 in /opt/conda/envs/dgl-dev-cpu/lib/python3.10/site-packages (from torchdata>=0.5.0->dgl) (2.1.0+cpu)\r\n"
     ]
    },
    {
     "name": "stdout",
     "output_type": "stream",
     "text": [
      "Requirement already satisfied: python-dateutil>=2.8.2 in /opt/conda/envs/dgl-dev-cpu/lib/python3.10/site-packages (from pandas->dgl) (2.9.0.post0)\r\n",
      "Requirement already satisfied: pytz>=2020.1 in /opt/conda/envs/dgl-dev-cpu/lib/python3.10/site-packages (from pandas->dgl) (2024.2)\r\n",
      "Requirement already satisfied: tzdata>=2022.7 in /opt/conda/envs/dgl-dev-cpu/lib/python3.10/site-packages (from pandas->dgl) (2024.2)\r\n",
      "Requirement already satisfied: six>=1.5 in /opt/conda/envs/dgl-dev-cpu/lib/python3.10/site-packages (from python-dateutil>=2.8.2->pandas->dgl) (1.16.0)\r\n",
      "Requirement already satisfied: filelock in /opt/conda/envs/dgl-dev-cpu/lib/python3.10/site-packages (from torch>=2->torchdata>=0.5.0->dgl) (3.16.1)\r\n",
      "Requirement already satisfied: typing-extensions in /opt/conda/envs/dgl-dev-cpu/lib/python3.10/site-packages (from torch>=2->torchdata>=0.5.0->dgl) (4.12.2)\r\n",
      "Requirement already satisfied: sympy in /opt/conda/envs/dgl-dev-cpu/lib/python3.10/site-packages (from torch>=2->torchdata>=0.5.0->dgl) (1.13.3)\r\n",
      "Requirement already satisfied: jinja2 in /opt/conda/envs/dgl-dev-cpu/lib/python3.10/site-packages (from torch>=2->torchdata>=0.5.0->dgl) (3.1.4)\r\n",
      "Requirement already satisfied: fsspec in /opt/conda/envs/dgl-dev-cpu/lib/python3.10/site-packages (from torch>=2->torchdata>=0.5.0->dgl) (2024.9.0)\r\n"
     ]
    },
    {
     "name": "stdout",
     "output_type": "stream",
     "text": [
      "Requirement already satisfied: MarkupSafe>=2.0 in /opt/conda/envs/dgl-dev-cpu/lib/python3.10/site-packages (from jinja2->torch>=2->torchdata>=0.5.0->dgl) (2.1.5)\r\n",
      "Requirement already satisfied: mpmath<1.4,>=1.1.0 in /opt/conda/envs/dgl-dev-cpu/lib/python3.10/site-packages (from sympy->torch>=2->torchdata>=0.5.0->dgl) (1.3.0)\r\n"
     ]
    },
    {
     "name": "stdout",
     "output_type": "stream",
     "text": [
      "\u001b[33mWARNING: Running pip as the 'root' user can result in broken permissions and conflicting behaviour with the system package manager, possibly rendering your system unusable.It is recommended to use a virtual environment instead: https://pip.pypa.io/warnings/venv. Use the --root-user-action option if you know what you are doing and want to suppress this warning.\u001b[0m\u001b[33m\r\n",
      "\u001b[0m"
     ]
    },
    {
     "name": "stdout",
     "output_type": "stream",
     "text": [
      "DGL installed!\n"
     ]
    }
   ],
   "source": [
    "# Install required packages.\n",
    "import os\n",
    "import torch\n",
    "import numpy as np\n",
    "os.environ['TORCH'] = torch.__version__\n",
    "os.environ['DGLBACKEND'] = \"pytorch\"\n",
    "\n",
    "# Install the CPU version.\n",
    "device = torch.device(\"cpu\")\n",
    "!pip install --pre dgl -f https://data.dgl.ai/wheels-test/repo.html\n",
    "\n",
    "try:\n",
    "    import dgl\n",
    "    import dgl.graphbolt as gb\n",
    "    installed = True\n",
    "except ImportError as error:\n",
    "    installed = False\n",
    "    print(error)\n",
    "print(\"DGL installed!\" if installed else \"DGL not found!\")"
   ]
  },
  {
   "cell_type": "markdown",
   "metadata": {
    "id": "2R7WnSbjsfbr"
   },
   "source": [
    "## Data preparation\n",
    "In order to demonstrate how to organize various data, let's create a base directory first."
   ]
  },
  {
   "cell_type": "code",
   "execution_count": 2,
   "metadata": {
    "execution": {
     "iopub.execute_input": "2024-10-06T13:17:24.352903Z",
     "iopub.status.busy": "2024-10-06T13:17:24.352476Z",
     "iopub.status.idle": "2024-10-06T13:17:24.357212Z",
     "shell.execute_reply": "2024-10-06T13:17:24.356340Z"
    },
    "id": "SZipbzyltLfO"
   },
   "outputs": [
    {
     "name": "stdout",
     "output_type": "stream",
     "text": [
      "Created base directory: ./ondisk_dataset_homograph\n"
     ]
    }
   ],
   "source": [
    "base_dir = './ondisk_dataset_homograph'\n",
    "os.makedirs(base_dir, exist_ok=True)\n",
    "print(f\"Created base directory: {base_dir}\")"
   ]
  },
  {
   "cell_type": "markdown",
   "metadata": {
    "id": "qhNtIn_xhlnl"
   },
   "source": [
    "### Generate graph structure data\n",
    "For homogeneous graph, we just need to save edges(namely seeds) into  **Numpy** or **CSV** file.\n",
    "\n",
    "Note:\n",
    "- when saving to **Numpy**, the array requires to be in shape of `(2, N)`. This format is recommended as constructing graph from it is much faster than **CSV** file.\n",
    "- when saving to **CSV** file, do not save index and header.\n"
   ]
  },
  {
   "cell_type": "code",
   "execution_count": 3,
   "metadata": {
    "execution": {
     "iopub.execute_input": "2024-10-06T13:17:24.359518Z",
     "iopub.status.busy": "2024-10-06T13:17:24.359118Z",
     "iopub.status.idle": "2024-10-06T13:17:24.372670Z",
     "shell.execute_reply": "2024-10-06T13:17:24.371679Z"
    },
    "id": "HcBt4G5BmSjr"
   },
   "outputs": [
    {
     "name": "stdout",
     "output_type": "stream",
     "text": [
      "Part of edges: [[518 239]\n",
      " [ 66 899]\n",
      " [396 139]\n",
      " [222 218]\n",
      " [317 256]]\n",
      "Edges are saved into ./ondisk_dataset_homograph/edges.csv\n"
     ]
    }
   ],
   "source": [
    "import numpy as np\n",
    "import pandas as pd\n",
    "num_nodes = 1000\n",
    "num_edges = 10 * num_nodes\n",
    "edges_path = os.path.join(base_dir, \"edges.csv\")\n",
    "edges = np.random.randint(0, num_nodes, size=(num_edges, 2))\n",
    "\n",
    "print(f\"Part of edges: {edges[:5, :]}\")\n",
    "\n",
    "df = pd.DataFrame(edges)\n",
    "df.to_csv(edges_path, index=False, header=False)\n",
    "\n",
    "print(f\"Edges are saved into {edges_path}\")"
   ]
  },
  {
   "cell_type": "markdown",
   "metadata": {
    "id": "kh-4cPtzpcaH"
   },
   "source": [
    "### Generate feature data for graph\n",
    "For feature data, numpy arrays and torch tensors are supported for now."
   ]
  },
  {
   "cell_type": "code",
   "execution_count": 4,
   "metadata": {
    "execution": {
     "iopub.execute_input": "2024-10-06T13:17:24.375103Z",
     "iopub.status.busy": "2024-10-06T13:17:24.374787Z",
     "iopub.status.idle": "2024-10-06T13:17:24.393229Z",
     "shell.execute_reply": "2024-10-06T13:17:24.392045Z"
    },
    "id": "_PVu1u5brBhF"
   },
   "outputs": [
    {
     "name": "stdout",
     "output_type": "stream",
     "text": [
      "Part of node feature [feat_0]: [[0.20778647 0.83836964 0.82449454 0.80612236 0.13070075]\n",
      " [0.16233194 0.37641252 0.73330799 0.19806751 0.13448652]\n",
      " [0.63125693 0.97089109 0.98977767 0.36359996 0.83019574]]\n",
      "Node feature [feat_0] is saved to ./ondisk_dataset_homograph/node-feat-0.npy\n",
      "\n",
      "Part of node feature [feat_1]: tensor([[0.9389, 0.7885, 0.1216, 0.3682, 0.8896],\n",
      "        [0.5591, 0.8396, 0.9132, 0.3547, 0.3413],\n",
      "        [0.1203, 0.6778, 0.9051, 0.3856, 0.2959]])\n",
      "Node feature [feat_1] is saved to ./ondisk_dataset_homograph/node-feat-1.pt\n",
      "\n",
      "Part of edge feature [feat_0]: [[0.41670569 0.75186866 0.32030348 0.95337512 0.30877878]\n",
      " [0.77167536 0.27781098 0.43244576 0.10563121 0.06577487]\n",
      " [0.20489441 0.60164283 0.66969219 0.91702816 0.48594561]]\n",
      "Edge feature [feat_0] is saved to ./ondisk_dataset_homograph/edge-feat-0.npy\n",
      "\n",
      "Part of edge feature [feat_1]: tensor([[0.7853, 0.7038, 0.7755, 0.6490, 0.6409],\n",
      "        [0.5071, 0.5530, 0.0076, 0.1382, 0.1879],\n",
      "        [0.6724, 0.3703, 0.4819, 0.1065, 0.0515]])\n",
      "Edge feature [feat_1] is saved to ./ondisk_dataset_homograph/edge-feat-1.pt\n",
      "\n"
     ]
    }
   ],
   "source": [
    "# Generate node feature in numpy array.\n",
    "node_feat_0_path = os.path.join(base_dir, \"node-feat-0.npy\")\n",
    "node_feat_0 = np.random.rand(num_nodes, 5)\n",
    "print(f\"Part of node feature [feat_0]: {node_feat_0[:3, :]}\")\n",
    "np.save(node_feat_0_path, node_feat_0)\n",
    "print(f\"Node feature [feat_0] is saved to {node_feat_0_path}\\n\")\n",
    "\n",
    "# Generate another node feature in torch tensor\n",
    "node_feat_1_path = os.path.join(base_dir, \"node-feat-1.pt\")\n",
    "node_feat_1 = torch.rand(num_nodes, 5)\n",
    "print(f\"Part of node feature [feat_1]: {node_feat_1[:3, :]}\")\n",
    "torch.save(node_feat_1, node_feat_1_path)\n",
    "print(f\"Node feature [feat_1] is saved to {node_feat_1_path}\\n\")\n",
    "\n",
    "# Generate edge feature in numpy array.\n",
    "edge_feat_0_path = os.path.join(base_dir, \"edge-feat-0.npy\")\n",
    "edge_feat_0 = np.random.rand(num_edges, 5)\n",
    "print(f\"Part of edge feature [feat_0]: {edge_feat_0[:3, :]}\")\n",
    "np.save(edge_feat_0_path, edge_feat_0)\n",
    "print(f\"Edge feature [feat_0] is saved to {edge_feat_0_path}\\n\")\n",
    "\n",
    "# Generate another edge feature in torch tensor\n",
    "edge_feat_1_path = os.path.join(base_dir, \"edge-feat-1.pt\")\n",
    "edge_feat_1 = torch.rand(num_edges, 5)\n",
    "print(f\"Part of edge feature [feat_1]: {edge_feat_1[:3, :]}\")\n",
    "torch.save(edge_feat_1, edge_feat_1_path)\n",
    "print(f\"Edge feature [feat_1] is saved to {edge_feat_1_path}\\n\")\n"
   ]
  },
  {
   "cell_type": "markdown",
   "metadata": {
    "id": "ZyqgOtsIwzh_"
   },
   "source": [
    "### Generate tasks\n",
    "`OnDiskDataset` supports multiple tasks. For each task, we need to prepare training/validation/test sets respectively. Such sets usually vary among different tasks. In this tutorial, let's create a **Node Classification** task and **Link Prediction** task."
   ]
  },
  {
   "cell_type": "markdown",
   "metadata": {
    "id": "hVxHaDIfzCkr"
   },
   "source": [
    "#### Node Classification Task\n",
    "For node classification task, we need **node IDs** and corresponding **labels** for each training/validation/test set. Like feature data, numpy arrays and torch tensors are supported for these sets."
   ]
  },
  {
   "cell_type": "code",
   "execution_count": 5,
   "metadata": {
    "execution": {
     "iopub.execute_input": "2024-10-06T13:17:24.395422Z",
     "iopub.status.busy": "2024-10-06T13:17:24.395030Z",
     "iopub.status.idle": "2024-10-06T13:17:24.406477Z",
     "shell.execute_reply": "2024-10-06T13:17:24.405752Z"
    },
    "id": "S5-fyBbHzTCO"
   },
   "outputs": [
    {
     "name": "stdout",
     "output_type": "stream",
     "text": [
      "Part of train ids for node classification: [851 211 911]\n",
      "NC train ids are saved to ./ondisk_dataset_homograph/nc-train-ids.npy\n",
      "\n",
      "Part of train labels for node classification: tensor([7, 8, 4])\n",
      "NC train labels are saved to ./ondisk_dataset_homograph/nc-train-labels.pt\n",
      "\n",
      "Part of val ids for node classification: [571 913 291]\n",
      "NC val ids are saved to ./ondisk_dataset_homograph/nc-val-ids.npy\n",
      "\n",
      "Part of val labels for node classification: tensor([8, 9, 3])\n",
      "NC val labels are saved to ./ondisk_dataset_homograph/nc-val-labels.pt\n",
      "\n",
      "Part of test ids for node classification: [589 360 799]\n",
      "NC test ids are saved to ./ondisk_dataset_homograph/nc-test-ids.npy\n",
      "\n",
      "Part of test labels for node classification: tensor([6, 3, 5])\n",
      "NC test labels are saved to ./ondisk_dataset_homograph/nc-test-labels.pt\n",
      "\n"
     ]
    }
   ],
   "source": [
    "num_trains = int(num_nodes * 0.6)\n",
    "num_vals = int(num_nodes * 0.2)\n",
    "num_tests = num_nodes - num_trains - num_vals\n",
    "\n",
    "ids = np.arange(num_nodes)\n",
    "np.random.shuffle(ids)\n",
    "\n",
    "nc_train_ids_path = os.path.join(base_dir, \"nc-train-ids.npy\")\n",
    "nc_train_ids = ids[:num_trains]\n",
    "print(f\"Part of train ids for node classification: {nc_train_ids[:3]}\")\n",
    "np.save(nc_train_ids_path, nc_train_ids)\n",
    "print(f\"NC train ids are saved to {nc_train_ids_path}\\n\")\n",
    "\n",
    "nc_train_labels_path = os.path.join(base_dir, \"nc-train-labels.pt\")\n",
    "nc_train_labels = torch.randint(0, 10, (num_trains,))\n",
    "print(f\"Part of train labels for node classification: {nc_train_labels[:3]}\")\n",
    "torch.save(nc_train_labels, nc_train_labels_path)\n",
    "print(f\"NC train labels are saved to {nc_train_labels_path}\\n\")\n",
    "\n",
    "nc_val_ids_path = os.path.join(base_dir, \"nc-val-ids.npy\")\n",
    "nc_val_ids = ids[num_trains:num_trains+num_vals]\n",
    "print(f\"Part of val ids for node classification: {nc_val_ids[:3]}\")\n",
    "np.save(nc_val_ids_path, nc_val_ids)\n",
    "print(f\"NC val ids are saved to {nc_val_ids_path}\\n\")\n",
    "\n",
    "nc_val_labels_path = os.path.join(base_dir, \"nc-val-labels.pt\")\n",
    "nc_val_labels = torch.randint(0, 10, (num_vals,))\n",
    "print(f\"Part of val labels for node classification: {nc_val_labels[:3]}\")\n",
    "torch.save(nc_val_labels, nc_val_labels_path)\n",
    "print(f\"NC val labels are saved to {nc_val_labels_path}\\n\")\n",
    "\n",
    "nc_test_ids_path = os.path.join(base_dir, \"nc-test-ids.npy\")\n",
    "nc_test_ids = ids[-num_tests:]\n",
    "print(f\"Part of test ids for node classification: {nc_test_ids[:3]}\")\n",
    "np.save(nc_test_ids_path, nc_test_ids)\n",
    "print(f\"NC test ids are saved to {nc_test_ids_path}\\n\")\n",
    "\n",
    "nc_test_labels_path = os.path.join(base_dir, \"nc-test-labels.pt\")\n",
    "nc_test_labels = torch.randint(0, 10, (num_tests,))\n",
    "print(f\"Part of test labels for node classification: {nc_test_labels[:3]}\")\n",
    "torch.save(nc_test_labels, nc_test_labels_path)\n",
    "print(f\"NC test labels are saved to {nc_test_labels_path}\\n\")"
   ]
  },
  {
   "cell_type": "markdown",
   "metadata": {
    "id": "LhAcDCHQ_KJ0"
   },
   "source": [
    "#### Link Prediction Task\n",
    "For link prediction task, we need **seeds** or **corresponding labels and indexes** which representing the pos/neg property and group of the seeds for each training/validation/test set. Like feature data, numpy arrays and torch tensors are supported for these sets."
   ]
  },
  {
   "cell_type": "code",
   "execution_count": 6,
   "metadata": {
    "execution": {
     "iopub.execute_input": "2024-10-06T13:17:24.408896Z",
     "iopub.status.busy": "2024-10-06T13:17:24.408511Z",
     "iopub.status.idle": "2024-10-06T13:17:24.427230Z",
     "shell.execute_reply": "2024-10-06T13:17:24.426303Z"
    },
    "id": "u0jCnXIcAQy4"
   },
   "outputs": [
    {
     "name": "stdout",
     "output_type": "stream",
     "text": [
      "Part of train seeds for link prediction: [[518 239]\n",
      " [ 66 899]\n",
      " [396 139]]\n",
      "LP train seeds are saved to ./ondisk_dataset_homograph/lp-train-seeds.npy\n",
      "\n",
      "Part of val seeds for link prediction: [[ 44 440]\n",
      " [191 969]\n",
      " [415 207]]\n",
      "LP val seeds are saved to ./ondisk_dataset_homograph/lp-val-seeds.npy\n",
      "\n",
      "Part of val labels for link prediction: [1. 1. 1.]\n",
      "LP val labels are saved to ./ondisk_dataset_homograph/lp-val-labels.npy\n",
      "\n",
      "Part of val indexes for link prediction: [0 1 2]\n",
      "LP val indexes are saved to ./ondisk_dataset_homograph/lp-val-indexes.npy\n",
      "\n",
      "Part of test seeds for link prediction: [[516 876]\n",
      " [147 188]\n",
      " [202 643]]\n",
      "LP test seeds are saved to ./ondisk_dataset_homograph/lp-test-seeds.npy\n",
      "\n",
      "Part of val labels for link prediction: [1. 1. 1.]\n",
      "LP test labels are saved to ./ondisk_dataset_homograph/lp-test-labels.npy\n",
      "\n",
      "Part of test indexes for link prediction: [0 1 2]\n",
      "LP test indexes are saved to ./ondisk_dataset_homograph/lp-test-indexes.npy\n",
      "\n"
     ]
    }
   ],
   "source": [
    "num_trains = int(num_edges * 0.6)\n",
    "num_vals = int(num_edges * 0.2)\n",
    "num_tests = num_edges - num_trains - num_vals\n",
    "\n",
    "lp_train_seeds_path = os.path.join(base_dir, \"lp-train-seeds.npy\")\n",
    "lp_train_seeds = edges[:num_trains, :]\n",
    "print(f\"Part of train seeds for link prediction: {lp_train_seeds[:3]}\")\n",
    "np.save(lp_train_seeds_path, lp_train_seeds)\n",
    "print(f\"LP train seeds are saved to {lp_train_seeds_path}\\n\")\n",
    "\n",
    "lp_val_seeds_path = os.path.join(base_dir, \"lp-val-seeds.npy\")\n",
    "lp_val_seeds = edges[num_trains:num_trains+num_vals, :]\n",
    "lp_val_neg_dsts = np.random.randint(0, num_nodes, (num_vals, 10)).reshape(-1)\n",
    "lp_val_neg_srcs = np.repeat(lp_val_seeds[:,0], 10)\n",
    "lp_val_neg_seeds = np.concatenate((lp_val_neg_srcs, lp_val_neg_dsts)).reshape(2,-1).T\n",
    "lp_val_seeds = np.concatenate((lp_val_seeds, lp_val_neg_seeds))\n",
    "print(f\"Part of val seeds for link prediction: {lp_val_seeds[:3]}\")\n",
    "np.save(lp_val_seeds_path, lp_val_seeds)\n",
    "print(f\"LP val seeds are saved to {lp_val_seeds_path}\\n\")\n",
    "\n",
    "lp_val_labels_path = os.path.join(base_dir, \"lp-val-labels.npy\")\n",
    "lp_val_labels = np.empty(num_vals * (10 + 1))\n",
    "lp_val_labels[:num_vals] = 1\n",
    "lp_val_labels[num_vals:] = 0\n",
    "print(f\"Part of val labels for link prediction: {lp_val_labels[:3]}\")\n",
    "np.save(lp_val_labels_path, lp_val_labels)\n",
    "print(f\"LP val labels are saved to {lp_val_labels_path}\\n\")\n",
    "\n",
    "lp_val_indexes_path = os.path.join(base_dir, \"lp-val-indexes.npy\")\n",
    "lp_val_indexes = np.arange(0, num_vals)\n",
    "lp_val_neg_indexes = np.repeat(lp_val_indexes, 10)\n",
    "lp_val_indexes = np.concatenate([lp_val_indexes, lp_val_neg_indexes])\n",
    "print(f\"Part of val indexes for link prediction: {lp_val_indexes[:3]}\")\n",
    "np.save(lp_val_indexes_path, lp_val_indexes)\n",
    "print(f\"LP val indexes are saved to {lp_val_indexes_path}\\n\")\n",
    "\n",
    "lp_test_seeds_path = os.path.join(base_dir, \"lp-test-seeds.npy\")\n",
    "lp_test_seeds = edges[-num_tests:, :]\n",
    "lp_test_neg_dsts = np.random.randint(0, num_nodes, (num_tests, 10)).reshape(-1)\n",
    "lp_test_neg_srcs = np.repeat(lp_test_seeds[:,0], 10)\n",
    "lp_test_neg_seeds = np.concatenate((lp_test_neg_srcs, lp_test_neg_dsts)).reshape(2,-1).T\n",
    "lp_test_seeds = np.concatenate((lp_test_seeds, lp_test_neg_seeds))\n",
    "print(f\"Part of test seeds for link prediction: {lp_test_seeds[:3]}\")\n",
    "np.save(lp_test_seeds_path, lp_test_seeds)\n",
    "print(f\"LP test seeds are saved to {lp_test_seeds_path}\\n\")\n",
    "\n",
    "lp_test_labels_path = os.path.join(base_dir, \"lp-test-labels.npy\")\n",
    "lp_test_labels = np.empty(num_tests * (10 + 1))\n",
    "lp_test_labels[:num_tests] = 1\n",
    "lp_test_labels[num_tests:] = 0\n",
    "print(f\"Part of val labels for link prediction: {lp_test_labels[:3]}\")\n",
    "np.save(lp_test_labels_path, lp_test_labels)\n",
    "print(f\"LP test labels are saved to {lp_test_labels_path}\\n\")\n",
    "\n",
    "lp_test_indexes_path = os.path.join(base_dir, \"lp-test-indexes.npy\")\n",
    "lp_test_indexes = np.arange(0, num_tests)\n",
    "lp_test_neg_indexes = np.repeat(lp_test_indexes, 10)\n",
    "lp_test_indexes = np.concatenate([lp_test_indexes, lp_test_neg_indexes])\n",
    "print(f\"Part of test indexes for link prediction: {lp_test_indexes[:3]}\")\n",
    "np.save(lp_test_indexes_path, lp_test_indexes)\n",
    "print(f\"LP test indexes are saved to {lp_test_indexes_path}\\n\")"
   ]
  },
  {
   "cell_type": "markdown",
   "metadata": {
    "id": "wbk6-wxRK-6S"
   },
   "source": [
    "## Organize Data into YAML File\n",
    "Now we need to create a `metadata.yaml` file which contains the paths, dadta types of graph structure, feature data, training/validation/test sets.\n",
    "\n",
    "Notes:\n",
    "- all path should be relative to `metadata.yaml`.\n",
    "- Below fields are optional and not specified in below example.\n",
    "  - `in_memory`: indicates whether to load dada into memory or `mmap`. Default is `True`.\n",
    "\n",
    "Please refer to [YAML specification](https://github.com/dmlc/dgl/blob/master/docs/source/stochastic_training/ondisk-dataset-specification.rst) for more details."
   ]
  },
  {
   "cell_type": "code",
   "execution_count": 7,
   "metadata": {
    "execution": {
     "iopub.execute_input": "2024-10-06T13:17:24.429351Z",
     "iopub.status.busy": "2024-10-06T13:17:24.428929Z",
     "iopub.status.idle": "2024-10-06T13:17:24.435130Z",
     "shell.execute_reply": "2024-10-06T13:17:24.434261Z"
    },
    "id": "ddGTWW61Lpwp"
   },
   "outputs": [],
   "source": [
    "yaml_content = f\"\"\"\n",
    "    dataset_name: homogeneous_graph_nc_lp\n",
    "    graph:\n",
    "      nodes:\n",
    "        - num: {num_nodes}\n",
    "      edges:\n",
    "        - format: csv\n",
    "          path: {os.path.basename(edges_path)}\n",
    "    feature_data:\n",
    "      - domain: node\n",
    "        name: feat_0\n",
    "        format: numpy\n",
    "        path: {os.path.basename(node_feat_0_path)}\n",
    "      - domain: node\n",
    "        name: feat_1\n",
    "        format: torch\n",
    "        path: {os.path.basename(node_feat_1_path)}\n",
    "      - domain: edge\n",
    "        name: feat_0\n",
    "        format: numpy\n",
    "        path: {os.path.basename(edge_feat_0_path)}\n",
    "      - domain: edge\n",
    "        name: feat_1\n",
    "        format: torch\n",
    "        path: {os.path.basename(edge_feat_1_path)}\n",
    "    tasks:\n",
    "      - name: node_classification\n",
    "        num_classes: 10\n",
    "        train_set:\n",
    "          - data:\n",
    "              - name: seeds\n",
    "                format: numpy\n",
    "                path: {os.path.basename(nc_train_ids_path)}\n",
    "              - name: labels\n",
    "                format: torch\n",
    "                path: {os.path.basename(nc_train_labels_path)}\n",
    "        validation_set:\n",
    "          - data:\n",
    "              - name: seeds\n",
    "                format: numpy\n",
    "                path: {os.path.basename(nc_val_ids_path)}\n",
    "              - name: labels\n",
    "                format: torch\n",
    "                path: {os.path.basename(nc_val_labels_path)}\n",
    "        test_set:\n",
    "          - data:\n",
    "              - name: seeds\n",
    "                format: numpy\n",
    "                path: {os.path.basename(nc_test_ids_path)}\n",
    "              - name: labels\n",
    "                format: torch\n",
    "                path: {os.path.basename(nc_test_labels_path)}\n",
    "      - name: link_prediction\n",
    "        num_classes: 10\n",
    "        train_set:\n",
    "          - data:\n",
    "              - name: seeds\n",
    "                format: numpy\n",
    "                path: {os.path.basename(lp_train_seeds_path)}\n",
    "        validation_set:\n",
    "          - data:\n",
    "              - name: seeds\n",
    "                format: numpy\n",
    "                path: {os.path.basename(lp_val_seeds_path)}\n",
    "              - name: labels\n",
    "                format: numpy\n",
    "                path: {os.path.basename(lp_val_labels_path)}\n",
    "              - name: indexes\n",
    "                format: numpy\n",
    "                path: {os.path.basename(lp_val_indexes_path)}\n",
    "        test_set:\n",
    "          - data:\n",
    "              - name: seeds\n",
    "                format: numpy\n",
    "                path: {os.path.basename(lp_test_seeds_path)}\n",
    "              - name: labels\n",
    "                format: numpy\n",
    "                path: {os.path.basename(lp_test_labels_path)}\n",
    "              - name: indexes\n",
    "                format: numpy\n",
    "                path: {os.path.basename(lp_test_indexes_path)}\n",
    "\"\"\"\n",
    "metadata_path = os.path.join(base_dir, \"metadata.yaml\")\n",
    "with open(metadata_path, \"w\") as f:\n",
    "  f.write(yaml_content)"
   ]
  },
  {
   "cell_type": "markdown",
   "metadata": {
    "id": "kEfybHGhOW7O"
   },
   "source": [
    "## Instantiate `OnDiskDataset`\n",
    "Now we're ready to load dataset via `dgl.graphbolt.OnDiskDataset`. When instantiating, we just pass in the base directory where `metadata.yaml` file lies.\n",
    "\n",
    "During first instantiation, GraphBolt preprocesses the raw data such as constructing `FusedCSCSamplingGraph` from edges. All data including graph, feature data, training/validation/test sets are put into `preprocessed` directory after preprocessing. Any following dataset loading will skip the preprocess stage.\n",
    "\n",
    "After preprocessing, `load()` is required to be called explicitly in order to load graph, feature data and tasks."
   ]
  },
  {
   "cell_type": "code",
   "execution_count": 8,
   "metadata": {
    "execution": {
     "iopub.execute_input": "2024-10-06T13:17:24.437235Z",
     "iopub.status.busy": "2024-10-06T13:17:24.437037Z",
     "iopub.status.idle": "2024-10-06T13:17:24.512423Z",
     "shell.execute_reply": "2024-10-06T13:17:24.511867Z"
    },
    "id": "W58CZoSzOiyo"
   },
   "outputs": [
    {
     "name": "stdout",
     "output_type": "stream",
     "text": [
      "Start to preprocess the on-disk dataset.\n",
      "Finish preprocessing the on-disk dataset.\n",
      "Loaded graph: FusedCSCSamplingGraph(csc_indptr=tensor([    0,     6,    15,  ...,  9982,  9990, 10000], dtype=torch.int32),\n",
      "                      indices=tensor([292, 393, 108,  ..., 548, 256, 203], dtype=torch.int32),\n",
      "                      total_num_nodes=1000, num_edges=10000,)\n",
      "\n",
      "Loaded feature store: TorchBasedFeatureStore(\n",
      "    {(<OnDiskFeatureDataDomain.NODE: 'node'>, None, 'feat_0'): TorchBasedFeature(\n",
      "        feature=tensor([[0.2078, 0.8384, 0.8245, 0.8061, 0.1307],\n",
      "                        [0.1623, 0.3764, 0.7333, 0.1981, 0.1345],\n",
      "                        [0.6313, 0.9709, 0.9898, 0.3636, 0.8302],\n",
      "                        ...,\n",
      "                        [0.4182, 0.3054, 0.6621, 0.9643, 0.4816],\n",
      "                        [0.2934, 0.2419, 0.6125, 0.5011, 0.7542],\n",
      "                        [0.9336, 0.9586, 0.6512, 0.3368, 0.6089]], dtype=torch.float64),\n",
      "        metadata={},\n",
      "    ), (<OnDiskFeatureDataDomain.NODE: 'node'>, None, 'feat_1'): TorchBasedFeature(\n",
      "        feature=tensor([[0.9389, 0.7885, 0.1216, 0.3682, 0.8896],\n",
      "                        [0.5591, 0.8396, 0.9132, 0.3547, 0.3413],\n",
      "                        [0.1203, 0.6778, 0.9051, 0.3856, 0.2959],\n",
      "                        ...,\n",
      "                        [0.6245, 0.9969, 0.7355, 0.1154, 0.8724],\n",
      "                        [0.7414, 0.8954, 0.4895, 0.9485, 0.0601],\n",
      "                        [0.5519, 0.6788, 0.2333, 0.8206, 0.5495]]),\n",
      "        metadata={},\n",
      "    ), (<OnDiskFeatureDataDomain.EDGE: 'edge'>, None, 'feat_0'): TorchBasedFeature(\n",
      "        feature=tensor([[0.4167, 0.7519, 0.3203, 0.9534, 0.3088],\n",
      "                        [0.7717, 0.2778, 0.4324, 0.1056, 0.0658],\n",
      "                        [0.2049, 0.6016, 0.6697, 0.9170, 0.4859],\n",
      "                        ...,\n",
      "                        [0.7661, 0.5081, 0.1067, 0.9955, 0.9170],\n",
      "                        [0.0651, 0.9183, 0.7709, 0.0776, 0.2986],\n",
      "                        [0.7998, 0.5605, 0.2482, 0.4970, 0.5113]], dtype=torch.float64),\n",
      "        metadata={},\n",
      "    ), (<OnDiskFeatureDataDomain.EDGE: 'edge'>, None, 'feat_1'): TorchBasedFeature(\n",
      "        feature=tensor([[0.7853, 0.7038, 0.7755, 0.6490, 0.6409],\n",
      "                        [0.5071, 0.5530, 0.0076, 0.1382, 0.1879],\n",
      "                        [0.6724, 0.3703, 0.4819, 0.1065, 0.0515],\n",
      "                        ...,\n",
      "                        [0.2935, 0.5109, 0.6515, 0.7359, 0.5011],\n",
      "                        [0.4421, 0.6775, 0.5535, 0.2415, 0.8530],\n",
      "                        [0.3026, 0.0612, 0.3958, 0.4068, 0.8727]]),\n",
      "        metadata={},\n",
      "    )}\n",
      ")\n",
      "\n",
      "Loaded node classification task: OnDiskTask(validation_set=ItemSet(\n",
      "               items=(tensor([571, 913, 291, 962, 437,   1, 581, 364, 207, 610, 519, 895, 322, 380,\n",
      "                   561, 474, 441,   6, 210, 430, 967, 422, 188, 985, 472,  59, 637, 404,\n",
      "                   832, 598, 204, 457, 569, 197, 126, 638, 168, 941, 324, 254, 263, 135,\n",
      "                   320, 130, 269, 303, 340, 313, 403, 332, 258, 229, 257, 280, 679, 550,\n",
      "                   171, 227, 453, 489, 172,  67, 203, 338, 822, 482, 868, 466, 499, 416,\n",
      "                   450, 938,  66, 923,  27, 596, 272, 149, 373, 213, 147, 562, 431, 814,\n",
      "                   666, 201, 627, 628, 387, 361, 686,  73, 233, 706, 854, 112, 777, 131,\n",
      "                     8, 252, 292, 693, 641, 949, 446, 937, 770, 274, 296, 771, 893, 219,\n",
      "                   224, 526, 243, 156, 400, 226, 999, 535, 787, 870, 479, 572, 118, 452,\n",
      "                   635, 685, 995, 415, 307, 633, 330,  42, 396, 413, 725, 597, 391, 350,\n",
      "                   613, 695, 936, 961, 199,  57, 107, 789, 722, 306, 281, 702, 643, 544,\n",
      "                   841,  19, 113, 648,  48, 309, 671, 784, 815, 100, 356, 664, 353, 649,\n",
      "                    47,  60, 504, 617, 205, 726, 818, 795, 125, 531,   3, 691, 930, 401,\n",
      "                   657, 276, 148, 953, 509, 986, 748, 853, 591, 520, 698, 678, 946, 394,\n",
      "                   405, 321, 794,  13], dtype=torch.int32), tensor([8, 9, 3, 5, 9, 3, 3, 5, 0, 2, 8, 5, 7, 5, 8, 2, 7, 8, 5, 8, 9, 9, 7, 4,\n",
      "                   2, 9, 2, 8, 5, 3, 5, 1, 3, 6, 5, 0, 6, 9, 9, 4, 2, 4, 7, 8, 9, 8, 9, 4,\n",
      "                   1, 5, 2, 0, 4, 1, 4, 7, 6, 4, 5, 9, 6, 0, 0, 7, 2, 1, 8, 9, 1, 4, 2, 9,\n",
      "                   8, 5, 6, 7, 6, 0, 7, 5, 8, 3, 3, 3, 4, 1, 6, 6, 5, 3, 4, 1, 2, 7, 8, 3,\n",
      "                   0, 8, 5, 6, 4, 3, 8, 1, 6, 7, 6, 1, 2, 7, 5, 2, 8, 1, 0, 2, 5, 8, 0, 6,\n",
      "                   6, 0, 4, 2, 2, 7, 8, 4, 3, 6, 7, 8, 4, 9, 1, 7, 7, 4, 6, 0, 0, 7, 3, 0,\n",
      "                   1, 6, 6, 7, 6, 3, 8, 6, 4, 7, 3, 1, 4, 5, 9, 4, 6, 7, 6, 5, 3, 5, 0, 5,\n",
      "                   0, 4, 6, 8, 3, 5, 2, 5, 3, 8, 4, 6, 6, 4, 7, 1, 0, 4, 6, 7, 7, 9, 2, 9,\n",
      "                   8, 8, 0, 1, 6, 1, 3, 8])),\n",
      "               names=('seeds', 'labels'),\n",
      "           ),\n",
      "           train_set=ItemSet(\n",
      "               items=(tensor([851, 211, 911, 912, 341, 866,  52,  89, 651, 734, 683,  18, 861, 905,\n",
      "                   344, 640, 745, 167, 776, 194, 830, 511, 646, 738, 956, 406, 418,  78,\n",
      "                   723, 488, 424, 834, 882, 348, 106, 389, 932, 933, 807, 846, 163, 242,\n",
      "                   769, 865, 897, 146,  82, 615, 495, 630, 942,  94, 583, 331, 538, 440,\n",
      "                   857, 371, 981, 228, 568, 508, 277, 153,  49, 193,  34, 247, 458, 785,\n",
      "                   939,  50, 605, 392, 987, 451, 574, 951,  88, 543, 378, 285, 707,  75,\n",
      "                   295,  69, 282, 515, 180, 839, 887, 763, 101, 656, 764, 492, 516, 475,\n",
      "                   154, 943, 825, 852, 490, 919, 947, 345, 105, 978, 982, 423, 779, 357,\n",
      "                   915, 176, 580, 812, 650, 186, 159, 174, 123, 892, 279, 386, 429, 334,\n",
      "                   676, 335, 659, 354, 502, 554, 402, 885,  46, 339, 842,   7,  14, 455,\n",
      "                   663, 355, 909, 894,  99,  84, 249, 677, 718,  51, 414, 714, 117, 607,\n",
      "                   626, 754, 675, 161, 183, 592, 884, 974, 395, 847, 501, 266,  93, 751,\n",
      "                   301, 177, 347, 522, 546, 312, 465, 144, 931, 791, 603, 724, 883, 494,\n",
      "                   559, 620, 602, 552, 328, 560, 805, 782, 462, 848, 383, 409, 759,  44,\n",
      "                   170, 136, 976, 750, 710, 801, 311, 879,   9, 793, 802, 625, 720, 644,\n",
      "                   181, 585, 699, 908, 935, 134, 116,  17, 128, 432, 259, 142, 284, 688,\n",
      "                   433, 407, 202, 765,  74, 110, 816, 275,  33, 436, 973, 367,  92, 408,\n",
      "                   753, 471, 989, 132,  80,  55, 916, 325, 945,  28, 735, 843, 860, 811,\n",
      "                   428, 576, 141, 642, 209, 241, 719, 697,  29, 102, 104, 521, 421,  12,\n",
      "                   963, 940,  63, 906,  95, 491, 652, 670, 896, 872, 647, 444, 382, 920,\n",
      "                   820, 480,  64, 717, 660,  65, 232,  71, 384, 957, 417, 746, 921, 286,\n",
      "                   773,  41, 294, 308, 622, 898, 881, 806, 609, 137, 497, 477, 878, 876,\n",
      "                   558, 595, 379, 684, 711, 119, 366, 877,  76, 694, 214, 960, 486, 145,\n",
      "                   507, 500,  87, 998, 990, 778, 713, 231,  81, 993, 191, 182, 374, 217,\n",
      "                   467, 565,  43, 875, 891, 245, 594, 749, 590, 108,  96,  61, 551, 240,\n",
      "                   164, 278, 612, 143, 208, 218, 133, 760, 155, 548, 305, 166, 493, 399,\n",
      "                   716, 541, 618, 419, 528, 310, 614, 781, 991,  16, 425, 969, 447, 115,\n",
      "                   268, 539, 443, 464, 988, 556, 187, 298, 244, 513, 326, 665, 563, 586,\n",
      "                   762, 198, 189, 150, 512,  31, 370, 954, 662, 255, 601, 655, 127, 584,\n",
      "                   669, 496, 926, 196, 283, 524,  54, 223,  26, 578, 215, 540, 682, 863,\n",
      "                   525, 442, 577, 968, 265,  77, 587, 173, 636, 611, 673, 859,  91,  25,\n",
      "                   140, 184, 412,  39, 318, 238, 862, 840, 970, 658, 503, 216, 129, 758,\n",
      "                   767, 368, 788, 980, 952, 579, 588, 733,  45, 616, 645, 593,  70, 757,\n",
      "                   329, 533, 169, 996, 469, 157, 654, 463, 709, 856, 256, 346, 899, 151,\n",
      "                   448,   0, 634,   5, 264, 639, 994, 342, 121, 997, 796, 901, 302, 992,\n",
      "                   517, 917, 833, 300, 398, 573, 922, 185, 886, 124, 206,  37, 774, 715,\n",
      "                    85, 775, 838, 977, 672, 737, 359,   2, 783, 220, 483, 692, 393, 948,\n",
      "                   950, 567, 481,  40, 606, 701, 487, 768, 629, 889, 460, 351, 158, 880,\n",
      "                   527, 747, 739, 114, 236, 809,  30, 152, 965, 506, 808, 237, 873, 547,\n",
      "                   810, 485, 975, 314, 858, 829, 874, 190, 600,  90, 178, 287, 742, 445,\n",
      "                   260, 958, 555,  98, 864, 983, 823,  24, 271, 755, 439, 708, 955, 836,\n",
      "                    86, 557, 179, 476, 225, 315, 372, 317, 900, 293, 337, 251, 327, 959,\n",
      "                   624, 744, 273, 736, 849, 780, 704, 621, 803, 729, 111, 731],\n",
      "                  dtype=torch.int32), tensor([7, 8, 4, 7, 5, 1, 9, 8, 4, 6, 6, 9, 8, 2, 7, 1, 8, 7, 2, 3, 0, 9, 3, 0,\n",
      "                   3, 3, 5, 3, 1, 6, 9, 0, 1, 2, 8, 0, 7, 8, 1, 1, 1, 2, 2, 1, 4, 4, 7, 1,\n",
      "                   6, 2, 5, 6, 1, 4, 8, 8, 1, 3, 2, 5, 1, 8, 0, 1, 2, 6, 8, 4, 1, 7, 0, 6,\n",
      "                   8, 2, 4, 9, 3, 6, 9, 3, 2, 9, 4, 3, 5, 2, 8, 8, 6, 4, 7, 1, 5, 7, 4, 1,\n",
      "                   6, 9, 7, 1, 2, 1, 6, 8, 0, 2, 8, 6, 9, 6, 0, 8, 9, 8, 9, 6, 6, 7, 0, 3,\n",
      "                   7, 2, 3, 5, 4, 0, 9, 4, 3, 2, 0, 8, 0, 9, 9, 6, 1, 9, 9, 9, 3, 9, 7, 6,\n",
      "                   2, 3, 5, 4, 9, 7, 8, 9, 2, 5, 0, 3, 1, 7, 9, 7, 3, 3, 3, 0, 8, 4, 6, 7,\n",
      "                   3, 2, 9, 7, 5, 4, 1, 3, 4, 1, 3, 4, 4, 3, 1, 8, 4, 2, 1, 4, 1, 2, 5, 9,\n",
      "                   1, 0, 5, 0, 9, 7, 1, 8, 7, 2, 5, 4, 3, 7, 0, 1, 5, 9, 2, 3, 0, 6, 0, 9,\n",
      "                   2, 8, 0, 8, 5, 5, 1, 9, 0, 0, 1, 7, 7, 9, 3, 3, 1, 3, 2, 9, 2, 6, 6, 6,\n",
      "                   3, 9, 5, 7, 4, 2, 4, 5, 9, 0, 4, 9, 7, 7, 3, 9, 2, 5, 7, 2, 1, 9, 1, 2,\n",
      "                   0, 7, 0, 3, 8, 7, 4, 1, 1, 8, 3, 4, 0, 8, 7, 9, 3, 4, 1, 8, 9, 9, 7, 0,\n",
      "                   0, 6, 4, 6, 7, 6, 1, 2, 5, 0, 7, 1, 6, 6, 6, 7, 2, 5, 6, 8, 4, 4, 7, 7,\n",
      "                   5, 0, 8, 0, 1, 5, 5, 5, 6, 4, 8, 2, 2, 9, 3, 7, 0, 6, 0, 7, 4, 7, 6, 1,\n",
      "                   1, 0, 0, 3, 6, 1, 3, 7, 4, 8, 6, 6, 8, 6, 9, 0, 2, 4, 6, 6, 9, 3, 7, 9,\n",
      "                   3, 8, 2, 9, 7, 1, 3, 5, 7, 7, 8, 8, 1, 8, 7, 5, 9, 6, 8, 4, 1, 2, 9, 8,\n",
      "                   9, 7, 9, 6, 0, 3, 6, 5, 5, 9, 8, 1, 8, 8, 0, 4, 6, 5, 3, 8, 5, 7, 3, 0,\n",
      "                   9, 2, 0, 2, 7, 0, 8, 6, 5, 3, 0, 9, 3, 0, 9, 6, 8, 0, 8, 7, 7, 7, 2, 3,\n",
      "                   8, 4, 1, 1, 7, 9, 9, 4, 4, 6, 6, 4, 8, 6, 0, 2, 0, 3, 7, 8, 4, 0, 5, 9,\n",
      "                   7, 2, 8, 7, 2, 9, 9, 9, 8, 0, 9, 4, 3, 1, 4, 6, 5, 3, 4, 2, 7, 5, 4, 2,\n",
      "                   4, 6, 3, 0, 8, 3, 8, 3, 6, 9, 8, 1, 2, 2, 1, 9, 5, 2, 8, 2, 0, 7, 6, 6,\n",
      "                   1, 6, 6, 8, 2, 2, 4, 5, 7, 3, 1, 2, 4, 8, 0, 8, 1, 7, 2, 6, 4, 7, 3, 6,\n",
      "                   2, 6, 4, 0, 2, 4, 5, 5, 5, 4, 7, 7, 2, 0, 1, 9, 2, 6, 6, 4, 0, 1, 5, 8,\n",
      "                   0, 7, 7, 1, 9, 8, 3, 0, 7, 3, 2, 8, 8, 7, 1, 0, 1, 5, 3, 5, 7, 8, 9, 3,\n",
      "                   9, 7, 5, 4, 2, 7, 6, 8, 0, 6, 9, 0, 3, 7, 4, 2, 0, 5, 1, 0, 3, 6, 3, 3])),\n",
      "               names=('seeds', 'labels'),\n",
      "           ),\n",
      "           test_set=ItemSet(\n",
      "               items=(tensor([589, 360, 799,  36, 253, 696,  22, 925, 192, 772, 362, 910, 661, 175,\n",
      "                    20, 385, 505, 267,  23, 261,  62, 902, 869, 619, 498, 623,  68, 103,\n",
      "                   139, 564, 319, 316, 297, 456, 461, 888, 333, 653, 570, 454, 871,  35,\n",
      "                   890,  38, 831,   4, 381, 929, 797, 529, 566, 728, 705, 138, 681, 790,\n",
      "                   687, 248, 845, 222, 575, 934, 837, 262, 632, 703, 813, 411, 369, 397,\n",
      "                   246, 109, 608, 289, 549, 299, 377, 426, 545, 537, 323,  58, 365, 972,\n",
      "                    15,  83, 435, 195,  32, 468,  79, 798, 542, 390,  72, 984, 459, 212,\n",
      "                   918, 786, 817, 800, 250, 473,  97, 484, 819, 966, 689, 162, 352, 349,\n",
      "                   478, 514, 914, 631, 239, 743, 727, 730, 165,  10, 510, 200, 290, 700,\n",
      "                   410,  11, 826, 855, 850, 907, 712, 235, 270, 924, 668, 680, 536, 230,\n",
      "                   979, 904, 304, 721, 427, 336, 674, 532, 740, 732, 470, 530, 821, 553,\n",
      "                   766, 288, 827, 388, 964, 221, 971, 604, 376, 375, 667, 599, 835, 523,\n",
      "                    53, 449, 828, 358, 927, 582, 160, 844, 928, 824, 756,  56, 438, 363,\n",
      "                   867, 420,  21, 761, 804, 690, 752, 122, 518, 343, 944, 741, 903, 792,\n",
      "                   120, 234, 434, 534], dtype=torch.int32), tensor([6, 3, 5, 4, 2, 3, 4, 2, 4, 1, 7, 8, 1, 9, 3, 8, 2, 7, 0, 0, 8, 9, 3, 4,\n",
      "                   8, 7, 7, 0, 1, 6, 2, 8, 1, 8, 7, 9, 3, 7, 7, 7, 1, 5, 1, 3, 0, 1, 3, 2,\n",
      "                   7, 3, 9, 8, 5, 0, 8, 6, 2, 9, 0, 5, 3, 1, 9, 9, 7, 5, 9, 9, 1, 6, 4, 8,\n",
      "                   0, 3, 6, 0, 9, 1, 7, 6, 7, 3, 2, 1, 3, 3, 8, 8, 1, 7, 9, 3, 2, 8, 3, 1,\n",
      "                   5, 7, 0, 2, 5, 1, 7, 0, 4, 9, 8, 8, 0, 2, 2, 5, 7, 8, 3, 6, 0, 7, 7, 0,\n",
      "                   3, 9, 8, 4, 2, 3, 8, 9, 8, 0, 3, 8, 3, 0, 2, 5, 0, 2, 0, 6, 4, 1, 3, 1,\n",
      "                   0, 5, 7, 4, 0, 6, 0, 0, 0, 9, 2, 9, 1, 4, 2, 3, 2, 0, 4, 2, 7, 5, 2, 3,\n",
      "                   9, 1, 7, 2, 2, 5, 5, 3, 3, 0, 9, 6, 4, 0, 3, 8, 4, 9, 9, 6, 5, 6, 4, 9,\n",
      "                   8, 2, 8, 5, 3, 7, 6, 6])),\n",
      "               names=('seeds', 'labels'),\n",
      "           ),\n",
      "           metadata={'name': 'node_classification', 'num_classes': 10},)\n",
      "\n",
      "Loaded link prediction task: OnDiskTask(validation_set=ItemSet(\n",
      "               items=(tensor([[ 44, 440],\n",
      "                   [191, 969],\n",
      "                   [415, 207],\n",
      "                   ...,\n",
      "                   [478, 652],\n",
      "                   [478, 779],\n",
      "                   [478, 573]], dtype=torch.int32), tensor([1., 1., 1.,  ..., 0., 0., 0.], dtype=torch.float64), tensor([   0,    1,    2,  ..., 1999, 1999, 1999])),\n",
      "               names=('seeds', 'labels', 'indexes'),\n",
      "           ),\n",
      "           train_set=ItemSet(\n",
      "               items=(tensor([[518, 239],\n",
      "                   [ 66, 899],\n",
      "                   [396, 139],\n",
      "                   ...,\n",
      "                   [664, 986],\n",
      "                   [404, 967],\n",
      "                   [454, 732]], dtype=torch.int32),),\n",
      "               names=('seeds',),\n",
      "           ),\n",
      "           test_set=ItemSet(\n",
      "               items=(tensor([[516, 876],\n",
      "                   [147, 188],\n",
      "                   [202, 643],\n",
      "                   ...,\n",
      "                   [519, 400],\n",
      "                   [519, 290],\n",
      "                   [519,  66]], dtype=torch.int32), tensor([1., 1., 1.,  ..., 0., 0., 0.], dtype=torch.float64), tensor([   0,    1,    2,  ..., 1999, 1999, 1999])),\n",
      "               names=('seeds', 'labels', 'indexes'),\n",
      "           ),\n",
      "           metadata={'name': 'link_prediction', 'num_classes': 10},)\n",
      "\n"
     ]
    },
    {
     "name": "stderr",
     "output_type": "stream",
     "text": [
      "/dgl/python/dgl/graphbolt/impl/ondisk_dataset.py:463: GBWarning: Edge feature is stored, but edge IDs are not saved.\n",
      "  gb_warning(\"Edge feature is stored, but edge IDs are not saved.\")\n"
     ]
    }
   ],
   "source": [
    "dataset = gb.OnDiskDataset(base_dir).load()\n",
    "graph = dataset.graph\n",
    "print(f\"Loaded graph: {graph}\\n\")\n",
    "\n",
    "feature = dataset.feature\n",
    "print(f\"Loaded feature store: {feature}\\n\")\n",
    "\n",
    "tasks = dataset.tasks\n",
    "nc_task = tasks[0]\n",
    "print(f\"Loaded node classification task: {nc_task}\\n\")\n",
    "lp_task = tasks[1]\n",
    "print(f\"Loaded link prediction task: {lp_task}\\n\")"
   ]
  }
 ],
 "metadata": {
  "colab": {
   "private_outputs": true,
   "provenance": []
  },
  "kernelspec": {
   "display_name": "Python 3",
   "name": "python3"
  },
  "language_info": {
   "codemirror_mode": {
    "name": "ipython",
    "version": 3
   },
   "file_extension": ".py",
   "mimetype": "text/x-python",
   "name": "python",
   "nbconvert_exporter": "python",
   "pygments_lexer": "ipython3",
   "version": "3.10.15"
  }
 },
 "nbformat": 4,
 "nbformat_minor": 0
}

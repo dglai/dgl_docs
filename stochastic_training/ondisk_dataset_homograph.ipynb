{
 "cells": [
  {
   "cell_type": "markdown",
   "metadata": {
    "id": "FnFhPMaAfLtJ"
   },
   "source": [
    "# OnDiskDataset for Homogeneous Graph\n",
    "\n",
    "[![Open In Colab](https://colab.research.google.com/assets/colab-badge.svg)](https://colab.research.google.com/github/dmlc/dgl/blob/master/notebooks/stochastic_training/ondisk_dataset_homograph.ipynb) [![GitHub](https://img.shields.io/badge/-View%20on%20GitHub-181717?logo=github&logoColor=ffffff)](https://github.com/dmlc/dgl/blob/master/notebooks/stochastic_training/ondisk_dataset_homograph.ipynb)\n",
    "\n",
    "This tutorial shows how to create `OnDiskDataset` for homogeneous graph that could be used in **GraphBolt** framework.\n",
    "\n",
    "By the end of this tutorial, you will be able to\n",
    "\n",
    "- organize graph structure data.\n",
    "- organize feature data.\n",
    "- organize training/validation/test set for specific tasks.\n",
    "\n",
    "To create an ``OnDiskDataset`` object, you need to organize all the data including graph structure, feature data and tasks into a directory. The directory should contain a ``metadata.yaml`` file that describes the metadata of the dataset.\n",
    "\n",
    "Now let's generate various data step by step and organize them together to instantiate `OnDiskDataset` finally."
   ]
  },
  {
   "cell_type": "markdown",
   "metadata": {
    "id": "Wlb19DtWgtzq"
   },
   "source": [
    "## Install DGL package"
   ]
  },
  {
   "cell_type": "code",
   "execution_count": 1,
   "metadata": {
    "execution": {
     "iopub.execute_input": "2024-10-22T13:19:15.915507Z",
     "iopub.status.busy": "2024-10-22T13:19:15.915174Z",
     "iopub.status.idle": "2024-10-22T13:19:18.959572Z",
     "shell.execute_reply": "2024-10-22T13:19:18.958096Z"
    },
    "id": "UojlT9ZGgyr9"
   },
   "outputs": [
    {
     "name": "stdout",
     "output_type": "stream",
     "text": [
      "Looking in links: https://data.dgl.ai/wheels-test/repo.html\r\n",
      "Requirement already satisfied: dgl in /opt/conda/envs/dgl-dev-cpu/lib/python3.10/site-packages (2.2a240410)\r\n",
      "Requirement already satisfied: numpy>=1.14.0 in /opt/conda/envs/dgl-dev-cpu/lib/python3.10/site-packages (from dgl) (1.26.4)\r\n",
      "Requirement already satisfied: scipy>=1.1.0 in /opt/conda/envs/dgl-dev-cpu/lib/python3.10/site-packages (from dgl) (1.14.1)\r\n",
      "Requirement already satisfied: networkx>=2.1 in /opt/conda/envs/dgl-dev-cpu/lib/python3.10/site-packages (from dgl) (3.4.2)\r\n",
      "Requirement already satisfied: requests>=2.19.0 in /opt/conda/envs/dgl-dev-cpu/lib/python3.10/site-packages (from dgl) (2.32.3)\r\n",
      "Requirement already satisfied: tqdm in /opt/conda/envs/dgl-dev-cpu/lib/python3.10/site-packages (from dgl) (4.66.5)\r\n",
      "Requirement already satisfied: psutil>=5.8.0 in /opt/conda/envs/dgl-dev-cpu/lib/python3.10/site-packages (from dgl) (6.1.0)\r\n",
      "Requirement already satisfied: torchdata>=0.5.0 in /opt/conda/envs/dgl-dev-cpu/lib/python3.10/site-packages (from dgl) (0.9.0)\r\n",
      "Requirement already satisfied: pandas in /opt/conda/envs/dgl-dev-cpu/lib/python3.10/site-packages (from dgl) (2.2.3)\r\n"
     ]
    },
    {
     "name": "stdout",
     "output_type": "stream",
     "text": [
      "Requirement already satisfied: charset-normalizer<4,>=2 in /opt/conda/envs/dgl-dev-cpu/lib/python3.10/site-packages (from requests>=2.19.0->dgl) (3.4.0)\r\n",
      "Requirement already satisfied: idna<4,>=2.5 in /opt/conda/envs/dgl-dev-cpu/lib/python3.10/site-packages (from requests>=2.19.0->dgl) (3.10)\r\n",
      "Requirement already satisfied: urllib3<3,>=1.21.1 in /opt/conda/envs/dgl-dev-cpu/lib/python3.10/site-packages (from requests>=2.19.0->dgl) (2.2.3)\r\n",
      "Requirement already satisfied: certifi>=2017.4.17 in /opt/conda/envs/dgl-dev-cpu/lib/python3.10/site-packages (from requests>=2.19.0->dgl) (2024.8.30)\r\n",
      "Requirement already satisfied: torch>=2 in /opt/conda/envs/dgl-dev-cpu/lib/python3.10/site-packages (from torchdata>=0.5.0->dgl) (2.1.0+cpu)\r\n"
     ]
    },
    {
     "name": "stdout",
     "output_type": "stream",
     "text": [
      "Requirement already satisfied: python-dateutil>=2.8.2 in /opt/conda/envs/dgl-dev-cpu/lib/python3.10/site-packages (from pandas->dgl) (2.9.0.post0)\r\n",
      "Requirement already satisfied: pytz>=2020.1 in /opt/conda/envs/dgl-dev-cpu/lib/python3.10/site-packages (from pandas->dgl) (2024.2)\r\n",
      "Requirement already satisfied: tzdata>=2022.7 in /opt/conda/envs/dgl-dev-cpu/lib/python3.10/site-packages (from pandas->dgl) (2024.2)\r\n",
      "Requirement already satisfied: six>=1.5 in /opt/conda/envs/dgl-dev-cpu/lib/python3.10/site-packages (from python-dateutil>=2.8.2->pandas->dgl) (1.16.0)\r\n",
      "Requirement already satisfied: filelock in /opt/conda/envs/dgl-dev-cpu/lib/python3.10/site-packages (from torch>=2->torchdata>=0.5.0->dgl) (3.16.1)\r\n",
      "Requirement already satisfied: typing-extensions in /opt/conda/envs/dgl-dev-cpu/lib/python3.10/site-packages (from torch>=2->torchdata>=0.5.0->dgl) (4.12.2)\r\n",
      "Requirement already satisfied: sympy in /opt/conda/envs/dgl-dev-cpu/lib/python3.10/site-packages (from torch>=2->torchdata>=0.5.0->dgl) (1.13.3)\r\n",
      "Requirement already satisfied: jinja2 in /opt/conda/envs/dgl-dev-cpu/lib/python3.10/site-packages (from torch>=2->torchdata>=0.5.0->dgl) (3.1.4)\r\n",
      "Requirement already satisfied: fsspec in /opt/conda/envs/dgl-dev-cpu/lib/python3.10/site-packages (from torch>=2->torchdata>=0.5.0->dgl) (2024.10.0)\r\n"
     ]
    },
    {
     "name": "stdout",
     "output_type": "stream",
     "text": [
      "Requirement already satisfied: MarkupSafe>=2.0 in /opt/conda/envs/dgl-dev-cpu/lib/python3.10/site-packages (from jinja2->torch>=2->torchdata>=0.5.0->dgl) (3.0.2)\r\n",
      "Requirement already satisfied: mpmath<1.4,>=1.1.0 in /opt/conda/envs/dgl-dev-cpu/lib/python3.10/site-packages (from sympy->torch>=2->torchdata>=0.5.0->dgl) (1.3.0)\r\n"
     ]
    },
    {
     "name": "stdout",
     "output_type": "stream",
     "text": [
      "\u001b[33mWARNING: Running pip as the 'root' user can result in broken permissions and conflicting behaviour with the system package manager, possibly rendering your system unusable.It is recommended to use a virtual environment instead: https://pip.pypa.io/warnings/venv. Use the --root-user-action option if you know what you are doing and want to suppress this warning.\u001b[0m\u001b[33m\r\n",
      "\u001b[0m"
     ]
    },
    {
     "name": "stdout",
     "output_type": "stream",
     "text": [
      "DGL installed!\n"
     ]
    }
   ],
   "source": [
    "# Install required packages.\n",
    "import os\n",
    "import torch\n",
    "import numpy as np\n",
    "os.environ['TORCH'] = torch.__version__\n",
    "os.environ['DGLBACKEND'] = \"pytorch\"\n",
    "\n",
    "# Install the CPU version.\n",
    "device = torch.device(\"cpu\")\n",
    "!pip install --pre dgl -f https://data.dgl.ai/wheels-test/repo.html\n",
    "\n",
    "try:\n",
    "    import dgl\n",
    "    import dgl.graphbolt as gb\n",
    "    installed = True\n",
    "except ImportError as error:\n",
    "    installed = False\n",
    "    print(error)\n",
    "print(\"DGL installed!\" if installed else \"DGL not found!\")"
   ]
  },
  {
   "cell_type": "markdown",
   "metadata": {
    "id": "2R7WnSbjsfbr"
   },
   "source": [
    "## Data preparation\n",
    "In order to demonstrate how to organize various data, let's create a base directory first."
   ]
  },
  {
   "cell_type": "code",
   "execution_count": 2,
   "metadata": {
    "execution": {
     "iopub.execute_input": "2024-10-22T13:19:18.962977Z",
     "iopub.status.busy": "2024-10-22T13:19:18.961705Z",
     "iopub.status.idle": "2024-10-22T13:19:18.967575Z",
     "shell.execute_reply": "2024-10-22T13:19:18.966500Z"
    },
    "id": "SZipbzyltLfO"
   },
   "outputs": [
    {
     "name": "stdout",
     "output_type": "stream",
     "text": [
      "Created base directory: ./ondisk_dataset_homograph\n"
     ]
    }
   ],
   "source": [
    "base_dir = './ondisk_dataset_homograph'\n",
    "os.makedirs(base_dir, exist_ok=True)\n",
    "print(f\"Created base directory: {base_dir}\")"
   ]
  },
  {
   "cell_type": "markdown",
   "metadata": {
    "id": "qhNtIn_xhlnl"
   },
   "source": [
    "### Generate graph structure data\n",
    "For homogeneous graph, we just need to save edges(namely seeds) into  **Numpy** or **CSV** file.\n",
    "\n",
    "Note:\n",
    "- when saving to **Numpy**, the array requires to be in shape of `(2, N)`. This format is recommended as constructing graph from it is much faster than **CSV** file.\n",
    "- when saving to **CSV** file, do not save index and header.\n"
   ]
  },
  {
   "cell_type": "code",
   "execution_count": 3,
   "metadata": {
    "execution": {
     "iopub.execute_input": "2024-10-22T13:19:18.970082Z",
     "iopub.status.busy": "2024-10-22T13:19:18.969482Z",
     "iopub.status.idle": "2024-10-22T13:19:18.984451Z",
     "shell.execute_reply": "2024-10-22T13:19:18.983344Z"
    },
    "id": "HcBt4G5BmSjr"
   },
   "outputs": [
    {
     "name": "stdout",
     "output_type": "stream",
     "text": [
      "Part of edges: [[955 322]\n",
      " [833 228]\n",
      " [916 266]\n",
      " [495 737]\n",
      " [556 614]]\n",
      "Edges are saved into ./ondisk_dataset_homograph/edges.csv\n"
     ]
    }
   ],
   "source": [
    "import numpy as np\n",
    "import pandas as pd\n",
    "num_nodes = 1000\n",
    "num_edges = 10 * num_nodes\n",
    "edges_path = os.path.join(base_dir, \"edges.csv\")\n",
    "edges = np.random.randint(0, num_nodes, size=(num_edges, 2))\n",
    "\n",
    "print(f\"Part of edges: {edges[:5, :]}\")\n",
    "\n",
    "df = pd.DataFrame(edges)\n",
    "df.to_csv(edges_path, index=False, header=False)\n",
    "\n",
    "print(f\"Edges are saved into {edges_path}\")"
   ]
  },
  {
   "cell_type": "markdown",
   "metadata": {
    "id": "kh-4cPtzpcaH"
   },
   "source": [
    "### Generate feature data for graph\n",
    "For feature data, numpy arrays and torch tensors are supported for now."
   ]
  },
  {
   "cell_type": "code",
   "execution_count": 4,
   "metadata": {
    "execution": {
     "iopub.execute_input": "2024-10-22T13:19:18.986814Z",
     "iopub.status.busy": "2024-10-22T13:19:18.986423Z",
     "iopub.status.idle": "2024-10-22T13:19:19.007624Z",
     "shell.execute_reply": "2024-10-22T13:19:19.006605Z"
    },
    "id": "_PVu1u5brBhF"
   },
   "outputs": [
    {
     "name": "stdout",
     "output_type": "stream",
     "text": [
      "Part of node feature [feat_0]: [[0.1929365  0.44825991 0.19099695 0.8218154  0.26674347]\n",
      " [0.28130715 0.00373988 0.96585574 0.99441138 0.37031047]\n",
      " [0.43795626 0.85306124 0.59475084 0.80120045 0.84488468]]\n",
      "Node feature [feat_0] is saved to ./ondisk_dataset_homograph/node-feat-0.npy\n",
      "\n",
      "Part of node feature [feat_1]: tensor([[0.3407, 0.3397, 0.9404, 0.9271, 0.0962],\n",
      "        [0.5350, 0.5190, 0.3797, 0.9643, 0.5906],\n",
      "        [0.1014, 0.3090, 0.8231, 0.2484, 0.7100]])\n",
      "Node feature [feat_1] is saved to ./ondisk_dataset_homograph/node-feat-1.pt\n",
      "\n",
      "Part of edge feature [feat_0]: [[0.06003996 0.79393255 0.32370147 0.16464565 0.393176  ]\n",
      " [0.88095854 0.17477839 0.78711638 0.69678741 0.50696185]\n",
      " [0.68269882 0.76073032 0.47206809 0.20866702 0.65024324]]\n",
      "Edge feature [feat_0] is saved to ./ondisk_dataset_homograph/edge-feat-0.npy\n",
      "\n",
      "Part of edge feature [feat_1]: tensor([[0.8700, 0.9073, 0.5818, 0.8592, 0.1023],\n",
      "        [0.2815, 0.5092, 0.9216, 0.2474, 0.8670],\n",
      "        [0.0706, 0.0147, 0.9182, 0.3320, 0.1404]])\n",
      "Edge feature [feat_1] is saved to ./ondisk_dataset_homograph/edge-feat-1.pt\n",
      "\n"
     ]
    }
   ],
   "source": [
    "# Generate node feature in numpy array.\n",
    "node_feat_0_path = os.path.join(base_dir, \"node-feat-0.npy\")\n",
    "node_feat_0 = np.random.rand(num_nodes, 5)\n",
    "print(f\"Part of node feature [feat_0]: {node_feat_0[:3, :]}\")\n",
    "np.save(node_feat_0_path, node_feat_0)\n",
    "print(f\"Node feature [feat_0] is saved to {node_feat_0_path}\\n\")\n",
    "\n",
    "# Generate another node feature in torch tensor\n",
    "node_feat_1_path = os.path.join(base_dir, \"node-feat-1.pt\")\n",
    "node_feat_1 = torch.rand(num_nodes, 5)\n",
    "print(f\"Part of node feature [feat_1]: {node_feat_1[:3, :]}\")\n",
    "torch.save(node_feat_1, node_feat_1_path)\n",
    "print(f\"Node feature [feat_1] is saved to {node_feat_1_path}\\n\")\n",
    "\n",
    "# Generate edge feature in numpy array.\n",
    "edge_feat_0_path = os.path.join(base_dir, \"edge-feat-0.npy\")\n",
    "edge_feat_0 = np.random.rand(num_edges, 5)\n",
    "print(f\"Part of edge feature [feat_0]: {edge_feat_0[:3, :]}\")\n",
    "np.save(edge_feat_0_path, edge_feat_0)\n",
    "print(f\"Edge feature [feat_0] is saved to {edge_feat_0_path}\\n\")\n",
    "\n",
    "# Generate another edge feature in torch tensor\n",
    "edge_feat_1_path = os.path.join(base_dir, \"edge-feat-1.pt\")\n",
    "edge_feat_1 = torch.rand(num_edges, 5)\n",
    "print(f\"Part of edge feature [feat_1]: {edge_feat_1[:3, :]}\")\n",
    "torch.save(edge_feat_1, edge_feat_1_path)\n",
    "print(f\"Edge feature [feat_1] is saved to {edge_feat_1_path}\\n\")\n"
   ]
  },
  {
   "cell_type": "markdown",
   "metadata": {
    "id": "ZyqgOtsIwzh_"
   },
   "source": [
    "### Generate tasks\n",
    "`OnDiskDataset` supports multiple tasks. For each task, we need to prepare training/validation/test sets respectively. Such sets usually vary among different tasks. In this tutorial, let's create a **Node Classification** task and **Link Prediction** task."
   ]
  },
  {
   "cell_type": "markdown",
   "metadata": {
    "id": "hVxHaDIfzCkr"
   },
   "source": [
    "#### Node Classification Task\n",
    "For node classification task, we need **node IDs** and corresponding **labels** for each training/validation/test set. Like feature data, numpy arrays and torch tensors are supported for these sets."
   ]
  },
  {
   "cell_type": "code",
   "execution_count": 5,
   "metadata": {
    "execution": {
     "iopub.execute_input": "2024-10-22T13:19:19.009642Z",
     "iopub.status.busy": "2024-10-22T13:19:19.009441Z",
     "iopub.status.idle": "2024-10-22T13:19:19.022000Z",
     "shell.execute_reply": "2024-10-22T13:19:19.021005Z"
    },
    "id": "S5-fyBbHzTCO"
   },
   "outputs": [
    {
     "name": "stdout",
     "output_type": "stream",
     "text": [
      "Part of train ids for node classification: [790 170 814]\n",
      "NC train ids are saved to ./ondisk_dataset_homograph/nc-train-ids.npy\n",
      "\n",
      "Part of train labels for node classification: tensor([7, 0, 8])\n",
      "NC train labels are saved to ./ondisk_dataset_homograph/nc-train-labels.pt\n",
      "\n",
      "Part of val ids for node classification: [687 677 811]\n",
      "NC val ids are saved to ./ondisk_dataset_homograph/nc-val-ids.npy\n",
      "\n",
      "Part of val labels for node classification: tensor([2, 2, 3])\n",
      "NC val labels are saved to ./ondisk_dataset_homograph/nc-val-labels.pt\n",
      "\n",
      "Part of test ids for node classification: [488 102 269]\n",
      "NC test ids are saved to ./ondisk_dataset_homograph/nc-test-ids.npy\n",
      "\n",
      "Part of test labels for node classification: tensor([4, 1, 1])\n",
      "NC test labels are saved to ./ondisk_dataset_homograph/nc-test-labels.pt\n",
      "\n"
     ]
    }
   ],
   "source": [
    "num_trains = int(num_nodes * 0.6)\n",
    "num_vals = int(num_nodes * 0.2)\n",
    "num_tests = num_nodes - num_trains - num_vals\n",
    "\n",
    "ids = np.arange(num_nodes)\n",
    "np.random.shuffle(ids)\n",
    "\n",
    "nc_train_ids_path = os.path.join(base_dir, \"nc-train-ids.npy\")\n",
    "nc_train_ids = ids[:num_trains]\n",
    "print(f\"Part of train ids for node classification: {nc_train_ids[:3]}\")\n",
    "np.save(nc_train_ids_path, nc_train_ids)\n",
    "print(f\"NC train ids are saved to {nc_train_ids_path}\\n\")\n",
    "\n",
    "nc_train_labels_path = os.path.join(base_dir, \"nc-train-labels.pt\")\n",
    "nc_train_labels = torch.randint(0, 10, (num_trains,))\n",
    "print(f\"Part of train labels for node classification: {nc_train_labels[:3]}\")\n",
    "torch.save(nc_train_labels, nc_train_labels_path)\n",
    "print(f\"NC train labels are saved to {nc_train_labels_path}\\n\")\n",
    "\n",
    "nc_val_ids_path = os.path.join(base_dir, \"nc-val-ids.npy\")\n",
    "nc_val_ids = ids[num_trains:num_trains+num_vals]\n",
    "print(f\"Part of val ids for node classification: {nc_val_ids[:3]}\")\n",
    "np.save(nc_val_ids_path, nc_val_ids)\n",
    "print(f\"NC val ids are saved to {nc_val_ids_path}\\n\")\n",
    "\n",
    "nc_val_labels_path = os.path.join(base_dir, \"nc-val-labels.pt\")\n",
    "nc_val_labels = torch.randint(0, 10, (num_vals,))\n",
    "print(f\"Part of val labels for node classification: {nc_val_labels[:3]}\")\n",
    "torch.save(nc_val_labels, nc_val_labels_path)\n",
    "print(f\"NC val labels are saved to {nc_val_labels_path}\\n\")\n",
    "\n",
    "nc_test_ids_path = os.path.join(base_dir, \"nc-test-ids.npy\")\n",
    "nc_test_ids = ids[-num_tests:]\n",
    "print(f\"Part of test ids for node classification: {nc_test_ids[:3]}\")\n",
    "np.save(nc_test_ids_path, nc_test_ids)\n",
    "print(f\"NC test ids are saved to {nc_test_ids_path}\\n\")\n",
    "\n",
    "nc_test_labels_path = os.path.join(base_dir, \"nc-test-labels.pt\")\n",
    "nc_test_labels = torch.randint(0, 10, (num_tests,))\n",
    "print(f\"Part of test labels for node classification: {nc_test_labels[:3]}\")\n",
    "torch.save(nc_test_labels, nc_test_labels_path)\n",
    "print(f\"NC test labels are saved to {nc_test_labels_path}\\n\")"
   ]
  },
  {
   "cell_type": "markdown",
   "metadata": {
    "id": "LhAcDCHQ_KJ0"
   },
   "source": [
    "#### Link Prediction Task\n",
    "For link prediction task, we need **seeds** or **corresponding labels and indexes** which representing the pos/neg property and group of the seeds for each training/validation/test set. Like feature data, numpy arrays and torch tensors are supported for these sets."
   ]
  },
  {
   "cell_type": "code",
   "execution_count": 6,
   "metadata": {
    "execution": {
     "iopub.execute_input": "2024-10-22T13:19:19.023877Z",
     "iopub.status.busy": "2024-10-22T13:19:19.023666Z",
     "iopub.status.idle": "2024-10-22T13:19:19.042245Z",
     "shell.execute_reply": "2024-10-22T13:19:19.041209Z"
    },
    "id": "u0jCnXIcAQy4"
   },
   "outputs": [
    {
     "name": "stdout",
     "output_type": "stream",
     "text": [
      "Part of train seeds for link prediction: [[955 322]\n",
      " [833 228]\n",
      " [916 266]]\n",
      "LP train seeds are saved to ./ondisk_dataset_homograph/lp-train-seeds.npy\n",
      "\n",
      "Part of val seeds for link prediction: [[164 508]\n",
      " [555 384]\n",
      " [637 602]]\n",
      "LP val seeds are saved to ./ondisk_dataset_homograph/lp-val-seeds.npy\n",
      "\n",
      "Part of val labels for link prediction: [1. 1. 1.]\n",
      "LP val labels are saved to ./ondisk_dataset_homograph/lp-val-labels.npy\n",
      "\n",
      "Part of val indexes for link prediction: [0 1 2]\n",
      "LP val indexes are saved to ./ondisk_dataset_homograph/lp-val-indexes.npy\n",
      "\n",
      "Part of test seeds for link prediction: [[496 113]\n",
      " [579  33]\n",
      " [576  95]]\n",
      "LP test seeds are saved to ./ondisk_dataset_homograph/lp-test-seeds.npy\n",
      "\n",
      "Part of val labels for link prediction: [1. 1. 1.]\n",
      "LP test labels are saved to ./ondisk_dataset_homograph/lp-test-labels.npy\n",
      "\n",
      "Part of test indexes for link prediction: [0 1 2]\n",
      "LP test indexes are saved to ./ondisk_dataset_homograph/lp-test-indexes.npy\n",
      "\n"
     ]
    }
   ],
   "source": [
    "num_trains = int(num_edges * 0.6)\n",
    "num_vals = int(num_edges * 0.2)\n",
    "num_tests = num_edges - num_trains - num_vals\n",
    "\n",
    "lp_train_seeds_path = os.path.join(base_dir, \"lp-train-seeds.npy\")\n",
    "lp_train_seeds = edges[:num_trains, :]\n",
    "print(f\"Part of train seeds for link prediction: {lp_train_seeds[:3]}\")\n",
    "np.save(lp_train_seeds_path, lp_train_seeds)\n",
    "print(f\"LP train seeds are saved to {lp_train_seeds_path}\\n\")\n",
    "\n",
    "lp_val_seeds_path = os.path.join(base_dir, \"lp-val-seeds.npy\")\n",
    "lp_val_seeds = edges[num_trains:num_trains+num_vals, :]\n",
    "lp_val_neg_dsts = np.random.randint(0, num_nodes, (num_vals, 10)).reshape(-1)\n",
    "lp_val_neg_srcs = np.repeat(lp_val_seeds[:,0], 10)\n",
    "lp_val_neg_seeds = np.concatenate((lp_val_neg_srcs, lp_val_neg_dsts)).reshape(2,-1).T\n",
    "lp_val_seeds = np.concatenate((lp_val_seeds, lp_val_neg_seeds))\n",
    "print(f\"Part of val seeds for link prediction: {lp_val_seeds[:3]}\")\n",
    "np.save(lp_val_seeds_path, lp_val_seeds)\n",
    "print(f\"LP val seeds are saved to {lp_val_seeds_path}\\n\")\n",
    "\n",
    "lp_val_labels_path = os.path.join(base_dir, \"lp-val-labels.npy\")\n",
    "lp_val_labels = np.empty(num_vals * (10 + 1))\n",
    "lp_val_labels[:num_vals] = 1\n",
    "lp_val_labels[num_vals:] = 0\n",
    "print(f\"Part of val labels for link prediction: {lp_val_labels[:3]}\")\n",
    "np.save(lp_val_labels_path, lp_val_labels)\n",
    "print(f\"LP val labels are saved to {lp_val_labels_path}\\n\")\n",
    "\n",
    "lp_val_indexes_path = os.path.join(base_dir, \"lp-val-indexes.npy\")\n",
    "lp_val_indexes = np.arange(0, num_vals)\n",
    "lp_val_neg_indexes = np.repeat(lp_val_indexes, 10)\n",
    "lp_val_indexes = np.concatenate([lp_val_indexes, lp_val_neg_indexes])\n",
    "print(f\"Part of val indexes for link prediction: {lp_val_indexes[:3]}\")\n",
    "np.save(lp_val_indexes_path, lp_val_indexes)\n",
    "print(f\"LP val indexes are saved to {lp_val_indexes_path}\\n\")\n",
    "\n",
    "lp_test_seeds_path = os.path.join(base_dir, \"lp-test-seeds.npy\")\n",
    "lp_test_seeds = edges[-num_tests:, :]\n",
    "lp_test_neg_dsts = np.random.randint(0, num_nodes, (num_tests, 10)).reshape(-1)\n",
    "lp_test_neg_srcs = np.repeat(lp_test_seeds[:,0], 10)\n",
    "lp_test_neg_seeds = np.concatenate((lp_test_neg_srcs, lp_test_neg_dsts)).reshape(2,-1).T\n",
    "lp_test_seeds = np.concatenate((lp_test_seeds, lp_test_neg_seeds))\n",
    "print(f\"Part of test seeds for link prediction: {lp_test_seeds[:3]}\")\n",
    "np.save(lp_test_seeds_path, lp_test_seeds)\n",
    "print(f\"LP test seeds are saved to {lp_test_seeds_path}\\n\")\n",
    "\n",
    "lp_test_labels_path = os.path.join(base_dir, \"lp-test-labels.npy\")\n",
    "lp_test_labels = np.empty(num_tests * (10 + 1))\n",
    "lp_test_labels[:num_tests] = 1\n",
    "lp_test_labels[num_tests:] = 0\n",
    "print(f\"Part of val labels for link prediction: {lp_test_labels[:3]}\")\n",
    "np.save(lp_test_labels_path, lp_test_labels)\n",
    "print(f\"LP test labels are saved to {lp_test_labels_path}\\n\")\n",
    "\n",
    "lp_test_indexes_path = os.path.join(base_dir, \"lp-test-indexes.npy\")\n",
    "lp_test_indexes = np.arange(0, num_tests)\n",
    "lp_test_neg_indexes = np.repeat(lp_test_indexes, 10)\n",
    "lp_test_indexes = np.concatenate([lp_test_indexes, lp_test_neg_indexes])\n",
    "print(f\"Part of test indexes for link prediction: {lp_test_indexes[:3]}\")\n",
    "np.save(lp_test_indexes_path, lp_test_indexes)\n",
    "print(f\"LP test indexes are saved to {lp_test_indexes_path}\\n\")"
   ]
  },
  {
   "cell_type": "markdown",
   "metadata": {
    "id": "wbk6-wxRK-6S"
   },
   "source": [
    "## Organize Data into YAML File\n",
    "Now we need to create a `metadata.yaml` file which contains the paths, dadta types of graph structure, feature data, training/validation/test sets.\n",
    "\n",
    "Notes:\n",
    "- all path should be relative to `metadata.yaml`.\n",
    "- Below fields are optional and not specified in below example.\n",
    "  - `in_memory`: indicates whether to load dada into memory or `mmap`. Default is `True`.\n",
    "\n",
    "Please refer to [YAML specification](https://github.com/dmlc/dgl/blob/master/docs/source/stochastic_training/ondisk-dataset-specification.rst) for more details."
   ]
  },
  {
   "cell_type": "code",
   "execution_count": 7,
   "metadata": {
    "execution": {
     "iopub.execute_input": "2024-10-22T13:19:19.044781Z",
     "iopub.status.busy": "2024-10-22T13:19:19.044341Z",
     "iopub.status.idle": "2024-10-22T13:19:19.051352Z",
     "shell.execute_reply": "2024-10-22T13:19:19.050321Z"
    },
    "id": "ddGTWW61Lpwp"
   },
   "outputs": [],
   "source": [
    "yaml_content = f\"\"\"\n",
    "    dataset_name: homogeneous_graph_nc_lp\n",
    "    graph:\n",
    "      nodes:\n",
    "        - num: {num_nodes}\n",
    "      edges:\n",
    "        - format: csv\n",
    "          path: {os.path.basename(edges_path)}\n",
    "    feature_data:\n",
    "      - domain: node\n",
    "        name: feat_0\n",
    "        format: numpy\n",
    "        path: {os.path.basename(node_feat_0_path)}\n",
    "      - domain: node\n",
    "        name: feat_1\n",
    "        format: torch\n",
    "        path: {os.path.basename(node_feat_1_path)}\n",
    "      - domain: edge\n",
    "        name: feat_0\n",
    "        format: numpy\n",
    "        path: {os.path.basename(edge_feat_0_path)}\n",
    "      - domain: edge\n",
    "        name: feat_1\n",
    "        format: torch\n",
    "        path: {os.path.basename(edge_feat_1_path)}\n",
    "    tasks:\n",
    "      - name: node_classification\n",
    "        num_classes: 10\n",
    "        train_set:\n",
    "          - data:\n",
    "              - name: seeds\n",
    "                format: numpy\n",
    "                path: {os.path.basename(nc_train_ids_path)}\n",
    "              - name: labels\n",
    "                format: torch\n",
    "                path: {os.path.basename(nc_train_labels_path)}\n",
    "        validation_set:\n",
    "          - data:\n",
    "              - name: seeds\n",
    "                format: numpy\n",
    "                path: {os.path.basename(nc_val_ids_path)}\n",
    "              - name: labels\n",
    "                format: torch\n",
    "                path: {os.path.basename(nc_val_labels_path)}\n",
    "        test_set:\n",
    "          - data:\n",
    "              - name: seeds\n",
    "                format: numpy\n",
    "                path: {os.path.basename(nc_test_ids_path)}\n",
    "              - name: labels\n",
    "                format: torch\n",
    "                path: {os.path.basename(nc_test_labels_path)}\n",
    "      - name: link_prediction\n",
    "        num_classes: 10\n",
    "        train_set:\n",
    "          - data:\n",
    "              - name: seeds\n",
    "                format: numpy\n",
    "                path: {os.path.basename(lp_train_seeds_path)}\n",
    "        validation_set:\n",
    "          - data:\n",
    "              - name: seeds\n",
    "                format: numpy\n",
    "                path: {os.path.basename(lp_val_seeds_path)}\n",
    "              - name: labels\n",
    "                format: numpy\n",
    "                path: {os.path.basename(lp_val_labels_path)}\n",
    "              - name: indexes\n",
    "                format: numpy\n",
    "                path: {os.path.basename(lp_val_indexes_path)}\n",
    "        test_set:\n",
    "          - data:\n",
    "              - name: seeds\n",
    "                format: numpy\n",
    "                path: {os.path.basename(lp_test_seeds_path)}\n",
    "              - name: labels\n",
    "                format: numpy\n",
    "                path: {os.path.basename(lp_test_labels_path)}\n",
    "              - name: indexes\n",
    "                format: numpy\n",
    "                path: {os.path.basename(lp_test_indexes_path)}\n",
    "\"\"\"\n",
    "metadata_path = os.path.join(base_dir, \"metadata.yaml\")\n",
    "with open(metadata_path, \"w\") as f:\n",
    "  f.write(yaml_content)"
   ]
  },
  {
   "cell_type": "markdown",
   "metadata": {
    "id": "kEfybHGhOW7O"
   },
   "source": [
    "## Instantiate `OnDiskDataset`\n",
    "Now we're ready to load dataset via `dgl.graphbolt.OnDiskDataset`. When instantiating, we just pass in the base directory where `metadata.yaml` file lies.\n",
    "\n",
    "During first instantiation, GraphBolt preprocesses the raw data such as constructing `FusedCSCSamplingGraph` from edges. All data including graph, feature data, training/validation/test sets are put into `preprocessed` directory after preprocessing. Any following dataset loading will skip the preprocess stage.\n",
    "\n",
    "After preprocessing, `load()` is required to be called explicitly in order to load graph, feature data and tasks."
   ]
  },
  {
   "cell_type": "code",
   "execution_count": 8,
   "metadata": {
    "execution": {
     "iopub.execute_input": "2024-10-22T13:19:19.053610Z",
     "iopub.status.busy": "2024-10-22T13:19:19.053278Z",
     "iopub.status.idle": "2024-10-22T13:19:19.128218Z",
     "shell.execute_reply": "2024-10-22T13:19:19.127503Z"
    },
    "id": "W58CZoSzOiyo"
   },
   "outputs": [
    {
     "name": "stdout",
     "output_type": "stream",
     "text": [
      "Start to preprocess the on-disk dataset.\n",
      "Finish preprocessing the on-disk dataset.\n",
      "Loaded graph: FusedCSCSamplingGraph(csc_indptr=tensor([    0,     8,    19,  ...,  9980,  9991, 10000], dtype=torch.int32),\n",
      "                      indices=tensor([558, 953, 990,  ..., 791, 976, 779], dtype=torch.int32),\n",
      "                      total_num_nodes=1000, num_edges=10000,)\n",
      "\n",
      "Loaded feature store: TorchBasedFeatureStore(\n",
      "    {(<OnDiskFeatureDataDomain.NODE: 'node'>, None, 'feat_0'): TorchBasedFeature(\n",
      "        feature=tensor([[0.1929, 0.4483, 0.1910, 0.8218, 0.2667],\n",
      "                        [0.2813, 0.0037, 0.9659, 0.9944, 0.3703],\n",
      "                        [0.4380, 0.8531, 0.5948, 0.8012, 0.8449],\n",
      "                        ...,\n",
      "                        [0.5375, 0.2416, 0.1413, 0.5357, 0.5737],\n",
      "                        [0.9877, 0.3925, 0.0070, 0.2636, 0.5831],\n",
      "                        [0.2074, 0.6978, 0.2095, 0.1177, 0.9646]], dtype=torch.float64),\n",
      "        metadata={},\n",
      "    ), (<OnDiskFeatureDataDomain.NODE: 'node'>, None, 'feat_1'): TorchBasedFeature(\n",
      "        feature=tensor([[0.3407, 0.3397, 0.9404, 0.9271, 0.0962],\n",
      "                        [0.5350, 0.5190, 0.3797, 0.9643, 0.5906],\n",
      "                        [0.1014, 0.3090, 0.8231, 0.2484, 0.7100],\n",
      "                        ...,\n",
      "                        [0.9831, 0.9960, 0.6263, 0.5129, 0.5357],\n",
      "                        [0.7514, 0.7953, 0.7174, 0.6401, 0.4697],\n",
      "                        [0.0046, 0.3571, 0.5178, 0.2566, 0.7173]]),\n",
      "        metadata={},\n",
      "    ), (<OnDiskFeatureDataDomain.EDGE: 'edge'>, None, 'feat_0'): TorchBasedFeature(\n",
      "        feature=tensor([[0.0600, 0.7939, 0.3237, 0.1646, 0.3932],\n",
      "                        [0.8810, 0.1748, 0.7871, 0.6968, 0.5070],\n",
      "                        [0.6827, 0.7607, 0.4721, 0.2087, 0.6502],\n",
      "                        ...,\n",
      "                        [0.2770, 0.9945, 0.3336, 0.5298, 0.6924],\n",
      "                        [0.0288, 0.4334, 0.5415, 0.6166, 0.5267],\n",
      "                        [0.6676, 0.0704, 0.9991, 0.4969, 0.0159]], dtype=torch.float64),\n",
      "        metadata={},\n",
      "    ), (<OnDiskFeatureDataDomain.EDGE: 'edge'>, None, 'feat_1'): TorchBasedFeature(\n",
      "        feature=tensor([[0.8700, 0.9073, 0.5818, 0.8592, 0.1023],\n",
      "                        [0.2815, 0.5092, 0.9216, 0.2474, 0.8670],\n",
      "                        [0.0706, 0.0147, 0.9182, 0.3320, 0.1404],\n",
      "                        ...,\n",
      "                        [0.1894, 0.8075, 0.2001, 0.4303, 0.4512],\n",
      "                        [0.3334, 0.8593, 0.3650, 0.0272, 0.5231],\n",
      "                        [0.8244, 0.9112, 0.6685, 0.1119, 0.0477]]),\n",
      "        metadata={},\n",
      "    )}\n",
      ")\n",
      "\n",
      "Loaded node classification task: OnDiskTask(validation_set=ItemSet(\n",
      "               items=(tensor([687, 677, 811,  74, 515, 377, 813, 745, 262, 457, 144, 540, 909, 252,\n",
      "                   933, 203, 572, 675, 867, 818, 320, 501, 233, 897, 838, 271, 857, 211,\n",
      "                   943, 674, 638, 185, 769, 148, 146, 423, 361, 565, 643, 558, 413, 402,\n",
      "                   766, 888, 698,  71, 332, 598, 954, 783, 658,  60, 998, 912, 417, 990,\n",
      "                   289, 364, 651, 297, 508, 886, 206, 169, 816, 124, 466, 330, 964, 403,\n",
      "                    72, 355, 810, 676, 369, 258, 338,  12, 500, 385, 210, 995, 996, 229,\n",
      "                   833, 463, 619, 299, 574, 671, 794,  57, 721, 760, 980, 295, 761, 473,\n",
      "                   421, 568, 762, 821, 238,  99, 314, 157, 220, 228, 767,  18,  29, 830,\n",
      "                   404, 553, 138, 304, 805, 379, 882, 326, 777, 257, 234, 925, 544, 586,\n",
      "                   665, 394,   8,  96, 125, 668,  13, 430,  82, 312, 411, 528,  25,  55,\n",
      "                   699, 719, 626, 981, 552, 536, 629, 870, 143, 734, 560, 243, 778, 976,\n",
      "                   751, 225, 214, 198, 864, 542, 582, 636, 869, 414, 139, 416, 433, 577,\n",
      "                   126, 534, 392, 344, 697, 250, 447, 787, 398, 729, 604, 968, 459, 661,\n",
      "                   523, 223, 958, 901, 261, 708, 900, 979, 556,  89, 145, 641, 564, 693,\n",
      "                   571, 186, 935, 213], dtype=torch.int32), tensor([2, 2, 3, 9, 0, 7, 6, 5, 9, 2, 8, 2, 7, 3, 1, 7, 3, 9, 3, 2, 5, 8, 0, 2,\n",
      "                   0, 2, 5, 6, 6, 9, 9, 6, 1, 6, 9, 3, 1, 4, 3, 8, 7, 9, 8, 7, 3, 4, 1, 9,\n",
      "                   0, 9, 9, 6, 8, 5, 2, 5, 0, 5, 3, 8, 1, 0, 8, 5, 9, 6, 4, 3, 6, 4, 9, 6,\n",
      "                   7, 7, 4, 6, 3, 3, 3, 4, 1, 1, 8, 4, 5, 1, 7, 8, 1, 5, 2, 1, 3, 7, 4, 9,\n",
      "                   1, 2, 3, 4, 3, 7, 1, 7, 9, 5, 7, 6, 4, 1, 9, 7, 0, 9, 9, 9, 2, 4, 5, 5,\n",
      "                   5, 8, 5, 2, 9, 1, 6, 1, 3, 4, 4, 3, 0, 3, 7, 7, 8, 1, 3, 6, 6, 1, 5, 2,\n",
      "                   0, 0, 1, 5, 7, 2, 0, 6, 7, 3, 6, 8, 8, 2, 1, 3, 7, 7, 7, 0, 9, 8, 9, 9,\n",
      "                   3, 7, 0, 1, 0, 8, 1, 9, 6, 2, 3, 6, 9, 8, 1, 2, 1, 2, 9, 5, 4, 1, 6, 5,\n",
      "                   8, 2, 5, 4, 1, 0, 0, 7])),\n",
      "               names=('seeds', 'labels'),\n",
      "           ),\n",
      "           train_set=ItemSet(\n",
      "               items=(tensor([790, 170, 814, 569,   0, 531, 296, 104, 418, 182, 834, 650, 750, 779,\n",
      "                   142, 221, 983, 612, 942, 489, 241, 273, 846, 219, 799,  64, 731,  92,\n",
      "                   977, 348, 617, 541, 878,  23, 653, 733, 874, 352, 302, 216, 788, 738,\n",
      "                   872, 505, 163, 796, 914, 525, 499, 135, 188, 929, 504, 388, 774,  43,\n",
      "                    59, 917, 327, 848, 323, 695, 726, 972, 429, 527, 625, 993, 963, 605,\n",
      "                   967, 776, 337, 287, 328, 389, 127, 602, 815, 521, 551, 694, 546, 711,\n",
      "                   529,  86, 341, 427, 484, 952,  16, 700,  22,  33, 518, 471, 863, 696,\n",
      "                   374, 120,   7, 956, 798, 837, 898, 465, 130, 690, 376, 254, 194, 358,\n",
      "                   360, 530, 567, 911, 168, 395, 399, 248, 839, 985, 283, 633, 153, 948,\n",
      "                   378,  65, 657, 202, 610, 347, 730, 692,  20,  48, 117, 494, 449, 456,\n",
      "                     4, 401, 461, 380, 132, 192, 595, 149,  53, 114, 630, 975, 949, 301,\n",
      "                   319, 635, 441, 513, 578, 437, 703, 533, 516, 235, 581, 873, 425, 649,\n",
      "                   945, 282, 576, 284, 920, 217, 773, 190, 294, 493, 272, 672, 406, 506,\n",
      "                   291, 368, 147, 566, 110, 923, 727, 735, 939, 333, 656, 797,  11, 372,\n",
      "                   240, 381, 259, 281, 926, 470, 594, 561, 496, 982, 905, 424, 306, 702,\n",
      "                   918, 922, 615, 991, 879, 386, 108,  34, 150, 655, 180, 648, 732, 768,\n",
      "                   407,  81, 934, 472, 278, 932, 717, 808, 128, 793,  39, 884, 688, 286,\n",
      "                   853, 880, 741, 618, 679, 881, 244, 300, 889, 318, 397,  76, 557, 802,\n",
      "                   196, 183, 119,  77, 988, 162, 919, 390, 754, 740, 415, 452, 763,  30,\n",
      "                    87,  88, 467, 444, 704, 342, 622, 992, 498, 290, 270, 522,  42, 856,\n",
      "                   608, 593, 966, 292, 391, 645, 913, 239, 890, 555, 896, 199, 707, 159,\n",
      "                   885, 686, 632, 442,  95, 755, 310, 860, 356, 737, 474, 253, 335,   3,\n",
      "                   343, 197, 758, 792, 334, 191, 165, 947, 107, 899, 357, 383, 222, 938,\n",
      "                   177, 666, 115, 161, 591, 242, 485,  52, 267,  62, 944, 851, 994, 265,\n",
      "                   321, 483, 453, 450, 492, 412, 478, 715, 324, 563, 628, 960, 875, 709,\n",
      "                    69,   9,  54, 428, 106,  66, 803, 827, 764, 331,  27, 868, 136, 426,\n",
      "                   535, 276, 973, 435, 122, 509, 109, 275, 307, 910, 409, 725, 716, 849,\n",
      "                   308,  93, 946, 924, 184, 151, 739, 100, 179, 476, 329, 140, 226, 167,\n",
      "                     1, 537, 468, 780, 434, 187, 520, 497, 303, 204,  73, 828, 154, 251,\n",
      "                   728, 370, 685, 623, 936, 443, 166, 588,  70, 859, 587, 937,  80,  28,\n",
      "                   482, 680, 387, 351, 840,  61,  79, 969, 887, 550, 950, 111, 631, 548,\n",
      "                   850, 736, 477, 545, 255, 573, 371, 305, 359, 832, 490, 720, 600, 440,\n",
      "                   820, 667, 405, 807, 782, 654,  94, 652, 155, 902,  46, 419, 173, 957,\n",
      "                   105, 178, 753, 247, 894, 953, 866, 112, 824, 512, 908,  41, 507,  63,\n",
      "                   366, 997, 422, 375, 322, 772, 570, 293, 927, 266,  36, 620, 627, 961,\n",
      "                    10, 785, 339, 354, 208, 274,  47, 230, 809, 855, 757,  24, 765, 502,\n",
      "                   826, 691, 158, 681, 445, 669,  50, 791,  19, 264, 781,  56, 984, 895,\n",
      "                   491, 325, 916, 455, 479, 365, 817, 644,  26, 723, 249, 218,  91, 316,\n",
      "                   340, 263,  78, 822, 579,  85, 549, 458, 930, 510, 176, 311, 965, 689,\n",
      "                   584, 710, 367,   6, 260, 539, 543, 861, 193, 103, 907, 268, 714, 519,\n",
      "                   986, 172,  35, 195, 624, 469, 231, 532, 812, 384, 454, 639, 883, 246,\n",
      "                   928, 613, 756,  38, 336, 876, 309, 181, 400, 446, 607, 843, 597,  21,\n",
      "                   742,   5, 637, 646, 517,  58, 951, 171, 215, 759, 363, 562],\n",
      "                  dtype=torch.int32), tensor([7, 0, 8, 4, 5, 0, 1, 4, 5, 3, 8, 2, 2, 4, 1, 3, 4, 4, 8, 6, 3, 5, 7, 7,\n",
      "                   8, 0, 2, 3, 8, 1, 1, 7, 2, 6, 9, 1, 1, 5, 0, 9, 4, 9, 9, 8, 4, 3, 5, 8,\n",
      "                   0, 9, 9, 7, 3, 2, 1, 1, 2, 6, 0, 8, 4, 6, 3, 6, 5, 9, 4, 0, 5, 9, 1, 0,\n",
      "                   0, 6, 3, 2, 8, 6, 7, 4, 3, 4, 5, 4, 7, 2, 5, 8, 0, 8, 6, 1, 9, 5, 6, 9,\n",
      "                   2, 8, 3, 1, 9, 1, 1, 4, 5, 9, 7, 9, 7, 8, 3, 6, 4, 6, 4, 9, 3, 0, 4, 3,\n",
      "                   8, 2, 4, 8, 9, 5, 4, 3, 4, 3, 2, 4, 0, 6, 7, 4, 4, 1, 3, 6, 1, 8, 8, 6,\n",
      "                   0, 4, 0, 2, 3, 2, 2, 2, 1, 9, 9, 1, 8, 7, 5, 1, 3, 2, 4, 6, 3, 7, 4, 5,\n",
      "                   7, 5, 6, 1, 9, 8, 3, 2, 8, 6, 6, 4, 1, 7, 1, 5, 7, 1, 4, 2, 4, 0, 8, 5,\n",
      "                   6, 7, 2, 1, 4, 7, 9, 3, 4, 6, 5, 1, 2, 1, 5, 5, 8, 1, 4, 7, 9, 6, 2, 3,\n",
      "                   7, 0, 1, 5, 1, 5, 6, 0, 8, 9, 4, 5, 1, 4, 8, 4, 2, 5, 3, 4, 4, 8, 7, 4,\n",
      "                   6, 5, 0, 7, 5, 5, 7, 2, 4, 5, 7, 3, 3, 2, 8, 2, 7, 1, 5, 4, 3, 0, 7, 5,\n",
      "                   6, 8, 9, 7, 4, 0, 8, 1, 9, 2, 3, 0, 1, 6, 3, 6, 4, 7, 1, 8, 9, 9, 2, 2,\n",
      "                   4, 7, 0, 0, 6, 7, 2, 6, 0, 4, 6, 7, 1, 9, 3, 3, 2, 1, 7, 7, 4, 7, 2, 8,\n",
      "                   0, 5, 6, 3, 1, 4, 7, 2, 8, 1, 2, 0, 9, 2, 1, 7, 4, 5, 2, 8, 5, 1, 7, 1,\n",
      "                   8, 0, 1, 6, 6, 8, 0, 4, 5, 2, 5, 2, 5, 4, 4, 8, 0, 2, 7, 6, 6, 0, 4, 9,\n",
      "                   6, 6, 4, 8, 4, 0, 0, 2, 2, 8, 4, 2, 2, 7, 2, 8, 6, 6, 2, 1, 6, 6, 6, 2,\n",
      "                   6, 2, 4, 8, 7, 9, 8, 1, 5, 7, 2, 4, 9, 3, 4, 7, 7, 3, 4, 8, 8, 1, 9, 7,\n",
      "                   7, 6, 7, 9, 9, 2, 5, 6, 7, 5, 5, 0, 8, 0, 3, 5, 8, 2, 3, 3, 1, 4, 4, 6,\n",
      "                   5, 3, 5, 6, 0, 3, 1, 5, 7, 3, 8, 4, 9, 4, 4, 6, 0, 8, 6, 8, 5, 0, 5, 2,\n",
      "                   7, 1, 1, 4, 6, 0, 4, 2, 1, 9, 6, 3, 1, 3, 8, 2, 8, 6, 9, 1, 3, 3, 6, 6,\n",
      "                   3, 6, 5, 6, 4, 8, 3, 1, 6, 6, 0, 1, 5, 3, 7, 5, 2, 8, 6, 6, 5, 5, 5, 1,\n",
      "                   3, 3, 5, 8, 0, 2, 0, 4, 9, 7, 2, 4, 6, 2, 0, 9, 6, 4, 5, 3, 3, 4, 1, 5,\n",
      "                   3, 8, 1, 1, 2, 7, 7, 2, 8, 9, 8, 6, 2, 1, 7, 6, 3, 4, 1, 8, 0, 9, 6, 0,\n",
      "                   8, 1, 6, 7, 6, 2, 5, 3, 2, 2, 6, 4, 2, 3, 9, 9, 1, 4, 0, 1, 5, 1, 5, 6,\n",
      "                   8, 1, 3, 1, 4, 4, 1, 2, 4, 5, 7, 7, 9, 0, 1, 4, 3, 6, 8, 3, 5, 3, 3, 5])),\n",
      "               names=('seeds', 'labels'),\n",
      "           ),\n",
      "           test_set=ItemSet(\n",
      "               items=(tensor([488, 102, 269, 200, 420, 279,  31, 547, 845, 236, 514, 970, 865, 245,\n",
      "                   806, 487, 931,  83, 825, 589, 317, 315, 647, 362, 915, 396,  37, 201,\n",
      "                   712, 438, 495, 209, 673, 526, 559,   2, 350, 123, 237, 683,  90, 962,\n",
      "                    40, 659, 706, 585, 663, 713, 129, 722, 131, 974, 345, 224, 606, 684,\n",
      "                   232, 959, 156, 801, 819, 462, 373, 611, 862, 609, 175, 481, 101,  15,\n",
      "                   137, 346, 877, 999, 955,  75, 664, 189, 871,  17, 313, 634, 592, 891,\n",
      "                   662, 621, 174, 298,  49, 940, 599, 575, 800, 670, 511, 439, 921, 749,\n",
      "                   480, 718, 752, 601, 580, 432, 538, 475, 789, 903, 989, 152, 804, 554,\n",
      "                   747, 893, 616, 682, 987, 858, 823, 288, 847, 941, 771, 448, 748,  97,\n",
      "                   431,  44, 134, 408, 280, 583, 460, 614, 844, 349, 906,  84, 642, 701,\n",
      "                   836, 744, 746, 854, 160, 835, 852, 382, 118, 113, 775, 464, 831,  68,\n",
      "                   660, 892,  98, 205, 277, 786, 212, 795, 743, 978,  32, 524, 724, 770,\n",
      "                   141, 678, 164, 393, 971, 256, 596, 784, 640, 353, 285,  51, 705, 436,\n",
      "                   904, 227, 590,  14,  67, 486, 133, 842,  45, 603, 829, 410, 207, 121,\n",
      "                   451, 841, 116, 503], dtype=torch.int32), tensor([4, 1, 1, 2, 9, 9, 1, 9, 3, 8, 7, 3, 3, 5, 9, 4, 8, 5, 2, 4, 7, 3, 2, 0,\n",
      "                   5, 8, 0, 7, 4, 4, 7, 7, 9, 7, 3, 4, 4, 3, 7, 4, 5, 2, 7, 9, 6, 4, 3, 6,\n",
      "                   5, 1, 6, 2, 4, 4, 5, 3, 9, 4, 2, 3, 3, 2, 0, 3, 2, 8, 4, 5, 1, 0, 0, 6,\n",
      "                   4, 6, 1, 1, 1, 6, 1, 2, 5, 3, 4, 0, 9, 0, 6, 8, 4, 0, 1, 7, 9, 7, 7, 1,\n",
      "                   6, 4, 3, 7, 1, 6, 3, 9, 4, 8, 8, 9, 4, 1, 8, 9, 2, 6, 1, 6, 1, 8, 2, 9,\n",
      "                   4, 3, 9, 0, 4, 1, 2, 3, 5, 9, 7, 4, 0, 4, 9, 3, 5, 3, 5, 9, 6, 9, 7, 3,\n",
      "                   6, 4, 2, 5, 9, 9, 0, 3, 6, 3, 5, 9, 3, 6, 7, 0, 1, 6, 3, 5, 7, 7, 7, 0,\n",
      "                   8, 4, 4, 8, 1, 8, 9, 1, 2, 4, 1, 7, 8, 5, 8, 3, 1, 9, 4, 8, 9, 3, 7, 7,\n",
      "                   1, 5, 2, 4, 1, 7, 8, 8])),\n",
      "               names=('seeds', 'labels'),\n",
      "           ),\n",
      "           metadata={'name': 'node_classification', 'num_classes': 10},)\n",
      "\n",
      "Loaded link prediction task: OnDiskTask(validation_set=ItemSet(\n",
      "               items=(tensor([[164, 508],\n",
      "                   [555, 384],\n",
      "                   [637, 602],\n",
      "                   ...,\n",
      "                   [690, 564],\n",
      "                   [690,  28],\n",
      "                   [690, 605]], dtype=torch.int32), tensor([1., 1., 1.,  ..., 0., 0., 0.], dtype=torch.float64), tensor([   0,    1,    2,  ..., 1999, 1999, 1999])),\n",
      "               names=('seeds', 'labels', 'indexes'),\n",
      "           ),\n",
      "           train_set=ItemSet(\n",
      "               items=(tensor([[955, 322],\n",
      "                   [833, 228],\n",
      "                   [916, 266],\n",
      "                   ...,\n",
      "                   [916, 159],\n",
      "                   [491, 392],\n",
      "                   [586, 144]], dtype=torch.int32),),\n",
      "               names=('seeds',),\n",
      "           ),\n",
      "           test_set=ItemSet(\n",
      "               items=(tensor([[496, 113],\n",
      "                   [579,  33],\n",
      "                   [576,  95],\n",
      "                   ...,\n",
      "                   [343,  20],\n",
      "                   [343, 680],\n",
      "                   [343, 405]], dtype=torch.int32), tensor([1., 1., 1.,  ..., 0., 0., 0.], dtype=torch.float64), tensor([   0,    1,    2,  ..., 1999, 1999, 1999])),\n",
      "               names=('seeds', 'labels', 'indexes'),\n",
      "           ),\n",
      "           metadata={'name': 'link_prediction', 'num_classes': 10},)\n",
      "\n"
     ]
    },
    {
     "name": "stderr",
     "output_type": "stream",
     "text": [
      "/dgl/python/dgl/graphbolt/impl/ondisk_dataset.py:463: GBWarning: Edge feature is stored, but edge IDs are not saved.\n",
      "  gb_warning(\"Edge feature is stored, but edge IDs are not saved.\")\n"
     ]
    }
   ],
   "source": [
    "dataset = gb.OnDiskDataset(base_dir).load()\n",
    "graph = dataset.graph\n",
    "print(f\"Loaded graph: {graph}\\n\")\n",
    "\n",
    "feature = dataset.feature\n",
    "print(f\"Loaded feature store: {feature}\\n\")\n",
    "\n",
    "tasks = dataset.tasks\n",
    "nc_task = tasks[0]\n",
    "print(f\"Loaded node classification task: {nc_task}\\n\")\n",
    "lp_task = tasks[1]\n",
    "print(f\"Loaded link prediction task: {lp_task}\\n\")"
   ]
  }
 ],
 "metadata": {
  "colab": {
   "private_outputs": true,
   "provenance": []
  },
  "kernelspec": {
   "display_name": "Python 3",
   "name": "python3"
  },
  "language_info": {
   "codemirror_mode": {
    "name": "ipython",
    "version": 3
   },
   "file_extension": ".py",
   "mimetype": "text/x-python",
   "name": "python",
   "nbconvert_exporter": "python",
   "pygments_lexer": "ipython3",
   "version": "3.10.15"
  }
 },
 "nbformat": 4,
 "nbformat_minor": 0
}

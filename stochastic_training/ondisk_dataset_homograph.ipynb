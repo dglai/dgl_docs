{
 "cells": [
  {
   "cell_type": "markdown",
   "metadata": {
    "id": "FnFhPMaAfLtJ"
   },
   "source": [
    "# OnDiskDataset for Homogeneous Graph\n",
    "\n",
    "[![Open In Colab](https://colab.research.google.com/assets/colab-badge.svg)](https://colab.research.google.com/github/dmlc/dgl/blob/master/notebooks/stochastic_training/ondisk_dataset_homograph.ipynb) [![GitHub](https://img.shields.io/badge/-View%20on%20GitHub-181717?logo=github&logoColor=ffffff)](https://github.com/dmlc/dgl/blob/master/notebooks/stochastic_training/ondisk_dataset_homograph.ipynb)\n",
    "\n",
    "This tutorial shows how to create `OnDiskDataset` for homogeneous graph that could be used in **GraphBolt** framework.\n",
    "\n",
    "By the end of this tutorial, you will be able to\n",
    "\n",
    "- organize graph structure data.\n",
    "- organize feature data.\n",
    "- organize training/validation/test set for specific tasks.\n",
    "\n",
    "To create an ``OnDiskDataset`` object, you need to organize all the data including graph structure, feature data and tasks into a directory. The directory should contain a ``metadata.yaml`` file that describes the metadata of the dataset.\n",
    "\n",
    "Now let's generate various data step by step and organize them together to instantiate `OnDiskDataset` finally."
   ]
  },
  {
   "cell_type": "markdown",
   "metadata": {
    "id": "Wlb19DtWgtzq"
   },
   "source": [
    "## Install DGL package"
   ]
  },
  {
   "cell_type": "code",
   "execution_count": 1,
   "metadata": {
    "execution": {
     "iopub.execute_input": "2024-10-14T13:19:41.144207Z",
     "iopub.status.busy": "2024-10-14T13:19:41.143917Z",
     "iopub.status.idle": "2024-10-14T13:19:44.186176Z",
     "shell.execute_reply": "2024-10-14T13:19:44.185089Z"
    },
    "id": "UojlT9ZGgyr9"
   },
   "outputs": [
    {
     "name": "stdout",
     "output_type": "stream",
     "text": [
      "Looking in links: https://data.dgl.ai/wheels-test/repo.html\r\n",
      "Requirement already satisfied: dgl in /opt/conda/envs/dgl-dev-cpu/lib/python3.10/site-packages (2.2a240410)\r\n",
      "Requirement already satisfied: numpy>=1.14.0 in /opt/conda/envs/dgl-dev-cpu/lib/python3.10/site-packages (from dgl) (1.26.4)\r\n",
      "Requirement already satisfied: scipy>=1.1.0 in /opt/conda/envs/dgl-dev-cpu/lib/python3.10/site-packages (from dgl) (1.14.1)\r\n",
      "Requirement already satisfied: networkx>=2.1 in /opt/conda/envs/dgl-dev-cpu/lib/python3.10/site-packages (from dgl) (3.4.1)\r\n",
      "Requirement already satisfied: requests>=2.19.0 in /opt/conda/envs/dgl-dev-cpu/lib/python3.10/site-packages (from dgl) (2.32.3)\r\n",
      "Requirement already satisfied: tqdm in /opt/conda/envs/dgl-dev-cpu/lib/python3.10/site-packages (from dgl) (4.66.5)\r\n",
      "Requirement already satisfied: psutil>=5.8.0 in /opt/conda/envs/dgl-dev-cpu/lib/python3.10/site-packages (from dgl) (6.0.0)\r\n",
      "Requirement already satisfied: torchdata>=0.5.0 in /opt/conda/envs/dgl-dev-cpu/lib/python3.10/site-packages (from dgl) (0.8.0)\r\n",
      "Requirement already satisfied: pandas in /opt/conda/envs/dgl-dev-cpu/lib/python3.10/site-packages (from dgl) (2.2.3)\r\n"
     ]
    },
    {
     "name": "stdout",
     "output_type": "stream",
     "text": [
      "Requirement already satisfied: charset-normalizer<4,>=2 in /opt/conda/envs/dgl-dev-cpu/lib/python3.10/site-packages (from requests>=2.19.0->dgl) (3.4.0)\r\n",
      "Requirement already satisfied: idna<4,>=2.5 in /opt/conda/envs/dgl-dev-cpu/lib/python3.10/site-packages (from requests>=2.19.0->dgl) (3.10)\r\n",
      "Requirement already satisfied: urllib3<3,>=1.21.1 in /opt/conda/envs/dgl-dev-cpu/lib/python3.10/site-packages (from requests>=2.19.0->dgl) (2.2.3)\r\n",
      "Requirement already satisfied: certifi>=2017.4.17 in /opt/conda/envs/dgl-dev-cpu/lib/python3.10/site-packages (from requests>=2.19.0->dgl) (2024.8.30)\r\n",
      "Requirement already satisfied: torch>=2 in /opt/conda/envs/dgl-dev-cpu/lib/python3.10/site-packages (from torchdata>=0.5.0->dgl) (2.1.0+cpu)\r\n"
     ]
    },
    {
     "name": "stdout",
     "output_type": "stream",
     "text": [
      "Requirement already satisfied: python-dateutil>=2.8.2 in /opt/conda/envs/dgl-dev-cpu/lib/python3.10/site-packages (from pandas->dgl) (2.9.0.post0)\r\n",
      "Requirement already satisfied: pytz>=2020.1 in /opt/conda/envs/dgl-dev-cpu/lib/python3.10/site-packages (from pandas->dgl) (2024.2)\r\n",
      "Requirement already satisfied: tzdata>=2022.7 in /opt/conda/envs/dgl-dev-cpu/lib/python3.10/site-packages (from pandas->dgl) (2024.2)\r\n",
      "Requirement already satisfied: six>=1.5 in /opt/conda/envs/dgl-dev-cpu/lib/python3.10/site-packages (from python-dateutil>=2.8.2->pandas->dgl) (1.16.0)\r\n",
      "Requirement already satisfied: filelock in /opt/conda/envs/dgl-dev-cpu/lib/python3.10/site-packages (from torch>=2->torchdata>=0.5.0->dgl) (3.16.1)\r\n",
      "Requirement already satisfied: typing-extensions in /opt/conda/envs/dgl-dev-cpu/lib/python3.10/site-packages (from torch>=2->torchdata>=0.5.0->dgl) (4.12.2)\r\n",
      "Requirement already satisfied: sympy in /opt/conda/envs/dgl-dev-cpu/lib/python3.10/site-packages (from torch>=2->torchdata>=0.5.0->dgl) (1.13.3)\r\n",
      "Requirement already satisfied: jinja2 in /opt/conda/envs/dgl-dev-cpu/lib/python3.10/site-packages (from torch>=2->torchdata>=0.5.0->dgl) (3.1.4)\r\n",
      "Requirement already satisfied: fsspec in /opt/conda/envs/dgl-dev-cpu/lib/python3.10/site-packages (from torch>=2->torchdata>=0.5.0->dgl) (2024.9.0)\r\n"
     ]
    },
    {
     "name": "stdout",
     "output_type": "stream",
     "text": [
      "Requirement already satisfied: MarkupSafe>=2.0 in /opt/conda/envs/dgl-dev-cpu/lib/python3.10/site-packages (from jinja2->torch>=2->torchdata>=0.5.0->dgl) (3.0.1)\r\n",
      "Requirement already satisfied: mpmath<1.4,>=1.1.0 in /opt/conda/envs/dgl-dev-cpu/lib/python3.10/site-packages (from sympy->torch>=2->torchdata>=0.5.0->dgl) (1.3.0)\r\n"
     ]
    },
    {
     "name": "stdout",
     "output_type": "stream",
     "text": [
      "\u001b[33mWARNING: Running pip as the 'root' user can result in broken permissions and conflicting behaviour with the system package manager, possibly rendering your system unusable.It is recommended to use a virtual environment instead: https://pip.pypa.io/warnings/venv. Use the --root-user-action option if you know what you are doing and want to suppress this warning.\u001b[0m\u001b[33m\r\n",
      "\u001b[0m"
     ]
    },
    {
     "name": "stdout",
     "output_type": "stream",
     "text": [
      "DGL installed!\n"
     ]
    }
   ],
   "source": [
    "# Install required packages.\n",
    "import os\n",
    "import torch\n",
    "import numpy as np\n",
    "os.environ['TORCH'] = torch.__version__\n",
    "os.environ['DGLBACKEND'] = \"pytorch\"\n",
    "\n",
    "# Install the CPU version.\n",
    "device = torch.device(\"cpu\")\n",
    "!pip install --pre dgl -f https://data.dgl.ai/wheels-test/repo.html\n",
    "\n",
    "try:\n",
    "    import dgl\n",
    "    import dgl.graphbolt as gb\n",
    "    installed = True\n",
    "except ImportError as error:\n",
    "    installed = False\n",
    "    print(error)\n",
    "print(\"DGL installed!\" if installed else \"DGL not found!\")"
   ]
  },
  {
   "cell_type": "markdown",
   "metadata": {
    "id": "2R7WnSbjsfbr"
   },
   "source": [
    "## Data preparation\n",
    "In order to demonstrate how to organize various data, let's create a base directory first."
   ]
  },
  {
   "cell_type": "code",
   "execution_count": 2,
   "metadata": {
    "execution": {
     "iopub.execute_input": "2024-10-14T13:19:44.189359Z",
     "iopub.status.busy": "2024-10-14T13:19:44.188848Z",
     "iopub.status.idle": "2024-10-14T13:19:44.194473Z",
     "shell.execute_reply": "2024-10-14T13:19:44.193579Z"
    },
    "id": "SZipbzyltLfO"
   },
   "outputs": [
    {
     "name": "stdout",
     "output_type": "stream",
     "text": [
      "Created base directory: ./ondisk_dataset_homograph\n"
     ]
    }
   ],
   "source": [
    "base_dir = './ondisk_dataset_homograph'\n",
    "os.makedirs(base_dir, exist_ok=True)\n",
    "print(f\"Created base directory: {base_dir}\")"
   ]
  },
  {
   "cell_type": "markdown",
   "metadata": {
    "id": "qhNtIn_xhlnl"
   },
   "source": [
    "### Generate graph structure data\n",
    "For homogeneous graph, we just need to save edges(namely seeds) into  **Numpy** or **CSV** file.\n",
    "\n",
    "Note:\n",
    "- when saving to **Numpy**, the array requires to be in shape of `(2, N)`. This format is recommended as constructing graph from it is much faster than **CSV** file.\n",
    "- when saving to **CSV** file, do not save index and header.\n"
   ]
  },
  {
   "cell_type": "code",
   "execution_count": 3,
   "metadata": {
    "execution": {
     "iopub.execute_input": "2024-10-14T13:19:44.197029Z",
     "iopub.status.busy": "2024-10-14T13:19:44.196821Z",
     "iopub.status.idle": "2024-10-14T13:19:44.211383Z",
     "shell.execute_reply": "2024-10-14T13:19:44.210333Z"
    },
    "id": "HcBt4G5BmSjr"
   },
   "outputs": [
    {
     "name": "stdout",
     "output_type": "stream",
     "text": [
      "Part of edges: [[606 331]\n",
      " [484 891]\n",
      " [146 930]\n",
      " [902 975]\n",
      " [244 962]]\n",
      "Edges are saved into ./ondisk_dataset_homograph/edges.csv\n"
     ]
    }
   ],
   "source": [
    "import numpy as np\n",
    "import pandas as pd\n",
    "num_nodes = 1000\n",
    "num_edges = 10 * num_nodes\n",
    "edges_path = os.path.join(base_dir, \"edges.csv\")\n",
    "edges = np.random.randint(0, num_nodes, size=(num_edges, 2))\n",
    "\n",
    "print(f\"Part of edges: {edges[:5, :]}\")\n",
    "\n",
    "df = pd.DataFrame(edges)\n",
    "df.to_csv(edges_path, index=False, header=False)\n",
    "\n",
    "print(f\"Edges are saved into {edges_path}\")"
   ]
  },
  {
   "cell_type": "markdown",
   "metadata": {
    "id": "kh-4cPtzpcaH"
   },
   "source": [
    "### Generate feature data for graph\n",
    "For feature data, numpy arrays and torch tensors are supported for now."
   ]
  },
  {
   "cell_type": "code",
   "execution_count": 4,
   "metadata": {
    "execution": {
     "iopub.execute_input": "2024-10-14T13:19:44.214038Z",
     "iopub.status.busy": "2024-10-14T13:19:44.213643Z",
     "iopub.status.idle": "2024-10-14T13:19:44.234300Z",
     "shell.execute_reply": "2024-10-14T13:19:44.233374Z"
    },
    "id": "_PVu1u5brBhF"
   },
   "outputs": [
    {
     "name": "stdout",
     "output_type": "stream",
     "text": [
      "Part of node feature [feat_0]: [[0.21494059 0.24904017 0.33084677 0.21206946 0.89370292]\n",
      " [0.40517045 0.20156229 0.63508713 0.30991541 0.53919247]\n",
      " [0.05220269 0.64167042 0.13649491 0.89987264 0.56551661]]\n",
      "Node feature [feat_0] is saved to ./ondisk_dataset_homograph/node-feat-0.npy\n",
      "\n",
      "Part of node feature [feat_1]: tensor([[0.9791, 0.9651, 0.3816, 0.3517, 0.1885],\n",
      "        [0.4955, 0.4653, 0.9747, 0.2237, 0.0798],\n",
      "        [0.7508, 0.1637, 0.0831, 0.6247, 0.1390]])\n",
      "Node feature [feat_1] is saved to ./ondisk_dataset_homograph/node-feat-1.pt\n",
      "\n",
      "Part of edge feature [feat_0]: [[0.09281413 0.0114778  0.8491534  0.82044472 0.20120658]\n",
      " [0.39213914 0.67760237 0.46915471 0.41444318 0.45572833]\n",
      " [0.56000302 0.96729884 0.30535498 0.16488214 0.47677684]]\n",
      "Edge feature [feat_0] is saved to ./ondisk_dataset_homograph/edge-feat-0.npy\n",
      "\n",
      "Part of edge feature [feat_1]: tensor([[0.0249, 0.1463, 0.9048, 0.8785, 0.4453],\n",
      "        [0.3344, 0.8605, 0.6884, 0.9272, 0.8390],\n",
      "        [0.9442, 0.2214, 0.6431, 0.1976, 0.7518]])\n",
      "Edge feature [feat_1] is saved to ./ondisk_dataset_homograph/edge-feat-1.pt\n",
      "\n"
     ]
    }
   ],
   "source": [
    "# Generate node feature in numpy array.\n",
    "node_feat_0_path = os.path.join(base_dir, \"node-feat-0.npy\")\n",
    "node_feat_0 = np.random.rand(num_nodes, 5)\n",
    "print(f\"Part of node feature [feat_0]: {node_feat_0[:3, :]}\")\n",
    "np.save(node_feat_0_path, node_feat_0)\n",
    "print(f\"Node feature [feat_0] is saved to {node_feat_0_path}\\n\")\n",
    "\n",
    "# Generate another node feature in torch tensor\n",
    "node_feat_1_path = os.path.join(base_dir, \"node-feat-1.pt\")\n",
    "node_feat_1 = torch.rand(num_nodes, 5)\n",
    "print(f\"Part of node feature [feat_1]: {node_feat_1[:3, :]}\")\n",
    "torch.save(node_feat_1, node_feat_1_path)\n",
    "print(f\"Node feature [feat_1] is saved to {node_feat_1_path}\\n\")\n",
    "\n",
    "# Generate edge feature in numpy array.\n",
    "edge_feat_0_path = os.path.join(base_dir, \"edge-feat-0.npy\")\n",
    "edge_feat_0 = np.random.rand(num_edges, 5)\n",
    "print(f\"Part of edge feature [feat_0]: {edge_feat_0[:3, :]}\")\n",
    "np.save(edge_feat_0_path, edge_feat_0)\n",
    "print(f\"Edge feature [feat_0] is saved to {edge_feat_0_path}\\n\")\n",
    "\n",
    "# Generate another edge feature in torch tensor\n",
    "edge_feat_1_path = os.path.join(base_dir, \"edge-feat-1.pt\")\n",
    "edge_feat_1 = torch.rand(num_edges, 5)\n",
    "print(f\"Part of edge feature [feat_1]: {edge_feat_1[:3, :]}\")\n",
    "torch.save(edge_feat_1, edge_feat_1_path)\n",
    "print(f\"Edge feature [feat_1] is saved to {edge_feat_1_path}\\n\")\n"
   ]
  },
  {
   "cell_type": "markdown",
   "metadata": {
    "id": "ZyqgOtsIwzh_"
   },
   "source": [
    "### Generate tasks\n",
    "`OnDiskDataset` supports multiple tasks. For each task, we need to prepare training/validation/test sets respectively. Such sets usually vary among different tasks. In this tutorial, let's create a **Node Classification** task and **Link Prediction** task."
   ]
  },
  {
   "cell_type": "markdown",
   "metadata": {
    "id": "hVxHaDIfzCkr"
   },
   "source": [
    "#### Node Classification Task\n",
    "For node classification task, we need **node IDs** and corresponding **labels** for each training/validation/test set. Like feature data, numpy arrays and torch tensors are supported for these sets."
   ]
  },
  {
   "cell_type": "code",
   "execution_count": 5,
   "metadata": {
    "execution": {
     "iopub.execute_input": "2024-10-14T13:19:44.237209Z",
     "iopub.status.busy": "2024-10-14T13:19:44.236474Z",
     "iopub.status.idle": "2024-10-14T13:19:44.248948Z",
     "shell.execute_reply": "2024-10-14T13:19:44.247954Z"
    },
    "id": "S5-fyBbHzTCO"
   },
   "outputs": [
    {
     "name": "stdout",
     "output_type": "stream",
     "text": [
      "Part of train ids for node classification: [945 587 210]\n",
      "NC train ids are saved to ./ondisk_dataset_homograph/nc-train-ids.npy\n",
      "\n",
      "Part of train labels for node classification: tensor([0, 9, 6])\n",
      "NC train labels are saved to ./ondisk_dataset_homograph/nc-train-labels.pt\n",
      "\n",
      "Part of val ids for node classification: [308 277 146]\n",
      "NC val ids are saved to ./ondisk_dataset_homograph/nc-val-ids.npy\n",
      "\n",
      "Part of val labels for node classification: tensor([5, 3, 6])\n",
      "NC val labels are saved to ./ondisk_dataset_homograph/nc-val-labels.pt\n",
      "\n",
      "Part of test ids for node classification: [847 798 148]\n",
      "NC test ids are saved to ./ondisk_dataset_homograph/nc-test-ids.npy\n",
      "\n",
      "Part of test labels for node classification: tensor([8, 7, 1])\n",
      "NC test labels are saved to ./ondisk_dataset_homograph/nc-test-labels.pt\n",
      "\n"
     ]
    }
   ],
   "source": [
    "num_trains = int(num_nodes * 0.6)\n",
    "num_vals = int(num_nodes * 0.2)\n",
    "num_tests = num_nodes - num_trains - num_vals\n",
    "\n",
    "ids = np.arange(num_nodes)\n",
    "np.random.shuffle(ids)\n",
    "\n",
    "nc_train_ids_path = os.path.join(base_dir, \"nc-train-ids.npy\")\n",
    "nc_train_ids = ids[:num_trains]\n",
    "print(f\"Part of train ids for node classification: {nc_train_ids[:3]}\")\n",
    "np.save(nc_train_ids_path, nc_train_ids)\n",
    "print(f\"NC train ids are saved to {nc_train_ids_path}\\n\")\n",
    "\n",
    "nc_train_labels_path = os.path.join(base_dir, \"nc-train-labels.pt\")\n",
    "nc_train_labels = torch.randint(0, 10, (num_trains,))\n",
    "print(f\"Part of train labels for node classification: {nc_train_labels[:3]}\")\n",
    "torch.save(nc_train_labels, nc_train_labels_path)\n",
    "print(f\"NC train labels are saved to {nc_train_labels_path}\\n\")\n",
    "\n",
    "nc_val_ids_path = os.path.join(base_dir, \"nc-val-ids.npy\")\n",
    "nc_val_ids = ids[num_trains:num_trains+num_vals]\n",
    "print(f\"Part of val ids for node classification: {nc_val_ids[:3]}\")\n",
    "np.save(nc_val_ids_path, nc_val_ids)\n",
    "print(f\"NC val ids are saved to {nc_val_ids_path}\\n\")\n",
    "\n",
    "nc_val_labels_path = os.path.join(base_dir, \"nc-val-labels.pt\")\n",
    "nc_val_labels = torch.randint(0, 10, (num_vals,))\n",
    "print(f\"Part of val labels for node classification: {nc_val_labels[:3]}\")\n",
    "torch.save(nc_val_labels, nc_val_labels_path)\n",
    "print(f\"NC val labels are saved to {nc_val_labels_path}\\n\")\n",
    "\n",
    "nc_test_ids_path = os.path.join(base_dir, \"nc-test-ids.npy\")\n",
    "nc_test_ids = ids[-num_tests:]\n",
    "print(f\"Part of test ids for node classification: {nc_test_ids[:3]}\")\n",
    "np.save(nc_test_ids_path, nc_test_ids)\n",
    "print(f\"NC test ids are saved to {nc_test_ids_path}\\n\")\n",
    "\n",
    "nc_test_labels_path = os.path.join(base_dir, \"nc-test-labels.pt\")\n",
    "nc_test_labels = torch.randint(0, 10, (num_tests,))\n",
    "print(f\"Part of test labels for node classification: {nc_test_labels[:3]}\")\n",
    "torch.save(nc_test_labels, nc_test_labels_path)\n",
    "print(f\"NC test labels are saved to {nc_test_labels_path}\\n\")"
   ]
  },
  {
   "cell_type": "markdown",
   "metadata": {
    "id": "LhAcDCHQ_KJ0"
   },
   "source": [
    "#### Link Prediction Task\n",
    "For link prediction task, we need **seeds** or **corresponding labels and indexes** which representing the pos/neg property and group of the seeds for each training/validation/test set. Like feature data, numpy arrays and torch tensors are supported for these sets."
   ]
  },
  {
   "cell_type": "code",
   "execution_count": 6,
   "metadata": {
    "execution": {
     "iopub.execute_input": "2024-10-14T13:19:44.251516Z",
     "iopub.status.busy": "2024-10-14T13:19:44.251232Z",
     "iopub.status.idle": "2024-10-14T13:19:44.269923Z",
     "shell.execute_reply": "2024-10-14T13:19:44.269090Z"
    },
    "id": "u0jCnXIcAQy4"
   },
   "outputs": [
    {
     "name": "stdout",
     "output_type": "stream",
     "text": [
      "Part of train seeds for link prediction: [[606 331]\n",
      " [484 891]\n",
      " [146 930]]\n",
      "LP train seeds are saved to ./ondisk_dataset_homograph/lp-train-seeds.npy\n",
      "\n",
      "Part of val seeds for link prediction: [[ 70 627]\n",
      " [ 97 874]\n",
      " [660 360]]\n",
      "LP val seeds are saved to ./ondisk_dataset_homograph/lp-val-seeds.npy\n",
      "\n",
      "Part of val labels for link prediction: [1. 1. 1.]\n",
      "LP val labels are saved to ./ondisk_dataset_homograph/lp-val-labels.npy\n",
      "\n",
      "Part of val indexes for link prediction: [0 1 2]\n",
      "LP val indexes are saved to ./ondisk_dataset_homograph/lp-val-indexes.npy\n",
      "\n",
      "Part of test seeds for link prediction: [[617 851]\n",
      " [335 750]\n",
      " [273 540]]\n",
      "LP test seeds are saved to ./ondisk_dataset_homograph/lp-test-seeds.npy\n",
      "\n",
      "Part of val labels for link prediction: [1. 1. 1.]\n",
      "LP test labels are saved to ./ondisk_dataset_homograph/lp-test-labels.npy\n",
      "\n",
      "Part of test indexes for link prediction: [0 1 2]\n",
      "LP test indexes are saved to ./ondisk_dataset_homograph/lp-test-indexes.npy\n",
      "\n"
     ]
    }
   ],
   "source": [
    "num_trains = int(num_edges * 0.6)\n",
    "num_vals = int(num_edges * 0.2)\n",
    "num_tests = num_edges - num_trains - num_vals\n",
    "\n",
    "lp_train_seeds_path = os.path.join(base_dir, \"lp-train-seeds.npy\")\n",
    "lp_train_seeds = edges[:num_trains, :]\n",
    "print(f\"Part of train seeds for link prediction: {lp_train_seeds[:3]}\")\n",
    "np.save(lp_train_seeds_path, lp_train_seeds)\n",
    "print(f\"LP train seeds are saved to {lp_train_seeds_path}\\n\")\n",
    "\n",
    "lp_val_seeds_path = os.path.join(base_dir, \"lp-val-seeds.npy\")\n",
    "lp_val_seeds = edges[num_trains:num_trains+num_vals, :]\n",
    "lp_val_neg_dsts = np.random.randint(0, num_nodes, (num_vals, 10)).reshape(-1)\n",
    "lp_val_neg_srcs = np.repeat(lp_val_seeds[:,0], 10)\n",
    "lp_val_neg_seeds = np.concatenate((lp_val_neg_srcs, lp_val_neg_dsts)).reshape(2,-1).T\n",
    "lp_val_seeds = np.concatenate((lp_val_seeds, lp_val_neg_seeds))\n",
    "print(f\"Part of val seeds for link prediction: {lp_val_seeds[:3]}\")\n",
    "np.save(lp_val_seeds_path, lp_val_seeds)\n",
    "print(f\"LP val seeds are saved to {lp_val_seeds_path}\\n\")\n",
    "\n",
    "lp_val_labels_path = os.path.join(base_dir, \"lp-val-labels.npy\")\n",
    "lp_val_labels = np.empty(num_vals * (10 + 1))\n",
    "lp_val_labels[:num_vals] = 1\n",
    "lp_val_labels[num_vals:] = 0\n",
    "print(f\"Part of val labels for link prediction: {lp_val_labels[:3]}\")\n",
    "np.save(lp_val_labels_path, lp_val_labels)\n",
    "print(f\"LP val labels are saved to {lp_val_labels_path}\\n\")\n",
    "\n",
    "lp_val_indexes_path = os.path.join(base_dir, \"lp-val-indexes.npy\")\n",
    "lp_val_indexes = np.arange(0, num_vals)\n",
    "lp_val_neg_indexes = np.repeat(lp_val_indexes, 10)\n",
    "lp_val_indexes = np.concatenate([lp_val_indexes, lp_val_neg_indexes])\n",
    "print(f\"Part of val indexes for link prediction: {lp_val_indexes[:3]}\")\n",
    "np.save(lp_val_indexes_path, lp_val_indexes)\n",
    "print(f\"LP val indexes are saved to {lp_val_indexes_path}\\n\")\n",
    "\n",
    "lp_test_seeds_path = os.path.join(base_dir, \"lp-test-seeds.npy\")\n",
    "lp_test_seeds = edges[-num_tests:, :]\n",
    "lp_test_neg_dsts = np.random.randint(0, num_nodes, (num_tests, 10)).reshape(-1)\n",
    "lp_test_neg_srcs = np.repeat(lp_test_seeds[:,0], 10)\n",
    "lp_test_neg_seeds = np.concatenate((lp_test_neg_srcs, lp_test_neg_dsts)).reshape(2,-1).T\n",
    "lp_test_seeds = np.concatenate((lp_test_seeds, lp_test_neg_seeds))\n",
    "print(f\"Part of test seeds for link prediction: {lp_test_seeds[:3]}\")\n",
    "np.save(lp_test_seeds_path, lp_test_seeds)\n",
    "print(f\"LP test seeds are saved to {lp_test_seeds_path}\\n\")\n",
    "\n",
    "lp_test_labels_path = os.path.join(base_dir, \"lp-test-labels.npy\")\n",
    "lp_test_labels = np.empty(num_tests * (10 + 1))\n",
    "lp_test_labels[:num_tests] = 1\n",
    "lp_test_labels[num_tests:] = 0\n",
    "print(f\"Part of val labels for link prediction: {lp_test_labels[:3]}\")\n",
    "np.save(lp_test_labels_path, lp_test_labels)\n",
    "print(f\"LP test labels are saved to {lp_test_labels_path}\\n\")\n",
    "\n",
    "lp_test_indexes_path = os.path.join(base_dir, \"lp-test-indexes.npy\")\n",
    "lp_test_indexes = np.arange(0, num_tests)\n",
    "lp_test_neg_indexes = np.repeat(lp_test_indexes, 10)\n",
    "lp_test_indexes = np.concatenate([lp_test_indexes, lp_test_neg_indexes])\n",
    "print(f\"Part of test indexes for link prediction: {lp_test_indexes[:3]}\")\n",
    "np.save(lp_test_indexes_path, lp_test_indexes)\n",
    "print(f\"LP test indexes are saved to {lp_test_indexes_path}\\n\")"
   ]
  },
  {
   "cell_type": "markdown",
   "metadata": {
    "id": "wbk6-wxRK-6S"
   },
   "source": [
    "## Organize Data into YAML File\n",
    "Now we need to create a `metadata.yaml` file which contains the paths, dadta types of graph structure, feature data, training/validation/test sets.\n",
    "\n",
    "Notes:\n",
    "- all path should be relative to `metadata.yaml`.\n",
    "- Below fields are optional and not specified in below example.\n",
    "  - `in_memory`: indicates whether to load dada into memory or `mmap`. Default is `True`.\n",
    "\n",
    "Please refer to [YAML specification](https://github.com/dmlc/dgl/blob/master/docs/source/stochastic_training/ondisk-dataset-specification.rst) for more details."
   ]
  },
  {
   "cell_type": "code",
   "execution_count": 7,
   "metadata": {
    "execution": {
     "iopub.execute_input": "2024-10-14T13:19:44.272657Z",
     "iopub.status.busy": "2024-10-14T13:19:44.271852Z",
     "iopub.status.idle": "2024-10-14T13:19:44.279298Z",
     "shell.execute_reply": "2024-10-14T13:19:44.278346Z"
    },
    "id": "ddGTWW61Lpwp"
   },
   "outputs": [],
   "source": [
    "yaml_content = f\"\"\"\n",
    "    dataset_name: homogeneous_graph_nc_lp\n",
    "    graph:\n",
    "      nodes:\n",
    "        - num: {num_nodes}\n",
    "      edges:\n",
    "        - format: csv\n",
    "          path: {os.path.basename(edges_path)}\n",
    "    feature_data:\n",
    "      - domain: node\n",
    "        name: feat_0\n",
    "        format: numpy\n",
    "        path: {os.path.basename(node_feat_0_path)}\n",
    "      - domain: node\n",
    "        name: feat_1\n",
    "        format: torch\n",
    "        path: {os.path.basename(node_feat_1_path)}\n",
    "      - domain: edge\n",
    "        name: feat_0\n",
    "        format: numpy\n",
    "        path: {os.path.basename(edge_feat_0_path)}\n",
    "      - domain: edge\n",
    "        name: feat_1\n",
    "        format: torch\n",
    "        path: {os.path.basename(edge_feat_1_path)}\n",
    "    tasks:\n",
    "      - name: node_classification\n",
    "        num_classes: 10\n",
    "        train_set:\n",
    "          - data:\n",
    "              - name: seeds\n",
    "                format: numpy\n",
    "                path: {os.path.basename(nc_train_ids_path)}\n",
    "              - name: labels\n",
    "                format: torch\n",
    "                path: {os.path.basename(nc_train_labels_path)}\n",
    "        validation_set:\n",
    "          - data:\n",
    "              - name: seeds\n",
    "                format: numpy\n",
    "                path: {os.path.basename(nc_val_ids_path)}\n",
    "              - name: labels\n",
    "                format: torch\n",
    "                path: {os.path.basename(nc_val_labels_path)}\n",
    "        test_set:\n",
    "          - data:\n",
    "              - name: seeds\n",
    "                format: numpy\n",
    "                path: {os.path.basename(nc_test_ids_path)}\n",
    "              - name: labels\n",
    "                format: torch\n",
    "                path: {os.path.basename(nc_test_labels_path)}\n",
    "      - name: link_prediction\n",
    "        num_classes: 10\n",
    "        train_set:\n",
    "          - data:\n",
    "              - name: seeds\n",
    "                format: numpy\n",
    "                path: {os.path.basename(lp_train_seeds_path)}\n",
    "        validation_set:\n",
    "          - data:\n",
    "              - name: seeds\n",
    "                format: numpy\n",
    "                path: {os.path.basename(lp_val_seeds_path)}\n",
    "              - name: labels\n",
    "                format: numpy\n",
    "                path: {os.path.basename(lp_val_labels_path)}\n",
    "              - name: indexes\n",
    "                format: numpy\n",
    "                path: {os.path.basename(lp_val_indexes_path)}\n",
    "        test_set:\n",
    "          - data:\n",
    "              - name: seeds\n",
    "                format: numpy\n",
    "                path: {os.path.basename(lp_test_seeds_path)}\n",
    "              - name: labels\n",
    "                format: numpy\n",
    "                path: {os.path.basename(lp_test_labels_path)}\n",
    "              - name: indexes\n",
    "                format: numpy\n",
    "                path: {os.path.basename(lp_test_indexes_path)}\n",
    "\"\"\"\n",
    "metadata_path = os.path.join(base_dir, \"metadata.yaml\")\n",
    "with open(metadata_path, \"w\") as f:\n",
    "  f.write(yaml_content)"
   ]
  },
  {
   "cell_type": "markdown",
   "metadata": {
    "id": "kEfybHGhOW7O"
   },
   "source": [
    "## Instantiate `OnDiskDataset`\n",
    "Now we're ready to load dataset via `dgl.graphbolt.OnDiskDataset`. When instantiating, we just pass in the base directory where `metadata.yaml` file lies.\n",
    "\n",
    "During first instantiation, GraphBolt preprocesses the raw data such as constructing `FusedCSCSamplingGraph` from edges. All data including graph, feature data, training/validation/test sets are put into `preprocessed` directory after preprocessing. Any following dataset loading will skip the preprocess stage.\n",
    "\n",
    "After preprocessing, `load()` is required to be called explicitly in order to load graph, feature data and tasks."
   ]
  },
  {
   "cell_type": "code",
   "execution_count": 8,
   "metadata": {
    "execution": {
     "iopub.execute_input": "2024-10-14T13:19:44.281770Z",
     "iopub.status.busy": "2024-10-14T13:19:44.281463Z",
     "iopub.status.idle": "2024-10-14T13:19:44.354374Z",
     "shell.execute_reply": "2024-10-14T13:19:44.353689Z"
    },
    "id": "W58CZoSzOiyo"
   },
   "outputs": [
    {
     "name": "stdout",
     "output_type": "stream",
     "text": [
      "Start to preprocess the on-disk dataset.\n",
      "Finish preprocessing the on-disk dataset.\n",
      "Loaded graph: FusedCSCSamplingGraph(csc_indptr=tensor([    0,    13,    22,  ...,  9983,  9990, 10000], dtype=torch.int32),\n",
      "                      indices=tensor([905, 210, 901,  ..., 394, 510, 295], dtype=torch.int32),\n",
      "                      total_num_nodes=1000, num_edges=10000,)\n",
      "\n",
      "Loaded feature store: TorchBasedFeatureStore(\n",
      "    {(<OnDiskFeatureDataDomain.NODE: 'node'>, None, 'feat_0'): TorchBasedFeature(\n",
      "        feature=tensor([[0.2149, 0.2490, 0.3308, 0.2121, 0.8937],\n",
      "                        [0.4052, 0.2016, 0.6351, 0.3099, 0.5392],\n",
      "                        [0.0522, 0.6417, 0.1365, 0.8999, 0.5655],\n",
      "                        ...,\n",
      "                        [0.7756, 0.1522, 0.4873, 0.5517, 0.9927],\n",
      "                        [0.4051, 0.4362, 0.3513, 0.6643, 0.8791],\n",
      "                        [0.6925, 0.9174, 0.5309, 0.6429, 0.8254]], dtype=torch.float64),\n",
      "        metadata={},\n",
      "    ), (<OnDiskFeatureDataDomain.NODE: 'node'>, None, 'feat_1'): TorchBasedFeature(\n",
      "        feature=tensor([[0.9791, 0.9651, 0.3816, 0.3517, 0.1885],\n",
      "                        [0.4955, 0.4653, 0.9747, 0.2237, 0.0798],\n",
      "                        [0.7508, 0.1637, 0.0831, 0.6247, 0.1390],\n",
      "                        ...,\n",
      "                        [0.5043, 0.3425, 0.5294, 0.6650, 0.0976],\n",
      "                        [0.5964, 0.9748, 0.6456, 0.2811, 0.9698],\n",
      "                        [0.4844, 0.9620, 0.5210, 0.0766, 0.1566]]),\n",
      "        metadata={},\n",
      "    ), (<OnDiskFeatureDataDomain.EDGE: 'edge'>, None, 'feat_0'): TorchBasedFeature(\n",
      "        feature=tensor([[0.0928, 0.0115, 0.8492, 0.8204, 0.2012],\n",
      "                        [0.3921, 0.6776, 0.4692, 0.4144, 0.4557],\n",
      "                        [0.5600, 0.9673, 0.3054, 0.1649, 0.4768],\n",
      "                        ...,\n",
      "                        [0.0608, 0.0272, 0.7512, 0.6794, 0.3276],\n",
      "                        [0.8414, 0.1323, 0.7985, 0.6563, 0.5383],\n",
      "                        [0.3545, 0.1745, 0.9147, 0.8177, 0.0554]], dtype=torch.float64),\n",
      "        metadata={},\n",
      "    ), (<OnDiskFeatureDataDomain.EDGE: 'edge'>, None, 'feat_1'): TorchBasedFeature(\n",
      "        feature=tensor([[0.0249, 0.1463, 0.9048, 0.8785, 0.4453],\n",
      "                        [0.3344, 0.8605, 0.6884, 0.9272, 0.8390],\n",
      "                        [0.9442, 0.2214, 0.6431, 0.1976, 0.7518],\n",
      "                        ...,\n",
      "                        [0.4785, 0.1779, 0.8937, 0.6357, 0.6756],\n",
      "                        [0.0876, 0.5319, 0.8429, 0.4897, 0.1412],\n",
      "                        [0.1539, 0.4354, 0.4910, 0.6840, 0.7692]]),\n",
      "        metadata={},\n",
      "    )}\n",
      ")\n",
      "\n",
      "Loaded node classification task: OnDiskTask(validation_set=ItemSet(\n",
      "               items=(tensor([308, 277, 146, 573,  46, 952, 480, 824, 376,  58, 745, 299, 508, 689,\n",
      "                   157, 606, 274, 718, 933, 975, 163, 810, 367, 924, 179, 569, 989,  67,\n",
      "                   159, 799, 217, 186, 612, 208, 927, 406, 750,  94, 242, 388, 787, 368,\n",
      "                   429, 393, 625, 557, 532, 194, 730,  53,  29, 441, 673, 273,  39, 940,\n",
      "                   990, 733, 246, 930, 648, 256, 420, 920,  69, 849, 741, 616, 666, 808,\n",
      "                   536, 720,  99, 725, 332, 922, 130, 820, 315, 909, 926, 476, 378, 236,\n",
      "                   737, 826, 492, 285, 266, 986, 198, 696, 430, 549, 562, 861, 856, 843,\n",
      "                   224,  63, 345, 119, 190,  92, 291, 714, 319, 197, 129, 893, 164, 110,\n",
      "                     5, 280, 205, 762, 772, 434, 555, 671, 456, 126, 783, 797, 128, 317,\n",
      "                   800, 649, 297, 336,  93, 795, 363, 962, 583, 657, 953, 561, 403, 432,\n",
      "                   142, 778,   9,  37, 716, 305, 426, 903, 900, 250, 579, 908, 902, 124,\n",
      "                   314, 145, 855, 505, 812, 507, 515, 775, 347, 265, 879, 331, 653, 365,\n",
      "                   241, 761,   2, 468, 542, 789, 965, 871, 471, 286, 721, 328, 943, 858,\n",
      "                   275, 801, 407, 439, 828, 884, 455, 769, 421, 458, 635, 267, 437, 814,\n",
      "                   806, 525, 263, 279], dtype=torch.int32), tensor([5, 3, 6, 5, 1, 7, 1, 2, 2, 9, 8, 2, 2, 0, 7, 8, 1, 7, 9, 0, 1, 7, 0, 2,\n",
      "                   7, 1, 5, 9, 6, 1, 1, 4, 1, 4, 7, 3, 9, 4, 1, 9, 6, 1, 1, 4, 9, 2, 7, 2,\n",
      "                   5, 9, 0, 3, 8, 2, 2, 2, 3, 6, 4, 5, 8, 4, 1, 0, 9, 4, 5, 1, 6, 0, 3, 2,\n",
      "                   2, 9, 8, 6, 3, 4, 5, 8, 2, 2, 8, 0, 8, 4, 4, 4, 8, 2, 6, 6, 8, 0, 1, 8,\n",
      "                   2, 0, 0, 2, 3, 3, 2, 5, 0, 9, 1, 8, 6, 7, 0, 2, 1, 0, 1, 6, 2, 6, 0, 8,\n",
      "                   3, 6, 8, 7, 5, 6, 2, 5, 7, 0, 5, 2, 4, 4, 0, 3, 8, 0, 6, 1, 2, 8, 7, 8,\n",
      "                   6, 6, 8, 4, 7, 4, 3, 2, 3, 5, 9, 8, 9, 0, 2, 8, 6, 5, 1, 2, 4, 2, 8, 1,\n",
      "                   8, 6, 9, 4, 0, 5, 3, 3, 2, 4, 6, 7, 6, 5, 5, 0, 4, 6, 2, 4, 7, 7, 6, 6,\n",
      "                   9, 8, 7, 1, 8, 5, 2, 2])),\n",
      "               names=('seeds', 'labels'),\n",
      "           ),\n",
      "           train_set=ItemSet(\n",
      "               items=(tensor([945, 587, 210, 811, 178, 692, 567, 392, 705, 928, 664, 622, 259, 131,\n",
      "                   202,  72, 136, 859, 997, 697, 704, 251, 276, 412,  16, 584, 650, 435,\n",
      "                   955, 484, 784, 103, 102, 851, 729, 470, 187, 753, 757, 346, 239, 865,\n",
      "                   296, 496, 566,  97, 712, 104, 691, 288, 416, 910, 662, 781, 490, 533,\n",
      "                   538, 581, 675, 594, 359, 754, 815, 402, 257, 982, 950, 232, 663,  51,\n",
      "                   230, 405, 701, 904, 595,  31, 134, 792, 983, 554, 214, 610, 139, 966,\n",
      "                   201, 834, 654, 588, 891, 185, 506, 969, 641, 646, 176,  24, 853, 984,\n",
      "                   342,  88, 464, 639, 565, 389, 942, 290, 564, 939, 162,  75, 914, 660,\n",
      "                   864, 180, 967, 925, 755, 954,  89, 169, 676, 121, 759, 518, 221, 949,\n",
      "                   593, 463, 334, 272, 497, 341, 450, 604,  90, 987, 951, 306, 736, 519,\n",
      "                   329, 816, 394, 996, 494, 964, 465, 938, 597, 281, 485, 837, 310, 282,\n",
      "                   196, 171, 123, 106, 361, 632, 375, 462,  36, 617, 478, 968, 188, 154,\n",
      "                   302, 544, 227, 838, 961, 995, 218, 231, 150, 541,  18, 568, 999, 756,\n",
      "                   715, 244, 845,  76, 889, 448, 203,  33, 487, 948,  52, 369, 158, 486,\n",
      "                   209, 683, 882, 589, 443, 796, 703, 107, 181, 303,  44, 120, 739, 863,\n",
      "                   330, 173, 424, 711, 665, 127, 386, 294, 374, 627, 213,  45, 923, 223,\n",
      "                   571, 719, 321, 760, 901, 874, 122,   7,  59, 620, 846, 396, 262, 228,\n",
      "                   338, 245, 678, 897, 751, 638, 300, 708, 316, 985,  11, 601, 442, 767,\n",
      "                   947, 419, 842, 558,  50, 866, 621, 431, 780, 637, 980, 384, 888, 425,\n",
      "                   804, 482, 771, 524, 776,  91, 563,  77, 348, 141,  60, 881, 253, 794,\n",
      "                   390, 109,  21, 870, 645, 894, 998, 817, 590, 978, 777,  32, 818, 488,\n",
      "                   292, 105, 917, 320,  87, 352, 548, 311, 349, 700, 647, 919, 206, 618,\n",
      "                   445, 516, 167, 337, 132, 200, 309, 899, 423, 912, 199, 220, 289, 931,\n",
      "                   852, 527, 460,  96, 890, 433, 994, 803, 770, 260, 758, 404, 766, 825,\n",
      "                   175, 335, 892,  38, 630, 643, 138, 160, 248, 284, 959, 170, 108, 312,\n",
      "                   699, 578, 535, 679, 161, 183, 822, 537, 249, 531, 115, 802, 513, 608,\n",
      "                   133, 238, 473, 385, 401, 278, 502,  65, 596,  80,  15, 418, 981, 252,\n",
      "                   240,  35, 786, 831, 261, 747, 117, 694, 677,  49,  56,  47,  12, 674,\n",
      "                   970, 682,   3,  25, 511, 732, 543, 841, 547,  68, 788,  23, 713, 383,\n",
      "                   706, 298, 254, 216, 887, 782, 357, 886, 667, 283, 391, 644,  27, 898,\n",
      "                   872, 937,  78,  43, 878, 397, 152, 373, 724, 958, 371,  71, 118, 591,\n",
      "                   498, 452, 358, 113, 144, 301, 710,  85, 574, 323, 481, 746, 709,   0,\n",
      "                   540, 869, 921, 634, 500,  26, 915, 143, 101, 941, 545,   6, 916, 440,\n",
      "                   381, 629, 972, 836, 327,  86, 270, 829, 100, 727, 530, 436,   1,  70,\n",
      "                   370, 976, 572, 723, 658, 447, 918, 451, 477, 907, 835, 552, 408, 472,\n",
      "                   523, 191, 526,  66, 339, 570, 551,  14, 661, 763, 521, 659,  84, 652,\n",
      "                   895, 668, 271, 400, 956, 844, 963,  81, 695,  48, 512, 805, 880, 172,\n",
      "                   575, 264,  42, 602, 734, 417,  82, 233, 991, 444, 821, 827, 609, 149,\n",
      "                   258, 935, 177, 125,  83, 234,  13, 636,  95, 932, 905, 422, 461, 546,\n",
      "                   768, 971, 560, 690, 410, 615, 207, 577, 765, 453, 483, 156, 680, 628,\n",
      "                   774, 413,  10, 823, 728, 353, 688, 883, 398, 685, 793, 988, 268, 399,\n",
      "                   333, 212, 592, 684, 219, 613, 322, 848,  28, 742, 840, 510, 514,  54,\n",
      "                   605, 599, 318,  98, 184, 603,   8, 707, 504, 182, 702, 467],\n",
      "                  dtype=torch.int32), tensor([0, 9, 6, 8, 7, 1, 6, 4, 8, 0, 1, 1, 7, 5, 9, 7, 2, 6, 7, 3, 1, 1, 8, 8,\n",
      "                   4, 9, 3, 4, 3, 5, 9, 5, 8, 9, 3, 5, 1, 9, 9, 7, 3, 9, 5, 3, 9, 3, 0, 2,\n",
      "                   9, 3, 7, 4, 6, 1, 6, 8, 5, 9, 6, 1, 2, 8, 9, 6, 7, 6, 2, 0, 2, 4, 1, 1,\n",
      "                   8, 5, 2, 9, 2, 2, 5, 9, 6, 9, 1, 7, 7, 5, 8, 5, 5, 6, 1, 5, 8, 6, 5, 9,\n",
      "                   9, 4, 2, 2, 7, 7, 3, 4, 9, 9, 1, 5, 1, 9, 1, 6, 6, 4, 3, 0, 1, 0, 0, 2,\n",
      "                   4, 1, 1, 6, 3, 7, 6, 4, 3, 8, 6, 9, 0, 2, 3, 8, 5, 6, 6, 7, 6, 1, 5, 6,\n",
      "                   3, 4, 0, 5, 1, 8, 4, 3, 4, 5, 9, 3, 6, 0, 3, 9, 6, 9, 6, 6, 4, 3, 0, 3,\n",
      "                   1, 5, 6, 7, 9, 6, 3, 1, 8, 7, 0, 8, 9, 1, 3, 7, 6, 6, 4, 9, 8, 4, 0, 4,\n",
      "                   6, 8, 7, 3, 0, 7, 6, 8, 1, 6, 3, 3, 2, 7, 4, 6, 2, 2, 7, 8, 9, 0, 0, 9,\n",
      "                   9, 5, 3, 0, 5, 6, 3, 3, 5, 8, 7, 0, 7, 6, 1, 9, 0, 3, 5, 0, 7, 2, 8, 7,\n",
      "                   1, 5, 9, 1, 3, 5, 1, 4, 2, 1, 4, 2, 9, 5, 3, 9, 7, 1, 6, 6, 0, 8, 6, 6,\n",
      "                   5, 3, 5, 1, 0, 7, 4, 3, 1, 1, 4, 2, 9, 9, 7, 9, 6, 9, 0, 7, 8, 8, 9, 1,\n",
      "                   7, 8, 1, 1, 4, 7, 9, 7, 9, 8, 8, 7, 7, 1, 4, 3, 8, 7, 2, 2, 6, 7, 3, 9,\n",
      "                   3, 1, 4, 7, 6, 9, 4, 5, 7, 1, 6, 2, 7, 2, 1, 5, 1, 6, 9, 4, 3, 2, 9, 3,\n",
      "                   7, 2, 4, 9, 8, 3, 3, 7, 3, 6, 8, 2, 3, 4, 1, 1, 5, 7, 1, 9, 4, 6, 7, 6,\n",
      "                   4, 1, 7, 1, 9, 8, 6, 0, 0, 7, 4, 7, 5, 3, 9, 1, 8, 0, 5, 7, 8, 2, 1, 2,\n",
      "                   7, 8, 8, 3, 8, 0, 2, 6, 0, 9, 3, 7, 6, 5, 0, 1, 7, 6, 7, 5, 4, 6, 4, 1,\n",
      "                   6, 3, 9, 8, 6, 9, 4, 6, 2, 1, 0, 4, 3, 4, 8, 6, 2, 9, 9, 0, 9, 3, 9, 8,\n",
      "                   6, 1, 3, 4, 9, 9, 0, 5, 6, 0, 7, 1, 5, 0, 5, 5, 8, 7, 3, 2, 9, 5, 0, 9,\n",
      "                   0, 1, 4, 6, 1, 9, 8, 5, 9, 2, 9, 8, 2, 6, 3, 6, 8, 5, 3, 7, 1, 2, 9, 5,\n",
      "                   9, 4, 7, 0, 6, 3, 4, 8, 0, 7, 7, 8, 3, 8, 9, 4, 0, 6, 5, 4, 4, 1, 0, 2,\n",
      "                   9, 5, 5, 3, 1, 5, 8, 7, 1, 6, 4, 1, 5, 9, 1, 1, 7, 3, 8, 1, 6, 1, 2, 0,\n",
      "                   1, 3, 0, 9, 6, 7, 8, 0, 9, 8, 9, 3, 8, 6, 1, 4, 3, 0, 8, 6, 2, 7, 8, 9,\n",
      "                   4, 2, 3, 4, 0, 7, 6, 5, 7, 7, 9, 8, 6, 1, 5, 9, 9, 0, 8, 7, 1, 9, 3, 8,\n",
      "                   9, 1, 8, 4, 7, 6, 2, 3, 1, 1, 2, 2, 9, 5, 3, 6, 2, 3, 3, 0, 3, 1, 7, 3])),\n",
      "               names=('seeds', 'labels'),\n",
      "           ),\n",
      "           test_set=ItemSet(\n",
      "               items=(tensor([847, 798, 148, 785, 360, 934, 229, 993, 539, 489, 382, 600, 687, 454,\n",
      "                   726,  79, 135, 850, 809, 681, 607, 752, 528, 304,  61, 116, 876,  40,\n",
      "                   670, 586, 395, 885, 854,  22, 686, 896, 598, 640, 493, 623, 362, 324,\n",
      "                   380, 669, 738, 936, 693, 372, 387, 474, 411,  64, 195, 379, 529, 749,\n",
      "                   522, 137, 307, 364, 619, 556, 833, 427, 215, 862, 698, 830, 979, 740,\n",
      "                   457,  73, 534, 651, 743, 559, 351,   4, 355, 509, 114, 495, 344, 973,\n",
      "                   313, 550, 415, 204, 377, 857, 165, 717, 189, 269,  57,  62, 957, 438,\n",
      "                   491, 911, 243, 585, 813, 414, 860, 168, 626, 748, 225, 155, 112, 624,\n",
      "                   222, 791, 479, 672, 582, 614, 764,  74, 192, 356, 499, 946, 773, 580,\n",
      "                   656, 354, 475, 343, 340, 469,  17, 992, 611,  20, 147, 226, 553, 873,\n",
      "                   111, 631, 877, 744, 819,  55, 174, 576, 287, 255, 517, 466, 193, 655,\n",
      "                   459, 326, 944, 906, 832, 350, 247, 237, 875, 428, 503, 501,  19, 409,\n",
      "                   735, 151, 366, 974, 929, 153, 960, 913, 779, 790, 140, 293,  30, 731,\n",
      "                   642, 807, 633, 295, 868, 166, 446, 235,  34,  41, 325, 449, 211, 520,\n",
      "                   722, 977, 839, 867], dtype=torch.int32), tensor([8, 7, 1, 3, 9, 4, 2, 6, 4, 5, 3, 2, 7, 2, 7, 2, 1, 7, 8, 4, 9, 1, 2, 3,\n",
      "                   5, 3, 0, 1, 7, 3, 3, 9, 8, 1, 0, 6, 6, 3, 4, 8, 3, 7, 4, 3, 0, 2, 5, 4,\n",
      "                   3, 7, 6, 2, 4, 0, 9, 5, 8, 9, 9, 7, 5, 1, 5, 4, 9, 5, 0, 7, 4, 7, 1, 5,\n",
      "                   8, 9, 5, 4, 7, 7, 0, 9, 4, 4, 5, 1, 1, 2, 5, 7, 5, 2, 5, 4, 9, 6, 2, 5,\n",
      "                   9, 0, 3, 6, 6, 7, 7, 3, 2, 9, 1, 7, 7, 9, 7, 7, 3, 0, 7, 4, 1, 1, 6, 8,\n",
      "                   3, 8, 1, 9, 2, 3, 4, 8, 4, 3, 3, 4, 1, 9, 1, 0, 5, 0, 8, 7, 2, 8, 2, 7,\n",
      "                   6, 7, 1, 1, 2, 5, 2, 3, 0, 1, 8, 5, 6, 8, 7, 7, 4, 4, 3, 1, 6, 7, 4, 7,\n",
      "                   9, 9, 3, 6, 8, 1, 3, 5, 8, 4, 2, 8, 1, 9, 4, 9, 0, 7, 4, 0, 9, 9, 6, 4,\n",
      "                   5, 8, 2, 4, 3, 1, 6, 0])),\n",
      "               names=('seeds', 'labels'),\n",
      "           ),\n",
      "           metadata={'name': 'node_classification', 'num_classes': 10},)\n",
      "\n",
      "Loaded link prediction task: OnDiskTask(validation_set=ItemSet(\n",
      "               items=(tensor([[ 70, 627],\n",
      "                   [ 97, 874],\n",
      "                   [660, 360],\n",
      "                   ...,\n",
      "                   [758, 750],\n",
      "                   [758,  54],\n",
      "                   [758, 120]], dtype=torch.int32), tensor([1., 1., 1.,  ..., 0., 0., 0.], dtype=torch.float64), tensor([   0,    1,    2,  ..., 1999, 1999, 1999])),\n",
      "               names=('seeds', 'labels', 'indexes'),\n",
      "           ),\n",
      "           train_set=ItemSet(\n",
      "               items=(tensor([[606, 331],\n",
      "                   [484, 891],\n",
      "                   [146, 930],\n",
      "                   ...,\n",
      "                   [299, 616],\n",
      "                   [123, 828],\n",
      "                   [ 27, 128]], dtype=torch.int32),),\n",
      "               names=('seeds',),\n",
      "           ),\n",
      "           test_set=ItemSet(\n",
      "               items=(tensor([[617, 851],\n",
      "                   [335, 750],\n",
      "                   [273, 540],\n",
      "                   ...,\n",
      "                   [185, 798],\n",
      "                   [185, 959],\n",
      "                   [185, 669]], dtype=torch.int32), tensor([1., 1., 1.,  ..., 0., 0., 0.], dtype=torch.float64), tensor([   0,    1,    2,  ..., 1999, 1999, 1999])),\n",
      "               names=('seeds', 'labels', 'indexes'),\n",
      "           ),\n",
      "           metadata={'name': 'link_prediction', 'num_classes': 10},)\n",
      "\n"
     ]
    },
    {
     "name": "stderr",
     "output_type": "stream",
     "text": [
      "/dgl/python/dgl/graphbolt/impl/ondisk_dataset.py:463: GBWarning: Edge feature is stored, but edge IDs are not saved.\n",
      "  gb_warning(\"Edge feature is stored, but edge IDs are not saved.\")\n"
     ]
    }
   ],
   "source": [
    "dataset = gb.OnDiskDataset(base_dir).load()\n",
    "graph = dataset.graph\n",
    "print(f\"Loaded graph: {graph}\\n\")\n",
    "\n",
    "feature = dataset.feature\n",
    "print(f\"Loaded feature store: {feature}\\n\")\n",
    "\n",
    "tasks = dataset.tasks\n",
    "nc_task = tasks[0]\n",
    "print(f\"Loaded node classification task: {nc_task}\\n\")\n",
    "lp_task = tasks[1]\n",
    "print(f\"Loaded link prediction task: {lp_task}\\n\")"
   ]
  }
 ],
 "metadata": {
  "colab": {
   "private_outputs": true,
   "provenance": []
  },
  "kernelspec": {
   "display_name": "Python 3",
   "name": "python3"
  },
  "language_info": {
   "codemirror_mode": {
    "name": "ipython",
    "version": 3
   },
   "file_extension": ".py",
   "mimetype": "text/x-python",
   "name": "python",
   "nbconvert_exporter": "python",
   "pygments_lexer": "ipython3",
   "version": "3.10.15"
  }
 },
 "nbformat": 4,
 "nbformat_minor": 0
}

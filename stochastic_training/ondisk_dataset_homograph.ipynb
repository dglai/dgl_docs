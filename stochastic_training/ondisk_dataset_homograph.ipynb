{
 "cells": [
  {
   "cell_type": "markdown",
   "metadata": {
    "id": "FnFhPMaAfLtJ"
   },
   "source": [
    "# OnDiskDataset for Homogeneous Graph\n",
    "\n",
    "[![Open In Colab](https://colab.research.google.com/assets/colab-badge.svg)](https://colab.research.google.com/github/dmlc/dgl/blob/master/notebooks/stochastic_training/ondisk_dataset_homograph.ipynb) [![GitHub](https://img.shields.io/badge/-View%20on%20GitHub-181717?logo=github&logoColor=ffffff)](https://github.com/dmlc/dgl/blob/master/notebooks/stochastic_training/ondisk_dataset_homograph.ipynb)\n",
    "\n",
    "This tutorial shows how to create `OnDiskDataset` for homogeneous graph that could be used in **GraphBolt** framework.\n",
    "\n",
    "By the end of this tutorial, you will be able to\n",
    "\n",
    "- organize graph structure data.\n",
    "- organize feature data.\n",
    "- organize training/validation/test set for specific tasks.\n",
    "\n",
    "To create an ``OnDiskDataset`` object, you need to organize all the data including graph structure, feature data and tasks into a directory. The directory should contain a ``metadata.yaml`` file that describes the metadata of the dataset.\n",
    "\n",
    "Now let's generate various data step by step and organize them together to instantiate `OnDiskDataset` finally."
   ]
  },
  {
   "cell_type": "markdown",
   "metadata": {
    "id": "Wlb19DtWgtzq"
   },
   "source": [
    "## Install DGL package"
   ]
  },
  {
   "cell_type": "code",
   "execution_count": 1,
   "metadata": {
    "execution": {
     "iopub.execute_input": "2024-10-19T13:17:35.264608Z",
     "iopub.status.busy": "2024-10-19T13:17:35.263988Z",
     "iopub.status.idle": "2024-10-19T13:17:38.308617Z",
     "shell.execute_reply": "2024-10-19T13:17:38.307678Z"
    },
    "id": "UojlT9ZGgyr9"
   },
   "outputs": [
    {
     "name": "stdout",
     "output_type": "stream",
     "text": [
      "Looking in links: https://data.dgl.ai/wheels-test/repo.html\r\n",
      "Requirement already satisfied: dgl in /opt/conda/envs/dgl-dev-cpu/lib/python3.10/site-packages (2.2a240410)\r\n",
      "Requirement already satisfied: numpy>=1.14.0 in /opt/conda/envs/dgl-dev-cpu/lib/python3.10/site-packages (from dgl) (1.26.4)\r\n",
      "Requirement already satisfied: scipy>=1.1.0 in /opt/conda/envs/dgl-dev-cpu/lib/python3.10/site-packages (from dgl) (1.14.1)\r\n",
      "Requirement already satisfied: networkx>=2.1 in /opt/conda/envs/dgl-dev-cpu/lib/python3.10/site-packages (from dgl) (3.4.1)\r\n",
      "Requirement already satisfied: requests>=2.19.0 in /opt/conda/envs/dgl-dev-cpu/lib/python3.10/site-packages (from dgl) (2.32.3)\r\n",
      "Requirement already satisfied: tqdm in /opt/conda/envs/dgl-dev-cpu/lib/python3.10/site-packages (from dgl) (4.66.5)\r\n",
      "Requirement already satisfied: psutil>=5.8.0 in /opt/conda/envs/dgl-dev-cpu/lib/python3.10/site-packages (from dgl) (6.1.0)\r\n",
      "Requirement already satisfied: torchdata>=0.5.0 in /opt/conda/envs/dgl-dev-cpu/lib/python3.10/site-packages (from dgl) (0.8.0)\r\n",
      "Requirement already satisfied: pandas in /opt/conda/envs/dgl-dev-cpu/lib/python3.10/site-packages (from dgl) (2.2.3)\r\n"
     ]
    },
    {
     "name": "stdout",
     "output_type": "stream",
     "text": [
      "Requirement already satisfied: charset-normalizer<4,>=2 in /opt/conda/envs/dgl-dev-cpu/lib/python3.10/site-packages (from requests>=2.19.0->dgl) (3.4.0)\r\n",
      "Requirement already satisfied: idna<4,>=2.5 in /opt/conda/envs/dgl-dev-cpu/lib/python3.10/site-packages (from requests>=2.19.0->dgl) (3.10)\r\n",
      "Requirement already satisfied: urllib3<3,>=1.21.1 in /opt/conda/envs/dgl-dev-cpu/lib/python3.10/site-packages (from requests>=2.19.0->dgl) (2.2.3)\r\n",
      "Requirement already satisfied: certifi>=2017.4.17 in /opt/conda/envs/dgl-dev-cpu/lib/python3.10/site-packages (from requests>=2.19.0->dgl) (2024.8.30)\r\n",
      "Requirement already satisfied: torch>=2 in /opt/conda/envs/dgl-dev-cpu/lib/python3.10/site-packages (from torchdata>=0.5.0->dgl) (2.1.0+cpu)\r\n"
     ]
    },
    {
     "name": "stdout",
     "output_type": "stream",
     "text": [
      "Requirement already satisfied: python-dateutil>=2.8.2 in /opt/conda/envs/dgl-dev-cpu/lib/python3.10/site-packages (from pandas->dgl) (2.9.0.post0)\r\n",
      "Requirement already satisfied: pytz>=2020.1 in /opt/conda/envs/dgl-dev-cpu/lib/python3.10/site-packages (from pandas->dgl) (2024.2)\r\n",
      "Requirement already satisfied: tzdata>=2022.7 in /opt/conda/envs/dgl-dev-cpu/lib/python3.10/site-packages (from pandas->dgl) (2024.2)\r\n",
      "Requirement already satisfied: six>=1.5 in /opt/conda/envs/dgl-dev-cpu/lib/python3.10/site-packages (from python-dateutil>=2.8.2->pandas->dgl) (1.16.0)\r\n",
      "Requirement already satisfied: filelock in /opt/conda/envs/dgl-dev-cpu/lib/python3.10/site-packages (from torch>=2->torchdata>=0.5.0->dgl) (3.16.1)\r\n",
      "Requirement already satisfied: typing-extensions in /opt/conda/envs/dgl-dev-cpu/lib/python3.10/site-packages (from torch>=2->torchdata>=0.5.0->dgl) (4.12.2)\r\n",
      "Requirement already satisfied: sympy in /opt/conda/envs/dgl-dev-cpu/lib/python3.10/site-packages (from torch>=2->torchdata>=0.5.0->dgl) (1.13.3)\r\n",
      "Requirement already satisfied: jinja2 in /opt/conda/envs/dgl-dev-cpu/lib/python3.10/site-packages (from torch>=2->torchdata>=0.5.0->dgl) (3.1.4)\r\n",
      "Requirement already satisfied: fsspec in /opt/conda/envs/dgl-dev-cpu/lib/python3.10/site-packages (from torch>=2->torchdata>=0.5.0->dgl) (2024.9.0)\r\n"
     ]
    },
    {
     "name": "stdout",
     "output_type": "stream",
     "text": [
      "Requirement already satisfied: MarkupSafe>=2.0 in /opt/conda/envs/dgl-dev-cpu/lib/python3.10/site-packages (from jinja2->torch>=2->torchdata>=0.5.0->dgl) (3.0.2)\r\n",
      "Requirement already satisfied: mpmath<1.4,>=1.1.0 in /opt/conda/envs/dgl-dev-cpu/lib/python3.10/site-packages (from sympy->torch>=2->torchdata>=0.5.0->dgl) (1.3.0)\r\n"
     ]
    },
    {
     "name": "stdout",
     "output_type": "stream",
     "text": [
      "\u001b[33mWARNING: Running pip as the 'root' user can result in broken permissions and conflicting behaviour with the system package manager, possibly rendering your system unusable.It is recommended to use a virtual environment instead: https://pip.pypa.io/warnings/venv. Use the --root-user-action option if you know what you are doing and want to suppress this warning.\u001b[0m\u001b[33m\r\n",
      "\u001b[0m"
     ]
    },
    {
     "name": "stdout",
     "output_type": "stream",
     "text": [
      "DGL installed!\n"
     ]
    }
   ],
   "source": [
    "# Install required packages.\n",
    "import os\n",
    "import torch\n",
    "import numpy as np\n",
    "os.environ['TORCH'] = torch.__version__\n",
    "os.environ['DGLBACKEND'] = \"pytorch\"\n",
    "\n",
    "# Install the CPU version.\n",
    "device = torch.device(\"cpu\")\n",
    "!pip install --pre dgl -f https://data.dgl.ai/wheels-test/repo.html\n",
    "\n",
    "try:\n",
    "    import dgl\n",
    "    import dgl.graphbolt as gb\n",
    "    installed = True\n",
    "except ImportError as error:\n",
    "    installed = False\n",
    "    print(error)\n",
    "print(\"DGL installed!\" if installed else \"DGL not found!\")"
   ]
  },
  {
   "cell_type": "markdown",
   "metadata": {
    "id": "2R7WnSbjsfbr"
   },
   "source": [
    "## Data preparation\n",
    "In order to demonstrate how to organize various data, let's create a base directory first."
   ]
  },
  {
   "cell_type": "code",
   "execution_count": 2,
   "metadata": {
    "execution": {
     "iopub.execute_input": "2024-10-19T13:17:38.311864Z",
     "iopub.status.busy": "2024-10-19T13:17:38.310886Z",
     "iopub.status.idle": "2024-10-19T13:17:38.316287Z",
     "shell.execute_reply": "2024-10-19T13:17:38.315430Z"
    },
    "id": "SZipbzyltLfO"
   },
   "outputs": [
    {
     "name": "stdout",
     "output_type": "stream",
     "text": [
      "Created base directory: ./ondisk_dataset_homograph\n"
     ]
    }
   ],
   "source": [
    "base_dir = './ondisk_dataset_homograph'\n",
    "os.makedirs(base_dir, exist_ok=True)\n",
    "print(f\"Created base directory: {base_dir}\")"
   ]
  },
  {
   "cell_type": "markdown",
   "metadata": {
    "id": "qhNtIn_xhlnl"
   },
   "source": [
    "### Generate graph structure data\n",
    "For homogeneous graph, we just need to save edges(namely seeds) into  **Numpy** or **CSV** file.\n",
    "\n",
    "Note:\n",
    "- when saving to **Numpy**, the array requires to be in shape of `(2, N)`. This format is recommended as constructing graph from it is much faster than **CSV** file.\n",
    "- when saving to **CSV** file, do not save index and header.\n"
   ]
  },
  {
   "cell_type": "code",
   "execution_count": 3,
   "metadata": {
    "execution": {
     "iopub.execute_input": "2024-10-19T13:17:38.318765Z",
     "iopub.status.busy": "2024-10-19T13:17:38.318224Z",
     "iopub.status.idle": "2024-10-19T13:17:38.332960Z",
     "shell.execute_reply": "2024-10-19T13:17:38.331952Z"
    },
    "id": "HcBt4G5BmSjr"
   },
   "outputs": [
    {
     "name": "stdout",
     "output_type": "stream",
     "text": [
      "Part of edges: [[817 314]\n",
      " [  7  72]\n",
      " [325 878]\n",
      " [928 922]\n",
      " [589 409]]\n",
      "Edges are saved into ./ondisk_dataset_homograph/edges.csv\n"
     ]
    }
   ],
   "source": [
    "import numpy as np\n",
    "import pandas as pd\n",
    "num_nodes = 1000\n",
    "num_edges = 10 * num_nodes\n",
    "edges_path = os.path.join(base_dir, \"edges.csv\")\n",
    "edges = np.random.randint(0, num_nodes, size=(num_edges, 2))\n",
    "\n",
    "print(f\"Part of edges: {edges[:5, :]}\")\n",
    "\n",
    "df = pd.DataFrame(edges)\n",
    "df.to_csv(edges_path, index=False, header=False)\n",
    "\n",
    "print(f\"Edges are saved into {edges_path}\")"
   ]
  },
  {
   "cell_type": "markdown",
   "metadata": {
    "id": "kh-4cPtzpcaH"
   },
   "source": [
    "### Generate feature data for graph\n",
    "For feature data, numpy arrays and torch tensors are supported for now."
   ]
  },
  {
   "cell_type": "code",
   "execution_count": 4,
   "metadata": {
    "execution": {
     "iopub.execute_input": "2024-10-19T13:17:38.335778Z",
     "iopub.status.busy": "2024-10-19T13:17:38.335121Z",
     "iopub.status.idle": "2024-10-19T13:17:38.354959Z",
     "shell.execute_reply": "2024-10-19T13:17:38.354190Z"
    },
    "id": "_PVu1u5brBhF"
   },
   "outputs": [
    {
     "name": "stdout",
     "output_type": "stream",
     "text": [
      "Part of node feature [feat_0]: [[0.07427807 0.2560109  0.49153086 0.86038207 0.12070388]\n",
      " [0.63559263 0.31323324 0.11141565 0.43212285 0.8274011 ]\n",
      " [0.4401785  0.2924846  0.38038982 0.89614059 0.13744406]]\n",
      "Node feature [feat_0] is saved to ./ondisk_dataset_homograph/node-feat-0.npy\n",
      "\n",
      "Part of node feature [feat_1]: tensor([[0.7754, 0.0307, 0.6035, 0.0179, 0.0281],\n",
      "        [0.0528, 0.4592, 0.0410, 0.4552, 0.5965],\n",
      "        [0.7297, 0.5341, 0.2630, 0.4346, 0.2607]])\n",
      "Node feature [feat_1] is saved to ./ondisk_dataset_homograph/node-feat-1.pt\n",
      "\n",
      "Part of edge feature [feat_0]: [[0.380728   0.04021289 0.98449275 0.29765664 0.75327955]\n",
      " [0.33698849 0.34815631 0.27687068 0.81079248 0.48346202]\n",
      " [0.39847646 0.76832264 0.04230145 0.04609585 0.87906885]]\n",
      "Edge feature [feat_0] is saved to ./ondisk_dataset_homograph/edge-feat-0.npy\n",
      "\n",
      "Part of edge feature [feat_1]: tensor([[0.3422, 0.9224, 0.3510, 0.9212, 0.5611],\n",
      "        [0.8194, 0.9540, 0.6139, 0.2442, 0.4736],\n",
      "        [0.5581, 0.9036, 0.8910, 0.3683, 0.7545]])\n",
      "Edge feature [feat_1] is saved to ./ondisk_dataset_homograph/edge-feat-1.pt\n",
      "\n"
     ]
    }
   ],
   "source": [
    "# Generate node feature in numpy array.\n",
    "node_feat_0_path = os.path.join(base_dir, \"node-feat-0.npy\")\n",
    "node_feat_0 = np.random.rand(num_nodes, 5)\n",
    "print(f\"Part of node feature [feat_0]: {node_feat_0[:3, :]}\")\n",
    "np.save(node_feat_0_path, node_feat_0)\n",
    "print(f\"Node feature [feat_0] is saved to {node_feat_0_path}\\n\")\n",
    "\n",
    "# Generate another node feature in torch tensor\n",
    "node_feat_1_path = os.path.join(base_dir, \"node-feat-1.pt\")\n",
    "node_feat_1 = torch.rand(num_nodes, 5)\n",
    "print(f\"Part of node feature [feat_1]: {node_feat_1[:3, :]}\")\n",
    "torch.save(node_feat_1, node_feat_1_path)\n",
    "print(f\"Node feature [feat_1] is saved to {node_feat_1_path}\\n\")\n",
    "\n",
    "# Generate edge feature in numpy array.\n",
    "edge_feat_0_path = os.path.join(base_dir, \"edge-feat-0.npy\")\n",
    "edge_feat_0 = np.random.rand(num_edges, 5)\n",
    "print(f\"Part of edge feature [feat_0]: {edge_feat_0[:3, :]}\")\n",
    "np.save(edge_feat_0_path, edge_feat_0)\n",
    "print(f\"Edge feature [feat_0] is saved to {edge_feat_0_path}\\n\")\n",
    "\n",
    "# Generate another edge feature in torch tensor\n",
    "edge_feat_1_path = os.path.join(base_dir, \"edge-feat-1.pt\")\n",
    "edge_feat_1 = torch.rand(num_edges, 5)\n",
    "print(f\"Part of edge feature [feat_1]: {edge_feat_1[:3, :]}\")\n",
    "torch.save(edge_feat_1, edge_feat_1_path)\n",
    "print(f\"Edge feature [feat_1] is saved to {edge_feat_1_path}\\n\")\n"
   ]
  },
  {
   "cell_type": "markdown",
   "metadata": {
    "id": "ZyqgOtsIwzh_"
   },
   "source": [
    "### Generate tasks\n",
    "`OnDiskDataset` supports multiple tasks. For each task, we need to prepare training/validation/test sets respectively. Such sets usually vary among different tasks. In this tutorial, let's create a **Node Classification** task and **Link Prediction** task."
   ]
  },
  {
   "cell_type": "markdown",
   "metadata": {
    "id": "hVxHaDIfzCkr"
   },
   "source": [
    "#### Node Classification Task\n",
    "For node classification task, we need **node IDs** and corresponding **labels** for each training/validation/test set. Like feature data, numpy arrays and torch tensors are supported for these sets."
   ]
  },
  {
   "cell_type": "code",
   "execution_count": 5,
   "metadata": {
    "execution": {
     "iopub.execute_input": "2024-10-19T13:17:38.357153Z",
     "iopub.status.busy": "2024-10-19T13:17:38.356869Z",
     "iopub.status.idle": "2024-10-19T13:17:38.368129Z",
     "shell.execute_reply": "2024-10-19T13:17:38.367257Z"
    },
    "id": "S5-fyBbHzTCO"
   },
   "outputs": [
    {
     "name": "stdout",
     "output_type": "stream",
     "text": [
      "Part of train ids for node classification: [448 270 243]\n",
      "NC train ids are saved to ./ondisk_dataset_homograph/nc-train-ids.npy\n",
      "\n",
      "Part of train labels for node classification: tensor([2, 8, 2])\n",
      "NC train labels are saved to ./ondisk_dataset_homograph/nc-train-labels.pt\n",
      "\n",
      "Part of val ids for node classification: [552 529 176]\n",
      "NC val ids are saved to ./ondisk_dataset_homograph/nc-val-ids.npy\n",
      "\n",
      "Part of val labels for node classification: tensor([1, 3, 1])\n",
      "NC val labels are saved to ./ondisk_dataset_homograph/nc-val-labels.pt\n",
      "\n",
      "Part of test ids for node classification: [823 470 643]\n",
      "NC test ids are saved to ./ondisk_dataset_homograph/nc-test-ids.npy\n",
      "\n",
      "Part of test labels for node classification: tensor([1, 8, 8])\n",
      "NC test labels are saved to ./ondisk_dataset_homograph/nc-test-labels.pt\n",
      "\n"
     ]
    }
   ],
   "source": [
    "num_trains = int(num_nodes * 0.6)\n",
    "num_vals = int(num_nodes * 0.2)\n",
    "num_tests = num_nodes - num_trains - num_vals\n",
    "\n",
    "ids = np.arange(num_nodes)\n",
    "np.random.shuffle(ids)\n",
    "\n",
    "nc_train_ids_path = os.path.join(base_dir, \"nc-train-ids.npy\")\n",
    "nc_train_ids = ids[:num_trains]\n",
    "print(f\"Part of train ids for node classification: {nc_train_ids[:3]}\")\n",
    "np.save(nc_train_ids_path, nc_train_ids)\n",
    "print(f\"NC train ids are saved to {nc_train_ids_path}\\n\")\n",
    "\n",
    "nc_train_labels_path = os.path.join(base_dir, \"nc-train-labels.pt\")\n",
    "nc_train_labels = torch.randint(0, 10, (num_trains,))\n",
    "print(f\"Part of train labels for node classification: {nc_train_labels[:3]}\")\n",
    "torch.save(nc_train_labels, nc_train_labels_path)\n",
    "print(f\"NC train labels are saved to {nc_train_labels_path}\\n\")\n",
    "\n",
    "nc_val_ids_path = os.path.join(base_dir, \"nc-val-ids.npy\")\n",
    "nc_val_ids = ids[num_trains:num_trains+num_vals]\n",
    "print(f\"Part of val ids for node classification: {nc_val_ids[:3]}\")\n",
    "np.save(nc_val_ids_path, nc_val_ids)\n",
    "print(f\"NC val ids are saved to {nc_val_ids_path}\\n\")\n",
    "\n",
    "nc_val_labels_path = os.path.join(base_dir, \"nc-val-labels.pt\")\n",
    "nc_val_labels = torch.randint(0, 10, (num_vals,))\n",
    "print(f\"Part of val labels for node classification: {nc_val_labels[:3]}\")\n",
    "torch.save(nc_val_labels, nc_val_labels_path)\n",
    "print(f\"NC val labels are saved to {nc_val_labels_path}\\n\")\n",
    "\n",
    "nc_test_ids_path = os.path.join(base_dir, \"nc-test-ids.npy\")\n",
    "nc_test_ids = ids[-num_tests:]\n",
    "print(f\"Part of test ids for node classification: {nc_test_ids[:3]}\")\n",
    "np.save(nc_test_ids_path, nc_test_ids)\n",
    "print(f\"NC test ids are saved to {nc_test_ids_path}\\n\")\n",
    "\n",
    "nc_test_labels_path = os.path.join(base_dir, \"nc-test-labels.pt\")\n",
    "nc_test_labels = torch.randint(0, 10, (num_tests,))\n",
    "print(f\"Part of test labels for node classification: {nc_test_labels[:3]}\")\n",
    "torch.save(nc_test_labels, nc_test_labels_path)\n",
    "print(f\"NC test labels are saved to {nc_test_labels_path}\\n\")"
   ]
  },
  {
   "cell_type": "markdown",
   "metadata": {
    "id": "LhAcDCHQ_KJ0"
   },
   "source": [
    "#### Link Prediction Task\n",
    "For link prediction task, we need **seeds** or **corresponding labels and indexes** which representing the pos/neg property and group of the seeds for each training/validation/test set. Like feature data, numpy arrays and torch tensors are supported for these sets."
   ]
  },
  {
   "cell_type": "code",
   "execution_count": 6,
   "metadata": {
    "execution": {
     "iopub.execute_input": "2024-10-19T13:17:38.370199Z",
     "iopub.status.busy": "2024-10-19T13:17:38.369798Z",
     "iopub.status.idle": "2024-10-19T13:17:38.387450Z",
     "shell.execute_reply": "2024-10-19T13:17:38.386588Z"
    },
    "id": "u0jCnXIcAQy4"
   },
   "outputs": [
    {
     "name": "stdout",
     "output_type": "stream",
     "text": [
      "Part of train seeds for link prediction: [[817 314]\n",
      " [  7  72]\n",
      " [325 878]]\n",
      "LP train seeds are saved to ./ondisk_dataset_homograph/lp-train-seeds.npy\n",
      "\n",
      "Part of val seeds for link prediction: [[174 489]\n",
      " [130 336]\n",
      " [346 884]]\n",
      "LP val seeds are saved to ./ondisk_dataset_homograph/lp-val-seeds.npy\n",
      "\n",
      "Part of val labels for link prediction: [1. 1. 1.]\n",
      "LP val labels are saved to ./ondisk_dataset_homograph/lp-val-labels.npy\n",
      "\n",
      "Part of val indexes for link prediction: [0 1 2]\n",
      "LP val indexes are saved to ./ondisk_dataset_homograph/lp-val-indexes.npy\n",
      "\n",
      "Part of test seeds for link prediction: [[266 786]\n",
      " [ 66 364]\n",
      " [865 341]]\n",
      "LP test seeds are saved to ./ondisk_dataset_homograph/lp-test-seeds.npy\n",
      "\n",
      "Part of val labels for link prediction: [1. 1. 1.]\n",
      "LP test labels are saved to ./ondisk_dataset_homograph/lp-test-labels.npy\n",
      "\n",
      "Part of test indexes for link prediction: [0 1 2]\n",
      "LP test indexes are saved to ./ondisk_dataset_homograph/lp-test-indexes.npy\n",
      "\n"
     ]
    }
   ],
   "source": [
    "num_trains = int(num_edges * 0.6)\n",
    "num_vals = int(num_edges * 0.2)\n",
    "num_tests = num_edges - num_trains - num_vals\n",
    "\n",
    "lp_train_seeds_path = os.path.join(base_dir, \"lp-train-seeds.npy\")\n",
    "lp_train_seeds = edges[:num_trains, :]\n",
    "print(f\"Part of train seeds for link prediction: {lp_train_seeds[:3]}\")\n",
    "np.save(lp_train_seeds_path, lp_train_seeds)\n",
    "print(f\"LP train seeds are saved to {lp_train_seeds_path}\\n\")\n",
    "\n",
    "lp_val_seeds_path = os.path.join(base_dir, \"lp-val-seeds.npy\")\n",
    "lp_val_seeds = edges[num_trains:num_trains+num_vals, :]\n",
    "lp_val_neg_dsts = np.random.randint(0, num_nodes, (num_vals, 10)).reshape(-1)\n",
    "lp_val_neg_srcs = np.repeat(lp_val_seeds[:,0], 10)\n",
    "lp_val_neg_seeds = np.concatenate((lp_val_neg_srcs, lp_val_neg_dsts)).reshape(2,-1).T\n",
    "lp_val_seeds = np.concatenate((lp_val_seeds, lp_val_neg_seeds))\n",
    "print(f\"Part of val seeds for link prediction: {lp_val_seeds[:3]}\")\n",
    "np.save(lp_val_seeds_path, lp_val_seeds)\n",
    "print(f\"LP val seeds are saved to {lp_val_seeds_path}\\n\")\n",
    "\n",
    "lp_val_labels_path = os.path.join(base_dir, \"lp-val-labels.npy\")\n",
    "lp_val_labels = np.empty(num_vals * (10 + 1))\n",
    "lp_val_labels[:num_vals] = 1\n",
    "lp_val_labels[num_vals:] = 0\n",
    "print(f\"Part of val labels for link prediction: {lp_val_labels[:3]}\")\n",
    "np.save(lp_val_labels_path, lp_val_labels)\n",
    "print(f\"LP val labels are saved to {lp_val_labels_path}\\n\")\n",
    "\n",
    "lp_val_indexes_path = os.path.join(base_dir, \"lp-val-indexes.npy\")\n",
    "lp_val_indexes = np.arange(0, num_vals)\n",
    "lp_val_neg_indexes = np.repeat(lp_val_indexes, 10)\n",
    "lp_val_indexes = np.concatenate([lp_val_indexes, lp_val_neg_indexes])\n",
    "print(f\"Part of val indexes for link prediction: {lp_val_indexes[:3]}\")\n",
    "np.save(lp_val_indexes_path, lp_val_indexes)\n",
    "print(f\"LP val indexes are saved to {lp_val_indexes_path}\\n\")\n",
    "\n",
    "lp_test_seeds_path = os.path.join(base_dir, \"lp-test-seeds.npy\")\n",
    "lp_test_seeds = edges[-num_tests:, :]\n",
    "lp_test_neg_dsts = np.random.randint(0, num_nodes, (num_tests, 10)).reshape(-1)\n",
    "lp_test_neg_srcs = np.repeat(lp_test_seeds[:,0], 10)\n",
    "lp_test_neg_seeds = np.concatenate((lp_test_neg_srcs, lp_test_neg_dsts)).reshape(2,-1).T\n",
    "lp_test_seeds = np.concatenate((lp_test_seeds, lp_test_neg_seeds))\n",
    "print(f\"Part of test seeds for link prediction: {lp_test_seeds[:3]}\")\n",
    "np.save(lp_test_seeds_path, lp_test_seeds)\n",
    "print(f\"LP test seeds are saved to {lp_test_seeds_path}\\n\")\n",
    "\n",
    "lp_test_labels_path = os.path.join(base_dir, \"lp-test-labels.npy\")\n",
    "lp_test_labels = np.empty(num_tests * (10 + 1))\n",
    "lp_test_labels[:num_tests] = 1\n",
    "lp_test_labels[num_tests:] = 0\n",
    "print(f\"Part of val labels for link prediction: {lp_test_labels[:3]}\")\n",
    "np.save(lp_test_labels_path, lp_test_labels)\n",
    "print(f\"LP test labels are saved to {lp_test_labels_path}\\n\")\n",
    "\n",
    "lp_test_indexes_path = os.path.join(base_dir, \"lp-test-indexes.npy\")\n",
    "lp_test_indexes = np.arange(0, num_tests)\n",
    "lp_test_neg_indexes = np.repeat(lp_test_indexes, 10)\n",
    "lp_test_indexes = np.concatenate([lp_test_indexes, lp_test_neg_indexes])\n",
    "print(f\"Part of test indexes for link prediction: {lp_test_indexes[:3]}\")\n",
    "np.save(lp_test_indexes_path, lp_test_indexes)\n",
    "print(f\"LP test indexes are saved to {lp_test_indexes_path}\\n\")"
   ]
  },
  {
   "cell_type": "markdown",
   "metadata": {
    "id": "wbk6-wxRK-6S"
   },
   "source": [
    "## Organize Data into YAML File\n",
    "Now we need to create a `metadata.yaml` file which contains the paths, dadta types of graph structure, feature data, training/validation/test sets.\n",
    "\n",
    "Notes:\n",
    "- all path should be relative to `metadata.yaml`.\n",
    "- Below fields are optional and not specified in below example.\n",
    "  - `in_memory`: indicates whether to load dada into memory or `mmap`. Default is `True`.\n",
    "\n",
    "Please refer to [YAML specification](https://github.com/dmlc/dgl/blob/master/docs/source/stochastic_training/ondisk-dataset-specification.rst) for more details."
   ]
  },
  {
   "cell_type": "code",
   "execution_count": 7,
   "metadata": {
    "execution": {
     "iopub.execute_input": "2024-10-19T13:17:38.389984Z",
     "iopub.status.busy": "2024-10-19T13:17:38.389511Z",
     "iopub.status.idle": "2024-10-19T13:17:38.395762Z",
     "shell.execute_reply": "2024-10-19T13:17:38.394970Z"
    },
    "id": "ddGTWW61Lpwp"
   },
   "outputs": [],
   "source": [
    "yaml_content = f\"\"\"\n",
    "    dataset_name: homogeneous_graph_nc_lp\n",
    "    graph:\n",
    "      nodes:\n",
    "        - num: {num_nodes}\n",
    "      edges:\n",
    "        - format: csv\n",
    "          path: {os.path.basename(edges_path)}\n",
    "    feature_data:\n",
    "      - domain: node\n",
    "        name: feat_0\n",
    "        format: numpy\n",
    "        path: {os.path.basename(node_feat_0_path)}\n",
    "      - domain: node\n",
    "        name: feat_1\n",
    "        format: torch\n",
    "        path: {os.path.basename(node_feat_1_path)}\n",
    "      - domain: edge\n",
    "        name: feat_0\n",
    "        format: numpy\n",
    "        path: {os.path.basename(edge_feat_0_path)}\n",
    "      - domain: edge\n",
    "        name: feat_1\n",
    "        format: torch\n",
    "        path: {os.path.basename(edge_feat_1_path)}\n",
    "    tasks:\n",
    "      - name: node_classification\n",
    "        num_classes: 10\n",
    "        train_set:\n",
    "          - data:\n",
    "              - name: seeds\n",
    "                format: numpy\n",
    "                path: {os.path.basename(nc_train_ids_path)}\n",
    "              - name: labels\n",
    "                format: torch\n",
    "                path: {os.path.basename(nc_train_labels_path)}\n",
    "        validation_set:\n",
    "          - data:\n",
    "              - name: seeds\n",
    "                format: numpy\n",
    "                path: {os.path.basename(nc_val_ids_path)}\n",
    "              - name: labels\n",
    "                format: torch\n",
    "                path: {os.path.basename(nc_val_labels_path)}\n",
    "        test_set:\n",
    "          - data:\n",
    "              - name: seeds\n",
    "                format: numpy\n",
    "                path: {os.path.basename(nc_test_ids_path)}\n",
    "              - name: labels\n",
    "                format: torch\n",
    "                path: {os.path.basename(nc_test_labels_path)}\n",
    "      - name: link_prediction\n",
    "        num_classes: 10\n",
    "        train_set:\n",
    "          - data:\n",
    "              - name: seeds\n",
    "                format: numpy\n",
    "                path: {os.path.basename(lp_train_seeds_path)}\n",
    "        validation_set:\n",
    "          - data:\n",
    "              - name: seeds\n",
    "                format: numpy\n",
    "                path: {os.path.basename(lp_val_seeds_path)}\n",
    "              - name: labels\n",
    "                format: numpy\n",
    "                path: {os.path.basename(lp_val_labels_path)}\n",
    "              - name: indexes\n",
    "                format: numpy\n",
    "                path: {os.path.basename(lp_val_indexes_path)}\n",
    "        test_set:\n",
    "          - data:\n",
    "              - name: seeds\n",
    "                format: numpy\n",
    "                path: {os.path.basename(lp_test_seeds_path)}\n",
    "              - name: labels\n",
    "                format: numpy\n",
    "                path: {os.path.basename(lp_test_labels_path)}\n",
    "              - name: indexes\n",
    "                format: numpy\n",
    "                path: {os.path.basename(lp_test_indexes_path)}\n",
    "\"\"\"\n",
    "metadata_path = os.path.join(base_dir, \"metadata.yaml\")\n",
    "with open(metadata_path, \"w\") as f:\n",
    "  f.write(yaml_content)"
   ]
  },
  {
   "cell_type": "markdown",
   "metadata": {
    "id": "kEfybHGhOW7O"
   },
   "source": [
    "## Instantiate `OnDiskDataset`\n",
    "Now we're ready to load dataset via `dgl.graphbolt.OnDiskDataset`. When instantiating, we just pass in the base directory where `metadata.yaml` file lies.\n",
    "\n",
    "During first instantiation, GraphBolt preprocesses the raw data such as constructing `FusedCSCSamplingGraph` from edges. All data including graph, feature data, training/validation/test sets are put into `preprocessed` directory after preprocessing. Any following dataset loading will skip the preprocess stage.\n",
    "\n",
    "After preprocessing, `load()` is required to be called explicitly in order to load graph, feature data and tasks."
   ]
  },
  {
   "cell_type": "code",
   "execution_count": 8,
   "metadata": {
    "execution": {
     "iopub.execute_input": "2024-10-19T13:17:38.397950Z",
     "iopub.status.busy": "2024-10-19T13:17:38.397664Z",
     "iopub.status.idle": "2024-10-19T13:17:38.474404Z",
     "shell.execute_reply": "2024-10-19T13:17:38.473820Z"
    },
    "id": "W58CZoSzOiyo"
   },
   "outputs": [
    {
     "name": "stdout",
     "output_type": "stream",
     "text": [
      "Start to preprocess the on-disk dataset.\n",
      "Finish preprocessing the on-disk dataset.\n",
      "Loaded graph: FusedCSCSamplingGraph(csc_indptr=tensor([    0,    14,    22,  ...,  9983,  9993, 10000], dtype=torch.int32),\n",
      "                      indices=tensor([255, 476, 301,  ..., 344, 731, 983], dtype=torch.int32),\n",
      "                      total_num_nodes=1000, num_edges=10000,)\n",
      "\n",
      "Loaded feature store: TorchBasedFeatureStore(\n",
      "    {(<OnDiskFeatureDataDomain.NODE: 'node'>, None, 'feat_0'): TorchBasedFeature(\n",
      "        feature=tensor([[0.0743, 0.2560, 0.4915, 0.8604, 0.1207],\n",
      "                        [0.6356, 0.3132, 0.1114, 0.4321, 0.8274],\n",
      "                        [0.4402, 0.2925, 0.3804, 0.8961, 0.1374],\n",
      "                        ...,\n",
      "                        [0.3492, 0.3774, 0.1973, 0.4370, 0.7846],\n",
      "                        [0.4950, 0.8334, 0.5174, 0.2317, 0.2460],\n",
      "                        [0.2732, 0.0680, 0.5575, 0.0531, 0.5506]], dtype=torch.float64),\n",
      "        metadata={},\n",
      "    ), (<OnDiskFeatureDataDomain.NODE: 'node'>, None, 'feat_1'): TorchBasedFeature(\n",
      "        feature=tensor([[0.7754, 0.0307, 0.6035, 0.0179, 0.0281],\n",
      "                        [0.0528, 0.4592, 0.0410, 0.4552, 0.5965],\n",
      "                        [0.7297, 0.5341, 0.2630, 0.4346, 0.2607],\n",
      "                        ...,\n",
      "                        [0.9806, 0.1959, 0.6632, 0.7256, 0.0570],\n",
      "                        [0.8488, 0.7191, 0.5450, 0.6581, 0.9690],\n",
      "                        [0.5413, 0.6891, 0.6327, 0.5622, 0.3376]]),\n",
      "        metadata={},\n",
      "    ), (<OnDiskFeatureDataDomain.EDGE: 'edge'>, None, 'feat_0'): TorchBasedFeature(\n",
      "        feature=tensor([[0.3807, 0.0402, 0.9845, 0.2977, 0.7533],\n",
      "                        [0.3370, 0.3482, 0.2769, 0.8108, 0.4835],\n",
      "                        [0.3985, 0.7683, 0.0423, 0.0461, 0.8791],\n",
      "                        ...,\n",
      "                        [0.8904, 0.4347, 0.8114, 0.6125, 0.0935],\n",
      "                        [0.5334, 0.3762, 0.9965, 0.8199, 0.3025],\n",
      "                        [0.8975, 0.6508, 0.3207, 0.2252, 0.9496]], dtype=torch.float64),\n",
      "        metadata={},\n",
      "    ), (<OnDiskFeatureDataDomain.EDGE: 'edge'>, None, 'feat_1'): TorchBasedFeature(\n",
      "        feature=tensor([[0.3422, 0.9224, 0.3510, 0.9212, 0.5611],\n",
      "                        [0.8194, 0.9540, 0.6139, 0.2442, 0.4736],\n",
      "                        [0.5581, 0.9036, 0.8910, 0.3683, 0.7545],\n",
      "                        ...,\n",
      "                        [0.9433, 0.4650, 0.5430, 0.2510, 0.8491],\n",
      "                        [0.0317, 0.0808, 0.4838, 0.9934, 0.8115],\n",
      "                        [0.0968, 0.5686, 0.8106, 0.5135, 0.4927]]),\n",
      "        metadata={},\n",
      "    )}\n",
      ")\n",
      "\n",
      "Loaded node classification task: OnDiskTask(validation_set=ItemSet(\n",
      "               items=(tensor([552, 529, 176, 687, 876, 545, 518, 389,  11, 190, 120, 914, 258, 611,\n",
      "                   173, 195, 168, 865, 218, 580, 803, 971, 445, 478, 707, 196, 959, 250,\n",
      "                   719, 181, 647, 921, 248, 696, 888, 232, 149, 955, 761, 356, 134, 902,\n",
      "                   404, 640, 385, 214, 960, 532,  16, 375, 416,  76, 110, 625, 400, 501,\n",
      "                    90, 278, 322, 669, 886, 353, 861, 574, 191, 341, 958, 352, 890, 512,\n",
      "                     7, 993, 397, 717, 674, 620, 487, 482, 504, 836, 323, 795, 221, 657,\n",
      "                   483, 475, 974,  69,  85,  13, 745, 175, 401, 200, 557,  86, 313, 702,\n",
      "                   832, 388, 767, 473, 315, 280, 349, 332, 216, 569, 837, 631, 326, 957,\n",
      "                   437, 637, 412, 854, 520, 909, 952, 358, 136, 124, 965, 689, 820, 338,\n",
      "                   231, 966, 566, 449, 788, 741, 212, 486, 395, 277, 599, 526, 222,  15,\n",
      "                   644, 373, 885, 614, 632, 333, 975, 479, 381, 269, 505, 559, 821, 581,\n",
      "                   211, 605, 324, 597, 104, 868, 683, 462, 742, 782, 713, 163, 184, 926,\n",
      "                   549,  71, 402, 293, 598,  20, 229, 740, 145, 934,  70, 802, 572,  49,\n",
      "                   209, 858, 319,  36, 932, 516, 252, 207, 725, 538, 840, 628, 912, 167,\n",
      "                   621, 967, 183, 524], dtype=torch.int32), tensor([1, 3, 1, 6, 0, 8, 1, 6, 5, 8, 4, 5, 7, 5, 0, 8, 3, 6, 7, 4, 9, 6, 7, 1,\n",
      "                   8, 0, 6, 6, 5, 3, 7, 6, 1, 7, 7, 4, 5, 2, 0, 5, 3, 1, 1, 5, 1, 5, 8, 7,\n",
      "                   9, 5, 0, 6, 7, 5, 9, 6, 4, 9, 0, 4, 4, 0, 5, 4, 3, 1, 7, 4, 0, 2, 8, 0,\n",
      "                   2, 1, 9, 1, 3, 9, 9, 3, 7, 8, 9, 3, 2, 3, 3, 6, 2, 9, 5, 7, 4, 4, 0, 0,\n",
      "                   4, 7, 5, 9, 8, 8, 2, 1, 7, 7, 7, 9, 0, 7, 6, 6, 3, 5, 3, 2, 0, 5, 8, 3,\n",
      "                   6, 9, 2, 3, 6, 8, 8, 7, 2, 1, 2, 2, 7, 5, 3, 3, 0, 2, 5, 0, 8, 9, 8, 0,\n",
      "                   9, 0, 1, 6, 4, 0, 0, 6, 2, 1, 7, 4, 0, 8, 2, 6, 3, 1, 0, 1, 8, 2, 4, 2,\n",
      "                   2, 7, 2, 8, 2, 4, 7, 0, 3, 5, 6, 3, 6, 7, 2, 5, 6, 5, 9, 5, 2, 0, 5, 0,\n",
      "                   8, 1, 9, 8, 7, 1, 3, 7])),\n",
      "               names=('seeds', 'labels'),\n",
      "           ),\n",
      "           train_set=ItemSet(\n",
      "               items=(tensor([448, 270, 243, 210, 555, 219, 700, 265, 953, 712, 938,  89, 743, 311,\n",
      "                   463, 766, 607, 593,  26,  43,  66, 182, 205, 456, 757, 496, 307, 547,\n",
      "                   831, 849, 962, 262,   0, 846, 853, 847, 115, 420, 666, 624,  99,  34,\n",
      "                   920, 413, 845, 228, 693, 171, 783, 792, 827, 646, 241, 898,  46, 301,\n",
      "                   408, 910, 472, 764, 161, 227, 684, 379, 488,  56, 852, 151, 619, 816,\n",
      "                   686, 546, 695, 467, 155, 471, 348, 146, 879, 244, 699, 192, 129, 374,\n",
      "                   554, 652,   6, 435, 296, 450, 638, 759, 623, 128, 186, 368, 127, 616,\n",
      "                   365, 929, 878, 143, 118, 418,  81, 509, 493, 883, 794, 247, 882, 916,\n",
      "                   893, 239, 773, 350, 268, 949,  24, 819, 894, 387, 956, 680,   5, 238,\n",
      "                     3, 417, 711, 941, 162, 443, 825,  44, 923, 718, 174, 142, 571, 809,\n",
      "                   708, 396, 703, 290, 980, 506, 903, 340, 447, 343, 697, 760, 736, 995,\n",
      "                   430,  50, 141,  52, 294, 224, 125, 393, 615, 826, 220, 884, 494, 673,\n",
      "                   497, 498, 303, 582, 659,   2, 198, 859, 777, 812,  92, 433, 193, 937,\n",
      "                   987, 281, 579,  61, 726, 629, 469, 266,  68, 344, 588, 351,  84, 829,\n",
      "                   754, 335, 961, 453, 519, 148, 922, 213, 458, 656, 354, 537, 933, 369,\n",
      "                   531, 753, 409, 215, 892, 798,  74, 928, 877, 540, 556, 465, 438,  57,\n",
      "                   511, 796, 737, 114, 998,  67,  21, 137, 592, 564, 991, 654, 604,  48,\n",
      "                   976, 206, 421, 310, 111, 797, 694, 160, 489, 345, 698,  33, 427,  88,\n",
      "                   724, 279,  82, 749, 407, 119, 226, 701, 306,  60, 688, 906,  72,  65,\n",
      "                   197, 896,  27, 203, 178, 709, 918, 804, 317, 236, 973, 992, 394,  14,\n",
      "                    62,  45, 913, 851, 542, 415, 813, 102, 609,  93, 346, 444, 626, 249,\n",
      "                   454, 441, 751, 690, 457, 685, 426, 460,  31, 452, 755, 177, 481,  37,\n",
      "                   297, 843, 289, 811,  18, 667,  10, 676, 558, 723, 510, 309, 165,  80,\n",
      "                   513, 943, 768, 779, 424, 406,  23, 844, 376, 372, 775, 523, 738,  97,\n",
      "                    83, 300,  58, 432, 670, 383, 275, 204, 999, 286, 603, 780, 692, 517,\n",
      "                   642, 158, 328, 474,  98, 776,  28, 484, 295, 915, 935, 357, 257, 665,\n",
      "                   648, 617, 925, 490, 428, 439, 589, 528, 866, 230, 314, 347, 744, 436,\n",
      "                   610, 715, 217, 747, 945, 842, 867, 800,  78, 101, 403, 565, 550, 122,\n",
      "                   135, 979,  91, 735, 765, 807, 801, 662, 672, 862, 361, 824, 778, 864,\n",
      "                   253, 533, 503, 342, 364, 451, 189, 331,  32, 731, 919, 339, 117, 982,\n",
      "                   304, 706,  29, 282, 612, 789,  75, 822, 756, 618, 287, 466, 793, 271,\n",
      "                   887, 608, 180, 235, 308, 639, 645, 769, 259, 202, 390, 159, 997, 661,\n",
      "                   288, 839, 636, 156, 152, 434,  25, 172, 233, 429, 367, 468, 927, 787,\n",
      "                   585, 679, 678, 748, 392, 817, 577, 908, 978, 838, 522, 814,  59, 330,\n",
      "                   875, 461, 147, 355, 464, 871,  17, 600, 650, 721, 950, 917, 541, 722,\n",
      "                   815, 983, 514, 316, 386, 264, 762, 411, 578, 138, 535, 544, 881, 682,\n",
      "                   602, 732, 963, 291, 727, 833, 897, 139,   9, 508, 536,  12, 131, 108,\n",
      "                     4, 671, 855, 431, 570, 380, 805, 302, 996, 398, 223, 329, 363, 292,\n",
      "                   477, 944,  63, 377, 924,  77,  47, 601, 714, 157, 834, 208, 321, 255,\n",
      "                   951, 263, 133,  79, 575, 106,  94, 752, 880, 500, 144,  38,  53,  22,\n",
      "                   442, 663, 810, 911, 423, 939, 655, 770, 548, 276, 981, 422, 274, 260,\n",
      "                   942, 872, 194, 384, 527, 730, 830, 772, 739, 362, 990, 105, 299, 419,\n",
      "                   972, 786, 651, 863, 828, 560, 729, 947,  73, 856,  96, 750],\n",
      "                  dtype=torch.int32), tensor([2, 8, 2, 4, 7, 3, 8, 8, 8, 8, 7, 1, 2, 6, 3, 1, 6, 4, 6, 2, 5, 8, 4, 5,\n",
      "                   7, 9, 3, 7, 5, 5, 9, 9, 9, 2, 2, 2, 3, 0, 3, 5, 4, 9, 9, 5, 7, 6, 3, 3,\n",
      "                   7, 4, 2, 9, 7, 9, 1, 9, 8, 1, 9, 9, 6, 9, 8, 1, 0, 2, 8, 9, 5, 0, 9, 1,\n",
      "                   2, 4, 4, 6, 2, 9, 8, 3, 6, 9, 3, 0, 9, 3, 8, 2, 8, 9, 6, 1, 2, 4, 3, 7,\n",
      "                   1, 4, 1, 5, 9, 7, 3, 3, 6, 3, 5, 1, 8, 4, 9, 7, 9, 6, 7, 1, 0, 0, 0, 5,\n",
      "                   3, 9, 2, 2, 1, 1, 6, 3, 0, 9, 1, 0, 4, 5, 6, 1, 3, 4, 6, 3, 0, 2, 1, 6,\n",
      "                   2, 6, 5, 5, 0, 6, 5, 6, 6, 7, 7, 0, 6, 1, 7, 1, 9, 0, 3, 3, 6, 5, 2, 8,\n",
      "                   7, 7, 6, 8, 5, 0, 4, 2, 4, 9, 8, 3, 7, 8, 9, 1, 8, 0, 8, 7, 6, 4, 6, 2,\n",
      "                   8, 7, 9, 2, 5, 8, 6, 5, 0, 5, 1, 1, 9, 6, 3, 1, 0, 6, 1, 3, 5, 0, 1, 6,\n",
      "                   0, 8, 2, 2, 3, 1, 3, 5, 9, 9, 0, 6, 4, 9, 5, 5, 2, 8, 7, 0, 2, 2, 2, 3,\n",
      "                   5, 6, 0, 4, 3, 0, 3, 9, 4, 2, 8, 4, 9, 8, 3, 5, 6, 9, 5, 6, 0, 5, 1, 4,\n",
      "                   3, 3, 6, 2, 5, 1, 0, 2, 6, 4, 9, 8, 9, 1, 2, 2, 4, 1, 9, 7, 4, 7, 5, 0,\n",
      "                   0, 8, 1, 4, 6, 6, 9, 9, 9, 6, 5, 8, 9, 9, 0, 2, 3, 9, 6, 2, 3, 4, 0, 1,\n",
      "                   9, 7, 2, 4, 9, 9, 4, 6, 6, 4, 2, 3, 8, 8, 6, 7, 3, 2, 7, 1, 6, 0, 9, 7,\n",
      "                   7, 6, 0, 4, 5, 2, 3, 1, 2, 1, 0, 3, 3, 5, 5, 2, 4, 1, 7, 1, 5, 6, 5, 3,\n",
      "                   3, 5, 5, 0, 5, 0, 0, 7, 7, 8, 9, 4, 8, 2, 0, 0, 7, 3, 4, 3, 2, 3, 6, 9,\n",
      "                   1, 0, 9, 6, 9, 0, 1, 5, 4, 1, 8, 4, 4, 5, 7, 2, 9, 1, 6, 9, 5, 5, 3, 6,\n",
      "                   8, 3, 1, 4, 5, 7, 3, 7, 2, 0, 0, 1, 1, 9, 6, 5, 9, 8, 2, 2, 0, 7, 1, 7,\n",
      "                   7, 1, 8, 5, 1, 0, 8, 0, 2, 9, 6, 6, 6, 6, 7, 8, 1, 6, 8, 4, 7, 5, 8, 6,\n",
      "                   2, 9, 7, 0, 4, 0, 5, 5, 8, 7, 4, 8, 1, 3, 5, 6, 9, 8, 0, 3, 2, 4, 2, 0,\n",
      "                   4, 9, 4, 8, 5, 8, 7, 4, 9, 0, 5, 3, 1, 8, 6, 1, 0, 7, 9, 6, 9, 7, 9, 1,\n",
      "                   3, 0, 2, 0, 3, 9, 6, 6, 9, 7, 1, 7, 6, 3, 3, 0, 8, 6, 3, 5, 2, 7, 7, 5,\n",
      "                   9, 2, 7, 4, 4, 1, 0, 9, 9, 6, 1, 6, 6, 8, 2, 6, 1, 5, 4, 4, 0, 1, 0, 1,\n",
      "                   6, 3, 1, 7, 6, 4, 6, 6, 4, 1, 7, 3, 8, 5, 1, 6, 0, 7, 1, 5, 8, 9, 4, 7,\n",
      "                   7, 1, 6, 3, 2, 3, 5, 7, 5, 3, 3, 1, 6, 2, 6, 0, 4, 7, 2, 0, 5, 3, 8, 8])),\n",
      "               names=('seeds', 'labels'),\n",
      "           ),\n",
      "           test_set=ItemSet(\n",
      "               items=(tensor([823, 470, 643, 103, 320, 946, 495,  64, 446, 378,  95, 234, 521, 179,\n",
      "                   359,   8, 681, 869, 414, 539, 613, 272, 116, 857, 835, 791, 107, 964,\n",
      "                   336, 633, 491, 870, 716, 459, 337, 660, 225, 576, 485, 591, 370, 653,\n",
      "                   425, 254, 525, 734, 668, 502, 334,  87, 771,  35, 889, 305, 785, 132,\n",
      "                   399, 121, 691, 904, 584, 799, 113,  41, 100,  30, 150, 562, 784, 130,\n",
      "                   382, 968,  39, 530, 940, 720, 848, 630, 677, 154, 590, 240, 553, 781,\n",
      "                   327, 371, 515,  55, 627, 325, 405, 237, 907, 850, 563, 954, 507, 985,\n",
      "                   312, 318, 728, 895, 733, 199, 440, 170, 930, 634, 391, 561, 273, 586,\n",
      "                   664,  40, 366, 534,  42, 988, 986, 606, 587, 808, 641, 201, 188, 583,\n",
      "                   931, 774, 899, 112, 187, 622, 874, 658,  54, 109, 970, 568, 873, 410,\n",
      "                   360, 901, 989, 649, 710, 567, 891, 455, 635,  19, 905, 480, 818, 860,\n",
      "                   123, 705, 984, 476, 763, 283, 675, 492, 256, 595, 267, 841, 164, 245,\n",
      "                   977, 790, 573, 153, 261, 169, 242, 948, 543, 806,  51, 298, 166, 594,\n",
      "                   246, 499, 284, 285, 994, 140, 936, 551, 185,   1, 900, 251, 704, 969,\n",
      "                   746, 758, 596, 126], dtype=torch.int32), tensor([1, 8, 8, 8, 7, 8, 4, 5, 4, 9, 5, 8, 1, 0, 3, 7, 8, 2, 9, 8, 3, 1, 2, 1,\n",
      "                   3, 6, 3, 1, 3, 5, 5, 9, 3, 2, 1, 4, 0, 2, 8, 6, 4, 6, 6, 5, 7, 2, 0, 7,\n",
      "                   8, 5, 4, 7, 8, 1, 4, 9, 9, 3, 2, 0, 2, 4, 0, 1, 6, 3, 5, 3, 4, 6, 1, 5,\n",
      "                   9, 0, 7, 6, 6, 5, 9, 6, 9, 1, 7, 5, 2, 8, 3, 5, 3, 5, 9, 0, 3, 3, 4, 3,\n",
      "                   0, 9, 1, 9, 1, 8, 7, 1, 4, 0, 0, 6, 2, 2, 3, 8, 8, 1, 9, 5, 4, 3, 0, 9,\n",
      "                   3, 3, 9, 6, 7, 8, 7, 0, 0, 3, 1, 9, 5, 2, 5, 8, 1, 2, 8, 8, 0, 8, 0, 9,\n",
      "                   3, 3, 1, 6, 4, 2, 1, 0, 6, 9, 2, 3, 9, 2, 7, 9, 7, 8, 6, 6, 7, 0, 9, 8,\n",
      "                   3, 4, 4, 9, 6, 8, 7, 7, 0, 4, 7, 4, 7, 6, 0, 1, 9, 6, 0, 2, 0, 4, 3, 3,\n",
      "                   7, 7, 1, 5, 0, 9, 7, 6])),\n",
      "               names=('seeds', 'labels'),\n",
      "           ),\n",
      "           metadata={'name': 'node_classification', 'num_classes': 10},)\n",
      "\n",
      "Loaded link prediction task: OnDiskTask(validation_set=ItemSet(\n",
      "               items=(tensor([[174, 489],\n",
      "                   [130, 336],\n",
      "                   [346, 884],\n",
      "                   ...,\n",
      "                   [377, 592],\n",
      "                   [377, 489],\n",
      "                   [377, 366]], dtype=torch.int32), tensor([1., 1., 1.,  ..., 0., 0., 0.], dtype=torch.float64), tensor([   0,    1,    2,  ..., 1999, 1999, 1999])),\n",
      "               names=('seeds', 'labels', 'indexes'),\n",
      "           ),\n",
      "           train_set=ItemSet(\n",
      "               items=(tensor([[817, 314],\n",
      "                   [  7,  72],\n",
      "                   [325, 878],\n",
      "                   ...,\n",
      "                   [424, 826],\n",
      "                   [899, 155],\n",
      "                   [799, 363]], dtype=torch.int32),),\n",
      "               names=('seeds',),\n",
      "           ),\n",
      "           test_set=ItemSet(\n",
      "               items=(tensor([[266, 786],\n",
      "                   [ 66, 364],\n",
      "                   [865, 341],\n",
      "                   ...,\n",
      "                   [991, 606],\n",
      "                   [991, 156],\n",
      "                   [991, 404]], dtype=torch.int32), tensor([1., 1., 1.,  ..., 0., 0., 0.], dtype=torch.float64), tensor([   0,    1,    2,  ..., 1999, 1999, 1999])),\n",
      "               names=('seeds', 'labels', 'indexes'),\n",
      "           ),\n",
      "           metadata={'name': 'link_prediction', 'num_classes': 10},)\n",
      "\n"
     ]
    },
    {
     "name": "stderr",
     "output_type": "stream",
     "text": [
      "/dgl/python/dgl/graphbolt/impl/ondisk_dataset.py:463: GBWarning: Edge feature is stored, but edge IDs are not saved.\n",
      "  gb_warning(\"Edge feature is stored, but edge IDs are not saved.\")\n"
     ]
    }
   ],
   "source": [
    "dataset = gb.OnDiskDataset(base_dir).load()\n",
    "graph = dataset.graph\n",
    "print(f\"Loaded graph: {graph}\\n\")\n",
    "\n",
    "feature = dataset.feature\n",
    "print(f\"Loaded feature store: {feature}\\n\")\n",
    "\n",
    "tasks = dataset.tasks\n",
    "nc_task = tasks[0]\n",
    "print(f\"Loaded node classification task: {nc_task}\\n\")\n",
    "lp_task = tasks[1]\n",
    "print(f\"Loaded link prediction task: {lp_task}\\n\")"
   ]
  }
 ],
 "metadata": {
  "colab": {
   "private_outputs": true,
   "provenance": []
  },
  "kernelspec": {
   "display_name": "Python 3",
   "name": "python3"
  },
  "language_info": {
   "codemirror_mode": {
    "name": "ipython",
    "version": 3
   },
   "file_extension": ".py",
   "mimetype": "text/x-python",
   "name": "python",
   "nbconvert_exporter": "python",
   "pygments_lexer": "ipython3",
   "version": "3.10.15"
  }
 },
 "nbformat": 4,
 "nbformat_minor": 0
}

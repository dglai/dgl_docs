{
 "cells": [
  {
   "cell_type": "markdown",
   "metadata": {
    "id": "FnFhPMaAfLtJ"
   },
   "source": [
    "# OnDiskDataset for Homogeneous Graph\n",
    "\n",
    "[![Open In Colab](https://colab.research.google.com/assets/colab-badge.svg)](https://colab.research.google.com/github/dmlc/dgl/blob/master/notebooks/stochastic_training/ondisk_dataset_homograph.ipynb) [![GitHub](https://img.shields.io/badge/-View%20on%20GitHub-181717?logo=github&logoColor=ffffff)](https://github.com/dmlc/dgl/blob/master/notebooks/stochastic_training/ondisk_dataset_homograph.ipynb)\n",
    "\n",
    "This tutorial shows how to create `OnDiskDataset` for homogeneous graph that could be used in **GraphBolt** framework.\n",
    "\n",
    "By the end of this tutorial, you will be able to\n",
    "\n",
    "- organize graph structure data.\n",
    "- organize feature data.\n",
    "- organize training/validation/test set for specific tasks.\n",
    "\n",
    "To create an ``OnDiskDataset`` object, you need to organize all the data including graph structure, feature data and tasks into a directory. The directory should contain a ``metadata.yaml`` file that describes the metadata of the dataset.\n",
    "\n",
    "Now let's generate various data step by step and organize them together to instantiate `OnDiskDataset` finally."
   ]
  },
  {
   "cell_type": "markdown",
   "metadata": {
    "id": "Wlb19DtWgtzq"
   },
   "source": [
    "## Install DGL package"
   ]
  },
  {
   "cell_type": "code",
   "execution_count": 1,
   "metadata": {
    "execution": {
     "iopub.execute_input": "2024-09-21T13:34:29.018140Z",
     "iopub.status.busy": "2024-09-21T13:34:29.017842Z",
     "iopub.status.idle": "2024-09-21T13:34:32.039852Z",
     "shell.execute_reply": "2024-09-21T13:34:32.038886Z"
    },
    "id": "UojlT9ZGgyr9"
   },
   "outputs": [
    {
     "name": "stdout",
     "output_type": "stream",
     "text": [
      "Looking in links: https://data.dgl.ai/wheels-test/repo.html\r\n",
      "Requirement already satisfied: dgl in /opt/conda/envs/dgl-dev-cpu/lib/python3.10/site-packages (2.2a240410)\r\n",
      "Requirement already satisfied: numpy>=1.14.0 in /opt/conda/envs/dgl-dev-cpu/lib/python3.10/site-packages (from dgl) (1.26.4)\r\n",
      "Requirement already satisfied: scipy>=1.1.0 in /opt/conda/envs/dgl-dev-cpu/lib/python3.10/site-packages (from dgl) (1.14.1)\r\n",
      "Requirement already satisfied: networkx>=2.1 in /opt/conda/envs/dgl-dev-cpu/lib/python3.10/site-packages (from dgl) (3.3)\r\n",
      "Requirement already satisfied: requests>=2.19.0 in /opt/conda/envs/dgl-dev-cpu/lib/python3.10/site-packages (from dgl) (2.32.3)\r\n",
      "Requirement already satisfied: tqdm in /opt/conda/envs/dgl-dev-cpu/lib/python3.10/site-packages (from dgl) (4.66.5)\r\n",
      "Requirement already satisfied: psutil>=5.8.0 in /opt/conda/envs/dgl-dev-cpu/lib/python3.10/site-packages (from dgl) (6.0.0)\r\n",
      "Requirement already satisfied: torchdata>=0.5.0 in /opt/conda/envs/dgl-dev-cpu/lib/python3.10/site-packages (from dgl) (0.8.0)\r\n",
      "Requirement already satisfied: pandas in /opt/conda/envs/dgl-dev-cpu/lib/python3.10/site-packages (from dgl) (2.2.3)\r\n"
     ]
    },
    {
     "name": "stdout",
     "output_type": "stream",
     "text": [
      "Requirement already satisfied: charset-normalizer<4,>=2 in /opt/conda/envs/dgl-dev-cpu/lib/python3.10/site-packages (from requests>=2.19.0->dgl) (3.3.2)\r\n",
      "Requirement already satisfied: idna<4,>=2.5 in /opt/conda/envs/dgl-dev-cpu/lib/python3.10/site-packages (from requests>=2.19.0->dgl) (3.10)\r\n",
      "Requirement already satisfied: urllib3<3,>=1.21.1 in /opt/conda/envs/dgl-dev-cpu/lib/python3.10/site-packages (from requests>=2.19.0->dgl) (2.2.3)\r\n",
      "Requirement already satisfied: certifi>=2017.4.17 in /opt/conda/envs/dgl-dev-cpu/lib/python3.10/site-packages (from requests>=2.19.0->dgl) (2024.8.30)\r\n",
      "Requirement already satisfied: torch>=2 in /opt/conda/envs/dgl-dev-cpu/lib/python3.10/site-packages (from torchdata>=0.5.0->dgl) (2.1.0+cpu)\r\n"
     ]
    },
    {
     "name": "stdout",
     "output_type": "stream",
     "text": [
      "Requirement already satisfied: python-dateutil>=2.8.2 in /opt/conda/envs/dgl-dev-cpu/lib/python3.10/site-packages (from pandas->dgl) (2.9.0.post0)\r\n",
      "Requirement already satisfied: pytz>=2020.1 in /opt/conda/envs/dgl-dev-cpu/lib/python3.10/site-packages (from pandas->dgl) (2024.2)\r\n",
      "Requirement already satisfied: tzdata>=2022.7 in /opt/conda/envs/dgl-dev-cpu/lib/python3.10/site-packages (from pandas->dgl) (2024.1)\r\n",
      "Requirement already satisfied: six>=1.5 in /opt/conda/envs/dgl-dev-cpu/lib/python3.10/site-packages (from python-dateutil>=2.8.2->pandas->dgl) (1.16.0)\r\n",
      "Requirement already satisfied: filelock in /opt/conda/envs/dgl-dev-cpu/lib/python3.10/site-packages (from torch>=2->torchdata>=0.5.0->dgl) (3.16.1)\r\n",
      "Requirement already satisfied: typing-extensions in /opt/conda/envs/dgl-dev-cpu/lib/python3.10/site-packages (from torch>=2->torchdata>=0.5.0->dgl) (4.12.2)\r\n",
      "Requirement already satisfied: sympy in /opt/conda/envs/dgl-dev-cpu/lib/python3.10/site-packages (from torch>=2->torchdata>=0.5.0->dgl) (1.13.3)\r\n",
      "Requirement already satisfied: jinja2 in /opt/conda/envs/dgl-dev-cpu/lib/python3.10/site-packages (from torch>=2->torchdata>=0.5.0->dgl) (3.1.4)\r\n",
      "Requirement already satisfied: fsspec in /opt/conda/envs/dgl-dev-cpu/lib/python3.10/site-packages (from torch>=2->torchdata>=0.5.0->dgl) (2024.9.0)\r\n"
     ]
    },
    {
     "name": "stdout",
     "output_type": "stream",
     "text": [
      "Requirement already satisfied: MarkupSafe>=2.0 in /opt/conda/envs/dgl-dev-cpu/lib/python3.10/site-packages (from jinja2->torch>=2->torchdata>=0.5.0->dgl) (2.1.5)\r\n",
      "Requirement already satisfied: mpmath<1.4,>=1.1.0 in /opt/conda/envs/dgl-dev-cpu/lib/python3.10/site-packages (from sympy->torch>=2->torchdata>=0.5.0->dgl) (1.3.0)\r\n"
     ]
    },
    {
     "name": "stdout",
     "output_type": "stream",
     "text": [
      "\u001b[33mWARNING: Running pip as the 'root' user can result in broken permissions and conflicting behaviour with the system package manager, possibly rendering your system unusable.It is recommended to use a virtual environment instead: https://pip.pypa.io/warnings/venv. Use the --root-user-action option if you know what you are doing and want to suppress this warning.\u001b[0m\u001b[33m\r\n",
      "\u001b[0m"
     ]
    },
    {
     "name": "stdout",
     "output_type": "stream",
     "text": [
      "DGL installed!\n"
     ]
    }
   ],
   "source": [
    "# Install required packages.\n",
    "import os\n",
    "import torch\n",
    "import numpy as np\n",
    "os.environ['TORCH'] = torch.__version__\n",
    "os.environ['DGLBACKEND'] = \"pytorch\"\n",
    "\n",
    "# Install the CPU version.\n",
    "device = torch.device(\"cpu\")\n",
    "!pip install --pre dgl -f https://data.dgl.ai/wheels-test/repo.html\n",
    "\n",
    "try:\n",
    "    import dgl\n",
    "    import dgl.graphbolt as gb\n",
    "    installed = True\n",
    "except ImportError as error:\n",
    "    installed = False\n",
    "    print(error)\n",
    "print(\"DGL installed!\" if installed else \"DGL not found!\")"
   ]
  },
  {
   "cell_type": "markdown",
   "metadata": {
    "id": "2R7WnSbjsfbr"
   },
   "source": [
    "## Data preparation\n",
    "In order to demonstrate how to organize various data, let's create a base directory first."
   ]
  },
  {
   "cell_type": "code",
   "execution_count": 2,
   "metadata": {
    "execution": {
     "iopub.execute_input": "2024-09-21T13:34:32.043038Z",
     "iopub.status.busy": "2024-09-21T13:34:32.042431Z",
     "iopub.status.idle": "2024-09-21T13:34:32.047558Z",
     "shell.execute_reply": "2024-09-21T13:34:32.046597Z"
    },
    "id": "SZipbzyltLfO"
   },
   "outputs": [
    {
     "name": "stdout",
     "output_type": "stream",
     "text": [
      "Created base directory: ./ondisk_dataset_homograph\n"
     ]
    }
   ],
   "source": [
    "base_dir = './ondisk_dataset_homograph'\n",
    "os.makedirs(base_dir, exist_ok=True)\n",
    "print(f\"Created base directory: {base_dir}\")"
   ]
  },
  {
   "cell_type": "markdown",
   "metadata": {
    "id": "qhNtIn_xhlnl"
   },
   "source": [
    "### Generate graph structure data\n",
    "For homogeneous graph, we just need to save edges(namely seeds) into  **Numpy** or **CSV** file.\n",
    "\n",
    "Note:\n",
    "- when saving to **Numpy**, the array requires to be in shape of `(2, N)`. This format is recommended as constructing graph from it is much faster than **CSV** file.\n",
    "- when saving to **CSV** file, do not save index and header.\n"
   ]
  },
  {
   "cell_type": "code",
   "execution_count": 3,
   "metadata": {
    "execution": {
     "iopub.execute_input": "2024-09-21T13:34:32.049901Z",
     "iopub.status.busy": "2024-09-21T13:34:32.049608Z",
     "iopub.status.idle": "2024-09-21T13:34:32.063671Z",
     "shell.execute_reply": "2024-09-21T13:34:32.062823Z"
    },
    "id": "HcBt4G5BmSjr"
   },
   "outputs": [
    {
     "name": "stdout",
     "output_type": "stream",
     "text": [
      "Part of edges: [[275 691]\n",
      " [ 96 503]\n",
      " [ 39 539]\n",
      " [287 970]\n",
      " [131 484]]\n",
      "Edges are saved into ./ondisk_dataset_homograph/edges.csv\n"
     ]
    }
   ],
   "source": [
    "import numpy as np\n",
    "import pandas as pd\n",
    "num_nodes = 1000\n",
    "num_edges = 10 * num_nodes\n",
    "edges_path = os.path.join(base_dir, \"edges.csv\")\n",
    "edges = np.random.randint(0, num_nodes, size=(num_edges, 2))\n",
    "\n",
    "print(f\"Part of edges: {edges[:5, :]}\")\n",
    "\n",
    "df = pd.DataFrame(edges)\n",
    "df.to_csv(edges_path, index=False, header=False)\n",
    "\n",
    "print(f\"Edges are saved into {edges_path}\")"
   ]
  },
  {
   "cell_type": "markdown",
   "metadata": {
    "id": "kh-4cPtzpcaH"
   },
   "source": [
    "### Generate feature data for graph\n",
    "For feature data, numpy arrays and torch tensors are supported for now."
   ]
  },
  {
   "cell_type": "code",
   "execution_count": 4,
   "metadata": {
    "execution": {
     "iopub.execute_input": "2024-09-21T13:34:32.069741Z",
     "iopub.status.busy": "2024-09-21T13:34:32.069464Z",
     "iopub.status.idle": "2024-09-21T13:34:32.084428Z",
     "shell.execute_reply": "2024-09-21T13:34:32.083572Z"
    },
    "id": "_PVu1u5brBhF"
   },
   "outputs": [
    {
     "name": "stdout",
     "output_type": "stream",
     "text": [
      "Part of node feature [feat_0]: [[0.84810644 0.7986859  0.36759596 0.00266034 0.53090393]\n",
      " [0.76204648 0.82166056 0.55415047 0.5027899  0.46285466]\n",
      " [0.20860588 0.43775284 0.55718183 0.79161521 0.81118516]]\n",
      "Node feature [feat_0] is saved to ./ondisk_dataset_homograph/node-feat-0.npy\n",
      "\n",
      "Part of node feature [feat_1]: tensor([[0.3260, 0.6239, 0.0768, 0.1653, 0.3795],\n",
      "        [0.5708, 0.4469, 0.7819, 0.2015, 0.8991],\n",
      "        [0.6034, 0.2382, 0.8857, 0.5953, 0.7582]])\n",
      "Node feature [feat_1] is saved to ./ondisk_dataset_homograph/node-feat-1.pt\n",
      "\n",
      "Part of edge feature [feat_0]: [[0.48516342 0.47289299 0.24380436 0.77423914 0.17027955]\n",
      " [0.60858518 0.5636987  0.51844257 0.5995774  0.65398538]\n",
      " [0.93710659 0.80572485 0.25596386 0.13244963 0.05302734]]\n",
      "Edge feature [feat_0] is saved to ./ondisk_dataset_homograph/edge-feat-0.npy\n",
      "\n",
      "Part of edge feature [feat_1]: tensor([[0.0983, 0.5710, 0.8864, 0.1631, 0.3147],\n",
      "        [0.2902, 0.0918, 0.8627, 0.3380, 0.2442],\n",
      "        [0.6629, 0.7286, 0.6676, 0.2146, 0.5162]])\n",
      "Edge feature [feat_1] is saved to ./ondisk_dataset_homograph/edge-feat-1.pt\n",
      "\n"
     ]
    }
   ],
   "source": [
    "# Generate node feature in numpy array.\n",
    "node_feat_0_path = os.path.join(base_dir, \"node-feat-0.npy\")\n",
    "node_feat_0 = np.random.rand(num_nodes, 5)\n",
    "print(f\"Part of node feature [feat_0]: {node_feat_0[:3, :]}\")\n",
    "np.save(node_feat_0_path, node_feat_0)\n",
    "print(f\"Node feature [feat_0] is saved to {node_feat_0_path}\\n\")\n",
    "\n",
    "# Generate another node feature in torch tensor\n",
    "node_feat_1_path = os.path.join(base_dir, \"node-feat-1.pt\")\n",
    "node_feat_1 = torch.rand(num_nodes, 5)\n",
    "print(f\"Part of node feature [feat_1]: {node_feat_1[:3, :]}\")\n",
    "torch.save(node_feat_1, node_feat_1_path)\n",
    "print(f\"Node feature [feat_1] is saved to {node_feat_1_path}\\n\")\n",
    "\n",
    "# Generate edge feature in numpy array.\n",
    "edge_feat_0_path = os.path.join(base_dir, \"edge-feat-0.npy\")\n",
    "edge_feat_0 = np.random.rand(num_edges, 5)\n",
    "print(f\"Part of edge feature [feat_0]: {edge_feat_0[:3, :]}\")\n",
    "np.save(edge_feat_0_path, edge_feat_0)\n",
    "print(f\"Edge feature [feat_0] is saved to {edge_feat_0_path}\\n\")\n",
    "\n",
    "# Generate another edge feature in torch tensor\n",
    "edge_feat_1_path = os.path.join(base_dir, \"edge-feat-1.pt\")\n",
    "edge_feat_1 = torch.rand(num_edges, 5)\n",
    "print(f\"Part of edge feature [feat_1]: {edge_feat_1[:3, :]}\")\n",
    "torch.save(edge_feat_1, edge_feat_1_path)\n",
    "print(f\"Edge feature [feat_1] is saved to {edge_feat_1_path}\\n\")\n"
   ]
  },
  {
   "cell_type": "markdown",
   "metadata": {
    "id": "ZyqgOtsIwzh_"
   },
   "source": [
    "### Generate tasks\n",
    "`OnDiskDataset` supports multiple tasks. For each task, we need to prepare training/validation/test sets respectively. Such sets usually vary among different tasks. In this tutorial, let's create a **Node Classification** task and **Link Prediction** task."
   ]
  },
  {
   "cell_type": "markdown",
   "metadata": {
    "id": "hVxHaDIfzCkr"
   },
   "source": [
    "#### Node Classification Task\n",
    "For node classification task, we need **node IDs** and corresponding **labels** for each training/validation/test set. Like feature data, numpy arrays and torch tensors are supported for these sets."
   ]
  },
  {
   "cell_type": "code",
   "execution_count": 5,
   "metadata": {
    "execution": {
     "iopub.execute_input": "2024-09-21T13:34:32.086900Z",
     "iopub.status.busy": "2024-09-21T13:34:32.086519Z",
     "iopub.status.idle": "2024-09-21T13:34:32.098944Z",
     "shell.execute_reply": "2024-09-21T13:34:32.098164Z"
    },
    "id": "S5-fyBbHzTCO"
   },
   "outputs": [
    {
     "name": "stdout",
     "output_type": "stream",
     "text": [
      "Part of train ids for node classification: [304 783 536]\n",
      "NC train ids are saved to ./ondisk_dataset_homograph/nc-train-ids.npy\n",
      "\n",
      "Part of train labels for node classification: tensor([4, 5, 7])\n",
      "NC train labels are saved to ./ondisk_dataset_homograph/nc-train-labels.pt\n",
      "\n",
      "Part of val ids for node classification: [172 786 895]\n",
      "NC val ids are saved to ./ondisk_dataset_homograph/nc-val-ids.npy\n",
      "\n",
      "Part of val labels for node classification: tensor([6, 5, 7])\n",
      "NC val labels are saved to ./ondisk_dataset_homograph/nc-val-labels.pt\n",
      "\n",
      "Part of test ids for node classification: [258 907 282]\n",
      "NC test ids are saved to ./ondisk_dataset_homograph/nc-test-ids.npy\n",
      "\n",
      "Part of test labels for node classification: tensor([0, 0, 9])\n",
      "NC test labels are saved to ./ondisk_dataset_homograph/nc-test-labels.pt\n",
      "\n"
     ]
    }
   ],
   "source": [
    "num_trains = int(num_nodes * 0.6)\n",
    "num_vals = int(num_nodes * 0.2)\n",
    "num_tests = num_nodes - num_trains - num_vals\n",
    "\n",
    "ids = np.arange(num_nodes)\n",
    "np.random.shuffle(ids)\n",
    "\n",
    "nc_train_ids_path = os.path.join(base_dir, \"nc-train-ids.npy\")\n",
    "nc_train_ids = ids[:num_trains]\n",
    "print(f\"Part of train ids for node classification: {nc_train_ids[:3]}\")\n",
    "np.save(nc_train_ids_path, nc_train_ids)\n",
    "print(f\"NC train ids are saved to {nc_train_ids_path}\\n\")\n",
    "\n",
    "nc_train_labels_path = os.path.join(base_dir, \"nc-train-labels.pt\")\n",
    "nc_train_labels = torch.randint(0, 10, (num_trains,))\n",
    "print(f\"Part of train labels for node classification: {nc_train_labels[:3]}\")\n",
    "torch.save(nc_train_labels, nc_train_labels_path)\n",
    "print(f\"NC train labels are saved to {nc_train_labels_path}\\n\")\n",
    "\n",
    "nc_val_ids_path = os.path.join(base_dir, \"nc-val-ids.npy\")\n",
    "nc_val_ids = ids[num_trains:num_trains+num_vals]\n",
    "print(f\"Part of val ids for node classification: {nc_val_ids[:3]}\")\n",
    "np.save(nc_val_ids_path, nc_val_ids)\n",
    "print(f\"NC val ids are saved to {nc_val_ids_path}\\n\")\n",
    "\n",
    "nc_val_labels_path = os.path.join(base_dir, \"nc-val-labels.pt\")\n",
    "nc_val_labels = torch.randint(0, 10, (num_vals,))\n",
    "print(f\"Part of val labels for node classification: {nc_val_labels[:3]}\")\n",
    "torch.save(nc_val_labels, nc_val_labels_path)\n",
    "print(f\"NC val labels are saved to {nc_val_labels_path}\\n\")\n",
    "\n",
    "nc_test_ids_path = os.path.join(base_dir, \"nc-test-ids.npy\")\n",
    "nc_test_ids = ids[-num_tests:]\n",
    "print(f\"Part of test ids for node classification: {nc_test_ids[:3]}\")\n",
    "np.save(nc_test_ids_path, nc_test_ids)\n",
    "print(f\"NC test ids are saved to {nc_test_ids_path}\\n\")\n",
    "\n",
    "nc_test_labels_path = os.path.join(base_dir, \"nc-test-labels.pt\")\n",
    "nc_test_labels = torch.randint(0, 10, (num_tests,))\n",
    "print(f\"Part of test labels for node classification: {nc_test_labels[:3]}\")\n",
    "torch.save(nc_test_labels, nc_test_labels_path)\n",
    "print(f\"NC test labels are saved to {nc_test_labels_path}\\n\")"
   ]
  },
  {
   "cell_type": "markdown",
   "metadata": {
    "id": "LhAcDCHQ_KJ0"
   },
   "source": [
    "#### Link Prediction Task\n",
    "For link prediction task, we need **seeds** or **corresponding labels and indexes** which representing the pos/neg property and group of the seeds for each training/validation/test set. Like feature data, numpy arrays and torch tensors are supported for these sets."
   ]
  },
  {
   "cell_type": "code",
   "execution_count": 6,
   "metadata": {
    "execution": {
     "iopub.execute_input": "2024-09-21T13:34:32.101465Z",
     "iopub.status.busy": "2024-09-21T13:34:32.101047Z",
     "iopub.status.idle": "2024-09-21T13:34:32.118967Z",
     "shell.execute_reply": "2024-09-21T13:34:32.118171Z"
    },
    "id": "u0jCnXIcAQy4"
   },
   "outputs": [
    {
     "name": "stdout",
     "output_type": "stream",
     "text": [
      "Part of train seeds for link prediction: [[275 691]\n",
      " [ 96 503]\n",
      " [ 39 539]]\n",
      "LP train seeds are saved to ./ondisk_dataset_homograph/lp-train-seeds.npy\n",
      "\n",
      "Part of val seeds for link prediction: [[965 917]\n",
      " [516  56]\n",
      " [208 589]]\n",
      "LP val seeds are saved to ./ondisk_dataset_homograph/lp-val-seeds.npy\n",
      "\n",
      "Part of val labels for link prediction: [1. 1. 1.]\n",
      "LP val labels are saved to ./ondisk_dataset_homograph/lp-val-labels.npy\n",
      "\n",
      "Part of val indexes for link prediction: [0 1 2]\n",
      "LP val indexes are saved to ./ondisk_dataset_homograph/lp-val-indexes.npy\n",
      "\n",
      "Part of test seeds for link prediction: [[625 620]\n",
      " [224 108]\n",
      " [864 965]]\n",
      "LP test seeds are saved to ./ondisk_dataset_homograph/lp-test-seeds.npy\n",
      "\n",
      "Part of val labels for link prediction: [1. 1. 1.]\n",
      "LP test labels are saved to ./ondisk_dataset_homograph/lp-test-labels.npy\n",
      "\n",
      "Part of test indexes for link prediction: [0 1 2]\n",
      "LP test indexes are saved to ./ondisk_dataset_homograph/lp-test-indexes.npy\n",
      "\n"
     ]
    }
   ],
   "source": [
    "num_trains = int(num_edges * 0.6)\n",
    "num_vals = int(num_edges * 0.2)\n",
    "num_tests = num_edges - num_trains - num_vals\n",
    "\n",
    "lp_train_seeds_path = os.path.join(base_dir, \"lp-train-seeds.npy\")\n",
    "lp_train_seeds = edges[:num_trains, :]\n",
    "print(f\"Part of train seeds for link prediction: {lp_train_seeds[:3]}\")\n",
    "np.save(lp_train_seeds_path, lp_train_seeds)\n",
    "print(f\"LP train seeds are saved to {lp_train_seeds_path}\\n\")\n",
    "\n",
    "lp_val_seeds_path = os.path.join(base_dir, \"lp-val-seeds.npy\")\n",
    "lp_val_seeds = edges[num_trains:num_trains+num_vals, :]\n",
    "lp_val_neg_dsts = np.random.randint(0, num_nodes, (num_vals, 10)).reshape(-1)\n",
    "lp_val_neg_srcs = np.repeat(lp_val_seeds[:,0], 10)\n",
    "lp_val_neg_seeds = np.concatenate((lp_val_neg_srcs, lp_val_neg_dsts)).reshape(2,-1).T\n",
    "lp_val_seeds = np.concatenate((lp_val_seeds, lp_val_neg_seeds))\n",
    "print(f\"Part of val seeds for link prediction: {lp_val_seeds[:3]}\")\n",
    "np.save(lp_val_seeds_path, lp_val_seeds)\n",
    "print(f\"LP val seeds are saved to {lp_val_seeds_path}\\n\")\n",
    "\n",
    "lp_val_labels_path = os.path.join(base_dir, \"lp-val-labels.npy\")\n",
    "lp_val_labels = np.empty(num_vals * (10 + 1))\n",
    "lp_val_labels[:num_vals] = 1\n",
    "lp_val_labels[num_vals:] = 0\n",
    "print(f\"Part of val labels for link prediction: {lp_val_labels[:3]}\")\n",
    "np.save(lp_val_labels_path, lp_val_labels)\n",
    "print(f\"LP val labels are saved to {lp_val_labels_path}\\n\")\n",
    "\n",
    "lp_val_indexes_path = os.path.join(base_dir, \"lp-val-indexes.npy\")\n",
    "lp_val_indexes = np.arange(0, num_vals)\n",
    "lp_val_neg_indexes = np.repeat(lp_val_indexes, 10)\n",
    "lp_val_indexes = np.concatenate([lp_val_indexes, lp_val_neg_indexes])\n",
    "print(f\"Part of val indexes for link prediction: {lp_val_indexes[:3]}\")\n",
    "np.save(lp_val_indexes_path, lp_val_indexes)\n",
    "print(f\"LP val indexes are saved to {lp_val_indexes_path}\\n\")\n",
    "\n",
    "lp_test_seeds_path = os.path.join(base_dir, \"lp-test-seeds.npy\")\n",
    "lp_test_seeds = edges[-num_tests:, :]\n",
    "lp_test_neg_dsts = np.random.randint(0, num_nodes, (num_tests, 10)).reshape(-1)\n",
    "lp_test_neg_srcs = np.repeat(lp_test_seeds[:,0], 10)\n",
    "lp_test_neg_seeds = np.concatenate((lp_test_neg_srcs, lp_test_neg_dsts)).reshape(2,-1).T\n",
    "lp_test_seeds = np.concatenate((lp_test_seeds, lp_test_neg_seeds))\n",
    "print(f\"Part of test seeds for link prediction: {lp_test_seeds[:3]}\")\n",
    "np.save(lp_test_seeds_path, lp_test_seeds)\n",
    "print(f\"LP test seeds are saved to {lp_test_seeds_path}\\n\")\n",
    "\n",
    "lp_test_labels_path = os.path.join(base_dir, \"lp-test-labels.npy\")\n",
    "lp_test_labels = np.empty(num_tests * (10 + 1))\n",
    "lp_test_labels[:num_tests] = 1\n",
    "lp_test_labels[num_tests:] = 0\n",
    "print(f\"Part of val labels for link prediction: {lp_test_labels[:3]}\")\n",
    "np.save(lp_test_labels_path, lp_test_labels)\n",
    "print(f\"LP test labels are saved to {lp_test_labels_path}\\n\")\n",
    "\n",
    "lp_test_indexes_path = os.path.join(base_dir, \"lp-test-indexes.npy\")\n",
    "lp_test_indexes = np.arange(0, num_tests)\n",
    "lp_test_neg_indexes = np.repeat(lp_test_indexes, 10)\n",
    "lp_test_indexes = np.concatenate([lp_test_indexes, lp_test_neg_indexes])\n",
    "print(f\"Part of test indexes for link prediction: {lp_test_indexes[:3]}\")\n",
    "np.save(lp_test_indexes_path, lp_test_indexes)\n",
    "print(f\"LP test indexes are saved to {lp_test_indexes_path}\\n\")"
   ]
  },
  {
   "cell_type": "markdown",
   "metadata": {
    "id": "wbk6-wxRK-6S"
   },
   "source": [
    "## Organize Data into YAML File\n",
    "Now we need to create a `metadata.yaml` file which contains the paths, dadta types of graph structure, feature data, training/validation/test sets.\n",
    "\n",
    "Notes:\n",
    "- all path should be relative to `metadata.yaml`.\n",
    "- Below fields are optional and not specified in below example.\n",
    "  - `in_memory`: indicates whether to load dada into memory or `mmap`. Default is `True`.\n",
    "\n",
    "Please refer to [YAML specification](https://github.com/dmlc/dgl/blob/master/docs/source/stochastic_training/ondisk-dataset-specification.rst) for more details."
   ]
  },
  {
   "cell_type": "code",
   "execution_count": 7,
   "metadata": {
    "execution": {
     "iopub.execute_input": "2024-09-21T13:34:32.121479Z",
     "iopub.status.busy": "2024-09-21T13:34:32.121088Z",
     "iopub.status.idle": "2024-09-21T13:34:32.127678Z",
     "shell.execute_reply": "2024-09-21T13:34:32.126858Z"
    },
    "id": "ddGTWW61Lpwp"
   },
   "outputs": [],
   "source": [
    "yaml_content = f\"\"\"\n",
    "    dataset_name: homogeneous_graph_nc_lp\n",
    "    graph:\n",
    "      nodes:\n",
    "        - num: {num_nodes}\n",
    "      edges:\n",
    "        - format: csv\n",
    "          path: {os.path.basename(edges_path)}\n",
    "    feature_data:\n",
    "      - domain: node\n",
    "        name: feat_0\n",
    "        format: numpy\n",
    "        path: {os.path.basename(node_feat_0_path)}\n",
    "      - domain: node\n",
    "        name: feat_1\n",
    "        format: torch\n",
    "        path: {os.path.basename(node_feat_1_path)}\n",
    "      - domain: edge\n",
    "        name: feat_0\n",
    "        format: numpy\n",
    "        path: {os.path.basename(edge_feat_0_path)}\n",
    "      - domain: edge\n",
    "        name: feat_1\n",
    "        format: torch\n",
    "        path: {os.path.basename(edge_feat_1_path)}\n",
    "    tasks:\n",
    "      - name: node_classification\n",
    "        num_classes: 10\n",
    "        train_set:\n",
    "          - data:\n",
    "              - name: seeds\n",
    "                format: numpy\n",
    "                path: {os.path.basename(nc_train_ids_path)}\n",
    "              - name: labels\n",
    "                format: torch\n",
    "                path: {os.path.basename(nc_train_labels_path)}\n",
    "        validation_set:\n",
    "          - data:\n",
    "              - name: seeds\n",
    "                format: numpy\n",
    "                path: {os.path.basename(nc_val_ids_path)}\n",
    "              - name: labels\n",
    "                format: torch\n",
    "                path: {os.path.basename(nc_val_labels_path)}\n",
    "        test_set:\n",
    "          - data:\n",
    "              - name: seeds\n",
    "                format: numpy\n",
    "                path: {os.path.basename(nc_test_ids_path)}\n",
    "              - name: labels\n",
    "                format: torch\n",
    "                path: {os.path.basename(nc_test_labels_path)}\n",
    "      - name: link_prediction\n",
    "        num_classes: 10\n",
    "        train_set:\n",
    "          - data:\n",
    "              - name: seeds\n",
    "                format: numpy\n",
    "                path: {os.path.basename(lp_train_seeds_path)}\n",
    "        validation_set:\n",
    "          - data:\n",
    "              - name: seeds\n",
    "                format: numpy\n",
    "                path: {os.path.basename(lp_val_seeds_path)}\n",
    "              - name: labels\n",
    "                format: numpy\n",
    "                path: {os.path.basename(lp_val_labels_path)}\n",
    "              - name: indexes\n",
    "                format: numpy\n",
    "                path: {os.path.basename(lp_val_indexes_path)}\n",
    "        test_set:\n",
    "          - data:\n",
    "              - name: seeds\n",
    "                format: numpy\n",
    "                path: {os.path.basename(lp_test_seeds_path)}\n",
    "              - name: labels\n",
    "                format: numpy\n",
    "                path: {os.path.basename(lp_test_labels_path)}\n",
    "              - name: indexes\n",
    "                format: numpy\n",
    "                path: {os.path.basename(lp_test_indexes_path)}\n",
    "\"\"\"\n",
    "metadata_path = os.path.join(base_dir, \"metadata.yaml\")\n",
    "with open(metadata_path, \"w\") as f:\n",
    "  f.write(yaml_content)"
   ]
  },
  {
   "cell_type": "markdown",
   "metadata": {
    "id": "kEfybHGhOW7O"
   },
   "source": [
    "## Instantiate `OnDiskDataset`\n",
    "Now we're ready to load dataset via `dgl.graphbolt.OnDiskDataset`. When instantiating, we just pass in the base directory where `metadata.yaml` file lies.\n",
    "\n",
    "During first instantiation, GraphBolt preprocesses the raw data such as constructing `FusedCSCSamplingGraph` from edges. All data including graph, feature data, training/validation/test sets are put into `preprocessed` directory after preprocessing. Any following dataset loading will skip the preprocess stage.\n",
    "\n",
    "After preprocessing, `load()` is required to be called explicitly in order to load graph, feature data and tasks."
   ]
  },
  {
   "cell_type": "code",
   "execution_count": 8,
   "metadata": {
    "execution": {
     "iopub.execute_input": "2024-09-21T13:34:32.129954Z",
     "iopub.status.busy": "2024-09-21T13:34:32.129568Z",
     "iopub.status.idle": "2024-09-21T13:34:32.200155Z",
     "shell.execute_reply": "2024-09-21T13:34:32.199435Z"
    },
    "id": "W58CZoSzOiyo"
   },
   "outputs": [
    {
     "name": "stdout",
     "output_type": "stream",
     "text": [
      "Start to preprocess the on-disk dataset.\n",
      "Finish preprocessing the on-disk dataset.\n",
      "Loaded graph: FusedCSCSamplingGraph(csc_indptr=tensor([    0,     7,    20,  ...,  9984,  9993, 10000], dtype=torch.int32),\n",
      "                      indices=tensor([777,  64, 263,  ..., 781, 639, 485], dtype=torch.int32),\n",
      "                      total_num_nodes=1000, num_edges=10000,)\n",
      "\n",
      "Loaded feature store: TorchBasedFeatureStore(\n",
      "    {(<OnDiskFeatureDataDomain.NODE: 'node'>, None, 'feat_0'): TorchBasedFeature(\n",
      "        feature=tensor([[0.8481, 0.7987, 0.3676, 0.0027, 0.5309],\n",
      "                        [0.7620, 0.8217, 0.5542, 0.5028, 0.4629],\n",
      "                        [0.2086, 0.4378, 0.5572, 0.7916, 0.8112],\n",
      "                        ...,\n",
      "                        [0.0980, 0.8272, 0.3336, 0.2646, 0.1958],\n",
      "                        [0.1668, 0.8683, 0.2921, 0.9508, 0.9611],\n",
      "                        [0.8332, 0.7147, 0.9830, 0.4658, 0.8527]], dtype=torch.float64),\n",
      "        metadata={},\n",
      "    ), (<OnDiskFeatureDataDomain.NODE: 'node'>, None, 'feat_1'): TorchBasedFeature(\n",
      "        feature=tensor([[0.3260, 0.6239, 0.0768, 0.1653, 0.3795],\n",
      "                        [0.5708, 0.4469, 0.7819, 0.2015, 0.8991],\n",
      "                        [0.6034, 0.2382, 0.8857, 0.5953, 0.7582],\n",
      "                        ...,\n",
      "                        [0.6319, 0.9433, 0.8976, 0.1717, 0.2643],\n",
      "                        [0.1446, 0.4821, 0.7494, 0.9820, 0.1062],\n",
      "                        [0.5650, 0.4472, 0.3298, 0.9450, 0.2080]]),\n",
      "        metadata={},\n",
      "    ), (<OnDiskFeatureDataDomain.EDGE: 'edge'>, None, 'feat_0'): TorchBasedFeature(\n",
      "        feature=tensor([[0.4852, 0.4729, 0.2438, 0.7742, 0.1703],\n",
      "                        [0.6086, 0.5637, 0.5184, 0.5996, 0.6540],\n",
      "                        [0.9371, 0.8057, 0.2560, 0.1324, 0.0530],\n",
      "                        ...,\n",
      "                        [0.3058, 0.5890, 0.6374, 0.2100, 0.4732],\n",
      "                        [0.3784, 0.2969, 0.8091, 0.4372, 0.6140],\n",
      "                        [0.8559, 0.8743, 0.1633, 0.1309, 0.2004]], dtype=torch.float64),\n",
      "        metadata={},\n",
      "    ), (<OnDiskFeatureDataDomain.EDGE: 'edge'>, None, 'feat_1'): TorchBasedFeature(\n",
      "        feature=tensor([[0.0983, 0.5710, 0.8864, 0.1631, 0.3147],\n",
      "                        [0.2902, 0.0918, 0.8627, 0.3380, 0.2442],\n",
      "                        [0.6629, 0.7286, 0.6676, 0.2146, 0.5162],\n",
      "                        ...,\n",
      "                        [0.1819, 0.6269, 0.7892, 0.0664, 0.6008],\n",
      "                        [0.9102, 0.1750, 0.4598, 0.6290, 0.2271],\n",
      "                        [0.6161, 0.5861, 0.6997, 0.8694, 0.4338]]),\n",
      "        metadata={},\n",
      "    )}\n",
      ")\n",
      "\n",
      "Loaded node classification task: OnDiskTask(validation_set=ItemSet(\n",
      "               items=(tensor([172, 786, 895, 284, 570, 970, 539, 794, 135, 885, 335,   5, 260, 526,\n",
      "                   837, 663, 332, 620, 640, 867, 721, 221, 121, 545, 559, 314, 628, 541,\n",
      "                   197, 522, 707,  21, 426, 499, 450, 702, 830, 802, 351, 349, 877, 958,\n",
      "                    35, 765, 571, 989, 484, 402, 740, 884, 515, 888, 674, 550, 813, 352,\n",
      "                   928, 371, 889, 502, 409, 339, 985, 880, 368, 274, 107, 908,  20, 935,\n",
      "                   657, 665, 223, 215, 938,  50, 814, 929, 596,  41, 580,  69, 535, 866,\n",
      "                   251, 513, 686, 820,  88, 176, 147, 575, 392, 217, 703, 263, 439, 745,\n",
      "                   965, 182, 961,   4, 146,   0, 511, 779, 290, 874, 460, 799, 700, 832,\n",
      "                   228, 498, 879, 503, 842, 906, 122, 853, 320,  45, 302, 788, 553, 636,\n",
      "                   390, 564, 819, 680, 705, 817, 878, 288, 803, 387, 671,  76, 708, 922,\n",
      "                   557, 926, 442, 897, 945, 754, 919, 180,  77, 157, 271, 183, 646, 127,\n",
      "                   930, 116, 951, 809, 771, 382, 485, 175, 584, 143, 789, 131, 848, 405,\n",
      "                   357, 548, 159, 211, 188, 193, 267,  13, 629, 717, 605, 931, 956, 112,\n",
      "                   256, 862, 758, 562, 904, 890,  49, 869, 361, 577, 664, 203, 111, 516,\n",
      "                   255, 445, 422, 517], dtype=torch.int32), tensor([6, 5, 7, 6, 5, 3, 5, 5, 7, 4, 9, 9, 3, 3, 3, 4, 6, 1, 6, 8, 4, 7, 7, 4,\n",
      "                   2, 3, 2, 8, 0, 1, 3, 8, 8, 7, 2, 0, 1, 1, 2, 5, 4, 9, 0, 2, 8, 1, 9, 4,\n",
      "                   7, 4, 4, 2, 4, 5, 1, 6, 5, 2, 5, 0, 7, 4, 5, 7, 5, 3, 8, 6, 6, 2, 3, 3,\n",
      "                   9, 6, 5, 9, 4, 8, 6, 3, 1, 9, 5, 6, 9, 7, 4, 5, 2, 9, 6, 6, 8, 0, 7, 9,\n",
      "                   3, 4, 8, 4, 3, 1, 7, 2, 4, 7, 8, 8, 8, 9, 9, 4, 9, 6, 0, 3, 9, 6, 0, 3,\n",
      "                   0, 8, 6, 7, 2, 6, 9, 6, 6, 6, 6, 6, 2, 8, 2, 1, 7, 9, 2, 5, 3, 7, 7, 8,\n",
      "                   9, 1, 1, 6, 9, 2, 4, 7, 3, 3, 6, 4, 4, 9, 2, 7, 9, 4, 9, 9, 3, 0, 6, 3,\n",
      "                   3, 7, 9, 5, 8, 0, 6, 2, 3, 7, 1, 2, 6, 5, 6, 7, 6, 8, 9, 2, 1, 0, 1, 6,\n",
      "                   1, 7, 8, 2, 0, 3, 8, 9])),\n",
      "               names=('seeds', 'labels'),\n",
      "           ),\n",
      "           train_set=ItemSet(\n",
      "               items=(tensor([304, 783, 536, 617, 917, 602, 847, 560, 792, 857, 237,  94, 950, 340,\n",
      "                   408, 986,  51, 891, 992, 307, 101, 555, 213,  87, 134, 177, 509, 494,\n",
      "                   497,  11, 898, 599, 209, 348, 910, 360, 972,  19, 438, 711, 942, 658,\n",
      "                   164, 521, 983, 270, 435, 556, 216, 649, 280, 465, 415, 319,   9, 329,\n",
      "                   573, 279, 201, 709, 207, 666, 648,   3, 355, 458, 795, 936, 692, 326,\n",
      "                   943, 827, 406, 479, 225, 643, 746, 607,  56,  92, 391, 212, 222, 472,\n",
      "                   311,  14, 192, 160, 586, 491,  96, 171, 780,  46, 621, 729, 835, 911,\n",
      "                   275,  61, 818, 810, 532, 473, 234, 836, 631, 466, 933, 952,  18,  27,\n",
      "                   974, 240, 750, 793, 821, 412, 113, 959, 210, 278, 914, 464, 377, 168,\n",
      "                   806, 876, 130, 151, 592, 187, 128,   7, 651,  39,  93, 474, 366, 622,\n",
      "                   400, 585, 440,  73, 955,  26, 718, 411, 174, 661, 299, 725,  86, 957,\n",
      "                   501,  32, 507, 689, 798, 142, 763, 365,  16, 537,  64,  97, 540,  37,\n",
      "                   762, 739,  52, 698, 999, 614, 235,  74, 660, 764, 672, 331, 858,  75,\n",
      "                   316, 719, 747, 734, 512, 506, 309, 446, 901, 198, 356, 543, 939, 383,\n",
      "                   287, 694,  81, 652, 851, 688, 641, 510, 554, 375, 514,  83, 459, 141,\n",
      "                   612, 773,  58, 273, 808,  34, 381, 266, 527, 899, 427, 218, 975, 736,\n",
      "                    66, 828, 341, 492, 727, 262, 913, 977, 993, 966, 144, 455, 583, 749,\n",
      "                   909, 476, 579, 723, 124, 865, 238, 846,  30, 247, 487, 226, 243, 954,\n",
      "                   667, 293, 133, 370, 587, 418, 998,  65,  29, 281,  40, 769, 662, 624,\n",
      "                   800, 637, 684, 456, 597, 979, 611, 480, 816, 696, 265, 132, 902, 434,\n",
      "                   829, 776, 397, 109, 782,  67, 322, 416, 627, 778, 615, 741, 695,  54,\n",
      "                   324, 433, 542, 244, 413, 337, 388, 697, 437, 189, 154, 190, 530,  70,\n",
      "                   310, 805, 650,  10, 488, 389, 600, 613, 668, 315, 982, 161, 204, 395,\n",
      "                   675, 345, 995, 482, 980, 946, 105, 871, 593, 790, 148, 155, 253, 129,\n",
      "                    84, 756, 752, 214, 489, 574, 558, 744, 277, 967,  63, 918, 655, 380,\n",
      "                   551, 833, 191, 523, 493, 528,  79, 690, 988, 478, 241, 538, 224, 581,\n",
      "                   609, 561, 766, 678, 838, 659,  55, 544, 589, 268, 518, 968, 269, 452,\n",
      "                   453, 202, 860, 508, 219, 563, 285, 687, 976, 770, 990, 385, 120, 428,\n",
      "                   295, 645, 978,  31,  44, 173, 250, 714,  98, 882, 566, 638, 447, 960,\n",
      "                   462, 852, 394, 490, 768, 306, 166, 791, 855, 384, 748, 963,   1, 997,\n",
      "                   713, 608, 208, 461, 231, 610, 138, 347,  99, 647, 308, 245, 807, 730,\n",
      "                   469, 363, 117, 165,  68, 625, 633, 753, 328, 760, 751, 317, 125, 677,\n",
      "                   475, 941, 152, 755, 119, 346, 944, 252,  24, 431, 481, 595, 451, 404,\n",
      "                   868, 552, 840, 920, 565, 683, 239, 206, 759, 973, 230, 720, 691, 303,\n",
      "                   893, 812, 529, 964, 194,  22,  72, 681, 870, 496, 774, 178, 861, 825,\n",
      "                   227, 249, 547, 233, 948,  48, 603, 699, 981,  80, 367, 887, 632,  85,\n",
      "                   947, 232, 169, 892,  38, 823, 619, 971, 900, 110, 505, 454, 257,  17,\n",
      "                   735, 443, 343, 863,  60, 784, 108, 378,  57, 796, 305, 797,  91, 772,\n",
      "                   298, 372, 824, 448, 826, 531, 149, 200, 673, 916, 495, 682, 903, 761,\n",
      "                   468, 272,  90, 757, 296, 712, 969, 162, 839, 312, 804, 738, 921, 590,\n",
      "                   849, 158, 297, 567, 425, 294, 856, 875, 984, 568, 949, 254, 616, 283,\n",
      "                   486, 123, 196, 934, 841, 937, 444, 369, 785, 483, 923, 220, 588, 242,\n",
      "                   420, 801, 137, 436, 376, 500, 831, 742, 264, 905, 430, 150],\n",
      "                  dtype=torch.int32), tensor([4, 5, 7, 8, 6, 5, 4, 0, 8, 0, 3, 5, 7, 6, 3, 2, 4, 4, 0, 8, 6, 9, 6, 9,\n",
      "                   7, 8, 1, 6, 2, 5, 8, 1, 0, 7, 8, 7, 2, 7, 7, 2, 5, 6, 8, 8, 8, 1, 0, 1,\n",
      "                   2, 5, 9, 8, 1, 0, 8, 0, 2, 5, 3, 1, 3, 8, 9, 1, 8, 4, 1, 8, 8, 6, 2, 2,\n",
      "                   9, 9, 9, 1, 0, 7, 4, 8, 8, 5, 7, 0, 1, 1, 3, 9, 8, 3, 8, 8, 5, 3, 9, 0,\n",
      "                   1, 1, 9, 6, 1, 9, 7, 1, 7, 6, 4, 6, 4, 9, 1, 6, 2, 1, 5, 6, 3, 6, 1, 1,\n",
      "                   3, 5, 5, 4, 9, 8, 8, 4, 4, 9, 3, 4, 5, 0, 9, 8, 8, 3, 6, 6, 8, 3, 2, 3,\n",
      "                   9, 5, 2, 5, 7, 0, 3, 8, 5, 3, 7, 6, 1, 5, 4, 8, 2, 3, 7, 3, 5, 4, 7, 4,\n",
      "                   8, 2, 6, 3, 5, 3, 2, 6, 3, 5, 0, 9, 9, 8, 4, 0, 7, 1, 2, 6, 6, 3, 0, 8,\n",
      "                   5, 3, 6, 1, 5, 2, 6, 3, 9, 4, 0, 9, 9, 0, 7, 9, 6, 0, 3, 0, 0, 2, 5, 1,\n",
      "                   6, 3, 5, 2, 3, 2, 9, 9, 8, 8, 5, 7, 5, 2, 4, 5, 4, 9, 6, 3, 4, 1, 4, 7,\n",
      "                   7, 1, 2, 6, 3, 1, 6, 2, 6, 9, 5, 5, 4, 7, 4, 9, 4, 4, 1, 2, 6, 5, 5, 9,\n",
      "                   8, 4, 1, 0, 3, 5, 0, 2, 9, 7, 0, 2, 0, 2, 8, 3, 4, 7, 5, 0, 5, 5, 8, 2,\n",
      "                   8, 2, 8, 7, 5, 9, 9, 8, 0, 3, 9, 4, 3, 1, 3, 5, 5, 8, 1, 9, 4, 2, 0, 8,\n",
      "                   1, 6, 3, 2, 0, 9, 1, 5, 1, 7, 6, 8, 4, 8, 9, 0, 8, 2, 3, 7, 8, 4, 0, 4,\n",
      "                   9, 7, 4, 7, 4, 5, 2, 8, 1, 1, 2, 9, 2, 2, 5, 1, 9, 5, 0, 1, 1, 2, 6, 2,\n",
      "                   0, 4, 8, 5, 0, 0, 2, 4, 3, 6, 2, 7, 4, 0, 7, 1, 4, 1, 3, 9, 6, 8, 8, 1,\n",
      "                   8, 9, 4, 4, 9, 7, 2, 9, 1, 8, 0, 0, 3, 9, 0, 8, 1, 9, 6, 2, 3, 7, 5, 3,\n",
      "                   9, 8, 8, 4, 8, 4, 9, 7, 8, 7, 5, 6, 0, 6, 4, 7, 8, 9, 2, 2, 3, 1, 6, 8,\n",
      "                   2, 5, 0, 3, 4, 8, 5, 9, 9, 2, 8, 6, 2, 1, 2, 3, 0, 1, 6, 6, 9, 3, 0, 5,\n",
      "                   7, 9, 4, 3, 4, 6, 7, 3, 8, 5, 9, 2, 1, 1, 4, 3, 7, 6, 0, 8, 2, 0, 6, 1,\n",
      "                   1, 5, 8, 0, 5, 1, 6, 3, 9, 1, 5, 2, 9, 2, 9, 1, 7, 8, 4, 1, 0, 0, 1, 5,\n",
      "                   7, 7, 9, 8, 7, 3, 4, 4, 8, 9, 8, 0, 1, 4, 4, 7, 0, 5, 1, 7, 4, 1, 8, 6,\n",
      "                   7, 6, 7, 6, 3, 1, 5, 1, 4, 7, 9, 2, 9, 5, 2, 9, 8, 5, 3, 9, 6, 5, 3, 6,\n",
      "                   0, 5, 1, 2, 3, 8, 0, 2, 4, 9, 4, 1, 3, 5, 5, 7, 9, 1, 5, 5, 6, 4, 7, 8,\n",
      "                   3, 4, 7, 2, 4, 3, 5, 4, 0, 2, 5, 5, 6, 5, 3, 0, 8, 3, 8, 7, 7, 3, 1, 4])),\n",
      "               names=('seeds', 'labels'),\n",
      "           ),\n",
      "           test_set=ItemSet(\n",
      "               items=(tensor([258, 907, 282, 634, 940, 334, 886, 163, 179, 872,  59, 441, 653, 401,\n",
      "                   996, 582, 114, 519, 534, 525, 136, 991, 864, 626, 504, 153, 604, 291,\n",
      "                   987, 410, 259, 185, 414, 286,   2, 354, 925, 467, 184, 336, 333, 423,\n",
      "                   520, 883, 693, 261, 822, 656,  47, 546,  33, 403, 767,   6, 419,  28,\n",
      "                   635, 386, 598,  43,   8, 706,  95, 576, 873, 834, 417, 679, 924, 737,\n",
      "                   601, 630, 775, 654, 167, 103,  89, 623, 379, 594, 449, 350,  62, 276,\n",
      "                   325, 321, 953, 896, 421, 894, 396, 236, 912, 353, 606, 724, 644, 398,\n",
      "                   533, 728, 843, 471, 777, 733, 364, 156, 642, 289, 915, 407, 844,  53,\n",
      "                   393, 731, 716, 685, 639, 181, 318, 927, 811, 246, 100, 300, 358, 373,\n",
      "                   591, 670, 726, 704, 229, 118, 524, 205, 301, 676, 710, 186,  82, 722,\n",
      "                   362, 115, 248, 359, 569, 338,  25, 140, 424, 145,  12, 463, 572, 787,\n",
      "                   104, 743, 330, 578, 859, 323, 170, 342,  78,  42, 195, 701,  15, 126,\n",
      "                   477, 199, 292, 399, 327, 881, 850, 854, 432, 102, 732, 106, 549,  36,\n",
      "                   374, 994, 781, 344, 815,  23, 139, 962, 313, 669, 715, 470, 845, 618,\n",
      "                    71, 457, 932, 429], dtype=torch.int32), tensor([0, 0, 9, 7, 5, 4, 8, 8, 8, 3, 5, 9, 8, 4, 1, 3, 8, 3, 9, 4, 5, 8, 8, 7,\n",
      "                   5, 8, 8, 6, 6, 8, 5, 5, 6, 7, 5, 2, 1, 0, 6, 2, 7, 8, 9, 2, 8, 1, 0, 7,\n",
      "                   5, 9, 1, 1, 1, 7, 8, 6, 5, 2, 8, 7, 4, 1, 7, 6, 0, 4, 5, 0, 0, 6, 2, 4,\n",
      "                   1, 6, 4, 6, 0, 9, 0, 6, 8, 7, 7, 7, 0, 7, 1, 6, 3, 5, 4, 0, 0, 1, 0, 8,\n",
      "                   4, 7, 1, 9, 8, 1, 0, 6, 9, 5, 6, 9, 6, 5, 4, 5, 1, 6, 9, 0, 9, 5, 9, 1,\n",
      "                   8, 7, 4, 1, 1, 5, 5, 5, 8, 8, 5, 6, 0, 8, 9, 0, 9, 2, 5, 8, 3, 5, 3, 6,\n",
      "                   9, 4, 3, 1, 5, 8, 1, 0, 6, 5, 2, 6, 7, 9, 1, 2, 8, 9, 3, 3, 5, 4, 8, 6,\n",
      "                   9, 1, 9, 3, 1, 1, 0, 0, 8, 3, 3, 5, 2, 9, 3, 3, 0, 6, 8, 3, 1, 1, 5, 9,\n",
      "                   9, 4, 3, 0, 1, 7, 5, 0])),\n",
      "               names=('seeds', 'labels'),\n",
      "           ),\n",
      "           metadata={'name': 'node_classification', 'num_classes': 10},)\n",
      "\n",
      "Loaded link prediction task: OnDiskTask(validation_set=ItemSet(\n",
      "               items=(tensor([[965, 917],\n",
      "                   [516,  56],\n",
      "                   [208, 589],\n",
      "                   ...,\n",
      "                   [317, 320],\n",
      "                   [317, 721],\n",
      "                   [317, 838]], dtype=torch.int32), tensor([1., 1., 1.,  ..., 0., 0., 0.], dtype=torch.float64), tensor([   0,    1,    2,  ..., 1999, 1999, 1999])),\n",
      "               names=('seeds', 'labels', 'indexes'),\n",
      "           ),\n",
      "           train_set=ItemSet(\n",
      "               items=(tensor([[275, 691],\n",
      "                   [ 96, 503],\n",
      "                   [ 39, 539],\n",
      "                   ...,\n",
      "                   [ 97, 299],\n",
      "                   [421, 163],\n",
      "                   [516, 265]], dtype=torch.int32),),\n",
      "               names=('seeds',),\n",
      "           ),\n",
      "           test_set=ItemSet(\n",
      "               items=(tensor([[625, 620],\n",
      "                   [224, 108],\n",
      "                   [864, 965],\n",
      "                   ...,\n",
      "                   [401, 132],\n",
      "                   [401, 581],\n",
      "                   [401, 414]], dtype=torch.int32), tensor([1., 1., 1.,  ..., 0., 0., 0.], dtype=torch.float64), tensor([   0,    1,    2,  ..., 1999, 1999, 1999])),\n",
      "               names=('seeds', 'labels', 'indexes'),\n",
      "           ),\n",
      "           metadata={'name': 'link_prediction', 'num_classes': 10},)\n",
      "\n"
     ]
    },
    {
     "name": "stderr",
     "output_type": "stream",
     "text": [
      "/dgl/python/dgl/graphbolt/impl/ondisk_dataset.py:463: GBWarning: Edge feature is stored, but edge IDs are not saved.\n",
      "  gb_warning(\"Edge feature is stored, but edge IDs are not saved.\")\n"
     ]
    }
   ],
   "source": [
    "dataset = gb.OnDiskDataset(base_dir).load()\n",
    "graph = dataset.graph\n",
    "print(f\"Loaded graph: {graph}\\n\")\n",
    "\n",
    "feature = dataset.feature\n",
    "print(f\"Loaded feature store: {feature}\\n\")\n",
    "\n",
    "tasks = dataset.tasks\n",
    "nc_task = tasks[0]\n",
    "print(f\"Loaded node classification task: {nc_task}\\n\")\n",
    "lp_task = tasks[1]\n",
    "print(f\"Loaded link prediction task: {lp_task}\\n\")"
   ]
  }
 ],
 "metadata": {
  "colab": {
   "private_outputs": true,
   "provenance": []
  },
  "kernelspec": {
   "display_name": "Python 3",
   "name": "python3"
  },
  "language_info": {
   "codemirror_mode": {
    "name": "ipython",
    "version": 3
   },
   "file_extension": ".py",
   "mimetype": "text/x-python",
   "name": "python",
   "nbconvert_exporter": "python",
   "pygments_lexer": "ipython3",
   "version": "3.10.15"
  }
 },
 "nbformat": 4,
 "nbformat_minor": 0
}

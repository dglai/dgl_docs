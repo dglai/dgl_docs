{
 "cells": [
  {
   "cell_type": "markdown",
   "metadata": {
    "id": "FnFhPMaAfLtJ"
   },
   "source": [
    "# OnDiskDataset for Homogeneous Graph\n",
    "\n",
    "[![Open In Colab](https://colab.research.google.com/assets/colab-badge.svg)](https://colab.research.google.com/github/dmlc/dgl/blob/master/notebooks/stochastic_training/ondisk_dataset_homograph.ipynb) [![GitHub](https://img.shields.io/badge/-View%20on%20GitHub-181717?logo=github&logoColor=ffffff)](https://github.com/dmlc/dgl/blob/master/notebooks/stochastic_training/ondisk_dataset_homograph.ipynb)\n",
    "\n",
    "This tutorial shows how to create `OnDiskDataset` for homogeneous graph that could be used in **GraphBolt** framework.\n",
    "\n",
    "By the end of this tutorial, you will be able to\n",
    "\n",
    "- organize graph structure data.\n",
    "- organize feature data.\n",
    "- organize training/validation/test set for specific tasks.\n",
    "\n",
    "To create an ``OnDiskDataset`` object, you need to organize all the data including graph structure, feature data and tasks into a directory. The directory should contain a ``metadata.yaml`` file that describes the metadata of the dataset.\n",
    "\n",
    "Now let's generate various data step by step and organize them together to instantiate `OnDiskDataset` finally."
   ]
  },
  {
   "cell_type": "markdown",
   "metadata": {
    "id": "Wlb19DtWgtzq"
   },
   "source": [
    "## Install DGL package"
   ]
  },
  {
   "cell_type": "code",
   "execution_count": 1,
   "metadata": {
    "execution": {
     "iopub.execute_input": "2024-10-04T13:38:25.750040Z",
     "iopub.status.busy": "2024-10-04T13:38:25.749710Z",
     "iopub.status.idle": "2024-10-04T13:38:28.783546Z",
     "shell.execute_reply": "2024-10-04T13:38:28.782523Z"
    },
    "id": "UojlT9ZGgyr9"
   },
   "outputs": [
    {
     "name": "stdout",
     "output_type": "stream",
     "text": [
      "Looking in links: https://data.dgl.ai/wheels-test/repo.html\r\n",
      "Requirement already satisfied: dgl in /opt/conda/envs/dgl-dev-cpu/lib/python3.10/site-packages (2.2a240410)\r\n",
      "Requirement already satisfied: numpy>=1.14.0 in /opt/conda/envs/dgl-dev-cpu/lib/python3.10/site-packages (from dgl) (1.26.4)\r\n",
      "Requirement already satisfied: scipy>=1.1.0 in /opt/conda/envs/dgl-dev-cpu/lib/python3.10/site-packages (from dgl) (1.14.1)\r\n",
      "Requirement already satisfied: networkx>=2.1 in /opt/conda/envs/dgl-dev-cpu/lib/python3.10/site-packages (from dgl) (3.3)\r\n",
      "Requirement already satisfied: requests>=2.19.0 in /opt/conda/envs/dgl-dev-cpu/lib/python3.10/site-packages (from dgl) (2.32.3)\r\n",
      "Requirement already satisfied: tqdm in /opt/conda/envs/dgl-dev-cpu/lib/python3.10/site-packages (from dgl) (4.66.5)\r\n",
      "Requirement already satisfied: psutil>=5.8.0 in /opt/conda/envs/dgl-dev-cpu/lib/python3.10/site-packages (from dgl) (6.0.0)\r\n",
      "Requirement already satisfied: torchdata>=0.5.0 in /opt/conda/envs/dgl-dev-cpu/lib/python3.10/site-packages (from dgl) (0.8.0)\r\n",
      "Requirement already satisfied: pandas in /opt/conda/envs/dgl-dev-cpu/lib/python3.10/site-packages (from dgl) (2.2.3)\r\n"
     ]
    },
    {
     "name": "stdout",
     "output_type": "stream",
     "text": [
      "Requirement already satisfied: charset-normalizer<4,>=2 in /opt/conda/envs/dgl-dev-cpu/lib/python3.10/site-packages (from requests>=2.19.0->dgl) (3.3.2)\r\n",
      "Requirement already satisfied: idna<4,>=2.5 in /opt/conda/envs/dgl-dev-cpu/lib/python3.10/site-packages (from requests>=2.19.0->dgl) (3.10)\r\n",
      "Requirement already satisfied: urllib3<3,>=1.21.1 in /opt/conda/envs/dgl-dev-cpu/lib/python3.10/site-packages (from requests>=2.19.0->dgl) (2.2.3)\r\n",
      "Requirement already satisfied: certifi>=2017.4.17 in /opt/conda/envs/dgl-dev-cpu/lib/python3.10/site-packages (from requests>=2.19.0->dgl) (2024.8.30)\r\n",
      "Requirement already satisfied: torch>=2 in /opt/conda/envs/dgl-dev-cpu/lib/python3.10/site-packages (from torchdata>=0.5.0->dgl) (2.1.0+cpu)\r\n"
     ]
    },
    {
     "name": "stdout",
     "output_type": "stream",
     "text": [
      "Requirement already satisfied: python-dateutil>=2.8.2 in /opt/conda/envs/dgl-dev-cpu/lib/python3.10/site-packages (from pandas->dgl) (2.9.0.post0)\r\n",
      "Requirement already satisfied: pytz>=2020.1 in /opt/conda/envs/dgl-dev-cpu/lib/python3.10/site-packages (from pandas->dgl) (2024.2)\r\n",
      "Requirement already satisfied: tzdata>=2022.7 in /opt/conda/envs/dgl-dev-cpu/lib/python3.10/site-packages (from pandas->dgl) (2024.2)\r\n",
      "Requirement already satisfied: six>=1.5 in /opt/conda/envs/dgl-dev-cpu/lib/python3.10/site-packages (from python-dateutil>=2.8.2->pandas->dgl) (1.16.0)\r\n",
      "Requirement already satisfied: filelock in /opt/conda/envs/dgl-dev-cpu/lib/python3.10/site-packages (from torch>=2->torchdata>=0.5.0->dgl) (3.16.1)\r\n",
      "Requirement already satisfied: typing-extensions in /opt/conda/envs/dgl-dev-cpu/lib/python3.10/site-packages (from torch>=2->torchdata>=0.5.0->dgl) (4.12.2)\r\n",
      "Requirement already satisfied: sympy in /opt/conda/envs/dgl-dev-cpu/lib/python3.10/site-packages (from torch>=2->torchdata>=0.5.0->dgl) (1.13.3)\r\n",
      "Requirement already satisfied: jinja2 in /opt/conda/envs/dgl-dev-cpu/lib/python3.10/site-packages (from torch>=2->torchdata>=0.5.0->dgl) (3.1.4)\r\n",
      "Requirement already satisfied: fsspec in /opt/conda/envs/dgl-dev-cpu/lib/python3.10/site-packages (from torch>=2->torchdata>=0.5.0->dgl) (2024.9.0)\r\n"
     ]
    },
    {
     "name": "stdout",
     "output_type": "stream",
     "text": [
      "Requirement already satisfied: MarkupSafe>=2.0 in /opt/conda/envs/dgl-dev-cpu/lib/python3.10/site-packages (from jinja2->torch>=2->torchdata>=0.5.0->dgl) (2.1.5)\r\n",
      "Requirement already satisfied: mpmath<1.4,>=1.1.0 in /opt/conda/envs/dgl-dev-cpu/lib/python3.10/site-packages (from sympy->torch>=2->torchdata>=0.5.0->dgl) (1.3.0)\r\n"
     ]
    },
    {
     "name": "stdout",
     "output_type": "stream",
     "text": [
      "\u001b[33mWARNING: Running pip as the 'root' user can result in broken permissions and conflicting behaviour with the system package manager, possibly rendering your system unusable.It is recommended to use a virtual environment instead: https://pip.pypa.io/warnings/venv. Use the --root-user-action option if you know what you are doing and want to suppress this warning.\u001b[0m\u001b[33m\r\n",
      "\u001b[0m"
     ]
    },
    {
     "name": "stdout",
     "output_type": "stream",
     "text": [
      "DGL installed!\n"
     ]
    }
   ],
   "source": [
    "# Install required packages.\n",
    "import os\n",
    "import torch\n",
    "import numpy as np\n",
    "os.environ['TORCH'] = torch.__version__\n",
    "os.environ['DGLBACKEND'] = \"pytorch\"\n",
    "\n",
    "# Install the CPU version.\n",
    "device = torch.device(\"cpu\")\n",
    "!pip install --pre dgl -f https://data.dgl.ai/wheels-test/repo.html\n",
    "\n",
    "try:\n",
    "    import dgl\n",
    "    import dgl.graphbolt as gb\n",
    "    installed = True\n",
    "except ImportError as error:\n",
    "    installed = False\n",
    "    print(error)\n",
    "print(\"DGL installed!\" if installed else \"DGL not found!\")"
   ]
  },
  {
   "cell_type": "markdown",
   "metadata": {
    "id": "2R7WnSbjsfbr"
   },
   "source": [
    "## Data preparation\n",
    "In order to demonstrate how to organize various data, let's create a base directory first."
   ]
  },
  {
   "cell_type": "code",
   "execution_count": 2,
   "metadata": {
    "execution": {
     "iopub.execute_input": "2024-10-04T13:38:28.786246Z",
     "iopub.status.busy": "2024-10-04T13:38:28.785814Z",
     "iopub.status.idle": "2024-10-04T13:38:28.790963Z",
     "shell.execute_reply": "2024-10-04T13:38:28.790103Z"
    },
    "id": "SZipbzyltLfO"
   },
   "outputs": [
    {
     "name": "stdout",
     "output_type": "stream",
     "text": [
      "Created base directory: ./ondisk_dataset_homograph\n"
     ]
    }
   ],
   "source": [
    "base_dir = './ondisk_dataset_homograph'\n",
    "os.makedirs(base_dir, exist_ok=True)\n",
    "print(f\"Created base directory: {base_dir}\")"
   ]
  },
  {
   "cell_type": "markdown",
   "metadata": {
    "id": "qhNtIn_xhlnl"
   },
   "source": [
    "### Generate graph structure data\n",
    "For homogeneous graph, we just need to save edges(namely seeds) into  **Numpy** or **CSV** file.\n",
    "\n",
    "Note:\n",
    "- when saving to **Numpy**, the array requires to be in shape of `(2, N)`. This format is recommended as constructing graph from it is much faster than **CSV** file.\n",
    "- when saving to **CSV** file, do not save index and header.\n"
   ]
  },
  {
   "cell_type": "code",
   "execution_count": 3,
   "metadata": {
    "execution": {
     "iopub.execute_input": "2024-10-04T13:38:28.793164Z",
     "iopub.status.busy": "2024-10-04T13:38:28.792755Z",
     "iopub.status.idle": "2024-10-04T13:38:28.806877Z",
     "shell.execute_reply": "2024-10-04T13:38:28.806007Z"
    },
    "id": "HcBt4G5BmSjr"
   },
   "outputs": [
    {
     "name": "stdout",
     "output_type": "stream",
     "text": [
      "Part of edges: [[783 623]\n",
      " [682 974]\n",
      " [ 66 517]\n",
      " [333 252]\n",
      " [462 224]]\n",
      "Edges are saved into ./ondisk_dataset_homograph/edges.csv\n"
     ]
    }
   ],
   "source": [
    "import numpy as np\n",
    "import pandas as pd\n",
    "num_nodes = 1000\n",
    "num_edges = 10 * num_nodes\n",
    "edges_path = os.path.join(base_dir, \"edges.csv\")\n",
    "edges = np.random.randint(0, num_nodes, size=(num_edges, 2))\n",
    "\n",
    "print(f\"Part of edges: {edges[:5, :]}\")\n",
    "\n",
    "df = pd.DataFrame(edges)\n",
    "df.to_csv(edges_path, index=False, header=False)\n",
    "\n",
    "print(f\"Edges are saved into {edges_path}\")"
   ]
  },
  {
   "cell_type": "markdown",
   "metadata": {
    "id": "kh-4cPtzpcaH"
   },
   "source": [
    "### Generate feature data for graph\n",
    "For feature data, numpy arrays and torch tensors are supported for now."
   ]
  },
  {
   "cell_type": "code",
   "execution_count": 4,
   "metadata": {
    "execution": {
     "iopub.execute_input": "2024-10-04T13:38:28.809034Z",
     "iopub.status.busy": "2024-10-04T13:38:28.808760Z",
     "iopub.status.idle": "2024-10-04T13:38:28.828916Z",
     "shell.execute_reply": "2024-10-04T13:38:28.828061Z"
    },
    "id": "_PVu1u5brBhF"
   },
   "outputs": [
    {
     "name": "stdout",
     "output_type": "stream",
     "text": [
      "Part of node feature [feat_0]: [[0.69967211 0.55748295 0.3870123  0.63532859 0.87996298]\n",
      " [0.86177936 0.08713863 0.64350584 0.66052061 0.15349788]\n",
      " [0.7971254  0.45630878 0.0439352  0.75063697 0.42982349]]\n",
      "Node feature [feat_0] is saved to ./ondisk_dataset_homograph/node-feat-0.npy\n",
      "\n",
      "Part of node feature [feat_1]: tensor([[0.6031, 0.3856, 0.5218, 0.7272, 0.7460],\n",
      "        [0.3851, 0.0363, 0.7589, 0.1479, 0.1853],\n",
      "        [0.3744, 0.4290, 0.8967, 0.1232, 0.7442]])\n",
      "Node feature [feat_1] is saved to ./ondisk_dataset_homograph/node-feat-1.pt\n",
      "\n",
      "Part of edge feature [feat_0]: [[0.57529816 0.23530476 0.59689502 0.10005551 0.17727157]\n",
      " [0.15094765 0.98934603 0.96151853 0.2700266  0.90247399]\n",
      " [0.16901752 0.15242106 0.64793065 0.97269227 0.86525881]]\n",
      "Edge feature [feat_0] is saved to ./ondisk_dataset_homograph/edge-feat-0.npy\n",
      "\n",
      "Part of edge feature [feat_1]: tensor([[0.7294, 0.7244, 0.7286, 0.9571, 0.7797],\n",
      "        [0.0762, 0.3006, 0.6383, 0.8128, 0.0921],\n",
      "        [0.0025, 0.9007, 0.5478, 0.6351, 0.5541]])\n",
      "Edge feature [feat_1] is saved to ./ondisk_dataset_homograph/edge-feat-1.pt\n",
      "\n"
     ]
    }
   ],
   "source": [
    "# Generate node feature in numpy array.\n",
    "node_feat_0_path = os.path.join(base_dir, \"node-feat-0.npy\")\n",
    "node_feat_0 = np.random.rand(num_nodes, 5)\n",
    "print(f\"Part of node feature [feat_0]: {node_feat_0[:3, :]}\")\n",
    "np.save(node_feat_0_path, node_feat_0)\n",
    "print(f\"Node feature [feat_0] is saved to {node_feat_0_path}\\n\")\n",
    "\n",
    "# Generate another node feature in torch tensor\n",
    "node_feat_1_path = os.path.join(base_dir, \"node-feat-1.pt\")\n",
    "node_feat_1 = torch.rand(num_nodes, 5)\n",
    "print(f\"Part of node feature [feat_1]: {node_feat_1[:3, :]}\")\n",
    "torch.save(node_feat_1, node_feat_1_path)\n",
    "print(f\"Node feature [feat_1] is saved to {node_feat_1_path}\\n\")\n",
    "\n",
    "# Generate edge feature in numpy array.\n",
    "edge_feat_0_path = os.path.join(base_dir, \"edge-feat-0.npy\")\n",
    "edge_feat_0 = np.random.rand(num_edges, 5)\n",
    "print(f\"Part of edge feature [feat_0]: {edge_feat_0[:3, :]}\")\n",
    "np.save(edge_feat_0_path, edge_feat_0)\n",
    "print(f\"Edge feature [feat_0] is saved to {edge_feat_0_path}\\n\")\n",
    "\n",
    "# Generate another edge feature in torch tensor\n",
    "edge_feat_1_path = os.path.join(base_dir, \"edge-feat-1.pt\")\n",
    "edge_feat_1 = torch.rand(num_edges, 5)\n",
    "print(f\"Part of edge feature [feat_1]: {edge_feat_1[:3, :]}\")\n",
    "torch.save(edge_feat_1, edge_feat_1_path)\n",
    "print(f\"Edge feature [feat_1] is saved to {edge_feat_1_path}\\n\")\n"
   ]
  },
  {
   "cell_type": "markdown",
   "metadata": {
    "id": "ZyqgOtsIwzh_"
   },
   "source": [
    "### Generate tasks\n",
    "`OnDiskDataset` supports multiple tasks. For each task, we need to prepare training/validation/test sets respectively. Such sets usually vary among different tasks. In this tutorial, let's create a **Node Classification** task and **Link Prediction** task."
   ]
  },
  {
   "cell_type": "markdown",
   "metadata": {
    "id": "hVxHaDIfzCkr"
   },
   "source": [
    "#### Node Classification Task\n",
    "For node classification task, we need **node IDs** and corresponding **labels** for each training/validation/test set. Like feature data, numpy arrays and torch tensors are supported for these sets."
   ]
  },
  {
   "cell_type": "code",
   "execution_count": 5,
   "metadata": {
    "execution": {
     "iopub.execute_input": "2024-10-04T13:38:28.831469Z",
     "iopub.status.busy": "2024-10-04T13:38:28.831001Z",
     "iopub.status.idle": "2024-10-04T13:38:28.842690Z",
     "shell.execute_reply": "2024-10-04T13:38:28.841902Z"
    },
    "id": "S5-fyBbHzTCO"
   },
   "outputs": [
    {
     "name": "stdout",
     "output_type": "stream",
     "text": [
      "Part of train ids for node classification: [ 73  48 843]\n",
      "NC train ids are saved to ./ondisk_dataset_homograph/nc-train-ids.npy\n",
      "\n",
      "Part of train labels for node classification: tensor([1, 8, 0])\n",
      "NC train labels are saved to ./ondisk_dataset_homograph/nc-train-labels.pt\n",
      "\n",
      "Part of val ids for node classification: [785 998 605]\n",
      "NC val ids are saved to ./ondisk_dataset_homograph/nc-val-ids.npy\n",
      "\n",
      "Part of val labels for node classification: tensor([2, 2, 2])\n",
      "NC val labels are saved to ./ondisk_dataset_homograph/nc-val-labels.pt\n",
      "\n",
      "Part of test ids for node classification: [ 56 632 534]\n",
      "NC test ids are saved to ./ondisk_dataset_homograph/nc-test-ids.npy\n",
      "\n",
      "Part of test labels for node classification: tensor([7, 9, 4])\n",
      "NC test labels are saved to ./ondisk_dataset_homograph/nc-test-labels.pt\n",
      "\n"
     ]
    }
   ],
   "source": [
    "num_trains = int(num_nodes * 0.6)\n",
    "num_vals = int(num_nodes * 0.2)\n",
    "num_tests = num_nodes - num_trains - num_vals\n",
    "\n",
    "ids = np.arange(num_nodes)\n",
    "np.random.shuffle(ids)\n",
    "\n",
    "nc_train_ids_path = os.path.join(base_dir, \"nc-train-ids.npy\")\n",
    "nc_train_ids = ids[:num_trains]\n",
    "print(f\"Part of train ids for node classification: {nc_train_ids[:3]}\")\n",
    "np.save(nc_train_ids_path, nc_train_ids)\n",
    "print(f\"NC train ids are saved to {nc_train_ids_path}\\n\")\n",
    "\n",
    "nc_train_labels_path = os.path.join(base_dir, \"nc-train-labels.pt\")\n",
    "nc_train_labels = torch.randint(0, 10, (num_trains,))\n",
    "print(f\"Part of train labels for node classification: {nc_train_labels[:3]}\")\n",
    "torch.save(nc_train_labels, nc_train_labels_path)\n",
    "print(f\"NC train labels are saved to {nc_train_labels_path}\\n\")\n",
    "\n",
    "nc_val_ids_path = os.path.join(base_dir, \"nc-val-ids.npy\")\n",
    "nc_val_ids = ids[num_trains:num_trains+num_vals]\n",
    "print(f\"Part of val ids for node classification: {nc_val_ids[:3]}\")\n",
    "np.save(nc_val_ids_path, nc_val_ids)\n",
    "print(f\"NC val ids are saved to {nc_val_ids_path}\\n\")\n",
    "\n",
    "nc_val_labels_path = os.path.join(base_dir, \"nc-val-labels.pt\")\n",
    "nc_val_labels = torch.randint(0, 10, (num_vals,))\n",
    "print(f\"Part of val labels for node classification: {nc_val_labels[:3]}\")\n",
    "torch.save(nc_val_labels, nc_val_labels_path)\n",
    "print(f\"NC val labels are saved to {nc_val_labels_path}\\n\")\n",
    "\n",
    "nc_test_ids_path = os.path.join(base_dir, \"nc-test-ids.npy\")\n",
    "nc_test_ids = ids[-num_tests:]\n",
    "print(f\"Part of test ids for node classification: {nc_test_ids[:3]}\")\n",
    "np.save(nc_test_ids_path, nc_test_ids)\n",
    "print(f\"NC test ids are saved to {nc_test_ids_path}\\n\")\n",
    "\n",
    "nc_test_labels_path = os.path.join(base_dir, \"nc-test-labels.pt\")\n",
    "nc_test_labels = torch.randint(0, 10, (num_tests,))\n",
    "print(f\"Part of test labels for node classification: {nc_test_labels[:3]}\")\n",
    "torch.save(nc_test_labels, nc_test_labels_path)\n",
    "print(f\"NC test labels are saved to {nc_test_labels_path}\\n\")"
   ]
  },
  {
   "cell_type": "markdown",
   "metadata": {
    "id": "LhAcDCHQ_KJ0"
   },
   "source": [
    "#### Link Prediction Task\n",
    "For link prediction task, we need **seeds** or **corresponding labels and indexes** which representing the pos/neg property and group of the seeds for each training/validation/test set. Like feature data, numpy arrays and torch tensors are supported for these sets."
   ]
  },
  {
   "cell_type": "code",
   "execution_count": 6,
   "metadata": {
    "execution": {
     "iopub.execute_input": "2024-10-04T13:38:28.845077Z",
     "iopub.status.busy": "2024-10-04T13:38:28.844680Z",
     "iopub.status.idle": "2024-10-04T13:38:28.862964Z",
     "shell.execute_reply": "2024-10-04T13:38:28.862109Z"
    },
    "id": "u0jCnXIcAQy4"
   },
   "outputs": [
    {
     "name": "stdout",
     "output_type": "stream",
     "text": [
      "Part of train seeds for link prediction: [[783 623]\n",
      " [682 974]\n",
      " [ 66 517]]\n",
      "LP train seeds are saved to ./ondisk_dataset_homograph/lp-train-seeds.npy\n",
      "\n",
      "Part of val seeds for link prediction: [[704 469]\n",
      " [814 766]\n",
      " [500 708]]\n",
      "LP val seeds are saved to ./ondisk_dataset_homograph/lp-val-seeds.npy\n",
      "\n",
      "Part of val labels for link prediction: [1. 1. 1.]\n",
      "LP val labels are saved to ./ondisk_dataset_homograph/lp-val-labels.npy\n",
      "\n",
      "Part of val indexes for link prediction: [0 1 2]\n",
      "LP val indexes are saved to ./ondisk_dataset_homograph/lp-val-indexes.npy\n",
      "\n",
      "Part of test seeds for link prediction: [[841 864]\n",
      " [858 995]\n",
      " [989 582]]\n",
      "LP test seeds are saved to ./ondisk_dataset_homograph/lp-test-seeds.npy\n",
      "\n",
      "Part of val labels for link prediction: [1. 1. 1.]\n",
      "LP test labels are saved to ./ondisk_dataset_homograph/lp-test-labels.npy\n",
      "\n",
      "Part of test indexes for link prediction: [0 1 2]\n",
      "LP test indexes are saved to ./ondisk_dataset_homograph/lp-test-indexes.npy\n",
      "\n"
     ]
    }
   ],
   "source": [
    "num_trains = int(num_edges * 0.6)\n",
    "num_vals = int(num_edges * 0.2)\n",
    "num_tests = num_edges - num_trains - num_vals\n",
    "\n",
    "lp_train_seeds_path = os.path.join(base_dir, \"lp-train-seeds.npy\")\n",
    "lp_train_seeds = edges[:num_trains, :]\n",
    "print(f\"Part of train seeds for link prediction: {lp_train_seeds[:3]}\")\n",
    "np.save(lp_train_seeds_path, lp_train_seeds)\n",
    "print(f\"LP train seeds are saved to {lp_train_seeds_path}\\n\")\n",
    "\n",
    "lp_val_seeds_path = os.path.join(base_dir, \"lp-val-seeds.npy\")\n",
    "lp_val_seeds = edges[num_trains:num_trains+num_vals, :]\n",
    "lp_val_neg_dsts = np.random.randint(0, num_nodes, (num_vals, 10)).reshape(-1)\n",
    "lp_val_neg_srcs = np.repeat(lp_val_seeds[:,0], 10)\n",
    "lp_val_neg_seeds = np.concatenate((lp_val_neg_srcs, lp_val_neg_dsts)).reshape(2,-1).T\n",
    "lp_val_seeds = np.concatenate((lp_val_seeds, lp_val_neg_seeds))\n",
    "print(f\"Part of val seeds for link prediction: {lp_val_seeds[:3]}\")\n",
    "np.save(lp_val_seeds_path, lp_val_seeds)\n",
    "print(f\"LP val seeds are saved to {lp_val_seeds_path}\\n\")\n",
    "\n",
    "lp_val_labels_path = os.path.join(base_dir, \"lp-val-labels.npy\")\n",
    "lp_val_labels = np.empty(num_vals * (10 + 1))\n",
    "lp_val_labels[:num_vals] = 1\n",
    "lp_val_labels[num_vals:] = 0\n",
    "print(f\"Part of val labels for link prediction: {lp_val_labels[:3]}\")\n",
    "np.save(lp_val_labels_path, lp_val_labels)\n",
    "print(f\"LP val labels are saved to {lp_val_labels_path}\\n\")\n",
    "\n",
    "lp_val_indexes_path = os.path.join(base_dir, \"lp-val-indexes.npy\")\n",
    "lp_val_indexes = np.arange(0, num_vals)\n",
    "lp_val_neg_indexes = np.repeat(lp_val_indexes, 10)\n",
    "lp_val_indexes = np.concatenate([lp_val_indexes, lp_val_neg_indexes])\n",
    "print(f\"Part of val indexes for link prediction: {lp_val_indexes[:3]}\")\n",
    "np.save(lp_val_indexes_path, lp_val_indexes)\n",
    "print(f\"LP val indexes are saved to {lp_val_indexes_path}\\n\")\n",
    "\n",
    "lp_test_seeds_path = os.path.join(base_dir, \"lp-test-seeds.npy\")\n",
    "lp_test_seeds = edges[-num_tests:, :]\n",
    "lp_test_neg_dsts = np.random.randint(0, num_nodes, (num_tests, 10)).reshape(-1)\n",
    "lp_test_neg_srcs = np.repeat(lp_test_seeds[:,0], 10)\n",
    "lp_test_neg_seeds = np.concatenate((lp_test_neg_srcs, lp_test_neg_dsts)).reshape(2,-1).T\n",
    "lp_test_seeds = np.concatenate((lp_test_seeds, lp_test_neg_seeds))\n",
    "print(f\"Part of test seeds for link prediction: {lp_test_seeds[:3]}\")\n",
    "np.save(lp_test_seeds_path, lp_test_seeds)\n",
    "print(f\"LP test seeds are saved to {lp_test_seeds_path}\\n\")\n",
    "\n",
    "lp_test_labels_path = os.path.join(base_dir, \"lp-test-labels.npy\")\n",
    "lp_test_labels = np.empty(num_tests * (10 + 1))\n",
    "lp_test_labels[:num_tests] = 1\n",
    "lp_test_labels[num_tests:] = 0\n",
    "print(f\"Part of val labels for link prediction: {lp_test_labels[:3]}\")\n",
    "np.save(lp_test_labels_path, lp_test_labels)\n",
    "print(f\"LP test labels are saved to {lp_test_labels_path}\\n\")\n",
    "\n",
    "lp_test_indexes_path = os.path.join(base_dir, \"lp-test-indexes.npy\")\n",
    "lp_test_indexes = np.arange(0, num_tests)\n",
    "lp_test_neg_indexes = np.repeat(lp_test_indexes, 10)\n",
    "lp_test_indexes = np.concatenate([lp_test_indexes, lp_test_neg_indexes])\n",
    "print(f\"Part of test indexes for link prediction: {lp_test_indexes[:3]}\")\n",
    "np.save(lp_test_indexes_path, lp_test_indexes)\n",
    "print(f\"LP test indexes are saved to {lp_test_indexes_path}\\n\")"
   ]
  },
  {
   "cell_type": "markdown",
   "metadata": {
    "id": "wbk6-wxRK-6S"
   },
   "source": [
    "## Organize Data into YAML File\n",
    "Now we need to create a `metadata.yaml` file which contains the paths, dadta types of graph structure, feature data, training/validation/test sets.\n",
    "\n",
    "Notes:\n",
    "- all path should be relative to `metadata.yaml`.\n",
    "- Below fields are optional and not specified in below example.\n",
    "  - `in_memory`: indicates whether to load dada into memory or `mmap`. Default is `True`.\n",
    "\n",
    "Please refer to [YAML specification](https://github.com/dmlc/dgl/blob/master/docs/source/stochastic_training/ondisk-dataset-specification.rst) for more details."
   ]
  },
  {
   "cell_type": "code",
   "execution_count": 7,
   "metadata": {
    "execution": {
     "iopub.execute_input": "2024-10-04T13:38:28.865207Z",
     "iopub.status.busy": "2024-10-04T13:38:28.864716Z",
     "iopub.status.idle": "2024-10-04T13:38:28.871052Z",
     "shell.execute_reply": "2024-10-04T13:38:28.870234Z"
    },
    "id": "ddGTWW61Lpwp"
   },
   "outputs": [],
   "source": [
    "yaml_content = f\"\"\"\n",
    "    dataset_name: homogeneous_graph_nc_lp\n",
    "    graph:\n",
    "      nodes:\n",
    "        - num: {num_nodes}\n",
    "      edges:\n",
    "        - format: csv\n",
    "          path: {os.path.basename(edges_path)}\n",
    "    feature_data:\n",
    "      - domain: node\n",
    "        name: feat_0\n",
    "        format: numpy\n",
    "        path: {os.path.basename(node_feat_0_path)}\n",
    "      - domain: node\n",
    "        name: feat_1\n",
    "        format: torch\n",
    "        path: {os.path.basename(node_feat_1_path)}\n",
    "      - domain: edge\n",
    "        name: feat_0\n",
    "        format: numpy\n",
    "        path: {os.path.basename(edge_feat_0_path)}\n",
    "      - domain: edge\n",
    "        name: feat_1\n",
    "        format: torch\n",
    "        path: {os.path.basename(edge_feat_1_path)}\n",
    "    tasks:\n",
    "      - name: node_classification\n",
    "        num_classes: 10\n",
    "        train_set:\n",
    "          - data:\n",
    "              - name: seeds\n",
    "                format: numpy\n",
    "                path: {os.path.basename(nc_train_ids_path)}\n",
    "              - name: labels\n",
    "                format: torch\n",
    "                path: {os.path.basename(nc_train_labels_path)}\n",
    "        validation_set:\n",
    "          - data:\n",
    "              - name: seeds\n",
    "                format: numpy\n",
    "                path: {os.path.basename(nc_val_ids_path)}\n",
    "              - name: labels\n",
    "                format: torch\n",
    "                path: {os.path.basename(nc_val_labels_path)}\n",
    "        test_set:\n",
    "          - data:\n",
    "              - name: seeds\n",
    "                format: numpy\n",
    "                path: {os.path.basename(nc_test_ids_path)}\n",
    "              - name: labels\n",
    "                format: torch\n",
    "                path: {os.path.basename(nc_test_labels_path)}\n",
    "      - name: link_prediction\n",
    "        num_classes: 10\n",
    "        train_set:\n",
    "          - data:\n",
    "              - name: seeds\n",
    "                format: numpy\n",
    "                path: {os.path.basename(lp_train_seeds_path)}\n",
    "        validation_set:\n",
    "          - data:\n",
    "              - name: seeds\n",
    "                format: numpy\n",
    "                path: {os.path.basename(lp_val_seeds_path)}\n",
    "              - name: labels\n",
    "                format: numpy\n",
    "                path: {os.path.basename(lp_val_labels_path)}\n",
    "              - name: indexes\n",
    "                format: numpy\n",
    "                path: {os.path.basename(lp_val_indexes_path)}\n",
    "        test_set:\n",
    "          - data:\n",
    "              - name: seeds\n",
    "                format: numpy\n",
    "                path: {os.path.basename(lp_test_seeds_path)}\n",
    "              - name: labels\n",
    "                format: numpy\n",
    "                path: {os.path.basename(lp_test_labels_path)}\n",
    "              - name: indexes\n",
    "                format: numpy\n",
    "                path: {os.path.basename(lp_test_indexes_path)}\n",
    "\"\"\"\n",
    "metadata_path = os.path.join(base_dir, \"metadata.yaml\")\n",
    "with open(metadata_path, \"w\") as f:\n",
    "  f.write(yaml_content)"
   ]
  },
  {
   "cell_type": "markdown",
   "metadata": {
    "id": "kEfybHGhOW7O"
   },
   "source": [
    "## Instantiate `OnDiskDataset`\n",
    "Now we're ready to load dataset via `dgl.graphbolt.OnDiskDataset`. When instantiating, we just pass in the base directory where `metadata.yaml` file lies.\n",
    "\n",
    "During first instantiation, GraphBolt preprocesses the raw data such as constructing `FusedCSCSamplingGraph` from edges. All data including graph, feature data, training/validation/test sets are put into `preprocessed` directory after preprocessing. Any following dataset loading will skip the preprocess stage.\n",
    "\n",
    "After preprocessing, `load()` is required to be called explicitly in order to load graph, feature data and tasks."
   ]
  },
  {
   "cell_type": "code",
   "execution_count": 8,
   "metadata": {
    "execution": {
     "iopub.execute_input": "2024-10-04T13:38:28.872977Z",
     "iopub.status.busy": "2024-10-04T13:38:28.872702Z",
     "iopub.status.idle": "2024-10-04T13:38:28.946179Z",
     "shell.execute_reply": "2024-10-04T13:38:28.945614Z"
    },
    "id": "W58CZoSzOiyo"
   },
   "outputs": [
    {
     "name": "stdout",
     "output_type": "stream",
     "text": [
      "Start to preprocess the on-disk dataset.\n",
      "Finish preprocessing the on-disk dataset.\n",
      "Loaded graph: FusedCSCSamplingGraph(csc_indptr=tensor([    0,    10,    20,  ...,  9984,  9990, 10000], dtype=torch.int32),\n",
      "                      indices=tensor([934, 372, 937,  ..., 759, 573, 519], dtype=torch.int32),\n",
      "                      total_num_nodes=1000, num_edges=10000,)\n",
      "\n",
      "Loaded feature store: TorchBasedFeatureStore(\n",
      "    {(<OnDiskFeatureDataDomain.NODE: 'node'>, None, 'feat_0'): TorchBasedFeature(\n",
      "        feature=tensor([[0.6997, 0.5575, 0.3870, 0.6353, 0.8800],\n",
      "                        [0.8618, 0.0871, 0.6435, 0.6605, 0.1535],\n",
      "                        [0.7971, 0.4563, 0.0439, 0.7506, 0.4298],\n",
      "                        ...,\n",
      "                        [0.0356, 0.9931, 0.8102, 0.5386, 0.2627],\n",
      "                        [0.3940, 0.0056, 0.4333, 0.7656, 0.7426],\n",
      "                        [0.0101, 0.9644, 0.0169, 0.7585, 0.4160]], dtype=torch.float64),\n",
      "        metadata={},\n",
      "    ), (<OnDiskFeatureDataDomain.NODE: 'node'>, None, 'feat_1'): TorchBasedFeature(\n",
      "        feature=tensor([[0.6031, 0.3856, 0.5218, 0.7272, 0.7460],\n",
      "                        [0.3851, 0.0363, 0.7589, 0.1479, 0.1853],\n",
      "                        [0.3744, 0.4290, 0.8967, 0.1232, 0.7442],\n",
      "                        ...,\n",
      "                        [0.7954, 0.8071, 0.1697, 0.5785, 0.1848],\n",
      "                        [0.0979, 0.8439, 0.3303, 0.7597, 0.7293],\n",
      "                        [0.2354, 0.5370, 0.4062, 0.8675, 0.8193]]),\n",
      "        metadata={},\n",
      "    ), (<OnDiskFeatureDataDomain.EDGE: 'edge'>, None, 'feat_0'): TorchBasedFeature(\n",
      "        feature=tensor([[0.5753, 0.2353, 0.5969, 0.1001, 0.1773],\n",
      "                        [0.1509, 0.9893, 0.9615, 0.2700, 0.9025],\n",
      "                        [0.1690, 0.1524, 0.6479, 0.9727, 0.8653],\n",
      "                        ...,\n",
      "                        [0.6680, 0.4475, 0.8537, 0.1610, 0.0275],\n",
      "                        [0.4590, 0.5995, 0.7089, 0.6596, 0.5113],\n",
      "                        [0.9904, 0.5361, 0.0974, 0.6409, 0.8638]], dtype=torch.float64),\n",
      "        metadata={},\n",
      "    ), (<OnDiskFeatureDataDomain.EDGE: 'edge'>, None, 'feat_1'): TorchBasedFeature(\n",
      "        feature=tensor([[0.7294, 0.7244, 0.7286, 0.9571, 0.7797],\n",
      "                        [0.0762, 0.3006, 0.6383, 0.8128, 0.0921],\n",
      "                        [0.0025, 0.9007, 0.5478, 0.6351, 0.5541],\n",
      "                        ...,\n",
      "                        [0.3492, 0.5008, 0.9809, 0.1891, 0.8423],\n",
      "                        [0.9347, 0.1378, 0.0249, 0.9632, 0.1735],\n",
      "                        [0.3172, 0.4368, 0.6284, 0.0251, 0.7737]]),\n",
      "        metadata={},\n",
      "    )}\n",
      ")\n",
      "\n",
      "Loaded node classification task: OnDiskTask(validation_set=ItemSet(\n",
      "               items=(tensor([785, 998, 605, 482, 167, 168, 470, 346, 854, 739,  30, 903, 641, 996,\n",
      "                   267, 842, 921, 758,  83, 386, 619, 145, 618,  88, 573, 764, 455, 974,\n",
      "                   561, 388, 689, 175, 222, 308, 447, 628, 668, 614, 327, 190, 639, 835,\n",
      "                   162, 687, 365, 771, 829, 376, 626, 754, 196, 767, 892,  14, 912, 321,\n",
      "                   634, 894, 954, 430, 734, 953, 624, 654, 778, 137, 606, 108,   3, 493,\n",
      "                   883,  76, 389, 295, 164, 501, 350, 366, 978, 811, 284, 297, 219, 262,\n",
      "                   198, 777, 165, 937, 541, 537, 372, 508, 497, 781, 604, 485, 214, 306,\n",
      "                   223, 587,  13, 318, 776, 650, 993, 920,  80, 565, 356, 330, 378, 445,\n",
      "                   693, 236, 980, 142, 453, 932, 646, 494, 795, 815, 643, 410, 478, 514,\n",
      "                     8, 424, 667, 630, 387, 910, 943, 961, 461,  24, 867, 722, 840, 945,\n",
      "                   700, 617,  31, 803,  39, 720, 732, 837,   0, 370, 762, 178, 176, 730,\n",
      "                   933, 899, 588, 377, 580, 283, 337, 454, 310, 146, 451, 120, 408, 733,\n",
      "                    86, 221, 199, 915, 676, 772, 344, 938, 215, 703, 480, 704, 908, 217,\n",
      "                   216,  99, 737, 901, 755, 972, 838, 608, 235, 555, 286, 420, 982, 581,\n",
      "                   975,  38, 665, 529], dtype=torch.int32), tensor([2, 2, 2, 0, 7, 2, 7, 0, 6, 8, 9, 9, 8, 7, 1, 4, 5, 9, 2, 1, 7, 6, 7, 1,\n",
      "                   6, 8, 3, 4, 3, 6, 7, 2, 0, 8, 5, 7, 3, 6, 8, 2, 6, 8, 3, 2, 1, 9, 1, 6,\n",
      "                   6, 6, 5, 5, 3, 7, 0, 6, 7, 2, 3, 1, 1, 4, 5, 2, 1, 2, 6, 2, 9, 0, 2, 0,\n",
      "                   5, 8, 4, 9, 0, 4, 2, 5, 9, 3, 6, 4, 7, 5, 7, 8, 6, 9, 1, 0, 3, 8, 1, 9,\n",
      "                   0, 7, 9, 9, 2, 6, 2, 0, 7, 8, 7, 7, 8, 9, 3, 6, 3, 0, 0, 6, 9, 2, 9, 8,\n",
      "                   5, 6, 8, 8, 2, 2, 0, 2, 2, 3, 2, 4, 3, 1, 1, 1, 8, 2, 7, 7, 8, 9, 5, 9,\n",
      "                   7, 1, 6, 7, 5, 9, 3, 1, 0, 1, 0, 5, 4, 7, 1, 9, 2, 9, 6, 3, 8, 8, 4, 9,\n",
      "                   6, 0, 6, 9, 8, 0, 5, 3, 2, 1, 6, 1, 8, 7, 6, 3, 9, 1, 6, 5, 1, 4, 2, 3,\n",
      "                   0, 7, 6, 9, 5, 9, 6, 4])),\n",
      "               names=('seeds', 'labels'),\n",
      "           ),\n",
      "           train_set=ItemSet(\n",
      "               items=(tensor([ 73,  48, 843, 189, 315,   5, 653, 994, 746, 554, 505, 863, 157, 151,\n",
      "                   437, 174, 635, 904, 964, 951,  26,  79, 751, 780, 542, 701, 857, 499,\n",
      "                    35, 788,  82, 392, 766, 719, 709, 706, 976, 657, 187, 918, 852,  70,\n",
      "                   379, 775, 942, 471, 705, 121, 206, 103,  91,  50, 735, 807, 812, 518,\n",
      "                   916, 210, 955, 571,  74, 564, 660, 686,   2, 459, 550, 355, 872, 117,\n",
      "                   456,  44, 280, 303, 906, 715, 582,  54, 467, 194, 363, 395, 881, 341,\n",
      "                   699, 749, 631, 154, 177, 960, 239, 824, 343, 711, 385, 636, 670, 444,\n",
      "                   584, 884, 328, 756, 708, 831, 885, 600, 230, 956, 609, 895, 623, 769,\n",
      "                   822, 292,  75, 369,  32, 251, 649, 757, 527,  97,  96, 107, 281, 540,\n",
      "                   476, 558, 229, 952, 844, 393, 359, 900, 155, 692, 959, 738, 911,  65,\n",
      "                   761, 679, 156, 644, 446, 417, 682, 597, 880, 244, 851, 351, 407, 227,\n",
      "                   820, 695, 637, 484, 213, 287, 583, 143, 483, 158, 621, 712, 183, 666,\n",
      "                   489, 149,  27, 876, 479, 375, 546, 282, 323, 688, 139, 240, 946, 678,\n",
      "                    36, 575, 642, 718,  18, 111, 256, 336, 873, 243, 275, 556,  17, 246,\n",
      "                   298,  89, 813, 664, 102, 186, 473, 487,  40, 539, 409, 934,  15, 161,\n",
      "                   342,  46, 203,  63, 423, 201, 862, 193, 358, 224, 656,  92, 935, 134,\n",
      "                   610, 329, 742, 827, 141, 804, 421, 140,  71, 301, 814, 181, 113, 390,\n",
      "                   274, 264, 192, 498, 716,  95, 208, 128, 860, 557, 504, 864, 320, 882,\n",
      "                   598, 551, 589, 816, 590, 790, 728, 825, 290, 442, 877, 828, 300, 474,\n",
      "                   601, 741, 382, 171, 973,  77, 100, 784, 989, 126, 997, 492, 481, 339,\n",
      "                   677, 305, 965,  78, 285, 736, 289, 675, 104, 354, 662,  10, 585, 118,\n",
      "                   586, 834, 412, 698, 625, 987,  98, 266, 567, 148, 522, 125, 326, 878,\n",
      "                   259,  43, 947, 856, 971, 512, 371, 538, 191, 563, 257, 793, 144, 463,\n",
      "                   941, 768,  42, 871, 238, 723, 531, 988,  53, 169, 724, 439, 680, 122,\n",
      "                   968, 727, 209, 897, 832,  62, 970, 347, 348, 124,  60, 714,  68, 611,\n",
      "                   477, 495, 258, 398, 270, 434, 462, 866, 185, 890, 533, 817, 526, 710,\n",
      "                   810, 425, 172, 233, 544, 200, 188,   1, 572, 396, 874, 180,  37, 887,\n",
      "                   226, 966, 106, 418, 234, 296,  85, 253, 414, 276, 773,  20, 969, 594,\n",
      "                   905, 469, 496, 559, 566,  22, 786,  84, 173, 293, 568, 291, 312, 593,\n",
      "                   432, 747, 352, 160, 519, 797, 207, 622, 898, 419,   6, 853, 893, 294,\n",
      "                   919, 948,  28, 299, 528, 648, 112,  58, 560, 349, 721, 506, 248, 661,\n",
      "                   449, 472, 552, 731, 133, 516, 431, 707,  66, 500, 152, 655, 530, 770,\n",
      "                    11, 627, 360, 833, 925, 136, 818, 374, 450, 869, 441, 524, 958, 800,\n",
      "                   613, 383, 826, 255, 569, 570, 491, 502, 596,  33, 846, 765, 652, 922,\n",
      "                   984, 836, 513, 381, 595,  59, 433, 713, 241, 671,  49,   9, 799, 250,\n",
      "                   166, 629, 845, 995, 858, 808, 228, 405, 322, 574, 940, 272, 411,  19,\n",
      "                   510, 801, 211, 231, 809, 402, 486, 324, 726, 999, 967, 464, 115, 802,\n",
      "                   436, 651, 697, 750, 184,  57, 340, 127,  55, 150, 457, 523, 717, 426,\n",
      "                   917, 237, 805, 702, 182, 979, 135,  25, 616, 252, 313, 615, 985, 683,\n",
      "                   448, 792, 509, 928, 242,  41, 992, 612,  47, 638, 794, 314, 331, 830,\n",
      "                   278, 821,  16, 949, 927, 325, 335, 525, 265, 435, 839, 990, 599, 520,\n",
      "                   991, 926, 302, 416,  23, 663, 673, 367, 515, 753, 345, 977,  87, 743,\n",
      "                   658, 787, 132, 247, 427, 364, 119, 197, 391,  45, 368, 875],\n",
      "                  dtype=torch.int32), tensor([1, 8, 0, 6, 6, 6, 6, 7, 7, 8, 0, 1, 8, 3, 5, 6, 2, 1, 6, 0, 6, 6, 8, 4,\n",
      "                   1, 2, 3, 0, 3, 8, 9, 7, 7, 0, 3, 6, 0, 9, 1, 9, 1, 6, 7, 3, 5, 3, 3, 9,\n",
      "                   4, 0, 6, 0, 8, 3, 5, 9, 3, 3, 2, 5, 0, 9, 0, 9, 1, 4, 4, 6, 0, 9, 5, 6,\n",
      "                   8, 6, 4, 2, 4, 4, 6, 0, 8, 5, 0, 1, 9, 4, 0, 0, 4, 5, 5, 1, 5, 4, 7, 5,\n",
      "                   4, 9, 3, 1, 5, 2, 2, 9, 8, 6, 1, 4, 1, 6, 8, 8, 0, 0, 0, 2, 0, 7, 2, 6,\n",
      "                   7, 4, 5, 6, 2, 8, 8, 5, 2, 0, 5, 7, 4, 4, 3, 3, 0, 5, 6, 7, 2, 4, 2, 9,\n",
      "                   8, 3, 9, 4, 2, 5, 0, 7, 3, 8, 9, 9, 0, 4, 1, 0, 3, 4, 3, 0, 1, 3, 7, 9,\n",
      "                   1, 1, 0, 4, 1, 5, 7, 6, 2, 5, 1, 0, 4, 0, 9, 7, 3, 3, 1, 9, 4, 2, 5, 3,\n",
      "                   5, 3, 9, 5, 6, 1, 3, 7, 7, 4, 4, 3, 2, 3, 7, 4, 1, 6, 2, 9, 8, 4, 6, 0,\n",
      "                   2, 3, 9, 3, 4, 4, 7, 4, 2, 4, 3, 5, 3, 6, 0, 7, 3, 5, 8, 7, 5, 2, 2, 0,\n",
      "                   2, 3, 8, 4, 7, 6, 7, 1, 6, 6, 1, 8, 6, 1, 3, 5, 6, 5, 9, 1, 7, 1, 9, 9,\n",
      "                   1, 6, 3, 8, 3, 2, 1, 0, 6, 1, 9, 7, 8, 9, 4, 8, 5, 4, 0, 1, 5, 7, 6, 8,\n",
      "                   9, 6, 3, 9, 0, 1, 5, 5, 0, 2, 0, 3, 6, 6, 5, 1, 9, 3, 5, 0, 7, 3, 9, 6,\n",
      "                   6, 0, 9, 7, 2, 4, 3, 8, 7, 2, 1, 2, 9, 7, 6, 1, 9, 2, 0, 5, 6, 4, 4, 3,\n",
      "                   1, 7, 7, 1, 9, 3, 7, 7, 8, 3, 9, 2, 9, 2, 4, 7, 2, 0, 6, 0, 8, 0, 7, 7,\n",
      "                   4, 0, 3, 9, 8, 5, 8, 7, 6, 2, 9, 0, 9, 7, 1, 7, 6, 5, 3, 7, 8, 0, 9, 1,\n",
      "                   2, 9, 3, 5, 6, 1, 2, 3, 6, 7, 0, 3, 7, 2, 4, 5, 8, 3, 0, 3, 0, 4, 5, 3,\n",
      "                   1, 2, 3, 2, 1, 8, 4, 2, 4, 9, 9, 6, 9, 8, 0, 7, 9, 0, 1, 0, 0, 5, 4, 9,\n",
      "                   2, 3, 3, 7, 0, 4, 2, 1, 0, 6, 0, 6, 7, 3, 9, 4, 3, 7, 0, 4, 6, 3, 7, 2,\n",
      "                   6, 3, 4, 4, 5, 2, 6, 3, 6, 4, 8, 6, 0, 1, 3, 1, 3, 8, 2, 4, 5, 9, 0, 8,\n",
      "                   3, 1, 6, 5, 6, 7, 4, 5, 9, 0, 5, 0, 9, 5, 6, 4, 8, 3, 0, 8, 1, 0, 2, 8,\n",
      "                   5, 8, 0, 0, 2, 9, 5, 4, 0, 3, 5, 9, 1, 1, 6, 0, 2, 6, 6, 0, 2, 1, 4, 3,\n",
      "                   6, 6, 5, 2, 6, 0, 3, 7, 3, 0, 1, 2, 3, 2, 9, 6, 0, 7, 7, 4, 5, 7, 0, 6,\n",
      "                   2, 5, 8, 1, 1, 8, 5, 8, 5, 4, 0, 1, 1, 7, 9, 7, 1, 8, 4, 3, 6, 1, 0, 9,\n",
      "                   0, 9, 2, 0, 0, 9, 0, 5, 7, 1, 9, 2, 6, 9, 6, 4, 9, 5, 3, 2, 8, 4, 1, 3])),\n",
      "               names=('seeds', 'labels'),\n",
      "           ),\n",
      "           test_set=ItemSet(\n",
      "               items=(tensor([ 56, 632, 534,  93, 129, 576, 578, 691, 923, 105, 254,  72, 263, 109,\n",
      "                   218, 796, 760, 748, 249, 507,  51, 902, 819, 332, 404, 163, 147, 740,\n",
      "                    61, 490, 357, 443, 963, 861, 591, 220, 930, 123, 607, 696, 789, 986,\n",
      "                   438, 549, 950, 212, 114, 577, 362, 548, 849, 870, 311, 783, 659,  67,\n",
      "                   316, 798, 553, 669, 823, 458, 759, 460, 847, 415, 929, 535, 399, 279,\n",
      "                   924,  69, 931, 465, 468, 110, 909,  64, 130,  90, 205, 791, 602, 907,\n",
      "                   159, 850, 694,  94, 429, 684, 179, 452, 101, 397, 334, 543, 338, 779,\n",
      "                   503, 406, 517, 681, 288, 579, 981, 782, 685, 204, 939, 672, 428, 545,\n",
      "                   729, 232, 532, 245, 403, 879,   7, 521, 855, 886, 269, 936, 592, 647,\n",
      "                   195, 277, 536, 944, 273, 690, 511,   4, 888, 271, 225, 309, 116, 725,\n",
      "                   983, 674,  81, 307, 400, 304, 645, 640, 317, 889, 401,  52, 319, 848,\n",
      "                   547, 131, 138, 752, 153, 913, 562, 620, 891, 745,  29, 333, 268, 475,\n",
      "                   962, 868, 260, 394, 603, 384, 170, 466, 633, 380, 865, 744, 763, 896,\n",
      "                   957, 373, 261, 422,  21, 774, 413, 353, 859,  12, 841, 202, 806,  34,\n",
      "                   440, 361, 914, 488], dtype=torch.int32), tensor([7, 9, 4, 5, 3, 8, 8, 2, 6, 0, 8, 3, 6, 3, 0, 3, 3, 1, 9, 7, 9, 9, 6, 4,\n",
      "                   7, 6, 3, 3, 2, 5, 0, 8, 8, 1, 8, 5, 7, 4, 3, 3, 9, 1, 3, 1, 7, 4, 9, 6,\n",
      "                   9, 5, 2, 9, 6, 1, 9, 5, 2, 4, 1, 9, 8, 2, 7, 3, 2, 5, 2, 0, 3, 2, 3, 8,\n",
      "                   9, 0, 5, 8, 1, 6, 3, 0, 8, 2, 3, 3, 7, 3, 9, 1, 0, 3, 2, 0, 6, 2, 7, 5,\n",
      "                   9, 0, 6, 6, 9, 8, 2, 2, 6, 0, 2, 1, 3, 2, 8, 7, 2, 2, 4, 2, 3, 9, 1, 4,\n",
      "                   9, 3, 3, 3, 3, 2, 7, 1, 6, 0, 3, 0, 8, 1, 7, 7, 2, 0, 9, 3, 0, 8, 3, 0,\n",
      "                   0, 0, 0, 4, 4, 9, 3, 9, 8, 3, 4, 2, 5, 3, 6, 5, 5, 3, 3, 6, 7, 7, 4, 3,\n",
      "                   4, 6, 3, 4, 9, 4, 7, 3, 9, 6, 5, 4, 7, 7, 8, 9, 7, 2, 9, 5, 8, 4, 1, 1,\n",
      "                   8, 1, 5, 6, 1, 2, 8, 2])),\n",
      "               names=('seeds', 'labels'),\n",
      "           ),\n",
      "           metadata={'name': 'node_classification', 'num_classes': 10},)\n",
      "\n",
      "Loaded link prediction task: OnDiskTask(validation_set=ItemSet(\n",
      "               items=(tensor([[704, 469],\n",
      "                   [814, 766],\n",
      "                   [500, 708],\n",
      "                   ...,\n",
      "                   [131, 715],\n",
      "                   [131, 358],\n",
      "                   [131, 799]], dtype=torch.int32), tensor([1., 1., 1.,  ..., 0., 0., 0.], dtype=torch.float64), tensor([   0,    1,    2,  ..., 1999, 1999, 1999])),\n",
      "               names=('seeds', 'labels', 'indexes'),\n",
      "           ),\n",
      "           train_set=ItemSet(\n",
      "               items=(tensor([[783, 623],\n",
      "                   [682, 974],\n",
      "                   [ 66, 517],\n",
      "                   ...,\n",
      "                   [355, 261],\n",
      "                   [492, 657],\n",
      "                   [ 98, 100]], dtype=torch.int32),),\n",
      "               names=('seeds',),\n",
      "           ),\n",
      "           test_set=ItemSet(\n",
      "               items=(tensor([[841, 864],\n",
      "                   [858, 995],\n",
      "                   [989, 582],\n",
      "                   ...,\n",
      "                   [950, 125],\n",
      "                   [950, 232],\n",
      "                   [950, 818]], dtype=torch.int32), tensor([1., 1., 1.,  ..., 0., 0., 0.], dtype=torch.float64), tensor([   0,    1,    2,  ..., 1999, 1999, 1999])),\n",
      "               names=('seeds', 'labels', 'indexes'),\n",
      "           ),\n",
      "           metadata={'name': 'link_prediction', 'num_classes': 10},)\n",
      "\n"
     ]
    },
    {
     "name": "stderr",
     "output_type": "stream",
     "text": [
      "/dgl/python/dgl/graphbolt/impl/ondisk_dataset.py:463: GBWarning: Edge feature is stored, but edge IDs are not saved.\n",
      "  gb_warning(\"Edge feature is stored, but edge IDs are not saved.\")\n"
     ]
    }
   ],
   "source": [
    "dataset = gb.OnDiskDataset(base_dir).load()\n",
    "graph = dataset.graph\n",
    "print(f\"Loaded graph: {graph}\\n\")\n",
    "\n",
    "feature = dataset.feature\n",
    "print(f\"Loaded feature store: {feature}\\n\")\n",
    "\n",
    "tasks = dataset.tasks\n",
    "nc_task = tasks[0]\n",
    "print(f\"Loaded node classification task: {nc_task}\\n\")\n",
    "lp_task = tasks[1]\n",
    "print(f\"Loaded link prediction task: {lp_task}\\n\")"
   ]
  }
 ],
 "metadata": {
  "colab": {
   "private_outputs": true,
   "provenance": []
  },
  "kernelspec": {
   "display_name": "Python 3",
   "name": "python3"
  },
  "language_info": {
   "codemirror_mode": {
    "name": "ipython",
    "version": 3
   },
   "file_extension": ".py",
   "mimetype": "text/x-python",
   "name": "python",
   "nbconvert_exporter": "python",
   "pygments_lexer": "ipython3",
   "version": "3.10.15"
  }
 },
 "nbformat": 4,
 "nbformat_minor": 0
}

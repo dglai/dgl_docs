{
 "cells": [
  {
   "cell_type": "markdown",
   "metadata": {
    "id": "FnFhPMaAfLtJ"
   },
   "source": [
    "# OnDiskDataset for Homogeneous Graph\n",
    "\n",
    "[![Open In Colab](https://colab.research.google.com/assets/colab-badge.svg)](https://colab.research.google.com/github/dmlc/dgl/blob/master/notebooks/stochastic_training/ondisk_dataset_homograph.ipynb) [![GitHub](https://img.shields.io/badge/-View%20on%20GitHub-181717?logo=github&logoColor=ffffff)](https://github.com/dmlc/dgl/blob/master/notebooks/stochastic_training/ondisk_dataset_homograph.ipynb)\n",
    "\n",
    "This tutorial shows how to create `OnDiskDataset` for homogeneous graph that could be used in **GraphBolt** framework.\n",
    "\n",
    "By the end of this tutorial, you will be able to\n",
    "\n",
    "- organize graph structure data.\n",
    "- organize feature data.\n",
    "- organize training/validation/test set for specific tasks.\n",
    "\n",
    "To create an ``OnDiskDataset`` object, you need to organize all the data including graph structure, feature data and tasks into a directory. The directory should contain a ``metadata.yaml`` file that describes the metadata of the dataset.\n",
    "\n",
    "Now let's generate various data step by step and organize them together to instantiate `OnDiskDataset` finally."
   ]
  },
  {
   "cell_type": "markdown",
   "metadata": {
    "id": "Wlb19DtWgtzq"
   },
   "source": [
    "## Install DGL package"
   ]
  },
  {
   "cell_type": "code",
   "execution_count": 1,
   "metadata": {
    "execution": {
     "iopub.execute_input": "2024-09-18T03:33:41.124957Z",
     "iopub.status.busy": "2024-09-18T03:33:41.124640Z",
     "iopub.status.idle": "2024-09-18T03:33:44.902841Z",
     "shell.execute_reply": "2024-09-18T03:33:44.902224Z"
    },
    "id": "UojlT9ZGgyr9"
   },
   "outputs": [
    {
     "name": "stdout",
     "output_type": "stream",
     "text": [
      "Looking in links: https://data.dgl.ai/wheels-test/repo.html\r\n",
      "Requirement already satisfied: dgl in /opt/conda/envs/dgl-dev-cpu/lib/python3.10/site-packages (2.2a240410)\r\n",
      "Requirement already satisfied: numpy>=1.14.0 in /opt/conda/envs/dgl-dev-cpu/lib/python3.10/site-packages (from dgl) (1.26.4)\r\n",
      "Requirement already satisfied: scipy>=1.1.0 in /opt/conda/envs/dgl-dev-cpu/lib/python3.10/site-packages (from dgl) (1.14.0)\r\n",
      "Requirement already satisfied: networkx>=2.1 in /opt/conda/envs/dgl-dev-cpu/lib/python3.10/site-packages (from dgl) (3.3)\r\n",
      "Requirement already satisfied: requests>=2.19.0 in /opt/conda/envs/dgl-dev-cpu/lib/python3.10/site-packages (from dgl) (2.32.3)\r\n",
      "Requirement already satisfied: tqdm in /opt/conda/envs/dgl-dev-cpu/lib/python3.10/site-packages (from dgl) (4.66.5)\r\n",
      "Requirement already satisfied: psutil>=5.8.0 in /opt/conda/envs/dgl-dev-cpu/lib/python3.10/site-packages (from dgl) (6.0.0)\r\n",
      "Requirement already satisfied: torchdata>=0.5.0 in /opt/conda/envs/dgl-dev-cpu/lib/python3.10/site-packages (from dgl) (0.7.1)\r\n",
      "Requirement already satisfied: pandas in /opt/conda/envs/dgl-dev-cpu/lib/python3.10/site-packages (from dgl) (2.2.2)\r\n"
     ]
    },
    {
     "name": "stdout",
     "output_type": "stream",
     "text": [
      "Requirement already satisfied: charset-normalizer<4,>=2 in /opt/conda/envs/dgl-dev-cpu/lib/python3.10/site-packages (from requests>=2.19.0->dgl) (3.3.2)\r\n",
      "Requirement already satisfied: idna<4,>=2.5 in /opt/conda/envs/dgl-dev-cpu/lib/python3.10/site-packages (from requests>=2.19.0->dgl) (3.8)\r\n",
      "Requirement already satisfied: urllib3<3,>=1.21.1 in /opt/conda/envs/dgl-dev-cpu/lib/python3.10/site-packages (from requests>=2.19.0->dgl) (2.2.2)\r\n",
      "Requirement already satisfied: certifi>=2017.4.17 in /opt/conda/envs/dgl-dev-cpu/lib/python3.10/site-packages (from requests>=2.19.0->dgl) (2024.7.4)\r\n",
      "Requirement already satisfied: torch>=2 in /opt/conda/envs/dgl-dev-cpu/lib/python3.10/site-packages (from torchdata>=0.5.0->dgl) (2.4.0+cpu)\r\n"
     ]
    },
    {
     "name": "stdout",
     "output_type": "stream",
     "text": [
      "Requirement already satisfied: python-dateutil>=2.8.2 in /opt/conda/envs/dgl-dev-cpu/lib/python3.10/site-packages (from pandas->dgl) (2.9.0.post0)\r\n",
      "Requirement already satisfied: pytz>=2020.1 in /opt/conda/envs/dgl-dev-cpu/lib/python3.10/site-packages (from pandas->dgl) (2024.1)\r\n",
      "Requirement already satisfied: tzdata>=2022.7 in /opt/conda/envs/dgl-dev-cpu/lib/python3.10/site-packages (from pandas->dgl) (2024.1)\r\n",
      "Requirement already satisfied: six>=1.5 in /opt/conda/envs/dgl-dev-cpu/lib/python3.10/site-packages (from python-dateutil>=2.8.2->pandas->dgl) (1.16.0)\r\n",
      "Requirement already satisfied: filelock in /opt/conda/envs/dgl-dev-cpu/lib/python3.10/site-packages (from torch>=2->torchdata>=0.5.0->dgl) (3.15.4)\r\n",
      "Requirement already satisfied: typing-extensions>=4.8.0 in /opt/conda/envs/dgl-dev-cpu/lib/python3.10/site-packages (from torch>=2->torchdata>=0.5.0->dgl) (4.12.2)\r\n",
      "Requirement already satisfied: sympy in /opt/conda/envs/dgl-dev-cpu/lib/python3.10/site-packages (from torch>=2->torchdata>=0.5.0->dgl) (1.13.2)\r\n",
      "Requirement already satisfied: jinja2 in /opt/conda/envs/dgl-dev-cpu/lib/python3.10/site-packages (from torch>=2->torchdata>=0.5.0->dgl) (3.1.4)\r\n",
      "Requirement already satisfied: fsspec in /opt/conda/envs/dgl-dev-cpu/lib/python3.10/site-packages (from torch>=2->torchdata>=0.5.0->dgl) (2024.6.1)\r\n"
     ]
    },
    {
     "name": "stdout",
     "output_type": "stream",
     "text": [
      "Requirement already satisfied: MarkupSafe>=2.0 in /opt/conda/envs/dgl-dev-cpu/lib/python3.10/site-packages (from jinja2->torch>=2->torchdata>=0.5.0->dgl) (2.1.5)\r\n",
      "Requirement already satisfied: mpmath<1.4,>=1.1.0 in /opt/conda/envs/dgl-dev-cpu/lib/python3.10/site-packages (from sympy->torch>=2->torchdata>=0.5.0->dgl) (1.3.0)\r\n"
     ]
    },
    {
     "name": "stdout",
     "output_type": "stream",
     "text": [
      "DGL installed!\n"
     ]
    }
   ],
   "source": [
    "# Install required packages.\n",
    "import os\n",
    "import torch\n",
    "import numpy as np\n",
    "os.environ['TORCH'] = torch.__version__\n",
    "os.environ['DGLBACKEND'] = \"pytorch\"\n",
    "\n",
    "# Install the CPU version.\n",
    "device = torch.device(\"cpu\")\n",
    "!pip install --pre dgl -f https://data.dgl.ai/wheels-test/repo.html\n",
    "\n",
    "try:\n",
    "    import dgl\n",
    "    import dgl.graphbolt as gb\n",
    "    installed = True\n",
    "except ImportError as error:\n",
    "    installed = False\n",
    "    print(error)\n",
    "print(\"DGL installed!\" if installed else \"DGL not found!\")"
   ]
  },
  {
   "cell_type": "markdown",
   "metadata": {
    "id": "2R7WnSbjsfbr"
   },
   "source": [
    "## Data preparation\n",
    "In order to demonstrate how to organize various data, let's create a base directory first."
   ]
  },
  {
   "cell_type": "code",
   "execution_count": 2,
   "metadata": {
    "execution": {
     "iopub.execute_input": "2024-09-18T03:33:44.905525Z",
     "iopub.status.busy": "2024-09-18T03:33:44.905115Z",
     "iopub.status.idle": "2024-09-18T03:33:44.908686Z",
     "shell.execute_reply": "2024-09-18T03:33:44.908177Z"
    },
    "id": "SZipbzyltLfO"
   },
   "outputs": [
    {
     "name": "stdout",
     "output_type": "stream",
     "text": [
      "Created base directory: ./ondisk_dataset_homograph\n"
     ]
    }
   ],
   "source": [
    "base_dir = './ondisk_dataset_homograph'\n",
    "os.makedirs(base_dir, exist_ok=True)\n",
    "print(f\"Created base directory: {base_dir}\")"
   ]
  },
  {
   "cell_type": "markdown",
   "metadata": {
    "id": "qhNtIn_xhlnl"
   },
   "source": [
    "### Generate graph structure data\n",
    "For homogeneous graph, we just need to save edges(namely seeds) into  **Numpy** or **CSV** file.\n",
    "\n",
    "Note:\n",
    "- when saving to **Numpy**, the array requires to be in shape of `(2, N)`. This format is recommended as constructing graph from it is much faster than **CSV** file.\n",
    "- when saving to **CSV** file, do not save index and header.\n"
   ]
  },
  {
   "cell_type": "code",
   "execution_count": 3,
   "metadata": {
    "execution": {
     "iopub.execute_input": "2024-09-18T03:33:44.910941Z",
     "iopub.status.busy": "2024-09-18T03:33:44.910619Z",
     "iopub.status.idle": "2024-09-18T03:33:44.922485Z",
     "shell.execute_reply": "2024-09-18T03:33:44.921992Z"
    },
    "id": "HcBt4G5BmSjr"
   },
   "outputs": [
    {
     "name": "stdout",
     "output_type": "stream",
     "text": [
      "Part of edges: [[387  15]\n",
      " [794 620]\n",
      " [458 994]\n",
      " [115 899]\n",
      " [886 291]]\n",
      "Edges are saved into ./ondisk_dataset_homograph/edges.csv\n"
     ]
    }
   ],
   "source": [
    "import numpy as np\n",
    "import pandas as pd\n",
    "num_nodes = 1000\n",
    "num_edges = 10 * num_nodes\n",
    "edges_path = os.path.join(base_dir, \"edges.csv\")\n",
    "edges = np.random.randint(0, num_nodes, size=(num_edges, 2))\n",
    "\n",
    "print(f\"Part of edges: {edges[:5, :]}\")\n",
    "\n",
    "df = pd.DataFrame(edges)\n",
    "df.to_csv(edges_path, index=False, header=False)\n",
    "\n",
    "print(f\"Edges are saved into {edges_path}\")"
   ]
  },
  {
   "cell_type": "markdown",
   "metadata": {
    "id": "kh-4cPtzpcaH"
   },
   "source": [
    "### Generate feature data for graph\n",
    "For feature data, numpy arrays and torch tensors are supported for now."
   ]
  },
  {
   "cell_type": "code",
   "execution_count": 4,
   "metadata": {
    "execution": {
     "iopub.execute_input": "2024-09-18T03:33:44.924802Z",
     "iopub.status.busy": "2024-09-18T03:33:44.924412Z",
     "iopub.status.idle": "2024-09-18T03:33:44.935889Z",
     "shell.execute_reply": "2024-09-18T03:33:44.935390Z"
    },
    "id": "_PVu1u5brBhF"
   },
   "outputs": [
    {
     "name": "stdout",
     "output_type": "stream",
     "text": [
      "Part of node feature [feat_0]: [[0.5420525  0.43637063 0.36826206 0.02112616 0.90999398]\n",
      " [0.10075298 0.44679033 0.14106444 0.82909978 0.71577563]\n",
      " [0.64311137 0.92675899 0.78550973 0.22974116 0.01721751]]\n",
      "Node feature [feat_0] is saved to ./ondisk_dataset_homograph/node-feat-0.npy\n",
      "\n",
      "Part of node feature [feat_1]: tensor([[0.7591, 0.8341, 0.8168, 0.4031, 0.9392],\n",
      "        [0.2316, 0.5428, 0.2407, 0.4604, 0.9260],\n",
      "        [0.9633, 0.6027, 0.0808, 0.1811, 0.3750]])\n",
      "Node feature [feat_1] is saved to ./ondisk_dataset_homograph/node-feat-1.pt\n",
      "\n",
      "Part of edge feature [feat_0]: [[0.73656809 0.11199765 0.90999257 0.95056991 0.5222002 ]\n",
      " [0.67371713 0.50370938 0.97621319 0.31516164 0.39515326]\n",
      " [0.78067061 0.37473183 0.95315521 0.35694059 0.04381385]]\n",
      "Edge feature [feat_0] is saved to ./ondisk_dataset_homograph/edge-feat-0.npy\n",
      "\n",
      "Part of edge feature [feat_1]: tensor([[0.8946, 0.9518, 0.6386, 0.5634, 0.5203],\n",
      "        [0.8685, 0.6943, 0.8661, 0.6767, 0.8034],\n",
      "        [0.7194, 0.3865, 0.2485, 0.6264, 0.0186]])\n",
      "Edge feature [feat_1] is saved to ./ondisk_dataset_homograph/edge-feat-1.pt\n",
      "\n"
     ]
    }
   ],
   "source": [
    "# Generate node feature in numpy array.\n",
    "node_feat_0_path = os.path.join(base_dir, \"node-feat-0.npy\")\n",
    "node_feat_0 = np.random.rand(num_nodes, 5)\n",
    "print(f\"Part of node feature [feat_0]: {node_feat_0[:3, :]}\")\n",
    "np.save(node_feat_0_path, node_feat_0)\n",
    "print(f\"Node feature [feat_0] is saved to {node_feat_0_path}\\n\")\n",
    "\n",
    "# Generate another node feature in torch tensor\n",
    "node_feat_1_path = os.path.join(base_dir, \"node-feat-1.pt\")\n",
    "node_feat_1 = torch.rand(num_nodes, 5)\n",
    "print(f\"Part of node feature [feat_1]: {node_feat_1[:3, :]}\")\n",
    "torch.save(node_feat_1, node_feat_1_path)\n",
    "print(f\"Node feature [feat_1] is saved to {node_feat_1_path}\\n\")\n",
    "\n",
    "# Generate edge feature in numpy array.\n",
    "edge_feat_0_path = os.path.join(base_dir, \"edge-feat-0.npy\")\n",
    "edge_feat_0 = np.random.rand(num_edges, 5)\n",
    "print(f\"Part of edge feature [feat_0]: {edge_feat_0[:3, :]}\")\n",
    "np.save(edge_feat_0_path, edge_feat_0)\n",
    "print(f\"Edge feature [feat_0] is saved to {edge_feat_0_path}\\n\")\n",
    "\n",
    "# Generate another edge feature in torch tensor\n",
    "edge_feat_1_path = os.path.join(base_dir, \"edge-feat-1.pt\")\n",
    "edge_feat_1 = torch.rand(num_edges, 5)\n",
    "print(f\"Part of edge feature [feat_1]: {edge_feat_1[:3, :]}\")\n",
    "torch.save(edge_feat_1, edge_feat_1_path)\n",
    "print(f\"Edge feature [feat_1] is saved to {edge_feat_1_path}\\n\")\n"
   ]
  },
  {
   "cell_type": "markdown",
   "metadata": {
    "id": "ZyqgOtsIwzh_"
   },
   "source": [
    "### Generate tasks\n",
    "`OnDiskDataset` supports multiple tasks. For each task, we need to prepare training/validation/test sets respectively. Such sets usually vary among different tasks. In this tutorial, let's create a **Node Classification** task and **Link Prediction** task."
   ]
  },
  {
   "cell_type": "markdown",
   "metadata": {
    "id": "hVxHaDIfzCkr"
   },
   "source": [
    "#### Node Classification Task\n",
    "For node classification task, we need **node IDs** and corresponding **labels** for each training/validation/test set. Like feature data, numpy arrays and torch tensors are supported for these sets."
   ]
  },
  {
   "cell_type": "code",
   "execution_count": 5,
   "metadata": {
    "execution": {
     "iopub.execute_input": "2024-09-18T03:33:44.938249Z",
     "iopub.status.busy": "2024-09-18T03:33:44.937899Z",
     "iopub.status.idle": "2024-09-18T03:33:44.947249Z",
     "shell.execute_reply": "2024-09-18T03:33:44.946733Z"
    },
    "id": "S5-fyBbHzTCO"
   },
   "outputs": [
    {
     "name": "stdout",
     "output_type": "stream",
     "text": [
      "Part of train ids for node classification: [252 771 392]\n",
      "NC train ids are saved to ./ondisk_dataset_homograph/nc-train-ids.npy\n",
      "\n",
      "Part of train labels for node classification: tensor([8, 7, 7])\n",
      "NC train labels are saved to ./ondisk_dataset_homograph/nc-train-labels.pt\n",
      "\n",
      "Part of val ids for node classification: [269 121 134]\n",
      "NC val ids are saved to ./ondisk_dataset_homograph/nc-val-ids.npy\n",
      "\n",
      "Part of val labels for node classification: tensor([4, 3, 5])\n",
      "NC val labels are saved to ./ondisk_dataset_homograph/nc-val-labels.pt\n",
      "\n",
      "Part of test ids for node classification: [146 153 350]\n",
      "NC test ids are saved to ./ondisk_dataset_homograph/nc-test-ids.npy\n",
      "\n",
      "Part of test labels for node classification: tensor([5, 7, 1])\n",
      "NC test labels are saved to ./ondisk_dataset_homograph/nc-test-labels.pt\n",
      "\n"
     ]
    }
   ],
   "source": [
    "num_trains = int(num_nodes * 0.6)\n",
    "num_vals = int(num_nodes * 0.2)\n",
    "num_tests = num_nodes - num_trains - num_vals\n",
    "\n",
    "ids = np.arange(num_nodes)\n",
    "np.random.shuffle(ids)\n",
    "\n",
    "nc_train_ids_path = os.path.join(base_dir, \"nc-train-ids.npy\")\n",
    "nc_train_ids = ids[:num_trains]\n",
    "print(f\"Part of train ids for node classification: {nc_train_ids[:3]}\")\n",
    "np.save(nc_train_ids_path, nc_train_ids)\n",
    "print(f\"NC train ids are saved to {nc_train_ids_path}\\n\")\n",
    "\n",
    "nc_train_labels_path = os.path.join(base_dir, \"nc-train-labels.pt\")\n",
    "nc_train_labels = torch.randint(0, 10, (num_trains,))\n",
    "print(f\"Part of train labels for node classification: {nc_train_labels[:3]}\")\n",
    "torch.save(nc_train_labels, nc_train_labels_path)\n",
    "print(f\"NC train labels are saved to {nc_train_labels_path}\\n\")\n",
    "\n",
    "nc_val_ids_path = os.path.join(base_dir, \"nc-val-ids.npy\")\n",
    "nc_val_ids = ids[num_trains:num_trains+num_vals]\n",
    "print(f\"Part of val ids for node classification: {nc_val_ids[:3]}\")\n",
    "np.save(nc_val_ids_path, nc_val_ids)\n",
    "print(f\"NC val ids are saved to {nc_val_ids_path}\\n\")\n",
    "\n",
    "nc_val_labels_path = os.path.join(base_dir, \"nc-val-labels.pt\")\n",
    "nc_val_labels = torch.randint(0, 10, (num_vals,))\n",
    "print(f\"Part of val labels for node classification: {nc_val_labels[:3]}\")\n",
    "torch.save(nc_val_labels, nc_val_labels_path)\n",
    "print(f\"NC val labels are saved to {nc_val_labels_path}\\n\")\n",
    "\n",
    "nc_test_ids_path = os.path.join(base_dir, \"nc-test-ids.npy\")\n",
    "nc_test_ids = ids[-num_tests:]\n",
    "print(f\"Part of test ids for node classification: {nc_test_ids[:3]}\")\n",
    "np.save(nc_test_ids_path, nc_test_ids)\n",
    "print(f\"NC test ids are saved to {nc_test_ids_path}\\n\")\n",
    "\n",
    "nc_test_labels_path = os.path.join(base_dir, \"nc-test-labels.pt\")\n",
    "nc_test_labels = torch.randint(0, 10, (num_tests,))\n",
    "print(f\"Part of test labels for node classification: {nc_test_labels[:3]}\")\n",
    "torch.save(nc_test_labels, nc_test_labels_path)\n",
    "print(f\"NC test labels are saved to {nc_test_labels_path}\\n\")"
   ]
  },
  {
   "cell_type": "markdown",
   "metadata": {
    "id": "LhAcDCHQ_KJ0"
   },
   "source": [
    "#### Link Prediction Task\n",
    "For link prediction task, we need **seeds** or **corresponding labels and indexes** which representing the pos/neg property and group of the seeds for each training/validation/test set. Like feature data, numpy arrays and torch tensors are supported for these sets."
   ]
  },
  {
   "cell_type": "code",
   "execution_count": 6,
   "metadata": {
    "execution": {
     "iopub.execute_input": "2024-09-18T03:33:44.949583Z",
     "iopub.status.busy": "2024-09-18T03:33:44.949236Z",
     "iopub.status.idle": "2024-09-18T03:33:44.964359Z",
     "shell.execute_reply": "2024-09-18T03:33:44.963863Z"
    },
    "id": "u0jCnXIcAQy4"
   },
   "outputs": [
    {
     "name": "stdout",
     "output_type": "stream",
     "text": [
      "Part of train seeds for link prediction: [[387  15]\n",
      " [794 620]\n",
      " [458 994]]\n",
      "LP train seeds are saved to ./ondisk_dataset_homograph/lp-train-seeds.npy\n",
      "\n",
      "Part of val seeds for link prediction: [[767 704]\n",
      " [283 892]\n",
      " [770  15]]\n",
      "LP val seeds are saved to ./ondisk_dataset_homograph/lp-val-seeds.npy\n",
      "\n",
      "Part of val labels for link prediction: [1. 1. 1.]\n",
      "LP val labels are saved to ./ondisk_dataset_homograph/lp-val-labels.npy\n",
      "\n",
      "Part of val indexes for link prediction: [0 1 2]\n",
      "LP val indexes are saved to ./ondisk_dataset_homograph/lp-val-indexes.npy\n",
      "\n",
      "Part of test seeds for link prediction: [[671 229]\n",
      " [392  46]\n",
      " [338 990]]\n",
      "LP test seeds are saved to ./ondisk_dataset_homograph/lp-test-seeds.npy\n",
      "\n",
      "Part of val labels for link prediction: [1. 1. 1.]\n",
      "LP test labels are saved to ./ondisk_dataset_homograph/lp-test-labels.npy\n",
      "\n",
      "Part of test indexes for link prediction: [0 1 2]\n",
      "LP test indexes are saved to ./ondisk_dataset_homograph/lp-test-indexes.npy\n",
      "\n"
     ]
    }
   ],
   "source": [
    "num_trains = int(num_edges * 0.6)\n",
    "num_vals = int(num_edges * 0.2)\n",
    "num_tests = num_edges - num_trains - num_vals\n",
    "\n",
    "lp_train_seeds_path = os.path.join(base_dir, \"lp-train-seeds.npy\")\n",
    "lp_train_seeds = edges[:num_trains, :]\n",
    "print(f\"Part of train seeds for link prediction: {lp_train_seeds[:3]}\")\n",
    "np.save(lp_train_seeds_path, lp_train_seeds)\n",
    "print(f\"LP train seeds are saved to {lp_train_seeds_path}\\n\")\n",
    "\n",
    "lp_val_seeds_path = os.path.join(base_dir, \"lp-val-seeds.npy\")\n",
    "lp_val_seeds = edges[num_trains:num_trains+num_vals, :]\n",
    "lp_val_neg_dsts = np.random.randint(0, num_nodes, (num_vals, 10)).reshape(-1)\n",
    "lp_val_neg_srcs = np.repeat(lp_val_seeds[:,0], 10)\n",
    "lp_val_neg_seeds = np.concatenate((lp_val_neg_srcs, lp_val_neg_dsts)).reshape(2,-1).T\n",
    "lp_val_seeds = np.concatenate((lp_val_seeds, lp_val_neg_seeds))\n",
    "print(f\"Part of val seeds for link prediction: {lp_val_seeds[:3]}\")\n",
    "np.save(lp_val_seeds_path, lp_val_seeds)\n",
    "print(f\"LP val seeds are saved to {lp_val_seeds_path}\\n\")\n",
    "\n",
    "lp_val_labels_path = os.path.join(base_dir, \"lp-val-labels.npy\")\n",
    "lp_val_labels = np.empty(num_vals * (10 + 1))\n",
    "lp_val_labels[:num_vals] = 1\n",
    "lp_val_labels[num_vals:] = 0\n",
    "print(f\"Part of val labels for link prediction: {lp_val_labels[:3]}\")\n",
    "np.save(lp_val_labels_path, lp_val_labels)\n",
    "print(f\"LP val labels are saved to {lp_val_labels_path}\\n\")\n",
    "\n",
    "lp_val_indexes_path = os.path.join(base_dir, \"lp-val-indexes.npy\")\n",
    "lp_val_indexes = np.arange(0, num_vals)\n",
    "lp_val_neg_indexes = np.repeat(lp_val_indexes, 10)\n",
    "lp_val_indexes = np.concatenate([lp_val_indexes, lp_val_neg_indexes])\n",
    "print(f\"Part of val indexes for link prediction: {lp_val_indexes[:3]}\")\n",
    "np.save(lp_val_indexes_path, lp_val_indexes)\n",
    "print(f\"LP val indexes are saved to {lp_val_indexes_path}\\n\")\n",
    "\n",
    "lp_test_seeds_path = os.path.join(base_dir, \"lp-test-seeds.npy\")\n",
    "lp_test_seeds = edges[-num_tests:, :]\n",
    "lp_test_neg_dsts = np.random.randint(0, num_nodes, (num_tests, 10)).reshape(-1)\n",
    "lp_test_neg_srcs = np.repeat(lp_test_seeds[:,0], 10)\n",
    "lp_test_neg_seeds = np.concatenate((lp_test_neg_srcs, lp_test_neg_dsts)).reshape(2,-1).T\n",
    "lp_test_seeds = np.concatenate((lp_test_seeds, lp_test_neg_seeds))\n",
    "print(f\"Part of test seeds for link prediction: {lp_test_seeds[:3]}\")\n",
    "np.save(lp_test_seeds_path, lp_test_seeds)\n",
    "print(f\"LP test seeds are saved to {lp_test_seeds_path}\\n\")\n",
    "\n",
    "lp_test_labels_path = os.path.join(base_dir, \"lp-test-labels.npy\")\n",
    "lp_test_labels = np.empty(num_tests * (10 + 1))\n",
    "lp_test_labels[:num_tests] = 1\n",
    "lp_test_labels[num_tests:] = 0\n",
    "print(f\"Part of val labels for link prediction: {lp_test_labels[:3]}\")\n",
    "np.save(lp_test_labels_path, lp_test_labels)\n",
    "print(f\"LP test labels are saved to {lp_test_labels_path}\\n\")\n",
    "\n",
    "lp_test_indexes_path = os.path.join(base_dir, \"lp-test-indexes.npy\")\n",
    "lp_test_indexes = np.arange(0, num_tests)\n",
    "lp_test_neg_indexes = np.repeat(lp_test_indexes, 10)\n",
    "lp_test_indexes = np.concatenate([lp_test_indexes, lp_test_neg_indexes])\n",
    "print(f\"Part of test indexes for link prediction: {lp_test_indexes[:3]}\")\n",
    "np.save(lp_test_indexes_path, lp_test_indexes)\n",
    "print(f\"LP test indexes are saved to {lp_test_indexes_path}\\n\")"
   ]
  },
  {
   "cell_type": "markdown",
   "metadata": {
    "id": "wbk6-wxRK-6S"
   },
   "source": [
    "## Organize Data into YAML File\n",
    "Now we need to create a `metadata.yaml` file which contains the paths, dadta types of graph structure, feature data, training/validation/test sets.\n",
    "\n",
    "Notes:\n",
    "- all path should be relative to `metadata.yaml`.\n",
    "- Below fields are optional and not specified in below example.\n",
    "  - `in_memory`: indicates whether to load dada into memory or `mmap`. Default is `True`.\n",
    "\n",
    "Please refer to [YAML specification](https://github.com/dmlc/dgl/blob/master/docs/source/stochastic_training/ondisk-dataset-specification.rst) for more details."
   ]
  },
  {
   "cell_type": "code",
   "execution_count": 7,
   "metadata": {
    "execution": {
     "iopub.execute_input": "2024-09-18T03:33:44.966572Z",
     "iopub.status.busy": "2024-09-18T03:33:44.966375Z",
     "iopub.status.idle": "2024-09-18T03:33:44.971292Z",
     "shell.execute_reply": "2024-09-18T03:33:44.970797Z"
    },
    "id": "ddGTWW61Lpwp"
   },
   "outputs": [],
   "source": [
    "yaml_content = f\"\"\"\n",
    "    dataset_name: homogeneous_graph_nc_lp\n",
    "    graph:\n",
    "      nodes:\n",
    "        - num: {num_nodes}\n",
    "      edges:\n",
    "        - format: csv\n",
    "          path: {os.path.basename(edges_path)}\n",
    "    feature_data:\n",
    "      - domain: node\n",
    "        name: feat_0\n",
    "        format: numpy\n",
    "        path: {os.path.basename(node_feat_0_path)}\n",
    "      - domain: node\n",
    "        name: feat_1\n",
    "        format: torch\n",
    "        path: {os.path.basename(node_feat_1_path)}\n",
    "      - domain: edge\n",
    "        name: feat_0\n",
    "        format: numpy\n",
    "        path: {os.path.basename(edge_feat_0_path)}\n",
    "      - domain: edge\n",
    "        name: feat_1\n",
    "        format: torch\n",
    "        path: {os.path.basename(edge_feat_1_path)}\n",
    "    tasks:\n",
    "      - name: node_classification\n",
    "        num_classes: 10\n",
    "        train_set:\n",
    "          - data:\n",
    "              - name: seeds\n",
    "                format: numpy\n",
    "                path: {os.path.basename(nc_train_ids_path)}\n",
    "              - name: labels\n",
    "                format: torch\n",
    "                path: {os.path.basename(nc_train_labels_path)}\n",
    "        validation_set:\n",
    "          - data:\n",
    "              - name: seeds\n",
    "                format: numpy\n",
    "                path: {os.path.basename(nc_val_ids_path)}\n",
    "              - name: labels\n",
    "                format: torch\n",
    "                path: {os.path.basename(nc_val_labels_path)}\n",
    "        test_set:\n",
    "          - data:\n",
    "              - name: seeds\n",
    "                format: numpy\n",
    "                path: {os.path.basename(nc_test_ids_path)}\n",
    "              - name: labels\n",
    "                format: torch\n",
    "                path: {os.path.basename(nc_test_labels_path)}\n",
    "      - name: link_prediction\n",
    "        num_classes: 10\n",
    "        train_set:\n",
    "          - data:\n",
    "              - name: seeds\n",
    "                format: numpy\n",
    "                path: {os.path.basename(lp_train_seeds_path)}\n",
    "        validation_set:\n",
    "          - data:\n",
    "              - name: seeds\n",
    "                format: numpy\n",
    "                path: {os.path.basename(lp_val_seeds_path)}\n",
    "              - name: labels\n",
    "                format: numpy\n",
    "                path: {os.path.basename(lp_val_labels_path)}\n",
    "              - name: indexes\n",
    "                format: numpy\n",
    "                path: {os.path.basename(lp_val_indexes_path)}\n",
    "        test_set:\n",
    "          - data:\n",
    "              - name: seeds\n",
    "                format: numpy\n",
    "                path: {os.path.basename(lp_test_seeds_path)}\n",
    "              - name: labels\n",
    "                format: numpy\n",
    "                path: {os.path.basename(lp_test_labels_path)}\n",
    "              - name: indexes\n",
    "                format: numpy\n",
    "                path: {os.path.basename(lp_test_indexes_path)}\n",
    "\"\"\"\n",
    "metadata_path = os.path.join(base_dir, \"metadata.yaml\")\n",
    "with open(metadata_path, \"w\") as f:\n",
    "  f.write(yaml_content)"
   ]
  },
  {
   "cell_type": "markdown",
   "metadata": {
    "id": "kEfybHGhOW7O"
   },
   "source": [
    "## Instantiate `OnDiskDataset`\n",
    "Now we're ready to load dataset via `dgl.graphbolt.OnDiskDataset`. When instantiating, we just pass in the base directory where `metadata.yaml` file lies.\n",
    "\n",
    "During first instantiation, GraphBolt preprocesses the raw data such as constructing `FusedCSCSamplingGraph` from edges. All data including graph, feature data, training/validation/test sets are put into `preprocessed` directory after preprocessing. Any following dataset loading will skip the preprocess stage.\n",
    "\n",
    "After preprocessing, `load()` is required to be called explicitly in order to load graph, feature data and tasks."
   ]
  },
  {
   "cell_type": "code",
   "execution_count": 8,
   "metadata": {
    "execution": {
     "iopub.execute_input": "2024-09-18T03:33:44.973448Z",
     "iopub.status.busy": "2024-09-18T03:33:44.973149Z",
     "iopub.status.idle": "2024-09-18T03:33:45.036385Z",
     "shell.execute_reply": "2024-09-18T03:33:45.035869Z"
    },
    "id": "W58CZoSzOiyo"
   },
   "outputs": [
    {
     "name": "stdout",
     "output_type": "stream",
     "text": [
      "Start to preprocess the on-disk dataset.\n",
      "Finish preprocessing the on-disk dataset.\n",
      "Loaded graph: FusedCSCSamplingGraph(csc_indptr=tensor([    0,    11,    21,  ...,  9976,  9986, 10000], dtype=torch.int32),\n",
      "                      indices=tensor([605, 494, 555,  ..., 870, 448, 672], dtype=torch.int32),\n",
      "                      total_num_nodes=1000, num_edges=10000,)\n",
      "\n",
      "Loaded feature store: TorchBasedFeatureStore(\n",
      "    {(<OnDiskFeatureDataDomain.NODE: 'node'>, None, 'feat_0'): TorchBasedFeature(\n",
      "        feature=tensor([[0.5421, 0.4364, 0.3683, 0.0211, 0.9100],\n",
      "                        [0.1008, 0.4468, 0.1411, 0.8291, 0.7158],\n",
      "                        [0.6431, 0.9268, 0.7855, 0.2297, 0.0172],\n",
      "                        ...,\n",
      "                        [0.6757, 0.2520, 0.6695, 0.9887, 0.9204],\n",
      "                        [0.5632, 0.8422, 0.7800, 0.5611, 0.4316],\n",
      "                        [0.5412, 0.5128, 0.3967, 0.9173, 0.6627]], dtype=torch.float64),\n",
      "        metadata={},\n",
      "    ), (<OnDiskFeatureDataDomain.NODE: 'node'>, None, 'feat_1'): TorchBasedFeature(\n",
      "        feature=tensor([[0.7591, 0.8341, 0.8168, 0.4031, 0.9392],\n",
      "                        [0.2316, 0.5428, 0.2407, 0.4604, 0.9260],\n",
      "                        [0.9633, 0.6027, 0.0808, 0.1811, 0.3750],\n",
      "                        ...,\n",
      "                        [0.1442, 0.9652, 0.3569, 0.2507, 0.8106],\n",
      "                        [0.8920, 0.4614, 0.8626, 0.0895, 0.9341],\n",
      "                        [0.6152, 0.3351, 0.6739, 0.5326, 0.9582]]),\n",
      "        metadata={},\n",
      "    ), (<OnDiskFeatureDataDomain.EDGE: 'edge'>, None, 'feat_0'): TorchBasedFeature(\n",
      "        feature=tensor([[0.7366, 0.1120, 0.9100, 0.9506, 0.5222],\n",
      "                        [0.6737, 0.5037, 0.9762, 0.3152, 0.3952],\n",
      "                        [0.7807, 0.3747, 0.9532, 0.3569, 0.0438],\n",
      "                        ...,\n",
      "                        [0.7478, 0.6858, 0.3042, 0.5156, 0.4290],\n",
      "                        [0.5756, 0.7644, 0.0800, 0.4738, 0.3204],\n",
      "                        [0.8988, 0.1783, 0.4226, 0.9352, 0.5287]], dtype=torch.float64),\n",
      "        metadata={},\n",
      "    ), (<OnDiskFeatureDataDomain.EDGE: 'edge'>, None, 'feat_1'): TorchBasedFeature(\n",
      "        feature=tensor([[0.8946, 0.9518, 0.6386, 0.5634, 0.5203],\n",
      "                        [0.8685, 0.6943, 0.8661, 0.6767, 0.8034],\n",
      "                        [0.7194, 0.3865, 0.2485, 0.6264, 0.0186],\n",
      "                        ...,\n",
      "                        [0.1603, 0.2194, 0.6404, 0.2365, 0.0315],\n",
      "                        [0.6756, 0.8464, 0.5110, 0.1009, 0.1820],\n",
      "                        [0.6431, 0.5997, 0.8544, 0.4989, 0.4683]]),\n",
      "        metadata={},\n",
      "    )}\n",
      ")\n",
      "\n",
      "Loaded node classification task: OnDiskTask(validation_set=ItemSet(\n",
      "               items=(tensor([269, 121, 134,  99, 655, 337, 624,  21, 489, 254, 737, 897, 209, 866,\n",
      "                   799, 938, 275,  34, 611, 147, 493, 458, 359,  41,  37, 148,  18, 937,\n",
      "                    85, 967, 534, 213,   9, 725,  89, 330, 594, 885, 407,  43, 296, 632,\n",
      "                   979, 475, 371, 378, 862, 410, 953, 833, 751, 795, 832, 815, 261,  74,\n",
      "                   501, 358, 349, 613,  59, 989, 339, 902, 796, 234, 916,  77, 689, 315,\n",
      "                   581, 748, 127, 541, 160,   4, 606, 396, 386, 617,  86,  87, 154, 467,\n",
      "                   566, 912, 671,  88, 200,  70, 950, 930, 273, 399, 307, 659, 504, 476,\n",
      "                   782, 949, 260, 886, 980,  14, 674, 508, 419, 973, 974, 145, 583,  11,\n",
      "                   887, 775, 600, 749, 542, 114, 811, 539, 639, 985, 735, 462, 159, 549,\n",
      "                   758, 102, 150, 700, 586,  56, 417, 767, 645,   0, 772, 170, 698, 765,\n",
      "                   423, 278, 827, 336, 976, 323, 376, 190, 140, 228, 819, 126, 615, 913,\n",
      "                   491, 256, 743, 142, 311, 370, 383, 214, 354,  82, 434, 717,  49, 239,\n",
      "                   702,  71, 155, 433, 137,   8, 175, 752, 272, 696, 455, 590, 574, 924,\n",
      "                   881, 692, 257, 367, 518, 871, 779, 375, 830, 143, 113, 495, 250, 320,\n",
      "                    98, 739, 568, 124], dtype=torch.int32), tensor([4, 3, 5, 2, 3, 5, 5, 8, 7, 8, 1, 4, 3, 2, 6, 8, 1, 5, 8, 6, 8, 8, 9, 4,\n",
      "                   9, 8, 6, 8, 7, 2, 4, 7, 0, 2, 5, 4, 0, 1, 7, 0, 8, 7, 2, 8, 1, 8, 8, 6,\n",
      "                   9, 5, 2, 7, 0, 1, 1, 3, 6, 2, 2, 9, 0, 6, 7, 5, 1, 7, 9, 1, 4, 3, 5, 9,\n",
      "                   9, 4, 6, 3, 5, 0, 4, 4, 2, 0, 7, 7, 5, 7, 5, 7, 3, 5, 9, 7, 2, 0, 0, 5,\n",
      "                   5, 3, 6, 8, 8, 3, 3, 3, 5, 6, 2, 4, 2, 9, 7, 8, 7, 6, 2, 7, 7, 2, 2, 3,\n",
      "                   6, 5, 3, 7, 8, 2, 6, 2, 0, 5, 2, 7, 1, 0, 3, 8, 2, 4, 1, 3, 0, 2, 8, 5,\n",
      "                   4, 6, 3, 3, 9, 4, 4, 8, 2, 0, 9, 7, 8, 2, 1, 3, 5, 3, 4, 9, 9, 4, 6, 7,\n",
      "                   3, 1, 8, 6, 6, 0, 4, 6, 0, 4, 8, 5, 2, 6, 4, 1, 5, 2, 8, 6, 6, 7, 1, 9,\n",
      "                   5, 8, 3, 6, 3, 0, 7, 9])),\n",
      "               names=('seeds', 'labels'),\n",
      "           ),\n",
      "           train_set=ItemSet(\n",
      "               items=(tensor([252, 771, 392, 173, 676,  75,  20, 478, 908, 797, 104, 999, 712, 766,\n",
      "                     2,  66, 882, 184, 158, 283, 312, 970, 888,  39, 346, 720, 231, 802,\n",
      "                   341, 914, 906,  31, 780, 308, 837,  27,  28, 471, 592, 492, 225, 263,\n",
      "                   706, 282, 662, 388, 187, 345, 300, 631, 432, 919,  91,  23, 756, 277,\n",
      "                    13, 117, 770, 877, 609, 564, 850, 326, 268,  46, 875, 681, 707, 360,\n",
      "                   843, 722, 427, 289, 515, 784, 588, 892, 115, 340, 130, 889, 299, 391,\n",
      "                   977, 290, 915, 416, 288, 793, 567, 920, 622,  47,   3, 616, 174, 757,\n",
      "                   911, 298, 582, 451, 607, 514, 240, 494, 864, 463, 528, 548,  24, 736,\n",
      "                   691, 523, 372, 460, 477, 623, 768, 224, 532,  55, 519, 943, 347, 715,\n",
      "                   593,  33, 988, 259,  84, 954, 182, 965, 111, 894, 716, 418, 414, 962,\n",
      "                   236, 972, 461, 172, 643, 990, 741, 646,  93, 219, 522, 138, 587,   5,\n",
      "                   686, 484, 511, 670, 385, 449, 206, 472,   1, 939, 284, 109, 207, 474,\n",
      "                   929, 286, 605, 545, 171, 535,  69, 597, 442, 430, 420, 844,  83, 818,\n",
      "                    30, 301, 196, 585, 525, 408, 485, 874, 669, 675, 459, 496, 834, 746,\n",
      "                   742, 241, 156, 744, 552, 112, 267, 718, 870, 377, 526, 264, 136, 118,\n",
      "                   755, 481, 896, 761, 309, 276, 381, 212, 405, 238, 531, 162, 197, 186,\n",
      "                   731,  16, 512, 610,  61, 621, 644, 208, 800, 984, 547, 728, 668, 738,\n",
      "                   969, 450, 393, 642,  12, 480, 721, 824, 798, 318, 595, 629, 961, 324,\n",
      "                   647, 853, 810, 129, 901,  26, 658, 223, 466, 553, 626, 470, 710, 110,\n",
      "                    38,  22, 516, 991, 351, 673, 998, 931, 217, 933, 627, 809, 443, 500,\n",
      "                   971, 314, 569, 633,  53,  81, 342, 867, 409, 922, 729, 436,  95, 960,\n",
      "                   128, 122, 551, 997, 695, 905, 935, 437, 763, 730, 640, 100, 220, 958,\n",
      "                   394, 291, 591, 942, 560, 425, 878, 814, 497, 321, 237, 672, 538, 805,\n",
      "                   454, 918, 936,  65, 899,  68, 957, 893, 791, 482, 316, 570, 652,  73,\n",
      "                   431, 403,  48, 932, 364, 855, 295, 226, 557, 697, 903, 578, 825, 577,\n",
      "                   366, 201,  51, 144,  94, 910, 677, 589, 816, 637, 103, 181, 978, 884,\n",
      "                   705, 322, 781, 841, 194, 909, 247, 266, 986, 614, 464, 428, 524, 498,\n",
      "                   682, 813, 687, 292, 983, 946, 982, 166, 152, 373, 895, 167, 510, 297,\n",
      "                   876,  52, 343, 941, 211, 401, 842, 703, 880, 426, 863, 203, 249, 792,\n",
      "                   575, 303, 279, 774, 860, 693, 465, 424, 650, 488, 486,  19, 747, 734,\n",
      "                   898,  10, 204, 806, 245, 604, 925, 402, 840, 694,  80, 406, 602, 327,\n",
      "                   503, 776, 812, 506, 310, 856, 271, 723, 490, 803, 439, 778, 628, 395,\n",
      "                   382, 956, 513, 248, 921, 139, 788, 904, 348, 229, 120, 845,  57, 966,\n",
      "                   745, 246,  42, 397, 235, 440, 101,  15, 636, 368, 363, 157, 369, 183,\n",
      "                     7, 664, 356, 808, 804, 281, 927, 198, 151, 365, 537, 634, 361, 708,\n",
      "                   384, 270, 572,  79, 858, 641, 179, 550, 828, 125, 849,  50, 473, 651,\n",
      "                   733, 750, 108, 338, 274, 783, 993, 562, 753, 603, 215, 468, 944, 857,\n",
      "                   456,  32, 648, 556, 968, 685, 398, 684, 505, 165, 831, 544, 302, 374,\n",
      "                   287, 727,  29, 177, 987, 661, 869, 332, 760, 726, 119, 996, 618, 149,\n",
      "                   873,  44, 573, 168, 947, 563, 599, 176, 304, 251,  67, 178, 576, 555,\n",
      "                   580, 995, 764, 683, 180, 411, 441, 656, 543, 379, 221, 429, 759, 713,\n",
      "                   105, 786, 517, 389, 412,   6, 445, 344, 773, 852, 787, 230, 404, 317,\n",
      "                   801, 584, 928,  97, 233, 218, 865, 438, 533, 191, 790, 189],\n",
      "                  dtype=torch.int32), tensor([8, 7, 7, 4, 2, 9, 2, 7, 3, 8, 2, 1, 8, 3, 7, 5, 9, 0, 5, 9, 1, 7, 6, 7,\n",
      "                   3, 4, 1, 5, 9, 8, 2, 9, 8, 0, 3, 2, 3, 4, 8, 4, 4, 1, 8, 8, 3, 4, 4, 3,\n",
      "                   1, 3, 0, 5, 2, 3, 3, 7, 5, 0, 0, 3, 4, 6, 7, 3, 3, 4, 8, 5, 3, 1, 8, 5,\n",
      "                   2, 1, 3, 3, 3, 5, 8, 1, 7, 4, 0, 8, 4, 7, 7, 4, 8, 0, 5, 8, 9, 7, 9, 6,\n",
      "                   2, 1, 0, 8, 2, 5, 7, 0, 5, 1, 1, 1, 5, 7, 7, 2, 3, 1, 2, 9, 2, 8, 4, 8,\n",
      "                   7, 9, 2, 7, 2, 5, 3, 6, 8, 4, 9, 2, 5, 6, 1, 8, 7, 9, 4, 5, 1, 1, 9, 9,\n",
      "                   0, 5, 7, 2, 1, 5, 2, 8, 0, 8, 6, 6, 0, 4, 4, 3, 8, 9, 2, 7, 5, 9, 4, 5,\n",
      "                   5, 2, 3, 4, 7, 5, 4, 7, 2, 2, 5, 6, 6, 9, 9, 2, 9, 8, 0, 5, 6, 8, 6, 8,\n",
      "                   8, 4, 4, 9, 3, 4, 4, 0, 6, 8, 7, 5, 2, 0, 1, 1, 7, 3, 1, 9, 9, 2, 0, 3,\n",
      "                   3, 9, 1, 3, 6, 4, 4, 5, 8, 6, 5, 3, 4, 4, 4, 8, 1, 0, 2, 3, 3, 5, 2, 4,\n",
      "                   1, 5, 3, 3, 6, 5, 1, 5, 5, 6, 3, 0, 3, 9, 9, 4, 3, 0, 4, 4, 5, 1, 7, 7,\n",
      "                   0, 9, 0, 2, 3, 7, 6, 2, 0, 3, 4, 7, 1, 7, 4, 8, 2, 0, 5, 6, 6, 1, 8, 5,\n",
      "                   6, 0, 2, 8, 5, 0, 4, 9, 9, 0, 0, 5, 5, 6, 8, 9, 6, 2, 5, 3, 8, 5, 5, 7,\n",
      "                   1, 1, 1, 7, 8, 9, 9, 7, 0, 0, 6, 2, 0, 6, 6, 5, 0, 4, 5, 3, 0, 2, 8, 7,\n",
      "                   5, 1, 2, 1, 7, 2, 5, 4, 0, 2, 2, 4, 1, 7, 0, 6, 7, 7, 3, 4, 9, 0, 3, 2,\n",
      "                   4, 8, 1, 7, 0, 1, 8, 2, 3, 1, 2, 3, 8, 1, 5, 9, 4, 9, 4, 2, 1, 8, 7, 0,\n",
      "                   9, 0, 2, 8, 2, 3, 8, 8, 5, 6, 0, 7, 8, 2, 3, 5, 8, 3, 1, 9, 8, 4, 1, 7,\n",
      "                   5, 3, 7, 0, 7, 8, 0, 9, 2, 6, 3, 7, 1, 1, 7, 4, 4, 3, 3, 6, 2, 5, 2, 7,\n",
      "                   2, 3, 5, 4, 1, 8, 2, 0, 0, 3, 0, 7, 2, 9, 0, 0, 2, 9, 3, 1, 5, 0, 9, 6,\n",
      "                   5, 5, 7, 1, 4, 4, 2, 5, 5, 3, 6, 2, 7, 3, 1, 2, 4, 7, 8, 3, 1, 6, 1, 2,\n",
      "                   2, 1, 1, 4, 5, 4, 1, 3, 0, 2, 7, 2, 1, 5, 5, 3, 1, 1, 0, 5, 6, 8, 3, 5,\n",
      "                   8, 6, 4, 3, 0, 2, 5, 5, 1, 4, 5, 5, 2, 7, 2, 2, 7, 7, 2, 0, 5, 9, 6, 1,\n",
      "                   1, 1, 9, 2, 0, 9, 4, 7, 2, 6, 9, 2, 7, 1, 4, 4, 3, 9, 8, 0, 4, 5, 8, 5,\n",
      "                   5, 7, 3, 7, 3, 6, 8, 4, 6, 0, 8, 2, 6, 6, 5, 0, 1, 8, 4, 2, 1, 7, 3, 6,\n",
      "                   8, 0, 4, 4, 6, 0, 8, 5, 2, 8, 0, 0, 6, 8, 0, 7, 4, 0, 0, 4, 5, 3, 5, 6])),\n",
      "               names=('seeds', 'labels'),\n",
      "           ),\n",
      "           test_set=ItemSet(\n",
      "               items=(tensor([146, 153, 350, 951, 107, 255, 975,  25, 210, 306, 836, 244, 216, 243,\n",
      "                   536, 195, 380, 820, 890, 448, 265, 678, 868, 596, 992, 612, 133, 769,\n",
      "                   546, 635, 859, 851, 688, 923, 665,  45,  72, 926, 847, 846, 242, 948,\n",
      "                   638, 390, 357, 141, 193, 362, 848, 838, 891, 732, 335, 446, 188, 630,\n",
      "                   719, 883, 959, 329, 709, 653, 598, 413, 654,  90, 527, 487,  35, 294,\n",
      "                   285, 507, 699, 319, 530, 529, 280, 334, 571, 227, 355, 785,  76, 483,\n",
      "                   619, 453, 554, 608, 789, 161, 559, 205, 540, 353, 565, 131, 839, 690,\n",
      "                   422, 558, 415, 232,  78, 435, 400, 199, 821, 701, 829, 305, 907, 879,\n",
      "                   777, 740, 794,  17, 387,  62, 169, 994, 620, 601, 754, 711, 835, 293,\n",
      "                   192,  63, 509, 826, 421, 352, 135, 945, 202, 313,  40, 457, 444, 333,\n",
      "                   116,  58,  92, 823, 679, 704, 262, 955, 660, 328, 657, 123, 917, 762,\n",
      "                   331, 667, 502, 724, 132, 561, 854, 258,  60, 981, 253, 822, 940, 222,\n",
      "                   872, 666, 807, 649, 325,  96, 934, 663, 900, 499, 817, 106, 964, 625,\n",
      "                   952, 680, 185, 163,  36,  64, 520, 963, 164, 861, 447, 452, 521,  54,\n",
      "                   469, 714, 479, 579], dtype=torch.int32), tensor([5, 7, 1, 8, 5, 5, 0, 2, 0, 0, 0, 1, 3, 7, 1, 6, 9, 5, 6, 0, 9, 6, 9, 4,\n",
      "                   5, 4, 5, 1, 6, 2, 6, 3, 5, 5, 6, 7, 3, 7, 0, 3, 5, 1, 7, 1, 0, 6, 1, 1,\n",
      "                   3, 4, 0, 9, 5, 8, 7, 8, 1, 1, 8, 7, 3, 8, 0, 9, 3, 0, 6, 1, 0, 4, 1, 4,\n",
      "                   9, 0, 1, 0, 3, 0, 0, 3, 3, 8, 0, 8, 6, 1, 9, 4, 4, 3, 3, 5, 2, 7, 2, 5,\n",
      "                   5, 1, 9, 8, 9, 4, 3, 4, 1, 1, 1, 8, 2, 6, 4, 7, 5, 8, 1, 7, 2, 5, 9, 8,\n",
      "                   4, 2, 3, 9, 5, 1, 6, 0, 8, 6, 8, 0, 0, 2, 0, 6, 6, 7, 5, 6, 3, 5, 9, 6,\n",
      "                   7, 8, 1, 5, 6, 2, 6, 6, 8, 6, 3, 1, 2, 8, 0, 8, 9, 3, 0, 7, 9, 2, 6, 2,\n",
      "                   8, 2, 9, 9, 5, 2, 6, 1, 5, 8, 1, 1, 9, 3, 7, 0, 4, 4, 9, 1, 6, 9, 1, 6,\n",
      "                   3, 4, 0, 2, 9, 5, 7, 0])),\n",
      "               names=('seeds', 'labels'),\n",
      "           ),\n",
      "           metadata={'name': 'node_classification', 'num_classes': 10},)\n",
      "\n",
      "Loaded link prediction task: OnDiskTask(validation_set=ItemSet(\n",
      "               items=(tensor([[767, 704],\n",
      "                   [283, 892],\n",
      "                   [770,  15],\n",
      "                   ...,\n",
      "                   [583, 740],\n",
      "                   [583, 271],\n",
      "                   [583, 868]], dtype=torch.int32), tensor([1., 1., 1.,  ..., 0., 0., 0.], dtype=torch.float64), tensor([   0,    1,    2,  ..., 1999, 1999, 1999])),\n",
      "               names=('seeds', 'labels', 'indexes'),\n",
      "           ),\n",
      "           train_set=ItemSet(\n",
      "               items=(tensor([[387,  15],\n",
      "                   [794, 620],\n",
      "                   [458, 994],\n",
      "                   ...,\n",
      "                   [297,  87],\n",
      "                   [248, 553],\n",
      "                   [191, 285]], dtype=torch.int32),),\n",
      "               names=('seeds',),\n",
      "           ),\n",
      "           test_set=ItemSet(\n",
      "               items=(tensor([[671, 229],\n",
      "                   [392,  46],\n",
      "                   [338, 990],\n",
      "                   ...,\n",
      "                   [568, 654],\n",
      "                   [568, 132],\n",
      "                   [568, 605]], dtype=torch.int32), tensor([1., 1., 1.,  ..., 0., 0., 0.], dtype=torch.float64), tensor([   0,    1,    2,  ..., 1999, 1999, 1999])),\n",
      "               names=('seeds', 'labels', 'indexes'),\n",
      "           ),\n",
      "           metadata={'name': 'link_prediction', 'num_classes': 10},)\n",
      "\n"
     ]
    },
    {
     "name": "stderr",
     "output_type": "stream",
     "text": [
      "/home/ubuntu/dgl_test/python/dgl/graphbolt/internal/utils.py:31: FutureWarning: You are using `torch.load` with `weights_only=False` (the current default value), which uses the default pickle module implicitly. It is possible to construct malicious pickle data which will execute arbitrary code during unpickling (See https://github.com/pytorch/pytorch/blob/main/SECURITY.md#untrusted-models for more details). In a future release, the default value for `weights_only` will be flipped to `True`. This limits the functions that could be executed during unpickling. Arbitrary objects will no longer be allowed to be loaded via this mode unless they are explicitly allowlisted by the user via `torch.serialization.add_safe_globals`. We recommend you start setting `weights_only=True` for any use case where you don't have full control of the loaded file. Please open an issue on GitHub for any issues related to this experimental feature.\n",
      "  return torch.load(path)\n",
      "/home/ubuntu/dgl_test/python/dgl/graphbolt/impl/ondisk_dataset.py:463: GBWarning: Edge feature is stored, but edge IDs are not saved.\n",
      "  gb_warning(\"Edge feature is stored, but edge IDs are not saved.\")\n",
      "/home/ubuntu/dgl_test/python/dgl/graphbolt/impl/ondisk_dataset.py:855: FutureWarning: You are using `torch.load` with `weights_only=False` (the current default value), which uses the default pickle module implicitly. It is possible to construct malicious pickle data which will execute arbitrary code during unpickling (See https://github.com/pytorch/pytorch/blob/main/SECURITY.md#untrusted-models for more details). In a future release, the default value for `weights_only` will be flipped to `True`. This limits the functions that could be executed during unpickling. Arbitrary objects will no longer be allowed to be loaded via this mode unless they are explicitly allowlisted by the user via `torch.serialization.add_safe_globals`. We recommend you start setting `weights_only=True` for any use case where you don't have full control of the loaded file. Please open an issue on GitHub for any issues related to this experimental feature.\n",
      "  return torch.load(graph_topology.path)\n"
     ]
    }
   ],
   "source": [
    "dataset = gb.OnDiskDataset(base_dir).load()\n",
    "graph = dataset.graph\n",
    "print(f\"Loaded graph: {graph}\\n\")\n",
    "\n",
    "feature = dataset.feature\n",
    "print(f\"Loaded feature store: {feature}\\n\")\n",
    "\n",
    "tasks = dataset.tasks\n",
    "nc_task = tasks[0]\n",
    "print(f\"Loaded node classification task: {nc_task}\\n\")\n",
    "lp_task = tasks[1]\n",
    "print(f\"Loaded link prediction task: {lp_task}\\n\")"
   ]
  }
 ],
 "metadata": {
  "colab": {
   "private_outputs": true,
   "provenance": []
  },
  "kernelspec": {
   "display_name": "Python 3",
   "name": "python3"
  },
  "language_info": {
   "codemirror_mode": {
    "name": "ipython",
    "version": 3
   },
   "file_extension": ".py",
   "mimetype": "text/x-python",
   "name": "python",
   "nbconvert_exporter": "python",
   "pygments_lexer": "ipython3",
   "version": "3.10.14"
  }
 },
 "nbformat": 4,
 "nbformat_minor": 0
}

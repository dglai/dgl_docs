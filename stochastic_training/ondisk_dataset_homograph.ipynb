{
 "cells": [
  {
   "cell_type": "markdown",
   "metadata": {
    "id": "FnFhPMaAfLtJ"
   },
   "source": [
    "# OnDiskDataset for Homogeneous Graph\n",
    "\n",
    "[![Open In Colab](https://colab.research.google.com/assets/colab-badge.svg)](https://colab.research.google.com/github/dmlc/dgl/blob/master/notebooks/stochastic_training/ondisk_dataset_homograph.ipynb) [![GitHub](https://img.shields.io/badge/-View%20on%20GitHub-181717?logo=github&logoColor=ffffff)](https://github.com/dmlc/dgl/blob/master/notebooks/stochastic_training/ondisk_dataset_homograph.ipynb)\n",
    "\n",
    "This tutorial shows how to create `OnDiskDataset` for homogeneous graph that could be used in **GraphBolt** framework.\n",
    "\n",
    "By the end of this tutorial, you will be able to\n",
    "\n",
    "- organize graph structure data.\n",
    "- organize feature data.\n",
    "- organize training/validation/test set for specific tasks.\n",
    "\n",
    "To create an ``OnDiskDataset`` object, you need to organize all the data including graph structure, feature data and tasks into a directory. The directory should contain a ``metadata.yaml`` file that describes the metadata of the dataset.\n",
    "\n",
    "Now let's generate various data step by step and organize them together to instantiate `OnDiskDataset` finally."
   ]
  },
  {
   "cell_type": "markdown",
   "metadata": {
    "id": "Wlb19DtWgtzq"
   },
   "source": [
    "## Install DGL package"
   ]
  },
  {
   "cell_type": "code",
   "execution_count": 1,
   "metadata": {
    "execution": {
     "iopub.execute_input": "2024-09-23T13:18:37.625300Z",
     "iopub.status.busy": "2024-09-23T13:18:37.624887Z",
     "iopub.status.idle": "2024-09-23T13:18:40.661037Z",
     "shell.execute_reply": "2024-09-23T13:18:40.659898Z"
    },
    "id": "UojlT9ZGgyr9"
   },
   "outputs": [
    {
     "name": "stdout",
     "output_type": "stream",
     "text": [
      "Looking in links: https://data.dgl.ai/wheels-test/repo.html\r\n",
      "Requirement already satisfied: dgl in /opt/conda/envs/dgl-dev-cpu/lib/python3.10/site-packages (2.2a240410)\r\n",
      "Requirement already satisfied: numpy>=1.14.0 in /opt/conda/envs/dgl-dev-cpu/lib/python3.10/site-packages (from dgl) (1.26.4)\r\n",
      "Requirement already satisfied: scipy>=1.1.0 in /opt/conda/envs/dgl-dev-cpu/lib/python3.10/site-packages (from dgl) (1.14.1)\r\n",
      "Requirement already satisfied: networkx>=2.1 in /opt/conda/envs/dgl-dev-cpu/lib/python3.10/site-packages (from dgl) (3.3)\r\n",
      "Requirement already satisfied: requests>=2.19.0 in /opt/conda/envs/dgl-dev-cpu/lib/python3.10/site-packages (from dgl) (2.32.3)\r\n",
      "Requirement already satisfied: tqdm in /opt/conda/envs/dgl-dev-cpu/lib/python3.10/site-packages (from dgl) (4.66.5)\r\n",
      "Requirement already satisfied: psutil>=5.8.0 in /opt/conda/envs/dgl-dev-cpu/lib/python3.10/site-packages (from dgl) (6.0.0)\r\n",
      "Requirement already satisfied: torchdata>=0.5.0 in /opt/conda/envs/dgl-dev-cpu/lib/python3.10/site-packages (from dgl) (0.8.0)\r\n",
      "Requirement already satisfied: pandas in /opt/conda/envs/dgl-dev-cpu/lib/python3.10/site-packages (from dgl) (2.2.3)\r\n"
     ]
    },
    {
     "name": "stdout",
     "output_type": "stream",
     "text": [
      "Requirement already satisfied: charset-normalizer<4,>=2 in /opt/conda/envs/dgl-dev-cpu/lib/python3.10/site-packages (from requests>=2.19.0->dgl) (3.3.2)\r\n",
      "Requirement already satisfied: idna<4,>=2.5 in /opt/conda/envs/dgl-dev-cpu/lib/python3.10/site-packages (from requests>=2.19.0->dgl) (3.10)\r\n",
      "Requirement already satisfied: urllib3<3,>=1.21.1 in /opt/conda/envs/dgl-dev-cpu/lib/python3.10/site-packages (from requests>=2.19.0->dgl) (2.2.3)\r\n",
      "Requirement already satisfied: certifi>=2017.4.17 in /opt/conda/envs/dgl-dev-cpu/lib/python3.10/site-packages (from requests>=2.19.0->dgl) (2024.8.30)\r\n",
      "Requirement already satisfied: torch>=2 in /opt/conda/envs/dgl-dev-cpu/lib/python3.10/site-packages (from torchdata>=0.5.0->dgl) (2.1.0+cpu)\r\n"
     ]
    },
    {
     "name": "stdout",
     "output_type": "stream",
     "text": [
      "Requirement already satisfied: python-dateutil>=2.8.2 in /opt/conda/envs/dgl-dev-cpu/lib/python3.10/site-packages (from pandas->dgl) (2.9.0.post0)\r\n",
      "Requirement already satisfied: pytz>=2020.1 in /opt/conda/envs/dgl-dev-cpu/lib/python3.10/site-packages (from pandas->dgl) (2024.2)\r\n",
      "Requirement already satisfied: tzdata>=2022.7 in /opt/conda/envs/dgl-dev-cpu/lib/python3.10/site-packages (from pandas->dgl) (2024.1)\r\n",
      "Requirement already satisfied: six>=1.5 in /opt/conda/envs/dgl-dev-cpu/lib/python3.10/site-packages (from python-dateutil>=2.8.2->pandas->dgl) (1.16.0)\r\n",
      "Requirement already satisfied: filelock in /opt/conda/envs/dgl-dev-cpu/lib/python3.10/site-packages (from torch>=2->torchdata>=0.5.0->dgl) (3.16.1)\r\n",
      "Requirement already satisfied: typing-extensions in /opt/conda/envs/dgl-dev-cpu/lib/python3.10/site-packages (from torch>=2->torchdata>=0.5.0->dgl) (4.12.2)\r\n",
      "Requirement already satisfied: sympy in /opt/conda/envs/dgl-dev-cpu/lib/python3.10/site-packages (from torch>=2->torchdata>=0.5.0->dgl) (1.13.3)\r\n",
      "Requirement already satisfied: jinja2 in /opt/conda/envs/dgl-dev-cpu/lib/python3.10/site-packages (from torch>=2->torchdata>=0.5.0->dgl) (3.1.4)\r\n",
      "Requirement already satisfied: fsspec in /opt/conda/envs/dgl-dev-cpu/lib/python3.10/site-packages (from torch>=2->torchdata>=0.5.0->dgl) (2024.9.0)\r\n"
     ]
    },
    {
     "name": "stdout",
     "output_type": "stream",
     "text": [
      "Requirement already satisfied: MarkupSafe>=2.0 in /opt/conda/envs/dgl-dev-cpu/lib/python3.10/site-packages (from jinja2->torch>=2->torchdata>=0.5.0->dgl) (2.1.5)\r\n",
      "Requirement already satisfied: mpmath<1.4,>=1.1.0 in /opt/conda/envs/dgl-dev-cpu/lib/python3.10/site-packages (from sympy->torch>=2->torchdata>=0.5.0->dgl) (1.3.0)\r\n"
     ]
    },
    {
     "name": "stdout",
     "output_type": "stream",
     "text": [
      "\u001b[33mWARNING: Running pip as the 'root' user can result in broken permissions and conflicting behaviour with the system package manager, possibly rendering your system unusable.It is recommended to use a virtual environment instead: https://pip.pypa.io/warnings/venv. Use the --root-user-action option if you know what you are doing and want to suppress this warning.\u001b[0m\u001b[33m\r\n",
      "\u001b[0m"
     ]
    },
    {
     "name": "stdout",
     "output_type": "stream",
     "text": [
      "DGL installed!\n"
     ]
    }
   ],
   "source": [
    "# Install required packages.\n",
    "import os\n",
    "import torch\n",
    "import numpy as np\n",
    "os.environ['TORCH'] = torch.__version__\n",
    "os.environ['DGLBACKEND'] = \"pytorch\"\n",
    "\n",
    "# Install the CPU version.\n",
    "device = torch.device(\"cpu\")\n",
    "!pip install --pre dgl -f https://data.dgl.ai/wheels-test/repo.html\n",
    "\n",
    "try:\n",
    "    import dgl\n",
    "    import dgl.graphbolt as gb\n",
    "    installed = True\n",
    "except ImportError as error:\n",
    "    installed = False\n",
    "    print(error)\n",
    "print(\"DGL installed!\" if installed else \"DGL not found!\")"
   ]
  },
  {
   "cell_type": "markdown",
   "metadata": {
    "id": "2R7WnSbjsfbr"
   },
   "source": [
    "## Data preparation\n",
    "In order to demonstrate how to organize various data, let's create a base directory first."
   ]
  },
  {
   "cell_type": "code",
   "execution_count": 2,
   "metadata": {
    "execution": {
     "iopub.execute_input": "2024-09-23T13:18:40.664857Z",
     "iopub.status.busy": "2024-09-23T13:18:40.663659Z",
     "iopub.status.idle": "2024-09-23T13:18:40.669647Z",
     "shell.execute_reply": "2024-09-23T13:18:40.668600Z"
    },
    "id": "SZipbzyltLfO"
   },
   "outputs": [
    {
     "name": "stdout",
     "output_type": "stream",
     "text": [
      "Created base directory: ./ondisk_dataset_homograph\n"
     ]
    }
   ],
   "source": [
    "base_dir = './ondisk_dataset_homograph'\n",
    "os.makedirs(base_dir, exist_ok=True)\n",
    "print(f\"Created base directory: {base_dir}\")"
   ]
  },
  {
   "cell_type": "markdown",
   "metadata": {
    "id": "qhNtIn_xhlnl"
   },
   "source": [
    "### Generate graph structure data\n",
    "For homogeneous graph, we just need to save edges(namely seeds) into  **Numpy** or **CSV** file.\n",
    "\n",
    "Note:\n",
    "- when saving to **Numpy**, the array requires to be in shape of `(2, N)`. This format is recommended as constructing graph from it is much faster than **CSV** file.\n",
    "- when saving to **CSV** file, do not save index and header.\n"
   ]
  },
  {
   "cell_type": "code",
   "execution_count": 3,
   "metadata": {
    "execution": {
     "iopub.execute_input": "2024-09-23T13:18:40.672561Z",
     "iopub.status.busy": "2024-09-23T13:18:40.671818Z",
     "iopub.status.idle": "2024-09-23T13:18:40.689909Z",
     "shell.execute_reply": "2024-09-23T13:18:40.685300Z"
    },
    "id": "HcBt4G5BmSjr"
   },
   "outputs": [
    {
     "name": "stdout",
     "output_type": "stream",
     "text": [
      "Part of edges: [[485 444]\n",
      " [551 773]\n",
      " [272 578]\n",
      " [849 846]\n",
      " [ 18 657]]\n",
      "Edges are saved into ./ondisk_dataset_homograph/edges.csv\n"
     ]
    }
   ],
   "source": [
    "import numpy as np\n",
    "import pandas as pd\n",
    "num_nodes = 1000\n",
    "num_edges = 10 * num_nodes\n",
    "edges_path = os.path.join(base_dir, \"edges.csv\")\n",
    "edges = np.random.randint(0, num_nodes, size=(num_edges, 2))\n",
    "\n",
    "print(f\"Part of edges: {edges[:5, :]}\")\n",
    "\n",
    "df = pd.DataFrame(edges)\n",
    "df.to_csv(edges_path, index=False, header=False)\n",
    "\n",
    "print(f\"Edges are saved into {edges_path}\")"
   ]
  },
  {
   "cell_type": "markdown",
   "metadata": {
    "id": "kh-4cPtzpcaH"
   },
   "source": [
    "### Generate feature data for graph\n",
    "For feature data, numpy arrays and torch tensors are supported for now."
   ]
  },
  {
   "cell_type": "code",
   "execution_count": 4,
   "metadata": {
    "execution": {
     "iopub.execute_input": "2024-09-23T13:18:40.692296Z",
     "iopub.status.busy": "2024-09-23T13:18:40.691908Z",
     "iopub.status.idle": "2024-09-23T13:18:40.707493Z",
     "shell.execute_reply": "2024-09-23T13:18:40.706518Z"
    },
    "id": "_PVu1u5brBhF"
   },
   "outputs": [
    {
     "name": "stdout",
     "output_type": "stream",
     "text": [
      "Part of node feature [feat_0]: [[0.85544863 0.56109526 0.06038579 0.87053923 0.01880041]\n",
      " [0.99607032 0.4445901  0.37489291 0.43283193 0.71100854]\n",
      " [0.52232321 0.09938074 0.95567731 0.96325672 0.57084458]]\n",
      "Node feature [feat_0] is saved to ./ondisk_dataset_homograph/node-feat-0.npy\n",
      "\n",
      "Part of node feature [feat_1]: tensor([[0.6655, 0.3756, 0.1587, 0.1309, 0.9517],\n",
      "        [0.4566, 0.2337, 0.9440, 0.9184, 0.6320],\n",
      "        [0.4067, 0.0864, 0.5118, 0.2637, 0.9060]])\n",
      "Node feature [feat_1] is saved to ./ondisk_dataset_homograph/node-feat-1.pt\n",
      "\n",
      "Part of edge feature [feat_0]: [[0.55014786 0.12930803 0.16421811 0.34102298 0.20557985]\n",
      " [0.48337042 0.09268002 0.58591939 0.24484673 0.30719166]\n",
      " [0.08457223 0.10302328 0.07942771 0.36187064 0.58903156]]\n",
      "Edge feature [feat_0] is saved to ./ondisk_dataset_homograph/edge-feat-0.npy\n",
      "\n",
      "Part of edge feature [feat_1]: tensor([[0.0169, 0.4425, 0.3291, 0.4712, 0.8589],\n",
      "        [0.5785, 0.3508, 0.0052, 0.3046, 0.3792],\n",
      "        [0.9872, 0.6239, 0.8033, 0.0126, 0.4948]])\n",
      "Edge feature [feat_1] is saved to ./ondisk_dataset_homograph/edge-feat-1.pt\n",
      "\n"
     ]
    }
   ],
   "source": [
    "# Generate node feature in numpy array.\n",
    "node_feat_0_path = os.path.join(base_dir, \"node-feat-0.npy\")\n",
    "node_feat_0 = np.random.rand(num_nodes, 5)\n",
    "print(f\"Part of node feature [feat_0]: {node_feat_0[:3, :]}\")\n",
    "np.save(node_feat_0_path, node_feat_0)\n",
    "print(f\"Node feature [feat_0] is saved to {node_feat_0_path}\\n\")\n",
    "\n",
    "# Generate another node feature in torch tensor\n",
    "node_feat_1_path = os.path.join(base_dir, \"node-feat-1.pt\")\n",
    "node_feat_1 = torch.rand(num_nodes, 5)\n",
    "print(f\"Part of node feature [feat_1]: {node_feat_1[:3, :]}\")\n",
    "torch.save(node_feat_1, node_feat_1_path)\n",
    "print(f\"Node feature [feat_1] is saved to {node_feat_1_path}\\n\")\n",
    "\n",
    "# Generate edge feature in numpy array.\n",
    "edge_feat_0_path = os.path.join(base_dir, \"edge-feat-0.npy\")\n",
    "edge_feat_0 = np.random.rand(num_edges, 5)\n",
    "print(f\"Part of edge feature [feat_0]: {edge_feat_0[:3, :]}\")\n",
    "np.save(edge_feat_0_path, edge_feat_0)\n",
    "print(f\"Edge feature [feat_0] is saved to {edge_feat_0_path}\\n\")\n",
    "\n",
    "# Generate another edge feature in torch tensor\n",
    "edge_feat_1_path = os.path.join(base_dir, \"edge-feat-1.pt\")\n",
    "edge_feat_1 = torch.rand(num_edges, 5)\n",
    "print(f\"Part of edge feature [feat_1]: {edge_feat_1[:3, :]}\")\n",
    "torch.save(edge_feat_1, edge_feat_1_path)\n",
    "print(f\"Edge feature [feat_1] is saved to {edge_feat_1_path}\\n\")\n"
   ]
  },
  {
   "cell_type": "markdown",
   "metadata": {
    "id": "ZyqgOtsIwzh_"
   },
   "source": [
    "### Generate tasks\n",
    "`OnDiskDataset` supports multiple tasks. For each task, we need to prepare training/validation/test sets respectively. Such sets usually vary among different tasks. In this tutorial, let's create a **Node Classification** task and **Link Prediction** task."
   ]
  },
  {
   "cell_type": "markdown",
   "metadata": {
    "id": "hVxHaDIfzCkr"
   },
   "source": [
    "#### Node Classification Task\n",
    "For node classification task, we need **node IDs** and corresponding **labels** for each training/validation/test set. Like feature data, numpy arrays and torch tensors are supported for these sets."
   ]
  },
  {
   "cell_type": "code",
   "execution_count": 5,
   "metadata": {
    "execution": {
     "iopub.execute_input": "2024-09-23T13:18:40.709786Z",
     "iopub.status.busy": "2024-09-23T13:18:40.709362Z",
     "iopub.status.idle": "2024-09-23T13:18:40.720587Z",
     "shell.execute_reply": "2024-09-23T13:18:40.719886Z"
    },
    "id": "S5-fyBbHzTCO"
   },
   "outputs": [
    {
     "name": "stdout",
     "output_type": "stream",
     "text": [
      "Part of train ids for node classification: [797 806  84]\n",
      "NC train ids are saved to ./ondisk_dataset_homograph/nc-train-ids.npy\n",
      "\n",
      "Part of train labels for node classification: tensor([0, 8, 4])\n",
      "NC train labels are saved to ./ondisk_dataset_homograph/nc-train-labels.pt\n",
      "\n",
      "Part of val ids for node classification: [411 593 899]\n",
      "NC val ids are saved to ./ondisk_dataset_homograph/nc-val-ids.npy\n",
      "\n",
      "Part of val labels for node classification: tensor([1, 0, 3])\n",
      "NC val labels are saved to ./ondisk_dataset_homograph/nc-val-labels.pt\n",
      "\n",
      "Part of test ids for node classification: [310 256 553]\n",
      "NC test ids are saved to ./ondisk_dataset_homograph/nc-test-ids.npy\n",
      "\n",
      "Part of test labels for node classification: tensor([9, 4, 1])\n",
      "NC test labels are saved to ./ondisk_dataset_homograph/nc-test-labels.pt\n",
      "\n"
     ]
    }
   ],
   "source": [
    "num_trains = int(num_nodes * 0.6)\n",
    "num_vals = int(num_nodes * 0.2)\n",
    "num_tests = num_nodes - num_trains - num_vals\n",
    "\n",
    "ids = np.arange(num_nodes)\n",
    "np.random.shuffle(ids)\n",
    "\n",
    "nc_train_ids_path = os.path.join(base_dir, \"nc-train-ids.npy\")\n",
    "nc_train_ids = ids[:num_trains]\n",
    "print(f\"Part of train ids for node classification: {nc_train_ids[:3]}\")\n",
    "np.save(nc_train_ids_path, nc_train_ids)\n",
    "print(f\"NC train ids are saved to {nc_train_ids_path}\\n\")\n",
    "\n",
    "nc_train_labels_path = os.path.join(base_dir, \"nc-train-labels.pt\")\n",
    "nc_train_labels = torch.randint(0, 10, (num_trains,))\n",
    "print(f\"Part of train labels for node classification: {nc_train_labels[:3]}\")\n",
    "torch.save(nc_train_labels, nc_train_labels_path)\n",
    "print(f\"NC train labels are saved to {nc_train_labels_path}\\n\")\n",
    "\n",
    "nc_val_ids_path = os.path.join(base_dir, \"nc-val-ids.npy\")\n",
    "nc_val_ids = ids[num_trains:num_trains+num_vals]\n",
    "print(f\"Part of val ids for node classification: {nc_val_ids[:3]}\")\n",
    "np.save(nc_val_ids_path, nc_val_ids)\n",
    "print(f\"NC val ids are saved to {nc_val_ids_path}\\n\")\n",
    "\n",
    "nc_val_labels_path = os.path.join(base_dir, \"nc-val-labels.pt\")\n",
    "nc_val_labels = torch.randint(0, 10, (num_vals,))\n",
    "print(f\"Part of val labels for node classification: {nc_val_labels[:3]}\")\n",
    "torch.save(nc_val_labels, nc_val_labels_path)\n",
    "print(f\"NC val labels are saved to {nc_val_labels_path}\\n\")\n",
    "\n",
    "nc_test_ids_path = os.path.join(base_dir, \"nc-test-ids.npy\")\n",
    "nc_test_ids = ids[-num_tests:]\n",
    "print(f\"Part of test ids for node classification: {nc_test_ids[:3]}\")\n",
    "np.save(nc_test_ids_path, nc_test_ids)\n",
    "print(f\"NC test ids are saved to {nc_test_ids_path}\\n\")\n",
    "\n",
    "nc_test_labels_path = os.path.join(base_dir, \"nc-test-labels.pt\")\n",
    "nc_test_labels = torch.randint(0, 10, (num_tests,))\n",
    "print(f\"Part of test labels for node classification: {nc_test_labels[:3]}\")\n",
    "torch.save(nc_test_labels, nc_test_labels_path)\n",
    "print(f\"NC test labels are saved to {nc_test_labels_path}\\n\")"
   ]
  },
  {
   "cell_type": "markdown",
   "metadata": {
    "id": "LhAcDCHQ_KJ0"
   },
   "source": [
    "#### Link Prediction Task\n",
    "For link prediction task, we need **seeds** or **corresponding labels and indexes** which representing the pos/neg property and group of the seeds for each training/validation/test set. Like feature data, numpy arrays and torch tensors are supported for these sets."
   ]
  },
  {
   "cell_type": "code",
   "execution_count": 6,
   "metadata": {
    "execution": {
     "iopub.execute_input": "2024-09-23T13:18:40.722837Z",
     "iopub.status.busy": "2024-09-23T13:18:40.722432Z",
     "iopub.status.idle": "2024-09-23T13:18:40.739564Z",
     "shell.execute_reply": "2024-09-23T13:18:40.738893Z"
    },
    "id": "u0jCnXIcAQy4"
   },
   "outputs": [
    {
     "name": "stdout",
     "output_type": "stream",
     "text": [
      "Part of train seeds for link prediction: [[485 444]\n",
      " [551 773]\n",
      " [272 578]]\n",
      "LP train seeds are saved to ./ondisk_dataset_homograph/lp-train-seeds.npy\n",
      "\n",
      "Part of val seeds for link prediction: [[535 212]\n",
      " [193  24]\n",
      " [272 389]]\n",
      "LP val seeds are saved to ./ondisk_dataset_homograph/lp-val-seeds.npy\n",
      "\n",
      "Part of val labels for link prediction: [1. 1. 1.]\n",
      "LP val labels are saved to ./ondisk_dataset_homograph/lp-val-labels.npy\n",
      "\n",
      "Part of val indexes for link prediction: [0 1 2]\n",
      "LP val indexes are saved to ./ondisk_dataset_homograph/lp-val-indexes.npy\n",
      "\n",
      "Part of test seeds for link prediction: [[570 577]\n",
      " [537 914]\n",
      " [692 490]]\n",
      "LP test seeds are saved to ./ondisk_dataset_homograph/lp-test-seeds.npy\n",
      "\n",
      "Part of val labels for link prediction: [1. 1. 1.]\n",
      "LP test labels are saved to ./ondisk_dataset_homograph/lp-test-labels.npy\n",
      "\n",
      "Part of test indexes for link prediction: [0 1 2]\n",
      "LP test indexes are saved to ./ondisk_dataset_homograph/lp-test-indexes.npy\n",
      "\n"
     ]
    }
   ],
   "source": [
    "num_trains = int(num_edges * 0.6)\n",
    "num_vals = int(num_edges * 0.2)\n",
    "num_tests = num_edges - num_trains - num_vals\n",
    "\n",
    "lp_train_seeds_path = os.path.join(base_dir, \"lp-train-seeds.npy\")\n",
    "lp_train_seeds = edges[:num_trains, :]\n",
    "print(f\"Part of train seeds for link prediction: {lp_train_seeds[:3]}\")\n",
    "np.save(lp_train_seeds_path, lp_train_seeds)\n",
    "print(f\"LP train seeds are saved to {lp_train_seeds_path}\\n\")\n",
    "\n",
    "lp_val_seeds_path = os.path.join(base_dir, \"lp-val-seeds.npy\")\n",
    "lp_val_seeds = edges[num_trains:num_trains+num_vals, :]\n",
    "lp_val_neg_dsts = np.random.randint(0, num_nodes, (num_vals, 10)).reshape(-1)\n",
    "lp_val_neg_srcs = np.repeat(lp_val_seeds[:,0], 10)\n",
    "lp_val_neg_seeds = np.concatenate((lp_val_neg_srcs, lp_val_neg_dsts)).reshape(2,-1).T\n",
    "lp_val_seeds = np.concatenate((lp_val_seeds, lp_val_neg_seeds))\n",
    "print(f\"Part of val seeds for link prediction: {lp_val_seeds[:3]}\")\n",
    "np.save(lp_val_seeds_path, lp_val_seeds)\n",
    "print(f\"LP val seeds are saved to {lp_val_seeds_path}\\n\")\n",
    "\n",
    "lp_val_labels_path = os.path.join(base_dir, \"lp-val-labels.npy\")\n",
    "lp_val_labels = np.empty(num_vals * (10 + 1))\n",
    "lp_val_labels[:num_vals] = 1\n",
    "lp_val_labels[num_vals:] = 0\n",
    "print(f\"Part of val labels for link prediction: {lp_val_labels[:3]}\")\n",
    "np.save(lp_val_labels_path, lp_val_labels)\n",
    "print(f\"LP val labels are saved to {lp_val_labels_path}\\n\")\n",
    "\n",
    "lp_val_indexes_path = os.path.join(base_dir, \"lp-val-indexes.npy\")\n",
    "lp_val_indexes = np.arange(0, num_vals)\n",
    "lp_val_neg_indexes = np.repeat(lp_val_indexes, 10)\n",
    "lp_val_indexes = np.concatenate([lp_val_indexes, lp_val_neg_indexes])\n",
    "print(f\"Part of val indexes for link prediction: {lp_val_indexes[:3]}\")\n",
    "np.save(lp_val_indexes_path, lp_val_indexes)\n",
    "print(f\"LP val indexes are saved to {lp_val_indexes_path}\\n\")\n",
    "\n",
    "lp_test_seeds_path = os.path.join(base_dir, \"lp-test-seeds.npy\")\n",
    "lp_test_seeds = edges[-num_tests:, :]\n",
    "lp_test_neg_dsts = np.random.randint(0, num_nodes, (num_tests, 10)).reshape(-1)\n",
    "lp_test_neg_srcs = np.repeat(lp_test_seeds[:,0], 10)\n",
    "lp_test_neg_seeds = np.concatenate((lp_test_neg_srcs, lp_test_neg_dsts)).reshape(2,-1).T\n",
    "lp_test_seeds = np.concatenate((lp_test_seeds, lp_test_neg_seeds))\n",
    "print(f\"Part of test seeds for link prediction: {lp_test_seeds[:3]}\")\n",
    "np.save(lp_test_seeds_path, lp_test_seeds)\n",
    "print(f\"LP test seeds are saved to {lp_test_seeds_path}\\n\")\n",
    "\n",
    "lp_test_labels_path = os.path.join(base_dir, \"lp-test-labels.npy\")\n",
    "lp_test_labels = np.empty(num_tests * (10 + 1))\n",
    "lp_test_labels[:num_tests] = 1\n",
    "lp_test_labels[num_tests:] = 0\n",
    "print(f\"Part of val labels for link prediction: {lp_test_labels[:3]}\")\n",
    "np.save(lp_test_labels_path, lp_test_labels)\n",
    "print(f\"LP test labels are saved to {lp_test_labels_path}\\n\")\n",
    "\n",
    "lp_test_indexes_path = os.path.join(base_dir, \"lp-test-indexes.npy\")\n",
    "lp_test_indexes = np.arange(0, num_tests)\n",
    "lp_test_neg_indexes = np.repeat(lp_test_indexes, 10)\n",
    "lp_test_indexes = np.concatenate([lp_test_indexes, lp_test_neg_indexes])\n",
    "print(f\"Part of test indexes for link prediction: {lp_test_indexes[:3]}\")\n",
    "np.save(lp_test_indexes_path, lp_test_indexes)\n",
    "print(f\"LP test indexes are saved to {lp_test_indexes_path}\\n\")"
   ]
  },
  {
   "cell_type": "markdown",
   "metadata": {
    "id": "wbk6-wxRK-6S"
   },
   "source": [
    "## Organize Data into YAML File\n",
    "Now we need to create a `metadata.yaml` file which contains the paths, dadta types of graph structure, feature data, training/validation/test sets.\n",
    "\n",
    "Notes:\n",
    "- all path should be relative to `metadata.yaml`.\n",
    "- Below fields are optional and not specified in below example.\n",
    "  - `in_memory`: indicates whether to load dada into memory or `mmap`. Default is `True`.\n",
    "\n",
    "Please refer to [YAML specification](https://github.com/dmlc/dgl/blob/master/docs/source/stochastic_training/ondisk-dataset-specification.rst) for more details."
   ]
  },
  {
   "cell_type": "code",
   "execution_count": 7,
   "metadata": {
    "execution": {
     "iopub.execute_input": "2024-09-23T13:18:40.741923Z",
     "iopub.status.busy": "2024-09-23T13:18:40.741517Z",
     "iopub.status.idle": "2024-09-23T13:18:40.747674Z",
     "shell.execute_reply": "2024-09-23T13:18:40.747017Z"
    },
    "id": "ddGTWW61Lpwp"
   },
   "outputs": [],
   "source": [
    "yaml_content = f\"\"\"\n",
    "    dataset_name: homogeneous_graph_nc_lp\n",
    "    graph:\n",
    "      nodes:\n",
    "        - num: {num_nodes}\n",
    "      edges:\n",
    "        - format: csv\n",
    "          path: {os.path.basename(edges_path)}\n",
    "    feature_data:\n",
    "      - domain: node\n",
    "        name: feat_0\n",
    "        format: numpy\n",
    "        path: {os.path.basename(node_feat_0_path)}\n",
    "      - domain: node\n",
    "        name: feat_1\n",
    "        format: torch\n",
    "        path: {os.path.basename(node_feat_1_path)}\n",
    "      - domain: edge\n",
    "        name: feat_0\n",
    "        format: numpy\n",
    "        path: {os.path.basename(edge_feat_0_path)}\n",
    "      - domain: edge\n",
    "        name: feat_1\n",
    "        format: torch\n",
    "        path: {os.path.basename(edge_feat_1_path)}\n",
    "    tasks:\n",
    "      - name: node_classification\n",
    "        num_classes: 10\n",
    "        train_set:\n",
    "          - data:\n",
    "              - name: seeds\n",
    "                format: numpy\n",
    "                path: {os.path.basename(nc_train_ids_path)}\n",
    "              - name: labels\n",
    "                format: torch\n",
    "                path: {os.path.basename(nc_train_labels_path)}\n",
    "        validation_set:\n",
    "          - data:\n",
    "              - name: seeds\n",
    "                format: numpy\n",
    "                path: {os.path.basename(nc_val_ids_path)}\n",
    "              - name: labels\n",
    "                format: torch\n",
    "                path: {os.path.basename(nc_val_labels_path)}\n",
    "        test_set:\n",
    "          - data:\n",
    "              - name: seeds\n",
    "                format: numpy\n",
    "                path: {os.path.basename(nc_test_ids_path)}\n",
    "              - name: labels\n",
    "                format: torch\n",
    "                path: {os.path.basename(nc_test_labels_path)}\n",
    "      - name: link_prediction\n",
    "        num_classes: 10\n",
    "        train_set:\n",
    "          - data:\n",
    "              - name: seeds\n",
    "                format: numpy\n",
    "                path: {os.path.basename(lp_train_seeds_path)}\n",
    "        validation_set:\n",
    "          - data:\n",
    "              - name: seeds\n",
    "                format: numpy\n",
    "                path: {os.path.basename(lp_val_seeds_path)}\n",
    "              - name: labels\n",
    "                format: numpy\n",
    "                path: {os.path.basename(lp_val_labels_path)}\n",
    "              - name: indexes\n",
    "                format: numpy\n",
    "                path: {os.path.basename(lp_val_indexes_path)}\n",
    "        test_set:\n",
    "          - data:\n",
    "              - name: seeds\n",
    "                format: numpy\n",
    "                path: {os.path.basename(lp_test_seeds_path)}\n",
    "              - name: labels\n",
    "                format: numpy\n",
    "                path: {os.path.basename(lp_test_labels_path)}\n",
    "              - name: indexes\n",
    "                format: numpy\n",
    "                path: {os.path.basename(lp_test_indexes_path)}\n",
    "\"\"\"\n",
    "metadata_path = os.path.join(base_dir, \"metadata.yaml\")\n",
    "with open(metadata_path, \"w\") as f:\n",
    "  f.write(yaml_content)"
   ]
  },
  {
   "cell_type": "markdown",
   "metadata": {
    "id": "kEfybHGhOW7O"
   },
   "source": [
    "## Instantiate `OnDiskDataset`\n",
    "Now we're ready to load dataset via `dgl.graphbolt.OnDiskDataset`. When instantiating, we just pass in the base directory where `metadata.yaml` file lies.\n",
    "\n",
    "During first instantiation, GraphBolt preprocesses the raw data such as constructing `FusedCSCSamplingGraph` from edges. All data including graph, feature data, training/validation/test sets are put into `preprocessed` directory after preprocessing. Any following dataset loading will skip the preprocess stage.\n",
    "\n",
    "After preprocessing, `load()` is required to be called explicitly in order to load graph, feature data and tasks."
   ]
  },
  {
   "cell_type": "code",
   "execution_count": 8,
   "metadata": {
    "execution": {
     "iopub.execute_input": "2024-09-23T13:18:40.749906Z",
     "iopub.status.busy": "2024-09-23T13:18:40.749719Z",
     "iopub.status.idle": "2024-09-23T13:18:40.817942Z",
     "shell.execute_reply": "2024-09-23T13:18:40.817327Z"
    },
    "id": "W58CZoSzOiyo"
   },
   "outputs": [
    {
     "name": "stdout",
     "output_type": "stream",
     "text": [
      "Start to preprocess the on-disk dataset.\n",
      "Finish preprocessing the on-disk dataset.\n",
      "Loaded graph: FusedCSCSamplingGraph(csc_indptr=tensor([    0,    14,    23,  ...,  9985,  9992, 10000], dtype=torch.int32),\n",
      "                      indices=tensor([923, 748, 578,  ..., 959, 776, 534], dtype=torch.int32),\n",
      "                      total_num_nodes=1000, num_edges=10000,)\n",
      "\n",
      "Loaded feature store: TorchBasedFeatureStore(\n",
      "    {(<OnDiskFeatureDataDomain.NODE: 'node'>, None, 'feat_0'): TorchBasedFeature(\n",
      "        feature=tensor([[0.8554, 0.5611, 0.0604, 0.8705, 0.0188],\n",
      "                        [0.9961, 0.4446, 0.3749, 0.4328, 0.7110],\n",
      "                        [0.5223, 0.0994, 0.9557, 0.9633, 0.5708],\n",
      "                        ...,\n",
      "                        [0.4505, 0.8447, 0.2578, 0.9509, 0.8346],\n",
      "                        [0.4234, 0.0232, 0.9097, 0.3407, 0.9358],\n",
      "                        [0.6178, 0.5646, 0.8888, 0.5944, 0.2369]], dtype=torch.float64),\n",
      "        metadata={},\n",
      "    ), (<OnDiskFeatureDataDomain.NODE: 'node'>, None, 'feat_1'): TorchBasedFeature(\n",
      "        feature=tensor([[0.6655, 0.3756, 0.1587, 0.1309, 0.9517],\n",
      "                        [0.4566, 0.2337, 0.9440, 0.9184, 0.6320],\n",
      "                        [0.4067, 0.0864, 0.5118, 0.2637, 0.9060],\n",
      "                        ...,\n",
      "                        [0.8234, 0.0103, 0.4161, 0.4276, 0.3909],\n",
      "                        [0.6772, 0.3225, 0.6965, 0.7966, 0.5953],\n",
      "                        [0.2150, 0.9765, 0.0416, 0.1733, 0.3520]]),\n",
      "        metadata={},\n",
      "    ), (<OnDiskFeatureDataDomain.EDGE: 'edge'>, None, 'feat_0'): TorchBasedFeature(\n",
      "        feature=tensor([[0.5501, 0.1293, 0.1642, 0.3410, 0.2056],\n",
      "                        [0.4834, 0.0927, 0.5859, 0.2448, 0.3072],\n",
      "                        [0.0846, 0.1030, 0.0794, 0.3619, 0.5890],\n",
      "                        ...,\n",
      "                        [0.0935, 0.2682, 0.9547, 0.7643, 0.4111],\n",
      "                        [0.4765, 0.1652, 0.7008, 0.4410, 0.4034],\n",
      "                        [0.7935, 0.8604, 0.5540, 0.4080, 0.3755]], dtype=torch.float64),\n",
      "        metadata={},\n",
      "    ), (<OnDiskFeatureDataDomain.EDGE: 'edge'>, None, 'feat_1'): TorchBasedFeature(\n",
      "        feature=tensor([[0.0169, 0.4425, 0.3291, 0.4712, 0.8589],\n",
      "                        [0.5785, 0.3508, 0.0052, 0.3046, 0.3792],\n",
      "                        [0.9872, 0.6239, 0.8033, 0.0126, 0.4948],\n",
      "                        ...,\n",
      "                        [0.9882, 0.4657, 0.3353, 0.9302, 0.5194],\n",
      "                        [0.2171, 0.2552, 0.2791, 0.5682, 0.4934],\n",
      "                        [0.9414, 0.5602, 0.8518, 0.7358, 0.9289]]),\n",
      "        metadata={},\n",
      "    )}\n",
      ")\n",
      "\n",
      "Loaded node classification task: OnDiskTask(validation_set=ItemSet(\n",
      "               items=(tensor([411, 593, 899, 885,  17, 163, 717, 807, 952, 368,  61,  85, 920, 111,\n",
      "                   355, 598, 208, 133, 149, 179, 146, 948, 652, 944, 979, 949, 266, 714,\n",
      "                   348, 248, 132, 366, 175, 270, 778,   6, 512, 912, 825, 232, 141, 726,\n",
      "                   639, 292,  80, 490, 227, 599, 746, 922, 932, 316, 901, 481, 863, 911,\n",
      "                   389, 930, 325, 427, 199, 403, 966, 749, 711, 763, 638, 130, 892, 647,\n",
      "                   680, 632, 194, 708, 174, 249, 479, 236, 873, 110, 579, 567, 581,  82,\n",
      "                   264, 781, 974, 832, 456, 350, 500, 273, 418, 278, 919, 606, 624, 684,\n",
      "                   673, 319, 222, 947, 617, 886, 305,  79, 913, 546, 272, 299, 674, 657,\n",
      "                   436, 896, 890, 413,  32, 916, 165, 487, 106, 321, 935, 666, 796,   4,\n",
      "                   874, 880, 472, 636, 699, 468,   0, 394, 363, 100, 407, 155, 441, 742,\n",
      "                   988, 867, 529, 983, 753, 302, 844, 681, 830, 482, 439, 547, 231, 543,\n",
      "                   566, 752, 860, 261, 124, 329, 252, 725, 653, 400, 841, 558, 576, 523,\n",
      "                    44, 113,  68, 686, 405, 202, 691, 330,  54, 888, 577, 943, 103,  49,\n",
      "                   584, 197, 108, 462,   5, 625, 637,  48, 162, 751, 201, 933, 601, 859,\n",
      "                   646, 223, 514,  51], dtype=torch.int32), tensor([1, 0, 3, 8, 8, 3, 6, 1, 5, 1, 6, 8, 3, 2, 8, 6, 3, 1, 3, 5, 5, 0, 8, 5,\n",
      "                   0, 9, 4, 4, 2, 6, 3, 5, 6, 3, 1, 5, 4, 1, 0, 5, 9, 6, 9, 5, 7, 3, 8, 0,\n",
      "                   4, 8, 7, 7, 2, 6, 8, 3, 7, 3, 2, 9, 0, 2, 3, 0, 1, 6, 6, 1, 8, 7, 5, 8,\n",
      "                   2, 8, 2, 1, 1, 5, 9, 6, 8, 3, 5, 7, 5, 7, 2, 6, 1, 2, 5, 3, 3, 5, 4, 9,\n",
      "                   7, 5, 9, 4, 3, 9, 8, 7, 0, 8, 9, 1, 6, 4, 4, 8, 4, 0, 2, 1, 9, 6, 5, 5,\n",
      "                   3, 0, 8, 4, 6, 8, 5, 4, 1, 0, 2, 4, 8, 2, 4, 7, 5, 7, 6, 2, 3, 3, 6, 5,\n",
      "                   3, 0, 9, 3, 9, 6, 3, 2, 4, 6, 1, 0, 2, 3, 4, 7, 7, 4, 0, 5, 1, 3, 7, 9,\n",
      "                   6, 5, 5, 0, 1, 2, 2, 7, 2, 7, 1, 8, 3, 3, 6, 8, 3, 0, 1, 3, 2, 6, 8, 5,\n",
      "                   0, 9, 9, 7, 7, 6, 1, 2])),\n",
      "               names=('seeds', 'labels'),\n",
      "           ),\n",
      "           train_set=ItemSet(\n",
      "               items=(tensor([797, 806,  84, 203, 116, 454, 260, 700, 341, 298,  94, 245, 391, 650,\n",
      "                   928, 209, 815, 754, 905, 683, 580, 323, 861, 574, 758, 353, 423, 664,\n",
      "                   240, 257, 613, 408, 875, 794, 362, 759, 834, 557, 591, 412, 225, 996,\n",
      "                   414,  76, 453, 258, 706, 957, 826, 115, 946, 960, 544, 775, 987, 789,\n",
      "                    13, 868, 451,  58, 929, 813, 587, 923,  64, 156, 670, 809,  22, 582,\n",
      "                   820, 644,  31, 213, 247, 694, 455, 870, 810, 263, 663, 661, 109, 774,\n",
      "                   877, 991, 741, 770, 483, 159, 384, 409, 782, 906, 965, 583, 502,  93,\n",
      "                   532, 167, 243, 489, 862, 997, 183, 787, 769, 295,  72, 884, 698, 750,\n",
      "                   531, 255, 534, 268,  10, 283, 565, 428, 573, 611,  81, 734, 390, 125,\n",
      "                   385, 568,  55, 465, 876, 136, 312, 631, 816, 387, 607, 332, 150, 622,\n",
      "                   369, 848, 978, 358, 846, 188, 142, 605, 419, 274, 629, 401, 621, 471,\n",
      "                   180, 191, 989, 478, 709, 267,  87, 128, 539, 303, 374,  86, 772,  59,\n",
      "                   937, 736, 306, 367,  70, 219, 342, 682, 818, 968, 626, 530, 963, 497,\n",
      "                    57, 843, 852, 429,  38, 730, 327, 338, 791, 696, 967, 467, 393, 784,\n",
      "                   437, 656,   7,  29,  95, 304, 504, 640, 377, 855, 800, 287, 515, 669,\n",
      "                   964,  52, 869, 747, 339, 889, 671, 357, 847, 836, 117, 882, 728, 776,\n",
      "                   549, 915, 392, 783, 998, 397, 710, 733, 695, 803, 521, 112, 703, 331,\n",
      "                   925, 985, 185, 773, 314, 550, 616, 105, 433, 668, 157, 123, 480, 432,\n",
      "                   182, 689, 291, 761, 420, 851, 177, 756, 729, 280, 176, 857, 654, 307,\n",
      "                   173, 294, 388, 559, 508, 221, 609, 715, 193, 942, 569, 207, 931, 659,\n",
      "                   277, 289, 352, 951,  69,  46, 204, 667,  43,  12, 571, 259, 459, 898,\n",
      "                   702, 976, 575, 286, 134, 212, 452, 731, 973, 285, 712,  83, 823, 166,\n",
      "                   588, 424, 536, 897, 720, 837, 244, 196, 977, 158,  42, 865, 313, 410,\n",
      "                   740, 187, 926, 344, 677,  98,  99, 554, 649, 603, 970, 634, 476, 595,\n",
      "                   777, 416, 126, 655, 555, 804, 190, 737, 340, 939, 623, 458, 828, 351,\n",
      "                   444,  27, 315, 228, 994, 198, 641, 578, 936, 995, 883, 518, 365, 160,\n",
      "                   233, 230, 129, 178, 748, 251,  67, 524, 992, 950, 493, 745, 356, 562,\n",
      "                   802, 442, 430, 658, 517,   3, 516, 205, 551, 941, 902, 881, 326, 275,\n",
      "                   814, 293, 764, 956, 143, 281, 604, 242,  97, 704, 189,  96, 561, 821,\n",
      "                   705, 250,   2,  74, 842, 395, 755, 812, 801, 415, 630,   8, 214, 399,\n",
      "                   237, 961,  45, 716, 144, 592, 373, 879, 265, 805,  71,  90, 678, 101,\n",
      "                   665, 612, 648, 469, 372, 253, 540,  34, 538, 614, 586, 743, 380, 744,\n",
      "                   510, 139, 152, 425, 498, 850, 955, 336, 642, 839, 309, 421, 234, 473,\n",
      "                   290, 541, 181, 945, 927, 564, 107,  56, 262, 864, 195, 147, 833, 402,\n",
      "                   346, 692, 137, 324, 771,  75, 610, 788, 958,  15, 608,  26, 526, 760,\n",
      "                   866, 597, 645,  30, 792, 186, 528, 140, 119, 102, 827, 491,   1, 501,\n",
      "                   343, 990, 460, 215, 434, 662, 238, 560, 192, 527, 643, 520, 354, 379,\n",
      "                   229, 370, 713,  21, 799, 835, 475, 795,  88, 651, 921, 301, 443, 169,\n",
      "                   854, 999, 503,  41, 486, 675, 693, 135, 496, 954,  28, 738, 894, 856,\n",
      "                    11, 853, 732,  35, 484, 545, 170, 719, 635, 900, 908, 347, 858, 676,\n",
      "                   556, 619,  91, 766, 739, 525, 522, 507, 154,  39, 216,  18, 386,  40,\n",
      "                   161, 542, 382, 891, 447, 685, 972, 849, 466,  78, 172, 131,  36, 980,\n",
      "                   907, 464, 121, 488, 334, 986, 594,  92, 615,  53, 492, 679],\n",
      "                  dtype=torch.int32), tensor([0, 8, 4, 6, 9, 9, 0, 4, 2, 2, 6, 7, 1, 8, 8, 5, 0, 9, 3, 7, 2, 0, 4, 1,\n",
      "                   9, 3, 8, 4, 4, 4, 9, 7, 2, 3, 4, 8, 3, 7, 5, 1, 6, 1, 7, 4, 2, 3, 5, 1,\n",
      "                   5, 6, 6, 6, 1, 3, 3, 9, 6, 5, 0, 2, 5, 6, 1, 5, 6, 0, 7, 5, 9, 3, 4, 9,\n",
      "                   4, 3, 0, 8, 1, 7, 5, 2, 8, 7, 4, 5, 3, 6, 2, 9, 9, 9, 5, 4, 0, 5, 3, 3,\n",
      "                   7, 1, 5, 4, 1, 6, 5, 8, 0, 9, 0, 2, 3, 3, 9, 1, 0, 3, 0, 9, 4, 6, 1, 7,\n",
      "                   6, 0, 6, 4, 3, 3, 4, 0, 7, 8, 5, 0, 3, 2, 4, 5, 8, 5, 1, 4, 6, 5, 8, 5,\n",
      "                   8, 4, 8, 4, 8, 9, 5, 4, 7, 0, 3, 6, 8, 9, 0, 5, 4, 9, 4, 8, 4, 8, 5, 2,\n",
      "                   6, 5, 0, 1, 1, 1, 5, 0, 0, 3, 9, 9, 3, 3, 8, 0, 4, 4, 6, 2, 2, 9, 0, 2,\n",
      "                   2, 8, 4, 9, 0, 1, 0, 1, 8, 0, 5, 8, 9, 5, 6, 8, 0, 6, 2, 3, 6, 7, 9, 4,\n",
      "                   0, 6, 8, 6, 9, 7, 8, 8, 9, 1, 5, 8, 3, 9, 1, 8, 9, 5, 6, 9, 4, 9, 3, 3,\n",
      "                   9, 9, 1, 1, 7, 2, 9, 1, 5, 5, 8, 4, 2, 0, 8, 5, 4, 5, 7, 5, 3, 5, 0, 1,\n",
      "                   0, 6, 6, 8, 2, 6, 2, 1, 3, 7, 2, 6, 2, 8, 9, 7, 3, 4, 0, 2, 6, 6, 2, 2,\n",
      "                   1, 4, 5, 2, 2, 9, 7, 5, 8, 0, 4, 3, 9, 3, 6, 9, 1, 9, 8, 8, 6, 8, 6, 9,\n",
      "                   6, 7, 8, 3, 8, 4, 4, 1, 6, 5, 0, 8, 7, 1, 6, 7, 6, 7, 3, 6, 4, 0, 1, 2,\n",
      "                   4, 0, 7, 6, 8, 8, 4, 8, 1, 6, 4, 4, 0, 7, 1, 0, 4, 6, 2, 8, 1, 1, 6, 9,\n",
      "                   6, 0, 2, 1, 1, 7, 4, 6, 4, 1, 5, 8, 4, 0, 5, 4, 6, 5, 0, 8, 6, 7, 7, 8,\n",
      "                   6, 2, 0, 9, 5, 6, 7, 3, 5, 5, 8, 2, 9, 8, 0, 0, 6, 1, 6, 8, 9, 5, 8, 5,\n",
      "                   8, 7, 2, 4, 3, 9, 5, 9, 3, 8, 0, 3, 6, 8, 7, 9, 8, 6, 2, 8, 0, 3, 5, 5,\n",
      "                   5, 1, 1, 2, 8, 6, 9, 0, 2, 6, 8, 5, 9, 4, 2, 3, 3, 9, 1, 2, 4, 1, 7, 7,\n",
      "                   8, 3, 4, 6, 0, 7, 1, 1, 6, 8, 2, 4, 0, 3, 0, 8, 6, 8, 1, 7, 6, 4, 3, 5,\n",
      "                   6, 3, 4, 8, 3, 1, 0, 9, 7, 2, 8, 0, 0, 1, 8, 0, 6, 0, 1, 2, 9, 6, 8, 1,\n",
      "                   7, 8, 8, 1, 2, 9, 6, 0, 2, 6, 9, 3, 3, 1, 4, 9, 9, 8, 9, 3, 2, 2, 1, 7,\n",
      "                   1, 1, 9, 9, 6, 0, 8, 0, 6, 6, 0, 4, 6, 0, 4, 7, 2, 1, 6, 7, 2, 0, 8, 6,\n",
      "                   8, 2, 8, 5, 1, 9, 3, 3, 0, 2, 7, 8, 7, 2, 0, 1, 8, 4, 3, 9, 3, 1, 6, 3,\n",
      "                   8, 5, 1, 0, 3, 2, 9, 8, 1, 3, 9, 7, 2, 3, 8, 9, 0, 1, 5, 6, 3, 5, 8, 8])),\n",
      "               names=('seeds', 'labels'),\n",
      "           ),\n",
      "           test_set=ItemSet(\n",
      "               items=(tensor([310, 256, 553, 404, 333, 620, 118, 417, 445, 210, 780, 660, 164, 793,\n",
      "                   288, 535, 633, 959, 241, 246, 254, 211, 589,  77, 457, 328, 838, 917,\n",
      "                   440, 872, 220,  24, 585, 145,  50, 628, 153, 953,  14, 509, 375, 768,\n",
      "                   981, 364, 461, 798,  47, 279, 887, 687, 505, 127, 819, 495,  89, 785,\n",
      "                   317,  62, 426, 184, 345, 511,  16, 284,  33, 909, 790, 269,   9, 993,\n",
      "                   435, 904, 533, 878, 690, 120,  65, 688, 918, 893, 721, 829, 962, 138,\n",
      "                   422, 563, 600, 470, 618, 762, 779, 940, 200, 217, 499, 151, 320, 235,\n",
      "                   349, 765, 438, 831, 767, 707, 378, 494, 572, 297, 570, 218, 450, 602,\n",
      "                   361, 206, 871, 104, 914, 168, 122, 969, 171, 552, 817, 322, 296,  73,\n",
      "                   735, 513, 226, 627, 224,  20, 398, 934, 697, 924, 845, 701, 672, 318,\n",
      "                   311, 474, 477, 938, 335, 446, 724, 808, 757, 982, 903, 506, 596, 971,\n",
      "                   376, 276, 824, 895, 383, 910, 282, 822, 840, 975, 371, 300, 718, 381,\n",
      "                   485, 448, 811,  19, 396, 548, 590,  60, 431, 984,  63, 148,  25,  66,\n",
      "                   786, 360, 239, 271, 308, 449, 114, 463, 406, 537, 359, 519,  23, 722,\n",
      "                   727, 723, 337,  37], dtype=torch.int32), tensor([9, 4, 1, 2, 6, 4, 3, 8, 0, 0, 0, 0, 1, 7, 1, 3, 2, 1, 1, 2, 7, 9, 5, 5,\n",
      "                   2, 7, 5, 4, 4, 5, 6, 7, 6, 1, 5, 6, 9, 4, 6, 9, 9, 2, 2, 0, 2, 8, 9, 9,\n",
      "                   9, 1, 8, 8, 0, 2, 1, 9, 3, 9, 0, 9, 3, 4, 8, 2, 7, 5, 9, 3, 7, 4, 5, 1,\n",
      "                   8, 7, 5, 9, 4, 7, 5, 6, 3, 9, 3, 1, 9, 0, 9, 1, 2, 9, 6, 3, 1, 5, 7, 0,\n",
      "                   7, 4, 9, 0, 6, 4, 6, 1, 7, 5, 8, 1, 7, 5, 4, 3, 0, 5, 7, 0, 1, 9, 7, 4,\n",
      "                   6, 2, 9, 8, 2, 5, 2, 8, 8, 1, 5, 1, 7, 5, 3, 0, 0, 8, 0, 8, 8, 1, 7, 3,\n",
      "                   6, 7, 4, 6, 0, 6, 2, 9, 9, 7, 6, 5, 2, 6, 8, 8, 9, 0, 9, 4, 8, 5, 6, 6,\n",
      "                   5, 6, 4, 2, 3, 6, 2, 1, 9, 3, 7, 9, 4, 8, 5, 2, 5, 1, 1, 8, 7, 7, 5, 3,\n",
      "                   9, 8, 1, 6, 7, 4, 1, 9])),\n",
      "               names=('seeds', 'labels'),\n",
      "           ),\n",
      "           metadata={'name': 'node_classification', 'num_classes': 10},)\n",
      "\n",
      "Loaded link prediction task: OnDiskTask(validation_set=ItemSet(\n",
      "               items=(tensor([[535, 212],\n",
      "                   [193,  24],\n",
      "                   [272, 389],\n",
      "                   ...,\n",
      "                   [116, 448],\n",
      "                   [116, 970],\n",
      "                   [116, 738]], dtype=torch.int32), tensor([1., 1., 1.,  ..., 0., 0., 0.], dtype=torch.float64), tensor([   0,    1,    2,  ..., 1999, 1999, 1999])),\n",
      "               names=('seeds', 'labels', 'indexes'),\n",
      "           ),\n",
      "           train_set=ItemSet(\n",
      "               items=(tensor([[485, 444],\n",
      "                   [551, 773],\n",
      "                   [272, 578],\n",
      "                   ...,\n",
      "                   [700, 507],\n",
      "                   [ 51,  82],\n",
      "                   [901, 766]], dtype=torch.int32),),\n",
      "               names=('seeds',),\n",
      "           ),\n",
      "           test_set=ItemSet(\n",
      "               items=(tensor([[570, 577],\n",
      "                   [537, 914],\n",
      "                   [692, 490],\n",
      "                   ...,\n",
      "                   [146, 841],\n",
      "                   [146, 981],\n",
      "                   [146, 385]], dtype=torch.int32), tensor([1., 1., 1.,  ..., 0., 0., 0.], dtype=torch.float64), tensor([   0,    1,    2,  ..., 1999, 1999, 1999])),\n",
      "               names=('seeds', 'labels', 'indexes'),\n",
      "           ),\n",
      "           metadata={'name': 'link_prediction', 'num_classes': 10},)\n",
      "\n"
     ]
    },
    {
     "name": "stderr",
     "output_type": "stream",
     "text": [
      "/dgl/python/dgl/graphbolt/impl/ondisk_dataset.py:463: GBWarning: Edge feature is stored, but edge IDs are not saved.\n",
      "  gb_warning(\"Edge feature is stored, but edge IDs are not saved.\")\n"
     ]
    }
   ],
   "source": [
    "dataset = gb.OnDiskDataset(base_dir).load()\n",
    "graph = dataset.graph\n",
    "print(f\"Loaded graph: {graph}\\n\")\n",
    "\n",
    "feature = dataset.feature\n",
    "print(f\"Loaded feature store: {feature}\\n\")\n",
    "\n",
    "tasks = dataset.tasks\n",
    "nc_task = tasks[0]\n",
    "print(f\"Loaded node classification task: {nc_task}\\n\")\n",
    "lp_task = tasks[1]\n",
    "print(f\"Loaded link prediction task: {lp_task}\\n\")"
   ]
  }
 ],
 "metadata": {
  "colab": {
   "private_outputs": true,
   "provenance": []
  },
  "kernelspec": {
   "display_name": "Python 3",
   "name": "python3"
  },
  "language_info": {
   "codemirror_mode": {
    "name": "ipython",
    "version": 3
   },
   "file_extension": ".py",
   "mimetype": "text/x-python",
   "name": "python",
   "nbconvert_exporter": "python",
   "pygments_lexer": "ipython3",
   "version": "3.10.15"
  }
 },
 "nbformat": 4,
 "nbformat_minor": 0
}

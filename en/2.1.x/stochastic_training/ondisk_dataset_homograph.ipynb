{
 "cells": [
  {
   "cell_type": "markdown",
   "metadata": {
    "id": "FnFhPMaAfLtJ"
   },
   "source": [
    "# OnDiskDataset for Homogeneous Graph\n",
    "\n",
    "[![Open In Colab](https://colab.research.google.com/assets/colab-badge.svg)](https://colab.research.google.com/github/dmlc/dgl/blob/master/notebooks/stochastic_training/ondisk_dataset_homograph.ipynb) [![GitHub](https://img.shields.io/badge/-View%20on%20GitHub-181717?logo=github&logoColor=ffffff)](https://github.com/dmlc/dgl/blob/master/notebooks/stochastic_training/ondisk_dataset_homograph.ipynb)\n",
    "\n",
    "This tutorial shows how to create `OnDiskDataset` for homogeneous graph that could be used in **GraphBolt** framework.\n",
    "\n",
    "By the end of this tutorial, you will be able to\n",
    "\n",
    "- organize graph structure data.\n",
    "- organize feature data.\n",
    "- organize training/validation/test set for specific tasks.\n",
    "\n",
    "To create an ``OnDiskDataset`` object, you need to organize all the data including graph structure, feature data and tasks into a directory. The directory should contain a ``metadata.yaml`` file that describes the metadata of the dataset.\n",
    "\n",
    "Now let's generate various data step by step and organize them together to instantiate `OnDiskDataset` finally."
   ]
  },
  {
   "cell_type": "markdown",
   "metadata": {
    "id": "Wlb19DtWgtzq"
   },
   "source": [
    "## Install DGL package"
   ]
  },
  {
   "cell_type": "code",
   "execution_count": 1,
   "metadata": {
    "execution": {
     "iopub.execute_input": "2024-09-18T06:49:36.019249Z",
     "iopub.status.busy": "2024-09-18T06:49:36.018869Z",
     "iopub.status.idle": "2024-09-18T06:49:39.759992Z",
     "shell.execute_reply": "2024-09-18T06:49:39.759221Z"
    },
    "id": "UojlT9ZGgyr9"
   },
   "outputs": [
    {
     "name": "stdout",
     "output_type": "stream",
     "text": [
      "Looking in links: https://data.dgl.ai/wheels-test/repo.html\r\n",
      "Requirement already satisfied: dgl in /opt/conda/envs/dgl-dev-cpu/lib/python3.10/site-packages (2.2a240410)\r\n",
      "Requirement already satisfied: numpy>=1.14.0 in /opt/conda/envs/dgl-dev-cpu/lib/python3.10/site-packages (from dgl) (1.26.4)\r\n",
      "Requirement already satisfied: scipy>=1.1.0 in /opt/conda/envs/dgl-dev-cpu/lib/python3.10/site-packages (from dgl) (1.14.0)\r\n",
      "Requirement already satisfied: networkx>=2.1 in /opt/conda/envs/dgl-dev-cpu/lib/python3.10/site-packages (from dgl) (3.3)\r\n",
      "Requirement already satisfied: requests>=2.19.0 in /opt/conda/envs/dgl-dev-cpu/lib/python3.10/site-packages (from dgl) (2.32.3)\r\n",
      "Requirement already satisfied: tqdm in /opt/conda/envs/dgl-dev-cpu/lib/python3.10/site-packages (from dgl) (4.66.5)\r\n",
      "Requirement already satisfied: psutil>=5.8.0 in /opt/conda/envs/dgl-dev-cpu/lib/python3.10/site-packages (from dgl) (6.0.0)\r\n",
      "Requirement already satisfied: torchdata>=0.5.0 in /opt/conda/envs/dgl-dev-cpu/lib/python3.10/site-packages (from dgl) (0.7.1)\r\n",
      "Requirement already satisfied: pandas in /opt/conda/envs/dgl-dev-cpu/lib/python3.10/site-packages (from dgl) (2.2.2)\r\n"
     ]
    },
    {
     "name": "stdout",
     "output_type": "stream",
     "text": [
      "Requirement already satisfied: charset-normalizer<4,>=2 in /opt/conda/envs/dgl-dev-cpu/lib/python3.10/site-packages (from requests>=2.19.0->dgl) (3.3.2)\r\n",
      "Requirement already satisfied: idna<4,>=2.5 in /opt/conda/envs/dgl-dev-cpu/lib/python3.10/site-packages (from requests>=2.19.0->dgl) (3.8)\r\n",
      "Requirement already satisfied: urllib3<3,>=1.21.1 in /opt/conda/envs/dgl-dev-cpu/lib/python3.10/site-packages (from requests>=2.19.0->dgl) (2.2.2)\r\n",
      "Requirement already satisfied: certifi>=2017.4.17 in /opt/conda/envs/dgl-dev-cpu/lib/python3.10/site-packages (from requests>=2.19.0->dgl) (2024.7.4)\r\n",
      "Requirement already satisfied: torch>=2 in /opt/conda/envs/dgl-dev-cpu/lib/python3.10/site-packages (from torchdata>=0.5.0->dgl) (2.4.0+cpu)\r\n"
     ]
    },
    {
     "name": "stdout",
     "output_type": "stream",
     "text": [
      "Requirement already satisfied: python-dateutil>=2.8.2 in /opt/conda/envs/dgl-dev-cpu/lib/python3.10/site-packages (from pandas->dgl) (2.9.0.post0)\r\n",
      "Requirement already satisfied: pytz>=2020.1 in /opt/conda/envs/dgl-dev-cpu/lib/python3.10/site-packages (from pandas->dgl) (2024.1)\r\n",
      "Requirement already satisfied: tzdata>=2022.7 in /opt/conda/envs/dgl-dev-cpu/lib/python3.10/site-packages (from pandas->dgl) (2024.1)\r\n",
      "Requirement already satisfied: six>=1.5 in /opt/conda/envs/dgl-dev-cpu/lib/python3.10/site-packages (from python-dateutil>=2.8.2->pandas->dgl) (1.16.0)\r\n",
      "Requirement already satisfied: filelock in /opt/conda/envs/dgl-dev-cpu/lib/python3.10/site-packages (from torch>=2->torchdata>=0.5.0->dgl) (3.15.4)\r\n",
      "Requirement already satisfied: typing-extensions>=4.8.0 in /opt/conda/envs/dgl-dev-cpu/lib/python3.10/site-packages (from torch>=2->torchdata>=0.5.0->dgl) (4.12.2)\r\n",
      "Requirement already satisfied: sympy in /opt/conda/envs/dgl-dev-cpu/lib/python3.10/site-packages (from torch>=2->torchdata>=0.5.0->dgl) (1.13.2)\r\n",
      "Requirement already satisfied: jinja2 in /opt/conda/envs/dgl-dev-cpu/lib/python3.10/site-packages (from torch>=2->torchdata>=0.5.0->dgl) (3.1.4)\r\n",
      "Requirement already satisfied: fsspec in /opt/conda/envs/dgl-dev-cpu/lib/python3.10/site-packages (from torch>=2->torchdata>=0.5.0->dgl) (2024.6.1)\r\n"
     ]
    },
    {
     "name": "stdout",
     "output_type": "stream",
     "text": [
      "Requirement already satisfied: MarkupSafe>=2.0 in /opt/conda/envs/dgl-dev-cpu/lib/python3.10/site-packages (from jinja2->torch>=2->torchdata>=0.5.0->dgl) (2.1.5)\r\n",
      "Requirement already satisfied: mpmath<1.4,>=1.1.0 in /opt/conda/envs/dgl-dev-cpu/lib/python3.10/site-packages (from sympy->torch>=2->torchdata>=0.5.0->dgl) (1.3.0)\r\n"
     ]
    },
    {
     "name": "stdout",
     "output_type": "stream",
     "text": [
      "DGL installed!\n"
     ]
    }
   ],
   "source": [
    "# Install required packages.\n",
    "import os\n",
    "import torch\n",
    "import numpy as np\n",
    "os.environ['TORCH'] = torch.__version__\n",
    "os.environ['DGLBACKEND'] = \"pytorch\"\n",
    "\n",
    "# Install the CPU version.\n",
    "device = torch.device(\"cpu\")\n",
    "!pip install --pre dgl -f https://data.dgl.ai/wheels-test/repo.html\n",
    "\n",
    "try:\n",
    "    import dgl\n",
    "    import dgl.graphbolt as gb\n",
    "    installed = True\n",
    "except ImportError as error:\n",
    "    installed = False\n",
    "    print(error)\n",
    "print(\"DGL installed!\" if installed else \"DGL not found!\")"
   ]
  },
  {
   "cell_type": "markdown",
   "metadata": {
    "id": "2R7WnSbjsfbr"
   },
   "source": [
    "## Data preparation\n",
    "In order to demonstrate how to organize various data, let's create a base directory first."
   ]
  },
  {
   "cell_type": "code",
   "execution_count": 2,
   "metadata": {
    "execution": {
     "iopub.execute_input": "2024-09-18T06:49:39.762851Z",
     "iopub.status.busy": "2024-09-18T06:49:39.762476Z",
     "iopub.status.idle": "2024-09-18T06:49:39.766423Z",
     "shell.execute_reply": "2024-09-18T06:49:39.765737Z"
    },
    "id": "SZipbzyltLfO"
   },
   "outputs": [
    {
     "name": "stdout",
     "output_type": "stream",
     "text": [
      "Created base directory: ./ondisk_dataset_homograph\n"
     ]
    }
   ],
   "source": [
    "base_dir = './ondisk_dataset_homograph'\n",
    "os.makedirs(base_dir, exist_ok=True)\n",
    "print(f\"Created base directory: {base_dir}\")"
   ]
  },
  {
   "cell_type": "markdown",
   "metadata": {
    "id": "qhNtIn_xhlnl"
   },
   "source": [
    "### Generate graph structure data\n",
    "For homogeneous graph, we just need to save edges(namely node pairs) into  **Numpy** or **CSV** file.\n",
    "\n",
    "Note:\n",
    "- when saving to **Numpy**, the array requires to be in shape of `(2, N)`. This format is recommended as constructing graph from it is much faster than **CSV** file.\n",
    "- when saving to **CSV** file, do not save index and header.\n"
   ]
  },
  {
   "cell_type": "code",
   "execution_count": 3,
   "metadata": {
    "execution": {
     "iopub.execute_input": "2024-09-18T06:49:39.768898Z",
     "iopub.status.busy": "2024-09-18T06:49:39.768509Z",
     "iopub.status.idle": "2024-09-18T06:49:39.781118Z",
     "shell.execute_reply": "2024-09-18T06:49:39.780486Z"
    },
    "id": "HcBt4G5BmSjr"
   },
   "outputs": [
    {
     "name": "stdout",
     "output_type": "stream",
     "text": [
      "Part of edges: [[705 192]\n",
      " [446  89]\n",
      " [472 629]\n",
      " [245 366]\n",
      " [712 485]]\n",
      "Edges are saved into ./ondisk_dataset_homograph/edges.csv\n"
     ]
    }
   ],
   "source": [
    "import numpy as np\n",
    "import pandas as pd\n",
    "num_nodes = 1000\n",
    "num_edges = 10 * num_nodes\n",
    "edges_path = os.path.join(base_dir, \"edges.csv\")\n",
    "edges = np.random.randint(0, num_nodes, size=(num_edges, 2))\n",
    "\n",
    "print(f\"Part of edges: {edges[:5, :]}\")\n",
    "\n",
    "df = pd.DataFrame(edges)\n",
    "df.to_csv(edges_path, index=False, header=False)\n",
    "\n",
    "print(f\"Edges are saved into {edges_path}\")"
   ]
  },
  {
   "cell_type": "markdown",
   "metadata": {
    "id": "kh-4cPtzpcaH"
   },
   "source": [
    "### Generate feature data for graph\n",
    "For feature data, numpy arrays and torch tensors are supported for now."
   ]
  },
  {
   "cell_type": "code",
   "execution_count": 4,
   "metadata": {
    "execution": {
     "iopub.execute_input": "2024-09-18T06:49:39.783366Z",
     "iopub.status.busy": "2024-09-18T06:49:39.783167Z",
     "iopub.status.idle": "2024-09-18T06:49:39.814146Z",
     "shell.execute_reply": "2024-09-18T06:49:39.813650Z"
    },
    "id": "_PVu1u5brBhF"
   },
   "outputs": [
    {
     "name": "stdout",
     "output_type": "stream",
     "text": [
      "Part of node feature [feat_0]: [[0.08204893 0.95362504 0.73816027 0.62175057 0.72258528]\n",
      " [0.59821215 0.34095091 0.84273009 0.96790165 0.38894836]\n",
      " [0.59518201 0.22368988 0.03053533 0.2502009  0.84985547]]\n",
      "Node feature [feat_0] is saved to ./ondisk_dataset_homograph/node-feat-0.npy\n",
      "\n",
      "Part of node feature [feat_1]: tensor([[0.4037, 0.2633, 0.3585, 0.1316, 0.1237],\n",
      "        [0.1411, 0.8038, 0.8166, 0.3727, 0.6355],\n",
      "        [0.5400, 0.1937, 0.0309, 0.9217, 0.6707]])\n",
      "Node feature [feat_1] is saved to ./ondisk_dataset_homograph/node-feat-1.pt\n",
      "\n",
      "Part of edge feature [feat_0]: [[0.16011982 0.07735409 0.74503843 0.11971027 0.96501316]\n",
      " [0.97505217 0.76576779 0.47958267 0.94001689 0.04758099]\n",
      " [0.58436972 0.93431232 0.91252485 0.45906511 0.80678327]]\n",
      "Edge feature [feat_0] is saved to ./ondisk_dataset_homograph/edge-feat-0.npy\n",
      "\n",
      "Part of edge feature [feat_1]: tensor([[0.3444, 0.6659, 0.8393, 0.4008, 0.8443],\n",
      "        [0.1990, 0.3607, 0.2492, 0.4388, 0.3886],\n",
      "        [0.4381, 0.5417, 0.0566, 0.9891, 0.5316]])\n",
      "Edge feature [feat_1] is saved to ./ondisk_dataset_homograph/edge-feat-1.pt\n",
      "\n"
     ]
    }
   ],
   "source": [
    "# Generate node feature in numpy array.\n",
    "node_feat_0_path = os.path.join(base_dir, \"node-feat-0.npy\")\n",
    "node_feat_0 = np.random.rand(num_nodes, 5)\n",
    "print(f\"Part of node feature [feat_0]: {node_feat_0[:3, :]}\")\n",
    "np.save(node_feat_0_path, node_feat_0)\n",
    "print(f\"Node feature [feat_0] is saved to {node_feat_0_path}\\n\")\n",
    "\n",
    "# Generate another node feature in torch tensor\n",
    "node_feat_1_path = os.path.join(base_dir, \"node-feat-1.pt\")\n",
    "node_feat_1 = torch.rand(num_nodes, 5)\n",
    "print(f\"Part of node feature [feat_1]: {node_feat_1[:3, :]}\")\n",
    "torch.save(node_feat_1, node_feat_1_path)\n",
    "print(f\"Node feature [feat_1] is saved to {node_feat_1_path}\\n\")\n",
    "\n",
    "# Generate edge feature in numpy array.\n",
    "edge_feat_0_path = os.path.join(base_dir, \"edge-feat-0.npy\")\n",
    "edge_feat_0 = np.random.rand(num_edges, 5)\n",
    "print(f\"Part of edge feature [feat_0]: {edge_feat_0[:3, :]}\")\n",
    "np.save(edge_feat_0_path, edge_feat_0)\n",
    "print(f\"Edge feature [feat_0] is saved to {edge_feat_0_path}\\n\")\n",
    "\n",
    "# Generate another edge feature in torch tensor\n",
    "edge_feat_1_path = os.path.join(base_dir, \"edge-feat-1.pt\")\n",
    "edge_feat_1 = torch.rand(num_edges, 5)\n",
    "print(f\"Part of edge feature [feat_1]: {edge_feat_1[:3, :]}\")\n",
    "torch.save(edge_feat_1, edge_feat_1_path)\n",
    "print(f\"Edge feature [feat_1] is saved to {edge_feat_1_path}\\n\")\n"
   ]
  },
  {
   "cell_type": "markdown",
   "metadata": {
    "id": "ZyqgOtsIwzh_"
   },
   "source": [
    "### Generate tasks\n",
    "`OnDiskDataset` supports multiple tasks. For each task, we need to prepare training/validation/test sets respectively. Such sets usually vary among different tasks. In this tutorial, let's create a **Node Classification** task and **Link Prediction** task."
   ]
  },
  {
   "cell_type": "markdown",
   "metadata": {
    "id": "hVxHaDIfzCkr"
   },
   "source": [
    "#### Node Classification Task\n",
    "For node classification task, we need **node IDs** and corresponding **labels** for each training/validation/test set. Like feature data, numpy arrays and torch tensors are supported for these sets."
   ]
  },
  {
   "cell_type": "code",
   "execution_count": 5,
   "metadata": {
    "execution": {
     "iopub.execute_input": "2024-09-18T06:49:39.816565Z",
     "iopub.status.busy": "2024-09-18T06:49:39.816184Z",
     "iopub.status.idle": "2024-09-18T06:49:39.825779Z",
     "shell.execute_reply": "2024-09-18T06:49:39.825272Z"
    },
    "id": "S5-fyBbHzTCO"
   },
   "outputs": [
    {
     "name": "stdout",
     "output_type": "stream",
     "text": [
      "Part of train ids for node classification: [821 133 176]\n",
      "NC train ids are saved to ./ondisk_dataset_homograph/nc-train-ids.npy\n",
      "\n",
      "Part of train labels for node classification: tensor([5, 6, 7])\n",
      "NC train labels are saved to ./ondisk_dataset_homograph/nc-train-labels.pt\n",
      "\n",
      "Part of val ids for node classification: [  6 484 804]\n",
      "NC val ids are saved to ./ondisk_dataset_homograph/nc-val-ids.npy\n",
      "\n",
      "Part of val labels for node classification: tensor([9, 6, 5])\n",
      "NC val labels are saved to ./ondisk_dataset_homograph/nc-val-labels.pt\n",
      "\n",
      "Part of test ids for node classification: [919 567 155]\n",
      "NC test ids are saved to ./ondisk_dataset_homograph/nc-test-ids.npy\n",
      "\n",
      "Part of test labels for node classification: tensor([8, 9, 8])\n",
      "NC test labels are saved to ./ondisk_dataset_homograph/nc-test-labels.pt\n",
      "\n"
     ]
    }
   ],
   "source": [
    "num_trains = int(num_nodes * 0.6)\n",
    "num_vals = int(num_nodes * 0.2)\n",
    "num_tests = num_nodes - num_trains - num_vals\n",
    "\n",
    "ids = np.arange(num_nodes)\n",
    "np.random.shuffle(ids)\n",
    "\n",
    "nc_train_ids_path = os.path.join(base_dir, \"nc-train-ids.npy\")\n",
    "nc_train_ids = ids[:num_trains]\n",
    "print(f\"Part of train ids for node classification: {nc_train_ids[:3]}\")\n",
    "np.save(nc_train_ids_path, nc_train_ids)\n",
    "print(f\"NC train ids are saved to {nc_train_ids_path}\\n\")\n",
    "\n",
    "nc_train_labels_path = os.path.join(base_dir, \"nc-train-labels.pt\")\n",
    "nc_train_labels = torch.randint(0, 10, (num_trains,))\n",
    "print(f\"Part of train labels for node classification: {nc_train_labels[:3]}\")\n",
    "torch.save(nc_train_labels, nc_train_labels_path)\n",
    "print(f\"NC train labels are saved to {nc_train_labels_path}\\n\")\n",
    "\n",
    "nc_val_ids_path = os.path.join(base_dir, \"nc-val-ids.npy\")\n",
    "nc_val_ids = ids[num_trains:num_trains+num_vals]\n",
    "print(f\"Part of val ids for node classification: {nc_val_ids[:3]}\")\n",
    "np.save(nc_val_ids_path, nc_val_ids)\n",
    "print(f\"NC val ids are saved to {nc_val_ids_path}\\n\")\n",
    "\n",
    "nc_val_labels_path = os.path.join(base_dir, \"nc-val-labels.pt\")\n",
    "nc_val_labels = torch.randint(0, 10, (num_vals,))\n",
    "print(f\"Part of val labels for node classification: {nc_val_labels[:3]}\")\n",
    "torch.save(nc_val_labels, nc_val_labels_path)\n",
    "print(f\"NC val labels are saved to {nc_val_labels_path}\\n\")\n",
    "\n",
    "nc_test_ids_path = os.path.join(base_dir, \"nc-test-ids.npy\")\n",
    "nc_test_ids = ids[-num_tests:]\n",
    "print(f\"Part of test ids for node classification: {nc_test_ids[:3]}\")\n",
    "np.save(nc_test_ids_path, nc_test_ids)\n",
    "print(f\"NC test ids are saved to {nc_test_ids_path}\\n\")\n",
    "\n",
    "nc_test_labels_path = os.path.join(base_dir, \"nc-test-labels.pt\")\n",
    "nc_test_labels = torch.randint(0, 10, (num_tests,))\n",
    "print(f\"Part of test labels for node classification: {nc_test_labels[:3]}\")\n",
    "torch.save(nc_test_labels, nc_test_labels_path)\n",
    "print(f\"NC test labels are saved to {nc_test_labels_path}\\n\")"
   ]
  },
  {
   "cell_type": "markdown",
   "metadata": {
    "id": "LhAcDCHQ_KJ0"
   },
   "source": [
    "#### Link Prediction Task\n",
    "For link prediction task, we need **node pairs** or **negative src/dsts** for each training/validation/test set. Like feature data, numpy arrays and torch tensors are supported for these sets."
   ]
  },
  {
   "cell_type": "code",
   "execution_count": 6,
   "metadata": {
    "execution": {
     "iopub.execute_input": "2024-09-18T06:49:39.828068Z",
     "iopub.status.busy": "2024-09-18T06:49:39.827755Z",
     "iopub.status.idle": "2024-09-18T06:49:39.837262Z",
     "shell.execute_reply": "2024-09-18T06:49:39.836775Z"
    },
    "id": "u0jCnXIcAQy4"
   },
   "outputs": [
    {
     "name": "stdout",
     "output_type": "stream",
     "text": [
      "Part of train node pairs for link prediction: [[705 192]\n",
      " [446  89]\n",
      " [472 629]]\n",
      "LP train node pairs are saved to ./ondisk_dataset_homograph/lp-train-node-pairs.npy\n",
      "\n",
      "Part of val node pairs for link prediction: [[340 341]\n",
      " [681 953]\n",
      " [ 13 524]]\n",
      "LP val node pairs are saved to ./ondisk_dataset_homograph/lp-val-node-pairs.npy\n",
      "\n",
      "Part of val negative dsts for link prediction: tensor([[350, 984, 834, 880, 142, 666, 451, 683, 177, 607],\n",
      "        [807, 322, 381, 105,  64, 705, 291, 389, 699,  85],\n",
      "        [405, 241, 582, 343, 599, 879, 332, 810, 660, 127]])\n",
      "LP val negative dsts are saved to ./ondisk_dataset_homograph/lp-val-neg-dsts.pt\n",
      "\n",
      "Part of test node pairs for link prediction: [557 764]\n",
      "LP test node pairs are saved to ./ondisk_dataset_homograph/lp-test-node-pairs.npy\n",
      "\n",
      "Part of test negative dsts for link prediction: tensor([[871, 717, 979, 158, 321, 337, 455, 107, 466, 752],\n",
      "        [261, 733, 514,  87, 521, 871, 786, 347, 948, 220],\n",
      "        [334, 978, 188, 132, 260, 706, 476, 746, 216, 647]])\n",
      "LP test negative dsts are saved to ./ondisk_dataset_homograph/lp-test-neg-dsts.pt\n",
      "\n"
     ]
    }
   ],
   "source": [
    "num_trains = int(num_edges * 0.6)\n",
    "num_vals = int(num_edges * 0.2)\n",
    "num_tests = num_edges - num_trains - num_vals\n",
    "\n",
    "lp_train_node_pairs_path = os.path.join(base_dir, \"lp-train-node-pairs.npy\")\n",
    "lp_train_node_pairs = edges[:num_trains, :]\n",
    "print(f\"Part of train node pairs for link prediction: {lp_train_node_pairs[:3]}\")\n",
    "np.save(lp_train_node_pairs_path, lp_train_node_pairs)\n",
    "print(f\"LP train node pairs are saved to {lp_train_node_pairs_path}\\n\")\n",
    "\n",
    "lp_val_node_pairs_path = os.path.join(base_dir, \"lp-val-node-pairs.npy\")\n",
    "lp_val_node_pairs = edges[num_trains:num_trains+num_vals, :]\n",
    "print(f\"Part of val node pairs for link prediction: {lp_val_node_pairs[:3]}\")\n",
    "np.save(lp_val_node_pairs_path, lp_val_node_pairs)\n",
    "print(f\"LP val node pairs are saved to {lp_val_node_pairs_path}\\n\")\n",
    "\n",
    "lp_val_neg_dsts_path = os.path.join(base_dir, \"lp-val-neg-dsts.pt\")\n",
    "lp_val_neg_dsts = torch.randint(0, num_nodes, (num_vals, 10))\n",
    "print(f\"Part of val negative dsts for link prediction: {lp_val_neg_dsts[:3]}\")\n",
    "torch.save(lp_val_neg_dsts, lp_val_neg_dsts_path)\n",
    "print(f\"LP val negative dsts are saved to {lp_val_neg_dsts_path}\\n\")\n",
    "\n",
    "lp_test_node_pairs_path = os.path.join(base_dir, \"lp-test-node-pairs.npy\")\n",
    "lp_test_node_pairs = edges[-num_tests, :]\n",
    "print(f\"Part of test node pairs for link prediction: {lp_test_node_pairs[:3]}\")\n",
    "np.save(lp_test_node_pairs_path, lp_test_node_pairs)\n",
    "print(f\"LP test node pairs are saved to {lp_test_node_pairs_path}\\n\")\n",
    "\n",
    "lp_test_neg_dsts_path = os.path.join(base_dir, \"lp-test-neg-dsts.pt\")\n",
    "lp_test_neg_dsts = torch.randint(0, num_nodes, (num_tests, 10))\n",
    "print(f\"Part of test negative dsts for link prediction: {lp_test_neg_dsts[:3]}\")\n",
    "torch.save(lp_test_neg_dsts, lp_test_neg_dsts_path)\n",
    "print(f\"LP test negative dsts are saved to {lp_test_neg_dsts_path}\\n\")"
   ]
  },
  {
   "cell_type": "markdown",
   "metadata": {
    "id": "wbk6-wxRK-6S"
   },
   "source": [
    "## Organize Data into YAML File\n",
    "Now we need to create a `metadata.yaml` file which contains the paths, dadta types of graph structure, feature data, training/validation/test sets.\n",
    "\n",
    "Notes:\n",
    "- all path should be relative to `metadata.yaml`.\n",
    "- Below fields are optional and not specified in below example.\n",
    "  - `in_memory`: indicates whether to load dada into memory or `mmap`. Default is `True`.\n",
    "\n",
    "Please refer to [YAML specification](https://github.com/dmlc/dgl/blob/master/docs/source/stochastic_training/ondisk-dataset-specification.rst) for more details."
   ]
  },
  {
   "cell_type": "code",
   "execution_count": 7,
   "metadata": {
    "execution": {
     "iopub.execute_input": "2024-09-18T06:49:39.839516Z",
     "iopub.status.busy": "2024-09-18T06:49:39.839315Z",
     "iopub.status.idle": "2024-09-18T06:49:39.844133Z",
     "shell.execute_reply": "2024-09-18T06:49:39.843652Z"
    },
    "id": "ddGTWW61Lpwp"
   },
   "outputs": [],
   "source": [
    "yaml_content = f\"\"\"\n",
    "    dataset_name: homogeneous_graph_nc_lp\n",
    "    graph:\n",
    "      nodes:\n",
    "        - num: {num_nodes}\n",
    "      edges:\n",
    "        - format: csv\n",
    "          path: {os.path.basename(edges_path)}\n",
    "    feature_data:\n",
    "      - domain: node\n",
    "        name: feat_0\n",
    "        format: numpy\n",
    "        path: {os.path.basename(node_feat_0_path)}\n",
    "      - domain: node\n",
    "        name: feat_1\n",
    "        format: torch\n",
    "        path: {os.path.basename(node_feat_1_path)}\n",
    "      - domain: edge\n",
    "        name: feat_0\n",
    "        format: numpy\n",
    "        path: {os.path.basename(edge_feat_0_path)}\n",
    "      - domain: edge\n",
    "        name: feat_1\n",
    "        format: torch\n",
    "        path: {os.path.basename(edge_feat_1_path)}\n",
    "    tasks:\n",
    "      - name: node_classification\n",
    "        num_classes: 10\n",
    "        train_set:\n",
    "          - data:\n",
    "              - name: seed_nodes\n",
    "                format: numpy\n",
    "                path: {os.path.basename(nc_train_ids_path)}\n",
    "              - name: labels\n",
    "                format: torch\n",
    "                path: {os.path.basename(nc_train_labels_path)}\n",
    "        validation_set:\n",
    "          - data:\n",
    "              - name: seed_nodes\n",
    "                format: numpy\n",
    "                path: {os.path.basename(nc_val_ids_path)}\n",
    "              - name: labels\n",
    "                format: torch\n",
    "                path: {os.path.basename(nc_val_labels_path)}\n",
    "        test_set:\n",
    "          - data:\n",
    "              - name: seed_nodes\n",
    "                format: numpy\n",
    "                path: {os.path.basename(nc_test_ids_path)}\n",
    "              - name: labels\n",
    "                format: torch\n",
    "                path: {os.path.basename(nc_test_labels_path)}\n",
    "      - name: link_prediction\n",
    "        num_classes: 10\n",
    "        train_set:\n",
    "          - data:\n",
    "              - name: node_pairs\n",
    "                format: numpy\n",
    "                path: {os.path.basename(lp_train_node_pairs_path)}\n",
    "        validation_set:\n",
    "          - data:\n",
    "              - name: node_pairs\n",
    "                format: numpy\n",
    "                path: {os.path.basename(lp_val_node_pairs_path)}\n",
    "              - name: negative_dsts\n",
    "                format: torch\n",
    "                path: {os.path.basename(lp_val_neg_dsts_path)}\n",
    "        test_set:\n",
    "          - data:\n",
    "              - name: node_pairs\n",
    "                format: numpy\n",
    "                path: {os.path.basename(lp_test_node_pairs_path)}\n",
    "              - name: negative_dsts\n",
    "                format: torch\n",
    "                path: {os.path.basename(lp_test_neg_dsts_path)}\n",
    "\"\"\"\n",
    "metadata_path = os.path.join(base_dir, \"metadata.yaml\")\n",
    "with open(metadata_path, \"w\") as f:\n",
    "  f.write(yaml_content)"
   ]
  },
  {
   "cell_type": "markdown",
   "metadata": {
    "id": "kEfybHGhOW7O"
   },
   "source": [
    "## Instantiate `OnDiskDataset`\n",
    "Now we're ready to load dataset via `dgl.graphbolt.OnDiskDataset`. When instantiating, we just pass in the base directory where `metadata.yaml` file lies.\n",
    "\n",
    "During first instantiation, GraphBolt preprocesses the raw data such as constructing `FusedCSCSamplingGraph` from edges. All data including graph, feature data, training/validation/test sets are put into `preprocessed` directory after preprocessing. Any following dataset loading will skip the preprocess stage.\n",
    "\n",
    "After preprocessing, `load()` is required to be called explicitly in order to load graph, feature data and tasks."
   ]
  },
  {
   "cell_type": "code",
   "execution_count": 8,
   "metadata": {
    "execution": {
     "iopub.execute_input": "2024-09-18T06:49:39.846356Z",
     "iopub.status.busy": "2024-09-18T06:49:39.846055Z",
     "iopub.status.idle": "2024-09-18T06:49:39.922954Z",
     "shell.execute_reply": "2024-09-18T06:49:39.922420Z"
    },
    "id": "W58CZoSzOiyo"
   },
   "outputs": [
    {
     "name": "stdout",
     "output_type": "stream",
     "text": [
      "The on-disk dataset is re-preprocessing, so the existing preprocessed dataset has been removed.\n",
      "Start to preprocess the on-disk dataset.\n",
      "Finish preprocessing the on-disk dataset.\n",
      "Loaded graph: FusedCSCSamplingGraph(csc_indptr=tensor([    0,     7,    19,  ...,  9989,  9993, 10000], dtype=torch.int32),\n",
      "                      indices=tensor([879, 465,  98,  ..., 243,  15, 597], dtype=torch.int32),\n",
      "                      total_num_nodes=1000, num_edges=10000,)\n",
      "\n",
      "Loaded feature store: TorchBasedFeatureStore(\n",
      "    {(<OnDiskFeatureDataDomain.NODE: 'node'>, None, 'feat_0'): TorchBasedFeature(\n",
      "        feature=tensor([[0.0820, 0.9536, 0.7382, 0.6218, 0.7226],\n",
      "                        [0.5982, 0.3410, 0.8427, 0.9679, 0.3889],\n",
      "                        [0.5952, 0.2237, 0.0305, 0.2502, 0.8499],\n",
      "                        ...,\n",
      "                        [0.7884, 0.0820, 0.6901, 0.2288, 0.5035],\n",
      "                        [0.3052, 0.1156, 0.9242, 0.5555, 0.6091],\n",
      "                        [0.3083, 0.4103, 0.0154, 0.9602, 0.4661]], dtype=torch.float64),\n",
      "        metadata={},\n",
      "    ), (<OnDiskFeatureDataDomain.NODE: 'node'>, None, 'feat_1'): TorchBasedFeature(\n",
      "        feature=tensor([[0.4037, 0.2633, 0.3585, 0.1316, 0.1237],\n",
      "                        [0.1411, 0.8038, 0.8166, 0.3727, 0.6355],\n",
      "                        [0.5400, 0.1937, 0.0309, 0.9217, 0.6707],\n",
      "                        ...,\n",
      "                        [0.8661, 0.8592, 0.3349, 0.8143, 0.9777],\n",
      "                        [0.7761, 0.0365, 0.8201, 0.8652, 0.5188],\n",
      "                        [0.0349, 0.4799, 0.7864, 0.1692, 0.0369]]),\n",
      "        metadata={},\n",
      "    ), (<OnDiskFeatureDataDomain.EDGE: 'edge'>, None, 'feat_0'): TorchBasedFeature(\n",
      "        feature=tensor([[0.1601, 0.0774, 0.7450, 0.1197, 0.9650],\n",
      "                        [0.9751, 0.7658, 0.4796, 0.9400, 0.0476],\n",
      "                        [0.5844, 0.9343, 0.9125, 0.4591, 0.8068],\n",
      "                        ...,\n",
      "                        [0.1083, 0.3642, 0.4766, 0.9285, 0.6252],\n",
      "                        [0.4349, 0.1600, 0.0394, 0.3113, 0.6743],\n",
      "                        [0.9324, 0.3484, 0.9908, 0.3396, 0.3582]], dtype=torch.float64),\n",
      "        metadata={},\n",
      "    ), (<OnDiskFeatureDataDomain.EDGE: 'edge'>, None, 'feat_1'): TorchBasedFeature(\n",
      "        feature=tensor([[0.3444, 0.6659, 0.8393, 0.4008, 0.8443],\n",
      "                        [0.1990, 0.3607, 0.2492, 0.4388, 0.3886],\n",
      "                        [0.4381, 0.5417, 0.0566, 0.9891, 0.5316],\n",
      "                        ...,\n",
      "                        [0.6478, 0.6641, 0.8035, 0.3008, 0.4948],\n",
      "                        [0.9430, 0.9164, 0.9394, 0.9886, 0.7227],\n",
      "                        [0.6113, 0.2836, 0.7164, 0.1459, 0.2148]]),\n",
      "        metadata={},\n",
      "    )}\n",
      ")\n",
      "\n",
      "Loaded node classification task: OnDiskTask(validation_set=ItemSet(\n",
      "               items=(tensor([  6, 484, 804, 850, 730, 748, 466, 281, 747, 401, 285, 533,  46, 267,\n",
      "                   905, 745, 943, 979, 782, 211, 795, 640, 826, 439, 282, 482, 527, 709,\n",
      "                   856, 324, 586, 450, 926, 431, 169, 587, 695, 563, 257, 733, 789, 996,\n",
      "                   248, 416, 296, 908, 689,  47, 901, 525, 462, 673, 729, 601, 606, 455,\n",
      "                   414, 246, 981, 867, 216, 666, 126, 899, 627, 301, 297, 814, 752, 818,\n",
      "                   279, 119, 738, 737, 823, 359, 382, 861,  38, 341, 968, 892, 665, 337,\n",
      "                   574, 264, 137, 256, 862, 153, 949, 221, 561, 105,  41, 449, 167, 876,\n",
      "                   693, 541, 690, 564, 190, 497, 593, 309,  54, 241, 707,  37, 320, 417,\n",
      "                   602, 102,  59, 501, 504, 897,  86, 523, 831, 130, 273, 174, 426, 572,\n",
      "                    53, 808, 890, 122, 820, 923, 701, 650, 641, 236, 391, 434, 454,   0,\n",
      "                   939, 201, 347, 706, 305,  23, 124, 372, 403, 427, 262, 345, 853, 973,\n",
      "                     5, 953, 205, 646, 999, 422, 932,  69, 936, 740, 532, 277, 360, 120,\n",
      "                   697, 402, 268, 900, 679, 513, 110, 242, 825, 694, 342,  16, 800, 325,\n",
      "                    31, 166, 687, 796, 698, 487, 615, 887, 791, 358,  26,  61, 524, 619,\n",
      "                   987, 811,  15, 597], dtype=torch.int32), tensor([9, 6, 5, 4, 1, 2, 5, 3, 5, 7, 7, 6, 7, 3, 5, 5, 5, 1, 9, 0, 2, 6, 7, 6,\n",
      "                   1, 4, 8, 4, 7, 0, 7, 3, 1, 9, 2, 5, 9, 0, 6, 2, 6, 2, 3, 6, 8, 8, 6, 7,\n",
      "                   1, 5, 0, 4, 9, 1, 7, 8, 9, 9, 2, 1, 0, 1, 4, 1, 7, 5, 0, 1, 0, 9, 9, 4,\n",
      "                   8, 6, 0, 0, 9, 4, 8, 1, 0, 3, 5, 8, 5, 2, 5, 5, 4, 9, 3, 5, 6, 7, 7, 7,\n",
      "                   0, 8, 5, 0, 6, 5, 6, 0, 5, 9, 6, 9, 7, 0, 1, 2, 7, 1, 1, 1, 5, 7, 1, 6,\n",
      "                   8, 6, 5, 2, 1, 3, 5, 4, 1, 4, 1, 2, 7, 5, 1, 6, 2, 7, 9, 5, 4, 5, 1, 9,\n",
      "                   7, 8, 0, 1, 9, 8, 6, 3, 1, 4, 3, 5, 9, 0, 5, 8, 8, 0, 4, 6, 3, 8, 9, 2,\n",
      "                   4, 7, 7, 4, 5, 1, 9, 7, 6, 1, 9, 6, 4, 4, 9, 7, 0, 5, 9, 8, 2, 3, 7, 2,\n",
      "                   5, 0, 2, 2, 0, 4, 9, 8])),\n",
      "               names=('seed_nodes', 'labels'),\n",
      "           ),\n",
      "           train_set=ItemSet(\n",
      "               items=(tensor([821, 133, 176,  65,  45, 959, 874, 803, 291, 975,  30, 735, 306, 562,\n",
      "                   972, 766, 139, 647, 116, 158, 702, 244, 788,  50, 961, 507, 678, 957,\n",
      "                   512, 865,  87, 742, 571, 744, 554,  57,  74, 570, 141, 817, 955, 367,\n",
      "                   761, 145, 175, 200, 610, 178, 585, 186, 618, 583, 302, 365, 193, 165,\n",
      "                   474, 931, 942, 723, 197,  17, 286,  64, 656, 299, 335,  51, 990, 191,\n",
      "                    25, 620, 444, 878, 101, 713, 368, 313,  90, 787, 642,  71, 790, 468,\n",
      "                   976, 578, 660, 871, 773, 189, 858, 437, 743, 108, 986, 234, 537, 711,\n",
      "                   603,  20, 645, 398, 684, 463, 778,  35, 872,  80, 560, 518, 393, 708,\n",
      "                   304, 399, 548, 212, 556, 859, 357, 140, 146, 383, 777, 938, 275,  63,\n",
      "                   840, 295, 228, 127, 396, 812, 243, 159, 499, 535, 845,  91, 502, 471,\n",
      "                   596, 534, 303, 604, 163, 327, 489, 969, 864, 600, 330, 436, 703,  19,\n",
      "                   659, 676, 913, 549, 962, 930,  24,  13, 616, 109, 350, 882,  72, 569,\n",
      "                   851, 483, 373, 822, 651, 456, 270, 429, 935, 934, 346, 307, 157, 575,\n",
      "                   654, 966, 214, 739, 921, 134, 836, 980, 400, 718, 644,  75, 992, 590,\n",
      "                   508, 223, 816,  95, 215, 493, 195,  32, 485, 475, 907, 547, 156, 514,\n",
      "                   728, 727, 380, 950, 922, 538, 203, 333, 430, 699, 617, 710, 366, 844,\n",
      "                   857, 715,  58, 912, 784, 681, 763, 390, 407,  52, 736, 465, 409, 967,\n",
      "                    85, 259, 506, 824, 760, 834, 594, 925,  93, 125, 154, 438, 338,  11,\n",
      "                   827, 965, 293, 741, 351, 842, 188, 498, 135, 918,  42, 566, 479, 595,\n",
      "                    60, 655, 675, 355, 839, 392, 397, 131, 629, 677, 757, 451, 321, 276,\n",
      "                    70, 420, 235, 491, 769, 765, 550, 540, 536,  14, 353, 801, 994, 611,\n",
      "                   903, 622, 185,  55, 334, 637, 531, 470, 530, 280, 385, 240,  43, 692,\n",
      "                   445,   7, 749, 960, 503, 995, 783, 767, 490, 888, 771, 194, 423, 113,\n",
      "                   247, 720, 638, 106, 118,   9, 553, 648, 909, 580, 813, 384, 893, 726,\n",
      "                   691, 526, 394, 177, 734,  21, 254, 910, 230, 217, 544, 924, 885, 150,\n",
      "                   688, 162, 266, 318,  49, 104, 848, 653, 658, 725, 621, 410, 626, 404,\n",
      "                   958, 920, 828, 794,  96, 289, 187,   8, 758, 251, 231, 982, 181,  76,\n",
      "                    29, 381, 830, 591, 428, 452, 343, 323, 762, 582, 951, 974, 332, 274,\n",
      "                   841, 412, 224, 258, 652, 886,   1, 559,  98, 542, 168, 704, 634, 558,\n",
      "                   528, 670, 964,  44, 855,   2, 551, 480,  40, 453, 408, 179, 948,  83,\n",
      "                   881, 750, 780, 329,  73, 717, 883, 552, 686,  68, 376, 348, 714, 805,\n",
      "                   432, 581, 759, 331, 143, 473, 459, 202, 233, 929, 375, 984, 505, 724,\n",
      "                   114, 142, 916, 478, 877, 144, 310, 308, 476, 249, 199, 798, 785, 418,\n",
      "                   379, 521, 136, 184,  33, 312, 362, 705, 997, 636, 443, 207, 838, 220,\n",
      "                   880, 664, 661, 477, 915, 486, 895, 196,  56, 609, 435, 170, 719, 192,\n",
      "                   898, 441, 316, 956, 983, 164, 945, 868, 238,  88, 148, 941, 753, 797,\n",
      "                   700, 290, 219, 147, 674, 793, 792, 311,   4, 781,  99, 103, 326, 292,\n",
      "                   344, 253, 237, 630, 415, 557, 511, 283, 633, 260, 977,  92, 218, 255,\n",
      "                   911, 543, 946, 510,  18, 625, 613,  94, 632, 631,  77, 252, 592, 746,\n",
      "                   810,  34, 873, 272, 809, 927, 889, 635, 971, 469,  12, 278, 413, 906,\n",
      "                   896, 464, 111, 649, 669, 768, 671,  79, 386, 239, 854, 129, 388, 494,\n",
      "                   716,  89, 879, 776, 928, 832, 770, 395, 516, 588, 411, 352, 891,  67,\n",
      "                   947, 764, 722,  27, 623, 336, 112, 458,  39, 914, 287, 160],\n",
      "                  dtype=torch.int32), tensor([5, 6, 7, 5, 8, 9, 2, 8, 0, 1, 1, 2, 2, 0, 0, 4, 7, 2, 4, 5, 7, 1, 1, 2,\n",
      "                   8, 9, 9, 1, 9, 4, 1, 0, 9, 7, 9, 3, 2, 5, 9, 5, 8, 1, 1, 8, 1, 4, 3, 9,\n",
      "                   9, 6, 8, 4, 8, 8, 7, 7, 0, 5, 0, 6, 8, 7, 4, 2, 2, 1, 2, 4, 3, 2, 2, 6,\n",
      "                   2, 4, 7, 8, 1, 8, 0, 0, 3, 0, 8, 8, 0, 3, 9, 5, 9, 0, 1, 4, 5, 3, 3, 6,\n",
      "                   6, 5, 6, 8, 8, 8, 8, 3, 5, 8, 2, 4, 2, 3, 2, 2, 4, 3, 7, 8, 0, 5, 7, 4,\n",
      "                   8, 3, 7, 8, 2, 4, 4, 8, 5, 9, 4, 9, 6, 0, 7, 6, 6, 6, 8, 6, 6, 6, 7, 2,\n",
      "                   1, 0, 2, 4, 3, 3, 5, 3, 0, 7, 9, 7, 3, 2, 0, 2, 1, 1, 8, 5, 5, 3, 1, 1,\n",
      "                   7, 7, 4, 5, 0, 5, 8, 0, 3, 6, 4, 5, 4, 6, 0, 6, 4, 1, 5, 3, 7, 8, 4, 8,\n",
      "                   8, 3, 3, 9, 0, 8, 9, 7, 2, 6, 4, 6, 2, 6, 5, 4, 7, 0, 2, 2, 5, 4, 3, 6,\n",
      "                   7, 3, 9, 2, 6, 6, 0, 3, 7, 1, 3, 4, 6, 3, 7, 0, 0, 0, 8, 0, 9, 8, 4, 2,\n",
      "                   4, 2, 1, 8, 1, 0, 3, 0, 9, 9, 7, 8, 3, 8, 7, 6, 6, 7, 9, 0, 1, 7, 2, 2,\n",
      "                   3, 9, 0, 4, 2, 3, 8, 2, 0, 9, 7, 9, 0, 0, 4, 2, 7, 3, 4, 6, 7, 9, 6, 5,\n",
      "                   9, 5, 9, 9, 3, 1, 9, 3, 1, 1, 7, 0, 3, 3, 7, 2, 7, 3, 4, 3, 5, 9, 5, 1,\n",
      "                   6, 3, 5, 8, 1, 0, 3, 0, 1, 1, 7, 1, 8, 9, 6, 9, 7, 7, 6, 2, 8, 8, 3, 6,\n",
      "                   6, 1, 0, 6, 5, 4, 4, 1, 8, 0, 6, 0, 6, 3, 8, 9, 1, 8, 8, 4, 7, 3, 0, 8,\n",
      "                   7, 0, 8, 3, 7, 8, 6, 8, 3, 3, 2, 2, 2, 2, 3, 7, 4, 8, 9, 3, 9, 3, 7, 0,\n",
      "                   0, 2, 6, 6, 8, 1, 3, 9, 9, 1, 7, 6, 7, 6, 9, 4, 6, 2, 0, 2, 3, 0, 0, 2,\n",
      "                   3, 4, 1, 8, 8, 4, 9, 8, 9, 2, 0, 3, 2, 3, 1, 4, 3, 4, 2, 5, 1, 8, 7, 9,\n",
      "                   9, 4, 8, 5, 1, 7, 9, 7, 9, 0, 7, 5, 8, 7, 3, 1, 3, 6, 0, 1, 2, 0, 7, 2,\n",
      "                   4, 3, 0, 0, 4, 0, 0, 0, 7, 1, 9, 0, 6, 3, 7, 5, 2, 3, 9, 9, 2, 6, 2, 9,\n",
      "                   9, 4, 4, 2, 0, 6, 1, 7, 7, 9, 1, 1, 6, 8, 1, 5, 6, 2, 5, 8, 0, 5, 7, 5,\n",
      "                   9, 2, 0, 2, 1, 7, 9, 6, 6, 8, 0, 4, 0, 7, 3, 8, 6, 7, 2, 3, 3, 0, 2, 4,\n",
      "                   7, 8, 7, 4, 6, 6, 1, 2, 8, 1, 9, 2, 5, 7, 8, 9, 6, 3, 3, 2, 9, 4, 9, 5,\n",
      "                   0, 0, 7, 9, 3, 2, 5, 9, 0, 0, 8, 2, 4, 4, 5, 6, 0, 7, 0, 0, 1, 5, 0, 2,\n",
      "                   2, 4, 4, 7, 2, 0, 2, 5, 6, 3, 1, 0, 2, 6, 5, 6, 1, 1, 4, 0, 8, 1, 9, 1])),\n",
      "               names=('seed_nodes', 'labels'),\n",
      "           ),\n",
      "           test_set=ItemSet(\n",
      "               items=(tensor([919, 567, 155, 754, 245, 870, 863, 628, 712, 696, 993, 568, 424, 989,\n",
      "                   447, 884, 265, 584, 917, 555, 472, 774, 161,  48,  81, 751, 680, 614,\n",
      "                   599,  10, 952, 682, 467, 612, 668,  22, 361, 852, 843, 519, 933, 667,\n",
      "                   389, 213, 387, 902, 371, 799, 314, 117, 963, 183, 904, 517, 779, 250,\n",
      "                   405, 605, 339, 226, 515, 222, 319, 608, 406, 328, 937, 232, 121, 598,\n",
      "                   546, 138, 978, 132, 115, 370, 545, 271, 100, 802, 263, 152, 374, 315,\n",
      "                   446, 229, 944, 317, 204,  82, 171, 756, 461, 488, 849,  36, 340, 732,\n",
      "                   520, 419, 576, 448, 833, 284, 607, 529, 573, 496, 685, 589, 172, 180,\n",
      "                   269, 481, 442, 261, 807, 579, 988, 369, 663, 227, 509, 775, 847, 846,\n",
      "                   182, 835, 151, 894, 364, 522,   3, 998, 672, 457, 198, 210, 866, 294,\n",
      "                   565, 298, 460, 225, 500, 985, 772, 378, 731, 683, 440,  97, 492, 300,\n",
      "                   107, 721, 363, 991, 354, 577, 815,  28, 322, 624, 208, 433,  78, 970,\n",
      "                    62, 837, 495, 639, 875, 349, 539, 128, 173, 377, 209, 421, 819,  66,\n",
      "                   755, 806, 643, 206, 786, 869, 954, 829, 425, 940, 123,  84, 860, 657,\n",
      "                   662, 288, 356, 149], dtype=torch.int32), tensor([8, 9, 8, 8, 8, 9, 2, 4, 4, 3, 9, 4, 3, 2, 7, 2, 1, 7, 0, 0, 6, 5, 3, 3,\n",
      "                   1, 8, 8, 9, 0, 3, 0, 5, 7, 3, 1, 1, 4, 5, 1, 9, 5, 9, 8, 3, 0, 9, 2, 0,\n",
      "                   6, 5, 9, 3, 9, 0, 3, 7, 1, 7, 6, 5, 2, 7, 4, 3, 9, 0, 9, 5, 4, 6, 1, 9,\n",
      "                   6, 7, 5, 1, 4, 2, 6, 2, 0, 7, 9, 9, 4, 0, 2, 2, 9, 3, 7, 1, 6, 9, 6, 6,\n",
      "                   4, 1, 5, 8, 0, 6, 3, 9, 1, 3, 2, 1, 1, 0, 4, 5, 8, 5, 4, 8, 1, 6, 9, 5,\n",
      "                   8, 7, 1, 6, 2, 7, 4, 0, 0, 5, 8, 1, 7, 7, 8, 3, 1, 8, 8, 2, 1, 9, 9, 1,\n",
      "                   9, 8, 2, 5, 8, 3, 6, 5, 0, 7, 0, 3, 2, 8, 8, 2, 0, 8, 1, 6, 3, 2, 2, 5,\n",
      "                   7, 6, 7, 0, 0, 1, 3, 1, 3, 9, 0, 8, 2, 0, 3, 5, 8, 5, 9, 2, 3, 9, 6, 3,\n",
      "                   4, 2, 8, 6, 8, 2, 0, 4])),\n",
      "               names=('seed_nodes', 'labels'),\n",
      "           ),\n",
      "           metadata={'name': 'node_classification', 'num_classes': 10},)\n",
      "\n",
      "Loaded link prediction task: OnDiskTask(validation_set=ItemSet(\n",
      "               items=(tensor([[340, 341],\n",
      "                   [681, 953],\n",
      "                   [ 13, 524],\n",
      "                   ...,\n",
      "                   [457, 193],\n",
      "                   [551, 535],\n",
      "                   [191, 921]], dtype=torch.int32), tensor([[350, 984, 834,  ..., 683, 177, 607],\n",
      "                   [807, 322, 381,  ..., 389, 699,  85],\n",
      "                   [405, 241, 582,  ..., 810, 660, 127],\n",
      "                   ...,\n",
      "                   [836, 947, 135,  ..., 604, 934, 924],\n",
      "                   [361, 695,  63,  ..., 211, 956, 364],\n",
      "                   [290, 954, 688,  ..., 246, 830, 536]], dtype=torch.int32)),\n",
      "               names=('node_pairs', 'negative_dsts'),\n",
      "           ),\n",
      "           train_set=ItemSet(\n",
      "               items=(tensor([[705, 192],\n",
      "                   [446,  89],\n",
      "                   [472, 629],\n",
      "                   ...,\n",
      "                   [710, 272],\n",
      "                   [275, 796],\n",
      "                   [648, 585]], dtype=torch.int32),),\n",
      "               names=('node_pairs',),\n",
      "           ),\n",
      "           test_set=ItemSet(\n",
      "               items=(tensor([557, 764], dtype=torch.int32), tensor([[871, 717, 979,  ..., 107, 466, 752],\n",
      "                   [261, 733, 514,  ..., 347, 948, 220],\n",
      "                   [334, 978, 188,  ..., 746, 216, 647],\n",
      "                   ...,\n",
      "                   [  2, 385, 948,  ...,   9, 429, 182],\n",
      "                   [ 36, 323, 888,  ..., 369, 818, 164],\n",
      "                   [ 37, 613, 767,  ..., 891, 534, 328]], dtype=torch.int32)),\n",
      "               names=('node_pairs', 'negative_dsts'),\n",
      "           ),\n",
      "           metadata={'name': 'link_prediction', 'num_classes': 10},)\n",
      "\n"
     ]
    },
    {
     "name": "stderr",
     "output_type": "stream",
     "text": [
      "/home/ubuntu/regression_test/dgl/python/dgl/graphbolt/internal/utils.py:16: FutureWarning: You are using `torch.load` with `weights_only=False` (the current default value), which uses the default pickle module implicitly. It is possible to construct malicious pickle data which will execute arbitrary code during unpickling (See https://github.com/pytorch/pytorch/blob/main/SECURITY.md#untrusted-models for more details). In a future release, the default value for `weights_only` will be flipped to `True`. This limits the functions that could be executed during unpickling. Arbitrary objects will no longer be allowed to be loaded via this mode unless they are explicitly allowlisted by the user via `torch.serialization.add_safe_globals`. We recommend you start setting `weights_only=True` for any use case where you don't have full control of the loaded file. Please open an issue on GitHub for any issues related to this experimental feature.\n",
      "  return torch.load(path)\n",
      "/home/ubuntu/regression_test/dgl/python/dgl/graphbolt/impl/ondisk_dataset.py:464: DGLWarning: Edge feature is stored, but edge IDs are not saved.\n",
      "  dgl_warning(\"Edge feature is stored, but edge IDs are not saved.\")\n",
      "/home/ubuntu/regression_test/dgl/python/dgl/graphbolt/impl/ondisk_dataset.py:856: FutureWarning: You are using `torch.load` with `weights_only=False` (the current default value), which uses the default pickle module implicitly. It is possible to construct malicious pickle data which will execute arbitrary code during unpickling (See https://github.com/pytorch/pytorch/blob/main/SECURITY.md#untrusted-models for more details). In a future release, the default value for `weights_only` will be flipped to `True`. This limits the functions that could be executed during unpickling. Arbitrary objects will no longer be allowed to be loaded via this mode unless they are explicitly allowlisted by the user via `torch.serialization.add_safe_globals`. We recommend you start setting `weights_only=True` for any use case where you don't have full control of the loaded file. Please open an issue on GitHub for any issues related to this experimental feature.\n",
      "  return torch.load(graph_topology.path)\n"
     ]
    }
   ],
   "source": [
    "dataset = gb.OnDiskDataset(base_dir).load()\n",
    "graph = dataset.graph\n",
    "print(f\"Loaded graph: {graph}\\n\")\n",
    "\n",
    "feature = dataset.feature\n",
    "print(f\"Loaded feature store: {feature}\\n\")\n",
    "\n",
    "tasks = dataset.tasks\n",
    "nc_task = tasks[0]\n",
    "print(f\"Loaded node classification task: {nc_task}\\n\")\n",
    "lp_task = tasks[1]\n",
    "print(f\"Loaded link prediction task: {lp_task}\\n\")"
   ]
  }
 ],
 "metadata": {
  "colab": {
   "private_outputs": true,
   "provenance": []
  },
  "kernelspec": {
   "display_name": "Python 3",
   "name": "python3"
  },
  "language_info": {
   "codemirror_mode": {
    "name": "ipython",
    "version": 3
   },
   "file_extension": ".py",
   "mimetype": "text/x-python",
   "name": "python",
   "nbconvert_exporter": "python",
   "pygments_lexer": "ipython3",
   "version": "3.10.14"
  }
 },
 "nbformat": 4,
 "nbformat_minor": 0
}

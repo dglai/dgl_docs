{
 "cells": [
  {
   "cell_type": "markdown",
   "metadata": {
    "id": "FnFhPMaAfLtJ"
   },
   "source": [
    "# OnDiskDataset for Homogeneous Graph\n",
    "\n",
    "[![Open In Colab](https://colab.research.google.com/assets/colab-badge.svg)](https://colab.research.google.com/github/dmlc/dgl/blob/master/notebooks/stochastic_training/ondisk_dataset_homograph.ipynb) [![GitHub](https://img.shields.io/badge/-View%20on%20GitHub-181717?logo=github&logoColor=ffffff)](https://github.com/dmlc/dgl/blob/master/notebooks/stochastic_training/ondisk_dataset_homograph.ipynb)\n",
    "\n",
    "This tutorial shows how to create `OnDiskDataset` for homogeneous graph that could be used in **GraphBolt** framework.\n",
    "\n",
    "By the end of this tutorial, you will be able to\n",
    "\n",
    "- organize graph structure data.\n",
    "- organize feature data.\n",
    "- organize training/validation/test set for specific tasks.\n",
    "\n",
    "To create an ``OnDiskDataset`` object, you need to organize all the data including graph structure, feature data and tasks into a directory. The directory should contain a ``metadata.yaml`` file that describes the metadata of the dataset.\n",
    "\n",
    "Now let's generate various data step by step and organize them together to instantiate `OnDiskDataset` finally."
   ]
  },
  {
   "cell_type": "markdown",
   "metadata": {
    "id": "Wlb19DtWgtzq"
   },
   "source": [
    "## Install DGL package"
   ]
  },
  {
   "cell_type": "code",
   "execution_count": 1,
   "metadata": {
    "execution": {
     "iopub.execute_input": "2024-08-27T06:44:11.757237Z",
     "iopub.status.busy": "2024-08-27T06:44:11.756922Z",
     "iopub.status.idle": "2024-08-27T06:44:15.496408Z",
     "shell.execute_reply": "2024-08-27T06:44:15.495587Z"
    },
    "id": "UojlT9ZGgyr9"
   },
   "outputs": [
    {
     "name": "stdout",
     "output_type": "stream",
     "text": [
      "Looking in links: https://data.dgl.ai/wheels-test/repo.html\r\n",
      "Requirement already satisfied: dgl in /opt/conda/envs/dgl-dev-cpu/lib/python3.10/site-packages (2.2a240410)\r\n",
      "Requirement already satisfied: numpy>=1.14.0 in /opt/conda/envs/dgl-dev-cpu/lib/python3.10/site-packages (from dgl) (1.26.4)\r\n",
      "Requirement already satisfied: scipy>=1.1.0 in /opt/conda/envs/dgl-dev-cpu/lib/python3.10/site-packages (from dgl) (1.14.0)\r\n",
      "Requirement already satisfied: networkx>=2.1 in /opt/conda/envs/dgl-dev-cpu/lib/python3.10/site-packages (from dgl) (3.3)\r\n",
      "Requirement already satisfied: requests>=2.19.0 in /opt/conda/envs/dgl-dev-cpu/lib/python3.10/site-packages (from dgl) (2.32.3)\r\n",
      "Requirement already satisfied: tqdm in /opt/conda/envs/dgl-dev-cpu/lib/python3.10/site-packages (from dgl) (4.66.5)\r\n",
      "Requirement already satisfied: psutil>=5.8.0 in /opt/conda/envs/dgl-dev-cpu/lib/python3.10/site-packages (from dgl) (6.0.0)\r\n",
      "Requirement already satisfied: torchdata>=0.5.0 in /opt/conda/envs/dgl-dev-cpu/lib/python3.10/site-packages (from dgl) (0.7.1)\r\n",
      "Requirement already satisfied: pandas in /opt/conda/envs/dgl-dev-cpu/lib/python3.10/site-packages (from dgl) (2.2.2)\r\n"
     ]
    },
    {
     "name": "stdout",
     "output_type": "stream",
     "text": [
      "Requirement already satisfied: charset-normalizer<4,>=2 in /opt/conda/envs/dgl-dev-cpu/lib/python3.10/site-packages (from requests>=2.19.0->dgl) (3.3.2)\r\n",
      "Requirement already satisfied: idna<4,>=2.5 in /opt/conda/envs/dgl-dev-cpu/lib/python3.10/site-packages (from requests>=2.19.0->dgl) (3.8)\r\n",
      "Requirement already satisfied: urllib3<3,>=1.21.1 in /opt/conda/envs/dgl-dev-cpu/lib/python3.10/site-packages (from requests>=2.19.0->dgl) (2.2.2)\r\n",
      "Requirement already satisfied: certifi>=2017.4.17 in /opt/conda/envs/dgl-dev-cpu/lib/python3.10/site-packages (from requests>=2.19.0->dgl) (2024.7.4)\r\n",
      "Requirement already satisfied: torch>=2 in /opt/conda/envs/dgl-dev-cpu/lib/python3.10/site-packages (from torchdata>=0.5.0->dgl) (2.4.0+cpu)\r\n"
     ]
    },
    {
     "name": "stdout",
     "output_type": "stream",
     "text": [
      "Requirement already satisfied: python-dateutil>=2.8.2 in /opt/conda/envs/dgl-dev-cpu/lib/python3.10/site-packages (from pandas->dgl) (2.9.0.post0)\r\n",
      "Requirement already satisfied: pytz>=2020.1 in /opt/conda/envs/dgl-dev-cpu/lib/python3.10/site-packages (from pandas->dgl) (2024.1)\r\n",
      "Requirement already satisfied: tzdata>=2022.7 in /opt/conda/envs/dgl-dev-cpu/lib/python3.10/site-packages (from pandas->dgl) (2024.1)\r\n",
      "Requirement already satisfied: six>=1.5 in /opt/conda/envs/dgl-dev-cpu/lib/python3.10/site-packages (from python-dateutil>=2.8.2->pandas->dgl) (1.16.0)\r\n",
      "Requirement already satisfied: filelock in /opt/conda/envs/dgl-dev-cpu/lib/python3.10/site-packages (from torch>=2->torchdata>=0.5.0->dgl) (3.15.4)\r\n",
      "Requirement already satisfied: typing-extensions>=4.8.0 in /opt/conda/envs/dgl-dev-cpu/lib/python3.10/site-packages (from torch>=2->torchdata>=0.5.0->dgl) (4.12.2)\r\n",
      "Requirement already satisfied: sympy in /opt/conda/envs/dgl-dev-cpu/lib/python3.10/site-packages (from torch>=2->torchdata>=0.5.0->dgl) (1.13.2)\r\n",
      "Requirement already satisfied: jinja2 in /opt/conda/envs/dgl-dev-cpu/lib/python3.10/site-packages (from torch>=2->torchdata>=0.5.0->dgl) (3.1.4)\r\n",
      "Requirement already satisfied: fsspec in /opt/conda/envs/dgl-dev-cpu/lib/python3.10/site-packages (from torch>=2->torchdata>=0.5.0->dgl) (2024.6.1)\r\n"
     ]
    },
    {
     "name": "stdout",
     "output_type": "stream",
     "text": [
      "Requirement already satisfied: MarkupSafe>=2.0 in /opt/conda/envs/dgl-dev-cpu/lib/python3.10/site-packages (from jinja2->torch>=2->torchdata>=0.5.0->dgl) (2.1.5)\r\n",
      "Requirement already satisfied: mpmath<1.4,>=1.1.0 in /opt/conda/envs/dgl-dev-cpu/lib/python3.10/site-packages (from sympy->torch>=2->torchdata>=0.5.0->dgl) (1.3.0)\r\n"
     ]
    },
    {
     "name": "stdout",
     "output_type": "stream",
     "text": [
      "DGL installed!\n"
     ]
    }
   ],
   "source": [
    "# Install required packages.\n",
    "import os\n",
    "import torch\n",
    "import numpy as np\n",
    "os.environ['TORCH'] = torch.__version__\n",
    "os.environ['DGLBACKEND'] = \"pytorch\"\n",
    "\n",
    "# Install the CPU version.\n",
    "device = torch.device(\"cpu\")\n",
    "!pip install --pre dgl -f https://data.dgl.ai/wheels-test/repo.html\n",
    "\n",
    "try:\n",
    "    import dgl\n",
    "    import dgl.graphbolt as gb\n",
    "    installed = True\n",
    "except ImportError as error:\n",
    "    installed = False\n",
    "    print(error)\n",
    "print(\"DGL installed!\" if installed else \"DGL not found!\")"
   ]
  },
  {
   "cell_type": "markdown",
   "metadata": {
    "id": "2R7WnSbjsfbr"
   },
   "source": [
    "## Data preparation\n",
    "In order to demonstrate how to organize various data, let's create a base directory first."
   ]
  },
  {
   "cell_type": "code",
   "execution_count": 2,
   "metadata": {
    "execution": {
     "iopub.execute_input": "2024-08-27T06:44:15.499141Z",
     "iopub.status.busy": "2024-08-27T06:44:15.498786Z",
     "iopub.status.idle": "2024-08-27T06:44:15.503036Z",
     "shell.execute_reply": "2024-08-27T06:44:15.502369Z"
    },
    "id": "SZipbzyltLfO"
   },
   "outputs": [
    {
     "name": "stdout",
     "output_type": "stream",
     "text": [
      "Created base directory: ./ondisk_dataset_homograph\n"
     ]
    }
   ],
   "source": [
    "base_dir = './ondisk_dataset_homograph'\n",
    "os.makedirs(base_dir, exist_ok=True)\n",
    "print(f\"Created base directory: {base_dir}\")"
   ]
  },
  {
   "cell_type": "markdown",
   "metadata": {
    "id": "qhNtIn_xhlnl"
   },
   "source": [
    "### Generate graph structure data\n",
    "For homogeneous graph, we just need to save edges(namely node pairs) into  **Numpy** or **CSV** file.\n",
    "\n",
    "Note:\n",
    "- when saving to **Numpy**, the array requires to be in shape of `(2, N)`. This format is recommended as constructing graph from it is much faster than **CSV** file.\n",
    "- when saving to **CSV** file, do not save index and header.\n"
   ]
  },
  {
   "cell_type": "code",
   "execution_count": 3,
   "metadata": {
    "execution": {
     "iopub.execute_input": "2024-08-27T06:44:15.505377Z",
     "iopub.status.busy": "2024-08-27T06:44:15.505007Z",
     "iopub.status.idle": "2024-08-27T06:44:15.517441Z",
     "shell.execute_reply": "2024-08-27T06:44:15.516911Z"
    },
    "id": "HcBt4G5BmSjr"
   },
   "outputs": [
    {
     "name": "stdout",
     "output_type": "stream",
     "text": [
      "Part of edges: [[303 347]\n",
      " [ 62 278]\n",
      " [572 302]\n",
      " [957 470]\n",
      " [999 644]]\n",
      "Edges are saved into ./ondisk_dataset_homograph/edges.csv\n"
     ]
    }
   ],
   "source": [
    "import numpy as np\n",
    "import pandas as pd\n",
    "num_nodes = 1000\n",
    "num_edges = 10 * num_nodes\n",
    "edges_path = os.path.join(base_dir, \"edges.csv\")\n",
    "edges = np.random.randint(0, num_nodes, size=(num_edges, 2))\n",
    "\n",
    "print(f\"Part of edges: {edges[:5, :]}\")\n",
    "\n",
    "df = pd.DataFrame(edges)\n",
    "df.to_csv(edges_path, index=False, header=False)\n",
    "\n",
    "print(f\"Edges are saved into {edges_path}\")"
   ]
  },
  {
   "cell_type": "markdown",
   "metadata": {
    "id": "kh-4cPtzpcaH"
   },
   "source": [
    "### Generate feature data for graph\n",
    "For feature data, numpy arrays and torch tensors are supported for now."
   ]
  },
  {
   "cell_type": "code",
   "execution_count": 4,
   "metadata": {
    "execution": {
     "iopub.execute_input": "2024-08-27T06:44:15.519822Z",
     "iopub.status.busy": "2024-08-27T06:44:15.519522Z",
     "iopub.status.idle": "2024-08-27T06:44:15.533178Z",
     "shell.execute_reply": "2024-08-27T06:44:15.532682Z"
    },
    "id": "_PVu1u5brBhF"
   },
   "outputs": [
    {
     "name": "stdout",
     "output_type": "stream",
     "text": [
      "Part of node feature [feat_0]: [[0.97077603 0.89140342 0.04218421 0.56181475 0.48363992]\n",
      " [0.07370586 0.6700693  0.99975077 0.19065615 0.9257133 ]\n",
      " [0.77876241 0.68474583 0.45148553 0.27864672 0.21768865]]\n",
      "Node feature [feat_0] is saved to ./ondisk_dataset_homograph/node-feat-0.npy\n",
      "\n",
      "Part of node feature [feat_1]: tensor([[0.7624, 0.5499, 0.9999, 0.7039, 0.9636],\n",
      "        [0.8030, 0.9416, 0.4731, 0.0830, 0.0045],\n",
      "        [0.1656, 0.5641, 0.0676, 0.9688, 0.4493]])\n",
      "Node feature [feat_1] is saved to ./ondisk_dataset_homograph/node-feat-1.pt\n",
      "\n",
      "Part of edge feature [feat_0]: [[0.99228356 0.3814656  0.78095652 0.23662255 0.79793077]\n",
      " [0.08955586 0.05091309 0.09696171 0.95036975 0.92454151]\n",
      " [0.17505372 0.85766586 0.44665693 0.00679972 0.43063161]]\n",
      "Edge feature [feat_0] is saved to ./ondisk_dataset_homograph/edge-feat-0.npy\n",
      "\n",
      "Part of edge feature [feat_1]: tensor([[0.2210, 0.1446, 0.5505, 0.3539, 0.1612],\n",
      "        [0.5094, 0.6240, 0.7947, 0.4303, 0.1275],\n",
      "        [0.2398, 0.9290, 0.6486, 0.6594, 0.2867]])\n",
      "Edge feature [feat_1] is saved to ./ondisk_dataset_homograph/edge-feat-1.pt\n",
      "\n"
     ]
    }
   ],
   "source": [
    "# Generate node feature in numpy array.\n",
    "node_feat_0_path = os.path.join(base_dir, \"node-feat-0.npy\")\n",
    "node_feat_0 = np.random.rand(num_nodes, 5)\n",
    "print(f\"Part of node feature [feat_0]: {node_feat_0[:3, :]}\")\n",
    "np.save(node_feat_0_path, node_feat_0)\n",
    "print(f\"Node feature [feat_0] is saved to {node_feat_0_path}\\n\")\n",
    "\n",
    "# Generate another node feature in torch tensor\n",
    "node_feat_1_path = os.path.join(base_dir, \"node-feat-1.pt\")\n",
    "node_feat_1 = torch.rand(num_nodes, 5)\n",
    "print(f\"Part of node feature [feat_1]: {node_feat_1[:3, :]}\")\n",
    "torch.save(node_feat_1, node_feat_1_path)\n",
    "print(f\"Node feature [feat_1] is saved to {node_feat_1_path}\\n\")\n",
    "\n",
    "# Generate edge feature in numpy array.\n",
    "edge_feat_0_path = os.path.join(base_dir, \"edge-feat-0.npy\")\n",
    "edge_feat_0 = np.random.rand(num_edges, 5)\n",
    "print(f\"Part of edge feature [feat_0]: {edge_feat_0[:3, :]}\")\n",
    "np.save(edge_feat_0_path, edge_feat_0)\n",
    "print(f\"Edge feature [feat_0] is saved to {edge_feat_0_path}\\n\")\n",
    "\n",
    "# Generate another edge feature in torch tensor\n",
    "edge_feat_1_path = os.path.join(base_dir, \"edge-feat-1.pt\")\n",
    "edge_feat_1 = torch.rand(num_edges, 5)\n",
    "print(f\"Part of edge feature [feat_1]: {edge_feat_1[:3, :]}\")\n",
    "torch.save(edge_feat_1, edge_feat_1_path)\n",
    "print(f\"Edge feature [feat_1] is saved to {edge_feat_1_path}\\n\")\n"
   ]
  },
  {
   "cell_type": "markdown",
   "metadata": {
    "id": "ZyqgOtsIwzh_"
   },
   "source": [
    "### Generate tasks\n",
    "`OnDiskDataset` supports multiple tasks. For each task, we need to prepare training/validation/test sets respectively. Such sets usually vary among different tasks. In this tutorial, let's create a **Node Classification** task and **Link Prediction** task."
   ]
  },
  {
   "cell_type": "markdown",
   "metadata": {
    "id": "hVxHaDIfzCkr"
   },
   "source": [
    "#### Node Classification Task\n",
    "For node classification task, we need **node IDs** and corresponding **labels** for each training/validation/test set. Like feature data, numpy arrays and torch tensors are supported for these sets."
   ]
  },
  {
   "cell_type": "code",
   "execution_count": 5,
   "metadata": {
    "execution": {
     "iopub.execute_input": "2024-08-27T06:44:15.535479Z",
     "iopub.status.busy": "2024-08-27T06:44:15.535142Z",
     "iopub.status.idle": "2024-08-27T06:44:15.544729Z",
     "shell.execute_reply": "2024-08-27T06:44:15.544215Z"
    },
    "id": "S5-fyBbHzTCO"
   },
   "outputs": [
    {
     "name": "stdout",
     "output_type": "stream",
     "text": [
      "Part of train ids for node classification: [  9 671 300]\n",
      "NC train ids are saved to ./ondisk_dataset_homograph/nc-train-ids.npy\n",
      "\n",
      "Part of train labels for node classification: tensor([7, 5, 3])\n",
      "NC train labels are saved to ./ondisk_dataset_homograph/nc-train-labels.pt\n",
      "\n",
      "Part of val ids for node classification: [598 373 891]\n",
      "NC val ids are saved to ./ondisk_dataset_homograph/nc-val-ids.npy\n",
      "\n",
      "Part of val labels for node classification: tensor([3, 6, 1])\n",
      "NC val labels are saved to ./ondisk_dataset_homograph/nc-val-labels.pt\n",
      "\n",
      "Part of test ids for node classification: [947 665 365]\n",
      "NC test ids are saved to ./ondisk_dataset_homograph/nc-test-ids.npy\n",
      "\n",
      "Part of test labels for node classification: tensor([3, 8, 4])\n",
      "NC test labels are saved to ./ondisk_dataset_homograph/nc-test-labels.pt\n",
      "\n"
     ]
    }
   ],
   "source": [
    "num_trains = int(num_nodes * 0.6)\n",
    "num_vals = int(num_nodes * 0.2)\n",
    "num_tests = num_nodes - num_trains - num_vals\n",
    "\n",
    "ids = np.arange(num_nodes)\n",
    "np.random.shuffle(ids)\n",
    "\n",
    "nc_train_ids_path = os.path.join(base_dir, \"nc-train-ids.npy\")\n",
    "nc_train_ids = ids[:num_trains]\n",
    "print(f\"Part of train ids for node classification: {nc_train_ids[:3]}\")\n",
    "np.save(nc_train_ids_path, nc_train_ids)\n",
    "print(f\"NC train ids are saved to {nc_train_ids_path}\\n\")\n",
    "\n",
    "nc_train_labels_path = os.path.join(base_dir, \"nc-train-labels.pt\")\n",
    "nc_train_labels = torch.randint(0, 10, (num_trains,))\n",
    "print(f\"Part of train labels for node classification: {nc_train_labels[:3]}\")\n",
    "torch.save(nc_train_labels, nc_train_labels_path)\n",
    "print(f\"NC train labels are saved to {nc_train_labels_path}\\n\")\n",
    "\n",
    "nc_val_ids_path = os.path.join(base_dir, \"nc-val-ids.npy\")\n",
    "nc_val_ids = ids[num_trains:num_trains+num_vals]\n",
    "print(f\"Part of val ids for node classification: {nc_val_ids[:3]}\")\n",
    "np.save(nc_val_ids_path, nc_val_ids)\n",
    "print(f\"NC val ids are saved to {nc_val_ids_path}\\n\")\n",
    "\n",
    "nc_val_labels_path = os.path.join(base_dir, \"nc-val-labels.pt\")\n",
    "nc_val_labels = torch.randint(0, 10, (num_vals,))\n",
    "print(f\"Part of val labels for node classification: {nc_val_labels[:3]}\")\n",
    "torch.save(nc_val_labels, nc_val_labels_path)\n",
    "print(f\"NC val labels are saved to {nc_val_labels_path}\\n\")\n",
    "\n",
    "nc_test_ids_path = os.path.join(base_dir, \"nc-test-ids.npy\")\n",
    "nc_test_ids = ids[-num_tests:]\n",
    "print(f\"Part of test ids for node classification: {nc_test_ids[:3]}\")\n",
    "np.save(nc_test_ids_path, nc_test_ids)\n",
    "print(f\"NC test ids are saved to {nc_test_ids_path}\\n\")\n",
    "\n",
    "nc_test_labels_path = os.path.join(base_dir, \"nc-test-labels.pt\")\n",
    "nc_test_labels = torch.randint(0, 10, (num_tests,))\n",
    "print(f\"Part of test labels for node classification: {nc_test_labels[:3]}\")\n",
    "torch.save(nc_test_labels, nc_test_labels_path)\n",
    "print(f\"NC test labels are saved to {nc_test_labels_path}\\n\")"
   ]
  },
  {
   "cell_type": "markdown",
   "metadata": {
    "id": "LhAcDCHQ_KJ0"
   },
   "source": [
    "#### Link Prediction Task\n",
    "For link prediction task, we need **node pairs** or **negative src/dsts** for each training/validation/test set. Like feature data, numpy arrays and torch tensors are supported for these sets."
   ]
  },
  {
   "cell_type": "code",
   "execution_count": 6,
   "metadata": {
    "execution": {
     "iopub.execute_input": "2024-08-27T06:44:15.546912Z",
     "iopub.status.busy": "2024-08-27T06:44:15.546597Z",
     "iopub.status.idle": "2024-08-27T06:44:15.556109Z",
     "shell.execute_reply": "2024-08-27T06:44:15.555610Z"
    },
    "id": "u0jCnXIcAQy4"
   },
   "outputs": [
    {
     "name": "stdout",
     "output_type": "stream",
     "text": [
      "Part of train node pairs for link prediction: [[303 347]\n",
      " [ 62 278]\n",
      " [572 302]]\n",
      "LP train node pairs are saved to ./ondisk_dataset_homograph/lp-train-node-pairs.npy\n",
      "\n",
      "Part of val node pairs for link prediction: [[ 97 799]\n",
      " [534 506]\n",
      " [827 422]]\n",
      "LP val node pairs are saved to ./ondisk_dataset_homograph/lp-val-node-pairs.npy\n",
      "\n",
      "Part of val negative dsts for link prediction: tensor([[252, 755, 820, 229, 123, 104, 973, 571,  76, 942],\n",
      "        [710, 193, 552, 292, 446, 797, 893, 786, 235,  54],\n",
      "        [797, 470, 937, 137, 473, 781, 765, 473, 717, 799]])\n",
      "LP val negative dsts are saved to ./ondisk_dataset_homograph/lp-val-neg-dsts.pt\n",
      "\n",
      "Part of test node pairs for link prediction: [600 819]\n",
      "LP test node pairs are saved to ./ondisk_dataset_homograph/lp-test-node-pairs.npy\n",
      "\n",
      "Part of test negative dsts for link prediction: tensor([[699, 301, 268, 873, 139, 882, 413, 388, 536, 960],\n",
      "        [502, 823, 367, 221, 948, 303, 362, 590, 516, 247],\n",
      "        [588, 816, 273, 657, 406, 637, 900, 999, 454, 163]])\n",
      "LP test negative dsts are saved to ./ondisk_dataset_homograph/lp-test-neg-dsts.pt\n",
      "\n"
     ]
    }
   ],
   "source": [
    "num_trains = int(num_edges * 0.6)\n",
    "num_vals = int(num_edges * 0.2)\n",
    "num_tests = num_edges - num_trains - num_vals\n",
    "\n",
    "lp_train_node_pairs_path = os.path.join(base_dir, \"lp-train-node-pairs.npy\")\n",
    "lp_train_node_pairs = edges[:num_trains, :]\n",
    "print(f\"Part of train node pairs for link prediction: {lp_train_node_pairs[:3]}\")\n",
    "np.save(lp_train_node_pairs_path, lp_train_node_pairs)\n",
    "print(f\"LP train node pairs are saved to {lp_train_node_pairs_path}\\n\")\n",
    "\n",
    "lp_val_node_pairs_path = os.path.join(base_dir, \"lp-val-node-pairs.npy\")\n",
    "lp_val_node_pairs = edges[num_trains:num_trains+num_vals, :]\n",
    "print(f\"Part of val node pairs for link prediction: {lp_val_node_pairs[:3]}\")\n",
    "np.save(lp_val_node_pairs_path, lp_val_node_pairs)\n",
    "print(f\"LP val node pairs are saved to {lp_val_node_pairs_path}\\n\")\n",
    "\n",
    "lp_val_neg_dsts_path = os.path.join(base_dir, \"lp-val-neg-dsts.pt\")\n",
    "lp_val_neg_dsts = torch.randint(0, num_nodes, (num_vals, 10))\n",
    "print(f\"Part of val negative dsts for link prediction: {lp_val_neg_dsts[:3]}\")\n",
    "torch.save(lp_val_neg_dsts, lp_val_neg_dsts_path)\n",
    "print(f\"LP val negative dsts are saved to {lp_val_neg_dsts_path}\\n\")\n",
    "\n",
    "lp_test_node_pairs_path = os.path.join(base_dir, \"lp-test-node-pairs.npy\")\n",
    "lp_test_node_pairs = edges[-num_tests, :]\n",
    "print(f\"Part of test node pairs for link prediction: {lp_test_node_pairs[:3]}\")\n",
    "np.save(lp_test_node_pairs_path, lp_test_node_pairs)\n",
    "print(f\"LP test node pairs are saved to {lp_test_node_pairs_path}\\n\")\n",
    "\n",
    "lp_test_neg_dsts_path = os.path.join(base_dir, \"lp-test-neg-dsts.pt\")\n",
    "lp_test_neg_dsts = torch.randint(0, num_nodes, (num_tests, 10))\n",
    "print(f\"Part of test negative dsts for link prediction: {lp_test_neg_dsts[:3]}\")\n",
    "torch.save(lp_test_neg_dsts, lp_test_neg_dsts_path)\n",
    "print(f\"LP test negative dsts are saved to {lp_test_neg_dsts_path}\\n\")"
   ]
  },
  {
   "cell_type": "markdown",
   "metadata": {
    "id": "wbk6-wxRK-6S"
   },
   "source": [
    "## Organize Data into YAML File\n",
    "Now we need to create a `metadata.yaml` file which contains the paths, dadta types of graph structure, feature data, training/validation/test sets.\n",
    "\n",
    "Notes:\n",
    "- all path should be relative to `metadata.yaml`.\n",
    "- Below fields are optional and not specified in below example.\n",
    "  - `in_memory`: indicates whether to load dada into memory or `mmap`. Default is `True`.\n",
    "\n",
    "Please refer to [YAML specification](https://github.com/dmlc/dgl/blob/master/docs/source/stochastic_training/ondisk-dataset-specification.rst) for more details."
   ]
  },
  {
   "cell_type": "code",
   "execution_count": 7,
   "metadata": {
    "execution": {
     "iopub.execute_input": "2024-08-27T06:44:15.558367Z",
     "iopub.status.busy": "2024-08-27T06:44:15.558042Z",
     "iopub.status.idle": "2024-08-27T06:44:15.562991Z",
     "shell.execute_reply": "2024-08-27T06:44:15.562472Z"
    },
    "id": "ddGTWW61Lpwp"
   },
   "outputs": [],
   "source": [
    "yaml_content = f\"\"\"\n",
    "    dataset_name: homogeneous_graph_nc_lp\n",
    "    graph:\n",
    "      nodes:\n",
    "        - num: {num_nodes}\n",
    "      edges:\n",
    "        - format: csv\n",
    "          path: {os.path.basename(edges_path)}\n",
    "    feature_data:\n",
    "      - domain: node\n",
    "        name: feat_0\n",
    "        format: numpy\n",
    "        path: {os.path.basename(node_feat_0_path)}\n",
    "      - domain: node\n",
    "        name: feat_1\n",
    "        format: torch\n",
    "        path: {os.path.basename(node_feat_1_path)}\n",
    "      - domain: edge\n",
    "        name: feat_0\n",
    "        format: numpy\n",
    "        path: {os.path.basename(edge_feat_0_path)}\n",
    "      - domain: edge\n",
    "        name: feat_1\n",
    "        format: torch\n",
    "        path: {os.path.basename(edge_feat_1_path)}\n",
    "    tasks:\n",
    "      - name: node_classification\n",
    "        num_classes: 10\n",
    "        train_set:\n",
    "          - data:\n",
    "              - name: seed_nodes\n",
    "                format: numpy\n",
    "                path: {os.path.basename(nc_train_ids_path)}\n",
    "              - name: labels\n",
    "                format: torch\n",
    "                path: {os.path.basename(nc_train_labels_path)}\n",
    "        validation_set:\n",
    "          - data:\n",
    "              - name: seed_nodes\n",
    "                format: numpy\n",
    "                path: {os.path.basename(nc_val_ids_path)}\n",
    "              - name: labels\n",
    "                format: torch\n",
    "                path: {os.path.basename(nc_val_labels_path)}\n",
    "        test_set:\n",
    "          - data:\n",
    "              - name: seed_nodes\n",
    "                format: numpy\n",
    "                path: {os.path.basename(nc_test_ids_path)}\n",
    "              - name: labels\n",
    "                format: torch\n",
    "                path: {os.path.basename(nc_test_labels_path)}\n",
    "      - name: link_prediction\n",
    "        num_classes: 10\n",
    "        train_set:\n",
    "          - data:\n",
    "              - name: node_pairs\n",
    "                format: numpy\n",
    "                path: {os.path.basename(lp_train_node_pairs_path)}\n",
    "        validation_set:\n",
    "          - data:\n",
    "              - name: node_pairs\n",
    "                format: numpy\n",
    "                path: {os.path.basename(lp_val_node_pairs_path)}\n",
    "              - name: negative_dsts\n",
    "                format: torch\n",
    "                path: {os.path.basename(lp_val_neg_dsts_path)}\n",
    "        test_set:\n",
    "          - data:\n",
    "              - name: node_pairs\n",
    "                format: numpy\n",
    "                path: {os.path.basename(lp_test_node_pairs_path)}\n",
    "              - name: negative_dsts\n",
    "                format: torch\n",
    "                path: {os.path.basename(lp_test_neg_dsts_path)}\n",
    "\"\"\"\n",
    "metadata_path = os.path.join(base_dir, \"metadata.yaml\")\n",
    "with open(metadata_path, \"w\") as f:\n",
    "  f.write(yaml_content)"
   ]
  },
  {
   "cell_type": "markdown",
   "metadata": {
    "id": "kEfybHGhOW7O"
   },
   "source": [
    "## Instantiate `OnDiskDataset`\n",
    "Now we're ready to load dataset via `dgl.graphbolt.OnDiskDataset`. When instantiating, we just pass in the base directory where `metadata.yaml` file lies.\n",
    "\n",
    "During first instantiation, GraphBolt preprocesses the raw data such as constructing `FusedCSCSamplingGraph` from edges. All data including graph, feature data, training/validation/test sets are put into `preprocessed` directory after preprocessing. Any following dataset loading will skip the preprocess stage.\n",
    "\n",
    "After preprocessing, `load()` is required to be called explicitly in order to load graph, feature data and tasks."
   ]
  },
  {
   "cell_type": "code",
   "execution_count": 8,
   "metadata": {
    "execution": {
     "iopub.execute_input": "2024-08-27T06:44:15.565161Z",
     "iopub.status.busy": "2024-08-27T06:44:15.564800Z",
     "iopub.status.idle": "2024-08-27T06:44:15.641559Z",
     "shell.execute_reply": "2024-08-27T06:44:15.641058Z"
    },
    "id": "W58CZoSzOiyo"
   },
   "outputs": [
    {
     "name": "stdout",
     "output_type": "stream",
     "text": [
      "The on-disk dataset is re-preprocessing, so the existing preprocessed dataset has been removed.\n",
      "Start to preprocess the on-disk dataset.\n",
      "Finish preprocessing the on-disk dataset.\n",
      "Loaded graph: FusedCSCSamplingGraph(csc_indptr=tensor([    0,     5,    12,  ...,  9981,  9992, 10000], dtype=torch.int32),\n",
      "                      indices=tensor([243, 620, 845,  ..., 806, 199, 128], dtype=torch.int32),\n",
      "                      total_num_nodes=1000, num_edges=10000,)\n",
      "\n",
      "Loaded feature store: TorchBasedFeatureStore(\n",
      "    {(<OnDiskFeatureDataDomain.NODE: 'node'>, None, 'feat_0'): TorchBasedFeature(\n",
      "        feature=tensor([[0.9708, 0.8914, 0.0422, 0.5618, 0.4836],\n",
      "                        [0.0737, 0.6701, 0.9998, 0.1907, 0.9257],\n",
      "                        [0.7788, 0.6847, 0.4515, 0.2786, 0.2177],\n",
      "                        ...,\n",
      "                        [0.0502, 0.8193, 0.0926, 0.5464, 0.0517],\n",
      "                        [0.1028, 0.6885, 0.0797, 0.4114, 0.8752],\n",
      "                        [0.1246, 0.8400, 0.6715, 0.4380, 0.2871]], dtype=torch.float64),\n",
      "        metadata={},\n",
      "    ), (<OnDiskFeatureDataDomain.NODE: 'node'>, None, 'feat_1'): TorchBasedFeature(\n",
      "        feature=tensor([[0.7624, 0.5499, 0.9999, 0.7039, 0.9636],\n",
      "                        [0.8030, 0.9416, 0.4731, 0.0830, 0.0045],\n",
      "                        [0.1656, 0.5641, 0.0676, 0.9688, 0.4493],\n",
      "                        ...,\n",
      "                        [0.6261, 0.9945, 0.1643, 0.0366, 0.0083],\n",
      "                        [0.7029, 0.7647, 0.9379, 0.0848, 0.8320],\n",
      "                        [0.4376, 0.9108, 0.7374, 0.9789, 0.9817]]),\n",
      "        metadata={},\n",
      "    ), (<OnDiskFeatureDataDomain.EDGE: 'edge'>, None, 'feat_0'): TorchBasedFeature(\n",
      "        feature=tensor([[0.9923, 0.3815, 0.7810, 0.2366, 0.7979],\n",
      "                        [0.0896, 0.0509, 0.0970, 0.9504, 0.9245],\n",
      "                        [0.1751, 0.8577, 0.4467, 0.0068, 0.4306],\n",
      "                        ...,\n",
      "                        [0.4035, 0.9059, 0.7742, 0.9405, 0.9268],\n",
      "                        [0.3080, 0.6643, 0.4629, 0.8546, 0.1670],\n",
      "                        [0.6280, 0.5328, 0.8536, 0.6608, 0.5624]], dtype=torch.float64),\n",
      "        metadata={},\n",
      "    ), (<OnDiskFeatureDataDomain.EDGE: 'edge'>, None, 'feat_1'): TorchBasedFeature(\n",
      "        feature=tensor([[0.2210, 0.1446, 0.5505, 0.3539, 0.1612],\n",
      "                        [0.5094, 0.6240, 0.7947, 0.4303, 0.1275],\n",
      "                        [0.2398, 0.9290, 0.6486, 0.6594, 0.2867],\n",
      "                        ...,\n",
      "                        [0.7525, 0.1116, 0.7023, 0.3940, 0.1286],\n",
      "                        [0.7369, 0.2274, 0.3072, 0.4321, 0.6975],\n",
      "                        [0.4267, 0.0975, 0.1184, 0.0780, 0.0387]]),\n",
      "        metadata={},\n",
      "    )}\n",
      ")\n",
      "\n",
      "Loaded node classification task: OnDiskTask(validation_set=ItemSet(\n",
      "               items=(tensor([598, 373, 891, 388, 506, 284, 779, 967, 453, 895,  28, 280, 302, 636,\n",
      "                   950, 729, 654, 465, 296, 929, 491, 241, 309, 633, 245, 655, 564, 643,\n",
      "                   766, 509, 109,   1, 842, 924, 275,   5, 603, 854, 442, 715, 936,  10,\n",
      "                   623, 339, 990, 191, 437, 800, 968, 792, 524, 210, 943, 299, 809, 973,\n",
      "                   720, 338, 443, 352, 475, 468,  17, 195, 389, 652,  85, 177, 291, 384,\n",
      "                   963, 556, 129, 965, 647, 983, 511, 448, 807, 850, 526,  70,  91, 439,\n",
      "                     7, 793,  61,  73, 173,  12, 419, 146, 482, 565, 858, 532, 285, 165,\n",
      "                   958, 921,  99, 229, 570, 390, 152, 174, 686, 627, 188, 463, 361, 914,\n",
      "                   248, 226, 140, 821, 450, 568, 589, 835, 219, 796, 974, 172, 752, 561,\n",
      "                   247, 348, 176, 992, 432,  89, 206, 898,   8, 253, 670, 847, 171, 446,\n",
      "                   751, 920, 562, 476, 853, 457,  64, 420, 276, 843, 593, 717, 336, 758,\n",
      "                   102, 474, 761, 901, 263, 350, 423, 406, 428, 735, 642,  56, 360, 687,\n",
      "                   366, 211, 135, 514, 644, 552, 582, 305, 998, 774, 756, 975, 841,  38,\n",
      "                   861, 278,  90, 713, 331, 896, 640, 982, 591, 256, 845,  15, 470, 663,\n",
      "                   695,  55, 574, 440], dtype=torch.int32), tensor([3, 6, 1, 2, 9, 3, 6, 0, 8, 1, 0, 3, 0, 0, 4, 9, 4, 0, 7, 7, 6, 6, 0, 9,\n",
      "                   4, 8, 0, 6, 7, 6, 3, 5, 7, 4, 2, 4, 4, 9, 9, 0, 3, 6, 5, 2, 7, 0, 8, 8,\n",
      "                   0, 6, 3, 5, 5, 1, 0, 2, 5, 3, 6, 8, 7, 8, 4, 2, 9, 7, 3, 3, 7, 9, 6, 8,\n",
      "                   8, 0, 7, 7, 0, 9, 1, 7, 3, 4, 4, 1, 1, 5, 2, 0, 1, 3, 2, 1, 0, 8, 5, 8,\n",
      "                   2, 9, 2, 4, 1, 0, 9, 4, 9, 8, 3, 4, 4, 8, 3, 3, 4, 1, 3, 6, 7, 3, 0, 7,\n",
      "                   4, 7, 0, 2, 2, 5, 7, 9, 5, 0, 9, 8, 3, 7, 6, 0, 3, 9, 7, 6, 5, 2, 9, 7,\n",
      "                   5, 4, 0, 2, 4, 7, 4, 5, 6, 1, 6, 1, 3, 1, 6, 4, 8, 9, 3, 7, 8, 7, 1, 8,\n",
      "                   0, 1, 7, 3, 3, 7, 6, 5, 8, 0, 0, 0, 6, 1, 9, 7, 2, 8, 6, 5, 4, 2, 0, 9,\n",
      "                   6, 2, 7, 6, 1, 2, 9, 0])),\n",
      "               names=('seed_nodes', 'labels'),\n",
      "           ),\n",
      "           train_set=ItemSet(\n",
      "               items=(tensor([  9, 671, 300, 669, 683, 906, 460, 865, 425, 324, 363, 676, 134,  22,\n",
      "                   680, 394, 710, 626,  34, 911, 726, 707, 381, 504, 141, 716, 170, 667,\n",
      "                   349, 304, 150,  93, 138, 104, 769, 612, 838, 999, 194, 274, 416, 584,\n",
      "                   160, 243, 277, 318, 597, 525, 513, 863,  27, 462, 429, 426, 395,  42,\n",
      "                   257, 261, 951, 870, 837, 625, 126, 307, 466,  60, 813, 480, 212,  65,\n",
      "                   949, 754, 199, 467, 997, 558, 205, 387,  62, 225, 271, 829, 382, 594,\n",
      "                   755, 653,  46, 520, 143, 830, 328, 673, 803, 357, 268, 122, 411,  31,\n",
      "                   866, 581, 964, 931, 249, 228, 860, 103, 794,  37, 913, 788, 124, 101,\n",
      "                   692, 512, 893, 601, 919, 377, 461, 293, 926, 989, 519, 258, 959, 202,\n",
      "                   180, 198, 933, 857,  79, 610, 569,  41, 690, 746, 576, 945, 116, 970,\n",
      "                   200, 481, 528, 846, 785, 747, 592, 149,  57, 551,   6, 839, 682, 477,\n",
      "                   617, 254,  54, 132, 175, 760, 622, 840, 818, 283, 159, 115, 969, 886,\n",
      "                    76, 844, 358, 614, 502, 308, 114, 193, 452, 917, 660,  86, 631, 501,\n",
      "                   771, 688, 447, 356, 675,  14, 370, 877, 375, 334, 940,  48, 740,  78,\n",
      "                   832, 367, 867, 995, 137, 434, 508,  72, 750, 535, 322,  20, 125, 235,\n",
      "                   563, 996, 586, 757, 163, 944, 403, 811, 823, 404, 204, 221, 928, 148,\n",
      "                   874, 458,  49, 483, 648, 108, 775, 139, 961, 795, 445, 397, 768, 580,\n",
      "                    44, 106, 471,  30, 118, 685,  82, 978, 790,  25, 413, 976, 333, 326,\n",
      "                   505, 802, 981, 320, 189, 632, 859, 698, 405, 128, 486, 346, 714, 851,\n",
      "                   672, 645, 164, 699, 935, 392,  33,  39, 971, 240, 596, 359, 301, 664,\n",
      "                   398,  16, 323, 250, 133, 946, 852, 503, 314, 260, 711, 184, 628, 111,\n",
      "                   478, 816, 489, 105, 540, 454, 810,  80, 550, 409, 659, 560, 207, 441,\n",
      "                   473, 650, 385, 912, 620,  69, 834, 144, 918, 806, 583, 127, 145, 354,\n",
      "                   272, 709, 242, 290, 616, 408, 571, 269, 121, 376, 427, 310, 455, 786,\n",
      "                   966, 986, 369, 227, 246, 880, 424, 725, 773, 286, 759, 414, 112,  36,\n",
      "                   737, 255, 651, 521, 192, 878, 884, 954, 904, 938, 955, 745, 820, 220,\n",
      "                   708, 527, 814, 386, 864, 312, 130, 355, 217, 605, 179, 316, 678, 723,\n",
      "                    53, 849, 438, 167, 679, 812, 718, 801,  87, 362, 154, 157, 948, 994,\n",
      "                   259, 876, 635, 162, 536, 142, 317,  19, 110, 464, 216, 197, 691, 787,\n",
      "                   401, 329, 595, 705, 393, 295, 762, 518, 783, 894, 379,  59, 449, 237,\n",
      "                   456, 784,  13, 903, 615, 600, 208, 368, 543, 421, 187, 498, 529, 267,\n",
      "                   236, 371,  66, 609, 120,  47, 899, 638, 234, 641, 222, 587, 736, 833,\n",
      "                   739, 780, 733, 100, 942, 887, 488, 553, 721, 885, 770, 232, 825, 702,\n",
      "                   279,  29, 993, 731, 613, 546, 298, 531, 264, 753, 724,   0, 767, 185,\n",
      "                   337, 311, 599,  74, 186, 417, 161, 629,  45, 808, 281, 639, 882, 183,\n",
      "                   566, 732, 892, 213, 230, 730, 545, 879, 741, 147, 487, 869, 701, 538,\n",
      "                   418, 862, 515, 977, 856, 330, 922, 927, 530, 696, 658, 819, 848, 496,\n",
      "                   734, 351, 542, 353, 158,  68, 270,  77, 778, 646,  11, 630, 777, 548,\n",
      "                   233, 335, 831, 497,   2, 340, 224, 181, 214, 606, 578,  18,   3, 119,\n",
      "                   266, 588, 572, 492, 196, 634, 451, 980, 436,  94, 772, 656, 694, 107,\n",
      "                   915, 517, 960, 399,  98, 537, 344, 282, 306, 244, 209, 791,  23, 781,\n",
      "                   798, 824, 557, 573, 902, 516, 541, 738, 962, 905, 585, 156, 677, 415,\n",
      "                   719, 805, 223, 706,  88,  83,  32, 374, 422,   4, 523, 776],\n",
      "                  dtype=torch.int32), tensor([7, 5, 3, 4, 4, 7, 9, 4, 7, 8, 0, 6, 2, 8, 2, 9, 3, 0, 0, 7, 1, 1, 9, 5,\n",
      "                   9, 4, 9, 0, 1, 9, 1, 6, 6, 9, 0, 0, 9, 5, 4, 3, 7, 8, 5, 8, 4, 6, 9, 8,\n",
      "                   2, 6, 6, 1, 9, 6, 9, 4, 6, 6, 4, 2, 4, 5, 2, 2, 9, 7, 9, 9, 5, 8, 4, 9,\n",
      "                   4, 5, 6, 8, 3, 0, 9, 5, 8, 7, 6, 2, 3, 9, 4, 1, 6, 5, 5, 0, 6, 8, 5, 8,\n",
      "                   0, 7, 2, 4, 7, 4, 2, 1, 5, 3, 6, 7, 3, 6, 8, 2, 8, 1, 1, 0, 6, 4, 5, 3,\n",
      "                   3, 1, 6, 2, 0, 5, 0, 9, 7, 6, 5, 9, 5, 8, 0, 8, 5, 0, 6, 8, 4, 8, 8, 2,\n",
      "                   5, 0, 9, 4, 1, 7, 7, 6, 1, 9, 9, 4, 0, 7, 3, 6, 3, 5, 8, 4, 1, 1, 9, 9,\n",
      "                   7, 0, 5, 4, 4, 1, 5, 1, 2, 0, 7, 9, 5, 3, 0, 2, 0, 8, 8, 0, 7, 6, 1, 9,\n",
      "                   9, 3, 5, 0, 1, 3, 6, 1, 9, 2, 9, 0, 8, 7, 4, 9, 6, 6, 6, 4, 5, 9, 4, 6,\n",
      "                   2, 6, 6, 4, 4, 5, 3, 5, 3, 7, 1, 8, 3, 4, 6, 1, 2, 2, 7, 7, 6, 0, 6, 6,\n",
      "                   8, 8, 8, 5, 5, 5, 3, 6, 8, 8, 2, 7, 6, 2, 8, 4, 0, 5, 5, 3, 7, 5, 3, 5,\n",
      "                   9, 2, 6, 8, 3, 1, 1, 5, 2, 2, 8, 9, 6, 7, 3, 6, 0, 8, 1, 1, 3, 0, 3, 9,\n",
      "                   8, 3, 5, 5, 1, 4, 9, 2, 6, 5, 2, 9, 8, 5, 0, 3, 1, 1, 8, 5, 6, 5, 5, 3,\n",
      "                   2, 4, 4, 0, 2, 4, 0, 1, 0, 9, 8, 8, 0, 1, 3, 5, 7, 0, 4, 1, 6, 1, 3, 5,\n",
      "                   0, 1, 5, 6, 5, 8, 8, 0, 8, 7, 8, 6, 3, 4, 3, 5, 3, 2, 4, 5, 8, 6, 2, 0,\n",
      "                   4, 1, 0, 6, 9, 7, 4, 2, 6, 5, 6, 8, 6, 7, 0, 8, 4, 5, 9, 8, 3, 9, 5, 3,\n",
      "                   4, 9, 0, 6, 7, 0, 8, 5, 6, 6, 9, 1, 0, 8, 6, 6, 9, 1, 6, 2, 2, 0, 9, 1,\n",
      "                   5, 5, 8, 0, 6, 9, 4, 8, 6, 3, 7, 9, 8, 1, 8, 1, 8, 1, 1, 6, 3, 3, 3, 9,\n",
      "                   1, 3, 0, 3, 9, 2, 0, 9, 5, 0, 1, 3, 0, 8, 5, 6, 7, 9, 2, 3, 5, 8, 5, 9,\n",
      "                   1, 8, 3, 1, 0, 7, 5, 0, 7, 3, 0, 3, 8, 1, 3, 3, 3, 9, 5, 6, 8, 5, 8, 6,\n",
      "                   3, 7, 7, 3, 0, 4, 8, 2, 0, 8, 9, 1, 6, 1, 2, 2, 2, 0, 9, 0, 0, 0, 2, 6,\n",
      "                   3, 6, 8, 8, 3, 6, 6, 2, 9, 7, 8, 0, 7, 3, 8, 2, 5, 5, 6, 5, 5, 5, 5, 4,\n",
      "                   9, 4, 6, 2, 8, 0, 3, 8, 2, 9, 4, 2, 6, 9, 9, 3, 8, 3, 9, 4, 2, 0, 7, 5,\n",
      "                   8, 8, 3, 1, 8, 2, 4, 3, 1, 0, 3, 4, 9, 5, 5, 8, 2, 7, 7, 7, 3, 2, 1, 0,\n",
      "                   5, 0, 6, 1, 5, 5, 6, 6, 7, 2, 6, 5, 8, 4, 4, 7, 7, 1, 1, 1, 7, 4, 7, 4])),\n",
      "               names=('seed_nodes', 'labels'),\n",
      "           ),\n",
      "           test_set=ItemSet(\n",
      "               items=(tensor([947, 665, 365, 402, 742, 380, 117, 294,  35, 136, 479, 744, 313, 459,\n",
      "                   410, 472, 668, 985, 953, 952, 239, 396, 321, 789,  52, 469, 984,  75,\n",
      "                   749,  50, 534, 490, 252, 873, 297, 288, 190, 383,  21,  26, 604, 484,\n",
      "                   897, 507, 378, 444, 972, 123, 178, 815, 764, 868, 608,  97, 151, 763,\n",
      "                   407, 554, 292, 201, 493, 979, 590, 827, 923, 782, 499, 500,  95, 765,\n",
      "                    63, 916, 621, 937, 666, 619, 372, 689, 391, 855, 797,  92, 703, 273,\n",
      "                   510, 575, 909, 567, 153,  81, 930, 987, 684, 826, 342, 743, 347, 881,\n",
      "                    43,  96, 693,  84, 888, 889, 991, 624, 657, 364, 251, 649, 315, 155,\n",
      "                   907,  24, 932, 611, 712, 674, 579, 522, 577, 430, 722, 607, 748, 182,\n",
      "                   433, 485, 238, 539, 215, 799, 957, 910, 262, 435, 925, 883, 661, 231,\n",
      "                   327, 602, 618, 727, 341, 131, 875, 431, 412, 169, 662, 166, 908, 941,\n",
      "                   332, 728, 113, 547, 168, 559, 939, 345, 988, 704, 533, 400, 956, 804,\n",
      "                   697, 343, 872, 495, 289, 934, 549, 681, 287,  71, 555, 544, 494, 218,\n",
      "                   890,  40,  58, 265, 836, 828, 637, 319, 203, 700, 325,  51, 303, 871,\n",
      "                   822, 900,  67, 817], dtype=torch.int32), tensor([3, 8, 4, 4, 8, 2, 9, 7, 7, 2, 6, 8, 2, 7, 4, 7, 4, 1, 7, 7, 2, 7, 6, 4,\n",
      "                   6, 3, 5, 3, 9, 0, 6, 9, 4, 2, 3, 6, 4, 5, 6, 0, 6, 8, 0, 2, 4, 2, 5, 6,\n",
      "                   5, 0, 3, 9, 8, 3, 5, 3, 4, 0, 1, 4, 7, 2, 2, 4, 2, 0, 8, 8, 5, 6, 2, 8,\n",
      "                   3, 8, 6, 8, 0, 4, 2, 6, 1, 6, 8, 9, 0, 5, 0, 9, 2, 7, 3, 8, 8, 5, 7, 6,\n",
      "                   1, 0, 5, 4, 4, 6, 1, 4, 7, 2, 5, 2, 3, 5, 8, 3, 2, 3, 5, 6, 3, 4, 1, 9,\n",
      "                   1, 8, 9, 2, 6, 6, 5, 0, 0, 5, 3, 2, 4, 3, 8, 3, 3, 6, 0, 5, 3, 3, 2, 4,\n",
      "                   8, 2, 6, 4, 0, 7, 7, 7, 2, 3, 5, 3, 6, 0, 8, 3, 2, 0, 5, 3, 7, 7, 0, 4,\n",
      "                   3, 3, 2, 1, 0, 8, 9, 1, 5, 9, 1, 3, 1, 4, 3, 0, 5, 1, 2, 1, 4, 2, 8, 3,\n",
      "                   7, 5, 6, 3, 0, 7, 6, 2])),\n",
      "               names=('seed_nodes', 'labels'),\n",
      "           ),\n",
      "           metadata={'name': 'node_classification', 'num_classes': 10},)\n",
      "\n",
      "Loaded link prediction task: OnDiskTask(validation_set=ItemSet(\n",
      "               items=(tensor([[ 97, 799],\n",
      "                   [534, 506],\n",
      "                   [827, 422],\n",
      "                   ...,\n",
      "                   [251, 805],\n",
      "                   [827, 820],\n",
      "                   [645, 418]], dtype=torch.int32), tensor([[252, 755, 820,  ..., 571,  76, 942],\n",
      "                   [710, 193, 552,  ..., 786, 235,  54],\n",
      "                   [797, 470, 937,  ..., 473, 717, 799],\n",
      "                   ...,\n",
      "                   [513, 265, 505,  ..., 803, 386, 615],\n",
      "                   [668, 608, 119,  ..., 387, 328, 817],\n",
      "                   [169, 979, 228,  ..., 523,  86, 750]], dtype=torch.int32)),\n",
      "               names=('node_pairs', 'negative_dsts'),\n",
      "           ),\n",
      "           train_set=ItemSet(\n",
      "               items=(tensor([[303, 347],\n",
      "                   [ 62, 278],\n",
      "                   [572, 302],\n",
      "                   ...,\n",
      "                   [716, 890],\n",
      "                   [503, 727],\n",
      "                   [ 34, 444]], dtype=torch.int32),),\n",
      "               names=('node_pairs',),\n",
      "           ),\n",
      "           test_set=ItemSet(\n",
      "               items=(tensor([600, 819], dtype=torch.int32), tensor([[699, 301, 268,  ..., 388, 536, 960],\n",
      "                   [502, 823, 367,  ..., 590, 516, 247],\n",
      "                   [588, 816, 273,  ..., 999, 454, 163],\n",
      "                   ...,\n",
      "                   [425, 105, 281,  ..., 138, 820, 505],\n",
      "                   [427, 995, 479,  ..., 750, 647, 550],\n",
      "                   [881, 578, 698,  ..., 111, 853, 457]], dtype=torch.int32)),\n",
      "               names=('node_pairs', 'negative_dsts'),\n",
      "           ),\n",
      "           metadata={'name': 'link_prediction', 'num_classes': 10},)\n",
      "\n"
     ]
    },
    {
     "name": "stderr",
     "output_type": "stream",
     "text": [
      "/home/ubuntu/regression_test/dgl/python/dgl/graphbolt/internal/utils.py:16: FutureWarning: You are using `torch.load` with `weights_only=False` (the current default value), which uses the default pickle module implicitly. It is possible to construct malicious pickle data which will execute arbitrary code during unpickling (See https://github.com/pytorch/pytorch/blob/main/SECURITY.md#untrusted-models for more details). In a future release, the default value for `weights_only` will be flipped to `True`. This limits the functions that could be executed during unpickling. Arbitrary objects will no longer be allowed to be loaded via this mode unless they are explicitly allowlisted by the user via `torch.serialization.add_safe_globals`. We recommend you start setting `weights_only=True` for any use case where you don't have full control of the loaded file. Please open an issue on GitHub for any issues related to this experimental feature.\n",
      "  return torch.load(path)\n",
      "/home/ubuntu/regression_test/dgl/python/dgl/graphbolt/impl/ondisk_dataset.py:464: DGLWarning: Edge feature is stored, but edge IDs are not saved.\n",
      "  dgl_warning(\"Edge feature is stored, but edge IDs are not saved.\")\n",
      "/home/ubuntu/regression_test/dgl/python/dgl/graphbolt/impl/ondisk_dataset.py:856: FutureWarning: You are using `torch.load` with `weights_only=False` (the current default value), which uses the default pickle module implicitly. It is possible to construct malicious pickle data which will execute arbitrary code during unpickling (See https://github.com/pytorch/pytorch/blob/main/SECURITY.md#untrusted-models for more details). In a future release, the default value for `weights_only` will be flipped to `True`. This limits the functions that could be executed during unpickling. Arbitrary objects will no longer be allowed to be loaded via this mode unless they are explicitly allowlisted by the user via `torch.serialization.add_safe_globals`. We recommend you start setting `weights_only=True` for any use case where you don't have full control of the loaded file. Please open an issue on GitHub for any issues related to this experimental feature.\n",
      "  return torch.load(graph_topology.path)\n"
     ]
    }
   ],
   "source": [
    "dataset = gb.OnDiskDataset(base_dir).load()\n",
    "graph = dataset.graph\n",
    "print(f\"Loaded graph: {graph}\\n\")\n",
    "\n",
    "feature = dataset.feature\n",
    "print(f\"Loaded feature store: {feature}\\n\")\n",
    "\n",
    "tasks = dataset.tasks\n",
    "nc_task = tasks[0]\n",
    "print(f\"Loaded node classification task: {nc_task}\\n\")\n",
    "lp_task = tasks[1]\n",
    "print(f\"Loaded link prediction task: {lp_task}\\n\")"
   ]
  }
 ],
 "metadata": {
  "colab": {
   "private_outputs": true,
   "provenance": []
  },
  "kernelspec": {
   "display_name": "Python 3",
   "name": "python3"
  },
  "language_info": {
   "codemirror_mode": {
    "name": "ipython",
    "version": 3
   },
   "file_extension": ".py",
   "mimetype": "text/x-python",
   "name": "python",
   "nbconvert_exporter": "python",
   "pygments_lexer": "ipython3",
   "version": "3.10.14"
  }
 },
 "nbformat": 4,
 "nbformat_minor": 0
}

{
 "cells": [
  {
   "cell_type": "markdown",
   "metadata": {
    "id": "FnFhPMaAfLtJ"
   },
   "source": [
    "# OnDiskDataset for Homogeneous Graph\n",
    "\n",
    "[![Open In Colab](https://colab.research.google.com/assets/colab-badge.svg)](https://colab.research.google.com/github/dmlc/dgl/blob/master/notebooks/stochastic_training/ondisk_dataset_homograph.ipynb) [![GitHub](https://img.shields.io/badge/-View%20on%20GitHub-181717?logo=github&logoColor=ffffff)](https://github.com/dmlc/dgl/blob/master/notebooks/stochastic_training/ondisk_dataset_homograph.ipynb)\n",
    "\n",
    "This tutorial shows how to create `OnDiskDataset` for homogeneous graph that could be used in **GraphBolt** framework.\n",
    "\n",
    "By the end of this tutorial, you will be able to\n",
    "\n",
    "- organize graph structure data.\n",
    "- organize feature data.\n",
    "- organize training/validation/test set for specific tasks.\n",
    "\n",
    "To create an ``OnDiskDataset`` object, you need to organize all the data including graph structure, feature data and tasks into a directory. The directory should contain a ``metadata.yaml`` file that describes the metadata of the dataset.\n",
    "\n",
    "Now let's generate various data step by step and organize them together to instantiate `OnDiskDataset` finally."
   ]
  },
  {
   "cell_type": "markdown",
   "metadata": {
    "id": "Wlb19DtWgtzq"
   },
   "source": [
    "## Install DGL package"
   ]
  },
  {
   "cell_type": "code",
   "execution_count": 1,
   "metadata": {
    "execution": {
     "iopub.execute_input": "2024-08-20T06:53:01.593221Z",
     "iopub.status.busy": "2024-08-20T06:53:01.592902Z",
     "iopub.status.idle": "2024-08-20T06:53:05.370222Z",
     "shell.execute_reply": "2024-08-20T06:53:05.369524Z"
    },
    "id": "UojlT9ZGgyr9"
   },
   "outputs": [
    {
     "name": "stdout",
     "output_type": "stream",
     "text": [
      "Looking in links: https://data.dgl.ai/wheels-test/repo.html\r\n",
      "Requirement already satisfied: dgl in /opt/conda/envs/dgl-dev-cpu/lib/python3.10/site-packages (2.2a240410)\r\n",
      "Requirement already satisfied: numpy>=1.14.0 in /opt/conda/envs/dgl-dev-cpu/lib/python3.10/site-packages (from dgl) (1.26.4)\r\n",
      "Requirement already satisfied: scipy>=1.1.0 in /opt/conda/envs/dgl-dev-cpu/lib/python3.10/site-packages (from dgl) (1.14.0)\r\n",
      "Requirement already satisfied: networkx>=2.1 in /opt/conda/envs/dgl-dev-cpu/lib/python3.10/site-packages (from dgl) (3.3)\r\n",
      "Requirement already satisfied: requests>=2.19.0 in /opt/conda/envs/dgl-dev-cpu/lib/python3.10/site-packages (from dgl) (2.32.3)\r\n",
      "Requirement already satisfied: tqdm in /opt/conda/envs/dgl-dev-cpu/lib/python3.10/site-packages (from dgl) (4.66.5)\r\n",
      "Requirement already satisfied: psutil>=5.8.0 in /opt/conda/envs/dgl-dev-cpu/lib/python3.10/site-packages (from dgl) (6.0.0)\r\n",
      "Requirement already satisfied: torchdata>=0.5.0 in /opt/conda/envs/dgl-dev-cpu/lib/python3.10/site-packages (from dgl) (0.7.1+6427ed9)\r\n",
      "Requirement already satisfied: pandas in /opt/conda/envs/dgl-dev-cpu/lib/python3.10/site-packages (from dgl) (2.2.2)\r\n",
      "Requirement already satisfied: charset-normalizer<4,>=2 in /opt/conda/envs/dgl-dev-cpu/lib/python3.10/site-packages (from requests>=2.19.0->dgl) (3.3.2)\r\n",
      "Requirement already satisfied: idna<4,>=2.5 in /opt/conda/envs/dgl-dev-cpu/lib/python3.10/site-packages (from requests>=2.19.0->dgl) (3.7)\r\n",
      "Requirement already satisfied: urllib3<3,>=1.21.1 in /opt/conda/envs/dgl-dev-cpu/lib/python3.10/site-packages (from requests>=2.19.0->dgl) (2.2.2)\r\n",
      "Requirement already satisfied: certifi>=2017.4.17 in /opt/conda/envs/dgl-dev-cpu/lib/python3.10/site-packages (from requests>=2.19.0->dgl) (2024.7.4)\r\n",
      "Requirement already satisfied: torch>=2 in /opt/conda/envs/dgl-dev-cpu/lib/python3.10/site-packages (from torchdata>=0.5.0->dgl) (2.1.0+cpu)\r\n"
     ]
    },
    {
     "name": "stdout",
     "output_type": "stream",
     "text": [
      "Requirement already satisfied: python-dateutil>=2.8.2 in /opt/conda/envs/dgl-dev-cpu/lib/python3.10/site-packages (from pandas->dgl) (2.9.0.post0)\r\n",
      "Requirement already satisfied: pytz>=2020.1 in /opt/conda/envs/dgl-dev-cpu/lib/python3.10/site-packages (from pandas->dgl) (2024.1)\r\n",
      "Requirement already satisfied: tzdata>=2022.7 in /opt/conda/envs/dgl-dev-cpu/lib/python3.10/site-packages (from pandas->dgl) (2024.1)\r\n",
      "Requirement already satisfied: six>=1.5 in /opt/conda/envs/dgl-dev-cpu/lib/python3.10/site-packages (from python-dateutil>=2.8.2->pandas->dgl) (1.16.0)\r\n",
      "Requirement already satisfied: filelock in /opt/conda/envs/dgl-dev-cpu/lib/python3.10/site-packages (from torch>=2->torchdata>=0.5.0->dgl) (3.15.4)\r\n",
      "Requirement already satisfied: typing-extensions in /opt/conda/envs/dgl-dev-cpu/lib/python3.10/site-packages (from torch>=2->torchdata>=0.5.0->dgl) (4.12.2)\r\n",
      "Requirement already satisfied: sympy in /opt/conda/envs/dgl-dev-cpu/lib/python3.10/site-packages (from torch>=2->torchdata>=0.5.0->dgl) (1.13.2)\r\n",
      "Requirement already satisfied: jinja2 in /opt/conda/envs/dgl-dev-cpu/lib/python3.10/site-packages (from torch>=2->torchdata>=0.5.0->dgl) (3.1.4)\r\n",
      "Requirement already satisfied: fsspec in /opt/conda/envs/dgl-dev-cpu/lib/python3.10/site-packages (from torch>=2->torchdata>=0.5.0->dgl) (2024.6.1)\r\n"
     ]
    },
    {
     "name": "stdout",
     "output_type": "stream",
     "text": [
      "Requirement already satisfied: MarkupSafe>=2.0 in /opt/conda/envs/dgl-dev-cpu/lib/python3.10/site-packages (from jinja2->torch>=2->torchdata>=0.5.0->dgl) (2.1.5)\r\n",
      "Requirement already satisfied: mpmath<1.4,>=1.1.0 in /opt/conda/envs/dgl-dev-cpu/lib/python3.10/site-packages (from sympy->torch>=2->torchdata>=0.5.0->dgl) (1.3.0)\r\n"
     ]
    },
    {
     "name": "stdout",
     "output_type": "stream",
     "text": [
      "DGL installed!\n"
     ]
    }
   ],
   "source": [
    "# Install required packages.\n",
    "import os\n",
    "import torch\n",
    "import numpy as np\n",
    "os.environ['TORCH'] = torch.__version__\n",
    "os.environ['DGLBACKEND'] = \"pytorch\"\n",
    "\n",
    "# Install the CPU version.\n",
    "device = torch.device(\"cpu\")\n",
    "!pip install --pre dgl -f https://data.dgl.ai/wheels-test/repo.html\n",
    "\n",
    "try:\n",
    "    import dgl\n",
    "    import dgl.graphbolt as gb\n",
    "    installed = True\n",
    "except ImportError as error:\n",
    "    installed = False\n",
    "    print(error)\n",
    "print(\"DGL installed!\" if installed else \"DGL not found!\")"
   ]
  },
  {
   "cell_type": "markdown",
   "metadata": {
    "id": "2R7WnSbjsfbr"
   },
   "source": [
    "## Data preparation\n",
    "In order to demonstrate how to organize various data, let's create a base directory first."
   ]
  },
  {
   "cell_type": "code",
   "execution_count": 2,
   "metadata": {
    "execution": {
     "iopub.execute_input": "2024-08-20T06:53:05.373340Z",
     "iopub.status.busy": "2024-08-20T06:53:05.372693Z",
     "iopub.status.idle": "2024-08-20T06:53:05.376683Z",
     "shell.execute_reply": "2024-08-20T06:53:05.376134Z"
    },
    "id": "SZipbzyltLfO"
   },
   "outputs": [
    {
     "name": "stdout",
     "output_type": "stream",
     "text": [
      "Created base directory: ./ondisk_dataset_homograph\n"
     ]
    }
   ],
   "source": [
    "base_dir = './ondisk_dataset_homograph'\n",
    "os.makedirs(base_dir, exist_ok=True)\n",
    "print(f\"Created base directory: {base_dir}\")"
   ]
  },
  {
   "cell_type": "markdown",
   "metadata": {
    "id": "qhNtIn_xhlnl"
   },
   "source": [
    "### Generate graph structure data\n",
    "For homogeneous graph, we just need to save edges(namely node pairs) into  **Numpy** or **CSV** file.\n",
    "\n",
    "Note:\n",
    "- when saving to **Numpy**, the array requires to be in shape of `(2, N)`. This format is recommended as constructing graph from it is much faster than **CSV** file.\n",
    "- when saving to **CSV** file, do not save index and header.\n"
   ]
  },
  {
   "cell_type": "code",
   "execution_count": 3,
   "metadata": {
    "execution": {
     "iopub.execute_input": "2024-08-20T06:53:05.379029Z",
     "iopub.status.busy": "2024-08-20T06:53:05.378820Z",
     "iopub.status.idle": "2024-08-20T06:53:05.391862Z",
     "shell.execute_reply": "2024-08-20T06:53:05.391297Z"
    },
    "id": "HcBt4G5BmSjr"
   },
   "outputs": [
    {
     "name": "stdout",
     "output_type": "stream",
     "text": [
      "Part of edges: [[865 367]\n",
      " [269  51]\n",
      " [614 511]\n",
      " [815 223]\n",
      " [495  52]]\n",
      "Edges are saved into ./ondisk_dataset_homograph/edges.csv\n"
     ]
    }
   ],
   "source": [
    "import numpy as np\n",
    "import pandas as pd\n",
    "num_nodes = 1000\n",
    "num_edges = 10 * num_nodes\n",
    "edges_path = os.path.join(base_dir, \"edges.csv\")\n",
    "edges = np.random.randint(0, num_nodes, size=(num_edges, 2))\n",
    "\n",
    "print(f\"Part of edges: {edges[:5, :]}\")\n",
    "\n",
    "df = pd.DataFrame(edges)\n",
    "df.to_csv(edges_path, index=False, header=False)\n",
    "\n",
    "print(f\"Edges are saved into {edges_path}\")"
   ]
  },
  {
   "cell_type": "markdown",
   "metadata": {
    "id": "kh-4cPtzpcaH"
   },
   "source": [
    "### Generate feature data for graph\n",
    "For feature data, numpy arrays and torch tensors are supported for now."
   ]
  },
  {
   "cell_type": "code",
   "execution_count": 4,
   "metadata": {
    "execution": {
     "iopub.execute_input": "2024-08-20T06:53:05.394318Z",
     "iopub.status.busy": "2024-08-20T06:53:05.393902Z",
     "iopub.status.idle": "2024-08-20T06:53:05.407570Z",
     "shell.execute_reply": "2024-08-20T06:53:05.407043Z"
    },
    "id": "_PVu1u5brBhF"
   },
   "outputs": [
    {
     "name": "stdout",
     "output_type": "stream",
     "text": [
      "Part of node feature [feat_0]: [[0.75931467 0.7318927  0.08217763 0.0265683  0.78600739]\n",
      " [0.42331563 0.38798812 0.16979628 0.14279069 0.94202183]\n",
      " [0.48549119 0.26126457 0.88377342 0.47000385 0.45874381]]\n",
      "Node feature [feat_0] is saved to ./ondisk_dataset_homograph/node-feat-0.npy\n",
      "\n",
      "Part of node feature [feat_1]: tensor([[0.2987, 0.7486, 0.1131, 0.8913, 0.6023],\n",
      "        [0.6584, 0.7301, 0.1583, 0.2282, 0.4031],\n",
      "        [0.3257, 0.8276, 0.8957, 0.3273, 0.8765]])\n",
      "Node feature [feat_1] is saved to ./ondisk_dataset_homograph/node-feat-1.pt\n",
      "\n",
      "Part of edge feature [feat_0]: [[0.92551287 0.31006992 0.63679229 0.6641499  0.77014699]\n",
      " [0.15023471 0.17344908 0.46766647 0.87885504 0.96549716]\n",
      " [0.85415583 0.79656693 0.422763   0.89455789 0.75212552]]\n",
      "Edge feature [feat_0] is saved to ./ondisk_dataset_homograph/edge-feat-0.npy\n",
      "\n",
      "Part of edge feature [feat_1]: tensor([[0.5083, 0.9202, 0.1053, 0.6893, 0.7520],\n",
      "        [0.1244, 0.4630, 0.6851, 0.5042, 0.7307],\n",
      "        [0.6228, 0.6144, 0.1598, 0.2032, 0.9450]])\n",
      "Edge feature [feat_1] is saved to ./ondisk_dataset_homograph/edge-feat-1.pt\n",
      "\n"
     ]
    }
   ],
   "source": [
    "# Generate node feature in numpy array.\n",
    "node_feat_0_path = os.path.join(base_dir, \"node-feat-0.npy\")\n",
    "node_feat_0 = np.random.rand(num_nodes, 5)\n",
    "print(f\"Part of node feature [feat_0]: {node_feat_0[:3, :]}\")\n",
    "np.save(node_feat_0_path, node_feat_0)\n",
    "print(f\"Node feature [feat_0] is saved to {node_feat_0_path}\\n\")\n",
    "\n",
    "# Generate another node feature in torch tensor\n",
    "node_feat_1_path = os.path.join(base_dir, \"node-feat-1.pt\")\n",
    "node_feat_1 = torch.rand(num_nodes, 5)\n",
    "print(f\"Part of node feature [feat_1]: {node_feat_1[:3, :]}\")\n",
    "torch.save(node_feat_1, node_feat_1_path)\n",
    "print(f\"Node feature [feat_1] is saved to {node_feat_1_path}\\n\")\n",
    "\n",
    "# Generate edge feature in numpy array.\n",
    "edge_feat_0_path = os.path.join(base_dir, \"edge-feat-0.npy\")\n",
    "edge_feat_0 = np.random.rand(num_edges, 5)\n",
    "print(f\"Part of edge feature [feat_0]: {edge_feat_0[:3, :]}\")\n",
    "np.save(edge_feat_0_path, edge_feat_0)\n",
    "print(f\"Edge feature [feat_0] is saved to {edge_feat_0_path}\\n\")\n",
    "\n",
    "# Generate another edge feature in torch tensor\n",
    "edge_feat_1_path = os.path.join(base_dir, \"edge-feat-1.pt\")\n",
    "edge_feat_1 = torch.rand(num_edges, 5)\n",
    "print(f\"Part of edge feature [feat_1]: {edge_feat_1[:3, :]}\")\n",
    "torch.save(edge_feat_1, edge_feat_1_path)\n",
    "print(f\"Edge feature [feat_1] is saved to {edge_feat_1_path}\\n\")\n"
   ]
  },
  {
   "cell_type": "markdown",
   "metadata": {
    "id": "ZyqgOtsIwzh_"
   },
   "source": [
    "### Generate tasks\n",
    "`OnDiskDataset` supports multiple tasks. For each task, we need to prepare training/validation/test sets respectively. Such sets usually vary among different tasks. In this tutorial, let's create a **Node Classification** task and **Link Prediction** task."
   ]
  },
  {
   "cell_type": "markdown",
   "metadata": {
    "id": "hVxHaDIfzCkr"
   },
   "source": [
    "#### Node Classification Task\n",
    "For node classification task, we need **node IDs** and corresponding **labels** for each training/validation/test set. Like feature data, numpy arrays and torch tensors are supported for these sets."
   ]
  },
  {
   "cell_type": "code",
   "execution_count": 5,
   "metadata": {
    "execution": {
     "iopub.execute_input": "2024-08-20T06:53:05.409926Z",
     "iopub.status.busy": "2024-08-20T06:53:05.409618Z",
     "iopub.status.idle": "2024-08-20T06:53:05.419600Z",
     "shell.execute_reply": "2024-08-20T06:53:05.419070Z"
    },
    "id": "S5-fyBbHzTCO"
   },
   "outputs": [
    {
     "name": "stdout",
     "output_type": "stream",
     "text": [
      "Part of train ids for node classification: [295 823 946]\n",
      "NC train ids are saved to ./ondisk_dataset_homograph/nc-train-ids.npy\n",
      "\n",
      "Part of train labels for node classification: tensor([1, 8, 6])\n",
      "NC train labels are saved to ./ondisk_dataset_homograph/nc-train-labels.pt\n",
      "\n",
      "Part of val ids for node classification: [631   6 403]\n",
      "NC val ids are saved to ./ondisk_dataset_homograph/nc-val-ids.npy\n",
      "\n",
      "Part of val labels for node classification: tensor([8, 3, 9])\n",
      "NC val labels are saved to ./ondisk_dataset_homograph/nc-val-labels.pt\n",
      "\n",
      "Part of test ids for node classification: [ 69 928 134]\n",
      "NC test ids are saved to ./ondisk_dataset_homograph/nc-test-ids.npy\n",
      "\n",
      "Part of test labels for node classification: tensor([1, 1, 2])\n",
      "NC test labels are saved to ./ondisk_dataset_homograph/nc-test-labels.pt\n",
      "\n"
     ]
    }
   ],
   "source": [
    "num_trains = int(num_nodes * 0.6)\n",
    "num_vals = int(num_nodes * 0.2)\n",
    "num_tests = num_nodes - num_trains - num_vals\n",
    "\n",
    "ids = np.arange(num_nodes)\n",
    "np.random.shuffle(ids)\n",
    "\n",
    "nc_train_ids_path = os.path.join(base_dir, \"nc-train-ids.npy\")\n",
    "nc_train_ids = ids[:num_trains]\n",
    "print(f\"Part of train ids for node classification: {nc_train_ids[:3]}\")\n",
    "np.save(nc_train_ids_path, nc_train_ids)\n",
    "print(f\"NC train ids are saved to {nc_train_ids_path}\\n\")\n",
    "\n",
    "nc_train_labels_path = os.path.join(base_dir, \"nc-train-labels.pt\")\n",
    "nc_train_labels = torch.randint(0, 10, (num_trains,))\n",
    "print(f\"Part of train labels for node classification: {nc_train_labels[:3]}\")\n",
    "torch.save(nc_train_labels, nc_train_labels_path)\n",
    "print(f\"NC train labels are saved to {nc_train_labels_path}\\n\")\n",
    "\n",
    "nc_val_ids_path = os.path.join(base_dir, \"nc-val-ids.npy\")\n",
    "nc_val_ids = ids[num_trains:num_trains+num_vals]\n",
    "print(f\"Part of val ids for node classification: {nc_val_ids[:3]}\")\n",
    "np.save(nc_val_ids_path, nc_val_ids)\n",
    "print(f\"NC val ids are saved to {nc_val_ids_path}\\n\")\n",
    "\n",
    "nc_val_labels_path = os.path.join(base_dir, \"nc-val-labels.pt\")\n",
    "nc_val_labels = torch.randint(0, 10, (num_vals,))\n",
    "print(f\"Part of val labels for node classification: {nc_val_labels[:3]}\")\n",
    "torch.save(nc_val_labels, nc_val_labels_path)\n",
    "print(f\"NC val labels are saved to {nc_val_labels_path}\\n\")\n",
    "\n",
    "nc_test_ids_path = os.path.join(base_dir, \"nc-test-ids.npy\")\n",
    "nc_test_ids = ids[-num_tests:]\n",
    "print(f\"Part of test ids for node classification: {nc_test_ids[:3]}\")\n",
    "np.save(nc_test_ids_path, nc_test_ids)\n",
    "print(f\"NC test ids are saved to {nc_test_ids_path}\\n\")\n",
    "\n",
    "nc_test_labels_path = os.path.join(base_dir, \"nc-test-labels.pt\")\n",
    "nc_test_labels = torch.randint(0, 10, (num_tests,))\n",
    "print(f\"Part of test labels for node classification: {nc_test_labels[:3]}\")\n",
    "torch.save(nc_test_labels, nc_test_labels_path)\n",
    "print(f\"NC test labels are saved to {nc_test_labels_path}\\n\")"
   ]
  },
  {
   "cell_type": "markdown",
   "metadata": {
    "id": "LhAcDCHQ_KJ0"
   },
   "source": [
    "#### Link Prediction Task\n",
    "For link prediction task, we need **node pairs** or **negative src/dsts** for each training/validation/test set. Like feature data, numpy arrays and torch tensors are supported for these sets."
   ]
  },
  {
   "cell_type": "code",
   "execution_count": 6,
   "metadata": {
    "execution": {
     "iopub.execute_input": "2024-08-20T06:53:05.421878Z",
     "iopub.status.busy": "2024-08-20T06:53:05.421551Z",
     "iopub.status.idle": "2024-08-20T06:53:05.431320Z",
     "shell.execute_reply": "2024-08-20T06:53:05.430801Z"
    },
    "id": "u0jCnXIcAQy4"
   },
   "outputs": [
    {
     "name": "stdout",
     "output_type": "stream",
     "text": [
      "Part of train node pairs for link prediction: [[865 367]\n",
      " [269  51]\n",
      " [614 511]]\n",
      "LP train node pairs are saved to ./ondisk_dataset_homograph/lp-train-node-pairs.npy\n",
      "\n",
      "Part of val node pairs for link prediction: [[457  42]\n",
      " [127 865]\n",
      " [779 229]]\n",
      "LP val node pairs are saved to ./ondisk_dataset_homograph/lp-val-node-pairs.npy\n",
      "\n",
      "Part of val negative dsts for link prediction: tensor([[435, 292, 304, 147, 241, 170, 132, 199, 981, 103],\n",
      "        [381, 970, 888,  74, 249, 112, 681, 623, 911, 529],\n",
      "        [562, 270, 964, 635, 571, 221, 318, 985, 645, 846]])\n",
      "LP val negative dsts are saved to ./ondisk_dataset_homograph/lp-val-neg-dsts.pt\n",
      "\n",
      "Part of test node pairs for link prediction: [696 905]\n",
      "LP test node pairs are saved to ./ondisk_dataset_homograph/lp-test-node-pairs.npy\n",
      "\n",
      "Part of test negative dsts for link prediction: tensor([[620, 581, 615, 415, 571,  51, 973, 814,  97, 326],\n",
      "        [249, 924, 744, 809, 492, 132, 225, 260, 204,  30],\n",
      "        [624, 375, 349, 363, 183, 646, 645, 818, 190, 342]])\n",
      "LP test negative dsts are saved to ./ondisk_dataset_homograph/lp-test-neg-dsts.pt\n",
      "\n"
     ]
    }
   ],
   "source": [
    "num_trains = int(num_edges * 0.6)\n",
    "num_vals = int(num_edges * 0.2)\n",
    "num_tests = num_edges - num_trains - num_vals\n",
    "\n",
    "lp_train_node_pairs_path = os.path.join(base_dir, \"lp-train-node-pairs.npy\")\n",
    "lp_train_node_pairs = edges[:num_trains, :]\n",
    "print(f\"Part of train node pairs for link prediction: {lp_train_node_pairs[:3]}\")\n",
    "np.save(lp_train_node_pairs_path, lp_train_node_pairs)\n",
    "print(f\"LP train node pairs are saved to {lp_train_node_pairs_path}\\n\")\n",
    "\n",
    "lp_val_node_pairs_path = os.path.join(base_dir, \"lp-val-node-pairs.npy\")\n",
    "lp_val_node_pairs = edges[num_trains:num_trains+num_vals, :]\n",
    "print(f\"Part of val node pairs for link prediction: {lp_val_node_pairs[:3]}\")\n",
    "np.save(lp_val_node_pairs_path, lp_val_node_pairs)\n",
    "print(f\"LP val node pairs are saved to {lp_val_node_pairs_path}\\n\")\n",
    "\n",
    "lp_val_neg_dsts_path = os.path.join(base_dir, \"lp-val-neg-dsts.pt\")\n",
    "lp_val_neg_dsts = torch.randint(0, num_nodes, (num_vals, 10))\n",
    "print(f\"Part of val negative dsts for link prediction: {lp_val_neg_dsts[:3]}\")\n",
    "torch.save(lp_val_neg_dsts, lp_val_neg_dsts_path)\n",
    "print(f\"LP val negative dsts are saved to {lp_val_neg_dsts_path}\\n\")\n",
    "\n",
    "lp_test_node_pairs_path = os.path.join(base_dir, \"lp-test-node-pairs.npy\")\n",
    "lp_test_node_pairs = edges[-num_tests, :]\n",
    "print(f\"Part of test node pairs for link prediction: {lp_test_node_pairs[:3]}\")\n",
    "np.save(lp_test_node_pairs_path, lp_test_node_pairs)\n",
    "print(f\"LP test node pairs are saved to {lp_test_node_pairs_path}\\n\")\n",
    "\n",
    "lp_test_neg_dsts_path = os.path.join(base_dir, \"lp-test-neg-dsts.pt\")\n",
    "lp_test_neg_dsts = torch.randint(0, num_nodes, (num_tests, 10))\n",
    "print(f\"Part of test negative dsts for link prediction: {lp_test_neg_dsts[:3]}\")\n",
    "torch.save(lp_test_neg_dsts, lp_test_neg_dsts_path)\n",
    "print(f\"LP test negative dsts are saved to {lp_test_neg_dsts_path}\\n\")"
   ]
  },
  {
   "cell_type": "markdown",
   "metadata": {
    "id": "wbk6-wxRK-6S"
   },
   "source": [
    "## Organize Data into YAML File\n",
    "Now we need to create a `metadata.yaml` file which contains the paths, dadta types of graph structure, feature data, training/validation/test sets.\n",
    "\n",
    "Notes:\n",
    "- all path should be relative to `metadata.yaml`.\n",
    "- Below fields are optional and not specified in below example.\n",
    "  - `in_memory`: indicates whether to load dada into memory or `mmap`. Default is `True`.\n",
    "\n",
    "Please refer to [YAML specification](https://github.com/dmlc/dgl/blob/master/docs/source/stochastic_training/ondisk-dataset-specification.rst) for more details."
   ]
  },
  {
   "cell_type": "code",
   "execution_count": 7,
   "metadata": {
    "execution": {
     "iopub.execute_input": "2024-08-20T06:53:05.433710Z",
     "iopub.status.busy": "2024-08-20T06:53:05.433382Z",
     "iopub.status.idle": "2024-08-20T06:53:05.438395Z",
     "shell.execute_reply": "2024-08-20T06:53:05.437896Z"
    },
    "id": "ddGTWW61Lpwp"
   },
   "outputs": [],
   "source": [
    "yaml_content = f\"\"\"\n",
    "    dataset_name: homogeneous_graph_nc_lp\n",
    "    graph:\n",
    "      nodes:\n",
    "        - num: {num_nodes}\n",
    "      edges:\n",
    "        - format: csv\n",
    "          path: {os.path.basename(edges_path)}\n",
    "    feature_data:\n",
    "      - domain: node\n",
    "        name: feat_0\n",
    "        format: numpy\n",
    "        path: {os.path.basename(node_feat_0_path)}\n",
    "      - domain: node\n",
    "        name: feat_1\n",
    "        format: torch\n",
    "        path: {os.path.basename(node_feat_1_path)}\n",
    "      - domain: edge\n",
    "        name: feat_0\n",
    "        format: numpy\n",
    "        path: {os.path.basename(edge_feat_0_path)}\n",
    "      - domain: edge\n",
    "        name: feat_1\n",
    "        format: torch\n",
    "        path: {os.path.basename(edge_feat_1_path)}\n",
    "    tasks:\n",
    "      - name: node_classification\n",
    "        num_classes: 10\n",
    "        train_set:\n",
    "          - data:\n",
    "              - name: seed_nodes\n",
    "                format: numpy\n",
    "                path: {os.path.basename(nc_train_ids_path)}\n",
    "              - name: labels\n",
    "                format: torch\n",
    "                path: {os.path.basename(nc_train_labels_path)}\n",
    "        validation_set:\n",
    "          - data:\n",
    "              - name: seed_nodes\n",
    "                format: numpy\n",
    "                path: {os.path.basename(nc_val_ids_path)}\n",
    "              - name: labels\n",
    "                format: torch\n",
    "                path: {os.path.basename(nc_val_labels_path)}\n",
    "        test_set:\n",
    "          - data:\n",
    "              - name: seed_nodes\n",
    "                format: numpy\n",
    "                path: {os.path.basename(nc_test_ids_path)}\n",
    "              - name: labels\n",
    "                format: torch\n",
    "                path: {os.path.basename(nc_test_labels_path)}\n",
    "      - name: link_prediction\n",
    "        num_classes: 10\n",
    "        train_set:\n",
    "          - data:\n",
    "              - name: node_pairs\n",
    "                format: numpy\n",
    "                path: {os.path.basename(lp_train_node_pairs_path)}\n",
    "        validation_set:\n",
    "          - data:\n",
    "              - name: node_pairs\n",
    "                format: numpy\n",
    "                path: {os.path.basename(lp_val_node_pairs_path)}\n",
    "              - name: negative_dsts\n",
    "                format: torch\n",
    "                path: {os.path.basename(lp_val_neg_dsts_path)}\n",
    "        test_set:\n",
    "          - data:\n",
    "              - name: node_pairs\n",
    "                format: numpy\n",
    "                path: {os.path.basename(lp_test_node_pairs_path)}\n",
    "              - name: negative_dsts\n",
    "                format: torch\n",
    "                path: {os.path.basename(lp_test_neg_dsts_path)}\n",
    "\"\"\"\n",
    "metadata_path = os.path.join(base_dir, \"metadata.yaml\")\n",
    "with open(metadata_path, \"w\") as f:\n",
    "  f.write(yaml_content)"
   ]
  },
  {
   "cell_type": "markdown",
   "metadata": {
    "id": "kEfybHGhOW7O"
   },
   "source": [
    "## Instantiate `OnDiskDataset`\n",
    "Now we're ready to load dataset via `dgl.graphbolt.OnDiskDataset`. When instantiating, we just pass in the base directory where `metadata.yaml` file lies.\n",
    "\n",
    "During first instantiation, GraphBolt preprocesses the raw data such as constructing `FusedCSCSamplingGraph` from edges. All data including graph, feature data, training/validation/test sets are put into `preprocessed` directory after preprocessing. Any following dataset loading will skip the preprocess stage.\n",
    "\n",
    "After preprocessing, `load()` is required to be called explicitly in order to load graph, feature data and tasks."
   ]
  },
  {
   "cell_type": "code",
   "execution_count": 8,
   "metadata": {
    "execution": {
     "iopub.execute_input": "2024-08-20T06:53:05.440626Z",
     "iopub.status.busy": "2024-08-20T06:53:05.440317Z",
     "iopub.status.idle": "2024-08-20T06:53:05.519959Z",
     "shell.execute_reply": "2024-08-20T06:53:05.519416Z"
    },
    "id": "W58CZoSzOiyo"
   },
   "outputs": [
    {
     "name": "stdout",
     "output_type": "stream",
     "text": [
      "The on-disk dataset is re-preprocessing, so the existing preprocessed dataset has been removed.\n",
      "Start to preprocess the on-disk dataset.\n",
      "Finish preprocessing the on-disk dataset.\n",
      "Loaded graph: FusedCSCSamplingGraph(csc_indptr=tensor([    0,    14,    25,  ...,  9982,  9990, 10000], dtype=torch.int32),\n",
      "                      indices=tensor([292, 118,   9,  ..., 889, 402, 429], dtype=torch.int32),\n",
      "                      total_num_nodes=1000, num_edges=10000,)\n",
      "\n",
      "Loaded feature store: TorchBasedFeatureStore(\n",
      "    {(<OnDiskFeatureDataDomain.NODE: 'node'>, None, 'feat_0'): TorchBasedFeature(\n",
      "        feature=tensor([[0.7593, 0.7319, 0.0822, 0.0266, 0.7860],\n",
      "                        [0.4233, 0.3880, 0.1698, 0.1428, 0.9420],\n",
      "                        [0.4855, 0.2613, 0.8838, 0.4700, 0.4587],\n",
      "                        ...,\n",
      "                        [0.0867, 0.3270, 0.4432, 0.4946, 0.2342],\n",
      "                        [0.0573, 0.4283, 0.1348, 0.0213, 0.1442],\n",
      "                        [0.3780, 0.7249, 0.0401, 0.2241, 0.2427]], dtype=torch.float64),\n",
      "        metadata={},\n",
      "    ), (<OnDiskFeatureDataDomain.NODE: 'node'>, None, 'feat_1'): TorchBasedFeature(\n",
      "        feature=tensor([[0.2987, 0.7486, 0.1131, 0.8913, 0.6023],\n",
      "                        [0.6584, 0.7301, 0.1583, 0.2282, 0.4031],\n",
      "                        [0.3257, 0.8276, 0.8957, 0.3273, 0.8765],\n",
      "                        ...,\n",
      "                        [0.4843, 0.3006, 0.9517, 0.4642, 0.5545],\n",
      "                        [0.8206, 0.8933, 0.4072, 0.5987, 0.0621],\n",
      "                        [0.9560, 0.0968, 0.1808, 0.5771, 0.8692]]),\n",
      "        metadata={},\n",
      "    ), (<OnDiskFeatureDataDomain.EDGE: 'edge'>, None, 'feat_0'): TorchBasedFeature(\n",
      "        feature=tensor([[0.9255, 0.3101, 0.6368, 0.6641, 0.7701],\n",
      "                        [0.1502, 0.1734, 0.4677, 0.8789, 0.9655],\n",
      "                        [0.8542, 0.7966, 0.4228, 0.8946, 0.7521],\n",
      "                        ...,\n",
      "                        [0.8852, 0.2585, 0.1064, 0.7305, 0.3198],\n",
      "                        [0.5706, 0.5759, 0.0455, 0.6937, 0.4312],\n",
      "                        [0.9834, 0.7354, 0.6024, 0.9656, 0.8008]], dtype=torch.float64),\n",
      "        metadata={},\n",
      "    ), (<OnDiskFeatureDataDomain.EDGE: 'edge'>, None, 'feat_1'): TorchBasedFeature(\n",
      "        feature=tensor([[0.5083, 0.9202, 0.1053, 0.6893, 0.7520],\n",
      "                        [0.1244, 0.4630, 0.6851, 0.5042, 0.7307],\n",
      "                        [0.6228, 0.6144, 0.1598, 0.2032, 0.9450],\n",
      "                        ...,\n",
      "                        [0.8873, 0.3167, 0.1652, 0.9465, 0.2347],\n",
      "                        [0.8749, 0.0569, 0.5038, 0.1539, 0.4703],\n",
      "                        [0.5074, 0.7263, 0.7959, 0.5286, 0.4835]]),\n",
      "        metadata={},\n",
      "    )}\n",
      ")\n",
      "\n",
      "Loaded node classification task: OnDiskTask(validation_set=ItemSet(\n",
      "               items=(tensor([631,   6, 403, 952, 442, 869, 183, 803, 433, 574,  39, 722, 825, 625,\n",
      "                   571, 715,  86, 374, 705, 302, 421, 248, 802, 730,  64, 851, 224, 741,\n",
      "                   293,  51, 434, 764, 139, 956, 511, 398,  49,  59, 354, 616,  93, 307,\n",
      "                   681, 839, 468, 170, 287, 352, 396, 723, 699, 876, 978, 937, 687, 108,\n",
      "                   441, 704, 481, 531, 969, 774,  75,  97, 714, 228, 203, 965, 110, 447,\n",
      "                   526,  56, 154, 534, 915, 886, 709, 497, 214, 610, 535, 924, 338, 500,\n",
      "                   346, 274, 598,  63, 413, 731, 840, 355, 369, 882,  66, 718, 692, 523,\n",
      "                   630, 313, 367, 148, 332, 686, 641,  14, 682, 390, 137, 601, 989, 556,\n",
      "                   482, 438, 285, 555, 917, 790, 735, 693,  55, 310, 167, 914, 805, 529,\n",
      "                   279, 445, 813, 336, 961,  47, 528, 363, 314, 219, 849,   7, 717, 868,\n",
      "                   368, 133, 854, 465, 209, 694, 420, 411, 210, 337, 697, 981, 237, 304,\n",
      "                   251, 848, 138, 412, 607, 182, 262, 339,  81, 486, 254,  13, 997,  42,\n",
      "                   446,  96, 834, 815, 408, 673, 907, 684, 458, 588,   3, 991, 123, 206,\n",
      "                   982, 975, 545, 233, 376, 810, 967, 174, 750, 859, 765, 211, 672, 330,\n",
      "                   261, 231, 527, 669], dtype=torch.int32), tensor([8, 3, 9, 9, 2, 1, 4, 1, 3, 2, 1, 4, 0, 6, 7, 1, 4, 5, 8, 8, 0, 9, 9, 5,\n",
      "                   0, 3, 1, 3, 7, 6, 0, 7, 2, 5, 7, 0, 5, 0, 1, 8, 3, 4, 6, 8, 2, 0, 7, 9,\n",
      "                   0, 0, 0, 3, 5, 2, 9, 7, 2, 9, 5, 9, 3, 8, 4, 8, 4, 5, 8, 3, 1, 1, 3, 2,\n",
      "                   9, 7, 6, 1, 3, 0, 5, 8, 6, 7, 7, 4, 3, 1, 3, 9, 9, 6, 2, 6, 1, 0, 4, 3,\n",
      "                   4, 0, 1, 5, 7, 7, 0, 4, 9, 3, 2, 4, 6, 8, 8, 8, 9, 7, 3, 3, 0, 3, 8, 5,\n",
      "                   7, 3, 8, 5, 5, 2, 4, 4, 4, 7, 2, 4, 4, 3, 9, 4, 0, 6, 9, 5, 9, 9, 4, 5,\n",
      "                   8, 1, 2, 3, 0, 5, 5, 0, 2, 2, 9, 0, 6, 9, 0, 9, 1, 2, 5, 8, 5, 7, 3, 7,\n",
      "                   3, 2, 7, 0, 4, 3, 1, 4, 0, 5, 5, 1, 1, 7, 7, 1, 2, 2, 9, 4, 5, 0, 4, 2,\n",
      "                   2, 6, 4, 3, 4, 4, 2, 3])),\n",
      "               names=('seed_nodes', 'labels'),\n",
      "           ),\n",
      "           train_set=ItemSet(\n",
      "               items=(tensor([295, 823, 946,  40, 776, 430, 833, 204, 105, 788, 867,  62, 830, 582,\n",
      "                   259, 883, 283, 271, 752, 156, 903, 850, 416, 713, 393, 429, 239, 608,\n",
      "                   397, 518, 814, 578,  67, 452, 584, 144, 983, 732, 710, 255, 265, 499,\n",
      "                   797, 690, 128, 827, 800,  46, 171, 325, 856, 361, 893, 158, 940, 147,\n",
      "                   695, 383, 638, 418, 272, 973, 190, 298, 902, 656, 744, 587, 570, 898,\n",
      "                   115, 909, 386, 232, 653, 772, 696,  41, 540, 670, 980, 549, 514, 919,\n",
      "                   335, 700, 157, 164, 516, 387, 593, 201, 294, 242, 191, 711, 380, 258,\n",
      "                   140, 246, 300, 316, 382, 748, 539, 469, 761, 878, 546, 532, 877, 654,\n",
      "                    10, 852, 863, 122, 858, 822, 957, 738,  26, 506,   8, 911, 685, 740,\n",
      "                   763, 862, 828, 198, 636, 509, 932, 177, 551, 801, 538, 220, 773, 543,\n",
      "                   913, 621, 633,  78,  57, 422, 103, 837, 324, 437, 513, 651, 949, 603,\n",
      "                   377, 745, 599, 282, 366, 552, 680, 988, 972, 678, 646, 727, 936, 311,\n",
      "                   708, 775, 193, 737, 866, 264, 661, 404, 229, 615, 459, 998, 132, 370,\n",
      "                   918, 439, 121, 770,  65, 284, 223,  95, 921,  45, 153, 505, 930, 905,\n",
      "                   326, 666, 151, 202, 427, 312, 470, 517,  79, 485, 818, 249, 960, 897,\n",
      "                     9, 589, 553, 568,  98, 665, 999, 359, 471, 334, 951, 962, 931, 303,\n",
      "                   525, 920, 777, 186, 649, 642, 742, 477, 426,  29, 558, 707, 554, 609,\n",
      "                   199, 817, 463, 604,  22, 213, 579,  43, 143, 188, 331, 113,  33, 679,\n",
      "                   362, 217, 623, 645, 563, 475, 257, 855,  61, 125, 280, 388,  70, 605,\n",
      "                   250, 456, 320, 350, 942, 444, 365, 150, 290, 358, 819, 215, 565, 944,\n",
      "                   677,  83, 948, 600, 375, 472, 301,  23, 996, 950,  15, 594, 743, 321,\n",
      "                   496, 659, 406, 880, 381, 347, 970,  20, 798, 524, 492, 236, 643, 146,\n",
      "                   478, 440, 111,  17, 943, 650,  53, 712, 824, 990, 327, 726, 244, 318,\n",
      "                   923, 343, 341, 315, 842, 410, 291, 266, 135, 958, 460, 841, 971, 583,\n",
      "                   857, 597, 288, 925, 627, 267, 394, 663, 289, 160, 720, 751, 766, 502,\n",
      "                    99, 507, 197, 530, 566, 230, 721,  74, 120, 912, 614, 959, 739, 342,\n",
      "                   340, 870, 273, 954, 668, 733, 995, 145, 874, 269, 372, 292, 306, 243,\n",
      "                    77, 241, 373, 149,  37, 494, 966, 698, 155, 637, 602, 644, 994, 865,\n",
      "                   491, 875, 674, 212, 941, 348, 793, 591, 784, 364, 275, 689, 268, 884,\n",
      "                   559, 263, 495, 106, 899, 757, 768, 166, 838, 619, 976, 890, 756, 100,\n",
      "                   544, 473, 333, 938, 613, 345, 504,  38, 664, 836, 767, 626, 101, 109,\n",
      "                    72, 488, 308, 487, 831, 245, 846, 904, 791, 501, 399, 389, 816, 821,\n",
      "                   136, 216, 575, 176, 779, 414,  25,  44, 480, 647, 483,  85, 417, 317,\n",
      "                   379, 796, 435, 194, 432, 984, 929, 384, 612, 778, 141, 759, 401, 395,\n",
      "                   297, 635, 896, 425, 221, 993, 409,  36, 353, 807, 351,  88,  27, 162,\n",
      "                   592, 476, 537, 569, 519, 887, 235, 286, 820, 493, 963, 639,  58, 117,\n",
      "                   130, 945, 585, 879, 152, 466, 424, 927, 782, 901, 809,  91, 734,  68,\n",
      "                    28, 860, 357, 192, 521, 129, 455, 112,  35, 252, 691,  87, 277,  82,\n",
      "                    92, 550, 889, 278, 510,  19, 746, 131, 953, 515, 173, 240, 299, 906,\n",
      "                   596,  12, 419,  80,  94, 894, 322, 253, 725, 329, 561, 461, 987, 655,\n",
      "                   400, 142, 785, 349, 227, 662, 795, 548, 356, 861, 474, 648, 189, 724,\n",
      "                    90, 371, 247, 508, 453, 428, 573, 124, 888, 628, 799, 296,  73, 701,\n",
      "                   547, 754, 119,  89, 238, 309, 939, 226, 168, 450, 567, 892],\n",
      "                  dtype=torch.int32), tensor([1, 8, 6, 2, 6, 0, 8, 4, 5, 7, 2, 2, 4, 7, 7, 5, 1, 5, 3, 2, 9, 0, 1, 5,\n",
      "                   1, 5, 1, 2, 4, 2, 4, 2, 3, 5, 7, 5, 6, 9, 6, 2, 2, 8, 4, 7, 3, 2, 4, 7,\n",
      "                   0, 2, 0, 8, 3, 4, 3, 6, 8, 5, 9, 2, 5, 2, 8, 9, 1, 5, 1, 0, 4, 0, 8, 2,\n",
      "                   2, 6, 0, 3, 0, 8, 8, 7, 6, 7, 7, 8, 8, 6, 8, 8, 6, 5, 0, 9, 0, 8, 1, 6,\n",
      "                   5, 6, 0, 9, 1, 6, 6, 5, 0, 2, 4, 5, 6, 6, 3, 6, 3, 7, 1, 8, 7, 6, 7, 3,\n",
      "                   8, 5, 3, 3, 5, 5, 2, 5, 6, 1, 3, 7, 4, 2, 1, 8, 0, 9, 2, 5, 8, 5, 4, 2,\n",
      "                   8, 3, 3, 2, 4, 2, 2, 8, 8, 5, 6, 5, 4, 6, 6, 7, 7, 0, 3, 5, 7, 5, 7, 7,\n",
      "                   2, 2, 8, 5, 2, 0, 2, 1, 4, 2, 5, 4, 2, 8, 8, 4, 0, 9, 8, 5, 8, 5, 6, 4,\n",
      "                   0, 8, 8, 8, 4, 7, 3, 5, 0, 8, 3, 3, 2, 0, 5, 2, 3, 5, 7, 9, 0, 3, 8, 8,\n",
      "                   3, 2, 5, 4, 8, 6, 6, 5, 4, 8, 4, 6, 7, 8, 8, 6, 9, 9, 7, 3, 2, 4, 8, 6,\n",
      "                   2, 2, 8, 4, 7, 3, 4, 3, 0, 3, 8, 2, 0, 1, 0, 8, 8, 8, 8, 5, 4, 1, 1, 4,\n",
      "                   6, 0, 5, 7, 7, 3, 1, 3, 7, 3, 0, 8, 9, 7, 9, 5, 7, 6, 5, 4, 9, 7, 5, 1,\n",
      "                   8, 5, 4, 5, 4, 3, 8, 1, 1, 2, 2, 6, 7, 9, 5, 4, 6, 5, 3, 3, 6, 5, 5, 9,\n",
      "                   2, 6, 4, 6, 2, 4, 2, 7, 2, 3, 8, 5, 3, 9, 4, 6, 0, 3, 1, 8, 4, 9, 7, 1,\n",
      "                   1, 3, 4, 3, 6, 1, 1, 6, 0, 3, 6, 9, 2, 1, 4, 3, 1, 0, 5, 0, 1, 1, 2, 8,\n",
      "                   7, 3, 1, 2, 1, 9, 1, 3, 8, 5, 3, 1, 5, 8, 7, 5, 8, 0, 1, 5, 9, 7, 4, 7,\n",
      "                   0, 2, 9, 1, 0, 7, 6, 8, 1, 7, 7, 1, 8, 6, 7, 3, 5, 1, 9, 3, 7, 0, 2, 8,\n",
      "                   7, 4, 0, 3, 8, 1, 1, 1, 3, 8, 8, 1, 4, 5, 4, 5, 7, 2, 3, 5, 1, 1, 1, 7,\n",
      "                   9, 7, 1, 7, 2, 0, 5, 2, 6, 1, 5, 3, 8, 8, 2, 9, 0, 6, 2, 3, 1, 6, 5, 7,\n",
      "                   8, 9, 1, 5, 1, 7, 0, 6, 2, 5, 5, 9, 9, 3, 0, 8, 1, 9, 0, 1, 5, 4, 3, 0,\n",
      "                   2, 8, 2, 3, 4, 0, 2, 3, 6, 3, 3, 4, 5, 1, 5, 5, 7, 0, 7, 3, 2, 3, 2, 1,\n",
      "                   3, 9, 3, 1, 2, 3, 6, 7, 1, 6, 7, 8, 8, 2, 6, 4, 8, 4, 0, 9, 1, 7, 2, 4,\n",
      "                   1, 8, 3, 7, 9, 6, 6, 4, 1, 1, 0, 4, 0, 7, 6, 8, 5, 8, 2, 8, 0, 5, 1, 5,\n",
      "                   0, 5, 5, 9, 1, 3, 1, 7, 5, 9, 5, 0, 1, 1, 9, 4, 6, 2, 0, 0, 8, 6, 4, 0,\n",
      "                   7, 7, 9, 6, 0, 9, 0, 7, 1, 5, 9, 2, 3, 9, 8, 8, 6, 7, 8, 5, 1, 2, 4, 8])),\n",
      "               names=('seed_nodes', 'labels'),\n",
      "           ),\n",
      "           test_set=ItemSet(\n",
      "               items=(tensor([ 69, 928, 134, 200, 102, 688,  48,  32, 769, 175,  50, 617, 541, 586,\n",
      "                   964, 484, 719, 462, 812, 640,  16, 900, 736, 992, 205,   4, 172, 891,\n",
      "                    60, 620, 319, 503,  21, 771, 533, 974, 107, 781, 758, 479, 657,  24,\n",
      "                   222, 114, 792, 512, 423, 169, 864, 178, 658, 195, 634, 753, 260, 667,\n",
      "                   786, 853, 622, 760, 660, 977, 436, 448, 811, 489,  76, 933, 755, 378,\n",
      "                   126, 328, 407, 835, 581, 895,  71, 806, 871, 590, 676, 794, 464, 789,\n",
      "                   747, 847, 979, 391, 402, 926, 580, 910, 716,   1, 542, 618, 451, 804,\n",
      "                   606, 624, 185, 908, 652, 808, 116, 783, 118, 564, 179, 457, 729, 520,\n",
      "                   629, 881,  34, 305, 161,   0, 595, 560, 385, 225, 165,  18,  54, 104,\n",
      "                   196, 955, 181,  52, 490, 256, 675, 572, 323, 467, 344, 632, 562, 703,\n",
      "                   163,   2, 671, 270, 683, 934, 780, 947, 405, 281, 762, 184, 844,  30,\n",
      "                   843, 557, 749, 443, 829, 611,   5, 968, 522, 180, 415, 935, 360, 127,\n",
      "                   498, 431, 392, 218, 873,  84, 845, 449, 187, 826, 986,  11, 207, 702,\n",
      "                   577, 576, 159, 728, 234, 787, 454, 985, 885, 706, 208, 276,  31, 922,\n",
      "                   872, 916, 536, 832], dtype=torch.int32), tensor([1, 1, 2, 0, 5, 7, 1, 3, 3, 7, 1, 9, 4, 6, 2, 2, 5, 2, 9, 2, 3, 7, 5, 8,\n",
      "                   2, 5, 2, 9, 3, 0, 6, 6, 1, 2, 1, 5, 7, 8, 0, 4, 8, 2, 2, 8, 9, 8, 2, 9,\n",
      "                   6, 9, 6, 5, 5, 2, 5, 1, 2, 8, 5, 9, 1, 4, 7, 4, 3, 6, 3, 3, 0, 8, 5, 2,\n",
      "                   0, 6, 8, 6, 4, 5, 0, 3, 3, 6, 7, 8, 4, 8, 6, 8, 5, 7, 3, 0, 0, 6, 0, 1,\n",
      "                   1, 3, 0, 9, 6, 7, 3, 2, 6, 2, 4, 6, 3, 9, 9, 4, 3, 9, 9, 2, 4, 7, 8, 3,\n",
      "                   6, 6, 9, 0, 0, 8, 8, 6, 5, 0, 6, 6, 3, 2, 9, 6, 1, 9, 5, 7, 8, 3, 3, 3,\n",
      "                   3, 9, 3, 0, 3, 1, 9, 5, 5, 5, 3, 1, 5, 8, 7, 6, 0, 1, 6, 5, 7, 9, 3, 6,\n",
      "                   6, 4, 9, 8, 4, 0, 2, 1, 1, 8, 3, 7, 5, 2, 9, 7, 2, 6, 7, 1, 6, 8, 0, 0,\n",
      "                   6, 3, 2, 8, 2, 5, 1, 2])),\n",
      "               names=('seed_nodes', 'labels'),\n",
      "           ),\n",
      "           metadata={'name': 'node_classification', 'num_classes': 10},)\n",
      "\n",
      "Loaded link prediction task: OnDiskTask(validation_set=ItemSet(\n",
      "               items=(tensor([[457,  42],\n",
      "                   [127, 865],\n",
      "                   [779, 229],\n",
      "                   ...,\n",
      "                   [406,  92],\n",
      "                   [851, 468],\n",
      "                   [ 42, 789]], dtype=torch.int32), tensor([[435, 292, 304,  ..., 199, 981, 103],\n",
      "                   [381, 970, 888,  ..., 623, 911, 529],\n",
      "                   [562, 270, 964,  ..., 985, 645, 846],\n",
      "                   ...,\n",
      "                   [512, 928, 350,  ..., 608,   0, 735],\n",
      "                   [426, 409, 134,  ..., 811, 317, 621],\n",
      "                   [657, 108, 137,  ..., 788, 247, 562]], dtype=torch.int32)),\n",
      "               names=('node_pairs', 'negative_dsts'),\n",
      "           ),\n",
      "           train_set=ItemSet(\n",
      "               items=(tensor([[865, 367],\n",
      "                   [269,  51],\n",
      "                   [614, 511],\n",
      "                   ...,\n",
      "                   [684, 754],\n",
      "                   [530, 854],\n",
      "                   [373, 996]], dtype=torch.int32),),\n",
      "               names=('node_pairs',),\n",
      "           ),\n",
      "           test_set=ItemSet(\n",
      "               items=(tensor([696, 905], dtype=torch.int32), tensor([[620, 581, 615,  ..., 814,  97, 326],\n",
      "                   [249, 924, 744,  ..., 260, 204,  30],\n",
      "                   [624, 375, 349,  ..., 818, 190, 342],\n",
      "                   ...,\n",
      "                   [979, 665,  91,  ..., 435, 780, 464],\n",
      "                   [539, 922, 927,  ..., 691, 585,  79],\n",
      "                   [542,  12, 186,  ..., 195, 745, 743]], dtype=torch.int32)),\n",
      "               names=('node_pairs', 'negative_dsts'),\n",
      "           ),\n",
      "           metadata={'name': 'link_prediction', 'num_classes': 10},)\n",
      "\n"
     ]
    },
    {
     "name": "stderr",
     "output_type": "stream",
     "text": [
      "/home/ubuntu/dgl_doc_dev/dgl/python/dgl/graphbolt/impl/ondisk_dataset.py:464: DGLWarning: Edge feature is stored, but edge IDs are not saved.\n",
      "  dgl_warning(\"Edge feature is stored, but edge IDs are not saved.\")\n"
     ]
    }
   ],
   "source": [
    "dataset = gb.OnDiskDataset(base_dir).load()\n",
    "graph = dataset.graph\n",
    "print(f\"Loaded graph: {graph}\\n\")\n",
    "\n",
    "feature = dataset.feature\n",
    "print(f\"Loaded feature store: {feature}\\n\")\n",
    "\n",
    "tasks = dataset.tasks\n",
    "nc_task = tasks[0]\n",
    "print(f\"Loaded node classification task: {nc_task}\\n\")\n",
    "lp_task = tasks[1]\n",
    "print(f\"Loaded link prediction task: {lp_task}\\n\")"
   ]
  }
 ],
 "metadata": {
  "colab": {
   "private_outputs": true,
   "provenance": []
  },
  "kernelspec": {
   "display_name": "Python 3",
   "name": "python3"
  },
  "language_info": {
   "codemirror_mode": {
    "name": "ipython",
    "version": 3
   },
   "file_extension": ".py",
   "mimetype": "text/x-python",
   "name": "python",
   "nbconvert_exporter": "python",
   "pygments_lexer": "ipython3",
   "version": "3.10.14"
  }
 },
 "nbformat": 4,
 "nbformat_minor": 0
}

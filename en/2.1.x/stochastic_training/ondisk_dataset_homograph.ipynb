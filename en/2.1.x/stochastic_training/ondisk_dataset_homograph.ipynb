{
 "cells": [
  {
   "cell_type": "markdown",
   "metadata": {
    "id": "FnFhPMaAfLtJ"
   },
   "source": [
    "# OnDiskDataset for Homogeneous Graph\n",
    "\n",
    "[![Open In Colab](https://colab.research.google.com/assets/colab-badge.svg)](https://colab.research.google.com/github/dmlc/dgl/blob/master/notebooks/stochastic_training/ondisk_dataset_homograph.ipynb) [![GitHub](https://img.shields.io/badge/-View%20on%20GitHub-181717?logo=github&logoColor=ffffff)](https://github.com/dmlc/dgl/blob/master/notebooks/stochastic_training/ondisk_dataset_homograph.ipynb)\n",
    "\n",
    "This tutorial shows how to create `OnDiskDataset` for homogeneous graph that could be used in **GraphBolt** framework.\n",
    "\n",
    "By the end of this tutorial, you will be able to\n",
    "\n",
    "- organize graph structure data.\n",
    "- organize feature data.\n",
    "- organize training/validation/test set for specific tasks.\n",
    "\n",
    "To create an ``OnDiskDataset`` object, you need to organize all the data including graph structure, feature data and tasks into a directory. The directory should contain a ``metadata.yaml`` file that describes the metadata of the dataset.\n",
    "\n",
    "Now let's generate various data step by step and organize them together to instantiate `OnDiskDataset` finally."
   ]
  },
  {
   "cell_type": "markdown",
   "metadata": {
    "id": "Wlb19DtWgtzq"
   },
   "source": [
    "## Install DGL package"
   ]
  },
  {
   "cell_type": "code",
   "execution_count": 1,
   "metadata": {
    "execution": {
     "iopub.execute_input": "2024-08-21T10:40:29.583912Z",
     "iopub.status.busy": "2024-08-21T10:40:29.583587Z",
     "iopub.status.idle": "2024-08-21T10:40:33.385416Z",
     "shell.execute_reply": "2024-08-21T10:40:33.384695Z"
    },
    "id": "UojlT9ZGgyr9"
   },
   "outputs": [
    {
     "name": "stdout",
     "output_type": "stream",
     "text": [
      "Looking in links: https://data.dgl.ai/wheels-test/repo.html\r\n",
      "Requirement already satisfied: dgl in /opt/conda/envs/dgl-dev-cpu/lib/python3.10/site-packages (2.2a240410)\r\n",
      "Requirement already satisfied: numpy>=1.14.0 in /opt/conda/envs/dgl-dev-cpu/lib/python3.10/site-packages (from dgl) (1.26.4)\r\n",
      "Requirement already satisfied: scipy>=1.1.0 in /opt/conda/envs/dgl-dev-cpu/lib/python3.10/site-packages (from dgl) (1.14.0)\r\n",
      "Requirement already satisfied: networkx>=2.1 in /opt/conda/envs/dgl-dev-cpu/lib/python3.10/site-packages (from dgl) (3.3)\r\n",
      "Requirement already satisfied: requests>=2.19.0 in /opt/conda/envs/dgl-dev-cpu/lib/python3.10/site-packages (from dgl) (2.32.3)\r\n",
      "Requirement already satisfied: tqdm in /opt/conda/envs/dgl-dev-cpu/lib/python3.10/site-packages (from dgl) (4.66.5)\r\n",
      "Requirement already satisfied: psutil>=5.8.0 in /opt/conda/envs/dgl-dev-cpu/lib/python3.10/site-packages (from dgl) (6.0.0)\r\n",
      "Requirement already satisfied: torchdata>=0.5.0 in /opt/conda/envs/dgl-dev-cpu/lib/python3.10/site-packages (from dgl) (0.7.1+6427ed9)\r\n",
      "Requirement already satisfied: pandas in /opt/conda/envs/dgl-dev-cpu/lib/python3.10/site-packages (from dgl) (2.2.2)\r\n",
      "Requirement already satisfied: charset-normalizer<4,>=2 in /opt/conda/envs/dgl-dev-cpu/lib/python3.10/site-packages (from requests>=2.19.0->dgl) (3.3.2)\r\n",
      "Requirement already satisfied: idna<4,>=2.5 in /opt/conda/envs/dgl-dev-cpu/lib/python3.10/site-packages (from requests>=2.19.0->dgl) (3.7)\r\n",
      "Requirement already satisfied: urllib3<3,>=1.21.1 in /opt/conda/envs/dgl-dev-cpu/lib/python3.10/site-packages (from requests>=2.19.0->dgl) (2.2.2)\r\n",
      "Requirement already satisfied: certifi>=2017.4.17 in /opt/conda/envs/dgl-dev-cpu/lib/python3.10/site-packages (from requests>=2.19.0->dgl) (2024.7.4)\r\n",
      "Requirement already satisfied: torch>=2 in /opt/conda/envs/dgl-dev-cpu/lib/python3.10/site-packages (from torchdata>=0.5.0->dgl) (2.1.0+cpu)\r\n"
     ]
    },
    {
     "name": "stdout",
     "output_type": "stream",
     "text": [
      "Requirement already satisfied: python-dateutil>=2.8.2 in /opt/conda/envs/dgl-dev-cpu/lib/python3.10/site-packages (from pandas->dgl) (2.9.0.post0)\r\n",
      "Requirement already satisfied: pytz>=2020.1 in /opt/conda/envs/dgl-dev-cpu/lib/python3.10/site-packages (from pandas->dgl) (2024.1)\r\n",
      "Requirement already satisfied: tzdata>=2022.7 in /opt/conda/envs/dgl-dev-cpu/lib/python3.10/site-packages (from pandas->dgl) (2024.1)\r\n",
      "Requirement already satisfied: six>=1.5 in /opt/conda/envs/dgl-dev-cpu/lib/python3.10/site-packages (from python-dateutil>=2.8.2->pandas->dgl) (1.16.0)\r\n",
      "Requirement already satisfied: filelock in /opt/conda/envs/dgl-dev-cpu/lib/python3.10/site-packages (from torch>=2->torchdata>=0.5.0->dgl) (3.15.4)\r\n",
      "Requirement already satisfied: typing-extensions in /opt/conda/envs/dgl-dev-cpu/lib/python3.10/site-packages (from torch>=2->torchdata>=0.5.0->dgl) (4.12.2)\r\n",
      "Requirement already satisfied: sympy in /opt/conda/envs/dgl-dev-cpu/lib/python3.10/site-packages (from torch>=2->torchdata>=0.5.0->dgl) (1.13.2)\r\n",
      "Requirement already satisfied: jinja2 in /opt/conda/envs/dgl-dev-cpu/lib/python3.10/site-packages (from torch>=2->torchdata>=0.5.0->dgl) (3.1.4)\r\n",
      "Requirement already satisfied: fsspec in /opt/conda/envs/dgl-dev-cpu/lib/python3.10/site-packages (from torch>=2->torchdata>=0.5.0->dgl) (2024.6.1)\r\n"
     ]
    },
    {
     "name": "stdout",
     "output_type": "stream",
     "text": [
      "Requirement already satisfied: MarkupSafe>=2.0 in /opt/conda/envs/dgl-dev-cpu/lib/python3.10/site-packages (from jinja2->torch>=2->torchdata>=0.5.0->dgl) (2.1.5)\r\n",
      "Requirement already satisfied: mpmath<1.4,>=1.1.0 in /opt/conda/envs/dgl-dev-cpu/lib/python3.10/site-packages (from sympy->torch>=2->torchdata>=0.5.0->dgl) (1.3.0)\r\n"
     ]
    },
    {
     "name": "stdout",
     "output_type": "stream",
     "text": [
      "DGL installed!\n"
     ]
    }
   ],
   "source": [
    "# Install required packages.\n",
    "import os\n",
    "import torch\n",
    "import numpy as np\n",
    "os.environ['TORCH'] = torch.__version__\n",
    "os.environ['DGLBACKEND'] = \"pytorch\"\n",
    "\n",
    "# Install the CPU version.\n",
    "device = torch.device(\"cpu\")\n",
    "!pip install --pre dgl -f https://data.dgl.ai/wheels-test/repo.html\n",
    "\n",
    "try:\n",
    "    import dgl\n",
    "    import dgl.graphbolt as gb\n",
    "    installed = True\n",
    "except ImportError as error:\n",
    "    installed = False\n",
    "    print(error)\n",
    "print(\"DGL installed!\" if installed else \"DGL not found!\")"
   ]
  },
  {
   "cell_type": "markdown",
   "metadata": {
    "id": "2R7WnSbjsfbr"
   },
   "source": [
    "## Data preparation\n",
    "In order to demonstrate how to organize various data, let's create a base directory first."
   ]
  },
  {
   "cell_type": "code",
   "execution_count": 2,
   "metadata": {
    "execution": {
     "iopub.execute_input": "2024-08-21T10:40:33.388712Z",
     "iopub.status.busy": "2024-08-21T10:40:33.387981Z",
     "iopub.status.idle": "2024-08-21T10:40:33.392244Z",
     "shell.execute_reply": "2024-08-21T10:40:33.391624Z"
    },
    "id": "SZipbzyltLfO"
   },
   "outputs": [
    {
     "name": "stdout",
     "output_type": "stream",
     "text": [
      "Created base directory: ./ondisk_dataset_homograph\n"
     ]
    }
   ],
   "source": [
    "base_dir = './ondisk_dataset_homograph'\n",
    "os.makedirs(base_dir, exist_ok=True)\n",
    "print(f\"Created base directory: {base_dir}\")"
   ]
  },
  {
   "cell_type": "markdown",
   "metadata": {
    "id": "qhNtIn_xhlnl"
   },
   "source": [
    "### Generate graph structure data\n",
    "For homogeneous graph, we just need to save edges(namely node pairs) into  **Numpy** or **CSV** file.\n",
    "\n",
    "Note:\n",
    "- when saving to **Numpy**, the array requires to be in shape of `(2, N)`. This format is recommended as constructing graph from it is much faster than **CSV** file.\n",
    "- when saving to **CSV** file, do not save index and header.\n"
   ]
  },
  {
   "cell_type": "code",
   "execution_count": 3,
   "metadata": {
    "execution": {
     "iopub.execute_input": "2024-08-21T10:40:33.394899Z",
     "iopub.status.busy": "2024-08-21T10:40:33.394459Z",
     "iopub.status.idle": "2024-08-21T10:40:33.407435Z",
     "shell.execute_reply": "2024-08-21T10:40:33.406871Z"
    },
    "id": "HcBt4G5BmSjr"
   },
   "outputs": [
    {
     "name": "stdout",
     "output_type": "stream",
     "text": [
      "Part of edges: [[181 516]\n",
      " [343  12]\n",
      " [729  64]\n",
      " [ 46 980]\n",
      " [342 827]]\n",
      "Edges are saved into ./ondisk_dataset_homograph/edges.csv\n"
     ]
    }
   ],
   "source": [
    "import numpy as np\n",
    "import pandas as pd\n",
    "num_nodes = 1000\n",
    "num_edges = 10 * num_nodes\n",
    "edges_path = os.path.join(base_dir, \"edges.csv\")\n",
    "edges = np.random.randint(0, num_nodes, size=(num_edges, 2))\n",
    "\n",
    "print(f\"Part of edges: {edges[:5, :]}\")\n",
    "\n",
    "df = pd.DataFrame(edges)\n",
    "df.to_csv(edges_path, index=False, header=False)\n",
    "\n",
    "print(f\"Edges are saved into {edges_path}\")"
   ]
  },
  {
   "cell_type": "markdown",
   "metadata": {
    "id": "kh-4cPtzpcaH"
   },
   "source": [
    "### Generate feature data for graph\n",
    "For feature data, numpy arrays and torch tensors are supported for now."
   ]
  },
  {
   "cell_type": "code",
   "execution_count": 4,
   "metadata": {
    "execution": {
     "iopub.execute_input": "2024-08-21T10:40:33.409841Z",
     "iopub.status.busy": "2024-08-21T10:40:33.409576Z",
     "iopub.status.idle": "2024-08-21T10:40:33.423228Z",
     "shell.execute_reply": "2024-08-21T10:40:33.422542Z"
    },
    "id": "_PVu1u5brBhF"
   },
   "outputs": [
    {
     "name": "stdout",
     "output_type": "stream",
     "text": [
      "Part of node feature [feat_0]: [[0.00351592 0.91712817 0.3596689  0.82408659 0.53679027]\n",
      " [0.44649189 0.23514755 0.01936146 0.61819984 0.86891751]\n",
      " [0.18114475 0.47304171 0.23731532 0.29864942 0.76877266]]\n",
      "Node feature [feat_0] is saved to ./ondisk_dataset_homograph/node-feat-0.npy\n",
      "\n",
      "Part of node feature [feat_1]: tensor([[0.1305, 0.3644, 0.7668, 0.8128, 0.0689],\n",
      "        [0.0292, 0.7019, 0.7699, 0.7773, 0.1873],\n",
      "        [0.2425, 0.6633, 0.6586, 0.3538, 0.8710]])\n",
      "Node feature [feat_1] is saved to ./ondisk_dataset_homograph/node-feat-1.pt\n",
      "\n",
      "Part of edge feature [feat_0]: [[0.21160393 0.03554341 0.06072538 0.60283663 0.63727586]\n",
      " [0.53792751 0.05561788 0.91597408 0.20486924 0.15310757]\n",
      " [0.55642261 0.56651442 0.53182597 0.65428343 0.58948503]]\n",
      "Edge feature [feat_0] is saved to ./ondisk_dataset_homograph/edge-feat-0.npy\n",
      "\n",
      "Part of edge feature [feat_1]: tensor([[0.1106, 0.7314, 0.4901, 0.7787, 0.3693],\n",
      "        [0.9709, 0.9886, 0.0216, 0.3086, 0.2866],\n",
      "        [0.6389, 0.6950, 0.4561, 0.3596, 0.4172]])\n",
      "Edge feature [feat_1] is saved to ./ondisk_dataset_homograph/edge-feat-1.pt\n",
      "\n"
     ]
    }
   ],
   "source": [
    "# Generate node feature in numpy array.\n",
    "node_feat_0_path = os.path.join(base_dir, \"node-feat-0.npy\")\n",
    "node_feat_0 = np.random.rand(num_nodes, 5)\n",
    "print(f\"Part of node feature [feat_0]: {node_feat_0[:3, :]}\")\n",
    "np.save(node_feat_0_path, node_feat_0)\n",
    "print(f\"Node feature [feat_0] is saved to {node_feat_0_path}\\n\")\n",
    "\n",
    "# Generate another node feature in torch tensor\n",
    "node_feat_1_path = os.path.join(base_dir, \"node-feat-1.pt\")\n",
    "node_feat_1 = torch.rand(num_nodes, 5)\n",
    "print(f\"Part of node feature [feat_1]: {node_feat_1[:3, :]}\")\n",
    "torch.save(node_feat_1, node_feat_1_path)\n",
    "print(f\"Node feature [feat_1] is saved to {node_feat_1_path}\\n\")\n",
    "\n",
    "# Generate edge feature in numpy array.\n",
    "edge_feat_0_path = os.path.join(base_dir, \"edge-feat-0.npy\")\n",
    "edge_feat_0 = np.random.rand(num_edges, 5)\n",
    "print(f\"Part of edge feature [feat_0]: {edge_feat_0[:3, :]}\")\n",
    "np.save(edge_feat_0_path, edge_feat_0)\n",
    "print(f\"Edge feature [feat_0] is saved to {edge_feat_0_path}\\n\")\n",
    "\n",
    "# Generate another edge feature in torch tensor\n",
    "edge_feat_1_path = os.path.join(base_dir, \"edge-feat-1.pt\")\n",
    "edge_feat_1 = torch.rand(num_edges, 5)\n",
    "print(f\"Part of edge feature [feat_1]: {edge_feat_1[:3, :]}\")\n",
    "torch.save(edge_feat_1, edge_feat_1_path)\n",
    "print(f\"Edge feature [feat_1] is saved to {edge_feat_1_path}\\n\")\n"
   ]
  },
  {
   "cell_type": "markdown",
   "metadata": {
    "id": "ZyqgOtsIwzh_"
   },
   "source": [
    "### Generate tasks\n",
    "`OnDiskDataset` supports multiple tasks. For each task, we need to prepare training/validation/test sets respectively. Such sets usually vary among different tasks. In this tutorial, let's create a **Node Classification** task and **Link Prediction** task."
   ]
  },
  {
   "cell_type": "markdown",
   "metadata": {
    "id": "hVxHaDIfzCkr"
   },
   "source": [
    "#### Node Classification Task\n",
    "For node classification task, we need **node IDs** and corresponding **labels** for each training/validation/test set. Like feature data, numpy arrays and torch tensors are supported for these sets."
   ]
  },
  {
   "cell_type": "code",
   "execution_count": 5,
   "metadata": {
    "execution": {
     "iopub.execute_input": "2024-08-21T10:40:33.425758Z",
     "iopub.status.busy": "2024-08-21T10:40:33.425353Z",
     "iopub.status.idle": "2024-08-21T10:40:33.435209Z",
     "shell.execute_reply": "2024-08-21T10:40:33.434674Z"
    },
    "id": "S5-fyBbHzTCO"
   },
   "outputs": [
    {
     "name": "stdout",
     "output_type": "stream",
     "text": [
      "Part of train ids for node classification: [807 410 922]\n",
      "NC train ids are saved to ./ondisk_dataset_homograph/nc-train-ids.npy\n",
      "\n",
      "Part of train labels for node classification: tensor([8, 6, 5])\n",
      "NC train labels are saved to ./ondisk_dataset_homograph/nc-train-labels.pt\n",
      "\n",
      "Part of val ids for node classification: [824 588 515]\n",
      "NC val ids are saved to ./ondisk_dataset_homograph/nc-val-ids.npy\n",
      "\n",
      "Part of val labels for node classification: tensor([4, 8, 9])\n",
      "NC val labels are saved to ./ondisk_dataset_homograph/nc-val-labels.pt\n",
      "\n",
      "Part of test ids for node classification: [989 491 882]\n",
      "NC test ids are saved to ./ondisk_dataset_homograph/nc-test-ids.npy\n",
      "\n",
      "Part of test labels for node classification: tensor([1, 2, 2])\n",
      "NC test labels are saved to ./ondisk_dataset_homograph/nc-test-labels.pt\n",
      "\n"
     ]
    }
   ],
   "source": [
    "num_trains = int(num_nodes * 0.6)\n",
    "num_vals = int(num_nodes * 0.2)\n",
    "num_tests = num_nodes - num_trains - num_vals\n",
    "\n",
    "ids = np.arange(num_nodes)\n",
    "np.random.shuffle(ids)\n",
    "\n",
    "nc_train_ids_path = os.path.join(base_dir, \"nc-train-ids.npy\")\n",
    "nc_train_ids = ids[:num_trains]\n",
    "print(f\"Part of train ids for node classification: {nc_train_ids[:3]}\")\n",
    "np.save(nc_train_ids_path, nc_train_ids)\n",
    "print(f\"NC train ids are saved to {nc_train_ids_path}\\n\")\n",
    "\n",
    "nc_train_labels_path = os.path.join(base_dir, \"nc-train-labels.pt\")\n",
    "nc_train_labels = torch.randint(0, 10, (num_trains,))\n",
    "print(f\"Part of train labels for node classification: {nc_train_labels[:3]}\")\n",
    "torch.save(nc_train_labels, nc_train_labels_path)\n",
    "print(f\"NC train labels are saved to {nc_train_labels_path}\\n\")\n",
    "\n",
    "nc_val_ids_path = os.path.join(base_dir, \"nc-val-ids.npy\")\n",
    "nc_val_ids = ids[num_trains:num_trains+num_vals]\n",
    "print(f\"Part of val ids for node classification: {nc_val_ids[:3]}\")\n",
    "np.save(nc_val_ids_path, nc_val_ids)\n",
    "print(f\"NC val ids are saved to {nc_val_ids_path}\\n\")\n",
    "\n",
    "nc_val_labels_path = os.path.join(base_dir, \"nc-val-labels.pt\")\n",
    "nc_val_labels = torch.randint(0, 10, (num_vals,))\n",
    "print(f\"Part of val labels for node classification: {nc_val_labels[:3]}\")\n",
    "torch.save(nc_val_labels, nc_val_labels_path)\n",
    "print(f\"NC val labels are saved to {nc_val_labels_path}\\n\")\n",
    "\n",
    "nc_test_ids_path = os.path.join(base_dir, \"nc-test-ids.npy\")\n",
    "nc_test_ids = ids[-num_tests:]\n",
    "print(f\"Part of test ids for node classification: {nc_test_ids[:3]}\")\n",
    "np.save(nc_test_ids_path, nc_test_ids)\n",
    "print(f\"NC test ids are saved to {nc_test_ids_path}\\n\")\n",
    "\n",
    "nc_test_labels_path = os.path.join(base_dir, \"nc-test-labels.pt\")\n",
    "nc_test_labels = torch.randint(0, 10, (num_tests,))\n",
    "print(f\"Part of test labels for node classification: {nc_test_labels[:3]}\")\n",
    "torch.save(nc_test_labels, nc_test_labels_path)\n",
    "print(f\"NC test labels are saved to {nc_test_labels_path}\\n\")"
   ]
  },
  {
   "cell_type": "markdown",
   "metadata": {
    "id": "LhAcDCHQ_KJ0"
   },
   "source": [
    "#### Link Prediction Task\n",
    "For link prediction task, we need **node pairs** or **negative src/dsts** for each training/validation/test set. Like feature data, numpy arrays and torch tensors are supported for these sets."
   ]
  },
  {
   "cell_type": "code",
   "execution_count": 6,
   "metadata": {
    "execution": {
     "iopub.execute_input": "2024-08-21T10:40:33.437535Z",
     "iopub.status.busy": "2024-08-21T10:40:33.437211Z",
     "iopub.status.idle": "2024-08-21T10:40:33.446943Z",
     "shell.execute_reply": "2024-08-21T10:40:33.446406Z"
    },
    "id": "u0jCnXIcAQy4"
   },
   "outputs": [
    {
     "name": "stdout",
     "output_type": "stream",
     "text": [
      "Part of train node pairs for link prediction: [[181 516]\n",
      " [343  12]\n",
      " [729  64]]\n",
      "LP train node pairs are saved to ./ondisk_dataset_homograph/lp-train-node-pairs.npy\n",
      "\n",
      "Part of val node pairs for link prediction: [[531 151]\n",
      " [916  32]\n",
      " [917 967]]\n",
      "LP val node pairs are saved to ./ondisk_dataset_homograph/lp-val-node-pairs.npy\n",
      "\n",
      "Part of val negative dsts for link prediction: tensor([[530, 113, 972, 108, 290,   1, 517, 510, 692, 604],\n",
      "        [990, 437, 342, 392, 215, 860, 536, 314, 566,  13],\n",
      "        [369, 453, 320, 944, 894, 322, 586, 183, 242, 229]])\n",
      "LP val negative dsts are saved to ./ondisk_dataset_homograph/lp-val-neg-dsts.pt\n",
      "\n",
      "Part of test node pairs for link prediction: [692 416]\n",
      "LP test node pairs are saved to ./ondisk_dataset_homograph/lp-test-node-pairs.npy\n",
      "\n",
      "Part of test negative dsts for link prediction: tensor([[695, 394, 250, 150,  71, 288, 784, 266, 974, 113],\n",
      "        [747, 104, 486, 683, 358, 492, 671, 853, 979, 989],\n",
      "        [817, 518, 251, 393, 454, 647, 613, 475, 708,   4]])\n",
      "LP test negative dsts are saved to ./ondisk_dataset_homograph/lp-test-neg-dsts.pt\n",
      "\n"
     ]
    }
   ],
   "source": [
    "num_trains = int(num_edges * 0.6)\n",
    "num_vals = int(num_edges * 0.2)\n",
    "num_tests = num_edges - num_trains - num_vals\n",
    "\n",
    "lp_train_node_pairs_path = os.path.join(base_dir, \"lp-train-node-pairs.npy\")\n",
    "lp_train_node_pairs = edges[:num_trains, :]\n",
    "print(f\"Part of train node pairs for link prediction: {lp_train_node_pairs[:3]}\")\n",
    "np.save(lp_train_node_pairs_path, lp_train_node_pairs)\n",
    "print(f\"LP train node pairs are saved to {lp_train_node_pairs_path}\\n\")\n",
    "\n",
    "lp_val_node_pairs_path = os.path.join(base_dir, \"lp-val-node-pairs.npy\")\n",
    "lp_val_node_pairs = edges[num_trains:num_trains+num_vals, :]\n",
    "print(f\"Part of val node pairs for link prediction: {lp_val_node_pairs[:3]}\")\n",
    "np.save(lp_val_node_pairs_path, lp_val_node_pairs)\n",
    "print(f\"LP val node pairs are saved to {lp_val_node_pairs_path}\\n\")\n",
    "\n",
    "lp_val_neg_dsts_path = os.path.join(base_dir, \"lp-val-neg-dsts.pt\")\n",
    "lp_val_neg_dsts = torch.randint(0, num_nodes, (num_vals, 10))\n",
    "print(f\"Part of val negative dsts for link prediction: {lp_val_neg_dsts[:3]}\")\n",
    "torch.save(lp_val_neg_dsts, lp_val_neg_dsts_path)\n",
    "print(f\"LP val negative dsts are saved to {lp_val_neg_dsts_path}\\n\")\n",
    "\n",
    "lp_test_node_pairs_path = os.path.join(base_dir, \"lp-test-node-pairs.npy\")\n",
    "lp_test_node_pairs = edges[-num_tests, :]\n",
    "print(f\"Part of test node pairs for link prediction: {lp_test_node_pairs[:3]}\")\n",
    "np.save(lp_test_node_pairs_path, lp_test_node_pairs)\n",
    "print(f\"LP test node pairs are saved to {lp_test_node_pairs_path}\\n\")\n",
    "\n",
    "lp_test_neg_dsts_path = os.path.join(base_dir, \"lp-test-neg-dsts.pt\")\n",
    "lp_test_neg_dsts = torch.randint(0, num_nodes, (num_tests, 10))\n",
    "print(f\"Part of test negative dsts for link prediction: {lp_test_neg_dsts[:3]}\")\n",
    "torch.save(lp_test_neg_dsts, lp_test_neg_dsts_path)\n",
    "print(f\"LP test negative dsts are saved to {lp_test_neg_dsts_path}\\n\")"
   ]
  },
  {
   "cell_type": "markdown",
   "metadata": {
    "id": "wbk6-wxRK-6S"
   },
   "source": [
    "## Organize Data into YAML File\n",
    "Now we need to create a `metadata.yaml` file which contains the paths, dadta types of graph structure, feature data, training/validation/test sets.\n",
    "\n",
    "Notes:\n",
    "- all path should be relative to `metadata.yaml`.\n",
    "- Below fields are optional and not specified in below example.\n",
    "  - `in_memory`: indicates whether to load dada into memory or `mmap`. Default is `True`.\n",
    "\n",
    "Please refer to [YAML specification](https://github.com/dmlc/dgl/blob/master/docs/source/stochastic_training/ondisk-dataset-specification.rst) for more details."
   ]
  },
  {
   "cell_type": "code",
   "execution_count": 7,
   "metadata": {
    "execution": {
     "iopub.execute_input": "2024-08-21T10:40:33.449220Z",
     "iopub.status.busy": "2024-08-21T10:40:33.449015Z",
     "iopub.status.idle": "2024-08-21T10:40:33.454042Z",
     "shell.execute_reply": "2024-08-21T10:40:33.453545Z"
    },
    "id": "ddGTWW61Lpwp"
   },
   "outputs": [],
   "source": [
    "yaml_content = f\"\"\"\n",
    "    dataset_name: homogeneous_graph_nc_lp\n",
    "    graph:\n",
    "      nodes:\n",
    "        - num: {num_nodes}\n",
    "      edges:\n",
    "        - format: csv\n",
    "          path: {os.path.basename(edges_path)}\n",
    "    feature_data:\n",
    "      - domain: node\n",
    "        name: feat_0\n",
    "        format: numpy\n",
    "        path: {os.path.basename(node_feat_0_path)}\n",
    "      - domain: node\n",
    "        name: feat_1\n",
    "        format: torch\n",
    "        path: {os.path.basename(node_feat_1_path)}\n",
    "      - domain: edge\n",
    "        name: feat_0\n",
    "        format: numpy\n",
    "        path: {os.path.basename(edge_feat_0_path)}\n",
    "      - domain: edge\n",
    "        name: feat_1\n",
    "        format: torch\n",
    "        path: {os.path.basename(edge_feat_1_path)}\n",
    "    tasks:\n",
    "      - name: node_classification\n",
    "        num_classes: 10\n",
    "        train_set:\n",
    "          - data:\n",
    "              - name: seed_nodes\n",
    "                format: numpy\n",
    "                path: {os.path.basename(nc_train_ids_path)}\n",
    "              - name: labels\n",
    "                format: torch\n",
    "                path: {os.path.basename(nc_train_labels_path)}\n",
    "        validation_set:\n",
    "          - data:\n",
    "              - name: seed_nodes\n",
    "                format: numpy\n",
    "                path: {os.path.basename(nc_val_ids_path)}\n",
    "              - name: labels\n",
    "                format: torch\n",
    "                path: {os.path.basename(nc_val_labels_path)}\n",
    "        test_set:\n",
    "          - data:\n",
    "              - name: seed_nodes\n",
    "                format: numpy\n",
    "                path: {os.path.basename(nc_test_ids_path)}\n",
    "              - name: labels\n",
    "                format: torch\n",
    "                path: {os.path.basename(nc_test_labels_path)}\n",
    "      - name: link_prediction\n",
    "        num_classes: 10\n",
    "        train_set:\n",
    "          - data:\n",
    "              - name: node_pairs\n",
    "                format: numpy\n",
    "                path: {os.path.basename(lp_train_node_pairs_path)}\n",
    "        validation_set:\n",
    "          - data:\n",
    "              - name: node_pairs\n",
    "                format: numpy\n",
    "                path: {os.path.basename(lp_val_node_pairs_path)}\n",
    "              - name: negative_dsts\n",
    "                format: torch\n",
    "                path: {os.path.basename(lp_val_neg_dsts_path)}\n",
    "        test_set:\n",
    "          - data:\n",
    "              - name: node_pairs\n",
    "                format: numpy\n",
    "                path: {os.path.basename(lp_test_node_pairs_path)}\n",
    "              - name: negative_dsts\n",
    "                format: torch\n",
    "                path: {os.path.basename(lp_test_neg_dsts_path)}\n",
    "\"\"\"\n",
    "metadata_path = os.path.join(base_dir, \"metadata.yaml\")\n",
    "with open(metadata_path, \"w\") as f:\n",
    "  f.write(yaml_content)"
   ]
  },
  {
   "cell_type": "markdown",
   "metadata": {
    "id": "kEfybHGhOW7O"
   },
   "source": [
    "## Instantiate `OnDiskDataset`\n",
    "Now we're ready to load dataset via `dgl.graphbolt.OnDiskDataset`. When instantiating, we just pass in the base directory where `metadata.yaml` file lies.\n",
    "\n",
    "During first instantiation, GraphBolt preprocesses the raw data such as constructing `FusedCSCSamplingGraph` from edges. All data including graph, feature data, training/validation/test sets are put into `preprocessed` directory after preprocessing. Any following dataset loading will skip the preprocess stage.\n",
    "\n",
    "After preprocessing, `load()` is required to be called explicitly in order to load graph, feature data and tasks."
   ]
  },
  {
   "cell_type": "code",
   "execution_count": 8,
   "metadata": {
    "execution": {
     "iopub.execute_input": "2024-08-21T10:40:33.456335Z",
     "iopub.status.busy": "2024-08-21T10:40:33.456021Z",
     "iopub.status.idle": "2024-08-21T10:40:33.536038Z",
     "shell.execute_reply": "2024-08-21T10:40:33.535474Z"
    },
    "id": "W58CZoSzOiyo"
   },
   "outputs": [
    {
     "name": "stdout",
     "output_type": "stream",
     "text": [
      "The on-disk dataset is re-preprocessing, so the existing preprocessed dataset has been removed.\n",
      "Start to preprocess the on-disk dataset.\n",
      "Finish preprocessing the on-disk dataset.\n",
      "Loaded graph: FusedCSCSamplingGraph(csc_indptr=tensor([    0,    12,    22,  ...,  9986,  9992, 10000], dtype=torch.int32),\n",
      "                      indices=tensor([653, 916, 890,  ..., 600, 413, 783], dtype=torch.int32),\n",
      "                      total_num_nodes=1000, num_edges=10000,)\n",
      "\n",
      "Loaded feature store: TorchBasedFeatureStore(\n",
      "    {(<OnDiskFeatureDataDomain.NODE: 'node'>, None, 'feat_0'): TorchBasedFeature(\n",
      "        feature=tensor([[0.0035, 0.9171, 0.3597, 0.8241, 0.5368],\n",
      "                        [0.4465, 0.2351, 0.0194, 0.6182, 0.8689],\n",
      "                        [0.1811, 0.4730, 0.2373, 0.2986, 0.7688],\n",
      "                        ...,\n",
      "                        [0.2689, 0.5679, 0.6950, 0.0773, 0.1407],\n",
      "                        [0.5384, 0.3762, 0.4619, 0.7578, 0.7687],\n",
      "                        [0.9632, 0.4554, 0.8665, 0.7877, 0.5837]], dtype=torch.float64),\n",
      "        metadata={},\n",
      "    ), (<OnDiskFeatureDataDomain.NODE: 'node'>, None, 'feat_1'): TorchBasedFeature(\n",
      "        feature=tensor([[0.1305, 0.3644, 0.7668, 0.8128, 0.0689],\n",
      "                        [0.0292, 0.7019, 0.7699, 0.7773, 0.1873],\n",
      "                        [0.2425, 0.6633, 0.6586, 0.3538, 0.8710],\n",
      "                        ...,\n",
      "                        [0.0136, 0.3985, 0.2106, 0.8497, 0.4726],\n",
      "                        [0.5290, 0.6897, 0.2666, 0.6072, 0.6613],\n",
      "                        [0.4165, 0.7226, 0.8409, 0.9800, 0.4442]]),\n",
      "        metadata={},\n",
      "    ), (<OnDiskFeatureDataDomain.EDGE: 'edge'>, None, 'feat_0'): TorchBasedFeature(\n",
      "        feature=tensor([[0.2116, 0.0355, 0.0607, 0.6028, 0.6373],\n",
      "                        [0.5379, 0.0556, 0.9160, 0.2049, 0.1531],\n",
      "                        [0.5564, 0.5665, 0.5318, 0.6543, 0.5895],\n",
      "                        ...,\n",
      "                        [0.3445, 0.5952, 0.2237, 0.4001, 0.6373],\n",
      "                        [0.8696, 0.7428, 0.9537, 0.2593, 0.1741],\n",
      "                        [0.0520, 0.5720, 0.3872, 0.2067, 0.4697]], dtype=torch.float64),\n",
      "        metadata={},\n",
      "    ), (<OnDiskFeatureDataDomain.EDGE: 'edge'>, None, 'feat_1'): TorchBasedFeature(\n",
      "        feature=tensor([[0.1106, 0.7314, 0.4901, 0.7787, 0.3693],\n",
      "                        [0.9709, 0.9886, 0.0216, 0.3086, 0.2866],\n",
      "                        [0.6389, 0.6950, 0.4561, 0.3596, 0.4172],\n",
      "                        ...,\n",
      "                        [0.5503, 0.7564, 0.3865, 0.7759, 0.5513],\n",
      "                        [0.9899, 0.0311, 0.3321, 0.0563, 0.8637],\n",
      "                        [0.0697, 0.3748, 0.6211, 0.1752, 0.4568]]),\n",
      "        metadata={},\n",
      "    )}\n",
      ")\n",
      "\n",
      "Loaded node classification task: OnDiskTask(validation_set=ItemSet(\n",
      "               items=(tensor([824, 588, 515, 169, 568, 470, 223, 358, 278, 589, 893, 388, 346,  76,\n",
      "                   881, 522, 723, 509, 459, 199, 316,  67, 179, 485, 926, 234, 849, 126,\n",
      "                   584, 239, 531, 884, 537, 483, 236, 709, 301, 305, 643, 874, 885, 623,\n",
      "                    17, 168, 310, 795,  13, 293, 940, 160, 501, 448, 271, 435, 701, 673,\n",
      "                   652, 479, 500, 245, 274, 361, 487, 664, 215, 341, 405, 705, 756, 276,\n",
      "                    25, 758, 467, 216, 513, 256,  28, 864, 270, 782, 177, 414, 420, 793,\n",
      "                   761, 847, 593, 212, 951,  75, 949, 115, 809, 210, 802, 844, 330, 740,\n",
      "                   595, 313, 708, 947, 486, 428, 608, 315, 368,  80,  73,  43, 580, 813,\n",
      "                   892, 883, 978, 681, 786, 440, 171, 655, 682, 327, 290, 979, 567, 108,\n",
      "                   689, 497, 794, 317, 977, 425, 151, 259, 352, 707, 895, 176, 791, 389,\n",
      "                   972, 401, 505, 912, 721, 372, 205, 122, 538, 968, 287, 579, 338, 498,\n",
      "                   671, 728, 647, 192,  82, 607, 392,  34, 846, 790, 378, 859, 668, 742,\n",
      "                    93, 494, 195, 934, 258, 732, 267, 307, 207, 706, 858, 335, 861, 458,\n",
      "                   228, 399, 394, 832,  63, 839,  71,   4, 611, 620, 831, 172, 873, 204,\n",
      "                   872, 976, 692,  94], dtype=torch.int32), tensor([4, 8, 9, 9, 8, 7, 4, 7, 3, 8, 9, 4, 8, 6, 0, 5, 6, 5, 3, 0, 9, 5, 6, 4,\n",
      "                   4, 0, 7, 5, 9, 8, 8, 3, 0, 3, 7, 3, 1, 8, 3, 4, 4, 5, 8, 3, 7, 6, 0, 7,\n",
      "                   6, 4, 6, 5, 1, 3, 6, 6, 0, 9, 4, 7, 4, 5, 2, 8, 7, 6, 4, 4, 1, 7, 8, 4,\n",
      "                   3, 9, 2, 8, 3, 6, 6, 7, 1, 9, 2, 3, 5, 7, 3, 0, 1, 0, 3, 3, 3, 5, 3, 7,\n",
      "                   4, 5, 5, 8, 1, 4, 6, 9, 9, 7, 5, 1, 4, 2, 1, 6, 6, 4, 3, 4, 6, 6, 1, 9,\n",
      "                   6, 7, 3, 4, 3, 5, 5, 9, 5, 7, 3, 3, 1, 2, 7, 0, 1, 8, 5, 4, 3, 1, 0, 1,\n",
      "                   7, 2, 6, 9, 8, 1, 7, 4, 0, 3, 7, 5, 5, 8, 1, 6, 5, 2, 9, 2, 4, 6, 3, 6,\n",
      "                   2, 1, 9, 5, 5, 5, 2, 7, 3, 1, 9, 0, 6, 6, 9, 6, 6, 1, 8, 6, 1, 5, 8, 5,\n",
      "                   6, 3, 6, 0, 2, 0, 9, 7])),\n",
      "               names=('seed_nodes', 'labels'),\n",
      "           ),\n",
      "           train_set=ItemSet(\n",
      "               items=(tensor([807, 410, 922, 633, 424, 478, 697, 606, 225, 143, 129, 974, 533, 605,\n",
      "                   334, 139, 383, 197, 696, 954, 482,  23, 957, 612, 460, 137, 582, 900,\n",
      "                   650, 292, 264, 124,  68, 296, 703, 138, 996,  58, 150, 417, 145, 896,\n",
      "                   684, 687, 188,   6, 675, 867, 477, 221, 422, 746, 913, 887, 476, 254,\n",
      "                   569, 610, 308, 969, 823, 443, 393, 314, 519, 116, 101, 332,   3, 248,\n",
      "                   299, 929, 624,  15, 852, 546, 760,  51, 695, 144,  10, 128, 829, 787,\n",
      "                   157, 560, 434, 496,  98, 493, 214, 908, 436, 725, 507, 924, 866, 699,\n",
      "                   345, 218, 975, 333, 243, 549, 516, 387, 261, 306, 863, 213, 391, 178,\n",
      "                    86, 403, 736, 553, 814, 897, 134, 850, 720, 890, 571, 663, 853, 812,\n",
      "                   925, 715, 848, 734,  12, 998,  70, 373, 666,  37, 442, 737, 716, 919,\n",
      "                   592, 202, 375, 119, 369, 559, 415, 102,  40, 409, 329, 783, 282, 463,\n",
      "                   653, 566, 185, 943, 805, 511, 999, 416, 792, 573, 819, 112, 576, 174,\n",
      "                   778, 105, 904, 525, 871, 347, 326, 583, 712, 649, 534, 381, 591, 475,\n",
      "                   244, 983,  54, 156, 906, 163, 462,  72,  45, 962, 627, 136, 107, 672,\n",
      "                   967,  83, 539, 250, 412, 543, 952, 265,  11, 376, 318, 342, 461, 527,\n",
      "                   986, 545, 374, 729, 224, 529, 253, 408, 280, 269, 843, 397, 526,  30,\n",
      "                   818,  60, 339, 162, 484, 196, 788, 869, 599, 238, 148, 670, 495, 502,\n",
      "                   637, 661, 988, 658,   5, 909,  19, 777, 232, 295, 830, 911, 520, 665,\n",
      "                   840, 799, 622, 632, 667, 183, 510, 617, 639, 618, 937, 386, 938, 532,\n",
      "                   759, 127, 523, 878,  50, 359, 446, 764, 903, 312, 601, 700, 123, 828,\n",
      "                   810, 994, 801, 772, 683,   2,  65, 125, 669, 132, 648, 784, 433, 641,\n",
      "                   939, 638, 811,  47, 657, 439, 619, 719, 209, 384, 609, 751, 825, 722,\n",
      "                   377, 631, 193, 187, 324, 727, 184, 133, 203,  79, 688, 933,  46, 923,\n",
      "                   946,  84, 186, 266, 587, 249, 980, 763, 717, 914, 541, 771, 120, 106,\n",
      "                   965, 343, 932, 961, 167, 803, 431, 423, 490, 524, 826, 822, 419, 781,\n",
      "                   711, 613,  29, 113, 905, 948, 602, 411,  39, 920, 877, 997, 281, 390,\n",
      "                   255, 880, 140, 754, 889, 304,  42, 730, 991, 325,  74, 660, 704, 429,\n",
      "                   279, 131,  69, 340, 283, 273, 550,  33, 504, 857, 750, 472, 845,  92,\n",
      "                   121, 328, 275, 385, 321,   7,  22,  44, 767, 917, 984, 907, 300,  89,\n",
      "                     8, 775, 402,  95, 561,  77, 303, 362, 286, 694,  41, 888, 297, 353,\n",
      "                   710, 231, 220,  88, 987, 206, 739, 237, 600, 211,  97, 542, 548, 868,\n",
      "                   242, 870,  18, 690, 964, 351, 691, 201, 241,  85, 992, 438, 945, 322,\n",
      "                   827, 114, 468, 745, 344, 418, 899, 349, 862, 995, 645, 738,  56, 855,\n",
      "                   175, 797, 921, 110, 698, 323, 774, 427,  66, 981, 370, 480, 615, 336,\n",
      "                   182, 398, 931, 508, 636, 382, 635, 779,  59, 630, 762, 161, 404, 626,\n",
      "                   191, 685, 674, 918, 506, 686, 757, 142, 985, 578, 285, 152, 311, 713,\n",
      "                   838, 227, 894, 100, 407, 798, 753, 854, 222, 208, 348, 651, 230, 371,\n",
      "                   993,  57,  90, 547, 942, 886, 743, 194, 586, 693, 678, 642, 288, 109,\n",
      "                   111, 291, 731, 554, 465, 246, 749, 955, 563, 927, 517, 604, 360, 590,\n",
      "                    36, 158, 820, 936, 284, 614, 785, 452, 780, 104, 130, 971, 426, 551,\n",
      "                   804, 262, 226, 773, 153, 634, 598, 540, 155, 512, 451, 180, 724, 821,\n",
      "                   837, 489, 733, 449, 941, 319, 752, 117, 430, 396, 395, 135, 836, 464,\n",
      "                   702, 514, 956, 450, 769, 963, 354,  91, 842, 982, 741, 365],\n",
      "                  dtype=torch.int32), tensor([8, 6, 5, 3, 2, 6, 8, 2, 9, 5, 4, 7, 5, 4, 6, 0, 2, 2, 5, 3, 0, 3, 3, 9,\n",
      "                   6, 4, 3, 8, 8, 2, 6, 0, 9, 8, 2, 3, 9, 6, 1, 8, 5, 2, 3, 5, 9, 7, 4, 7,\n",
      "                   1, 5, 2, 5, 5, 3, 7, 9, 5, 5, 4, 9, 2, 1, 2, 3, 1, 5, 6, 8, 7, 1, 8, 8,\n",
      "                   5, 6, 5, 2, 9, 2, 4, 8, 5, 6, 4, 8, 0, 9, 4, 4, 6, 1, 0, 9, 2, 7, 7, 8,\n",
      "                   1, 0, 7, 8, 1, 6, 4, 0, 6, 7, 4, 6, 4, 0, 5, 4, 2, 8, 9, 2, 9, 8, 6, 5,\n",
      "                   2, 6, 0, 0, 6, 5, 2, 2, 6, 5, 5, 5, 9, 6, 6, 3, 8, 7, 0, 1, 6, 6, 6, 2,\n",
      "                   4, 1, 9, 2, 9, 9, 7, 0, 4, 1, 1, 2, 4, 8, 5, 6, 8, 8, 4, 0, 0, 8, 8, 5,\n",
      "                   7, 2, 0, 5, 0, 0, 7, 4, 8, 1, 7, 8, 1, 2, 2, 5, 8, 2, 2, 2, 1, 0, 6, 3,\n",
      "                   8, 1, 4, 9, 1, 9, 1, 7, 1, 0, 9, 9, 6, 9, 6, 9, 1, 7, 2, 1, 8, 2, 9, 8,\n",
      "                   7, 8, 2, 2, 0, 4, 5, 4, 0, 2, 3, 8, 6, 5, 1, 7, 9, 7, 1, 6, 6, 2, 4, 6,\n",
      "                   1, 3, 0, 1, 5, 7, 4, 4, 6, 2, 6, 1, 2, 5, 0, 1, 8, 7, 4, 5, 3, 9, 7, 5,\n",
      "                   8, 2, 1, 5, 0, 4, 0, 3, 5, 7, 3, 8, 0, 8, 9, 5, 8, 6, 5, 5, 7, 9, 0, 6,\n",
      "                   4, 3, 8, 2, 5, 9, 1, 9, 4, 1, 5, 5, 3, 9, 4, 7, 0, 3, 9, 0, 7, 0, 9, 5,\n",
      "                   4, 4, 5, 8, 9, 1, 3, 2, 7, 1, 8, 6, 6, 3, 3, 7, 3, 9, 4, 2, 5, 5, 3, 6,\n",
      "                   0, 6, 8, 4, 0, 6, 2, 8, 5, 2, 4, 9, 7, 0, 0, 6, 8, 6, 5, 2, 4, 8, 2, 4,\n",
      "                   3, 8, 5, 0, 9, 6, 4, 7, 7, 8, 5, 4, 5, 1, 8, 0, 8, 0, 1, 7, 2, 7, 1, 8,\n",
      "                   9, 3, 4, 9, 0, 4, 5, 5, 6, 0, 9, 3, 5, 3, 5, 6, 4, 9, 0, 0, 9, 1, 9, 5,\n",
      "                   0, 9, 5, 8, 8, 2, 5, 5, 6, 2, 3, 5, 1, 5, 6, 2, 5, 0, 6, 3, 9, 9, 6, 0,\n",
      "                   0, 9, 5, 1, 5, 9, 2, 4, 8, 0, 2, 9, 2, 7, 8, 7, 7, 5, 4, 8, 8, 1, 8, 4,\n",
      "                   0, 3, 7, 3, 9, 3, 0, 3, 7, 4, 6, 0, 2, 0, 5, 7, 8, 8, 4, 8, 5, 7, 1, 0,\n",
      "                   8, 9, 8, 8, 2, 9, 8, 4, 7, 2, 6, 5, 8, 7, 3, 6, 4, 8, 7, 9, 1, 9, 9, 9,\n",
      "                   6, 3, 7, 0, 9, 3, 9, 6, 7, 7, 2, 2, 8, 2, 4, 4, 8, 1, 5, 2, 0, 3, 5, 7,\n",
      "                   6, 1, 9, 9, 1, 5, 4, 1, 9, 0, 0, 8, 8, 0, 8, 0, 2, 6, 0, 1, 9, 4, 2, 1,\n",
      "                   6, 9, 5, 2, 4, 2, 0, 9, 5, 7, 5, 4, 7, 5, 7, 4, 8, 7, 5, 8, 1, 3, 0, 1,\n",
      "                   1, 8, 9, 2, 5, 9, 5, 4, 1, 8, 0, 4, 1, 7, 8, 3, 3, 2, 1, 0, 5, 1, 7, 9])),\n",
      "               names=('seed_nodes', 'labels'),\n",
      "           ),\n",
      "           test_set=ItemSet(\n",
      "               items=(tensor([989, 491, 882, 970, 331, 718,  24, 445,  16, 357,  31, 834, 535, 544,\n",
      "                   735, 806, 621, 817, 953, 654, 876, 768, 629, 518, 570, 659, 860, 189,\n",
      "                   796, 565, 770, 233, 268, 263, 898, 457, 521, 958, 229, 159, 355,  99,\n",
      "                   367, 302, 966, 235, 251,  48, 910, 841, 441, 776, 552, 277, 406, 944,\n",
      "                   555, 625, 530, 432, 444, 766, 447, 492, 181,   9,  64, 879, 298, 536,\n",
      "                   166, 990, 616, 173, 471, 260, 337, 833, 950, 356, 851, 320, 835, 240,\n",
      "                   350, 466, 596, 437, 581, 247, 815, 959, 190, 564, 118,  20, 973, 364,\n",
      "                   170, 558, 603, 960, 875,  38, 473, 902, 252,  78, 748,  61, 644, 915,\n",
      "                   901, 656, 594,  96, 454, 574, 597, 556,  55, 677, 456, 747, 646, 421,\n",
      "                   294, 528,  14, 488, 935, 380, 808,  87, 503, 198, 575,  49, 865,  52,\n",
      "                   481, 453, 149, 726, 146, 200, 572, 800, 219,   0,   1, 499, 585, 744,\n",
      "                    32, 755, 257, 141, 714, 413, 640, 165, 680, 103, 289, 217, 679, 676,\n",
      "                   628, 272, 363, 789, 816, 474, 147, 164,  21, 930,  27, 154,  35,  53,\n",
      "                   400, 577, 891, 928, 662, 856, 309, 469, 366, 557, 916,  62, 379,  26,\n",
      "                   765, 455, 562,  81], dtype=torch.int32), tensor([1, 2, 2, 3, 1, 8, 8, 3, 0, 2, 2, 0, 5, 0, 7, 1, 1, 7, 1, 5, 0, 9, 6, 6,\n",
      "                   7, 5, 0, 9, 2, 3, 1, 6, 9, 2, 4, 9, 8, 4, 6, 3, 1, 8, 9, 1, 5, 1, 2, 6,\n",
      "                   5, 3, 0, 5, 7, 4, 7, 4, 7, 2, 3, 3, 6, 8, 6, 1, 2, 1, 8, 5, 7, 6, 0, 6,\n",
      "                   9, 2, 8, 5, 6, 6, 6, 8, 8, 6, 6, 3, 8, 5, 8, 6, 8, 5, 1, 8, 1, 5, 7, 0,\n",
      "                   6, 1, 2, 1, 1, 5, 0, 5, 4, 0, 2, 7, 4, 3, 2, 5, 8, 9, 2, 2, 9, 7, 9, 9,\n",
      "                   4, 2, 1, 4, 4, 8, 2, 7, 6, 5, 6, 8, 1, 1, 3, 1, 7, 5, 9, 8, 9, 8, 2, 4,\n",
      "                   1, 2, 3, 9, 5, 6, 6, 2, 9, 1, 2, 2, 3, 9, 1, 2, 5, 8, 9, 0, 8, 5, 5, 5,\n",
      "                   7, 4, 0, 6, 1, 6, 1, 8, 0, 7, 9, 6, 2, 9, 8, 4, 3, 6, 9, 0, 4, 3, 8, 8,\n",
      "                   7, 0, 8, 3, 3, 8, 3, 8])),\n",
      "               names=('seed_nodes', 'labels'),\n",
      "           ),\n",
      "           metadata={'name': 'node_classification', 'num_classes': 10},)\n",
      "\n",
      "Loaded link prediction task: OnDiskTask(validation_set=ItemSet(\n",
      "               items=(tensor([[531, 151],\n",
      "                   [916,  32],\n",
      "                   [917, 967],\n",
      "                   ...,\n",
      "                   [539, 681],\n",
      "                   [253, 641],\n",
      "                   [901,  64]], dtype=torch.int32), tensor([[530, 113, 972,  ..., 510, 692, 604],\n",
      "                   [990, 437, 342,  ..., 314, 566,  13],\n",
      "                   [369, 453, 320,  ..., 183, 242, 229],\n",
      "                   ...,\n",
      "                   [997, 290, 448,  ..., 894, 564, 306],\n",
      "                   [443, 595, 247,  ..., 365, 997, 818],\n",
      "                   [562,  23, 662,  ..., 398, 198, 294]], dtype=torch.int32)),\n",
      "               names=('node_pairs', 'negative_dsts'),\n",
      "           ),\n",
      "           train_set=ItemSet(\n",
      "               items=(tensor([[181, 516],\n",
      "                   [343,  12],\n",
      "                   [729,  64],\n",
      "                   ...,\n",
      "                   [190,  78],\n",
      "                   [853, 818],\n",
      "                   [333,  18]], dtype=torch.int32),),\n",
      "               names=('node_pairs',),\n",
      "           ),\n",
      "           test_set=ItemSet(\n",
      "               items=(tensor([692, 416], dtype=torch.int32), tensor([[695, 394, 250,  ..., 266, 974, 113],\n",
      "                   [747, 104, 486,  ..., 853, 979, 989],\n",
      "                   [817, 518, 251,  ..., 475, 708,   4],\n",
      "                   ...,\n",
      "                   [496, 393, 128,  ..., 877, 446, 109],\n",
      "                   [486, 531, 237,  ..., 546, 864, 188],\n",
      "                   [648, 786, 246,  ..., 195, 932, 518]], dtype=torch.int32)),\n",
      "               names=('node_pairs', 'negative_dsts'),\n",
      "           ),\n",
      "           metadata={'name': 'link_prediction', 'num_classes': 10},)\n",
      "\n"
     ]
    },
    {
     "name": "stderr",
     "output_type": "stream",
     "text": [
      "/home/ubuntu/regression_test/dgl/python/dgl/graphbolt/impl/ondisk_dataset.py:464: DGLWarning: Edge feature is stored, but edge IDs are not saved.\n",
      "  dgl_warning(\"Edge feature is stored, but edge IDs are not saved.\")\n"
     ]
    }
   ],
   "source": [
    "dataset = gb.OnDiskDataset(base_dir).load()\n",
    "graph = dataset.graph\n",
    "print(f\"Loaded graph: {graph}\\n\")\n",
    "\n",
    "feature = dataset.feature\n",
    "print(f\"Loaded feature store: {feature}\\n\")\n",
    "\n",
    "tasks = dataset.tasks\n",
    "nc_task = tasks[0]\n",
    "print(f\"Loaded node classification task: {nc_task}\\n\")\n",
    "lp_task = tasks[1]\n",
    "print(f\"Loaded link prediction task: {lp_task}\\n\")"
   ]
  }
 ],
 "metadata": {
  "colab": {
   "private_outputs": true,
   "provenance": []
  },
  "kernelspec": {
   "display_name": "Python 3",
   "name": "python3"
  },
  "language_info": {
   "codemirror_mode": {
    "name": "ipython",
    "version": 3
   },
   "file_extension": ".py",
   "mimetype": "text/x-python",
   "name": "python",
   "nbconvert_exporter": "python",
   "pygments_lexer": "ipython3",
   "version": "3.10.14"
  }
 },
 "nbformat": 4,
 "nbformat_minor": 0
}

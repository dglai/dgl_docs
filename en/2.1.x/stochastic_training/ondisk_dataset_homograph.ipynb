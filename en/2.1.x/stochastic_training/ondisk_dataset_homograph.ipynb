{
 "cells": [
  {
   "cell_type": "markdown",
   "metadata": {
    "id": "FnFhPMaAfLtJ"
   },
   "source": [
    "# OnDiskDataset for Homogeneous Graph\n",
    "\n",
    "[![Open In Colab](https://colab.research.google.com/assets/colab-badge.svg)](https://colab.research.google.com/github/dmlc/dgl/blob/master/notebooks/stochastic_training/ondisk_dataset_homograph.ipynb) [![GitHub](https://img.shields.io/badge/-View%20on%20GitHub-181717?logo=github&logoColor=ffffff)](https://github.com/dmlc/dgl/blob/master/notebooks/stochastic_training/ondisk_dataset_homograph.ipynb)\n",
    "\n",
    "This tutorial shows how to create `OnDiskDataset` for homogeneous graph that could be used in **GraphBolt** framework.\n",
    "\n",
    "By the end of this tutorial, you will be able to\n",
    "\n",
    "- organize graph structure data.\n",
    "- organize feature data.\n",
    "- organize training/validation/test set for specific tasks.\n",
    "\n",
    "To create an ``OnDiskDataset`` object, you need to organize all the data including graph structure, feature data and tasks into a directory. The directory should contain a ``metadata.yaml`` file that describes the metadata of the dataset.\n",
    "\n",
    "Now let's generate various data step by step and organize them together to instantiate `OnDiskDataset` finally."
   ]
  },
  {
   "cell_type": "markdown",
   "metadata": {
    "id": "Wlb19DtWgtzq"
   },
   "source": [
    "## Install DGL package"
   ]
  },
  {
   "cell_type": "code",
   "execution_count": 1,
   "metadata": {
    "execution": {
     "iopub.execute_input": "2024-08-21T14:06:14.457957Z",
     "iopub.status.busy": "2024-08-21T14:06:14.457444Z",
     "iopub.status.idle": "2024-08-21T14:06:18.300117Z",
     "shell.execute_reply": "2024-08-21T14:06:18.299291Z"
    },
    "id": "UojlT9ZGgyr9"
   },
   "outputs": [
    {
     "name": "stdout",
     "output_type": "stream",
     "text": [
      "Looking in links: https://data.dgl.ai/wheels-test/repo.html\r\n",
      "Requirement already satisfied: dgl in /opt/conda/envs/dgl-dev-cpu/lib/python3.10/site-packages (2.2a240410)\r\n",
      "Requirement already satisfied: numpy>=1.14.0 in /opt/conda/envs/dgl-dev-cpu/lib/python3.10/site-packages (from dgl) (1.26.4)\r\n",
      "Requirement already satisfied: scipy>=1.1.0 in /opt/conda/envs/dgl-dev-cpu/lib/python3.10/site-packages (from dgl) (1.14.0)\r\n",
      "Requirement already satisfied: networkx>=2.1 in /opt/conda/envs/dgl-dev-cpu/lib/python3.10/site-packages (from dgl) (3.3)\r\n",
      "Requirement already satisfied: requests>=2.19.0 in /opt/conda/envs/dgl-dev-cpu/lib/python3.10/site-packages (from dgl) (2.32.3)\r\n",
      "Requirement already satisfied: tqdm in /opt/conda/envs/dgl-dev-cpu/lib/python3.10/site-packages (from dgl) (4.66.5)\r\n",
      "Requirement already satisfied: psutil>=5.8.0 in /opt/conda/envs/dgl-dev-cpu/lib/python3.10/site-packages (from dgl) (6.0.0)\r\n",
      "Requirement already satisfied: torchdata>=0.5.0 in /opt/conda/envs/dgl-dev-cpu/lib/python3.10/site-packages (from dgl) (0.7.1+6427ed9)\r\n",
      "Requirement already satisfied: pandas in /opt/conda/envs/dgl-dev-cpu/lib/python3.10/site-packages (from dgl) (2.2.2)\r\n",
      "Requirement already satisfied: charset-normalizer<4,>=2 in /opt/conda/envs/dgl-dev-cpu/lib/python3.10/site-packages (from requests>=2.19.0->dgl) (3.3.2)\r\n",
      "Requirement already satisfied: idna<4,>=2.5 in /opt/conda/envs/dgl-dev-cpu/lib/python3.10/site-packages (from requests>=2.19.0->dgl) (3.7)\r\n",
      "Requirement already satisfied: urllib3<3,>=1.21.1 in /opt/conda/envs/dgl-dev-cpu/lib/python3.10/site-packages (from requests>=2.19.0->dgl) (2.2.2)\r\n",
      "Requirement already satisfied: certifi>=2017.4.17 in /opt/conda/envs/dgl-dev-cpu/lib/python3.10/site-packages (from requests>=2.19.0->dgl) (2024.7.4)\r\n",
      "Requirement already satisfied: torch>=2 in /opt/conda/envs/dgl-dev-cpu/lib/python3.10/site-packages (from torchdata>=0.5.0->dgl) (2.1.0+cpu)\r\n"
     ]
    },
    {
     "name": "stdout",
     "output_type": "stream",
     "text": [
      "Requirement already satisfied: python-dateutil>=2.8.2 in /opt/conda/envs/dgl-dev-cpu/lib/python3.10/site-packages (from pandas->dgl) (2.9.0.post0)\r\n",
      "Requirement already satisfied: pytz>=2020.1 in /opt/conda/envs/dgl-dev-cpu/lib/python3.10/site-packages (from pandas->dgl) (2024.1)\r\n",
      "Requirement already satisfied: tzdata>=2022.7 in /opt/conda/envs/dgl-dev-cpu/lib/python3.10/site-packages (from pandas->dgl) (2024.1)\r\n",
      "Requirement already satisfied: six>=1.5 in /opt/conda/envs/dgl-dev-cpu/lib/python3.10/site-packages (from python-dateutil>=2.8.2->pandas->dgl) (1.16.0)\r\n",
      "Requirement already satisfied: filelock in /opt/conda/envs/dgl-dev-cpu/lib/python3.10/site-packages (from torch>=2->torchdata>=0.5.0->dgl) (3.15.4)\r\n",
      "Requirement already satisfied: typing-extensions in /opt/conda/envs/dgl-dev-cpu/lib/python3.10/site-packages (from torch>=2->torchdata>=0.5.0->dgl) (4.12.2)\r\n",
      "Requirement already satisfied: sympy in /opt/conda/envs/dgl-dev-cpu/lib/python3.10/site-packages (from torch>=2->torchdata>=0.5.0->dgl) (1.13.2)\r\n",
      "Requirement already satisfied: jinja2 in /opt/conda/envs/dgl-dev-cpu/lib/python3.10/site-packages (from torch>=2->torchdata>=0.5.0->dgl) (3.1.4)\r\n",
      "Requirement already satisfied: fsspec in /opt/conda/envs/dgl-dev-cpu/lib/python3.10/site-packages (from torch>=2->torchdata>=0.5.0->dgl) (2024.6.1)\r\n"
     ]
    },
    {
     "name": "stdout",
     "output_type": "stream",
     "text": [
      "Requirement already satisfied: MarkupSafe>=2.0 in /opt/conda/envs/dgl-dev-cpu/lib/python3.10/site-packages (from jinja2->torch>=2->torchdata>=0.5.0->dgl) (2.1.5)\r\n",
      "Requirement already satisfied: mpmath<1.4,>=1.1.0 in /opt/conda/envs/dgl-dev-cpu/lib/python3.10/site-packages (from sympy->torch>=2->torchdata>=0.5.0->dgl) (1.3.0)\r\n"
     ]
    },
    {
     "name": "stdout",
     "output_type": "stream",
     "text": [
      "DGL installed!\n"
     ]
    }
   ],
   "source": [
    "# Install required packages.\n",
    "import os\n",
    "import torch\n",
    "import numpy as np\n",
    "os.environ['TORCH'] = torch.__version__\n",
    "os.environ['DGLBACKEND'] = \"pytorch\"\n",
    "\n",
    "# Install the CPU version.\n",
    "device = torch.device(\"cpu\")\n",
    "!pip install --pre dgl -f https://data.dgl.ai/wheels-test/repo.html\n",
    "\n",
    "try:\n",
    "    import dgl\n",
    "    import dgl.graphbolt as gb\n",
    "    installed = True\n",
    "except ImportError as error:\n",
    "    installed = False\n",
    "    print(error)\n",
    "print(\"DGL installed!\" if installed else \"DGL not found!\")"
   ]
  },
  {
   "cell_type": "markdown",
   "metadata": {
    "id": "2R7WnSbjsfbr"
   },
   "source": [
    "## Data preparation\n",
    "In order to demonstrate how to organize various data, let's create a base directory first."
   ]
  },
  {
   "cell_type": "code",
   "execution_count": 2,
   "metadata": {
    "execution": {
     "iopub.execute_input": "2024-08-21T14:06:18.303413Z",
     "iopub.status.busy": "2024-08-21T14:06:18.302864Z",
     "iopub.status.idle": "2024-08-21T14:06:18.306898Z",
     "shell.execute_reply": "2024-08-21T14:06:18.306207Z"
    },
    "id": "SZipbzyltLfO"
   },
   "outputs": [
    {
     "name": "stdout",
     "output_type": "stream",
     "text": [
      "Created base directory: ./ondisk_dataset_homograph\n"
     ]
    }
   ],
   "source": [
    "base_dir = './ondisk_dataset_homograph'\n",
    "os.makedirs(base_dir, exist_ok=True)\n",
    "print(f\"Created base directory: {base_dir}\")"
   ]
  },
  {
   "cell_type": "markdown",
   "metadata": {
    "id": "qhNtIn_xhlnl"
   },
   "source": [
    "### Generate graph structure data\n",
    "For homogeneous graph, we just need to save edges(namely node pairs) into  **Numpy** or **CSV** file.\n",
    "\n",
    "Note:\n",
    "- when saving to **Numpy**, the array requires to be in shape of `(2, N)`. This format is recommended as constructing graph from it is much faster than **CSV** file.\n",
    "- when saving to **CSV** file, do not save index and header.\n"
   ]
  },
  {
   "cell_type": "code",
   "execution_count": 3,
   "metadata": {
    "execution": {
     "iopub.execute_input": "2024-08-21T14:06:18.309616Z",
     "iopub.status.busy": "2024-08-21T14:06:18.309144Z",
     "iopub.status.idle": "2024-08-21T14:06:18.322978Z",
     "shell.execute_reply": "2024-08-21T14:06:18.322286Z"
    },
    "id": "HcBt4G5BmSjr"
   },
   "outputs": [
    {
     "name": "stdout",
     "output_type": "stream",
     "text": [
      "Part of edges: [[130 592]\n",
      " [168 424]\n",
      " [355 451]\n",
      " [982 308]\n",
      " [737 563]]\n",
      "Edges are saved into ./ondisk_dataset_homograph/edges.csv\n"
     ]
    }
   ],
   "source": [
    "import numpy as np\n",
    "import pandas as pd\n",
    "num_nodes = 1000\n",
    "num_edges = 10 * num_nodes\n",
    "edges_path = os.path.join(base_dir, \"edges.csv\")\n",
    "edges = np.random.randint(0, num_nodes, size=(num_edges, 2))\n",
    "\n",
    "print(f\"Part of edges: {edges[:5, :]}\")\n",
    "\n",
    "df = pd.DataFrame(edges)\n",
    "df.to_csv(edges_path, index=False, header=False)\n",
    "\n",
    "print(f\"Edges are saved into {edges_path}\")"
   ]
  },
  {
   "cell_type": "markdown",
   "metadata": {
    "id": "kh-4cPtzpcaH"
   },
   "source": [
    "### Generate feature data for graph\n",
    "For feature data, numpy arrays and torch tensors are supported for now."
   ]
  },
  {
   "cell_type": "code",
   "execution_count": 4,
   "metadata": {
    "execution": {
     "iopub.execute_input": "2024-08-21T14:06:18.325844Z",
     "iopub.status.busy": "2024-08-21T14:06:18.325263Z",
     "iopub.status.idle": "2024-08-21T14:06:18.341141Z",
     "shell.execute_reply": "2024-08-21T14:06:18.340498Z"
    },
    "id": "_PVu1u5brBhF"
   },
   "outputs": [
    {
     "name": "stdout",
     "output_type": "stream",
     "text": [
      "Part of node feature [feat_0]: [[0.18013334 0.59470969 0.11138945 0.00952273 0.79508492]\n",
      " [0.22767783 0.58629891 0.248588   0.44034884 0.2605476 ]\n",
      " [0.09154704 0.32833404 0.70940259 0.61508538 0.89092598]]\n",
      "Node feature [feat_0] is saved to ./ondisk_dataset_homograph/node-feat-0.npy\n",
      "\n",
      "Part of node feature [feat_1]: tensor([[0.3147, 0.0319, 0.8780, 0.1878, 0.7060],\n",
      "        [0.5734, 0.6500, 0.2445, 0.1925, 0.7969],\n",
      "        [0.6301, 0.4001, 0.6675, 0.4361, 0.7002]])\n",
      "Node feature [feat_1] is saved to ./ondisk_dataset_homograph/node-feat-1.pt\n",
      "\n",
      "Part of edge feature [feat_0]: [[0.86805901 0.26524866 0.07996187 0.71512687 0.46246992]\n",
      " [0.57202669 0.1664985  0.30515235 0.58473855 0.45085152]\n",
      " [0.31265203 0.89604345 0.1870309  0.42384626 0.8236646 ]]\n",
      "Edge feature [feat_0] is saved to ./ondisk_dataset_homograph/edge-feat-0.npy\n",
      "\n",
      "Part of edge feature [feat_1]: tensor([[0.1780, 0.8996, 0.2763, 0.3123, 0.5160],\n",
      "        [0.9963, 0.5050, 0.6131, 0.4023, 0.9921],\n",
      "        [0.8505, 0.2240, 0.5471, 0.1878, 0.7242]])\n",
      "Edge feature [feat_1] is saved to ./ondisk_dataset_homograph/edge-feat-1.pt\n",
      "\n"
     ]
    }
   ],
   "source": [
    "# Generate node feature in numpy array.\n",
    "node_feat_0_path = os.path.join(base_dir, \"node-feat-0.npy\")\n",
    "node_feat_0 = np.random.rand(num_nodes, 5)\n",
    "print(f\"Part of node feature [feat_0]: {node_feat_0[:3, :]}\")\n",
    "np.save(node_feat_0_path, node_feat_0)\n",
    "print(f\"Node feature [feat_0] is saved to {node_feat_0_path}\\n\")\n",
    "\n",
    "# Generate another node feature in torch tensor\n",
    "node_feat_1_path = os.path.join(base_dir, \"node-feat-1.pt\")\n",
    "node_feat_1 = torch.rand(num_nodes, 5)\n",
    "print(f\"Part of node feature [feat_1]: {node_feat_1[:3, :]}\")\n",
    "torch.save(node_feat_1, node_feat_1_path)\n",
    "print(f\"Node feature [feat_1] is saved to {node_feat_1_path}\\n\")\n",
    "\n",
    "# Generate edge feature in numpy array.\n",
    "edge_feat_0_path = os.path.join(base_dir, \"edge-feat-0.npy\")\n",
    "edge_feat_0 = np.random.rand(num_edges, 5)\n",
    "print(f\"Part of edge feature [feat_0]: {edge_feat_0[:3, :]}\")\n",
    "np.save(edge_feat_0_path, edge_feat_0)\n",
    "print(f\"Edge feature [feat_0] is saved to {edge_feat_0_path}\\n\")\n",
    "\n",
    "# Generate another edge feature in torch tensor\n",
    "edge_feat_1_path = os.path.join(base_dir, \"edge-feat-1.pt\")\n",
    "edge_feat_1 = torch.rand(num_edges, 5)\n",
    "print(f\"Part of edge feature [feat_1]: {edge_feat_1[:3, :]}\")\n",
    "torch.save(edge_feat_1, edge_feat_1_path)\n",
    "print(f\"Edge feature [feat_1] is saved to {edge_feat_1_path}\\n\")\n"
   ]
  },
  {
   "cell_type": "markdown",
   "metadata": {
    "id": "ZyqgOtsIwzh_"
   },
   "source": [
    "### Generate tasks\n",
    "`OnDiskDataset` supports multiple tasks. For each task, we need to prepare training/validation/test sets respectively. Such sets usually vary among different tasks. In this tutorial, let's create a **Node Classification** task and **Link Prediction** task."
   ]
  },
  {
   "cell_type": "markdown",
   "metadata": {
    "id": "hVxHaDIfzCkr"
   },
   "source": [
    "#### Node Classification Task\n",
    "For node classification task, we need **node IDs** and corresponding **labels** for each training/validation/test set. Like feature data, numpy arrays and torch tensors are supported for these sets."
   ]
  },
  {
   "cell_type": "code",
   "execution_count": 5,
   "metadata": {
    "execution": {
     "iopub.execute_input": "2024-08-21T14:06:18.344211Z",
     "iopub.status.busy": "2024-08-21T14:06:18.343589Z",
     "iopub.status.idle": "2024-08-21T14:06:18.354569Z",
     "shell.execute_reply": "2024-08-21T14:06:18.354021Z"
    },
    "id": "S5-fyBbHzTCO"
   },
   "outputs": [
    {
     "name": "stdout",
     "output_type": "stream",
     "text": [
      "Part of train ids for node classification: [396 290 203]\n",
      "NC train ids are saved to ./ondisk_dataset_homograph/nc-train-ids.npy\n",
      "\n",
      "Part of train labels for node classification: tensor([8, 5, 0])\n",
      "NC train labels are saved to ./ondisk_dataset_homograph/nc-train-labels.pt\n",
      "\n",
      "Part of val ids for node classification: [682 131 643]\n",
      "NC val ids are saved to ./ondisk_dataset_homograph/nc-val-ids.npy\n",
      "\n",
      "Part of val labels for node classification: tensor([5, 1, 0])\n",
      "NC val labels are saved to ./ondisk_dataset_homograph/nc-val-labels.pt\n",
      "\n",
      "Part of test ids for node classification: [125 449 499]\n",
      "NC test ids are saved to ./ondisk_dataset_homograph/nc-test-ids.npy\n",
      "\n",
      "Part of test labels for node classification: tensor([3, 8, 0])\n",
      "NC test labels are saved to ./ondisk_dataset_homograph/nc-test-labels.pt\n",
      "\n"
     ]
    }
   ],
   "source": [
    "num_trains = int(num_nodes * 0.6)\n",
    "num_vals = int(num_nodes * 0.2)\n",
    "num_tests = num_nodes - num_trains - num_vals\n",
    "\n",
    "ids = np.arange(num_nodes)\n",
    "np.random.shuffle(ids)\n",
    "\n",
    "nc_train_ids_path = os.path.join(base_dir, \"nc-train-ids.npy\")\n",
    "nc_train_ids = ids[:num_trains]\n",
    "print(f\"Part of train ids for node classification: {nc_train_ids[:3]}\")\n",
    "np.save(nc_train_ids_path, nc_train_ids)\n",
    "print(f\"NC train ids are saved to {nc_train_ids_path}\\n\")\n",
    "\n",
    "nc_train_labels_path = os.path.join(base_dir, \"nc-train-labels.pt\")\n",
    "nc_train_labels = torch.randint(0, 10, (num_trains,))\n",
    "print(f\"Part of train labels for node classification: {nc_train_labels[:3]}\")\n",
    "torch.save(nc_train_labels, nc_train_labels_path)\n",
    "print(f\"NC train labels are saved to {nc_train_labels_path}\\n\")\n",
    "\n",
    "nc_val_ids_path = os.path.join(base_dir, \"nc-val-ids.npy\")\n",
    "nc_val_ids = ids[num_trains:num_trains+num_vals]\n",
    "print(f\"Part of val ids for node classification: {nc_val_ids[:3]}\")\n",
    "np.save(nc_val_ids_path, nc_val_ids)\n",
    "print(f\"NC val ids are saved to {nc_val_ids_path}\\n\")\n",
    "\n",
    "nc_val_labels_path = os.path.join(base_dir, \"nc-val-labels.pt\")\n",
    "nc_val_labels = torch.randint(0, 10, (num_vals,))\n",
    "print(f\"Part of val labels for node classification: {nc_val_labels[:3]}\")\n",
    "torch.save(nc_val_labels, nc_val_labels_path)\n",
    "print(f\"NC val labels are saved to {nc_val_labels_path}\\n\")\n",
    "\n",
    "nc_test_ids_path = os.path.join(base_dir, \"nc-test-ids.npy\")\n",
    "nc_test_ids = ids[-num_tests:]\n",
    "print(f\"Part of test ids for node classification: {nc_test_ids[:3]}\")\n",
    "np.save(nc_test_ids_path, nc_test_ids)\n",
    "print(f\"NC test ids are saved to {nc_test_ids_path}\\n\")\n",
    "\n",
    "nc_test_labels_path = os.path.join(base_dir, \"nc-test-labels.pt\")\n",
    "nc_test_labels = torch.randint(0, 10, (num_tests,))\n",
    "print(f\"Part of test labels for node classification: {nc_test_labels[:3]}\")\n",
    "torch.save(nc_test_labels, nc_test_labels_path)\n",
    "print(f\"NC test labels are saved to {nc_test_labels_path}\\n\")"
   ]
  },
  {
   "cell_type": "markdown",
   "metadata": {
    "id": "LhAcDCHQ_KJ0"
   },
   "source": [
    "#### Link Prediction Task\n",
    "For link prediction task, we need **node pairs** or **negative src/dsts** for each training/validation/test set. Like feature data, numpy arrays and torch tensors are supported for these sets."
   ]
  },
  {
   "cell_type": "code",
   "execution_count": 6,
   "metadata": {
    "execution": {
     "iopub.execute_input": "2024-08-21T14:06:18.356990Z",
     "iopub.status.busy": "2024-08-21T14:06:18.356719Z",
     "iopub.status.idle": "2024-08-21T14:06:18.369063Z",
     "shell.execute_reply": "2024-08-21T14:06:18.368496Z"
    },
    "id": "u0jCnXIcAQy4"
   },
   "outputs": [
    {
     "name": "stdout",
     "output_type": "stream",
     "text": [
      "Part of train node pairs for link prediction: [[130 592]\n",
      " [168 424]\n",
      " [355 451]]\n",
      "LP train node pairs are saved to ./ondisk_dataset_homograph/lp-train-node-pairs.npy\n",
      "\n",
      "Part of val node pairs for link prediction: [[790 686]\n",
      " [705 809]\n",
      " [328 379]]\n",
      "LP val node pairs are saved to ./ondisk_dataset_homograph/lp-val-node-pairs.npy\n",
      "\n",
      "Part of val negative dsts for link prediction: tensor([[913, 215, 793, 265, 734, 213,  10, 443, 617,  78],\n",
      "        [814, 805, 227, 407, 529, 525, 198, 780, 333, 363],\n",
      "        [ 38, 771, 777, 311, 348, 733, 300, 981, 986, 392]])\n",
      "LP val negative dsts are saved to ./ondisk_dataset_homograph/lp-val-neg-dsts.pt\n",
      "\n",
      "Part of test node pairs for link prediction: [762 336]\n",
      "LP test node pairs are saved to ./ondisk_dataset_homograph/lp-test-node-pairs.npy\n",
      "\n",
      "Part of test negative dsts for link prediction: tensor([[256, 959, 956, 214, 776, 860, 425, 856,  64, 586],\n",
      "        [ 88, 451, 391, 440, 257, 282, 905, 941, 228, 435],\n",
      "        [213, 154, 819, 922,  13, 338, 906, 531, 594, 725]])\n",
      "LP test negative dsts are saved to ./ondisk_dataset_homograph/lp-test-neg-dsts.pt\n",
      "\n"
     ]
    }
   ],
   "source": [
    "num_trains = int(num_edges * 0.6)\n",
    "num_vals = int(num_edges * 0.2)\n",
    "num_tests = num_edges - num_trains - num_vals\n",
    "\n",
    "lp_train_node_pairs_path = os.path.join(base_dir, \"lp-train-node-pairs.npy\")\n",
    "lp_train_node_pairs = edges[:num_trains, :]\n",
    "print(f\"Part of train node pairs for link prediction: {lp_train_node_pairs[:3]}\")\n",
    "np.save(lp_train_node_pairs_path, lp_train_node_pairs)\n",
    "print(f\"LP train node pairs are saved to {lp_train_node_pairs_path}\\n\")\n",
    "\n",
    "lp_val_node_pairs_path = os.path.join(base_dir, \"lp-val-node-pairs.npy\")\n",
    "lp_val_node_pairs = edges[num_trains:num_trains+num_vals, :]\n",
    "print(f\"Part of val node pairs for link prediction: {lp_val_node_pairs[:3]}\")\n",
    "np.save(lp_val_node_pairs_path, lp_val_node_pairs)\n",
    "print(f\"LP val node pairs are saved to {lp_val_node_pairs_path}\\n\")\n",
    "\n",
    "lp_val_neg_dsts_path = os.path.join(base_dir, \"lp-val-neg-dsts.pt\")\n",
    "lp_val_neg_dsts = torch.randint(0, num_nodes, (num_vals, 10))\n",
    "print(f\"Part of val negative dsts for link prediction: {lp_val_neg_dsts[:3]}\")\n",
    "torch.save(lp_val_neg_dsts, lp_val_neg_dsts_path)\n",
    "print(f\"LP val negative dsts are saved to {lp_val_neg_dsts_path}\\n\")\n",
    "\n",
    "lp_test_node_pairs_path = os.path.join(base_dir, \"lp-test-node-pairs.npy\")\n",
    "lp_test_node_pairs = edges[-num_tests, :]\n",
    "print(f\"Part of test node pairs for link prediction: {lp_test_node_pairs[:3]}\")\n",
    "np.save(lp_test_node_pairs_path, lp_test_node_pairs)\n",
    "print(f\"LP test node pairs are saved to {lp_test_node_pairs_path}\\n\")\n",
    "\n",
    "lp_test_neg_dsts_path = os.path.join(base_dir, \"lp-test-neg-dsts.pt\")\n",
    "lp_test_neg_dsts = torch.randint(0, num_nodes, (num_tests, 10))\n",
    "print(f\"Part of test negative dsts for link prediction: {lp_test_neg_dsts[:3]}\")\n",
    "torch.save(lp_test_neg_dsts, lp_test_neg_dsts_path)\n",
    "print(f\"LP test negative dsts are saved to {lp_test_neg_dsts_path}\\n\")"
   ]
  },
  {
   "cell_type": "markdown",
   "metadata": {
    "id": "wbk6-wxRK-6S"
   },
   "source": [
    "## Organize Data into YAML File\n",
    "Now we need to create a `metadata.yaml` file which contains the paths, dadta types of graph structure, feature data, training/validation/test sets.\n",
    "\n",
    "Notes:\n",
    "- all path should be relative to `metadata.yaml`.\n",
    "- Below fields are optional and not specified in below example.\n",
    "  - `in_memory`: indicates whether to load dada into memory or `mmap`. Default is `True`.\n",
    "\n",
    "Please refer to [YAML specification](https://github.com/dmlc/dgl/blob/master/docs/source/stochastic_training/ondisk-dataset-specification.rst) for more details."
   ]
  },
  {
   "cell_type": "code",
   "execution_count": 7,
   "metadata": {
    "execution": {
     "iopub.execute_input": "2024-08-21T14:06:18.371631Z",
     "iopub.status.busy": "2024-08-21T14:06:18.371228Z",
     "iopub.status.idle": "2024-08-21T14:06:18.376525Z",
     "shell.execute_reply": "2024-08-21T14:06:18.376000Z"
    },
    "id": "ddGTWW61Lpwp"
   },
   "outputs": [],
   "source": [
    "yaml_content = f\"\"\"\n",
    "    dataset_name: homogeneous_graph_nc_lp\n",
    "    graph:\n",
    "      nodes:\n",
    "        - num: {num_nodes}\n",
    "      edges:\n",
    "        - format: csv\n",
    "          path: {os.path.basename(edges_path)}\n",
    "    feature_data:\n",
    "      - domain: node\n",
    "        name: feat_0\n",
    "        format: numpy\n",
    "        path: {os.path.basename(node_feat_0_path)}\n",
    "      - domain: node\n",
    "        name: feat_1\n",
    "        format: torch\n",
    "        path: {os.path.basename(node_feat_1_path)}\n",
    "      - domain: edge\n",
    "        name: feat_0\n",
    "        format: numpy\n",
    "        path: {os.path.basename(edge_feat_0_path)}\n",
    "      - domain: edge\n",
    "        name: feat_1\n",
    "        format: torch\n",
    "        path: {os.path.basename(edge_feat_1_path)}\n",
    "    tasks:\n",
    "      - name: node_classification\n",
    "        num_classes: 10\n",
    "        train_set:\n",
    "          - data:\n",
    "              - name: seed_nodes\n",
    "                format: numpy\n",
    "                path: {os.path.basename(nc_train_ids_path)}\n",
    "              - name: labels\n",
    "                format: torch\n",
    "                path: {os.path.basename(nc_train_labels_path)}\n",
    "        validation_set:\n",
    "          - data:\n",
    "              - name: seed_nodes\n",
    "                format: numpy\n",
    "                path: {os.path.basename(nc_val_ids_path)}\n",
    "              - name: labels\n",
    "                format: torch\n",
    "                path: {os.path.basename(nc_val_labels_path)}\n",
    "        test_set:\n",
    "          - data:\n",
    "              - name: seed_nodes\n",
    "                format: numpy\n",
    "                path: {os.path.basename(nc_test_ids_path)}\n",
    "              - name: labels\n",
    "                format: torch\n",
    "                path: {os.path.basename(nc_test_labels_path)}\n",
    "      - name: link_prediction\n",
    "        num_classes: 10\n",
    "        train_set:\n",
    "          - data:\n",
    "              - name: node_pairs\n",
    "                format: numpy\n",
    "                path: {os.path.basename(lp_train_node_pairs_path)}\n",
    "        validation_set:\n",
    "          - data:\n",
    "              - name: node_pairs\n",
    "                format: numpy\n",
    "                path: {os.path.basename(lp_val_node_pairs_path)}\n",
    "              - name: negative_dsts\n",
    "                format: torch\n",
    "                path: {os.path.basename(lp_val_neg_dsts_path)}\n",
    "        test_set:\n",
    "          - data:\n",
    "              - name: node_pairs\n",
    "                format: numpy\n",
    "                path: {os.path.basename(lp_test_node_pairs_path)}\n",
    "              - name: negative_dsts\n",
    "                format: torch\n",
    "                path: {os.path.basename(lp_test_neg_dsts_path)}\n",
    "\"\"\"\n",
    "metadata_path = os.path.join(base_dir, \"metadata.yaml\")\n",
    "with open(metadata_path, \"w\") as f:\n",
    "  f.write(yaml_content)"
   ]
  },
  {
   "cell_type": "markdown",
   "metadata": {
    "id": "kEfybHGhOW7O"
   },
   "source": [
    "## Instantiate `OnDiskDataset`\n",
    "Now we're ready to load dataset via `dgl.graphbolt.OnDiskDataset`. When instantiating, we just pass in the base directory where `metadata.yaml` file lies.\n",
    "\n",
    "During first instantiation, GraphBolt preprocesses the raw data such as constructing `FusedCSCSamplingGraph` from edges. All data including graph, feature data, training/validation/test sets are put into `preprocessed` directory after preprocessing. Any following dataset loading will skip the preprocess stage.\n",
    "\n",
    "After preprocessing, `load()` is required to be called explicitly in order to load graph, feature data and tasks."
   ]
  },
  {
   "cell_type": "code",
   "execution_count": 8,
   "metadata": {
    "execution": {
     "iopub.execute_input": "2024-08-21T14:06:18.378973Z",
     "iopub.status.busy": "2024-08-21T14:06:18.378538Z",
     "iopub.status.idle": "2024-08-21T14:06:18.459346Z",
     "shell.execute_reply": "2024-08-21T14:06:18.458745Z"
    },
    "id": "W58CZoSzOiyo"
   },
   "outputs": [
    {
     "name": "stdout",
     "output_type": "stream",
     "text": [
      "The on-disk dataset is re-preprocessing, so the existing preprocessed dataset has been removed.\n",
      "Start to preprocess the on-disk dataset.\n",
      "Finish preprocessing the on-disk dataset.\n",
      "Loaded graph: FusedCSCSamplingGraph(csc_indptr=tensor([    0,    14,    22,  ...,  9980,  9989, 10000], dtype=torch.int32),\n",
      "                      indices=tensor([ 87, 242, 424,  ...,  17,  73, 306], dtype=torch.int32),\n",
      "                      total_num_nodes=1000, num_edges=10000,)\n",
      "\n",
      "Loaded feature store: TorchBasedFeatureStore(\n",
      "    {(<OnDiskFeatureDataDomain.NODE: 'node'>, None, 'feat_0'): TorchBasedFeature(\n",
      "        feature=tensor([[0.1801, 0.5947, 0.1114, 0.0095, 0.7951],\n",
      "                        [0.2277, 0.5863, 0.2486, 0.4403, 0.2605],\n",
      "                        [0.0915, 0.3283, 0.7094, 0.6151, 0.8909],\n",
      "                        ...,\n",
      "                        [0.0108, 0.2470, 0.2918, 0.9723, 0.3193],\n",
      "                        [0.5234, 0.3611, 0.7788, 0.9848, 0.5736],\n",
      "                        [0.2197, 0.0339, 0.8845, 0.7317, 0.8869]], dtype=torch.float64),\n",
      "        metadata={},\n",
      "    ), (<OnDiskFeatureDataDomain.NODE: 'node'>, None, 'feat_1'): TorchBasedFeature(\n",
      "        feature=tensor([[0.3147, 0.0319, 0.8780, 0.1878, 0.7060],\n",
      "                        [0.5734, 0.6500, 0.2445, 0.1925, 0.7969],\n",
      "                        [0.6301, 0.4001, 0.6675, 0.4361, 0.7002],\n",
      "                        ...,\n",
      "                        [0.4985, 0.4117, 0.7438, 0.2820, 0.2739],\n",
      "                        [0.8396, 0.3040, 0.5061, 0.2082, 0.2130],\n",
      "                        [0.8191, 0.6833, 0.0678, 0.8204, 0.8462]]),\n",
      "        metadata={},\n",
      "    ), (<OnDiskFeatureDataDomain.EDGE: 'edge'>, None, 'feat_0'): TorchBasedFeature(\n",
      "        feature=tensor([[0.8681, 0.2652, 0.0800, 0.7151, 0.4625],\n",
      "                        [0.5720, 0.1665, 0.3052, 0.5847, 0.4509],\n",
      "                        [0.3127, 0.8960, 0.1870, 0.4238, 0.8237],\n",
      "                        ...,\n",
      "                        [0.7727, 0.6615, 0.3818, 0.0490, 0.3996],\n",
      "                        [0.4756, 0.9488, 0.3015, 0.1931, 0.2690],\n",
      "                        [0.2231, 0.6396, 0.5826, 0.1456, 0.7176]], dtype=torch.float64),\n",
      "        metadata={},\n",
      "    ), (<OnDiskFeatureDataDomain.EDGE: 'edge'>, None, 'feat_1'): TorchBasedFeature(\n",
      "        feature=tensor([[0.1780, 0.8996, 0.2763, 0.3123, 0.5160],\n",
      "                        [0.9963, 0.5050, 0.6131, 0.4023, 0.9921],\n",
      "                        [0.8505, 0.2240, 0.5471, 0.1878, 0.7242],\n",
      "                        ...,\n",
      "                        [0.4052, 0.8409, 0.6311, 0.5209, 0.2724],\n",
      "                        [0.0266, 0.5628, 0.7127, 0.7716, 0.6240],\n",
      "                        [0.0122, 0.3650, 0.1031, 0.9438, 0.5051]]),\n",
      "        metadata={},\n",
      "    )}\n",
      ")\n",
      "\n",
      "Loaded node classification task: OnDiskTask(validation_set=ItemSet(\n",
      "               items=(tensor([682, 131, 643, 789, 901, 536, 285, 373, 514, 545, 929,  80, 164, 220,\n",
      "                   356, 940, 662, 266, 612, 685, 206, 617, 472, 799, 765, 115, 801, 550,\n",
      "                    16, 793, 844, 915, 549, 391, 386, 347,  63, 810, 317, 457, 431, 212,\n",
      "                   981, 213, 441,  19, 222, 496, 827, 848, 970, 724, 207, 941, 919, 104,\n",
      "                   587, 321, 974, 961, 666, 804, 132, 880, 112, 332, 917, 624, 564, 311,\n",
      "                   526, 107,   8, 283, 243, 210, 960, 802, 179, 151,  48, 370, 401, 834,\n",
      "                   388, 435, 570, 134, 429, 887, 268,  75, 149, 968, 279, 139, 237, 437,\n",
      "                   953, 234, 312, 808, 533, 233, 430, 271, 736, 363, 751, 764, 678, 788,\n",
      "                   791, 254, 556, 169, 529, 687, 103, 520, 705, 839, 691, 957, 820, 758,\n",
      "                   956, 900, 241, 850, 601, 665, 626, 760, 933,  21, 955, 163, 565, 853,\n",
      "                   837, 313, 156, 314, 530, 417, 411, 359,   3, 886, 584, 569, 903,  31,\n",
      "                   246, 826, 554, 983, 442, 642, 205, 309, 645, 114, 782, 578, 165, 869,\n",
      "                   921, 484,  49, 743, 189, 620, 738, 731, 591, 423, 831, 646, 851, 474,\n",
      "                   615, 557, 535,  67, 637, 995, 510, 120, 892, 876, 419, 681, 611, 721,\n",
      "                   697, 803, 389, 543], dtype=torch.int32), tensor([5, 1, 0, 3, 9, 8, 8, 7, 1, 4, 7, 0, 8, 7, 6, 1, 8, 5, 6, 1, 2, 2, 7, 9,\n",
      "                   6, 8, 9, 8, 5, 4, 8, 6, 4, 9, 8, 4, 0, 8, 0, 6, 2, 4, 2, 0, 5, 8, 0, 3,\n",
      "                   2, 1, 6, 8, 5, 9, 8, 6, 3, 8, 6, 5, 0, 2, 7, 4, 3, 9, 4, 5, 9, 1, 7, 4,\n",
      "                   7, 7, 6, 8, 7, 3, 2, 4, 3, 8, 4, 2, 7, 3, 8, 3, 5, 7, 2, 6, 8, 2, 8, 2,\n",
      "                   6, 6, 8, 1, 8, 3, 9, 4, 8, 1, 2, 4, 6, 5, 5, 0, 4, 5, 7, 1, 4, 3, 1, 8,\n",
      "                   8, 0, 8, 4, 0, 1, 4, 2, 4, 4, 8, 2, 1, 2, 7, 5, 2, 0, 6, 2, 2, 1, 4, 0,\n",
      "                   2, 1, 9, 5, 6, 5, 8, 8, 2, 1, 4, 2, 3, 2, 5, 4, 5, 0, 6, 4, 9, 6, 4, 8,\n",
      "                   1, 6, 1, 7, 2, 6, 9, 1, 0, 8, 4, 9, 5, 7, 3, 9, 3, 0, 2, 6, 8, 9, 1, 9,\n",
      "                   4, 0, 3, 5, 3, 6, 5, 8])),\n",
      "               names=('seed_nodes', 'labels'),\n",
      "           ),\n",
      "           train_set=ItemSet(\n",
      "               items=(tensor([396, 290, 203, 273, 914, 477, 488, 770, 308, 625, 581, 819, 873, 928,\n",
      "                   884, 979, 838,  87, 918, 555, 208, 319, 775, 947, 260, 763,  78,  77,\n",
      "                   405, 719, 962, 394, 255, 267, 295, 952, 669, 563, 707, 576, 635,  92,\n",
      "                     9, 875, 119, 147, 634, 483, 806, 776, 766, 572, 287, 143, 410, 835,\n",
      "                     0, 998, 630, 404, 538, 334, 737, 714,  29, 725, 913, 186, 384, 357,\n",
      "                   699, 846, 517, 978, 375, 871, 909, 176, 843, 316, 421,  20, 188, 387,\n",
      "                    98, 258,  39, 792, 544, 836, 485, 262, 482, 209, 433, 605, 602, 415,\n",
      "                   142, 448, 110, 755, 235,  79, 593, 655, 855, 320, 385, 315, 218, 406,\n",
      "                   849, 275, 882, 779,  46, 240, 481, 598, 462,  36,   5, 229, 463, 509,\n",
      "                   214, 894, 256,  35, 247,  68, 951, 950, 466, 656, 452, 238, 631, 392,\n",
      "                    89,  84,  94, 548, 999, 447, 129, 756, 935, 227,  66, 199, 198, 577,\n",
      "                   542, 211, 696, 936, 465, 498, 409, 807, 590, 133, 558, 144, 379, 746,\n",
      "                   505, 299, 786, 891, 355,  52, 985, 859, 292,  70, 938, 476, 744, 579,\n",
      "                   924, 487,  11, 664, 868, 426, 596,  50, 908, 492, 445, 249, 173, 369,\n",
      "                   722, 778, 949, 805, 885, 228, 667, 912, 636, 454, 622, 781, 910, 830,\n",
      "                   944, 663, 923, 412, 358, 703, 932,  18, 340, 245, 854, 501, 167, 559,\n",
      "                    76, 639, 812, 137, 425, 195, 560, 619, 154, 818, 939, 621, 528, 966,\n",
      "                   494, 337, 592, 948, 745, 993, 986, 325, 145, 670,  61, 350, 513, 816,\n",
      "                   676,  82, 438, 616, 606, 116, 568, 166, 302, 895, 422, 857, 331, 785,\n",
      "                   263, 354, 400, 471, 858, 794,  26, 204, 506,  42,   1, 458, 971, 161,\n",
      "                   898, 378, 124, 239, 184, 390,  23, 236, 181,  90, 813, 551, 920, 345,\n",
      "                   440, 175, 798, 217, 769, 282, 374,  27, 739, 797, 973,  69, 967, 890,\n",
      "                   503, 964,  74, 162,  99, 674, 709, 677, 242, 280, 190,  53,  10, 822,\n",
      "                   346, 480,  43, 815, 618, 750, 468, 641, 937, 191, 395, 519, 829, 251,\n",
      "                   451, 704, 101, 324, 159,  45,  73, 847, 518, 502, 712, 735,  91, 680,\n",
      "                   904, 992, 689, 761, 752, 632, 464, 126, 416, 174, 226, 817,  33, 833,\n",
      "                   783, 991, 809, 408, 270, 987, 690,  51, 905, 344, 922,  22, 594, 980,\n",
      "                    62, 996, 202, 456, 420,  54, 561, 261, 773, 780, 566, 196, 629,  59,\n",
      "                   965,  71, 428,  37, 269, 486, 989, 608, 934, 977, 289, 610, 170,  93,\n",
      "                   504, 927, 547, 711,  88, 688, 537, 424, 997, 172, 141, 265, 652, 353,\n",
      "                   194, 958, 197, 877, 552, 614, 146, 453, 117, 879, 330, 713, 244, 187,\n",
      "                   349, 754, 148, 603, 700, 567, 382, 306, 796, 152, 897, 861, 787, 767,\n",
      "                   427, 434, 531, 651, 136, 931, 777, 911, 896, 710, 878, 397, 413, 872,\n",
      "                    32, 383, 168, 532,  97, 294, 694, 461, 398, 491, 177, 479, 333, 348,\n",
      "                   582,   6, 942, 489, 659, 575, 128, 740, 307, 717,  95, 586,  56, 127,\n",
      "                   403, 367, 455, 623, 832, 276, 507, 730, 341, 300, 288, 916, 893, 860,\n",
      "                     2, 946, 224, 671, 540, 516, 715, 511, 221, 490, 888, 284, 865, 902,\n",
      "                   122, 628, 380, 192, 335, 100, 583, 366, 109, 467, 338, 653, 657, 231,\n",
      "                    28, 679, 362, 123,   7, 522, 874, 963, 444, 969, 150, 701, 762, 121,\n",
      "                   450,  13, 811, 768, 883, 757, 727, 702, 460, 291,   4, 698, 588, 368,\n",
      "                   841,  41, 278, 814, 800, 138, 862, 200, 640,  81, 178, 113, 339, 633,\n",
      "                   352, 668, 508, 478,  30, 899,  12, 975, 863, 644, 749, 372,  34, 943,\n",
      "                   182, 436, 599, 318, 469, 718, 257, 303, 580, 223, 742,  24],\n",
      "                  dtype=torch.int32), tensor([8, 5, 0, 7, 4, 1, 6, 5, 3, 5, 1, 2, 0, 8, 7, 7, 2, 0, 6, 3, 7, 2, 1, 9,\n",
      "                   6, 1, 9, 3, 3, 5, 9, 8, 8, 9, 9, 1, 9, 1, 7, 6, 2, 8, 9, 4, 2, 8, 8, 2,\n",
      "                   4, 3, 0, 9, 0, 3, 9, 1, 5, 7, 2, 6, 5, 3, 3, 7, 8, 2, 8, 9, 7, 9, 3, 4,\n",
      "                   6, 2, 9, 8, 8, 6, 3, 3, 1, 5, 2, 7, 3, 8, 6, 3, 7, 5, 6, 0, 8, 6, 5, 1,\n",
      "                   3, 5, 9, 2, 3, 7, 7, 9, 0, 2, 0, 7, 9, 5, 1, 5, 0, 1, 9, 5, 9, 3, 3, 4,\n",
      "                   3, 2, 8, 5, 7, 7, 1, 5, 0, 4, 4, 0, 7, 6, 2, 7, 8, 7, 1, 6, 3, 4, 7, 4,\n",
      "                   5, 3, 8, 9, 9, 6, 2, 9, 9, 2, 7, 9, 9, 0, 5, 6, 0, 6, 1, 7, 0, 3, 7, 0,\n",
      "                   7, 2, 0, 6, 5, 9, 3, 6, 8, 1, 3, 4, 6, 6, 1, 4, 5, 7, 9, 0, 1, 9, 4, 0,\n",
      "                   9, 7, 8, 4, 7, 3, 9, 3, 4, 0, 4, 5, 0, 8, 4, 0, 7, 9, 5, 3, 6, 5, 1, 9,\n",
      "                   1, 9, 7, 7, 6, 8, 1, 1, 9, 5, 9, 3, 2, 3, 9, 2, 4, 9, 0, 7, 6, 4, 3, 9,\n",
      "                   7, 4, 2, 5, 8, 0, 2, 0, 9, 5, 0, 2, 9, 0, 6, 9, 5, 8, 6, 8, 3, 2, 9, 5,\n",
      "                   9, 6, 4, 4, 1, 5, 7, 9, 6, 8, 8, 7, 5, 3, 2, 1, 9, 7, 3, 0, 5, 8, 2, 0,\n",
      "                   8, 2, 2, 4, 5, 0, 1, 0, 1, 1, 2, 4, 2, 9, 4, 3, 8, 9, 2, 5, 8, 3, 6, 7,\n",
      "                   6, 7, 5, 6, 6, 1, 6, 5, 2, 8, 1, 4, 2, 9, 6, 5, 9, 8, 7, 9, 2, 8, 7, 4,\n",
      "                   6, 5, 2, 7, 5, 5, 5, 1, 4, 5, 4, 1, 5, 6, 2, 0, 1, 3, 9, 7, 2, 4, 3, 1,\n",
      "                   3, 6, 0, 9, 9, 5, 5, 5, 6, 0, 0, 7, 8, 2, 3, 9, 9, 5, 9, 2, 2, 0, 3, 7,\n",
      "                   1, 0, 8, 7, 8, 8, 0, 1, 8, 1, 0, 0, 1, 8, 3, 0, 8, 7, 7, 5, 4, 1, 3, 9,\n",
      "                   9, 5, 8, 1, 5, 1, 7, 5, 8, 3, 3, 3, 8, 1, 4, 6, 7, 9, 9, 7, 1, 6, 6, 8,\n",
      "                   2, 2, 8, 5, 3, 6, 0, 8, 6, 2, 1, 1, 5, 2, 0, 1, 2, 5, 0, 6, 2, 2, 5, 7,\n",
      "                   3, 7, 6, 7, 2, 8, 3, 3, 5, 1, 0, 8, 0, 2, 6, 6, 2, 6, 3, 9, 2, 3, 3, 8,\n",
      "                   6, 9, 9, 6, 4, 6, 0, 5, 2, 2, 3, 1, 1, 4, 4, 8, 3, 2, 9, 8, 9, 8, 7, 1,\n",
      "                   3, 1, 3, 2, 5, 6, 6, 0, 8, 2, 2, 1, 3, 4, 0, 9, 6, 1, 9, 6, 7, 8, 7, 1,\n",
      "                   3, 3, 0, 1, 2, 1, 4, 7, 3, 4, 4, 2, 8, 9, 4, 8, 8, 2, 8, 4, 5, 3, 5, 6,\n",
      "                   8, 5, 6, 2, 4, 9, 8, 5, 0, 5, 5, 3, 9, 3, 0, 0, 0, 6, 9, 9, 2, 3, 4, 9,\n",
      "                   0, 4, 6, 6, 5, 2, 6, 8, 6, 4, 3, 1, 1, 0, 6, 9, 8, 1, 9, 0, 9, 9, 5, 8])),\n",
      "               names=('seed_nodes', 'labels'),\n",
      "           ),\n",
      "           test_set=ItemSet(\n",
      "               items=(tensor([125, 449, 499, 729, 153, 684, 823, 219, 443, 473, 155, 867,  15, 497,\n",
      "                   723, 108, 759, 573, 326, 432, 627, 272, 230,  25, 925, 541, 613, 795,\n",
      "                   672, 232, 595,  44, 658,  17, 609, 414, 870, 695, 293,  14, 360, 475,\n",
      "                   574, 589, 281, 118, 753, 322,  96, 972, 638, 298, 512, 607, 402, 250,\n",
      "                   585, 824, 407, 336, 881, 252, 342, 661, 377, 660, 693, 546, 728, 976,\n",
      "                   297, 852, 216, 741, 525, 310, 686, 726, 720, 180, 470,  65, 706, 647,\n",
      "                   259, 821, 500, 264, 553, 600, 675, 889, 215, 650,  64, 864, 201, 225,\n",
      "                   828, 708, 274, 351, 959, 439, 305, 371, 906, 515, 495,  58, 521, 399,\n",
      "                   954, 716, 277, 984,  47, 856,  38, 157, 361,  72, 111, 534, 253, 649,\n",
      "                   102, 418, 248, 327,  57, 747, 926,  60, 130, 790, 990, 105, 106, 840,\n",
      "                    55, 571, 604, 493, 286, 364,  85, 523, 539, 930, 683, 171, 160, 135,\n",
      "                   692,  83, 140, 524,  86, 329, 183, 328, 446, 784, 945, 323, 734, 562,\n",
      "                   185, 527, 842, 733, 301, 994, 866, 393, 343, 732, 296, 988, 673, 365,\n",
      "                   772, 597, 982, 845,  40, 304, 907, 459, 648, 376, 774, 381, 158, 193,\n",
      "                   825, 771, 748, 654], dtype=torch.int32), tensor([3, 8, 0, 7, 3, 2, 8, 4, 8, 2, 6, 9, 0, 9, 1, 0, 5, 8, 7, 0, 1, 5, 6, 6,\n",
      "                   3, 2, 0, 0, 4, 3, 0, 1, 8, 9, 6, 5, 4, 0, 1, 8, 8, 2, 6, 6, 3, 9, 2, 0,\n",
      "                   8, 0, 3, 0, 7, 2, 9, 4, 0, 6, 2, 4, 4, 9, 0, 4, 0, 2, 7, 8, 3, 3, 0, 8,\n",
      "                   5, 3, 7, 0, 2, 7, 2, 7, 2, 1, 0, 6, 7, 6, 5, 8, 6, 8, 2, 0, 7, 4, 4, 4,\n",
      "                   9, 2, 9, 6, 3, 3, 8, 0, 3, 5, 5, 0, 3, 7, 5, 9, 3, 7, 4, 8, 6, 5, 6, 3,\n",
      "                   1, 2, 9, 5, 3, 7, 4, 7, 0, 7, 9, 9, 8, 5, 9, 3, 8, 3, 8, 8, 3, 3, 3, 2,\n",
      "                   4, 7, 7, 0, 5, 9, 7, 4, 7, 2, 5, 4, 4, 8, 6, 2, 3, 4, 2, 2, 2, 3, 5, 5,\n",
      "                   8, 9, 0, 4, 9, 8, 8, 5, 9, 0, 5, 6, 8, 4, 7, 5, 4, 2, 5, 9, 4, 9, 2, 1,\n",
      "                   4, 7, 9, 8, 2, 2, 0, 8])),\n",
      "               names=('seed_nodes', 'labels'),\n",
      "           ),\n",
      "           metadata={'name': 'node_classification', 'num_classes': 10},)\n",
      "\n",
      "Loaded link prediction task: OnDiskTask(validation_set=ItemSet(\n",
      "               items=(tensor([[790, 686],\n",
      "                   [705, 809],\n",
      "                   [328, 379],\n",
      "                   ...,\n",
      "                   [356, 384],\n",
      "                   [517, 126],\n",
      "                   [656,  58]], dtype=torch.int32), tensor([[913, 215, 793,  ..., 443, 617,  78],\n",
      "                   [814, 805, 227,  ..., 780, 333, 363],\n",
      "                   [ 38, 771, 777,  ..., 981, 986, 392],\n",
      "                   ...,\n",
      "                   [853, 527, 240,  ..., 229,  82, 683],\n",
      "                   [910, 940, 590,  ..., 570, 989, 225],\n",
      "                   [ 76, 757, 277,  ..., 332, 434, 334]], dtype=torch.int32)),\n",
      "               names=('node_pairs', 'negative_dsts'),\n",
      "           ),\n",
      "           train_set=ItemSet(\n",
      "               items=(tensor([[130, 592],\n",
      "                   [168, 424],\n",
      "                   [355, 451],\n",
      "                   ...,\n",
      "                   [602, 235],\n",
      "                   [924, 556],\n",
      "                   [384, 614]], dtype=torch.int32),),\n",
      "               names=('node_pairs',),\n",
      "           ),\n",
      "           test_set=ItemSet(\n",
      "               items=(tensor([762, 336], dtype=torch.int32), tensor([[256, 959, 956,  ..., 856,  64, 586],\n",
      "                   [ 88, 451, 391,  ..., 941, 228, 435],\n",
      "                   [213, 154, 819,  ..., 531, 594, 725],\n",
      "                   ...,\n",
      "                   [725, 350, 467,  ..., 154, 683, 566],\n",
      "                   [206, 284, 402,  ..., 424,  77, 335],\n",
      "                   [955, 698, 543,  ..., 641, 156, 146]], dtype=torch.int32)),\n",
      "               names=('node_pairs', 'negative_dsts'),\n",
      "           ),\n",
      "           metadata={'name': 'link_prediction', 'num_classes': 10},)\n",
      "\n"
     ]
    },
    {
     "name": "stderr",
     "output_type": "stream",
     "text": [
      "/home/ubuntu/regression_test/dgl/python/dgl/graphbolt/impl/ondisk_dataset.py:464: DGLWarning: Edge feature is stored, but edge IDs are not saved.\n",
      "  dgl_warning(\"Edge feature is stored, but edge IDs are not saved.\")\n"
     ]
    }
   ],
   "source": [
    "dataset = gb.OnDiskDataset(base_dir).load()\n",
    "graph = dataset.graph\n",
    "print(f\"Loaded graph: {graph}\\n\")\n",
    "\n",
    "feature = dataset.feature\n",
    "print(f\"Loaded feature store: {feature}\\n\")\n",
    "\n",
    "tasks = dataset.tasks\n",
    "nc_task = tasks[0]\n",
    "print(f\"Loaded node classification task: {nc_task}\\n\")\n",
    "lp_task = tasks[1]\n",
    "print(f\"Loaded link prediction task: {lp_task}\\n\")"
   ]
  }
 ],
 "metadata": {
  "colab": {
   "private_outputs": true,
   "provenance": []
  },
  "kernelspec": {
   "display_name": "Python 3",
   "name": "python3"
  },
  "language_info": {
   "codemirror_mode": {
    "name": "ipython",
    "version": 3
   },
   "file_extension": ".py",
   "mimetype": "text/x-python",
   "name": "python",
   "nbconvert_exporter": "python",
   "pygments_lexer": "ipython3",
   "version": "3.10.14"
  }
 },
 "nbformat": 4,
 "nbformat_minor": 0
}

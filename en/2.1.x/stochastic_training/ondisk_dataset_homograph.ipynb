{
 "cells": [
  {
   "cell_type": "markdown",
   "metadata": {
    "id": "FnFhPMaAfLtJ"
   },
   "source": [
    "# OnDiskDataset for Homogeneous Graph\n",
    "\n",
    "[![Open In Colab](https://colab.research.google.com/assets/colab-badge.svg)](https://colab.research.google.com/github/dmlc/dgl/blob/master/notebooks/stochastic_training/ondisk_dataset_homograph.ipynb) [![GitHub](https://img.shields.io/badge/-View%20on%20GitHub-181717?logo=github&logoColor=ffffff)](https://github.com/dmlc/dgl/blob/master/notebooks/stochastic_training/ondisk_dataset_homograph.ipynb)\n",
    "\n",
    "This tutorial shows how to create `OnDiskDataset` for homogeneous graph that could be used in **GraphBolt** framework.\n",
    "\n",
    "By the end of this tutorial, you will be able to\n",
    "\n",
    "- organize graph structure data.\n",
    "- organize feature data.\n",
    "- organize training/validation/test set for specific tasks.\n",
    "\n",
    "To create an ``OnDiskDataset`` object, you need to organize all the data including graph structure, feature data and tasks into a directory. The directory should contain a ``metadata.yaml`` file that describes the metadata of the dataset.\n",
    "\n",
    "Now let's generate various data step by step and organize them together to instantiate `OnDiskDataset` finally."
   ]
  },
  {
   "cell_type": "markdown",
   "metadata": {
    "id": "Wlb19DtWgtzq"
   },
   "source": [
    "## Install DGL package"
   ]
  },
  {
   "cell_type": "code",
   "execution_count": 1,
   "metadata": {
    "execution": {
     "iopub.execute_input": "2024-09-02T05:16:37.897383Z",
     "iopub.status.busy": "2024-09-02T05:16:37.897003Z",
     "iopub.status.idle": "2024-09-02T05:16:41.636527Z",
     "shell.execute_reply": "2024-09-02T05:16:41.635837Z"
    },
    "id": "UojlT9ZGgyr9"
   },
   "outputs": [
    {
     "name": "stdout",
     "output_type": "stream",
     "text": [
      "Looking in links: https://data.dgl.ai/wheels-test/repo.html\r\n",
      "Requirement already satisfied: dgl in /opt/conda/envs/dgl-dev-cpu/lib/python3.10/site-packages (2.2a240410)\r\n",
      "Requirement already satisfied: numpy>=1.14.0 in /opt/conda/envs/dgl-dev-cpu/lib/python3.10/site-packages (from dgl) (1.26.4)\r\n",
      "Requirement already satisfied: scipy>=1.1.0 in /opt/conda/envs/dgl-dev-cpu/lib/python3.10/site-packages (from dgl) (1.14.0)\r\n",
      "Requirement already satisfied: networkx>=2.1 in /opt/conda/envs/dgl-dev-cpu/lib/python3.10/site-packages (from dgl) (3.3)\r\n",
      "Requirement already satisfied: requests>=2.19.0 in /opt/conda/envs/dgl-dev-cpu/lib/python3.10/site-packages (from dgl) (2.32.3)\r\n",
      "Requirement already satisfied: tqdm in /opt/conda/envs/dgl-dev-cpu/lib/python3.10/site-packages (from dgl) (4.66.5)\r\n",
      "Requirement already satisfied: psutil>=5.8.0 in /opt/conda/envs/dgl-dev-cpu/lib/python3.10/site-packages (from dgl) (6.0.0)\r\n",
      "Requirement already satisfied: torchdata>=0.5.0 in /opt/conda/envs/dgl-dev-cpu/lib/python3.10/site-packages (from dgl) (0.7.1)\r\n",
      "Requirement already satisfied: pandas in /opt/conda/envs/dgl-dev-cpu/lib/python3.10/site-packages (from dgl) (2.2.2)\r\n"
     ]
    },
    {
     "name": "stdout",
     "output_type": "stream",
     "text": [
      "Requirement already satisfied: charset-normalizer<4,>=2 in /opt/conda/envs/dgl-dev-cpu/lib/python3.10/site-packages (from requests>=2.19.0->dgl) (3.3.2)\r\n",
      "Requirement already satisfied: idna<4,>=2.5 in /opt/conda/envs/dgl-dev-cpu/lib/python3.10/site-packages (from requests>=2.19.0->dgl) (3.8)\r\n",
      "Requirement already satisfied: urllib3<3,>=1.21.1 in /opt/conda/envs/dgl-dev-cpu/lib/python3.10/site-packages (from requests>=2.19.0->dgl) (2.2.2)\r\n",
      "Requirement already satisfied: certifi>=2017.4.17 in /opt/conda/envs/dgl-dev-cpu/lib/python3.10/site-packages (from requests>=2.19.0->dgl) (2024.7.4)\r\n",
      "Requirement already satisfied: torch>=2 in /opt/conda/envs/dgl-dev-cpu/lib/python3.10/site-packages (from torchdata>=0.5.0->dgl) (2.4.0+cpu)\r\n"
     ]
    },
    {
     "name": "stdout",
     "output_type": "stream",
     "text": [
      "Requirement already satisfied: python-dateutil>=2.8.2 in /opt/conda/envs/dgl-dev-cpu/lib/python3.10/site-packages (from pandas->dgl) (2.9.0.post0)\r\n",
      "Requirement already satisfied: pytz>=2020.1 in /opt/conda/envs/dgl-dev-cpu/lib/python3.10/site-packages (from pandas->dgl) (2024.1)\r\n",
      "Requirement already satisfied: tzdata>=2022.7 in /opt/conda/envs/dgl-dev-cpu/lib/python3.10/site-packages (from pandas->dgl) (2024.1)\r\n",
      "Requirement already satisfied: six>=1.5 in /opt/conda/envs/dgl-dev-cpu/lib/python3.10/site-packages (from python-dateutil>=2.8.2->pandas->dgl) (1.16.0)\r\n",
      "Requirement already satisfied: filelock in /opt/conda/envs/dgl-dev-cpu/lib/python3.10/site-packages (from torch>=2->torchdata>=0.5.0->dgl) (3.15.4)\r\n",
      "Requirement already satisfied: typing-extensions>=4.8.0 in /opt/conda/envs/dgl-dev-cpu/lib/python3.10/site-packages (from torch>=2->torchdata>=0.5.0->dgl) (4.12.2)\r\n",
      "Requirement already satisfied: sympy in /opt/conda/envs/dgl-dev-cpu/lib/python3.10/site-packages (from torch>=2->torchdata>=0.5.0->dgl) (1.13.2)\r\n",
      "Requirement already satisfied: jinja2 in /opt/conda/envs/dgl-dev-cpu/lib/python3.10/site-packages (from torch>=2->torchdata>=0.5.0->dgl) (3.1.4)\r\n",
      "Requirement already satisfied: fsspec in /opt/conda/envs/dgl-dev-cpu/lib/python3.10/site-packages (from torch>=2->torchdata>=0.5.0->dgl) (2024.6.1)\r\n"
     ]
    },
    {
     "name": "stdout",
     "output_type": "stream",
     "text": [
      "Requirement already satisfied: MarkupSafe>=2.0 in /opt/conda/envs/dgl-dev-cpu/lib/python3.10/site-packages (from jinja2->torch>=2->torchdata>=0.5.0->dgl) (2.1.5)\r\n",
      "Requirement already satisfied: mpmath<1.4,>=1.1.0 in /opt/conda/envs/dgl-dev-cpu/lib/python3.10/site-packages (from sympy->torch>=2->torchdata>=0.5.0->dgl) (1.3.0)\r\n"
     ]
    },
    {
     "name": "stdout",
     "output_type": "stream",
     "text": [
      "DGL installed!\n"
     ]
    }
   ],
   "source": [
    "# Install required packages.\n",
    "import os\n",
    "import torch\n",
    "import numpy as np\n",
    "os.environ['TORCH'] = torch.__version__\n",
    "os.environ['DGLBACKEND'] = \"pytorch\"\n",
    "\n",
    "# Install the CPU version.\n",
    "device = torch.device(\"cpu\")\n",
    "!pip install --pre dgl -f https://data.dgl.ai/wheels-test/repo.html\n",
    "\n",
    "try:\n",
    "    import dgl\n",
    "    import dgl.graphbolt as gb\n",
    "    installed = True\n",
    "except ImportError as error:\n",
    "    installed = False\n",
    "    print(error)\n",
    "print(\"DGL installed!\" if installed else \"DGL not found!\")"
   ]
  },
  {
   "cell_type": "markdown",
   "metadata": {
    "id": "2R7WnSbjsfbr"
   },
   "source": [
    "## Data preparation\n",
    "In order to demonstrate how to organize various data, let's create a base directory first."
   ]
  },
  {
   "cell_type": "code",
   "execution_count": 2,
   "metadata": {
    "execution": {
     "iopub.execute_input": "2024-09-02T05:16:41.639312Z",
     "iopub.status.busy": "2024-09-02T05:16:41.638957Z",
     "iopub.status.idle": "2024-09-02T05:16:41.642833Z",
     "shell.execute_reply": "2024-09-02T05:16:41.642212Z"
    },
    "id": "SZipbzyltLfO"
   },
   "outputs": [
    {
     "name": "stdout",
     "output_type": "stream",
     "text": [
      "Created base directory: ./ondisk_dataset_homograph\n"
     ]
    }
   ],
   "source": [
    "base_dir = './ondisk_dataset_homograph'\n",
    "os.makedirs(base_dir, exist_ok=True)\n",
    "print(f\"Created base directory: {base_dir}\")"
   ]
  },
  {
   "cell_type": "markdown",
   "metadata": {
    "id": "qhNtIn_xhlnl"
   },
   "source": [
    "### Generate graph structure data\n",
    "For homogeneous graph, we just need to save edges(namely node pairs) into  **Numpy** or **CSV** file.\n",
    "\n",
    "Note:\n",
    "- when saving to **Numpy**, the array requires to be in shape of `(2, N)`. This format is recommended as constructing graph from it is much faster than **CSV** file.\n",
    "- when saving to **CSV** file, do not save index and header.\n"
   ]
  },
  {
   "cell_type": "code",
   "execution_count": 3,
   "metadata": {
    "execution": {
     "iopub.execute_input": "2024-09-02T05:16:41.645162Z",
     "iopub.status.busy": "2024-09-02T05:16:41.644790Z",
     "iopub.status.idle": "2024-09-02T05:16:41.657623Z",
     "shell.execute_reply": "2024-09-02T05:16:41.656941Z"
    },
    "id": "HcBt4G5BmSjr"
   },
   "outputs": [
    {
     "name": "stdout",
     "output_type": "stream",
     "text": [
      "Part of edges: [[770 593]\n",
      " [899 132]\n",
      " [984 895]\n",
      " [710 114]\n",
      " [158 460]]\n",
      "Edges are saved into ./ondisk_dataset_homograph/edges.csv\n"
     ]
    }
   ],
   "source": [
    "import numpy as np\n",
    "import pandas as pd\n",
    "num_nodes = 1000\n",
    "num_edges = 10 * num_nodes\n",
    "edges_path = os.path.join(base_dir, \"edges.csv\")\n",
    "edges = np.random.randint(0, num_nodes, size=(num_edges, 2))\n",
    "\n",
    "print(f\"Part of edges: {edges[:5, :]}\")\n",
    "\n",
    "df = pd.DataFrame(edges)\n",
    "df.to_csv(edges_path, index=False, header=False)\n",
    "\n",
    "print(f\"Edges are saved into {edges_path}\")"
   ]
  },
  {
   "cell_type": "markdown",
   "metadata": {
    "id": "kh-4cPtzpcaH"
   },
   "source": [
    "### Generate feature data for graph\n",
    "For feature data, numpy arrays and torch tensors are supported for now."
   ]
  },
  {
   "cell_type": "code",
   "execution_count": 4,
   "metadata": {
    "execution": {
     "iopub.execute_input": "2024-09-02T05:16:41.660011Z",
     "iopub.status.busy": "2024-09-02T05:16:41.659704Z",
     "iopub.status.idle": "2024-09-02T05:16:41.690198Z",
     "shell.execute_reply": "2024-09-02T05:16:41.689699Z"
    },
    "id": "_PVu1u5brBhF"
   },
   "outputs": [
    {
     "name": "stdout",
     "output_type": "stream",
     "text": [
      "Part of node feature [feat_0]: [[0.38543614 0.22465504 0.64228013 0.38436326 0.32674977]\n",
      " [0.85105561 0.53272456 0.47538932 0.51935925 0.61698602]\n",
      " [0.68114711 0.39681254 0.94948326 0.16380824 0.53758468]]\n",
      "Node feature [feat_0] is saved to ./ondisk_dataset_homograph/node-feat-0.npy\n",
      "\n",
      "Part of node feature [feat_1]: tensor([[0.9403, 0.1102, 0.0999, 0.0720, 0.0912],\n",
      "        [0.6363, 0.3928, 0.4284, 0.3669, 0.0948],\n",
      "        [0.5058, 0.3533, 0.7585, 0.8824, 0.6728]])\n",
      "Node feature [feat_1] is saved to ./ondisk_dataset_homograph/node-feat-1.pt\n",
      "\n",
      "Part of edge feature [feat_0]: [[0.7548832  0.16318736 0.70374076 0.54977932 0.02472519]\n",
      " [0.12086045 0.88495901 0.71088564 0.12201551 0.75553017]\n",
      " [0.27191255 0.62862347 0.91489781 0.10180156 0.03895984]]\n",
      "Edge feature [feat_0] is saved to ./ondisk_dataset_homograph/edge-feat-0.npy\n",
      "\n",
      "Part of edge feature [feat_1]: tensor([[0.4957, 0.9712, 0.3411, 0.3476, 0.9012],\n",
      "        [0.9399, 0.0179, 0.8011, 0.8141, 0.3040],\n",
      "        [0.2688, 0.4745, 0.3827, 0.7418, 0.9422]])\n",
      "Edge feature [feat_1] is saved to ./ondisk_dataset_homograph/edge-feat-1.pt\n",
      "\n"
     ]
    }
   ],
   "source": [
    "# Generate node feature in numpy array.\n",
    "node_feat_0_path = os.path.join(base_dir, \"node-feat-0.npy\")\n",
    "node_feat_0 = np.random.rand(num_nodes, 5)\n",
    "print(f\"Part of node feature [feat_0]: {node_feat_0[:3, :]}\")\n",
    "np.save(node_feat_0_path, node_feat_0)\n",
    "print(f\"Node feature [feat_0] is saved to {node_feat_0_path}\\n\")\n",
    "\n",
    "# Generate another node feature in torch tensor\n",
    "node_feat_1_path = os.path.join(base_dir, \"node-feat-1.pt\")\n",
    "node_feat_1 = torch.rand(num_nodes, 5)\n",
    "print(f\"Part of node feature [feat_1]: {node_feat_1[:3, :]}\")\n",
    "torch.save(node_feat_1, node_feat_1_path)\n",
    "print(f\"Node feature [feat_1] is saved to {node_feat_1_path}\\n\")\n",
    "\n",
    "# Generate edge feature in numpy array.\n",
    "edge_feat_0_path = os.path.join(base_dir, \"edge-feat-0.npy\")\n",
    "edge_feat_0 = np.random.rand(num_edges, 5)\n",
    "print(f\"Part of edge feature [feat_0]: {edge_feat_0[:3, :]}\")\n",
    "np.save(edge_feat_0_path, edge_feat_0)\n",
    "print(f\"Edge feature [feat_0] is saved to {edge_feat_0_path}\\n\")\n",
    "\n",
    "# Generate another edge feature in torch tensor\n",
    "edge_feat_1_path = os.path.join(base_dir, \"edge-feat-1.pt\")\n",
    "edge_feat_1 = torch.rand(num_edges, 5)\n",
    "print(f\"Part of edge feature [feat_1]: {edge_feat_1[:3, :]}\")\n",
    "torch.save(edge_feat_1, edge_feat_1_path)\n",
    "print(f\"Edge feature [feat_1] is saved to {edge_feat_1_path}\\n\")\n"
   ]
  },
  {
   "cell_type": "markdown",
   "metadata": {
    "id": "ZyqgOtsIwzh_"
   },
   "source": [
    "### Generate tasks\n",
    "`OnDiskDataset` supports multiple tasks. For each task, we need to prepare training/validation/test sets respectively. Such sets usually vary among different tasks. In this tutorial, let's create a **Node Classification** task and **Link Prediction** task."
   ]
  },
  {
   "cell_type": "markdown",
   "metadata": {
    "id": "hVxHaDIfzCkr"
   },
   "source": [
    "#### Node Classification Task\n",
    "For node classification task, we need **node IDs** and corresponding **labels** for each training/validation/test set. Like feature data, numpy arrays and torch tensors are supported for these sets."
   ]
  },
  {
   "cell_type": "code",
   "execution_count": 5,
   "metadata": {
    "execution": {
     "iopub.execute_input": "2024-09-02T05:16:41.692573Z",
     "iopub.status.busy": "2024-09-02T05:16:41.692189Z",
     "iopub.status.idle": "2024-09-02T05:16:41.701801Z",
     "shell.execute_reply": "2024-09-02T05:16:41.701294Z"
    },
    "id": "S5-fyBbHzTCO"
   },
   "outputs": [
    {
     "name": "stdout",
     "output_type": "stream",
     "text": [
      "Part of train ids for node classification: [267 597 539]\n",
      "NC train ids are saved to ./ondisk_dataset_homograph/nc-train-ids.npy\n",
      "\n",
      "Part of train labels for node classification: tensor([7, 3, 4])\n",
      "NC train labels are saved to ./ondisk_dataset_homograph/nc-train-labels.pt\n",
      "\n",
      "Part of val ids for node classification: [133 426 596]\n",
      "NC val ids are saved to ./ondisk_dataset_homograph/nc-val-ids.npy\n",
      "\n",
      "Part of val labels for node classification: tensor([3, 6, 0])\n",
      "NC val labels are saved to ./ondisk_dataset_homograph/nc-val-labels.pt\n",
      "\n",
      "Part of test ids for node classification: [424 336 945]\n",
      "NC test ids are saved to ./ondisk_dataset_homograph/nc-test-ids.npy\n",
      "\n",
      "Part of test labels for node classification: tensor([2, 7, 9])\n",
      "NC test labels are saved to ./ondisk_dataset_homograph/nc-test-labels.pt\n",
      "\n"
     ]
    }
   ],
   "source": [
    "num_trains = int(num_nodes * 0.6)\n",
    "num_vals = int(num_nodes * 0.2)\n",
    "num_tests = num_nodes - num_trains - num_vals\n",
    "\n",
    "ids = np.arange(num_nodes)\n",
    "np.random.shuffle(ids)\n",
    "\n",
    "nc_train_ids_path = os.path.join(base_dir, \"nc-train-ids.npy\")\n",
    "nc_train_ids = ids[:num_trains]\n",
    "print(f\"Part of train ids for node classification: {nc_train_ids[:3]}\")\n",
    "np.save(nc_train_ids_path, nc_train_ids)\n",
    "print(f\"NC train ids are saved to {nc_train_ids_path}\\n\")\n",
    "\n",
    "nc_train_labels_path = os.path.join(base_dir, \"nc-train-labels.pt\")\n",
    "nc_train_labels = torch.randint(0, 10, (num_trains,))\n",
    "print(f\"Part of train labels for node classification: {nc_train_labels[:3]}\")\n",
    "torch.save(nc_train_labels, nc_train_labels_path)\n",
    "print(f\"NC train labels are saved to {nc_train_labels_path}\\n\")\n",
    "\n",
    "nc_val_ids_path = os.path.join(base_dir, \"nc-val-ids.npy\")\n",
    "nc_val_ids = ids[num_trains:num_trains+num_vals]\n",
    "print(f\"Part of val ids for node classification: {nc_val_ids[:3]}\")\n",
    "np.save(nc_val_ids_path, nc_val_ids)\n",
    "print(f\"NC val ids are saved to {nc_val_ids_path}\\n\")\n",
    "\n",
    "nc_val_labels_path = os.path.join(base_dir, \"nc-val-labels.pt\")\n",
    "nc_val_labels = torch.randint(0, 10, (num_vals,))\n",
    "print(f\"Part of val labels for node classification: {nc_val_labels[:3]}\")\n",
    "torch.save(nc_val_labels, nc_val_labels_path)\n",
    "print(f\"NC val labels are saved to {nc_val_labels_path}\\n\")\n",
    "\n",
    "nc_test_ids_path = os.path.join(base_dir, \"nc-test-ids.npy\")\n",
    "nc_test_ids = ids[-num_tests:]\n",
    "print(f\"Part of test ids for node classification: {nc_test_ids[:3]}\")\n",
    "np.save(nc_test_ids_path, nc_test_ids)\n",
    "print(f\"NC test ids are saved to {nc_test_ids_path}\\n\")\n",
    "\n",
    "nc_test_labels_path = os.path.join(base_dir, \"nc-test-labels.pt\")\n",
    "nc_test_labels = torch.randint(0, 10, (num_tests,))\n",
    "print(f\"Part of test labels for node classification: {nc_test_labels[:3]}\")\n",
    "torch.save(nc_test_labels, nc_test_labels_path)\n",
    "print(f\"NC test labels are saved to {nc_test_labels_path}\\n\")"
   ]
  },
  {
   "cell_type": "markdown",
   "metadata": {
    "id": "LhAcDCHQ_KJ0"
   },
   "source": [
    "#### Link Prediction Task\n",
    "For link prediction task, we need **node pairs** or **negative src/dsts** for each training/validation/test set. Like feature data, numpy arrays and torch tensors are supported for these sets."
   ]
  },
  {
   "cell_type": "code",
   "execution_count": 6,
   "metadata": {
    "execution": {
     "iopub.execute_input": "2024-09-02T05:16:41.704017Z",
     "iopub.status.busy": "2024-09-02T05:16:41.703716Z",
     "iopub.status.idle": "2024-09-02T05:16:41.713308Z",
     "shell.execute_reply": "2024-09-02T05:16:41.712804Z"
    },
    "id": "u0jCnXIcAQy4"
   },
   "outputs": [
    {
     "name": "stdout",
     "output_type": "stream",
     "text": [
      "Part of train node pairs for link prediction: [[770 593]\n",
      " [899 132]\n",
      " [984 895]]\n",
      "LP train node pairs are saved to ./ondisk_dataset_homograph/lp-train-node-pairs.npy\n",
      "\n",
      "Part of val node pairs for link prediction: [[292 975]\n",
      " [480 431]\n",
      " [464  88]]\n",
      "LP val node pairs are saved to ./ondisk_dataset_homograph/lp-val-node-pairs.npy\n",
      "\n",
      "Part of val negative dsts for link prediction: tensor([[431, 396, 233, 953, 264, 591, 955, 852, 104, 610],\n",
      "        [177, 543, 470, 393, 862, 695, 248, 684, 756,  81],\n",
      "        [826, 897,  18, 580, 994, 785, 300,  36, 524, 484]])\n",
      "LP val negative dsts are saved to ./ondisk_dataset_homograph/lp-val-neg-dsts.pt\n",
      "\n",
      "Part of test node pairs for link prediction: [256 155]\n",
      "LP test node pairs are saved to ./ondisk_dataset_homograph/lp-test-node-pairs.npy\n",
      "\n",
      "Part of test negative dsts for link prediction: tensor([[963, 773,  10, 433, 466, 422, 263,  18, 629, 618],\n",
      "        [224, 627, 355, 333, 653, 959, 830, 582, 488, 595],\n",
      "        [230, 463, 700, 133, 323, 907, 206, 150,  73, 142]])\n",
      "LP test negative dsts are saved to ./ondisk_dataset_homograph/lp-test-neg-dsts.pt\n",
      "\n"
     ]
    }
   ],
   "source": [
    "num_trains = int(num_edges * 0.6)\n",
    "num_vals = int(num_edges * 0.2)\n",
    "num_tests = num_edges - num_trains - num_vals\n",
    "\n",
    "lp_train_node_pairs_path = os.path.join(base_dir, \"lp-train-node-pairs.npy\")\n",
    "lp_train_node_pairs = edges[:num_trains, :]\n",
    "print(f\"Part of train node pairs for link prediction: {lp_train_node_pairs[:3]}\")\n",
    "np.save(lp_train_node_pairs_path, lp_train_node_pairs)\n",
    "print(f\"LP train node pairs are saved to {lp_train_node_pairs_path}\\n\")\n",
    "\n",
    "lp_val_node_pairs_path = os.path.join(base_dir, \"lp-val-node-pairs.npy\")\n",
    "lp_val_node_pairs = edges[num_trains:num_trains+num_vals, :]\n",
    "print(f\"Part of val node pairs for link prediction: {lp_val_node_pairs[:3]}\")\n",
    "np.save(lp_val_node_pairs_path, lp_val_node_pairs)\n",
    "print(f\"LP val node pairs are saved to {lp_val_node_pairs_path}\\n\")\n",
    "\n",
    "lp_val_neg_dsts_path = os.path.join(base_dir, \"lp-val-neg-dsts.pt\")\n",
    "lp_val_neg_dsts = torch.randint(0, num_nodes, (num_vals, 10))\n",
    "print(f\"Part of val negative dsts for link prediction: {lp_val_neg_dsts[:3]}\")\n",
    "torch.save(lp_val_neg_dsts, lp_val_neg_dsts_path)\n",
    "print(f\"LP val negative dsts are saved to {lp_val_neg_dsts_path}\\n\")\n",
    "\n",
    "lp_test_node_pairs_path = os.path.join(base_dir, \"lp-test-node-pairs.npy\")\n",
    "lp_test_node_pairs = edges[-num_tests, :]\n",
    "print(f\"Part of test node pairs for link prediction: {lp_test_node_pairs[:3]}\")\n",
    "np.save(lp_test_node_pairs_path, lp_test_node_pairs)\n",
    "print(f\"LP test node pairs are saved to {lp_test_node_pairs_path}\\n\")\n",
    "\n",
    "lp_test_neg_dsts_path = os.path.join(base_dir, \"lp-test-neg-dsts.pt\")\n",
    "lp_test_neg_dsts = torch.randint(0, num_nodes, (num_tests, 10))\n",
    "print(f\"Part of test negative dsts for link prediction: {lp_test_neg_dsts[:3]}\")\n",
    "torch.save(lp_test_neg_dsts, lp_test_neg_dsts_path)\n",
    "print(f\"LP test negative dsts are saved to {lp_test_neg_dsts_path}\\n\")"
   ]
  },
  {
   "cell_type": "markdown",
   "metadata": {
    "id": "wbk6-wxRK-6S"
   },
   "source": [
    "## Organize Data into YAML File\n",
    "Now we need to create a `metadata.yaml` file which contains the paths, dadta types of graph structure, feature data, training/validation/test sets.\n",
    "\n",
    "Notes:\n",
    "- all path should be relative to `metadata.yaml`.\n",
    "- Below fields are optional and not specified in below example.\n",
    "  - `in_memory`: indicates whether to load dada into memory or `mmap`. Default is `True`.\n",
    "\n",
    "Please refer to [YAML specification](https://github.com/dmlc/dgl/blob/master/docs/source/stochastic_training/ondisk-dataset-specification.rst) for more details."
   ]
  },
  {
   "cell_type": "code",
   "execution_count": 7,
   "metadata": {
    "execution": {
     "iopub.execute_input": "2024-09-02T05:16:41.715515Z",
     "iopub.status.busy": "2024-09-02T05:16:41.715323Z",
     "iopub.status.idle": "2024-09-02T05:16:41.720154Z",
     "shell.execute_reply": "2024-09-02T05:16:41.719671Z"
    },
    "id": "ddGTWW61Lpwp"
   },
   "outputs": [],
   "source": [
    "yaml_content = f\"\"\"\n",
    "    dataset_name: homogeneous_graph_nc_lp\n",
    "    graph:\n",
    "      nodes:\n",
    "        - num: {num_nodes}\n",
    "      edges:\n",
    "        - format: csv\n",
    "          path: {os.path.basename(edges_path)}\n",
    "    feature_data:\n",
    "      - domain: node\n",
    "        name: feat_0\n",
    "        format: numpy\n",
    "        path: {os.path.basename(node_feat_0_path)}\n",
    "      - domain: node\n",
    "        name: feat_1\n",
    "        format: torch\n",
    "        path: {os.path.basename(node_feat_1_path)}\n",
    "      - domain: edge\n",
    "        name: feat_0\n",
    "        format: numpy\n",
    "        path: {os.path.basename(edge_feat_0_path)}\n",
    "      - domain: edge\n",
    "        name: feat_1\n",
    "        format: torch\n",
    "        path: {os.path.basename(edge_feat_1_path)}\n",
    "    tasks:\n",
    "      - name: node_classification\n",
    "        num_classes: 10\n",
    "        train_set:\n",
    "          - data:\n",
    "              - name: seed_nodes\n",
    "                format: numpy\n",
    "                path: {os.path.basename(nc_train_ids_path)}\n",
    "              - name: labels\n",
    "                format: torch\n",
    "                path: {os.path.basename(nc_train_labels_path)}\n",
    "        validation_set:\n",
    "          - data:\n",
    "              - name: seed_nodes\n",
    "                format: numpy\n",
    "                path: {os.path.basename(nc_val_ids_path)}\n",
    "              - name: labels\n",
    "                format: torch\n",
    "                path: {os.path.basename(nc_val_labels_path)}\n",
    "        test_set:\n",
    "          - data:\n",
    "              - name: seed_nodes\n",
    "                format: numpy\n",
    "                path: {os.path.basename(nc_test_ids_path)}\n",
    "              - name: labels\n",
    "                format: torch\n",
    "                path: {os.path.basename(nc_test_labels_path)}\n",
    "      - name: link_prediction\n",
    "        num_classes: 10\n",
    "        train_set:\n",
    "          - data:\n",
    "              - name: node_pairs\n",
    "                format: numpy\n",
    "                path: {os.path.basename(lp_train_node_pairs_path)}\n",
    "        validation_set:\n",
    "          - data:\n",
    "              - name: node_pairs\n",
    "                format: numpy\n",
    "                path: {os.path.basename(lp_val_node_pairs_path)}\n",
    "              - name: negative_dsts\n",
    "                format: torch\n",
    "                path: {os.path.basename(lp_val_neg_dsts_path)}\n",
    "        test_set:\n",
    "          - data:\n",
    "              - name: node_pairs\n",
    "                format: numpy\n",
    "                path: {os.path.basename(lp_test_node_pairs_path)}\n",
    "              - name: negative_dsts\n",
    "                format: torch\n",
    "                path: {os.path.basename(lp_test_neg_dsts_path)}\n",
    "\"\"\"\n",
    "metadata_path = os.path.join(base_dir, \"metadata.yaml\")\n",
    "with open(metadata_path, \"w\") as f:\n",
    "  f.write(yaml_content)"
   ]
  },
  {
   "cell_type": "markdown",
   "metadata": {
    "id": "kEfybHGhOW7O"
   },
   "source": [
    "## Instantiate `OnDiskDataset`\n",
    "Now we're ready to load dataset via `dgl.graphbolt.OnDiskDataset`. When instantiating, we just pass in the base directory where `metadata.yaml` file lies.\n",
    "\n",
    "During first instantiation, GraphBolt preprocesses the raw data such as constructing `FusedCSCSamplingGraph` from edges. All data including graph, feature data, training/validation/test sets are put into `preprocessed` directory after preprocessing. Any following dataset loading will skip the preprocess stage.\n",
    "\n",
    "After preprocessing, `load()` is required to be called explicitly in order to load graph, feature data and tasks."
   ]
  },
  {
   "cell_type": "code",
   "execution_count": 8,
   "metadata": {
    "execution": {
     "iopub.execute_input": "2024-09-02T05:16:41.722286Z",
     "iopub.status.busy": "2024-09-02T05:16:41.721984Z",
     "iopub.status.idle": "2024-09-02T05:16:41.799477Z",
     "shell.execute_reply": "2024-09-02T05:16:41.798964Z"
    },
    "id": "W58CZoSzOiyo"
   },
   "outputs": [
    {
     "name": "stdout",
     "output_type": "stream",
     "text": [
      "The on-disk dataset is re-preprocessing, so the existing preprocessed dataset has been removed.\n",
      "Start to preprocess the on-disk dataset.\n",
      "Finish preprocessing the on-disk dataset.\n",
      "Loaded graph: FusedCSCSamplingGraph(csc_indptr=tensor([    0,    15,    24,  ...,  9978,  9989, 10000], dtype=torch.int32),\n",
      "                      indices=tensor([796, 731, 774,  ..., 337, 266, 952], dtype=torch.int32),\n",
      "                      total_num_nodes=1000, num_edges=10000,)\n",
      "\n",
      "Loaded feature store: TorchBasedFeatureStore(\n",
      "    {(<OnDiskFeatureDataDomain.NODE: 'node'>, None, 'feat_0'): TorchBasedFeature(\n",
      "        feature=tensor([[0.3854, 0.2247, 0.6423, 0.3844, 0.3267],\n",
      "                        [0.8511, 0.5327, 0.4754, 0.5194, 0.6170],\n",
      "                        [0.6811, 0.3968, 0.9495, 0.1638, 0.5376],\n",
      "                        ...,\n",
      "                        [0.2102, 0.1036, 0.1148, 0.7578, 0.4061],\n",
      "                        [0.1775, 0.4147, 0.1488, 0.9441, 0.1976],\n",
      "                        [0.3996, 0.5885, 0.0446, 0.3045, 0.3619]], dtype=torch.float64),\n",
      "        metadata={},\n",
      "    ), (<OnDiskFeatureDataDomain.NODE: 'node'>, None, 'feat_1'): TorchBasedFeature(\n",
      "        feature=tensor([[0.9403, 0.1102, 0.0999, 0.0720, 0.0912],\n",
      "                        [0.6363, 0.3928, 0.4284, 0.3669, 0.0948],\n",
      "                        [0.5058, 0.3533, 0.7585, 0.8824, 0.6728],\n",
      "                        ...,\n",
      "                        [0.7628, 0.8800, 0.7120, 0.5735, 0.9645],\n",
      "                        [0.0284, 0.4874, 0.2144, 0.0913, 0.9561],\n",
      "                        [0.2426, 0.1010, 0.9801, 0.1178, 0.5040]]),\n",
      "        metadata={},\n",
      "    ), (<OnDiskFeatureDataDomain.EDGE: 'edge'>, None, 'feat_0'): TorchBasedFeature(\n",
      "        feature=tensor([[0.7549, 0.1632, 0.7037, 0.5498, 0.0247],\n",
      "                        [0.1209, 0.8850, 0.7109, 0.1220, 0.7555],\n",
      "                        [0.2719, 0.6286, 0.9149, 0.1018, 0.0390],\n",
      "                        ...,\n",
      "                        [0.8806, 0.8833, 0.0559, 0.0766, 0.6165],\n",
      "                        [0.9434, 0.0287, 0.1495, 0.1173, 0.6459],\n",
      "                        [0.2656, 0.7989, 0.9657, 0.2986, 0.3519]], dtype=torch.float64),\n",
      "        metadata={},\n",
      "    ), (<OnDiskFeatureDataDomain.EDGE: 'edge'>, None, 'feat_1'): TorchBasedFeature(\n",
      "        feature=tensor([[0.4957, 0.9712, 0.3411, 0.3476, 0.9012],\n",
      "                        [0.9399, 0.0179, 0.8011, 0.8141, 0.3040],\n",
      "                        [0.2688, 0.4745, 0.3827, 0.7418, 0.9422],\n",
      "                        ...,\n",
      "                        [0.5657, 0.1323, 0.3343, 0.8907, 0.2883],\n",
      "                        [0.1365, 0.3115, 0.2379, 0.7831, 0.1469],\n",
      "                        [0.9211, 0.0043, 0.9828, 0.0089, 0.9765]]),\n",
      "        metadata={},\n",
      "    )}\n",
      ")\n",
      "\n",
      "Loaded node classification task: OnDiskTask(validation_set=ItemSet(\n",
      "               items=(tensor([133, 426, 596, 410, 639, 124, 308, 714, 191, 829, 585,  56, 810, 710,\n",
      "                   275,  70, 993, 469, 401, 200, 819, 872, 347, 382, 736, 542, 987, 683,\n",
      "                   229, 748, 389,  12,  41, 487, 134, 497, 263, 563, 625, 882, 110,  63,\n",
      "                   485, 541, 230, 331, 732, 253, 577, 480, 167, 880,   6, 496, 668, 815,\n",
      "                   385, 698, 293, 989, 357, 875, 552, 219, 321, 307,  75, 138, 558, 451,\n",
      "                   492, 414, 769, 645, 176, 108, 616, 422, 839, 224, 570, 659, 602,  10,\n",
      "                   521, 202, 549, 649, 535, 695, 501, 196, 791, 711,  78,   7, 359, 675,\n",
      "                   284, 547, 807, 355,  38, 454, 983, 869,  64, 292, 236, 861, 540,  71,\n",
      "                   846, 346, 517, 614, 344, 268, 785, 750, 352, 722, 896,  14, 272, 221,\n",
      "                    15, 135, 258, 916, 122, 700, 318, 546, 578, 428, 778, 890, 684, 340,\n",
      "                   972, 314, 870, 528, 180, 589,  59, 746, 571, 446, 227, 505, 854, 576,\n",
      "                   118, 472, 463,  44, 912, 951, 657, 742, 304, 147, 671, 457, 203, 212,\n",
      "                   838, 315, 897, 524, 330,  34, 940, 394,  66, 881, 914, 177, 332, 562,\n",
      "                    90, 790, 966, 137, 941, 760, 491, 647, 848, 598, 964, 925, 294, 831,\n",
      "                   396, 238, 274, 201], dtype=torch.int32), tensor([3, 6, 0, 4, 2, 6, 0, 9, 4, 3, 6, 3, 0, 9, 3, 2, 9, 3, 5, 6, 0, 1, 7, 3,\n",
      "                   0, 1, 2, 9, 6, 7, 0, 2, 5, 3, 0, 9, 1, 9, 7, 3, 1, 2, 1, 1, 6, 0, 2, 2,\n",
      "                   7, 1, 4, 7, 5, 2, 6, 7, 6, 2, 1, 5, 4, 3, 7, 4, 0, 7, 6, 0, 7, 0, 0, 8,\n",
      "                   6, 9, 6, 0, 4, 7, 8, 7, 6, 3, 7, 8, 4, 4, 2, 4, 4, 6, 1, 0, 2, 1, 9, 3,\n",
      "                   0, 3, 5, 2, 3, 3, 0, 7, 0, 9, 6, 8, 8, 9, 1, 4, 6, 6, 1, 9, 8, 7, 9, 0,\n",
      "                   3, 9, 6, 5, 6, 5, 8, 1, 1, 6, 5, 6, 5, 1, 3, 6, 9, 0, 6, 2, 3, 0, 8, 9,\n",
      "                   1, 4, 4, 9, 9, 9, 9, 4, 3, 8, 5, 4, 1, 2, 8, 6, 9, 4, 2, 4, 3, 1, 1, 0,\n",
      "                   0, 0, 1, 5, 1, 9, 8, 9, 8, 5, 3, 9, 8, 1, 5, 2, 4, 5, 2, 5, 6, 2, 5, 2,\n",
      "                   7, 2, 1, 5, 4, 3, 2, 7])),\n",
      "               names=('seed_nodes', 'labels'),\n",
      "           ),\n",
      "           train_set=ItemSet(\n",
      "               items=(tensor([267, 597, 539, 922, 405, 878, 467, 519, 273, 567,  87, 397, 329, 169,\n",
      "                   775, 512, 729, 142, 956, 568,  91, 705, 443, 648,  84, 726, 218, 144,\n",
      "                   780, 590, 442, 605, 418, 289, 338, 834, 140, 757, 555, 303, 408, 127,\n",
      "                   603, 703, 125, 324, 437, 531, 610, 368, 453, 341, 939, 905, 462, 864,\n",
      "                   386, 500, 171, 924, 356, 968, 199, 694, 433, 402, 784, 621, 354, 723,\n",
      "                   145, 879, 225, 251, 789, 148, 837,  26, 445, 205, 952, 886, 174, 105,\n",
      "                   799, 513, 111, 693, 419, 974, 106, 622, 473, 888, 918, 479,  21, 526,\n",
      "                    83, 752, 594, 250, 464, 985, 745, 617, 477, 776, 762, 416,   5, 884,\n",
      "                   630, 965, 399, 927, 130, 779, 613, 172, 431, 234, 967,  11, 642, 226,\n",
      "                   619,  58, 970, 986, 184, 450, 421, 128,  79, 245,  86, 796, 782, 164,\n",
      "                   361, 734,  20, 119, 444, 687, 206, 677, 955, 381, 411, 783, 345, 114,\n",
      "                   520, 476,  37, 999, 559, 696, 950, 158, 713, 259, 715,  43, 858,  46,\n",
      "                   938, 894, 116, 339, 301, 342, 666, 452, 252, 115, 754, 584, 432, 949,\n",
      "                   781, 690, 898, 817, 363,  17, 984, 216, 981, 763, 266, 932,  93, 390,\n",
      "                   727, 664,   8,  27, 358, 509, 279, 909,  82, 139, 575, 362,  81, 246,\n",
      "                   667, 772, 495, 707, 489,  97, 830, 593, 313, 822, 998, 392, 991, 926,\n",
      "                   654, 179, 309, 482, 820, 773, 141, 944,  45, 832, 756, 638, 629, 152,\n",
      "                   260, 876, 733,  35, 319, 824,  68, 730, 370, 618, 458, 255, 954, 718,\n",
      "                   635, 751, 522, 634,  74, 794, 360, 681, 185, 759, 415, 580, 486, 434,\n",
      "                   511, 946, 611, 515,  80, 852, 478, 282, 860,  49, 661, 146, 889, 814,\n",
      "                     2,  88, 919, 959,  31, 929, 553, 237, 232, 599, 155, 413, 483, 379,\n",
      "                   994, 262, 665, 544, 670,  28, 907,   9, 686, 995, 774, 728, 680, 607,\n",
      "                   436, 461, 536, 257, 288, 595, 862, 669,  30,  55, 102, 641, 161, 910,\n",
      "                    32, 197, 178, 582, 490, 895,  33, 906, 902, 299, 256, 883, 417, 583,\n",
      "                   624, 503, 220, 374, 804, 798, 286, 849, 278, 213, 633, 800, 365, 842,\n",
      "                   204, 646, 797, 277, 101, 682, 298,  36, 976, 997, 644, 369, 920, 150,\n",
      "                   271, 506, 430, 855, 312, 632, 921, 973, 764, 566, 494,  65,  24, 514,\n",
      "                   123,  96, 569, 847, 606, 716, 874, 474, 992, 350, 208, 908, 979, 242,\n",
      "                   311, 270, 840, 868,  61, 851, 765, 990, 859, 109, 306, 652, 231, 697,\n",
      "                   239, 725, 400, 747, 440, 856, 151,  52,  77, 803, 269, 982,  13, 353,\n",
      "                   961, 609, 996, 917, 404, 243, 488, 375, 676, 811, 975, 456,  57, 166,\n",
      "                   264, 643,   4, 459, 398,  18, 328, 210, 162, 588, 188, 190, 572, 591,\n",
      "                   447, 823, 788,  42, 825, 963, 466, 969,   3, 323, 581, 406, 550, 795,\n",
      "                   240, 508,  16, 708, 380, 195, 228, 448, 844, 548, 349, 709, 977, 753,\n",
      "                   891, 113, 631, 287, 403, 809, 276, 688, 674, 163, 793, 662, 565, 186,\n",
      "                    98, 265, 863, 320, 806, 493, 181, 699,  29, 383, 103, 719, 295,   1,\n",
      "                   724, 351, 600, 372, 333, 159, 557, 672, 971, 310, 460, 801, 425, 532,\n",
      "                   244, 285, 530, 767, 538, 165, 281, 636, 640, 937, 518, 960, 679, 816,\n",
      "                   655, 175, 903, 364, 623, 484, 836, 561, 551, 899, 343,  60, 291, 136,\n",
      "                   923, 818, 192, 857, 673, 887, 388, 808, 194, 412, 777, 761, 717, 143,\n",
      "                    67, 653, 327, 207,  19, 871, 104, 701, 297, 449, 241,  62, 249, 833,\n",
      "                   787, 235, 100, 885, 409, 904, 223, 366, 928, 261, 384, 935, 423, 305,\n",
      "                   322, 913, 254, 326, 439, 792, 556,  95, 821, 427,  47, 978],\n",
      "                  dtype=torch.int32), tensor([7, 3, 4, 2, 7, 8, 5, 9, 0, 5, 6, 1, 8, 2, 3, 9, 1, 7, 5, 5, 6, 3, 2, 0,\n",
      "                   8, 9, 5, 7, 2, 5, 5, 9, 0, 9, 7, 8, 3, 4, 8, 0, 5, 2, 3, 6, 8, 1, 7, 7,\n",
      "                   6, 4, 7, 8, 7, 5, 1, 9, 0, 2, 4, 2, 5, 9, 9, 2, 2, 0, 8, 2, 0, 8, 9, 1,\n",
      "                   1, 6, 2, 7, 6, 3, 2, 6, 6, 8, 4, 3, 6, 3, 8, 0, 0, 7, 0, 7, 5, 2, 3, 2,\n",
      "                   1, 3, 7, 0, 3, 7, 2, 3, 6, 6, 5, 8, 6, 7, 8, 8, 8, 3, 8, 2, 4, 3, 4, 0,\n",
      "                   7, 5, 9, 5, 0, 0, 4, 7, 9, 3, 8, 9, 6, 1, 0, 3, 5, 4, 1, 3, 3, 1, 6, 6,\n",
      "                   4, 2, 4, 1, 6, 4, 8, 0, 7, 7, 9, 7, 2, 9, 5, 7, 4, 9, 5, 2, 9, 8, 0, 7,\n",
      "                   6, 8, 7, 5, 8, 2, 0, 5, 9, 7, 5, 1, 0, 8, 2, 2, 4, 3, 5, 4, 9, 1, 6, 9,\n",
      "                   6, 4, 8, 5, 9, 0, 0, 9, 7, 6, 8, 0, 1, 2, 4, 5, 0, 1, 7, 5, 3, 4, 7, 5,\n",
      "                   7, 7, 6, 4, 1, 9, 1, 9, 9, 9, 4, 2, 3, 7, 2, 1, 3, 2, 4, 3, 5, 4, 1, 1,\n",
      "                   3, 4, 6, 4, 7, 2, 0, 5, 8, 7, 7, 7, 3, 5, 8, 0, 1, 1, 9, 8, 9, 1, 7, 7,\n",
      "                   4, 5, 7, 6, 7, 5, 9, 6, 4, 1, 7, 8, 7, 5, 8, 5, 9, 4, 8, 0, 8, 1, 7, 9,\n",
      "                   2, 1, 2, 0, 0, 7, 7, 5, 4, 4, 2, 4, 6, 6, 5, 5, 9, 0, 6, 2, 6, 3, 6, 3,\n",
      "                   6, 7, 9, 1, 6, 0, 3, 3, 9, 8, 6, 8, 5, 0, 1, 3, 5, 4, 3, 4, 9, 0, 3, 5,\n",
      "                   1, 1, 7, 8, 6, 6, 1, 7, 4, 3, 4, 3, 6, 7, 3, 0, 7, 5, 0, 3, 5, 4, 7, 2,\n",
      "                   7, 9, 0, 4, 3, 3, 1, 6, 8, 2, 0, 4, 8, 7, 9, 2, 7, 6, 7, 3, 0, 6, 7, 1,\n",
      "                   2, 7, 3, 8, 6, 6, 8, 9, 1, 3, 1, 4, 2, 8, 5, 9, 6, 5, 9, 2, 9, 1, 4, 6,\n",
      "                   6, 8, 6, 7, 3, 9, 7, 8, 0, 4, 8, 9, 9, 9, 5, 5, 4, 2, 0, 5, 0, 1, 2, 5,\n",
      "                   4, 8, 7, 4, 7, 1, 5, 6, 2, 3, 0, 4, 1, 9, 8, 2, 0, 6, 4, 5, 9, 7, 9, 9,\n",
      "                   1, 6, 1, 8, 6, 7, 1, 9, 7, 1, 9, 3, 5, 6, 5, 4, 7, 8, 6, 5, 3, 8, 9, 2,\n",
      "                   0, 0, 7, 2, 6, 3, 7, 4, 1, 1, 2, 4, 8, 3, 3, 2, 2, 5, 0, 8, 0, 8, 8, 2,\n",
      "                   0, 3, 4, 9, 7, 3, 5, 3, 8, 7, 8, 7, 5, 8, 0, 1, 0, 4, 6, 6, 9, 7, 9, 8,\n",
      "                   4, 5, 7, 5, 3, 3, 1, 5, 5, 4, 6, 7, 4, 1, 0, 4, 3, 9, 5, 8, 6, 7, 9, 8,\n",
      "                   9, 3, 2, 5, 7, 6, 9, 3, 9, 5, 5, 0, 9, 3, 0, 4, 4, 0, 1, 3, 9, 3, 5, 7,\n",
      "                   7, 1, 5, 8, 1, 9, 5, 9, 2, 7, 3, 5, 4, 1, 1, 0, 8, 7, 8, 3, 6, 5, 8, 6])),\n",
      "               names=('seed_nodes', 'labels'),\n",
      "           ),\n",
      "           test_set=ItemSet(\n",
      "               items=(tensor([424, 336, 945, 534, 471, 758, 533,  72, 936, 574, 523, 173, 731, 738,\n",
      "                    99, 395, 371, 743, 755,  73, 586,  25,  54, 802, 930, 420, 217, 335,\n",
      "                    39, 117, 850, 813, 691, 720, 168,  69, 980,  50, 740, 112, 627, 183,\n",
      "                   988, 827, 131, 933, 502, 215, 233, 157, 189, 537, 739, 637, 744, 915,\n",
      "                   678, 721,  51, 376, 812, 222, 828, 438, 771, 516, 160, 334, 692, 296,\n",
      "                   704, 843, 685, 931, 120,  22, 373, 317,  89, 628, 481, 545, 129, 107,\n",
      "                   620, 689, 615, 507, 290, 766, 768, 455, 198, 943, 126, 867, 337, 877,\n",
      "                   468, 786, 156, 504, 121, 498,  48,  76, 587, 962,  94, 866, 316, 892,\n",
      "                   465, 529, 435, 302, 441, 579, 554, 573, 626, 942, 749,  23, 367, 948,\n",
      "                   604, 510, 193, 132, 712, 470, 656, 934, 958, 770, 893, 873,  53, 525,\n",
      "                   592, 853, 391, 475, 153, 325, 211, 660, 280, 841, 702, 911, 735, 741,\n",
      "                   149,  85, 651, 957, 393, 348, 826, 283, 300, 658, 865,  40, 845, 407,\n",
      "                     0, 499, 247, 387, 560, 187, 663, 564, 214, 527, 612, 650, 248, 601,\n",
      "                   706, 608, 170, 182, 377,  92, 901, 543, 835, 429, 737, 947, 900, 154,\n",
      "                   378, 953, 209, 805], dtype=torch.int32), tensor([2, 7, 9, 6, 3, 1, 4, 9, 1, 7, 6, 5, 1, 1, 7, 5, 8, 3, 3, 1, 5, 6, 9, 6,\n",
      "                   8, 5, 5, 3, 2, 7, 5, 3, 2, 1, 5, 7, 2, 1, 7, 7, 3, 8, 8, 8, 6, 5, 5, 9,\n",
      "                   8, 0, 6, 0, 9, 5, 0, 0, 3, 2, 3, 7, 2, 1, 9, 9, 6, 5, 2, 5, 2, 9, 6, 8,\n",
      "                   8, 1, 1, 6, 9, 9, 4, 5, 2, 2, 9, 5, 6, 2, 4, 9, 4, 4, 0, 6, 6, 1, 1, 5,\n",
      "                   1, 4, 9, 7, 7, 6, 4, 5, 5, 8, 5, 1, 6, 4, 6, 5, 7, 8, 8, 3, 5, 6, 5, 1,\n",
      "                   4, 7, 4, 5, 3, 7, 3, 4, 9, 1, 9, 2, 8, 0, 8, 3, 3, 1, 9, 8, 0, 8, 7, 8,\n",
      "                   5, 8, 5, 6, 6, 5, 9, 2, 6, 4, 4, 7, 3, 7, 6, 9, 1, 5, 2, 9, 2, 9, 5, 2,\n",
      "                   3, 7, 4, 1, 5, 0, 0, 6, 5, 7, 2, 7, 6, 1, 6, 3, 8, 3, 8, 5, 1, 4, 4, 3,\n",
      "                   9, 6, 7, 0, 8, 0, 9, 7])),\n",
      "               names=('seed_nodes', 'labels'),\n",
      "           ),\n",
      "           metadata={'name': 'node_classification', 'num_classes': 10},)\n",
      "\n",
      "Loaded link prediction task: OnDiskTask(validation_set=ItemSet(\n",
      "               items=(tensor([[292, 975],\n",
      "                   [480, 431],\n",
      "                   [464,  88],\n",
      "                   ...,\n",
      "                   [331, 936],\n",
      "                   [757, 401],\n",
      "                   [910, 129]], dtype=torch.int32), tensor([[431, 396, 233,  ..., 852, 104, 610],\n",
      "                   [177, 543, 470,  ..., 684, 756,  81],\n",
      "                   [826, 897,  18,  ...,  36, 524, 484],\n",
      "                   ...,\n",
      "                   [756,  92, 605,  ..., 482,   7, 901],\n",
      "                   [447, 788, 501,  ..., 876, 441, 186],\n",
      "                   [444, 196, 153,  ..., 597, 629, 258]], dtype=torch.int32)),\n",
      "               names=('node_pairs', 'negative_dsts'),\n",
      "           ),\n",
      "           train_set=ItemSet(\n",
      "               items=(tensor([[770, 593],\n",
      "                   [899, 132],\n",
      "                   [984, 895],\n",
      "                   ...,\n",
      "                   [423, 788],\n",
      "                   [985, 351],\n",
      "                   [414, 516]], dtype=torch.int32),),\n",
      "               names=('node_pairs',),\n",
      "           ),\n",
      "           test_set=ItemSet(\n",
      "               items=(tensor([256, 155], dtype=torch.int32), tensor([[963, 773,  10,  ...,  18, 629, 618],\n",
      "                   [224, 627, 355,  ..., 582, 488, 595],\n",
      "                   [230, 463, 700,  ..., 150,  73, 142],\n",
      "                   ...,\n",
      "                   [838, 470, 370,  ..., 976, 924, 722],\n",
      "                   [384, 131, 448,  ..., 427, 562, 618],\n",
      "                   [453, 184, 355,  ..., 159, 794, 271]], dtype=torch.int32)),\n",
      "               names=('node_pairs', 'negative_dsts'),\n",
      "           ),\n",
      "           metadata={'name': 'link_prediction', 'num_classes': 10},)\n",
      "\n"
     ]
    },
    {
     "name": "stderr",
     "output_type": "stream",
     "text": [
      "/home/ubuntu/regression_test/dgl/python/dgl/graphbolt/internal/utils.py:16: FutureWarning: You are using `torch.load` with `weights_only=False` (the current default value), which uses the default pickle module implicitly. It is possible to construct malicious pickle data which will execute arbitrary code during unpickling (See https://github.com/pytorch/pytorch/blob/main/SECURITY.md#untrusted-models for more details). In a future release, the default value for `weights_only` will be flipped to `True`. This limits the functions that could be executed during unpickling. Arbitrary objects will no longer be allowed to be loaded via this mode unless they are explicitly allowlisted by the user via `torch.serialization.add_safe_globals`. We recommend you start setting `weights_only=True` for any use case where you don't have full control of the loaded file. Please open an issue on GitHub for any issues related to this experimental feature.\n",
      "  return torch.load(path)\n",
      "/home/ubuntu/regression_test/dgl/python/dgl/graphbolt/impl/ondisk_dataset.py:464: DGLWarning: Edge feature is stored, but edge IDs are not saved.\n",
      "  dgl_warning(\"Edge feature is stored, but edge IDs are not saved.\")\n",
      "/home/ubuntu/regression_test/dgl/python/dgl/graphbolt/impl/ondisk_dataset.py:856: FutureWarning: You are using `torch.load` with `weights_only=False` (the current default value), which uses the default pickle module implicitly. It is possible to construct malicious pickle data which will execute arbitrary code during unpickling (See https://github.com/pytorch/pytorch/blob/main/SECURITY.md#untrusted-models for more details). In a future release, the default value for `weights_only` will be flipped to `True`. This limits the functions that could be executed during unpickling. Arbitrary objects will no longer be allowed to be loaded via this mode unless they are explicitly allowlisted by the user via `torch.serialization.add_safe_globals`. We recommend you start setting `weights_only=True` for any use case where you don't have full control of the loaded file. Please open an issue on GitHub for any issues related to this experimental feature.\n",
      "  return torch.load(graph_topology.path)\n"
     ]
    }
   ],
   "source": [
    "dataset = gb.OnDiskDataset(base_dir).load()\n",
    "graph = dataset.graph\n",
    "print(f\"Loaded graph: {graph}\\n\")\n",
    "\n",
    "feature = dataset.feature\n",
    "print(f\"Loaded feature store: {feature}\\n\")\n",
    "\n",
    "tasks = dataset.tasks\n",
    "nc_task = tasks[0]\n",
    "print(f\"Loaded node classification task: {nc_task}\\n\")\n",
    "lp_task = tasks[1]\n",
    "print(f\"Loaded link prediction task: {lp_task}\\n\")"
   ]
  }
 ],
 "metadata": {
  "colab": {
   "private_outputs": true,
   "provenance": []
  },
  "kernelspec": {
   "display_name": "Python 3",
   "name": "python3"
  },
  "language_info": {
   "codemirror_mode": {
    "name": "ipython",
    "version": 3
   },
   "file_extension": ".py",
   "mimetype": "text/x-python",
   "name": "python",
   "nbconvert_exporter": "python",
   "pygments_lexer": "ipython3",
   "version": "3.10.14"
  }
 },
 "nbformat": 4,
 "nbformat_minor": 0
}

{
 "cells": [
  {
   "cell_type": "markdown",
   "metadata": {
    "id": "FnFhPMaAfLtJ"
   },
   "source": [
    "# OnDiskDataset for Homogeneous Graph\n",
    "\n",
    "[![Open In Colab](https://colab.research.google.com/assets/colab-badge.svg)](https://colab.research.google.com/github/dmlc/dgl/blob/master/notebooks/stochastic_training/ondisk_dataset_homograph.ipynb) [![GitHub](https://img.shields.io/badge/-View%20on%20GitHub-181717?logo=github&logoColor=ffffff)](https://github.com/dmlc/dgl/blob/master/notebooks/stochastic_training/ondisk_dataset_homograph.ipynb)\n",
    "\n",
    "This tutorial shows how to create `OnDiskDataset` for homogeneous graph that could be used in **GraphBolt** framework.\n",
    "\n",
    "By the end of this tutorial, you will be able to\n",
    "\n",
    "- organize graph structure data.\n",
    "- organize feature data.\n",
    "- organize training/validation/test set for specific tasks.\n",
    "\n",
    "To create an ``OnDiskDataset`` object, you need to organize all the data including graph structure, feature data and tasks into a directory. The directory should contain a ``metadata.yaml`` file that describes the metadata of the dataset.\n",
    "\n",
    "Now let's generate various data step by step and organize them together to instantiate `OnDiskDataset` finally."
   ]
  },
  {
   "cell_type": "markdown",
   "metadata": {
    "id": "Wlb19DtWgtzq"
   },
   "source": [
    "## Install DGL package"
   ]
  },
  {
   "cell_type": "code",
   "execution_count": 1,
   "metadata": {
    "execution": {
     "iopub.execute_input": "2024-09-18T06:56:41.472316Z",
     "iopub.status.busy": "2024-09-18T06:56:41.472057Z",
     "iopub.status.idle": "2024-09-18T06:56:45.263765Z",
     "shell.execute_reply": "2024-09-18T06:56:45.263088Z"
    },
    "id": "UojlT9ZGgyr9"
   },
   "outputs": [
    {
     "name": "stdout",
     "output_type": "stream",
     "text": [
      "Looking in links: https://data.dgl.ai/wheels-test/repo.html\r\n",
      "Requirement already satisfied: dgl in /opt/conda/envs/dgl-dev-cpu/lib/python3.10/site-packages (2.2a240410)\r\n",
      "Requirement already satisfied: numpy>=1.14.0 in /opt/conda/envs/dgl-dev-cpu/lib/python3.10/site-packages (from dgl) (1.26.4)\r\n",
      "Requirement already satisfied: scipy>=1.1.0 in /opt/conda/envs/dgl-dev-cpu/lib/python3.10/site-packages (from dgl) (1.14.0)\r\n",
      "Requirement already satisfied: networkx>=2.1 in /opt/conda/envs/dgl-dev-cpu/lib/python3.10/site-packages (from dgl) (3.3)\r\n",
      "Requirement already satisfied: requests>=2.19.0 in /opt/conda/envs/dgl-dev-cpu/lib/python3.10/site-packages (from dgl) (2.32.3)\r\n",
      "Requirement already satisfied: tqdm in /opt/conda/envs/dgl-dev-cpu/lib/python3.10/site-packages (from dgl) (4.66.5)\r\n",
      "Requirement already satisfied: psutil>=5.8.0 in /opt/conda/envs/dgl-dev-cpu/lib/python3.10/site-packages (from dgl) (6.0.0)\r\n",
      "Requirement already satisfied: torchdata>=0.5.0 in /opt/conda/envs/dgl-dev-cpu/lib/python3.10/site-packages (from dgl) (0.7.1)\r\n",
      "Requirement already satisfied: pandas in /opt/conda/envs/dgl-dev-cpu/lib/python3.10/site-packages (from dgl) (2.2.2)\r\n"
     ]
    },
    {
     "name": "stdout",
     "output_type": "stream",
     "text": [
      "Requirement already satisfied: charset-normalizer<4,>=2 in /opt/conda/envs/dgl-dev-cpu/lib/python3.10/site-packages (from requests>=2.19.0->dgl) (3.3.2)\r\n",
      "Requirement already satisfied: idna<4,>=2.5 in /opt/conda/envs/dgl-dev-cpu/lib/python3.10/site-packages (from requests>=2.19.0->dgl) (3.8)\r\n",
      "Requirement already satisfied: urllib3<3,>=1.21.1 in /opt/conda/envs/dgl-dev-cpu/lib/python3.10/site-packages (from requests>=2.19.0->dgl) (2.2.2)\r\n",
      "Requirement already satisfied: certifi>=2017.4.17 in /opt/conda/envs/dgl-dev-cpu/lib/python3.10/site-packages (from requests>=2.19.0->dgl) (2024.7.4)\r\n",
      "Requirement already satisfied: torch>=2 in /opt/conda/envs/dgl-dev-cpu/lib/python3.10/site-packages (from torchdata>=0.5.0->dgl) (2.4.0+cpu)\r\n"
     ]
    },
    {
     "name": "stdout",
     "output_type": "stream",
     "text": [
      "Requirement already satisfied: python-dateutil>=2.8.2 in /opt/conda/envs/dgl-dev-cpu/lib/python3.10/site-packages (from pandas->dgl) (2.9.0.post0)\r\n",
      "Requirement already satisfied: pytz>=2020.1 in /opt/conda/envs/dgl-dev-cpu/lib/python3.10/site-packages (from pandas->dgl) (2024.1)\r\n",
      "Requirement already satisfied: tzdata>=2022.7 in /opt/conda/envs/dgl-dev-cpu/lib/python3.10/site-packages (from pandas->dgl) (2024.1)\r\n",
      "Requirement already satisfied: six>=1.5 in /opt/conda/envs/dgl-dev-cpu/lib/python3.10/site-packages (from python-dateutil>=2.8.2->pandas->dgl) (1.16.0)\r\n",
      "Requirement already satisfied: filelock in /opt/conda/envs/dgl-dev-cpu/lib/python3.10/site-packages (from torch>=2->torchdata>=0.5.0->dgl) (3.15.4)\r\n",
      "Requirement already satisfied: typing-extensions>=4.8.0 in /opt/conda/envs/dgl-dev-cpu/lib/python3.10/site-packages (from torch>=2->torchdata>=0.5.0->dgl) (4.12.2)\r\n",
      "Requirement already satisfied: sympy in /opt/conda/envs/dgl-dev-cpu/lib/python3.10/site-packages (from torch>=2->torchdata>=0.5.0->dgl) (1.13.2)\r\n",
      "Requirement already satisfied: jinja2 in /opt/conda/envs/dgl-dev-cpu/lib/python3.10/site-packages (from torch>=2->torchdata>=0.5.0->dgl) (3.1.4)\r\n",
      "Requirement already satisfied: fsspec in /opt/conda/envs/dgl-dev-cpu/lib/python3.10/site-packages (from torch>=2->torchdata>=0.5.0->dgl) (2024.6.1)\r\n"
     ]
    },
    {
     "name": "stdout",
     "output_type": "stream",
     "text": [
      "Requirement already satisfied: MarkupSafe>=2.0 in /opt/conda/envs/dgl-dev-cpu/lib/python3.10/site-packages (from jinja2->torch>=2->torchdata>=0.5.0->dgl) (2.1.5)\r\n",
      "Requirement already satisfied: mpmath<1.4,>=1.1.0 in /opt/conda/envs/dgl-dev-cpu/lib/python3.10/site-packages (from sympy->torch>=2->torchdata>=0.5.0->dgl) (1.3.0)\r\n"
     ]
    },
    {
     "name": "stderr",
     "output_type": "stream",
     "text": [
      "/home/ubuntu/regression_test/dgl/python/dgl/graphbolt/base.py:82: FutureWarning: `torch.library.impl_abstract` was renamed to `torch.library.register_fake`. Please use that instead; we will remove `torch.library.impl_abstract` in a future version of PyTorch.\n",
      "  @torch.library.impl_abstract(\"graphbolt::expand_indptr\")\n"
     ]
    },
    {
     "name": "stdout",
     "output_type": "stream",
     "text": [
      "DGL installed!\n"
     ]
    }
   ],
   "source": [
    "# Install required packages.\n",
    "import os\n",
    "import torch\n",
    "import numpy as np\n",
    "os.environ['TORCH'] = torch.__version__\n",
    "os.environ['DGLBACKEND'] = \"pytorch\"\n",
    "\n",
    "# Install the CPU version.\n",
    "device = torch.device(\"cpu\")\n",
    "!pip install --pre dgl -f https://data.dgl.ai/wheels-test/repo.html\n",
    "\n",
    "try:\n",
    "    import dgl\n",
    "    import dgl.graphbolt as gb\n",
    "    installed = True\n",
    "except ImportError as error:\n",
    "    installed = False\n",
    "    print(error)\n",
    "print(\"DGL installed!\" if installed else \"DGL not found!\")"
   ]
  },
  {
   "cell_type": "markdown",
   "metadata": {
    "id": "2R7WnSbjsfbr"
   },
   "source": [
    "## Data preparation\n",
    "In order to demonstrate how to organize various data, let's create a base directory first."
   ]
  },
  {
   "cell_type": "code",
   "execution_count": 2,
   "metadata": {
    "execution": {
     "iopub.execute_input": "2024-09-18T06:56:45.266751Z",
     "iopub.status.busy": "2024-09-18T06:56:45.266252Z",
     "iopub.status.idle": "2024-09-18T06:56:45.270141Z",
     "shell.execute_reply": "2024-09-18T06:56:45.269547Z"
    },
    "id": "SZipbzyltLfO"
   },
   "outputs": [
    {
     "name": "stdout",
     "output_type": "stream",
     "text": [
      "Created base directory: ./ondisk_dataset_homograph\n"
     ]
    }
   ],
   "source": [
    "base_dir = './ondisk_dataset_homograph'\n",
    "os.makedirs(base_dir, exist_ok=True)\n",
    "print(f\"Created base directory: {base_dir}\")"
   ]
  },
  {
   "cell_type": "markdown",
   "metadata": {
    "id": "qhNtIn_xhlnl"
   },
   "source": [
    "### Generate graph structure data\n",
    "For homogeneous graph, we just need to save edges(namely seeds) into  **Numpy** or **CSV** file.\n",
    "\n",
    "Note:\n",
    "- when saving to **Numpy**, the array requires to be in shape of `(2, N)`. This format is recommended as constructing graph from it is much faster than **CSV** file.\n",
    "- when saving to **CSV** file, do not save index and header.\n"
   ]
  },
  {
   "cell_type": "code",
   "execution_count": 3,
   "metadata": {
    "execution": {
     "iopub.execute_input": "2024-09-18T06:56:45.272577Z",
     "iopub.status.busy": "2024-09-18T06:56:45.272213Z",
     "iopub.status.idle": "2024-09-18T06:56:45.284818Z",
     "shell.execute_reply": "2024-09-18T06:56:45.284181Z"
    },
    "id": "HcBt4G5BmSjr"
   },
   "outputs": [
    {
     "name": "stdout",
     "output_type": "stream",
     "text": [
      "Part of edges: [[427 810]\n",
      " [482 156]\n",
      " [739 383]\n",
      " [515 361]\n",
      " [823 253]]\n",
      "Edges are saved into ./ondisk_dataset_homograph/edges.csv\n"
     ]
    }
   ],
   "source": [
    "import numpy as np\n",
    "import pandas as pd\n",
    "num_nodes = 1000\n",
    "num_edges = 10 * num_nodes\n",
    "edges_path = os.path.join(base_dir, \"edges.csv\")\n",
    "edges = np.random.randint(0, num_nodes, size=(num_edges, 2))\n",
    "\n",
    "print(f\"Part of edges: {edges[:5, :]}\")\n",
    "\n",
    "df = pd.DataFrame(edges)\n",
    "df.to_csv(edges_path, index=False, header=False)\n",
    "\n",
    "print(f\"Edges are saved into {edges_path}\")"
   ]
  },
  {
   "cell_type": "markdown",
   "metadata": {
    "id": "kh-4cPtzpcaH"
   },
   "source": [
    "### Generate feature data for graph\n",
    "For feature data, numpy arrays and torch tensors are supported for now."
   ]
  },
  {
   "cell_type": "code",
   "execution_count": 4,
   "metadata": {
    "execution": {
     "iopub.execute_input": "2024-09-18T06:56:45.287220Z",
     "iopub.status.busy": "2024-09-18T06:56:45.286900Z",
     "iopub.status.idle": "2024-09-18T06:56:45.300803Z",
     "shell.execute_reply": "2024-09-18T06:56:45.300307Z"
    },
    "id": "_PVu1u5brBhF"
   },
   "outputs": [
    {
     "name": "stdout",
     "output_type": "stream",
     "text": [
      "Part of node feature [feat_0]: [[0.18756113 0.8263093  0.69531218 0.77329349 0.25144377]\n",
      " [0.81287002 0.46255598 0.28790539 0.39118476 0.70067461]\n",
      " [0.07416777 0.87980422 0.81736906 0.65193808 0.94687969]]\n",
      "Node feature [feat_0] is saved to ./ondisk_dataset_homograph/node-feat-0.npy\n",
      "\n",
      "Part of node feature [feat_1]: tensor([[0.0049, 0.2713, 0.4365, 0.6562, 0.1680],\n",
      "        [0.8289, 0.9832, 0.2571, 0.6492, 0.1832],\n",
      "        [0.1485, 0.1582, 0.3427, 0.3278, 0.4168]])\n",
      "Node feature [feat_1] is saved to ./ondisk_dataset_homograph/node-feat-1.pt\n",
      "\n",
      "Part of edge feature [feat_0]: [[0.97929532 0.26219736 0.77051533 0.74585649 0.82825006]\n",
      " [0.88215126 0.64766533 0.99787335 0.64830204 0.04433256]\n",
      " [0.73490086 0.50615544 0.62849607 0.44198614 0.54274978]]\n",
      "Edge feature [feat_0] is saved to ./ondisk_dataset_homograph/edge-feat-0.npy\n",
      "\n",
      "Part of edge feature [feat_1]: tensor([[0.4510, 0.9419, 0.2873, 0.9467, 0.7067],\n",
      "        [0.0965, 0.9493, 0.3095, 0.7945, 0.4386],\n",
      "        [0.9132, 0.3329, 0.7457, 0.9974, 0.5723]])\n",
      "Edge feature [feat_1] is saved to ./ondisk_dataset_homograph/edge-feat-1.pt\n",
      "\n"
     ]
    }
   ],
   "source": [
    "# Generate node feature in numpy array.\n",
    "node_feat_0_path = os.path.join(base_dir, \"node-feat-0.npy\")\n",
    "node_feat_0 = np.random.rand(num_nodes, 5)\n",
    "print(f\"Part of node feature [feat_0]: {node_feat_0[:3, :]}\")\n",
    "np.save(node_feat_0_path, node_feat_0)\n",
    "print(f\"Node feature [feat_0] is saved to {node_feat_0_path}\\n\")\n",
    "\n",
    "# Generate another node feature in torch tensor\n",
    "node_feat_1_path = os.path.join(base_dir, \"node-feat-1.pt\")\n",
    "node_feat_1 = torch.rand(num_nodes, 5)\n",
    "print(f\"Part of node feature [feat_1]: {node_feat_1[:3, :]}\")\n",
    "torch.save(node_feat_1, node_feat_1_path)\n",
    "print(f\"Node feature [feat_1] is saved to {node_feat_1_path}\\n\")\n",
    "\n",
    "# Generate edge feature in numpy array.\n",
    "edge_feat_0_path = os.path.join(base_dir, \"edge-feat-0.npy\")\n",
    "edge_feat_0 = np.random.rand(num_edges, 5)\n",
    "print(f\"Part of edge feature [feat_0]: {edge_feat_0[:3, :]}\")\n",
    "np.save(edge_feat_0_path, edge_feat_0)\n",
    "print(f\"Edge feature [feat_0] is saved to {edge_feat_0_path}\\n\")\n",
    "\n",
    "# Generate another edge feature in torch tensor\n",
    "edge_feat_1_path = os.path.join(base_dir, \"edge-feat-1.pt\")\n",
    "edge_feat_1 = torch.rand(num_edges, 5)\n",
    "print(f\"Part of edge feature [feat_1]: {edge_feat_1[:3, :]}\")\n",
    "torch.save(edge_feat_1, edge_feat_1_path)\n",
    "print(f\"Edge feature [feat_1] is saved to {edge_feat_1_path}\\n\")\n"
   ]
  },
  {
   "cell_type": "markdown",
   "metadata": {
    "id": "ZyqgOtsIwzh_"
   },
   "source": [
    "### Generate tasks\n",
    "`OnDiskDataset` supports multiple tasks. For each task, we need to prepare training/validation/test sets respectively. Such sets usually vary among different tasks. In this tutorial, let's create a **Node Classification** task and **Link Prediction** task."
   ]
  },
  {
   "cell_type": "markdown",
   "metadata": {
    "id": "hVxHaDIfzCkr"
   },
   "source": [
    "#### Node Classification Task\n",
    "For node classification task, we need **node IDs** and corresponding **labels** for each training/validation/test set. Like feature data, numpy arrays and torch tensors are supported for these sets."
   ]
  },
  {
   "cell_type": "code",
   "execution_count": 5,
   "metadata": {
    "execution": {
     "iopub.execute_input": "2024-09-18T06:56:45.303203Z",
     "iopub.status.busy": "2024-09-18T06:56:45.302834Z",
     "iopub.status.idle": "2024-09-18T06:56:45.312423Z",
     "shell.execute_reply": "2024-09-18T06:56:45.311928Z"
    },
    "id": "S5-fyBbHzTCO"
   },
   "outputs": [
    {
     "name": "stdout",
     "output_type": "stream",
     "text": [
      "Part of train ids for node classification: [319 941  14]\n",
      "NC train ids are saved to ./ondisk_dataset_homograph/nc-train-ids.npy\n",
      "\n",
      "Part of train labels for node classification: tensor([1, 3, 6])\n",
      "NC train labels are saved to ./ondisk_dataset_homograph/nc-train-labels.pt\n",
      "\n",
      "Part of val ids for node classification: [690 926 216]\n",
      "NC val ids are saved to ./ondisk_dataset_homograph/nc-val-ids.npy\n",
      "\n",
      "Part of val labels for node classification: tensor([2, 5, 6])\n",
      "NC val labels are saved to ./ondisk_dataset_homograph/nc-val-labels.pt\n",
      "\n",
      "Part of test ids for node classification: [701  67  16]\n",
      "NC test ids are saved to ./ondisk_dataset_homograph/nc-test-ids.npy\n",
      "\n",
      "Part of test labels for node classification: tensor([6, 7, 1])\n",
      "NC test labels are saved to ./ondisk_dataset_homograph/nc-test-labels.pt\n",
      "\n"
     ]
    }
   ],
   "source": [
    "num_trains = int(num_nodes * 0.6)\n",
    "num_vals = int(num_nodes * 0.2)\n",
    "num_tests = num_nodes - num_trains - num_vals\n",
    "\n",
    "ids = np.arange(num_nodes)\n",
    "np.random.shuffle(ids)\n",
    "\n",
    "nc_train_ids_path = os.path.join(base_dir, \"nc-train-ids.npy\")\n",
    "nc_train_ids = ids[:num_trains]\n",
    "print(f\"Part of train ids for node classification: {nc_train_ids[:3]}\")\n",
    "np.save(nc_train_ids_path, nc_train_ids)\n",
    "print(f\"NC train ids are saved to {nc_train_ids_path}\\n\")\n",
    "\n",
    "nc_train_labels_path = os.path.join(base_dir, \"nc-train-labels.pt\")\n",
    "nc_train_labels = torch.randint(0, 10, (num_trains,))\n",
    "print(f\"Part of train labels for node classification: {nc_train_labels[:3]}\")\n",
    "torch.save(nc_train_labels, nc_train_labels_path)\n",
    "print(f\"NC train labels are saved to {nc_train_labels_path}\\n\")\n",
    "\n",
    "nc_val_ids_path = os.path.join(base_dir, \"nc-val-ids.npy\")\n",
    "nc_val_ids = ids[num_trains:num_trains+num_vals]\n",
    "print(f\"Part of val ids for node classification: {nc_val_ids[:3]}\")\n",
    "np.save(nc_val_ids_path, nc_val_ids)\n",
    "print(f\"NC val ids are saved to {nc_val_ids_path}\\n\")\n",
    "\n",
    "nc_val_labels_path = os.path.join(base_dir, \"nc-val-labels.pt\")\n",
    "nc_val_labels = torch.randint(0, 10, (num_vals,))\n",
    "print(f\"Part of val labels for node classification: {nc_val_labels[:3]}\")\n",
    "torch.save(nc_val_labels, nc_val_labels_path)\n",
    "print(f\"NC val labels are saved to {nc_val_labels_path}\\n\")\n",
    "\n",
    "nc_test_ids_path = os.path.join(base_dir, \"nc-test-ids.npy\")\n",
    "nc_test_ids = ids[-num_tests:]\n",
    "print(f\"Part of test ids for node classification: {nc_test_ids[:3]}\")\n",
    "np.save(nc_test_ids_path, nc_test_ids)\n",
    "print(f\"NC test ids are saved to {nc_test_ids_path}\\n\")\n",
    "\n",
    "nc_test_labels_path = os.path.join(base_dir, \"nc-test-labels.pt\")\n",
    "nc_test_labels = torch.randint(0, 10, (num_tests,))\n",
    "print(f\"Part of test labels for node classification: {nc_test_labels[:3]}\")\n",
    "torch.save(nc_test_labels, nc_test_labels_path)\n",
    "print(f\"NC test labels are saved to {nc_test_labels_path}\\n\")"
   ]
  },
  {
   "cell_type": "markdown",
   "metadata": {
    "id": "LhAcDCHQ_KJ0"
   },
   "source": [
    "#### Link Prediction Task\n",
    "For link prediction task, we need **seeds** or **corresponding labels and indexes** which representing the pos/neg property and group of the seeds for each training/validation/test set. Like feature data, numpy arrays and torch tensors are supported for these sets."
   ]
  },
  {
   "cell_type": "code",
   "execution_count": 6,
   "metadata": {
    "execution": {
     "iopub.execute_input": "2024-09-18T06:56:45.314782Z",
     "iopub.status.busy": "2024-09-18T06:56:45.314401Z",
     "iopub.status.idle": "2024-09-18T06:56:45.330178Z",
     "shell.execute_reply": "2024-09-18T06:56:45.329678Z"
    },
    "id": "u0jCnXIcAQy4"
   },
   "outputs": [
    {
     "name": "stdout",
     "output_type": "stream",
     "text": [
      "Part of train seeds for link prediction: [[427 810]\n",
      " [482 156]\n",
      " [739 383]]\n",
      "LP train seeds are saved to ./ondisk_dataset_homograph/lp-train-seeds.npy\n",
      "\n",
      "Part of val seeds for link prediction: [[616 238]\n",
      " [909 408]\n",
      " [642 753]]\n",
      "LP val seeds are saved to ./ondisk_dataset_homograph/lp-val-seeds.npy\n",
      "\n",
      "Part of val labels for link prediction: [1. 1. 1.]\n",
      "LP val labels are saved to ./ondisk_dataset_homograph/lp-val-labels.npy\n",
      "\n",
      "Part of val indexes for link prediction: [0 1 2]\n",
      "LP val indexes are saved to ./ondisk_dataset_homograph/lp-val-indexes.npy\n",
      "\n",
      "Part of test seeds for link prediction: [[647 821]\n",
      " [159 262]\n",
      " [ 43 294]]\n",
      "LP test seeds are saved to ./ondisk_dataset_homograph/lp-test-seeds.npy\n",
      "\n",
      "Part of val labels for link prediction: [1. 1. 1.]\n",
      "LP test labels are saved to ./ondisk_dataset_homograph/lp-test-labels.npy\n",
      "\n",
      "Part of test indexes for link prediction: [0 1 2]\n",
      "LP test indexes are saved to ./ondisk_dataset_homograph/lp-test-indexes.npy\n",
      "\n"
     ]
    }
   ],
   "source": [
    "num_trains = int(num_edges * 0.6)\n",
    "num_vals = int(num_edges * 0.2)\n",
    "num_tests = num_edges - num_trains - num_vals\n",
    "\n",
    "lp_train_seeds_path = os.path.join(base_dir, \"lp-train-seeds.npy\")\n",
    "lp_train_seeds = edges[:num_trains, :]\n",
    "print(f\"Part of train seeds for link prediction: {lp_train_seeds[:3]}\")\n",
    "np.save(lp_train_seeds_path, lp_train_seeds)\n",
    "print(f\"LP train seeds are saved to {lp_train_seeds_path}\\n\")\n",
    "\n",
    "lp_val_seeds_path = os.path.join(base_dir, \"lp-val-seeds.npy\")\n",
    "lp_val_seeds = edges[num_trains:num_trains+num_vals, :]\n",
    "lp_val_neg_dsts = np.random.randint(0, num_nodes, (num_vals, 10)).reshape(-1)\n",
    "lp_val_neg_srcs = np.repeat(lp_val_seeds[:,0], 10)\n",
    "lp_val_neg_seeds = np.concatenate((lp_val_neg_srcs, lp_val_neg_dsts)).reshape(2,-1).T\n",
    "lp_val_seeds = np.concatenate((lp_val_seeds, lp_val_neg_seeds))\n",
    "print(f\"Part of val seeds for link prediction: {lp_val_seeds[:3]}\")\n",
    "np.save(lp_val_seeds_path, lp_val_seeds)\n",
    "print(f\"LP val seeds are saved to {lp_val_seeds_path}\\n\")\n",
    "\n",
    "lp_val_labels_path = os.path.join(base_dir, \"lp-val-labels.npy\")\n",
    "lp_val_labels = np.empty(num_vals * (10 + 1))\n",
    "lp_val_labels[:num_vals] = 1\n",
    "lp_val_labels[num_vals:] = 0\n",
    "print(f\"Part of val labels for link prediction: {lp_val_labels[:3]}\")\n",
    "np.save(lp_val_labels_path, lp_val_labels)\n",
    "print(f\"LP val labels are saved to {lp_val_labels_path}\\n\")\n",
    "\n",
    "lp_val_indexes_path = os.path.join(base_dir, \"lp-val-indexes.npy\")\n",
    "lp_val_indexes = np.arange(0, num_vals)\n",
    "lp_val_neg_indexes = np.repeat(lp_val_indexes, 10)\n",
    "lp_val_indexes = np.concatenate([lp_val_indexes, lp_val_neg_indexes])\n",
    "print(f\"Part of val indexes for link prediction: {lp_val_indexes[:3]}\")\n",
    "np.save(lp_val_indexes_path, lp_val_indexes)\n",
    "print(f\"LP val indexes are saved to {lp_val_indexes_path}\\n\")\n",
    "\n",
    "lp_test_seeds_path = os.path.join(base_dir, \"lp-test-seeds.npy\")\n",
    "lp_test_seeds = edges[-num_tests:, :]\n",
    "lp_test_neg_dsts = np.random.randint(0, num_nodes, (num_tests, 10)).reshape(-1)\n",
    "lp_test_neg_srcs = np.repeat(lp_test_seeds[:,0], 10)\n",
    "lp_test_neg_seeds = np.concatenate((lp_test_neg_srcs, lp_test_neg_dsts)).reshape(2,-1).T\n",
    "lp_test_seeds = np.concatenate((lp_test_seeds, lp_test_neg_seeds))\n",
    "print(f\"Part of test seeds for link prediction: {lp_test_seeds[:3]}\")\n",
    "np.save(lp_test_seeds_path, lp_test_seeds)\n",
    "print(f\"LP test seeds are saved to {lp_test_seeds_path}\\n\")\n",
    "\n",
    "lp_test_labels_path = os.path.join(base_dir, \"lp-test-labels.npy\")\n",
    "lp_test_labels = np.empty(num_tests * (10 + 1))\n",
    "lp_test_labels[:num_tests] = 1\n",
    "lp_test_labels[num_tests:] = 0\n",
    "print(f\"Part of val labels for link prediction: {lp_test_labels[:3]}\")\n",
    "np.save(lp_test_labels_path, lp_test_labels)\n",
    "print(f\"LP test labels are saved to {lp_test_labels_path}\\n\")\n",
    "\n",
    "lp_test_indexes_path = os.path.join(base_dir, \"lp-test-indexes.npy\")\n",
    "lp_test_indexes = np.arange(0, num_tests)\n",
    "lp_test_neg_indexes = np.repeat(lp_test_indexes, 10)\n",
    "lp_test_indexes = np.concatenate([lp_test_indexes, lp_test_neg_indexes])\n",
    "print(f\"Part of test indexes for link prediction: {lp_test_indexes[:3]}\")\n",
    "np.save(lp_test_indexes_path, lp_test_indexes)\n",
    "print(f\"LP test indexes are saved to {lp_test_indexes_path}\\n\")"
   ]
  },
  {
   "cell_type": "markdown",
   "metadata": {
    "id": "wbk6-wxRK-6S"
   },
   "source": [
    "## Organize Data into YAML File\n",
    "Now we need to create a `metadata.yaml` file which contains the paths, dadta types of graph structure, feature data, training/validation/test sets.\n",
    "\n",
    "Notes:\n",
    "- all path should be relative to `metadata.yaml`.\n",
    "- Below fields are optional and not specified in below example.\n",
    "  - `in_memory`: indicates whether to load dada into memory or `mmap`. Default is `True`.\n",
    "\n",
    "Please refer to [YAML specification](https://github.com/dmlc/dgl/blob/master/docs/source/stochastic_training/ondisk-dataset-specification.rst) for more details."
   ]
  },
  {
   "cell_type": "code",
   "execution_count": 7,
   "metadata": {
    "execution": {
     "iopub.execute_input": "2024-09-18T06:56:45.332551Z",
     "iopub.status.busy": "2024-09-18T06:56:45.332167Z",
     "iopub.status.idle": "2024-09-18T06:56:45.337212Z",
     "shell.execute_reply": "2024-09-18T06:56:45.336728Z"
    },
    "id": "ddGTWW61Lpwp"
   },
   "outputs": [],
   "source": [
    "yaml_content = f\"\"\"\n",
    "    dataset_name: homogeneous_graph_nc_lp\n",
    "    graph:\n",
    "      nodes:\n",
    "        - num: {num_nodes}\n",
    "      edges:\n",
    "        - format: csv\n",
    "          path: {os.path.basename(edges_path)}\n",
    "    feature_data:\n",
    "      - domain: node\n",
    "        name: feat_0\n",
    "        format: numpy\n",
    "        path: {os.path.basename(node_feat_0_path)}\n",
    "      - domain: node\n",
    "        name: feat_1\n",
    "        format: torch\n",
    "        path: {os.path.basename(node_feat_1_path)}\n",
    "      - domain: edge\n",
    "        name: feat_0\n",
    "        format: numpy\n",
    "        path: {os.path.basename(edge_feat_0_path)}\n",
    "      - domain: edge\n",
    "        name: feat_1\n",
    "        format: torch\n",
    "        path: {os.path.basename(edge_feat_1_path)}\n",
    "    tasks:\n",
    "      - name: node_classification\n",
    "        num_classes: 10\n",
    "        train_set:\n",
    "          - data:\n",
    "              - name: seeds\n",
    "                format: numpy\n",
    "                path: {os.path.basename(nc_train_ids_path)}\n",
    "              - name: labels\n",
    "                format: torch\n",
    "                path: {os.path.basename(nc_train_labels_path)}\n",
    "        validation_set:\n",
    "          - data:\n",
    "              - name: seeds\n",
    "                format: numpy\n",
    "                path: {os.path.basename(nc_val_ids_path)}\n",
    "              - name: labels\n",
    "                format: torch\n",
    "                path: {os.path.basename(nc_val_labels_path)}\n",
    "        test_set:\n",
    "          - data:\n",
    "              - name: seeds\n",
    "                format: numpy\n",
    "                path: {os.path.basename(nc_test_ids_path)}\n",
    "              - name: labels\n",
    "                format: torch\n",
    "                path: {os.path.basename(nc_test_labels_path)}\n",
    "      - name: link_prediction\n",
    "        num_classes: 10\n",
    "        train_set:\n",
    "          - data:\n",
    "              - name: seeds\n",
    "                format: numpy\n",
    "                path: {os.path.basename(lp_train_seeds_path)}\n",
    "        validation_set:\n",
    "          - data:\n",
    "              - name: seeds\n",
    "                format: numpy\n",
    "                path: {os.path.basename(lp_val_seeds_path)}\n",
    "              - name: labels\n",
    "                format: numpy\n",
    "                path: {os.path.basename(lp_val_labels_path)}\n",
    "              - name: indexes\n",
    "                format: numpy\n",
    "                path: {os.path.basename(lp_val_indexes_path)}\n",
    "        test_set:\n",
    "          - data:\n",
    "              - name: seeds\n",
    "                format: numpy\n",
    "                path: {os.path.basename(lp_test_seeds_path)}\n",
    "              - name: labels\n",
    "                format: numpy\n",
    "                path: {os.path.basename(lp_test_labels_path)}\n",
    "              - name: indexes\n",
    "                format: numpy\n",
    "                path: {os.path.basename(lp_test_indexes_path)}\n",
    "\"\"\"\n",
    "metadata_path = os.path.join(base_dir, \"metadata.yaml\")\n",
    "with open(metadata_path, \"w\") as f:\n",
    "  f.write(yaml_content)"
   ]
  },
  {
   "cell_type": "markdown",
   "metadata": {
    "id": "kEfybHGhOW7O"
   },
   "source": [
    "## Instantiate `OnDiskDataset`\n",
    "Now we're ready to load dataset via `dgl.graphbolt.OnDiskDataset`. When instantiating, we just pass in the base directory where `metadata.yaml` file lies.\n",
    "\n",
    "During first instantiation, GraphBolt preprocesses the raw data such as constructing `FusedCSCSamplingGraph` from edges. All data including graph, feature data, training/validation/test sets are put into `preprocessed` directory after preprocessing. Any following dataset loading will skip the preprocess stage.\n",
    "\n",
    "After preprocessing, `load()` is required to be called explicitly in order to load graph, feature data and tasks."
   ]
  },
  {
   "cell_type": "code",
   "execution_count": 8,
   "metadata": {
    "execution": {
     "iopub.execute_input": "2024-09-18T06:56:45.339371Z",
     "iopub.status.busy": "2024-09-18T06:56:45.339068Z",
     "iopub.status.idle": "2024-09-18T06:56:45.421869Z",
     "shell.execute_reply": "2024-09-18T06:56:45.421344Z"
    },
    "id": "W58CZoSzOiyo"
   },
   "outputs": [
    {
     "name": "stdout",
     "output_type": "stream",
     "text": [
      "The on-disk dataset is re-preprocessing, so the existing preprocessed dataset has been removed.\n",
      "Start to preprocess the on-disk dataset.\n",
      "Finish preprocessing the on-disk dataset.\n",
      "Loaded graph: FusedCSCSamplingGraph(csc_indptr=tensor([    0,     7,    17,  ...,  9986,  9994, 10000], dtype=torch.int32),\n",
      "                      indices=tensor([485,  22, 451,  ..., 162,  83, 244], dtype=torch.int32),\n",
      "                      total_num_nodes=1000, num_edges=10000,)\n",
      "\n",
      "Loaded feature store: TorchBasedFeatureStore(\n",
      "    {(<OnDiskFeatureDataDomain.NODE: 'node'>, None, 'feat_0'): TorchBasedFeature(\n",
      "        feature=tensor([[0.1876, 0.8263, 0.6953, 0.7733, 0.2514],\n",
      "                        [0.8129, 0.4626, 0.2879, 0.3912, 0.7007],\n",
      "                        [0.0742, 0.8798, 0.8174, 0.6519, 0.9469],\n",
      "                        ...,\n",
      "                        [0.1306, 0.4217, 0.2288, 0.7774, 0.2758],\n",
      "                        [0.7249, 0.5999, 0.2864, 0.8552, 0.6333],\n",
      "                        [0.9196, 0.4662, 0.4508, 0.3615, 0.3961]], dtype=torch.float64),\n",
      "        metadata={},\n",
      "    ), (<OnDiskFeatureDataDomain.NODE: 'node'>, None, 'feat_1'): TorchBasedFeature(\n",
      "        feature=tensor([[0.0049, 0.2713, 0.4365, 0.6562, 0.1680],\n",
      "                        [0.8289, 0.9832, 0.2571, 0.6492, 0.1832],\n",
      "                        [0.1485, 0.1582, 0.3427, 0.3278, 0.4168],\n",
      "                        ...,\n",
      "                        [0.9984, 0.0874, 0.2436, 0.6776, 0.4748],\n",
      "                        [0.1451, 0.8869, 0.7228, 0.4476, 0.2962],\n",
      "                        [0.1328, 0.4454, 0.7663, 0.0562, 0.5917]]),\n",
      "        metadata={},\n",
      "    ), (<OnDiskFeatureDataDomain.EDGE: 'edge'>, None, 'feat_0'): TorchBasedFeature(\n",
      "        feature=tensor([[0.9793, 0.2622, 0.7705, 0.7459, 0.8283],\n",
      "                        [0.8822, 0.6477, 0.9979, 0.6483, 0.0443],\n",
      "                        [0.7349, 0.5062, 0.6285, 0.4420, 0.5427],\n",
      "                        ...,\n",
      "                        [0.5834, 0.8433, 0.2425, 0.7302, 0.8129],\n",
      "                        [0.6204, 0.9772, 0.0481, 0.7689, 0.8268],\n",
      "                        [0.7149, 0.2703, 0.2319, 0.6791, 0.7113]], dtype=torch.float64),\n",
      "        metadata={},\n",
      "    ), (<OnDiskFeatureDataDomain.EDGE: 'edge'>, None, 'feat_1'): TorchBasedFeature(\n",
      "        feature=tensor([[0.4510, 0.9419, 0.2873, 0.9467, 0.7067],\n",
      "                        [0.0965, 0.9493, 0.3095, 0.7945, 0.4386],\n",
      "                        [0.9132, 0.3329, 0.7457, 0.9974, 0.5723],\n",
      "                        ...,\n",
      "                        [0.3990, 0.0913, 0.4191, 0.6689, 0.0301],\n",
      "                        [0.3289, 0.8927, 0.6004, 0.7120, 0.8760],\n",
      "                        [0.2898, 0.6798, 0.1388, 0.6638, 0.1701]]),\n",
      "        metadata={},\n",
      "    )}\n",
      ")\n",
      "\n",
      "Loaded node classification task: OnDiskTask(validation_set=ItemSet(\n",
      "               items=(tensor([690, 926, 216, 757, 596, 161, 643, 141, 837, 310, 720, 390, 169, 245,\n",
      "                   398, 996, 989,   3, 937, 496, 208, 773, 900, 744, 984, 530, 231, 336,\n",
      "                   722, 829, 494, 692, 367, 872, 290, 127, 914,  55, 212, 540, 543,  32,\n",
      "                   774, 345, 377, 568, 870, 752, 241, 979, 369, 479, 420, 528, 306, 518,\n",
      "                   591,  57, 737, 794, 725, 614, 225, 721, 961, 150, 386, 798, 246, 651,\n",
      "                   948, 805, 258, 537, 776, 176, 921, 139, 913, 263, 471,  17, 512, 163,\n",
      "                    96, 569, 441, 593, 595, 795, 410, 549, 136, 738,  28, 204, 298, 303,\n",
      "                   612, 492, 573, 893, 106, 202, 388, 659, 769, 634, 229, 218, 192, 272,\n",
      "                   323, 115, 465, 953, 983, 355, 538, 729, 585,  73, 799, 416, 276, 777,\n",
      "                   362, 346, 389, 453, 312,  30, 586,  79, 358, 686, 422, 683, 314, 742,\n",
      "                   484, 326, 765, 385, 541, 997, 924, 600, 806,  19, 785, 779, 438, 393,\n",
      "                   178, 923, 252, 911, 688, 626, 251, 871, 935, 609, 234, 755,  51, 526,\n",
      "                   790, 711, 300, 868, 262, 395, 655, 239,  21, 584, 847, 464, 353, 361,\n",
      "                   665, 808, 160, 760, 242, 931,  35, 248, 663, 647, 191, 404, 257, 840,\n",
      "                   562,   5, 516, 629], dtype=torch.int32), tensor([2, 5, 6, 0, 7, 6, 8, 4, 6, 0, 8, 9, 1, 5, 6, 1, 7, 1, 0, 3, 7, 7, 1, 9,\n",
      "                   8, 4, 9, 1, 4, 6, 9, 5, 1, 1, 8, 8, 8, 8, 5, 7, 9, 3, 1, 7, 5, 3, 4, 2,\n",
      "                   6, 5, 8, 3, 3, 8, 8, 5, 3, 7, 6, 6, 4, 5, 4, 1, 7, 4, 0, 3, 7, 9, 0, 6,\n",
      "                   8, 5, 8, 7, 9, 5, 9, 7, 4, 6, 5, 4, 1, 1, 1, 2, 1, 8, 6, 9, 9, 7, 7, 1,\n",
      "                   4, 5, 2, 9, 4, 1, 7, 2, 0, 8, 9, 8, 3, 4, 8, 4, 9, 9, 7, 0, 1, 5, 8, 7,\n",
      "                   6, 6, 4, 3, 3, 8, 6, 2, 8, 8, 5, 4, 0, 7, 9, 5, 0, 2, 4, 5, 2, 3, 2, 3,\n",
      "                   8, 0, 2, 4, 7, 1, 7, 7, 8, 7, 8, 2, 7, 8, 0, 4, 2, 0, 4, 0, 4, 1, 8, 1,\n",
      "                   1, 4, 2, 3, 0, 4, 1, 1, 5, 9, 5, 1, 9, 2, 5, 2, 2, 9, 8, 1, 9, 0, 9, 8,\n",
      "                   7, 7, 4, 0, 2, 6, 4, 5])),\n",
      "               names=('seeds', 'labels'),\n",
      "           ),\n",
      "           train_set=ItemSet(\n",
      "               items=(tensor([319, 941,  14, 203, 444,  10, 740, 716, 775, 954, 301,  40, 589,  29,\n",
      "                   439, 706, 401, 145, 181, 335, 296, 536, 916, 564, 745, 841, 277, 919,\n",
      "                   574, 557, 359, 822, 862,  43, 580, 322, 374, 836, 171, 222, 743, 999,\n",
      "                    24, 823, 884, 981, 489, 960,  56, 110, 691, 459, 940, 645, 930, 190,\n",
      "                   772,  87, 205, 431, 689, 550, 461, 669, 618, 117, 130, 874, 656, 366,\n",
      "                   630, 468, 344, 581, 286, 101, 710, 639, 544, 675, 834, 220, 490, 320,\n",
      "                   392, 759, 732,  23, 566, 175, 950, 293, 217, 998, 646,  95, 860, 832,\n",
      "                   801, 857, 879, 680, 539,  34, 892, 644, 791, 833, 676, 504, 387, 628,\n",
      "                    12, 118, 887, 198, 337, 485,  33, 527, 768, 942, 708, 270, 370, 177,\n",
      "                   146, 815, 788,   7, 442, 962, 787, 570, 920, 778, 604, 340, 488, 521,\n",
      "                   952, 985, 571, 869, 287, 660, 495, 899, 556, 880, 511, 533, 112, 183,\n",
      "                   419,  37, 394, 503, 425,  54, 104, 201, 506, 602, 883, 974, 476, 965,\n",
      "                   243, 687,  82, 109, 598, 447, 407, 186, 249,  86, 927, 274, 843, 947,\n",
      "                   671, 196,  36, 380, 968, 811, 821, 481, 756, 450, 894, 508, 523, 357,\n",
      "                    25, 830, 682, 802, 154, 372, 180, 235, 260,  39, 200, 321, 761, 448,\n",
      "                   309, 719, 966, 697, 457, 705,   6, 632, 383, 436, 552,  41, 509, 929,\n",
      "                   842, 348, 891,  18, 563, 933, 253, 238, 206, 867,  66, 418,  48, 972,\n",
      "                   587, 572, 820, 424, 402, 102, 963, 993, 590, 430,  98,  26,  97, 254,\n",
      "                   613, 350, 616, 304, 478, 426, 735, 615, 667, 592, 863, 865, 607, 182,\n",
      "                   751, 904, 311, 412, 414,  94, 695, 329, 172, 606, 499, 445, 167, 906,\n",
      "                   135, 818, 223, 889, 641,  85, 209, 519,  50, 809, 850, 873, 627, 114,\n",
      "                   356, 567,  93, 917, 168, 151, 317, 631, 501, 428, 156, 173, 373, 120,\n",
      "                    76, 858, 813, 603, 781, 703, 384, 119, 903, 413, 437, 992, 266, 132,\n",
      "                   267, 406, 240, 497, 936, 624, 734, 159, 524,  52, 417, 851, 679, 846,\n",
      "                   938, 364, 382, 754, 292, 411, 825, 800, 741, 427, 895,  31, 668, 477,\n",
      "                   588, 174, 684, 635, 967, 987, 399, 583, 193, 531, 515, 342, 970,  78,\n",
      "                    81, 666, 107,  99, 746, 213, 849, 658, 977, 988, 279, 561, 275, 261,\n",
      "                   105, 189, 560, 493,  49, 717,  75, 727, 147, 685, 307, 532, 535, 610,\n",
      "                   956, 605, 381, 939, 379, 617, 855, 804, 123, 730, 376, 122, 636, 452,\n",
      "                   622,  61, 696, 673, 341,  88,  80, 653, 352, 116, 758, 299, 244, 408,\n",
      "                     0, 551, 324, 474, 125, 232, 415, 103, 233, 839, 227, 124, 215, 149,\n",
      "                   797, 971, 339, 128, 451, 991, 486, 331, 423, 852, 944, 460, 881,  83,\n",
      "                   699, 978, 179, 909, 343, 144, 210, 534, 294, 678, 780, 283, 502, 553,\n",
      "                   440, 507, 677, 338, 657, 236, 157, 990, 652, 153, 922, 713, 197, 946,\n",
      "                   812, 328, 164,   1, 542, 698, 247,  46, 890, 285, 256, 896, 897, 640,\n",
      "                   280, 866, 980, 654, 365, 308, 140, 885, 579, 368, 770, 577, 739, 405,\n",
      "                   973, 315, 250, 237, 487, 943, 786, 529, 514, 185, 467, 828, 133, 619,\n",
      "                    65, 878, 810, 995, 578,   8, 113, 845, 158, 898, 520, 642, 480, 693,\n",
      "                   986, 433,  47, 429,   2, 354, 327, 409, 134,  69, 771, 951, 661, 700,\n",
      "                   733, 558, 199, 724, 709, 363, 522, 715,  58, 949, 434, 278, 500, 284,\n",
      "                   170, 162,  62, 525, 184, 648, 443, 131, 259, 718, 625, 783, 918, 864,\n",
      "                   803, 955, 886, 712, 750, 513,  13, 268, 397, 582,  63, 295, 187, 831,\n",
      "                   827, 547, 456, 672, 957, 108, 945, 475, 844,  84, 469, 848],\n",
      "                  dtype=torch.int32), tensor([1, 3, 6, 3, 3, 1, 6, 6, 4, 4, 0, 3, 7, 5, 5, 5, 8, 9, 9, 3, 1, 9, 4, 4,\n",
      "                   2, 9, 7, 8, 1, 4, 2, 6, 5, 1, 6, 6, 3, 7, 0, 9, 2, 1, 3, 3, 1, 2, 6, 2,\n",
      "                   4, 5, 7, 3, 7, 4, 3, 5, 8, 6, 5, 0, 7, 2, 0, 7, 7, 6, 0, 5, 0, 0, 4, 4,\n",
      "                   2, 7, 5, 9, 1, 5, 4, 7, 4, 7, 0, 1, 1, 4, 4, 8, 8, 9, 4, 2, 2, 2, 9, 2,\n",
      "                   7, 2, 8, 6, 9, 3, 4, 1, 8, 2, 8, 4, 9, 3, 6, 6, 6, 6, 2, 5, 1, 0, 9, 4,\n",
      "                   9, 4, 1, 8, 2, 8, 9, 0, 5, 4, 8, 0, 8, 9, 0, 5, 9, 5, 7, 1, 5, 9, 3, 1,\n",
      "                   5, 6, 4, 7, 5, 6, 6, 7, 5, 2, 9, 0, 8, 5, 5, 5, 6, 0, 4, 0, 2, 9, 6, 9,\n",
      "                   1, 1, 6, 4, 4, 5, 1, 4, 3, 0, 1, 3, 7, 3, 7, 5, 4, 4, 4, 5, 0, 9, 5, 1,\n",
      "                   0, 7, 0, 4, 8, 1, 4, 7, 4, 8, 4, 4, 0, 1, 8, 1, 3, 8, 9, 3, 2, 6, 2, 9,\n",
      "                   4, 6, 0, 0, 1, 2, 1, 8, 0, 0, 8, 0, 9, 9, 6, 6, 2, 0, 7, 8, 8, 1, 1, 0,\n",
      "                   2, 9, 0, 5, 0, 8, 7, 8, 4, 2, 2, 3, 3, 6, 4, 7, 9, 3, 5, 5, 4, 0, 0, 2,\n",
      "                   0, 2, 8, 3, 2, 4, 5, 0, 6, 9, 0, 4, 0, 4, 8, 1, 9, 8, 3, 1, 9, 1, 6, 8,\n",
      "                   4, 4, 7, 1, 7, 9, 9, 6, 0, 8, 0, 5, 8, 2, 7, 3, 6, 3, 5, 6, 2, 8, 3, 4,\n",
      "                   8, 7, 3, 9, 5, 1, 8, 7, 9, 0, 4, 6, 9, 4, 9, 5, 3, 7, 8, 7, 0, 7, 9, 9,\n",
      "                   8, 4, 2, 8, 6, 5, 4, 1, 3, 6, 1, 0, 0, 1, 2, 8, 3, 0, 3, 0, 1, 3, 2, 2,\n",
      "                   7, 2, 6, 6, 9, 0, 9, 3, 2, 4, 8, 9, 5, 4, 5, 5, 3, 4, 2, 6, 4, 5, 6, 8,\n",
      "                   6, 6, 9, 4, 7, 6, 3, 9, 1, 3, 2, 4, 9, 2, 8, 4, 4, 3, 2, 8, 5, 4, 6, 9,\n",
      "                   1, 9, 5, 2, 1, 9, 3, 2, 8, 3, 7, 1, 5, 4, 3, 3, 6, 1, 3, 3, 9, 5, 7, 7,\n",
      "                   0, 4, 7, 2, 5, 4, 6, 5, 1, 7, 1, 5, 5, 5, 4, 0, 9, 6, 6, 7, 4, 1, 7, 7,\n",
      "                   6, 3, 3, 3, 9, 8, 9, 5, 1, 9, 7, 2, 7, 3, 9, 4, 4, 3, 6, 6, 1, 1, 0, 9,\n",
      "                   5, 4, 0, 0, 4, 9, 6, 8, 5, 6, 0, 6, 5, 6, 9, 6, 2, 2, 7, 1, 8, 3, 4, 5,\n",
      "                   4, 3, 9, 5, 9, 5, 4, 5, 2, 0, 6, 9, 7, 1, 5, 0, 4, 2, 2, 2, 7, 1, 4, 2,\n",
      "                   6, 1, 6, 5, 4, 7, 8, 6, 4, 5, 4, 5, 1, 2, 1, 8, 6, 9, 7, 4, 6, 7, 8, 9,\n",
      "                   7, 9, 2, 5, 1, 8, 9, 4, 2, 7, 2, 6, 6, 4, 2, 6, 7, 7, 5, 1, 5, 9, 0, 9,\n",
      "                   4, 7, 2, 7, 3, 4, 9, 0, 6, 2, 8, 7, 1, 4, 2, 5, 0, 0, 8, 6, 4, 9, 8, 3])),\n",
      "               names=('seeds', 'labels'),\n",
      "           ),\n",
      "           test_set=ItemSet(\n",
      "               items=(tensor([701,  67,  16, 288,  64,  68, 824, 473, 854, 876,  90, 662, 228, 510,\n",
      "                   221, 707, 458, 332, 152, 912, 449,  60, 915,  20, 597, 559, 166, 599,\n",
      "                   129, 302,  91, 964, 928, 723, 142,  27, 728, 819, 100,  15, 378, 982,\n",
      "                   137,  89, 230, 289, 704,   4, 763, 281, 214,   9, 505, 932, 491, 838,\n",
      "                   958, 789, 621, 638, 859, 316, 219, 975, 455,  53, 908,  44, 826, 466,\n",
      "                   807, 224, 731, 546, 934,  71, 360,  92,  77, 188, 664, 905, 349, 498,\n",
      "                   793, 796, 330, 121, 959, 611, 554, 351,  22, 623, 766, 853, 165, 548,\n",
      "                   637, 264,  72, 576, 767, 670, 694, 403, 681, 748,  38, 446, 421, 269,\n",
      "                   902, 435, 470, 856, 545, 148, 517, 313, 749, 375, 226, 726, 608, 620,\n",
      "                   432, 633, 207, 601, 143, 400, 714, 861, 463, 969, 764, 753, 462, 925,\n",
      "                   784, 782, 255, 472, 762, 835, 333, 291,  45, 792, 875, 882, 994, 816,\n",
      "                    42, 649, 126, 575, 297, 910, 155, 565, 195, 747, 674, 371,  70, 111,\n",
      "                   976, 814, 273,  11, 877, 305, 211, 318, 482, 888, 454, 901, 650, 138,\n",
      "                   555,  74, 325, 594,  59, 282, 334, 347, 271, 265, 194, 391, 817, 736,\n",
      "                   396, 702, 483, 907], dtype=torch.int32), tensor([6, 7, 1, 2, 0, 1, 9, 7, 2, 2, 5, 6, 9, 3, 5, 0, 7, 2, 5, 9, 2, 2, 7, 7,\n",
      "                   4, 1, 1, 4, 6, 9, 9, 8, 0, 4, 7, 9, 6, 6, 7, 1, 2, 1, 0, 6, 8, 2, 9, 2,\n",
      "                   5, 3, 8, 9, 4, 8, 4, 2, 8, 0, 3, 1, 8, 7, 8, 2, 1, 4, 9, 2, 1, 6, 1, 2,\n",
      "                   5, 8, 9, 0, 3, 3, 5, 1, 9, 4, 7, 3, 4, 5, 1, 7, 9, 8, 0, 2, 5, 4, 5, 7,\n",
      "                   5, 3, 3, 5, 7, 4, 8, 8, 1, 5, 5, 0, 1, 7, 4, 1, 6, 9, 3, 5, 7, 6, 4, 3,\n",
      "                   0, 2, 7, 8, 9, 1, 5, 4, 5, 3, 7, 6, 5, 1, 2, 3, 5, 3, 5, 6, 4, 8, 2, 4,\n",
      "                   3, 0, 5, 4, 5, 5, 3, 9, 2, 4, 4, 7, 9, 0, 3, 5, 7, 8, 5, 1, 4, 8, 7, 7,\n",
      "                   9, 1, 9, 9, 9, 5, 6, 9, 7, 6, 4, 6, 4, 8, 8, 7, 5, 3, 5, 7, 5, 7, 1, 9,\n",
      "                   7, 9, 4, 7, 9, 5, 1, 4])),\n",
      "               names=('seeds', 'labels'),\n",
      "           ),\n",
      "           metadata={'name': 'node_classification', 'num_classes': 10},)\n",
      "\n",
      "Loaded link prediction task: OnDiskTask(validation_set=ItemSet(\n",
      "               items=(tensor([[616, 238],\n",
      "                   [909, 408],\n",
      "                   [642, 753],\n",
      "                   ...,\n",
      "                   [432, 539],\n",
      "                   [432, 225],\n",
      "                   [432, 703]], dtype=torch.int32), tensor([1., 1., 1.,  ..., 0., 0., 0.], dtype=torch.float64), tensor([   0,    1,    2,  ..., 1999, 1999, 1999])),\n",
      "               names=('seeds', 'labels', 'indexes'),\n",
      "           ),\n",
      "           train_set=ItemSet(\n",
      "               items=(tensor([[427, 810],\n",
      "                   [482, 156],\n",
      "                   [739, 383],\n",
      "                   ...,\n",
      "                   [898, 150],\n",
      "                   [ 13,  84],\n",
      "                   [878, 307]], dtype=torch.int32),),\n",
      "               names=('seeds',),\n",
      "           ),\n",
      "           test_set=ItemSet(\n",
      "               items=(tensor([[647, 821],\n",
      "                   [159, 262],\n",
      "                   [ 43, 294],\n",
      "                   ...,\n",
      "                   [183, 119],\n",
      "                   [183, 117],\n",
      "                   [183, 553]], dtype=torch.int32), tensor([1., 1., 1.,  ..., 0., 0., 0.], dtype=torch.float64), tensor([   0,    1,    2,  ..., 1999, 1999, 1999])),\n",
      "               names=('seeds', 'labels', 'indexes'),\n",
      "           ),\n",
      "           metadata={'name': 'link_prediction', 'num_classes': 10},)\n",
      "\n"
     ]
    },
    {
     "name": "stderr",
     "output_type": "stream",
     "text": [
      "/home/ubuntu/regression_test/dgl/python/dgl/graphbolt/internal/utils.py:16: FutureWarning: You are using `torch.load` with `weights_only=False` (the current default value), which uses the default pickle module implicitly. It is possible to construct malicious pickle data which will execute arbitrary code during unpickling (See https://github.com/pytorch/pytorch/blob/main/SECURITY.md#untrusted-models for more details). In a future release, the default value for `weights_only` will be flipped to `True`. This limits the functions that could be executed during unpickling. Arbitrary objects will no longer be allowed to be loaded via this mode unless they are explicitly allowlisted by the user via `torch.serialization.add_safe_globals`. We recommend you start setting `weights_only=True` for any use case where you don't have full control of the loaded file. Please open an issue on GitHub for any issues related to this experimental feature.\n",
      "  return torch.load(path)\n",
      "/home/ubuntu/regression_test/dgl/python/dgl/graphbolt/impl/ondisk_dataset.py:460: DGLWarning: Edge feature is stored, but edge IDs are not saved.\n",
      "  dgl_warning(\"Edge feature is stored, but edge IDs are not saved.\")\n",
      "/home/ubuntu/regression_test/dgl/python/dgl/graphbolt/impl/ondisk_dataset.py:852: FutureWarning: You are using `torch.load` with `weights_only=False` (the current default value), which uses the default pickle module implicitly. It is possible to construct malicious pickle data which will execute arbitrary code during unpickling (See https://github.com/pytorch/pytorch/blob/main/SECURITY.md#untrusted-models for more details). In a future release, the default value for `weights_only` will be flipped to `True`. This limits the functions that could be executed during unpickling. Arbitrary objects will no longer be allowed to be loaded via this mode unless they are explicitly allowlisted by the user via `torch.serialization.add_safe_globals`. We recommend you start setting `weights_only=True` for any use case where you don't have full control of the loaded file. Please open an issue on GitHub for any issues related to this experimental feature.\n",
      "  return torch.load(graph_topology.path)\n"
     ]
    }
   ],
   "source": [
    "dataset = gb.OnDiskDataset(base_dir).load()\n",
    "graph = dataset.graph\n",
    "print(f\"Loaded graph: {graph}\\n\")\n",
    "\n",
    "feature = dataset.feature\n",
    "print(f\"Loaded feature store: {feature}\\n\")\n",
    "\n",
    "tasks = dataset.tasks\n",
    "nc_task = tasks[0]\n",
    "print(f\"Loaded node classification task: {nc_task}\\n\")\n",
    "lp_task = tasks[1]\n",
    "print(f\"Loaded link prediction task: {lp_task}\\n\")"
   ]
  }
 ],
 "metadata": {
  "colab": {
   "private_outputs": true,
   "provenance": []
  },
  "kernelspec": {
   "display_name": "Python 3",
   "name": "python3"
  },
  "language_info": {
   "codemirror_mode": {
    "name": "ipython",
    "version": 3
   },
   "file_extension": ".py",
   "mimetype": "text/x-python",
   "name": "python",
   "nbconvert_exporter": "python",
   "pygments_lexer": "ipython3",
   "version": "3.10.14"
  }
 },
 "nbformat": 4,
 "nbformat_minor": 0
}

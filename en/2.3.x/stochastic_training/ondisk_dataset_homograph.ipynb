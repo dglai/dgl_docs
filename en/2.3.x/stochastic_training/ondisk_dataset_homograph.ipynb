{
 "cells": [
  {
   "cell_type": "markdown",
   "metadata": {
    "id": "FnFhPMaAfLtJ"
   },
   "source": [
    "# OnDiskDataset for Homogeneous Graph\n",
    "\n",
    "[![Open In Colab](https://colab.research.google.com/assets/colab-badge.svg)](https://colab.research.google.com/github/dmlc/dgl/blob/master/notebooks/stochastic_training/ondisk_dataset_homograph.ipynb) [![GitHub](https://img.shields.io/badge/-View%20on%20GitHub-181717?logo=github&logoColor=ffffff)](https://github.com/dmlc/dgl/blob/master/notebooks/stochastic_training/ondisk_dataset_homograph.ipynb)\n",
    "\n",
    "This tutorial shows how to create `OnDiskDataset` for homogeneous graph that could be used in **GraphBolt** framework.\n",
    "\n",
    "By the end of this tutorial, you will be able to\n",
    "\n",
    "- organize graph structure data.\n",
    "- organize feature data.\n",
    "- organize training/validation/test set for specific tasks.\n",
    "\n",
    "To create an ``OnDiskDataset`` object, you need to organize all the data including graph structure, feature data and tasks into a directory. The directory should contain a ``metadata.yaml`` file that describes the metadata of the dataset.\n",
    "\n",
    "Now let's generate various data step by step and organize them together to instantiate `OnDiskDataset` finally."
   ]
  },
  {
   "cell_type": "markdown",
   "metadata": {
    "id": "Wlb19DtWgtzq"
   },
   "source": [
    "## Install DGL package"
   ]
  },
  {
   "cell_type": "code",
   "execution_count": 1,
   "metadata": {
    "execution": {
     "iopub.execute_input": "2024-08-21T14:35:12.979822Z",
     "iopub.status.busy": "2024-08-21T14:35:12.979465Z",
     "iopub.status.idle": "2024-08-21T14:35:16.813397Z",
     "shell.execute_reply": "2024-08-21T14:35:16.812641Z"
    },
    "id": "UojlT9ZGgyr9"
   },
   "outputs": [
    {
     "name": "stdout",
     "output_type": "stream",
     "text": [
      "Looking in links: https://data.dgl.ai/wheels-test/repo.html\r\n",
      "Requirement already satisfied: dgl in /opt/conda/envs/dgl-dev-cpu/lib/python3.10/site-packages (2.2a240410)\r\n",
      "Requirement already satisfied: numpy>=1.14.0 in /opt/conda/envs/dgl-dev-cpu/lib/python3.10/site-packages (from dgl) (1.26.4)\r\n",
      "Requirement already satisfied: scipy>=1.1.0 in /opt/conda/envs/dgl-dev-cpu/lib/python3.10/site-packages (from dgl) (1.14.0)\r\n",
      "Requirement already satisfied: networkx>=2.1 in /opt/conda/envs/dgl-dev-cpu/lib/python3.10/site-packages (from dgl) (3.3)\r\n",
      "Requirement already satisfied: requests>=2.19.0 in /opt/conda/envs/dgl-dev-cpu/lib/python3.10/site-packages (from dgl) (2.32.3)\r\n",
      "Requirement already satisfied: tqdm in /opt/conda/envs/dgl-dev-cpu/lib/python3.10/site-packages (from dgl) (4.66.5)\r\n",
      "Requirement already satisfied: psutil>=5.8.0 in /opt/conda/envs/dgl-dev-cpu/lib/python3.10/site-packages (from dgl) (6.0.0)\r\n",
      "Requirement already satisfied: torchdata>=0.5.0 in /opt/conda/envs/dgl-dev-cpu/lib/python3.10/site-packages (from dgl) (0.7.1+6427ed9)\r\n",
      "Requirement already satisfied: pandas in /opt/conda/envs/dgl-dev-cpu/lib/python3.10/site-packages (from dgl) (2.2.2)\r\n",
      "Requirement already satisfied: charset-normalizer<4,>=2 in /opt/conda/envs/dgl-dev-cpu/lib/python3.10/site-packages (from requests>=2.19.0->dgl) (3.3.2)\r\n",
      "Requirement already satisfied: idna<4,>=2.5 in /opt/conda/envs/dgl-dev-cpu/lib/python3.10/site-packages (from requests>=2.19.0->dgl) (3.7)\r\n",
      "Requirement already satisfied: urllib3<3,>=1.21.1 in /opt/conda/envs/dgl-dev-cpu/lib/python3.10/site-packages (from requests>=2.19.0->dgl) (2.2.2)\r\n",
      "Requirement already satisfied: certifi>=2017.4.17 in /opt/conda/envs/dgl-dev-cpu/lib/python3.10/site-packages (from requests>=2.19.0->dgl) (2024.7.4)\r\n",
      "Requirement already satisfied: torch>=2 in /opt/conda/envs/dgl-dev-cpu/lib/python3.10/site-packages (from torchdata>=0.5.0->dgl) (2.1.0+cpu)\r\n"
     ]
    },
    {
     "name": "stdout",
     "output_type": "stream",
     "text": [
      "Requirement already satisfied: python-dateutil>=2.8.2 in /opt/conda/envs/dgl-dev-cpu/lib/python3.10/site-packages (from pandas->dgl) (2.9.0.post0)\r\n",
      "Requirement already satisfied: pytz>=2020.1 in /opt/conda/envs/dgl-dev-cpu/lib/python3.10/site-packages (from pandas->dgl) (2024.1)\r\n",
      "Requirement already satisfied: tzdata>=2022.7 in /opt/conda/envs/dgl-dev-cpu/lib/python3.10/site-packages (from pandas->dgl) (2024.1)\r\n",
      "Requirement already satisfied: six>=1.5 in /opt/conda/envs/dgl-dev-cpu/lib/python3.10/site-packages (from python-dateutil>=2.8.2->pandas->dgl) (1.16.0)\r\n",
      "Requirement already satisfied: filelock in /opt/conda/envs/dgl-dev-cpu/lib/python3.10/site-packages (from torch>=2->torchdata>=0.5.0->dgl) (3.15.4)\r\n",
      "Requirement already satisfied: typing-extensions in /opt/conda/envs/dgl-dev-cpu/lib/python3.10/site-packages (from torch>=2->torchdata>=0.5.0->dgl) (4.12.2)\r\n",
      "Requirement already satisfied: sympy in /opt/conda/envs/dgl-dev-cpu/lib/python3.10/site-packages (from torch>=2->torchdata>=0.5.0->dgl) (1.13.2)\r\n",
      "Requirement already satisfied: jinja2 in /opt/conda/envs/dgl-dev-cpu/lib/python3.10/site-packages (from torch>=2->torchdata>=0.5.0->dgl) (3.1.4)\r\n",
      "Requirement already satisfied: fsspec in /opt/conda/envs/dgl-dev-cpu/lib/python3.10/site-packages (from torch>=2->torchdata>=0.5.0->dgl) (2024.6.1)\r\n"
     ]
    },
    {
     "name": "stdout",
     "output_type": "stream",
     "text": [
      "Requirement already satisfied: MarkupSafe>=2.0 in /opt/conda/envs/dgl-dev-cpu/lib/python3.10/site-packages (from jinja2->torch>=2->torchdata>=0.5.0->dgl) (2.1.5)\r\n",
      "Requirement already satisfied: mpmath<1.4,>=1.1.0 in /opt/conda/envs/dgl-dev-cpu/lib/python3.10/site-packages (from sympy->torch>=2->torchdata>=0.5.0->dgl) (1.3.0)\r\n"
     ]
    },
    {
     "name": "stdout",
     "output_type": "stream",
     "text": [
      "DGL installed!\n"
     ]
    }
   ],
   "source": [
    "# Install required packages.\n",
    "import os\n",
    "import torch\n",
    "import numpy as np\n",
    "os.environ['TORCH'] = torch.__version__\n",
    "os.environ['DGLBACKEND'] = \"pytorch\"\n",
    "\n",
    "# Install the CPU version.\n",
    "device = torch.device(\"cpu\")\n",
    "!pip install --pre dgl -f https://data.dgl.ai/wheels-test/repo.html\n",
    "\n",
    "try:\n",
    "    import dgl\n",
    "    import dgl.graphbolt as gb\n",
    "    installed = True\n",
    "except ImportError as error:\n",
    "    installed = False\n",
    "    print(error)\n",
    "print(\"DGL installed!\" if installed else \"DGL not found!\")"
   ]
  },
  {
   "cell_type": "markdown",
   "metadata": {
    "id": "2R7WnSbjsfbr"
   },
   "source": [
    "## Data preparation\n",
    "In order to demonstrate how to organize various data, let's create a base directory first."
   ]
  },
  {
   "cell_type": "code",
   "execution_count": 2,
   "metadata": {
    "execution": {
     "iopub.execute_input": "2024-08-21T14:35:16.816291Z",
     "iopub.status.busy": "2024-08-21T14:35:16.815838Z",
     "iopub.status.idle": "2024-08-21T14:35:16.819973Z",
     "shell.execute_reply": "2024-08-21T14:35:16.819276Z"
    },
    "id": "SZipbzyltLfO"
   },
   "outputs": [
    {
     "name": "stdout",
     "output_type": "stream",
     "text": [
      "Created base directory: ./ondisk_dataset_homograph\n"
     ]
    }
   ],
   "source": [
    "base_dir = './ondisk_dataset_homograph'\n",
    "os.makedirs(base_dir, exist_ok=True)\n",
    "print(f\"Created base directory: {base_dir}\")"
   ]
  },
  {
   "cell_type": "markdown",
   "metadata": {
    "id": "qhNtIn_xhlnl"
   },
   "source": [
    "### Generate graph structure data\n",
    "For homogeneous graph, we just need to save edges(namely seeds) into  **Numpy** or **CSV** file.\n",
    "\n",
    "Note:\n",
    "- when saving to **Numpy**, the array requires to be in shape of `(2, N)`. This format is recommended as constructing graph from it is much faster than **CSV** file.\n",
    "- when saving to **CSV** file, do not save index and header.\n"
   ]
  },
  {
   "cell_type": "code",
   "execution_count": 3,
   "metadata": {
    "execution": {
     "iopub.execute_input": "2024-08-21T14:35:16.822538Z",
     "iopub.status.busy": "2024-08-21T14:35:16.822113Z",
     "iopub.status.idle": "2024-08-21T14:35:16.835489Z",
     "shell.execute_reply": "2024-08-21T14:35:16.834745Z"
    },
    "id": "HcBt4G5BmSjr"
   },
   "outputs": [
    {
     "name": "stdout",
     "output_type": "stream",
     "text": [
      "Part of edges: [[946 921]\n",
      " [196 880]\n",
      " [335 801]\n",
      " [405 414]\n",
      " [966 508]]\n",
      "Edges are saved into ./ondisk_dataset_homograph/edges.csv\n"
     ]
    }
   ],
   "source": [
    "import numpy as np\n",
    "import pandas as pd\n",
    "num_nodes = 1000\n",
    "num_edges = 10 * num_nodes\n",
    "edges_path = os.path.join(base_dir, \"edges.csv\")\n",
    "edges = np.random.randint(0, num_nodes, size=(num_edges, 2))\n",
    "\n",
    "print(f\"Part of edges: {edges[:5, :]}\")\n",
    "\n",
    "df = pd.DataFrame(edges)\n",
    "df.to_csv(edges_path, index=False, header=False)\n",
    "\n",
    "print(f\"Edges are saved into {edges_path}\")"
   ]
  },
  {
   "cell_type": "markdown",
   "metadata": {
    "id": "kh-4cPtzpcaH"
   },
   "source": [
    "### Generate feature data for graph\n",
    "For feature data, numpy arrays and torch tensors are supported for now."
   ]
  },
  {
   "cell_type": "code",
   "execution_count": 4,
   "metadata": {
    "execution": {
     "iopub.execute_input": "2024-08-21T14:35:16.838046Z",
     "iopub.status.busy": "2024-08-21T14:35:16.837664Z",
     "iopub.status.idle": "2024-08-21T14:35:16.851237Z",
     "shell.execute_reply": "2024-08-21T14:35:16.850684Z"
    },
    "id": "_PVu1u5brBhF"
   },
   "outputs": [
    {
     "name": "stdout",
     "output_type": "stream",
     "text": [
      "Part of node feature [feat_0]: [[2.90359564e-01 6.85787038e-01 3.67669596e-01 9.09877772e-01\n",
      "  7.94929029e-01]\n",
      " [3.93329526e-01 3.62204195e-01 2.81729066e-05 8.16021395e-01\n",
      "  5.36913930e-01]\n",
      " [6.96535515e-01 2.38958033e-01 7.55604881e-01 9.07340085e-01\n",
      "  9.88727835e-01]]\n",
      "Node feature [feat_0] is saved to ./ondisk_dataset_homograph/node-feat-0.npy\n",
      "\n",
      "Part of node feature [feat_1]: tensor([[0.6027, 0.3290, 0.4378, 0.4647, 0.3487],\n",
      "        [0.3613, 0.0283, 0.3264, 0.9733, 0.2534],\n",
      "        [0.2404, 0.7612, 0.2469, 0.3210, 0.2572]])\n",
      "Node feature [feat_1] is saved to ./ondisk_dataset_homograph/node-feat-1.pt\n",
      "\n",
      "Part of edge feature [feat_0]: [[0.16537751 0.26626443 0.34790716 0.57069693 0.75361577]\n",
      " [0.98029403 0.08011333 0.06884362 0.88599325 0.43240675]\n",
      " [0.24732044 0.94710142 0.50789437 0.91712233 0.61811848]]\n",
      "Edge feature [feat_0] is saved to ./ondisk_dataset_homograph/edge-feat-0.npy\n",
      "\n",
      "Part of edge feature [feat_1]: tensor([[0.3261, 0.5470, 0.9918, 0.4114, 0.7841],\n",
      "        [0.6607, 0.3044, 0.2452, 0.6315, 0.4784],\n",
      "        [0.4348, 0.2493, 0.3620, 0.9376, 0.0804]])\n",
      "Edge feature [feat_1] is saved to ./ondisk_dataset_homograph/edge-feat-1.pt\n",
      "\n"
     ]
    }
   ],
   "source": [
    "# Generate node feature in numpy array.\n",
    "node_feat_0_path = os.path.join(base_dir, \"node-feat-0.npy\")\n",
    "node_feat_0 = np.random.rand(num_nodes, 5)\n",
    "print(f\"Part of node feature [feat_0]: {node_feat_0[:3, :]}\")\n",
    "np.save(node_feat_0_path, node_feat_0)\n",
    "print(f\"Node feature [feat_0] is saved to {node_feat_0_path}\\n\")\n",
    "\n",
    "# Generate another node feature in torch tensor\n",
    "node_feat_1_path = os.path.join(base_dir, \"node-feat-1.pt\")\n",
    "node_feat_1 = torch.rand(num_nodes, 5)\n",
    "print(f\"Part of node feature [feat_1]: {node_feat_1[:3, :]}\")\n",
    "torch.save(node_feat_1, node_feat_1_path)\n",
    "print(f\"Node feature [feat_1] is saved to {node_feat_1_path}\\n\")\n",
    "\n",
    "# Generate edge feature in numpy array.\n",
    "edge_feat_0_path = os.path.join(base_dir, \"edge-feat-0.npy\")\n",
    "edge_feat_0 = np.random.rand(num_edges, 5)\n",
    "print(f\"Part of edge feature [feat_0]: {edge_feat_0[:3, :]}\")\n",
    "np.save(edge_feat_0_path, edge_feat_0)\n",
    "print(f\"Edge feature [feat_0] is saved to {edge_feat_0_path}\\n\")\n",
    "\n",
    "# Generate another edge feature in torch tensor\n",
    "edge_feat_1_path = os.path.join(base_dir, \"edge-feat-1.pt\")\n",
    "edge_feat_1 = torch.rand(num_edges, 5)\n",
    "print(f\"Part of edge feature [feat_1]: {edge_feat_1[:3, :]}\")\n",
    "torch.save(edge_feat_1, edge_feat_1_path)\n",
    "print(f\"Edge feature [feat_1] is saved to {edge_feat_1_path}\\n\")\n"
   ]
  },
  {
   "cell_type": "markdown",
   "metadata": {
    "id": "ZyqgOtsIwzh_"
   },
   "source": [
    "### Generate tasks\n",
    "`OnDiskDataset` supports multiple tasks. For each task, we need to prepare training/validation/test sets respectively. Such sets usually vary among different tasks. In this tutorial, let's create a **Node Classification** task and **Link Prediction** task."
   ]
  },
  {
   "cell_type": "markdown",
   "metadata": {
    "id": "hVxHaDIfzCkr"
   },
   "source": [
    "#### Node Classification Task\n",
    "For node classification task, we need **node IDs** and corresponding **labels** for each training/validation/test set. Like feature data, numpy arrays and torch tensors are supported for these sets."
   ]
  },
  {
   "cell_type": "code",
   "execution_count": 5,
   "metadata": {
    "execution": {
     "iopub.execute_input": "2024-08-21T14:35:16.853774Z",
     "iopub.status.busy": "2024-08-21T14:35:16.853371Z",
     "iopub.status.idle": "2024-08-21T14:35:16.863267Z",
     "shell.execute_reply": "2024-08-21T14:35:16.862747Z"
    },
    "id": "S5-fyBbHzTCO"
   },
   "outputs": [
    {
     "name": "stdout",
     "output_type": "stream",
     "text": [
      "Part of train ids for node classification: [979 906 122]\n",
      "NC train ids are saved to ./ondisk_dataset_homograph/nc-train-ids.npy\n",
      "\n",
      "Part of train labels for node classification: tensor([6, 2, 0])\n",
      "NC train labels are saved to ./ondisk_dataset_homograph/nc-train-labels.pt\n",
      "\n",
      "Part of val ids for node classification: [252 665 282]\n",
      "NC val ids are saved to ./ondisk_dataset_homograph/nc-val-ids.npy\n",
      "\n",
      "Part of val labels for node classification: tensor([8, 7, 1])\n",
      "NC val labels are saved to ./ondisk_dataset_homograph/nc-val-labels.pt\n",
      "\n",
      "Part of test ids for node classification: [123 247  96]\n",
      "NC test ids are saved to ./ondisk_dataset_homograph/nc-test-ids.npy\n",
      "\n",
      "Part of test labels for node classification: tensor([5, 2, 8])\n",
      "NC test labels are saved to ./ondisk_dataset_homograph/nc-test-labels.pt\n",
      "\n"
     ]
    }
   ],
   "source": [
    "num_trains = int(num_nodes * 0.6)\n",
    "num_vals = int(num_nodes * 0.2)\n",
    "num_tests = num_nodes - num_trains - num_vals\n",
    "\n",
    "ids = np.arange(num_nodes)\n",
    "np.random.shuffle(ids)\n",
    "\n",
    "nc_train_ids_path = os.path.join(base_dir, \"nc-train-ids.npy\")\n",
    "nc_train_ids = ids[:num_trains]\n",
    "print(f\"Part of train ids for node classification: {nc_train_ids[:3]}\")\n",
    "np.save(nc_train_ids_path, nc_train_ids)\n",
    "print(f\"NC train ids are saved to {nc_train_ids_path}\\n\")\n",
    "\n",
    "nc_train_labels_path = os.path.join(base_dir, \"nc-train-labels.pt\")\n",
    "nc_train_labels = torch.randint(0, 10, (num_trains,))\n",
    "print(f\"Part of train labels for node classification: {nc_train_labels[:3]}\")\n",
    "torch.save(nc_train_labels, nc_train_labels_path)\n",
    "print(f\"NC train labels are saved to {nc_train_labels_path}\\n\")\n",
    "\n",
    "nc_val_ids_path = os.path.join(base_dir, \"nc-val-ids.npy\")\n",
    "nc_val_ids = ids[num_trains:num_trains+num_vals]\n",
    "print(f\"Part of val ids for node classification: {nc_val_ids[:3]}\")\n",
    "np.save(nc_val_ids_path, nc_val_ids)\n",
    "print(f\"NC val ids are saved to {nc_val_ids_path}\\n\")\n",
    "\n",
    "nc_val_labels_path = os.path.join(base_dir, \"nc-val-labels.pt\")\n",
    "nc_val_labels = torch.randint(0, 10, (num_vals,))\n",
    "print(f\"Part of val labels for node classification: {nc_val_labels[:3]}\")\n",
    "torch.save(nc_val_labels, nc_val_labels_path)\n",
    "print(f\"NC val labels are saved to {nc_val_labels_path}\\n\")\n",
    "\n",
    "nc_test_ids_path = os.path.join(base_dir, \"nc-test-ids.npy\")\n",
    "nc_test_ids = ids[-num_tests:]\n",
    "print(f\"Part of test ids for node classification: {nc_test_ids[:3]}\")\n",
    "np.save(nc_test_ids_path, nc_test_ids)\n",
    "print(f\"NC test ids are saved to {nc_test_ids_path}\\n\")\n",
    "\n",
    "nc_test_labels_path = os.path.join(base_dir, \"nc-test-labels.pt\")\n",
    "nc_test_labels = torch.randint(0, 10, (num_tests,))\n",
    "print(f\"Part of test labels for node classification: {nc_test_labels[:3]}\")\n",
    "torch.save(nc_test_labels, nc_test_labels_path)\n",
    "print(f\"NC test labels are saved to {nc_test_labels_path}\\n\")"
   ]
  },
  {
   "cell_type": "markdown",
   "metadata": {
    "id": "LhAcDCHQ_KJ0"
   },
   "source": [
    "#### Link Prediction Task\n",
    "For link prediction task, we need **seeds** or **corresponding labels and indexes** which representing the pos/neg property and group of the seeds for each training/validation/test set. Like feature data, numpy arrays and torch tensors are supported for these sets."
   ]
  },
  {
   "cell_type": "code",
   "execution_count": 6,
   "metadata": {
    "execution": {
     "iopub.execute_input": "2024-08-21T14:35:16.865745Z",
     "iopub.status.busy": "2024-08-21T14:35:16.865352Z",
     "iopub.status.idle": "2024-08-21T14:35:16.881974Z",
     "shell.execute_reply": "2024-08-21T14:35:16.881465Z"
    },
    "id": "u0jCnXIcAQy4"
   },
   "outputs": [
    {
     "name": "stdout",
     "output_type": "stream",
     "text": [
      "Part of train seeds for link prediction: [[946 921]\n",
      " [196 880]\n",
      " [335 801]]\n",
      "LP train seeds are saved to ./ondisk_dataset_homograph/lp-train-seeds.npy\n",
      "\n",
      "Part of val seeds for link prediction: [[217 313]\n",
      " [941 318]\n",
      " [ 79 171]]\n",
      "LP val seeds are saved to ./ondisk_dataset_homograph/lp-val-seeds.npy\n",
      "\n",
      "Part of val labels for link prediction: [1. 1. 1.]\n",
      "LP val labels are saved to ./ondisk_dataset_homograph/lp-val-labels.npy\n",
      "\n",
      "Part of val indexes for link prediction: [0 1 2]\n",
      "LP val indexes are saved to ./ondisk_dataset_homograph/lp-val-indexes.npy\n",
      "\n",
      "Part of test seeds for link prediction: [[561 367]\n",
      " [249 344]\n",
      " [199 658]]\n",
      "LP test seeds are saved to ./ondisk_dataset_homograph/lp-test-seeds.npy\n",
      "\n",
      "Part of val labels for link prediction: [1. 1. 1.]\n",
      "LP test labels are saved to ./ondisk_dataset_homograph/lp-test-labels.npy\n",
      "\n",
      "Part of test indexes for link prediction: [0 1 2]\n",
      "LP test indexes are saved to ./ondisk_dataset_homograph/lp-test-indexes.npy\n",
      "\n"
     ]
    }
   ],
   "source": [
    "num_trains = int(num_edges * 0.6)\n",
    "num_vals = int(num_edges * 0.2)\n",
    "num_tests = num_edges - num_trains - num_vals\n",
    "\n",
    "lp_train_seeds_path = os.path.join(base_dir, \"lp-train-seeds.npy\")\n",
    "lp_train_seeds = edges[:num_trains, :]\n",
    "print(f\"Part of train seeds for link prediction: {lp_train_seeds[:3]}\")\n",
    "np.save(lp_train_seeds_path, lp_train_seeds)\n",
    "print(f\"LP train seeds are saved to {lp_train_seeds_path}\\n\")\n",
    "\n",
    "lp_val_seeds_path = os.path.join(base_dir, \"lp-val-seeds.npy\")\n",
    "lp_val_seeds = edges[num_trains:num_trains+num_vals, :]\n",
    "lp_val_neg_dsts = np.random.randint(0, num_nodes, (num_vals, 10)).reshape(-1)\n",
    "lp_val_neg_srcs = np.repeat(lp_val_seeds[:,0], 10)\n",
    "lp_val_neg_seeds = np.concatenate((lp_val_neg_srcs, lp_val_neg_dsts)).reshape(2,-1).T\n",
    "lp_val_seeds = np.concatenate((lp_val_seeds, lp_val_neg_seeds))\n",
    "print(f\"Part of val seeds for link prediction: {lp_val_seeds[:3]}\")\n",
    "np.save(lp_val_seeds_path, lp_val_seeds)\n",
    "print(f\"LP val seeds are saved to {lp_val_seeds_path}\\n\")\n",
    "\n",
    "lp_val_labels_path = os.path.join(base_dir, \"lp-val-labels.npy\")\n",
    "lp_val_labels = np.empty(num_vals * (10 + 1))\n",
    "lp_val_labels[:num_vals] = 1\n",
    "lp_val_labels[num_vals:] = 0\n",
    "print(f\"Part of val labels for link prediction: {lp_val_labels[:3]}\")\n",
    "np.save(lp_val_labels_path, lp_val_labels)\n",
    "print(f\"LP val labels are saved to {lp_val_labels_path}\\n\")\n",
    "\n",
    "lp_val_indexes_path = os.path.join(base_dir, \"lp-val-indexes.npy\")\n",
    "lp_val_indexes = np.arange(0, num_vals)\n",
    "lp_val_neg_indexes = np.repeat(lp_val_indexes, 10)\n",
    "lp_val_indexes = np.concatenate([lp_val_indexes, lp_val_neg_indexes])\n",
    "print(f\"Part of val indexes for link prediction: {lp_val_indexes[:3]}\")\n",
    "np.save(lp_val_indexes_path, lp_val_indexes)\n",
    "print(f\"LP val indexes are saved to {lp_val_indexes_path}\\n\")\n",
    "\n",
    "lp_test_seeds_path = os.path.join(base_dir, \"lp-test-seeds.npy\")\n",
    "lp_test_seeds = edges[-num_tests:, :]\n",
    "lp_test_neg_dsts = np.random.randint(0, num_nodes, (num_tests, 10)).reshape(-1)\n",
    "lp_test_neg_srcs = np.repeat(lp_test_seeds[:,0], 10)\n",
    "lp_test_neg_seeds = np.concatenate((lp_test_neg_srcs, lp_test_neg_dsts)).reshape(2,-1).T\n",
    "lp_test_seeds = np.concatenate((lp_test_seeds, lp_test_neg_seeds))\n",
    "print(f\"Part of test seeds for link prediction: {lp_test_seeds[:3]}\")\n",
    "np.save(lp_test_seeds_path, lp_test_seeds)\n",
    "print(f\"LP test seeds are saved to {lp_test_seeds_path}\\n\")\n",
    "\n",
    "lp_test_labels_path = os.path.join(base_dir, \"lp-test-labels.npy\")\n",
    "lp_test_labels = np.empty(num_tests * (10 + 1))\n",
    "lp_test_labels[:num_tests] = 1\n",
    "lp_test_labels[num_tests:] = 0\n",
    "print(f\"Part of val labels for link prediction: {lp_test_labels[:3]}\")\n",
    "np.save(lp_test_labels_path, lp_test_labels)\n",
    "print(f\"LP test labels are saved to {lp_test_labels_path}\\n\")\n",
    "\n",
    "lp_test_indexes_path = os.path.join(base_dir, \"lp-test-indexes.npy\")\n",
    "lp_test_indexes = np.arange(0, num_tests)\n",
    "lp_test_neg_indexes = np.repeat(lp_test_indexes, 10)\n",
    "lp_test_indexes = np.concatenate([lp_test_indexes, lp_test_neg_indexes])\n",
    "print(f\"Part of test indexes for link prediction: {lp_test_indexes[:3]}\")\n",
    "np.save(lp_test_indexes_path, lp_test_indexes)\n",
    "print(f\"LP test indexes are saved to {lp_test_indexes_path}\\n\")"
   ]
  },
  {
   "cell_type": "markdown",
   "metadata": {
    "id": "wbk6-wxRK-6S"
   },
   "source": [
    "## Organize Data into YAML File\n",
    "Now we need to create a `metadata.yaml` file which contains the paths, dadta types of graph structure, feature data, training/validation/test sets.\n",
    "\n",
    "Notes:\n",
    "- all path should be relative to `metadata.yaml`.\n",
    "- Below fields are optional and not specified in below example.\n",
    "  - `in_memory`: indicates whether to load dada into memory or `mmap`. Default is `True`.\n",
    "\n",
    "Please refer to [YAML specification](https://github.com/dmlc/dgl/blob/master/docs/source/stochastic_training/ondisk-dataset-specification.rst) for more details."
   ]
  },
  {
   "cell_type": "code",
   "execution_count": 7,
   "metadata": {
    "execution": {
     "iopub.execute_input": "2024-08-21T14:35:16.884336Z",
     "iopub.status.busy": "2024-08-21T14:35:16.884131Z",
     "iopub.status.idle": "2024-08-21T14:35:16.889301Z",
     "shell.execute_reply": "2024-08-21T14:35:16.888813Z"
    },
    "id": "ddGTWW61Lpwp"
   },
   "outputs": [],
   "source": [
    "yaml_content = f\"\"\"\n",
    "    dataset_name: homogeneous_graph_nc_lp\n",
    "    graph:\n",
    "      nodes:\n",
    "        - num: {num_nodes}\n",
    "      edges:\n",
    "        - format: csv\n",
    "          path: {os.path.basename(edges_path)}\n",
    "    feature_data:\n",
    "      - domain: node\n",
    "        name: feat_0\n",
    "        format: numpy\n",
    "        path: {os.path.basename(node_feat_0_path)}\n",
    "      - domain: node\n",
    "        name: feat_1\n",
    "        format: torch\n",
    "        path: {os.path.basename(node_feat_1_path)}\n",
    "      - domain: edge\n",
    "        name: feat_0\n",
    "        format: numpy\n",
    "        path: {os.path.basename(edge_feat_0_path)}\n",
    "      - domain: edge\n",
    "        name: feat_1\n",
    "        format: torch\n",
    "        path: {os.path.basename(edge_feat_1_path)}\n",
    "    tasks:\n",
    "      - name: node_classification\n",
    "        num_classes: 10\n",
    "        train_set:\n",
    "          - data:\n",
    "              - name: seeds\n",
    "                format: numpy\n",
    "                path: {os.path.basename(nc_train_ids_path)}\n",
    "              - name: labels\n",
    "                format: torch\n",
    "                path: {os.path.basename(nc_train_labels_path)}\n",
    "        validation_set:\n",
    "          - data:\n",
    "              - name: seeds\n",
    "                format: numpy\n",
    "                path: {os.path.basename(nc_val_ids_path)}\n",
    "              - name: labels\n",
    "                format: torch\n",
    "                path: {os.path.basename(nc_val_labels_path)}\n",
    "        test_set:\n",
    "          - data:\n",
    "              - name: seeds\n",
    "                format: numpy\n",
    "                path: {os.path.basename(nc_test_ids_path)}\n",
    "              - name: labels\n",
    "                format: torch\n",
    "                path: {os.path.basename(nc_test_labels_path)}\n",
    "      - name: link_prediction\n",
    "        num_classes: 10\n",
    "        train_set:\n",
    "          - data:\n",
    "              - name: seeds\n",
    "                format: numpy\n",
    "                path: {os.path.basename(lp_train_seeds_path)}\n",
    "        validation_set:\n",
    "          - data:\n",
    "              - name: seeds\n",
    "                format: numpy\n",
    "                path: {os.path.basename(lp_val_seeds_path)}\n",
    "              - name: labels\n",
    "                format: numpy\n",
    "                path: {os.path.basename(lp_val_labels_path)}\n",
    "              - name: indexes\n",
    "                format: numpy\n",
    "                path: {os.path.basename(lp_val_indexes_path)}\n",
    "        test_set:\n",
    "          - data:\n",
    "              - name: seeds\n",
    "                format: numpy\n",
    "                path: {os.path.basename(lp_test_seeds_path)}\n",
    "              - name: labels\n",
    "                format: numpy\n",
    "                path: {os.path.basename(lp_test_labels_path)}\n",
    "              - name: indexes\n",
    "                format: numpy\n",
    "                path: {os.path.basename(lp_test_indexes_path)}\n",
    "\"\"\"\n",
    "metadata_path = os.path.join(base_dir, \"metadata.yaml\")\n",
    "with open(metadata_path, \"w\") as f:\n",
    "  f.write(yaml_content)"
   ]
  },
  {
   "cell_type": "markdown",
   "metadata": {
    "id": "kEfybHGhOW7O"
   },
   "source": [
    "## Instantiate `OnDiskDataset`\n",
    "Now we're ready to load dataset via `dgl.graphbolt.OnDiskDataset`. When instantiating, we just pass in the base directory where `metadata.yaml` file lies.\n",
    "\n",
    "During first instantiation, GraphBolt preprocesses the raw data such as constructing `FusedCSCSamplingGraph` from edges. All data including graph, feature data, training/validation/test sets are put into `preprocessed` directory after preprocessing. Any following dataset loading will skip the preprocess stage.\n",
    "\n",
    "After preprocessing, `load()` is required to be called explicitly in order to load graph, feature data and tasks."
   ]
  },
  {
   "cell_type": "code",
   "execution_count": 8,
   "metadata": {
    "execution": {
     "iopub.execute_input": "2024-08-21T14:35:16.891530Z",
     "iopub.status.busy": "2024-08-21T14:35:16.891224Z",
     "iopub.status.idle": "2024-08-21T14:35:16.978978Z",
     "shell.execute_reply": "2024-08-21T14:35:16.978389Z"
    },
    "id": "W58CZoSzOiyo"
   },
   "outputs": [
    {
     "name": "stdout",
     "output_type": "stream",
     "text": [
      "The on-disk dataset is re-preprocessing, so the existing preprocessed dataset has been removed.\n",
      "Start to preprocess the on-disk dataset.\n",
      "Finish preprocessing the on-disk dataset.\n",
      "Loaded graph: FusedCSCSamplingGraph(csc_indptr=tensor([    0,    11,    22,  ...,  9985,  9991, 10000], dtype=torch.int32),\n",
      "                      indices=tensor([531, 248, 772,  ..., 704, 338, 426], dtype=torch.int32),\n",
      "                      total_num_nodes=1000, num_edges=10000,)\n",
      "\n",
      "Loaded feature store: TorchBasedFeatureStore(\n",
      "    {(<OnDiskFeatureDataDomain.NODE: 'node'>, None, 'feat_0'): TorchBasedFeature(\n",
      "        feature=tensor([[2.9036e-01, 6.8579e-01, 3.6767e-01, 9.0988e-01, 7.9493e-01],\n",
      "                        [3.9333e-01, 3.6220e-01, 2.8173e-05, 8.1602e-01, 5.3691e-01],\n",
      "                        [6.9654e-01, 2.3896e-01, 7.5560e-01, 9.0734e-01, 9.8873e-01],\n",
      "                        ...,\n",
      "                        [2.2270e-01, 1.0925e-01, 9.9094e-01, 4.4239e-01, 6.6956e-01],\n",
      "                        [6.3668e-01, 7.5155e-01, 6.6522e-01, 1.6977e-01, 4.3294e-01],\n",
      "                        [4.6537e-01, 5.4382e-01, 7.6135e-01, 4.6100e-01, 6.3653e-02]],\n",
      "                       dtype=torch.float64),\n",
      "        metadata={},\n",
      "    ), (<OnDiskFeatureDataDomain.NODE: 'node'>, None, 'feat_1'): TorchBasedFeature(\n",
      "        feature=tensor([[0.6027, 0.3290, 0.4378, 0.4647, 0.3487],\n",
      "                        [0.3613, 0.0283, 0.3264, 0.9733, 0.2534],\n",
      "                        [0.2404, 0.7612, 0.2469, 0.3210, 0.2572],\n",
      "                        ...,\n",
      "                        [0.2080, 0.0815, 0.1837, 0.7818, 0.6535],\n",
      "                        [0.6853, 0.4473, 0.6226, 0.1743, 0.5166],\n",
      "                        [0.0106, 0.6130, 0.1346, 0.2212, 0.0323]]),\n",
      "        metadata={},\n",
      "    ), (<OnDiskFeatureDataDomain.EDGE: 'edge'>, None, 'feat_0'): TorchBasedFeature(\n",
      "        feature=tensor([[0.1654, 0.2663, 0.3479, 0.5707, 0.7536],\n",
      "                        [0.9803, 0.0801, 0.0688, 0.8860, 0.4324],\n",
      "                        [0.2473, 0.9471, 0.5079, 0.9171, 0.6181],\n",
      "                        ...,\n",
      "                        [0.5259, 0.0378, 0.9365, 0.0135, 0.5984],\n",
      "                        [0.7694, 0.7847, 0.3285, 0.7096, 0.7687],\n",
      "                        [0.4544, 0.3894, 0.8548, 0.1517, 0.2807]], dtype=torch.float64),\n",
      "        metadata={},\n",
      "    ), (<OnDiskFeatureDataDomain.EDGE: 'edge'>, None, 'feat_1'): TorchBasedFeature(\n",
      "        feature=tensor([[0.3261, 0.5470, 0.9918, 0.4114, 0.7841],\n",
      "                        [0.6607, 0.3044, 0.2452, 0.6315, 0.4784],\n",
      "                        [0.4348, 0.2493, 0.3620, 0.9376, 0.0804],\n",
      "                        ...,\n",
      "                        [0.5870, 0.8738, 0.5409, 0.7281, 0.2409],\n",
      "                        [0.9482, 0.0383, 0.6449, 0.2948, 0.3490],\n",
      "                        [0.4778, 0.5478, 0.4191, 0.6888, 0.8490]]),\n",
      "        metadata={},\n",
      "    )}\n",
      ")\n",
      "\n",
      "Loaded node classification task: OnDiskTask(validation_set=ItemSet(\n",
      "               items=(tensor([252, 665, 282, 601, 170, 320, 570,  68, 406, 751, 537, 223, 664, 225,\n",
      "                   200, 358, 524, 349, 599, 945,  31, 202, 509,  53, 292, 355, 730,  94,\n",
      "                   786, 191, 793, 571, 153, 920, 241, 581, 975, 368, 367, 177, 229, 919,\n",
      "                    74, 211,  51, 550, 580, 380,  25, 198, 100, 650, 775, 972, 714, 669,\n",
      "                   372,  86,  65, 308, 310, 141, 494,  62, 728, 351, 812, 422, 345, 582,\n",
      "                   806, 802, 102, 429, 611,  79, 242, 566,  78, 412, 620, 895, 707, 593,\n",
      "                   877, 591, 661, 162, 267, 531, 680, 908, 493, 197, 336, 118, 681, 965,\n",
      "                    93,  52, 632, 362, 446, 871, 329, 116,  82, 129, 553, 486, 513, 465,\n",
      "                   984, 158, 515, 696, 970, 489, 940, 729, 398,   7, 309, 454, 695, 481,\n",
      "                   857, 657, 497, 498, 511,   5, 955, 104, 346, 323, 259, 628, 388, 110,\n",
      "                   894, 997, 838, 759, 554,  34, 152, 735, 333, 386, 289, 815,  26, 907,\n",
      "                   463, 473, 818, 892, 727, 918, 560, 886, 556,  35, 172, 897, 868, 271,\n",
      "                    60, 483, 797,  11, 626, 467, 149,   0, 939, 317,  28,  80, 151, 562,\n",
      "                   822,  47, 201, 117, 389, 192, 808, 686, 935, 131, 156,  88, 687, 875,\n",
      "                   426, 378, 178, 739], dtype=torch.int32), tensor([8, 7, 1, 9, 4, 3, 1, 7, 2, 2, 6, 0, 8, 9, 4, 5, 2, 0, 2, 7, 6, 1, 9, 5,\n",
      "                   5, 1, 2, 3, 6, 2, 2, 8, 4, 4, 5, 6, 5, 5, 4, 0, 4, 0, 2, 6, 2, 7, 3, 8,\n",
      "                   3, 4, 1, 8, 3, 7, 8, 3, 9, 7, 8, 7, 7, 3, 6, 2, 5, 2, 4, 0, 7, 4, 3, 2,\n",
      "                   9, 9, 8, 9, 5, 3, 1, 8, 5, 2, 3, 1, 6, 4, 3, 5, 4, 4, 0, 6, 4, 2, 2, 7,\n",
      "                   8, 8, 0, 7, 4, 2, 0, 4, 8, 4, 7, 1, 3, 7, 3, 8, 4, 4, 9, 0, 2, 6, 2, 3,\n",
      "                   9, 8, 8, 2, 6, 4, 8, 4, 3, 2, 3, 1, 7, 2, 1, 8, 3, 9, 6, 5, 3, 1, 8, 8,\n",
      "                   0, 6, 2, 2, 0, 3, 0, 5, 7, 3, 3, 8, 3, 4, 5, 6, 2, 5, 8, 3, 0, 9, 3, 3,\n",
      "                   3, 3, 5, 5, 2, 8, 5, 9, 0, 2, 9, 3, 6, 2, 4, 6, 9, 9, 2, 8, 6, 1, 2, 1,\n",
      "                   5, 0, 4, 6, 3, 0, 6, 6])),\n",
      "               names=('seeds', 'labels'),\n",
      "           ),\n",
      "           train_set=ItemSet(\n",
      "               items=(tensor([979, 906, 122, 701, 549, 741, 263, 133, 161, 410, 699, 385, 673, 227,\n",
      "                   605,  23, 722, 898, 431, 698, 190,  63, 280, 596, 168, 798,  39, 766,\n",
      "                   265, 840, 272, 602, 215, 977, 169, 881, 683, 887, 863, 536, 361, 127,\n",
      "                   607, 981, 226, 902, 853, 604, 785, 239, 636, 938,  83, 532, 598, 948,\n",
      "                   464,  50, 622, 873, 273, 668, 795, 998, 396, 652, 344, 773, 969,  70,\n",
      "                   501,  85,  13, 567, 712, 765, 944, 175,  16, 525, 936, 449, 903, 942,\n",
      "                   543, 461,  90,  49, 909, 325, 458, 804, 912, 876, 754, 135, 781, 181,\n",
      "                   414, 641, 555,  46, 519, 439, 184, 469, 459, 246, 264, 776, 573, 817,\n",
      "                   921, 130, 946, 508, 995, 824, 112, 637, 114, 736, 326,  73, 205, 931,\n",
      "                   711, 353, 612, 643, 971, 210,  24, 967, 749, 994, 340, 230,  38, 885,\n",
      "                     8, 140, 930, 842, 600, 401, 208, 217,  97, 811, 723, 841, 296, 403,\n",
      "                   846, 451, 800, 328, 303, 633, 709, 278, 658, 756, 651, 448, 216, 435,\n",
      "                   866, 608, 179, 286, 893, 478, 716, 220, 590, 315, 828, 261, 408, 780,\n",
      "                   400, 740, 769, 107, 803, 904, 639, 476, 734, 338, 258, 634, 477, 288,\n",
      "                    32, 479, 788, 538, 613, 499, 219, 428, 597, 352, 901, 384, 629,  92,\n",
      "                   951, 150,  48, 867, 470, 471, 586, 569, 196, 528, 791, 844, 748, 488,\n",
      "                   125, 860, 542, 900, 746, 185, 500, 516, 199,  33, 750, 128, 371, 848,\n",
      "                   251, 228, 757, 764, 452, 941, 771, 675, 390, 106, 136,  75, 163, 926,\n",
      "                   105, 305, 713, 565, 485, 364, 316, 983, 222, 910, 496, 761, 148, 218,\n",
      "                   379, 949, 976, 915, 339, 999, 585, 693, 157,  77, 207, 677, 671, 816,\n",
      "                   335, 357, 294, 409, 792, 574, 521,  21, 213, 953, 311,  10, 799, 306,\n",
      "                    43, 285, 663, 724, 445, 880, 779,  67,  40, 297, 268, 300, 823, 865,\n",
      "                   266, 407, 674, 474, 992,  72, 322, 831, 733, 577, 694,  41, 214, 480,\n",
      "                   359, 180, 174, 961, 514, 195, 526, 475, 646,  61, 491, 642, 284, 418,\n",
      "                    98, 512, 490, 743, 209, 606, 455, 790, 747, 260, 609, 630, 293, 966,\n",
      "                   472, 253, 670, 655,  81, 617, 878, 334, 113, 774, 132, 572,  69,  22,\n",
      "                   827, 437, 763, 166, 244, 575, 568, 688, 533, 666, 142, 784, 864, 603,\n",
      "                   829,  56, 595, 441, 507, 980, 275, 718, 576, 250, 155,   6, 343, 986,\n",
      "                   810, 836, 363, 647, 504, 134, 950, 635, 833, 732, 373, 281, 954, 468,\n",
      "                    87, 427, 623, 964, 579, 762, 290, 927, 760, 742, 327, 644, 342,  15,\n",
      "                   237, 221, 705, 801,  91, 692, 559, 183, 206, 809, 738,  58, 189, 167,\n",
      "                   391, 144,   4, 814, 330, 432, 254, 564, 165, 204, 662, 557, 295, 394,\n",
      "                   883, 615, 395, 392, 374, 160, 854, 588, 159, 552, 719, 988, 889, 503,\n",
      "                   925, 821, 702, 235, 987, 444, 231, 376, 996, 126, 990, 399,   1, 138,\n",
      "                   234, 356, 956, 957,  71, 960, 203, 706, 589, 101, 667, 417, 778, 720,\n",
      "                   872, 850, 534, 269, 529, 313, 768, 502, 291, 438, 929, 614, 535, 933,\n",
      "                   145,  17, 146, 404, 869, 745, 859, 434, 796, 279, 845, 689, 304, 337,\n",
      "                   934, 262, 381, 947, 354,  37, 139, 710, 679, 423, 660, 835,  14, 837,\n",
      "                   164, 302, 366, 625,  20, 545, 318, 283, 782, 539, 517, 737, 546, 974,\n",
      "                   616, 794,  89, 314, 360,  57, 959, 319, 697, 442, 482, 411, 783, 393,\n",
      "                   767, 257, 678, 377, 962, 851, 541, 421, 182, 558, 443, 594, 462, 530,\n",
      "                   958, 691, 704, 370, 548, 978, 924, 624,  66, 973, 154, 993, 891, 212,\n",
      "                    54, 232,  18, 341, 299, 858, 587, 238, 584, 708, 937, 522],\n",
      "                  dtype=torch.int32), tensor([6, 2, 0, 1, 2, 9, 4, 4, 8, 8, 0, 8, 2, 4, 9, 5, 3, 0, 8, 9, 1, 2, 3, 0,\n",
      "                   0, 0, 8, 7, 5, 3, 2, 3, 1, 3, 1, 5, 5, 0, 6, 7, 3, 6, 1, 0, 5, 5, 7, 2,\n",
      "                   5, 5, 1, 4, 6, 2, 7, 4, 2, 6, 3, 4, 4, 9, 0, 9, 5, 8, 5, 5, 0, 7, 5, 2,\n",
      "                   1, 2, 3, 6, 4, 3, 0, 2, 8, 9, 5, 0, 8, 8, 1, 4, 8, 2, 7, 8, 3, 0, 5, 6,\n",
      "                   3, 8, 9, 0, 4, 2, 8, 6, 7, 4, 6, 2, 5, 1, 4, 9, 4, 5, 0, 0, 0, 2, 3, 0,\n",
      "                   3, 8, 5, 8, 1, 6, 6, 6, 9, 2, 6, 4, 6, 4, 1, 1, 2, 4, 8, 5, 8, 5, 1, 8,\n",
      "                   9, 5, 0, 7, 9, 9, 4, 3, 9, 9, 4, 3, 1, 4, 5, 7, 4, 9, 5, 4, 2, 7, 7, 5,\n",
      "                   0, 6, 3, 6, 5, 0, 4, 6, 4, 7, 6, 0, 8, 6, 0, 2, 6, 7, 8, 6, 9, 1, 2, 1,\n",
      "                   2, 5, 2, 7, 1, 8, 7, 5, 8, 4, 1, 7, 1, 1, 1, 6, 3, 7, 7, 2, 4, 6, 9, 4,\n",
      "                   7, 9, 9, 3, 9, 0, 9, 9, 8, 8, 9, 5, 0, 9, 3, 3, 0, 7, 6, 3, 5, 9, 2, 5,\n",
      "                   0, 2, 6, 4, 1, 3, 6, 1, 9, 2, 8, 1, 1, 2, 4, 1, 7, 2, 5, 9, 3, 9, 3, 9,\n",
      "                   9, 3, 4, 4, 4, 6, 1, 5, 7, 5, 7, 3, 0, 8, 7, 6, 6, 1, 7, 7, 7, 3, 5, 4,\n",
      "                   5, 3, 9, 9, 8, 8, 3, 6, 3, 1, 3, 7, 8, 7, 9, 7, 3, 6, 8, 7, 1, 7, 7, 7,\n",
      "                   4, 3, 5, 7, 7, 6, 8, 6, 9, 9, 0, 2, 4, 0, 1, 8, 1, 4, 2, 1, 0, 7, 5, 0,\n",
      "                   4, 8, 4, 6, 8, 3, 1, 9, 1, 3, 0, 0, 1, 3, 5, 0, 5, 8, 8, 9, 0, 1, 6, 4,\n",
      "                   1, 1, 2, 4, 9, 6, 1, 8, 5, 5, 5, 9, 2, 3, 0, 9, 5, 4, 3, 8, 5, 6, 0, 5,\n",
      "                   8, 4, 7, 5, 9, 4, 2, 5, 9, 2, 6, 8, 6, 9, 8, 5, 1, 0, 7, 7, 2, 7, 7, 2,\n",
      "                   1, 0, 0, 0, 5, 5, 8, 2, 1, 3, 2, 3, 4, 9, 4, 0, 8, 0, 4, 4, 6, 9, 3, 1,\n",
      "                   9, 8, 3, 6, 5, 3, 1, 4, 8, 0, 2, 6, 9, 5, 7, 9, 5, 2, 0, 3, 8, 1, 5, 0,\n",
      "                   7, 3, 0, 9, 7, 6, 5, 2, 7, 6, 6, 0, 2, 6, 8, 8, 9, 0, 3, 4, 1, 6, 6, 0,\n",
      "                   9, 1, 3, 6, 4, 8, 0, 1, 6, 7, 4, 6, 4, 4, 7, 1, 0, 2, 0, 6, 6, 5, 3, 2,\n",
      "                   7, 3, 6, 8, 7, 5, 2, 8, 9, 0, 5, 0, 5, 7, 9, 2, 1, 3, 0, 3, 1, 5, 0, 8,\n",
      "                   1, 3, 0, 4, 3, 1, 9, 4, 1, 9, 7, 5, 1, 5, 3, 2, 3, 8, 7, 1, 1, 9, 1, 1,\n",
      "                   1, 5, 4, 5, 0, 9, 8, 3, 5, 5, 7, 3, 0, 1, 1, 7, 0, 7, 2, 8, 7, 1, 3, 7,\n",
      "                   9, 1, 7, 1, 1, 7, 6, 8, 4, 8, 3, 5, 2, 2, 8, 1, 8, 6, 6, 4, 3, 1, 2, 5])),\n",
      "               names=('seeds', 'labels'),\n",
      "           ),\n",
      "           test_set=ItemSet(\n",
      "               items=(tensor([123, 247,  96, 240,  64, 563, 820, 274, 298,  36, 770, 991, 561, 193,\n",
      "                   487, 249, 813, 922, 457, 137, 233, 236, 171, 301, 424, 520, 331, 645,\n",
      "                   856, 143, 108,  45,  27, 420, 653, 855, 621, 119, 825, 839,   3,  44,\n",
      "                   985, 968, 527, 656, 120, 551, 896, 832, 618, 447, 874, 287, 744, 415,\n",
      "                   905, 834, 506, 916, 450, 758, 147, 700, 830, 453, 923, 884, 194, 436,\n",
      "                   899, 755, 648,  42,  99, 187, 847, 176, 753, 397, 484,  55, 583, 419,\n",
      "                   433,  30, 849, 638,  84, 510, 256, 430, 382, 843, 682, 627, 715, 703,\n",
      "                   989, 913, 592, 685, 243, 890, 440, 659,  76, 721, 789, 103, 684, 425,\n",
      "                   505, 276, 649, 676, 277, 492, 787, 619, 365, 928, 879, 518, 255, 654,\n",
      "                   932, 726, 405,   9, 460,  95, 456, 640, 413, 610, 369, 914, 350,   2,\n",
      "                   321, 578, 332, 109, 416, 248, 402, 752, 495, 852, 819, 690, 348, 826,\n",
      "                   188, 224, 466, 115,  19, 917, 307, 717, 544, 121, 731, 862, 383, 387,\n",
      "                   982, 312, 807, 777, 375, 631, 324, 805, 911,  29, 672, 963, 772, 523,\n",
      "                   870, 861,  12,  59, 943, 540, 547, 347, 173, 186, 952, 245, 124, 111,\n",
      "                   725, 882, 888, 270], dtype=torch.int32), tensor([5, 2, 8, 9, 6, 3, 7, 6, 1, 9, 0, 2, 5, 9, 6, 7, 9, 2, 1, 5, 0, 7, 6, 3,\n",
      "                   6, 8, 7, 5, 5, 1, 3, 6, 7, 3, 1, 2, 9, 3, 3, 6, 4, 6, 2, 2, 8, 0, 0, 8,\n",
      "                   8, 0, 9, 2, 3, 3, 1, 8, 9, 2, 9, 2, 9, 1, 8, 5, 2, 6, 5, 5, 1, 7, 5, 5,\n",
      "                   9, 6, 6, 8, 7, 0, 9, 1, 8, 7, 9, 3, 4, 9, 3, 2, 4, 7, 2, 3, 8, 4, 7, 0,\n",
      "                   8, 3, 2, 7, 3, 6, 6, 9, 7, 2, 0, 8, 5, 5, 4, 4, 5, 3, 4, 4, 3, 1, 3, 3,\n",
      "                   0, 8, 4, 0, 7, 3, 8, 8, 9, 5, 7, 3, 7, 4, 6, 6, 5, 0, 6, 8, 0, 8, 3, 2,\n",
      "                   2, 1, 5, 9, 0, 7, 5, 1, 0, 8, 7, 0, 5, 6, 6, 5, 0, 4, 8, 6, 3, 6, 8, 8,\n",
      "                   0, 4, 4, 9, 2, 5, 1, 5, 7, 0, 5, 2, 5, 2, 1, 8, 1, 0, 2, 3, 2, 3, 4, 5,\n",
      "                   7, 4, 4, 5, 9, 2, 2, 8])),\n",
      "               names=('seeds', 'labels'),\n",
      "           ),\n",
      "           metadata={'name': 'node_classification', 'num_classes': 10},)\n",
      "\n",
      "Loaded link prediction task: OnDiskTask(validation_set=ItemSet(\n",
      "               items=(tensor([[217, 313],\n",
      "                   [941, 318],\n",
      "                   [ 79, 171],\n",
      "                   ...,\n",
      "                   [190, 458],\n",
      "                   [190, 144],\n",
      "                   [190, 373]], dtype=torch.int32), tensor([1., 1., 1.,  ..., 0., 0., 0.], dtype=torch.float64), tensor([   0,    1,    2,  ..., 1999, 1999, 1999])),\n",
      "               names=('seeds', 'labels', 'indexes'),\n",
      "           ),\n",
      "           train_set=ItemSet(\n",
      "               items=(tensor([[946, 921],\n",
      "                   [196, 880],\n",
      "                   [335, 801],\n",
      "                   ...,\n",
      "                   [894, 422],\n",
      "                   [301, 954],\n",
      "                   [489, 293]], dtype=torch.int32),),\n",
      "               names=('seeds',),\n",
      "           ),\n",
      "           test_set=ItemSet(\n",
      "               items=(tensor([[561, 367],\n",
      "                   [249, 344],\n",
      "                   [199, 658],\n",
      "                   ...,\n",
      "                   [530, 723],\n",
      "                   [530, 732],\n",
      "                   [530, 346]], dtype=torch.int32), tensor([1., 1., 1.,  ..., 0., 0., 0.], dtype=torch.float64), tensor([   0,    1,    2,  ..., 1999, 1999, 1999])),\n",
      "               names=('seeds', 'labels', 'indexes'),\n",
      "           ),\n",
      "           metadata={'name': 'link_prediction', 'num_classes': 10},)\n",
      "\n"
     ]
    },
    {
     "name": "stderr",
     "output_type": "stream",
     "text": [
      "/home/ubuntu/regression_test/dgl/python/dgl/graphbolt/impl/ondisk_dataset.py:460: DGLWarning: Edge feature is stored, but edge IDs are not saved.\n",
      "  dgl_warning(\"Edge feature is stored, but edge IDs are not saved.\")\n"
     ]
    }
   ],
   "source": [
    "dataset = gb.OnDiskDataset(base_dir).load()\n",
    "graph = dataset.graph\n",
    "print(f\"Loaded graph: {graph}\\n\")\n",
    "\n",
    "feature = dataset.feature\n",
    "print(f\"Loaded feature store: {feature}\\n\")\n",
    "\n",
    "tasks = dataset.tasks\n",
    "nc_task = tasks[0]\n",
    "print(f\"Loaded node classification task: {nc_task}\\n\")\n",
    "lp_task = tasks[1]\n",
    "print(f\"Loaded link prediction task: {lp_task}\\n\")"
   ]
  }
 ],
 "metadata": {
  "colab": {
   "private_outputs": true,
   "provenance": []
  },
  "kernelspec": {
   "display_name": "Python 3",
   "name": "python3"
  },
  "language_info": {
   "codemirror_mode": {
    "name": "ipython",
    "version": 3
   },
   "file_extension": ".py",
   "mimetype": "text/x-python",
   "name": "python",
   "nbconvert_exporter": "python",
   "pygments_lexer": "ipython3",
   "version": "3.10.14"
  }
 },
 "nbformat": 4,
 "nbformat_minor": 0
}

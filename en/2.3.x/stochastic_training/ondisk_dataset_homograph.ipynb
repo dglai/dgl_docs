{
 "cells": [
  {
   "cell_type": "markdown",
   "metadata": {
    "id": "FnFhPMaAfLtJ"
   },
   "source": [
    "# OnDiskDataset for Homogeneous Graph\n",
    "\n",
    "[![Open In Colab](https://colab.research.google.com/assets/colab-badge.svg)](https://colab.research.google.com/github/dmlc/dgl/blob/master/notebooks/stochastic_training/ondisk_dataset_homograph.ipynb) [![GitHub](https://img.shields.io/badge/-View%20on%20GitHub-181717?logo=github&logoColor=ffffff)](https://github.com/dmlc/dgl/blob/master/notebooks/stochastic_training/ondisk_dataset_homograph.ipynb)\n",
    "\n",
    "This tutorial shows how to create `OnDiskDataset` for homogeneous graph that could be used in **GraphBolt** framework.\n",
    "\n",
    "By the end of this tutorial, you will be able to\n",
    "\n",
    "- organize graph structure data.\n",
    "- organize feature data.\n",
    "- organize training/validation/test set for specific tasks.\n",
    "\n",
    "To create an ``OnDiskDataset`` object, you need to organize all the data including graph structure, feature data and tasks into a directory. The directory should contain a ``metadata.yaml`` file that describes the metadata of the dataset.\n",
    "\n",
    "Now let's generate various data step by step and organize them together to instantiate `OnDiskDataset` finally."
   ]
  },
  {
   "cell_type": "markdown",
   "metadata": {
    "id": "Wlb19DtWgtzq"
   },
   "source": [
    "## Install DGL package"
   ]
  },
  {
   "cell_type": "code",
   "execution_count": 1,
   "metadata": {
    "execution": {
     "iopub.execute_input": "2024-09-02T05:23:31.582417Z",
     "iopub.status.busy": "2024-09-02T05:23:31.582113Z",
     "iopub.status.idle": "2024-09-02T05:23:35.359812Z",
     "shell.execute_reply": "2024-09-02T05:23:35.359057Z"
    },
    "id": "UojlT9ZGgyr9"
   },
   "outputs": [
    {
     "name": "stdout",
     "output_type": "stream",
     "text": [
      "Looking in links: https://data.dgl.ai/wheels-test/repo.html\r\n",
      "Requirement already satisfied: dgl in /opt/conda/envs/dgl-dev-cpu/lib/python3.10/site-packages (2.2a240410)\r\n",
      "Requirement already satisfied: numpy>=1.14.0 in /opt/conda/envs/dgl-dev-cpu/lib/python3.10/site-packages (from dgl) (1.26.4)\r\n",
      "Requirement already satisfied: scipy>=1.1.0 in /opt/conda/envs/dgl-dev-cpu/lib/python3.10/site-packages (from dgl) (1.14.0)\r\n",
      "Requirement already satisfied: networkx>=2.1 in /opt/conda/envs/dgl-dev-cpu/lib/python3.10/site-packages (from dgl) (3.3)\r\n",
      "Requirement already satisfied: requests>=2.19.0 in /opt/conda/envs/dgl-dev-cpu/lib/python3.10/site-packages (from dgl) (2.32.3)\r\n",
      "Requirement already satisfied: tqdm in /opt/conda/envs/dgl-dev-cpu/lib/python3.10/site-packages (from dgl) (4.66.5)\r\n",
      "Requirement already satisfied: psutil>=5.8.0 in /opt/conda/envs/dgl-dev-cpu/lib/python3.10/site-packages (from dgl) (6.0.0)\r\n",
      "Requirement already satisfied: torchdata>=0.5.0 in /opt/conda/envs/dgl-dev-cpu/lib/python3.10/site-packages (from dgl) (0.7.1)\r\n",
      "Requirement already satisfied: pandas in /opt/conda/envs/dgl-dev-cpu/lib/python3.10/site-packages (from dgl) (2.2.2)\r\n"
     ]
    },
    {
     "name": "stdout",
     "output_type": "stream",
     "text": [
      "Requirement already satisfied: charset-normalizer<4,>=2 in /opt/conda/envs/dgl-dev-cpu/lib/python3.10/site-packages (from requests>=2.19.0->dgl) (3.3.2)\r\n",
      "Requirement already satisfied: idna<4,>=2.5 in /opt/conda/envs/dgl-dev-cpu/lib/python3.10/site-packages (from requests>=2.19.0->dgl) (3.8)\r\n",
      "Requirement already satisfied: urllib3<3,>=1.21.1 in /opt/conda/envs/dgl-dev-cpu/lib/python3.10/site-packages (from requests>=2.19.0->dgl) (2.2.2)\r\n",
      "Requirement already satisfied: certifi>=2017.4.17 in /opt/conda/envs/dgl-dev-cpu/lib/python3.10/site-packages (from requests>=2.19.0->dgl) (2024.7.4)\r\n",
      "Requirement already satisfied: torch>=2 in /opt/conda/envs/dgl-dev-cpu/lib/python3.10/site-packages (from torchdata>=0.5.0->dgl) (2.4.0+cpu)\r\n"
     ]
    },
    {
     "name": "stdout",
     "output_type": "stream",
     "text": [
      "Requirement already satisfied: python-dateutil>=2.8.2 in /opt/conda/envs/dgl-dev-cpu/lib/python3.10/site-packages (from pandas->dgl) (2.9.0.post0)\r\n",
      "Requirement already satisfied: pytz>=2020.1 in /opt/conda/envs/dgl-dev-cpu/lib/python3.10/site-packages (from pandas->dgl) (2024.1)\r\n",
      "Requirement already satisfied: tzdata>=2022.7 in /opt/conda/envs/dgl-dev-cpu/lib/python3.10/site-packages (from pandas->dgl) (2024.1)\r\n",
      "Requirement already satisfied: six>=1.5 in /opt/conda/envs/dgl-dev-cpu/lib/python3.10/site-packages (from python-dateutil>=2.8.2->pandas->dgl) (1.16.0)\r\n",
      "Requirement already satisfied: filelock in /opt/conda/envs/dgl-dev-cpu/lib/python3.10/site-packages (from torch>=2->torchdata>=0.5.0->dgl) (3.15.4)\r\n",
      "Requirement already satisfied: typing-extensions>=4.8.0 in /opt/conda/envs/dgl-dev-cpu/lib/python3.10/site-packages (from torch>=2->torchdata>=0.5.0->dgl) (4.12.2)\r\n",
      "Requirement already satisfied: sympy in /opt/conda/envs/dgl-dev-cpu/lib/python3.10/site-packages (from torch>=2->torchdata>=0.5.0->dgl) (1.13.2)\r\n",
      "Requirement already satisfied: jinja2 in /opt/conda/envs/dgl-dev-cpu/lib/python3.10/site-packages (from torch>=2->torchdata>=0.5.0->dgl) (3.1.4)\r\n",
      "Requirement already satisfied: fsspec in /opt/conda/envs/dgl-dev-cpu/lib/python3.10/site-packages (from torch>=2->torchdata>=0.5.0->dgl) (2024.6.1)\r\n"
     ]
    },
    {
     "name": "stdout",
     "output_type": "stream",
     "text": [
      "Requirement already satisfied: MarkupSafe>=2.0 in /opt/conda/envs/dgl-dev-cpu/lib/python3.10/site-packages (from jinja2->torch>=2->torchdata>=0.5.0->dgl) (2.1.5)\r\n",
      "Requirement already satisfied: mpmath<1.4,>=1.1.0 in /opt/conda/envs/dgl-dev-cpu/lib/python3.10/site-packages (from sympy->torch>=2->torchdata>=0.5.0->dgl) (1.3.0)\r\n"
     ]
    },
    {
     "name": "stderr",
     "output_type": "stream",
     "text": [
      "/home/ubuntu/regression_test/dgl/python/dgl/graphbolt/base.py:82: FutureWarning: `torch.library.impl_abstract` was renamed to `torch.library.register_fake`. Please use that instead; we will remove `torch.library.impl_abstract` in a future version of PyTorch.\n",
      "  @torch.library.impl_abstract(\"graphbolt::expand_indptr\")\n"
     ]
    },
    {
     "name": "stdout",
     "output_type": "stream",
     "text": [
      "DGL installed!\n"
     ]
    }
   ],
   "source": [
    "# Install required packages.\n",
    "import os\n",
    "import torch\n",
    "import numpy as np\n",
    "os.environ['TORCH'] = torch.__version__\n",
    "os.environ['DGLBACKEND'] = \"pytorch\"\n",
    "\n",
    "# Install the CPU version.\n",
    "device = torch.device(\"cpu\")\n",
    "!pip install --pre dgl -f https://data.dgl.ai/wheels-test/repo.html\n",
    "\n",
    "try:\n",
    "    import dgl\n",
    "    import dgl.graphbolt as gb\n",
    "    installed = True\n",
    "except ImportError as error:\n",
    "    installed = False\n",
    "    print(error)\n",
    "print(\"DGL installed!\" if installed else \"DGL not found!\")"
   ]
  },
  {
   "cell_type": "markdown",
   "metadata": {
    "id": "2R7WnSbjsfbr"
   },
   "source": [
    "## Data preparation\n",
    "In order to demonstrate how to organize various data, let's create a base directory first."
   ]
  },
  {
   "cell_type": "code",
   "execution_count": 2,
   "metadata": {
    "execution": {
     "iopub.execute_input": "2024-09-02T05:23:35.362788Z",
     "iopub.status.busy": "2024-09-02T05:23:35.362163Z",
     "iopub.status.idle": "2024-09-02T05:23:35.365973Z",
     "shell.execute_reply": "2024-09-02T05:23:35.365378Z"
    },
    "id": "SZipbzyltLfO"
   },
   "outputs": [
    {
     "name": "stdout",
     "output_type": "stream",
     "text": [
      "Created base directory: ./ondisk_dataset_homograph\n"
     ]
    }
   ],
   "source": [
    "base_dir = './ondisk_dataset_homograph'\n",
    "os.makedirs(base_dir, exist_ok=True)\n",
    "print(f\"Created base directory: {base_dir}\")"
   ]
  },
  {
   "cell_type": "markdown",
   "metadata": {
    "id": "qhNtIn_xhlnl"
   },
   "source": [
    "### Generate graph structure data\n",
    "For homogeneous graph, we just need to save edges(namely seeds) into  **Numpy** or **CSV** file.\n",
    "\n",
    "Note:\n",
    "- when saving to **Numpy**, the array requires to be in shape of `(2, N)`. This format is recommended as constructing graph from it is much faster than **CSV** file.\n",
    "- when saving to **CSV** file, do not save index and header.\n"
   ]
  },
  {
   "cell_type": "code",
   "execution_count": 3,
   "metadata": {
    "execution": {
     "iopub.execute_input": "2024-09-02T05:23:35.368513Z",
     "iopub.status.busy": "2024-09-02T05:23:35.368100Z",
     "iopub.status.idle": "2024-09-02T05:23:35.380592Z",
     "shell.execute_reply": "2024-09-02T05:23:35.380004Z"
    },
    "id": "HcBt4G5BmSjr"
   },
   "outputs": [
    {
     "name": "stdout",
     "output_type": "stream",
     "text": [
      "Part of edges: [[215 159]\n",
      " [156 417]\n",
      " [ 82  54]\n",
      " [723  11]\n",
      " [546   3]]\n",
      "Edges are saved into ./ondisk_dataset_homograph/edges.csv\n"
     ]
    }
   ],
   "source": [
    "import numpy as np\n",
    "import pandas as pd\n",
    "num_nodes = 1000\n",
    "num_edges = 10 * num_nodes\n",
    "edges_path = os.path.join(base_dir, \"edges.csv\")\n",
    "edges = np.random.randint(0, num_nodes, size=(num_edges, 2))\n",
    "\n",
    "print(f\"Part of edges: {edges[:5, :]}\")\n",
    "\n",
    "df = pd.DataFrame(edges)\n",
    "df.to_csv(edges_path, index=False, header=False)\n",
    "\n",
    "print(f\"Edges are saved into {edges_path}\")"
   ]
  },
  {
   "cell_type": "markdown",
   "metadata": {
    "id": "kh-4cPtzpcaH"
   },
   "source": [
    "### Generate feature data for graph\n",
    "For feature data, numpy arrays and torch tensors are supported for now."
   ]
  },
  {
   "cell_type": "code",
   "execution_count": 4,
   "metadata": {
    "execution": {
     "iopub.execute_input": "2024-09-02T05:23:35.383157Z",
     "iopub.status.busy": "2024-09-02T05:23:35.382645Z",
     "iopub.status.idle": "2024-09-02T05:23:35.414368Z",
     "shell.execute_reply": "2024-09-02T05:23:35.413850Z"
    },
    "id": "_PVu1u5brBhF"
   },
   "outputs": [
    {
     "name": "stdout",
     "output_type": "stream",
     "text": [
      "Part of node feature [feat_0]: [[0.08957643 0.21527055 0.31859097 0.92124196 0.57424374]\n",
      " [0.43406192 0.50335561 0.13775337 0.23359204 0.05182497]\n",
      " [0.88209214 0.40453474 0.61001876 0.9653008  0.74281206]]\n",
      "Node feature [feat_0] is saved to ./ondisk_dataset_homograph/node-feat-0.npy\n",
      "\n",
      "Part of node feature [feat_1]: tensor([[0.1184, 0.2772, 0.7018, 0.6200, 0.0248],\n",
      "        [0.3795, 0.8570, 0.2514, 0.6592, 0.5197],\n",
      "        [0.1964, 0.6863, 0.6640, 0.5134, 0.0264]])\n",
      "Node feature [feat_1] is saved to ./ondisk_dataset_homograph/node-feat-1.pt\n",
      "\n",
      "Part of edge feature [feat_0]: [[0.00908389 0.37422455 0.98614527 0.81121235 0.76520233]\n",
      " [0.76605371 0.7855929  0.52132455 0.9518623  0.36961928]\n",
      " [0.57909961 0.12789127 0.53776867 0.59609065 0.58212052]]\n",
      "Edge feature [feat_0] is saved to ./ondisk_dataset_homograph/edge-feat-0.npy\n",
      "\n",
      "Part of edge feature [feat_1]: tensor([[0.5520, 0.9369, 0.8819, 0.9064, 0.0321],\n",
      "        [0.7072, 0.7684, 0.6474, 0.5455, 0.7696],\n",
      "        [0.1674, 0.9933, 0.7583, 0.0264, 0.6851]])\n",
      "Edge feature [feat_1] is saved to ./ondisk_dataset_homograph/edge-feat-1.pt\n",
      "\n"
     ]
    }
   ],
   "source": [
    "# Generate node feature in numpy array.\n",
    "node_feat_0_path = os.path.join(base_dir, \"node-feat-0.npy\")\n",
    "node_feat_0 = np.random.rand(num_nodes, 5)\n",
    "print(f\"Part of node feature [feat_0]: {node_feat_0[:3, :]}\")\n",
    "np.save(node_feat_0_path, node_feat_0)\n",
    "print(f\"Node feature [feat_0] is saved to {node_feat_0_path}\\n\")\n",
    "\n",
    "# Generate another node feature in torch tensor\n",
    "node_feat_1_path = os.path.join(base_dir, \"node-feat-1.pt\")\n",
    "node_feat_1 = torch.rand(num_nodes, 5)\n",
    "print(f\"Part of node feature [feat_1]: {node_feat_1[:3, :]}\")\n",
    "torch.save(node_feat_1, node_feat_1_path)\n",
    "print(f\"Node feature [feat_1] is saved to {node_feat_1_path}\\n\")\n",
    "\n",
    "# Generate edge feature in numpy array.\n",
    "edge_feat_0_path = os.path.join(base_dir, \"edge-feat-0.npy\")\n",
    "edge_feat_0 = np.random.rand(num_edges, 5)\n",
    "print(f\"Part of edge feature [feat_0]: {edge_feat_0[:3, :]}\")\n",
    "np.save(edge_feat_0_path, edge_feat_0)\n",
    "print(f\"Edge feature [feat_0] is saved to {edge_feat_0_path}\\n\")\n",
    "\n",
    "# Generate another edge feature in torch tensor\n",
    "edge_feat_1_path = os.path.join(base_dir, \"edge-feat-1.pt\")\n",
    "edge_feat_1 = torch.rand(num_edges, 5)\n",
    "print(f\"Part of edge feature [feat_1]: {edge_feat_1[:3, :]}\")\n",
    "torch.save(edge_feat_1, edge_feat_1_path)\n",
    "print(f\"Edge feature [feat_1] is saved to {edge_feat_1_path}\\n\")\n"
   ]
  },
  {
   "cell_type": "markdown",
   "metadata": {
    "id": "ZyqgOtsIwzh_"
   },
   "source": [
    "### Generate tasks\n",
    "`OnDiskDataset` supports multiple tasks. For each task, we need to prepare training/validation/test sets respectively. Such sets usually vary among different tasks. In this tutorial, let's create a **Node Classification** task and **Link Prediction** task."
   ]
  },
  {
   "cell_type": "markdown",
   "metadata": {
    "id": "hVxHaDIfzCkr"
   },
   "source": [
    "#### Node Classification Task\n",
    "For node classification task, we need **node IDs** and corresponding **labels** for each training/validation/test set. Like feature data, numpy arrays and torch tensors are supported for these sets."
   ]
  },
  {
   "cell_type": "code",
   "execution_count": 5,
   "metadata": {
    "execution": {
     "iopub.execute_input": "2024-09-02T05:23:35.416692Z",
     "iopub.status.busy": "2024-09-02T05:23:35.416355Z",
     "iopub.status.idle": "2024-09-02T05:23:35.425962Z",
     "shell.execute_reply": "2024-09-02T05:23:35.425465Z"
    },
    "id": "S5-fyBbHzTCO"
   },
   "outputs": [
    {
     "name": "stdout",
     "output_type": "stream",
     "text": [
      "Part of train ids for node classification: [200 873 850]\n",
      "NC train ids are saved to ./ondisk_dataset_homograph/nc-train-ids.npy\n",
      "\n",
      "Part of train labels for node classification: tensor([1, 7, 3])\n",
      "NC train labels are saved to ./ondisk_dataset_homograph/nc-train-labels.pt\n",
      "\n",
      "Part of val ids for node classification: [ 16 498 742]\n",
      "NC val ids are saved to ./ondisk_dataset_homograph/nc-val-ids.npy\n",
      "\n",
      "Part of val labels for node classification: tensor([6, 3, 7])\n",
      "NC val labels are saved to ./ondisk_dataset_homograph/nc-val-labels.pt\n",
      "\n",
      "Part of test ids for node classification: [923 364 349]\n",
      "NC test ids are saved to ./ondisk_dataset_homograph/nc-test-ids.npy\n",
      "\n",
      "Part of test labels for node classification: tensor([9, 8, 1])\n",
      "NC test labels are saved to ./ondisk_dataset_homograph/nc-test-labels.pt\n",
      "\n"
     ]
    }
   ],
   "source": [
    "num_trains = int(num_nodes * 0.6)\n",
    "num_vals = int(num_nodes * 0.2)\n",
    "num_tests = num_nodes - num_trains - num_vals\n",
    "\n",
    "ids = np.arange(num_nodes)\n",
    "np.random.shuffle(ids)\n",
    "\n",
    "nc_train_ids_path = os.path.join(base_dir, \"nc-train-ids.npy\")\n",
    "nc_train_ids = ids[:num_trains]\n",
    "print(f\"Part of train ids for node classification: {nc_train_ids[:3]}\")\n",
    "np.save(nc_train_ids_path, nc_train_ids)\n",
    "print(f\"NC train ids are saved to {nc_train_ids_path}\\n\")\n",
    "\n",
    "nc_train_labels_path = os.path.join(base_dir, \"nc-train-labels.pt\")\n",
    "nc_train_labels = torch.randint(0, 10, (num_trains,))\n",
    "print(f\"Part of train labels for node classification: {nc_train_labels[:3]}\")\n",
    "torch.save(nc_train_labels, nc_train_labels_path)\n",
    "print(f\"NC train labels are saved to {nc_train_labels_path}\\n\")\n",
    "\n",
    "nc_val_ids_path = os.path.join(base_dir, \"nc-val-ids.npy\")\n",
    "nc_val_ids = ids[num_trains:num_trains+num_vals]\n",
    "print(f\"Part of val ids for node classification: {nc_val_ids[:3]}\")\n",
    "np.save(nc_val_ids_path, nc_val_ids)\n",
    "print(f\"NC val ids are saved to {nc_val_ids_path}\\n\")\n",
    "\n",
    "nc_val_labels_path = os.path.join(base_dir, \"nc-val-labels.pt\")\n",
    "nc_val_labels = torch.randint(0, 10, (num_vals,))\n",
    "print(f\"Part of val labels for node classification: {nc_val_labels[:3]}\")\n",
    "torch.save(nc_val_labels, nc_val_labels_path)\n",
    "print(f\"NC val labels are saved to {nc_val_labels_path}\\n\")\n",
    "\n",
    "nc_test_ids_path = os.path.join(base_dir, \"nc-test-ids.npy\")\n",
    "nc_test_ids = ids[-num_tests:]\n",
    "print(f\"Part of test ids for node classification: {nc_test_ids[:3]}\")\n",
    "np.save(nc_test_ids_path, nc_test_ids)\n",
    "print(f\"NC test ids are saved to {nc_test_ids_path}\\n\")\n",
    "\n",
    "nc_test_labels_path = os.path.join(base_dir, \"nc-test-labels.pt\")\n",
    "nc_test_labels = torch.randint(0, 10, (num_tests,))\n",
    "print(f\"Part of test labels for node classification: {nc_test_labels[:3]}\")\n",
    "torch.save(nc_test_labels, nc_test_labels_path)\n",
    "print(f\"NC test labels are saved to {nc_test_labels_path}\\n\")"
   ]
  },
  {
   "cell_type": "markdown",
   "metadata": {
    "id": "LhAcDCHQ_KJ0"
   },
   "source": [
    "#### Link Prediction Task\n",
    "For link prediction task, we need **seeds** or **corresponding labels and indexes** which representing the pos/neg property and group of the seeds for each training/validation/test set. Like feature data, numpy arrays and torch tensors are supported for these sets."
   ]
  },
  {
   "cell_type": "code",
   "execution_count": 6,
   "metadata": {
    "execution": {
     "iopub.execute_input": "2024-09-02T05:23:35.428248Z",
     "iopub.status.busy": "2024-09-02T05:23:35.427928Z",
     "iopub.status.idle": "2024-09-02T05:23:35.443811Z",
     "shell.execute_reply": "2024-09-02T05:23:35.443309Z"
    },
    "id": "u0jCnXIcAQy4"
   },
   "outputs": [
    {
     "name": "stdout",
     "output_type": "stream",
     "text": [
      "Part of train seeds for link prediction: [[215 159]\n",
      " [156 417]\n",
      " [ 82  54]]\n",
      "LP train seeds are saved to ./ondisk_dataset_homograph/lp-train-seeds.npy\n",
      "\n",
      "Part of val seeds for link prediction: [[775 205]\n",
      " [845 920]\n",
      " [524 127]]\n",
      "LP val seeds are saved to ./ondisk_dataset_homograph/lp-val-seeds.npy\n",
      "\n",
      "Part of val labels for link prediction: [1. 1. 1.]\n",
      "LP val labels are saved to ./ondisk_dataset_homograph/lp-val-labels.npy\n",
      "\n",
      "Part of val indexes for link prediction: [0 1 2]\n",
      "LP val indexes are saved to ./ondisk_dataset_homograph/lp-val-indexes.npy\n",
      "\n",
      "Part of test seeds for link prediction: [[784   8]\n",
      " [365 185]\n",
      " [249 911]]\n",
      "LP test seeds are saved to ./ondisk_dataset_homograph/lp-test-seeds.npy\n",
      "\n",
      "Part of val labels for link prediction: [1. 1. 1.]\n",
      "LP test labels are saved to ./ondisk_dataset_homograph/lp-test-labels.npy\n",
      "\n",
      "Part of test indexes for link prediction: [0 1 2]\n",
      "LP test indexes are saved to ./ondisk_dataset_homograph/lp-test-indexes.npy\n",
      "\n"
     ]
    }
   ],
   "source": [
    "num_trains = int(num_edges * 0.6)\n",
    "num_vals = int(num_edges * 0.2)\n",
    "num_tests = num_edges - num_trains - num_vals\n",
    "\n",
    "lp_train_seeds_path = os.path.join(base_dir, \"lp-train-seeds.npy\")\n",
    "lp_train_seeds = edges[:num_trains, :]\n",
    "print(f\"Part of train seeds for link prediction: {lp_train_seeds[:3]}\")\n",
    "np.save(lp_train_seeds_path, lp_train_seeds)\n",
    "print(f\"LP train seeds are saved to {lp_train_seeds_path}\\n\")\n",
    "\n",
    "lp_val_seeds_path = os.path.join(base_dir, \"lp-val-seeds.npy\")\n",
    "lp_val_seeds = edges[num_trains:num_trains+num_vals, :]\n",
    "lp_val_neg_dsts = np.random.randint(0, num_nodes, (num_vals, 10)).reshape(-1)\n",
    "lp_val_neg_srcs = np.repeat(lp_val_seeds[:,0], 10)\n",
    "lp_val_neg_seeds = np.concatenate((lp_val_neg_srcs, lp_val_neg_dsts)).reshape(2,-1).T\n",
    "lp_val_seeds = np.concatenate((lp_val_seeds, lp_val_neg_seeds))\n",
    "print(f\"Part of val seeds for link prediction: {lp_val_seeds[:3]}\")\n",
    "np.save(lp_val_seeds_path, lp_val_seeds)\n",
    "print(f\"LP val seeds are saved to {lp_val_seeds_path}\\n\")\n",
    "\n",
    "lp_val_labels_path = os.path.join(base_dir, \"lp-val-labels.npy\")\n",
    "lp_val_labels = np.empty(num_vals * (10 + 1))\n",
    "lp_val_labels[:num_vals] = 1\n",
    "lp_val_labels[num_vals:] = 0\n",
    "print(f\"Part of val labels for link prediction: {lp_val_labels[:3]}\")\n",
    "np.save(lp_val_labels_path, lp_val_labels)\n",
    "print(f\"LP val labels are saved to {lp_val_labels_path}\\n\")\n",
    "\n",
    "lp_val_indexes_path = os.path.join(base_dir, \"lp-val-indexes.npy\")\n",
    "lp_val_indexes = np.arange(0, num_vals)\n",
    "lp_val_neg_indexes = np.repeat(lp_val_indexes, 10)\n",
    "lp_val_indexes = np.concatenate([lp_val_indexes, lp_val_neg_indexes])\n",
    "print(f\"Part of val indexes for link prediction: {lp_val_indexes[:3]}\")\n",
    "np.save(lp_val_indexes_path, lp_val_indexes)\n",
    "print(f\"LP val indexes are saved to {lp_val_indexes_path}\\n\")\n",
    "\n",
    "lp_test_seeds_path = os.path.join(base_dir, \"lp-test-seeds.npy\")\n",
    "lp_test_seeds = edges[-num_tests:, :]\n",
    "lp_test_neg_dsts = np.random.randint(0, num_nodes, (num_tests, 10)).reshape(-1)\n",
    "lp_test_neg_srcs = np.repeat(lp_test_seeds[:,0], 10)\n",
    "lp_test_neg_seeds = np.concatenate((lp_test_neg_srcs, lp_test_neg_dsts)).reshape(2,-1).T\n",
    "lp_test_seeds = np.concatenate((lp_test_seeds, lp_test_neg_seeds))\n",
    "print(f\"Part of test seeds for link prediction: {lp_test_seeds[:3]}\")\n",
    "np.save(lp_test_seeds_path, lp_test_seeds)\n",
    "print(f\"LP test seeds are saved to {lp_test_seeds_path}\\n\")\n",
    "\n",
    "lp_test_labels_path = os.path.join(base_dir, \"lp-test-labels.npy\")\n",
    "lp_test_labels = np.empty(num_tests * (10 + 1))\n",
    "lp_test_labels[:num_tests] = 1\n",
    "lp_test_labels[num_tests:] = 0\n",
    "print(f\"Part of val labels for link prediction: {lp_test_labels[:3]}\")\n",
    "np.save(lp_test_labels_path, lp_test_labels)\n",
    "print(f\"LP test labels are saved to {lp_test_labels_path}\\n\")\n",
    "\n",
    "lp_test_indexes_path = os.path.join(base_dir, \"lp-test-indexes.npy\")\n",
    "lp_test_indexes = np.arange(0, num_tests)\n",
    "lp_test_neg_indexes = np.repeat(lp_test_indexes, 10)\n",
    "lp_test_indexes = np.concatenate([lp_test_indexes, lp_test_neg_indexes])\n",
    "print(f\"Part of test indexes for link prediction: {lp_test_indexes[:3]}\")\n",
    "np.save(lp_test_indexes_path, lp_test_indexes)\n",
    "print(f\"LP test indexes are saved to {lp_test_indexes_path}\\n\")"
   ]
  },
  {
   "cell_type": "markdown",
   "metadata": {
    "id": "wbk6-wxRK-6S"
   },
   "source": [
    "## Organize Data into YAML File\n",
    "Now we need to create a `metadata.yaml` file which contains the paths, dadta types of graph structure, feature data, training/validation/test sets.\n",
    "\n",
    "Notes:\n",
    "- all path should be relative to `metadata.yaml`.\n",
    "- Below fields are optional and not specified in below example.\n",
    "  - `in_memory`: indicates whether to load dada into memory or `mmap`. Default is `True`.\n",
    "\n",
    "Please refer to [YAML specification](https://github.com/dmlc/dgl/blob/master/docs/source/stochastic_training/ondisk-dataset-specification.rst) for more details."
   ]
  },
  {
   "cell_type": "code",
   "execution_count": 7,
   "metadata": {
    "execution": {
     "iopub.execute_input": "2024-09-02T05:23:35.446063Z",
     "iopub.status.busy": "2024-09-02T05:23:35.445769Z",
     "iopub.status.idle": "2024-09-02T05:23:35.450794Z",
     "shell.execute_reply": "2024-09-02T05:23:35.450299Z"
    },
    "id": "ddGTWW61Lpwp"
   },
   "outputs": [],
   "source": [
    "yaml_content = f\"\"\"\n",
    "    dataset_name: homogeneous_graph_nc_lp\n",
    "    graph:\n",
    "      nodes:\n",
    "        - num: {num_nodes}\n",
    "      edges:\n",
    "        - format: csv\n",
    "          path: {os.path.basename(edges_path)}\n",
    "    feature_data:\n",
    "      - domain: node\n",
    "        name: feat_0\n",
    "        format: numpy\n",
    "        path: {os.path.basename(node_feat_0_path)}\n",
    "      - domain: node\n",
    "        name: feat_1\n",
    "        format: torch\n",
    "        path: {os.path.basename(node_feat_1_path)}\n",
    "      - domain: edge\n",
    "        name: feat_0\n",
    "        format: numpy\n",
    "        path: {os.path.basename(edge_feat_0_path)}\n",
    "      - domain: edge\n",
    "        name: feat_1\n",
    "        format: torch\n",
    "        path: {os.path.basename(edge_feat_1_path)}\n",
    "    tasks:\n",
    "      - name: node_classification\n",
    "        num_classes: 10\n",
    "        train_set:\n",
    "          - data:\n",
    "              - name: seeds\n",
    "                format: numpy\n",
    "                path: {os.path.basename(nc_train_ids_path)}\n",
    "              - name: labels\n",
    "                format: torch\n",
    "                path: {os.path.basename(nc_train_labels_path)}\n",
    "        validation_set:\n",
    "          - data:\n",
    "              - name: seeds\n",
    "                format: numpy\n",
    "                path: {os.path.basename(nc_val_ids_path)}\n",
    "              - name: labels\n",
    "                format: torch\n",
    "                path: {os.path.basename(nc_val_labels_path)}\n",
    "        test_set:\n",
    "          - data:\n",
    "              - name: seeds\n",
    "                format: numpy\n",
    "                path: {os.path.basename(nc_test_ids_path)}\n",
    "              - name: labels\n",
    "                format: torch\n",
    "                path: {os.path.basename(nc_test_labels_path)}\n",
    "      - name: link_prediction\n",
    "        num_classes: 10\n",
    "        train_set:\n",
    "          - data:\n",
    "              - name: seeds\n",
    "                format: numpy\n",
    "                path: {os.path.basename(lp_train_seeds_path)}\n",
    "        validation_set:\n",
    "          - data:\n",
    "              - name: seeds\n",
    "                format: numpy\n",
    "                path: {os.path.basename(lp_val_seeds_path)}\n",
    "              - name: labels\n",
    "                format: numpy\n",
    "                path: {os.path.basename(lp_val_labels_path)}\n",
    "              - name: indexes\n",
    "                format: numpy\n",
    "                path: {os.path.basename(lp_val_indexes_path)}\n",
    "        test_set:\n",
    "          - data:\n",
    "              - name: seeds\n",
    "                format: numpy\n",
    "                path: {os.path.basename(lp_test_seeds_path)}\n",
    "              - name: labels\n",
    "                format: numpy\n",
    "                path: {os.path.basename(lp_test_labels_path)}\n",
    "              - name: indexes\n",
    "                format: numpy\n",
    "                path: {os.path.basename(lp_test_indexes_path)}\n",
    "\"\"\"\n",
    "metadata_path = os.path.join(base_dir, \"metadata.yaml\")\n",
    "with open(metadata_path, \"w\") as f:\n",
    "  f.write(yaml_content)"
   ]
  },
  {
   "cell_type": "markdown",
   "metadata": {
    "id": "kEfybHGhOW7O"
   },
   "source": [
    "## Instantiate `OnDiskDataset`\n",
    "Now we're ready to load dataset via `dgl.graphbolt.OnDiskDataset`. When instantiating, we just pass in the base directory where `metadata.yaml` file lies.\n",
    "\n",
    "During first instantiation, GraphBolt preprocesses the raw data such as constructing `FusedCSCSamplingGraph` from edges. All data including graph, feature data, training/validation/test sets are put into `preprocessed` directory after preprocessing. Any following dataset loading will skip the preprocess stage.\n",
    "\n",
    "After preprocessing, `load()` is required to be called explicitly in order to load graph, feature data and tasks."
   ]
  },
  {
   "cell_type": "code",
   "execution_count": 8,
   "metadata": {
    "execution": {
     "iopub.execute_input": "2024-09-02T05:23:35.452919Z",
     "iopub.status.busy": "2024-09-02T05:23:35.452618Z",
     "iopub.status.idle": "2024-09-02T05:23:35.536460Z",
     "shell.execute_reply": "2024-09-02T05:23:35.535930Z"
    },
    "id": "W58CZoSzOiyo"
   },
   "outputs": [
    {
     "name": "stdout",
     "output_type": "stream",
     "text": [
      "The on-disk dataset is re-preprocessing, so the existing preprocessed dataset has been removed.\n",
      "Start to preprocess the on-disk dataset.\n",
      "Finish preprocessing the on-disk dataset.\n",
      "Loaded graph: FusedCSCSamplingGraph(csc_indptr=tensor([    0,    13,    17,  ...,  9973,  9989, 10000], dtype=torch.int32),\n",
      "                      indices=tensor([ 15, 248, 704,  ..., 886, 193, 299], dtype=torch.int32),\n",
      "                      total_num_nodes=1000, num_edges=10000,)\n",
      "\n",
      "Loaded feature store: TorchBasedFeatureStore(\n",
      "    {(<OnDiskFeatureDataDomain.NODE: 'node'>, None, 'feat_0'): TorchBasedFeature(\n",
      "        feature=tensor([[0.0896, 0.2153, 0.3186, 0.9212, 0.5742],\n",
      "                        [0.4341, 0.5034, 0.1378, 0.2336, 0.0518],\n",
      "                        [0.8821, 0.4045, 0.6100, 0.9653, 0.7428],\n",
      "                        ...,\n",
      "                        [0.3644, 0.9273, 0.1067, 0.8927, 0.4647],\n",
      "                        [0.1787, 0.2819, 0.9088, 0.5401, 0.6934],\n",
      "                        [0.0619, 0.7246, 0.8918, 0.3802, 0.4722]], dtype=torch.float64),\n",
      "        metadata={},\n",
      "    ), (<OnDiskFeatureDataDomain.NODE: 'node'>, None, 'feat_1'): TorchBasedFeature(\n",
      "        feature=tensor([[0.1184, 0.2772, 0.7018, 0.6200, 0.0248],\n",
      "                        [0.3795, 0.8570, 0.2514, 0.6592, 0.5197],\n",
      "                        [0.1964, 0.6863, 0.6640, 0.5134, 0.0264],\n",
      "                        ...,\n",
      "                        [0.4354, 0.1421, 0.2757, 0.7353, 0.9364],\n",
      "                        [0.6584, 0.1864, 0.8091, 0.1723, 0.2967],\n",
      "                        [0.8631, 0.7768, 0.4058, 0.7740, 0.1453]]),\n",
      "        metadata={},\n",
      "    ), (<OnDiskFeatureDataDomain.EDGE: 'edge'>, None, 'feat_0'): TorchBasedFeature(\n",
      "        feature=tensor([[9.0839e-03, 3.7422e-01, 9.8615e-01, 8.1121e-01, 7.6520e-01],\n",
      "                        [7.6605e-01, 7.8559e-01, 5.2132e-01, 9.5186e-01, 3.6962e-01],\n",
      "                        [5.7910e-01, 1.2789e-01, 5.3777e-01, 5.9609e-01, 5.8212e-01],\n",
      "                        ...,\n",
      "                        [2.9836e-01, 4.4376e-01, 7.8693e-01, 5.1010e-01, 3.0174e-01],\n",
      "                        [6.0108e-01, 4.0508e-01, 2.4752e-01, 5.6883e-01, 6.5856e-01],\n",
      "                        [7.8722e-01, 9.6410e-01, 4.5703e-01, 4.0374e-02, 6.3832e-04]],\n",
      "                       dtype=torch.float64),\n",
      "        metadata={},\n",
      "    ), (<OnDiskFeatureDataDomain.EDGE: 'edge'>, None, 'feat_1'): TorchBasedFeature(\n",
      "        feature=tensor([[0.5520, 0.9369, 0.8819, 0.9064, 0.0321],\n",
      "                        [0.7072, 0.7684, 0.6474, 0.5455, 0.7696],\n",
      "                        [0.1674, 0.9933, 0.7583, 0.0264, 0.6851],\n",
      "                        ...,\n",
      "                        [0.9272, 0.9412, 0.2142, 0.6090, 0.3163],\n",
      "                        [0.1421, 0.5393, 0.2458, 0.9951, 0.3163],\n",
      "                        [0.9864, 0.5680, 0.1558, 0.8354, 0.8797]]),\n",
      "        metadata={},\n",
      "    )}\n",
      ")\n",
      "\n",
      "Loaded node classification task: OnDiskTask(validation_set=ItemSet(\n",
      "               items=(tensor([ 16, 498, 742, 465, 429, 936, 578, 304, 340, 602, 232,  64, 396, 619,\n",
      "                   788, 743, 149, 858, 644, 938, 253, 397, 952, 770, 959, 153, 913, 317,\n",
      "                    68, 341,   9, 532,  20, 717, 691,  38, 546, 609,  44,  96,  98, 180,\n",
      "                    63, 147, 256, 457, 694, 891, 407, 636, 672, 134, 257, 534,   0,  39,\n",
      "                   912, 881, 877, 167, 671,  84, 572, 573, 642, 956, 247, 130, 562, 634,\n",
      "                   893, 328, 626, 679, 276,  82, 195,  89, 261, 445, 547, 902, 311, 360,\n",
      "                   163, 757, 898, 144, 517, 475, 343, 815, 719,  36, 447, 251, 721,  23,\n",
      "                   513, 570, 501, 925, 730, 582, 915, 863, 229, 386, 164, 596, 747, 884,\n",
      "                   631, 580,   3, 277, 577, 211,  91, 254, 337, 382, 903, 169,  70, 859,\n",
      "                   139,  34, 607,  87, 197, 665,  26, 681, 258, 420, 171, 540, 839, 234,\n",
      "                   264,  95, 467, 910, 380, 834, 361, 414, 734, 351, 554, 326, 666, 897,\n",
      "                   363, 450, 849, 250, 151,  94, 693, 635,  30, 996, 653, 840, 238, 765,\n",
      "                   725, 455, 212, 550, 798, 724, 825, 146, 948, 829,  52, 192, 760, 327,\n",
      "                    28, 690, 359, 813,  81,  54, 733, 782,  18, 283, 299, 178, 571, 627,\n",
      "                   165, 789, 521, 436], dtype=torch.int32), tensor([6, 3, 7, 0, 2, 2, 8, 5, 3, 3, 4, 3, 5, 0, 7, 3, 3, 6, 1, 7, 9, 7, 8, 7,\n",
      "                   5, 5, 0, 3, 5, 2, 8, 7, 4, 3, 6, 3, 1, 7, 4, 2, 4, 0, 0, 8, 8, 1, 1, 6,\n",
      "                   3, 0, 3, 2, 6, 6, 5, 3, 6, 6, 5, 0, 5, 2, 0, 3, 2, 0, 5, 1, 8, 1, 7, 5,\n",
      "                   4, 1, 0, 4, 8, 7, 7, 5, 9, 7, 2, 8, 2, 9, 7, 1, 0, 4, 4, 5, 4, 4, 9, 4,\n",
      "                   0, 7, 8, 9, 4, 6, 3, 5, 7, 9, 5, 7, 2, 1, 8, 8, 6, 6, 0, 0, 4, 9, 0, 3,\n",
      "                   5, 9, 7, 1, 9, 2, 1, 4, 2, 2, 1, 9, 9, 4, 2, 5, 9, 0, 4, 9, 2, 8, 2, 8,\n",
      "                   7, 1, 3, 6, 6, 4, 7, 9, 6, 6, 2, 4, 9, 4, 3, 6, 6, 4, 6, 2, 1, 0, 4, 5,\n",
      "                   3, 7, 0, 3, 8, 5, 7, 7, 6, 6, 8, 2, 8, 2, 2, 1, 6, 3, 4, 7, 3, 1, 8, 1,\n",
      "                   5, 0, 4, 3, 5, 1, 7, 7])),\n",
      "               names=('seeds', 'labels'),\n",
      "           ),\n",
      "           train_set=ItemSet(\n",
      "               items=(tensor([200, 873, 850, 549, 404, 801, 536, 727, 449, 354, 848, 137, 831, 312,\n",
      "                   545, 415, 198, 591, 441, 977, 487, 530, 857, 918, 497, 946, 288, 853,\n",
      "                   872, 170,  60, 746, 471, 473, 131, 297, 933, 641, 808, 876, 874, 504,\n",
      "                   780, 968,  46, 394, 883, 265, 943, 871, 979, 698, 763, 319, 809, 114,\n",
      "                   221, 909, 553, 686, 656, 406, 392, 203, 324, 710, 332, 614, 906, 461,\n",
      "                   413, 758, 597, 752, 106, 162, 274, 193, 663, 950, 202,  32, 428, 496,\n",
      "                   941, 713, 187, 207, 953,  66, 819,  19, 864,  93, 806, 294, 955, 481,\n",
      "                   448, 512, 568, 728, 101, 935, 339, 515, 751,  75,  37, 708, 817, 732,\n",
      "                   564, 459, 437, 426, 847, 762, 722, 303, 648, 318, 745, 916, 932, 957,\n",
      "                   535, 374, 526, 689, 652, 440, 930, 189, 991, 649,  21, 964, 322, 214,\n",
      "                   463, 768, 479, 268, 182, 412, 748, 633, 647, 226, 905, 102, 552, 658,\n",
      "                    48, 116, 537, 492, 723, 589, 111, 892, 138, 443, 816, 398, 845, 803,\n",
      "                   678, 920, 177, 511, 624, 759, 640, 228, 503, 525,  62, 372, 218, 219,\n",
      "                   469, 870, 244, 293, 355, 583,  47, 350, 104, 929, 344, 391, 184, 287,\n",
      "                   965,  41, 323, 879, 645, 963, 795, 592, 201, 543, 736, 566, 452, 594,\n",
      "                   973, 830, 616, 444, 585, 442, 527,  86, 528, 242, 799, 922, 731, 737,\n",
      "                   213, 544, 154, 951, 173, 399, 778,  14, 387, 425,  97, 199, 604, 278,\n",
      "                   786, 377, 470, 369, 851, 269, 522, 307, 266, 949, 772, 353, 875, 255,\n",
      "                   483, 220, 334, 168, 797, 777, 506, 384, 468, 622, 755, 967, 945,  13,\n",
      "                   735, 460, 300, 453,  59, 362, 338, 346, 601, 729, 419, 787, 548, 818,\n",
      "                   464, 937, 981, 395,  55, 608, 618, 502, 493, 931, 637, 125, 505, 617,\n",
      "                   837, 836, 993, 466, 388, 313, 668, 771, 500, 970, 712, 706, 188, 539,\n",
      "                    80, 676, 160,   4, 800, 107, 155, 682, 584, 529, 123, 352, 926,  90,\n",
      "                   477, 519, 310, 744, 695, 852, 133, 538, 148, 675, 714, 551, 924, 121,\n",
      "                   286, 901, 896, 680, 654, 630, 575, 175,  24,   5, 135, 600,  77, 928,\n",
      "                   983, 868, 248, 119, 115,  61, 456, 662, 118, 791, 599,  57, 869, 711,\n",
      "                   329, 612, 805, 590, 356, 639,  29, 822, 701,  56, 421, 161, 595, 100,\n",
      "                   230, 405,  88, 181, 321, 890, 282, 290, 495, 651, 638, 156, 860, 132,\n",
      "                   458, 821, 308, 812, 434, 108, 194, 208, 610, 824, 224, 430, 225, 823,\n",
      "                   975,  31, 939, 240, 942, 750, 558, 632, 129, 613, 439, 523, 190,  45,\n",
      "                   773, 541, 586, 260,  42, 785, 305, 880, 227, 262, 889, 828, 811, 961,\n",
      "                   561, 574, 112, 976,  33, 673, 427, 919, 775, 263, 814,  78, 417, 696,\n",
      "                   472, 411, 766, 488, 176, 239, 489, 670, 989, 309,  10,   8,  58, 895,\n",
      "                   767, 166, 899, 215, 217, 433, 980, 856, 381, 438, 454, 697, 390, 174,\n",
      "                   555, 779,  67, 491, 409, 629, 687, 982, 934, 252, 921,   6, 408, 333,\n",
      "                   911, 563, 279, 565, 741, 389,  76, 292, 576, 866,  43, 992, 581,  92,\n",
      "                   275, 120, 366, 969, 978, 974, 588, 994, 900, 490, 754, 669, 615, 738,\n",
      "                   368, 623, 435, 508, 373, 867, 306, 940, 841, 432,  51, 289, 141, 378,\n",
      "                   655, 718, 370, 660, 296, 152,  12, 301, 843, 827, 907, 603,  35, 904,\n",
      "                   273,  50, 494, 143, 271, 987, 272, 888, 316, 605, 794, 628, 285, 764,\n",
      "                   716, 684,  65,  53, 838, 400, 423, 793, 990, 796,  72, 196, 186, 127,\n",
      "                   284, 385, 557, 674, 402,  73, 790, 531, 320, 685, 410, 606, 245,  25,\n",
      "                   739, 988, 865,  71, 835, 971, 542, 688, 280, 844, 611, 756],\n",
      "                  dtype=torch.int32), tensor([1, 7, 3, 0, 2, 6, 2, 9, 7, 9, 2, 6, 7, 2, 2, 9, 1, 5, 6, 3, 8, 5, 9, 6,\n",
      "                   3, 8, 5, 7, 4, 9, 7, 5, 1, 0, 8, 4, 3, 8, 5, 4, 6, 8, 1, 1, 8, 0, 8, 6,\n",
      "                   8, 4, 3, 3, 3, 7, 0, 3, 8, 7, 7, 0, 3, 5, 5, 7, 6, 4, 5, 3, 8, 1, 0, 3,\n",
      "                   5, 5, 1, 9, 0, 7, 6, 5, 6, 8, 0, 8, 3, 2, 0, 4, 5, 6, 5, 5, 1, 7, 6, 2,\n",
      "                   7, 9, 6, 6, 9, 7, 1, 8, 7, 4, 3, 8, 5, 3, 7, 3, 2, 7, 9, 9, 2, 2, 5, 2,\n",
      "                   0, 4, 7, 3, 2, 7, 8, 1, 5, 8, 3, 4, 3, 6, 8, 2, 1, 0, 9, 5, 0, 0, 6, 2,\n",
      "                   5, 8, 1, 0, 6, 3, 7, 9, 8, 0, 7, 9, 9, 7, 3, 1, 0, 8, 8, 3, 7, 8, 4, 0,\n",
      "                   0, 9, 4, 5, 6, 3, 1, 9, 0, 5, 3, 2, 7, 8, 5, 7, 9, 3, 4, 6, 9, 2, 4, 4,\n",
      "                   2, 5, 3, 5, 5, 9, 2, 1, 5, 5, 4, 5, 4, 4, 4, 2, 1, 6, 0, 1, 3, 7, 1, 6,\n",
      "                   8, 5, 5, 4, 8, 0, 0, 5, 3, 8, 3, 8, 6, 8, 4, 5, 4, 4, 8, 8, 4, 5, 7, 4,\n",
      "                   7, 4, 9, 4, 0, 3, 8, 6, 6, 1, 3, 7, 8, 0, 4, 2, 3, 8, 4, 3, 1, 5, 5, 5,\n",
      "                   0, 7, 0, 2, 7, 2, 5, 7, 4, 2, 7, 8, 5, 9, 3, 9, 5, 0, 7, 8, 7, 0, 1, 3,\n",
      "                   2, 2, 1, 9, 8, 3, 1, 8, 1, 4, 6, 6, 5, 7, 7, 3, 4, 6, 7, 3, 5, 4, 5, 2,\n",
      "                   3, 9, 2, 2, 7, 3, 0, 6, 5, 4, 2, 1, 6, 1, 7, 6, 2, 1, 3, 6, 1, 8, 8, 0,\n",
      "                   4, 7, 3, 7, 9, 2, 5, 3, 8, 0, 1, 2, 0, 5, 2, 9, 3, 6, 8, 8, 5, 9, 3, 5,\n",
      "                   6, 3, 2, 3, 1, 4, 8, 3, 3, 1, 2, 5, 7, 7, 0, 1, 6, 8, 6, 8, 1, 2, 5, 5,\n",
      "                   3, 7, 7, 7, 8, 6, 0, 7, 0, 3, 4, 5, 9, 1, 4, 8, 4, 0, 6, 0, 3, 3, 7, 9,\n",
      "                   7, 4, 0, 1, 8, 1, 6, 0, 1, 9, 9, 1, 4, 1, 6, 6, 6, 0, 2, 6, 2, 1, 1, 2,\n",
      "                   4, 2, 2, 0, 1, 4, 7, 7, 0, 2, 4, 1, 5, 6, 2, 4, 2, 1, 9, 2, 0, 0, 8, 4,\n",
      "                   7, 3, 4, 0, 6, 0, 4, 4, 7, 2, 9, 6, 2, 0, 1, 5, 3, 1, 9, 0, 7, 6, 9, 5,\n",
      "                   0, 3, 2, 8, 0, 4, 9, 0, 7, 7, 4, 9, 3, 6, 3, 1, 4, 5, 4, 9, 1, 0, 9, 0,\n",
      "                   0, 5, 6, 4, 2, 1, 3, 4, 5, 2, 8, 7, 2, 0, 8, 8, 4, 5, 8, 5, 0, 3, 4, 9,\n",
      "                   1, 7, 7, 9, 6, 2, 2, 4, 7, 1, 2, 3, 5, 9, 8, 1, 7, 9, 8, 0, 7, 8, 4, 9,\n",
      "                   9, 6, 3, 4, 4, 9, 9, 5, 6, 6, 5, 2, 7, 1, 4, 6, 4, 5, 0, 7, 0, 7, 5, 2,\n",
      "                   7, 3, 5, 6, 1, 4, 3, 2, 7, 2, 0, 7, 3, 4, 4, 9, 6, 3, 0, 5, 5, 2, 1, 4])),\n",
      "               names=('seeds', 'labels'),\n",
      "           ),\n",
      "           test_set=ItemSet(\n",
      "               items=(tensor([923, 364, 349, 270, 524, 259,  99, 183,  79,   1, 927, 854, 158, 774,\n",
      "                    22, 776, 954, 999, 347, 117, 331, 842, 510, 325,   2, 126, 657, 335,\n",
      "                   514, 345, 393,  74, 569, 474, 704, 659, 365, 984, 560, 336, 136, 972,\n",
      "                   236, 241, 216, 885, 223, 692, 598, 109, 740, 855, 726, 480, 462, 295,\n",
      "                   886, 761, 179, 302, 944, 110, 243, 124, 485,  85,  15, 246, 478, 998,\n",
      "                   986, 375, 947,  11, 233, 122, 677,  17, 520, 172, 804, 667, 105, 103,\n",
      "                   518, 446,  40, 298, 499, 235, 720, 401, 985, 960, 997, 422, 966, 150,\n",
      "                   882, 962, 894, 702, 424, 348, 650, 145, 646, 418,  69, 367, 908, 784,\n",
      "                   113, 231, 291, 833,  83, 476, 210, 579, 533, 314, 699, 709, 142, 416,\n",
      "                    49, 783, 559, 205, 376, 621, 281, 191, 206, 567, 330, 832, 781, 159,\n",
      "                    27, 995, 482, 358, 807, 315, 509, 371, 379, 643, 593, 705, 820, 237,\n",
      "                   431, 157, 267, 769, 451, 403, 826, 861, 140, 204, 383, 749, 507, 862,\n",
      "                   249, 486, 556, 917, 587, 802, 661, 715, 914, 209, 846, 707, 703, 878,\n",
      "                     7, 664, 887, 810, 958, 792, 625, 683, 342, 484, 128, 222, 620, 185,\n",
      "                   753, 516, 700, 357], dtype=torch.int32), tensor([9, 8, 1, 7, 0, 0, 7, 7, 9, 4, 6, 7, 2, 0, 3, 9, 8, 1, 2, 6, 5, 6, 3, 6,\n",
      "                   1, 7, 8, 7, 9, 6, 1, 4, 3, 8, 9, 9, 5, 2, 1, 5, 7, 6, 9, 3, 5, 5, 7, 5,\n",
      "                   2, 6, 8, 3, 6, 0, 9, 6, 8, 3, 6, 3, 0, 1, 5, 9, 4, 1, 3, 6, 4, 2, 2, 8,\n",
      "                   9, 8, 8, 6, 4, 2, 2, 4, 2, 3, 2, 6, 0, 2, 3, 2, 6, 4, 1, 5, 0, 5, 1, 8,\n",
      "                   0, 7, 8, 6, 2, 2, 8, 5, 7, 9, 2, 6, 3, 6, 3, 9, 5, 6, 3, 1, 8, 3, 8, 7,\n",
      "                   6, 6, 9, 0, 2, 9, 6, 2, 2, 0, 5, 8, 0, 4, 2, 9, 1, 5, 0, 1, 6, 7, 5, 6,\n",
      "                   6, 9, 0, 1, 7, 2, 2, 6, 4, 2, 9, 7, 5, 2, 8, 2, 1, 5, 6, 8, 7, 4, 6, 6,\n",
      "                   8, 2, 5, 6, 0, 7, 1, 3, 3, 1, 7, 7, 9, 2, 5, 5, 5, 8, 5, 5, 2, 3, 9, 7,\n",
      "                   5, 8, 1, 5, 7, 2, 4, 0])),\n",
      "               names=('seeds', 'labels'),\n",
      "           ),\n",
      "           metadata={'name': 'node_classification', 'num_classes': 10},)\n",
      "\n",
      "Loaded link prediction task: OnDiskTask(validation_set=ItemSet(\n",
      "               items=(tensor([[775, 205],\n",
      "                   [845, 920],\n",
      "                   [524, 127],\n",
      "                   ...,\n",
      "                   [109, 930],\n",
      "                   [109, 494],\n",
      "                   [109, 279]], dtype=torch.int32), tensor([1., 1., 1.,  ..., 0., 0., 0.], dtype=torch.float64), tensor([   0,    1,    2,  ..., 1999, 1999, 1999])),\n",
      "               names=('seeds', 'labels', 'indexes'),\n",
      "           ),\n",
      "           train_set=ItemSet(\n",
      "               items=(tensor([[215, 159],\n",
      "                   [156, 417],\n",
      "                   [ 82,  54],\n",
      "                   ...,\n",
      "                   [200, 811],\n",
      "                   [960, 383],\n",
      "                   [954, 241]], dtype=torch.int32),),\n",
      "               names=('seeds',),\n",
      "           ),\n",
      "           test_set=ItemSet(\n",
      "               items=(tensor([[784,   8],\n",
      "                   [365, 185],\n",
      "                   [249, 911],\n",
      "                   ...,\n",
      "                   [523,  19],\n",
      "                   [523, 704],\n",
      "                   [523, 358]], dtype=torch.int32), tensor([1., 1., 1.,  ..., 0., 0., 0.], dtype=torch.float64), tensor([   0,    1,    2,  ..., 1999, 1999, 1999])),\n",
      "               names=('seeds', 'labels', 'indexes'),\n",
      "           ),\n",
      "           metadata={'name': 'link_prediction', 'num_classes': 10},)\n",
      "\n"
     ]
    },
    {
     "name": "stderr",
     "output_type": "stream",
     "text": [
      "/home/ubuntu/regression_test/dgl/python/dgl/graphbolt/internal/utils.py:16: FutureWarning: You are using `torch.load` with `weights_only=False` (the current default value), which uses the default pickle module implicitly. It is possible to construct malicious pickle data which will execute arbitrary code during unpickling (See https://github.com/pytorch/pytorch/blob/main/SECURITY.md#untrusted-models for more details). In a future release, the default value for `weights_only` will be flipped to `True`. This limits the functions that could be executed during unpickling. Arbitrary objects will no longer be allowed to be loaded via this mode unless they are explicitly allowlisted by the user via `torch.serialization.add_safe_globals`. We recommend you start setting `weights_only=True` for any use case where you don't have full control of the loaded file. Please open an issue on GitHub for any issues related to this experimental feature.\n",
      "  return torch.load(path)\n",
      "/home/ubuntu/regression_test/dgl/python/dgl/graphbolt/impl/ondisk_dataset.py:460: DGLWarning: Edge feature is stored, but edge IDs are not saved.\n",
      "  dgl_warning(\"Edge feature is stored, but edge IDs are not saved.\")\n",
      "/home/ubuntu/regression_test/dgl/python/dgl/graphbolt/impl/ondisk_dataset.py:852: FutureWarning: You are using `torch.load` with `weights_only=False` (the current default value), which uses the default pickle module implicitly. It is possible to construct malicious pickle data which will execute arbitrary code during unpickling (See https://github.com/pytorch/pytorch/blob/main/SECURITY.md#untrusted-models for more details). In a future release, the default value for `weights_only` will be flipped to `True`. This limits the functions that could be executed during unpickling. Arbitrary objects will no longer be allowed to be loaded via this mode unless they are explicitly allowlisted by the user via `torch.serialization.add_safe_globals`. We recommend you start setting `weights_only=True` for any use case where you don't have full control of the loaded file. Please open an issue on GitHub for any issues related to this experimental feature.\n",
      "  return torch.load(graph_topology.path)\n"
     ]
    }
   ],
   "source": [
    "dataset = gb.OnDiskDataset(base_dir).load()\n",
    "graph = dataset.graph\n",
    "print(f\"Loaded graph: {graph}\\n\")\n",
    "\n",
    "feature = dataset.feature\n",
    "print(f\"Loaded feature store: {feature}\\n\")\n",
    "\n",
    "tasks = dataset.tasks\n",
    "nc_task = tasks[0]\n",
    "print(f\"Loaded node classification task: {nc_task}\\n\")\n",
    "lp_task = tasks[1]\n",
    "print(f\"Loaded link prediction task: {lp_task}\\n\")"
   ]
  }
 ],
 "metadata": {
  "colab": {
   "private_outputs": true,
   "provenance": []
  },
  "kernelspec": {
   "display_name": "Python 3",
   "name": "python3"
  },
  "language_info": {
   "codemirror_mode": {
    "name": "ipython",
    "version": 3
   },
   "file_extension": ".py",
   "mimetype": "text/x-python",
   "name": "python",
   "nbconvert_exporter": "python",
   "pygments_lexer": "ipython3",
   "version": "3.10.14"
  }
 },
 "nbformat": 4,
 "nbformat_minor": 0
}

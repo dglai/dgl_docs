{
 "cells": [
  {
   "cell_type": "markdown",
   "metadata": {
    "id": "FnFhPMaAfLtJ"
   },
   "source": [
    "# OnDiskDataset for Homogeneous Graph\n",
    "\n",
    "[![Open In Colab](https://colab.research.google.com/assets/colab-badge.svg)](https://colab.research.google.com/github/dmlc/dgl/blob/master/notebooks/stochastic_training/ondisk_dataset_homograph.ipynb) [![GitHub](https://img.shields.io/badge/-View%20on%20GitHub-181717?logo=github&logoColor=ffffff)](https://github.com/dmlc/dgl/blob/master/notebooks/stochastic_training/ondisk_dataset_homograph.ipynb)\n",
    "\n",
    "This tutorial shows how to create `OnDiskDataset` for homogeneous graph that could be used in **GraphBolt** framework.\n",
    "\n",
    "By the end of this tutorial, you will be able to\n",
    "\n",
    "- organize graph structure data.\n",
    "- organize feature data.\n",
    "- organize training/validation/test set for specific tasks.\n",
    "\n",
    "To create an ``OnDiskDataset`` object, you need to organize all the data including graph structure, feature data and tasks into a directory. The directory should contain a ``metadata.yaml`` file that describes the metadata of the dataset.\n",
    "\n",
    "Now let's generate various data step by step and organize them together to instantiate `OnDiskDataset` finally."
   ]
  },
  {
   "cell_type": "markdown",
   "metadata": {
    "id": "Wlb19DtWgtzq"
   },
   "source": [
    "## Install DGL package"
   ]
  },
  {
   "cell_type": "code",
   "execution_count": 1,
   "metadata": {
    "execution": {
     "iopub.execute_input": "2024-08-21T11:43:39.207060Z",
     "iopub.status.busy": "2024-08-21T11:43:39.206699Z",
     "iopub.status.idle": "2024-08-21T11:43:43.037233Z",
     "shell.execute_reply": "2024-08-21T11:43:43.036336Z"
    },
    "id": "UojlT9ZGgyr9"
   },
   "outputs": [
    {
     "name": "stdout",
     "output_type": "stream",
     "text": [
      "Looking in links: https://data.dgl.ai/wheels-test/repo.html\r\n",
      "Requirement already satisfied: dgl in /opt/conda/envs/dgl-dev-cpu/lib/python3.10/site-packages (2.2a240410)\r\n",
      "Requirement already satisfied: numpy>=1.14.0 in /opt/conda/envs/dgl-dev-cpu/lib/python3.10/site-packages (from dgl) (1.26.4)\r\n",
      "Requirement already satisfied: scipy>=1.1.0 in /opt/conda/envs/dgl-dev-cpu/lib/python3.10/site-packages (from dgl) (1.14.0)\r\n",
      "Requirement already satisfied: networkx>=2.1 in /opt/conda/envs/dgl-dev-cpu/lib/python3.10/site-packages (from dgl) (3.3)\r\n",
      "Requirement already satisfied: requests>=2.19.0 in /opt/conda/envs/dgl-dev-cpu/lib/python3.10/site-packages (from dgl) (2.32.3)\r\n",
      "Requirement already satisfied: tqdm in /opt/conda/envs/dgl-dev-cpu/lib/python3.10/site-packages (from dgl) (4.66.5)\r\n",
      "Requirement already satisfied: psutil>=5.8.0 in /opt/conda/envs/dgl-dev-cpu/lib/python3.10/site-packages (from dgl) (6.0.0)\r\n",
      "Requirement already satisfied: torchdata>=0.5.0 in /opt/conda/envs/dgl-dev-cpu/lib/python3.10/site-packages (from dgl) (0.7.1+6427ed9)\r\n",
      "Requirement already satisfied: pandas in /opt/conda/envs/dgl-dev-cpu/lib/python3.10/site-packages (from dgl) (2.2.2)\r\n",
      "Requirement already satisfied: charset-normalizer<4,>=2 in /opt/conda/envs/dgl-dev-cpu/lib/python3.10/site-packages (from requests>=2.19.0->dgl) (3.3.2)\r\n",
      "Requirement already satisfied: idna<4,>=2.5 in /opt/conda/envs/dgl-dev-cpu/lib/python3.10/site-packages (from requests>=2.19.0->dgl) (3.7)\r\n",
      "Requirement already satisfied: urllib3<3,>=1.21.1 in /opt/conda/envs/dgl-dev-cpu/lib/python3.10/site-packages (from requests>=2.19.0->dgl) (2.2.2)\r\n",
      "Requirement already satisfied: certifi>=2017.4.17 in /opt/conda/envs/dgl-dev-cpu/lib/python3.10/site-packages (from requests>=2.19.0->dgl) (2024.7.4)\r\n",
      "Requirement already satisfied: torch>=2 in /opt/conda/envs/dgl-dev-cpu/lib/python3.10/site-packages (from torchdata>=0.5.0->dgl) (2.1.0+cpu)\r\n"
     ]
    },
    {
     "name": "stdout",
     "output_type": "stream",
     "text": [
      "Requirement already satisfied: python-dateutil>=2.8.2 in /opt/conda/envs/dgl-dev-cpu/lib/python3.10/site-packages (from pandas->dgl) (2.9.0.post0)\r\n",
      "Requirement already satisfied: pytz>=2020.1 in /opt/conda/envs/dgl-dev-cpu/lib/python3.10/site-packages (from pandas->dgl) (2024.1)\r\n",
      "Requirement already satisfied: tzdata>=2022.7 in /opt/conda/envs/dgl-dev-cpu/lib/python3.10/site-packages (from pandas->dgl) (2024.1)\r\n",
      "Requirement already satisfied: six>=1.5 in /opt/conda/envs/dgl-dev-cpu/lib/python3.10/site-packages (from python-dateutil>=2.8.2->pandas->dgl) (1.16.0)\r\n",
      "Requirement already satisfied: filelock in /opt/conda/envs/dgl-dev-cpu/lib/python3.10/site-packages (from torch>=2->torchdata>=0.5.0->dgl) (3.15.4)\r\n",
      "Requirement already satisfied: typing-extensions in /opt/conda/envs/dgl-dev-cpu/lib/python3.10/site-packages (from torch>=2->torchdata>=0.5.0->dgl) (4.12.2)\r\n",
      "Requirement already satisfied: sympy in /opt/conda/envs/dgl-dev-cpu/lib/python3.10/site-packages (from torch>=2->torchdata>=0.5.0->dgl) (1.13.2)\r\n",
      "Requirement already satisfied: jinja2 in /opt/conda/envs/dgl-dev-cpu/lib/python3.10/site-packages (from torch>=2->torchdata>=0.5.0->dgl) (3.1.4)\r\n",
      "Requirement already satisfied: fsspec in /opt/conda/envs/dgl-dev-cpu/lib/python3.10/site-packages (from torch>=2->torchdata>=0.5.0->dgl) (2024.6.1)\r\n"
     ]
    },
    {
     "name": "stdout",
     "output_type": "stream",
     "text": [
      "Requirement already satisfied: MarkupSafe>=2.0 in /opt/conda/envs/dgl-dev-cpu/lib/python3.10/site-packages (from jinja2->torch>=2->torchdata>=0.5.0->dgl) (2.1.5)\r\n",
      "Requirement already satisfied: mpmath<1.4,>=1.1.0 in /opt/conda/envs/dgl-dev-cpu/lib/python3.10/site-packages (from sympy->torch>=2->torchdata>=0.5.0->dgl) (1.3.0)\r\n"
     ]
    },
    {
     "name": "stdout",
     "output_type": "stream",
     "text": [
      "DGL installed!\n"
     ]
    }
   ],
   "source": [
    "# Install required packages.\n",
    "import os\n",
    "import torch\n",
    "import numpy as np\n",
    "os.environ['TORCH'] = torch.__version__\n",
    "os.environ['DGLBACKEND'] = \"pytorch\"\n",
    "\n",
    "# Install the CPU version.\n",
    "device = torch.device(\"cpu\")\n",
    "!pip install --pre dgl -f https://data.dgl.ai/wheels-test/repo.html\n",
    "\n",
    "try:\n",
    "    import dgl\n",
    "    import dgl.graphbolt as gb\n",
    "    installed = True\n",
    "except ImportError as error:\n",
    "    installed = False\n",
    "    print(error)\n",
    "print(\"DGL installed!\" if installed else \"DGL not found!\")"
   ]
  },
  {
   "cell_type": "markdown",
   "metadata": {
    "id": "2R7WnSbjsfbr"
   },
   "source": [
    "## Data preparation\n",
    "In order to demonstrate how to organize various data, let's create a base directory first."
   ]
  },
  {
   "cell_type": "code",
   "execution_count": 2,
   "metadata": {
    "execution": {
     "iopub.execute_input": "2024-08-21T11:43:43.040430Z",
     "iopub.status.busy": "2024-08-21T11:43:43.039976Z",
     "iopub.status.idle": "2024-08-21T11:43:43.044595Z",
     "shell.execute_reply": "2024-08-21T11:43:43.043874Z"
    },
    "id": "SZipbzyltLfO"
   },
   "outputs": [
    {
     "name": "stdout",
     "output_type": "stream",
     "text": [
      "Created base directory: ./ondisk_dataset_homograph\n"
     ]
    }
   ],
   "source": [
    "base_dir = './ondisk_dataset_homograph'\n",
    "os.makedirs(base_dir, exist_ok=True)\n",
    "print(f\"Created base directory: {base_dir}\")"
   ]
  },
  {
   "cell_type": "markdown",
   "metadata": {
    "id": "qhNtIn_xhlnl"
   },
   "source": [
    "### Generate graph structure data\n",
    "For homogeneous graph, we just need to save edges(namely seeds) into  **Numpy** or **CSV** file.\n",
    "\n",
    "Note:\n",
    "- when saving to **Numpy**, the array requires to be in shape of `(2, N)`. This format is recommended as constructing graph from it is much faster than **CSV** file.\n",
    "- when saving to **CSV** file, do not save index and header.\n"
   ]
  },
  {
   "cell_type": "code",
   "execution_count": 3,
   "metadata": {
    "execution": {
     "iopub.execute_input": "2024-08-21T11:43:43.047187Z",
     "iopub.status.busy": "2024-08-21T11:43:43.046892Z",
     "iopub.status.idle": "2024-08-21T11:43:43.060284Z",
     "shell.execute_reply": "2024-08-21T11:43:43.059618Z"
    },
    "id": "HcBt4G5BmSjr"
   },
   "outputs": [
    {
     "name": "stdout",
     "output_type": "stream",
     "text": [
      "Part of edges: [[  8 831]\n",
      " [151 641]\n",
      " [ 36 982]\n",
      " [747 752]\n",
      " [259  26]]\n",
      "Edges are saved into ./ondisk_dataset_homograph/edges.csv\n"
     ]
    }
   ],
   "source": [
    "import numpy as np\n",
    "import pandas as pd\n",
    "num_nodes = 1000\n",
    "num_edges = 10 * num_nodes\n",
    "edges_path = os.path.join(base_dir, \"edges.csv\")\n",
    "edges = np.random.randint(0, num_nodes, size=(num_edges, 2))\n",
    "\n",
    "print(f\"Part of edges: {edges[:5, :]}\")\n",
    "\n",
    "df = pd.DataFrame(edges)\n",
    "df.to_csv(edges_path, index=False, header=False)\n",
    "\n",
    "print(f\"Edges are saved into {edges_path}\")"
   ]
  },
  {
   "cell_type": "markdown",
   "metadata": {
    "id": "kh-4cPtzpcaH"
   },
   "source": [
    "### Generate feature data for graph\n",
    "For feature data, numpy arrays and torch tensors are supported for now."
   ]
  },
  {
   "cell_type": "code",
   "execution_count": 4,
   "metadata": {
    "execution": {
     "iopub.execute_input": "2024-08-21T11:43:43.063057Z",
     "iopub.status.busy": "2024-08-21T11:43:43.062539Z",
     "iopub.status.idle": "2024-08-21T11:43:43.076252Z",
     "shell.execute_reply": "2024-08-21T11:43:43.075660Z"
    },
    "id": "_PVu1u5brBhF"
   },
   "outputs": [
    {
     "name": "stdout",
     "output_type": "stream",
     "text": [
      "Part of node feature [feat_0]: [[0.20812643 0.37463126 0.13554936 0.15833381 0.35701586]\n",
      " [0.25683937 0.12763484 0.74636555 0.94339825 0.48336441]\n",
      " [0.65469508 0.76538816 0.63354691 0.65666601 0.27513656]]\n",
      "Node feature [feat_0] is saved to ./ondisk_dataset_homograph/node-feat-0.npy\n",
      "\n",
      "Part of node feature [feat_1]: tensor([[0.8158, 0.4090, 0.8892, 0.8043, 0.9712],\n",
      "        [0.8034, 0.2055, 0.0866, 0.9517, 0.9087],\n",
      "        [0.0283, 0.8877, 0.9475, 0.9455, 0.0368]])\n",
      "Node feature [feat_1] is saved to ./ondisk_dataset_homograph/node-feat-1.pt\n",
      "\n",
      "Part of edge feature [feat_0]: [[0.97658059 0.05517841 0.25976635 0.68309336 0.35424192]\n",
      " [0.90402649 0.08419292 0.87509411 0.38892295 0.46987495]\n",
      " [0.40771119 0.8687999  0.86643121 0.1695422  0.33592411]]\n",
      "Edge feature [feat_0] is saved to ./ondisk_dataset_homograph/edge-feat-0.npy\n",
      "\n",
      "Part of edge feature [feat_1]: tensor([[0.8895, 0.3189, 0.0156, 0.5929, 0.7092],\n",
      "        [0.6831, 0.0336, 0.0609, 0.4302, 0.4260],\n",
      "        [0.5208, 0.3927, 0.8775, 0.5537, 0.8111]])\n",
      "Edge feature [feat_1] is saved to ./ondisk_dataset_homograph/edge-feat-1.pt\n",
      "\n"
     ]
    }
   ],
   "source": [
    "# Generate node feature in numpy array.\n",
    "node_feat_0_path = os.path.join(base_dir, \"node-feat-0.npy\")\n",
    "node_feat_0 = np.random.rand(num_nodes, 5)\n",
    "print(f\"Part of node feature [feat_0]: {node_feat_0[:3, :]}\")\n",
    "np.save(node_feat_0_path, node_feat_0)\n",
    "print(f\"Node feature [feat_0] is saved to {node_feat_0_path}\\n\")\n",
    "\n",
    "# Generate another node feature in torch tensor\n",
    "node_feat_1_path = os.path.join(base_dir, \"node-feat-1.pt\")\n",
    "node_feat_1 = torch.rand(num_nodes, 5)\n",
    "print(f\"Part of node feature [feat_1]: {node_feat_1[:3, :]}\")\n",
    "torch.save(node_feat_1, node_feat_1_path)\n",
    "print(f\"Node feature [feat_1] is saved to {node_feat_1_path}\\n\")\n",
    "\n",
    "# Generate edge feature in numpy array.\n",
    "edge_feat_0_path = os.path.join(base_dir, \"edge-feat-0.npy\")\n",
    "edge_feat_0 = np.random.rand(num_edges, 5)\n",
    "print(f\"Part of edge feature [feat_0]: {edge_feat_0[:3, :]}\")\n",
    "np.save(edge_feat_0_path, edge_feat_0)\n",
    "print(f\"Edge feature [feat_0] is saved to {edge_feat_0_path}\\n\")\n",
    "\n",
    "# Generate another edge feature in torch tensor\n",
    "edge_feat_1_path = os.path.join(base_dir, \"edge-feat-1.pt\")\n",
    "edge_feat_1 = torch.rand(num_edges, 5)\n",
    "print(f\"Part of edge feature [feat_1]: {edge_feat_1[:3, :]}\")\n",
    "torch.save(edge_feat_1, edge_feat_1_path)\n",
    "print(f\"Edge feature [feat_1] is saved to {edge_feat_1_path}\\n\")\n"
   ]
  },
  {
   "cell_type": "markdown",
   "metadata": {
    "id": "ZyqgOtsIwzh_"
   },
   "source": [
    "### Generate tasks\n",
    "`OnDiskDataset` supports multiple tasks. For each task, we need to prepare training/validation/test sets respectively. Such sets usually vary among different tasks. In this tutorial, let's create a **Node Classification** task and **Link Prediction** task."
   ]
  },
  {
   "cell_type": "markdown",
   "metadata": {
    "id": "hVxHaDIfzCkr"
   },
   "source": [
    "#### Node Classification Task\n",
    "For node classification task, we need **node IDs** and corresponding **labels** for each training/validation/test set. Like feature data, numpy arrays and torch tensors are supported for these sets."
   ]
  },
  {
   "cell_type": "code",
   "execution_count": 5,
   "metadata": {
    "execution": {
     "iopub.execute_input": "2024-08-21T11:43:43.078632Z",
     "iopub.status.busy": "2024-08-21T11:43:43.078338Z",
     "iopub.status.idle": "2024-08-21T11:43:43.088556Z",
     "shell.execute_reply": "2024-08-21T11:43:43.087974Z"
    },
    "id": "S5-fyBbHzTCO"
   },
   "outputs": [
    {
     "name": "stdout",
     "output_type": "stream",
     "text": [
      "Part of train ids for node classification: [133 622 503]\n",
      "NC train ids are saved to ./ondisk_dataset_homograph/nc-train-ids.npy\n",
      "\n",
      "Part of train labels for node classification: tensor([3, 1, 7])\n",
      "NC train labels are saved to ./ondisk_dataset_homograph/nc-train-labels.pt\n",
      "\n",
      "Part of val ids for node classification: [373 149 101]\n",
      "NC val ids are saved to ./ondisk_dataset_homograph/nc-val-ids.npy\n",
      "\n",
      "Part of val labels for node classification: tensor([4, 1, 2])\n",
      "NC val labels are saved to ./ondisk_dataset_homograph/nc-val-labels.pt\n",
      "\n",
      "Part of test ids for node classification: [954 875 911]\n",
      "NC test ids are saved to ./ondisk_dataset_homograph/nc-test-ids.npy\n",
      "\n",
      "Part of test labels for node classification: tensor([3, 1, 2])\n",
      "NC test labels are saved to ./ondisk_dataset_homograph/nc-test-labels.pt\n",
      "\n"
     ]
    }
   ],
   "source": [
    "num_trains = int(num_nodes * 0.6)\n",
    "num_vals = int(num_nodes * 0.2)\n",
    "num_tests = num_nodes - num_trains - num_vals\n",
    "\n",
    "ids = np.arange(num_nodes)\n",
    "np.random.shuffle(ids)\n",
    "\n",
    "nc_train_ids_path = os.path.join(base_dir, \"nc-train-ids.npy\")\n",
    "nc_train_ids = ids[:num_trains]\n",
    "print(f\"Part of train ids for node classification: {nc_train_ids[:3]}\")\n",
    "np.save(nc_train_ids_path, nc_train_ids)\n",
    "print(f\"NC train ids are saved to {nc_train_ids_path}\\n\")\n",
    "\n",
    "nc_train_labels_path = os.path.join(base_dir, \"nc-train-labels.pt\")\n",
    "nc_train_labels = torch.randint(0, 10, (num_trains,))\n",
    "print(f\"Part of train labels for node classification: {nc_train_labels[:3]}\")\n",
    "torch.save(nc_train_labels, nc_train_labels_path)\n",
    "print(f\"NC train labels are saved to {nc_train_labels_path}\\n\")\n",
    "\n",
    "nc_val_ids_path = os.path.join(base_dir, \"nc-val-ids.npy\")\n",
    "nc_val_ids = ids[num_trains:num_trains+num_vals]\n",
    "print(f\"Part of val ids for node classification: {nc_val_ids[:3]}\")\n",
    "np.save(nc_val_ids_path, nc_val_ids)\n",
    "print(f\"NC val ids are saved to {nc_val_ids_path}\\n\")\n",
    "\n",
    "nc_val_labels_path = os.path.join(base_dir, \"nc-val-labels.pt\")\n",
    "nc_val_labels = torch.randint(0, 10, (num_vals,))\n",
    "print(f\"Part of val labels for node classification: {nc_val_labels[:3]}\")\n",
    "torch.save(nc_val_labels, nc_val_labels_path)\n",
    "print(f\"NC val labels are saved to {nc_val_labels_path}\\n\")\n",
    "\n",
    "nc_test_ids_path = os.path.join(base_dir, \"nc-test-ids.npy\")\n",
    "nc_test_ids = ids[-num_tests:]\n",
    "print(f\"Part of test ids for node classification: {nc_test_ids[:3]}\")\n",
    "np.save(nc_test_ids_path, nc_test_ids)\n",
    "print(f\"NC test ids are saved to {nc_test_ids_path}\\n\")\n",
    "\n",
    "nc_test_labels_path = os.path.join(base_dir, \"nc-test-labels.pt\")\n",
    "nc_test_labels = torch.randint(0, 10, (num_tests,))\n",
    "print(f\"Part of test labels for node classification: {nc_test_labels[:3]}\")\n",
    "torch.save(nc_test_labels, nc_test_labels_path)\n",
    "print(f\"NC test labels are saved to {nc_test_labels_path}\\n\")"
   ]
  },
  {
   "cell_type": "markdown",
   "metadata": {
    "id": "LhAcDCHQ_KJ0"
   },
   "source": [
    "#### Link Prediction Task\n",
    "For link prediction task, we need **seeds** or **corresponding labels and indexes** which representing the pos/neg property and group of the seeds for each training/validation/test set. Like feature data, numpy arrays and torch tensors are supported for these sets."
   ]
  },
  {
   "cell_type": "code",
   "execution_count": 6,
   "metadata": {
    "execution": {
     "iopub.execute_input": "2024-08-21T11:43:43.091035Z",
     "iopub.status.busy": "2024-08-21T11:43:43.090632Z",
     "iopub.status.idle": "2024-08-21T11:43:43.107691Z",
     "shell.execute_reply": "2024-08-21T11:43:43.107103Z"
    },
    "id": "u0jCnXIcAQy4"
   },
   "outputs": [
    {
     "name": "stdout",
     "output_type": "stream",
     "text": [
      "Part of train seeds for link prediction: [[  8 831]\n",
      " [151 641]\n",
      " [ 36 982]]\n",
      "LP train seeds are saved to ./ondisk_dataset_homograph/lp-train-seeds.npy\n",
      "\n",
      "Part of val seeds for link prediction: [[659 417]\n",
      " [735 653]\n",
      " [670 915]]\n",
      "LP val seeds are saved to ./ondisk_dataset_homograph/lp-val-seeds.npy\n",
      "\n",
      "Part of val labels for link prediction: [1. 1. 1.]\n",
      "LP val labels are saved to ./ondisk_dataset_homograph/lp-val-labels.npy\n",
      "\n",
      "Part of val indexes for link prediction: [0 1 2]\n",
      "LP val indexes are saved to ./ondisk_dataset_homograph/lp-val-indexes.npy\n",
      "\n",
      "Part of test seeds for link prediction: [[928 987]\n",
      " [606 260]\n",
      " [190 114]]\n",
      "LP test seeds are saved to ./ondisk_dataset_homograph/lp-test-seeds.npy\n",
      "\n",
      "Part of val labels for link prediction: [1. 1. 1.]\n",
      "LP test labels are saved to ./ondisk_dataset_homograph/lp-test-labels.npy\n",
      "\n",
      "Part of test indexes for link prediction: [0 1 2]\n",
      "LP test indexes are saved to ./ondisk_dataset_homograph/lp-test-indexes.npy\n",
      "\n"
     ]
    }
   ],
   "source": [
    "num_trains = int(num_edges * 0.6)\n",
    "num_vals = int(num_edges * 0.2)\n",
    "num_tests = num_edges - num_trains - num_vals\n",
    "\n",
    "lp_train_seeds_path = os.path.join(base_dir, \"lp-train-seeds.npy\")\n",
    "lp_train_seeds = edges[:num_trains, :]\n",
    "print(f\"Part of train seeds for link prediction: {lp_train_seeds[:3]}\")\n",
    "np.save(lp_train_seeds_path, lp_train_seeds)\n",
    "print(f\"LP train seeds are saved to {lp_train_seeds_path}\\n\")\n",
    "\n",
    "lp_val_seeds_path = os.path.join(base_dir, \"lp-val-seeds.npy\")\n",
    "lp_val_seeds = edges[num_trains:num_trains+num_vals, :]\n",
    "lp_val_neg_dsts = np.random.randint(0, num_nodes, (num_vals, 10)).reshape(-1)\n",
    "lp_val_neg_srcs = np.repeat(lp_val_seeds[:,0], 10)\n",
    "lp_val_neg_seeds = np.concatenate((lp_val_neg_srcs, lp_val_neg_dsts)).reshape(2,-1).T\n",
    "lp_val_seeds = np.concatenate((lp_val_seeds, lp_val_neg_seeds))\n",
    "print(f\"Part of val seeds for link prediction: {lp_val_seeds[:3]}\")\n",
    "np.save(lp_val_seeds_path, lp_val_seeds)\n",
    "print(f\"LP val seeds are saved to {lp_val_seeds_path}\\n\")\n",
    "\n",
    "lp_val_labels_path = os.path.join(base_dir, \"lp-val-labels.npy\")\n",
    "lp_val_labels = np.empty(num_vals * (10 + 1))\n",
    "lp_val_labels[:num_vals] = 1\n",
    "lp_val_labels[num_vals:] = 0\n",
    "print(f\"Part of val labels for link prediction: {lp_val_labels[:3]}\")\n",
    "np.save(lp_val_labels_path, lp_val_labels)\n",
    "print(f\"LP val labels are saved to {lp_val_labels_path}\\n\")\n",
    "\n",
    "lp_val_indexes_path = os.path.join(base_dir, \"lp-val-indexes.npy\")\n",
    "lp_val_indexes = np.arange(0, num_vals)\n",
    "lp_val_neg_indexes = np.repeat(lp_val_indexes, 10)\n",
    "lp_val_indexes = np.concatenate([lp_val_indexes, lp_val_neg_indexes])\n",
    "print(f\"Part of val indexes for link prediction: {lp_val_indexes[:3]}\")\n",
    "np.save(lp_val_indexes_path, lp_val_indexes)\n",
    "print(f\"LP val indexes are saved to {lp_val_indexes_path}\\n\")\n",
    "\n",
    "lp_test_seeds_path = os.path.join(base_dir, \"lp-test-seeds.npy\")\n",
    "lp_test_seeds = edges[-num_tests:, :]\n",
    "lp_test_neg_dsts = np.random.randint(0, num_nodes, (num_tests, 10)).reshape(-1)\n",
    "lp_test_neg_srcs = np.repeat(lp_test_seeds[:,0], 10)\n",
    "lp_test_neg_seeds = np.concatenate((lp_test_neg_srcs, lp_test_neg_dsts)).reshape(2,-1).T\n",
    "lp_test_seeds = np.concatenate((lp_test_seeds, lp_test_neg_seeds))\n",
    "print(f\"Part of test seeds for link prediction: {lp_test_seeds[:3]}\")\n",
    "np.save(lp_test_seeds_path, lp_test_seeds)\n",
    "print(f\"LP test seeds are saved to {lp_test_seeds_path}\\n\")\n",
    "\n",
    "lp_test_labels_path = os.path.join(base_dir, \"lp-test-labels.npy\")\n",
    "lp_test_labels = np.empty(num_tests * (10 + 1))\n",
    "lp_test_labels[:num_tests] = 1\n",
    "lp_test_labels[num_tests:] = 0\n",
    "print(f\"Part of val labels for link prediction: {lp_test_labels[:3]}\")\n",
    "np.save(lp_test_labels_path, lp_test_labels)\n",
    "print(f\"LP test labels are saved to {lp_test_labels_path}\\n\")\n",
    "\n",
    "lp_test_indexes_path = os.path.join(base_dir, \"lp-test-indexes.npy\")\n",
    "lp_test_indexes = np.arange(0, num_tests)\n",
    "lp_test_neg_indexes = np.repeat(lp_test_indexes, 10)\n",
    "lp_test_indexes = np.concatenate([lp_test_indexes, lp_test_neg_indexes])\n",
    "print(f\"Part of test indexes for link prediction: {lp_test_indexes[:3]}\")\n",
    "np.save(lp_test_indexes_path, lp_test_indexes)\n",
    "print(f\"LP test indexes are saved to {lp_test_indexes_path}\\n\")"
   ]
  },
  {
   "cell_type": "markdown",
   "metadata": {
    "id": "wbk6-wxRK-6S"
   },
   "source": [
    "## Organize Data into YAML File\n",
    "Now we need to create a `metadata.yaml` file which contains the paths, dadta types of graph structure, feature data, training/validation/test sets.\n",
    "\n",
    "Notes:\n",
    "- all path should be relative to `metadata.yaml`.\n",
    "- Below fields are optional and not specified in below example.\n",
    "  - `in_memory`: indicates whether to load dada into memory or `mmap`. Default is `True`.\n",
    "\n",
    "Please refer to [YAML specification](https://github.com/dmlc/dgl/blob/master/docs/source/stochastic_training/ondisk-dataset-specification.rst) for more details."
   ]
  },
  {
   "cell_type": "code",
   "execution_count": 7,
   "metadata": {
    "execution": {
     "iopub.execute_input": "2024-08-21T11:43:43.110114Z",
     "iopub.status.busy": "2024-08-21T11:43:43.109781Z",
     "iopub.status.idle": "2024-08-21T11:43:43.115372Z",
     "shell.execute_reply": "2024-08-21T11:43:43.114761Z"
    },
    "id": "ddGTWW61Lpwp"
   },
   "outputs": [],
   "source": [
    "yaml_content = f\"\"\"\n",
    "    dataset_name: homogeneous_graph_nc_lp\n",
    "    graph:\n",
    "      nodes:\n",
    "        - num: {num_nodes}\n",
    "      edges:\n",
    "        - format: csv\n",
    "          path: {os.path.basename(edges_path)}\n",
    "    feature_data:\n",
    "      - domain: node\n",
    "        name: feat_0\n",
    "        format: numpy\n",
    "        path: {os.path.basename(node_feat_0_path)}\n",
    "      - domain: node\n",
    "        name: feat_1\n",
    "        format: torch\n",
    "        path: {os.path.basename(node_feat_1_path)}\n",
    "      - domain: edge\n",
    "        name: feat_0\n",
    "        format: numpy\n",
    "        path: {os.path.basename(edge_feat_0_path)}\n",
    "      - domain: edge\n",
    "        name: feat_1\n",
    "        format: torch\n",
    "        path: {os.path.basename(edge_feat_1_path)}\n",
    "    tasks:\n",
    "      - name: node_classification\n",
    "        num_classes: 10\n",
    "        train_set:\n",
    "          - data:\n",
    "              - name: seeds\n",
    "                format: numpy\n",
    "                path: {os.path.basename(nc_train_ids_path)}\n",
    "              - name: labels\n",
    "                format: torch\n",
    "                path: {os.path.basename(nc_train_labels_path)}\n",
    "        validation_set:\n",
    "          - data:\n",
    "              - name: seeds\n",
    "                format: numpy\n",
    "                path: {os.path.basename(nc_val_ids_path)}\n",
    "              - name: labels\n",
    "                format: torch\n",
    "                path: {os.path.basename(nc_val_labels_path)}\n",
    "        test_set:\n",
    "          - data:\n",
    "              - name: seeds\n",
    "                format: numpy\n",
    "                path: {os.path.basename(nc_test_ids_path)}\n",
    "              - name: labels\n",
    "                format: torch\n",
    "                path: {os.path.basename(nc_test_labels_path)}\n",
    "      - name: link_prediction\n",
    "        num_classes: 10\n",
    "        train_set:\n",
    "          - data:\n",
    "              - name: seeds\n",
    "                format: numpy\n",
    "                path: {os.path.basename(lp_train_seeds_path)}\n",
    "        validation_set:\n",
    "          - data:\n",
    "              - name: seeds\n",
    "                format: numpy\n",
    "                path: {os.path.basename(lp_val_seeds_path)}\n",
    "              - name: labels\n",
    "                format: numpy\n",
    "                path: {os.path.basename(lp_val_labels_path)}\n",
    "              - name: indexes\n",
    "                format: numpy\n",
    "                path: {os.path.basename(lp_val_indexes_path)}\n",
    "        test_set:\n",
    "          - data:\n",
    "              - name: seeds\n",
    "                format: numpy\n",
    "                path: {os.path.basename(lp_test_seeds_path)}\n",
    "              - name: labels\n",
    "                format: numpy\n",
    "                path: {os.path.basename(lp_test_labels_path)}\n",
    "              - name: indexes\n",
    "                format: numpy\n",
    "                path: {os.path.basename(lp_test_indexes_path)}\n",
    "\"\"\"\n",
    "metadata_path = os.path.join(base_dir, \"metadata.yaml\")\n",
    "with open(metadata_path, \"w\") as f:\n",
    "  f.write(yaml_content)"
   ]
  },
  {
   "cell_type": "markdown",
   "metadata": {
    "id": "kEfybHGhOW7O"
   },
   "source": [
    "## Instantiate `OnDiskDataset`\n",
    "Now we're ready to load dataset via `dgl.graphbolt.OnDiskDataset`. When instantiating, we just pass in the base directory where `metadata.yaml` file lies.\n",
    "\n",
    "During first instantiation, GraphBolt preprocesses the raw data such as constructing `FusedCSCSamplingGraph` from edges. All data including graph, feature data, training/validation/test sets are put into `preprocessed` directory after preprocessing. Any following dataset loading will skip the preprocess stage.\n",
    "\n",
    "After preprocessing, `load()` is required to be called explicitly in order to load graph, feature data and tasks."
   ]
  },
  {
   "cell_type": "code",
   "execution_count": 8,
   "metadata": {
    "execution": {
     "iopub.execute_input": "2024-08-21T11:43:43.117625Z",
     "iopub.status.busy": "2024-08-21T11:43:43.117314Z",
     "iopub.status.idle": "2024-08-21T11:43:43.224531Z",
     "shell.execute_reply": "2024-08-21T11:43:43.223896Z"
    },
    "id": "W58CZoSzOiyo"
   },
   "outputs": [
    {
     "name": "stdout",
     "output_type": "stream",
     "text": [
      "The on-disk dataset is re-preprocessing, so the existing preprocessed dataset has been removed.\n",
      "Start to preprocess the on-disk dataset.\n",
      "Finish preprocessing the on-disk dataset.\n",
      "Loaded graph: FusedCSCSamplingGraph(csc_indptr=tensor([    0,    12,    23,  ...,  9983,  9992, 10000], dtype=torch.int32),\n",
      "                      indices=tensor([427, 887, 265,  ..., 641, 120, 353], dtype=torch.int32),\n",
      "                      total_num_nodes=1000, num_edges=10000,)\n",
      "\n",
      "Loaded feature store: TorchBasedFeatureStore(\n",
      "    {(<OnDiskFeatureDataDomain.NODE: 'node'>, None, 'feat_0'): TorchBasedFeature(\n",
      "        feature=tensor([[0.2081, 0.3746, 0.1355, 0.1583, 0.3570],\n",
      "                        [0.2568, 0.1276, 0.7464, 0.9434, 0.4834],\n",
      "                        [0.6547, 0.7654, 0.6335, 0.6567, 0.2751],\n",
      "                        ...,\n",
      "                        [0.4809, 0.7530, 0.7499, 0.0989, 0.3912],\n",
      "                        [0.7919, 0.9648, 0.8835, 0.0901, 0.5552],\n",
      "                        [0.0336, 0.9516, 0.5285, 0.2916, 0.4653]], dtype=torch.float64),\n",
      "        metadata={},\n",
      "    ), (<OnDiskFeatureDataDomain.NODE: 'node'>, None, 'feat_1'): TorchBasedFeature(\n",
      "        feature=tensor([[0.8158, 0.4090, 0.8892, 0.8043, 0.9712],\n",
      "                        [0.8034, 0.2055, 0.0866, 0.9517, 0.9087],\n",
      "                        [0.0283, 0.8877, 0.9475, 0.9455, 0.0368],\n",
      "                        ...,\n",
      "                        [0.6690, 0.9428, 0.6893, 0.1884, 0.9420],\n",
      "                        [0.1284, 0.1898, 0.9257, 0.3706, 0.0268],\n",
      "                        [0.3863, 0.0542, 0.7028, 0.3721, 0.6176]]),\n",
      "        metadata={},\n",
      "    ), (<OnDiskFeatureDataDomain.EDGE: 'edge'>, None, 'feat_0'): TorchBasedFeature(\n",
      "        feature=tensor([[0.9766, 0.0552, 0.2598, 0.6831, 0.3542],\n",
      "                        [0.9040, 0.0842, 0.8751, 0.3889, 0.4699],\n",
      "                        [0.4077, 0.8688, 0.8664, 0.1695, 0.3359],\n",
      "                        ...,\n",
      "                        [0.7402, 0.1623, 0.0678, 0.3511, 0.6143],\n",
      "                        [0.9193, 0.3383, 0.1583, 0.5718, 0.4059],\n",
      "                        [0.6832, 0.0912, 0.8377, 0.2788, 0.0986]], dtype=torch.float64),\n",
      "        metadata={},\n",
      "    ), (<OnDiskFeatureDataDomain.EDGE: 'edge'>, None, 'feat_1'): TorchBasedFeature(\n",
      "        feature=tensor([[0.8895, 0.3189, 0.0156, 0.5929, 0.7092],\n",
      "                        [0.6831, 0.0336, 0.0609, 0.4302, 0.4260],\n",
      "                        [0.5208, 0.3927, 0.8775, 0.5537, 0.8111],\n",
      "                        ...,\n",
      "                        [0.3263, 0.4638, 0.8121, 0.5487, 0.6162],\n",
      "                        [0.5247, 0.3325, 0.1491, 0.3925, 0.6353],\n",
      "                        [0.6985, 0.3852, 0.3744, 0.6255, 0.1232]]),\n",
      "        metadata={},\n",
      "    )}\n",
      ")\n",
      "\n",
      "Loaded node classification task: OnDiskTask(validation_set=ItemSet(\n",
      "               items=(tensor([373, 149, 101, 107, 599, 265, 125, 259,  33, 712, 917, 938, 835, 631,\n",
      "                   606, 302, 803, 689, 801, 795,  36, 308, 203, 206, 498, 490, 956, 785,\n",
      "                   946,  91,  39, 167,  70, 340, 170, 643, 698, 433, 185, 257, 822, 128,\n",
      "                    26, 930, 915, 151, 527, 174, 794, 482, 157, 331, 534, 180, 638, 634,\n",
      "                   702,  97, 447, 548, 489, 313, 289, 729, 878, 132, 314, 616, 691, 306,\n",
      "                   242, 299, 968, 311, 350, 233, 944,  37, 869, 227, 401, 809,  14, 287,\n",
      "                   439, 258, 363, 345, 577, 406, 136, 945, 364, 188, 762, 428, 303, 320,\n",
      "                   456, 341, 513, 571, 705, 116, 982, 679, 636, 765, 367,  94, 647, 610,\n",
      "                   216, 933, 505, 280, 360, 666, 368, 748,  84, 572, 361, 156, 446, 649,\n",
      "                   273, 796, 387, 158, 923, 682, 240, 535, 561,  85, 926, 743, 166, 509,\n",
      "                   144, 378, 530, 163, 784, 714, 605, 957, 563, 927, 677, 859, 175, 562,\n",
      "                   755, 858, 494, 731, 183, 221, 756, 478, 978, 825, 912, 338, 414, 369,\n",
      "                    49, 813, 660, 201, 951, 942,   8, 741, 845, 549, 749, 195, 888, 896,\n",
      "                   996, 412, 767, 519, 696, 887, 486, 220, 706, 574, 699, 292, 639, 584,\n",
      "                   297, 272, 325, 728], dtype=torch.int32), tensor([4, 1, 2, 7, 5, 5, 9, 4, 0, 6, 3, 3, 6, 3, 8, 9, 6, 4, 4, 6, 6, 0, 2, 3,\n",
      "                   9, 0, 6, 4, 2, 0, 8, 7, 0, 1, 7, 1, 5, 3, 3, 7, 5, 4, 7, 3, 8, 9, 4, 8,\n",
      "                   9, 1, 1, 0, 2, 5, 5, 2, 0, 8, 8, 2, 1, 3, 3, 5, 9, 3, 9, 9, 0, 8, 6, 9,\n",
      "                   9, 4, 0, 8, 1, 3, 3, 3, 1, 0, 8, 3, 8, 5, 9, 0, 8, 9, 4, 7, 4, 3, 7, 2,\n",
      "                   7, 8, 2, 7, 2, 5, 0, 6, 1, 7, 4, 5, 4, 9, 1, 2, 2, 0, 7, 4, 1, 0, 9, 8,\n",
      "                   1, 1, 6, 3, 6, 2, 9, 3, 5, 0, 6, 2, 9, 9, 1, 5, 6, 4, 0, 3, 4, 8, 6, 2,\n",
      "                   6, 3, 4, 3, 4, 9, 7, 2, 5, 6, 2, 5, 2, 6, 7, 7, 7, 5, 2, 2, 8, 4, 0, 6,\n",
      "                   1, 0, 8, 2, 5, 3, 1, 5, 3, 1, 0, 1, 4, 3, 6, 3, 0, 1, 7, 5, 0, 9, 8, 4,\n",
      "                   5, 7, 3, 3, 1, 1, 5, 0])),\n",
      "               names=('seeds', 'labels'),\n",
      "           ),\n",
      "           train_set=ItemSet(\n",
      "               items=(tensor([133, 622, 503, 382,  64,  12, 776, 226, 208, 977, 380, 704,  75, 815,\n",
      "                   619,  53, 818, 916, 873, 500, 305, 759, 721, 194, 275, 218, 142, 746,\n",
      "                   285, 734,  11, 247,   1, 928, 422, 735, 269, 219, 515, 570, 641, 747,\n",
      "                    18, 817, 154, 675, 832,  23, 540, 581, 864, 863, 377, 232, 892,  20,\n",
      "                   738, 654,   7, 663, 674, 286,  10, 661, 596, 434, 623, 415, 719, 603,\n",
      "                   829, 620, 847, 883,  21, 586, 551, 587,  81,  19, 529, 985, 903, 802,\n",
      "                   894,  58, 935, 842, 607, 627,  28, 510, 585, 790, 564,  89, 472, 787,\n",
      "                   274, 525, 252, 754, 556, 783, 872, 448, 114, 774, 831, 737, 199, 553,\n",
      "                   319, 934, 684, 417, 435, 861,  16, 992, 383, 667, 834,  77, 487, 457,\n",
      "                   791, 514, 121, 700, 947, 588, 680, 127, 423, 326, 589, 502, 701, 973,\n",
      "                   778, 568, 366, 924, 609, 214, 736, 251,   3, 312, 390, 624, 965, 191,\n",
      "                   222,  95, 236, 597, 315, 330, 940, 630, 473, 323, 467, 739, 664, 153,\n",
      "                   537, 614, 866, 745, 970,  66, 971, 444, 792, 508, 283,   6,  76,  73,\n",
      "                   601, 868, 823, 475, 143, 103, 632, 140, 650, 244, 989, 349, 648, 839,\n",
      "                   885, 474, 798, 288, 453, 198, 583, 372, 152, 430, 304, 979, 399, 479,\n",
      "                    72, 193, 260, 460,  96,  82, 874, 929, 410, 590, 860, 310, 724, 751,\n",
      "                   773, 442, 732, 161, 613, 876, 342, 658, 484, 852, 772, 491, 138, 337,\n",
      "                   481, 703, 986, 471, 518, 358, 625, 328, 678, 301, 117,  59, 223, 949,\n",
      "                   459, 963, 976, 398, 181, 520, 909, 669, 595, 189,  17, 918, 843, 528,\n",
      "                   419, 177, 782, 291, 910, 455, 483, 393, 779, 522, 388, 969,  40, 427,\n",
      "                   671, 591, 298, 807, 725, 984, 211, 431, 217, 893, 235, 879, 266, 920,\n",
      "                   146, 225, 543,  87, 346, 810, 793, 150, 618, 421, 224, 711, 241, 477,\n",
      "                   461, 932, 870, 317,  45, 727, 294, 100, 409, 229, 604, 449,  69, 546,\n",
      "                   496, 501, 640, 148, 400, 851, 282, 575, 318, 988, 243, 539, 857, 854,\n",
      "                    24, 898,   4, 983, 499, 764, 371, 550, 899, 819, 255, 429, 374, 162,\n",
      "                    50, 413, 309, 720, 598, 392, 192, 991, 998, 526, 612,  38, 806, 256,\n",
      "                   536, 231, 394, 120, 952, 365, 262, 789, 234, 168, 469, 239, 800, 102,\n",
      "                   808,  55, 644,  93, 547, 943, 710, 403, 327, 695, 905, 324, 277,   5,\n",
      "                   348, 565, 159, 849, 814, 645, 733, 828, 999, 207, 955, 284, 408, 106,\n",
      "                   967, 131,  48, 758, 780, 196, 118, 384, 662, 997, 267, 856, 665, 321,\n",
      "                   579,  32, 769, 416, 937, 351, 688, 237, 420, 919, 451, 760, 980,   9,\n",
      "                   966, 626, 824, 205, 770, 950, 336,  25, 853,  60, 961, 480, 846, 495,\n",
      "                   676, 672, 740, 690, 602, 112, 763, 542, 633, 833, 437, 555, 333, 122,\n",
      "                   197, 397, 362,  42, 339, 254, 329, 569, 781, 164, 213, 880, 512, 135,\n",
      "                   405, 901, 145, 238,  92, 278, 411, 628, 111, 307, 821,  41, 788,  99,\n",
      "                    62, 253, 432,  30, 466, 545, 204, 552, 485, 744, 506, 805, 651, 713,\n",
      "                   836, 119, 871, 576,  29, 248, 975, 768, 343, 567,  80,  98, 799, 261,\n",
      "                   777, 389, 653, 826, 375, 771, 820, 470, 715, 697, 573, 300, 804,  67,\n",
      "                   316, 913, 692, 670, 279, 637, 642, 960, 914, 668, 615, 580,  43,  63,\n",
      "                   344,   0, 134, 385, 395, 110, 115, 722, 611, 424, 169, 838, 335, 656,\n",
      "                   541, 936, 290, 709, 129, 476, 452, 939, 716, 652, 246, 974, 376, 742,\n",
      "                   426, 594, 544,  54,  90, 908, 524, 659, 766, 566, 488, 686, 407, 617,\n",
      "                    27, 124, 425, 386, 673, 264,  46, 840, 881, 635, 113, 359],\n",
      "                  dtype=torch.int32), tensor([3, 1, 7, 8, 8, 3, 7, 9, 5, 8, 3, 6, 7, 7, 0, 4, 2, 4, 2, 9, 8, 4, 8, 6,\n",
      "                   7, 5, 6, 3, 3, 7, 3, 4, 7, 5, 7, 6, 0, 5, 2, 3, 9, 3, 4, 6, 4, 0, 5, 6,\n",
      "                   5, 7, 7, 2, 4, 0, 8, 0, 1, 7, 3, 4, 1, 7, 0, 6, 0, 7, 5, 0, 5, 0, 3, 0,\n",
      "                   5, 0, 2, 8, 5, 9, 9, 2, 9, 9, 4, 2, 4, 6, 8, 3, 1, 9, 0, 7, 4, 2, 9, 7,\n",
      "                   1, 6, 3, 9, 1, 9, 7, 0, 4, 2, 4, 0, 8, 4, 0, 2, 9, 1, 6, 6, 4, 9, 4, 5,\n",
      "                   4, 2, 9, 0, 4, 5, 1, 4, 5, 0, 1, 6, 4, 5, 2, 2, 1, 0, 1, 2, 6, 3, 9, 6,\n",
      "                   1, 7, 3, 6, 8, 9, 5, 8, 9, 9, 2, 3, 4, 7, 7, 1, 8, 5, 2, 9, 5, 7, 3, 5,\n",
      "                   7, 5, 3, 8, 1, 0, 2, 1, 7, 8, 7, 5, 9, 9, 1, 4, 2, 7, 0, 3, 6, 6, 0, 7,\n",
      "                   2, 5, 1, 9, 1, 6, 4, 5, 0, 7, 5, 1, 5, 7, 1, 2, 7, 9, 7, 7, 8, 0, 4, 0,\n",
      "                   7, 7, 0, 7, 9, 3, 3, 9, 1, 4, 8, 1, 7, 3, 4, 7, 8, 7, 4, 0, 8, 6, 6, 6,\n",
      "                   6, 3, 2, 4, 7, 3, 0, 7, 6, 5, 4, 4, 1, 9, 9, 4, 4, 7, 6, 1, 1, 7, 6, 7,\n",
      "                   9, 1, 6, 3, 7, 2, 9, 0, 5, 9, 4, 9, 5, 8, 0, 8, 7, 8, 8, 4, 8, 7, 0, 3,\n",
      "                   9, 0, 4, 4, 3, 3, 4, 7, 4, 3, 3, 7, 0, 4, 9, 8, 3, 3, 9, 0, 0, 4, 7, 2,\n",
      "                   6, 5, 2, 3, 3, 6, 7, 1, 3, 8, 0, 5, 5, 5, 1, 7, 3, 6, 1, 9, 7, 6, 4, 0,\n",
      "                   7, 4, 2, 7, 5, 9, 9, 8, 8, 8, 6, 9, 0, 5, 5, 7, 4, 0, 6, 7, 9, 2, 4, 3,\n",
      "                   1, 7, 9, 4, 2, 7, 0, 5, 8, 8, 6, 8, 4, 4, 7, 4, 4, 8, 1, 0, 5, 0, 4, 3,\n",
      "                   3, 9, 6, 1, 9, 1, 1, 8, 7, 5, 5, 9, 6, 3, 6, 0, 3, 5, 7, 9, 3, 5, 3, 0,\n",
      "                   6, 2, 6, 0, 5, 6, 6, 8, 4, 4, 4, 6, 2, 6, 2, 8, 2, 2, 8, 3, 2, 2, 4, 4,\n",
      "                   5, 8, 1, 3, 1, 9, 3, 8, 9, 3, 1, 0, 4, 5, 9, 5, 5, 2, 4, 0, 4, 8, 3, 3,\n",
      "                   3, 2, 4, 1, 3, 7, 2, 8, 1, 8, 5, 3, 5, 9, 5, 2, 5, 1, 9, 0, 9, 9, 5, 4,\n",
      "                   6, 2, 0, 4, 0, 2, 9, 5, 3, 4, 8, 6, 5, 7, 1, 5, 7, 3, 3, 8, 0, 2, 5, 4,\n",
      "                   7, 8, 5, 5, 3, 8, 9, 4, 5, 8, 6, 7, 0, 9, 0, 5, 5, 1, 6, 4, 9, 1, 0, 5,\n",
      "                   9, 7, 5, 4, 7, 2, 2, 6, 4, 1, 2, 7, 6, 0, 3, 4, 1, 9, 9, 8, 3, 0, 4, 5,\n",
      "                   9, 4, 8, 5, 3, 6, 6, 2, 1, 8, 1, 1, 3, 1, 1, 4, 5, 1, 8, 7, 1, 9, 7, 6,\n",
      "                   5, 8, 7, 0, 4, 4, 6, 7, 3, 2, 4, 8, 0, 6, 8, 0, 5, 1, 7, 1, 0, 2, 5, 4])),\n",
      "               names=('seeds', 'labels'),\n",
      "           ),\n",
      "           test_set=ItemSet(\n",
      "               items=(tensor([954, 875, 911, 995, 592, 130, 959, 517, 396, 263,  61, 578, 900, 187,\n",
      "                   816, 139, 137, 812, 507, 841, 160, 250,  57, 726, 155, 981, 723, 173,\n",
      "                   558, 521, 889, 964, 276, 958, 504, 941, 245, 897, 687, 249, 582, 646,\n",
      "                   884,  47, 718, 931, 953, 357, 493, 186, 105, 492, 418, 356, 228, 178,\n",
      "                   560, 212,  34,  65, 531, 559, 972, 176, 379, 877, 200, 600, 811, 271,\n",
      "                   511,  52,  86, 554, 890, 891, 895,  68, 693,  79, 391, 830, 922, 717,\n",
      "                    88,  56,  78, 441, 707, 230, 862, 907,  71, 753,  35, 454, 797,  44,\n",
      "                   347, 295, 993, 886,  13, 438, 906, 882, 332, 209, 904, 948, 404,  83,\n",
      "                   532, 848, 827, 844, 850, 109, 497, 322, 462, 381, 629, 440, 463, 123,\n",
      "                   352, 990, 353, 708, 458, 355, 147, 436, 786, 370, 402, 681, 523, 655,\n",
      "                   761, 867, 182, 465, 296, 962, 685, 268, 171, 694, 215, 270, 752, 987,\n",
      "                   683, 657,  22, 445, 179, 165, 141, 443, 730, 293, 855, 450,  51, 104,\n",
      "                     2, 757, 516, 190,  31, 621, 925, 464, 593, 865, 108, 354, 533,  15,\n",
      "                   184, 281,  74, 126, 172, 994, 557, 468, 202, 902, 921, 334, 538, 750,\n",
      "                   837, 210, 608, 775], dtype=torch.int32), tensor([3, 1, 2, 3, 6, 9, 0, 6, 0, 5, 6, 6, 5, 5, 8, 8, 2, 9, 2, 8, 2, 1, 5, 5,\n",
      "                   0, 6, 4, 1, 1, 9, 8, 1, 0, 3, 1, 3, 1, 2, 5, 3, 7, 7, 3, 3, 0, 0, 4, 6,\n",
      "                   8, 0, 3, 6, 3, 0, 6, 9, 2, 7, 2, 2, 4, 6, 5, 2, 5, 5, 5, 4, 9, 9, 0, 9,\n",
      "                   0, 3, 5, 0, 0, 6, 6, 9, 1, 7, 3, 2, 4, 0, 2, 1, 5, 8, 6, 3, 4, 3, 6, 6,\n",
      "                   1, 8, 1, 8, 8, 6, 3, 0, 8, 2, 5, 6, 6, 2, 3, 4, 5, 6, 8, 3, 1, 7, 1, 0,\n",
      "                   2, 7, 7, 1, 0, 7, 8, 9, 1, 4, 1, 9, 4, 1, 6, 9, 4, 0, 7, 6, 7, 0, 7, 2,\n",
      "                   5, 5, 8, 0, 6, 6, 7, 0, 7, 6, 6, 6, 6, 8, 6, 3, 4, 1, 9, 0, 4, 0, 7, 9,\n",
      "                   2, 9, 1, 5, 9, 5, 5, 2, 3, 6, 4, 8, 5, 2, 3, 8, 3, 5, 0, 3, 7, 3, 2, 8,\n",
      "                   0, 7, 4, 5, 3, 7, 3, 4])),\n",
      "               names=('seeds', 'labels'),\n",
      "           ),\n",
      "           metadata={'name': 'node_classification', 'num_classes': 10},)\n",
      "\n",
      "Loaded link prediction task: OnDiskTask(validation_set=ItemSet(\n",
      "               items=(tensor([[659, 417],\n",
      "                   [735, 653],\n",
      "                   [670, 915],\n",
      "                   ...,\n",
      "                   [808, 969],\n",
      "                   [808, 371],\n",
      "                   [808, 591]], dtype=torch.int32), tensor([1., 1., 1.,  ..., 0., 0., 0.], dtype=torch.float64), tensor([   0,    1,    2,  ..., 1999, 1999, 1999])),\n",
      "               names=('seeds', 'labels', 'indexes'),\n",
      "           ),\n",
      "           train_set=ItemSet(\n",
      "               items=(tensor([[  8, 831],\n",
      "                   [151, 641],\n",
      "                   [ 36, 982],\n",
      "                   ...,\n",
      "                   [ 35, 333],\n",
      "                   [684, 562],\n",
      "                   [957, 481]], dtype=torch.int32),),\n",
      "               names=('seeds',),\n",
      "           ),\n",
      "           test_set=ItemSet(\n",
      "               items=(tensor([[928, 987],\n",
      "                   [606, 260],\n",
      "                   [190, 114],\n",
      "                   ...,\n",
      "                   [877, 500],\n",
      "                   [877, 754],\n",
      "                   [877, 890]], dtype=torch.int32), tensor([1., 1., 1.,  ..., 0., 0., 0.], dtype=torch.float64), tensor([   0,    1,    2,  ..., 1999, 1999, 1999])),\n",
      "               names=('seeds', 'labels', 'indexes'),\n",
      "           ),\n",
      "           metadata={'name': 'link_prediction', 'num_classes': 10},)\n",
      "\n"
     ]
    },
    {
     "name": "stderr",
     "output_type": "stream",
     "text": [
      "/home/ubuntu/regression_test/dgl/python/dgl/graphbolt/impl/ondisk_dataset.py:460: DGLWarning: Edge feature is stored, but edge IDs are not saved.\n",
      "  dgl_warning(\"Edge feature is stored, but edge IDs are not saved.\")\n"
     ]
    }
   ],
   "source": [
    "dataset = gb.OnDiskDataset(base_dir).load()\n",
    "graph = dataset.graph\n",
    "print(f\"Loaded graph: {graph}\\n\")\n",
    "\n",
    "feature = dataset.feature\n",
    "print(f\"Loaded feature store: {feature}\\n\")\n",
    "\n",
    "tasks = dataset.tasks\n",
    "nc_task = tasks[0]\n",
    "print(f\"Loaded node classification task: {nc_task}\\n\")\n",
    "lp_task = tasks[1]\n",
    "print(f\"Loaded link prediction task: {lp_task}\\n\")"
   ]
  }
 ],
 "metadata": {
  "colab": {
   "private_outputs": true,
   "provenance": []
  },
  "kernelspec": {
   "display_name": "Python 3",
   "name": "python3"
  },
  "language_info": {
   "codemirror_mode": {
    "name": "ipython",
    "version": 3
   },
   "file_extension": ".py",
   "mimetype": "text/x-python",
   "name": "python",
   "nbconvert_exporter": "python",
   "pygments_lexer": "ipython3",
   "version": "3.10.14"
  }
 },
 "nbformat": 4,
 "nbformat_minor": 0
}

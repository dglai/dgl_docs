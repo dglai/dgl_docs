{
 "cells": [
  {
   "cell_type": "markdown",
   "metadata": {
    "id": "FnFhPMaAfLtJ"
   },
   "source": [
    "# OnDiskDataset for Homogeneous Graph\n",
    "\n",
    "[![Open In Colab](https://colab.research.google.com/assets/colab-badge.svg)](https://colab.research.google.com/github/dmlc/dgl/blob/master/notebooks/stochastic_training/ondisk_dataset_homograph.ipynb) [![GitHub](https://img.shields.io/badge/-View%20on%20GitHub-181717?logo=github&logoColor=ffffff)](https://github.com/dmlc/dgl/blob/master/notebooks/stochastic_training/ondisk_dataset_homograph.ipynb)\n",
    "\n",
    "This tutorial shows how to create `OnDiskDataset` for homogeneous graph that could be used in **GraphBolt** framework.\n",
    "\n",
    "By the end of this tutorial, you will be able to\n",
    "\n",
    "- organize graph structure data.\n",
    "- organize feature data.\n",
    "- organize training/validation/test set for specific tasks.\n",
    "\n",
    "To create an ``OnDiskDataset`` object, you need to organize all the data including graph structure, feature data and tasks into a directory. The directory should contain a ``metadata.yaml`` file that describes the metadata of the dataset.\n",
    "\n",
    "Now let's generate various data step by step and organize them together to instantiate `OnDiskDataset` finally."
   ]
  },
  {
   "cell_type": "markdown",
   "metadata": {
    "id": "Wlb19DtWgtzq"
   },
   "source": [
    "## Install DGL package"
   ]
  },
  {
   "cell_type": "code",
   "execution_count": 1,
   "metadata": {
    "execution": {
     "iopub.execute_input": "2024-08-27T06:51:06.993299Z",
     "iopub.status.busy": "2024-08-27T06:51:06.992927Z",
     "iopub.status.idle": "2024-08-27T06:51:10.783729Z",
     "shell.execute_reply": "2024-08-27T06:51:10.783041Z"
    },
    "id": "UojlT9ZGgyr9"
   },
   "outputs": [
    {
     "name": "stdout",
     "output_type": "stream",
     "text": [
      "Looking in links: https://data.dgl.ai/wheels-test/repo.html\r\n",
      "Requirement already satisfied: dgl in /opt/conda/envs/dgl-dev-cpu/lib/python3.10/site-packages (2.2a240410)\r\n",
      "Requirement already satisfied: numpy>=1.14.0 in /opt/conda/envs/dgl-dev-cpu/lib/python3.10/site-packages (from dgl) (1.26.4)\r\n",
      "Requirement already satisfied: scipy>=1.1.0 in /opt/conda/envs/dgl-dev-cpu/lib/python3.10/site-packages (from dgl) (1.14.0)\r\n",
      "Requirement already satisfied: networkx>=2.1 in /opt/conda/envs/dgl-dev-cpu/lib/python3.10/site-packages (from dgl) (3.3)\r\n",
      "Requirement already satisfied: requests>=2.19.0 in /opt/conda/envs/dgl-dev-cpu/lib/python3.10/site-packages (from dgl) (2.32.3)\r\n",
      "Requirement already satisfied: tqdm in /opt/conda/envs/dgl-dev-cpu/lib/python3.10/site-packages (from dgl) (4.66.5)\r\n",
      "Requirement already satisfied: psutil>=5.8.0 in /opt/conda/envs/dgl-dev-cpu/lib/python3.10/site-packages (from dgl) (6.0.0)\r\n",
      "Requirement already satisfied: torchdata>=0.5.0 in /opt/conda/envs/dgl-dev-cpu/lib/python3.10/site-packages (from dgl) (0.7.1)\r\n",
      "Requirement already satisfied: pandas in /opt/conda/envs/dgl-dev-cpu/lib/python3.10/site-packages (from dgl) (2.2.2)\r\n"
     ]
    },
    {
     "name": "stdout",
     "output_type": "stream",
     "text": [
      "Requirement already satisfied: charset-normalizer<4,>=2 in /opt/conda/envs/dgl-dev-cpu/lib/python3.10/site-packages (from requests>=2.19.0->dgl) (3.3.2)\r\n",
      "Requirement already satisfied: idna<4,>=2.5 in /opt/conda/envs/dgl-dev-cpu/lib/python3.10/site-packages (from requests>=2.19.0->dgl) (3.8)\r\n",
      "Requirement already satisfied: urllib3<3,>=1.21.1 in /opt/conda/envs/dgl-dev-cpu/lib/python3.10/site-packages (from requests>=2.19.0->dgl) (2.2.2)\r\n",
      "Requirement already satisfied: certifi>=2017.4.17 in /opt/conda/envs/dgl-dev-cpu/lib/python3.10/site-packages (from requests>=2.19.0->dgl) (2024.7.4)\r\n",
      "Requirement already satisfied: torch>=2 in /opt/conda/envs/dgl-dev-cpu/lib/python3.10/site-packages (from torchdata>=0.5.0->dgl) (2.4.0+cpu)\r\n"
     ]
    },
    {
     "name": "stdout",
     "output_type": "stream",
     "text": [
      "Requirement already satisfied: python-dateutil>=2.8.2 in /opt/conda/envs/dgl-dev-cpu/lib/python3.10/site-packages (from pandas->dgl) (2.9.0.post0)\r\n",
      "Requirement already satisfied: pytz>=2020.1 in /opt/conda/envs/dgl-dev-cpu/lib/python3.10/site-packages (from pandas->dgl) (2024.1)\r\n",
      "Requirement already satisfied: tzdata>=2022.7 in /opt/conda/envs/dgl-dev-cpu/lib/python3.10/site-packages (from pandas->dgl) (2024.1)\r\n",
      "Requirement already satisfied: six>=1.5 in /opt/conda/envs/dgl-dev-cpu/lib/python3.10/site-packages (from python-dateutil>=2.8.2->pandas->dgl) (1.16.0)\r\n",
      "Requirement already satisfied: filelock in /opt/conda/envs/dgl-dev-cpu/lib/python3.10/site-packages (from torch>=2->torchdata>=0.5.0->dgl) (3.15.4)\r\n",
      "Requirement already satisfied: typing-extensions>=4.8.0 in /opt/conda/envs/dgl-dev-cpu/lib/python3.10/site-packages (from torch>=2->torchdata>=0.5.0->dgl) (4.12.2)\r\n",
      "Requirement already satisfied: sympy in /opt/conda/envs/dgl-dev-cpu/lib/python3.10/site-packages (from torch>=2->torchdata>=0.5.0->dgl) (1.13.2)\r\n",
      "Requirement already satisfied: jinja2 in /opt/conda/envs/dgl-dev-cpu/lib/python3.10/site-packages (from torch>=2->torchdata>=0.5.0->dgl) (3.1.4)\r\n",
      "Requirement already satisfied: fsspec in /opt/conda/envs/dgl-dev-cpu/lib/python3.10/site-packages (from torch>=2->torchdata>=0.5.0->dgl) (2024.6.1)\r\n"
     ]
    },
    {
     "name": "stdout",
     "output_type": "stream",
     "text": [
      "Requirement already satisfied: MarkupSafe>=2.0 in /opt/conda/envs/dgl-dev-cpu/lib/python3.10/site-packages (from jinja2->torch>=2->torchdata>=0.5.0->dgl) (2.1.5)\r\n",
      "Requirement already satisfied: mpmath<1.4,>=1.1.0 in /opt/conda/envs/dgl-dev-cpu/lib/python3.10/site-packages (from sympy->torch>=2->torchdata>=0.5.0->dgl) (1.3.0)\r\n"
     ]
    },
    {
     "name": "stderr",
     "output_type": "stream",
     "text": [
      "/home/ubuntu/regression_test/dgl/python/dgl/graphbolt/base.py:82: FutureWarning: `torch.library.impl_abstract` was renamed to `torch.library.register_fake`. Please use that instead; we will remove `torch.library.impl_abstract` in a future version of PyTorch.\n",
      "  @torch.library.impl_abstract(\"graphbolt::expand_indptr\")\n"
     ]
    },
    {
     "name": "stdout",
     "output_type": "stream",
     "text": [
      "DGL installed!\n"
     ]
    }
   ],
   "source": [
    "# Install required packages.\n",
    "import os\n",
    "import torch\n",
    "import numpy as np\n",
    "os.environ['TORCH'] = torch.__version__\n",
    "os.environ['DGLBACKEND'] = \"pytorch\"\n",
    "\n",
    "# Install the CPU version.\n",
    "device = torch.device(\"cpu\")\n",
    "!pip install --pre dgl -f https://data.dgl.ai/wheels-test/repo.html\n",
    "\n",
    "try:\n",
    "    import dgl\n",
    "    import dgl.graphbolt as gb\n",
    "    installed = True\n",
    "except ImportError as error:\n",
    "    installed = False\n",
    "    print(error)\n",
    "print(\"DGL installed!\" if installed else \"DGL not found!\")"
   ]
  },
  {
   "cell_type": "markdown",
   "metadata": {
    "id": "2R7WnSbjsfbr"
   },
   "source": [
    "## Data preparation\n",
    "In order to demonstrate how to organize various data, let's create a base directory first."
   ]
  },
  {
   "cell_type": "code",
   "execution_count": 2,
   "metadata": {
    "execution": {
     "iopub.execute_input": "2024-08-27T06:51:10.786493Z",
     "iopub.status.busy": "2024-08-27T06:51:10.786133Z",
     "iopub.status.idle": "2024-08-27T06:51:10.790198Z",
     "shell.execute_reply": "2024-08-27T06:51:10.789492Z"
    },
    "id": "SZipbzyltLfO"
   },
   "outputs": [
    {
     "name": "stdout",
     "output_type": "stream",
     "text": [
      "Created base directory: ./ondisk_dataset_homograph\n"
     ]
    }
   ],
   "source": [
    "base_dir = './ondisk_dataset_homograph'\n",
    "os.makedirs(base_dir, exist_ok=True)\n",
    "print(f\"Created base directory: {base_dir}\")"
   ]
  },
  {
   "cell_type": "markdown",
   "metadata": {
    "id": "qhNtIn_xhlnl"
   },
   "source": [
    "### Generate graph structure data\n",
    "For homogeneous graph, we just need to save edges(namely seeds) into  **Numpy** or **CSV** file.\n",
    "\n",
    "Note:\n",
    "- when saving to **Numpy**, the array requires to be in shape of `(2, N)`. This format is recommended as constructing graph from it is much faster than **CSV** file.\n",
    "- when saving to **CSV** file, do not save index and header.\n"
   ]
  },
  {
   "cell_type": "code",
   "execution_count": 3,
   "metadata": {
    "execution": {
     "iopub.execute_input": "2024-08-27T06:51:10.792733Z",
     "iopub.status.busy": "2024-08-27T06:51:10.792245Z",
     "iopub.status.idle": "2024-08-27T06:51:10.804789Z",
     "shell.execute_reply": "2024-08-27T06:51:10.804189Z"
    },
    "id": "HcBt4G5BmSjr"
   },
   "outputs": [
    {
     "name": "stdout",
     "output_type": "stream",
     "text": [
      "Part of edges: [[622 677]\n",
      " [569 590]\n",
      " [149 534]\n",
      " [772  15]\n",
      " [927 619]]\n",
      "Edges are saved into ./ondisk_dataset_homograph/edges.csv\n"
     ]
    }
   ],
   "source": [
    "import numpy as np\n",
    "import pandas as pd\n",
    "num_nodes = 1000\n",
    "num_edges = 10 * num_nodes\n",
    "edges_path = os.path.join(base_dir, \"edges.csv\")\n",
    "edges = np.random.randint(0, num_nodes, size=(num_edges, 2))\n",
    "\n",
    "print(f\"Part of edges: {edges[:5, :]}\")\n",
    "\n",
    "df = pd.DataFrame(edges)\n",
    "df.to_csv(edges_path, index=False, header=False)\n",
    "\n",
    "print(f\"Edges are saved into {edges_path}\")"
   ]
  },
  {
   "cell_type": "markdown",
   "metadata": {
    "id": "kh-4cPtzpcaH"
   },
   "source": [
    "### Generate feature data for graph\n",
    "For feature data, numpy arrays and torch tensors are supported for now."
   ]
  },
  {
   "cell_type": "code",
   "execution_count": 4,
   "metadata": {
    "execution": {
     "iopub.execute_input": "2024-08-27T06:51:10.807090Z",
     "iopub.status.busy": "2024-08-27T06:51:10.806891Z",
     "iopub.status.idle": "2024-08-27T06:51:10.838065Z",
     "shell.execute_reply": "2024-08-27T06:51:10.837568Z"
    },
    "id": "_PVu1u5brBhF"
   },
   "outputs": [
    {
     "name": "stdout",
     "output_type": "stream",
     "text": [
      "Part of node feature [feat_0]: [[0.20001011 0.23636556 0.8635128  0.46202678 0.91030934]\n",
      " [0.2655435  0.88010961 0.36091171 0.65355112 0.20009716]\n",
      " [0.38500431 0.73889725 0.9281249  0.31964131 0.62486712]]\n",
      "Node feature [feat_0] is saved to ./ondisk_dataset_homograph/node-feat-0.npy\n",
      "\n",
      "Part of node feature [feat_1]: tensor([[0.4767, 0.4720, 0.4888, 0.8005, 0.1208],\n",
      "        [0.7453, 0.5562, 0.4185, 0.0012, 0.1264],\n",
      "        [0.7874, 0.1838, 0.4667, 0.5222, 0.2495]])\n",
      "Node feature [feat_1] is saved to ./ondisk_dataset_homograph/node-feat-1.pt\n",
      "\n",
      "Part of edge feature [feat_0]: [[0.67927433 0.60904118 0.03098158 0.35875583 0.23284132]\n",
      " [0.46505263 0.36862352 0.19557512 0.79660938 0.11722947]\n",
      " [0.49302288 0.15961942 0.48290275 0.41537925 0.72581524]]\n",
      "Edge feature [feat_0] is saved to ./ondisk_dataset_homograph/edge-feat-0.npy\n",
      "\n",
      "Part of edge feature [feat_1]: tensor([[0.2508, 0.4816, 0.4591, 0.5615, 0.8194],\n",
      "        [0.6591, 0.8069, 0.1310, 0.3034, 0.6831],\n",
      "        [0.3141, 0.4396, 0.0375, 0.1423, 0.3166]])\n",
      "Edge feature [feat_1] is saved to ./ondisk_dataset_homograph/edge-feat-1.pt\n",
      "\n"
     ]
    }
   ],
   "source": [
    "# Generate node feature in numpy array.\n",
    "node_feat_0_path = os.path.join(base_dir, \"node-feat-0.npy\")\n",
    "node_feat_0 = np.random.rand(num_nodes, 5)\n",
    "print(f\"Part of node feature [feat_0]: {node_feat_0[:3, :]}\")\n",
    "np.save(node_feat_0_path, node_feat_0)\n",
    "print(f\"Node feature [feat_0] is saved to {node_feat_0_path}\\n\")\n",
    "\n",
    "# Generate another node feature in torch tensor\n",
    "node_feat_1_path = os.path.join(base_dir, \"node-feat-1.pt\")\n",
    "node_feat_1 = torch.rand(num_nodes, 5)\n",
    "print(f\"Part of node feature [feat_1]: {node_feat_1[:3, :]}\")\n",
    "torch.save(node_feat_1, node_feat_1_path)\n",
    "print(f\"Node feature [feat_1] is saved to {node_feat_1_path}\\n\")\n",
    "\n",
    "# Generate edge feature in numpy array.\n",
    "edge_feat_0_path = os.path.join(base_dir, \"edge-feat-0.npy\")\n",
    "edge_feat_0 = np.random.rand(num_edges, 5)\n",
    "print(f\"Part of edge feature [feat_0]: {edge_feat_0[:3, :]}\")\n",
    "np.save(edge_feat_0_path, edge_feat_0)\n",
    "print(f\"Edge feature [feat_0] is saved to {edge_feat_0_path}\\n\")\n",
    "\n",
    "# Generate another edge feature in torch tensor\n",
    "edge_feat_1_path = os.path.join(base_dir, \"edge-feat-1.pt\")\n",
    "edge_feat_1 = torch.rand(num_edges, 5)\n",
    "print(f\"Part of edge feature [feat_1]: {edge_feat_1[:3, :]}\")\n",
    "torch.save(edge_feat_1, edge_feat_1_path)\n",
    "print(f\"Edge feature [feat_1] is saved to {edge_feat_1_path}\\n\")\n"
   ]
  },
  {
   "cell_type": "markdown",
   "metadata": {
    "id": "ZyqgOtsIwzh_"
   },
   "source": [
    "### Generate tasks\n",
    "`OnDiskDataset` supports multiple tasks. For each task, we need to prepare training/validation/test sets respectively. Such sets usually vary among different tasks. In this tutorial, let's create a **Node Classification** task and **Link Prediction** task."
   ]
  },
  {
   "cell_type": "markdown",
   "metadata": {
    "id": "hVxHaDIfzCkr"
   },
   "source": [
    "#### Node Classification Task\n",
    "For node classification task, we need **node IDs** and corresponding **labels** for each training/validation/test set. Like feature data, numpy arrays and torch tensors are supported for these sets."
   ]
  },
  {
   "cell_type": "code",
   "execution_count": 5,
   "metadata": {
    "execution": {
     "iopub.execute_input": "2024-08-27T06:51:10.840339Z",
     "iopub.status.busy": "2024-08-27T06:51:10.840040Z",
     "iopub.status.idle": "2024-08-27T06:51:10.850604Z",
     "shell.execute_reply": "2024-08-27T06:51:10.850121Z"
    },
    "id": "S5-fyBbHzTCO"
   },
   "outputs": [
    {
     "name": "stdout",
     "output_type": "stream",
     "text": [
      "Part of train ids for node classification: [173 488 351]\n",
      "NC train ids are saved to ./ondisk_dataset_homograph/nc-train-ids.npy\n",
      "\n",
      "Part of train labels for node classification: tensor([4, 8, 8])\n",
      "NC train labels are saved to ./ondisk_dataset_homograph/nc-train-labels.pt\n",
      "\n",
      "Part of val ids for node classification: [949 690 390]\n",
      "NC val ids are saved to ./ondisk_dataset_homograph/nc-val-ids.npy\n",
      "\n",
      "Part of val labels for node classification: tensor([6, 0, 6])\n",
      "NC val labels are saved to ./ondisk_dataset_homograph/nc-val-labels.pt\n",
      "\n",
      "Part of test ids for node classification: [976 629 950]\n",
      "NC test ids are saved to ./ondisk_dataset_homograph/nc-test-ids.npy\n",
      "\n",
      "Part of test labels for node classification: tensor([8, 8, 4])\n",
      "NC test labels are saved to ./ondisk_dataset_homograph/nc-test-labels.pt\n",
      "\n"
     ]
    }
   ],
   "source": [
    "num_trains = int(num_nodes * 0.6)\n",
    "num_vals = int(num_nodes * 0.2)\n",
    "num_tests = num_nodes - num_trains - num_vals\n",
    "\n",
    "ids = np.arange(num_nodes)\n",
    "np.random.shuffle(ids)\n",
    "\n",
    "nc_train_ids_path = os.path.join(base_dir, \"nc-train-ids.npy\")\n",
    "nc_train_ids = ids[:num_trains]\n",
    "print(f\"Part of train ids for node classification: {nc_train_ids[:3]}\")\n",
    "np.save(nc_train_ids_path, nc_train_ids)\n",
    "print(f\"NC train ids are saved to {nc_train_ids_path}\\n\")\n",
    "\n",
    "nc_train_labels_path = os.path.join(base_dir, \"nc-train-labels.pt\")\n",
    "nc_train_labels = torch.randint(0, 10, (num_trains,))\n",
    "print(f\"Part of train labels for node classification: {nc_train_labels[:3]}\")\n",
    "torch.save(nc_train_labels, nc_train_labels_path)\n",
    "print(f\"NC train labels are saved to {nc_train_labels_path}\\n\")\n",
    "\n",
    "nc_val_ids_path = os.path.join(base_dir, \"nc-val-ids.npy\")\n",
    "nc_val_ids = ids[num_trains:num_trains+num_vals]\n",
    "print(f\"Part of val ids for node classification: {nc_val_ids[:3]}\")\n",
    "np.save(nc_val_ids_path, nc_val_ids)\n",
    "print(f\"NC val ids are saved to {nc_val_ids_path}\\n\")\n",
    "\n",
    "nc_val_labels_path = os.path.join(base_dir, \"nc-val-labels.pt\")\n",
    "nc_val_labels = torch.randint(0, 10, (num_vals,))\n",
    "print(f\"Part of val labels for node classification: {nc_val_labels[:3]}\")\n",
    "torch.save(nc_val_labels, nc_val_labels_path)\n",
    "print(f\"NC val labels are saved to {nc_val_labels_path}\\n\")\n",
    "\n",
    "nc_test_ids_path = os.path.join(base_dir, \"nc-test-ids.npy\")\n",
    "nc_test_ids = ids[-num_tests:]\n",
    "print(f\"Part of test ids for node classification: {nc_test_ids[:3]}\")\n",
    "np.save(nc_test_ids_path, nc_test_ids)\n",
    "print(f\"NC test ids are saved to {nc_test_ids_path}\\n\")\n",
    "\n",
    "nc_test_labels_path = os.path.join(base_dir, \"nc-test-labels.pt\")\n",
    "nc_test_labels = torch.randint(0, 10, (num_tests,))\n",
    "print(f\"Part of test labels for node classification: {nc_test_labels[:3]}\")\n",
    "torch.save(nc_test_labels, nc_test_labels_path)\n",
    "print(f\"NC test labels are saved to {nc_test_labels_path}\\n\")"
   ]
  },
  {
   "cell_type": "markdown",
   "metadata": {
    "id": "LhAcDCHQ_KJ0"
   },
   "source": [
    "#### Link Prediction Task\n",
    "For link prediction task, we need **seeds** or **corresponding labels and indexes** which representing the pos/neg property and group of the seeds for each training/validation/test set. Like feature data, numpy arrays and torch tensors are supported for these sets."
   ]
  },
  {
   "cell_type": "code",
   "execution_count": 6,
   "metadata": {
    "execution": {
     "iopub.execute_input": "2024-08-27T06:51:10.852922Z",
     "iopub.status.busy": "2024-08-27T06:51:10.852617Z",
     "iopub.status.idle": "2024-08-27T06:51:10.868421Z",
     "shell.execute_reply": "2024-08-27T06:51:10.867926Z"
    },
    "id": "u0jCnXIcAQy4"
   },
   "outputs": [
    {
     "name": "stdout",
     "output_type": "stream",
     "text": [
      "Part of train seeds for link prediction: [[622 677]\n",
      " [569 590]\n",
      " [149 534]]\n",
      "LP train seeds are saved to ./ondisk_dataset_homograph/lp-train-seeds.npy\n",
      "\n",
      "Part of val seeds for link prediction: [[ 86 323]\n",
      " [406 444]\n",
      " [714 193]]\n",
      "LP val seeds are saved to ./ondisk_dataset_homograph/lp-val-seeds.npy\n",
      "\n",
      "Part of val labels for link prediction: [1. 1. 1.]\n",
      "LP val labels are saved to ./ondisk_dataset_homograph/lp-val-labels.npy\n",
      "\n",
      "Part of val indexes for link prediction: [0 1 2]\n",
      "LP val indexes are saved to ./ondisk_dataset_homograph/lp-val-indexes.npy\n",
      "\n",
      "Part of test seeds for link prediction: [[329 916]\n",
      " [299 308]\n",
      " [ 53 707]]\n",
      "LP test seeds are saved to ./ondisk_dataset_homograph/lp-test-seeds.npy\n",
      "\n",
      "Part of val labels for link prediction: [1. 1. 1.]\n",
      "LP test labels are saved to ./ondisk_dataset_homograph/lp-test-labels.npy\n",
      "\n",
      "Part of test indexes for link prediction: [0 1 2]\n",
      "LP test indexes are saved to ./ondisk_dataset_homograph/lp-test-indexes.npy\n",
      "\n"
     ]
    }
   ],
   "source": [
    "num_trains = int(num_edges * 0.6)\n",
    "num_vals = int(num_edges * 0.2)\n",
    "num_tests = num_edges - num_trains - num_vals\n",
    "\n",
    "lp_train_seeds_path = os.path.join(base_dir, \"lp-train-seeds.npy\")\n",
    "lp_train_seeds = edges[:num_trains, :]\n",
    "print(f\"Part of train seeds for link prediction: {lp_train_seeds[:3]}\")\n",
    "np.save(lp_train_seeds_path, lp_train_seeds)\n",
    "print(f\"LP train seeds are saved to {lp_train_seeds_path}\\n\")\n",
    "\n",
    "lp_val_seeds_path = os.path.join(base_dir, \"lp-val-seeds.npy\")\n",
    "lp_val_seeds = edges[num_trains:num_trains+num_vals, :]\n",
    "lp_val_neg_dsts = np.random.randint(0, num_nodes, (num_vals, 10)).reshape(-1)\n",
    "lp_val_neg_srcs = np.repeat(lp_val_seeds[:,0], 10)\n",
    "lp_val_neg_seeds = np.concatenate((lp_val_neg_srcs, lp_val_neg_dsts)).reshape(2,-1).T\n",
    "lp_val_seeds = np.concatenate((lp_val_seeds, lp_val_neg_seeds))\n",
    "print(f\"Part of val seeds for link prediction: {lp_val_seeds[:3]}\")\n",
    "np.save(lp_val_seeds_path, lp_val_seeds)\n",
    "print(f\"LP val seeds are saved to {lp_val_seeds_path}\\n\")\n",
    "\n",
    "lp_val_labels_path = os.path.join(base_dir, \"lp-val-labels.npy\")\n",
    "lp_val_labels = np.empty(num_vals * (10 + 1))\n",
    "lp_val_labels[:num_vals] = 1\n",
    "lp_val_labels[num_vals:] = 0\n",
    "print(f\"Part of val labels for link prediction: {lp_val_labels[:3]}\")\n",
    "np.save(lp_val_labels_path, lp_val_labels)\n",
    "print(f\"LP val labels are saved to {lp_val_labels_path}\\n\")\n",
    "\n",
    "lp_val_indexes_path = os.path.join(base_dir, \"lp-val-indexes.npy\")\n",
    "lp_val_indexes = np.arange(0, num_vals)\n",
    "lp_val_neg_indexes = np.repeat(lp_val_indexes, 10)\n",
    "lp_val_indexes = np.concatenate([lp_val_indexes, lp_val_neg_indexes])\n",
    "print(f\"Part of val indexes for link prediction: {lp_val_indexes[:3]}\")\n",
    "np.save(lp_val_indexes_path, lp_val_indexes)\n",
    "print(f\"LP val indexes are saved to {lp_val_indexes_path}\\n\")\n",
    "\n",
    "lp_test_seeds_path = os.path.join(base_dir, \"lp-test-seeds.npy\")\n",
    "lp_test_seeds = edges[-num_tests:, :]\n",
    "lp_test_neg_dsts = np.random.randint(0, num_nodes, (num_tests, 10)).reshape(-1)\n",
    "lp_test_neg_srcs = np.repeat(lp_test_seeds[:,0], 10)\n",
    "lp_test_neg_seeds = np.concatenate((lp_test_neg_srcs, lp_test_neg_dsts)).reshape(2,-1).T\n",
    "lp_test_seeds = np.concatenate((lp_test_seeds, lp_test_neg_seeds))\n",
    "print(f\"Part of test seeds for link prediction: {lp_test_seeds[:3]}\")\n",
    "np.save(lp_test_seeds_path, lp_test_seeds)\n",
    "print(f\"LP test seeds are saved to {lp_test_seeds_path}\\n\")\n",
    "\n",
    "lp_test_labels_path = os.path.join(base_dir, \"lp-test-labels.npy\")\n",
    "lp_test_labels = np.empty(num_tests * (10 + 1))\n",
    "lp_test_labels[:num_tests] = 1\n",
    "lp_test_labels[num_tests:] = 0\n",
    "print(f\"Part of val labels for link prediction: {lp_test_labels[:3]}\")\n",
    "np.save(lp_test_labels_path, lp_test_labels)\n",
    "print(f\"LP test labels are saved to {lp_test_labels_path}\\n\")\n",
    "\n",
    "lp_test_indexes_path = os.path.join(base_dir, \"lp-test-indexes.npy\")\n",
    "lp_test_indexes = np.arange(0, num_tests)\n",
    "lp_test_neg_indexes = np.repeat(lp_test_indexes, 10)\n",
    "lp_test_indexes = np.concatenate([lp_test_indexes, lp_test_neg_indexes])\n",
    "print(f\"Part of test indexes for link prediction: {lp_test_indexes[:3]}\")\n",
    "np.save(lp_test_indexes_path, lp_test_indexes)\n",
    "print(f\"LP test indexes are saved to {lp_test_indexes_path}\\n\")"
   ]
  },
  {
   "cell_type": "markdown",
   "metadata": {
    "id": "wbk6-wxRK-6S"
   },
   "source": [
    "## Organize Data into YAML File\n",
    "Now we need to create a `metadata.yaml` file which contains the paths, dadta types of graph structure, feature data, training/validation/test sets.\n",
    "\n",
    "Notes:\n",
    "- all path should be relative to `metadata.yaml`.\n",
    "- Below fields are optional and not specified in below example.\n",
    "  - `in_memory`: indicates whether to load dada into memory or `mmap`. Default is `True`.\n",
    "\n",
    "Please refer to [YAML specification](https://github.com/dmlc/dgl/blob/master/docs/source/stochastic_training/ondisk-dataset-specification.rst) for more details."
   ]
  },
  {
   "cell_type": "code",
   "execution_count": 7,
   "metadata": {
    "execution": {
     "iopub.execute_input": "2024-08-27T06:51:10.870603Z",
     "iopub.status.busy": "2024-08-27T06:51:10.870406Z",
     "iopub.status.idle": "2024-08-27T06:51:10.875345Z",
     "shell.execute_reply": "2024-08-27T06:51:10.874865Z"
    },
    "id": "ddGTWW61Lpwp"
   },
   "outputs": [],
   "source": [
    "yaml_content = f\"\"\"\n",
    "    dataset_name: homogeneous_graph_nc_lp\n",
    "    graph:\n",
    "      nodes:\n",
    "        - num: {num_nodes}\n",
    "      edges:\n",
    "        - format: csv\n",
    "          path: {os.path.basename(edges_path)}\n",
    "    feature_data:\n",
    "      - domain: node\n",
    "        name: feat_0\n",
    "        format: numpy\n",
    "        path: {os.path.basename(node_feat_0_path)}\n",
    "      - domain: node\n",
    "        name: feat_1\n",
    "        format: torch\n",
    "        path: {os.path.basename(node_feat_1_path)}\n",
    "      - domain: edge\n",
    "        name: feat_0\n",
    "        format: numpy\n",
    "        path: {os.path.basename(edge_feat_0_path)}\n",
    "      - domain: edge\n",
    "        name: feat_1\n",
    "        format: torch\n",
    "        path: {os.path.basename(edge_feat_1_path)}\n",
    "    tasks:\n",
    "      - name: node_classification\n",
    "        num_classes: 10\n",
    "        train_set:\n",
    "          - data:\n",
    "              - name: seeds\n",
    "                format: numpy\n",
    "                path: {os.path.basename(nc_train_ids_path)}\n",
    "              - name: labels\n",
    "                format: torch\n",
    "                path: {os.path.basename(nc_train_labels_path)}\n",
    "        validation_set:\n",
    "          - data:\n",
    "              - name: seeds\n",
    "                format: numpy\n",
    "                path: {os.path.basename(nc_val_ids_path)}\n",
    "              - name: labels\n",
    "                format: torch\n",
    "                path: {os.path.basename(nc_val_labels_path)}\n",
    "        test_set:\n",
    "          - data:\n",
    "              - name: seeds\n",
    "                format: numpy\n",
    "                path: {os.path.basename(nc_test_ids_path)}\n",
    "              - name: labels\n",
    "                format: torch\n",
    "                path: {os.path.basename(nc_test_labels_path)}\n",
    "      - name: link_prediction\n",
    "        num_classes: 10\n",
    "        train_set:\n",
    "          - data:\n",
    "              - name: seeds\n",
    "                format: numpy\n",
    "                path: {os.path.basename(lp_train_seeds_path)}\n",
    "        validation_set:\n",
    "          - data:\n",
    "              - name: seeds\n",
    "                format: numpy\n",
    "                path: {os.path.basename(lp_val_seeds_path)}\n",
    "              - name: labels\n",
    "                format: numpy\n",
    "                path: {os.path.basename(lp_val_labels_path)}\n",
    "              - name: indexes\n",
    "                format: numpy\n",
    "                path: {os.path.basename(lp_val_indexes_path)}\n",
    "        test_set:\n",
    "          - data:\n",
    "              - name: seeds\n",
    "                format: numpy\n",
    "                path: {os.path.basename(lp_test_seeds_path)}\n",
    "              - name: labels\n",
    "                format: numpy\n",
    "                path: {os.path.basename(lp_test_labels_path)}\n",
    "              - name: indexes\n",
    "                format: numpy\n",
    "                path: {os.path.basename(lp_test_indexes_path)}\n",
    "\"\"\"\n",
    "metadata_path = os.path.join(base_dir, \"metadata.yaml\")\n",
    "with open(metadata_path, \"w\") as f:\n",
    "  f.write(yaml_content)"
   ]
  },
  {
   "cell_type": "markdown",
   "metadata": {
    "id": "kEfybHGhOW7O"
   },
   "source": [
    "## Instantiate `OnDiskDataset`\n",
    "Now we're ready to load dataset via `dgl.graphbolt.OnDiskDataset`. When instantiating, we just pass in the base directory where `metadata.yaml` file lies.\n",
    "\n",
    "During first instantiation, GraphBolt preprocesses the raw data such as constructing `FusedCSCSamplingGraph` from edges. All data including graph, feature data, training/validation/test sets are put into `preprocessed` directory after preprocessing. Any following dataset loading will skip the preprocess stage.\n",
    "\n",
    "After preprocessing, `load()` is required to be called explicitly in order to load graph, feature data and tasks."
   ]
  },
  {
   "cell_type": "code",
   "execution_count": 8,
   "metadata": {
    "execution": {
     "iopub.execute_input": "2024-08-27T06:51:10.877484Z",
     "iopub.status.busy": "2024-08-27T06:51:10.877187Z",
     "iopub.status.idle": "2024-08-27T06:51:10.960313Z",
     "shell.execute_reply": "2024-08-27T06:51:10.959737Z"
    },
    "id": "W58CZoSzOiyo"
   },
   "outputs": [
    {
     "name": "stdout",
     "output_type": "stream",
     "text": [
      "The on-disk dataset is re-preprocessing, so the existing preprocessed dataset has been removed.\n",
      "Start to preprocess the on-disk dataset.\n",
      "Finish preprocessing the on-disk dataset.\n",
      "Loaded graph: FusedCSCSamplingGraph(csc_indptr=tensor([    0,    13,    29,  ...,  9976,  9988, 10000], dtype=torch.int32),\n",
      "                      indices=tensor([283, 579, 299,  ..., 213, 928, 595], dtype=torch.int32),\n",
      "                      total_num_nodes=1000, num_edges=10000,)\n",
      "\n",
      "Loaded feature store: TorchBasedFeatureStore(\n",
      "    {(<OnDiskFeatureDataDomain.NODE: 'node'>, None, 'feat_0'): TorchBasedFeature(\n",
      "        feature=tensor([[0.2000, 0.2364, 0.8635, 0.4620, 0.9103],\n",
      "                        [0.2655, 0.8801, 0.3609, 0.6536, 0.2001],\n",
      "                        [0.3850, 0.7389, 0.9281, 0.3196, 0.6249],\n",
      "                        ...,\n",
      "                        [0.1758, 0.7679, 0.7406, 0.2395, 0.4123],\n",
      "                        [0.5639, 0.9853, 0.5600, 0.4182, 0.6999],\n",
      "                        [0.5580, 0.1702, 0.4288, 0.5103, 0.7326]], dtype=torch.float64),\n",
      "        metadata={},\n",
      "    ), (<OnDiskFeatureDataDomain.NODE: 'node'>, None, 'feat_1'): TorchBasedFeature(\n",
      "        feature=tensor([[0.4767, 0.4720, 0.4888, 0.8005, 0.1208],\n",
      "                        [0.7453, 0.5562, 0.4185, 0.0012, 0.1264],\n",
      "                        [0.7874, 0.1838, 0.4667, 0.5222, 0.2495],\n",
      "                        ...,\n",
      "                        [0.5541, 0.6692, 0.3536, 0.6288, 0.7226],\n",
      "                        [0.2205, 0.1362, 0.7013, 0.7693, 0.1416],\n",
      "                        [0.2992, 0.8578, 0.7647, 0.7805, 0.1945]]),\n",
      "        metadata={},\n",
      "    ), (<OnDiskFeatureDataDomain.EDGE: 'edge'>, None, 'feat_0'): TorchBasedFeature(\n",
      "        feature=tensor([[0.6793, 0.6090, 0.0310, 0.3588, 0.2328],\n",
      "                        [0.4651, 0.3686, 0.1956, 0.7966, 0.1172],\n",
      "                        [0.4930, 0.1596, 0.4829, 0.4154, 0.7258],\n",
      "                        ...,\n",
      "                        [0.2353, 0.5230, 0.7150, 0.9060, 0.3578],\n",
      "                        [0.0596, 0.2532, 0.2378, 0.4975, 0.7400],\n",
      "                        [0.7038, 0.6203, 0.6922, 0.3590, 0.0061]], dtype=torch.float64),\n",
      "        metadata={},\n",
      "    ), (<OnDiskFeatureDataDomain.EDGE: 'edge'>, None, 'feat_1'): TorchBasedFeature(\n",
      "        feature=tensor([[0.2508, 0.4816, 0.4591, 0.5615, 0.8194],\n",
      "                        [0.6591, 0.8069, 0.1310, 0.3034, 0.6831],\n",
      "                        [0.3141, 0.4396, 0.0375, 0.1423, 0.3166],\n",
      "                        ...,\n",
      "                        [0.9699, 0.1690, 0.6021, 0.7088, 0.7944],\n",
      "                        [0.0392, 0.7912, 0.3210, 0.7430, 0.7867],\n",
      "                        [0.9859, 0.8697, 0.3408, 0.4912, 0.4098]]),\n",
      "        metadata={},\n",
      "    )}\n",
      ")\n",
      "\n",
      "Loaded node classification task: OnDiskTask(validation_set=ItemSet(\n",
      "               items=(tensor([949, 690, 390, 625, 761, 358, 397, 825, 583, 623, 710, 106, 432, 430,\n",
      "                   876, 878, 613, 233, 946, 134,  11, 461, 823, 967, 170, 565,  37, 115,\n",
      "                   292, 472, 598, 941, 974, 188, 615, 460, 441, 859, 733, 509, 227, 963,\n",
      "                   469, 260, 492, 527, 630, 337, 654, 248, 513, 804, 718, 907, 812, 262,\n",
      "                   827, 100, 273, 900,  31,  67, 147,  76, 288, 673, 378,  25, 242, 705,\n",
      "                    88, 280, 517, 437, 923, 215, 577, 152, 157, 105, 491, 452, 368, 243,\n",
      "                   519,  44, 427, 403, 180, 902,   0, 252, 597, 111, 204, 770, 154, 987,\n",
      "                   888, 727, 470, 961, 833, 156, 756, 479, 129,  21, 656, 738,  17,   7,\n",
      "                   108, 927, 548, 794, 713, 819, 688, 128, 700, 579,  56, 538, 653, 928,\n",
      "                   866, 557, 546, 357,   4, 769, 425, 778, 931, 150, 172, 916, 220, 643,\n",
      "                    81, 881, 864, 481,  91, 732, 443, 686, 786, 476, 398,  15, 697, 920,\n",
      "                   879, 251, 417,  86,  52, 537, 814, 633, 195, 148, 339, 836, 581, 474,\n",
      "                   674, 496, 860, 315, 259, 971, 444, 646, 767, 160, 953,  58, 937, 325,\n",
      "                   319, 117, 726, 103, 290,  27, 318, 680, 379, 234, 575, 231, 240,  68,\n",
      "                   250, 477, 276, 667], dtype=torch.int32), tensor([6, 0, 6, 2, 0, 1, 2, 6, 5, 5, 4, 3, 5, 5, 8, 2, 6, 6, 6, 6, 0, 7, 4, 0,\n",
      "                   4, 9, 5, 6, 3, 9, 2, 5, 5, 4, 4, 6, 3, 9, 5, 3, 2, 1, 0, 2, 4, 4, 3, 9,\n",
      "                   2, 5, 6, 9, 8, 2, 0, 4, 6, 6, 7, 9, 1, 1, 9, 6, 2, 1, 1, 6, 6, 6, 4, 5,\n",
      "                   3, 2, 9, 1, 5, 6, 8, 6, 0, 3, 1, 6, 9, 3, 7, 3, 4, 4, 9, 6, 5, 6, 6, 3,\n",
      "                   7, 8, 1, 4, 2, 9, 0, 3, 8, 6, 8, 9, 7, 2, 0, 0, 6, 5, 7, 2, 1, 2, 1, 0,\n",
      "                   7, 1, 1, 1, 7, 6, 8, 3, 8, 4, 9, 7, 3, 8, 3, 7, 3, 6, 8, 7, 1, 8, 0, 4,\n",
      "                   4, 1, 3, 4, 6, 8, 5, 5, 3, 6, 3, 8, 1, 6, 1, 1, 3, 4, 2, 4, 0, 6, 7, 8,\n",
      "                   2, 2, 2, 2, 1, 8, 0, 6, 5, 4, 3, 1, 3, 6, 3, 9, 0, 7, 5, 6, 8, 4, 9, 8,\n",
      "                   6, 1, 5, 7, 0, 4, 7, 7])),\n",
      "               names=('seeds', 'labels'),\n",
      "           ),\n",
      "           train_set=ItemSet(\n",
      "               items=(tensor([173, 488, 351, 174, 545, 924, 159, 313, 606, 991,  73, 723, 278, 962,\n",
      "                   448, 198, 185, 758, 410,  36, 975,  35, 593,   8, 377, 225, 347, 137,\n",
      "                    80, 384, 529, 901, 747, 988, 863, 935, 161, 263, 979, 431, 984, 707,\n",
      "                   760, 453, 423, 194, 187, 127, 123, 919,  83, 418, 353, 490, 286, 360,\n",
      "                   627, 158,  99, 394, 981, 269, 144, 903, 202, 683, 300, 883, 716,  33,\n",
      "                   411, 570, 189, 521, 689, 687, 181, 968, 426, 930, 442, 327, 573, 717,\n",
      "                   582, 589, 610, 208, 657, 751, 602, 709, 880, 891, 813, 912, 802, 177,\n",
      "                   904, 355, 948,  19,  93, 952, 422, 956, 382, 230, 934, 681, 265, 740,\n",
      "                   626, 605, 722, 973,  34, 806, 651, 487, 143, 316, 392, 711, 340, 222,\n",
      "                   779, 549, 668, 201, 996, 944, 829, 741, 846, 926, 238, 746, 784, 887,\n",
      "                   104, 255,  47,  59, 510, 764, 526, 894, 507, 663, 523, 594, 664, 831,\n",
      "                   622, 995, 402, 871, 609, 797, 287, 743, 389, 936, 331, 334, 662, 791,\n",
      "                   994, 199,   3, 972, 210, 539, 282, 724, 463,  26, 236, 990, 785, 611,\n",
      "                   672, 294, 635,  75, 524, 911, 501, 742,  54, 396, 480, 383, 435, 303,\n",
      "                   374, 118, 434, 184, 409, 692, 706, 771,  89, 584, 886, 571, 511, 221,\n",
      "                   483, 684, 119, 101,  12,  85, 675, 572, 712, 132, 800, 815, 179, 787,\n",
      "                   910, 217,  66, 877,  46, 205, 363, 619, 284, 372, 560, 168, 336, 445,\n",
      "                   921, 854, 567, 725, 131, 268, 809, 670, 618, 986, 792, 399,  38, 917,\n",
      "                   124, 801, 964,  82, 855, 361, 206, 518, 896, 648, 283, 590, 856, 982,\n",
      "                   311, 516, 844, 551, 660, 599, 639, 561, 834, 122, 193, 530, 980, 632,\n",
      "                   415, 166, 309, 890, 757, 640, 534, 457, 762,   9, 216, 245, 774, 562,\n",
      "                   766, 322, 867, 620, 293, 493, 601, 258, 821, 731, 678, 588, 693, 279,\n",
      "                   388, 702, 780,  70, 699, 993, 612, 744, 892, 416,  39, 178, 419, 966,\n",
      "                   162, 400, 454, 671, 932,  18, 109, 329, 380, 312, 942,   6, 346, 332,\n",
      "                   679, 832, 978, 224, 239, 553, 421, 203, 696, 297, 186, 943, 275, 563,\n",
      "                    40, 556, 882, 645,  14, 728, 433, 677, 574, 682, 326,  22, 306,  64,\n",
      "                   666, 330, 965, 126, 763, 370, 820, 295, 289,   1, 299, 789, 301, 175,\n",
      "                   440,  84,  61, 169, 918, 151, 228, 254, 636, 754, 951, 734,  77, 171,\n",
      "                   641, 455, 830, 895, 811, 558,  60, 413, 359, 387, 498, 458, 350, 381,\n",
      "                   847, 499, 365, 704, 408, 816, 296, 772, 999, 807, 249, 121, 344, 412,\n",
      "                   837, 209, 270, 465, 543, 898, 271, 730, 446, 338, 843, 450, 750, 274,\n",
      "                   125, 857,  65, 655, 214,  90, 439, 808,  98, 512, 752, 715, 644, 872,\n",
      "                   190, 438, 669, 959, 603,  24, 913,  20, 163, 149, 803, 291,  48, 475,\n",
      "                   634, 719, 484, 793, 955, 861, 566, 914, 822, 580, 341, 862, 997, 504,\n",
      "                   182,  29, 798,  42, 241, 424, 541, 852, 908, 735,  74, 658, 840, 708,\n",
      "                    50, 369, 456, 826, 371, 200,  43, 393, 364, 824,  55, 235, 212, 264,\n",
      "                    72, 429, 376, 659, 503, 317, 343, 775, 624, 721, 783, 676, 552, 167,\n",
      "                   478, 841, 555, 298, 591, 650, 839, 335,  53, 218,   5, 531, 540, 386,\n",
      "                   796, 989, 352, 489, 616, 528, 870, 694, 211,  16, 781, 207, 246, 544,\n",
      "                   404, 468, 135, 586, 642, 665, 324, 110,  71, 307, 906, 391, 497, 471,\n",
      "                   559, 281, 514, 858,  97, 637, 486, 522, 213, 929, 155, 607, 197, 992,\n",
      "                   638, 449, 698, 473, 165, 139, 244, 520, 277, 755, 851, 285, 328, 459,\n",
      "                   628, 356, 631, 925, 585, 954, 141, 554, 196, 447, 569,  13],\n",
      "                  dtype=torch.int32), tensor([4, 8, 8, 7, 5, 6, 2, 0, 4, 2, 3, 4, 7, 2, 4, 9, 9, 2, 1, 5, 0, 0, 9, 5,\n",
      "                   2, 5, 8, 7, 4, 5, 4, 8, 3, 6, 0, 0, 0, 6, 5, 9, 3, 4, 4, 2, 4, 5, 8, 3,\n",
      "                   1, 7, 3, 6, 8, 9, 2, 0, 9, 4, 6, 0, 1, 9, 7, 4, 2, 2, 0, 1, 4, 8, 5, 1,\n",
      "                   0, 3, 1, 1, 3, 5, 8, 8, 7, 3, 6, 0, 9, 3, 1, 9, 6, 9, 3, 4, 9, 8, 1, 6,\n",
      "                   2, 0, 6, 6, 1, 1, 2, 3, 3, 1, 8, 5, 9, 4, 6, 0, 7, 9, 7, 5, 9, 8, 8, 0,\n",
      "                   4, 4, 0, 1, 4, 2, 7, 6, 0, 7, 5, 5, 2, 2, 5, 2, 5, 7, 1, 2, 2, 2, 3, 3,\n",
      "                   5, 9, 1, 0, 8, 1, 8, 3, 0, 5, 7, 8, 7, 6, 1, 0, 2, 6, 0, 8, 9, 8, 3, 3,\n",
      "                   1, 7, 8, 5, 3, 5, 7, 9, 4, 4, 1, 5, 4, 5, 7, 0, 5, 1, 2, 0, 8, 3, 0, 6,\n",
      "                   4, 3, 4, 2, 7, 3, 0, 2, 5, 5, 5, 3, 6, 1, 1, 3, 2, 3, 0, 6, 9, 6, 0, 5,\n",
      "                   1, 9, 2, 0, 5, 8, 3, 0, 6, 5, 8, 2, 9, 6, 3, 2, 0, 2, 8, 0, 5, 1, 4, 7,\n",
      "                   2, 3, 9, 7, 2, 0, 4, 0, 8, 7, 0, 0, 3, 5, 3, 8, 0, 3, 0, 6, 7, 5, 5, 4,\n",
      "                   1, 5, 2, 0, 0, 2, 7, 6, 0, 0, 5, 0, 7, 3, 8, 3, 4, 0, 6, 9, 0, 2, 6, 3,\n",
      "                   3, 0, 1, 8, 4, 1, 3, 6, 0, 1, 1, 8, 2, 9, 6, 8, 3, 8, 1, 2, 6, 5, 6, 5,\n",
      "                   8, 2, 2, 9, 2, 1, 4, 2, 3, 0, 3, 0, 6, 2, 4, 3, 2, 3, 8, 7, 3, 4, 2, 2,\n",
      "                   2, 4, 3, 1, 0, 9, 7, 4, 6, 7, 5, 4, 7, 6, 1, 9, 7, 5, 1, 7, 9, 8, 1, 0,\n",
      "                   6, 7, 8, 0, 9, 4, 9, 2, 1, 8, 9, 6, 7, 2, 4, 0, 6, 2, 1, 2, 7, 0, 0, 4,\n",
      "                   1, 7, 2, 2, 2, 1, 8, 1, 0, 1, 1, 3, 2, 7, 8, 4, 6, 2, 6, 2, 6, 0, 1, 0,\n",
      "                   6, 1, 2, 8, 5, 3, 6, 5, 0, 5, 7, 6, 0, 0, 2, 0, 0, 6, 6, 6, 5, 4, 9, 8,\n",
      "                   4, 4, 6, 2, 3, 2, 7, 0, 1, 6, 4, 0, 1, 1, 2, 4, 9, 6, 0, 0, 3, 2, 5, 0,\n",
      "                   7, 2, 5, 2, 1, 7, 6, 7, 9, 6, 8, 1, 7, 2, 1, 3, 6, 6, 8, 4, 9, 0, 5, 6,\n",
      "                   1, 4, 9, 4, 9, 7, 3, 2, 2, 8, 2, 2, 3, 7, 3, 2, 0, 6, 5, 1, 7, 3, 0, 5,\n",
      "                   4, 1, 5, 1, 0, 5, 3, 5, 4, 8, 7, 9, 0, 6, 4, 7, 5, 9, 3, 2, 8, 8, 5, 3,\n",
      "                   2, 4, 9, 1, 8, 4, 4, 9, 0, 5, 6, 2, 5, 8, 6, 7, 2, 5, 8, 8, 2, 9, 3, 2,\n",
      "                   0, 7, 7, 5, 4, 3, 7, 0, 3, 5, 0, 0, 4, 9, 7, 0, 9, 7, 6, 2, 8, 9, 3, 3,\n",
      "                   9, 6, 9, 8, 0, 3, 2, 3, 8, 5, 5, 9, 6, 2, 4, 5, 7, 1, 8, 2, 3, 8, 0, 9])),\n",
      "               names=('seeds', 'labels'),\n",
      "           ),\n",
      "           test_set=ItemSet(\n",
      "               items=(tensor([976, 629, 950, 947, 395, 969, 592, 500, 308, 112, 691, 542, 130,  78,\n",
      "                   909, 745, 349, 835, 508, 893, 729, 818, 253, 889,  45, 323, 652, 838,\n",
      "                   998, 933, 191, 145, 272,  95, 138, 817, 219, 102, 116,  49, 720, 695,\n",
      "                   192, 223, 506, 146, 608, 701, 805, 617,  51, 183, 310, 875, 494, 261,\n",
      "                   885, 451, 759, 828, 596, 229, 848,  57, 467, 366, 865, 568, 777, 462,\n",
      "                   736, 788, 302, 348, 436, 621, 960, 367, 850, 226, 247, 595, 753, 649,\n",
      "                   773, 790,  92, 685, 703,  79, 176, 985, 505, 845, 267, 120, 256, 533,\n",
      "                    41, 140, 915, 873, 958, 407, 874,  94, 237,  62, 604, 768, 849, 940,\n",
      "                   748, 345, 466, 342,  63,  28, 153, 739, 957,  30, 899, 464,  23, 502,\n",
      "                   765, 884, 938, 535, 799, 133, 587,  87, 321, 661, 853, 782, 305, 737,\n",
      "                   869,  69, 977, 114, 232, 897,  32, 266, 420,  10, 842, 614, 304, 354,\n",
      "                   550, 922, 107, 776, 576, 136,   2, 945, 905, 257, 164, 428, 578, 405,\n",
      "                   401, 868, 495,  96, 314, 525, 600, 714, 385, 749, 406, 113, 373, 536,\n",
      "                   810, 414, 375, 142, 647, 970, 795, 564, 485, 362, 532, 320, 983, 482,\n",
      "                   547, 515, 939, 333], dtype=torch.int32), tensor([8, 8, 4, 4, 5, 7, 6, 8, 1, 4, 8, 1, 6, 0, 3, 1, 3, 2, 6, 7, 0, 6, 7, 2,\n",
      "                   7, 2, 3, 9, 6, 6, 4, 1, 9, 8, 4, 6, 4, 9, 0, 1, 7, 6, 8, 5, 9, 8, 3, 5,\n",
      "                   4, 2, 5, 9, 1, 3, 7, 6, 8, 8, 9, 1, 4, 9, 3, 7, 8, 3, 5, 7, 1, 4, 6, 1,\n",
      "                   5, 3, 7, 5, 6, 3, 8, 2, 0, 6, 1, 3, 9, 9, 8, 6, 6, 0, 2, 0, 6, 2, 9, 2,\n",
      "                   8, 5, 7, 2, 6, 8, 3, 1, 2, 3, 9, 3, 0, 5, 1, 4, 0, 8, 6, 6, 9, 7, 2, 4,\n",
      "                   3, 1, 6, 9, 1, 0, 0, 7, 9, 7, 1, 3, 3, 0, 4, 7, 5, 5, 1, 0, 8, 0, 6, 9,\n",
      "                   4, 9, 5, 4, 1, 9, 3, 3, 1, 7, 2, 9, 8, 2, 8, 7, 0, 4, 1, 1, 0, 4, 5, 3,\n",
      "                   8, 3, 6, 1, 8, 1, 0, 9, 8, 8, 8, 3, 6, 3, 3, 7, 1, 9, 2, 0, 8, 6, 2, 9,\n",
      "                   9, 5, 3, 8, 5, 1, 3, 3])),\n",
      "               names=('seeds', 'labels'),\n",
      "           ),\n",
      "           metadata={'name': 'node_classification', 'num_classes': 10},)\n",
      "\n",
      "Loaded link prediction task: OnDiskTask(validation_set=ItemSet(\n",
      "               items=(tensor([[ 86, 323],\n",
      "                   [406, 444],\n",
      "                   [714, 193],\n",
      "                   ...,\n",
      "                   [432, 822],\n",
      "                   [432, 119],\n",
      "                   [432, 218]], dtype=torch.int32), tensor([1., 1., 1.,  ..., 0., 0., 0.], dtype=torch.float64), tensor([   0,    1,    2,  ..., 1999, 1999, 1999])),\n",
      "               names=('seeds', 'labels', 'indexes'),\n",
      "           ),\n",
      "           train_set=ItemSet(\n",
      "               items=(tensor([[622, 677],\n",
      "                   [569, 590],\n",
      "                   [149, 534],\n",
      "                   ...,\n",
      "                   [548, 125],\n",
      "                   [448, 896],\n",
      "                   [418, 473]], dtype=torch.int32),),\n",
      "               names=('seeds',),\n",
      "           ),\n",
      "           test_set=ItemSet(\n",
      "               items=(tensor([[329, 916],\n",
      "                   [299, 308],\n",
      "                   [ 53, 707],\n",
      "                   ...,\n",
      "                   [795, 523],\n",
      "                   [795, 454],\n",
      "                   [795, 921]], dtype=torch.int32), tensor([1., 1., 1.,  ..., 0., 0., 0.], dtype=torch.float64), tensor([   0,    1,    2,  ..., 1999, 1999, 1999])),\n",
      "               names=('seeds', 'labels', 'indexes'),\n",
      "           ),\n",
      "           metadata={'name': 'link_prediction', 'num_classes': 10},)\n",
      "\n"
     ]
    },
    {
     "name": "stderr",
     "output_type": "stream",
     "text": [
      "/home/ubuntu/regression_test/dgl/python/dgl/graphbolt/internal/utils.py:16: FutureWarning: You are using `torch.load` with `weights_only=False` (the current default value), which uses the default pickle module implicitly. It is possible to construct malicious pickle data which will execute arbitrary code during unpickling (See https://github.com/pytorch/pytorch/blob/main/SECURITY.md#untrusted-models for more details). In a future release, the default value for `weights_only` will be flipped to `True`. This limits the functions that could be executed during unpickling. Arbitrary objects will no longer be allowed to be loaded via this mode unless they are explicitly allowlisted by the user via `torch.serialization.add_safe_globals`. We recommend you start setting `weights_only=True` for any use case where you don't have full control of the loaded file. Please open an issue on GitHub for any issues related to this experimental feature.\n",
      "  return torch.load(path)\n",
      "/home/ubuntu/regression_test/dgl/python/dgl/graphbolt/impl/ondisk_dataset.py:460: DGLWarning: Edge feature is stored, but edge IDs are not saved.\n",
      "  dgl_warning(\"Edge feature is stored, but edge IDs are not saved.\")\n",
      "/home/ubuntu/regression_test/dgl/python/dgl/graphbolt/impl/ondisk_dataset.py:852: FutureWarning: You are using `torch.load` with `weights_only=False` (the current default value), which uses the default pickle module implicitly. It is possible to construct malicious pickle data which will execute arbitrary code during unpickling (See https://github.com/pytorch/pytorch/blob/main/SECURITY.md#untrusted-models for more details). In a future release, the default value for `weights_only` will be flipped to `True`. This limits the functions that could be executed during unpickling. Arbitrary objects will no longer be allowed to be loaded via this mode unless they are explicitly allowlisted by the user via `torch.serialization.add_safe_globals`. We recommend you start setting `weights_only=True` for any use case where you don't have full control of the loaded file. Please open an issue on GitHub for any issues related to this experimental feature.\n",
      "  return torch.load(graph_topology.path)\n"
     ]
    }
   ],
   "source": [
    "dataset = gb.OnDiskDataset(base_dir).load()\n",
    "graph = dataset.graph\n",
    "print(f\"Loaded graph: {graph}\\n\")\n",
    "\n",
    "feature = dataset.feature\n",
    "print(f\"Loaded feature store: {feature}\\n\")\n",
    "\n",
    "tasks = dataset.tasks\n",
    "nc_task = tasks[0]\n",
    "print(f\"Loaded node classification task: {nc_task}\\n\")\n",
    "lp_task = tasks[1]\n",
    "print(f\"Loaded link prediction task: {lp_task}\\n\")"
   ]
  }
 ],
 "metadata": {
  "colab": {
   "private_outputs": true,
   "provenance": []
  },
  "kernelspec": {
   "display_name": "Python 3",
   "name": "python3"
  },
  "language_info": {
   "codemirror_mode": {
    "name": "ipython",
    "version": 3
   },
   "file_extension": ".py",
   "mimetype": "text/x-python",
   "name": "python",
   "nbconvert_exporter": "python",
   "pygments_lexer": "ipython3",
   "version": "3.10.14"
  }
 },
 "nbformat": 4,
 "nbformat_minor": 0
}

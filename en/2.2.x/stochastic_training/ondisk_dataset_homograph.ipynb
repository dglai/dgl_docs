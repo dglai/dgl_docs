{
 "cells": [
  {
   "cell_type": "markdown",
   "metadata": {
    "id": "FnFhPMaAfLtJ"
   },
   "source": [
    "# OnDiskDataset for Homogeneous Graph\n",
    "\n",
    "[![Open In Colab](https://colab.research.google.com/assets/colab-badge.svg)](https://colab.research.google.com/github/dmlc/dgl/blob/master/notebooks/stochastic_training/ondisk_dataset_homograph.ipynb) [![GitHub](https://img.shields.io/badge/-View%20on%20GitHub-181717?logo=github&logoColor=ffffff)](https://github.com/dmlc/dgl/blob/master/notebooks/stochastic_training/ondisk_dataset_homograph.ipynb)\n",
    "\n",
    "This tutorial shows how to create `OnDiskDataset` for homogeneous graph that could be used in **GraphBolt** framework.\n",
    "\n",
    "By the end of this tutorial, you will be able to\n",
    "\n",
    "- organize graph structure data.\n",
    "- organize feature data.\n",
    "- organize training/validation/test set for specific tasks.\n",
    "\n",
    "To create an ``OnDiskDataset`` object, you need to organize all the data including graph structure, feature data and tasks into a directory. The directory should contain a ``metadata.yaml`` file that describes the metadata of the dataset.\n",
    "\n",
    "Now let's generate various data step by step and organize them together to instantiate `OnDiskDataset` finally."
   ]
  },
  {
   "cell_type": "markdown",
   "metadata": {
    "id": "Wlb19DtWgtzq"
   },
   "source": [
    "## Install DGL package"
   ]
  },
  {
   "cell_type": "code",
   "execution_count": 1,
   "metadata": {
    "execution": {
     "iopub.execute_input": "2024-08-27T06:47:39.157910Z",
     "iopub.status.busy": "2024-08-27T06:47:39.157646Z",
     "iopub.status.idle": "2024-08-27T06:47:42.914518Z",
     "shell.execute_reply": "2024-08-27T06:47:42.913804Z"
    },
    "id": "UojlT9ZGgyr9"
   },
   "outputs": [
    {
     "name": "stdout",
     "output_type": "stream",
     "text": [
      "Looking in links: https://data.dgl.ai/wheels-test/repo.html\r\n",
      "Requirement already satisfied: dgl in /opt/conda/envs/dgl-dev-cpu/lib/python3.10/site-packages (2.2a240410)\r\n",
      "Requirement already satisfied: numpy>=1.14.0 in /opt/conda/envs/dgl-dev-cpu/lib/python3.10/site-packages (from dgl) (1.26.4)\r\n",
      "Requirement already satisfied: scipy>=1.1.0 in /opt/conda/envs/dgl-dev-cpu/lib/python3.10/site-packages (from dgl) (1.14.0)\r\n",
      "Requirement already satisfied: networkx>=2.1 in /opt/conda/envs/dgl-dev-cpu/lib/python3.10/site-packages (from dgl) (3.3)\r\n",
      "Requirement already satisfied: requests>=2.19.0 in /opt/conda/envs/dgl-dev-cpu/lib/python3.10/site-packages (from dgl) (2.32.3)\r\n",
      "Requirement already satisfied: tqdm in /opt/conda/envs/dgl-dev-cpu/lib/python3.10/site-packages (from dgl) (4.66.5)\r\n",
      "Requirement already satisfied: psutil>=5.8.0 in /opt/conda/envs/dgl-dev-cpu/lib/python3.10/site-packages (from dgl) (6.0.0)\r\n",
      "Requirement already satisfied: torchdata>=0.5.0 in /opt/conda/envs/dgl-dev-cpu/lib/python3.10/site-packages (from dgl) (0.7.1)\r\n",
      "Requirement already satisfied: pandas in /opt/conda/envs/dgl-dev-cpu/lib/python3.10/site-packages (from dgl) (2.2.2)\r\n"
     ]
    },
    {
     "name": "stdout",
     "output_type": "stream",
     "text": [
      "Requirement already satisfied: charset-normalizer<4,>=2 in /opt/conda/envs/dgl-dev-cpu/lib/python3.10/site-packages (from requests>=2.19.0->dgl) (3.3.2)\r\n",
      "Requirement already satisfied: idna<4,>=2.5 in /opt/conda/envs/dgl-dev-cpu/lib/python3.10/site-packages (from requests>=2.19.0->dgl) (3.8)\r\n",
      "Requirement already satisfied: urllib3<3,>=1.21.1 in /opt/conda/envs/dgl-dev-cpu/lib/python3.10/site-packages (from requests>=2.19.0->dgl) (2.2.2)\r\n",
      "Requirement already satisfied: certifi>=2017.4.17 in /opt/conda/envs/dgl-dev-cpu/lib/python3.10/site-packages (from requests>=2.19.0->dgl) (2024.7.4)\r\n",
      "Requirement already satisfied: torch>=2 in /opt/conda/envs/dgl-dev-cpu/lib/python3.10/site-packages (from torchdata>=0.5.0->dgl) (2.4.0+cpu)\r\n"
     ]
    },
    {
     "name": "stdout",
     "output_type": "stream",
     "text": [
      "Requirement already satisfied: python-dateutil>=2.8.2 in /opt/conda/envs/dgl-dev-cpu/lib/python3.10/site-packages (from pandas->dgl) (2.9.0.post0)\r\n",
      "Requirement already satisfied: pytz>=2020.1 in /opt/conda/envs/dgl-dev-cpu/lib/python3.10/site-packages (from pandas->dgl) (2024.1)\r\n",
      "Requirement already satisfied: tzdata>=2022.7 in /opt/conda/envs/dgl-dev-cpu/lib/python3.10/site-packages (from pandas->dgl) (2024.1)\r\n",
      "Requirement already satisfied: six>=1.5 in /opt/conda/envs/dgl-dev-cpu/lib/python3.10/site-packages (from python-dateutil>=2.8.2->pandas->dgl) (1.16.0)\r\n",
      "Requirement already satisfied: filelock in /opt/conda/envs/dgl-dev-cpu/lib/python3.10/site-packages (from torch>=2->torchdata>=0.5.0->dgl) (3.15.4)\r\n",
      "Requirement already satisfied: typing-extensions>=4.8.0 in /opt/conda/envs/dgl-dev-cpu/lib/python3.10/site-packages (from torch>=2->torchdata>=0.5.0->dgl) (4.12.2)\r\n",
      "Requirement already satisfied: sympy in /opt/conda/envs/dgl-dev-cpu/lib/python3.10/site-packages (from torch>=2->torchdata>=0.5.0->dgl) (1.13.2)\r\n",
      "Requirement already satisfied: jinja2 in /opt/conda/envs/dgl-dev-cpu/lib/python3.10/site-packages (from torch>=2->torchdata>=0.5.0->dgl) (3.1.4)\r\n",
      "Requirement already satisfied: fsspec in /opt/conda/envs/dgl-dev-cpu/lib/python3.10/site-packages (from torch>=2->torchdata>=0.5.0->dgl) (2024.6.1)\r\n"
     ]
    },
    {
     "name": "stdout",
     "output_type": "stream",
     "text": [
      "Requirement already satisfied: MarkupSafe>=2.0 in /opt/conda/envs/dgl-dev-cpu/lib/python3.10/site-packages (from jinja2->torch>=2->torchdata>=0.5.0->dgl) (2.1.5)\r\n",
      "Requirement already satisfied: mpmath<1.4,>=1.1.0 in /opt/conda/envs/dgl-dev-cpu/lib/python3.10/site-packages (from sympy->torch>=2->torchdata>=0.5.0->dgl) (1.3.0)\r\n"
     ]
    },
    {
     "name": "stderr",
     "output_type": "stream",
     "text": [
      "/home/ubuntu/regression_test/dgl/python/dgl/graphbolt/base.py:81: FutureWarning: `torch.library.impl_abstract` was renamed to `torch.library.register_fake`. Please use that instead; we will remove `torch.library.impl_abstract` in a future version of PyTorch.\n",
      "  @torch.library.impl_abstract(\"graphbolt::expand_indptr\")\n"
     ]
    },
    {
     "name": "stdout",
     "output_type": "stream",
     "text": [
      "DGL installed!\n"
     ]
    }
   ],
   "source": [
    "# Install required packages.\n",
    "import os\n",
    "import torch\n",
    "import numpy as np\n",
    "os.environ['TORCH'] = torch.__version__\n",
    "os.environ['DGLBACKEND'] = \"pytorch\"\n",
    "\n",
    "# Install the CPU version.\n",
    "device = torch.device(\"cpu\")\n",
    "!pip install --pre dgl -f https://data.dgl.ai/wheels-test/repo.html\n",
    "\n",
    "try:\n",
    "    import dgl\n",
    "    import dgl.graphbolt as gb\n",
    "    installed = True\n",
    "except ImportError as error:\n",
    "    installed = False\n",
    "    print(error)\n",
    "print(\"DGL installed!\" if installed else \"DGL not found!\")"
   ]
  },
  {
   "cell_type": "markdown",
   "metadata": {
    "id": "2R7WnSbjsfbr"
   },
   "source": [
    "## Data preparation\n",
    "In order to demonstrate how to organize various data, let's create a base directory first."
   ]
  },
  {
   "cell_type": "code",
   "execution_count": 2,
   "metadata": {
    "execution": {
     "iopub.execute_input": "2024-08-27T06:47:42.917659Z",
     "iopub.status.busy": "2024-08-27T06:47:42.916968Z",
     "iopub.status.idle": "2024-08-27T06:47:42.920966Z",
     "shell.execute_reply": "2024-08-27T06:47:42.920366Z"
    },
    "id": "SZipbzyltLfO"
   },
   "outputs": [
    {
     "name": "stdout",
     "output_type": "stream",
     "text": [
      "Created base directory: ./ondisk_dataset_homograph\n"
     ]
    }
   ],
   "source": [
    "base_dir = './ondisk_dataset_homograph'\n",
    "os.makedirs(base_dir, exist_ok=True)\n",
    "print(f\"Created base directory: {base_dir}\")"
   ]
  },
  {
   "cell_type": "markdown",
   "metadata": {
    "id": "qhNtIn_xhlnl"
   },
   "source": [
    "### Generate graph structure data\n",
    "For homogeneous graph, we just need to save edges(namely seeds) into  **Numpy** or **CSV** file.\n",
    "\n",
    "Note:\n",
    "- when saving to **Numpy**, the array requires to be in shape of `(2, N)`. This format is recommended as constructing graph from it is much faster than **CSV** file.\n",
    "- when saving to **CSV** file, do not save index and header.\n"
   ]
  },
  {
   "cell_type": "code",
   "execution_count": 3,
   "metadata": {
    "execution": {
     "iopub.execute_input": "2024-08-27T06:47:42.923312Z",
     "iopub.status.busy": "2024-08-27T06:47:42.923059Z",
     "iopub.status.idle": "2024-08-27T06:47:42.935575Z",
     "shell.execute_reply": "2024-08-27T06:47:42.934980Z"
    },
    "id": "HcBt4G5BmSjr"
   },
   "outputs": [
    {
     "name": "stdout",
     "output_type": "stream",
     "text": [
      "Part of edges: [[184 873]\n",
      " [911 790]\n",
      " [464 974]\n",
      " [394 141]\n",
      " [657 938]]\n",
      "Edges are saved into ./ondisk_dataset_homograph/edges.csv\n"
     ]
    }
   ],
   "source": [
    "import numpy as np\n",
    "import pandas as pd\n",
    "num_nodes = 1000\n",
    "num_edges = 10 * num_nodes\n",
    "edges_path = os.path.join(base_dir, \"edges.csv\")\n",
    "edges = np.random.randint(0, num_nodes, size=(num_edges, 2))\n",
    "\n",
    "print(f\"Part of edges: {edges[:5, :]}\")\n",
    "\n",
    "df = pd.DataFrame(edges)\n",
    "df.to_csv(edges_path, index=False, header=False)\n",
    "\n",
    "print(f\"Edges are saved into {edges_path}\")"
   ]
  },
  {
   "cell_type": "markdown",
   "metadata": {
    "id": "kh-4cPtzpcaH"
   },
   "source": [
    "### Generate feature data for graph\n",
    "For feature data, numpy arrays and torch tensors are supported for now."
   ]
  },
  {
   "cell_type": "code",
   "execution_count": 4,
   "metadata": {
    "execution": {
     "iopub.execute_input": "2024-08-27T06:47:42.937849Z",
     "iopub.status.busy": "2024-08-27T06:47:42.937649Z",
     "iopub.status.idle": "2024-08-27T06:47:42.966054Z",
     "shell.execute_reply": "2024-08-27T06:47:42.965566Z"
    },
    "id": "_PVu1u5brBhF"
   },
   "outputs": [
    {
     "name": "stdout",
     "output_type": "stream",
     "text": [
      "Part of node feature [feat_0]: [[0.10482224 0.31770729 0.65857532 0.7588966  0.83991876]\n",
      " [0.87783102 0.15696049 0.22717964 0.01857943 0.40791582]\n",
      " [0.02578489 0.48380845 0.45051185 0.13002526 0.23126345]]\n",
      "Node feature [feat_0] is saved to ./ondisk_dataset_homograph/node-feat-0.npy\n",
      "\n",
      "Part of node feature [feat_1]: tensor([[0.1663, 0.1209, 0.2782, 0.4847, 0.0046],\n",
      "        [0.2747, 0.3510, 0.0890, 0.8627, 0.4687],\n",
      "        [0.9744, 0.5553, 0.6091, 0.0651, 0.9112]])\n",
      "Node feature [feat_1] is saved to ./ondisk_dataset_homograph/node-feat-1.pt\n",
      "\n",
      "Part of edge feature [feat_0]: [[0.56762018 0.03284221 0.40979622 0.8872076  0.4843526 ]\n",
      " [0.37831769 0.33357896 0.29231676 0.14678602 0.44448925]\n",
      " [0.56155954 0.85568272 0.68679069 0.29453573 0.15453216]]\n",
      "Edge feature [feat_0] is saved to ./ondisk_dataset_homograph/edge-feat-0.npy\n",
      "\n",
      "Part of edge feature [feat_1]: tensor([[0.7503, 0.4813, 0.6094, 0.0834, 0.0412],\n",
      "        [0.8392, 0.1951, 0.0210, 0.5865, 0.1316],\n",
      "        [0.6534, 0.6364, 0.7148, 0.0636, 0.3610]])\n",
      "Edge feature [feat_1] is saved to ./ondisk_dataset_homograph/edge-feat-1.pt\n",
      "\n"
     ]
    }
   ],
   "source": [
    "# Generate node feature in numpy array.\n",
    "node_feat_0_path = os.path.join(base_dir, \"node-feat-0.npy\")\n",
    "node_feat_0 = np.random.rand(num_nodes, 5)\n",
    "print(f\"Part of node feature [feat_0]: {node_feat_0[:3, :]}\")\n",
    "np.save(node_feat_0_path, node_feat_0)\n",
    "print(f\"Node feature [feat_0] is saved to {node_feat_0_path}\\n\")\n",
    "\n",
    "# Generate another node feature in torch tensor\n",
    "node_feat_1_path = os.path.join(base_dir, \"node-feat-1.pt\")\n",
    "node_feat_1 = torch.rand(num_nodes, 5)\n",
    "print(f\"Part of node feature [feat_1]: {node_feat_1[:3, :]}\")\n",
    "torch.save(node_feat_1, node_feat_1_path)\n",
    "print(f\"Node feature [feat_1] is saved to {node_feat_1_path}\\n\")\n",
    "\n",
    "# Generate edge feature in numpy array.\n",
    "edge_feat_0_path = os.path.join(base_dir, \"edge-feat-0.npy\")\n",
    "edge_feat_0 = np.random.rand(num_edges, 5)\n",
    "print(f\"Part of edge feature [feat_0]: {edge_feat_0[:3, :]}\")\n",
    "np.save(edge_feat_0_path, edge_feat_0)\n",
    "print(f\"Edge feature [feat_0] is saved to {edge_feat_0_path}\\n\")\n",
    "\n",
    "# Generate another edge feature in torch tensor\n",
    "edge_feat_1_path = os.path.join(base_dir, \"edge-feat-1.pt\")\n",
    "edge_feat_1 = torch.rand(num_edges, 5)\n",
    "print(f\"Part of edge feature [feat_1]: {edge_feat_1[:3, :]}\")\n",
    "torch.save(edge_feat_1, edge_feat_1_path)\n",
    "print(f\"Edge feature [feat_1] is saved to {edge_feat_1_path}\\n\")\n"
   ]
  },
  {
   "cell_type": "markdown",
   "metadata": {
    "id": "ZyqgOtsIwzh_"
   },
   "source": [
    "### Generate tasks\n",
    "`OnDiskDataset` supports multiple tasks. For each task, we need to prepare training/validation/test sets respectively. Such sets usually vary among different tasks. In this tutorial, let's create a **Node Classification** task and **Link Prediction** task."
   ]
  },
  {
   "cell_type": "markdown",
   "metadata": {
    "id": "hVxHaDIfzCkr"
   },
   "source": [
    "#### Node Classification Task\n",
    "For node classification task, we need **node IDs** and corresponding **labels** for each training/validation/test set. Like feature data, numpy arrays and torch tensors are supported for these sets."
   ]
  },
  {
   "cell_type": "code",
   "execution_count": 5,
   "metadata": {
    "execution": {
     "iopub.execute_input": "2024-08-27T06:47:42.968446Z",
     "iopub.status.busy": "2024-08-27T06:47:42.968051Z",
     "iopub.status.idle": "2024-08-27T06:47:42.977528Z",
     "shell.execute_reply": "2024-08-27T06:47:42.977041Z"
    },
    "id": "S5-fyBbHzTCO"
   },
   "outputs": [
    {
     "name": "stdout",
     "output_type": "stream",
     "text": [
      "Part of train ids for node classification: [47  3 37]\n",
      "NC train ids are saved to ./ondisk_dataset_homograph/nc-train-ids.npy\n",
      "\n",
      "Part of train labels for node classification: tensor([7, 7, 6])\n",
      "NC train labels are saved to ./ondisk_dataset_homograph/nc-train-labels.pt\n",
      "\n",
      "Part of val ids for node classification: [ 90 998  18]\n",
      "NC val ids are saved to ./ondisk_dataset_homograph/nc-val-ids.npy\n",
      "\n",
      "Part of val labels for node classification: tensor([5, 7, 8])\n",
      "NC val labels are saved to ./ondisk_dataset_homograph/nc-val-labels.pt\n",
      "\n",
      "Part of test ids for node classification: [873 444 856]\n",
      "NC test ids are saved to ./ondisk_dataset_homograph/nc-test-ids.npy\n",
      "\n",
      "Part of test labels for node classification: tensor([0, 2, 7])\n",
      "NC test labels are saved to ./ondisk_dataset_homograph/nc-test-labels.pt\n",
      "\n"
     ]
    }
   ],
   "source": [
    "num_trains = int(num_nodes * 0.6)\n",
    "num_vals = int(num_nodes * 0.2)\n",
    "num_tests = num_nodes - num_trains - num_vals\n",
    "\n",
    "ids = np.arange(num_nodes)\n",
    "np.random.shuffle(ids)\n",
    "\n",
    "nc_train_ids_path = os.path.join(base_dir, \"nc-train-ids.npy\")\n",
    "nc_train_ids = ids[:num_trains]\n",
    "print(f\"Part of train ids for node classification: {nc_train_ids[:3]}\")\n",
    "np.save(nc_train_ids_path, nc_train_ids)\n",
    "print(f\"NC train ids are saved to {nc_train_ids_path}\\n\")\n",
    "\n",
    "nc_train_labels_path = os.path.join(base_dir, \"nc-train-labels.pt\")\n",
    "nc_train_labels = torch.randint(0, 10, (num_trains,))\n",
    "print(f\"Part of train labels for node classification: {nc_train_labels[:3]}\")\n",
    "torch.save(nc_train_labels, nc_train_labels_path)\n",
    "print(f\"NC train labels are saved to {nc_train_labels_path}\\n\")\n",
    "\n",
    "nc_val_ids_path = os.path.join(base_dir, \"nc-val-ids.npy\")\n",
    "nc_val_ids = ids[num_trains:num_trains+num_vals]\n",
    "print(f\"Part of val ids for node classification: {nc_val_ids[:3]}\")\n",
    "np.save(nc_val_ids_path, nc_val_ids)\n",
    "print(f\"NC val ids are saved to {nc_val_ids_path}\\n\")\n",
    "\n",
    "nc_val_labels_path = os.path.join(base_dir, \"nc-val-labels.pt\")\n",
    "nc_val_labels = torch.randint(0, 10, (num_vals,))\n",
    "print(f\"Part of val labels for node classification: {nc_val_labels[:3]}\")\n",
    "torch.save(nc_val_labels, nc_val_labels_path)\n",
    "print(f\"NC val labels are saved to {nc_val_labels_path}\\n\")\n",
    "\n",
    "nc_test_ids_path = os.path.join(base_dir, \"nc-test-ids.npy\")\n",
    "nc_test_ids = ids[-num_tests:]\n",
    "print(f\"Part of test ids for node classification: {nc_test_ids[:3]}\")\n",
    "np.save(nc_test_ids_path, nc_test_ids)\n",
    "print(f\"NC test ids are saved to {nc_test_ids_path}\\n\")\n",
    "\n",
    "nc_test_labels_path = os.path.join(base_dir, \"nc-test-labels.pt\")\n",
    "nc_test_labels = torch.randint(0, 10, (num_tests,))\n",
    "print(f\"Part of test labels for node classification: {nc_test_labels[:3]}\")\n",
    "torch.save(nc_test_labels, nc_test_labels_path)\n",
    "print(f\"NC test labels are saved to {nc_test_labels_path}\\n\")"
   ]
  },
  {
   "cell_type": "markdown",
   "metadata": {
    "id": "LhAcDCHQ_KJ0"
   },
   "source": [
    "#### Link Prediction Task\n",
    "For link prediction task, we need **seeds** or **corresponding labels and indexes** which representing the pos/neg property and group of the seeds for each training/validation/test set. Like feature data, numpy arrays and torch tensors are supported for these sets."
   ]
  },
  {
   "cell_type": "code",
   "execution_count": 6,
   "metadata": {
    "execution": {
     "iopub.execute_input": "2024-08-27T06:47:42.979904Z",
     "iopub.status.busy": "2024-08-27T06:47:42.979509Z",
     "iopub.status.idle": "2024-08-27T06:47:42.995428Z",
     "shell.execute_reply": "2024-08-27T06:47:42.994946Z"
    },
    "id": "u0jCnXIcAQy4"
   },
   "outputs": [
    {
     "name": "stdout",
     "output_type": "stream",
     "text": [
      "Part of train seeds for link prediction: [[184 873]\n",
      " [911 790]\n",
      " [464 974]]\n",
      "LP train seeds are saved to ./ondisk_dataset_homograph/lp-train-seeds.npy\n",
      "\n",
      "Part of val seeds for link prediction: [[561   9]\n",
      " [ 99 146]\n",
      " [256 244]]\n",
      "LP val seeds are saved to ./ondisk_dataset_homograph/lp-val-seeds.npy\n",
      "\n",
      "Part of val labels for link prediction: [1. 1. 1.]\n",
      "LP val labels are saved to ./ondisk_dataset_homograph/lp-val-labels.npy\n",
      "\n",
      "Part of val indexes for link prediction: [0 1 2]\n",
      "LP val indexes are saved to ./ondisk_dataset_homograph/lp-val-indexes.npy\n",
      "\n",
      "Part of test seeds for link prediction: [[757 283]\n",
      " [801 891]\n",
      " [102 172]]\n",
      "LP test seeds are saved to ./ondisk_dataset_homograph/lp-test-seeds.npy\n",
      "\n",
      "Part of val labels for link prediction: [1. 1. 1.]\n",
      "LP test labels are saved to ./ondisk_dataset_homograph/lp-test-labels.npy\n",
      "\n",
      "Part of test indexes for link prediction: [0 1 2]\n",
      "LP test indexes are saved to ./ondisk_dataset_homograph/lp-test-indexes.npy\n",
      "\n"
     ]
    }
   ],
   "source": [
    "num_trains = int(num_edges * 0.6)\n",
    "num_vals = int(num_edges * 0.2)\n",
    "num_tests = num_edges - num_trains - num_vals\n",
    "\n",
    "lp_train_seeds_path = os.path.join(base_dir, \"lp-train-seeds.npy\")\n",
    "lp_train_seeds = edges[:num_trains, :]\n",
    "print(f\"Part of train seeds for link prediction: {lp_train_seeds[:3]}\")\n",
    "np.save(lp_train_seeds_path, lp_train_seeds)\n",
    "print(f\"LP train seeds are saved to {lp_train_seeds_path}\\n\")\n",
    "\n",
    "lp_val_seeds_path = os.path.join(base_dir, \"lp-val-seeds.npy\")\n",
    "lp_val_seeds = edges[num_trains:num_trains+num_vals, :]\n",
    "lp_val_neg_dsts = np.random.randint(0, num_nodes, (num_vals, 10)).reshape(-1)\n",
    "lp_val_neg_srcs = np.repeat(lp_val_seeds[:,0], 10)\n",
    "lp_val_neg_seeds = np.concatenate((lp_val_neg_srcs, lp_val_neg_dsts)).reshape(2,-1).T\n",
    "lp_val_seeds = np.concatenate((lp_val_seeds, lp_val_neg_seeds))\n",
    "print(f\"Part of val seeds for link prediction: {lp_val_seeds[:3]}\")\n",
    "np.save(lp_val_seeds_path, lp_val_seeds)\n",
    "print(f\"LP val seeds are saved to {lp_val_seeds_path}\\n\")\n",
    "\n",
    "lp_val_labels_path = os.path.join(base_dir, \"lp-val-labels.npy\")\n",
    "lp_val_labels = np.empty(num_vals * (10 + 1))\n",
    "lp_val_labels[:num_vals] = 1\n",
    "lp_val_labels[num_vals:] = 0\n",
    "print(f\"Part of val labels for link prediction: {lp_val_labels[:3]}\")\n",
    "np.save(lp_val_labels_path, lp_val_labels)\n",
    "print(f\"LP val labels are saved to {lp_val_labels_path}\\n\")\n",
    "\n",
    "lp_val_indexes_path = os.path.join(base_dir, \"lp-val-indexes.npy\")\n",
    "lp_val_indexes = np.arange(0, num_vals)\n",
    "lp_val_neg_indexes = np.repeat(lp_val_indexes, 10)\n",
    "lp_val_indexes = np.concatenate([lp_val_indexes, lp_val_neg_indexes])\n",
    "print(f\"Part of val indexes for link prediction: {lp_val_indexes[:3]}\")\n",
    "np.save(lp_val_indexes_path, lp_val_indexes)\n",
    "print(f\"LP val indexes are saved to {lp_val_indexes_path}\\n\")\n",
    "\n",
    "lp_test_seeds_path = os.path.join(base_dir, \"lp-test-seeds.npy\")\n",
    "lp_test_seeds = edges[-num_tests:, :]\n",
    "lp_test_neg_dsts = np.random.randint(0, num_nodes, (num_tests, 10)).reshape(-1)\n",
    "lp_test_neg_srcs = np.repeat(lp_test_seeds[:,0], 10)\n",
    "lp_test_neg_seeds = np.concatenate((lp_test_neg_srcs, lp_test_neg_dsts)).reshape(2,-1).T\n",
    "lp_test_seeds = np.concatenate((lp_test_seeds, lp_test_neg_seeds))\n",
    "print(f\"Part of test seeds for link prediction: {lp_test_seeds[:3]}\")\n",
    "np.save(lp_test_seeds_path, lp_test_seeds)\n",
    "print(f\"LP test seeds are saved to {lp_test_seeds_path}\\n\")\n",
    "\n",
    "lp_test_labels_path = os.path.join(base_dir, \"lp-test-labels.npy\")\n",
    "lp_test_labels = np.empty(num_tests * (10 + 1))\n",
    "lp_test_labels[:num_tests] = 1\n",
    "lp_test_labels[num_tests:] = 0\n",
    "print(f\"Part of val labels for link prediction: {lp_test_labels[:3]}\")\n",
    "np.save(lp_test_labels_path, lp_test_labels)\n",
    "print(f\"LP test labels are saved to {lp_test_labels_path}\\n\")\n",
    "\n",
    "lp_test_indexes_path = os.path.join(base_dir, \"lp-test-indexes.npy\")\n",
    "lp_test_indexes = np.arange(0, num_tests)\n",
    "lp_test_neg_indexes = np.repeat(lp_test_indexes, 10)\n",
    "lp_test_indexes = np.concatenate([lp_test_indexes, lp_test_neg_indexes])\n",
    "print(f\"Part of test indexes for link prediction: {lp_test_indexes[:3]}\")\n",
    "np.save(lp_test_indexes_path, lp_test_indexes)\n",
    "print(f\"LP test indexes are saved to {lp_test_indexes_path}\\n\")"
   ]
  },
  {
   "cell_type": "markdown",
   "metadata": {
    "id": "wbk6-wxRK-6S"
   },
   "source": [
    "## Organize Data into YAML File\n",
    "Now we need to create a `metadata.yaml` file which contains the paths, dadta types of graph structure, feature data, training/validation/test sets.\n",
    "\n",
    "Notes:\n",
    "- all path should be relative to `metadata.yaml`.\n",
    "- Below fields are optional and not specified in below example.\n",
    "  - `in_memory`: indicates whether to load dada into memory or `mmap`. Default is `True`.\n",
    "\n",
    "Please refer to [YAML specification](https://github.com/dmlc/dgl/blob/master/docs/source/stochastic_training/ondisk-dataset-specification.rst) for more details."
   ]
  },
  {
   "cell_type": "code",
   "execution_count": 7,
   "metadata": {
    "execution": {
     "iopub.execute_input": "2024-08-27T06:47:42.997764Z",
     "iopub.status.busy": "2024-08-27T06:47:42.997364Z",
     "iopub.status.idle": "2024-08-27T06:47:43.002455Z",
     "shell.execute_reply": "2024-08-27T06:47:43.001973Z"
    },
    "id": "ddGTWW61Lpwp"
   },
   "outputs": [],
   "source": [
    "yaml_content = f\"\"\"\n",
    "    dataset_name: homogeneous_graph_nc_lp\n",
    "    graph:\n",
    "      nodes:\n",
    "        - num: {num_nodes}\n",
    "      edges:\n",
    "        - format: csv\n",
    "          path: {os.path.basename(edges_path)}\n",
    "    feature_data:\n",
    "      - domain: node\n",
    "        name: feat_0\n",
    "        format: numpy\n",
    "        path: {os.path.basename(node_feat_0_path)}\n",
    "      - domain: node\n",
    "        name: feat_1\n",
    "        format: torch\n",
    "        path: {os.path.basename(node_feat_1_path)}\n",
    "      - domain: edge\n",
    "        name: feat_0\n",
    "        format: numpy\n",
    "        path: {os.path.basename(edge_feat_0_path)}\n",
    "      - domain: edge\n",
    "        name: feat_1\n",
    "        format: torch\n",
    "        path: {os.path.basename(edge_feat_1_path)}\n",
    "    tasks:\n",
    "      - name: node_classification\n",
    "        num_classes: 10\n",
    "        train_set:\n",
    "          - data:\n",
    "              - name: seeds\n",
    "                format: numpy\n",
    "                path: {os.path.basename(nc_train_ids_path)}\n",
    "              - name: labels\n",
    "                format: torch\n",
    "                path: {os.path.basename(nc_train_labels_path)}\n",
    "        validation_set:\n",
    "          - data:\n",
    "              - name: seeds\n",
    "                format: numpy\n",
    "                path: {os.path.basename(nc_val_ids_path)}\n",
    "              - name: labels\n",
    "                format: torch\n",
    "                path: {os.path.basename(nc_val_labels_path)}\n",
    "        test_set:\n",
    "          - data:\n",
    "              - name: seeds\n",
    "                format: numpy\n",
    "                path: {os.path.basename(nc_test_ids_path)}\n",
    "              - name: labels\n",
    "                format: torch\n",
    "                path: {os.path.basename(nc_test_labels_path)}\n",
    "      - name: link_prediction\n",
    "        num_classes: 10\n",
    "        train_set:\n",
    "          - data:\n",
    "              - name: seeds\n",
    "                format: numpy\n",
    "                path: {os.path.basename(lp_train_seeds_path)}\n",
    "        validation_set:\n",
    "          - data:\n",
    "              - name: seeds\n",
    "                format: numpy\n",
    "                path: {os.path.basename(lp_val_seeds_path)}\n",
    "              - name: labels\n",
    "                format: numpy\n",
    "                path: {os.path.basename(lp_val_labels_path)}\n",
    "              - name: indexes\n",
    "                format: numpy\n",
    "                path: {os.path.basename(lp_val_indexes_path)}\n",
    "        test_set:\n",
    "          - data:\n",
    "              - name: seeds\n",
    "                format: numpy\n",
    "                path: {os.path.basename(lp_test_seeds_path)}\n",
    "              - name: labels\n",
    "                format: numpy\n",
    "                path: {os.path.basename(lp_test_labels_path)}\n",
    "              - name: indexes\n",
    "                format: numpy\n",
    "                path: {os.path.basename(lp_test_indexes_path)}\n",
    "\"\"\"\n",
    "metadata_path = os.path.join(base_dir, \"metadata.yaml\")\n",
    "with open(metadata_path, \"w\") as f:\n",
    "  f.write(yaml_content)"
   ]
  },
  {
   "cell_type": "markdown",
   "metadata": {
    "id": "kEfybHGhOW7O"
   },
   "source": [
    "## Instantiate `OnDiskDataset`\n",
    "Now we're ready to load dataset via `dgl.graphbolt.OnDiskDataset`. When instantiating, we just pass in the base directory where `metadata.yaml` file lies.\n",
    "\n",
    "During first instantiation, GraphBolt preprocesses the raw data such as constructing `FusedCSCSamplingGraph` from edges. All data including graph, feature data, training/validation/test sets are put into `preprocessed` directory after preprocessing. Any following dataset loading will skip the preprocess stage.\n",
    "\n",
    "After preprocessing, `load()` is required to be called explicitly in order to load graph, feature data and tasks."
   ]
  },
  {
   "cell_type": "code",
   "execution_count": 8,
   "metadata": {
    "execution": {
     "iopub.execute_input": "2024-08-27T06:47:43.004526Z",
     "iopub.status.busy": "2024-08-27T06:47:43.004274Z",
     "iopub.status.idle": "2024-08-27T06:47:43.084101Z",
     "shell.execute_reply": "2024-08-27T06:47:43.083589Z"
    },
    "id": "W58CZoSzOiyo"
   },
   "outputs": [
    {
     "name": "stdout",
     "output_type": "stream",
     "text": [
      "The on-disk dataset is re-preprocessing, so the existing preprocessed dataset has been removed.\n",
      "Start to preprocess the on-disk dataset.\n",
      "Finish preprocessing the on-disk dataset.\n",
      "Loaded graph: FusedCSCSamplingGraph(csc_indptr=tensor([    0,     5,    19,  ...,  9969,  9986, 10000], dtype=torch.int32),\n",
      "                      indices=tensor([312, 621, 356,  ..., 445, 486, 480], dtype=torch.int32),\n",
      "                      total_num_nodes=1000, num_edges=10000,)\n",
      "\n",
      "Loaded feature store: TorchBasedFeatureStore(\n",
      "    {(<OnDiskFeatureDataDomain.NODE: 'node'>, None, 'feat_0'): TorchBasedFeature(\n",
      "        feature=tensor([[0.1048, 0.3177, 0.6586, 0.7589, 0.8399],\n",
      "                        [0.8778, 0.1570, 0.2272, 0.0186, 0.4079],\n",
      "                        [0.0258, 0.4838, 0.4505, 0.1300, 0.2313],\n",
      "                        ...,\n",
      "                        [0.2653, 0.8613, 0.5692, 0.9250, 0.3797],\n",
      "                        [0.3295, 0.0367, 0.4561, 0.1754, 0.5702],\n",
      "                        [0.6316, 0.1745, 0.2270, 0.1103, 0.8848]], dtype=torch.float64),\n",
      "        metadata={},\n",
      "    ), (<OnDiskFeatureDataDomain.NODE: 'node'>, None, 'feat_1'): TorchBasedFeature(\n",
      "        feature=tensor([[0.1663, 0.1209, 0.2782, 0.4847, 0.0046],\n",
      "                        [0.2747, 0.3510, 0.0890, 0.8627, 0.4687],\n",
      "                        [0.9744, 0.5553, 0.6091, 0.0651, 0.9112],\n",
      "                        ...,\n",
      "                        [0.1160, 0.5058, 0.5958, 0.6939, 0.6412],\n",
      "                        [0.5649, 0.8332, 0.6193, 0.3996, 0.3111],\n",
      "                        [0.4451, 0.2498, 0.1288, 0.5855, 0.5996]]),\n",
      "        metadata={},\n",
      "    ), (<OnDiskFeatureDataDomain.EDGE: 'edge'>, None, 'feat_0'): TorchBasedFeature(\n",
      "        feature=tensor([[0.5676, 0.0328, 0.4098, 0.8872, 0.4844],\n",
      "                        [0.3783, 0.3336, 0.2923, 0.1468, 0.4445],\n",
      "                        [0.5616, 0.8557, 0.6868, 0.2945, 0.1545],\n",
      "                        ...,\n",
      "                        [0.1755, 0.5645, 0.2146, 0.0046, 0.8443],\n",
      "                        [0.1562, 0.0215, 0.5402, 0.4184, 0.7795],\n",
      "                        [0.7881, 0.7455, 0.0722, 0.6036, 0.7570]], dtype=torch.float64),\n",
      "        metadata={},\n",
      "    ), (<OnDiskFeatureDataDomain.EDGE: 'edge'>, None, 'feat_1'): TorchBasedFeature(\n",
      "        feature=tensor([[7.5030e-01, 4.8127e-01, 6.0936e-01, 8.3447e-02, 4.1167e-02],\n",
      "                        [8.3922e-01, 1.9515e-01, 2.0985e-02, 5.8651e-01, 1.3159e-01],\n",
      "                        [6.5340e-01, 6.3644e-01, 7.1482e-01, 6.3593e-02, 3.6103e-01],\n",
      "                        ...,\n",
      "                        [6.2321e-01, 5.5400e-01, 5.1298e-01, 2.1299e-01, 2.2705e-01],\n",
      "                        [3.2221e-01, 4.0318e-02, 9.3020e-01, 2.6476e-04, 3.1743e-01],\n",
      "                        [5.5051e-02, 5.4926e-01, 1.7829e-01, 1.0328e-01, 4.3754e-01]]),\n",
      "        metadata={},\n",
      "    )}\n",
      ")\n",
      "\n",
      "Loaded node classification task: OnDiskTask(validation_set=ItemSet(\n",
      "               items=(tensor([ 90, 998,  18, 106, 167, 604, 667, 802, 747, 768,  98,  34, 704, 862,\n",
      "                   732, 294, 474, 243, 316,  75,  62, 583, 374, 794, 695, 458, 804, 978,\n",
      "                   591,  80, 114, 541, 905, 952, 713, 464, 190, 519, 347,  50, 632, 656,\n",
      "                   699, 259, 857, 406, 283, 930, 882, 478, 292, 437, 239, 822, 606, 269,\n",
      "                   495, 759, 973, 987, 285, 286, 459, 757, 758, 480, 808, 787, 432,  32,\n",
      "                    89, 888, 953,  15, 995, 588, 774, 226, 919, 875, 335, 629, 840, 569,\n",
      "                   493, 122, 854, 779, 221, 313, 971, 842, 468, 729, 680, 330, 365, 891,\n",
      "                   958, 717, 165, 308, 430, 104, 694, 869, 648, 517, 216, 708, 367, 201,\n",
      "                   719, 945, 232, 446, 918, 784, 361, 642, 314, 828, 207, 280, 965,   4,\n",
      "                   434, 568, 118, 634, 771, 142, 488, 896, 560, 295, 244, 128, 651, 783,\n",
      "                   477, 833, 369, 797, 222, 785, 373, 767, 582, 220, 279, 815, 912, 234,\n",
      "                   181, 607, 108, 103, 631, 553, 205, 325, 684, 877, 562, 192,  16,  77,\n",
      "                   387, 671, 855, 521, 979, 498, 134, 688, 146, 302, 260, 850, 383,   1,\n",
      "                    26, 710, 903, 172, 155, 223,  88, 572, 150, 353, 939, 970, 559, 887,\n",
      "                   161,  74, 162, 100], dtype=torch.int32), tensor([5, 7, 8, 9, 9, 0, 1, 3, 8, 6, 8, 8, 3, 4, 4, 3, 4, 3, 5, 6, 6, 7, 9, 9,\n",
      "                   8, 5, 3, 7, 6, 2, 8, 2, 8, 2, 3, 0, 1, 7, 8, 9, 1, 6, 3, 7, 7, 7, 3, 9,\n",
      "                   0, 8, 6, 3, 2, 6, 1, 7, 5, 4, 8, 4, 9, 9, 7, 3, 9, 2, 0, 6, 2, 3, 1, 8,\n",
      "                   7, 5, 3, 6, 7, 8, 8, 4, 0, 3, 9, 9, 1, 3, 1, 3, 0, 6, 6, 3, 3, 6, 8, 2,\n",
      "                   0, 1, 1, 7, 4, 3, 8, 5, 3, 6, 6, 6, 5, 2, 7, 5, 7, 1, 0, 3, 8, 3, 4, 4,\n",
      "                   2, 7, 2, 7, 6, 3, 5, 1, 3, 2, 0, 1, 6, 7, 9, 2, 5, 5, 7, 1, 8, 8, 1, 4,\n",
      "                   9, 4, 5, 6, 3, 8, 4, 3, 8, 5, 6, 2, 6, 5, 6, 6, 3, 6, 6, 5, 5, 6, 4, 5,\n",
      "                   5, 8, 7, 8, 0, 6, 5, 7, 1, 6, 8, 7, 8, 3, 0, 2, 3, 4, 2, 5, 8, 5, 6, 2,\n",
      "                   7, 1, 4, 4, 3, 1, 5, 8])),\n",
      "               names=('seeds', 'labels'),\n",
      "           ),\n",
      "           train_set=ItemSet(\n",
      "               items=(tensor([ 47,   3,  37,  36, 775, 287, 513, 230, 522, 743, 218, 947, 461, 613,\n",
      "                   705, 745, 416, 652,  87, 576, 404, 690, 936, 447, 844, 386, 685, 580,\n",
      "                   241, 395, 621, 229,  70, 233, 951, 721, 472, 839, 469, 700,  73, 515,\n",
      "                   382,  20, 825, 960, 881, 396,  51, 203,  21, 168, 138, 412, 848, 131,\n",
      "                   145, 923, 741, 450, 271, 859, 868, 610, 208, 547, 836, 307, 364, 290,\n",
      "                   124, 683, 564, 997, 895, 928,  29, 238, 788, 809, 847, 624, 500, 655,\n",
      "                   545, 820, 348, 426,  46, 770, 753, 910, 916, 611, 555, 399, 341, 791,\n",
      "                   885,   5, 393, 463, 927, 497, 499, 266, 596, 494, 931, 188, 182, 886,\n",
      "                   622, 676, 937, 254, 166, 317, 724, 342, 470, 442, 262, 935, 821, 687,\n",
      "                   826, 542, 170, 350, 878, 215, 548, 197, 772, 257, 675, 213, 235, 598,\n",
      "                   561, 744, 352, 830, 421, 966, 620,  28, 911, 394, 355, 388, 147, 554,\n",
      "                   101,  85, 661, 538,  38, 156, 776, 943, 832, 193, 311, 756,  86,  66,\n",
      "                    48, 533, 277, 217, 349, 982, 284,  99, 111, 906, 417, 689, 455, 169,\n",
      "                   782, 467, 445, 343, 526,  17, 967, 231, 764, 786, 483, 989, 972, 954,\n",
      "                   465, 524, 440, 520, 148, 890, 959, 288, 132, 178, 186, 565, 460, 581,\n",
      "                   730, 435, 835, 339, 204, 893, 593, 183, 692, 597, 323, 359, 974, 883,\n",
      "                   858, 948, 746,  71, 441, 618, 837, 603, 773, 814, 253, 874, 949, 405,\n",
      "                   184, 712, 933, 884, 573, 872, 567, 660, 904, 920, 391, 749, 876, 670,\n",
      "                   389, 645, 902, 315, 851,   6, 697, 141, 137, 303, 630, 917, 152, 276,\n",
      "                   227, 242, 813, 484, 492, 275,   2, 817, 448, 248, 312, 714, 860, 552,\n",
      "                   321, 691, 575, 838, 627, 256, 471, 224, 986, 411, 258, 436, 640, 726,\n",
      "                   994, 457, 501,  69, 841, 846, 968,  49, 157, 716, 346, 934, 546, 390,\n",
      "                   344, 760, 827, 605, 439, 358, 326, 942, 174, 475, 563, 537, 268, 511,\n",
      "                   381, 304, 264, 899, 625, 736, 845, 801, 535, 647, 780, 976, 595, 419,\n",
      "                   415, 879, 777, 755, 600, 637, 609, 252, 733, 914, 544, 202, 823, 659,\n",
      "                   177, 422, 907, 938, 834,  67, 790, 549, 723,  60, 602, 151, 400,  22,\n",
      "                   751, 964, 198, 932, 657, 762, 136, 612, 941, 950, 649, 153, 191, 237,\n",
      "                   112, 489, 532, 766, 852, 119, 644, 706, 507, 810, 154, 913, 320, 666,\n",
      "                   527, 818,  10, 329, 196, 805, 113, 698, 718,  61, 715, 510,  79, 861,\n",
      "                     0, 247, 240,  31, 614, 678, 831, 336, 866, 179, 402, 228, 482, 133,\n",
      "                   816, 351, 761, 865, 990, 496,  82,  58, 418, 398, 160, 454, 250,  95,\n",
      "                   754, 829, 384, 407, 626, 504, 975, 880, 988, 929, 159, 102, 281, 750,\n",
      "                   940, 798, 534, 752, 985, 282, 413, 551, 360, 508,  35, 273, 803, 664,\n",
      "                   219, 403, 793, 210, 806, 702,  78, 999, 571, 180, 871, 265, 195, 299,\n",
      "                   528, 278, 518, 392, 977, 135, 849, 908, 523, 345, 366, 408, 924, 589,\n",
      "                   853, 592, 376, 310, 123, 451, 206, 125, 338, 452, 486, 158, 476, 331,\n",
      "                    91, 540, 120,  83, 502, 658, 236, 650, 199, 491, 628, 309, 566, 635,\n",
      "                   992, 796, 769, 578, 319,  72, 693, 529, 679, 378, 574, 748, 301, 516,\n",
      "                    24, 556, 175, 663,  30, 594, 333, 306, 894, 701, 961, 807,  39, 479,\n",
      "                   585, 357, 811, 728, 963, 539,  12, 225, 324, 425, 800, 105, 318, 616,\n",
      "                   143, 781, 409, 144, 792, 662, 163, 991, 340, 550, 372, 397, 722, 654,\n",
      "                   577, 819, 674, 371, 863, 267, 579, 623, 709, 322, 130, 291, 110, 490,\n",
      "                   420, 126, 485, 300, 129, 956, 410,  59, 735,  96, 270,  45],\n",
      "                  dtype=torch.int32), tensor([7, 7, 6, 1, 3, 8, 3, 5, 6, 3, 4, 0, 8, 4, 5, 5, 8, 1, 9, 9, 9, 0, 4, 0,\n",
      "                   4, 3, 5, 8, 8, 8, 7, 2, 8, 4, 6, 0, 8, 0, 2, 7, 3, 6, 5, 1, 3, 0, 5, 9,\n",
      "                   5, 3, 5, 9, 8, 0, 5, 1, 2, 2, 3, 7, 5, 6, 9, 4, 8, 0, 0, 5, 1, 5, 2, 8,\n",
      "                   6, 7, 0, 1, 9, 7, 0, 8, 7, 1, 6, 6, 6, 7, 7, 9, 9, 5, 0, 0, 7, 1, 2, 9,\n",
      "                   8, 5, 1, 0, 0, 0, 9, 9, 6, 3, 7, 8, 2, 6, 7, 7, 3, 9, 7, 8, 1, 7, 3, 2,\n",
      "                   2, 2, 0, 3, 1, 4, 8, 6, 4, 1, 2, 0, 4, 8, 2, 4, 1, 7, 7, 3, 1, 2, 7, 6,\n",
      "                   2, 5, 0, 1, 1, 6, 5, 9, 2, 9, 1, 7, 7, 6, 0, 4, 1, 3, 0, 6, 8, 3, 0, 0,\n",
      "                   7, 5, 0, 1, 0, 8, 6, 9, 4, 8, 4, 7, 6, 3, 6, 3, 5, 6, 4, 5, 7, 2, 2, 3,\n",
      "                   2, 3, 0, 7, 3, 1, 1, 8, 8, 8, 1, 7, 4, 5, 2, 7, 5, 9, 1, 9, 7, 0, 0, 5,\n",
      "                   9, 6, 4, 2, 0, 5, 6, 2, 8, 4, 0, 8, 3, 1, 0, 8, 7, 1, 2, 6, 1, 5, 8, 6,\n",
      "                   7, 0, 0, 8, 4, 8, 4, 9, 6, 3, 0, 4, 8, 2, 3, 8, 7, 8, 1, 7, 8, 7, 9, 4,\n",
      "                   8, 9, 9, 7, 7, 9, 0, 1, 0, 0, 0, 7, 1, 7, 9, 8, 3, 8, 2, 6, 9, 2, 3, 3,\n",
      "                   2, 9, 0, 5, 6, 5, 5, 9, 9, 0, 3, 2, 3, 3, 3, 4, 7, 3, 7, 2, 4, 9, 4, 9,\n",
      "                   9, 9, 4, 5, 8, 7, 7, 2, 9, 3, 7, 8, 7, 8, 9, 6, 2, 5, 6, 6, 6, 2, 7, 3,\n",
      "                   4, 0, 5, 0, 8, 7, 5, 5, 0, 3, 7, 0, 7, 1, 7, 2, 0, 2, 9, 2, 0, 3, 4, 3,\n",
      "                   0, 8, 4, 1, 6, 9, 7, 8, 7, 9, 8, 9, 1, 2, 1, 0, 8, 2, 0, 6, 1, 7, 3, 3,\n",
      "                   7, 2, 9, 2, 4, 8, 7, 4, 9, 5, 9, 3, 4, 8, 7, 9, 3, 1, 5, 1, 7, 0, 2, 7,\n",
      "                   0, 5, 4, 8, 7, 8, 4, 1, 3, 6, 2, 2, 8, 2, 7, 7, 7, 0, 5, 9, 3, 7, 6, 8,\n",
      "                   8, 7, 4, 8, 6, 9, 1, 5, 7, 6, 2, 1, 8, 5, 4, 3, 8, 9, 9, 2, 6, 0, 9, 8,\n",
      "                   3, 0, 5, 0, 9, 0, 0, 5, 1, 6, 0, 2, 0, 5, 0, 5, 1, 8, 2, 0, 8, 5, 8, 0,\n",
      "                   4, 4, 9, 1, 7, 3, 8, 8, 0, 7, 8, 3, 3, 0, 9, 4, 7, 6, 7, 6, 0, 2, 7, 5,\n",
      "                   1, 5, 4, 0, 8, 1, 7, 5, 0, 7, 3, 0, 3, 5, 3, 1, 9, 3, 2, 8, 2, 7, 0, 4,\n",
      "                   4, 0, 2, 0, 3, 9, 3, 6, 6, 6, 1, 1, 5, 7, 5, 6, 4, 7, 0, 8, 7, 7, 2, 1,\n",
      "                   5, 5, 1, 9, 0, 8, 6, 8, 6, 8, 1, 4, 2, 7, 6, 9, 3, 2, 4, 5, 3, 4, 3, 7,\n",
      "                   3, 3, 2, 5, 0, 9, 1, 1, 2, 9, 9, 4, 0, 6, 3, 0, 6, 6, 1, 0, 7, 0, 2, 4])),\n",
      "               names=('seeds', 'labels'),\n",
      "           ),\n",
      "           test_set=ItemSet(\n",
      "               items=(tensor([873, 444, 856, 587,  42,  81, 505, 742, 433, 636, 867,  54, 293, 980,\n",
      "                   140,   8,  27, 327, 328, 765, 892, 337, 789, 428, 506, 139, 983, 261,\n",
      "                   531, 725, 944, 173, 211, 558, 427, 377, 453, 641, 251, 127, 117, 763,\n",
      "                   915, 187, 673, 615, 778, 969, 297, 449, 176, 653, 870, 429,  53, 245,\n",
      "                    33,  97, 363, 570, 249, 669, 414, 424, 525,  64, 696, 984, 619,  65,\n",
      "                   633, 672,  84, 897, 200, 686,   7, 889, 255, 993,  13, 957, 116, 799,\n",
      "                   646,  68, 590, 639, 375, 263, 189, 503, 638,  93, 909, 599, 738, 481,\n",
      "                   385,  44, 164, 121,  94, 487, 925, 900,  52, 272, 864, 734,  76, 720,\n",
      "                   514, 431, 107, 731, 812, 608, 274, 466, 668, 643, 462, 962, 305, 665,\n",
      "                   438, 380, 115, 246, 185,  11,  19, 795, 922, 739, 921, 530, 212, 843,\n",
      "                   332, 711,  57, 946, 379,  63, 727,  43, 209, 509,  55, 682, 362, 740,\n",
      "                    40, 194, 584, 334, 298, 707, 601, 473, 171, 996, 703, 617, 370,  14,\n",
      "                    41, 149, 557, 926, 955, 586,  25, 296, 824, 981, 214,  23,  92, 109,\n",
      "                   677, 543,   9, 512, 536, 901, 354, 368, 401,  56, 898, 423, 456, 356,\n",
      "                   681, 443, 737, 289], dtype=torch.int32), tensor([0, 2, 7, 9, 9, 3, 2, 6, 1, 6, 1, 8, 2, 6, 5, 6, 2, 4, 2, 3, 6, 2, 3, 5,\n",
      "                   9, 7, 7, 0, 2, 4, 0, 1, 2, 3, 4, 6, 0, 1, 7, 8, 4, 3, 6, 5, 4, 8, 5, 8,\n",
      "                   9, 2, 2, 1, 0, 7, 9, 6, 1, 7, 7, 3, 8, 3, 7, 1, 4, 3, 2, 1, 0, 0, 3, 1,\n",
      "                   9, 9, 2, 4, 2, 6, 6, 4, 5, 7, 3, 6, 6, 1, 5, 5, 2, 8, 2, 0, 9, 8, 1, 6,\n",
      "                   3, 5, 0, 9, 7, 7, 3, 5, 3, 3, 5, 0, 2, 7, 7, 4, 1, 5, 2, 4, 1, 6, 3, 8,\n",
      "                   9, 0, 1, 5, 3, 3, 6, 2, 4, 9, 3, 3, 2, 7, 0, 0, 2, 1, 7, 8, 8, 0, 5, 8,\n",
      "                   1, 0, 8, 4, 2, 9, 0, 8, 6, 3, 4, 2, 3, 0, 8, 9, 1, 0, 1, 4, 7, 0, 8, 2,\n",
      "                   1, 8, 7, 7, 7, 5, 6, 0, 2, 4, 1, 7, 2, 5, 9, 5, 8, 0, 3, 2, 9, 2, 5, 2,\n",
      "                   6, 2, 4, 9, 0, 6, 8, 3])),\n",
      "               names=('seeds', 'labels'),\n",
      "           ),\n",
      "           metadata={'name': 'node_classification', 'num_classes': 10},)\n",
      "\n",
      "Loaded link prediction task: OnDiskTask(validation_set=ItemSet(\n",
      "               items=(tensor([[561,   9],\n",
      "                   [ 99, 146],\n",
      "                   [256, 244],\n",
      "                   ...,\n",
      "                   [292, 772],\n",
      "                   [292, 400],\n",
      "                   [292, 209]], dtype=torch.int32), tensor([1., 1., 1.,  ..., 0., 0., 0.], dtype=torch.float64), tensor([   0,    1,    2,  ..., 1999, 1999, 1999])),\n",
      "               names=('seeds', 'labels', 'indexes'),\n",
      "           ),\n",
      "           train_set=ItemSet(\n",
      "               items=(tensor([[184, 873],\n",
      "                   [911, 790],\n",
      "                   [464, 974],\n",
      "                   ...,\n",
      "                   [962, 866],\n",
      "                   [212, 583],\n",
      "                   [855, 399]], dtype=torch.int32),),\n",
      "               names=('seeds',),\n",
      "           ),\n",
      "           test_set=ItemSet(\n",
      "               items=(tensor([[757, 283],\n",
      "                   [801, 891],\n",
      "                   [102, 172],\n",
      "                   ...,\n",
      "                   [ 59, 924],\n",
      "                   [ 59, 276],\n",
      "                   [ 59, 347]], dtype=torch.int32), tensor([1., 1., 1.,  ..., 0., 0., 0.], dtype=torch.float64), tensor([   0,    1,    2,  ..., 1999, 1999, 1999])),\n",
      "               names=('seeds', 'labels', 'indexes'),\n",
      "           ),\n",
      "           metadata={'name': 'link_prediction', 'num_classes': 10},)\n",
      "\n"
     ]
    },
    {
     "name": "stderr",
     "output_type": "stream",
     "text": [
      "/home/ubuntu/regression_test/dgl/python/dgl/graphbolt/internal/utils.py:16: FutureWarning: You are using `torch.load` with `weights_only=False` (the current default value), which uses the default pickle module implicitly. It is possible to construct malicious pickle data which will execute arbitrary code during unpickling (See https://github.com/pytorch/pytorch/blob/main/SECURITY.md#untrusted-models for more details). In a future release, the default value for `weights_only` will be flipped to `True`. This limits the functions that could be executed during unpickling. Arbitrary objects will no longer be allowed to be loaded via this mode unless they are explicitly allowlisted by the user via `torch.serialization.add_safe_globals`. We recommend you start setting `weights_only=True` for any use case where you don't have full control of the loaded file. Please open an issue on GitHub for any issues related to this experimental feature.\n",
      "  return torch.load(path)\n",
      "/home/ubuntu/regression_test/dgl/python/dgl/graphbolt/impl/ondisk_dataset.py:460: DGLWarning: Edge feature is stored, but edge IDs are not saved.\n",
      "  dgl_warning(\"Edge feature is stored, but edge IDs are not saved.\")\n",
      "/home/ubuntu/regression_test/dgl/python/dgl/graphbolt/impl/ondisk_dataset.py:852: FutureWarning: You are using `torch.load` with `weights_only=False` (the current default value), which uses the default pickle module implicitly. It is possible to construct malicious pickle data which will execute arbitrary code during unpickling (See https://github.com/pytorch/pytorch/blob/main/SECURITY.md#untrusted-models for more details). In a future release, the default value for `weights_only` will be flipped to `True`. This limits the functions that could be executed during unpickling. Arbitrary objects will no longer be allowed to be loaded via this mode unless they are explicitly allowlisted by the user via `torch.serialization.add_safe_globals`. We recommend you start setting `weights_only=True` for any use case where you don't have full control of the loaded file. Please open an issue on GitHub for any issues related to this experimental feature.\n",
      "  return torch.load(graph_topology.path)\n"
     ]
    }
   ],
   "source": [
    "dataset = gb.OnDiskDataset(base_dir).load()\n",
    "graph = dataset.graph\n",
    "print(f\"Loaded graph: {graph}\\n\")\n",
    "\n",
    "feature = dataset.feature\n",
    "print(f\"Loaded feature store: {feature}\\n\")\n",
    "\n",
    "tasks = dataset.tasks\n",
    "nc_task = tasks[0]\n",
    "print(f\"Loaded node classification task: {nc_task}\\n\")\n",
    "lp_task = tasks[1]\n",
    "print(f\"Loaded link prediction task: {lp_task}\\n\")"
   ]
  }
 ],
 "metadata": {
  "colab": {
   "private_outputs": true,
   "provenance": []
  },
  "kernelspec": {
   "display_name": "Python 3",
   "name": "python3"
  },
  "language_info": {
   "codemirror_mode": {
    "name": "ipython",
    "version": 3
   },
   "file_extension": ".py",
   "mimetype": "text/x-python",
   "name": "python",
   "nbconvert_exporter": "python",
   "pygments_lexer": "ipython3",
   "version": "3.10.14"
  }
 },
 "nbformat": 4,
 "nbformat_minor": 0
}

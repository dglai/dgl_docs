{
 "cells": [
  {
   "cell_type": "markdown",
   "metadata": {
    "id": "FnFhPMaAfLtJ"
   },
   "source": [
    "# OnDiskDataset for Homogeneous Graph\n",
    "\n",
    "[![Open In Colab](https://colab.research.google.com/assets/colab-badge.svg)](https://colab.research.google.com/github/dmlc/dgl/blob/master/notebooks/stochastic_training/ondisk_dataset_homograph.ipynb) [![GitHub](https://img.shields.io/badge/-View%20on%20GitHub-181717?logo=github&logoColor=ffffff)](https://github.com/dmlc/dgl/blob/master/notebooks/stochastic_training/ondisk_dataset_homograph.ipynb)\n",
    "\n",
    "This tutorial shows how to create `OnDiskDataset` for homogeneous graph that could be used in **GraphBolt** framework.\n",
    "\n",
    "By the end of this tutorial, you will be able to\n",
    "\n",
    "- organize graph structure data.\n",
    "- organize feature data.\n",
    "- organize training/validation/test set for specific tasks.\n",
    "\n",
    "To create an ``OnDiskDataset`` object, you need to organize all the data including graph structure, feature data and tasks into a directory. The directory should contain a ``metadata.yaml`` file that describes the metadata of the dataset.\n",
    "\n",
    "Now let's generate various data step by step and organize them together to instantiate `OnDiskDataset` finally."
   ]
  },
  {
   "cell_type": "markdown",
   "metadata": {
    "id": "Wlb19DtWgtzq"
   },
   "source": [
    "## Install DGL package"
   ]
  },
  {
   "cell_type": "code",
   "execution_count": 1,
   "metadata": {
    "execution": {
     "iopub.execute_input": "2024-09-02T05:20:04.215840Z",
     "iopub.status.busy": "2024-09-02T05:20:04.215539Z",
     "iopub.status.idle": "2024-09-02T05:20:08.023330Z",
     "shell.execute_reply": "2024-09-02T05:20:08.022572Z"
    },
    "id": "UojlT9ZGgyr9"
   },
   "outputs": [
    {
     "name": "stdout",
     "output_type": "stream",
     "text": [
      "Looking in links: https://data.dgl.ai/wheels-test/repo.html\r\n",
      "Requirement already satisfied: dgl in /opt/conda/envs/dgl-dev-cpu/lib/python3.10/site-packages (2.2a240410)\r\n",
      "Requirement already satisfied: numpy>=1.14.0 in /opt/conda/envs/dgl-dev-cpu/lib/python3.10/site-packages (from dgl) (1.26.4)\r\n",
      "Requirement already satisfied: scipy>=1.1.0 in /opt/conda/envs/dgl-dev-cpu/lib/python3.10/site-packages (from dgl) (1.14.0)\r\n",
      "Requirement already satisfied: networkx>=2.1 in /opt/conda/envs/dgl-dev-cpu/lib/python3.10/site-packages (from dgl) (3.3)\r\n",
      "Requirement already satisfied: requests>=2.19.0 in /opt/conda/envs/dgl-dev-cpu/lib/python3.10/site-packages (from dgl) (2.32.3)\r\n",
      "Requirement already satisfied: tqdm in /opt/conda/envs/dgl-dev-cpu/lib/python3.10/site-packages (from dgl) (4.66.5)\r\n",
      "Requirement already satisfied: psutil>=5.8.0 in /opt/conda/envs/dgl-dev-cpu/lib/python3.10/site-packages (from dgl) (6.0.0)\r\n",
      "Requirement already satisfied: torchdata>=0.5.0 in /opt/conda/envs/dgl-dev-cpu/lib/python3.10/site-packages (from dgl) (0.7.1)\r\n",
      "Requirement already satisfied: pandas in /opt/conda/envs/dgl-dev-cpu/lib/python3.10/site-packages (from dgl) (2.2.2)\r\n"
     ]
    },
    {
     "name": "stdout",
     "output_type": "stream",
     "text": [
      "Requirement already satisfied: charset-normalizer<4,>=2 in /opt/conda/envs/dgl-dev-cpu/lib/python3.10/site-packages (from requests>=2.19.0->dgl) (3.3.2)\r\n",
      "Requirement already satisfied: idna<4,>=2.5 in /opt/conda/envs/dgl-dev-cpu/lib/python3.10/site-packages (from requests>=2.19.0->dgl) (3.8)\r\n",
      "Requirement already satisfied: urllib3<3,>=1.21.1 in /opt/conda/envs/dgl-dev-cpu/lib/python3.10/site-packages (from requests>=2.19.0->dgl) (2.2.2)\r\n",
      "Requirement already satisfied: certifi>=2017.4.17 in /opt/conda/envs/dgl-dev-cpu/lib/python3.10/site-packages (from requests>=2.19.0->dgl) (2024.7.4)\r\n",
      "Requirement already satisfied: torch>=2 in /opt/conda/envs/dgl-dev-cpu/lib/python3.10/site-packages (from torchdata>=0.5.0->dgl) (2.4.0+cpu)\r\n"
     ]
    },
    {
     "name": "stdout",
     "output_type": "stream",
     "text": [
      "Requirement already satisfied: python-dateutil>=2.8.2 in /opt/conda/envs/dgl-dev-cpu/lib/python3.10/site-packages (from pandas->dgl) (2.9.0.post0)\r\n",
      "Requirement already satisfied: pytz>=2020.1 in /opt/conda/envs/dgl-dev-cpu/lib/python3.10/site-packages (from pandas->dgl) (2024.1)\r\n",
      "Requirement already satisfied: tzdata>=2022.7 in /opt/conda/envs/dgl-dev-cpu/lib/python3.10/site-packages (from pandas->dgl) (2024.1)\r\n",
      "Requirement already satisfied: six>=1.5 in /opt/conda/envs/dgl-dev-cpu/lib/python3.10/site-packages (from python-dateutil>=2.8.2->pandas->dgl) (1.16.0)\r\n",
      "Requirement already satisfied: filelock in /opt/conda/envs/dgl-dev-cpu/lib/python3.10/site-packages (from torch>=2->torchdata>=0.5.0->dgl) (3.15.4)\r\n",
      "Requirement already satisfied: typing-extensions>=4.8.0 in /opt/conda/envs/dgl-dev-cpu/lib/python3.10/site-packages (from torch>=2->torchdata>=0.5.0->dgl) (4.12.2)\r\n",
      "Requirement already satisfied: sympy in /opt/conda/envs/dgl-dev-cpu/lib/python3.10/site-packages (from torch>=2->torchdata>=0.5.0->dgl) (1.13.2)\r\n",
      "Requirement already satisfied: jinja2 in /opt/conda/envs/dgl-dev-cpu/lib/python3.10/site-packages (from torch>=2->torchdata>=0.5.0->dgl) (3.1.4)\r\n",
      "Requirement already satisfied: fsspec in /opt/conda/envs/dgl-dev-cpu/lib/python3.10/site-packages (from torch>=2->torchdata>=0.5.0->dgl) (2024.6.1)\r\n"
     ]
    },
    {
     "name": "stdout",
     "output_type": "stream",
     "text": [
      "Requirement already satisfied: MarkupSafe>=2.0 in /opt/conda/envs/dgl-dev-cpu/lib/python3.10/site-packages (from jinja2->torch>=2->torchdata>=0.5.0->dgl) (2.1.5)\r\n",
      "Requirement already satisfied: mpmath<1.4,>=1.1.0 in /opt/conda/envs/dgl-dev-cpu/lib/python3.10/site-packages (from sympy->torch>=2->torchdata>=0.5.0->dgl) (1.3.0)\r\n"
     ]
    },
    {
     "name": "stderr",
     "output_type": "stream",
     "text": [
      "/home/ubuntu/regression_test/dgl/python/dgl/graphbolt/base.py:81: FutureWarning: `torch.library.impl_abstract` was renamed to `torch.library.register_fake`. Please use that instead; we will remove `torch.library.impl_abstract` in a future version of PyTorch.\n",
      "  @torch.library.impl_abstract(\"graphbolt::expand_indptr\")\n"
     ]
    },
    {
     "name": "stdout",
     "output_type": "stream",
     "text": [
      "DGL installed!\n"
     ]
    }
   ],
   "source": [
    "# Install required packages.\n",
    "import os\n",
    "import torch\n",
    "import numpy as np\n",
    "os.environ['TORCH'] = torch.__version__\n",
    "os.environ['DGLBACKEND'] = \"pytorch\"\n",
    "\n",
    "# Install the CPU version.\n",
    "device = torch.device(\"cpu\")\n",
    "!pip install --pre dgl -f https://data.dgl.ai/wheels-test/repo.html\n",
    "\n",
    "try:\n",
    "    import dgl\n",
    "    import dgl.graphbolt as gb\n",
    "    installed = True\n",
    "except ImportError as error:\n",
    "    installed = False\n",
    "    print(error)\n",
    "print(\"DGL installed!\" if installed else \"DGL not found!\")"
   ]
  },
  {
   "cell_type": "markdown",
   "metadata": {
    "id": "2R7WnSbjsfbr"
   },
   "source": [
    "## Data preparation\n",
    "In order to demonstrate how to organize various data, let's create a base directory first."
   ]
  },
  {
   "cell_type": "code",
   "execution_count": 2,
   "metadata": {
    "execution": {
     "iopub.execute_input": "2024-09-02T05:20:08.026362Z",
     "iopub.status.busy": "2024-09-02T05:20:08.025781Z",
     "iopub.status.idle": "2024-09-02T05:20:08.029848Z",
     "shell.execute_reply": "2024-09-02T05:20:08.029097Z"
    },
    "id": "SZipbzyltLfO"
   },
   "outputs": [
    {
     "name": "stdout",
     "output_type": "stream",
     "text": [
      "Created base directory: ./ondisk_dataset_homograph\n"
     ]
    }
   ],
   "source": [
    "base_dir = './ondisk_dataset_homograph'\n",
    "os.makedirs(base_dir, exist_ok=True)\n",
    "print(f\"Created base directory: {base_dir}\")"
   ]
  },
  {
   "cell_type": "markdown",
   "metadata": {
    "id": "qhNtIn_xhlnl"
   },
   "source": [
    "### Generate graph structure data\n",
    "For homogeneous graph, we just need to save edges(namely seeds) into  **Numpy** or **CSV** file.\n",
    "\n",
    "Note:\n",
    "- when saving to **Numpy**, the array requires to be in shape of `(2, N)`. This format is recommended as constructing graph from it is much faster than **CSV** file.\n",
    "- when saving to **CSV** file, do not save index and header.\n"
   ]
  },
  {
   "cell_type": "code",
   "execution_count": 3,
   "metadata": {
    "execution": {
     "iopub.execute_input": "2024-09-02T05:20:08.032369Z",
     "iopub.status.busy": "2024-09-02T05:20:08.031996Z",
     "iopub.status.idle": "2024-09-02T05:20:08.044948Z",
     "shell.execute_reply": "2024-09-02T05:20:08.044295Z"
    },
    "id": "HcBt4G5BmSjr"
   },
   "outputs": [
    {
     "name": "stdout",
     "output_type": "stream",
     "text": [
      "Part of edges: [[307 557]\n",
      " [936 497]\n",
      " [549 277]\n",
      " [184  71]\n",
      " [555 106]]\n",
      "Edges are saved into ./ondisk_dataset_homograph/edges.csv\n"
     ]
    }
   ],
   "source": [
    "import numpy as np\n",
    "import pandas as pd\n",
    "num_nodes = 1000\n",
    "num_edges = 10 * num_nodes\n",
    "edges_path = os.path.join(base_dir, \"edges.csv\")\n",
    "edges = np.random.randint(0, num_nodes, size=(num_edges, 2))\n",
    "\n",
    "print(f\"Part of edges: {edges[:5, :]}\")\n",
    "\n",
    "df = pd.DataFrame(edges)\n",
    "df.to_csv(edges_path, index=False, header=False)\n",
    "\n",
    "print(f\"Edges are saved into {edges_path}\")"
   ]
  },
  {
   "cell_type": "markdown",
   "metadata": {
    "id": "kh-4cPtzpcaH"
   },
   "source": [
    "### Generate feature data for graph\n",
    "For feature data, numpy arrays and torch tensors are supported for now."
   ]
  },
  {
   "cell_type": "code",
   "execution_count": 4,
   "metadata": {
    "execution": {
     "iopub.execute_input": "2024-09-02T05:20:08.047510Z",
     "iopub.status.busy": "2024-09-02T05:20:08.047091Z",
     "iopub.status.idle": "2024-09-02T05:20:08.078184Z",
     "shell.execute_reply": "2024-09-02T05:20:08.077678Z"
    },
    "id": "_PVu1u5brBhF"
   },
   "outputs": [
    {
     "name": "stdout",
     "output_type": "stream",
     "text": [
      "Part of node feature [feat_0]: [[0.0388525  0.11509242 0.74031974 0.2752928  0.36011394]\n",
      " [0.89414137 0.87427738 0.82935938 0.11862745 0.99972797]\n",
      " [0.99335047 0.33754954 0.4362131  0.83475757 0.96644288]]\n",
      "Node feature [feat_0] is saved to ./ondisk_dataset_homograph/node-feat-0.npy\n",
      "\n",
      "Part of node feature [feat_1]: tensor([[0.6076, 0.8042, 0.1577, 0.0249, 0.8641],\n",
      "        [0.7138, 0.4841, 0.4895, 0.1204, 0.6922],\n",
      "        [0.8639, 0.2112, 0.8862, 0.8124, 0.7026]])\n",
      "Node feature [feat_1] is saved to ./ondisk_dataset_homograph/node-feat-1.pt\n",
      "\n",
      "Part of edge feature [feat_0]: [[0.88696966 0.2037887  0.71512122 0.64822703 0.10987362]\n",
      " [0.26042149 0.80722984 0.97053851 0.11353521 0.17778659]\n",
      " [0.79099877 0.06207708 0.91640655 0.97291031 0.69752233]]\n",
      "Edge feature [feat_0] is saved to ./ondisk_dataset_homograph/edge-feat-0.npy\n",
      "\n",
      "Part of edge feature [feat_1]: tensor([[0.9017, 0.9065, 0.5055, 0.0378, 0.9282],\n",
      "        [0.0033, 0.7802, 0.0465, 0.3628, 0.8633],\n",
      "        [0.1973, 0.9314, 0.0575, 0.2104, 0.5865]])\n",
      "Edge feature [feat_1] is saved to ./ondisk_dataset_homograph/edge-feat-1.pt\n",
      "\n"
     ]
    }
   ],
   "source": [
    "# Generate node feature in numpy array.\n",
    "node_feat_0_path = os.path.join(base_dir, \"node-feat-0.npy\")\n",
    "node_feat_0 = np.random.rand(num_nodes, 5)\n",
    "print(f\"Part of node feature [feat_0]: {node_feat_0[:3, :]}\")\n",
    "np.save(node_feat_0_path, node_feat_0)\n",
    "print(f\"Node feature [feat_0] is saved to {node_feat_0_path}\\n\")\n",
    "\n",
    "# Generate another node feature in torch tensor\n",
    "node_feat_1_path = os.path.join(base_dir, \"node-feat-1.pt\")\n",
    "node_feat_1 = torch.rand(num_nodes, 5)\n",
    "print(f\"Part of node feature [feat_1]: {node_feat_1[:3, :]}\")\n",
    "torch.save(node_feat_1, node_feat_1_path)\n",
    "print(f\"Node feature [feat_1] is saved to {node_feat_1_path}\\n\")\n",
    "\n",
    "# Generate edge feature in numpy array.\n",
    "edge_feat_0_path = os.path.join(base_dir, \"edge-feat-0.npy\")\n",
    "edge_feat_0 = np.random.rand(num_edges, 5)\n",
    "print(f\"Part of edge feature [feat_0]: {edge_feat_0[:3, :]}\")\n",
    "np.save(edge_feat_0_path, edge_feat_0)\n",
    "print(f\"Edge feature [feat_0] is saved to {edge_feat_0_path}\\n\")\n",
    "\n",
    "# Generate another edge feature in torch tensor\n",
    "edge_feat_1_path = os.path.join(base_dir, \"edge-feat-1.pt\")\n",
    "edge_feat_1 = torch.rand(num_edges, 5)\n",
    "print(f\"Part of edge feature [feat_1]: {edge_feat_1[:3, :]}\")\n",
    "torch.save(edge_feat_1, edge_feat_1_path)\n",
    "print(f\"Edge feature [feat_1] is saved to {edge_feat_1_path}\\n\")\n"
   ]
  },
  {
   "cell_type": "markdown",
   "metadata": {
    "id": "ZyqgOtsIwzh_"
   },
   "source": [
    "### Generate tasks\n",
    "`OnDiskDataset` supports multiple tasks. For each task, we need to prepare training/validation/test sets respectively. Such sets usually vary among different tasks. In this tutorial, let's create a **Node Classification** task and **Link Prediction** task."
   ]
  },
  {
   "cell_type": "markdown",
   "metadata": {
    "id": "hVxHaDIfzCkr"
   },
   "source": [
    "#### Node Classification Task\n",
    "For node classification task, we need **node IDs** and corresponding **labels** for each training/validation/test set. Like feature data, numpy arrays and torch tensors are supported for these sets."
   ]
  },
  {
   "cell_type": "code",
   "execution_count": 5,
   "metadata": {
    "execution": {
     "iopub.execute_input": "2024-09-02T05:20:08.080539Z",
     "iopub.status.busy": "2024-09-02T05:20:08.080210Z",
     "iopub.status.idle": "2024-09-02T05:20:08.089853Z",
     "shell.execute_reply": "2024-09-02T05:20:08.089360Z"
    },
    "id": "S5-fyBbHzTCO"
   },
   "outputs": [
    {
     "name": "stdout",
     "output_type": "stream",
     "text": [
      "Part of train ids for node classification: [ 69 270 864]\n",
      "NC train ids are saved to ./ondisk_dataset_homograph/nc-train-ids.npy\n",
      "\n",
      "Part of train labels for node classification: tensor([7, 5, 4])\n",
      "NC train labels are saved to ./ondisk_dataset_homograph/nc-train-labels.pt\n",
      "\n",
      "Part of val ids for node classification: [666 558 572]\n",
      "NC val ids are saved to ./ondisk_dataset_homograph/nc-val-ids.npy\n",
      "\n",
      "Part of val labels for node classification: tensor([6, 2, 9])\n",
      "NC val labels are saved to ./ondisk_dataset_homograph/nc-val-labels.pt\n",
      "\n",
      "Part of test ids for node classification: [110  96 179]\n",
      "NC test ids are saved to ./ondisk_dataset_homograph/nc-test-ids.npy\n",
      "\n",
      "Part of test labels for node classification: tensor([3, 2, 0])\n",
      "NC test labels are saved to ./ondisk_dataset_homograph/nc-test-labels.pt\n",
      "\n"
     ]
    }
   ],
   "source": [
    "num_trains = int(num_nodes * 0.6)\n",
    "num_vals = int(num_nodes * 0.2)\n",
    "num_tests = num_nodes - num_trains - num_vals\n",
    "\n",
    "ids = np.arange(num_nodes)\n",
    "np.random.shuffle(ids)\n",
    "\n",
    "nc_train_ids_path = os.path.join(base_dir, \"nc-train-ids.npy\")\n",
    "nc_train_ids = ids[:num_trains]\n",
    "print(f\"Part of train ids for node classification: {nc_train_ids[:3]}\")\n",
    "np.save(nc_train_ids_path, nc_train_ids)\n",
    "print(f\"NC train ids are saved to {nc_train_ids_path}\\n\")\n",
    "\n",
    "nc_train_labels_path = os.path.join(base_dir, \"nc-train-labels.pt\")\n",
    "nc_train_labels = torch.randint(0, 10, (num_trains,))\n",
    "print(f\"Part of train labels for node classification: {nc_train_labels[:3]}\")\n",
    "torch.save(nc_train_labels, nc_train_labels_path)\n",
    "print(f\"NC train labels are saved to {nc_train_labels_path}\\n\")\n",
    "\n",
    "nc_val_ids_path = os.path.join(base_dir, \"nc-val-ids.npy\")\n",
    "nc_val_ids = ids[num_trains:num_trains+num_vals]\n",
    "print(f\"Part of val ids for node classification: {nc_val_ids[:3]}\")\n",
    "np.save(nc_val_ids_path, nc_val_ids)\n",
    "print(f\"NC val ids are saved to {nc_val_ids_path}\\n\")\n",
    "\n",
    "nc_val_labels_path = os.path.join(base_dir, \"nc-val-labels.pt\")\n",
    "nc_val_labels = torch.randint(0, 10, (num_vals,))\n",
    "print(f\"Part of val labels for node classification: {nc_val_labels[:3]}\")\n",
    "torch.save(nc_val_labels, nc_val_labels_path)\n",
    "print(f\"NC val labels are saved to {nc_val_labels_path}\\n\")\n",
    "\n",
    "nc_test_ids_path = os.path.join(base_dir, \"nc-test-ids.npy\")\n",
    "nc_test_ids = ids[-num_tests:]\n",
    "print(f\"Part of test ids for node classification: {nc_test_ids[:3]}\")\n",
    "np.save(nc_test_ids_path, nc_test_ids)\n",
    "print(f\"NC test ids are saved to {nc_test_ids_path}\\n\")\n",
    "\n",
    "nc_test_labels_path = os.path.join(base_dir, \"nc-test-labels.pt\")\n",
    "nc_test_labels = torch.randint(0, 10, (num_tests,))\n",
    "print(f\"Part of test labels for node classification: {nc_test_labels[:3]}\")\n",
    "torch.save(nc_test_labels, nc_test_labels_path)\n",
    "print(f\"NC test labels are saved to {nc_test_labels_path}\\n\")"
   ]
  },
  {
   "cell_type": "markdown",
   "metadata": {
    "id": "LhAcDCHQ_KJ0"
   },
   "source": [
    "#### Link Prediction Task\n",
    "For link prediction task, we need **seeds** or **corresponding labels and indexes** which representing the pos/neg property and group of the seeds for each training/validation/test set. Like feature data, numpy arrays and torch tensors are supported for these sets."
   ]
  },
  {
   "cell_type": "code",
   "execution_count": 6,
   "metadata": {
    "execution": {
     "iopub.execute_input": "2024-09-02T05:20:08.092179Z",
     "iopub.status.busy": "2024-09-02T05:20:08.091802Z",
     "iopub.status.idle": "2024-09-02T05:20:08.107995Z",
     "shell.execute_reply": "2024-09-02T05:20:08.107496Z"
    },
    "id": "u0jCnXIcAQy4"
   },
   "outputs": [
    {
     "name": "stdout",
     "output_type": "stream",
     "text": [
      "Part of train seeds for link prediction: [[307 557]\n",
      " [936 497]\n",
      " [549 277]]\n",
      "LP train seeds are saved to ./ondisk_dataset_homograph/lp-train-seeds.npy\n",
      "\n",
      "Part of val seeds for link prediction: [[174 604]\n",
      " [824 551]\n",
      " [ 74 618]]\n",
      "LP val seeds are saved to ./ondisk_dataset_homograph/lp-val-seeds.npy\n",
      "\n",
      "Part of val labels for link prediction: [1. 1. 1.]\n",
      "LP val labels are saved to ./ondisk_dataset_homograph/lp-val-labels.npy\n",
      "\n",
      "Part of val indexes for link prediction: [0 1 2]\n",
      "LP val indexes are saved to ./ondisk_dataset_homograph/lp-val-indexes.npy\n",
      "\n",
      "Part of test seeds for link prediction: [[769 504]\n",
      " [311 124]\n",
      " [156 354]]\n",
      "LP test seeds are saved to ./ondisk_dataset_homograph/lp-test-seeds.npy\n",
      "\n",
      "Part of val labels for link prediction: [1. 1. 1.]\n",
      "LP test labels are saved to ./ondisk_dataset_homograph/lp-test-labels.npy\n",
      "\n",
      "Part of test indexes for link prediction: [0 1 2]\n",
      "LP test indexes are saved to ./ondisk_dataset_homograph/lp-test-indexes.npy\n",
      "\n"
     ]
    }
   ],
   "source": [
    "num_trains = int(num_edges * 0.6)\n",
    "num_vals = int(num_edges * 0.2)\n",
    "num_tests = num_edges - num_trains - num_vals\n",
    "\n",
    "lp_train_seeds_path = os.path.join(base_dir, \"lp-train-seeds.npy\")\n",
    "lp_train_seeds = edges[:num_trains, :]\n",
    "print(f\"Part of train seeds for link prediction: {lp_train_seeds[:3]}\")\n",
    "np.save(lp_train_seeds_path, lp_train_seeds)\n",
    "print(f\"LP train seeds are saved to {lp_train_seeds_path}\\n\")\n",
    "\n",
    "lp_val_seeds_path = os.path.join(base_dir, \"lp-val-seeds.npy\")\n",
    "lp_val_seeds = edges[num_trains:num_trains+num_vals, :]\n",
    "lp_val_neg_dsts = np.random.randint(0, num_nodes, (num_vals, 10)).reshape(-1)\n",
    "lp_val_neg_srcs = np.repeat(lp_val_seeds[:,0], 10)\n",
    "lp_val_neg_seeds = np.concatenate((lp_val_neg_srcs, lp_val_neg_dsts)).reshape(2,-1).T\n",
    "lp_val_seeds = np.concatenate((lp_val_seeds, lp_val_neg_seeds))\n",
    "print(f\"Part of val seeds for link prediction: {lp_val_seeds[:3]}\")\n",
    "np.save(lp_val_seeds_path, lp_val_seeds)\n",
    "print(f\"LP val seeds are saved to {lp_val_seeds_path}\\n\")\n",
    "\n",
    "lp_val_labels_path = os.path.join(base_dir, \"lp-val-labels.npy\")\n",
    "lp_val_labels = np.empty(num_vals * (10 + 1))\n",
    "lp_val_labels[:num_vals] = 1\n",
    "lp_val_labels[num_vals:] = 0\n",
    "print(f\"Part of val labels for link prediction: {lp_val_labels[:3]}\")\n",
    "np.save(lp_val_labels_path, lp_val_labels)\n",
    "print(f\"LP val labels are saved to {lp_val_labels_path}\\n\")\n",
    "\n",
    "lp_val_indexes_path = os.path.join(base_dir, \"lp-val-indexes.npy\")\n",
    "lp_val_indexes = np.arange(0, num_vals)\n",
    "lp_val_neg_indexes = np.repeat(lp_val_indexes, 10)\n",
    "lp_val_indexes = np.concatenate([lp_val_indexes, lp_val_neg_indexes])\n",
    "print(f\"Part of val indexes for link prediction: {lp_val_indexes[:3]}\")\n",
    "np.save(lp_val_indexes_path, lp_val_indexes)\n",
    "print(f\"LP val indexes are saved to {lp_val_indexes_path}\\n\")\n",
    "\n",
    "lp_test_seeds_path = os.path.join(base_dir, \"lp-test-seeds.npy\")\n",
    "lp_test_seeds = edges[-num_tests:, :]\n",
    "lp_test_neg_dsts = np.random.randint(0, num_nodes, (num_tests, 10)).reshape(-1)\n",
    "lp_test_neg_srcs = np.repeat(lp_test_seeds[:,0], 10)\n",
    "lp_test_neg_seeds = np.concatenate((lp_test_neg_srcs, lp_test_neg_dsts)).reshape(2,-1).T\n",
    "lp_test_seeds = np.concatenate((lp_test_seeds, lp_test_neg_seeds))\n",
    "print(f\"Part of test seeds for link prediction: {lp_test_seeds[:3]}\")\n",
    "np.save(lp_test_seeds_path, lp_test_seeds)\n",
    "print(f\"LP test seeds are saved to {lp_test_seeds_path}\\n\")\n",
    "\n",
    "lp_test_labels_path = os.path.join(base_dir, \"lp-test-labels.npy\")\n",
    "lp_test_labels = np.empty(num_tests * (10 + 1))\n",
    "lp_test_labels[:num_tests] = 1\n",
    "lp_test_labels[num_tests:] = 0\n",
    "print(f\"Part of val labels for link prediction: {lp_test_labels[:3]}\")\n",
    "np.save(lp_test_labels_path, lp_test_labels)\n",
    "print(f\"LP test labels are saved to {lp_test_labels_path}\\n\")\n",
    "\n",
    "lp_test_indexes_path = os.path.join(base_dir, \"lp-test-indexes.npy\")\n",
    "lp_test_indexes = np.arange(0, num_tests)\n",
    "lp_test_neg_indexes = np.repeat(lp_test_indexes, 10)\n",
    "lp_test_indexes = np.concatenate([lp_test_indexes, lp_test_neg_indexes])\n",
    "print(f\"Part of test indexes for link prediction: {lp_test_indexes[:3]}\")\n",
    "np.save(lp_test_indexes_path, lp_test_indexes)\n",
    "print(f\"LP test indexes are saved to {lp_test_indexes_path}\\n\")"
   ]
  },
  {
   "cell_type": "markdown",
   "metadata": {
    "id": "wbk6-wxRK-6S"
   },
   "source": [
    "## Organize Data into YAML File\n",
    "Now we need to create a `metadata.yaml` file which contains the paths, dadta types of graph structure, feature data, training/validation/test sets.\n",
    "\n",
    "Notes:\n",
    "- all path should be relative to `metadata.yaml`.\n",
    "- Below fields are optional and not specified in below example.\n",
    "  - `in_memory`: indicates whether to load dada into memory or `mmap`. Default is `True`.\n",
    "\n",
    "Please refer to [YAML specification](https://github.com/dmlc/dgl/blob/master/docs/source/stochastic_training/ondisk-dataset-specification.rst) for more details."
   ]
  },
  {
   "cell_type": "code",
   "execution_count": 7,
   "metadata": {
    "execution": {
     "iopub.execute_input": "2024-09-02T05:20:08.110209Z",
     "iopub.status.busy": "2024-09-02T05:20:08.110010Z",
     "iopub.status.idle": "2024-09-02T05:20:08.115056Z",
     "shell.execute_reply": "2024-09-02T05:20:08.114560Z"
    },
    "id": "ddGTWW61Lpwp"
   },
   "outputs": [],
   "source": [
    "yaml_content = f\"\"\"\n",
    "    dataset_name: homogeneous_graph_nc_lp\n",
    "    graph:\n",
    "      nodes:\n",
    "        - num: {num_nodes}\n",
    "      edges:\n",
    "        - format: csv\n",
    "          path: {os.path.basename(edges_path)}\n",
    "    feature_data:\n",
    "      - domain: node\n",
    "        name: feat_0\n",
    "        format: numpy\n",
    "        path: {os.path.basename(node_feat_0_path)}\n",
    "      - domain: node\n",
    "        name: feat_1\n",
    "        format: torch\n",
    "        path: {os.path.basename(node_feat_1_path)}\n",
    "      - domain: edge\n",
    "        name: feat_0\n",
    "        format: numpy\n",
    "        path: {os.path.basename(edge_feat_0_path)}\n",
    "      - domain: edge\n",
    "        name: feat_1\n",
    "        format: torch\n",
    "        path: {os.path.basename(edge_feat_1_path)}\n",
    "    tasks:\n",
    "      - name: node_classification\n",
    "        num_classes: 10\n",
    "        train_set:\n",
    "          - data:\n",
    "              - name: seeds\n",
    "                format: numpy\n",
    "                path: {os.path.basename(nc_train_ids_path)}\n",
    "              - name: labels\n",
    "                format: torch\n",
    "                path: {os.path.basename(nc_train_labels_path)}\n",
    "        validation_set:\n",
    "          - data:\n",
    "              - name: seeds\n",
    "                format: numpy\n",
    "                path: {os.path.basename(nc_val_ids_path)}\n",
    "              - name: labels\n",
    "                format: torch\n",
    "                path: {os.path.basename(nc_val_labels_path)}\n",
    "        test_set:\n",
    "          - data:\n",
    "              - name: seeds\n",
    "                format: numpy\n",
    "                path: {os.path.basename(nc_test_ids_path)}\n",
    "              - name: labels\n",
    "                format: torch\n",
    "                path: {os.path.basename(nc_test_labels_path)}\n",
    "      - name: link_prediction\n",
    "        num_classes: 10\n",
    "        train_set:\n",
    "          - data:\n",
    "              - name: seeds\n",
    "                format: numpy\n",
    "                path: {os.path.basename(lp_train_seeds_path)}\n",
    "        validation_set:\n",
    "          - data:\n",
    "              - name: seeds\n",
    "                format: numpy\n",
    "                path: {os.path.basename(lp_val_seeds_path)}\n",
    "              - name: labels\n",
    "                format: numpy\n",
    "                path: {os.path.basename(lp_val_labels_path)}\n",
    "              - name: indexes\n",
    "                format: numpy\n",
    "                path: {os.path.basename(lp_val_indexes_path)}\n",
    "        test_set:\n",
    "          - data:\n",
    "              - name: seeds\n",
    "                format: numpy\n",
    "                path: {os.path.basename(lp_test_seeds_path)}\n",
    "              - name: labels\n",
    "                format: numpy\n",
    "                path: {os.path.basename(lp_test_labels_path)}\n",
    "              - name: indexes\n",
    "                format: numpy\n",
    "                path: {os.path.basename(lp_test_indexes_path)}\n",
    "\"\"\"\n",
    "metadata_path = os.path.join(base_dir, \"metadata.yaml\")\n",
    "with open(metadata_path, \"w\") as f:\n",
    "  f.write(yaml_content)"
   ]
  },
  {
   "cell_type": "markdown",
   "metadata": {
    "id": "kEfybHGhOW7O"
   },
   "source": [
    "## Instantiate `OnDiskDataset`\n",
    "Now we're ready to load dataset via `dgl.graphbolt.OnDiskDataset`. When instantiating, we just pass in the base directory where `metadata.yaml` file lies.\n",
    "\n",
    "During first instantiation, GraphBolt preprocesses the raw data such as constructing `FusedCSCSamplingGraph` from edges. All data including graph, feature data, training/validation/test sets are put into `preprocessed` directory after preprocessing. Any following dataset loading will skip the preprocess stage.\n",
    "\n",
    "After preprocessing, `load()` is required to be called explicitly in order to load graph, feature data and tasks."
   ]
  },
  {
   "cell_type": "code",
   "execution_count": 8,
   "metadata": {
    "execution": {
     "iopub.execute_input": "2024-09-02T05:20:08.117178Z",
     "iopub.status.busy": "2024-09-02T05:20:08.116877Z",
     "iopub.status.idle": "2024-09-02T05:20:08.197623Z",
     "shell.execute_reply": "2024-09-02T05:20:08.197078Z"
    },
    "id": "W58CZoSzOiyo"
   },
   "outputs": [
    {
     "name": "stdout",
     "output_type": "stream",
     "text": [
      "The on-disk dataset is re-preprocessing, so the existing preprocessed dataset has been removed.\n",
      "Start to preprocess the on-disk dataset.\n",
      "Finish preprocessing the on-disk dataset.\n",
      "Loaded graph: FusedCSCSamplingGraph(csc_indptr=tensor([    0,     5,    17,  ...,  9974,  9990, 10000], dtype=torch.int32),\n",
      "                      indices=tensor([881, 154,  99,  ..., 853, 822, 851], dtype=torch.int32),\n",
      "                      total_num_nodes=1000, num_edges=10000,)\n",
      "\n",
      "Loaded feature store: TorchBasedFeatureStore(\n",
      "    {(<OnDiskFeatureDataDomain.NODE: 'node'>, None, 'feat_0'): TorchBasedFeature(\n",
      "        feature=tensor([[0.0389, 0.1151, 0.7403, 0.2753, 0.3601],\n",
      "                        [0.8941, 0.8743, 0.8294, 0.1186, 0.9997],\n",
      "                        [0.9934, 0.3375, 0.4362, 0.8348, 0.9664],\n",
      "                        ...,\n",
      "                        [0.6693, 0.1942, 0.8950, 0.6106, 0.5368],\n",
      "                        [0.9566, 0.8385, 0.2998, 0.6443, 0.7347],\n",
      "                        [0.4169, 0.7332, 0.7537, 0.7205, 0.0259]], dtype=torch.float64),\n",
      "        metadata={},\n",
      "    ), (<OnDiskFeatureDataDomain.NODE: 'node'>, None, 'feat_1'): TorchBasedFeature(\n",
      "        feature=tensor([[0.6076, 0.8042, 0.1577, 0.0249, 0.8641],\n",
      "                        [0.7138, 0.4841, 0.4895, 0.1204, 0.6922],\n",
      "                        [0.8639, 0.2112, 0.8862, 0.8124, 0.7026],\n",
      "                        ...,\n",
      "                        [0.8740, 0.4942, 0.7930, 0.7240, 0.8968],\n",
      "                        [0.1665, 0.9377, 0.5827, 0.5938, 0.8683],\n",
      "                        [0.8426, 0.1501, 0.6236, 0.1101, 0.8094]]),\n",
      "        metadata={},\n",
      "    ), (<OnDiskFeatureDataDomain.EDGE: 'edge'>, None, 'feat_0'): TorchBasedFeature(\n",
      "        feature=tensor([[0.8870, 0.2038, 0.7151, 0.6482, 0.1099],\n",
      "                        [0.2604, 0.8072, 0.9705, 0.1135, 0.1778],\n",
      "                        [0.7910, 0.0621, 0.9164, 0.9729, 0.6975],\n",
      "                        ...,\n",
      "                        [0.0796, 0.7840, 0.1750, 0.1306, 0.0946],\n",
      "                        [0.5924, 0.6819, 0.9171, 0.2141, 0.5592],\n",
      "                        [0.4648, 0.0239, 0.9312, 0.8032, 0.1120]], dtype=torch.float64),\n",
      "        metadata={},\n",
      "    ), (<OnDiskFeatureDataDomain.EDGE: 'edge'>, None, 'feat_1'): TorchBasedFeature(\n",
      "        feature=tensor([[9.0171e-01, 9.0651e-01, 5.0552e-01, 3.7844e-02, 9.2825e-01],\n",
      "                        [3.3209e-03, 7.8025e-01, 4.6477e-02, 3.6276e-01, 8.6327e-01],\n",
      "                        [1.9729e-01, 9.3144e-01, 5.7509e-02, 2.1040e-01, 5.8653e-01],\n",
      "                        ...,\n",
      "                        [6.8810e-01, 4.2477e-01, 9.5818e-01, 9.7767e-01, 9.6222e-01],\n",
      "                        [5.4066e-01, 5.9876e-01, 2.0628e-01, 7.8889e-01, 8.6911e-01],\n",
      "                        [2.4824e-02, 1.8990e-04, 2.6398e-01, 1.0343e-01, 3.8805e-01]]),\n",
      "        metadata={},\n",
      "    )}\n",
      ")\n",
      "\n",
      "Loaded node classification task: OnDiskTask(validation_set=ItemSet(\n",
      "               items=(tensor([666, 558, 572, 202, 874, 663, 401, 870, 980, 634, 124, 806, 162, 985,\n",
      "                   142, 700, 553, 168, 822, 500, 431,  28, 779, 836,  18, 987, 444, 395,\n",
      "                   536, 774, 976, 472, 935, 713, 871, 688, 605, 602, 427, 466, 310, 818,\n",
      "                   408, 929, 324, 452, 368, 184, 926, 194, 127,   0, 294, 568, 217, 263,\n",
      "                   802, 642, 340, 737,  39,  53, 519, 848, 528, 655, 586, 939, 132, 839,\n",
      "                   630, 301, 200, 376, 399, 761, 697, 248,  51, 440, 159, 447, 837, 322,\n",
      "                   759, 423, 544, 705, 904, 647, 782, 136, 931,  59, 584,  64, 381, 451,\n",
      "                   990, 453, 213, 612, 598, 396, 279,  20, 385,  90, 770, 108,  45, 196,\n",
      "                   727, 790, 789, 174, 677, 225, 140, 636, 269, 503, 941, 957, 260, 355,\n",
      "                   703, 304, 318, 994, 628, 717,  48, 988, 337, 562, 909, 207, 534, 889,\n",
      "                   118, 177, 654, 180, 730, 841, 434, 468, 734, 853, 239, 771, 545, 960,\n",
      "                   626, 329, 237, 343, 276, 133, 886,  21,  42, 698, 341, 729, 720, 327,\n",
      "                   685, 969, 486, 840, 882, 535, 458, 752, 226, 257, 387,  60, 821,  52,\n",
      "                   583, 135, 457, 246, 706, 624, 525, 255, 805,  34, 546, 899, 181, 494,\n",
      "                   433, 910, 354, 137], dtype=torch.int32), tensor([6, 2, 9, 2, 8, 4, 2, 5, 7, 8, 9, 2, 2, 8, 5, 8, 2, 6, 5, 7, 9, 2, 2, 9,\n",
      "                   4, 0, 2, 9, 6, 2, 2, 0, 3, 8, 5, 6, 9, 9, 9, 8, 3, 4, 7, 7, 7, 7, 3, 3,\n",
      "                   8, 7, 4, 2, 4, 7, 2, 3, 1, 1, 2, 2, 8, 7, 9, 1, 6, 0, 8, 9, 5, 7, 3, 8,\n",
      "                   6, 5, 4, 6, 6, 3, 6, 2, 6, 3, 0, 9, 9, 1, 2, 0, 1, 2, 0, 0, 7, 4, 2, 4,\n",
      "                   7, 0, 4, 9, 7, 0, 3, 2, 4, 9, 7, 0, 5, 5, 4, 3, 8, 0, 7, 8, 7, 2, 6, 4,\n",
      "                   0, 5, 2, 8, 7, 9, 9, 3, 1, 1, 2, 7, 9, 3, 5, 1, 9, 1, 9, 8, 7, 2, 6, 3,\n",
      "                   5, 0, 3, 8, 5, 3, 6, 7, 5, 5, 3, 0, 0, 6, 7, 6, 6, 5, 2, 1, 9, 7, 4, 3,\n",
      "                   0, 5, 5, 3, 6, 5, 0, 2, 2, 9, 9, 7, 5, 2, 5, 9, 2, 8, 1, 2, 7, 5, 4, 5,\n",
      "                   1, 2, 0, 7, 1, 5, 2, 4])),\n",
      "               names=('seeds', 'labels'),\n",
      "           ),\n",
      "           train_set=ItemSet(\n",
      "               items=(tensor([ 69, 270, 864, 704,  65, 888, 128, 963, 204, 459, 256, 191,  95, 893,\n",
      "                   165, 461, 524, 290, 597, 560, 187, 664, 650, 126, 943, 123, 577, 158,\n",
      "                    50, 344, 378, 786, 638, 949, 105, 247, 512, 810, 414, 669,   2,   3,\n",
      "                   506, 951, 609, 902, 287, 319, 349, 783, 613, 571, 833, 578, 968, 955,\n",
      "                   445, 313, 936, 601,  12, 308, 311, 736,  63, 375,  98, 309, 169, 476,\n",
      "                   356, 998, 594, 715, 460, 686, 834, 121,  76, 302,  36, 996, 199, 502,\n",
      "                   635, 402, 496,  93, 892, 186, 970,  55, 692, 366, 844, 493, 592, 894,\n",
      "                   859, 732, 415, 456, 364,  26, 275, 589, 916, 272, 820, 765, 258, 660,\n",
      "                   565, 776, 384,  79, 556, 825, 363, 580, 527, 740, 491, 901, 430, 905,\n",
      "                   873, 125, 928, 103,  81, 288, 607, 855, 314, 317, 652,  67, 321, 651,\n",
      "                   516,   5, 397, 911, 380, 735, 997, 712, 106,  33, 471, 538,  49, 694,\n",
      "                   268, 547, 405, 699, 284, 875, 709, 480, 336, 283, 297, 658,  66, 229,\n",
      "                   614,  80, 214, 924, 172,  62, 867, 611, 347, 604, 781, 961, 950,  94,\n",
      "                   865, 983, 464, 978, 160, 198,  19, 129, 756, 674, 898, 778, 497,  92,\n",
      "                   119, 377, 872, 745, 891, 485, 367, 944,  70, 952,   7, 596, 218, 574,\n",
      "                   633, 723, 241, 861, 163,  11, 552, 223, 725,  46, 150, 854, 530, 285,\n",
      "                   465, 335, 678, 977, 632, 738, 539, 767, 504, 849, 995, 455, 555, 877,\n",
      "                   763, 816, 112, 748,  38, 267, 420, 441, 328, 393,  74, 379, 575, 371,\n",
      "                   549,  27, 498, 579, 113,   1,  56, 746, 716, 869, 305, 768, 858, 230,\n",
      "                   680, 962, 676, 342, 696,  25, 171,  43, 689, 585,   4, 262, 209, 817,\n",
      "                   648,  15, 227, 814, 718, 772, 627,  86, 879, 733, 561, 154, 505, 726,\n",
      "                   644,   8, 462, 197, 777, 195, 437, 208, 942, 993, 868, 582,  54, 146,\n",
      "                   514, 412, 631, 860, 643, 467, 797, 787, 261, 281, 714, 166, 953, 189,\n",
      "                   890, 164, 151, 766, 357, 542, 646, 429, 203, 811, 981, 507, 710, 277,\n",
      "                   475, 483, 554, 600, 838, 266, 599, 438, 508, 653, 769, 989, 243, 606,\n",
      "                   992, 570, 927, 828, 795, 299, 722, 289, 252, 333, 245, 300, 912, 887,\n",
      "                   315, 511, 482, 523, 373, 409, 885, 242, 979, 724, 182, 532, 131, 657,\n",
      "                    58, 719, 757,  37, 250, 895,  13, 798, 857, 149, 188, 421, 513, 934,\n",
      "                   392, 143, 463, 219, 830, 391, 900, 346, 567, 280, 832, 518, 964, 564,\n",
      "                    77,  99, 862, 751, 215, 148, 906, 591, 813,  91, 117, 454, 394, 492,\n",
      "                   967, 804, 369,  22, 114, 851, 249, 914, 216, 682,  88, 829, 794, 645,\n",
      "                    97, 691, 581, 345, 773, 416, 167, 897, 312, 792, 104,  85, 449, 224,\n",
      "                   398, 661, 361, 236, 153, 824, 325, 842, 413, 755, 749, 815, 161, 316,\n",
      "                   907, 956, 432, 656, 742, 410, 422, 234, 948, 984, 999,  29, 665, 175,\n",
      "                   100, 531, 616, 847, 116, 443,  83, 102, 228, 210, 122, 945, 474, 803,\n",
      "                   334, 919,  84,  82, 540, 707, 754, 541, 382, 339, 487, 358, 884, 920,\n",
      "                   701, 293, 362,  10, 866, 550,  31, 526,  35, 619, 975, 758, 134, 603,\n",
      "                   185, 543, 353,  73, 974, 144, 417, 846, 687, 809, 618, 640, 529, 573,\n",
      "                    44, 403, 439, 292, 743, 450, 145, 750, 190, 913, 442, 332, 350, 923,\n",
      "                   537,  68,  75, 670, 548, 426, 390, 991, 808, 576, 823, 684, 338, 206,\n",
      "                   481, 921, 448, 155, 551, 240, 903, 986, 435, 406, 221, 235, 232, 623,\n",
      "                   659, 490, 178, 938, 590, 238, 436,  71,  61, 273, 662, 111, 620, 489,\n",
      "                   693, 404, 520, 878, 721, 760, 731, 566, 244, 259, 753, 352],\n",
      "                  dtype=torch.int32), tensor([7, 5, 4, 5, 3, 8, 8, 4, 8, 0, 7, 4, 7, 6, 6, 2, 4, 9, 6, 5, 6, 1, 9, 6,\n",
      "                   6, 4, 1, 2, 3, 9, 7, 4, 9, 0, 6, 9, 4, 9, 9, 8, 6, 0, 9, 4, 8, 9, 8, 1,\n",
      "                   5, 1, 1, 9, 0, 0, 2, 4, 0, 6, 9, 0, 4, 4, 8, 9, 3, 2, 3, 9, 4, 4, 5, 2,\n",
      "                   9, 0, 1, 6, 0, 6, 2, 4, 4, 4, 0, 9, 6, 1, 5, 9, 3, 3, 5, 3, 0, 5, 7, 0,\n",
      "                   9, 8, 1, 4, 8, 4, 3, 7, 5, 0, 8, 3, 3, 8, 8, 3, 5, 7, 2, 8, 4, 3, 0, 7,\n",
      "                   0, 3, 6, 7, 0, 1, 1, 8, 6, 6, 3, 8, 1, 7, 9, 1, 7, 1, 3, 6, 5, 6, 8, 3,\n",
      "                   7, 8, 4, 9, 3, 6, 0, 6, 9, 8, 8, 3, 7, 3, 5, 8, 7, 6, 9, 6, 9, 3, 0, 0,\n",
      "                   9, 0, 8, 4, 0, 2, 4, 2, 5, 4, 9, 7, 0, 7, 0, 1, 6, 6, 0, 1, 6, 9, 8, 5,\n",
      "                   4, 5, 8, 5, 3, 8, 6, 1, 0, 4, 9, 7, 4, 4, 4, 4, 7, 8, 8, 8, 8, 2, 3, 1,\n",
      "                   3, 7, 9, 4, 7, 7, 1, 2, 7, 9, 7, 2, 5, 0, 0, 8, 3, 8, 3, 5, 7, 5, 0, 0,\n",
      "                   2, 8, 8, 9, 9, 0, 4, 3, 5, 1, 4, 6, 8, 0, 2, 6, 1, 0, 2, 0, 1, 1, 6, 1,\n",
      "                   5, 2, 3, 5, 7, 5, 4, 8, 1, 7, 0, 8, 8, 6, 6, 3, 7, 1, 8, 4, 3, 2, 5, 4,\n",
      "                   7, 3, 8, 4, 2, 3, 4, 8, 7, 3, 6, 4, 8, 1, 0, 2, 5, 5, 5, 5, 2, 3, 2, 7,\n",
      "                   5, 6, 2, 1, 4, 1, 8, 7, 2, 9, 5, 6, 1, 3, 2, 6, 4, 4, 4, 1, 3, 0, 4, 2,\n",
      "                   0, 4, 4, 3, 0, 8, 9, 6, 8, 9, 0, 4, 6, 9, 4, 6, 9, 1, 5, 8, 5, 8, 9, 0,\n",
      "                   0, 1, 4, 2, 0, 6, 5, 9, 7, 3, 4, 1, 1, 1, 1, 4, 7, 8, 6, 4, 2, 7, 5, 6,\n",
      "                   4, 6, 5, 0, 5, 9, 9, 1, 5, 4, 9, 7, 3, 9, 6, 8, 8, 5, 3, 8, 0, 3, 8, 2,\n",
      "                   7, 5, 3, 3, 6, 6, 4, 8, 0, 7, 3, 7, 4, 4, 5, 2, 0, 5, 4, 1, 5, 6, 8, 4,\n",
      "                   5, 4, 8, 4, 5, 4, 2, 4, 3, 2, 0, 3, 4, 7, 8, 6, 7, 3, 6, 9, 4, 3, 0, 7,\n",
      "                   1, 7, 2, 2, 0, 5, 1, 5, 5, 3, 5, 6, 5, 3, 3, 0, 2, 4, 5, 4, 7, 7, 4, 8,\n",
      "                   5, 0, 8, 2, 5, 2, 8, 9, 4, 7, 6, 2, 7, 2, 5, 2, 6, 4, 6, 7, 1, 8, 7, 0,\n",
      "                   1, 1, 7, 5, 7, 9, 7, 8, 0, 8, 8, 0, 9, 9, 2, 1, 2, 0, 2, 0, 9, 6, 3, 3,\n",
      "                   4, 1, 5, 5, 1, 4, 9, 8, 4, 7, 6, 6, 4, 1, 8, 9, 6, 6, 0, 5, 6, 5, 5, 4,\n",
      "                   9, 6, 7, 4, 7, 5, 2, 8, 8, 8, 2, 8, 0, 7, 3, 2, 3, 1, 2, 2, 1, 5, 1, 8,\n",
      "                   4, 4, 1, 6, 3, 9, 9, 4, 5, 5, 0, 2, 5, 4, 2, 7, 4, 5, 3, 7, 8, 9, 8, 5])),\n",
      "               names=('seeds', 'labels'),\n",
      "           ),\n",
      "           test_set=ItemSet(\n",
      "               items=(tensor([110,  96, 179, 852, 728, 569, 918, 521, 668, 690, 306, 407, 522, 764,\n",
      "                   360, 959, 424, 157, 446,  89, 139, 972, 400, 425, 785,  87, 559, 933,\n",
      "                   274, 211, 265,   6, 330, 477, 170,  16, 966, 557, 744, 876, 141, 672,\n",
      "                   625, 639, 193, 982, 120,  57, 109, 298, 673, 932, 205, 908, 484, 264,\n",
      "                   641,  24, 621, 147, 152, 374, 741, 937, 708, 835, 940, 812, 533, 971,\n",
      "                   331, 212, 348,  40, 791, 326, 775, 418, 510, 925, 883, 622, 222,  14,\n",
      "                   796, 156, 595, 192, 850,  47, 173, 695, 419, 515, 307, 295, 617, 702,\n",
      "                   615, 946, 495, 845, 799, 470, 107, 473, 800,  23, 807, 501, 896, 681,\n",
      "                   629, 130, 115, 917, 793, 965, 320, 488, 563,  72, 428, 747, 679, 801,\n",
      "                   323, 365, 587, 831, 201, 101, 383, 291, 389, 183, 271, 826, 499, 254,\n",
      "                    30,  78, 973, 359, 930, 251, 478, 667,  17, 784, 671, 922, 386,  32,\n",
      "                    41, 958, 827, 588, 282, 351, 233, 303, 683, 954, 843, 856, 675, 637,\n",
      "                   220, 608, 880, 915,   9, 780, 762, 286, 649, 739, 947, 863, 881, 370,\n",
      "                   388, 711, 372, 610, 788, 819, 469, 593, 479, 176, 411, 517, 138, 278,\n",
      "                   509, 296, 231, 253], dtype=torch.int32), tensor([3, 2, 0, 8, 6, 4, 5, 0, 0, 2, 2, 1, 7, 9, 4, 9, 3, 3, 2, 9, 6, 4, 9, 7,\n",
      "                   3, 4, 4, 2, 9, 6, 2, 4, 0, 3, 4, 5, 8, 3, 9, 8, 0, 2, 7, 6, 2, 8, 7, 3,\n",
      "                   5, 9, 5, 0, 5, 2, 4, 8, 5, 2, 7, 3, 9, 1, 5, 3, 0, 4, 0, 3, 8, 9, 2, 3,\n",
      "                   0, 1, 6, 1, 3, 2, 9, 2, 1, 8, 8, 3, 5, 8, 2, 8, 0, 1, 9, 0, 6, 5, 1, 6,\n",
      "                   4, 2, 4, 8, 7, 5, 9, 8, 3, 9, 1, 7, 6, 0, 8, 9, 1, 3, 3, 4, 8, 5, 9, 1,\n",
      "                   6, 7, 0, 6, 3, 7, 2, 4, 3, 8, 9, 3, 8, 1, 4, 4, 6, 7, 6, 0, 9, 6, 7, 7,\n",
      "                   0, 6, 1, 8, 0, 3, 3, 1, 5, 0, 3, 0, 9, 8, 3, 4, 2, 0, 6, 0, 4, 9, 4, 1,\n",
      "                   1, 2, 0, 7, 0, 1, 0, 2, 5, 4, 2, 4, 9, 8, 2, 7, 1, 3, 2, 0, 1, 4, 0, 7,\n",
      "                   0, 3, 9, 7, 5, 1, 5, 7])),\n",
      "               names=('seeds', 'labels'),\n",
      "           ),\n",
      "           metadata={'name': 'node_classification', 'num_classes': 10},)\n",
      "\n",
      "Loaded link prediction task: OnDiskTask(validation_set=ItemSet(\n",
      "               items=(tensor([[174, 604],\n",
      "                   [824, 551],\n",
      "                   [ 74, 618],\n",
      "                   ...,\n",
      "                   [163, 399],\n",
      "                   [163, 434],\n",
      "                   [163, 816]], dtype=torch.int32), tensor([1., 1., 1.,  ..., 0., 0., 0.], dtype=torch.float64), tensor([   0,    1,    2,  ..., 1999, 1999, 1999])),\n",
      "               names=('seeds', 'labels', 'indexes'),\n",
      "           ),\n",
      "           train_set=ItemSet(\n",
      "               items=(tensor([[307, 557],\n",
      "                   [936, 497],\n",
      "                   [549, 277],\n",
      "                   ...,\n",
      "                   [ 68, 775],\n",
      "                   [ 92, 265],\n",
      "                   [201, 482]], dtype=torch.int32),),\n",
      "               names=('seeds',),\n",
      "           ),\n",
      "           test_set=ItemSet(\n",
      "               items=(tensor([[769, 504],\n",
      "                   [311, 124],\n",
      "                   [156, 354],\n",
      "                   ...,\n",
      "                   [761, 743],\n",
      "                   [761, 141],\n",
      "                   [761, 915]], dtype=torch.int32), tensor([1., 1., 1.,  ..., 0., 0., 0.], dtype=torch.float64), tensor([   0,    1,    2,  ..., 1999, 1999, 1999])),\n",
      "               names=('seeds', 'labels', 'indexes'),\n",
      "           ),\n",
      "           metadata={'name': 'link_prediction', 'num_classes': 10},)\n",
      "\n"
     ]
    },
    {
     "name": "stderr",
     "output_type": "stream",
     "text": [
      "/home/ubuntu/regression_test/dgl/python/dgl/graphbolt/internal/utils.py:16: FutureWarning: You are using `torch.load` with `weights_only=False` (the current default value), which uses the default pickle module implicitly. It is possible to construct malicious pickle data which will execute arbitrary code during unpickling (See https://github.com/pytorch/pytorch/blob/main/SECURITY.md#untrusted-models for more details). In a future release, the default value for `weights_only` will be flipped to `True`. This limits the functions that could be executed during unpickling. Arbitrary objects will no longer be allowed to be loaded via this mode unless they are explicitly allowlisted by the user via `torch.serialization.add_safe_globals`. We recommend you start setting `weights_only=True` for any use case where you don't have full control of the loaded file. Please open an issue on GitHub for any issues related to this experimental feature.\n",
      "  return torch.load(path)\n",
      "/home/ubuntu/regression_test/dgl/python/dgl/graphbolt/impl/ondisk_dataset.py:460: DGLWarning: Edge feature is stored, but edge IDs are not saved.\n",
      "  dgl_warning(\"Edge feature is stored, but edge IDs are not saved.\")\n",
      "/home/ubuntu/regression_test/dgl/python/dgl/graphbolt/impl/ondisk_dataset.py:852: FutureWarning: You are using `torch.load` with `weights_only=False` (the current default value), which uses the default pickle module implicitly. It is possible to construct malicious pickle data which will execute arbitrary code during unpickling (See https://github.com/pytorch/pytorch/blob/main/SECURITY.md#untrusted-models for more details). In a future release, the default value for `weights_only` will be flipped to `True`. This limits the functions that could be executed during unpickling. Arbitrary objects will no longer be allowed to be loaded via this mode unless they are explicitly allowlisted by the user via `torch.serialization.add_safe_globals`. We recommend you start setting `weights_only=True` for any use case where you don't have full control of the loaded file. Please open an issue on GitHub for any issues related to this experimental feature.\n",
      "  return torch.load(graph_topology.path)\n"
     ]
    }
   ],
   "source": [
    "dataset = gb.OnDiskDataset(base_dir).load()\n",
    "graph = dataset.graph\n",
    "print(f\"Loaded graph: {graph}\\n\")\n",
    "\n",
    "feature = dataset.feature\n",
    "print(f\"Loaded feature store: {feature}\\n\")\n",
    "\n",
    "tasks = dataset.tasks\n",
    "nc_task = tasks[0]\n",
    "print(f\"Loaded node classification task: {nc_task}\\n\")\n",
    "lp_task = tasks[1]\n",
    "print(f\"Loaded link prediction task: {lp_task}\\n\")"
   ]
  }
 ],
 "metadata": {
  "colab": {
   "private_outputs": true,
   "provenance": []
  },
  "kernelspec": {
   "display_name": "Python 3",
   "name": "python3"
  },
  "language_info": {
   "codemirror_mode": {
    "name": "ipython",
    "version": 3
   },
   "file_extension": ".py",
   "mimetype": "text/x-python",
   "name": "python",
   "nbconvert_exporter": "python",
   "pygments_lexer": "ipython3",
   "version": "3.10.14"
  }
 },
 "nbformat": 4,
 "nbformat_minor": 0
}

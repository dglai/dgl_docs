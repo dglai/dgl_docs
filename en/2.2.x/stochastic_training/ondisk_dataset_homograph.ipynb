{
 "cells": [
  {
   "cell_type": "markdown",
   "metadata": {
    "id": "FnFhPMaAfLtJ"
   },
   "source": [
    "# OnDiskDataset for Homogeneous Graph\n",
    "\n",
    "[![Open In Colab](https://colab.research.google.com/assets/colab-badge.svg)](https://colab.research.google.com/github/dmlc/dgl/blob/master/notebooks/stochastic_training/ondisk_dataset_homograph.ipynb) [![GitHub](https://img.shields.io/badge/-View%20on%20GitHub-181717?logo=github&logoColor=ffffff)](https://github.com/dmlc/dgl/blob/master/notebooks/stochastic_training/ondisk_dataset_homograph.ipynb)\n",
    "\n",
    "This tutorial shows how to create `OnDiskDataset` for homogeneous graph that could be used in **GraphBolt** framework.\n",
    "\n",
    "By the end of this tutorial, you will be able to\n",
    "\n",
    "- organize graph structure data.\n",
    "- organize feature data.\n",
    "- organize training/validation/test set for specific tasks.\n",
    "\n",
    "To create an ``OnDiskDataset`` object, you need to organize all the data including graph structure, feature data and tasks into a directory. The directory should contain a ``metadata.yaml`` file that describes the metadata of the dataset.\n",
    "\n",
    "Now let's generate various data step by step and organize them together to instantiate `OnDiskDataset` finally."
   ]
  },
  {
   "cell_type": "markdown",
   "metadata": {
    "id": "Wlb19DtWgtzq"
   },
   "source": [
    "## Install DGL package"
   ]
  },
  {
   "cell_type": "code",
   "execution_count": 1,
   "metadata": {
    "execution": {
     "iopub.execute_input": "2024-08-21T14:18:54.205524Z",
     "iopub.status.busy": "2024-08-21T14:18:54.205192Z",
     "iopub.status.idle": "2024-08-21T14:18:58.010579Z",
     "shell.execute_reply": "2024-08-21T14:18:58.009841Z"
    },
    "id": "UojlT9ZGgyr9"
   },
   "outputs": [
    {
     "name": "stdout",
     "output_type": "stream",
     "text": [
      "Looking in links: https://data.dgl.ai/wheels-test/repo.html\r\n",
      "Requirement already satisfied: dgl in /opt/conda/envs/dgl-dev-cpu/lib/python3.10/site-packages (2.2a240410)\r\n",
      "Requirement already satisfied: numpy>=1.14.0 in /opt/conda/envs/dgl-dev-cpu/lib/python3.10/site-packages (from dgl) (1.26.4)\r\n",
      "Requirement already satisfied: scipy>=1.1.0 in /opt/conda/envs/dgl-dev-cpu/lib/python3.10/site-packages (from dgl) (1.14.0)\r\n",
      "Requirement already satisfied: networkx>=2.1 in /opt/conda/envs/dgl-dev-cpu/lib/python3.10/site-packages (from dgl) (3.3)\r\n",
      "Requirement already satisfied: requests>=2.19.0 in /opt/conda/envs/dgl-dev-cpu/lib/python3.10/site-packages (from dgl) (2.32.3)\r\n",
      "Requirement already satisfied: tqdm in /opt/conda/envs/dgl-dev-cpu/lib/python3.10/site-packages (from dgl) (4.66.5)\r\n",
      "Requirement already satisfied: psutil>=5.8.0 in /opt/conda/envs/dgl-dev-cpu/lib/python3.10/site-packages (from dgl) (6.0.0)\r\n",
      "Requirement already satisfied: torchdata>=0.5.0 in /opt/conda/envs/dgl-dev-cpu/lib/python3.10/site-packages (from dgl) (0.7.1+6427ed9)\r\n",
      "Requirement already satisfied: pandas in /opt/conda/envs/dgl-dev-cpu/lib/python3.10/site-packages (from dgl) (2.2.2)\r\n",
      "Requirement already satisfied: charset-normalizer<4,>=2 in /opt/conda/envs/dgl-dev-cpu/lib/python3.10/site-packages (from requests>=2.19.0->dgl) (3.3.2)\r\n",
      "Requirement already satisfied: idna<4,>=2.5 in /opt/conda/envs/dgl-dev-cpu/lib/python3.10/site-packages (from requests>=2.19.0->dgl) (3.7)\r\n",
      "Requirement already satisfied: urllib3<3,>=1.21.1 in /opt/conda/envs/dgl-dev-cpu/lib/python3.10/site-packages (from requests>=2.19.0->dgl) (2.2.2)\r\n",
      "Requirement already satisfied: certifi>=2017.4.17 in /opt/conda/envs/dgl-dev-cpu/lib/python3.10/site-packages (from requests>=2.19.0->dgl) (2024.7.4)\r\n",
      "Requirement already satisfied: torch>=2 in /opt/conda/envs/dgl-dev-cpu/lib/python3.10/site-packages (from torchdata>=0.5.0->dgl) (2.1.0+cpu)\r\n"
     ]
    },
    {
     "name": "stdout",
     "output_type": "stream",
     "text": [
      "Requirement already satisfied: python-dateutil>=2.8.2 in /opt/conda/envs/dgl-dev-cpu/lib/python3.10/site-packages (from pandas->dgl) (2.9.0.post0)\r\n",
      "Requirement already satisfied: pytz>=2020.1 in /opt/conda/envs/dgl-dev-cpu/lib/python3.10/site-packages (from pandas->dgl) (2024.1)\r\n",
      "Requirement already satisfied: tzdata>=2022.7 in /opt/conda/envs/dgl-dev-cpu/lib/python3.10/site-packages (from pandas->dgl) (2024.1)\r\n",
      "Requirement already satisfied: six>=1.5 in /opt/conda/envs/dgl-dev-cpu/lib/python3.10/site-packages (from python-dateutil>=2.8.2->pandas->dgl) (1.16.0)\r\n",
      "Requirement already satisfied: filelock in /opt/conda/envs/dgl-dev-cpu/lib/python3.10/site-packages (from torch>=2->torchdata>=0.5.0->dgl) (3.15.4)\r\n",
      "Requirement already satisfied: typing-extensions in /opt/conda/envs/dgl-dev-cpu/lib/python3.10/site-packages (from torch>=2->torchdata>=0.5.0->dgl) (4.12.2)\r\n",
      "Requirement already satisfied: sympy in /opt/conda/envs/dgl-dev-cpu/lib/python3.10/site-packages (from torch>=2->torchdata>=0.5.0->dgl) (1.13.2)\r\n",
      "Requirement already satisfied: jinja2 in /opt/conda/envs/dgl-dev-cpu/lib/python3.10/site-packages (from torch>=2->torchdata>=0.5.0->dgl) (3.1.4)\r\n",
      "Requirement already satisfied: fsspec in /opt/conda/envs/dgl-dev-cpu/lib/python3.10/site-packages (from torch>=2->torchdata>=0.5.0->dgl) (2024.6.1)\r\n"
     ]
    },
    {
     "name": "stdout",
     "output_type": "stream",
     "text": [
      "Requirement already satisfied: MarkupSafe>=2.0 in /opt/conda/envs/dgl-dev-cpu/lib/python3.10/site-packages (from jinja2->torch>=2->torchdata>=0.5.0->dgl) (2.1.5)\r\n",
      "Requirement already satisfied: mpmath<1.4,>=1.1.0 in /opt/conda/envs/dgl-dev-cpu/lib/python3.10/site-packages (from sympy->torch>=2->torchdata>=0.5.0->dgl) (1.3.0)\r\n"
     ]
    },
    {
     "name": "stdout",
     "output_type": "stream",
     "text": [
      "DGL installed!\n"
     ]
    }
   ],
   "source": [
    "# Install required packages.\n",
    "import os\n",
    "import torch\n",
    "import numpy as np\n",
    "os.environ['TORCH'] = torch.__version__\n",
    "os.environ['DGLBACKEND'] = \"pytorch\"\n",
    "\n",
    "# Install the CPU version.\n",
    "device = torch.device(\"cpu\")\n",
    "!pip install --pre dgl -f https://data.dgl.ai/wheels-test/repo.html\n",
    "\n",
    "try:\n",
    "    import dgl\n",
    "    import dgl.graphbolt as gb\n",
    "    installed = True\n",
    "except ImportError as error:\n",
    "    installed = False\n",
    "    print(error)\n",
    "print(\"DGL installed!\" if installed else \"DGL not found!\")"
   ]
  },
  {
   "cell_type": "markdown",
   "metadata": {
    "id": "2R7WnSbjsfbr"
   },
   "source": [
    "## Data preparation\n",
    "In order to demonstrate how to organize various data, let's create a base directory first."
   ]
  },
  {
   "cell_type": "code",
   "execution_count": 2,
   "metadata": {
    "execution": {
     "iopub.execute_input": "2024-08-21T14:18:58.013671Z",
     "iopub.status.busy": "2024-08-21T14:18:58.013206Z",
     "iopub.status.idle": "2024-08-21T14:18:58.017565Z",
     "shell.execute_reply": "2024-08-21T14:18:58.016797Z"
    },
    "id": "SZipbzyltLfO"
   },
   "outputs": [
    {
     "name": "stdout",
     "output_type": "stream",
     "text": [
      "Created base directory: ./ondisk_dataset_homograph\n"
     ]
    }
   ],
   "source": [
    "base_dir = './ondisk_dataset_homograph'\n",
    "os.makedirs(base_dir, exist_ok=True)\n",
    "print(f\"Created base directory: {base_dir}\")"
   ]
  },
  {
   "cell_type": "markdown",
   "metadata": {
    "id": "qhNtIn_xhlnl"
   },
   "source": [
    "### Generate graph structure data\n",
    "For homogeneous graph, we just need to save edges(namely seeds) into  **Numpy** or **CSV** file.\n",
    "\n",
    "Note:\n",
    "- when saving to **Numpy**, the array requires to be in shape of `(2, N)`. This format is recommended as constructing graph from it is much faster than **CSV** file.\n",
    "- when saving to **CSV** file, do not save index and header.\n"
   ]
  },
  {
   "cell_type": "code",
   "execution_count": 3,
   "metadata": {
    "execution": {
     "iopub.execute_input": "2024-08-21T14:18:58.020137Z",
     "iopub.status.busy": "2024-08-21T14:18:58.019642Z",
     "iopub.status.idle": "2024-08-21T14:18:58.032962Z",
     "shell.execute_reply": "2024-08-21T14:18:58.032168Z"
    },
    "id": "HcBt4G5BmSjr"
   },
   "outputs": [
    {
     "name": "stdout",
     "output_type": "stream",
     "text": [
      "Part of edges: [[860 976]\n",
      " [ 78 875]\n",
      " [560 731]\n",
      " [523 327]\n",
      " [537  56]]\n",
      "Edges are saved into ./ondisk_dataset_homograph/edges.csv\n"
     ]
    }
   ],
   "source": [
    "import numpy as np\n",
    "import pandas as pd\n",
    "num_nodes = 1000\n",
    "num_edges = 10 * num_nodes\n",
    "edges_path = os.path.join(base_dir, \"edges.csv\")\n",
    "edges = np.random.randint(0, num_nodes, size=(num_edges, 2))\n",
    "\n",
    "print(f\"Part of edges: {edges[:5, :]}\")\n",
    "\n",
    "df = pd.DataFrame(edges)\n",
    "df.to_csv(edges_path, index=False, header=False)\n",
    "\n",
    "print(f\"Edges are saved into {edges_path}\")"
   ]
  },
  {
   "cell_type": "markdown",
   "metadata": {
    "id": "kh-4cPtzpcaH"
   },
   "source": [
    "### Generate feature data for graph\n",
    "For feature data, numpy arrays and torch tensors are supported for now."
   ]
  },
  {
   "cell_type": "code",
   "execution_count": 4,
   "metadata": {
    "execution": {
     "iopub.execute_input": "2024-08-21T14:18:58.035420Z",
     "iopub.status.busy": "2024-08-21T14:18:58.035091Z",
     "iopub.status.idle": "2024-08-21T14:18:58.048640Z",
     "shell.execute_reply": "2024-08-21T14:18:58.047992Z"
    },
    "id": "_PVu1u5brBhF"
   },
   "outputs": [
    {
     "name": "stdout",
     "output_type": "stream",
     "text": [
      "Part of node feature [feat_0]: [[0.24838194 0.59887422 0.61866949 0.08579793 0.96244626]\n",
      " [0.94718649 0.63226747 0.92964802 0.74581136 0.13610673]\n",
      " [0.34551305 0.07816486 0.48262999 0.62813343 0.46371972]]\n",
      "Node feature [feat_0] is saved to ./ondisk_dataset_homograph/node-feat-0.npy\n",
      "\n",
      "Part of node feature [feat_1]: tensor([[0.4990, 0.4839, 0.0796, 0.1525, 0.3825],\n",
      "        [0.5723, 0.3148, 0.9905, 0.0506, 0.9125],\n",
      "        [0.9090, 0.0433, 0.4762, 0.8200, 0.8906]])\n",
      "Node feature [feat_1] is saved to ./ondisk_dataset_homograph/node-feat-1.pt\n",
      "\n",
      "Part of edge feature [feat_0]: [[0.57208481 0.67625854 0.64955799 0.64856301 0.50609833]\n",
      " [0.82397114 0.66559443 0.64379255 0.82236838 0.33397986]\n",
      " [0.66361575 0.87593428 0.56076978 0.20941919 0.74538807]]\n",
      "Edge feature [feat_0] is saved to ./ondisk_dataset_homograph/edge-feat-0.npy\n",
      "\n",
      "Part of edge feature [feat_1]: tensor([[0.3968, 0.6248, 0.2270, 0.0939, 0.8170],\n",
      "        [0.7493, 0.3998, 0.9390, 0.7625, 0.7523],\n",
      "        [0.7307, 0.9148, 0.2108, 0.8849, 0.7428]])\n",
      "Edge feature [feat_1] is saved to ./ondisk_dataset_homograph/edge-feat-1.pt\n",
      "\n"
     ]
    }
   ],
   "source": [
    "# Generate node feature in numpy array.\n",
    "node_feat_0_path = os.path.join(base_dir, \"node-feat-0.npy\")\n",
    "node_feat_0 = np.random.rand(num_nodes, 5)\n",
    "print(f\"Part of node feature [feat_0]: {node_feat_0[:3, :]}\")\n",
    "np.save(node_feat_0_path, node_feat_0)\n",
    "print(f\"Node feature [feat_0] is saved to {node_feat_0_path}\\n\")\n",
    "\n",
    "# Generate another node feature in torch tensor\n",
    "node_feat_1_path = os.path.join(base_dir, \"node-feat-1.pt\")\n",
    "node_feat_1 = torch.rand(num_nodes, 5)\n",
    "print(f\"Part of node feature [feat_1]: {node_feat_1[:3, :]}\")\n",
    "torch.save(node_feat_1, node_feat_1_path)\n",
    "print(f\"Node feature [feat_1] is saved to {node_feat_1_path}\\n\")\n",
    "\n",
    "# Generate edge feature in numpy array.\n",
    "edge_feat_0_path = os.path.join(base_dir, \"edge-feat-0.npy\")\n",
    "edge_feat_0 = np.random.rand(num_edges, 5)\n",
    "print(f\"Part of edge feature [feat_0]: {edge_feat_0[:3, :]}\")\n",
    "np.save(edge_feat_0_path, edge_feat_0)\n",
    "print(f\"Edge feature [feat_0] is saved to {edge_feat_0_path}\\n\")\n",
    "\n",
    "# Generate another edge feature in torch tensor\n",
    "edge_feat_1_path = os.path.join(base_dir, \"edge-feat-1.pt\")\n",
    "edge_feat_1 = torch.rand(num_edges, 5)\n",
    "print(f\"Part of edge feature [feat_1]: {edge_feat_1[:3, :]}\")\n",
    "torch.save(edge_feat_1, edge_feat_1_path)\n",
    "print(f\"Edge feature [feat_1] is saved to {edge_feat_1_path}\\n\")\n"
   ]
  },
  {
   "cell_type": "markdown",
   "metadata": {
    "id": "ZyqgOtsIwzh_"
   },
   "source": [
    "### Generate tasks\n",
    "`OnDiskDataset` supports multiple tasks. For each task, we need to prepare training/validation/test sets respectively. Such sets usually vary among different tasks. In this tutorial, let's create a **Node Classification** task and **Link Prediction** task."
   ]
  },
  {
   "cell_type": "markdown",
   "metadata": {
    "id": "hVxHaDIfzCkr"
   },
   "source": [
    "#### Node Classification Task\n",
    "For node classification task, we need **node IDs** and corresponding **labels** for each training/validation/test set. Like feature data, numpy arrays and torch tensors are supported for these sets."
   ]
  },
  {
   "cell_type": "code",
   "execution_count": 5,
   "metadata": {
    "execution": {
     "iopub.execute_input": "2024-08-21T14:18:58.051328Z",
     "iopub.status.busy": "2024-08-21T14:18:58.050966Z",
     "iopub.status.idle": "2024-08-21T14:18:58.061089Z",
     "shell.execute_reply": "2024-08-21T14:18:58.060569Z"
    },
    "id": "S5-fyBbHzTCO"
   },
   "outputs": [
    {
     "name": "stdout",
     "output_type": "stream",
     "text": [
      "Part of train ids for node classification: [611 706 661]\n",
      "NC train ids are saved to ./ondisk_dataset_homograph/nc-train-ids.npy\n",
      "\n",
      "Part of train labels for node classification: tensor([5, 5, 0])\n",
      "NC train labels are saved to ./ondisk_dataset_homograph/nc-train-labels.pt\n",
      "\n",
      "Part of val ids for node classification: [452 549 185]\n",
      "NC val ids are saved to ./ondisk_dataset_homograph/nc-val-ids.npy\n",
      "\n",
      "Part of val labels for node classification: tensor([3, 2, 1])\n",
      "NC val labels are saved to ./ondisk_dataset_homograph/nc-val-labels.pt\n",
      "\n",
      "Part of test ids for node classification: [752 156 751]\n",
      "NC test ids are saved to ./ondisk_dataset_homograph/nc-test-ids.npy\n",
      "\n",
      "Part of test labels for node classification: tensor([7, 1, 7])\n",
      "NC test labels are saved to ./ondisk_dataset_homograph/nc-test-labels.pt\n",
      "\n"
     ]
    }
   ],
   "source": [
    "num_trains = int(num_nodes * 0.6)\n",
    "num_vals = int(num_nodes * 0.2)\n",
    "num_tests = num_nodes - num_trains - num_vals\n",
    "\n",
    "ids = np.arange(num_nodes)\n",
    "np.random.shuffle(ids)\n",
    "\n",
    "nc_train_ids_path = os.path.join(base_dir, \"nc-train-ids.npy\")\n",
    "nc_train_ids = ids[:num_trains]\n",
    "print(f\"Part of train ids for node classification: {nc_train_ids[:3]}\")\n",
    "np.save(nc_train_ids_path, nc_train_ids)\n",
    "print(f\"NC train ids are saved to {nc_train_ids_path}\\n\")\n",
    "\n",
    "nc_train_labels_path = os.path.join(base_dir, \"nc-train-labels.pt\")\n",
    "nc_train_labels = torch.randint(0, 10, (num_trains,))\n",
    "print(f\"Part of train labels for node classification: {nc_train_labels[:3]}\")\n",
    "torch.save(nc_train_labels, nc_train_labels_path)\n",
    "print(f\"NC train labels are saved to {nc_train_labels_path}\\n\")\n",
    "\n",
    "nc_val_ids_path = os.path.join(base_dir, \"nc-val-ids.npy\")\n",
    "nc_val_ids = ids[num_trains:num_trains+num_vals]\n",
    "print(f\"Part of val ids for node classification: {nc_val_ids[:3]}\")\n",
    "np.save(nc_val_ids_path, nc_val_ids)\n",
    "print(f\"NC val ids are saved to {nc_val_ids_path}\\n\")\n",
    "\n",
    "nc_val_labels_path = os.path.join(base_dir, \"nc-val-labels.pt\")\n",
    "nc_val_labels = torch.randint(0, 10, (num_vals,))\n",
    "print(f\"Part of val labels for node classification: {nc_val_labels[:3]}\")\n",
    "torch.save(nc_val_labels, nc_val_labels_path)\n",
    "print(f\"NC val labels are saved to {nc_val_labels_path}\\n\")\n",
    "\n",
    "nc_test_ids_path = os.path.join(base_dir, \"nc-test-ids.npy\")\n",
    "nc_test_ids = ids[-num_tests:]\n",
    "print(f\"Part of test ids for node classification: {nc_test_ids[:3]}\")\n",
    "np.save(nc_test_ids_path, nc_test_ids)\n",
    "print(f\"NC test ids are saved to {nc_test_ids_path}\\n\")\n",
    "\n",
    "nc_test_labels_path = os.path.join(base_dir, \"nc-test-labels.pt\")\n",
    "nc_test_labels = torch.randint(0, 10, (num_tests,))\n",
    "print(f\"Part of test labels for node classification: {nc_test_labels[:3]}\")\n",
    "torch.save(nc_test_labels, nc_test_labels_path)\n",
    "print(f\"NC test labels are saved to {nc_test_labels_path}\\n\")"
   ]
  },
  {
   "cell_type": "markdown",
   "metadata": {
    "id": "LhAcDCHQ_KJ0"
   },
   "source": [
    "#### Link Prediction Task\n",
    "For link prediction task, we need **seeds** or **corresponding labels and indexes** which representing the pos/neg property and group of the seeds for each training/validation/test set. Like feature data, numpy arrays and torch tensors are supported for these sets."
   ]
  },
  {
   "cell_type": "code",
   "execution_count": 6,
   "metadata": {
    "execution": {
     "iopub.execute_input": "2024-08-21T14:18:58.063427Z",
     "iopub.status.busy": "2024-08-21T14:18:58.063117Z",
     "iopub.status.idle": "2024-08-21T14:18:58.079792Z",
     "shell.execute_reply": "2024-08-21T14:18:58.079241Z"
    },
    "id": "u0jCnXIcAQy4"
   },
   "outputs": [
    {
     "name": "stdout",
     "output_type": "stream",
     "text": [
      "Part of train seeds for link prediction: [[860 976]\n",
      " [ 78 875]\n",
      " [560 731]]\n",
      "LP train seeds are saved to ./ondisk_dataset_homograph/lp-train-seeds.npy\n",
      "\n",
      "Part of val seeds for link prediction: [[631  65]\n",
      " [138 661]\n",
      " [739 970]]\n",
      "LP val seeds are saved to ./ondisk_dataset_homograph/lp-val-seeds.npy\n",
      "\n",
      "Part of val labels for link prediction: [1. 1. 1.]\n",
      "LP val labels are saved to ./ondisk_dataset_homograph/lp-val-labels.npy\n",
      "\n",
      "Part of val indexes for link prediction: [0 1 2]\n",
      "LP val indexes are saved to ./ondisk_dataset_homograph/lp-val-indexes.npy\n",
      "\n",
      "Part of test seeds for link prediction: [[853 719]\n",
      " [602 771]\n",
      " [138 144]]\n",
      "LP test seeds are saved to ./ondisk_dataset_homograph/lp-test-seeds.npy\n",
      "\n",
      "Part of val labels for link prediction: [1. 1. 1.]\n",
      "LP test labels are saved to ./ondisk_dataset_homograph/lp-test-labels.npy\n",
      "\n",
      "Part of test indexes for link prediction: [0 1 2]\n",
      "LP test indexes are saved to ./ondisk_dataset_homograph/lp-test-indexes.npy\n",
      "\n"
     ]
    }
   ],
   "source": [
    "num_trains = int(num_edges * 0.6)\n",
    "num_vals = int(num_edges * 0.2)\n",
    "num_tests = num_edges - num_trains - num_vals\n",
    "\n",
    "lp_train_seeds_path = os.path.join(base_dir, \"lp-train-seeds.npy\")\n",
    "lp_train_seeds = edges[:num_trains, :]\n",
    "print(f\"Part of train seeds for link prediction: {lp_train_seeds[:3]}\")\n",
    "np.save(lp_train_seeds_path, lp_train_seeds)\n",
    "print(f\"LP train seeds are saved to {lp_train_seeds_path}\\n\")\n",
    "\n",
    "lp_val_seeds_path = os.path.join(base_dir, \"lp-val-seeds.npy\")\n",
    "lp_val_seeds = edges[num_trains:num_trains+num_vals, :]\n",
    "lp_val_neg_dsts = np.random.randint(0, num_nodes, (num_vals, 10)).reshape(-1)\n",
    "lp_val_neg_srcs = np.repeat(lp_val_seeds[:,0], 10)\n",
    "lp_val_neg_seeds = np.concatenate((lp_val_neg_srcs, lp_val_neg_dsts)).reshape(2,-1).T\n",
    "lp_val_seeds = np.concatenate((lp_val_seeds, lp_val_neg_seeds))\n",
    "print(f\"Part of val seeds for link prediction: {lp_val_seeds[:3]}\")\n",
    "np.save(lp_val_seeds_path, lp_val_seeds)\n",
    "print(f\"LP val seeds are saved to {lp_val_seeds_path}\\n\")\n",
    "\n",
    "lp_val_labels_path = os.path.join(base_dir, \"lp-val-labels.npy\")\n",
    "lp_val_labels = np.empty(num_vals * (10 + 1))\n",
    "lp_val_labels[:num_vals] = 1\n",
    "lp_val_labels[num_vals:] = 0\n",
    "print(f\"Part of val labels for link prediction: {lp_val_labels[:3]}\")\n",
    "np.save(lp_val_labels_path, lp_val_labels)\n",
    "print(f\"LP val labels are saved to {lp_val_labels_path}\\n\")\n",
    "\n",
    "lp_val_indexes_path = os.path.join(base_dir, \"lp-val-indexes.npy\")\n",
    "lp_val_indexes = np.arange(0, num_vals)\n",
    "lp_val_neg_indexes = np.repeat(lp_val_indexes, 10)\n",
    "lp_val_indexes = np.concatenate([lp_val_indexes, lp_val_neg_indexes])\n",
    "print(f\"Part of val indexes for link prediction: {lp_val_indexes[:3]}\")\n",
    "np.save(lp_val_indexes_path, lp_val_indexes)\n",
    "print(f\"LP val indexes are saved to {lp_val_indexes_path}\\n\")\n",
    "\n",
    "lp_test_seeds_path = os.path.join(base_dir, \"lp-test-seeds.npy\")\n",
    "lp_test_seeds = edges[-num_tests:, :]\n",
    "lp_test_neg_dsts = np.random.randint(0, num_nodes, (num_tests, 10)).reshape(-1)\n",
    "lp_test_neg_srcs = np.repeat(lp_test_seeds[:,0], 10)\n",
    "lp_test_neg_seeds = np.concatenate((lp_test_neg_srcs, lp_test_neg_dsts)).reshape(2,-1).T\n",
    "lp_test_seeds = np.concatenate((lp_test_seeds, lp_test_neg_seeds))\n",
    "print(f\"Part of test seeds for link prediction: {lp_test_seeds[:3]}\")\n",
    "np.save(lp_test_seeds_path, lp_test_seeds)\n",
    "print(f\"LP test seeds are saved to {lp_test_seeds_path}\\n\")\n",
    "\n",
    "lp_test_labels_path = os.path.join(base_dir, \"lp-test-labels.npy\")\n",
    "lp_test_labels = np.empty(num_tests * (10 + 1))\n",
    "lp_test_labels[:num_tests] = 1\n",
    "lp_test_labels[num_tests:] = 0\n",
    "print(f\"Part of val labels for link prediction: {lp_test_labels[:3]}\")\n",
    "np.save(lp_test_labels_path, lp_test_labels)\n",
    "print(f\"LP test labels are saved to {lp_test_labels_path}\\n\")\n",
    "\n",
    "lp_test_indexes_path = os.path.join(base_dir, \"lp-test-indexes.npy\")\n",
    "lp_test_indexes = np.arange(0, num_tests)\n",
    "lp_test_neg_indexes = np.repeat(lp_test_indexes, 10)\n",
    "lp_test_indexes = np.concatenate([lp_test_indexes, lp_test_neg_indexes])\n",
    "print(f\"Part of test indexes for link prediction: {lp_test_indexes[:3]}\")\n",
    "np.save(lp_test_indexes_path, lp_test_indexes)\n",
    "print(f\"LP test indexes are saved to {lp_test_indexes_path}\\n\")"
   ]
  },
  {
   "cell_type": "markdown",
   "metadata": {
    "id": "wbk6-wxRK-6S"
   },
   "source": [
    "## Organize Data into YAML File\n",
    "Now we need to create a `metadata.yaml` file which contains the paths, dadta types of graph structure, feature data, training/validation/test sets.\n",
    "\n",
    "Notes:\n",
    "- all path should be relative to `metadata.yaml`.\n",
    "- Below fields are optional and not specified in below example.\n",
    "  - `in_memory`: indicates whether to load dada into memory or `mmap`. Default is `True`.\n",
    "\n",
    "Please refer to [YAML specification](https://github.com/dmlc/dgl/blob/master/docs/source/stochastic_training/ondisk-dataset-specification.rst) for more details."
   ]
  },
  {
   "cell_type": "code",
   "execution_count": 7,
   "metadata": {
    "execution": {
     "iopub.execute_input": "2024-08-21T14:18:58.082134Z",
     "iopub.status.busy": "2024-08-21T14:18:58.081930Z",
     "iopub.status.idle": "2024-08-21T14:18:58.087116Z",
     "shell.execute_reply": "2024-08-21T14:18:58.086589Z"
    },
    "id": "ddGTWW61Lpwp"
   },
   "outputs": [],
   "source": [
    "yaml_content = f\"\"\"\n",
    "    dataset_name: homogeneous_graph_nc_lp\n",
    "    graph:\n",
    "      nodes:\n",
    "        - num: {num_nodes}\n",
    "      edges:\n",
    "        - format: csv\n",
    "          path: {os.path.basename(edges_path)}\n",
    "    feature_data:\n",
    "      - domain: node\n",
    "        name: feat_0\n",
    "        format: numpy\n",
    "        path: {os.path.basename(node_feat_0_path)}\n",
    "      - domain: node\n",
    "        name: feat_1\n",
    "        format: torch\n",
    "        path: {os.path.basename(node_feat_1_path)}\n",
    "      - domain: edge\n",
    "        name: feat_0\n",
    "        format: numpy\n",
    "        path: {os.path.basename(edge_feat_0_path)}\n",
    "      - domain: edge\n",
    "        name: feat_1\n",
    "        format: torch\n",
    "        path: {os.path.basename(edge_feat_1_path)}\n",
    "    tasks:\n",
    "      - name: node_classification\n",
    "        num_classes: 10\n",
    "        train_set:\n",
    "          - data:\n",
    "              - name: seeds\n",
    "                format: numpy\n",
    "                path: {os.path.basename(nc_train_ids_path)}\n",
    "              - name: labels\n",
    "                format: torch\n",
    "                path: {os.path.basename(nc_train_labels_path)}\n",
    "        validation_set:\n",
    "          - data:\n",
    "              - name: seeds\n",
    "                format: numpy\n",
    "                path: {os.path.basename(nc_val_ids_path)}\n",
    "              - name: labels\n",
    "                format: torch\n",
    "                path: {os.path.basename(nc_val_labels_path)}\n",
    "        test_set:\n",
    "          - data:\n",
    "              - name: seeds\n",
    "                format: numpy\n",
    "                path: {os.path.basename(nc_test_ids_path)}\n",
    "              - name: labels\n",
    "                format: torch\n",
    "                path: {os.path.basename(nc_test_labels_path)}\n",
    "      - name: link_prediction\n",
    "        num_classes: 10\n",
    "        train_set:\n",
    "          - data:\n",
    "              - name: seeds\n",
    "                format: numpy\n",
    "                path: {os.path.basename(lp_train_seeds_path)}\n",
    "        validation_set:\n",
    "          - data:\n",
    "              - name: seeds\n",
    "                format: numpy\n",
    "                path: {os.path.basename(lp_val_seeds_path)}\n",
    "              - name: labels\n",
    "                format: numpy\n",
    "                path: {os.path.basename(lp_val_labels_path)}\n",
    "              - name: indexes\n",
    "                format: numpy\n",
    "                path: {os.path.basename(lp_val_indexes_path)}\n",
    "        test_set:\n",
    "          - data:\n",
    "              - name: seeds\n",
    "                format: numpy\n",
    "                path: {os.path.basename(lp_test_seeds_path)}\n",
    "              - name: labels\n",
    "                format: numpy\n",
    "                path: {os.path.basename(lp_test_labels_path)}\n",
    "              - name: indexes\n",
    "                format: numpy\n",
    "                path: {os.path.basename(lp_test_indexes_path)}\n",
    "\"\"\"\n",
    "metadata_path = os.path.join(base_dir, \"metadata.yaml\")\n",
    "with open(metadata_path, \"w\") as f:\n",
    "  f.write(yaml_content)"
   ]
  },
  {
   "cell_type": "markdown",
   "metadata": {
    "id": "kEfybHGhOW7O"
   },
   "source": [
    "## Instantiate `OnDiskDataset`\n",
    "Now we're ready to load dataset via `dgl.graphbolt.OnDiskDataset`. When instantiating, we just pass in the base directory where `metadata.yaml` file lies.\n",
    "\n",
    "During first instantiation, GraphBolt preprocesses the raw data such as constructing `FusedCSCSamplingGraph` from edges. All data including graph, feature data, training/validation/test sets are put into `preprocessed` directory after preprocessing. Any following dataset loading will skip the preprocess stage.\n",
    "\n",
    "After preprocessing, `load()` is required to be called explicitly in order to load graph, feature data and tasks."
   ]
  },
  {
   "cell_type": "code",
   "execution_count": 8,
   "metadata": {
    "execution": {
     "iopub.execute_input": "2024-08-21T14:18:58.089360Z",
     "iopub.status.busy": "2024-08-21T14:18:58.089050Z",
     "iopub.status.idle": "2024-08-21T14:18:58.172904Z",
     "shell.execute_reply": "2024-08-21T14:18:58.172328Z"
    },
    "id": "W58CZoSzOiyo"
   },
   "outputs": [
    {
     "name": "stdout",
     "output_type": "stream",
     "text": [
      "The on-disk dataset is re-preprocessing, so the existing preprocessed dataset has been removed.\n",
      "Start to preprocess the on-disk dataset.\n",
      "Finish preprocessing the on-disk dataset.\n",
      "Loaded graph: FusedCSCSamplingGraph(csc_indptr=tensor([    0,    12,    18,  ...,  9979,  9990, 10000], dtype=torch.int32),\n",
      "                      indices=tensor([947, 974, 369,  ..., 365, 741, 340], dtype=torch.int32),\n",
      "                      total_num_nodes=1000, num_edges=10000,)\n",
      "\n",
      "Loaded feature store: TorchBasedFeatureStore(\n",
      "    {(<OnDiskFeatureDataDomain.NODE: 'node'>, None, 'feat_0'): TorchBasedFeature(\n",
      "        feature=tensor([[0.2484, 0.5989, 0.6187, 0.0858, 0.9624],\n",
      "                        [0.9472, 0.6323, 0.9296, 0.7458, 0.1361],\n",
      "                        [0.3455, 0.0782, 0.4826, 0.6281, 0.4637],\n",
      "                        ...,\n",
      "                        [0.7859, 0.5117, 0.4650, 0.4164, 0.0874],\n",
      "                        [0.9947, 0.6675, 0.8891, 0.5042, 0.4137],\n",
      "                        [0.3953, 0.4528, 0.9175, 0.7144, 0.5940]], dtype=torch.float64),\n",
      "        metadata={},\n",
      "    ), (<OnDiskFeatureDataDomain.NODE: 'node'>, None, 'feat_1'): TorchBasedFeature(\n",
      "        feature=tensor([[0.4990, 0.4839, 0.0796, 0.1525, 0.3825],\n",
      "                        [0.5723, 0.3148, 0.9905, 0.0506, 0.9125],\n",
      "                        [0.9090, 0.0433, 0.4762, 0.8200, 0.8906],\n",
      "                        ...,\n",
      "                        [0.4432, 0.5729, 0.2948, 0.7540, 0.1988],\n",
      "                        [0.6672, 0.2334, 0.5447, 0.4247, 0.2999],\n",
      "                        [0.8863, 0.8660, 0.2240, 0.5770, 0.6697]]),\n",
      "        metadata={},\n",
      "    ), (<OnDiskFeatureDataDomain.EDGE: 'edge'>, None, 'feat_0'): TorchBasedFeature(\n",
      "        feature=tensor([[0.5721, 0.6763, 0.6496, 0.6486, 0.5061],\n",
      "                        [0.8240, 0.6656, 0.6438, 0.8224, 0.3340],\n",
      "                        [0.6636, 0.8759, 0.5608, 0.2094, 0.7454],\n",
      "                        ...,\n",
      "                        [0.0618, 0.3514, 0.1747, 0.5049, 0.8692],\n",
      "                        [0.0551, 0.0856, 0.4406, 0.9563, 0.5386],\n",
      "                        [0.5319, 0.9194, 0.8599, 0.2991, 0.7530]], dtype=torch.float64),\n",
      "        metadata={},\n",
      "    ), (<OnDiskFeatureDataDomain.EDGE: 'edge'>, None, 'feat_1'): TorchBasedFeature(\n",
      "        feature=tensor([[0.3968, 0.6248, 0.2270, 0.0939, 0.8170],\n",
      "                        [0.7493, 0.3998, 0.9390, 0.7625, 0.7523],\n",
      "                        [0.7307, 0.9148, 0.2108, 0.8849, 0.7428],\n",
      "                        ...,\n",
      "                        [0.5664, 0.8165, 0.0635, 0.0930, 0.2853],\n",
      "                        [0.8614, 0.8331, 0.0900, 0.4358, 0.3759],\n",
      "                        [0.5125, 0.0376, 0.0664, 0.8748, 0.4459]]),\n",
      "        metadata={},\n",
      "    )}\n",
      ")\n",
      "\n",
      "Loaded node classification task: OnDiskTask(validation_set=ItemSet(\n",
      "               items=(tensor([452, 549, 185, 492, 620, 465, 455, 592,  60, 228,  85, 525, 729, 339,\n",
      "                   300,  53, 313, 121, 811, 242, 284, 528, 665, 187, 448,   2, 357, 713,\n",
      "                   764, 489, 896, 360, 882, 212, 898, 918, 513, 369, 749, 312,  38, 906,\n",
      "                   180, 341, 142, 404, 829, 194, 453, 754, 758,  51, 567, 842, 694,  20,\n",
      "                   807,  68, 922, 701, 959, 342, 917, 499, 967, 255, 860, 802, 479, 258,\n",
      "                   986, 897, 731, 589, 672, 413, 208, 722, 710, 828, 716, 141, 324, 960,\n",
      "                   198, 931, 417,  10, 118, 978, 401, 441, 505, 333, 432, 582, 693, 105,\n",
      "                   237, 738, 140, 399, 839, 957, 189, 219, 507, 913, 873, 103, 476, 215,\n",
      "                   558,  70, 210, 425, 437, 540, 344, 259, 514, 560, 971, 998, 641, 894,\n",
      "                   216, 688, 904,  18, 745, 193, 281, 630, 392,  97, 450, 700, 254, 261,\n",
      "                   347, 654, 989, 178, 236, 871, 306, 590, 310, 385, 792, 915, 206,  95,\n",
      "                   398, 424, 697,  89, 523, 794, 695, 830, 161, 767, 529, 743, 686, 233,\n",
      "                   466, 167, 285, 936, 750, 662, 711, 763, 229, 744, 982, 739, 217, 294,\n",
      "                   696, 850, 640, 737, 508, 274, 588, 825, 565, 391, 853, 468, 774, 462,\n",
      "                   803, 636, 993, 542], dtype=torch.int32), tensor([3, 2, 1, 1, 3, 4, 0, 9, 4, 3, 9, 6, 1, 1, 0, 3, 2, 3, 2, 8, 9, 7, 0, 4,\n",
      "                   6, 2, 6, 6, 2, 8, 6, 9, 0, 3, 0, 9, 5, 6, 2, 8, 5, 7, 8, 6, 4, 4, 6, 7,\n",
      "                   5, 5, 9, 5, 6, 6, 3, 4, 6, 0, 5, 8, 3, 0, 4, 2, 9, 7, 6, 6, 8, 1, 3, 5,\n",
      "                   3, 6, 3, 9, 5, 0, 6, 7, 5, 7, 1, 0, 0, 2, 4, 1, 0, 1, 8, 8, 6, 2, 1, 2,\n",
      "                   8, 0, 5, 8, 1, 8, 2, 0, 5, 1, 8, 9, 4, 3, 1, 6, 4, 6, 9, 4, 5, 4, 4, 2,\n",
      "                   5, 6, 1, 5, 0, 4, 0, 2, 1, 6, 8, 0, 6, 2, 2, 9, 6, 6, 4, 2, 3, 0, 6, 9,\n",
      "                   2, 5, 8, 4, 2, 6, 9, 9, 0, 5, 1, 7, 7, 2, 5, 4, 0, 5, 9, 8, 6, 0, 7, 3,\n",
      "                   4, 3, 9, 1, 8, 7, 1, 6, 1, 0, 3, 8, 1, 5, 1, 3, 7, 6, 9, 7, 3, 7, 8, 3,\n",
      "                   8, 6, 8, 8, 0, 7, 3, 1])),\n",
      "               names=('seeds', 'labels'),\n",
      "           ),\n",
      "           train_set=ItemSet(\n",
      "               items=(tensor([611, 706, 661, 292, 874, 659, 340, 454,  30,  66, 199, 451, 414, 770,\n",
      "                   337, 775, 762, 149, 238, 833, 843, 927, 715, 429,  26, 691, 266, 822,\n",
      "                   389, 483, 506, 319, 926, 574, 776, 626, 174, 994, 810, 207, 832, 495,\n",
      "                   544, 778,  43, 902, 422, 683, 618, 765, 164, 148, 134, 797, 979, 136,\n",
      "                   633, 328, 296, 182, 992, 837, 671, 316, 172, 584, 689, 221, 559, 218,\n",
      "                   438, 951, 768, 488, 428, 445,  28, 444, 224, 498, 159, 289, 510, 786,\n",
      "                   916, 930, 464,  32, 766, 721,  61, 591, 108, 522, 154, 396, 835,  21,\n",
      "                   547, 973, 343, 878, 135, 652, 374, 267, 759, 934, 362, 603, 573, 469,\n",
      "                   578,   4, 501, 114, 271, 879, 806, 569, 302, 932,   7, 707, 604, 158,\n",
      "                    74, 552, 354, 834, 291, 606,  87,  56, 329, 315, 673, 631, 595, 818,\n",
      "                    73, 394, 601, 318,  36, 634, 530, 605, 921, 520, 241, 945,  55, 884,\n",
      "                   371,  12, 943, 485, 409, 564, 282, 265, 704, 827, 676,  22, 519, 870,\n",
      "                   532, 516, 137, 440, 831, 813, 910, 687, 642, 999, 222, 667, 660, 268,\n",
      "                   761, 304, 473,  88, 809, 698, 190,  15, 942, 527, 345, 801, 782, 746,\n",
      "                   386, 352, 579, 420, 935, 251, 487, 727, 637, 893, 307, 581, 415, 856,\n",
      "                   908, 372, 131, 859,  42,  34, 449, 635, 826, 705, 150, 941, 511, 550,\n",
      "                    94, 104,   0, 431,  40, 211,  98,  93, 456,  17, 515, 984, 162,  57,\n",
      "                   593, 545, 597, 232, 865, 107, 376, 907, 205,  92, 246, 670, 348, 434,\n",
      "                   272, 732, 381,  11,  58, 883, 130, 862, 864, 192, 176, 730, 699, 608,\n",
      "                    25, 365, 571, 209, 712,  54, 407, 546, 586, 421, 947,  47, 875, 240,\n",
      "                   393, 475, 632, 287, 457,  62, 123, 484, 351, 446,  64,  96, 538, 543,\n",
      "                   845,  72, 736,  33, 443, 245,  82, 378, 974, 648, 760, 815, 629,  39,\n",
      "                   166, 295, 332, 442, 675, 152, 270, 117, 568, 869, 814, 331, 748, 680,\n",
      "                   964,  84, 320, 789, 188, 972,   5, 861, 490, 213, 602,  45, 735,  63,\n",
      "                   133, 518, 539, 685, 956, 447,  71, 655, 555, 903, 280, 204, 497, 279,\n",
      "                   952, 621, 230, 418, 101, 184, 891, 175, 848, 888, 719, 112,  44, 116,\n",
      "                   901, 402, 554, 937, 985, 821, 293,  50, 200, 627, 755, 924, 980, 338,\n",
      "                   841, 756,  65, 909,  19, 373, 106, 264, 966,  41, 115, 953, 253, 439,\n",
      "                   263, 147, 186, 734, 327, 410, 430, 628, 364, 361, 226, 867, 977, 919,\n",
      "                   787, 521, 679, 639, 477, 419, 892, 330, 301, 876, 460, 408, 533, 747,\n",
      "                   403, 243, 173, 872, 780, 235, 183, 857,  80, 288, 195, 889, 197,  16,\n",
      "                   335, 350, 461, 474, 459, 958, 298, 733, 146, 678, 426, 709, 363,  99,\n",
      "                   248, 612, 863, 772, 358, 844, 397, 496, 838, 912, 570, 353, 127, 769,\n",
      "                   928, 657, 411, 718, 502, 900, 536,  75, 191, 260, 472,  48, 677, 326,\n",
      "                   950, 534, 336, 656, 157, 110, 939, 359, 741, 325, 791, 663, 587, 643,\n",
      "                   790, 725, 120, 726, 111, 416, 160, 805, 139,  69, 975, 132, 669,  31,\n",
      "                   625, 623, 598, 968, 249, 668, 375, 799, 987, 512, 777, 145, 276,   1,\n",
      "                   277, 650, 400, 181, 577, 517,  13, 427, 796,  52, 995,  83, 963, 798,\n",
      "                   537,  27, 644, 458, 500,   6, 553, 509, 323, 308, 793, 244, 847, 370,\n",
      "                   855, 580, 155, 854, 503, 482, 223, 382, 283, 938, 720, 788, 168, 649,\n",
      "                   771, 607, 234, 925, 773, 366, 380, 779, 575, 576, 383, 412, 379, 962,\n",
      "                   617, 129, 125, 724, 970, 269, 929,   8, 840, 273,   3, 395, 955, 647,\n",
      "                    90, 309,  59,  46, 923,  49, 384, 405, 609,  76, 949, 594],\n",
      "                  dtype=torch.int32), tensor([5, 5, 0, 3, 0, 5, 2, 8, 8, 4, 7, 3, 1, 9, 7, 1, 7, 7, 6, 3, 6, 2, 7, 6,\n",
      "                   0, 7, 0, 6, 0, 8, 0, 8, 1, 3, 5, 0, 7, 1, 0, 2, 7, 5, 4, 1, 0, 2, 3, 6,\n",
      "                   4, 2, 2, 5, 3, 0, 9, 5, 9, 6, 5, 7, 4, 8, 1, 0, 9, 0, 3, 9, 0, 7, 1, 0,\n",
      "                   1, 7, 1, 2, 5, 4, 9, 7, 0, 0, 0, 2, 8, 7, 7, 6, 3, 4, 9, 5, 7, 0, 9, 4,\n",
      "                   0, 3, 4, 2, 9, 1, 5, 7, 7, 4, 5, 4, 4, 1, 0, 2, 8, 8, 3, 3, 5, 8, 2, 0,\n",
      "                   3, 4, 2, 6, 4, 3, 5, 9, 0, 8, 8, 8, 2, 7, 6, 5, 0, 3, 9, 6, 6, 3, 1, 3,\n",
      "                   6, 8, 6, 9, 0, 2, 8, 6, 2, 1, 7, 5, 5, 9, 6, 2, 2, 6, 1, 4, 0, 7, 1, 0,\n",
      "                   0, 3, 9, 0, 8, 0, 2, 5, 2, 6, 0, 0, 0, 0, 0, 0, 3, 7, 8, 8, 2, 2, 2, 4,\n",
      "                   6, 2, 7, 5, 8, 7, 9, 0, 3, 5, 4, 7, 2, 0, 7, 3, 5, 3, 8, 5, 0, 8, 2, 4,\n",
      "                   1, 6, 1, 8, 9, 4, 7, 3, 3, 4, 1, 7, 0, 2, 9, 2, 6, 7, 9, 1, 7, 1, 6, 1,\n",
      "                   4, 8, 0, 1, 6, 5, 4, 1, 0, 1, 9, 3, 0, 3, 1, 5, 5, 7, 8, 4, 7, 3, 6, 1,\n",
      "                   0, 7, 2, 4, 6, 2, 6, 9, 7, 0, 6, 0, 9, 9, 1, 1, 1, 3, 9, 7, 1, 9, 5, 1,\n",
      "                   6, 9, 9, 3, 5, 2, 2, 7, 0, 6, 7, 3, 2, 6, 3, 0, 1, 5, 8, 4, 8, 8, 6, 0,\n",
      "                   3, 0, 9, 5, 5, 3, 1, 2, 7, 9, 0, 7, 5, 9, 9, 0, 3, 2, 4, 8, 2, 6, 0, 6,\n",
      "                   5, 3, 2, 8, 4, 4, 8, 8, 0, 1, 4, 3, 3, 2, 2, 0, 7, 1, 8, 7, 0, 1, 3, 4,\n",
      "                   4, 8, 0, 4, 5, 1, 2, 2, 5, 5, 7, 6, 2, 9, 6, 4, 1, 1, 9, 9, 3, 1, 0, 0,\n",
      "                   5, 4, 3, 2, 7, 6, 0, 6, 1, 0, 2, 8, 0, 2, 9, 1, 6, 1, 3, 1, 1, 1, 0, 6,\n",
      "                   5, 1, 8, 1, 9, 5, 2, 5, 0, 0, 0, 6, 6, 0, 0, 5, 6, 7, 2, 3, 4, 0, 4, 4,\n",
      "                   0, 9, 4, 7, 3, 1, 1, 7, 9, 4, 4, 6, 0, 3, 9, 7, 8, 2, 6, 0, 0, 5, 0, 6,\n",
      "                   7, 9, 8, 2, 8, 7, 4, 0, 6, 7, 3, 4, 1, 9, 5, 7, 7, 5, 3, 0, 6, 8, 5, 2,\n",
      "                   1, 7, 3, 9, 8, 6, 8, 2, 5, 5, 8, 9, 8, 0, 5, 1, 2, 9, 4, 9, 2, 4, 6, 6,\n",
      "                   9, 7, 8, 3, 3, 1, 9, 6, 3, 7, 3, 2, 7, 0, 0, 8, 9, 1, 2, 4, 5, 0, 6, 2,\n",
      "                   9, 7, 6, 0, 8, 5, 1, 1, 8, 5, 1, 1, 3, 7, 2, 0, 6, 0, 3, 1, 8, 2, 5, 6,\n",
      "                   3, 8, 5, 4, 5, 8, 8, 0, 0, 9, 5, 7, 2, 1, 2, 6, 1, 4, 2, 3, 2, 7, 8, 8,\n",
      "                   3, 6, 7, 8, 2, 5, 8, 8, 6, 5, 4, 8, 8, 3, 5, 2, 0, 8, 0, 5, 6, 2, 3, 2])),\n",
      "               names=('seeds', 'labels'),\n",
      "           ),\n",
      "           test_set=ItemSet(\n",
      "               items=(tensor([752, 156, 751, 531, 494,  24, 781, 997, 599, 541, 356, 596, 493, 377,\n",
      "                   983, 820, 250, 109, 151, 714, 785, 524, 991, 572, 275, 436,  23, 349,\n",
      "                   708, 202, 622, 981, 252, 119, 388, 256, 961, 933, 311, 124, 297, 795,\n",
      "                   387,   9,  77, 651, 846, 179, 905, 113, 624,  79, 317, 658, 433, 551,\n",
      "                   976, 390, 303, 613, 703, 619,  78, 742, 126, 214, 557, 849, 920, 102,\n",
      "                   969, 165, 653, 177, 692, 914, 435, 954, 887, 886, 684, 480, 138, 615,\n",
      "                   895, 702, 836, 163, 290, 225, 990, 728,  81, 170, 196, 666, 784, 153,\n",
      "                   824, 610, 122, 171, 858, 227, 169, 526, 800, 561, 757, 880, 299, 996,\n",
      "                    67, 423,  37, 504, 247, 851, 463, 600, 262, 355, 563, 100, 753, 911,\n",
      "                   717, 852, 143, 614, 334, 723, 322,  91, 783,  35, 203, 367, 646, 740,\n",
      "                   690, 231, 885, 817, 471, 556, 804, 890, 819, 566, 481, 808, 899, 562,\n",
      "                   823, 278, 866, 406, 478,  29, 816, 645, 940, 346, 220, 305, 946, 486,\n",
      "                   988, 470, 548, 491, 257, 239, 314, 812, 583, 467, 944, 201, 616, 585,\n",
      "                   638, 877, 286, 868,  14, 535, 144, 682, 321,  86, 948, 128, 664, 965,\n",
      "                   674, 368, 881, 681], dtype=torch.int32), tensor([7, 1, 7, 8, 7, 9, 2, 4, 2, 1, 1, 9, 3, 0, 5, 5, 5, 3, 0, 0, 4, 1, 9, 0,\n",
      "                   7, 2, 2, 5, 2, 0, 2, 9, 3, 0, 1, 5, 3, 3, 2, 4, 7, 1, 6, 8, 9, 7, 7, 5,\n",
      "                   4, 3, 5, 2, 7, 2, 1, 1, 9, 5, 5, 4, 9, 8, 4, 4, 3, 0, 2, 8, 2, 1, 8, 2,\n",
      "                   7, 7, 5, 7, 8, 7, 4, 9, 3, 6, 4, 0, 8, 9, 4, 6, 5, 3, 9, 5, 4, 5, 8, 3,\n",
      "                   6, 3, 7, 0, 9, 4, 8, 4, 4, 2, 1, 0, 6, 7, 9, 8, 8, 6, 7, 9, 4, 3, 7, 9,\n",
      "                   2, 0, 3, 7, 3, 6, 5, 7, 9, 9, 9, 9, 0, 2, 4, 6, 9, 7, 6, 2, 0, 8, 4, 3,\n",
      "                   4, 7, 6, 6, 8, 5, 5, 4, 1, 8, 1, 4, 8, 9, 0, 2, 9, 1, 6, 8, 0, 4, 5, 0,\n",
      "                   7, 0, 1, 7, 5, 5, 7, 8, 1, 0, 2, 5, 1, 6, 4, 6, 6, 0, 0, 7, 4, 2, 4, 4,\n",
      "                   0, 4, 5, 5, 9, 2, 1, 9])),\n",
      "               names=('seeds', 'labels'),\n",
      "           ),\n",
      "           metadata={'name': 'node_classification', 'num_classes': 10},)\n",
      "\n",
      "Loaded link prediction task: OnDiskTask(validation_set=ItemSet(\n",
      "               items=(tensor([[631,  65],\n",
      "                   [138, 661],\n",
      "                   [739, 970],\n",
      "                   ...,\n",
      "                   [192, 264],\n",
      "                   [192, 816],\n",
      "                   [192, 430]], dtype=torch.int32), tensor([1., 1., 1.,  ..., 0., 0., 0.], dtype=torch.float64), tensor([   0,    1,    2,  ..., 1999, 1999, 1999])),\n",
      "               names=('seeds', 'labels', 'indexes'),\n",
      "           ),\n",
      "           train_set=ItemSet(\n",
      "               items=(tensor([[860, 976],\n",
      "                   [ 78, 875],\n",
      "                   [560, 731],\n",
      "                   ...,\n",
      "                   [665, 635],\n",
      "                   [665, 652],\n",
      "                   [399, 122]], dtype=torch.int32),),\n",
      "               names=('seeds',),\n",
      "           ),\n",
      "           test_set=ItemSet(\n",
      "               items=(tensor([[853, 719],\n",
      "                   [602, 771],\n",
      "                   [138, 144],\n",
      "                   ...,\n",
      "                   [913, 716],\n",
      "                   [913, 435],\n",
      "                   [913, 364]], dtype=torch.int32), tensor([1., 1., 1.,  ..., 0., 0., 0.], dtype=torch.float64), tensor([   0,    1,    2,  ..., 1999, 1999, 1999])),\n",
      "               names=('seeds', 'labels', 'indexes'),\n",
      "           ),\n",
      "           metadata={'name': 'link_prediction', 'num_classes': 10},)\n",
      "\n"
     ]
    },
    {
     "name": "stderr",
     "output_type": "stream",
     "text": [
      "/home/ubuntu/regression_test/dgl/python/dgl/graphbolt/impl/ondisk_dataset.py:460: DGLWarning: Edge feature is stored, but edge IDs are not saved.\n",
      "  dgl_warning(\"Edge feature is stored, but edge IDs are not saved.\")\n"
     ]
    }
   ],
   "source": [
    "dataset = gb.OnDiskDataset(base_dir).load()\n",
    "graph = dataset.graph\n",
    "print(f\"Loaded graph: {graph}\\n\")\n",
    "\n",
    "feature = dataset.feature\n",
    "print(f\"Loaded feature store: {feature}\\n\")\n",
    "\n",
    "tasks = dataset.tasks\n",
    "nc_task = tasks[0]\n",
    "print(f\"Loaded node classification task: {nc_task}\\n\")\n",
    "lp_task = tasks[1]\n",
    "print(f\"Loaded link prediction task: {lp_task}\\n\")"
   ]
  }
 ],
 "metadata": {
  "colab": {
   "private_outputs": true,
   "provenance": []
  },
  "kernelspec": {
   "display_name": "Python 3",
   "name": "python3"
  },
  "language_info": {
   "codemirror_mode": {
    "name": "ipython",
    "version": 3
   },
   "file_extension": ".py",
   "mimetype": "text/x-python",
   "name": "python",
   "nbconvert_exporter": "python",
   "pygments_lexer": "ipython3",
   "version": "3.10.14"
  }
 },
 "nbformat": 4,
 "nbformat_minor": 0
}

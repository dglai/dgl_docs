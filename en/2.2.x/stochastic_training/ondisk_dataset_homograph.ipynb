{
 "cells": [
  {
   "cell_type": "markdown",
   "metadata": {
    "id": "FnFhPMaAfLtJ"
   },
   "source": [
    "# OnDiskDataset for Homogeneous Graph\n",
    "\n",
    "[![Open In Colab](https://colab.research.google.com/assets/colab-badge.svg)](https://colab.research.google.com/github/dmlc/dgl/blob/master/notebooks/stochastic_training/ondisk_dataset_homograph.ipynb) [![GitHub](https://img.shields.io/badge/-View%20on%20GitHub-181717?logo=github&logoColor=ffffff)](https://github.com/dmlc/dgl/blob/master/notebooks/stochastic_training/ondisk_dataset_homograph.ipynb)\n",
    "\n",
    "This tutorial shows how to create `OnDiskDataset` for homogeneous graph that could be used in **GraphBolt** framework.\n",
    "\n",
    "By the end of this tutorial, you will be able to\n",
    "\n",
    "- organize graph structure data.\n",
    "- organize feature data.\n",
    "- organize training/validation/test set for specific tasks.\n",
    "\n",
    "To create an ``OnDiskDataset`` object, you need to organize all the data including graph structure, feature data and tasks into a directory. The directory should contain a ``metadata.yaml`` file that describes the metadata of the dataset.\n",
    "\n",
    "Now let's generate various data step by step and organize them together to instantiate `OnDiskDataset` finally."
   ]
  },
  {
   "cell_type": "markdown",
   "metadata": {
    "id": "Wlb19DtWgtzq"
   },
   "source": [
    "## Install DGL package"
   ]
  },
  {
   "cell_type": "code",
   "execution_count": 1,
   "metadata": {
    "execution": {
     "iopub.execute_input": "2024-08-20T07:07:46.696813Z",
     "iopub.status.busy": "2024-08-20T07:07:46.696524Z",
     "iopub.status.idle": "2024-08-20T07:07:50.578689Z",
     "shell.execute_reply": "2024-08-20T07:07:50.577808Z"
    },
    "id": "UojlT9ZGgyr9"
   },
   "outputs": [
    {
     "name": "stdout",
     "output_type": "stream",
     "text": [
      "Looking in links: https://data.dgl.ai/wheels-test/repo.html\r\n",
      "Requirement already satisfied: dgl in /opt/conda/envs/dgl-dev-cpu/lib/python3.10/site-packages (2.2a240410)\r\n",
      "Requirement already satisfied: numpy>=1.14.0 in /opt/conda/envs/dgl-dev-cpu/lib/python3.10/site-packages (from dgl) (1.26.4)\r\n",
      "Requirement already satisfied: scipy>=1.1.0 in /opt/conda/envs/dgl-dev-cpu/lib/python3.10/site-packages (from dgl) (1.14.0)\r\n",
      "Requirement already satisfied: networkx>=2.1 in /opt/conda/envs/dgl-dev-cpu/lib/python3.10/site-packages (from dgl) (3.3)\r\n",
      "Requirement already satisfied: requests>=2.19.0 in /opt/conda/envs/dgl-dev-cpu/lib/python3.10/site-packages (from dgl) (2.32.3)\r\n",
      "Requirement already satisfied: tqdm in /opt/conda/envs/dgl-dev-cpu/lib/python3.10/site-packages (from dgl) (4.66.5)\r\n",
      "Requirement already satisfied: psutil>=5.8.0 in /opt/conda/envs/dgl-dev-cpu/lib/python3.10/site-packages (from dgl) (6.0.0)\r\n",
      "Requirement already satisfied: torchdata>=0.5.0 in /opt/conda/envs/dgl-dev-cpu/lib/python3.10/site-packages (from dgl) (0.7.1+6427ed9)\r\n",
      "Requirement already satisfied: pandas in /opt/conda/envs/dgl-dev-cpu/lib/python3.10/site-packages (from dgl) (2.2.2)\r\n",
      "Requirement already satisfied: charset-normalizer<4,>=2 in /opt/conda/envs/dgl-dev-cpu/lib/python3.10/site-packages (from requests>=2.19.0->dgl) (3.3.2)\r\n",
      "Requirement already satisfied: idna<4,>=2.5 in /opt/conda/envs/dgl-dev-cpu/lib/python3.10/site-packages (from requests>=2.19.0->dgl) (3.7)\r\n",
      "Requirement already satisfied: urllib3<3,>=1.21.1 in /opt/conda/envs/dgl-dev-cpu/lib/python3.10/site-packages (from requests>=2.19.0->dgl) (2.2.2)\r\n",
      "Requirement already satisfied: certifi>=2017.4.17 in /opt/conda/envs/dgl-dev-cpu/lib/python3.10/site-packages (from requests>=2.19.0->dgl) (2024.7.4)\r\n",
      "Requirement already satisfied: torch>=2 in /opt/conda/envs/dgl-dev-cpu/lib/python3.10/site-packages (from torchdata>=0.5.0->dgl) (2.1.0+cpu)\r\n"
     ]
    },
    {
     "name": "stdout",
     "output_type": "stream",
     "text": [
      "Requirement already satisfied: python-dateutil>=2.8.2 in /opt/conda/envs/dgl-dev-cpu/lib/python3.10/site-packages (from pandas->dgl) (2.9.0.post0)\r\n",
      "Requirement already satisfied: pytz>=2020.1 in /opt/conda/envs/dgl-dev-cpu/lib/python3.10/site-packages (from pandas->dgl) (2024.1)\r\n",
      "Requirement already satisfied: tzdata>=2022.7 in /opt/conda/envs/dgl-dev-cpu/lib/python3.10/site-packages (from pandas->dgl) (2024.1)\r\n",
      "Requirement already satisfied: six>=1.5 in /opt/conda/envs/dgl-dev-cpu/lib/python3.10/site-packages (from python-dateutil>=2.8.2->pandas->dgl) (1.16.0)\r\n",
      "Requirement already satisfied: filelock in /opt/conda/envs/dgl-dev-cpu/lib/python3.10/site-packages (from torch>=2->torchdata>=0.5.0->dgl) (3.15.4)\r\n",
      "Requirement already satisfied: typing-extensions in /opt/conda/envs/dgl-dev-cpu/lib/python3.10/site-packages (from torch>=2->torchdata>=0.5.0->dgl) (4.12.2)\r\n",
      "Requirement already satisfied: sympy in /opt/conda/envs/dgl-dev-cpu/lib/python3.10/site-packages (from torch>=2->torchdata>=0.5.0->dgl) (1.13.2)\r\n",
      "Requirement already satisfied: jinja2 in /opt/conda/envs/dgl-dev-cpu/lib/python3.10/site-packages (from torch>=2->torchdata>=0.5.0->dgl) (3.1.4)\r\n",
      "Requirement already satisfied: fsspec in /opt/conda/envs/dgl-dev-cpu/lib/python3.10/site-packages (from torch>=2->torchdata>=0.5.0->dgl) (2024.6.1)\r\n"
     ]
    },
    {
     "name": "stdout",
     "output_type": "stream",
     "text": [
      "Requirement already satisfied: MarkupSafe>=2.0 in /opt/conda/envs/dgl-dev-cpu/lib/python3.10/site-packages (from jinja2->torch>=2->torchdata>=0.5.0->dgl) (2.1.5)\r\n",
      "Requirement already satisfied: mpmath<1.4,>=1.1.0 in /opt/conda/envs/dgl-dev-cpu/lib/python3.10/site-packages (from sympy->torch>=2->torchdata>=0.5.0->dgl) (1.3.0)\r\n"
     ]
    },
    {
     "name": "stdout",
     "output_type": "stream",
     "text": [
      "DGL installed!\n"
     ]
    }
   ],
   "source": [
    "# Install required packages.\n",
    "import os\n",
    "import torch\n",
    "import numpy as np\n",
    "os.environ['TORCH'] = torch.__version__\n",
    "os.environ['DGLBACKEND'] = \"pytorch\"\n",
    "\n",
    "# Install the CPU version.\n",
    "device = torch.device(\"cpu\")\n",
    "!pip install --pre dgl -f https://data.dgl.ai/wheels-test/repo.html\n",
    "\n",
    "try:\n",
    "    import dgl\n",
    "    import dgl.graphbolt as gb\n",
    "    installed = True\n",
    "except ImportError as error:\n",
    "    installed = False\n",
    "    print(error)\n",
    "print(\"DGL installed!\" if installed else \"DGL not found!\")"
   ]
  },
  {
   "cell_type": "markdown",
   "metadata": {
    "id": "2R7WnSbjsfbr"
   },
   "source": [
    "## Data preparation\n",
    "In order to demonstrate how to organize various data, let's create a base directory first."
   ]
  },
  {
   "cell_type": "code",
   "execution_count": 2,
   "metadata": {
    "execution": {
     "iopub.execute_input": "2024-08-20T07:07:50.581903Z",
     "iopub.status.busy": "2024-08-20T07:07:50.581239Z",
     "iopub.status.idle": "2024-08-20T07:07:50.585596Z",
     "shell.execute_reply": "2024-08-20T07:07:50.584888Z"
    },
    "id": "SZipbzyltLfO"
   },
   "outputs": [
    {
     "name": "stdout",
     "output_type": "stream",
     "text": [
      "Created base directory: ./ondisk_dataset_homograph\n"
     ]
    }
   ],
   "source": [
    "base_dir = './ondisk_dataset_homograph'\n",
    "os.makedirs(base_dir, exist_ok=True)\n",
    "print(f\"Created base directory: {base_dir}\")"
   ]
  },
  {
   "cell_type": "markdown",
   "metadata": {
    "id": "qhNtIn_xhlnl"
   },
   "source": [
    "### Generate graph structure data\n",
    "For homogeneous graph, we just need to save edges(namely seeds) into  **Numpy** or **CSV** file.\n",
    "\n",
    "Note:\n",
    "- when saving to **Numpy**, the array requires to be in shape of `(2, N)`. This format is recommended as constructing graph from it is much faster than **CSV** file.\n",
    "- when saving to **CSV** file, do not save index and header.\n"
   ]
  },
  {
   "cell_type": "code",
   "execution_count": 3,
   "metadata": {
    "execution": {
     "iopub.execute_input": "2024-08-20T07:07:50.587954Z",
     "iopub.status.busy": "2024-08-20T07:07:50.587686Z",
     "iopub.status.idle": "2024-08-20T07:07:50.601414Z",
     "shell.execute_reply": "2024-08-20T07:07:50.600799Z"
    },
    "id": "HcBt4G5BmSjr"
   },
   "outputs": [
    {
     "name": "stdout",
     "output_type": "stream",
     "text": [
      "Part of edges: [[413 537]\n",
      " [756 869]\n",
      " [ 78 842]\n",
      " [742 338]\n",
      " [717 672]]\n",
      "Edges are saved into ./ondisk_dataset_homograph/edges.csv\n"
     ]
    }
   ],
   "source": [
    "import numpy as np\n",
    "import pandas as pd\n",
    "num_nodes = 1000\n",
    "num_edges = 10 * num_nodes\n",
    "edges_path = os.path.join(base_dir, \"edges.csv\")\n",
    "edges = np.random.randint(0, num_nodes, size=(num_edges, 2))\n",
    "\n",
    "print(f\"Part of edges: {edges[:5, :]}\")\n",
    "\n",
    "df = pd.DataFrame(edges)\n",
    "df.to_csv(edges_path, index=False, header=False)\n",
    "\n",
    "print(f\"Edges are saved into {edges_path}\")"
   ]
  },
  {
   "cell_type": "markdown",
   "metadata": {
    "id": "kh-4cPtzpcaH"
   },
   "source": [
    "### Generate feature data for graph\n",
    "For feature data, numpy arrays and torch tensors are supported for now."
   ]
  },
  {
   "cell_type": "code",
   "execution_count": 4,
   "metadata": {
    "execution": {
     "iopub.execute_input": "2024-08-20T07:07:50.603881Z",
     "iopub.status.busy": "2024-08-20T07:07:50.603619Z",
     "iopub.status.idle": "2024-08-20T07:07:50.617371Z",
     "shell.execute_reply": "2024-08-20T07:07:50.616558Z"
    },
    "id": "_PVu1u5brBhF"
   },
   "outputs": [
    {
     "name": "stdout",
     "output_type": "stream",
     "text": [
      "Part of node feature [feat_0]: [[0.68407524 0.58429297 0.54257343 0.05757604 0.0410907 ]\n",
      " [0.08723319 0.33788766 0.91991799 0.82670219 0.22554299]\n",
      " [0.90885425 0.29745953 0.42888052 0.45051682 0.60823049]]\n",
      "Node feature [feat_0] is saved to ./ondisk_dataset_homograph/node-feat-0.npy\n",
      "\n",
      "Part of node feature [feat_1]: tensor([[0.9019, 0.0460, 0.5791, 0.0310, 0.1361],\n",
      "        [0.7538, 0.4030, 0.1433, 0.1819, 0.3485],\n",
      "        [0.1523, 0.2078, 0.3570, 0.8256, 0.7852]])\n",
      "Node feature [feat_1] is saved to ./ondisk_dataset_homograph/node-feat-1.pt\n",
      "\n",
      "Part of edge feature [feat_0]: [[0.91551655 0.9447313  0.68186891 0.28494988 0.91355004]\n",
      " [0.62599522 0.66069917 0.73160804 0.23854466 0.87532319]\n",
      " [0.483424   0.02048113 0.0830236  0.01333219 0.87956866]]\n",
      "Edge feature [feat_0] is saved to ./ondisk_dataset_homograph/edge-feat-0.npy\n",
      "\n",
      "Part of edge feature [feat_1]: tensor([[0.0246, 0.1090, 0.4183, 0.3569, 0.0605],\n",
      "        [0.5877, 0.6570, 0.1945, 0.0169, 0.8591],\n",
      "        [0.3670, 0.7774, 0.8156, 0.1235, 0.8915]])\n",
      "Edge feature [feat_1] is saved to ./ondisk_dataset_homograph/edge-feat-1.pt\n",
      "\n"
     ]
    }
   ],
   "source": [
    "# Generate node feature in numpy array.\n",
    "node_feat_0_path = os.path.join(base_dir, \"node-feat-0.npy\")\n",
    "node_feat_0 = np.random.rand(num_nodes, 5)\n",
    "print(f\"Part of node feature [feat_0]: {node_feat_0[:3, :]}\")\n",
    "np.save(node_feat_0_path, node_feat_0)\n",
    "print(f\"Node feature [feat_0] is saved to {node_feat_0_path}\\n\")\n",
    "\n",
    "# Generate another node feature in torch tensor\n",
    "node_feat_1_path = os.path.join(base_dir, \"node-feat-1.pt\")\n",
    "node_feat_1 = torch.rand(num_nodes, 5)\n",
    "print(f\"Part of node feature [feat_1]: {node_feat_1[:3, :]}\")\n",
    "torch.save(node_feat_1, node_feat_1_path)\n",
    "print(f\"Node feature [feat_1] is saved to {node_feat_1_path}\\n\")\n",
    "\n",
    "# Generate edge feature in numpy array.\n",
    "edge_feat_0_path = os.path.join(base_dir, \"edge-feat-0.npy\")\n",
    "edge_feat_0 = np.random.rand(num_edges, 5)\n",
    "print(f\"Part of edge feature [feat_0]: {edge_feat_0[:3, :]}\")\n",
    "np.save(edge_feat_0_path, edge_feat_0)\n",
    "print(f\"Edge feature [feat_0] is saved to {edge_feat_0_path}\\n\")\n",
    "\n",
    "# Generate another edge feature in torch tensor\n",
    "edge_feat_1_path = os.path.join(base_dir, \"edge-feat-1.pt\")\n",
    "edge_feat_1 = torch.rand(num_edges, 5)\n",
    "print(f\"Part of edge feature [feat_1]: {edge_feat_1[:3, :]}\")\n",
    "torch.save(edge_feat_1, edge_feat_1_path)\n",
    "print(f\"Edge feature [feat_1] is saved to {edge_feat_1_path}\\n\")\n"
   ]
  },
  {
   "cell_type": "markdown",
   "metadata": {
    "id": "ZyqgOtsIwzh_"
   },
   "source": [
    "### Generate tasks\n",
    "`OnDiskDataset` supports multiple tasks. For each task, we need to prepare training/validation/test sets respectively. Such sets usually vary among different tasks. In this tutorial, let's create a **Node Classification** task and **Link Prediction** task."
   ]
  },
  {
   "cell_type": "markdown",
   "metadata": {
    "id": "hVxHaDIfzCkr"
   },
   "source": [
    "#### Node Classification Task\n",
    "For node classification task, we need **node IDs** and corresponding **labels** for each training/validation/test set. Like feature data, numpy arrays and torch tensors are supported for these sets."
   ]
  },
  {
   "cell_type": "code",
   "execution_count": 5,
   "metadata": {
    "execution": {
     "iopub.execute_input": "2024-08-20T07:07:50.620042Z",
     "iopub.status.busy": "2024-08-20T07:07:50.619647Z",
     "iopub.status.idle": "2024-08-20T07:07:50.629720Z",
     "shell.execute_reply": "2024-08-20T07:07:50.629197Z"
    },
    "id": "S5-fyBbHzTCO"
   },
   "outputs": [
    {
     "name": "stdout",
     "output_type": "stream",
     "text": [
      "Part of train ids for node classification: [242 486 168]\n",
      "NC train ids are saved to ./ondisk_dataset_homograph/nc-train-ids.npy\n",
      "\n",
      "Part of train labels for node classification: tensor([7, 0, 3])\n",
      "NC train labels are saved to ./ondisk_dataset_homograph/nc-train-labels.pt\n",
      "\n",
      "Part of val ids for node classification: [210 286 665]\n",
      "NC val ids are saved to ./ondisk_dataset_homograph/nc-val-ids.npy\n",
      "\n",
      "Part of val labels for node classification: tensor([5, 3, 1])\n",
      "NC val labels are saved to ./ondisk_dataset_homograph/nc-val-labels.pt\n",
      "\n",
      "Part of test ids for node classification: [292 655 854]\n",
      "NC test ids are saved to ./ondisk_dataset_homograph/nc-test-ids.npy\n",
      "\n",
      "Part of test labels for node classification: tensor([8, 7, 6])\n",
      "NC test labels are saved to ./ondisk_dataset_homograph/nc-test-labels.pt\n",
      "\n"
     ]
    }
   ],
   "source": [
    "num_trains = int(num_nodes * 0.6)\n",
    "num_vals = int(num_nodes * 0.2)\n",
    "num_tests = num_nodes - num_trains - num_vals\n",
    "\n",
    "ids = np.arange(num_nodes)\n",
    "np.random.shuffle(ids)\n",
    "\n",
    "nc_train_ids_path = os.path.join(base_dir, \"nc-train-ids.npy\")\n",
    "nc_train_ids = ids[:num_trains]\n",
    "print(f\"Part of train ids for node classification: {nc_train_ids[:3]}\")\n",
    "np.save(nc_train_ids_path, nc_train_ids)\n",
    "print(f\"NC train ids are saved to {nc_train_ids_path}\\n\")\n",
    "\n",
    "nc_train_labels_path = os.path.join(base_dir, \"nc-train-labels.pt\")\n",
    "nc_train_labels = torch.randint(0, 10, (num_trains,))\n",
    "print(f\"Part of train labels for node classification: {nc_train_labels[:3]}\")\n",
    "torch.save(nc_train_labels, nc_train_labels_path)\n",
    "print(f\"NC train labels are saved to {nc_train_labels_path}\\n\")\n",
    "\n",
    "nc_val_ids_path = os.path.join(base_dir, \"nc-val-ids.npy\")\n",
    "nc_val_ids = ids[num_trains:num_trains+num_vals]\n",
    "print(f\"Part of val ids for node classification: {nc_val_ids[:3]}\")\n",
    "np.save(nc_val_ids_path, nc_val_ids)\n",
    "print(f\"NC val ids are saved to {nc_val_ids_path}\\n\")\n",
    "\n",
    "nc_val_labels_path = os.path.join(base_dir, \"nc-val-labels.pt\")\n",
    "nc_val_labels = torch.randint(0, 10, (num_vals,))\n",
    "print(f\"Part of val labels for node classification: {nc_val_labels[:3]}\")\n",
    "torch.save(nc_val_labels, nc_val_labels_path)\n",
    "print(f\"NC val labels are saved to {nc_val_labels_path}\\n\")\n",
    "\n",
    "nc_test_ids_path = os.path.join(base_dir, \"nc-test-ids.npy\")\n",
    "nc_test_ids = ids[-num_tests:]\n",
    "print(f\"Part of test ids for node classification: {nc_test_ids[:3]}\")\n",
    "np.save(nc_test_ids_path, nc_test_ids)\n",
    "print(f\"NC test ids are saved to {nc_test_ids_path}\\n\")\n",
    "\n",
    "nc_test_labels_path = os.path.join(base_dir, \"nc-test-labels.pt\")\n",
    "nc_test_labels = torch.randint(0, 10, (num_tests,))\n",
    "print(f\"Part of test labels for node classification: {nc_test_labels[:3]}\")\n",
    "torch.save(nc_test_labels, nc_test_labels_path)\n",
    "print(f\"NC test labels are saved to {nc_test_labels_path}\\n\")"
   ]
  },
  {
   "cell_type": "markdown",
   "metadata": {
    "id": "LhAcDCHQ_KJ0"
   },
   "source": [
    "#### Link Prediction Task\n",
    "For link prediction task, we need **seeds** or **corresponding labels and indexes** which representing the pos/neg property and group of the seeds for each training/validation/test set. Like feature data, numpy arrays and torch tensors are supported for these sets."
   ]
  },
  {
   "cell_type": "code",
   "execution_count": 6,
   "metadata": {
    "execution": {
     "iopub.execute_input": "2024-08-20T07:07:50.632224Z",
     "iopub.status.busy": "2024-08-20T07:07:50.631829Z",
     "iopub.status.idle": "2024-08-20T07:07:50.648777Z",
     "shell.execute_reply": "2024-08-20T07:07:50.648253Z"
    },
    "id": "u0jCnXIcAQy4"
   },
   "outputs": [
    {
     "name": "stdout",
     "output_type": "stream",
     "text": [
      "Part of train seeds for link prediction: [[413 537]\n",
      " [756 869]\n",
      " [ 78 842]]\n",
      "LP train seeds are saved to ./ondisk_dataset_homograph/lp-train-seeds.npy\n",
      "\n",
      "Part of val seeds for link prediction: [[966 930]\n",
      " [ 55  15]\n",
      " [536 749]]\n",
      "LP val seeds are saved to ./ondisk_dataset_homograph/lp-val-seeds.npy\n",
      "\n",
      "Part of val labels for link prediction: [1. 1. 1.]\n",
      "LP val labels are saved to ./ondisk_dataset_homograph/lp-val-labels.npy\n",
      "\n",
      "Part of val indexes for link prediction: [0 1 2]\n",
      "LP val indexes are saved to ./ondisk_dataset_homograph/lp-val-indexes.npy\n",
      "\n",
      "Part of test seeds for link prediction: [[936  58]\n",
      " [431 651]\n",
      " [481 303]]\n",
      "LP test seeds are saved to ./ondisk_dataset_homograph/lp-test-seeds.npy\n",
      "\n",
      "Part of val labels for link prediction: [1. 1. 1.]\n",
      "LP test labels are saved to ./ondisk_dataset_homograph/lp-test-labels.npy\n",
      "\n",
      "Part of test indexes for link prediction: [0 1 2]\n",
      "LP test indexes are saved to ./ondisk_dataset_homograph/lp-test-indexes.npy\n",
      "\n"
     ]
    }
   ],
   "source": [
    "num_trains = int(num_edges * 0.6)\n",
    "num_vals = int(num_edges * 0.2)\n",
    "num_tests = num_edges - num_trains - num_vals\n",
    "\n",
    "lp_train_seeds_path = os.path.join(base_dir, \"lp-train-seeds.npy\")\n",
    "lp_train_seeds = edges[:num_trains, :]\n",
    "print(f\"Part of train seeds for link prediction: {lp_train_seeds[:3]}\")\n",
    "np.save(lp_train_seeds_path, lp_train_seeds)\n",
    "print(f\"LP train seeds are saved to {lp_train_seeds_path}\\n\")\n",
    "\n",
    "lp_val_seeds_path = os.path.join(base_dir, \"lp-val-seeds.npy\")\n",
    "lp_val_seeds = edges[num_trains:num_trains+num_vals, :]\n",
    "lp_val_neg_dsts = np.random.randint(0, num_nodes, (num_vals, 10)).reshape(-1)\n",
    "lp_val_neg_srcs = np.repeat(lp_val_seeds[:,0], 10)\n",
    "lp_val_neg_seeds = np.concatenate((lp_val_neg_srcs, lp_val_neg_dsts)).reshape(2,-1).T\n",
    "lp_val_seeds = np.concatenate((lp_val_seeds, lp_val_neg_seeds))\n",
    "print(f\"Part of val seeds for link prediction: {lp_val_seeds[:3]}\")\n",
    "np.save(lp_val_seeds_path, lp_val_seeds)\n",
    "print(f\"LP val seeds are saved to {lp_val_seeds_path}\\n\")\n",
    "\n",
    "lp_val_labels_path = os.path.join(base_dir, \"lp-val-labels.npy\")\n",
    "lp_val_labels = np.empty(num_vals * (10 + 1))\n",
    "lp_val_labels[:num_vals] = 1\n",
    "lp_val_labels[num_vals:] = 0\n",
    "print(f\"Part of val labels for link prediction: {lp_val_labels[:3]}\")\n",
    "np.save(lp_val_labels_path, lp_val_labels)\n",
    "print(f\"LP val labels are saved to {lp_val_labels_path}\\n\")\n",
    "\n",
    "lp_val_indexes_path = os.path.join(base_dir, \"lp-val-indexes.npy\")\n",
    "lp_val_indexes = np.arange(0, num_vals)\n",
    "lp_val_neg_indexes = np.repeat(lp_val_indexes, 10)\n",
    "lp_val_indexes = np.concatenate([lp_val_indexes, lp_val_neg_indexes])\n",
    "print(f\"Part of val indexes for link prediction: {lp_val_indexes[:3]}\")\n",
    "np.save(lp_val_indexes_path, lp_val_indexes)\n",
    "print(f\"LP val indexes are saved to {lp_val_indexes_path}\\n\")\n",
    "\n",
    "lp_test_seeds_path = os.path.join(base_dir, \"lp-test-seeds.npy\")\n",
    "lp_test_seeds = edges[-num_tests:, :]\n",
    "lp_test_neg_dsts = np.random.randint(0, num_nodes, (num_tests, 10)).reshape(-1)\n",
    "lp_test_neg_srcs = np.repeat(lp_test_seeds[:,0], 10)\n",
    "lp_test_neg_seeds = np.concatenate((lp_test_neg_srcs, lp_test_neg_dsts)).reshape(2,-1).T\n",
    "lp_test_seeds = np.concatenate((lp_test_seeds, lp_test_neg_seeds))\n",
    "print(f\"Part of test seeds for link prediction: {lp_test_seeds[:3]}\")\n",
    "np.save(lp_test_seeds_path, lp_test_seeds)\n",
    "print(f\"LP test seeds are saved to {lp_test_seeds_path}\\n\")\n",
    "\n",
    "lp_test_labels_path = os.path.join(base_dir, \"lp-test-labels.npy\")\n",
    "lp_test_labels = np.empty(num_tests * (10 + 1))\n",
    "lp_test_labels[:num_tests] = 1\n",
    "lp_test_labels[num_tests:] = 0\n",
    "print(f\"Part of val labels for link prediction: {lp_test_labels[:3]}\")\n",
    "np.save(lp_test_labels_path, lp_test_labels)\n",
    "print(f\"LP test labels are saved to {lp_test_labels_path}\\n\")\n",
    "\n",
    "lp_test_indexes_path = os.path.join(base_dir, \"lp-test-indexes.npy\")\n",
    "lp_test_indexes = np.arange(0, num_tests)\n",
    "lp_test_neg_indexes = np.repeat(lp_test_indexes, 10)\n",
    "lp_test_indexes = np.concatenate([lp_test_indexes, lp_test_neg_indexes])\n",
    "print(f\"Part of test indexes for link prediction: {lp_test_indexes[:3]}\")\n",
    "np.save(lp_test_indexes_path, lp_test_indexes)\n",
    "print(f\"LP test indexes are saved to {lp_test_indexes_path}\\n\")"
   ]
  },
  {
   "cell_type": "markdown",
   "metadata": {
    "id": "wbk6-wxRK-6S"
   },
   "source": [
    "## Organize Data into YAML File\n",
    "Now we need to create a `metadata.yaml` file which contains the paths, dadta types of graph structure, feature data, training/validation/test sets.\n",
    "\n",
    "Notes:\n",
    "- all path should be relative to `metadata.yaml`.\n",
    "- Below fields are optional and not specified in below example.\n",
    "  - `in_memory`: indicates whether to load dada into memory or `mmap`. Default is `True`.\n",
    "\n",
    "Please refer to [YAML specification](https://github.com/dmlc/dgl/blob/master/docs/source/stochastic_training/ondisk-dataset-specification.rst) for more details."
   ]
  },
  {
   "cell_type": "code",
   "execution_count": 7,
   "metadata": {
    "execution": {
     "iopub.execute_input": "2024-08-20T07:07:50.651266Z",
     "iopub.status.busy": "2024-08-20T07:07:50.650865Z",
     "iopub.status.idle": "2024-08-20T07:07:50.656188Z",
     "shell.execute_reply": "2024-08-20T07:07:50.655678Z"
    },
    "id": "ddGTWW61Lpwp"
   },
   "outputs": [],
   "source": [
    "yaml_content = f\"\"\"\n",
    "    dataset_name: homogeneous_graph_nc_lp\n",
    "    graph:\n",
    "      nodes:\n",
    "        - num: {num_nodes}\n",
    "      edges:\n",
    "        - format: csv\n",
    "          path: {os.path.basename(edges_path)}\n",
    "    feature_data:\n",
    "      - domain: node\n",
    "        name: feat_0\n",
    "        format: numpy\n",
    "        path: {os.path.basename(node_feat_0_path)}\n",
    "      - domain: node\n",
    "        name: feat_1\n",
    "        format: torch\n",
    "        path: {os.path.basename(node_feat_1_path)}\n",
    "      - domain: edge\n",
    "        name: feat_0\n",
    "        format: numpy\n",
    "        path: {os.path.basename(edge_feat_0_path)}\n",
    "      - domain: edge\n",
    "        name: feat_1\n",
    "        format: torch\n",
    "        path: {os.path.basename(edge_feat_1_path)}\n",
    "    tasks:\n",
    "      - name: node_classification\n",
    "        num_classes: 10\n",
    "        train_set:\n",
    "          - data:\n",
    "              - name: seeds\n",
    "                format: numpy\n",
    "                path: {os.path.basename(nc_train_ids_path)}\n",
    "              - name: labels\n",
    "                format: torch\n",
    "                path: {os.path.basename(nc_train_labels_path)}\n",
    "        validation_set:\n",
    "          - data:\n",
    "              - name: seeds\n",
    "                format: numpy\n",
    "                path: {os.path.basename(nc_val_ids_path)}\n",
    "              - name: labels\n",
    "                format: torch\n",
    "                path: {os.path.basename(nc_val_labels_path)}\n",
    "        test_set:\n",
    "          - data:\n",
    "              - name: seeds\n",
    "                format: numpy\n",
    "                path: {os.path.basename(nc_test_ids_path)}\n",
    "              - name: labels\n",
    "                format: torch\n",
    "                path: {os.path.basename(nc_test_labels_path)}\n",
    "      - name: link_prediction\n",
    "        num_classes: 10\n",
    "        train_set:\n",
    "          - data:\n",
    "              - name: seeds\n",
    "                format: numpy\n",
    "                path: {os.path.basename(lp_train_seeds_path)}\n",
    "        validation_set:\n",
    "          - data:\n",
    "              - name: seeds\n",
    "                format: numpy\n",
    "                path: {os.path.basename(lp_val_seeds_path)}\n",
    "              - name: labels\n",
    "                format: numpy\n",
    "                path: {os.path.basename(lp_val_labels_path)}\n",
    "              - name: indexes\n",
    "                format: numpy\n",
    "                path: {os.path.basename(lp_val_indexes_path)}\n",
    "        test_set:\n",
    "          - data:\n",
    "              - name: seeds\n",
    "                format: numpy\n",
    "                path: {os.path.basename(lp_test_seeds_path)}\n",
    "              - name: labels\n",
    "                format: numpy\n",
    "                path: {os.path.basename(lp_test_labels_path)}\n",
    "              - name: indexes\n",
    "                format: numpy\n",
    "                path: {os.path.basename(lp_test_indexes_path)}\n",
    "\"\"\"\n",
    "metadata_path = os.path.join(base_dir, \"metadata.yaml\")\n",
    "with open(metadata_path, \"w\") as f:\n",
    "  f.write(yaml_content)"
   ]
  },
  {
   "cell_type": "markdown",
   "metadata": {
    "id": "kEfybHGhOW7O"
   },
   "source": [
    "## Instantiate `OnDiskDataset`\n",
    "Now we're ready to load dataset via `dgl.graphbolt.OnDiskDataset`. When instantiating, we just pass in the base directory where `metadata.yaml` file lies.\n",
    "\n",
    "During first instantiation, GraphBolt preprocesses the raw data such as constructing `FusedCSCSamplingGraph` from edges. All data including graph, feature data, training/validation/test sets are put into `preprocessed` directory after preprocessing. Any following dataset loading will skip the preprocess stage.\n",
    "\n",
    "After preprocessing, `load()` is required to be called explicitly in order to load graph, feature data and tasks."
   ]
  },
  {
   "cell_type": "code",
   "execution_count": 8,
   "metadata": {
    "execution": {
     "iopub.execute_input": "2024-08-20T07:07:50.658357Z",
     "iopub.status.busy": "2024-08-20T07:07:50.658104Z",
     "iopub.status.idle": "2024-08-20T07:07:50.768804Z",
     "shell.execute_reply": "2024-08-20T07:07:50.768222Z"
    },
    "id": "W58CZoSzOiyo"
   },
   "outputs": [
    {
     "name": "stdout",
     "output_type": "stream",
     "text": [
      "The on-disk dataset is re-preprocessing, so the existing preprocessed dataset has been removed.\n",
      "Start to preprocess the on-disk dataset.\n",
      "Finish preprocessing the on-disk dataset.\n",
      "Loaded graph: FusedCSCSamplingGraph(csc_indptr=tensor([    0,     9,    20,  ...,  9980,  9989, 10000], dtype=torch.int32),\n",
      "                      indices=tensor([ 46, 213, 347,  ..., 766, 926, 189], dtype=torch.int32),\n",
      "                      total_num_nodes=1000, num_edges=10000,)\n",
      "\n",
      "Loaded feature store: TorchBasedFeatureStore(\n",
      "    {(<OnDiskFeatureDataDomain.NODE: 'node'>, None, 'feat_0'): TorchBasedFeature(\n",
      "        feature=tensor([[0.6841, 0.5843, 0.5426, 0.0576, 0.0411],\n",
      "                        [0.0872, 0.3379, 0.9199, 0.8267, 0.2255],\n",
      "                        [0.9089, 0.2975, 0.4289, 0.4505, 0.6082],\n",
      "                        ...,\n",
      "                        [0.4493, 0.8281, 0.9226, 0.3043, 0.9742],\n",
      "                        [0.2503, 0.4719, 0.1280, 0.0377, 0.5202],\n",
      "                        [0.1491, 0.9049, 0.5894, 0.2628, 0.5300]], dtype=torch.float64),\n",
      "        metadata={},\n",
      "    ), (<OnDiskFeatureDataDomain.NODE: 'node'>, None, 'feat_1'): TorchBasedFeature(\n",
      "        feature=tensor([[0.9019, 0.0460, 0.5791, 0.0310, 0.1361],\n",
      "                        [0.7538, 0.4030, 0.1433, 0.1819, 0.3485],\n",
      "                        [0.1523, 0.2078, 0.3570, 0.8256, 0.7852],\n",
      "                        ...,\n",
      "                        [0.7687, 0.8516, 0.4369, 0.3008, 0.5022],\n",
      "                        [0.2461, 0.5715, 0.7431, 0.0626, 0.8161],\n",
      "                        [0.6947, 0.9599, 0.6568, 0.7265, 0.2590]]),\n",
      "        metadata={},\n",
      "    ), (<OnDiskFeatureDataDomain.EDGE: 'edge'>, None, 'feat_0'): TorchBasedFeature(\n",
      "        feature=tensor([[0.9155, 0.9447, 0.6819, 0.2849, 0.9136],\n",
      "                        [0.6260, 0.6607, 0.7316, 0.2385, 0.8753],\n",
      "                        [0.4834, 0.0205, 0.0830, 0.0133, 0.8796],\n",
      "                        ...,\n",
      "                        [0.7594, 0.9481, 0.7349, 0.3791, 0.3907],\n",
      "                        [0.6377, 0.6072, 0.0891, 0.8740, 0.5848],\n",
      "                        [0.0956, 0.9936, 0.5228, 0.7440, 0.0259]], dtype=torch.float64),\n",
      "        metadata={},\n",
      "    ), (<OnDiskFeatureDataDomain.EDGE: 'edge'>, None, 'feat_1'): TorchBasedFeature(\n",
      "        feature=tensor([[0.0246, 0.1090, 0.4183, 0.3569, 0.0605],\n",
      "                        [0.5877, 0.6570, 0.1945, 0.0169, 0.8591],\n",
      "                        [0.3670, 0.7774, 0.8156, 0.1235, 0.8915],\n",
      "                        ...,\n",
      "                        [0.8629, 0.9105, 0.7645, 0.3658, 0.8342],\n",
      "                        [0.8777, 0.5462, 0.0483, 0.3058, 0.1401],\n",
      "                        [0.9130, 0.4402, 0.1405, 0.1379, 0.1788]]),\n",
      "        metadata={},\n",
      "    )}\n",
      ")\n",
      "\n",
      "Loaded node classification task: OnDiskTask(validation_set=ItemSet(\n",
      "               items=(tensor([210, 286, 665, 109, 478, 839,  44,  56, 162, 243, 540, 648,  83, 199,\n",
      "                   386, 905, 704, 526,   7, 747, 308,  57, 611, 171, 397, 730, 167,  25,\n",
      "                   268, 615, 334, 176, 117, 783, 338, 482, 369, 773,  95, 328, 289, 104,\n",
      "                   490, 962, 345, 139, 213, 681, 732, 484, 352, 342, 538,  86, 680, 427,\n",
      "                   674, 261, 373,  18, 222, 339, 576, 836, 355, 267, 196, 811, 911, 816,\n",
      "                   311, 813, 177, 502, 889, 682, 941, 354, 441,  31, 483, 446, 985, 160,\n",
      "                    84, 746, 309, 544, 912, 154, 556, 127,  46, 883, 421, 748, 522, 602,\n",
      "                   944, 316, 129, 146, 202, 996, 896, 722, 141, 864, 272, 908, 948, 671,\n",
      "                   403, 142, 858,  33, 879,   1, 519, 372, 970, 259, 304, 266, 606, 774,\n",
      "                   882, 118, 707, 988, 138, 930, 318, 147, 564, 974,  64, 583, 924, 838,\n",
      "                   878, 900, 917, 895, 959, 775, 610, 820, 690, 934, 545, 764, 216,  91,\n",
      "                   510, 766, 487, 863, 797, 297, 290, 826, 504, 282, 113, 659, 274, 424,\n",
      "                   803, 559, 248,  19, 551, 643, 197, 964, 595,  38, 412, 151, 776, 444,\n",
      "                   790, 721,  77, 285, 678, 262, 716, 708, 840, 188, 423, 963, 563, 186,\n",
      "                   307, 979, 594,   6], dtype=torch.int32), tensor([5, 3, 1, 1, 8, 1, 0, 1, 4, 1, 0, 0, 7, 0, 9, 2, 3, 1, 0, 5, 5, 2, 7, 8,\n",
      "                   2, 6, 7, 3, 1, 1, 8, 5, 5, 4, 1, 5, 7, 3, 4, 3, 1, 0, 3, 0, 7, 2, 0, 2,\n",
      "                   6, 9, 7, 8, 8, 8, 0, 3, 3, 6, 5, 8, 7, 7, 5, 4, 7, 1, 6, 3, 3, 6, 4, 1,\n",
      "                   6, 3, 9, 3, 7, 3, 5, 4, 7, 6, 6, 9, 4, 2, 4, 1, 7, 4, 8, 4, 1, 6, 9, 9,\n",
      "                   0, 2, 9, 3, 4, 5, 2, 2, 0, 2, 0, 8, 8, 9, 3, 7, 3, 4, 7, 3, 8, 8, 4, 8,\n",
      "                   3, 4, 1, 1, 3, 8, 3, 0, 0, 4, 8, 7, 0, 7, 8, 5, 4, 6, 3, 2, 3, 6, 9, 2,\n",
      "                   6, 3, 5, 1, 1, 9, 1, 9, 2, 0, 8, 3, 9, 1, 8, 9, 6, 5, 5, 8, 5, 4, 7, 2,\n",
      "                   3, 5, 3, 9, 1, 7, 8, 6, 0, 5, 1, 2, 8, 0, 9, 6, 9, 3, 0, 5, 4, 0, 8, 0,\n",
      "                   6, 3, 0, 8, 7, 6, 9, 1])),\n",
      "               names=('seeds', 'labels'),\n",
      "           ),\n",
      "           train_set=ItemSet(\n",
      "               items=(tensor([242, 486, 168, 894, 231, 792, 829, 356, 827, 287, 982, 418, 370, 407,\n",
      "                    22, 759, 770, 398, 252,  60, 498, 170, 989, 696, 353, 343, 524, 182,\n",
      "                   553, 758, 812, 745, 320,  10, 876, 163, 589, 470, 599, 670,  12, 159,\n",
      "                   592,  85, 819, 507, 495, 514, 411, 371, 866, 505, 102, 712, 543,  74,\n",
      "                   903, 808, 777, 762, 734, 382, 796, 668, 221, 100, 469, 785, 609, 124,\n",
      "                   554, 710, 846, 822, 761, 870, 465, 676, 131, 575, 926, 954, 539, 201,\n",
      "                    21, 468, 271, 442, 435, 459, 105, 179, 211, 580,  96, 735, 572, 416,\n",
      "                   180, 752, 389, 642, 476, 765, 327, 672, 605, 246, 401, 165, 634, 189,\n",
      "                   921, 725, 620, 715,  69, 194, 278, 702, 457, 614, 269, 789, 703,  37,\n",
      "                   358, 235, 206, 791,   5, 414, 886, 220, 794,  89, 264, 757, 689, 254,\n",
      "                   374, 598, 447, 947, 754, 393, 960, 385, 399, 110, 114, 795, 497, 638,\n",
      "                   850, 584, 769, 569, 853, 460, 383, 255, 635, 997, 788, 537, 388, 185,\n",
      "                   301, 173, 123, 945, 204, 439, 496, 474, 915, 234, 198,  73, 212, 842,\n",
      "                    66, 546, 793,  36, 433,  70, 890, 227, 350, 872, 145, 653, 654, 239,\n",
      "                   951,  58, 453, 548, 437, 325, 340, 472, 647, 121, 627, 413, 939, 656,\n",
      "                   619, 209, 130, 631, 786, 987, 348,  24,  47, 693, 613, 214, 236,  35,\n",
      "                   513, 440, 641, 952, 517,  71, 636, 860,  30, 223, 771, 260, 240, 709,\n",
      "                   973, 203, 247, 780, 508, 907, 727, 351, 283, 395, 646, 191, 431, 957,\n",
      "                   801,  67, 622, 525, 107,  29, 922, 910, 726, 990, 451, 516, 394, 445,\n",
      "                   581, 928, 550, 217, 931,  51, 120, 434, 115, 574, 667, 331, 855, 573,\n",
      "                   224, 256,  28, 568, 112, 299, 249, 683, 450, 798, 998, 824, 731, 425,\n",
      "                   920, 368, 618,  34, 549, 971, 913,  88, 330, 857, 367, 711, 986, 276,\n",
      "                   887, 677, 729, 258,  97, 899,  39, 150, 897, 555, 999, 699,  76, 950,\n",
      "                    99, 965, 232, 480, 499,  82, 607,  27, 885, 443, 861, 410,  98, 218,\n",
      "                   344, 940, 531, 880, 923,  80, 265, 322,  81, 456, 137, 144, 637, 968,\n",
      "                   679, 481, 295, 692, 552, 800,  45,  42, 847, 644, 436, 763, 275, 658,\n",
      "                    75, 535, 767, 841, 984, 818, 462, 738, 848,  50, 660, 404, 991, 969,\n",
      "                   834, 695, 346, 357, 390, 701, 172, 859,   4, 426, 253, 992, 737, 116,\n",
      "                   341, 319, 691, 953, 782, 452, 621, 673, 835, 590, 169, 288, 828, 488,\n",
      "                   377, 263, 164, 166, 823, 603, 174, 408, 108, 251, 485, 156,  15, 806,\n",
      "                   326, 237, 321, 935, 936, 666, 740, 768, 684, 937, 280, 381, 125, 420,\n",
      "                   111, 736, 713, 720, 284, 149, 219, 817, 501, 714, 184, 651,  54, 851,\n",
      "                   932, 587, 877, 821, 302, 958, 977, 585, 825, 626, 463, 741,  48, 942,\n",
      "                   862, 208, 438, 364,  41, 558, 639, 787, 541, 520, 449, 809, 772, 624,\n",
      "                   175, 192, 686, 471, 617, 384, 799, 473, 723, 153, 193,   3, 728, 645,\n",
      "                   904, 567, 464, 523, 918, 396, 205, 233, 200,   2, 830, 126, 489, 455,\n",
      "                   600, 417, 815, 312, 542, 491, 582, 662, 448, 623, 512, 532, 152, 760,\n",
      "                   744, 966, 781,  43, 856, 616, 884, 833, 315, 415, 300, 402, 978, 685,\n",
      "                   652, 534,  87,   9, 914, 980,  59, 391, 802, 751, 140, 557, 509, 314,\n",
      "                   245, 228, 604, 596, 521, 995, 187, 632, 528, 675, 293, 601, 294,  68,\n",
      "                   281, 804, 591, 277, 132, 983, 291, 719, 661,  52,  90,  20, 238, 916,\n",
      "                   577, 359, 961, 454,  94, 943, 134, 494, 927, 400, 906, 422, 181, 753,\n",
      "                   805, 976, 241, 993, 565, 625, 640, 972, 547,  62, 313, 207],\n",
      "                  dtype=torch.int32), tensor([7, 0, 3, 7, 1, 1, 1, 2, 5, 7, 8, 6, 8, 6, 5, 3, 3, 2, 1, 7, 4, 3, 3, 1,\n",
      "                   5, 7, 9, 0, 8, 1, 7, 6, 6, 2, 6, 3, 4, 0, 0, 2, 5, 1, 8, 0, 6, 9, 9, 8,\n",
      "                   4, 6, 0, 2, 4, 2, 5, 4, 7, 2, 9, 1, 5, 5, 9, 3, 0, 3, 3, 4, 9, 9, 6, 3,\n",
      "                   6, 0, 9, 5, 7, 8, 9, 2, 5, 4, 9, 3, 0, 6, 9, 3, 0, 7, 4, 5, 5, 6, 6, 0,\n",
      "                   9, 9, 0, 8, 1, 1, 1, 9, 5, 3, 7, 3, 9, 0, 8, 1, 5, 3, 8, 9, 8, 5, 7, 0,\n",
      "                   2, 5, 0, 0, 0, 8, 5, 3, 3, 9, 8, 4, 5, 6, 3, 0, 5, 8, 2, 6, 5, 7, 3, 3,\n",
      "                   6, 5, 9, 8, 3, 3, 7, 2, 7, 9, 1, 6, 4, 5, 0, 7, 4, 7, 6, 9, 0, 7, 9, 1,\n",
      "                   8, 3, 0, 3, 8, 9, 9, 1, 8, 2, 9, 2, 4, 2, 6, 2, 4, 1, 6, 8, 3, 9, 1, 5,\n",
      "                   1, 9, 9, 8, 5, 9, 5, 2, 0, 1, 4, 0, 8, 2, 0, 8, 5, 8, 7, 4, 4, 5, 3, 5,\n",
      "                   2, 5, 1, 0, 2, 6, 2, 7, 8, 2, 3, 4, 3, 5, 7, 8, 4, 6, 2, 7, 8, 2, 4, 7,\n",
      "                   7, 2, 0, 1, 4, 4, 7, 0, 7, 2, 9, 0, 4, 4, 1, 1, 9, 6, 8, 4, 1, 4, 9, 4,\n",
      "                   5, 1, 0, 1, 8, 4, 3, 8, 4, 7, 7, 4, 7, 2, 7, 5, 4, 2, 6, 1, 7, 4, 6, 4,\n",
      "                   2, 6, 6, 9, 7, 8, 7, 0, 9, 0, 7, 7, 3, 9, 0, 9, 2, 9, 5, 6, 0, 4, 0, 2,\n",
      "                   5, 5, 8, 1, 1, 4, 2, 2, 2, 3, 5, 1, 9, 6, 8, 4, 9, 2, 4, 2, 2, 8, 1, 5,\n",
      "                   4, 6, 8, 7, 9, 7, 4, 5, 5, 9, 3, 5, 8, 3, 0, 5, 7, 0, 1, 4, 2, 1, 1, 0,\n",
      "                   7, 0, 4, 6, 5, 6, 3, 4, 8, 3, 2, 3, 4, 4, 9, 9, 2, 3, 6, 7, 0, 5, 7, 0,\n",
      "                   7, 2, 9, 4, 8, 7, 7, 4, 4, 8, 2, 4, 2, 4, 4, 3, 2, 3, 5, 6, 3, 7, 3, 0,\n",
      "                   7, 1, 0, 4, 1, 5, 5, 5, 0, 4, 6, 1, 3, 0, 6, 8, 4, 4, 2, 4, 5, 4, 3, 1,\n",
      "                   0, 8, 3, 7, 0, 6, 4, 9, 9, 3, 2, 6, 1, 5, 7, 7, 7, 2, 2, 6, 2, 5, 9, 7,\n",
      "                   9, 7, 1, 4, 1, 6, 0, 7, 6, 2, 5, 1, 1, 8, 1, 3, 8, 9, 2, 4, 9, 5, 7, 8,\n",
      "                   1, 9, 4, 7, 9, 4, 2, 5, 4, 1, 4, 7, 9, 1, 6, 7, 0, 6, 6, 0, 2, 4, 4, 6,\n",
      "                   3, 5, 8, 1, 7, 6, 8, 0, 9, 9, 3, 4, 2, 7, 3, 6, 5, 6, 0, 8, 5, 2, 7, 0,\n",
      "                   4, 9, 8, 1, 7, 7, 4, 4, 9, 7, 2, 0, 9, 3, 6, 1, 6, 8, 7, 6, 6, 5, 9, 0,\n",
      "                   7, 5, 7, 7, 3, 3, 3, 6, 5, 3, 1, 9, 8, 9, 2, 0, 9, 0, 5, 4, 1, 6, 9, 1,\n",
      "                   3, 9, 2, 4, 5, 5, 2, 1, 5, 3, 5, 3, 9, 0, 5, 9, 7, 3, 9, 1, 4, 7, 3, 3])),\n",
      "               names=('seeds', 'labels'),\n",
      "           ),\n",
      "           test_set=ItemSet(\n",
      "               items=(tensor([292, 655, 854, 361, 697, 718, 649, 244, 365, 122, 103,  53, 898, 739,\n",
      "                   608, 650, 570, 503, 967, 323, 143, 891, 664, 733, 694, 226, 195, 749,\n",
      "                   628, 296, 101, 852, 506,   8, 479, 324, 432, 946, 215, 392, 832, 128,\n",
      "                   336, 901,  14, 663, 874, 919, 475, 511, 873, 586, 430, 279, 428,   0,\n",
      "                   461, 270,  93, 981, 705, 698, 536, 779, 257, 588, 743, 458, 687, 706,\n",
      "                   225, 562,  17, 561, 405, 814, 376, 529, 724, 409, 133,  32, 566, 380,\n",
      "                   657, 419, 155,  16, 337, 518,  11, 700, 717,  72, 136, 688, 868, 909,\n",
      "                   467, 929, 893, 387, 250, 975, 429, 273, 305, 178, 888, 810,  13, 669,\n",
      "                   994, 578, 366, 363, 379,  49, 349, 742,  79, 956, 933,  40, 560, 831,\n",
      "                   406, 148, 612, 229, 158,  55, 867, 119, 865, 530, 466, 844, 515,  61,\n",
      "                   871,  63, 849, 333, 310, 533,  65, 230, 597, 633, 755, 881, 629, 845,\n",
      "                   335, 756,  92, 378, 869, 375, 347, 135, 303, 593, 161, 298, 955, 306,\n",
      "                   925, 157,  26,  78, 360, 317, 500, 630, 477, 778, 332, 875, 843, 807,\n",
      "                   190, 106, 527,  23, 579, 837, 493, 902, 492, 892, 949, 784, 362, 183,\n",
      "                   571, 750, 938, 329], dtype=torch.int32), tensor([8, 7, 6, 5, 6, 1, 9, 5, 0, 5, 2, 4, 3, 5, 7, 8, 6, 4, 0, 3, 8, 9, 3, 9,\n",
      "                   6, 9, 4, 1, 8, 1, 3, 3, 7, 4, 5, 5, 8, 0, 7, 1, 8, 9, 8, 3, 6, 8, 0, 3,\n",
      "                   9, 1, 0, 2, 1, 3, 9, 8, 0, 6, 2, 6, 4, 0, 3, 6, 2, 6, 4, 7, 4, 8, 3, 6,\n",
      "                   4, 4, 2, 3, 5, 0, 7, 5, 0, 7, 9, 4, 8, 8, 5, 2, 0, 5, 9, 2, 0, 0, 2, 4,\n",
      "                   5, 7, 1, 7, 0, 2, 1, 8, 8, 8, 0, 9, 3, 9, 5, 7, 4, 0, 8, 7, 7, 0, 8, 9,\n",
      "                   6, 2, 7, 0, 2, 6, 8, 8, 1, 4, 9, 7, 6, 0, 1, 0, 4, 3, 5, 2, 6, 6, 9, 0,\n",
      "                   6, 5, 3, 8, 0, 0, 3, 6, 3, 3, 4, 0, 5, 6, 3, 6, 4, 2, 3, 5, 4, 2, 2, 3,\n",
      "                   5, 9, 7, 4, 9, 2, 0, 3, 6, 5, 1, 4, 5, 6, 5, 2, 1, 1, 0, 7, 4, 5, 4, 0,\n",
      "                   2, 6, 9, 5, 8, 3, 7, 1])),\n",
      "               names=('seeds', 'labels'),\n",
      "           ),\n",
      "           metadata={'name': 'node_classification', 'num_classes': 10},)\n",
      "\n",
      "Loaded link prediction task: OnDiskTask(validation_set=ItemSet(\n",
      "               items=(tensor([[966, 930],\n",
      "                   [ 55,  15],\n",
      "                   [536, 749],\n",
      "                   ...,\n",
      "                   [749, 867],\n",
      "                   [749, 409],\n",
      "                   [749, 893]], dtype=torch.int32), tensor([1., 1., 1.,  ..., 0., 0., 0.], dtype=torch.float64), tensor([   0,    1,    2,  ..., 1999, 1999, 1999])),\n",
      "               names=('seeds', 'labels', 'indexes'),\n",
      "           ),\n",
      "           train_set=ItemSet(\n",
      "               items=(tensor([[413, 537],\n",
      "                   [756, 869],\n",
      "                   [ 78, 842],\n",
      "                   ...,\n",
      "                   [447, 113],\n",
      "                   [692, 951],\n",
      "                   [163, 315]], dtype=torch.int32),),\n",
      "               names=('seeds',),\n",
      "           ),\n",
      "           test_set=ItemSet(\n",
      "               items=(tensor([[936,  58],\n",
      "                   [431, 651],\n",
      "                   [481, 303],\n",
      "                   ...,\n",
      "                   [544, 121],\n",
      "                   [544, 942],\n",
      "                   [544, 188]], dtype=torch.int32), tensor([1., 1., 1.,  ..., 0., 0., 0.], dtype=torch.float64), tensor([   0,    1,    2,  ..., 1999, 1999, 1999])),\n",
      "               names=('seeds', 'labels', 'indexes'),\n",
      "           ),\n",
      "           metadata={'name': 'link_prediction', 'num_classes': 10},)\n",
      "\n"
     ]
    },
    {
     "name": "stderr",
     "output_type": "stream",
     "text": [
      "/home/ubuntu/dgl_doc_dev/dgl/python/dgl/graphbolt/impl/ondisk_dataset.py:460: DGLWarning: Edge feature is stored, but edge IDs are not saved.\n",
      "  dgl_warning(\"Edge feature is stored, but edge IDs are not saved.\")\n"
     ]
    }
   ],
   "source": [
    "dataset = gb.OnDiskDataset(base_dir).load()\n",
    "graph = dataset.graph\n",
    "print(f\"Loaded graph: {graph}\\n\")\n",
    "\n",
    "feature = dataset.feature\n",
    "print(f\"Loaded feature store: {feature}\\n\")\n",
    "\n",
    "tasks = dataset.tasks\n",
    "nc_task = tasks[0]\n",
    "print(f\"Loaded node classification task: {nc_task}\\n\")\n",
    "lp_task = tasks[1]\n",
    "print(f\"Loaded link prediction task: {lp_task}\\n\")"
   ]
  }
 ],
 "metadata": {
  "colab": {
   "private_outputs": true,
   "provenance": []
  },
  "kernelspec": {
   "display_name": "Python 3",
   "name": "python3"
  },
  "language_info": {
   "codemirror_mode": {
    "name": "ipython",
    "version": 3
   },
   "file_extension": ".py",
   "mimetype": "text/x-python",
   "name": "python",
   "nbconvert_exporter": "python",
   "pygments_lexer": "ipython3",
   "version": "3.10.14"
  }
 },
 "nbformat": 4,
 "nbformat_minor": 0
}

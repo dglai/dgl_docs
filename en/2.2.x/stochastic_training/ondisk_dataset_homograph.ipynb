{
 "cells": [
  {
   "cell_type": "markdown",
   "metadata": {
    "id": "FnFhPMaAfLtJ"
   },
   "source": [
    "# OnDiskDataset for Homogeneous Graph\n",
    "\n",
    "[![Open In Colab](https://colab.research.google.com/assets/colab-badge.svg)](https://colab.research.google.com/github/dmlc/dgl/blob/master/notebooks/stochastic_training/ondisk_dataset_homograph.ipynb) [![GitHub](https://img.shields.io/badge/-View%20on%20GitHub-181717?logo=github&logoColor=ffffff)](https://github.com/dmlc/dgl/blob/master/notebooks/stochastic_training/ondisk_dataset_homograph.ipynb)\n",
    "\n",
    "This tutorial shows how to create `OnDiskDataset` for homogeneous graph that could be used in **GraphBolt** framework.\n",
    "\n",
    "By the end of this tutorial, you will be able to\n",
    "\n",
    "- organize graph structure data.\n",
    "- organize feature data.\n",
    "- organize training/validation/test set for specific tasks.\n",
    "\n",
    "To create an ``OnDiskDataset`` object, you need to organize all the data including graph structure, feature data and tasks into a directory. The directory should contain a ``metadata.yaml`` file that describes the metadata of the dataset.\n",
    "\n",
    "Now let's generate various data step by step and organize them together to instantiate `OnDiskDataset` finally."
   ]
  },
  {
   "cell_type": "markdown",
   "metadata": {
    "id": "Wlb19DtWgtzq"
   },
   "source": [
    "## Install DGL package"
   ]
  },
  {
   "cell_type": "code",
   "execution_count": 1,
   "metadata": {
    "execution": {
     "iopub.execute_input": "2024-09-18T06:52:51.466344Z",
     "iopub.status.busy": "2024-09-18T06:52:51.466045Z",
     "iopub.status.idle": "2024-09-18T06:52:55.250413Z",
     "shell.execute_reply": "2024-09-18T06:52:55.249677Z"
    },
    "id": "UojlT9ZGgyr9"
   },
   "outputs": [
    {
     "name": "stdout",
     "output_type": "stream",
     "text": [
      "Looking in links: https://data.dgl.ai/wheels-test/repo.html\r\n",
      "Requirement already satisfied: dgl in /opt/conda/envs/dgl-dev-cpu/lib/python3.10/site-packages (2.2a240410)\r\n",
      "Requirement already satisfied: numpy>=1.14.0 in /opt/conda/envs/dgl-dev-cpu/lib/python3.10/site-packages (from dgl) (1.26.4)\r\n",
      "Requirement already satisfied: scipy>=1.1.0 in /opt/conda/envs/dgl-dev-cpu/lib/python3.10/site-packages (from dgl) (1.14.0)\r\n",
      "Requirement already satisfied: networkx>=2.1 in /opt/conda/envs/dgl-dev-cpu/lib/python3.10/site-packages (from dgl) (3.3)\r\n",
      "Requirement already satisfied: requests>=2.19.0 in /opt/conda/envs/dgl-dev-cpu/lib/python3.10/site-packages (from dgl) (2.32.3)\r\n",
      "Requirement already satisfied: tqdm in /opt/conda/envs/dgl-dev-cpu/lib/python3.10/site-packages (from dgl) (4.66.5)\r\n",
      "Requirement already satisfied: psutil>=5.8.0 in /opt/conda/envs/dgl-dev-cpu/lib/python3.10/site-packages (from dgl) (6.0.0)\r\n",
      "Requirement already satisfied: torchdata>=0.5.0 in /opt/conda/envs/dgl-dev-cpu/lib/python3.10/site-packages (from dgl) (0.7.1)\r\n",
      "Requirement already satisfied: pandas in /opt/conda/envs/dgl-dev-cpu/lib/python3.10/site-packages (from dgl) (2.2.2)\r\n"
     ]
    },
    {
     "name": "stdout",
     "output_type": "stream",
     "text": [
      "Requirement already satisfied: charset-normalizer<4,>=2 in /opt/conda/envs/dgl-dev-cpu/lib/python3.10/site-packages (from requests>=2.19.0->dgl) (3.3.2)\r\n",
      "Requirement already satisfied: idna<4,>=2.5 in /opt/conda/envs/dgl-dev-cpu/lib/python3.10/site-packages (from requests>=2.19.0->dgl) (3.8)\r\n",
      "Requirement already satisfied: urllib3<3,>=1.21.1 in /opt/conda/envs/dgl-dev-cpu/lib/python3.10/site-packages (from requests>=2.19.0->dgl) (2.2.2)\r\n",
      "Requirement already satisfied: certifi>=2017.4.17 in /opt/conda/envs/dgl-dev-cpu/lib/python3.10/site-packages (from requests>=2.19.0->dgl) (2024.7.4)\r\n",
      "Requirement already satisfied: torch>=2 in /opt/conda/envs/dgl-dev-cpu/lib/python3.10/site-packages (from torchdata>=0.5.0->dgl) (2.4.0+cpu)\r\n"
     ]
    },
    {
     "name": "stdout",
     "output_type": "stream",
     "text": [
      "Requirement already satisfied: python-dateutil>=2.8.2 in /opt/conda/envs/dgl-dev-cpu/lib/python3.10/site-packages (from pandas->dgl) (2.9.0.post0)\r\n",
      "Requirement already satisfied: pytz>=2020.1 in /opt/conda/envs/dgl-dev-cpu/lib/python3.10/site-packages (from pandas->dgl) (2024.1)\r\n",
      "Requirement already satisfied: tzdata>=2022.7 in /opt/conda/envs/dgl-dev-cpu/lib/python3.10/site-packages (from pandas->dgl) (2024.1)\r\n",
      "Requirement already satisfied: six>=1.5 in /opt/conda/envs/dgl-dev-cpu/lib/python3.10/site-packages (from python-dateutil>=2.8.2->pandas->dgl) (1.16.0)\r\n",
      "Requirement already satisfied: filelock in /opt/conda/envs/dgl-dev-cpu/lib/python3.10/site-packages (from torch>=2->torchdata>=0.5.0->dgl) (3.15.4)\r\n",
      "Requirement already satisfied: typing-extensions>=4.8.0 in /opt/conda/envs/dgl-dev-cpu/lib/python3.10/site-packages (from torch>=2->torchdata>=0.5.0->dgl) (4.12.2)\r\n",
      "Requirement already satisfied: sympy in /opt/conda/envs/dgl-dev-cpu/lib/python3.10/site-packages (from torch>=2->torchdata>=0.5.0->dgl) (1.13.2)\r\n",
      "Requirement already satisfied: jinja2 in /opt/conda/envs/dgl-dev-cpu/lib/python3.10/site-packages (from torch>=2->torchdata>=0.5.0->dgl) (3.1.4)\r\n",
      "Requirement already satisfied: fsspec in /opt/conda/envs/dgl-dev-cpu/lib/python3.10/site-packages (from torch>=2->torchdata>=0.5.0->dgl) (2024.6.1)\r\n"
     ]
    },
    {
     "name": "stdout",
     "output_type": "stream",
     "text": [
      "Requirement already satisfied: MarkupSafe>=2.0 in /opt/conda/envs/dgl-dev-cpu/lib/python3.10/site-packages (from jinja2->torch>=2->torchdata>=0.5.0->dgl) (2.1.5)\r\n",
      "Requirement already satisfied: mpmath<1.4,>=1.1.0 in /opt/conda/envs/dgl-dev-cpu/lib/python3.10/site-packages (from sympy->torch>=2->torchdata>=0.5.0->dgl) (1.3.0)\r\n"
     ]
    },
    {
     "name": "stderr",
     "output_type": "stream",
     "text": [
      "/home/ubuntu/regression_test/dgl/python/dgl/graphbolt/base.py:81: FutureWarning: `torch.library.impl_abstract` was renamed to `torch.library.register_fake`. Please use that instead; we will remove `torch.library.impl_abstract` in a future version of PyTorch.\n",
      "  @torch.library.impl_abstract(\"graphbolt::expand_indptr\")\n"
     ]
    },
    {
     "name": "stdout",
     "output_type": "stream",
     "text": [
      "DGL installed!\n"
     ]
    }
   ],
   "source": [
    "# Install required packages.\n",
    "import os\n",
    "import torch\n",
    "import numpy as np\n",
    "os.environ['TORCH'] = torch.__version__\n",
    "os.environ['DGLBACKEND'] = \"pytorch\"\n",
    "\n",
    "# Install the CPU version.\n",
    "device = torch.device(\"cpu\")\n",
    "!pip install --pre dgl -f https://data.dgl.ai/wheels-test/repo.html\n",
    "\n",
    "try:\n",
    "    import dgl\n",
    "    import dgl.graphbolt as gb\n",
    "    installed = True\n",
    "except ImportError as error:\n",
    "    installed = False\n",
    "    print(error)\n",
    "print(\"DGL installed!\" if installed else \"DGL not found!\")"
   ]
  },
  {
   "cell_type": "markdown",
   "metadata": {
    "id": "2R7WnSbjsfbr"
   },
   "source": [
    "## Data preparation\n",
    "In order to demonstrate how to organize various data, let's create a base directory first."
   ]
  },
  {
   "cell_type": "code",
   "execution_count": 2,
   "metadata": {
    "execution": {
     "iopub.execute_input": "2024-09-18T06:52:55.253357Z",
     "iopub.status.busy": "2024-09-18T06:52:55.252797Z",
     "iopub.status.idle": "2024-09-18T06:52:55.256756Z",
     "shell.execute_reply": "2024-09-18T06:52:55.256177Z"
    },
    "id": "SZipbzyltLfO"
   },
   "outputs": [
    {
     "name": "stdout",
     "output_type": "stream",
     "text": [
      "Created base directory: ./ondisk_dataset_homograph\n"
     ]
    }
   ],
   "source": [
    "base_dir = './ondisk_dataset_homograph'\n",
    "os.makedirs(base_dir, exist_ok=True)\n",
    "print(f\"Created base directory: {base_dir}\")"
   ]
  },
  {
   "cell_type": "markdown",
   "metadata": {
    "id": "qhNtIn_xhlnl"
   },
   "source": [
    "### Generate graph structure data\n",
    "For homogeneous graph, we just need to save edges(namely seeds) into  **Numpy** or **CSV** file.\n",
    "\n",
    "Note:\n",
    "- when saving to **Numpy**, the array requires to be in shape of `(2, N)`. This format is recommended as constructing graph from it is much faster than **CSV** file.\n",
    "- when saving to **CSV** file, do not save index and header.\n"
   ]
  },
  {
   "cell_type": "code",
   "execution_count": 3,
   "metadata": {
    "execution": {
     "iopub.execute_input": "2024-09-18T06:52:55.259297Z",
     "iopub.status.busy": "2024-09-18T06:52:55.258959Z",
     "iopub.status.idle": "2024-09-18T06:52:55.271366Z",
     "shell.execute_reply": "2024-09-18T06:52:55.270789Z"
    },
    "id": "HcBt4G5BmSjr"
   },
   "outputs": [
    {
     "name": "stdout",
     "output_type": "stream",
     "text": [
      "Part of edges: [[645 874]\n",
      " [556 843]\n",
      " [ 91 996]\n",
      " [228 974]\n",
      " [116 667]]\n",
      "Edges are saved into ./ondisk_dataset_homograph/edges.csv\n"
     ]
    }
   ],
   "source": [
    "import numpy as np\n",
    "import pandas as pd\n",
    "num_nodes = 1000\n",
    "num_edges = 10 * num_nodes\n",
    "edges_path = os.path.join(base_dir, \"edges.csv\")\n",
    "edges = np.random.randint(0, num_nodes, size=(num_edges, 2))\n",
    "\n",
    "print(f\"Part of edges: {edges[:5, :]}\")\n",
    "\n",
    "df = pd.DataFrame(edges)\n",
    "df.to_csv(edges_path, index=False, header=False)\n",
    "\n",
    "print(f\"Edges are saved into {edges_path}\")"
   ]
  },
  {
   "cell_type": "markdown",
   "metadata": {
    "id": "kh-4cPtzpcaH"
   },
   "source": [
    "### Generate feature data for graph\n",
    "For feature data, numpy arrays and torch tensors are supported for now."
   ]
  },
  {
   "cell_type": "code",
   "execution_count": 4,
   "metadata": {
    "execution": {
     "iopub.execute_input": "2024-09-18T06:52:55.273859Z",
     "iopub.status.busy": "2024-09-18T06:52:55.273443Z",
     "iopub.status.idle": "2024-09-18T06:52:55.302130Z",
     "shell.execute_reply": "2024-09-18T06:52:55.301625Z"
    },
    "id": "_PVu1u5brBhF"
   },
   "outputs": [
    {
     "name": "stdout",
     "output_type": "stream",
     "text": [
      "Part of node feature [feat_0]: [[0.18413199 0.62237674 0.35621369 0.95699183 0.90371447]\n",
      " [0.4342842  0.71157801 0.88077361 0.43984195 0.41271835]\n",
      " [0.44611919 0.65949997 0.19022741 0.85122299 0.64400144]]\n",
      "Node feature [feat_0] is saved to ./ondisk_dataset_homograph/node-feat-0.npy\n",
      "\n",
      "Part of node feature [feat_1]: tensor([[0.9071, 0.6124, 0.9781, 0.2970, 0.6244],\n",
      "        [0.3461, 0.6524, 0.2934, 0.6486, 0.4537],\n",
      "        [0.3431, 0.3436, 0.7397, 0.9123, 0.9990]])\n",
      "Node feature [feat_1] is saved to ./ondisk_dataset_homograph/node-feat-1.pt\n",
      "\n",
      "Part of edge feature [feat_0]: [[0.89959283 0.70484689 0.19200917 0.26794296 0.78545331]\n",
      " [0.05236168 0.74512754 0.27068731 0.32353999 0.73508868]\n",
      " [0.79725622 0.00224259 0.6553986  0.41038235 0.01512925]]\n",
      "Edge feature [feat_0] is saved to ./ondisk_dataset_homograph/edge-feat-0.npy\n",
      "\n",
      "Part of edge feature [feat_1]: tensor([[0.6208, 0.0047, 0.9682, 0.5679, 0.1674],\n",
      "        [0.4977, 0.3262, 0.8332, 0.3400, 0.0043],\n",
      "        [0.3815, 0.5794, 0.3996, 0.9817, 0.0802]])\n",
      "Edge feature [feat_1] is saved to ./ondisk_dataset_homograph/edge-feat-1.pt\n",
      "\n"
     ]
    }
   ],
   "source": [
    "# Generate node feature in numpy array.\n",
    "node_feat_0_path = os.path.join(base_dir, \"node-feat-0.npy\")\n",
    "node_feat_0 = np.random.rand(num_nodes, 5)\n",
    "print(f\"Part of node feature [feat_0]: {node_feat_0[:3, :]}\")\n",
    "np.save(node_feat_0_path, node_feat_0)\n",
    "print(f\"Node feature [feat_0] is saved to {node_feat_0_path}\\n\")\n",
    "\n",
    "# Generate another node feature in torch tensor\n",
    "node_feat_1_path = os.path.join(base_dir, \"node-feat-1.pt\")\n",
    "node_feat_1 = torch.rand(num_nodes, 5)\n",
    "print(f\"Part of node feature [feat_1]: {node_feat_1[:3, :]}\")\n",
    "torch.save(node_feat_1, node_feat_1_path)\n",
    "print(f\"Node feature [feat_1] is saved to {node_feat_1_path}\\n\")\n",
    "\n",
    "# Generate edge feature in numpy array.\n",
    "edge_feat_0_path = os.path.join(base_dir, \"edge-feat-0.npy\")\n",
    "edge_feat_0 = np.random.rand(num_edges, 5)\n",
    "print(f\"Part of edge feature [feat_0]: {edge_feat_0[:3, :]}\")\n",
    "np.save(edge_feat_0_path, edge_feat_0)\n",
    "print(f\"Edge feature [feat_0] is saved to {edge_feat_0_path}\\n\")\n",
    "\n",
    "# Generate another edge feature in torch tensor\n",
    "edge_feat_1_path = os.path.join(base_dir, \"edge-feat-1.pt\")\n",
    "edge_feat_1 = torch.rand(num_edges, 5)\n",
    "print(f\"Part of edge feature [feat_1]: {edge_feat_1[:3, :]}\")\n",
    "torch.save(edge_feat_1, edge_feat_1_path)\n",
    "print(f\"Edge feature [feat_1] is saved to {edge_feat_1_path}\\n\")\n"
   ]
  },
  {
   "cell_type": "markdown",
   "metadata": {
    "id": "ZyqgOtsIwzh_"
   },
   "source": [
    "### Generate tasks\n",
    "`OnDiskDataset` supports multiple tasks. For each task, we need to prepare training/validation/test sets respectively. Such sets usually vary among different tasks. In this tutorial, let's create a **Node Classification** task and **Link Prediction** task."
   ]
  },
  {
   "cell_type": "markdown",
   "metadata": {
    "id": "hVxHaDIfzCkr"
   },
   "source": [
    "#### Node Classification Task\n",
    "For node classification task, we need **node IDs** and corresponding **labels** for each training/validation/test set. Like feature data, numpy arrays and torch tensors are supported for these sets."
   ]
  },
  {
   "cell_type": "code",
   "execution_count": 5,
   "metadata": {
    "execution": {
     "iopub.execute_input": "2024-09-18T06:52:55.304476Z",
     "iopub.status.busy": "2024-09-18T06:52:55.304140Z",
     "iopub.status.idle": "2024-09-18T06:52:55.313709Z",
     "shell.execute_reply": "2024-09-18T06:52:55.313203Z"
    },
    "id": "S5-fyBbHzTCO"
   },
   "outputs": [
    {
     "name": "stdout",
     "output_type": "stream",
     "text": [
      "Part of train ids for node classification: [ 57 855 928]\n",
      "NC train ids are saved to ./ondisk_dataset_homograph/nc-train-ids.npy\n",
      "\n",
      "Part of train labels for node classification: tensor([8, 0, 9])\n",
      "NC train labels are saved to ./ondisk_dataset_homograph/nc-train-labels.pt\n",
      "\n",
      "Part of val ids for node classification: [511 435 153]\n",
      "NC val ids are saved to ./ondisk_dataset_homograph/nc-val-ids.npy\n",
      "\n",
      "Part of val labels for node classification: tensor([7, 1, 3])\n",
      "NC val labels are saved to ./ondisk_dataset_homograph/nc-val-labels.pt\n",
      "\n",
      "Part of test ids for node classification: [181 421 489]\n",
      "NC test ids are saved to ./ondisk_dataset_homograph/nc-test-ids.npy\n",
      "\n",
      "Part of test labels for node classification: tensor([0, 3, 0])\n",
      "NC test labels are saved to ./ondisk_dataset_homograph/nc-test-labels.pt\n",
      "\n"
     ]
    }
   ],
   "source": [
    "num_trains = int(num_nodes * 0.6)\n",
    "num_vals = int(num_nodes * 0.2)\n",
    "num_tests = num_nodes - num_trains - num_vals\n",
    "\n",
    "ids = np.arange(num_nodes)\n",
    "np.random.shuffle(ids)\n",
    "\n",
    "nc_train_ids_path = os.path.join(base_dir, \"nc-train-ids.npy\")\n",
    "nc_train_ids = ids[:num_trains]\n",
    "print(f\"Part of train ids for node classification: {nc_train_ids[:3]}\")\n",
    "np.save(nc_train_ids_path, nc_train_ids)\n",
    "print(f\"NC train ids are saved to {nc_train_ids_path}\\n\")\n",
    "\n",
    "nc_train_labels_path = os.path.join(base_dir, \"nc-train-labels.pt\")\n",
    "nc_train_labels = torch.randint(0, 10, (num_trains,))\n",
    "print(f\"Part of train labels for node classification: {nc_train_labels[:3]}\")\n",
    "torch.save(nc_train_labels, nc_train_labels_path)\n",
    "print(f\"NC train labels are saved to {nc_train_labels_path}\\n\")\n",
    "\n",
    "nc_val_ids_path = os.path.join(base_dir, \"nc-val-ids.npy\")\n",
    "nc_val_ids = ids[num_trains:num_trains+num_vals]\n",
    "print(f\"Part of val ids for node classification: {nc_val_ids[:3]}\")\n",
    "np.save(nc_val_ids_path, nc_val_ids)\n",
    "print(f\"NC val ids are saved to {nc_val_ids_path}\\n\")\n",
    "\n",
    "nc_val_labels_path = os.path.join(base_dir, \"nc-val-labels.pt\")\n",
    "nc_val_labels = torch.randint(0, 10, (num_vals,))\n",
    "print(f\"Part of val labels for node classification: {nc_val_labels[:3]}\")\n",
    "torch.save(nc_val_labels, nc_val_labels_path)\n",
    "print(f\"NC val labels are saved to {nc_val_labels_path}\\n\")\n",
    "\n",
    "nc_test_ids_path = os.path.join(base_dir, \"nc-test-ids.npy\")\n",
    "nc_test_ids = ids[-num_tests:]\n",
    "print(f\"Part of test ids for node classification: {nc_test_ids[:3]}\")\n",
    "np.save(nc_test_ids_path, nc_test_ids)\n",
    "print(f\"NC test ids are saved to {nc_test_ids_path}\\n\")\n",
    "\n",
    "nc_test_labels_path = os.path.join(base_dir, \"nc-test-labels.pt\")\n",
    "nc_test_labels = torch.randint(0, 10, (num_tests,))\n",
    "print(f\"Part of test labels for node classification: {nc_test_labels[:3]}\")\n",
    "torch.save(nc_test_labels, nc_test_labels_path)\n",
    "print(f\"NC test labels are saved to {nc_test_labels_path}\\n\")"
   ]
  },
  {
   "cell_type": "markdown",
   "metadata": {
    "id": "LhAcDCHQ_KJ0"
   },
   "source": [
    "#### Link Prediction Task\n",
    "For link prediction task, we need **seeds** or **corresponding labels and indexes** which representing the pos/neg property and group of the seeds for each training/validation/test set. Like feature data, numpy arrays and torch tensors are supported for these sets."
   ]
  },
  {
   "cell_type": "code",
   "execution_count": 6,
   "metadata": {
    "execution": {
     "iopub.execute_input": "2024-09-18T06:52:55.316002Z",
     "iopub.status.busy": "2024-09-18T06:52:55.315807Z",
     "iopub.status.idle": "2024-09-18T06:52:55.331346Z",
     "shell.execute_reply": "2024-09-18T06:52:55.330860Z"
    },
    "id": "u0jCnXIcAQy4"
   },
   "outputs": [
    {
     "name": "stdout",
     "output_type": "stream",
     "text": [
      "Part of train seeds for link prediction: [[645 874]\n",
      " [556 843]\n",
      " [ 91 996]]\n",
      "LP train seeds are saved to ./ondisk_dataset_homograph/lp-train-seeds.npy\n",
      "\n",
      "Part of val seeds for link prediction: [[570  78]\n",
      " [536 573]\n",
      " [923 351]]\n",
      "LP val seeds are saved to ./ondisk_dataset_homograph/lp-val-seeds.npy\n",
      "\n",
      "Part of val labels for link prediction: [1. 1. 1.]\n",
      "LP val labels are saved to ./ondisk_dataset_homograph/lp-val-labels.npy\n",
      "\n",
      "Part of val indexes for link prediction: [0 1 2]\n",
      "LP val indexes are saved to ./ondisk_dataset_homograph/lp-val-indexes.npy\n",
      "\n",
      "Part of test seeds for link prediction: [[ 69 972]\n",
      " [859 990]\n",
      " [512 580]]\n",
      "LP test seeds are saved to ./ondisk_dataset_homograph/lp-test-seeds.npy\n",
      "\n",
      "Part of val labels for link prediction: [1. 1. 1.]\n",
      "LP test labels are saved to ./ondisk_dataset_homograph/lp-test-labels.npy\n",
      "\n",
      "Part of test indexes for link prediction: [0 1 2]\n",
      "LP test indexes are saved to ./ondisk_dataset_homograph/lp-test-indexes.npy\n",
      "\n"
     ]
    }
   ],
   "source": [
    "num_trains = int(num_edges * 0.6)\n",
    "num_vals = int(num_edges * 0.2)\n",
    "num_tests = num_edges - num_trains - num_vals\n",
    "\n",
    "lp_train_seeds_path = os.path.join(base_dir, \"lp-train-seeds.npy\")\n",
    "lp_train_seeds = edges[:num_trains, :]\n",
    "print(f\"Part of train seeds for link prediction: {lp_train_seeds[:3]}\")\n",
    "np.save(lp_train_seeds_path, lp_train_seeds)\n",
    "print(f\"LP train seeds are saved to {lp_train_seeds_path}\\n\")\n",
    "\n",
    "lp_val_seeds_path = os.path.join(base_dir, \"lp-val-seeds.npy\")\n",
    "lp_val_seeds = edges[num_trains:num_trains+num_vals, :]\n",
    "lp_val_neg_dsts = np.random.randint(0, num_nodes, (num_vals, 10)).reshape(-1)\n",
    "lp_val_neg_srcs = np.repeat(lp_val_seeds[:,0], 10)\n",
    "lp_val_neg_seeds = np.concatenate((lp_val_neg_srcs, lp_val_neg_dsts)).reshape(2,-1).T\n",
    "lp_val_seeds = np.concatenate((lp_val_seeds, lp_val_neg_seeds))\n",
    "print(f\"Part of val seeds for link prediction: {lp_val_seeds[:3]}\")\n",
    "np.save(lp_val_seeds_path, lp_val_seeds)\n",
    "print(f\"LP val seeds are saved to {lp_val_seeds_path}\\n\")\n",
    "\n",
    "lp_val_labels_path = os.path.join(base_dir, \"lp-val-labels.npy\")\n",
    "lp_val_labels = np.empty(num_vals * (10 + 1))\n",
    "lp_val_labels[:num_vals] = 1\n",
    "lp_val_labels[num_vals:] = 0\n",
    "print(f\"Part of val labels for link prediction: {lp_val_labels[:3]}\")\n",
    "np.save(lp_val_labels_path, lp_val_labels)\n",
    "print(f\"LP val labels are saved to {lp_val_labels_path}\\n\")\n",
    "\n",
    "lp_val_indexes_path = os.path.join(base_dir, \"lp-val-indexes.npy\")\n",
    "lp_val_indexes = np.arange(0, num_vals)\n",
    "lp_val_neg_indexes = np.repeat(lp_val_indexes, 10)\n",
    "lp_val_indexes = np.concatenate([lp_val_indexes, lp_val_neg_indexes])\n",
    "print(f\"Part of val indexes for link prediction: {lp_val_indexes[:3]}\")\n",
    "np.save(lp_val_indexes_path, lp_val_indexes)\n",
    "print(f\"LP val indexes are saved to {lp_val_indexes_path}\\n\")\n",
    "\n",
    "lp_test_seeds_path = os.path.join(base_dir, \"lp-test-seeds.npy\")\n",
    "lp_test_seeds = edges[-num_tests:, :]\n",
    "lp_test_neg_dsts = np.random.randint(0, num_nodes, (num_tests, 10)).reshape(-1)\n",
    "lp_test_neg_srcs = np.repeat(lp_test_seeds[:,0], 10)\n",
    "lp_test_neg_seeds = np.concatenate((lp_test_neg_srcs, lp_test_neg_dsts)).reshape(2,-1).T\n",
    "lp_test_seeds = np.concatenate((lp_test_seeds, lp_test_neg_seeds))\n",
    "print(f\"Part of test seeds for link prediction: {lp_test_seeds[:3]}\")\n",
    "np.save(lp_test_seeds_path, lp_test_seeds)\n",
    "print(f\"LP test seeds are saved to {lp_test_seeds_path}\\n\")\n",
    "\n",
    "lp_test_labels_path = os.path.join(base_dir, \"lp-test-labels.npy\")\n",
    "lp_test_labels = np.empty(num_tests * (10 + 1))\n",
    "lp_test_labels[:num_tests] = 1\n",
    "lp_test_labels[num_tests:] = 0\n",
    "print(f\"Part of val labels for link prediction: {lp_test_labels[:3]}\")\n",
    "np.save(lp_test_labels_path, lp_test_labels)\n",
    "print(f\"LP test labels are saved to {lp_test_labels_path}\\n\")\n",
    "\n",
    "lp_test_indexes_path = os.path.join(base_dir, \"lp-test-indexes.npy\")\n",
    "lp_test_indexes = np.arange(0, num_tests)\n",
    "lp_test_neg_indexes = np.repeat(lp_test_indexes, 10)\n",
    "lp_test_indexes = np.concatenate([lp_test_indexes, lp_test_neg_indexes])\n",
    "print(f\"Part of test indexes for link prediction: {lp_test_indexes[:3]}\")\n",
    "np.save(lp_test_indexes_path, lp_test_indexes)\n",
    "print(f\"LP test indexes are saved to {lp_test_indexes_path}\\n\")"
   ]
  },
  {
   "cell_type": "markdown",
   "metadata": {
    "id": "wbk6-wxRK-6S"
   },
   "source": [
    "## Organize Data into YAML File\n",
    "Now we need to create a `metadata.yaml` file which contains the paths, dadta types of graph structure, feature data, training/validation/test sets.\n",
    "\n",
    "Notes:\n",
    "- all path should be relative to `metadata.yaml`.\n",
    "- Below fields are optional and not specified in below example.\n",
    "  - `in_memory`: indicates whether to load dada into memory or `mmap`. Default is `True`.\n",
    "\n",
    "Please refer to [YAML specification](https://github.com/dmlc/dgl/blob/master/docs/source/stochastic_training/ondisk-dataset-specification.rst) for more details."
   ]
  },
  {
   "cell_type": "code",
   "execution_count": 7,
   "metadata": {
    "execution": {
     "iopub.execute_input": "2024-09-18T06:52:55.333642Z",
     "iopub.status.busy": "2024-09-18T06:52:55.333303Z",
     "iopub.status.idle": "2024-09-18T06:52:55.338339Z",
     "shell.execute_reply": "2024-09-18T06:52:55.337858Z"
    },
    "id": "ddGTWW61Lpwp"
   },
   "outputs": [],
   "source": [
    "yaml_content = f\"\"\"\n",
    "    dataset_name: homogeneous_graph_nc_lp\n",
    "    graph:\n",
    "      nodes:\n",
    "        - num: {num_nodes}\n",
    "      edges:\n",
    "        - format: csv\n",
    "          path: {os.path.basename(edges_path)}\n",
    "    feature_data:\n",
    "      - domain: node\n",
    "        name: feat_0\n",
    "        format: numpy\n",
    "        path: {os.path.basename(node_feat_0_path)}\n",
    "      - domain: node\n",
    "        name: feat_1\n",
    "        format: torch\n",
    "        path: {os.path.basename(node_feat_1_path)}\n",
    "      - domain: edge\n",
    "        name: feat_0\n",
    "        format: numpy\n",
    "        path: {os.path.basename(edge_feat_0_path)}\n",
    "      - domain: edge\n",
    "        name: feat_1\n",
    "        format: torch\n",
    "        path: {os.path.basename(edge_feat_1_path)}\n",
    "    tasks:\n",
    "      - name: node_classification\n",
    "        num_classes: 10\n",
    "        train_set:\n",
    "          - data:\n",
    "              - name: seeds\n",
    "                format: numpy\n",
    "                path: {os.path.basename(nc_train_ids_path)}\n",
    "              - name: labels\n",
    "                format: torch\n",
    "                path: {os.path.basename(nc_train_labels_path)}\n",
    "        validation_set:\n",
    "          - data:\n",
    "              - name: seeds\n",
    "                format: numpy\n",
    "                path: {os.path.basename(nc_val_ids_path)}\n",
    "              - name: labels\n",
    "                format: torch\n",
    "                path: {os.path.basename(nc_val_labels_path)}\n",
    "        test_set:\n",
    "          - data:\n",
    "              - name: seeds\n",
    "                format: numpy\n",
    "                path: {os.path.basename(nc_test_ids_path)}\n",
    "              - name: labels\n",
    "                format: torch\n",
    "                path: {os.path.basename(nc_test_labels_path)}\n",
    "      - name: link_prediction\n",
    "        num_classes: 10\n",
    "        train_set:\n",
    "          - data:\n",
    "              - name: seeds\n",
    "                format: numpy\n",
    "                path: {os.path.basename(lp_train_seeds_path)}\n",
    "        validation_set:\n",
    "          - data:\n",
    "              - name: seeds\n",
    "                format: numpy\n",
    "                path: {os.path.basename(lp_val_seeds_path)}\n",
    "              - name: labels\n",
    "                format: numpy\n",
    "                path: {os.path.basename(lp_val_labels_path)}\n",
    "              - name: indexes\n",
    "                format: numpy\n",
    "                path: {os.path.basename(lp_val_indexes_path)}\n",
    "        test_set:\n",
    "          - data:\n",
    "              - name: seeds\n",
    "                format: numpy\n",
    "                path: {os.path.basename(lp_test_seeds_path)}\n",
    "              - name: labels\n",
    "                format: numpy\n",
    "                path: {os.path.basename(lp_test_labels_path)}\n",
    "              - name: indexes\n",
    "                format: numpy\n",
    "                path: {os.path.basename(lp_test_indexes_path)}\n",
    "\"\"\"\n",
    "metadata_path = os.path.join(base_dir, \"metadata.yaml\")\n",
    "with open(metadata_path, \"w\") as f:\n",
    "  f.write(yaml_content)"
   ]
  },
  {
   "cell_type": "markdown",
   "metadata": {
    "id": "kEfybHGhOW7O"
   },
   "source": [
    "## Instantiate `OnDiskDataset`\n",
    "Now we're ready to load dataset via `dgl.graphbolt.OnDiskDataset`. When instantiating, we just pass in the base directory where `metadata.yaml` file lies.\n",
    "\n",
    "During first instantiation, GraphBolt preprocesses the raw data such as constructing `FusedCSCSamplingGraph` from edges. All data including graph, feature data, training/validation/test sets are put into `preprocessed` directory after preprocessing. Any following dataset loading will skip the preprocess stage.\n",
    "\n",
    "After preprocessing, `load()` is required to be called explicitly in order to load graph, feature data and tasks."
   ]
  },
  {
   "cell_type": "code",
   "execution_count": 8,
   "metadata": {
    "execution": {
     "iopub.execute_input": "2024-09-18T06:52:55.340517Z",
     "iopub.status.busy": "2024-09-18T06:52:55.340218Z",
     "iopub.status.idle": "2024-09-18T06:52:55.420218Z",
     "shell.execute_reply": "2024-09-18T06:52:55.419712Z"
    },
    "id": "W58CZoSzOiyo"
   },
   "outputs": [
    {
     "name": "stdout",
     "output_type": "stream",
     "text": [
      "The on-disk dataset is re-preprocessing, so the existing preprocessed dataset has been removed.\n",
      "Start to preprocess the on-disk dataset.\n",
      "Finish preprocessing the on-disk dataset.\n",
      "Loaded graph: FusedCSCSamplingGraph(csc_indptr=tensor([    0,    12,    22,  ...,  9977,  9989, 10000], dtype=torch.int32),\n",
      "                      indices=tensor([622,  91, 498,  ..., 203, 162, 681], dtype=torch.int32),\n",
      "                      total_num_nodes=1000, num_edges=10000,)\n",
      "\n",
      "Loaded feature store: TorchBasedFeatureStore(\n",
      "    {(<OnDiskFeatureDataDomain.NODE: 'node'>, None, 'feat_0'): TorchBasedFeature(\n",
      "        feature=tensor([[0.1841, 0.6224, 0.3562, 0.9570, 0.9037],\n",
      "                        [0.4343, 0.7116, 0.8808, 0.4398, 0.4127],\n",
      "                        [0.4461, 0.6595, 0.1902, 0.8512, 0.6440],\n",
      "                        ...,\n",
      "                        [0.6623, 0.0730, 0.5594, 0.2819, 0.7494],\n",
      "                        [0.7507, 0.8814, 0.8831, 0.4750, 0.5390],\n",
      "                        [0.8160, 0.1719, 0.2640, 0.8617, 0.6910]], dtype=torch.float64),\n",
      "        metadata={},\n",
      "    ), (<OnDiskFeatureDataDomain.NODE: 'node'>, None, 'feat_1'): TorchBasedFeature(\n",
      "        feature=tensor([[0.9071, 0.6124, 0.9781, 0.2970, 0.6244],\n",
      "                        [0.3461, 0.6524, 0.2934, 0.6486, 0.4537],\n",
      "                        [0.3431, 0.3436, 0.7397, 0.9123, 0.9990],\n",
      "                        ...,\n",
      "                        [0.1152, 0.7216, 0.3529, 0.4002, 0.8466],\n",
      "                        [0.7874, 0.3865, 0.2269, 0.4188, 0.9291],\n",
      "                        [0.1049, 0.5052, 0.3180, 0.4625, 0.1124]]),\n",
      "        metadata={},\n",
      "    ), (<OnDiskFeatureDataDomain.EDGE: 'edge'>, None, 'feat_0'): TorchBasedFeature(\n",
      "        feature=tensor([[0.8996, 0.7048, 0.1920, 0.2679, 0.7855],\n",
      "                        [0.0524, 0.7451, 0.2707, 0.3235, 0.7351],\n",
      "                        [0.7973, 0.0022, 0.6554, 0.4104, 0.0151],\n",
      "                        ...,\n",
      "                        [0.9385, 0.8206, 0.5070, 0.4876, 0.6321],\n",
      "                        [0.7036, 0.5025, 0.8658, 0.1748, 0.4680],\n",
      "                        [0.5497, 0.8756, 0.0029, 0.6702, 0.0388]], dtype=torch.float64),\n",
      "        metadata={},\n",
      "    ), (<OnDiskFeatureDataDomain.EDGE: 'edge'>, None, 'feat_1'): TorchBasedFeature(\n",
      "        feature=tensor([[0.6208, 0.0047, 0.9682, 0.5679, 0.1674],\n",
      "                        [0.4977, 0.3262, 0.8332, 0.3400, 0.0043],\n",
      "                        [0.3815, 0.5794, 0.3996, 0.9817, 0.0802],\n",
      "                        ...,\n",
      "                        [0.5741, 0.2901, 0.0693, 0.0306, 0.8897],\n",
      "                        [0.0777, 0.2071, 0.4322, 0.7702, 0.1838],\n",
      "                        [0.3365, 0.4489, 0.1784, 0.9419, 0.7558]]),\n",
      "        metadata={},\n",
      "    )}\n",
      ")\n",
      "\n",
      "Loaded node classification task: OnDiskTask(validation_set=ItemSet(\n",
      "               items=(tensor([511, 435, 153, 168, 494, 504,  85, 452, 753, 223, 914, 716, 293, 295,\n",
      "                   678, 111, 821, 324, 385, 797,  84, 722, 587, 204, 556, 290, 694, 592,\n",
      "                    61, 789, 984, 769, 764, 407, 423, 900, 931, 296, 701, 867, 398, 409,\n",
      "                   363, 353, 719, 852, 331, 579, 607, 743,  49, 459, 907, 344,  65, 184,\n",
      "                    50, 920, 613, 191, 765, 307,  10, 321, 930, 702, 213, 376, 258, 787,\n",
      "                    73, 967, 426,  79,  53, 717,  54, 513, 616, 561, 190, 564, 882, 956,\n",
      "                   432, 519, 713,  78, 711, 236, 936, 467, 680, 382, 208, 501, 333, 617,\n",
      "                   463,  68,  45, 229,  40, 244, 341, 802, 392, 776, 469, 486, 707, 699,\n",
      "                   245, 172, 544, 209, 691, 779, 745, 832, 839, 169, 630, 744, 641, 378,\n",
      "                   524, 518, 302, 761, 932, 264, 829, 870, 390, 130, 890, 674, 351, 369,\n",
      "                   805, 234, 521,  43, 943, 347, 218, 565, 552, 974, 180, 763, 755, 284,\n",
      "                   872, 980, 485, 560, 671, 375, 571, 301, 355, 394, 730, 777,  97, 878,\n",
      "                   766, 965, 206, 132, 540, 491, 635, 609, 738, 487, 792, 377, 746, 651,\n",
      "                   833, 918, 178, 908, 728,  28, 405, 989, 373, 327, 756, 445, 971, 933,\n",
      "                   100, 425, 972, 312], dtype=torch.int32), tensor([7, 1, 3, 7, 4, 9, 2, 3, 6, 4, 2, 4, 3, 8, 5, 1, 3, 9, 6, 0, 8, 1, 2, 7,\n",
      "                   9, 1, 8, 9, 6, 2, 7, 6, 5, 8, 2, 1, 8, 1, 0, 6, 9, 7, 2, 4, 5, 7, 7, 6,\n",
      "                   5, 5, 0, 0, 1, 8, 1, 1, 3, 6, 0, 6, 0, 6, 3, 4, 2, 5, 8, 5, 4, 7, 4, 4,\n",
      "                   8, 6, 6, 6, 0, 0, 4, 1, 4, 4, 6, 7, 6, 5, 3, 9, 3, 8, 8, 9, 1, 0, 1, 6,\n",
      "                   4, 0, 8, 2, 5, 6, 0, 2, 3, 8, 8, 4, 5, 3, 6, 9, 7, 4, 7, 7, 4, 4, 9, 2,\n",
      "                   0, 5, 0, 4, 7, 7, 5, 1, 4, 2, 4, 5, 2, 1, 6, 3, 5, 9, 2, 2, 6, 3, 5, 9,\n",
      "                   2, 4, 4, 4, 4, 4, 0, 3, 2, 3, 9, 9, 2, 5, 9, 4, 9, 0, 5, 2, 5, 5, 9, 8,\n",
      "                   2, 3, 3, 7, 7, 5, 0, 5, 4, 3, 6, 0, 7, 5, 6, 2, 4, 8, 6, 1, 2, 1, 6, 1,\n",
      "                   0, 8, 0, 7, 1, 5, 3, 4])),\n",
      "               names=('seeds', 'labels'),\n",
      "           ),\n",
      "           train_set=ItemSet(\n",
      "               items=(tensor([ 57, 855, 928, 484, 383,  75, 478, 475, 690, 684, 988, 837, 648, 899,\n",
      "                   374, 123, 456, 679,  99, 361, 300, 875, 146, 154, 252, 926, 721, 136,\n",
      "                   443, 362, 122, 476, 689, 964, 231, 735, 474, 838, 977, 850, 948,  87,\n",
      "                     4, 555, 577, 116, 267, 268, 161, 458, 841,  18, 110, 371, 359,  76,\n",
      "                   840, 192, 550, 342, 440, 615, 205, 807,  71, 712, 220, 877, 727, 626,\n",
      "                   715, 523, 942, 482, 835, 538, 535, 142, 507, 601, 334, 465, 251, 367,\n",
      "                   731,  90, 348, 892, 945, 387, 197, 580, 999, 449, 869,  31, 593, 685,\n",
      "                   542, 365, 847, 682, 119, 533,  98, 893, 962, 786, 393, 975, 247, 970,\n",
      "                   531,   2, 196,   0, 676, 640, 162, 913, 578, 319, 457, 830, 608, 115,\n",
      "                   455, 567, 159, 695, 831, 767, 880, 417, 144, 697, 352, 372, 818, 460,\n",
      "                   853, 176, 427, 431, 514, 308, 810, 102, 700, 360, 912, 836, 939, 768,\n",
      "                    32, 883, 604, 924, 770, 996, 506, 177, 356, 175, 210, 125, 279, 937,\n",
      "                   659, 505, 656,   1, 280, 368,  13, 849, 775, 289, 814, 610, 332, 530,\n",
      "                   758, 732, 402, 705,  38, 619, 248, 895, 414, 773,  96, 844, 726, 871,\n",
      "                   470, 291,  56, 628, 403, 381, 488, 114, 545, 951, 953, 574, 418,  70,\n",
      "                   796,  77,  24, 554, 411, 442, 973,  58, 384, 995, 672, 140, 441, 815,\n",
      "                   820, 483, 946,  91, 198, 794, 647, 137, 428, 256, 396, 430, 479,  59,\n",
      "                   391, 898, 950, 277,  52, 262, 350, 464, 404,   9, 891, 959, 665,  62,\n",
      "                   897, 594, 438, 147, 163, 182, 283, 322,  14, 729, 657, 193, 314, 826,\n",
      "                   202, 559, 800, 706, 704, 969, 167, 250, 772, 466, 104, 817, 652, 806,\n",
      "                   541,  29, 129, 843, 185, 498, 983, 634, 894, 415, 788, 446, 436, 135,\n",
      "                   952, 687, 282, 623, 450, 785, 917, 938, 275, 740, 292, 189, 232, 173,\n",
      "                   979, 597, 992, 585, 596, 663, 286, 451, 816, 304, 492, 771, 922, 490,\n",
      "                   677, 978, 910, 320, 526, 257, 703, 985, 233, 164, 589, 639, 793, 941,\n",
      "                   551, 496, 638, 667, 274, 106, 733, 954, 940, 155, 783,  47, 808, 795,\n",
      "                   896, 221,  20, 757, 960, 751, 138, 315, 874,  89, 606, 660, 957, 246,\n",
      "                   591, 664, 510, 340, 366, 152, 909, 525,  36, 860, 317, 798, 904,   7,\n",
      "                    15, 126, 188, 886, 532,  81, 784, 303, 329, 819, 982, 527, 576, 285,\n",
      "                   935, 654,  86, 905, 316,  48, 117, 217, 516, 987, 330, 529, 346, 212,\n",
      "                   714, 345,  37,  67, 271,  46, 294,  19, 858, 644, 433,  30, 573, 255,\n",
      "                   310, 961,  69, 848, 471, 194, 477, 379,   5, 150, 632, 261,   8, 103,\n",
      "                   993, 546,  66, 416, 750, 337, 588, 480, 602, 624, 968, 693, 804, 994,\n",
      "                   915, 370, 921, 790, 113, 881, 643, 434, 557, 336,  35, 187, 318,  88,\n",
      "                   668, 200, 413, 683, 364, 575, 864, 605, 929, 108, 736, 214, 710, 401,\n",
      "                   503, 133, 509, 884, 562, 165, 811, 749, 338, 259, 534, 887, 862, 698,\n",
      "                   636, 288, 424,  25, 238, 281, 856, 866, 408, 222, 386, 590, 582, 669,\n",
      "                   901, 583, 263, 517, 633, 311, 539, 650, 566, 241, 569,  17, 658, 515,\n",
      "                   598, 109, 500, 827, 216, 603, 586, 183, 645, 688, 101, 171, 269, 128,\n",
      "                   955, 429, 179, 859, 420, 857, 273, 493, 809, 725, 966, 661, 265, 266,\n",
      "                   861, 235, 686, 388, 499, 997, 612, 902, 354, 528, 747, 495, 780, 134,\n",
      "                   863, 547, 148, 799, 622, 211, 537, 323, 919, 851,  39, 240, 825,  33,\n",
      "                   782, 646, 215, 963, 437, 107,  12, 558, 986, 454, 143, 734, 170, 201,\n",
      "                   906, 298, 708, 313, 760, 447,  63, 653, 828, 227, 865, 497],\n",
      "                  dtype=torch.int32), tensor([8, 0, 9, 5, 1, 0, 5, 0, 1, 3, 0, 0, 6, 2, 6, 4, 7, 1, 7, 1, 5, 3, 6, 7,\n",
      "                   7, 2, 5, 4, 7, 6, 3, 9, 7, 9, 1, 3, 0, 9, 4, 7, 5, 7, 9, 6, 9, 0, 7, 7,\n",
      "                   7, 7, 1, 8, 8, 9, 7, 9, 1, 5, 1, 2, 9, 4, 5, 7, 6, 7, 7, 6, 7, 4, 5, 1,\n",
      "                   1, 1, 0, 3, 5, 9, 6, 5, 9, 9, 6, 2, 7, 9, 5, 4, 5, 0, 8, 7, 3, 0, 7, 2,\n",
      "                   7, 0, 2, 8, 3, 3, 3, 2, 6, 0, 9, 4, 0, 9, 8, 7, 1, 9, 5, 0, 0, 8, 3, 7,\n",
      "                   4, 6, 9, 1, 5, 8, 3, 2, 8, 4, 1, 9, 7, 9, 3, 0, 5, 8, 1, 1, 9, 0, 4, 5,\n",
      "                   8, 6, 2, 6, 7, 8, 6, 2, 9, 5, 2, 3, 4, 8, 3, 7, 5, 4, 0, 1, 7, 9, 1, 2,\n",
      "                   5, 8, 6, 2, 8, 2, 4, 6, 0, 1, 1, 1, 5, 8, 7, 3, 5, 5, 6, 7, 8, 0, 5, 0,\n",
      "                   4, 2, 1, 3, 5, 8, 2, 6, 7, 8, 9, 6, 8, 1, 8, 3, 8, 7, 9, 9, 0, 2, 3, 4,\n",
      "                   9, 0, 2, 7, 0, 7, 8, 2, 6, 7, 3, 1, 6, 9, 8, 1, 2, 8, 3, 2, 7, 7, 8, 2,\n",
      "                   1, 1, 6, 6, 7, 8, 9, 5, 3, 8, 0, 3, 2, 5, 7, 0, 2, 0, 4, 3, 0, 0, 8, 0,\n",
      "                   7, 4, 2, 6, 3, 5, 5, 0, 8, 6, 1, 4, 4, 8, 3, 0, 2, 4, 9, 4, 8, 1, 8, 3,\n",
      "                   3, 0, 5, 2, 8, 7, 3, 5, 2, 3, 0, 6, 3, 5, 6, 8, 3, 6, 8, 7, 5, 4, 6, 9,\n",
      "                   1, 5, 4, 8, 2, 7, 0, 2, 7, 2, 5, 2, 5, 2, 9, 6, 7, 2, 1, 3, 2, 8, 4, 0,\n",
      "                   5, 2, 6, 2, 0, 0, 9, 7, 5, 0, 7, 6, 9, 8, 2, 7, 8, 6, 4, 8, 9, 0, 1, 0,\n",
      "                   0, 9, 1, 5, 2, 6, 8, 6, 0, 2, 6, 1, 7, 4, 0, 3, 2, 2, 3, 6, 9, 4, 2, 5,\n",
      "                   2, 1, 0, 6, 1, 3, 8, 0, 1, 2, 1, 9, 9, 3, 6, 4, 9, 5, 2, 7, 8, 8, 1, 3,\n",
      "                   6, 5, 7, 4, 0, 9, 1, 3, 6, 0, 0, 6, 7, 1, 1, 6, 0, 0, 6, 3, 0, 5, 4, 0,\n",
      "                   7, 9, 1, 3, 9, 1, 5, 0, 1, 0, 5, 4, 5, 7, 6, 2, 1, 4, 1, 4, 4, 6, 9, 2,\n",
      "                   2, 1, 0, 9, 6, 6, 5, 0, 5, 6, 6, 5, 5, 3, 2, 9, 1, 9, 7, 6, 0, 8, 3, 8,\n",
      "                   5, 1, 5, 4, 6, 8, 5, 8, 9, 3, 9, 5, 2, 6, 8, 7, 2, 3, 3, 7, 8, 1, 0, 3,\n",
      "                   6, 7, 2, 1, 4, 3, 4, 4, 7, 1, 4, 5, 2, 7, 2, 0, 2, 5, 1, 3, 2, 4, 2, 1,\n",
      "                   6, 1, 1, 3, 4, 5, 2, 2, 8, 3, 0, 6, 0, 5, 1, 7, 8, 5, 5, 7, 3, 1, 0, 9,\n",
      "                   6, 5, 1, 2, 5, 2, 5, 2, 3, 3, 0, 8, 1, 9, 7, 6, 4, 5, 5, 8, 5, 0, 6, 9,\n",
      "                   9, 9, 9, 4, 7, 7, 1, 5, 6, 3, 0, 3, 3, 9, 9, 0, 0, 4, 3, 7, 3, 5, 9, 8])),\n",
      "               names=('seeds', 'labels'),\n",
      "           ),\n",
      "           test_set=ItemSet(\n",
      "               items=(tensor([181, 421, 489,  64, 595, 670, 927, 911, 570, 121, 339, 508, 174, 629,\n",
      "                   976, 389, 462, 762, 621,  34, 723, 568, 481, 854, 637,   6, 548, 536,\n",
      "                   916, 834, 243, 822, 343, 812, 998, 472, 512, 759, 553,  82, 631, 522,\n",
      "                    44, 742, 991, 549, 203, 299, 903, 139, 614, 230, 949, 195, 752, 406,\n",
      "                   253, 642, 328,  80, 724, 272, 823, 157,  95, 145,  83, 584, 225, 655,\n",
      "                   461, 419, 422, 226, 774,   3, 400, 581, 410, 572, 781,  60, 618, 981,\n",
      "                    22, 824, 791, 801, 412, 520, 934, 803, 778, 720, 944, 718, 673, 754,\n",
      "                   741, 696,  11, 846, 473, 444, 297, 813, 160,  93, 287, 649, 120, 124,\n",
      "                   611, 325,  26, 260, 118, 502, 237, 868, 309, 186, 879, 662, 112, 249,\n",
      "                   453, 358, 239, 158,  55, 842,  27, 925, 675,  21, 627, 131, 228, 219,\n",
      "                   563,  23,  42, 149, 127, 326, 990,  92, 666, 889,  74, 958, 349, 681,\n",
      "                   399,  94, 600,  41, 305, 737, 397, 876, 543, 748, 439, 276, 335, 105,\n",
      "                   845, 151, 224, 620, 141, 199,  51, 254,  72, 873, 625, 270, 380, 709,\n",
      "                   156, 739, 448, 395, 885, 599, 947, 207, 242, 357, 888, 468, 166, 692,\n",
      "                   923,  16, 306, 278], dtype=torch.int32), tensor([0, 3, 0, 1, 3, 2, 9, 9, 6, 0, 7, 2, 2, 8, 3, 6, 2, 2, 1, 0, 8, 2, 9, 7,\n",
      "                   5, 1, 4, 9, 3, 8, 7, 5, 8, 7, 1, 0, 0, 9, 8, 3, 9, 2, 8, 3, 6, 9, 1, 3,\n",
      "                   4, 9, 9, 5, 0, 1, 9, 3, 9, 6, 9, 8, 0, 4, 8, 6, 6, 9, 1, 9, 8, 8, 5, 2,\n",
      "                   4, 2, 2, 5, 9, 6, 4, 0, 9, 7, 7, 1, 9, 7, 5, 1, 2, 5, 9, 1, 9, 4, 8, 9,\n",
      "                   8, 3, 5, 7, 6, 3, 2, 7, 2, 2, 9, 6, 1, 3, 9, 9, 2, 1, 2, 2, 7, 1, 7, 5,\n",
      "                   5, 0, 8, 0, 2, 8, 0, 7, 2, 2, 1, 9, 4, 0, 5, 2, 8, 1, 4, 0, 5, 1, 0, 9,\n",
      "                   5, 3, 5, 2, 6, 3, 1, 0, 6, 3, 9, 0, 5, 5, 8, 3, 4, 4, 0, 1, 6, 4, 2, 8,\n",
      "                   7, 6, 9, 3, 8, 0, 5, 9, 1, 5, 7, 2, 2, 5, 5, 6, 2, 5, 4, 6, 3, 2, 3, 7,\n",
      "                   7, 3, 0, 0, 2, 3, 3, 0])),\n",
      "               names=('seeds', 'labels'),\n",
      "           ),\n",
      "           metadata={'name': 'node_classification', 'num_classes': 10},)\n",
      "\n",
      "Loaded link prediction task: OnDiskTask(validation_set=ItemSet(\n",
      "               items=(tensor([[570,  78],\n",
      "                   [536, 573],\n",
      "                   [923, 351],\n",
      "                   ...,\n",
      "                   [226, 494],\n",
      "                   [226, 981],\n",
      "                   [226, 128]], dtype=torch.int32), tensor([1., 1., 1.,  ..., 0., 0., 0.], dtype=torch.float64), tensor([   0,    1,    2,  ..., 1999, 1999, 1999])),\n",
      "               names=('seeds', 'labels', 'indexes'),\n",
      "           ),\n",
      "           train_set=ItemSet(\n",
      "               items=(tensor([[645, 874],\n",
      "                   [556, 843],\n",
      "                   [ 91, 996],\n",
      "                   ...,\n",
      "                   [439, 687],\n",
      "                   [889, 411],\n",
      "                   [108, 588]], dtype=torch.int32),),\n",
      "               names=('seeds',),\n",
      "           ),\n",
      "           test_set=ItemSet(\n",
      "               items=(tensor([[ 69, 972],\n",
      "                   [859, 990],\n",
      "                   [512, 580],\n",
      "                   ...,\n",
      "                   [219, 829],\n",
      "                   [219, 655],\n",
      "                   [219, 622]], dtype=torch.int32), tensor([1., 1., 1.,  ..., 0., 0., 0.], dtype=torch.float64), tensor([   0,    1,    2,  ..., 1999, 1999, 1999])),\n",
      "               names=('seeds', 'labels', 'indexes'),\n",
      "           ),\n",
      "           metadata={'name': 'link_prediction', 'num_classes': 10},)\n",
      "\n"
     ]
    },
    {
     "name": "stderr",
     "output_type": "stream",
     "text": [
      "/home/ubuntu/regression_test/dgl/python/dgl/graphbolt/internal/utils.py:16: FutureWarning: You are using `torch.load` with `weights_only=False` (the current default value), which uses the default pickle module implicitly. It is possible to construct malicious pickle data which will execute arbitrary code during unpickling (See https://github.com/pytorch/pytorch/blob/main/SECURITY.md#untrusted-models for more details). In a future release, the default value for `weights_only` will be flipped to `True`. This limits the functions that could be executed during unpickling. Arbitrary objects will no longer be allowed to be loaded via this mode unless they are explicitly allowlisted by the user via `torch.serialization.add_safe_globals`. We recommend you start setting `weights_only=True` for any use case where you don't have full control of the loaded file. Please open an issue on GitHub for any issues related to this experimental feature.\n",
      "  return torch.load(path)\n",
      "/home/ubuntu/regression_test/dgl/python/dgl/graphbolt/impl/ondisk_dataset.py:460: DGLWarning: Edge feature is stored, but edge IDs are not saved.\n",
      "  dgl_warning(\"Edge feature is stored, but edge IDs are not saved.\")\n",
      "/home/ubuntu/regression_test/dgl/python/dgl/graphbolt/impl/ondisk_dataset.py:852: FutureWarning: You are using `torch.load` with `weights_only=False` (the current default value), which uses the default pickle module implicitly. It is possible to construct malicious pickle data which will execute arbitrary code during unpickling (See https://github.com/pytorch/pytorch/blob/main/SECURITY.md#untrusted-models for more details). In a future release, the default value for `weights_only` will be flipped to `True`. This limits the functions that could be executed during unpickling. Arbitrary objects will no longer be allowed to be loaded via this mode unless they are explicitly allowlisted by the user via `torch.serialization.add_safe_globals`. We recommend you start setting `weights_only=True` for any use case where you don't have full control of the loaded file. Please open an issue on GitHub for any issues related to this experimental feature.\n",
      "  return torch.load(graph_topology.path)\n"
     ]
    }
   ],
   "source": [
    "dataset = gb.OnDiskDataset(base_dir).load()\n",
    "graph = dataset.graph\n",
    "print(f\"Loaded graph: {graph}\\n\")\n",
    "\n",
    "feature = dataset.feature\n",
    "print(f\"Loaded feature store: {feature}\\n\")\n",
    "\n",
    "tasks = dataset.tasks\n",
    "nc_task = tasks[0]\n",
    "print(f\"Loaded node classification task: {nc_task}\\n\")\n",
    "lp_task = tasks[1]\n",
    "print(f\"Loaded link prediction task: {lp_task}\\n\")"
   ]
  }
 ],
 "metadata": {
  "colab": {
   "private_outputs": true,
   "provenance": []
  },
  "kernelspec": {
   "display_name": "Python 3",
   "name": "python3"
  },
  "language_info": {
   "codemirror_mode": {
    "name": "ipython",
    "version": 3
   },
   "file_extension": ".py",
   "mimetype": "text/x-python",
   "name": "python",
   "nbconvert_exporter": "python",
   "pygments_lexer": "ipython3",
   "version": "3.10.14"
  }
 },
 "nbformat": 4,
 "nbformat_minor": 0
}

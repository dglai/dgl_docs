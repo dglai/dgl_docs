{
 "cells": [
  {
   "cell_type": "markdown",
   "metadata": {
    "id": "FnFhPMaAfLtJ"
   },
   "source": [
    "# OnDiskDataset for Homogeneous Graph\n",
    "\n",
    "[![Open In Colab](https://colab.research.google.com/assets/colab-badge.svg)](https://colab.research.google.com/github/dmlc/dgl/blob/master/notebooks/stochastic_training/ondisk_dataset_homograph.ipynb) [![GitHub](https://img.shields.io/badge/-View%20on%20GitHub-181717?logo=github&logoColor=ffffff)](https://github.com/dmlc/dgl/blob/master/notebooks/stochastic_training/ondisk_dataset_homograph.ipynb)\n",
    "\n",
    "This tutorial shows how to create `OnDiskDataset` for homogeneous graph that could be used in **GraphBolt** framework.\n",
    "\n",
    "By the end of this tutorial, you will be able to\n",
    "\n",
    "- organize graph structure data.\n",
    "- organize feature data.\n",
    "- organize training/validation/test set for specific tasks.\n",
    "\n",
    "To create an ``OnDiskDataset`` object, you need to organize all the data including graph structure, feature data and tasks into a directory. The directory should contain a ``metadata.yaml`` file that describes the metadata of the dataset.\n",
    "\n",
    "Now let's generate various data step by step and organize them together to instantiate `OnDiskDataset` finally."
   ]
  },
  {
   "cell_type": "markdown",
   "metadata": {
    "id": "Wlb19DtWgtzq"
   },
   "source": [
    "## Install DGL package"
   ]
  },
  {
   "cell_type": "code",
   "execution_count": 1,
   "metadata": {
    "execution": {
     "iopub.execute_input": "2024-08-21T11:25:19.000361Z",
     "iopub.status.busy": "2024-08-21T11:25:18.999966Z",
     "iopub.status.idle": "2024-08-21T11:25:22.886005Z",
     "shell.execute_reply": "2024-08-21T11:25:22.885223Z"
    },
    "id": "UojlT9ZGgyr9"
   },
   "outputs": [
    {
     "name": "stdout",
     "output_type": "stream",
     "text": [
      "Looking in links: https://data.dgl.ai/wheels-test/repo.html\r\n",
      "Requirement already satisfied: dgl in /opt/conda/envs/dgl-dev-cpu/lib/python3.10/site-packages (2.2a240410)\r\n",
      "Requirement already satisfied: numpy>=1.14.0 in /opt/conda/envs/dgl-dev-cpu/lib/python3.10/site-packages (from dgl) (1.26.4)\r\n",
      "Requirement already satisfied: scipy>=1.1.0 in /opt/conda/envs/dgl-dev-cpu/lib/python3.10/site-packages (from dgl) (1.14.0)\r\n",
      "Requirement already satisfied: networkx>=2.1 in /opt/conda/envs/dgl-dev-cpu/lib/python3.10/site-packages (from dgl) (3.3)\r\n",
      "Requirement already satisfied: requests>=2.19.0 in /opt/conda/envs/dgl-dev-cpu/lib/python3.10/site-packages (from dgl) (2.32.3)\r\n",
      "Requirement already satisfied: tqdm in /opt/conda/envs/dgl-dev-cpu/lib/python3.10/site-packages (from dgl) (4.66.5)\r\n",
      "Requirement already satisfied: psutil>=5.8.0 in /opt/conda/envs/dgl-dev-cpu/lib/python3.10/site-packages (from dgl) (6.0.0)\r\n",
      "Requirement already satisfied: torchdata>=0.5.0 in /opt/conda/envs/dgl-dev-cpu/lib/python3.10/site-packages (from dgl) (0.7.1+6427ed9)\r\n",
      "Requirement already satisfied: pandas in /opt/conda/envs/dgl-dev-cpu/lib/python3.10/site-packages (from dgl) (2.2.2)\r\n",
      "Requirement already satisfied: charset-normalizer<4,>=2 in /opt/conda/envs/dgl-dev-cpu/lib/python3.10/site-packages (from requests>=2.19.0->dgl) (3.3.2)\r\n",
      "Requirement already satisfied: idna<4,>=2.5 in /opt/conda/envs/dgl-dev-cpu/lib/python3.10/site-packages (from requests>=2.19.0->dgl) (3.7)\r\n",
      "Requirement already satisfied: urllib3<3,>=1.21.1 in /opt/conda/envs/dgl-dev-cpu/lib/python3.10/site-packages (from requests>=2.19.0->dgl) (2.2.2)\r\n",
      "Requirement already satisfied: certifi>=2017.4.17 in /opt/conda/envs/dgl-dev-cpu/lib/python3.10/site-packages (from requests>=2.19.0->dgl) (2024.7.4)\r\n",
      "Requirement already satisfied: torch>=2 in /opt/conda/envs/dgl-dev-cpu/lib/python3.10/site-packages (from torchdata>=0.5.0->dgl) (2.1.0+cpu)\r\n"
     ]
    },
    {
     "name": "stdout",
     "output_type": "stream",
     "text": [
      "Requirement already satisfied: python-dateutil>=2.8.2 in /opt/conda/envs/dgl-dev-cpu/lib/python3.10/site-packages (from pandas->dgl) (2.9.0.post0)\r\n",
      "Requirement already satisfied: pytz>=2020.1 in /opt/conda/envs/dgl-dev-cpu/lib/python3.10/site-packages (from pandas->dgl) (2024.1)\r\n",
      "Requirement already satisfied: tzdata>=2022.7 in /opt/conda/envs/dgl-dev-cpu/lib/python3.10/site-packages (from pandas->dgl) (2024.1)\r\n",
      "Requirement already satisfied: six>=1.5 in /opt/conda/envs/dgl-dev-cpu/lib/python3.10/site-packages (from python-dateutil>=2.8.2->pandas->dgl) (1.16.0)\r\n",
      "Requirement already satisfied: filelock in /opt/conda/envs/dgl-dev-cpu/lib/python3.10/site-packages (from torch>=2->torchdata>=0.5.0->dgl) (3.15.4)\r\n",
      "Requirement already satisfied: typing-extensions in /opt/conda/envs/dgl-dev-cpu/lib/python3.10/site-packages (from torch>=2->torchdata>=0.5.0->dgl) (4.12.2)\r\n",
      "Requirement already satisfied: sympy in /opt/conda/envs/dgl-dev-cpu/lib/python3.10/site-packages (from torch>=2->torchdata>=0.5.0->dgl) (1.13.2)\r\n",
      "Requirement already satisfied: jinja2 in /opt/conda/envs/dgl-dev-cpu/lib/python3.10/site-packages (from torch>=2->torchdata>=0.5.0->dgl) (3.1.4)\r\n",
      "Requirement already satisfied: fsspec in /opt/conda/envs/dgl-dev-cpu/lib/python3.10/site-packages (from torch>=2->torchdata>=0.5.0->dgl) (2024.6.1)\r\n"
     ]
    },
    {
     "name": "stdout",
     "output_type": "stream",
     "text": [
      "Requirement already satisfied: MarkupSafe>=2.0 in /opt/conda/envs/dgl-dev-cpu/lib/python3.10/site-packages (from jinja2->torch>=2->torchdata>=0.5.0->dgl) (2.1.5)\r\n",
      "Requirement already satisfied: mpmath<1.4,>=1.1.0 in /opt/conda/envs/dgl-dev-cpu/lib/python3.10/site-packages (from sympy->torch>=2->torchdata>=0.5.0->dgl) (1.3.0)\r\n"
     ]
    },
    {
     "name": "stdout",
     "output_type": "stream",
     "text": [
      "DGL installed!\n"
     ]
    }
   ],
   "source": [
    "# Install required packages.\n",
    "import os\n",
    "import torch\n",
    "import numpy as np\n",
    "os.environ['TORCH'] = torch.__version__\n",
    "os.environ['DGLBACKEND'] = \"pytorch\"\n",
    "\n",
    "# Install the CPU version.\n",
    "device = torch.device(\"cpu\")\n",
    "!pip install --pre dgl -f https://data.dgl.ai/wheels-test/repo.html\n",
    "\n",
    "try:\n",
    "    import dgl\n",
    "    import dgl.graphbolt as gb\n",
    "    installed = True\n",
    "except ImportError as error:\n",
    "    installed = False\n",
    "    print(error)\n",
    "print(\"DGL installed!\" if installed else \"DGL not found!\")"
   ]
  },
  {
   "cell_type": "markdown",
   "metadata": {
    "id": "2R7WnSbjsfbr"
   },
   "source": [
    "## Data preparation\n",
    "In order to demonstrate how to organize various data, let's create a base directory first."
   ]
  },
  {
   "cell_type": "code",
   "execution_count": 2,
   "metadata": {
    "execution": {
     "iopub.execute_input": "2024-08-21T11:25:22.888977Z",
     "iopub.status.busy": "2024-08-21T11:25:22.888531Z",
     "iopub.status.idle": "2024-08-21T11:25:22.892715Z",
     "shell.execute_reply": "2024-08-21T11:25:22.892085Z"
    },
    "id": "SZipbzyltLfO"
   },
   "outputs": [
    {
     "name": "stdout",
     "output_type": "stream",
     "text": [
      "Created base directory: ./ondisk_dataset_homograph\n"
     ]
    }
   ],
   "source": [
    "base_dir = './ondisk_dataset_homograph'\n",
    "os.makedirs(base_dir, exist_ok=True)\n",
    "print(f\"Created base directory: {base_dir}\")"
   ]
  },
  {
   "cell_type": "markdown",
   "metadata": {
    "id": "qhNtIn_xhlnl"
   },
   "source": [
    "### Generate graph structure data\n",
    "For homogeneous graph, we just need to save edges(namely seeds) into  **Numpy** or **CSV** file.\n",
    "\n",
    "Note:\n",
    "- when saving to **Numpy**, the array requires to be in shape of `(2, N)`. This format is recommended as constructing graph from it is much faster than **CSV** file.\n",
    "- when saving to **CSV** file, do not save index and header.\n"
   ]
  },
  {
   "cell_type": "code",
   "execution_count": 3,
   "metadata": {
    "execution": {
     "iopub.execute_input": "2024-08-21T11:25:22.895081Z",
     "iopub.status.busy": "2024-08-21T11:25:22.894833Z",
     "iopub.status.idle": "2024-08-21T11:25:22.908219Z",
     "shell.execute_reply": "2024-08-21T11:25:22.907421Z"
    },
    "id": "HcBt4G5BmSjr"
   },
   "outputs": [
    {
     "name": "stdout",
     "output_type": "stream",
     "text": [
      "Part of edges: [[712 784]\n",
      " [718 903]\n",
      " [166 547]\n",
      " [691 952]\n",
      " [570 570]]\n",
      "Edges are saved into ./ondisk_dataset_homograph/edges.csv\n"
     ]
    }
   ],
   "source": [
    "import numpy as np\n",
    "import pandas as pd\n",
    "num_nodes = 1000\n",
    "num_edges = 10 * num_nodes\n",
    "edges_path = os.path.join(base_dir, \"edges.csv\")\n",
    "edges = np.random.randint(0, num_nodes, size=(num_edges, 2))\n",
    "\n",
    "print(f\"Part of edges: {edges[:5, :]}\")\n",
    "\n",
    "df = pd.DataFrame(edges)\n",
    "df.to_csv(edges_path, index=False, header=False)\n",
    "\n",
    "print(f\"Edges are saved into {edges_path}\")"
   ]
  },
  {
   "cell_type": "markdown",
   "metadata": {
    "id": "kh-4cPtzpcaH"
   },
   "source": [
    "### Generate feature data for graph\n",
    "For feature data, numpy arrays and torch tensors are supported for now."
   ]
  },
  {
   "cell_type": "code",
   "execution_count": 4,
   "metadata": {
    "execution": {
     "iopub.execute_input": "2024-08-21T11:25:22.910904Z",
     "iopub.status.busy": "2024-08-21T11:25:22.910469Z",
     "iopub.status.idle": "2024-08-21T11:25:22.924704Z",
     "shell.execute_reply": "2024-08-21T11:25:22.924045Z"
    },
    "id": "_PVu1u5brBhF"
   },
   "outputs": [
    {
     "name": "stdout",
     "output_type": "stream",
     "text": [
      "Part of node feature [feat_0]: [[0.65488055 0.01686701 0.63863976 0.82816461 0.78003815]\n",
      " [0.96637633 0.46274173 0.72828979 0.44898348 0.60377738]\n",
      " [0.76416589 0.18827588 0.57927302 0.27784419 0.73509962]]\n",
      "Node feature [feat_0] is saved to ./ondisk_dataset_homograph/node-feat-0.npy\n",
      "\n",
      "Part of node feature [feat_1]: tensor([[0.6203, 0.7799, 0.3508, 0.8096, 0.2191],\n",
      "        [0.1763, 0.4767, 0.0671, 0.0414, 0.4125],\n",
      "        [0.8940, 0.6805, 0.8679, 0.9223, 0.1792]])\n",
      "Node feature [feat_1] is saved to ./ondisk_dataset_homograph/node-feat-1.pt\n",
      "\n",
      "Part of edge feature [feat_0]: [[0.2564649  0.3452882  0.50995206 0.2125     0.87754598]\n",
      " [0.08671703 0.0207761  0.23257538 0.81306696 0.21297049]\n",
      " [0.89776213 0.50224716 0.3630358  0.76144678 0.27081988]]\n",
      "Edge feature [feat_0] is saved to ./ondisk_dataset_homograph/edge-feat-0.npy\n",
      "\n",
      "Part of edge feature [feat_1]: tensor([[0.1944, 0.4219, 0.3297, 0.8047, 0.5491],\n",
      "        [0.6684, 0.1237, 0.8825, 0.1125, 0.2040],\n",
      "        [0.0905, 0.1682, 0.9868, 0.0641, 0.0210]])\n",
      "Edge feature [feat_1] is saved to ./ondisk_dataset_homograph/edge-feat-1.pt\n",
      "\n"
     ]
    }
   ],
   "source": [
    "# Generate node feature in numpy array.\n",
    "node_feat_0_path = os.path.join(base_dir, \"node-feat-0.npy\")\n",
    "node_feat_0 = np.random.rand(num_nodes, 5)\n",
    "print(f\"Part of node feature [feat_0]: {node_feat_0[:3, :]}\")\n",
    "np.save(node_feat_0_path, node_feat_0)\n",
    "print(f\"Node feature [feat_0] is saved to {node_feat_0_path}\\n\")\n",
    "\n",
    "# Generate another node feature in torch tensor\n",
    "node_feat_1_path = os.path.join(base_dir, \"node-feat-1.pt\")\n",
    "node_feat_1 = torch.rand(num_nodes, 5)\n",
    "print(f\"Part of node feature [feat_1]: {node_feat_1[:3, :]}\")\n",
    "torch.save(node_feat_1, node_feat_1_path)\n",
    "print(f\"Node feature [feat_1] is saved to {node_feat_1_path}\\n\")\n",
    "\n",
    "# Generate edge feature in numpy array.\n",
    "edge_feat_0_path = os.path.join(base_dir, \"edge-feat-0.npy\")\n",
    "edge_feat_0 = np.random.rand(num_edges, 5)\n",
    "print(f\"Part of edge feature [feat_0]: {edge_feat_0[:3, :]}\")\n",
    "np.save(edge_feat_0_path, edge_feat_0)\n",
    "print(f\"Edge feature [feat_0] is saved to {edge_feat_0_path}\\n\")\n",
    "\n",
    "# Generate another edge feature in torch tensor\n",
    "edge_feat_1_path = os.path.join(base_dir, \"edge-feat-1.pt\")\n",
    "edge_feat_1 = torch.rand(num_edges, 5)\n",
    "print(f\"Part of edge feature [feat_1]: {edge_feat_1[:3, :]}\")\n",
    "torch.save(edge_feat_1, edge_feat_1_path)\n",
    "print(f\"Edge feature [feat_1] is saved to {edge_feat_1_path}\\n\")\n"
   ]
  },
  {
   "cell_type": "markdown",
   "metadata": {
    "id": "ZyqgOtsIwzh_"
   },
   "source": [
    "### Generate tasks\n",
    "`OnDiskDataset` supports multiple tasks. For each task, we need to prepare training/validation/test sets respectively. Such sets usually vary among different tasks. In this tutorial, let's create a **Node Classification** task and **Link Prediction** task."
   ]
  },
  {
   "cell_type": "markdown",
   "metadata": {
    "id": "hVxHaDIfzCkr"
   },
   "source": [
    "#### Node Classification Task\n",
    "For node classification task, we need **node IDs** and corresponding **labels** for each training/validation/test set. Like feature data, numpy arrays and torch tensors are supported for these sets."
   ]
  },
  {
   "cell_type": "code",
   "execution_count": 5,
   "metadata": {
    "execution": {
     "iopub.execute_input": "2024-08-21T11:25:22.927373Z",
     "iopub.status.busy": "2024-08-21T11:25:22.926958Z",
     "iopub.status.idle": "2024-08-21T11:25:22.937111Z",
     "shell.execute_reply": "2024-08-21T11:25:22.936586Z"
    },
    "id": "S5-fyBbHzTCO"
   },
   "outputs": [
    {
     "name": "stdout",
     "output_type": "stream",
     "text": [
      "Part of train ids for node classification: [ 43 543 163]\n",
      "NC train ids are saved to ./ondisk_dataset_homograph/nc-train-ids.npy\n",
      "\n",
      "Part of train labels for node classification: tensor([1, 9, 6])\n",
      "NC train labels are saved to ./ondisk_dataset_homograph/nc-train-labels.pt\n",
      "\n",
      "Part of val ids for node classification: [850 192 918]\n",
      "NC val ids are saved to ./ondisk_dataset_homograph/nc-val-ids.npy\n",
      "\n",
      "Part of val labels for node classification: tensor([1, 6, 7])\n",
      "NC val labels are saved to ./ondisk_dataset_homograph/nc-val-labels.pt\n",
      "\n",
      "Part of test ids for node classification: [303 415  48]\n",
      "NC test ids are saved to ./ondisk_dataset_homograph/nc-test-ids.npy\n",
      "\n",
      "Part of test labels for node classification: tensor([2, 1, 7])\n",
      "NC test labels are saved to ./ondisk_dataset_homograph/nc-test-labels.pt\n",
      "\n"
     ]
    }
   ],
   "source": [
    "num_trains = int(num_nodes * 0.6)\n",
    "num_vals = int(num_nodes * 0.2)\n",
    "num_tests = num_nodes - num_trains - num_vals\n",
    "\n",
    "ids = np.arange(num_nodes)\n",
    "np.random.shuffle(ids)\n",
    "\n",
    "nc_train_ids_path = os.path.join(base_dir, \"nc-train-ids.npy\")\n",
    "nc_train_ids = ids[:num_trains]\n",
    "print(f\"Part of train ids for node classification: {nc_train_ids[:3]}\")\n",
    "np.save(nc_train_ids_path, nc_train_ids)\n",
    "print(f\"NC train ids are saved to {nc_train_ids_path}\\n\")\n",
    "\n",
    "nc_train_labels_path = os.path.join(base_dir, \"nc-train-labels.pt\")\n",
    "nc_train_labels = torch.randint(0, 10, (num_trains,))\n",
    "print(f\"Part of train labels for node classification: {nc_train_labels[:3]}\")\n",
    "torch.save(nc_train_labels, nc_train_labels_path)\n",
    "print(f\"NC train labels are saved to {nc_train_labels_path}\\n\")\n",
    "\n",
    "nc_val_ids_path = os.path.join(base_dir, \"nc-val-ids.npy\")\n",
    "nc_val_ids = ids[num_trains:num_trains+num_vals]\n",
    "print(f\"Part of val ids for node classification: {nc_val_ids[:3]}\")\n",
    "np.save(nc_val_ids_path, nc_val_ids)\n",
    "print(f\"NC val ids are saved to {nc_val_ids_path}\\n\")\n",
    "\n",
    "nc_val_labels_path = os.path.join(base_dir, \"nc-val-labels.pt\")\n",
    "nc_val_labels = torch.randint(0, 10, (num_vals,))\n",
    "print(f\"Part of val labels for node classification: {nc_val_labels[:3]}\")\n",
    "torch.save(nc_val_labels, nc_val_labels_path)\n",
    "print(f\"NC val labels are saved to {nc_val_labels_path}\\n\")\n",
    "\n",
    "nc_test_ids_path = os.path.join(base_dir, \"nc-test-ids.npy\")\n",
    "nc_test_ids = ids[-num_tests:]\n",
    "print(f\"Part of test ids for node classification: {nc_test_ids[:3]}\")\n",
    "np.save(nc_test_ids_path, nc_test_ids)\n",
    "print(f\"NC test ids are saved to {nc_test_ids_path}\\n\")\n",
    "\n",
    "nc_test_labels_path = os.path.join(base_dir, \"nc-test-labels.pt\")\n",
    "nc_test_labels = torch.randint(0, 10, (num_tests,))\n",
    "print(f\"Part of test labels for node classification: {nc_test_labels[:3]}\")\n",
    "torch.save(nc_test_labels, nc_test_labels_path)\n",
    "print(f\"NC test labels are saved to {nc_test_labels_path}\\n\")"
   ]
  },
  {
   "cell_type": "markdown",
   "metadata": {
    "id": "LhAcDCHQ_KJ0"
   },
   "source": [
    "#### Link Prediction Task\n",
    "For link prediction task, we need **seeds** or **corresponding labels and indexes** which representing the pos/neg property and group of the seeds for each training/validation/test set. Like feature data, numpy arrays and torch tensors are supported for these sets."
   ]
  },
  {
   "cell_type": "code",
   "execution_count": 6,
   "metadata": {
    "execution": {
     "iopub.execute_input": "2024-08-21T11:25:22.939691Z",
     "iopub.status.busy": "2024-08-21T11:25:22.939273Z",
     "iopub.status.idle": "2024-08-21T11:25:22.956314Z",
     "shell.execute_reply": "2024-08-21T11:25:22.955772Z"
    },
    "id": "u0jCnXIcAQy4"
   },
   "outputs": [
    {
     "name": "stdout",
     "output_type": "stream",
     "text": [
      "Part of train seeds for link prediction: [[712 784]\n",
      " [718 903]\n",
      " [166 547]]\n",
      "LP train seeds are saved to ./ondisk_dataset_homograph/lp-train-seeds.npy\n",
      "\n",
      "Part of val seeds for link prediction: [[681  63]\n",
      " [620 576]\n",
      " [749  25]]\n",
      "LP val seeds are saved to ./ondisk_dataset_homograph/lp-val-seeds.npy\n",
      "\n",
      "Part of val labels for link prediction: [1. 1. 1.]\n",
      "LP val labels are saved to ./ondisk_dataset_homograph/lp-val-labels.npy\n",
      "\n",
      "Part of val indexes for link prediction: [0 1 2]\n",
      "LP val indexes are saved to ./ondisk_dataset_homograph/lp-val-indexes.npy\n",
      "\n",
      "Part of test seeds for link prediction: [[801 702]\n",
      " [743 817]\n",
      " [908 406]]\n",
      "LP test seeds are saved to ./ondisk_dataset_homograph/lp-test-seeds.npy\n",
      "\n",
      "Part of val labels for link prediction: [1. 1. 1.]\n",
      "LP test labels are saved to ./ondisk_dataset_homograph/lp-test-labels.npy\n",
      "\n",
      "Part of test indexes for link prediction: [0 1 2]\n",
      "LP test indexes are saved to ./ondisk_dataset_homograph/lp-test-indexes.npy\n",
      "\n"
     ]
    }
   ],
   "source": [
    "num_trains = int(num_edges * 0.6)\n",
    "num_vals = int(num_edges * 0.2)\n",
    "num_tests = num_edges - num_trains - num_vals\n",
    "\n",
    "lp_train_seeds_path = os.path.join(base_dir, \"lp-train-seeds.npy\")\n",
    "lp_train_seeds = edges[:num_trains, :]\n",
    "print(f\"Part of train seeds for link prediction: {lp_train_seeds[:3]}\")\n",
    "np.save(lp_train_seeds_path, lp_train_seeds)\n",
    "print(f\"LP train seeds are saved to {lp_train_seeds_path}\\n\")\n",
    "\n",
    "lp_val_seeds_path = os.path.join(base_dir, \"lp-val-seeds.npy\")\n",
    "lp_val_seeds = edges[num_trains:num_trains+num_vals, :]\n",
    "lp_val_neg_dsts = np.random.randint(0, num_nodes, (num_vals, 10)).reshape(-1)\n",
    "lp_val_neg_srcs = np.repeat(lp_val_seeds[:,0], 10)\n",
    "lp_val_neg_seeds = np.concatenate((lp_val_neg_srcs, lp_val_neg_dsts)).reshape(2,-1).T\n",
    "lp_val_seeds = np.concatenate((lp_val_seeds, lp_val_neg_seeds))\n",
    "print(f\"Part of val seeds for link prediction: {lp_val_seeds[:3]}\")\n",
    "np.save(lp_val_seeds_path, lp_val_seeds)\n",
    "print(f\"LP val seeds are saved to {lp_val_seeds_path}\\n\")\n",
    "\n",
    "lp_val_labels_path = os.path.join(base_dir, \"lp-val-labels.npy\")\n",
    "lp_val_labels = np.empty(num_vals * (10 + 1))\n",
    "lp_val_labels[:num_vals] = 1\n",
    "lp_val_labels[num_vals:] = 0\n",
    "print(f\"Part of val labels for link prediction: {lp_val_labels[:3]}\")\n",
    "np.save(lp_val_labels_path, lp_val_labels)\n",
    "print(f\"LP val labels are saved to {lp_val_labels_path}\\n\")\n",
    "\n",
    "lp_val_indexes_path = os.path.join(base_dir, \"lp-val-indexes.npy\")\n",
    "lp_val_indexes = np.arange(0, num_vals)\n",
    "lp_val_neg_indexes = np.repeat(lp_val_indexes, 10)\n",
    "lp_val_indexes = np.concatenate([lp_val_indexes, lp_val_neg_indexes])\n",
    "print(f\"Part of val indexes for link prediction: {lp_val_indexes[:3]}\")\n",
    "np.save(lp_val_indexes_path, lp_val_indexes)\n",
    "print(f\"LP val indexes are saved to {lp_val_indexes_path}\\n\")\n",
    "\n",
    "lp_test_seeds_path = os.path.join(base_dir, \"lp-test-seeds.npy\")\n",
    "lp_test_seeds = edges[-num_tests:, :]\n",
    "lp_test_neg_dsts = np.random.randint(0, num_nodes, (num_tests, 10)).reshape(-1)\n",
    "lp_test_neg_srcs = np.repeat(lp_test_seeds[:,0], 10)\n",
    "lp_test_neg_seeds = np.concatenate((lp_test_neg_srcs, lp_test_neg_dsts)).reshape(2,-1).T\n",
    "lp_test_seeds = np.concatenate((lp_test_seeds, lp_test_neg_seeds))\n",
    "print(f\"Part of test seeds for link prediction: {lp_test_seeds[:3]}\")\n",
    "np.save(lp_test_seeds_path, lp_test_seeds)\n",
    "print(f\"LP test seeds are saved to {lp_test_seeds_path}\\n\")\n",
    "\n",
    "lp_test_labels_path = os.path.join(base_dir, \"lp-test-labels.npy\")\n",
    "lp_test_labels = np.empty(num_tests * (10 + 1))\n",
    "lp_test_labels[:num_tests] = 1\n",
    "lp_test_labels[num_tests:] = 0\n",
    "print(f\"Part of val labels for link prediction: {lp_test_labels[:3]}\")\n",
    "np.save(lp_test_labels_path, lp_test_labels)\n",
    "print(f\"LP test labels are saved to {lp_test_labels_path}\\n\")\n",
    "\n",
    "lp_test_indexes_path = os.path.join(base_dir, \"lp-test-indexes.npy\")\n",
    "lp_test_indexes = np.arange(0, num_tests)\n",
    "lp_test_neg_indexes = np.repeat(lp_test_indexes, 10)\n",
    "lp_test_indexes = np.concatenate([lp_test_indexes, lp_test_neg_indexes])\n",
    "print(f\"Part of test indexes for link prediction: {lp_test_indexes[:3]}\")\n",
    "np.save(lp_test_indexes_path, lp_test_indexes)\n",
    "print(f\"LP test indexes are saved to {lp_test_indexes_path}\\n\")"
   ]
  },
  {
   "cell_type": "markdown",
   "metadata": {
    "id": "wbk6-wxRK-6S"
   },
   "source": [
    "## Organize Data into YAML File\n",
    "Now we need to create a `metadata.yaml` file which contains the paths, dadta types of graph structure, feature data, training/validation/test sets.\n",
    "\n",
    "Notes:\n",
    "- all path should be relative to `metadata.yaml`.\n",
    "- Below fields are optional and not specified in below example.\n",
    "  - `in_memory`: indicates whether to load dada into memory or `mmap`. Default is `True`.\n",
    "\n",
    "Please refer to [YAML specification](https://github.com/dmlc/dgl/blob/master/docs/source/stochastic_training/ondisk-dataset-specification.rst) for more details."
   ]
  },
  {
   "cell_type": "code",
   "execution_count": 7,
   "metadata": {
    "execution": {
     "iopub.execute_input": "2024-08-21T11:25:22.958889Z",
     "iopub.status.busy": "2024-08-21T11:25:22.958516Z",
     "iopub.status.idle": "2024-08-21T11:25:22.963848Z",
     "shell.execute_reply": "2024-08-21T11:25:22.963331Z"
    },
    "id": "ddGTWW61Lpwp"
   },
   "outputs": [],
   "source": [
    "yaml_content = f\"\"\"\n",
    "    dataset_name: homogeneous_graph_nc_lp\n",
    "    graph:\n",
    "      nodes:\n",
    "        - num: {num_nodes}\n",
    "      edges:\n",
    "        - format: csv\n",
    "          path: {os.path.basename(edges_path)}\n",
    "    feature_data:\n",
    "      - domain: node\n",
    "        name: feat_0\n",
    "        format: numpy\n",
    "        path: {os.path.basename(node_feat_0_path)}\n",
    "      - domain: node\n",
    "        name: feat_1\n",
    "        format: torch\n",
    "        path: {os.path.basename(node_feat_1_path)}\n",
    "      - domain: edge\n",
    "        name: feat_0\n",
    "        format: numpy\n",
    "        path: {os.path.basename(edge_feat_0_path)}\n",
    "      - domain: edge\n",
    "        name: feat_1\n",
    "        format: torch\n",
    "        path: {os.path.basename(edge_feat_1_path)}\n",
    "    tasks:\n",
    "      - name: node_classification\n",
    "        num_classes: 10\n",
    "        train_set:\n",
    "          - data:\n",
    "              - name: seeds\n",
    "                format: numpy\n",
    "                path: {os.path.basename(nc_train_ids_path)}\n",
    "              - name: labels\n",
    "                format: torch\n",
    "                path: {os.path.basename(nc_train_labels_path)}\n",
    "        validation_set:\n",
    "          - data:\n",
    "              - name: seeds\n",
    "                format: numpy\n",
    "                path: {os.path.basename(nc_val_ids_path)}\n",
    "              - name: labels\n",
    "                format: torch\n",
    "                path: {os.path.basename(nc_val_labels_path)}\n",
    "        test_set:\n",
    "          - data:\n",
    "              - name: seeds\n",
    "                format: numpy\n",
    "                path: {os.path.basename(nc_test_ids_path)}\n",
    "              - name: labels\n",
    "                format: torch\n",
    "                path: {os.path.basename(nc_test_labels_path)}\n",
    "      - name: link_prediction\n",
    "        num_classes: 10\n",
    "        train_set:\n",
    "          - data:\n",
    "              - name: seeds\n",
    "                format: numpy\n",
    "                path: {os.path.basename(lp_train_seeds_path)}\n",
    "        validation_set:\n",
    "          - data:\n",
    "              - name: seeds\n",
    "                format: numpy\n",
    "                path: {os.path.basename(lp_val_seeds_path)}\n",
    "              - name: labels\n",
    "                format: numpy\n",
    "                path: {os.path.basename(lp_val_labels_path)}\n",
    "              - name: indexes\n",
    "                format: numpy\n",
    "                path: {os.path.basename(lp_val_indexes_path)}\n",
    "        test_set:\n",
    "          - data:\n",
    "              - name: seeds\n",
    "                format: numpy\n",
    "                path: {os.path.basename(lp_test_seeds_path)}\n",
    "              - name: labels\n",
    "                format: numpy\n",
    "                path: {os.path.basename(lp_test_labels_path)}\n",
    "              - name: indexes\n",
    "                format: numpy\n",
    "                path: {os.path.basename(lp_test_indexes_path)}\n",
    "\"\"\"\n",
    "metadata_path = os.path.join(base_dir, \"metadata.yaml\")\n",
    "with open(metadata_path, \"w\") as f:\n",
    "  f.write(yaml_content)"
   ]
  },
  {
   "cell_type": "markdown",
   "metadata": {
    "id": "kEfybHGhOW7O"
   },
   "source": [
    "## Instantiate `OnDiskDataset`\n",
    "Now we're ready to load dataset via `dgl.graphbolt.OnDiskDataset`. When instantiating, we just pass in the base directory where `metadata.yaml` file lies.\n",
    "\n",
    "During first instantiation, GraphBolt preprocesses the raw data such as constructing `FusedCSCSamplingGraph` from edges. All data including graph, feature data, training/validation/test sets are put into `preprocessed` directory after preprocessing. Any following dataset loading will skip the preprocess stage.\n",
    "\n",
    "After preprocessing, `load()` is required to be called explicitly in order to load graph, feature data and tasks."
   ]
  },
  {
   "cell_type": "code",
   "execution_count": 8,
   "metadata": {
    "execution": {
     "iopub.execute_input": "2024-08-21T11:25:22.966181Z",
     "iopub.status.busy": "2024-08-21T11:25:22.965789Z",
     "iopub.status.idle": "2024-08-21T11:25:23.051362Z",
     "shell.execute_reply": "2024-08-21T11:25:23.050717Z"
    },
    "id": "W58CZoSzOiyo"
   },
   "outputs": [
    {
     "name": "stdout",
     "output_type": "stream",
     "text": [
      "The on-disk dataset is re-preprocessing, so the existing preprocessed dataset has been removed.\n",
      "Start to preprocess the on-disk dataset.\n",
      "Finish preprocessing the on-disk dataset.\n",
      "Loaded graph: FusedCSCSamplingGraph(csc_indptr=tensor([    0,     7,    17,  ...,  9969,  9988, 10000], dtype=torch.int32),\n",
      "                      indices=tensor([438, 507, 771,  ..., 112, 789, 688], dtype=torch.int32),\n",
      "                      total_num_nodes=1000, num_edges=10000,)\n",
      "\n",
      "Loaded feature store: TorchBasedFeatureStore(\n",
      "    {(<OnDiskFeatureDataDomain.NODE: 'node'>, None, 'feat_0'): TorchBasedFeature(\n",
      "        feature=tensor([[0.6549, 0.0169, 0.6386, 0.8282, 0.7800],\n",
      "                        [0.9664, 0.4627, 0.7283, 0.4490, 0.6038],\n",
      "                        [0.7642, 0.1883, 0.5793, 0.2778, 0.7351],\n",
      "                        ...,\n",
      "                        [0.5764, 0.4693, 0.5663, 0.4726, 0.6551],\n",
      "                        [0.5816, 0.3173, 0.9126, 0.8508, 0.5381],\n",
      "                        [0.9914, 0.2654, 0.1272, 0.0171, 0.5831]], dtype=torch.float64),\n",
      "        metadata={},\n",
      "    ), (<OnDiskFeatureDataDomain.NODE: 'node'>, None, 'feat_1'): TorchBasedFeature(\n",
      "        feature=tensor([[0.6203, 0.7799, 0.3508, 0.8096, 0.2191],\n",
      "                        [0.1763, 0.4767, 0.0671, 0.0414, 0.4125],\n",
      "                        [0.8940, 0.6805, 0.8679, 0.9223, 0.1792],\n",
      "                        ...,\n",
      "                        [0.0654, 0.4532, 0.3480, 0.5577, 0.0266],\n",
      "                        [0.4959, 0.9941, 0.0735, 0.7495, 0.0379],\n",
      "                        [0.0890, 0.5586, 0.4573, 0.1967, 0.2543]]),\n",
      "        metadata={},\n",
      "    ), (<OnDiskFeatureDataDomain.EDGE: 'edge'>, None, 'feat_0'): TorchBasedFeature(\n",
      "        feature=tensor([[0.2565, 0.3453, 0.5100, 0.2125, 0.8775],\n",
      "                        [0.0867, 0.0208, 0.2326, 0.8131, 0.2130],\n",
      "                        [0.8978, 0.5022, 0.3630, 0.7614, 0.2708],\n",
      "                        ...,\n",
      "                        [0.8727, 0.9967, 0.2316, 0.0236, 0.0507],\n",
      "                        [0.7880, 0.8225, 0.3121, 0.8293, 0.8835],\n",
      "                        [0.9928, 0.2738, 0.7141, 0.6163, 0.9921]], dtype=torch.float64),\n",
      "        metadata={},\n",
      "    ), (<OnDiskFeatureDataDomain.EDGE: 'edge'>, None, 'feat_1'): TorchBasedFeature(\n",
      "        feature=tensor([[0.1944, 0.4219, 0.3297, 0.8047, 0.5491],\n",
      "                        [0.6684, 0.1237, 0.8825, 0.1125, 0.2040],\n",
      "                        [0.0905, 0.1682, 0.9868, 0.0641, 0.0210],\n",
      "                        ...,\n",
      "                        [0.7168, 0.4648, 0.4389, 0.5146, 0.5440],\n",
      "                        [0.2792, 0.5988, 0.5974, 0.0150, 0.9999],\n",
      "                        [0.5144, 0.8787, 0.1510, 0.2520, 0.6254]]),\n",
      "        metadata={},\n",
      "    )}\n",
      ")\n",
      "\n",
      "Loaded node classification task: OnDiskTask(validation_set=ItemSet(\n",
      "               items=(tensor([850, 192, 918, 611, 251, 267, 554, 831, 738, 914, 749,  36,  63, 842,\n",
      "                   679, 826, 301, 459,  20, 275, 943, 888, 746, 166, 874,   9, 127, 961,\n",
      "                   187, 629, 855, 248, 686, 498, 443, 287,  90, 766, 133, 634, 126, 368,\n",
      "                   929, 493, 815, 723, 884, 239, 981, 762, 174, 373, 667,  64, 703, 439,\n",
      "                   429,  87, 511, 387, 950,  40, 638, 995, 778, 941, 238, 585, 570, 945,\n",
      "                   454, 531, 744, 237, 452, 121, 315, 886, 770, 299, 310, 694, 680, 375,\n",
      "                   521, 297, 386,  51, 151, 451, 168, 488, 215, 712,  96, 510, 246, 748,\n",
      "                   435, 731,  19, 709, 927,  78, 352, 462, 466, 699, 909, 490, 337, 264,\n",
      "                   424, 953, 999, 347,  27, 860, 256, 112, 393, 649, 707, 404,  53, 131,\n",
      "                   724, 720, 321, 589, 565, 308, 780, 279,   8, 142, 916, 940, 867,  50,\n",
      "                    83,  14, 775, 229, 268, 563, 495, 864,  81, 227, 155, 106, 202,  26,\n",
      "                    93, 438, 165, 431, 478, 906,  76, 331, 234, 209, 811, 798, 520, 728,\n",
      "                   607, 822, 574, 812, 790, 772, 653, 318, 614, 384, 455, 910,  52, 753,\n",
      "                   380, 502, 161, 444, 715, 196, 377, 280, 676, 159,  38, 932, 480, 226,\n",
      "                   309, 326, 205, 189], dtype=torch.int32), tensor([1, 6, 7, 7, 3, 3, 6, 8, 0, 4, 3, 4, 6, 1, 6, 3, 9, 0, 7, 2, 8, 8, 9, 1,\n",
      "                   5, 8, 3, 4, 5, 0, 9, 1, 0, 9, 3, 8, 0, 6, 0, 8, 3, 8, 0, 2, 7, 6, 5, 5,\n",
      "                   5, 7, 2, 0, 0, 4, 8, 4, 3, 8, 4, 9, 3, 2, 8, 2, 8, 1, 7, 0, 9, 5, 6, 1,\n",
      "                   9, 6, 4, 6, 4, 1, 2, 9, 3, 8, 2, 2, 9, 4, 8, 9, 7, 9, 3, 8, 5, 6, 0, 9,\n",
      "                   6, 1, 0, 1, 6, 0, 5, 6, 4, 4, 5, 9, 2, 7, 2, 1, 3, 4, 0, 6, 6, 4, 1, 9,\n",
      "                   4, 2, 6, 0, 8, 8, 7, 5, 7, 2, 5, 4, 4, 3, 5, 1, 1, 6, 6, 4, 1, 7, 0, 8,\n",
      "                   6, 4, 7, 4, 1, 1, 2, 9, 0, 0, 5, 2, 0, 0, 0, 1, 0, 6, 6, 9, 3, 0, 3, 1,\n",
      "                   6, 7, 8, 0, 3, 5, 0, 4, 9, 4, 0, 5, 5, 4, 6, 3, 1, 2, 7, 4, 7, 2, 4, 3,\n",
      "                   2, 5, 3, 4, 1, 1, 2, 8])),\n",
      "               names=('seeds', 'labels'),\n",
      "           ),\n",
      "           train_set=ItemSet(\n",
      "               items=(tensor([ 43, 543, 163, 854, 895, 982, 391,   2, 878,  49, 726, 216, 422, 978,\n",
      "                   646, 545, 623, 474, 185, 469,   7,  13, 465, 499,  75, 677,  55, 964,\n",
      "                   471, 418, 228, 183, 527,  22, 706, 829, 689, 489, 153, 946, 586, 312,\n",
      "                   949, 837, 710, 359, 529, 786, 975, 496, 650, 514, 552,  21, 610,  10,\n",
      "                   260, 573, 416, 603, 599, 198,  86, 137, 991, 284, 903,  45, 282, 845,\n",
      "                   572, 420, 957, 804, 698, 395, 204, 365, 919, 877,  73, 322, 904, 254,\n",
      "                   103, 704, 360, 660, 558, 930, 745, 182, 604, 107, 553,  67, 296, 160,\n",
      "                   221, 760, 897, 613, 576, 361, 236, 899, 705, 277,  65, 288, 955, 901,\n",
      "                   445, 108, 102, 956, 291, 270, 883, 598, 477, 259, 345, 212, 317, 528,\n",
      "                   307, 925, 973, 140, 849, 349, 819, 413, 390, 783,  95, 522, 958, 402,\n",
      "                   725, 557, 807, 986, 544, 550, 933, 290, 111, 372, 664, 218, 129, 732,\n",
      "                   430, 201, 979, 881, 761,  92, 334, 917, 939, 158, 323, 548, 810, 564,\n",
      "                   866, 627, 990, 908, 771, 839, 487, 505, 450, 164, 542, 885, 872, 846,\n",
      "                   942, 278, 401, 409, 358, 143, 784, 483, 250, 177, 427,  60, 708, 848,\n",
      "                   460, 844, 100, 737, 972, 902, 383, 750, 952,  91, 583, 966, 948, 670,\n",
      "                   734, 432, 271, 453, 960,  62, 171, 830, 224, 146, 666,  68, 890, 985,\n",
      "                   233, 124, 113, 633, 184, 905, 283, 907, 400, 887,   3, 335, 532, 652,\n",
      "                   197, 314, 566, 983, 834, 743, 194, 674, 794, 681, 852, 220, 214, 150,\n",
      "                   200, 662, 642, 894, 825, 936, 696, 944,  34, 396, 255, 379, 206, 222,\n",
      "                   779, 747, 272, 530, 858, 575, 109, 128,  58, 580, 740, 397, 678,  31,\n",
      "                   364, 736, 274, 926, 362, 276,  57,  54, 643, 464, 693, 367, 388, 341,\n",
      "                   437, 631, 203, 353, 668, 735, 787, 717, 608, 118, 622, 325, 788, 119,\n",
      "                    80, 630, 162, 525, 767, 363,  99, 253, 935,  44, 479, 176, 371,  47,\n",
      "                   593,  25, 535, 838, 152, 148, 188, 671, 376,  15, 571, 330, 994, 436,\n",
      "                   385,  23, 568, 871, 809, 965, 757, 755, 533, 343, 868, 688, 132, 213,\n",
      "                   355, 898, 851, 293, 692, 648, 873, 690, 261, 354, 962, 425, 120, 823,\n",
      "                   242, 600, 101, 756, 987, 644, 687, 230, 114, 476, 538, 351,  70, 265,\n",
      "                   672, 110, 534, 803, 859, 605, 507, 406, 912, 658, 802, 685, 683, 300,\n",
      "                   486, 655, 320, 758,  29, 727, 167, 876, 457, 472, 853,  71, 928, 157,\n",
      "                   273,  97, 319, 797, 468, 516, 628, 526, 922,  42, 503,  69,   4, 891,\n",
      "                   832, 258, 294, 824, 389,  16, 195,  89, 923, 799, 754, 467, 497, 231,\n",
      "                   602, 632, 833, 913, 620, 938, 398, 447, 285, 421, 281, 892, 785,  56,\n",
      "                   262, 711, 769, 423, 562, 651, 647, 181, 519, 601, 403, 549, 971, 180,\n",
      "                   596, 241, 827, 410, 673, 414, 976, 366, 764, 302, 625, 407, 581, 338,\n",
      "                   588, 485, 619, 870, 695, 154, 857, 974, 441, 900, 560, 862, 369,  17,\n",
      "                     1, 661, 506, 569, 781,  66, 175,  72,  32, 518, 882, 984, 305, 324,\n",
      "                   739, 820, 697, 795, 641, 752, 618, 156, 742, 814, 792, 257, 286, 217,\n",
      "                   556, 481, 861, 639, 484, 411, 304, 791, 701, 295, 244, 751, 125, 508,\n",
      "                   659, 774, 977, 513, 615,  79, 889, 656,  85, 134, 170, 879, 446,  37,\n",
      "                   841, 551, 138, 645, 298, 817, 123, 412, 269, 587, 346, 635, 729, 374,\n",
      "                   875, 806, 225, 199, 559, 893, 818, 880, 357,  11, 117, 967, 475, 675,\n",
      "                   350, 342, 579,   0, 776, 856, 339,  39, 721, 448,  77, 149, 461, 456,\n",
      "                   733, 252, 144, 245, 612, 292, 993, 340, 232, 920, 207, 190],\n",
      "                  dtype=torch.int32), tensor([1, 9, 6, 4, 4, 7, 7, 8, 6, 8, 2, 5, 2, 3, 4, 2, 2, 1, 5, 4, 9, 1, 3, 7,\n",
      "                   3, 6, 4, 1, 9, 6, 6, 8, 1, 5, 1, 7, 7, 3, 7, 1, 8, 6, 3, 5, 6, 3, 6, 5,\n",
      "                   0, 5, 4, 2, 1, 7, 3, 2, 8, 8, 7, 6, 2, 9, 1, 7, 9, 8, 3, 8, 3, 8, 6, 9,\n",
      "                   8, 3, 1, 5, 1, 0, 7, 5, 6, 3, 0, 2, 1, 7, 1, 7, 0, 1, 3, 2, 2, 9, 3, 9,\n",
      "                   0, 0, 4, 4, 9, 0, 2, 8, 5, 0, 5, 6, 5, 4, 1, 8, 1, 4, 0, 5, 3, 8, 2, 9,\n",
      "                   0, 2, 5, 5, 2, 4, 8, 3, 3, 1, 6, 7, 8, 6, 1, 7, 9, 9, 0, 2, 2, 7, 4, 9,\n",
      "                   2, 1, 5, 6, 9, 9, 2, 6, 6, 5, 7, 0, 8, 3, 7, 3, 3, 2, 0, 5, 9, 0, 9, 8,\n",
      "                   7, 4, 7, 9, 9, 7, 6, 7, 7, 3, 1, 9, 5, 2, 7, 3, 3, 2, 9, 9, 0, 2, 6, 8,\n",
      "                   5, 3, 6, 8, 3, 5, 9, 9, 8, 0, 9, 2, 2, 4, 6, 4, 3, 5, 6, 0, 7, 8, 9, 9,\n",
      "                   9, 5, 2, 1, 9, 9, 5, 9, 5, 6, 0, 0, 3, 1, 5, 8, 3, 9, 6, 5, 7, 4, 3, 4,\n",
      "                   8, 1, 5, 7, 2, 4, 4, 8, 9, 3, 9, 0, 1, 9, 2, 8, 7, 9, 9, 3, 3, 2, 6, 0,\n",
      "                   8, 7, 8, 3, 3, 9, 3, 1, 1, 1, 1, 9, 0, 6, 5, 5, 3, 0, 6, 8, 0, 7, 1, 0,\n",
      "                   7, 0, 6, 6, 7, 7, 7, 1, 0, 3, 4, 6, 4, 1, 7, 1, 0, 1, 7, 4, 6, 0, 0, 5,\n",
      "                   9, 2, 0, 5, 4, 3, 4, 0, 0, 6, 6, 2, 0, 8, 0, 1, 3, 6, 6, 4, 2, 6, 0, 0,\n",
      "                   7, 4, 0, 2, 8, 1, 8, 7, 1, 3, 2, 8, 1, 8, 3, 1, 9, 2, 9, 0, 7, 3, 0, 4,\n",
      "                   1, 6, 1, 0, 9, 2, 4, 5, 6, 8, 8, 7, 4, 8, 6, 7, 2, 5, 5, 3, 8, 3, 4, 0,\n",
      "                   1, 5, 7, 3, 7, 7, 9, 3, 7, 5, 3, 3, 2, 6, 1, 2, 7, 8, 4, 2, 7, 8, 8, 6,\n",
      "                   8, 6, 8, 1, 0, 4, 3, 2, 5, 3, 6, 7, 7, 3, 8, 8, 6, 6, 3, 6, 5, 7, 6, 1,\n",
      "                   9, 9, 8, 8, 9, 8, 4, 4, 6, 3, 1, 3, 1, 6, 4, 5, 2, 2, 0, 2, 8, 7, 3, 9,\n",
      "                   2, 6, 0, 8, 9, 9, 9, 0, 5, 8, 8, 0, 5, 0, 7, 4, 5, 2, 0, 9, 0, 8, 2, 9,\n",
      "                   6, 3, 1, 6, 9, 4, 5, 3, 8, 2, 8, 4, 8, 7, 6, 1, 3, 4, 4, 9, 8, 8, 0, 8,\n",
      "                   2, 2, 7, 8, 2, 2, 3, 8, 8, 6, 7, 4, 9, 9, 5, 4, 2, 6, 7, 8, 2, 9, 2, 0,\n",
      "                   8, 8, 8, 2, 8, 3, 4, 3, 5, 6, 3, 4, 5, 1, 0, 9, 6, 4, 5, 6, 7, 4, 4, 3,\n",
      "                   9, 2, 7, 1, 1, 5, 9, 3, 2, 7, 0, 0, 8, 8, 3, 2, 3, 3, 9, 6, 2, 3, 8, 8,\n",
      "                   7, 0, 6, 2, 1, 3, 3, 9, 8, 7, 1, 0, 9, 6, 2, 7, 5, 4, 0, 1, 1, 0, 3, 4])),\n",
      "               names=('seeds', 'labels'),\n",
      "           ),\n",
      "           test_set=ItemSet(\n",
      "               items=(tensor([303, 415,  48, 517,  61, 617, 136, 263, 141, 863, 805, 911, 682, 344,\n",
      "                   139, 500, 621, 105, 591, 316, 328, 963, 473, 959, 306, 741, 836, 470,\n",
      "                   998, 240, 243, 211, 567, 501, 578, 590, 336, 782, 800, 208,  41, 116,\n",
      "                   555, 247, 370, 539,  94, 719, 730, 449, 816, 491, 793, 713,  88, 865,\n",
      "                   637, 178, 145, 813, 408, 381, 266, 219, 434, 356, 512, 458, 249, 777,\n",
      "                   970, 547, 327, 130, 504, 541,  82, 808, 378, 937, 419, 663, 796, 179,\n",
      "                    46, 394, 561, 624, 869, 382, 947, 595, 988, 954, 147, 594, 442, 433,\n",
      "                   969, 669, 989, 980, 840, 821, 702, 399, 463, 616, 536, 773, 537, 992,\n",
      "                   915, 405, 759, 896, 714,   6,  30, 546, 921, 996, 115, 606, 313, 417,\n",
      "                   718, 426, 654, 763,  12,  28,  18, 657,  74, 968, 540, 835, 515, 691,\n",
      "                   173, 191, 765, 235, 951, 210, 494, 440, 828, 636, 482, 997, 924, 592,\n",
      "                   311, 104, 582, 348, 392, 843, 597, 172, 289, 135, 716, 186, 722, 626,\n",
      "                   700, 524,  35, 684, 223,  59, 847, 333, 768, 122,  84, 193, 640, 329,\n",
      "                   509,  33,  98,   5, 523, 934, 801, 665, 789, 584, 492,  24, 428, 609,\n",
      "                   332, 931, 169, 577], dtype=torch.int32), tensor([2, 1, 7, 7, 6, 2, 4, 8, 8, 9, 3, 1, 1, 7, 3, 0, 1, 6, 1, 6, 1, 0, 1, 4,\n",
      "                   6, 5, 7, 0, 3, 6, 0, 5, 0, 1, 8, 2, 6, 4, 6, 8, 4, 4, 9, 1, 2, 8, 2, 9,\n",
      "                   7, 6, 4, 9, 1, 0, 7, 7, 6, 8, 5, 3, 7, 6, 5, 5, 6, 3, 7, 4, 5, 9, 9, 0,\n",
      "                   8, 8, 4, 1, 1, 8, 2, 7, 9, 2, 9, 0, 0, 5, 7, 1, 5, 4, 5, 8, 3, 0, 4, 9,\n",
      "                   0, 0, 1, 2, 3, 8, 6, 3, 3, 0, 5, 0, 6, 3, 0, 3, 9, 4, 3, 7, 9, 5, 0, 8,\n",
      "                   5, 9, 6, 8, 3, 0, 7, 8, 5, 9, 4, 4, 0, 1, 4, 7, 2, 2, 5, 4, 5, 8, 5, 5,\n",
      "                   0, 7, 9, 1, 3, 0, 0, 8, 0, 6, 2, 1, 0, 9, 2, 9, 2, 2, 7, 3, 3, 2, 7, 6,\n",
      "                   7, 6, 7, 4, 0, 9, 7, 3, 7, 3, 4, 8, 9, 1, 3, 0, 8, 5, 0, 5, 2, 9, 5, 5,\n",
      "                   4, 0, 6, 4, 9, 7, 8, 2])),\n",
      "               names=('seeds', 'labels'),\n",
      "           ),\n",
      "           metadata={'name': 'node_classification', 'num_classes': 10},)\n",
      "\n",
      "Loaded link prediction task: OnDiskTask(validation_set=ItemSet(\n",
      "               items=(tensor([[681,  63],\n",
      "                   [620, 576],\n",
      "                   [749,  25],\n",
      "                   ...,\n",
      "                   [ 67, 638],\n",
      "                   [ 67, 113],\n",
      "                   [ 67, 495]], dtype=torch.int32), tensor([1., 1., 1.,  ..., 0., 0., 0.], dtype=torch.float64), tensor([   0,    1,    2,  ..., 1999, 1999, 1999])),\n",
      "               names=('seeds', 'labels', 'indexes'),\n",
      "           ),\n",
      "           train_set=ItemSet(\n",
      "               items=(tensor([[712, 784],\n",
      "                   [718, 903],\n",
      "                   [166, 547],\n",
      "                   ...,\n",
      "                   [310, 288],\n",
      "                   [ 52,  25],\n",
      "                   [707, 530]], dtype=torch.int32),),\n",
      "               names=('seeds',),\n",
      "           ),\n",
      "           test_set=ItemSet(\n",
      "               items=(tensor([[801, 702],\n",
      "                   [743, 817],\n",
      "                   [908, 406],\n",
      "                   ...,\n",
      "                   [940, 718],\n",
      "                   [940, 149],\n",
      "                   [940, 947]], dtype=torch.int32), tensor([1., 1., 1.,  ..., 0., 0., 0.], dtype=torch.float64), tensor([   0,    1,    2,  ..., 1999, 1999, 1999])),\n",
      "               names=('seeds', 'labels', 'indexes'),\n",
      "           ),\n",
      "           metadata={'name': 'link_prediction', 'num_classes': 10},)\n",
      "\n"
     ]
    },
    {
     "name": "stderr",
     "output_type": "stream",
     "text": [
      "/home/ubuntu/regression_test/dgl/python/dgl/graphbolt/impl/ondisk_dataset.py:460: DGLWarning: Edge feature is stored, but edge IDs are not saved.\n",
      "  dgl_warning(\"Edge feature is stored, but edge IDs are not saved.\")\n"
     ]
    }
   ],
   "source": [
    "dataset = gb.OnDiskDataset(base_dir).load()\n",
    "graph = dataset.graph\n",
    "print(f\"Loaded graph: {graph}\\n\")\n",
    "\n",
    "feature = dataset.feature\n",
    "print(f\"Loaded feature store: {feature}\\n\")\n",
    "\n",
    "tasks = dataset.tasks\n",
    "nc_task = tasks[0]\n",
    "print(f\"Loaded node classification task: {nc_task}\\n\")\n",
    "lp_task = tasks[1]\n",
    "print(f\"Loaded link prediction task: {lp_task}\\n\")"
   ]
  }
 ],
 "metadata": {
  "colab": {
   "private_outputs": true,
   "provenance": []
  },
  "kernelspec": {
   "display_name": "Python 3",
   "name": "python3"
  },
  "language_info": {
   "codemirror_mode": {
    "name": "ipython",
    "version": 3
   },
   "file_extension": ".py",
   "mimetype": "text/x-python",
   "name": "python",
   "nbconvert_exporter": "python",
   "pygments_lexer": "ipython3",
   "version": "3.10.14"
  }
 },
 "nbformat": 4,
 "nbformat_minor": 0
}

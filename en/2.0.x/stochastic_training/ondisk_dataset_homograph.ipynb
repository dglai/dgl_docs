{
 "cells": [
  {
   "cell_type": "markdown",
   "metadata": {
    "id": "FnFhPMaAfLtJ"
   },
   "source": [
    "# OnDiskDataset for Homogeneous Graph\n",
    "\n",
    "[![Open In Colab](https://colab.research.google.com/assets/colab-badge.svg)](https://colab.research.google.com/github/dmlc/dgl/blob/master/notebooks/stochastic_training/ondisk_dataset_homograph.ipynb) [![GitHub](https://img.shields.io/badge/-View%20on%20GitHub-181717?logo=github&logoColor=ffffff)](https://github.com/dmlc/dgl/blob/master/notebooks/stochastic_training/ondisk_dataset_homograph.ipynb)\n",
    "\n",
    "This tutorial shows how to create `OnDiskDataset` for homogeneous graph that could be used in **GraphBolt** framework.\n",
    "\n",
    "By the end of this tutorial, you will be able to\n",
    "\n",
    "- organize graph structure data.\n",
    "- organize feature data.\n",
    "- organize training/validation/test set for specific tasks.\n",
    "\n",
    "To create an ``OnDiskDataset`` object, you need to organize all the data including graph structure, feature data and tasks into a directory. The directory should contain a ``metadata.yaml`` file that describes the metadata of the dataset.\n",
    "\n",
    "Now let's generate various data step by step and organize them together to instantiate `OnDiskDataset` finally."
   ]
  },
  {
   "cell_type": "markdown",
   "metadata": {
    "id": "Wlb19DtWgtzq"
   },
   "source": [
    "## Install DGL package"
   ]
  },
  {
   "cell_type": "code",
   "execution_count": 1,
   "metadata": {
    "execution": {
     "iopub.execute_input": "2024-09-02T05:13:25.463481Z",
     "iopub.status.busy": "2024-09-02T05:13:25.463176Z",
     "iopub.status.idle": "2024-09-02T05:13:29.177848Z",
     "shell.execute_reply": "2024-09-02T05:13:29.177237Z"
    },
    "id": "UojlT9ZGgyr9"
   },
   "outputs": [
    {
     "name": "stdout",
     "output_type": "stream",
     "text": [
      "Looking in links: https://data.dgl.ai/wheels-test/repo.html\r\n",
      "Requirement already satisfied: dgl in /opt/conda/envs/dgl-dev-cpu/lib/python3.10/site-packages (2.2a240410)\r\n",
      "Requirement already satisfied: numpy>=1.14.0 in /opt/conda/envs/dgl-dev-cpu/lib/python3.10/site-packages (from dgl) (1.26.4)\r\n",
      "Requirement already satisfied: scipy>=1.1.0 in /opt/conda/envs/dgl-dev-cpu/lib/python3.10/site-packages (from dgl) (1.14.0)\r\n",
      "Requirement already satisfied: networkx>=2.1 in /opt/conda/envs/dgl-dev-cpu/lib/python3.10/site-packages (from dgl) (3.3)\r\n",
      "Requirement already satisfied: requests>=2.19.0 in /opt/conda/envs/dgl-dev-cpu/lib/python3.10/site-packages (from dgl) (2.32.3)\r\n",
      "Requirement already satisfied: tqdm in /opt/conda/envs/dgl-dev-cpu/lib/python3.10/site-packages (from dgl) (4.66.5)\r\n",
      "Requirement already satisfied: psutil>=5.8.0 in /opt/conda/envs/dgl-dev-cpu/lib/python3.10/site-packages (from dgl) (6.0.0)\r\n",
      "Requirement already satisfied: torchdata>=0.5.0 in /opt/conda/envs/dgl-dev-cpu/lib/python3.10/site-packages (from dgl) (0.7.1)\r\n",
      "Requirement already satisfied: pandas in /opt/conda/envs/dgl-dev-cpu/lib/python3.10/site-packages (from dgl) (2.2.2)\r\n"
     ]
    },
    {
     "name": "stdout",
     "output_type": "stream",
     "text": [
      "Requirement already satisfied: charset-normalizer<4,>=2 in /opt/conda/envs/dgl-dev-cpu/lib/python3.10/site-packages (from requests>=2.19.0->dgl) (3.3.2)\r\n",
      "Requirement already satisfied: idna<4,>=2.5 in /opt/conda/envs/dgl-dev-cpu/lib/python3.10/site-packages (from requests>=2.19.0->dgl) (3.8)\r\n",
      "Requirement already satisfied: urllib3<3,>=1.21.1 in /opt/conda/envs/dgl-dev-cpu/lib/python3.10/site-packages (from requests>=2.19.0->dgl) (2.2.2)\r\n",
      "Requirement already satisfied: certifi>=2017.4.17 in /opt/conda/envs/dgl-dev-cpu/lib/python3.10/site-packages (from requests>=2.19.0->dgl) (2024.7.4)\r\n",
      "Requirement already satisfied: torch>=2 in /opt/conda/envs/dgl-dev-cpu/lib/python3.10/site-packages (from torchdata>=0.5.0->dgl) (2.4.0+cpu)\r\n"
     ]
    },
    {
     "name": "stdout",
     "output_type": "stream",
     "text": [
      "Requirement already satisfied: python-dateutil>=2.8.2 in /opt/conda/envs/dgl-dev-cpu/lib/python3.10/site-packages (from pandas->dgl) (2.9.0.post0)\r\n",
      "Requirement already satisfied: pytz>=2020.1 in /opt/conda/envs/dgl-dev-cpu/lib/python3.10/site-packages (from pandas->dgl) (2024.1)\r\n",
      "Requirement already satisfied: tzdata>=2022.7 in /opt/conda/envs/dgl-dev-cpu/lib/python3.10/site-packages (from pandas->dgl) (2024.1)\r\n",
      "Requirement already satisfied: six>=1.5 in /opt/conda/envs/dgl-dev-cpu/lib/python3.10/site-packages (from python-dateutil>=2.8.2->pandas->dgl) (1.16.0)\r\n",
      "Requirement already satisfied: filelock in /opt/conda/envs/dgl-dev-cpu/lib/python3.10/site-packages (from torch>=2->torchdata>=0.5.0->dgl) (3.15.4)\r\n",
      "Requirement already satisfied: typing-extensions>=4.8.0 in /opt/conda/envs/dgl-dev-cpu/lib/python3.10/site-packages (from torch>=2->torchdata>=0.5.0->dgl) (4.12.2)\r\n",
      "Requirement already satisfied: sympy in /opt/conda/envs/dgl-dev-cpu/lib/python3.10/site-packages (from torch>=2->torchdata>=0.5.0->dgl) (1.13.2)\r\n",
      "Requirement already satisfied: jinja2 in /opt/conda/envs/dgl-dev-cpu/lib/python3.10/site-packages (from torch>=2->torchdata>=0.5.0->dgl) (3.1.4)\r\n",
      "Requirement already satisfied: fsspec in /opt/conda/envs/dgl-dev-cpu/lib/python3.10/site-packages (from torch>=2->torchdata>=0.5.0->dgl) (2024.6.1)\r\n"
     ]
    },
    {
     "name": "stdout",
     "output_type": "stream",
     "text": [
      "Requirement already satisfied: MarkupSafe>=2.0 in /opt/conda/envs/dgl-dev-cpu/lib/python3.10/site-packages (from jinja2->torch>=2->torchdata>=0.5.0->dgl) (2.1.5)\r\n",
      "Requirement already satisfied: mpmath<1.4,>=1.1.0 in /opt/conda/envs/dgl-dev-cpu/lib/python3.10/site-packages (from sympy->torch>=2->torchdata>=0.5.0->dgl) (1.3.0)\r\n"
     ]
    },
    {
     "name": "stdout",
     "output_type": "stream",
     "text": [
      "DGL installed!\n"
     ]
    }
   ],
   "source": [
    "# Install required packages.\n",
    "import os\n",
    "import torch\n",
    "import numpy as np\n",
    "os.environ['TORCH'] = torch.__version__\n",
    "os.environ['DGLBACKEND'] = \"pytorch\"\n",
    "\n",
    "# Install the CPU version.\n",
    "device = torch.device(\"cpu\")\n",
    "!pip install --pre dgl -f https://data.dgl.ai/wheels-test/repo.html\n",
    "\n",
    "try:\n",
    "    import dgl\n",
    "    import dgl.graphbolt as gb\n",
    "    installed = True\n",
    "except ImportError as error:\n",
    "    installed = False\n",
    "    print(error)\n",
    "print(\"DGL installed!\" if installed else \"DGL not found!\")"
   ]
  },
  {
   "cell_type": "markdown",
   "metadata": {
    "id": "2R7WnSbjsfbr"
   },
   "source": [
    "## Data preparation\n",
    "In order to demonstrate how to organize various data, let's create a base directory first."
   ]
  },
  {
   "cell_type": "code",
   "execution_count": 2,
   "metadata": {
    "execution": {
     "iopub.execute_input": "2024-09-02T05:13:29.180570Z",
     "iopub.status.busy": "2024-09-02T05:13:29.180151Z",
     "iopub.status.idle": "2024-09-02T05:13:29.183642Z",
     "shell.execute_reply": "2024-09-02T05:13:29.183147Z"
    },
    "id": "SZipbzyltLfO"
   },
   "outputs": [
    {
     "name": "stdout",
     "output_type": "stream",
     "text": [
      "Created base directory: ./ondisk_dataset_homograph\n"
     ]
    }
   ],
   "source": [
    "base_dir = './ondisk_dataset_homograph'\n",
    "os.makedirs(base_dir, exist_ok=True)\n",
    "print(f\"Created base directory: {base_dir}\")"
   ]
  },
  {
   "cell_type": "markdown",
   "metadata": {
    "id": "qhNtIn_xhlnl"
   },
   "source": [
    "### Generate graph structure data\n",
    "For homogeneous graph, we just need to save edges(namely node pairs) into **CSV** file.\n",
    "\n",
    "Note:\n",
    "when saving to file, do not save index and header.\n"
   ]
  },
  {
   "cell_type": "code",
   "execution_count": 3,
   "metadata": {
    "execution": {
     "iopub.execute_input": "2024-09-02T05:13:29.185955Z",
     "iopub.status.busy": "2024-09-02T05:13:29.185573Z",
     "iopub.status.idle": "2024-09-02T05:13:29.197098Z",
     "shell.execute_reply": "2024-09-02T05:13:29.196609Z"
    },
    "id": "HcBt4G5BmSjr"
   },
   "outputs": [
    {
     "name": "stdout",
     "output_type": "stream",
     "text": [
      "Part of edges: [[ 27 711]\n",
      " [689 643]\n",
      " [293 721]\n",
      " [720 221]\n",
      " [159 512]]\n",
      "Edges are saved into ./ondisk_dataset_homograph/edges.csv\n"
     ]
    }
   ],
   "source": [
    "import numpy as np\n",
    "import pandas as pd\n",
    "num_nodes = 1000\n",
    "num_edges = 10 * num_nodes\n",
    "edges_path = os.path.join(base_dir, \"edges.csv\")\n",
    "edges = np.random.randint(0, num_nodes, size=(num_edges, 2))\n",
    "\n",
    "print(f\"Part of edges: {edges[:5, :]}\")\n",
    "\n",
    "df = pd.DataFrame(edges)\n",
    "df.to_csv(edges_path, index=False, header=False)\n",
    "\n",
    "print(f\"Edges are saved into {edges_path}\")"
   ]
  },
  {
   "cell_type": "markdown",
   "metadata": {
    "id": "kh-4cPtzpcaH"
   },
   "source": [
    "### Generate feature data for graph\n",
    "For feature data, numpy arrays and torch tensors are supported for now."
   ]
  },
  {
   "cell_type": "code",
   "execution_count": 4,
   "metadata": {
    "execution": {
     "iopub.execute_input": "2024-09-02T05:13:29.199300Z",
     "iopub.status.busy": "2024-09-02T05:13:29.198993Z",
     "iopub.status.idle": "2024-09-02T05:13:29.210536Z",
     "shell.execute_reply": "2024-09-02T05:13:29.210043Z"
    },
    "id": "_PVu1u5brBhF"
   },
   "outputs": [
    {
     "name": "stdout",
     "output_type": "stream",
     "text": [
      "Part of node feature [feat_0]: [[0.78391057 0.99313517 0.94253218 0.65747572 0.32205784]\n",
      " [0.82995271 0.34758994 0.66028845 0.962946   0.94185169]\n",
      " [0.89330941 0.1718136  0.77892587 0.37694492 0.87266957]]\n",
      "Node feature [feat_0] is saved to ./ondisk_dataset_homograph/node-feat-0.npy\n",
      "\n",
      "Part of node feature [feat_1]: tensor([[0.7537, 0.0151, 0.9079, 0.4462, 0.5872],\n",
      "        [0.5825, 0.6000, 0.5653, 0.7259, 0.9013],\n",
      "        [0.9564, 0.8759, 0.2250, 0.1723, 0.0553]])\n",
      "Node feature [feat_1] is saved to ./ondisk_dataset_homograph/node-feat-1.pt\n",
      "\n",
      "Part of edge feature [feat_0]: [[0.54387413 0.56766815 0.17544605 0.98996827 0.95780215]\n",
      " [0.82858033 0.95239423 0.56605916 0.11039775 0.7420581 ]\n",
      " [0.5061122  0.4673468  0.87940127 0.41373803 0.09584495]]\n",
      "Edge feature [feat_0] is saved to ./ondisk_dataset_homograph/edge-feat-0.npy\n",
      "\n",
      "Part of edge feature [feat_1]: tensor([[0.4271, 0.4251, 0.2780, 0.3244, 0.2257],\n",
      "        [0.5185, 0.9236, 0.1798, 0.4705, 0.1761],\n",
      "        [0.2979, 0.8378, 0.0588, 0.0789, 0.4804]])\n",
      "Edge feature [feat_1] is saved to ./ondisk_dataset_homograph/edge-feat-1.pt\n",
      "\n"
     ]
    }
   ],
   "source": [
    "# Generate node feature in numpy array.\n",
    "node_feat_0_path = os.path.join(base_dir, \"node-feat-0.npy\")\n",
    "node_feat_0 = np.random.rand(num_nodes, 5)\n",
    "print(f\"Part of node feature [feat_0]: {node_feat_0[:3, :]}\")\n",
    "np.save(node_feat_0_path, node_feat_0)\n",
    "print(f\"Node feature [feat_0] is saved to {node_feat_0_path}\\n\")\n",
    "\n",
    "# Generate another node feature in torch tensor\n",
    "node_feat_1_path = os.path.join(base_dir, \"node-feat-1.pt\")\n",
    "node_feat_1 = torch.rand(num_nodes, 5)\n",
    "print(f\"Part of node feature [feat_1]: {node_feat_1[:3, :]}\")\n",
    "torch.save(node_feat_1, node_feat_1_path)\n",
    "print(f\"Node feature [feat_1] is saved to {node_feat_1_path}\\n\")\n",
    "\n",
    "# Generate edge feature in numpy array.\n",
    "edge_feat_0_path = os.path.join(base_dir, \"edge-feat-0.npy\")\n",
    "edge_feat_0 = np.random.rand(num_edges, 5)\n",
    "print(f\"Part of edge feature [feat_0]: {edge_feat_0[:3, :]}\")\n",
    "np.save(edge_feat_0_path, edge_feat_0)\n",
    "print(f\"Edge feature [feat_0] is saved to {edge_feat_0_path}\\n\")\n",
    "\n",
    "# Generate another edge feature in torch tensor\n",
    "edge_feat_1_path = os.path.join(base_dir, \"edge-feat-1.pt\")\n",
    "edge_feat_1 = torch.rand(num_edges, 5)\n",
    "print(f\"Part of edge feature [feat_1]: {edge_feat_1[:3, :]}\")\n",
    "torch.save(edge_feat_1, edge_feat_1_path)\n",
    "print(f\"Edge feature [feat_1] is saved to {edge_feat_1_path}\\n\")\n"
   ]
  },
  {
   "cell_type": "markdown",
   "metadata": {
    "id": "ZyqgOtsIwzh_"
   },
   "source": [
    "### Generate tasks\n",
    "`OnDiskDataset` supports multiple tasks. For each task, we need to prepare training/validation/test sets respectively. Such sets usually vary among different tasks. In this tutorial, let's create a **Node Classification** task and **Link Prediction** task."
   ]
  },
  {
   "cell_type": "markdown",
   "metadata": {
    "id": "hVxHaDIfzCkr"
   },
   "source": [
    "#### Node Classification Task\n",
    "For node classification task, we need **node IDs** and corresponding **labels** for each training/validation/test set. Like feature data, numpy arrays and torch tensors are supported for these sets."
   ]
  },
  {
   "cell_type": "code",
   "execution_count": 5,
   "metadata": {
    "execution": {
     "iopub.execute_input": "2024-09-02T05:13:29.212913Z",
     "iopub.status.busy": "2024-09-02T05:13:29.212516Z",
     "iopub.status.idle": "2024-09-02T05:13:29.222037Z",
     "shell.execute_reply": "2024-09-02T05:13:29.221543Z"
    },
    "id": "S5-fyBbHzTCO"
   },
   "outputs": [
    {
     "name": "stdout",
     "output_type": "stream",
     "text": [
      "Part of train ids for node classification: [276 492 365]\n",
      "NC train ids are saved to ./ondisk_dataset_homograph/nc-train-ids.npy\n",
      "\n",
      "Part of train labels for node classification: tensor([8, 8, 8])\n",
      "NC train labels are saved to ./ondisk_dataset_homograph/nc-train-labels.pt\n",
      "\n",
      "Part of val ids for node classification: [961 442 437]\n",
      "NC val ids are saved to ./ondisk_dataset_homograph/nc-val-ids.npy\n",
      "\n",
      "Part of val labels for node classification: tensor([5, 0, 4])\n",
      "NC val labels are saved to ./ondisk_dataset_homograph/nc-val-labels.pt\n",
      "\n",
      "Part of test ids for node classification: [250 175 328]\n",
      "NC test ids are saved to ./ondisk_dataset_homograph/nc-test-ids.npy\n",
      "\n",
      "Part of test labels for node classification: tensor([9, 4, 9])\n",
      "NC test labels are saved to ./ondisk_dataset_homograph/nc-test-labels.pt\n",
      "\n"
     ]
    }
   ],
   "source": [
    "num_trains = int(num_nodes * 0.6)\n",
    "num_vals = int(num_nodes * 0.2)\n",
    "num_tests = num_nodes - num_trains - num_vals\n",
    "\n",
    "ids = np.arange(num_nodes)\n",
    "np.random.shuffle(ids)\n",
    "\n",
    "nc_train_ids_path = os.path.join(base_dir, \"nc-train-ids.npy\")\n",
    "nc_train_ids = ids[:num_trains]\n",
    "print(f\"Part of train ids for node classification: {nc_train_ids[:3]}\")\n",
    "np.save(nc_train_ids_path, nc_train_ids)\n",
    "print(f\"NC train ids are saved to {nc_train_ids_path}\\n\")\n",
    "\n",
    "nc_train_labels_path = os.path.join(base_dir, \"nc-train-labels.pt\")\n",
    "nc_train_labels = torch.randint(0, 10, (num_trains,))\n",
    "print(f\"Part of train labels for node classification: {nc_train_labels[:3]}\")\n",
    "torch.save(nc_train_labels, nc_train_labels_path)\n",
    "print(f\"NC train labels are saved to {nc_train_labels_path}\\n\")\n",
    "\n",
    "nc_val_ids_path = os.path.join(base_dir, \"nc-val-ids.npy\")\n",
    "nc_val_ids = ids[num_trains:num_trains+num_vals]\n",
    "print(f\"Part of val ids for node classification: {nc_val_ids[:3]}\")\n",
    "np.save(nc_val_ids_path, nc_val_ids)\n",
    "print(f\"NC val ids are saved to {nc_val_ids_path}\\n\")\n",
    "\n",
    "nc_val_labels_path = os.path.join(base_dir, \"nc-val-labels.pt\")\n",
    "nc_val_labels = torch.randint(0, 10, (num_vals,))\n",
    "print(f\"Part of val labels for node classification: {nc_val_labels[:3]}\")\n",
    "torch.save(nc_val_labels, nc_val_labels_path)\n",
    "print(f\"NC val labels are saved to {nc_val_labels_path}\\n\")\n",
    "\n",
    "nc_test_ids_path = os.path.join(base_dir, \"nc-test-ids.npy\")\n",
    "nc_test_ids = ids[-num_tests:]\n",
    "print(f\"Part of test ids for node classification: {nc_test_ids[:3]}\")\n",
    "np.save(nc_test_ids_path, nc_test_ids)\n",
    "print(f\"NC test ids are saved to {nc_test_ids_path}\\n\")\n",
    "\n",
    "nc_test_labels_path = os.path.join(base_dir, \"nc-test-labels.pt\")\n",
    "nc_test_labels = torch.randint(0, 10, (num_tests,))\n",
    "print(f\"Part of test labels for node classification: {nc_test_labels[:3]}\")\n",
    "torch.save(nc_test_labels, nc_test_labels_path)\n",
    "print(f\"NC test labels are saved to {nc_test_labels_path}\\n\")"
   ]
  },
  {
   "cell_type": "markdown",
   "metadata": {
    "id": "LhAcDCHQ_KJ0"
   },
   "source": [
    "#### Link Prediction Task\n",
    "For link prediction task, we need **node pairs** or **negative src/dsts** for each training/validation/test set. Like feature data, numpy arrays and torch tensors are supported for these sets."
   ]
  },
  {
   "cell_type": "code",
   "execution_count": 6,
   "metadata": {
    "execution": {
     "iopub.execute_input": "2024-09-02T05:13:29.224300Z",
     "iopub.status.busy": "2024-09-02T05:13:29.223923Z",
     "iopub.status.idle": "2024-09-02T05:13:29.233041Z",
     "shell.execute_reply": "2024-09-02T05:13:29.232556Z"
    },
    "id": "u0jCnXIcAQy4"
   },
   "outputs": [
    {
     "name": "stdout",
     "output_type": "stream",
     "text": [
      "Part of train node pairs for link prediction: [[ 27 711]\n",
      " [689 643]\n",
      " [293 721]]\n",
      "LP train node pairs are saved to ./ondisk_dataset_homograph/lp-train-node-pairs.npy\n",
      "\n",
      "Part of val node pairs for link prediction: [[608 375]\n",
      " [165 576]\n",
      " [518 956]]\n",
      "LP val node pairs are saved to ./ondisk_dataset_homograph/lp-val-node-pairs.npy\n",
      "\n",
      "Part of val negative dsts for link prediction: tensor([[657, 704, 528, 683, 921, 454, 233, 778, 970, 880],\n",
      "        [186, 468, 534, 297, 508, 569, 597, 445, 727, 688],\n",
      "        [265,  51,  53, 545,  13, 358,  30, 556, 913, 154]])\n",
      "LP val negative dsts are saved to ./ondisk_dataset_homograph/lp-val-neg-dsts.pt\n",
      "\n",
      "Part of test node pairs for link prediction: [297 651]\n",
      "LP test node pairs are saved to ./ondisk_dataset_homograph/lp-test-node-pairs.npy\n",
      "\n",
      "Part of test negative dsts for link prediction: tensor([[748, 166, 120, 394, 549, 785,  94, 915, 232, 158],\n",
      "        [867, 909, 836, 304, 989, 758, 276, 512, 730, 983],\n",
      "        [736, 735, 314, 256, 518, 850,  83, 423, 106, 713]])\n",
      "LP test negative dsts are saved to ./ondisk_dataset_homograph/lp-test-neg-dsts.pt\n",
      "\n"
     ]
    }
   ],
   "source": [
    "num_trains = int(num_edges * 0.6)\n",
    "num_vals = int(num_edges * 0.2)\n",
    "num_tests = num_edges - num_trains - num_vals\n",
    "\n",
    "lp_train_node_pairs_path = os.path.join(base_dir, \"lp-train-node-pairs.npy\")\n",
    "lp_train_node_pairs = edges[:num_trains, :]\n",
    "print(f\"Part of train node pairs for link prediction: {lp_train_node_pairs[:3]}\")\n",
    "np.save(lp_train_node_pairs_path, lp_train_node_pairs)\n",
    "print(f\"LP train node pairs are saved to {lp_train_node_pairs_path}\\n\")\n",
    "\n",
    "lp_val_node_pairs_path = os.path.join(base_dir, \"lp-val-node-pairs.npy\")\n",
    "lp_val_node_pairs = edges[num_trains:num_trains+num_vals, :]\n",
    "print(f\"Part of val node pairs for link prediction: {lp_val_node_pairs[:3]}\")\n",
    "np.save(lp_val_node_pairs_path, lp_val_node_pairs)\n",
    "print(f\"LP val node pairs are saved to {lp_val_node_pairs_path}\\n\")\n",
    "\n",
    "lp_val_neg_dsts_path = os.path.join(base_dir, \"lp-val-neg-dsts.pt\")\n",
    "lp_val_neg_dsts = torch.randint(0, num_nodes, (num_vals, 10))\n",
    "print(f\"Part of val negative dsts for link prediction: {lp_val_neg_dsts[:3]}\")\n",
    "torch.save(lp_val_neg_dsts, lp_val_neg_dsts_path)\n",
    "print(f\"LP val negative dsts are saved to {lp_val_neg_dsts_path}\\n\")\n",
    "\n",
    "lp_test_node_pairs_path = os.path.join(base_dir, \"lp-test-node-pairs.npy\")\n",
    "lp_test_node_pairs = edges[-num_tests, :]\n",
    "print(f\"Part of test node pairs for link prediction: {lp_test_node_pairs[:3]}\")\n",
    "np.save(lp_test_node_pairs_path, lp_test_node_pairs)\n",
    "print(f\"LP test node pairs are saved to {lp_test_node_pairs_path}\\n\")\n",
    "\n",
    "lp_test_neg_dsts_path = os.path.join(base_dir, \"lp-test-neg-dsts.pt\")\n",
    "lp_test_neg_dsts = torch.randint(0, num_nodes, (num_tests, 10))\n",
    "print(f\"Part of test negative dsts for link prediction: {lp_test_neg_dsts[:3]}\")\n",
    "torch.save(lp_test_neg_dsts, lp_test_neg_dsts_path)\n",
    "print(f\"LP test negative dsts are saved to {lp_test_neg_dsts_path}\\n\")"
   ]
  },
  {
   "cell_type": "markdown",
   "metadata": {
    "id": "wbk6-wxRK-6S"
   },
   "source": [
    "## Organize Data into YAML File\n",
    "Now we need to create a `metadata.yaml` file which contains the paths, dadta types of graph structure, feature data, training/validation/test sets.\n",
    "\n",
    "Notes:\n",
    "- all path should be relative to `metadata.yaml`.\n",
    "- Below fields are optional and not specified in below example.\n",
    "  - `in_memory`: indicates whether to load dada into memory or `mmap`. Default is `True`.\n",
    "\n",
    "Please refer to [YAML specification](https://github.com/dmlc/dgl/blob/master/docs/source/stochastic_training/ondisk-dataset-specification.rst) for more details."
   ]
  },
  {
   "cell_type": "code",
   "execution_count": 7,
   "metadata": {
    "execution": {
     "iopub.execute_input": "2024-09-02T05:13:29.235216Z",
     "iopub.status.busy": "2024-09-02T05:13:29.235019Z",
     "iopub.status.idle": "2024-09-02T05:13:29.239846Z",
     "shell.execute_reply": "2024-09-02T05:13:29.239368Z"
    },
    "id": "ddGTWW61Lpwp"
   },
   "outputs": [],
   "source": [
    "yaml_content = f\"\"\"\n",
    "    dataset_name: homogeneous_graph_nc_lp\n",
    "    graph:\n",
    "      nodes:\n",
    "        - num: {num_nodes}\n",
    "      edges:\n",
    "        - format: csv\n",
    "          path: {os.path.basename(edges_path)}\n",
    "    feature_data:\n",
    "      - domain: node\n",
    "        name: feat_0\n",
    "        format: numpy\n",
    "        path: {os.path.basename(node_feat_0_path)}\n",
    "      - domain: node\n",
    "        name: feat_1\n",
    "        format: torch\n",
    "        path: {os.path.basename(node_feat_1_path)}\n",
    "      - domain: edge\n",
    "        name: feat_0\n",
    "        format: numpy\n",
    "        path: {os.path.basename(edge_feat_0_path)}\n",
    "      - domain: edge\n",
    "        name: feat_1\n",
    "        format: torch\n",
    "        path: {os.path.basename(edge_feat_1_path)}\n",
    "    tasks:\n",
    "      - name: node_classification\n",
    "        num_classes: 10\n",
    "        train_set:\n",
    "          - data:\n",
    "              - name: seed_nodes\n",
    "                format: numpy\n",
    "                path: {os.path.basename(nc_train_ids_path)}\n",
    "              - name: labels\n",
    "                format: torch\n",
    "                path: {os.path.basename(nc_train_labels_path)}\n",
    "        validation_set:\n",
    "          - data:\n",
    "              - name: seed_nodes\n",
    "                format: numpy\n",
    "                path: {os.path.basename(nc_val_ids_path)}\n",
    "              - name: labels\n",
    "                format: torch\n",
    "                path: {os.path.basename(nc_val_labels_path)}\n",
    "        test_set:\n",
    "          - data:\n",
    "              - name: seed_nodes\n",
    "                format: numpy\n",
    "                path: {os.path.basename(nc_test_ids_path)}\n",
    "              - name: labels\n",
    "                format: torch\n",
    "                path: {os.path.basename(nc_test_labels_path)}\n",
    "      - name: link_prediction\n",
    "        num_classes: 10\n",
    "        train_set:\n",
    "          - data:\n",
    "              - name: node_pairs\n",
    "                format: numpy\n",
    "                path: {os.path.basename(lp_train_node_pairs_path)}\n",
    "        validation_set:\n",
    "          - data:\n",
    "              - name: node_pairs\n",
    "                format: numpy\n",
    "                path: {os.path.basename(lp_val_node_pairs_path)}\n",
    "              - name: negative_dsts\n",
    "                format: torch\n",
    "                path: {os.path.basename(lp_val_neg_dsts_path)}\n",
    "        test_set:\n",
    "          - data:\n",
    "              - name: node_pairs\n",
    "                format: numpy\n",
    "                path: {os.path.basename(lp_test_node_pairs_path)}\n",
    "              - name: negative_dsts\n",
    "                format: torch\n",
    "                path: {os.path.basename(lp_test_neg_dsts_path)}\n",
    "\"\"\"\n",
    "metadata_path = os.path.join(base_dir, \"metadata.yaml\")\n",
    "with open(metadata_path, \"w\") as f:\n",
    "  f.write(yaml_content)"
   ]
  },
  {
   "cell_type": "markdown",
   "metadata": {
    "id": "kEfybHGhOW7O"
   },
   "source": [
    "## Instantiate `OnDiskDataset`\n",
    "Now we're ready to load dataset via `dgl.graphbolt.OnDiskDataset`. When instantiating, we just pass in the base directory where `metadata.yaml` file lies.\n",
    "\n",
    "During first instantiation, GraphBolt preprocesses the raw data such as constructing `FusedCSCSamplingGraph` from edges. All data including graph, feature data, training/validation/test sets are put into `preprocessed` directory after preprocessing. Any following dataset loading will skip the preprocess stage.\n",
    "\n",
    "After preprocessing, `load()` is required to be called explicitly in order to load graph, feature data and tasks."
   ]
  },
  {
   "cell_type": "code",
   "execution_count": 8,
   "metadata": {
    "execution": {
     "iopub.execute_input": "2024-09-02T05:13:29.241976Z",
     "iopub.status.busy": "2024-09-02T05:13:29.241675Z",
     "iopub.status.idle": "2024-09-02T05:13:29.268263Z",
     "shell.execute_reply": "2024-09-02T05:13:29.267764Z"
    },
    "id": "W58CZoSzOiyo"
   },
   "outputs": [
    {
     "name": "stdout",
     "output_type": "stream",
     "text": [
      "The dataset is already preprocessed.\n",
      "Loaded graph: FusedCSCSamplingGraph(csc_indptr=tensor([    0,     7,    21,  ...,  9975,  9990, 10000], dtype=torch.int32),\n",
      "                      indices=tensor([134, 780, 392,  ...,  28, 347, 730], dtype=torch.int32),\n",
      "                      num_nodes=1000, num_edges=10000)\n",
      "\n",
      "Loaded feature store: TorchBasedFeatureStore{(<OnDiskFeatureDataDomain.NODE: 'node'>, None, 'feat_0'): TorchBasedFeature(feature=tensor([[0.3580, 0.1673, 0.4172, 0.0944, 0.4329],\n",
      "                                                        [0.7230, 0.4434, 0.5547, 0.0612, 0.8114],\n",
      "                                                        [0.0916, 0.3789, 0.5213, 0.7118, 0.7496],\n",
      "                                                        ...,\n",
      "                                                        [0.2500, 0.3438, 0.4413, 0.6350, 0.8917],\n",
      "                                                        [0.6249, 0.8060, 0.6665, 0.0632, 0.8838],\n",
      "                                                        [0.0564, 0.1104, 0.7446, 0.2056, 0.7301]], dtype=torch.float64),\n",
      "                                        metadata={},\n",
      "                      ), (<OnDiskFeatureDataDomain.NODE: 'node'>, None, 'feat_1'): TorchBasedFeature(feature=tensor([[0.7859, 0.7599, 0.0777, 0.7144, 0.2298],\n",
      "                                                        [0.5944, 0.0362, 0.1184, 0.5490, 0.2363],\n",
      "                                                        [0.8618, 0.7725, 0.2471, 0.2121, 0.4890],\n",
      "                                                        ...,\n",
      "                                                        [0.2044, 0.3633, 0.0418, 0.2662, 0.7932],\n",
      "                                                        [0.6407, 0.3006, 0.1962, 0.7341, 0.8936],\n",
      "                                                        [0.0160, 0.1277, 0.8498, 0.7373, 0.0013]]),\n",
      "                                        metadata={},\n",
      "                      ), (<OnDiskFeatureDataDomain.EDGE: 'edge'>, None, 'feat_0'): TorchBasedFeature(feature=tensor([[0.0533, 0.7116, 0.2638, 0.4599, 0.9226],\n",
      "                                                        [0.0612, 0.6130, 0.7160, 0.7752, 0.8036],\n",
      "                                                        [0.3107, 0.3803, 0.6266, 0.8873, 0.7668],\n",
      "                                                        ...,\n",
      "                                                        [0.1172, 0.2593, 0.0923, 0.2524, 0.8380],\n",
      "                                                        [0.5854, 0.0599, 0.5888, 0.6403, 0.6139],\n",
      "                                                        [0.3845, 0.6873, 0.0801, 0.3485, 0.6648]], dtype=torch.float64),\n",
      "                                        metadata={},\n",
      "                      ), (<OnDiskFeatureDataDomain.EDGE: 'edge'>, None, 'feat_1'): TorchBasedFeature(feature=tensor([[0.4110, 0.8519, 0.7169, 0.4902, 0.7378],\n",
      "                                                        [0.4277, 0.2118, 0.4891, 0.4291, 0.6758],\n",
      "                                                        [0.4491, 0.4306, 0.0800, 0.7027, 0.4820],\n",
      "                                                        ...,\n",
      "                                                        [0.0425, 0.4851, 0.0108, 0.5489, 0.1987],\n",
      "                                                        [0.4977, 0.3315, 0.1778, 0.1055, 0.5624],\n",
      "                                                        [0.9320, 0.8415, 0.4004, 0.8760, 0.4249]]),\n",
      "                                        metadata={},\n",
      "                      )}\n",
      "\n",
      "Loaded node classification task: OnDiskTask(validation_set=ItemSet(items=(tensor([748, 383, 715, 836, 957, 183, 600, 722, 704, 727, 123, 743, 385, 621,\n",
      "                                                 50, 368, 752, 765, 981, 932, 716, 424, 338, 995,  69, 967,  90, 675,\n",
      "                                                116, 369, 895, 861, 732, 865, 912, 903, 214, 635, 404, 455, 969, 827,\n",
      "                                                714, 478, 548, 847, 884, 721, 223, 291, 451, 642, 604, 896, 881, 703,\n",
      "                                                546, 499, 356, 823,  64, 946, 893, 869, 330, 647, 571, 313, 520, 425,\n",
      "                                                720,  41, 664, 874, 964, 608, 445, 930, 366,  66, 986, 812,  92, 585,\n",
      "                                                432, 810,  45, 131, 975, 678, 299, 459, 492, 915, 799, 244, 460, 230,\n",
      "                                                735,   3, 891, 999, 628, 132, 422, 877, 949, 804, 575, 461, 441, 443,\n",
      "                                                428, 329, 304, 971, 292,  53, 468, 616, 697,  13, 992, 342, 138,  27,\n",
      "                                                181, 364, 547, 232,  73, 935, 742, 623, 536, 495, 841, 888, 227, 159,\n",
      "                                                169, 843, 963, 473, 907,   1, 523, 878, 572, 527, 433, 543, 622, 349,\n",
      "                                                956, 637, 319, 346, 906, 760,  18, 154, 549, 773, 793, 381, 470, 749,\n",
      "                                                386, 689, 363, 673, 168, 534, 994, 465, 365, 301, 531, 982, 508, 261,\n",
      "                                                449, 567,  94, 152, 820, 579, 360, 182, 151, 633, 472, 711, 205, 206,\n",
      "                                                688,  57, 825, 771], dtype=torch.int32), tensor([7, 3, 2, 5, 0, 4, 7, 9, 6, 5, 8, 6, 5, 1, 7, 5, 8, 7, 7, 6, 7, 5, 9, 4,\n",
      "                                                0, 0, 0, 9, 6, 9, 5, 0, 2, 9, 2, 0, 9, 0, 3, 1, 8, 1, 2, 2, 6, 5, 0, 4,\n",
      "                                                7, 1, 1, 9, 8, 4, 3, 6, 4, 5, 4, 0, 9, 2, 4, 5, 2, 1, 2, 6, 7, 7, 1, 6,\n",
      "                                                9, 1, 4, 5, 5, 8, 2, 0, 6, 5, 8, 8, 5, 8, 7, 3, 9, 0, 2, 5, 3, 5, 7, 5,\n",
      "                                                5, 9, 2, 6, 8, 5, 9, 2, 2, 2, 8, 8, 7, 7, 0, 3, 3, 2, 2, 2, 8, 1, 0, 0,\n",
      "                                                1, 0, 4, 5, 8, 8, 6, 6, 3, 8, 6, 4, 8, 0, 8, 7, 9, 6, 0, 4, 7, 5, 5, 1,\n",
      "                                                3, 3, 9, 5, 3, 5, 6, 3, 4, 8, 6, 8, 4, 6, 3, 8, 8, 2, 0, 6, 8, 4, 4, 8,\n",
      "                                                2, 7, 0, 2, 1, 7, 9, 3, 8, 9, 2, 3, 9, 8, 0, 3, 5, 7, 3, 9, 8, 4, 7, 9,\n",
      "                                                4, 0, 0, 6, 3, 4, 4, 1])),\n",
      "                                  names=('seeds', 'labels'),\n",
      "                          ),\n",
      "           train_set=ItemSet(items=(tensor([789, 293, 269,  68, 166, 345, 358, 402,  35, 237, 559, 105, 794, 351,\n",
      "                                           135, 674, 745, 858, 676,  58, 833, 746, 917, 399, 390, 474, 764,  78,\n",
      "                                           909,  67,  70, 565, 496, 774, 207, 367, 400, 576, 311, 598, 302, 171,\n",
      "                                            77, 339,  20, 373, 267, 494, 739, 518, 729, 435, 544, 612, 282, 180,\n",
      "                                           387, 710,  72,  37, 783, 900, 762, 503, 646, 127, 996, 885,  56, 251,\n",
      "                                           458, 221, 839, 242,  60, 204, 139, 268, 644, 867, 741, 603, 481,  74,\n",
      "                                           610, 557, 733, 423, 434,  97, 685,  91, 246, 318, 927, 933, 686, 595,\n",
      "                                           709, 929, 601, 305, 948, 344, 500, 880, 631,  59, 936, 303, 770, 146,\n",
      "                                           376, 421, 898, 775, 226, 477,  49, 821, 985, 776, 850, 194, 887, 332,\n",
      "                                           700, 923, 779,  71, 255,  43, 133, 379, 260, 300,  82, 519, 148, 876,\n",
      "                                           108, 634, 533, 795, 380, 437, 528, 976, 941, 566, 125, 238, 444, 462,\n",
      "                                            52, 960, 787, 921, 476, 568, 210, 589, 191, 163, 987, 554, 505, 792,\n",
      "                                           925, 541, 970, 320, 695,  88, 625,  15, 275, 965, 216, 920, 537, 892,\n",
      "                                           665, 590, 629, 213, 512,  30,   4, 498, 486, 894, 147,  48, 602, 596,\n",
      "                                           115, 889, 866, 529, 446, 482, 104, 563, 530, 643, 800, 627,  10, 853,\n",
      "                                           593, 439, 217, 808, 953, 901, 331, 728, 317, 189, 649, 126,  16, 840,\n",
      "                                           757, 309, 280, 416, 922, 818, 692, 225,  22, 170, 905, 156, 193, 630,\n",
      "                                           491, 551, 538, 101, 119, 919, 130,  23, 258, 592, 407, 542, 872, 306,\n",
      "                                           128, 744, 167, 837, 174,  40, 272, 942, 626, 737, 229, 395, 796, 747,\n",
      "                                           310, 738, 573, 160, 993, 632, 334, 164, 480,  63, 556, 875, 208, 456,\n",
      "                                           653, 952, 475, 157,  25, 187, 414, 411, 657, 341, 430, 666, 236, 802,\n",
      "                                           864, 968, 247, 417, 978, 415,   0, 798, 410, 235, 145, 806, 109, 186,\n",
      "                                           723, 354, 347, 756, 619, 195,  65, 705, 333, 522, 222, 412, 501, 250,\n",
      "                                           298, 645, 471, 453, 233, 290, 178, 991, 849, 487, 469,  87,  86,  98,\n",
      "                                           934, 420, 605, 868, 916, 209, 758, 429, 134, 382, 165, 218, 781, 870,\n",
      "                                           264, 175, 352, 873, 450, 172, 401, 918, 524, 263, 377, 316, 706, 203,\n",
      "                                           977, 540, 297, 580, 262, 725,   7, 803, 245, 371, 489, 466,  34, 155,\n",
      "                                           784,  76, 266, 639, 707, 668, 328, 176, 253,  28, 769, 879, 846, 391,\n",
      "                                           614, 924, 734, 719,  84, 998, 785, 150,  62, 890, 287, 815, 954, 285,\n",
      "                                           201, 852, 535, 611, 408, 136, 754, 117, 343, 457, 613, 315, 814, 106,\n",
      "                                           121, 184, 124, 650, 248, 939, 824, 564, 493, 427, 913, 863, 409, 212,\n",
      "                                            83,  29, 854, 270, 324, 755, 202, 348, 488, 591, 378, 288, 782, 362,\n",
      "                                           588, 699, 731, 239, 122, 254,  55, 112, 844, 277, 502, 669, 636, 671,\n",
      "                                           521,  19, 902, 828, 283,  79, 129, 398, 259, 938, 199, 454,  17, 289,\n",
      "                                           517, 940, 983, 584, 357,  54, 654,  11, 406, 845, 819, 801, 312, 479,\n",
      "                                           389, 200, 323, 336,  44, 228, 899, 114, 231, 539, 562, 583, 822, 687,\n",
      "                                           811, 220, 372, 510, 561, 355, 772, 586, 490, 281, 514, 353, 426, 198,\n",
      "                                           694,  33, 558, 599, 102, 809, 797,  42, 606, 321, 708, 196, 394, 931,\n",
      "                                           307, 509, 677, 361, 702,  26, 295, 335, 504, 582, 359, 829, 974, 120,\n",
      "                                           753, 252, 419, 197, 100, 910,  51, 552, 326, 337, 684, 516, 513, 947,\n",
      "                                           484, 594, 851, 577, 788, 137,  21, 506, 431, 314, 249, 555,  12,  75,\n",
      "                                           984, 370, 442,  46, 224, 780, 641, 418, 413, 279, 322, 926, 726, 862,\n",
      "                                           609, 856, 670, 859, 274,  24, 914,  96, 103,  95, 826, 440],\n",
      "                                          dtype=torch.int32), tensor([0, 2, 5, 7, 6, 6, 2, 9, 0, 7, 7, 5, 1, 9, 1, 0, 2, 2, 9, 1, 6, 3, 1, 4,\n",
      "                                           1, 0, 8, 8, 5, 2, 2, 2, 4, 6, 7, 8, 7, 2, 9, 7, 9, 3, 4, 2, 5, 8, 6, 7,\n",
      "                                           4, 4, 2, 6, 7, 5, 1, 8, 1, 7, 4, 7, 4, 5, 9, 8, 0, 2, 2, 9, 8, 7, 4, 3,\n",
      "                                           2, 1, 5, 2, 4, 7, 8, 8, 9, 2, 9, 7, 2, 3, 4, 5, 3, 1, 1, 1, 0, 7, 8, 0,\n",
      "                                           8, 3, 6, 6, 9, 1, 1, 1, 8, 9, 7, 5, 1, 2, 3, 7, 9, 6, 1, 0, 8, 1, 8, 3,\n",
      "                                           2, 8, 9, 5, 9, 9, 4, 5, 9, 1, 6, 5, 7, 6, 0, 6, 2, 1, 1, 2, 4, 5, 5, 8,\n",
      "                                           5, 0, 4, 3, 7, 4, 8, 6, 6, 8, 8, 9, 4, 1, 1, 0, 0, 6, 2, 7, 3, 9, 3, 5,\n",
      "                                           4, 0, 5, 9, 6, 4, 4, 9, 5, 5, 9, 3, 0, 3, 4, 4, 0, 1, 5, 0, 9, 7, 0, 6,\n",
      "                                           3, 3, 6, 9, 5, 8, 0, 2, 5, 5, 7, 7, 3, 0, 7, 9, 6, 3, 4, 7, 6, 8, 9, 1,\n",
      "                                           8, 5, 2, 3, 9, 6, 4, 1, 2, 0, 1, 5, 8, 6, 5, 3, 0, 8, 3, 9, 6, 8, 2, 1,\n",
      "                                           5, 6, 0, 9, 2, 9, 5, 5, 1, 0, 1, 8, 2, 3, 2, 1, 2, 6, 7, 2, 9, 4, 9, 4,\n",
      "                                           4, 4, 4, 2, 5, 4, 1, 5, 1, 0, 6, 8, 0, 4, 7, 5, 8, 1, 7, 7, 8, 7, 2, 1,\n",
      "                                           0, 5, 6, 3, 8, 3, 3, 2, 0, 8, 5, 2, 4, 4, 2, 4, 8, 5, 2, 0, 0, 2, 6, 8,\n",
      "                                           9, 7, 6, 6, 0, 3, 4, 8, 1, 8, 5, 3, 0, 4, 0, 7, 1, 7, 9, 3, 0, 4, 9, 8,\n",
      "                                           7, 7, 3, 5, 3, 6, 0, 0, 5, 3, 8, 0, 9, 5, 9, 6, 8, 0, 7, 7, 6, 4, 3, 8,\n",
      "                                           2, 2, 3, 1, 1, 1, 8, 6, 0, 4, 3, 9, 3, 9, 5, 5, 4, 4, 6, 4, 7, 3, 4, 0,\n",
      "                                           0, 6, 6, 1, 4, 7, 8, 2, 2, 4, 8, 4, 7, 5, 8, 3, 3, 0, 8, 8, 5, 4, 9, 5,\n",
      "                                           8, 5, 6, 6, 7, 3, 8, 2, 4, 5, 3, 0, 8, 4, 0, 8, 1, 4, 7, 0, 1, 3, 8, 5,\n",
      "                                           6, 4, 3, 4, 8, 1, 5, 7, 3, 1, 6, 1, 3, 8, 3, 8, 4, 8, 0, 4, 4, 5, 8, 0,\n",
      "                                           7, 3, 3, 8, 3, 6, 0, 0, 1, 8, 6, 4, 7, 1, 1, 5, 4, 2, 8, 5, 0, 9, 1, 6,\n",
      "                                           8, 7, 0, 3, 9, 9, 4, 0, 2, 1, 8, 3, 4, 0, 1, 4, 0, 9, 2, 7, 2, 4, 6, 3,\n",
      "                                           6, 4, 3, 1, 1, 6, 2, 1, 0, 0, 0, 6, 6, 0, 7, 9, 6, 3, 1, 7, 9, 0, 7, 8,\n",
      "                                           4, 7, 2, 4, 1, 7, 1, 6, 0, 1, 7, 8, 9, 4, 0, 5, 7, 7, 8, 7, 2, 5, 5, 6,\n",
      "                                           2, 6, 0, 5, 0, 3, 3, 2, 7, 4, 5, 2, 8, 4, 8, 8, 7, 3, 9, 1, 2, 2, 9, 7,\n",
      "                                           5, 1, 9, 4, 8, 4, 5, 8, 4, 8, 7, 4, 7, 6, 6, 1, 4, 2, 3, 1, 9, 4, 0, 9])),\n",
      "                             names=('seeds', 'labels'),\n",
      "                     ),\n",
      "           test_set=ItemSet(items=(tensor([219, 842, 110,  36, 997, 144, 959, 950, 241, 958, 882, 107, 532, 966,\n",
      "                                          215, 447, 989, 569, 578, 855, 161, 759, 374, 467, 928, 294, 911, 857,\n",
      "                                          955, 886,   6, 945, 683, 682, 581, 483, 276, 680, 750, 384, 763, 701,\n",
      "                                          325, 937, 761, 883, 693, 831, 393, 375, 550, 560, 777, 724, 660, 961,\n",
      "                                          485, 640,  85, 652, 980, 973, 962, 545, 951, 278,  80, 405, 308, 661,\n",
      "                                          904, 790, 736, 286, 816, 396, 651,  89, 388, 871, 256,  39,  14, 340,\n",
      "                                          807, 143, 271,  99, 515, 908,  81, 696,  38, 835, 838, 448, 832, 897,\n",
      "                                          860, 140, 786, 730, 751, 717, 834, 656, 988,  32,  31, 118, 681, 972,\n",
      "                                          350, 624, 507, 452, 667, 438, 273, 691, 113, 111,   9, 718, 617,   8,\n",
      "                                          243,   5, 436, 768, 173, 142, 185, 698, 638, 990, 234, 713, 791, 497,\n",
      "                                            2, 179, 192,  47, 690, 149, 830, 296, 663, 188, 672, 817, 463, 662,\n",
      "                                          526, 944, 813, 712, 767, 943, 511, 464, 158, 766, 615, 574, 327, 153,\n",
      "                                           93, 979, 618, 162, 655, 778, 587, 740, 648, 177, 848, 607, 284, 805,\n",
      "                                          525, 570, 392, 211, 397, 553, 403, 190, 597, 257, 240, 658, 265, 141,\n",
      "                                           61, 679, 620, 659], dtype=torch.int32), tensor([6, 4, 2, 7, 4, 7, 1, 6, 8, 0, 6, 5, 5, 0, 1, 9, 5, 1, 5, 3, 2, 3, 5, 0,\n",
      "                                          8, 9, 0, 6, 7, 6, 1, 4, 4, 3, 8, 1, 9, 6, 8, 9, 2, 3, 7, 5, 5, 1, 1, 8,\n",
      "                                          8, 4, 8, 9, 2, 4, 5, 4, 1, 3, 1, 2, 0, 5, 3, 7, 2, 0, 4, 8, 2, 4, 1, 0,\n",
      "                                          8, 1, 5, 1, 5, 0, 8, 6, 2, 6, 2, 3, 7, 3, 2, 0, 3, 8, 8, 6, 6, 8, 7, 7,\n",
      "                                          3, 3, 9, 4, 5, 0, 1, 8, 4, 8, 7, 4, 3, 5, 0, 7, 3, 7, 5, 6, 9, 9, 5, 9,\n",
      "                                          5, 6, 7, 9, 6, 6, 4, 9, 7, 3, 7, 3, 6, 8, 6, 6, 9, 0, 1, 3, 9, 1, 4, 3,\n",
      "                                          1, 9, 8, 7, 0, 6, 9, 8, 7, 3, 2, 6, 9, 0, 6, 6, 2, 2, 1, 3, 3, 5, 7, 3,\n",
      "                                          5, 8, 1, 3, 8, 0, 6, 4, 4, 3, 9, 2, 6, 9, 2, 5, 5, 9, 2, 7, 0, 9, 8, 5,\n",
      "                                          2, 8, 0, 5, 9, 2, 9, 9])),\n",
      "                            names=('seeds', 'labels'),\n",
      "                    ),\n",
      "           metadata={'name': 'node_classification', 'num_classes': 10},\n",
      ")\n",
      "\n",
      "Loaded link prediction task: OnDiskTask(validation_set=ItemSet(items=(tensor([[399, 741],\n",
      "                                                [666, 689],\n",
      "                                                [699, 360],\n",
      "                                                ...,\n",
      "                                                [961,  84],\n",
      "                                                [961,  99],\n",
      "                                                [961, 792]], dtype=torch.int32), tensor([1., 1., 1.,  ..., 0., 0., 0.], dtype=torch.float64), tensor([   0,    1,    2,  ..., 1999, 1999, 1999])),\n",
      "                                  names=('seeds', 'labels', 'indexes'),\n",
      "                          ),\n",
      "           train_set=ItemSet(items=(tensor([[406, 533],\n",
      "                                           [862, 961],\n",
      "                                           [929, 711],\n",
      "                                           ...,\n",
      "                                           [539, 843],\n",
      "                                           [297, 133],\n",
      "                                           [577,  34]], dtype=torch.int32),),\n",
      "                             names=('seeds',),\n",
      "                     ),\n",
      "           test_set=ItemSet(items=(tensor([[657, 306],\n",
      "                                          [150, 109],\n",
      "                                          [234, 342],\n",
      "                                          ...,\n",
      "                                          [621, 329],\n",
      "                                          [621, 654],\n",
      "                                          [621, 450]], dtype=torch.int32), tensor([1., 1., 1.,  ..., 0., 0., 0.], dtype=torch.float64), tensor([   0,    1,    2,  ..., 1999, 1999, 1999])),\n",
      "                            names=('seeds', 'labels', 'indexes'),\n",
      "                    ),\n",
      "           metadata={'name': 'link_prediction', 'num_classes': 10},\n",
      ")\n",
      "\n"
     ]
    },
    {
     "name": "stderr",
     "output_type": "stream",
     "text": [
      "/home/ubuntu/regression_test/dgl/python/dgl/graphbolt/impl/ondisk_dataset.py:467: FutureWarning: You are using `torch.load` with `weights_only=False` (the current default value), which uses the default pickle module implicitly. It is possible to construct malicious pickle data which will execute arbitrary code during unpickling (See https://github.com/pytorch/pytorch/blob/main/SECURITY.md#untrusted-models for more details). In a future release, the default value for `weights_only` will be flipped to `True`. This limits the functions that could be executed during unpickling. Arbitrary objects will no longer be allowed to be loaded via this mode unless they are explicitly allowlisted by the user via `torch.serialization.add_safe_globals`. We recommend you start setting `weights_only=True` for any use case where you don't have full control of the loaded file. Please open an issue on GitHub for any issues related to this experimental feature.\n",
      "  return torch.load(graph_topology.path)\n"
     ]
    }
   ],
   "source": [
    "dataset = gb.OnDiskDataset(base_dir).load()\n",
    "graph = dataset.graph\n",
    "print(f\"Loaded graph: {graph}\\n\")\n",
    "\n",
    "feature = dataset.feature\n",
    "print(f\"Loaded feature store: {feature}\\n\")\n",
    "\n",
    "tasks = dataset.tasks\n",
    "nc_task = tasks[0]\n",
    "print(f\"Loaded node classification task: {nc_task}\\n\")\n",
    "lp_task = tasks[1]\n",
    "print(f\"Loaded link prediction task: {lp_task}\\n\")"
   ]
  }
 ],
 "metadata": {
  "colab": {
   "private_outputs": true,
   "provenance": []
  },
  "kernelspec": {
   "display_name": "Python 3",
   "name": "python3"
  },
  "language_info": {
   "codemirror_mode": {
    "name": "ipython",
    "version": 3
   },
   "file_extension": ".py",
   "mimetype": "text/x-python",
   "name": "python",
   "nbconvert_exporter": "python",
   "pygments_lexer": "ipython3",
   "version": "3.10.14"
  }
 },
 "nbformat": 4,
 "nbformat_minor": 0
}

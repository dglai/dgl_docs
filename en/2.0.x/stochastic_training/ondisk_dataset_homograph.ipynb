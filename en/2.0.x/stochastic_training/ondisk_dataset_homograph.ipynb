{
 "cells": [
  {
   "cell_type": "markdown",
   "metadata": {
    "id": "FnFhPMaAfLtJ"
   },
   "source": [
    "# OnDiskDataset for Homogeneous Graph\n",
    "\n",
    "[![Open In Colab](https://colab.research.google.com/assets/colab-badge.svg)](https://colab.research.google.com/github/dmlc/dgl/blob/master/notebooks/stochastic_training/ondisk_dataset_homograph.ipynb) [![GitHub](https://img.shields.io/badge/-View%20on%20GitHub-181717?logo=github&logoColor=ffffff)](https://github.com/dmlc/dgl/blob/master/notebooks/stochastic_training/ondisk_dataset_homograph.ipynb)\n",
    "\n",
    "This tutorial shows how to create `OnDiskDataset` for homogeneous graph that could be used in **GraphBolt** framework.\n",
    "\n",
    "By the end of this tutorial, you will be able to\n",
    "\n",
    "- organize graph structure data.\n",
    "- organize feature data.\n",
    "- organize training/validation/test set for specific tasks.\n",
    "\n",
    "To create an ``OnDiskDataset`` object, you need to organize all the data including graph structure, feature data and tasks into a directory. The directory should contain a ``metadata.yaml`` file that describes the metadata of the dataset.\n",
    "\n",
    "Now let's generate various data step by step and organize them together to instantiate `OnDiskDataset` finally."
   ]
  },
  {
   "cell_type": "markdown",
   "metadata": {
    "id": "Wlb19DtWgtzq"
   },
   "source": [
    "## Install DGL package"
   ]
  },
  {
   "cell_type": "code",
   "execution_count": 1,
   "metadata": {
    "execution": {
     "iopub.execute_input": "2024-08-21T13:54:48.981529Z",
     "iopub.status.busy": "2024-08-21T13:54:48.981098Z",
     "iopub.status.idle": "2024-08-21T13:54:52.767940Z",
     "shell.execute_reply": "2024-08-21T13:54:52.767294Z"
    },
    "id": "UojlT9ZGgyr9"
   },
   "outputs": [
    {
     "name": "stdout",
     "output_type": "stream",
     "text": [
      "Looking in links: https://data.dgl.ai/wheels-test/repo.html\r\n",
      "Requirement already satisfied: dgl in /opt/conda/envs/dgl-dev-cpu/lib/python3.10/site-packages (2.2a240410)\r\n",
      "Requirement already satisfied: numpy>=1.14.0 in /opt/conda/envs/dgl-dev-cpu/lib/python3.10/site-packages (from dgl) (1.26.4)\r\n",
      "Requirement already satisfied: scipy>=1.1.0 in /opt/conda/envs/dgl-dev-cpu/lib/python3.10/site-packages (from dgl) (1.14.0)\r\n",
      "Requirement already satisfied: networkx>=2.1 in /opt/conda/envs/dgl-dev-cpu/lib/python3.10/site-packages (from dgl) (3.3)\r\n",
      "Requirement already satisfied: requests>=2.19.0 in /opt/conda/envs/dgl-dev-cpu/lib/python3.10/site-packages (from dgl) (2.32.3)\r\n",
      "Requirement already satisfied: tqdm in /opt/conda/envs/dgl-dev-cpu/lib/python3.10/site-packages (from dgl) (4.66.5)\r\n",
      "Requirement already satisfied: psutil>=5.8.0 in /opt/conda/envs/dgl-dev-cpu/lib/python3.10/site-packages (from dgl) (6.0.0)\r\n",
      "Requirement already satisfied: torchdata>=0.5.0 in /opt/conda/envs/dgl-dev-cpu/lib/python3.10/site-packages (from dgl) (0.7.1+6427ed9)\r\n",
      "Requirement already satisfied: pandas in /opt/conda/envs/dgl-dev-cpu/lib/python3.10/site-packages (from dgl) (2.2.2)\r\n",
      "Requirement already satisfied: charset-normalizer<4,>=2 in /opt/conda/envs/dgl-dev-cpu/lib/python3.10/site-packages (from requests>=2.19.0->dgl) (3.3.2)\r\n",
      "Requirement already satisfied: idna<4,>=2.5 in /opt/conda/envs/dgl-dev-cpu/lib/python3.10/site-packages (from requests>=2.19.0->dgl) (3.7)\r\n",
      "Requirement already satisfied: urllib3<3,>=1.21.1 in /opt/conda/envs/dgl-dev-cpu/lib/python3.10/site-packages (from requests>=2.19.0->dgl) (2.2.2)\r\n",
      "Requirement already satisfied: certifi>=2017.4.17 in /opt/conda/envs/dgl-dev-cpu/lib/python3.10/site-packages (from requests>=2.19.0->dgl) (2024.7.4)\r\n",
      "Requirement already satisfied: torch>=2 in /opt/conda/envs/dgl-dev-cpu/lib/python3.10/site-packages (from torchdata>=0.5.0->dgl) (2.1.0+cpu)\r\n"
     ]
    },
    {
     "name": "stdout",
     "output_type": "stream",
     "text": [
      "Requirement already satisfied: python-dateutil>=2.8.2 in /opt/conda/envs/dgl-dev-cpu/lib/python3.10/site-packages (from pandas->dgl) (2.9.0.post0)\r\n",
      "Requirement already satisfied: pytz>=2020.1 in /opt/conda/envs/dgl-dev-cpu/lib/python3.10/site-packages (from pandas->dgl) (2024.1)\r\n",
      "Requirement already satisfied: tzdata>=2022.7 in /opt/conda/envs/dgl-dev-cpu/lib/python3.10/site-packages (from pandas->dgl) (2024.1)\r\n",
      "Requirement already satisfied: six>=1.5 in /opt/conda/envs/dgl-dev-cpu/lib/python3.10/site-packages (from python-dateutil>=2.8.2->pandas->dgl) (1.16.0)\r\n",
      "Requirement already satisfied: filelock in /opt/conda/envs/dgl-dev-cpu/lib/python3.10/site-packages (from torch>=2->torchdata>=0.5.0->dgl) (3.15.4)\r\n",
      "Requirement already satisfied: typing-extensions in /opt/conda/envs/dgl-dev-cpu/lib/python3.10/site-packages (from torch>=2->torchdata>=0.5.0->dgl) (4.12.2)\r\n",
      "Requirement already satisfied: sympy in /opt/conda/envs/dgl-dev-cpu/lib/python3.10/site-packages (from torch>=2->torchdata>=0.5.0->dgl) (1.13.2)\r\n",
      "Requirement already satisfied: jinja2 in /opt/conda/envs/dgl-dev-cpu/lib/python3.10/site-packages (from torch>=2->torchdata>=0.5.0->dgl) (3.1.4)\r\n",
      "Requirement already satisfied: fsspec in /opt/conda/envs/dgl-dev-cpu/lib/python3.10/site-packages (from torch>=2->torchdata>=0.5.0->dgl) (2024.6.1)\r\n"
     ]
    },
    {
     "name": "stdout",
     "output_type": "stream",
     "text": [
      "Requirement already satisfied: MarkupSafe>=2.0 in /opt/conda/envs/dgl-dev-cpu/lib/python3.10/site-packages (from jinja2->torch>=2->torchdata>=0.5.0->dgl) (2.1.5)\r\n",
      "Requirement already satisfied: mpmath<1.4,>=1.1.0 in /opt/conda/envs/dgl-dev-cpu/lib/python3.10/site-packages (from sympy->torch>=2->torchdata>=0.5.0->dgl) (1.3.0)\r\n"
     ]
    },
    {
     "name": "stdout",
     "output_type": "stream",
     "text": [
      "DGL installed!\n"
     ]
    }
   ],
   "source": [
    "# Install required packages.\n",
    "import os\n",
    "import torch\n",
    "import numpy as np\n",
    "os.environ['TORCH'] = torch.__version__\n",
    "os.environ['DGLBACKEND'] = \"pytorch\"\n",
    "\n",
    "# Install the CPU version.\n",
    "device = torch.device(\"cpu\")\n",
    "!pip install --pre dgl -f https://data.dgl.ai/wheels-test/repo.html\n",
    "\n",
    "try:\n",
    "    import dgl\n",
    "    import dgl.graphbolt as gb\n",
    "    installed = True\n",
    "except ImportError as error:\n",
    "    installed = False\n",
    "    print(error)\n",
    "print(\"DGL installed!\" if installed else \"DGL not found!\")"
   ]
  },
  {
   "cell_type": "markdown",
   "metadata": {
    "id": "2R7WnSbjsfbr"
   },
   "source": [
    "## Data preparation\n",
    "In order to demonstrate how to organize various data, let's create a base directory first."
   ]
  },
  {
   "cell_type": "code",
   "execution_count": 2,
   "metadata": {
    "execution": {
     "iopub.execute_input": "2024-08-21T13:54:52.770688Z",
     "iopub.status.busy": "2024-08-21T13:54:52.770237Z",
     "iopub.status.idle": "2024-08-21T13:54:52.773950Z",
     "shell.execute_reply": "2024-08-21T13:54:52.773432Z"
    },
    "id": "SZipbzyltLfO"
   },
   "outputs": [
    {
     "name": "stdout",
     "output_type": "stream",
     "text": [
      "Created base directory: ./ondisk_dataset_homograph\n"
     ]
    }
   ],
   "source": [
    "base_dir = './ondisk_dataset_homograph'\n",
    "os.makedirs(base_dir, exist_ok=True)\n",
    "print(f\"Created base directory: {base_dir}\")"
   ]
  },
  {
   "cell_type": "markdown",
   "metadata": {
    "id": "qhNtIn_xhlnl"
   },
   "source": [
    "### Generate graph structure data\n",
    "For homogeneous graph, we just need to save edges(namely node pairs) into **CSV** file.\n",
    "\n",
    "Note:\n",
    "when saving to file, do not save index and header.\n"
   ]
  },
  {
   "cell_type": "code",
   "execution_count": 3,
   "metadata": {
    "execution": {
     "iopub.execute_input": "2024-08-21T13:54:52.776420Z",
     "iopub.status.busy": "2024-08-21T13:54:52.776025Z",
     "iopub.status.idle": "2024-08-21T13:54:52.788324Z",
     "shell.execute_reply": "2024-08-21T13:54:52.787796Z"
    },
    "id": "HcBt4G5BmSjr"
   },
   "outputs": [
    {
     "name": "stdout",
     "output_type": "stream",
     "text": [
      "Part of edges: [[ 46 580]\n",
      " [800  90]\n",
      " [102  97]\n",
      " [449 199]\n",
      " [174 414]]\n",
      "Edges are saved into ./ondisk_dataset_homograph/edges.csv\n"
     ]
    }
   ],
   "source": [
    "import numpy as np\n",
    "import pandas as pd\n",
    "num_nodes = 1000\n",
    "num_edges = 10 * num_nodes\n",
    "edges_path = os.path.join(base_dir, \"edges.csv\")\n",
    "edges = np.random.randint(0, num_nodes, size=(num_edges, 2))\n",
    "\n",
    "print(f\"Part of edges: {edges[:5, :]}\")\n",
    "\n",
    "df = pd.DataFrame(edges)\n",
    "df.to_csv(edges_path, index=False, header=False)\n",
    "\n",
    "print(f\"Edges are saved into {edges_path}\")"
   ]
  },
  {
   "cell_type": "markdown",
   "metadata": {
    "id": "kh-4cPtzpcaH"
   },
   "source": [
    "### Generate feature data for graph\n",
    "For feature data, numpy arrays and torch tensors are supported for now."
   ]
  },
  {
   "cell_type": "code",
   "execution_count": 4,
   "metadata": {
    "execution": {
     "iopub.execute_input": "2024-08-21T13:54:52.790643Z",
     "iopub.status.busy": "2024-08-21T13:54:52.790309Z",
     "iopub.status.idle": "2024-08-21T13:54:52.801336Z",
     "shell.execute_reply": "2024-08-21T13:54:52.800819Z"
    },
    "id": "_PVu1u5brBhF"
   },
   "outputs": [
    {
     "name": "stdout",
     "output_type": "stream",
     "text": [
      "Part of node feature [feat_0]: [[0.74658023 0.95733532 0.4701663  0.21209144 0.57345609]\n",
      " [0.11245284 0.31206481 0.62034611 0.52345612 0.0025083 ]\n",
      " [0.19006623 0.65252847 0.51878802 0.86019907 0.12571959]]\n",
      "Node feature [feat_0] is saved to ./ondisk_dataset_homograph/node-feat-0.npy\n",
      "\n",
      "Part of node feature [feat_1]: tensor([[0.8803, 0.9451, 0.9648, 0.9335, 0.3978],\n",
      "        [0.9628, 0.0131, 0.8622, 0.1604, 0.8435],\n",
      "        [0.9022, 0.2430, 0.2200, 0.7696, 0.0064]])\n",
      "Node feature [feat_1] is saved to ./ondisk_dataset_homograph/node-feat-1.pt\n",
      "\n",
      "Part of edge feature [feat_0]: [[0.30467946 0.78242995 0.04519996 0.31257265 0.87859377]\n",
      " [0.91885077 0.91245602 0.05064862 0.57448704 0.39941725]\n",
      " [0.6078281  0.62327871 0.07485478 0.03709097 0.69451469]]\n",
      "Edge feature [feat_0] is saved to ./ondisk_dataset_homograph/edge-feat-0.npy\n",
      "\n",
      "Part of edge feature [feat_1]: tensor([[0.5420, 0.1726, 0.3562, 0.7503, 0.1874],\n",
      "        [0.4673, 0.9637, 0.2406, 0.7424, 0.5370],\n",
      "        [0.2509, 0.3687, 0.8694, 0.3548, 0.2285]])\n",
      "Edge feature [feat_1] is saved to ./ondisk_dataset_homograph/edge-feat-1.pt\n",
      "\n"
     ]
    }
   ],
   "source": [
    "# Generate node feature in numpy array.\n",
    "node_feat_0_path = os.path.join(base_dir, \"node-feat-0.npy\")\n",
    "node_feat_0 = np.random.rand(num_nodes, 5)\n",
    "print(f\"Part of node feature [feat_0]: {node_feat_0[:3, :]}\")\n",
    "np.save(node_feat_0_path, node_feat_0)\n",
    "print(f\"Node feature [feat_0] is saved to {node_feat_0_path}\\n\")\n",
    "\n",
    "# Generate another node feature in torch tensor\n",
    "node_feat_1_path = os.path.join(base_dir, \"node-feat-1.pt\")\n",
    "node_feat_1 = torch.rand(num_nodes, 5)\n",
    "print(f\"Part of node feature [feat_1]: {node_feat_1[:3, :]}\")\n",
    "torch.save(node_feat_1, node_feat_1_path)\n",
    "print(f\"Node feature [feat_1] is saved to {node_feat_1_path}\\n\")\n",
    "\n",
    "# Generate edge feature in numpy array.\n",
    "edge_feat_0_path = os.path.join(base_dir, \"edge-feat-0.npy\")\n",
    "edge_feat_0 = np.random.rand(num_edges, 5)\n",
    "print(f\"Part of edge feature [feat_0]: {edge_feat_0[:3, :]}\")\n",
    "np.save(edge_feat_0_path, edge_feat_0)\n",
    "print(f\"Edge feature [feat_0] is saved to {edge_feat_0_path}\\n\")\n",
    "\n",
    "# Generate another edge feature in torch tensor\n",
    "edge_feat_1_path = os.path.join(base_dir, \"edge-feat-1.pt\")\n",
    "edge_feat_1 = torch.rand(num_edges, 5)\n",
    "print(f\"Part of edge feature [feat_1]: {edge_feat_1[:3, :]}\")\n",
    "torch.save(edge_feat_1, edge_feat_1_path)\n",
    "print(f\"Edge feature [feat_1] is saved to {edge_feat_1_path}\\n\")\n"
   ]
  },
  {
   "cell_type": "markdown",
   "metadata": {
    "id": "ZyqgOtsIwzh_"
   },
   "source": [
    "### Generate tasks\n",
    "`OnDiskDataset` supports multiple tasks. For each task, we need to prepare training/validation/test sets respectively. Such sets usually vary among different tasks. In this tutorial, let's create a **Node Classification** task and **Link Prediction** task."
   ]
  },
  {
   "cell_type": "markdown",
   "metadata": {
    "id": "hVxHaDIfzCkr"
   },
   "source": [
    "#### Node Classification Task\n",
    "For node classification task, we need **node IDs** and corresponding **labels** for each training/validation/test set. Like feature data, numpy arrays and torch tensors are supported for these sets."
   ]
  },
  {
   "cell_type": "code",
   "execution_count": 5,
   "metadata": {
    "execution": {
     "iopub.execute_input": "2024-08-21T13:54:52.803819Z",
     "iopub.status.busy": "2024-08-21T13:54:52.803503Z",
     "iopub.status.idle": "2024-08-21T13:54:52.813543Z",
     "shell.execute_reply": "2024-08-21T13:54:52.813036Z"
    },
    "id": "S5-fyBbHzTCO"
   },
   "outputs": [
    {
     "name": "stdout",
     "output_type": "stream",
     "text": [
      "Part of train ids for node classification: [201 854 988]\n",
      "NC train ids are saved to ./ondisk_dataset_homograph/nc-train-ids.npy\n",
      "\n",
      "Part of train labels for node classification: tensor([2, 4, 1])\n",
      "NC train labels are saved to ./ondisk_dataset_homograph/nc-train-labels.pt\n",
      "\n",
      "Part of val ids for node classification: [700 674  25]\n",
      "NC val ids are saved to ./ondisk_dataset_homograph/nc-val-ids.npy\n",
      "\n",
      "Part of val labels for node classification: tensor([1, 9, 0])\n",
      "NC val labels are saved to ./ondisk_dataset_homograph/nc-val-labels.pt\n",
      "\n",
      "Part of test ids for node classification: [890 585 284]\n",
      "NC test ids are saved to ./ondisk_dataset_homograph/nc-test-ids.npy\n",
      "\n",
      "Part of test labels for node classification: tensor([8, 8, 3])\n",
      "NC test labels are saved to ./ondisk_dataset_homograph/nc-test-labels.pt\n",
      "\n"
     ]
    }
   ],
   "source": [
    "num_trains = int(num_nodes * 0.6)\n",
    "num_vals = int(num_nodes * 0.2)\n",
    "num_tests = num_nodes - num_trains - num_vals\n",
    "\n",
    "ids = np.arange(num_nodes)\n",
    "np.random.shuffle(ids)\n",
    "\n",
    "nc_train_ids_path = os.path.join(base_dir, \"nc-train-ids.npy\")\n",
    "nc_train_ids = ids[:num_trains]\n",
    "print(f\"Part of train ids for node classification: {nc_train_ids[:3]}\")\n",
    "np.save(nc_train_ids_path, nc_train_ids)\n",
    "print(f\"NC train ids are saved to {nc_train_ids_path}\\n\")\n",
    "\n",
    "nc_train_labels_path = os.path.join(base_dir, \"nc-train-labels.pt\")\n",
    "nc_train_labels = torch.randint(0, 10, (num_trains,))\n",
    "print(f\"Part of train labels for node classification: {nc_train_labels[:3]}\")\n",
    "torch.save(nc_train_labels, nc_train_labels_path)\n",
    "print(f\"NC train labels are saved to {nc_train_labels_path}\\n\")\n",
    "\n",
    "nc_val_ids_path = os.path.join(base_dir, \"nc-val-ids.npy\")\n",
    "nc_val_ids = ids[num_trains:num_trains+num_vals]\n",
    "print(f\"Part of val ids for node classification: {nc_val_ids[:3]}\")\n",
    "np.save(nc_val_ids_path, nc_val_ids)\n",
    "print(f\"NC val ids are saved to {nc_val_ids_path}\\n\")\n",
    "\n",
    "nc_val_labels_path = os.path.join(base_dir, \"nc-val-labels.pt\")\n",
    "nc_val_labels = torch.randint(0, 10, (num_vals,))\n",
    "print(f\"Part of val labels for node classification: {nc_val_labels[:3]}\")\n",
    "torch.save(nc_val_labels, nc_val_labels_path)\n",
    "print(f\"NC val labels are saved to {nc_val_labels_path}\\n\")\n",
    "\n",
    "nc_test_ids_path = os.path.join(base_dir, \"nc-test-ids.npy\")\n",
    "nc_test_ids = ids[-num_tests:]\n",
    "print(f\"Part of test ids for node classification: {nc_test_ids[:3]}\")\n",
    "np.save(nc_test_ids_path, nc_test_ids)\n",
    "print(f\"NC test ids are saved to {nc_test_ids_path}\\n\")\n",
    "\n",
    "nc_test_labels_path = os.path.join(base_dir, \"nc-test-labels.pt\")\n",
    "nc_test_labels = torch.randint(0, 10, (num_tests,))\n",
    "print(f\"Part of test labels for node classification: {nc_test_labels[:3]}\")\n",
    "torch.save(nc_test_labels, nc_test_labels_path)\n",
    "print(f\"NC test labels are saved to {nc_test_labels_path}\\n\")"
   ]
  },
  {
   "cell_type": "markdown",
   "metadata": {
    "id": "LhAcDCHQ_KJ0"
   },
   "source": [
    "#### Link Prediction Task\n",
    "For link prediction task, we need **node pairs** or **negative src/dsts** for each training/validation/test set. Like feature data, numpy arrays and torch tensors are supported for these sets."
   ]
  },
  {
   "cell_type": "code",
   "execution_count": 6,
   "metadata": {
    "execution": {
     "iopub.execute_input": "2024-08-21T13:54:52.815974Z",
     "iopub.status.busy": "2024-08-21T13:54:52.815586Z",
     "iopub.status.idle": "2024-08-21T13:54:52.825134Z",
     "shell.execute_reply": "2024-08-21T13:54:52.824623Z"
    },
    "id": "u0jCnXIcAQy4"
   },
   "outputs": [
    {
     "name": "stdout",
     "output_type": "stream",
     "text": [
      "Part of train node pairs for link prediction: [[ 46 580]\n",
      " [800  90]\n",
      " [102  97]]\n",
      "LP train node pairs are saved to ./ondisk_dataset_homograph/lp-train-node-pairs.npy\n",
      "\n",
      "Part of val node pairs for link prediction: [[748 956]\n",
      " [156 516]\n",
      " [771 421]]\n",
      "LP val node pairs are saved to ./ondisk_dataset_homograph/lp-val-node-pairs.npy\n",
      "\n",
      "Part of val negative dsts for link prediction: tensor([[465, 291, 927, 176, 486, 104, 539, 394, 142, 547],\n",
      "        [361, 911,  31,  13, 863, 505, 450, 426, 752, 591],\n",
      "        [849, 577, 656, 989, 747, 446, 110,  35, 408, 659]])\n",
      "LP val negative dsts are saved to ./ondisk_dataset_homograph/lp-val-neg-dsts.pt\n",
      "\n",
      "Part of test node pairs for link prediction: [163 647]\n",
      "LP test node pairs are saved to ./ondisk_dataset_homograph/lp-test-node-pairs.npy\n",
      "\n",
      "Part of test negative dsts for link prediction: tensor([[549,  53, 142, 212,  48, 921, 421,  10, 231, 203],\n",
      "        [475, 400, 671, 263, 194, 727, 239, 657, 931, 396],\n",
      "        [414, 585, 594,  23, 474, 941, 843, 344, 945, 186]])\n",
      "LP test negative dsts are saved to ./ondisk_dataset_homograph/lp-test-neg-dsts.pt\n",
      "\n"
     ]
    }
   ],
   "source": [
    "num_trains = int(num_edges * 0.6)\n",
    "num_vals = int(num_edges * 0.2)\n",
    "num_tests = num_edges - num_trains - num_vals\n",
    "\n",
    "lp_train_node_pairs_path = os.path.join(base_dir, \"lp-train-node-pairs.npy\")\n",
    "lp_train_node_pairs = edges[:num_trains, :]\n",
    "print(f\"Part of train node pairs for link prediction: {lp_train_node_pairs[:3]}\")\n",
    "np.save(lp_train_node_pairs_path, lp_train_node_pairs)\n",
    "print(f\"LP train node pairs are saved to {lp_train_node_pairs_path}\\n\")\n",
    "\n",
    "lp_val_node_pairs_path = os.path.join(base_dir, \"lp-val-node-pairs.npy\")\n",
    "lp_val_node_pairs = edges[num_trains:num_trains+num_vals, :]\n",
    "print(f\"Part of val node pairs for link prediction: {lp_val_node_pairs[:3]}\")\n",
    "np.save(lp_val_node_pairs_path, lp_val_node_pairs)\n",
    "print(f\"LP val node pairs are saved to {lp_val_node_pairs_path}\\n\")\n",
    "\n",
    "lp_val_neg_dsts_path = os.path.join(base_dir, \"lp-val-neg-dsts.pt\")\n",
    "lp_val_neg_dsts = torch.randint(0, num_nodes, (num_vals, 10))\n",
    "print(f\"Part of val negative dsts for link prediction: {lp_val_neg_dsts[:3]}\")\n",
    "torch.save(lp_val_neg_dsts, lp_val_neg_dsts_path)\n",
    "print(f\"LP val negative dsts are saved to {lp_val_neg_dsts_path}\\n\")\n",
    "\n",
    "lp_test_node_pairs_path = os.path.join(base_dir, \"lp-test-node-pairs.npy\")\n",
    "lp_test_node_pairs = edges[-num_tests, :]\n",
    "print(f\"Part of test node pairs for link prediction: {lp_test_node_pairs[:3]}\")\n",
    "np.save(lp_test_node_pairs_path, lp_test_node_pairs)\n",
    "print(f\"LP test node pairs are saved to {lp_test_node_pairs_path}\\n\")\n",
    "\n",
    "lp_test_neg_dsts_path = os.path.join(base_dir, \"lp-test-neg-dsts.pt\")\n",
    "lp_test_neg_dsts = torch.randint(0, num_nodes, (num_tests, 10))\n",
    "print(f\"Part of test negative dsts for link prediction: {lp_test_neg_dsts[:3]}\")\n",
    "torch.save(lp_test_neg_dsts, lp_test_neg_dsts_path)\n",
    "print(f\"LP test negative dsts are saved to {lp_test_neg_dsts_path}\\n\")"
   ]
  },
  {
   "cell_type": "markdown",
   "metadata": {
    "id": "wbk6-wxRK-6S"
   },
   "source": [
    "## Organize Data into YAML File\n",
    "Now we need to create a `metadata.yaml` file which contains the paths, dadta types of graph structure, feature data, training/validation/test sets.\n",
    "\n",
    "Notes:\n",
    "- all path should be relative to `metadata.yaml`.\n",
    "- Below fields are optional and not specified in below example.\n",
    "  - `in_memory`: indicates whether to load dada into memory or `mmap`. Default is `True`.\n",
    "\n",
    "Please refer to [YAML specification](https://github.com/dmlc/dgl/blob/master/docs/source/stochastic_training/ondisk-dataset-specification.rst) for more details."
   ]
  },
  {
   "cell_type": "code",
   "execution_count": 7,
   "metadata": {
    "execution": {
     "iopub.execute_input": "2024-08-21T13:54:52.827530Z",
     "iopub.status.busy": "2024-08-21T13:54:52.827314Z",
     "iopub.status.idle": "2024-08-21T13:54:52.832380Z",
     "shell.execute_reply": "2024-08-21T13:54:52.831876Z"
    },
    "id": "ddGTWW61Lpwp"
   },
   "outputs": [],
   "source": [
    "yaml_content = f\"\"\"\n",
    "    dataset_name: homogeneous_graph_nc_lp\n",
    "    graph:\n",
    "      nodes:\n",
    "        - num: {num_nodes}\n",
    "      edges:\n",
    "        - format: csv\n",
    "          path: {os.path.basename(edges_path)}\n",
    "    feature_data:\n",
    "      - domain: node\n",
    "        name: feat_0\n",
    "        format: numpy\n",
    "        path: {os.path.basename(node_feat_0_path)}\n",
    "      - domain: node\n",
    "        name: feat_1\n",
    "        format: torch\n",
    "        path: {os.path.basename(node_feat_1_path)}\n",
    "      - domain: edge\n",
    "        name: feat_0\n",
    "        format: numpy\n",
    "        path: {os.path.basename(edge_feat_0_path)}\n",
    "      - domain: edge\n",
    "        name: feat_1\n",
    "        format: torch\n",
    "        path: {os.path.basename(edge_feat_1_path)}\n",
    "    tasks:\n",
    "      - name: node_classification\n",
    "        num_classes: 10\n",
    "        train_set:\n",
    "          - data:\n",
    "              - name: seed_nodes\n",
    "                format: numpy\n",
    "                path: {os.path.basename(nc_train_ids_path)}\n",
    "              - name: labels\n",
    "                format: torch\n",
    "                path: {os.path.basename(nc_train_labels_path)}\n",
    "        validation_set:\n",
    "          - data:\n",
    "              - name: seed_nodes\n",
    "                format: numpy\n",
    "                path: {os.path.basename(nc_val_ids_path)}\n",
    "              - name: labels\n",
    "                format: torch\n",
    "                path: {os.path.basename(nc_val_labels_path)}\n",
    "        test_set:\n",
    "          - data:\n",
    "              - name: seed_nodes\n",
    "                format: numpy\n",
    "                path: {os.path.basename(nc_test_ids_path)}\n",
    "              - name: labels\n",
    "                format: torch\n",
    "                path: {os.path.basename(nc_test_labels_path)}\n",
    "      - name: link_prediction\n",
    "        num_classes: 10\n",
    "        train_set:\n",
    "          - data:\n",
    "              - name: node_pairs\n",
    "                format: numpy\n",
    "                path: {os.path.basename(lp_train_node_pairs_path)}\n",
    "        validation_set:\n",
    "          - data:\n",
    "              - name: node_pairs\n",
    "                format: numpy\n",
    "                path: {os.path.basename(lp_val_node_pairs_path)}\n",
    "              - name: negative_dsts\n",
    "                format: torch\n",
    "                path: {os.path.basename(lp_val_neg_dsts_path)}\n",
    "        test_set:\n",
    "          - data:\n",
    "              - name: node_pairs\n",
    "                format: numpy\n",
    "                path: {os.path.basename(lp_test_node_pairs_path)}\n",
    "              - name: negative_dsts\n",
    "                format: torch\n",
    "                path: {os.path.basename(lp_test_neg_dsts_path)}\n",
    "\"\"\"\n",
    "metadata_path = os.path.join(base_dir, \"metadata.yaml\")\n",
    "with open(metadata_path, \"w\") as f:\n",
    "  f.write(yaml_content)"
   ]
  },
  {
   "cell_type": "markdown",
   "metadata": {
    "id": "kEfybHGhOW7O"
   },
   "source": [
    "## Instantiate `OnDiskDataset`\n",
    "Now we're ready to load dataset via `dgl.graphbolt.OnDiskDataset`. When instantiating, we just pass in the base directory where `metadata.yaml` file lies.\n",
    "\n",
    "During first instantiation, GraphBolt preprocesses the raw data such as constructing `FusedCSCSamplingGraph` from edges. All data including graph, feature data, training/validation/test sets are put into `preprocessed` directory after preprocessing. Any following dataset loading will skip the preprocess stage.\n",
    "\n",
    "After preprocessing, `load()` is required to be called explicitly in order to load graph, feature data and tasks."
   ]
  },
  {
   "cell_type": "code",
   "execution_count": 8,
   "metadata": {
    "execution": {
     "iopub.execute_input": "2024-08-21T13:54:52.834643Z",
     "iopub.status.busy": "2024-08-21T13:54:52.834327Z",
     "iopub.status.idle": "2024-08-21T13:54:52.861423Z",
     "shell.execute_reply": "2024-08-21T13:54:52.860889Z"
    },
    "id": "W58CZoSzOiyo"
   },
   "outputs": [
    {
     "name": "stdout",
     "output_type": "stream",
     "text": [
      "The dataset is already preprocessed.\n",
      "Loaded graph: FusedCSCSamplingGraph(csc_indptr=tensor([    0,    12,    19,  ...,  9985,  9991, 10000], dtype=torch.int32),\n",
      "                      indices=tensor([465, 793, 225,  ..., 354, 567, 488], dtype=torch.int32),\n",
      "                      num_nodes=1000, num_edges=10000)\n",
      "\n",
      "Loaded feature store: TorchBasedFeatureStore{(<OnDiskFeatureDataDomain.NODE: 'node'>, None, 'feat_0'): TorchBasedFeature(feature=tensor([[0.5938, 0.0360, 0.4384, 0.9291, 0.7204],\n",
      "                                                        [0.3996, 0.2049, 0.2790, 0.7978, 0.0703],\n",
      "                                                        [0.1570, 0.6355, 0.4369, 0.7683, 0.2727],\n",
      "                                                        ...,\n",
      "                                                        [0.2230, 0.5673, 0.9161, 0.4999, 0.6048],\n",
      "                                                        [0.4922, 0.7115, 0.8926, 0.1135, 0.0335],\n",
      "                                                        [0.3860, 0.2000, 0.7966, 0.9631, 0.4570]], dtype=torch.float64),\n",
      "                                        metadata={},\n",
      "                      ), (<OnDiskFeatureDataDomain.NODE: 'node'>, None, 'feat_1'): TorchBasedFeature(feature=tensor([[0.2295, 0.8203, 0.6344, 0.3479, 0.5651],\n",
      "                                                        [0.9646, 0.2527, 0.0208, 0.3305, 0.6901],\n",
      "                                                        [0.1338, 0.4436, 0.7490, 0.8737, 0.5993],\n",
      "                                                        ...,\n",
      "                                                        [0.8593, 0.6618, 0.8361, 0.3397, 0.3807],\n",
      "                                                        [0.6818, 0.6598, 0.1473, 0.8336, 0.3513],\n",
      "                                                        [0.6052, 0.1376, 0.3758, 0.4280, 0.2585]]),\n",
      "                                        metadata={},\n",
      "                      ), (<OnDiskFeatureDataDomain.EDGE: 'edge'>, None, 'feat_0'): TorchBasedFeature(feature=tensor([[0.0195, 0.5611, 0.1279, 0.9450, 0.1974],\n",
      "                                                        [0.8658, 0.9131, 0.1363, 0.9771, 0.9121],\n",
      "                                                        [0.7737, 0.4098, 0.0236, 0.2517, 0.1588],\n",
      "                                                        ...,\n",
      "                                                        [0.2561, 0.9877, 0.5715, 0.7348, 0.4221],\n",
      "                                                        [0.5491, 0.3653, 0.0662, 0.0957, 0.3982],\n",
      "                                                        [0.4470, 0.7646, 0.6962, 0.6467, 0.7481]], dtype=torch.float64),\n",
      "                                        metadata={},\n",
      "                      ), (<OnDiskFeatureDataDomain.EDGE: 'edge'>, None, 'feat_1'): TorchBasedFeature(feature=tensor([[0.5896, 0.6875, 0.9945, 0.1254, 0.8766],\n",
      "                                                        [0.1509, 0.2224, 0.3988, 0.7684, 0.3357],\n",
      "                                                        [0.7465, 0.0809, 0.0279, 0.0342, 0.9863],\n",
      "                                                        ...,\n",
      "                                                        [0.9442, 0.2938, 0.8117, 0.8246, 0.0200],\n",
      "                                                        [0.9829, 0.4432, 0.0721, 0.5499, 0.1354],\n",
      "                                                        [0.0265, 0.9859, 0.4202, 0.5655, 0.9658]]),\n",
      "                                        metadata={},\n",
      "                      )}\n",
      "\n",
      "Loaded node classification task: OnDiskTask(validation_set=ItemSet(items=(tensor([911, 631, 529, 374, 886, 848, 467, 755, 565, 613, 670, 560, 335,  12,\n",
      "                                                448, 109,  63, 130, 728, 354, 500,  13, 607, 527, 729, 480, 404, 914,\n",
      "                                                586, 246, 227, 680, 367, 531, 251, 749, 220, 786, 239, 860, 922, 408,\n",
      "                                                317, 471, 556,  39,  94, 718, 878, 188,  10, 278, 857, 945, 946, 800,\n",
      "                                                769,  34, 358, 226, 619, 559, 609, 273, 125, 567, 443, 334,  30, 524,\n",
      "                                                391, 810, 282, 595, 212, 798, 561,  68, 632, 801, 994, 254, 780, 336,\n",
      "                                                944,  55, 195, 639, 630, 622, 133, 627, 356, 265, 413, 121, 389, 523,\n",
      "                                                853, 837, 306, 828, 791,  32, 477, 819, 221, 397, 699, 159, 329, 602,\n",
      "                                                651, 101, 867, 552, 295,  76,  46,  72, 604, 907, 826, 958, 673, 279,\n",
      "                                                899,  44, 219, 601, 455, 963, 150,  38, 432, 656, 594, 497, 323, 858,\n",
      "                                                181,  57, 293, 192,  43, 342, 166, 537, 363, 332, 685, 498, 742, 384,\n",
      "                                                 48, 883, 696, 179, 824, 779, 225, 884, 420, 543, 964,  15,  89, 473,\n",
      "                                                764, 665, 139, 145, 784, 661, 433, 821, 290, 252, 476, 446, 502, 158,\n",
      "                                                563, 666, 753, 982, 380, 399, 228, 453,  47, 687, 275, 206, 839, 674,\n",
      "                                                803, 845, 684, 185], dtype=torch.int32), tensor([5, 2, 7, 7, 0, 4, 5, 6, 4, 0, 5, 0, 6, 2, 4, 3, 0, 6, 1, 8, 6, 5, 1, 9,\n",
      "                                                6, 4, 7, 2, 9, 1, 5, 6, 3, 3, 1, 1, 5, 6, 1, 6, 0, 0, 3, 6, 0, 1, 3, 4,\n",
      "                                                6, 9, 9, 0, 8, 9, 2, 5, 9, 6, 7, 0, 0, 2, 6, 0, 1, 9, 0, 2, 5, 0, 6, 9,\n",
      "                                                7, 5, 0, 7, 7, 8, 4, 2, 0, 1, 4, 7, 9, 9, 9, 8, 4, 9, 1, 7, 3, 3, 6, 1,\n",
      "                                                7, 4, 4, 8, 5, 3, 3, 8, 4, 4, 2, 3, 6, 1, 2, 2, 3, 8, 8, 7, 4, 1, 3, 8,\n",
      "                                                0, 3, 6, 5, 1, 5, 5, 9, 9, 2, 1, 1, 7, 5, 1, 0, 9, 5, 9, 7, 3, 6, 2, 8,\n",
      "                                                0, 8, 0, 4, 2, 0, 9, 3, 0, 1, 3, 2, 1, 3, 2, 6, 1, 9, 6, 6, 7, 2, 5, 2,\n",
      "                                                5, 3, 6, 0, 7, 9, 8, 2, 0, 9, 9, 5, 0, 2, 5, 1, 1, 4, 0, 5, 2, 5, 7, 1,\n",
      "                                                9, 0, 8, 4, 3, 5, 1, 6])),\n",
      "                                  names=('seeds', 'labels'),\n",
      "                          ),\n",
      "           train_set=ItemSet(items=(tensor([209, 294, 838, 993, 924,  17, 788, 468, 683, 479, 792, 419, 128, 196,\n",
      "                                           737, 165, 160, 340, 189, 286, 244, 383, 778,  75, 515, 516, 900, 952,\n",
      "                                           689,  45, 518, 850, 276, 494, 507,  73,   5, 352, 171, 701, 572, 912,\n",
      "                                           315, 190, 270, 722, 898, 458,   6,  29, 879, 614, 360, 762, 578, 411,\n",
      "                                           222, 965,  24,  88, 406, 808, 746, 470, 797, 204, 217, 640, 127, 452,\n",
      "                                           998, 388, 521, 942, 418, 968,  85, 284, 362, 307, 790, 241, 135, 551,\n",
      "                                           870, 795, 940, 111, 658, 233, 698, 703, 423, 416, 148, 407, 566, 386,\n",
      "                                           108, 555, 608, 116, 218, 459, 100, 938,  19, 688, 735, 545, 817,  52,\n",
      "                                           931, 947, 620, 271, 654,  74, 299, 205, 713, 652, 134, 659, 395, 663,\n",
      "                                           437, 298, 904, 891, 777, 708, 836, 177, 758, 989, 809, 410, 143, 425,\n",
      "                                           439, 375, 421, 379, 846, 822, 815, 474, 344, 343, 745, 361, 267, 813,\n",
      "                                           256, 781, 536, 274, 664, 793, 259, 422, 149, 231, 176, 296,  14, 711,\n",
      "                                           182, 603, 266, 183, 934,  53, 757, 851, 496,  59, 773, 261, 478, 700,\n",
      "                                           871, 568, 794, 376, 357, 124,  66,  95, 248, 141, 990, 530, 584, 238,\n",
      "                                           921, 550, 576, 202, 304, 920, 988, 772, 224, 164,  99, 152, 864, 187,\n",
      "                                           807, 297, 731, 450, 301, 861,  80, 236, 997, 105, 178, 330,  81, 558,\n",
      "                                           110, 716, 754, 349, 466, 511, 214, 120, 789, 539, 519, 520, 541, 281,\n",
      "                                           486, 866, 577, 799, 136, 610, 987, 692, 641, 348, 775, 679, 902, 691,\n",
      "                                           300, 863, 682, 115, 173,  56, 126, 457, 635, 634, 403, 892,  28, 378,\n",
      "                                           289, 617, 161, 895, 667, 493, 582, 431, 414, 316, 438, 153, 916, 690,\n",
      "                                           394, 461, 513, 818, 642, 862, 776, 736,  93, 328, 834, 765, 229, 752,\n",
      "                                           483,  82,  49, 326, 103, 535,   8, 325, 615, 649,  91, 245, 154, 426,\n",
      "                                           925, 681, 258,  86, 806, 590, 796, 976, 114,  41, 549, 260, 734, 888,\n",
      "                                           322, 312, 131, 830, 910, 869, 760, 992, 625, 872, 517, 155, 596, 767,\n",
      "                                           194, 548, 538, 756,  58, 285, 449, 174, 591, 562, 882, 393, 547,  97,\n",
      "                                           203, 146, 996, 444,  54, 484, 598, 102, 525, 359, 975, 280, 324,  64,\n",
      "                                           268, 573, 319, 333,  23, 581, 232, 506, 210, 373, 309, 859, 350, 724,\n",
      "                                           442, 978, 915, 292, 950, 199, 263, 501, 726, 648,  37, 346, 971, 831,\n",
      "                                           207, 909, 505, 107, 370, 969, 129, 811, 727, 364, 720, 575, 390, 508,\n",
      "                                           243, 247, 820, 132, 454,  71, 469,  36, 522, 919, 949, 605, 937, 157,\n",
      "                                           936, 253, 417, 644, 208, 355, 844,  25, 147, 873, 387, 198,  87, 973,\n",
      "                                           733,  62, 761, 678, 657,   0, 885, 715, 163, 368, 927, 787, 463, 979,\n",
      "                                           668, 638,  18, 175, 714, 655, 398, 104, 897,  51, 903, 144, 677, 751,\n",
      "                                           832, 930, 693, 180, 570, 951, 804, 868, 142, 528, 653, 984, 503, 941,\n",
      "                                           783, 331, 929, 451, 396,  61, 852, 546, 662, 977, 118, 193, 542, 585,\n",
      "                                           953, 277, 981, 215, 592, 488, 436, 365, 960, 200,  27, 235, 962, 170,\n",
      "                                           372, 168, 412, 706, 957, 814, 616, 430, 923, 660, 643, 901, 763, 313,\n",
      "                                           172,  84, 320, 695, 409, 717, 705, 305, 600, 347, 967,  83, 140, 460,\n",
      "                                           264, 481, 564,   3, 509, 250, 854, 719, 743, 240, 771, 191, 269, 980,\n",
      "                                           117, 338, 402, 201, 504, 943, 514, 710, 983, 905, 184, 948, 272, 216,\n",
      "                                           636,  69, 255, 579, 428, 730, 621, 569,  98,  67, 841, 686, 544, 676,\n",
      "                                           612, 234, 955, 738, 424, 847,  33, 465, 574,  60, 918, 732, 825, 637,\n",
      "                                           167, 366, 917, 697, 827, 833, 510, 303, 954, 611, 580, 327],\n",
      "                                          dtype=torch.int32), tensor([6, 5, 6, 6, 4, 8, 7, 0, 5, 9, 2, 1, 3, 0, 6, 3, 1, 1, 8, 1, 5, 0, 2, 5,\n",
      "                                           5, 3, 6, 0, 9, 9, 8, 6, 1, 1, 8, 6, 3, 0, 7, 4, 0, 1, 8, 3, 0, 7, 8, 8,\n",
      "                                           6, 0, 2, 8, 8, 9, 1, 7, 3, 0, 6, 6, 8, 3, 9, 1, 1, 5, 4, 9, 7, 7, 7, 3,\n",
      "                                           2, 9, 7, 3, 2, 4, 8, 6, 4, 1, 3, 5, 1, 3, 5, 5, 8, 5, 0, 7, 0, 3, 3, 8,\n",
      "                                           5, 5, 0, 8, 8, 6, 6, 1, 4, 6, 9, 0, 8, 5, 2, 6, 9, 0, 3, 7, 5, 6, 3, 8,\n",
      "                                           3, 0, 2, 5, 0, 0, 5, 0, 6, 3, 1, 1, 6, 3, 9, 7, 4, 6, 6, 0, 7, 2, 4, 9,\n",
      "                                           4, 9, 3, 1, 7, 2, 1, 3, 5, 5, 9, 1, 7, 3, 7, 1, 0, 9, 1, 0, 0, 4, 5, 9,\n",
      "                                           3, 4, 4, 7, 3, 0, 0, 5, 8, 8, 4, 8, 5, 1, 3, 4, 5, 8, 7, 5, 7, 5, 6, 0,\n",
      "                                           6, 6, 6, 6, 9, 2, 5, 9, 3, 1, 0, 3, 5, 1, 7, 9, 4, 5, 4, 6, 4, 1, 0, 6,\n",
      "                                           4, 5, 1, 2, 8, 4, 1, 3, 4, 5, 2, 8, 5, 6, 2, 3, 2, 1, 4, 2, 8, 0, 5, 6,\n",
      "                                           9, 7, 3, 4, 7, 2, 8, 8, 8, 4, 9, 3, 6, 4, 1, 6, 1, 3, 9, 1, 3, 8, 9, 5,\n",
      "                                           1, 9, 5, 5, 6, 1, 9, 8, 2, 0, 8, 4, 7, 1, 5, 7, 6, 4, 2, 8, 7, 6, 7, 5,\n",
      "                                           3, 3, 8, 6, 4, 0, 9, 7, 3, 4, 6, 3, 2, 5, 7, 9, 3, 5, 9, 0, 6, 9, 2, 5,\n",
      "                                           2, 4, 2, 2, 1, 1, 6, 8, 9, 0, 1, 6, 3, 3, 4, 2, 8, 1, 1, 7, 9, 0, 2, 7,\n",
      "                                           0, 8, 2, 7, 6, 7, 1, 7, 5, 3, 6, 9, 9, 0, 3, 4, 3, 6, 2, 4, 1, 1, 8, 3,\n",
      "                                           0, 8, 5, 6, 6, 0, 8, 2, 2, 2, 2, 5, 0, 3, 8, 9, 7, 7, 9, 6, 4, 5, 1, 1,\n",
      "                                           9, 5, 6, 4, 3, 1, 7, 8, 6, 1, 2, 9, 6, 5, 6, 6, 4, 7, 8, 3, 0, 8, 1, 1,\n",
      "                                           9, 6, 6, 1, 7, 3, 0, 9, 0, 2, 2, 5, 1, 7, 5, 4, 7, 1, 3, 7, 1, 6, 5, 3,\n",
      "                                           8, 9, 8, 8, 1, 9, 2, 0, 6, 8, 9, 5, 1, 7, 2, 1, 6, 3, 6, 5, 1, 0, 0, 3,\n",
      "                                           8, 1, 5, 5, 5, 7, 8, 7, 0, 0, 8, 0, 3, 6, 5, 8, 8, 4, 7, 3, 0, 9, 1, 6,\n",
      "                                           8, 2, 4, 2, 8, 0, 3, 3, 0, 0, 9, 5, 0, 7, 4, 7, 6, 4, 1, 8, 2, 1, 0, 0,\n",
      "                                           1, 2, 2, 9, 9, 8, 3, 4, 6, 2, 7, 9, 8, 0, 1, 7, 0, 9, 3, 2, 7, 8, 3, 1,\n",
      "                                           8, 8, 5, 7, 1, 0, 7, 3, 4, 1, 1, 8, 3, 5, 7, 8, 7, 1, 7, 9, 9, 3, 7, 4,\n",
      "                                           6, 4, 4, 8, 7, 6, 8, 3, 9, 3, 1, 4, 9, 1, 3, 5, 6, 9, 9, 3, 7, 5, 5, 8,\n",
      "                                           2, 8, 4, 6, 1, 7, 9, 9, 3, 1, 7, 9, 2, 8, 3, 0, 0, 1, 3, 6, 9, 6, 4, 3])),\n",
      "                             names=('seeds', 'labels'),\n",
      "                     ),\n",
      "           test_set=ItemSet(items=(tensor([429, 151, 345, 709,  21,  35, 646, 759, 629, 534, 889, 401, 137, 257,\n",
      "                                          318, 237, 624, 599,  90, 802, 211, 623, 489, 881, 991, 512, 587,  20,\n",
      "                                          985, 447, 855, 487, 557, 291, 747, 671,  16, 382, 829, 812, 782, 741,\n",
      "                                          740,  50, 999, 893, 669, 119, 768, 440, 876, 308, 896, 445, 707, 725,\n",
      "                                          405, 369, 491, 341, 400, 774,  96, 894, 880, 353, 974, 441, 287, 647,\n",
      "                                          371, 156, 490, 302, 939, 262, 311, 672, 712, 823, 472, 840, 495, 874,\n",
      "                                          906, 213, 571, 464, 482, 113, 597, 553, 626, 223, 554, 972, 169,  42,\n",
      "                                          427, 138, 633, 540, 533, 310, 385, 748, 675, 875, 933, 337, 377, 197,\n",
      "                                          959,  22, 112, 816, 492, 475, 123,   2, 956, 770, 618,  40, 283, 702,\n",
      "                                          392, 877, 589, 230, 122, 805,  31, 932, 351, 526, 856, 242, 415, 843,\n",
      "                                          721, 435, 106, 744,  77,  70, 908, 583, 485, 750,  11, 249, 321, 966,\n",
      "                                          162, 739, 785, 970, 849,   7, 694,  79, 456, 588, 835, 288, 186, 650,\n",
      "                                          723, 606, 766,   4,  92, 628, 314, 434, 995,  78, 926, 532, 961,  26,\n",
      "                                          339, 462, 842, 928, 935,   9, 645, 593, 381, 887, 704, 890,   1, 865,\n",
      "                                          986,  65, 499, 913], dtype=torch.int32), tensor([9, 3, 3, 5, 0, 7, 7, 7, 0, 3, 4, 2, 6, 6, 6, 2, 1, 3, 3, 5, 7, 4, 3, 9,\n",
      "                                          4, 5, 4, 3, 3, 5, 0, 6, 1, 3, 9, 6, 3, 2, 8, 9, 0, 3, 2, 2, 5, 2, 7, 0,\n",
      "                                          9, 6, 8, 9, 9, 2, 2, 5, 0, 6, 2, 7, 0, 8, 0, 2, 6, 3, 6, 6, 2, 8, 0, 7,\n",
      "                                          5, 0, 4, 2, 7, 8, 5, 9, 5, 3, 6, 4, 3, 4, 2, 3, 9, 3, 3, 2, 1, 6, 4, 6,\n",
      "                                          8, 9, 8, 5, 8, 3, 0, 2, 5, 5, 7, 1, 0, 0, 7, 8, 1, 8, 5, 2, 9, 4, 3, 1,\n",
      "                                          4, 8, 8, 7, 9, 8, 0, 9, 9, 6, 3, 0, 0, 3, 2, 2, 5, 3, 0, 9, 1, 0, 5, 1,\n",
      "                                          1, 4, 8, 0, 7, 4, 8, 7, 9, 5, 4, 1, 3, 6, 1, 4, 0, 1, 4, 3, 9, 1, 3, 4,\n",
      "                                          2, 9, 1, 3, 6, 7, 9, 1, 1, 6, 3, 9, 3, 6, 7, 5, 1, 9, 4, 8, 8, 5, 9, 3,\n",
      "                                          8, 9, 0, 9, 5, 6, 2, 4])),\n",
      "                            names=('seeds', 'labels'),\n",
      "                    ),\n",
      "           metadata={'name': 'node_classification', 'num_classes': 10},\n",
      ")\n",
      "\n",
      "Loaded link prediction task: OnDiskTask(validation_set=ItemSet(items=(tensor([[715, 106],\n",
      "                                                [245,  12],\n",
      "                                                [353, 404],\n",
      "                                                ...,\n",
      "                                                [391, 717],\n",
      "                                                [391, 445],\n",
      "                                                [391, 256]], dtype=torch.int32), tensor([1., 1., 1.,  ..., 0., 0., 0.], dtype=torch.float64), tensor([   0,    1,    2,  ..., 1999, 1999, 1999])),\n",
      "                                  names=('seeds', 'labels', 'indexes'),\n",
      "                          ),\n",
      "           train_set=ItemSet(items=(tensor([[281,  99],\n",
      "                                           [358, 355],\n",
      "                                           [564, 348],\n",
      "                                           ...,\n",
      "                                           [250, 481],\n",
      "                                           [971, 575],\n",
      "                                           [272, 400]], dtype=torch.int32),),\n",
      "                             names=('seeds',),\n",
      "                     ),\n",
      "           test_set=ItemSet(items=(tensor([[374, 396],\n",
      "                                          [127,  45],\n",
      "                                          [609, 644],\n",
      "                                          ...,\n",
      "                                          [  7, 402],\n",
      "                                          [  7, 650],\n",
      "                                          [  7, 465]], dtype=torch.int32), tensor([1., 1., 1.,  ..., 0., 0., 0.], dtype=torch.float64), tensor([   0,    1,    2,  ..., 1999, 1999, 1999])),\n",
      "                            names=('seeds', 'labels', 'indexes'),\n",
      "                    ),\n",
      "           metadata={'name': 'link_prediction', 'num_classes': 10},\n",
      ")\n",
      "\n"
     ]
    }
   ],
   "source": [
    "dataset = gb.OnDiskDataset(base_dir).load()\n",
    "graph = dataset.graph\n",
    "print(f\"Loaded graph: {graph}\\n\")\n",
    "\n",
    "feature = dataset.feature\n",
    "print(f\"Loaded feature store: {feature}\\n\")\n",
    "\n",
    "tasks = dataset.tasks\n",
    "nc_task = tasks[0]\n",
    "print(f\"Loaded node classification task: {nc_task}\\n\")\n",
    "lp_task = tasks[1]\n",
    "print(f\"Loaded link prediction task: {lp_task}\\n\")"
   ]
  }
 ],
 "metadata": {
  "colab": {
   "private_outputs": true,
   "provenance": []
  },
  "kernelspec": {
   "display_name": "Python 3",
   "name": "python3"
  },
  "language_info": {
   "codemirror_mode": {
    "name": "ipython",
    "version": 3
   },
   "file_extension": ".py",
   "mimetype": "text/x-python",
   "name": "python",
   "nbconvert_exporter": "python",
   "pygments_lexer": "ipython3",
   "version": "3.10.14"
  }
 },
 "nbformat": 4,
 "nbformat_minor": 0
}

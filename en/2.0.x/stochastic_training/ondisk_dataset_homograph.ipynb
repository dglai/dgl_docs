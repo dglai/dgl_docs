{
 "cells": [
  {
   "cell_type": "markdown",
   "metadata": {
    "id": "FnFhPMaAfLtJ"
   },
   "source": [
    "# OnDiskDataset for Homogeneous Graph\n",
    "\n",
    "[![Open In Colab](https://colab.research.google.com/assets/colab-badge.svg)](https://colab.research.google.com/github/dmlc/dgl/blob/master/notebooks/stochastic_training/ondisk_dataset_homograph.ipynb) [![GitHub](https://img.shields.io/badge/-View%20on%20GitHub-181717?logo=github&logoColor=ffffff)](https://github.com/dmlc/dgl/blob/master/notebooks/stochastic_training/ondisk_dataset_homograph.ipynb)\n",
    "\n",
    "This tutorial shows how to create `OnDiskDataset` for homogeneous graph that could be used in **GraphBolt** framework.\n",
    "\n",
    "By the end of this tutorial, you will be able to\n",
    "\n",
    "- organize graph structure data.\n",
    "- organize feature data.\n",
    "- organize training/validation/test set for specific tasks.\n",
    "\n",
    "To create an ``OnDiskDataset`` object, you need to organize all the data including graph structure, feature data and tasks into a directory. The directory should contain a ``metadata.yaml`` file that describes the metadata of the dataset.\n",
    "\n",
    "Now let's generate various data step by step and organize them together to instantiate `OnDiskDataset` finally."
   ]
  },
  {
   "cell_type": "markdown",
   "metadata": {
    "id": "Wlb19DtWgtzq"
   },
   "source": [
    "## Install DGL package"
   ]
  },
  {
   "cell_type": "code",
   "execution_count": 1,
   "metadata": {
    "execution": {
     "iopub.execute_input": "2024-08-21T10:26:43.691068Z",
     "iopub.status.busy": "2024-08-21T10:26:43.690648Z",
     "iopub.status.idle": "2024-08-21T10:26:47.432390Z",
     "shell.execute_reply": "2024-08-21T10:26:47.431758Z"
    },
    "id": "UojlT9ZGgyr9"
   },
   "outputs": [
    {
     "name": "stdout",
     "output_type": "stream",
     "text": [
      "Looking in links: https://data.dgl.ai/wheels-test/repo.html\r\n",
      "Requirement already satisfied: dgl in /opt/conda/envs/dgl-dev-cpu/lib/python3.10/site-packages (2.2a240410)\r\n",
      "Requirement already satisfied: numpy>=1.14.0 in /opt/conda/envs/dgl-dev-cpu/lib/python3.10/site-packages (from dgl) (1.26.4)\r\n",
      "Requirement already satisfied: scipy>=1.1.0 in /opt/conda/envs/dgl-dev-cpu/lib/python3.10/site-packages (from dgl) (1.14.0)\r\n",
      "Requirement already satisfied: networkx>=2.1 in /opt/conda/envs/dgl-dev-cpu/lib/python3.10/site-packages (from dgl) (3.3)\r\n",
      "Requirement already satisfied: requests>=2.19.0 in /opt/conda/envs/dgl-dev-cpu/lib/python3.10/site-packages (from dgl) (2.32.3)\r\n",
      "Requirement already satisfied: tqdm in /opt/conda/envs/dgl-dev-cpu/lib/python3.10/site-packages (from dgl) (4.66.5)\r\n",
      "Requirement already satisfied: psutil>=5.8.0 in /opt/conda/envs/dgl-dev-cpu/lib/python3.10/site-packages (from dgl) (6.0.0)\r\n",
      "Requirement already satisfied: torchdata>=0.5.0 in /opt/conda/envs/dgl-dev-cpu/lib/python3.10/site-packages (from dgl) (0.7.1+6427ed9)\r\n",
      "Requirement already satisfied: pandas in /opt/conda/envs/dgl-dev-cpu/lib/python3.10/site-packages (from dgl) (2.2.2)\r\n",
      "Requirement already satisfied: charset-normalizer<4,>=2 in /opt/conda/envs/dgl-dev-cpu/lib/python3.10/site-packages (from requests>=2.19.0->dgl) (3.3.2)\r\n",
      "Requirement already satisfied: idna<4,>=2.5 in /opt/conda/envs/dgl-dev-cpu/lib/python3.10/site-packages (from requests>=2.19.0->dgl) (3.7)\r\n",
      "Requirement already satisfied: urllib3<3,>=1.21.1 in /opt/conda/envs/dgl-dev-cpu/lib/python3.10/site-packages (from requests>=2.19.0->dgl) (2.2.2)\r\n",
      "Requirement already satisfied: certifi>=2017.4.17 in /opt/conda/envs/dgl-dev-cpu/lib/python3.10/site-packages (from requests>=2.19.0->dgl) (2024.7.4)\r\n",
      "Requirement already satisfied: torch>=2 in /opt/conda/envs/dgl-dev-cpu/lib/python3.10/site-packages (from torchdata>=0.5.0->dgl) (2.1.0+cpu)\r\n"
     ]
    },
    {
     "name": "stdout",
     "output_type": "stream",
     "text": [
      "Requirement already satisfied: python-dateutil>=2.8.2 in /opt/conda/envs/dgl-dev-cpu/lib/python3.10/site-packages (from pandas->dgl) (2.9.0.post0)\r\n",
      "Requirement already satisfied: pytz>=2020.1 in /opt/conda/envs/dgl-dev-cpu/lib/python3.10/site-packages (from pandas->dgl) (2024.1)\r\n",
      "Requirement already satisfied: tzdata>=2022.7 in /opt/conda/envs/dgl-dev-cpu/lib/python3.10/site-packages (from pandas->dgl) (2024.1)\r\n",
      "Requirement already satisfied: six>=1.5 in /opt/conda/envs/dgl-dev-cpu/lib/python3.10/site-packages (from python-dateutil>=2.8.2->pandas->dgl) (1.16.0)\r\n",
      "Requirement already satisfied: filelock in /opt/conda/envs/dgl-dev-cpu/lib/python3.10/site-packages (from torch>=2->torchdata>=0.5.0->dgl) (3.15.4)\r\n",
      "Requirement already satisfied: typing-extensions in /opt/conda/envs/dgl-dev-cpu/lib/python3.10/site-packages (from torch>=2->torchdata>=0.5.0->dgl) (4.12.2)\r\n",
      "Requirement already satisfied: sympy in /opt/conda/envs/dgl-dev-cpu/lib/python3.10/site-packages (from torch>=2->torchdata>=0.5.0->dgl) (1.13.2)\r\n",
      "Requirement already satisfied: jinja2 in /opt/conda/envs/dgl-dev-cpu/lib/python3.10/site-packages (from torch>=2->torchdata>=0.5.0->dgl) (3.1.4)\r\n",
      "Requirement already satisfied: fsspec in /opt/conda/envs/dgl-dev-cpu/lib/python3.10/site-packages (from torch>=2->torchdata>=0.5.0->dgl) (2024.6.1)\r\n"
     ]
    },
    {
     "name": "stdout",
     "output_type": "stream",
     "text": [
      "Requirement already satisfied: MarkupSafe>=2.0 in /opt/conda/envs/dgl-dev-cpu/lib/python3.10/site-packages (from jinja2->torch>=2->torchdata>=0.5.0->dgl) (2.1.5)\r\n",
      "Requirement already satisfied: mpmath<1.4,>=1.1.0 in /opt/conda/envs/dgl-dev-cpu/lib/python3.10/site-packages (from sympy->torch>=2->torchdata>=0.5.0->dgl) (1.3.0)\r\n"
     ]
    },
    {
     "name": "stdout",
     "output_type": "stream",
     "text": [
      "DGL installed!\n"
     ]
    }
   ],
   "source": [
    "# Install required packages.\n",
    "import os\n",
    "import torch\n",
    "import numpy as np\n",
    "os.environ['TORCH'] = torch.__version__\n",
    "os.environ['DGLBACKEND'] = \"pytorch\"\n",
    "\n",
    "# Install the CPU version.\n",
    "device = torch.device(\"cpu\")\n",
    "!pip install --pre dgl -f https://data.dgl.ai/wheels-test/repo.html\n",
    "\n",
    "try:\n",
    "    import dgl\n",
    "    import dgl.graphbolt as gb\n",
    "    installed = True\n",
    "except ImportError as error:\n",
    "    installed = False\n",
    "    print(error)\n",
    "print(\"DGL installed!\" if installed else \"DGL not found!\")"
   ]
  },
  {
   "cell_type": "markdown",
   "metadata": {
    "id": "2R7WnSbjsfbr"
   },
   "source": [
    "## Data preparation\n",
    "In order to demonstrate how to organize various data, let's create a base directory first."
   ]
  },
  {
   "cell_type": "code",
   "execution_count": 2,
   "metadata": {
    "execution": {
     "iopub.execute_input": "2024-08-21T10:26:47.435127Z",
     "iopub.status.busy": "2024-08-21T10:26:47.434673Z",
     "iopub.status.idle": "2024-08-21T10:26:47.438332Z",
     "shell.execute_reply": "2024-08-21T10:26:47.437816Z"
    },
    "id": "SZipbzyltLfO"
   },
   "outputs": [
    {
     "name": "stdout",
     "output_type": "stream",
     "text": [
      "Created base directory: ./ondisk_dataset_homograph\n"
     ]
    }
   ],
   "source": [
    "base_dir = './ondisk_dataset_homograph'\n",
    "os.makedirs(base_dir, exist_ok=True)\n",
    "print(f\"Created base directory: {base_dir}\")"
   ]
  },
  {
   "cell_type": "markdown",
   "metadata": {
    "id": "qhNtIn_xhlnl"
   },
   "source": [
    "### Generate graph structure data\n",
    "For homogeneous graph, we just need to save edges(namely node pairs) into **CSV** file.\n",
    "\n",
    "Note:\n",
    "when saving to file, do not save index and header.\n"
   ]
  },
  {
   "cell_type": "code",
   "execution_count": 3,
   "metadata": {
    "execution": {
     "iopub.execute_input": "2024-08-21T10:26:47.440738Z",
     "iopub.status.busy": "2024-08-21T10:26:47.440357Z",
     "iopub.status.idle": "2024-08-21T10:26:47.452258Z",
     "shell.execute_reply": "2024-08-21T10:26:47.451738Z"
    },
    "id": "HcBt4G5BmSjr"
   },
   "outputs": [
    {
     "name": "stdout",
     "output_type": "stream",
     "text": [
      "Part of edges: [[493 863]\n",
      " [244 953]\n",
      " [482 531]\n",
      " [105  88]\n",
      " [424  51]]\n",
      "Edges are saved into ./ondisk_dataset_homograph/edges.csv\n"
     ]
    }
   ],
   "source": [
    "import numpy as np\n",
    "import pandas as pd\n",
    "num_nodes = 1000\n",
    "num_edges = 10 * num_nodes\n",
    "edges_path = os.path.join(base_dir, \"edges.csv\")\n",
    "edges = np.random.randint(0, num_nodes, size=(num_edges, 2))\n",
    "\n",
    "print(f\"Part of edges: {edges[:5, :]}\")\n",
    "\n",
    "df = pd.DataFrame(edges)\n",
    "df.to_csv(edges_path, index=False, header=False)\n",
    "\n",
    "print(f\"Edges are saved into {edges_path}\")"
   ]
  },
  {
   "cell_type": "markdown",
   "metadata": {
    "id": "kh-4cPtzpcaH"
   },
   "source": [
    "### Generate feature data for graph\n",
    "For feature data, numpy arrays and torch tensors are supported for now."
   ]
  },
  {
   "cell_type": "code",
   "execution_count": 4,
   "metadata": {
    "execution": {
     "iopub.execute_input": "2024-08-21T10:26:47.454545Z",
     "iopub.status.busy": "2024-08-21T10:26:47.454225Z",
     "iopub.status.idle": "2024-08-21T10:26:47.465049Z",
     "shell.execute_reply": "2024-08-21T10:26:47.464528Z"
    },
    "id": "_PVu1u5brBhF"
   },
   "outputs": [
    {
     "name": "stdout",
     "output_type": "stream",
     "text": [
      "Part of node feature [feat_0]: [[0.57871651 0.452981   0.45840892 0.17379949 0.84490424]\n",
      " [0.44818009 0.03109555 0.04705182 0.00101385 0.14522829]\n",
      " [0.28126921 0.32032024 0.76098248 0.08708263 0.82700082]]\n",
      "Node feature [feat_0] is saved to ./ondisk_dataset_homograph/node-feat-0.npy\n",
      "\n",
      "Part of node feature [feat_1]: tensor([[1.9700e-01, 2.4357e-01, 5.2132e-01, 5.9382e-01, 8.4741e-01],\n",
      "        [2.9202e-02, 9.1487e-04, 9.9725e-01, 7.5556e-01, 5.9779e-01],\n",
      "        [5.0687e-01, 9.5280e-01, 7.0833e-01, 4.7972e-01, 6.6384e-01]])\n",
      "Node feature [feat_1] is saved to ./ondisk_dataset_homograph/node-feat-1.pt\n",
      "\n",
      "Part of edge feature [feat_0]: [[0.77101511 0.10587091 0.67107302 0.8912116  0.7976745 ]\n",
      " [0.62050631 0.22077205 0.02929914 0.12614917 0.64351271]\n",
      " [0.64007991 0.11467806 0.99995963 0.59845033 0.92382625]]\n",
      "Edge feature [feat_0] is saved to ./ondisk_dataset_homograph/edge-feat-0.npy\n",
      "\n",
      "Part of edge feature [feat_1]: tensor([[0.4558, 0.1751, 0.6203, 0.5091, 0.6892],\n",
      "        [0.8456, 0.2263, 0.4776, 0.5140, 0.6054],\n",
      "        [0.5612, 0.1503, 0.5274, 0.3796, 0.4018]])\n",
      "Edge feature [feat_1] is saved to ./ondisk_dataset_homograph/edge-feat-1.pt\n",
      "\n"
     ]
    }
   ],
   "source": [
    "# Generate node feature in numpy array.\n",
    "node_feat_0_path = os.path.join(base_dir, \"node-feat-0.npy\")\n",
    "node_feat_0 = np.random.rand(num_nodes, 5)\n",
    "print(f\"Part of node feature [feat_0]: {node_feat_0[:3, :]}\")\n",
    "np.save(node_feat_0_path, node_feat_0)\n",
    "print(f\"Node feature [feat_0] is saved to {node_feat_0_path}\\n\")\n",
    "\n",
    "# Generate another node feature in torch tensor\n",
    "node_feat_1_path = os.path.join(base_dir, \"node-feat-1.pt\")\n",
    "node_feat_1 = torch.rand(num_nodes, 5)\n",
    "print(f\"Part of node feature [feat_1]: {node_feat_1[:3, :]}\")\n",
    "torch.save(node_feat_1, node_feat_1_path)\n",
    "print(f\"Node feature [feat_1] is saved to {node_feat_1_path}\\n\")\n",
    "\n",
    "# Generate edge feature in numpy array.\n",
    "edge_feat_0_path = os.path.join(base_dir, \"edge-feat-0.npy\")\n",
    "edge_feat_0 = np.random.rand(num_edges, 5)\n",
    "print(f\"Part of edge feature [feat_0]: {edge_feat_0[:3, :]}\")\n",
    "np.save(edge_feat_0_path, edge_feat_0)\n",
    "print(f\"Edge feature [feat_0] is saved to {edge_feat_0_path}\\n\")\n",
    "\n",
    "# Generate another edge feature in torch tensor\n",
    "edge_feat_1_path = os.path.join(base_dir, \"edge-feat-1.pt\")\n",
    "edge_feat_1 = torch.rand(num_edges, 5)\n",
    "print(f\"Part of edge feature [feat_1]: {edge_feat_1[:3, :]}\")\n",
    "torch.save(edge_feat_1, edge_feat_1_path)\n",
    "print(f\"Edge feature [feat_1] is saved to {edge_feat_1_path}\\n\")\n"
   ]
  },
  {
   "cell_type": "markdown",
   "metadata": {
    "id": "ZyqgOtsIwzh_"
   },
   "source": [
    "### Generate tasks\n",
    "`OnDiskDataset` supports multiple tasks. For each task, we need to prepare training/validation/test sets respectively. Such sets usually vary among different tasks. In this tutorial, let's create a **Node Classification** task and **Link Prediction** task."
   ]
  },
  {
   "cell_type": "markdown",
   "metadata": {
    "id": "hVxHaDIfzCkr"
   },
   "source": [
    "#### Node Classification Task\n",
    "For node classification task, we need **node IDs** and corresponding **labels** for each training/validation/test set. Like feature data, numpy arrays and torch tensors are supported for these sets."
   ]
  },
  {
   "cell_type": "code",
   "execution_count": 5,
   "metadata": {
    "execution": {
     "iopub.execute_input": "2024-08-21T10:26:47.467462Z",
     "iopub.status.busy": "2024-08-21T10:26:47.467254Z",
     "iopub.status.idle": "2024-08-21T10:26:47.477090Z",
     "shell.execute_reply": "2024-08-21T10:26:47.476570Z"
    },
    "id": "S5-fyBbHzTCO"
   },
   "outputs": [
    {
     "name": "stdout",
     "output_type": "stream",
     "text": [
      "Part of train ids for node classification: [913 621 723]\n",
      "NC train ids are saved to ./ondisk_dataset_homograph/nc-train-ids.npy\n",
      "\n",
      "Part of train labels for node classification: tensor([4, 9, 2])\n",
      "NC train labels are saved to ./ondisk_dataset_homograph/nc-train-labels.pt\n",
      "\n",
      "Part of val ids for node classification: [375 887 564]\n",
      "NC val ids are saved to ./ondisk_dataset_homograph/nc-val-ids.npy\n",
      "\n",
      "Part of val labels for node classification: tensor([9, 3, 6])\n",
      "NC val labels are saved to ./ondisk_dataset_homograph/nc-val-labels.pt\n",
      "\n",
      "Part of test ids for node classification: [  2 441 705]\n",
      "NC test ids are saved to ./ondisk_dataset_homograph/nc-test-ids.npy\n",
      "\n",
      "Part of test labels for node classification: tensor([9, 2, 0])\n",
      "NC test labels are saved to ./ondisk_dataset_homograph/nc-test-labels.pt\n",
      "\n"
     ]
    }
   ],
   "source": [
    "num_trains = int(num_nodes * 0.6)\n",
    "num_vals = int(num_nodes * 0.2)\n",
    "num_tests = num_nodes - num_trains - num_vals\n",
    "\n",
    "ids = np.arange(num_nodes)\n",
    "np.random.shuffle(ids)\n",
    "\n",
    "nc_train_ids_path = os.path.join(base_dir, \"nc-train-ids.npy\")\n",
    "nc_train_ids = ids[:num_trains]\n",
    "print(f\"Part of train ids for node classification: {nc_train_ids[:3]}\")\n",
    "np.save(nc_train_ids_path, nc_train_ids)\n",
    "print(f\"NC train ids are saved to {nc_train_ids_path}\\n\")\n",
    "\n",
    "nc_train_labels_path = os.path.join(base_dir, \"nc-train-labels.pt\")\n",
    "nc_train_labels = torch.randint(0, 10, (num_trains,))\n",
    "print(f\"Part of train labels for node classification: {nc_train_labels[:3]}\")\n",
    "torch.save(nc_train_labels, nc_train_labels_path)\n",
    "print(f\"NC train labels are saved to {nc_train_labels_path}\\n\")\n",
    "\n",
    "nc_val_ids_path = os.path.join(base_dir, \"nc-val-ids.npy\")\n",
    "nc_val_ids = ids[num_trains:num_trains+num_vals]\n",
    "print(f\"Part of val ids for node classification: {nc_val_ids[:3]}\")\n",
    "np.save(nc_val_ids_path, nc_val_ids)\n",
    "print(f\"NC val ids are saved to {nc_val_ids_path}\\n\")\n",
    "\n",
    "nc_val_labels_path = os.path.join(base_dir, \"nc-val-labels.pt\")\n",
    "nc_val_labels = torch.randint(0, 10, (num_vals,))\n",
    "print(f\"Part of val labels for node classification: {nc_val_labels[:3]}\")\n",
    "torch.save(nc_val_labels, nc_val_labels_path)\n",
    "print(f\"NC val labels are saved to {nc_val_labels_path}\\n\")\n",
    "\n",
    "nc_test_ids_path = os.path.join(base_dir, \"nc-test-ids.npy\")\n",
    "nc_test_ids = ids[-num_tests:]\n",
    "print(f\"Part of test ids for node classification: {nc_test_ids[:3]}\")\n",
    "np.save(nc_test_ids_path, nc_test_ids)\n",
    "print(f\"NC test ids are saved to {nc_test_ids_path}\\n\")\n",
    "\n",
    "nc_test_labels_path = os.path.join(base_dir, \"nc-test-labels.pt\")\n",
    "nc_test_labels = torch.randint(0, 10, (num_tests,))\n",
    "print(f\"Part of test labels for node classification: {nc_test_labels[:3]}\")\n",
    "torch.save(nc_test_labels, nc_test_labels_path)\n",
    "print(f\"NC test labels are saved to {nc_test_labels_path}\\n\")"
   ]
  },
  {
   "cell_type": "markdown",
   "metadata": {
    "id": "LhAcDCHQ_KJ0"
   },
   "source": [
    "#### Link Prediction Task\n",
    "For link prediction task, we need **node pairs** or **negative src/dsts** for each training/validation/test set. Like feature data, numpy arrays and torch tensors are supported for these sets."
   ]
  },
  {
   "cell_type": "code",
   "execution_count": 6,
   "metadata": {
    "execution": {
     "iopub.execute_input": "2024-08-21T10:26:47.479497Z",
     "iopub.status.busy": "2024-08-21T10:26:47.479102Z",
     "iopub.status.idle": "2024-08-21T10:26:47.488663Z",
     "shell.execute_reply": "2024-08-21T10:26:47.488149Z"
    },
    "id": "u0jCnXIcAQy4"
   },
   "outputs": [
    {
     "name": "stdout",
     "output_type": "stream",
     "text": [
      "Part of train node pairs for link prediction: [[493 863]\n",
      " [244 953]\n",
      " [482 531]]\n",
      "LP train node pairs are saved to ./ondisk_dataset_homograph/lp-train-node-pairs.npy\n",
      "\n",
      "Part of val node pairs for link prediction: [[114 865]\n",
      " [355 683]\n",
      " [660 459]]\n",
      "LP val node pairs are saved to ./ondisk_dataset_homograph/lp-val-node-pairs.npy\n",
      "\n",
      "Part of val negative dsts for link prediction: tensor([[  4,  72,  89, 504, 515, 767, 889, 425, 986, 263],\n",
      "        [659,   5, 909, 610, 181, 788, 251, 827, 246, 484],\n",
      "        [741, 732, 247, 823, 638, 665, 187, 949, 664, 895]])\n",
      "LP val negative dsts are saved to ./ondisk_dataset_homograph/lp-val-neg-dsts.pt\n",
      "\n",
      "Part of test node pairs for link prediction: [381 638]\n",
      "LP test node pairs are saved to ./ondisk_dataset_homograph/lp-test-node-pairs.npy\n",
      "\n",
      "Part of test negative dsts for link prediction: tensor([[580, 492, 758, 112, 279, 201, 901, 580, 890, 505],\n",
      "        [ 16, 245, 180, 662, 432, 644, 288, 920, 129, 525],\n",
      "        [728, 958, 192, 976, 111, 296,  49, 878, 930, 654]])\n",
      "LP test negative dsts are saved to ./ondisk_dataset_homograph/lp-test-neg-dsts.pt\n",
      "\n"
     ]
    }
   ],
   "source": [
    "num_trains = int(num_edges * 0.6)\n",
    "num_vals = int(num_edges * 0.2)\n",
    "num_tests = num_edges - num_trains - num_vals\n",
    "\n",
    "lp_train_node_pairs_path = os.path.join(base_dir, \"lp-train-node-pairs.npy\")\n",
    "lp_train_node_pairs = edges[:num_trains, :]\n",
    "print(f\"Part of train node pairs for link prediction: {lp_train_node_pairs[:3]}\")\n",
    "np.save(lp_train_node_pairs_path, lp_train_node_pairs)\n",
    "print(f\"LP train node pairs are saved to {lp_train_node_pairs_path}\\n\")\n",
    "\n",
    "lp_val_node_pairs_path = os.path.join(base_dir, \"lp-val-node-pairs.npy\")\n",
    "lp_val_node_pairs = edges[num_trains:num_trains+num_vals, :]\n",
    "print(f\"Part of val node pairs for link prediction: {lp_val_node_pairs[:3]}\")\n",
    "np.save(lp_val_node_pairs_path, lp_val_node_pairs)\n",
    "print(f\"LP val node pairs are saved to {lp_val_node_pairs_path}\\n\")\n",
    "\n",
    "lp_val_neg_dsts_path = os.path.join(base_dir, \"lp-val-neg-dsts.pt\")\n",
    "lp_val_neg_dsts = torch.randint(0, num_nodes, (num_vals, 10))\n",
    "print(f\"Part of val negative dsts for link prediction: {lp_val_neg_dsts[:3]}\")\n",
    "torch.save(lp_val_neg_dsts, lp_val_neg_dsts_path)\n",
    "print(f\"LP val negative dsts are saved to {lp_val_neg_dsts_path}\\n\")\n",
    "\n",
    "lp_test_node_pairs_path = os.path.join(base_dir, \"lp-test-node-pairs.npy\")\n",
    "lp_test_node_pairs = edges[-num_tests, :]\n",
    "print(f\"Part of test node pairs for link prediction: {lp_test_node_pairs[:3]}\")\n",
    "np.save(lp_test_node_pairs_path, lp_test_node_pairs)\n",
    "print(f\"LP test node pairs are saved to {lp_test_node_pairs_path}\\n\")\n",
    "\n",
    "lp_test_neg_dsts_path = os.path.join(base_dir, \"lp-test-neg-dsts.pt\")\n",
    "lp_test_neg_dsts = torch.randint(0, num_nodes, (num_tests, 10))\n",
    "print(f\"Part of test negative dsts for link prediction: {lp_test_neg_dsts[:3]}\")\n",
    "torch.save(lp_test_neg_dsts, lp_test_neg_dsts_path)\n",
    "print(f\"LP test negative dsts are saved to {lp_test_neg_dsts_path}\\n\")"
   ]
  },
  {
   "cell_type": "markdown",
   "metadata": {
    "id": "wbk6-wxRK-6S"
   },
   "source": [
    "## Organize Data into YAML File\n",
    "Now we need to create a `metadata.yaml` file which contains the paths, dadta types of graph structure, feature data, training/validation/test sets.\n",
    "\n",
    "Notes:\n",
    "- all path should be relative to `metadata.yaml`.\n",
    "- Below fields are optional and not specified in below example.\n",
    "  - `in_memory`: indicates whether to load dada into memory or `mmap`. Default is `True`.\n",
    "\n",
    "Please refer to [YAML specification](https://github.com/dmlc/dgl/blob/master/docs/source/stochastic_training/ondisk-dataset-specification.rst) for more details."
   ]
  },
  {
   "cell_type": "code",
   "execution_count": 7,
   "metadata": {
    "execution": {
     "iopub.execute_input": "2024-08-21T10:26:47.490963Z",
     "iopub.status.busy": "2024-08-21T10:26:47.490742Z",
     "iopub.status.idle": "2024-08-21T10:26:47.495787Z",
     "shell.execute_reply": "2024-08-21T10:26:47.495266Z"
    },
    "id": "ddGTWW61Lpwp"
   },
   "outputs": [],
   "source": [
    "yaml_content = f\"\"\"\n",
    "    dataset_name: homogeneous_graph_nc_lp\n",
    "    graph:\n",
    "      nodes:\n",
    "        - num: {num_nodes}\n",
    "      edges:\n",
    "        - format: csv\n",
    "          path: {os.path.basename(edges_path)}\n",
    "    feature_data:\n",
    "      - domain: node\n",
    "        name: feat_0\n",
    "        format: numpy\n",
    "        path: {os.path.basename(node_feat_0_path)}\n",
    "      - domain: node\n",
    "        name: feat_1\n",
    "        format: torch\n",
    "        path: {os.path.basename(node_feat_1_path)}\n",
    "      - domain: edge\n",
    "        name: feat_0\n",
    "        format: numpy\n",
    "        path: {os.path.basename(edge_feat_0_path)}\n",
    "      - domain: edge\n",
    "        name: feat_1\n",
    "        format: torch\n",
    "        path: {os.path.basename(edge_feat_1_path)}\n",
    "    tasks:\n",
    "      - name: node_classification\n",
    "        num_classes: 10\n",
    "        train_set:\n",
    "          - data:\n",
    "              - name: seed_nodes\n",
    "                format: numpy\n",
    "                path: {os.path.basename(nc_train_ids_path)}\n",
    "              - name: labels\n",
    "                format: torch\n",
    "                path: {os.path.basename(nc_train_labels_path)}\n",
    "        validation_set:\n",
    "          - data:\n",
    "              - name: seed_nodes\n",
    "                format: numpy\n",
    "                path: {os.path.basename(nc_val_ids_path)}\n",
    "              - name: labels\n",
    "                format: torch\n",
    "                path: {os.path.basename(nc_val_labels_path)}\n",
    "        test_set:\n",
    "          - data:\n",
    "              - name: seed_nodes\n",
    "                format: numpy\n",
    "                path: {os.path.basename(nc_test_ids_path)}\n",
    "              - name: labels\n",
    "                format: torch\n",
    "                path: {os.path.basename(nc_test_labels_path)}\n",
    "      - name: link_prediction\n",
    "        num_classes: 10\n",
    "        train_set:\n",
    "          - data:\n",
    "              - name: node_pairs\n",
    "                format: numpy\n",
    "                path: {os.path.basename(lp_train_node_pairs_path)}\n",
    "        validation_set:\n",
    "          - data:\n",
    "              - name: node_pairs\n",
    "                format: numpy\n",
    "                path: {os.path.basename(lp_val_node_pairs_path)}\n",
    "              - name: negative_dsts\n",
    "                format: torch\n",
    "                path: {os.path.basename(lp_val_neg_dsts_path)}\n",
    "        test_set:\n",
    "          - data:\n",
    "              - name: node_pairs\n",
    "                format: numpy\n",
    "                path: {os.path.basename(lp_test_node_pairs_path)}\n",
    "              - name: negative_dsts\n",
    "                format: torch\n",
    "                path: {os.path.basename(lp_test_neg_dsts_path)}\n",
    "\"\"\"\n",
    "metadata_path = os.path.join(base_dir, \"metadata.yaml\")\n",
    "with open(metadata_path, \"w\") as f:\n",
    "  f.write(yaml_content)"
   ]
  },
  {
   "cell_type": "markdown",
   "metadata": {
    "id": "kEfybHGhOW7O"
   },
   "source": [
    "## Instantiate `OnDiskDataset`\n",
    "Now we're ready to load dataset via `dgl.graphbolt.OnDiskDataset`. When instantiating, we just pass in the base directory where `metadata.yaml` file lies.\n",
    "\n",
    "During first instantiation, GraphBolt preprocesses the raw data such as constructing `FusedCSCSamplingGraph` from edges. All data including graph, feature data, training/validation/test sets are put into `preprocessed` directory after preprocessing. Any following dataset loading will skip the preprocess stage.\n",
    "\n",
    "After preprocessing, `load()` is required to be called explicitly in order to load graph, feature data and tasks."
   ]
  },
  {
   "cell_type": "code",
   "execution_count": 8,
   "metadata": {
    "execution": {
     "iopub.execute_input": "2024-08-21T10:26:47.498026Z",
     "iopub.status.busy": "2024-08-21T10:26:47.497717Z",
     "iopub.status.idle": "2024-08-21T10:26:47.524834Z",
     "shell.execute_reply": "2024-08-21T10:26:47.524312Z"
    },
    "id": "W58CZoSzOiyo"
   },
   "outputs": [
    {
     "name": "stdout",
     "output_type": "stream",
     "text": [
      "The dataset is already preprocessed.\n",
      "Loaded graph: FusedCSCSamplingGraph(csc_indptr=tensor([    0,     6,    11,  ...,  9983,  9993, 10000], dtype=torch.int32),\n",
      "                      indices=tensor([200, 868, 197,  ..., 485, 947, 314], dtype=torch.int32),\n",
      "                      num_nodes=1000, num_edges=10000)\n",
      "\n",
      "Loaded feature store: TorchBasedFeatureStore{(<OnDiskFeatureDataDomain.NODE: 'node'>, None, 'feat_0'): TorchBasedFeature(feature=tensor([[0.9693, 0.6848, 0.3944, 0.2965, 0.3422],\n",
      "                                                        [0.5814, 0.9139, 0.8905, 0.6068, 0.3078],\n",
      "                                                        [0.5562, 0.5066, 0.0953, 0.8567, 0.0237],\n",
      "                                                        ...,\n",
      "                                                        [0.8002, 0.3774, 0.6960, 0.8131, 0.0812],\n",
      "                                                        [0.8780, 0.7903, 0.4631, 0.1727, 0.1488],\n",
      "                                                        [0.6776, 0.3532, 0.4479, 0.2659, 0.2541]], dtype=torch.float64),\n",
      "                                        metadata={},\n",
      "                      ), (<OnDiskFeatureDataDomain.NODE: 'node'>, None, 'feat_1'): TorchBasedFeature(feature=tensor([[8.0494e-02, 1.6106e-01, 1.2238e-01, 2.8155e-01, 9.1650e-01],\n",
      "                                                        [9.8535e-01, 7.2734e-01, 4.9378e-01, 8.0456e-01, 8.2843e-02],\n",
      "                                                        [7.2808e-01, 4.5085e-01, 6.0380e-05, 4.6721e-01, 9.0437e-01],\n",
      "                                                        ...,\n",
      "                                                        [7.8645e-01, 7.3194e-01, 9.7847e-01, 5.7786e-01, 8.2626e-01],\n",
      "                                                        [1.1720e-01, 8.0653e-01, 7.6937e-01, 1.2851e-01, 8.7070e-01],\n",
      "                                                        [7.6647e-01, 3.7781e-02, 4.0542e-01, 1.9798e-01, 6.5070e-01]]),\n",
      "                                        metadata={},\n",
      "                      ), (<OnDiskFeatureDataDomain.EDGE: 'edge'>, None, 'feat_0'): TorchBasedFeature(feature=tensor([[0.3405, 0.5655, 0.6494, 0.1182, 0.7778],\n",
      "                                                        [0.4433, 0.8350, 0.1072, 0.6091, 0.5975],\n",
      "                                                        [0.4340, 0.7843, 0.6597, 0.9740, 0.4669],\n",
      "                                                        ...,\n",
      "                                                        [0.0404, 0.0961, 0.8146, 0.3069, 0.5624],\n",
      "                                                        [0.8075, 0.8921, 0.9512, 0.0639, 0.1950],\n",
      "                                                        [0.8489, 0.9733, 0.2302, 0.9778, 0.9855]], dtype=torch.float64),\n",
      "                                        metadata={},\n",
      "                      ), (<OnDiskFeatureDataDomain.EDGE: 'edge'>, None, 'feat_1'): TorchBasedFeature(feature=tensor([[0.0173, 0.6830, 0.1189, 0.7324, 0.2741],\n",
      "                                                        [0.3656, 0.0397, 0.1592, 0.5011, 0.8247],\n",
      "                                                        [0.6159, 0.7980, 0.0723, 0.2909, 0.2126],\n",
      "                                                        ...,\n",
      "                                                        [0.7481, 0.8617, 0.5760, 0.2166, 0.7169],\n",
      "                                                        [0.3696, 0.3526, 0.3607, 0.7491, 0.6695],\n",
      "                                                        [0.0453, 0.9787, 0.6771, 0.6388, 0.0770]]),\n",
      "                                        metadata={},\n",
      "                      )}\n",
      "\n",
      "Loaded node classification task: OnDiskTask(validation_set=ItemSet(items=(tensor([965, 630, 360, 290, 312, 511, 646, 452, 737, 819, 193, 340, 666, 101,\n",
      "                                                747, 334, 192,  88, 670, 920,  71, 614, 285, 559, 947, 262, 450, 395,\n",
      "                                                579, 822,  60, 736, 221, 273, 869, 411, 877, 301,  49, 142, 839,  29,\n",
      "                                                783, 296, 111, 224, 831, 792, 374, 857, 525, 434, 333, 279, 189, 437,\n",
      "                                                287, 274, 412, 324, 510, 802, 261, 982, 294, 215, 508, 596, 257, 585,\n",
      "                                                110, 958, 464, 650, 427, 327, 303, 252, 758, 910, 218, 669, 217, 879,\n",
      "                                                389,  20,  35, 517, 729, 726, 893, 771, 620, 812, 563, 504, 311, 377,\n",
      "                                                457,  70, 963, 319, 501, 444, 185,  99, 858, 782, 677,  17, 778, 186,\n",
      "                                                 80, 381, 945, 874,  89, 584, 834, 408, 933, 552, 226, 673, 704, 180,\n",
      "                                                935, 937, 587, 976, 567, 148, 761, 954,  14,  52, 100, 267, 539, 829,\n",
      "                                                410, 277, 861, 598, 472, 202, 655, 884, 424, 600, 207, 638, 972, 888,\n",
      "                                                794, 966, 459, 364,  32, 231,  72, 840, 341, 336,  15, 817,  50, 220,\n",
      "                                                114, 615,  96,  79, 981, 640, 915, 373, 190, 113, 595, 352, 236, 489,\n",
      "                                                168,   2, 716, 490, 779, 475, 528,  45, 660,  48, 149, 346, 371, 144,\n",
      "                                                556, 420, 393, 421], dtype=torch.int32), tensor([0, 4, 0, 9, 7, 8, 3, 2, 9, 4, 7, 7, 9, 2, 9, 7, 6, 0, 8, 9, 3, 0, 8, 2,\n",
      "                                                7, 8, 2, 5, 7, 2, 7, 9, 9, 0, 4, 9, 7, 6, 3, 4, 7, 0, 3, 5, 3, 5, 7, 2,\n",
      "                                                9, 1, 5, 2, 7, 3, 9, 5, 8, 0, 0, 6, 6, 5, 5, 9, 3, 0, 0, 5, 0, 1, 9, 9,\n",
      "                                                0, 9, 7, 1, 7, 5, 2, 7, 0, 5, 0, 9, 1, 1, 7, 2, 8, 3, 3, 9, 8, 7, 4, 5,\n",
      "                                                0, 3, 8, 3, 9, 8, 9, 1, 6, 8, 7, 9, 9, 6, 0, 0, 2, 5, 0, 5, 7, 5, 5, 6,\n",
      "                                                2, 6, 6, 2, 0, 7, 3, 0, 4, 1, 9, 0, 6, 1, 5, 8, 4, 2, 9, 0, 8, 3, 1, 0,\n",
      "                                                3, 2, 1, 1, 1, 4, 0, 3, 8, 7, 8, 7, 8, 5, 6, 7, 5, 8, 4, 7, 0, 3, 0, 0,\n",
      "                                                1, 7, 8, 8, 1, 6, 9, 3, 1, 8, 0, 8, 3, 9, 2, 8, 2, 1, 8, 7, 9, 2, 7, 5,\n",
      "                                                9, 0, 2, 0, 9, 2, 0, 5])),\n",
      "                                  names=('seeds', 'labels'),\n",
      "                          ),\n",
      "           train_set=ItemSet(items=(tensor([397, 739, 199, 835, 978, 571, 470, 194, 724, 200, 992,  12, 229, 757,\n",
      "                                           866, 439, 916, 254, 767, 780, 929, 208, 948, 178, 485, 310,  84, 862,\n",
      "                                           683, 304, 211, 447, 164, 799, 756, 658, 882, 507, 957, 495, 362, 415,\n",
      "                                            30, 115, 627, 356, 691, 469, 795,   9, 975, 701, 987, 518, 842, 727,\n",
      "                                           197, 160, 392, 478, 576, 247, 860,  95, 540,  59, 170, 332, 309,  63,\n",
      "                                           867, 516,  67, 692, 379, 219, 498, 210, 177, 830, 493, 619, 943, 820,\n",
      "                                           651,  27, 814, 188, 227,  46, 818, 897,  77,  24, 902, 446, 934, 621,\n",
      "                                           610, 547, 999, 973, 715, 652, 924, 276, 251, 416, 448, 462, 242, 339,\n",
      "                                           977, 599, 790, 950, 550, 544, 376, 564, 990, 617,  28, 370, 900, 157,\n",
      "                                           702, 930,  94, 743, 602, 330, 165,  11, 847,  33, 696, 139, 735, 308,\n",
      "                                           745, 687, 753, 275, 907, 555, 255, 952, 891, 382, 740,   5, 318, 606,\n",
      "                                           248, 678, 492, 574, 554, 125, 441, 904, 561, 996, 868, 826, 258, 347,\n",
      "                                           971, 748, 718, 474, 886, 536,  86, 351, 991, 436, 307, 150, 417,  64,\n",
      "                                           524, 355, 581,   8, 136, 824, 760, 206, 722,  44, 871, 592, 964, 890,\n",
      "                                           880, 698,  53, 844, 775, 695, 153, 597, 107, 155, 776, 537, 642, 983,\n",
      "                                            78, 789, 923, 863, 132,  91, 768, 681, 154, 235, 980,   3, 686, 769,\n",
      "                                           856, 730, 613, 671, 280, 320, 679, 970, 298, 542, 380, 608, 305, 918,\n",
      "                                           578, 184, 809, 813, 500, 663, 766, 562, 126, 811, 152, 634, 454,   6,\n",
      "                                           187, 926, 166, 956, 232, 460, 605, 899, 949, 419, 572, 631, 174, 260,\n",
      "                                           443, 806, 828, 378, 685, 873, 878, 759, 989, 488,  31,  36, 961, 413,\n",
      "                                           483, 699, 629, 363, 338, 228, 385, 705, 821, 553, 159, 940, 479, 623,\n",
      "                                           741, 502, 244,  34, 133, 538, 499, 375, 942, 889, 302, 278, 714, 161,\n",
      "                                           746,   4, 325,  90, 846, 657,  57, 429, 214, 350, 456, 781, 919, 172,\n",
      "                                           635, 250, 328, 887,  83, 676, 509, 425, 119, 995, 195, 654, 645, 521,\n",
      "                                           548, 234, 212, 557, 784, 522, 569, 903, 895, 675, 700,   1, 292, 433,\n",
      "                                           451, 777, 105, 711, 269, 853, 241, 723,  56, 253, 674, 684, 901, 237,\n",
      "                                           941,  42, 911, 191, 431, 997, 633, 665, 205, 399, 482, 577, 486, 430,\n",
      "                                           946, 249, 491, 167, 523, 944, 104, 728, 628,  66, 259, 131, 833, 204,\n",
      "                                           282, 343, 141, 201,  62,  98, 845, 841,  22,  65, 808, 458, 611, 656,\n",
      "                                           533, 315, 772, 801, 391, 732, 268, 849, 314, 928, 750, 223, 637, 703,\n",
      "                                           913, 566, 908,  69, 708, 143, 367, 270, 603, 313, 582, 951, 647, 800,\n",
      "                                           390, 506,  76, 196, 225, 765, 284, 570, 317,  81,  13,   0, 786, 505,\n",
      "                                           230, 401, 306, 398, 359, 466, 589, 591, 787, 512, 329, 762, 293, 118,\n",
      "                                            47, 541, 543, 798, 289, 453, 690, 851, 632, 414, 626, 297, 147, 927,\n",
      "                                           925, 709, 176,  93, 616, 612,  74, 182,  97, 697,  37, 130, 859, 106,\n",
      "                                           140, 120, 917, 203, 546, 531, 755, 271, 514, 496, 644, 366, 939, 936,\n",
      "                                            85, 707,  58, 108, 653, 407, 442, 387, 693, 449, 601, 720, 158, 590,\n",
      "                                           763,  16, 734, 369, 173, 264, 438, 909, 266, 396, 238, 281, 116, 519,\n",
      "                                           788, 575, 641, 968, 138,  51, 805, 938, 754, 405, 568, 721, 998, 588,\n",
      "                                            87, 733, 953, 680, 127, 156, 494,  43, 349, 865, 243, 843, 400,  38,\n",
      "                                           876, 594, 162,  26, 738, 406, 885,  21, 418, 921, 473, 837, 694, 986,\n",
      "                                           912, 263, 797,  82,  61, 875, 121, 836, 440, 388, 659, 151, 432, 535,\n",
      "                                           565,  10, 435, 586, 906, 607, 526,  23, 979, 804, 932, 323],\n",
      "                                          dtype=torch.int32), tensor([3, 5, 5, 6, 9, 1, 4, 5, 1, 7, 8, 0, 7, 8, 3, 0, 7, 7, 2, 4, 9, 1, 6, 2,\n",
      "                                           4, 5, 8, 3, 2, 1, 2, 9, 0, 3, 4, 4, 1, 0, 5, 9, 7, 6, 8, 4, 1, 3, 9, 8,\n",
      "                                           8, 6, 0, 8, 5, 6, 1, 3, 9, 9, 6, 7, 0, 8, 9, 7, 0, 0, 7, 4, 7, 4, 8, 7,\n",
      "                                           1, 1, 2, 5, 2, 4, 2, 3, 9, 9, 4, 8, 6, 7, 5, 9, 8, 2, 9, 1, 7, 1, 0, 5,\n",
      "                                           3, 4, 1, 7, 8, 0, 3, 8, 5, 6, 0, 3, 1, 0, 9, 8, 1, 9, 3, 9, 8, 8, 8, 5,\n",
      "                                           3, 2, 9, 0, 2, 8, 6, 3, 7, 3, 5, 3, 5, 0, 7, 3, 4, 9, 7, 0, 8, 6, 0, 2,\n",
      "                                           7, 2, 8, 7, 4, 5, 7, 1, 8, 0, 2, 2, 4, 2, 1, 9, 2, 5, 6, 8, 4, 2, 3, 7,\n",
      "                                           3, 6, 6, 3, 7, 0, 7, 9, 6, 6, 5, 7, 2, 3, 6, 8, 9, 1, 2, 4, 4, 1, 3, 3,\n",
      "                                           1, 7, 5, 8, 9, 2, 6, 7, 0, 4, 0, 7, 0, 3, 4, 4, 6, 8, 7, 8, 5, 8, 3, 5,\n",
      "                                           0, 1, 5, 3, 4, 8, 6, 8, 7, 0, 6, 5, 7, 1, 3, 1, 1, 1, 8, 4, 8, 5, 6, 0,\n",
      "                                           5, 4, 1, 5, 0, 4, 4, 9, 9, 0, 9, 8, 3, 5, 0, 2, 3, 3, 5, 3, 3, 3, 4, 7,\n",
      "                                           3, 7, 3, 8, 5, 4, 5, 5, 8, 7, 4, 3, 1, 1, 0, 0, 7, 8, 3, 9, 1, 3, 7, 4,\n",
      "                                           0, 7, 6, 5, 4, 9, 6, 5, 6, 6, 6, 9, 3, 6, 2, 8, 1, 1, 3, 4, 8, 5, 0, 3,\n",
      "                                           2, 3, 6, 2, 0, 8, 5, 9, 3, 8, 7, 9, 5, 4, 3, 6, 8, 1, 1, 2, 2, 2, 0, 7,\n",
      "                                           3, 1, 8, 5, 4, 5, 9, 5, 7, 2, 4, 3, 6, 0, 3, 1, 5, 1, 9, 1, 9, 3, 3, 2,\n",
      "                                           6, 5, 8, 5, 7, 9, 2, 2, 6, 0, 5, 2, 7, 6, 2, 1, 8, 3, 5, 4, 8, 8, 1, 9,\n",
      "                                           1, 0, 1, 8, 8, 5, 8, 9, 1, 8, 0, 0, 4, 8, 6, 2, 4, 8, 9, 4, 9, 6, 8, 2,\n",
      "                                           0, 8, 2, 0, 5, 4, 1, 7, 2, 2, 8, 6, 4, 2, 9, 3, 7, 7, 7, 5, 5, 3, 3, 8,\n",
      "                                           9, 6, 4, 8, 6, 2, 7, 1, 5, 0, 9, 4, 6, 1, 3, 3, 1, 3, 6, 8, 3, 6, 9, 8,\n",
      "                                           7, 8, 4, 3, 1, 2, 8, 3, 2, 2, 6, 9, 8, 0, 7, 8, 7, 0, 7, 6, 8, 5, 9, 1,\n",
      "                                           0, 0, 7, 7, 7, 5, 5, 6, 7, 5, 0, 5, 3, 8, 0, 2, 7, 5, 0, 8, 5, 2, 0, 5,\n",
      "                                           6, 7, 4, 0, 2, 9, 0, 0, 7, 7, 4, 2, 2, 5, 7, 4, 3, 1, 2, 6, 6, 0, 3, 4,\n",
      "                                           0, 9, 1, 8, 9, 4, 6, 9, 9, 2, 2, 8, 3, 6, 1, 1, 0, 6, 6, 8, 5, 4, 0, 2,\n",
      "                                           8, 3, 5, 0, 4, 9, 7, 7, 5, 2, 2, 4, 6, 5, 2, 7, 3, 5, 8, 5, 7, 7, 3, 0,\n",
      "                                           0, 7, 4, 9, 1, 5, 9, 2, 4, 8, 6, 3, 3, 6, 5, 8, 9, 8, 7, 9, 7, 3, 5, 6])),\n",
      "                             names=('seeds', 'labels'),\n",
      "                     ),\n",
      "           test_set=ItemSet(items=(tensor([342, 752, 549,  18, 955, 583, 892, 321, 852, 649, 465,  39, 661, 213,\n",
      "                                          179, 931, 337, 345, 803, 503, 985, 984, 384, 529, 848, 326,  41, 749,\n",
      "                                          365, 838, 959, 109, 639, 713, 960, 299, 134, 409, 445, 832, 245, 988,\n",
      "                                          712, 883, 969,  55, 288, 520,  68, 636, 725, 710, 731, 815, 689, 175,\n",
      "                                          112, 461, 823, 102, 962, 198, 423, 793, 233, 181, 354, 770, 124, 171,\n",
      "                                          394, 372, 117, 383, 353, 122, 593, 643, 335, 426, 864, 688, 246, 773,\n",
      "                                          785, 103, 774, 137, 480,  25, 129, 573, 622, 513, 905, 265, 807, 672,\n",
      "                                          316, 477, 914, 471, 967, 455, 135, 796, 534, 515, 532, 295, 810, 348,\n",
      "                                           40, 854, 974, 719, 169, 604, 625, 894, 404, 358, 664, 618, 361, 551,\n",
      "                                          825, 744, 291, 481, 484, 827, 662, 422, 545, 240, 527, 322, 855, 222,\n",
      "                                          706,  75, 300, 751, 560, 994, 898, 463, 487, 791,  92, 667, 850, 682,\n",
      "                                          764,  54, 402, 239, 386, 468, 558, 331,   7, 183, 357, 123, 872, 283,\n",
      "                                          922, 896, 344, 648, 209, 286, 216, 816, 145, 742, 580,  19, 609, 497,\n",
      "                                          467, 993, 870, 163, 717, 668, 624, 476, 403, 146,  73, 128, 256, 272,\n",
      "                                          428, 530, 368, 881], dtype=torch.int32), tensor([8, 6, 4, 3, 8, 0, 6, 7, 9, 4, 1, 1, 0, 4, 3, 0, 0, 3, 1, 2, 0, 0, 4, 0,\n",
      "                                          8, 6, 4, 7, 6, 9, 2, 9, 8, 6, 0, 0, 1, 9, 2, 2, 8, 5, 9, 4, 8, 7, 2, 2,\n",
      "                                          0, 9, 5, 8, 2, 7, 4, 9, 5, 2, 1, 2, 5, 4, 2, 1, 6, 1, 5, 8, 7, 1, 1, 5,\n",
      "                                          3, 0, 4, 2, 6, 1, 6, 6, 6, 0, 2, 5, 9, 4, 8, 9, 6, 8, 8, 7, 3, 0, 7, 4,\n",
      "                                          0, 4, 3, 4, 1, 7, 1, 4, 5, 6, 0, 2, 4, 1, 2, 9, 7, 2, 6, 6, 6, 9, 9, 4,\n",
      "                                          4, 2, 7, 9, 1, 0, 3, 9, 7, 7, 9, 6, 4, 6, 8, 9, 9, 0, 7, 7, 5, 5, 3, 8,\n",
      "                                          7, 6, 7, 0, 3, 6, 8, 3, 9, 7, 2, 7, 7, 6, 3, 3, 8, 1, 9, 3, 5, 9, 2, 9,\n",
      "                                          5, 1, 2, 1, 9, 7, 7, 0, 1, 1, 0, 7, 1, 3, 8, 3, 4, 1, 8, 4, 8, 3, 0, 0,\n",
      "                                          8, 3, 3, 6, 3, 4, 3, 1])),\n",
      "                            names=('seeds', 'labels'),\n",
      "                    ),\n",
      "           metadata={'name': 'node_classification', 'num_classes': 10},\n",
      ")\n",
      "\n",
      "Loaded link prediction task: OnDiskTask(validation_set=ItemSet(items=(tensor([[564, 348],\n",
      "                                                [371, 631],\n",
      "                                                [539, 416],\n",
      "                                                ...,\n",
      "                                                [415, 563],\n",
      "                                                [415, 337],\n",
      "                                                [415, 671]], dtype=torch.int32), tensor([1., 1., 1.,  ..., 0., 0., 0.], dtype=torch.float64), tensor([   0,    1,    2,  ..., 1999, 1999, 1999])),\n",
      "                                  names=('seeds', 'labels', 'indexes'),\n",
      "                          ),\n",
      "           train_set=ItemSet(items=(tensor([[906, 120],\n",
      "                                           [216, 414],\n",
      "                                           [570, 741],\n",
      "                                           ...,\n",
      "                                           [143, 674],\n",
      "                                           [356, 460],\n",
      "                                           [982, 850]], dtype=torch.int32),),\n",
      "                             names=('seeds',),\n",
      "                     ),\n",
      "           test_set=ItemSet(items=(tensor([[750, 270],\n",
      "                                          [177, 838],\n",
      "                                          [565, 439],\n",
      "                                          ...,\n",
      "                                          [971, 310],\n",
      "                                          [971, 871],\n",
      "                                          [971, 972]], dtype=torch.int32), tensor([1., 1., 1.,  ..., 0., 0., 0.], dtype=torch.float64), tensor([   0,    1,    2,  ..., 1999, 1999, 1999])),\n",
      "                            names=('seeds', 'labels', 'indexes'),\n",
      "                    ),\n",
      "           metadata={'name': 'link_prediction', 'num_classes': 10},\n",
      ")\n",
      "\n"
     ]
    }
   ],
   "source": [
    "dataset = gb.OnDiskDataset(base_dir).load()\n",
    "graph = dataset.graph\n",
    "print(f\"Loaded graph: {graph}\\n\")\n",
    "\n",
    "feature = dataset.feature\n",
    "print(f\"Loaded feature store: {feature}\\n\")\n",
    "\n",
    "tasks = dataset.tasks\n",
    "nc_task = tasks[0]\n",
    "print(f\"Loaded node classification task: {nc_task}\\n\")\n",
    "lp_task = tasks[1]\n",
    "print(f\"Loaded link prediction task: {lp_task}\\n\")"
   ]
  }
 ],
 "metadata": {
  "colab": {
   "private_outputs": true,
   "provenance": []
  },
  "kernelspec": {
   "display_name": "Python 3",
   "name": "python3"
  },
  "language_info": {
   "codemirror_mode": {
    "name": "ipython",
    "version": 3
   },
   "file_extension": ".py",
   "mimetype": "text/x-python",
   "name": "python",
   "nbconvert_exporter": "python",
   "pygments_lexer": "ipython3",
   "version": "3.10.14"
  }
 },
 "nbformat": 4,
 "nbformat_minor": 0
}

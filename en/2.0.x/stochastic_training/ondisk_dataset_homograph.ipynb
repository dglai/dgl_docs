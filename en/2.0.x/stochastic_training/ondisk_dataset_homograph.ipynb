{
 "cells": [
  {
   "cell_type": "markdown",
   "metadata": {
    "id": "FnFhPMaAfLtJ"
   },
   "source": [
    "# OnDiskDataset for Homogeneous Graph\n",
    "\n",
    "[![Open In Colab](https://colab.research.google.com/assets/colab-badge.svg)](https://colab.research.google.com/github/dmlc/dgl/blob/master/notebooks/stochastic_training/ondisk_dataset_homograph.ipynb) [![GitHub](https://img.shields.io/badge/-View%20on%20GitHub-181717?logo=github&logoColor=ffffff)](https://github.com/dmlc/dgl/blob/master/notebooks/stochastic_training/ondisk_dataset_homograph.ipynb)\n",
    "\n",
    "This tutorial shows how to create `OnDiskDataset` for homogeneous graph that could be used in **GraphBolt** framework.\n",
    "\n",
    "By the end of this tutorial, you will be able to\n",
    "\n",
    "- organize graph structure data.\n",
    "- organize feature data.\n",
    "- organize training/validation/test set for specific tasks.\n",
    "\n",
    "To create an ``OnDiskDataset`` object, you need to organize all the data including graph structure, feature data and tasks into a directory. The directory should contain a ``metadata.yaml`` file that describes the metadata of the dataset.\n",
    "\n",
    "Now let's generate various data step by step and organize them together to instantiate `OnDiskDataset` finally."
   ]
  },
  {
   "cell_type": "markdown",
   "metadata": {
    "id": "Wlb19DtWgtzq"
   },
   "source": [
    "## Install DGL package"
   ]
  },
  {
   "cell_type": "code",
   "execution_count": 1,
   "metadata": {
    "execution": {
     "iopub.execute_input": "2024-08-20T06:39:19.015907Z",
     "iopub.status.busy": "2024-08-20T06:39:19.015578Z",
     "iopub.status.idle": "2024-08-20T06:39:22.936480Z",
     "shell.execute_reply": "2024-08-20T06:39:22.935726Z"
    },
    "id": "UojlT9ZGgyr9"
   },
   "outputs": [
    {
     "name": "stdout",
     "output_type": "stream",
     "text": [
      "Looking in links: https://data.dgl.ai/wheels-test/repo.html\r\n",
      "Requirement already satisfied: dgl in /opt/conda/envs/dgl-dev-cpu/lib/python3.10/site-packages (2.2a240410)\r\n",
      "Requirement already satisfied: numpy>=1.14.0 in /opt/conda/envs/dgl-dev-cpu/lib/python3.10/site-packages (from dgl) (1.26.4)\r\n",
      "Requirement already satisfied: scipy>=1.1.0 in /opt/conda/envs/dgl-dev-cpu/lib/python3.10/site-packages (from dgl) (1.14.0)\r\n",
      "Requirement already satisfied: networkx>=2.1 in /opt/conda/envs/dgl-dev-cpu/lib/python3.10/site-packages (from dgl) (3.3)\r\n",
      "Requirement already satisfied: requests>=2.19.0 in /opt/conda/envs/dgl-dev-cpu/lib/python3.10/site-packages (from dgl) (2.32.3)\r\n",
      "Requirement already satisfied: tqdm in /opt/conda/envs/dgl-dev-cpu/lib/python3.10/site-packages (from dgl) (4.66.5)\r\n",
      "Requirement already satisfied: psutil>=5.8.0 in /opt/conda/envs/dgl-dev-cpu/lib/python3.10/site-packages (from dgl) (6.0.0)\r\n",
      "Requirement already satisfied: torchdata>=0.5.0 in /opt/conda/envs/dgl-dev-cpu/lib/python3.10/site-packages (from dgl) (0.7.1+6427ed9)\r\n",
      "Requirement already satisfied: pandas in /opt/conda/envs/dgl-dev-cpu/lib/python3.10/site-packages (from dgl) (2.2.2)\r\n",
      "Requirement already satisfied: charset-normalizer<4,>=2 in /opt/conda/envs/dgl-dev-cpu/lib/python3.10/site-packages (from requests>=2.19.0->dgl) (3.3.2)\r\n",
      "Requirement already satisfied: idna<4,>=2.5 in /opt/conda/envs/dgl-dev-cpu/lib/python3.10/site-packages (from requests>=2.19.0->dgl) (3.7)\r\n",
      "Requirement already satisfied: urllib3<3,>=1.21.1 in /opt/conda/envs/dgl-dev-cpu/lib/python3.10/site-packages (from requests>=2.19.0->dgl) (2.2.2)\r\n",
      "Requirement already satisfied: certifi>=2017.4.17 in /opt/conda/envs/dgl-dev-cpu/lib/python3.10/site-packages (from requests>=2.19.0->dgl) (2024.7.4)\r\n",
      "Requirement already satisfied: torch>=2 in /opt/conda/envs/dgl-dev-cpu/lib/python3.10/site-packages (from torchdata>=0.5.0->dgl) (2.1.0+cpu)\r\n"
     ]
    },
    {
     "name": "stdout",
     "output_type": "stream",
     "text": [
      "Requirement already satisfied: python-dateutil>=2.8.2 in /opt/conda/envs/dgl-dev-cpu/lib/python3.10/site-packages (from pandas->dgl) (2.9.0.post0)\r\n",
      "Requirement already satisfied: pytz>=2020.1 in /opt/conda/envs/dgl-dev-cpu/lib/python3.10/site-packages (from pandas->dgl) (2024.1)\r\n",
      "Requirement already satisfied: tzdata>=2022.7 in /opt/conda/envs/dgl-dev-cpu/lib/python3.10/site-packages (from pandas->dgl) (2024.1)\r\n"
     ]
    },
    {
     "name": "stdout",
     "output_type": "stream",
     "text": [
      "Requirement already satisfied: six>=1.5 in /opt/conda/envs/dgl-dev-cpu/lib/python3.10/site-packages (from python-dateutil>=2.8.2->pandas->dgl) (1.16.0)\r\n",
      "Requirement already satisfied: filelock in /opt/conda/envs/dgl-dev-cpu/lib/python3.10/site-packages (from torch>=2->torchdata>=0.5.0->dgl) (3.15.4)\r\n",
      "Requirement already satisfied: typing-extensions in /opt/conda/envs/dgl-dev-cpu/lib/python3.10/site-packages (from torch>=2->torchdata>=0.5.0->dgl) (4.12.2)\r\n",
      "Requirement already satisfied: sympy in /opt/conda/envs/dgl-dev-cpu/lib/python3.10/site-packages (from torch>=2->torchdata>=0.5.0->dgl) (1.13.2)\r\n",
      "Requirement already satisfied: jinja2 in /opt/conda/envs/dgl-dev-cpu/lib/python3.10/site-packages (from torch>=2->torchdata>=0.5.0->dgl) (3.1.4)\r\n",
      "Requirement already satisfied: fsspec in /opt/conda/envs/dgl-dev-cpu/lib/python3.10/site-packages (from torch>=2->torchdata>=0.5.0->dgl) (2024.6.1)\r\n"
     ]
    },
    {
     "name": "stdout",
     "output_type": "stream",
     "text": [
      "Requirement already satisfied: MarkupSafe>=2.0 in /opt/conda/envs/dgl-dev-cpu/lib/python3.10/site-packages (from jinja2->torch>=2->torchdata>=0.5.0->dgl) (2.1.5)\r\n",
      "Requirement already satisfied: mpmath<1.4,>=1.1.0 in /opt/conda/envs/dgl-dev-cpu/lib/python3.10/site-packages (from sympy->torch>=2->torchdata>=0.5.0->dgl) (1.3.0)\r\n"
     ]
    },
    {
     "name": "stdout",
     "output_type": "stream",
     "text": [
      "DGL installed!\n"
     ]
    }
   ],
   "source": [
    "# Install required packages.\n",
    "import os\n",
    "import torch\n",
    "import numpy as np\n",
    "os.environ['TORCH'] = torch.__version__\n",
    "os.environ['DGLBACKEND'] = \"pytorch\"\n",
    "\n",
    "# Install the CPU version.\n",
    "device = torch.device(\"cpu\")\n",
    "!pip install --pre dgl -f https://data.dgl.ai/wheels-test/repo.html\n",
    "\n",
    "try:\n",
    "    import dgl\n",
    "    import dgl.graphbolt as gb\n",
    "    installed = True\n",
    "except ImportError as error:\n",
    "    installed = False\n",
    "    print(error)\n",
    "print(\"DGL installed!\" if installed else \"DGL not found!\")"
   ]
  },
  {
   "cell_type": "markdown",
   "metadata": {
    "id": "2R7WnSbjsfbr"
   },
   "source": [
    "## Data preparation\n",
    "In order to demonstrate how to organize various data, let's create a base directory first."
   ]
  },
  {
   "cell_type": "code",
   "execution_count": 2,
   "metadata": {
    "execution": {
     "iopub.execute_input": "2024-08-20T06:39:22.939622Z",
     "iopub.status.busy": "2024-08-20T06:39:22.939009Z",
     "iopub.status.idle": "2024-08-20T06:39:22.943312Z",
     "shell.execute_reply": "2024-08-20T06:39:22.942647Z"
    },
    "id": "SZipbzyltLfO"
   },
   "outputs": [
    {
     "name": "stdout",
     "output_type": "stream",
     "text": [
      "Created base directory: ./ondisk_dataset_homograph\n"
     ]
    }
   ],
   "source": [
    "base_dir = './ondisk_dataset_homograph'\n",
    "os.makedirs(base_dir, exist_ok=True)\n",
    "print(f\"Created base directory: {base_dir}\")"
   ]
  },
  {
   "cell_type": "markdown",
   "metadata": {
    "id": "qhNtIn_xhlnl"
   },
   "source": [
    "### Generate graph structure data\n",
    "For homogeneous graph, we just need to save edges(namely node pairs) into  **Numpy** or **CSV** file.\n",
    "\n",
    "Note:\n",
    "- when saving to **Numpy**, the array requires to be in shape of `(2, N)`. This format is recommended as constructing graph from it is much faster than **CSV** file.\n",
    "- when saving to **CSV** file, do not save index and header.\n"
   ]
  },
  {
   "cell_type": "code",
   "execution_count": 3,
   "metadata": {
    "execution": {
     "iopub.execute_input": "2024-08-20T06:39:22.945845Z",
     "iopub.status.busy": "2024-08-20T06:39:22.945464Z",
     "iopub.status.idle": "2024-08-20T06:39:22.959239Z",
     "shell.execute_reply": "2024-08-20T06:39:22.958599Z"
    },
    "id": "HcBt4G5BmSjr"
   },
   "outputs": [
    {
     "name": "stdout",
     "output_type": "stream",
     "text": [
      "Part of edges: [[909 662]\n",
      " [713 604]\n",
      " [388  90]\n",
      " [736 730]\n",
      " [609 921]]\n",
      "Edges are saved into ./ondisk_dataset_homograph/edges.csv\n"
     ]
    }
   ],
   "source": [
    "import numpy as np\n",
    "import pandas as pd\n",
    "num_nodes = 1000\n",
    "num_edges = 10 * num_nodes\n",
    "edges_path = os.path.join(base_dir, \"edges.csv\")\n",
    "edges = np.random.randint(0, num_nodes, size=(num_edges, 2))\n",
    "\n",
    "print(f\"Part of edges: {edges[:5, :]}\")\n",
    "\n",
    "df = pd.DataFrame(edges)\n",
    "df.to_csv(edges_path, index=False, header=False)\n",
    "\n",
    "print(f\"Edges are saved into {edges_path}\")"
   ]
  },
  {
   "cell_type": "markdown",
   "metadata": {
    "id": "kh-4cPtzpcaH"
   },
   "source": [
    "### Generate feature data for graph\n",
    "For feature data, numpy arrays and torch tensors are supported for now."
   ]
  },
  {
   "cell_type": "code",
   "execution_count": 4,
   "metadata": {
    "execution": {
     "iopub.execute_input": "2024-08-20T06:39:22.961893Z",
     "iopub.status.busy": "2024-08-20T06:39:22.961532Z",
     "iopub.status.idle": "2024-08-20T06:39:22.975919Z",
     "shell.execute_reply": "2024-08-20T06:39:22.974836Z"
    },
    "id": "_PVu1u5brBhF"
   },
   "outputs": [
    {
     "name": "stdout",
     "output_type": "stream",
     "text": [
      "Part of node feature [feat_0]: [[0.61140038 0.85221375 0.47901815 0.02837632 0.61694381]\n",
      " [0.66180054 0.2055441  0.48709167 0.65047925 0.92326757]\n",
      " [0.096942   0.85467769 0.75482251 0.2745534  0.13207681]]\n",
      "Node feature [feat_0] is saved to ./ondisk_dataset_homograph/node-feat-0.npy\n",
      "\n",
      "Part of node feature [feat_1]: tensor([[0.5446, 0.4091, 0.6620, 0.2743, 0.2441],\n",
      "        [0.4164, 0.4394, 0.6107, 0.2714, 0.9674],\n",
      "        [0.2485, 0.5261, 0.2884, 0.3621, 0.7317]])\n",
      "Node feature [feat_1] is saved to ./ondisk_dataset_homograph/node-feat-1.pt\n",
      "\n",
      "Part of edge feature [feat_0]: [[0.66265745 0.46589475 0.74359631 0.80742933 0.17403423]\n",
      " [0.08852564 0.63188164 0.47496379 0.73675138 0.87580736]\n",
      " [0.36197464 0.06453364 0.76459434 0.69670776 0.62327443]]\n",
      "Edge feature [feat_0] is saved to ./ondisk_dataset_homograph/edge-feat-0.npy\n",
      "\n",
      "Part of edge feature [feat_1]: tensor([[0.7150, 0.2274, 0.3195, 0.3621, 0.9419],\n",
      "        [0.0186, 0.9578, 0.6762, 0.3865, 0.2018],\n",
      "        [0.4890, 0.1323, 0.8919, 0.3744, 0.0223]])\n",
      "Edge feature [feat_1] is saved to ./ondisk_dataset_homograph/edge-feat-1.pt\n",
      "\n"
     ]
    }
   ],
   "source": [
    "# Generate node feature in numpy array.\n",
    "node_feat_0_path = os.path.join(base_dir, \"node-feat-0.npy\")\n",
    "node_feat_0 = np.random.rand(num_nodes, 5)\n",
    "print(f\"Part of node feature [feat_0]: {node_feat_0[:3, :]}\")\n",
    "np.save(node_feat_0_path, node_feat_0)\n",
    "print(f\"Node feature [feat_0] is saved to {node_feat_0_path}\\n\")\n",
    "\n",
    "# Generate another node feature in torch tensor\n",
    "node_feat_1_path = os.path.join(base_dir, \"node-feat-1.pt\")\n",
    "node_feat_1 = torch.rand(num_nodes, 5)\n",
    "print(f\"Part of node feature [feat_1]: {node_feat_1[:3, :]}\")\n",
    "torch.save(node_feat_1, node_feat_1_path)\n",
    "print(f\"Node feature [feat_1] is saved to {node_feat_1_path}\\n\")\n",
    "\n",
    "# Generate edge feature in numpy array.\n",
    "edge_feat_0_path = os.path.join(base_dir, \"edge-feat-0.npy\")\n",
    "edge_feat_0 = np.random.rand(num_edges, 5)\n",
    "print(f\"Part of edge feature [feat_0]: {edge_feat_0[:3, :]}\")\n",
    "np.save(edge_feat_0_path, edge_feat_0)\n",
    "print(f\"Edge feature [feat_0] is saved to {edge_feat_0_path}\\n\")\n",
    "\n",
    "# Generate another edge feature in torch tensor\n",
    "edge_feat_1_path = os.path.join(base_dir, \"edge-feat-1.pt\")\n",
    "edge_feat_1 = torch.rand(num_edges, 5)\n",
    "print(f\"Part of edge feature [feat_1]: {edge_feat_1[:3, :]}\")\n",
    "torch.save(edge_feat_1, edge_feat_1_path)\n",
    "print(f\"Edge feature [feat_1] is saved to {edge_feat_1_path}\\n\")\n"
   ]
  },
  {
   "cell_type": "markdown",
   "metadata": {
    "id": "ZyqgOtsIwzh_"
   },
   "source": [
    "### Generate tasks\n",
    "`OnDiskDataset` supports multiple tasks. For each task, we need to prepare training/validation/test sets respectively. Such sets usually vary among different tasks. In this tutorial, let's create a **Node Classification** task and **Link Prediction** task."
   ]
  },
  {
   "cell_type": "markdown",
   "metadata": {
    "id": "hVxHaDIfzCkr"
   },
   "source": [
    "#### Node Classification Task\n",
    "For node classification task, we need **node IDs** and corresponding **labels** for each training/validation/test set. Like feature data, numpy arrays and torch tensors are supported for these sets."
   ]
  },
  {
   "cell_type": "code",
   "execution_count": 5,
   "metadata": {
    "execution": {
     "iopub.execute_input": "2024-08-20T06:39:22.978922Z",
     "iopub.status.busy": "2024-08-20T06:39:22.978485Z",
     "iopub.status.idle": "2024-08-20T06:39:22.989707Z",
     "shell.execute_reply": "2024-08-20T06:39:22.989086Z"
    },
    "id": "S5-fyBbHzTCO"
   },
   "outputs": [
    {
     "name": "stdout",
     "output_type": "stream",
     "text": [
      "Part of train ids for node classification: [194 460 847]\n",
      "NC train ids are saved to ./ondisk_dataset_homograph/nc-train-ids.npy\n",
      "\n",
      "Part of train labels for node classification: tensor([1, 4, 4])\n",
      "NC train labels are saved to ./ondisk_dataset_homograph/nc-train-labels.pt\n",
      "\n",
      "Part of val ids for node classification: [798 884 222]\n",
      "NC val ids are saved to ./ondisk_dataset_homograph/nc-val-ids.npy\n",
      "\n",
      "Part of val labels for node classification: tensor([2, 6, 1])\n",
      "NC val labels are saved to ./ondisk_dataset_homograph/nc-val-labels.pt\n",
      "\n",
      "Part of test ids for node classification: [956 265  40]\n",
      "NC test ids are saved to ./ondisk_dataset_homograph/nc-test-ids.npy\n",
      "\n",
      "Part of test labels for node classification: tensor([5, 2, 9])\n",
      "NC test labels are saved to ./ondisk_dataset_homograph/nc-test-labels.pt\n",
      "\n"
     ]
    }
   ],
   "source": [
    "num_trains = int(num_nodes * 0.6)\n",
    "num_vals = int(num_nodes * 0.2)\n",
    "num_tests = num_nodes - num_trains - num_vals\n",
    "\n",
    "ids = np.arange(num_nodes)\n",
    "np.random.shuffle(ids)\n",
    "\n",
    "nc_train_ids_path = os.path.join(base_dir, \"nc-train-ids.npy\")\n",
    "nc_train_ids = ids[:num_trains]\n",
    "print(f\"Part of train ids for node classification: {nc_train_ids[:3]}\")\n",
    "np.save(nc_train_ids_path, nc_train_ids)\n",
    "print(f\"NC train ids are saved to {nc_train_ids_path}\\n\")\n",
    "\n",
    "nc_train_labels_path = os.path.join(base_dir, \"nc-train-labels.pt\")\n",
    "nc_train_labels = torch.randint(0, 10, (num_trains,))\n",
    "print(f\"Part of train labels for node classification: {nc_train_labels[:3]}\")\n",
    "torch.save(nc_train_labels, nc_train_labels_path)\n",
    "print(f\"NC train labels are saved to {nc_train_labels_path}\\n\")\n",
    "\n",
    "nc_val_ids_path = os.path.join(base_dir, \"nc-val-ids.npy\")\n",
    "nc_val_ids = ids[num_trains:num_trains+num_vals]\n",
    "print(f\"Part of val ids for node classification: {nc_val_ids[:3]}\")\n",
    "np.save(nc_val_ids_path, nc_val_ids)\n",
    "print(f\"NC val ids are saved to {nc_val_ids_path}\\n\")\n",
    "\n",
    "nc_val_labels_path = os.path.join(base_dir, \"nc-val-labels.pt\")\n",
    "nc_val_labels = torch.randint(0, 10, (num_vals,))\n",
    "print(f\"Part of val labels for node classification: {nc_val_labels[:3]}\")\n",
    "torch.save(nc_val_labels, nc_val_labels_path)\n",
    "print(f\"NC val labels are saved to {nc_val_labels_path}\\n\")\n",
    "\n",
    "nc_test_ids_path = os.path.join(base_dir, \"nc-test-ids.npy\")\n",
    "nc_test_ids = ids[-num_tests:]\n",
    "print(f\"Part of test ids for node classification: {nc_test_ids[:3]}\")\n",
    "np.save(nc_test_ids_path, nc_test_ids)\n",
    "print(f\"NC test ids are saved to {nc_test_ids_path}\\n\")\n",
    "\n",
    "nc_test_labels_path = os.path.join(base_dir, \"nc-test-labels.pt\")\n",
    "nc_test_labels = torch.randint(0, 10, (num_tests,))\n",
    "print(f\"Part of test labels for node classification: {nc_test_labels[:3]}\")\n",
    "torch.save(nc_test_labels, nc_test_labels_path)\n",
    "print(f\"NC test labels are saved to {nc_test_labels_path}\\n\")"
   ]
  },
  {
   "cell_type": "markdown",
   "metadata": {
    "id": "LhAcDCHQ_KJ0"
   },
   "source": [
    "#### Link Prediction Task\n",
    "For link prediction task, we need **node pairs** or **negative src/dsts** for each training/validation/test set. Like feature data, numpy arrays and torch tensors are supported for these sets."
   ]
  },
  {
   "cell_type": "code",
   "execution_count": 6,
   "metadata": {
    "execution": {
     "iopub.execute_input": "2024-08-20T06:39:22.992195Z",
     "iopub.status.busy": "2024-08-20T06:39:22.991917Z",
     "iopub.status.idle": "2024-08-20T06:39:23.002543Z",
     "shell.execute_reply": "2024-08-20T06:39:23.001911Z"
    },
    "id": "u0jCnXIcAQy4"
   },
   "outputs": [
    {
     "name": "stdout",
     "output_type": "stream",
     "text": [
      "Part of train node pairs for link prediction: [[909 662]\n",
      " [713 604]\n",
      " [388  90]]\n",
      "LP train node pairs are saved to ./ondisk_dataset_homograph/lp-train-node-pairs.npy\n",
      "\n",
      "Part of val node pairs for link prediction: [[452 800]\n",
      " [622 747]\n",
      " [718 630]]\n",
      "LP val node pairs are saved to ./ondisk_dataset_homograph/lp-val-node-pairs.npy\n",
      "\n",
      "Part of val negative dsts for link prediction: tensor([[333, 267, 317, 264, 607, 540, 919, 397, 709, 586],\n",
      "        [776, 536, 596, 262, 317, 435, 323, 273, 361, 731],\n",
      "        [661, 711, 118, 194, 432, 301, 609, 823, 440, 223]])\n",
      "LP val negative dsts are saved to ./ondisk_dataset_homograph/lp-val-neg-dsts.pt\n",
      "\n",
      "Part of test node pairs for link prediction: [749 806]\n",
      "LP test node pairs are saved to ./ondisk_dataset_homograph/lp-test-node-pairs.npy\n",
      "\n",
      "Part of test negative dsts for link prediction: tensor([[117, 440, 873, 720, 242, 820, 354, 176, 296, 483],\n",
      "        [272, 141, 567, 536, 644, 487, 685, 169, 322, 739],\n",
      "        [897, 981, 711, 111, 430, 556, 894, 702, 304, 969]])\n",
      "LP test negative dsts are saved to ./ondisk_dataset_homograph/lp-test-neg-dsts.pt\n",
      "\n"
     ]
    }
   ],
   "source": [
    "num_trains = int(num_edges * 0.6)\n",
    "num_vals = int(num_edges * 0.2)\n",
    "num_tests = num_edges - num_trains - num_vals\n",
    "\n",
    "lp_train_node_pairs_path = os.path.join(base_dir, \"lp-train-node-pairs.npy\")\n",
    "lp_train_node_pairs = edges[:num_trains, :]\n",
    "print(f\"Part of train node pairs for link prediction: {lp_train_node_pairs[:3]}\")\n",
    "np.save(lp_train_node_pairs_path, lp_train_node_pairs)\n",
    "print(f\"LP train node pairs are saved to {lp_train_node_pairs_path}\\n\")\n",
    "\n",
    "lp_val_node_pairs_path = os.path.join(base_dir, \"lp-val-node-pairs.npy\")\n",
    "lp_val_node_pairs = edges[num_trains:num_trains+num_vals, :]\n",
    "print(f\"Part of val node pairs for link prediction: {lp_val_node_pairs[:3]}\")\n",
    "np.save(lp_val_node_pairs_path, lp_val_node_pairs)\n",
    "print(f\"LP val node pairs are saved to {lp_val_node_pairs_path}\\n\")\n",
    "\n",
    "lp_val_neg_dsts_path = os.path.join(base_dir, \"lp-val-neg-dsts.pt\")\n",
    "lp_val_neg_dsts = torch.randint(0, num_nodes, (num_vals, 10))\n",
    "print(f\"Part of val negative dsts for link prediction: {lp_val_neg_dsts[:3]}\")\n",
    "torch.save(lp_val_neg_dsts, lp_val_neg_dsts_path)\n",
    "print(f\"LP val negative dsts are saved to {lp_val_neg_dsts_path}\\n\")\n",
    "\n",
    "lp_test_node_pairs_path = os.path.join(base_dir, \"lp-test-node-pairs.npy\")\n",
    "lp_test_node_pairs = edges[-num_tests, :]\n",
    "print(f\"Part of test node pairs for link prediction: {lp_test_node_pairs[:3]}\")\n",
    "np.save(lp_test_node_pairs_path, lp_test_node_pairs)\n",
    "print(f\"LP test node pairs are saved to {lp_test_node_pairs_path}\\n\")\n",
    "\n",
    "lp_test_neg_dsts_path = os.path.join(base_dir, \"lp-test-neg-dsts.pt\")\n",
    "lp_test_neg_dsts = torch.randint(0, num_nodes, (num_tests, 10))\n",
    "print(f\"Part of test negative dsts for link prediction: {lp_test_neg_dsts[:3]}\")\n",
    "torch.save(lp_test_neg_dsts, lp_test_neg_dsts_path)\n",
    "print(f\"LP test negative dsts are saved to {lp_test_neg_dsts_path}\\n\")"
   ]
  },
  {
   "cell_type": "markdown",
   "metadata": {
    "id": "wbk6-wxRK-6S"
   },
   "source": [
    "## Organize Data into YAML File\n",
    "Now we need to create a `metadata.yaml` file which contains the paths, dadta types of graph structure, feature data, training/validation/test sets.\n",
    "\n",
    "Notes:\n",
    "- all path should be relative to `metadata.yaml`.\n",
    "- Below fields are optional and not specified in below example.\n",
    "  - `in_memory`: indicates whether to load dada into memory or `mmap`. Default is `True`.\n",
    "\n",
    "Please refer to [YAML specification](https://github.com/dmlc/dgl/blob/master/docs/source/stochastic_training/ondisk-dataset-specification.rst) for more details."
   ]
  },
  {
   "cell_type": "code",
   "execution_count": 7,
   "metadata": {
    "execution": {
     "iopub.execute_input": "2024-08-20T06:39:23.005170Z",
     "iopub.status.busy": "2024-08-20T06:39:23.004761Z",
     "iopub.status.idle": "2024-08-20T06:39:23.010419Z",
     "shell.execute_reply": "2024-08-20T06:39:23.009830Z"
    },
    "id": "ddGTWW61Lpwp"
   },
   "outputs": [],
   "source": [
    "yaml_content = f\"\"\"\n",
    "    dataset_name: homogeneous_graph_nc_lp\n",
    "    graph:\n",
    "      nodes:\n",
    "        - num: {num_nodes}\n",
    "      edges:\n",
    "        - format: csv\n",
    "          path: {os.path.basename(edges_path)}\n",
    "    feature_data:\n",
    "      - domain: node\n",
    "        name: feat_0\n",
    "        format: numpy\n",
    "        path: {os.path.basename(node_feat_0_path)}\n",
    "      - domain: node\n",
    "        name: feat_1\n",
    "        format: torch\n",
    "        path: {os.path.basename(node_feat_1_path)}\n",
    "      - domain: edge\n",
    "        name: feat_0\n",
    "        format: numpy\n",
    "        path: {os.path.basename(edge_feat_0_path)}\n",
    "      - domain: edge\n",
    "        name: feat_1\n",
    "        format: torch\n",
    "        path: {os.path.basename(edge_feat_1_path)}\n",
    "    tasks:\n",
    "      - name: node_classification\n",
    "        num_classes: 10\n",
    "        train_set:\n",
    "          - data:\n",
    "              - name: seed_nodes\n",
    "                format: numpy\n",
    "                path: {os.path.basename(nc_train_ids_path)}\n",
    "              - name: labels\n",
    "                format: torch\n",
    "                path: {os.path.basename(nc_train_labels_path)}\n",
    "        validation_set:\n",
    "          - data:\n",
    "              - name: seed_nodes\n",
    "                format: numpy\n",
    "                path: {os.path.basename(nc_val_ids_path)}\n",
    "              - name: labels\n",
    "                format: torch\n",
    "                path: {os.path.basename(nc_val_labels_path)}\n",
    "        test_set:\n",
    "          - data:\n",
    "              - name: seed_nodes\n",
    "                format: numpy\n",
    "                path: {os.path.basename(nc_test_ids_path)}\n",
    "              - name: labels\n",
    "                format: torch\n",
    "                path: {os.path.basename(nc_test_labels_path)}\n",
    "      - name: link_prediction\n",
    "        num_classes: 10\n",
    "        train_set:\n",
    "          - data:\n",
    "              - name: node_pairs\n",
    "                format: numpy\n",
    "                path: {os.path.basename(lp_train_node_pairs_path)}\n",
    "        validation_set:\n",
    "          - data:\n",
    "              - name: node_pairs\n",
    "                format: numpy\n",
    "                path: {os.path.basename(lp_val_node_pairs_path)}\n",
    "              - name: negative_dsts\n",
    "                format: torch\n",
    "                path: {os.path.basename(lp_val_neg_dsts_path)}\n",
    "        test_set:\n",
    "          - data:\n",
    "              - name: node_pairs\n",
    "                format: numpy\n",
    "                path: {os.path.basename(lp_test_node_pairs_path)}\n",
    "              - name: negative_dsts\n",
    "                format: torch\n",
    "                path: {os.path.basename(lp_test_neg_dsts_path)}\n",
    "\"\"\"\n",
    "metadata_path = os.path.join(base_dir, \"metadata.yaml\")\n",
    "with open(metadata_path, \"w\") as f:\n",
    "  f.write(yaml_content)"
   ]
  },
  {
   "cell_type": "markdown",
   "metadata": {
    "id": "kEfybHGhOW7O"
   },
   "source": [
    "## Instantiate `OnDiskDataset`\n",
    "Now we're ready to load dataset via `dgl.graphbolt.OnDiskDataset`. When instantiating, we just pass in the base directory where `metadata.yaml` file lies.\n",
    "\n",
    "During first instantiation, GraphBolt preprocesses the raw data such as constructing `FusedCSCSamplingGraph` from edges. All data including graph, feature data, training/validation/test sets are put into `preprocessed` directory after preprocessing. Any following dataset loading will skip the preprocess stage.\n",
    "\n",
    "After preprocessing, `load()` is required to be called explicitly in order to load graph, feature data and tasks."
   ]
  },
  {
   "cell_type": "code",
   "execution_count": 8,
   "metadata": {
    "execution": {
     "iopub.execute_input": "2024-08-20T06:39:23.012999Z",
     "iopub.status.busy": "2024-08-20T06:39:23.012556Z",
     "iopub.status.idle": "2024-08-20T06:39:23.095788Z",
     "shell.execute_reply": "2024-08-20T06:39:23.095133Z"
    },
    "id": "W58CZoSzOiyo"
   },
   "outputs": [
    {
     "name": "stdout",
     "output_type": "stream",
     "text": [
      "The on-disk dataset is re-preprocessing, so the existing preprocessed dataset has been removed.\n",
      "Start to preprocess the on-disk dataset.\n",
      "Finish preprocessing the on-disk dataset.\n",
      "Loaded graph: FusedCSCSamplingGraph(csc_indptr=tensor([    0,     7,    18,  ...,  9971,  9987, 10000], dtype=torch.int32),\n",
      "                      indices=tensor([113,  60, 802,  ..., 744, 863, 200], dtype=torch.int32),\n",
      "                      total_num_nodes=1000, num_edges=10000,)\n",
      "\n",
      "Loaded feature store: TorchBasedFeatureStore(\n",
      "    {(<OnDiskFeatureDataDomain.NODE: 'node'>, None, 'feat_0'): TorchBasedFeature(\n",
      "        feature=tensor([[0.6114, 0.8522, 0.4790, 0.0284, 0.6169],\n",
      "                        [0.6618, 0.2055, 0.4871, 0.6505, 0.9233],\n",
      "                        [0.0969, 0.8547, 0.7548, 0.2746, 0.1321],\n",
      "                        ...,\n",
      "                        [0.6809, 0.7497, 0.9228, 0.2075, 0.6088],\n",
      "                        [0.8153, 0.4923, 0.3853, 0.3742, 0.4810],\n",
      "                        [0.3666, 0.8180, 0.2428, 0.3901, 0.5105]], dtype=torch.float64),\n",
      "        metadata={},\n",
      "    ), (<OnDiskFeatureDataDomain.NODE: 'node'>, None, 'feat_1'): TorchBasedFeature(\n",
      "        feature=tensor([[0.5446, 0.4091, 0.6620, 0.2743, 0.2441],\n",
      "                        [0.4164, 0.4394, 0.6107, 0.2714, 0.9674],\n",
      "                        [0.2485, 0.5261, 0.2884, 0.3621, 0.7317],\n",
      "                        ...,\n",
      "                        [0.1300, 0.3545, 0.0908, 0.4040, 0.8752],\n",
      "                        [0.0020, 0.4128, 0.5118, 0.6655, 0.3117],\n",
      "                        [0.9525, 0.3603, 0.6905, 0.9951, 0.0914]]),\n",
      "        metadata={},\n",
      "    ), (<OnDiskFeatureDataDomain.EDGE: 'edge'>, None, 'feat_0'): TorchBasedFeature(\n",
      "        feature=tensor([[0.6627, 0.4659, 0.7436, 0.8074, 0.1740],\n",
      "                        [0.0885, 0.6319, 0.4750, 0.7368, 0.8758],\n",
      "                        [0.3620, 0.0645, 0.7646, 0.6967, 0.6233],\n",
      "                        ...,\n",
      "                        [0.4086, 0.7415, 0.0121, 0.8350, 0.8893],\n",
      "                        [0.2439, 0.0711, 0.5718, 0.9547, 0.1372],\n",
      "                        [0.7667, 0.6352, 0.1509, 0.3876, 0.9743]], dtype=torch.float64),\n",
      "        metadata={},\n",
      "    ), (<OnDiskFeatureDataDomain.EDGE: 'edge'>, None, 'feat_1'): TorchBasedFeature(\n",
      "        feature=tensor([[0.7150, 0.2274, 0.3195, 0.3621, 0.9419],\n",
      "                        [0.0186, 0.9578, 0.6762, 0.3865, 0.2018],\n",
      "                        [0.4890, 0.1323, 0.8919, 0.3744, 0.0223],\n",
      "                        ...,\n",
      "                        [0.0065, 0.9887, 0.9622, 0.0381, 0.1589],\n",
      "                        [0.8564, 0.2576, 0.5481, 0.1202, 0.3966],\n",
      "                        [0.9115, 0.8442, 0.3529, 0.8861, 0.9230]]),\n",
      "        metadata={},\n",
      "    )}\n",
      ")\n",
      "\n",
      "Loaded node classification task: OnDiskTask(validation_set=ItemSet(\n",
      "               items=(tensor([798, 884, 222, 231, 309, 692,  35, 601, 851, 227, 572, 330, 477, 873,\n",
      "                   518, 805, 758, 463,  69, 398, 156, 322, 348,  18, 671, 633, 903, 927,\n",
      "                   576, 795, 840, 434, 948, 793, 676, 932, 705, 785,  10, 192, 569, 329,\n",
      "                   736, 284, 558, 435, 307, 950, 415, 715, 703, 836, 588, 302, 706, 937,\n",
      "                   680, 839, 995,  23, 384, 382, 223, 185, 295, 380, 298, 854, 416, 877,\n",
      "                   674,  57, 717, 525, 704, 634,  77, 868, 909, 411, 423, 595, 444, 427,\n",
      "                     0, 230,  38, 971, 534, 732,  66, 556, 213, 954, 904, 958, 541, 773,\n",
      "                   248, 282, 527, 175, 571,  83, 389, 713, 636, 830, 959, 506, 970, 536,\n",
      "                   752, 375, 388, 161, 514, 600, 219, 664, 555, 858, 246, 137, 378,   4,\n",
      "                    88,  81, 266,  87, 496, 459, 502, 196, 908, 119, 400, 698, 313, 781,\n",
      "                   271, 485, 550,   5, 184, 809, 141,  92, 521, 455, 234, 582, 537, 172,\n",
      "                   898, 825, 614, 258, 737, 820, 504, 691,  22, 592,  64, 787,  86,  37,\n",
      "                   973, 318, 999,  73, 574, 876, 412, 547, 626, 305, 577, 512, 354, 917,\n",
      "                   802, 623, 993, 789, 738, 341, 624, 998, 109, 467, 501, 701, 827, 893,\n",
      "                    14, 376, 989, 863], dtype=torch.int32), tensor([2, 6, 1, 3, 8, 2, 4, 9, 6, 5, 3, 5, 5, 1, 5, 0, 5, 9, 9, 0, 0, 5, 3, 7,\n",
      "                   7, 1, 0, 1, 9, 2, 4, 0, 0, 6, 1, 8, 4, 2, 1, 5, 9, 4, 1, 7, 9, 5, 6, 2,\n",
      "                   4, 1, 1, 8, 4, 6, 2, 8, 9, 8, 4, 3, 0, 1, 0, 1, 7, 6, 1, 9, 5, 3, 1, 5,\n",
      "                   2, 1, 4, 9, 6, 0, 7, 1, 4, 4, 2, 8, 1, 9, 1, 6, 0, 8, 9, 2, 5, 5, 7, 0,\n",
      "                   1, 0, 3, 5, 8, 3, 3, 9, 5, 0, 4, 3, 2, 9, 3, 1, 0, 0, 8, 2, 9, 4, 1, 5,\n",
      "                   1, 9, 2, 1, 9, 1, 7, 6, 2, 3, 5, 9, 6, 4, 5, 5, 3, 2, 9, 5, 3, 8, 5, 0,\n",
      "                   2, 0, 8, 1, 0, 9, 1, 4, 0, 8, 0, 9, 1, 7, 3, 5, 1, 0, 9, 7, 1, 8, 3, 8,\n",
      "                   1, 3, 2, 2, 4, 9, 4, 6, 2, 0, 5, 2, 7, 4, 1, 7, 3, 7, 3, 6, 1, 8, 4, 3,\n",
      "                   2, 4, 6, 1, 5, 3, 7, 4])),\n",
      "               names=('seed_nodes', 'labels'),\n",
      "           ),\n",
      "           train_set=ItemSet(\n",
      "               items=(tensor([194, 460, 847, 699, 253, 589, 333, 134, 108, 628, 756, 689, 649, 193,\n",
      "                   332,  65, 881, 345, 436, 403, 672, 443, 936, 483, 247, 975, 131, 920,\n",
      "                   308, 782, 735, 327, 861, 564, 533, 115, 174, 812, 771, 385, 838, 612,\n",
      "                   551, 491,  31, 753, 666, 837, 953, 439, 831, 874, 661, 716, 369, 580,\n",
      "                   991, 188, 828, 944, 591,  79, 869, 587,  20, 178, 951, 616, 251, 813,\n",
      "                   315, 500, 214,   2, 728, 471, 280, 306, 648, 484, 132, 445, 226, 980,\n",
      "                   103, 668, 889, 819,  46,  63,  26, 896, 675, 528, 465, 221, 887, 127,\n",
      "                   121,  94, 374, 118, 469,  34,  56, 293,  96, 635,  90, 848, 432, 263,\n",
      "                   300, 642, 967, 462, 110, 754, 546, 856,  62, 657, 646, 888, 644, 149,\n",
      "                   187, 475, 631, 878, 885, 353, 205, 565, 918,  53, 410, 337, 702, 955,\n",
      "                   413, 683, 520,  54, 807, 835, 453, 289, 255, 900, 826,  67, 478, 181,\n",
      "                   594, 312,  48, 568, 198, 513, 344, 845, 377, 969, 747, 347, 402, 822,\n",
      "                   764, 573, 690, 540, 939, 745, 862, 297, 860, 872, 343, 655, 640,   1,\n",
      "                   746, 871,   8, 261, 750, 371, 165, 323, 775, 722, 277, 968, 272, 755,\n",
      "                   625, 724, 627, 997, 759,  45, 510, 236, 757, 859, 316, 763, 949, 281,\n",
      "                   524, 545,  17, 394, 621, 832, 197, 714, 846, 490, 531, 535, 239, 458,\n",
      "                   667, 446, 352, 529, 986, 734, 575, 437, 899, 543, 966, 829, 769, 762,\n",
      "                   994, 473, 160, 464, 324, 523, 875, 154,  95, 739, 519, 116, 397, 630,\n",
      "                   150, 984, 489, 882, 448, 249, 126, 422, 915, 325, 761, 321, 942, 606,\n",
      "                   228,  29, 823,  49, 729,  59, 850, 867, 985, 748, 930, 509, 567, 279,\n",
      "                   242, 170, 790, 637, 203, 910, 891,  50, 538,  82, 449, 733, 336, 426,\n",
      "                   952, 902, 211, 561, 947, 125, 794, 450, 183, 797,  70, 945, 786, 130,\n",
      "                   914, 396,  68, 386, 356,  27, 923, 320, 152, 146, 604, 392, 206, 269,\n",
      "                   709, 151, 409, 199, 522, 688, 749, 678, 901, 370, 590, 725, 414, 711,\n",
      "                    51, 906, 393, 114, 278, 294, 796, 685, 233, 202, 140, 379, 803, 256,\n",
      "                   421, 204, 235, 721,  42, 983, 560, 244, 925, 488, 511, 142,   9, 334,\n",
      "                    13, 493, 420, 552, 988, 340, 806, 107, 777, 387, 694, 892, 849,  60,\n",
      "                   264, 751, 976, 257, 208, 687, 905, 743, 961, 816, 554, 740, 938, 978,\n",
      "                   708,  91, 532, 596, 597, 497, 865, 697, 487, 304, 808, 658, 922, 811,\n",
      "                   144, 381, 817,  72, 710, 122,  71, 482, 425, 111, 210, 864, 778,  36,\n",
      "                   287, 599, 296,  80, 602, 647, 314, 424, 217, 273, 924, 274, 456, 238,\n",
      "                   853, 632, 553, 780, 981, 430, 818, 418,  58, 857, 723, 179, 897, 700,\n",
      "                   605, 495, 285, 977, 919, 916, 331, 821, 539, 578, 609, 373, 760, 164,\n",
      "                   517, 928, 677, 182, 979, 408, 814, 360,  74, 440, 610, 143, 841, 963,\n",
      "                   395, 855, 466, 498, 346, 890, 586, 366, 638, 783, 643, 526, 611, 472,\n",
      "                   136, 570, 996, 176, 943, 139, 117,  24, 718, 153, 544, 792, 145, 252,\n",
      "                   842, 438, 515, 349, 766, 135, 431, 619, 155, 940, 391, 442, 189, 693,\n",
      "                   299, 834, 549, 220, 479, 328, 262, 186, 682, 147, 362, 224, 240, 681,\n",
      "                   972, 770, 641,   3, 684, 215, 505,  19, 342, 129, 290, 319, 171, 843,\n",
      "                   934, 367,  12, 270, 357, 209,  44, 652, 791, 622, 788, 454, 824, 492,\n",
      "                   883,   6, 712, 200, 774, 659, 167,  30, 879, 372, 741, 102, 584, 852,\n",
      "                   481,  84, 886, 474, 317, 260, 159, 105, 254,  93, 180, 957, 245, 542,\n",
      "                   815, 767, 516, 695, 779, 363, 100,  39,  89, 615,  28, 607],\n",
      "                  dtype=torch.int32), tensor([1, 4, 4, 3, 0, 4, 7, 8, 8, 8, 3, 8, 3, 4, 3, 8, 9, 3, 0, 9, 3, 5, 4, 2,\n",
      "                   5, 5, 4, 0, 1, 0, 9, 4, 9, 5, 7, 5, 6, 4, 7, 2, 2, 7, 4, 5, 3, 1, 7, 0,\n",
      "                   5, 8, 5, 4, 4, 8, 3, 7, 1, 5, 8, 4, 9, 6, 5, 7, 5, 8, 9, 2, 4, 0, 6, 9,\n",
      "                   9, 3, 9, 0, 7, 8, 5, 5, 9, 7, 2, 0, 0, 6, 1, 9, 5, 9, 0, 0, 4, 6, 6, 0,\n",
      "                   4, 0, 9, 8, 6, 2, 8, 2, 8, 5, 1, 1, 6, 4, 6, 7, 3, 7, 7, 4, 6, 1, 4, 4,\n",
      "                   7, 8, 6, 0, 7, 0, 2, 7, 4, 6, 6, 6, 3, 7, 7, 4, 8, 9, 1, 7, 6, 9, 5, 7,\n",
      "                   5, 1, 4, 0, 6, 3, 5, 4, 1, 0, 7, 5, 6, 8, 8, 0, 9, 5, 3, 3, 2, 9, 9, 2,\n",
      "                   1, 9, 5, 2, 6, 1, 2, 2, 8, 7, 7, 7, 6, 1, 0, 4, 4, 7, 6, 5, 4, 3, 2, 1,\n",
      "                   7, 7, 2, 8, 0, 8, 6, 3, 5, 6, 8, 9, 2, 0, 1, 4, 6, 5, 9, 8, 7, 0, 8, 6,\n",
      "                   3, 6, 3, 6, 1, 6, 1, 9, 1, 0, 4, 7, 0, 8, 2, 2, 3, 2, 0, 1, 0, 3, 5, 5,\n",
      "                   9, 8, 8, 4, 5, 4, 2, 2, 3, 8, 1, 8, 7, 9, 1, 8, 2, 8, 0, 3, 6, 9, 8, 3,\n",
      "                   5, 4, 1, 1, 0, 7, 9, 4, 5, 9, 1, 2, 3, 7, 8, 5, 1, 2, 2, 7, 6, 3, 9, 4,\n",
      "                   7, 5, 0, 3, 0, 8, 5, 9, 7, 9, 8, 8, 1, 7, 1, 3, 0, 6, 7, 7, 5, 6, 1, 5,\n",
      "                   2, 4, 3, 6, 1, 1, 0, 2, 7, 5, 4, 5, 4, 6, 0, 8, 8, 5, 5, 0, 0, 3, 8, 7,\n",
      "                   5, 4, 0, 2, 6, 7, 9, 8, 9, 3, 6, 5, 4, 7, 3, 6, 7, 4, 7, 6, 3, 2, 0, 5,\n",
      "                   3, 9, 4, 2, 3, 2, 0, 2, 8, 9, 2, 2, 7, 6, 3, 8, 4, 8, 8, 1, 8, 0, 6, 7,\n",
      "                   0, 8, 5, 4, 5, 9, 2, 9, 2, 7, 4, 1, 1, 2, 6, 7, 4, 0, 7, 9, 2, 7, 5, 1,\n",
      "                   4, 3, 5, 7, 0, 3, 4, 2, 8, 3, 8, 8, 6, 4, 4, 1, 8, 3, 1, 2, 8, 8, 6, 1,\n",
      "                   3, 3, 9, 6, 4, 5, 2, 0, 9, 5, 1, 3, 8, 8, 5, 1, 2, 4, 1, 5, 8, 7, 8, 8,\n",
      "                   8, 8, 4, 2, 4, 0, 6, 5, 6, 4, 9, 5, 7, 2, 9, 4, 9, 2, 9, 0, 8, 4, 3, 9,\n",
      "                   9, 1, 7, 4, 4, 5, 4, 0, 5, 6, 7, 6, 7, 1, 6, 3, 6, 4, 5, 5, 0, 6, 0, 3,\n",
      "                   1, 6, 3, 5, 4, 3, 7, 2, 5, 1, 2, 8, 4, 1, 2, 4, 7, 2, 8, 0, 2, 2, 9, 8,\n",
      "                   8, 1, 7, 2, 4, 3, 2, 2, 4, 1, 1, 6, 4, 9, 2, 5, 7, 3, 6, 8, 9, 2, 8, 9,\n",
      "                   7, 2, 3, 6, 4, 8, 3, 7, 5, 6, 1, 5, 9, 3, 3, 3, 6, 9, 2, 3, 2, 1, 0, 9,\n",
      "                   6, 5, 1, 1, 6, 1, 7, 2, 5, 6, 6, 4, 6, 7, 3, 4, 3, 3, 5, 9, 5, 3, 4, 1])),\n",
      "               names=('seed_nodes', 'labels'),\n",
      "           ),\n",
      "           test_set=ItemSet(\n",
      "               items=(tensor([956, 265,  40, 548,  61, 405, 801, 768,  78, 833, 168, 120, 744, 365,\n",
      "                   946, 929, 399, 195, 283,   7, 608, 530, 169, 663, 613, 229, 727, 301,\n",
      "                   810, 645, 133, 931, 433, 275, 804, 158, 776, 470, 964, 232, 508,  52,\n",
      "                   452, 673, 583, 656, 268, 742, 401, 566, 654,  32, 241, 461, 216, 651,\n",
      "                   138, 383, 907, 926, 351, 880, 620, 494, 335, 992, 173, 417, 679, 447,\n",
      "                   292, 563, 579, 559, 390, 618, 662, 364, 441, 404,  47, 128, 177, 603,\n",
      "                   288, 665, 368,  11, 895, 113, 310, 503, 457, 311, 358, 720, 480, 974,\n",
      "                   201, 291, 259, 338,  21, 361, 267, 218, 451, 468, 960, 765, 731, 585,\n",
      "                   191, 225, 157, 598, 148, 562, 507,  25, 639, 428, 429, 670, 696, 326,\n",
      "                   653, 212, 359, 276, 799,  99, 486,  55, 894, 844, 476, 339, 935, 207,\n",
      "                   101, 784, 669, 106, 593, 237, 617, 933, 243, 350, 772, 303,  33,  41,\n",
      "                   406, 719, 911, 987, 800,  85, 982,  97,  75, 660, 913, 123, 726,  76,\n",
      "                   163,  15, 965, 499, 629, 355,  43, 686, 557, 866, 166, 104, 162, 190,\n",
      "                   870, 581,  16, 250, 124,  98, 407, 962, 419, 941, 707, 730, 990, 650,\n",
      "                   921, 912, 112, 286], dtype=torch.int32), tensor([5, 2, 9, 1, 8, 9, 4, 0, 0, 9, 3, 6, 7, 7, 5, 0, 5, 8, 8, 7, 1, 3, 7, 5,\n",
      "                   6, 9, 0, 2, 3, 7, 6, 9, 7, 9, 2, 8, 2, 6, 3, 9, 1, 6, 6, 3, 7, 5, 6, 4,\n",
      "                   1, 5, 5, 1, 2, 5, 6, 3, 4, 2, 5, 9, 5, 3, 3, 0, 6, 2, 9, 2, 2, 8, 0, 7,\n",
      "                   8, 4, 6, 4, 6, 5, 0, 9, 5, 9, 3, 3, 1, 6, 5, 8, 2, 6, 3, 3, 0, 8, 3, 7,\n",
      "                   2, 1, 9, 1, 6, 1, 8, 9, 3, 2, 5, 2, 5, 2, 9, 7, 1, 4, 3, 4, 2, 3, 5, 2,\n",
      "                   3, 6, 3, 8, 1, 2, 9, 2, 3, 7, 6, 9, 9, 2, 1, 9, 2, 8, 3, 0, 7, 3, 6, 3,\n",
      "                   4, 7, 6, 5, 5, 1, 8, 8, 1, 2, 7, 7, 7, 2, 4, 9, 3, 5, 1, 0, 2, 1, 7, 3,\n",
      "                   8, 8, 7, 3, 0, 8, 5, 6, 5, 9, 2, 8, 9, 2, 6, 9, 9, 5, 9, 4, 5, 7, 2, 5,\n",
      "                   8, 4, 8, 0, 7, 4, 9, 4])),\n",
      "               names=('seed_nodes', 'labels'),\n",
      "           ),\n",
      "           metadata={'name': 'node_classification', 'num_classes': 10},)\n",
      "\n",
      "Loaded link prediction task: OnDiskTask(validation_set=ItemSet(\n",
      "               items=(tensor([[452, 800],\n",
      "                   [622, 747],\n",
      "                   [718, 630],\n",
      "                   ...,\n",
      "                   [400, 393],\n",
      "                   [321, 994],\n",
      "                   [678, 236]], dtype=torch.int32), tensor([[333, 267, 317,  ..., 397, 709, 586],\n",
      "                   [776, 536, 596,  ..., 273, 361, 731],\n",
      "                   [661, 711, 118,  ..., 823, 440, 223],\n",
      "                   ...,\n",
      "                   [ 11, 952, 878,  ..., 818, 476, 416],\n",
      "                   [  2, 494, 870,  ..., 729, 832, 417],\n",
      "                   [ 79, 166, 879,  ..., 459, 952, 172]], dtype=torch.int32)),\n",
      "               names=('node_pairs', 'negative_dsts'),\n",
      "           ),\n",
      "           train_set=ItemSet(\n",
      "               items=(tensor([[909, 662],\n",
      "                   [713, 604],\n",
      "                   [388,  90],\n",
      "                   ...,\n",
      "                   [542, 727],\n",
      "                   [110, 690],\n",
      "                   [ 77, 478]], dtype=torch.int32),),\n",
      "               names=('node_pairs',),\n",
      "           ),\n",
      "           test_set=ItemSet(\n",
      "               items=(tensor([749, 806], dtype=torch.int32), tensor([[117, 440, 873,  ..., 176, 296, 483],\n",
      "                   [272, 141, 567,  ..., 169, 322, 739],\n",
      "                   [897, 981, 711,  ..., 702, 304, 969],\n",
      "                   ...,\n",
      "                   [205, 570, 739,  ..., 293, 190, 905],\n",
      "                   [342, 903, 366,  ..., 516, 901, 476],\n",
      "                   [348, 468, 844,  ..., 360, 844, 523]], dtype=torch.int32)),\n",
      "               names=('node_pairs', 'negative_dsts'),\n",
      "           ),\n",
      "           metadata={'name': 'link_prediction', 'num_classes': 10},)\n",
      "\n"
     ]
    },
    {
     "name": "stderr",
     "output_type": "stream",
     "text": [
      "/home/ubuntu/dgl_doc_dev/dgl/python/dgl/graphbolt/impl/ondisk_dataset.py:464: DGLWarning: Edge feature is stored, but edge IDs are not saved.\n",
      "  dgl_warning(\"Edge feature is stored, but edge IDs are not saved.\")\n"
     ]
    }
   ],
   "source": [
    "dataset = gb.OnDiskDataset(base_dir).load()\n",
    "graph = dataset.graph\n",
    "print(f\"Loaded graph: {graph}\\n\")\n",
    "\n",
    "feature = dataset.feature\n",
    "print(f\"Loaded feature store: {feature}\\n\")\n",
    "\n",
    "tasks = dataset.tasks\n",
    "nc_task = tasks[0]\n",
    "print(f\"Loaded node classification task: {nc_task}\\n\")\n",
    "lp_task = tasks[1]\n",
    "print(f\"Loaded link prediction task: {lp_task}\\n\")"
   ]
  }
 ],
 "metadata": {
  "colab": {
   "private_outputs": true,
   "provenance": []
  },
  "kernelspec": {
   "display_name": "Python 3",
   "name": "python3"
  },
  "language_info": {
   "codemirror_mode": {
    "name": "ipython",
    "version": 3
   },
   "file_extension": ".py",
   "mimetype": "text/x-python",
   "name": "python",
   "nbconvert_exporter": "python",
   "pygments_lexer": "ipython3",
   "version": "3.10.14"
  }
 },
 "nbformat": 4,
 "nbformat_minor": 0
}

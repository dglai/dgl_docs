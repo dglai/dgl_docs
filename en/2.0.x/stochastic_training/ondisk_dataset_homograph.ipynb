{
 "cells": [
  {
   "cell_type": "markdown",
   "metadata": {
    "id": "FnFhPMaAfLtJ"
   },
   "source": [
    "# OnDiskDataset for Homogeneous Graph\n",
    "\n",
    "[![Open In Colab](https://colab.research.google.com/assets/colab-badge.svg)](https://colab.research.google.com/github/dmlc/dgl/blob/master/notebooks/stochastic_training/ondisk_dataset_homograph.ipynb) [![GitHub](https://img.shields.io/badge/-View%20on%20GitHub-181717?logo=github&logoColor=ffffff)](https://github.com/dmlc/dgl/blob/master/notebooks/stochastic_training/ondisk_dataset_homograph.ipynb)\n",
    "\n",
    "This tutorial shows how to create `OnDiskDataset` for homogeneous graph that could be used in **GraphBolt** framework.\n",
    "\n",
    "By the end of this tutorial, you will be able to\n",
    "\n",
    "- organize graph structure data.\n",
    "- organize feature data.\n",
    "- organize training/validation/test set for specific tasks.\n",
    "\n",
    "To create an ``OnDiskDataset`` object, you need to organize all the data including graph structure, feature data and tasks into a directory. The directory should contain a ``metadata.yaml`` file that describes the metadata of the dataset.\n",
    "\n",
    "Now let's generate various data step by step and organize them together to instantiate `OnDiskDataset` finally."
   ]
  },
  {
   "cell_type": "markdown",
   "metadata": {
    "id": "Wlb19DtWgtzq"
   },
   "source": [
    "## Install DGL package"
   ]
  },
  {
   "cell_type": "code",
   "execution_count": 1,
   "metadata": {
    "execution": {
     "iopub.execute_input": "2024-09-18T06:46:21.912413Z",
     "iopub.status.busy": "2024-09-18T06:46:21.912153Z",
     "iopub.status.idle": "2024-09-18T06:46:25.632969Z",
     "shell.execute_reply": "2024-09-18T06:46:25.632370Z"
    },
    "id": "UojlT9ZGgyr9"
   },
   "outputs": [
    {
     "name": "stdout",
     "output_type": "stream",
     "text": [
      "Looking in links: https://data.dgl.ai/wheels-test/repo.html\r\n",
      "Requirement already satisfied: dgl in /opt/conda/envs/dgl-dev-cpu/lib/python3.10/site-packages (2.2a240410)\r\n",
      "Requirement already satisfied: numpy>=1.14.0 in /opt/conda/envs/dgl-dev-cpu/lib/python3.10/site-packages (from dgl) (1.26.4)\r\n",
      "Requirement already satisfied: scipy>=1.1.0 in /opt/conda/envs/dgl-dev-cpu/lib/python3.10/site-packages (from dgl) (1.14.0)\r\n",
      "Requirement already satisfied: networkx>=2.1 in /opt/conda/envs/dgl-dev-cpu/lib/python3.10/site-packages (from dgl) (3.3)\r\n",
      "Requirement already satisfied: requests>=2.19.0 in /opt/conda/envs/dgl-dev-cpu/lib/python3.10/site-packages (from dgl) (2.32.3)\r\n",
      "Requirement already satisfied: tqdm in /opt/conda/envs/dgl-dev-cpu/lib/python3.10/site-packages (from dgl) (4.66.5)\r\n",
      "Requirement already satisfied: psutil>=5.8.0 in /opt/conda/envs/dgl-dev-cpu/lib/python3.10/site-packages (from dgl) (6.0.0)\r\n",
      "Requirement already satisfied: torchdata>=0.5.0 in /opt/conda/envs/dgl-dev-cpu/lib/python3.10/site-packages (from dgl) (0.7.1)\r\n",
      "Requirement already satisfied: pandas in /opt/conda/envs/dgl-dev-cpu/lib/python3.10/site-packages (from dgl) (2.2.2)\r\n"
     ]
    },
    {
     "name": "stdout",
     "output_type": "stream",
     "text": [
      "Requirement already satisfied: charset-normalizer<4,>=2 in /opt/conda/envs/dgl-dev-cpu/lib/python3.10/site-packages (from requests>=2.19.0->dgl) (3.3.2)\r\n",
      "Requirement already satisfied: idna<4,>=2.5 in /opt/conda/envs/dgl-dev-cpu/lib/python3.10/site-packages (from requests>=2.19.0->dgl) (3.8)\r\n",
      "Requirement already satisfied: urllib3<3,>=1.21.1 in /opt/conda/envs/dgl-dev-cpu/lib/python3.10/site-packages (from requests>=2.19.0->dgl) (2.2.2)\r\n",
      "Requirement already satisfied: certifi>=2017.4.17 in /opt/conda/envs/dgl-dev-cpu/lib/python3.10/site-packages (from requests>=2.19.0->dgl) (2024.7.4)\r\n",
      "Requirement already satisfied: torch>=2 in /opt/conda/envs/dgl-dev-cpu/lib/python3.10/site-packages (from torchdata>=0.5.0->dgl) (2.4.0+cpu)\r\n"
     ]
    },
    {
     "name": "stdout",
     "output_type": "stream",
     "text": [
      "Requirement already satisfied: python-dateutil>=2.8.2 in /opt/conda/envs/dgl-dev-cpu/lib/python3.10/site-packages (from pandas->dgl) (2.9.0.post0)\r\n",
      "Requirement already satisfied: pytz>=2020.1 in /opt/conda/envs/dgl-dev-cpu/lib/python3.10/site-packages (from pandas->dgl) (2024.1)\r\n",
      "Requirement already satisfied: tzdata>=2022.7 in /opt/conda/envs/dgl-dev-cpu/lib/python3.10/site-packages (from pandas->dgl) (2024.1)\r\n",
      "Requirement already satisfied: six>=1.5 in /opt/conda/envs/dgl-dev-cpu/lib/python3.10/site-packages (from python-dateutil>=2.8.2->pandas->dgl) (1.16.0)\r\n",
      "Requirement already satisfied: filelock in /opt/conda/envs/dgl-dev-cpu/lib/python3.10/site-packages (from torch>=2->torchdata>=0.5.0->dgl) (3.15.4)\r\n",
      "Requirement already satisfied: typing-extensions>=4.8.0 in /opt/conda/envs/dgl-dev-cpu/lib/python3.10/site-packages (from torch>=2->torchdata>=0.5.0->dgl) (4.12.2)\r\n",
      "Requirement already satisfied: sympy in /opt/conda/envs/dgl-dev-cpu/lib/python3.10/site-packages (from torch>=2->torchdata>=0.5.0->dgl) (1.13.2)\r\n",
      "Requirement already satisfied: jinja2 in /opt/conda/envs/dgl-dev-cpu/lib/python3.10/site-packages (from torch>=2->torchdata>=0.5.0->dgl) (3.1.4)\r\n",
      "Requirement already satisfied: fsspec in /opt/conda/envs/dgl-dev-cpu/lib/python3.10/site-packages (from torch>=2->torchdata>=0.5.0->dgl) (2024.6.1)\r\n"
     ]
    },
    {
     "name": "stdout",
     "output_type": "stream",
     "text": [
      "Requirement already satisfied: MarkupSafe>=2.0 in /opt/conda/envs/dgl-dev-cpu/lib/python3.10/site-packages (from jinja2->torch>=2->torchdata>=0.5.0->dgl) (2.1.5)\r\n",
      "Requirement already satisfied: mpmath<1.4,>=1.1.0 in /opt/conda/envs/dgl-dev-cpu/lib/python3.10/site-packages (from sympy->torch>=2->torchdata>=0.5.0->dgl) (1.3.0)\r\n"
     ]
    },
    {
     "name": "stdout",
     "output_type": "stream",
     "text": [
      "DGL installed!\n"
     ]
    }
   ],
   "source": [
    "# Install required packages.\n",
    "import os\n",
    "import torch\n",
    "import numpy as np\n",
    "os.environ['TORCH'] = torch.__version__\n",
    "os.environ['DGLBACKEND'] = \"pytorch\"\n",
    "\n",
    "# Install the CPU version.\n",
    "device = torch.device(\"cpu\")\n",
    "!pip install --pre dgl -f https://data.dgl.ai/wheels-test/repo.html\n",
    "\n",
    "try:\n",
    "    import dgl\n",
    "    import dgl.graphbolt as gb\n",
    "    installed = True\n",
    "except ImportError as error:\n",
    "    installed = False\n",
    "    print(error)\n",
    "print(\"DGL installed!\" if installed else \"DGL not found!\")"
   ]
  },
  {
   "cell_type": "markdown",
   "metadata": {
    "id": "2R7WnSbjsfbr"
   },
   "source": [
    "## Data preparation\n",
    "In order to demonstrate how to organize various data, let's create a base directory first."
   ]
  },
  {
   "cell_type": "code",
   "execution_count": 2,
   "metadata": {
    "execution": {
     "iopub.execute_input": "2024-09-18T06:46:25.635612Z",
     "iopub.status.busy": "2024-09-18T06:46:25.635189Z",
     "iopub.status.idle": "2024-09-18T06:46:25.638838Z",
     "shell.execute_reply": "2024-09-18T06:46:25.638317Z"
    },
    "id": "SZipbzyltLfO"
   },
   "outputs": [
    {
     "name": "stdout",
     "output_type": "stream",
     "text": [
      "Created base directory: ./ondisk_dataset_homograph\n"
     ]
    }
   ],
   "source": [
    "base_dir = './ondisk_dataset_homograph'\n",
    "os.makedirs(base_dir, exist_ok=True)\n",
    "print(f\"Created base directory: {base_dir}\")"
   ]
  },
  {
   "cell_type": "markdown",
   "metadata": {
    "id": "qhNtIn_xhlnl"
   },
   "source": [
    "### Generate graph structure data\n",
    "For homogeneous graph, we just need to save edges(namely node pairs) into **CSV** file.\n",
    "\n",
    "Note:\n",
    "when saving to file, do not save index and header.\n"
   ]
  },
  {
   "cell_type": "code",
   "execution_count": 3,
   "metadata": {
    "execution": {
     "iopub.execute_input": "2024-09-18T06:46:25.641028Z",
     "iopub.status.busy": "2024-09-18T06:46:25.640778Z",
     "iopub.status.idle": "2024-09-18T06:46:25.652552Z",
     "shell.execute_reply": "2024-09-18T06:46:25.652050Z"
    },
    "id": "HcBt4G5BmSjr"
   },
   "outputs": [
    {
     "name": "stdout",
     "output_type": "stream",
     "text": [
      "Part of edges: [[916  53]\n",
      " [ 43 379]\n",
      " [685 876]\n",
      " [225 743]\n",
      " [919 249]]\n",
      "Edges are saved into ./ondisk_dataset_homograph/edges.csv\n"
     ]
    }
   ],
   "source": [
    "import numpy as np\n",
    "import pandas as pd\n",
    "num_nodes = 1000\n",
    "num_edges = 10 * num_nodes\n",
    "edges_path = os.path.join(base_dir, \"edges.csv\")\n",
    "edges = np.random.randint(0, num_nodes, size=(num_edges, 2))\n",
    "\n",
    "print(f\"Part of edges: {edges[:5, :]}\")\n",
    "\n",
    "df = pd.DataFrame(edges)\n",
    "df.to_csv(edges_path, index=False, header=False)\n",
    "\n",
    "print(f\"Edges are saved into {edges_path}\")"
   ]
  },
  {
   "cell_type": "markdown",
   "metadata": {
    "id": "kh-4cPtzpcaH"
   },
   "source": [
    "### Generate feature data for graph\n",
    "For feature data, numpy arrays and torch tensors are supported for now."
   ]
  },
  {
   "cell_type": "code",
   "execution_count": 4,
   "metadata": {
    "execution": {
     "iopub.execute_input": "2024-09-18T06:46:25.654749Z",
     "iopub.status.busy": "2024-09-18T06:46:25.654501Z",
     "iopub.status.idle": "2024-09-18T06:46:25.686397Z",
     "shell.execute_reply": "2024-09-18T06:46:25.685888Z"
    },
    "id": "_PVu1u5brBhF"
   },
   "outputs": [
    {
     "name": "stdout",
     "output_type": "stream",
     "text": [
      "Part of node feature [feat_0]: [[0.07506874 0.97412832 0.14989629 0.68315846 0.72461738]\n",
      " [0.97415705 0.0221444  0.88130406 0.93071116 0.85560486]\n",
      " [0.09422079 0.76017339 0.90975754 0.0252611  0.2286788 ]]\n",
      "Node feature [feat_0] is saved to ./ondisk_dataset_homograph/node-feat-0.npy\n",
      "\n",
      "Part of node feature [feat_1]: tensor([[0.4850, 0.7368, 0.8878, 0.4458, 0.6004],\n",
      "        [0.8962, 0.4395, 0.7174, 0.4299, 0.5414],\n",
      "        [0.1950, 0.0906, 0.9257, 0.3184, 0.8078]])\n",
      "Node feature [feat_1] is saved to ./ondisk_dataset_homograph/node-feat-1.pt\n",
      "\n",
      "Part of edge feature [feat_0]: [[0.16029718 0.73791084 0.49150916 0.07443747 0.56202794]\n",
      " [0.59497222 0.38449722 0.44229384 0.3990971  0.55965944]\n",
      " [0.91664484 0.6356691  0.21319406 0.85963877 0.56662854]]\n",
      "Edge feature [feat_0] is saved to ./ondisk_dataset_homograph/edge-feat-0.npy\n",
      "\n",
      "Part of edge feature [feat_1]: tensor([[0.5766, 0.6273, 0.4371, 0.6038, 0.5810],\n",
      "        [0.6287, 0.9752, 0.7301, 0.5222, 0.3633],\n",
      "        [0.4078, 0.3468, 0.2190, 0.7907, 0.3928]])\n",
      "Edge feature [feat_1] is saved to ./ondisk_dataset_homograph/edge-feat-1.pt\n",
      "\n"
     ]
    }
   ],
   "source": [
    "# Generate node feature in numpy array.\n",
    "node_feat_0_path = os.path.join(base_dir, \"node-feat-0.npy\")\n",
    "node_feat_0 = np.random.rand(num_nodes, 5)\n",
    "print(f\"Part of node feature [feat_0]: {node_feat_0[:3, :]}\")\n",
    "np.save(node_feat_0_path, node_feat_0)\n",
    "print(f\"Node feature [feat_0] is saved to {node_feat_0_path}\\n\")\n",
    "\n",
    "# Generate another node feature in torch tensor\n",
    "node_feat_1_path = os.path.join(base_dir, \"node-feat-1.pt\")\n",
    "node_feat_1 = torch.rand(num_nodes, 5)\n",
    "print(f\"Part of node feature [feat_1]: {node_feat_1[:3, :]}\")\n",
    "torch.save(node_feat_1, node_feat_1_path)\n",
    "print(f\"Node feature [feat_1] is saved to {node_feat_1_path}\\n\")\n",
    "\n",
    "# Generate edge feature in numpy array.\n",
    "edge_feat_0_path = os.path.join(base_dir, \"edge-feat-0.npy\")\n",
    "edge_feat_0 = np.random.rand(num_edges, 5)\n",
    "print(f\"Part of edge feature [feat_0]: {edge_feat_0[:3, :]}\")\n",
    "np.save(edge_feat_0_path, edge_feat_0)\n",
    "print(f\"Edge feature [feat_0] is saved to {edge_feat_0_path}\\n\")\n",
    "\n",
    "# Generate another edge feature in torch tensor\n",
    "edge_feat_1_path = os.path.join(base_dir, \"edge-feat-1.pt\")\n",
    "edge_feat_1 = torch.rand(num_edges, 5)\n",
    "print(f\"Part of edge feature [feat_1]: {edge_feat_1[:3, :]}\")\n",
    "torch.save(edge_feat_1, edge_feat_1_path)\n",
    "print(f\"Edge feature [feat_1] is saved to {edge_feat_1_path}\\n\")\n"
   ]
  },
  {
   "cell_type": "markdown",
   "metadata": {
    "id": "ZyqgOtsIwzh_"
   },
   "source": [
    "### Generate tasks\n",
    "`OnDiskDataset` supports multiple tasks. For each task, we need to prepare training/validation/test sets respectively. Such sets usually vary among different tasks. In this tutorial, let's create a **Node Classification** task and **Link Prediction** task."
   ]
  },
  {
   "cell_type": "markdown",
   "metadata": {
    "id": "hVxHaDIfzCkr"
   },
   "source": [
    "#### Node Classification Task\n",
    "For node classification task, we need **node IDs** and corresponding **labels** for each training/validation/test set. Like feature data, numpy arrays and torch tensors are supported for these sets."
   ]
  },
  {
   "cell_type": "code",
   "execution_count": 5,
   "metadata": {
    "execution": {
     "iopub.execute_input": "2024-09-18T06:46:25.688837Z",
     "iopub.status.busy": "2024-09-18T06:46:25.688456Z",
     "iopub.status.idle": "2024-09-18T06:46:25.698155Z",
     "shell.execute_reply": "2024-09-18T06:46:25.697664Z"
    },
    "id": "S5-fyBbHzTCO"
   },
   "outputs": [
    {
     "name": "stdout",
     "output_type": "stream",
     "text": [
      "Part of train ids for node classification: [130 434  38]\n",
      "NC train ids are saved to ./ondisk_dataset_homograph/nc-train-ids.npy\n",
      "\n",
      "Part of train labels for node classification: tensor([9, 7, 9])\n",
      "NC train labels are saved to ./ondisk_dataset_homograph/nc-train-labels.pt\n",
      "\n",
      "Part of val ids for node classification: [643 843 846]\n",
      "NC val ids are saved to ./ondisk_dataset_homograph/nc-val-ids.npy\n",
      "\n",
      "Part of val labels for node classification: tensor([1, 2, 0])\n",
      "NC val labels are saved to ./ondisk_dataset_homograph/nc-val-labels.pt\n",
      "\n",
      "Part of test ids for node classification: [636 660 645]\n",
      "NC test ids are saved to ./ondisk_dataset_homograph/nc-test-ids.npy\n",
      "\n",
      "Part of test labels for node classification: tensor([3, 9, 6])\n",
      "NC test labels are saved to ./ondisk_dataset_homograph/nc-test-labels.pt\n",
      "\n"
     ]
    }
   ],
   "source": [
    "num_trains = int(num_nodes * 0.6)\n",
    "num_vals = int(num_nodes * 0.2)\n",
    "num_tests = num_nodes - num_trains - num_vals\n",
    "\n",
    "ids = np.arange(num_nodes)\n",
    "np.random.shuffle(ids)\n",
    "\n",
    "nc_train_ids_path = os.path.join(base_dir, \"nc-train-ids.npy\")\n",
    "nc_train_ids = ids[:num_trains]\n",
    "print(f\"Part of train ids for node classification: {nc_train_ids[:3]}\")\n",
    "np.save(nc_train_ids_path, nc_train_ids)\n",
    "print(f\"NC train ids are saved to {nc_train_ids_path}\\n\")\n",
    "\n",
    "nc_train_labels_path = os.path.join(base_dir, \"nc-train-labels.pt\")\n",
    "nc_train_labels = torch.randint(0, 10, (num_trains,))\n",
    "print(f\"Part of train labels for node classification: {nc_train_labels[:3]}\")\n",
    "torch.save(nc_train_labels, nc_train_labels_path)\n",
    "print(f\"NC train labels are saved to {nc_train_labels_path}\\n\")\n",
    "\n",
    "nc_val_ids_path = os.path.join(base_dir, \"nc-val-ids.npy\")\n",
    "nc_val_ids = ids[num_trains:num_trains+num_vals]\n",
    "print(f\"Part of val ids for node classification: {nc_val_ids[:3]}\")\n",
    "np.save(nc_val_ids_path, nc_val_ids)\n",
    "print(f\"NC val ids are saved to {nc_val_ids_path}\\n\")\n",
    "\n",
    "nc_val_labels_path = os.path.join(base_dir, \"nc-val-labels.pt\")\n",
    "nc_val_labels = torch.randint(0, 10, (num_vals,))\n",
    "print(f\"Part of val labels for node classification: {nc_val_labels[:3]}\")\n",
    "torch.save(nc_val_labels, nc_val_labels_path)\n",
    "print(f\"NC val labels are saved to {nc_val_labels_path}\\n\")\n",
    "\n",
    "nc_test_ids_path = os.path.join(base_dir, \"nc-test-ids.npy\")\n",
    "nc_test_ids = ids[-num_tests:]\n",
    "print(f\"Part of test ids for node classification: {nc_test_ids[:3]}\")\n",
    "np.save(nc_test_ids_path, nc_test_ids)\n",
    "print(f\"NC test ids are saved to {nc_test_ids_path}\\n\")\n",
    "\n",
    "nc_test_labels_path = os.path.join(base_dir, \"nc-test-labels.pt\")\n",
    "nc_test_labels = torch.randint(0, 10, (num_tests,))\n",
    "print(f\"Part of test labels for node classification: {nc_test_labels[:3]}\")\n",
    "torch.save(nc_test_labels, nc_test_labels_path)\n",
    "print(f\"NC test labels are saved to {nc_test_labels_path}\\n\")"
   ]
  },
  {
   "cell_type": "markdown",
   "metadata": {
    "id": "LhAcDCHQ_KJ0"
   },
   "source": [
    "#### Link Prediction Task\n",
    "For link prediction task, we need **node pairs** or **negative src/dsts** for each training/validation/test set. Like feature data, numpy arrays and torch tensors are supported for these sets."
   ]
  },
  {
   "cell_type": "code",
   "execution_count": 6,
   "metadata": {
    "execution": {
     "iopub.execute_input": "2024-09-18T06:46:25.700328Z",
     "iopub.status.busy": "2024-09-18T06:46:25.700083Z",
     "iopub.status.idle": "2024-09-18T06:46:25.709309Z",
     "shell.execute_reply": "2024-09-18T06:46:25.708824Z"
    },
    "id": "u0jCnXIcAQy4"
   },
   "outputs": [
    {
     "name": "stdout",
     "output_type": "stream",
     "text": [
      "Part of train node pairs for link prediction: [[916  53]\n",
      " [ 43 379]\n",
      " [685 876]]\n",
      "LP train node pairs are saved to ./ondisk_dataset_homograph/lp-train-node-pairs.npy\n",
      "\n",
      "Part of val node pairs for link prediction: [[ 72 918]\n",
      " [687  98]\n",
      " [862 193]]\n",
      "LP val node pairs are saved to ./ondisk_dataset_homograph/lp-val-node-pairs.npy\n",
      "\n",
      "Part of val negative dsts for link prediction: tensor([[585, 352, 225, 623, 161, 134, 844,  63, 875,  79],\n",
      "        [370, 399, 479, 586, 684,   8, 593, 513,  76, 953],\n",
      "        [108, 971, 282, 230, 907, 891, 554,  54, 208,  21]])\n",
      "LP val negative dsts are saved to ./ondisk_dataset_homograph/lp-val-neg-dsts.pt\n",
      "\n",
      "Part of test node pairs for link prediction: [965 219]\n",
      "LP test node pairs are saved to ./ondisk_dataset_homograph/lp-test-node-pairs.npy\n",
      "\n",
      "Part of test negative dsts for link prediction: tensor([[417, 762, 962, 146, 162, 845, 403, 265, 572, 157],\n",
      "        [885, 962, 214, 346, 631, 308, 647,   6,  38, 580],\n",
      "        [834, 170, 209,  35, 775, 853, 486, 910, 236, 122]])\n",
      "LP test negative dsts are saved to ./ondisk_dataset_homograph/lp-test-neg-dsts.pt\n",
      "\n"
     ]
    }
   ],
   "source": [
    "num_trains = int(num_edges * 0.6)\n",
    "num_vals = int(num_edges * 0.2)\n",
    "num_tests = num_edges - num_trains - num_vals\n",
    "\n",
    "lp_train_node_pairs_path = os.path.join(base_dir, \"lp-train-node-pairs.npy\")\n",
    "lp_train_node_pairs = edges[:num_trains, :]\n",
    "print(f\"Part of train node pairs for link prediction: {lp_train_node_pairs[:3]}\")\n",
    "np.save(lp_train_node_pairs_path, lp_train_node_pairs)\n",
    "print(f\"LP train node pairs are saved to {lp_train_node_pairs_path}\\n\")\n",
    "\n",
    "lp_val_node_pairs_path = os.path.join(base_dir, \"lp-val-node-pairs.npy\")\n",
    "lp_val_node_pairs = edges[num_trains:num_trains+num_vals, :]\n",
    "print(f\"Part of val node pairs for link prediction: {lp_val_node_pairs[:3]}\")\n",
    "np.save(lp_val_node_pairs_path, lp_val_node_pairs)\n",
    "print(f\"LP val node pairs are saved to {lp_val_node_pairs_path}\\n\")\n",
    "\n",
    "lp_val_neg_dsts_path = os.path.join(base_dir, \"lp-val-neg-dsts.pt\")\n",
    "lp_val_neg_dsts = torch.randint(0, num_nodes, (num_vals, 10))\n",
    "print(f\"Part of val negative dsts for link prediction: {lp_val_neg_dsts[:3]}\")\n",
    "torch.save(lp_val_neg_dsts, lp_val_neg_dsts_path)\n",
    "print(f\"LP val negative dsts are saved to {lp_val_neg_dsts_path}\\n\")\n",
    "\n",
    "lp_test_node_pairs_path = os.path.join(base_dir, \"lp-test-node-pairs.npy\")\n",
    "lp_test_node_pairs = edges[-num_tests, :]\n",
    "print(f\"Part of test node pairs for link prediction: {lp_test_node_pairs[:3]}\")\n",
    "np.save(lp_test_node_pairs_path, lp_test_node_pairs)\n",
    "print(f\"LP test node pairs are saved to {lp_test_node_pairs_path}\\n\")\n",
    "\n",
    "lp_test_neg_dsts_path = os.path.join(base_dir, \"lp-test-neg-dsts.pt\")\n",
    "lp_test_neg_dsts = torch.randint(0, num_nodes, (num_tests, 10))\n",
    "print(f\"Part of test negative dsts for link prediction: {lp_test_neg_dsts[:3]}\")\n",
    "torch.save(lp_test_neg_dsts, lp_test_neg_dsts_path)\n",
    "print(f\"LP test negative dsts are saved to {lp_test_neg_dsts_path}\\n\")"
   ]
  },
  {
   "cell_type": "markdown",
   "metadata": {
    "id": "wbk6-wxRK-6S"
   },
   "source": [
    "## Organize Data into YAML File\n",
    "Now we need to create a `metadata.yaml` file which contains the paths, dadta types of graph structure, feature data, training/validation/test sets.\n",
    "\n",
    "Notes:\n",
    "- all path should be relative to `metadata.yaml`.\n",
    "- Below fields are optional and not specified in below example.\n",
    "  - `in_memory`: indicates whether to load dada into memory or `mmap`. Default is `True`.\n",
    "\n",
    "Please refer to [YAML specification](https://github.com/dmlc/dgl/blob/master/docs/source/stochastic_training/ondisk-dataset-specification.rst) for more details."
   ]
  },
  {
   "cell_type": "code",
   "execution_count": 7,
   "metadata": {
    "execution": {
     "iopub.execute_input": "2024-09-18T06:46:25.711714Z",
     "iopub.status.busy": "2024-09-18T06:46:25.711321Z",
     "iopub.status.idle": "2024-09-18T06:46:25.716265Z",
     "shell.execute_reply": "2024-09-18T06:46:25.715789Z"
    },
    "id": "ddGTWW61Lpwp"
   },
   "outputs": [],
   "source": [
    "yaml_content = f\"\"\"\n",
    "    dataset_name: homogeneous_graph_nc_lp\n",
    "    graph:\n",
    "      nodes:\n",
    "        - num: {num_nodes}\n",
    "      edges:\n",
    "        - format: csv\n",
    "          path: {os.path.basename(edges_path)}\n",
    "    feature_data:\n",
    "      - domain: node\n",
    "        name: feat_0\n",
    "        format: numpy\n",
    "        path: {os.path.basename(node_feat_0_path)}\n",
    "      - domain: node\n",
    "        name: feat_1\n",
    "        format: torch\n",
    "        path: {os.path.basename(node_feat_1_path)}\n",
    "      - domain: edge\n",
    "        name: feat_0\n",
    "        format: numpy\n",
    "        path: {os.path.basename(edge_feat_0_path)}\n",
    "      - domain: edge\n",
    "        name: feat_1\n",
    "        format: torch\n",
    "        path: {os.path.basename(edge_feat_1_path)}\n",
    "    tasks:\n",
    "      - name: node_classification\n",
    "        num_classes: 10\n",
    "        train_set:\n",
    "          - data:\n",
    "              - name: seed_nodes\n",
    "                format: numpy\n",
    "                path: {os.path.basename(nc_train_ids_path)}\n",
    "              - name: labels\n",
    "                format: torch\n",
    "                path: {os.path.basename(nc_train_labels_path)}\n",
    "        validation_set:\n",
    "          - data:\n",
    "              - name: seed_nodes\n",
    "                format: numpy\n",
    "                path: {os.path.basename(nc_val_ids_path)}\n",
    "              - name: labels\n",
    "                format: torch\n",
    "                path: {os.path.basename(nc_val_labels_path)}\n",
    "        test_set:\n",
    "          - data:\n",
    "              - name: seed_nodes\n",
    "                format: numpy\n",
    "                path: {os.path.basename(nc_test_ids_path)}\n",
    "              - name: labels\n",
    "                format: torch\n",
    "                path: {os.path.basename(nc_test_labels_path)}\n",
    "      - name: link_prediction\n",
    "        num_classes: 10\n",
    "        train_set:\n",
    "          - data:\n",
    "              - name: node_pairs\n",
    "                format: numpy\n",
    "                path: {os.path.basename(lp_train_node_pairs_path)}\n",
    "        validation_set:\n",
    "          - data:\n",
    "              - name: node_pairs\n",
    "                format: numpy\n",
    "                path: {os.path.basename(lp_val_node_pairs_path)}\n",
    "              - name: negative_dsts\n",
    "                format: torch\n",
    "                path: {os.path.basename(lp_val_neg_dsts_path)}\n",
    "        test_set:\n",
    "          - data:\n",
    "              - name: node_pairs\n",
    "                format: numpy\n",
    "                path: {os.path.basename(lp_test_node_pairs_path)}\n",
    "              - name: negative_dsts\n",
    "                format: torch\n",
    "                path: {os.path.basename(lp_test_neg_dsts_path)}\n",
    "\"\"\"\n",
    "metadata_path = os.path.join(base_dir, \"metadata.yaml\")\n",
    "with open(metadata_path, \"w\") as f:\n",
    "  f.write(yaml_content)"
   ]
  },
  {
   "cell_type": "markdown",
   "metadata": {
    "id": "kEfybHGhOW7O"
   },
   "source": [
    "## Instantiate `OnDiskDataset`\n",
    "Now we're ready to load dataset via `dgl.graphbolt.OnDiskDataset`. When instantiating, we just pass in the base directory where `metadata.yaml` file lies.\n",
    "\n",
    "During first instantiation, GraphBolt preprocesses the raw data such as constructing `FusedCSCSamplingGraph` from edges. All data including graph, feature data, training/validation/test sets are put into `preprocessed` directory after preprocessing. Any following dataset loading will skip the preprocess stage.\n",
    "\n",
    "After preprocessing, `load()` is required to be called explicitly in order to load graph, feature data and tasks."
   ]
  },
  {
   "cell_type": "code",
   "execution_count": 8,
   "metadata": {
    "execution": {
     "iopub.execute_input": "2024-09-18T06:46:25.718580Z",
     "iopub.status.busy": "2024-09-18T06:46:25.718125Z",
     "iopub.status.idle": "2024-09-18T06:46:25.745354Z",
     "shell.execute_reply": "2024-09-18T06:46:25.744843Z"
    },
    "id": "W58CZoSzOiyo"
   },
   "outputs": [
    {
     "name": "stdout",
     "output_type": "stream",
     "text": [
      "The dataset is already preprocessed.\n",
      "Loaded graph: FusedCSCSamplingGraph(csc_indptr=tensor([    0,    12,    21,  ...,  9980,  9990, 10000], dtype=torch.int32),\n",
      "                      indices=tensor([868, 783, 112,  ..., 519, 834,  14], dtype=torch.int32),\n",
      "                      num_nodes=1000, num_edges=10000)\n",
      "\n",
      "Loaded feature store: TorchBasedFeatureStore{(<OnDiskFeatureDataDomain.NODE: 'node'>, None, 'feat_0'): TorchBasedFeature(feature=tensor([[0.2942, 0.6908, 0.3524, 0.0982, 0.7380],\n",
      "                                                        [0.5107, 0.4093, 0.5527, 0.3593, 0.9603],\n",
      "                                                        [0.8525, 0.9824, 0.2857, 0.7608, 0.6530],\n",
      "                                                        ...,\n",
      "                                                        [0.5683, 0.3722, 0.6206, 0.9546, 0.4787],\n",
      "                                                        [0.6621, 0.8055, 0.7307, 0.9558, 0.6780],\n",
      "                                                        [0.3083, 0.2330, 0.1571, 0.5892, 0.8241]], dtype=torch.float64),\n",
      "                                        metadata={},\n",
      "                      ), (<OnDiskFeatureDataDomain.NODE: 'node'>, None, 'feat_1'): TorchBasedFeature(feature=tensor([[0.2998, 0.2083, 0.0164, 0.1720, 0.3420],\n",
      "                                                        [0.5284, 0.8141, 0.8532, 0.2131, 0.6561],\n",
      "                                                        [0.2519, 0.0038, 0.2491, 0.5206, 0.2770],\n",
      "                                                        ...,\n",
      "                                                        [0.2662, 0.3481, 0.1902, 0.7924, 0.7983],\n",
      "                                                        [0.8105, 0.6783, 0.2879, 0.7376, 0.9450],\n",
      "                                                        [0.8293, 0.9950, 0.3723, 0.6470, 0.6020]]),\n",
      "                                        metadata={},\n",
      "                      ), (<OnDiskFeatureDataDomain.EDGE: 'edge'>, None, 'feat_0'): TorchBasedFeature(feature=tensor([[0.4623, 0.7268, 0.5035, 0.1427, 0.3997],\n",
      "                                                        [0.5285, 0.4007, 0.0286, 0.6132, 0.7678],\n",
      "                                                        [0.3266, 0.9306, 0.2830, 0.5992, 0.2361],\n",
      "                                                        ...,\n",
      "                                                        [0.0617, 0.1134, 0.7045, 0.9387, 0.4453],\n",
      "                                                        [0.8369, 0.5107, 0.7584, 0.6620, 0.8032],\n",
      "                                                        [0.4750, 0.1283, 0.6081, 0.0818, 0.4573]], dtype=torch.float64),\n",
      "                                        metadata={},\n",
      "                      ), (<OnDiskFeatureDataDomain.EDGE: 'edge'>, None, 'feat_1'): TorchBasedFeature(feature=tensor([[0.5407, 0.4113, 0.0754, 0.3578, 0.7476],\n",
      "                                                        [0.2598, 0.9562, 0.0146, 0.4526, 0.1496],\n",
      "                                                        [0.3789, 0.3280, 0.1483, 0.2633, 0.6233],\n",
      "                                                        ...,\n",
      "                                                        [0.5062, 0.4405, 0.8039, 0.4177, 0.2265],\n",
      "                                                        [0.6776, 0.1285, 0.9498, 0.2606, 0.4946],\n",
      "                                                        [0.3133, 0.5146, 0.9926, 0.8111, 0.8531]]),\n",
      "                                        metadata={},\n",
      "                      )}\n",
      "\n",
      "Loaded node classification task: OnDiskTask(validation_set=ItemSet(items=(tensor([ 96, 487,  63, 246, 205, 355, 547, 315, 268,  49, 635, 786, 120, 329,\n",
      "                                                128, 787, 950, 109, 692, 688, 801,  50, 873, 919, 384,  29,  30,  93,\n",
      "                                                868,  65, 327, 980, 225, 829, 821, 275, 313, 319, 623, 609, 605, 507,\n",
      "                                                220, 472, 441, 909,  86, 230, 713, 193, 707, 431, 717, 223, 842, 820,\n",
      "                                                123, 640, 325, 211, 539, 450, 725, 969, 782, 173, 345, 573, 812, 108,\n",
      "                                                175,  12, 129, 144,  97, 340,  61, 363, 831, 998, 685, 738, 304, 924,\n",
      "                                                406, 706, 963, 149, 891, 705, 213, 941,  42, 857, 201, 104, 153, 446,\n",
      "                                                988, 862,  77,  10, 240, 416, 923, 484, 172, 207, 699,  55,  21,  68,\n",
      "                                                439, 570,  88, 534, 834, 267, 503, 221,  39, 841, 428, 933,  91, 359,\n",
      "                                                265, 937, 581, 957, 780, 600, 921, 666, 469, 580,  13, 552, 765, 161,\n",
      "                                                741,  32, 622, 662, 902, 739, 839, 308, 245, 301, 910, 865, 655, 135,\n",
      "                                                611, 159, 343, 626, 206, 900, 651, 791, 249, 579, 170, 544, 331, 332,\n",
      "                                                269, 309, 448, 894, 659, 524, 565, 339, 693, 760, 978, 399, 904, 186,\n",
      "                                                  9, 457, 671, 906, 277, 419, 283, 289, 769, 578, 943, 453, 214, 896,\n",
      "                                                 62, 759, 299,  82], dtype=torch.int32), tensor([7, 8, 8, 4, 1, 2, 3, 8, 7, 9, 0, 0, 5, 6, 1, 7, 5, 9, 8, 6, 5, 6, 8, 7,\n",
      "                                                0, 4, 6, 6, 6, 4, 2, 8, 9, 6, 3, 7, 6, 1, 7, 3, 5, 1, 5, 5, 2, 2, 8, 5,\n",
      "                                                7, 7, 1, 3, 4, 0, 7, 4, 5, 8, 1, 8, 9, 2, 2, 1, 1, 0, 5, 3, 2, 2, 7, 5,\n",
      "                                                6, 1, 4, 2, 5, 4, 9, 4, 2, 0, 5, 8, 7, 9, 2, 9, 9, 7, 8, 7, 2, 4, 1, 0,\n",
      "                                                8, 4, 6, 1, 9, 3, 4, 6, 6, 1, 1, 5, 3, 8, 3, 9, 3, 3, 9, 7, 8, 2, 3, 1,\n",
      "                                                3, 8, 6, 0, 3, 7, 0, 3, 7, 8, 9, 1, 1, 9, 0, 7, 6, 8, 6, 0, 9, 3, 7, 6,\n",
      "                                                1, 2, 4, 0, 4, 7, 8, 0, 1, 2, 4, 2, 6, 0, 3, 5, 4, 8, 3, 2, 0, 0, 0, 7,\n",
      "                                                0, 4, 4, 6, 6, 3, 5, 5, 6, 2, 2, 0, 6, 8, 7, 6, 8, 9, 6, 1, 6, 5, 0, 1,\n",
      "                                                6, 2, 6, 3, 2, 2, 8, 2])),\n",
      "                                  names=('seeds', 'labels'),\n",
      "                          ),\n",
      "           train_set=ItemSet(items=(tensor([616, 898, 323,  28, 740, 816, 932, 665, 501, 775,  95, 317, 686, 314,\n",
      "                                           515, 458, 349, 863, 949, 502,  38, 297, 476, 822, 652, 858, 708, 828,\n",
      "                                           624, 493, 174, 424, 210, 770, 562, 338, 729, 833,  92, 764, 771, 946,\n",
      "                                           417, 452, 150, 990, 401,  76, 726, 577, 254, 935, 559, 574, 414, 162,\n",
      "                                           305, 826, 795, 302, 803, 591, 107, 558, 747, 259, 599, 410, 356, 642,\n",
      "                                           272, 774, 838, 464, 138, 993, 897,  70, 117, 956, 653, 603, 732, 351,\n",
      "                                           481, 485, 793,  23, 525, 754, 691, 474, 394,  73, 716, 291, 744,  26,\n",
      "                                           234, 387,  79, 977, 746, 742, 405, 235, 975, 847, 111, 645, 939, 681,\n",
      "                                           934,  41, 964, 192, 840, 212, 368, 613, 310, 756, 285,  14, 386, 137,\n",
      "                                           553, 160, 938, 989, 444, 257, 802, 494, 876, 881, 912, 462,  36, 228,\n",
      "                                            40, 572, 936, 620, 809, 667, 447,  94, 219, 373, 785, 195, 670, 396,\n",
      "                                           948, 130, 804, 843, 365, 679, 520, 537, 508, 590, 371, 928, 155,  16,\n",
      "                                           628, 654, 958, 677, 395, 436, 456, 675, 730, 459, 542, 526, 678, 784,\n",
      "                                           582, 704, 797, 171, 377, 133, 875, 226, 287, 762, 880,   4, 124, 684,\n",
      "                                           369, 101, 885, 429, 498, 509, 871, 380, 251, 321, 794,   6, 837, 632,\n",
      "                                           105, 196, 437, 940, 849, 972, 165, 244, 971, 819, 669, 604, 874, 893,\n",
      "                                           147,   8, 183, 535, 511, 920, 280, 143, 617, 496, 113, 664, 263, 854,\n",
      "                                           477, 922, 445, 209, 517, 198, 915, 470, 701,  72, 495, 376, 646,   7,\n",
      "                                           947,  56, 783, 887, 189, 281, 114, 390, 914, 602, 649, 422, 674,   5,\n",
      "                                           127, 945, 154, 994, 861, 311, 354, 682, 550, 836, 905, 166, 720, 815,\n",
      "                                           538, 796, 362, 719,  15, 286, 473, 256,  48,  87, 777, 712,  34, 851,\n",
      "                                           788, 728, 492, 979, 986, 710, 916,  51, 976, 185, 672, 415, 583,  59,\n",
      "                                           745, 253, 178, 718, 789, 182, 433, 202, 589, 697, 463, 262, 908, 122,\n",
      "                                           527, 261,  31, 724, 926, 266, 925, 391, 999, 714, 545, 886, 222, 882,\n",
      "                                           913, 402, 966, 372, 442, 805, 335, 381, 959, 892, 337, 752, 668, 204,\n",
      "                                           694, 344, 504, 561, 238, 519, 810, 318, 736, 375, 995, 889, 985, 996,\n",
      "                                           347,  54, 848,  46, 698, 370, 621, 197, 549, 434, 468,  27, 571, 236,\n",
      "                                             1, 625, 567, 778, 479, 899, 597, 449, 465, 521, 766, 540, 382, 637,\n",
      "                                           400, 237, 260, 366,  81, 300, 536, 872, 636, 215, 430, 518, 148, 250,\n",
      "                                           619, 293, 478, 420, 270, 330,  53, 353, 757, 490, 648, 404,  18, 146,\n",
      "                                           352, 152, 358, 983, 647, 389,  89, 294,  47, 523, 607, 634, 569, 832,\n",
      "                                           115,  67, 683, 584, 231, 588, 643, 883,   2, 702, 454, 663, 800, 952,\n",
      "                                           614, 190, 164, 594,  19, 750, 813, 808, 733, 357, 131, 158, 709, 279,\n",
      "                                           467, 181, 541, 907,  74, 176, 644, 506, 890, 576, 440, 292, 748, 264,\n",
      "                                           378, 306, 658, 273, 879, 374, 199, 703, 601, 218,  25, 426, 781, 997,\n",
      "                                           856, 112, 711, 763,  22, 282, 610, 761, 951, 554, 700, 255,  66, 125,\n",
      "                                           438, 790, 482, 397, 661, 203,  83, 606,  24, 560, 252, 755, 660, 727,\n",
      "                                           911, 179, 328, 650, 242, 867, 967, 731, 877, 981, 184, 735, 460, 136,\n",
      "                                           758, 532, 100, 425, 955,  71, 290, 723, 973, 177, 944, 918, 512, 499,\n",
      "                                           486, 596, 208, 860, 505, 132, 722, 295, 385, 930,  58, 970, 568,  33,\n",
      "                                           188, 850, 543, 557, 489, 298, 749, 103, 656, 734, 864, 167, 743, 855,\n",
      "                                            60, 229, 638, 510, 227,  17, 194, 528, 991, 835, 411, 563, 631, 827,\n",
      "                                           586,  98, 514, 859, 407, 772, 529, 888, 531, 546, 418, 575],\n",
      "                                          dtype=torch.int32), tensor([6, 9, 2, 4, 5, 6, 5, 3, 6, 6, 0, 2, 1, 8, 0, 1, 3, 5, 4, 2, 5, 3, 4, 5,\n",
      "                                           6, 0, 3, 2, 6, 0, 1, 3, 0, 0, 4, 4, 1, 9, 7, 2, 7, 1, 4, 7, 7, 6, 8, 3,\n",
      "                                           6, 4, 1, 7, 5, 0, 5, 9, 0, 3, 7, 3, 9, 8, 7, 7, 8, 7, 3, 1, 1, 8, 1, 1,\n",
      "                                           3, 6, 9, 3, 6, 5, 8, 9, 8, 2, 4, 5, 6, 3, 5, 2, 0, 6, 3, 2, 5, 8, 5, 5,\n",
      "                                           8, 2, 7, 4, 3, 6, 5, 6, 8, 3, 4, 2, 8, 9, 8, 2, 3, 8, 2, 6, 1, 4, 5, 9,\n",
      "                                           4, 6, 5, 7, 4, 4, 1, 5, 4, 7, 2, 0, 4, 8, 9, 5, 2, 5, 8, 8, 9, 3, 3, 6,\n",
      "                                           7, 8, 7, 6, 3, 3, 0, 9, 2, 4, 1, 4, 0, 2, 5, 1, 4, 4, 7, 0, 7, 6, 4, 7,\n",
      "                                           1, 3, 9, 5, 0, 6, 1, 9, 7, 1, 4, 3, 5, 7, 7, 0, 8, 3, 0, 6, 5, 2, 8, 7,\n",
      "                                           0, 1, 0, 6, 3, 5, 8, 6, 2, 8, 2, 9, 6, 6, 9, 4, 4, 5, 0, 5, 9, 4, 6, 2,\n",
      "                                           1, 0, 6, 2, 2, 6, 5, 4, 4, 3, 9, 6, 5, 8, 4, 5, 1, 4, 4, 4, 6, 8, 0, 5,\n",
      "                                           4, 8, 9, 4, 3, 0, 2, 4, 5, 4, 4, 2, 7, 4, 8, 9, 6, 5, 2, 2, 1, 1, 6, 3,\n",
      "                                           9, 9, 8, 9, 9, 9, 5, 7, 5, 0, 7, 4, 0, 0, 2, 5, 5, 9, 1, 6, 4, 0, 2, 0,\n",
      "                                           6, 9, 4, 7, 1, 4, 5, 2, 1, 0, 1, 9, 9, 8, 3, 1, 8, 9, 7, 1, 7, 6, 5, 7,\n",
      "                                           5, 6, 4, 4, 7, 9, 8, 6, 0, 4, 7, 1, 0, 8, 3, 4, 3, 9, 1, 9, 8, 2, 1, 0,\n",
      "                                           4, 5, 5, 3, 4, 4, 3, 6, 8, 7, 0, 7, 9, 2, 9, 8, 1, 0, 4, 2, 6, 0, 4, 9,\n",
      "                                           5, 8, 8, 3, 8, 6, 5, 2, 2, 6, 3, 6, 4, 9, 9, 7, 4, 2, 4, 5, 4, 2, 2, 5,\n",
      "                                           1, 4, 0, 3, 0, 9, 6, 5, 1, 2, 9, 8, 3, 5, 4, 2, 3, 2, 5, 4, 7, 2, 9, 5,\n",
      "                                           9, 7, 4, 8, 8, 1, 3, 2, 2, 8, 2, 4, 8, 3, 0, 8, 7, 1, 1, 6, 2, 4, 8, 2,\n",
      "                                           6, 0, 2, 0, 9, 3, 9, 3, 2, 5, 3, 1, 2, 4, 4, 1, 4, 2, 3, 1, 0, 1, 7, 8,\n",
      "                                           1, 1, 4, 1, 6, 4, 1, 6, 7, 8, 6, 6, 6, 7, 2, 9, 1, 1, 3, 0, 4, 5, 2, 0,\n",
      "                                           1, 7, 8, 7, 8, 6, 2, 4, 5, 9, 8, 5, 9, 7, 9, 3, 0, 1, 5, 6, 0, 4, 2, 8,\n",
      "                                           9, 4, 2, 8, 2, 4, 6, 7, 5, 4, 9, 3, 7, 8, 9, 3, 6, 2, 4, 6, 8, 8, 9, 4,\n",
      "                                           1, 7, 3, 2, 6, 8, 7, 4, 3, 3, 2, 0, 6, 8, 8, 7, 1, 8, 8, 9, 9, 3, 6, 1,\n",
      "                                           9, 8, 0, 2, 9, 4, 6, 9, 3, 6, 9, 8, 8, 4, 7, 2, 4, 6, 9, 2, 3, 3, 2, 2,\n",
      "                                           2, 8, 9, 0, 4, 2, 8, 1, 4, 4, 7, 2, 7, 2, 6, 6, 3, 9, 2, 6, 3, 3, 0, 7])),\n",
      "                             names=('seeds', 'labels'),\n",
      "                     ),\n",
      "           test_set=ItemSet(items=(tensor([585, 118, 191, 942, 830, 689, 455, 500, 953, 102, 233, 776,  78, 533,\n",
      "                                          232, 931, 965,  52, 608, 903, 555, 432, 180, 615, 844, 852, 334, 551,\n",
      "                                          341, 336, 187, 116, 475, 633, 427, 657, 825, 961, 639, 393, 169,  69,\n",
      "                                           45, 987, 901,  85, 676, 288, 141, 398,  20, 779, 587, 361, 139, 715,\n",
      "                                          403, 443, 471, 641, 564, 968, 974, 168, 823, 629, 530, 737, 451, 483,\n",
      "                                           44,  84, 954, 145, 513, 696, 817, 592, 126, 927,  35, 895, 680,   3,\n",
      "                                          239, 142, 548, 217, 798, 556, 412, 392, 818, 322, 119, 984, 992, 247,\n",
      "                                          216, 522, 811, 845, 497, 121, 673, 435, 324, 156, 333, 342, 690, 768,\n",
      "                                           11, 388, 276, 461, 627, 274, 516,  75, 346, 243, 630,  80, 612, 566,\n",
      "                                          278, 807, 753, 982, 364, 248,   0, 409, 224, 773, 878, 866,  57, 307,\n",
      "                                          917, 792,  64, 846, 593,  43, 312, 466, 767, 320, 348, 163, 480, 806,\n",
      "                                          960, 258, 423, 884, 140, 799, 687, 316, 383, 379, 421, 350, 491, 488,\n",
      "                                          367, 618, 869, 134,  99, 110, 751, 598, 962, 296, 241, 695, 200, 284,\n",
      "                                           37, 303, 929, 413,  90, 360, 326, 824, 853, 721, 271, 151, 157, 106,\n",
      "                                          595, 814, 870, 408], dtype=torch.int32), tensor([3, 0, 8, 0, 0, 5, 4, 6, 1, 5, 7, 5, 2, 2, 4, 4, 0, 2, 7, 5, 1, 9, 8, 9,\n",
      "                                          0, 5, 1, 6, 4, 5, 6, 8, 7, 4, 9, 1, 0, 5, 2, 3, 6, 9, 4, 5, 7, 8, 7, 8,\n",
      "                                          9, 4, 5, 1, 9, 4, 1, 6, 6, 5, 5, 1, 4, 6, 9, 2, 2, 9, 4, 4, 7, 9, 6, 9,\n",
      "                                          4, 0, 7, 0, 0, 6, 8, 8, 7, 5, 4, 8, 2, 6, 1, 9, 7, 1, 5, 3, 7, 1, 8, 3,\n",
      "                                          9, 4, 9, 7, 8, 7, 0, 5, 4, 7, 3, 9, 1, 0, 6, 5, 6, 3, 5, 9, 6, 2, 7, 3,\n",
      "                                          1, 9, 4, 9, 8, 4, 7, 3, 8, 3, 5, 0, 0, 5, 4, 9, 2, 2, 8, 6, 7, 8, 5, 9,\n",
      "                                          2, 8, 4, 8, 4, 4, 9, 5, 8, 9, 7, 1, 2, 4, 6, 2, 3, 1, 2, 7, 2, 1, 3, 1,\n",
      "                                          0, 5, 8, 9, 6, 7, 4, 8, 3, 1, 7, 4, 4, 0, 0, 3, 9, 9, 6, 6, 0, 7, 8, 8,\n",
      "                                          2, 9, 3, 4, 9, 9, 2, 0])),\n",
      "                            names=('seeds', 'labels'),\n",
      "                    ),\n",
      "           metadata={'name': 'node_classification', 'num_classes': 10},\n",
      ")\n",
      "\n",
      "Loaded link prediction task: OnDiskTask(validation_set=ItemSet(items=(tensor([[923, 182],\n",
      "                                                [ 86, 235],\n",
      "                                                [228, 807],\n",
      "                                                ...,\n",
      "                                                [ 71, 128],\n",
      "                                                [ 71, 790],\n",
      "                                                [ 71, 120]], dtype=torch.int32), tensor([1., 1., 1.,  ..., 0., 0., 0.], dtype=torch.float64), tensor([   0,    1,    2,  ..., 1999, 1999, 1999])),\n",
      "                                  names=('seeds', 'labels', 'indexes'),\n",
      "                          ),\n",
      "           train_set=ItemSet(items=(tensor([[ 70, 443],\n",
      "                                           [ 83, 924],\n",
      "                                           [775, 720],\n",
      "                                           ...,\n",
      "                                           [899, 519],\n",
      "                                           [618, 489],\n",
      "                                           [274, 613]], dtype=torch.int32),),\n",
      "                             names=('seeds',),\n",
      "                     ),\n",
      "           test_set=ItemSet(items=(tensor([[927, 761],\n",
      "                                          [987,  95],\n",
      "                                          [375,  23],\n",
      "                                          ...,\n",
      "                                          [620, 594],\n",
      "                                          [620, 997],\n",
      "                                          [620, 638]], dtype=torch.int32), tensor([1., 1., 1.,  ..., 0., 0., 0.], dtype=torch.float64), tensor([   0,    1,    2,  ..., 1999, 1999, 1999])),\n",
      "                            names=('seeds', 'labels', 'indexes'),\n",
      "                    ),\n",
      "           metadata={'name': 'link_prediction', 'num_classes': 10},\n",
      ")\n",
      "\n"
     ]
    },
    {
     "name": "stderr",
     "output_type": "stream",
     "text": [
      "/home/ubuntu/regression_test/dgl/python/dgl/graphbolt/impl/ondisk_dataset.py:467: FutureWarning: You are using `torch.load` with `weights_only=False` (the current default value), which uses the default pickle module implicitly. It is possible to construct malicious pickle data which will execute arbitrary code during unpickling (See https://github.com/pytorch/pytorch/blob/main/SECURITY.md#untrusted-models for more details). In a future release, the default value for `weights_only` will be flipped to `True`. This limits the functions that could be executed during unpickling. Arbitrary objects will no longer be allowed to be loaded via this mode unless they are explicitly allowlisted by the user via `torch.serialization.add_safe_globals`. We recommend you start setting `weights_only=True` for any use case where you don't have full control of the loaded file. Please open an issue on GitHub for any issues related to this experimental feature.\n",
      "  return torch.load(graph_topology.path)\n"
     ]
    }
   ],
   "source": [
    "dataset = gb.OnDiskDataset(base_dir).load()\n",
    "graph = dataset.graph\n",
    "print(f\"Loaded graph: {graph}\\n\")\n",
    "\n",
    "feature = dataset.feature\n",
    "print(f\"Loaded feature store: {feature}\\n\")\n",
    "\n",
    "tasks = dataset.tasks\n",
    "nc_task = tasks[0]\n",
    "print(f\"Loaded node classification task: {nc_task}\\n\")\n",
    "lp_task = tasks[1]\n",
    "print(f\"Loaded link prediction task: {lp_task}\\n\")"
   ]
  }
 ],
 "metadata": {
  "colab": {
   "private_outputs": true,
   "provenance": []
  },
  "kernelspec": {
   "display_name": "Python 3",
   "name": "python3"
  },
  "language_info": {
   "codemirror_mode": {
    "name": "ipython",
    "version": 3
   },
   "file_extension": ".py",
   "mimetype": "text/x-python",
   "name": "python",
   "nbconvert_exporter": "python",
   "pygments_lexer": "ipython3",
   "version": "3.10.14"
  }
 },
 "nbformat": 4,
 "nbformat_minor": 0
}

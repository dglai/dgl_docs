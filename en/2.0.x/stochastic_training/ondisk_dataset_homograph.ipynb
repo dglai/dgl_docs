{
 "cells": [
  {
   "cell_type": "markdown",
   "metadata": {
    "id": "FnFhPMaAfLtJ"
   },
   "source": [
    "# OnDiskDataset for Homogeneous Graph\n",
    "\n",
    "[![Open In Colab](https://colab.research.google.com/assets/colab-badge.svg)](https://colab.research.google.com/github/dmlc/dgl/blob/master/notebooks/stochastic_training/ondisk_dataset_homograph.ipynb) [![GitHub](https://img.shields.io/badge/-View%20on%20GitHub-181717?logo=github&logoColor=ffffff)](https://github.com/dmlc/dgl/blob/master/notebooks/stochastic_training/ondisk_dataset_homograph.ipynb)\n",
    "\n",
    "This tutorial shows how to create `OnDiskDataset` for homogeneous graph that could be used in **GraphBolt** framework.\n",
    "\n",
    "By the end of this tutorial, you will be able to\n",
    "\n",
    "- organize graph structure data.\n",
    "- organize feature data.\n",
    "- organize training/validation/test set for specific tasks.\n",
    "\n",
    "To create an ``OnDiskDataset`` object, you need to organize all the data including graph structure, feature data and tasks into a directory. The directory should contain a ``metadata.yaml`` file that describes the metadata of the dataset.\n",
    "\n",
    "Now let's generate various data step by step and organize them together to instantiate `OnDiskDataset` finally."
   ]
  },
  {
   "cell_type": "markdown",
   "metadata": {
    "id": "Wlb19DtWgtzq"
   },
   "source": [
    "## Install DGL package"
   ]
  },
  {
   "cell_type": "code",
   "execution_count": 1,
   "metadata": {
    "execution": {
     "iopub.execute_input": "2024-08-27T06:40:58.737972Z",
     "iopub.status.busy": "2024-08-27T06:40:58.737609Z",
     "iopub.status.idle": "2024-08-27T06:41:02.448208Z",
     "shell.execute_reply": "2024-08-27T06:41:02.447594Z"
    },
    "id": "UojlT9ZGgyr9"
   },
   "outputs": [
    {
     "name": "stdout",
     "output_type": "stream",
     "text": [
      "Looking in links: https://data.dgl.ai/wheels-test/repo.html\r\n",
      "Requirement already satisfied: dgl in /opt/conda/envs/dgl-dev-cpu/lib/python3.10/site-packages (2.2a240410)\r\n",
      "Requirement already satisfied: numpy>=1.14.0 in /opt/conda/envs/dgl-dev-cpu/lib/python3.10/site-packages (from dgl) (1.26.4)\r\n",
      "Requirement already satisfied: scipy>=1.1.0 in /opt/conda/envs/dgl-dev-cpu/lib/python3.10/site-packages (from dgl) (1.14.0)\r\n",
      "Requirement already satisfied: networkx>=2.1 in /opt/conda/envs/dgl-dev-cpu/lib/python3.10/site-packages (from dgl) (3.3)\r\n",
      "Requirement already satisfied: requests>=2.19.0 in /opt/conda/envs/dgl-dev-cpu/lib/python3.10/site-packages (from dgl) (2.32.3)\r\n",
      "Requirement already satisfied: tqdm in /opt/conda/envs/dgl-dev-cpu/lib/python3.10/site-packages (from dgl) (4.66.5)\r\n",
      "Requirement already satisfied: psutil>=5.8.0 in /opt/conda/envs/dgl-dev-cpu/lib/python3.10/site-packages (from dgl) (6.0.0)\r\n",
      "Requirement already satisfied: torchdata>=0.5.0 in /opt/conda/envs/dgl-dev-cpu/lib/python3.10/site-packages (from dgl) (0.7.1)\r\n",
      "Requirement already satisfied: pandas in /opt/conda/envs/dgl-dev-cpu/lib/python3.10/site-packages (from dgl) (2.2.2)\r\n"
     ]
    },
    {
     "name": "stdout",
     "output_type": "stream",
     "text": [
      "Requirement already satisfied: charset-normalizer<4,>=2 in /opt/conda/envs/dgl-dev-cpu/lib/python3.10/site-packages (from requests>=2.19.0->dgl) (3.3.2)\r\n",
      "Requirement already satisfied: idna<4,>=2.5 in /opt/conda/envs/dgl-dev-cpu/lib/python3.10/site-packages (from requests>=2.19.0->dgl) (3.8)\r\n",
      "Requirement already satisfied: urllib3<3,>=1.21.1 in /opt/conda/envs/dgl-dev-cpu/lib/python3.10/site-packages (from requests>=2.19.0->dgl) (2.2.2)\r\n",
      "Requirement already satisfied: certifi>=2017.4.17 in /opt/conda/envs/dgl-dev-cpu/lib/python3.10/site-packages (from requests>=2.19.0->dgl) (2024.7.4)\r\n",
      "Requirement already satisfied: torch>=2 in /opt/conda/envs/dgl-dev-cpu/lib/python3.10/site-packages (from torchdata>=0.5.0->dgl) (2.4.0+cpu)\r\n"
     ]
    },
    {
     "name": "stdout",
     "output_type": "stream",
     "text": [
      "Requirement already satisfied: python-dateutil>=2.8.2 in /opt/conda/envs/dgl-dev-cpu/lib/python3.10/site-packages (from pandas->dgl) (2.9.0.post0)\r\n",
      "Requirement already satisfied: pytz>=2020.1 in /opt/conda/envs/dgl-dev-cpu/lib/python3.10/site-packages (from pandas->dgl) (2024.1)\r\n",
      "Requirement already satisfied: tzdata>=2022.7 in /opt/conda/envs/dgl-dev-cpu/lib/python3.10/site-packages (from pandas->dgl) (2024.1)\r\n",
      "Requirement already satisfied: six>=1.5 in /opt/conda/envs/dgl-dev-cpu/lib/python3.10/site-packages (from python-dateutil>=2.8.2->pandas->dgl) (1.16.0)\r\n",
      "Requirement already satisfied: filelock in /opt/conda/envs/dgl-dev-cpu/lib/python3.10/site-packages (from torch>=2->torchdata>=0.5.0->dgl) (3.15.4)\r\n",
      "Requirement already satisfied: typing-extensions>=4.8.0 in /opt/conda/envs/dgl-dev-cpu/lib/python3.10/site-packages (from torch>=2->torchdata>=0.5.0->dgl) (4.12.2)\r\n",
      "Requirement already satisfied: sympy in /opt/conda/envs/dgl-dev-cpu/lib/python3.10/site-packages (from torch>=2->torchdata>=0.5.0->dgl) (1.13.2)\r\n",
      "Requirement already satisfied: jinja2 in /opt/conda/envs/dgl-dev-cpu/lib/python3.10/site-packages (from torch>=2->torchdata>=0.5.0->dgl) (3.1.4)\r\n",
      "Requirement already satisfied: fsspec in /opt/conda/envs/dgl-dev-cpu/lib/python3.10/site-packages (from torch>=2->torchdata>=0.5.0->dgl) (2024.6.1)\r\n"
     ]
    },
    {
     "name": "stdout",
     "output_type": "stream",
     "text": [
      "Requirement already satisfied: MarkupSafe>=2.0 in /opt/conda/envs/dgl-dev-cpu/lib/python3.10/site-packages (from jinja2->torch>=2->torchdata>=0.5.0->dgl) (2.1.5)\r\n",
      "Requirement already satisfied: mpmath<1.4,>=1.1.0 in /opt/conda/envs/dgl-dev-cpu/lib/python3.10/site-packages (from sympy->torch>=2->torchdata>=0.5.0->dgl) (1.3.0)\r\n"
     ]
    },
    {
     "name": "stdout",
     "output_type": "stream",
     "text": [
      "DGL installed!\n"
     ]
    }
   ],
   "source": [
    "# Install required packages.\n",
    "import os\n",
    "import torch\n",
    "import numpy as np\n",
    "os.environ['TORCH'] = torch.__version__\n",
    "os.environ['DGLBACKEND'] = \"pytorch\"\n",
    "\n",
    "# Install the CPU version.\n",
    "device = torch.device(\"cpu\")\n",
    "!pip install --pre dgl -f https://data.dgl.ai/wheels-test/repo.html\n",
    "\n",
    "try:\n",
    "    import dgl\n",
    "    import dgl.graphbolt as gb\n",
    "    installed = True\n",
    "except ImportError as error:\n",
    "    installed = False\n",
    "    print(error)\n",
    "print(\"DGL installed!\" if installed else \"DGL not found!\")"
   ]
  },
  {
   "cell_type": "markdown",
   "metadata": {
    "id": "2R7WnSbjsfbr"
   },
   "source": [
    "## Data preparation\n",
    "In order to demonstrate how to organize various data, let's create a base directory first."
   ]
  },
  {
   "cell_type": "code",
   "execution_count": 2,
   "metadata": {
    "execution": {
     "iopub.execute_input": "2024-08-27T06:41:02.450881Z",
     "iopub.status.busy": "2024-08-27T06:41:02.450439Z",
     "iopub.status.idle": "2024-08-27T06:41:02.454007Z",
     "shell.execute_reply": "2024-08-27T06:41:02.453501Z"
    },
    "id": "SZipbzyltLfO"
   },
   "outputs": [
    {
     "name": "stdout",
     "output_type": "stream",
     "text": [
      "Created base directory: ./ondisk_dataset_homograph\n"
     ]
    }
   ],
   "source": [
    "base_dir = './ondisk_dataset_homograph'\n",
    "os.makedirs(base_dir, exist_ok=True)\n",
    "print(f\"Created base directory: {base_dir}\")"
   ]
  },
  {
   "cell_type": "markdown",
   "metadata": {
    "id": "qhNtIn_xhlnl"
   },
   "source": [
    "### Generate graph structure data\n",
    "For homogeneous graph, we just need to save edges(namely node pairs) into **CSV** file.\n",
    "\n",
    "Note:\n",
    "when saving to file, do not save index and header.\n"
   ]
  },
  {
   "cell_type": "code",
   "execution_count": 3,
   "metadata": {
    "execution": {
     "iopub.execute_input": "2024-08-27T06:41:02.456286Z",
     "iopub.status.busy": "2024-08-27T06:41:02.455976Z",
     "iopub.status.idle": "2024-08-27T06:41:02.467523Z",
     "shell.execute_reply": "2024-08-27T06:41:02.467033Z"
    },
    "id": "HcBt4G5BmSjr"
   },
   "outputs": [
    {
     "name": "stdout",
     "output_type": "stream",
     "text": [
      "Part of edges: [[936 514]\n",
      " [535 841]\n",
      " [  0 379]\n",
      " [586 122]\n",
      " [764 982]]\n",
      "Edges are saved into ./ondisk_dataset_homograph/edges.csv\n"
     ]
    }
   ],
   "source": [
    "import numpy as np\n",
    "import pandas as pd\n",
    "num_nodes = 1000\n",
    "num_edges = 10 * num_nodes\n",
    "edges_path = os.path.join(base_dir, \"edges.csv\")\n",
    "edges = np.random.randint(0, num_nodes, size=(num_edges, 2))\n",
    "\n",
    "print(f\"Part of edges: {edges[:5, :]}\")\n",
    "\n",
    "df = pd.DataFrame(edges)\n",
    "df.to_csv(edges_path, index=False, header=False)\n",
    "\n",
    "print(f\"Edges are saved into {edges_path}\")"
   ]
  },
  {
   "cell_type": "markdown",
   "metadata": {
    "id": "kh-4cPtzpcaH"
   },
   "source": [
    "### Generate feature data for graph\n",
    "For feature data, numpy arrays and torch tensors are supported for now."
   ]
  },
  {
   "cell_type": "code",
   "execution_count": 4,
   "metadata": {
    "execution": {
     "iopub.execute_input": "2024-08-27T06:41:02.469808Z",
     "iopub.status.busy": "2024-08-27T06:41:02.469442Z",
     "iopub.status.idle": "2024-08-27T06:41:02.498026Z",
     "shell.execute_reply": "2024-08-27T06:41:02.497523Z"
    },
    "id": "_PVu1u5brBhF"
   },
   "outputs": [
    {
     "name": "stdout",
     "output_type": "stream",
     "text": [
      "Part of node feature [feat_0]: [[0.06055801 0.02586942 0.867248   0.84638029 0.44641243]\n",
      " [0.48667058 0.26276679 0.22472782 0.63940812 0.01777228]\n",
      " [0.83359362 0.22314488 0.0870408  0.00205514 0.58353115]]\n",
      "Node feature [feat_0] is saved to ./ondisk_dataset_homograph/node-feat-0.npy\n",
      "\n",
      "Part of node feature [feat_1]: tensor([[0.3199, 0.8715, 0.8286, 0.9219, 0.4904],\n",
      "        [0.1727, 0.6912, 0.4074, 0.6795, 0.4917],\n",
      "        [0.2407, 0.3375, 0.5126, 0.2870, 0.4992]])\n",
      "Node feature [feat_1] is saved to ./ondisk_dataset_homograph/node-feat-1.pt\n",
      "\n",
      "Part of edge feature [feat_0]: [[0.16325133 0.82035605 0.81907276 0.29255215 0.02774519]\n",
      " [0.9022347  0.84121172 0.89987825 0.18007317 0.53014687]\n",
      " [0.56073082 0.79575456 0.87626619 0.12178335 0.80230821]]\n",
      "Edge feature [feat_0] is saved to ./ondisk_dataset_homograph/edge-feat-0.npy\n",
      "\n",
      "Part of edge feature [feat_1]: tensor([[0.5013, 0.1397, 0.1129, 0.4150, 0.2489],\n",
      "        [0.3864, 0.3846, 0.1336, 0.9603, 0.6615],\n",
      "        [0.1792, 0.7319, 0.4048, 0.7793, 0.2753]])\n",
      "Edge feature [feat_1] is saved to ./ondisk_dataset_homograph/edge-feat-1.pt\n",
      "\n"
     ]
    }
   ],
   "source": [
    "# Generate node feature in numpy array.\n",
    "node_feat_0_path = os.path.join(base_dir, \"node-feat-0.npy\")\n",
    "node_feat_0 = np.random.rand(num_nodes, 5)\n",
    "print(f\"Part of node feature [feat_0]: {node_feat_0[:3, :]}\")\n",
    "np.save(node_feat_0_path, node_feat_0)\n",
    "print(f\"Node feature [feat_0] is saved to {node_feat_0_path}\\n\")\n",
    "\n",
    "# Generate another node feature in torch tensor\n",
    "node_feat_1_path = os.path.join(base_dir, \"node-feat-1.pt\")\n",
    "node_feat_1 = torch.rand(num_nodes, 5)\n",
    "print(f\"Part of node feature [feat_1]: {node_feat_1[:3, :]}\")\n",
    "torch.save(node_feat_1, node_feat_1_path)\n",
    "print(f\"Node feature [feat_1] is saved to {node_feat_1_path}\\n\")\n",
    "\n",
    "# Generate edge feature in numpy array.\n",
    "edge_feat_0_path = os.path.join(base_dir, \"edge-feat-0.npy\")\n",
    "edge_feat_0 = np.random.rand(num_edges, 5)\n",
    "print(f\"Part of edge feature [feat_0]: {edge_feat_0[:3, :]}\")\n",
    "np.save(edge_feat_0_path, edge_feat_0)\n",
    "print(f\"Edge feature [feat_0] is saved to {edge_feat_0_path}\\n\")\n",
    "\n",
    "# Generate another edge feature in torch tensor\n",
    "edge_feat_1_path = os.path.join(base_dir, \"edge-feat-1.pt\")\n",
    "edge_feat_1 = torch.rand(num_edges, 5)\n",
    "print(f\"Part of edge feature [feat_1]: {edge_feat_1[:3, :]}\")\n",
    "torch.save(edge_feat_1, edge_feat_1_path)\n",
    "print(f\"Edge feature [feat_1] is saved to {edge_feat_1_path}\\n\")\n"
   ]
  },
  {
   "cell_type": "markdown",
   "metadata": {
    "id": "ZyqgOtsIwzh_"
   },
   "source": [
    "### Generate tasks\n",
    "`OnDiskDataset` supports multiple tasks. For each task, we need to prepare training/validation/test sets respectively. Such sets usually vary among different tasks. In this tutorial, let's create a **Node Classification** task and **Link Prediction** task."
   ]
  },
  {
   "cell_type": "markdown",
   "metadata": {
    "id": "hVxHaDIfzCkr"
   },
   "source": [
    "#### Node Classification Task\n",
    "For node classification task, we need **node IDs** and corresponding **labels** for each training/validation/test set. Like feature data, numpy arrays and torch tensors are supported for these sets."
   ]
  },
  {
   "cell_type": "code",
   "execution_count": 5,
   "metadata": {
    "execution": {
     "iopub.execute_input": "2024-08-27T06:41:02.500342Z",
     "iopub.status.busy": "2024-08-27T06:41:02.500134Z",
     "iopub.status.idle": "2024-08-27T06:41:02.509649Z",
     "shell.execute_reply": "2024-08-27T06:41:02.509152Z"
    },
    "id": "S5-fyBbHzTCO"
   },
   "outputs": [
    {
     "name": "stdout",
     "output_type": "stream",
     "text": [
      "Part of train ids for node classification: [534 779  13]\n",
      "NC train ids are saved to ./ondisk_dataset_homograph/nc-train-ids.npy\n",
      "\n",
      "Part of train labels for node classification: tensor([0, 4, 0])\n",
      "NC train labels are saved to ./ondisk_dataset_homograph/nc-train-labels.pt\n",
      "\n",
      "Part of val ids for node classification: [416 635 269]\n",
      "NC val ids are saved to ./ondisk_dataset_homograph/nc-val-ids.npy\n",
      "\n",
      "Part of val labels for node classification: tensor([5, 3, 3])\n",
      "NC val labels are saved to ./ondisk_dataset_homograph/nc-val-labels.pt\n",
      "\n",
      "Part of test ids for node classification: [115 162 761]\n",
      "NC test ids are saved to ./ondisk_dataset_homograph/nc-test-ids.npy\n",
      "\n",
      "Part of test labels for node classification: tensor([2, 5, 5])\n",
      "NC test labels are saved to ./ondisk_dataset_homograph/nc-test-labels.pt\n",
      "\n"
     ]
    }
   ],
   "source": [
    "num_trains = int(num_nodes * 0.6)\n",
    "num_vals = int(num_nodes * 0.2)\n",
    "num_tests = num_nodes - num_trains - num_vals\n",
    "\n",
    "ids = np.arange(num_nodes)\n",
    "np.random.shuffle(ids)\n",
    "\n",
    "nc_train_ids_path = os.path.join(base_dir, \"nc-train-ids.npy\")\n",
    "nc_train_ids = ids[:num_trains]\n",
    "print(f\"Part of train ids for node classification: {nc_train_ids[:3]}\")\n",
    "np.save(nc_train_ids_path, nc_train_ids)\n",
    "print(f\"NC train ids are saved to {nc_train_ids_path}\\n\")\n",
    "\n",
    "nc_train_labels_path = os.path.join(base_dir, \"nc-train-labels.pt\")\n",
    "nc_train_labels = torch.randint(0, 10, (num_trains,))\n",
    "print(f\"Part of train labels for node classification: {nc_train_labels[:3]}\")\n",
    "torch.save(nc_train_labels, nc_train_labels_path)\n",
    "print(f\"NC train labels are saved to {nc_train_labels_path}\\n\")\n",
    "\n",
    "nc_val_ids_path = os.path.join(base_dir, \"nc-val-ids.npy\")\n",
    "nc_val_ids = ids[num_trains:num_trains+num_vals]\n",
    "print(f\"Part of val ids for node classification: {nc_val_ids[:3]}\")\n",
    "np.save(nc_val_ids_path, nc_val_ids)\n",
    "print(f\"NC val ids are saved to {nc_val_ids_path}\\n\")\n",
    "\n",
    "nc_val_labels_path = os.path.join(base_dir, \"nc-val-labels.pt\")\n",
    "nc_val_labels = torch.randint(0, 10, (num_vals,))\n",
    "print(f\"Part of val labels for node classification: {nc_val_labels[:3]}\")\n",
    "torch.save(nc_val_labels, nc_val_labels_path)\n",
    "print(f\"NC val labels are saved to {nc_val_labels_path}\\n\")\n",
    "\n",
    "nc_test_ids_path = os.path.join(base_dir, \"nc-test-ids.npy\")\n",
    "nc_test_ids = ids[-num_tests:]\n",
    "print(f\"Part of test ids for node classification: {nc_test_ids[:3]}\")\n",
    "np.save(nc_test_ids_path, nc_test_ids)\n",
    "print(f\"NC test ids are saved to {nc_test_ids_path}\\n\")\n",
    "\n",
    "nc_test_labels_path = os.path.join(base_dir, \"nc-test-labels.pt\")\n",
    "nc_test_labels = torch.randint(0, 10, (num_tests,))\n",
    "print(f\"Part of test labels for node classification: {nc_test_labels[:3]}\")\n",
    "torch.save(nc_test_labels, nc_test_labels_path)\n",
    "print(f\"NC test labels are saved to {nc_test_labels_path}\\n\")"
   ]
  },
  {
   "cell_type": "markdown",
   "metadata": {
    "id": "LhAcDCHQ_KJ0"
   },
   "source": [
    "#### Link Prediction Task\n",
    "For link prediction task, we need **node pairs** or **negative src/dsts** for each training/validation/test set. Like feature data, numpy arrays and torch tensors are supported for these sets."
   ]
  },
  {
   "cell_type": "code",
   "execution_count": 6,
   "metadata": {
    "execution": {
     "iopub.execute_input": "2024-08-27T06:41:02.511890Z",
     "iopub.status.busy": "2024-08-27T06:41:02.511588Z",
     "iopub.status.idle": "2024-08-27T06:41:02.520815Z",
     "shell.execute_reply": "2024-08-27T06:41:02.520311Z"
    },
    "id": "u0jCnXIcAQy4"
   },
   "outputs": [
    {
     "name": "stdout",
     "output_type": "stream",
     "text": [
      "Part of train node pairs for link prediction: [[936 514]\n",
      " [535 841]\n",
      " [  0 379]]\n",
      "LP train node pairs are saved to ./ondisk_dataset_homograph/lp-train-node-pairs.npy\n",
      "\n",
      "Part of val node pairs for link prediction: [[636 579]\n",
      " [383 263]\n",
      " [131 495]]\n",
      "LP val node pairs are saved to ./ondisk_dataset_homograph/lp-val-node-pairs.npy\n",
      "\n",
      "Part of val negative dsts for link prediction: tensor([[673,  23,  46, 272,  31, 192, 465, 709, 851,  12],\n",
      "        [189, 325, 939, 957, 344, 688, 232, 449, 198, 783],\n",
      "        [305, 125, 789, 812, 923, 730,  46, 698, 918, 777]])\n",
      "LP val negative dsts are saved to ./ondisk_dataset_homograph/lp-val-neg-dsts.pt\n",
      "\n",
      "Part of test node pairs for link prediction: [193 909]\n",
      "LP test node pairs are saved to ./ondisk_dataset_homograph/lp-test-node-pairs.npy\n",
      "\n",
      "Part of test negative dsts for link prediction: tensor([[928, 228, 843, 549, 399, 804, 815, 357, 266, 180],\n",
      "        [579, 154, 808, 550,  98, 811,  68, 464, 491, 421],\n",
      "        [881, 482, 848, 636, 128, 303,  61, 388, 704, 376]])\n",
      "LP test negative dsts are saved to ./ondisk_dataset_homograph/lp-test-neg-dsts.pt\n",
      "\n"
     ]
    }
   ],
   "source": [
    "num_trains = int(num_edges * 0.6)\n",
    "num_vals = int(num_edges * 0.2)\n",
    "num_tests = num_edges - num_trains - num_vals\n",
    "\n",
    "lp_train_node_pairs_path = os.path.join(base_dir, \"lp-train-node-pairs.npy\")\n",
    "lp_train_node_pairs = edges[:num_trains, :]\n",
    "print(f\"Part of train node pairs for link prediction: {lp_train_node_pairs[:3]}\")\n",
    "np.save(lp_train_node_pairs_path, lp_train_node_pairs)\n",
    "print(f\"LP train node pairs are saved to {lp_train_node_pairs_path}\\n\")\n",
    "\n",
    "lp_val_node_pairs_path = os.path.join(base_dir, \"lp-val-node-pairs.npy\")\n",
    "lp_val_node_pairs = edges[num_trains:num_trains+num_vals, :]\n",
    "print(f\"Part of val node pairs for link prediction: {lp_val_node_pairs[:3]}\")\n",
    "np.save(lp_val_node_pairs_path, lp_val_node_pairs)\n",
    "print(f\"LP val node pairs are saved to {lp_val_node_pairs_path}\\n\")\n",
    "\n",
    "lp_val_neg_dsts_path = os.path.join(base_dir, \"lp-val-neg-dsts.pt\")\n",
    "lp_val_neg_dsts = torch.randint(0, num_nodes, (num_vals, 10))\n",
    "print(f\"Part of val negative dsts for link prediction: {lp_val_neg_dsts[:3]}\")\n",
    "torch.save(lp_val_neg_dsts, lp_val_neg_dsts_path)\n",
    "print(f\"LP val negative dsts are saved to {lp_val_neg_dsts_path}\\n\")\n",
    "\n",
    "lp_test_node_pairs_path = os.path.join(base_dir, \"lp-test-node-pairs.npy\")\n",
    "lp_test_node_pairs = edges[-num_tests, :]\n",
    "print(f\"Part of test node pairs for link prediction: {lp_test_node_pairs[:3]}\")\n",
    "np.save(lp_test_node_pairs_path, lp_test_node_pairs)\n",
    "print(f\"LP test node pairs are saved to {lp_test_node_pairs_path}\\n\")\n",
    "\n",
    "lp_test_neg_dsts_path = os.path.join(base_dir, \"lp-test-neg-dsts.pt\")\n",
    "lp_test_neg_dsts = torch.randint(0, num_nodes, (num_tests, 10))\n",
    "print(f\"Part of test negative dsts for link prediction: {lp_test_neg_dsts[:3]}\")\n",
    "torch.save(lp_test_neg_dsts, lp_test_neg_dsts_path)\n",
    "print(f\"LP test negative dsts are saved to {lp_test_neg_dsts_path}\\n\")"
   ]
  },
  {
   "cell_type": "markdown",
   "metadata": {
    "id": "wbk6-wxRK-6S"
   },
   "source": [
    "## Organize Data into YAML File\n",
    "Now we need to create a `metadata.yaml` file which contains the paths, dadta types of graph structure, feature data, training/validation/test sets.\n",
    "\n",
    "Notes:\n",
    "- all path should be relative to `metadata.yaml`.\n",
    "- Below fields are optional and not specified in below example.\n",
    "  - `in_memory`: indicates whether to load dada into memory or `mmap`. Default is `True`.\n",
    "\n",
    "Please refer to [YAML specification](https://github.com/dmlc/dgl/blob/master/docs/source/stochastic_training/ondisk-dataset-specification.rst) for more details."
   ]
  },
  {
   "cell_type": "code",
   "execution_count": 7,
   "metadata": {
    "execution": {
     "iopub.execute_input": "2024-08-27T06:41:02.523001Z",
     "iopub.status.busy": "2024-08-27T06:41:02.522796Z",
     "iopub.status.idle": "2024-08-27T06:41:02.527619Z",
     "shell.execute_reply": "2024-08-27T06:41:02.527138Z"
    },
    "id": "ddGTWW61Lpwp"
   },
   "outputs": [],
   "source": [
    "yaml_content = f\"\"\"\n",
    "    dataset_name: homogeneous_graph_nc_lp\n",
    "    graph:\n",
    "      nodes:\n",
    "        - num: {num_nodes}\n",
    "      edges:\n",
    "        - format: csv\n",
    "          path: {os.path.basename(edges_path)}\n",
    "    feature_data:\n",
    "      - domain: node\n",
    "        name: feat_0\n",
    "        format: numpy\n",
    "        path: {os.path.basename(node_feat_0_path)}\n",
    "      - domain: node\n",
    "        name: feat_1\n",
    "        format: torch\n",
    "        path: {os.path.basename(node_feat_1_path)}\n",
    "      - domain: edge\n",
    "        name: feat_0\n",
    "        format: numpy\n",
    "        path: {os.path.basename(edge_feat_0_path)}\n",
    "      - domain: edge\n",
    "        name: feat_1\n",
    "        format: torch\n",
    "        path: {os.path.basename(edge_feat_1_path)}\n",
    "    tasks:\n",
    "      - name: node_classification\n",
    "        num_classes: 10\n",
    "        train_set:\n",
    "          - data:\n",
    "              - name: seed_nodes\n",
    "                format: numpy\n",
    "                path: {os.path.basename(nc_train_ids_path)}\n",
    "              - name: labels\n",
    "                format: torch\n",
    "                path: {os.path.basename(nc_train_labels_path)}\n",
    "        validation_set:\n",
    "          - data:\n",
    "              - name: seed_nodes\n",
    "                format: numpy\n",
    "                path: {os.path.basename(nc_val_ids_path)}\n",
    "              - name: labels\n",
    "                format: torch\n",
    "                path: {os.path.basename(nc_val_labels_path)}\n",
    "        test_set:\n",
    "          - data:\n",
    "              - name: seed_nodes\n",
    "                format: numpy\n",
    "                path: {os.path.basename(nc_test_ids_path)}\n",
    "              - name: labels\n",
    "                format: torch\n",
    "                path: {os.path.basename(nc_test_labels_path)}\n",
    "      - name: link_prediction\n",
    "        num_classes: 10\n",
    "        train_set:\n",
    "          - data:\n",
    "              - name: node_pairs\n",
    "                format: numpy\n",
    "                path: {os.path.basename(lp_train_node_pairs_path)}\n",
    "        validation_set:\n",
    "          - data:\n",
    "              - name: node_pairs\n",
    "                format: numpy\n",
    "                path: {os.path.basename(lp_val_node_pairs_path)}\n",
    "              - name: negative_dsts\n",
    "                format: torch\n",
    "                path: {os.path.basename(lp_val_neg_dsts_path)}\n",
    "        test_set:\n",
    "          - data:\n",
    "              - name: node_pairs\n",
    "                format: numpy\n",
    "                path: {os.path.basename(lp_test_node_pairs_path)}\n",
    "              - name: negative_dsts\n",
    "                format: torch\n",
    "                path: {os.path.basename(lp_test_neg_dsts_path)}\n",
    "\"\"\"\n",
    "metadata_path = os.path.join(base_dir, \"metadata.yaml\")\n",
    "with open(metadata_path, \"w\") as f:\n",
    "  f.write(yaml_content)"
   ]
  },
  {
   "cell_type": "markdown",
   "metadata": {
    "id": "kEfybHGhOW7O"
   },
   "source": [
    "## Instantiate `OnDiskDataset`\n",
    "Now we're ready to load dataset via `dgl.graphbolt.OnDiskDataset`. When instantiating, we just pass in the base directory where `metadata.yaml` file lies.\n",
    "\n",
    "During first instantiation, GraphBolt preprocesses the raw data such as constructing `FusedCSCSamplingGraph` from edges. All data including graph, feature data, training/validation/test sets are put into `preprocessed` directory after preprocessing. Any following dataset loading will skip the preprocess stage.\n",
    "\n",
    "After preprocessing, `load()` is required to be called explicitly in order to load graph, feature data and tasks."
   ]
  },
  {
   "cell_type": "code",
   "execution_count": 8,
   "metadata": {
    "execution": {
     "iopub.execute_input": "2024-08-27T06:41:02.529834Z",
     "iopub.status.busy": "2024-08-27T06:41:02.529465Z",
     "iopub.status.idle": "2024-08-27T06:41:02.556160Z",
     "shell.execute_reply": "2024-08-27T06:41:02.555661Z"
    },
    "id": "W58CZoSzOiyo"
   },
   "outputs": [
    {
     "name": "stdout",
     "output_type": "stream",
     "text": [
      "The dataset is already preprocessed.\n",
      "Loaded graph: FusedCSCSamplingGraph(csc_indptr=tensor([    0,     9,    18,  ...,  9986,  9992, 10000], dtype=torch.int32),\n",
      "                      indices=tensor([803, 114,  72,  ..., 363, 921, 413], dtype=torch.int32),\n",
      "                      num_nodes=1000, num_edges=10000)\n",
      "\n",
      "Loaded feature store: TorchBasedFeatureStore{(<OnDiskFeatureDataDomain.NODE: 'node'>, None, 'feat_0'): TorchBasedFeature(feature=tensor([[0.0940, 0.2537, 0.6259, 0.5059, 0.3395],\n",
      "                                                        [0.3560, 0.9646, 0.5157, 0.6247, 0.3039],\n",
      "                                                        [0.2628, 0.5947, 0.4710, 0.0119, 0.9500],\n",
      "                                                        ...,\n",
      "                                                        [0.7273, 0.6880, 0.2244, 0.1526, 0.8293],\n",
      "                                                        [0.4809, 0.2047, 0.2298, 0.5715, 0.3093],\n",
      "                                                        [0.1287, 0.9053, 0.0481, 0.4495, 0.9735]], dtype=torch.float64),\n",
      "                                        metadata={},\n",
      "                      ), (<OnDiskFeatureDataDomain.NODE: 'node'>, None, 'feat_1'): TorchBasedFeature(feature=tensor([[0.9977, 0.4134, 0.4666, 0.6981, 0.9938],\n",
      "                                                        [0.6508, 0.2196, 0.9098, 0.0773, 0.9479],\n",
      "                                                        [0.4940, 0.2682, 0.2530, 0.4111, 0.7420],\n",
      "                                                        ...,\n",
      "                                                        [0.4198, 0.5493, 0.8762, 0.5324, 0.5651],\n",
      "                                                        [0.8637, 0.1220, 0.3302, 0.7418, 0.7239],\n",
      "                                                        [0.7306, 0.2260, 0.0445, 0.8255, 0.8105]]),\n",
      "                                        metadata={},\n",
      "                      ), (<OnDiskFeatureDataDomain.EDGE: 'edge'>, None, 'feat_0'): TorchBasedFeature(feature=tensor([[0.4240, 0.1902, 0.3771, 0.9921, 0.9263],\n",
      "                                                        [0.7807, 0.7085, 0.8726, 0.0478, 0.0640],\n",
      "                                                        [0.4794, 0.8407, 0.8631, 0.1809, 0.8323],\n",
      "                                                        ...,\n",
      "                                                        [0.9887, 0.9512, 0.8425, 0.3169, 0.8943],\n",
      "                                                        [0.3130, 0.8942, 0.8921, 0.1298, 0.3312],\n",
      "                                                        [0.1104, 0.5409, 0.6678, 0.4501, 0.9880]], dtype=torch.float64),\n",
      "                                        metadata={},\n",
      "                      ), (<OnDiskFeatureDataDomain.EDGE: 'edge'>, None, 'feat_1'): TorchBasedFeature(feature=tensor([[0.6265, 0.0250, 0.8615, 0.7368, 0.8616],\n",
      "                                                        [0.2726, 0.3835, 0.5376, 0.2310, 0.1561],\n",
      "                                                        [0.4880, 0.5904, 0.0281, 0.6103, 0.9221],\n",
      "                                                        ...,\n",
      "                                                        [0.6929, 0.9449, 0.9724, 0.3381, 0.8625],\n",
      "                                                        [0.2900, 0.7963, 0.4368, 0.3892, 0.7703],\n",
      "                                                        [0.3909, 0.7177, 0.9956, 0.0635, 0.5634]]),\n",
      "                                        metadata={},\n",
      "                      )}\n",
      "\n",
      "Loaded node classification task: OnDiskTask(validation_set=ItemSet(items=(tensor([860, 488, 307, 649, 291, 663, 289, 308, 918, 840, 881, 246, 476,   0,\n",
      "                                                 98, 156, 112, 925, 116, 662, 385, 471, 955, 987, 496, 129, 747, 247,\n",
      "                                                206, 797, 744,   7, 204, 269, 170, 801, 457,   1, 229, 970, 164, 982,\n",
      "                                                730, 518, 995, 422, 798, 915, 486, 907, 926, 296, 366, 673, 857, 213,\n",
      "                                                490, 234, 145, 131, 960, 944, 941, 209, 828, 328, 921, 313, 377,  14,\n",
      "                                                861,   4, 337, 558, 762, 560, 568, 461, 867, 441, 134, 658, 722, 632,\n",
      "                                                417, 326, 432, 859, 890, 804, 141, 350, 928, 551, 176, 294, 341, 714,\n",
      "                                                340, 403, 514, 573, 664, 953, 545, 227, 873, 211, 137, 534, 742, 507,\n",
      "                                                686,  13,  85, 571, 240, 388, 410, 549, 356,  72,  92, 761, 113, 892,\n",
      "                                                230, 783, 576, 586, 963, 826, 592, 605, 582, 311, 190,  42, 184, 179,\n",
      "                                                567,  29, 723, 947, 692, 243, 756, 702, 572, 894, 463, 994, 264, 595,\n",
      "                                                694, 467, 968, 492, 704, 754, 517, 532,  74, 836, 125, 335, 877, 563,\n",
      "                                                657, 521, 160, 971, 237, 924, 474, 729, 201, 697,  84, 868,  49, 643,\n",
      "                                                506, 939, 404, 556, 886,  77, 437, 303, 962, 182, 450, 699, 150, 147,\n",
      "                                                811, 888, 834, 999], dtype=torch.int32), tensor([4, 1, 6, 7, 0, 6, 8, 2, 0, 6, 6, 9, 2, 1, 7, 5, 7, 3, 6, 6, 8, 0, 1, 8,\n",
      "                                                4, 3, 0, 4, 5, 8, 7, 6, 8, 9, 7, 5, 0, 3, 9, 2, 4, 8, 6, 1, 6, 5, 1, 0,\n",
      "                                                2, 8, 9, 6, 7, 6, 5, 1, 9, 2, 3, 3, 5, 4, 2, 9, 3, 1, 4, 3, 7, 4, 2, 1,\n",
      "                                                9, 9, 1, 6, 9, 2, 1, 6, 6, 8, 5, 0, 2, 6, 1, 0, 8, 1, 0, 3, 2, 3, 2, 0,\n",
      "                                                3, 8, 7, 9, 1, 4, 1, 2, 0, 9, 1, 9, 7, 7, 9, 7, 2, 8, 7, 2, 6, 0, 3, 1,\n",
      "                                                3, 4, 9, 2, 4, 0, 5, 4, 4, 3, 9, 1, 2, 0, 6, 5, 6, 6, 0, 1, 8, 6, 8, 6,\n",
      "                                                8, 9, 0, 3, 3, 8, 5, 3, 5, 9, 4, 6, 6, 2, 7, 7, 7, 9, 9, 4, 2, 5, 2, 8,\n",
      "                                                5, 8, 9, 3, 4, 8, 9, 8, 7, 7, 2, 1, 3, 4, 5, 9, 3, 4, 1, 6, 8, 8, 1, 6,\n",
      "                                                4, 9, 7, 6, 0, 6, 1, 0])),\n",
      "                                  names=('seeds', 'labels'),\n",
      "                          ),\n",
      "           train_set=ItemSet(items=(tensor([685, 581, 964, 216, 270, 681, 368, 670, 634, 653, 856, 231, 589,   2,\n",
      "                                            93,  91, 167, 603, 958, 554, 395, 991, 954, 707, 365, 883, 325, 993,\n",
      "                                           301, 780, 790, 875, 805, 817, 919, 153, 248, 238, 843, 300, 390, 679,\n",
      "                                           140,  37, 676, 972, 808, 690, 706, 411, 278,  40, 846, 285, 466, 109,\n",
      "                                           322, 418, 666, 878, 736, 212, 887, 946, 937, 420, 539, 838, 956, 241,\n",
      "                                           927, 765, 703, 743, 799, 354, 607, 120, 809, 806, 107, 119, 818, 370,\n",
      "                                           383,  53, 688,  88, 711, 515, 244, 502, 250, 813, 319, 869, 548, 108,\n",
      "                                           851, 659, 710, 297,  32, 988, 973, 171,  33, 791, 357, 371, 345, 862,\n",
      "                                           251, 989, 701, 443, 299, 781, 752, 787, 181, 608,  18, 637, 665, 306,\n",
      "                                           821, 712, 796, 819, 236, 375, 965, 271, 823, 483, 981, 645, 844,  17,\n",
      "                                           429, 733, 734, 159, 384, 194, 872, 998, 687, 841,  39, 901, 505, 364,\n",
      "                                           317, 100, 283, 448, 261, 482, 316, 898, 895, 500, 767, 396, 772, 516,\n",
      "                                           154, 298, 242, 911, 468, 547, 433, 544, 440, 721, 258, 263, 633, 320,\n",
      "                                           625, 602, 470, 344, 481, 192, 546,  16, 774, 553, 583, 528, 833, 590,\n",
      "                                           759, 678, 513, 626, 629, 493, 974, 565, 741, 409, 183, 117, 163, 310,\n",
      "                                           543, 118, 755, 935, 611, 715, 912,  19, 600, 531, 916, 165, 708, 893,\n",
      "                                           349, 338, 656, 185, 252, 121, 207,  62,  21, 479, 491, 793, 380, 314,\n",
      "                                           425,  47,  43, 348, 992,  89, 593,  60, 848, 641, 387, 624, 726, 786,\n",
      "                                           146,  95, 435, 538, 585,  65, 373,  36, 644, 561, 770, 564,   6, 698,\n",
      "                                           782, 976, 460, 876, 910, 693, 628, 352, 318, 758, 135, 615, 591, 724,\n",
      "                                           689, 920, 239, 415, 943, 277, 324, 406, 923, 814, 462, 454, 266, 105,\n",
      "                                           597,  46, 587, 224, 110, 413, 584,  61, 816, 716, 499, 849, 639, 728,\n",
      "                                           504, 785, 424, 355, 245, 128, 874, 347, 764, 598, 569, 327, 208, 126,\n",
      "                                           130, 832, 459, 430, 475, 683, 419, 205, 945, 552, 735, 929, 555, 249,\n",
      "                                           617, 966, 148, 541, 431, 173,  30, 389, 288, 330, 871, 104,  67, 858,\n",
      "                                            78, 936, 909, 612, 669, 220, 931, 601,  23, 899, 906, 447, 599,  57,\n",
      "                                           807, 788, 336, 847, 778, 732, 917, 610, 977, 416, 254, 114, 222, 949,\n",
      "                                             5,  50,  58, 446, 566, 362, 394, 652, 174,  90, 753, 225, 151, 138,\n",
      "                                           512, 262, 996, 822, 215, 519, 975, 777, 537, 334, 439, 885, 751, 161,\n",
      "                                           990,  87, 839,  11, 402, 273, 367, 523, 312, 508, 934, 197, 852, 986,\n",
      "                                           472,  63, 540, 484, 831, 594, 102, 979, 372, 997,  83, 863, 866, 342,\n",
      "                                           903, 124, 829, 575, 414, 139, 423, 930, 853, 769,  51, 451, 200, 713,\n",
      "                                           351, 142, 369, 511, 465, 495, 951, 469, 574, 292, 577, 464, 426, 768,\n",
      "                                           282, 226, 391, 880,  96, 740, 684, 646,  48, 579, 378, 177,  76, 559,\n",
      "                                           835, 265,  94,  68, 253, 896, 259, 221,  71, 533, 524, 891, 136, 232,\n",
      "                                           535, 397, 609, 932, 682, 648, 323, 725, 739, 228,  99, 738, 812, 287,\n",
      "                                           458, 256, 127, 309, 763,  80, 570, 984, 675, 825, 668, 616, 864, 792,\n",
      "                                           408,  56, 360, 361, 775, 376, 233,  12, 223, 405,  82, 978, 304, 985,\n",
      "                                           622, 191, 332, 827, 654, 103, 144, 879, 580, 473, 815, 902,  15, 837,\n",
      "                                            27, 635, 520, 618, 343, 795,  52, 295, 172, 950, 175, 438, 542,  75,\n",
      "                                           671, 760, 198, 123, 358,  54, 731, 908, 510, 196, 381, 980, 737,  31,\n",
      "                                           494, 428, 188, 527, 363, 503, 274, 393,  97, 157,  22,  10, 203, 631,\n",
      "                                           290, 969, 802, 709, 321,  26, 942, 557, 897,  64, 193, 359],\n",
      "                                          dtype=torch.int32), tensor([0, 5, 9, 9, 6, 1, 8, 5, 3, 9, 1, 5, 9, 2, 1, 9, 0, 0, 4, 4, 3, 5, 4, 0,\n",
      "                                           5, 6, 2, 9, 1, 8, 6, 1, 8, 2, 0, 5, 6, 4, 3, 1, 9, 1, 9, 2, 2, 1, 4, 0,\n",
      "                                           5, 2, 2, 5, 7, 8, 4, 4, 0, 7, 5, 1, 5, 7, 5, 0, 6, 6, 0, 7, 3, 7, 2, 5,\n",
      "                                           7, 3, 9, 6, 1, 2, 2, 7, 9, 0, 4, 7, 7, 6, 3, 3, 0, 8, 3, 7, 1, 5, 6, 4,\n",
      "                                           5, 1, 4, 3, 4, 1, 2, 8, 1, 6, 8, 2, 5, 2, 5, 9, 6, 7, 2, 9, 2, 7, 4, 9,\n",
      "                                           4, 3, 2, 3, 3, 7, 7, 4, 0, 1, 2, 7, 8, 8, 4, 1, 4, 4, 7, 7, 1, 3, 9, 3,\n",
      "                                           2, 0, 5, 5, 1, 5, 4, 3, 9, 2, 8, 6, 5, 9, 1, 8, 3, 9, 2, 3, 8, 1, 7, 4,\n",
      "                                           8, 3, 1, 0, 5, 0, 0, 4, 4, 6, 7, 8, 8, 3, 9, 3, 9, 2, 2, 8, 1, 9, 1, 5,\n",
      "                                           8, 8, 3, 2, 5, 4, 5, 3, 5, 6, 8, 4, 4, 6, 3, 5, 2, 1, 4, 9, 5, 3, 3, 5,\n",
      "                                           2, 0, 3, 4, 0, 9, 2, 9, 7, 4, 9, 2, 9, 9, 5, 3, 7, 2, 1, 2, 1, 4, 6, 4,\n",
      "                                           1, 6, 3, 7, 8, 9, 8, 1, 6, 9, 9, 9, 0, 9, 6, 0, 1, 2, 7, 2, 3, 4, 7, 8,\n",
      "                                           4, 7, 3, 6, 7, 8, 9, 1, 6, 4, 8, 4, 5, 6, 4, 6, 5, 8, 4, 1, 6, 8, 2, 7,\n",
      "                                           2, 5, 8, 3, 6, 5, 7, 4, 4, 8, 2, 2, 0, 6, 7, 2, 3, 2, 7, 1, 6, 0, 6, 6,\n",
      "                                           5, 7, 1, 1, 3, 1, 2, 3, 0, 8, 3, 8, 4, 4, 0, 1, 6, 1, 0, 5, 9, 6, 7, 0,\n",
      "                                           2, 9, 9, 1, 6, 9, 3, 6, 0, 5, 6, 9, 1, 1, 2, 3, 5, 9, 5, 2, 2, 1, 1, 0,\n",
      "                                           3, 4, 1, 0, 3, 7, 9, 2, 2, 9, 1, 8, 5, 6, 4, 0, 6, 0, 6, 2, 3, 6, 2, 7,\n",
      "                                           9, 1, 5, 6, 2, 4, 8, 5, 5, 0, 7, 3, 2, 1, 5, 7, 2, 0, 0, 6, 6, 2, 4, 9,\n",
      "                                           4, 0, 6, 3, 3, 0, 1, 4, 8, 6, 5, 1, 3, 6, 8, 5, 1, 3, 5, 0, 2, 4, 5, 8,\n",
      "                                           7, 3, 2, 8, 0, 5, 3, 3, 7, 2, 9, 6, 5, 5, 6, 7, 5, 3, 5, 4, 1, 0, 8, 9,\n",
      "                                           5, 6, 6, 8, 6, 1, 0, 3, 2, 1, 7, 4, 9, 9, 4, 5, 7, 3, 9, 3, 7, 9, 0, 8,\n",
      "                                           5, 1, 0, 5, 2, 5, 2, 3, 0, 6, 0, 3, 7, 2, 3, 8, 0, 1, 9, 6, 1, 8, 0, 5,\n",
      "                                           2, 3, 5, 9, 9, 1, 7, 1, 0, 8, 6, 5, 4, 7, 1, 0, 4, 1, 2, 6, 3, 6, 4, 8,\n",
      "                                           1, 6, 1, 2, 7, 0, 0, 4, 5, 0, 4, 7, 4, 4, 3, 5, 6, 4, 2, 4, 7, 6, 1, 2,\n",
      "                                           7, 9, 5, 3, 4, 7, 8, 7, 6, 1, 6, 4, 5, 1, 5, 9, 8, 7, 4, 0, 2, 2, 9, 5,\n",
      "                                           5, 9, 8, 5, 5, 7, 8, 3, 2, 9, 2, 4, 8, 3, 5, 2, 6, 6, 1, 6, 9, 5, 8, 5])),\n",
      "                             names=('seeds', 'labels'),\n",
      "                     ),\n",
      "           test_set=ItemSet(items=(tensor([ 34, 162, 434,  44, 948, 421, 412, 436, 195, 640, 650, 889,  35, 647,\n",
      "                                          660, 210, 379, 845, 719, 613, 374, 691,  73, 315, 478, 501, 642, 820,\n",
      "                                          794,  55, 529,   3, 636, 700, 720, 386,   9, 627, 187,  86, 122, 214,\n",
      "                                          133, 272, 202, 677, 449,  45, 477, 757, 655, 498, 938, 623, 399, 453,\n",
      "                                          983, 638, 485, 149, 106, 267,  70, 284, 132, 166, 967, 900, 749, 905,\n",
      "                                          810, 766, 452, 169,  25, 620, 959, 168, 522, 940, 922, 771, 509, 882,\n",
      "                                          746, 661, 870, 536, 268, 630, 672, 199, 596,  38, 842, 489, 961, 219,\n",
      "                                          143, 745, 280, 111, 957, 789, 275,  28, 407, 155, 530, 588, 286, 717,\n",
      "                                           41, 578, 667, 803, 773, 218, 487, 750, 525,  59, 550, 705, 696, 445,\n",
      "                                           79, 748, 914, 619, 913, 497, 855, 727, 302, 824, 331, 305, 260, 952,\n",
      "                                            8, 718, 276, 293, 333, 152, 178, 444, 235, 526, 854,  66, 329, 257,\n",
      "                                          865,  69, 830, 456, 455, 398,  24, 279, 101, 382, 784, 614, 604, 776,\n",
      "                                          158, 621, 392, 186, 339, 189, 400, 800, 442, 115, 427, 884, 674, 933,\n",
      "                                          680, 695, 401, 651, 255, 562,  81,  20, 779, 904, 480, 346, 353, 281,\n",
      "                                          606, 180, 217, 850], dtype=torch.int32), tensor([7, 6, 4, 0, 3, 8, 1, 1, 2, 0, 2, 7, 6, 5, 0, 0, 6, 7, 1, 9, 2, 8, 6, 6,\n",
      "                                          8, 9, 0, 8, 8, 6, 4, 6, 4, 8, 0, 9, 3, 9, 6, 5, 8, 5, 8, 1, 1, 3, 6, 0,\n",
      "                                          3, 9, 4, 3, 7, 0, 0, 9, 0, 5, 6, 6, 2, 4, 6, 9, 5, 5, 2, 0, 5, 8, 4, 7,\n",
      "                                          2, 3, 5, 5, 0, 6, 7, 7, 7, 8, 7, 2, 9, 5, 4, 1, 8, 1, 2, 7, 2, 0, 7, 0,\n",
      "                                          3, 4, 5, 7, 7, 2, 7, 7, 7, 4, 3, 2, 6, 0, 0, 3, 1, 4, 5, 5, 5, 4, 2, 9,\n",
      "                                          8, 7, 1, 1, 2, 9, 7, 9, 9, 4, 7, 4, 2, 5, 6, 4, 1, 6, 6, 4, 9, 1, 0, 6,\n",
      "                                          6, 3, 0, 5, 2, 6, 2, 3, 5, 1, 5, 8, 2, 9, 9, 3, 9, 4, 6, 9, 0, 7, 5, 0,\n",
      "                                          8, 0, 4, 1, 5, 8, 2, 1, 2, 5, 3, 3, 9, 5, 0, 8, 3, 2, 6, 1, 9, 9, 6, 1,\n",
      "                                          4, 9, 5, 4, 9, 2, 5, 3])),\n",
      "                            names=('seeds', 'labels'),\n",
      "                    ),\n",
      "           metadata={'name': 'node_classification', 'num_classes': 10},\n",
      ")\n",
      "\n",
      "Loaded link prediction task: OnDiskTask(validation_set=ItemSet(items=(tensor([[367, 108],\n",
      "                                                [304,  31],\n",
      "                                                [274, 247],\n",
      "                                                ...,\n",
      "                                                [341, 964],\n",
      "                                                [341, 262],\n",
      "                                                [341, 355]], dtype=torch.int32), tensor([1., 1., 1.,  ..., 0., 0., 0.], dtype=torch.float64), tensor([   0,    1,    2,  ..., 1999, 1999, 1999])),\n",
      "                                  names=('seeds', 'labels', 'indexes'),\n",
      "                          ),\n",
      "           train_set=ItemSet(items=(tensor([[706, 701],\n",
      "                                           [483, 208],\n",
      "                                           [262, 339],\n",
      "                                           ...,\n",
      "                                           [ 50, 604],\n",
      "                                           [819, 390],\n",
      "                                           [230, 864]], dtype=torch.int32),),\n",
      "                             names=('seeds',),\n",
      "                     ),\n",
      "           test_set=ItemSet(items=(tensor([[776, 370],\n",
      "                                          [491, 484],\n",
      "                                          [515, 614],\n",
      "                                          ...,\n",
      "                                          [645, 612],\n",
      "                                          [645, 923],\n",
      "                                          [645,  62]], dtype=torch.int32), tensor([1., 1., 1.,  ..., 0., 0., 0.], dtype=torch.float64), tensor([   0,    1,    2,  ..., 1999, 1999, 1999])),\n",
      "                            names=('seeds', 'labels', 'indexes'),\n",
      "                    ),\n",
      "           metadata={'name': 'link_prediction', 'num_classes': 10},\n",
      ")\n",
      "\n"
     ]
    },
    {
     "name": "stderr",
     "output_type": "stream",
     "text": [
      "/home/ubuntu/regression_test/dgl/python/dgl/graphbolt/impl/ondisk_dataset.py:467: FutureWarning: You are using `torch.load` with `weights_only=False` (the current default value), which uses the default pickle module implicitly. It is possible to construct malicious pickle data which will execute arbitrary code during unpickling (See https://github.com/pytorch/pytorch/blob/main/SECURITY.md#untrusted-models for more details). In a future release, the default value for `weights_only` will be flipped to `True`. This limits the functions that could be executed during unpickling. Arbitrary objects will no longer be allowed to be loaded via this mode unless they are explicitly allowlisted by the user via `torch.serialization.add_safe_globals`. We recommend you start setting `weights_only=True` for any use case where you don't have full control of the loaded file. Please open an issue on GitHub for any issues related to this experimental feature.\n",
      "  return torch.load(graph_topology.path)\n"
     ]
    }
   ],
   "source": [
    "dataset = gb.OnDiskDataset(base_dir).load()\n",
    "graph = dataset.graph\n",
    "print(f\"Loaded graph: {graph}\\n\")\n",
    "\n",
    "feature = dataset.feature\n",
    "print(f\"Loaded feature store: {feature}\\n\")\n",
    "\n",
    "tasks = dataset.tasks\n",
    "nc_task = tasks[0]\n",
    "print(f\"Loaded node classification task: {nc_task}\\n\")\n",
    "lp_task = tasks[1]\n",
    "print(f\"Loaded link prediction task: {lp_task}\\n\")"
   ]
  }
 ],
 "metadata": {
  "colab": {
   "private_outputs": true,
   "provenance": []
  },
  "kernelspec": {
   "display_name": "Python 3",
   "name": "python3"
  },
  "language_info": {
   "codemirror_mode": {
    "name": "ipython",
    "version": 3
   },
   "file_extension": ".py",
   "mimetype": "text/x-python",
   "name": "python",
   "nbconvert_exporter": "python",
   "pygments_lexer": "ipython3",
   "version": "3.10.14"
  }
 },
 "nbformat": 4,
 "nbformat_minor": 0
}

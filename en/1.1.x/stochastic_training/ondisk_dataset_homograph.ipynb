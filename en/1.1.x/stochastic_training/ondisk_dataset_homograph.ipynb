{
 "cells": [
  {
   "cell_type": "markdown",
   "metadata": {
    "id": "FnFhPMaAfLtJ"
   },
   "source": [
    "# OnDiskDataset for Homogeneous Graph\n",
    "\n",
    "[![Open In Colab](https://colab.research.google.com/assets/colab-badge.svg)](https://colab.research.google.com/github/dmlc/dgl/blob/master/notebooks/stochastic_training/ondisk_dataset_homograph.ipynb) [![GitHub](https://img.shields.io/badge/-View%20on%20GitHub-181717?logo=github&logoColor=ffffff)](https://github.com/dmlc/dgl/blob/master/notebooks/stochastic_training/ondisk_dataset_homograph.ipynb)\n",
    "\n",
    "This tutorial shows how to create `OnDiskDataset` for homogeneous graph that could be used in **GraphBolt** framework.\n",
    "\n",
    "By the end of this tutorial, you will be able to\n",
    "\n",
    "- organize graph structure data.\n",
    "- organize feature data.\n",
    "- organize training/validation/test set for specific tasks.\n",
    "\n",
    "To create an ``OnDiskDataset`` object, you need to organize all the data including graph structure, feature data and tasks into a directory. The directory should contain a ``metadata.yaml`` file that describes the metadata of the dataset.\n",
    "\n",
    "Now let's generate various data step by step and organize them together to instantiate `OnDiskDataset` finally."
   ]
  },
  {
   "cell_type": "markdown",
   "metadata": {
    "id": "Wlb19DtWgtzq"
   },
   "source": [
    "## Install DGL package"
   ]
  },
  {
   "cell_type": "code",
   "execution_count": 1,
   "metadata": {
    "execution": {
     "iopub.execute_input": "2024-08-20T06:27:35.046233Z",
     "iopub.status.busy": "2024-08-20T06:27:35.045854Z",
     "iopub.status.idle": "2024-08-20T06:27:38.822367Z",
     "shell.execute_reply": "2024-08-20T06:27:38.821574Z"
    },
    "id": "UojlT9ZGgyr9"
   },
   "outputs": [
    {
     "name": "stdout",
     "output_type": "stream",
     "text": [
      "Looking in links: https://data.dgl.ai/wheels-test/repo.html\r\n",
      "Requirement already satisfied: dgl in /opt/conda/envs/dgl-dev-cpu/lib/python3.10/site-packages (2.2a240410)\r\n",
      "Requirement already satisfied: numpy>=1.14.0 in /opt/conda/envs/dgl-dev-cpu/lib/python3.10/site-packages (from dgl) (1.26.4)\r\n",
      "Requirement already satisfied: scipy>=1.1.0 in /opt/conda/envs/dgl-dev-cpu/lib/python3.10/site-packages (from dgl) (1.14.0)\r\n",
      "Requirement already satisfied: networkx>=2.1 in /opt/conda/envs/dgl-dev-cpu/lib/python3.10/site-packages (from dgl) (3.3)\r\n",
      "Requirement already satisfied: requests>=2.19.0 in /opt/conda/envs/dgl-dev-cpu/lib/python3.10/site-packages (from dgl) (2.32.3)\r\n",
      "Requirement already satisfied: tqdm in /opt/conda/envs/dgl-dev-cpu/lib/python3.10/site-packages (from dgl) (4.66.5)\r\n",
      "Requirement already satisfied: psutil>=5.8.0 in /opt/conda/envs/dgl-dev-cpu/lib/python3.10/site-packages (from dgl) (6.0.0)\r\n",
      "Requirement already satisfied: torchdata>=0.5.0 in /opt/conda/envs/dgl-dev-cpu/lib/python3.10/site-packages (from dgl) (0.7.1+6427ed9)\r\n",
      "Requirement already satisfied: pandas in /opt/conda/envs/dgl-dev-cpu/lib/python3.10/site-packages (from dgl) (2.2.2)\r\n",
      "Requirement already satisfied: charset-normalizer<4,>=2 in /opt/conda/envs/dgl-dev-cpu/lib/python3.10/site-packages (from requests>=2.19.0->dgl) (3.3.2)\r\n",
      "Requirement already satisfied: idna<4,>=2.5 in /opt/conda/envs/dgl-dev-cpu/lib/python3.10/site-packages (from requests>=2.19.0->dgl) (3.7)\r\n",
      "Requirement already satisfied: urllib3<3,>=1.21.1 in /opt/conda/envs/dgl-dev-cpu/lib/python3.10/site-packages (from requests>=2.19.0->dgl) (2.2.2)\r\n",
      "Requirement already satisfied: certifi>=2017.4.17 in /opt/conda/envs/dgl-dev-cpu/lib/python3.10/site-packages (from requests>=2.19.0->dgl) (2024.7.4)\r\n",
      "Requirement already satisfied: torch>=2 in /opt/conda/envs/dgl-dev-cpu/lib/python3.10/site-packages (from torchdata>=0.5.0->dgl) (2.1.0+cpu)\r\n"
     ]
    },
    {
     "name": "stdout",
     "output_type": "stream",
     "text": [
      "Requirement already satisfied: python-dateutil>=2.8.2 in /opt/conda/envs/dgl-dev-cpu/lib/python3.10/site-packages (from pandas->dgl) (2.9.0.post0)\r\n",
      "Requirement already satisfied: pytz>=2020.1 in /opt/conda/envs/dgl-dev-cpu/lib/python3.10/site-packages (from pandas->dgl) (2024.1)\r\n",
      "Requirement already satisfied: tzdata>=2022.7 in /opt/conda/envs/dgl-dev-cpu/lib/python3.10/site-packages (from pandas->dgl) (2024.1)\r\n",
      "Requirement already satisfied: six>=1.5 in /opt/conda/envs/dgl-dev-cpu/lib/python3.10/site-packages (from python-dateutil>=2.8.2->pandas->dgl) (1.16.0)\r\n",
      "Requirement already satisfied: filelock in /opt/conda/envs/dgl-dev-cpu/lib/python3.10/site-packages (from torch>=2->torchdata>=0.5.0->dgl) (3.15.4)\r\n",
      "Requirement already satisfied: typing-extensions in /opt/conda/envs/dgl-dev-cpu/lib/python3.10/site-packages (from torch>=2->torchdata>=0.5.0->dgl) (4.12.2)\r\n",
      "Requirement already satisfied: sympy in /opt/conda/envs/dgl-dev-cpu/lib/python3.10/site-packages (from torch>=2->torchdata>=0.5.0->dgl) (1.13.2)\r\n",
      "Requirement already satisfied: jinja2 in /opt/conda/envs/dgl-dev-cpu/lib/python3.10/site-packages (from torch>=2->torchdata>=0.5.0->dgl) (3.1.4)\r\n",
      "Requirement already satisfied: fsspec in /opt/conda/envs/dgl-dev-cpu/lib/python3.10/site-packages (from torch>=2->torchdata>=0.5.0->dgl) (2024.6.1)\r\n"
     ]
    },
    {
     "name": "stdout",
     "output_type": "stream",
     "text": [
      "Requirement already satisfied: MarkupSafe>=2.0 in /opt/conda/envs/dgl-dev-cpu/lib/python3.10/site-packages (from jinja2->torch>=2->torchdata>=0.5.0->dgl) (2.1.5)\r\n",
      "Requirement already satisfied: mpmath<1.4,>=1.1.0 in /opt/conda/envs/dgl-dev-cpu/lib/python3.10/site-packages (from sympy->torch>=2->torchdata>=0.5.0->dgl) (1.3.0)\r\n"
     ]
    },
    {
     "name": "stdout",
     "output_type": "stream",
     "text": [
      "DGL installed!\n"
     ]
    }
   ],
   "source": [
    "# Install required packages.\n",
    "import os\n",
    "import torch\n",
    "import numpy as np\n",
    "os.environ['TORCH'] = torch.__version__\n",
    "os.environ['DGLBACKEND'] = \"pytorch\"\n",
    "\n",
    "# Install the CPU version.\n",
    "device = torch.device(\"cpu\")\n",
    "!pip install --pre dgl -f https://data.dgl.ai/wheels-test/repo.html\n",
    "\n",
    "try:\n",
    "    import dgl\n",
    "    import dgl.graphbolt as gb\n",
    "    installed = True\n",
    "except ImportError as error:\n",
    "    installed = False\n",
    "    print(error)\n",
    "print(\"DGL installed!\" if installed else \"DGL not found!\")"
   ]
  },
  {
   "cell_type": "markdown",
   "metadata": {
    "id": "2R7WnSbjsfbr"
   },
   "source": [
    "## Data preparation\n",
    "In order to demonstrate how to organize various data, let's create a base directory first."
   ]
  },
  {
   "cell_type": "code",
   "execution_count": 2,
   "metadata": {
    "execution": {
     "iopub.execute_input": "2024-08-20T06:27:38.825152Z",
     "iopub.status.busy": "2024-08-20T06:27:38.824781Z",
     "iopub.status.idle": "2024-08-20T06:27:38.828805Z",
     "shell.execute_reply": "2024-08-20T06:27:38.828246Z"
    },
    "id": "SZipbzyltLfO"
   },
   "outputs": [
    {
     "name": "stdout",
     "output_type": "stream",
     "text": [
      "Created base directory: ./ondisk_dataset_homograph\n"
     ]
    }
   ],
   "source": [
    "base_dir = './ondisk_dataset_homograph'\n",
    "os.makedirs(base_dir, exist_ok=True)\n",
    "print(f\"Created base directory: {base_dir}\")"
   ]
  },
  {
   "cell_type": "markdown",
   "metadata": {
    "id": "qhNtIn_xhlnl"
   },
   "source": [
    "### Generate graph structure data\n",
    "For homogeneous graph, we just need to save edges(namely node pairs) into  **Numpy** or **CSV** file.\n",
    "\n",
    "Note:\n",
    "- when saving to **Numpy**, the array requires to be in shape of `(2, N)`. This format is recommended as constructing graph from it is much faster than **CSV** file.\n",
    "- when saving to **CSV** file, do not save index and header.\n"
   ]
  },
  {
   "cell_type": "code",
   "execution_count": 3,
   "metadata": {
    "execution": {
     "iopub.execute_input": "2024-08-20T06:27:38.831259Z",
     "iopub.status.busy": "2024-08-20T06:27:38.830894Z",
     "iopub.status.idle": "2024-08-20T06:27:38.844358Z",
     "shell.execute_reply": "2024-08-20T06:27:38.843752Z"
    },
    "id": "HcBt4G5BmSjr"
   },
   "outputs": [
    {
     "name": "stdout",
     "output_type": "stream",
     "text": [
      "Part of edges: [[427 408]\n",
      " [713 648]\n",
      " [431  42]\n",
      " [105 537]\n",
      " [178 752]]\n",
      "Edges are saved into ./ondisk_dataset_homograph/edges.csv\n"
     ]
    }
   ],
   "source": [
    "import numpy as np\n",
    "import pandas as pd\n",
    "num_nodes = 1000\n",
    "num_edges = 10 * num_nodes\n",
    "edges_path = os.path.join(base_dir, \"edges.csv\")\n",
    "edges = np.random.randint(0, num_nodes, size=(num_edges, 2))\n",
    "\n",
    "print(f\"Part of edges: {edges[:5, :]}\")\n",
    "\n",
    "df = pd.DataFrame(edges)\n",
    "df.to_csv(edges_path, index=False, header=False)\n",
    "\n",
    "print(f\"Edges are saved into {edges_path}\")"
   ]
  },
  {
   "cell_type": "markdown",
   "metadata": {
    "id": "kh-4cPtzpcaH"
   },
   "source": [
    "### Generate feature data for graph\n",
    "For feature data, numpy arrays and torch tensors are supported for now."
   ]
  },
  {
   "cell_type": "code",
   "execution_count": 4,
   "metadata": {
    "execution": {
     "iopub.execute_input": "2024-08-20T06:27:38.846902Z",
     "iopub.status.busy": "2024-08-20T06:27:38.846448Z",
     "iopub.status.idle": "2024-08-20T06:27:38.860020Z",
     "shell.execute_reply": "2024-08-20T06:27:38.859504Z"
    },
    "id": "_PVu1u5brBhF"
   },
   "outputs": [
    {
     "name": "stdout",
     "output_type": "stream",
     "text": [
      "Part of node feature [feat_0]: [[0.92883782 0.51333831 0.89245194 0.16326835 0.7514092 ]\n",
      " [0.32597981 0.48436572 0.58794767 0.63991941 0.82080042]\n",
      " [0.96528098 0.37919588 0.1372807  0.03490156 0.84054047]]\n",
      "Node feature [feat_0] is saved to ./ondisk_dataset_homograph/node-feat-0.npy\n",
      "\n",
      "Part of node feature [feat_1]: tensor([[0.3055, 0.1455, 0.0257, 0.5098, 0.7475],\n",
      "        [0.8510, 0.2165, 0.8793, 0.0017, 0.3565],\n",
      "        [0.3439, 0.3467, 0.8420, 0.7212, 0.0128]])\n",
      "Node feature [feat_1] is saved to ./ondisk_dataset_homograph/node-feat-1.pt\n",
      "\n",
      "Part of edge feature [feat_0]: [[0.10567621 0.51110197 0.91185861 0.0384532  0.05937775]\n",
      " [0.66910532 0.48239861 0.29476299 0.286645   0.17456484]\n",
      " [0.4485921  0.24181433 0.68409636 0.01882165 0.05067651]]\n",
      "Edge feature [feat_0] is saved to ./ondisk_dataset_homograph/edge-feat-0.npy\n",
      "\n",
      "Part of edge feature [feat_1]: tensor([[0.7785, 0.6755, 0.9398, 0.2472, 0.4658],\n",
      "        [0.9199, 0.8775, 0.4652, 0.7497, 0.4775],\n",
      "        [0.9688, 0.1370, 0.9561, 0.3970, 0.5016]])\n",
      "Edge feature [feat_1] is saved to ./ondisk_dataset_homograph/edge-feat-1.pt\n",
      "\n"
     ]
    }
   ],
   "source": [
    "# Generate node feature in numpy array.\n",
    "node_feat_0_path = os.path.join(base_dir, \"node-feat-0.npy\")\n",
    "node_feat_0 = np.random.rand(num_nodes, 5)\n",
    "print(f\"Part of node feature [feat_0]: {node_feat_0[:3, :]}\")\n",
    "np.save(node_feat_0_path, node_feat_0)\n",
    "print(f\"Node feature [feat_0] is saved to {node_feat_0_path}\\n\")\n",
    "\n",
    "# Generate another node feature in torch tensor\n",
    "node_feat_1_path = os.path.join(base_dir, \"node-feat-1.pt\")\n",
    "node_feat_1 = torch.rand(num_nodes, 5)\n",
    "print(f\"Part of node feature [feat_1]: {node_feat_1[:3, :]}\")\n",
    "torch.save(node_feat_1, node_feat_1_path)\n",
    "print(f\"Node feature [feat_1] is saved to {node_feat_1_path}\\n\")\n",
    "\n",
    "# Generate edge feature in numpy array.\n",
    "edge_feat_0_path = os.path.join(base_dir, \"edge-feat-0.npy\")\n",
    "edge_feat_0 = np.random.rand(num_edges, 5)\n",
    "print(f\"Part of edge feature [feat_0]: {edge_feat_0[:3, :]}\")\n",
    "np.save(edge_feat_0_path, edge_feat_0)\n",
    "print(f\"Edge feature [feat_0] is saved to {edge_feat_0_path}\\n\")\n",
    "\n",
    "# Generate another edge feature in torch tensor\n",
    "edge_feat_1_path = os.path.join(base_dir, \"edge-feat-1.pt\")\n",
    "edge_feat_1 = torch.rand(num_edges, 5)\n",
    "print(f\"Part of edge feature [feat_1]: {edge_feat_1[:3, :]}\")\n",
    "torch.save(edge_feat_1, edge_feat_1_path)\n",
    "print(f\"Edge feature [feat_1] is saved to {edge_feat_1_path}\\n\")\n"
   ]
  },
  {
   "cell_type": "markdown",
   "metadata": {
    "id": "ZyqgOtsIwzh_"
   },
   "source": [
    "### Generate tasks\n",
    "`OnDiskDataset` supports multiple tasks. For each task, we need to prepare training/validation/test sets respectively. Such sets usually vary among different tasks. In this tutorial, let's create a **Node Classification** task and **Link Prediction** task."
   ]
  },
  {
   "cell_type": "markdown",
   "metadata": {
    "id": "hVxHaDIfzCkr"
   },
   "source": [
    "#### Node Classification Task\n",
    "For node classification task, we need **node IDs** and corresponding **labels** for each training/validation/test set. Like feature data, numpy arrays and torch tensors are supported for these sets."
   ]
  },
  {
   "cell_type": "code",
   "execution_count": 5,
   "metadata": {
    "execution": {
     "iopub.execute_input": "2024-08-20T06:27:38.862404Z",
     "iopub.status.busy": "2024-08-20T06:27:38.862063Z",
     "iopub.status.idle": "2024-08-20T06:27:38.871993Z",
     "shell.execute_reply": "2024-08-20T06:27:38.871487Z"
    },
    "id": "S5-fyBbHzTCO"
   },
   "outputs": [
    {
     "name": "stdout",
     "output_type": "stream",
     "text": [
      "Part of train ids for node classification: [503 534 411]\n",
      "NC train ids are saved to ./ondisk_dataset_homograph/nc-train-ids.npy\n",
      "\n",
      "Part of train labels for node classification: tensor([1, 5, 4])\n",
      "NC train labels are saved to ./ondisk_dataset_homograph/nc-train-labels.pt\n",
      "\n",
      "Part of val ids for node classification: [562 246 697]\n",
      "NC val ids are saved to ./ondisk_dataset_homograph/nc-val-ids.npy\n",
      "\n",
      "Part of val labels for node classification: tensor([1, 6, 4])\n",
      "NC val labels are saved to ./ondisk_dataset_homograph/nc-val-labels.pt\n",
      "\n",
      "Part of test ids for node classification: [952 324 273]\n",
      "NC test ids are saved to ./ondisk_dataset_homograph/nc-test-ids.npy\n",
      "\n",
      "Part of test labels for node classification: tensor([3, 3, 5])\n",
      "NC test labels are saved to ./ondisk_dataset_homograph/nc-test-labels.pt\n",
      "\n"
     ]
    }
   ],
   "source": [
    "num_trains = int(num_nodes * 0.6)\n",
    "num_vals = int(num_nodes * 0.2)\n",
    "num_tests = num_nodes - num_trains - num_vals\n",
    "\n",
    "ids = np.arange(num_nodes)\n",
    "np.random.shuffle(ids)\n",
    "\n",
    "nc_train_ids_path = os.path.join(base_dir, \"nc-train-ids.npy\")\n",
    "nc_train_ids = ids[:num_trains]\n",
    "print(f\"Part of train ids for node classification: {nc_train_ids[:3]}\")\n",
    "np.save(nc_train_ids_path, nc_train_ids)\n",
    "print(f\"NC train ids are saved to {nc_train_ids_path}\\n\")\n",
    "\n",
    "nc_train_labels_path = os.path.join(base_dir, \"nc-train-labels.pt\")\n",
    "nc_train_labels = torch.randint(0, 10, (num_trains,))\n",
    "print(f\"Part of train labels for node classification: {nc_train_labels[:3]}\")\n",
    "torch.save(nc_train_labels, nc_train_labels_path)\n",
    "print(f\"NC train labels are saved to {nc_train_labels_path}\\n\")\n",
    "\n",
    "nc_val_ids_path = os.path.join(base_dir, \"nc-val-ids.npy\")\n",
    "nc_val_ids = ids[num_trains:num_trains+num_vals]\n",
    "print(f\"Part of val ids for node classification: {nc_val_ids[:3]}\")\n",
    "np.save(nc_val_ids_path, nc_val_ids)\n",
    "print(f\"NC val ids are saved to {nc_val_ids_path}\\n\")\n",
    "\n",
    "nc_val_labels_path = os.path.join(base_dir, \"nc-val-labels.pt\")\n",
    "nc_val_labels = torch.randint(0, 10, (num_vals,))\n",
    "print(f\"Part of val labels for node classification: {nc_val_labels[:3]}\")\n",
    "torch.save(nc_val_labels, nc_val_labels_path)\n",
    "print(f\"NC val labels are saved to {nc_val_labels_path}\\n\")\n",
    "\n",
    "nc_test_ids_path = os.path.join(base_dir, \"nc-test-ids.npy\")\n",
    "nc_test_ids = ids[-num_tests:]\n",
    "print(f\"Part of test ids for node classification: {nc_test_ids[:3]}\")\n",
    "np.save(nc_test_ids_path, nc_test_ids)\n",
    "print(f\"NC test ids are saved to {nc_test_ids_path}\\n\")\n",
    "\n",
    "nc_test_labels_path = os.path.join(base_dir, \"nc-test-labels.pt\")\n",
    "nc_test_labels = torch.randint(0, 10, (num_tests,))\n",
    "print(f\"Part of test labels for node classification: {nc_test_labels[:3]}\")\n",
    "torch.save(nc_test_labels, nc_test_labels_path)\n",
    "print(f\"NC test labels are saved to {nc_test_labels_path}\\n\")"
   ]
  },
  {
   "cell_type": "markdown",
   "metadata": {
    "id": "LhAcDCHQ_KJ0"
   },
   "source": [
    "#### Link Prediction Task\n",
    "For link prediction task, we need **node pairs** or **negative src/dsts** for each training/validation/test set. Like feature data, numpy arrays and torch tensors are supported for these sets."
   ]
  },
  {
   "cell_type": "code",
   "execution_count": 6,
   "metadata": {
    "execution": {
     "iopub.execute_input": "2024-08-20T06:27:38.874293Z",
     "iopub.status.busy": "2024-08-20T06:27:38.873934Z",
     "iopub.status.idle": "2024-08-20T06:27:38.883790Z",
     "shell.execute_reply": "2024-08-20T06:27:38.883275Z"
    },
    "id": "u0jCnXIcAQy4"
   },
   "outputs": [
    {
     "name": "stdout",
     "output_type": "stream",
     "text": [
      "Part of train node pairs for link prediction: [[427 408]\n",
      " [713 648]\n",
      " [431  42]]\n",
      "LP train node pairs are saved to ./ondisk_dataset_homograph/lp-train-node-pairs.npy\n",
      "\n",
      "Part of val node pairs for link prediction: [[767 555]\n",
      " [815 842]\n",
      " [761 122]]\n",
      "LP val node pairs are saved to ./ondisk_dataset_homograph/lp-val-node-pairs.npy\n",
      "\n",
      "Part of val negative dsts for link prediction: tensor([[863, 697, 533, 140, 268, 943, 726,  66, 200, 983],\n",
      "        [241, 673, 303, 896, 565, 592, 256, 604, 931, 257],\n",
      "        [688,  40, 194, 392, 801, 679,  90, 849,  20, 920]])\n",
      "LP val negative dsts are saved to ./ondisk_dataset_homograph/lp-val-neg-dsts.pt\n",
      "\n",
      "Part of test node pairs for link prediction: [441 353]\n",
      "LP test node pairs are saved to ./ondisk_dataset_homograph/lp-test-node-pairs.npy\n",
      "\n",
      "Part of test negative dsts for link prediction: tensor([[ 40, 707, 140, 370, 817, 462, 711, 409, 584, 347],\n",
      "        [323, 603, 990, 243, 714, 344, 503, 681, 612, 309],\n",
      "        [208, 483, 218, 859, 430, 696,  36, 707, 692, 111]])\n",
      "LP test negative dsts are saved to ./ondisk_dataset_homograph/lp-test-neg-dsts.pt\n",
      "\n"
     ]
    }
   ],
   "source": [
    "num_trains = int(num_edges * 0.6)\n",
    "num_vals = int(num_edges * 0.2)\n",
    "num_tests = num_edges - num_trains - num_vals\n",
    "\n",
    "lp_train_node_pairs_path = os.path.join(base_dir, \"lp-train-node-pairs.npy\")\n",
    "lp_train_node_pairs = edges[:num_trains, :]\n",
    "print(f\"Part of train node pairs for link prediction: {lp_train_node_pairs[:3]}\")\n",
    "np.save(lp_train_node_pairs_path, lp_train_node_pairs)\n",
    "print(f\"LP train node pairs are saved to {lp_train_node_pairs_path}\\n\")\n",
    "\n",
    "lp_val_node_pairs_path = os.path.join(base_dir, \"lp-val-node-pairs.npy\")\n",
    "lp_val_node_pairs = edges[num_trains:num_trains+num_vals, :]\n",
    "print(f\"Part of val node pairs for link prediction: {lp_val_node_pairs[:3]}\")\n",
    "np.save(lp_val_node_pairs_path, lp_val_node_pairs)\n",
    "print(f\"LP val node pairs are saved to {lp_val_node_pairs_path}\\n\")\n",
    "\n",
    "lp_val_neg_dsts_path = os.path.join(base_dir, \"lp-val-neg-dsts.pt\")\n",
    "lp_val_neg_dsts = torch.randint(0, num_nodes, (num_vals, 10))\n",
    "print(f\"Part of val negative dsts for link prediction: {lp_val_neg_dsts[:3]}\")\n",
    "torch.save(lp_val_neg_dsts, lp_val_neg_dsts_path)\n",
    "print(f\"LP val negative dsts are saved to {lp_val_neg_dsts_path}\\n\")\n",
    "\n",
    "lp_test_node_pairs_path = os.path.join(base_dir, \"lp-test-node-pairs.npy\")\n",
    "lp_test_node_pairs = edges[-num_tests, :]\n",
    "print(f\"Part of test node pairs for link prediction: {lp_test_node_pairs[:3]}\")\n",
    "np.save(lp_test_node_pairs_path, lp_test_node_pairs)\n",
    "print(f\"LP test node pairs are saved to {lp_test_node_pairs_path}\\n\")\n",
    "\n",
    "lp_test_neg_dsts_path = os.path.join(base_dir, \"lp-test-neg-dsts.pt\")\n",
    "lp_test_neg_dsts = torch.randint(0, num_nodes, (num_tests, 10))\n",
    "print(f\"Part of test negative dsts for link prediction: {lp_test_neg_dsts[:3]}\")\n",
    "torch.save(lp_test_neg_dsts, lp_test_neg_dsts_path)\n",
    "print(f\"LP test negative dsts are saved to {lp_test_neg_dsts_path}\\n\")"
   ]
  },
  {
   "cell_type": "markdown",
   "metadata": {
    "id": "wbk6-wxRK-6S"
   },
   "source": [
    "## Organize Data into YAML File\n",
    "Now we need to create a `metadata.yaml` file which contains the paths, dadta types of graph structure, feature data, training/validation/test sets.\n",
    "\n",
    "Notes:\n",
    "- all path should be relative to `metadata.yaml`.\n",
    "- Below fields are optional and not specified in below example.\n",
    "  - `in_memory`: indicates whether to load dada into memory or `mmap`. Default is `True`.\n",
    "\n",
    "Please refer to [YAML specification](https://github.com/dmlc/dgl/blob/master/docs/source/stochastic_training/ondisk-dataset-specification.rst) for more details."
   ]
  },
  {
   "cell_type": "code",
   "execution_count": 7,
   "metadata": {
    "execution": {
     "iopub.execute_input": "2024-08-20T06:27:38.886151Z",
     "iopub.status.busy": "2024-08-20T06:27:38.885810Z",
     "iopub.status.idle": "2024-08-20T06:27:38.890981Z",
     "shell.execute_reply": "2024-08-20T06:27:38.890463Z"
    },
    "id": "ddGTWW61Lpwp"
   },
   "outputs": [],
   "source": [
    "yaml_content = f\"\"\"\n",
    "    dataset_name: homogeneous_graph_nc_lp\n",
    "    graph:\n",
    "      nodes:\n",
    "        - num: {num_nodes}\n",
    "      edges:\n",
    "        - format: csv\n",
    "          path: {os.path.basename(edges_path)}\n",
    "    feature_data:\n",
    "      - domain: node\n",
    "        name: feat_0\n",
    "        format: numpy\n",
    "        path: {os.path.basename(node_feat_0_path)}\n",
    "      - domain: node\n",
    "        name: feat_1\n",
    "        format: torch\n",
    "        path: {os.path.basename(node_feat_1_path)}\n",
    "      - domain: edge\n",
    "        name: feat_0\n",
    "        format: numpy\n",
    "        path: {os.path.basename(edge_feat_0_path)}\n",
    "      - domain: edge\n",
    "        name: feat_1\n",
    "        format: torch\n",
    "        path: {os.path.basename(edge_feat_1_path)}\n",
    "    tasks:\n",
    "      - name: node_classification\n",
    "        num_classes: 10\n",
    "        train_set:\n",
    "          - data:\n",
    "              - name: seed_nodes\n",
    "                format: numpy\n",
    "                path: {os.path.basename(nc_train_ids_path)}\n",
    "              - name: labels\n",
    "                format: torch\n",
    "                path: {os.path.basename(nc_train_labels_path)}\n",
    "        validation_set:\n",
    "          - data:\n",
    "              - name: seed_nodes\n",
    "                format: numpy\n",
    "                path: {os.path.basename(nc_val_ids_path)}\n",
    "              - name: labels\n",
    "                format: torch\n",
    "                path: {os.path.basename(nc_val_labels_path)}\n",
    "        test_set:\n",
    "          - data:\n",
    "              - name: seed_nodes\n",
    "                format: numpy\n",
    "                path: {os.path.basename(nc_test_ids_path)}\n",
    "              - name: labels\n",
    "                format: torch\n",
    "                path: {os.path.basename(nc_test_labels_path)}\n",
    "      - name: link_prediction\n",
    "        num_classes: 10\n",
    "        train_set:\n",
    "          - data:\n",
    "              - name: node_pairs\n",
    "                format: numpy\n",
    "                path: {os.path.basename(lp_train_node_pairs_path)}\n",
    "        validation_set:\n",
    "          - data:\n",
    "              - name: node_pairs\n",
    "                format: numpy\n",
    "                path: {os.path.basename(lp_val_node_pairs_path)}\n",
    "              - name: negative_dsts\n",
    "                format: torch\n",
    "                path: {os.path.basename(lp_val_neg_dsts_path)}\n",
    "        test_set:\n",
    "          - data:\n",
    "              - name: node_pairs\n",
    "                format: numpy\n",
    "                path: {os.path.basename(lp_test_node_pairs_path)}\n",
    "              - name: negative_dsts\n",
    "                format: torch\n",
    "                path: {os.path.basename(lp_test_neg_dsts_path)}\n",
    "\"\"\"\n",
    "metadata_path = os.path.join(base_dir, \"metadata.yaml\")\n",
    "with open(metadata_path, \"w\") as f:\n",
    "  f.write(yaml_content)"
   ]
  },
  {
   "cell_type": "markdown",
   "metadata": {
    "id": "kEfybHGhOW7O"
   },
   "source": [
    "## Instantiate `OnDiskDataset`\n",
    "Now we're ready to load dataset via `dgl.graphbolt.OnDiskDataset`. When instantiating, we just pass in the base directory where `metadata.yaml` file lies.\n",
    "\n",
    "During first instantiation, GraphBolt preprocesses the raw data such as constructing `FusedCSCSamplingGraph` from edges. All data including graph, feature data, training/validation/test sets are put into `preprocessed` directory after preprocessing. Any following dataset loading will skip the preprocess stage.\n",
    "\n",
    "After preprocessing, `load()` is required to be called explicitly in order to load graph, feature data and tasks."
   ]
  },
  {
   "cell_type": "code",
   "execution_count": 8,
   "metadata": {
    "execution": {
     "iopub.execute_input": "2024-08-20T06:27:38.893225Z",
     "iopub.status.busy": "2024-08-20T06:27:38.892856Z",
     "iopub.status.idle": "2024-08-20T06:27:38.977507Z",
     "shell.execute_reply": "2024-08-20T06:27:38.976932Z"
    },
    "id": "W58CZoSzOiyo"
   },
   "outputs": [
    {
     "name": "stdout",
     "output_type": "stream",
     "text": [
      "The on-disk dataset is re-preprocessing, so the existing preprocessed dataset has been removed.\n",
      "Start to preprocess the on-disk dataset.\n",
      "Finish preprocessing the on-disk dataset.\n",
      "Loaded graph: FusedCSCSamplingGraph(csc_indptr=tensor([    0,     6,    18,  ...,  9978,  9988, 10000], dtype=torch.int32),\n",
      "                      indices=tensor([426, 984, 420,  ..., 925, 788, 131], dtype=torch.int32),\n",
      "                      total_num_nodes=1000, num_edges=10000,)\n",
      "\n",
      "Loaded feature store: TorchBasedFeatureStore(\n",
      "    {(<OnDiskFeatureDataDomain.NODE: 'node'>, None, 'feat_0'): TorchBasedFeature(\n",
      "        feature=tensor([[0.9288, 0.5133, 0.8925, 0.1633, 0.7514],\n",
      "                        [0.3260, 0.4844, 0.5879, 0.6399, 0.8208],\n",
      "                        [0.9653, 0.3792, 0.1373, 0.0349, 0.8405],\n",
      "                        ...,\n",
      "                        [0.4996, 0.3237, 0.8808, 0.0765, 0.4962],\n",
      "                        [0.9161, 0.0541, 0.6046, 0.6928, 0.7329],\n",
      "                        [0.8938, 0.9338, 0.4358, 0.9931, 0.1439]], dtype=torch.float64),\n",
      "        metadata={},\n",
      "    ), (<OnDiskFeatureDataDomain.NODE: 'node'>, None, 'feat_1'): TorchBasedFeature(\n",
      "        feature=tensor([[0.3055, 0.1455, 0.0257, 0.5098, 0.7475],\n",
      "                        [0.8510, 0.2165, 0.8793, 0.0017, 0.3565],\n",
      "                        [0.3439, 0.3467, 0.8420, 0.7212, 0.0128],\n",
      "                        ...,\n",
      "                        [0.7608, 0.0785, 0.7248, 0.3991, 0.7043],\n",
      "                        [0.0545, 0.4891, 0.4703, 0.1854, 0.7195],\n",
      "                        [0.1445, 0.7384, 0.7717, 0.7031, 0.9210]]),\n",
      "        metadata={},\n",
      "    ), (<OnDiskFeatureDataDomain.EDGE: 'edge'>, None, 'feat_0'): TorchBasedFeature(\n",
      "        feature=tensor([[0.1057, 0.5111, 0.9119, 0.0385, 0.0594],\n",
      "                        [0.6691, 0.4824, 0.2948, 0.2866, 0.1746],\n",
      "                        [0.4486, 0.2418, 0.6841, 0.0188, 0.0507],\n",
      "                        ...,\n",
      "                        [0.9791, 0.5227, 0.8007, 0.5783, 0.7288],\n",
      "                        [0.5393, 0.3578, 0.5277, 0.2378, 0.5002],\n",
      "                        [0.6495, 0.8143, 0.3133, 0.3122, 0.9166]], dtype=torch.float64),\n",
      "        metadata={},\n",
      "    ), (<OnDiskFeatureDataDomain.EDGE: 'edge'>, None, 'feat_1'): TorchBasedFeature(\n",
      "        feature=tensor([[0.7785, 0.6755, 0.9398, 0.2472, 0.4658],\n",
      "                        [0.9199, 0.8775, 0.4652, 0.7497, 0.4775],\n",
      "                        [0.9688, 0.1370, 0.9561, 0.3970, 0.5016],\n",
      "                        ...,\n",
      "                        [0.4787, 0.4661, 0.1941, 0.6601, 0.4769],\n",
      "                        [0.9578, 0.9834, 0.9882, 0.4759, 0.4287],\n",
      "                        [0.8747, 0.3984, 0.2117, 0.6911, 0.0514]]),\n",
      "        metadata={},\n",
      "    )}\n",
      ")\n",
      "\n",
      "Loaded node classification task: OnDiskTask(validation_set=ItemSet(\n",
      "               items=(tensor([562, 246, 697,  15, 192, 201,  72, 872, 128, 449, 686, 584, 961, 864,\n",
      "                    84, 550, 555,  71, 940, 319, 667, 176, 298,   2, 991, 950, 829, 868,\n",
      "                     7, 827, 212, 659,  90, 890, 243, 475, 640, 506, 510, 887,  80, 245,\n",
      "                   131, 861, 161, 730, 831, 764, 530, 762, 383, 851, 956,  82,  96, 854,\n",
      "                   287, 797, 698, 118, 718, 783, 719, 561, 121, 715, 456, 454, 329, 473,\n",
      "                   793, 169, 713, 676, 770, 416, 877,   9, 977, 198, 792, 213, 769, 556,\n",
      "                   353, 569,  47,  17, 393, 714,  50, 336, 841, 685, 947, 833, 450, 785,\n",
      "                   664, 279, 882, 126, 111, 674, 688, 631, 559, 172, 267,  56, 546, 352,\n",
      "                   474, 605, 644, 141, 166, 944, 837, 700, 523, 577, 462, 834, 862, 903,\n",
      "                   185, 860, 466, 266, 933, 146, 642, 264, 748, 943, 817, 608, 582, 526,\n",
      "                   842, 670, 413, 720, 586, 767, 190, 496, 480, 699, 647, 635,  20, 709,\n",
      "                   153, 632, 874, 810, 590, 277, 187, 689, 740, 445, 235, 116, 351, 745,\n",
      "                   156, 328, 821, 540, 226, 630, 976, 812, 427, 623, 702, 335, 856, 896,\n",
      "                   164, 398, 327,  87, 406, 994, 918, 790, 170, 836, 414,  57, 955, 801,\n",
      "                   482, 609, 615, 675], dtype=torch.int32), tensor([1, 6, 4, 5, 0, 0, 2, 4, 5, 4, 2, 8, 8, 0, 6, 2, 5, 7, 8, 4, 7, 2, 2, 2,\n",
      "                   4, 1, 6, 6, 5, 1, 3, 6, 4, 3, 7, 7, 6, 2, 8, 3, 4, 1, 0, 8, 1, 8, 8, 0,\n",
      "                   5, 7, 8, 8, 2, 7, 0, 9, 2, 2, 7, 2, 3, 7, 9, 2, 3, 5, 7, 2, 9, 4, 2, 5,\n",
      "                   5, 8, 8, 8, 8, 8, 2, 0, 0, 2, 6, 4, 9, 6, 9, 0, 7, 0, 4, 6, 6, 4, 8, 1,\n",
      "                   7, 6, 1, 1, 1, 9, 7, 6, 5, 4, 7, 7, 5, 3, 1, 6, 4, 6, 1, 9, 1, 5, 9, 9,\n",
      "                   7, 5, 8, 5, 1, 7, 9, 6, 5, 4, 1, 9, 7, 8, 0, 5, 5, 0, 6, 4, 3, 1, 8, 7,\n",
      "                   3, 5, 2, 7, 1, 0, 6, 7, 1, 4, 3, 3, 4, 1, 6, 7, 2, 3, 6, 9, 6, 7, 8, 8,\n",
      "                   5, 1, 3, 7, 4, 8, 3, 0, 8, 6, 2, 5, 0, 1, 3, 1, 9, 5, 4, 5, 3, 6, 3, 8,\n",
      "                   6, 4, 0, 1, 1, 4, 7, 0])),\n",
      "               names=('seed_nodes', 'labels'),\n",
      "           ),\n",
      "           train_set=ItemSet(\n",
      "               items=(tensor([503, 534, 411, 420, 270,  24, 321, 902, 925, 151, 786, 320, 205, 743,\n",
      "                   788,  32, 802, 581,  54, 612, 619, 926, 749, 143, 907, 379, 437, 180,\n",
      "                    18, 476, 283, 356, 927, 215, 634, 695,  99,   5, 532, 495, 343, 338,\n",
      "                   518, 189,  94, 256, 924, 805, 455, 564, 429, 857, 920, 148, 622, 798,\n",
      "                   970, 886, 618, 538, 481, 372, 954, 892, 617, 978, 867, 849, 499, 281,\n",
      "                   106, 250, 945, 737, 671,  35, 199, 418, 300, 295, 224, 625, 512, 282,\n",
      "                   504, 202, 832, 822, 636,  25,  31, 628, 258, 777, 364, 237, 696, 795,\n",
      "                    46, 301, 403, 880, 214, 120, 558, 421, 796, 913, 123, 938, 171, 308,\n",
      "                   778, 194, 703, 935, 244, 391, 747, 911, 595, 505, 127, 233, 934, 341,\n",
      "                   397, 501,  77,  34, 607,   4, 826, 241, 129, 969, 203, 904, 424, 960,\n",
      "                   447, 385, 160, 452, 974, 330, 987, 865, 738, 167, 998, 906, 639, 175,\n",
      "                   305, 818, 679, 666, 820, 458, 809, 104,  26, 752, 656, 894, 891, 588,\n",
      "                    10, 299, 653, 823, 375,  45, 374, 678, 150,  85, 472, 135, 260, 114,\n",
      "                    21, 332, 557, 759, 490,  91, 620, 928, 750, 984, 624, 816, 108, 756,\n",
      "                   845, 428, 980, 134, 216, 457, 725, 871,  52, 732, 515, 230, 545, 706,\n",
      "                    70, 919, 386, 410, 610, 895, 511, 729, 377, 997, 522, 858, 115, 339,\n",
      "                   492, 932, 426, 774, 883, 761, 195,  76, 290, 517, 912, 736, 524,  38,\n",
      "                   519, 901, 578, 357, 922, 993, 533, 373, 645, 367, 395, 293, 739, 772,\n",
      "                   594, 898, 381, 369, 251, 276, 297,  67,  79, 178, 197, 995, 996, 717,\n",
      "                   407, 658, 599, 852, 489, 317, 968, 484, 684, 742, 815,  62, 808, 442,\n",
      "                   716, 347, 234, 733, 573, 889, 491, 869, 331, 755, 497, 358, 543, 604,\n",
      "                   152, 181, 137, 344,  43, 498, 453, 133,  14, 444, 304, 366, 312, 601,\n",
      "                   209, 314, 107, 365, 354, 306, 662, 651, 548, 158, 768, 914, 937,  53,\n",
      "                   441,  73,  95, 824, 236, 285, 268,  93, 981, 349, 206, 294, 485, 575,\n",
      "                   296, 103, 315, 983, 318, 779, 910, 665, 819, 663, 734, 404, 775, 835,\n",
      "                   448, 113, 724, 627, 217, 579, 789, 218, 384,  40, 781, 225, 988,  39,\n",
      "                   708, 265, 876, 248, 362, 637, 744, 600, 249, 509, 204, 394, 551, 570,\n",
      "                   803, 585, 284, 412, 345,  22, 753, 261, 102, 704, 390, 721, 986, 223,\n",
      "                   722, 916, 701, 122, 388, 408, 355, 311, 119, 382, 680, 814, 771,  98,\n",
      "                   828, 682,  27,  11, 507, 870, 587, 348, 992, 513, 668, 280, 255, 884,\n",
      "                   130, 649, 269, 844, 962, 923, 921, 431, 677, 979, 433, 165, 459, 905,\n",
      "                   415, 839, 405, 422, 878, 621, 946, 252, 728, 967, 553, 443, 672, 288,\n",
      "                   866, 825, 843, 110, 157, 231, 567,  37, 220, 188, 710, 571, 528, 830,\n",
      "                     8, 616, 322, 186, 409, 361, 493, 307, 435, 208, 155, 948, 596, 957,\n",
      "                   207, 930, 638, 758, 477, 439, 963, 535, 380, 392, 576, 853, 800, 191,\n",
      "                   964,  19, 669, 552, 888,  65, 549, 731, 117, 101, 692,   6, 478, 325,\n",
      "                   147,   3, 488, 463,  78,  88, 193, 363, 464, 292, 751, 259, 735, 303,\n",
      "                   539, 951, 614, 271, 168,  36, 536,  33, 780, 494,  42, 240, 432, 909,\n",
      "                   541, 136, 521,  55, 712, 942, 396, 219, 350, 183, 310, 145,  28, 100,\n",
      "                   711, 514, 109, 591, 274, 173, 399, 989, 105,  48, 520, 254, 451, 776,\n",
      "                   589, 333,  12, 401,  29, 848, 417, 657, 941, 999, 196,   1, 863, 650,\n",
      "                   389, 376, 990, 855, 154, 239, 641, 162, 440, 163, 316, 746, 247,  41,\n",
      "                   691, 446, 707, 597, 525, 229,  60, 275, 804, 469, 125, 289],\n",
      "                  dtype=torch.int32), tensor([1, 5, 4, 6, 9, 2, 7, 7, 3, 3, 0, 5, 2, 7, 8, 9, 8, 7, 7, 7, 2, 1, 7, 8,\n",
      "                   7, 8, 8, 9, 1, 6, 3, 9, 4, 8, 7, 3, 4, 8, 5, 6, 7, 3, 4, 9, 7, 4, 1, 0,\n",
      "                   4, 6, 5, 1, 3, 1, 8, 0, 3, 9, 3, 6, 4, 0, 6, 0, 6, 9, 2, 2, 1, 4, 7, 5,\n",
      "                   9, 9, 4, 8, 4, 5, 9, 6, 2, 0, 1, 7, 4, 4, 6, 2, 1, 4, 1, 3, 7, 4, 2, 0,\n",
      "                   3, 9, 5, 1, 1, 6, 2, 6, 7, 3, 9, 2, 1, 0, 2, 1, 2, 2, 8, 7, 6, 8, 7, 2,\n",
      "                   1, 5, 4, 5, 7, 2, 8, 4, 7, 7, 7, 8, 7, 8, 3, 7, 0, 2, 9, 4, 8, 3, 0, 8,\n",
      "                   5, 4, 2, 8, 4, 9, 6, 1, 5, 2, 2, 7, 5, 1, 9, 5, 0, 3, 3, 1, 3, 5, 0, 8,\n",
      "                   4, 5, 2, 6, 2, 7, 3, 9, 6, 6, 1, 9, 0, 7, 6, 9, 5, 9, 5, 7, 8, 4, 8, 8,\n",
      "                   4, 3, 0, 1, 9, 9, 3, 3, 5, 5, 1, 7, 5, 1, 2, 9, 5, 3, 6, 4, 9, 7, 9, 5,\n",
      "                   3, 4, 0, 0, 9, 7, 0, 0, 5, 0, 0, 0, 2, 3, 2, 9, 3, 1, 5, 3, 3, 1, 5, 6,\n",
      "                   2, 9, 9, 8, 8, 7, 1, 0, 9, 3, 6, 2, 9, 2, 5, 6, 3, 6, 2, 5, 0, 5, 8, 0,\n",
      "                   1, 9, 0, 8, 1, 1, 5, 5, 0, 4, 7, 3, 0, 0, 2, 0, 1, 2, 6, 9, 2, 1, 2, 5,\n",
      "                   6, 6, 9, 5, 2, 3, 4, 4, 7, 3, 7, 3, 3, 4, 8, 5, 1, 7, 0, 0, 5, 7, 8, 7,\n",
      "                   4, 3, 5, 7, 8, 3, 0, 8, 4, 4, 7, 5, 0, 8, 3, 9, 9, 3, 9, 1, 3, 8, 3, 6,\n",
      "                   3, 6, 5, 0, 4, 5, 3, 9, 9, 8, 4, 0, 7, 0, 9, 5, 0, 6, 2, 5, 0, 5, 3, 5,\n",
      "                   4, 4, 2, 4, 4, 5, 4, 2, 5, 9, 2, 1, 1, 6, 8, 4, 9, 3, 2, 0, 3, 8, 6, 1,\n",
      "                   9, 3, 8, 1, 7, 8, 7, 0, 7, 4, 8, 9, 0, 4, 2, 1, 8, 7, 5, 4, 0, 2, 7, 2,\n",
      "                   2, 2, 8, 9, 0, 7, 6, 5, 2, 8, 0, 5, 3, 5, 0, 9, 7, 5, 9, 8, 1, 9, 4, 5,\n",
      "                   1, 7, 7, 3, 4, 4, 7, 0, 7, 2, 9, 0, 1, 5, 1, 1, 1, 6, 9, 7, 9, 5, 1, 0,\n",
      "                   4, 8, 3, 6, 2, 1, 3, 7, 4, 3, 0, 5, 1, 9, 0, 5, 2, 4, 2, 6, 8, 9, 4, 2,\n",
      "                   6, 0, 8, 0, 7, 4, 3, 3, 8, 1, 6, 9, 6, 1, 6, 7, 1, 5, 4, 9, 4, 4, 9, 7,\n",
      "                   2, 2, 2, 1, 7, 5, 6, 8, 8, 6, 9, 1, 2, 6, 2, 7, 3, 7, 1, 7, 0, 3, 3, 9,\n",
      "                   3, 6, 7, 5, 1, 5, 2, 9, 8, 4, 1, 4, 2, 6, 8, 0, 4, 8, 1, 3, 4, 9, 6, 4,\n",
      "                   8, 8, 1, 8, 9, 9, 4, 3, 1, 9, 2, 3, 0, 4, 7, 5, 0, 2, 4, 7, 1, 0, 9, 2,\n",
      "                   3, 2, 8, 2, 5, 8, 0, 6, 2, 8, 1, 3, 7, 2, 8, 8, 8, 5, 7, 8, 1, 6, 6, 1])),\n",
      "               names=('seed_nodes', 'labels'),\n",
      "           ),\n",
      "           test_set=ItemSet(\n",
      "               items=(tensor([952, 324, 273, 885, 648, 661, 629, 566, 309, 681, 228, 773, 971, 529,\n",
      "                    97, 723, 881, 766,  75, 598, 537, 221,  61, 242, 423, 554, 806, 272,\n",
      "                   334, 468,  23, 966, 544, 211, 693, 140, 606, 765,  44,  49, 603, 611,\n",
      "                   142, 326, 784,  83, 436, 460, 859,  58, 897, 690, 846, 200, 547, 807,\n",
      "                   602, 425, 387,  66, 654, 760, 949, 565, 754,  16, 502,  89, 434, 402,\n",
      "                   580, 850, 291, 342,  51, 479, 879, 899, 263, 227,  59, 179, 371, 811,\n",
      "                   953, 646, 132, 144, 873, 286, 563, 487,  81, 419, 985, 313, 813, 643,\n",
      "                   917, 323, 461, 516,   0, 794, 799, 184, 613, 262, 222, 660, 253, 360,\n",
      "                   840, 340, 626, 929, 238, 177, 757, 694, 568, 531, 400, 915,  69, 572,\n",
      "                   210, 958, 370, 592, 438, 583, 574, 726, 486, 900, 838,  13,  30, 705,\n",
      "                   174, 959, 741, 124, 655, 787, 465, 430, 975, 973, 965, 527, 687, 471,\n",
      "                    86,  68, 368, 359, 593, 939, 149, 508, 652, 936,  92, 633, 232, 875,\n",
      "                   470, 346, 159, 138, 139, 763, 727, 908, 560, 782, 500,  63, 683, 791,\n",
      "                    64, 337, 467, 982, 302, 182, 847, 542, 257, 378, 278, 972, 483, 112,\n",
      "                   893, 673,  74, 931], dtype=torch.int32), tensor([3, 3, 5, 5, 9, 5, 7, 3, 8, 2, 2, 4, 9, 7, 1, 3, 7, 7, 9, 3, 8, 1, 0, 9,\n",
      "                   7, 5, 1, 7, 4, 2, 1, 0, 0, 4, 1, 8, 3, 4, 3, 8, 4, 0, 0, 3, 9, 7, 9, 8,\n",
      "                   7, 2, 3, 9, 0, 3, 3, 6, 9, 7, 0, 1, 2, 3, 3, 2, 4, 6, 7, 2, 7, 2, 6, 2,\n",
      "                   6, 3, 8, 0, 3, 4, 9, 5, 4, 4, 2, 2, 0, 3, 2, 3, 0, 4, 0, 1, 4, 6, 4, 2,\n",
      "                   2, 9, 4, 4, 5, 7, 2, 7, 0, 1, 4, 1, 0, 9, 5, 8, 6, 1, 1, 4, 6, 9, 8, 8,\n",
      "                   1, 7, 2, 8, 1, 7, 7, 9, 9, 5, 0, 5, 1, 7, 0, 4, 8, 9, 8, 3, 1, 3, 4, 5,\n",
      "                   8, 0, 0, 0, 1, 7, 3, 8, 6, 6, 3, 2, 4, 6, 5, 5, 7, 2, 5, 6, 6, 7, 2, 2,\n",
      "                   6, 3, 3, 2, 3, 4, 2, 6, 7, 4, 7, 2, 5, 1, 0, 3, 7, 0, 5, 3, 9, 7, 6, 7,\n",
      "                   1, 9, 4, 4, 9, 6, 4, 6])),\n",
      "               names=('seed_nodes', 'labels'),\n",
      "           ),\n",
      "           metadata={'name': 'node_classification', 'num_classes': 10},)\n",
      "\n",
      "Loaded link prediction task: OnDiskTask(validation_set=ItemSet(\n",
      "               items=(tensor([[767, 555],\n",
      "                   [815, 842],\n",
      "                   [761, 122],\n",
      "                   ...,\n",
      "                   [976, 426],\n",
      "                   [252, 454],\n",
      "                   [570, 154]], dtype=torch.int32), tensor([[863, 697, 533,  ...,  66, 200, 983],\n",
      "                   [241, 673, 303,  ..., 604, 931, 257],\n",
      "                   [688,  40, 194,  ..., 849,  20, 920],\n",
      "                   ...,\n",
      "                   [832,   5,  55,  ...,  99, 366,  42],\n",
      "                   [ 64, 936, 986,  ..., 327, 348, 831],\n",
      "                   [149, 140,  26,  ..., 389, 728, 996]], dtype=torch.int32)),\n",
      "               names=('node_pairs', 'negative_dsts'),\n",
      "           ),\n",
      "           train_set=ItemSet(\n",
      "               items=(tensor([[427, 408],\n",
      "                   [713, 648],\n",
      "                   [431,  42],\n",
      "                   ...,\n",
      "                   [ 75, 238],\n",
      "                   [ 27, 543],\n",
      "                   [475,  70]], dtype=torch.int32),),\n",
      "               names=('node_pairs',),\n",
      "           ),\n",
      "           test_set=ItemSet(\n",
      "               items=(tensor([441, 353], dtype=torch.int32), tensor([[ 40, 707, 140,  ..., 409, 584, 347],\n",
      "                   [323, 603, 990,  ..., 681, 612, 309],\n",
      "                   [208, 483, 218,  ..., 707, 692, 111],\n",
      "                   ...,\n",
      "                   [150, 805,   5,  ..., 987, 643, 895],\n",
      "                   [392, 925, 535,  ..., 573, 524, 792],\n",
      "                   [944, 942, 699,  ..., 653, 979, 136]], dtype=torch.int32)),\n",
      "               names=('node_pairs', 'negative_dsts'),\n",
      "           ),\n",
      "           metadata={'name': 'link_prediction', 'num_classes': 10},)\n",
      "\n"
     ]
    },
    {
     "name": "stderr",
     "output_type": "stream",
     "text": [
      "/home/ubuntu/dgl_doc_dev/dgl/python/dgl/graphbolt/impl/ondisk_dataset.py:464: DGLWarning: Edge feature is stored, but edge IDs are not saved.\n",
      "  dgl_warning(\"Edge feature is stored, but edge IDs are not saved.\")\n"
     ]
    }
   ],
   "source": [
    "dataset = gb.OnDiskDataset(base_dir).load()\n",
    "graph = dataset.graph\n",
    "print(f\"Loaded graph: {graph}\\n\")\n",
    "\n",
    "feature = dataset.feature\n",
    "print(f\"Loaded feature store: {feature}\\n\")\n",
    "\n",
    "tasks = dataset.tasks\n",
    "nc_task = tasks[0]\n",
    "print(f\"Loaded node classification task: {nc_task}\\n\")\n",
    "lp_task = tasks[1]\n",
    "print(f\"Loaded link prediction task: {lp_task}\\n\")"
   ]
  }
 ],
 "metadata": {
  "colab": {
   "private_outputs": true,
   "provenance": []
  },
  "kernelspec": {
   "display_name": "Python 3",
   "name": "python3"
  },
  "language_info": {
   "codemirror_mode": {
    "name": "ipython",
    "version": 3
   },
   "file_extension": ".py",
   "mimetype": "text/x-python",
   "name": "python",
   "nbconvert_exporter": "python",
   "pygments_lexer": "ipython3",
   "version": "3.10.14"
  }
 },
 "nbformat": 4,
 "nbformat_minor": 0
}

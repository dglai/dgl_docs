{
  "cells": [
    {
      "cell_type": "markdown",
      "metadata": {},
      "source": [
        "\n# Single Machine Multi-GPU Minibatch Node Classification\n\nIn this tutorial, you will learn how to use multiple GPUs in training a\ngraph neural network (GNN) for node classification.\n\n(Time estimate: 8 minutes)\n\nThis tutorial assumes that you have read the :doc:`Training GNN with Neighbor\nSampling for Node Classification <../large/L1_large_node_classification>`\ntutorial. It also assumes that you know the basics of training general\nmodels with multi-GPU with ``DistributedDataParallel``.\n\n<div class=\"alert alert-info\"><h4>Note</h4><p>See [this tutorial](https://pytorch.org/tutorials/intermediate/ddp_tutorial.html)_\n   from PyTorch for general multi-GPU training with ``DistributedDataParallel``.  Also,\n   see the first section of :doc:`the multi-GPU graph classification\n   tutorial <1_graph_classification>`\n   for an overview of using ``DistributedDataParallel`` with DGL.</p></div>\n"
      ]
    },
    {
      "cell_type": "markdown",
      "metadata": {},
      "source": [
        "## Loading Dataset\n\nOGB already prepared the data as a ``DGLGraph`` object. The following code is\ncopy-pasted from the :doc:`Training GNN with Neighbor Sampling for Node\nClassification <../large/L1_large_node_classification>`\ntutorial.\n\n\n"
      ]
    },
    {
      "cell_type": "code",
      "execution_count": null,
      "metadata": {
        "collapsed": false
      },
      "outputs": [],
      "source": [
        "import os\n\nos.environ[\"DGLBACKEND\"] = \"pytorch\"\nimport dgl\nimport numpy as np\nimport sklearn.metrics\nimport torch\nimport torch.nn as nn\nimport torch.nn.functional as F\nimport tqdm\nfrom dgl.nn import SAGEConv\nfrom ogb.nodeproppred import DglNodePropPredDataset\n\ndataset = DglNodePropPredDataset(\"ogbn-arxiv\")\n\ngraph, node_labels = dataset[0]\n# Add reverse edges since ogbn-arxiv is unidirectional.\ngraph = dgl.add_reverse_edges(graph)\ngraph.ndata[\"label\"] = node_labels[:, 0]\n\nnode_features = graph.ndata[\"feat\"]\nnum_features = node_features.shape[1]\nnum_classes = (node_labels.max() + 1).item()\n\nidx_split = dataset.get_idx_split()\ntrain_nids = idx_split[\"train\"]\nvalid_nids = idx_split[\"valid\"]\ntest_nids = idx_split[\"test\"]  # Test node IDs, not used in the tutorial though."
      ]
    },
    {
      "cell_type": "markdown",
      "metadata": {},
      "source": [
        "## Defining Model\n\nThe model will be again identical to the :doc:`Training GNN with Neighbor\nSampling for Node Classification <../large/L1_large_node_classification>`\ntutorial.\n\n\n"
      ]
    },
    {
      "cell_type": "code",
      "execution_count": null,
      "metadata": {
        "collapsed": false
      },
      "outputs": [],
      "source": [
        "class Model(nn.Module):\n    def __init__(self, in_feats, h_feats, num_classes):\n        super(Model, self).__init__()\n        self.conv1 = SAGEConv(in_feats, h_feats, aggregator_type=\"mean\")\n        self.conv2 = SAGEConv(h_feats, num_classes, aggregator_type=\"mean\")\n        self.h_feats = h_feats\n\n    def forward(self, mfgs, x):\n        h_dst = x[: mfgs[0].num_dst_nodes()]\n        h = self.conv1(mfgs[0], (x, h_dst))\n        h = F.relu(h)\n        h_dst = h[: mfgs[1].num_dst_nodes()]\n        h = self.conv2(mfgs[1], (h, h_dst))\n        return h"
      ]
    },
    {
      "cell_type": "markdown",
      "metadata": {},
      "source": [
        "## Defining Training Procedure\n\nThe training procedure will be slightly different from what you saw\npreviously, in the sense that you will need to\n\n* Initialize a distributed training context with ``torch.distributed``.\n* Wrap your model with ``torch.nn.parallel.DistributedDataParallel``.\n* Add a ``use_ddp=True`` argument to the DGL dataloader you wish to run\n  together with DDP.\n\nYou will also need to wrap the training loop inside a function so that\nyou can spawn subprocesses to run it.\n\n\n"
      ]
    },
    {
      "cell_type": "code",
      "execution_count": null,
      "metadata": {
        "collapsed": false
      },
      "outputs": [],
      "source": [
        "def run(proc_id, devices):\n    # Initialize distributed training context.\n    dev_id = devices[proc_id]\n    dist_init_method = \"tcp://{master_ip}:{master_port}\".format(\n        master_ip=\"127.0.0.1\", master_port=\"12345\"\n    )\n    if torch.cuda.device_count() < 1:\n        device = torch.device(\"cpu\")\n        torch.distributed.init_process_group(\n            backend=\"gloo\",\n            init_method=dist_init_method,\n            world_size=len(devices),\n            rank=proc_id,\n        )\n    else:\n        torch.cuda.set_device(dev_id)\n        device = torch.device(\"cuda:\" + str(dev_id))\n        torch.distributed.init_process_group(\n            backend=\"nccl\",\n            init_method=dist_init_method,\n            world_size=len(devices),\n            rank=proc_id,\n        )\n\n    # Define training and validation dataloader, copied from the previous tutorial\n    # but with one line of difference: use_ddp to enable distributed data parallel\n    # data loading.\n    sampler = dgl.dataloading.NeighborSampler([4, 4])\n    train_dataloader = dgl.dataloading.DataLoader(\n        # The following arguments are specific to DataLoader.\n        graph,  # The graph\n        train_nids,  # The node IDs to iterate over in minibatches\n        sampler,  # The neighbor sampler\n        device=device,  # Put the sampled MFGs on CPU or GPU\n        use_ddp=True,  # Make it work with distributed data parallel\n        # The following arguments are inherited from PyTorch DataLoader.\n        batch_size=1024,  # Per-device batch size.\n        # The effective batch size is this number times the number of GPUs.\n        shuffle=True,  # Whether to shuffle the nodes for every epoch\n        drop_last=False,  # Whether to drop the last incomplete batch\n        num_workers=0,  # Number of sampler processes\n    )\n    valid_dataloader = dgl.dataloading.DataLoader(\n        graph,\n        valid_nids,\n        sampler,\n        device=device,\n        use_ddp=False,\n        batch_size=1024,\n        shuffle=False,\n        drop_last=False,\n        num_workers=0,\n    )\n\n    model = Model(num_features, 128, num_classes).to(device)\n    # Wrap the model with distributed data parallel module.\n    if device == torch.device(\"cpu\"):\n        model = torch.nn.parallel.DistributedDataParallel(\n            model, device_ids=None, output_device=None\n        )\n    else:\n        model = torch.nn.parallel.DistributedDataParallel(\n            model, device_ids=[device], output_device=device\n        )\n\n    # Define optimizer\n    opt = torch.optim.Adam(model.parameters())\n\n    best_accuracy = 0\n    best_model_path = \"./model.pt\"\n\n    # Copied from previous tutorial with changes highlighted.\n    for epoch in range(10):\n        model.train()\n\n        with tqdm.tqdm(train_dataloader) as tq:\n            for step, (input_nodes, output_nodes, mfgs) in enumerate(tq):\n                # feature copy from CPU to GPU takes place here\n                inputs = mfgs[0].srcdata[\"feat\"]\n                labels = mfgs[-1].dstdata[\"label\"]\n\n                predictions = model(mfgs, inputs)\n\n                loss = F.cross_entropy(predictions, labels)\n                opt.zero_grad()\n                loss.backward()\n                opt.step()\n\n                accuracy = sklearn.metrics.accuracy_score(\n                    labels.cpu().numpy(),\n                    predictions.argmax(1).detach().cpu().numpy(),\n                )\n\n                tq.set_postfix(\n                    {\"loss\": \"%.03f\" % loss.item(), \"acc\": \"%.03f\" % accuracy},\n                    refresh=False,\n                )\n\n        model.eval()\n\n        # Evaluate on only the first GPU.\n        if proc_id == 0:\n            predictions = []\n            labels = []\n            with tqdm.tqdm(valid_dataloader) as tq, torch.no_grad():\n                for input_nodes, output_nodes, mfgs in tq:\n                    inputs = mfgs[0].srcdata[\"feat\"]\n                    labels.append(mfgs[-1].dstdata[\"label\"].cpu().numpy())\n                    predictions.append(\n                        model(mfgs, inputs).argmax(1).cpu().numpy()\n                    )\n                predictions = np.concatenate(predictions)\n                labels = np.concatenate(labels)\n                accuracy = sklearn.metrics.accuracy_score(labels, predictions)\n                print(\"Epoch {} Validation Accuracy {}\".format(epoch, accuracy))\n                if best_accuracy < accuracy:\n                    best_accuracy = accuracy\n                    torch.save(model.state_dict(), best_model_path)\n\n        # Note that this tutorial does not train the whole model to the end.\n        break"
      ]
    },
    {
      "cell_type": "markdown",
      "metadata": {},
      "source": [
        "## Spawning Trainer Processes\n\nA typical scenario for multi-GPU training with DDP is to replicate the\nmodel once per GPU, and spawn one trainer process per GPU.\n\nNormally, DGL maintains only one sparse matrix representation (usually COO)\nfor each graph, and will create new formats when some APIs are called for\nefficiency.  For instance, calling ``in_degrees`` will create a CSC\nrepresentation for the graph, and calling ``out_degrees`` will create a\nCSR representation.  A consequence is that if a graph is shared to\ntrainer processes via copy-on-write *before* having its CSC/CSR\ncreated, each trainer will create its own CSC/CSR replica once ``in_degrees``\nor ``out_degrees`` is called.  To avoid this, you need to create\nall sparse matrix representations beforehand using the ``create_formats_``\nmethod:\n\n\n"
      ]
    },
    {
      "cell_type": "code",
      "execution_count": null,
      "metadata": {
        "collapsed": false
      },
      "outputs": [],
      "source": [
        "graph.create_formats_()"
      ]
    },
    {
      "cell_type": "markdown",
      "metadata": {},
      "source": [
        "Then you can spawn the subprocesses to train with multiple GPUs.\n\n\n.. code:: python\n\n   # Say you have four GPUs.\n   if __name__ == '__main__':\n       num_gpus = 4\n       import torch.multiprocessing as mp\n       mp.spawn(run, args=(list(range(num_gpus)),), nprocs=num_gpus)\n\n"
      ]
    },
    {
      "cell_type": "code",
      "execution_count": null,
      "metadata": {
        "collapsed": false
      },
      "outputs": [],
      "source": [
        "# Thumbnail credits: Stanford CS224W Notes\n# sphinx_gallery_thumbnail_path = '_static/blitz_1_introduction.png'"
      ]
    }
  ],
  "metadata": {
    "kernelspec": {
      "display_name": "Python 3",
      "language": "python",
      "name": "python3"
    },
    "language_info": {
      "codemirror_mode": {
        "name": "ipython",
        "version": 3
      },
      "file_extension": ".py",
      "mimetype": "text/x-python",
      "name": "python",
      "nbconvert_exporter": "python",
      "pygments_lexer": "ipython3",
      "version": "3.10.14"
    }
  },
  "nbformat": 4,
  "nbformat_minor": 0
}
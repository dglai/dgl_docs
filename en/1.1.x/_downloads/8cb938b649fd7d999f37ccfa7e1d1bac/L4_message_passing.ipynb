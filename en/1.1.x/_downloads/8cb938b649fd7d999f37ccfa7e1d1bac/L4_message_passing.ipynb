{
  "cells": [
    {
      "cell_type": "markdown",
      "metadata": {},
      "source": [
        "\n# Writing GNN Modules for Stochastic GNN Training\n\nAll GNN modules DGL provides support stochastic GNN training. This\ntutorial teaches you how to write your own graph neural network module\nfor stochastic GNN training. It assumes that\n\n1. You know :doc:`how to write GNN modules for full graph\n   training <../blitz/3_message_passing>`.\n2. You know :doc:`how stochastic GNN training pipeline\n   works <L1_large_node_classification>`.\n"
      ]
    },
    {
      "cell_type": "code",
      "execution_count": null,
      "metadata": {
        "collapsed": false
      },
      "outputs": [],
      "source": [
        "import os\n\nos.environ[\"DGLBACKEND\"] = \"pytorch\"\nimport dgl\nimport numpy as np\nimport torch\nfrom ogb.nodeproppred import DglNodePropPredDataset\n\ndataset = DglNodePropPredDataset(\"ogbn-arxiv\")\ndevice = \"cpu\"  # change to 'cuda' for GPU\n\ngraph, node_labels = dataset[0]\n# Add reverse edges since ogbn-arxiv is unidirectional.\ngraph = dgl.add_reverse_edges(graph)\ngraph.ndata[\"label\"] = node_labels[:, 0]\nidx_split = dataset.get_idx_split()\ntrain_nids = idx_split[\"train\"]\nnode_features = graph.ndata[\"feat\"]\n\nsampler = dgl.dataloading.MultiLayerNeighborSampler([4, 4])\ntrain_dataloader = dgl.dataloading.DataLoader(\n    graph,\n    train_nids,\n    sampler,\n    batch_size=1024,\n    shuffle=True,\n    drop_last=False,\n    num_workers=0,\n)\n\ninput_nodes, output_nodes, mfgs = next(iter(train_dataloader))"
      ]
    },
    {
      "cell_type": "markdown",
      "metadata": {},
      "source": [
        "## DGL Bipartite Graph Introduction\n\nIn the previous tutorials, you have seen the concept *message flow graph*\n(MFG), where nodes are divided into two parts.  It is a kind of (directional)\nbipartite graph.\nThis section introduces how you can manipulate (directional) bipartite\ngraphs.\n\nYou can access the source node features and destination node features via\n``srcdata`` and ``dstdata`` attributes:\n\n\n"
      ]
    },
    {
      "cell_type": "code",
      "execution_count": null,
      "metadata": {
        "collapsed": false
      },
      "outputs": [],
      "source": [
        "mfg = mfgs[0]\nprint(mfg.srcdata)\nprint(mfg.dstdata)"
      ]
    },
    {
      "cell_type": "markdown",
      "metadata": {},
      "source": [
        "It also has ``num_src_nodes`` and ``num_dst_nodes`` functions to query\nhow many source nodes and destination nodes exist in the bipartite graph:\n\n\n"
      ]
    },
    {
      "cell_type": "code",
      "execution_count": null,
      "metadata": {
        "collapsed": false
      },
      "outputs": [],
      "source": [
        "print(mfg.num_src_nodes(), mfg.num_dst_nodes())"
      ]
    },
    {
      "cell_type": "markdown",
      "metadata": {},
      "source": [
        "You can assign features to ``srcdata`` and ``dstdata`` just as what you\nwill do with ``ndata`` on the graphs you have seen earlier:\n\n\n"
      ]
    },
    {
      "cell_type": "code",
      "execution_count": null,
      "metadata": {
        "collapsed": false
      },
      "outputs": [],
      "source": [
        "mfg.srcdata[\"x\"] = torch.zeros(mfg.num_src_nodes(), mfg.num_dst_nodes())\ndst_feat = mfg.dstdata[\"feat\"]"
      ]
    },
    {
      "cell_type": "markdown",
      "metadata": {},
      "source": [
        "Also, since the bipartite graphs are constructed by DGL, you can\nretrieve the source node IDs (i.e.\u00a0those that are required to compute the\noutput) and destination node IDs (i.e.\u00a0those whose representations the\ncurrent GNN layer should compute) as follows.\n\n\n"
      ]
    },
    {
      "cell_type": "code",
      "execution_count": null,
      "metadata": {
        "collapsed": false
      },
      "outputs": [],
      "source": [
        "mfg.srcdata[dgl.NID], mfg.dstdata[dgl.NID]"
      ]
    },
    {
      "cell_type": "markdown",
      "metadata": {},
      "source": [
        "## Writing GNN Modules for Bipartite Graphs for Stochastic Training\n\n\n"
      ]
    },
    {
      "cell_type": "markdown",
      "metadata": {},
      "source": [
        "Recall that the MFGs yielded by the ``DataLoader``\nhave the property that the first few source nodes are\nalways identical to the destination nodes:\n\n|image1|\n\n.. |image1| image:: https://data.dgl.ai/tutorial/img/bipartite.gif\n\n\n"
      ]
    },
    {
      "cell_type": "code",
      "execution_count": null,
      "metadata": {
        "collapsed": false
      },
      "outputs": [],
      "source": [
        "print(\n    torch.equal(\n        mfg.srcdata[dgl.NID][: mfg.num_dst_nodes()], mfg.dstdata[dgl.NID]\n    )\n)"
      ]
    },
    {
      "cell_type": "markdown",
      "metadata": {},
      "source": [
        "Suppose you have obtained the source node representations\n$h_u^{(l-1)}$:\n\n\n"
      ]
    },
    {
      "cell_type": "code",
      "execution_count": null,
      "metadata": {
        "collapsed": false
      },
      "outputs": [],
      "source": [
        "mfg.srcdata[\"h\"] = torch.randn(mfg.num_src_nodes(), 10)"
      ]
    },
    {
      "cell_type": "markdown",
      "metadata": {},
      "source": [
        "Recall that DGL provides the `update_all` interface for expressing how\nto compute messages and how to aggregate them on the nodes that receive\nthem. This concept naturally applies to bipartite graphs like MFGs -- message\ncomputation happens on the edges between source and destination nodes of\nthe edges, and message aggregation happens on the destination nodes.\n\nFor example, suppose the message function copies the source feature\n(i.e.\u00a0$M^{(l)}\\left(h_v^{(l-1)}, h_u^{(l-1)}, e_{u\\to v}^{(l-1)}\\right) = h_v^{(l-1)}$),\nand the reduce function averages the received messages.  Performing\nsuch message passing computation on a bipartite graph is no different than\non a full graph:\n\n\n"
      ]
    },
    {
      "cell_type": "code",
      "execution_count": null,
      "metadata": {
        "collapsed": false
      },
      "outputs": [],
      "source": [
        "import dgl.function as fn\n\nmfg.update_all(message_func=fn.copy_u(\"h\", \"m\"), reduce_func=fn.mean(\"m\", \"h\"))\nm_v = mfg.dstdata[\"h\"]\nm_v"
      ]
    },
    {
      "cell_type": "markdown",
      "metadata": {},
      "source": [
        "Putting them together, you can implement a GraphSAGE convolution for\ntraining with neighbor sampling as follows (the differences to the :doc:`full graph\ncounterpart <../blitz/3_message_passing>` are highlighted with arrows ``<---``)\n\n\n"
      ]
    },
    {
      "cell_type": "code",
      "execution_count": null,
      "metadata": {
        "collapsed": false
      },
      "outputs": [],
      "source": [
        "import torch.nn as nn\nimport torch.nn.functional as F\nimport tqdm\n\n\nclass SAGEConv(nn.Module):\n    \"\"\"Graph convolution module used by the GraphSAGE model.\n\n    Parameters\n    ----------\n    in_feat : int\n        Input feature size.\n    out_feat : int\n        Output feature size.\n    \"\"\"\n\n    def __init__(self, in_feat, out_feat):\n        super(SAGEConv, self).__init__()\n        # A linear submodule for projecting the input and neighbor feature to the output.\n        self.linear = nn.Linear(in_feat * 2, out_feat)\n\n    def forward(self, g, h):\n        \"\"\"Forward computation\n\n        Parameters\n        ----------\n        g : Graph\n            The input MFG.\n        h : (Tensor, Tensor)\n            The feature of source nodes and destination nodes as a pair of Tensors.\n        \"\"\"\n        with g.local_scope():\n            h_src, h_dst = h\n            g.srcdata[\"h\"] = h_src  # <---\n            g.dstdata[\"h\"] = h_dst  # <---\n            # update_all is a message passing API.\n            g.update_all(fn.copy_u(\"h\", \"m\"), fn.mean(\"m\", \"h_N\"))\n            h_N = g.dstdata[\"h_N\"]\n            h_total = torch.cat([h_dst, h_N], dim=1)  # <---\n            return self.linear(h_total)\n\n\nclass Model(nn.Module):\n    def __init__(self, in_feats, h_feats, num_classes):\n        super(Model, self).__init__()\n        self.conv1 = SAGEConv(in_feats, h_feats)\n        self.conv2 = SAGEConv(h_feats, num_classes)\n\n    def forward(self, mfgs, x):\n        h_dst = x[: mfgs[0].num_dst_nodes()]\n        h = self.conv1(mfgs[0], (x, h_dst))\n        h = F.relu(h)\n        h_dst = h[: mfgs[1].num_dst_nodes()]\n        h = self.conv2(mfgs[1], (h, h_dst))\n        return h\n\n\nsampler = dgl.dataloading.MultiLayerNeighborSampler([4, 4])\ntrain_dataloader = dgl.dataloading.DataLoader(\n    graph,\n    train_nids,\n    sampler,\n    device=device,\n    batch_size=1024,\n    shuffle=True,\n    drop_last=False,\n    num_workers=0,\n)\nmodel = Model(graph.ndata[\"feat\"].shape[1], 128, dataset.num_classes).to(device)\n\nwith tqdm.tqdm(train_dataloader) as tq:\n    for step, (input_nodes, output_nodes, mfgs) in enumerate(tq):\n        inputs = mfgs[0].srcdata[\"feat\"]\n        labels = mfgs[-1].dstdata[\"label\"]\n        predictions = model(mfgs, inputs)"
      ]
    },
    {
      "cell_type": "markdown",
      "metadata": {},
      "source": [
        "Both ``update_all`` and the functions in ``nn.functional`` namespace\nsupport MFGs, so you can migrate the code working for small\ngraphs to large graph training with minimal changes introduced above.\n\n\n"
      ]
    },
    {
      "cell_type": "markdown",
      "metadata": {},
      "source": [
        "## Writing GNN Modules for Both Full-graph Training and Stochastic Training\n\nHere is a step-by-step tutorial for writing a GNN module for both\n:doc:`full-graph training <../blitz/1_introduction>` *and* :doc:`stochastic\ntraining <L1_large_node_classification>`.\n\nSay you start with a GNN module that works for full-graph training only:\n\n\n"
      ]
    },
    {
      "cell_type": "code",
      "execution_count": null,
      "metadata": {
        "collapsed": false
      },
      "outputs": [],
      "source": [
        "class SAGEConv(nn.Module):\n    \"\"\"Graph convolution module used by the GraphSAGE model.\n\n    Parameters\n    ----------\n    in_feat : int\n        Input feature size.\n    out_feat : int\n        Output feature size.\n    \"\"\"\n\n    def __init__(self, in_feat, out_feat):\n        super().__init__()\n        # A linear submodule for projecting the input and neighbor feature to the output.\n        self.linear = nn.Linear(in_feat * 2, out_feat)\n\n    def forward(self, g, h):\n        \"\"\"Forward computation\n\n        Parameters\n        ----------\n        g : Graph\n            The input graph.\n        h : Tensor\n            The input node feature.\n        \"\"\"\n        with g.local_scope():\n            g.ndata[\"h\"] = h\n            # update_all is a message passing API.\n            g.update_all(\n                message_func=fn.copy_u(\"h\", \"m\"),\n                reduce_func=fn.mean(\"m\", \"h_N\"),\n            )\n            h_N = g.ndata[\"h_N\"]\n            h_total = torch.cat([h, h_N], dim=1)\n            return self.linear(h_total)"
      ]
    },
    {
      "cell_type": "markdown",
      "metadata": {},
      "source": [
        "**First step**: Check whether the input feature is a single tensor or a\npair of tensors:\n\n.. code:: python\n\n   if isinstance(h, tuple):\n       h_src, h_dst = h\n   else:\n       h_src = h_dst = h\n\n**Second step**: Replace node features ``h`` with ``h_src`` or\n``h_dst``, and assign the node features to ``srcdata`` or ``dstdata``,\ninstead of ``ndata``.\n\nWhether to assign to ``srcdata`` or ``dstdata`` depends on whether the\nsaid feature acts as the features on source nodes or destination nodes\nof the edges in the message functions (in ``update_all`` or\n``apply_edges``).\n\n*Example 1*: For the following ``update_all`` statement:\n\n.. code:: python\n\n   g.ndata['h'] = h\n   g.update_all(message_func=fn.copy_u('h', 'm'), reduce_func=fn.mean('m', 'h_N'))\n\nThe node feature ``h`` acts as source node feature because ``'h'``\nappeared as source node feature. So you will need to replace ``h`` with\nsource feature ``h_src`` and assign to ``srcdata`` for the version that\nworks with both cases:\n\n.. code:: python\n\n   g.srcdata['h'] = h_src\n   g.update_all(message_func=fn.copy_u('h', 'm'), reduce_func=fn.mean('m', 'h_N'))\n\n*Example 2*: For the following ``apply_edges`` statement:\n\n.. code:: python\n\n   g.ndata['h'] = h\n   g.apply_edges(fn.u_dot_v('h', 'h', 'score'))\n\nThe node feature ``h`` acts as both source node feature and destination\nnode feature. So you will assign ``h_src`` to ``srcdata`` and ``h_dst``\nto ``dstdata``:\n\n.. code:: python\n\n   g.srcdata['h'] = h_src\n   g.dstdata['h'] = h_dst\n   # The first 'h' corresponds to source feature (u) while the second 'h' corresponds to destination feature (v).\n   g.apply_edges(fn.u_dot_v('h', 'h', 'score'))\n\n<div class=\"alert alert-info\"><h4>Note</h4><p>For homogeneous graphs (i.e.\u00a0graphs with only one node type\n   and one edge type), ``srcdata`` and ``dstdata`` are aliases of\n   ``ndata``. So you can safely replace ``ndata`` with ``srcdata`` and\n   ``dstdata`` even for full-graph training.</p></div>\n\n**Third step**: Replace the ``ndata`` for outputs with ``dstdata``.\n\nFor example, the following code\n\n.. code:: python\n\n   # Assume that update_all() function has been called with output node features in `h_N`.\n   h_N = g.ndata['h_N']\n   h_total = torch.cat([h, h_N], dim=1)\n\nwill change to\n\n.. code:: python\n\n   h_N = g.dstdata['h_N']\n   h_total = torch.cat([h_dst, h_N], dim=1)\n\n\n"
      ]
    },
    {
      "cell_type": "markdown",
      "metadata": {},
      "source": [
        "Putting together, you will change the ``SAGEConvForBoth`` module above\nto something like the following:\n\n\n"
      ]
    },
    {
      "cell_type": "code",
      "execution_count": null,
      "metadata": {
        "collapsed": false
      },
      "outputs": [],
      "source": [
        "class SAGEConvForBoth(nn.Module):\n    \"\"\"Graph convolution module used by the GraphSAGE model.\n\n    Parameters\n    ----------\n    in_feat : int\n        Input feature size.\n    out_feat : int\n        Output feature size.\n    \"\"\"\n\n    def __init__(self, in_feat, out_feat):\n        super().__init__()\n        # A linear submodule for projecting the input and neighbor feature to the output.\n        self.linear = nn.Linear(in_feat * 2, out_feat)\n\n    def forward(self, g, h):\n        \"\"\"Forward computation\n\n        Parameters\n        ----------\n        g : Graph\n            The input graph.\n        h : Tensor or tuple[Tensor, Tensor]\n            The input node feature.\n        \"\"\"\n        with g.local_scope():\n            if isinstance(h, tuple):\n                h_src, h_dst = h\n            else:\n                h_src = h_dst = h\n\n            g.srcdata[\"h\"] = h_src\n            # update_all is a message passing API.\n            g.update_all(\n                message_func=fn.copy_u(\"h\", \"m\"),\n                reduce_func=fn.mean(\"m\", \"h_N\"),\n            )\n            h_N = g.ndata[\"h_N\"]\n            h_total = torch.cat([h_dst, h_N], dim=1)\n            return self.linear(h_total)\n\n\n# Thumbnail credits: Representation Learning on Networks, Jure Leskovec, WWW 2018\n# sphinx_gallery_thumbnail_path = '_static/blitz_3_message_passing.png'"
      ]
    }
  ],
  "metadata": {
    "kernelspec": {
      "display_name": "Python 3",
      "language": "python",
      "name": "python3"
    },
    "language_info": {
      "codemirror_mode": {
        "name": "ipython",
        "version": 3
      },
      "file_extension": ".py",
      "mimetype": "text/x-python",
      "name": "python",
      "nbconvert_exporter": "python",
      "pygments_lexer": "ipython3",
      "version": "3.10.14"
    }
  },
  "nbformat": 4,
  "nbformat_minor": 0
}
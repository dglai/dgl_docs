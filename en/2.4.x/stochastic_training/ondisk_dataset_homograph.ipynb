{
 "cells": [
  {
   "cell_type": "markdown",
   "metadata": {
    "id": "FnFhPMaAfLtJ"
   },
   "source": [
    "# OnDiskDataset for Homogeneous Graph\n",
    "\n",
    "[![Open In Colab](https://colab.research.google.com/assets/colab-badge.svg)](https://colab.research.google.com/github/dmlc/dgl/blob/master/notebooks/stochastic_training/ondisk_dataset_homograph.ipynb) [![GitHub](https://img.shields.io/badge/-View%20on%20GitHub-181717?logo=github&logoColor=ffffff)](https://github.com/dmlc/dgl/blob/master/notebooks/stochastic_training/ondisk_dataset_homograph.ipynb)\n",
    "\n",
    "This tutorial shows how to create `OnDiskDataset` for homogeneous graph that could be used in **GraphBolt** framework.\n",
    "\n",
    "By the end of this tutorial, you will be able to\n",
    "\n",
    "- organize graph structure data.\n",
    "- organize feature data.\n",
    "- organize training/validation/test set for specific tasks.\n",
    "\n",
    "To create an ``OnDiskDataset`` object, you need to organize all the data including graph structure, feature data and tasks into a directory. The directory should contain a ``metadata.yaml`` file that describes the metadata of the dataset.\n",
    "\n",
    "Now let's generate various data step by step and organize them together to instantiate `OnDiskDataset` finally."
   ]
  },
  {
   "cell_type": "markdown",
   "metadata": {
    "id": "Wlb19DtWgtzq"
   },
   "source": [
    "## Install DGL package"
   ]
  },
  {
   "cell_type": "code",
   "execution_count": 1,
   "metadata": {
    "execution": {
     "iopub.execute_input": "2024-09-18T06:59:58.519342Z",
     "iopub.status.busy": "2024-09-18T06:59:58.519043Z",
     "iopub.status.idle": "2024-09-18T07:00:02.349160Z",
     "shell.execute_reply": "2024-09-18T07:00:02.348406Z"
    },
    "id": "UojlT9ZGgyr9"
   },
   "outputs": [
    {
     "name": "stdout",
     "output_type": "stream",
     "text": [
      "Looking in links: https://data.dgl.ai/wheels-test/repo.html\r\n",
      "Requirement already satisfied: dgl in /opt/conda/envs/dgl-dev-cpu/lib/python3.10/site-packages (2.2a240410)\r\n",
      "Requirement already satisfied: numpy>=1.14.0 in /opt/conda/envs/dgl-dev-cpu/lib/python3.10/site-packages (from dgl) (1.26.4)\r\n",
      "Requirement already satisfied: scipy>=1.1.0 in /opt/conda/envs/dgl-dev-cpu/lib/python3.10/site-packages (from dgl) (1.14.0)\r\n",
      "Requirement already satisfied: networkx>=2.1 in /opt/conda/envs/dgl-dev-cpu/lib/python3.10/site-packages (from dgl) (3.3)\r\n",
      "Requirement already satisfied: requests>=2.19.0 in /opt/conda/envs/dgl-dev-cpu/lib/python3.10/site-packages (from dgl) (2.32.3)\r\n",
      "Requirement already satisfied: tqdm in /opt/conda/envs/dgl-dev-cpu/lib/python3.10/site-packages (from dgl) (4.66.5)\r\n",
      "Requirement already satisfied: psutil>=5.8.0 in /opt/conda/envs/dgl-dev-cpu/lib/python3.10/site-packages (from dgl) (6.0.0)\r\n",
      "Requirement already satisfied: torchdata>=0.5.0 in /opt/conda/envs/dgl-dev-cpu/lib/python3.10/site-packages (from dgl) (0.7.1)\r\n",
      "Requirement already satisfied: pandas in /opt/conda/envs/dgl-dev-cpu/lib/python3.10/site-packages (from dgl) (2.2.2)\r\n"
     ]
    },
    {
     "name": "stdout",
     "output_type": "stream",
     "text": [
      "Requirement already satisfied: charset-normalizer<4,>=2 in /opt/conda/envs/dgl-dev-cpu/lib/python3.10/site-packages (from requests>=2.19.0->dgl) (3.3.2)\r\n",
      "Requirement already satisfied: idna<4,>=2.5 in /opt/conda/envs/dgl-dev-cpu/lib/python3.10/site-packages (from requests>=2.19.0->dgl) (3.8)\r\n",
      "Requirement already satisfied: urllib3<3,>=1.21.1 in /opt/conda/envs/dgl-dev-cpu/lib/python3.10/site-packages (from requests>=2.19.0->dgl) (2.2.2)\r\n",
      "Requirement already satisfied: certifi>=2017.4.17 in /opt/conda/envs/dgl-dev-cpu/lib/python3.10/site-packages (from requests>=2.19.0->dgl) (2024.7.4)\r\n",
      "Requirement already satisfied: torch>=2 in /opt/conda/envs/dgl-dev-cpu/lib/python3.10/site-packages (from torchdata>=0.5.0->dgl) (2.4.0+cpu)\r\n"
     ]
    },
    {
     "name": "stdout",
     "output_type": "stream",
     "text": [
      "Requirement already satisfied: python-dateutil>=2.8.2 in /opt/conda/envs/dgl-dev-cpu/lib/python3.10/site-packages (from pandas->dgl) (2.9.0.post0)\r\n",
      "Requirement already satisfied: pytz>=2020.1 in /opt/conda/envs/dgl-dev-cpu/lib/python3.10/site-packages (from pandas->dgl) (2024.1)\r\n",
      "Requirement already satisfied: tzdata>=2022.7 in /opt/conda/envs/dgl-dev-cpu/lib/python3.10/site-packages (from pandas->dgl) (2024.1)\r\n",
      "Requirement already satisfied: six>=1.5 in /opt/conda/envs/dgl-dev-cpu/lib/python3.10/site-packages (from python-dateutil>=2.8.2->pandas->dgl) (1.16.0)\r\n",
      "Requirement already satisfied: filelock in /opt/conda/envs/dgl-dev-cpu/lib/python3.10/site-packages (from torch>=2->torchdata>=0.5.0->dgl) (3.15.4)\r\n",
      "Requirement already satisfied: typing-extensions>=4.8.0 in /opt/conda/envs/dgl-dev-cpu/lib/python3.10/site-packages (from torch>=2->torchdata>=0.5.0->dgl) (4.12.2)\r\n",
      "Requirement already satisfied: sympy in /opt/conda/envs/dgl-dev-cpu/lib/python3.10/site-packages (from torch>=2->torchdata>=0.5.0->dgl) (1.13.2)\r\n",
      "Requirement already satisfied: jinja2 in /opt/conda/envs/dgl-dev-cpu/lib/python3.10/site-packages (from torch>=2->torchdata>=0.5.0->dgl) (3.1.4)\r\n",
      "Requirement already satisfied: fsspec in /opt/conda/envs/dgl-dev-cpu/lib/python3.10/site-packages (from torch>=2->torchdata>=0.5.0->dgl) (2024.6.1)\r\n"
     ]
    },
    {
     "name": "stdout",
     "output_type": "stream",
     "text": [
      "Requirement already satisfied: MarkupSafe>=2.0 in /opt/conda/envs/dgl-dev-cpu/lib/python3.10/site-packages (from jinja2->torch>=2->torchdata>=0.5.0->dgl) (2.1.5)\r\n",
      "Requirement already satisfied: mpmath<1.4,>=1.1.0 in /opt/conda/envs/dgl-dev-cpu/lib/python3.10/site-packages (from sympy->torch>=2->torchdata>=0.5.0->dgl) (1.3.0)\r\n"
     ]
    },
    {
     "name": "stdout",
     "output_type": "stream",
     "text": [
      "DGL installed!\n"
     ]
    }
   ],
   "source": [
    "# Install required packages.\n",
    "import os\n",
    "import torch\n",
    "import numpy as np\n",
    "os.environ['TORCH'] = torch.__version__\n",
    "os.environ['DGLBACKEND'] = \"pytorch\"\n",
    "\n",
    "# Install the CPU version.\n",
    "device = torch.device(\"cpu\")\n",
    "!pip install --pre dgl -f https://data.dgl.ai/wheels-test/repo.html\n",
    "\n",
    "try:\n",
    "    import dgl\n",
    "    import dgl.graphbolt as gb\n",
    "    installed = True\n",
    "except ImportError as error:\n",
    "    installed = False\n",
    "    print(error)\n",
    "print(\"DGL installed!\" if installed else \"DGL not found!\")"
   ]
  },
  {
   "cell_type": "markdown",
   "metadata": {
    "id": "2R7WnSbjsfbr"
   },
   "source": [
    "## Data preparation\n",
    "In order to demonstrate how to organize various data, let's create a base directory first."
   ]
  },
  {
   "cell_type": "code",
   "execution_count": 2,
   "metadata": {
    "execution": {
     "iopub.execute_input": "2024-09-18T07:00:02.352220Z",
     "iopub.status.busy": "2024-09-18T07:00:02.351777Z",
     "iopub.status.idle": "2024-09-18T07:00:02.355738Z",
     "shell.execute_reply": "2024-09-18T07:00:02.355118Z"
    },
    "id": "SZipbzyltLfO"
   },
   "outputs": [
    {
     "name": "stdout",
     "output_type": "stream",
     "text": [
      "Created base directory: ./ondisk_dataset_homograph\n"
     ]
    }
   ],
   "source": [
    "base_dir = './ondisk_dataset_homograph'\n",
    "os.makedirs(base_dir, exist_ok=True)\n",
    "print(f\"Created base directory: {base_dir}\")"
   ]
  },
  {
   "cell_type": "markdown",
   "metadata": {
    "id": "qhNtIn_xhlnl"
   },
   "source": [
    "### Generate graph structure data\n",
    "For homogeneous graph, we just need to save edges(namely seeds) into  **Numpy** or **CSV** file.\n",
    "\n",
    "Note:\n",
    "- when saving to **Numpy**, the array requires to be in shape of `(2, N)`. This format is recommended as constructing graph from it is much faster than **CSV** file.\n",
    "- when saving to **CSV** file, do not save index and header.\n"
   ]
  },
  {
   "cell_type": "code",
   "execution_count": 3,
   "metadata": {
    "execution": {
     "iopub.execute_input": "2024-09-18T07:00:02.358307Z",
     "iopub.status.busy": "2024-09-18T07:00:02.357986Z",
     "iopub.status.idle": "2024-09-18T07:00:02.370464Z",
     "shell.execute_reply": "2024-09-18T07:00:02.369859Z"
    },
    "id": "HcBt4G5BmSjr"
   },
   "outputs": [
    {
     "name": "stdout",
     "output_type": "stream",
     "text": [
      "Part of edges: [[674 810]\n",
      " [ 48   7]\n",
      " [  5 149]\n",
      " [909 372]\n",
      " [187 751]]\n",
      "Edges are saved into ./ondisk_dataset_homograph/edges.csv\n"
     ]
    }
   ],
   "source": [
    "import numpy as np\n",
    "import pandas as pd\n",
    "num_nodes = 1000\n",
    "num_edges = 10 * num_nodes\n",
    "edges_path = os.path.join(base_dir, \"edges.csv\")\n",
    "edges = np.random.randint(0, num_nodes, size=(num_edges, 2))\n",
    "\n",
    "print(f\"Part of edges: {edges[:5, :]}\")\n",
    "\n",
    "df = pd.DataFrame(edges)\n",
    "df.to_csv(edges_path, index=False, header=False)\n",
    "\n",
    "print(f\"Edges are saved into {edges_path}\")"
   ]
  },
  {
   "cell_type": "markdown",
   "metadata": {
    "id": "kh-4cPtzpcaH"
   },
   "source": [
    "### Generate feature data for graph\n",
    "For feature data, numpy arrays and torch tensors are supported for now."
   ]
  },
  {
   "cell_type": "code",
   "execution_count": 4,
   "metadata": {
    "execution": {
     "iopub.execute_input": "2024-09-18T07:00:02.373045Z",
     "iopub.status.busy": "2024-09-18T07:00:02.372728Z",
     "iopub.status.idle": "2024-09-18T07:00:02.402486Z",
     "shell.execute_reply": "2024-09-18T07:00:02.401905Z"
    },
    "id": "_PVu1u5brBhF"
   },
   "outputs": [
    {
     "name": "stdout",
     "output_type": "stream",
     "text": [
      "Part of node feature [feat_0]: [[0.58769797 0.90337391 0.83292233 0.4429168  0.01277373]\n",
      " [0.37158421 0.46878273 0.88898788 0.11987704 0.05788049]\n",
      " [0.58668075 0.47186665 0.94884345 0.44725216 0.39483588]]\n",
      "Node feature [feat_0] is saved to ./ondisk_dataset_homograph/node-feat-0.npy\n",
      "\n",
      "Part of node feature [feat_1]: tensor([[0.3209, 0.5751, 0.9814, 0.6187, 0.3592],\n",
      "        [0.8076, 0.8752, 0.6121, 0.2083, 0.5343],\n",
      "        [0.3172, 0.5386, 0.2057, 0.6664, 0.8110]])\n",
      "Node feature [feat_1] is saved to ./ondisk_dataset_homograph/node-feat-1.pt\n",
      "\n",
      "Part of edge feature [feat_0]: [[0.90336045 0.62468101 0.37494881 0.96552915 0.13513156]\n",
      " [0.86781039 0.88588042 0.17015619 0.25623305 0.05788807]\n",
      " [0.91402307 0.59504527 0.45145836 0.90611971 0.06621742]]\n",
      "Edge feature [feat_0] is saved to ./ondisk_dataset_homograph/edge-feat-0.npy\n",
      "\n",
      "Part of edge feature [feat_1]: tensor([[0.5078, 0.7624, 0.0523, 0.4359, 0.7587],\n",
      "        [0.0874, 0.2759, 0.9075, 0.8436, 0.1127],\n",
      "        [0.9801, 0.1713, 0.7416, 0.2183, 0.3129]])\n",
      "Edge feature [feat_1] is saved to ./ondisk_dataset_homograph/edge-feat-1.pt\n",
      "\n"
     ]
    }
   ],
   "source": [
    "# Generate node feature in numpy array.\n",
    "node_feat_0_path = os.path.join(base_dir, \"node-feat-0.npy\")\n",
    "node_feat_0 = np.random.rand(num_nodes, 5)\n",
    "print(f\"Part of node feature [feat_0]: {node_feat_0[:3, :]}\")\n",
    "np.save(node_feat_0_path, node_feat_0)\n",
    "print(f\"Node feature [feat_0] is saved to {node_feat_0_path}\\n\")\n",
    "\n",
    "# Generate another node feature in torch tensor\n",
    "node_feat_1_path = os.path.join(base_dir, \"node-feat-1.pt\")\n",
    "node_feat_1 = torch.rand(num_nodes, 5)\n",
    "print(f\"Part of node feature [feat_1]: {node_feat_1[:3, :]}\")\n",
    "torch.save(node_feat_1, node_feat_1_path)\n",
    "print(f\"Node feature [feat_1] is saved to {node_feat_1_path}\\n\")\n",
    "\n",
    "# Generate edge feature in numpy array.\n",
    "edge_feat_0_path = os.path.join(base_dir, \"edge-feat-0.npy\")\n",
    "edge_feat_0 = np.random.rand(num_edges, 5)\n",
    "print(f\"Part of edge feature [feat_0]: {edge_feat_0[:3, :]}\")\n",
    "np.save(edge_feat_0_path, edge_feat_0)\n",
    "print(f\"Edge feature [feat_0] is saved to {edge_feat_0_path}\\n\")\n",
    "\n",
    "# Generate another edge feature in torch tensor\n",
    "edge_feat_1_path = os.path.join(base_dir, \"edge-feat-1.pt\")\n",
    "edge_feat_1 = torch.rand(num_edges, 5)\n",
    "print(f\"Part of edge feature [feat_1]: {edge_feat_1[:3, :]}\")\n",
    "torch.save(edge_feat_1, edge_feat_1_path)\n",
    "print(f\"Edge feature [feat_1] is saved to {edge_feat_1_path}\\n\")\n"
   ]
  },
  {
   "cell_type": "markdown",
   "metadata": {
    "id": "ZyqgOtsIwzh_"
   },
   "source": [
    "### Generate tasks\n",
    "`OnDiskDataset` supports multiple tasks. For each task, we need to prepare training/validation/test sets respectively. Such sets usually vary among different tasks. In this tutorial, let's create a **Node Classification** task and **Link Prediction** task."
   ]
  },
  {
   "cell_type": "markdown",
   "metadata": {
    "id": "hVxHaDIfzCkr"
   },
   "source": [
    "#### Node Classification Task\n",
    "For node classification task, we need **node IDs** and corresponding **labels** for each training/validation/test set. Like feature data, numpy arrays and torch tensors are supported for these sets."
   ]
  },
  {
   "cell_type": "code",
   "execution_count": 5,
   "metadata": {
    "execution": {
     "iopub.execute_input": "2024-09-18T07:00:02.405115Z",
     "iopub.status.busy": "2024-09-18T07:00:02.404894Z",
     "iopub.status.idle": "2024-09-18T07:00:02.415884Z",
     "shell.execute_reply": "2024-09-18T07:00:02.415322Z"
    },
    "id": "S5-fyBbHzTCO"
   },
   "outputs": [
    {
     "name": "stdout",
     "output_type": "stream",
     "text": [
      "Part of train ids for node classification: [353 805 236]\n",
      "NC train ids are saved to ./ondisk_dataset_homograph/nc-train-ids.npy\n",
      "\n",
      "Part of train labels for node classification: tensor([7, 5, 4])\n",
      "NC train labels are saved to ./ondisk_dataset_homograph/nc-train-labels.pt\n",
      "\n",
      "Part of val ids for node classification: [357 871 266]\n",
      "NC val ids are saved to ./ondisk_dataset_homograph/nc-val-ids.npy\n",
      "\n",
      "Part of val labels for node classification: tensor([1, 4, 2])\n",
      "NC val labels are saved to ./ondisk_dataset_homograph/nc-val-labels.pt\n",
      "\n",
      "Part of test ids for node classification: [504 522 133]\n",
      "NC test ids are saved to ./ondisk_dataset_homograph/nc-test-ids.npy\n",
      "\n",
      "Part of test labels for node classification: tensor([1, 9, 0])\n",
      "NC test labels are saved to ./ondisk_dataset_homograph/nc-test-labels.pt\n",
      "\n"
     ]
    }
   ],
   "source": [
    "num_trains = int(num_nodes * 0.6)\n",
    "num_vals = int(num_nodes * 0.2)\n",
    "num_tests = num_nodes - num_trains - num_vals\n",
    "\n",
    "ids = np.arange(num_nodes)\n",
    "np.random.shuffle(ids)\n",
    "\n",
    "nc_train_ids_path = os.path.join(base_dir, \"nc-train-ids.npy\")\n",
    "nc_train_ids = ids[:num_trains]\n",
    "print(f\"Part of train ids for node classification: {nc_train_ids[:3]}\")\n",
    "np.save(nc_train_ids_path, nc_train_ids)\n",
    "print(f\"NC train ids are saved to {nc_train_ids_path}\\n\")\n",
    "\n",
    "nc_train_labels_path = os.path.join(base_dir, \"nc-train-labels.pt\")\n",
    "nc_train_labels = torch.randint(0, 10, (num_trains,))\n",
    "print(f\"Part of train labels for node classification: {nc_train_labels[:3]}\")\n",
    "torch.save(nc_train_labels, nc_train_labels_path)\n",
    "print(f\"NC train labels are saved to {nc_train_labels_path}\\n\")\n",
    "\n",
    "nc_val_ids_path = os.path.join(base_dir, \"nc-val-ids.npy\")\n",
    "nc_val_ids = ids[num_trains:num_trains+num_vals]\n",
    "print(f\"Part of val ids for node classification: {nc_val_ids[:3]}\")\n",
    "np.save(nc_val_ids_path, nc_val_ids)\n",
    "print(f\"NC val ids are saved to {nc_val_ids_path}\\n\")\n",
    "\n",
    "nc_val_labels_path = os.path.join(base_dir, \"nc-val-labels.pt\")\n",
    "nc_val_labels = torch.randint(0, 10, (num_vals,))\n",
    "print(f\"Part of val labels for node classification: {nc_val_labels[:3]}\")\n",
    "torch.save(nc_val_labels, nc_val_labels_path)\n",
    "print(f\"NC val labels are saved to {nc_val_labels_path}\\n\")\n",
    "\n",
    "nc_test_ids_path = os.path.join(base_dir, \"nc-test-ids.npy\")\n",
    "nc_test_ids = ids[-num_tests:]\n",
    "print(f\"Part of test ids for node classification: {nc_test_ids[:3]}\")\n",
    "np.save(nc_test_ids_path, nc_test_ids)\n",
    "print(f\"NC test ids are saved to {nc_test_ids_path}\\n\")\n",
    "\n",
    "nc_test_labels_path = os.path.join(base_dir, \"nc-test-labels.pt\")\n",
    "nc_test_labels = torch.randint(0, 10, (num_tests,))\n",
    "print(f\"Part of test labels for node classification: {nc_test_labels[:3]}\")\n",
    "torch.save(nc_test_labels, nc_test_labels_path)\n",
    "print(f\"NC test labels are saved to {nc_test_labels_path}\\n\")"
   ]
  },
  {
   "cell_type": "markdown",
   "metadata": {
    "id": "LhAcDCHQ_KJ0"
   },
   "source": [
    "#### Link Prediction Task\n",
    "For link prediction task, we need **seeds** or **corresponding labels and indexes** which representing the pos/neg property and group of the seeds for each training/validation/test set. Like feature data, numpy arrays and torch tensors are supported for these sets."
   ]
  },
  {
   "cell_type": "code",
   "execution_count": 6,
   "metadata": {
    "execution": {
     "iopub.execute_input": "2024-09-18T07:00:02.418404Z",
     "iopub.status.busy": "2024-09-18T07:00:02.418191Z",
     "iopub.status.idle": "2024-09-18T07:00:02.434933Z",
     "shell.execute_reply": "2024-09-18T07:00:02.434354Z"
    },
    "id": "u0jCnXIcAQy4"
   },
   "outputs": [
    {
     "name": "stdout",
     "output_type": "stream",
     "text": [
      "Part of train seeds for link prediction: [[674 810]\n",
      " [ 48   7]\n",
      " [  5 149]]\n",
      "LP train seeds are saved to ./ondisk_dataset_homograph/lp-train-seeds.npy\n",
      "\n",
      "Part of val seeds for link prediction: [[660 132]\n",
      " [ 85 712]\n",
      " [881 811]]\n",
      "LP val seeds are saved to ./ondisk_dataset_homograph/lp-val-seeds.npy\n",
      "\n",
      "Part of val labels for link prediction: [1. 1. 1.]\n",
      "LP val labels are saved to ./ondisk_dataset_homograph/lp-val-labels.npy\n",
      "\n",
      "Part of val indexes for link prediction: [0 1 2]\n",
      "LP val indexes are saved to ./ondisk_dataset_homograph/lp-val-indexes.npy\n",
      "\n",
      "Part of test seeds for link prediction: [[572 108]\n",
      " [246 409]\n",
      " [ 56 423]]\n",
      "LP test seeds are saved to ./ondisk_dataset_homograph/lp-test-seeds.npy\n",
      "\n",
      "Part of val labels for link prediction: [1. 1. 1.]\n",
      "LP test labels are saved to ./ondisk_dataset_homograph/lp-test-labels.npy\n",
      "\n",
      "Part of test indexes for link prediction: [0 1 2]\n",
      "LP test indexes are saved to ./ondisk_dataset_homograph/lp-test-indexes.npy\n",
      "\n"
     ]
    }
   ],
   "source": [
    "num_trains = int(num_edges * 0.6)\n",
    "num_vals = int(num_edges * 0.2)\n",
    "num_tests = num_edges - num_trains - num_vals\n",
    "\n",
    "lp_train_seeds_path = os.path.join(base_dir, \"lp-train-seeds.npy\")\n",
    "lp_train_seeds = edges[:num_trains, :]\n",
    "print(f\"Part of train seeds for link prediction: {lp_train_seeds[:3]}\")\n",
    "np.save(lp_train_seeds_path, lp_train_seeds)\n",
    "print(f\"LP train seeds are saved to {lp_train_seeds_path}\\n\")\n",
    "\n",
    "lp_val_seeds_path = os.path.join(base_dir, \"lp-val-seeds.npy\")\n",
    "lp_val_seeds = edges[num_trains:num_trains+num_vals, :]\n",
    "lp_val_neg_dsts = np.random.randint(0, num_nodes, (num_vals, 10)).reshape(-1)\n",
    "lp_val_neg_srcs = np.repeat(lp_val_seeds[:,0], 10)\n",
    "lp_val_neg_seeds = np.concatenate((lp_val_neg_srcs, lp_val_neg_dsts)).reshape(2,-1).T\n",
    "lp_val_seeds = np.concatenate((lp_val_seeds, lp_val_neg_seeds))\n",
    "print(f\"Part of val seeds for link prediction: {lp_val_seeds[:3]}\")\n",
    "np.save(lp_val_seeds_path, lp_val_seeds)\n",
    "print(f\"LP val seeds are saved to {lp_val_seeds_path}\\n\")\n",
    "\n",
    "lp_val_labels_path = os.path.join(base_dir, \"lp-val-labels.npy\")\n",
    "lp_val_labels = np.empty(num_vals * (10 + 1))\n",
    "lp_val_labels[:num_vals] = 1\n",
    "lp_val_labels[num_vals:] = 0\n",
    "print(f\"Part of val labels for link prediction: {lp_val_labels[:3]}\")\n",
    "np.save(lp_val_labels_path, lp_val_labels)\n",
    "print(f\"LP val labels are saved to {lp_val_labels_path}\\n\")\n",
    "\n",
    "lp_val_indexes_path = os.path.join(base_dir, \"lp-val-indexes.npy\")\n",
    "lp_val_indexes = np.arange(0, num_vals)\n",
    "lp_val_neg_indexes = np.repeat(lp_val_indexes, 10)\n",
    "lp_val_indexes = np.concatenate([lp_val_indexes, lp_val_neg_indexes])\n",
    "print(f\"Part of val indexes for link prediction: {lp_val_indexes[:3]}\")\n",
    "np.save(lp_val_indexes_path, lp_val_indexes)\n",
    "print(f\"LP val indexes are saved to {lp_val_indexes_path}\\n\")\n",
    "\n",
    "lp_test_seeds_path = os.path.join(base_dir, \"lp-test-seeds.npy\")\n",
    "lp_test_seeds = edges[-num_tests:, :]\n",
    "lp_test_neg_dsts = np.random.randint(0, num_nodes, (num_tests, 10)).reshape(-1)\n",
    "lp_test_neg_srcs = np.repeat(lp_test_seeds[:,0], 10)\n",
    "lp_test_neg_seeds = np.concatenate((lp_test_neg_srcs, lp_test_neg_dsts)).reshape(2,-1).T\n",
    "lp_test_seeds = np.concatenate((lp_test_seeds, lp_test_neg_seeds))\n",
    "print(f\"Part of test seeds for link prediction: {lp_test_seeds[:3]}\")\n",
    "np.save(lp_test_seeds_path, lp_test_seeds)\n",
    "print(f\"LP test seeds are saved to {lp_test_seeds_path}\\n\")\n",
    "\n",
    "lp_test_labels_path = os.path.join(base_dir, \"lp-test-labels.npy\")\n",
    "lp_test_labels = np.empty(num_tests * (10 + 1))\n",
    "lp_test_labels[:num_tests] = 1\n",
    "lp_test_labels[num_tests:] = 0\n",
    "print(f\"Part of val labels for link prediction: {lp_test_labels[:3]}\")\n",
    "np.save(lp_test_labels_path, lp_test_labels)\n",
    "print(f\"LP test labels are saved to {lp_test_labels_path}\\n\")\n",
    "\n",
    "lp_test_indexes_path = os.path.join(base_dir, \"lp-test-indexes.npy\")\n",
    "lp_test_indexes = np.arange(0, num_tests)\n",
    "lp_test_neg_indexes = np.repeat(lp_test_indexes, 10)\n",
    "lp_test_indexes = np.concatenate([lp_test_indexes, lp_test_neg_indexes])\n",
    "print(f\"Part of test indexes for link prediction: {lp_test_indexes[:3]}\")\n",
    "np.save(lp_test_indexes_path, lp_test_indexes)\n",
    "print(f\"LP test indexes are saved to {lp_test_indexes_path}\\n\")"
   ]
  },
  {
   "cell_type": "markdown",
   "metadata": {
    "id": "wbk6-wxRK-6S"
   },
   "source": [
    "## Organize Data into YAML File\n",
    "Now we need to create a `metadata.yaml` file which contains the paths, dadta types of graph structure, feature data, training/validation/test sets.\n",
    "\n",
    "Notes:\n",
    "- all path should be relative to `metadata.yaml`.\n",
    "- Below fields are optional and not specified in below example.\n",
    "  - `in_memory`: indicates whether to load dada into memory or `mmap`. Default is `True`.\n",
    "\n",
    "Please refer to [YAML specification](https://github.com/dmlc/dgl/blob/master/docs/source/stochastic_training/ondisk-dataset-specification.rst) for more details."
   ]
  },
  {
   "cell_type": "code",
   "execution_count": 7,
   "metadata": {
    "execution": {
     "iopub.execute_input": "2024-09-18T07:00:02.437427Z",
     "iopub.status.busy": "2024-09-18T07:00:02.437219Z",
     "iopub.status.idle": "2024-09-18T07:00:02.442632Z",
     "shell.execute_reply": "2024-09-18T07:00:02.442135Z"
    },
    "id": "ddGTWW61Lpwp"
   },
   "outputs": [],
   "source": [
    "yaml_content = f\"\"\"\n",
    "    dataset_name: homogeneous_graph_nc_lp\n",
    "    graph:\n",
    "      nodes:\n",
    "        - num: {num_nodes}\n",
    "      edges:\n",
    "        - format: csv\n",
    "          path: {os.path.basename(edges_path)}\n",
    "    feature_data:\n",
    "      - domain: node\n",
    "        name: feat_0\n",
    "        format: numpy\n",
    "        path: {os.path.basename(node_feat_0_path)}\n",
    "      - domain: node\n",
    "        name: feat_1\n",
    "        format: torch\n",
    "        path: {os.path.basename(node_feat_1_path)}\n",
    "      - domain: edge\n",
    "        name: feat_0\n",
    "        format: numpy\n",
    "        path: {os.path.basename(edge_feat_0_path)}\n",
    "      - domain: edge\n",
    "        name: feat_1\n",
    "        format: torch\n",
    "        path: {os.path.basename(edge_feat_1_path)}\n",
    "    tasks:\n",
    "      - name: node_classification\n",
    "        num_classes: 10\n",
    "        train_set:\n",
    "          - data:\n",
    "              - name: seeds\n",
    "                format: numpy\n",
    "                path: {os.path.basename(nc_train_ids_path)}\n",
    "              - name: labels\n",
    "                format: torch\n",
    "                path: {os.path.basename(nc_train_labels_path)}\n",
    "        validation_set:\n",
    "          - data:\n",
    "              - name: seeds\n",
    "                format: numpy\n",
    "                path: {os.path.basename(nc_val_ids_path)}\n",
    "              - name: labels\n",
    "                format: torch\n",
    "                path: {os.path.basename(nc_val_labels_path)}\n",
    "        test_set:\n",
    "          - data:\n",
    "              - name: seeds\n",
    "                format: numpy\n",
    "                path: {os.path.basename(nc_test_ids_path)}\n",
    "              - name: labels\n",
    "                format: torch\n",
    "                path: {os.path.basename(nc_test_labels_path)}\n",
    "      - name: link_prediction\n",
    "        num_classes: 10\n",
    "        train_set:\n",
    "          - data:\n",
    "              - name: seeds\n",
    "                format: numpy\n",
    "                path: {os.path.basename(lp_train_seeds_path)}\n",
    "        validation_set:\n",
    "          - data:\n",
    "              - name: seeds\n",
    "                format: numpy\n",
    "                path: {os.path.basename(lp_val_seeds_path)}\n",
    "              - name: labels\n",
    "                format: numpy\n",
    "                path: {os.path.basename(lp_val_labels_path)}\n",
    "              - name: indexes\n",
    "                format: numpy\n",
    "                path: {os.path.basename(lp_val_indexes_path)}\n",
    "        test_set:\n",
    "          - data:\n",
    "              - name: seeds\n",
    "                format: numpy\n",
    "                path: {os.path.basename(lp_test_seeds_path)}\n",
    "              - name: labels\n",
    "                format: numpy\n",
    "                path: {os.path.basename(lp_test_labels_path)}\n",
    "              - name: indexes\n",
    "                format: numpy\n",
    "                path: {os.path.basename(lp_test_indexes_path)}\n",
    "\"\"\"\n",
    "metadata_path = os.path.join(base_dir, \"metadata.yaml\")\n",
    "with open(metadata_path, \"w\") as f:\n",
    "  f.write(yaml_content)"
   ]
  },
  {
   "cell_type": "markdown",
   "metadata": {
    "id": "kEfybHGhOW7O"
   },
   "source": [
    "## Instantiate `OnDiskDataset`\n",
    "Now we're ready to load dataset via `dgl.graphbolt.OnDiskDataset`. When instantiating, we just pass in the base directory where `metadata.yaml` file lies.\n",
    "\n",
    "During first instantiation, GraphBolt preprocesses the raw data such as constructing `FusedCSCSamplingGraph` from edges. All data including graph, feature data, training/validation/test sets are put into `preprocessed` directory after preprocessing. Any following dataset loading will skip the preprocess stage.\n",
    "\n",
    "After preprocessing, `load()` is required to be called explicitly in order to load graph, feature data and tasks."
   ]
  },
  {
   "cell_type": "code",
   "execution_count": 8,
   "metadata": {
    "execution": {
     "iopub.execute_input": "2024-09-18T07:00:02.445053Z",
     "iopub.status.busy": "2024-09-18T07:00:02.444741Z",
     "iopub.status.idle": "2024-09-18T07:00:02.530377Z",
     "shell.execute_reply": "2024-09-18T07:00:02.529693Z"
    },
    "id": "W58CZoSzOiyo"
   },
   "outputs": [
    {
     "name": "stdout",
     "output_type": "stream",
     "text": [
      "The on-disk dataset is re-preprocessing, so the existing preprocessed dataset has been removed.\n",
      "Start to preprocess the on-disk dataset.\n",
      "Finish preprocessing the on-disk dataset.\n",
      "Loaded graph: FusedCSCSamplingGraph(csc_indptr=tensor([    0,    11,    17,  ...,  9978,  9988, 10000], dtype=torch.int32),\n",
      "                      indices=tensor([760, 919, 271,  ..., 264,   7, 206], dtype=torch.int32),\n",
      "                      total_num_nodes=1000, num_edges=10000,)\n",
      "\n",
      "Loaded feature store: TorchBasedFeatureStore(\n",
      "    {(<OnDiskFeatureDataDomain.NODE: 'node'>, None, 'feat_0'): TorchBasedFeature(\n",
      "        feature=tensor([[0.5877, 0.9034, 0.8329, 0.4429, 0.0128],\n",
      "                        [0.3716, 0.4688, 0.8890, 0.1199, 0.0579],\n",
      "                        [0.5867, 0.4719, 0.9488, 0.4473, 0.3948],\n",
      "                        ...,\n",
      "                        [0.8516, 0.4526, 0.2200, 0.0581, 0.6838],\n",
      "                        [0.4048, 0.2821, 0.5037, 0.8889, 0.6302],\n",
      "                        [0.6747, 0.6306, 0.5690, 0.4248, 0.8711]], dtype=torch.float64),\n",
      "        metadata={},\n",
      "    ), (<OnDiskFeatureDataDomain.NODE: 'node'>, None, 'feat_1'): TorchBasedFeature(\n",
      "        feature=tensor([[0.3209, 0.5751, 0.9814, 0.6187, 0.3592],\n",
      "                        [0.8076, 0.8752, 0.6121, 0.2083, 0.5343],\n",
      "                        [0.3172, 0.5386, 0.2057, 0.6664, 0.8110],\n",
      "                        ...,\n",
      "                        [0.1724, 0.1424, 0.5729, 0.6193, 0.1739],\n",
      "                        [0.4720, 0.7213, 0.4751, 0.2745, 0.9645],\n",
      "                        [0.6269, 0.1798, 0.3112, 0.5160, 0.6979]]),\n",
      "        metadata={},\n",
      "    ), (<OnDiskFeatureDataDomain.EDGE: 'edge'>, None, 'feat_0'): TorchBasedFeature(\n",
      "        feature=tensor([[0.9034, 0.6247, 0.3749, 0.9655, 0.1351],\n",
      "                        [0.8678, 0.8859, 0.1702, 0.2562, 0.0579],\n",
      "                        [0.9140, 0.5950, 0.4515, 0.9061, 0.0662],\n",
      "                        ...,\n",
      "                        [0.5894, 0.7709, 0.8512, 0.8048, 0.8778],\n",
      "                        [0.9614, 0.3142, 0.8651, 0.0065, 0.6622],\n",
      "                        [0.7747, 0.5652, 0.5111, 0.8028, 0.3939]], dtype=torch.float64),\n",
      "        metadata={},\n",
      "    ), (<OnDiskFeatureDataDomain.EDGE: 'edge'>, None, 'feat_1'): TorchBasedFeature(\n",
      "        feature=tensor([[0.5078, 0.7624, 0.0523, 0.4359, 0.7587],\n",
      "                        [0.0874, 0.2759, 0.9075, 0.8436, 0.1127],\n",
      "                        [0.9801, 0.1713, 0.7416, 0.2183, 0.3129],\n",
      "                        ...,\n",
      "                        [0.3676, 0.0566, 0.0778, 0.6717, 0.2152],\n",
      "                        [0.2102, 0.7770, 0.6415, 0.3683, 0.2640],\n",
      "                        [0.3272, 0.8715, 0.4100, 0.7124, 0.8704]]),\n",
      "        metadata={},\n",
      "    )}\n",
      ")\n",
      "\n",
      "Loaded node classification task: OnDiskTask(validation_set=ItemSet(\n",
      "               items=(tensor([357, 871, 266, 549,  88,  83, 937, 509, 528, 179, 483, 404, 216, 300,\n",
      "                   640, 360,   7, 814, 492, 689, 939, 694, 431, 457, 155, 170, 725, 861,\n",
      "                   610, 832, 169, 612, 867, 728, 710, 894, 118, 683, 964, 460, 441, 458,\n",
      "                   829,   3, 568, 628, 569, 595, 749, 215, 442, 843, 666, 888, 359, 461,\n",
      "                   275, 752,  18, 922,  55, 277, 706, 881, 246, 280, 103, 677, 924, 493,\n",
      "                   825, 660, 318,  25,  68, 586, 270, 312, 670, 935,  36, 165, 933, 987,\n",
      "                   213, 230, 487, 796, 523, 418,  58, 821, 105, 525, 526, 294, 611, 619,\n",
      "                    42, 301, 659, 793, 653, 503, 675, 585, 139, 745, 657, 588, 597, 299,\n",
      "                   848, 839, 994, 667, 288,  43, 810,  54, 313, 577, 715, 969,  27,  91,\n",
      "                   406, 468, 566, 477, 427, 512, 378, 210, 333, 620,  46, 765, 833,  74,\n",
      "                   264, 285, 153, 309,   5, 813, 705, 178, 142, 435,  29, 261, 195, 751,\n",
      "                    66, 282, 149, 488, 110, 842, 172, 373,  82, 296, 781,  12, 963, 372,\n",
      "                   332, 726, 680, 255, 587, 409, 290,  69, 918, 228, 875, 877, 921, 381,\n",
      "                   497, 807, 144, 966, 709, 719, 376,  28, 826, 532, 204, 521, 182, 316,\n",
      "                   856, 853, 693, 863], dtype=torch.int32), tensor([1, 4, 2, 3, 0, 1, 9, 0, 8, 4, 5, 8, 3, 5, 3, 9, 7, 2, 5, 2, 9, 3, 1, 8,\n",
      "                   1, 5, 4, 6, 3, 2, 7, 4, 6, 7, 4, 9, 9, 4, 6, 7, 8, 4, 9, 4, 3, 6, 8, 4,\n",
      "                   2, 0, 8, 7, 2, 8, 6, 9, 5, 3, 5, 8, 5, 0, 5, 2, 9, 9, 8, 6, 0, 7, 6, 1,\n",
      "                   9, 0, 6, 1, 1, 1, 0, 1, 4, 0, 3, 8, 4, 6, 0, 9, 0, 3, 3, 3, 6, 7, 3, 6,\n",
      "                   3, 1, 5, 3, 4, 7, 8, 7, 3, 7, 8, 1, 8, 2, 8, 7, 3, 6, 5, 8, 9, 5, 6, 1,\n",
      "                   2, 2, 2, 8, 7, 9, 5, 4, 8, 3, 2, 8, 6, 4, 4, 8, 8, 7, 1, 9, 7, 3, 8, 3,\n",
      "                   6, 7, 8, 9, 4, 0, 3, 1, 0, 6, 3, 7, 8, 9, 7, 4, 1, 6, 7, 9, 5, 7, 4, 9,\n",
      "                   2, 3, 7, 1, 2, 5, 4, 8, 4, 1, 1, 3, 5, 1, 5, 2, 7, 4, 9, 1, 9, 4, 0, 3,\n",
      "                   2, 6, 0, 7, 5, 2, 6, 5])),\n",
      "               names=('seeds', 'labels'),\n",
      "           ),\n",
      "           train_set=ItemSet(\n",
      "               items=(tensor([353, 805, 236, 712, 177, 674, 538, 668, 211, 536, 370, 582, 544, 980,\n",
      "                    79, 371, 219, 785, 967, 452, 472, 707, 437,   1, 720, 131,  52,  59,\n",
      "                   154,  48, 704, 379,  19, 463,  51, 878, 759, 606, 750, 757, 646, 774,\n",
      "                   401, 208, 137, 552,  63, 304, 936, 537, 803, 466, 681, 190,  24, 479,\n",
      "                   414, 520,   4, 242, 748, 508, 287, 901, 851, 992, 175, 623, 931, 938,\n",
      "                   547,  97, 838, 737, 923, 391, 565, 789, 268, 978, 469, 159, 662, 979,\n",
      "                   604, 917, 960, 714, 756, 874, 817, 214, 531,  93, 942, 920, 643, 718,\n",
      "                   690, 929, 157, 965, 192, 852, 970, 790,  14, 783, 632, 295, 120, 985,\n",
      "                   433, 160, 485, 121, 779, 614, 499,  95, 671, 340, 996, 555, 515, 792,\n",
      "                   445, 961, 249, 975, 548, 541,  84, 361, 995, 269, 962,  73, 339, 140,\n",
      "                   229, 447, 168, 652, 481, 148, 708, 239, 862,  64, 467, 930, 116, 727,\n",
      "                   804, 454, 388, 366, 135, 335, 647, 981, 603, 232, 635, 630, 347, 183,\n",
      "                   951, 244, 846, 176, 336, 576, 514, 152, 823, 624, 106, 283,  22, 324,\n",
      "                   634, 166, 334, 583, 797, 567, 321, 893, 831, 800, 641, 578, 476, 184,\n",
      "                   231, 263, 450, 470, 145, 273, 563,  49, 959, 864,  92, 511, 191, 818,\n",
      "                    94, 189, 267, 617, 510, 113, 136, 644, 194, 627, 914, 770, 111, 543,\n",
      "                   886, 906, 948, 345, 375, 858, 609, 722, 717, 150, 368, 386,  50,  23,\n",
      "                   471, 697, 958, 410, 248, 540, 187, 337, 443, 465, 185, 911, 475, 591,\n",
      "                   119, 679, 407, 887, 884,  60, 358, 557, 398,  35, 655, 527, 638, 205,\n",
      "                   258,   9, 524, 615, 574, 393, 171, 123, 203, 342, 811, 278, 173, 812,\n",
      "                   859, 127, 319, 837, 262, 608, 730, 365, 424, 990, 279, 362, 311, 281,\n",
      "                   134, 927, 651,  10, 276, 580,  45, 412, 186, 354, 621, 654, 622, 656,\n",
      "                   416, 999, 326, 764, 820, 816, 223, 310, 331, 408, 971, 896, 850, 891,\n",
      "                    87, 107, 682,   8, 507, 480, 138, 815, 505, 328, 383,  70, 780, 516,\n",
      "                   297, 212, 221, 926,  34,  38, 141, 787, 519, 658, 754, 799, 902, 763,\n",
      "                   501, 490, 109, 272, 387, 736, 167, 327, 256,  76, 739, 801,  89, 973,\n",
      "                   945, 444, 830, 147, 928, 665, 788, 676, 196, 866, 592, 869,   2,  47,\n",
      "                   997, 389, 163,  86, 225, 989, 453, 305, 227, 909, 554, 343, 882, 260,\n",
      "                   809, 197, 253, 760, 663, 419, 390, 151, 873, 733, 250,  96,  72, 122,\n",
      "                   993, 234, 385, 367, 998, 991, 126, 631, 908, 794, 384, 251, 919,   6,\n",
      "                   551, 957, 798, 506, 181, 700, 364, 188, 308, 600, 701, 478, 218, 747,\n",
      "                   558, 259,  78, 200, 382,  85, 220,  75,  67, 784, 108,  30,  15, 769,\n",
      "                   857, 590, 786, 879, 639, 434, 915, 455, 772, 344, 661, 399,  17, 518,\n",
      "                   946, 298, 422, 762,   0, 363, 753,  98, 397, 274, 484, 572, 932, 560,\n",
      "                   698, 570, 495, 834, 758, 983, 768, 845,  99, 112, 925, 775, 413, 900,\n",
      "                   940, 761, 240, 425, 124, 636, 202, 198, 912, 394, 556,  20, 426, 743,\n",
      "                   403, 542, 741, 315, 302, 535, 247, 320, 731, 421, 314, 880, 692, 988,\n",
      "                   346, 777, 117, 257, 245, 114, 559, 498, 224, 599, 771, 374, 596,  32,\n",
      "                   104, 876, 984, 968, 456, 436,  56, 430,  90, 271, 686, 226, 860, 824,\n",
      "                   589,  81, 405, 895, 517, 913, 489, 423, 974, 828, 738, 836, 699, 579,\n",
      "                   742, 605, 687, 217,  62, 496, 415, 349, 209, 350,  61, 613, 956,  21,\n",
      "                   432, 513, 696, 685,  41, 440, 162, 802, 672, 664, 637, 395, 897, 581,\n",
      "                   808,  57, 420, 265, 947, 684, 695, 325, 740,  16, 571, 101],\n",
      "                  dtype=torch.int32), tensor([7, 5, 4, 7, 9, 2, 4, 2, 3, 1, 4, 6, 3, 5, 1, 2, 2, 1, 7, 6, 9, 5, 4, 9,\n",
      "                   4, 7, 2, 3, 8, 7, 3, 9, 5, 2, 1, 6, 6, 3, 9, 1, 1, 8, 4, 6, 1, 9, 7, 2,\n",
      "                   4, 1, 3, 5, 4, 9, 0, 1, 0, 1, 1, 6, 1, 1, 3, 4, 9, 1, 5, 9, 4, 7, 4, 9,\n",
      "                   6, 6, 8, 3, 8, 4, 0, 4, 0, 5, 8, 9, 4, 7, 6, 1, 0, 1, 1, 6, 7, 2, 8, 0,\n",
      "                   1, 4, 3, 4, 1, 4, 5, 8, 2, 1, 7, 5, 9, 5, 9, 8, 5, 9, 8, 9, 5, 0, 7, 1,\n",
      "                   3, 2, 0, 2, 5, 1, 6, 6, 4, 9, 0, 0, 0, 2, 8, 9, 5, 6, 8, 5, 5, 8, 2, 8,\n",
      "                   5, 4, 5, 8, 2, 3, 6, 9, 4, 3, 9, 4, 5, 6, 9, 5, 5, 6, 7, 2, 4, 2, 8, 3,\n",
      "                   4, 6, 5, 3, 7, 2, 1, 2, 1, 4, 7, 7, 1, 5, 0, 2, 5, 3, 0, 5, 7, 8, 2, 3,\n",
      "                   2, 3, 9, 8, 7, 6, 4, 6, 0, 3, 1, 6, 2, 9, 7, 6, 9, 7, 5, 7, 7, 1, 8, 5,\n",
      "                   9, 6, 1, 8, 5, 6, 9, 0, 8, 6, 2, 7, 7, 9, 0, 8, 7, 0, 6, 5, 9, 6, 5, 4,\n",
      "                   1, 1, 9, 6, 5, 0, 6, 3, 7, 0, 0, 3, 5, 5, 4, 1, 1, 8, 0, 2, 3, 4, 5, 6,\n",
      "                   8, 7, 7, 4, 8, 7, 5, 5, 5, 3, 4, 4, 9, 9, 2, 8, 5, 8, 7, 3, 2, 6, 3, 6,\n",
      "                   3, 1, 1, 3, 3, 5, 4, 9, 2, 2, 7, 3, 8, 3, 0, 8, 2, 6, 8, 7, 9, 0, 8, 0,\n",
      "                   7, 8, 0, 6, 5, 9, 6, 3, 2, 9, 7, 2, 3, 3, 6, 7, 1, 1, 6, 1, 6, 3, 7, 2,\n",
      "                   2, 2, 0, 0, 2, 1, 7, 2, 5, 5, 5, 4, 1, 3, 9, 8, 9, 6, 2, 3, 4, 3, 6, 3,\n",
      "                   1, 3, 0, 9, 5, 8, 2, 8, 9, 2, 7, 3, 4, 4, 1, 0, 8, 8, 3, 0, 0, 4, 9, 6,\n",
      "                   1, 4, 5, 2, 7, 7, 5, 9, 2, 9, 4, 9, 3, 0, 9, 0, 6, 5, 7, 6, 9, 8, 8, 7,\n",
      "                   4, 6, 4, 5, 7, 0, 3, 9, 5, 7, 7, 5, 7, 3, 8, 2, 2, 8, 6, 0, 5, 3, 7, 7,\n",
      "                   6, 5, 5, 6, 4, 3, 0, 1, 9, 4, 3, 9, 7, 5, 2, 6, 4, 8, 2, 6, 6, 7, 1, 1,\n",
      "                   0, 5, 2, 2, 1, 9, 2, 5, 9, 5, 7, 4, 1, 8, 5, 1, 3, 6, 1, 9, 5, 8, 2, 5,\n",
      "                   8, 2, 4, 9, 3, 7, 0, 6, 6, 7, 8, 9, 8, 5, 0, 3, 3, 7, 2, 4, 5, 6, 4, 1,\n",
      "                   5, 9, 0, 1, 8, 9, 0, 5, 9, 6, 6, 7, 8, 8, 0, 8, 1, 1, 9, 5, 3, 0, 8, 5,\n",
      "                   2, 4, 6, 8, 5, 3, 3, 2, 9, 0, 0, 5, 8, 2, 3, 2, 8, 1, 1, 8, 9, 8, 2, 0,\n",
      "                   5, 7, 7, 5, 0, 8, 8, 2, 5, 2, 3, 8, 7, 7, 2, 5, 6, 5, 8, 5, 5, 7, 2, 5,\n",
      "                   6, 4, 1, 5, 4, 4, 1, 8, 0, 6, 5, 0, 1, 0, 6, 2, 2, 8, 0, 8, 7, 5, 3, 0])),\n",
      "               names=('seeds', 'labels'),\n",
      "           ),\n",
      "           test_set=ItemSet(\n",
      "               items=(tensor([504, 522, 133, 872, 235, 633, 934, 307, 616, 529, 180, 791, 156,  53,\n",
      "                   778, 491, 575, 625, 941, 691, 207, 534, 732, 243, 164, 847, 462, 910,\n",
      "                   898, 827, 650, 132, 303, 865, 292, 601,  39, 870, 392, 291, 233,  65,\n",
      "                   841, 972, 593, 883, 199, 626, 645, 703, 550, 402, 721, 448,  71, 678,\n",
      "                   734,  26,  44, 380, 806, 949, 329, 400, 855,  80, 539, 982, 130, 688,\n",
      "                   711, 533, 252, 174, 955, 241, 822, 377, 341, 954, 904, 356, 782, 868,\n",
      "                   411, 907, 237, 716, 986, 755, 885,  11, 125, 573, 486, 607, 289, 903,\n",
      "                   102, 950, 115, 735, 451, 553, 892,  13, 819, 128, 284, 348, 369, 446,\n",
      "                   773, 459, 976, 594, 648, 352, 598, 143, 977, 602, 746, 286, 669, 396,\n",
      "                   429, 293,  40, 206, 201,  33, 530, 944, 584, 464, 767, 618, 494, 766,\n",
      "                   222, 417, 473,  37, 474, 849, 428, 564, 482, 649, 953, 438, 238, 629,\n",
      "                   100, 854, 545, 952, 562, 439, 193, 795, 673, 254, 146, 158, 889, 500,\n",
      "                   943,  77, 713, 351, 502, 642,  31, 322, 317, 355, 916, 323, 844, 835,\n",
      "                   546, 449, 729, 723, 306, 724, 338, 330, 840, 702, 890, 561, 899, 744,\n",
      "                   776, 161, 905, 129], dtype=torch.int32), tensor([1, 9, 0, 6, 4, 6, 8, 7, 8, 4, 1, 5, 2, 3, 1, 2, 6, 8, 2, 8, 2, 4, 9, 6,\n",
      "                   1, 3, 2, 6, 1, 7, 3, 6, 8, 4, 1, 1, 0, 4, 7, 5, 5, 7, 4, 8, 7, 9, 8, 5,\n",
      "                   7, 6, 5, 5, 6, 3, 7, 8, 0, 1, 8, 8, 4, 6, 9, 0, 8, 2, 9, 9, 7, 0, 5, 2,\n",
      "                   9, 7, 8, 7, 9, 8, 4, 0, 4, 3, 0, 4, 2, 4, 7, 8, 5, 1, 3, 5, 2, 0, 4, 2,\n",
      "                   8, 6, 1, 5, 8, 4, 5, 8, 4, 7, 9, 7, 1, 7, 3, 3, 4, 4, 1, 7, 1, 0, 4, 8,\n",
      "                   6, 4, 5, 8, 2, 3, 1, 4, 3, 5, 6, 3, 6, 3, 1, 0, 0, 7, 9, 1, 4, 9, 4, 9,\n",
      "                   0, 7, 5, 3, 6, 2, 6, 3, 0, 3, 8, 8, 0, 9, 4, 4, 9, 4, 7, 9, 2, 2, 6, 1,\n",
      "                   1, 9, 5, 1, 3, 7, 6, 2, 1, 8, 4, 7, 5, 1, 2, 3, 9, 7, 4, 0, 8, 3, 9, 9,\n",
      "                   6, 9, 2, 7, 0, 8, 9, 9])),\n",
      "               names=('seeds', 'labels'),\n",
      "           ),\n",
      "           metadata={'name': 'node_classification', 'num_classes': 10},)\n",
      "\n",
      "Loaded link prediction task: OnDiskTask(validation_set=ItemSet(\n",
      "               items=(tensor([[660, 132],\n",
      "                   [ 85, 712],\n",
      "                   [881, 811],\n",
      "                   ...,\n",
      "                   [788, 288],\n",
      "                   [788, 670],\n",
      "                   [788, 909]], dtype=torch.int32), tensor([1., 1., 1.,  ..., 0., 0., 0.], dtype=torch.float64), tensor([   0,    1,    2,  ..., 1999, 1999, 1999])),\n",
      "               names=('seeds', 'labels', 'indexes'),\n",
      "           ),\n",
      "           train_set=ItemSet(\n",
      "               items=(tensor([[674, 810],\n",
      "                   [ 48,   7],\n",
      "                   [  5, 149],\n",
      "                   ...,\n",
      "                   [ 76, 217],\n",
      "                   [166, 657],\n",
      "                   [161, 814]], dtype=torch.int32),),\n",
      "               names=('seeds',),\n",
      "           ),\n",
      "           test_set=ItemSet(\n",
      "               items=(tensor([[572, 108],\n",
      "                   [246, 409],\n",
      "                   [ 56, 423],\n",
      "                   ...,\n",
      "                   [697, 220],\n",
      "                   [697, 166],\n",
      "                   [697, 327]], dtype=torch.int32), tensor([1., 1., 1.,  ..., 0., 0., 0.], dtype=torch.float64), tensor([   0,    1,    2,  ..., 1999, 1999, 1999])),\n",
      "               names=('seeds', 'labels', 'indexes'),\n",
      "           ),\n",
      "           metadata={'name': 'link_prediction', 'num_classes': 10},)\n",
      "\n"
     ]
    },
    {
     "name": "stderr",
     "output_type": "stream",
     "text": [
      "/home/ubuntu/regression_test/dgl/python/dgl/graphbolt/internal/utils.py:31: FutureWarning: You are using `torch.load` with `weights_only=False` (the current default value), which uses the default pickle module implicitly. It is possible to construct malicious pickle data which will execute arbitrary code during unpickling (See https://github.com/pytorch/pytorch/blob/main/SECURITY.md#untrusted-models for more details). In a future release, the default value for `weights_only` will be flipped to `True`. This limits the functions that could be executed during unpickling. Arbitrary objects will no longer be allowed to be loaded via this mode unless they are explicitly allowlisted by the user via `torch.serialization.add_safe_globals`. We recommend you start setting `weights_only=True` for any use case where you don't have full control of the loaded file. Please open an issue on GitHub for any issues related to this experimental feature.\n",
      "  return torch.load(path)\n",
      "/home/ubuntu/regression_test/dgl/python/dgl/graphbolt/impl/ondisk_dataset.py:463: GBWarning: Edge feature is stored, but edge IDs are not saved.\n",
      "  gb_warning(\"Edge feature is stored, but edge IDs are not saved.\")\n",
      "/home/ubuntu/regression_test/dgl/python/dgl/graphbolt/impl/ondisk_dataset.py:855: FutureWarning: You are using `torch.load` with `weights_only=False` (the current default value), which uses the default pickle module implicitly. It is possible to construct malicious pickle data which will execute arbitrary code during unpickling (See https://github.com/pytorch/pytorch/blob/main/SECURITY.md#untrusted-models for more details). In a future release, the default value for `weights_only` will be flipped to `True`. This limits the functions that could be executed during unpickling. Arbitrary objects will no longer be allowed to be loaded via this mode unless they are explicitly allowlisted by the user via `torch.serialization.add_safe_globals`. We recommend you start setting `weights_only=True` for any use case where you don't have full control of the loaded file. Please open an issue on GitHub for any issues related to this experimental feature.\n",
      "  return torch.load(graph_topology.path)\n"
     ]
    }
   ],
   "source": [
    "dataset = gb.OnDiskDataset(base_dir).load()\n",
    "graph = dataset.graph\n",
    "print(f\"Loaded graph: {graph}\\n\")\n",
    "\n",
    "feature = dataset.feature\n",
    "print(f\"Loaded feature store: {feature}\\n\")\n",
    "\n",
    "tasks = dataset.tasks\n",
    "nc_task = tasks[0]\n",
    "print(f\"Loaded node classification task: {nc_task}\\n\")\n",
    "lp_task = tasks[1]\n",
    "print(f\"Loaded link prediction task: {lp_task}\\n\")"
   ]
  }
 ],
 "metadata": {
  "colab": {
   "private_outputs": true,
   "provenance": []
  },
  "kernelspec": {
   "display_name": "Python 3",
   "name": "python3"
  },
  "language_info": {
   "codemirror_mode": {
    "name": "ipython",
    "version": 3
   },
   "file_extension": ".py",
   "mimetype": "text/x-python",
   "name": "python",
   "nbconvert_exporter": "python",
   "pygments_lexer": "ipython3",
   "version": "3.10.14"
  }
 },
 "nbformat": 4,
 "nbformat_minor": 0
}

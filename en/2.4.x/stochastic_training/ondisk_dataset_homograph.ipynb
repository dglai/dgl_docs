{
 "cells": [
  {
   "cell_type": "markdown",
   "metadata": {
    "id": "FnFhPMaAfLtJ"
   },
   "source": [
    "# OnDiskDataset for Homogeneous Graph\n",
    "\n",
    "[![Open In Colab](https://colab.research.google.com/assets/colab-badge.svg)](https://colab.research.google.com/github/dmlc/dgl/blob/master/notebooks/stochastic_training/ondisk_dataset_homograph.ipynb) [![GitHub](https://img.shields.io/badge/-View%20on%20GitHub-181717?logo=github&logoColor=ffffff)](https://github.com/dmlc/dgl/blob/master/notebooks/stochastic_training/ondisk_dataset_homograph.ipynb)\n",
    "\n",
    "This tutorial shows how to create `OnDiskDataset` for homogeneous graph that could be used in **GraphBolt** framework.\n",
    "\n",
    "By the end of this tutorial, you will be able to\n",
    "\n",
    "- organize graph structure data.\n",
    "- organize feature data.\n",
    "- organize training/validation/test set for specific tasks.\n",
    "\n",
    "To create an ``OnDiskDataset`` object, you need to organize all the data including graph structure, feature data and tasks into a directory. The directory should contain a ``metadata.yaml`` file that describes the metadata of the dataset.\n",
    "\n",
    "Now let's generate various data step by step and organize them together to instantiate `OnDiskDataset` finally."
   ]
  },
  {
   "cell_type": "markdown",
   "metadata": {
    "id": "Wlb19DtWgtzq"
   },
   "source": [
    "## Install DGL package"
   ]
  },
  {
   "cell_type": "code",
   "execution_count": 1,
   "metadata": {
    "execution": {
     "iopub.execute_input": "2024-09-02T05:26:59.004488Z",
     "iopub.status.busy": "2024-09-02T05:26:59.004184Z",
     "iopub.status.idle": "2024-09-02T05:27:02.816675Z",
     "shell.execute_reply": "2024-09-02T05:27:02.816082Z"
    },
    "id": "UojlT9ZGgyr9"
   },
   "outputs": [
    {
     "name": "stdout",
     "output_type": "stream",
     "text": [
      "Looking in links: https://data.dgl.ai/wheels-test/repo.html\r\n",
      "Requirement already satisfied: dgl in /opt/conda/envs/dgl-dev-cpu/lib/python3.10/site-packages (2.2a240410)\r\n",
      "Requirement already satisfied: numpy>=1.14.0 in /opt/conda/envs/dgl-dev-cpu/lib/python3.10/site-packages (from dgl) (1.26.4)\r\n",
      "Requirement already satisfied: scipy>=1.1.0 in /opt/conda/envs/dgl-dev-cpu/lib/python3.10/site-packages (from dgl) (1.14.0)\r\n",
      "Requirement already satisfied: networkx>=2.1 in /opt/conda/envs/dgl-dev-cpu/lib/python3.10/site-packages (from dgl) (3.3)\r\n",
      "Requirement already satisfied: requests>=2.19.0 in /opt/conda/envs/dgl-dev-cpu/lib/python3.10/site-packages (from dgl) (2.32.3)\r\n",
      "Requirement already satisfied: tqdm in /opt/conda/envs/dgl-dev-cpu/lib/python3.10/site-packages (from dgl) (4.66.5)\r\n",
      "Requirement already satisfied: psutil>=5.8.0 in /opt/conda/envs/dgl-dev-cpu/lib/python3.10/site-packages (from dgl) (6.0.0)\r\n",
      "Requirement already satisfied: torchdata>=0.5.0 in /opt/conda/envs/dgl-dev-cpu/lib/python3.10/site-packages (from dgl) (0.7.1)\r\n",
      "Requirement already satisfied: pandas in /opt/conda/envs/dgl-dev-cpu/lib/python3.10/site-packages (from dgl) (2.2.2)\r\n"
     ]
    },
    {
     "name": "stdout",
     "output_type": "stream",
     "text": [
      "Requirement already satisfied: charset-normalizer<4,>=2 in /opt/conda/envs/dgl-dev-cpu/lib/python3.10/site-packages (from requests>=2.19.0->dgl) (3.3.2)\r\n",
      "Requirement already satisfied: idna<4,>=2.5 in /opt/conda/envs/dgl-dev-cpu/lib/python3.10/site-packages (from requests>=2.19.0->dgl) (3.8)\r\n",
      "Requirement already satisfied: urllib3<3,>=1.21.1 in /opt/conda/envs/dgl-dev-cpu/lib/python3.10/site-packages (from requests>=2.19.0->dgl) (2.2.2)\r\n",
      "Requirement already satisfied: certifi>=2017.4.17 in /opt/conda/envs/dgl-dev-cpu/lib/python3.10/site-packages (from requests>=2.19.0->dgl) (2024.7.4)\r\n",
      "Requirement already satisfied: torch>=2 in /opt/conda/envs/dgl-dev-cpu/lib/python3.10/site-packages (from torchdata>=0.5.0->dgl) (2.4.0+cpu)\r\n"
     ]
    },
    {
     "name": "stdout",
     "output_type": "stream",
     "text": [
      "Requirement already satisfied: python-dateutil>=2.8.2 in /opt/conda/envs/dgl-dev-cpu/lib/python3.10/site-packages (from pandas->dgl) (2.9.0.post0)\r\n",
      "Requirement already satisfied: pytz>=2020.1 in /opt/conda/envs/dgl-dev-cpu/lib/python3.10/site-packages (from pandas->dgl) (2024.1)\r\n",
      "Requirement already satisfied: tzdata>=2022.7 in /opt/conda/envs/dgl-dev-cpu/lib/python3.10/site-packages (from pandas->dgl) (2024.1)\r\n",
      "Requirement already satisfied: six>=1.5 in /opt/conda/envs/dgl-dev-cpu/lib/python3.10/site-packages (from python-dateutil>=2.8.2->pandas->dgl) (1.16.0)\r\n",
      "Requirement already satisfied: filelock in /opt/conda/envs/dgl-dev-cpu/lib/python3.10/site-packages (from torch>=2->torchdata>=0.5.0->dgl) (3.15.4)\r\n",
      "Requirement already satisfied: typing-extensions>=4.8.0 in /opt/conda/envs/dgl-dev-cpu/lib/python3.10/site-packages (from torch>=2->torchdata>=0.5.0->dgl) (4.12.2)\r\n",
      "Requirement already satisfied: sympy in /opt/conda/envs/dgl-dev-cpu/lib/python3.10/site-packages (from torch>=2->torchdata>=0.5.0->dgl) (1.13.2)\r\n",
      "Requirement already satisfied: jinja2 in /opt/conda/envs/dgl-dev-cpu/lib/python3.10/site-packages (from torch>=2->torchdata>=0.5.0->dgl) (3.1.4)\r\n",
      "Requirement already satisfied: fsspec in /opt/conda/envs/dgl-dev-cpu/lib/python3.10/site-packages (from torch>=2->torchdata>=0.5.0->dgl) (2024.6.1)\r\n"
     ]
    },
    {
     "name": "stdout",
     "output_type": "stream",
     "text": [
      "Requirement already satisfied: MarkupSafe>=2.0 in /opt/conda/envs/dgl-dev-cpu/lib/python3.10/site-packages (from jinja2->torch>=2->torchdata>=0.5.0->dgl) (2.1.5)\r\n",
      "Requirement already satisfied: mpmath<1.4,>=1.1.0 in /opt/conda/envs/dgl-dev-cpu/lib/python3.10/site-packages (from sympy->torch>=2->torchdata>=0.5.0->dgl) (1.3.0)\r\n"
     ]
    },
    {
     "name": "stdout",
     "output_type": "stream",
     "text": [
      "DGL installed!\n"
     ]
    }
   ],
   "source": [
    "# Install required packages.\n",
    "import os\n",
    "import torch\n",
    "import numpy as np\n",
    "os.environ['TORCH'] = torch.__version__\n",
    "os.environ['DGLBACKEND'] = \"pytorch\"\n",
    "\n",
    "# Install the CPU version.\n",
    "device = torch.device(\"cpu\")\n",
    "!pip install --pre dgl -f https://data.dgl.ai/wheels-test/repo.html\n",
    "\n",
    "try:\n",
    "    import dgl\n",
    "    import dgl.graphbolt as gb\n",
    "    installed = True\n",
    "except ImportError as error:\n",
    "    installed = False\n",
    "    print(error)\n",
    "print(\"DGL installed!\" if installed else \"DGL not found!\")"
   ]
  },
  {
   "cell_type": "markdown",
   "metadata": {
    "id": "2R7WnSbjsfbr"
   },
   "source": [
    "## Data preparation\n",
    "In order to demonstrate how to organize various data, let's create a base directory first."
   ]
  },
  {
   "cell_type": "code",
   "execution_count": 2,
   "metadata": {
    "execution": {
     "iopub.execute_input": "2024-09-02T05:27:02.819317Z",
     "iopub.status.busy": "2024-09-02T05:27:02.818917Z",
     "iopub.status.idle": "2024-09-02T05:27:02.822451Z",
     "shell.execute_reply": "2024-09-02T05:27:02.821954Z"
    },
    "id": "SZipbzyltLfO"
   },
   "outputs": [
    {
     "name": "stdout",
     "output_type": "stream",
     "text": [
      "Created base directory: ./ondisk_dataset_homograph\n"
     ]
    }
   ],
   "source": [
    "base_dir = './ondisk_dataset_homograph'\n",
    "os.makedirs(base_dir, exist_ok=True)\n",
    "print(f\"Created base directory: {base_dir}\")"
   ]
  },
  {
   "cell_type": "markdown",
   "metadata": {
    "id": "qhNtIn_xhlnl"
   },
   "source": [
    "### Generate graph structure data\n",
    "For homogeneous graph, we just need to save edges(namely seeds) into  **Numpy** or **CSV** file.\n",
    "\n",
    "Note:\n",
    "- when saving to **Numpy**, the array requires to be in shape of `(2, N)`. This format is recommended as constructing graph from it is much faster than **CSV** file.\n",
    "- when saving to **CSV** file, do not save index and header.\n"
   ]
  },
  {
   "cell_type": "code",
   "execution_count": 3,
   "metadata": {
    "execution": {
     "iopub.execute_input": "2024-09-02T05:27:02.824776Z",
     "iopub.status.busy": "2024-09-02T05:27:02.824383Z",
     "iopub.status.idle": "2024-09-02T05:27:02.835829Z",
     "shell.execute_reply": "2024-09-02T05:27:02.835342Z"
    },
    "id": "HcBt4G5BmSjr"
   },
   "outputs": [
    {
     "name": "stdout",
     "output_type": "stream",
     "text": [
      "Part of edges: [[ 18  42]\n",
      " [744 814]\n",
      " [ 13  93]\n",
      " [ 16 702]\n",
      " [405 576]]\n",
      "Edges are saved into ./ondisk_dataset_homograph/edges.csv\n"
     ]
    }
   ],
   "source": [
    "import numpy as np\n",
    "import pandas as pd\n",
    "num_nodes = 1000\n",
    "num_edges = 10 * num_nodes\n",
    "edges_path = os.path.join(base_dir, \"edges.csv\")\n",
    "edges = np.random.randint(0, num_nodes, size=(num_edges, 2))\n",
    "\n",
    "print(f\"Part of edges: {edges[:5, :]}\")\n",
    "\n",
    "df = pd.DataFrame(edges)\n",
    "df.to_csv(edges_path, index=False, header=False)\n",
    "\n",
    "print(f\"Edges are saved into {edges_path}\")"
   ]
  },
  {
   "cell_type": "markdown",
   "metadata": {
    "id": "kh-4cPtzpcaH"
   },
   "source": [
    "### Generate feature data for graph\n",
    "For feature data, numpy arrays and torch tensors are supported for now."
   ]
  },
  {
   "cell_type": "code",
   "execution_count": 4,
   "metadata": {
    "execution": {
     "iopub.execute_input": "2024-09-02T05:27:02.838001Z",
     "iopub.status.busy": "2024-09-02T05:27:02.837697Z",
     "iopub.status.idle": "2024-09-02T05:27:02.866068Z",
     "shell.execute_reply": "2024-09-02T05:27:02.865581Z"
    },
    "id": "_PVu1u5brBhF"
   },
   "outputs": [
    {
     "name": "stdout",
     "output_type": "stream",
     "text": [
      "Part of node feature [feat_0]: [[0.42805234 0.84318707 0.63811427 0.53009819 0.55427858]\n",
      " [0.42549917 0.89032554 0.67171654 0.07912146 0.78799814]\n",
      " [0.58391612 0.95357144 0.87755744 0.32936014 0.68783346]]\n",
      "Node feature [feat_0] is saved to ./ondisk_dataset_homograph/node-feat-0.npy\n",
      "\n",
      "Part of node feature [feat_1]: tensor([[0.6653, 0.0368, 0.2815, 0.0535, 0.8554],\n",
      "        [0.3984, 0.8535, 0.0288, 0.0277, 0.7606],\n",
      "        [0.4559, 0.4024, 0.5450, 0.3840, 0.6618]])\n",
      "Node feature [feat_1] is saved to ./ondisk_dataset_homograph/node-feat-1.pt\n",
      "\n",
      "Part of edge feature [feat_0]: [[0.83088017 0.70952893 0.42385652 0.30852958 0.8559793 ]\n",
      " [0.9297547  0.33478764 0.83064397 0.3907976  0.35202291]\n",
      " [0.9521956  0.99169652 0.43795748 0.28226409 0.85266768]]\n",
      "Edge feature [feat_0] is saved to ./ondisk_dataset_homograph/edge-feat-0.npy\n",
      "\n",
      "Part of edge feature [feat_1]: tensor([[0.3400, 0.1723, 0.3393, 0.2223, 0.0473],\n",
      "        [0.3751, 0.8018, 0.7747, 0.1236, 0.4727],\n",
      "        [0.8649, 0.8077, 0.0095, 0.5713, 0.7143]])\n",
      "Edge feature [feat_1] is saved to ./ondisk_dataset_homograph/edge-feat-1.pt\n",
      "\n"
     ]
    }
   ],
   "source": [
    "# Generate node feature in numpy array.\n",
    "node_feat_0_path = os.path.join(base_dir, \"node-feat-0.npy\")\n",
    "node_feat_0 = np.random.rand(num_nodes, 5)\n",
    "print(f\"Part of node feature [feat_0]: {node_feat_0[:3, :]}\")\n",
    "np.save(node_feat_0_path, node_feat_0)\n",
    "print(f\"Node feature [feat_0] is saved to {node_feat_0_path}\\n\")\n",
    "\n",
    "# Generate another node feature in torch tensor\n",
    "node_feat_1_path = os.path.join(base_dir, \"node-feat-1.pt\")\n",
    "node_feat_1 = torch.rand(num_nodes, 5)\n",
    "print(f\"Part of node feature [feat_1]: {node_feat_1[:3, :]}\")\n",
    "torch.save(node_feat_1, node_feat_1_path)\n",
    "print(f\"Node feature [feat_1] is saved to {node_feat_1_path}\\n\")\n",
    "\n",
    "# Generate edge feature in numpy array.\n",
    "edge_feat_0_path = os.path.join(base_dir, \"edge-feat-0.npy\")\n",
    "edge_feat_0 = np.random.rand(num_edges, 5)\n",
    "print(f\"Part of edge feature [feat_0]: {edge_feat_0[:3, :]}\")\n",
    "np.save(edge_feat_0_path, edge_feat_0)\n",
    "print(f\"Edge feature [feat_0] is saved to {edge_feat_0_path}\\n\")\n",
    "\n",
    "# Generate another edge feature in torch tensor\n",
    "edge_feat_1_path = os.path.join(base_dir, \"edge-feat-1.pt\")\n",
    "edge_feat_1 = torch.rand(num_edges, 5)\n",
    "print(f\"Part of edge feature [feat_1]: {edge_feat_1[:3, :]}\")\n",
    "torch.save(edge_feat_1, edge_feat_1_path)\n",
    "print(f\"Edge feature [feat_1] is saved to {edge_feat_1_path}\\n\")\n"
   ]
  },
  {
   "cell_type": "markdown",
   "metadata": {
    "id": "ZyqgOtsIwzh_"
   },
   "source": [
    "### Generate tasks\n",
    "`OnDiskDataset` supports multiple tasks. For each task, we need to prepare training/validation/test sets respectively. Such sets usually vary among different tasks. In this tutorial, let's create a **Node Classification** task and **Link Prediction** task."
   ]
  },
  {
   "cell_type": "markdown",
   "metadata": {
    "id": "hVxHaDIfzCkr"
   },
   "source": [
    "#### Node Classification Task\n",
    "For node classification task, we need **node IDs** and corresponding **labels** for each training/validation/test set. Like feature data, numpy arrays and torch tensors are supported for these sets."
   ]
  },
  {
   "cell_type": "code",
   "execution_count": 5,
   "metadata": {
    "execution": {
     "iopub.execute_input": "2024-09-02T05:27:02.868392Z",
     "iopub.status.busy": "2024-09-02T05:27:02.868067Z",
     "iopub.status.idle": "2024-09-02T05:27:02.878177Z",
     "shell.execute_reply": "2024-09-02T05:27:02.877677Z"
    },
    "id": "S5-fyBbHzTCO"
   },
   "outputs": [
    {
     "name": "stdout",
     "output_type": "stream",
     "text": [
      "Part of train ids for node classification: [500 788 278]\n",
      "NC train ids are saved to ./ondisk_dataset_homograph/nc-train-ids.npy\n",
      "\n",
      "Part of train labels for node classification: tensor([5, 4, 9])\n",
      "NC train labels are saved to ./ondisk_dataset_homograph/nc-train-labels.pt\n",
      "\n",
      "Part of val ids for node classification: [666  24  61]\n",
      "NC val ids are saved to ./ondisk_dataset_homograph/nc-val-ids.npy\n",
      "\n",
      "Part of val labels for node classification: tensor([9, 3, 3])\n",
      "NC val labels are saved to ./ondisk_dataset_homograph/nc-val-labels.pt\n",
      "\n",
      "Part of test ids for node classification: [122 888 108]\n",
      "NC test ids are saved to ./ondisk_dataset_homograph/nc-test-ids.npy\n",
      "\n",
      "Part of test labels for node classification: tensor([7, 1, 1])\n",
      "NC test labels are saved to ./ondisk_dataset_homograph/nc-test-labels.pt\n",
      "\n"
     ]
    }
   ],
   "source": [
    "num_trains = int(num_nodes * 0.6)\n",
    "num_vals = int(num_nodes * 0.2)\n",
    "num_tests = num_nodes - num_trains - num_vals\n",
    "\n",
    "ids = np.arange(num_nodes)\n",
    "np.random.shuffle(ids)\n",
    "\n",
    "nc_train_ids_path = os.path.join(base_dir, \"nc-train-ids.npy\")\n",
    "nc_train_ids = ids[:num_trains]\n",
    "print(f\"Part of train ids for node classification: {nc_train_ids[:3]}\")\n",
    "np.save(nc_train_ids_path, nc_train_ids)\n",
    "print(f\"NC train ids are saved to {nc_train_ids_path}\\n\")\n",
    "\n",
    "nc_train_labels_path = os.path.join(base_dir, \"nc-train-labels.pt\")\n",
    "nc_train_labels = torch.randint(0, 10, (num_trains,))\n",
    "print(f\"Part of train labels for node classification: {nc_train_labels[:3]}\")\n",
    "torch.save(nc_train_labels, nc_train_labels_path)\n",
    "print(f\"NC train labels are saved to {nc_train_labels_path}\\n\")\n",
    "\n",
    "nc_val_ids_path = os.path.join(base_dir, \"nc-val-ids.npy\")\n",
    "nc_val_ids = ids[num_trains:num_trains+num_vals]\n",
    "print(f\"Part of val ids for node classification: {nc_val_ids[:3]}\")\n",
    "np.save(nc_val_ids_path, nc_val_ids)\n",
    "print(f\"NC val ids are saved to {nc_val_ids_path}\\n\")\n",
    "\n",
    "nc_val_labels_path = os.path.join(base_dir, \"nc-val-labels.pt\")\n",
    "nc_val_labels = torch.randint(0, 10, (num_vals,))\n",
    "print(f\"Part of val labels for node classification: {nc_val_labels[:3]}\")\n",
    "torch.save(nc_val_labels, nc_val_labels_path)\n",
    "print(f\"NC val labels are saved to {nc_val_labels_path}\\n\")\n",
    "\n",
    "nc_test_ids_path = os.path.join(base_dir, \"nc-test-ids.npy\")\n",
    "nc_test_ids = ids[-num_tests:]\n",
    "print(f\"Part of test ids for node classification: {nc_test_ids[:3]}\")\n",
    "np.save(nc_test_ids_path, nc_test_ids)\n",
    "print(f\"NC test ids are saved to {nc_test_ids_path}\\n\")\n",
    "\n",
    "nc_test_labels_path = os.path.join(base_dir, \"nc-test-labels.pt\")\n",
    "nc_test_labels = torch.randint(0, 10, (num_tests,))\n",
    "print(f\"Part of test labels for node classification: {nc_test_labels[:3]}\")\n",
    "torch.save(nc_test_labels, nc_test_labels_path)\n",
    "print(f\"NC test labels are saved to {nc_test_labels_path}\\n\")"
   ]
  },
  {
   "cell_type": "markdown",
   "metadata": {
    "id": "LhAcDCHQ_KJ0"
   },
   "source": [
    "#### Link Prediction Task\n",
    "For link prediction task, we need **seeds** or **corresponding labels and indexes** which representing the pos/neg property and group of the seeds for each training/validation/test set. Like feature data, numpy arrays and torch tensors are supported for these sets."
   ]
  },
  {
   "cell_type": "code",
   "execution_count": 6,
   "metadata": {
    "execution": {
     "iopub.execute_input": "2024-09-02T05:27:02.880507Z",
     "iopub.status.busy": "2024-09-02T05:27:02.880182Z",
     "iopub.status.idle": "2024-09-02T05:27:02.895965Z",
     "shell.execute_reply": "2024-09-02T05:27:02.895469Z"
    },
    "id": "u0jCnXIcAQy4"
   },
   "outputs": [
    {
     "name": "stdout",
     "output_type": "stream",
     "text": [
      "Part of train seeds for link prediction: [[ 18  42]\n",
      " [744 814]\n",
      " [ 13  93]]\n",
      "LP train seeds are saved to ./ondisk_dataset_homograph/lp-train-seeds.npy\n",
      "\n",
      "Part of val seeds for link prediction: [[667 322]\n",
      " [525 773]\n",
      " [883 461]]\n",
      "LP val seeds are saved to ./ondisk_dataset_homograph/lp-val-seeds.npy\n",
      "\n",
      "Part of val labels for link prediction: [1. 1. 1.]\n",
      "LP val labels are saved to ./ondisk_dataset_homograph/lp-val-labels.npy\n",
      "\n",
      "Part of val indexes for link prediction: [0 1 2]\n",
      "LP val indexes are saved to ./ondisk_dataset_homograph/lp-val-indexes.npy\n",
      "\n",
      "Part of test seeds for link prediction: [[377 689]\n",
      " [694 655]\n",
      " [852 235]]\n",
      "LP test seeds are saved to ./ondisk_dataset_homograph/lp-test-seeds.npy\n",
      "\n",
      "Part of val labels for link prediction: [1. 1. 1.]\n",
      "LP test labels are saved to ./ondisk_dataset_homograph/lp-test-labels.npy\n",
      "\n",
      "Part of test indexes for link prediction: [0 1 2]\n",
      "LP test indexes are saved to ./ondisk_dataset_homograph/lp-test-indexes.npy\n",
      "\n"
     ]
    }
   ],
   "source": [
    "num_trains = int(num_edges * 0.6)\n",
    "num_vals = int(num_edges * 0.2)\n",
    "num_tests = num_edges - num_trains - num_vals\n",
    "\n",
    "lp_train_seeds_path = os.path.join(base_dir, \"lp-train-seeds.npy\")\n",
    "lp_train_seeds = edges[:num_trains, :]\n",
    "print(f\"Part of train seeds for link prediction: {lp_train_seeds[:3]}\")\n",
    "np.save(lp_train_seeds_path, lp_train_seeds)\n",
    "print(f\"LP train seeds are saved to {lp_train_seeds_path}\\n\")\n",
    "\n",
    "lp_val_seeds_path = os.path.join(base_dir, \"lp-val-seeds.npy\")\n",
    "lp_val_seeds = edges[num_trains:num_trains+num_vals, :]\n",
    "lp_val_neg_dsts = np.random.randint(0, num_nodes, (num_vals, 10)).reshape(-1)\n",
    "lp_val_neg_srcs = np.repeat(lp_val_seeds[:,0], 10)\n",
    "lp_val_neg_seeds = np.concatenate((lp_val_neg_srcs, lp_val_neg_dsts)).reshape(2,-1).T\n",
    "lp_val_seeds = np.concatenate((lp_val_seeds, lp_val_neg_seeds))\n",
    "print(f\"Part of val seeds for link prediction: {lp_val_seeds[:3]}\")\n",
    "np.save(lp_val_seeds_path, lp_val_seeds)\n",
    "print(f\"LP val seeds are saved to {lp_val_seeds_path}\\n\")\n",
    "\n",
    "lp_val_labels_path = os.path.join(base_dir, \"lp-val-labels.npy\")\n",
    "lp_val_labels = np.empty(num_vals * (10 + 1))\n",
    "lp_val_labels[:num_vals] = 1\n",
    "lp_val_labels[num_vals:] = 0\n",
    "print(f\"Part of val labels for link prediction: {lp_val_labels[:3]}\")\n",
    "np.save(lp_val_labels_path, lp_val_labels)\n",
    "print(f\"LP val labels are saved to {lp_val_labels_path}\\n\")\n",
    "\n",
    "lp_val_indexes_path = os.path.join(base_dir, \"lp-val-indexes.npy\")\n",
    "lp_val_indexes = np.arange(0, num_vals)\n",
    "lp_val_neg_indexes = np.repeat(lp_val_indexes, 10)\n",
    "lp_val_indexes = np.concatenate([lp_val_indexes, lp_val_neg_indexes])\n",
    "print(f\"Part of val indexes for link prediction: {lp_val_indexes[:3]}\")\n",
    "np.save(lp_val_indexes_path, lp_val_indexes)\n",
    "print(f\"LP val indexes are saved to {lp_val_indexes_path}\\n\")\n",
    "\n",
    "lp_test_seeds_path = os.path.join(base_dir, \"lp-test-seeds.npy\")\n",
    "lp_test_seeds = edges[-num_tests:, :]\n",
    "lp_test_neg_dsts = np.random.randint(0, num_nodes, (num_tests, 10)).reshape(-1)\n",
    "lp_test_neg_srcs = np.repeat(lp_test_seeds[:,0], 10)\n",
    "lp_test_neg_seeds = np.concatenate((lp_test_neg_srcs, lp_test_neg_dsts)).reshape(2,-1).T\n",
    "lp_test_seeds = np.concatenate((lp_test_seeds, lp_test_neg_seeds))\n",
    "print(f\"Part of test seeds for link prediction: {lp_test_seeds[:3]}\")\n",
    "np.save(lp_test_seeds_path, lp_test_seeds)\n",
    "print(f\"LP test seeds are saved to {lp_test_seeds_path}\\n\")\n",
    "\n",
    "lp_test_labels_path = os.path.join(base_dir, \"lp-test-labels.npy\")\n",
    "lp_test_labels = np.empty(num_tests * (10 + 1))\n",
    "lp_test_labels[:num_tests] = 1\n",
    "lp_test_labels[num_tests:] = 0\n",
    "print(f\"Part of val labels for link prediction: {lp_test_labels[:3]}\")\n",
    "np.save(lp_test_labels_path, lp_test_labels)\n",
    "print(f\"LP test labels are saved to {lp_test_labels_path}\\n\")\n",
    "\n",
    "lp_test_indexes_path = os.path.join(base_dir, \"lp-test-indexes.npy\")\n",
    "lp_test_indexes = np.arange(0, num_tests)\n",
    "lp_test_neg_indexes = np.repeat(lp_test_indexes, 10)\n",
    "lp_test_indexes = np.concatenate([lp_test_indexes, lp_test_neg_indexes])\n",
    "print(f\"Part of test indexes for link prediction: {lp_test_indexes[:3]}\")\n",
    "np.save(lp_test_indexes_path, lp_test_indexes)\n",
    "print(f\"LP test indexes are saved to {lp_test_indexes_path}\\n\")"
   ]
  },
  {
   "cell_type": "markdown",
   "metadata": {
    "id": "wbk6-wxRK-6S"
   },
   "source": [
    "## Organize Data into YAML File\n",
    "Now we need to create a `metadata.yaml` file which contains the paths, dadta types of graph structure, feature data, training/validation/test sets.\n",
    "\n",
    "Notes:\n",
    "- all path should be relative to `metadata.yaml`.\n",
    "- Below fields are optional and not specified in below example.\n",
    "  - `in_memory`: indicates whether to load dada into memory or `mmap`. Default is `True`.\n",
    "\n",
    "Please refer to [YAML specification](https://github.com/dmlc/dgl/blob/master/docs/source/stochastic_training/ondisk-dataset-specification.rst) for more details."
   ]
  },
  {
   "cell_type": "code",
   "execution_count": 7,
   "metadata": {
    "execution": {
     "iopub.execute_input": "2024-09-02T05:27:02.898141Z",
     "iopub.status.busy": "2024-09-02T05:27:02.897945Z",
     "iopub.status.idle": "2024-09-02T05:27:02.902877Z",
     "shell.execute_reply": "2024-09-02T05:27:02.902388Z"
    },
    "id": "ddGTWW61Lpwp"
   },
   "outputs": [],
   "source": [
    "yaml_content = f\"\"\"\n",
    "    dataset_name: homogeneous_graph_nc_lp\n",
    "    graph:\n",
    "      nodes:\n",
    "        - num: {num_nodes}\n",
    "      edges:\n",
    "        - format: csv\n",
    "          path: {os.path.basename(edges_path)}\n",
    "    feature_data:\n",
    "      - domain: node\n",
    "        name: feat_0\n",
    "        format: numpy\n",
    "        path: {os.path.basename(node_feat_0_path)}\n",
    "      - domain: node\n",
    "        name: feat_1\n",
    "        format: torch\n",
    "        path: {os.path.basename(node_feat_1_path)}\n",
    "      - domain: edge\n",
    "        name: feat_0\n",
    "        format: numpy\n",
    "        path: {os.path.basename(edge_feat_0_path)}\n",
    "      - domain: edge\n",
    "        name: feat_1\n",
    "        format: torch\n",
    "        path: {os.path.basename(edge_feat_1_path)}\n",
    "    tasks:\n",
    "      - name: node_classification\n",
    "        num_classes: 10\n",
    "        train_set:\n",
    "          - data:\n",
    "              - name: seeds\n",
    "                format: numpy\n",
    "                path: {os.path.basename(nc_train_ids_path)}\n",
    "              - name: labels\n",
    "                format: torch\n",
    "                path: {os.path.basename(nc_train_labels_path)}\n",
    "        validation_set:\n",
    "          - data:\n",
    "              - name: seeds\n",
    "                format: numpy\n",
    "                path: {os.path.basename(nc_val_ids_path)}\n",
    "              - name: labels\n",
    "                format: torch\n",
    "                path: {os.path.basename(nc_val_labels_path)}\n",
    "        test_set:\n",
    "          - data:\n",
    "              - name: seeds\n",
    "                format: numpy\n",
    "                path: {os.path.basename(nc_test_ids_path)}\n",
    "              - name: labels\n",
    "                format: torch\n",
    "                path: {os.path.basename(nc_test_labels_path)}\n",
    "      - name: link_prediction\n",
    "        num_classes: 10\n",
    "        train_set:\n",
    "          - data:\n",
    "              - name: seeds\n",
    "                format: numpy\n",
    "                path: {os.path.basename(lp_train_seeds_path)}\n",
    "        validation_set:\n",
    "          - data:\n",
    "              - name: seeds\n",
    "                format: numpy\n",
    "                path: {os.path.basename(lp_val_seeds_path)}\n",
    "              - name: labels\n",
    "                format: numpy\n",
    "                path: {os.path.basename(lp_val_labels_path)}\n",
    "              - name: indexes\n",
    "                format: numpy\n",
    "                path: {os.path.basename(lp_val_indexes_path)}\n",
    "        test_set:\n",
    "          - data:\n",
    "              - name: seeds\n",
    "                format: numpy\n",
    "                path: {os.path.basename(lp_test_seeds_path)}\n",
    "              - name: labels\n",
    "                format: numpy\n",
    "                path: {os.path.basename(lp_test_labels_path)}\n",
    "              - name: indexes\n",
    "                format: numpy\n",
    "                path: {os.path.basename(lp_test_indexes_path)}\n",
    "\"\"\"\n",
    "metadata_path = os.path.join(base_dir, \"metadata.yaml\")\n",
    "with open(metadata_path, \"w\") as f:\n",
    "  f.write(yaml_content)"
   ]
  },
  {
   "cell_type": "markdown",
   "metadata": {
    "id": "kEfybHGhOW7O"
   },
   "source": [
    "## Instantiate `OnDiskDataset`\n",
    "Now we're ready to load dataset via `dgl.graphbolt.OnDiskDataset`. When instantiating, we just pass in the base directory where `metadata.yaml` file lies.\n",
    "\n",
    "During first instantiation, GraphBolt preprocesses the raw data such as constructing `FusedCSCSamplingGraph` from edges. All data including graph, feature data, training/validation/test sets are put into `preprocessed` directory after preprocessing. Any following dataset loading will skip the preprocess stage.\n",
    "\n",
    "After preprocessing, `load()` is required to be called explicitly in order to load graph, feature data and tasks."
   ]
  },
  {
   "cell_type": "code",
   "execution_count": 8,
   "metadata": {
    "execution": {
     "iopub.execute_input": "2024-09-02T05:27:02.904997Z",
     "iopub.status.busy": "2024-09-02T05:27:02.904700Z",
     "iopub.status.idle": "2024-09-02T05:27:02.987195Z",
     "shell.execute_reply": "2024-09-02T05:27:02.986661Z"
    },
    "id": "W58CZoSzOiyo"
   },
   "outputs": [
    {
     "name": "stdout",
     "output_type": "stream",
     "text": [
      "The on-disk dataset is re-preprocessing, so the existing preprocessed dataset has been removed.\n",
      "Start to preprocess the on-disk dataset.\n",
      "Finish preprocessing the on-disk dataset.\n",
      "Loaded graph: FusedCSCSamplingGraph(csc_indptr=tensor([    0,     5,    17,  ...,  9969,  9981, 10000], dtype=torch.int32),\n",
      "                      indices=tensor([522, 849, 355,  ...,  43, 293, 818], dtype=torch.int32),\n",
      "                      total_num_nodes=1000, num_edges=10000,)\n",
      "\n",
      "Loaded feature store: TorchBasedFeatureStore(\n",
      "    {(<OnDiskFeatureDataDomain.NODE: 'node'>, None, 'feat_0'): TorchBasedFeature(\n",
      "        feature=tensor([[0.4281, 0.8432, 0.6381, 0.5301, 0.5543],\n",
      "                        [0.4255, 0.8903, 0.6717, 0.0791, 0.7880],\n",
      "                        [0.5839, 0.9536, 0.8776, 0.3294, 0.6878],\n",
      "                        ...,\n",
      "                        [0.4420, 0.4339, 0.3191, 0.4867, 0.4806],\n",
      "                        [0.0192, 0.8930, 0.9739, 0.0206, 0.9091],\n",
      "                        [0.8407, 0.7172, 0.0470, 0.3595, 0.7339]], dtype=torch.float64),\n",
      "        metadata={},\n",
      "    ), (<OnDiskFeatureDataDomain.NODE: 'node'>, None, 'feat_1'): TorchBasedFeature(\n",
      "        feature=tensor([[0.6653, 0.0368, 0.2815, 0.0535, 0.8554],\n",
      "                        [0.3984, 0.8535, 0.0288, 0.0277, 0.7606],\n",
      "                        [0.4559, 0.4024, 0.5450, 0.3840, 0.6618],\n",
      "                        ...,\n",
      "                        [0.0044, 0.2198, 0.0960, 0.9060, 0.9187],\n",
      "                        [0.1541, 0.5825, 0.0107, 0.8717, 0.2632],\n",
      "                        [0.9544, 0.1592, 0.3403, 0.3122, 0.4347]]),\n",
      "        metadata={},\n",
      "    ), (<OnDiskFeatureDataDomain.EDGE: 'edge'>, None, 'feat_0'): TorchBasedFeature(\n",
      "        feature=tensor([[0.8309, 0.7095, 0.4239, 0.3085, 0.8560],\n",
      "                        [0.9298, 0.3348, 0.8306, 0.3908, 0.3520],\n",
      "                        [0.9522, 0.9917, 0.4380, 0.2823, 0.8527],\n",
      "                        ...,\n",
      "                        [0.6730, 0.8942, 0.6802, 0.9467, 0.7594],\n",
      "                        [0.7562, 0.9876, 0.2370, 0.4993, 0.2383],\n",
      "                        [0.1078, 0.3099, 0.2095, 0.5186, 0.5251]], dtype=torch.float64),\n",
      "        metadata={},\n",
      "    ), (<OnDiskFeatureDataDomain.EDGE: 'edge'>, None, 'feat_1'): TorchBasedFeature(\n",
      "        feature=tensor([[0.3400, 0.1723, 0.3393, 0.2223, 0.0473],\n",
      "                        [0.3751, 0.8018, 0.7747, 0.1236, 0.4727],\n",
      "                        [0.8649, 0.8077, 0.0095, 0.5713, 0.7143],\n",
      "                        ...,\n",
      "                        [0.4565, 0.6524, 0.8238, 0.7711, 0.2892],\n",
      "                        [0.8796, 0.8105, 0.6236, 0.4202, 0.5920],\n",
      "                        [0.7028, 0.9641, 0.9377, 0.1439, 0.0473]]),\n",
      "        metadata={},\n",
      "    )}\n",
      ")\n",
      "\n",
      "Loaded node classification task: OnDiskTask(validation_set=ItemSet(\n",
      "               items=(tensor([666,  24,  61, 690, 190, 212, 279, 834, 804,  23, 656, 435, 548,   2,\n",
      "                   545, 794, 260, 657, 694, 658, 351, 840, 771, 484, 335, 250, 760,  52,\n",
      "                   301, 554, 678,  80, 892, 248, 345, 625, 259, 313, 635, 320, 106, 236,\n",
      "                   492, 605, 234, 364, 113,  16, 493, 662, 378, 965,  50, 816, 982, 882,\n",
      "                   769, 817, 866, 412, 934, 509, 971, 671, 809, 292, 488,  55, 763, 913,\n",
      "                   460, 553, 967,  59, 885, 829, 874, 807, 326, 697, 950, 521, 942, 372,\n",
      "                   856, 738, 226, 576, 266, 362, 902, 198, 701, 792, 581, 911, 110, 562,\n",
      "                   922, 386, 941, 429, 473, 961, 623, 145, 561, 963, 899,  84, 450, 463,\n",
      "                    29, 346, 756, 442, 914, 584, 604, 877, 387, 863, 103, 582, 281, 624,\n",
      "                   373, 221,  25, 979, 745, 338, 100, 610, 424, 333,  67, 986, 518,  71,\n",
      "                   782,  57,  68, 157, 163, 413, 482, 136, 644, 570, 379,  78, 927,  96,\n",
      "                   558, 398, 438, 590, 434, 897, 616, 612, 123, 761, 140, 883, 298, 444,\n",
      "                   294, 926, 929, 549, 367, 505, 670, 805, 287, 895, 783, 124, 470, 408,\n",
      "                   966,  72, 981, 833, 223, 503, 730, 376, 924, 787, 919, 819, 414,   5,\n",
      "                   993, 514, 649, 200], dtype=torch.int32), tensor([9, 3, 3, 0, 2, 9, 3, 2, 0, 2, 3, 7, 3, 0, 2, 4, 7, 1, 1, 3, 9, 2, 4, 1,\n",
      "                   2, 6, 3, 1, 9, 6, 2, 2, 4, 7, 9, 8, 4, 2, 3, 0, 5, 9, 7, 7, 4, 5, 9, 5,\n",
      "                   1, 9, 4, 6, 9, 8, 6, 4, 2, 8, 5, 4, 2, 1, 4, 2, 1, 8, 1, 0, 2, 8, 4, 4,\n",
      "                   7, 1, 9, 2, 0, 3, 4, 8, 1, 7, 3, 9, 4, 1, 4, 3, 3, 5, 3, 2, 8, 5, 5, 8,\n",
      "                   6, 3, 6, 6, 5, 3, 1, 0, 7, 6, 6, 7, 1, 0, 2, 0, 3, 8, 7, 1, 9, 9, 4, 1,\n",
      "                   7, 9, 0, 9, 0, 1, 9, 6, 5, 5, 6, 8, 5, 6, 0, 2, 2, 2, 5, 0, 4, 7, 4, 9,\n",
      "                   3, 6, 6, 2, 5, 0, 6, 0, 9, 4, 6, 6, 1, 7, 3, 2, 6, 3, 9, 6, 4, 6, 4, 9,\n",
      "                   8, 2, 0, 7, 6, 0, 6, 6, 4, 1, 7, 4, 9, 9, 7, 4, 7, 2, 6, 0, 2, 9, 6, 6,\n",
      "                   1, 0, 1, 8, 8, 1, 8, 5])),\n",
      "               names=('seeds', 'labels'),\n",
      "           ),\n",
      "           train_set=ItemSet(\n",
      "               items=(tensor([500, 788, 278, 865,  12, 655, 905, 233,  47, 459,  74, 850, 344, 508,\n",
      "                   953, 366, 555, 620, 229, 288, 636,  60, 422, 704, 937, 668, 764, 191,\n",
      "                    41, 167, 455, 776, 354, 358, 739, 252, 777, 598, 394, 894, 395, 114,\n",
      "                   237, 334, 111,  13, 524, 751, 415, 506, 125,  35, 533, 391, 996, 779,\n",
      "                   722,   3, 107, 675, 305, 711, 683, 258, 295, 741, 591, 436, 516, 935,\n",
      "                   547, 920, 992, 841, 293, 151, 801, 639, 869,   1, 316, 984, 467, 428,\n",
      "                   383, 691, 583, 532, 201, 573, 686, 813, 361, 692, 578, 673, 526, 917,\n",
      "                    69, 839, 994, 872,  31, 975, 405, 560, 349, 310, 247, 181, 282, 557,\n",
      "                   273, 496, 847, 770, 585, 399, 733, 325, 735, 852,  32, 502, 821, 197,\n",
      "                   631, 762, 256, 202, 626, 565, 696,  62, 393, 225, 957, 254, 189, 186,\n",
      "                   328, 382, 908, 149, 973, 716, 452, 195, 257, 166, 790, 642, 580,  99,\n",
      "                   628, 447, 520, 749, 527, 998, 845, 368, 251,  10, 689, 734, 938, 849,\n",
      "                   646,  21, 265, 357, 780,  20, 152, 312, 369, 341, 456,  56, 939, 997,\n",
      "                   893, 199, 731, 371, 309,   4, 277, 439, 663, 477, 802, 954, 750, 311,\n",
      "                   449, 826, 530, 556, 645, 921,  42, 322, 512, 513, 891, 940, 519, 960,\n",
      "                   437, 854, 396,  39, 153, 158, 397, 427, 637, 319, 594, 820, 703, 210,\n",
      "                   146, 176, 800,  76, 873,   6, 613,  38, 535, 404, 577, 104, 806, 462,\n",
      "                   858,  95, 765, 479, 726, 887, 137, 384, 269, 618, 120, 786, 609, 465,\n",
      "                   169, 991,  36, 285,  87, 461, 827, 286, 588, 592,  45, 640, 828, 306,\n",
      "                   679, 861, 778, 687, 851, 483, 135, 352,  17, 118,  98, 737, 705, 353,\n",
      "                   315, 239, 359, 487, 261, 796, 567, 983, 844, 255,   8, 538, 659,  53,\n",
      "                   715, 182, 781, 446, 784, 280,  34, 752, 746,  86, 485, 160, 148, 574,\n",
      "                   356, 511, 188, 753, 297, 714, 454, 980, 909,  65, 402, 150, 276, 205,\n",
      "                   329, 936, 732, 296,  33, 374, 837, 688, 423, 881, 192, 264, 525, 652,\n",
      "                   363, 171,  92, 289, 571, 916, 651, 177, 515, 724, 147,  40, 388,  91,\n",
      "                   238, 213, 718, 956, 203, 720, 712, 507, 699, 674, 682, 262, 606, 131,\n",
      "                   793, 868, 303, 445, 101, 243, 253, 904, 222, 890, 115, 472, 172, 599,\n",
      "                   381, 480,  51, 876,  83,  90, 797, 661, 669, 178, 744, 995, 864, 608,\n",
      "                    66, 168, 457, 822, 785,  64, 928, 498, 569, 499, 425, 710, 586, 324,\n",
      "                   164, 196, 453, 903, 117, 757, 337, 621,  77, 815, 375, 432, 634, 529,\n",
      "                   102, 523, 955, 224, 410, 685, 528, 121, 910, 220, 246, 648, 416, 517,\n",
      "                   879, 240, 933, 165, 759, 180, 159, 614, 170, 667, 945, 878, 774, 824,\n",
      "                   946, 126, 141, 227, 968, 767, 193, 544, 370, 886, 307, 615, 988, 681,\n",
      "                   187, 400, 870, 242, 627, 275, 144, 563, 799, 629, 772, 853,  97, 789,\n",
      "                    79, 758,   7, 540, 365, 811, 830, 464, 987, 128, 130, 619, 572, 884,\n",
      "                   743, 906, 596, 814, 843, 360, 600, 725,  15,  18, 162, 218, 707, 327,\n",
      "                   717, 566, 377, 109, 632, 478, 949, 947, 304, 907,  88, 245,  82, 989,\n",
      "                     0, 665, 808, 915, 207, 194, 559, 271, 469, 348, 944, 597, 474, 880,\n",
      "                   230, 595, 290, 700, 695,  44, 173, 342, 495, 407, 768,  46, 831,  85,\n",
      "                   552, 510, 647, 299, 231, 962, 653, 543, 270, 727, 105, 156, 587, 867,\n",
      "                   431, 217, 232, 970, 129, 931, 154, 721, 302, 174, 602, 214, 633, 486,\n",
      "                    70, 660, 855, 475, 318, 139, 347, 871, 314, 421,  73, 216, 747, 677,\n",
      "                   990, 713, 494, 300, 331, 630, 951, 409, 719, 611, 736, 969],\n",
      "                  dtype=torch.int32), tensor([5, 4, 9, 9, 8, 8, 2, 7, 9, 4, 9, 6, 2, 8, 4, 1, 4, 4, 3, 3, 4, 9, 4, 7,\n",
      "                   1, 1, 5, 6, 7, 3, 4, 4, 2, 2, 9, 3, 3, 7, 4, 3, 2, 5, 1, 2, 9, 6, 6, 2,\n",
      "                   0, 3, 8, 3, 4, 0, 2, 1, 8, 6, 7, 4, 3, 6, 1, 5, 2, 1, 3, 4, 2, 6, 0, 0,\n",
      "                   4, 0, 8, 0, 0, 2, 8, 2, 1, 8, 5, 7, 7, 2, 0, 2, 6, 3, 1, 9, 7, 9, 1, 4,\n",
      "                   6, 1, 6, 8, 8, 6, 1, 7, 2, 6, 3, 5, 4, 1, 3, 0, 1, 6, 9, 9, 3, 1, 8, 5,\n",
      "                   3, 5, 7, 0, 5, 3, 4, 3, 7, 9, 3, 4, 1, 3, 3, 5, 8, 7, 7, 3, 4, 5, 8, 3,\n",
      "                   1, 8, 9, 7, 9, 2, 3, 5, 6, 5, 3, 3, 6, 2, 5, 9, 0, 0, 4, 0, 4, 7, 3, 7,\n",
      "                   8, 7, 3, 6, 4, 8, 5, 6, 3, 9, 9, 0, 1, 7, 5, 1, 1, 1, 8, 9, 7, 2, 6, 1,\n",
      "                   7, 8, 5, 6, 1, 2, 1, 0, 3, 5, 5, 5, 1, 2, 4, 2, 3, 2, 8, 6, 1, 2, 0, 0,\n",
      "                   7, 5, 3, 5, 0, 2, 6, 1, 8, 2, 9, 8, 8, 8, 4, 0, 5, 4, 6, 5, 5, 3, 7, 1,\n",
      "                   7, 9, 0, 0, 8, 9, 4, 0, 9, 7, 5, 5, 5, 8, 2, 0, 5, 8, 4, 4, 8, 4, 1, 9,\n",
      "                   0, 1, 5, 4, 6, 3, 7, 5, 8, 7, 0, 4, 5, 7, 9, 9, 6, 3, 4, 7, 0, 7, 3, 1,\n",
      "                   0, 9, 5, 8, 4, 1, 4, 7, 4, 8, 8, 3, 6, 9, 0, 7, 4, 0, 1, 2, 6, 9, 9, 6,\n",
      "                   0, 5, 9, 2, 6, 7, 6, 9, 3, 0, 9, 8, 2, 4, 8, 1, 2, 2, 2, 2, 8, 7, 4, 4,\n",
      "                   5, 5, 1, 2, 8, 6, 9, 1, 2, 4, 0, 4, 5, 3, 0, 2, 2, 8, 1, 3, 5, 1, 4, 5,\n",
      "                   3, 9, 7, 3, 2, 9, 5, 9, 1, 5, 1, 9, 2, 2, 7, 5, 9, 7, 3, 8, 8, 5, 8, 3,\n",
      "                   9, 7, 2, 3, 1, 6, 7, 5, 2, 3, 4, 1, 1, 5, 2, 1, 5, 9, 7, 7, 7, 2, 6, 3,\n",
      "                   1, 4, 4, 4, 7, 2, 8, 7, 8, 4, 9, 7, 6, 3, 0, 5, 5, 2, 5, 0, 7, 1, 5, 9,\n",
      "                   9, 8, 8, 9, 5, 2, 6, 3, 7, 8, 4, 9, 8, 3, 3, 4, 2, 1, 0, 9, 2, 6, 7, 8,\n",
      "                   1, 5, 8, 1, 6, 6, 4, 7, 6, 4, 2, 5, 4, 4, 6, 6, 8, 6, 4, 7, 2, 2, 3, 0,\n",
      "                   3, 9, 5, 2, 6, 1, 5, 7, 7, 9, 8, 7, 7, 4, 0, 3, 0, 6, 0, 6, 6, 1, 6, 3,\n",
      "                   0, 9, 4, 0, 2, 6, 0, 0, 5, 5, 4, 9, 9, 7, 1, 1, 1, 0, 7, 5, 4, 6, 6, 5,\n",
      "                   4, 3, 4, 4, 7, 9, 7, 1, 3, 6, 2, 6, 3, 3, 7, 5, 7, 8, 9, 6, 4, 8, 2, 3,\n",
      "                   8, 9, 0, 6, 1, 5, 1, 2, 0, 0, 1, 7, 7, 8, 1, 2, 8, 3, 8, 1, 9, 9, 6, 4,\n",
      "                   3, 8, 3, 8, 2, 9, 0, 5, 7, 5, 8, 5, 9, 2, 1, 0, 8, 3, 4, 8, 2, 9, 0, 9])),\n",
      "               names=('seeds', 'labels'),\n",
      "           ),\n",
      "           test_set=ItemSet(\n",
      "               items=(tensor([122, 888, 108, 283, 244, 350, 489, 848, 471, 766, 889, 343, 622, 803,\n",
      "                   912, 589, 740, 798, 531, 323, 846, 308, 641, 403, 143, 401, 564, 836,\n",
      "                   443, 184,  37,  26, 812,  93, 249, 838, 754,  19, 448, 825, 116, 708,\n",
      "                   835, 603, 896, 832, 638, 204, 317, 698, 183, 268, 389, 440,  22, 925,\n",
      "                   274, 206,  89,  28, 748, 179,  48, 336, 862, 241, 161, 664, 923, 617,\n",
      "                   542,   9, 977,  81, 426, 601, 504, 900, 948, 593, 693, 823, 810, 539,\n",
      "                   430, 551, 680,  94, 536, 972, 339, 575, 974, 959, 466,  58, 127, 857,\n",
      "                   729, 773, 775, 119, 138, 468, 999,  49, 419, 491, 284, 702, 672, 272,\n",
      "                   411,  27, 263, 380, 755, 112, 208, 930, 132, 209, 142, 791, 211, 458,\n",
      "                   420,  30, 385, 579, 185, 550, 155, 643, 537, 901, 441, 932, 952, 321,\n",
      "                   235, 390, 976, 859, 291, 228, 684, 795, 709, 860, 133, 985, 340, 490,\n",
      "                   406, 607, 481, 534, 676, 417, 541, 476, 267, 723,  63, 522, 332, 842,\n",
      "                   219,  14, 501, 175,  11, 943, 392, 134, 898, 918, 497,  54, 330, 215,\n",
      "                   958, 650, 978, 706, 451, 875, 355, 654, 433, 568, 728, 546, 742, 818,\n",
      "                    75, 964,  43, 418], dtype=torch.int32), tensor([7, 1, 1, 3, 8, 9, 7, 4, 8, 8, 3, 1, 9, 8, 9, 1, 7, 3, 0, 1, 6, 5, 0, 2,\n",
      "                   7, 2, 7, 7, 8, 3, 5, 5, 6, 8, 6, 6, 0, 1, 3, 0, 1, 5, 3, 3, 7, 5, 9, 1,\n",
      "                   1, 0, 8, 1, 1, 2, 1, 1, 3, 8, 0, 0, 4, 7, 1, 4, 6, 4, 3, 1, 4, 1, 4, 8,\n",
      "                   6, 1, 0, 2, 9, 2, 3, 9, 0, 8, 5, 8, 5, 8, 5, 4, 7, 2, 2, 0, 1, 6, 2, 4,\n",
      "                   5, 5, 4, 6, 0, 5, 1, 9, 6, 9, 4, 4, 8, 4, 0, 6, 5, 2, 1, 3, 5, 9, 6, 1,\n",
      "                   3, 2, 3, 3, 9, 7, 4, 2, 5, 1, 2, 0, 3, 4, 1, 1, 7, 7, 4, 2, 4, 5, 8, 9,\n",
      "                   7, 8, 9, 0, 8, 0, 5, 1, 3, 5, 1, 9, 4, 0, 2, 5, 6, 5, 3, 1, 2, 6, 6, 6,\n",
      "                   7, 6, 8, 4, 4, 0, 3, 9, 9, 0, 8, 5, 3, 2, 0, 9, 9, 0, 1, 0, 9, 1, 8, 6,\n",
      "                   8, 6, 2, 0, 2, 1, 1, 2])),\n",
      "               names=('seeds', 'labels'),\n",
      "           ),\n",
      "           metadata={'name': 'node_classification', 'num_classes': 10},)\n",
      "\n",
      "Loaded link prediction task: OnDiskTask(validation_set=ItemSet(\n",
      "               items=(tensor([[667, 322],\n",
      "                   [525, 773],\n",
      "                   [883, 461],\n",
      "                   ...,\n",
      "                   [622,  42],\n",
      "                   [622, 834],\n",
      "                   [622, 477]], dtype=torch.int32), tensor([1., 1., 1.,  ..., 0., 0., 0.], dtype=torch.float64), tensor([   0,    1,    2,  ..., 1999, 1999, 1999])),\n",
      "               names=('seeds', 'labels', 'indexes'),\n",
      "           ),\n",
      "           train_set=ItemSet(\n",
      "               items=(tensor([[ 18,  42],\n",
      "                   [744, 814],\n",
      "                   [ 13,  93],\n",
      "                   ...,\n",
      "                   [446, 649],\n",
      "                   [ 37, 394],\n",
      "                   [469, 313]], dtype=torch.int32),),\n",
      "               names=('seeds',),\n",
      "           ),\n",
      "           test_set=ItemSet(\n",
      "               items=(tensor([[377, 689],\n",
      "                   [694, 655],\n",
      "                   [852, 235],\n",
      "                   ...,\n",
      "                   [ 89, 156],\n",
      "                   [ 89, 593],\n",
      "                   [ 89, 616]], dtype=torch.int32), tensor([1., 1., 1.,  ..., 0., 0., 0.], dtype=torch.float64), tensor([   0,    1,    2,  ..., 1999, 1999, 1999])),\n",
      "               names=('seeds', 'labels', 'indexes'),\n",
      "           ),\n",
      "           metadata={'name': 'link_prediction', 'num_classes': 10},)\n",
      "\n"
     ]
    },
    {
     "name": "stderr",
     "output_type": "stream",
     "text": [
      "/home/ubuntu/regression_test/dgl/python/dgl/graphbolt/internal/utils.py:31: FutureWarning: You are using `torch.load` with `weights_only=False` (the current default value), which uses the default pickle module implicitly. It is possible to construct malicious pickle data which will execute arbitrary code during unpickling (See https://github.com/pytorch/pytorch/blob/main/SECURITY.md#untrusted-models for more details). In a future release, the default value for `weights_only` will be flipped to `True`. This limits the functions that could be executed during unpickling. Arbitrary objects will no longer be allowed to be loaded via this mode unless they are explicitly allowlisted by the user via `torch.serialization.add_safe_globals`. We recommend you start setting `weights_only=True` for any use case where you don't have full control of the loaded file. Please open an issue on GitHub for any issues related to this experimental feature.\n",
      "  return torch.load(path)\n",
      "/home/ubuntu/regression_test/dgl/python/dgl/graphbolt/impl/ondisk_dataset.py:463: GBWarning: Edge feature is stored, but edge IDs are not saved.\n",
      "  gb_warning(\"Edge feature is stored, but edge IDs are not saved.\")\n",
      "/home/ubuntu/regression_test/dgl/python/dgl/graphbolt/impl/ondisk_dataset.py:855: FutureWarning: You are using `torch.load` with `weights_only=False` (the current default value), which uses the default pickle module implicitly. It is possible to construct malicious pickle data which will execute arbitrary code during unpickling (See https://github.com/pytorch/pytorch/blob/main/SECURITY.md#untrusted-models for more details). In a future release, the default value for `weights_only` will be flipped to `True`. This limits the functions that could be executed during unpickling. Arbitrary objects will no longer be allowed to be loaded via this mode unless they are explicitly allowlisted by the user via `torch.serialization.add_safe_globals`. We recommend you start setting `weights_only=True` for any use case where you don't have full control of the loaded file. Please open an issue on GitHub for any issues related to this experimental feature.\n",
      "  return torch.load(graph_topology.path)\n"
     ]
    }
   ],
   "source": [
    "dataset = gb.OnDiskDataset(base_dir).load()\n",
    "graph = dataset.graph\n",
    "print(f\"Loaded graph: {graph}\\n\")\n",
    "\n",
    "feature = dataset.feature\n",
    "print(f\"Loaded feature store: {feature}\\n\")\n",
    "\n",
    "tasks = dataset.tasks\n",
    "nc_task = tasks[0]\n",
    "print(f\"Loaded node classification task: {nc_task}\\n\")\n",
    "lp_task = tasks[1]\n",
    "print(f\"Loaded link prediction task: {lp_task}\\n\")"
   ]
  }
 ],
 "metadata": {
  "colab": {
   "private_outputs": true,
   "provenance": []
  },
  "kernelspec": {
   "display_name": "Python 3",
   "name": "python3"
  },
  "language_info": {
   "codemirror_mode": {
    "name": "ipython",
    "version": 3
   },
   "file_extension": ".py",
   "mimetype": "text/x-python",
   "name": "python",
   "nbconvert_exporter": "python",
   "pygments_lexer": "ipython3",
   "version": "3.10.14"
  }
 },
 "nbformat": 4,
 "nbformat_minor": 0
}

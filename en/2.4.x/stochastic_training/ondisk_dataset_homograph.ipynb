{
 "cells": [
  {
   "cell_type": "markdown",
   "metadata": {
    "id": "FnFhPMaAfLtJ"
   },
   "source": [
    "# OnDiskDataset for Homogeneous Graph\n",
    "\n",
    "[![Open In Colab](https://colab.research.google.com/assets/colab-badge.svg)](https://colab.research.google.com/github/dmlc/dgl/blob/master/notebooks/stochastic_training/ondisk_dataset_homograph.ipynb) [![GitHub](https://img.shields.io/badge/-View%20on%20GitHub-181717?logo=github&logoColor=ffffff)](https://github.com/dmlc/dgl/blob/master/notebooks/stochastic_training/ondisk_dataset_homograph.ipynb)\n",
    "\n",
    "This tutorial shows how to create `OnDiskDataset` for homogeneous graph that could be used in **GraphBolt** framework.\n",
    "\n",
    "By the end of this tutorial, you will be able to\n",
    "\n",
    "- organize graph structure data.\n",
    "- organize feature data.\n",
    "- organize training/validation/test set for specific tasks.\n",
    "\n",
    "To create an ``OnDiskDataset`` object, you need to organize all the data including graph structure, feature data and tasks into a directory. The directory should contain a ``metadata.yaml`` file that describes the metadata of the dataset.\n",
    "\n",
    "Now let's generate various data step by step and organize them together to instantiate `OnDiskDataset` finally."
   ]
  },
  {
   "cell_type": "markdown",
   "metadata": {
    "id": "Wlb19DtWgtzq"
   },
   "source": [
    "## Install DGL package"
   ]
  },
  {
   "cell_type": "code",
   "execution_count": 1,
   "metadata": {
    "execution": {
     "iopub.execute_input": "2024-08-27T06:54:34.142665Z",
     "iopub.status.busy": "2024-08-27T06:54:34.142363Z",
     "iopub.status.idle": "2024-08-27T06:54:37.850905Z",
     "shell.execute_reply": "2024-08-27T06:54:37.850258Z"
    },
    "id": "UojlT9ZGgyr9"
   },
   "outputs": [
    {
     "name": "stdout",
     "output_type": "stream",
     "text": [
      "Looking in links: https://data.dgl.ai/wheels-test/repo.html\r\n",
      "Requirement already satisfied: dgl in /opt/conda/envs/dgl-dev-cpu/lib/python3.10/site-packages (2.2a240410)\r\n",
      "Requirement already satisfied: numpy>=1.14.0 in /opt/conda/envs/dgl-dev-cpu/lib/python3.10/site-packages (from dgl) (1.26.4)\r\n",
      "Requirement already satisfied: scipy>=1.1.0 in /opt/conda/envs/dgl-dev-cpu/lib/python3.10/site-packages (from dgl) (1.14.0)\r\n",
      "Requirement already satisfied: networkx>=2.1 in /opt/conda/envs/dgl-dev-cpu/lib/python3.10/site-packages (from dgl) (3.3)\r\n",
      "Requirement already satisfied: requests>=2.19.0 in /opt/conda/envs/dgl-dev-cpu/lib/python3.10/site-packages (from dgl) (2.32.3)\r\n",
      "Requirement already satisfied: tqdm in /opt/conda/envs/dgl-dev-cpu/lib/python3.10/site-packages (from dgl) (4.66.5)\r\n",
      "Requirement already satisfied: psutil>=5.8.0 in /opt/conda/envs/dgl-dev-cpu/lib/python3.10/site-packages (from dgl) (6.0.0)\r\n",
      "Requirement already satisfied: torchdata>=0.5.0 in /opt/conda/envs/dgl-dev-cpu/lib/python3.10/site-packages (from dgl) (0.7.1)\r\n",
      "Requirement already satisfied: pandas in /opt/conda/envs/dgl-dev-cpu/lib/python3.10/site-packages (from dgl) (2.2.2)\r\n"
     ]
    },
    {
     "name": "stdout",
     "output_type": "stream",
     "text": [
      "Requirement already satisfied: charset-normalizer<4,>=2 in /opt/conda/envs/dgl-dev-cpu/lib/python3.10/site-packages (from requests>=2.19.0->dgl) (3.3.2)\r\n",
      "Requirement already satisfied: idna<4,>=2.5 in /opt/conda/envs/dgl-dev-cpu/lib/python3.10/site-packages (from requests>=2.19.0->dgl) (3.8)\r\n",
      "Requirement already satisfied: urllib3<3,>=1.21.1 in /opt/conda/envs/dgl-dev-cpu/lib/python3.10/site-packages (from requests>=2.19.0->dgl) (2.2.2)\r\n",
      "Requirement already satisfied: certifi>=2017.4.17 in /opt/conda/envs/dgl-dev-cpu/lib/python3.10/site-packages (from requests>=2.19.0->dgl) (2024.7.4)\r\n",
      "Requirement already satisfied: torch>=2 in /opt/conda/envs/dgl-dev-cpu/lib/python3.10/site-packages (from torchdata>=0.5.0->dgl) (2.4.0+cpu)\r\n"
     ]
    },
    {
     "name": "stdout",
     "output_type": "stream",
     "text": [
      "Requirement already satisfied: python-dateutil>=2.8.2 in /opt/conda/envs/dgl-dev-cpu/lib/python3.10/site-packages (from pandas->dgl) (2.9.0.post0)\r\n",
      "Requirement already satisfied: pytz>=2020.1 in /opt/conda/envs/dgl-dev-cpu/lib/python3.10/site-packages (from pandas->dgl) (2024.1)\r\n",
      "Requirement already satisfied: tzdata>=2022.7 in /opt/conda/envs/dgl-dev-cpu/lib/python3.10/site-packages (from pandas->dgl) (2024.1)\r\n",
      "Requirement already satisfied: six>=1.5 in /opt/conda/envs/dgl-dev-cpu/lib/python3.10/site-packages (from python-dateutil>=2.8.2->pandas->dgl) (1.16.0)\r\n",
      "Requirement already satisfied: filelock in /opt/conda/envs/dgl-dev-cpu/lib/python3.10/site-packages (from torch>=2->torchdata>=0.5.0->dgl) (3.15.4)\r\n",
      "Requirement already satisfied: typing-extensions>=4.8.0 in /opt/conda/envs/dgl-dev-cpu/lib/python3.10/site-packages (from torch>=2->torchdata>=0.5.0->dgl) (4.12.2)\r\n",
      "Requirement already satisfied: sympy in /opt/conda/envs/dgl-dev-cpu/lib/python3.10/site-packages (from torch>=2->torchdata>=0.5.0->dgl) (1.13.2)\r\n",
      "Requirement already satisfied: jinja2 in /opt/conda/envs/dgl-dev-cpu/lib/python3.10/site-packages (from torch>=2->torchdata>=0.5.0->dgl) (3.1.4)\r\n",
      "Requirement already satisfied: fsspec in /opt/conda/envs/dgl-dev-cpu/lib/python3.10/site-packages (from torch>=2->torchdata>=0.5.0->dgl) (2024.6.1)\r\n"
     ]
    },
    {
     "name": "stdout",
     "output_type": "stream",
     "text": [
      "Requirement already satisfied: MarkupSafe>=2.0 in /opt/conda/envs/dgl-dev-cpu/lib/python3.10/site-packages (from jinja2->torch>=2->torchdata>=0.5.0->dgl) (2.1.5)\r\n",
      "Requirement already satisfied: mpmath<1.4,>=1.1.0 in /opt/conda/envs/dgl-dev-cpu/lib/python3.10/site-packages (from sympy->torch>=2->torchdata>=0.5.0->dgl) (1.3.0)\r\n"
     ]
    },
    {
     "name": "stdout",
     "output_type": "stream",
     "text": [
      "DGL installed!\n"
     ]
    }
   ],
   "source": [
    "# Install required packages.\n",
    "import os\n",
    "import torch\n",
    "import numpy as np\n",
    "os.environ['TORCH'] = torch.__version__\n",
    "os.environ['DGLBACKEND'] = \"pytorch\"\n",
    "\n",
    "# Install the CPU version.\n",
    "device = torch.device(\"cpu\")\n",
    "!pip install --pre dgl -f https://data.dgl.ai/wheels-test/repo.html\n",
    "\n",
    "try:\n",
    "    import dgl\n",
    "    import dgl.graphbolt as gb\n",
    "    installed = True\n",
    "except ImportError as error:\n",
    "    installed = False\n",
    "    print(error)\n",
    "print(\"DGL installed!\" if installed else \"DGL not found!\")"
   ]
  },
  {
   "cell_type": "markdown",
   "metadata": {
    "id": "2R7WnSbjsfbr"
   },
   "source": [
    "## Data preparation\n",
    "In order to demonstrate how to organize various data, let's create a base directory first."
   ]
  },
  {
   "cell_type": "code",
   "execution_count": 2,
   "metadata": {
    "execution": {
     "iopub.execute_input": "2024-08-27T06:54:37.854063Z",
     "iopub.status.busy": "2024-08-27T06:54:37.853462Z",
     "iopub.status.idle": "2024-08-27T06:54:37.857426Z",
     "shell.execute_reply": "2024-08-27T06:54:37.856770Z"
    },
    "id": "SZipbzyltLfO"
   },
   "outputs": [
    {
     "name": "stdout",
     "output_type": "stream",
     "text": [
      "Created base directory: ./ondisk_dataset_homograph\n"
     ]
    }
   ],
   "source": [
    "base_dir = './ondisk_dataset_homograph'\n",
    "os.makedirs(base_dir, exist_ok=True)\n",
    "print(f\"Created base directory: {base_dir}\")"
   ]
  },
  {
   "cell_type": "markdown",
   "metadata": {
    "id": "qhNtIn_xhlnl"
   },
   "source": [
    "### Generate graph structure data\n",
    "For homogeneous graph, we just need to save edges(namely seeds) into  **Numpy** or **CSV** file.\n",
    "\n",
    "Note:\n",
    "- when saving to **Numpy**, the array requires to be in shape of `(2, N)`. This format is recommended as constructing graph from it is much faster than **CSV** file.\n",
    "- when saving to **CSV** file, do not save index and header.\n"
   ]
  },
  {
   "cell_type": "code",
   "execution_count": 3,
   "metadata": {
    "execution": {
     "iopub.execute_input": "2024-08-27T06:54:37.859805Z",
     "iopub.status.busy": "2024-08-27T06:54:37.859490Z",
     "iopub.status.idle": "2024-08-27T06:54:37.872761Z",
     "shell.execute_reply": "2024-08-27T06:54:37.871991Z"
    },
    "id": "HcBt4G5BmSjr"
   },
   "outputs": [
    {
     "name": "stdout",
     "output_type": "stream",
     "text": [
      "Part of edges: [[108  48]\n",
      " [213 719]\n",
      " [127 918]\n",
      " [369 217]\n",
      " [176 971]]\n",
      "Edges are saved into ./ondisk_dataset_homograph/edges.csv\n"
     ]
    }
   ],
   "source": [
    "import numpy as np\n",
    "import pandas as pd\n",
    "num_nodes = 1000\n",
    "num_edges = 10 * num_nodes\n",
    "edges_path = os.path.join(base_dir, \"edges.csv\")\n",
    "edges = np.random.randint(0, num_nodes, size=(num_edges, 2))\n",
    "\n",
    "print(f\"Part of edges: {edges[:5, :]}\")\n",
    "\n",
    "df = pd.DataFrame(edges)\n",
    "df.to_csv(edges_path, index=False, header=False)\n",
    "\n",
    "print(f\"Edges are saved into {edges_path}\")"
   ]
  },
  {
   "cell_type": "markdown",
   "metadata": {
    "id": "kh-4cPtzpcaH"
   },
   "source": [
    "### Generate feature data for graph\n",
    "For feature data, numpy arrays and torch tensors are supported for now."
   ]
  },
  {
   "cell_type": "code",
   "execution_count": 4,
   "metadata": {
    "execution": {
     "iopub.execute_input": "2024-08-27T06:54:37.875294Z",
     "iopub.status.busy": "2024-08-27T06:54:37.874989Z",
     "iopub.status.idle": "2024-08-27T06:54:37.906116Z",
     "shell.execute_reply": "2024-08-27T06:54:37.905628Z"
    },
    "id": "_PVu1u5brBhF"
   },
   "outputs": [
    {
     "name": "stdout",
     "output_type": "stream",
     "text": [
      "Part of node feature [feat_0]: [[0.73739727 0.50016974 0.73937796 0.5833202  0.52020806]\n",
      " [0.38126775 0.64300545 0.68701623 0.25238726 0.94151633]\n",
      " [0.29312158 0.69704904 0.74483886 0.46956787 0.57015958]]\n",
      "Node feature [feat_0] is saved to ./ondisk_dataset_homograph/node-feat-0.npy\n",
      "\n",
      "Part of node feature [feat_1]: tensor([[0.3974, 0.8507, 0.4697, 0.9098, 0.4027],\n",
      "        [0.8245, 0.4868, 0.4470, 0.2766, 0.7070],\n",
      "        [0.1472, 0.7398, 0.0807, 0.6122, 0.3893]])\n",
      "Node feature [feat_1] is saved to ./ondisk_dataset_homograph/node-feat-1.pt\n",
      "\n",
      "Part of edge feature [feat_0]: [[0.19373674 0.67521146 0.14601847 0.57903907 0.80795424]\n",
      " [0.05488164 0.10055419 0.57204944 0.97419252 0.5779044 ]\n",
      " [0.32241934 0.88107569 0.70695833 0.93323248 0.92289113]]\n",
      "Edge feature [feat_0] is saved to ./ondisk_dataset_homograph/edge-feat-0.npy\n",
      "\n",
      "Part of edge feature [feat_1]: tensor([[0.5360, 0.7974, 0.7355, 0.8161, 0.2232],\n",
      "        [0.2089, 0.2765, 0.5347, 0.1457, 0.9462],\n",
      "        [0.0653, 0.9910, 0.9101, 0.9627, 0.4272]])\n",
      "Edge feature [feat_1] is saved to ./ondisk_dataset_homograph/edge-feat-1.pt\n",
      "\n"
     ]
    }
   ],
   "source": [
    "# Generate node feature in numpy array.\n",
    "node_feat_0_path = os.path.join(base_dir, \"node-feat-0.npy\")\n",
    "node_feat_0 = np.random.rand(num_nodes, 5)\n",
    "print(f\"Part of node feature [feat_0]: {node_feat_0[:3, :]}\")\n",
    "np.save(node_feat_0_path, node_feat_0)\n",
    "print(f\"Node feature [feat_0] is saved to {node_feat_0_path}\\n\")\n",
    "\n",
    "# Generate another node feature in torch tensor\n",
    "node_feat_1_path = os.path.join(base_dir, \"node-feat-1.pt\")\n",
    "node_feat_1 = torch.rand(num_nodes, 5)\n",
    "print(f\"Part of node feature [feat_1]: {node_feat_1[:3, :]}\")\n",
    "torch.save(node_feat_1, node_feat_1_path)\n",
    "print(f\"Node feature [feat_1] is saved to {node_feat_1_path}\\n\")\n",
    "\n",
    "# Generate edge feature in numpy array.\n",
    "edge_feat_0_path = os.path.join(base_dir, \"edge-feat-0.npy\")\n",
    "edge_feat_0 = np.random.rand(num_edges, 5)\n",
    "print(f\"Part of edge feature [feat_0]: {edge_feat_0[:3, :]}\")\n",
    "np.save(edge_feat_0_path, edge_feat_0)\n",
    "print(f\"Edge feature [feat_0] is saved to {edge_feat_0_path}\\n\")\n",
    "\n",
    "# Generate another edge feature in torch tensor\n",
    "edge_feat_1_path = os.path.join(base_dir, \"edge-feat-1.pt\")\n",
    "edge_feat_1 = torch.rand(num_edges, 5)\n",
    "print(f\"Part of edge feature [feat_1]: {edge_feat_1[:3, :]}\")\n",
    "torch.save(edge_feat_1, edge_feat_1_path)\n",
    "print(f\"Edge feature [feat_1] is saved to {edge_feat_1_path}\\n\")\n"
   ]
  },
  {
   "cell_type": "markdown",
   "metadata": {
    "id": "ZyqgOtsIwzh_"
   },
   "source": [
    "### Generate tasks\n",
    "`OnDiskDataset` supports multiple tasks. For each task, we need to prepare training/validation/test sets respectively. Such sets usually vary among different tasks. In this tutorial, let's create a **Node Classification** task and **Link Prediction** task."
   ]
  },
  {
   "cell_type": "markdown",
   "metadata": {
    "id": "hVxHaDIfzCkr"
   },
   "source": [
    "#### Node Classification Task\n",
    "For node classification task, we need **node IDs** and corresponding **labels** for each training/validation/test set. Like feature data, numpy arrays and torch tensors are supported for these sets."
   ]
  },
  {
   "cell_type": "code",
   "execution_count": 5,
   "metadata": {
    "execution": {
     "iopub.execute_input": "2024-08-27T06:54:37.908520Z",
     "iopub.status.busy": "2024-08-27T06:54:37.908133Z",
     "iopub.status.idle": "2024-08-27T06:54:37.917641Z",
     "shell.execute_reply": "2024-08-27T06:54:37.917152Z"
    },
    "id": "S5-fyBbHzTCO"
   },
   "outputs": [
    {
     "name": "stdout",
     "output_type": "stream",
     "text": [
      "Part of train ids for node classification: [ 40 179 614]\n",
      "NC train ids are saved to ./ondisk_dataset_homograph/nc-train-ids.npy\n",
      "\n",
      "Part of train labels for node classification: tensor([1, 1, 6])\n",
      "NC train labels are saved to ./ondisk_dataset_homograph/nc-train-labels.pt\n",
      "\n",
      "Part of val ids for node classification: [199 297 838]\n",
      "NC val ids are saved to ./ondisk_dataset_homograph/nc-val-ids.npy\n",
      "\n",
      "Part of val labels for node classification: tensor([7, 8, 9])\n",
      "NC val labels are saved to ./ondisk_dataset_homograph/nc-val-labels.pt\n",
      "\n",
      "Part of test ids for node classification: [735 173  34]\n",
      "NC test ids are saved to ./ondisk_dataset_homograph/nc-test-ids.npy\n",
      "\n",
      "Part of test labels for node classification: tensor([8, 3, 1])\n",
      "NC test labels are saved to ./ondisk_dataset_homograph/nc-test-labels.pt\n",
      "\n"
     ]
    }
   ],
   "source": [
    "num_trains = int(num_nodes * 0.6)\n",
    "num_vals = int(num_nodes * 0.2)\n",
    "num_tests = num_nodes - num_trains - num_vals\n",
    "\n",
    "ids = np.arange(num_nodes)\n",
    "np.random.shuffle(ids)\n",
    "\n",
    "nc_train_ids_path = os.path.join(base_dir, \"nc-train-ids.npy\")\n",
    "nc_train_ids = ids[:num_trains]\n",
    "print(f\"Part of train ids for node classification: {nc_train_ids[:3]}\")\n",
    "np.save(nc_train_ids_path, nc_train_ids)\n",
    "print(f\"NC train ids are saved to {nc_train_ids_path}\\n\")\n",
    "\n",
    "nc_train_labels_path = os.path.join(base_dir, \"nc-train-labels.pt\")\n",
    "nc_train_labels = torch.randint(0, 10, (num_trains,))\n",
    "print(f\"Part of train labels for node classification: {nc_train_labels[:3]}\")\n",
    "torch.save(nc_train_labels, nc_train_labels_path)\n",
    "print(f\"NC train labels are saved to {nc_train_labels_path}\\n\")\n",
    "\n",
    "nc_val_ids_path = os.path.join(base_dir, \"nc-val-ids.npy\")\n",
    "nc_val_ids = ids[num_trains:num_trains+num_vals]\n",
    "print(f\"Part of val ids for node classification: {nc_val_ids[:3]}\")\n",
    "np.save(nc_val_ids_path, nc_val_ids)\n",
    "print(f\"NC val ids are saved to {nc_val_ids_path}\\n\")\n",
    "\n",
    "nc_val_labels_path = os.path.join(base_dir, \"nc-val-labels.pt\")\n",
    "nc_val_labels = torch.randint(0, 10, (num_vals,))\n",
    "print(f\"Part of val labels for node classification: {nc_val_labels[:3]}\")\n",
    "torch.save(nc_val_labels, nc_val_labels_path)\n",
    "print(f\"NC val labels are saved to {nc_val_labels_path}\\n\")\n",
    "\n",
    "nc_test_ids_path = os.path.join(base_dir, \"nc-test-ids.npy\")\n",
    "nc_test_ids = ids[-num_tests:]\n",
    "print(f\"Part of test ids for node classification: {nc_test_ids[:3]}\")\n",
    "np.save(nc_test_ids_path, nc_test_ids)\n",
    "print(f\"NC test ids are saved to {nc_test_ids_path}\\n\")\n",
    "\n",
    "nc_test_labels_path = os.path.join(base_dir, \"nc-test-labels.pt\")\n",
    "nc_test_labels = torch.randint(0, 10, (num_tests,))\n",
    "print(f\"Part of test labels for node classification: {nc_test_labels[:3]}\")\n",
    "torch.save(nc_test_labels, nc_test_labels_path)\n",
    "print(f\"NC test labels are saved to {nc_test_labels_path}\\n\")"
   ]
  },
  {
   "cell_type": "markdown",
   "metadata": {
    "id": "LhAcDCHQ_KJ0"
   },
   "source": [
    "#### Link Prediction Task\n",
    "For link prediction task, we need **seeds** or **corresponding labels and indexes** which representing the pos/neg property and group of the seeds for each training/validation/test set. Like feature data, numpy arrays and torch tensors are supported for these sets."
   ]
  },
  {
   "cell_type": "code",
   "execution_count": 6,
   "metadata": {
    "execution": {
     "iopub.execute_input": "2024-08-27T06:54:37.919921Z",
     "iopub.status.busy": "2024-08-27T06:54:37.919614Z",
     "iopub.status.idle": "2024-08-27T06:54:37.935607Z",
     "shell.execute_reply": "2024-08-27T06:54:37.935105Z"
    },
    "id": "u0jCnXIcAQy4"
   },
   "outputs": [
    {
     "name": "stdout",
     "output_type": "stream",
     "text": [
      "Part of train seeds for link prediction: [[108  48]\n",
      " [213 719]\n",
      " [127 918]]\n",
      "LP train seeds are saved to ./ondisk_dataset_homograph/lp-train-seeds.npy\n",
      "\n",
      "Part of val seeds for link prediction: [[674 457]\n",
      " [846 126]\n",
      " [ 21 372]]\n",
      "LP val seeds are saved to ./ondisk_dataset_homograph/lp-val-seeds.npy\n",
      "\n",
      "Part of val labels for link prediction: [1. 1. 1.]\n",
      "LP val labels are saved to ./ondisk_dataset_homograph/lp-val-labels.npy\n",
      "\n",
      "Part of val indexes for link prediction: [0 1 2]\n",
      "LP val indexes are saved to ./ondisk_dataset_homograph/lp-val-indexes.npy\n",
      "\n",
      "Part of test seeds for link prediction: [[889 644]\n",
      " [931 265]\n",
      " [300 480]]\n",
      "LP test seeds are saved to ./ondisk_dataset_homograph/lp-test-seeds.npy\n",
      "\n",
      "Part of val labels for link prediction: [1. 1. 1.]\n",
      "LP test labels are saved to ./ondisk_dataset_homograph/lp-test-labels.npy\n",
      "\n",
      "Part of test indexes for link prediction: [0 1 2]\n",
      "LP test indexes are saved to ./ondisk_dataset_homograph/lp-test-indexes.npy\n",
      "\n"
     ]
    }
   ],
   "source": [
    "num_trains = int(num_edges * 0.6)\n",
    "num_vals = int(num_edges * 0.2)\n",
    "num_tests = num_edges - num_trains - num_vals\n",
    "\n",
    "lp_train_seeds_path = os.path.join(base_dir, \"lp-train-seeds.npy\")\n",
    "lp_train_seeds = edges[:num_trains, :]\n",
    "print(f\"Part of train seeds for link prediction: {lp_train_seeds[:3]}\")\n",
    "np.save(lp_train_seeds_path, lp_train_seeds)\n",
    "print(f\"LP train seeds are saved to {lp_train_seeds_path}\\n\")\n",
    "\n",
    "lp_val_seeds_path = os.path.join(base_dir, \"lp-val-seeds.npy\")\n",
    "lp_val_seeds = edges[num_trains:num_trains+num_vals, :]\n",
    "lp_val_neg_dsts = np.random.randint(0, num_nodes, (num_vals, 10)).reshape(-1)\n",
    "lp_val_neg_srcs = np.repeat(lp_val_seeds[:,0], 10)\n",
    "lp_val_neg_seeds = np.concatenate((lp_val_neg_srcs, lp_val_neg_dsts)).reshape(2,-1).T\n",
    "lp_val_seeds = np.concatenate((lp_val_seeds, lp_val_neg_seeds))\n",
    "print(f\"Part of val seeds for link prediction: {lp_val_seeds[:3]}\")\n",
    "np.save(lp_val_seeds_path, lp_val_seeds)\n",
    "print(f\"LP val seeds are saved to {lp_val_seeds_path}\\n\")\n",
    "\n",
    "lp_val_labels_path = os.path.join(base_dir, \"lp-val-labels.npy\")\n",
    "lp_val_labels = np.empty(num_vals * (10 + 1))\n",
    "lp_val_labels[:num_vals] = 1\n",
    "lp_val_labels[num_vals:] = 0\n",
    "print(f\"Part of val labels for link prediction: {lp_val_labels[:3]}\")\n",
    "np.save(lp_val_labels_path, lp_val_labels)\n",
    "print(f\"LP val labels are saved to {lp_val_labels_path}\\n\")\n",
    "\n",
    "lp_val_indexes_path = os.path.join(base_dir, \"lp-val-indexes.npy\")\n",
    "lp_val_indexes = np.arange(0, num_vals)\n",
    "lp_val_neg_indexes = np.repeat(lp_val_indexes, 10)\n",
    "lp_val_indexes = np.concatenate([lp_val_indexes, lp_val_neg_indexes])\n",
    "print(f\"Part of val indexes for link prediction: {lp_val_indexes[:3]}\")\n",
    "np.save(lp_val_indexes_path, lp_val_indexes)\n",
    "print(f\"LP val indexes are saved to {lp_val_indexes_path}\\n\")\n",
    "\n",
    "lp_test_seeds_path = os.path.join(base_dir, \"lp-test-seeds.npy\")\n",
    "lp_test_seeds = edges[-num_tests:, :]\n",
    "lp_test_neg_dsts = np.random.randint(0, num_nodes, (num_tests, 10)).reshape(-1)\n",
    "lp_test_neg_srcs = np.repeat(lp_test_seeds[:,0], 10)\n",
    "lp_test_neg_seeds = np.concatenate((lp_test_neg_srcs, lp_test_neg_dsts)).reshape(2,-1).T\n",
    "lp_test_seeds = np.concatenate((lp_test_seeds, lp_test_neg_seeds))\n",
    "print(f\"Part of test seeds for link prediction: {lp_test_seeds[:3]}\")\n",
    "np.save(lp_test_seeds_path, lp_test_seeds)\n",
    "print(f\"LP test seeds are saved to {lp_test_seeds_path}\\n\")\n",
    "\n",
    "lp_test_labels_path = os.path.join(base_dir, \"lp-test-labels.npy\")\n",
    "lp_test_labels = np.empty(num_tests * (10 + 1))\n",
    "lp_test_labels[:num_tests] = 1\n",
    "lp_test_labels[num_tests:] = 0\n",
    "print(f\"Part of val labels for link prediction: {lp_test_labels[:3]}\")\n",
    "np.save(lp_test_labels_path, lp_test_labels)\n",
    "print(f\"LP test labels are saved to {lp_test_labels_path}\\n\")\n",
    "\n",
    "lp_test_indexes_path = os.path.join(base_dir, \"lp-test-indexes.npy\")\n",
    "lp_test_indexes = np.arange(0, num_tests)\n",
    "lp_test_neg_indexes = np.repeat(lp_test_indexes, 10)\n",
    "lp_test_indexes = np.concatenate([lp_test_indexes, lp_test_neg_indexes])\n",
    "print(f\"Part of test indexes for link prediction: {lp_test_indexes[:3]}\")\n",
    "np.save(lp_test_indexes_path, lp_test_indexes)\n",
    "print(f\"LP test indexes are saved to {lp_test_indexes_path}\\n\")"
   ]
  },
  {
   "cell_type": "markdown",
   "metadata": {
    "id": "wbk6-wxRK-6S"
   },
   "source": [
    "## Organize Data into YAML File\n",
    "Now we need to create a `metadata.yaml` file which contains the paths, dadta types of graph structure, feature data, training/validation/test sets.\n",
    "\n",
    "Notes:\n",
    "- all path should be relative to `metadata.yaml`.\n",
    "- Below fields are optional and not specified in below example.\n",
    "  - `in_memory`: indicates whether to load dada into memory or `mmap`. Default is `True`.\n",
    "\n",
    "Please refer to [YAML specification](https://github.com/dmlc/dgl/blob/master/docs/source/stochastic_training/ondisk-dataset-specification.rst) for more details."
   ]
  },
  {
   "cell_type": "code",
   "execution_count": 7,
   "metadata": {
    "execution": {
     "iopub.execute_input": "2024-08-27T06:54:37.937968Z",
     "iopub.status.busy": "2024-08-27T06:54:37.937591Z",
     "iopub.status.idle": "2024-08-27T06:54:37.942644Z",
     "shell.execute_reply": "2024-08-27T06:54:37.942166Z"
    },
    "id": "ddGTWW61Lpwp"
   },
   "outputs": [],
   "source": [
    "yaml_content = f\"\"\"\n",
    "    dataset_name: homogeneous_graph_nc_lp\n",
    "    graph:\n",
    "      nodes:\n",
    "        - num: {num_nodes}\n",
    "      edges:\n",
    "        - format: csv\n",
    "          path: {os.path.basename(edges_path)}\n",
    "    feature_data:\n",
    "      - domain: node\n",
    "        name: feat_0\n",
    "        format: numpy\n",
    "        path: {os.path.basename(node_feat_0_path)}\n",
    "      - domain: node\n",
    "        name: feat_1\n",
    "        format: torch\n",
    "        path: {os.path.basename(node_feat_1_path)}\n",
    "      - domain: edge\n",
    "        name: feat_0\n",
    "        format: numpy\n",
    "        path: {os.path.basename(edge_feat_0_path)}\n",
    "      - domain: edge\n",
    "        name: feat_1\n",
    "        format: torch\n",
    "        path: {os.path.basename(edge_feat_1_path)}\n",
    "    tasks:\n",
    "      - name: node_classification\n",
    "        num_classes: 10\n",
    "        train_set:\n",
    "          - data:\n",
    "              - name: seeds\n",
    "                format: numpy\n",
    "                path: {os.path.basename(nc_train_ids_path)}\n",
    "              - name: labels\n",
    "                format: torch\n",
    "                path: {os.path.basename(nc_train_labels_path)}\n",
    "        validation_set:\n",
    "          - data:\n",
    "              - name: seeds\n",
    "                format: numpy\n",
    "                path: {os.path.basename(nc_val_ids_path)}\n",
    "              - name: labels\n",
    "                format: torch\n",
    "                path: {os.path.basename(nc_val_labels_path)}\n",
    "        test_set:\n",
    "          - data:\n",
    "              - name: seeds\n",
    "                format: numpy\n",
    "                path: {os.path.basename(nc_test_ids_path)}\n",
    "              - name: labels\n",
    "                format: torch\n",
    "                path: {os.path.basename(nc_test_labels_path)}\n",
    "      - name: link_prediction\n",
    "        num_classes: 10\n",
    "        train_set:\n",
    "          - data:\n",
    "              - name: seeds\n",
    "                format: numpy\n",
    "                path: {os.path.basename(lp_train_seeds_path)}\n",
    "        validation_set:\n",
    "          - data:\n",
    "              - name: seeds\n",
    "                format: numpy\n",
    "                path: {os.path.basename(lp_val_seeds_path)}\n",
    "              - name: labels\n",
    "                format: numpy\n",
    "                path: {os.path.basename(lp_val_labels_path)}\n",
    "              - name: indexes\n",
    "                format: numpy\n",
    "                path: {os.path.basename(lp_val_indexes_path)}\n",
    "        test_set:\n",
    "          - data:\n",
    "              - name: seeds\n",
    "                format: numpy\n",
    "                path: {os.path.basename(lp_test_seeds_path)}\n",
    "              - name: labels\n",
    "                format: numpy\n",
    "                path: {os.path.basename(lp_test_labels_path)}\n",
    "              - name: indexes\n",
    "                format: numpy\n",
    "                path: {os.path.basename(lp_test_indexes_path)}\n",
    "\"\"\"\n",
    "metadata_path = os.path.join(base_dir, \"metadata.yaml\")\n",
    "with open(metadata_path, \"w\") as f:\n",
    "  f.write(yaml_content)"
   ]
  },
  {
   "cell_type": "markdown",
   "metadata": {
    "id": "kEfybHGhOW7O"
   },
   "source": [
    "## Instantiate `OnDiskDataset`\n",
    "Now we're ready to load dataset via `dgl.graphbolt.OnDiskDataset`. When instantiating, we just pass in the base directory where `metadata.yaml` file lies.\n",
    "\n",
    "During first instantiation, GraphBolt preprocesses the raw data such as constructing `FusedCSCSamplingGraph` from edges. All data including graph, feature data, training/validation/test sets are put into `preprocessed` directory after preprocessing. Any following dataset loading will skip the preprocess stage.\n",
    "\n",
    "After preprocessing, `load()` is required to be called explicitly in order to load graph, feature data and tasks."
   ]
  },
  {
   "cell_type": "code",
   "execution_count": 8,
   "metadata": {
    "execution": {
     "iopub.execute_input": "2024-08-27T06:54:37.944884Z",
     "iopub.status.busy": "2024-08-27T06:54:37.944500Z",
     "iopub.status.idle": "2024-08-27T06:54:38.029759Z",
     "shell.execute_reply": "2024-08-27T06:54:38.029204Z"
    },
    "id": "W58CZoSzOiyo"
   },
   "outputs": [
    {
     "name": "stdout",
     "output_type": "stream",
     "text": [
      "The on-disk dataset is re-preprocessing, so the existing preprocessed dataset has been removed.\n",
      "Start to preprocess the on-disk dataset.\n",
      "Finish preprocessing the on-disk dataset.\n",
      "Loaded graph: FusedCSCSamplingGraph(csc_indptr=tensor([    0,     4,    10,  ...,  9979,  9987, 10000], dtype=torch.int32),\n",
      "                      indices=tensor([345, 739, 906,  ...,  68, 678, 702], dtype=torch.int32),\n",
      "                      total_num_nodes=1000, num_edges=10000,)\n",
      "\n",
      "Loaded feature store: TorchBasedFeatureStore(\n",
      "    {(<OnDiskFeatureDataDomain.NODE: 'node'>, None, 'feat_0'): TorchBasedFeature(\n",
      "        feature=tensor([[0.7374, 0.5002, 0.7394, 0.5833, 0.5202],\n",
      "                        [0.3813, 0.6430, 0.6870, 0.2524, 0.9415],\n",
      "                        [0.2931, 0.6970, 0.7448, 0.4696, 0.5702],\n",
      "                        ...,\n",
      "                        [0.9474, 0.2111, 0.5332, 0.8119, 0.4288],\n",
      "                        [0.9783, 0.8545, 0.9512, 0.5170, 0.0757],\n",
      "                        [0.7335, 0.3043, 0.9939, 0.8039, 0.1846]], dtype=torch.float64),\n",
      "        metadata={},\n",
      "    ), (<OnDiskFeatureDataDomain.NODE: 'node'>, None, 'feat_1'): TorchBasedFeature(\n",
      "        feature=tensor([[0.3974, 0.8507, 0.4697, 0.9098, 0.4027],\n",
      "                        [0.8245, 0.4868, 0.4470, 0.2766, 0.7070],\n",
      "                        [0.1472, 0.7398, 0.0807, 0.6122, 0.3893],\n",
      "                        ...,\n",
      "                        [0.5482, 0.4371, 0.2495, 0.6716, 0.1324],\n",
      "                        [0.4447, 0.5871, 0.9455, 0.4421, 0.2023],\n",
      "                        [0.6350, 0.7337, 0.0692, 0.2369, 0.6199]]),\n",
      "        metadata={},\n",
      "    ), (<OnDiskFeatureDataDomain.EDGE: 'edge'>, None, 'feat_0'): TorchBasedFeature(\n",
      "        feature=tensor([[0.1937, 0.6752, 0.1460, 0.5790, 0.8080],\n",
      "                        [0.0549, 0.1006, 0.5720, 0.9742, 0.5779],\n",
      "                        [0.3224, 0.8811, 0.7070, 0.9332, 0.9229],\n",
      "                        ...,\n",
      "                        [0.5359, 0.8127, 0.7009, 0.9609, 0.1848],\n",
      "                        [0.2173, 0.4598, 0.8283, 0.7962, 0.6302],\n",
      "                        [0.2806, 0.4884, 0.9988, 0.1433, 0.6238]], dtype=torch.float64),\n",
      "        metadata={},\n",
      "    ), (<OnDiskFeatureDataDomain.EDGE: 'edge'>, None, 'feat_1'): TorchBasedFeature(\n",
      "        feature=tensor([[0.5360, 0.7974, 0.7355, 0.8161, 0.2232],\n",
      "                        [0.2089, 0.2765, 0.5347, 0.1457, 0.9462],\n",
      "                        [0.0653, 0.9910, 0.9101, 0.9627, 0.4272],\n",
      "                        ...,\n",
      "                        [0.6786, 0.8923, 0.5293, 0.8461, 0.0324],\n",
      "                        [0.7354, 0.0082, 0.1440, 0.1940, 0.3035],\n",
      "                        [0.3787, 0.1040, 0.0372, 0.8290, 0.7296]]),\n",
      "        metadata={},\n",
      "    )}\n",
      ")\n",
      "\n",
      "Loaded node classification task: OnDiskTask(validation_set=ItemSet(\n",
      "               items=(tensor([199, 297, 838, 692, 501,  17, 739, 689,  41, 194, 888, 446, 380,  96,\n",
      "                   120, 390, 420, 395, 298, 971, 802, 358, 492, 825, 362, 875, 659, 174,\n",
      "                   263, 801, 935,  63, 366, 478, 117, 673,  93, 167, 911, 309, 329, 617,\n",
      "                   280, 571, 569, 999, 644, 574, 331, 778, 781, 868, 403, 467, 409, 978,\n",
      "                   640, 375, 662, 407, 503, 168,  27, 700, 229,  91,  69, 648, 832,  72,\n",
      "                    13, 181, 393, 680, 518, 738, 301, 292, 861, 383, 431, 598, 737, 763,\n",
      "                   931, 920, 776,  98, 542, 612,  92,  82, 330,  31, 635, 107, 437, 684,\n",
      "                   586, 184, 830, 209, 967, 886, 435, 315, 822, 312, 922, 384,  83, 646,\n",
      "                   304, 377, 561, 742, 388,  36,  62, 509, 349, 397, 473, 899,  20, 591,\n",
      "                   642, 392, 144,  35, 957, 187, 727, 334, 287, 951, 925, 891, 350, 405,\n",
      "                   153, 152, 343, 773, 238,  84, 634, 372, 226, 367, 624, 276, 114, 137,\n",
      "                   479, 115, 327, 785, 812, 622, 348,  10, 949, 364, 774, 461, 205, 560,\n",
      "                   706, 715, 328, 955, 218, 323, 513, 462, 745, 643, 214,  57,   0, 389,\n",
      "                   752, 134, 953, 133, 505, 844, 848, 688, 524, 972, 731, 161, 145, 138,\n",
      "                   772, 363, 585, 289], dtype=torch.int32), tensor([7, 8, 9, 1, 6, 2, 5, 8, 4, 4, 5, 9, 4, 2, 2, 6, 1, 2, 1, 2, 2, 7, 6, 4,\n",
      "                   5, 4, 1, 3, 3, 1, 7, 5, 6, 8, 1, 9, 1, 4, 5, 6, 6, 6, 2, 7, 0, 0, 2, 8,\n",
      "                   2, 3, 7, 6, 5, 3, 2, 2, 1, 1, 0, 8, 9, 8, 6, 0, 3, 7, 6, 5, 9, 4, 1, 5,\n",
      "                   1, 9, 2, 4, 4, 5, 7, 4, 0, 1, 7, 6, 9, 1, 0, 4, 9, 7, 3, 6, 4, 1, 9, 4,\n",
      "                   4, 7, 0, 2, 1, 4, 5, 6, 1, 4, 1, 9, 1, 4, 8, 2, 2, 0, 9, 6, 7, 1, 1, 7,\n",
      "                   7, 9, 4, 5, 2, 5, 6, 0, 1, 2, 7, 0, 2, 6, 8, 4, 9, 6, 4, 2, 1, 5, 9, 9,\n",
      "                   9, 1, 0, 9, 1, 8, 1, 0, 2, 9, 7, 1, 1, 8, 5, 1, 3, 2, 5, 4, 9, 8, 2, 8,\n",
      "                   1, 3, 5, 6, 9, 9, 3, 1, 9, 9, 8, 3, 0, 0, 5, 4, 0, 6, 2, 3, 0, 0, 9, 2,\n",
      "                   0, 0, 7, 4, 3, 7, 5, 8])),\n",
      "               names=('seeds', 'labels'),\n",
      "           ),\n",
      "           train_set=ItemSet(\n",
      "               items=(tensor([ 40, 179, 614, 806,   4, 552, 396, 755, 878, 562, 283,   2,  19, 352,\n",
      "                   595, 606, 621, 530,  65, 525, 232, 220,  95, 867, 872, 185, 291, 163,\n",
      "                   337,  68, 212,  59, 857,   8, 101, 316, 286,  89, 493, 664, 441, 936,\n",
      "                    50, 994, 795, 216, 713, 241, 213, 668, 703, 618, 862, 529, 242, 885,\n",
      "                   400, 759, 733, 743,  54, 584, 150, 192, 122, 865, 986, 381, 898, 676,\n",
      "                   811, 912, 451, 707, 516, 415, 558, 926, 527, 681, 422,  75, 711, 609,\n",
      "                   677, 979, 907, 860, 225, 502, 325,  42, 734, 233, 429, 674, 278, 469,\n",
      "                   531, 448, 497, 402, 311, 335, 256, 794, 937, 959, 814, 444, 135, 319,\n",
      "                   930, 686, 963,  14, 587, 458, 787, 815, 201, 879, 788, 210, 391, 724,\n",
      "                   267, 900, 761, 279, 206, 131, 880, 433, 322, 484, 914, 453, 156, 151,\n",
      "                   438, 296, 980, 630, 823, 132, 807, 988, 590, 909, 207, 121, 726, 671,\n",
      "                   365, 211, 252, 572, 826, 632, 910, 538, 996, 222, 933, 270, 602, 336,\n",
      "                   790,  33,  24, 808, 854, 155, 253, 921, 428, 236, 720, 373, 559, 224,\n",
      "                   477, 633, 544, 520, 231, 443, 663, 494, 639, 819, 820, 985, 125, 657,\n",
      "                   274, 616, 556, 345, 196, 834, 943, 165, 853, 608, 852, 537, 418, 840,\n",
      "                   471, 877, 543, 746, 376, 406, 452, 566, 305, 275, 672, 203, 948, 483,\n",
      "                   596, 896, 956, 817,  90, 541, 549, 568, 260,  26, 414, 719, 119, 599,\n",
      "                   457, 427, 563, 650, 741, 828, 809,  81, 198, 370, 756, 237, 299, 693,\n",
      "                   725, 182,  60, 463, 768, 660, 813, 915,  48, 702, 669, 637, 836, 490,\n",
      "                   548, 519, 651, 992,  86, 913, 360, 998, 974, 730, 641,   3,  25, 939,\n",
      "                   142, 784, 818, 594,  43, 454, 716, 515, 908, 607, 536, 579, 510, 796,\n",
      "                   762, 708, 440,  32, 105, 789, 108, 597, 450, 398, 810, 474, 143, 550,\n",
      "                   740, 272, 928, 128, 691, 326, 521, 592, 675, 869, 611, 946, 539, 254,\n",
      "                   111, 661, 419, 793, 189, 995, 506, 623, 271, 831, 257, 412, 266, 757,\n",
      "                   445, 290, 308,  56, 379, 208, 952,  99, 764, 575, 816, 589, 342, 496,\n",
      "                   273, 202, 766, 353, 307, 339, 917, 851,  18, 960, 262, 500, 285, 984,\n",
      "                   918, 321, 466, 565, 856,  61, 475, 277, 892,  15, 394, 425, 783,   9,\n",
      "                   235, 368, 264, 302, 170, 858, 983, 894,  80, 767, 887, 166, 576, 386,\n",
      "                   779, 508, 567, 472, 754, 485, 528, 583, 371, 553,  44, 604, 354,  97,\n",
      "                    22, 522, 442, 361, 408, 940, 281,  45, 667,  94, 512, 941, 645, 670,\n",
      "                   200,  70, 258, 760, 636, 581, 906, 250, 523, 710, 532, 704, 615, 511,\n",
      "                   620, 929, 195, 712, 177, 158, 356, 610, 341, 656, 729, 535, 159, 791,\n",
      "                   792, 874, 489, 557, 969, 338, 786, 758, 439, 401, 359, 104, 545, 186,\n",
      "                   310, 835, 555, 855, 901, 975, 514, 654, 191, 498,  28, 486, 679, 449,\n",
      "                   481, 318, 141, 551, 413, 129, 306, 410, 626,  52, 455, 385,  88, 476,\n",
      "                   183, 682, 102, 246, 800, 284, 827, 593, 695, 944, 619, 465, 665, 652,\n",
      "                   147, 249, 837, 903, 317, 526, 146, 180, 690, 714, 850,  79, 554, 723,\n",
      "                   387, 333, 382, 240, 546, 942, 902, 777, 982, 459, 288, 736, 436,  49,\n",
      "                   964, 219, 534, 833, 748, 130, 347, 533,  37, 962, 295, 491, 775,  85,\n",
      "                   123, 175, 126, 769, 300, 625, 100, 171, 821, 424, 244,  23, 303,  21,\n",
      "                   148, 245, 564, 112, 863, 889, 215, 577, 977, 905, 631, 164, 217,  16,\n",
      "                    76, 782, 638, 480, 847, 197, 324, 517, 970, 685,   5, 771,   7, 507,\n",
      "                   890, 109, 938, 932, 696,  39, 846, 849, 344, 243, 965, 124],\n",
      "                  dtype=torch.int32), tensor([1, 1, 6, 1, 9, 6, 2, 6, 9, 1, 2, 0, 4, 4, 6, 5, 5, 1, 8, 0, 2, 9, 0, 8,\n",
      "                   5, 6, 3, 0, 8, 2, 7, 3, 2, 3, 8, 0, 2, 4, 9, 1, 8, 7, 4, 8, 7, 9, 7, 0,\n",
      "                   4, 3, 0, 8, 6, 0, 8, 8, 9, 5, 8, 0, 3, 1, 3, 7, 2, 7, 8, 0, 2, 4, 7, 0,\n",
      "                   1, 4, 7, 9, 3, 0, 6, 5, 3, 8, 1, 8, 0, 1, 6, 7, 7, 1, 7, 0, 2, 3, 3, 4,\n",
      "                   4, 2, 5, 3, 1, 0, 3, 6, 2, 7, 7, 4, 0, 4, 5, 8, 3, 9, 9, 5, 3, 4, 5, 0,\n",
      "                   6, 4, 5, 7, 7, 1, 6, 2, 1, 1, 3, 2, 2, 6, 0, 3, 0, 3, 5, 5, 0, 3, 9, 1,\n",
      "                   2, 3, 6, 3, 6, 3, 1, 3, 8, 2, 5, 2, 6, 3, 5, 4, 3, 7, 4, 2, 4, 7, 6, 8,\n",
      "                   5, 4, 1, 0, 9, 9, 1, 1, 1, 1, 8, 7, 8, 7, 1, 6, 5, 1, 0, 0, 0, 9, 3, 5,\n",
      "                   4, 3, 9, 8, 4, 4, 9, 5, 7, 4, 7, 9, 4, 8, 2, 8, 1, 0, 3, 9, 2, 6, 9, 5,\n",
      "                   1, 9, 0, 0, 2, 9, 7, 1, 4, 1, 8, 1, 1, 6, 7, 3, 3, 7, 7, 1, 1, 5, 0, 0,\n",
      "                   1, 3, 9, 4, 1, 0, 5, 6, 1, 6, 3, 3, 8, 6, 5, 8, 1, 3, 2, 4, 5, 0, 5, 5,\n",
      "                   4, 6, 3, 5, 1, 1, 9, 1, 1, 8, 0, 1, 3, 7, 2, 6, 3, 9, 1, 5, 1, 5, 2, 5,\n",
      "                   4, 2, 1, 9, 3, 2, 1, 0, 3, 0, 1, 7, 8, 7, 9, 2, 8, 6, 1, 1, 5, 4, 9, 9,\n",
      "                   3, 6, 0, 2, 8, 8, 4, 7, 5, 7, 2, 3, 4, 6, 8, 7, 6, 2, 2, 4, 1, 2, 1, 0,\n",
      "                   4, 3, 2, 5, 2, 4, 0, 3, 2, 5, 4, 0, 3, 0, 2, 7, 9, 9, 9, 3, 4, 6, 4, 8,\n",
      "                   3, 1, 3, 8, 6, 3, 9, 7, 2, 9, 8, 5, 3, 4, 9, 9, 2, 6, 4, 5, 7, 7, 8, 1,\n",
      "                   4, 6, 3, 6, 1, 3, 0, 3, 4, 5, 5, 7, 3, 2, 0, 1, 3, 4, 8, 8, 6, 0, 1, 1,\n",
      "                   1, 5, 6, 6, 8, 1, 9, 8, 8, 0, 3, 0, 2, 5, 0, 5, 3, 2, 1, 5, 3, 3, 7, 0,\n",
      "                   7, 0, 9, 2, 9, 1, 9, 5, 1, 7, 1, 1, 8, 5, 2, 2, 0, 0, 3, 8, 4, 1, 7, 1,\n",
      "                   1, 7, 1, 6, 9, 7, 3, 5, 0, 4, 3, 7, 8, 7, 6, 6, 2, 2, 7, 5, 7, 7, 9, 2,\n",
      "                   0, 6, 1, 1, 9, 4, 4, 5, 8, 4, 6, 7, 4, 9, 4, 3, 4, 5, 1, 9, 3, 8, 8, 3,\n",
      "                   8, 6, 6, 7, 6, 6, 3, 6, 2, 1, 3, 4, 3, 5, 0, 9, 5, 3, 1, 3, 9, 9, 7, 3,\n",
      "                   8, 9, 9, 2, 2, 8, 2, 3, 7, 3, 4, 2, 8, 8, 5, 5, 1, 1, 4, 2, 8, 3, 0, 1,\n",
      "                   1, 5, 2, 8, 3, 6, 9, 7, 0, 6, 2, 4, 2, 2, 0, 8, 1, 8, 6, 3, 0, 4, 7, 2,\n",
      "                   6, 5, 9, 2, 5, 7, 4, 5, 8, 6, 0, 8, 6, 7, 9, 6, 4, 8, 2, 7, 4, 9, 4, 6])),\n",
      "               names=('seeds', 'labels'),\n",
      "           ),\n",
      "           test_set=ItemSet(\n",
      "               items=(tensor([735, 173,  34,  12, 160, 934, 866, 239, 954, 873, 162, 997,  47, 293,\n",
      "                   417, 976, 699, 230, 958, 313, 653,  71, 600, 248, 499, 190, 694, 753,\n",
      "                   859, 824, 423, 881, 188, 750, 468, 103, 678, 666, 106, 864, 904, 204,\n",
      "                   357, 804, 172, 464, 157,   6, 747, 722, 839,  74, 416,  55, 981,  30,\n",
      "                   613, 924, 884, 378, 728, 697, 968, 945, 404, 927, 259, 797, 845,  51,\n",
      "                    78, 601, 178, 897, 649, 169, 803,  77, 282, 698, 269, 432, 470,  53,\n",
      "                   605, 732, 950, 749, 780, 294, 578, 841, 261, 876, 320, 655, 923, 705,\n",
      "                   573, 149, 223, 871,  67, 687, 127, 488, 717, 799, 176, 482, 629, 603,\n",
      "                    66, 234, 721,  11, 421, 460, 893, 118, 540, 430,  29, 895, 718, 434,\n",
      "                     1, 139, 961, 989, 947,  64, 993, 487, 113, 683, 355, 883,  87,  38,\n",
      "                   504, 547, 570, 255, 340, 456, 829, 765,  46, 882, 658, 805, 136, 842,\n",
      "                   426, 991, 870, 399, 247, 110, 221, 154, 770, 268, 314, 744, 228, 495,\n",
      "                   843, 140, 987, 647, 374, 588, 251, 628, 973, 966, 627, 227, 346, 351,\n",
      "                   582,  58, 798, 709, 411, 193, 751, 116, 990, 369, 447,  73, 332, 265,\n",
      "                   580, 916, 701, 919], dtype=torch.int32), tensor([8, 3, 1, 3, 8, 3, 6, 9, 9, 2, 9, 8, 8, 4, 9, 6, 4, 5, 1, 1, 7, 6, 8, 8,\n",
      "                   9, 5, 1, 5, 1, 1, 5, 2, 2, 5, 2, 8, 6, 3, 3, 3, 7, 7, 9, 8, 4, 5, 2, 3,\n",
      "                   9, 0, 2, 2, 2, 2, 4, 7, 6, 1, 2, 4, 2, 0, 6, 3, 4, 9, 0, 2, 7, 2, 9, 4,\n",
      "                   5, 3, 0, 7, 6, 4, 9, 6, 9, 5, 6, 2, 9, 1, 4, 9, 4, 9, 4, 6, 1, 5, 4, 0,\n",
      "                   5, 7, 9, 2, 1, 9, 1, 4, 9, 1, 7, 3, 4, 8, 9, 6, 9, 3, 4, 9, 8, 1, 3, 6,\n",
      "                   0, 2, 7, 5, 6, 2, 9, 5, 0, 4, 7, 9, 8, 3, 2, 2, 2, 2, 5, 7, 1, 5, 3, 2,\n",
      "                   2, 1, 4, 5, 7, 6, 6, 6, 5, 4, 0, 3, 4, 1, 4, 8, 5, 1, 1, 4, 7, 1, 9, 2,\n",
      "                   8, 7, 7, 2, 7, 5, 4, 1, 1, 9, 1, 0, 5, 9, 7, 9, 5, 3, 5, 4, 8, 0, 0, 9,\n",
      "                   5, 2, 3, 9, 8, 5, 1, 8])),\n",
      "               names=('seeds', 'labels'),\n",
      "           ),\n",
      "           metadata={'name': 'node_classification', 'num_classes': 10},)\n",
      "\n",
      "Loaded link prediction task: OnDiskTask(validation_set=ItemSet(\n",
      "               items=(tensor([[674, 457],\n",
      "                   [846, 126],\n",
      "                   [ 21, 372],\n",
      "                   ...,\n",
      "                   [773, 264],\n",
      "                   [773, 258],\n",
      "                   [773,  29]], dtype=torch.int32), tensor([1., 1., 1.,  ..., 0., 0., 0.], dtype=torch.float64), tensor([   0,    1,    2,  ..., 1999, 1999, 1999])),\n",
      "               names=('seeds', 'labels', 'indexes'),\n",
      "           ),\n",
      "           train_set=ItemSet(\n",
      "               items=(tensor([[108,  48],\n",
      "                   [213, 719],\n",
      "                   [127, 918],\n",
      "                   ...,\n",
      "                   [151, 684],\n",
      "                   [314, 708],\n",
      "                   [928, 977]], dtype=torch.int32),),\n",
      "               names=('seeds',),\n",
      "           ),\n",
      "           test_set=ItemSet(\n",
      "               items=(tensor([[889, 644],\n",
      "                   [931, 265],\n",
      "                   [300, 480],\n",
      "                   ...,\n",
      "                   [696, 650],\n",
      "                   [696, 712],\n",
      "                   [696, 314]], dtype=torch.int32), tensor([1., 1., 1.,  ..., 0., 0., 0.], dtype=torch.float64), tensor([   0,    1,    2,  ..., 1999, 1999, 1999])),\n",
      "               names=('seeds', 'labels', 'indexes'),\n",
      "           ),\n",
      "           metadata={'name': 'link_prediction', 'num_classes': 10},)\n",
      "\n"
     ]
    },
    {
     "name": "stderr",
     "output_type": "stream",
     "text": [
      "/home/ubuntu/regression_test/dgl/python/dgl/graphbolt/internal/utils.py:31: FutureWarning: You are using `torch.load` with `weights_only=False` (the current default value), which uses the default pickle module implicitly. It is possible to construct malicious pickle data which will execute arbitrary code during unpickling (See https://github.com/pytorch/pytorch/blob/main/SECURITY.md#untrusted-models for more details). In a future release, the default value for `weights_only` will be flipped to `True`. This limits the functions that could be executed during unpickling. Arbitrary objects will no longer be allowed to be loaded via this mode unless they are explicitly allowlisted by the user via `torch.serialization.add_safe_globals`. We recommend you start setting `weights_only=True` for any use case where you don't have full control of the loaded file. Please open an issue on GitHub for any issues related to this experimental feature.\n",
      "  return torch.load(path)\n",
      "/home/ubuntu/regression_test/dgl/python/dgl/graphbolt/impl/ondisk_dataset.py:463: GBWarning: Edge feature is stored, but edge IDs are not saved.\n",
      "  gb_warning(\"Edge feature is stored, but edge IDs are not saved.\")\n",
      "/home/ubuntu/regression_test/dgl/python/dgl/graphbolt/impl/ondisk_dataset.py:855: FutureWarning: You are using `torch.load` with `weights_only=False` (the current default value), which uses the default pickle module implicitly. It is possible to construct malicious pickle data which will execute arbitrary code during unpickling (See https://github.com/pytorch/pytorch/blob/main/SECURITY.md#untrusted-models for more details). In a future release, the default value for `weights_only` will be flipped to `True`. This limits the functions that could be executed during unpickling. Arbitrary objects will no longer be allowed to be loaded via this mode unless they are explicitly allowlisted by the user via `torch.serialization.add_safe_globals`. We recommend you start setting `weights_only=True` for any use case where you don't have full control of the loaded file. Please open an issue on GitHub for any issues related to this experimental feature.\n",
      "  return torch.load(graph_topology.path)\n"
     ]
    }
   ],
   "source": [
    "dataset = gb.OnDiskDataset(base_dir).load()\n",
    "graph = dataset.graph\n",
    "print(f\"Loaded graph: {graph}\\n\")\n",
    "\n",
    "feature = dataset.feature\n",
    "print(f\"Loaded feature store: {feature}\\n\")\n",
    "\n",
    "tasks = dataset.tasks\n",
    "nc_task = tasks[0]\n",
    "print(f\"Loaded node classification task: {nc_task}\\n\")\n",
    "lp_task = tasks[1]\n",
    "print(f\"Loaded link prediction task: {lp_task}\\n\")"
   ]
  }
 ],
 "metadata": {
  "colab": {
   "private_outputs": true,
   "provenance": []
  },
  "kernelspec": {
   "display_name": "Python 3",
   "name": "python3"
  },
  "language_info": {
   "codemirror_mode": {
    "name": "ipython",
    "version": 3
   },
   "file_extension": ".py",
   "mimetype": "text/x-python",
   "name": "python",
   "nbconvert_exporter": "python",
   "pygments_lexer": "ipython3",
   "version": "3.10.14"
  }
 },
 "nbformat": 4,
 "nbformat_minor": 0
}
